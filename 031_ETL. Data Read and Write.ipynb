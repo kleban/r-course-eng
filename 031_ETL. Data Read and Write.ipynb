{
 "cells": [
  {
   "cell_type": "markdown",
   "id": "e723050a",
   "metadata": {},
   "source": [
    "# Reading and writing data\n",
    "\n",
    "---\n",
    "\n",
    "## Fundamentals of ETL: data extraction, transformation and loading\n",
    "\n",
    "\n",
    "Applied Mathematical Modeling in Banking"
   ]
  },
  {
   "cell_type": "markdown",
   "id": "b1bd75d3",
   "metadata": {},
   "source": [
    "---"
   ]
  },
  {
   "cell_type": "markdown",
   "id": "ab820065",
   "metadata": {},
   "source": [
    "# Table of contents"
   ]
  },
  {
   "cell_type": "markdown",
   "id": "cb606911",
   "metadata": {},
   "source": [
    "1. Comma Separated Values (CSV)\n",
    "\n",
    "2. MS Excel (Open XML / XLSX)\n",
    "\n",
    "2. eXtensible Markup Language (XML)\n",
    "\n",
    "3. JavaScript Object Notation (JSON) and API \n",
    "\n",
    "5. Google Services\n",
    "\n",
    "    5.1. Spreadsheets    \n",
    "    5.2. Trends\n",
    "    \n",
    "6. SQL (SQLite sample)\n",
    "\n",
    "7. Web-pages (HTML)"
   ]
  },
  {
   "cell_type": "markdown",
   "id": "b28061ae",
   "metadata": {},
   "source": [
    "---"
   ]
  },
  {
   "cell_type": "markdown",
   "id": "5e1d45fe",
   "metadata": {},
   "source": [
    "There are many data source types for data storing, reading. Let's review and try some of them."
   ]
  },
  {
   "cell_type": "markdown",
   "id": "9c0b45be",
   "metadata": {},
   "source": [
    "# 1. CSV\n"
   ]
  },
  {
   "cell_type": "markdown",
   "id": "18b26f33",
   "metadata": {},
   "source": [
    "`CSV` - comma separated values."
   ]
  },
  {
   "cell_type": "code",
   "execution_count": 2,
   "id": "c2674c13",
   "metadata": {},
   "outputs": [
    {
     "data": {
      "text/html": [
       "'E:/Repos/YuRa/r-course-eng'"
      ],
      "text/latex": [
       "'E:/Repos/YuRa/r-course-eng'"
      ],
      "text/markdown": [
       "'E:/Repos/YuRa/r-course-eng'"
      ],
      "text/plain": [
       "[1] \"E:/Repos/YuRa/r-course-eng\""
      ]
     },
     "metadata": {},
     "output_type": "display_data"
    }
   ],
   "source": [
    "# lets check current working directory to write correct files path\n",
    "getwd()"
   ]
  },
  {
   "cell_type": "markdown",
   "id": "6449efe7",
   "metadata": {},
   "source": [
    "You can use `/` or `\\\\` for writing correct path in R. For example:"
   ]
  },
  {
   "cell_type": "code",
   "execution_count": 3,
   "id": "fd0ead12",
   "metadata": {},
   "outputs": [],
   "source": [
    "path = \"d:/projects/file.csv\"\n",
    "path = \"d:\\\\projects\\\\file.csv\""
   ]
  },
  {
   "cell_type": "markdown",
   "id": "2dcafbc8",
   "metadata": {},
   "source": [
    "To combine path use `paste()` or `paste0()` functions"
   ]
  },
  {
   "cell_type": "code",
   "execution_count": 6,
   "id": "0bd853c6",
   "metadata": {},
   "outputs": [
    {
     "data": {
      "text/html": [
       "'E:/Repos/YuRa/r-course-eng'"
      ],
      "text/latex": [
       "'E:/Repos/YuRa/r-course-eng'"
      ],
      "text/markdown": [
       "'E:/Repos/YuRa/r-course-eng'"
      ],
      "text/plain": [
       "[1] \"E:/Repos/YuRa/r-course-eng\""
      ]
     },
     "metadata": {},
     "output_type": "display_data"
    }
   ],
   "source": [
    "work_dir = getwd()\n",
    "work_dir "
   ]
  },
  {
   "cell_type": "code",
   "execution_count": 8,
   "id": "ac3f34a4",
   "metadata": {},
   "outputs": [
    {
     "data": {
      "text/html": [
       "'E:/Repos/YuRa/r-course-eng/temp_file.csv'"
      ],
      "text/latex": [
       "'E:/Repos/YuRa/r-course-eng/temp\\_file.csv'"
      ],
      "text/markdown": [
       "'E:/Repos/YuRa/r-course-eng/temp_file.csv'"
      ],
      "text/plain": [
       "[1] \"E:/Repos/YuRa/r-course-eng/temp_file.csv\""
      ]
     },
     "metadata": {},
     "output_type": "display_data"
    }
   ],
   "source": [
    "file_name = \"temp_file.csv\"\n",
    "file_path = paste0(work_dir, \"/\", file_name)\n",
    "file_path"
   ]
  },
  {
   "cell_type": "code",
   "execution_count": 11,
   "id": "feab3f6b",
   "metadata": {},
   "outputs": [
    {
     "data": {
      "text/html": [
       "'E:/Repos/YuRa/r-course-eng/temp_file.csv'"
      ],
      "text/latex": [
       "'E:/Repos/YuRa/r-course-eng/temp\\_file.csv'"
      ],
      "text/markdown": [
       "'E:/Repos/YuRa/r-course-eng/temp_file.csv'"
      ],
      "text/plain": [
       "[1] \"E:/Repos/YuRa/r-course-eng/temp_file.csv\""
      ]
     },
     "metadata": {},
     "output_type": "display_data"
    }
   ],
   "source": [
    "file_path = paste(work_dir, file_name, sep = \"/\")\n",
    "file_path"
   ]
  },
  {
   "cell_type": "markdown",
   "id": "6e9c7769",
   "metadata": {},
   "source": [
    "#### Sample dataset description"
   ]
  },
  {
   "cell_type": "markdown",
   "id": "5d719bf8",
   "metadata": {},
   "source": [
    "Information about dataset from [kaggle.com](kaggle.com).\n",
    "Original file located at url: [https://www.kaggle.com/radmirzosimov/telecom-users-dataset](https://www.kaggle.com/radmirzosimov/telecom-users-dataset)."
   ]
  },
  {
   "cell_type": "markdown",
   "id": "4c7136eb",
   "metadata": {},
   "source": [
    "Any business wants to maximize the number of customers. To achieve this goal, it is important not only to try to attract new ones, but also to retain existing ones. Retaining a client will cost the company less than attracting a new one. In addition, a new client may be weakly interested in business services and it will be difficult to work with him, while old clients already have the necessary data on interaction with the service.\n",
    "\n",
    "Accordingly, predicting the churn, we can react in time and try to keep the client who wants to leave. Based on the data about the services that the client uses, we can make him a special offer, trying to change his decision to leave the operator. This will make the task of retention easier to implement than the task of attracting new users, about which we do not know anything yet.\n",
    "\n",
    "You are provided with a dataset from a telecommunications company. The data contains information about almost six thousand users, their demographic characteristics, the services they use, the duration of using the operator's services, the method of payment, and the amount of payment.\n",
    "\n",
    "The task is to analyze the data and predict the churn of users (to identify people who will and will not renew their contract). The work should include the following mandatory items:\n",
    "\n",
    "1. Description of the data (with the calculation of basic statistics);\n",
    "2. Research of dependencies and formulation of hypotheses;\n",
    "3. Building models for predicting the outflow (with justification for the choice of a particular model) 4. based on tested hypotheses and identified relationships;\n",
    "5. Comparison of the quality of the obtained models.\n",
    "\n",
    "**Fields description:**\n",
    "\n",
    "- [x] `customerID` - customer id\n",
    "- [x] `gender` - client gender (male / female)\n",
    "- [x] `SeniorCitizen` - is the client retired (1, 0)\n",
    "- [x] `Partner` - is the client married (Yes, No)\n",
    "- [x] `tenure` - how many months a person has been a client of the company\n",
    "- [x] `PhoneService` - is the telephone service connected (Yes, No)\n",
    "- [x] `MultipleLines` - are multiple phone lines connected (Yes, No, No phone service)\n",
    "- [x] `InternetService` - client's Internet service provider (DSL, Fiber optic, No)\n",
    "- [x] `OnlineSecurity` - is the online security service connected (Yes, No, No internet service)\n",
    "- [x] `OnlineBackup` - is the online backup service activated (Yes, No, No internet service)\n",
    "- [x] `DeviceProtection` - does the client have equipment insurance (Yes, No, No internet service)\n",
    "- [x] `TechSupport` - is the technical support service connected (Yes, No, No internet service)\n",
    "- [x] `StreamingTV` - is the streaming TV service connected (Yes, No, No internet service)\n",
    "- [x] `StreamingMovies` - is the streaming cinema service activated (Yes, No, No internet service)\n",
    "- [x] `Contract` - type of customer contract (Month-to-month, One year, Two year)\n",
    "- [x] `PaperlessBilling` - whether the client uses paperless billing (Yes, No)\n",
    "- [x] `PaymentMethod` - payment method (Electronic check, Mailed check, Bank transfer (automatic), Credit card (automatic))\n",
    "- [x] `MonthlyCharges` - current monthly payment\n",
    "- [x] `TotalCharges` - the total amount that the client paid for the services for the entire time\n",
    "- [x] `Churn - whether` there was a churn (Yes or No)\n"
   ]
  },
  {
   "cell_type": "markdown",
   "id": "b7cc3185",
   "metadata": {},
   "source": [
    "Thare are few methods for reading/writing csv in `base` package:"
   ]
  },
  {
   "cell_type": "markdown",
   "id": "fc1ee13b",
   "metadata": {},
   "source": [
    "- [x] `read.csv()`, `write.csv` - default data separator is `,`, decimal is separator `.`.\n",
    "- [x] `read.csv2()`, `write.csv2` - default data separator is `;`, decimal is separator `,`."
   ]
  },
  {
   "cell_type": "markdown",
   "id": "402a77b2",
   "metadata": {},
   "source": [
    "Before using any new function check it usage information with `help(function_name)` or `?function_name`, example: **`?read.csv`**."
   ]
  },
  {
   "cell_type": "markdown",
   "id": "ab6483c6",
   "metadata": {},
   "source": [
    "You can read (current data set has NA values as example, there are no NA in original datase):"
   ]
  },
  {
   "cell_type": "code",
   "execution_count": 18,
   "id": "db7e47a1",
   "metadata": {},
   "outputs": [],
   "source": [
    "data <- read.csv(\"data/telecom_users.csv\") # default reading"
   ]
  },
  {
   "cell_type": "code",
   "execution_count": 20,
   "id": "676d322c",
   "metadata": {},
   "outputs": [],
   "source": [
    "data <- read.csv(\"data/telecom_users.csv\",\n",
    "                  sep = \",\", # comma not only possibel separator\n",
    "                  dec = \".\", # decimal separator can be different\n",
    "                  na.strings = c(\"\", \"NA\", \"NULL\")) # you can define NA values"
   ]
  },
  {
   "cell_type": "code",
   "execution_count": 22,
   "id": "dcb23838",
   "metadata": {},
   "outputs": [
    {
     "name": "stdout",
     "output_type": "stream",
     "text": [
      "'data.frame':\t5986 obs. of  22 variables:\n",
      " $ X               : int  1869 4528 6344 6739 432 2215 5260 6001 1480 5137 ...\n",
      " $ customerID      : chr  \"7010-BRBUU\" \"9688-YGXVR\" \"9286-DOJGF\" \"6994-KERXL\" ...\n",
      " $ gender          : chr  \"Male\" \"Female\" \"Female\" \"Male\" ...\n",
      " $ SeniorCitizen   : int  0 0 1 0 0 0 0 0 0 1 ...\n",
      " $ Partner         : chr  \"Yes\" \"No\" \"Yes\" \"No\" ...\n",
      " $ Dependents      : chr  \"Yes\" \"No\" \"No\" \"No\" ...\n",
      " $ tenure          : int  72 44 38 4 2 70 33 1 39 55 ...\n",
      " $ PhoneService    : chr  \"Yes\" \"Yes\" \"Yes\" \"Yes\" ...\n",
      " $ MultipleLines   : chr  \"Yes\" \"No\" \"Yes\" \"No\" ...\n",
      " $ InternetService : chr  \"No\" \"Fiber optic\" \"Fiber optic\" \"DSL\" ...\n",
      " $ OnlineSecurity  : chr  \"No internet service\" \"No\" \"No\" \"No\" ...\n",
      " $ OnlineBackup    : chr  \"No internet service\" \"Yes\" \"No\" \"No\" ...\n",
      " $ DeviceProtection: chr  \"No internet service\" \"Yes\" \"No\" \"No\" ...\n",
      " $ TechSupport     : chr  \"No internet service\" \"No\" \"No\" \"No\" ...\n",
      " $ StreamingTV     : chr  \"No internet service\" \"Yes\" \"No\" \"No\" ...\n",
      " $ StreamingMovies : chr  \"No internet service\" \"No\" \"No\" \"Yes\" ...\n",
      " $ Contract        : chr  \"Two year\" \"Month-to-month\" \"Month-to-month\" \"Month-to-month\" ...\n",
      " $ PaperlessBilling: chr  \"No\" \"Yes\" \"Yes\" \"Yes\" ...\n",
      " $ PaymentMethod   : chr  \"Credit card (automatic)\" \"Credit card (automatic)\" \"Bank transfer (automatic)\" \"Electronic check\" ...\n",
      " $ MonthlyCharges  : num  24.1 88.2 75 55.9 53.5 ...\n",
      " $ TotalCharges    : num  1735 3973 2870 238 120 ...\n",
      " $ Churn           : chr  \"No\" \"No\" \"Yes\" \"No\" ...\n"
     ]
    }
   ],
   "source": [
    "str(data) # chack data structure / types/ values"
   ]
  },
  {
   "cell_type": "code",
   "execution_count": 25,
   "id": "9c78c358",
   "metadata": {},
   "outputs": [
    {
     "data": {
      "text/html": [
       "<table class=\"dataframe\">\n",
       "<caption>A data.frame: 6 × 22</caption>\n",
       "<thead>\n",
       "\t<tr><th></th><th scope=col>X</th><th scope=col>customerID</th><th scope=col>gender</th><th scope=col>SeniorCitizen</th><th scope=col>Partner</th><th scope=col>Dependents</th><th scope=col>tenure</th><th scope=col>PhoneService</th><th scope=col>MultipleLines</th><th scope=col>InternetService</th><th scope=col>...</th><th scope=col>DeviceProtection</th><th scope=col>TechSupport</th><th scope=col>StreamingTV</th><th scope=col>StreamingMovies</th><th scope=col>Contract</th><th scope=col>PaperlessBilling</th><th scope=col>PaymentMethod</th><th scope=col>MonthlyCharges</th><th scope=col>TotalCharges</th><th scope=col>Churn</th></tr>\n",
       "\t<tr><th></th><th scope=col>&lt;int&gt;</th><th scope=col>&lt;chr&gt;</th><th scope=col>&lt;chr&gt;</th><th scope=col>&lt;int&gt;</th><th scope=col>&lt;chr&gt;</th><th scope=col>&lt;chr&gt;</th><th scope=col>&lt;int&gt;</th><th scope=col>&lt;chr&gt;</th><th scope=col>&lt;chr&gt;</th><th scope=col>&lt;chr&gt;</th><th scope=col>...</th><th scope=col>&lt;chr&gt;</th><th scope=col>&lt;chr&gt;</th><th scope=col>&lt;chr&gt;</th><th scope=col>&lt;chr&gt;</th><th scope=col>&lt;chr&gt;</th><th scope=col>&lt;chr&gt;</th><th scope=col>&lt;chr&gt;</th><th scope=col>&lt;dbl&gt;</th><th scope=col>&lt;dbl&gt;</th><th scope=col>&lt;chr&gt;</th></tr>\n",
       "</thead>\n",
       "<tbody>\n",
       "\t<tr><th scope=row>1</th><td>1869</td><td>7010-BRBUU</td><td>Male  </td><td>0</td><td>Yes</td><td>Yes</td><td>72</td><td>Yes</td><td>Yes             </td><td>No         </td><td>...</td><td>No internet service</td><td>No internet service</td><td>No internet service</td><td>No internet service</td><td>Two year      </td><td>No </td><td>Credit card (automatic)  </td><td>24.10</td><td>1734.65</td><td>No </td></tr>\n",
       "\t<tr><th scope=row>2</th><td>4528</td><td>9688-YGXVR</td><td>Female</td><td>0</td><td>No </td><td>No </td><td>44</td><td>Yes</td><td>No              </td><td>Fiber optic</td><td>...</td><td>Yes                </td><td>No                 </td><td>Yes                </td><td>No                 </td><td>Month-to-month</td><td>Yes</td><td>Credit card (automatic)  </td><td>88.15</td><td>3973.20</td><td>No </td></tr>\n",
       "\t<tr><th scope=row>3</th><td>6344</td><td>9286-DOJGF</td><td>Female</td><td>1</td><td>Yes</td><td>No </td><td>38</td><td>Yes</td><td>Yes             </td><td>Fiber optic</td><td>...</td><td>No                 </td><td>No                 </td><td>No                 </td><td>No                 </td><td>Month-to-month</td><td>Yes</td><td>Bank transfer (automatic)</td><td>74.95</td><td>2869.85</td><td>Yes</td></tr>\n",
       "\t<tr><th scope=row>4</th><td>6739</td><td>6994-KERXL</td><td>Male  </td><td>0</td><td>No </td><td>No </td><td> 4</td><td>Yes</td><td>No              </td><td>DSL        </td><td>...</td><td>No                 </td><td>No                 </td><td>No                 </td><td>Yes                </td><td>Month-to-month</td><td>Yes</td><td>Electronic check         </td><td>55.90</td><td> 238.50</td><td>No </td></tr>\n",
       "\t<tr><th scope=row>5</th><td> 432</td><td>2181-UAESM</td><td>Male  </td><td>0</td><td>No </td><td>No </td><td> 2</td><td>Yes</td><td>No              </td><td>DSL        </td><td>...</td><td>Yes                </td><td>No                 </td><td>No                 </td><td>No                 </td><td>Month-to-month</td><td>No </td><td>Electronic check         </td><td>53.45</td><td> 119.50</td><td>No </td></tr>\n",
       "\t<tr><th scope=row>6</th><td>2215</td><td>4312-GVYNH</td><td>Female</td><td>0</td><td>Yes</td><td>No </td><td>70</td><td>No </td><td>No phone service</td><td>DSL        </td><td>...</td><td>Yes                </td><td>Yes                </td><td>No                 </td><td>Yes                </td><td>Two year      </td><td>Yes</td><td>Bank transfer (automatic)</td><td>49.85</td><td>3370.20</td><td>No </td></tr>\n",
       "</tbody>\n",
       "</table>\n"
      ],
      "text/latex": [
       "A data.frame: 6 × 22\n",
       "\\begin{tabular}{r|lllllllllllllllllllll}\n",
       "  & X & customerID & gender & SeniorCitizen & Partner & Dependents & tenure & PhoneService & MultipleLines & InternetService & ... & DeviceProtection & TechSupport & StreamingTV & StreamingMovies & Contract & PaperlessBilling & PaymentMethod & MonthlyCharges & TotalCharges & Churn\\\\\n",
       "  & <int> & <chr> & <chr> & <int> & <chr> & <chr> & <int> & <chr> & <chr> & <chr> & ... & <chr> & <chr> & <chr> & <chr> & <chr> & <chr> & <chr> & <dbl> & <dbl> & <chr>\\\\\n",
       "\\hline\n",
       "\t1 & 1869 & 7010-BRBUU & Male   & 0 & Yes & Yes & 72 & Yes & Yes              & No          & ... & No internet service & No internet service & No internet service & No internet service & Two year       & No  & Credit card (automatic)   & 24.10 & 1734.65 & No \\\\\n",
       "\t2 & 4528 & 9688-YGXVR & Female & 0 & No  & No  & 44 & Yes & No               & Fiber optic & ... & Yes                 & No                  & Yes                 & No                  & Month-to-month & Yes & Credit card (automatic)   & 88.15 & 3973.20 & No \\\\\n",
       "\t3 & 6344 & 9286-DOJGF & Female & 1 & Yes & No  & 38 & Yes & Yes              & Fiber optic & ... & No                  & No                  & No                  & No                  & Month-to-month & Yes & Bank transfer (automatic) & 74.95 & 2869.85 & Yes\\\\\n",
       "\t4 & 6739 & 6994-KERXL & Male   & 0 & No  & No  &  4 & Yes & No               & DSL         & ... & No                  & No                  & No                  & Yes                 & Month-to-month & Yes & Electronic check          & 55.90 &  238.50 & No \\\\\n",
       "\t5 &  432 & 2181-UAESM & Male   & 0 & No  & No  &  2 & Yes & No               & DSL         & ... & Yes                 & No                  & No                  & No                  & Month-to-month & No  & Electronic check          & 53.45 &  119.50 & No \\\\\n",
       "\t6 & 2215 & 4312-GVYNH & Female & 0 & Yes & No  & 70 & No  & No phone service & DSL         & ... & Yes                 & Yes                 & No                  & Yes                 & Two year       & Yes & Bank transfer (automatic) & 49.85 & 3370.20 & No \\\\\n",
       "\\end{tabular}\n"
      ],
      "text/markdown": [
       "\n",
       "A data.frame: 6 × 22\n",
       "\n",
       "| <!--/--> | X &lt;int&gt; | customerID &lt;chr&gt; | gender &lt;chr&gt; | SeniorCitizen &lt;int&gt; | Partner &lt;chr&gt; | Dependents &lt;chr&gt; | tenure &lt;int&gt; | PhoneService &lt;chr&gt; | MultipleLines &lt;chr&gt; | InternetService &lt;chr&gt; | ... ... | DeviceProtection &lt;chr&gt; | TechSupport &lt;chr&gt; | StreamingTV &lt;chr&gt; | StreamingMovies &lt;chr&gt; | Contract &lt;chr&gt; | PaperlessBilling &lt;chr&gt; | PaymentMethod &lt;chr&gt; | MonthlyCharges &lt;dbl&gt; | TotalCharges &lt;dbl&gt; | Churn &lt;chr&gt; |\n",
       "|---|---|---|---|---|---|---|---|---|---|---|---|---|---|---|---|---|---|---|---|---|---|\n",
       "| 1 | 1869 | 7010-BRBUU | Male   | 0 | Yes | Yes | 72 | Yes | Yes              | No          | ... | No internet service | No internet service | No internet service | No internet service | Two year       | No  | Credit card (automatic)   | 24.10 | 1734.65 | No  |\n",
       "| 2 | 4528 | 9688-YGXVR | Female | 0 | No  | No  | 44 | Yes | No               | Fiber optic | ... | Yes                 | No                  | Yes                 | No                  | Month-to-month | Yes | Credit card (automatic)   | 88.15 | 3973.20 | No  |\n",
       "| 3 | 6344 | 9286-DOJGF | Female | 1 | Yes | No  | 38 | Yes | Yes              | Fiber optic | ... | No                  | No                  | No                  | No                  | Month-to-month | Yes | Bank transfer (automatic) | 74.95 | 2869.85 | Yes |\n",
       "| 4 | 6739 | 6994-KERXL | Male   | 0 | No  | No  |  4 | Yes | No               | DSL         | ... | No                  | No                  | No                  | Yes                 | Month-to-month | Yes | Electronic check          | 55.90 |  238.50 | No  |\n",
       "| 5 |  432 | 2181-UAESM | Male   | 0 | No  | No  |  2 | Yes | No               | DSL         | ... | Yes                 | No                  | No                  | No                  | Month-to-month | No  | Electronic check          | 53.45 |  119.50 | No  |\n",
       "| 6 | 2215 | 4312-GVYNH | Female | 0 | Yes | No  | 70 | No  | No phone service | DSL         | ... | Yes                 | Yes                 | No                  | Yes                 | Two year       | Yes | Bank transfer (automatic) | 49.85 | 3370.20 | No  |\n",
       "\n"
      ],
      "text/plain": [
       "  X    customerID gender SeniorCitizen Partner Dependents tenure PhoneService\n",
       "1 1869 7010-BRBUU Male   0             Yes     Yes        72     Yes         \n",
       "2 4528 9688-YGXVR Female 0             No      No         44     Yes         \n",
       "3 6344 9286-DOJGF Female 1             Yes     No         38     Yes         \n",
       "4 6739 6994-KERXL Male   0             No      No          4     Yes         \n",
       "5  432 2181-UAESM Male   0             No      No          2     Yes         \n",
       "6 2215 4312-GVYNH Female 0             Yes     No         70     No          \n",
       "  MultipleLines    InternetService ... DeviceProtection    TechSupport        \n",
       "1 Yes              No              ... No internet service No internet service\n",
       "2 No               Fiber optic     ... Yes                 No                 \n",
       "3 Yes              Fiber optic     ... No                  No                 \n",
       "4 No               DSL             ... No                  No                 \n",
       "5 No               DSL             ... Yes                 No                 \n",
       "6 No phone service DSL             ... Yes                 Yes                \n",
       "  StreamingTV         StreamingMovies     Contract       PaperlessBilling\n",
       "1 No internet service No internet service Two year       No              \n",
       "2 Yes                 No                  Month-to-month Yes             \n",
       "3 No                  No                  Month-to-month Yes             \n",
       "4 No                  Yes                 Month-to-month Yes             \n",
       "5 No                  No                  Month-to-month No              \n",
       "6 No                  Yes                 Two year       Yes             \n",
       "  PaymentMethod             MonthlyCharges TotalCharges Churn\n",
       "1 Credit card (automatic)   24.10          1734.65      No   \n",
       "2 Credit card (automatic)   88.15          3973.20      No   \n",
       "3 Bank transfer (automatic) 74.95          2869.85      Yes  \n",
       "4 Electronic check          55.90           238.50      No   \n",
       "5 Electronic check          53.45           119.50      No   \n",
       "6 Bank transfer (automatic) 49.85          3370.20      No   "
      ]
     },
     "metadata": {},
     "output_type": "display_data"
    }
   ],
   "source": [
    "head(data) # top 6 rows, use n = X, for viewing top X lines"
   ]
  },
  {
   "cell_type": "code",
   "execution_count": 27,
   "id": "3a600632",
   "metadata": {},
   "outputs": [
    {
     "data": {
      "text/html": [
       "TRUE"
      ],
      "text/latex": [
       "TRUE"
      ],
      "text/markdown": [
       "TRUE"
      ],
      "text/plain": [
       "[1] TRUE"
      ]
     },
     "metadata": {},
     "output_type": "display_data"
    }
   ],
   "source": [
    "is.data.frame(data) # if data is data.frame"
   ]
  },
  {
   "cell_type": "code",
   "execution_count": 29,
   "id": "e3b2e346",
   "metadata": {},
   "outputs": [
    {
     "data": {
      "text/html": [
       "TRUE"
      ],
      "text/latex": [
       "TRUE"
      ],
      "text/markdown": [
       "TRUE"
      ],
      "text/plain": [
       "[1] TRUE"
      ]
     },
     "metadata": {},
     "output_type": "display_data"
    }
   ],
   "source": [
    "any(is.na(data)) # if dataframe contains any NA values"
   ]
  },
  {
   "cell_type": "code",
   "execution_count": 32,
   "id": "66b3a4c8",
   "metadata": {},
   "outputs": [
    {
     "data": {
      "text/html": [
       "<style>\n",
       ".dl-inline {width: auto; margin:0; padding: 0}\n",
       ".dl-inline>dt, .dl-inline>dd {float: none; width: auto; display: inline-block}\n",
       ".dl-inline>dt::after {content: \":\\0020\"; padding-right: .5ex}\n",
       ".dl-inline>dt:not(:first-of-type) {padding-left: .5ex}\n",
       "</style><dl class=dl-inline><dt>X</dt><dd>FALSE</dd><dt>customerID</dt><dd>FALSE</dd><dt>gender</dt><dd>FALSE</dd><dt>SeniorCitizen</dt><dd>FALSE</dd><dt>Partner</dt><dd>FALSE</dd><dt>Dependents</dt><dd>FALSE</dd><dt>tenure</dt><dd>FALSE</dd><dt>PhoneService</dt><dd>FALSE</dd><dt>MultipleLines</dt><dd>FALSE</dd><dt>InternetService</dt><dd>FALSE</dd><dt>OnlineSecurity</dt><dd>FALSE</dd><dt>OnlineBackup</dt><dd>FALSE</dd><dt>DeviceProtection</dt><dd>FALSE</dd><dt>TechSupport</dt><dd>FALSE</dd><dt>StreamingTV</dt><dd>FALSE</dd><dt>StreamingMovies</dt><dd>FALSE</dd><dt>Contract</dt><dd>FALSE</dd><dt>PaperlessBilling</dt><dd>FALSE</dd><dt>PaymentMethod</dt><dd>FALSE</dd><dt>MonthlyCharges</dt><dd>TRUE</dd><dt>TotalCharges</dt><dd>TRUE</dd><dt>Churn</dt><dd>FALSE</dd></dl>\n"
      ],
      "text/latex": [
       "\\begin{description*}\n",
       "\\item[X] FALSE\n",
       "\\item[customerID] FALSE\n",
       "\\item[gender] FALSE\n",
       "\\item[SeniorCitizen] FALSE\n",
       "\\item[Partner] FALSE\n",
       "\\item[Dependents] FALSE\n",
       "\\item[tenure] FALSE\n",
       "\\item[PhoneService] FALSE\n",
       "\\item[MultipleLines] FALSE\n",
       "\\item[InternetService] FALSE\n",
       "\\item[OnlineSecurity] FALSE\n",
       "\\item[OnlineBackup] FALSE\n",
       "\\item[DeviceProtection] FALSE\n",
       "\\item[TechSupport] FALSE\n",
       "\\item[StreamingTV] FALSE\n",
       "\\item[StreamingMovies] FALSE\n",
       "\\item[Contract] FALSE\n",
       "\\item[PaperlessBilling] FALSE\n",
       "\\item[PaymentMethod] FALSE\n",
       "\\item[MonthlyCharges] TRUE\n",
       "\\item[TotalCharges] TRUE\n",
       "\\item[Churn] FALSE\n",
       "\\end{description*}\n"
      ],
      "text/markdown": [
       "X\n",
       ":   FALSEcustomerID\n",
       ":   FALSEgender\n",
       ":   FALSESeniorCitizen\n",
       ":   FALSEPartner\n",
       ":   FALSEDependents\n",
       ":   FALSEtenure\n",
       ":   FALSEPhoneService\n",
       ":   FALSEMultipleLines\n",
       ":   FALSEInternetService\n",
       ":   FALSEOnlineSecurity\n",
       ":   FALSEOnlineBackup\n",
       ":   FALSEDeviceProtection\n",
       ":   FALSETechSupport\n",
       ":   FALSEStreamingTV\n",
       ":   FALSEStreamingMovies\n",
       ":   FALSEContract\n",
       ":   FALSEPaperlessBilling\n",
       ":   FALSEPaymentMethod\n",
       ":   FALSEMonthlyCharges\n",
       ":   TRUETotalCharges\n",
       ":   TRUEChurn\n",
       ":   FALSE\n",
       "\n"
      ],
      "text/plain": [
       "               X       customerID           gender    SeniorCitizen \n",
       "           FALSE            FALSE            FALSE            FALSE \n",
       "         Partner       Dependents           tenure     PhoneService \n",
       "           FALSE            FALSE            FALSE            FALSE \n",
       "   MultipleLines  InternetService   OnlineSecurity     OnlineBackup \n",
       "           FALSE            FALSE            FALSE            FALSE \n",
       "DeviceProtection      TechSupport      StreamingTV  StreamingMovies \n",
       "           FALSE            FALSE            FALSE            FALSE \n",
       "        Contract PaperlessBilling    PaymentMethod   MonthlyCharges \n",
       "           FALSE            FALSE            FALSE             TRUE \n",
       "    TotalCharges            Churn \n",
       "            TRUE            FALSE "
      ]
     },
     "metadata": {},
     "output_type": "display_data"
    }
   ],
   "source": [
    "apply(is.na(data), 2, any) #check NA by 2nd dimension - columns"
   ]
  },
  {
   "cell_type": "markdown",
   "id": "ce9c0111",
   "metadata": {},
   "source": [
    "Check `MonthlyCharges: TRUE` and `TotalCharges: TRUE`. These columns has NA-values."
   ]
  },
  {
   "cell_type": "markdown",
   "id": "8c21e435",
   "metadata": {},
   "source": [
    "Let's replace them with `mean`: "
   ]
  },
  {
   "cell_type": "code",
   "execution_count": 35,
   "id": "ec14d746",
   "metadata": {},
   "outputs": [],
   "source": [
    "data[is.na(data$TotalCharges), \"TotalCharges\"] <- mean(data$TotalCharges, na.rm = T)\n",
    "data[is.na(data$MonthlyCharges), \"MonthlyCharges\"] <- mean(data$MonthlyCharges, na.rm = T)"
   ]
  },
  {
   "cell_type": "code",
   "execution_count": 37,
   "id": "49ef338d",
   "metadata": {},
   "outputs": [
    {
     "data": {
      "text/html": [
       "FALSE"
      ],
      "text/latex": [
       "FALSE"
      ],
      "text/markdown": [
       "FALSE"
      ],
      "text/plain": [
       "[1] FALSE"
      ]
     },
     "metadata": {},
     "output_type": "display_data"
    }
   ],
   "source": [
    "any(is.na(data)) # check for NA"
   ]
  },
  {
   "cell_type": "markdown",
   "id": "2d86ff80",
   "metadata": {},
   "source": [
    "You can write data with `write.csv()`, `write.csv2()` from `base` package."
   ]
  },
  {
   "cell_type": "code",
   "execution_count": 43,
   "id": "ab12a49f",
   "metadata": {},
   "outputs": [],
   "source": [
    "write.csv(data, file = \"data/cleaned_data.csv\", row.names = F)\n",
    "# by default row.names = TRUE and file will contain first column with row numbers 1,2, ..., N"
   ]
  },
  {
   "cell_type": "markdown",
   "id": "d93a3360",
   "metadata": {},
   "source": [
    "One more useful package is `readr`. Examples of using:"
   ]
  },
  {
   "cell_type": "code",
   "execution_count": null,
   "id": "8c2c8b32",
   "metadata": {},
   "outputs": [],
   "source": [
    "`#install.packages(“readr”)\n",
    "library(readr)\n",
    "data <- read_csv(file = \"data/telecom_users.csv\", … )\n",
    "data <- read_csv2(file = \"data/telecom_users.csv\", … )`"
   ]
  },
  {
   "cell_type": "markdown",
   "id": "846589cd",
   "metadata": {},
   "source": [
    "---"
   ]
  },
  {
   "cell_type": "markdown",
   "id": "2ab79114",
   "metadata": {},
   "source": [
    "# 2. Excel (xlsx)"
   ]
  },
  {
   "cell_type": "markdown",
   "id": "cf5865f0",
   "metadata": {},
   "source": [
    "There are many packages to read/write MS Excel files. `xlsx` one of the most useful."
   ]
  },
  {
   "cell_type": "code",
   "execution_count": 45,
   "id": "ae449338",
   "metadata": {},
   "outputs": [],
   "source": [
    "#install.packages(\"xlsx\") install before use it\n",
    "library(xlsx)"
   ]
  },
  {
   "cell_type": "code",
   "execution_count": 46,
   "id": "49e95465",
   "metadata": {},
   "outputs": [
    {
     "data": {
      "text/html": [
       "TRUE"
      ],
      "text/latex": [
       "TRUE"
      ],
      "text/markdown": [
       "TRUE"
      ],
      "text/plain": [
       "[1] TRUE"
      ]
     },
     "metadata": {},
     "output_type": "display_data"
    }
   ],
   "source": [
    "any(grepl(\"xlsx\", installed.packages())) # check if package installed"
   ]
  },
  {
   "cell_type": "markdown",
   "id": "a58145de",
   "metadata": {},
   "source": [
    "**`?read.xlsx`** - review package functions and params"
   ]
  },
  {
   "cell_type": "markdown",
   "id": "499547d6",
   "metadata": {},
   "source": [
    "Let's read the data `telecom_users.xlsx`: "
   ]
  },
  {
   "cell_type": "code",
   "execution_count": 48,
   "id": "78a50a60",
   "metadata": {},
   "outputs": [],
   "source": [
    "data <- read.xlsx(\"data/telecom_users.xlsx\", sheetIndex = 1)\n",
    "# sheetIndex = 1 - select sheet to read, or use sheetName = \"sheet1\" to read by Name"
   ]
  },
  {
   "cell_type": "code",
   "execution_count": 54,
   "id": "a4d0b2db",
   "metadata": {},
   "outputs": [],
   "source": [
    "# You can also use startRow, endRow and other params to define how mutch data read\n",
    "data <- read.xlsx(\"data/telecom_users.xlsx\", sheetIndex = 1, endRow = 100)"
   ]
  },
  {
   "cell_type": "markdown",
   "id": "7db04f4f",
   "metadata": {},
   "source": [
    "Let's replace `Churn` values `Yes`/`No` by `1`/`0`: "
   ]
  },
  {
   "cell_type": "code",
   "execution_count": 56,
   "id": "fbffa0ac",
   "metadata": {},
   "outputs": [
    {
     "data": {
      "text/html": [
       "<style>\n",
       ".list-inline {list-style: none; margin:0; padding: 0}\n",
       ".list-inline>li {display: inline-block}\n",
       ".list-inline>li:not(:last-child)::after {content: \"\\00b7\"; padding: 0 .5ex}\n",
       "</style>\n",
       "<ol class=list-inline><li>'No'</li><li>'No'</li><li>'Yes'</li><li>'No'</li><li>'No'</li><li>'No'</li></ol>\n"
      ],
      "text/latex": [
       "\\begin{enumerate*}\n",
       "\\item 'No'\n",
       "\\item 'No'\n",
       "\\item 'Yes'\n",
       "\\item 'No'\n",
       "\\item 'No'\n",
       "\\item 'No'\n",
       "\\end{enumerate*}\n"
      ],
      "text/markdown": [
       "1. 'No'\n",
       "2. 'No'\n",
       "3. 'Yes'\n",
       "4. 'No'\n",
       "5. 'No'\n",
       "6. 'No'\n",
       "\n",
       "\n"
      ],
      "text/plain": [
       "[1] \"No\"  \"No\"  \"Yes\" \"No\"  \"No\"  \"No\" "
      ]
     },
     "metadata": {},
     "output_type": "display_data"
    }
   ],
   "source": [
    "head(data$Churn)"
   ]
  },
  {
   "cell_type": "code",
   "execution_count": 57,
   "id": "9c5ecef1",
   "metadata": {},
   "outputs": [],
   "source": [
    "data$Churn <- ifelse(data$Churn == \"Yes\", 1, 0)"
   ]
  },
  {
   "cell_type": "code",
   "execution_count": 59,
   "id": "2dfbe5c5",
   "metadata": {},
   "outputs": [
    {
     "data": {
      "text/html": [
       "<style>\n",
       ".list-inline {list-style: none; margin:0; padding: 0}\n",
       ".list-inline>li {display: inline-block}\n",
       ".list-inline>li:not(:last-child)::after {content: \"\\00b7\"; padding: 0 .5ex}\n",
       "</style>\n",
       "<ol class=list-inline><li>0</li><li>0</li><li>1</li><li>0</li><li>0</li><li>0</li></ol>\n"
      ],
      "text/latex": [
       "\\begin{enumerate*}\n",
       "\\item 0\n",
       "\\item 0\n",
       "\\item 1\n",
       "\\item 0\n",
       "\\item 0\n",
       "\\item 0\n",
       "\\end{enumerate*}\n"
      ],
      "text/markdown": [
       "1. 0\n",
       "2. 0\n",
       "3. 1\n",
       "4. 0\n",
       "5. 0\n",
       "6. 0\n",
       "\n",
       "\n"
      ],
      "text/plain": [
       "[1] 0 0 1 0 0 0"
      ]
     },
     "metadata": {},
     "output_type": "display_data"
    }
   ],
   "source": [
    "head(data$Churn)"
   ]
  },
  {
   "cell_type": "markdown",
   "id": "2d317a48",
   "metadata": {},
   "source": [
    "Write final data to excel:"
   ]
  },
  {
   "cell_type": "code",
   "execution_count": 60,
   "id": "98138817",
   "metadata": {},
   "outputs": [],
   "source": [
    "write.xlsx(data, file = \"data/final_telecom_data.xlsx\")"
   ]
  },
  {
   "cell_type": "markdown",
   "id": "b68be2ba",
   "metadata": {},
   "source": [
    "## Task 2.1"
   ]
  },
  {
   "cell_type": "markdown",
   "id": "1f4245cd",
   "metadata": {},
   "source": [
    "Download from kaggle.com and read dataset `Default_Fin.csv`: \n",
    "https://www.kaggle.com/kmldas/loan-default-prediction"
   ]
  },
  {
   "cell_type": "markdown",
   "id": "90fcd2a4",
   "metadata": {},
   "source": [
    "_Description:_"
   ]
  },
  {
   "cell_type": "markdown",
   "id": "f3f9cdea",
   "metadata": {},
   "source": [
    "This is a synthetic dataset created using actual data from a financial institution. The data has been modified to remove identifiable features and the numbers transformed to ensure they do not link to original source (financial institution).\n",
    "\n",
    "This is intended to be used for academic purposes for beginners who want to practice financial analytics from a simple financial dataset"
   ]
  },
  {
   "cell_type": "markdown",
   "id": "1484890f",
   "metadata": {},
   "source": [
    "- [x] `Index` - This is the serial number or unique identifier of the loan taker\n",
    "- [x] `Employed`     - This is a Boolean 1= employed 0= unemployed \n",
    "- [x] `Bank.Balance` - Bank Balance of the loan taker\n",
    "- [x] `Annual.Salary` - Annual salary of the loan taker  \n",
    "- [x] `Defaulted` - This is a Boolean 1= defaulted 0= not defaulted"
   ]
  },
  {
   "cell_type": "code",
   "execution_count": null,
   "id": "b590999b",
   "metadata": {},
   "outputs": [],
   "source": [
    "1. Check what columns has missing values\n",
    "2. Count default and non-default clients / and parts of total clients in %\n",
    "3. Count Employed clients\n",
    "4. Count Employed Default clients\n",
    "5. Average salary by Employed clients\n",
    "6. Rename columns to \"id\", \"empl\", \"balance\", \"salary\", \"default\""
   ]
  },
  {
   "cell_type": "markdown",
   "id": "fd4ccc1f",
   "metadata": {},
   "source": [
    "---"
   ]
  },
  {
   "cell_type": "markdown",
   "id": "067b084c",
   "metadata": {},
   "source": [
    "## Solution for Task 2.1"
   ]
  },
  {
   "cell_type": "code",
   "execution_count": 67,
   "id": "72028e3c",
   "metadata": {},
   "outputs": [
    {
     "data": {
      "text/html": [
       "<table class=\"dataframe\">\n",
       "<caption>A data.frame: 6 × 5</caption>\n",
       "<thead>\n",
       "\t<tr><th></th><th scope=col>Index</th><th scope=col>Employed</th><th scope=col>Bank.Balance</th><th scope=col>Annual.Salary</th><th scope=col>Defaulted.</th></tr>\n",
       "\t<tr><th></th><th scope=col>&lt;int&gt;</th><th scope=col>&lt;int&gt;</th><th scope=col>&lt;dbl&gt;</th><th scope=col>&lt;dbl&gt;</th><th scope=col>&lt;int&gt;</th></tr>\n",
       "</thead>\n",
       "<tbody>\n",
       "\t<tr><th scope=row>1</th><td>1</td><td>1</td><td> 8754.36</td><td>532339.56</td><td>0</td></tr>\n",
       "\t<tr><th scope=row>2</th><td>2</td><td>0</td><td> 9806.16</td><td>145273.56</td><td>0</td></tr>\n",
       "\t<tr><th scope=row>3</th><td>3</td><td>1</td><td>12882.60</td><td>381205.68</td><td>0</td></tr>\n",
       "\t<tr><th scope=row>4</th><td>4</td><td>1</td><td> 6351.00</td><td>428453.88</td><td>0</td></tr>\n",
       "\t<tr><th scope=row>5</th><td>5</td><td>1</td><td> 9427.92</td><td>461562.00</td><td>0</td></tr>\n",
       "\t<tr><th scope=row>6</th><td>6</td><td>0</td><td>11035.08</td><td> 89898.72</td><td>0</td></tr>\n",
       "</tbody>\n",
       "</table>\n"
      ],
      "text/latex": [
       "A data.frame: 6 × 5\n",
       "\\begin{tabular}{r|lllll}\n",
       "  & Index & Employed & Bank.Balance & Annual.Salary & Defaulted.\\\\\n",
       "  & <int> & <int> & <dbl> & <dbl> & <int>\\\\\n",
       "\\hline\n",
       "\t1 & 1 & 1 &  8754.36 & 532339.56 & 0\\\\\n",
       "\t2 & 2 & 0 &  9806.16 & 145273.56 & 0\\\\\n",
       "\t3 & 3 & 1 & 12882.60 & 381205.68 & 0\\\\\n",
       "\t4 & 4 & 1 &  6351.00 & 428453.88 & 0\\\\\n",
       "\t5 & 5 & 1 &  9427.92 & 461562.00 & 0\\\\\n",
       "\t6 & 6 & 0 & 11035.08 &  89898.72 & 0\\\\\n",
       "\\end{tabular}\n"
      ],
      "text/markdown": [
       "\n",
       "A data.frame: 6 × 5\n",
       "\n",
       "| <!--/--> | Index &lt;int&gt; | Employed &lt;int&gt; | Bank.Balance &lt;dbl&gt; | Annual.Salary &lt;dbl&gt; | Defaulted. &lt;int&gt; |\n",
       "|---|---|---|---|---|---|\n",
       "| 1 | 1 | 1 |  8754.36 | 532339.56 | 0 |\n",
       "| 2 | 2 | 0 |  9806.16 | 145273.56 | 0 |\n",
       "| 3 | 3 | 1 | 12882.60 | 381205.68 | 0 |\n",
       "| 4 | 4 | 1 |  6351.00 | 428453.88 | 0 |\n",
       "| 5 | 5 | 1 |  9427.92 | 461562.00 | 0 |\n",
       "| 6 | 6 | 0 | 11035.08 |  89898.72 | 0 |\n",
       "\n"
      ],
      "text/plain": [
       "  Index Employed Bank.Balance Annual.Salary Defaulted.\n",
       "1 1     1         8754.36     532339.56     0         \n",
       "2 2     0         9806.16     145273.56     0         \n",
       "3 3     1        12882.60     381205.68     0         \n",
       "4 4     1         6351.00     428453.88     0         \n",
       "5 5     1         9427.92     461562.00     0         \n",
       "6 6     0        11035.08      89898.72     0         "
      ]
     },
     "metadata": {},
     "output_type": "display_data"
    }
   ],
   "source": [
    "data <- read.csv(\"data/Default_Fin.csv\")\n",
    "head(data)"
   ]
  },
  {
   "cell_type": "markdown",
   "id": "a56786f3",
   "metadata": {},
   "source": [
    "> 1. Check what columns has missing values"
   ]
  },
  {
   "cell_type": "code",
   "execution_count": 68,
   "id": "9dbf7c58",
   "metadata": {},
   "outputs": [
    {
     "data": {
      "text/html": [
       "FALSE"
      ],
      "text/latex": [
       "FALSE"
      ],
      "text/markdown": [
       "FALSE"
      ],
      "text/plain": [
       "[1] FALSE"
      ]
     },
     "metadata": {},
     "output_type": "display_data"
    }
   ],
   "source": [
    "any(is.na(data))"
   ]
  },
  {
   "cell_type": "markdown",
   "id": "ff765e3b",
   "metadata": {},
   "source": [
    "> 2. Count default and non-default clients / and parts of total clients in %"
   ]
  },
  {
   "cell_type": "code",
   "execution_count": 70,
   "id": "735cb57e",
   "metadata": {},
   "outputs": [
    {
     "data": {
      "text/html": [
       "333"
      ],
      "text/latex": [
       "333"
      ],
      "text/markdown": [
       "333"
      ],
      "text/plain": [
       "[1] 333"
      ]
     },
     "metadata": {},
     "output_type": "display_data"
    },
    {
     "data": {
      "text/html": [
       "9667"
      ],
      "text/latex": [
       "9667"
      ],
      "text/markdown": [
       "9667"
      ],
      "text/plain": [
       "[1] 9667"
      ]
     },
     "metadata": {},
     "output_type": "display_data"
    }
   ],
   "source": [
    "def_count <- nrow(data[data$Defaulted. == 1, ])\n",
    "no_def_count <- nrow(data[data$Defaulted. == 0, ])\n",
    "def_count\n",
    "no_def_count "
   ]
  },
  {
   "cell_type": "code",
   "execution_count": 72,
   "id": "5af9851d",
   "metadata": {},
   "outputs": [
    {
     "data": {
      "text/html": [
       "3.33"
      ],
      "text/latex": [
       "3.33"
      ],
      "text/markdown": [
       "3.33"
      ],
      "text/plain": [
       "[1] 3.33"
      ]
     },
     "metadata": {},
     "output_type": "display_data"
    },
    {
     "data": {
      "text/html": [
       "96.67"
      ],
      "text/latex": [
       "96.67"
      ],
      "text/markdown": [
       "96.67"
      ],
      "text/plain": [
       "[1] 96.67"
      ]
     },
     "metadata": {},
     "output_type": "display_data"
    }
   ],
   "source": [
    "def_count / nrow(data) * 100 # part defaults\n",
    "no_def_count / nrow(data) * 100 # part non-defaults"
   ]
  },
  {
   "cell_type": "markdown",
   "id": "01b6e069",
   "metadata": {},
   "source": [
    "> 3. Count Employed clients"
   ]
  },
  {
   "cell_type": "code",
   "execution_count": 73,
   "id": "8c93bc83",
   "metadata": {},
   "outputs": [
    {
     "data": {
      "text/html": [
       "7056"
      ],
      "text/latex": [
       "7056"
      ],
      "text/markdown": [
       "7056"
      ],
      "text/plain": [
       "[1] 7056"
      ]
     },
     "metadata": {},
     "output_type": "display_data"
    }
   ],
   "source": [
    "empl <- data[data$Employed == 1, ]\n",
    "nrow(empl)"
   ]
  },
  {
   "cell_type": "markdown",
   "id": "0dc647d6",
   "metadata": {},
   "source": [
    "> 4. Count Employed Default clients"
   ]
  },
  {
   "cell_type": "code",
   "execution_count": 76,
   "id": "9d9558fb",
   "metadata": {},
   "outputs": [
    {
     "data": {
      "text/html": [
       "206"
      ],
      "text/latex": [
       "206"
      ],
      "text/markdown": [
       "206"
      ],
      "text/plain": [
       "[1] 206"
      ]
     },
     "metadata": {},
     "output_type": "display_data"
    }
   ],
   "source": [
    "empl <- data[data$Employed == 1 & data$Defaulted. == 1, ]\n",
    "nrow(empl)"
   ]
  },
  {
   "cell_type": "markdown",
   "id": "b69e9a80",
   "metadata": {},
   "source": [
    "> 5. Average salary by Employed clients"
   ]
  },
  {
   "cell_type": "code",
   "execution_count": 81,
   "id": "d22a0b81",
   "metadata": {},
   "outputs": [
    {
     "data": {
      "text/html": [
       "480143.43414966"
      ],
      "text/latex": [
       "480143.43414966"
      ],
      "text/markdown": [
       "480143.43414966"
      ],
      "text/plain": [
       "[1] 480143.4"
      ]
     },
     "metadata": {},
     "output_type": "display_data"
    }
   ],
   "source": [
    "empl <- data[data$Employed == 1, ]\n",
    "mean(empl$Annual.Salary)"
   ]
  },
  {
   "cell_type": "markdown",
   "id": "511fe149",
   "metadata": {},
   "source": [
    "> 6. Rename columns to \"id\", \"empl\", \"balance\", \"salary\", \"default\":"
   ]
  },
  {
   "cell_type": "code",
   "execution_count": 82,
   "id": "de96bd18",
   "metadata": {},
   "outputs": [
    {
     "data": {
      "text/html": [
       "<table class=\"dataframe\">\n",
       "<caption>A data.frame: 6 × 5</caption>\n",
       "<thead>\n",
       "\t<tr><th></th><th scope=col>id</th><th scope=col>empl</th><th scope=col>balance</th><th scope=col>salary</th><th scope=col>default</th></tr>\n",
       "\t<tr><th></th><th scope=col>&lt;int&gt;</th><th scope=col>&lt;int&gt;</th><th scope=col>&lt;dbl&gt;</th><th scope=col>&lt;dbl&gt;</th><th scope=col>&lt;int&gt;</th></tr>\n",
       "</thead>\n",
       "<tbody>\n",
       "\t<tr><th scope=row>1</th><td>1</td><td>1</td><td> 8754.36</td><td>532339.56</td><td>0</td></tr>\n",
       "\t<tr><th scope=row>2</th><td>2</td><td>0</td><td> 9806.16</td><td>145273.56</td><td>0</td></tr>\n",
       "\t<tr><th scope=row>3</th><td>3</td><td>1</td><td>12882.60</td><td>381205.68</td><td>0</td></tr>\n",
       "\t<tr><th scope=row>4</th><td>4</td><td>1</td><td> 6351.00</td><td>428453.88</td><td>0</td></tr>\n",
       "\t<tr><th scope=row>5</th><td>5</td><td>1</td><td> 9427.92</td><td>461562.00</td><td>0</td></tr>\n",
       "\t<tr><th scope=row>6</th><td>6</td><td>0</td><td>11035.08</td><td> 89898.72</td><td>0</td></tr>\n",
       "</tbody>\n",
       "</table>\n"
      ],
      "text/latex": [
       "A data.frame: 6 × 5\n",
       "\\begin{tabular}{r|lllll}\n",
       "  & id & empl & balance & salary & default\\\\\n",
       "  & <int> & <int> & <dbl> & <dbl> & <int>\\\\\n",
       "\\hline\n",
       "\t1 & 1 & 1 &  8754.36 & 532339.56 & 0\\\\\n",
       "\t2 & 2 & 0 &  9806.16 & 145273.56 & 0\\\\\n",
       "\t3 & 3 & 1 & 12882.60 & 381205.68 & 0\\\\\n",
       "\t4 & 4 & 1 &  6351.00 & 428453.88 & 0\\\\\n",
       "\t5 & 5 & 1 &  9427.92 & 461562.00 & 0\\\\\n",
       "\t6 & 6 & 0 & 11035.08 &  89898.72 & 0\\\\\n",
       "\\end{tabular}\n"
      ],
      "text/markdown": [
       "\n",
       "A data.frame: 6 × 5\n",
       "\n",
       "| <!--/--> | id &lt;int&gt; | empl &lt;int&gt; | balance &lt;dbl&gt; | salary &lt;dbl&gt; | default &lt;int&gt; |\n",
       "|---|---|---|---|---|---|\n",
       "| 1 | 1 | 1 |  8754.36 | 532339.56 | 0 |\n",
       "| 2 | 2 | 0 |  9806.16 | 145273.56 | 0 |\n",
       "| 3 | 3 | 1 | 12882.60 | 381205.68 | 0 |\n",
       "| 4 | 4 | 1 |  6351.00 | 428453.88 | 0 |\n",
       "| 5 | 5 | 1 |  9427.92 | 461562.00 | 0 |\n",
       "| 6 | 6 | 0 | 11035.08 |  89898.72 | 0 |\n",
       "\n"
      ],
      "text/plain": [
       "  id empl balance  salary    default\n",
       "1 1  1     8754.36 532339.56 0      \n",
       "2 2  0     9806.16 145273.56 0      \n",
       "3 3  1    12882.60 381205.68 0      \n",
       "4 4  1     6351.00 428453.88 0      \n",
       "5 5  1     9427.92 461562.00 0      \n",
       "6 6  0    11035.08  89898.72 0      "
      ]
     },
     "metadata": {},
     "output_type": "display_data"
    }
   ],
   "source": [
    "colnames(data) <- c(\"id\", \"empl\", \"balance\", \"salary\", \"default\")\n",
    "head(data)"
   ]
  },
  {
   "cell_type": "markdown",
   "id": "20bc9c19",
   "metadata": {},
   "source": []
  },
  {
   "cell_type": "markdown",
   "id": "182c8ed6",
   "metadata": {},
   "source": [
    "# 3. XML"
   ]
  },
  {
   "cell_type": "markdown",
   "id": "8d307c78",
   "metadata": {},
   "source": [
    "`XML` - eXtensible Markup Language."
   ]
  },
  {
   "cell_type": "markdown",
   "id": "18898d0b",
   "metadata": {},
   "source": [
    "For our example we will use data from `data/employes.xml`. File contains records with info:"
   ]
  },
  {
   "cell_type": "markdown",
   "id": "9cd6ad26",
   "metadata": {},
   "source": [
    "```\n",
    "<RECORDS>\n",
    "   <EMPLOYEE>\n",
    "      <ID>1</ID>\n",
    "      <NAME>Rick</NAME>\n",
    "      <SALARY>623.3</SALARY>\n",
    "      <STARTDATE>1/1/2012</STARTDATE>\n",
    "      <DEPT>IT</DEPT>\n",
    "   </EMPLOYEE>\n",
    "   ...\n",
    "</RECORDS>\n",
    "```"
   ]
  },
  {
   "cell_type": "code",
   "execution_count": 89,
   "id": "55c69004",
   "metadata": {},
   "outputs": [],
   "source": [
    "#install.packages(\"XML\")\n",
    "library(\"XML\")\n",
    "#install.packages(\"methods\")\n",
    "library(\"methods\")"
   ]
  },
  {
   "cell_type": "code",
   "execution_count": 94,
   "id": "f7961a31",
   "metadata": {},
   "outputs": [
    {
     "name": "stdout",
     "output_type": "stream",
     "text": [
      "<?xml version=\"1.0\"?>\n",
      "<RECORDS>\n",
      "  <EMPLOYEE>\n",
      "    <ID>1</ID>\n",
      "    <NAME>Rick</NAME>\n",
      "    <SALARY>623.3</SALARY>\n",
      "    <STARTDATE>1/1/2012</STARTDATE>\n",
      "    <DEPT>IT</DEPT>\n",
      "  </EMPLOYEE>\n",
      "  <EMPLOYEE>\n",
      "    <ID>2</ID>\n",
      "    <NAME>Dan</NAME>\n",
      "    <SALARY>515.2</SALARY>\n",
      "    <STARTDATE>9/23/2013</STARTDATE>\n",
      "    <DEPT>Operations</DEPT>\n",
      "  </EMPLOYEE>\n",
      "  <EMPLOYEE>\n",
      "    <ID>3</ID>\n",
      "    <NAME>Michelle</NAME>\n",
      "    <SALARY>611</SALARY>\n",
      "    <STARTDATE>11/15/2014</STARTDATE>\n",
      "    <DEPT>IT</DEPT>\n",
      "  </EMPLOYEE>\n",
      "  <EMPLOYEE>\n",
      "    <ID>4</ID>\n",
      "    <NAME>Ryan</NAME>\n",
      "    <SALARY>729</SALARY>\n",
      "    <STARTDATE>5/11/2014</STARTDATE>\n",
      "    <DEPT>HR</DEPT>\n",
      "  </EMPLOYEE>\n",
      "  <EMPLOYEE>\n",
      "    <ID>5</ID>\n",
      "    <NAME>Gary</NAME>\n",
      "    <SALARY>843.25</SALARY>\n",
      "    <STARTDATE>3/27/2015</STARTDATE>\n",
      "    <DEPT>Finance</DEPT>\n",
      "  </EMPLOYEE>\n",
      "  <EMPLOYEE>\n",
      "    <ID>6</ID>\n",
      "    <NAME>Nina</NAME>\n",
      "    <SALARY>578</SALARY>\n",
      "    <STARTDATE>5/21/2013</STARTDATE>\n",
      "    <DEPT>IT</DEPT>\n",
      "  </EMPLOYEE>\n",
      "  <EMPLOYEE>\n",
      "    <ID>7</ID>\n",
      "    <NAME>Simon</NAME>\n",
      "    <SALARY>632.8</SALARY>\n",
      "    <STARTDATE>7/30/2013</STARTDATE>\n",
      "    <DEPT>Operations</DEPT>\n",
      "  </EMPLOYEE>\n",
      "  <EMPLOYEE>\n",
      "    <ID>8</ID>\n",
      "    <NAME>Guru</NAME>\n",
      "    <SALARY>722.5</SALARY>\n",
      "    <STARTDATE>6/17/2014</STARTDATE>\n",
      "    <DEPT>Finance</DEPT>\n",
      "  </EMPLOYEE>\n",
      "</RECORDS>\n",
      " \n"
     ]
    }
   ],
   "source": [
    "result <- xmlParse(file = \"data/employes.xml\")\n",
    "print(result)"
   ]
  },
  {
   "cell_type": "code",
   "execution_count": 98,
   "id": "532dbc05",
   "metadata": {},
   "outputs": [
    {
     "data": {
      "text/plain": [
       "<EMPLOYEE>\n",
       "  <ID>1</ID>\n",
       "  <NAME>Rick</NAME>\n",
       "  <SALARY>623.3</SALARY>\n",
       "  <STARTDATE>1/1/2012</STARTDATE>\n",
       "  <DEPT>IT</DEPT>\n",
       "</EMPLOYEE> "
      ]
     },
     "metadata": {},
     "output_type": "display_data"
    }
   ],
   "source": [
    "rootnode <- xmlRoot(result) # reading rootnode of xml document\n",
    "rootnode[[1]] # reading first record"
   ]
  },
  {
   "cell_type": "code",
   "execution_count": 104,
   "id": "ae2e37b9",
   "metadata": {},
   "outputs": [
    {
     "data": {
      "text/plain": [
       "<NAME>Rick</NAME> "
      ]
     },
     "metadata": {},
     "output_type": "display_data"
    }
   ],
   "source": [
    "rootnode[[1]][[2]] # reading first record in root node and second tag, its <NAME>"
   ]
  },
  {
   "cell_type": "markdown",
   "id": "6f963ba4",
   "metadata": {},
   "source": [
    "For us the best way is to get dataframe:"
   ]
  },
  {
   "cell_type": "code",
   "execution_count": 204,
   "id": "403d4dde",
   "metadata": {},
   "outputs": [
    {
     "data": {
      "text/html": [
       "<table class=\"dataframe\">\n",
       "<caption>A data.frame: 8 × 5</caption>\n",
       "<thead>\n",
       "\t<tr><th scope=col>ID</th><th scope=col>NAME</th><th scope=col>SALARY</th><th scope=col>STARTDATE</th><th scope=col>DEPT</th></tr>\n",
       "\t<tr><th scope=col>&lt;chr&gt;</th><th scope=col>&lt;chr&gt;</th><th scope=col>&lt;chr&gt;</th><th scope=col>&lt;chr&gt;</th><th scope=col>&lt;chr&gt;</th></tr>\n",
       "</thead>\n",
       "<tbody>\n",
       "\t<tr><td>1</td><td>Rick    </td><td>623.3 </td><td>1/1/2012  </td><td>IT        </td></tr>\n",
       "\t<tr><td>2</td><td>Dan     </td><td>515.2 </td><td>9/23/2013 </td><td>Operations</td></tr>\n",
       "\t<tr><td>3</td><td>Michelle</td><td>611   </td><td>11/15/2014</td><td>IT        </td></tr>\n",
       "\t<tr><td>4</td><td>Ryan    </td><td>729   </td><td>5/11/2014 </td><td>HR        </td></tr>\n",
       "\t<tr><td>5</td><td>Gary    </td><td>843.25</td><td>3/27/2015 </td><td>Finance   </td></tr>\n",
       "\t<tr><td>6</td><td>Nina    </td><td>578   </td><td>5/21/2013 </td><td>IT        </td></tr>\n",
       "\t<tr><td>7</td><td>Simon   </td><td>632.8 </td><td>7/30/2013 </td><td>Operations</td></tr>\n",
       "\t<tr><td>8</td><td>Guru    </td><td>722.5 </td><td>6/17/2014 </td><td>Finance   </td></tr>\n",
       "</tbody>\n",
       "</table>\n"
      ],
      "text/latex": [
       "A data.frame: 8 × 5\n",
       "\\begin{tabular}{lllll}\n",
       " ID & NAME & SALARY & STARTDATE & DEPT\\\\\n",
       " <chr> & <chr> & <chr> & <chr> & <chr>\\\\\n",
       "\\hline\n",
       "\t 1 & Rick     & 623.3  & 1/1/2012   & IT        \\\\\n",
       "\t 2 & Dan      & 515.2  & 9/23/2013  & Operations\\\\\n",
       "\t 3 & Michelle & 611    & 11/15/2014 & IT        \\\\\n",
       "\t 4 & Ryan     & 729    & 5/11/2014  & HR        \\\\\n",
       "\t 5 & Gary     & 843.25 & 3/27/2015  & Finance   \\\\\n",
       "\t 6 & Nina     & 578    & 5/21/2013  & IT        \\\\\n",
       "\t 7 & Simon    & 632.8  & 7/30/2013  & Operations\\\\\n",
       "\t 8 & Guru     & 722.5  & 6/17/2014  & Finance   \\\\\n",
       "\\end{tabular}\n"
      ],
      "text/markdown": [
       "\n",
       "A data.frame: 8 × 5\n",
       "\n",
       "| ID &lt;chr&gt; | NAME &lt;chr&gt; | SALARY &lt;chr&gt; | STARTDATE &lt;chr&gt; | DEPT &lt;chr&gt; |\n",
       "|---|---|---|---|---|\n",
       "| 1 | Rick     | 623.3  | 1/1/2012   | IT         |\n",
       "| 2 | Dan      | 515.2  | 9/23/2013  | Operations |\n",
       "| 3 | Michelle | 611    | 11/15/2014 | IT         |\n",
       "| 4 | Ryan     | 729    | 5/11/2014  | HR         |\n",
       "| 5 | Gary     | 843.25 | 3/27/2015  | Finance    |\n",
       "| 6 | Nina     | 578    | 5/21/2013  | IT         |\n",
       "| 7 | Simon    | 632.8  | 7/30/2013  | Operations |\n",
       "| 8 | Guru     | 722.5  | 6/17/2014  | Finance    |\n",
       "\n"
      ],
      "text/plain": [
       "  ID NAME     SALARY STARTDATE  DEPT      \n",
       "1 1  Rick     623.3  1/1/2012   IT        \n",
       "2 2  Dan      515.2  9/23/2013  Operations\n",
       "3 3  Michelle 611    11/15/2014 IT        \n",
       "4 4  Ryan     729    5/11/2014  HR        \n",
       "5 5  Gary     843.25 3/27/2015  Finance   \n",
       "6 6  Nina     578    5/21/2013  IT        \n",
       "7 7  Simon    632.8  7/30/2013  Operations\n",
       "8 8  Guru     722.5  6/17/2014  Finance   "
      ]
     },
     "metadata": {},
     "output_type": "display_data"
    }
   ],
   "source": [
    "xmldataframe <- xmlToDataFrame(\"data/employes.xml\")\n",
    "xmldataframe"
   ]
  },
  {
   "cell_type": "markdown",
   "id": "d97becbe",
   "metadata": {},
   "source": [
    "# 4. JSON and API"
   ]
  },
  {
   "cell_type": "markdown",
   "id": "2a06a11f",
   "metadata": {},
   "source": [
    "`JSON` (`JavaScript Object Notation`) is a lightweight data-interchange format. It is easy for humans to read and write. It is easy for machines to parse and generate. It is based on a subset of the JavaScript Programming Language Standard.\n",
    "\n",
    "`API` is the acronym for `Application Programming Interface`, which is a software intermediary that allows two applications to talk to each other. "
   ]
  },
  {
   "cell_type": "markdown",
   "id": "8f189c03",
   "metadata": {},
   "source": [
    "One of the most popular packages for `json` is `jsonlite`."
   ]
  },
  {
   "cell_type": "code",
   "execution_count": 8,
   "id": "b552fb8e",
   "metadata": {},
   "outputs": [],
   "source": [
    "#install.packages(\"jsonlite\")\n",
    "library(jsonlite)"
   ]
  },
  {
   "cell_type": "markdown",
   "id": "21aa37cb",
   "metadata": {},
   "source": [
    "Let's use readinginformation about BTC and USDT crypro currencies from Binance"
   ]
  },
  {
   "cell_type": "code",
   "execution_count": 9,
   "id": "ee192ec9",
   "metadata": {},
   "outputs": [
    {
     "name": "stdout",
     "output_type": "stream",
     "text": [
      "[1] \"https://api.binance.com/api/v3/klines?symbol=BTCUSDT&interval=1h&limit=100\"\n"
     ]
    }
   ],
   "source": [
    "market = 'BTCUSDT'\n",
    "interval = '1h'\n",
    "limit = 100\n",
    "\n",
    "url <- paste0(url = \"https://api.binance.com/api/v3/klines?symbol=\", market ,\"&interval=\", interval,\"&limit=\", limit)\n",
    "print(url) # complete request URL"
   ]
  },
  {
   "cell_type": "markdown",
   "id": "838b1dbd",
   "metadata": {},
   "source": [
    "On the next stage you need use fromJSON() function to get data.\n",
    "\n",
    "More details about requests to Binanace at https://github.com/binance/binance-spot-api-docs/blob/master/rest-api.md#klinecandlestick-data\n",
    "\n",
    "If you enter 'url' value at browser response is going to be like this:"
   ]
  },
  {
   "cell_type": "markdown",
   "id": "25b462bf",
   "metadata": {},
   "source": [
    "```json\n",
    "[\n",
    "  [\n",
    "    1499040000000,      // Open time\n",
    "    \"0.01634790\",       // Open\n",
    "    \"0.80000000\",       // High\n",
    "    \"0.01575800\",       // Low\n",
    "    \"0.01577100\",       // Close\n",
    "    \"148976.11427815\",  // Volume\n",
    "    1499644799999,      // Close time\n",
    "    \"2434.19055334\",    // Quote asset volume\n",
    "    308,                // Number of trades\n",
    "    \"1756.87402397\",    // Taker buy base asset volume\n",
    "    \"28.46694368\",      // Taker buy quote asset volume\n",
    "    \"17928899.62484339\" // Ignore.\n",
    "  ]\n",
    "]\n",
    "```"
   ]
  },
  {
   "cell_type": "code",
   "execution_count": 11,
   "id": "751d4e07",
   "metadata": {},
   "outputs": [
    {
     "data": {
      "text/html": [
       "<table class=\"dataframe\">\n",
       "<caption>A matrix: 6 × 7 of type chr</caption>\n",
       "<tbody>\n",
       "\t<tr><td>1620975600000</td><td>49056.83000000</td><td>50286.26000000</td><td>49050.00000000</td><td>49987.20000000</td><td>4177.17298000</td><td>1620979199999</td></tr>\n",
       "\t<tr><td>1620979200000</td><td>49987.19000000</td><td>50420.17000000</td><td>49880.00000000</td><td>50365.98000000</td><td>3437.19525800</td><td>1620982799999</td></tr>\n",
       "\t<tr><td>1620982800000</td><td>50365.97000000</td><td>50800.00000000</td><td>50140.10000000</td><td>50413.21000000</td><td>4037.60655600</td><td>1620986399999</td></tr>\n",
       "\t<tr><td>1620986400000</td><td>50413.21000000</td><td>50767.39000000</td><td>50213.00000000</td><td>50720.34000000</td><td>3962.66302300</td><td>1620989999999</td></tr>\n",
       "\t<tr><td>1.62099e+12  </td><td>50720.34000000</td><td>50958.32000000</td><td>50478.79000000</td><td>50538.14000000</td><td>3477.03230700</td><td>1620993599999</td></tr>\n",
       "\t<tr><td>1620993600000</td><td>50538.13000000</td><td>50624.93000000</td><td>50226.19000000</td><td>50310.83000000</td><td>3335.75637300</td><td>1620997199999</td></tr>\n",
       "</tbody>\n",
       "</table>\n"
      ],
      "text/latex": [
       "A matrix: 6 × 7 of type chr\n",
       "\\begin{tabular}{lllllll}\n",
       "\t 1620975600000 & 49056.83000000 & 50286.26000000 & 49050.00000000 & 49987.20000000 & 4177.17298000 & 1620979199999\\\\\n",
       "\t 1620979200000 & 49987.19000000 & 50420.17000000 & 49880.00000000 & 50365.98000000 & 3437.19525800 & 1620982799999\\\\\n",
       "\t 1620982800000 & 50365.97000000 & 50800.00000000 & 50140.10000000 & 50413.21000000 & 4037.60655600 & 1620986399999\\\\\n",
       "\t 1620986400000 & 50413.21000000 & 50767.39000000 & 50213.00000000 & 50720.34000000 & 3962.66302300 & 1620989999999\\\\\n",
       "\t 1.62099e+12   & 50720.34000000 & 50958.32000000 & 50478.79000000 & 50538.14000000 & 3477.03230700 & 1620993599999\\\\\n",
       "\t 1620993600000 & 50538.13000000 & 50624.93000000 & 50226.19000000 & 50310.83000000 & 3335.75637300 & 1620997199999\\\\\n",
       "\\end{tabular}\n"
      ],
      "text/markdown": [
       "\n",
       "A matrix: 6 × 7 of type chr\n",
       "\n",
       "| 1620975600000 | 49056.83000000 | 50286.26000000 | 49050.00000000 | 49987.20000000 | 4177.17298000 | 1620979199999 |\n",
       "| 1620979200000 | 49987.19000000 | 50420.17000000 | 49880.00000000 | 50365.98000000 | 3437.19525800 | 1620982799999 |\n",
       "| 1620982800000 | 50365.97000000 | 50800.00000000 | 50140.10000000 | 50413.21000000 | 4037.60655600 | 1620986399999 |\n",
       "| 1620986400000 | 50413.21000000 | 50767.39000000 | 50213.00000000 | 50720.34000000 | 3962.66302300 | 1620989999999 |\n",
       "| 1.62099e+12   | 50720.34000000 | 50958.32000000 | 50478.79000000 | 50538.14000000 | 3477.03230700 | 1620993599999 |\n",
       "| 1620993600000 | 50538.13000000 | 50624.93000000 | 50226.19000000 | 50310.83000000 | 3335.75637300 | 1620997199999 |\n",
       "\n"
      ],
      "text/plain": [
       "     [,1]          [,2]           [,3]           [,4]           [,5]          \n",
       "[1,] 1620975600000 49056.83000000 50286.26000000 49050.00000000 49987.20000000\n",
       "[2,] 1620979200000 49987.19000000 50420.17000000 49880.00000000 50365.98000000\n",
       "[3,] 1620982800000 50365.97000000 50800.00000000 50140.10000000 50413.21000000\n",
       "[4,] 1620986400000 50413.21000000 50767.39000000 50213.00000000 50720.34000000\n",
       "[5,] 1.62099e+12   50720.34000000 50958.32000000 50478.79000000 50538.14000000\n",
       "[6,] 1620993600000 50538.13000000 50624.93000000 50226.19000000 50310.83000000\n",
       "     [,6]          [,7]         \n",
       "[1,] 4177.17298000 1620979199999\n",
       "[2,] 3437.19525800 1620982799999\n",
       "[3,] 4037.60655600 1620986399999\n",
       "[4,] 3962.66302300 1620989999999\n",
       "[5,] 3477.03230700 1620993599999\n",
       "[6,] 3335.75637300 1620997199999"
      ]
     },
     "metadata": {},
     "output_type": "display_data"
    }
   ],
   "source": [
    "data <- fromJSON(url) # get json and transform it to list()\n",
    "data <- data[, 1:7] # let's left only 1:7 columns (from Open time to Close time)\n",
    "head(data)"
   ]
  },
  {
   "cell_type": "code",
   "execution_count": 14,
   "id": "b1e2fb10",
   "metadata": {},
   "outputs": [
    {
     "data": {
      "text/html": [
       "'list'"
      ],
      "text/latex": [
       "'list'"
      ],
      "text/markdown": [
       "'list'"
      ],
      "text/plain": [
       "[1] \"list\""
      ]
     },
     "metadata": {},
     "output_type": "display_data"
    },
    {
     "data": {
      "text/html": [
       "<table class=\"dataframe\">\n",
       "<caption>A data.frame: 6 × 7</caption>\n",
       "<thead>\n",
       "\t<tr><th></th><th scope=col>V1</th><th scope=col>V2</th><th scope=col>V3</th><th scope=col>V4</th><th scope=col>V5</th><th scope=col>V6</th><th scope=col>V7</th></tr>\n",
       "\t<tr><th></th><th scope=col>&lt;chr&gt;</th><th scope=col>&lt;chr&gt;</th><th scope=col>&lt;chr&gt;</th><th scope=col>&lt;chr&gt;</th><th scope=col>&lt;chr&gt;</th><th scope=col>&lt;chr&gt;</th><th scope=col>&lt;chr&gt;</th></tr>\n",
       "</thead>\n",
       "<tbody>\n",
       "\t<tr><th scope=row>1</th><td>1620975600000</td><td>49056.83000000</td><td>50286.26000000</td><td>49050.00000000</td><td>49987.20000000</td><td>4177.17298000</td><td>1620979199999</td></tr>\n",
       "\t<tr><th scope=row>2</th><td>1620979200000</td><td>49987.19000000</td><td>50420.17000000</td><td>49880.00000000</td><td>50365.98000000</td><td>3437.19525800</td><td>1620982799999</td></tr>\n",
       "\t<tr><th scope=row>3</th><td>1620982800000</td><td>50365.97000000</td><td>50800.00000000</td><td>50140.10000000</td><td>50413.21000000</td><td>4037.60655600</td><td>1620986399999</td></tr>\n",
       "\t<tr><th scope=row>4</th><td>1620986400000</td><td>50413.21000000</td><td>50767.39000000</td><td>50213.00000000</td><td>50720.34000000</td><td>3962.66302300</td><td>1620989999999</td></tr>\n",
       "\t<tr><th scope=row>5</th><td>1.62099e+12  </td><td>50720.34000000</td><td>50958.32000000</td><td>50478.79000000</td><td>50538.14000000</td><td>3477.03230700</td><td>1620993599999</td></tr>\n",
       "\t<tr><th scope=row>6</th><td>1620993600000</td><td>50538.13000000</td><td>50624.93000000</td><td>50226.19000000</td><td>50310.83000000</td><td>3335.75637300</td><td>1620997199999</td></tr>\n",
       "</tbody>\n",
       "</table>\n"
      ],
      "text/latex": [
       "A data.frame: 6 × 7\n",
       "\\begin{tabular}{r|lllllll}\n",
       "  & V1 & V2 & V3 & V4 & V5 & V6 & V7\\\\\n",
       "  & <chr> & <chr> & <chr> & <chr> & <chr> & <chr> & <chr>\\\\\n",
       "\\hline\n",
       "\t1 & 1620975600000 & 49056.83000000 & 50286.26000000 & 49050.00000000 & 49987.20000000 & 4177.17298000 & 1620979199999\\\\\n",
       "\t2 & 1620979200000 & 49987.19000000 & 50420.17000000 & 49880.00000000 & 50365.98000000 & 3437.19525800 & 1620982799999\\\\\n",
       "\t3 & 1620982800000 & 50365.97000000 & 50800.00000000 & 50140.10000000 & 50413.21000000 & 4037.60655600 & 1620986399999\\\\\n",
       "\t4 & 1620986400000 & 50413.21000000 & 50767.39000000 & 50213.00000000 & 50720.34000000 & 3962.66302300 & 1620989999999\\\\\n",
       "\t5 & 1.62099e+12   & 50720.34000000 & 50958.32000000 & 50478.79000000 & 50538.14000000 & 3477.03230700 & 1620993599999\\\\\n",
       "\t6 & 1620993600000 & 50538.13000000 & 50624.93000000 & 50226.19000000 & 50310.83000000 & 3335.75637300 & 1620997199999\\\\\n",
       "\\end{tabular}\n"
      ],
      "text/markdown": [
       "\n",
       "A data.frame: 6 × 7\n",
       "\n",
       "| <!--/--> | V1 &lt;chr&gt; | V2 &lt;chr&gt; | V3 &lt;chr&gt; | V4 &lt;chr&gt; | V5 &lt;chr&gt; | V6 &lt;chr&gt; | V7 &lt;chr&gt; |\n",
       "|---|---|---|---|---|---|---|---|\n",
       "| 1 | 1620975600000 | 49056.83000000 | 50286.26000000 | 49050.00000000 | 49987.20000000 | 4177.17298000 | 1620979199999 |\n",
       "| 2 | 1620979200000 | 49987.19000000 | 50420.17000000 | 49880.00000000 | 50365.98000000 | 3437.19525800 | 1620982799999 |\n",
       "| 3 | 1620982800000 | 50365.97000000 | 50800.00000000 | 50140.10000000 | 50413.21000000 | 4037.60655600 | 1620986399999 |\n",
       "| 4 | 1620986400000 | 50413.21000000 | 50767.39000000 | 50213.00000000 | 50720.34000000 | 3962.66302300 | 1620989999999 |\n",
       "| 5 | 1.62099e+12   | 50720.34000000 | 50958.32000000 | 50478.79000000 | 50538.14000000 | 3477.03230700 | 1620993599999 |\n",
       "| 6 | 1620993600000 | 50538.13000000 | 50624.93000000 | 50226.19000000 | 50310.83000000 | 3335.75637300 | 1620997199999 |\n",
       "\n"
      ],
      "text/plain": [
       "  V1            V2             V3             V4             V5            \n",
       "1 1620975600000 49056.83000000 50286.26000000 49050.00000000 49987.20000000\n",
       "2 1620979200000 49987.19000000 50420.17000000 49880.00000000 50365.98000000\n",
       "3 1620982800000 50365.97000000 50800.00000000 50140.10000000 50413.21000000\n",
       "4 1620986400000 50413.21000000 50767.39000000 50213.00000000 50720.34000000\n",
       "5 1.62099e+12   50720.34000000 50958.32000000 50478.79000000 50538.14000000\n",
       "6 1620993600000 50538.13000000 50624.93000000 50226.19000000 50310.83000000\n",
       "  V6            V7           \n",
       "1 4177.17298000 1620979199999\n",
       "2 3437.19525800 1620982799999\n",
       "3 4037.60655600 1620986399999\n",
       "4 3962.66302300 1620989999999\n",
       "5 3477.03230700 1620993599999\n",
       "6 3335.75637300 1620997199999"
      ]
     },
     "metadata": {},
     "output_type": "display_data"
    }
   ],
   "source": [
    "typeof(data) # check data type\n",
    "data <- as.data.frame(data) # convert to dataframe\n",
    "head(data)"
   ]
  },
  {
   "cell_type": "code",
   "execution_count": 18,
   "id": "7f690469",
   "metadata": {},
   "outputs": [
    {
     "data": {
      "text/html": [
       "<table class=\"dataframe\">\n",
       "<caption>A data.frame: 6 × 7</caption>\n",
       "<thead>\n",
       "\t<tr><th></th><th scope=col>Open_time</th><th scope=col>Open</th><th scope=col>High</th><th scope=col>Low</th><th scope=col>Close</th><th scope=col>Volume</th><th scope=col>Close_time</th></tr>\n",
       "\t<tr><th></th><th scope=col>&lt;chr&gt;</th><th scope=col>&lt;chr&gt;</th><th scope=col>&lt;chr&gt;</th><th scope=col>&lt;chr&gt;</th><th scope=col>&lt;chr&gt;</th><th scope=col>&lt;chr&gt;</th><th scope=col>&lt;chr&gt;</th></tr>\n",
       "</thead>\n",
       "<tbody>\n",
       "\t<tr><th scope=row>1</th><td>1620975600000</td><td>49056.83000000</td><td>50286.26000000</td><td>49050.00000000</td><td>49987.20000000</td><td>4177.17298000</td><td>1620979199999</td></tr>\n",
       "\t<tr><th scope=row>2</th><td>1620979200000</td><td>49987.19000000</td><td>50420.17000000</td><td>49880.00000000</td><td>50365.98000000</td><td>3437.19525800</td><td>1620982799999</td></tr>\n",
       "\t<tr><th scope=row>3</th><td>1620982800000</td><td>50365.97000000</td><td>50800.00000000</td><td>50140.10000000</td><td>50413.21000000</td><td>4037.60655600</td><td>1620986399999</td></tr>\n",
       "\t<tr><th scope=row>4</th><td>1620986400000</td><td>50413.21000000</td><td>50767.39000000</td><td>50213.00000000</td><td>50720.34000000</td><td>3962.66302300</td><td>1620989999999</td></tr>\n",
       "\t<tr><th scope=row>5</th><td>1.62099e+12  </td><td>50720.34000000</td><td>50958.32000000</td><td>50478.79000000</td><td>50538.14000000</td><td>3477.03230700</td><td>1620993599999</td></tr>\n",
       "\t<tr><th scope=row>6</th><td>1620993600000</td><td>50538.13000000</td><td>50624.93000000</td><td>50226.19000000</td><td>50310.83000000</td><td>3335.75637300</td><td>1620997199999</td></tr>\n",
       "</tbody>\n",
       "</table>\n"
      ],
      "text/latex": [
       "A data.frame: 6 × 7\n",
       "\\begin{tabular}{r|lllllll}\n",
       "  & Open\\_time & Open & High & Low & Close & Volume & Close\\_time\\\\\n",
       "  & <chr> & <chr> & <chr> & <chr> & <chr> & <chr> & <chr>\\\\\n",
       "\\hline\n",
       "\t1 & 1620975600000 & 49056.83000000 & 50286.26000000 & 49050.00000000 & 49987.20000000 & 4177.17298000 & 1620979199999\\\\\n",
       "\t2 & 1620979200000 & 49987.19000000 & 50420.17000000 & 49880.00000000 & 50365.98000000 & 3437.19525800 & 1620982799999\\\\\n",
       "\t3 & 1620982800000 & 50365.97000000 & 50800.00000000 & 50140.10000000 & 50413.21000000 & 4037.60655600 & 1620986399999\\\\\n",
       "\t4 & 1620986400000 & 50413.21000000 & 50767.39000000 & 50213.00000000 & 50720.34000000 & 3962.66302300 & 1620989999999\\\\\n",
       "\t5 & 1.62099e+12   & 50720.34000000 & 50958.32000000 & 50478.79000000 & 50538.14000000 & 3477.03230700 & 1620993599999\\\\\n",
       "\t6 & 1620993600000 & 50538.13000000 & 50624.93000000 & 50226.19000000 & 50310.83000000 & 3335.75637300 & 1620997199999\\\\\n",
       "\\end{tabular}\n"
      ],
      "text/markdown": [
       "\n",
       "A data.frame: 6 × 7\n",
       "\n",
       "| <!--/--> | Open_time &lt;chr&gt; | Open &lt;chr&gt; | High &lt;chr&gt; | Low &lt;chr&gt; | Close &lt;chr&gt; | Volume &lt;chr&gt; | Close_time &lt;chr&gt; |\n",
       "|---|---|---|---|---|---|---|---|\n",
       "| 1 | 1620975600000 | 49056.83000000 | 50286.26000000 | 49050.00000000 | 49987.20000000 | 4177.17298000 | 1620979199999 |\n",
       "| 2 | 1620979200000 | 49987.19000000 | 50420.17000000 | 49880.00000000 | 50365.98000000 | 3437.19525800 | 1620982799999 |\n",
       "| 3 | 1620982800000 | 50365.97000000 | 50800.00000000 | 50140.10000000 | 50413.21000000 | 4037.60655600 | 1620986399999 |\n",
       "| 4 | 1620986400000 | 50413.21000000 | 50767.39000000 | 50213.00000000 | 50720.34000000 | 3962.66302300 | 1620989999999 |\n",
       "| 5 | 1.62099e+12   | 50720.34000000 | 50958.32000000 | 50478.79000000 | 50538.14000000 | 3477.03230700 | 1620993599999 |\n",
       "| 6 | 1620993600000 | 50538.13000000 | 50624.93000000 | 50226.19000000 | 50310.83000000 | 3335.75637300 | 1620997199999 |\n",
       "\n"
      ],
      "text/plain": [
       "  Open_time     Open           High           Low            Close         \n",
       "1 1620975600000 49056.83000000 50286.26000000 49050.00000000 49987.20000000\n",
       "2 1620979200000 49987.19000000 50420.17000000 49880.00000000 50365.98000000\n",
       "3 1620982800000 50365.97000000 50800.00000000 50140.10000000 50413.21000000\n",
       "4 1620986400000 50413.21000000 50767.39000000 50213.00000000 50720.34000000\n",
       "5 1.62099e+12   50720.34000000 50958.32000000 50478.79000000 50538.14000000\n",
       "6 1620993600000 50538.13000000 50624.93000000 50226.19000000 50310.83000000\n",
       "  Volume        Close_time   \n",
       "1 4177.17298000 1620979199999\n",
       "2 3437.19525800 1620982799999\n",
       "3 4037.60655600 1620986399999\n",
       "4 3962.66302300 1620989999999\n",
       "5 3477.03230700 1620993599999\n",
       "6 3335.75637300 1620997199999"
      ]
     },
     "metadata": {},
     "output_type": "display_data"
    }
   ],
   "source": [
    "# fix columns names\n",
    "colnames(data) <- c(\"Open_time\", \"Open\", \"High\", \"Low\", \"Close\", \"Volume\", \"Close_time\")\n",
    "head(data) # looks better, but columns are characters still"
   ]
  },
  {
   "cell_type": "code",
   "execution_count": 20,
   "id": "017c8688",
   "metadata": {},
   "outputs": [
    {
     "data": {
      "text/html": [
       "FALSE"
      ],
      "text/latex": [
       "FALSE"
      ],
      "text/markdown": [
       "FALSE"
      ],
      "text/plain": [
       "[1] FALSE"
      ]
     },
     "metadata": {},
     "output_type": "display_data"
    },
    {
     "data": {
      "text/html": [
       "FALSE"
      ],
      "text/latex": [
       "FALSE"
      ],
      "text/markdown": [
       "FALSE"
      ],
      "text/plain": [
       "[1] FALSE"
      ]
     },
     "metadata": {},
     "output_type": "display_data"
    }
   ],
   "source": [
    "is.numeric(data[,1]) # check 1st column type is numeric\n",
    "is.numeric(data[,2]) # check 2nd column type is numeric"
   ]
  },
  {
   "cell_type": "code",
   "execution_count": 24,
   "id": "41ee26fa",
   "metadata": {},
   "outputs": [
    {
     "data": {
      "text/html": [
       "<table class=\"dataframe\">\n",
       "<caption>A data.frame: 6 × 7</caption>\n",
       "<thead>\n",
       "\t<tr><th></th><th scope=col>Open_time</th><th scope=col>Open</th><th scope=col>High</th><th scope=col>Low</th><th scope=col>Close</th><th scope=col>Volume</th><th scope=col>Close_time</th></tr>\n",
       "\t<tr><th></th><th scope=col>&lt;dbl&gt;</th><th scope=col>&lt;dbl&gt;</th><th scope=col>&lt;dbl&gt;</th><th scope=col>&lt;dbl&gt;</th><th scope=col>&lt;dbl&gt;</th><th scope=col>&lt;dbl&gt;</th><th scope=col>&lt;dbl&gt;</th></tr>\n",
       "</thead>\n",
       "<tbody>\n",
       "\t<tr><th scope=row>1</th><td>1.620976e+12</td><td>49056.83</td><td>50286.26</td><td>49050.00</td><td>49987.20</td><td>4177.173</td><td>1.620979e+12</td></tr>\n",
       "\t<tr><th scope=row>2</th><td>1.620979e+12</td><td>49987.19</td><td>50420.17</td><td>49880.00</td><td>50365.98</td><td>3437.195</td><td>1.620983e+12</td></tr>\n",
       "\t<tr><th scope=row>3</th><td>1.620983e+12</td><td>50365.97</td><td>50800.00</td><td>50140.10</td><td>50413.21</td><td>4037.607</td><td>1.620986e+12</td></tr>\n",
       "\t<tr><th scope=row>4</th><td>1.620986e+12</td><td>50413.21</td><td>50767.39</td><td>50213.00</td><td>50720.34</td><td>3962.663</td><td>1.620990e+12</td></tr>\n",
       "\t<tr><th scope=row>5</th><td>1.620990e+12</td><td>50720.34</td><td>50958.32</td><td>50478.79</td><td>50538.14</td><td>3477.032</td><td>1.620994e+12</td></tr>\n",
       "\t<tr><th scope=row>6</th><td>1.620994e+12</td><td>50538.13</td><td>50624.93</td><td>50226.19</td><td>50310.83</td><td>3335.756</td><td>1.620997e+12</td></tr>\n",
       "</tbody>\n",
       "</table>\n"
      ],
      "text/latex": [
       "A data.frame: 6 × 7\n",
       "\\begin{tabular}{r|lllllll}\n",
       "  & Open\\_time & Open & High & Low & Close & Volume & Close\\_time\\\\\n",
       "  & <dbl> & <dbl> & <dbl> & <dbl> & <dbl> & <dbl> & <dbl>\\\\\n",
       "\\hline\n",
       "\t1 & 1.620976e+12 & 49056.83 & 50286.26 & 49050.00 & 49987.20 & 4177.173 & 1.620979e+12\\\\\n",
       "\t2 & 1.620979e+12 & 49987.19 & 50420.17 & 49880.00 & 50365.98 & 3437.195 & 1.620983e+12\\\\\n",
       "\t3 & 1.620983e+12 & 50365.97 & 50800.00 & 50140.10 & 50413.21 & 4037.607 & 1.620986e+12\\\\\n",
       "\t4 & 1.620986e+12 & 50413.21 & 50767.39 & 50213.00 & 50720.34 & 3962.663 & 1.620990e+12\\\\\n",
       "\t5 & 1.620990e+12 & 50720.34 & 50958.32 & 50478.79 & 50538.14 & 3477.032 & 1.620994e+12\\\\\n",
       "\t6 & 1.620994e+12 & 50538.13 & 50624.93 & 50226.19 & 50310.83 & 3335.756 & 1.620997e+12\\\\\n",
       "\\end{tabular}\n"
      ],
      "text/markdown": [
       "\n",
       "A data.frame: 6 × 7\n",
       "\n",
       "| <!--/--> | Open_time &lt;dbl&gt; | Open &lt;dbl&gt; | High &lt;dbl&gt; | Low &lt;dbl&gt; | Close &lt;dbl&gt; | Volume &lt;dbl&gt; | Close_time &lt;dbl&gt; |\n",
       "|---|---|---|---|---|---|---|---|\n",
       "| 1 | 1.620976e+12 | 49056.83 | 50286.26 | 49050.00 | 49987.20 | 4177.173 | 1.620979e+12 |\n",
       "| 2 | 1.620979e+12 | 49987.19 | 50420.17 | 49880.00 | 50365.98 | 3437.195 | 1.620983e+12 |\n",
       "| 3 | 1.620983e+12 | 50365.97 | 50800.00 | 50140.10 | 50413.21 | 4037.607 | 1.620986e+12 |\n",
       "| 4 | 1.620986e+12 | 50413.21 | 50767.39 | 50213.00 | 50720.34 | 3962.663 | 1.620990e+12 |\n",
       "| 5 | 1.620990e+12 | 50720.34 | 50958.32 | 50478.79 | 50538.14 | 3477.032 | 1.620994e+12 |\n",
       "| 6 | 1.620994e+12 | 50538.13 | 50624.93 | 50226.19 | 50310.83 | 3335.756 | 1.620997e+12 |\n",
       "\n"
      ],
      "text/plain": [
       "  Open_time    Open     High     Low      Close    Volume   Close_time  \n",
       "1 1.620976e+12 49056.83 50286.26 49050.00 49987.20 4177.173 1.620979e+12\n",
       "2 1.620979e+12 49987.19 50420.17 49880.00 50365.98 3437.195 1.620983e+12\n",
       "3 1.620983e+12 50365.97 50800.00 50140.10 50413.21 4037.607 1.620986e+12\n",
       "4 1.620986e+12 50413.21 50767.39 50213.00 50720.34 3962.663 1.620990e+12\n",
       "5 1.620990e+12 50720.34 50958.32 50478.79 50538.14 3477.032 1.620994e+12\n",
       "6 1.620994e+12 50538.13 50624.93 50226.19 50310.83 3335.756 1.620997e+12"
      ]
     },
     "metadata": {},
     "output_type": "display_data"
    }
   ],
   "source": [
    "data <- as.data.frame(sapply(data, as.numeric)) # convert all columns to numeric\n",
    "head(data) # good, its double now"
   ]
  },
  {
   "cell_type": "markdown",
   "id": "deaa5443",
   "metadata": {},
   "source": [
    "Final stage is to convert `Open_time` and `Close_time` to dates."
   ]
  },
  {
   "cell_type": "code",
   "execution_count": 26,
   "id": "daab403e",
   "metadata": {},
   "outputs": [
    {
     "ename": "ERROR",
     "evalue": "Error in Ops.POSIXt(data$Open_time, 1000): '/' not defined for \"POSIXt\" objects\n",
     "output_type": "error",
     "traceback": [
      "Error in Ops.POSIXt(data$Open_time, 1000): '/' not defined for \"POSIXt\" objects\nTraceback:\n",
      "1. as.POSIXct(data$Open_time/1000, origin = \"1970-01-01\")",
      "2. Ops.POSIXt(data$Open_time, 1000)",
      "3. stop(gettextf(\"'%s' not defined for \\\"POSIXt\\\" objects\", .Generic), \n .     domain = NA)"
     ]
    }
   ],
   "source": [
    "data$Open_time <- as.POSIXct(data$Open_time/1e3, origin = '1970-01-01')\n",
    "data$Close_time <- as.POSIXct(data$Close_time/1e3, origin = '1970-01-01')\n",
    "\n",
    "head(data) "
   ]
  },
  {
   "cell_type": "code",
   "execution_count": 28,
   "id": "c4f15d7f",
   "metadata": {},
   "outputs": [
    {
     "data": {
      "text/html": [
       "<table class=\"dataframe\">\n",
       "<caption>A data.frame: 6 × 7</caption>\n",
       "<thead>\n",
       "\t<tr><th></th><th scope=col>Open_time</th><th scope=col>Open</th><th scope=col>High</th><th scope=col>Low</th><th scope=col>Close</th><th scope=col>Volume</th><th scope=col>Close_time</th></tr>\n",
       "\t<tr><th></th><th scope=col>&lt;dttm&gt;</th><th scope=col>&lt;dbl&gt;</th><th scope=col>&lt;dbl&gt;</th><th scope=col>&lt;dbl&gt;</th><th scope=col>&lt;dbl&gt;</th><th scope=col>&lt;dbl&gt;</th><th scope=col>&lt;dttm&gt;</th></tr>\n",
       "</thead>\n",
       "<tbody>\n",
       "\t<tr><th scope=row>95</th><td>2021-05-18 08:00:00</td><td>45318.98</td><td>45509.24</td><td>45007.31</td><td>45359.99</td><td>4003.0760</td><td>2021-05-18 08:59:59</td></tr>\n",
       "\t<tr><th scope=row>96</th><td>2021-05-18 09:00:00</td><td>45355.82</td><td>45799.29</td><td>44800.40</td><td>44898.06</td><td>4784.4768</td><td>2021-05-18 09:59:59</td></tr>\n",
       "\t<tr><th scope=row>97</th><td>2021-05-18 10:00:00</td><td>44898.05</td><td>45244.64</td><td>44837.44</td><td>45172.70</td><td>3823.2620</td><td>2021-05-18 10:59:59</td></tr>\n",
       "\t<tr><th scope=row>98</th><td>2021-05-18 11:00:00</td><td>45172.69</td><td>45420.00</td><td>44826.41</td><td>44925.19</td><td>3610.9346</td><td>2021-05-18 11:59:59</td></tr>\n",
       "\t<tr><th scope=row>99</th><td>2021-05-18 12:00:00</td><td>44925.19</td><td>45133.00</td><td>44607.08</td><td>44955.35</td><td>3542.8451</td><td>2021-05-18 12:59:59</td></tr>\n",
       "\t<tr><th scope=row>100</th><td>2021-05-18 13:00:00</td><td>44955.35</td><td>45085.00</td><td>44731.84</td><td>45084.73</td><td> 925.7981</td><td>2021-05-18 13:59:59</td></tr>\n",
       "</tbody>\n",
       "</table>\n"
      ],
      "text/latex": [
       "A data.frame: 6 × 7\n",
       "\\begin{tabular}{r|lllllll}\n",
       "  & Open\\_time & Open & High & Low & Close & Volume & Close\\_time\\\\\n",
       "  & <dttm> & <dbl> & <dbl> & <dbl> & <dbl> & <dbl> & <dttm>\\\\\n",
       "\\hline\n",
       "\t95 & 2021-05-18 08:00:00 & 45318.98 & 45509.24 & 45007.31 & 45359.99 & 4003.0760 & 2021-05-18 08:59:59\\\\\n",
       "\t96 & 2021-05-18 09:00:00 & 45355.82 & 45799.29 & 44800.40 & 44898.06 & 4784.4768 & 2021-05-18 09:59:59\\\\\n",
       "\t97 & 2021-05-18 10:00:00 & 44898.05 & 45244.64 & 44837.44 & 45172.70 & 3823.2620 & 2021-05-18 10:59:59\\\\\n",
       "\t98 & 2021-05-18 11:00:00 & 45172.69 & 45420.00 & 44826.41 & 44925.19 & 3610.9346 & 2021-05-18 11:59:59\\\\\n",
       "\t99 & 2021-05-18 12:00:00 & 44925.19 & 45133.00 & 44607.08 & 44955.35 & 3542.8451 & 2021-05-18 12:59:59\\\\\n",
       "\t100 & 2021-05-18 13:00:00 & 44955.35 & 45085.00 & 44731.84 & 45084.73 &  925.7981 & 2021-05-18 13:59:59\\\\\n",
       "\\end{tabular}\n"
      ],
      "text/markdown": [
       "\n",
       "A data.frame: 6 × 7\n",
       "\n",
       "| <!--/--> | Open_time &lt;dttm&gt; | Open &lt;dbl&gt; | High &lt;dbl&gt; | Low &lt;dbl&gt; | Close &lt;dbl&gt; | Volume &lt;dbl&gt; | Close_time &lt;dttm&gt; |\n",
       "|---|---|---|---|---|---|---|---|\n",
       "| 95 | 2021-05-18 08:00:00 | 45318.98 | 45509.24 | 45007.31 | 45359.99 | 4003.0760 | 2021-05-18 08:59:59 |\n",
       "| 96 | 2021-05-18 09:00:00 | 45355.82 | 45799.29 | 44800.40 | 44898.06 | 4784.4768 | 2021-05-18 09:59:59 |\n",
       "| 97 | 2021-05-18 10:00:00 | 44898.05 | 45244.64 | 44837.44 | 45172.70 | 3823.2620 | 2021-05-18 10:59:59 |\n",
       "| 98 | 2021-05-18 11:00:00 | 45172.69 | 45420.00 | 44826.41 | 44925.19 | 3610.9346 | 2021-05-18 11:59:59 |\n",
       "| 99 | 2021-05-18 12:00:00 | 44925.19 | 45133.00 | 44607.08 | 44955.35 | 3542.8451 | 2021-05-18 12:59:59 |\n",
       "| 100 | 2021-05-18 13:00:00 | 44955.35 | 45085.00 | 44731.84 | 45084.73 |  925.7981 | 2021-05-18 13:59:59 |\n",
       "\n"
      ],
      "text/plain": [
       "    Open_time           Open     High     Low      Close    Volume   \n",
       "95  2021-05-18 08:00:00 45318.98 45509.24 45007.31 45359.99 4003.0760\n",
       "96  2021-05-18 09:00:00 45355.82 45799.29 44800.40 44898.06 4784.4768\n",
       "97  2021-05-18 10:00:00 44898.05 45244.64 44837.44 45172.70 3823.2620\n",
       "98  2021-05-18 11:00:00 45172.69 45420.00 44826.41 44925.19 3610.9346\n",
       "99  2021-05-18 12:00:00 44925.19 45133.00 44607.08 44955.35 3542.8451\n",
       "100 2021-05-18 13:00:00 44955.35 45085.00 44731.84 45084.73  925.7981\n",
       "    Close_time         \n",
       "95  2021-05-18 08:59:59\n",
       "96  2021-05-18 09:59:59\n",
       "97  2021-05-18 10:59:59\n",
       "98  2021-05-18 11:59:59\n",
       "99  2021-05-18 12:59:59\n",
       "100 2021-05-18 13:59:59"
      ]
     },
     "metadata": {},
     "output_type": "display_data"
    }
   ],
   "source": [
    "tail(data) # check last records"
   ]
  },
  {
   "cell_type": "markdown",
   "id": "df622d68",
   "metadata": {},
   "source": [
    "# 5. Google Services"
   ]
  },
  {
   "cell_type": "markdown",
   "id": "223d2548",
   "metadata": {},
   "source": [
    "## 5.1. Spreadsheets"
   ]
  },
  {
   "cell_type": "markdown",
   "id": "6bb1ba95",
   "metadata": {},
   "source": [
    "> THIS CHAPTER IS UNDER CONSTRUCTION / Working with Google Spreadsheets need account authorization."
   ]
  },
  {
   "cell_type": "markdown",
   "id": "1cd4b900",
   "metadata": {},
   "source": [
    "googlesheets4 is a package to work with Google Sheets from R. "
   ]
  },
  {
   "cell_type": "code",
   "execution_count": 30,
   "id": "32d66854",
   "metadata": {},
   "outputs": [],
   "source": [
    "#install.packages(\"googlesheets4\")\n",
    "library(googlesheets4)"
   ]
  },
  {
   "cell_type": "markdown",
   "id": "b93fb593",
   "metadata": {},
   "source": [
    "You can read google documents after authentification on google service. There is sample code:\n",
    "\n",
    "```\n",
    "read_sheet(\"https://docs.google.com/spreadsheets/d/1U6Cf_qEOhiR9AZqTqS3mbMF3zt2db48ZP5v3rkrAEJY/edit#gid=780868077\")\n",
    "gs4_deauth()\n",
    "```"
   ]
  },
  {
   "cell_type": "markdown",
   "id": "86ce78cd",
   "metadata": {},
   "source": [
    "Let's read sample dataset `gapminder`. It detailed described in next paragraph."
   ]
  },
  {
   "cell_type": "code",
   "execution_count": 31,
   "id": "b1838176",
   "metadata": {},
   "outputs": [
    {
     "data": {
      "text/plain": [
       "Spreadsheet name: <unknown>\n",
       "              ID: 1U6Cf_qEOhiR9AZqTqS3mbMF3zt2db48ZP5v3rkrAEJY\n",
       "          Locale: <unknown>\n",
       "       Time zone: <unknown>\n",
       "     # of sheets: <unknown>\n",
       "\n",
       "Unable to get metadata for this Sheet. Error details:\n",
       "Can't get Google credentials.\n",
       "Are you running googlesheets4 in a non-interactive session? Consider:\n",
       "  * `gs4_deauth()` to prevent the attempt to get credentials.\n",
       "  * Call `gs4_auth()` directly with all necessary specifics.\n",
       "See gargle's \"Non-interactive auth\" vignette for more details:\n",
       "https://gargle.r-lib.org/articles/non-interactive-auth.html"
      ]
     },
     "metadata": {},
     "output_type": "display_data"
    }
   ],
   "source": [
    "gs4_example(\"gapminder\")"
   ]
  },
  {
   "cell_type": "markdown",
   "id": "26d52bb0",
   "metadata": {},
   "source": [
    "## 5.2. Trends"
   ]
  },
  {
   "cell_type": "markdown",
   "id": "d991ac0f",
   "metadata": {},
   "source": [
    "**`Google Trends`** is a service for analyzing search requests by many filters like `region` (continent, country, locality), `period` (year, month), `information category` (business, education, hobby, healthcare), `information type` (news, shopping, video, images) https://trends.google.com/trends/"
   ]
  },
  {
   "cell_type": "markdown",
   "id": "06bd9eac",
   "metadata": {},
   "source": []
  },
  {
   "cell_type": "code",
   "execution_count": 108,
   "id": "f9b8248d",
   "metadata": {},
   "outputs": [],
   "source": [
    "#install.packages('gtrendsR')\n",
    "#install.packages('ggplot2')\n",
    "library(gtrendsR) # loading package for Google Trends queries\n",
    "library(ggplot2)"
   ]
  },
  {
   "cell_type": "markdown",
   "id": "2b04164f",
   "metadata": {},
   "source": [
    "Let's configure out google trends query params"
   ]
  },
  {
   "cell_type": "code",
   "execution_count": 143,
   "id": "244a079c",
   "metadata": {},
   "outputs": [],
   "source": [
    "keywords = c(\"Bitcoin-Kurs\", \"FC Barcelona\") # search keywords\n",
    "country = c('AT') # search region from https://support.google.com/business/answer/6270107?hl=en\n",
    "time = (\"2021-01-01 2021-05-17\") # period\n",
    "channel = 'web' # search channel: google search ('news' - google news, 'images' - google images)"
   ]
  },
  {
   "cell_type": "code",
   "execution_count": 144,
   "id": "5ad1af3e",
   "metadata": {},
   "outputs": [],
   "source": [
    "# query\n",
    "trends = gtrends(keywords, gprop = channel, geo = country, time = time, tz = \"UTC\")"
   ]
  },
  {
   "cell_type": "code",
   "execution_count": 145,
   "id": "d25b1322",
   "metadata": {},
   "outputs": [
    {
     "data": {
      "text/html": [
       "<table class=\"dataframe\">\n",
       "<caption>A data.frame: 6 × 7</caption>\n",
       "<thead>\n",
       "\t<tr><th></th><th scope=col>date</th><th scope=col>hits</th><th scope=col>keyword</th><th scope=col>geo</th><th scope=col>time</th><th scope=col>gprop</th><th scope=col>category</th></tr>\n",
       "\t<tr><th></th><th scope=col>&lt;dttm&gt;</th><th scope=col>&lt;int&gt;</th><th scope=col>&lt;chr&gt;</th><th scope=col>&lt;chr&gt;</th><th scope=col>&lt;chr&gt;</th><th scope=col>&lt;chr&gt;</th><th scope=col>&lt;int&gt;</th></tr>\n",
       "</thead>\n",
       "<tbody>\n",
       "\t<tr><th scope=row>1</th><td>2021-01-01</td><td>7</td><td>Bitcoin-Kurs</td><td>AT</td><td>2021-01-01 2021-05-17</td><td>web</td><td>0</td></tr>\n",
       "\t<tr><th scope=row>2</th><td>2021-01-02</td><td>7</td><td>Bitcoin-Kurs</td><td>AT</td><td>2021-01-01 2021-05-17</td><td>web</td><td>0</td></tr>\n",
       "\t<tr><th scope=row>3</th><td>2021-01-03</td><td>7</td><td>Bitcoin-Kurs</td><td>AT</td><td>2021-01-01 2021-05-17</td><td>web</td><td>0</td></tr>\n",
       "\t<tr><th scope=row>4</th><td>2021-01-04</td><td>0</td><td>Bitcoin-Kurs</td><td>AT</td><td>2021-01-01 2021-05-17</td><td>web</td><td>0</td></tr>\n",
       "\t<tr><th scope=row>5</th><td>2021-01-05</td><td>6</td><td>Bitcoin-Kurs</td><td>AT</td><td>2021-01-01 2021-05-17</td><td>web</td><td>0</td></tr>\n",
       "\t<tr><th scope=row>6</th><td>2021-01-06</td><td>6</td><td>Bitcoin-Kurs</td><td>AT</td><td>2021-01-01 2021-05-17</td><td>web</td><td>0</td></tr>\n",
       "</tbody>\n",
       "</table>\n"
      ],
      "text/latex": [
       "A data.frame: 6 × 7\n",
       "\\begin{tabular}{r|lllllll}\n",
       "  & date & hits & keyword & geo & time & gprop & category\\\\\n",
       "  & <dttm> & <int> & <chr> & <chr> & <chr> & <chr> & <int>\\\\\n",
       "\\hline\n",
       "\t1 & 2021-01-01 & 7 & Bitcoin-Kurs & AT & 2021-01-01 2021-05-17 & web & 0\\\\\n",
       "\t2 & 2021-01-02 & 7 & Bitcoin-Kurs & AT & 2021-01-01 2021-05-17 & web & 0\\\\\n",
       "\t3 & 2021-01-03 & 7 & Bitcoin-Kurs & AT & 2021-01-01 2021-05-17 & web & 0\\\\\n",
       "\t4 & 2021-01-04 & 0 & Bitcoin-Kurs & AT & 2021-01-01 2021-05-17 & web & 0\\\\\n",
       "\t5 & 2021-01-05 & 6 & Bitcoin-Kurs & AT & 2021-01-01 2021-05-17 & web & 0\\\\\n",
       "\t6 & 2021-01-06 & 6 & Bitcoin-Kurs & AT & 2021-01-01 2021-05-17 & web & 0\\\\\n",
       "\\end{tabular}\n"
      ],
      "text/markdown": [
       "\n",
       "A data.frame: 6 × 7\n",
       "\n",
       "| <!--/--> | date &lt;dttm&gt; | hits &lt;int&gt; | keyword &lt;chr&gt; | geo &lt;chr&gt; | time &lt;chr&gt; | gprop &lt;chr&gt; | category &lt;int&gt; |\n",
       "|---|---|---|---|---|---|---|---|\n",
       "| 1 | 2021-01-01 | 7 | Bitcoin-Kurs | AT | 2021-01-01 2021-05-17 | web | 0 |\n",
       "| 2 | 2021-01-02 | 7 | Bitcoin-Kurs | AT | 2021-01-01 2021-05-17 | web | 0 |\n",
       "| 3 | 2021-01-03 | 7 | Bitcoin-Kurs | AT | 2021-01-01 2021-05-17 | web | 0 |\n",
       "| 4 | 2021-01-04 | 0 | Bitcoin-Kurs | AT | 2021-01-01 2021-05-17 | web | 0 |\n",
       "| 5 | 2021-01-05 | 6 | Bitcoin-Kurs | AT | 2021-01-01 2021-05-17 | web | 0 |\n",
       "| 6 | 2021-01-06 | 6 | Bitcoin-Kurs | AT | 2021-01-01 2021-05-17 | web | 0 |\n",
       "\n"
      ],
      "text/plain": [
       "  date       hits keyword      geo time                  gprop category\n",
       "1 2021-01-01 7    Bitcoin-Kurs AT  2021-01-01 2021-05-17 web   0       \n",
       "2 2021-01-02 7    Bitcoin-Kurs AT  2021-01-01 2021-05-17 web   0       \n",
       "3 2021-01-03 7    Bitcoin-Kurs AT  2021-01-01 2021-05-17 web   0       \n",
       "4 2021-01-04 0    Bitcoin-Kurs AT  2021-01-01 2021-05-17 web   0       \n",
       "5 2021-01-05 6    Bitcoin-Kurs AT  2021-01-01 2021-05-17 web   0       \n",
       "6 2021-01-06 6    Bitcoin-Kurs AT  2021-01-01 2021-05-17 web   0       "
      ]
     },
     "metadata": {},
     "output_type": "display_data"
    }
   ],
   "source": [
    "time_trend = trends$interest_over_time\n",
    "head(time_trend)"
   ]
  },
  {
   "cell_type": "code",
   "execution_count": 146,
   "id": "ef97faef",
   "metadata": {},
   "outputs": [
    {
     "data": {
      "text/html": [
       "<table class=\"dataframe\">\n",
       "<caption>A data.frame: 6 × 7</caption>\n",
       "<thead>\n",
       "\t<tr><th></th><th scope=col>date</th><th scope=col>hits</th><th scope=col>keyword</th><th scope=col>geo</th><th scope=col>time</th><th scope=col>gprop</th><th scope=col>category</th></tr>\n",
       "\t<tr><th></th><th scope=col>&lt;dttm&gt;</th><th scope=col>&lt;int&gt;</th><th scope=col>&lt;chr&gt;</th><th scope=col>&lt;chr&gt;</th><th scope=col>&lt;chr&gt;</th><th scope=col>&lt;chr&gt;</th><th scope=col>&lt;int&gt;</th></tr>\n",
       "</thead>\n",
       "<tbody>\n",
       "\t<tr><th scope=row>263</th><td>2021-05-09</td><td>53</td><td>FC Barcelona</td><td>AT</td><td>2021-01-01 2021-05-17</td><td>web</td><td>0</td></tr>\n",
       "\t<tr><th scope=row>264</th><td>2021-05-10</td><td> 6</td><td>FC Barcelona</td><td>AT</td><td>2021-01-01 2021-05-17</td><td>web</td><td>0</td></tr>\n",
       "\t<tr><th scope=row>265</th><td>2021-05-11</td><td>35</td><td>FC Barcelona</td><td>AT</td><td>2021-01-01 2021-05-17</td><td>web</td><td>0</td></tr>\n",
       "\t<tr><th scope=row>266</th><td>2021-05-12</td><td>39</td><td>FC Barcelona</td><td>AT</td><td>2021-01-01 2021-05-17</td><td>web</td><td>0</td></tr>\n",
       "\t<tr><th scope=row>267</th><td>2021-05-13</td><td>12</td><td>FC Barcelona</td><td>AT</td><td>2021-01-01 2021-05-17</td><td>web</td><td>0</td></tr>\n",
       "\t<tr><th scope=row>268</th><td>2021-05-14</td><td> 0</td><td>FC Barcelona</td><td>AT</td><td>2021-01-01 2021-05-17</td><td>web</td><td>0</td></tr>\n",
       "</tbody>\n",
       "</table>\n"
      ],
      "text/latex": [
       "A data.frame: 6 × 7\n",
       "\\begin{tabular}{r|lllllll}\n",
       "  & date & hits & keyword & geo & time & gprop & category\\\\\n",
       "  & <dttm> & <int> & <chr> & <chr> & <chr> & <chr> & <int>\\\\\n",
       "\\hline\n",
       "\t263 & 2021-05-09 & 53 & FC Barcelona & AT & 2021-01-01 2021-05-17 & web & 0\\\\\n",
       "\t264 & 2021-05-10 &  6 & FC Barcelona & AT & 2021-01-01 2021-05-17 & web & 0\\\\\n",
       "\t265 & 2021-05-11 & 35 & FC Barcelona & AT & 2021-01-01 2021-05-17 & web & 0\\\\\n",
       "\t266 & 2021-05-12 & 39 & FC Barcelona & AT & 2021-01-01 2021-05-17 & web & 0\\\\\n",
       "\t267 & 2021-05-13 & 12 & FC Barcelona & AT & 2021-01-01 2021-05-17 & web & 0\\\\\n",
       "\t268 & 2021-05-14 &  0 & FC Barcelona & AT & 2021-01-01 2021-05-17 & web & 0\\\\\n",
       "\\end{tabular}\n"
      ],
      "text/markdown": [
       "\n",
       "A data.frame: 6 × 7\n",
       "\n",
       "| <!--/--> | date &lt;dttm&gt; | hits &lt;int&gt; | keyword &lt;chr&gt; | geo &lt;chr&gt; | time &lt;chr&gt; | gprop &lt;chr&gt; | category &lt;int&gt; |\n",
       "|---|---|---|---|---|---|---|---|\n",
       "| 263 | 2021-05-09 | 53 | FC Barcelona | AT | 2021-01-01 2021-05-17 | web | 0 |\n",
       "| 264 | 2021-05-10 |  6 | FC Barcelona | AT | 2021-01-01 2021-05-17 | web | 0 |\n",
       "| 265 | 2021-05-11 | 35 | FC Barcelona | AT | 2021-01-01 2021-05-17 | web | 0 |\n",
       "| 266 | 2021-05-12 | 39 | FC Barcelona | AT | 2021-01-01 2021-05-17 | web | 0 |\n",
       "| 267 | 2021-05-13 | 12 | FC Barcelona | AT | 2021-01-01 2021-05-17 | web | 0 |\n",
       "| 268 | 2021-05-14 |  0 | FC Barcelona | AT | 2021-01-01 2021-05-17 | web | 0 |\n",
       "\n"
      ],
      "text/plain": [
       "    date       hits keyword      geo time                  gprop category\n",
       "263 2021-05-09 53   FC Barcelona AT  2021-01-01 2021-05-17 web   0       \n",
       "264 2021-05-10  6   FC Barcelona AT  2021-01-01 2021-05-17 web   0       \n",
       "265 2021-05-11 35   FC Barcelona AT  2021-01-01 2021-05-17 web   0       \n",
       "266 2021-05-12 39   FC Barcelona AT  2021-01-01 2021-05-17 web   0       \n",
       "267 2021-05-13 12   FC Barcelona AT  2021-01-01 2021-05-17 web   0       \n",
       "268 2021-05-14  0   FC Barcelona AT  2021-01-01 2021-05-17 web   0       "
      ]
     },
     "metadata": {},
     "output_type": "display_data"
    }
   ],
   "source": [
    "tail(time_trend)"
   ]
  },
  {
   "cell_type": "code",
   "execution_count": 149,
   "id": "2ea8954b",
   "metadata": {},
   "outputs": [
    {
     "data": {
      "image/png": "[encoded data removed]",
      "text/plain": [
       "plot without title"
      ]
     },
     "metadata": {
      "image/png": {
       "height": 420,
       "width": 420
      }
     },
     "output_type": "display_data"
    }
   ],
   "source": [
    "plot <- ggplot(data=time_trend, aes(x=date, y=hits, group=keyword, col=keyword)) +\n",
    "  geom_line() +\n",
    "  xlab('Time') + \n",
    "  ylab('Relative Interest') + \n",
    "  theme(legend.title = element_blank(), legend.position=\"bottom\", legend.text=element_text(size=15)) + \n",
    "  ggtitle(\"Google Search Volume\")  \n",
    "\n",
    "plot"
   ]
  },
  {
   "cell_type": "markdown",
   "id": "344b934a",
   "metadata": {},
   "source": [
    "---"
   ]
  },
  {
   "cell_type": "markdown",
   "id": "981bcdea",
   "metadata": {},
   "source": [
    "# 6. SQL (SQLite sample)"
   ]
  },
  {
   "cell_type": "markdown",
   "id": "2e2c39ba",
   "metadata": {},
   "source": [
    "We are going to review working with database on SQLite, becouse it allows us not to install DB-server and start working with simple file. \n",
    "\n",
    "For now we will use `RSQLite` package."
   ]
  },
  {
   "cell_type": "code",
   "execution_count": 153,
   "id": "ac976e24",
   "metadata": {},
   "outputs": [],
   "source": [
    "#install.packages(\"RSQLite\")\n",
    "library(RSQLite)"
   ]
  },
  {
   "cell_type": "code",
   "execution_count": 158,
   "id": "438e7b0c",
   "metadata": {},
   "outputs": [
    {
     "data": {
      "text/html": [
       "<table class=\"dataframe\">\n",
       "<caption>A data.frame: 6 × 11</caption>\n",
       "<thead>\n",
       "\t<tr><th></th><th scope=col>mpg</th><th scope=col>cyl</th><th scope=col>disp</th><th scope=col>hp</th><th scope=col>drat</th><th scope=col>wt</th><th scope=col>qsec</th><th scope=col>vs</th><th scope=col>am</th><th scope=col>gear</th><th scope=col>carb</th></tr>\n",
       "\t<tr><th></th><th scope=col>&lt;dbl&gt;</th><th scope=col>&lt;dbl&gt;</th><th scope=col>&lt;dbl&gt;</th><th scope=col>&lt;dbl&gt;</th><th scope=col>&lt;dbl&gt;</th><th scope=col>&lt;dbl&gt;</th><th scope=col>&lt;dbl&gt;</th><th scope=col>&lt;dbl&gt;</th><th scope=col>&lt;dbl&gt;</th><th scope=col>&lt;dbl&gt;</th><th scope=col>&lt;dbl&gt;</th></tr>\n",
       "</thead>\n",
       "<tbody>\n",
       "\t<tr><th scope=row>Mazda RX4</th><td>21.0</td><td>6</td><td>160</td><td>110</td><td>3.90</td><td>2.620</td><td>16.46</td><td>0</td><td>1</td><td>4</td><td>4</td></tr>\n",
       "\t<tr><th scope=row>Mazda RX4 Wag</th><td>21.0</td><td>6</td><td>160</td><td>110</td><td>3.90</td><td>2.875</td><td>17.02</td><td>0</td><td>1</td><td>4</td><td>4</td></tr>\n",
       "\t<tr><th scope=row>Datsun 710</th><td>22.8</td><td>4</td><td>108</td><td> 93</td><td>3.85</td><td>2.320</td><td>18.61</td><td>1</td><td>1</td><td>4</td><td>1</td></tr>\n",
       "\t<tr><th scope=row>Hornet 4 Drive</th><td>21.4</td><td>6</td><td>258</td><td>110</td><td>3.08</td><td>3.215</td><td>19.44</td><td>1</td><td>0</td><td>3</td><td>1</td></tr>\n",
       "\t<tr><th scope=row>Hornet Sportabout</th><td>18.7</td><td>8</td><td>360</td><td>175</td><td>3.15</td><td>3.440</td><td>17.02</td><td>0</td><td>0</td><td>3</td><td>2</td></tr>\n",
       "\t<tr><th scope=row>Valiant</th><td>18.1</td><td>6</td><td>225</td><td>105</td><td>2.76</td><td>3.460</td><td>20.22</td><td>1</td><td>0</td><td>3</td><td>1</td></tr>\n",
       "</tbody>\n",
       "</table>\n"
      ],
      "text/latex": [
       "A data.frame: 6 × 11\n",
       "\\begin{tabular}{r|lllllllllll}\n",
       "  & mpg & cyl & disp & hp & drat & wt & qsec & vs & am & gear & carb\\\\\n",
       "  & <dbl> & <dbl> & <dbl> & <dbl> & <dbl> & <dbl> & <dbl> & <dbl> & <dbl> & <dbl> & <dbl>\\\\\n",
       "\\hline\n",
       "\tMazda RX4 & 21.0 & 6 & 160 & 110 & 3.90 & 2.620 & 16.46 & 0 & 1 & 4 & 4\\\\\n",
       "\tMazda RX4 Wag & 21.0 & 6 & 160 & 110 & 3.90 & 2.875 & 17.02 & 0 & 1 & 4 & 4\\\\\n",
       "\tDatsun 710 & 22.8 & 4 & 108 &  93 & 3.85 & 2.320 & 18.61 & 1 & 1 & 4 & 1\\\\\n",
       "\tHornet 4 Drive & 21.4 & 6 & 258 & 110 & 3.08 & 3.215 & 19.44 & 1 & 0 & 3 & 1\\\\\n",
       "\tHornet Sportabout & 18.7 & 8 & 360 & 175 & 3.15 & 3.440 & 17.02 & 0 & 0 & 3 & 2\\\\\n",
       "\tValiant & 18.1 & 6 & 225 & 105 & 2.76 & 3.460 & 20.22 & 1 & 0 & 3 & 1\\\\\n",
       "\\end{tabular}\n"
      ],
      "text/markdown": [
       "\n",
       "A data.frame: 6 × 11\n",
       "\n",
       "| <!--/--> | mpg &lt;dbl&gt; | cyl &lt;dbl&gt; | disp &lt;dbl&gt; | hp &lt;dbl&gt; | drat &lt;dbl&gt; | wt &lt;dbl&gt; | qsec &lt;dbl&gt; | vs &lt;dbl&gt; | am &lt;dbl&gt; | gear &lt;dbl&gt; | carb &lt;dbl&gt; |\n",
       "|---|---|---|---|---|---|---|---|---|---|---|---|\n",
       "| Mazda RX4 | 21.0 | 6 | 160 | 110 | 3.90 | 2.620 | 16.46 | 0 | 1 | 4 | 4 |\n",
       "| Mazda RX4 Wag | 21.0 | 6 | 160 | 110 | 3.90 | 2.875 | 17.02 | 0 | 1 | 4 | 4 |\n",
       "| Datsun 710 | 22.8 | 4 | 108 |  93 | 3.85 | 2.320 | 18.61 | 1 | 1 | 4 | 1 |\n",
       "| Hornet 4 Drive | 21.4 | 6 | 258 | 110 | 3.08 | 3.215 | 19.44 | 1 | 0 | 3 | 1 |\n",
       "| Hornet Sportabout | 18.7 | 8 | 360 | 175 | 3.15 | 3.440 | 17.02 | 0 | 0 | 3 | 2 |\n",
       "| Valiant | 18.1 | 6 | 225 | 105 | 2.76 | 3.460 | 20.22 | 1 | 0 | 3 | 1 |\n",
       "\n"
      ],
      "text/plain": [
       "                  mpg  cyl disp hp  drat wt    qsec  vs am gear carb\n",
       "Mazda RX4         21.0 6   160  110 3.90 2.620 16.46 0  1  4    4   \n",
       "Mazda RX4 Wag     21.0 6   160  110 3.90 2.875 17.02 0  1  4    4   \n",
       "Datsun 710        22.8 4   108   93 3.85 2.320 18.61 1  1  4    1   \n",
       "Hornet 4 Drive    21.4 6   258  110 3.08 3.215 19.44 1  0  3    1   \n",
       "Hornet Sportabout 18.7 8   360  175 3.15 3.440 17.02 0  0  3    2   \n",
       "Valiant           18.1 6   225  105 2.76 3.460 20.22 1  0  3    1   "
      ]
     },
     "metadata": {},
     "output_type": "display_data"
    }
   ],
   "source": [
    "# let's use mtcars dataset\n",
    "\n",
    "data(\"mtcars\") # loads the data\n",
    "head(mtcars) # preview the data"
   ]
  },
  {
   "cell_type": "code",
   "execution_count": 190,
   "id": "38baf556",
   "metadata": {},
   "outputs": [],
   "source": [
    "# create new db file\n",
    "db_path = paste0(\"data/cars_.sqlite\")\n",
    "# create connection\n",
    "conn <- dbConnect(RSQLite::SQLite(), \n",
    "                    db_path,\n",
    "                    overwrite = TRUE, append = FALSE) # for lecture content only"
   ]
  },
  {
   "cell_type": "code",
   "execution_count": 191,
   "id": "601b37b3",
   "metadata": {},
   "outputs": [
    {
     "data": {
      "text/html": [
       "'cars_table'"
      ],
      "text/latex": [
       "'cars\\_table'"
      ],
      "text/markdown": [
       "'cars_table'"
      ],
      "text/plain": [
       "[1] \"cars_table\""
      ]
     },
     "metadata": {},
     "output_type": "display_data"
    }
   ],
   "source": [
    "# Write the mtcars dataset into a table names mtcars_data\n",
    "dbWriteTable(conn, \"cars_table\", mtcars)\n",
    "# List all the tables available in the database\n",
    "dbListTables(conn)"
   ]
  },
  {
   "cell_type": "code",
   "execution_count": 192,
   "id": "b6424184",
   "metadata": {},
   "outputs": [
    {
     "data": {
      "text/html": [
       "<table class=\"dataframe\">\n",
       "<caption>A data.frame: 6 × 11</caption>\n",
       "<thead>\n",
       "\t<tr><th></th><th scope=col>mpg</th><th scope=col>cyl</th><th scope=col>disp</th><th scope=col>hp</th><th scope=col>drat</th><th scope=col>wt</th><th scope=col>qsec</th><th scope=col>vs</th><th scope=col>am</th><th scope=col>gear</th><th scope=col>carb</th></tr>\n",
       "\t<tr><th></th><th scope=col>&lt;dbl&gt;</th><th scope=col>&lt;dbl&gt;</th><th scope=col>&lt;dbl&gt;</th><th scope=col>&lt;dbl&gt;</th><th scope=col>&lt;dbl&gt;</th><th scope=col>&lt;dbl&gt;</th><th scope=col>&lt;dbl&gt;</th><th scope=col>&lt;dbl&gt;</th><th scope=col>&lt;dbl&gt;</th><th scope=col>&lt;dbl&gt;</th><th scope=col>&lt;dbl&gt;</th></tr>\n",
       "</thead>\n",
       "<tbody>\n",
       "\t<tr><th scope=row>1</th><td>21.0</td><td>6</td><td>160</td><td>110</td><td>3.90</td><td>2.620</td><td>16.46</td><td>0</td><td>1</td><td>4</td><td>4</td></tr>\n",
       "\t<tr><th scope=row>2</th><td>21.0</td><td>6</td><td>160</td><td>110</td><td>3.90</td><td>2.875</td><td>17.02</td><td>0</td><td>1</td><td>4</td><td>4</td></tr>\n",
       "\t<tr><th scope=row>3</th><td>22.8</td><td>4</td><td>108</td><td> 93</td><td>3.85</td><td>2.320</td><td>18.61</td><td>1</td><td>1</td><td>4</td><td>1</td></tr>\n",
       "\t<tr><th scope=row>4</th><td>21.4</td><td>6</td><td>258</td><td>110</td><td>3.08</td><td>3.215</td><td>19.44</td><td>1</td><td>0</td><td>3</td><td>1</td></tr>\n",
       "\t<tr><th scope=row>5</th><td>18.7</td><td>8</td><td>360</td><td>175</td><td>3.15</td><td>3.440</td><td>17.02</td><td>0</td><td>0</td><td>3</td><td>2</td></tr>\n",
       "\t<tr><th scope=row>6</th><td>18.1</td><td>6</td><td>225</td><td>105</td><td>2.76</td><td>3.460</td><td>20.22</td><td>1</td><td>0</td><td>3</td><td>1</td></tr>\n",
       "</tbody>\n",
       "</table>\n"
      ],
      "text/latex": [
       "A data.frame: 6 × 11\n",
       "\\begin{tabular}{r|lllllllllll}\n",
       "  & mpg & cyl & disp & hp & drat & wt & qsec & vs & am & gear & carb\\\\\n",
       "  & <dbl> & <dbl> & <dbl> & <dbl> & <dbl> & <dbl> & <dbl> & <dbl> & <dbl> & <dbl> & <dbl>\\\\\n",
       "\\hline\n",
       "\t1 & 21.0 & 6 & 160 & 110 & 3.90 & 2.620 & 16.46 & 0 & 1 & 4 & 4\\\\\n",
       "\t2 & 21.0 & 6 & 160 & 110 & 3.90 & 2.875 & 17.02 & 0 & 1 & 4 & 4\\\\\n",
       "\t3 & 22.8 & 4 & 108 &  93 & 3.85 & 2.320 & 18.61 & 1 & 1 & 4 & 1\\\\\n",
       "\t4 & 21.4 & 6 & 258 & 110 & 3.08 & 3.215 & 19.44 & 1 & 0 & 3 & 1\\\\\n",
       "\t5 & 18.7 & 8 & 360 & 175 & 3.15 & 3.440 & 17.02 & 0 & 0 & 3 & 2\\\\\n",
       "\t6 & 18.1 & 6 & 225 & 105 & 2.76 & 3.460 & 20.22 & 1 & 0 & 3 & 1\\\\\n",
       "\\end{tabular}\n"
      ],
      "text/markdown": [
       "\n",
       "A data.frame: 6 × 11\n",
       "\n",
       "| <!--/--> | mpg &lt;dbl&gt; | cyl &lt;dbl&gt; | disp &lt;dbl&gt; | hp &lt;dbl&gt; | drat &lt;dbl&gt; | wt &lt;dbl&gt; | qsec &lt;dbl&gt; | vs &lt;dbl&gt; | am &lt;dbl&gt; | gear &lt;dbl&gt; | carb &lt;dbl&gt; |\n",
       "|---|---|---|---|---|---|---|---|---|---|---|---|\n",
       "| 1 | 21.0 | 6 | 160 | 110 | 3.90 | 2.620 | 16.46 | 0 | 1 | 4 | 4 |\n",
       "| 2 | 21.0 | 6 | 160 | 110 | 3.90 | 2.875 | 17.02 | 0 | 1 | 4 | 4 |\n",
       "| 3 | 22.8 | 4 | 108 |  93 | 3.85 | 2.320 | 18.61 | 1 | 1 | 4 | 1 |\n",
       "| 4 | 21.4 | 6 | 258 | 110 | 3.08 | 3.215 | 19.44 | 1 | 0 | 3 | 1 |\n",
       "| 5 | 18.7 | 8 | 360 | 175 | 3.15 | 3.440 | 17.02 | 0 | 0 | 3 | 2 |\n",
       "| 6 | 18.1 | 6 | 225 | 105 | 2.76 | 3.460 | 20.22 | 1 | 0 | 3 | 1 |\n",
       "\n"
      ],
      "text/plain": [
       "  mpg  cyl disp hp  drat wt    qsec  vs am gear carb\n",
       "1 21.0 6   160  110 3.90 2.620 16.46 0  1  4    4   \n",
       "2 21.0 6   160  110 3.90 2.875 17.02 0  1  4    4   \n",
       "3 22.8 4   108   93 3.85 2.320 18.61 1  1  4    1   \n",
       "4 21.4 6   258  110 3.08 3.215 19.44 1  0  3    1   \n",
       "5 18.7 8   360  175 3.15 3.440 17.02 0  0  3    2   \n",
       "6 18.1 6   225  105 2.76 3.460 20.22 1  0  3    1   "
      ]
     },
     "metadata": {},
     "output_type": "display_data"
    }
   ],
   "source": [
    "table_data <- dbGetQuery(conn, \"SELECT * FROM cars_table\")\n",
    "head(table_data)"
   ]
  },
  {
   "cell_type": "code",
   "execution_count": 193,
   "id": "e2c950c1",
   "metadata": {},
   "outputs": [],
   "source": [
    "# close connection\n",
    "dbDisconnect(conn)"
   ]
  },
  {
   "cell_type": "markdown",
   "id": "0123c5c8",
   "metadata": {},
   "source": [
    "You can write complex queries for many tables if you knowledge of SQL allows."
   ]
  },
  {
   "cell_type": "markdown",
   "id": "32371f2a",
   "metadata": {},
   "source": [
    "# 7. Web-pages (HTML)"
   ]
  },
  {
   "cell_type": "markdown",
   "id": "6d7194e0",
   "metadata": {},
   "source": [
    "Sometimes decision making needs scrap data from web sources and pages.\n",
    "\n",
    "Let's try to parse data from `Wikipedia` as table. \n",
    "\n"
   ]
  },
  {
   "cell_type": "code",
   "execution_count": 35,
   "id": "8b2ce97a",
   "metadata": {},
   "outputs": [],
   "source": [
    "#install.packages(\"rvest\")\n",
    "library(rvest) # Parsing of HTML/XML files"
   ]
  },
  {
   "cell_type": "markdown",
   "id": "811f4f23",
   "metadata": {},
   "source": [
    "Go to web page https://en.wikipedia.org/wiki/List_of_largest_banks and check it."
   ]
  },
  {
   "cell_type": "code",
   "execution_count": 36,
   "id": "adddc7cd",
   "metadata": {},
   "outputs": [],
   "source": [
    "# fix URL\n",
    "url <- \"https://en.wikipedia.org/wiki/List_of_largest_banks\""
   ]
  },
  {
   "cell_type": "code",
   "execution_count": 37,
   "id": "592e6aef",
   "metadata": {},
   "outputs": [
    {
     "data": {
      "text/plain": [
       "{html_document}\n",
       "<html class=\"client-nojs\" lang=\"en\" dir=\"ltr\">\n",
       "[1] <head>\\n<meta http-equiv=\"Content-Type\" content=\"text/html; charset=UTF-8 ...\n",
       "[2] <body class=\"mediawiki ltr sitedir-ltr mw-hide-empty-elt ns-0 ns-subject  ..."
      ]
     },
     "metadata": {},
     "output_type": "display_data"
    }
   ],
   "source": [
    "# read html content of the page\n",
    "page <- read_html(url)\n",
    "page"
   ]
  },
  {
   "cell_type": "code",
   "execution_count": 38,
   "id": "b6eaaadd",
   "metadata": {},
   "outputs": [
    {
     "data": {
      "text/plain": [
       "{xml_nodeset (5)}\n",
       "[1] <table class=\"box-Missing_information plainlinks metadata ambox ambox-con ...\n",
       "[2] <table class=\"wikitable sortable mw-collapsible\"><tbody>\\n<tr>\\n<th data- ...\n",
       "[3] <table class=\"wikitable sortable mw-collapsible\">\\n<caption>Number of ban ...\n",
       "[4] <table class=\"wikitable sortable mw-collapsible\"><tbody>\\n<tr>\\n<th data- ...\n",
       "[5] <table class=\"wikitable sortable mw-collapsible\">\\n<caption>Total market  ..."
      ]
     },
     "metadata": {},
     "output_type": "display_data"
    }
   ],
   "source": [
    "# read all yables on page\n",
    "tables <- html_nodes(page, \"table\")\n",
    "tables"
   ]
  },
  {
   "cell_type": "markdown",
   "id": "aec6ecec",
   "metadata": {},
   "source": [
    "For now, let's read a table of Total Assets in US Billion"
   ]
  },
  {
   "cell_type": "code",
   "execution_count": 40,
   "id": "c9526ff7",
   "metadata": {},
   "outputs": [
    {
     "data": {
      "text/html": [
       "<table class=\"dataframe\">\n",
       "<caption>A data.frame: 6 × 3</caption>\n",
       "<thead>\n",
       "\t<tr><th></th><th scope=col>Rank</th><th scope=col>Bank.name</th><th scope=col>Total.assets.2019..US..Billion.</th></tr>\n",
       "\t<tr><th></th><th scope=col>&lt;int&gt;</th><th scope=col>&lt;chr&gt;</th><th scope=col>&lt;chr&gt;</th></tr>\n",
       "</thead>\n",
       "<tbody>\n",
       "\t<tr><th scope=row>1</th><td>1</td><td>Industrial and Commercial Bank of China</td><td>4,324.27</td></tr>\n",
       "\t<tr><th scope=row>2</th><td>2</td><td>China Construction Bank                </td><td>3,653.11</td></tr>\n",
       "\t<tr><th scope=row>3</th><td>3</td><td>Agricultural Bank of China             </td><td>3,572.98</td></tr>\n",
       "\t<tr><th scope=row>4</th><td>4</td><td>Bank of China                          </td><td>3,270.15</td></tr>\n",
       "\t<tr><th scope=row>5</th><td>5</td><td>Mitsubishi UFJ Financial Group         </td><td>2,892.97</td></tr>\n",
       "\t<tr><th scope=row>6</th><td>6</td><td>HSBC                                   </td><td>2,715.15</td></tr>\n",
       "</tbody>\n",
       "</table>\n"
      ],
      "text/latex": [
       "A data.frame: 6 × 3\n",
       "\\begin{tabular}{r|lll}\n",
       "  & Rank & Bank.name & Total.assets.2019..US..Billion.\\\\\n",
       "  & <int> & <chr> & <chr>\\\\\n",
       "\\hline\n",
       "\t1 & 1 & Industrial and Commercial Bank of China & 4,324.27\\\\\n",
       "\t2 & 2 & China Construction Bank                 & 3,653.11\\\\\n",
       "\t3 & 3 & Agricultural Bank of China              & 3,572.98\\\\\n",
       "\t4 & 4 & Bank of China                           & 3,270.15\\\\\n",
       "\t5 & 5 & Mitsubishi UFJ Financial Group          & 2,892.97\\\\\n",
       "\t6 & 6 & HSBC                                    & 2,715.15\\\\\n",
       "\\end{tabular}\n"
      ],
      "text/markdown": [
       "\n",
       "A data.frame: 6 × 3\n",
       "\n",
       "| <!--/--> | Rank &lt;int&gt; | Bank.name &lt;chr&gt; | Total.assets.2019..US..Billion. &lt;chr&gt; |\n",
       "|---|---|---|---|\n",
       "| 1 | 1 | Industrial and Commercial Bank of China | 4,324.27 |\n",
       "| 2 | 2 | China Construction Bank                 | 3,653.11 |\n",
       "| 3 | 3 | Agricultural Bank of China              | 3,572.98 |\n",
       "| 4 | 4 | Bank of China                           | 3,270.15 |\n",
       "| 5 | 5 | Mitsubishi UFJ Financial Group          | 2,892.97 |\n",
       "| 6 | 6 | HSBC                                    | 2,715.15 |\n",
       "\n"
      ],
      "text/plain": [
       "  Rank Bank.name                               Total.assets.2019..US..Billion.\n",
       "1 1    Industrial and Commercial Bank of China 4,324.27                       \n",
       "2 2    China Construction Bank                 3,653.11                       \n",
       "3 3    Agricultural Bank of China              3,572.98                       \n",
       "4 4    Bank of China                           3,270.15                       \n",
       "5 5    Mitsubishi UFJ Financial Group          2,892.97                       \n",
       "6 6    HSBC                                    2,715.15                       "
      ]
     },
     "metadata": {},
     "output_type": "display_data"
    }
   ],
   "source": [
    "# with pipe operator\n",
    "#tables[2] %>% \n",
    " #   html_table(fill = TRUE) %>% \n",
    " #   as.data.frame()\n",
    "#without pipe operator\n",
    "assets_table <- as.data.frame(html_table(tables[2], fill = TRUE))   \n",
    "head(assets_table)"
   ]
  },
  {
   "cell_type": "markdown",
   "id": "c895c5a6",
   "metadata": {},
   "source": [
    "Next is reading data of market capitalization table (4th):"
   ]
  },
  {
   "cell_type": "code",
   "execution_count": 41,
   "id": "6ab06911",
   "metadata": {},
   "outputs": [
    {
     "data": {
      "text/html": [
       "<table class=\"dataframe\">\n",
       "<caption>A data.frame: 6 × 3</caption>\n",
       "<thead>\n",
       "\t<tr><th></th><th scope=col>Rank</th><th scope=col>Bank.name</th><th scope=col>Market.cap.US..billion.</th></tr>\n",
       "\t<tr><th></th><th scope=col>&lt;int&gt;</th><th scope=col>&lt;chr&gt;</th><th scope=col>&lt;dbl&gt;</th></tr>\n",
       "</thead>\n",
       "<tbody>\n",
       "\t<tr><th scope=row>1</th><td>1</td><td>JPMorgan Chase                         </td><td>390.934</td></tr>\n",
       "\t<tr><th scope=row>2</th><td>2</td><td>Industrial and Commercial Bank of China</td><td>345.214</td></tr>\n",
       "\t<tr><th scope=row>3</th><td>3</td><td>Bank of America                        </td><td>325.331</td></tr>\n",
       "\t<tr><th scope=row>4</th><td>4</td><td>Wells Fargo                            </td><td>308.013</td></tr>\n",
       "\t<tr><th scope=row>5</th><td>5</td><td>China Construction Bank                </td><td>257.399</td></tr>\n",
       "\t<tr><th scope=row>6</th><td>6</td><td>HSBC Holdings PLC                      </td><td>219.270</td></tr>\n",
       "</tbody>\n",
       "</table>\n"
      ],
      "text/latex": [
       "A data.frame: 6 × 3\n",
       "\\begin{tabular}{r|lll}\n",
       "  & Rank & Bank.name & Market.cap.US..billion.\\\\\n",
       "  & <int> & <chr> & <dbl>\\\\\n",
       "\\hline\n",
       "\t1 & 1 & JPMorgan Chase                          & 390.934\\\\\n",
       "\t2 & 2 & Industrial and Commercial Bank of China & 345.214\\\\\n",
       "\t3 & 3 & Bank of America                         & 325.331\\\\\n",
       "\t4 & 4 & Wells Fargo                             & 308.013\\\\\n",
       "\t5 & 5 & China Construction Bank                 & 257.399\\\\\n",
       "\t6 & 6 & HSBC Holdings PLC                       & 219.270\\\\\n",
       "\\end{tabular}\n"
      ],
      "text/markdown": [
       "\n",
       "A data.frame: 6 × 3\n",
       "\n",
       "| <!--/--> | Rank &lt;int&gt; | Bank.name &lt;chr&gt; | Market.cap.US..billion. &lt;dbl&gt; |\n",
       "|---|---|---|---|\n",
       "| 1 | 1 | JPMorgan Chase                          | 390.934 |\n",
       "| 2 | 2 | Industrial and Commercial Bank of China | 345.214 |\n",
       "| 3 | 3 | Bank of America                         | 325.331 |\n",
       "| 4 | 4 | Wells Fargo                             | 308.013 |\n",
       "| 5 | 5 | China Construction Bank                 | 257.399 |\n",
       "| 6 | 6 | HSBC Holdings PLC                       | 219.270 |\n",
       "\n"
      ],
      "text/plain": [
       "  Rank Bank.name                               Market.cap.US..billion.\n",
       "1 1    JPMorgan Chase                          390.934                \n",
       "2 2    Industrial and Commercial Bank of China 345.214                \n",
       "3 3    Bank of America                         325.331                \n",
       "4 4    Wells Fargo                             308.013                \n",
       "5 5    China Construction Bank                 257.399                \n",
       "6 6    HSBC Holdings PLC                       219.270                "
      ]
     },
     "metadata": {},
     "output_type": "display_data"
    }
   ],
   "source": [
    "capital_table <- as.data.frame(html_table(tables[4], fill = TRUE))   \n",
    "head(capital_table)"
   ]
  },
  {
   "cell_type": "markdown",
   "id": "f335c65c",
   "metadata": {},
   "source": [
    "And now let's `merge()` this two datasets:"
   ]
  },
  {
   "cell_type": "code",
   "execution_count": 42,
   "id": "1648dd87",
   "metadata": {},
   "outputs": [
    {
     "data": {
      "text/html": [
       "<table class=\"dataframe\">\n",
       "<caption>A data.frame: 6 × 5</caption>\n",
       "<thead>\n",
       "\t<tr><th></th><th scope=col>Bank.name</th><th scope=col>Rank.x</th><th scope=col>Total.assets.2019..US..Billion.</th><th scope=col>Rank.y</th><th scope=col>Market.cap.US..billion.</th></tr>\n",
       "\t<tr><th></th><th scope=col>&lt;chr&gt;</th><th scope=col>&lt;int&gt;</th><th scope=col>&lt;chr&gt;</th><th scope=col>&lt;int&gt;</th><th scope=col>&lt;dbl&gt;</th></tr>\n",
       "</thead>\n",
       "<tbody>\n",
       "\t<tr><th scope=row>1</th><td>Agricultural Bank of China             </td><td> 3</td><td>3,572.98</td><td> 7</td><td>203.244</td></tr>\n",
       "\t<tr><th scope=row>2</th><td>Australia and New Zealand Banking Group</td><td>49</td><td>661.72  </td><td>32</td><td> 66.448</td></tr>\n",
       "\t<tr><th scope=row>3</th><td>Banco Bilbao Vizcaya Argentaria        </td><td>42</td><td>782.16  </td><td>36</td><td> 60.678</td></tr>\n",
       "\t<tr><th scope=row>4</th><td>Banco Bradesco                         </td><td>79</td><td>345.21  </td><td>33</td><td> 64.816</td></tr>\n",
       "\t<tr><th scope=row>5</th><td>Banco Santander                        </td><td>16</td><td>1,702.61</td><td>12</td><td>115.696</td></tr>\n",
       "\t<tr><th scope=row>6</th><td>Bank of America                        </td><td> 8</td><td>2,434.08</td><td> 3</td><td>325.331</td></tr>\n",
       "</tbody>\n",
       "</table>\n"
      ],
      "text/latex": [
       "A data.frame: 6 × 5\n",
       "\\begin{tabular}{r|lllll}\n",
       "  & Bank.name & Rank.x & Total.assets.2019..US..Billion. & Rank.y & Market.cap.US..billion.\\\\\n",
       "  & <chr> & <int> & <chr> & <int> & <dbl>\\\\\n",
       "\\hline\n",
       "\t1 & Agricultural Bank of China              &  3 & 3,572.98 &  7 & 203.244\\\\\n",
       "\t2 & Australia and New Zealand Banking Group & 49 & 661.72   & 32 &  66.448\\\\\n",
       "\t3 & Banco Bilbao Vizcaya Argentaria         & 42 & 782.16   & 36 &  60.678\\\\\n",
       "\t4 & Banco Bradesco                          & 79 & 345.21   & 33 &  64.816\\\\\n",
       "\t5 & Banco Santander                         & 16 & 1,702.61 & 12 & 115.696\\\\\n",
       "\t6 & Bank of America                         &  8 & 2,434.08 &  3 & 325.331\\\\\n",
       "\\end{tabular}\n"
      ],
      "text/markdown": [
       "\n",
       "A data.frame: 6 × 5\n",
       "\n",
       "| <!--/--> | Bank.name &lt;chr&gt; | Rank.x &lt;int&gt; | Total.assets.2019..US..Billion. &lt;chr&gt; | Rank.y &lt;int&gt; | Market.cap.US..billion. &lt;dbl&gt; |\n",
       "|---|---|---|---|---|---|\n",
       "| 1 | Agricultural Bank of China              |  3 | 3,572.98 |  7 | 203.244 |\n",
       "| 2 | Australia and New Zealand Banking Group | 49 | 661.72   | 32 |  66.448 |\n",
       "| 3 | Banco Bilbao Vizcaya Argentaria         | 42 | 782.16   | 36 |  60.678 |\n",
       "| 4 | Banco Bradesco                          | 79 | 345.21   | 33 |  64.816 |\n",
       "| 5 | Banco Santander                         | 16 | 1,702.61 | 12 | 115.696 |\n",
       "| 6 | Bank of America                         |  8 | 2,434.08 |  3 | 325.331 |\n",
       "\n"
      ],
      "text/plain": [
       "  Bank.name                               Rank.x\n",
       "1 Agricultural Bank of China               3    \n",
       "2 Australia and New Zealand Banking Group 49    \n",
       "3 Banco Bilbao Vizcaya Argentaria         42    \n",
       "4 Banco Bradesco                          79    \n",
       "5 Banco Santander                         16    \n",
       "6 Bank of America                          8    \n",
       "  Total.assets.2019..US..Billion. Rank.y Market.cap.US..billion.\n",
       "1 3,572.98                         7     203.244                \n",
       "2 661.72                          32      66.448                \n",
       "3 782.16                          36      60.678                \n",
       "4 345.21                          33      64.816                \n",
       "5 1,702.61                        12     115.696                \n",
       "6 2,434.08                         3     325.331                "
      ]
     },
     "metadata": {},
     "output_type": "display_data"
    }
   ],
   "source": [
    "merged_data <- merge(assets_table, capital_table, by = \"Bank.name\")\n",
    "head(merged_data)"
   ]
  },
  {
   "cell_type": "markdown",
   "id": "8dc59975",
   "metadata": {},
   "source": [
    "### Task 7.1"
   ]
  },
  {
   "cell_type": "markdown",
   "id": "00048568",
   "metadata": {},
   "source": [
    "From a page https://en.wikipedia.org/wiki/List_of_largest_banks read and `merge by country` name tables:\n",
    "\n",
    "- [x] Number of banks in the top 100 by total assets\n",
    "- [x] Total market capital (US$ billion) across the top 70 banks by country"
   ]
  },
  {
   "cell_type": "markdown",
   "id": "8ed880d6",
   "metadata": {},
   "source": [
    "---"
   ]
  },
  {
   "cell_type": "markdown",
   "id": "1d3b131b",
   "metadata": {},
   "source": [
    "## References"
   ]
  },
  {
   "cell_type": "markdown",
   "id": "34612e4d",
   "metadata": {},
   "source": [
    "1. [SQLite in R. Datacamp](https://www.datacamp.com/community/tutorials/sqlite-in-r)\n",
    "2. [Tidyverse googlesheets4 0.2.0](https://www.tidyverse.org/blog/2020/05/googlesheets4-0-2-0/)\n",
    "3. [Telecom users dataset. Practice classification with a telco dataset.Kaggle](https://www.kaggle.com/radmirzosimov/telecom-users-dataset)\n",
    "4. [Binanace spot Api Docs](https://github.com/binance/binance-spot-api-docs/blob/master/rest-api.md#klinecandlestick-data)\n",
    "5. [Web Scraping in R: rvest Tutorial](https://www.datacamp.com/community/tutorials/r-web-scraping-rvest) by Arvid Kingl"
   ]
  }
 ],
 "metadata": {
  "kernelspec": {
   "display_name": "R",
   "language": "R",
   "name": "ir"
  },
  "language_info": {
   "codemirror_mode": "r",
   "file_extension": ".r",
   "mimetype": "text/x-r-source",
   "name": "R",
   "pygments_lexer": "r",
   "version": "4.0.5"
  }
 },
 "nbformat": 4,
 "nbformat_minor": 5
}
