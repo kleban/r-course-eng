{
 "cells": [
  {
   "cell_type": "markdown",
   "id": "c2414ff5",
   "metadata": {},
   "source": [
    "# Reading and writing data\n",
    "\n",
    "---\n",
    "\n",
    "## Fundamentals of ETL: data extraction, transformation and loading\n",
    "\n",
    "\n",
    "Applied Mathematical Modeling in Banking"
   ]
  },
  {
   "cell_type": "markdown",
   "id": "c7ced297",
   "metadata": {},
   "source": [
    "---"
   ]
  },
  {
   "cell_type": "markdown",
   "id": "e20d0802",
   "metadata": {},
   "source": [
    "# Table of contents"
   ]
  },
  {
   "cell_type": "markdown",
   "id": "d61732c2",
   "metadata": {},
   "source": [
    "1. Comma Separated Values (CSV)\n",
    "\n",
    "2. MS Excel (Open XML / XLSX)\n",
    "\n",
    "2. eXtensible Markup Language (XML)\n",
    "\n",
    "3. JavaScript Object Notation (JSON) and API \n",
    "\n",
    "5. Google Services\n",
    "\n",
    "    5.1. Spreadsheets    \n",
    "    5.2. Trends\n",
    "    \n",
    "6. SQL (SQLite sample)\n",
    "\n",
    "7. Web-pages (HTML)"
   ]
  },
  {
   "cell_type": "markdown",
   "id": "e1e0922a",
   "metadata": {},
   "source": [
    "---"
   ]
  },
  {
   "cell_type": "markdown",
   "id": "595eb9f5",
   "metadata": {},
   "source": [
    "There are many data source types for data storing, reading. Let's review and try some of them."
   ]
  },
  {
   "cell_type": "markdown",
   "id": "06d272fc",
   "metadata": {},
   "source": [
    "# 1. CSV\n"
   ]
  },
  {
   "cell_type": "markdown",
   "id": "e1d4f620",
   "metadata": {},
   "source": [
    "`CSV` - comma separated values."
   ]
  },
  {
   "cell_type": "code",
   "execution_count": 2,
   "id": "40fa3165",
   "metadata": {},
   "outputs": [
    {
     "data": {
      "text/html": [
       "'E:/Repos/YuRa/r-course-eng'"
      ],
      "text/latex": [
       "'E:/Repos/YuRa/r-course-eng'"
      ],
      "text/markdown": [
       "'E:/Repos/YuRa/r-course-eng'"
      ],
      "text/plain": [
       "[1] \"E:/Repos/YuRa/r-course-eng\""
      ]
     },
     "metadata": {},
     "output_type": "display_data"
    }
   ],
   "source": [
    "# lets check current working directory to write correct files path\n",
    "getwd()"
   ]
  },
  {
   "cell_type": "markdown",
   "id": "f3547d6f",
   "metadata": {},
   "source": [
    "You can use `/` or `\\\\` for writing correct path in R. For example:"
   ]
  },
  {
   "cell_type": "code",
   "execution_count": 3,
   "id": "4f31749a",
   "metadata": {},
   "outputs": [],
   "source": [
    "path = \"d:/projects/file.csv\"\n",
    "path = \"d:\\\\projects\\\\file.csv\""
   ]
  },
  {
   "cell_type": "markdown",
   "id": "5bb015de",
   "metadata": {},
   "source": [
    "To combine path use `paste()` or `paste0()` functions"
   ]
  },
  {
   "cell_type": "code",
   "execution_count": 6,
   "id": "ac03ce77",
   "metadata": {},
   "outputs": [
    {
     "data": {
      "text/html": [
       "'E:/Repos/YuRa/r-course-eng'"
      ],
      "text/latex": [
       "'E:/Repos/YuRa/r-course-eng'"
      ],
      "text/markdown": [
       "'E:/Repos/YuRa/r-course-eng'"
      ],
      "text/plain": [
       "[1] \"E:/Repos/YuRa/r-course-eng\""
      ]
     },
     "metadata": {},
     "output_type": "display_data"
    }
   ],
   "source": [
    "work_dir = getwd()\n",
    "work_dir "
   ]
  },
  {
   "cell_type": "code",
   "execution_count": 8,
   "id": "2fc57102",
   "metadata": {},
   "outputs": [
    {
     "data": {
      "text/html": [
       "'E:/Repos/YuRa/r-course-eng/temp_file.csv'"
      ],
      "text/latex": [
       "'E:/Repos/YuRa/r-course-eng/temp\\_file.csv'"
      ],
      "text/markdown": [
       "'E:/Repos/YuRa/r-course-eng/temp_file.csv'"
      ],
      "text/plain": [
       "[1] \"E:/Repos/YuRa/r-course-eng/temp_file.csv\""
      ]
     },
     "metadata": {},
     "output_type": "display_data"
    }
   ],
   "source": [
    "file_name = \"temp_file.csv\"\n",
    "file_path = paste0(work_dir, \"/\", file_name)\n",
    "file_path"
   ]
  },
  {
   "cell_type": "code",
   "execution_count": 11,
   "id": "f530d601",
   "metadata": {},
   "outputs": [
    {
     "data": {
      "text/html": [
       "'E:/Repos/YuRa/r-course-eng/temp_file.csv'"
      ],
      "text/latex": [
       "'E:/Repos/YuRa/r-course-eng/temp\\_file.csv'"
      ],
      "text/markdown": [
       "'E:/Repos/YuRa/r-course-eng/temp_file.csv'"
      ],
      "text/plain": [
       "[1] \"E:/Repos/YuRa/r-course-eng/temp_file.csv\""
      ]
     },
     "metadata": {},
     "output_type": "display_data"
    }
   ],
   "source": [
    "file_path = paste(work_dir, file_name, sep = \"/\")\n",
    "file_path"
   ]
  },
  {
   "cell_type": "markdown",
   "id": "11232534",
   "metadata": {},
   "source": [
    "#### Sample dataset description"
   ]
  },
  {
   "cell_type": "markdown",
   "id": "d507a339",
   "metadata": {},
   "source": [
    "Information about dataset from [kaggle.com](kaggle.com).\n",
    "Original file located at url: [https://www.kaggle.com/radmirzosimov/telecom-users-dataset](https://www.kaggle.com/radmirzosimov/telecom-users-dataset)."
   ]
  },
  {
   "cell_type": "markdown",
   "id": "74c2439e",
   "metadata": {},
   "source": [
    "Any business wants to maximize the number of customers. To achieve this goal, it is important not only to try to attract new ones, but also to retain existing ones. Retaining a client will cost the company less than attracting a new one. In addition, a new client may be weakly interested in business services and it will be difficult to work with him, while old clients already have the necessary data on interaction with the service.\n",
    "\n",
    "Accordingly, predicting the churn, we can react in time and try to keep the client who wants to leave. Based on the data about the services that the client uses, we can make him a special offer, trying to change his decision to leave the operator. This will make the task of retention easier to implement than the task of attracting new users, about which we do not know anything yet.\n",
    "\n",
    "You are provided with a dataset from a telecommunications company. The data contains information about almost six thousand users, their demographic characteristics, the services they use, the duration of using the operator's services, the method of payment, and the amount of payment.\n",
    "\n",
    "The task is to analyze the data and predict the churn of users (to identify people who will and will not renew their contract). The work should include the following mandatory items:\n",
    "\n",
    "1. Description of the data (with the calculation of basic statistics);\n",
    "2. Research of dependencies and formulation of hypotheses;\n",
    "3. Building models for predicting the outflow (with justification for the choice of a particular model) 4. based on tested hypotheses and identified relationships;\n",
    "5. Comparison of the quality of the obtained models.\n",
    "\n",
    "**Fields description:**\n",
    "\n",
    "- [x] `customerID` - customer id\n",
    "- [x] `gender` - client gender (male / female)\n",
    "- [x] `SeniorCitizen` - is the client retired (1, 0)\n",
    "- [x] `Partner` - is the client married (Yes, No)\n",
    "- [x] `tenure` - how many months a person has been a client of the company\n",
    "- [x] `PhoneService` - is the telephone service connected (Yes, No)\n",
    "- [x] `MultipleLines` - are multiple phone lines connected (Yes, No, No phone service)\n",
    "- [x] `InternetService` - client's Internet service provider (DSL, Fiber optic, No)\n",
    "- [x] `OnlineSecurity` - is the online security service connected (Yes, No, No internet service)\n",
    "- [x] `OnlineBackup` - is the online backup service activated (Yes, No, No internet service)\n",
    "- [x] `DeviceProtection` - does the client have equipment insurance (Yes, No, No internet service)\n",
    "- [x] `TechSupport` - is the technical support service connected (Yes, No, No internet service)\n",
    "- [x] `StreamingTV` - is the streaming TV service connected (Yes, No, No internet service)\n",
    "- [x] `StreamingMovies` - is the streaming cinema service activated (Yes, No, No internet service)\n",
    "- [x] `Contract` - type of customer contract (Month-to-month, One year, Two year)\n",
    "- [x] `PaperlessBilling` - whether the client uses paperless billing (Yes, No)\n",
    "- [x] `PaymentMethod` - payment method (Electronic check, Mailed check, Bank transfer (automatic), Credit card (automatic))\n",
    "- [x] `MonthlyCharges` - current monthly payment\n",
    "- [x] `TotalCharges` - the total amount that the client paid for the services for the entire time\n",
    "- [x] `Churn - whether` there was a churn (Yes or No)\n"
   ]
  },
  {
   "cell_type": "markdown",
   "id": "99974c7f",
   "metadata": {},
   "source": [
    "Thare are few methods for reading/writing csv in `base` package:"
   ]
  },
  {
   "cell_type": "markdown",
   "id": "be0055ff",
   "metadata": {},
   "source": [
    "- [x] `read.csv()`, `write.csv` - default data separator is `,`, decimal is separator `.`.\n",
    "- [x] `read.csv2()`, `write.csv2` - default data separator is `;`, decimal is separator `,`."
   ]
  },
  {
   "cell_type": "markdown",
   "id": "64df9857",
   "metadata": {},
   "source": [
    "Before using any new function check it usage information with `help(function_name)` or `?function_name`, example: **`?read.csv`**."
   ]
  },
  {
   "cell_type": "markdown",
   "id": "8932fdb0",
   "metadata": {},
   "source": [
    "You can read (current data set has NA values as example, there are no NA in original datase):"
   ]
  },
  {
   "cell_type": "code",
   "execution_count": 1,
   "id": "f5540799",
   "metadata": {},
   "outputs": [],
   "source": [
    "data <- read.csv(\"data/telecom_users.csv\") # default reading"
   ]
  },
  {
   "cell_type": "code",
   "execution_count": 8,
   "id": "cc88882a",
   "metadata": {},
   "outputs": [],
   "source": [
    "data <- read.csv(\"data/telecom_users.csv\",\n",
    "                  sep = \",\", # comma not only possibel separator\n",
    "                  dec = \".\", # decimal separator can be different\n",
    "                  na.strings = c(\"\", \"NA\", \"NULL\")) # you can define NA values"
   ]
  },
  {
   "cell_type": "code",
   "execution_count": 3,
   "id": "dde8cb71",
   "metadata": {},
   "outputs": [
    {
     "name": "stdout",
     "output_type": "stream",
     "text": [
      "'data.frame':\t5986 obs. of  22 variables:\n",
      " $ X               : int  1869 4528 6344 6739 432 2215 5260 6001 1480 5137 ...\n",
      " $ customerID      : chr  \"7010-BRBUU\" \"9688-YGXVR\" \"9286-DOJGF\" \"6994-KERXL\" ...\n",
      " $ gender          : chr  \"Male\" \"Female\" \"Female\" \"Male\" ...\n",
      " $ SeniorCitizen   : int  0 0 1 0 0 0 0 0 0 1 ...\n",
      " $ Partner         : chr  \"Yes\" \"No\" \"Yes\" \"No\" ...\n",
      " $ Dependents      : chr  \"Yes\" \"No\" \"No\" \"No\" ...\n",
      " $ tenure          : int  72 44 38 4 2 70 33 1 39 55 ...\n",
      " $ PhoneService    : chr  \"Yes\" \"Yes\" \"Yes\" \"Yes\" ...\n",
      " $ MultipleLines   : chr  \"Yes\" \"No\" \"Yes\" \"No\" ...\n",
      " $ InternetService : chr  \"No\" \"Fiber optic\" \"Fiber optic\" \"DSL\" ...\n",
      " $ OnlineSecurity  : chr  \"No internet service\" \"No\" \"No\" \"No\" ...\n",
      " $ OnlineBackup    : chr  \"No internet service\" \"Yes\" \"No\" \"No\" ...\n",
      " $ DeviceProtection: chr  \"No internet service\" \"Yes\" \"No\" \"No\" ...\n",
      " $ TechSupport     : chr  \"No internet service\" \"No\" \"No\" \"No\" ...\n",
      " $ StreamingTV     : chr  \"No internet service\" \"Yes\" \"No\" \"No\" ...\n",
      " $ StreamingMovies : chr  \"No internet service\" \"No\" \"No\" \"Yes\" ...\n",
      " $ Contract        : chr  \"Two year\" \"Month-to-month\" \"Month-to-month\" \"Month-to-month\" ...\n",
      " $ PaperlessBilling: chr  \"No\" \"Yes\" \"Yes\" \"Yes\" ...\n",
      " $ PaymentMethod   : chr  \"Credit card (automatic)\" \"Credit card (automatic)\" \"Bank transfer (automatic)\" \"Electronic check\" ...\n",
      " $ MonthlyCharges  : num  24.1 88.2 75 55.9 53.5 ...\n",
      " $ TotalCharges    : num  1735 3973 2870 238 120 ...\n",
      " $ Churn           : chr  \"No\" \"No\" \"Yes\" \"No\" ...\n"
     ]
    }
   ],
   "source": [
    "str(data) # chack data structure / types/ values"
   ]
  },
  {
   "cell_type": "code",
   "execution_count": 5,
   "id": "9d3d097d",
   "metadata": {},
   "outputs": [
    {
     "data": {
      "text/html": [
       "<table class=\"dataframe\">\n",
       "<caption>A data.frame: 2 × 22</caption>\n",
       "<thead>\n",
       "\t<tr><th></th><th scope=col>X</th><th scope=col>customerID</th><th scope=col>gender</th><th scope=col>SeniorCitizen</th><th scope=col>Partner</th><th scope=col>Dependents</th><th scope=col>tenure</th><th scope=col>PhoneService</th><th scope=col>MultipleLines</th><th scope=col>InternetService</th><th scope=col>⋯</th><th scope=col>DeviceProtection</th><th scope=col>TechSupport</th><th scope=col>StreamingTV</th><th scope=col>StreamingMovies</th><th scope=col>Contract</th><th scope=col>PaperlessBilling</th><th scope=col>PaymentMethod</th><th scope=col>MonthlyCharges</th><th scope=col>TotalCharges</th><th scope=col>Churn</th></tr>\n",
       "\t<tr><th></th><th scope=col>&lt;int&gt;</th><th scope=col>&lt;chr&gt;</th><th scope=col>&lt;chr&gt;</th><th scope=col>&lt;int&gt;</th><th scope=col>&lt;chr&gt;</th><th scope=col>&lt;chr&gt;</th><th scope=col>&lt;int&gt;</th><th scope=col>&lt;chr&gt;</th><th scope=col>&lt;chr&gt;</th><th scope=col>&lt;chr&gt;</th><th scope=col>⋯</th><th scope=col>&lt;chr&gt;</th><th scope=col>&lt;chr&gt;</th><th scope=col>&lt;chr&gt;</th><th scope=col>&lt;chr&gt;</th><th scope=col>&lt;chr&gt;</th><th scope=col>&lt;chr&gt;</th><th scope=col>&lt;chr&gt;</th><th scope=col>&lt;dbl&gt;</th><th scope=col>&lt;dbl&gt;</th><th scope=col>&lt;chr&gt;</th></tr>\n",
       "</thead>\n",
       "<tbody>\n",
       "\t<tr><th scope=row>1</th><td>1869</td><td>7010-BRBUU</td><td>Male  </td><td>0</td><td>Yes</td><td>Yes</td><td>72</td><td>Yes</td><td>Yes</td><td>No         </td><td>⋯</td><td>No internet service</td><td>No internet service</td><td>No internet service</td><td>No internet service</td><td>Two year      </td><td>No </td><td>Credit card (automatic)</td><td>24.10</td><td>1734.65</td><td>No</td></tr>\n",
       "\t<tr><th scope=row>2</th><td>4528</td><td>9688-YGXVR</td><td>Female</td><td>0</td><td>No </td><td>No </td><td>44</td><td>Yes</td><td>No </td><td>Fiber optic</td><td>⋯</td><td>Yes                </td><td>No                 </td><td>Yes                </td><td>No                 </td><td>Month-to-month</td><td>Yes</td><td>Credit card (automatic)</td><td>88.15</td><td>3973.20</td><td>No</td></tr>\n",
       "</tbody>\n",
       "</table>\n"
      ],
      "text/latex": [
       "A data.frame: 2 × 22\n",
       "\\begin{tabular}{r|lllllllllllllllllllll}\n",
       "  & X & customerID & gender & SeniorCitizen & Partner & Dependents & tenure & PhoneService & MultipleLines & InternetService & ⋯ & DeviceProtection & TechSupport & StreamingTV & StreamingMovies & Contract & PaperlessBilling & PaymentMethod & MonthlyCharges & TotalCharges & Churn\\\\\n",
       "  & <int> & <chr> & <chr> & <int> & <chr> & <chr> & <int> & <chr> & <chr> & <chr> & ⋯ & <chr> & <chr> & <chr> & <chr> & <chr> & <chr> & <chr> & <dbl> & <dbl> & <chr>\\\\\n",
       "\\hline\n",
       "\t1 & 1869 & 7010-BRBUU & Male   & 0 & Yes & Yes & 72 & Yes & Yes & No          & ⋯ & No internet service & No internet service & No internet service & No internet service & Two year       & No  & Credit card (automatic) & 24.10 & 1734.65 & No\\\\\n",
       "\t2 & 4528 & 9688-YGXVR & Female & 0 & No  & No  & 44 & Yes & No  & Fiber optic & ⋯ & Yes                 & No                  & Yes                 & No                  & Month-to-month & Yes & Credit card (automatic) & 88.15 & 3973.20 & No\\\\\n",
       "\\end{tabular}\n"
      ],
      "text/markdown": [
       "\n",
       "A data.frame: 2 × 22\n",
       "\n",
       "| <!--/--> | X &lt;int&gt; | customerID &lt;chr&gt; | gender &lt;chr&gt; | SeniorCitizen &lt;int&gt; | Partner &lt;chr&gt; | Dependents &lt;chr&gt; | tenure &lt;int&gt; | PhoneService &lt;chr&gt; | MultipleLines &lt;chr&gt; | InternetService &lt;chr&gt; | ⋯ ⋯ | DeviceProtection &lt;chr&gt; | TechSupport &lt;chr&gt; | StreamingTV &lt;chr&gt; | StreamingMovies &lt;chr&gt; | Contract &lt;chr&gt; | PaperlessBilling &lt;chr&gt; | PaymentMethod &lt;chr&gt; | MonthlyCharges &lt;dbl&gt; | TotalCharges &lt;dbl&gt; | Churn &lt;chr&gt; |\n",
       "|---|---|---|---|---|---|---|---|---|---|---|---|---|---|---|---|---|---|---|---|---|---|\n",
       "| 1 | 1869 | 7010-BRBUU | Male   | 0 | Yes | Yes | 72 | Yes | Yes | No          | ⋯ | No internet service | No internet service | No internet service | No internet service | Two year       | No  | Credit card (automatic) | 24.10 | 1734.65 | No |\n",
       "| 2 | 4528 | 9688-YGXVR | Female | 0 | No  | No  | 44 | Yes | No  | Fiber optic | ⋯ | Yes                 | No                  | Yes                 | No                  | Month-to-month | Yes | Credit card (automatic) | 88.15 | 3973.20 | No |\n",
       "\n"
      ],
      "text/plain": [
       "  X    customerID gender SeniorCitizen Partner Dependents tenure PhoneService\n",
       "1 1869 7010-BRBUU Male   0             Yes     Yes        72     Yes         \n",
       "2 4528 9688-YGXVR Female 0             No      No         44     Yes         \n",
       "  MultipleLines InternetService ⋯ DeviceProtection    TechSupport        \n",
       "1 Yes           No              ⋯ No internet service No internet service\n",
       "2 No            Fiber optic     ⋯ Yes                 No                 \n",
       "  StreamingTV         StreamingMovies     Contract       PaperlessBilling\n",
       "1 No internet service No internet service Two year       No              \n",
       "2 Yes                 No                  Month-to-month Yes             \n",
       "  PaymentMethod           MonthlyCharges TotalCharges Churn\n",
       "1 Credit card (automatic) 24.10          1734.65      No   \n",
       "2 Credit card (automatic) 88.15          3973.20      No   "
      ]
     },
     "metadata": {},
     "output_type": "display_data"
    }
   ],
   "source": [
    "head(data, 2) # top 6 rows, use n = X, for viewing top X lines"
   ]
  },
  {
   "cell_type": "code",
   "execution_count": 27,
   "id": "0cf93220",
   "metadata": {},
   "outputs": [
    {
     "data": {
      "text/html": [
       "TRUE"
      ],
      "text/latex": [
       "TRUE"
      ],
      "text/markdown": [
       "TRUE"
      ],
      "text/plain": [
       "[1] TRUE"
      ]
     },
     "metadata": {},
     "output_type": "display_data"
    }
   ],
   "source": [
    "is.data.frame(data) # if data is data.frame"
   ]
  },
  {
   "cell_type": "code",
   "execution_count": 14,
   "id": "b7cc1409",
   "metadata": {},
   "outputs": [
    {
     "data": {
      "text/html": [
       "TRUE"
      ],
      "text/latex": [
       "TRUE"
      ],
      "text/markdown": [
       "TRUE"
      ],
      "text/plain": [
       "[1] TRUE"
      ]
     },
     "metadata": {},
     "output_type": "display_data"
    }
   ],
   "source": [
    "anyNA(data) # if dataframe contains any NA values"
   ]
  },
  {
   "cell_type": "code",
   "execution_count": 25,
   "id": "b47801cd",
   "metadata": {},
   "outputs": [
    {
     "data": {
      "text/html": [
       "<dl>\n",
       "\t<dt>$X</dt>\n",
       "\t\t<dd>FALSE</dd>\n",
       "\t<dt>$customerID</dt>\n",
       "\t\t<dd>FALSE</dd>\n",
       "\t<dt>$gender</dt>\n",
       "\t\t<dd>FALSE</dd>\n",
       "\t<dt>$SeniorCitizen</dt>\n",
       "\t\t<dd>FALSE</dd>\n",
       "\t<dt>$Partner</dt>\n",
       "\t\t<dd>FALSE</dd>\n",
       "\t<dt>$Dependents</dt>\n",
       "\t\t<dd>FALSE</dd>\n",
       "\t<dt>$tenure</dt>\n",
       "\t\t<dd>FALSE</dd>\n",
       "\t<dt>$PhoneService</dt>\n",
       "\t\t<dd>FALSE</dd>\n",
       "\t<dt>$MultipleLines</dt>\n",
       "\t\t<dd>FALSE</dd>\n",
       "\t<dt>$InternetService</dt>\n",
       "\t\t<dd>FALSE</dd>\n",
       "\t<dt>$OnlineSecurity</dt>\n",
       "\t\t<dd>FALSE</dd>\n",
       "\t<dt>$OnlineBackup</dt>\n",
       "\t\t<dd>FALSE</dd>\n",
       "\t<dt>$DeviceProtection</dt>\n",
       "\t\t<dd>FALSE</dd>\n",
       "\t<dt>$TechSupport</dt>\n",
       "\t\t<dd>FALSE</dd>\n",
       "\t<dt>$StreamingTV</dt>\n",
       "\t\t<dd>FALSE</dd>\n",
       "\t<dt>$StreamingMovies</dt>\n",
       "\t\t<dd>FALSE</dd>\n",
       "\t<dt>$Contract</dt>\n",
       "\t\t<dd>FALSE</dd>\n",
       "\t<dt>$PaperlessBilling</dt>\n",
       "\t\t<dd>FALSE</dd>\n",
       "\t<dt>$PaymentMethod</dt>\n",
       "\t\t<dd>FALSE</dd>\n",
       "\t<dt>$MonthlyCharges</dt>\n",
       "\t\t<dd>TRUE</dd>\n",
       "\t<dt>$TotalCharges</dt>\n",
       "\t\t<dd>TRUE</dd>\n",
       "\t<dt>$Churn</dt>\n",
       "\t\t<dd>FALSE</dd>\n",
       "</dl>\n"
      ],
      "text/latex": [
       "\\begin{description}\n",
       "\\item[\\$X] FALSE\n",
       "\\item[\\$customerID] FALSE\n",
       "\\item[\\$gender] FALSE\n",
       "\\item[\\$SeniorCitizen] FALSE\n",
       "\\item[\\$Partner] FALSE\n",
       "\\item[\\$Dependents] FALSE\n",
       "\\item[\\$tenure] FALSE\n",
       "\\item[\\$PhoneService] FALSE\n",
       "\\item[\\$MultipleLines] FALSE\n",
       "\\item[\\$InternetService] FALSE\n",
       "\\item[\\$OnlineSecurity] FALSE\n",
       "\\item[\\$OnlineBackup] FALSE\n",
       "\\item[\\$DeviceProtection] FALSE\n",
       "\\item[\\$TechSupport] FALSE\n",
       "\\item[\\$StreamingTV] FALSE\n",
       "\\item[\\$StreamingMovies] FALSE\n",
       "\\item[\\$Contract] FALSE\n",
       "\\item[\\$PaperlessBilling] FALSE\n",
       "\\item[\\$PaymentMethod] FALSE\n",
       "\\item[\\$MonthlyCharges] TRUE\n",
       "\\item[\\$TotalCharges] TRUE\n",
       "\\item[\\$Churn] FALSE\n",
       "\\end{description}\n"
      ],
      "text/markdown": [
       "$X\n",
       ":   FALSE\n",
       "$customerID\n",
       ":   FALSE\n",
       "$gender\n",
       ":   FALSE\n",
       "$SeniorCitizen\n",
       ":   FALSE\n",
       "$Partner\n",
       ":   FALSE\n",
       "$Dependents\n",
       ":   FALSE\n",
       "$tenure\n",
       ":   FALSE\n",
       "$PhoneService\n",
       ":   FALSE\n",
       "$MultipleLines\n",
       ":   FALSE\n",
       "$InternetService\n",
       ":   FALSE\n",
       "$OnlineSecurity\n",
       ":   FALSE\n",
       "$OnlineBackup\n",
       ":   FALSE\n",
       "$DeviceProtection\n",
       ":   FALSE\n",
       "$TechSupport\n",
       ":   FALSE\n",
       "$StreamingTV\n",
       ":   FALSE\n",
       "$StreamingMovies\n",
       ":   FALSE\n",
       "$Contract\n",
       ":   FALSE\n",
       "$PaperlessBilling\n",
       ":   FALSE\n",
       "$PaymentMethod\n",
       ":   FALSE\n",
       "$MonthlyCharges\n",
       ":   TRUE\n",
       "$TotalCharges\n",
       ":   TRUE\n",
       "$Churn\n",
       ":   FALSE\n",
       "\n",
       "\n"
      ],
      "text/plain": [
       "$X\n",
       "[1] FALSE\n",
       "\n",
       "$customerID\n",
       "[1] FALSE\n",
       "\n",
       "$gender\n",
       "[1] FALSE\n",
       "\n",
       "$SeniorCitizen\n",
       "[1] FALSE\n",
       "\n",
       "$Partner\n",
       "[1] FALSE\n",
       "\n",
       "$Dependents\n",
       "[1] FALSE\n",
       "\n",
       "$tenure\n",
       "[1] FALSE\n",
       "\n",
       "$PhoneService\n",
       "[1] FALSE\n",
       "\n",
       "$MultipleLines\n",
       "[1] FALSE\n",
       "\n",
       "$InternetService\n",
       "[1] FALSE\n",
       "\n",
       "$OnlineSecurity\n",
       "[1] FALSE\n",
       "\n",
       "$OnlineBackup\n",
       "[1] FALSE\n",
       "\n",
       "$DeviceProtection\n",
       "[1] FALSE\n",
       "\n",
       "$TechSupport\n",
       "[1] FALSE\n",
       "\n",
       "$StreamingTV\n",
       "[1] FALSE\n",
       "\n",
       "$StreamingMovies\n",
       "[1] FALSE\n",
       "\n",
       "$Contract\n",
       "[1] FALSE\n",
       "\n",
       "$PaperlessBilling\n",
       "[1] FALSE\n",
       "\n",
       "$PaymentMethod\n",
       "[1] FALSE\n",
       "\n",
       "$MonthlyCharges\n",
       "[1] TRUE\n",
       "\n",
       "$TotalCharges\n",
       "[1] TRUE\n",
       "\n",
       "$Churn\n",
       "[1] FALSE\n"
      ]
     },
     "metadata": {},
     "output_type": "display_data"
    }
   ],
   "source": [
    "lapply(data, anyNA)\n",
    "#lapply(, any) #check NA by 2nd dimension - columns"
   ]
  },
  {
   "cell_type": "markdown",
   "id": "851e1308",
   "metadata": {},
   "source": [
    "Check `MonthlyCharges: TRUE` and `TotalCharges: TRUE`. These columns has NA-values."
   ]
  },
  {
   "cell_type": "markdown",
   "id": "ea64b553",
   "metadata": {},
   "source": [
    "Let's replace them with `mean`: "
   ]
  },
  {
   "cell_type": "code",
   "execution_count": 26,
   "id": "8102282d",
   "metadata": {},
   "outputs": [],
   "source": [
    "data[is.na(data$TotalCharges), \"TotalCharges\"] <- mean(data$TotalCharges, na.rm = T)\n",
    "data[is.na(data$MonthlyCharges), \"MonthlyCharges\"] <- mean(data$MonthlyCharges, na.rm = T)"
   ]
  },
  {
   "cell_type": "code",
   "execution_count": 27,
   "id": "dbb70d6e",
   "metadata": {},
   "outputs": [
    {
     "data": {
      "text/html": [
       "FALSE"
      ],
      "text/latex": [
       "FALSE"
      ],
      "text/markdown": [
       "FALSE"
      ],
      "text/plain": [
       "[1] FALSE"
      ]
     },
     "metadata": {},
     "output_type": "display_data"
    }
   ],
   "source": [
    "any(is.na(data)) # check for NA"
   ]
  },
  {
   "cell_type": "markdown",
   "id": "a0638653",
   "metadata": {},
   "source": [
    "You can write data with `write.csv()`, `write.csv2()` from `base` package."
   ]
  },
  {
   "cell_type": "code",
   "execution_count": 43,
   "id": "9f5b3392",
   "metadata": {},
   "outputs": [],
   "source": [
    "write.csv(data, file = \"data/cleaned_data.csv\", row.names = F)\n",
    "# by default row.names = TRUE and file will contain first column with row numbers 1,2, ..., N"
   ]
  },
  {
   "cell_type": "markdown",
   "id": "17fe3109",
   "metadata": {},
   "source": [
    "One more useful package is `readr`. Examples of using:"
   ]
  },
  {
   "cell_type": "code",
   "execution_count": null,
   "id": "bf5cf558",
   "metadata": {},
   "outputs": [],
   "source": [
    "`#install.packages(“readr”)\n",
    "library(readr)\n",
    "data <- read_csv(file = \"data/telecom_users.csv\", … )\n",
    "data <- read_csv2(file = \"data/telecom_users.csv\", … )`"
   ]
  },
  {
   "cell_type": "markdown",
   "id": "cf9fbd3c",
   "metadata": {},
   "source": [
    "---"
   ]
  },
  {
   "cell_type": "markdown",
   "id": "f237d20f",
   "metadata": {},
   "source": [
    "# 2. Excel (xlsx)"
   ]
  },
  {
   "cell_type": "markdown",
   "id": "9b062cf3",
   "metadata": {},
   "source": [
    "There are many packages to read/write MS Excel files. `xlsx` one of the most useful."
   ]
  },
  {
   "cell_type": "code",
   "execution_count": 31,
   "id": "9472bfa3",
   "metadata": {},
   "outputs": [
    {
     "name": "stderr",
     "output_type": "stream",
     "text": [
      "also installing the dependencies ‘rJava’, ‘xlsxjars’\n",
      "\n",
      "\n",
      "Warning message in install.packages(\"xlsx\"):\n",
      "“installation of package ‘rJava’ had non-zero exit status”\n",
      "Warning message in install.packages(\"xlsx\"):\n",
      "“installation of package ‘xlsxjars’ had non-zero exit status”\n",
      "Warning message in install.packages(\"xlsx\"):\n",
      "“installation of package ‘xlsx’ had non-zero exit status”\n",
      "Updating HTML index of packages in '.Library'\n",
      "\n",
      "Making 'packages.html' ...\n",
      " done\n",
      "\n"
     ]
    },
    {
     "ename": "ERROR",
     "evalue": "Error in library(xlsx): there is no package called ‘xlsx’\n",
     "output_type": "error",
     "traceback": [
      "Error in library(xlsx): there is no package called ‘xlsx’\nTraceback:\n",
      "1. library(xlsx)"
     ]
    }
   ],
   "source": [
    "install.packages(\"xlsx\") #install before use it"
   ]
  },
  {
   "cell_type": "code",
   "execution_count": 35,
   "id": "e33704ea-d24f-4d28-9b02-b7bbab156043",
   "metadata": {},
   "outputs": [
    {
     "ename": "ERROR",
     "evalue": "Error in library(xlsx): there is no package called ‘xlsx’\n",
     "output_type": "error",
     "traceback": [
      "Error in library(xlsx): there is no package called ‘xlsx’\nTraceback:\n",
      "1. library(xlsx)"
     ]
    }
   ],
   "source": [
    "library(xlsx)"
   ]
  },
  {
   "cell_type": "code",
   "execution_count": 46,
   "id": "8ce43124",
   "metadata": {},
   "outputs": [
    {
     "data": {
      "text/html": [
       "TRUE"
      ],
      "text/latex": [
       "TRUE"
      ],
      "text/markdown": [
       "TRUE"
      ],
      "text/plain": [
       "[1] TRUE"
      ]
     },
     "metadata": {},
     "output_type": "display_data"
    }
   ],
   "source": [
    "any(grepl(\"xlsx\", installed.packages())) # check if package installed"
   ]
  },
  {
   "cell_type": "markdown",
   "id": "50297c32",
   "metadata": {},
   "source": [
    "**`?read.xlsx`** - review package functions and params"
   ]
  },
  {
   "cell_type": "markdown",
   "id": "885baabc",
   "metadata": {},
   "source": [
    "Let's read the data `telecom_users.xlsx`: "
   ]
  },
  {
   "cell_type": "code",
   "execution_count": 48,
   "id": "49fa6be8",
   "metadata": {},
   "outputs": [],
   "source": [
    "data <- read.xlsx(\"data/telecom_users.xlsx\", sheetIndex = 1)\n",
    "# sheetIndex = 1 - select sheet to read, or use sheetName = \"sheet1\" to read by Name"
   ]
  },
  {
   "cell_type": "code",
   "execution_count": 29,
   "id": "bb1dab60",
   "metadata": {},
   "outputs": [
    {
     "ename": "ERROR",
     "evalue": "Error in read.xlsx(\"data/telecom_users.xlsx\", sheetIndex = 1, endRow = 100): could not find function \"read.xlsx\"\n",
     "output_type": "error",
     "traceback": [
      "Error in read.xlsx(\"data/telecom_users.xlsx\", sheetIndex = 1, endRow = 100): could not find function \"read.xlsx\"\nTraceback:\n"
     ]
    }
   ],
   "source": [
    "# You can also use startRow, endRow and other params to define how much data read\n",
    "data <- read.xlsx(\"data/telecom_users.xlsx\", sheetIndex = 1, endRow = 100)"
   ]
  },
  {
   "cell_type": "markdown",
   "id": "8630aece",
   "metadata": {},
   "source": [
    "Let's replace `Churn` values `Yes`/`No` by `1`/`0`: "
   ]
  },
  {
   "cell_type": "code",
   "execution_count": 56,
   "id": "f548ac60",
   "metadata": {},
   "outputs": [
    {
     "data": {
      "text/html": [
       "<style>\n",
       ".list-inline {list-style: none; margin:0; padding: 0}\n",
       ".list-inline>li {display: inline-block}\n",
       ".list-inline>li:not(:last-child)::after {content: \"\\00b7\"; padding: 0 .5ex}\n",
       "</style>\n",
       "<ol class=list-inline><li>'No'</li><li>'No'</li><li>'Yes'</li><li>'No'</li><li>'No'</li><li>'No'</li></ol>\n"
      ],
      "text/latex": [
       "\\begin{enumerate*}\n",
       "\\item 'No'\n",
       "\\item 'No'\n",
       "\\item 'Yes'\n",
       "\\item 'No'\n",
       "\\item 'No'\n",
       "\\item 'No'\n",
       "\\end{enumerate*}\n"
      ],
      "text/markdown": [
       "1. 'No'\n",
       "2. 'No'\n",
       "3. 'Yes'\n",
       "4. 'No'\n",
       "5. 'No'\n",
       "6. 'No'\n",
       "\n",
       "\n"
      ],
      "text/plain": [
       "[1] \"No\"  \"No\"  \"Yes\" \"No\"  \"No\"  \"No\" "
      ]
     },
     "metadata": {},
     "output_type": "display_data"
    }
   ],
   "source": [
    "head(data$Churn)"
   ]
  },
  {
   "cell_type": "code",
   "execution_count": 57,
   "id": "96af56ad",
   "metadata": {},
   "outputs": [],
   "source": [
    "data$Churn <- ifelse(data$Churn == \"Yes\", 1, 0)"
   ]
  },
  {
   "cell_type": "code",
   "execution_count": 59,
   "id": "84ce2e1c",
   "metadata": {},
   "outputs": [
    {
     "data": {
      "text/html": [
       "<style>\n",
       ".list-inline {list-style: none; margin:0; padding: 0}\n",
       ".list-inline>li {display: inline-block}\n",
       ".list-inline>li:not(:last-child)::after {content: \"\\00b7\"; padding: 0 .5ex}\n",
       "</style>\n",
       "<ol class=list-inline><li>0</li><li>0</li><li>1</li><li>0</li><li>0</li><li>0</li></ol>\n"
      ],
      "text/latex": [
       "\\begin{enumerate*}\n",
       "\\item 0\n",
       "\\item 0\n",
       "\\item 1\n",
       "\\item 0\n",
       "\\item 0\n",
       "\\item 0\n",
       "\\end{enumerate*}\n"
      ],
      "text/markdown": [
       "1. 0\n",
       "2. 0\n",
       "3. 1\n",
       "4. 0\n",
       "5. 0\n",
       "6. 0\n",
       "\n",
       "\n"
      ],
      "text/plain": [
       "[1] 0 0 1 0 0 0"
      ]
     },
     "metadata": {},
     "output_type": "display_data"
    }
   ],
   "source": [
    "head(data$Churn)"
   ]
  },
  {
   "cell_type": "markdown",
   "id": "bbae3bbc",
   "metadata": {},
   "source": [
    "Write final data to excel:"
   ]
  },
  {
   "cell_type": "code",
   "execution_count": 60,
   "id": "bc88652a",
   "metadata": {},
   "outputs": [],
   "source": [
    "write.xlsx(data, file = \"data/final_telecom_data.xlsx\")"
   ]
  },
  {
   "cell_type": "markdown",
   "id": "ae322a14",
   "metadata": {},
   "source": [
    "## Task 2.1"
   ]
  },
  {
   "cell_type": "markdown",
   "id": "341bc74d",
   "metadata": {},
   "source": [
    "Download from kaggle.com and read dataset `Default_Fin.csv`: \n",
    "https://www.kaggle.com/kmldas/loan-default-prediction"
   ]
  },
  {
   "cell_type": "markdown",
   "id": "0aacc804",
   "metadata": {},
   "source": [
    "_Description:_"
   ]
  },
  {
   "cell_type": "markdown",
   "id": "19fab065",
   "metadata": {},
   "source": [
    "This is a synthetic dataset created using actual data from a financial institution. The data has been modified to remove identifiable features and the numbers transformed to ensure they do not link to original source (financial institution).\n",
    "\n",
    "This is intended to be used for academic purposes for beginners who want to practice financial analytics from a simple financial dataset"
   ]
  },
  {
   "cell_type": "markdown",
   "id": "9ac89d18",
   "metadata": {},
   "source": [
    "- [x] `Index` - This is the serial number or unique identifier of the loan taker\n",
    "- [x] `Employed`     - This is a Boolean 1= employed 0= unemployed \n",
    "- [x] `Bank.Balance` - Bank Balance of the loan taker\n",
    "- [x] `Annual.Salary` - Annual salary of the loan taker  \n",
    "- [x] `Defaulted` - This is a Boolean 1= defaulted 0= not defaulted"
   ]
  },
  {
   "cell_type": "code",
   "execution_count": null,
   "id": "5322e2d9",
   "metadata": {},
   "outputs": [],
   "source": [
    "1. Check what columns has missing values\n",
    "2. Count default and non-default clients / and parts of total clients in %\n",
    "3. Count Employed clients\n",
    "4. Count Employed Default clients\n",
    "5. Average salary by Employed clients\n",
    "6. Rename columns to \"id\", \"empl\", \"balance\", \"salary\", \"default\""
   ]
  },
  {
   "cell_type": "markdown",
   "id": "dd72d62b",
   "metadata": {},
   "source": [
    "---"
   ]
  },
  {
   "cell_type": "markdown",
   "id": "5269727a",
   "metadata": {},
   "source": [
    "## Solution for Task 2.1"
   ]
  },
  {
   "cell_type": "code",
   "execution_count": 36,
   "id": "b1669883",
   "metadata": {},
   "outputs": [
    {
     "data": {
      "text/html": [
       "<table class=\"dataframe\">\n",
       "<caption>A data.frame: 6 × 5</caption>\n",
       "<thead>\n",
       "\t<tr><th></th><th scope=col>Index</th><th scope=col>Employed</th><th scope=col>Bank.Balance</th><th scope=col>Annual.Salary</th><th scope=col>Defaulted.</th></tr>\n",
       "\t<tr><th></th><th scope=col>&lt;int&gt;</th><th scope=col>&lt;int&gt;</th><th scope=col>&lt;dbl&gt;</th><th scope=col>&lt;dbl&gt;</th><th scope=col>&lt;int&gt;</th></tr>\n",
       "</thead>\n",
       "<tbody>\n",
       "\t<tr><th scope=row>1</th><td>1</td><td>1</td><td> 8754.36</td><td>532339.56</td><td>0</td></tr>\n",
       "\t<tr><th scope=row>2</th><td>2</td><td>0</td><td> 9806.16</td><td>145273.56</td><td>0</td></tr>\n",
       "\t<tr><th scope=row>3</th><td>3</td><td>1</td><td>12882.60</td><td>381205.68</td><td>0</td></tr>\n",
       "\t<tr><th scope=row>4</th><td>4</td><td>1</td><td> 6351.00</td><td>428453.88</td><td>0</td></tr>\n",
       "\t<tr><th scope=row>5</th><td>5</td><td>1</td><td> 9427.92</td><td>461562.00</td><td>0</td></tr>\n",
       "\t<tr><th scope=row>6</th><td>6</td><td>0</td><td>11035.08</td><td> 89898.72</td><td>0</td></tr>\n",
       "</tbody>\n",
       "</table>\n"
      ],
      "text/latex": [
       "A data.frame: 6 × 5\n",
       "\\begin{tabular}{r|lllll}\n",
       "  & Index & Employed & Bank.Balance & Annual.Salary & Defaulted.\\\\\n",
       "  & <int> & <int> & <dbl> & <dbl> & <int>\\\\\n",
       "\\hline\n",
       "\t1 & 1 & 1 &  8754.36 & 532339.56 & 0\\\\\n",
       "\t2 & 2 & 0 &  9806.16 & 145273.56 & 0\\\\\n",
       "\t3 & 3 & 1 & 12882.60 & 381205.68 & 0\\\\\n",
       "\t4 & 4 & 1 &  6351.00 & 428453.88 & 0\\\\\n",
       "\t5 & 5 & 1 &  9427.92 & 461562.00 & 0\\\\\n",
       "\t6 & 6 & 0 & 11035.08 &  89898.72 & 0\\\\\n",
       "\\end{tabular}\n"
      ],
      "text/markdown": [
       "\n",
       "A data.frame: 6 × 5\n",
       "\n",
       "| <!--/--> | Index &lt;int&gt; | Employed &lt;int&gt; | Bank.Balance &lt;dbl&gt; | Annual.Salary &lt;dbl&gt; | Defaulted. &lt;int&gt; |\n",
       "|---|---|---|---|---|---|\n",
       "| 1 | 1 | 1 |  8754.36 | 532339.56 | 0 |\n",
       "| 2 | 2 | 0 |  9806.16 | 145273.56 | 0 |\n",
       "| 3 | 3 | 1 | 12882.60 | 381205.68 | 0 |\n",
       "| 4 | 4 | 1 |  6351.00 | 428453.88 | 0 |\n",
       "| 5 | 5 | 1 |  9427.92 | 461562.00 | 0 |\n",
       "| 6 | 6 | 0 | 11035.08 |  89898.72 | 0 |\n",
       "\n"
      ],
      "text/plain": [
       "  Index Employed Bank.Balance Annual.Salary Defaulted.\n",
       "1 1     1         8754.36     532339.56     0         \n",
       "2 2     0         9806.16     145273.56     0         \n",
       "3 3     1        12882.60     381205.68     0         \n",
       "4 4     1         6351.00     428453.88     0         \n",
       "5 5     1         9427.92     461562.00     0         \n",
       "6 6     0        11035.08      89898.72     0         "
      ]
     },
     "metadata": {},
     "output_type": "display_data"
    }
   ],
   "source": [
    "data <- read.csv(\"data/Default_Fin.csv\")\n",
    "head(data)"
   ]
  },
  {
   "cell_type": "markdown",
   "id": "16c65bae",
   "metadata": {},
   "source": [
    "> 1. Check what columns has missing values"
   ]
  },
  {
   "cell_type": "code",
   "execution_count": 38,
   "id": "02750084",
   "metadata": {},
   "outputs": [
    {
     "data": {
      "text/html": [
       "FALSE"
      ],
      "text/latex": [
       "FALSE"
      ],
      "text/markdown": [
       "FALSE"
      ],
      "text/plain": [
       "[1] FALSE"
      ]
     },
     "metadata": {},
     "output_type": "display_data"
    }
   ],
   "source": [
    "anyNA(data)"
   ]
  },
  {
   "cell_type": "markdown",
   "id": "37f27776",
   "metadata": {},
   "source": [
    "> 2. Count default and non-default clients / and parts of total clients in %"
   ]
  },
  {
   "cell_type": "code",
   "execution_count": 39,
   "id": "2c67be65",
   "metadata": {},
   "outputs": [
    {
     "data": {
      "text/html": [
       "333"
      ],
      "text/latex": [
       "333"
      ],
      "text/markdown": [
       "333"
      ],
      "text/plain": [
       "[1] 333"
      ]
     },
     "metadata": {},
     "output_type": "display_data"
    },
    {
     "data": {
      "text/html": [
       "9667"
      ],
      "text/latex": [
       "9667"
      ],
      "text/markdown": [
       "9667"
      ],
      "text/plain": [
       "[1] 9667"
      ]
     },
     "metadata": {},
     "output_type": "display_data"
    }
   ],
   "source": [
    "def_count <- nrow(data[data$Defaulted. == 1, ])\n",
    "no_def_count <- nrow(data[data$Defaulted. == 0, ])\n",
    "def_count\n",
    "no_def_count "
   ]
  },
  {
   "cell_type": "code",
   "execution_count": 40,
   "id": "33ed5769",
   "metadata": {},
   "outputs": [
    {
     "data": {
      "text/html": [
       "3.33"
      ],
      "text/latex": [
       "3.33"
      ],
      "text/markdown": [
       "3.33"
      ],
      "text/plain": [
       "[1] 3.33"
      ]
     },
     "metadata": {},
     "output_type": "display_data"
    },
    {
     "data": {
      "text/html": [
       "96.67"
      ],
      "text/latex": [
       "96.67"
      ],
      "text/markdown": [
       "96.67"
      ],
      "text/plain": [
       "[1] 96.67"
      ]
     },
     "metadata": {},
     "output_type": "display_data"
    }
   ],
   "source": [
    "def_count / nrow(data) * 100 # part defaults\n",
    "no_def_count / nrow(data) * 100 # part non-defaults"
   ]
  },
  {
   "cell_type": "markdown",
   "id": "5f7b6bc5",
   "metadata": {},
   "source": [
    "> 3. Count Employed clients"
   ]
  },
  {
   "cell_type": "code",
   "execution_count": 41,
   "id": "4fbe158e",
   "metadata": {},
   "outputs": [
    {
     "data": {
      "text/html": [
       "7056"
      ],
      "text/latex": [
       "7056"
      ],
      "text/markdown": [
       "7056"
      ],
      "text/plain": [
       "[1] 7056"
      ]
     },
     "metadata": {},
     "output_type": "display_data"
    }
   ],
   "source": [
    "empl <- data[data$Employed == 1, ]\n",
    "nrow(empl)"
   ]
  },
  {
   "cell_type": "markdown",
   "id": "3ea76019",
   "metadata": {},
   "source": [
    "> 4. Count Employed Default clients"
   ]
  },
  {
   "cell_type": "code",
   "execution_count": 42,
   "id": "a385dcbc",
   "metadata": {},
   "outputs": [
    {
     "data": {
      "text/html": [
       "206"
      ],
      "text/latex": [
       "206"
      ],
      "text/markdown": [
       "206"
      ],
      "text/plain": [
       "[1] 206"
      ]
     },
     "metadata": {},
     "output_type": "display_data"
    }
   ],
   "source": [
    "empl <- data[data$Employed == 1 & data$Defaulted. == 1, ]\n",
    "nrow(empl)"
   ]
  },
  {
   "cell_type": "markdown",
   "id": "c844a7ca",
   "metadata": {},
   "source": [
    "> 5. Average salary by Employed clients"
   ]
  },
  {
   "cell_type": "code",
   "execution_count": 43,
   "id": "65075cd7",
   "metadata": {},
   "outputs": [
    {
     "data": {
      "text/html": [
       "480143.43414966"
      ],
      "text/latex": [
       "480143.43414966"
      ],
      "text/markdown": [
       "480143.43414966"
      ],
      "text/plain": [
       "[1] 480143.4"
      ]
     },
     "metadata": {},
     "output_type": "display_data"
    }
   ],
   "source": [
    "empl <- data[data$Employed == 1, ]\n",
    "mean(empl$Annual.Salary)"
   ]
  },
  {
   "cell_type": "markdown",
   "id": "c10a7c1b",
   "metadata": {},
   "source": [
    "> 6. Rename columns to \"id\", \"empl\", \"balance\", \"salary\", \"default\":"
   ]
  },
  {
   "cell_type": "code",
   "execution_count": 44,
   "id": "8029feb6",
   "metadata": {},
   "outputs": [
    {
     "data": {
      "text/html": [
       "<table class=\"dataframe\">\n",
       "<caption>A data.frame: 6 × 5</caption>\n",
       "<thead>\n",
       "\t<tr><th></th><th scope=col>id</th><th scope=col>empl</th><th scope=col>balance</th><th scope=col>salary</th><th scope=col>default</th></tr>\n",
       "\t<tr><th></th><th scope=col>&lt;int&gt;</th><th scope=col>&lt;int&gt;</th><th scope=col>&lt;dbl&gt;</th><th scope=col>&lt;dbl&gt;</th><th scope=col>&lt;int&gt;</th></tr>\n",
       "</thead>\n",
       "<tbody>\n",
       "\t<tr><th scope=row>1</th><td>1</td><td>1</td><td> 8754.36</td><td>532339.56</td><td>0</td></tr>\n",
       "\t<tr><th scope=row>2</th><td>2</td><td>0</td><td> 9806.16</td><td>145273.56</td><td>0</td></tr>\n",
       "\t<tr><th scope=row>3</th><td>3</td><td>1</td><td>12882.60</td><td>381205.68</td><td>0</td></tr>\n",
       "\t<tr><th scope=row>4</th><td>4</td><td>1</td><td> 6351.00</td><td>428453.88</td><td>0</td></tr>\n",
       "\t<tr><th scope=row>5</th><td>5</td><td>1</td><td> 9427.92</td><td>461562.00</td><td>0</td></tr>\n",
       "\t<tr><th scope=row>6</th><td>6</td><td>0</td><td>11035.08</td><td> 89898.72</td><td>0</td></tr>\n",
       "</tbody>\n",
       "</table>\n"
      ],
      "text/latex": [
       "A data.frame: 6 × 5\n",
       "\\begin{tabular}{r|lllll}\n",
       "  & id & empl & balance & salary & default\\\\\n",
       "  & <int> & <int> & <dbl> & <dbl> & <int>\\\\\n",
       "\\hline\n",
       "\t1 & 1 & 1 &  8754.36 & 532339.56 & 0\\\\\n",
       "\t2 & 2 & 0 &  9806.16 & 145273.56 & 0\\\\\n",
       "\t3 & 3 & 1 & 12882.60 & 381205.68 & 0\\\\\n",
       "\t4 & 4 & 1 &  6351.00 & 428453.88 & 0\\\\\n",
       "\t5 & 5 & 1 &  9427.92 & 461562.00 & 0\\\\\n",
       "\t6 & 6 & 0 & 11035.08 &  89898.72 & 0\\\\\n",
       "\\end{tabular}\n"
      ],
      "text/markdown": [
       "\n",
       "A data.frame: 6 × 5\n",
       "\n",
       "| <!--/--> | id &lt;int&gt; | empl &lt;int&gt; | balance &lt;dbl&gt; | salary &lt;dbl&gt; | default &lt;int&gt; |\n",
       "|---|---|---|---|---|---|\n",
       "| 1 | 1 | 1 |  8754.36 | 532339.56 | 0 |\n",
       "| 2 | 2 | 0 |  9806.16 | 145273.56 | 0 |\n",
       "| 3 | 3 | 1 | 12882.60 | 381205.68 | 0 |\n",
       "| 4 | 4 | 1 |  6351.00 | 428453.88 | 0 |\n",
       "| 5 | 5 | 1 |  9427.92 | 461562.00 | 0 |\n",
       "| 6 | 6 | 0 | 11035.08 |  89898.72 | 0 |\n",
       "\n"
      ],
      "text/plain": [
       "  id empl balance  salary    default\n",
       "1 1  1     8754.36 532339.56 0      \n",
       "2 2  0     9806.16 145273.56 0      \n",
       "3 3  1    12882.60 381205.68 0      \n",
       "4 4  1     6351.00 428453.88 0      \n",
       "5 5  1     9427.92 461562.00 0      \n",
       "6 6  0    11035.08  89898.72 0      "
      ]
     },
     "metadata": {},
     "output_type": "display_data"
    }
   ],
   "source": [
    "colnames(data) <- c(\"id\", \"empl\", \"balance\", \"salary\", \"default\")\n",
    "head(data)"
   ]
  },
  {
   "cell_type": "markdown",
   "id": "48309e80",
   "metadata": {},
   "source": []
  },
  {
   "cell_type": "markdown",
   "id": "ea0ff810",
   "metadata": {},
   "source": [
    "# 3. XML"
   ]
  },
  {
   "cell_type": "markdown",
   "id": "c88d47b2",
   "metadata": {},
   "source": [
    "`XML` - eXtensible Markup Language."
   ]
  },
  {
   "cell_type": "markdown",
   "id": "b895488b",
   "metadata": {},
   "source": [
    "For our example we will use data from `data/employes.xml`. File contains records with info:"
   ]
  },
  {
   "cell_type": "markdown",
   "id": "2d6bc62b",
   "metadata": {},
   "source": [
    "```\n",
    "<RECORDS>\n",
    "   <EMPLOYEE>\n",
    "      <ID>1</ID>\n",
    "      <NAME>Rick</NAME>\n",
    "      <SALARY>623.3</SALARY>\n",
    "      <STARTDATE>1/1/2012</STARTDATE>\n",
    "      <DEPT>IT</DEPT>\n",
    "   </EMPLOYEE>\n",
    "   ...\n",
    "</RECORDS>\n",
    "```"
   ]
  },
  {
   "cell_type": "code",
   "execution_count": 89,
   "id": "3296aa36",
   "metadata": {},
   "outputs": [],
   "source": [
    "#install.packages(\"XML\")\n",
    "library(\"XML\")\n",
    "#install.packages(\"methods\")\n",
    "library(\"methods\")"
   ]
  },
  {
   "cell_type": "code",
   "execution_count": 94,
   "id": "79f36c2b",
   "metadata": {},
   "outputs": [
    {
     "name": "stdout",
     "output_type": "stream",
     "text": [
      "<?xml version=\"1.0\"?>\n",
      "<RECORDS>\n",
      "  <EMPLOYEE>\n",
      "    <ID>1</ID>\n",
      "    <NAME>Rick</NAME>\n",
      "    <SALARY>623.3</SALARY>\n",
      "    <STARTDATE>1/1/2012</STARTDATE>\n",
      "    <DEPT>IT</DEPT>\n",
      "  </EMPLOYEE>\n",
      "  <EMPLOYEE>\n",
      "    <ID>2</ID>\n",
      "    <NAME>Dan</NAME>\n",
      "    <SALARY>515.2</SALARY>\n",
      "    <STARTDATE>9/23/2013</STARTDATE>\n",
      "    <DEPT>Operations</DEPT>\n",
      "  </EMPLOYEE>\n",
      "  <EMPLOYEE>\n",
      "    <ID>3</ID>\n",
      "    <NAME>Michelle</NAME>\n",
      "    <SALARY>611</SALARY>\n",
      "    <STARTDATE>11/15/2014</STARTDATE>\n",
      "    <DEPT>IT</DEPT>\n",
      "  </EMPLOYEE>\n",
      "  <EMPLOYEE>\n",
      "    <ID>4</ID>\n",
      "    <NAME>Ryan</NAME>\n",
      "    <SALARY>729</SALARY>\n",
      "    <STARTDATE>5/11/2014</STARTDATE>\n",
      "    <DEPT>HR</DEPT>\n",
      "  </EMPLOYEE>\n",
      "  <EMPLOYEE>\n",
      "    <ID>5</ID>\n",
      "    <NAME>Gary</NAME>\n",
      "    <SALARY>843.25</SALARY>\n",
      "    <STARTDATE>3/27/2015</STARTDATE>\n",
      "    <DEPT>Finance</DEPT>\n",
      "  </EMPLOYEE>\n",
      "  <EMPLOYEE>\n",
      "    <ID>6</ID>\n",
      "    <NAME>Nina</NAME>\n",
      "    <SALARY>578</SALARY>\n",
      "    <STARTDATE>5/21/2013</STARTDATE>\n",
      "    <DEPT>IT</DEPT>\n",
      "  </EMPLOYEE>\n",
      "  <EMPLOYEE>\n",
      "    <ID>7</ID>\n",
      "    <NAME>Simon</NAME>\n",
      "    <SALARY>632.8</SALARY>\n",
      "    <STARTDATE>7/30/2013</STARTDATE>\n",
      "    <DEPT>Operations</DEPT>\n",
      "  </EMPLOYEE>\n",
      "  <EMPLOYEE>\n",
      "    <ID>8</ID>\n",
      "    <NAME>Guru</NAME>\n",
      "    <SALARY>722.5</SALARY>\n",
      "    <STARTDATE>6/17/2014</STARTDATE>\n",
      "    <DEPT>Finance</DEPT>\n",
      "  </EMPLOYEE>\n",
      "</RECORDS>\n",
      " \n"
     ]
    }
   ],
   "source": [
    "result <- xmlParse(file = \"data/employes.xml\")\n",
    "print(result)"
   ]
  },
  {
   "cell_type": "code",
   "execution_count": 98,
   "id": "edf73e0d",
   "metadata": {},
   "outputs": [
    {
     "data": {
      "text/plain": [
       "<EMPLOYEE>\n",
       "  <ID>1</ID>\n",
       "  <NAME>Rick</NAME>\n",
       "  <SALARY>623.3</SALARY>\n",
       "  <STARTDATE>1/1/2012</STARTDATE>\n",
       "  <DEPT>IT</DEPT>\n",
       "</EMPLOYEE> "
      ]
     },
     "metadata": {},
     "output_type": "display_data"
    }
   ],
   "source": [
    "rootnode <- xmlRoot(result) # reading rootnode of xml document\n",
    "rootnode[[1]] # reading first record"
   ]
  },
  {
   "cell_type": "code",
   "execution_count": 104,
   "id": "ee90870e",
   "metadata": {},
   "outputs": [
    {
     "data": {
      "text/plain": [
       "<NAME>Rick</NAME> "
      ]
     },
     "metadata": {},
     "output_type": "display_data"
    }
   ],
   "source": [
    "rootnode[[1]][[2]] # reading first record in root node and second tag, its <NAME>"
   ]
  },
  {
   "cell_type": "markdown",
   "id": "1b7bc632",
   "metadata": {},
   "source": [
    "For us the best way is to get dataframe:"
   ]
  },
  {
   "cell_type": "code",
   "execution_count": 204,
   "id": "e0b82f06",
   "metadata": {},
   "outputs": [
    {
     "data": {
      "text/html": [
       "<table class=\"dataframe\">\n",
       "<caption>A data.frame: 8 × 5</caption>\n",
       "<thead>\n",
       "\t<tr><th scope=col>ID</th><th scope=col>NAME</th><th scope=col>SALARY</th><th scope=col>STARTDATE</th><th scope=col>DEPT</th></tr>\n",
       "\t<tr><th scope=col>&lt;chr&gt;</th><th scope=col>&lt;chr&gt;</th><th scope=col>&lt;chr&gt;</th><th scope=col>&lt;chr&gt;</th><th scope=col>&lt;chr&gt;</th></tr>\n",
       "</thead>\n",
       "<tbody>\n",
       "\t<tr><td>1</td><td>Rick    </td><td>623.3 </td><td>1/1/2012  </td><td>IT        </td></tr>\n",
       "\t<tr><td>2</td><td>Dan     </td><td>515.2 </td><td>9/23/2013 </td><td>Operations</td></tr>\n",
       "\t<tr><td>3</td><td>Michelle</td><td>611   </td><td>11/15/2014</td><td>IT        </td></tr>\n",
       "\t<tr><td>4</td><td>Ryan    </td><td>729   </td><td>5/11/2014 </td><td>HR        </td></tr>\n",
       "\t<tr><td>5</td><td>Gary    </td><td>843.25</td><td>3/27/2015 </td><td>Finance   </td></tr>\n",
       "\t<tr><td>6</td><td>Nina    </td><td>578   </td><td>5/21/2013 </td><td>IT        </td></tr>\n",
       "\t<tr><td>7</td><td>Simon   </td><td>632.8 </td><td>7/30/2013 </td><td>Operations</td></tr>\n",
       "\t<tr><td>8</td><td>Guru    </td><td>722.5 </td><td>6/17/2014 </td><td>Finance   </td></tr>\n",
       "</tbody>\n",
       "</table>\n"
      ],
      "text/latex": [
       "A data.frame: 8 × 5\n",
       "\\begin{tabular}{lllll}\n",
       " ID & NAME & SALARY & STARTDATE & DEPT\\\\\n",
       " <chr> & <chr> & <chr> & <chr> & <chr>\\\\\n",
       "\\hline\n",
       "\t 1 & Rick     & 623.3  & 1/1/2012   & IT        \\\\\n",
       "\t 2 & Dan      & 515.2  & 9/23/2013  & Operations\\\\\n",
       "\t 3 & Michelle & 611    & 11/15/2014 & IT        \\\\\n",
       "\t 4 & Ryan     & 729    & 5/11/2014  & HR        \\\\\n",
       "\t 5 & Gary     & 843.25 & 3/27/2015  & Finance   \\\\\n",
       "\t 6 & Nina     & 578    & 5/21/2013  & IT        \\\\\n",
       "\t 7 & Simon    & 632.8  & 7/30/2013  & Operations\\\\\n",
       "\t 8 & Guru     & 722.5  & 6/17/2014  & Finance   \\\\\n",
       "\\end{tabular}\n"
      ],
      "text/markdown": [
       "\n",
       "A data.frame: 8 × 5\n",
       "\n",
       "| ID &lt;chr&gt; | NAME &lt;chr&gt; | SALARY &lt;chr&gt; | STARTDATE &lt;chr&gt; | DEPT &lt;chr&gt; |\n",
       "|---|---|---|---|---|\n",
       "| 1 | Rick     | 623.3  | 1/1/2012   | IT         |\n",
       "| 2 | Dan      | 515.2  | 9/23/2013  | Operations |\n",
       "| 3 | Michelle | 611    | 11/15/2014 | IT         |\n",
       "| 4 | Ryan     | 729    | 5/11/2014  | HR         |\n",
       "| 5 | Gary     | 843.25 | 3/27/2015  | Finance    |\n",
       "| 6 | Nina     | 578    | 5/21/2013  | IT         |\n",
       "| 7 | Simon    | 632.8  | 7/30/2013  | Operations |\n",
       "| 8 | Guru     | 722.5  | 6/17/2014  | Finance    |\n",
       "\n"
      ],
      "text/plain": [
       "  ID NAME     SALARY STARTDATE  DEPT      \n",
       "1 1  Rick     623.3  1/1/2012   IT        \n",
       "2 2  Dan      515.2  9/23/2013  Operations\n",
       "3 3  Michelle 611    11/15/2014 IT        \n",
       "4 4  Ryan     729    5/11/2014  HR        \n",
       "5 5  Gary     843.25 3/27/2015  Finance   \n",
       "6 6  Nina     578    5/21/2013  IT        \n",
       "7 7  Simon    632.8  7/30/2013  Operations\n",
       "8 8  Guru     722.5  6/17/2014  Finance   "
      ]
     },
     "metadata": {},
     "output_type": "display_data"
    }
   ],
   "source": [
    "xmldataframe <- xmlToDataFrame(\"data/employes.xml\")\n",
    "xmldataframe"
   ]
  },
  {
   "cell_type": "markdown",
   "id": "28945018",
   "metadata": {},
   "source": [
    "# 4. JSON and API"
   ]
  },
  {
   "cell_type": "markdown",
   "id": "482c8486",
   "metadata": {},
   "source": [
    "`JSON` (`JavaScript Object Notation`) is a lightweight data-interchange format. It is easy for humans to read and write. It is easy for machines to parse and generate. It is based on a subset of the JavaScript Programming Language Standard.\n",
    "\n",
    "`API` is the acronym for `Application Programming Interface`, which is a software intermediary that allows two applications to talk to each other. "
   ]
  },
  {
   "cell_type": "markdown",
   "id": "fd4979c1",
   "metadata": {},
   "source": [
    "One of the most popular packages for `json` is `jsonlite`."
   ]
  },
  {
   "cell_type": "code",
   "execution_count": 45,
   "id": "e3072dae",
   "metadata": {},
   "outputs": [],
   "source": [
    "#install.packages(\"jsonlite\")\n",
    "library(jsonlite)"
   ]
  },
  {
   "cell_type": "markdown",
   "id": "79e54d0f",
   "metadata": {},
   "source": [
    "Let's use readinginformation about BTC and USDT crypro currencies from Binance"
   ]
  },
  {
   "cell_type": "code",
   "execution_count": 47,
   "id": "3fc75779",
   "metadata": {},
   "outputs": [
    {
     "name": "stdout",
     "output_type": "stream",
     "text": [
      "[1] \"https://api.binance.com/api/v3/klines?symbol=BTCUSDT&interval=1h&limit=100\"\n"
     ]
    }
   ],
   "source": [
    "market = 'BTCUSDT'\n",
    "interval = '1h'\n",
    "limit = 100\n",
    "\n",
    "url <- paste0(url = \"https://api.binance.com/api/v3/klines?symbol=\", market ,\"&interval=\", interval,\"&limit=\", limit)\n",
    "print(url) # complete request URL"
   ]
  },
  {
   "cell_type": "markdown",
   "id": "1d32da24",
   "metadata": {},
   "source": [
    "On the next stage you need use fromJSON() function to get data.\n",
    "\n",
    "More details about requests to Binanace at https://github.com/binance/binance-spot-api-docs/blob/master/rest-api.md#klinecandlestick-data\n",
    "\n",
    "If you enter 'url' value at browser response is going to be like this:"
   ]
  },
  {
   "cell_type": "markdown",
   "id": "de2a47a6",
   "metadata": {},
   "source": [
    "```json\n",
    "[\n",
    "  [\n",
    "    1499040000000,      // Open time\n",
    "    \"0.01634790\",       // Open\n",
    "    \"0.80000000\",       // High\n",
    "    \"0.01575800\",       // Low\n",
    "    \"0.01577100\",       // Close\n",
    "    \"148976.11427815\",  // Volume\n",
    "    1499644799999,      // Close time\n",
    "    \"2434.19055334\",    // Quote asset volume\n",
    "    308,                // Number of trades\n",
    "    \"1756.87402397\",    // Taker buy base asset volume\n",
    "    \"28.46694368\",      // Taker buy quote asset volume\n",
    "    \"17928899.62484339\" // Ignore.\n",
    "  ]\n",
    "]\n",
    "```"
   ]
  },
  {
   "cell_type": "code",
   "execution_count": 49,
   "id": "865705ec",
   "metadata": {},
   "outputs": [
    {
     "data": {
      "text/html": [
       "<table class=\"dataframe\">\n",
       "<caption>A matrix: 6 × 7 of type chr</caption>\n",
       "<tbody>\n",
       "\t<tr><td>1.622214e+12 </td><td>36588.51000000</td><td>37067.77000000</td><td>36395.87000000</td><td>36749.31000000</td><td>3552.88403300</td><td>1622217599999</td></tr>\n",
       "\t<tr><td>1622217600000</td><td>36751.59000000</td><td>36845.93000000</td><td>35812.01000000</td><td>35815.56000000</td><td>7919.19658900</td><td>1622221199999</td></tr>\n",
       "\t<tr><td>1622221200000</td><td>35813.92000000</td><td>36284.00000000</td><td>35650.22000000</td><td>35976.17000000</td><td>5362.54640500</td><td>1622224799999</td></tr>\n",
       "\t<tr><td>1622224800000</td><td>35976.17000000</td><td>36369.82000000</td><td>35551.06000000</td><td>36190.92000000</td><td>4369.76996900</td><td>1622228399999</td></tr>\n",
       "\t<tr><td>1622228400000</td><td>36190.91000000</td><td>36570.00000000</td><td>35555.52000000</td><td>35789.30000000</td><td>5259.87578400</td><td>1622231999999</td></tr>\n",
       "\t<tr><td>1.622232e+12 </td><td>35789.31000000</td><td>36240.00000000</td><td>35181.73000000</td><td>35209.89000000</td><td>5872.51799400</td><td>1622235599999</td></tr>\n",
       "</tbody>\n",
       "</table>\n"
      ],
      "text/latex": [
       "A matrix: 6 × 7 of type chr\n",
       "\\begin{tabular}{lllllll}\n",
       "\t 1.622214e+12  & 36588.51000000 & 37067.77000000 & 36395.87000000 & 36749.31000000 & 3552.88403300 & 1622217599999\\\\\n",
       "\t 1622217600000 & 36751.59000000 & 36845.93000000 & 35812.01000000 & 35815.56000000 & 7919.19658900 & 1622221199999\\\\\n",
       "\t 1622221200000 & 35813.92000000 & 36284.00000000 & 35650.22000000 & 35976.17000000 & 5362.54640500 & 1622224799999\\\\\n",
       "\t 1622224800000 & 35976.17000000 & 36369.82000000 & 35551.06000000 & 36190.92000000 & 4369.76996900 & 1622228399999\\\\\n",
       "\t 1622228400000 & 36190.91000000 & 36570.00000000 & 35555.52000000 & 35789.30000000 & 5259.87578400 & 1622231999999\\\\\n",
       "\t 1.622232e+12  & 35789.31000000 & 36240.00000000 & 35181.73000000 & 35209.89000000 & 5872.51799400 & 1622235599999\\\\\n",
       "\\end{tabular}\n"
      ],
      "text/markdown": [
       "\n",
       "A matrix: 6 × 7 of type chr\n",
       "\n",
       "| 1.622214e+12  | 36588.51000000 | 37067.77000000 | 36395.87000000 | 36749.31000000 | 3552.88403300 | 1622217599999 |\n",
       "| 1622217600000 | 36751.59000000 | 36845.93000000 | 35812.01000000 | 35815.56000000 | 7919.19658900 | 1622221199999 |\n",
       "| 1622221200000 | 35813.92000000 | 36284.00000000 | 35650.22000000 | 35976.17000000 | 5362.54640500 | 1622224799999 |\n",
       "| 1622224800000 | 35976.17000000 | 36369.82000000 | 35551.06000000 | 36190.92000000 | 4369.76996900 | 1622228399999 |\n",
       "| 1622228400000 | 36190.91000000 | 36570.00000000 | 35555.52000000 | 35789.30000000 | 5259.87578400 | 1622231999999 |\n",
       "| 1.622232e+12  | 35789.31000000 | 36240.00000000 | 35181.73000000 | 35209.89000000 | 5872.51799400 | 1622235599999 |\n",
       "\n"
      ],
      "text/plain": [
       "     [,1]          [,2]           [,3]           [,4]           [,5]          \n",
       "[1,] 1.622214e+12  36588.51000000 37067.77000000 36395.87000000 36749.31000000\n",
       "[2,] 1622217600000 36751.59000000 36845.93000000 35812.01000000 35815.56000000\n",
       "[3,] 1622221200000 35813.92000000 36284.00000000 35650.22000000 35976.17000000\n",
       "[4,] 1622224800000 35976.17000000 36369.82000000 35551.06000000 36190.92000000\n",
       "[5,] 1622228400000 36190.91000000 36570.00000000 35555.52000000 35789.30000000\n",
       "[6,] 1.622232e+12  35789.31000000 36240.00000000 35181.73000000 35209.89000000\n",
       "     [,6]          [,7]         \n",
       "[1,] 3552.88403300 1622217599999\n",
       "[2,] 7919.19658900 1622221199999\n",
       "[3,] 5362.54640500 1622224799999\n",
       "[4,] 4369.76996900 1622228399999\n",
       "[5,] 5259.87578400 1622231999999\n",
       "[6,] 5872.51799400 1622235599999"
      ]
     },
     "metadata": {},
     "output_type": "display_data"
    }
   ],
   "source": [
    "data <- fromJSON(url) # get json and transform it to list()\n",
    "data <- data[, 1:7] # let's left only 1:7 columns (from Open time to Close time)\n",
    "head(data)"
   ]
  },
  {
   "cell_type": "code",
   "execution_count": 50,
   "id": "f76208c6",
   "metadata": {},
   "outputs": [
    {
     "data": {
      "text/html": [
       "'character'"
      ],
      "text/latex": [
       "'character'"
      ],
      "text/markdown": [
       "'character'"
      ],
      "text/plain": [
       "[1] \"character\""
      ]
     },
     "metadata": {},
     "output_type": "display_data"
    },
    {
     "data": {
      "text/html": [
       "<table class=\"dataframe\">\n",
       "<caption>A data.frame: 6 × 7</caption>\n",
       "<thead>\n",
       "\t<tr><th></th><th scope=col>V1</th><th scope=col>V2</th><th scope=col>V3</th><th scope=col>V4</th><th scope=col>V5</th><th scope=col>V6</th><th scope=col>V7</th></tr>\n",
       "\t<tr><th></th><th scope=col>&lt;chr&gt;</th><th scope=col>&lt;chr&gt;</th><th scope=col>&lt;chr&gt;</th><th scope=col>&lt;chr&gt;</th><th scope=col>&lt;chr&gt;</th><th scope=col>&lt;chr&gt;</th><th scope=col>&lt;chr&gt;</th></tr>\n",
       "</thead>\n",
       "<tbody>\n",
       "\t<tr><th scope=row>1</th><td>1.622214e+12 </td><td>36588.51000000</td><td>37067.77000000</td><td>36395.87000000</td><td>36749.31000000</td><td>3552.88403300</td><td>1622217599999</td></tr>\n",
       "\t<tr><th scope=row>2</th><td>1622217600000</td><td>36751.59000000</td><td>36845.93000000</td><td>35812.01000000</td><td>35815.56000000</td><td>7919.19658900</td><td>1622221199999</td></tr>\n",
       "\t<tr><th scope=row>3</th><td>1622221200000</td><td>35813.92000000</td><td>36284.00000000</td><td>35650.22000000</td><td>35976.17000000</td><td>5362.54640500</td><td>1622224799999</td></tr>\n",
       "\t<tr><th scope=row>4</th><td>1622224800000</td><td>35976.17000000</td><td>36369.82000000</td><td>35551.06000000</td><td>36190.92000000</td><td>4369.76996900</td><td>1622228399999</td></tr>\n",
       "\t<tr><th scope=row>5</th><td>1622228400000</td><td>36190.91000000</td><td>36570.00000000</td><td>35555.52000000</td><td>35789.30000000</td><td>5259.87578400</td><td>1622231999999</td></tr>\n",
       "\t<tr><th scope=row>6</th><td>1.622232e+12 </td><td>35789.31000000</td><td>36240.00000000</td><td>35181.73000000</td><td>35209.89000000</td><td>5872.51799400</td><td>1622235599999</td></tr>\n",
       "</tbody>\n",
       "</table>\n"
      ],
      "text/latex": [
       "A data.frame: 6 × 7\n",
       "\\begin{tabular}{r|lllllll}\n",
       "  & V1 & V2 & V3 & V4 & V5 & V6 & V7\\\\\n",
       "  & <chr> & <chr> & <chr> & <chr> & <chr> & <chr> & <chr>\\\\\n",
       "\\hline\n",
       "\t1 & 1.622214e+12  & 36588.51000000 & 37067.77000000 & 36395.87000000 & 36749.31000000 & 3552.88403300 & 1622217599999\\\\\n",
       "\t2 & 1622217600000 & 36751.59000000 & 36845.93000000 & 35812.01000000 & 35815.56000000 & 7919.19658900 & 1622221199999\\\\\n",
       "\t3 & 1622221200000 & 35813.92000000 & 36284.00000000 & 35650.22000000 & 35976.17000000 & 5362.54640500 & 1622224799999\\\\\n",
       "\t4 & 1622224800000 & 35976.17000000 & 36369.82000000 & 35551.06000000 & 36190.92000000 & 4369.76996900 & 1622228399999\\\\\n",
       "\t5 & 1622228400000 & 36190.91000000 & 36570.00000000 & 35555.52000000 & 35789.30000000 & 5259.87578400 & 1622231999999\\\\\n",
       "\t6 & 1.622232e+12  & 35789.31000000 & 36240.00000000 & 35181.73000000 & 35209.89000000 & 5872.51799400 & 1622235599999\\\\\n",
       "\\end{tabular}\n"
      ],
      "text/markdown": [
       "\n",
       "A data.frame: 6 × 7\n",
       "\n",
       "| <!--/--> | V1 &lt;chr&gt; | V2 &lt;chr&gt; | V3 &lt;chr&gt; | V4 &lt;chr&gt; | V5 &lt;chr&gt; | V6 &lt;chr&gt; | V7 &lt;chr&gt; |\n",
       "|---|---|---|---|---|---|---|---|\n",
       "| 1 | 1.622214e+12  | 36588.51000000 | 37067.77000000 | 36395.87000000 | 36749.31000000 | 3552.88403300 | 1622217599999 |\n",
       "| 2 | 1622217600000 | 36751.59000000 | 36845.93000000 | 35812.01000000 | 35815.56000000 | 7919.19658900 | 1622221199999 |\n",
       "| 3 | 1622221200000 | 35813.92000000 | 36284.00000000 | 35650.22000000 | 35976.17000000 | 5362.54640500 | 1622224799999 |\n",
       "| 4 | 1622224800000 | 35976.17000000 | 36369.82000000 | 35551.06000000 | 36190.92000000 | 4369.76996900 | 1622228399999 |\n",
       "| 5 | 1622228400000 | 36190.91000000 | 36570.00000000 | 35555.52000000 | 35789.30000000 | 5259.87578400 | 1622231999999 |\n",
       "| 6 | 1.622232e+12  | 35789.31000000 | 36240.00000000 | 35181.73000000 | 35209.89000000 | 5872.51799400 | 1622235599999 |\n",
       "\n"
      ],
      "text/plain": [
       "  V1            V2             V3             V4             V5            \n",
       "1 1.622214e+12  36588.51000000 37067.77000000 36395.87000000 36749.31000000\n",
       "2 1622217600000 36751.59000000 36845.93000000 35812.01000000 35815.56000000\n",
       "3 1622221200000 35813.92000000 36284.00000000 35650.22000000 35976.17000000\n",
       "4 1622224800000 35976.17000000 36369.82000000 35551.06000000 36190.92000000\n",
       "5 1622228400000 36190.91000000 36570.00000000 35555.52000000 35789.30000000\n",
       "6 1.622232e+12  35789.31000000 36240.00000000 35181.73000000 35209.89000000\n",
       "  V6            V7           \n",
       "1 3552.88403300 1622217599999\n",
       "2 7919.19658900 1622221199999\n",
       "3 5362.54640500 1622224799999\n",
       "4 4369.76996900 1622228399999\n",
       "5 5259.87578400 1622231999999\n",
       "6 5872.51799400 1622235599999"
      ]
     },
     "metadata": {},
     "output_type": "display_data"
    }
   ],
   "source": [
    "typeof(data) # check data type\n",
    "data <- as.data.frame(data) # convert to dataframe\n",
    "head(data)"
   ]
  },
  {
   "cell_type": "code",
   "execution_count": 51,
   "id": "eac7f170",
   "metadata": {},
   "outputs": [
    {
     "data": {
      "text/html": [
       "<table class=\"dataframe\">\n",
       "<caption>A data.frame: 6 × 7</caption>\n",
       "<thead>\n",
       "\t<tr><th></th><th scope=col>Open_time</th><th scope=col>Open</th><th scope=col>High</th><th scope=col>Low</th><th scope=col>Close</th><th scope=col>Volume</th><th scope=col>Close_time</th></tr>\n",
       "\t<tr><th></th><th scope=col>&lt;chr&gt;</th><th scope=col>&lt;chr&gt;</th><th scope=col>&lt;chr&gt;</th><th scope=col>&lt;chr&gt;</th><th scope=col>&lt;chr&gt;</th><th scope=col>&lt;chr&gt;</th><th scope=col>&lt;chr&gt;</th></tr>\n",
       "</thead>\n",
       "<tbody>\n",
       "\t<tr><th scope=row>1</th><td>1.622214e+12 </td><td>36588.51000000</td><td>37067.77000000</td><td>36395.87000000</td><td>36749.31000000</td><td>3552.88403300</td><td>1622217599999</td></tr>\n",
       "\t<tr><th scope=row>2</th><td>1622217600000</td><td>36751.59000000</td><td>36845.93000000</td><td>35812.01000000</td><td>35815.56000000</td><td>7919.19658900</td><td>1622221199999</td></tr>\n",
       "\t<tr><th scope=row>3</th><td>1622221200000</td><td>35813.92000000</td><td>36284.00000000</td><td>35650.22000000</td><td>35976.17000000</td><td>5362.54640500</td><td>1622224799999</td></tr>\n",
       "\t<tr><th scope=row>4</th><td>1622224800000</td><td>35976.17000000</td><td>36369.82000000</td><td>35551.06000000</td><td>36190.92000000</td><td>4369.76996900</td><td>1622228399999</td></tr>\n",
       "\t<tr><th scope=row>5</th><td>1622228400000</td><td>36190.91000000</td><td>36570.00000000</td><td>35555.52000000</td><td>35789.30000000</td><td>5259.87578400</td><td>1622231999999</td></tr>\n",
       "\t<tr><th scope=row>6</th><td>1.622232e+12 </td><td>35789.31000000</td><td>36240.00000000</td><td>35181.73000000</td><td>35209.89000000</td><td>5872.51799400</td><td>1622235599999</td></tr>\n",
       "</tbody>\n",
       "</table>\n"
      ],
      "text/latex": [
       "A data.frame: 6 × 7\n",
       "\\begin{tabular}{r|lllllll}\n",
       "  & Open\\_time & Open & High & Low & Close & Volume & Close\\_time\\\\\n",
       "  & <chr> & <chr> & <chr> & <chr> & <chr> & <chr> & <chr>\\\\\n",
       "\\hline\n",
       "\t1 & 1.622214e+12  & 36588.51000000 & 37067.77000000 & 36395.87000000 & 36749.31000000 & 3552.88403300 & 1622217599999\\\\\n",
       "\t2 & 1622217600000 & 36751.59000000 & 36845.93000000 & 35812.01000000 & 35815.56000000 & 7919.19658900 & 1622221199999\\\\\n",
       "\t3 & 1622221200000 & 35813.92000000 & 36284.00000000 & 35650.22000000 & 35976.17000000 & 5362.54640500 & 1622224799999\\\\\n",
       "\t4 & 1622224800000 & 35976.17000000 & 36369.82000000 & 35551.06000000 & 36190.92000000 & 4369.76996900 & 1622228399999\\\\\n",
       "\t5 & 1622228400000 & 36190.91000000 & 36570.00000000 & 35555.52000000 & 35789.30000000 & 5259.87578400 & 1622231999999\\\\\n",
       "\t6 & 1.622232e+12  & 35789.31000000 & 36240.00000000 & 35181.73000000 & 35209.89000000 & 5872.51799400 & 1622235599999\\\\\n",
       "\\end{tabular}\n"
      ],
      "text/markdown": [
       "\n",
       "A data.frame: 6 × 7\n",
       "\n",
       "| <!--/--> | Open_time &lt;chr&gt; | Open &lt;chr&gt; | High &lt;chr&gt; | Low &lt;chr&gt; | Close &lt;chr&gt; | Volume &lt;chr&gt; | Close_time &lt;chr&gt; |\n",
       "|---|---|---|---|---|---|---|---|\n",
       "| 1 | 1.622214e+12  | 36588.51000000 | 37067.77000000 | 36395.87000000 | 36749.31000000 | 3552.88403300 | 1622217599999 |\n",
       "| 2 | 1622217600000 | 36751.59000000 | 36845.93000000 | 35812.01000000 | 35815.56000000 | 7919.19658900 | 1622221199999 |\n",
       "| 3 | 1622221200000 | 35813.92000000 | 36284.00000000 | 35650.22000000 | 35976.17000000 | 5362.54640500 | 1622224799999 |\n",
       "| 4 | 1622224800000 | 35976.17000000 | 36369.82000000 | 35551.06000000 | 36190.92000000 | 4369.76996900 | 1622228399999 |\n",
       "| 5 | 1622228400000 | 36190.91000000 | 36570.00000000 | 35555.52000000 | 35789.30000000 | 5259.87578400 | 1622231999999 |\n",
       "| 6 | 1.622232e+12  | 35789.31000000 | 36240.00000000 | 35181.73000000 | 35209.89000000 | 5872.51799400 | 1622235599999 |\n",
       "\n"
      ],
      "text/plain": [
       "  Open_time     Open           High           Low            Close         \n",
       "1 1.622214e+12  36588.51000000 37067.77000000 36395.87000000 36749.31000000\n",
       "2 1622217600000 36751.59000000 36845.93000000 35812.01000000 35815.56000000\n",
       "3 1622221200000 35813.92000000 36284.00000000 35650.22000000 35976.17000000\n",
       "4 1622224800000 35976.17000000 36369.82000000 35551.06000000 36190.92000000\n",
       "5 1622228400000 36190.91000000 36570.00000000 35555.52000000 35789.30000000\n",
       "6 1.622232e+12  35789.31000000 36240.00000000 35181.73000000 35209.89000000\n",
       "  Volume        Close_time   \n",
       "1 3552.88403300 1622217599999\n",
       "2 7919.19658900 1622221199999\n",
       "3 5362.54640500 1622224799999\n",
       "4 4369.76996900 1622228399999\n",
       "5 5259.87578400 1622231999999\n",
       "6 5872.51799400 1622235599999"
      ]
     },
     "metadata": {},
     "output_type": "display_data"
    }
   ],
   "source": [
    "# fix columns names\n",
    "colnames(data) <- c(\"Open_time\", \"Open\", \"High\", \"Low\", \"Close\", \"Volume\", \"Close_time\")\n",
    "head(data) # looks better, but columns are characters still"
   ]
  },
  {
   "cell_type": "code",
   "execution_count": 20,
   "id": "6a20a927",
   "metadata": {},
   "outputs": [
    {
     "data": {
      "text/html": [
       "FALSE"
      ],
      "text/latex": [
       "FALSE"
      ],
      "text/markdown": [
       "FALSE"
      ],
      "text/plain": [
       "[1] FALSE"
      ]
     },
     "metadata": {},
     "output_type": "display_data"
    },
    {
     "data": {
      "text/html": [
       "FALSE"
      ],
      "text/latex": [
       "FALSE"
      ],
      "text/markdown": [
       "FALSE"
      ],
      "text/plain": [
       "[1] FALSE"
      ]
     },
     "metadata": {},
     "output_type": "display_data"
    }
   ],
   "source": [
    "is.numeric(data[,1]) # check 1st column type is numeric\n",
    "is.numeric(data[,2]) # check 2nd column type is numeric"
   ]
  },
  {
   "cell_type": "code",
   "execution_count": 52,
   "id": "43574c0c",
   "metadata": {},
   "outputs": [
    {
     "data": {
      "text/html": [
       "<table class=\"dataframe\">\n",
       "<caption>A data.frame: 6 × 7</caption>\n",
       "<thead>\n",
       "\t<tr><th></th><th scope=col>Open_time</th><th scope=col>Open</th><th scope=col>High</th><th scope=col>Low</th><th scope=col>Close</th><th scope=col>Volume</th><th scope=col>Close_time</th></tr>\n",
       "\t<tr><th></th><th scope=col>&lt;dbl&gt;</th><th scope=col>&lt;dbl&gt;</th><th scope=col>&lt;dbl&gt;</th><th scope=col>&lt;dbl&gt;</th><th scope=col>&lt;dbl&gt;</th><th scope=col>&lt;dbl&gt;</th><th scope=col>&lt;dbl&gt;</th></tr>\n",
       "</thead>\n",
       "<tbody>\n",
       "\t<tr><th scope=row>1</th><td>1.622214e+12</td><td>36588.51</td><td>37067.77</td><td>36395.87</td><td>36749.31</td><td>3552.884</td><td>1.622218e+12</td></tr>\n",
       "\t<tr><th scope=row>2</th><td>1.622218e+12</td><td>36751.59</td><td>36845.93</td><td>35812.01</td><td>35815.56</td><td>7919.197</td><td>1.622221e+12</td></tr>\n",
       "\t<tr><th scope=row>3</th><td>1.622221e+12</td><td>35813.92</td><td>36284.00</td><td>35650.22</td><td>35976.17</td><td>5362.546</td><td>1.622225e+12</td></tr>\n",
       "\t<tr><th scope=row>4</th><td>1.622225e+12</td><td>35976.17</td><td>36369.82</td><td>35551.06</td><td>36190.92</td><td>4369.770</td><td>1.622228e+12</td></tr>\n",
       "\t<tr><th scope=row>5</th><td>1.622228e+12</td><td>36190.91</td><td>36570.00</td><td>35555.52</td><td>35789.30</td><td>5259.876</td><td>1.622232e+12</td></tr>\n",
       "\t<tr><th scope=row>6</th><td>1.622232e+12</td><td>35789.31</td><td>36240.00</td><td>35181.73</td><td>35209.89</td><td>5872.518</td><td>1.622236e+12</td></tr>\n",
       "</tbody>\n",
       "</table>\n"
      ],
      "text/latex": [
       "A data.frame: 6 × 7\n",
       "\\begin{tabular}{r|lllllll}\n",
       "  & Open\\_time & Open & High & Low & Close & Volume & Close\\_time\\\\\n",
       "  & <dbl> & <dbl> & <dbl> & <dbl> & <dbl> & <dbl> & <dbl>\\\\\n",
       "\\hline\n",
       "\t1 & 1.622214e+12 & 36588.51 & 37067.77 & 36395.87 & 36749.31 & 3552.884 & 1.622218e+12\\\\\n",
       "\t2 & 1.622218e+12 & 36751.59 & 36845.93 & 35812.01 & 35815.56 & 7919.197 & 1.622221e+12\\\\\n",
       "\t3 & 1.622221e+12 & 35813.92 & 36284.00 & 35650.22 & 35976.17 & 5362.546 & 1.622225e+12\\\\\n",
       "\t4 & 1.622225e+12 & 35976.17 & 36369.82 & 35551.06 & 36190.92 & 4369.770 & 1.622228e+12\\\\\n",
       "\t5 & 1.622228e+12 & 36190.91 & 36570.00 & 35555.52 & 35789.30 & 5259.876 & 1.622232e+12\\\\\n",
       "\t6 & 1.622232e+12 & 35789.31 & 36240.00 & 35181.73 & 35209.89 & 5872.518 & 1.622236e+12\\\\\n",
       "\\end{tabular}\n"
      ],
      "text/markdown": [
       "\n",
       "A data.frame: 6 × 7\n",
       "\n",
       "| <!--/--> | Open_time &lt;dbl&gt; | Open &lt;dbl&gt; | High &lt;dbl&gt; | Low &lt;dbl&gt; | Close &lt;dbl&gt; | Volume &lt;dbl&gt; | Close_time &lt;dbl&gt; |\n",
       "|---|---|---|---|---|---|---|---|\n",
       "| 1 | 1.622214e+12 | 36588.51 | 37067.77 | 36395.87 | 36749.31 | 3552.884 | 1.622218e+12 |\n",
       "| 2 | 1.622218e+12 | 36751.59 | 36845.93 | 35812.01 | 35815.56 | 7919.197 | 1.622221e+12 |\n",
       "| 3 | 1.622221e+12 | 35813.92 | 36284.00 | 35650.22 | 35976.17 | 5362.546 | 1.622225e+12 |\n",
       "| 4 | 1.622225e+12 | 35976.17 | 36369.82 | 35551.06 | 36190.92 | 4369.770 | 1.622228e+12 |\n",
       "| 5 | 1.622228e+12 | 36190.91 | 36570.00 | 35555.52 | 35789.30 | 5259.876 | 1.622232e+12 |\n",
       "| 6 | 1.622232e+12 | 35789.31 | 36240.00 | 35181.73 | 35209.89 | 5872.518 | 1.622236e+12 |\n",
       "\n"
      ],
      "text/plain": [
       "  Open_time    Open     High     Low      Close    Volume   Close_time  \n",
       "1 1.622214e+12 36588.51 37067.77 36395.87 36749.31 3552.884 1.622218e+12\n",
       "2 1.622218e+12 36751.59 36845.93 35812.01 35815.56 7919.197 1.622221e+12\n",
       "3 1.622221e+12 35813.92 36284.00 35650.22 35976.17 5362.546 1.622225e+12\n",
       "4 1.622225e+12 35976.17 36369.82 35551.06 36190.92 4369.770 1.622228e+12\n",
       "5 1.622228e+12 36190.91 36570.00 35555.52 35789.30 5259.876 1.622232e+12\n",
       "6 1.622232e+12 35789.31 36240.00 35181.73 35209.89 5872.518 1.622236e+12"
      ]
     },
     "metadata": {},
     "output_type": "display_data"
    }
   ],
   "source": [
    "data <- as.data.frame(sapply(data, as.numeric)) # convert all columns to numeric\n",
    "head(data) # good, its double now"
   ]
  },
  {
   "cell_type": "markdown",
   "id": "99a2fb44",
   "metadata": {},
   "source": [
    "Final stage is to convert `Open_time` and `Close_time` to dates."
   ]
  },
  {
   "cell_type": "code",
   "execution_count": 53,
   "id": "ff468404",
   "metadata": {},
   "outputs": [
    {
     "data": {
      "text/html": [
       "<table class=\"dataframe\">\n",
       "<caption>A data.frame: 6 × 7</caption>\n",
       "<thead>\n",
       "\t<tr><th></th><th scope=col>Open_time</th><th scope=col>Open</th><th scope=col>High</th><th scope=col>Low</th><th scope=col>Close</th><th scope=col>Volume</th><th scope=col>Close_time</th></tr>\n",
       "\t<tr><th></th><th scope=col>&lt;dttm&gt;</th><th scope=col>&lt;dbl&gt;</th><th scope=col>&lt;dbl&gt;</th><th scope=col>&lt;dbl&gt;</th><th scope=col>&lt;dbl&gt;</th><th scope=col>&lt;dbl&gt;</th><th scope=col>&lt;dttm&gt;</th></tr>\n",
       "</thead>\n",
       "<tbody>\n",
       "\t<tr><th scope=row>1</th><td>2021-05-28 15:00:00</td><td>36588.51</td><td>37067.77</td><td>36395.87</td><td>36749.31</td><td>3552.884</td><td>2021-05-28 15:59:59</td></tr>\n",
       "\t<tr><th scope=row>2</th><td>2021-05-28 16:00:00</td><td>36751.59</td><td>36845.93</td><td>35812.01</td><td>35815.56</td><td>7919.197</td><td>2021-05-28 16:59:59</td></tr>\n",
       "\t<tr><th scope=row>3</th><td>2021-05-28 17:00:00</td><td>35813.92</td><td>36284.00</td><td>35650.22</td><td>35976.17</td><td>5362.546</td><td>2021-05-28 17:59:59</td></tr>\n",
       "\t<tr><th scope=row>4</th><td>2021-05-28 18:00:00</td><td>35976.17</td><td>36369.82</td><td>35551.06</td><td>36190.92</td><td>4369.770</td><td>2021-05-28 18:59:59</td></tr>\n",
       "\t<tr><th scope=row>5</th><td>2021-05-28 19:00:00</td><td>36190.91</td><td>36570.00</td><td>35555.52</td><td>35789.30</td><td>5259.876</td><td>2021-05-28 19:59:59</td></tr>\n",
       "\t<tr><th scope=row>6</th><td>2021-05-28 20:00:00</td><td>35789.31</td><td>36240.00</td><td>35181.73</td><td>35209.89</td><td>5872.518</td><td>2021-05-28 20:59:59</td></tr>\n",
       "</tbody>\n",
       "</table>\n"
      ],
      "text/latex": [
       "A data.frame: 6 × 7\n",
       "\\begin{tabular}{r|lllllll}\n",
       "  & Open\\_time & Open & High & Low & Close & Volume & Close\\_time\\\\\n",
       "  & <dttm> & <dbl> & <dbl> & <dbl> & <dbl> & <dbl> & <dttm>\\\\\n",
       "\\hline\n",
       "\t1 & 2021-05-28 15:00:00 & 36588.51 & 37067.77 & 36395.87 & 36749.31 & 3552.884 & 2021-05-28 15:59:59\\\\\n",
       "\t2 & 2021-05-28 16:00:00 & 36751.59 & 36845.93 & 35812.01 & 35815.56 & 7919.197 & 2021-05-28 16:59:59\\\\\n",
       "\t3 & 2021-05-28 17:00:00 & 35813.92 & 36284.00 & 35650.22 & 35976.17 & 5362.546 & 2021-05-28 17:59:59\\\\\n",
       "\t4 & 2021-05-28 18:00:00 & 35976.17 & 36369.82 & 35551.06 & 36190.92 & 4369.770 & 2021-05-28 18:59:59\\\\\n",
       "\t5 & 2021-05-28 19:00:00 & 36190.91 & 36570.00 & 35555.52 & 35789.30 & 5259.876 & 2021-05-28 19:59:59\\\\\n",
       "\t6 & 2021-05-28 20:00:00 & 35789.31 & 36240.00 & 35181.73 & 35209.89 & 5872.518 & 2021-05-28 20:59:59\\\\\n",
       "\\end{tabular}\n"
      ],
      "text/markdown": [
       "\n",
       "A data.frame: 6 × 7\n",
       "\n",
       "| <!--/--> | Open_time &lt;dttm&gt; | Open &lt;dbl&gt; | High &lt;dbl&gt; | Low &lt;dbl&gt; | Close &lt;dbl&gt; | Volume &lt;dbl&gt; | Close_time &lt;dttm&gt; |\n",
       "|---|---|---|---|---|---|---|---|\n",
       "| 1 | 2021-05-28 15:00:00 | 36588.51 | 37067.77 | 36395.87 | 36749.31 | 3552.884 | 2021-05-28 15:59:59 |\n",
       "| 2 | 2021-05-28 16:00:00 | 36751.59 | 36845.93 | 35812.01 | 35815.56 | 7919.197 | 2021-05-28 16:59:59 |\n",
       "| 3 | 2021-05-28 17:00:00 | 35813.92 | 36284.00 | 35650.22 | 35976.17 | 5362.546 | 2021-05-28 17:59:59 |\n",
       "| 4 | 2021-05-28 18:00:00 | 35976.17 | 36369.82 | 35551.06 | 36190.92 | 4369.770 | 2021-05-28 18:59:59 |\n",
       "| 5 | 2021-05-28 19:00:00 | 36190.91 | 36570.00 | 35555.52 | 35789.30 | 5259.876 | 2021-05-28 19:59:59 |\n",
       "| 6 | 2021-05-28 20:00:00 | 35789.31 | 36240.00 | 35181.73 | 35209.89 | 5872.518 | 2021-05-28 20:59:59 |\n",
       "\n"
      ],
      "text/plain": [
       "  Open_time           Open     High     Low      Close    Volume  \n",
       "1 2021-05-28 15:00:00 36588.51 37067.77 36395.87 36749.31 3552.884\n",
       "2 2021-05-28 16:00:00 36751.59 36845.93 35812.01 35815.56 7919.197\n",
       "3 2021-05-28 17:00:00 35813.92 36284.00 35650.22 35976.17 5362.546\n",
       "4 2021-05-28 18:00:00 35976.17 36369.82 35551.06 36190.92 4369.770\n",
       "5 2021-05-28 19:00:00 36190.91 36570.00 35555.52 35789.30 5259.876\n",
       "6 2021-05-28 20:00:00 35789.31 36240.00 35181.73 35209.89 5872.518\n",
       "  Close_time         \n",
       "1 2021-05-28 15:59:59\n",
       "2 2021-05-28 16:59:59\n",
       "3 2021-05-28 17:59:59\n",
       "4 2021-05-28 18:59:59\n",
       "5 2021-05-28 19:59:59\n",
       "6 2021-05-28 20:59:59"
      ]
     },
     "metadata": {},
     "output_type": "display_data"
    }
   ],
   "source": [
    "data$Open_time <- as.POSIXct(data$Open_time/1e3, origin = '1970-01-01')\n",
    "data$Close_time <- as.POSIXct(data$Close_time/1e3, origin = '1970-01-01')\n",
    "\n",
    "head(data) "
   ]
  },
  {
   "cell_type": "code",
   "execution_count": 55,
   "id": "d15735de",
   "metadata": {},
   "outputs": [
    {
     "data": {
      "text/html": [
       "<table class=\"dataframe\">\n",
       "<caption>A data.frame: 6 × 7</caption>\n",
       "<thead>\n",
       "\t<tr><th></th><th scope=col>Open_time</th><th scope=col>Open</th><th scope=col>High</th><th scope=col>Low</th><th scope=col>Close</th><th scope=col>Volume</th><th scope=col>Close_time</th></tr>\n",
       "\t<tr><th></th><th scope=col>&lt;dttm&gt;</th><th scope=col>&lt;dbl&gt;</th><th scope=col>&lt;dbl&gt;</th><th scope=col>&lt;dbl&gt;</th><th scope=col>&lt;dbl&gt;</th><th scope=col>&lt;dbl&gt;</th><th scope=col>&lt;dttm&gt;</th></tr>\n",
       "</thead>\n",
       "<tbody>\n",
       "\t<tr><th scope=row>95</th><td>2021-06-01 13:00:00</td><td>36163.51</td><td>37440.00</td><td>35666.00</td><td>37039.69</td><td>10250.556</td><td>2021-06-01 13:59:59</td></tr>\n",
       "\t<tr><th scope=row>96</th><td>2021-06-01 14:00:00</td><td>37036.57</td><td>37289.86</td><td>36478.36</td><td>36636.71</td><td> 4510.797</td><td>2021-06-01 14:59:59</td></tr>\n",
       "\t<tr><th scope=row>97</th><td>2021-06-01 15:00:00</td><td>36634.42</td><td>36644.70</td><td>36025.46</td><td>36235.29</td><td> 3903.096</td><td>2021-06-01 15:59:59</td></tr>\n",
       "\t<tr><th scope=row>98</th><td>2021-06-01 16:00:00</td><td>36235.28</td><td>36479.99</td><td>35760.00</td><td>35875.57</td><td> 4317.775</td><td>2021-06-01 16:59:59</td></tr>\n",
       "\t<tr><th scope=row>99</th><td>2021-06-01 17:00:00</td><td>35871.69</td><td>36300.00</td><td>35716.66</td><td>36154.77</td><td> 2880.592</td><td>2021-06-01 17:59:59</td></tr>\n",
       "\t<tr><th scope=row>100</th><td>2021-06-01 18:00:00</td><td>36154.64</td><td>36492.89</td><td>36087.95</td><td>36375.14</td><td> 1973.652</td><td>2021-06-01 18:59:59</td></tr>\n",
       "</tbody>\n",
       "</table>\n"
      ],
      "text/latex": [
       "A data.frame: 6 × 7\n",
       "\\begin{tabular}{r|lllllll}\n",
       "  & Open\\_time & Open & High & Low & Close & Volume & Close\\_time\\\\\n",
       "  & <dttm> & <dbl> & <dbl> & <dbl> & <dbl> & <dbl> & <dttm>\\\\\n",
       "\\hline\n",
       "\t95 & 2021-06-01 13:00:00 & 36163.51 & 37440.00 & 35666.00 & 37039.69 & 10250.556 & 2021-06-01 13:59:59\\\\\n",
       "\t96 & 2021-06-01 14:00:00 & 37036.57 & 37289.86 & 36478.36 & 36636.71 &  4510.797 & 2021-06-01 14:59:59\\\\\n",
       "\t97 & 2021-06-01 15:00:00 & 36634.42 & 36644.70 & 36025.46 & 36235.29 &  3903.096 & 2021-06-01 15:59:59\\\\\n",
       "\t98 & 2021-06-01 16:00:00 & 36235.28 & 36479.99 & 35760.00 & 35875.57 &  4317.775 & 2021-06-01 16:59:59\\\\\n",
       "\t99 & 2021-06-01 17:00:00 & 35871.69 & 36300.00 & 35716.66 & 36154.77 &  2880.592 & 2021-06-01 17:59:59\\\\\n",
       "\t100 & 2021-06-01 18:00:00 & 36154.64 & 36492.89 & 36087.95 & 36375.14 &  1973.652 & 2021-06-01 18:59:59\\\\\n",
       "\\end{tabular}\n"
      ],
      "text/markdown": [
       "\n",
       "A data.frame: 6 × 7\n",
       "\n",
       "| <!--/--> | Open_time &lt;dttm&gt; | Open &lt;dbl&gt; | High &lt;dbl&gt; | Low &lt;dbl&gt; | Close &lt;dbl&gt; | Volume &lt;dbl&gt; | Close_time &lt;dttm&gt; |\n",
       "|---|---|---|---|---|---|---|---|\n",
       "| 95 | 2021-06-01 13:00:00 | 36163.51 | 37440.00 | 35666.00 | 37039.69 | 10250.556 | 2021-06-01 13:59:59 |\n",
       "| 96 | 2021-06-01 14:00:00 | 37036.57 | 37289.86 | 36478.36 | 36636.71 |  4510.797 | 2021-06-01 14:59:59 |\n",
       "| 97 | 2021-06-01 15:00:00 | 36634.42 | 36644.70 | 36025.46 | 36235.29 |  3903.096 | 2021-06-01 15:59:59 |\n",
       "| 98 | 2021-06-01 16:00:00 | 36235.28 | 36479.99 | 35760.00 | 35875.57 |  4317.775 | 2021-06-01 16:59:59 |\n",
       "| 99 | 2021-06-01 17:00:00 | 35871.69 | 36300.00 | 35716.66 | 36154.77 |  2880.592 | 2021-06-01 17:59:59 |\n",
       "| 100 | 2021-06-01 18:00:00 | 36154.64 | 36492.89 | 36087.95 | 36375.14 |  1973.652 | 2021-06-01 18:59:59 |\n",
       "\n"
      ],
      "text/plain": [
       "    Open_time           Open     High     Low      Close    Volume   \n",
       "95  2021-06-01 13:00:00 36163.51 37440.00 35666.00 37039.69 10250.556\n",
       "96  2021-06-01 14:00:00 37036.57 37289.86 36478.36 36636.71  4510.797\n",
       "97  2021-06-01 15:00:00 36634.42 36644.70 36025.46 36235.29  3903.096\n",
       "98  2021-06-01 16:00:00 36235.28 36479.99 35760.00 35875.57  4317.775\n",
       "99  2021-06-01 17:00:00 35871.69 36300.00 35716.66 36154.77  2880.592\n",
       "100 2021-06-01 18:00:00 36154.64 36492.89 36087.95 36375.14  1973.652\n",
       "    Close_time         \n",
       "95  2021-06-01 13:59:59\n",
       "96  2021-06-01 14:59:59\n",
       "97  2021-06-01 15:59:59\n",
       "98  2021-06-01 16:59:59\n",
       "99  2021-06-01 17:59:59\n",
       "100 2021-06-01 18:59:59"
      ]
     },
     "metadata": {},
     "output_type": "display_data"
    }
   ],
   "source": [
    "tail(data) # check last records"
   ]
  },
  {
   "cell_type": "markdown",
   "id": "4c6cd358",
   "metadata": {},
   "source": [
    "# 5. Google Services"
   ]
  },
  {
   "cell_type": "markdown",
   "id": "c2e341bb",
   "metadata": {},
   "source": [
    "## 5.1. Spreadsheets"
   ]
  },
  {
   "cell_type": "markdown",
   "id": "6b40e3a7",
   "metadata": {},
   "source": [
    "> THIS CHAPTER IS UNDER CONSTRUCTION / Working with Google Spreadsheets need account authorization."
   ]
  },
  {
   "cell_type": "markdown",
   "id": "67bb8e04",
   "metadata": {},
   "source": [
    "googlesheets4 is a package to work with Google Sheets from R. "
   ]
  },
  {
   "cell_type": "code",
   "execution_count": 56,
   "id": "6f3bd5c5",
   "metadata": {},
   "outputs": [],
   "source": [
    "#install.packages(\"googlesheets4\")\n",
    "library(googlesheets4)"
   ]
  },
  {
   "cell_type": "markdown",
   "id": "1d8183af",
   "metadata": {},
   "source": [
    "You can read google documents after authentification on google service. There is sample code:\n",
    "\n",
    "```\n",
    "read_sheet(\"https://docs.google.com/spreadsheets/d/1U6Cf_qEOhiR9AZqTqS3mbMF3zt2db48ZP5v3rkrAEJY/edit#gid=780868077\")\n",
    "gs4_deauth()\n",
    "```"
   ]
  },
  {
   "cell_type": "markdown",
   "id": "81584d58",
   "metadata": {},
   "source": [
    "Let's read sample dataset `gapminder`. It detailed described in next paragraph."
   ]
  },
  {
   "cell_type": "code",
   "execution_count": 58,
   "id": "dd148f72",
   "metadata": {},
   "outputs": [
    {
     "data": {
      "text/plain": [
       "Spreadsheet name: <unknown>\n",
       "              ID: 1U6Cf_qEOhiR9AZqTqS3mbMF3zt2db48ZP5v3rkrAEJY\n",
       "          Locale: <unknown>\n",
       "       Time zone: <unknown>\n",
       "     # of sheets: <unknown>\n",
       "\n",
       "Unable to get metadata for this Sheet. Error details:\n",
       "Can't get Google credentials.\n",
       "Are you running googlesheets4 in a non-interactive session? Consider:\n",
       "  * `gs4_deauth()` to prevent the attempt to get credentials.\n",
       "  * Call `gs4_auth()` directly with all necessary specifics.\n",
       "See gargle's \"Non-interactive auth\" vignette for more details:\n",
       "https://gargle.r-lib.org/articles/non-interactive-auth.html"
      ]
     },
     "metadata": {},
     "output_type": "display_data"
    }
   ],
   "source": [
    "gs4_example(\"gapminder\")"
   ]
  },
  {
   "cell_type": "markdown",
   "id": "f4ec09ca",
   "metadata": {},
   "source": [
    "## 5.2. Trends"
   ]
  },
  {
   "cell_type": "markdown",
   "id": "b02a0f92",
   "metadata": {},
   "source": [
    "**`Google Trends`** is a service for analyzing search requests by many filters like `region` (continent, country, locality), `period` (year, month), `information category` (business, education, hobby, healthcare), `information type` (news, shopping, video, images) https://trends.google.com/trends/"
   ]
  },
  {
   "cell_type": "markdown",
   "id": "36775784",
   "metadata": {},
   "source": []
  },
  {
   "cell_type": "code",
   "execution_count": 60,
   "id": "484f78e2",
   "metadata": {},
   "outputs": [
    {
     "name": "stderr",
     "output_type": "stream",
     "text": [
      "also installing the dependencies ‘BH’, ‘anytime’\n",
      "\n",
      "\n",
      "Updating HTML index of packages in '.Library'\n",
      "\n",
      "Making 'packages.html' ...\n",
      " done\n",
      "\n",
      "Updating HTML index of packages in '.Library'\n",
      "\n",
      "Making 'packages.html' ...\n",
      " done\n",
      "\n"
     ]
    }
   ],
   "source": [
    "install.packages('gtrendsR')\n",
    "install.packages('ggplot2')\n",
    "library(gtrendsR) # loading package for Google Trends queries\n",
    "library(ggplot2)"
   ]
  },
  {
   "cell_type": "markdown",
   "id": "71522538",
   "metadata": {},
   "source": [
    "Let's configure out google trends query params"
   ]
  },
  {
   "cell_type": "code",
   "execution_count": 78,
   "id": "73f63252",
   "metadata": {},
   "outputs": [],
   "source": [
    "keywords = c(\"Bitcoin\", \"FC Barcelona\") # search keywords\n",
    "country = c('AT') # search region from https://support.google.com/business/answer/6270107?hl=en\n",
    "time = (\"2021-01-01 2021-06-01\") # period\n",
    "channel = 'web' # search channel: google search ('news' - google news, 'images' - google images)"
   ]
  },
  {
   "cell_type": "code",
   "execution_count": 79,
   "id": "4583db46",
   "metadata": {},
   "outputs": [],
   "source": [
    "# query\n",
    "trends = gtrends(keywords, gprop = channel, geo = country, time = time, tz = \"UTC\")"
   ]
  },
  {
   "cell_type": "code",
   "execution_count": 80,
   "id": "59a1c513",
   "metadata": {},
   "outputs": [
    {
     "data": {
      "text/html": [
       "<table class=\"dataframe\">\n",
       "<caption>A data.frame: 6 × 7</caption>\n",
       "<thead>\n",
       "\t<tr><th></th><th scope=col>date</th><th scope=col>hits</th><th scope=col>keyword</th><th scope=col>geo</th><th scope=col>time</th><th scope=col>gprop</th><th scope=col>category</th></tr>\n",
       "\t<tr><th></th><th scope=col>&lt;dttm&gt;</th><th scope=col>&lt;int&gt;</th><th scope=col>&lt;chr&gt;</th><th scope=col>&lt;chr&gt;</th><th scope=col>&lt;chr&gt;</th><th scope=col>&lt;chr&gt;</th><th scope=col>&lt;int&gt;</th></tr>\n",
       "</thead>\n",
       "<tbody>\n",
       "\t<tr><th scope=row>1</th><td>2021-01-01</td><td>37</td><td>Bitcoin</td><td>AT</td><td>2021-01-01 2021-06-01</td><td>web</td><td>0</td></tr>\n",
       "\t<tr><th scope=row>2</th><td>2021-01-02</td><td>67</td><td>Bitcoin</td><td>AT</td><td>2021-01-01 2021-06-01</td><td>web</td><td>0</td></tr>\n",
       "\t<tr><th scope=row>3</th><td>2021-01-03</td><td>64</td><td>Bitcoin</td><td>AT</td><td>2021-01-01 2021-06-01</td><td>web</td><td>0</td></tr>\n",
       "\t<tr><th scope=row>4</th><td>2021-01-04</td><td>55</td><td>Bitcoin</td><td>AT</td><td>2021-01-01 2021-06-01</td><td>web</td><td>0</td></tr>\n",
       "\t<tr><th scope=row>5</th><td>2021-01-05</td><td>52</td><td>Bitcoin</td><td>AT</td><td>2021-01-01 2021-06-01</td><td>web</td><td>0</td></tr>\n",
       "\t<tr><th scope=row>6</th><td>2021-01-06</td><td>61</td><td>Bitcoin</td><td>AT</td><td>2021-01-01 2021-06-01</td><td>web</td><td>0</td></tr>\n",
       "</tbody>\n",
       "</table>\n"
      ],
      "text/latex": [
       "A data.frame: 6 × 7\n",
       "\\begin{tabular}{r|lllllll}\n",
       "  & date & hits & keyword & geo & time & gprop & category\\\\\n",
       "  & <dttm> & <int> & <chr> & <chr> & <chr> & <chr> & <int>\\\\\n",
       "\\hline\n",
       "\t1 & 2021-01-01 & 37 & Bitcoin & AT & 2021-01-01 2021-06-01 & web & 0\\\\\n",
       "\t2 & 2021-01-02 & 67 & Bitcoin & AT & 2021-01-01 2021-06-01 & web & 0\\\\\n",
       "\t3 & 2021-01-03 & 64 & Bitcoin & AT & 2021-01-01 2021-06-01 & web & 0\\\\\n",
       "\t4 & 2021-01-04 & 55 & Bitcoin & AT & 2021-01-01 2021-06-01 & web & 0\\\\\n",
       "\t5 & 2021-01-05 & 52 & Bitcoin & AT & 2021-01-01 2021-06-01 & web & 0\\\\\n",
       "\t6 & 2021-01-06 & 61 & Bitcoin & AT & 2021-01-01 2021-06-01 & web & 0\\\\\n",
       "\\end{tabular}\n"
      ],
      "text/markdown": [
       "\n",
       "A data.frame: 6 × 7\n",
       "\n",
       "| <!--/--> | date &lt;dttm&gt; | hits &lt;int&gt; | keyword &lt;chr&gt; | geo &lt;chr&gt; | time &lt;chr&gt; | gprop &lt;chr&gt; | category &lt;int&gt; |\n",
       "|---|---|---|---|---|---|---|---|\n",
       "| 1 | 2021-01-01 | 37 | Bitcoin | AT | 2021-01-01 2021-06-01 | web | 0 |\n",
       "| 2 | 2021-01-02 | 67 | Bitcoin | AT | 2021-01-01 2021-06-01 | web | 0 |\n",
       "| 3 | 2021-01-03 | 64 | Bitcoin | AT | 2021-01-01 2021-06-01 | web | 0 |\n",
       "| 4 | 2021-01-04 | 55 | Bitcoin | AT | 2021-01-01 2021-06-01 | web | 0 |\n",
       "| 5 | 2021-01-05 | 52 | Bitcoin | AT | 2021-01-01 2021-06-01 | web | 0 |\n",
       "| 6 | 2021-01-06 | 61 | Bitcoin | AT | 2021-01-01 2021-06-01 | web | 0 |\n",
       "\n"
      ],
      "text/plain": [
       "  date       hits keyword geo time                  gprop category\n",
       "1 2021-01-01 37   Bitcoin AT  2021-01-01 2021-06-01 web   0       \n",
       "2 2021-01-02 67   Bitcoin AT  2021-01-01 2021-06-01 web   0       \n",
       "3 2021-01-03 64   Bitcoin AT  2021-01-01 2021-06-01 web   0       \n",
       "4 2021-01-04 55   Bitcoin AT  2021-01-01 2021-06-01 web   0       \n",
       "5 2021-01-05 52   Bitcoin AT  2021-01-01 2021-06-01 web   0       \n",
       "6 2021-01-06 61   Bitcoin AT  2021-01-01 2021-06-01 web   0       "
      ]
     },
     "metadata": {},
     "output_type": "display_data"
    }
   ],
   "source": [
    "time_trend = trends$interest_over_time\n",
    "head(time_trend)"
   ]
  },
  {
   "cell_type": "code",
   "execution_count": 81,
   "id": "3be82f04",
   "metadata": {},
   "outputs": [
    {
     "data": {
      "image/png": "[encoded data removed]",
      "text/plain": [
       "plot without title"
      ]
     },
     "metadata": {
      "image/png": {
       "height": 420,
       "width": 420
      }
     },
     "output_type": "display_data"
    }
   ],
   "source": [
    "plot <- ggplot(data=time_trend, aes(x=date, y=hits, group=keyword, col=keyword)) +\n",
    "  geom_line() +\n",
    "  xlab('Time') + \n",
    "  ylab('Relative Interest') + \n",
    "  theme(legend.title = element_blank(), legend.position=\"bottom\", legend.text=element_text(size=15)) + \n",
    "  ggtitle(\"Google Search Volume\")  \n",
    "\n",
    "plot"
   ]
  },
  {
   "cell_type": "markdown",
   "id": "2e2712d4",
   "metadata": {},
   "source": [
    "---"
   ]
  },
  {
   "cell_type": "markdown",
   "id": "0e1539d1",
   "metadata": {},
   "source": [
    "# 6. SQL (SQLite sample)"
   ]
  },
  {
   "cell_type": "markdown",
   "id": "ceff6a8c",
   "metadata": {},
   "source": [
    "We are going to review working with database on SQLite, becouse it allows us not to install DB-server and start working with simple file. \n",
    "\n",
    "For now we will use `RSQLite` package."
   ]
  },
  {
   "cell_type": "code",
   "execution_count": 96,
   "id": "8c420cad",
   "metadata": {},
   "outputs": [
    {
     "name": "stderr",
     "output_type": "stream",
     "text": [
      "Warning message in install.packages(\"RSQLite\"):\n",
      "“installation of package ‘RSQLite’ had non-zero exit status”\n",
      "Updating HTML index of packages in '.Library'\n",
      "\n",
      "Making 'packages.html' ...\n",
      " done\n",
      "\n"
     ]
    }
   ],
   "source": [
    "install.packages(\"RSQLite\")\n",
    "library(RSQLite)"
   ]
  },
  {
   "cell_type": "code",
   "execution_count": 97,
   "id": "31ed526b",
   "metadata": {},
   "outputs": [
    {
     "data": {
      "text/html": [
       "<table class=\"dataframe\">\n",
       "<caption>A data.frame: 6 × 11</caption>\n",
       "<thead>\n",
       "\t<tr><th></th><th scope=col>mpg</th><th scope=col>cyl</th><th scope=col>disp</th><th scope=col>hp</th><th scope=col>drat</th><th scope=col>wt</th><th scope=col>qsec</th><th scope=col>vs</th><th scope=col>am</th><th scope=col>gear</th><th scope=col>carb</th></tr>\n",
       "\t<tr><th></th><th scope=col>&lt;dbl&gt;</th><th scope=col>&lt;dbl&gt;</th><th scope=col>&lt;dbl&gt;</th><th scope=col>&lt;dbl&gt;</th><th scope=col>&lt;dbl&gt;</th><th scope=col>&lt;dbl&gt;</th><th scope=col>&lt;dbl&gt;</th><th scope=col>&lt;dbl&gt;</th><th scope=col>&lt;dbl&gt;</th><th scope=col>&lt;dbl&gt;</th><th scope=col>&lt;dbl&gt;</th></tr>\n",
       "</thead>\n",
       "<tbody>\n",
       "\t<tr><th scope=row>Mazda RX4</th><td>21.0</td><td>6</td><td>160</td><td>110</td><td>3.90</td><td>2.620</td><td>16.46</td><td>0</td><td>1</td><td>4</td><td>4</td></tr>\n",
       "\t<tr><th scope=row>Mazda RX4 Wag</th><td>21.0</td><td>6</td><td>160</td><td>110</td><td>3.90</td><td>2.875</td><td>17.02</td><td>0</td><td>1</td><td>4</td><td>4</td></tr>\n",
       "\t<tr><th scope=row>Datsun 710</th><td>22.8</td><td>4</td><td>108</td><td> 93</td><td>3.85</td><td>2.320</td><td>18.61</td><td>1</td><td>1</td><td>4</td><td>1</td></tr>\n",
       "\t<tr><th scope=row>Hornet 4 Drive</th><td>21.4</td><td>6</td><td>258</td><td>110</td><td>3.08</td><td>3.215</td><td>19.44</td><td>1</td><td>0</td><td>3</td><td>1</td></tr>\n",
       "\t<tr><th scope=row>Hornet Sportabout</th><td>18.7</td><td>8</td><td>360</td><td>175</td><td>3.15</td><td>3.440</td><td>17.02</td><td>0</td><td>0</td><td>3</td><td>2</td></tr>\n",
       "\t<tr><th scope=row>Valiant</th><td>18.1</td><td>6</td><td>225</td><td>105</td><td>2.76</td><td>3.460</td><td>20.22</td><td>1</td><td>0</td><td>3</td><td>1</td></tr>\n",
       "</tbody>\n",
       "</table>\n"
      ],
      "text/latex": [
       "A data.frame: 6 × 11\n",
       "\\begin{tabular}{r|lllllllllll}\n",
       "  & mpg & cyl & disp & hp & drat & wt & qsec & vs & am & gear & carb\\\\\n",
       "  & <dbl> & <dbl> & <dbl> & <dbl> & <dbl> & <dbl> & <dbl> & <dbl> & <dbl> & <dbl> & <dbl>\\\\\n",
       "\\hline\n",
       "\tMazda RX4 & 21.0 & 6 & 160 & 110 & 3.90 & 2.620 & 16.46 & 0 & 1 & 4 & 4\\\\\n",
       "\tMazda RX4 Wag & 21.0 & 6 & 160 & 110 & 3.90 & 2.875 & 17.02 & 0 & 1 & 4 & 4\\\\\n",
       "\tDatsun 710 & 22.8 & 4 & 108 &  93 & 3.85 & 2.320 & 18.61 & 1 & 1 & 4 & 1\\\\\n",
       "\tHornet 4 Drive & 21.4 & 6 & 258 & 110 & 3.08 & 3.215 & 19.44 & 1 & 0 & 3 & 1\\\\\n",
       "\tHornet Sportabout & 18.7 & 8 & 360 & 175 & 3.15 & 3.440 & 17.02 & 0 & 0 & 3 & 2\\\\\n",
       "\tValiant & 18.1 & 6 & 225 & 105 & 2.76 & 3.460 & 20.22 & 1 & 0 & 3 & 1\\\\\n",
       "\\end{tabular}\n"
      ],
      "text/markdown": [
       "\n",
       "A data.frame: 6 × 11\n",
       "\n",
       "| <!--/--> | mpg &lt;dbl&gt; | cyl &lt;dbl&gt; | disp &lt;dbl&gt; | hp &lt;dbl&gt; | drat &lt;dbl&gt; | wt &lt;dbl&gt; | qsec &lt;dbl&gt; | vs &lt;dbl&gt; | am &lt;dbl&gt; | gear &lt;dbl&gt; | carb &lt;dbl&gt; |\n",
       "|---|---|---|---|---|---|---|---|---|---|---|---|\n",
       "| Mazda RX4 | 21.0 | 6 | 160 | 110 | 3.90 | 2.620 | 16.46 | 0 | 1 | 4 | 4 |\n",
       "| Mazda RX4 Wag | 21.0 | 6 | 160 | 110 | 3.90 | 2.875 | 17.02 | 0 | 1 | 4 | 4 |\n",
       "| Datsun 710 | 22.8 | 4 | 108 |  93 | 3.85 | 2.320 | 18.61 | 1 | 1 | 4 | 1 |\n",
       "| Hornet 4 Drive | 21.4 | 6 | 258 | 110 | 3.08 | 3.215 | 19.44 | 1 | 0 | 3 | 1 |\n",
       "| Hornet Sportabout | 18.7 | 8 | 360 | 175 | 3.15 | 3.440 | 17.02 | 0 | 0 | 3 | 2 |\n",
       "| Valiant | 18.1 | 6 | 225 | 105 | 2.76 | 3.460 | 20.22 | 1 | 0 | 3 | 1 |\n",
       "\n"
      ],
      "text/plain": [
       "                  mpg  cyl disp hp  drat wt    qsec  vs am gear carb\n",
       "Mazda RX4         21.0 6   160  110 3.90 2.620 16.46 0  1  4    4   \n",
       "Mazda RX4 Wag     21.0 6   160  110 3.90 2.875 17.02 0  1  4    4   \n",
       "Datsun 710        22.8 4   108   93 3.85 2.320 18.61 1  1  4    1   \n",
       "Hornet 4 Drive    21.4 6   258  110 3.08 3.215 19.44 1  0  3    1   \n",
       "Hornet Sportabout 18.7 8   360  175 3.15 3.440 17.02 0  0  3    2   \n",
       "Valiant           18.1 6   225  105 2.76 3.460 20.22 1  0  3    1   "
      ]
     },
     "metadata": {},
     "output_type": "display_data"
    }
   ],
   "source": [
    "# let's use mtcars dataset\n",
    "\n",
    "data(\"mtcars\") # loads the data\n",
    "head(mtcars) # preview the data"
   ]
  },
  {
   "cell_type": "code",
   "execution_count": 98,
   "id": "2dfa9012",
   "metadata": {},
   "outputs": [],
   "source": [
    "# create new db file\n",
    "db_path = paste0(\"data/cars_.sqlite\")\n",
    "# create connection\n",
    "conn <- dbConnect(RSQLite::SQLite(), \n",
    "                    db_path,\n",
    "                    overwrite = TRUE, append = FALSE) # for lecture content only"
   ]
  },
  {
   "cell_type": "code",
   "execution_count": 99,
   "id": "29c20292",
   "metadata": {},
   "outputs": [
    {
     "data": {
      "text/html": [
       "'cars_table'"
      ],
      "text/latex": [
       "'cars\\_table'"
      ],
      "text/markdown": [
       "'cars_table'"
      ],
      "text/plain": [
       "[1] \"cars_table\""
      ]
     },
     "metadata": {},
     "output_type": "display_data"
    }
   ],
   "source": [
    "# Write the mtcars dataset into a table names mtcars_data\n",
    "dbWriteTable(conn, \"cars_table\", mtcars)\n",
    "# List all the tables available in the database\n",
    "dbListTables(conn)"
   ]
  },
  {
   "cell_type": "code",
   "execution_count": 100,
   "id": "87c5780b",
   "metadata": {},
   "outputs": [
    {
     "data": {
      "text/html": [
       "<table class=\"dataframe\">\n",
       "<caption>A data.frame: 6 × 11</caption>\n",
       "<thead>\n",
       "\t<tr><th></th><th scope=col>mpg</th><th scope=col>cyl</th><th scope=col>disp</th><th scope=col>hp</th><th scope=col>drat</th><th scope=col>wt</th><th scope=col>qsec</th><th scope=col>vs</th><th scope=col>am</th><th scope=col>gear</th><th scope=col>carb</th></tr>\n",
       "\t<tr><th></th><th scope=col>&lt;dbl&gt;</th><th scope=col>&lt;dbl&gt;</th><th scope=col>&lt;dbl&gt;</th><th scope=col>&lt;dbl&gt;</th><th scope=col>&lt;dbl&gt;</th><th scope=col>&lt;dbl&gt;</th><th scope=col>&lt;dbl&gt;</th><th scope=col>&lt;dbl&gt;</th><th scope=col>&lt;dbl&gt;</th><th scope=col>&lt;dbl&gt;</th><th scope=col>&lt;dbl&gt;</th></tr>\n",
       "</thead>\n",
       "<tbody>\n",
       "\t<tr><th scope=row>1</th><td>21.0</td><td>6</td><td>160</td><td>110</td><td>3.90</td><td>2.620</td><td>16.46</td><td>0</td><td>1</td><td>4</td><td>4</td></tr>\n",
       "\t<tr><th scope=row>2</th><td>21.0</td><td>6</td><td>160</td><td>110</td><td>3.90</td><td>2.875</td><td>17.02</td><td>0</td><td>1</td><td>4</td><td>4</td></tr>\n",
       "\t<tr><th scope=row>3</th><td>22.8</td><td>4</td><td>108</td><td> 93</td><td>3.85</td><td>2.320</td><td>18.61</td><td>1</td><td>1</td><td>4</td><td>1</td></tr>\n",
       "\t<tr><th scope=row>4</th><td>21.4</td><td>6</td><td>258</td><td>110</td><td>3.08</td><td>3.215</td><td>19.44</td><td>1</td><td>0</td><td>3</td><td>1</td></tr>\n",
       "\t<tr><th scope=row>5</th><td>18.7</td><td>8</td><td>360</td><td>175</td><td>3.15</td><td>3.440</td><td>17.02</td><td>0</td><td>0</td><td>3</td><td>2</td></tr>\n",
       "\t<tr><th scope=row>6</th><td>18.1</td><td>6</td><td>225</td><td>105</td><td>2.76</td><td>3.460</td><td>20.22</td><td>1</td><td>0</td><td>3</td><td>1</td></tr>\n",
       "</tbody>\n",
       "</table>\n"
      ],
      "text/latex": [
       "A data.frame: 6 × 11\n",
       "\\begin{tabular}{r|lllllllllll}\n",
       "  & mpg & cyl & disp & hp & drat & wt & qsec & vs & am & gear & carb\\\\\n",
       "  & <dbl> & <dbl> & <dbl> & <dbl> & <dbl> & <dbl> & <dbl> & <dbl> & <dbl> & <dbl> & <dbl>\\\\\n",
       "\\hline\n",
       "\t1 & 21.0 & 6 & 160 & 110 & 3.90 & 2.620 & 16.46 & 0 & 1 & 4 & 4\\\\\n",
       "\t2 & 21.0 & 6 & 160 & 110 & 3.90 & 2.875 & 17.02 & 0 & 1 & 4 & 4\\\\\n",
       "\t3 & 22.8 & 4 & 108 &  93 & 3.85 & 2.320 & 18.61 & 1 & 1 & 4 & 1\\\\\n",
       "\t4 & 21.4 & 6 & 258 & 110 & 3.08 & 3.215 & 19.44 & 1 & 0 & 3 & 1\\\\\n",
       "\t5 & 18.7 & 8 & 360 & 175 & 3.15 & 3.440 & 17.02 & 0 & 0 & 3 & 2\\\\\n",
       "\t6 & 18.1 & 6 & 225 & 105 & 2.76 & 3.460 & 20.22 & 1 & 0 & 3 & 1\\\\\n",
       "\\end{tabular}\n"
      ],
      "text/markdown": [
       "\n",
       "A data.frame: 6 × 11\n",
       "\n",
       "| <!--/--> | mpg &lt;dbl&gt; | cyl &lt;dbl&gt; | disp &lt;dbl&gt; | hp &lt;dbl&gt; | drat &lt;dbl&gt; | wt &lt;dbl&gt; | qsec &lt;dbl&gt; | vs &lt;dbl&gt; | am &lt;dbl&gt; | gear &lt;dbl&gt; | carb &lt;dbl&gt; |\n",
       "|---|---|---|---|---|---|---|---|---|---|---|---|\n",
       "| 1 | 21.0 | 6 | 160 | 110 | 3.90 | 2.620 | 16.46 | 0 | 1 | 4 | 4 |\n",
       "| 2 | 21.0 | 6 | 160 | 110 | 3.90 | 2.875 | 17.02 | 0 | 1 | 4 | 4 |\n",
       "| 3 | 22.8 | 4 | 108 |  93 | 3.85 | 2.320 | 18.61 | 1 | 1 | 4 | 1 |\n",
       "| 4 | 21.4 | 6 | 258 | 110 | 3.08 | 3.215 | 19.44 | 1 | 0 | 3 | 1 |\n",
       "| 5 | 18.7 | 8 | 360 | 175 | 3.15 | 3.440 | 17.02 | 0 | 0 | 3 | 2 |\n",
       "| 6 | 18.1 | 6 | 225 | 105 | 2.76 | 3.460 | 20.22 | 1 | 0 | 3 | 1 |\n",
       "\n"
      ],
      "text/plain": [
       "  mpg  cyl disp hp  drat wt    qsec  vs am gear carb\n",
       "1 21.0 6   160  110 3.90 2.620 16.46 0  1  4    4   \n",
       "2 21.0 6   160  110 3.90 2.875 17.02 0  1  4    4   \n",
       "3 22.8 4   108   93 3.85 2.320 18.61 1  1  4    1   \n",
       "4 21.4 6   258  110 3.08 3.215 19.44 1  0  3    1   \n",
       "5 18.7 8   360  175 3.15 3.440 17.02 0  0  3    2   \n",
       "6 18.1 6   225  105 2.76 3.460 20.22 1  0  3    1   "
      ]
     },
     "metadata": {},
     "output_type": "display_data"
    }
   ],
   "source": [
    "table_data <- dbGetQuery(conn, \"SELECT * FROM cars_table\")\n",
    "head(table_data)"
   ]
  },
  {
   "cell_type": "code",
   "execution_count": 101,
   "id": "d663e7ec",
   "metadata": {},
   "outputs": [],
   "source": [
    "# close connection\n",
    "dbDisconnect(conn)"
   ]
  },
  {
   "cell_type": "markdown",
   "id": "cceab256",
   "metadata": {},
   "source": [
    "You can write complex queries for many tables if you knowledge of SQL allows."
   ]
  },
  {
   "cell_type": "markdown",
   "id": "24545e2f",
   "metadata": {},
   "source": [
    "# 7. Web-pages (HTML)"
   ]
  },
  {
   "cell_type": "markdown",
   "id": "9d8293a7",
   "metadata": {},
   "source": [
    "Sometimes decision making needs scrap data from web sources and pages.\n",
    "\n",
    "Let's try to parse data from `Wikipedia` as table. \n",
    "\n"
   ]
  },
  {
   "cell_type": "code",
   "execution_count": 85,
   "id": "8150d2a1",
   "metadata": {},
   "outputs": [
    {
     "name": "stderr",
     "output_type": "stream",
     "text": [
      "Updating HTML index of packages in '.Library'\n",
      "\n",
      "Making 'packages.html' ...\n",
      " done\n",
      "\n"
     ]
    }
   ],
   "source": [
    "install.packages(\"rvest\")\n",
    "library(rvest) # Parsing of HTML/XML files"
   ]
  },
  {
   "cell_type": "markdown",
   "id": "8d14e476",
   "metadata": {},
   "source": [
    "Go to web page https://en.wikipedia.org/wiki/List_of_largest_banks and check it."
   ]
  },
  {
   "cell_type": "code",
   "execution_count": 86,
   "id": "ece191fc",
   "metadata": {},
   "outputs": [],
   "source": [
    "# fix URL\n",
    "url <- \"https://en.wikipedia.org/wiki/List_of_largest_banks\"\n",
    "url <- \"data/List of largest banks - Wikipedia_.html\""
   ]
  },
  {
   "cell_type": "code",
   "execution_count": 87,
   "id": "3227cd88",
   "metadata": {},
   "outputs": [
    {
     "data": {
      "text/plain": [
       "{html_document}\n",
       "<html class=\"client-js ve-available\" lang=\"en\" dir=\"ltr\">\n",
       "[1] <head>\\n<meta http-equiv=\"Content-Type\" content=\"text/html; charset=UTF-8 ...\n",
       "[2] <body class=\"mediawiki ltr sitedir-ltr mw-hide-empty-elt ns-0 ns-subject  ..."
      ]
     },
     "metadata": {},
     "output_type": "display_data"
    }
   ],
   "source": [
    "# read html content of the page\n",
    "page <- read_html(url)\n",
    "page"
   ]
  },
  {
   "cell_type": "code",
   "execution_count": 88,
   "id": "e6b936b8",
   "metadata": {},
   "outputs": [
    {
     "data": {
      "text/plain": [
       "{xml_nodeset (5)}\n",
       "[1] <table class=\"box-Missing_information plainlinks metadata ambox ambox-con ...\n",
       "[2] <table class=\"wikitable sortable mw-collapsible jquery-tablesorter mw-mad ...\n",
       "[3] <table class=\"wikitable sortable mw-collapsible jquery-tablesorter mw-mad ...\n",
       "[4] <table class=\"wikitable sortable mw-collapsible jquery-tablesorter mw-mad ...\n",
       "[5] <table class=\"wikitable sortable mw-collapsible jquery-tablesorter mw-mad ..."
      ]
     },
     "metadata": {},
     "output_type": "display_data"
    }
   ],
   "source": [
    "# read all yables on page\n",
    "tables <- html_nodes(page, \"table\")\n",
    "tables"
   ]
  },
  {
   "cell_type": "markdown",
   "id": "3be6c448",
   "metadata": {},
   "source": [
    "For now, let's read a table of Total Assets in US Billion"
   ]
  },
  {
   "cell_type": "code",
   "execution_count": 89,
   "id": "899f507b",
   "metadata": {},
   "outputs": [
    {
     "data": {
      "text/html": [
       "<table class=\"dataframe\">\n",
       "<caption>A data.frame: 6 × 3</caption>\n",
       "<thead>\n",
       "\t<tr><th></th><th scope=col>Rank</th><th scope=col>Bank.name</th><th scope=col>hideTotal.assets.2019..US..Billion.</th></tr>\n",
       "\t<tr><th></th><th scope=col>&lt;int&gt;</th><th scope=col>&lt;chr&gt;</th><th scope=col>&lt;chr&gt;</th></tr>\n",
       "</thead>\n",
       "<tbody>\n",
       "\t<tr><th scope=row>1</th><td>1</td><td>Industrial and Commercial Bank of China</td><td>4,324.27</td></tr>\n",
       "\t<tr><th scope=row>2</th><td>2</td><td>China Construction Bank                </td><td>3,653.11</td></tr>\n",
       "\t<tr><th scope=row>3</th><td>3</td><td>Agricultural Bank of China             </td><td>3,572.98</td></tr>\n",
       "\t<tr><th scope=row>4</th><td>4</td><td>Bank of China                          </td><td>3,270.15</td></tr>\n",
       "\t<tr><th scope=row>5</th><td>5</td><td>Mitsubishi UFJ Financial Group         </td><td>2,892.97</td></tr>\n",
       "\t<tr><th scope=row>6</th><td>6</td><td>HSBC                                   </td><td>2,715.15</td></tr>\n",
       "</tbody>\n",
       "</table>\n"
      ],
      "text/latex": [
       "A data.frame: 6 × 3\n",
       "\\begin{tabular}{r|lll}\n",
       "  & Rank & Bank.name & hideTotal.assets.2019..US..Billion.\\\\\n",
       "  & <int> & <chr> & <chr>\\\\\n",
       "\\hline\n",
       "\t1 & 1 & Industrial and Commercial Bank of China & 4,324.27\\\\\n",
       "\t2 & 2 & China Construction Bank                 & 3,653.11\\\\\n",
       "\t3 & 3 & Agricultural Bank of China              & 3,572.98\\\\\n",
       "\t4 & 4 & Bank of China                           & 3,270.15\\\\\n",
       "\t5 & 5 & Mitsubishi UFJ Financial Group          & 2,892.97\\\\\n",
       "\t6 & 6 & HSBC                                    & 2,715.15\\\\\n",
       "\\end{tabular}\n"
      ],
      "text/markdown": [
       "\n",
       "A data.frame: 6 × 3\n",
       "\n",
       "| <!--/--> | Rank &lt;int&gt; | Bank.name &lt;chr&gt; | hideTotal.assets.2019..US..Billion. &lt;chr&gt; |\n",
       "|---|---|---|---|\n",
       "| 1 | 1 | Industrial and Commercial Bank of China | 4,324.27 |\n",
       "| 2 | 2 | China Construction Bank                 | 3,653.11 |\n",
       "| 3 | 3 | Agricultural Bank of China              | 3,572.98 |\n",
       "| 4 | 4 | Bank of China                           | 3,270.15 |\n",
       "| 5 | 5 | Mitsubishi UFJ Financial Group          | 2,892.97 |\n",
       "| 6 | 6 | HSBC                                    | 2,715.15 |\n",
       "\n"
      ],
      "text/plain": [
       "  Rank Bank.name                              \n",
       "1 1    Industrial and Commercial Bank of China\n",
       "2 2    China Construction Bank                \n",
       "3 3    Agricultural Bank of China             \n",
       "4 4    Bank of China                          \n",
       "5 5    Mitsubishi UFJ Financial Group         \n",
       "6 6    HSBC                                   \n",
       "  hideTotal.assets.2019..US..Billion.\n",
       "1 4,324.27                           \n",
       "2 3,653.11                           \n",
       "3 3,572.98                           \n",
       "4 3,270.15                           \n",
       "5 2,892.97                           \n",
       "6 2,715.15                           "
      ]
     },
     "metadata": {},
     "output_type": "display_data"
    }
   ],
   "source": [
    "# with pipe operator\n",
    "#tables[2] %>% \n",
    " #   html_table(fill = TRUE) %>% \n",
    " #   as.data.frame()\n",
    "#without pipe operator\n",
    "assets_table <- as.data.frame(html_table(tables[2], fill = TRUE))   \n",
    "head(assets_table)"
   ]
  },
  {
   "cell_type": "markdown",
   "id": "94922e0a",
   "metadata": {},
   "source": [
    "Next is reading data of market capitalization table (4th):"
   ]
  },
  {
   "cell_type": "code",
   "execution_count": 90,
   "id": "2e8081a0",
   "metadata": {},
   "outputs": [
    {
     "data": {
      "text/html": [
       "<table class=\"dataframe\">\n",
       "<caption>A data.frame: 6 × 3</caption>\n",
       "<thead>\n",
       "\t<tr><th></th><th scope=col>Rank</th><th scope=col>Bank.name</th><th scope=col>hideMarket.cap.US..billion.</th></tr>\n",
       "\t<tr><th></th><th scope=col>&lt;int&gt;</th><th scope=col>&lt;chr&gt;</th><th scope=col>&lt;dbl&gt;</th></tr>\n",
       "</thead>\n",
       "<tbody>\n",
       "\t<tr><th scope=row>1</th><td>1</td><td>JPMorgan Chase                         </td><td>390.934</td></tr>\n",
       "\t<tr><th scope=row>2</th><td>2</td><td>Industrial and Commercial Bank of China</td><td>345.214</td></tr>\n",
       "\t<tr><th scope=row>3</th><td>3</td><td>Bank of America                        </td><td>325.331</td></tr>\n",
       "\t<tr><th scope=row>4</th><td>4</td><td>Wells Fargo                            </td><td>308.013</td></tr>\n",
       "\t<tr><th scope=row>5</th><td>5</td><td>China Construction Bank                </td><td>257.399</td></tr>\n",
       "\t<tr><th scope=row>6</th><td>6</td><td>HSBC Holdings PLC                      </td><td>219.270</td></tr>\n",
       "</tbody>\n",
       "</table>\n"
      ],
      "text/latex": [
       "A data.frame: 6 × 3\n",
       "\\begin{tabular}{r|lll}\n",
       "  & Rank & Bank.name & hideMarket.cap.US..billion.\\\\\n",
       "  & <int> & <chr> & <dbl>\\\\\n",
       "\\hline\n",
       "\t1 & 1 & JPMorgan Chase                          & 390.934\\\\\n",
       "\t2 & 2 & Industrial and Commercial Bank of China & 345.214\\\\\n",
       "\t3 & 3 & Bank of America                         & 325.331\\\\\n",
       "\t4 & 4 & Wells Fargo                             & 308.013\\\\\n",
       "\t5 & 5 & China Construction Bank                 & 257.399\\\\\n",
       "\t6 & 6 & HSBC Holdings PLC                       & 219.270\\\\\n",
       "\\end{tabular}\n"
      ],
      "text/markdown": [
       "\n",
       "A data.frame: 6 × 3\n",
       "\n",
       "| <!--/--> | Rank &lt;int&gt; | Bank.name &lt;chr&gt; | hideMarket.cap.US..billion. &lt;dbl&gt; |\n",
       "|---|---|---|---|\n",
       "| 1 | 1 | JPMorgan Chase                          | 390.934 |\n",
       "| 2 | 2 | Industrial and Commercial Bank of China | 345.214 |\n",
       "| 3 | 3 | Bank of America                         | 325.331 |\n",
       "| 4 | 4 | Wells Fargo                             | 308.013 |\n",
       "| 5 | 5 | China Construction Bank                 | 257.399 |\n",
       "| 6 | 6 | HSBC Holdings PLC                       | 219.270 |\n",
       "\n"
      ],
      "text/plain": [
       "  Rank Bank.name                               hideMarket.cap.US..billion.\n",
       "1 1    JPMorgan Chase                          390.934                    \n",
       "2 2    Industrial and Commercial Bank of China 345.214                    \n",
       "3 3    Bank of America                         325.331                    \n",
       "4 4    Wells Fargo                             308.013                    \n",
       "5 5    China Construction Bank                 257.399                    \n",
       "6 6    HSBC Holdings PLC                       219.270                    "
      ]
     },
     "metadata": {},
     "output_type": "display_data"
    }
   ],
   "source": [
    "capital_table <- as.data.frame(html_table(tables[4], fill = TRUE))   \n",
    "head(capital_table)"
   ]
  },
  {
   "cell_type": "markdown",
   "id": "7594ba87",
   "metadata": {},
   "source": [
    "And now let's `merge()` this two datasets:"
   ]
  },
  {
   "cell_type": "code",
   "execution_count": 91,
   "id": "a140775f",
   "metadata": {},
   "outputs": [
    {
     "data": {
      "text/html": [
       "<table class=\"dataframe\">\n",
       "<caption>A data.frame: 6 × 5</caption>\n",
       "<thead>\n",
       "\t<tr><th></th><th scope=col>Bank.name</th><th scope=col>Rank.x</th><th scope=col>hideTotal.assets.2019..US..Billion.</th><th scope=col>Rank.y</th><th scope=col>hideMarket.cap.US..billion.</th></tr>\n",
       "\t<tr><th></th><th scope=col>&lt;chr&gt;</th><th scope=col>&lt;int&gt;</th><th scope=col>&lt;chr&gt;</th><th scope=col>&lt;int&gt;</th><th scope=col>&lt;dbl&gt;</th></tr>\n",
       "</thead>\n",
       "<tbody>\n",
       "\t<tr><th scope=row>1</th><td>Agricultural Bank of China             </td><td> 3</td><td>3,572.98</td><td> 7</td><td>203.244</td></tr>\n",
       "\t<tr><th scope=row>2</th><td>Australia and New Zealand Banking Group</td><td>49</td><td>661.72  </td><td>32</td><td> 66.448</td></tr>\n",
       "\t<tr><th scope=row>3</th><td>Banco Bilbao Vizcaya Argentaria        </td><td>42</td><td>782.16  </td><td>36</td><td> 60.678</td></tr>\n",
       "\t<tr><th scope=row>4</th><td>Banco Bradesco                         </td><td>79</td><td>345.21  </td><td>33</td><td> 64.816</td></tr>\n",
       "\t<tr><th scope=row>5</th><td>Banco Santander                        </td><td>16</td><td>1,702.61</td><td>12</td><td>115.696</td></tr>\n",
       "\t<tr><th scope=row>6</th><td>Bank of America                        </td><td> 8</td><td>2,434.08</td><td> 3</td><td>325.331</td></tr>\n",
       "</tbody>\n",
       "</table>\n"
      ],
      "text/latex": [
       "A data.frame: 6 × 5\n",
       "\\begin{tabular}{r|lllll}\n",
       "  & Bank.name & Rank.x & hideTotal.assets.2019..US..Billion. & Rank.y & hideMarket.cap.US..billion.\\\\\n",
       "  & <chr> & <int> & <chr> & <int> & <dbl>\\\\\n",
       "\\hline\n",
       "\t1 & Agricultural Bank of China              &  3 & 3,572.98 &  7 & 203.244\\\\\n",
       "\t2 & Australia and New Zealand Banking Group & 49 & 661.72   & 32 &  66.448\\\\\n",
       "\t3 & Banco Bilbao Vizcaya Argentaria         & 42 & 782.16   & 36 &  60.678\\\\\n",
       "\t4 & Banco Bradesco                          & 79 & 345.21   & 33 &  64.816\\\\\n",
       "\t5 & Banco Santander                         & 16 & 1,702.61 & 12 & 115.696\\\\\n",
       "\t6 & Bank of America                         &  8 & 2,434.08 &  3 & 325.331\\\\\n",
       "\\end{tabular}\n"
      ],
      "text/markdown": [
       "\n",
       "A data.frame: 6 × 5\n",
       "\n",
       "| <!--/--> | Bank.name &lt;chr&gt; | Rank.x &lt;int&gt; | hideTotal.assets.2019..US..Billion. &lt;chr&gt; | Rank.y &lt;int&gt; | hideMarket.cap.US..billion. &lt;dbl&gt; |\n",
       "|---|---|---|---|---|---|\n",
       "| 1 | Agricultural Bank of China              |  3 | 3,572.98 |  7 | 203.244 |\n",
       "| 2 | Australia and New Zealand Banking Group | 49 | 661.72   | 32 |  66.448 |\n",
       "| 3 | Banco Bilbao Vizcaya Argentaria         | 42 | 782.16   | 36 |  60.678 |\n",
       "| 4 | Banco Bradesco                          | 79 | 345.21   | 33 |  64.816 |\n",
       "| 5 | Banco Santander                         | 16 | 1,702.61 | 12 | 115.696 |\n",
       "| 6 | Bank of America                         |  8 | 2,434.08 |  3 | 325.331 |\n",
       "\n"
      ],
      "text/plain": [
       "  Bank.name                               Rank.x\n",
       "1 Agricultural Bank of China               3    \n",
       "2 Australia and New Zealand Banking Group 49    \n",
       "3 Banco Bilbao Vizcaya Argentaria         42    \n",
       "4 Banco Bradesco                          79    \n",
       "5 Banco Santander                         16    \n",
       "6 Bank of America                          8    \n",
       "  hideTotal.assets.2019..US..Billion. Rank.y hideMarket.cap.US..billion.\n",
       "1 3,572.98                             7     203.244                    \n",
       "2 661.72                              32      66.448                    \n",
       "3 782.16                              36      60.678                    \n",
       "4 345.21                              33      64.816                    \n",
       "5 1,702.61                            12     115.696                    \n",
       "6 2,434.08                             3     325.331                    "
      ]
     },
     "metadata": {},
     "output_type": "display_data"
    }
   ],
   "source": [
    "merged_data <- merge(assets_table, capital_table, by = \"Bank.name\")\n",
    "head(merged_data)"
   ]
  },
  {
   "cell_type": "markdown",
   "id": "6f26a8d1",
   "metadata": {},
   "source": [
    "### Task 7.1"
   ]
  },
  {
   "cell_type": "markdown",
   "id": "16e086a8",
   "metadata": {},
   "source": [
    "From a page https://en.wikipedia.org/wiki/List_of_largest_banks read and `merge by country` named tables:\n",
    "\n",
    "- [x] Number of banks in the top 100 by total assets\n",
    "- [x] Total market capital (US$ billion) across the top 70 banks by country"
   ]
  },
  {
   "cell_type": "markdown",
   "id": "63a922e1",
   "metadata": {},
   "source": [
    "### Sulution"
   ]
  },
  {
   "cell_type": "code",
   "execution_count": 92,
   "id": "982899f2",
   "metadata": {},
   "outputs": [
    {
     "data": {
      "text/html": [
       "<ol>\n",
       "\t<li><table class=\"dataframe\">\n",
       "<caption>A tibble: 1 × 2</caption>\n",
       "<thead>\n",
       "\t<tr><th scope=col>X1</th><th scope=col>X2</th></tr>\n",
       "\t<tr><th scope=col>&lt;lgl&gt;</th><th scope=col>&lt;chr&gt;</th></tr>\n",
       "</thead>\n",
       "<tbody>\n",
       "\t<tr><td>NA</td><td>This article is missing information about Revenue and Employment. Please expand the article to include this information. Further details may exist on the talk page.  (September 2020)</td></tr>\n",
       "</tbody>\n",
       "</table>\n",
       "</li>\n",
       "</ol>\n"
      ],
      "text/latex": [
       "\\begin{enumerate}\n",
       "\\item A tibble: 1 × 2\n",
       "\\begin{tabular}{ll}\n",
       " X1 & X2\\\\\n",
       " <lgl> & <chr>\\\\\n",
       "\\hline\n",
       "\t NA & This article is missing information about Revenue and Employment. Please expand the article to include this information. Further details may exist on the talk page.  (September 2020)\\\\\n",
       "\\end{tabular}\n",
       "\n",
       "\\end{enumerate}\n"
      ],
      "text/markdown": [
       "1. \n",
       "A tibble: 1 × 2\n",
       "\n",
       "| X1 &lt;lgl&gt; | X2 &lt;chr&gt; |\n",
       "|---|---|\n",
       "| NA | This article is missing information about Revenue and Employment. Please expand the article to include this information. Further details may exist on the talk page.  (September 2020) |\n",
       "\n",
       "\n",
       "\n",
       "\n"
      ],
      "text/plain": [
       "[[1]]\n",
       "\u001b[90m# A tibble: 1 x 2\u001b[39m\n",
       "  X1    X2                                                                      \n",
       "  \u001b[3m\u001b[90m<lgl>\u001b[39m\u001b[23m \u001b[3m\u001b[90m<chr>\u001b[39m\u001b[23m                                                                   \n",
       "\u001b[90m1\u001b[39m \u001b[31mNA\u001b[39m    This article is missing information about Revenue and Employment. Pleas…\n"
      ]
     },
     "metadata": {},
     "output_type": "display_data"
    }
   ],
   "source": [
    "library(rvest)\n",
    "url <- \"https://en.wikipedia.org/wiki/List_of_largest_banks\" # got to url in other tab\n",
    "url <- \"data/List of largest banks - Wikipedia_.html\"\n",
    "page_data <- read_html(url) # read html content\n",
    "\n",
    "tables <- html_nodes(page_data, \"table\")\n",
    "html_table(tables[1]) #its not needed table"
   ]
  },
  {
   "cell_type": "code",
   "execution_count": 93,
   "id": "8a9a5a7d",
   "metadata": {},
   "outputs": [
    {
     "data": {
      "text/html": [
       "<ol>\n",
       "\t<li><table class=\"dataframe\">\n",
       "<caption>A tibble: 26 × 3</caption>\n",
       "<thead>\n",
       "\t<tr><th scope=col>Rank</th><th scope=col>Country</th><th scope=col>Number</th></tr>\n",
       "\t<tr><th scope=col>&lt;int&gt;</th><th scope=col>&lt;chr&gt;</th><th scope=col>&lt;int&gt;</th></tr>\n",
       "</thead>\n",
       "<tbody>\n",
       "\t<tr><td>1</td><td>China         </td><td>19</td></tr>\n",
       "\t<tr><td>2</td><td>United States </td><td>11</td></tr>\n",
       "\t<tr><td>3</td><td>Japan         </td><td> 8</td></tr>\n",
       "\t<tr><td>4</td><td>France        </td><td> 6</td></tr>\n",
       "\t<tr><td>4</td><td>South Korea   </td><td> 6</td></tr>\n",
       "\t<tr><td>4</td><td>United Kingdom</td><td> 6</td></tr>\n",
       "\t<tr><td>5</td><td>Canada        </td><td> 5</td></tr>\n",
       "\t<tr><td>5</td><td>Germany       </td><td> 5</td></tr>\n",
       "\t<tr><td>6</td><td>Australia     </td><td> 4</td></tr>\n",
       "\t<tr><td>6</td><td>Brazil        </td><td> 4</td></tr>\n",
       "\t<tr><td>6</td><td>Spain         </td><td> 4</td></tr>\n",
       "\t<tr><td>7</td><td>Netherlands   </td><td> 3</td></tr>\n",
       "\t<tr><td>7</td><td>Singapore     </td><td> 3</td></tr>\n",
       "\t<tr><td>7</td><td>Sweden        </td><td> 3</td></tr>\n",
       "\t<tr><td>7</td><td>Switzerland   </td><td> 3</td></tr>\n",
       "\t<tr><td>8</td><td>Italy         </td><td> 2</td></tr>\n",
       "\t<tr><td>9</td><td>Austria       </td><td> 1</td></tr>\n",
       "\t<tr><td>9</td><td>Belgium       </td><td> 1</td></tr>\n",
       "\t<tr><td>9</td><td>Denmark       </td><td> 1</td></tr>\n",
       "\t<tr><td>9</td><td>Finland       </td><td> 1</td></tr>\n",
       "\t<tr><td>9</td><td>India         </td><td> 1</td></tr>\n",
       "\t<tr><td>9</td><td>Norway        </td><td> 1</td></tr>\n",
       "\t<tr><td>9</td><td>Russia        </td><td> 1</td></tr>\n",
       "\t<tr><td>9</td><td>Qatar         </td><td> 1</td></tr>\n",
       "\t<tr><td>9</td><td>NA            </td><td>NA</td></tr>\n",
       "\t<tr><td>9</td><td>NA            </td><td>NA</td></tr>\n",
       "</tbody>\n",
       "</table>\n",
       "</li>\n",
       "</ol>\n"
      ],
      "text/latex": [
       "\\begin{enumerate}\n",
       "\\item A tibble: 26 × 3\n",
       "\\begin{tabular}{lll}\n",
       " Rank & Country & Number\\\\\n",
       " <int> & <chr> & <int>\\\\\n",
       "\\hline\n",
       "\t 1 & China          & 19\\\\\n",
       "\t 2 & United States  & 11\\\\\n",
       "\t 3 & Japan          &  8\\\\\n",
       "\t 4 & France         &  6\\\\\n",
       "\t 4 & South Korea    &  6\\\\\n",
       "\t 4 & United Kingdom &  6\\\\\n",
       "\t 5 & Canada         &  5\\\\\n",
       "\t 5 & Germany        &  5\\\\\n",
       "\t 6 & Australia      &  4\\\\\n",
       "\t 6 & Brazil         &  4\\\\\n",
       "\t 6 & Spain          &  4\\\\\n",
       "\t 7 & Netherlands    &  3\\\\\n",
       "\t 7 & Singapore      &  3\\\\\n",
       "\t 7 & Sweden         &  3\\\\\n",
       "\t 7 & Switzerland    &  3\\\\\n",
       "\t 8 & Italy          &  2\\\\\n",
       "\t 9 & Austria        &  1\\\\\n",
       "\t 9 & Belgium        &  1\\\\\n",
       "\t 9 & Denmark        &  1\\\\\n",
       "\t 9 & Finland        &  1\\\\\n",
       "\t 9 & India          &  1\\\\\n",
       "\t 9 & Norway         &  1\\\\\n",
       "\t 9 & Russia         &  1\\\\\n",
       "\t 9 & Qatar          &  1\\\\\n",
       "\t 9 & NA             & NA\\\\\n",
       "\t 9 & NA             & NA\\\\\n",
       "\\end{tabular}\n",
       "\n",
       "\\end{enumerate}\n"
      ],
      "text/markdown": [
       "1. \n",
       "A tibble: 26 × 3\n",
       "\n",
       "| Rank &lt;int&gt; | Country &lt;chr&gt; | Number &lt;int&gt; |\n",
       "|---|---|---|\n",
       "| 1 | China          | 19 |\n",
       "| 2 | United States  | 11 |\n",
       "| 3 | Japan          |  8 |\n",
       "| 4 | France         |  6 |\n",
       "| 4 | South Korea    |  6 |\n",
       "| 4 | United Kingdom |  6 |\n",
       "| 5 | Canada         |  5 |\n",
       "| 5 | Germany        |  5 |\n",
       "| 6 | Australia      |  4 |\n",
       "| 6 | Brazil         |  4 |\n",
       "| 6 | Spain          |  4 |\n",
       "| 7 | Netherlands    |  3 |\n",
       "| 7 | Singapore      |  3 |\n",
       "| 7 | Sweden         |  3 |\n",
       "| 7 | Switzerland    |  3 |\n",
       "| 8 | Italy          |  2 |\n",
       "| 9 | Austria        |  1 |\n",
       "| 9 | Belgium        |  1 |\n",
       "| 9 | Denmark        |  1 |\n",
       "| 9 | Finland        |  1 |\n",
       "| 9 | India          |  1 |\n",
       "| 9 | Norway         |  1 |\n",
       "| 9 | Russia         |  1 |\n",
       "| 9 | Qatar          |  1 |\n",
       "| 9 | NA             | NA |\n",
       "| 9 | NA             | NA |\n",
       "\n",
       "\n",
       "\n",
       "\n"
      ],
      "text/plain": [
       "[[1]]\n",
       "\u001b[90m# A tibble: 26 x 3\u001b[39m\n",
       "    Rank Country        Number\n",
       "   \u001b[3m\u001b[90m<int>\u001b[39m\u001b[23m \u001b[3m\u001b[90m<chr>\u001b[39m\u001b[23m           \u001b[3m\u001b[90m<int>\u001b[39m\u001b[23m\n",
       "\u001b[90m 1\u001b[39m     1 China              19\n",
       "\u001b[90m 2\u001b[39m     2 United States      11\n",
       "\u001b[90m 3\u001b[39m     3 Japan               8\n",
       "\u001b[90m 4\u001b[39m     4 France              6\n",
       "\u001b[90m 5\u001b[39m     4 South Korea         6\n",
       "\u001b[90m 6\u001b[39m     4 United Kingdom      6\n",
       "\u001b[90m 7\u001b[39m     5 Canada              5\n",
       "\u001b[90m 8\u001b[39m     5 Germany             5\n",
       "\u001b[90m 9\u001b[39m     6 Australia           4\n",
       "\u001b[90m10\u001b[39m     6 Brazil              4\n",
       "\u001b[90m# … with 16 more rows\u001b[39m\n"
      ]
     },
     "metadata": {},
     "output_type": "display_data"
    }
   ],
   "source": [
    "html_table(tables[3]) # thats solution for \"Number of banks in the top 100 by total assets\"\n",
    "#check the end of table. There are NA record\n",
    "# lets remove it"
   ]
  },
  {
   "cell_type": "code",
   "execution_count": 94,
   "id": "1670e8a2",
   "metadata": {},
   "outputs": [
    {
     "data": {
      "text/html": [
       "<table class=\"dataframe\">\n",
       "<caption>A data.frame: 24 × 3</caption>\n",
       "<thead>\n",
       "\t<tr><th></th><th scope=col>Rank</th><th scope=col>Country</th><th scope=col>Number</th></tr>\n",
       "\t<tr><th></th><th scope=col>&lt;int&gt;</th><th scope=col>&lt;chr&gt;</th><th scope=col>&lt;int&gt;</th></tr>\n",
       "</thead>\n",
       "<tbody>\n",
       "\t<tr><th scope=row>1</th><td>1</td><td>China         </td><td>19</td></tr>\n",
       "\t<tr><th scope=row>2</th><td>2</td><td>United States </td><td>11</td></tr>\n",
       "\t<tr><th scope=row>3</th><td>3</td><td>Japan         </td><td> 8</td></tr>\n",
       "\t<tr><th scope=row>4</th><td>4</td><td>France        </td><td> 6</td></tr>\n",
       "\t<tr><th scope=row>5</th><td>4</td><td>South Korea   </td><td> 6</td></tr>\n",
       "\t<tr><th scope=row>6</th><td>4</td><td>United Kingdom</td><td> 6</td></tr>\n",
       "\t<tr><th scope=row>7</th><td>5</td><td>Canada        </td><td> 5</td></tr>\n",
       "\t<tr><th scope=row>8</th><td>5</td><td>Germany       </td><td> 5</td></tr>\n",
       "\t<tr><th scope=row>9</th><td>6</td><td>Australia     </td><td> 4</td></tr>\n",
       "\t<tr><th scope=row>10</th><td>6</td><td>Brazil        </td><td> 4</td></tr>\n",
       "\t<tr><th scope=row>11</th><td>6</td><td>Spain         </td><td> 4</td></tr>\n",
       "\t<tr><th scope=row>12</th><td>7</td><td>Netherlands   </td><td> 3</td></tr>\n",
       "\t<tr><th scope=row>13</th><td>7</td><td>Singapore     </td><td> 3</td></tr>\n",
       "\t<tr><th scope=row>14</th><td>7</td><td>Sweden        </td><td> 3</td></tr>\n",
       "\t<tr><th scope=row>15</th><td>7</td><td>Switzerland   </td><td> 3</td></tr>\n",
       "\t<tr><th scope=row>16</th><td>8</td><td>Italy         </td><td> 2</td></tr>\n",
       "\t<tr><th scope=row>17</th><td>9</td><td>Austria       </td><td> 1</td></tr>\n",
       "\t<tr><th scope=row>18</th><td>9</td><td>Belgium       </td><td> 1</td></tr>\n",
       "\t<tr><th scope=row>19</th><td>9</td><td>Denmark       </td><td> 1</td></tr>\n",
       "\t<tr><th scope=row>20</th><td>9</td><td>Finland       </td><td> 1</td></tr>\n",
       "\t<tr><th scope=row>21</th><td>9</td><td>India         </td><td> 1</td></tr>\n",
       "\t<tr><th scope=row>22</th><td>9</td><td>Norway        </td><td> 1</td></tr>\n",
       "\t<tr><th scope=row>23</th><td>9</td><td>Russia        </td><td> 1</td></tr>\n",
       "\t<tr><th scope=row>24</th><td>9</td><td>Qatar         </td><td> 1</td></tr>\n",
       "</tbody>\n",
       "</table>\n"
      ],
      "text/latex": [
       "A data.frame: 24 × 3\n",
       "\\begin{tabular}{r|lll}\n",
       "  & Rank & Country & Number\\\\\n",
       "  & <int> & <chr> & <int>\\\\\n",
       "\\hline\n",
       "\t1 & 1 & China          & 19\\\\\n",
       "\t2 & 2 & United States  & 11\\\\\n",
       "\t3 & 3 & Japan          &  8\\\\\n",
       "\t4 & 4 & France         &  6\\\\\n",
       "\t5 & 4 & South Korea    &  6\\\\\n",
       "\t6 & 4 & United Kingdom &  6\\\\\n",
       "\t7 & 5 & Canada         &  5\\\\\n",
       "\t8 & 5 & Germany        &  5\\\\\n",
       "\t9 & 6 & Australia      &  4\\\\\n",
       "\t10 & 6 & Brazil         &  4\\\\\n",
       "\t11 & 6 & Spain          &  4\\\\\n",
       "\t12 & 7 & Netherlands    &  3\\\\\n",
       "\t13 & 7 & Singapore      &  3\\\\\n",
       "\t14 & 7 & Sweden         &  3\\\\\n",
       "\t15 & 7 & Switzerland    &  3\\\\\n",
       "\t16 & 8 & Italy          &  2\\\\\n",
       "\t17 & 9 & Austria        &  1\\\\\n",
       "\t18 & 9 & Belgium        &  1\\\\\n",
       "\t19 & 9 & Denmark        &  1\\\\\n",
       "\t20 & 9 & Finland        &  1\\\\\n",
       "\t21 & 9 & India          &  1\\\\\n",
       "\t22 & 9 & Norway         &  1\\\\\n",
       "\t23 & 9 & Russia         &  1\\\\\n",
       "\t24 & 9 & Qatar          &  1\\\\\n",
       "\\end{tabular}\n"
      ],
      "text/markdown": [
       "\n",
       "A data.frame: 24 × 3\n",
       "\n",
       "| <!--/--> | Rank &lt;int&gt; | Country &lt;chr&gt; | Number &lt;int&gt; |\n",
       "|---|---|---|---|\n",
       "| 1 | 1 | China          | 19 |\n",
       "| 2 | 2 | United States  | 11 |\n",
       "| 3 | 3 | Japan          |  8 |\n",
       "| 4 | 4 | France         |  6 |\n",
       "| 5 | 4 | South Korea    |  6 |\n",
       "| 6 | 4 | United Kingdom |  6 |\n",
       "| 7 | 5 | Canada         |  5 |\n",
       "| 8 | 5 | Germany        |  5 |\n",
       "| 9 | 6 | Australia      |  4 |\n",
       "| 10 | 6 | Brazil         |  4 |\n",
       "| 11 | 6 | Spain          |  4 |\n",
       "| 12 | 7 | Netherlands    |  3 |\n",
       "| 13 | 7 | Singapore      |  3 |\n",
       "| 14 | 7 | Sweden         |  3 |\n",
       "| 15 | 7 | Switzerland    |  3 |\n",
       "| 16 | 8 | Italy          |  2 |\n",
       "| 17 | 9 | Austria        |  1 |\n",
       "| 18 | 9 | Belgium        |  1 |\n",
       "| 19 | 9 | Denmark        |  1 |\n",
       "| 20 | 9 | Finland        |  1 |\n",
       "| 21 | 9 | India          |  1 |\n",
       "| 22 | 9 | Norway         |  1 |\n",
       "| 23 | 9 | Russia         |  1 |\n",
       "| 24 | 9 | Qatar          |  1 |\n",
       "\n"
      ],
      "text/plain": [
       "   Rank Country        Number\n",
       "1  1    China          19    \n",
       "2  2    United States  11    \n",
       "3  3    Japan           8    \n",
       "4  4    France          6    \n",
       "5  4    South Korea     6    \n",
       "6  4    United Kingdom  6    \n",
       "7  5    Canada          5    \n",
       "8  5    Germany         5    \n",
       "9  6    Australia       4    \n",
       "10 6    Brazil          4    \n",
       "11 6    Spain           4    \n",
       "12 7    Netherlands     3    \n",
       "13 7    Singapore       3    \n",
       "14 7    Sweden          3    \n",
       "15 7    Switzerland     3    \n",
       "16 8    Italy           2    \n",
       "17 9    Austria         1    \n",
       "18 9    Belgium         1    \n",
       "19 9    Denmark         1    \n",
       "20 9    Finland         1    \n",
       "21 9    India           1    \n",
       "22 9    Norway          1    \n",
       "23 9    Russia          1    \n",
       "24 9    Qatar           1    "
      ]
     },
     "metadata": {},
     "output_type": "display_data"
    }
   ],
   "source": [
    "table1 <- as.data.frame(html_table(tables[3]))\n",
    "table1 <- table1[!is.na(table1$Country), ]\n",
    "table1 # now it OK!"
   ]
  },
  {
   "cell_type": "code",
   "execution_count": 95,
   "id": "20e9a05d",
   "metadata": {},
   "outputs": [
    {
     "data": {
      "text/html": [
       "<table class=\"dataframe\">\n",
       "<caption>A data.frame: 18 × 5</caption>\n",
       "<thead>\n",
       "\t<tr><th scope=col>Rank</th><th scope=col>Country</th><th scope=col>Number</th><th scope=col>Total.Market.Cap..US..billion.</th><th scope=col>Banks.ranks.by.Market.Cap..US..billion.</th></tr>\n",
       "\t<tr><th scope=col>&lt;int&gt;</th><th scope=col>&lt;chr&gt;</th><th scope=col>&lt;int&gt;</th><th scope=col>&lt;dbl&gt;</th><th scope=col>&lt;chr&gt;</th></tr>\n",
       "</thead>\n",
       "<tbody>\n",
       "\t<tr><td> 1</td><td>United States </td><td>13</td><td>1861.480</td><td>1,3,4,8,17,19,20,27,28,38,46,59,62</td></tr>\n",
       "\t<tr><td> 2</td><td>China         </td><td>12</td><td>1474.537</td><td>2,5,7,9,10,31,39,40,50,51,53,66   </td></tr>\n",
       "\t<tr><td> 3</td><td>United Kingdom</td><td> 5</td><td> 470.032</td><td>6,29,47,56,67                     </td></tr>\n",
       "\t<tr><td> 3</td><td>Canada        </td><td> 5</td><td> 406.685</td><td>11,15,24,42,57                    </td></tr>\n",
       "\t<tr><td> 5</td><td>Australia     </td><td> 4</td><td> 327.029</td><td>13,23,32,34                       </td></tr>\n",
       "\t<tr><td> 5</td><td>Japan         </td><td> 4</td><td> 289.281</td><td>14,30,37,48                       </td></tr>\n",
       "\t<tr><td> 7</td><td>France        </td><td> 3</td><td> 201.450</td><td>16,43,55                          </td></tr>\n",
       "\t<tr><td> 7</td><td>Singapore     </td><td> 3</td><td> 127.965</td><td>44,60,68                          </td></tr>\n",
       "\t<tr><td> 9</td><td>Spain         </td><td> 2</td><td> 176.678</td><td>12,36                             </td></tr>\n",
       "\t<tr><td> 9</td><td>Brazil        </td><td> 2</td><td> 151.019</td><td>22,33                             </td></tr>\n",
       "\t<tr><td> 9</td><td>India         </td><td> 2</td><td> 128.997</td><td>21,61                             </td></tr>\n",
       "\t<tr><td> 9</td><td>Switzerland   </td><td> 2</td><td> 123.944</td><td>26,49                             </td></tr>\n",
       "\t<tr><td> 9</td><td>Italy         </td><td> 2</td><td> 109.809</td><td>35,52                             </td></tr>\n",
       "\t<tr><td> 9</td><td>Hong Kong     </td><td> 2</td><td> 101.620</td><td>41,54                             </td></tr>\n",
       "\t<tr><td>15</td><td>Russia        </td><td> 1</td><td>  99.840</td><td>18                                </td></tr>\n",
       "\t<tr><td>15</td><td>Netherlands   </td><td> 1</td><td>  78.920</td><td>25                                </td></tr>\n",
       "\t<tr><td>15</td><td>Sweden        </td><td> 3</td><td>  75.320</td><td>75,86,89                          </td></tr>\n",
       "\t<tr><td>15</td><td>Finland       </td><td> 1</td><td>  51.185</td><td>45                                </td></tr>\n",
       "</tbody>\n",
       "</table>\n"
      ],
      "text/latex": [
       "A data.frame: 18 × 5\n",
       "\\begin{tabular}{lllll}\n",
       " Rank & Country & Number & Total.Market.Cap..US..billion. & Banks.ranks.by.Market.Cap..US..billion.\\\\\n",
       " <int> & <chr> & <int> & <dbl> & <chr>\\\\\n",
       "\\hline\n",
       "\t  1 & United States  & 13 & 1861.480 & 1,3,4,8,17,19,20,27,28,38,46,59,62\\\\\n",
       "\t  2 & China          & 12 & 1474.537 & 2,5,7,9,10,31,39,40,50,51,53,66   \\\\\n",
       "\t  3 & United Kingdom &  5 &  470.032 & 6,29,47,56,67                     \\\\\n",
       "\t  3 & Canada         &  5 &  406.685 & 11,15,24,42,57                    \\\\\n",
       "\t  5 & Australia      &  4 &  327.029 & 13,23,32,34                       \\\\\n",
       "\t  5 & Japan          &  4 &  289.281 & 14,30,37,48                       \\\\\n",
       "\t  7 & France         &  3 &  201.450 & 16,43,55                          \\\\\n",
       "\t  7 & Singapore      &  3 &  127.965 & 44,60,68                          \\\\\n",
       "\t  9 & Spain          &  2 &  176.678 & 12,36                             \\\\\n",
       "\t  9 & Brazil         &  2 &  151.019 & 22,33                             \\\\\n",
       "\t  9 & India          &  2 &  128.997 & 21,61                             \\\\\n",
       "\t  9 & Switzerland    &  2 &  123.944 & 26,49                             \\\\\n",
       "\t  9 & Italy          &  2 &  109.809 & 35,52                             \\\\\n",
       "\t  9 & Hong Kong      &  2 &  101.620 & 41,54                             \\\\\n",
       "\t 15 & Russia         &  1 &   99.840 & 18                                \\\\\n",
       "\t 15 & Netherlands    &  1 &   78.920 & 25                                \\\\\n",
       "\t 15 & Sweden         &  3 &   75.320 & 75,86,89                          \\\\\n",
       "\t 15 & Finland        &  1 &   51.185 & 45                                \\\\\n",
       "\\end{tabular}\n"
      ],
      "text/markdown": [
       "\n",
       "A data.frame: 18 × 5\n",
       "\n",
       "| Rank &lt;int&gt; | Country &lt;chr&gt; | Number &lt;int&gt; | Total.Market.Cap..US..billion. &lt;dbl&gt; | Banks.ranks.by.Market.Cap..US..billion. &lt;chr&gt; |\n",
       "|---|---|---|---|---|\n",
       "|  1 | United States  | 13 | 1861.480 | 1,3,4,8,17,19,20,27,28,38,46,59,62 |\n",
       "|  2 | China          | 12 | 1474.537 | 2,5,7,9,10,31,39,40,50,51,53,66    |\n",
       "|  3 | United Kingdom |  5 |  470.032 | 6,29,47,56,67                      |\n",
       "|  3 | Canada         |  5 |  406.685 | 11,15,24,42,57                     |\n",
       "|  5 | Australia      |  4 |  327.029 | 13,23,32,34                        |\n",
       "|  5 | Japan          |  4 |  289.281 | 14,30,37,48                        |\n",
       "|  7 | France         |  3 |  201.450 | 16,43,55                           |\n",
       "|  7 | Singapore      |  3 |  127.965 | 44,60,68                           |\n",
       "|  9 | Spain          |  2 |  176.678 | 12,36                              |\n",
       "|  9 | Brazil         |  2 |  151.019 | 22,33                              |\n",
       "|  9 | India          |  2 |  128.997 | 21,61                              |\n",
       "|  9 | Switzerland    |  2 |  123.944 | 26,49                              |\n",
       "|  9 | Italy          |  2 |  109.809 | 35,52                              |\n",
       "|  9 | Hong Kong      |  2 |  101.620 | 41,54                              |\n",
       "| 15 | Russia         |  1 |   99.840 | 18                                 |\n",
       "| 15 | Netherlands    |  1 |   78.920 | 25                                 |\n",
       "| 15 | Sweden         |  3 |   75.320 | 75,86,89                           |\n",
       "| 15 | Finland        |  1 |   51.185 | 45                                 |\n",
       "\n"
      ],
      "text/plain": [
       "   Rank Country        Number Total.Market.Cap..US..billion.\n",
       "1   1   United States  13     1861.480                      \n",
       "2   2   China          12     1474.537                      \n",
       "3   3   United Kingdom  5      470.032                      \n",
       "4   3   Canada          5      406.685                      \n",
       "5   5   Australia       4      327.029                      \n",
       "6   5   Japan           4      289.281                      \n",
       "7   7   France          3      201.450                      \n",
       "8   7   Singapore       3      127.965                      \n",
       "9   9   Spain           2      176.678                      \n",
       "10  9   Brazil          2      151.019                      \n",
       "11  9   India           2      128.997                      \n",
       "12  9   Switzerland     2      123.944                      \n",
       "13  9   Italy           2      109.809                      \n",
       "14  9   Hong Kong       2      101.620                      \n",
       "15 15   Russia          1       99.840                      \n",
       "16 15   Netherlands     1       78.920                      \n",
       "17 15   Sweden          3       75.320                      \n",
       "18 15   Finland         1       51.185                      \n",
       "   Banks.ranks.by.Market.Cap..US..billion.\n",
       "1  1,3,4,8,17,19,20,27,28,38,46,59,62     \n",
       "2  2,5,7,9,10,31,39,40,50,51,53,66        \n",
       "3  6,29,47,56,67                          \n",
       "4  11,15,24,42,57                         \n",
       "5  13,23,32,34                            \n",
       "6  14,30,37,48                            \n",
       "7  16,43,55                               \n",
       "8  44,60,68                               \n",
       "9  12,36                                  \n",
       "10 22,33                                  \n",
       "11 21,61                                  \n",
       "12 26,49                                  \n",
       "13 35,52                                  \n",
       "14 41,54                                  \n",
       "15 18                                     \n",
       "16 25                                     \n",
       "17 75,86,89                               \n",
       "18 45                                     "
      ]
     },
     "metadata": {},
     "output_type": "display_data"
    }
   ],
   "source": [
    "# SOlution for \"Total market capital (US$ billion) across the top 70 banks by country\"\n",
    "# compare this with table on a given page\n",
    "table2 <- as.data.frame(html_table(tables[5]))\n",
    "table2 # now it OK!"
   ]
  },
  {
   "cell_type": "markdown",
   "id": "44b4185e",
   "metadata": {},
   "source": [
    "---"
   ]
  },
  {
   "cell_type": "markdown",
   "id": "e5f6def2",
   "metadata": {},
   "source": [
    "## References"
   ]
  },
  {
   "cell_type": "markdown",
   "id": "c158f38a",
   "metadata": {},
   "source": [
    "1. [SQLite in R. Datacamp](https://www.datacamp.com/community/tutorials/sqlite-in-r)\n",
    "2. [Tidyverse googlesheets4 0.2.0](https://www.tidyverse.org/blog/2020/05/googlesheets4-0-2-0/)\n",
    "3. [Telecom users dataset. Practice classification with a telco dataset.Kaggle](https://www.kaggle.com/radmirzosimov/telecom-users-dataset)\n",
    "4. [Binanace spot Api Docs](https://github.com/binance/binance-spot-api-docs/blob/master/rest-api.md#klinecandlestick-data)\n",
    "5. [Web Scraping in R: rvest Tutorial](https://www.datacamp.com/community/tutorials/r-web-scraping-rvest) by Arvid Kingl"
   ]
  }
 ],
 "metadata": {
  "kernelspec": {
   "display_name": "R",
   "language": "R",
   "name": "ir"
  },
  "language_info": {
   "codemirror_mode": "r",
   "file_extension": ".r",
   "mimetype": "text/x-r-source",
   "name": "R",
   "pygments_lexer": "r",
   "version": "4.0.3"
  }
 },
 "nbformat": 4,
 "nbformat_minor": 5
}
