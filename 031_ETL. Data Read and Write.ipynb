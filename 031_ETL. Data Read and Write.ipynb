{
 "cells": [
  {
   "cell_type": "raw",
   "id": "d05450d0-fbda-4b77-a007-043cfbea1bdb",
   "metadata": {},
   "source": [
    "# Reading and writing data\n",
    "\n",
    "---\n",
    "\n",
    "## Fundamentals of ETL: data extraction, transformation and loading\n",
    "\n",
    "\n",
    "Applied Mathematical Modeling in Banking"
   ]
  },
  {
   "cell_type": "markdown",
   "id": "c7ced297",
   "metadata": {},
   "source": [
    "---"
   ]
  },
  {
   "cell_type": "markdown",
   "id": "e20d0802",
   "metadata": {},
   "source": [
    "# Table of contents"
   ]
  },
  {
   "cell_type": "markdown",
   "id": "d61732c2",
   "metadata": {},
   "source": [
    "1. Comma Separated Values (CSV)\n",
    "\n",
    "2. MS Excel (Open XML / XLSX)\n",
    "\n",
    "2. eXtensible Markup Language (XML)\n",
    "\n",
    "3. JavaScript Object Notation (JSON) and API \n",
    "\n",
    "5. Google Services\n",
    "\n",
    "    5.1. Spreadsheets    \n",
    "    5.2. Trends\n",
    "    \n",
    "6. SQL (SQLite sample)\n",
    "\n",
    "7. Web-pages (HTML)"
   ]
  },
  {
   "cell_type": "markdown",
   "id": "e1e0922a",
   "metadata": {},
   "source": [
    "---"
   ]
  },
  {
   "cell_type": "markdown",
   "id": "595eb9f5",
   "metadata": {},
   "source": [
    "There are many data source types for data storing, reading. Let's review and try some of them."
   ]
  },
  {
   "cell_type": "markdown",
   "id": "06d272fc",
   "metadata": {},
   "source": [
    "# 1. CSV\n"
   ]
  },
  {
   "cell_type": "markdown",
   "id": "e1d4f620",
   "metadata": {},
   "source": [
    "`CSV` - comma separated values."
   ]
  },
  {
   "cell_type": "code",
   "execution_count": null,
   "id": "40fa3165",
   "metadata": {},
   "outputs": [],
   "source": [
    "# lets check current working directory to write correct files path\n",
    "getwd()"
   ]
  },
  {
   "cell_type": "markdown",
   "id": "f3547d6f",
   "metadata": {},
   "source": [
    "You can use `/` or `\\\\` for writing correct path in R. For example:"
   ]
  },
  {
   "cell_type": "code",
   "execution_count": null,
   "id": "4f31749a",
   "metadata": {},
   "outputs": [],
   "source": [
    "path = \"d:/projects/file.csv\"\n",
    "path = \"d:\\\\projects\\\\file.csv\""
   ]
  },
  {
   "cell_type": "markdown",
   "id": "5bb015de",
   "metadata": {},
   "source": [
    "To combine path use `paste()` or `paste0()` functions"
   ]
  },
  {
   "cell_type": "code",
   "execution_count": null,
   "id": "ac03ce77",
   "metadata": {},
   "outputs": [],
   "source": [
    "work_dir = getwd()\n",
    "work_dir "
   ]
  },
  {
   "cell_type": "code",
   "execution_count": null,
   "id": "2fc57102",
   "metadata": {},
   "outputs": [],
   "source": [
    "file_name = \"temp_file.csv\"\n",
    "file_path = paste0(work_dir, \"/\", file_name)\n",
    "file_path"
   ]
  },
  {
   "cell_type": "code",
   "execution_count": null,
   "id": "f530d601",
   "metadata": {},
   "outputs": [],
   "source": [
    "file_path = paste(work_dir, file_name, sep = \"/\")\n",
    "file_path"
   ]
  },
  {
   "cell_type": "markdown",
   "id": "11232534",
   "metadata": {},
   "source": [
    "#### Sample dataset description"
   ]
  },
  {
   "cell_type": "markdown",
   "id": "d507a339",
   "metadata": {},
   "source": [
    "Information about dataset from [kaggle.com](kaggle.com).\n",
    "Original file located at url: [https://www.kaggle.com/radmirzosimov/telecom-users-dataset](https://www.kaggle.com/radmirzosimov/telecom-users-dataset)."
   ]
  },
  {
   "cell_type": "markdown",
   "id": "74c2439e",
   "metadata": {},
   "source": [
    "Any business wants to maximize the number of customers. To achieve this goal, it is important not only to try to attract new ones, but also to retain existing ones. Retaining a client will cost the company less than attracting a new one. In addition, a new client may be weakly interested in business services and it will be difficult to work with him, while old clients already have the necessary data on interaction with the service.\n",
    "\n",
    "Accordingly, predicting the churn, we can react in time and try to keep the client who wants to leave. Based on the data about the services that the client uses, we can make him a special offer, trying to change his decision to leave the operator. This will make the task of retention easier to implement than the task of attracting new users, about which we do not know anything yet.\n",
    "\n",
    "You are provided with a dataset from a telecommunications company. The data contains information about almost six thousand users, their demographic characteristics, the services they use, the duration of using the operator's services, the method of payment, and the amount of payment.\n",
    "\n",
    "The task is to analyze the data and predict the churn of users (to identify people who will and will not renew their contract). The work should include the following mandatory items:\n",
    "\n",
    "1. Description of the data (with the calculation of basic statistics);\n",
    "2. Research of dependencies and formulation of hypotheses;\n",
    "3. Building models for predicting the outflow (with justification for the choice of a particular model) 4. based on tested hypotheses and identified relationships;\n",
    "5. Comparison of the quality of the obtained models.\n",
    "\n",
    "**Fields description:**\n",
    "\n",
    "- [x] `customerID` - customer id\n",
    "- [x] `gender` - client gender (male / female)\n",
    "- [x] `SeniorCitizen` - is the client retired (1, 0)\n",
    "- [x] `Partner` - is the client married (Yes, No)\n",
    "- [x] `tenure` - how many months a person has been a client of the company\n",
    "- [x] `PhoneService` - is the telephone service connected (Yes, No)\n",
    "- [x] `MultipleLines` - are multiple phone lines connected (Yes, No, No phone service)\n",
    "- [x] `InternetService` - client's Internet service provider (DSL, Fiber optic, No)\n",
    "- [x] `OnlineSecurity` - is the online security service connected (Yes, No, No internet service)\n",
    "- [x] `OnlineBackup` - is the online backup service activated (Yes, No, No internet service)\n",
    "- [x] `DeviceProtection` - does the client have equipment insurance (Yes, No, No internet service)\n",
    "- [x] `TechSupport` - is the technical support service connected (Yes, No, No internet service)\n",
    "- [x] `StreamingTV` - is the streaming TV service connected (Yes, No, No internet service)\n",
    "- [x] `StreamingMovies` - is the streaming cinema service activated (Yes, No, No internet service)\n",
    "- [x] `Contract` - type of customer contract (Month-to-month, One year, Two year)\n",
    "- [x] `PaperlessBilling` - whether the client uses paperless billing (Yes, No)\n",
    "- [x] `PaymentMethod` - payment method (Electronic check, Mailed check, Bank transfer (automatic), Credit card (automatic))\n",
    "- [x] `MonthlyCharges` - current monthly payment\n",
    "- [x] `TotalCharges` - the total amount that the client paid for the services for the entire time\n",
    "- [x] `Churn - whether` there was a churn (Yes or No)\n"
   ]
  },
  {
   "cell_type": "markdown",
   "id": "99974c7f",
   "metadata": {},
   "source": [
    "Thare are few methods for reading/writing csv in `base` package:"
   ]
  },
  {
   "cell_type": "markdown",
   "id": "be0055ff",
   "metadata": {},
   "source": [
    "- [x] `read.csv()`, `write.csv` - default data separator is `,`, decimal is separator `.`.\n",
    "- [x] `read.csv2()`, `write.csv2` - default data separator is `;`, decimal is separator `,`."
   ]
  },
  {
   "cell_type": "markdown",
   "id": "64df9857",
   "metadata": {},
   "source": [
    "Before using any new function check it usage information with `help(function_name)` or `?function_name`, example: **`?read.csv`**."
   ]
  },
  {
   "cell_type": "markdown",
   "id": "8932fdb0",
   "metadata": {},
   "source": [
    "You can read (current data set has NA values as example, there are no NA in original datase):"
   ]
  },
  {
   "cell_type": "code",
   "execution_count": null,
   "id": "f5540799",
   "metadata": {},
   "outputs": [],
   "source": [
    "data <- read.csv(\"data/telecom_users.csv\") # default reading"
   ]
  },
  {
   "cell_type": "code",
   "execution_count": null,
   "id": "cc88882a",
   "metadata": {},
   "outputs": [],
   "source": [
    "data <- read.csv(\"data/telecom_users.csv\",\n",
    "                  sep = \",\", # comma not only possibel separator\n",
    "                  dec = \".\", # decimal separator can be different\n",
    "                  na.strings = c(\"\", \"NA\", \"NULL\")) # you can define NA values"
   ]
  },
  {
   "cell_type": "code",
   "execution_count": null,
   "id": "dde8cb71",
   "metadata": {},
   "outputs": [],
   "source": [
    "str(data) # chack data structure / types/ values"
   ]
  },
  {
   "cell_type": "code",
   "execution_count": null,
   "id": "9d3d097d",
   "metadata": {},
   "outputs": [],
   "source": [
    "head(data, 2) # top 6 rows, use n = X, for viewing top X lines"
   ]
  },
  {
   "cell_type": "code",
   "execution_count": null,
   "id": "0cf93220",
   "metadata": {},
   "outputs": [],
   "source": [
    "is.data.frame(data) # if data is data.frame"
   ]
  },
  {
   "cell_type": "code",
   "execution_count": null,
   "id": "b7cc1409",
   "metadata": {},
   "outputs": [],
   "source": [
    "anyNA(data) # if dataframe contains any NA values"
   ]
  },
  {
   "cell_type": "code",
   "execution_count": null,
   "id": "b47801cd",
   "metadata": {},
   "outputs": [],
   "source": [
    "lapply(data, anyNA)\n",
    "#lapply(, any) #check NA by 2nd dimension - columns"
   ]
  },
  {
   "cell_type": "markdown",
   "id": "851e1308",
   "metadata": {},
   "source": [
    "Check `MonthlyCharges: TRUE` and `TotalCharges: TRUE`. These columns has NA-values."
   ]
  },
  {
   "cell_type": "markdown",
   "id": "ea64b553",
   "metadata": {},
   "source": [
    "Let's replace them with `mean`: "
   ]
  },
  {
   "cell_type": "code",
   "execution_count": null,
   "id": "8102282d",
   "metadata": {},
   "outputs": [],
   "source": [
    "data[is.na(data$TotalCharges), \"TotalCharges\"] <- mean(data$TotalCharges, na.rm = T)\n",
    "data[is.na(data$MonthlyCharges), \"MonthlyCharges\"] <- mean(data$MonthlyCharges, na.rm = T)"
   ]
  },
  {
   "cell_type": "code",
   "execution_count": null,
   "id": "dbb70d6e",
   "metadata": {},
   "outputs": [],
   "source": [
    "any(is.na(data)) # check for NA"
   ]
  },
  {
   "cell_type": "markdown",
   "id": "a0638653",
   "metadata": {},
   "source": [
    "You can write data with `write.csv()`, `write.csv2()` from `base` package."
   ]
  },
  {
   "cell_type": "code",
   "execution_count": null,
   "id": "9f5b3392",
   "metadata": {},
   "outputs": [],
   "source": [
    "write.csv(data, file = \"data/cleaned_data.csv\", row.names = F)\n",
    "# by default row.names = TRUE and file will contain first column with row numbers 1,2, ..., N"
   ]
  },
  {
   "cell_type": "markdown",
   "id": "17fe3109",
   "metadata": {},
   "source": [
    "One more useful package is `readr`. Examples of using:"
   ]
  },
  {
   "cell_type": "code",
   "execution_count": null,
   "id": "bf5cf558",
   "metadata": {},
   "outputs": [],
   "source": [
    "`#install.packages(“readr”)\n",
    "library(readr)\n",
    "data <- read_csv(file = \"data/telecom_users.csv\", … )\n",
    "data <- read_csv2(file = \"data/telecom_users.csv\", … )`"
   ]
  },
  {
   "cell_type": "markdown",
   "id": "cf9fbd3c",
   "metadata": {},
   "source": [
    "---"
   ]
  },
  {
   "cell_type": "markdown",
   "id": "f237d20f",
   "metadata": {},
   "source": [
    "# 2. Excel (xlsx)"
   ]
  },
  {
   "cell_type": "markdown",
   "id": "9b062cf3",
   "metadata": {},
   "source": [
    "There are many packages to read/write MS Excel files. `xlsx` one of the most useful."
   ]
  },
  {
   "cell_type": "code",
   "execution_count": null,
   "id": "9472bfa3",
   "metadata": {},
   "outputs": [],
   "source": [
    "install.packages(\"xlsx\") #install before use it"
   ]
  },
  {
   "cell_type": "code",
   "execution_count": null,
   "id": "e33704ea-d24f-4d28-9b02-b7bbab156043",
   "metadata": {},
   "outputs": [],
   "source": [
    "library(xlsx)"
   ]
  },
  {
   "cell_type": "code",
   "execution_count": null,
   "id": "8ce43124",
   "metadata": {},
   "outputs": [],
   "source": [
    "any(grepl(\"xlsx\", installed.packages())) # check if package installed"
   ]
  },
  {
   "cell_type": "markdown",
   "id": "50297c32",
   "metadata": {},
   "source": [
    "**`?read.xlsx`** - review package functions and params"
   ]
  },
  {
   "cell_type": "markdown",
   "id": "885baabc",
   "metadata": {},
   "source": [
    "Let's read the data `telecom_users.xlsx`: "
   ]
  },
  {
   "cell_type": "code",
   "execution_count": null,
   "id": "49fa6be8",
   "metadata": {},
   "outputs": [],
   "source": [
    "data <- read.xlsx(\"data/telecom_users.xlsx\", sheetIndex = 1)\n",
    "# sheetIndex = 1 - select sheet to read, or use sheetName = \"sheet1\" to read by Name"
   ]
  },
  {
   "cell_type": "code",
   "execution_count": null,
   "id": "bb1dab60",
   "metadata": {},
   "outputs": [],
   "source": [
    "# You can also use startRow, endRow and other params to define how much data read\n",
    "data <- read.xlsx(\"data/telecom_users.xlsx\", sheetIndex = 1, endRow = 100)"
   ]
  },
  {
   "cell_type": "markdown",
   "id": "8630aece",
   "metadata": {},
   "source": [
    "Let's replace `Churn` values `Yes`/`No` by `1`/`0`: "
   ]
  },
  {
   "cell_type": "code",
   "execution_count": null,
   "id": "f548ac60",
   "metadata": {},
   "outputs": [],
   "source": [
    "head(data$Churn)"
   ]
  },
  {
   "cell_type": "code",
   "execution_count": null,
   "id": "96af56ad",
   "metadata": {},
   "outputs": [],
   "source": [
    "data$Churn <- ifelse(data$Churn == \"Yes\", 1, 0)"
   ]
  },
  {
   "cell_type": "code",
   "execution_count": null,
   "id": "84ce2e1c",
   "metadata": {},
   "outputs": [],
   "source": [
    "head(data$Churn)"
   ]
  },
  {
   "cell_type": "markdown",
   "id": "bbae3bbc",
   "metadata": {},
   "source": [
    "Write final data to excel:"
   ]
  },
  {
   "cell_type": "code",
   "execution_count": null,
   "id": "bc88652a",
   "metadata": {},
   "outputs": [],
   "source": [
    "write.xlsx(data, file = \"data/final_telecom_data.xlsx\")"
   ]
  },
  {
   "cell_type": "markdown",
   "id": "ae322a14",
   "metadata": {},
   "source": [
    "## Task 2.1"
   ]
  },
  {
   "cell_type": "markdown",
   "id": "341bc74d",
   "metadata": {},
   "source": [
    "Download from kaggle.com and read dataset `Default_Fin.csv`: \n",
    "https://www.kaggle.com/kmldas/loan-default-prediction"
   ]
  },
  {
   "cell_type": "markdown",
   "id": "0aacc804",
   "metadata": {},
   "source": [
    "_Description:_"
   ]
  },
  {
   "cell_type": "markdown",
   "id": "19fab065",
   "metadata": {},
   "source": [
    "This is a synthetic dataset created using actual data from a financial institution. The data has been modified to remove identifiable features and the numbers transformed to ensure they do not link to original source (financial institution).\n",
    "\n",
    "This is intended to be used for academic purposes for beginners who want to practice financial analytics from a simple financial dataset"
   ]
  },
  {
   "cell_type": "markdown",
   "id": "9ac89d18",
   "metadata": {},
   "source": [
    "- [x] `Index` - This is the serial number or unique identifier of the loan taker\n",
    "- [x] `Employed`     - This is a Boolean 1= employed 0= unemployed \n",
    "- [x] `Bank.Balance` - Bank Balance of the loan taker\n",
    "- [x] `Annual.Salary` - Annual salary of the loan taker  \n",
    "- [x] `Defaulted` - This is a Boolean 1= defaulted 0= not defaulted"
   ]
  },
  {
   "cell_type": "code",
   "execution_count": null,
   "id": "5322e2d9",
   "metadata": {},
   "outputs": [],
   "source": [
    "1. Check what columns has missing values\n",
    "2. Count default and non-default clients / and parts of total clients in %\n",
    "3. Count Employed clients\n",
    "4. Count Employed Default clients\n",
    "5. Average salary by Employed clients\n",
    "6. Rename columns to \"id\", \"empl\", \"balance\", \"salary\", \"default\""
   ]
  },
  {
   "cell_type": "markdown",
   "id": "dd72d62b",
   "metadata": {},
   "source": [
    "---"
   ]
  },
  {
   "cell_type": "markdown",
   "id": "5269727a",
   "metadata": {},
   "source": [
    "## Solution for Task 2.1"
   ]
  },
  {
   "cell_type": "code",
   "execution_count": null,
   "id": "b1669883",
   "metadata": {},
   "outputs": [],
   "source": [
    "data <- read.csv(\"data/Default_Fin.csv\")\n",
    "head(data)"
   ]
  },
  {
   "cell_type": "markdown",
   "id": "16c65bae",
   "metadata": {},
   "source": [
    "> 1. Check what columns has missing values"
   ]
  },
  {
   "cell_type": "code",
   "execution_count": null,
   "id": "02750084",
   "metadata": {},
   "outputs": [],
   "source": [
    "anyNA(data)"
   ]
  },
  {
   "cell_type": "markdown",
   "id": "37f27776",
   "metadata": {},
   "source": [
    "> 2. Count default and non-default clients / and parts of total clients in %"
   ]
  },
  {
   "cell_type": "code",
   "execution_count": null,
   "id": "2c67be65",
   "metadata": {},
   "outputs": [],
   "source": [
    "def_count <- nrow(data[data$Defaulted. == 1, ])\n",
    "no_def_count <- nrow(data[data$Defaulted. == 0, ])\n",
    "def_count\n",
    "no_def_count "
   ]
  },
  {
   "cell_type": "code",
   "execution_count": null,
   "id": "33ed5769",
   "metadata": {},
   "outputs": [],
   "source": [
    "def_count / nrow(data) * 100 # part defaults\n",
    "no_def_count / nrow(data) * 100 # part non-defaults"
   ]
  },
  {
   "cell_type": "markdown",
   "id": "5f7b6bc5",
   "metadata": {},
   "source": [
    "> 3. Count Employed clients"
   ]
  },
  {
   "cell_type": "code",
   "execution_count": null,
   "id": "4fbe158e",
   "metadata": {},
   "outputs": [],
   "source": [
    "empl <- data[data$Employed == 1, ]\n",
    "nrow(empl)"
   ]
  },
  {
   "cell_type": "markdown",
   "id": "3ea76019",
   "metadata": {},
   "source": [
    "> 4. Count Employed Default clients"
   ]
  },
  {
   "cell_type": "code",
   "execution_count": null,
   "id": "a385dcbc",
   "metadata": {},
   "outputs": [],
   "source": [
    "empl <- data[data$Employed == 1 & data$Defaulted. == 1, ]\n",
    "nrow(empl)"
   ]
  },
  {
   "cell_type": "markdown",
   "id": "c844a7ca",
   "metadata": {},
   "source": [
    "> 5. Average salary by Employed clients"
   ]
  },
  {
   "cell_type": "code",
   "execution_count": null,
   "id": "65075cd7",
   "metadata": {},
   "outputs": [],
   "source": [
    "empl <- data[data$Employed == 1, ]\n",
    "mean(empl$Annual.Salary)"
   ]
  },
  {
   "cell_type": "markdown",
   "id": "c10a7c1b",
   "metadata": {},
   "source": [
    "> 6. Rename columns to \"id\", \"empl\", \"balance\", \"salary\", \"default\":"
   ]
  },
  {
   "cell_type": "code",
   "execution_count": null,
   "id": "8029feb6",
   "metadata": {},
   "outputs": [],
   "source": [
    "colnames(data) <- c(\"id\", \"empl\", \"balance\", \"salary\", \"default\")\n",
    "head(data)"
   ]
  },
  {
   "cell_type": "markdown",
   "id": "48309e80",
   "metadata": {},
   "source": []
  },
  {
   "cell_type": "markdown",
   "id": "ea0ff810",
   "metadata": {},
   "source": [
    "# 3. XML"
   ]
  },
  {
   "cell_type": "markdown",
   "id": "c88d47b2",
   "metadata": {},
   "source": [
    "`XML` - eXtensible Markup Language."
   ]
  },
  {
   "cell_type": "markdown",
   "id": "b895488b",
   "metadata": {},
   "source": [
    "For our example we will use data from `data/employes.xml`. File contains records with info:"
   ]
  },
  {
   "cell_type": "markdown",
   "id": "2d6bc62b",
   "metadata": {},
   "source": [
    "```\n",
    "<RECORDS>\n",
    "   <EMPLOYEE>\n",
    "      <ID>1</ID>\n",
    "      <NAME>Rick</NAME>\n",
    "      <SALARY>623.3</SALARY>\n",
    "      <STARTDATE>1/1/2012</STARTDATE>\n",
    "      <DEPT>IT</DEPT>\n",
    "   </EMPLOYEE>\n",
    "   ...\n",
    "</RECORDS>\n",
    "```"
   ]
  },
  {
   "cell_type": "code",
   "execution_count": null,
   "id": "3296aa36",
   "metadata": {},
   "outputs": [],
   "source": [
    "#install.packages(\"XML\")\n",
    "library(\"XML\")\n",
    "#install.packages(\"methods\")\n",
    "library(\"methods\")"
   ]
  },
  {
   "cell_type": "code",
   "execution_count": null,
   "id": "79f36c2b",
   "metadata": {},
   "outputs": [],
   "source": [
    "result <- xmlParse(file = \"data/employes.xml\")\n",
    "print(result)"
   ]
  },
  {
   "cell_type": "code",
   "execution_count": null,
   "id": "edf73e0d",
   "metadata": {},
   "outputs": [],
   "source": [
    "rootnode <- xmlRoot(result) # reading rootnode of xml document\n",
    "rootnode[[1]] # reading first record"
   ]
  },
  {
   "cell_type": "code",
   "execution_count": null,
   "id": "ee90870e",
   "metadata": {},
   "outputs": [],
   "source": [
    "rootnode[[1]][[2]] # reading first record in root node and second tag, its <NAME>"
   ]
  },
  {
   "cell_type": "markdown",
   "id": "1b7bc632",
   "metadata": {},
   "source": [
    "For us the best way is to get dataframe:"
   ]
  },
  {
   "cell_type": "code",
   "execution_count": null,
   "id": "e0b82f06",
   "metadata": {},
   "outputs": [],
   "source": [
    "xmldataframe <- xmlToDataFrame(\"data/employes.xml\")\n",
    "xmldataframe"
   ]
  },
  {
   "cell_type": "markdown",
   "id": "28945018",
   "metadata": {},
   "source": [
    "# 4. JSON and API"
   ]
  },
  {
   "cell_type": "markdown",
   "id": "482c8486",
   "metadata": {},
   "source": [
    "`JSON` (`JavaScript Object Notation`) is a lightweight data-interchange format. It is easy for humans to read and write. It is easy for machines to parse and generate. It is based on a subset of the JavaScript Programming Language Standard.\n",
    "\n",
    "`API` is the acronym for `Application Programming Interface`, which is a software intermediary that allows two applications to talk to each other. "
   ]
  },
  {
   "cell_type": "markdown",
   "id": "fd4979c1",
   "metadata": {},
   "source": [
    "One of the most popular packages for `json` is `jsonlite`."
   ]
  },
  {
   "cell_type": "code",
   "execution_count": 1,
   "id": "e3072dae",
   "metadata": {},
   "outputs": [],
   "source": [
    "#install.packages(\"jsonlite\")\n",
    "library(jsonlite)"
   ]
  },
  {
   "cell_type": "markdown",
   "id": "79e54d0f",
   "metadata": {},
   "source": [
    "Let's use readinginformation about BTC and USDT crypro currencies from Binance"
   ]
  },
  {
   "cell_type": "code",
   "execution_count": 2,
   "id": "3fc75779",
   "metadata": {},
   "outputs": [
    {
     "name": "stdout",
     "output_type": "stream",
     "text": [
      "[1] \"https://api.binance.com/api/v3/klines?symbol=BTCUSDT&interval=1h&limit=100\"\n"
     ]
    }
   ],
   "source": [
    "market = 'BTCUSDT'\n",
    "interval = '1h'\n",
    "limit = 100\n",
    "\n",
    "url <- paste0(url = \"https://api.binance.com/api/v3/klines?symbol=\", market ,\"&interval=\", interval,\"&limit=\", limit)\n",
    "print(url) # complete request URL"
   ]
  },
  {
   "cell_type": "markdown",
   "id": "1d32da24",
   "metadata": {},
   "source": [
    "On the next stage you need use fromJSON() function to get data.\n",
    "\n",
    "More details about requests to Binanace at https://github.com/binance/binance-spot-api-docs/blob/master/rest-api.md#klinecandlestick-data\n",
    "\n",
    "If you enter 'url' value at browser response is going to be like this:"
   ]
  },
  {
   "cell_type": "markdown",
   "id": "de2a47a6",
   "metadata": {},
   "source": [
    "```json\n",
    "[\n",
    "  [\n",
    "    1499040000000,      // Open time\n",
    "    \"0.01634790\",       // Open\n",
    "    \"0.80000000\",       // High\n",
    "    \"0.01575800\",       // Low\n",
    "    \"0.01577100\",       // Close\n",
    "    \"148976.11427815\",  // Volume\n",
    "    1499644799999,      // Close time\n",
    "    \"2434.19055334\",    // Quote asset volume\n",
    "    308,                // Number of trades\n",
    "    \"1756.87402397\",    // Taker buy base asset volume\n",
    "    \"28.46694368\",      // Taker buy quote asset volume\n",
    "    \"17928899.62484339\" // Ignore.\n",
    "  ]\n",
    "]\n",
    "```"
   ]
  },
  {
   "cell_type": "code",
   "execution_count": 3,
   "id": "865705ec",
   "metadata": {},
   "outputs": [
    {
     "data": {
      "text/html": [
       "<table class=\"dataframe\">\n",
       "<caption>A matrix: 6 × 7 of type chr</caption>\n",
       "<tbody>\n",
       "\t<tr><td>1678334400000</td><td>21770.37000000</td><td>21774.69000000</td><td>21720.11000000</td><td>21740.43000000</td><td>5953.71527000 </td><td>1678337999999</td></tr>\n",
       "\t<tr><td>1.678338e+12 </td><td>21740.39000000</td><td>21761.33000000</td><td>21728.00000000</td><td>21738.93000000</td><td>5857.40431000 </td><td>1678341599999</td></tr>\n",
       "\t<tr><td>1678341600000</td><td>21738.93000000</td><td>21746.04000000</td><td>21683.49000000</td><td>21741.80000000</td><td>7890.85590000 </td><td>1678345199999</td></tr>\n",
       "\t<tr><td>1678345200000</td><td>21741.25000000</td><td>21742.39000000</td><td>21665.67000000</td><td>21688.54000000</td><td>8160.18877000 </td><td>1678348799999</td></tr>\n",
       "\t<tr><td>1678348800000</td><td>21688.54000000</td><td>21698.38000000</td><td>21602.00000000</td><td>21681.52000000</td><td>15335.28307000</td><td>1678352399999</td></tr>\n",
       "\t<tr><td>1678352400000</td><td>21682.31000000</td><td>21700.00000000</td><td>21585.00000000</td><td>21641.58000000</td><td>12338.10576000</td><td>1678355999999</td></tr>\n",
       "</tbody>\n",
       "</table>\n"
      ],
      "text/latex": [
       "A matrix: 6 × 7 of type chr\n",
       "\\begin{tabular}{lllllll}\n",
       "\t 1678334400000 & 21770.37000000 & 21774.69000000 & 21720.11000000 & 21740.43000000 & 5953.71527000  & 1678337999999\\\\\n",
       "\t 1.678338e+12  & 21740.39000000 & 21761.33000000 & 21728.00000000 & 21738.93000000 & 5857.40431000  & 1678341599999\\\\\n",
       "\t 1678341600000 & 21738.93000000 & 21746.04000000 & 21683.49000000 & 21741.80000000 & 7890.85590000  & 1678345199999\\\\\n",
       "\t 1678345200000 & 21741.25000000 & 21742.39000000 & 21665.67000000 & 21688.54000000 & 8160.18877000  & 1678348799999\\\\\n",
       "\t 1678348800000 & 21688.54000000 & 21698.38000000 & 21602.00000000 & 21681.52000000 & 15335.28307000 & 1678352399999\\\\\n",
       "\t 1678352400000 & 21682.31000000 & 21700.00000000 & 21585.00000000 & 21641.58000000 & 12338.10576000 & 1678355999999\\\\\n",
       "\\end{tabular}\n"
      ],
      "text/markdown": [
       "\n",
       "A matrix: 6 × 7 of type chr\n",
       "\n",
       "| 1678334400000 | 21770.37000000 | 21774.69000000 | 21720.11000000 | 21740.43000000 | 5953.71527000  | 1678337999999 |\n",
       "| 1.678338e+12  | 21740.39000000 | 21761.33000000 | 21728.00000000 | 21738.93000000 | 5857.40431000  | 1678341599999 |\n",
       "| 1678341600000 | 21738.93000000 | 21746.04000000 | 21683.49000000 | 21741.80000000 | 7890.85590000  | 1678345199999 |\n",
       "| 1678345200000 | 21741.25000000 | 21742.39000000 | 21665.67000000 | 21688.54000000 | 8160.18877000  | 1678348799999 |\n",
       "| 1678348800000 | 21688.54000000 | 21698.38000000 | 21602.00000000 | 21681.52000000 | 15335.28307000 | 1678352399999 |\n",
       "| 1678352400000 | 21682.31000000 | 21700.00000000 | 21585.00000000 | 21641.58000000 | 12338.10576000 | 1678355999999 |\n",
       "\n"
      ],
      "text/plain": [
       "     [,1]          [,2]           [,3]           [,4]           [,5]          \n",
       "[1,] 1678334400000 21770.37000000 21774.69000000 21720.11000000 21740.43000000\n",
       "[2,] 1.678338e+12  21740.39000000 21761.33000000 21728.00000000 21738.93000000\n",
       "[3,] 1678341600000 21738.93000000 21746.04000000 21683.49000000 21741.80000000\n",
       "[4,] 1678345200000 21741.25000000 21742.39000000 21665.67000000 21688.54000000\n",
       "[5,] 1678348800000 21688.54000000 21698.38000000 21602.00000000 21681.52000000\n",
       "[6,] 1678352400000 21682.31000000 21700.00000000 21585.00000000 21641.58000000\n",
       "     [,6]           [,7]         \n",
       "[1,] 5953.71527000  1678337999999\n",
       "[2,] 5857.40431000  1678341599999\n",
       "[3,] 7890.85590000  1678345199999\n",
       "[4,] 8160.18877000  1678348799999\n",
       "[5,] 15335.28307000 1678352399999\n",
       "[6,] 12338.10576000 1678355999999"
      ]
     },
     "metadata": {},
     "output_type": "display_data"
    }
   ],
   "source": [
    "data <- fromJSON(url) # get json and transform it to list()\n",
    "data <- data[, 1:7] # let's left only 1:7 columns (from Open time to Close time)\n",
    "head(data)"
   ]
  },
  {
   "cell_type": "code",
   "execution_count": 4,
   "id": "f76208c6",
   "metadata": {},
   "outputs": [
    {
     "data": {
      "text/html": [
       "'character'"
      ],
      "text/latex": [
       "'character'"
      ],
      "text/markdown": [
       "'character'"
      ],
      "text/plain": [
       "[1] \"character\""
      ]
     },
     "metadata": {},
     "output_type": "display_data"
    },
    {
     "data": {
      "text/html": [
       "<table class=\"dataframe\">\n",
       "<caption>A data.frame: 6 × 7</caption>\n",
       "<thead>\n",
       "\t<tr><th></th><th scope=col>V1</th><th scope=col>V2</th><th scope=col>V3</th><th scope=col>V4</th><th scope=col>V5</th><th scope=col>V6</th><th scope=col>V7</th></tr>\n",
       "\t<tr><th></th><th scope=col>&lt;chr&gt;</th><th scope=col>&lt;chr&gt;</th><th scope=col>&lt;chr&gt;</th><th scope=col>&lt;chr&gt;</th><th scope=col>&lt;chr&gt;</th><th scope=col>&lt;chr&gt;</th><th scope=col>&lt;chr&gt;</th></tr>\n",
       "</thead>\n",
       "<tbody>\n",
       "\t<tr><th scope=row>1</th><td>1678334400000</td><td>21770.37000000</td><td>21774.69000000</td><td>21720.11000000</td><td>21740.43000000</td><td>5953.71527000 </td><td>1678337999999</td></tr>\n",
       "\t<tr><th scope=row>2</th><td>1.678338e+12 </td><td>21740.39000000</td><td>21761.33000000</td><td>21728.00000000</td><td>21738.93000000</td><td>5857.40431000 </td><td>1678341599999</td></tr>\n",
       "\t<tr><th scope=row>3</th><td>1678341600000</td><td>21738.93000000</td><td>21746.04000000</td><td>21683.49000000</td><td>21741.80000000</td><td>7890.85590000 </td><td>1678345199999</td></tr>\n",
       "\t<tr><th scope=row>4</th><td>1678345200000</td><td>21741.25000000</td><td>21742.39000000</td><td>21665.67000000</td><td>21688.54000000</td><td>8160.18877000 </td><td>1678348799999</td></tr>\n",
       "\t<tr><th scope=row>5</th><td>1678348800000</td><td>21688.54000000</td><td>21698.38000000</td><td>21602.00000000</td><td>21681.52000000</td><td>15335.28307000</td><td>1678352399999</td></tr>\n",
       "\t<tr><th scope=row>6</th><td>1678352400000</td><td>21682.31000000</td><td>21700.00000000</td><td>21585.00000000</td><td>21641.58000000</td><td>12338.10576000</td><td>1678355999999</td></tr>\n",
       "</tbody>\n",
       "</table>\n"
      ],
      "text/latex": [
       "A data.frame: 6 × 7\n",
       "\\begin{tabular}{r|lllllll}\n",
       "  & V1 & V2 & V3 & V4 & V5 & V6 & V7\\\\\n",
       "  & <chr> & <chr> & <chr> & <chr> & <chr> & <chr> & <chr>\\\\\n",
       "\\hline\n",
       "\t1 & 1678334400000 & 21770.37000000 & 21774.69000000 & 21720.11000000 & 21740.43000000 & 5953.71527000  & 1678337999999\\\\\n",
       "\t2 & 1.678338e+12  & 21740.39000000 & 21761.33000000 & 21728.00000000 & 21738.93000000 & 5857.40431000  & 1678341599999\\\\\n",
       "\t3 & 1678341600000 & 21738.93000000 & 21746.04000000 & 21683.49000000 & 21741.80000000 & 7890.85590000  & 1678345199999\\\\\n",
       "\t4 & 1678345200000 & 21741.25000000 & 21742.39000000 & 21665.67000000 & 21688.54000000 & 8160.18877000  & 1678348799999\\\\\n",
       "\t5 & 1678348800000 & 21688.54000000 & 21698.38000000 & 21602.00000000 & 21681.52000000 & 15335.28307000 & 1678352399999\\\\\n",
       "\t6 & 1678352400000 & 21682.31000000 & 21700.00000000 & 21585.00000000 & 21641.58000000 & 12338.10576000 & 1678355999999\\\\\n",
       "\\end{tabular}\n"
      ],
      "text/markdown": [
       "\n",
       "A data.frame: 6 × 7\n",
       "\n",
       "| <!--/--> | V1 &lt;chr&gt; | V2 &lt;chr&gt; | V3 &lt;chr&gt; | V4 &lt;chr&gt; | V5 &lt;chr&gt; | V6 &lt;chr&gt; | V7 &lt;chr&gt; |\n",
       "|---|---|---|---|---|---|---|---|\n",
       "| 1 | 1678334400000 | 21770.37000000 | 21774.69000000 | 21720.11000000 | 21740.43000000 | 5953.71527000  | 1678337999999 |\n",
       "| 2 | 1.678338e+12  | 21740.39000000 | 21761.33000000 | 21728.00000000 | 21738.93000000 | 5857.40431000  | 1678341599999 |\n",
       "| 3 | 1678341600000 | 21738.93000000 | 21746.04000000 | 21683.49000000 | 21741.80000000 | 7890.85590000  | 1678345199999 |\n",
       "| 4 | 1678345200000 | 21741.25000000 | 21742.39000000 | 21665.67000000 | 21688.54000000 | 8160.18877000  | 1678348799999 |\n",
       "| 5 | 1678348800000 | 21688.54000000 | 21698.38000000 | 21602.00000000 | 21681.52000000 | 15335.28307000 | 1678352399999 |\n",
       "| 6 | 1678352400000 | 21682.31000000 | 21700.00000000 | 21585.00000000 | 21641.58000000 | 12338.10576000 | 1678355999999 |\n",
       "\n"
      ],
      "text/plain": [
       "  V1            V2             V3             V4             V5            \n",
       "1 1678334400000 21770.37000000 21774.69000000 21720.11000000 21740.43000000\n",
       "2 1.678338e+12  21740.39000000 21761.33000000 21728.00000000 21738.93000000\n",
       "3 1678341600000 21738.93000000 21746.04000000 21683.49000000 21741.80000000\n",
       "4 1678345200000 21741.25000000 21742.39000000 21665.67000000 21688.54000000\n",
       "5 1678348800000 21688.54000000 21698.38000000 21602.00000000 21681.52000000\n",
       "6 1678352400000 21682.31000000 21700.00000000 21585.00000000 21641.58000000\n",
       "  V6             V7           \n",
       "1 5953.71527000  1678337999999\n",
       "2 5857.40431000  1678341599999\n",
       "3 7890.85590000  1678345199999\n",
       "4 8160.18877000  1678348799999\n",
       "5 15335.28307000 1678352399999\n",
       "6 12338.10576000 1678355999999"
      ]
     },
     "metadata": {},
     "output_type": "display_data"
    }
   ],
   "source": [
    "typeof(data) # check data type\n",
    "data <- as.data.frame(data) # convert to dataframe\n",
    "head(data)"
   ]
  },
  {
   "cell_type": "code",
   "execution_count": 5,
   "id": "eac7f170",
   "metadata": {},
   "outputs": [
    {
     "data": {
      "text/html": [
       "<table class=\"dataframe\">\n",
       "<caption>A data.frame: 6 × 7</caption>\n",
       "<thead>\n",
       "\t<tr><th></th><th scope=col>Open_time</th><th scope=col>Open</th><th scope=col>High</th><th scope=col>Low</th><th scope=col>Close</th><th scope=col>Volume</th><th scope=col>Close_time</th></tr>\n",
       "\t<tr><th></th><th scope=col>&lt;chr&gt;</th><th scope=col>&lt;chr&gt;</th><th scope=col>&lt;chr&gt;</th><th scope=col>&lt;chr&gt;</th><th scope=col>&lt;chr&gt;</th><th scope=col>&lt;chr&gt;</th><th scope=col>&lt;chr&gt;</th></tr>\n",
       "</thead>\n",
       "<tbody>\n",
       "\t<tr><th scope=row>1</th><td>1678334400000</td><td>21770.37000000</td><td>21774.69000000</td><td>21720.11000000</td><td>21740.43000000</td><td>5953.71527000 </td><td>1678337999999</td></tr>\n",
       "\t<tr><th scope=row>2</th><td>1.678338e+12 </td><td>21740.39000000</td><td>21761.33000000</td><td>21728.00000000</td><td>21738.93000000</td><td>5857.40431000 </td><td>1678341599999</td></tr>\n",
       "\t<tr><th scope=row>3</th><td>1678341600000</td><td>21738.93000000</td><td>21746.04000000</td><td>21683.49000000</td><td>21741.80000000</td><td>7890.85590000 </td><td>1678345199999</td></tr>\n",
       "\t<tr><th scope=row>4</th><td>1678345200000</td><td>21741.25000000</td><td>21742.39000000</td><td>21665.67000000</td><td>21688.54000000</td><td>8160.18877000 </td><td>1678348799999</td></tr>\n",
       "\t<tr><th scope=row>5</th><td>1678348800000</td><td>21688.54000000</td><td>21698.38000000</td><td>21602.00000000</td><td>21681.52000000</td><td>15335.28307000</td><td>1678352399999</td></tr>\n",
       "\t<tr><th scope=row>6</th><td>1678352400000</td><td>21682.31000000</td><td>21700.00000000</td><td>21585.00000000</td><td>21641.58000000</td><td>12338.10576000</td><td>1678355999999</td></tr>\n",
       "</tbody>\n",
       "</table>\n"
      ],
      "text/latex": [
       "A data.frame: 6 × 7\n",
       "\\begin{tabular}{r|lllllll}\n",
       "  & Open\\_time & Open & High & Low & Close & Volume & Close\\_time\\\\\n",
       "  & <chr> & <chr> & <chr> & <chr> & <chr> & <chr> & <chr>\\\\\n",
       "\\hline\n",
       "\t1 & 1678334400000 & 21770.37000000 & 21774.69000000 & 21720.11000000 & 21740.43000000 & 5953.71527000  & 1678337999999\\\\\n",
       "\t2 & 1.678338e+12  & 21740.39000000 & 21761.33000000 & 21728.00000000 & 21738.93000000 & 5857.40431000  & 1678341599999\\\\\n",
       "\t3 & 1678341600000 & 21738.93000000 & 21746.04000000 & 21683.49000000 & 21741.80000000 & 7890.85590000  & 1678345199999\\\\\n",
       "\t4 & 1678345200000 & 21741.25000000 & 21742.39000000 & 21665.67000000 & 21688.54000000 & 8160.18877000  & 1678348799999\\\\\n",
       "\t5 & 1678348800000 & 21688.54000000 & 21698.38000000 & 21602.00000000 & 21681.52000000 & 15335.28307000 & 1678352399999\\\\\n",
       "\t6 & 1678352400000 & 21682.31000000 & 21700.00000000 & 21585.00000000 & 21641.58000000 & 12338.10576000 & 1678355999999\\\\\n",
       "\\end{tabular}\n"
      ],
      "text/markdown": [
       "\n",
       "A data.frame: 6 × 7\n",
       "\n",
       "| <!--/--> | Open_time &lt;chr&gt; | Open &lt;chr&gt; | High &lt;chr&gt; | Low &lt;chr&gt; | Close &lt;chr&gt; | Volume &lt;chr&gt; | Close_time &lt;chr&gt; |\n",
       "|---|---|---|---|---|---|---|---|\n",
       "| 1 | 1678334400000 | 21770.37000000 | 21774.69000000 | 21720.11000000 | 21740.43000000 | 5953.71527000  | 1678337999999 |\n",
       "| 2 | 1.678338e+12  | 21740.39000000 | 21761.33000000 | 21728.00000000 | 21738.93000000 | 5857.40431000  | 1678341599999 |\n",
       "| 3 | 1678341600000 | 21738.93000000 | 21746.04000000 | 21683.49000000 | 21741.80000000 | 7890.85590000  | 1678345199999 |\n",
       "| 4 | 1678345200000 | 21741.25000000 | 21742.39000000 | 21665.67000000 | 21688.54000000 | 8160.18877000  | 1678348799999 |\n",
       "| 5 | 1678348800000 | 21688.54000000 | 21698.38000000 | 21602.00000000 | 21681.52000000 | 15335.28307000 | 1678352399999 |\n",
       "| 6 | 1678352400000 | 21682.31000000 | 21700.00000000 | 21585.00000000 | 21641.58000000 | 12338.10576000 | 1678355999999 |\n",
       "\n"
      ],
      "text/plain": [
       "  Open_time     Open           High           Low            Close         \n",
       "1 1678334400000 21770.37000000 21774.69000000 21720.11000000 21740.43000000\n",
       "2 1.678338e+12  21740.39000000 21761.33000000 21728.00000000 21738.93000000\n",
       "3 1678341600000 21738.93000000 21746.04000000 21683.49000000 21741.80000000\n",
       "4 1678345200000 21741.25000000 21742.39000000 21665.67000000 21688.54000000\n",
       "5 1678348800000 21688.54000000 21698.38000000 21602.00000000 21681.52000000\n",
       "6 1678352400000 21682.31000000 21700.00000000 21585.00000000 21641.58000000\n",
       "  Volume         Close_time   \n",
       "1 5953.71527000  1678337999999\n",
       "2 5857.40431000  1678341599999\n",
       "3 7890.85590000  1678345199999\n",
       "4 8160.18877000  1678348799999\n",
       "5 15335.28307000 1678352399999\n",
       "6 12338.10576000 1678355999999"
      ]
     },
     "metadata": {},
     "output_type": "display_data"
    }
   ],
   "source": [
    "# fix columns names\n",
    "colnames(data) <- c(\"Open_time\", \"Open\", \"High\", \"Low\", \"Close\", \"Volume\", \"Close_time\")\n",
    "head(data) # looks better, but columns are characters still"
   ]
  },
  {
   "cell_type": "code",
   "execution_count": 6,
   "id": "6a20a927",
   "metadata": {},
   "outputs": [
    {
     "data": {
      "text/html": [
       "FALSE"
      ],
      "text/latex": [
       "FALSE"
      ],
      "text/markdown": [
       "FALSE"
      ],
      "text/plain": [
       "[1] FALSE"
      ]
     },
     "metadata": {},
     "output_type": "display_data"
    },
    {
     "data": {
      "text/html": [
       "FALSE"
      ],
      "text/latex": [
       "FALSE"
      ],
      "text/markdown": [
       "FALSE"
      ],
      "text/plain": [
       "[1] FALSE"
      ]
     },
     "metadata": {},
     "output_type": "display_data"
    }
   ],
   "source": [
    "is.numeric(data[,1]) # check 1st column type is numeric\n",
    "is.numeric(data[,2]) # check 2nd column type is numeric"
   ]
  },
  {
   "cell_type": "code",
   "execution_count": 7,
   "id": "43574c0c",
   "metadata": {},
   "outputs": [
    {
     "data": {
      "text/html": [
       "<table class=\"dataframe\">\n",
       "<caption>A data.frame: 6 × 7</caption>\n",
       "<thead>\n",
       "\t<tr><th></th><th scope=col>Open_time</th><th scope=col>Open</th><th scope=col>High</th><th scope=col>Low</th><th scope=col>Close</th><th scope=col>Volume</th><th scope=col>Close_time</th></tr>\n",
       "\t<tr><th></th><th scope=col>&lt;dbl&gt;</th><th scope=col>&lt;dbl&gt;</th><th scope=col>&lt;dbl&gt;</th><th scope=col>&lt;dbl&gt;</th><th scope=col>&lt;dbl&gt;</th><th scope=col>&lt;dbl&gt;</th><th scope=col>&lt;dbl&gt;</th></tr>\n",
       "</thead>\n",
       "<tbody>\n",
       "\t<tr><th scope=row>1</th><td>1.678334e+12</td><td>21770.37</td><td>21774.69</td><td>21720.11</td><td>21740.43</td><td> 5953.715</td><td>1.678338e+12</td></tr>\n",
       "\t<tr><th scope=row>2</th><td>1.678338e+12</td><td>21740.39</td><td>21761.33</td><td>21728.00</td><td>21738.93</td><td> 5857.404</td><td>1.678342e+12</td></tr>\n",
       "\t<tr><th scope=row>3</th><td>1.678342e+12</td><td>21738.93</td><td>21746.04</td><td>21683.49</td><td>21741.80</td><td> 7890.856</td><td>1.678345e+12</td></tr>\n",
       "\t<tr><th scope=row>4</th><td>1.678345e+12</td><td>21741.25</td><td>21742.39</td><td>21665.67</td><td>21688.54</td><td> 8160.189</td><td>1.678349e+12</td></tr>\n",
       "\t<tr><th scope=row>5</th><td>1.678349e+12</td><td>21688.54</td><td>21698.38</td><td>21602.00</td><td>21681.52</td><td>15335.283</td><td>1.678352e+12</td></tr>\n",
       "\t<tr><th scope=row>6</th><td>1.678352e+12</td><td>21682.31</td><td>21700.00</td><td>21585.00</td><td>21641.58</td><td>12338.106</td><td>1.678356e+12</td></tr>\n",
       "</tbody>\n",
       "</table>\n"
      ],
      "text/latex": [
       "A data.frame: 6 × 7\n",
       "\\begin{tabular}{r|lllllll}\n",
       "  & Open\\_time & Open & High & Low & Close & Volume & Close\\_time\\\\\n",
       "  & <dbl> & <dbl> & <dbl> & <dbl> & <dbl> & <dbl> & <dbl>\\\\\n",
       "\\hline\n",
       "\t1 & 1.678334e+12 & 21770.37 & 21774.69 & 21720.11 & 21740.43 &  5953.715 & 1.678338e+12\\\\\n",
       "\t2 & 1.678338e+12 & 21740.39 & 21761.33 & 21728.00 & 21738.93 &  5857.404 & 1.678342e+12\\\\\n",
       "\t3 & 1.678342e+12 & 21738.93 & 21746.04 & 21683.49 & 21741.80 &  7890.856 & 1.678345e+12\\\\\n",
       "\t4 & 1.678345e+12 & 21741.25 & 21742.39 & 21665.67 & 21688.54 &  8160.189 & 1.678349e+12\\\\\n",
       "\t5 & 1.678349e+12 & 21688.54 & 21698.38 & 21602.00 & 21681.52 & 15335.283 & 1.678352e+12\\\\\n",
       "\t6 & 1.678352e+12 & 21682.31 & 21700.00 & 21585.00 & 21641.58 & 12338.106 & 1.678356e+12\\\\\n",
       "\\end{tabular}\n"
      ],
      "text/markdown": [
       "\n",
       "A data.frame: 6 × 7\n",
       "\n",
       "| <!--/--> | Open_time &lt;dbl&gt; | Open &lt;dbl&gt; | High &lt;dbl&gt; | Low &lt;dbl&gt; | Close &lt;dbl&gt; | Volume &lt;dbl&gt; | Close_time &lt;dbl&gt; |\n",
       "|---|---|---|---|---|---|---|---|\n",
       "| 1 | 1.678334e+12 | 21770.37 | 21774.69 | 21720.11 | 21740.43 |  5953.715 | 1.678338e+12 |\n",
       "| 2 | 1.678338e+12 | 21740.39 | 21761.33 | 21728.00 | 21738.93 |  5857.404 | 1.678342e+12 |\n",
       "| 3 | 1.678342e+12 | 21738.93 | 21746.04 | 21683.49 | 21741.80 |  7890.856 | 1.678345e+12 |\n",
       "| 4 | 1.678345e+12 | 21741.25 | 21742.39 | 21665.67 | 21688.54 |  8160.189 | 1.678349e+12 |\n",
       "| 5 | 1.678349e+12 | 21688.54 | 21698.38 | 21602.00 | 21681.52 | 15335.283 | 1.678352e+12 |\n",
       "| 6 | 1.678352e+12 | 21682.31 | 21700.00 | 21585.00 | 21641.58 | 12338.106 | 1.678356e+12 |\n",
       "\n"
      ],
      "text/plain": [
       "  Open_time    Open     High     Low      Close    Volume    Close_time  \n",
       "1 1.678334e+12 21770.37 21774.69 21720.11 21740.43  5953.715 1.678338e+12\n",
       "2 1.678338e+12 21740.39 21761.33 21728.00 21738.93  5857.404 1.678342e+12\n",
       "3 1.678342e+12 21738.93 21746.04 21683.49 21741.80  7890.856 1.678345e+12\n",
       "4 1.678345e+12 21741.25 21742.39 21665.67 21688.54  8160.189 1.678349e+12\n",
       "5 1.678349e+12 21688.54 21698.38 21602.00 21681.52 15335.283 1.678352e+12\n",
       "6 1.678352e+12 21682.31 21700.00 21585.00 21641.58 12338.106 1.678356e+12"
      ]
     },
     "metadata": {},
     "output_type": "display_data"
    }
   ],
   "source": [
    "data <- as.data.frame(sapply(data, as.numeric)) # convert all columns to numeric\n",
    "head(data) # good, its double now"
   ]
  },
  {
   "cell_type": "markdown",
   "id": "99a2fb44",
   "metadata": {},
   "source": [
    "Final stage is to convert `Open_time` and `Close_time` to dates."
   ]
  },
  {
   "cell_type": "code",
   "execution_count": 8,
   "id": "ff468404",
   "metadata": {},
   "outputs": [
    {
     "data": {
      "text/html": [
       "<table class=\"dataframe\">\n",
       "<caption>A data.frame: 6 × 7</caption>\n",
       "<thead>\n",
       "\t<tr><th></th><th scope=col>Open_time</th><th scope=col>Open</th><th scope=col>High</th><th scope=col>Low</th><th scope=col>Close</th><th scope=col>Volume</th><th scope=col>Close_time</th></tr>\n",
       "\t<tr><th></th><th scope=col>&lt;dttm&gt;</th><th scope=col>&lt;dbl&gt;</th><th scope=col>&lt;dbl&gt;</th><th scope=col>&lt;dbl&gt;</th><th scope=col>&lt;dbl&gt;</th><th scope=col>&lt;dbl&gt;</th><th scope=col>&lt;dttm&gt;</th></tr>\n",
       "</thead>\n",
       "<tbody>\n",
       "\t<tr><th scope=row>1</th><td>2023-03-09 06:00:00</td><td>21770.37</td><td>21774.69</td><td>21720.11</td><td>21740.43</td><td> 5953.715</td><td>2023-03-09 06:59:59</td></tr>\n",
       "\t<tr><th scope=row>2</th><td>2023-03-09 07:00:00</td><td>21740.39</td><td>21761.33</td><td>21728.00</td><td>21738.93</td><td> 5857.404</td><td>2023-03-09 07:59:59</td></tr>\n",
       "\t<tr><th scope=row>3</th><td>2023-03-09 08:00:00</td><td>21738.93</td><td>21746.04</td><td>21683.49</td><td>21741.80</td><td> 7890.856</td><td>2023-03-09 08:59:59</td></tr>\n",
       "\t<tr><th scope=row>4</th><td>2023-03-09 09:00:00</td><td>21741.25</td><td>21742.39</td><td>21665.67</td><td>21688.54</td><td> 8160.189</td><td>2023-03-09 09:59:59</td></tr>\n",
       "\t<tr><th scope=row>5</th><td>2023-03-09 10:00:00</td><td>21688.54</td><td>21698.38</td><td>21602.00</td><td>21681.52</td><td>15335.283</td><td>2023-03-09 10:59:59</td></tr>\n",
       "\t<tr><th scope=row>6</th><td>2023-03-09 11:00:00</td><td>21682.31</td><td>21700.00</td><td>21585.00</td><td>21641.58</td><td>12338.106</td><td>2023-03-09 11:59:59</td></tr>\n",
       "</tbody>\n",
       "</table>\n"
      ],
      "text/latex": [
       "A data.frame: 6 × 7\n",
       "\\begin{tabular}{r|lllllll}\n",
       "  & Open\\_time & Open & High & Low & Close & Volume & Close\\_time\\\\\n",
       "  & <dttm> & <dbl> & <dbl> & <dbl> & <dbl> & <dbl> & <dttm>\\\\\n",
       "\\hline\n",
       "\t1 & 2023-03-09 06:00:00 & 21770.37 & 21774.69 & 21720.11 & 21740.43 &  5953.715 & 2023-03-09 06:59:59\\\\\n",
       "\t2 & 2023-03-09 07:00:00 & 21740.39 & 21761.33 & 21728.00 & 21738.93 &  5857.404 & 2023-03-09 07:59:59\\\\\n",
       "\t3 & 2023-03-09 08:00:00 & 21738.93 & 21746.04 & 21683.49 & 21741.80 &  7890.856 & 2023-03-09 08:59:59\\\\\n",
       "\t4 & 2023-03-09 09:00:00 & 21741.25 & 21742.39 & 21665.67 & 21688.54 &  8160.189 & 2023-03-09 09:59:59\\\\\n",
       "\t5 & 2023-03-09 10:00:00 & 21688.54 & 21698.38 & 21602.00 & 21681.52 & 15335.283 & 2023-03-09 10:59:59\\\\\n",
       "\t6 & 2023-03-09 11:00:00 & 21682.31 & 21700.00 & 21585.00 & 21641.58 & 12338.106 & 2023-03-09 11:59:59\\\\\n",
       "\\end{tabular}\n"
      ],
      "text/markdown": [
       "\n",
       "A data.frame: 6 × 7\n",
       "\n",
       "| <!--/--> | Open_time &lt;dttm&gt; | Open &lt;dbl&gt; | High &lt;dbl&gt; | Low &lt;dbl&gt; | Close &lt;dbl&gt; | Volume &lt;dbl&gt; | Close_time &lt;dttm&gt; |\n",
       "|---|---|---|---|---|---|---|---|\n",
       "| 1 | 2023-03-09 06:00:00 | 21770.37 | 21774.69 | 21720.11 | 21740.43 |  5953.715 | 2023-03-09 06:59:59 |\n",
       "| 2 | 2023-03-09 07:00:00 | 21740.39 | 21761.33 | 21728.00 | 21738.93 |  5857.404 | 2023-03-09 07:59:59 |\n",
       "| 3 | 2023-03-09 08:00:00 | 21738.93 | 21746.04 | 21683.49 | 21741.80 |  7890.856 | 2023-03-09 08:59:59 |\n",
       "| 4 | 2023-03-09 09:00:00 | 21741.25 | 21742.39 | 21665.67 | 21688.54 |  8160.189 | 2023-03-09 09:59:59 |\n",
       "| 5 | 2023-03-09 10:00:00 | 21688.54 | 21698.38 | 21602.00 | 21681.52 | 15335.283 | 2023-03-09 10:59:59 |\n",
       "| 6 | 2023-03-09 11:00:00 | 21682.31 | 21700.00 | 21585.00 | 21641.58 | 12338.106 | 2023-03-09 11:59:59 |\n",
       "\n"
      ],
      "text/plain": [
       "  Open_time           Open     High     Low      Close    Volume   \n",
       "1 2023-03-09 06:00:00 21770.37 21774.69 21720.11 21740.43  5953.715\n",
       "2 2023-03-09 07:00:00 21740.39 21761.33 21728.00 21738.93  5857.404\n",
       "3 2023-03-09 08:00:00 21738.93 21746.04 21683.49 21741.80  7890.856\n",
       "4 2023-03-09 09:00:00 21741.25 21742.39 21665.67 21688.54  8160.189\n",
       "5 2023-03-09 10:00:00 21688.54 21698.38 21602.00 21681.52 15335.283\n",
       "6 2023-03-09 11:00:00 21682.31 21700.00 21585.00 21641.58 12338.106\n",
       "  Close_time         \n",
       "1 2023-03-09 06:59:59\n",
       "2 2023-03-09 07:59:59\n",
       "3 2023-03-09 08:59:59\n",
       "4 2023-03-09 09:59:59\n",
       "5 2023-03-09 10:59:59\n",
       "6 2023-03-09 11:59:59"
      ]
     },
     "metadata": {},
     "output_type": "display_data"
    }
   ],
   "source": [
    "data$Open_time <- as.POSIXct(data$Open_time/1e3, origin = '1970-01-01')\n",
    "data$Close_time <- as.POSIXct(data$Close_time/1e3, origin = '1970-01-01')\n",
    "\n",
    "head(data) "
   ]
  },
  {
   "cell_type": "code",
   "execution_count": 9,
   "id": "d15735de",
   "metadata": {},
   "outputs": [
    {
     "data": {
      "text/html": [
       "<table class=\"dataframe\">\n",
       "<caption>A data.frame: 6 × 7</caption>\n",
       "<thead>\n",
       "\t<tr><th></th><th scope=col>Open_time</th><th scope=col>Open</th><th scope=col>High</th><th scope=col>Low</th><th scope=col>Close</th><th scope=col>Volume</th><th scope=col>Close_time</th></tr>\n",
       "\t<tr><th></th><th scope=col>&lt;dttm&gt;</th><th scope=col>&lt;dbl&gt;</th><th scope=col>&lt;dbl&gt;</th><th scope=col>&lt;dbl&gt;</th><th scope=col>&lt;dbl&gt;</th><th scope=col>&lt;dbl&gt;</th><th scope=col>&lt;dttm&gt;</th></tr>\n",
       "</thead>\n",
       "<tbody>\n",
       "\t<tr><th scope=row>95</th><td>2023-03-13 04:00:00</td><td>22295.40</td><td>22356.80</td><td>22066.40</td><td>22182.01</td><td>23006.55</td><td>2023-03-13 04:59:59</td></tr>\n",
       "\t<tr><th scope=row>96</th><td>2023-03-13 05:00:00</td><td>22182.65</td><td>22282.40</td><td>22114.39</td><td>22231.62</td><td>15593.28</td><td>2023-03-13 05:59:59</td></tr>\n",
       "\t<tr><th scope=row>97</th><td>2023-03-13 06:00:00</td><td>22232.76</td><td>22459.62</td><td>22222.88</td><td>22320.07</td><td>18986.77</td><td>2023-03-13 06:59:59</td></tr>\n",
       "\t<tr><th scope=row>98</th><td>2023-03-13 07:00:00</td><td>22320.07</td><td>22402.29</td><td>22285.30</td><td>22397.11</td><td>13248.24</td><td>2023-03-13 07:59:59</td></tr>\n",
       "\t<tr><th scope=row>99</th><td>2023-03-13 08:00:00</td><td>22397.11</td><td>22506.00</td><td>22245.00</td><td>22381.90</td><td>16172.57</td><td>2023-03-13 08:59:59</td></tr>\n",
       "\t<tr><th scope=row>100</th><td>2023-03-13 09:00:00</td><td>22381.11</td><td>22495.00</td><td>22319.06</td><td>22483.91</td><td>16428.85</td><td>2023-03-13 09:59:59</td></tr>\n",
       "</tbody>\n",
       "</table>\n"
      ],
      "text/latex": [
       "A data.frame: 6 × 7\n",
       "\\begin{tabular}{r|lllllll}\n",
       "  & Open\\_time & Open & High & Low & Close & Volume & Close\\_time\\\\\n",
       "  & <dttm> & <dbl> & <dbl> & <dbl> & <dbl> & <dbl> & <dttm>\\\\\n",
       "\\hline\n",
       "\t95 & 2023-03-13 04:00:00 & 22295.40 & 22356.80 & 22066.40 & 22182.01 & 23006.55 & 2023-03-13 04:59:59\\\\\n",
       "\t96 & 2023-03-13 05:00:00 & 22182.65 & 22282.40 & 22114.39 & 22231.62 & 15593.28 & 2023-03-13 05:59:59\\\\\n",
       "\t97 & 2023-03-13 06:00:00 & 22232.76 & 22459.62 & 22222.88 & 22320.07 & 18986.77 & 2023-03-13 06:59:59\\\\\n",
       "\t98 & 2023-03-13 07:00:00 & 22320.07 & 22402.29 & 22285.30 & 22397.11 & 13248.24 & 2023-03-13 07:59:59\\\\\n",
       "\t99 & 2023-03-13 08:00:00 & 22397.11 & 22506.00 & 22245.00 & 22381.90 & 16172.57 & 2023-03-13 08:59:59\\\\\n",
       "\t100 & 2023-03-13 09:00:00 & 22381.11 & 22495.00 & 22319.06 & 22483.91 & 16428.85 & 2023-03-13 09:59:59\\\\\n",
       "\\end{tabular}\n"
      ],
      "text/markdown": [
       "\n",
       "A data.frame: 6 × 7\n",
       "\n",
       "| <!--/--> | Open_time &lt;dttm&gt; | Open &lt;dbl&gt; | High &lt;dbl&gt; | Low &lt;dbl&gt; | Close &lt;dbl&gt; | Volume &lt;dbl&gt; | Close_time &lt;dttm&gt; |\n",
       "|---|---|---|---|---|---|---|---|\n",
       "| 95 | 2023-03-13 04:00:00 | 22295.40 | 22356.80 | 22066.40 | 22182.01 | 23006.55 | 2023-03-13 04:59:59 |\n",
       "| 96 | 2023-03-13 05:00:00 | 22182.65 | 22282.40 | 22114.39 | 22231.62 | 15593.28 | 2023-03-13 05:59:59 |\n",
       "| 97 | 2023-03-13 06:00:00 | 22232.76 | 22459.62 | 22222.88 | 22320.07 | 18986.77 | 2023-03-13 06:59:59 |\n",
       "| 98 | 2023-03-13 07:00:00 | 22320.07 | 22402.29 | 22285.30 | 22397.11 | 13248.24 | 2023-03-13 07:59:59 |\n",
       "| 99 | 2023-03-13 08:00:00 | 22397.11 | 22506.00 | 22245.00 | 22381.90 | 16172.57 | 2023-03-13 08:59:59 |\n",
       "| 100 | 2023-03-13 09:00:00 | 22381.11 | 22495.00 | 22319.06 | 22483.91 | 16428.85 | 2023-03-13 09:59:59 |\n",
       "\n"
      ],
      "text/plain": [
       "    Open_time           Open     High     Low      Close    Volume  \n",
       "95  2023-03-13 04:00:00 22295.40 22356.80 22066.40 22182.01 23006.55\n",
       "96  2023-03-13 05:00:00 22182.65 22282.40 22114.39 22231.62 15593.28\n",
       "97  2023-03-13 06:00:00 22232.76 22459.62 22222.88 22320.07 18986.77\n",
       "98  2023-03-13 07:00:00 22320.07 22402.29 22285.30 22397.11 13248.24\n",
       "99  2023-03-13 08:00:00 22397.11 22506.00 22245.00 22381.90 16172.57\n",
       "100 2023-03-13 09:00:00 22381.11 22495.00 22319.06 22483.91 16428.85\n",
       "    Close_time         \n",
       "95  2023-03-13 04:59:59\n",
       "96  2023-03-13 05:59:59\n",
       "97  2023-03-13 06:59:59\n",
       "98  2023-03-13 07:59:59\n",
       "99  2023-03-13 08:59:59\n",
       "100 2023-03-13 09:59:59"
      ]
     },
     "metadata": {},
     "output_type": "display_data"
    }
   ],
   "source": [
    "tail(data) # check last records"
   ]
  },
  {
   "cell_type": "markdown",
   "id": "4c6cd358",
   "metadata": {},
   "source": [
    "# 5. Google Services"
   ]
  },
  {
   "cell_type": "markdown",
   "id": "c2e341bb",
   "metadata": {},
   "source": [
    "## 5.1. Spreadsheets"
   ]
  },
  {
   "cell_type": "markdown",
   "id": "6b40e3a7",
   "metadata": {},
   "source": [
    "> THIS CHAPTER IS UNDER CONSTRUCTION / Working with Google Spreadsheets need account authorization."
   ]
  },
  {
   "cell_type": "markdown",
   "id": "67bb8e04",
   "metadata": {},
   "source": [
    "googlesheets4 is a package to work with Google Sheets from R. "
   ]
  },
  {
   "cell_type": "code",
   "execution_count": null,
   "id": "6f3bd5c5",
   "metadata": {},
   "outputs": [],
   "source": [
    "#install.packages(\"googlesheets4\")\n",
    "library(googlesheets4)"
   ]
  },
  {
   "cell_type": "markdown",
   "id": "1d8183af",
   "metadata": {},
   "source": [
    "You can read google documents after authentification on google service. There is sample code:\n",
    "\n",
    "```\n",
    "read_sheet(\"https://docs.google.com/spreadsheets/d/1U6Cf_qEOhiR9AZqTqS3mbMF3zt2db48ZP5v3rkrAEJY/edit#gid=780868077\")\n",
    "gs4_deauth()\n",
    "```"
   ]
  },
  {
   "cell_type": "markdown",
   "id": "81584d58",
   "metadata": {},
   "source": [
    "Let's read sample dataset `gapminder`. It detailed described in next paragraph."
   ]
  },
  {
   "cell_type": "code",
   "execution_count": null,
   "id": "dd148f72",
   "metadata": {},
   "outputs": [],
   "source": [
    "gs4_example(\"gapminder\")"
   ]
  },
  {
   "cell_type": "markdown",
   "id": "f4ec09ca",
   "metadata": {},
   "source": [
    "## 5.2. Trends"
   ]
  },
  {
   "cell_type": "markdown",
   "id": "b02a0f92",
   "metadata": {},
   "source": [
    "**`Google Trends`** is a service for analyzing search requests by many filters like `region` (continent, country, locality), `period` (year, month), `information category` (business, education, hobby, healthcare), `information type` (news, shopping, video, images) https://trends.google.com/trends/"
   ]
  },
  {
   "cell_type": "markdown",
   "id": "36775784",
   "metadata": {},
   "source": []
  },
  {
   "cell_type": "code",
   "execution_count": null,
   "id": "484f78e2",
   "metadata": {},
   "outputs": [],
   "source": [
    "install.packages('gtrendsR')\n",
    "install.packages('ggplot2')\n",
    "library(gtrendsR) # loading package for Google Trends queries\n",
    "library(ggplot2)"
   ]
  },
  {
   "cell_type": "markdown",
   "id": "71522538",
   "metadata": {},
   "source": [
    "Let's configure out google trends query params"
   ]
  },
  {
   "cell_type": "code",
   "execution_count": null,
   "id": "73f63252",
   "metadata": {},
   "outputs": [],
   "source": [
    "keywords = c(\"Bitcoin\", \"FC Barcelona\") # search keywords\n",
    "country = c('AT') # search region from https://support.google.com/business/answer/6270107?hl=en\n",
    "time = (\"2021-01-01 2021-06-01\") # period\n",
    "channel = 'web' # search channel: google search ('news' - google news, 'images' - google images)"
   ]
  },
  {
   "cell_type": "code",
   "execution_count": null,
   "id": "4583db46",
   "metadata": {},
   "outputs": [],
   "source": [
    "# query\n",
    "trends = gtrends(keywords, gprop = channel, geo = country, time = time, tz = \"UTC\")"
   ]
  },
  {
   "cell_type": "code",
   "execution_count": null,
   "id": "59a1c513",
   "metadata": {},
   "outputs": [],
   "source": [
    "time_trend = trends$interest_over_time\n",
    "head(time_trend)"
   ]
  },
  {
   "cell_type": "code",
   "execution_count": null,
   "id": "3be82f04",
   "metadata": {},
   "outputs": [],
   "source": [
    "plot <- ggplot(data=time_trend, aes(x=date, y=hits, group=keyword, col=keyword)) +\n",
    "  geom_line() +\n",
    "  xlab('Time') + \n",
    "  ylab('Relative Interest') + \n",
    "  theme(legend.title = element_blank(), legend.position=\"bottom\", legend.text=element_text(size=15)) + \n",
    "  ggtitle(\"Google Search Volume\")  \n",
    "\n",
    "plot"
   ]
  },
  {
   "cell_type": "markdown",
   "id": "2e2712d4",
   "metadata": {},
   "source": [
    "---"
   ]
  },
  {
   "cell_type": "markdown",
   "id": "0e1539d1",
   "metadata": {},
   "source": [
    "# 6. SQL (SQLite sample)"
   ]
  },
  {
   "cell_type": "markdown",
   "id": "ceff6a8c",
   "metadata": {},
   "source": [
    "We are going to review working with database on SQLite, becouse it allows us not to install DB-server and start working with simple file. \n",
    "\n",
    "For now we will use `RSQLite` package."
   ]
  },
  {
   "cell_type": "code",
   "execution_count": null,
   "id": "8c420cad",
   "metadata": {},
   "outputs": [],
   "source": [
    "install.packages(\"RSQLite\")\n",
    "library(RSQLite)"
   ]
  },
  {
   "cell_type": "code",
   "execution_count": null,
   "id": "31ed526b",
   "metadata": {},
   "outputs": [],
   "source": [
    "# let's use mtcars dataset\n",
    "\n",
    "data(\"mtcars\") # loads the data\n",
    "head(mtcars) # preview the data"
   ]
  },
  {
   "cell_type": "code",
   "execution_count": null,
   "id": "2dfa9012",
   "metadata": {},
   "outputs": [],
   "source": [
    "# create new db file\n",
    "db_path = paste0(\"data/cars_.sqlite\")\n",
    "# create connection\n",
    "conn <- dbConnect(RSQLite::SQLite(), \n",
    "                    db_path,\n",
    "                    overwrite = TRUE, append = FALSE) # for lecture content only"
   ]
  },
  {
   "cell_type": "code",
   "execution_count": null,
   "id": "29c20292",
   "metadata": {},
   "outputs": [],
   "source": [
    "# Write the mtcars dataset into a table names mtcars_data\n",
    "dbWriteTable(conn, \"cars_table\", mtcars)\n",
    "# List all the tables available in the database\n",
    "dbListTables(conn)"
   ]
  },
  {
   "cell_type": "code",
   "execution_count": null,
   "id": "87c5780b",
   "metadata": {},
   "outputs": [],
   "source": [
    "table_data <- dbGetQuery(conn, \"SELECT * FROM cars_table\")\n",
    "head(table_data)"
   ]
  },
  {
   "cell_type": "code",
   "execution_count": null,
   "id": "d663e7ec",
   "metadata": {},
   "outputs": [],
   "source": [
    "# close connection\n",
    "dbDisconnect(conn)"
   ]
  },
  {
   "cell_type": "markdown",
   "id": "cceab256",
   "metadata": {},
   "source": [
    "You can write complex queries for many tables if you knowledge of SQL allows."
   ]
  },
  {
   "cell_type": "markdown",
   "id": "24545e2f",
   "metadata": {},
   "source": [
    "# 7. Web-pages (HTML)"
   ]
  },
  {
   "cell_type": "markdown",
   "id": "9d8293a7",
   "metadata": {},
   "source": [
    "Sometimes decision making needs scrap data from web sources and pages.\n",
    "\n",
    "Let's try to parse data from `Wikipedia` as table. \n",
    "\n"
   ]
  },
  {
   "cell_type": "code",
   "execution_count": null,
   "id": "8150d2a1",
   "metadata": {},
   "outputs": [],
   "source": [
    "install.packages(\"rvest\")\n",
    "library(rvest) # Parsing of HTML/XML files"
   ]
  },
  {
   "cell_type": "markdown",
   "id": "8d14e476",
   "metadata": {},
   "source": [
    "Go to web page https://en.wikipedia.org/wiki/List_of_largest_banks and check it."
   ]
  },
  {
   "cell_type": "code",
   "execution_count": null,
   "id": "ece191fc",
   "metadata": {},
   "outputs": [],
   "source": [
    "# fix URL\n",
    "url <- \"https://en.wikipedia.org/wiki/List_of_largest_banks\"\n",
    "url <- \"data/List of largest banks - Wikipedia_.html\""
   ]
  },
  {
   "cell_type": "code",
   "execution_count": null,
   "id": "3227cd88",
   "metadata": {},
   "outputs": [],
   "source": [
    "# read html content of the page\n",
    "page <- read_html(url)\n",
    "page"
   ]
  },
  {
   "cell_type": "code",
   "execution_count": null,
   "id": "e6b936b8",
   "metadata": {},
   "outputs": [],
   "source": [
    "# read all yables on page\n",
    "tables <- html_nodes(page, \"table\")\n",
    "tables"
   ]
  },
  {
   "cell_type": "markdown",
   "id": "3be6c448",
   "metadata": {},
   "source": [
    "For now, let's read a table of Total Assets in US Billion"
   ]
  },
  {
   "cell_type": "code",
   "execution_count": null,
   "id": "899f507b",
   "metadata": {},
   "outputs": [],
   "source": [
    "# with pipe operator\n",
    "#tables[2] %>% \n",
    " #   html_table(fill = TRUE) %>% \n",
    " #   as.data.frame()\n",
    "#without pipe operator\n",
    "assets_table <- as.data.frame(html_table(tables[2], fill = TRUE))   \n",
    "head(assets_table)"
   ]
  },
  {
   "cell_type": "markdown",
   "id": "94922e0a",
   "metadata": {},
   "source": [
    "Next is reading data of market capitalization table (4th):"
   ]
  },
  {
   "cell_type": "code",
   "execution_count": null,
   "id": "2e8081a0",
   "metadata": {},
   "outputs": [],
   "source": [
    "capital_table <- as.data.frame(html_table(tables[4], fill = TRUE))   \n",
    "head(capital_table)"
   ]
  },
  {
   "cell_type": "markdown",
   "id": "7594ba87",
   "metadata": {},
   "source": [
    "And now let's `merge()` this two datasets:"
   ]
  },
  {
   "cell_type": "code",
   "execution_count": null,
   "id": "a140775f",
   "metadata": {},
   "outputs": [],
   "source": [
    "merged_data <- merge(assets_table, capital_table, by = \"Bank.name\")\n",
    "head(merged_data)"
   ]
  },
  {
   "cell_type": "markdown",
   "id": "6f26a8d1",
   "metadata": {},
   "source": [
    "### Task 7.1"
   ]
  },
  {
   "cell_type": "markdown",
   "id": "16e086a8",
   "metadata": {},
   "source": [
    "From a page https://en.wikipedia.org/wiki/List_of_largest_banks read and `merge by country` named tables:\n",
    "\n",
    "- [x] Number of banks in the top 100 by total assets\n",
    "- [x] Total market capital (US$ billion) across the top 70 banks by country"
   ]
  },
  {
   "cell_type": "markdown",
   "id": "63a922e1",
   "metadata": {},
   "source": [
    "### Sulution"
   ]
  },
  {
   "cell_type": "code",
   "execution_count": null,
   "id": "982899f2",
   "metadata": {},
   "outputs": [],
   "source": [
    "library(rvest)\n",
    "url <- \"https://en.wikipedia.org/wiki/List_of_largest_banks\" # got to url in other tab\n",
    "url <- \"data/List of largest banks - Wikipedia_.html\"\n",
    "page_data <- read_html(url) # read html content\n",
    "\n",
    "tables <- html_nodes(page_data, \"table\")\n",
    "html_table(tables[1]) #its not needed table"
   ]
  },
  {
   "cell_type": "code",
   "execution_count": null,
   "id": "8a9a5a7d",
   "metadata": {},
   "outputs": [],
   "source": [
    "html_table(tables[3]) # thats solution for \"Number of banks in the top 100 by total assets\"\n",
    "#check the end of table. There are NA record\n",
    "# lets remove it"
   ]
  },
  {
   "cell_type": "code",
   "execution_count": null,
   "id": "1670e8a2",
   "metadata": {},
   "outputs": [],
   "source": [
    "table1 <- as.data.frame(html_table(tables[3]))\n",
    "table1 <- table1[!is.na(table1$Country), ]\n",
    "table1 # now it OK!"
   ]
  },
  {
   "cell_type": "code",
   "execution_count": null,
   "id": "20e9a05d",
   "metadata": {},
   "outputs": [],
   "source": [
    "# SOlution for \"Total market capital (US$ billion) across the top 70 banks by country\"\n",
    "# compare this with table on a given page\n",
    "table2 <- as.data.frame(html_table(tables[5]))\n",
    "table2 # now it OK!"
   ]
  },
  {
   "cell_type": "markdown",
   "id": "44b4185e",
   "metadata": {},
   "source": [
    "---"
   ]
  },
  {
   "cell_type": "markdown",
   "id": "e5f6def2",
   "metadata": {},
   "source": [
    "## References"
   ]
  },
  {
   "cell_type": "markdown",
   "id": "c158f38a",
   "metadata": {},
   "source": [
    "1. [SQLite in R. Datacamp](https://www.datacamp.com/community/tutorials/sqlite-in-r)\n",
    "2. [Tidyverse googlesheets4 0.2.0](https://www.tidyverse.org/blog/2020/05/googlesheets4-0-2-0/)\n",
    "3. [Telecom users dataset. Practice classification with a telco dataset.Kaggle](https://www.kaggle.com/radmirzosimov/telecom-users-dataset)\n",
    "4. [Binanace spot Api Docs](https://github.com/binance/binance-spot-api-docs/blob/master/rest-api.md#klinecandlestick-data)\n",
    "5. [Web Scraping in R: rvest Tutorial](https://www.datacamp.com/community/tutorials/r-web-scraping-rvest) by Arvid Kingl"
   ]
  }
 ],
 "metadata": {
  "kernelspec": {
   "display_name": "R",
   "language": "R",
   "name": "ir"
  },
  "language_info": {
   "codemirror_mode": "r",
   "file_extension": ".r",
   "mimetype": "text/x-r-source",
   "name": "R",
   "pygments_lexer": "r",
   "version": "4.1.3"
  }
 },
 "nbformat": 4,
 "nbformat_minor": 5
}
