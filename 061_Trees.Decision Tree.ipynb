{
 "cells": [
  {
   "cell_type": "markdown",
   "id": "c2414ff5",
   "metadata": {},
   "source": [
    "# Decision Tree. Classification. Part 1\n",
    "\n",
    "---\n",
    "\n",
    "## Trees based algorithms: Decision Tree, Random Forest, Gradient Boosting\n",
    "\n",
    "\n",
    "Applied Mathematical Modeling in Banking"
   ]
  },
  {
   "cell_type": "markdown",
   "id": "c7ced297",
   "metadata": {},
   "source": [
    "---"
   ]
  },
  {
   "cell_type": "markdown",
   "id": "38ba4cab-f8c1-4a6c-93ec-6e4bc5ccf798",
   "metadata": {},
   "source": [
    "У даній частині навчального процесу потрібно побудувати маматичні моделі класифікації клієнтів на основі алгоритму дерева рішень та перевірити їх на тестовій вибірці."
   ]
  },
  {
   "cell_type": "markdown",
   "id": "dfbdb084-395e-443d-a13b-d3a592ee5924",
   "metadata": {},
   "source": [
    "# 1. Dataset description"
   ]
  },
  {
   "cell_type": "markdown",
   "id": "3035bd37-1e16-4f9f-b8d1-fc905d4ea0fb",
   "metadata": {},
   "source": [
    "**Abstract**\n",
    "\n",
    "The data is related with direct marketing campaigns (phone calls) of a Portuguese banking institution. The classification goal is to predict if the client will subscribe a term deposit (variable y).\n",
    "\n"
   ]
  },
  {
   "cell_type": "markdown",
   "id": "b7460d15-5493-4c4a-851f-9b6332ecf025",
   "metadata": {},
   "source": [
    "**Data Set Information:**\n",
    "\n",
    "The data is related with direct marketing campaigns of a Portuguese banking institution. The marketing campaigns were based on phone calls. Often, more than one contact to the same client was required, in order to access if the product (bank term deposit) would be ('yes') or not ('no') subscribed.\n",
    "\n",
    "There are four datasets:\n",
    "1. bank-additional-full.csv with all examples (41188) and 20 inputs, ordered by date (from May 2008 to November 2010), very close to the data analyzed in [Moro et al., 2014]\n",
    "2. bank-additional.csv with 10% of the examples (4119), randomly selected from 1), and 20 inputs.\n",
    "3. bank-full.csv with all examples and 17 inputs, ordered by date (older version of this dataset with less inputs).\n",
    "4. bank.csv with 10% of the examples and 17 inputs, randomly selected from 3 (older version of this dataset with less inputs).\n",
    "\n",
    "The smallest datasets are provided to test more computationally demanding machine learning algorithms (e.g., SVM).\n",
    "\n",
    "The classification goal is to predict if the client will subscribe (`yes/no`) a term deposit (variable `y`)."
   ]
  },
  {
   "cell_type": "markdown",
   "id": "9d4e9df6-efb4-440c-a58a-54eb9c29eceb",
   "metadata": {},
   "source": [
    "**Attribute Information**\n",
    "\n",
    "\n",
    "**Input variables: bank client data:**\n",
    "\n",
    "|No|Title|Description|Data Type|Values|\n",
    "|---|---|---|---|---|\n",
    "|1|`age`||numeric||\n",
    "|2|`job`|type of job|categorical|'admin.', 'blue-collar', 'entrepreneur', 'housemaid', 'management', 'retired', 'self-employed', 'services', 'student', 'technician', 'unemployed', 'unknown'|\n",
    "|3|`marital`| marital status |categorical| 'divorced','married','single','unknown'; note: 'divorced' means divorced or widowed|\n",
    "|4|`education`| |categorical| 'basic.4y','basic.6y','basic.9y','high.school','illiterate','professional.course','university.degree','unknown'|\n",
    "|5|`default`| has credit in default? |categorical| 'no','yes','unknown'|\n",
    "|6|`housing`| has housing loan? |categorical| 'no','yes','unknown'|\n",
    "|7|`loan`| has personal loan? |categorical| 'no','yes','unknown'|\n",
    "\n",
    "\n",
    "**Input variables: related with the last contact of the current campaign:**\n",
    "\n",
    "|No|Title|Description|Data Type|Values|\n",
    "|---|---|---|---|---|\n",
    "|8| contact| contact communication type |categorical| 'cellular','telephone'|\n",
    "|9 | month| last contact month of year |categorical| 'jan', 'feb', 'mar', ..., 'nov', 'dec'|\n",
    "|10 | day_of_week| last contact day of the week |categorical|'mon','tue','wed','thu','fri'|\n",
    "|11 | duration| last contact duration, in seconds |numeric||. \n",
    "\n",
    "`duration` - **_Important note: this attribute highly affects the output target (e.g., if duration=0 then y='no'). Yet, the duration is not known before a call is performed. Also, after the end of the call y is obviously known. Thus, this \n",
    "input should only be included for benchmark purposes and should be discarded if the intention is to have a realistic predictive model._**\n",
    "\n",
    "**Input variables: other attributes:**\n",
    "\n",
    "|No|Title|Description|Data Type|Values|\n",
    "|---|---|---|---|---|\n",
    "|12 | `campaign`| number of contacts performed during this campaign and for this client |numeric| includes last contact||\n",
    "|13 | `pdays`|number of days that passed by after the client was last contacted from a previous campaign |numeric| 999 mean client was not previously contacted||\n",
    "|14 | `previous`| number of contacts performed before this campaign and for this client |numeric||\n",
    "|15 | `poutcome`| outcome of the previous marketing campaign |categorical| 'failure','nonexistent','success'|\n",
    "\n",
    "**Input variables: social and economic context attributes**\n",
    "\n",
    "|No|Title|Description|Data Type|Values|\n",
    "|---|---|---|---|---|\n",
    "|16 | `emp.var.rate`| employment variation rate - quarterly indicator |numeric||\n",
    "|17 | `cons.price.idx`| consumer price index - monthly indicator |numeric||\n",
    "|18 | `cons.conf.idx`| consumer confidence index - monthly indicator ||numeric||\n",
    "|19 | `euribor3m`| euribor 3 month rate - daily indicator |numeric||\n",
    "|20 | `nr.employed`|number of employees - quarterly indicator |numeric||\n",
    "\n",
    "**Output variable (desired target):**\n",
    "\n",
    "|No|Title|Description|Data Type|Values|\n",
    "|---|---|---|---|---|\n",
    "|21| `y` | has the client subscribed a term deposit? |binary| 'yes','no'|"
   ]
  },
  {
   "cell_type": "markdown",
   "id": "15d5b4a6-80d9-4886-b956-dc0f7d1bc17b",
   "metadata": {},
   "source": [
    "Source: https://archive.ics.uci.edu/ml/datasets/bank+marketing\n"
   ]
  },
  {
   "cell_type": "markdown",
   "id": "e5db6033-8516-4dda-8855-dbb14990b105",
   "metadata": {},
   "source": [
    "---"
   ]
  },
  {
   "cell_type": "markdown",
   "id": "fef1c310-f567-4448-837c-00ef5fa9f445",
   "metadata": {},
   "source": [
    "# 2. Data load and preview"
   ]
  },
  {
   "cell_type": "markdown",
   "id": "19fad9d6-a56f-4b7b-99d7-4fb0c7cc0890",
   "metadata": {},
   "source": [
    "Для початку завантажимо дані у змінну `data`:"
   ]
  },
  {
   "cell_type": "code",
   "execution_count": 16,
   "id": "151b1855-90c3-439f-b04a-862273781f0e",
   "metadata": {},
   "outputs": [],
   "source": [
    "data <- read.csv(\"data/banking.csv\", na.strings = c(\"\", \" \", \"NA\", \"NULL\"))\n",
    "#use + unknown with na.strings if you want to play with missing\n",
    "#data <- read.csv(\"data/banking.csv\", na.strings = c(\"\", \" \", \"NA\", \"NULL\", \"unknown\"))"
   ]
  },
  {
   "cell_type": "markdown",
   "id": "284648b7-32d5-4ea1-8afd-fce363aa38f0",
   "metadata": {},
   "source": [
    "Переглянемо структуру вибірки даних з `str()`:"
   ]
  },
  {
   "cell_type": "code",
   "execution_count": 17,
   "id": "95aabe1f-289e-4755-a56a-35d001e8434e",
   "metadata": {},
   "outputs": [
    {
     "name": "stdout",
     "output_type": "stream",
     "text": [
      "'data.frame':\t11162 obs. of  17 variables:\n",
      " $ age      : int  59 56 41 55 54 42 56 60 37 28 ...\n",
      " $ job      : chr  \"admin.\" \"admin.\" \"technician\" \"services\" ...\n",
      " $ marital  : chr  \"married\" \"married\" \"married\" \"married\" ...\n",
      " $ education: chr  \"secondary\" \"secondary\" \"secondary\" \"secondary\" ...\n",
      " $ default  : chr  \"no\" \"no\" \"no\" \"no\" ...\n",
      " $ balance  : int  2343 45 1270 2476 184 0 830 545 1 5090 ...\n",
      " $ housing  : chr  \"yes\" \"no\" \"yes\" \"yes\" ...\n",
      " $ loan     : chr  \"no\" \"no\" \"no\" \"no\" ...\n",
      " $ contact  : chr  \"unknown\" \"unknown\" \"unknown\" \"unknown\" ...\n",
      " $ day      : int  5 5 5 5 5 5 6 6 6 6 ...\n",
      " $ month    : chr  \"may\" \"may\" \"may\" \"may\" ...\n",
      " $ duration : int  1042 1467 1389 579 673 562 1201 1030 608 1297 ...\n",
      " $ campaign : int  1 1 1 1 2 2 1 1 1 3 ...\n",
      " $ pdays    : int  -1 -1 -1 -1 -1 -1 -1 -1 -1 -1 ...\n",
      " $ previous : int  0 0 0 0 0 0 0 0 0 0 ...\n",
      " $ poutcome : chr  \"unknown\" \"unknown\" \"unknown\" \"unknown\" ...\n",
      " $ deposit  : chr  \"yes\" \"yes\" \"yes\" \"yes\" ...\n"
     ]
    }
   ],
   "source": [
    "str(data)"
   ]
  },
  {
   "cell_type": "markdown",
   "id": "82b89b53-8926-40c6-b040-e7c919814b35",
   "metadata": {},
   "source": [
    "Переглянемо вигляд перших рядків даних з `head()`:"
   ]
  },
  {
   "cell_type": "code",
   "execution_count": 18,
   "id": "bd8d4025-ec37-4324-92f9-6109452c4f75",
   "metadata": {},
   "outputs": [
    {
     "data": {
      "text/html": [
       "<table class=\"dataframe\">\n",
       "<caption>A data.frame: 6 × 17</caption>\n",
       "<thead>\n",
       "\t<tr><th></th><th scope=col>age</th><th scope=col>job</th><th scope=col>marital</th><th scope=col>education</th><th scope=col>default</th><th scope=col>balance</th><th scope=col>housing</th><th scope=col>loan</th><th scope=col>contact</th><th scope=col>day</th><th scope=col>month</th><th scope=col>duration</th><th scope=col>campaign</th><th scope=col>pdays</th><th scope=col>previous</th><th scope=col>poutcome</th><th scope=col>deposit</th></tr>\n",
       "\t<tr><th></th><th scope=col>&lt;int&gt;</th><th scope=col>&lt;chr&gt;</th><th scope=col>&lt;chr&gt;</th><th scope=col>&lt;chr&gt;</th><th scope=col>&lt;chr&gt;</th><th scope=col>&lt;int&gt;</th><th scope=col>&lt;chr&gt;</th><th scope=col>&lt;chr&gt;</th><th scope=col>&lt;chr&gt;</th><th scope=col>&lt;int&gt;</th><th scope=col>&lt;chr&gt;</th><th scope=col>&lt;int&gt;</th><th scope=col>&lt;int&gt;</th><th scope=col>&lt;int&gt;</th><th scope=col>&lt;int&gt;</th><th scope=col>&lt;chr&gt;</th><th scope=col>&lt;chr&gt;</th></tr>\n",
       "</thead>\n",
       "<tbody>\n",
       "\t<tr><th scope=row>1</th><td>59</td><td>admin.    </td><td>married</td><td>secondary</td><td>no</td><td>2343</td><td>yes</td><td>no </td><td>unknown</td><td>5</td><td>may</td><td>1042</td><td>1</td><td>-1</td><td>0</td><td>unknown</td><td>yes</td></tr>\n",
       "\t<tr><th scope=row>2</th><td>56</td><td>admin.    </td><td>married</td><td>secondary</td><td>no</td><td>  45</td><td>no </td><td>no </td><td>unknown</td><td>5</td><td>may</td><td>1467</td><td>1</td><td>-1</td><td>0</td><td>unknown</td><td>yes</td></tr>\n",
       "\t<tr><th scope=row>3</th><td>41</td><td>technician</td><td>married</td><td>secondary</td><td>no</td><td>1270</td><td>yes</td><td>no </td><td>unknown</td><td>5</td><td>may</td><td>1389</td><td>1</td><td>-1</td><td>0</td><td>unknown</td><td>yes</td></tr>\n",
       "\t<tr><th scope=row>4</th><td>55</td><td>services  </td><td>married</td><td>secondary</td><td>no</td><td>2476</td><td>yes</td><td>no </td><td>unknown</td><td>5</td><td>may</td><td> 579</td><td>1</td><td>-1</td><td>0</td><td>unknown</td><td>yes</td></tr>\n",
       "\t<tr><th scope=row>5</th><td>54</td><td>admin.    </td><td>married</td><td>tertiary </td><td>no</td><td> 184</td><td>no </td><td>no </td><td>unknown</td><td>5</td><td>may</td><td> 673</td><td>2</td><td>-1</td><td>0</td><td>unknown</td><td>yes</td></tr>\n",
       "\t<tr><th scope=row>6</th><td>42</td><td>management</td><td>single </td><td>tertiary </td><td>no</td><td>   0</td><td>yes</td><td>yes</td><td>unknown</td><td>5</td><td>may</td><td> 562</td><td>2</td><td>-1</td><td>0</td><td>unknown</td><td>yes</td></tr>\n",
       "</tbody>\n",
       "</table>\n"
      ],
      "text/latex": [
       "A data.frame: 6 × 17\n",
       "\\begin{tabular}{r|lllllllllllllllll}\n",
       "  & age & job & marital & education & default & balance & housing & loan & contact & day & month & duration & campaign & pdays & previous & poutcome & deposit\\\\\n",
       "  & <int> & <chr> & <chr> & <chr> & <chr> & <int> & <chr> & <chr> & <chr> & <int> & <chr> & <int> & <int> & <int> & <int> & <chr> & <chr>\\\\\n",
       "\\hline\n",
       "\t1 & 59 & admin.     & married & secondary & no & 2343 & yes & no  & unknown & 5 & may & 1042 & 1 & -1 & 0 & unknown & yes\\\\\n",
       "\t2 & 56 & admin.     & married & secondary & no &   45 & no  & no  & unknown & 5 & may & 1467 & 1 & -1 & 0 & unknown & yes\\\\\n",
       "\t3 & 41 & technician & married & secondary & no & 1270 & yes & no  & unknown & 5 & may & 1389 & 1 & -1 & 0 & unknown & yes\\\\\n",
       "\t4 & 55 & services   & married & secondary & no & 2476 & yes & no  & unknown & 5 & may &  579 & 1 & -1 & 0 & unknown & yes\\\\\n",
       "\t5 & 54 & admin.     & married & tertiary  & no &  184 & no  & no  & unknown & 5 & may &  673 & 2 & -1 & 0 & unknown & yes\\\\\n",
       "\t6 & 42 & management & single  & tertiary  & no &    0 & yes & yes & unknown & 5 & may &  562 & 2 & -1 & 0 & unknown & yes\\\\\n",
       "\\end{tabular}\n"
      ],
      "text/markdown": [
       "\n",
       "A data.frame: 6 × 17\n",
       "\n",
       "| <!--/--> | age &lt;int&gt; | job &lt;chr&gt; | marital &lt;chr&gt; | education &lt;chr&gt; | default &lt;chr&gt; | balance &lt;int&gt; | housing &lt;chr&gt; | loan &lt;chr&gt; | contact &lt;chr&gt; | day &lt;int&gt; | month &lt;chr&gt; | duration &lt;int&gt; | campaign &lt;int&gt; | pdays &lt;int&gt; | previous &lt;int&gt; | poutcome &lt;chr&gt; | deposit &lt;chr&gt; |\n",
       "|---|---|---|---|---|---|---|---|---|---|---|---|---|---|---|---|---|---|\n",
       "| 1 | 59 | admin.     | married | secondary | no | 2343 | yes | no  | unknown | 5 | may | 1042 | 1 | -1 | 0 | unknown | yes |\n",
       "| 2 | 56 | admin.     | married | secondary | no |   45 | no  | no  | unknown | 5 | may | 1467 | 1 | -1 | 0 | unknown | yes |\n",
       "| 3 | 41 | technician | married | secondary | no | 1270 | yes | no  | unknown | 5 | may | 1389 | 1 | -1 | 0 | unknown | yes |\n",
       "| 4 | 55 | services   | married | secondary | no | 2476 | yes | no  | unknown | 5 | may |  579 | 1 | -1 | 0 | unknown | yes |\n",
       "| 5 | 54 | admin.     | married | tertiary  | no |  184 | no  | no  | unknown | 5 | may |  673 | 2 | -1 | 0 | unknown | yes |\n",
       "| 6 | 42 | management | single  | tertiary  | no |    0 | yes | yes | unknown | 5 | may |  562 | 2 | -1 | 0 | unknown | yes |\n",
       "\n"
      ],
      "text/plain": [
       "  age job        marital education default balance housing loan contact day\n",
       "1 59  admin.     married secondary no      2343    yes     no   unknown 5  \n",
       "2 56  admin.     married secondary no        45    no      no   unknown 5  \n",
       "3 41  technician married secondary no      1270    yes     no   unknown 5  \n",
       "4 55  services   married secondary no      2476    yes     no   unknown 5  \n",
       "5 54  admin.     married tertiary  no       184    no      no   unknown 5  \n",
       "6 42  management single  tertiary  no         0    yes     yes  unknown 5  \n",
       "  month duration campaign pdays previous poutcome deposit\n",
       "1 may   1042     1        -1    0        unknown  yes    \n",
       "2 may   1467     1        -1    0        unknown  yes    \n",
       "3 may   1389     1        -1    0        unknown  yes    \n",
       "4 may    579     1        -1    0        unknown  yes    \n",
       "5 may    673     2        -1    0        unknown  yes    \n",
       "6 may    562     2        -1    0        unknown  yes    "
      ]
     },
     "metadata": {},
     "output_type": "display_data"
    }
   ],
   "source": [
    "head(data)"
   ]
  },
  {
   "cell_type": "markdown",
   "id": "1aa50ff8-7c70-4942-89fd-9d164c5c4212",
   "metadata": {},
   "source": [
    "Описова статистика факторів:"
   ]
  },
  {
   "cell_type": "code",
   "execution_count": 19,
   "id": "8cfdf04b-5c18-4f62-9afe-0206498e5d79",
   "metadata": {},
   "outputs": [
    {
     "data": {
      "text/plain": [
       "      age            job              marital           education        \n",
       " Min.   :18.00   Length:11162       Length:11162       Length:11162      \n",
       " 1st Qu.:32.00   Class :character   Class :character   Class :character  \n",
       " Median :39.00   Mode  :character   Mode  :character   Mode  :character  \n",
       " Mean   :41.23                                                           \n",
       " 3rd Qu.:49.00                                                           \n",
       " Max.   :95.00                                                           \n",
       "   default             balance        housing              loan          \n",
       " Length:11162       Min.   :-6847   Length:11162       Length:11162      \n",
       " Class :character   1st Qu.:  122   Class :character   Class :character  \n",
       " Mode  :character   Median :  550   Mode  :character   Mode  :character  \n",
       "                    Mean   : 1529                                        \n",
       "                    3rd Qu.: 1708                                        \n",
       "                    Max.   :81204                                        \n",
       "   contact               day           month              duration   \n",
       " Length:11162       Min.   : 1.00   Length:11162       Min.   :   2  \n",
       " Class :character   1st Qu.: 8.00   Class :character   1st Qu.: 138  \n",
       " Mode  :character   Median :15.00   Mode  :character   Median : 255  \n",
       "                    Mean   :15.66                      Mean   : 372  \n",
       "                    3rd Qu.:22.00                      3rd Qu.: 496  \n",
       "                    Max.   :31.00                      Max.   :3881  \n",
       "    campaign          pdays           previous         poutcome        \n",
       " Min.   : 1.000   Min.   : -1.00   Min.   : 0.0000   Length:11162      \n",
       " 1st Qu.: 1.000   1st Qu.: -1.00   1st Qu.: 0.0000   Class :character  \n",
       " Median : 2.000   Median : -1.00   Median : 0.0000   Mode  :character  \n",
       " Mean   : 2.508   Mean   : 51.33   Mean   : 0.8326                     \n",
       " 3rd Qu.: 3.000   3rd Qu.: 20.75   3rd Qu.: 1.0000                     \n",
       " Max.   :63.000   Max.   :854.00   Max.   :58.0000                     \n",
       "   deposit         \n",
       " Length:11162      \n",
       " Class :character  \n",
       " Mode  :character  \n",
       "                   \n",
       "                   \n",
       "                   "
      ]
     },
     "metadata": {},
     "output_type": "display_data"
    }
   ],
   "source": [
    "summary(data)"
   ]
  },
  {
   "cell_type": "markdown",
   "id": "7de6f152-45f2-425f-a3b1-8c9928bcc51c",
   "metadata": {},
   "source": [
    "Перевіримо вибірку на наявність пропусків:"
   ]
  },
  {
   "cell_type": "code",
   "execution_count": 22,
   "id": "628f1ecd-7bba-406e-8951-78000f5c850d",
   "metadata": {},
   "outputs": [
    {
     "name": "stdout",
     "output_type": "stream",
     "text": [
      " /\\     /\\\n",
      "{  `---'  }\n",
      "{  O   O  }\n",
      "==>  V <==  No need for mice. This data set is completely observed.\n",
      " \\  \\|/  /\n",
      "  `-----'\n",
      "\n"
     ]
    },
    {
     "data": {
      "text/html": [
       "<table class=\"dataframe\">\n",
       "<caption>A matrix: 2 × 18 of type dbl</caption>\n",
       "<thead>\n",
       "\t<tr><th></th><th scope=col>age</th><th scope=col>job</th><th scope=col>marital</th><th scope=col>education</th><th scope=col>default</th><th scope=col>balance</th><th scope=col>housing</th><th scope=col>loan</th><th scope=col>contact</th><th scope=col>day</th><th scope=col>month</th><th scope=col>duration</th><th scope=col>campaign</th><th scope=col>pdays</th><th scope=col>previous</th><th scope=col>poutcome</th><th scope=col>deposit</th><th scope=col></th></tr>\n",
       "</thead>\n",
       "<tbody>\n",
       "\t<tr><th scope=row>11162</th><td>1</td><td>1</td><td>1</td><td>1</td><td>1</td><td>1</td><td>1</td><td>1</td><td>1</td><td>1</td><td>1</td><td>1</td><td>1</td><td>1</td><td>1</td><td>1</td><td>1</td><td>0</td></tr>\n",
       "\t<tr><th scope=row></th><td>0</td><td>0</td><td>0</td><td>0</td><td>0</td><td>0</td><td>0</td><td>0</td><td>0</td><td>0</td><td>0</td><td>0</td><td>0</td><td>0</td><td>0</td><td>0</td><td>0</td><td>0</td></tr>\n",
       "</tbody>\n",
       "</table>\n"
      ],
      "text/latex": [
       "A matrix: 2 × 18 of type dbl\n",
       "\\begin{tabular}{r|llllllllllllllllll}\n",
       "  & age & job & marital & education & default & balance & housing & loan & contact & day & month & duration & campaign & pdays & previous & poutcome & deposit & \\\\\n",
       "\\hline\n",
       "\t11162 & 1 & 1 & 1 & 1 & 1 & 1 & 1 & 1 & 1 & 1 & 1 & 1 & 1 & 1 & 1 & 1 & 1 & 0\\\\\n",
       "\t & 0 & 0 & 0 & 0 & 0 & 0 & 0 & 0 & 0 & 0 & 0 & 0 & 0 & 0 & 0 & 0 & 0 & 0\\\\\n",
       "\\end{tabular}\n"
      ],
      "text/markdown": [
       "\n",
       "A matrix: 2 × 18 of type dbl\n",
       "\n",
       "| <!--/--> | age | job | marital | education | default | balance | housing | loan | contact | day | month | duration | campaign | pdays | previous | poutcome | deposit | <!----> |\n",
       "|---|---|---|---|---|---|---|---|---|---|---|---|---|---|---|---|---|---|---|\n",
       "| 11162 | 1 | 1 | 1 | 1 | 1 | 1 | 1 | 1 | 1 | 1 | 1 | 1 | 1 | 1 | 1 | 1 | 1 | 0 |\n",
       "| <!----> | 0 | 0 | 0 | 0 | 0 | 0 | 0 | 0 | 0 | 0 | 0 | 0 | 0 | 0 | 0 | 0 | 0 | 0 |\n",
       "\n"
      ],
      "text/plain": [
       "      age job marital education default balance housing loan contact day month\n",
       "11162 1   1   1       1         1       1       1       1    1       1   1    \n",
       "      0   0   0       0         0       0       0       0    0       0   0    \n",
       "      duration campaign pdays previous poutcome deposit  \n",
       "11162 1        1        1     1        1        1       0\n",
       "      0        0        0     0        0        0       0"
      ]
     },
     "metadata": {},
     "output_type": "display_data"
    },
    {
     "data": {
      "image/png": "[encoded data removed]",
      "text/plain": [
       "plot without title"
      ]
     },
     "metadata": {
      "image/png": {
       "height": 420,
       "width": 420
      }
     },
     "output_type": "display_data"
    }
   ],
   "source": [
    "library(mice)\n",
    "md.pattern(data) # OK"
   ]
  },
  {
   "cell_type": "markdown",
   "id": "862fbfd3-6937-4fa6-9811-943889a96d8d",
   "metadata": {},
   "source": [
    "---"
   ]
  },
  {
   "cell_type": "markdown",
   "id": "37b128ee-ea34-43f0-9d7c-a52fb6db5e47",
   "metadata": {},
   "source": [
    "# 3. Data visualization"
   ]
  },
  {
   "cell_type": "markdown",
   "id": "65428409-a1c2-410a-a0a9-b93ce513edb8",
   "metadata": {},
   "source": [
    "**Вік клієнта (age):**"
   ]
  },
  {
   "cell_type": "code",
   "execution_count": 26,
   "id": "a5d37d38-931e-4a7b-8cae-eaf29ac4cc93",
   "metadata": {},
   "outputs": [
    {
     "data": {
      "image/png": "[encoded data removed]",
      "text/plain": [
       "plot without title"
      ]
     },
     "metadata": {
      "image/png": {
       "height": 420,
       "width": 420
      }
     },
     "output_type": "display_data"
    }
   ],
   "source": [
    "library(ggplot2)\n",
    "\n",
    "ggplot(data, aes(age)) + \n",
    "    geom_histogram(bins = 20, alpha = 0.5, fill = 'blue', color='black')  + \n",
    "    theme_bw()"
   ]
  },
  {
   "cell_type": "markdown",
   "id": "e7bcc865-0dc2-44bd-af14-03e59baa8573",
   "metadata": {},
   "source": [
    "**Робота клієнта (job):**"
   ]
  },
  {
   "cell_type": "code",
   "execution_count": 28,
   "id": "154a9d05-20db-43fb-b212-21e2f0c63fc5",
   "metadata": {},
   "outputs": [
    {
     "data": {
      "image/png": "[encoded data removed]",
      "text/plain": [
       "plot without title"
      ]
     },
     "metadata": {
      "image/png": {
       "height": 420,
       "width": 420
      }
     },
     "output_type": "display_data"
    }
   ],
   "source": [
    "ggplot(data, aes(job)) + \n",
    "    geom_bar(aes(fill = job)) + \n",
    "    theme_bw()"
   ]
  },
  {
   "cell_type": "code",
   "execution_count": 36,
   "id": "f56d489b-3460-4093-a753-dd7254751a5c",
   "metadata": {},
   "outputs": [
    {
     "name": "stdout",
     "output_type": "stream",
     "text": [
      "\n",
      " \n",
      "   Cell Contents\n",
      "|-------------------------|\n",
      "|                       N |\n",
      "| Chi-square contribution |\n",
      "|           N / Row Total |\n",
      "|           N / Col Total |\n",
      "|         N / Table Total |\n",
      "|-------------------------|\n",
      "\n",
      " \n",
      "Total Observations in Table:  11162 \n",
      "\n",
      " \n",
      "              | data$deposit \n",
      "     data$job |        no |       yes | Row Total | \n",
      "--------------|-----------|-----------|-----------|\n",
      "       admin. |       703 |       631 |      1334 | \n",
      "              |     0.002 |     0.002 |           | \n",
      "              |     0.527 |     0.473 |     0.120 | \n",
      "              |     0.120 |     0.119 |           | \n",
      "              |     0.063 |     0.057 |           | \n",
      "--------------|-----------|-----------|-----------|\n",
      "  blue-collar |      1236 |       708 |      1944 | \n",
      "              |    44.415 |    49.320 |           | \n",
      "              |     0.636 |     0.364 |     0.174 | \n",
      "              |     0.210 |     0.134 |           | \n",
      "              |     0.111 |     0.063 |           | \n",
      "--------------|-----------|-----------|-----------|\n",
      " entrepreneur |       205 |       123 |       328 | \n",
      "              |     6.090 |     6.762 |           | \n",
      "              |     0.625 |     0.375 |     0.029 | \n",
      "              |     0.035 |     0.023 |           | \n",
      "              |     0.018 |     0.011 |           | \n",
      "--------------|-----------|-----------|-----------|\n",
      "    housemaid |       165 |       109 |       274 | \n",
      "              |     3.010 |     3.343 |           | \n",
      "              |     0.602 |     0.398 |     0.025 | \n",
      "              |     0.028 |     0.021 |           | \n",
      "              |     0.015 |     0.010 |           | \n",
      "--------------|-----------|-----------|-----------|\n",
      "   management |      1265 |      1301 |      2566 | \n",
      "              |     5.367 |     5.960 |           | \n",
      "              |     0.493 |     0.507 |     0.230 | \n",
      "              |     0.215 |     0.246 |           | \n",
      "              |     0.113 |     0.117 |           | \n",
      "--------------|-----------|-----------|-----------|\n",
      "      retired |       262 |       516 |       778 | \n",
      "              |    53.042 |    58.899 |           | \n",
      "              |     0.337 |     0.663 |     0.070 | \n",
      "              |     0.045 |     0.098 |           | \n",
      "              |     0.023 |     0.046 |           | \n",
      "--------------|-----------|-----------|-----------|\n",
      "self-employed |       218 |       187 |       405 | \n",
      "              |     0.113 |     0.125 |           | \n",
      "              |     0.538 |     0.462 |     0.036 | \n",
      "              |     0.037 |     0.035 |           | \n",
      "              |     0.020 |     0.017 |           | \n",
      "--------------|-----------|-----------|-----------|\n",
      "     services |       554 |       369 |       923 | \n",
      "              |     9.621 |    10.683 |           | \n",
      "              |     0.600 |     0.400 |     0.083 | \n",
      "              |     0.094 |     0.070 |           | \n",
      "              |     0.050 |     0.033 |           | \n",
      "--------------|-----------|-----------|-----------|\n",
      "      student |        91 |       269 |       360 | \n",
      "              |    51.136 |    56.782 |           | \n",
      "              |     0.253 |     0.747 |     0.032 | \n",
      "              |     0.015 |     0.051 |           | \n",
      "              |     0.008 |     0.024 |           | \n",
      "--------------|-----------|-----------|-----------|\n",
      "   technician |       983 |       840 |      1823 | \n",
      "              |     0.591 |     0.656 |           | \n",
      "              |     0.539 |     0.461 |     0.163 | \n",
      "              |     0.167 |     0.159 |           | \n",
      "              |     0.088 |     0.075 |           | \n",
      "--------------|-----------|-----------|-----------|\n",
      "   unemployed |       155 |       202 |       357 | \n",
      "              |     5.741 |     6.375 |           | \n",
      "              |     0.434 |     0.566 |     0.032 | \n",
      "              |     0.026 |     0.038 |           | \n",
      "              |     0.014 |     0.018 |           | \n",
      "--------------|-----------|-----------|-----------|\n",
      "      unknown |        36 |        34 |        70 | \n",
      "              |     0.019 |     0.021 |           | \n",
      "              |     0.514 |     0.486 |     0.006 | \n",
      "              |     0.006 |     0.006 |           | \n",
      "              |     0.003 |     0.003 |           | \n",
      "--------------|-----------|-----------|-----------|\n",
      " Column Total |      5873 |      5289 |     11162 | \n",
      "              |     0.526 |     0.474 |           | \n",
      "--------------|-----------|-----------|-----------|\n",
      "\n",
      " \n"
     ]
    }
   ],
   "source": [
    "library(gmodels)\n",
    "CrossTable(data$job, data$deposit)\n",
    "# more loyal to deposits are management, retired, student, unemployed ))"
   ]
  },
  {
   "cell_type": "markdown",
   "id": "b15e68ed-32a8-488e-9d97-231710db04f4",
   "metadata": {},
   "source": [
    "**Сімейний статус (marital):**"
   ]
  },
  {
   "cell_type": "code",
   "execution_count": 32,
   "id": "c1c9a568-eda6-4482-b2b2-0e227372aa9e",
   "metadata": {},
   "outputs": [
    {
     "data": {
      "image/png": "[encoded data removed]",
      "text/plain": [
       "plot without title"
      ]
     },
     "metadata": {
      "image/png": {
       "height": 420,
       "width": 420
      }
     },
     "output_type": "display_data"
    }
   ],
   "source": [
    "ggplot(data, aes(marital)) + \n",
    "    geom_bar(aes(fill = marital)) + \n",
    "    theme_bw()"
   ]
  },
  {
   "cell_type": "code",
   "execution_count": 35,
   "id": "0ed052a1-2ab7-4fcd-8c1a-ca9e7bea38f7",
   "metadata": {},
   "outputs": [
    {
     "name": "stdout",
     "output_type": "stream",
     "text": [
      "\n",
      " \n",
      "   Cell Contents\n",
      "|-------------------------|\n",
      "|                       N |\n",
      "| Chi-square contribution |\n",
      "|           N / Row Total |\n",
      "|           N / Col Total |\n",
      "|         N / Table Total |\n",
      "|-------------------------|\n",
      "\n",
      " \n",
      "Total Observations in Table:  11162 \n",
      "\n",
      " \n",
      "             | data$deposit \n",
      "data$marital |        no |       yes | Row Total | \n",
      "-------------|-----------|-----------|-----------|\n",
      "    divorced |       671 |       622 |      1293 | \n",
      "             |     0.128 |     0.142 |           | \n",
      "             |     0.519 |     0.481 |     0.116 | \n",
      "             |     0.114 |     0.118 |           | \n",
      "             |     0.060 |     0.056 |           | \n",
      "-------------|-----------|-----------|-----------|\n",
      "     married |      3596 |      2755 |      6351 | \n",
      "             |    19.361 |    21.499 |           | \n",
      "             |     0.566 |     0.434 |     0.569 | \n",
      "             |     0.612 |     0.521 |           | \n",
      "             |     0.322 |     0.247 |           | \n",
      "-------------|-----------|-----------|-----------|\n",
      "      single |      1606 |      1912 |      3518 | \n",
      "             |    32.436 |    36.018 |           | \n",
      "             |     0.457 |     0.543 |     0.315 | \n",
      "             |     0.273 |     0.362 |           | \n",
      "             |     0.144 |     0.171 |           | \n",
      "-------------|-----------|-----------|-----------|\n",
      "Column Total |      5873 |      5289 |     11162 | \n",
      "             |     0.526 |     0.474 |           | \n",
      "-------------|-----------|-----------|-----------|\n",
      "\n",
      " \n"
     ]
    }
   ],
   "source": [
    "CrossTable(data$marital, data$deposit)\n",
    "# married are not very loyal to deposits\n",
    "# but singles is more loyal"
   ]
  },
  {
   "cell_type": "markdown",
   "id": "58668803-4109-4aba-9149-6637bf6291df",
   "metadata": {},
   "source": [
    "**Освіта (education):**"
   ]
  },
  {
   "cell_type": "code",
   "execution_count": 38,
   "id": "668be954-8193-4ec6-9cb2-22dd807a9d2b",
   "metadata": {},
   "outputs": [
    {
     "data": {
      "image/png": "[encoded data removed]",
      "text/plain": [
       "plot without title"
      ]
     },
     "metadata": {
      "image/png": {
       "height": 420,
       "width": 420
      }
     },
     "output_type": "display_data"
    }
   ],
   "source": [
    "ggplot(data, aes(education)) + \n",
    "    geom_bar(aes(fill = education)) + \n",
    "    theme_bw()"
   ]
  },
  {
   "cell_type": "code",
   "execution_count": 41,
   "id": "ad75c701-0f70-4d5d-964c-33a5466430da",
   "metadata": {},
   "outputs": [
    {
     "name": "stdout",
     "output_type": "stream",
     "text": [
      "\n",
      " \n",
      "   Cell Contents\n",
      "|-------------------------|\n",
      "|                       N |\n",
      "| Chi-square contribution |\n",
      "|           N / Row Total |\n",
      "|           N / Col Total |\n",
      "|         N / Table Total |\n",
      "|-------------------------|\n",
      "\n",
      " \n",
      "Total Observations in Table:  11162 \n",
      "\n",
      " \n",
      "               | data$deposit \n",
      "data$education |        no |       yes | Row Total | \n",
      "---------------|-----------|-----------|-----------|\n",
      "       primary |       909 |       591 |      1500 | \n",
      "               |    18.172 |    20.179 |           | \n",
      "               |     0.606 |     0.394 |     0.134 | \n",
      "               |     0.155 |     0.112 |           | \n",
      "               |     0.081 |     0.053 |           | \n",
      "---------------|-----------|-----------|-----------|\n",
      "     secondary |      3026 |      2450 |      5476 | \n",
      "               |     7.272 |     8.075 |           | \n",
      "               |     0.553 |     0.447 |     0.491 | \n",
      "               |     0.515 |     0.463 |           | \n",
      "               |     0.271 |     0.219 |           | \n",
      "---------------|-----------|-----------|-----------|\n",
      "      tertiary |      1693 |      1996 |      3689 | \n",
      "               |    31.688 |    35.187 |           | \n",
      "               |     0.459 |     0.541 |     0.330 | \n",
      "               |     0.288 |     0.377 |           | \n",
      "               |     0.152 |     0.179 |           | \n",
      "---------------|-----------|-----------|-----------|\n",
      "       unknown |       245 |       252 |       497 | \n",
      "               |     1.041 |     1.156 |           | \n",
      "               |     0.493 |     0.507 |     0.045 | \n",
      "               |     0.042 |     0.048 |           | \n",
      "               |     0.022 |     0.023 |           | \n",
      "---------------|-----------|-----------|-----------|\n",
      "  Column Total |      5873 |      5289 |     11162 | \n",
      "               |     0.526 |     0.474 |           | \n",
      "---------------|-----------|-----------|-----------|\n",
      "\n",
      " \n"
     ]
    }
   ],
   "source": [
    "CrossTable(data$education, data$deposit)\n",
    "# people with tertiary education is more loyal than other groups"
   ]
  },
  {
   "cell_type": "markdown",
   "id": "4cc4cb23-e777-4ece-b433-4e2cf43e6b7f",
   "metadata": {},
   "source": [
    "**Дефолт (default):**"
   ]
  },
  {
   "cell_type": "code",
   "execution_count": 43,
   "id": "fbd85d1f-e401-442b-bebb-770f8a58bd26",
   "metadata": {},
   "outputs": [
    {
     "data": {
      "image/png": "[encoded data removed]",
      "text/plain": [
       "plot without title"
      ]
     },
     "metadata": {
      "image/png": {
       "height": 420,
       "width": 420
      }
     },
     "output_type": "display_data"
    }
   ],
   "source": [
    "ggplot(data, aes(default)) + \n",
    "    geom_bar(aes(fill = default)) + \n",
    "    theme_bw()"
   ]
  },
  {
   "cell_type": "code",
   "execution_count": 46,
   "id": "98ad0ca8-c51f-4ffc-a57b-9de9750526ae",
   "metadata": {},
   "outputs": [
    {
     "name": "stdout",
     "output_type": "stream",
     "text": [
      "\n",
      " \n",
      "   Cell Contents\n",
      "|-------------------------|\n",
      "|                       N |\n",
      "| Chi-square contribution |\n",
      "|           N / Row Total |\n",
      "|           N / Col Total |\n",
      "|         N / Table Total |\n",
      "|-------------------------|\n",
      "\n",
      " \n",
      "Total Observations in Table:  11162 \n",
      "\n",
      " \n",
      "             | data$deposit \n",
      "data$default |        no |       yes | Row Total | \n",
      "-------------|-----------|-----------|-----------|\n",
      "          no |      5757 |      5237 |     10994 | \n",
      "             |     0.132 |     0.146 |           | \n",
      "             |     0.524 |     0.476 |     0.985 | \n",
      "             |     0.980 |     0.990 |           | \n",
      "             |     0.516 |     0.469 |           | \n",
      "-------------|-----------|-----------|-----------|\n",
      "         yes |       116 |        52 |       168 | \n",
      "             |     8.621 |     9.573 |           | \n",
      "             |     0.690 |     0.310 |     0.015 | \n",
      "             |     0.020 |     0.010 |           | \n",
      "             |     0.010 |     0.005 |           | \n",
      "-------------|-----------|-----------|-----------|\n",
      "Column Total |      5873 |      5289 |     11162 | \n",
      "             |     0.526 |     0.474 |           | \n",
      "-------------|-----------|-----------|-----------|\n",
      "\n",
      " \n"
     ]
    }
   ],
   "source": [
    "CrossTable(data$default, data$deposit)\n",
    "# defaults not very loyal to deposits, but why? ))))))"
   ]
  },
  {
   "cell_type": "markdown",
   "id": "bd091671-aef6-4ae5-86d0-9748e3c97015",
   "metadata": {},
   "source": [
    "**Баланс (balance):**"
   ]
  },
  {
   "cell_type": "code",
   "execution_count": 50,
   "id": "71ae28b6-87b4-4b2c-809d-060bee0abe1a",
   "metadata": {},
   "outputs": [
    {
     "data": {
      "image/png": "[encoded data removed]",
      "text/plain": [
       "plot without title"
      ]
     },
     "metadata": {
      "image/png": {
       "height": 420,
       "width": 420
      }
     },
     "output_type": "display_data"
    }
   ],
   "source": [
    "ggplot(data, aes(balance)) + \n",
    "    geom_histogram(bins = 30, alpha = 0.5, fill = 'blue', color='black')  + \n",
    "    theme_bw()\n",
    "\n",
    "# looks like balance data has outliers"
   ]
  },
  {
   "cell_type": "markdown",
   "id": "5c567266-8773-410b-84b5-b4bd53ddc0aa",
   "metadata": {},
   "source": [
    "**Наявність кредиту на житло (housing):**"
   ]
  },
  {
   "cell_type": "code",
   "execution_count": 52,
   "id": "dfdac807-d61e-4bd6-aeb7-c160a30ac157",
   "metadata": {},
   "outputs": [
    {
     "data": {
      "image/png": "[encoded data removed]",
      "text/plain": [
       "plot without title"
      ]
     },
     "metadata": {
      "image/png": {
       "height": 420,
       "width": 420
      }
     },
     "output_type": "display_data"
    }
   ],
   "source": [
    "ggplot(data, aes(housing)) + \n",
    "    geom_bar(aes(fill = housing)) + \n",
    "    theme_bw()"
   ]
  },
  {
   "cell_type": "code",
   "execution_count": 55,
   "id": "1f5692df-5fd3-42e3-90c1-1cb7cf4754a9",
   "metadata": {},
   "outputs": [
    {
     "name": "stdout",
     "output_type": "stream",
     "text": [
      "\n",
      " \n",
      "   Cell Contents\n",
      "|-------------------------|\n",
      "|                       N |\n",
      "| Chi-square contribution |\n",
      "|           N / Row Total |\n",
      "|           N / Col Total |\n",
      "|         N / Table Total |\n",
      "|-------------------------|\n",
      "\n",
      " \n",
      "Total Observations in Table:  11162 \n",
      "\n",
      " \n",
      "             | data$deposit \n",
      "data$housing |        no |       yes | Row Total | \n",
      "-------------|-----------|-----------|-----------|\n",
      "          no |      2527 |      3354 |      5881 | \n",
      "             |   104.023 |   115.509 |           | \n",
      "             |     0.430 |     0.570 |     0.527 | \n",
      "             |     0.430 |     0.634 |           | \n",
      "             |     0.226 |     0.300 |           | \n",
      "-------------|-----------|-----------|-----------|\n",
      "         yes |      3346 |      1935 |      5281 | \n",
      "             |   115.842 |   128.633 |           | \n",
      "             |     0.634 |     0.366 |     0.473 | \n",
      "             |     0.570 |     0.366 |           | \n",
      "             |     0.300 |     0.173 |           | \n",
      "-------------|-----------|-----------|-----------|\n",
      "Column Total |      5873 |      5289 |     11162 | \n",
      "             |     0.526 |     0.474 |           | \n",
      "-------------|-----------|-----------|-----------|\n",
      "\n",
      " \n"
     ]
    }
   ],
   "source": [
    "CrossTable(data$housing, data$deposit)\n",
    "# people without housing load logicaly more often can do deposits"
   ]
  },
  {
   "cell_type": "markdown",
   "id": "f8762e2a-2aad-4a52-a8b4-61bbe921f394",
   "metadata": {},
   "source": [
    "**Наявність позики (loan):**"
   ]
  },
  {
   "cell_type": "code",
   "execution_count": 57,
   "id": "4ab02007-08ea-4a17-a986-45a5168350e7",
   "metadata": {},
   "outputs": [
    {
     "data": {
      "image/png": "[encoded data removed]",
      "text/plain": [
       "plot without title"
      ]
     },
     "metadata": {
      "image/png": {
       "height": 420,
       "width": 420
      }
     },
     "output_type": "display_data"
    }
   ],
   "source": [
    "ggplot(data, aes(loan)) + \n",
    "    geom_bar(aes(fill = loan)) + \n",
    "    theme_bw()"
   ]
  },
  {
   "cell_type": "code",
   "execution_count": 59,
   "id": "e955db77-ae2e-4081-a490-edc730761e5f",
   "metadata": {},
   "outputs": [
    {
     "name": "stdout",
     "output_type": "stream",
     "text": [
      "\n",
      " \n",
      "   Cell Contents\n",
      "|-------------------------|\n",
      "|                       N |\n",
      "| Chi-square contribution |\n",
      "|           N / Row Total |\n",
      "|           N / Col Total |\n",
      "|         N / Table Total |\n",
      "|-------------------------|\n",
      "\n",
      " \n",
      "Total Observations in Table:  11162 \n",
      "\n",
      " \n",
      "             | data$deposit \n",
      "   data$loan |        no |       yes | Row Total | \n",
      "-------------|-----------|-----------|-----------|\n",
      "          no |      4897 |      4805 |      9702 | \n",
      "             |     8.459 |     9.393 |           | \n",
      "             |     0.505 |     0.495 |     0.869 | \n",
      "             |     0.834 |     0.908 |           | \n",
      "             |     0.439 |     0.430 |           | \n",
      "-------------|-----------|-----------|-----------|\n",
      "         yes |       976 |       484 |      1460 | \n",
      "             |    56.214 |    62.421 |           | \n",
      "             |     0.668 |     0.332 |     0.131 | \n",
      "             |     0.166 |     0.092 |           | \n",
      "             |     0.087 |     0.043 |           | \n",
      "-------------|-----------|-----------|-----------|\n",
      "Column Total |      5873 |      5289 |     11162 | \n",
      "             |     0.526 |     0.474 |           | \n",
      "-------------|-----------|-----------|-----------|\n",
      "\n",
      " \n"
     ]
    }
   ],
   "source": [
    "CrossTable(data$loan, data$deposit)"
   ]
  },
  {
   "cell_type": "markdown",
   "id": "75b3cb49-e0c4-490d-abda-0e9b409ca0bd",
   "metadata": {},
   "source": [
    "**# Тип комунікації (contact):**"
   ]
  },
  {
   "cell_type": "code",
   "execution_count": 61,
   "id": "f0c177cd-3109-494f-b835-26f34d5911d2",
   "metadata": {},
   "outputs": [
    {
     "data": {
      "image/png": "[encoded data removed]",
      "text/plain": [
       "plot without title"
      ]
     },
     "metadata": {
      "image/png": {
       "height": 420,
       "width": 420
      }
     },
     "output_type": "display_data"
    }
   ],
   "source": [
    "ggplot(data, aes(contact)) + \n",
    "    geom_bar(aes(fill = contact)) + \n",
    "    theme_bw()"
   ]
  },
  {
   "cell_type": "code",
   "execution_count": 64,
   "id": "664c71ff-3eca-4b58-a7a3-dabb0f975a53",
   "metadata": {},
   "outputs": [
    {
     "name": "stdout",
     "output_type": "stream",
     "text": [
      "\n",
      " \n",
      "   Cell Contents\n",
      "|-------------------------|\n",
      "|                       N |\n",
      "| Chi-square contribution |\n",
      "|           N / Row Total |\n",
      "|           N / Col Total |\n",
      "|         N / Table Total |\n",
      "|-------------------------|\n",
      "\n",
      " \n",
      "Total Observations in Table:  11162 \n",
      "\n",
      " \n",
      "             | data$deposit \n",
      "data$contact |        no |       yes | Row Total | \n",
      "-------------|-----------|-----------|-----------|\n",
      "    cellular |      3673 |      4369 |      8042 | \n",
      "             |    73.685 |    81.821 |           | \n",
      "             |     0.457 |     0.543 |     0.720 | \n",
      "             |     0.625 |     0.826 |           | \n",
      "             |     0.329 |     0.391 |           | \n",
      "-------------|-----------|-----------|-----------|\n",
      "   telephone |       384 |       390 |       774 | \n",
      "             |     1.327 |     1.474 |           | \n",
      "             |     0.496 |     0.504 |     0.069 | \n",
      "             |     0.065 |     0.074 |           | \n",
      "             |     0.034 |     0.035 |           | \n",
      "-------------|-----------|-----------|-----------|\n",
      "     unknown |      1816 |       530 |      2346 | \n",
      "             |   274.060 |   304.321 |           | \n",
      "             |     0.774 |     0.226 |     0.210 | \n",
      "             |     0.309 |     0.100 |           | \n",
      "             |     0.163 |     0.047 |           | \n",
      "-------------|-----------|-----------|-----------|\n",
      "Column Total |      5873 |      5289 |     11162 | \n",
      "             |     0.526 |     0.474 |           | \n",
      "-------------|-----------|-----------|-----------|\n",
      "\n",
      " \n"
     ]
    }
   ],
   "source": [
    "CrossTable(data$contact, data$deposit)\n",
    "# cellular communication channel looks like the best way to increase deposits count\n",
    "# people with cellular devices has more money? "
   ]
  },
  {
   "cell_type": "markdown",
   "id": "4e32c621-0185-4711-ad28-ee27d3aeb40d",
   "metadata": {},
   "source": [
    "**День місяця (day):**"
   ]
  },
  {
   "cell_type": "code",
   "execution_count": 65,
   "id": "ebbdcbe5-6413-46e3-8ead-72ad4e339a23",
   "metadata": {},
   "outputs": [
    {
     "data": {
      "image/png": "[encoded data removed]",
      "text/plain": [
       "plot without title"
      ]
     },
     "metadata": {
      "image/png": {
       "height": 420,
       "width": 420
      }
     },
     "output_type": "display_data"
    }
   ],
   "source": [
    "ggplot(data, aes(day)) + \n",
    "    geom_histogram(bins = 25, alpha = 0.5, fill = 'blue', color='black')  + \n",
    "    theme_bw()"
   ]
  }
 ],
 "metadata": {
  "kernelspec": {
   "display_name": "R",
   "language": "R",
   "name": "ir"
  },
  "language_info": {
   "codemirror_mode": "r",
   "file_extension": ".r",
   "mimetype": "text/x-r-source",
   "name": "R",
   "pygments_lexer": "r",
   "version": "4.0.5"
  }
 },
 "nbformat": 4,
 "nbformat_minor": 5
}
