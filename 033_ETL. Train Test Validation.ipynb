{
 "cells": [
  {
   "cell_type": "markdown",
   "id": "121664ee",
   "metadata": {},
   "source": [
    "# Data Split: Train, Validation, Test sets\n",
    "\n",
    "---\n",
    "\n",
    "## Fundamentals of ETL: data extraction, transformation and loading\n",
    "\n",
    "\n",
    "Applied Mathematical Modeling in Banking"
   ]
  },
  {
   "cell_type": "markdown",
   "id": "ba8e8a7e",
   "metadata": {},
   "source": [
    "---"
   ]
  },
  {
   "cell_type": "markdown",
   "id": "8ff1f7ae",
   "metadata": {},
   "source": [
    "# Table of contents"
   ]
  },
  {
   "cell_type": "markdown",
   "id": "1e3d6f45",
   "metadata": {},
   "source": [
    "---"
   ]
  },
  {
   "cell_type": "markdown",
   "id": "dacfe7a6",
   "metadata": {},
   "source": [
    "# 1. What's Train, Validation, Test datasets\n"
   ]
  },
  {
   "cell_type": "markdown",
   "id": "6c6494a9",
   "metadata": {},
   "source": [
    "Before model fitting and some stages of features engeniering we shoudl split out dataset on 2 or 3 parts:\n",
    "\n",
    "- [x] `Training` dataset: The sample of data used to fit the model.\n",
    "\n",
    "The model sees and learns from this data.\n",
    "\n",
    "- [x] `Validation` dataset: The sample of data used to provide an unbiased evaluation of a model fit on the training dataset while tuning model hyperparameters. The evaluation becomes more biased as skill on the validation dataset is incorporated into the model configuration.\n",
    "\n",
    "The validation set is used to evaluate a given model, but this is for frequent evaluation. We, as machine learning engineers, use this data to fine-tune the model hyperparameters. Hence the model occasionally sees this data, but never does it “Learn” from this. We use the validation set results, and update higher level hyperparameters. So the validation set affects a model, but only indirectly. The validation set is also known as the Dev set or the Development set. This makes sense since this dataset helps during the “development” stage of the model.\n",
    "\n",
    "- [x] `Testing` dataset: Test Dataset: The sample of data used to provide an unbiased evaluation of a final model fit on the training dataset.\n",
    "\n",
    "The Test dataset provides the gold standard used to evaluate the model. It is only used once a model is completely trained(using the train and validation sets). The test set is generally what is used to evaluate competing models (For example on many Kaggle competitions, the validation set is released initially along with the training set and the actual test set is only released when the competition is about to close, and it is the result of the the model on the Test set that decides the winner). Many a times the validation set is used as the test set, but it is not good practice. The test set is generally well curated. It contains carefully sampled data that spans the various classes that the model would face, when used in the real world."
   ]
  },
  {
   "cell_type": "markdown",
   "id": "8b3dfdf5",
   "metadata": {},
   "source": [
    "![](assets/images/03/train_test1.png)"
   ]
  },
  {
   "cell_type": "markdown",
   "id": "1570f50c",
   "metadata": {},
   "source": [
    "You can also find papers with splitting only for `train`/`test`. In this case `test` means `validation`."
   ]
  },
  {
   "cell_type": "markdown",
   "id": "b8275831",
   "metadata": {},
   "source": [
    "![](assets/images/03/train_test2.png)"
   ]
  },
  {
   "cell_type": "markdown",
   "id": "9742eb11",
   "metadata": {},
   "source": [
    "---"
   ]
  },
  {
   "cell_type": "markdown",
   "id": "9f6cb7eb",
   "metadata": {},
   "source": [
    "# 2. Splitting data in R"
   ]
  },
  {
   "cell_type": "markdown",
   "id": "ea4ebf4c",
   "metadata": {},
   "source": [
    "Lets describe some conditions before start studiyng splitting data functions in R:\n",
    "\n",
    "- [x] We will use same seed for all splittings to control results reproduction, for example, let it be 2021.\n",
    "- [x] We will use dataset for client churn prediction `Telco Customer Churn`: https://www.kaggle.com/blastchar/telco-customer-churn"
   ]
  },
  {
   "cell_type": "markdown",
   "id": "415e6a2b",
   "metadata": {},
   "source": [
    "Short dataset description:\n",
    "\n",
    "- [x] `customerID` - Customer ID\n",
    "- [x] `gender` Whether the customer is a male or a female\n",
    "- [x] `SeniorCitizen` - Whether the customer is a senior citizen or not (1, 0)\n",
    "- [x] `Partner` - Whether the customer has a partner or not (Yes, No)\n",
    "- [x] `Dependents` - Whether the customer has dependents or not (Yes, No)\n",
    "- [x] `tenure` - Number of months the customer has stayed with the company\n",
    "- [x] `PhoneService` - Whether the customer has a phone service or not (Yes, No)\n",
    "- [x] `MultipleLines` - Whether the customer has multiple lines or not (Yes, No, No phone service)\n",
    "- [x] `InternetService` - Customer’s internet service provider (DSL, Fiber optic, No)\n",
    "- [x] `OnlineSecurity` - Whether the customer has online security or not (Yes, No, No internet service)\n",
    "- [x] `OnlineBackup` - Whether the customer has online backup or not (Yes, No, No internet service)\n",
    "- [x] `DeviceProtection` - Whether the customer has device protection or not (Yes, No, No internet service)\n",
    "- [x] `TechSupport` - Whether the customer has tech support or not (Yes, No, No internet service)\n",
    "- [x] `StreamingTV` - Whether the customer has streaming TV or not (Yes, No, No internet service)\n",
    "- [x] `StreamingMovies` - Whether the customer has streaming movies or not (Yes, No, No internet service)\n",
    "- [x] `Contract` - The contract term of the customer (Month-to-month, One year, Two year)\n",
    "- [x] `PaperlessBilling` - Whether the customer has paperless billing or not (Yes, No)\n",
    "- [x] `PaymentMethod` - The customer’s payment method (Electronic check, Mailed check, Bank transfer (automatic), Credit card (automatic))\n",
    "- [x] `MonthlyCharges` - The amount charged to the customer monthly\n",
    "- [x] `TotalCharges` - The total amount charged to the customer\n",
    "- [x] `Churn` - Whether the customer churned or not (Yes or No)"
   ]
  },
  {
   "cell_type": "code",
   "execution_count": 1,
   "id": "c795440c",
   "metadata": {},
   "outputs": [
    {
     "data": {
      "text/html": [
       "<table class=\"dataframe\">\n",
       "<caption>A data.frame: 6 × 22</caption>\n",
       "<thead>\n",
       "\t<tr><th></th><th scope=col>X</th><th scope=col>customerID</th><th scope=col>gender</th><th scope=col>SeniorCitizen</th><th scope=col>Partner</th><th scope=col>Dependents</th><th scope=col>tenure</th><th scope=col>PhoneService</th><th scope=col>MultipleLines</th><th scope=col>InternetService</th><th scope=col>...</th><th scope=col>DeviceProtection</th><th scope=col>TechSupport</th><th scope=col>StreamingTV</th><th scope=col>StreamingMovies</th><th scope=col>Contract</th><th scope=col>PaperlessBilling</th><th scope=col>PaymentMethod</th><th scope=col>MonthlyCharges</th><th scope=col>TotalCharges</th><th scope=col>Churn</th></tr>\n",
       "\t<tr><th></th><th scope=col>&lt;int&gt;</th><th scope=col>&lt;chr&gt;</th><th scope=col>&lt;chr&gt;</th><th scope=col>&lt;int&gt;</th><th scope=col>&lt;chr&gt;</th><th scope=col>&lt;chr&gt;</th><th scope=col>&lt;int&gt;</th><th scope=col>&lt;chr&gt;</th><th scope=col>&lt;chr&gt;</th><th scope=col>&lt;chr&gt;</th><th scope=col>...</th><th scope=col>&lt;chr&gt;</th><th scope=col>&lt;chr&gt;</th><th scope=col>&lt;chr&gt;</th><th scope=col>&lt;chr&gt;</th><th scope=col>&lt;chr&gt;</th><th scope=col>&lt;chr&gt;</th><th scope=col>&lt;chr&gt;</th><th scope=col>&lt;chr&gt;</th><th scope=col>&lt;dbl&gt;</th><th scope=col>&lt;chr&gt;</th></tr>\n",
       "</thead>\n",
       "<tbody>\n",
       "\t<tr><th scope=row>1</th><td>1869</td><td>7010-BRBUU</td><td>Male  </td><td>0</td><td>Yes</td><td>Yes</td><td>72</td><td>Yes</td><td>Yes             </td><td>No         </td><td>...</td><td>No internet service</td><td>No internet service</td><td>No internet service</td><td>No internet service</td><td>Two year      </td><td>No </td><td>Credit card (automatic)  </td><td>24.1 </td><td>1734.65</td><td>No </td></tr>\n",
       "\t<tr><th scope=row>2</th><td>4528</td><td>9688-YGXVR</td><td>Female</td><td>0</td><td>No </td><td>No </td><td>44</td><td>Yes</td><td>No              </td><td>Fiber optic</td><td>...</td><td>Yes                </td><td>No                 </td><td>Yes                </td><td>No                 </td><td>Month-to-month</td><td>Yes</td><td>Credit card (automatic)  </td><td>88.15</td><td>3973.20</td><td>No </td></tr>\n",
       "\t<tr><th scope=row>3</th><td>6344</td><td>9286-DOJGF</td><td>Female</td><td>1</td><td>Yes</td><td>No </td><td>38</td><td>Yes</td><td>Yes             </td><td>Fiber optic</td><td>...</td><td>No                 </td><td>No                 </td><td>No                 </td><td>No                 </td><td>Month-to-month</td><td>Yes</td><td>Bank transfer (automatic)</td><td>74.95</td><td>2869.85</td><td>Yes</td></tr>\n",
       "\t<tr><th scope=row>4</th><td>6739</td><td>6994-KERXL</td><td>Male  </td><td>0</td><td>No </td><td>No </td><td> 4</td><td>Yes</td><td>No              </td><td>DSL        </td><td>...</td><td>No                 </td><td>No                 </td><td>No                 </td><td>Yes                </td><td>Month-to-month</td><td>Yes</td><td>Electronic check         </td><td>55.9 </td><td> 238.50</td><td>No </td></tr>\n",
       "\t<tr><th scope=row>5</th><td> 432</td><td>2181-UAESM</td><td>Male  </td><td>0</td><td>No </td><td>No </td><td> 2</td><td>Yes</td><td>No              </td><td>DSL        </td><td>...</td><td>Yes                </td><td>No                 </td><td>No                 </td><td>No                 </td><td>Month-to-month</td><td>No </td><td>Electronic check         </td><td>53.45</td><td> 119.50</td><td>No </td></tr>\n",
       "\t<tr><th scope=row>6</th><td>2215</td><td>4312-GVYNH</td><td>Female</td><td>0</td><td>Yes</td><td>No </td><td>70</td><td>No </td><td>No phone service</td><td>DSL        </td><td>...</td><td>Yes                </td><td>Yes                </td><td>No                 </td><td>Yes                </td><td>Two year      </td><td>Yes</td><td>Bank transfer (automatic)</td><td>49.85</td><td>3370.20</td><td>No </td></tr>\n",
       "</tbody>\n",
       "</table>\n"
      ],
      "text/latex": [
       "A data.frame: 6 × 22\n",
       "\\begin{tabular}{r|lllllllllllllllllllll}\n",
       "  & X & customerID & gender & SeniorCitizen & Partner & Dependents & tenure & PhoneService & MultipleLines & InternetService & ... & DeviceProtection & TechSupport & StreamingTV & StreamingMovies & Contract & PaperlessBilling & PaymentMethod & MonthlyCharges & TotalCharges & Churn\\\\\n",
       "  & <int> & <chr> & <chr> & <int> & <chr> & <chr> & <int> & <chr> & <chr> & <chr> & ... & <chr> & <chr> & <chr> & <chr> & <chr> & <chr> & <chr> & <chr> & <dbl> & <chr>\\\\\n",
       "\\hline\n",
       "\t1 & 1869 & 7010-BRBUU & Male   & 0 & Yes & Yes & 72 & Yes & Yes              & No          & ... & No internet service & No internet service & No internet service & No internet service & Two year       & No  & Credit card (automatic)   & 24.1  & 1734.65 & No \\\\\n",
       "\t2 & 4528 & 9688-YGXVR & Female & 0 & No  & No  & 44 & Yes & No               & Fiber optic & ... & Yes                 & No                  & Yes                 & No                  & Month-to-month & Yes & Credit card (automatic)   & 88.15 & 3973.20 & No \\\\\n",
       "\t3 & 6344 & 9286-DOJGF & Female & 1 & Yes & No  & 38 & Yes & Yes              & Fiber optic & ... & No                  & No                  & No                  & No                  & Month-to-month & Yes & Bank transfer (automatic) & 74.95 & 2869.85 & Yes\\\\\n",
       "\t4 & 6739 & 6994-KERXL & Male   & 0 & No  & No  &  4 & Yes & No               & DSL         & ... & No                  & No                  & No                  & Yes                 & Month-to-month & Yes & Electronic check          & 55.9  &  238.50 & No \\\\\n",
       "\t5 &  432 & 2181-UAESM & Male   & 0 & No  & No  &  2 & Yes & No               & DSL         & ... & Yes                 & No                  & No                  & No                  & Month-to-month & No  & Electronic check          & 53.45 &  119.50 & No \\\\\n",
       "\t6 & 2215 & 4312-GVYNH & Female & 0 & Yes & No  & 70 & No  & No phone service & DSL         & ... & Yes                 & Yes                 & No                  & Yes                 & Two year       & Yes & Bank transfer (automatic) & 49.85 & 3370.20 & No \\\\\n",
       "\\end{tabular}\n"
      ],
      "text/markdown": [
       "\n",
       "A data.frame: 6 × 22\n",
       "\n",
       "| <!--/--> | X &lt;int&gt; | customerID &lt;chr&gt; | gender &lt;chr&gt; | SeniorCitizen &lt;int&gt; | Partner &lt;chr&gt; | Dependents &lt;chr&gt; | tenure &lt;int&gt; | PhoneService &lt;chr&gt; | MultipleLines &lt;chr&gt; | InternetService &lt;chr&gt; | ... ... | DeviceProtection &lt;chr&gt; | TechSupport &lt;chr&gt; | StreamingTV &lt;chr&gt; | StreamingMovies &lt;chr&gt; | Contract &lt;chr&gt; | PaperlessBilling &lt;chr&gt; | PaymentMethod &lt;chr&gt; | MonthlyCharges &lt;chr&gt; | TotalCharges &lt;dbl&gt; | Churn &lt;chr&gt; |\n",
       "|---|---|---|---|---|---|---|---|---|---|---|---|---|---|---|---|---|---|---|---|---|---|\n",
       "| 1 | 1869 | 7010-BRBUU | Male   | 0 | Yes | Yes | 72 | Yes | Yes              | No          | ... | No internet service | No internet service | No internet service | No internet service | Two year       | No  | Credit card (automatic)   | 24.1  | 1734.65 | No  |\n",
       "| 2 | 4528 | 9688-YGXVR | Female | 0 | No  | No  | 44 | Yes | No               | Fiber optic | ... | Yes                 | No                  | Yes                 | No                  | Month-to-month | Yes | Credit card (automatic)   | 88.15 | 3973.20 | No  |\n",
       "| 3 | 6344 | 9286-DOJGF | Female | 1 | Yes | No  | 38 | Yes | Yes              | Fiber optic | ... | No                  | No                  | No                  | No                  | Month-to-month | Yes | Bank transfer (automatic) | 74.95 | 2869.85 | Yes |\n",
       "| 4 | 6739 | 6994-KERXL | Male   | 0 | No  | No  |  4 | Yes | No               | DSL         | ... | No                  | No                  | No                  | Yes                 | Month-to-month | Yes | Electronic check          | 55.9  |  238.50 | No  |\n",
       "| 5 |  432 | 2181-UAESM | Male   | 0 | No  | No  |  2 | Yes | No               | DSL         | ... | Yes                 | No                  | No                  | No                  | Month-to-month | No  | Electronic check          | 53.45 |  119.50 | No  |\n",
       "| 6 | 2215 | 4312-GVYNH | Female | 0 | Yes | No  | 70 | No  | No phone service | DSL         | ... | Yes                 | Yes                 | No                  | Yes                 | Two year       | Yes | Bank transfer (automatic) | 49.85 | 3370.20 | No  |\n",
       "\n"
      ],
      "text/plain": [
       "  X    customerID gender SeniorCitizen Partner Dependents tenure PhoneService\n",
       "1 1869 7010-BRBUU Male   0             Yes     Yes        72     Yes         \n",
       "2 4528 9688-YGXVR Female 0             No      No         44     Yes         \n",
       "3 6344 9286-DOJGF Female 1             Yes     No         38     Yes         \n",
       "4 6739 6994-KERXL Male   0             No      No          4     Yes         \n",
       "5  432 2181-UAESM Male   0             No      No          2     Yes         \n",
       "6 2215 4312-GVYNH Female 0             Yes     No         70     No          \n",
       "  MultipleLines    InternetService ... DeviceProtection    TechSupport        \n",
       "1 Yes              No              ... No internet service No internet service\n",
       "2 No               Fiber optic     ... Yes                 No                 \n",
       "3 Yes              Fiber optic     ... No                  No                 \n",
       "4 No               DSL             ... No                  No                 \n",
       "5 No               DSL             ... Yes                 No                 \n",
       "6 No phone service DSL             ... Yes                 Yes                \n",
       "  StreamingTV         StreamingMovies     Contract       PaperlessBilling\n",
       "1 No internet service No internet service Two year       No              \n",
       "2 Yes                 No                  Month-to-month Yes             \n",
       "3 No                  No                  Month-to-month Yes             \n",
       "4 No                  Yes                 Month-to-month Yes             \n",
       "5 No                  No                  Month-to-month No              \n",
       "6 No                  Yes                 Two year       Yes             \n",
       "  PaymentMethod             MonthlyCharges TotalCharges Churn\n",
       "1 Credit card (automatic)   24.1           1734.65      No   \n",
       "2 Credit card (automatic)   88.15          3973.20      No   \n",
       "3 Bank transfer (automatic) 74.95          2869.85      Yes  \n",
       "4 Electronic check          55.9            238.50      No   \n",
       "5 Electronic check          53.45           119.50      No   \n",
       "6 Bank transfer (automatic) 49.85          3370.20      No   "
      ]
     },
     "metadata": {},
     "output_type": "display_data"
    }
   ],
   "source": [
    "# read data\n",
    "telecom_users <- read.csv(\"data/telecom_users.csv\")\n",
    "head(telecom_users)"
   ]
  },
  {
   "cell_type": "markdown",
   "id": "7defb61e",
   "metadata": {},
   "source": [
    "Lets check the proportion of column `Churn == Yes` and `Churn == No` in dataset with `CrossTable()` function from `gmodels` package."
   ]
  },
  {
   "cell_type": "code",
   "execution_count": 5,
   "id": "942d88ac",
   "metadata": {},
   "outputs": [
    {
     "name": "stderr",
     "output_type": "stream",
     "text": [
      "Updating HTML index of packages in '.Library'\n",
      "\n",
      "Making 'packages.html' ...\n",
      " done\n",
      "\n"
     ]
    }
   ],
   "source": [
    "#install.packages(\"gmodels\")"
   ]
  },
  {
   "cell_type": "code",
   "execution_count": 2,
   "id": "be90746e-4978-4de6-9dbd-323c03e12c65",
   "metadata": {},
   "outputs": [
    {
     "name": "stdout",
     "output_type": "stream",
     "text": [
      "\n",
      " \n",
      "   Cell Contents\n",
      "|-------------------------|\n",
      "|                       N |\n",
      "|         N / Table Total |\n",
      "|-------------------------|\n",
      "\n",
      " \n",
      "Total Observations in Table:  5986 \n",
      "\n",
      " \n",
      "          |        No |       Yes | \n",
      "          |-----------|-----------|\n",
      "          |      4399 |      1587 | \n",
      "          |     0.735 |     0.265 | \n",
      "          |-----------|-----------|\n",
      "\n",
      "\n",
      "\n",
      " \n"
     ]
    }
   ],
   "source": [
    "library(gmodels)\n",
    "CrossTable(telecom_users$Churn)"
   ]
  },
  {
   "cell_type": "markdown",
   "id": "fc991aab",
   "metadata": {},
   "source": [
    "You can also use `CrossTable()` to check cross proportions by other fields. Lets check crosstable for `TechSupport` and `Churn`:"
   ]
  },
  {
   "cell_type": "code",
   "execution_count": 11,
   "id": "ab192a4f",
   "metadata": {},
   "outputs": [
    {
     "name": "stdout",
     "output_type": "stream",
     "text": [
      "\n",
      " \n",
      "   Cell Contents\n",
      "|-------------------------|\n",
      "|                       N |\n",
      "| Chi-square contribution |\n",
      "|           N / Row Total |\n",
      "|           N / Col Total |\n",
      "|         N / Table Total |\n",
      "|-------------------------|\n",
      "\n",
      " \n",
      "Total Observations in Table:  5986 \n",
      "\n",
      " \n",
      "                    | telecom_users$TechSupport \n",
      "telecom_users$Churn |                  No | No internet service |                 Yes |           Row Total | \n",
      "--------------------|---------------------|---------------------|---------------------|---------------------|\n",
      "                 No |                1738 |                1192 |                1469 |                4399 | \n",
      "                    |              87.892 |              62.377 |              29.512 |                     | \n",
      "                    |               0.395 |               0.271 |               0.334 |               0.735 | \n",
      "                    |               0.587 |               0.923 |               0.847 |                     | \n",
      "                    |               0.290 |               0.199 |               0.245 |                     | \n",
      "--------------------|---------------------|---------------------|---------------------|---------------------|\n",
      "                Yes |                1222 |                  99 |                 266 |                1587 | \n",
      "                    |             243.627 |             172.904 |              81.805 |                     | \n",
      "                    |               0.770 |               0.062 |               0.168 |               0.265 | \n",
      "                    |               0.413 |               0.077 |               0.153 |                     | \n",
      "                    |               0.204 |               0.017 |               0.044 |                     | \n",
      "--------------------|---------------------|---------------------|---------------------|---------------------|\n",
      "       Column Total |                2960 |                1291 |                1735 |                5986 | \n",
      "                    |               0.494 |               0.216 |               0.290 |                     | \n",
      "--------------------|---------------------|---------------------|---------------------|---------------------|\n",
      "\n",
      " \n"
     ]
    }
   ],
   "source": [
    "CrossTable(telecom_users$Churn, telecom_users$TechSupport) # for example"
   ]
  },
  {
   "cell_type": "markdown",
   "id": "0a1fc9a9",
   "metadata": {},
   "source": [
    "You can see that most part of Churn 1222 of 1587"
   ]
  },
  {
   "cell_type": "markdown",
   "id": "e4fe7e84",
   "metadata": {},
   "source": [
    "Next, we will check 6 possible ways to split data for train/test sets."
   ]
  },
  {
   "cell_type": "markdown",
   "id": "a9f941d9",
   "metadata": {},
   "source": [
    "---"
   ]
  },
  {
   "cell_type": "markdown",
   "id": "105651a3",
   "metadata": {},
   "source": [
    "## 2.1. Split with `sample()`"
   ]
  },
  {
   "cell_type": "code",
   "execution_count": 10,
   "id": "5c573220",
   "metadata": {},
   "outputs": [
    {
     "name": "stdout",
     "output_type": "stream",
     "text": [
      "[1] \"Size: 4190\"\n"
     ]
    }
   ],
   "source": [
    "set.seed(2021)\n",
    "\n",
    "sample_size = round(nrow(telecom_users)*.70) # setting what is 70%\n",
    "print(paste0(\"Size: \", sample_size))\n",
    "\n",
    "index <- sample(nrow(telecom_users), size = sample_size)\n",
    " \n",
    "train <- telecom_users[index, ] # index is numbers of selected rows from dataset\n",
    "test <-telecom_users[-index, ] # -index select only rows not in index"
   ]
  },
  {
   "cell_type": "code",
   "execution_count": 11,
   "id": "69109cc2",
   "metadata": {},
   "outputs": [
    {
     "name": "stdout",
     "output_type": "stream",
     "text": [
      "\n",
      " \n",
      "   Cell Contents\n",
      "|-------------------------|\n",
      "|                       N |\n",
      "|         N / Table Total |\n",
      "|-------------------------|\n",
      "\n",
      " \n",
      "Total Observations in Table:  4190 \n",
      "\n",
      " \n",
      "          |        No |       Yes | \n",
      "          |-----------|-----------|\n",
      "          |      3099 |      1091 | \n",
      "          |     0.740 |     0.260 | \n",
      "          |-----------|-----------|\n",
      "\n",
      "\n",
      "\n",
      " \n"
     ]
    }
   ],
   "source": [
    "# check Churn == Yes/No proportion in train/test\n",
    "CrossTable(train$Churn)"
   ]
  },
  {
   "cell_type": "code",
   "execution_count": 12,
   "id": "cdad3775",
   "metadata": {},
   "outputs": [
    {
     "name": "stdout",
     "output_type": "stream",
     "text": [
      "\n",
      " \n",
      "   Cell Contents\n",
      "|-------------------------|\n",
      "|                       N |\n",
      "|         N / Table Total |\n",
      "|-------------------------|\n",
      "\n",
      " \n",
      "Total Observations in Table:  1796 \n",
      "\n",
      " \n",
      "          |        No |       Yes | \n",
      "          |-----------|-----------|\n",
      "          |      1300 |       496 | \n",
      "          |     0.724 |     0.276 | \n",
      "          |-----------|-----------|\n",
      "\n",
      "\n",
      "\n",
      " \n"
     ]
    }
   ],
   "source": [
    "# check Churn == Yes/No proportion in train/test\n",
    "CrossTable(test$Churn)"
   ]
  },
  {
   "cell_type": "markdown",
   "id": "64e6bc26",
   "metadata": {},
   "source": [
    "Its 0.260 for train and 0.276 for test. Diffrence is 1,6%, so, its close."
   ]
  },
  {
   "cell_type": "markdown",
   "id": "f6d6c4e4",
   "metadata": {},
   "source": [
    "---"
   ]
  },
  {
   "cell_type": "markdown",
   "id": "c8482f8a",
   "metadata": {},
   "source": [
    "## 2.3. Split with `sample_frac` from `dplyr`"
   ]
  },
  {
   "cell_type": "code",
   "execution_count": 36,
   "id": "59b83d23",
   "metadata": {},
   "outputs": [],
   "source": [
    "library(dplyr)\n",
    "set.seed(2021)\n",
    "\n",
    "# Using the above function to create 70 - 30 slipt into test and train\n",
    "\n",
    "tu <- telecom_users %>% mutate(Id = row_number())\n",
    "\n",
    "train <- tu %>% sample_frac(.70)\n",
    "test <- tu[-train$Id, ]"
   ]
  },
  {
   "cell_type": "code",
   "execution_count": 39,
   "id": "6df3650f",
   "metadata": {},
   "outputs": [
    {
     "name": "stdout",
     "output_type": "stream",
     "text": [
      "\n",
      " \n",
      "   Cell Contents\n",
      "|-------------------------|\n",
      "|                       N |\n",
      "|         N / Table Total |\n",
      "|-------------------------|\n",
      "\n",
      " \n",
      "Total Observations in Table:  4190 \n",
      "\n",
      " \n",
      "          |        No |       Yes | \n",
      "          |-----------|-----------|\n",
      "          |      3099 |      1091 | \n",
      "          |     0.740 |     0.260 | \n",
      "          |-----------|-----------|\n",
      "\n",
      "\n",
      "\n",
      " \n",
      "\n",
      " \n",
      "   Cell Contents\n",
      "|-------------------------|\n",
      "|                       N |\n",
      "|         N / Table Total |\n",
      "|-------------------------|\n",
      "\n",
      " \n",
      "Total Observations in Table:  1796 \n",
      "\n",
      " \n",
      "          |        No |       Yes | \n",
      "          |-----------|-----------|\n",
      "          |      1300 |       496 | \n",
      "          |     0.724 |     0.276 | \n",
      "          |-----------|-----------|\n",
      "\n",
      "\n",
      "\n",
      " \n"
     ]
    }
   ],
   "source": [
    "# check Churn == Yes/No proportion in train/test\n",
    "CrossTable(train$Churn)\n",
    "CrossTable(test$Churn)"
   ]
  },
  {
   "cell_type": "markdown",
   "id": "67743a8d",
   "metadata": {},
   "source": [
    "`sample_n` made other proportion of `Churn == Yes/No` and difference just 0.7%."
   ]
  },
  {
   "cell_type": "markdown",
   "id": "fe03a1a7",
   "metadata": {},
   "source": [
    "---"
   ]
  },
  {
   "cell_type": "markdown",
   "id": "399e4515",
   "metadata": {},
   "source": [
    "## 2.5. Split with `createDataPartition()` from `caret`"
   ]
  },
  {
   "cell_type": "code",
   "execution_count": 41,
   "id": "ce6d2734",
   "metadata": {},
   "outputs": [
    {
     "name": "stderr",
     "output_type": "stream",
     "text": [
      "Updating HTML index of packages in '.Library'\n",
      "\n",
      "Making 'packages.html' ...\n",
      " done\n",
      "\n"
     ]
    }
   ],
   "source": [
    "#install.packages(\"caret\")"
   ]
  },
  {
   "cell_type": "code",
   "execution_count": 45,
   "id": "a703ec94-11bb-44ff-9ab6-4506fa43b32a",
   "metadata": {},
   "outputs": [],
   "source": [
    "library(caret)\n",
    "set.seed(2021)\n",
    " \n",
    "index = createDataPartition(telecom_users$Churn, p = 0.70, list = FALSE)\n",
    "train = telecom_users[index, ]\n",
    "test = telecom_users[-index, ]"
   ]
  },
  {
   "cell_type": "code",
   "execution_count": 46,
   "id": "f6cc8b66",
   "metadata": {},
   "outputs": [
    {
     "name": "stdout",
     "output_type": "stream",
     "text": [
      "\n",
      " \n",
      "   Cell Contents\n",
      "|-------------------------|\n",
      "|                       N |\n",
      "|         N / Table Total |\n",
      "|-------------------------|\n",
      "\n",
      " \n",
      "Total Observations in Table:  4191 \n",
      "\n",
      " \n",
      "          |        No |       Yes | \n",
      "          |-----------|-----------|\n",
      "          |      3080 |      1111 | \n",
      "          |     0.735 |     0.265 | \n",
      "          |-----------|-----------|\n",
      "\n",
      "\n",
      "\n",
      " \n",
      "\n",
      " \n",
      "   Cell Contents\n",
      "|-------------------------|\n",
      "|                       N |\n",
      "|         N / Table Total |\n",
      "|-------------------------|\n",
      "\n",
      " \n",
      "Total Observations in Table:  1795 \n",
      "\n",
      " \n",
      "          |        No |       Yes | \n",
      "          |-----------|-----------|\n",
      "          |      1319 |       476 | \n",
      "          |     0.735 |     0.265 | \n",
      "          |-----------|-----------|\n",
      "\n",
      "\n",
      "\n",
      " \n"
     ]
    }
   ],
   "source": [
    "# check Churn == Yes/No proportion in train/test\n",
    "CrossTable(train$Churn)\n",
    "CrossTable(test$Churn)"
   ]
  },
  {
   "cell_type": "markdown",
   "id": "fa280eb6",
   "metadata": {},
   "source": [
    "Ckeck the proportion of target variable. Caret trying to make the same split for both train and test. This is one of the best split methods in R."
   ]
  },
  {
   "cell_type": "markdown",
   "id": "22554296",
   "metadata": {},
   "source": [
    "---"
   ]
  },
  {
   "cell_type": "markdown",
   "id": "937fa909",
   "metadata": {},
   "source": [
    "## 2.5. Split with `sample.split` from `caTools`"
   ]
  },
  {
   "cell_type": "code",
   "execution_count": 47,
   "id": "d9a497e0-cc16-4bf6-928a-53f4f2a1a49a",
   "metadata": {},
   "outputs": [
    {
     "name": "stderr",
     "output_type": "stream",
     "text": [
      "Updating HTML index of packages in '.Library'\n",
      "\n",
      "Making 'packages.html' ...\n",
      " done\n",
      "\n"
     ]
    }
   ],
   "source": [
    "install.packages(\"caTools\")"
   ]
  },
  {
   "cell_type": "code",
   "execution_count": 66,
   "id": "7fe2e723",
   "metadata": {},
   "outputs": [],
   "source": [
    "library(caTools)\n",
    " \n",
    "set.seed(2021)\n",
    "sample = sample.split(telecom_users$Churn, SplitRatio = .70)\n",
    "\n",
    "train = telecom_users[sample, ]\n",
    "test  = telecom_users[!sample, ]"
   ]
  },
  {
   "cell_type": "code",
   "execution_count": 65,
   "id": "48f3eeb0",
   "metadata": {},
   "outputs": [
    {
     "name": "stdout",
     "output_type": "stream",
     "text": [
      "\n",
      " \n",
      "   Cell Contents\n",
      "|-------------------------|\n",
      "|                       N |\n",
      "|         N / Table Total |\n",
      "|-------------------------|\n",
      "\n",
      " \n",
      "Total Observations in Table:  4190 \n",
      "\n",
      " \n",
      "          |        No |       Yes | \n",
      "          |-----------|-----------|\n",
      "          |      3079 |      1111 | \n",
      "          |     0.735 |     0.265 | \n",
      "          |-----------|-----------|\n",
      "\n",
      "\n",
      "\n",
      " \n",
      "\n",
      " \n",
      "   Cell Contents\n",
      "|-------------------------|\n",
      "|                       N |\n",
      "|         N / Table Total |\n",
      "|-------------------------|\n",
      "\n",
      " \n",
      "Total Observations in Table:  4190 \n",
      "\n",
      " \n",
      "          |        No |       Yes | \n",
      "          |-----------|-----------|\n",
      "          |      3079 |      1111 | \n",
      "          |     0.735 |     0.265 | \n",
      "          |-----------|-----------|\n",
      "\n",
      "\n",
      "\n",
      " \n"
     ]
    }
   ],
   "source": [
    "# check Churn == Yes/No proportion in train/test\n",
    "CrossTable(train$Churn)\n",
    "CrossTable(test$Churn)"
   ]
  },
  {
   "cell_type": "markdown",
   "id": "6523d617",
   "metadata": {},
   "source": [
    "---"
   ]
  },
  {
   "cell_type": "markdown",
   "id": "99b4b42c",
   "metadata": {},
   "source": [
    "## Для нашого курсу це не потрібно поки! Переходимо до наступної теми\n",
    "\n",
    "\n",
    "# 3. Splitting for n-folds"
   ]
  },
  {
   "cell_type": "code",
   "execution_count": 29,
   "id": "e52ce598",
   "metadata": {},
   "outputs": [
    {
     "data": {
      "text/html": [
       "5986"
      ],
      "text/latex": [
       "5986"
      ],
      "text/markdown": [
       "5986"
      ],
      "text/plain": [
       "[1] 5986"
      ]
     },
     "metadata": {},
     "output_type": "display_data"
    },
    {
     "data": {
      "text/html": [
       "<table class=\"dataframe\">\n",
       "<caption>A data.frame: 6 × 22</caption>\n",
       "<thead>\n",
       "\t<tr><th></th><th scope=col>X</th><th scope=col>customerID</th><th scope=col>gender</th><th scope=col>SeniorCitizen</th><th scope=col>Partner</th><th scope=col>Dependents</th><th scope=col>tenure</th><th scope=col>PhoneService</th><th scope=col>MultipleLines</th><th scope=col>InternetService</th><th scope=col>...</th><th scope=col>DeviceProtection</th><th scope=col>TechSupport</th><th scope=col>StreamingTV</th><th scope=col>StreamingMovies</th><th scope=col>Contract</th><th scope=col>PaperlessBilling</th><th scope=col>PaymentMethod</th><th scope=col>MonthlyCharges</th><th scope=col>TotalCharges</th><th scope=col>Churn</th></tr>\n",
       "\t<tr><th></th><th scope=col>&lt;int&gt;</th><th scope=col>&lt;chr&gt;</th><th scope=col>&lt;chr&gt;</th><th scope=col>&lt;int&gt;</th><th scope=col>&lt;chr&gt;</th><th scope=col>&lt;chr&gt;</th><th scope=col>&lt;int&gt;</th><th scope=col>&lt;chr&gt;</th><th scope=col>&lt;chr&gt;</th><th scope=col>&lt;chr&gt;</th><th scope=col>...</th><th scope=col>&lt;chr&gt;</th><th scope=col>&lt;chr&gt;</th><th scope=col>&lt;chr&gt;</th><th scope=col>&lt;chr&gt;</th><th scope=col>&lt;chr&gt;</th><th scope=col>&lt;chr&gt;</th><th scope=col>&lt;chr&gt;</th><th scope=col>&lt;chr&gt;</th><th scope=col>&lt;dbl&gt;</th><th scope=col>&lt;chr&gt;</th></tr>\n",
       "</thead>\n",
       "<tbody>\n",
       "\t<tr><th scope=row>1</th><td>1869</td><td>7010-BRBUU</td><td>Male  </td><td>0</td><td>Yes</td><td>Yes</td><td>72</td><td>Yes</td><td>Yes             </td><td>No         </td><td>...</td><td>No internet service</td><td>No internet service</td><td>No internet service</td><td>No internet service</td><td>Two year      </td><td>No </td><td>Credit card (automatic)  </td><td>24.1 </td><td>1734.65</td><td>No </td></tr>\n",
       "\t<tr><th scope=row>2</th><td>4528</td><td>9688-YGXVR</td><td>Female</td><td>0</td><td>No </td><td>No </td><td>44</td><td>Yes</td><td>No              </td><td>Fiber optic</td><td>...</td><td>Yes                </td><td>No                 </td><td>Yes                </td><td>No                 </td><td>Month-to-month</td><td>Yes</td><td>Credit card (automatic)  </td><td>88.15</td><td>3973.20</td><td>No </td></tr>\n",
       "\t<tr><th scope=row>3</th><td>6344</td><td>9286-DOJGF</td><td>Female</td><td>1</td><td>Yes</td><td>No </td><td>38</td><td>Yes</td><td>Yes             </td><td>Fiber optic</td><td>...</td><td>No                 </td><td>No                 </td><td>No                 </td><td>No                 </td><td>Month-to-month</td><td>Yes</td><td>Bank transfer (automatic)</td><td>74.95</td><td>2869.85</td><td>Yes</td></tr>\n",
       "\t<tr><th scope=row>4</th><td>6739</td><td>6994-KERXL</td><td>Male  </td><td>0</td><td>No </td><td>No </td><td> 4</td><td>Yes</td><td>No              </td><td>DSL        </td><td>...</td><td>No                 </td><td>No                 </td><td>No                 </td><td>Yes                </td><td>Month-to-month</td><td>Yes</td><td>Electronic check         </td><td>55.9 </td><td> 238.50</td><td>No </td></tr>\n",
       "\t<tr><th scope=row>5</th><td> 432</td><td>2181-UAESM</td><td>Male  </td><td>0</td><td>No </td><td>No </td><td> 2</td><td>Yes</td><td>No              </td><td>DSL        </td><td>...</td><td>Yes                </td><td>No                 </td><td>No                 </td><td>No                 </td><td>Month-to-month</td><td>No </td><td>Electronic check         </td><td>53.45</td><td> 119.50</td><td>No </td></tr>\n",
       "\t<tr><th scope=row>6</th><td>2215</td><td>4312-GVYNH</td><td>Female</td><td>0</td><td>Yes</td><td>No </td><td>70</td><td>No </td><td>No phone service</td><td>DSL        </td><td>...</td><td>Yes                </td><td>Yes                </td><td>No                 </td><td>Yes                </td><td>Two year      </td><td>Yes</td><td>Bank transfer (automatic)</td><td>49.85</td><td>3370.20</td><td>No </td></tr>\n",
       "</tbody>\n",
       "</table>\n"
      ],
      "text/latex": [
       "A data.frame: 6 × 22\n",
       "\\begin{tabular}{r|lllllllllllllllllllll}\n",
       "  & X & customerID & gender & SeniorCitizen & Partner & Dependents & tenure & PhoneService & MultipleLines & InternetService & ... & DeviceProtection & TechSupport & StreamingTV & StreamingMovies & Contract & PaperlessBilling & PaymentMethod & MonthlyCharges & TotalCharges & Churn\\\\\n",
       "  & <int> & <chr> & <chr> & <int> & <chr> & <chr> & <int> & <chr> & <chr> & <chr> & ... & <chr> & <chr> & <chr> & <chr> & <chr> & <chr> & <chr> & <chr> & <dbl> & <chr>\\\\\n",
       "\\hline\n",
       "\t1 & 1869 & 7010-BRBUU & Male   & 0 & Yes & Yes & 72 & Yes & Yes              & No          & ... & No internet service & No internet service & No internet service & No internet service & Two year       & No  & Credit card (automatic)   & 24.1  & 1734.65 & No \\\\\n",
       "\t2 & 4528 & 9688-YGXVR & Female & 0 & No  & No  & 44 & Yes & No               & Fiber optic & ... & Yes                 & No                  & Yes                 & No                  & Month-to-month & Yes & Credit card (automatic)   & 88.15 & 3973.20 & No \\\\\n",
       "\t3 & 6344 & 9286-DOJGF & Female & 1 & Yes & No  & 38 & Yes & Yes              & Fiber optic & ... & No                  & No                  & No                  & No                  & Month-to-month & Yes & Bank transfer (automatic) & 74.95 & 2869.85 & Yes\\\\\n",
       "\t4 & 6739 & 6994-KERXL & Male   & 0 & No  & No  &  4 & Yes & No               & DSL         & ... & No                  & No                  & No                  & Yes                 & Month-to-month & Yes & Electronic check          & 55.9  &  238.50 & No \\\\\n",
       "\t5 &  432 & 2181-UAESM & Male   & 0 & No  & No  &  2 & Yes & No               & DSL         & ... & Yes                 & No                  & No                  & No                  & Month-to-month & No  & Electronic check          & 53.45 &  119.50 & No \\\\\n",
       "\t6 & 2215 & 4312-GVYNH & Female & 0 & Yes & No  & 70 & No  & No phone service & DSL         & ... & Yes                 & Yes                 & No                  & Yes                 & Two year       & Yes & Bank transfer (automatic) & 49.85 & 3370.20 & No \\\\\n",
       "\\end{tabular}\n"
      ],
      "text/markdown": [
       "\n",
       "A data.frame: 6 × 22\n",
       "\n",
       "| <!--/--> | X &lt;int&gt; | customerID &lt;chr&gt; | gender &lt;chr&gt; | SeniorCitizen &lt;int&gt; | Partner &lt;chr&gt; | Dependents &lt;chr&gt; | tenure &lt;int&gt; | PhoneService &lt;chr&gt; | MultipleLines &lt;chr&gt; | InternetService &lt;chr&gt; | ... ... | DeviceProtection &lt;chr&gt; | TechSupport &lt;chr&gt; | StreamingTV &lt;chr&gt; | StreamingMovies &lt;chr&gt; | Contract &lt;chr&gt; | PaperlessBilling &lt;chr&gt; | PaymentMethod &lt;chr&gt; | MonthlyCharges &lt;chr&gt; | TotalCharges &lt;dbl&gt; | Churn &lt;chr&gt; |\n",
       "|---|---|---|---|---|---|---|---|---|---|---|---|---|---|---|---|---|---|---|---|---|---|\n",
       "| 1 | 1869 | 7010-BRBUU | Male   | 0 | Yes | Yes | 72 | Yes | Yes              | No          | ... | No internet service | No internet service | No internet service | No internet service | Two year       | No  | Credit card (automatic)   | 24.1  | 1734.65 | No  |\n",
       "| 2 | 4528 | 9688-YGXVR | Female | 0 | No  | No  | 44 | Yes | No               | Fiber optic | ... | Yes                 | No                  | Yes                 | No                  | Month-to-month | Yes | Credit card (automatic)   | 88.15 | 3973.20 | No  |\n",
       "| 3 | 6344 | 9286-DOJGF | Female | 1 | Yes | No  | 38 | Yes | Yes              | Fiber optic | ... | No                  | No                  | No                  | No                  | Month-to-month | Yes | Bank transfer (automatic) | 74.95 | 2869.85 | Yes |\n",
       "| 4 | 6739 | 6994-KERXL | Male   | 0 | No  | No  |  4 | Yes | No               | DSL         | ... | No                  | No                  | No                  | Yes                 | Month-to-month | Yes | Electronic check          | 55.9  |  238.50 | No  |\n",
       "| 5 |  432 | 2181-UAESM | Male   | 0 | No  | No  |  2 | Yes | No               | DSL         | ... | Yes                 | No                  | No                  | No                  | Month-to-month | No  | Electronic check          | 53.45 |  119.50 | No  |\n",
       "| 6 | 2215 | 4312-GVYNH | Female | 0 | Yes | No  | 70 | No  | No phone service | DSL         | ... | Yes                 | Yes                 | No                  | Yes                 | Two year       | Yes | Bank transfer (automatic) | 49.85 | 3370.20 | No  |\n",
       "\n"
      ],
      "text/plain": [
       "  X    customerID gender SeniorCitizen Partner Dependents tenure PhoneService\n",
       "1 1869 7010-BRBUU Male   0             Yes     Yes        72     Yes         \n",
       "2 4528 9688-YGXVR Female 0             No      No         44     Yes         \n",
       "3 6344 9286-DOJGF Female 1             Yes     No         38     Yes         \n",
       "4 6739 6994-KERXL Male   0             No      No          4     Yes         \n",
       "5  432 2181-UAESM Male   0             No      No          2     Yes         \n",
       "6 2215 4312-GVYNH Female 0             Yes     No         70     No          \n",
       "  MultipleLines    InternetService ... DeviceProtection    TechSupport        \n",
       "1 Yes              No              ... No internet service No internet service\n",
       "2 No               Fiber optic     ... Yes                 No                 \n",
       "3 Yes              Fiber optic     ... No                  No                 \n",
       "4 No               DSL             ... No                  No                 \n",
       "5 No               DSL             ... Yes                 No                 \n",
       "6 No phone service DSL             ... Yes                 Yes                \n",
       "  StreamingTV         StreamingMovies     Contract       PaperlessBilling\n",
       "1 No internet service No internet service Two year       No              \n",
       "2 Yes                 No                  Month-to-month Yes             \n",
       "3 No                  No                  Month-to-month Yes             \n",
       "4 No                  Yes                 Month-to-month Yes             \n",
       "5 No                  No                  Month-to-month No              \n",
       "6 No                  Yes                 Two year       Yes             \n",
       "  PaymentMethod             MonthlyCharges TotalCharges Churn\n",
       "1 Credit card (automatic)   24.1           1734.65      No   \n",
       "2 Credit card (automatic)   88.15          3973.20      No   \n",
       "3 Bank transfer (automatic) 74.95          2869.85      Yes  \n",
       "4 Electronic check          55.9            238.50      No   \n",
       "5 Electronic check          53.45           119.50      No   \n",
       "6 Bank transfer (automatic) 49.85          3370.20      No   "
      ]
     },
     "metadata": {},
     "output_type": "display_data"
    }
   ],
   "source": [
    "# read data again\n",
    "library(caret)\n",
    "telecom_users <- read.csv(\"data/telecom_users.csv\")\n",
    "nrow(telecom_users)\n",
    "head(telecom_users)"
   ]
  },
  {
   "cell_type": "code",
   "execution_count": 33,
   "id": "c5d2c6fc",
   "metadata": {},
   "outputs": [
    {
     "data": {
      "text/html": [
       "<dl>\n",
       "\t<dt>$Fold01</dt>\n",
       "\t\t<dd><style>\n",
       ".list-inline {list-style: none; margin:0; padding: 0}\n",
       ".list-inline>li {display: inline-block}\n",
       ".list-inline>li:not(:last-child)::after {content: \"\\00b7\"; padding: 0 .5ex}\n",
       "</style>\n",
       "<ol class=list-inline><li>1</li><li>10</li></ol>\n",
       "</dd>\n",
       "\t<dt>$Fold02</dt>\n",
       "\t\t<dd><style>\n",
       ".list-inline {list-style: none; margin:0; padding: 0}\n",
       ".list-inline>li {display: inline-block}\n",
       ".list-inline>li:not(:last-child)::after {content: \"\\00b7\"; padding: 0 .5ex}\n",
       "</style>\n",
       "<ol class=list-inline><li>3</li><li>4</li><li>15</li></ol>\n",
       "</dd>\n",
       "\t<dt>$Fold03</dt>\n",
       "\t\t<dd><style>\n",
       ".list-inline {list-style: none; margin:0; padding: 0}\n",
       ".list-inline>li {display: inline-block}\n",
       ".list-inline>li:not(:last-child)::after {content: \"\\00b7\"; padding: 0 .5ex}\n",
       "</style>\n",
       "<ol class=list-inline><li>2</li><li>17</li></ol>\n",
       "</dd>\n",
       "\t<dt>$Fold04</dt>\n",
       "\t\t<dd>8</dd>\n",
       "\t<dt>$Fold05</dt>\n",
       "\t\t<dd><style>\n",
       ".list-inline {list-style: none; margin:0; padding: 0}\n",
       ".list-inline>li {display: inline-block}\n",
       ".list-inline>li:not(:last-child)::after {content: \"\\00b7\"; padding: 0 .5ex}\n",
       "</style>\n",
       "<ol class=list-inline><li>16</li><li>22</li></ol>\n",
       "</dd>\n",
       "\t<dt>$Fold06</dt>\n",
       "\t\t<dd><style>\n",
       ".list-inline {list-style: none; margin:0; padding: 0}\n",
       ".list-inline>li {display: inline-block}\n",
       ".list-inline>li:not(:last-child)::after {content: \"\\00b7\"; padding: 0 .5ex}\n",
       "</style>\n",
       "<ol class=list-inline><li>9</li><li>18</li></ol>\n",
       "</dd>\n",
       "\t<dt>$Fold07</dt>\n",
       "\t\t<dd><style>\n",
       ".list-inline {list-style: none; margin:0; padding: 0}\n",
       ".list-inline>li {display: inline-block}\n",
       ".list-inline>li:not(:last-child)::after {content: \"\\00b7\"; padding: 0 .5ex}\n",
       "</style>\n",
       "<ol class=list-inline><li>19</li><li>20</li></ol>\n",
       "</dd>\n",
       "\t<dt>$Fold08</dt>\n",
       "\t\t<dd><style>\n",
       ".list-inline {list-style: none; margin:0; padding: 0}\n",
       ".list-inline>li {display: inline-block}\n",
       ".list-inline>li:not(:last-child)::after {content: \"\\00b7\"; padding: 0 .5ex}\n",
       "</style>\n",
       "<ol class=list-inline><li>5</li><li>12</li><li>14</li></ol>\n",
       "</dd>\n",
       "\t<dt>$Fold09</dt>\n",
       "\t\t<dd>11</dd>\n",
       "\t<dt>$Fold10</dt>\n",
       "\t\t<dd><style>\n",
       ".list-inline {list-style: none; margin:0; padding: 0}\n",
       ".list-inline>li {display: inline-block}\n",
       ".list-inline>li:not(:last-child)::after {content: \"\\00b7\"; padding: 0 .5ex}\n",
       "</style>\n",
       "<ol class=list-inline><li>6</li><li>7</li><li>13</li><li>21</li></ol>\n",
       "</dd>\n",
       "</dl>\n"
      ],
      "text/latex": [
       "\\begin{description}\n",
       "\\item[\\$Fold01] \\begin{enumerate*}\n",
       "\\item 1\n",
       "\\item 10\n",
       "\\end{enumerate*}\n",
       "\n",
       "\\item[\\$Fold02] \\begin{enumerate*}\n",
       "\\item 3\n",
       "\\item 4\n",
       "\\item 15\n",
       "\\end{enumerate*}\n",
       "\n",
       "\\item[\\$Fold03] \\begin{enumerate*}\n",
       "\\item 2\n",
       "\\item 17\n",
       "\\end{enumerate*}\n",
       "\n",
       "\\item[\\$Fold04] 8\n",
       "\\item[\\$Fold05] \\begin{enumerate*}\n",
       "\\item 16\n",
       "\\item 22\n",
       "\\end{enumerate*}\n",
       "\n",
       "\\item[\\$Fold06] \\begin{enumerate*}\n",
       "\\item 9\n",
       "\\item 18\n",
       "\\end{enumerate*}\n",
       "\n",
       "\\item[\\$Fold07] \\begin{enumerate*}\n",
       "\\item 19\n",
       "\\item 20\n",
       "\\end{enumerate*}\n",
       "\n",
       "\\item[\\$Fold08] \\begin{enumerate*}\n",
       "\\item 5\n",
       "\\item 12\n",
       "\\item 14\n",
       "\\end{enumerate*}\n",
       "\n",
       "\\item[\\$Fold09] 11\n",
       "\\item[\\$Fold10] \\begin{enumerate*}\n",
       "\\item 6\n",
       "\\item 7\n",
       "\\item 13\n",
       "\\item 21\n",
       "\\end{enumerate*}\n",
       "\n",
       "\\end{description}\n"
      ],
      "text/markdown": [
       "$Fold01\n",
       ":   1. 1\n",
       "2. 10\n",
       "\n",
       "\n",
       "\n",
       "$Fold02\n",
       ":   1. 3\n",
       "2. 4\n",
       "3. 15\n",
       "\n",
       "\n",
       "\n",
       "$Fold03\n",
       ":   1. 2\n",
       "2. 17\n",
       "\n",
       "\n",
       "\n",
       "$Fold04\n",
       ":   8\n",
       "$Fold05\n",
       ":   1. 16\n",
       "2. 22\n",
       "\n",
       "\n",
       "\n",
       "$Fold06\n",
       ":   1. 9\n",
       "2. 18\n",
       "\n",
       "\n",
       "\n",
       "$Fold07\n",
       ":   1. 19\n",
       "2. 20\n",
       "\n",
       "\n",
       "\n",
       "$Fold08\n",
       ":   1. 5\n",
       "2. 12\n",
       "3. 14\n",
       "\n",
       "\n",
       "\n",
       "$Fold09\n",
       ":   11\n",
       "$Fold10\n",
       ":   1. 6\n",
       "2. 7\n",
       "3. 13\n",
       "4. 21\n",
       "\n",
       "\n",
       "\n",
       "\n",
       "\n"
      ],
      "text/plain": [
       "$Fold01\n",
       "[1]  1 10\n",
       "\n",
       "$Fold02\n",
       "[1]  3  4 15\n",
       "\n",
       "$Fold03\n",
       "[1]  2 17\n",
       "\n",
       "$Fold04\n",
       "[1] 8\n",
       "\n",
       "$Fold05\n",
       "[1] 16 22\n",
       "\n",
       "$Fold06\n",
       "[1]  9 18\n",
       "\n",
       "$Fold07\n",
       "[1] 19 20\n",
       "\n",
       "$Fold08\n",
       "[1]  5 12 14\n",
       "\n",
       "$Fold09\n",
       "[1] 11\n",
       "\n",
       "$Fold10\n",
       "[1]  6  7 13 21\n"
      ]
     },
     "metadata": {},
     "output_type": "display_data"
    }
   ],
   "source": [
    "folds <- createFolds(telecom_users)\n",
    "folds"
   ]
  },
  {
   "cell_type": "code",
   "execution_count": 34,
   "id": "2d0972d6",
   "metadata": {},
   "outputs": [
    {
     "ename": "ERROR",
     "evalue": "Error in library(mlbench): there is no package called 'mlbench'\n",
     "output_type": "error",
     "traceback": [
      "Error in library(mlbench): there is no package called 'mlbench'\nTraceback:\n",
      "1. library(mlbench)"
     ]
    }
   ],
   "source": [
    "library(caret)\n",
    "library(mlbench)\n",
    "data(Sonar)\n",
    " \n",
    "folds <- createFolds(Sonar$Class)\n",
    "str(folds)"
   ]
  },
  {
   "cell_type": "markdown",
   "id": "470b6a51",
   "metadata": {},
   "source": [
    "## References"
   ]
  },
  {
   "cell_type": "markdown",
   "id": "21580a56",
   "metadata": {},
   "source": [
    "1. About Train, Validation and Test Sets in Machine Learning by Tarang Shah. Url: https://towardsdatascience.com/train-validation-and-test-sets-72cb40cba9e7"
   ]
  }
 ],
 "metadata": {
  "kernelspec": {
   "display_name": "R",
   "language": "R",
   "name": "ir"
  },
  "language_info": {
   "codemirror_mode": "r",
   "file_extension": ".r",
   "mimetype": "text/x-r-source",
   "name": "R",
   "pygments_lexer": "r",
   "version": "4.1.2"
  }
 },
 "nbformat": 4,
 "nbformat_minor": 5
}
