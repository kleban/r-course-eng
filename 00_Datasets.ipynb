{
 "cells": [
  {
   "cell_type": "markdown",
   "id": "885fb4cc",
   "metadata": {},
   "source": [
    "# Data Sources short description"
   ]
  },
  {
   "cell_type": "markdown",
   "id": "d5e9e527",
   "metadata": {},
   "source": [
    "---"
   ]
  },
  {
   "cell_type": "markdown",
   "id": "9a0d9bc0",
   "metadata": {},
   "source": [
    "# Table of contents"
   ]
  },
  {
   "cell_type": "markdown",
   "id": "8f9886e2",
   "metadata": {},
   "source": [
    "[gapminder](#gaminder)"
   ]
  },
  {
   "cell_type": "markdown",
   "id": "d6d4d8b8",
   "metadata": {},
   "source": [
    "---"
   ]
  },
  {
   "cell_type": "markdown",
   "id": "e1adbc4c",
   "metadata": {},
   "source": [
    "# <a id=\"gapminder\">gapminder</a> dataset"
   ]
  },
  {
   "cell_type": "markdown",
   "id": "ffafbc94",
   "metadata": {},
   "source": [
    "Source: [Gapminder dataset package](https://cran.r-project.org/web/packages/gapminder/README.html) on https://cran.r-project.org/."
   ]
  },
  {
   "cell_type": "code",
   "execution_count": 5,
   "id": "912df336",
   "metadata": {},
   "outputs": [],
   "source": [
    "#install.packages(\"gapminder\")\n",
    "library(gapminder)"
   ]
  },
  {
   "cell_type": "markdown",
   "id": "459ebdd4",
   "metadata": {},
   "source": [
    "The `gapminder` data frame include six variables:\n",
    "\n",
    "\n",
    "|variable|meaning|\n",
    "|---|---|\n",
    "|country| - |\t\n",
    "|continent| - |\t\t\n",
    "|year| - |\t\n",
    "|lifeExp|\tlife expectancy at birth|\n",
    "|pop\t|total population|\n",
    "|gdpPercap|\tper-capita GDP|\n",
    "\n",
    "`Per-capita GDP` (Gross domestic product) is given in units of international dollars, `a hypothetical unit of currency that has the same purchasing power parity that the U.S. dollar had in the United States at a given point in time` – 2005, in this case."
   ]
  },
  {
   "cell_type": "markdown",
   "id": "e7ece187",
   "metadata": {},
   "source": [
    "The `gapminder` data frame is a special kind of data frame: a `tibble`. "
   ]
  },
  {
   "cell_type": "code",
   "execution_count": 6,
   "id": "419e532b",
   "metadata": {
    "scrolled": true
   },
   "outputs": [
    {
     "data": {
      "text/html": [
       "<style>\n",
       ".list-inline {list-style: none; margin:0; padding: 0}\n",
       ".list-inline>li {display: inline-block}\n",
       ".list-inline>li:not(:last-child)::after {content: \"\\00b7\"; padding: 0 .5ex}\n",
       "</style>\n",
       "<ol class=list-inline><li>'tbl_df'</li><li>'tbl'</li><li>'data.frame'</li></ol>\n"
      ],
      "text/latex": [
       "\\begin{enumerate*}\n",
       "\\item 'tbl\\_df'\n",
       "\\item 'tbl'\n",
       "\\item 'data.frame'\n",
       "\\end{enumerate*}\n"
      ],
      "text/markdown": [
       "1. 'tbl_df'\n",
       "2. 'tbl'\n",
       "3. 'data.frame'\n",
       "\n",
       "\n"
      ],
      "text/plain": [
       "[1] \"tbl_df\"     \"tbl\"        \"data.frame\""
      ]
     },
     "metadata": {},
     "output_type": "display_data"
    }
   ],
   "source": [
    "class(gapminder)"
   ]
  },
  {
   "cell_type": "markdown",
   "id": "ba4fdd25",
   "metadata": {},
   "source": [
    "Let's preview it with functions `str()`, `glimpse()`, `head()`, `tail()`, `summary()`."
   ]
  },
  {
   "cell_type": "code",
   "execution_count": 8,
   "id": "344f4279",
   "metadata": {},
   "outputs": [
    {
     "name": "stdout",
     "output_type": "stream",
     "text": [
      "tibble[,6] [1,704 x 6] (S3: tbl_df/tbl/data.frame)\n",
      " $ country  : Factor w/ 142 levels \"Afghanistan\",..: 1 1 1 1 1 1 1 1 1 1 ...\n",
      " $ continent: Factor w/ 5 levels \"Africa\",\"Americas\",..: 3 3 3 3 3 3 3 3 3 3 ...\n",
      " $ year     : int [1:1704] 1952 1957 1962 1967 1972 1977 1982 1987 1992 1997 ...\n",
      " $ lifeExp  : num [1:1704] 28.8 30.3 32 34 36.1 ...\n",
      " $ pop      : int [1:1704] 8425333 9240934 10267083 11537966 13079460 14880372 12881816 13867957 16317921 22227415 ...\n",
      " $ gdpPercap: num [1:1704] 779 821 853 836 740 ...\n"
     ]
    }
   ],
   "source": [
    "str(gapminder)"
   ]
  },
  {
   "cell_type": "code",
   "execution_count": 9,
   "id": "1f1247d5",
   "metadata": {},
   "outputs": [
    {
     "ename": "ERROR",
     "evalue": "Error in glimpse(gapminder): could not find function \"glimpse\"\n",
     "output_type": "error",
     "traceback": [
      "Error in glimpse(gapminder): could not find function \"glimpse\"\nTraceback:\n"
     ]
    }
   ],
   "source": [
    "glimpse(gapminder)"
   ]
  }
 ],
 "metadata": {
  "kernelspec": {
   "display_name": "R",
   "language": "R",
   "name": "ir"
  },
  "language_info": {
   "codemirror_mode": "r",
   "file_extension": ".r",
   "mimetype": "text/x-r-source",
   "name": "R",
   "pygments_lexer": "r",
   "version": "4.0.5"
  }
 },
 "nbformat": 4,
 "nbformat_minor": 5
}
