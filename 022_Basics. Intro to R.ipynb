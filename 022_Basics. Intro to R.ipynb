{
 "cells": [
  {
   "cell_type": "markdown",
   "id": "7784607d",
   "metadata": {},
   "source": [
    "# Variables, Types, Operators\n",
    "\n",
    "---\n",
    "\n",
    "## Basics of programming for Data Science and Machine Learning\n",
    "\n",
    "\n",
    "Applied Mathematical Modeling in Banking"
   ]
  },
  {
   "cell_type": "markdown",
   "id": "108a32a8",
   "metadata": {},
   "source": [
    "---"
   ]
  },
  {
   "cell_type": "markdown",
   "id": "d7edad26",
   "metadata": {},
   "source": [
    "## Table of contents"
   ]
  },
  {
   "cell_type": "markdown",
   "id": "d0369b62",
   "metadata": {},
   "source": [
    "1. Declaring and initializing variables \n",
    "2. Basic data types\n",
    "3. Operators\n",
    "4. Conditional execution: if-else statements\n",
    "5. Repetitive execution: for loops, repeat and while\n",
    "6. Some useful functions in R\n",
    "7. Writing own functions"
   ]
  },
  {
   "cell_type": "markdown",
   "id": "0758bc94",
   "metadata": {},
   "source": [
    "---"
   ]
  },
  {
   "cell_type": "markdown",
   "id": "855ed0b1",
   "metadata": {},
   "source": [
    "# 1. Declaring and initializing variables "
   ]
  },
  {
   "cell_type": "markdown",
   "id": "87f4e690",
   "metadata": {},
   "source": [
    "**The concept of variables and assignment operator**"
   ]
  },
  {
   "cell_type": "markdown",
   "id": "f6414176",
   "metadata": {},
   "source": [
    "The basic concept of almost all programming languages is **variable**. A variable allows you to write a value or object and name it for further access, change, deletion by name.\n",
    "\n",
    "For example, assigning the value `10` to the variable` my_variable` is written as: `my_variable <- 5` or` my_variable = 5`.\n",
    "\n",
    "The operation of assigning a variable to a certain value in programming is called **assignment **.\n",
    "\n",
    "_Importantly! Note that assignment (`<-`,` = `) and equality (` == `) are different concepts. The operator `==` checks the match of the values of two variables/objects and returns the result as a logical value `TRUE` (if the values are equal) or` FALSE` (if the values are not equal)_.\n",
    "\n",
    "The `<-` character is not often used in various programming languages, usually used for assignment `=`. However, in R the main means of initial initialization of variables is `<-`.\n",
    "\n",
    "_Also in programming on R assignment operators `<<-`, `->`, `->>` are used. You can read about them in the numbers below._"
   ]
  },
  {
   "cell_type": "markdown",
   "id": "c7500fd9",
   "metadata": {},
   "source": [
    "<div class=\"alert alert-success\">\n",
    "I recommend reading about the difference between assignment operators in R <code>&lt;-</code> and <code>=</code> here:\n",
    "\n",
    " 1. [Why do we use arrow as an assignment operator? (Colin FAY)](https://colinfay.me/r-assignment/).\n",
    " 2. [Difference between assignment operators in R (Ren Kun)](https://renkun.me/2014/01/28/difference-between-assignment-operators-in-r/).\n",
    " 3. [Assignment Operators](https://stat.ethz.ch/R-manual/R-devel/library/base/html/assignOps.html).\n",
    "</div>"
   ]
  },
  {
   "cell_type": "markdown",
   "id": "a7851d09",
   "metadata": {},
   "source": [
    "Example:"
   ]
  },
  {
   "cell_type": "code",
   "execution_count": 2,
   "id": "02690826",
   "metadata": {},
   "outputs": [
    {
     "data": {
      "text/html": [
       "55"
      ],
      "text/latex": [
       "55"
      ],
      "text/markdown": [
       "55"
      ],
      "text/plain": [
       "[1] 55"
      ]
     },
     "metadata": {},
     "output_type": "display_data"
    }
   ],
   "source": [
    "x <- 45\n",
    "y <- 10\n",
    "z <- x + y # z = 45 + 10\n",
    "z"
   ]
  },
  {
   "cell_type": "markdown",
   "id": "b036c716",
   "metadata": {},
   "source": [
    "Consider the example described above:\n",
    "\n",
    "- [x] In the first line the variable `x` is declared and it is assigned value` 45`.\n",
    "- [x] In the second line the variable `y` is declared and it is assigned value` 10`.\n",
    "- [x] In the third line the variable `z` is declared and the value of the sum` x` + `y` is assigned to it. <br><small><i> `#` in R is used as a code comment, text written after it is ignored.</i></small>\n",
    "- [x] The fourth line displays the variable `z` on the console."
   ]
  },
  {
   "cell_type": "markdown",
   "id": "0f4ba13a",
   "metadata": {},
   "source": [
    "---"
   ]
  },
  {
   "cell_type": "markdown",
   "id": "a16d0225",
   "metadata": {},
   "source": [
    "**Variable naming rules**\n",
    "\n",
    "There are a few basic rules for naming variables in R:\n",
    "1. The name of the variable may consist of **letters** [a-z, A-z], **digits** [0-9], **dot** `.` and **underline**` _`.\n",
    "2. The variable name must start with **letter or dot**. If it starts with a dot, then the next character must be a letter.\n",
    "3. You cannot use reserved programming language keywords to name variables, such as `TRUE` /` FALSE`.\n",
    "\n",
    "The variable name cannot contain a space (`space`). If there is a need to name an object in a few words, they are usually separated by an underscore `_` or a period` .`. For example, a variable can be called `my_variable_name` or` my.variable.name`. The name `myVariableName` ([camel case] (https://en.wikipedia.org/wiki/Camel_case)) will also be correctly perceived in the R programming language, but such an entry is not often used here.\n"
   ]
  },
  {
   "cell_type": "markdown",
   "id": "0f48bda1",
   "metadata": {},
   "source": [
    "<span class=\"text-success\">Приклад коректного іменування змінних:</span> `total`, `zminna`, `Sum`, `.length_of_something`, `Number123, x_1`.\n",
    "\n",
    "<span class=\"text-danger\">Приклад неправильного іменування змінних:</span> `tot@l`, `5x_1`, `_variable`, `FALSE`, `.0ne`."
   ]
  },
  {
   "cell_type": "markdown",
   "id": "294a23ee",
   "metadata": {},
   "source": [
    "---"
   ]
  },
  {
   "cell_type": "markdown",
   "id": "0094d743",
   "metadata": {},
   "source": [
    "# 2. Basic data types"
   ]
  },
  {
   "cell_type": "markdown",
   "id": "5d581980",
   "metadata": {},
   "source": [
    "All programming languages have their own typing of the data they work with. A data type is a set of properties of certain objects and operations that can be performed with them. For example, with **integers** you can perform arithmetic operations of addition, subtraction and others. Character sets (in simple words **text**) can usually be used to search for items, edit (by deleting part of existing or adding new text), pasting and dividing into parts.\n",
    "\n",
    "In `R`, in contrast to strictly typed programming languages, the data type is determined based on the current value of the element and may change during execution."
   ]
  },
  {
   "cell_type": "markdown",
   "id": "36289f0d",
   "metadata": {},
   "source": [
    "Let's look at an example of code from the `C#` programming language (a language native to `C`/`Java`):\n",
    "\n",
    "```csharp\n",
    "int a = 10;\n",
    "a = \"some text\";\n",
    "```"
   ]
  },
  {
   "cell_type": "markdown",
   "id": "a16dcf01",
   "metadata": {},
   "source": [
    "A similar code in `C#` involves creating a new variable `a` of type` int` (`integer` is an integer), and then assigning a text fragment to` a` (type `string` in` C#`). This code will not run and there will be a <span class=\"text-danger\"> **compilation error** </span>."
   ]
  },
  {
   "cell_type": "markdown",
   "id": "f3cf5d59",
   "metadata": {},
   "source": [
    "Consider an example of code from `R`:"
   ]
  },
  {
   "cell_type": "code",
   "execution_count": 4,
   "id": "9dec82b9",
   "metadata": {},
   "outputs": [
    {
     "data": {
      "text/html": [
       "'some text'"
      ],
      "text/latex": [
       "'some text'"
      ],
      "text/markdown": [
       "'some text'"
      ],
      "text/plain": [
       "[1] \"some text\""
      ]
     },
     "metadata": {},
     "output_type": "display_data"
    }
   ],
   "source": [
    "a <- 10\n",
    "a <- \"some text\"\n",
    "a"
   ]
  },
  {
   "cell_type": "markdown",
   "id": "c4f2891b",
   "metadata": {},
   "source": [
    "This code will be executed and `some text` will be displayed on the console, because in the first line an integer was assigned, in the second - text. Thus `R` has **dynamic typing**, which allows you to write values of different types in the same variable. However, it is worth remembering that the previous value will be lost."
   ]
  },
  {
   "cell_type": "markdown",
   "id": "8e7ababe",
   "metadata": {},
   "source": [
    "The basic data types in R include:\n",
    "\n",
    "- [x] Numbers with a fractional part (`decimal numbers`), such as` 4.0`, `15.214`, called **`numeric(s)`**.\n",
    "- [x] Natural numbers, such as `4`,` 15`, called **`integer(s)`**.\n",
    "- [x] Boolean values, ie `TRUE` and` FALSE` (which can also be abbreviated to `T` and` F`), called **`logical`**.\n",
    "- [x] Text or strings (`string values`), such as` \"Hello\" `,` \"12 is number\" `, called **`character(s)`**."
   ]
  },
  {
   "cell_type": "markdown",
   "id": "2e1f4168",
   "metadata": {},
   "source": [
    "Let's declare for an example three variables: `my_numeric` - number,` my_character` - the text, `my_logical` - logical value."
   ]
  },
  {
   "cell_type": "code",
   "execution_count": 8,
   "id": "686d5cfd",
   "metadata": {},
   "outputs": [],
   "source": [
    "my_numeric <- 5\n",
    "my_character <- \"universe\"\n",
    "my_logical <- FALSE"
   ]
  },
  {
   "cell_type": "markdown",
   "id": "a9c7a6a3",
   "metadata": {},
   "source": [
    "Replace the value `my_character <-\" 5 \"` and try to find the sum of the values:"
   ]
  },
  {
   "cell_type": "code",
   "execution_count": 10,
   "id": "55eca04b",
   "metadata": {},
   "outputs": [
    {
     "ename": "ERROR",
     "evalue": "Error in my_numeric + my_character: non-numeric argument to binary operator\n",
     "output_type": "error",
     "traceback": [
      "Error in my_numeric + my_character: non-numeric argument to binary operator\nTraceback:\n"
     ]
    }
   ],
   "source": [
    "my_character <- \"5\"\n",
    "my_sum <- my_numeric + my_character"
   ]
  },
  {
   "cell_type": "markdown",
   "id": "bc30e639",
   "metadata": {},
   "source": [
    "As a result of laying out the given code we will receive an error, after all values `5` and` \"5\" `are elements of various types of the data, we will check types by means of function`class()`:"
   ]
  },
  {
   "cell_type": "code",
   "execution_count": 12,
   "id": "a67799f9",
   "metadata": {},
   "outputs": [
    {
     "data": {
      "text/html": [
       "'numeric'"
      ],
      "text/latex": [
       "'numeric'"
      ],
      "text/markdown": [
       "'numeric'"
      ],
      "text/plain": [
       "[1] \"numeric\""
      ]
     },
     "metadata": {},
     "output_type": "display_data"
    },
    {
     "data": {
      "text/html": [
       "'character'"
      ],
      "text/latex": [
       "'character'"
      ],
      "text/markdown": [
       "'character'"
      ],
      "text/plain": [
       "[1] \"character\""
      ]
     },
     "metadata": {},
     "output_type": "display_data"
    }
   ],
   "source": [
    "class(5)\n",
    "class(\"5\")"
   ]
  },
  {
   "cell_type": "markdown",
   "id": "24dc7d0f",
   "metadata": {},
   "source": [
    "Execution of the code `class(5)` shows us that `5` is the value of the numeric data type` numeric`, and `class(\"5\")` corresponds to the text `character`, so the arithmetic operation of adding between these values is impossible."
   ]
  },
  {
   "cell_type": "markdown",
   "id": "fe16a9aa",
   "metadata": {},
   "source": [
    "---"
   ]
  },
  {
   "cell_type": "markdown",
   "id": "dc894393",
   "metadata": {},
   "source": [
    "**Checking and casting data types**"
   ]
  },
  {
   "cell_type": "markdown",
   "id": "a3baeac5",
   "metadata": {},
   "source": [
    "*Cast data types* - the operation of converting values from one data type to another. It is important to remember that data types cannot always be reduced. For example, the value of `\"5\"` (`character`) can be easily reduced to` 5` (`numeric`), but` \"five\" `will not be clear to the interpreter."
   ]
  },
  {
   "cell_type": "markdown",
   "id": "c3d424ce",
   "metadata": {},
   "source": [
    "To check whether an element belongs to a certain data type, use the special function `is.type_name (value)`. This function returns `TRUE` if the item belongs to this type and` FALSE` if it does not belong.\n",
    "\n",
    "Consider an example:"
   ]
  },
  {
   "cell_type": "code",
   "execution_count": 15,
   "id": "af7d4f63",
   "metadata": {},
   "outputs": [
    {
     "data": {
      "text/html": [
       "TRUE"
      ],
      "text/latex": [
       "TRUE"
      ],
      "text/markdown": [
       "TRUE"
      ],
      "text/plain": [
       "[1] TRUE"
      ]
     },
     "metadata": {},
     "output_type": "display_data"
    },
    {
     "data": {
      "text/html": [
       "FALSE"
      ],
      "text/latex": [
       "FALSE"
      ],
      "text/markdown": [
       "FALSE"
      ],
      "text/plain": [
       "[1] FALSE"
      ]
     },
     "metadata": {},
     "output_type": "display_data"
    }
   ],
   "source": [
    "my_numeric <- 5\n",
    "my_character <- \"five\"\n",
    "my_logical <- FALSE\n",
    "\n",
    "is.numeric(my_numeric)\n",
    "is.character(my_numeric)"
   ]
  },
  {
   "cell_type": "markdown",
   "id": "32f637f8",
   "metadata": {},
   "source": [
    "You can use the `as.type_name(value)` function to convert the data type. As a result of execution of function the value of the necessary type or empty value `NA` will be returned if such reduction is not possible:"
   ]
  },
  {
   "cell_type": "code",
   "execution_count": 17,
   "id": "88472776",
   "metadata": {},
   "outputs": [
    {
     "data": {
      "text/html": [
       "10"
      ],
      "text/latex": [
       "10"
      ],
      "text/markdown": [
       "10"
      ],
      "text/plain": [
       "[1] 10"
      ]
     },
     "metadata": {},
     "output_type": "display_data"
    },
    {
     "name": "stderr",
     "output_type": "stream",
     "text": [
      "Warning message in eval(expr, envir, enclos):\n",
      "\"NAs introduced by coercion\"\n"
     ]
    },
    {
     "data": {
      "text/html": [
       "&lt;NA&gt;"
      ],
      "text/latex": [
       "<NA>"
      ],
      "text/markdown": [
       "&lt;NA&gt;"
      ],
      "text/plain": [
       "[1] NA"
      ]
     },
     "metadata": {},
     "output_type": "display_data"
    }
   ],
   "source": [
    "a <- 5\n",
    "b <- \"10\"\n",
    "c <- \"10, 20\"\n",
    "as.numeric(b)\n",
    "as.numeric(c)"
   ]
  },
  {
   "cell_type": "markdown",
   "id": "ada8040d",
   "metadata": {},
   "source": [
    "The result of the functions can be written in a variable and used in the following calculations:"
   ]
  },
  {
   "cell_type": "code",
   "execution_count": 19,
   "id": "17739b8a",
   "metadata": {},
   "outputs": [
    {
     "data": {
      "text/html": [
       "15"
      ],
      "text/latex": [
       "15"
      ],
      "text/markdown": [
       "15"
      ],
      "text/plain": [
       "[1] 15"
      ]
     },
     "metadata": {},
     "output_type": "display_data"
    }
   ],
   "source": [
    "a <- 5\n",
    "b <- \"10\"\n",
    "b <- as.numeric(b)\n",
    "a + b"
   ]
  },
  {
   "cell_type": "code",
   "execution_count": 21,
   "id": "06e3b786",
   "metadata": {},
   "outputs": [
    {
     "data": {
      "text/html": [
       "'integer'"
      ],
      "text/latex": [
       "'integer'"
      ],
      "text/markdown": [
       "'integer'"
      ],
      "text/plain": [
       "[1] \"integer\""
      ]
     },
     "metadata": {},
     "output_type": "display_data"
    },
    {
     "data": {
      "text/html": [
       "'integer'"
      ],
      "text/latex": [
       "'integer'"
      ],
      "text/markdown": [
       "'integer'"
      ],
      "text/plain": [
       "[1] \"integer\""
      ]
     },
     "metadata": {},
     "output_type": "display_data"
    }
   ],
   "source": [
    "number <- as.integer(54)\n",
    "typeof(number)\n",
    "class(number)"
   ]
  },
  {
   "cell_type": "markdown",
   "id": "c5ad92cd",
   "metadata": {},
   "source": [
    "The full list of types and methods of verification and reduction of their types is shown below:"
   ]
  },
  {
   "cell_type": "markdown",
   "id": "73ba20d5",
   "metadata": {},
   "source": [
    "| Type name | Check type function | Cast type function |\n",
    "|---------|---------|--------|\n",
    "|Array|is.array|as.array|\n",
    "|**Character**|is.character|as.character|\n",
    "|Complex |is.complex |as.complex|\n",
    "|Dataframe |is.data.frame |as.data.frame|\n",
    "|**Double** |is.double |as.double|\n",
    "|Factor |is.factor |as.factor|\n",
    "|List |is.list| as.list|\n",
    "|**Logical** |is.logical |as.logical|\n",
    "|Matrix |is.matrix |as.matrix|\n",
    "|**Numeric** |is.numeric |as.numeric\n",
    "|Raw| is.raw| as.raw|\n",
    "|Time series (ts)| is.ts| as.ts|\n",
    "|Vector| is.vector |as.vector|"
   ]
  },
  {
   "cell_type": "markdown",
   "id": "bc5c59e4",
   "metadata": {},
   "source": [
    "---"
   ]
  },
  {
   "cell_type": "markdown",
   "id": "df2eddd0",
   "metadata": {},
   "source": [
    "# 3. Operators"
   ]
  },
  {
   "cell_type": "markdown",
   "id": "ef2eea59",
   "metadata": {},
   "source": [
    "**Arithmetic operators**"
   ]
  },
  {
   "cell_type": "markdown",
   "id": "14c721c8",
   "metadata": {},
   "source": [
    "`R` can be used as a regular calculator.\n",
    "\n",
    "Consider a set of familiar arithmetic operators known from elementary school:\n",
    "* Adding: `+`.\n",
    "* Subtraction: `-`.\n",
    "* Division: `/`.\n",
    "* Multiplication: `*`.\n",
    "\n",
    "As well as more complex operators:\n",
    "* Upgrade: `^` (entered from the keyboard as `Shift + 6` on the ENG keyboard layout).\n",
    "* The remainder of the division (may also be called \"module division\"): `%%` (entered from the keyboard as `Shift + 5`).\n",
    "* Target division: `%/%`.\n",
    "\n",
    "Consider an example of ** adding ** numbers:"
   ]
  },
  {
   "cell_type": "code",
   "execution_count": 23,
   "id": "94d2a788",
   "metadata": {},
   "outputs": [
    {
     "data": {
      "text/html": [
       "15"
      ],
      "text/latex": [
       "15"
      ],
      "text/markdown": [
       "15"
      ],
      "text/plain": [
       "[1] 15"
      ]
     },
     "metadata": {},
     "output_type": "display_data"
    }
   ],
   "source": [
    "5 + 10"
   ]
  },
  {
   "cell_type": "code",
   "execution_count": 25,
   "id": "35b65c81",
   "metadata": {},
   "outputs": [
    {
     "data": {
      "text/html": [
       "24"
      ],
      "text/latex": [
       "24"
      ],
      "text/markdown": [
       "24"
      ],
      "text/plain": [
       "[1] 24"
      ]
     },
     "metadata": {},
     "output_type": "display_data"
    },
    {
     "data": {
      "text/html": [
       "401"
      ],
      "text/latex": [
       "401"
      ],
      "text/markdown": [
       "401"
      ],
      "text/plain": [
       "[1] 401"
      ]
     },
     "metadata": {},
     "output_type": "display_data"
    }
   ],
   "source": [
    "5 + 4 + 15\n",
    "5 + 53 + 343"
   ]
  },
  {
   "cell_type": "code",
   "execution_count": 27,
   "id": "42c45bc8",
   "metadata": {},
   "outputs": [
    {
     "data": {
      "text/html": [
       "26"
      ],
      "text/latex": [
       "26"
      ],
      "text/markdown": [
       "26"
      ],
      "text/plain": [
       "[1] 26"
      ]
     },
     "metadata": {},
     "output_type": "display_data"
    }
   ],
   "source": [
    "(5 + 8) + (4 + 9)"
   ]
  },
  {
   "cell_type": "markdown",
   "id": "5a811a2c",
   "metadata": {},
   "source": [
    "<div class = \"alert alert-info\">\n",
    "<i>Note</i>. The use of parentheses in programming expressions has a priority similar to that commonly used in mathematics.</div>\n",
    "\n",
    "Consider the example of **subtraction** of numbers:"
   ]
  },
  {
   "cell_type": "code",
   "execution_count": 29,
   "id": "7c13b34e",
   "metadata": {},
   "outputs": [
    {
     "data": {
      "text/html": [
       "26"
      ],
      "text/latex": [
       "26"
      ],
      "text/markdown": [
       "26"
      ],
      "text/plain": [
       "[1] 26"
      ]
     },
     "metadata": {},
     "output_type": "display_data"
    }
   ],
   "source": [
    "47 - 21"
   ]
  },
  {
   "cell_type": "code",
   "execution_count": 31,
   "id": "a209ceae",
   "metadata": {},
   "outputs": [
    {
     "data": {
      "text/html": [
       "30"
      ],
      "text/latex": [
       "30"
      ],
      "text/markdown": [
       "30"
      ],
      "text/plain": [
       "[1] 30"
      ]
     },
     "metadata": {},
     "output_type": "display_data"
    }
   ],
   "source": [
    "15 - (10 - 25)"
   ]
  },
  {
   "cell_type": "markdown",
   "id": "60de0df4",
   "metadata": {},
   "source": [
    "<div class = \"alert alert-info\">\n",
    "<i>Note</i>. Replacement of signs to/in \"brackets\" here works the same as worked at school:)\n",
    "</div>"
   ]
  },
  {
   "cell_type": "markdown",
   "id": "71972dcc",
   "metadata": {},
   "source": [
    "Examples of **multiplication** of numbers:"
   ]
  },
  {
   "cell_type": "code",
   "execution_count": 33,
   "id": "22a06a70",
   "metadata": {},
   "outputs": [
    {
     "data": {
      "text/html": [
       "15"
      ],
      "text/latex": [
       "15"
      ],
      "text/markdown": [
       "15"
      ],
      "text/plain": [
       "[1] 15"
      ]
     },
     "metadata": {},
     "output_type": "display_data"
    }
   ],
   "source": [
    "5 * 3"
   ]
  },
  {
   "cell_type": "code",
   "execution_count": 35,
   "id": "80e11d38",
   "metadata": {},
   "outputs": [
    {
     "data": {
      "text/html": [
       "35"
      ],
      "text/latex": [
       "35"
      ],
      "text/markdown": [
       "35"
      ],
      "text/plain": [
       "[1] 35"
      ]
     },
     "metadata": {},
     "output_type": "display_data"
    }
   ],
   "source": [
    "5 * (2 + 5)"
   ]
  },
  {
   "cell_type": "markdown",
   "id": "cd57c5cd",
   "metadata": {},
   "source": [
    "Examples of **division** of numbers:"
   ]
  },
  {
   "cell_type": "code",
   "execution_count": 37,
   "id": "63ebd9c1",
   "metadata": {},
   "outputs": [
    {
     "data": {
      "text/html": [
       "6"
      ],
      "text/latex": [
       "6"
      ],
      "text/markdown": [
       "6"
      ],
      "text/plain": [
       "[1] 6"
      ]
     },
     "metadata": {},
     "output_type": "display_data"
    }
   ],
   "source": [
    "12 / 2"
   ]
  },
  {
   "cell_type": "code",
   "execution_count": 39,
   "id": "9a30e6d7",
   "metadata": {},
   "outputs": [
    {
     "data": {
      "text/html": [
       "3.66666666666667"
      ],
      "text/latex": [
       "3.66666666666667"
      ],
      "text/markdown": [
       "3.66666666666667"
      ],
      "text/plain": [
       "[1] 3.666667"
      ]
     },
     "metadata": {},
     "output_type": "display_data"
    }
   ],
   "source": [
    "(4 + 7) / 3"
   ]
  },
  {
   "cell_type": "markdown",
   "id": "5c49ac8a",
   "metadata": {},
   "source": [
    "**Exponentiation** with the `^` operator is fairly simple. For example, `3^2` is equal to 9, and `2^3` is $2 * 2 * 2$ and is equal to `8`. Its the same operator in MS Excel."
   ]
  },
  {
   "cell_type": "code",
   "execution_count": 40,
   "id": "97ef4ac3",
   "metadata": {},
   "outputs": [
    {
     "data": {
      "text/html": [
       "25"
      ],
      "text/latex": [
       "25"
      ],
      "text/markdown": [
       "25"
      ],
      "text/plain": [
       "[1] 25"
      ]
     },
     "metadata": {},
     "output_type": "display_data"
    }
   ],
   "source": [
    "5^2"
   ]
  },
  {
   "cell_type": "code",
   "execution_count": 42,
   "id": "71574203",
   "metadata": {},
   "outputs": [
    {
     "data": {
      "text/html": [
       "164"
      ],
      "text/latex": [
       "164"
      ],
      "text/markdown": [
       "164"
      ],
      "text/plain": [
       "[1] 164"
      ]
     },
     "metadata": {},
     "output_type": "display_data"
    }
   ],
   "source": [
    "(1+3)^3 + 100 "
   ]
  },
  {
   "cell_type": "markdown",
   "id": "ef1246a6",
   "metadata": {},
   "source": [
    "**The remainder of the division** (`%%`) allows you to find the remainder of one number from the division by another number.\n",
    "\n",
    "For example, the remainder of the division by the integer 5 by 2 is equal to 1, because `2 * 2 (=4) + 1 = 5`"
   ]
  },
  {
   "cell_type": "code",
   "execution_count": 44,
   "id": "26f21551",
   "metadata": {},
   "outputs": [
    {
     "data": {
      "text/html": [
       "0"
      ],
      "text/latex": [
       "0"
      ],
      "text/markdown": [
       "0"
      ],
      "text/plain": [
       "[1] 0"
      ]
     },
     "metadata": {},
     "output_type": "display_data"
    }
   ],
   "source": [
    "28 %% 7"
   ]
  },
  {
   "cell_type": "code",
   "execution_count": 46,
   "id": "e3a7c12b",
   "metadata": {},
   "outputs": [
    {
     "data": {
      "text/html": [
       "2"
      ],
      "text/latex": [
       "2"
      ],
      "text/markdown": [
       "2"
      ],
      "text/plain": [
       "[1] 2"
      ]
     },
     "metadata": {},
     "output_type": "display_data"
    }
   ],
   "source": [
    "17%%5"
   ]
  },
  {
   "cell_type": "markdown",
   "id": "1771e41d",
   "metadata": {},
   "source": [
    "**Divisible integer** (`%|%`) leaves only the integer part of the division of two numbers:"
   ]
  },
  {
   "cell_type": "code",
   "execution_count": 48,
   "id": "7229c732",
   "metadata": {},
   "outputs": [
    {
     "data": {
      "text/html": [
       "4"
      ],
      "text/latex": [
       "4"
      ],
      "text/markdown": [
       "4"
      ],
      "text/plain": [
       "[1] 4"
      ]
     },
     "metadata": {},
     "output_type": "display_data"
    }
   ],
   "source": [
    "28 %/% 7"
   ]
  },
  {
   "cell_type": "code",
   "execution_count": 51,
   "id": "a9589c5f",
   "metadata": {},
   "outputs": [
    {
     "data": {
      "text/html": [
       "3"
      ],
      "text/latex": [
       "3"
      ],
      "text/markdown": [
       "3"
      ],
      "text/plain": [
       "[1] 3"
      ]
     },
     "metadata": {},
     "output_type": "display_data"
    }
   ],
   "source": [
    "17 %/% 5"
   ]
  },
  {
   "cell_type": "markdown",
   "id": "438b38f1",
   "metadata": {},
   "source": [
    "---"
   ]
  },
  {
   "cell_type": "markdown",
   "id": "f108e660",
   "metadata": {},
   "source": [
    "**Relation operators**"
   ]
  },
  {
   "cell_type": "markdown",
   "id": "7cc30b7d",
   "metadata": {},
   "source": [
    "**Relation operators** are responsible for comparing two objects with each other and return values of the logical type `TRUE` if the result is true and` FALSE` if the result is false."
   ]
  },
  {
   "cell_type": "markdown",
   "id": "da3b5767",
   "metadata": {},
   "source": [
    "List of relation operators:\n",
    "\n",
    "- [x] Greater than or equal to `> =`.\n",
    "- [x] Less than `<`.\n",
    "- [x] Less than or equal to `<=`.\n",
    "- [x] Is equal to `==`.\n",
    "- [x] Not equal to `! =`\n",
    "\n",
    "To demonstrate the principles of operation of the relationship operators, we declare 3 variables `a`,` b` and `c`."
   ]
  },
  {
   "cell_type": "code",
   "execution_count": 53,
   "id": "16769712",
   "metadata": {},
   "outputs": [],
   "source": [
    "a <- 12\n",
    "b <- 5\n",
    "c <- 7"
   ]
  },
  {
   "cell_type": "markdown",
   "id": "fc51e437",
   "metadata": {},
   "source": [
    "Let's look at some examples of using the operators described above.\n",
    "\n",
    "Operators responsible for checking for \"more/less\":"
   ]
  },
  {
   "cell_type": "code",
   "execution_count": 55,
   "id": "604dea82",
   "metadata": {},
   "outputs": [
    {
     "data": {
      "text/html": [
       "TRUE"
      ],
      "text/latex": [
       "TRUE"
      ],
      "text/markdown": [
       "TRUE"
      ],
      "text/plain": [
       "[1] TRUE"
      ]
     },
     "metadata": {},
     "output_type": "display_data"
    },
    {
     "data": {
      "text/html": [
       "FALSE"
      ],
      "text/latex": [
       "FALSE"
      ],
      "text/markdown": [
       "FALSE"
      ],
      "text/plain": [
       "[1] FALSE"
      ]
     },
     "metadata": {},
     "output_type": "display_data"
    },
    {
     "data": {
      "text/html": [
       "TRUE"
      ],
      "text/latex": [
       "TRUE"
      ],
      "text/markdown": [
       "TRUE"
      ],
      "text/plain": [
       "[1] TRUE"
      ]
     },
     "metadata": {},
     "output_type": "display_data"
    }
   ],
   "source": [
    "a > b\n",
    "b + c < a\n",
    "b + c <= a"
   ]
  },
  {
   "cell_type": "markdown",
   "id": "98fc4df8",
   "metadata": {},
   "source": [
    "Operators responsible for checking for \"equality/inequality\":"
   ]
  },
  {
   "cell_type": "code",
   "execution_count": 58,
   "id": "e1ba22ab",
   "metadata": {},
   "outputs": [
    {
     "data": {
      "text/html": [
       "TRUE"
      ],
      "text/latex": [
       "TRUE"
      ],
      "text/markdown": [
       "TRUE"
      ],
      "text/plain": [
       "[1] TRUE"
      ]
     },
     "metadata": {},
     "output_type": "display_data"
    },
    {
     "data": {
      "text/html": [
       "TRUE"
      ],
      "text/latex": [
       "TRUE"
      ],
      "text/markdown": [
       "TRUE"
      ],
      "text/plain": [
       "[1] TRUE"
      ]
     },
     "metadata": {},
     "output_type": "display_data"
    },
    {
     "data": {
      "text/html": [
       "FALSE"
      ],
      "text/latex": [
       "FALSE"
      ],
      "text/markdown": [
       "FALSE"
      ],
      "text/plain": [
       "[1] FALSE"
      ]
     },
     "metadata": {},
     "output_type": "display_data"
    }
   ],
   "source": [
    "a != b\n",
    "a == b + c\n",
    "b == c"
   ]
  },
  {
   "cell_type": "markdown",
   "id": "6a1a8a66",
   "metadata": {},
   "source": [
    "---"
   ]
  },
  {
   "cell_type": "markdown",
   "id": "431bfc99",
   "metadata": {},
   "source": [
    "**Logical operators**"
   ]
  },
  {
   "cell_type": "markdown",
   "id": "1f5859c5",
   "metadata": {},
   "source": [
    "The logical operators in `R` include:\n",
    "\n",
    "- [x] And `&` (ampersand, `Shift-7`) - fulfill all conditions at once.\n",
    "- [x] OR `|` (vertical bar, `Shift + \\`) - fulfillment of one of the conditions.\n",
    "- [x] NO `!` (Exclamation mark, `Shift + 1`) - objection.\n",
    "\n",
    "It is important to understand the differences between these operators and to be able to use the results of their work. To begin, consider the truth table:"
   ]
  },
  {
   "cell_type": "markdown",
   "id": "dcd247ef",
   "metadata": {},
   "source": [
    "| A | B | Operator **AND** | Operator **OR** | Denial A (**not A**)|\n",
    "|---|---|-------|------|-------|\n",
    "|FALSE|FALSE|FALSE|FALSE|TRUE|\n",
    "|FALSE|TRUE|FALSE|TRUE|TRUE|\n",
    "|TRUE|FALSE|FALSE|TRUE|FALSE|\n",
    "|TRUE|TRUE|TRUE|TRUE|FALSE|"
   ]
  },
  {
   "cell_type": "markdown",
   "id": "5238cea7",
   "metadata": {},
   "source": [
    "**TASKS FOR STUDENTS**"
   ]
  },
  {
   "cell_type": "markdown",
   "id": "8905d9a9",
   "metadata": {},
   "source": [
    "**TASK 1.** Check the code:"
   ]
  },
  {
   "cell_type": "code",
   "execution_count": 63,
   "id": "f39389a1",
   "metadata": {},
   "outputs": [
    {
     "data": {
      "text/html": [
       "TRUE"
      ],
      "text/latex": [
       "TRUE"
      ],
      "text/markdown": [
       "TRUE"
      ],
      "text/plain": [
       "[1] TRUE"
      ]
     },
     "metadata": {},
     "output_type": "display_data"
    }
   ],
   "source": [
    "a <- 10\n",
    "b <- 4\n",
    "\n",
    "a %% b > 0 # what is result "
   ]
  },
  {
   "cell_type": "markdown",
   "id": "12d1f036",
   "metadata": {},
   "source": [
    "Explanation\n",
    "a %% b = 2, so 2 > 0"
   ]
  },
  {
   "cell_type": "markdown",
   "id": "017202dc",
   "metadata": {},
   "source": [
    "**TASK 2**. Check the code"
   ]
  },
  {
   "cell_type": "code",
   "execution_count": 66,
   "id": "8dc8ef51",
   "metadata": {},
   "outputs": [
    {
     "data": {
      "text/html": [
       "7"
      ],
      "text/latex": [
       "7"
      ],
      "text/markdown": [
       "7"
      ],
      "text/plain": [
       "[1] 7"
      ]
     },
     "metadata": {},
     "output_type": "display_data"
    }
   ],
   "source": [
    "a <- 7\n",
    "b <- 12\n",
    "c <- a - b %% 2\n",
    "\n",
    "c # what is c"
   ]
  },
  {
   "cell_type": "code",
   "execution_count": 68,
   "id": "34bfd96f",
   "metadata": {},
   "outputs": [
    {
     "data": {
      "text/html": [
       "TRUE"
      ],
      "text/latex": [
       "TRUE"
      ],
      "text/markdown": [
       "TRUE"
      ],
      "text/plain": [
       "[1] TRUE"
      ]
     },
     "metadata": {},
     "output_type": "display_data"
    }
   ],
   "source": [
    "c > 0 & b > a"
   ]
  },
  {
   "cell_type": "code",
   "execution_count": 70,
   "id": "e2748736",
   "metadata": {},
   "outputs": [
    {
     "data": {
      "text/html": [
       "TRUE"
      ],
      "text/latex": [
       "TRUE"
      ],
      "text/markdown": [
       "TRUE"
      ],
      "text/plain": [
       "[1] TRUE"
      ]
     },
     "metadata": {},
     "output_type": "display_data"
    }
   ],
   "source": [
    "c < 0 | b > a"
   ]
  },
  {
   "cell_type": "markdown",
   "id": "b726e7ee",
   "metadata": {},
   "source": [
    "---"
   ]
  },
  {
   "cell_type": "markdown",
   "id": "01a03610",
   "metadata": {},
   "source": [
    "# 4. Conditional execution: if-else statements"
   ]
  },
  {
   "cell_type": "markdown",
   "id": "49ff8667",
   "metadata": {},
   "source": [
    "The language has conditional construction of the form\n",
    "\n",
    "`if (logical_expr) code_1 else code_2`\n",
    "\n",
    "where `logical_expr` must evaluate to a single logical value and the result of the entire expression is then evident.\n",
    "\n",
    "The “short-circuit” operators && and || are often used as part of the condition in an if statement. Whereas & and | apply element-wise to vectors, && and || apply to vectors of length one, and only evaluate their second argument if necessary.\n",
    "\n",
    "If-else statements can be complex with many nodes:"
   ]
  },
  {
   "cell_type": "code",
   "execution_count": 72,
   "id": "4c696397",
   "metadata": {},
   "outputs": [
    {
     "name": "stdout",
     "output_type": "stream",
     "text": [
      "[1] \"A > B\"\n"
     ]
    }
   ],
   "source": [
    "a <- 10\n",
    "b <- 5\n",
    "\n",
    "if(a > b) {\n",
    "    print(\"A > B\")\n",
    "} else if (b > a){\n",
    "    print(\"B > A\")\n",
    "} else {\n",
    "    print(\"A equals B\")\n",
    "}"
   ]
  },
  {
   "cell_type": "markdown",
   "id": "31556e6e",
   "metadata": {},
   "source": [
    "There is a vectorized version of the `if/else` construct, the ifelse function. This has the form \n",
    "\n",
    "`ifelse(condition, a, b)`\n",
    "\n",
    "and returns a vector of the same length as condition, with elements a[i] if condition[i] is true, otherwise b[i] (where a and b are recycled as necessary)."
   ]
  },
  {
   "cell_type": "markdown",
   "id": "fa7ad8b1",
   "metadata": {},
   "source": [
    "### TASK 1"
   ]
  },
  {
   "cell_type": "markdown",
   "id": "532af8c9",
   "metadata": {},
   "source": [
    "There are function `readline(prompt = \"Text\")` in R. You can input data from terminal.\n",
    "First let's write a code that finding sum of 2 numbers entered by user:"
   ]
  },
  {
   "cell_type": "code",
   "execution_count": 1,
   "id": "b65ca327",
   "metadata": {},
   "outputs": [
    {
     "name": "stdin",
     "output_type": "stream",
     "text": [
      "Enter A: 10\n",
      "Enter B: 45\n"
     ]
    },
    {
     "data": {
      "text/html": [
       "55"
      ],
      "text/latex": [
       "55"
      ],
      "text/markdown": [
       "55"
      ],
      "text/plain": [
       "[1] 55"
      ]
     },
     "metadata": {},
     "output_type": "display_data"
    }
   ],
   "source": [
    "# works on console and notebook / run this code line by line\n",
    "a <- readline(prompt = \"Enter A:\") # read a\n",
    "b <- readline(prompt = \"Enter B:\") # read b\n",
    "\n",
    "a <- as.numeric(a) # convert character to numeric\n",
    "b <- as.numeric(b) # convert character to numeric\n",
    "\n",
    "sum <- a + b\n",
    "sum"
   ]
  },
  {
   "cell_type": "markdown",
   "id": "ce4493d2",
   "metadata": {},
   "source": [
    "TASK: **It's your turn. Write code that check user input if number `even` or `odd`.**"
   ]
  },
  {
   "cell_type": "markdown",
   "id": "296520a8",
   "metadata": {},
   "source": [
    "Solution"
   ]
  },
  {
   "cell_type": "code",
   "execution_count": 12,
   "id": "02dc3355",
   "metadata": {},
   "outputs": [
    {
     "name": "stdin",
     "output_type": "stream",
     "text": [
      "Enter A: 2\n"
     ]
    },
    {
     "name": "stdout",
     "output_type": "stream",
     "text": [
      "[1] \"EVEN\"\n"
     ]
    }
   ],
   "source": [
    "a <- readline(prompt = \"Enter A:\") # read a\n",
    "a <- as.numeric(a) \n",
    "remainder <- a %% 2\n",
    "if(a == 0){\n",
    "  print(\"ZERO\")  \n",
    "} else if(remainder == 0) {\n",
    "  print(\"EVEN\")\n",
    "} else if (remainder == 1) {\n",
    "  print(\"ODD\")\n",
    "}"
   ]
  },
  {
   "cell_type": "markdown",
   "id": "c4ac078a",
   "metadata": {},
   "source": [
    "---"
   ]
  },
  {
   "cell_type": "markdown",
   "id": "92d249c1",
   "metadata": {},
   "source": [
    "# 5. Repetitive execution: for loops, repeat and while"
   ]
  },
  {
   "cell_type": "markdown",
   "id": "42164e4b",
   "metadata": {},
   "source": [
    "Loops are used in programming to repeat a specific block of code. In this article, you will learn to create a for loop in R programming.\n",
    "\n",
    "A `for` loop is used to iterate over a vector in R programming. Vectors is our one of the next content. \n",
    "But shortly we can discuss it now. \n",
    "\n",
    "**Vector** is a sequense of values. Simplest vector can be created with function `c()`:"
   ]
  },
  {
   "cell_type": "code",
   "execution_count": 80,
   "id": "95189e83",
   "metadata": {},
   "outputs": [
    {
     "data": {
      "text/html": [
       "<style>\n",
       ".list-inline {list-style: none; margin:0; padding: 0}\n",
       ".list-inline>li {display: inline-block}\n",
       ".list-inline>li:not(:last-child)::after {content: \"\\00b7\"; padding: 0 .5ex}\n",
       "</style>\n",
       "<ol class=list-inline><li>2</li><li>4</li><li>5</li><li>7</li><li>9</li><li>11</li><li>14</li></ol>\n"
      ],
      "text/latex": [
       "\\begin{enumerate*}\n",
       "\\item 2\n",
       "\\item 4\n",
       "\\item 5\n",
       "\\item 7\n",
       "\\item 9\n",
       "\\item 11\n",
       "\\item 14\n",
       "\\end{enumerate*}\n"
      ],
      "text/markdown": [
       "1. 2\n",
       "2. 4\n",
       "3. 5\n",
       "4. 7\n",
       "5. 9\n",
       "6. 11\n",
       "7. 14\n",
       "\n",
       "\n"
      ],
      "text/plain": [
       "[1]  2  4  5  7  9 11 14"
      ]
     },
     "metadata": {},
     "output_type": "display_data"
    }
   ],
   "source": [
    "x <- c(2, 4, 5, 7, 9, 11, 14)\n",
    "x"
   ]
  },
  {
   "cell_type": "markdown",
   "id": "5f64a8ee",
   "metadata": {},
   "source": [
    "For syntax is the next:\n",
    "\n",
    "`for (val in sequence)\n",
    "{\n",
    "    statement\n",
    "}`\n",
    "\n",
    "Here, `sequence` is a vector and `val` takes on each of its value during the loop. In each iteration, `statement` is evaluated."
   ]
  },
  {
   "cell_type": "markdown",
   "id": "d61bceda",
   "metadata": {},
   "source": [
    "Let's find count of even numbers in vector `x` using loop"
   ]
  },
  {
   "cell_type": "code",
   "execution_count": 13,
   "id": "6cb2c779",
   "metadata": {},
   "outputs": [
    {
     "name": "stdout",
     "output_type": "stream",
     "text": [
      "[1] 3\n"
     ]
    }
   ],
   "source": [
    "x <- c(2, 4, 5, 7, 9, 11, 14)\n",
    "even_count <- 0\n",
    "for (val in x) {\n",
    "    if(val %% 2 == 0) { \n",
    "        even_count = even_count + 1\n",
    "    }\n",
    "}\n",
    "print(even_count)"
   ]
  },
  {
   "cell_type": "markdown",
   "id": "e51872b3",
   "metadata": {},
   "source": [
    "In the above example, the loop iterates `7` times as the vector `x` has `7` elements.\n",
    "\n",
    "In each iteration, `val` takes on the value of corresponding element of `x`.\n",
    "\n",
    "We have used a counter to count the number of even numbers in `x`. We can see that `x` contains 3 even numbers."
   ]
  },
  {
   "cell_type": "markdown",
   "id": "03363e51",
   "metadata": {},
   "source": [
    "---"
   ]
  },
  {
   "cell_type": "markdown",
   "id": "8cd5af0b",
   "metadata": {},
   "source": [
    "### TASK 2\n",
    "\n",
    "Let's modify this task (for students): **find a sum of vector x**. "
   ]
  },
  {
   "cell_type": "markdown",
   "id": "2c614943",
   "metadata": {},
   "source": [
    "### Solution for TASK 2"
   ]
  },
  {
   "cell_type": "code",
   "execution_count": 213,
   "id": "2d4ee196",
   "metadata": {},
   "outputs": [
    {
     "data": {
      "text/html": [
       "<style>\n",
       ".list-inline {list-style: none; margin:0; padding: 0}\n",
       ".list-inline>li {display: inline-block}\n",
       ".list-inline>li:not(:last-child)::after {content: \"\\00b7\"; padding: 0 .5ex}\n",
       "</style>\n",
       "<ol class=list-inline><li>2</li><li>4</li><li>6</li><li>8</li></ol>\n"
      ],
      "text/latex": [
       "\\begin{enumerate*}\n",
       "\\item 2\n",
       "\\item 4\n",
       "\\item 6\n",
       "\\item 8\n",
       "\\end{enumerate*}\n"
      ],
      "text/markdown": [
       "1. 2\n",
       "2. 4\n",
       "3. 6\n",
       "4. 8\n",
       "\n",
       "\n"
      ],
      "text/plain": [
       "[1] 2 4 6 8"
      ]
     },
     "metadata": {},
     "output_type": "display_data"
    },
    {
     "data": {
      "text/html": [
       "5"
      ],
      "text/latex": [
       "5"
      ],
      "text/markdown": [
       "5"
      ],
      "text/plain": [
       "[1] 5"
      ]
     },
     "metadata": {},
     "output_type": "display_data"
    },
    {
     "data": {
      "text/html": [
       "20"
      ],
      "text/latex": [
       "20"
      ],
      "text/markdown": [
       "20"
      ],
      "text/plain": [
       "[1] 20"
      ]
     },
     "metadata": {},
     "output_type": "display_data"
    },
    {
     "name": "stdout",
     "output_type": "stream",
     "text": [
      "[1] 2\n",
      "[1] 6\n",
      "[1] 12\n",
      "[1] 20\n"
     ]
    },
    {
     "data": {
      "text/html": [
       "TRUE"
      ],
      "text/latex": [
       "TRUE"
      ],
      "text/markdown": [
       "TRUE"
      ],
      "text/plain": [
       "[1] TRUE"
      ]
     },
     "metadata": {},
     "output_type": "display_data"
    }
   ],
   "source": [
    "x <- c(2, 4, 6, 8)\n",
    "x\n",
    "\n",
    "sumx <- sum(x)\n",
    "sumx\n",
    "\n",
    "acc <- 0\n",
    "for (cvalue in x) {\n",
    "  acc <- acc + cvalue\n",
    "  print(acc)\n",
    "}\n",
    "\n",
    "sumx == acc"
   ]
  },
  {
   "cell_type": "markdown",
   "id": "69a6d8d2",
   "metadata": {},
   "source": [
    "---"
   ]
  },
  {
   "cell_type": "markdown",
   "id": "fa9d689c",
   "metadata": {},
   "source": [
    "There are `break` and `next` statements for loops.\n",
    "\n",
    "`break` stops the loop and `next` moves loop to the next iteration."
   ]
  },
  {
   "cell_type": "markdown",
   "id": "c209350a",
   "metadata": {},
   "source": [
    "And the last one is `while`. `while` loops are used to loop until a specific condition is met.\n",
    "\n",
    "`while (logical_expression)\n",
    "{\n",
    "    statement\n",
    "}`\n",
    "\n",
    "Here, `logical_expression` is evaluated and the body of the loop is entered if the result is `TRUE`.\n",
    "\n",
    "The `statements` inside the loop are executed and the flow returns to evaluate the `logical_expression` again.\n",
    "\n",
    "This is repeated each time until `logical_expression` evaluates to `FALSE`, in which case, the loop exits.\n",
    "\n",
    "Example of code (same as previous):"
   ]
  },
  {
   "cell_type": "code",
   "execution_count": 92,
   "id": "434def89",
   "metadata": {},
   "outputs": [
    {
     "name": "stdout",
     "output_type": "stream",
     "text": [
      "[1] 1\n",
      "[1] 2\n",
      "[1] 3\n",
      "[1] 4\n",
      "[1] 5\n"
     ]
    }
   ],
   "source": [
    "i <- 1\n",
    "while (i < 6) {\n",
    "    print(i)\n",
    "    i = i+1\n",
    "}"
   ]
  },
  {
   "cell_type": "markdown",
   "id": "a46fa391",
   "metadata": {},
   "source": [
    "`while` starts with `i = 1` and stops when `i` become `6`. "
   ]
  },
  {
   "cell_type": "markdown",
   "id": "072a36dc",
   "metadata": {},
   "source": [
    "`repeat` one of loops variations in R. It does not have any conditions to stop, so should use break to stop it.\n",
    "\n",
    "`repeat {\n",
    "    statement\n",
    "}`\n",
    "\n",
    "Example:"
   ]
  },
  {
   "cell_type": "code",
   "execution_count": 90,
   "id": "d304123b",
   "metadata": {},
   "outputs": [
    {
     "name": "stdout",
     "output_type": "stream",
     "text": [
      "[1] 1\n",
      "[1] 2\n",
      "[1] 3\n",
      "[1] 4\n",
      "[1] 5\n"
     ]
    }
   ],
   "source": [
    "x <- 1\n",
    "repeat {\n",
    "    print(x)\n",
    "    x = x+1\n",
    "    if (x == 6){\n",
    "    break\n",
    "    }\n",
    "}"
   ]
  },
  {
   "cell_type": "markdown",
   "id": "95fb7768",
   "metadata": {},
   "source": [
    "In the above example, we have used a condition to check and exit the loop when x takes the value of 6."
   ]
  },
  {
   "cell_type": "markdown",
   "id": "7d15c6c4",
   "metadata": {},
   "source": [
    "---"
   ]
  },
  {
   "cell_type": "markdown",
   "id": "46e779f7",
   "metadata": {},
   "source": [
    "## 6. Some useful functions in R"
   ]
  },
  {
   "cell_type": "markdown",
   "id": "40691cd0",
   "metadata": {},
   "source": [
    "Function in programming languages has `name` and `()`. Basicaly it uses as `function_name(params)`."
   ]
  },
  {
   "cell_type": "markdown",
   "id": "4f95ec87",
   "metadata": {},
   "source": [
    "### Rounding"
   ]
  },
  {
   "cell_type": "markdown",
   "id": "8700ee74",
   "metadata": {},
   "source": [
    "As we know from mathematics, the environment of numbers is \"up\", \"bottom\" or relative to some value that has a relationship with the digital `5` (` 3.6` round to the integer as `4`, and` 3.2` as `3` , vvzhayu` 3,5` border)."
   ]
  },
  {
   "cell_type": "markdown",
   "id": "bcb55de0",
   "metadata": {},
   "source": [
    "#### round()"
   ]
  },
  {
   "cell_type": "markdown",
   "id": "7a62ce87",
   "metadata": {},
   "source": [
    "To round the real numbers (with a fractional part) according to the rule `< 0.5 & >= 0.5` (I don't know what it's called scientifically) the function` round(x, y) `is used, where` x` is a number, `y` is accuracy number of decimal places). \n",
    "\n",
    "Example, check results:"
   ]
  },
  {
   "cell_type": "code",
   "execution_count": 96,
   "id": "33c7ddf8",
   "metadata": {},
   "outputs": [
    {
     "data": {
      "text/html": [
       "3.56"
      ],
      "text/latex": [
       "3.56"
      ],
      "text/markdown": [
       "3.56"
      ],
      "text/plain": [
       "[1] 3.56"
      ]
     },
     "metadata": {},
     "output_type": "display_data"
    },
    {
     "data": {
      "text/html": [
       "3.24"
      ],
      "text/latex": [
       "3.24"
      ],
      "text/markdown": [
       "3.24"
      ],
      "text/plain": [
       "[1] 3.24"
      ]
     },
     "metadata": {},
     "output_type": "display_data"
    },
    {
     "data": {
      "text/html": [
       "-3.56"
      ],
      "text/latex": [
       "-3.56"
      ],
      "text/markdown": [
       "-3.56"
      ],
      "text/plain": [
       "[1] -3.56"
      ]
     },
     "metadata": {},
     "output_type": "display_data"
    },
    {
     "data": {
      "text/html": [
       "-3.24"
      ],
      "text/latex": [
       "-3.24"
      ],
      "text/markdown": [
       "-3.24"
      ],
      "text/plain": [
       "[1] -3.24"
      ]
     },
     "metadata": {},
     "output_type": "display_data"
    }
   ],
   "source": [
    "round(3.557, 2)\n",
    "round(3.241, 2)\n",
    "round(-3.557, 2)\n",
    "round(-3.241, 2)"
   ]
  },
  {
   "cell_type": "markdown",
   "id": "0965c1ec",
   "metadata": {},
   "source": [
    "You can also use `round(x)` with one parameter, then rounding will occur to the whole part, for example:"
   ]
  },
  {
   "cell_type": "code",
   "execution_count": 4,
   "id": "10e7ed21",
   "metadata": {},
   "outputs": [
    {
     "data": {
      "text/html": [
       "124"
      ],
      "text/latex": [
       "124"
      ],
      "text/markdown": [
       "124"
      ],
      "text/plain": [
       "[1] 124"
      ]
     },
     "metadata": {},
     "output_type": "display_data"
    }
   ],
   "source": [
    "round(124.345)"
   ]
  },
  {
   "cell_type": "markdown",
   "id": "afc41c95",
   "metadata": {},
   "source": [
    "#### floor()"
   ]
  },
  {
   "cell_type": "markdown",
   "id": "68a6697d",
   "metadata": {},
   "source": [
    "Use the `floor()` function to round to the nearest smaller integer:"
   ]
  },
  {
   "cell_type": "code",
   "execution_count": 16,
   "id": "0efaf3d8",
   "metadata": {},
   "outputs": [
    {
     "data": {
      "text/html": [
       "3"
      ],
      "text/latex": [
       "3"
      ],
      "text/markdown": [
       "3"
      ],
      "text/plain": [
       "[1] 3"
      ]
     },
     "metadata": {},
     "output_type": "display_data"
    },
    {
     "data": {
      "text/html": [
       "3"
      ],
      "text/latex": [
       "3"
      ],
      "text/markdown": [
       "3"
      ],
      "text/plain": [
       "[1] 3"
      ]
     },
     "metadata": {},
     "output_type": "display_data"
    },
    {
     "data": {
      "text/html": [
       "-4"
      ],
      "text/latex": [
       "-4"
      ],
      "text/markdown": [
       "-4"
      ],
      "text/plain": [
       "[1] -4"
      ]
     },
     "metadata": {},
     "output_type": "display_data"
    },
    {
     "data": {
      "text/html": [
       "-4"
      ],
      "text/latex": [
       "-4"
      ],
      "text/markdown": [
       "-4"
      ],
      "text/plain": [
       "[1] -4"
      ]
     },
     "metadata": {},
     "output_type": "display_data"
    }
   ],
   "source": [
    "floor(3.557)\n",
    "floor(3.241)\n",
    "floor(-3.557)\n",
    "floor(-3.241)"
   ]
  },
  {
   "cell_type": "markdown",
   "id": "d758ab9d",
   "metadata": {},
   "source": [
    "#### ceiling()"
   ]
  },
  {
   "cell_type": "markdown",
   "id": "2f06e9f7",
   "metadata": {},
   "source": [
    "Use the `ceiling()` function to round to the nearest larger integer:"
   ]
  },
  {
   "cell_type": "code",
   "execution_count": 2,
   "id": "0f2b293a",
   "metadata": {},
   "outputs": [
    {
     "data": {
      "text/html": [
       "4"
      ],
      "text/latex": [
       "4"
      ],
      "text/markdown": [
       "4"
      ],
      "text/plain": [
       "[1] 4"
      ]
     },
     "metadata": {},
     "output_type": "display_data"
    },
    {
     "data": {
      "text/html": [
       "4"
      ],
      "text/latex": [
       "4"
      ],
      "text/markdown": [
       "4"
      ],
      "text/plain": [
       "[1] 4"
      ]
     },
     "metadata": {},
     "output_type": "display_data"
    },
    {
     "data": {
      "text/html": [
       "-3"
      ],
      "text/latex": [
       "-3"
      ],
      "text/markdown": [
       "-3"
      ],
      "text/plain": [
       "[1] -3"
      ]
     },
     "metadata": {},
     "output_type": "display_data"
    },
    {
     "data": {
      "text/html": [
       "-3"
      ],
      "text/latex": [
       "-3"
      ],
      "text/markdown": [
       "-3"
      ],
      "text/plain": [
       "[1] -3"
      ]
     },
     "metadata": {},
     "output_type": "display_data"
    }
   ],
   "source": [
    "ceiling(3.557)\n",
    "ceiling(3.241)\n",
    "ceiling(-3.557)\n",
    "ceiling(-3.241)"
   ]
  },
  {
   "cell_type": "markdown",
   "id": "8f26aa46",
   "metadata": {},
   "source": [
    "#### trunc()"
   ]
  },
  {
   "cell_type": "markdown",
   "id": "b8dfd9ff",
   "metadata": {},
   "source": [
    "The `trunc()` function in R is used to obtain the largest integer that is greater than or equal to `x`. Simply put, this means that for numbers less than 0 `(x <0)` `trunc()` works as `celing()`, and for numbers greater than zero `x > 0` as` floor() `:"
   ]
  },
  {
   "cell_type": "code",
   "execution_count": 31,
   "id": "c9b8d07f",
   "metadata": {},
   "outputs": [
    {
     "name": "stdout",
     "output_type": "stream",
     "text": [
      "[1] \"trunc: 5 celing: 6 floor: 5\"\n",
      "[1] \"trunc: -5 celing: -5 floor: -6\"\n"
     ]
    }
   ],
   "source": [
    "x <- 5.34\n",
    "print(paste(\"trunc:\", trunc(x), \"celing:\", ceiling(x), \"floor:\", floor(x), sep = \" \"))\n",
    "x <- x * (-1)\n",
    "print(paste(\"trunc:\", trunc(x), \"celing:\", ceiling(x), \"floor:\", floor(x), sep = \" \"))"
   ]
  },
  {
   "cell_type": "markdown",
   "id": "f27489e2",
   "metadata": {},
   "source": [
    "#### signif(x, digits = 3)\n",
    "Sometimes it is necessary to round not tenths of a number, but tens, hundreds, thousands, and so on. Consider the variant when we have a large number $11 547 741.3$ and we need to write it briefly as $11.5 million$. For such problems we can use the function `signif(x, y)`, where `x` is the number to be rounded to a certain order, `y` is the order of rounding (count from the beginning).\n",
    "\n",
    "Example:"
   ]
  },
  {
   "cell_type": "code",
   "execution_count": 28,
   "id": "b8fc1209",
   "metadata": {},
   "outputs": [
    {
     "data": {
      "text/html": [
       "11547741.3"
      ],
      "text/latex": [
       "11547741.3"
      ],
      "text/markdown": [
       "11547741.3"
      ],
      "text/plain": [
       "[1] 11547741"
      ]
     },
     "metadata": {},
     "output_type": "display_data"
    },
    {
     "data": {
      "text/html": [
       "11550000"
      ],
      "text/latex": [
       "11550000"
      ],
      "text/markdown": [
       "11550000"
      ],
      "text/plain": [
       "[1] 11550000"
      ]
     },
     "metadata": {},
     "output_type": "display_data"
    }
   ],
   "source": [
    "big_number <- 11547741.3\n",
    "rounded_big_number <- signif(big_number, 4)\n",
    "big_number\n",
    "rounded_big_number"
   ]
  },
  {
   "cell_type": "markdown",
   "id": "6d05ead6",
   "metadata": {},
   "source": [
    "### Sequences"
   ]
  },
  {
   "cell_type": "markdown",
   "id": "f85c8ace",
   "metadata": {},
   "source": [
    "Easiest way to generate sequence of numbers is using `:`. Example:"
   ]
  },
  {
   "cell_type": "code",
   "execution_count": 58,
   "id": "3549e604",
   "metadata": {},
   "outputs": [
    {
     "data": {
      "text/html": [
       "<style>\n",
       ".list-inline {list-style: none; margin:0; padding: 0}\n",
       ".list-inline>li {display: inline-block}\n",
       ".list-inline>li:not(:last-child)::after {content: \"\\00b7\"; padding: 0 .5ex}\n",
       "</style>\n",
       "<ol class=list-inline><li>1</li><li>2</li><li>3</li><li>4</li></ol>\n"
      ],
      "text/latex": [
       "\\begin{enumerate*}\n",
       "\\item 1\n",
       "\\item 2\n",
       "\\item 3\n",
       "\\item 4\n",
       "\\end{enumerate*}\n"
      ],
      "text/markdown": [
       "1. 1\n",
       "2. 2\n",
       "3. 3\n",
       "4. 4\n",
       "\n",
       "\n"
      ],
      "text/plain": [
       "[1] 1 2 3 4"
      ]
     },
     "metadata": {},
     "output_type": "display_data"
    },
    {
     "data": {
      "text/html": [
       "'integer'"
      ],
      "text/latex": [
       "'integer'"
      ],
      "text/markdown": [
       "'integer'"
      ],
      "text/plain": [
       "[1] \"integer\""
      ]
     },
     "metadata": {},
     "output_type": "display_data"
    }
   ],
   "source": [
    "seq <- 1:4\n",
    "seq\n",
    "class(seq)"
   ]
  },
  {
   "cell_type": "markdown",
   "id": "01c6d71e",
   "metadata": {},
   "source": [
    "#### seq()"
   ]
  },
  {
   "cell_type": "markdown",
   "id": "bf8ec116",
   "metadata": {},
   "source": [
    "`seq()` generate regular sequences. Usage samples:"
   ]
  },
  {
   "cell_type": "markdown",
   "id": "45543074",
   "metadata": {},
   "source": [
    "seq(from, to) \\\n",
    "seq(from, to, by=) \\\n",
    "seq(from, to, length=) \\\n",
    "seq(along)\n",
    "\n",
    "Details:\n",
    "\n",
    "- [x] The first form generates from, from+by, ..., to.\n",
    "- [x] The second generates a sequence of length equally spaced values from from to to.\n",
    "- [x] The last generates the sequence 1, 2, ..., length(along).\n",
    "- [x] If from and to are factors of the same length, then `from : to` returns the ``cross'' of the two.\n",
    "\n",
    "Let's check examples:"
   ]
  },
  {
   "cell_type": "code",
   "execution_count": 33,
   "id": "eaebe397",
   "metadata": {},
   "outputs": [
    {
     "data": {
      "text/html": [
       "<style>\n",
       ".list-inline {list-style: none; margin:0; padding: 0}\n",
       ".list-inline>li {display: inline-block}\n",
       ".list-inline>li:not(:last-child)::after {content: \"\\00b7\"; padding: 0 .5ex}\n",
       "</style>\n",
       "<ol class=list-inline><li>1</li><li>2</li><li>3</li><li>4</li><li>5</li><li>6</li><li>7</li><li>8</li><li>9</li><li>10</li></ol>\n"
      ],
      "text/latex": [
       "\\begin{enumerate*}\n",
       "\\item 1\n",
       "\\item 2\n",
       "\\item 3\n",
       "\\item 4\n",
       "\\item 5\n",
       "\\item 6\n",
       "\\item 7\n",
       "\\item 8\n",
       "\\item 9\n",
       "\\item 10\n",
       "\\end{enumerate*}\n"
      ],
      "text/markdown": [
       "1. 1\n",
       "2. 2\n",
       "3. 3\n",
       "4. 4\n",
       "5. 5\n",
       "6. 6\n",
       "7. 7\n",
       "8. 8\n",
       "9. 9\n",
       "10. 10\n",
       "\n",
       "\n"
      ],
      "text/plain": [
       " [1]  1  2  3  4  5  6  7  8  9 10"
      ]
     },
     "metadata": {},
     "output_type": "display_data"
    }
   ],
   "source": [
    "seq(1, 10)"
   ]
  },
  {
   "cell_type": "markdown",
   "id": "0390f13c-21e1-4ddc-80e9-fb0a2b7be0eb",
   "metadata": {},
   "source": [
    "#### by"
   ]
  },
  {
   "cell_type": "code",
   "execution_count": 5,
   "id": "4c7c7637-6d35-4dbe-9a0d-d64912e0fb4f",
   "metadata": {},
   "outputs": [
    {
     "data": {
      "text/html": [
       "<style>\n",
       ".list-inline {list-style: none; margin:0; padding: 0}\n",
       ".list-inline>li {display: inline-block}\n",
       ".list-inline>li:not(:last-child)::after {content: \"\\00b7\"; padding: 0 .5ex}\n",
       "</style>\n",
       "<ol class=list-inline><li>0</li><li>2.5</li><li>5</li><li>7.5</li><li>10</li></ol>\n"
      ],
      "text/latex": [
       "\\begin{enumerate*}\n",
       "\\item 0\n",
       "\\item 2.5\n",
       "\\item 5\n",
       "\\item 7.5\n",
       "\\item 10\n",
       "\\end{enumerate*}\n"
      ],
      "text/markdown": [
       "1. 0\n",
       "2. 2.5\n",
       "3. 5\n",
       "4. 7.5\n",
       "5. 10\n",
       "\n",
       "\n"
      ],
      "text/plain": [
       "[1]  0.0  2.5  5.0  7.5 10.0"
      ]
     },
     "metadata": {},
     "output_type": "display_data"
    }
   ],
   "source": [
    "seq(0, 10, by = 2.5)"
   ]
  },
  {
   "cell_type": "markdown",
   "id": "1d504068-90b8-4ecf-85ad-e8df7c69a180",
   "metadata": {},
   "source": [
    "#### length"
   ]
  },
  {
   "cell_type": "code",
   "execution_count": 3,
   "id": "da651ddd-e8ce-4632-92c6-57567688e064",
   "metadata": {},
   "outputs": [
    {
     "data": {
      "image/png": "iVBORw0KGgoAAAANSUhEUgAAA0gAAANICAIAAAByhViMAAAACXBIWXMAABJ0AAASdAHeZh94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\nRU5ErkJggg==",
      "text/plain": [
       "plot without title"
      ]
     },
     "metadata": {
      "image/png": {
       "height": 420,
       "width": 420
      }
     },
     "output_type": "display_data"
    }
   ],
   "source": [
    "s <- seq(0, 10, length=50)\n",
    "plot(seq(0, 10), seq(0, 50, length=11), type=\"l\", col=\"blue\")"
   ]
  },
  {
   "cell_type": "markdown",
   "id": "164bccdf",
   "metadata": {},
   "source": [
    "#### rep()"
   ]
  },
  {
   "cell_type": "markdown",
   "id": "6e44fb78",
   "metadata": {},
   "source": [
    "`rep()` replicates the values in `x`. It is a generic function, and the (internal) default method is described here.\n",
    "\n",
    "Syntax: `rep(x, …)`, `rep.int(x, times) # function for integers`. Example:"
   ]
  },
  {
   "cell_type": "code",
   "execution_count": 22,
   "id": "8055f83b",
   "metadata": {},
   "outputs": [
    {
     "data": {
      "text/html": [
       "<style>\n",
       ".list-inline {list-style: none; margin:0; padding: 0}\n",
       ".list-inline>li {display: inline-block}\n",
       ".list-inline>li:not(:last-child)::after {content: \"\\00b7\"; padding: 0 .5ex}\n",
       "</style>\n",
       "<ol class=list-inline><li>1</li><li>2</li><li>3</li><li>4</li><li>1</li><li>2</li><li>3</li><li>4</li></ol>\n"
      ],
      "text/latex": [
       "\\begin{enumerate*}\n",
       "\\item 1\n",
       "\\item 2\n",
       "\\item 3\n",
       "\\item 4\n",
       "\\item 1\n",
       "\\item 2\n",
       "\\item 3\n",
       "\\item 4\n",
       "\\end{enumerate*}\n"
      ],
      "text/markdown": [
       "1. 1\n",
       "2. 2\n",
       "3. 3\n",
       "4. 4\n",
       "5. 1\n",
       "6. 2\n",
       "7. 3\n",
       "8. 4\n",
       "\n",
       "\n"
      ],
      "text/plain": [
       "[1] 1 2 3 4 1 2 3 4"
      ]
     },
     "metadata": {},
     "output_type": "display_data"
    }
   ],
   "source": [
    "rep(1:4, 2)"
   ]
  },
  {
   "cell_type": "code",
   "execution_count": 26,
   "id": "56c19186",
   "metadata": {},
   "outputs": [
    {
     "data": {
      "text/html": [
       "<style>\n",
       ".list-inline {list-style: none; margin:0; padding: 0}\n",
       ".list-inline>li {display: inline-block}\n",
       ".list-inline>li:not(:last-child)::after {content: \"\\00b7\"; padding: 0 .5ex}\n",
       "</style>\n",
       "<ol class=list-inline><li>1</li><li>1</li><li>2</li><li>3</li><li>3</li><li>4</li></ol>\n"
      ],
      "text/latex": [
       "\\begin{enumerate*}\n",
       "\\item 1\n",
       "\\item 1\n",
       "\\item 2\n",
       "\\item 3\n",
       "\\item 3\n",
       "\\item 4\n",
       "\\end{enumerate*}\n"
      ],
      "text/markdown": [
       "1. 1\n",
       "2. 1\n",
       "3. 2\n",
       "4. 3\n",
       "5. 3\n",
       "6. 4\n",
       "\n",
       "\n"
      ],
      "text/plain": [
       "[1] 1 1 2 3 3 4"
      ]
     },
     "metadata": {},
     "output_type": "display_data"
    }
   ],
   "source": [
    "rep(1:4, c(2,1,2,1))"
   ]
  },
  {
   "cell_type": "code",
   "execution_count": 27,
   "id": "6f02a658",
   "metadata": {},
   "outputs": [
    {
     "data": {
      "text/html": [
       "<style>\n",
       ".list-inline {list-style: none; margin:0; padding: 0}\n",
       ".list-inline>li {display: inline-block}\n",
       ".list-inline>li:not(:last-child)::after {content: \"\\00b7\"; padding: 0 .5ex}\n",
       "</style>\n",
       "<ol class=list-inline><li>2</li><li>3</li><li>4</li><li>2</li><li>3</li><li>4</li></ol>\n"
      ],
      "text/latex": [
       "\\begin{enumerate*}\n",
       "\\item 2\n",
       "\\item 3\n",
       "\\item 4\n",
       "\\item 2\n",
       "\\item 3\n",
       "\\item 4\n",
       "\\end{enumerate*}\n"
      ],
      "text/markdown": [
       "1. 2\n",
       "2. 3\n",
       "3. 4\n",
       "4. 2\n",
       "5. 3\n",
       "6. 4\n",
       "\n",
       "\n"
      ],
      "text/plain": [
       "[1] 2 3 4 2 3 4"
      ]
     },
     "metadata": {},
     "output_type": "display_data"
    }
   ],
   "source": [
    "x <- c(2,3,4)\n",
    "rep(x, times = 2) # repeats twice a vector"
   ]
  },
  {
   "cell_type": "code",
   "execution_count": 28,
   "id": "026ea44a",
   "metadata": {},
   "outputs": [
    {
     "data": {
      "text/html": [
       "<style>\n",
       ".list-inline {list-style: none; margin:0; padding: 0}\n",
       ".list-inline>li {display: inline-block}\n",
       ".list-inline>li:not(:last-child)::after {content: \"\\00b7\"; padding: 0 .5ex}\n",
       "</style>\n",
       "<ol class=list-inline><li>2</li><li>2</li><li>3</li><li>3</li><li>4</li><li>4</li></ol>\n"
      ],
      "text/latex": [
       "\\begin{enumerate*}\n",
       "\\item 2\n",
       "\\item 2\n",
       "\\item 3\n",
       "\\item 3\n",
       "\\item 4\n",
       "\\item 4\n",
       "\\end{enumerate*}\n"
      ],
      "text/markdown": [
       "1. 2\n",
       "2. 2\n",
       "3. 3\n",
       "4. 3\n",
       "5. 4\n",
       "6. 4\n",
       "\n",
       "\n"
      ],
      "text/plain": [
       "[1] 2 2 3 3 4 4"
      ]
     },
     "metadata": {},
     "output_type": "display_data"
    }
   ],
   "source": [
    "x <- c(2,3,4)\n",
    "rep(x, each = 2) # repeats each item twice"
   ]
  },
  {
   "cell_type": "code",
   "execution_count": 72,
   "id": "a0f4e809",
   "metadata": {},
   "outputs": [
    {
     "data": {
      "text/html": [
       "<style>\n",
       ".list-inline {list-style: none; margin:0; padding: 0}\n",
       ".list-inline>li {display: inline-block}\n",
       ".list-inline>li:not(:last-child)::after {content: \"\\00b7\"; padding: 0 .5ex}\n",
       "</style>\n",
       "<ol class=list-inline><li>1</li><li>1</li><li>1</li><li>3</li><li>3</li><li>3</li><li>5</li><li>5</li><li>5</li><li>1</li><li>1</li><li>1</li><li>3</li><li>3</li><li>3</li><li>5</li><li>5</li><li>5</li></ol>\n"
      ],
      "text/latex": [
       "\\begin{enumerate*}\n",
       "\\item 1\n",
       "\\item 1\n",
       "\\item 1\n",
       "\\item 3\n",
       "\\item 3\n",
       "\\item 3\n",
       "\\item 5\n",
       "\\item 5\n",
       "\\item 5\n",
       "\\item 1\n",
       "\\item 1\n",
       "\\item 1\n",
       "\\item 3\n",
       "\\item 3\n",
       "\\item 3\n",
       "\\item 5\n",
       "\\item 5\n",
       "\\item 5\n",
       "\\end{enumerate*}\n"
      ],
      "text/markdown": [
       "1. 1\n",
       "2. 1\n",
       "3. 1\n",
       "4. 3\n",
       "5. 3\n",
       "6. 3\n",
       "7. 5\n",
       "8. 5\n",
       "9. 5\n",
       "10. 1\n",
       "11. 1\n",
       "12. 1\n",
       "13. 3\n",
       "14. 3\n",
       "15. 3\n",
       "16. 5\n",
       "17. 5\n",
       "18. 5\n",
       "\n",
       "\n"
      ],
      "text/plain": [
       " [1] 1 1 1 3 3 3 5 5 5 1 1 1 3 3 3 5 5 5"
      ]
     },
     "metadata": {},
     "output_type": "display_data"
    }
   ],
   "source": [
    "x <- c(1,3,5)\n",
    "rep(x, each = 3, times = 2)"
   ]
  },
  {
   "cell_type": "markdown",
   "id": "3ce996c6",
   "metadata": {},
   "source": [
    "### Random numbers"
   ]
  },
  {
   "cell_type": "markdown",
   "id": "0e6efd09",
   "metadata": {},
   "source": [
    "You can generate pseudo-random numbers in R."
   ]
  },
  {
   "cell_type": "markdown",
   "id": "2d4dcd94",
   "metadata": {},
   "source": [
    "#### sample()"
   ]
  },
  {
   "cell_type": "markdown",
   "id": "283cd27c",
   "metadata": {},
   "source": [
    "`sample()` takes a sample of the specified size from the elements of `x` using either with or without replacement."
   ]
  },
  {
   "cell_type": "markdown",
   "id": "6db56cf4",
   "metadata": {},
   "source": [
    "Syntax is:\n",
    "\n",
    "`sample(x, size, replace = FALSE, prob = NULL)`, where\n",
    "\n",
    "- [x] `x` - either a vector of one or more elements from which to choose, or a positive integer. \n",
    "- [x] `size` - a non-negative integer giving the number of items to choose.\n",
    "- [x] `replace` - should sampling be with replacement?"
   ]
  },
  {
   "cell_type": "markdown",
   "id": "e15be835-8034-4d28-9122-12fd833e6d7b",
   "metadata": {},
   "source": [
    "#### toss a coin"
   ]
  },
  {
   "cell_type": "code",
   "execution_count": 151,
   "id": "ef3492f6-6a1e-457f-a26b-71e99182895e",
   "metadata": {},
   "outputs": [
    {
     "data": {
      "image/png": "iVBORw0KGgoAAAANSUhEUgAAA0gAAANICAIAAAByhViMAAAACXBIWXMAABJ0AAASdAHeZh94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\ngg==",
      "text/plain": [
       "Plot with title “Histogram of t”"
      ]
     },
     "metadata": {
      "image/png": {
       "height": 420,
       "width": 420
      }
     },
     "output_type": "display_data"
    }
   ],
   "source": [
    "t <- sample(c(1,2), size = 1000, replace = T, prob = c(80, 20))\n",
    "hist(t, breaks = 2, col = c('blue', 'green'))"
   ]
  },
  {
   "cell_type": "code",
   "execution_count": 164,
   "id": "9c4da5a9",
   "metadata": {},
   "outputs": [
    {
     "data": {
      "text/html": [
       "<style>\n",
       ".list-inline {list-style: none; margin:0; padding: 0}\n",
       ".list-inline>li {display: inline-block}\n",
       ".list-inline>li:not(:last-child)::after {content: \"\\00b7\"; padding: 0 .5ex}\n",
       "</style>\n",
       "<ol class=list-inline><li>9</li><li>4</li><li>7</li><li>1</li><li>2</li></ol>\n"
      ],
      "text/latex": [
       "\\begin{enumerate*}\n",
       "\\item 9\n",
       "\\item 4\n",
       "\\item 7\n",
       "\\item 1\n",
       "\\item 2\n",
       "\\end{enumerate*}\n"
      ],
      "text/markdown": [
       "1. 9\n",
       "2. 4\n",
       "3. 7\n",
       "4. 1\n",
       "5. 2\n",
       "\n",
       "\n"
      ],
      "text/plain": [
       "[1] 9 4 7 1 2"
      ]
     },
     "metadata": {},
     "output_type": "display_data"
    }
   ],
   "source": [
    "# use set.seed  if you want fix your pseudorandom generation point\n",
    "set.seed(1)\n",
    "sample(1:10, size = 5)"
   ]
  },
  {
   "cell_type": "markdown",
   "id": "c0df9823",
   "metadata": {},
   "source": [
    "---"
   ]
  },
  {
   "cell_type": "markdown",
   "id": "20d702b9",
   "metadata": {},
   "source": [
    "#### runif()"
   ]
  },
  {
   "cell_type": "markdown",
   "id": "bc4008e1",
   "metadata": {},
   "source": [
    "`runif()` generates random compositions with a uniform distribution in range [0;1]:"
   ]
  },
  {
   "cell_type": "code",
   "execution_count": 54,
   "id": "086bae51",
   "metadata": {},
   "outputs": [
    {
     "data": {
      "text/html": [
       "<style>\n",
       ".list-inline {list-style: none; margin:0; padding: 0}\n",
       ".list-inline>li {display: inline-block}\n",
       ".list-inline>li:not(:last-child)::after {content: \"\\00b7\"; padding: 0 .5ex}\n",
       "</style>\n",
       "<ol class=list-inline><li>0.205974574899301</li><li>0.176556752528995</li><li>0.687022846657783</li><li>0.384103718213737</li><li>0.769841419998556</li></ol>\n"
      ],
      "text/latex": [
       "\\begin{enumerate*}\n",
       "\\item 0.205974574899301\n",
       "\\item 0.176556752528995\n",
       "\\item 0.687022846657783\n",
       "\\item 0.384103718213737\n",
       "\\item 0.769841419998556\n",
       "\\end{enumerate*}\n"
      ],
      "text/markdown": [
       "1. 0.205974574899301\n",
       "2. 0.176556752528995\n",
       "3. 0.687022846657783\n",
       "4. 0.384103718213737\n",
       "5. 0.769841419998556\n",
       "\n",
       "\n"
      ],
      "text/plain": [
       "[1] 0.2059746 0.1765568 0.6870228 0.3841037 0.7698414"
      ]
     },
     "metadata": {},
     "output_type": "display_data"
    }
   ],
   "source": [
    "runif(5)"
   ]
  },
  {
   "cell_type": "code",
   "execution_count": 66,
   "id": "957c4852",
   "metadata": {},
   "outputs": [
    {
     "data": {
      "image/png": "iVBORw0KGgoAAAANSUhEUgAAA0gAAANICAMAAADKOT/pAAAAMFBMVEUAAABNTU1oaGh8fHyM\njIyampqnp6eysrK9vb3Hx8fQ0NDZ2dnh4eHp6enw8PD////QFLu4AAAACXBIWXMAABJ0AAAS\ndAHeZh94AAAgAElEQVR4nO1diWLjKAwl0047O9PW//+32yY+OCSQhDjs6O2O3SYgCdADcdh1\ni8FgqIYbbYDBcAUYkQwGBRiRDAYFGJEMBgUYkQwGBRiRDAYFGJEMBgUYkQwGBRiRDAYFGJEM\nBgUYkQwGBRiRDAYFGJEMBgUYkQwGBRiRDAYFGJEMBgUYkQwGBRiRDAYFGJEMBgUYkQwGBRiR\nDAYFGJEMBgUYkQwGBRiRDAYFGJEMBgUYkQwGBRiRDAYFGJEMBgUYkQwGBRiRDAYFGJEMBgUY\nkQwGBRiRDAYFGJEMBgUYkQwGBRiRDAYFGJEMBgUYkQwGBRiRDAYFGJEMBgUYkQwGBRiRDAYF\nGJEMBgUYkQwGBRiRDAYFGJEMBgUYkQwGBRiRDAYFGJEMBgUYkQwGBRiRDAYFGJEMBgUYkQwG\nBRiRDAYFGJEMBgUYkQwGBRiRDAYFGJEMBgUYkQwGBRiRDAYFGJEMBgUYkQwGBRiRDAYFGJEM\nBgUYkQwGBRiRDAYFGJEMBgUYkQwGBRiRDAYFGJEMBgUYkQwGBRiRDAYFGJEMBgUYkQwGBRiR\nDAYFGJEMBgUYkQwGBRiRDAYFGJEMBgUYkQwGBRiRDAYFGJEMBgUYkQwGBRiRDAYFGJEMBgUY\nkQwGBRiRDAYFGJEMBgUYkQwGBRiRDAYFGJEMBgUYkQwGBRiRDAYFGJEMBgUYkQwGBRiRDAYF\nGJEMBgV0IJIzGE4GgZfrE2eACoNBE0Ykg0EBRiSDQQFGJINBAUYkg0EBRiSDQQFGJINBAV2J\n9O/99b7k/vr2r5UKg2EIOhLp65e3ffXSRIXBMAgdifTmbv993H/6/Htzby1UGAyD0JFIN/ex\n//zhbi1UGAyD0JFIwXGk/NkkI5LhZLARyWBQQN850t/P+082RzJcDT2Xv1+8VbtfX01UGAxj\n0Hcf6e2+j3R7fbd9JMO1YCcbDAYFGJEMBgU8A5FEzwEbDByMIlK/faS7ppNQqTPlrYfRwzxE\nqnyTBK7Ju86NzpQ/Uw8zPy4f2rnoPhHiDqMz5YXqnmIY4xfyckSCvXNCIiUDQmdLVx4xPeYp\nhjFJIS9GpLQK5iWSdw1+rLaURo6tpnhUajVqTjXOgYUsWHg1IqXZJ50jpbRRIhK1O3X7P4bC\nRt3SXOMcVMiihdcikqgKxgAwVYfyZCnO4xJPuD6RWggVA/Si5BMkk0BPQ2gSCR6Uh4cSEJE0\nKE93dfcI7Ehp+dI5gPu/YQ2E9nG5cnckEuNdybpEgkxZ6l22ElAfp+A9HFff1LFjO+VpHBDm\nDm2gqJCet05BpD9aRMpkJrbzDKFEI19hjRn8etAZNSMhyHxx2KAU2Bf+gucRqOFneeDjln/l\nCU1Ftilp7Yw7W9e2a6OMQw7ROq/WqJmZHW5mDaTSMR4lVziHQAk/y4qP/ON8NBVpkYLqBus+\n+hAjkv4gUfQEfVfhFWKEqxYjucfs7Z5i8Ez2iH5LtdqVSN/R3Uc5UV5F0gplxyFvfWpHfOXa\nLySQufnwhZQCoOr3h4Af+jx+dYPjb9+Uq+0jpUQq5YDGMDAPa3pBATEewBLMsCTSAoV6PoYi\nhyfqA3dwmTpd4ElvDQaRyt4PpIBdVJtIRXkEjxrsSW2QLdjR/zOX5vXhjYpFM05HpGRtspgF\nTAHuLRG0c1BJJPxbjfn+yJEuv160pSENBE2xcnoP74ppBeLbgjHjERIpk1I5slMl0tFRV1k5\nIGiMdo5KOxhTBLYhp0lpBeJbIq/CrXXsvCkg4otedECpDOW2q5sjpUTy7asjUr0IpkJGze7G\njV80YdTTGYl0T+HSC5aG0YrKzxSWFOcTJM24hRrx52y7ont7cJg7wVC0geM5Aun8LPoqPJ9C\nFyaP1pthY4+fAD4A4OrHk+5EYiocPxTtIJtyUiJtE9HchLR/v6sO6EjaExDpjDAinQf73Nf7\npUZS78iurHGioYiL6xHJxZOILm3DcQH+491Bic64akdibsGquVl2UiIFc6Tg82Rhq0ftsxal\nmE7spT9WT9iFSl5l0XvxeykXOttebU5T6eG0RHILWLkBhVr1u0mjsRalGGmT9EJ3mWAhrGx5\nPoLIV9v4Ap6VSMu+jwRmrPO7kuIlajROEMkNOFmy86cFpomMYDuzJS1Uw/gCnpdI2YwtbUwb\nbQ4iZTbUmDrbArOzgkgTFNCIpKBiEiKh6SbwMw+onblhpZJI7WdQFyNShzEearRucySyXeHD\njtF9ANLXHgBDUm6ik62GUuDXYQZ1OSKp1xnl1a2dVu3y6bw7diZiFKBDguDQmVv8XjLVkC9g\nj+JfjUhB36dAKGhh0DsJC2ilyOTZRX9z6naPPWf0opZLroI25pymArQ3dtzrEWmXoeI8SWe2\nPnKmylYdHKZC07iRZkZRZ/CZmo7MYBbdm+DCRCJKyrpY2gYuyDK6q/fhba1tn8hFqRQpfsZl\nm74tHeuM9FI6DT1dsjRUkT/6XRRVOpYSS4k+GD35CAE7rkDMouHpOLH7DY/Q5KyRpi5Zmqmo\n3jsp1HGBSF36OgHqPEfJ7zwxw/qbfmPg2YmEJqf5eDFVMm0P1hqCCf4kEd4PqjxHqXcI66bC\nHg0bbB+Jlg5nEmlAyhEpcgEXcObIfrz2Zg5UeI6ESIC6eGI0om5YRQlerce29sJEovSChJqG\n3toRzV9dxK9zg08ksKpHhL2UPT8063pxTjR+XpdINMdmRu8bX46Y4XHZCUUVpAh1/rJnNHCG\n7hOjwsMAhcyrCLd3lkzlvOTCLM1UVDcWs/dJmbtWvSetLxpMP9hnL6K7UEw1AGdIbCgv8u5U\n4ll+diLVNxblrfvH5949fF11cO+IJv3+MQmklAiNC6rHSpYA2IzoLywsSCMdDXjEeAxDT0+k\nNhOTDD13vw3SBC8kaWARLrLpTMSfN+SSNbKhOlpAkmSJtL11nBumn5lIzSb3mV4+6q+OudLh\ncwun9UnmrONfxgEaEWlVXypSo9kQU2y5KsK9C1iZW8O651lsKDdvm42UsC38kADYYGKpxezd\n40ggQUsihbKzNb3km0JBPTkDwU6QSEdvhdU1QXnrLC1UFKqtonEpLZikiV76zlZcCN/d9j9s\niGabxLtk8aZZNo+mHdG9nIE6cmZ6yPBF2Ayclkilaq5wMBGRGHkzAjEi+f+ib5VHA08eg0gt\nIKjK0lyuPGYJx6PrEqkq5KGQEEkj1Zv5YwB5ImmPBg659ieS+mBLeAv8owOR1KgRCcpM6OWx\nNKLWP3pBZEjawrrmdR/UW3Beo1Y13zvVB9vVimLwJynsaYlU8NjKbpR0KAKe0eBzHVxm/i89\ninfbBYjqzWN4nW6ZDOWpF6FHEHcaJyZSvmm04wI6sgSDt3/3f9j4Kjv/JQDcAdU79Ljm8I0o\nV6K4ns9LpELz9vI8KvxYCfquuO/JcOYav2/j8aQAQXH8QU+mlFVIX2bbJcsQFcR3hvTo5o95\nBhigOVVL6rqQYXtCiopHdKIXJhJJUYcqP3SgSwaqw0CtsM57QuFihg6R9EQxdbbOMqEKX5FM\nHdXhvKAOJZIinyuXWRoBq2j/yJXgzHVGV+caeG4iVVQ52ffdkT7dEeQds6YZFt3nQHG3YFtO\nMSJpoqBCzetqiETN6BEpPDHQKLCck0hIox3GbgGeEUkThcWdRcv95FVOz7mndMkitlofDCic\njUcwmhCp1cpj4fwRX6DYFB0VmtUklsWgYKDDb42UWULEr5XQkNkHPpH0upXadUsoZ0nm+Yik\nOnBX779RiIRND7YxSnBC0s+Syj/RW1iOORJjsaFcPulmEN61lbrcJyeS3Ok4Yxn6NPv+FBlP\ndRogniWUSxDsDSykYjQ7bQRNY/fvonuamWmPLIumikkm09UB1GMocgu1G97Uxkt/k9SHGPs+\nErVCJR0HSfiDzrD4CxJpmh64LoDaYjrW5kngD+FtggqpBfEoSnSniSZk2YYit9riki9zIs5I\npGkn0xxqOa+9yLnckfOCRKJBUl5SHp9IwLyzIOCERAIddoL5NY/g7lj8ZuQ5csbeMbz4fMja\nbBsr2hBp8Y9DBkQqtO4piZSmz5WyF8eoDu32wehxpZu3jUGhI807QoNgz4mA7I6xPuM/ykeJ\n7YDo2dOcz8zDjETCc3VzM2LIcRwuc+yNJJ9I4QL4iWi0X9bfmbZ7r0Jl6CN1ckfPJggfL0Gk\nXLm7BT5UIh3XdAWOpsOdiTkR9vLuPOJ1c97MkqOP2F/FjDMiZb5q5YSM8OG4M1vsZFFciqO8\n6YyEKYCrj1Vt/O732YjU0BVp4UN43wKPcFqbkXHeseiOY0DZ5nnhfI8mgJ5DMLQ80rPd5BJE\nyvhwQiSRfJoRlMpPiBTnOv2gk4U7CvgYitjtIYmFJQ3OnbxdhEiA9wWrpDCftEF691Cof1vB\nw76/Grx31Lt0ToLmcmGFcRc6o+S840IcRSxMSKS0bvzFMa9GHJi4J6IW8vvn++/R/Wo42sXr\n9EujeFxlHP9OCcGIHJ6QSLCELSQPPmYtnzZAeHR7W1Hafw/vl0O4n9rGqWOFfHH8ZrgokdCK\n2M/kTOKpGIEGk70dkoIWS6nct5DEGZGWJbeV7TbU6tBD3D9uv+8x39XoJA6ajEhdVUBzokAu\ndYLbCdiqHSP0ORfE0/ieRLI5ku+AII/2sG4a70zXSY7I081lqg74p4KOq4Z6irinXbWLc4IV\nsYdNVSrqQVl+Xa8qTlQVHo6PLZWHZeZxIapUgSH8LJ1UBMcNoWcttlRDwyXWSpUCkWR+uD0J\nP0VsqfzcTIu+4UJECtoclrAzaeh45F0LqfKlUdUX5XFBhzOaSAmOtobaUtK+tT5xJSLtV7RS\narb2tECcO/umKvCIKeQR/Dqt2FId+4ANDJiSQbR+4L0OkfbpuXOZMUd+2EQLxyyuSCXC32ok\niIj0kvJt/9KVmfFTpiWaCcdFE43AgjywSW2z6KqA29JzUNpiwqC+ljlRq3Dc7E5APueCEGmO\nKVPSOfgGNXsUnSaibRZNFVhb5io3p2MMk3rMPTbKer8wch7RnZd5kkAv09b+YT6xvAqT2mbR\nVIG2ZeA3MxPJHeMMd+hlvafI08eeM2w9OzyqzcAk5JHwvYcyIuVV4GWOFnHkRGo+DaAZmRKA\nR4lDB79A+0QzfDnLPERyO9WXkEfBiE+XF8vhW9Qli6KKXFv6syPxHKnLNIBEpCQFr7mrvH5j\nkaJItgGFr/eB3UVEkozA1Y1+KSKt3xArBUnXZxoAaQl9xytoNH3mMUnGI0RVrzlSqQ3R0XYd\njviceL59JEJbUisF3MwjmCBFdu09/sQFmfzpM5lI8m4WJRK5k9JwSwqRuDkRec83IrUOvRje\nyj2NFRqenFWN1B5E2n7lc1zszxlHlY/1GuqLCWS660fa8xGpvrsrqo7f64NYsfBaLN9YqWu4\nQ836a6/AaimoKjVAtZ2E+B3/XhLXFfWRRbTNMlqFY0TN1HOaXG8pNBZApI3T+xcdt0MzqopW\n1LslgUiqVWFEoknLnxpKUi+UXo1d92wirVYEX3Q8oIOfsvKumQQKbpkV4IgNRVdnRCpKc/uV\nlJpyxkibSLjvdAzoKKCGXXVuSYwKVi5Vs+k550hsYS64E3Xnwop4oCDakU2P+s4k59s2ECaR\nGtQnkWMdpZfq+nnGVTuBMFUibXUeegvlodfi3AINpuah0WPEXkoFKSRQM2U1aKl3mefbRxII\nYxGpOHJswjxvIUciagXrxi3ovN9xpedqYbJbL460zNoWT0Ak5hypwApvwIqPzPVrym7RHqQo\nHJJrJPGtiSx5XKaIfZ+CSKxVuyXfd0KRn8LsmoduxIUUEVdjCJKYtqR88TtII1IHFRoLO5uo\n6I591gB7GZrpg09bRIpE2hVMBvjicWt0bPccRNIE1J7RvVYDSPrAafL6QAGErbGky4cVSUaA\n+ipCbDledLRO3Qb5jhGJC3Da4F1byI905L0SFECZR6SlwJy3LAuWrU+kZQ01occQQSmtiHY+\nIo1fC0YWspTsQkgZ+FGWuOCXBKrjQWtqjPQ4W3VkB4k4/tZSSUnDZYmeRPr87W7vy/Lnl7u9\nSVU0qopqdjadgyWf52pBPK8BiaRW3VpbnljQ6twhHdWiGTmAoltnuePr9jP+/nm/D8MvQhVN\nqmKK9dMVJCLliMsmUvzAdjIJwY1loXrLE22l+MVBrKpRQkcivbnvcejt5n5/LV/3nwUq2lRF\nw46KjcxUAPyYJiATFx3uGWkYH0PHwCyKS3dxIt3WqOTrfruJVDSpipb1ywdGGPKwyZsjeV8E\nGmYapUvYG7DQ2RRHcwUb2mZ55Dtaq9RET02kXAQjFpBfC9z5dKToPUpXefdmbIn9blPUYJbd\nJcsdN49IX8IRKexACXEOvQufhUgKPSZjHwkOBGnvC8uI5aJy/Duy583ZVvcatPWAOdLb1/qz\nRMVeZaSNEVrzRFPVqyHrWwBhwgivJHvBapjFsOrxj/2+G+3W7kgklVW7yO0LRCKkWbZzeCeZ\nD3BBiXbCOvIj8GLlYYl4Q4xmTFCgVKvwoyORVPaR4hRZykFpknomh4nnRKkzSTzeX2xIlizA\nEx1Q9fGGGD3vLhL4CkTSVCEkEvU4mTLG8ZRQvMg4n0jRN0jlAdN3Zq0qEqkopzqKzIltnUVf\nhZRISaYORBq5kswvnjfKQGM3UHnAI6pctVreTeo3lhatcVYiyeZIKLXaEqm1gpxu/koKZi5U\nUw8G1XdPWt5N0nv2faRQCGlGWBLAXbXDfKEDj+4O131Y2o+hsfIsac0iK+LHerIXEx7jE4e+\nOsvo0b0f5iGS80ETQYgAy6F788DriJUaKwJ1+65OzpXdznVI2uBBhlHh7LDR/7ShXY3gtLdt\npc/XNqCNH1Gd7mvfkJgv2A71f+6LYfPRZyPSiHoOHZAx7VciQHV97kHbAlae9/m40MqzZojy\nqxMJiFK613PogD3n37pEwse247wAGP49A7oS6d/7630G9Pr2r5WKSM6ogT6xw7GdGgmkeB2B\nTjhJMB0m0nX3uRN0JNLXL281QX5EiINhU08IPGNg52X0DMSXGDCMyYmBJoJturFJydmRSG/u\n9t/H/afPvzfpoVUWukbsxQbWOH5GIWPIIBW/I0jbuOMVskU3NkuMkaAjkW7uY//5Q/oYBQsd\niURq4MfZWJo1oO2UGCtePdNBcXxLuSas/XjHAtrAeG4ihae0slJOSCSaIk5oBkgkT1balDxf\nSPREK0tFWEFxfXWNMVi49IjUr/+iNjDDIIhzZTXwpF8Hu3ZGT8DdxIoqKK4vhVGu0Ryr7xzp\n7+f9p15zpH4RNbGBeX4ANHmRiO2JRH9UW3CsIqogj7oVI20wb2vlER2JtLx4q3a/vpqoSCVh\nEbdux9SESJCAkh+EGtpEdo4oWXDQDyZSsuPLK5dDrqroSaTl39t9H+n2+t5pHykW69JLnIKo\nGp4Q0CK7qvKVXkrgDRvqPe+DQXRf5B89zxBpCxUXbrl8me3mWF2JNFrF4QKwM5BbKU1IzNqs\nQ9yN2COvBnMBXywttgvv5CzhHCmMU9nlMiK1koqeMiC7CJSQ1MDJolSrSYw+XMjOVkSKK2iJ\nicSGEamVVIxI5FquaQ6HeEkNogiqRe15ATFDh2hGk8xqa8t1vTnSYBVTECkRU13WYys0kKsL\nLypm0L/bCSWyFZdYtRuuojBH6kwkLb/fy4IFrAp+E4jmCNQ9oSQX4MCfFXF2IvF2KVx6SdXm\nBAZBlMqApCkGnrotdU4YKxkCgfd3Ptx6biKxvSS/j1QS550nY+oFpUX3ejH4YYizE4mNblvx\nu8IuWVqpUJ86FnZpjmtdfyd8QUjGqNisqqMAqJbT8Ki/vacmUud+Us0p195Sayru/JWGQIO+\nzaMgOrLXk0nnJhJjc1AB+r27yjoAsPsar6poVNHIB+r4IXx0pympCjK6ZGmiwntEprE5m8Lo\nPlaMJy4+Yu1rOFtMBoJdCH4d1w65ZyaS938fBO0p7sB0iQRJC4g0OCbTgKDGhNR7RiJtDtL6\nrXTBFsR2qfHPvkQaG5PpQEIkZvtUN8q5idSBRmHcFD1HLdOtEW3lH+geHc81OUPILJDkdUtP\nTKTG5mCPI1Qpr4+2gkMvgCFj4zl97e07hicmUo9uF334prLea3vsgEKg2w5dY/OuShLbdwzP\nO0fqUrsuvB9fRPcoV+MqirRPNglqEiq0r9NKbzoxkWprl5AbJVKmA+vWe46cBOWwLsb0YLeq\nkqfdR6pUQfL3jS8pkdDsXSLO8K4iU80nXa852lQr+89LJJKita3gkQeO66J7E6iTVdUnt9ej\nNCeSdx2OZyUS1d+d2w7FKQuugnpfrOqTxyF5HXmYmug+FkakYkrmcck+5/+GvE2MLI799iCR\nluhOyNEwDjQi6Yr9CWjad8ba0CaSrjglLW2nVM9KpEYB9mOi3WfJShHant9n9sLU0tao5yVS\ni/5pbav9WPppoOxkM67asTsL2RmjtlkmVCGMmMNXmSbfrle31Jah9xsHuJ5fsq+P/azXsET3\nouiFVSNPTCQBSs+2blPs3FSb0vjaPTpp75lFo0XVvh7gEomTmJWyJsuEKkTwRxzQSpf/muqC\nupHWGQ+RNgDL6IN2nD9iIzGoKVRU6EcfcacGDEmusABOas0mi2iKzcZfL3OS6laEy4QRcIY9\nIzHTZYlUqgFJN10m0nKs2GV4FH8J/2kLrZpWpiVb4lHTo6h0ROT0lYb9fucgPQPHLH6WASpK\n3bCkm6YQack6DZQzTX4xIt0vuWlja8jbensejTCtZVt1DiKV2lrmXckcCTtwh9U8SKTUEOgj\ncXeuT6TYvqxtG4PaMwkzQ1QBAYOMSNpE2mOEZQ/ivEqmLI4lWkmDVFVkpD5HCs3J27a/C7M1\nkUrn8bPK4ffuon//J6OEgScmkt9HudhDSc5OjePQF9UJ0GJ+4v91Gu8KqHaPS3sioWYU2zrD\nwacfkZrMkUAR+50oUbKyUBudyeJCWq6sbY/RyG2u2JxHOSZJfMHmSE1W7WIRwV3s7AQC1hJJ\nAmoFFT14P8jbdNUua0Zeeb4ET7Fql5/ltj7FokWkso8NIRJRY3ko6LKPlK+ijPL8XwR8in2k\n4QdVAl+rcPayjykEokzQi5OxrWcHIKui4g76M5xs0PYudp8ZMrmls/fvMxhEytjWsQOQVdEW\nfC5YV8A9CsHV3RasPkDJHmDJmeJELvy5mbP3PmHDqd14idFb0evZAUj+rN+REcrMMN+IFIoT\nu0CHaUBfSAeTqOLmrpPdh3IHUZ6OSFVtFkvj+lH/WUxjSAeTbhWhsYSRJxJrVJYrbwjJHKky\niogqjTvc9ZxWV4M6f5bUZq+KOJq7ikrHHAk62xDdi4IEutuCSCTNuf7zEKntvKUbke4XfJWA\nKuaojOclUjitZWZFdMIRHjX3/ETKP+WhoSC6a4v3zXfHvV4izqSrz5HgLHIiRZNkprRTzJHK\nuyYKOtSkp6GlF8+tSuqJlHOd51i1g7PUrDeEi98LXofA7GH47nAe+yHsJfskvIqmRaUiIDmH\n5X2IFLd07oCEXG9DSFSouwf+UBHsKi0WepVk+kcvlbwvq01lPPKuwUc+k3RKQnSdfN8qVdsU\nIiJ1GxK6RXGSIoFe7A5x25A07di5AhomAiKFlzpdUVQvOaZxGSI51+v9pv3WFfiMhT0rtPgc\n768sEWkvB7kguaSUwxj5dr8IkXrOULoRSaAIpt4uaPfA2WmEFL4iFvCjW4JiiEj5s60Ck/hZ\nmqvoFm0tUxMJyXEQqWN/UwuoSSvsf4zC5T/Rg1X6MY5fmUj9oq1DCy+ukOtRIJK/2tWaRmoK\nkChVKN7t/6RE8v7P5WPa1BiTE2n1yObdO3ucxbvTpbGpyoo05z+PBEu4Yo5mywzqWZuMSBLs\nrz5p28Hz3bIY4DeGTojNLTchPUSk3MoM8unl95HKDajuSU7i6Gwl7MXvpbFFvi5qd86WzBRC\nSX8s+h9EArNRFj5RG1iYkkgFB2rgYHsf12sYpKHXihxYozpE4kohpXfJ31JEs+W24opGMDAj\nkUoOJA05smO5C+5PBrBGJybS1pbxaUqqmmJXTZJSm2W0CmED5ysvPHHzZMjMyZUiO0wMcJQ1\nmx7Ny+YroatmYT4iUdZsRHKzmXaaGZGOj1VC6Ey9ZyJKycRab2/6AkSirdnw5RImmJkNuouD\nN8HgCsdbFI4oZfRVfd3eFYhEyCLqswhEOsdxmxZQCeJw6dlzo6nezEn9jInO6QUU5ydSWLfo\n31lZ+H1WeRy7t0QvJs1F2TGnjZihRWGSyxNWUNUlS0sVfnXkYgJBoxd73bbdcqhqiOPmoEJs\nphAukbKJQ89RWiFpm6WliqA62LnzogvOq9qllWzppqkjFI9u4InR5MfXCr3U+Ynk1a2+Y9OW\nPKX6OIfJKlVx0SeO5PcOZJd36w5sbjloV6/QS12BSEdQJ8legTp9rG6wb9E6xZF4oUh/PSIn\n+QjXHL5jHn9fU+ALEOmo295EquvJCpmj1250XWsnlEtlmfuQFRa2msfukJMV5NQ64EsQKcoX\n5m4ZpNS0eK710mc0vC62PSDTtF3dk5/s51RHWpsAoplGpCRfUnGtgxR5DJKLazYq+UTqE20h\npiW8jr6vUhQPHPV+vRNpnSpR01fgWkRKvVepxSWGLHnHzxBp2c8q+4loPqEBgEjh71oxdFBJ\nLpaqQSSaHFu1owrqz6RyG2Ip3P4vnQZ3KkdsGmaGwjTpmB4pEikoAEmM7SNlxSRt0w0ExVg3\n6LavdH2LA28hFJyNtx2RYAKwXD1cteuBCxPJn8JOQCTwNceQXW4NSsI5UiStNZzPpbQ0TedI\nUBfD5oTzuNQDVybS/eLU5PGV+3eGI+w7iXnf6oCdL0msp2LOPhS52OUTAgzqD+m4LpFWHkUO\nKRfHFBK1PNERNnNdsreyGdDz6OrRG0DLoQoTpENWQdqwEJ2MSxNJb3Tn98BhDpoj7HnQ6OuD\nN2UAACAASURBVL7vwORb3YLAdHowiTTgoPxlibQvFnPrVPTqi5IgIpH8KzZ/YtshR/NxgFwc\nliVDwuCLEsnr1nnS4Eao9iiSgHKi3hGOPm+lByQ4loBpWw9SVyXSFnc7LpFA/fUOTHGEsUSC\nPE27b5dPtRiWQJXUfpC6JpH2tU/HlIZ4qgKRCC05kkjJGaBt3wD4rEKLd2XnpWoHiVShmKe1\nbZbeKnYvIAgjvaIJaQiOaxHSlpubkCJZOCa9ViIUDNFe8RhNKw9Cz3LTFZfe8YB/VxStkaW3\nijU/oe2jJCiRIEnq8UJZYClF8v36Vgkky3E8ZwnuEF8VOvW2RDrWPBMlVMXZ6s3X/UWJtMcl\nJT+PKx11F+hgApZWjvLgQXlmN+iL3X5NRW2XyNPw4KiuuEpE8qoAfPgCmIkRFWdbNN/c5ycS\nPEl2yDeIIq9lloU4yhxxUNsFoZoH0rPvVXaH7X2IVOx6SEGoR3+/sXwDhQcjsmUsVMDZiYQ4\nPu9BlLAPZ05qGwR4gQNzxLOI5NIhCQ700M/YKERHpKJ6lq5swtkvEv2kRILTU92vxj18IulV\nSrJ85usimkQm0pE4VAspZRmCW1icrxc0eCZuJpOeF6evuDwlkfDSEQeWGvc4PJAvAjUvMojJ\n9KQ4mTnSbrlLLGq0apcHragxkZa9dApMz4rIy78skagCVveQzHPAEJ2fM/ymcOcKzq3a4YMV\nTHTFuSAoProjOY+7OyK8vdiV6/M5EfOs2n293b6v77+ce/lPSUU1kR5tCtQRyWs8D+URCc1S\nSSTAbnzpcu9EqLK1ALsksah+POoNSg+51UU5wz7S5+3bjq/bvWHdi5IKhfEcksJevBPwCMyU\nfKVTQMSO6A0rvZCWyTOkZE6waue23/WNZKIjkX6716/vy+/Pb079dm86KlQi99SxGe4rsCDX\n98aaW05Nmk97ELXRfbODvEKU7CON51FPIjn3tV6+ozx301KhMZ6vYqJhgGoH24IskRJvarlN\nVSVbeg4PH3X55gzqC1J0JdL35ea8X9RVCJFMkhSmXgWFGekDnkqTwK8ynjtXzwMjO6aorq6h\n3ceyvP9cfkak7CSpHCfXVF6a29soD/Q3I9Is/WgFHHJlZl3a13YXdCTSh7u9fSyvt28m/f3l\n/spV1Llhbo/Eb9u2J38m6Ufl8L2fy4TO438XdCTS8nddsfvBe4UKZv9HyJ28ot4dO+ZL8NmJ\n4ITbY0Tp3p3PhOgYFDP3jOhJpGX57/evHxa9vn9WqKgMqaHc6YfJyvDZorG9J2i14ufd95+F\nvB1Yt2o9TV8iqahoQKR00TlJdbZe8+HgwTCrryC6yvkwaLRXZLAR6fFbVKNJqrPF8S7610CD\nV2XBz020tYGixSckUtQLcs1BKg+K2o1IeR3hPtLZqki3UUcRqWYf6ej/JEMzLU851jvkzeg5\nPYgEqPTv3jdTVtFqqdLq7DxEcj6KudMInaO7nCOhGzqQLWwqd0HzORKo0b/vn89aRYvz1mQU\nZHXI0khF02AiWfxeQPq3MwADrd1br9pBKr1r+WOZCklp8Ez73/TLiqU9CCCwi5+lkYq+Ubn8\nGRpdKxYiOfIe0iDcgk1TrCLR2Oayb1Eq9zZEpRch0qgofACRVPRphlvpYezw6+heo0kiKHuo\n/Hj5CyqVqLQrkf69v95nQK9v/3RUrIUcF4V3J5KSQleYZNM7pmLd61WRSFL+D8lm37LEUtqR\nSF+/vNUEnQf71lYsdBpNn0PIq26kj6sxrgHwmWA/eeZL0KDsFKOYgohC2eFm3j7MBHePfkWm\nNEnHgLRK3tztv/vR7+Xz703vwT7gDzNGKRayV/BRLZ3JcgmRUhsLf++b4foEe9QaIKsL01Ik\n0mOGVIjspiLS7fEExR0feg/2lcraesyofDZuYTqZoDhplrx30clK3IXVCgnyQRryXTF2Ky02\nZJQmyViQVoqDmlJDRb6noogctmPIp4WUehGT1msVkfw9GKJBtQ+SLVjZcZuD8L9sVJJyvlW7\nZiMS5I57ffSMPdgQzXi4zggSaS1yHZF2ScQC1Fc0WvaMze6xD0CUv6QWzraP9D1H+vt4fEJx\njvRIHhff+4BEJMfXqQIRkbY8VI8ElSSPiaQ5aLMCzqZvwyg7V5OMQ0ByCzsSaXnxVu1+famq\niI8hIFc463oZwCQ5kWoX1hRW7XbjqxitBXyOxK6pXqyQ18O/t/s+0u31XWkfqZD9iD1KO9e5\nBdCWEPeAnIzIiQPCtGE/96iy00rKIJ1Foc3MqqnoztHfJUtnFVF95F2muKzTEtJZA7PFZd65\nTi4ctuHN7QVIUTaoiSYe3kcqKxUmhrO2zdJZBac+tqFo2LqdzMejexPsL+BHGMP2+jLzRCN0\noaMM7wVREv3SPPMTiVMfTuAQ49GDSPtYHS+AekmYu8mlipYUqyCUSSSxK1yLSPuuBnOCOeuT\nZzjkXSdDRZFIfJm0/UMWkQo5mDUlnqN1ydJHhU8fxVOXaL6R5OswirYgUqHWBEQqZukUb1yK\nSMK8EkqUVsLa00xRAyKqNEeSKFryTs3XRFrBmNNl57Sq0wQ8VBaqOtzkVLMufOG4sGonUOVd\nebYURHZq9QyuRCS9nrOsK7p7v7iF4DAzIWNsdh9JqgnXJdJEq2tQrOZQdRkiHUdVesR2kEsc\nn83SS5LQ0diMqorlMkJO5AidVCWookuWDiqc938+oUaFGpGUVdWM4eV+EJSuGzZchUgbGUqV\nCrBGVKFAJiMSURfKo/SrhiGlcrmvRCQ/viukA3QxhyRgGLveHAnPQ3HwNFFSa/G81uWTC2FE\n4uYovhERqD1phebc5MyrdgSOkIpHOCrr1dX2SZgY+EwCIxIzS+FVBAtYexoVepyocNEnp4Bn\nPo0j3rUmkZcESl1qGfBIeubkqs2RSFm8CRKLSPUVmnU+2qruDLzzipE3JuPg6UsciOEBHipj\nIsAcSEvYql0mSe5YQUlyOMbXVmiGiavsgoo5IkHamL5kHDw4o4UlwuRsleSQ7+Hc1FjQ9pGQ\nBLDrlb0A6Zuq4rroDhhUsCv6WrV9ybK2oag8JEEE8D8AEhHkPGQtfuvkqg2PLbp4aIKzEglO\nRtucUy5ALtJZFTo0RSpAc3jiyKITKZjboIMQeWhz6Ac5841IGirwGhsw2cgTiTB3CwRscypF\n0zBZYV1taV1Zu9sP4GUGoYBicKvERIGGKNT4JK0RiaEicrMRNZYCd9e1g6cTqeagU1Yw8GXc\n3ScjDC73OMka5I3V7jRCZUJcJpYdqlLCKNgKpyLS3iJyIrUYsbKOsl6z3Dja3+3Ea0+k+Kt9\nYaSo2rc3FZZkJ7v3NiRTyg4u4AxctTkXkfarsOtpVdFo2/vOSVi1u//vHn/+SsOs6F76jtjL\n+CNo8BGyB5uxIknqR8K5hP5AH34xKEo5E5GCEGiRMKL/0E98DsELWd3GJg3t3hX8qsoBgB6t\n8rVdW4fDGBNnwUmJJOt6KpyHrgPcVUx6aSQSXJa9T1YZkjJBZ3TnSPXuhB6Noylcw1AR2Qmn\nJVKN2HYlSP2KF8qvo5E//ag1CJNT0akHWYUPMeSSGpG0UJwj1YltSCRAPnAGA7XCmx+R/VSI\nivkiMysjuZRI449YnYtI8rb35bbmUUlDNlW4VA6PZ0oFEAsiLe3JNBFbKEw2cLFux6mIVO1E\nrWu8gkj+wfFlNzL1q/FO09QCovAwWev+kYKTEaleclMfFBMpcoztJyglQUFbNLaAugZ/JJti\nxnRFIg0MmGlOBowzcL7IRbyIapzTjLcgRgeLqCsqPKEiU7qpGBr70OY08OmcJS138HmQS1Y+\njS5mAJFKm3DRXV0vxaUuSKRqCVVI9pHARohSoa6QzJRqiKTTxSC2tgsDyma3afJDL0X+SYnE\nOxU8EqRGxol0OJHzPlHY/pEDEtMyDCib3Ub7rpfkUqckUq7iJiMS0RzcWeKFB7nTaNUMGL6q\nSIbVRXfEJrpu9onCNRSgxZcMTECkTKIpiVRsO85JG2kQpVcz6Ts2+aLJpVBuUHJHFBCJGl7y\nTOFn0VWRr9rBc6QIWwMQqFQyubZgbtXSoGrYzq5/2IGsmSrM07v/WQ5CcrYpTVFFpIbhugDO\n+79SUm3Bokd4FJcH+ERiJCcO6hzFDCbtVebybXg9Iql6SD00n3mN1/qY5XTbmOT9omQTc7QE\nWxArzj6gazQrmUjBq58Ih9LPSKTJorcSym/bE4pdmL4VnCtXsMkdzsY0BnDn7AKSXg0SibT1\nOY6c65xEmit6K0A5yA/F8oh03OuNilbmWcMjRKScOYpVmOrBH0Z06O+YXIEpTUEZeNtbIQa4\n3dqERyyxykS6/xOWLcmWtwf7VuAGcScMdsqJvuardr+/1h8+X/iCaCpOh/QAUIsBVMIEz32r\nibSNQqW5A5I7qaOsPfC3wnq9Wx0dWiwRqczZSiK523/3+x9dPzk3kbzr9hFj+kBMKiKS53m1\nw2TwkhaJFxEPSfkfg+7OGZLThRaEonlrcAtZ8LP8u7nXz+/hyN3+8QXRVJwNVX09e3+FqQV+\n6kkCf29Fo7nyxcFPU9C1B2fn4nW4Wo7Wz5HenXtz7p0vhq7iXKgj0nqlv5FKomUTUFXNbjVC\n69VhheJgD+wziLRdXcgpSIhkSZSNKMt3VOf+8KVwVJwKNURa8xCbceyKy75CLIit+F9C6aM7\nOXmwRIKNPVJrxFkeI9IbXwxdxclQMfvwiTR7JRTfdpSeyKsdQxMLjmvZBI9ISX+lsTFdl+V7\njvTyPUd6tTnSgYqm2SM777dpwZ7VMEsFEDGaJBWjQf977x5Vs05oWpdli+r+u6m2+uQuVIK8\nabaJx/HLvMj7ccoaXihG2kTA3rPpD+l7iuPX/TwGyRIaKon0PRw98PVbwxpIBS3D1Bu0dATe\nQirSyJJndAOsYRIJzk7IHNPERZ8vy7pmN7rv79BwTBXnOjKUx/GgA6U805a8lkhJYnruMHDz\ncxxn5/Sr7RpEelxndCgR6O087WQK8nuOsXIiBQMQmkPdWa5ApG1iofU3HMbAhRMCWb89DwDW\ncMaBo2T5ndNsTloGHVyHSN56jJoZ/YgpCzbSacA0lIIPgzKOSnkZvGV2amS3LOxnO+pwFSL5\n/7SM6N8OVGXxAzpuPYm5zDRhqmP1tt/7+GXJNEfmD+n07Am7ZGmswhuNNIkkMaVKF3Ui7i0/\nrR94TlZvMOp+fQc8//0SOC1Sfo3pT65BpKpzyAUbVCRSD+EzZkbbzHAXrrT9lOn5kS8aolwv\nUO8xIsK9BJHSWEfRBgWRZRfkKAvT+svlKnUAC9kP1TVuff94uiPUi2p3V4OLEKlBf6lJpLIg\nBgdSwzSJBBbbbagWX1Du4kupSEYkfRXaA7raGEdpbEY/gBFJJ7iFibT/15hI+3XvGwr1kg7P\ng3AhImlDbYyj9Zp0J0gZ7rlRrcGQsW5fznH1bUM6V+RZQXpVsD9hrLRPCCNSBv1fSkiTlziM\nWx1Ow2BgID6ehq0+6Jl1dpBIdIHq02QOnopIo0Z+9RYGHhetWG1xCSkjV1+JpMHUrJUSIqVF\nH9nGrbNMoWLcyN9Ds9iNoPEtoenGpOq4LrqDX7ulQDiR7MZ4JiLViJb5kHfcuHWtbbMJ2nqF\nZw6lWtw6GhGE5xNFzo4/qifoe4xIfVTU1LPwJFzPIXA73UDy9eWwi1gtzu2HkMiioe/9O5Q4\n2kdiweZIXVRUEUmUs2/D0rUFKanVQhNfTOWQqwZs1a6LigoiyTrJvqEGfUTy7PKitdKIREpW\nTpUssqnWj+0jaanI1aS8A3SHbEA+prMzkchzpLBbIK72UYlUPv3gmEHlSXApIuXHdvnIv/ka\n5CO41N5Eop7gOYh03MqTn+iOpFplkYpsRNK3QklFqXMVj/wPDwXFwx96Pt3JT+hrDYtHoMcP\nfq78+FoKAOlGUEWeBVciUrsubjs5kEqHdO79cs/Jr6Nri9wdMh3NlBfMWScfvDigDSMSUTYy\nKwe9cb/GZwZ0LIPkbNpoGtBHFHKDRPl5v8MIYlQw9tF4Ve1GJKZ4MLILPkbM0Op/YTmSsqcF\nEkk57NnY6eJ4EUo8GsqmXIlIlUF38SnWjAcTvFFrRgDL2cYEjmcAh4OiO9eefT0G89KJpkXK\nplyLSBWdDGkOAC5+x/noMaAEmJw9kuRRycW/b0OKyJ7dAERM45iBA6YpxR7qUkSqCXvlHVSi\nkxoDioASyW2WiDS4PT95ogXaE655MAPQnlOmtAPIJS6fj7oYkao1amgGB7fWRPK8ga9iX8fz\nlydl9siJ1Hf+5JlSVExZ1TcihRorNe8v9Gk3PcDlyMvgyXQuIRPlQHeYHLUkVwmd50+HuqLi\nLUG5GgQWNMVJiZTt2tqu2t2/ie7kwWUPy/xczv80Iycz/kKjJirMo3EX7KYUm95F9QMnEljA\nz9JEhW6da/SHBRkt95Eg/WTqJkQKPg2F0uzJbezixse5GrMqWll5UiJpR9QK8pTCwwoDwjKQ\n+4bQ8DAwkxaKTYJtbDjUK7dwRnFwBxIQavK8RKImpCutbTQNIlUakT76yqnMaFJdRSQ+wk3d\njnOm8hyJwOmzEml47w+g3ibVTphDpH2+kEwaOhPp0D9AcSZBcfJmRFJEdR+q2gmzqihcpvPz\nPejVo57D7eCeLVzebi1WgBFJEbUDinKhxLSMVu0cxZGIggnhURDZdWNxLc5KpN67DkTUNbo2\nkehPNKRZnf+zU7GJuvG5/UbLNAnOS6R8BZ+jG4ugTiTSm39KUqI734hQUn5MCgi87C08qDEz\n++tJUoF0fhYtFdQN97N0YzE0vcZtfzRqEJGOE7QRGeiC6O9maYJtEZPkTEOIJLSKTo85474y\nNDuA4xUTTHlRByVz5WAlvWL1YCiRHleaM52KSFT1A2u/NqRUC0m3oYg7JAELDZs8pvolaoiz\nEWmvA5IFHYnkQrBV0Os0n7Lh9GmikFJMpMWbGiz00CaVssROqMDInpiWSP9uMxCpqa9PFFIe\ncR2XR+nGKL/rgYkkqfpxfdO0RFq+Xt3L512CKLRjjPIZh27p6yMD+gQPSnBX7faBjPenVQAx\n3n2XIAoGmi7A5oRPPEf6z7n/lvZzpEw31tTX+xMpfTo3PvPJjqS2Wq5bMNuccJ5YF0LevJlX\n7T5f3OtX+1U73IMuRaSkQqIdTVn/f78utUTa48M2NNIRW+qaZ95Hene3v2J611df3juq19wy\nshsgUaeg35sh1UlrGZEpDXSaHV93Ii0fv5qcAKQiN32qbp5UQlN3iu5lxyBZs8YyI+f5JSh1\nWOcm0rL8Hkok3Ds0msdFNEKVFXKSckT3kmMQrfGSTXrQSosAZyfSYBUdp090alZs1iy7z5Pi\nVuqYNCmJfqDWUoqh+BWJJD3xrKJcKBFq0vJTMvsVOJETpz2OvpWtmTmsWzSJpFfKUUQSbMhy\nJIvWqxSUSyUCKQnlOJKsDMrGrVs6GpFicwRoN6bpjSSaR7I6ZAGEJFLIxx6AjMGv3pVpkzhn\nVqCUSJSsyYtwMnGr8+98e7hO13JMm3C8PH1oF9dpxbii3zxkaqZWs8pRTnwMR1KB3NpR75ZC\n6XPR6ApEijJUBWjazUN3vsTtWhDJkUsoHSE5Jl0LZydS0l6TNSCVmukhheieF1r2csexppbY\ngvRnR1ci/Xt/vc+AXt/+aanAYqLztV/s5Gg5oGGuPPQxIzMWsUEB8R3QPV18VoGORPr65a0m\nvCipAIg030RUBLQcMMMIx0XiFPkstQ/KBmbKyH8mdCTSm7v993H/6fPvzb0pqQDcaupzktUK\ntWImxcUD0NBAPpT5rKEDjI5EurmP/ecPd1NSId824i6yC/VoQ41ITCn4CIl/kcR3if7LMKkj\nkdJTaDoqaIyIIxUuL5z3/gI9qwS5lBxQIAYxjsBII5JSljvajEg0IHNn+t7vJoCZnAdaLp2Q\nSM2PKYKMSEpZ7vieI/29P2muOkeiIXa+nUeo4yLnJahEivRp5tIJMn0/rpr9kQgx3xxJfcuw\nS5YHXrxVu19fTVQU5Lnwg+P8WZIhctZ90kyzTNbbknOpOMHux5XEpBEp1TH0MfRWh1haZ1nx\n7+2+j3R7fVfbR6IBJpJbYztonhyZwXxctDGRVLD7Uu3IQB1HoTnqsPHIuxZSMvtOthFN0ZxI\n61CEdUwA8Vh92BmItI8JtVpFvfvguC664wnJZXsOIqXt5p87IxBpH73SpJnNnjZzJGUo0Ffh\n4d6GAKyjE4mWjJimPstwFXCM7s+UQP0H25CuCR3SRDF4q1lD1tEb+XTh2EQbpaAdS1qnVPUM\nM5+ESHDD4mvaO8WOZkiCfOelo+mTWVmLEj1bjIM0nV2IBOohltmIRFUTThO8bwKKod/3ntWI\nUHKaFuNg0VF7RbFICxHLbERi6QG1BQcZkNjvFEQi2IgdWRCzq6wz78lKr390mffBEM/DwJnR\nlCxciUjCCCT+vKm9lV4ltbFmoKLoxIultOMcSBFKs1U7sibRnHj/vH2EUu1VYiKJctXprNec\nSKkVZvtIkFjhMi0S2e0rDgWpySN7rMOysAUMyCSM44LOMB/0dR02fp+ISJIqze/YhisORx4X\n/hqK4Jmh4FXCpfgqxQKde7UpE6nT+YlnIpJINLLhijpK8k2slmeGildJXKlWsfxxL20i1RnG\n1dc2ywwqtg1YJdmZF8gtKW/we0kNL7ki2k//Vj3JhpzqHCnRtl2UcUIiSbc610tb8xPHryRS\nN39OFfsu1yw8gjbkWqza7Z96V1WcjkjSWt6Ho0JW7cXmaiJJvare949ZS4NuPIgP4lVqvX2k\n+KPorofzEUlmw8agQgs1WGyumyMtQq9S8/1jV1Oz3ePDWb0iWFiPBm/PRiR2jR89H8W36l0m\nkVC3ahfKpmcjFqQkMYzv2Fbgctfr3pzqXKW/gkkpkuySRU8Fk0jhzKj4iobqjtFBO0tV+0iR\nbOb2YO34G4ziehOYiD9blehFj6g4gLA6HL46kfYrqbqqiLSTqNH66iqclji6rxIclIoQR3sJ\nVdzuMM9rIM1qW8VCm3zbJbVFQWPrLIoqWA3pVRLtDEJZP5rV7f0qPzNJwXoliQcKInGhPZjb\nf9FxO49IuiPRQ+oWKDoHyE7ig+iek5hLwjBQnkVRBavmg0qidHny/tZt/zeqoGAFjWROZAn2\nCZVImrulwRDnyK1DE+31aJR+jVALnD6YgbFEYlU5u9nli83RP3VwiRQXBBqj0o8SMetV+fyO\n5gpMInpZKUTt18gBLkEKC6OJxBcEiEPZKF0JiP6JZORUsxehwRfzlQapVMgSObh8zM6ZpyXV\nj4AzNRYo32e2mEdE93wqBiYgEvsFqbSPK9RtfZ8T10/JpsqFLZBIBInpkmONFZiS6F4t6rHA\niRApHa3BxVaecWckEm+aRFwErVXnNl1SJyvZ9HANeeWD8kXHWfVXJdWJtBx1lcp0S1qTYdpw\nxCIZd0oi1ZrBazeaOvnSN/n1crlnSstqmwwlSlAkktdcWDhSWsBMJnAU205IpPpaX3NyHtsn\nqPPFuWPtqJB6a7WKUlEpUihvn+d2EN3etVaUVxtIOBJriw/NJl8v5fp9XiLdnZe8Is5Sd9Q8\nvqSxX1bhNUSSZoQtGgFV7S6zcuCp8e9+HAi0xBX3kVTigEd9+bWmqu4IELBce7Md0sV0IMbw\npUUFqXolaL7JqEDLqO+KW0vmXyckkkKbe6MRlUlsHj16RjhfTB84cOeoK1hYFK7QOzWAsE4K\nLRZOZ70gMPSIJyCSQhyQ7DBK1GG96ONCWlH1W61iC8u/42nORyTvys2VZZIXzjnvQ/8TptYz\nEknscpAKiiDmext8IpVGJI2QqiyiXNgpiSQ0ikKkZV/gcf6Hyz4wcT3snETS08HSRN2ND6Lu\nDJP2BqvrF8oiCB6ZKc24JYjorpYtGHu2kns1ICjyExOJ68FRhkxzBat2MJE8WRrDK2klIU8k\npDpGruZJh0leILtNmYTK5NkuQiS2B0fNk614d5xRQXT07ecpw2/umdJBY5JQOXdp5RHqRd9x\ndXbJMqEKEoI91sI9zZz/uiuaLgkeSrQLKzebv9hvRGqGsBmTii4RZa4zOQ2XBDcFx5KyHto+\nbhx+5l35VhiRVo3Q9MC73mejYahGmONPQyMxOESaquMogfIUeumLIJHABH6WCVWE+qCqSgLp\nJa7+CxClCGqA2uKlXXzUtUhuX7BUsLMRqY3vglUFzUgn7HEbs5la6vgE2wi0aSHaoHwuIuVq\niu5QyNt0YrXhp9t4RC59n+GqA7uJh+RnIJJ31ZZ6MSKh39IdCkiJVNWmTbI62mv4miGeemCv\nrX4awdUC9dq4IJEyRaI7FJASI9IxK2Lv13Vy8N2q8SEnMIfsoc//JLqraaJIvQiRGItLUEqs\nqo5YjjmXZo9fwkp1R/bhVFo3obup865L8LM6kSjRhRHp/gteVWGfT/UTVptWhIE+yxXahUNo\nIG2/8QiOEJqFAZfbR0Jrih7ioGFcmbwMP+ERiZ4UzKu18swh9NAlTOc1hos+H30usG0WLRV4\nTbn814lsVUpAnTNdS1VEgvmUSBZNirf2MopIC9Z7jD+p3jaLngqspjwOlYjE7LaKLgPv5tK1\nVIb21eeWeXbA56YAa9pBOZ7VwdmIlMlDdiheYxcpgTCNrKWeB49RiZof7YtIdoSllXcfBIMK\nJkyxwrLjOkTS8EhEbv5AXbXW6jCp/PIvP+2C+B+pIM6TkqaVlIRPvt3QeWhkRMrKI7WUApGq\n58gu2DPOJ/Wu9K+iNEhaUVUIyDd0gobgSkTSrWBqN1/yHtpbUKuMZjhwLimF0MdoAKSlzrL8\n74t5wGX2sqG9cS0iaVbwunJBYIF3bWtS3oJqIjH6DbiPodgRH4Ao5EHqb6qo7o5LEalcwbRg\nzZ/GElwrx5UuUYgakSi6Kkv7qNrjCMTGq5H1p4GLEakgljI8bF0mmUg5empP27JqOocQzQAA\nH9VJREFUaudINFW5meNed3iK/d8RJGZapVP9KeC5iEQRvibiEKkkrD2R6AFkXaxZ3gtw+bNU\nbq0Lt9dJHOuFP0f3efFMRCK1SthR1k5vujkC5/hSRZkoXVF+zpgSaRuTNusWr9aNSHWYg0jw\njFqic34/oIG0mpBPcxxIcGD6o8JqjyKNeOFZ6yyKKiqqJ9/E/ss3l3VSXN8UM67UyqFBpG2l\nAR504pmTuP56V/zJiFS3Gprp3g7BeyKdHq3BK6rGQYFI6epC0CoHkbZfq94jZkTKfhF9Te58\nMgmDiMLVdIUy006C6jnSmsSvkqCOtCZH3SdX5yISXD2Mzqd8YHNjkU6PdoYpEu9pvqXYMQgO\nzyXrdMlqAxdGpKyKcCUg/jBNTm5Oj0hrzoIlXLHTguv2rU88RavhUZdJDpRJNa8ZdZ+SSLQl\nUo6LRKG5FgXOQCTvOgf81XAXfUF/LXK5XLh/SAh2LiIF1VMk0uNKfC3ben02Ik1rIeDm28o5\nMYhP8scpvCsvJy6tdRY1FZmJKcojUkSwCY6GJnd8Lyr2fP19hO4hEAH7Xng8FY57O5IY9Ovo\nHn7BLvLJiBSMMIHTJwX3ap14xs4F2QLKijqpmoywcRpgPsWgV4a8IWV1XCKV1Ed3/3PBXvzp\niLRAVQAVeqOFO2ICkmp3XI7xiKAPlUevL8ILKYRwaJdAmEtAKRJT2c+L43xBDOpJJL6aMxKJ\nGDDtteEOVmFJw30NeHDb74266MzkN7CiSnIiqlgYyOFSOrKrBCtTZohkzZHEFnjewi+PwICm\nKEZhC6HZ9vEZJ5K37crwpVq/zmpB++g9AZ/Ch2SYFVmBYJb4E3aVoHzJEYmzakcwAWn25DQg\nTZrAAH4WdRXEpbhtJRVu53CBIUskaElWuR5wsf43Uetz3yohsB3IknzEF4t2CllR9H0kmhHx\ncsYR0nvtTZQlUM/PMk5FEtUkWgh7r+GUaSyR/E+Ic+I6IgH9jBKRYPMbjfdlJLNjlg1XJ9LR\ni5VmPsUp1DAioaGZo1EJJSKQFAp1ktpTINLKapfmabVISLFouwpsuD6RHgKxZT3gDib0XysA\ndNEaDb9HO+nQefSVflrnNztBcigKSod8mS7RedeC7ahNeAA15rx81LqX30fSVxLvveIJ/Qxe\nRSv1obmFDxcZuRJpH5iokpesi5CjqsyqHX9jQOKCLba1orswe9ssM6o42rHkAGkVQ5uaGmNS\n2bdccMWIJNvl4bgSpIFZD2LPbRP8GZFEClx0yWrMe0iV/3FlRYPLmtbhaRhQciUmk6R2qvtI\nndhTE0k+wvNi+rxn0h0IlcNZEfQPXKzzjNIMhojuRJIRvtJMXG7VQHdiIlUUXNDmnMgvnxKY\nAG0XtmHHlF1iD9E+Vm5WflFP2IpIdVOvMxOJnhSTr1MUqiGYVodcacqLy/ocWUtCS052oVqR\nmi5+yMB5iVRTnxV5s6vT+dSI1uBjhYl0VcXUqO61A9SJsDw8J5Hk0wjYV2hPBFCIVOnLnqAR\njtZnB2jYlm0Oz0okYG5BysdSGaeGc6uHKlM6mirGbNlmcV4iVXS8xDNqmEqq0iQ1old/BJnQ\n0a6OMxNJ3PGKPbeSSMhIWDOCwJRBiXR9ho0q4YmJJK60imUtVk6ISHB2aevDFMxsVyFfXAbj\nSnhqIlVKF5ddOkcKNGt0nblJF0Qk7IvLYOA6S5csc6moIRLU42UCqSj1oVml64QLghbPPWy6\n8JCkvm7DV902y2QqCP1WbpYRHVnNUSIS4xGpbEIe6XMdqZI4y+WDOyMSW0WrncPyWxzi71iU\n2BLXtnhoBINIe+ZL4kmI9PXbuZe/q5D8eFAyobZjLeygQuQIHxPYv2OuPwQKKoh0SOPMkeqD\nu8kDw6eYI33d7lHR60NIHZGqDCnKBdx8p278HZcS/mtUxEXYs4MdSnbVTroVnZfcG+3eAChF\nRyK9uT/fbPpze7kLqSFSqxE8Q46durVEiuWJ4M21WPtI22AkJlKgnapVHfnIewzPOxLp9sj4\nefv1ORWRXDICpfI9z42/K1OC9kYRjgBxBaw8SnISX2+WU8sdDCo8Phd5j0JHIm0l/Xp5mYhI\nfvsHERMwIHku6HGs4EDY9+SWhwRIB7QkQs2amOSO7hUmcdY6CWaMjzk7EumX+9p+eplnjhSI\n2n7JbAABbZZv91pbwZesiR3HQeKoJuaIxOzcMiqLZYOIxNHdBB2J9Mf9Xn/6dC+DV+0STS6S\nm7yEM0jF0LxRVHwIaOcu8IVEoG/VEvxCZVJmQIK+pLwKjagEy6wZogjRkUjL216jf4mDdyaF\n0jgeN4H6cpBbczsZ8WUvol4Q93XgkQoGkfBawIQgC4u4SoI1CdWejEjLx+v20+fvSiJpAW4C\nzAulCtz2vyC38+/kfID77ntYNUsXeC0gAwn8cSWR4tKpE4nf2F2JNJOKUFXYQ6sFjqtojw78\nzOs/Xl7IffGQSWWGwRt6SsYUzMlF3vWQOIARCQt1FFtlC+v4Zwo245gZIWfMDQI6PQdnMlQM\nEpluTCkBfZ1UYgErtTTLhCo8ZWDv1iBOEHd04hdRE4kkjltllhRUymhd/lMCZLEiBxhFpNrF\nhgYA36+tJDq5knPKvCq6Y5/Vo+y/AqVNaE035OREcj40VAgMCtaZNYnk/6W5wLvLRa14uUTL\necRDGExz3+TxW6WrHdFdJ2maqW2WCVXAKl30o5p0r3/o4WS5VTtNNd4V1TP68M4DHHbYHKle\n4zEuqXtc+nRGA8YesvVW8HEd0d3/bQby+GAR6eEArNoyIoUat2WBFh53bK5COk8IsACzlorF\nb+e4vWlXIv17f308kvT2r5UKKTSbH3sdd/wo0Gwup7I4OF2pNjCZwR1XOxLp65e3mvDSREUF\n1tFcQRA0Pdm/c35CYPWhOVRXnfE1jfmIxGterxS8R0w49vCz3PHmbv993H/6/Htzb8oqakng\nXLC0ViHIu2Y+PLZZe3pcj33QOedITIRdH8ErOhLp5j72nz/cTVUFpbgeSUC+6Lg1MgFP7NtH\nwK5rWriTCwcSoCa9ss6xYCfBQaTg13IGgQ52vrhDVlRRLm7QvJABSiEJJgZ+MdcR3nVxuUwZ\nG0wSZ9lCEmGb1ga/FtMLVPDRcESKiwv1k8cVZl1jInkp7uNQaFYnl+tEpEDUWYkUTppnItL3\nHOnv5/0n9TlS2S39ySOsRMuTCu4DNlAvl8uVUd2GBtRkKFc6gzsjkZYXb9Xu11cuZSWRABll\nIml5UmF02bRApvZiEqhHfVQcSCTFskw4R1qWf2/3faTb67v2PlLRLSlE0qr9XG8YBp/tjsli\n6nNlVJ6njSSSnuIJV+1aqojd8r6WDYjMzJEWdU+C4BM6CcB7uFzpIX/FKug2R1J6EAYp+3T7\nSG1V+G5ZOLI5cjUJbuM+Llf2CN2a6VTP8NaCfxeK4VnRJUtfFR5dwo8d8KNUhVQAyJkeLkfa\navOuOjq7OUs9kfhZ0uyts/RVsblMM0Nr/B7J297lco6ybfwESXuhsuiQ0QJS1Jb9/ESCjojq\nnr1BXrsjrnKFRxflb7kBxumd2yOIVD0Yg0TiC312IhX2jDRs8TXw9hYoEnsJQCZn3sxxEJFq\nNWIFw/7AAEsMP3/bLO1UwFMOphCqBu5ud1liPwGIv93/7fK050hSs/ZvKVRAjOb2No6sMGNF\n6yzNVBT7WTVTjlixlkjV/b5MAORvwVDkdCuOYxVcFqI12KwTlYuKWZ8AIGdJ1bXO0kxFJvJX\nNsWPfCrnSNG9kwA0CPaIJKq4qrrOEgn9hmCBoJKiJRceLkqkCtWEQ3p1HTfRZtw/XSkBWeLm\nqsdwy0btIIazpa5tJUSqUXhyImlH9YBbHBp8TtX3wnkB+bM8y2pB9bjrirry2dM3I0Fp8iIw\n5V6/5fz0NEONSDwV5KNQtPoH3CJc2GIZh9qyFG2GVXkP+ig9hrhyUkijo17R0bNcVkz5MfAe\nExcG5/mN9dREolGETDdQvxM0Y8meUlwHGeJTejepuSmZrMsWFmaIlP22LD9aKWWIIy9VHEmq\njW2eZbQKag0V+6Rez05vYwQSZNZOIFSwGZgaGqXBvy4o8GOBQAsxuuOu+FWdWOmSZbAKcv03\ndU8GCZOzBvcP/Xulh2oUcGN0LsSsrFDnBQNNjl7EPezT7iPxxFGHpBYlZPV2m3cCAxI8MDWz\nJCdnleYy0qo93wVatImkKM+IFKbUmgUhNhBjEtCQiEhiS9U6i93HM7JqlW0xnR/gaQ9IRiSm\nPOIctU1cF92zulffiS2JSiG0VM95SKuPtT1TMBZV7uClwqO7gqi2WUar6H/0JbEgukNJdiOR\nxNxSwEzTDI9oK6ZVmlz0F3F0Ozq9Ee45iNRsoKHrj+5oEhf9uH0ZLgNTNCK0U5+wt4bTnxt5\nshdW35SR1CXLhCp6o9j3+c4St6+kvVGFyvOMLqiwWe8lFYTJIAtGJAmKXIjXElzyHatW8E58\nfJzLh9hmxSEnL8mIxIU4SCx1jdGd9pVE3PA4V4KqpRW92M2IpATOYS+tWEydSBcFUOF63Ump\nPo1IPJB7OH5MgecokgJ/IGdwTXYc+8DqywW4jvUQnxFJFUB1Yq8VjNNRpGMNCwk7zmzDDJxg\nKuR0/uIUUZl3jT4E2oG/CIpJKnxOENkQA5qf9z7NPW2fReZUy9qhettOYKerol0M7f3TrK7j\nTjnQvX3OZZLNkQoKiS2eEin8FU9YifTBXbddp50NqZ/oyStb7+iB7oBfLrxTFORdxIjkKaRM\nfcKEeOiAfaGDw0fdxETie2uFslCpzxm3f+6iVNxJbCa1EcnXRxiSwn4pM5klCpTBiJRqC3VF\ncXDUHvqDpRHJ10eaJvl+kSFS0+mBT6S8T4ycKPEnIjXKwuUDF38Rfqw+fTMi+fr4ejNO3NSF\n/SeWMj4xdumOvTRWqw6cMR6R3eITSXlB0YjkKZRURuKpfRzHX7XL6Ow42wfVV7xxUazTu/q/\nI3MnXbWts0yoIlIo77mjU3HdhgDKu3/0p0/s4xqa0RNthyJqgWCi1q5hjEibSp0WHzwERNAm\n0shIsXzq91jcCLo2YvZKGJFUMdkKmjqRVKWp6i4dsGL+cQo2rkekofv5sxApfG+jLo/GlK6k\ney9p+oR+l2H0akQafMJsoKt5DnRUgm510Eun35sVdHurcWmBe/StpyWS4llRTeD6G0cWvgMF\no1GDvZLiGgdMX+prozMBWplIJAMb4KRE4p0VFTiT1P9Qw7rMdUM30tdGdFMwGbEG0GR53cHa\n3AgmnZVISDLIhwQ+XOP28N5O455y9yO3NCUSqV6Q3sw7qVPMDBEpr5vUh+zn7oRVk8l4TiKh\n9QUSiSQSEFNTUPKZvBpEB2LufuraHr4jvYAL0k98DVLO9vyh0aDC4bB/tUDaS2a3ly9GJIAC\nArdS8MTIjha+7TuEWy/7/8q6eIZF98cv7rgROnaZn+eL7lkgUZA3/XJESrqbfkRy+AjUhEi+\nRI9BbvTSJdSbeWNF1rraisoId14KiYatVDmWCgQ2hTySTvsMh3yOig4CJno4DaybJUOSPo+8\nfnYLO0ghVFMkp3SOinSlBxiqK6o0ZkiJ5KL8sHSWRH4WdRWcPndrQFKGMF5iq1miVjqIJBwk\ncEYkg12HFSsyP9OVln2OVBhz2o2mMZGYnc01iSQcKghECrIwusfIP3LRDR05r0odUn/Uo1tT\npvy2alcM3jgty6PCmum4cfIXvOF8RMrNVDGfK3WDiWKHPNtCyLkJWMjtVHZB2pc996qS73Dd\n/pqz5poinwremChYcsgv952NSNkGQ78it16YroJI9O6yPD2m+27jZwmDO3GfzJ+8+WFBvaEC\nOQenKU3r4srNhYOnIxL+fbbDLAqG0rE6T6l/FEuEC+27pBBYE7EYt/Sebr2un+gMnHUjWzk3\ns586GZEy5S9033m5SDoOOYT+kTNbLQoCRFdautVMMMoAlm6sc2uHLlVeMKdBbmbH+DREIrp5\nmI5HDpF/ZIlEXSJhKxWR3nOtPbxbL3kiPUqiPIWr7GVKPOGKfxYi0d3cOf8ZsObRUyYoWmPy\nBhYkXuRID64fTPCJ5MVtcGS33qWxL2pOlbwSrS9OJOkciaddt+ssafOu6RdNDq7HTkKmbLRX\n5a0Io3W2B3PqcWptM+Xr6fJEwmtPzf+1u86CNsRsoeNRaiEh0soFRuW5XdfxC9oq28p3oFQB\nHRYpyQrORyTBPhJZrTuilH5MQsyWEomQyYUl3XnE6IcCvrroK/D3CiINOfDE7JfPRaSmQdcm\nvDuRYMjMyE25wnlfeKRwjdM4Y5ID9/qhVWPvG0Gt9o20A8UMpScjUksDwrh/OJFkhcWMP7xx\n31cMieSxiaENYw1KJAEh+kbaoeqLjkhNXfwQPrDlfIgcDyXSft1ec+xxxm0jsRNMyaI4DtDv\njYQV7ta/PVhrplcnEuME5H4fFkvEEJ1z9a7xp8fIE3LGX7XLxYRk9eCQJKzQEg11J1D+M2Vh\nAFzKKNDFz6Kkgk0kDiV84WMf56kCXOSYSN6+0RrmbYc5afJw9dFdIgOUiMjIruKyNSZLKMHA\nTTGTpY2fRUsFt2sL0xdqdpKI7gdEH0CW+7Jr6f40yfmjL+apQX6CTWD6mp7JJdeiuqUqMN46\nGFE/zNbWFCiRKrrHYt6JIrqFYgjL3sNF3MNH1jgudJ0cA4nQr8XMSnvGPEm3GPvL4Tf0vAJ1\nDYGrkAfshJqdJKIj+gDLVfxBx20XAk/YRGpRi/i5CNQ8gd2Jv2wVTIsOOIrEWQap8CtGVLND\nQLSUW6BgH2nrWloQqQn6E2nfbjMiBZ32LB5RRiMiBTkTIqHDiCREagHmHElWO4G0Y8ONnlWg\nrSnUiHSE10akIOv2/9b5bpc0rfqcRwbuqp2oA4ikIQuZcFaeJmGWcSri6Hq8R5TRYo4U5oRW\n7VBRk8wcMTsyh2WLHUCaN/jkuqt2VTIrutbOz3TTLK0skLePVBElTkIyCEXbCBXI389n4KRE\nkrd6tOLVAVX7SAJ13p31LIWIyoVhgJe1BqwhvaT6mYgkxVbhraYLw7v1g0i8IkqCy1QD+fkN\n5frnjMNl1UakIo6VreBXNfETzOb3kvE66ejOU7X9vtKIQiSuNr1nYMuqjUhFxBWubNwMiyDx\njglvfs2xPcmTbGmpqSv1UIA8jHkE1UakItoSKS+1W9QneThYg0iM8wOoOmzdrmRcOjguCPOM\nSCpYK7w/kbpHfcwiCgZTfSJhlbS1WmZIinLixTEiqSAMfJpEdrn261kZPI0Sou/+Hc7LSIsN\noHE7ESMRm215Krn9WtkSRiQK3OEy+icyvSv0TUVt8ANDbhFrNGzuW/L2vHEO+87t//Ki95x1\nsYERiQNvH1NR5oK0USWRtHZ5tOGPRuVBI86afLR94/2yfXNwKSdzu+ar2/aRVNFkUKpYK8qK\nrcncFGHB6qgbTrGCIWnfn6KMJK6ywoxILPR1TpWWnbAu91FEw7ZgihVNkwhbfz6RanpJIxIH\nnZ1TpWW7sZ5u6Ob7Ku81DyoJnEARIrvdJvl8tEuW1iq4FSA+dRfdm0OhZfvYyj9bFP7RpDrd\n2IoqxSqlIOMKROIvNfHSezmj+9ToGobylHmjkZJ96G5SsZ2Vpr2XIBIzT4WHkbMOP4jaaGEE\n0xXdyxmQYKzCBHFRVdrqAkTiNmLNsEJ0zhkOoi492cyv01MN7gQYkUhZDo+kbR1yFSggeOFj\nb0jqlJthbhiRCBm448uA3nY/xjRoLMzRAnuP5TLE0ka4AJGaz5HYfecIIq1Xvq06vpw5n5H5\npieNGmu7BJFqVu0IyzoEo0IpDvy0JWIbGctnWsNC/nyG4kKAqFabj39difTv/fV+WO317Z+u\nCvE+En2jIWdUIsVRZRNRPOInJhIrtQRVozNQhcJabV7QjkT6+uUOvDRRwQalfglEir8PTjcH\nKWW9qdveVUi1kailQwxaR6Q0q4wR7QvakUhv7vbfx/2nz78396aiojJ4otVvqe0gKeA7rnx+\ncULRu4z84wCyOdLkRIKqUCbuUkS6uY/95w93U1BRHTwRiVRQA0tBvcAxDSc9RCpbtetApJqg\nCqtC/rMslyJSOB8nhfwkS5oTqTR+UIl0fMIynPg0tmgfSWvqkFEq6+2Cl26HRBIJ9AvaZA3o\nzCOSQjdDmiMR1/XiVOnMaRcYfVCSTiKSCDoLIgUp8sdowTlSOc7Nmtho/a7vHOnv5/0npTkS\nn0hJk5ZrlbSuB6aB1/L8z1hDUgseLTrds9a4lgjMrdpx47vw4aQzE2l58Vbtfn3Vq+ASCWwW\n2iPEstgPeh+HzwgqkcqrdkOhPgHxBILvN64ZWCgP+0nQk0jLv7f7PtLt9V1nH4lZJWmsVW4M\nVSc5elOmzCzfhzOsJZG2n7zDjtsnEpW0x88l6EokbRWrY4K9Fi40bp58YLe1G82iErY3PynF\n6c7vnoehOZHCMh41yNdJfCGKAKcmEuJJiG+hzZPp6xfl58880Ro02i492iRniHdtITD8NWhe\nntKDRaeeI7VRkbYi0q4gkZYskRa/D5sOvkuMHZK0R0VgCFp8YoHb3RS5q9gG0fAoIqnsI/lJ\nXeaT4IPjaxfcEdHeqDQZgn5g9DRJu4Z8gWCDivoPl8hWwzxEcj741lCIFPdzQbSNih4+mUcw\nE5GaAiaSaBRsN3yfPrRjECnp50obiXxresIfUCc1UQmw+0s6uHZLM6cnEn2OBGWknP2Z1kmP\nAXXSMVMLmmVsFV9cgEhJLRPrXedUw0Cgq//Xw/xl7EqkRg/2EfeRKBn5KYZicvOeCR2JNOOD\nfQaDDjoSqcWDfQbDHOhIJP0H+wyGWdCRSOmCgLoKg2EQbEQyGBTQd46k+2CfwTANei5/az/Y\nZzBMg777SMoP9hkMs+D8JxsMhglgRDIYFGBEMhgUYEQyGBRgRDIYFGBEMhgUYEQyGBRgRDIY\nFGBEMhgUYEQyGBQwKZEMhpNB4OX6xDmFbtNv+lX1G5FMv+mfTdiJdJt+029EMv2mfzb9RiTT\nb/pnE3Yi3abf9BuRTL/pn02/Ecn0m/7ZhJ1It+k3/UYk02/6Z9NvRDL9pn82YSfSbfpN/2WI\nZDBcBkYkg0EBRiSDQQFGJINBAUYkg0EBRiSDQQFGJINBAUYkg0EBRiSDQQFGJINBAUYkg0EB\nRiSDQQFGJINBAUYkg0EBRiSDQQFGJINBAcOI9HZzt7evzkr//NqVevq7mvJvrfEh+j9+O/f7\nc5j+L1hpJ/1/Nl9vYsUoIr3cX/r/q6/St7vS21eov6spX7dHjQ/R/3ds+T9vD/2fQ/R/bH9j\nAlZda8UgIv1zt4/l4+b+9VT64X5//XRMvwP9fU15fTTnGP23b01fr+5tkP7fP5q/e7Mh9f+t\n4eHrsOpqKwYR6c39/b7+5957Kn19FPanQj39XU35b/3bO0P0/3d35C93G6TfDaz/P+5lVQ+r\nrrZiEJFe3c/4/uFeB+j+qVBPf09TPrfmHKL/t/vYfhyif41qf4jcXf93H7ISCVZdbcUgInmd\nU298uZdAf09TXtznQ88Q/b/c8n67h7dj9L+vod37AP0fsaJIdbUVz0ekPz+D+Bgivbv/loFE\ncu71PtkfpX/587PacPszSL8RSRWft9dlkCPdA4ehRPpZbPg9ZES44/2+Mva+GJHUMIxIX7eX\nSH/H0Opn4XkokX7mSJ8/a7xD9P/5Ce2+ifzHiKSG2ygivfyK9Xcz5fd9YeihZ4R+31mG6P/l\nfqZnXz9EHqF/1QCrrrZiEJEeiySfvVftPn+9fMb6u5ni//H5Efr95f8h+t1Y/cGqXay62opB\nRHq/985/78s4/fDXvaT6u5niE2mE/lXT508lDNH/6PXv+1hj6v9+g1VXWzGISENONnzuPBp3\nsmFtziH6v2dHXz9zlP8G6X9zP2fZ3kadrFiJdK2TDd/x8g9eygkV8fsYEXz9fU1Zm3OI/ndQ\naT/9L0P1b/MfWHWtFaOI9DgI3FenF1r5+vuasjbnGP1/XwClHfWDSnvp34gEq661YhSRDIZL\nwYhkMCjAiGQwKMCIZDAowIhkMCjAiGQwKMCIZDAowIhkMCjAiGQwKMCIZDAowIhkMCjAiGQw\nKMCIZDAowIhkMCjAiGQwKMCIZDAowIhkMCjAiGQwKMCIZDAowIhkMCjAiGQwKMCIZDAowIhk\nMCjAiGQwKMCIZDAowIhkMCjAiGQwKMCIZDAowIhkMCjAiGQwKMCIZDAowIhkMCjAiGQwKMCI\ndAbAf7Ve/rfsDeqwtjgDjEjTw9riDDAiTQ9rizPAiDQ9rC3OgDtlnPt8dbf3+wdvN/e2EunP\nL3f7831/cf++r//c73FmPjOMSGfASqSb+8YPk15+fni9f/r686N7WZZPd/v+9Xb7Gmvqs8KI\ndAasRHr5Wv64X8vyn7t9LB+3n0///nz49eL+fg9N3xx7d/+NtvVJYUQ6A1Yi/Vt/fL3/9Pfx\n488I9OVel59x6s/9bhgAI9IZsBJp+3FdZXj8uGL5Ce6+p1EDrXxqGJHOABqRljf3Ns7GJ4cR\n6QzIEelIZSPSQBiRzoCISK8/awvLv+PHB16/50gvgyx8ehiRzoCISH+PVbv7At5yX2T47zuw\ne3d/Bpv6rDAinQERkR6bR7/vP963lNztc/m63feRLLgbAyPSGRATaXkPTja439/s+b2ebLDg\nbgiMSAaDAoxIBoMCjEgGgwKMSAaDAoxIBoMCjEgGgwKMSAaDAoxIBoMCjEgGgwKMSAaDAoxI\nBoMCjEgGgwKMSAaDAoxIBoMCjEgGgwKMSAaDAoxIBoMCjEgGgwKMSAaDAoxIBoMCjEgGgwKM\nSAaDAoxIBoMCjEgGgwKMSAaDAoxIBoMCjEgGgwKMSAaDAoxIBoMCjEgGgwKMSAaDAv4HnYoY\n6RVSpPgAAAAASUVORK5CYII=",
      "text/plain": [
       "plot without title"
      ]
     },
     "metadata": {
      "image/png": {
       "height": 420,
       "width": 420
      }
     },
     "output_type": "display_data"
    }
   ],
   "source": [
    "x <- runif(1000)\n",
    "plot(x) # view chart of generated data"
   ]
  },
  {
   "cell_type": "markdown",
   "id": "b7f2f022",
   "metadata": {},
   "source": [
    "---"
   ]
  },
  {
   "cell_type": "markdown",
   "id": "b3074882",
   "metadata": {},
   "source": [
    "### TASK 4"
   ]
  },
  {
   "cell_type": "markdown",
   "id": "01ad6bf8",
   "metadata": {},
   "source": [
    "Generate 1000 random numbers in range [0,1]. Round them to 1 decimal value after point. Plot it."
   ]
  },
  {
   "cell_type": "markdown",
   "id": "25fde9da",
   "metadata": {},
   "source": [
    "#### SOLUTION TASK4"
   ]
  },
  {
   "cell_type": "code",
   "execution_count": 183,
   "id": "12b767a0",
   "metadata": {},
   "outputs": [
    {
     "data": {
      "image/png": "iVBORw0KGgoAAAANSUhEUgAAA0gAAANICAMAAADKOT/pAAADAFBMVEUAAAABAQECAgIDAwME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\nAAAAAElFTkSuQmCC",
      "text/plain": [
       "plot without title"
      ]
     },
     "metadata": {
      "image/png": {
       "height": 420,
       "width": 420
      }
     },
     "output_type": "display_data"
    }
   ],
   "source": [
    "x <- runif(1000)\n",
    "x <- round(x, 1)\n",
    "plot(x)"
   ]
  },
  {
   "cell_type": "markdown",
   "id": "bfd680bf",
   "metadata": {},
   "source": [
    "### Useful math functions"
   ]
  },
  {
   "cell_type": "markdown",
   "id": "a933ee34",
   "metadata": {},
   "source": [
    "In addition to the set of functions described above, `R` contains a very large number of implemented functions from various fields of science, business, technology, etc. You can read about them from the official documentation of the packages in which they are implemented and find them using the `help()` or `?name` function.\n",
    "\n",
    "Next, we consider a list of the most common functions used to solve educational problems when learning the basics of programming."
   ]
  },
  {
   "cell_type": "markdown",
   "id": "53a14178",
   "metadata": {},
   "source": [
    "| Function | Purpose, description |\n",
    "| --------- | --------- |\n",
    "| *log(x)* | Logarithm of the number *x* based on *e* |\n",
    "| *log(x, n)* | Logarithm of the number *x* based on *n* |\n",
    "| *exp(x)* | *e* to the power of *x* |\n",
    "| *sqrt(x)* | The square root of the number *x* |\n",
    "| *factorial(x)* | Factorial number *x* |\n",
    "| *abs(x)* | Module of the number *x* |"
   ]
  },
  {
   "cell_type": "markdown",
   "id": "3285a34d",
   "metadata": {},
   "source": [
    "Also in `R` a number of trigonometric functions which were studied at school and not only are available, among them` cos(x) `,` sin(x) `,` tan(x) `, and also` acos(x) `, `asin(x)`, `atan(x)`, `acosh (x)`, `asinh(x)`, `atanh(x)`.\n",
    "\n",
    "You can read more about each of them in the documentation using the code command `help(function)`."
   ]
  },
  {
   "cell_type": "markdown",
   "id": "2bd04a7c",
   "metadata": {},
   "source": [
    "We will check basical statistical function while studying vectors on the next chapter."
   ]
  },
  {
   "cell_type": "markdown",
   "id": "4c312622",
   "metadata": {},
   "source": [
    "## 7. Writing own functions"
   ]
  },
  {
   "cell_type": "markdown",
   "id": "22c4ee6a",
   "metadata": {},
   "source": [
    "Before we checked some R functions. But some times we need to write own functions.\n",
    "\n",
    "Some points:\n",
    "\n",
    "- [x] A function is a block of code which only runs when it is called.\n",
    "- [x] You can pass data, known as parameters, into a function.\n",
    "- [x] A function can return data as a result."
   ]
  },
  {
   "cell_type": "markdown",
   "id": "774f1be8",
   "metadata": {},
   "source": [
    "Use `function()` to create function :)"
   ]
  },
  {
   "cell_type": "code",
   "execution_count": 185,
   "id": "dc539cfb",
   "metadata": {},
   "outputs": [
    {
     "name": "stdout",
     "output_type": "stream",
     "text": [
      "[1] \"this is my first function\"\n"
     ]
    }
   ],
   "source": [
    "my_func <- function() {\n",
    "    print(\"this is my first function\")\n",
    "}\n",
    "\n",
    "my_func()"
   ]
  },
  {
   "cell_type": "markdown",
   "id": "10de0281",
   "metadata": {},
   "source": [
    "`my_func` - name of the function\n",
    "\n",
    "`function()` - keyword that creates the function\n",
    "\n",
    "`my_func()` function call"
   ]
  },
  {
   "cell_type": "markdown",
   "id": "93f3c8b0",
   "metadata": {},
   "source": [
    "**Arguments** are specified after the function name, inside the parentheses. You can add as many arguments as you want, just separate them with a comma.\n",
    "\n",
    "The following example has a function with one argument (amount). When the function is called, we pass along a first name, which is used inside the function to print the exchange rate USD-EUR:"
   ]
  },
  {
   "cell_type": "code",
   "execution_count": 192,
   "id": "93a323dd",
   "metadata": {},
   "outputs": [
    {
     "name": "stdout",
     "output_type": "stream",
     "text": [
      "[1] 820\n"
     ]
    }
   ],
   "source": [
    "# function converts USD to EURO\n",
    "usd_eur_convert <- function(amount) {\n",
    "    euro <- amount * 0.82\n",
    "    print(euro)\n",
    "}\n",
    "\n",
    "usd_eur_convert(1000)"
   ]
  },
  {
   "cell_type": "markdown",
   "id": "48013aa6",
   "metadata": {},
   "source": [
    "Function can not only print some text but return values and save it to the variables"
   ]
  },
  {
   "cell_type": "code",
   "execution_count": 195,
   "id": "10bfbada",
   "metadata": {},
   "outputs": [
    {
     "name": "stdout",
     "output_type": "stream",
     "text": [
      "[1] \"EURO: 820\"\n"
     ]
    }
   ],
   "source": [
    "# function converts USD to EURO\n",
    "usd_eur_convert <- function(amount) {\n",
    "    euro <- amount * 0.82 \n",
    "    return(euro)\n",
    "}\n",
    "\n",
    "euro_sum <- usd_eur_convert(1000)\n",
    "print(paste0(\"EURO: \", euro_sum))"
   ]
  },
  {
   "cell_type": "markdown",
   "id": "755e82ba",
   "metadata": {},
   "source": [
    "Function can have many parameters. Let's make our function universal and give them `amount` and `rate`:"
   ]
  },
  {
   "cell_type": "code",
   "execution_count": 199,
   "id": "b1595da1",
   "metadata": {},
   "outputs": [
    {
     "name": "stdout",
     "output_type": "stream",
     "text": [
      "[1] \"EURO: 820\"\n"
     ]
    }
   ],
   "source": [
    "usd_eur_convert <- function(amount, rate) { # rate added\n",
    "    amount_currency2 <- amount * rate # rate replaced \n",
    "    return(amount_currency2)\n",
    "}\n",
    "\n",
    "euro_sum <- usd_eur_convert(1000, 0.82)\n",
    "print(paste(\"EURO:\", euro_sum))"
   ]
  },
  {
   "cell_type": "markdown",
   "id": "4340eda7",
   "metadata": {},
   "source": [
    "As you seen before, functions can have default values, so you dont need call function with all parameters every time. Let's add default value for `rate = 0.82`."
   ]
  },
  {
   "cell_type": "code",
   "execution_count": 201,
   "id": "18a18533",
   "metadata": {},
   "outputs": [
    {
     "name": "stdout",
     "output_type": "stream",
     "text": [
      "[1] \"EURO: 820\"\n",
      "[1] \"EURO: 830\"\n"
     ]
    }
   ],
   "source": [
    "usd_eur_convert <- function(amount, rate = 0.82) { # default value added\n",
    "    amount_currency2 <- amount * rate\n",
    "    return(amount_currency2)\n",
    "}\n",
    "\n",
    "euro_sum <- usd_eur_convert(1000)\n",
    "print(paste(\"EURO:\", euro_sum))\n",
    "euro_sum <- usd_eur_convert(1000, 0.83)\n",
    "print(paste(\"EURO:\", euro_sum))"
   ]
  },
  {
   "cell_type": "markdown",
   "id": "b98f1207",
   "metadata": {},
   "source": [
    "---"
   ]
  },
  {
   "cell_type": "markdown",
   "id": "35d901eb",
   "metadata": {},
   "source": [
    "### TASK 6\n",
    "\n",
    "Write a function that calculates deposite sum based on info:\n",
    "\n",
    "- [x] `P` - sum of deposite in euro.\n",
    "- [x] `n` - deposite term, in month\n",
    "- [x] `r` - monthly rate\n",
    "- [x] monthly capitaliztion\n",
    "\n",
    "During caluculations print every month info in style: \"Month: 1 / Total: 1010 / 10 EUR\"\n",
    "Suppose I deposit 1000 (P) dollars in bank every month for 60 (n) months and bank pays me 1 (rate) percent per month as interest. Hence I can calculate the interest on each deposit as:\n",
    "\n",
    "$A = P*(1+\\frac{r}{n})^n$\n",
    "\n",
    "The formula used is A = P(1+r/n) ^ n, where 'A' represents final amount procured, 'P' represents principal, 'r' represents annual interest rate, 'n' represents the number of times that interest has been compounded, 't' represents the tenure."
   ]
  },
  {
   "cell_type": "markdown",
   "id": "c0d26cb1",
   "metadata": {},
   "source": [
    "### Solution"
   ]
  },
  {
   "cell_type": "code",
   "execution_count": 207,
   "id": "aac818c6",
   "metadata": {},
   "outputs": [
    {
     "name": "stdout",
     "output_type": "stream",
     "text": [
      "[1] \"Month:  1  / Total:  1010  /  10  EUR\"\n",
      "[1] \"Month:  2  / Total:  1020.1  /  10.1  EUR\"\n",
      "[1] \"Month:  3  / Total:  1030.3  /  10.2  EUR\"\n",
      "[1] \"Month:  4  / Total:  1040.6  /  10.3  EUR\"\n",
      "[1] \"Month:  5  / Total:  1051.01  /  10.41  EUR\"\n",
      "[1] \"Month:  6  / Total:  1061.52  /  10.51  EUR\"\n",
      "[1] \"Month:  7  / Total:  1072.14  /  10.62  EUR\"\n",
      "[1] \"Month:  8  / Total:  1082.86  /  10.72  EUR\"\n",
      "[1] \"Month:  9  / Total:  1093.69  /  10.83  EUR\"\n",
      "[1] \"Month:  10  / Total:  1104.62  /  10.94  EUR\"\n",
      "[1] \"Month:  11  / Total:  1115.67  /  11.05  EUR\"\n",
      "[1] \"Month:  12  / Total:  1126.83  /  11.16  EUR\"\n"
     ]
    },
    {
     "data": {
      "text/html": [
       "126.83"
      ],
      "text/latex": [
       "126.83"
      ],
      "text/markdown": [
       "126.83"
      ],
      "text/plain": [
       "[1] 126.83"
      ]
     },
     "metadata": {},
     "output_type": "display_data"
    }
   ],
   "source": [
    "deposite_calc <- function(P, rate, n) {\n",
    "    total <- 0\n",
    "    for (i in 1:n) {\n",
    "      perc <- P * rate / 100 # deposite increase sum current month\n",
    "      total  <- total + perc # add current month increase\n",
    "      P <- P * (1 + rate / 100) # replace initial sum for the next month\n",
    "      print(paste(\"Month: \", i, \" / Total: \", round(P,2), \" / \", round(perc, 2),\" EUR\"))\n",
    "    }\n",
    "    return(total)\n",
    "}\n",
    "\n",
    "total <- round(deposite_calc(1000, 1, 12), 2)\n",
    "total"
   ]
  },
  {
   "cell_type": "markdown",
   "id": "08b6d0e8",
   "metadata": {},
   "source": [
    "---"
   ]
  },
  {
   "cell_type": "markdown",
   "id": "644765fd",
   "metadata": {},
   "source": [
    "# References"
   ]
  },
  {
   "cell_type": "markdown",
   "id": "3dbc022a",
   "metadata": {},
   "source": [
    "1. The Comprehensive R Archive NetworkRcran: Url: https://cran.r-project.org/\n",
    "2. RStudio official website. Url: https://rstudio.com/\n",
    "3. Anaconda official website. Url: https://www.anaconda.com/\n",
    "4. Introduction to R. Datacamp interactive course. Url:  https://www.datacamp.com/courses/free-introduction-to-r\n",
    "5. Quanargo. Introduction to R. Url: https://www.quantargo.com/courses/course-r-introduction\n",
    "6. R Coder Project. Begin your data science career with R language! Url: https://r-coder.com/\n",
    "7. R Core Team (2019). R: A language and environment for statistical computing. R Foundation for Statistical Computing, Vienna, Austria.URL https://www.R-project.org/.\n",
    "8. A.B. Shipunov, EM Baldin, P.A. Volkova, VG Sufiyanov. Visual statistics. We use R! - M .: DMK Press, 2012. - 298 p .: ill.\n",
    "9. An Introduction to R. URL: https://cran.r-project.org/doc/manuals/r-release/R-intro.html\n",
    "10. R programming. https://www.datamentor.io/r-programming\n",
    "11. Learn R. R Functions. https://www.w3schools.com/r/r_functions.asp"
   ]
  }
 ],
 "metadata": {
  "kernelspec": {
   "display_name": "R",
   "language": "R",
   "name": "ir"
  },
  "language_info": {
   "codemirror_mode": "r",
   "file_extension": ".r",
   "mimetype": "text/x-r-source",
   "name": "R",
   "pygments_lexer": "r",
<<<<<<< Updated upstream
   "version": "4.1.2"
=======
   "version": "4.1.3"
>>>>>>> Stashed changes
  }
 },
 "nbformat": 4,
 "nbformat_minor": 5
}
