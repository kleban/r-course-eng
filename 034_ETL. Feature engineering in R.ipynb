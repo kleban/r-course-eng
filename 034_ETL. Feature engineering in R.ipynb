{
 "cells": [
  {
   "cell_type": "markdown",
   "id": "11f64b49",
   "metadata": {},
   "source": [
    "# Feature engineering\n",
    "\n",
    "---\n",
    "\n",
    "## Fundamentals of ETL: data extraction, transformation and loading\n",
    "\n",
    "\n",
    "Applied Mathematical Modeling in Banking"
   ]
  },
  {
   "cell_type": "markdown",
   "id": "f49d838d",
   "metadata": {},
   "source": [
    "---"
   ]
  },
  {
   "cell_type": "markdown",
   "id": "6a66fedd",
   "metadata": {},
   "source": [
    "# Table of contents"
   ]
  },
  {
   "cell_type": "markdown",
   "id": "54f45373",
   "metadata": {},
   "source": [
    "---"
   ]
  },
  {
   "cell_type": "markdown",
   "id": "638ab8e8",
   "metadata": {},
   "source": [
    "# 1. What's Feature Engineering?\n"
   ]
  },
  {
   "cell_type": "markdown",
   "id": "1cbfb0ee",
   "metadata": {},
   "source": [
    "`Feature engineering` is the most important technique used in creating machine learning models. \n",
    "\n",
    "Feature Engineering is a basic term used to cover many operations that are performed on the variables(features) to fit them into the algorithm. **It helps in increasing the accuracy** of the model thereby enhances the results of the predictions. Feature Engineered machine learning models perform better on data than basic machine learning models. The following aspects of feature engineering are as follows [1]:\n",
    "\n",
    "1. `Feature Scaling`: It is done to get the features on the same scale( for eg. Euclidean distance).\n",
    "2. `Feature Transformation`: It is done to normalize the data(feature) by a function.\n",
    "3. `Feature Construction`: It is done to create new features based on original descriptors to improve the accuracy of the predictive model."
   ]
  },
  {
   "cell_type": "markdown",
   "id": "ea6270b0",
   "metadata": {},
   "source": [
    "A `\"feature\"` in the context of predictive modeling is just another name for a `predictor variable`. Feature engineering is the general term for creating and manipulating predictors so that a good predictive model can be created."
   ]
  },
  {
   "cell_type": "markdown",
   "id": "b391ab73",
   "metadata": {},
   "source": [
    "---"
   ]
  },
  {
   "cell_type": "markdown",
   "id": "ed9918c9",
   "metadata": {},
   "source": [
    "# 2. Feature Scaling"
   ]
  },
  {
   "cell_type": "markdown",
   "id": "4191f03e",
   "metadata": {},
   "source": [
    "`Feature Scaling` refers to putting the values in the same range or same scale so that no variable is dominated by the other."
   ]
  },
  {
   "cell_type": "markdown",
   "id": "d065322c",
   "metadata": {},
   "source": [
    "Most of the times, your dataset will contain features highly varying in magnitudes, units and range. But since, most of the machine learning algorithms use Euclidean distance between two data points in their computations, this is a problem.\n",
    "\n",
    "If left alone, these algorithms only take in the magnitude of features neglecting the units. The results would vary greatly between different units, 5kg and 5000gms. The features with high magnitudes will weigh in a lot more in the distance calculations than features with low magnitudes. To suppress this effect, we need to bring all features to the same level of magnitudes. This can be achieved by scaling.\n",
    "\n",
    "Here’s the curious thing about feature scaling – it improves (significantly) the performance of some machine learning algorithms and does not work at all for others.\n",
    "\n",
    "Also, what’s the difference between normalization and standardization? These are two of the most commonly used feature scaling techniques in machine learning but a level of ambiguity exists in their understanding. "
   ]
  },
  {
   "cell_type": "markdown",
   "id": "bcff3e8d",
   "metadata": {},
   "source": [
    "---"
   ]
  },
  {
   "cell_type": "markdown",
   "id": "23f25ada",
   "metadata": {},
   "source": [
    "## 2.1. Normalization"
   ]
  },
  {
   "cell_type": "markdown",
   "id": "564db562",
   "metadata": {},
   "source": [
    "### Theory"
   ]
  },
  {
   "cell_type": "markdown",
   "id": "49118a88",
   "metadata": {},
   "source": [
    "**Normalization** is a scaling technique in which values are shifted and rescaled so that they end up ranging between 0 and 1. It is also known as **`Min-Max scaling`**.\n",
    "\n",
    "Here’s the formula for normalization:"
   ]
  },
  {
   "cell_type": "markdown",
   "id": "0c3bf149",
   "metadata": {},
   "source": [
    "<center>$X' = \\frac{X-X_{min}}{X_{max} - X_{min}}$</center>"
   ]
  },
  {
   "cell_type": "markdown",
   "id": "34d8ef28",
   "metadata": {},
   "source": [
    "Here, $X_{max}$ and $X_{min}$ are the maximum and the minimum values of the feature respectively.\n",
    "\n",
    "When the value of $X$ is the minimum value in the column, the numerator will be $0$, and hence $X'$ is $0$.\n",
    "\n",
    "On the other hand, when the value of $X$ is the maximum value in the column, the numerator is equal to the denominator and thus the value of $X'$ is $1$.\n",
    "\n",
    "If the value of $X$ is between the minimum and the maximum value, then the value of $X'$ is between $0$ and $1$."
   ]
  },
  {
   "cell_type": "markdown",
   "id": "61e224fb",
   "metadata": {},
   "source": [
    "---"
   ]
  },
  {
   "cell_type": "markdown",
   "id": "cb3a5a47",
   "metadata": {},
   "source": [
    "### Practice"
   ]
  },
  {
   "cell_type": "markdown",
   "id": "cdb41a89",
   "metadata": {},
   "source": [
    "So, let's implement own normalization function."
   ]
  },
  {
   "cell_type": "code",
   "execution_count": 2,
   "id": "04a8b7ae",
   "metadata": {},
   "outputs": [
    {
     "data": {
      "text/html": [
       "<table class=\"dataframe\">\n",
       "<caption>A data.frame: 6 × 22</caption>\n",
       "<thead>\n",
       "\t<tr><th></th><th scope=col>X</th><th scope=col>customerID</th><th scope=col>gender</th><th scope=col>SeniorCitizen</th><th scope=col>Partner</th><th scope=col>Dependents</th><th scope=col>tenure</th><th scope=col>PhoneService</th><th scope=col>MultipleLines</th><th scope=col>InternetService</th><th scope=col>⋯</th><th scope=col>DeviceProtection</th><th scope=col>TechSupport</th><th scope=col>StreamingTV</th><th scope=col>StreamingMovies</th><th scope=col>Contract</th><th scope=col>PaperlessBilling</th><th scope=col>PaymentMethod</th><th scope=col>MonthlyCharges</th><th scope=col>TotalCharges</th><th scope=col>Churn</th></tr>\n",
       "\t<tr><th></th><th scope=col>&lt;int&gt;</th><th scope=col>&lt;chr&gt;</th><th scope=col>&lt;chr&gt;</th><th scope=col>&lt;int&gt;</th><th scope=col>&lt;chr&gt;</th><th scope=col>&lt;chr&gt;</th><th scope=col>&lt;int&gt;</th><th scope=col>&lt;chr&gt;</th><th scope=col>&lt;chr&gt;</th><th scope=col>&lt;chr&gt;</th><th scope=col>⋯</th><th scope=col>&lt;chr&gt;</th><th scope=col>&lt;chr&gt;</th><th scope=col>&lt;chr&gt;</th><th scope=col>&lt;chr&gt;</th><th scope=col>&lt;chr&gt;</th><th scope=col>&lt;chr&gt;</th><th scope=col>&lt;chr&gt;</th><th scope=col>&lt;chr&gt;</th><th scope=col>&lt;dbl&gt;</th><th scope=col>&lt;chr&gt;</th></tr>\n",
       "</thead>\n",
       "<tbody>\n",
       "\t<tr><th scope=row>1</th><td>1869</td><td>7010-BRBUU</td><td>Male  </td><td>0</td><td>Yes</td><td>Yes</td><td>72</td><td>Yes</td><td>Yes             </td><td>No         </td><td>⋯</td><td>No internet service</td><td>No internet service</td><td>No internet service</td><td>No internet service</td><td>Two year      </td><td>No </td><td>Credit card (automatic)  </td><td>24.1 </td><td>1734.65</td><td>No </td></tr>\n",
       "\t<tr><th scope=row>2</th><td>4528</td><td>9688-YGXVR</td><td>Female</td><td>0</td><td>No </td><td>No </td><td>44</td><td>Yes</td><td>No              </td><td>Fiber optic</td><td>⋯</td><td>Yes                </td><td>No                 </td><td>Yes                </td><td>No                 </td><td>Month-to-month</td><td>Yes</td><td>Credit card (automatic)  </td><td>88.15</td><td>3973.20</td><td>No </td></tr>\n",
       "\t<tr><th scope=row>3</th><td>6344</td><td>9286-DOJGF</td><td>Female</td><td>1</td><td>Yes</td><td>No </td><td>38</td><td>Yes</td><td>Yes             </td><td>Fiber optic</td><td>⋯</td><td>No                 </td><td>No                 </td><td>No                 </td><td>No                 </td><td>Month-to-month</td><td>Yes</td><td>Bank transfer (automatic)</td><td>74.95</td><td>2869.85</td><td>Yes</td></tr>\n",
       "\t<tr><th scope=row>4</th><td>6739</td><td>6994-KERXL</td><td>Male  </td><td>0</td><td>No </td><td>No </td><td> 4</td><td>Yes</td><td>No              </td><td>DSL        </td><td>⋯</td><td>No                 </td><td>No                 </td><td>No                 </td><td>Yes                </td><td>Month-to-month</td><td>Yes</td><td>Electronic check         </td><td>55.9 </td><td> 238.50</td><td>No </td></tr>\n",
       "\t<tr><th scope=row>5</th><td> 432</td><td>2181-UAESM</td><td>Male  </td><td>0</td><td>No </td><td>No </td><td> 2</td><td>Yes</td><td>No              </td><td>DSL        </td><td>⋯</td><td>Yes                </td><td>No                 </td><td>No                 </td><td>No                 </td><td>Month-to-month</td><td>No </td><td>Electronic check         </td><td>53.45</td><td> 119.50</td><td>No </td></tr>\n",
       "\t<tr><th scope=row>6</th><td>2215</td><td>4312-GVYNH</td><td>Female</td><td>0</td><td>Yes</td><td>No </td><td>70</td><td>No </td><td>No phone service</td><td>DSL        </td><td>⋯</td><td>Yes                </td><td>Yes                </td><td>No                 </td><td>Yes                </td><td>Two year      </td><td>Yes</td><td>Bank transfer (automatic)</td><td>49.85</td><td>3370.20</td><td>No </td></tr>\n",
       "</tbody>\n",
       "</table>\n"
      ],
      "text/latex": [
       "A data.frame: 6 × 22\n",
       "\\begin{tabular}{r|lllllllllllllllllllll}\n",
       "  & X & customerID & gender & SeniorCitizen & Partner & Dependents & tenure & PhoneService & MultipleLines & InternetService & ⋯ & DeviceProtection & TechSupport & StreamingTV & StreamingMovies & Contract & PaperlessBilling & PaymentMethod & MonthlyCharges & TotalCharges & Churn\\\\\n",
       "  & <int> & <chr> & <chr> & <int> & <chr> & <chr> & <int> & <chr> & <chr> & <chr> & ⋯ & <chr> & <chr> & <chr> & <chr> & <chr> & <chr> & <chr> & <chr> & <dbl> & <chr>\\\\\n",
       "\\hline\n",
       "\t1 & 1869 & 7010-BRBUU & Male   & 0 & Yes & Yes & 72 & Yes & Yes              & No          & ⋯ & No internet service & No internet service & No internet service & No internet service & Two year       & No  & Credit card (automatic)   & 24.1  & 1734.65 & No \\\\\n",
       "\t2 & 4528 & 9688-YGXVR & Female & 0 & No  & No  & 44 & Yes & No               & Fiber optic & ⋯ & Yes                 & No                  & Yes                 & No                  & Month-to-month & Yes & Credit card (automatic)   & 88.15 & 3973.20 & No \\\\\n",
       "\t3 & 6344 & 9286-DOJGF & Female & 1 & Yes & No  & 38 & Yes & Yes              & Fiber optic & ⋯ & No                  & No                  & No                  & No                  & Month-to-month & Yes & Bank transfer (automatic) & 74.95 & 2869.85 & Yes\\\\\n",
       "\t4 & 6739 & 6994-KERXL & Male   & 0 & No  & No  &  4 & Yes & No               & DSL         & ⋯ & No                  & No                  & No                  & Yes                 & Month-to-month & Yes & Electronic check          & 55.9  &  238.50 & No \\\\\n",
       "\t5 &  432 & 2181-UAESM & Male   & 0 & No  & No  &  2 & Yes & No               & DSL         & ⋯ & Yes                 & No                  & No                  & No                  & Month-to-month & No  & Electronic check          & 53.45 &  119.50 & No \\\\\n",
       "\t6 & 2215 & 4312-GVYNH & Female & 0 & Yes & No  & 70 & No  & No phone service & DSL         & ⋯ & Yes                 & Yes                 & No                  & Yes                 & Two year       & Yes & Bank transfer (automatic) & 49.85 & 3370.20 & No \\\\\n",
       "\\end{tabular}\n"
      ],
      "text/markdown": [
       "\n",
       "A data.frame: 6 × 22\n",
       "\n",
       "| <!--/--> | X &lt;int&gt; | customerID &lt;chr&gt; | gender &lt;chr&gt; | SeniorCitizen &lt;int&gt; | Partner &lt;chr&gt; | Dependents &lt;chr&gt; | tenure &lt;int&gt; | PhoneService &lt;chr&gt; | MultipleLines &lt;chr&gt; | InternetService &lt;chr&gt; | ⋯ ⋯ | DeviceProtection &lt;chr&gt; | TechSupport &lt;chr&gt; | StreamingTV &lt;chr&gt; | StreamingMovies &lt;chr&gt; | Contract &lt;chr&gt; | PaperlessBilling &lt;chr&gt; | PaymentMethod &lt;chr&gt; | MonthlyCharges &lt;chr&gt; | TotalCharges &lt;dbl&gt; | Churn &lt;chr&gt; |\n",
       "|---|---|---|---|---|---|---|---|---|---|---|---|---|---|---|---|---|---|---|---|---|---|\n",
       "| 1 | 1869 | 7010-BRBUU | Male   | 0 | Yes | Yes | 72 | Yes | Yes              | No          | ⋯ | No internet service | No internet service | No internet service | No internet service | Two year       | No  | Credit card (automatic)   | 24.1  | 1734.65 | No  |\n",
       "| 2 | 4528 | 9688-YGXVR | Female | 0 | No  | No  | 44 | Yes | No               | Fiber optic | ⋯ | Yes                 | No                  | Yes                 | No                  | Month-to-month | Yes | Credit card (automatic)   | 88.15 | 3973.20 | No  |\n",
       "| 3 | 6344 | 9286-DOJGF | Female | 1 | Yes | No  | 38 | Yes | Yes              | Fiber optic | ⋯ | No                  | No                  | No                  | No                  | Month-to-month | Yes | Bank transfer (automatic) | 74.95 | 2869.85 | Yes |\n",
       "| 4 | 6739 | 6994-KERXL | Male   | 0 | No  | No  |  4 | Yes | No               | DSL         | ⋯ | No                  | No                  | No                  | Yes                 | Month-to-month | Yes | Electronic check          | 55.9  |  238.50 | No  |\n",
       "| 5 |  432 | 2181-UAESM | Male   | 0 | No  | No  |  2 | Yes | No               | DSL         | ⋯ | Yes                 | No                  | No                  | No                  | Month-to-month | No  | Electronic check          | 53.45 |  119.50 | No  |\n",
       "| 6 | 2215 | 4312-GVYNH | Female | 0 | Yes | No  | 70 | No  | No phone service | DSL         | ⋯ | Yes                 | Yes                 | No                  | Yes                 | Two year       | Yes | Bank transfer (automatic) | 49.85 | 3370.20 | No  |\n",
       "\n"
      ],
      "text/plain": [
       "  X    customerID gender SeniorCitizen Partner Dependents tenure PhoneService\n",
       "1 1869 7010-BRBUU Male   0             Yes     Yes        72     Yes         \n",
       "2 4528 9688-YGXVR Female 0             No      No         44     Yes         \n",
       "3 6344 9286-DOJGF Female 1             Yes     No         38     Yes         \n",
       "4 6739 6994-KERXL Male   0             No      No          4     Yes         \n",
       "5  432 2181-UAESM Male   0             No      No          2     Yes         \n",
       "6 2215 4312-GVYNH Female 0             Yes     No         70     No          \n",
       "  MultipleLines    InternetService ⋯ DeviceProtection    TechSupport        \n",
       "1 Yes              No              ⋯ No internet service No internet service\n",
       "2 No               Fiber optic     ⋯ Yes                 No                 \n",
       "3 Yes              Fiber optic     ⋯ No                  No                 \n",
       "4 No               DSL             ⋯ No                  No                 \n",
       "5 No               DSL             ⋯ Yes                 No                 \n",
       "6 No phone service DSL             ⋯ Yes                 Yes                \n",
       "  StreamingTV         StreamingMovies     Contract       PaperlessBilling\n",
       "1 No internet service No internet service Two year       No              \n",
       "2 Yes                 No                  Month-to-month Yes             \n",
       "3 No                  No                  Month-to-month Yes             \n",
       "4 No                  Yes                 Month-to-month Yes             \n",
       "5 No                  No                  Month-to-month No              \n",
       "6 No                  Yes                 Two year       Yes             \n",
       "  PaymentMethod             MonthlyCharges TotalCharges Churn\n",
       "1 Credit card (automatic)   24.1           1734.65      No   \n",
       "2 Credit card (automatic)   88.15          3973.20      No   \n",
       "3 Bank transfer (automatic) 74.95          2869.85      Yes  \n",
       "4 Electronic check          55.9            238.50      No   \n",
       "5 Electronic check          53.45           119.50      No   \n",
       "6 Bank transfer (automatic) 49.85          3370.20      No   "
      ]
     },
     "metadata": {},
     "output_type": "display_data"
    }
   ],
   "source": [
    "# Lets use client churn dataset from telco: https://www.kaggle.com/blastchar/telco-customer-churn\n",
    "churn_data <- read.csv(\"data/telecom_users.csv\")\n",
    "head(churn_data)"
   ]
  },
  {
   "cell_type": "code",
   "execution_count": 2,
   "id": "b600c118",
   "metadata": {},
   "outputs": [
    {
     "name": "stdout",
     "output_type": "stream",
     "text": [
      "'data.frame':\t5986 obs. of  22 variables:\n",
      " $ X               : int  1869 4528 6344 6739 432 2215 5260 6001 1480 5137 ...\n",
      " $ customerID      : chr  \"7010-BRBUU\" \"9688-YGXVR\" \"9286-DOJGF\" \"6994-KERXL\" ...\n",
      " $ gender          : chr  \"Male\" \"Female\" \"Female\" \"Male\" ...\n",
      " $ SeniorCitizen   : int  0 0 1 0 0 0 0 0 0 1 ...\n",
      " $ Partner         : chr  \"Yes\" \"No\" \"Yes\" \"No\" ...\n",
      " $ Dependents      : chr  \"Yes\" \"No\" \"No\" \"No\" ...\n",
      " $ tenure          : int  72 44 38 4 2 70 33 1 39 55 ...\n",
      " $ PhoneService    : chr  \"Yes\" \"Yes\" \"Yes\" \"Yes\" ...\n",
      " $ MultipleLines   : chr  \"Yes\" \"No\" \"Yes\" \"No\" ...\n",
      " $ InternetService : chr  \"No\" \"Fiber optic\" \"Fiber optic\" \"DSL\" ...\n",
      " $ OnlineSecurity  : chr  \"No internet service\" \"No\" \"No\" \"No\" ...\n",
      " $ OnlineBackup    : chr  \"No internet service\" \"Yes\" \"No\" \"No\" ...\n",
      " $ DeviceProtection: chr  \"No internet service\" \"Yes\" \"No\" \"No\" ...\n",
      " $ TechSupport     : chr  \"No internet service\" \"No\" \"No\" \"No\" ...\n",
      " $ StreamingTV     : chr  \"No internet service\" \"Yes\" \"No\" \"No\" ...\n",
      " $ StreamingMovies : chr  \"No internet service\" \"No\" \"No\" \"Yes\" ...\n",
      " $ Contract        : chr  \"Two year\" \"Month-to-month\" \"Month-to-month\" \"Month-to-month\" ...\n",
      " $ PaperlessBilling: chr  \"No\" \"Yes\" \"Yes\" \"Yes\" ...\n",
      " $ PaymentMethod   : chr  \"Credit card (automatic)\" \"Credit card (automatic)\" \"Bank transfer (automatic)\" \"Electronic check\" ...\n",
      " $ MonthlyCharges  : chr  \"24.1\" \"88.15\" \"74.95\" \"55.9\" ...\n",
      " $ TotalCharges    : num  1735 3973 2870 238 120 ...\n",
      " $ Churn           : chr  \"No\" \"No\" \"Yes\" \"No\" ...\n"
     ]
    }
   ],
   "source": [
    "str(churn_data)"
   ]
  },
  {
   "cell_type": "code",
   "execution_count": 3,
   "id": "5ac33b46",
   "metadata": {},
   "outputs": [
    {
     "data": {
      "text/plain": [
       "   Min. 1st Qu.  Median    Mean 3rd Qu.    Max.    NA's \n",
       "   18.8   404.3  1412.2  2298.1  3847.0  8684.8      10 "
      ]
     },
     "metadata": {},
     "output_type": "display_data"
    }
   ],
   "source": [
    "# next check summary of values\n",
    "summary(churn_data$TotalCharges)\n",
    "\n",
    "# check TotalCharges field"
   ]
  },
  {
   "cell_type": "markdown",
   "id": "24fcc7b7",
   "metadata": {},
   "source": [
    "Next, lets build histogram of `Income` and check how it splited with `ggplot2`:"
   ]
  },
  {
   "cell_type": "code",
   "execution_count": 12,
   "id": "55672d2d-6640-4f55-8669-2b4ebfa3bb8e",
   "metadata": {},
   "outputs": [
    {
     "data": {
      "image/png": "[encoded data removed]",
      "text/plain": [
       "Plot with title “Histogram of churn_data$TotalCharges”"
      ]
     },
     "metadata": {
      "image/png": {
       "height": 420,
       "width": 420
      }
     },
     "output_type": "display_data"
    }
   ],
   "source": [
    "hist(churn_data$TotalCharges, breaks = 12)"
   ]
  },
  {
   "cell_type": "code",
   "execution_count": 8,
   "id": "d30d3d93",
   "metadata": {},
   "outputs": [],
   "source": [
    "#install.packages(\"ggplot2\")\n",
    "library(ggplot2)"
   ]
  },
  {
   "cell_type": "markdown",
   "id": "8cc2f531-ca96-4f7c-bc66-dde3b8a49995",
   "metadata": {},
   "source": [
    "`ggplot()` - function for building charts\n",
    "\n",
    "`data` - first parameter - dataset \n",
    "\n",
    "`aes()` - authetics - visualition axis / Construct aesthetic mappings\n",
    "\n",
    "`geom_CHART_TYPE()` - set the chart type\n",
    "\n",
    "`geom_histogram()` - Histograms and frequency polygons\n",
    "\n",
    "//`theme_set()` - theme configutation"
   ]
  },
  {
   "cell_type": "code",
   "execution_count": 13,
   "id": "84659227",
   "metadata": {},
   "outputs": [
    {
     "name": "stderr",
     "output_type": "stream",
     "text": [
      "Warning message:\n",
      "\"Removed 10 rows containing non-finite values (stat_bin).\"\n"
     ]
    },
    {
     "data": {
      "image/png": "[encoded data removed]",
      "text/plain": [
       "plot without title"
      ]
     },
     "metadata": {
      "image/png": {
       "height": 420,
       "width": 420
      }
     },
     "output_type": "display_data"
    }
   ],
   "source": [
    "ggplot(data = churn_data, aes(x=TotalCharges)) + geom_histogram(bins = 15)\n",
    "\n",
    "# try theme"
   ]
  },
  {
   "cell_type": "code",
   "execution_count": null,
   "id": "5379fa24-b0e6-4454-9b23-f69b17e7ac4a",
   "metadata": {},
   "outputs": [],
   "source": []
  },
  {
   "cell_type": "code",
   "execution_count": 9,
   "id": "d0e44c54",
   "metadata": {},
   "outputs": [
    {
     "data": {
      "text/html": [
       "FALSE"
      ],
      "text/latex": [
       "FALSE"
      ],
      "text/markdown": [
       "FALSE"
      ],
      "text/plain": [
       "[1] FALSE"
      ]
     },
     "metadata": {},
     "output_type": "display_data"
    },
    {
     "data": {
      "image/png": "[encoded data removed]",
      "text/plain": [
       "plot without title"
      ]
     },
     "metadata": {
      "image/png": {
       "height": 420,
       "width": 420
      }
     },
     "output_type": "display_data"
    }
   ],
   "source": [
    "# Lets replace missing with 0 zero for TotalCharges \n",
    "library(magrittr) # if pipe not loaded\n",
    "library(dplyr) # for nutate function\n",
    "\n",
    "anyNA(churn_data$TotalCharges)\n",
    "\n",
    "churn_data[is.na(churn_data$TotalCharges), \"TotalCharges\"] = 0\n",
    "\n",
    "ggplot(churn_data, aes(x=TotalCharges)) + geom_histogram(bins = 15)"
   ]
  },
  {
   "cell_type": "code",
   "execution_count": 13,
   "id": "e076d601",
   "metadata": {},
   "outputs": [],
   "source": [
    "# Lets implement own normalization function by fomula explained earlie\n",
    "normalizeData <- function(x) {\n",
    "    return ((x - min(x)) / (max(x) - min(x)))\n",
    "}"
   ]
  },
  {
   "cell_type": "code",
   "execution_count": 14,
   "id": "dcbd87c5",
   "metadata": {},
   "outputs": [
    {
     "data": {
      "text/html": [
       "<table class=\"dataframe\">\n",
       "<caption>A data.frame: 6 × 23</caption>\n",
       "<thead>\n",
       "\t<tr><th></th><th scope=col>X</th><th scope=col>customerID</th><th scope=col>gender</th><th scope=col>SeniorCitizen</th><th scope=col>Partner</th><th scope=col>Dependents</th><th scope=col>tenure</th><th scope=col>PhoneService</th><th scope=col>MultipleLines</th><th scope=col>InternetService</th><th scope=col>⋯</th><th scope=col>TechSupport</th><th scope=col>StreamingTV</th><th scope=col>StreamingMovies</th><th scope=col>Contract</th><th scope=col>PaperlessBilling</th><th scope=col>PaymentMethod</th><th scope=col>MonthlyCharges</th><th scope=col>TotalCharges</th><th scope=col>Churn</th><th scope=col>TotalChargesNorm</th></tr>\n",
       "\t<tr><th></th><th scope=col>&lt;int&gt;</th><th scope=col>&lt;chr&gt;</th><th scope=col>&lt;chr&gt;</th><th scope=col>&lt;int&gt;</th><th scope=col>&lt;chr&gt;</th><th scope=col>&lt;chr&gt;</th><th scope=col>&lt;int&gt;</th><th scope=col>&lt;chr&gt;</th><th scope=col>&lt;chr&gt;</th><th scope=col>&lt;chr&gt;</th><th scope=col>⋯</th><th scope=col>&lt;chr&gt;</th><th scope=col>&lt;chr&gt;</th><th scope=col>&lt;chr&gt;</th><th scope=col>&lt;chr&gt;</th><th scope=col>&lt;chr&gt;</th><th scope=col>&lt;chr&gt;</th><th scope=col>&lt;chr&gt;</th><th scope=col>&lt;dbl&gt;</th><th scope=col>&lt;chr&gt;</th><th scope=col>&lt;dbl&gt;</th></tr>\n",
       "</thead>\n",
       "<tbody>\n",
       "\t<tr><th scope=row>1</th><td>1869</td><td>7010-BRBUU</td><td>Male  </td><td>0</td><td>Yes</td><td>Yes</td><td>72</td><td>Yes</td><td>Yes             </td><td>No         </td><td>⋯</td><td>No internet service</td><td>No internet service</td><td>No internet service</td><td>Two year      </td><td>No </td><td>Credit card (automatic)  </td><td>24.1 </td><td>1734.65</td><td>No </td><td>0.19973402</td></tr>\n",
       "\t<tr><th scope=row>2</th><td>4528</td><td>9688-YGXVR</td><td>Female</td><td>0</td><td>No </td><td>No </td><td>44</td><td>Yes</td><td>No              </td><td>Fiber optic</td><td>⋯</td><td>No                 </td><td>Yes                </td><td>No                 </td><td>Month-to-month</td><td>Yes</td><td>Credit card (automatic)  </td><td>88.15</td><td>3973.20</td><td>No </td><td>0.45748895</td></tr>\n",
       "\t<tr><th scope=row>3</th><td>6344</td><td>9286-DOJGF</td><td>Female</td><td>1</td><td>Yes</td><td>No </td><td>38</td><td>Yes</td><td>Yes             </td><td>Fiber optic</td><td>⋯</td><td>No                 </td><td>No                 </td><td>No                 </td><td>Month-to-month</td><td>Yes</td><td>Bank transfer (automatic)</td><td>74.95</td><td>2869.85</td><td>Yes</td><td>0.33044515</td></tr>\n",
       "\t<tr><th scope=row>4</th><td>6739</td><td>6994-KERXL</td><td>Male  </td><td>0</td><td>No </td><td>No </td><td> 4</td><td>Yes</td><td>No              </td><td>DSL        </td><td>⋯</td><td>No                 </td><td>No                 </td><td>Yes                </td><td>Month-to-month</td><td>Yes</td><td>Electronic check         </td><td>55.9 </td><td> 238.50</td><td>No </td><td>0.02746177</td></tr>\n",
       "\t<tr><th scope=row>5</th><td> 432</td><td>2181-UAESM</td><td>Male  </td><td>0</td><td>No </td><td>No </td><td> 2</td><td>Yes</td><td>No              </td><td>DSL        </td><td>⋯</td><td>No                 </td><td>No                 </td><td>No                 </td><td>Month-to-month</td><td>No </td><td>Electronic check         </td><td>53.45</td><td> 119.50</td><td>No </td><td>0.01375967</td></tr>\n",
       "\t<tr><th scope=row>6</th><td>2215</td><td>4312-GVYNH</td><td>Female</td><td>0</td><td>Yes</td><td>No </td><td>70</td><td>No </td><td>No phone service</td><td>DSL        </td><td>⋯</td><td>Yes                </td><td>No                 </td><td>Yes                </td><td>Two year      </td><td>Yes</td><td>Bank transfer (automatic)</td><td>49.85</td><td>3370.20</td><td>No </td><td>0.38805730</td></tr>\n",
       "</tbody>\n",
       "</table>\n"
      ],
      "text/latex": [
       "A data.frame: 6 × 23\n",
       "\\begin{tabular}{r|lllllllllllllllllllll}\n",
       "  & X & customerID & gender & SeniorCitizen & Partner & Dependents & tenure & PhoneService & MultipleLines & InternetService & ⋯ & TechSupport & StreamingTV & StreamingMovies & Contract & PaperlessBilling & PaymentMethod & MonthlyCharges & TotalCharges & Churn & TotalChargesNorm\\\\\n",
       "  & <int> & <chr> & <chr> & <int> & <chr> & <chr> & <int> & <chr> & <chr> & <chr> & ⋯ & <chr> & <chr> & <chr> & <chr> & <chr> & <chr> & <chr> & <dbl> & <chr> & <dbl>\\\\\n",
       "\\hline\n",
       "\t1 & 1869 & 7010-BRBUU & Male   & 0 & Yes & Yes & 72 & Yes & Yes              & No          & ⋯ & No internet service & No internet service & No internet service & Two year       & No  & Credit card (automatic)   & 24.1  & 1734.65 & No  & 0.19973402\\\\\n",
       "\t2 & 4528 & 9688-YGXVR & Female & 0 & No  & No  & 44 & Yes & No               & Fiber optic & ⋯ & No                  & Yes                 & No                  & Month-to-month & Yes & Credit card (automatic)   & 88.15 & 3973.20 & No  & 0.45748895\\\\\n",
       "\t3 & 6344 & 9286-DOJGF & Female & 1 & Yes & No  & 38 & Yes & Yes              & Fiber optic & ⋯ & No                  & No                  & No                  & Month-to-month & Yes & Bank transfer (automatic) & 74.95 & 2869.85 & Yes & 0.33044515\\\\\n",
       "\t4 & 6739 & 6994-KERXL & Male   & 0 & No  & No  &  4 & Yes & No               & DSL         & ⋯ & No                  & No                  & Yes                 & Month-to-month & Yes & Electronic check          & 55.9  &  238.50 & No  & 0.02746177\\\\\n",
       "\t5 &  432 & 2181-UAESM & Male   & 0 & No  & No  &  2 & Yes & No               & DSL         & ⋯ & No                  & No                  & No                  & Month-to-month & No  & Electronic check          & 53.45 &  119.50 & No  & 0.01375967\\\\\n",
       "\t6 & 2215 & 4312-GVYNH & Female & 0 & Yes & No  & 70 & No  & No phone service & DSL         & ⋯ & Yes                 & No                  & Yes                 & Two year       & Yes & Bank transfer (automatic) & 49.85 & 3370.20 & No  & 0.38805730\\\\\n",
       "\\end{tabular}\n"
      ],
      "text/markdown": [
       "\n",
       "A data.frame: 6 × 23\n",
       "\n",
       "| <!--/--> | X &lt;int&gt; | customerID &lt;chr&gt; | gender &lt;chr&gt; | SeniorCitizen &lt;int&gt; | Partner &lt;chr&gt; | Dependents &lt;chr&gt; | tenure &lt;int&gt; | PhoneService &lt;chr&gt; | MultipleLines &lt;chr&gt; | InternetService &lt;chr&gt; | ⋯ ⋯ | TechSupport &lt;chr&gt; | StreamingTV &lt;chr&gt; | StreamingMovies &lt;chr&gt; | Contract &lt;chr&gt; | PaperlessBilling &lt;chr&gt; | PaymentMethod &lt;chr&gt; | MonthlyCharges &lt;chr&gt; | TotalCharges &lt;dbl&gt; | Churn &lt;chr&gt; | TotalChargesNorm &lt;dbl&gt; |\n",
       "|---|---|---|---|---|---|---|---|---|---|---|---|---|---|---|---|---|---|---|---|---|---|\n",
       "| 1 | 1869 | 7010-BRBUU | Male   | 0 | Yes | Yes | 72 | Yes | Yes              | No          | ⋯ | No internet service | No internet service | No internet service | Two year       | No  | Credit card (automatic)   | 24.1  | 1734.65 | No  | 0.19973402 |\n",
       "| 2 | 4528 | 9688-YGXVR | Female | 0 | No  | No  | 44 | Yes | No               | Fiber optic | ⋯ | No                  | Yes                 | No                  | Month-to-month | Yes | Credit card (automatic)   | 88.15 | 3973.20 | No  | 0.45748895 |\n",
       "| 3 | 6344 | 9286-DOJGF | Female | 1 | Yes | No  | 38 | Yes | Yes              | Fiber optic | ⋯ | No                  | No                  | No                  | Month-to-month | Yes | Bank transfer (automatic) | 74.95 | 2869.85 | Yes | 0.33044515 |\n",
       "| 4 | 6739 | 6994-KERXL | Male   | 0 | No  | No  |  4 | Yes | No               | DSL         | ⋯ | No                  | No                  | Yes                 | Month-to-month | Yes | Electronic check          | 55.9  |  238.50 | No  | 0.02746177 |\n",
       "| 5 |  432 | 2181-UAESM | Male   | 0 | No  | No  |  2 | Yes | No               | DSL         | ⋯ | No                  | No                  | No                  | Month-to-month | No  | Electronic check          | 53.45 |  119.50 | No  | 0.01375967 |\n",
       "| 6 | 2215 | 4312-GVYNH | Female | 0 | Yes | No  | 70 | No  | No phone service | DSL         | ⋯ | Yes                 | No                  | Yes                 | Two year       | Yes | Bank transfer (automatic) | 49.85 | 3370.20 | No  | 0.38805730 |\n",
       "\n"
      ],
      "text/plain": [
       "  X    customerID gender SeniorCitizen Partner Dependents tenure PhoneService\n",
       "1 1869 7010-BRBUU Male   0             Yes     Yes        72     Yes         \n",
       "2 4528 9688-YGXVR Female 0             No      No         44     Yes         \n",
       "3 6344 9286-DOJGF Female 1             Yes     No         38     Yes         \n",
       "4 6739 6994-KERXL Male   0             No      No          4     Yes         \n",
       "5  432 2181-UAESM Male   0             No      No          2     Yes         \n",
       "6 2215 4312-GVYNH Female 0             Yes     No         70     No          \n",
       "  MultipleLines    InternetService ⋯ TechSupport         StreamingTV        \n",
       "1 Yes              No              ⋯ No internet service No internet service\n",
       "2 No               Fiber optic     ⋯ No                  Yes                \n",
       "3 Yes              Fiber optic     ⋯ No                  No                 \n",
       "4 No               DSL             ⋯ No                  No                 \n",
       "5 No               DSL             ⋯ No                  No                 \n",
       "6 No phone service DSL             ⋯ Yes                 No                 \n",
       "  StreamingMovies     Contract       PaperlessBilling PaymentMethod            \n",
       "1 No internet service Two year       No               Credit card (automatic)  \n",
       "2 No                  Month-to-month Yes              Credit card (automatic)  \n",
       "3 No                  Month-to-month Yes              Bank transfer (automatic)\n",
       "4 Yes                 Month-to-month Yes              Electronic check         \n",
       "5 No                  Month-to-month No               Electronic check         \n",
       "6 Yes                 Two year       Yes              Bank transfer (automatic)\n",
       "  MonthlyCharges TotalCharges Churn TotalChargesNorm\n",
       "1 24.1           1734.65      No    0.19973402      \n",
       "2 88.15          3973.20      No    0.45748895      \n",
       "3 74.95          2869.85      Yes   0.33044515      \n",
       "4 55.9            238.50      No    0.02746177      \n",
       "5 53.45           119.50      No    0.01375967      \n",
       "6 49.85          3370.20      No    0.38805730      "
      ]
     },
     "metadata": {},
     "output_type": "display_data"
    }
   ],
   "source": [
    "# Normalize TotalCharges\n",
    "churn_data <- churn_data %>%\n",
    "    mutate(TotalChargesNorm = normalizeData(TotalCharges))"
   ]
  },
  {
   "cell_type": "code",
   "execution_count": 19,
   "id": "8731ab95-7355-4ad2-b5dd-c96c4e89b53f",
   "metadata": {},
   "outputs": [
    {
     "data": {
      "text/html": [
       "<table class=\"dataframe\">\n",
       "<caption>A data.frame: 5 × 23</caption>\n",
       "<thead>\n",
       "\t<tr><th scope=col>X</th><th scope=col>customerID</th><th scope=col>gender</th><th scope=col>SeniorCitizen</th><th scope=col>Partner</th><th scope=col>Dependents</th><th scope=col>tenure</th><th scope=col>PhoneService</th><th scope=col>MultipleLines</th><th scope=col>InternetService</th><th scope=col>⋯</th><th scope=col>TechSupport</th><th scope=col>StreamingTV</th><th scope=col>StreamingMovies</th><th scope=col>Contract</th><th scope=col>PaperlessBilling</th><th scope=col>PaymentMethod</th><th scope=col>MonthlyCharges</th><th scope=col>TotalCharges</th><th scope=col>Churn</th><th scope=col>TotalChargesNorm</th></tr>\n",
       "\t<tr><th scope=col>&lt;int&gt;</th><th scope=col>&lt;chr&gt;</th><th scope=col>&lt;chr&gt;</th><th scope=col>&lt;int&gt;</th><th scope=col>&lt;chr&gt;</th><th scope=col>&lt;chr&gt;</th><th scope=col>&lt;int&gt;</th><th scope=col>&lt;chr&gt;</th><th scope=col>&lt;chr&gt;</th><th scope=col>&lt;chr&gt;</th><th scope=col>⋯</th><th scope=col>&lt;chr&gt;</th><th scope=col>&lt;chr&gt;</th><th scope=col>&lt;chr&gt;</th><th scope=col>&lt;chr&gt;</th><th scope=col>&lt;chr&gt;</th><th scope=col>&lt;chr&gt;</th><th scope=col>&lt;chr&gt;</th><th scope=col>&lt;dbl&gt;</th><th scope=col>&lt;chr&gt;</th><th scope=col>&lt;dbl&gt;</th></tr>\n",
       "</thead>\n",
       "<tbody>\n",
       "\t<tr><td>4610</td><td>2889-FPWRM</td><td>Male  </td><td>0</td><td>Yes</td><td>No </td><td>72</td><td>Yes</td><td>Yes</td><td>Fiber optic</td><td>⋯</td><td>Yes</td><td>Yes</td><td>Yes</td><td>One year</td><td>Yes</td><td>Bank transfer (automatic)</td><td>117.8 </td><td>8684.80</td><td>Yes</td><td>1.0000000</td></tr>\n",
       "\t<tr><td>4586</td><td>7569-NMZYQ</td><td>Female</td><td>0</td><td>Yes</td><td>Yes</td><td>72</td><td>Yes</td><td>Yes</td><td>Fiber optic</td><td>⋯</td><td>Yes</td><td>Yes</td><td>Yes</td><td>Two year</td><td>Yes</td><td>Bank transfer (automatic)</td><td>118.75</td><td>8672.45</td><td>No </td><td>0.9985780</td></tr>\n",
       "\t<tr><td>5347</td><td>9788-HNGUT</td><td>Male  </td><td>0</td><td>Yes</td><td>No </td><td>72</td><td>Yes</td><td>Yes</td><td>Fiber optic</td><td>⋯</td><td>Yes</td><td>Yes</td><td>Yes</td><td>Two year</td><td>Yes</td><td>Credit card (automatic)  </td><td>116.95</td><td>8594.40</td><td>No </td><td>0.9895910</td></tr>\n",
       "\t<tr><td>2187</td><td>8879-XUAHX</td><td>Male  </td><td>0</td><td>Yes</td><td>No </td><td>71</td><td>Yes</td><td>Yes</td><td>Fiber optic</td><td>⋯</td><td>Yes</td><td>Yes</td><td>Yes</td><td>Two year</td><td>Yes</td><td>Electronic check         </td><td>116.25</td><td>8564.75</td><td>No </td><td>0.9861770</td></tr>\n",
       "\t<tr><td>6118</td><td>9924-JPRMC</td><td>Male  </td><td>0</td><td>No </td><td>No </td><td>72</td><td>Yes</td><td>Yes</td><td>Fiber optic</td><td>⋯</td><td>Yes</td><td>Yes</td><td>Yes</td><td>Two year</td><td>Yes</td><td>Electronic check         </td><td>118.2 </td><td>8547.15</td><td>No </td><td>0.9841505</td></tr>\n",
       "</tbody>\n",
       "</table>\n"
      ],
      "text/latex": [
       "A data.frame: 5 × 23\n",
       "\\begin{tabular}{lllllllllllllllllllll}\n",
       " X & customerID & gender & SeniorCitizen & Partner & Dependents & tenure & PhoneService & MultipleLines & InternetService & ⋯ & TechSupport & StreamingTV & StreamingMovies & Contract & PaperlessBilling & PaymentMethod & MonthlyCharges & TotalCharges & Churn & TotalChargesNorm\\\\\n",
       " <int> & <chr> & <chr> & <int> & <chr> & <chr> & <int> & <chr> & <chr> & <chr> & ⋯ & <chr> & <chr> & <chr> & <chr> & <chr> & <chr> & <chr> & <dbl> & <chr> & <dbl>\\\\\n",
       "\\hline\n",
       "\t 4610 & 2889-FPWRM & Male   & 0 & Yes & No  & 72 & Yes & Yes & Fiber optic & ⋯ & Yes & Yes & Yes & One year & Yes & Bank transfer (automatic) & 117.8  & 8684.80 & Yes & 1.0000000\\\\\n",
       "\t 4586 & 7569-NMZYQ & Female & 0 & Yes & Yes & 72 & Yes & Yes & Fiber optic & ⋯ & Yes & Yes & Yes & Two year & Yes & Bank transfer (automatic) & 118.75 & 8672.45 & No  & 0.9985780\\\\\n",
       "\t 5347 & 9788-HNGUT & Male   & 0 & Yes & No  & 72 & Yes & Yes & Fiber optic & ⋯ & Yes & Yes & Yes & Two year & Yes & Credit card (automatic)   & 116.95 & 8594.40 & No  & 0.9895910\\\\\n",
       "\t 2187 & 8879-XUAHX & Male   & 0 & Yes & No  & 71 & Yes & Yes & Fiber optic & ⋯ & Yes & Yes & Yes & Two year & Yes & Electronic check          & 116.25 & 8564.75 & No  & 0.9861770\\\\\n",
       "\t 6118 & 9924-JPRMC & Male   & 0 & No  & No  & 72 & Yes & Yes & Fiber optic & ⋯ & Yes & Yes & Yes & Two year & Yes & Electronic check          & 118.2  & 8547.15 & No  & 0.9841505\\\\\n",
       "\\end{tabular}\n"
      ],
      "text/markdown": [
       "\n",
       "A data.frame: 5 × 23\n",
       "\n",
       "| X &lt;int&gt; | customerID &lt;chr&gt; | gender &lt;chr&gt; | SeniorCitizen &lt;int&gt; | Partner &lt;chr&gt; | Dependents &lt;chr&gt; | tenure &lt;int&gt; | PhoneService &lt;chr&gt; | MultipleLines &lt;chr&gt; | InternetService &lt;chr&gt; | ⋯ ⋯ | TechSupport &lt;chr&gt; | StreamingTV &lt;chr&gt; | StreamingMovies &lt;chr&gt; | Contract &lt;chr&gt; | PaperlessBilling &lt;chr&gt; | PaymentMethod &lt;chr&gt; | MonthlyCharges &lt;chr&gt; | TotalCharges &lt;dbl&gt; | Churn &lt;chr&gt; | TotalChargesNorm &lt;dbl&gt; |\n",
       "|---|---|---|---|---|---|---|---|---|---|---|---|---|---|---|---|---|---|---|---|---|\n",
       "| 4610 | 2889-FPWRM | Male   | 0 | Yes | No  | 72 | Yes | Yes | Fiber optic | ⋯ | Yes | Yes | Yes | One year | Yes | Bank transfer (automatic) | 117.8  | 8684.80 | Yes | 1.0000000 |\n",
       "| 4586 | 7569-NMZYQ | Female | 0 | Yes | Yes | 72 | Yes | Yes | Fiber optic | ⋯ | Yes | Yes | Yes | Two year | Yes | Bank transfer (automatic) | 118.75 | 8672.45 | No  | 0.9985780 |\n",
       "| 5347 | 9788-HNGUT | Male   | 0 | Yes | No  | 72 | Yes | Yes | Fiber optic | ⋯ | Yes | Yes | Yes | Two year | Yes | Credit card (automatic)   | 116.95 | 8594.40 | No  | 0.9895910 |\n",
       "| 2187 | 8879-XUAHX | Male   | 0 | Yes | No  | 71 | Yes | Yes | Fiber optic | ⋯ | Yes | Yes | Yes | Two year | Yes | Electronic check          | 116.25 | 8564.75 | No  | 0.9861770 |\n",
       "| 6118 | 9924-JPRMC | Male   | 0 | No  | No  | 72 | Yes | Yes | Fiber optic | ⋯ | Yes | Yes | Yes | Two year | Yes | Electronic check          | 118.2  | 8547.15 | No  | 0.9841505 |\n",
       "\n"
      ],
      "text/plain": [
       "  X    customerID gender SeniorCitizen Partner Dependents tenure PhoneService\n",
       "1 4610 2889-FPWRM Male   0             Yes     No         72     Yes         \n",
       "2 4586 7569-NMZYQ Female 0             Yes     Yes        72     Yes         \n",
       "3 5347 9788-HNGUT Male   0             Yes     No         72     Yes         \n",
       "4 2187 8879-XUAHX Male   0             Yes     No         71     Yes         \n",
       "5 6118 9924-JPRMC Male   0             No      No         72     Yes         \n",
       "  MultipleLines InternetService ⋯ TechSupport StreamingTV StreamingMovies\n",
       "1 Yes           Fiber optic     ⋯ Yes         Yes         Yes            \n",
       "2 Yes           Fiber optic     ⋯ Yes         Yes         Yes            \n",
       "3 Yes           Fiber optic     ⋯ Yes         Yes         Yes            \n",
       "4 Yes           Fiber optic     ⋯ Yes         Yes         Yes            \n",
       "5 Yes           Fiber optic     ⋯ Yes         Yes         Yes            \n",
       "  Contract PaperlessBilling PaymentMethod             MonthlyCharges\n",
       "1 One year Yes              Bank transfer (automatic) 117.8         \n",
       "2 Two year Yes              Bank transfer (automatic) 118.75        \n",
       "3 Two year Yes              Credit card (automatic)   116.95        \n",
       "4 Two year Yes              Electronic check          116.25        \n",
       "5 Two year Yes              Electronic check          118.2         \n",
       "  TotalCharges Churn TotalChargesNorm\n",
       "1 8684.80      Yes   1.0000000       \n",
       "2 8672.45      No    0.9985780       \n",
       "3 8594.40      No    0.9895910       \n",
       "4 8564.75      No    0.9861770       \n",
       "5 8547.15      No    0.9841505       "
      ]
     },
     "metadata": {},
     "output_type": "display_data"
    },
    {
     "data": {
      "text/html": [
       "<table class=\"dataframe\">\n",
       "<caption>A data.frame: 27 × 23</caption>\n",
       "<thead>\n",
       "\t<tr><th scope=col>X</th><th scope=col>customerID</th><th scope=col>gender</th><th scope=col>SeniorCitizen</th><th scope=col>Partner</th><th scope=col>Dependents</th><th scope=col>tenure</th><th scope=col>PhoneService</th><th scope=col>MultipleLines</th><th scope=col>InternetService</th><th scope=col>⋯</th><th scope=col>TechSupport</th><th scope=col>StreamingTV</th><th scope=col>StreamingMovies</th><th scope=col>Contract</th><th scope=col>PaperlessBilling</th><th scope=col>PaymentMethod</th><th scope=col>MonthlyCharges</th><th scope=col>TotalCharges</th><th scope=col>Churn</th><th scope=col>TotalChargesNorm</th></tr>\n",
       "\t<tr><th scope=col>&lt;int&gt;</th><th scope=col>&lt;chr&gt;</th><th scope=col>&lt;chr&gt;</th><th scope=col>&lt;int&gt;</th><th scope=col>&lt;chr&gt;</th><th scope=col>&lt;chr&gt;</th><th scope=col>&lt;int&gt;</th><th scope=col>&lt;chr&gt;</th><th scope=col>&lt;chr&gt;</th><th scope=col>&lt;chr&gt;</th><th scope=col>⋯</th><th scope=col>&lt;chr&gt;</th><th scope=col>&lt;chr&gt;</th><th scope=col>&lt;chr&gt;</th><th scope=col>&lt;chr&gt;</th><th scope=col>&lt;chr&gt;</th><th scope=col>&lt;chr&gt;</th><th scope=col>&lt;chr&gt;</th><th scope=col>&lt;dbl&gt;</th><th scope=col>&lt;chr&gt;</th><th scope=col>&lt;dbl&gt;</th></tr>\n",
       "</thead>\n",
       "<tbody>\n",
       "\t<tr><td>6754</td><td>2775-SEFEE</td><td>Male  </td><td>0</td><td>No </td><td>Yes</td><td>0</td><td>Yes</td><td>Yes             </td><td>DSL</td><td>⋯</td><td>Yes                </td><td>No                 </td><td>No                 </td><td>Two year      </td><td>Yes</td><td>Bank transfer (automatic)</td><td>61.9 </td><td> 0.00</td><td>No </td><td>0.000000000</td></tr>\n",
       "\t<tr><td>1340</td><td>1371-DWPAZ</td><td>Female</td><td>0</td><td>Yes</td><td>Yes</td><td>0</td><td>No </td><td>No phone service</td><td>DSL</td><td>⋯</td><td>Yes                </td><td>Yes                </td><td>No                 </td><td>Two year      </td><td>No </td><td>Credit card (automatic)  </td><td>56.05</td><td> 0.00</td><td>No </td><td>0.000000000</td></tr>\n",
       "\t<tr><td>3826</td><td>3213-VVOLG</td><td>Male  </td><td>0</td><td>Yes</td><td>Yes</td><td>0</td><td>Yes</td><td>Yes             </td><td>No </td><td>⋯</td><td>No internet service</td><td>No internet service</td><td>No internet service</td><td>Two year      </td><td>No </td><td>Mailed check             </td><td>25.35</td><td> 0.00</td><td>No </td><td>0.000000000</td></tr>\n",
       "\t<tr><td>5218</td><td>2923-ARZLG</td><td>Male  </td><td>0</td><td>Yes</td><td>Yes</td><td>0</td><td>Yes</td><td>No              </td><td>No </td><td>⋯</td><td>No internet service</td><td>No internet service</td><td>No internet service</td><td>One year      </td><td>Yes</td><td>Mailed check             </td><td>19.7 </td><td> 0.00</td><td>No </td><td>0.000000000</td></tr>\n",
       "\t<tr><td>3331</td><td>7644-OMVMY</td><td>Male  </td><td>0</td><td>Yes</td><td>Yes</td><td>0</td><td>Yes</td><td>No              </td><td>No </td><td>⋯</td><td>No internet service</td><td>No internet service</td><td>No internet service</td><td>Two year      </td><td>No </td><td>Mailed check             </td><td>19.85</td><td> 0.00</td><td>No </td><td>0.000000000</td></tr>\n",
       "\t<tr><td> 936</td><td>5709-LVOEQ</td><td>Female</td><td>0</td><td>Yes</td><td>Yes</td><td>0</td><td>Yes</td><td>No              </td><td>DSL</td><td>⋯</td><td>No                 </td><td>Yes                </td><td>Yes                </td><td>Two year      </td><td>No </td><td>Mailed check             </td><td>80.85</td><td> 0.00</td><td>No </td><td>0.000000000</td></tr>\n",
       "\t<tr><td> 753</td><td>3115-CZMZD</td><td>Male  </td><td>0</td><td>No </td><td>Yes</td><td>0</td><td>Yes</td><td>No              </td><td>No </td><td>⋯</td><td>No internet service</td><td>No internet service</td><td>No internet service</td><td>Two year      </td><td>No </td><td>Mailed check             </td><td>20.25</td><td> 0.00</td><td>No </td><td>0.000000000</td></tr>\n",
       "\t<tr><td>4380</td><td>2520-SGTTA</td><td>Female</td><td>0</td><td>Yes</td><td>Yes</td><td>0</td><td>Yes</td><td>No              </td><td>No </td><td>⋯</td><td>No internet service</td><td>No internet service</td><td>No internet service</td><td>Two year      </td><td>No </td><td>Mailed check             </td><td>20.0 </td><td> 0.00</td><td>No </td><td>0.000000000</td></tr>\n",
       "\t<tr><td> 488</td><td>4472-LVYGI</td><td>Female</td><td>0</td><td>Yes</td><td>Yes</td><td>0</td><td>No </td><td>No phone service</td><td>DSL</td><td>⋯</td><td>Yes                </td><td>Yes                </td><td>No                 </td><td>Two year      </td><td>Yes</td><td>Bank transfer (automatic)</td><td>52.55</td><td> 0.00</td><td>No </td><td>0.000000000</td></tr>\n",
       "\t<tr><td>1082</td><td>4367-NUYAO</td><td>Male  </td><td>0</td><td>Yes</td><td>Yes</td><td>0</td><td>Yes</td><td>Yes             </td><td>No </td><td>⋯</td><td>No internet service</td><td>No internet service</td><td>No internet service</td><td>Two year      </td><td>No </td><td>Mailed check             </td><td>25.75</td><td> 0.00</td><td>No </td><td>0.000000000</td></tr>\n",
       "\t<tr><td>1654</td><td>2967-MXRAV</td><td>Male  </td><td>0</td><td>Yes</td><td>Yes</td><td>1</td><td>Yes</td><td>No              </td><td>No </td><td>⋯</td><td>No internet service</td><td>No internet service</td><td>No internet service</td><td>One year      </td><td>No </td><td>Mailed check             </td><td>18.8 </td><td>18.80</td><td>No </td><td>0.002164702</td></tr>\n",
       "\t<tr><td>1151</td><td>8992-CEUEN</td><td>Female</td><td>0</td><td>No </td><td>No </td><td>1</td><td>Yes</td><td>No              </td><td>No </td><td>⋯</td><td>No internet service</td><td>No internet service</td><td>No internet service</td><td>Month-to-month</td><td>No </td><td>Electronic check         </td><td>18.85</td><td>18.85</td><td>No </td><td>0.002170459</td></tr>\n",
       "\t<tr><td>6489</td><td>9318-NKNFC</td><td>Male  </td><td>0</td><td>No </td><td>No </td><td>1</td><td>Yes</td><td>No              </td><td>No </td><td>⋯</td><td>No internet service</td><td>No internet service</td><td>No internet service</td><td>Month-to-month</td><td>Yes</td><td>Mailed check             </td><td>18.85</td><td>18.85</td><td>Yes</td><td>0.002170459</td></tr>\n",
       "\t<tr><td>4939</td><td>9975-SKRNR</td><td>Male  </td><td>0</td><td>No </td><td>No </td><td>1</td><td>Yes</td><td>No              </td><td>No </td><td>⋯</td><td>No internet service</td><td>No internet service</td><td>No internet service</td><td>Month-to-month</td><td>No </td><td>Mailed check             </td><td>18.9 </td><td>18.90</td><td>No </td><td>0.002176216</td></tr>\n",
       "\t<tr><td> 583</td><td>1423-BMPBQ</td><td>Female</td><td>0</td><td>Yes</td><td>Yes</td><td>1</td><td>Yes</td><td>No              </td><td>No </td><td>⋯</td><td>No internet service</td><td>No internet service</td><td>No internet service</td><td>Month-to-month</td><td>Yes</td><td>Mailed check             </td><td>19.0 </td><td>19.00</td><td>No </td><td>0.002187730</td></tr>\n",
       "\t<tr><td>1733</td><td>1015-OWJKI</td><td>Male  </td><td>0</td><td>No </td><td>No </td><td>1</td><td>Yes</td><td>No              </td><td>No </td><td>⋯</td><td>No internet service</td><td>No internet service</td><td>No internet service</td><td>Month-to-month</td><td>No </td><td>Mailed check             </td><td>19.05</td><td>19.05</td><td>No </td><td>0.002193487</td></tr>\n",
       "\t<tr><td>4348</td><td>6121-VZNQB</td><td>Female</td><td>0</td><td>No </td><td>No </td><td>1</td><td>Yes</td><td>No              </td><td>No </td><td>⋯</td><td>No internet service</td><td>No internet service</td><td>No internet service</td><td>Month-to-month</td><td>Yes</td><td>Mailed check             </td><td>19.1 </td><td>19.10</td><td>Yes</td><td>0.002199245</td></tr>\n",
       "\t<tr><td>3110</td><td>6569-KTMDU</td><td>Female</td><td>0</td><td>No </td><td>No </td><td>1</td><td>Yes</td><td>No              </td><td>No </td><td>⋯</td><td>No internet service</td><td>No internet service</td><td>No internet service</td><td>Month-to-month</td><td>No </td><td>Mailed check             </td><td>19.1 </td><td>19.10</td><td>No </td><td>0.002199245</td></tr>\n",
       "\t<tr><td>5336</td><td>9441-QHEVC</td><td>Male  </td><td>0</td><td>No </td><td>No </td><td>1</td><td>Yes</td><td>No              </td><td>No </td><td>⋯</td><td>No internet service</td><td>No internet service</td><td>No internet service</td><td>Month-to-month</td><td>No </td><td>Mailed check             </td><td>19.1 </td><td>19.10</td><td>No </td><td>0.002199245</td></tr>\n",
       "\t<tr><td> 367</td><td>7302-ZHMHP</td><td>Female</td><td>0</td><td>No </td><td>No </td><td>1</td><td>Yes</td><td>No              </td><td>No </td><td>⋯</td><td>No internet service</td><td>No internet service</td><td>No internet service</td><td>Month-to-month</td><td>No </td><td>Mailed check             </td><td>19.15</td><td>19.15</td><td>No </td><td>0.002205002</td></tr>\n",
       "\t<tr><td>3313</td><td>4232-JGKIY</td><td>Male  </td><td>0</td><td>No </td><td>No </td><td>1</td><td>Yes</td><td>No              </td><td>No </td><td>⋯</td><td>No internet service</td><td>No internet service</td><td>No internet service</td><td>Month-to-month</td><td>No </td><td>Electronic check         </td><td>19.2 </td><td>19.20</td><td>No </td><td>0.002210759</td></tr>\n",
       "\t<tr><td>4392</td><td>3373-YZZYM</td><td>Male  </td><td>0</td><td>Yes</td><td>Yes</td><td>1</td><td>Yes</td><td>No              </td><td>No </td><td>⋯</td><td>No internet service</td><td>No internet service</td><td>No internet service</td><td>Month-to-month</td><td>No </td><td>Mailed check             </td><td>19.2 </td><td>19.20</td><td>No </td><td>0.002210759</td></tr>\n",
       "\t<tr><td>2989</td><td>3308-MHOOC</td><td>Male  </td><td>0</td><td>No </td><td>Yes</td><td>1</td><td>Yes</td><td>No              </td><td>No </td><td>⋯</td><td>No internet service</td><td>No internet service</td><td>No internet service</td><td>Month-to-month</td><td>Yes</td><td>Mailed check             </td><td>19.2 </td><td>19.20</td><td>No </td><td>0.002210759</td></tr>\n",
       "\t<tr><td>1816</td><td>1663-MHLHE</td><td>Male  </td><td>0</td><td>No </td><td>No </td><td>1</td><td>Yes</td><td>No              </td><td>No </td><td>⋯</td><td>No internet service</td><td>No internet service</td><td>No internet service</td><td>Month-to-month</td><td>No </td><td>Mailed check             </td><td>19.2 </td><td>19.20</td><td>No </td><td>0.002210759</td></tr>\n",
       "\t<tr><td>6251</td><td>9374-YOLBJ</td><td>Female</td><td>0</td><td>Yes</td><td>Yes</td><td>1</td><td>Yes</td><td>No              </td><td>No </td><td>⋯</td><td>No internet service</td><td>No internet service</td><td>No internet service</td><td>Month-to-month</td><td>No </td><td>Electronic check         </td><td>19.25</td><td>19.25</td><td>No </td><td>0.002216516</td></tr>\n",
       "\t<tr><td>5646</td><td>5510-BOIUJ</td><td>Male  </td><td>0</td><td>No </td><td>Yes</td><td>1</td><td>Yes</td><td>No              </td><td>No </td><td>⋯</td><td>No internet service</td><td>No internet service</td><td>No internet service</td><td>Month-to-month</td><td>No </td><td>Mailed check             </td><td>19.25</td><td>19.25</td><td>Yes</td><td>0.002216516</td></tr>\n",
       "\t<tr><td> 310</td><td>1098-TDVUQ</td><td>Female</td><td>0</td><td>No </td><td>No </td><td>1</td><td>Yes</td><td>No              </td><td>No </td><td>⋯</td><td>No internet service</td><td>No internet service</td><td>No internet service</td><td>Month-to-month</td><td>Yes</td><td>Bank transfer (automatic)</td><td>19.25</td><td>19.25</td><td>No </td><td>0.002216516</td></tr>\n",
       "</tbody>\n",
       "</table>\n"
      ],
      "text/latex": [
       "A data.frame: 27 × 23\n",
       "\\begin{tabular}{lllllllllllllllllllll}\n",
       " X & customerID & gender & SeniorCitizen & Partner & Dependents & tenure & PhoneService & MultipleLines & InternetService & ⋯ & TechSupport & StreamingTV & StreamingMovies & Contract & PaperlessBilling & PaymentMethod & MonthlyCharges & TotalCharges & Churn & TotalChargesNorm\\\\\n",
       " <int> & <chr> & <chr> & <int> & <chr> & <chr> & <int> & <chr> & <chr> & <chr> & ⋯ & <chr> & <chr> & <chr> & <chr> & <chr> & <chr> & <chr> & <dbl> & <chr> & <dbl>\\\\\n",
       "\\hline\n",
       "\t 6754 & 2775-SEFEE & Male   & 0 & No  & Yes & 0 & Yes & Yes              & DSL & ⋯ & Yes                 & No                  & No                  & Two year       & Yes & Bank transfer (automatic) & 61.9  &  0.00 & No  & 0.000000000\\\\\n",
       "\t 1340 & 1371-DWPAZ & Female & 0 & Yes & Yes & 0 & No  & No phone service & DSL & ⋯ & Yes                 & Yes                 & No                  & Two year       & No  & Credit card (automatic)   & 56.05 &  0.00 & No  & 0.000000000\\\\\n",
       "\t 3826 & 3213-VVOLG & Male   & 0 & Yes & Yes & 0 & Yes & Yes              & No  & ⋯ & No internet service & No internet service & No internet service & Two year       & No  & Mailed check              & 25.35 &  0.00 & No  & 0.000000000\\\\\n",
       "\t 5218 & 2923-ARZLG & Male   & 0 & Yes & Yes & 0 & Yes & No               & No  & ⋯ & No internet service & No internet service & No internet service & One year       & Yes & Mailed check              & 19.7  &  0.00 & No  & 0.000000000\\\\\n",
       "\t 3331 & 7644-OMVMY & Male   & 0 & Yes & Yes & 0 & Yes & No               & No  & ⋯ & No internet service & No internet service & No internet service & Two year       & No  & Mailed check              & 19.85 &  0.00 & No  & 0.000000000\\\\\n",
       "\t  936 & 5709-LVOEQ & Female & 0 & Yes & Yes & 0 & Yes & No               & DSL & ⋯ & No                  & Yes                 & Yes                 & Two year       & No  & Mailed check              & 80.85 &  0.00 & No  & 0.000000000\\\\\n",
       "\t  753 & 3115-CZMZD & Male   & 0 & No  & Yes & 0 & Yes & No               & No  & ⋯ & No internet service & No internet service & No internet service & Two year       & No  & Mailed check              & 20.25 &  0.00 & No  & 0.000000000\\\\\n",
       "\t 4380 & 2520-SGTTA & Female & 0 & Yes & Yes & 0 & Yes & No               & No  & ⋯ & No internet service & No internet service & No internet service & Two year       & No  & Mailed check              & 20.0  &  0.00 & No  & 0.000000000\\\\\n",
       "\t  488 & 4472-LVYGI & Female & 0 & Yes & Yes & 0 & No  & No phone service & DSL & ⋯ & Yes                 & Yes                 & No                  & Two year       & Yes & Bank transfer (automatic) & 52.55 &  0.00 & No  & 0.000000000\\\\\n",
       "\t 1082 & 4367-NUYAO & Male   & 0 & Yes & Yes & 0 & Yes & Yes              & No  & ⋯ & No internet service & No internet service & No internet service & Two year       & No  & Mailed check              & 25.75 &  0.00 & No  & 0.000000000\\\\\n",
       "\t 1654 & 2967-MXRAV & Male   & 0 & Yes & Yes & 1 & Yes & No               & No  & ⋯ & No internet service & No internet service & No internet service & One year       & No  & Mailed check              & 18.8  & 18.80 & No  & 0.002164702\\\\\n",
       "\t 1151 & 8992-CEUEN & Female & 0 & No  & No  & 1 & Yes & No               & No  & ⋯ & No internet service & No internet service & No internet service & Month-to-month & No  & Electronic check          & 18.85 & 18.85 & No  & 0.002170459\\\\\n",
       "\t 6489 & 9318-NKNFC & Male   & 0 & No  & No  & 1 & Yes & No               & No  & ⋯ & No internet service & No internet service & No internet service & Month-to-month & Yes & Mailed check              & 18.85 & 18.85 & Yes & 0.002170459\\\\\n",
       "\t 4939 & 9975-SKRNR & Male   & 0 & No  & No  & 1 & Yes & No               & No  & ⋯ & No internet service & No internet service & No internet service & Month-to-month & No  & Mailed check              & 18.9  & 18.90 & No  & 0.002176216\\\\\n",
       "\t  583 & 1423-BMPBQ & Female & 0 & Yes & Yes & 1 & Yes & No               & No  & ⋯ & No internet service & No internet service & No internet service & Month-to-month & Yes & Mailed check              & 19.0  & 19.00 & No  & 0.002187730\\\\\n",
       "\t 1733 & 1015-OWJKI & Male   & 0 & No  & No  & 1 & Yes & No               & No  & ⋯ & No internet service & No internet service & No internet service & Month-to-month & No  & Mailed check              & 19.05 & 19.05 & No  & 0.002193487\\\\\n",
       "\t 4348 & 6121-VZNQB & Female & 0 & No  & No  & 1 & Yes & No               & No  & ⋯ & No internet service & No internet service & No internet service & Month-to-month & Yes & Mailed check              & 19.1  & 19.10 & Yes & 0.002199245\\\\\n",
       "\t 3110 & 6569-KTMDU & Female & 0 & No  & No  & 1 & Yes & No               & No  & ⋯ & No internet service & No internet service & No internet service & Month-to-month & No  & Mailed check              & 19.1  & 19.10 & No  & 0.002199245\\\\\n",
       "\t 5336 & 9441-QHEVC & Male   & 0 & No  & No  & 1 & Yes & No               & No  & ⋯ & No internet service & No internet service & No internet service & Month-to-month & No  & Mailed check              & 19.1  & 19.10 & No  & 0.002199245\\\\\n",
       "\t  367 & 7302-ZHMHP & Female & 0 & No  & No  & 1 & Yes & No               & No  & ⋯ & No internet service & No internet service & No internet service & Month-to-month & No  & Mailed check              & 19.15 & 19.15 & No  & 0.002205002\\\\\n",
       "\t 3313 & 4232-JGKIY & Male   & 0 & No  & No  & 1 & Yes & No               & No  & ⋯ & No internet service & No internet service & No internet service & Month-to-month & No  & Electronic check          & 19.2  & 19.20 & No  & 0.002210759\\\\\n",
       "\t 4392 & 3373-YZZYM & Male   & 0 & Yes & Yes & 1 & Yes & No               & No  & ⋯ & No internet service & No internet service & No internet service & Month-to-month & No  & Mailed check              & 19.2  & 19.20 & No  & 0.002210759\\\\\n",
       "\t 2989 & 3308-MHOOC & Male   & 0 & No  & Yes & 1 & Yes & No               & No  & ⋯ & No internet service & No internet service & No internet service & Month-to-month & Yes & Mailed check              & 19.2  & 19.20 & No  & 0.002210759\\\\\n",
       "\t 1816 & 1663-MHLHE & Male   & 0 & No  & No  & 1 & Yes & No               & No  & ⋯ & No internet service & No internet service & No internet service & Month-to-month & No  & Mailed check              & 19.2  & 19.20 & No  & 0.002210759\\\\\n",
       "\t 6251 & 9374-YOLBJ & Female & 0 & Yes & Yes & 1 & Yes & No               & No  & ⋯ & No internet service & No internet service & No internet service & Month-to-month & No  & Electronic check          & 19.25 & 19.25 & No  & 0.002216516\\\\\n",
       "\t 5646 & 5510-BOIUJ & Male   & 0 & No  & Yes & 1 & Yes & No               & No  & ⋯ & No internet service & No internet service & No internet service & Month-to-month & No  & Mailed check              & 19.25 & 19.25 & Yes & 0.002216516\\\\\n",
       "\t  310 & 1098-TDVUQ & Female & 0 & No  & No  & 1 & Yes & No               & No  & ⋯ & No internet service & No internet service & No internet service & Month-to-month & Yes & Bank transfer (automatic) & 19.25 & 19.25 & No  & 0.002216516\\\\\n",
       "\\end{tabular}\n"
      ],
      "text/markdown": [
       "\n",
       "A data.frame: 27 × 23\n",
       "\n",
       "| X &lt;int&gt; | customerID &lt;chr&gt; | gender &lt;chr&gt; | SeniorCitizen &lt;int&gt; | Partner &lt;chr&gt; | Dependents &lt;chr&gt; | tenure &lt;int&gt; | PhoneService &lt;chr&gt; | MultipleLines &lt;chr&gt; | InternetService &lt;chr&gt; | ⋯ ⋯ | TechSupport &lt;chr&gt; | StreamingTV &lt;chr&gt; | StreamingMovies &lt;chr&gt; | Contract &lt;chr&gt; | PaperlessBilling &lt;chr&gt; | PaymentMethod &lt;chr&gt; | MonthlyCharges &lt;chr&gt; | TotalCharges &lt;dbl&gt; | Churn &lt;chr&gt; | TotalChargesNorm &lt;dbl&gt; |\n",
       "|---|---|---|---|---|---|---|---|---|---|---|---|---|---|---|---|---|---|---|---|---|\n",
       "| 6754 | 2775-SEFEE | Male   | 0 | No  | Yes | 0 | Yes | Yes              | DSL | ⋯ | Yes                 | No                  | No                  | Two year       | Yes | Bank transfer (automatic) | 61.9  |  0.00 | No  | 0.000000000 |\n",
       "| 1340 | 1371-DWPAZ | Female | 0 | Yes | Yes | 0 | No  | No phone service | DSL | ⋯ | Yes                 | Yes                 | No                  | Two year       | No  | Credit card (automatic)   | 56.05 |  0.00 | No  | 0.000000000 |\n",
       "| 3826 | 3213-VVOLG | Male   | 0 | Yes | Yes | 0 | Yes | Yes              | No  | ⋯ | No internet service | No internet service | No internet service | Two year       | No  | Mailed check              | 25.35 |  0.00 | No  | 0.000000000 |\n",
       "| 5218 | 2923-ARZLG | Male   | 0 | Yes | Yes | 0 | Yes | No               | No  | ⋯ | No internet service | No internet service | No internet service | One year       | Yes | Mailed check              | 19.7  |  0.00 | No  | 0.000000000 |\n",
       "| 3331 | 7644-OMVMY | Male   | 0 | Yes | Yes | 0 | Yes | No               | No  | ⋯ | No internet service | No internet service | No internet service | Two year       | No  | Mailed check              | 19.85 |  0.00 | No  | 0.000000000 |\n",
       "|  936 | 5709-LVOEQ | Female | 0 | Yes | Yes | 0 | Yes | No               | DSL | ⋯ | No                  | Yes                 | Yes                 | Two year       | No  | Mailed check              | 80.85 |  0.00 | No  | 0.000000000 |\n",
       "|  753 | 3115-CZMZD | Male   | 0 | No  | Yes | 0 | Yes | No               | No  | ⋯ | No internet service | No internet service | No internet service | Two year       | No  | Mailed check              | 20.25 |  0.00 | No  | 0.000000000 |\n",
       "| 4380 | 2520-SGTTA | Female | 0 | Yes | Yes | 0 | Yes | No               | No  | ⋯ | No internet service | No internet service | No internet service | Two year       | No  | Mailed check              | 20.0  |  0.00 | No  | 0.000000000 |\n",
       "|  488 | 4472-LVYGI | Female | 0 | Yes | Yes | 0 | No  | No phone service | DSL | ⋯ | Yes                 | Yes                 | No                  | Two year       | Yes | Bank transfer (automatic) | 52.55 |  0.00 | No  | 0.000000000 |\n",
       "| 1082 | 4367-NUYAO | Male   | 0 | Yes | Yes | 0 | Yes | Yes              | No  | ⋯ | No internet service | No internet service | No internet service | Two year       | No  | Mailed check              | 25.75 |  0.00 | No  | 0.000000000 |\n",
       "| 1654 | 2967-MXRAV | Male   | 0 | Yes | Yes | 1 | Yes | No               | No  | ⋯ | No internet service | No internet service | No internet service | One year       | No  | Mailed check              | 18.8  | 18.80 | No  | 0.002164702 |\n",
       "| 1151 | 8992-CEUEN | Female | 0 | No  | No  | 1 | Yes | No               | No  | ⋯ | No internet service | No internet service | No internet service | Month-to-month | No  | Electronic check          | 18.85 | 18.85 | No  | 0.002170459 |\n",
       "| 6489 | 9318-NKNFC | Male   | 0 | No  | No  | 1 | Yes | No               | No  | ⋯ | No internet service | No internet service | No internet service | Month-to-month | Yes | Mailed check              | 18.85 | 18.85 | Yes | 0.002170459 |\n",
       "| 4939 | 9975-SKRNR | Male   | 0 | No  | No  | 1 | Yes | No               | No  | ⋯ | No internet service | No internet service | No internet service | Month-to-month | No  | Mailed check              | 18.9  | 18.90 | No  | 0.002176216 |\n",
       "|  583 | 1423-BMPBQ | Female | 0 | Yes | Yes | 1 | Yes | No               | No  | ⋯ | No internet service | No internet service | No internet service | Month-to-month | Yes | Mailed check              | 19.0  | 19.00 | No  | 0.002187730 |\n",
       "| 1733 | 1015-OWJKI | Male   | 0 | No  | No  | 1 | Yes | No               | No  | ⋯ | No internet service | No internet service | No internet service | Month-to-month | No  | Mailed check              | 19.05 | 19.05 | No  | 0.002193487 |\n",
       "| 4348 | 6121-VZNQB | Female | 0 | No  | No  | 1 | Yes | No               | No  | ⋯ | No internet service | No internet service | No internet service | Month-to-month | Yes | Mailed check              | 19.1  | 19.10 | Yes | 0.002199245 |\n",
       "| 3110 | 6569-KTMDU | Female | 0 | No  | No  | 1 | Yes | No               | No  | ⋯ | No internet service | No internet service | No internet service | Month-to-month | No  | Mailed check              | 19.1  | 19.10 | No  | 0.002199245 |\n",
       "| 5336 | 9441-QHEVC | Male   | 0 | No  | No  | 1 | Yes | No               | No  | ⋯ | No internet service | No internet service | No internet service | Month-to-month | No  | Mailed check              | 19.1  | 19.10 | No  | 0.002199245 |\n",
       "|  367 | 7302-ZHMHP | Female | 0 | No  | No  | 1 | Yes | No               | No  | ⋯ | No internet service | No internet service | No internet service | Month-to-month | No  | Mailed check              | 19.15 | 19.15 | No  | 0.002205002 |\n",
       "| 3313 | 4232-JGKIY | Male   | 0 | No  | No  | 1 | Yes | No               | No  | ⋯ | No internet service | No internet service | No internet service | Month-to-month | No  | Electronic check          | 19.2  | 19.20 | No  | 0.002210759 |\n",
       "| 4392 | 3373-YZZYM | Male   | 0 | Yes | Yes | 1 | Yes | No               | No  | ⋯ | No internet service | No internet service | No internet service | Month-to-month | No  | Mailed check              | 19.2  | 19.20 | No  | 0.002210759 |\n",
       "| 2989 | 3308-MHOOC | Male   | 0 | No  | Yes | 1 | Yes | No               | No  | ⋯ | No internet service | No internet service | No internet service | Month-to-month | Yes | Mailed check              | 19.2  | 19.20 | No  | 0.002210759 |\n",
       "| 1816 | 1663-MHLHE | Male   | 0 | No  | No  | 1 | Yes | No               | No  | ⋯ | No internet service | No internet service | No internet service | Month-to-month | No  | Mailed check              | 19.2  | 19.20 | No  | 0.002210759 |\n",
       "| 6251 | 9374-YOLBJ | Female | 0 | Yes | Yes | 1 | Yes | No               | No  | ⋯ | No internet service | No internet service | No internet service | Month-to-month | No  | Electronic check          | 19.25 | 19.25 | No  | 0.002216516 |\n",
       "| 5646 | 5510-BOIUJ | Male   | 0 | No  | Yes | 1 | Yes | No               | No  | ⋯ | No internet service | No internet service | No internet service | Month-to-month | No  | Mailed check              | 19.25 | 19.25 | Yes | 0.002216516 |\n",
       "|  310 | 1098-TDVUQ | Female | 0 | No  | No  | 1 | Yes | No               | No  | ⋯ | No internet service | No internet service | No internet service | Month-to-month | Yes | Bank transfer (automatic) | 19.25 | 19.25 | No  | 0.002216516 |\n",
       "\n"
      ],
      "text/plain": [
       "   X    customerID gender SeniorCitizen Partner Dependents tenure PhoneService\n",
       "1  6754 2775-SEFEE Male   0             No      Yes        0      Yes         \n",
       "2  1340 1371-DWPAZ Female 0             Yes     Yes        0      No          \n",
       "3  3826 3213-VVOLG Male   0             Yes     Yes        0      Yes         \n",
       "4  5218 2923-ARZLG Male   0             Yes     Yes        0      Yes         \n",
       "5  3331 7644-OMVMY Male   0             Yes     Yes        0      Yes         \n",
       "6   936 5709-LVOEQ Female 0             Yes     Yes        0      Yes         \n",
       "7   753 3115-CZMZD Male   0             No      Yes        0      Yes         \n",
       "8  4380 2520-SGTTA Female 0             Yes     Yes        0      Yes         \n",
       "9   488 4472-LVYGI Female 0             Yes     Yes        0      No          \n",
       "10 1082 4367-NUYAO Male   0             Yes     Yes        0      Yes         \n",
       "11 1654 2967-MXRAV Male   0             Yes     Yes        1      Yes         \n",
       "12 1151 8992-CEUEN Female 0             No      No         1      Yes         \n",
       "13 6489 9318-NKNFC Male   0             No      No         1      Yes         \n",
       "14 4939 9975-SKRNR Male   0             No      No         1      Yes         \n",
       "15  583 1423-BMPBQ Female 0             Yes     Yes        1      Yes         \n",
       "16 1733 1015-OWJKI Male   0             No      No         1      Yes         \n",
       "17 4348 6121-VZNQB Female 0             No      No         1      Yes         \n",
       "18 3110 6569-KTMDU Female 0             No      No         1      Yes         \n",
       "19 5336 9441-QHEVC Male   0             No      No         1      Yes         \n",
       "20  367 7302-ZHMHP Female 0             No      No         1      Yes         \n",
       "21 3313 4232-JGKIY Male   0             No      No         1      Yes         \n",
       "22 4392 3373-YZZYM Male   0             Yes     Yes        1      Yes         \n",
       "23 2989 3308-MHOOC Male   0             No      Yes        1      Yes         \n",
       "24 1816 1663-MHLHE Male   0             No      No         1      Yes         \n",
       "25 6251 9374-YOLBJ Female 0             Yes     Yes        1      Yes         \n",
       "26 5646 5510-BOIUJ Male   0             No      Yes        1      Yes         \n",
       "27  310 1098-TDVUQ Female 0             No      No         1      Yes         \n",
       "   MultipleLines    InternetService ⋯ TechSupport         StreamingTV        \n",
       "1  Yes              DSL             ⋯ Yes                 No                 \n",
       "2  No phone service DSL             ⋯ Yes                 Yes                \n",
       "3  Yes              No              ⋯ No internet service No internet service\n",
       "4  No               No              ⋯ No internet service No internet service\n",
       "5  No               No              ⋯ No internet service No internet service\n",
       "6  No               DSL             ⋯ No                  Yes                \n",
       "7  No               No              ⋯ No internet service No internet service\n",
       "8  No               No              ⋯ No internet service No internet service\n",
       "9  No phone service DSL             ⋯ Yes                 Yes                \n",
       "10 Yes              No              ⋯ No internet service No internet service\n",
       "11 No               No              ⋯ No internet service No internet service\n",
       "12 No               No              ⋯ No internet service No internet service\n",
       "13 No               No              ⋯ No internet service No internet service\n",
       "14 No               No              ⋯ No internet service No internet service\n",
       "15 No               No              ⋯ No internet service No internet service\n",
       "16 No               No              ⋯ No internet service No internet service\n",
       "17 No               No              ⋯ No internet service No internet service\n",
       "18 No               No              ⋯ No internet service No internet service\n",
       "19 No               No              ⋯ No internet service No internet service\n",
       "20 No               No              ⋯ No internet service No internet service\n",
       "21 No               No              ⋯ No internet service No internet service\n",
       "22 No               No              ⋯ No internet service No internet service\n",
       "23 No               No              ⋯ No internet service No internet service\n",
       "24 No               No              ⋯ No internet service No internet service\n",
       "25 No               No              ⋯ No internet service No internet service\n",
       "26 No               No              ⋯ No internet service No internet service\n",
       "27 No               No              ⋯ No internet service No internet service\n",
       "   StreamingMovies     Contract       PaperlessBilling\n",
       "1  No                  Two year       Yes             \n",
       "2  No                  Two year       No              \n",
       "3  No internet service Two year       No              \n",
       "4  No internet service One year       Yes             \n",
       "5  No internet service Two year       No              \n",
       "6  Yes                 Two year       No              \n",
       "7  No internet service Two year       No              \n",
       "8  No internet service Two year       No              \n",
       "9  No                  Two year       Yes             \n",
       "10 No internet service Two year       No              \n",
       "11 No internet service One year       No              \n",
       "12 No internet service Month-to-month No              \n",
       "13 No internet service Month-to-month Yes             \n",
       "14 No internet service Month-to-month No              \n",
       "15 No internet service Month-to-month Yes             \n",
       "16 No internet service Month-to-month No              \n",
       "17 No internet service Month-to-month Yes             \n",
       "18 No internet service Month-to-month No              \n",
       "19 No internet service Month-to-month No              \n",
       "20 No internet service Month-to-month No              \n",
       "21 No internet service Month-to-month No              \n",
       "22 No internet service Month-to-month No              \n",
       "23 No internet service Month-to-month Yes             \n",
       "24 No internet service Month-to-month No              \n",
       "25 No internet service Month-to-month No              \n",
       "26 No internet service Month-to-month No              \n",
       "27 No internet service Month-to-month Yes             \n",
       "   PaymentMethod             MonthlyCharges TotalCharges Churn TotalChargesNorm\n",
       "1  Bank transfer (automatic) 61.9            0.00        No    0.000000000     \n",
       "2  Credit card (automatic)   56.05           0.00        No    0.000000000     \n",
       "3  Mailed check              25.35           0.00        No    0.000000000     \n",
       "4  Mailed check              19.7            0.00        No    0.000000000     \n",
       "5  Mailed check              19.85           0.00        No    0.000000000     \n",
       "6  Mailed check              80.85           0.00        No    0.000000000     \n",
       "7  Mailed check              20.25           0.00        No    0.000000000     \n",
       "8  Mailed check              20.0            0.00        No    0.000000000     \n",
       "9  Bank transfer (automatic) 52.55           0.00        No    0.000000000     \n",
       "10 Mailed check              25.75           0.00        No    0.000000000     \n",
       "11 Mailed check              18.8           18.80        No    0.002164702     \n",
       "12 Electronic check          18.85          18.85        No    0.002170459     \n",
       "13 Mailed check              18.85          18.85        Yes   0.002170459     \n",
       "14 Mailed check              18.9           18.90        No    0.002176216     \n",
       "15 Mailed check              19.0           19.00        No    0.002187730     \n",
       "16 Mailed check              19.05          19.05        No    0.002193487     \n",
       "17 Mailed check              19.1           19.10        Yes   0.002199245     \n",
       "18 Mailed check              19.1           19.10        No    0.002199245     \n",
       "19 Mailed check              19.1           19.10        No    0.002199245     \n",
       "20 Mailed check              19.15          19.15        No    0.002205002     \n",
       "21 Electronic check          19.2           19.20        No    0.002210759     \n",
       "22 Mailed check              19.2           19.20        No    0.002210759     \n",
       "23 Mailed check              19.2           19.20        No    0.002210759     \n",
       "24 Mailed check              19.2           19.20        No    0.002210759     \n",
       "25 Electronic check          19.25          19.25        No    0.002216516     \n",
       "26 Mailed check              19.25          19.25        Yes   0.002216516     \n",
       "27 Bank transfer (automatic) 19.25          19.25        No    0.002216516     "
      ]
     },
     "metadata": {},
     "output_type": "display_data"
    }
   ],
   "source": [
    "churn_data %>% slice_max(TotalCharges, n=5) # check the last columns\n",
    "churn_data %>% slice_min(TotalCharges, n=25) # check the last columns"
   ]
  },
  {
   "cell_type": "code",
   "execution_count": 20,
   "id": "9868c3cd",
   "metadata": {},
   "outputs": [
    {
     "data": {
      "text/plain": [
       "   Min. 1st Qu.  Median    Mean 3rd Qu.    Max. \n",
       "0.00000 0.04624 0.16219 0.26417 0.44232 1.00000 "
      ]
     },
     "metadata": {},
     "output_type": "display_data"
    }
   ],
   "source": [
    "#summary for the last field\n",
    "summary(churn_data$TotalChargesNorm)\n",
    "\n",
    "#its from 1 to zero"
   ]
  },
  {
   "cell_type": "code",
   "execution_count": 21,
   "id": "6f56be07",
   "metadata": {},
   "outputs": [
    {
     "data": {
      "image/png": "[encoded data removed]",
      "text/plain": [
       "plot without title"
      ]
     },
     "metadata": {
      "image/png": {
       "height": 420,
       "width": 420
      }
     },
     "output_type": "display_data"
    }
   ],
   "source": [
    "# And lets make a histogram\n",
    "ggplot(churn_data, aes(x=TotalChargesNorm)) + geom_histogram(bins = 15)"
   ]
  },
  {
   "cell_type": "markdown",
   "id": "0ff440ed",
   "metadata": {},
   "source": [
    "We observe identical histograms even though the `TotalCharges / TotalChargesNorm` axis is rescaled.\n",
    "\n",
    "Therefore we show that **normalization didn't affect the distribution properties** of the rescaled data."
   ]
  },
  {
   "cell_type": "markdown",
   "id": "fe53b89b",
   "metadata": {},
   "source": [
    "---"
   ]
  },
  {
   "cell_type": "markdown",
   "id": "d43ba05e",
   "metadata": {},
   "source": [
    "## 2.2. Standardization"
   ]
  },
  {
   "cell_type": "markdown",
   "id": "4cb34b1d",
   "metadata": {},
   "source": [
    "### Theory"
   ]
  },
  {
   "cell_type": "markdown",
   "id": "43489cfa",
   "metadata": {},
   "source": [
    "`Standardization` is another scaling technique where the values are centered around the mean with a unit standard deviation. This means that the mean of the attribute becomes zero and the resultant distribution has a unit standard deviation.\n",
    "\n",
    "Here’s the formula for standardization:"
   ]
  },
  {
   "cell_type": "markdown",
   "id": "84e88ce5",
   "metadata": {},
   "source": [
    "<center>$X' = \\frac{X-\\mu}{\\sigma}$</center>"
   ]
  },
  {
   "cell_type": "markdown",
   "id": "a212f1bc",
   "metadata": {},
   "source": [
    "Feature scaling: $\\mu$ is the mean of the feature values and Feature scaling: $\\sigma$ is the standard deviation of the feature values. Note that in this case, the values are not restricted to a particular range.\n",
    "\n",
    "Now, the big question in your mind must be when should we use normalization and when should we use standardization?"
   ]
  },
  {
   "cell_type": "markdown",
   "id": "8922ef14",
   "metadata": {},
   "source": [
    "Normalization vs. standardization is an eternal question among machine learning newcomers. Let me elaborate on the answer in this section.\n",
    "\n",
    "Normalization is good to use when you know that the distribution of your data does not follow a Gaussian distribution. This can be useful in algorithms that do not assume any distribution of the data like K-Nearest Neighbors and Neural Networks.\n",
    "\n",
    "Standardization, on the other hand, can be helpful in cases where the data follows a Gaussian distribution. However, this does not have to be necessarily true. Also, unlike normalization, standardization does not have a bounding range. So, even if you have outliers in your data, they will not be affected by standardization.\n",
    "However, at the end of the day, the choice of using normalization or standardization will depend on your problem and the machine learning algorithm you are using. There is no hard and fast rule to tell you when to normalize or standardize your data. You can always start by fitting your model to raw, normalized and standardized data and compare the performance for best results.\n",
    "\n",
    "It is a good practice to fit the scaler on the training data and then use it to transform the testing data. This would avoid any data leakage during the model testing process. Also, the scaling of target values is generally not required."
   ]
  },
  {
   "cell_type": "markdown",
   "id": "821847c9",
   "metadata": {},
   "source": [
    "### Practice"
   ]
  },
  {
   "cell_type": "markdown",
   "id": "96915c1c",
   "metadata": {},
   "source": [
    "Lets write own function for standartization:"
   ]
  },
  {
   "cell_type": "code",
   "execution_count": 28,
   "id": "b58e3896",
   "metadata": {},
   "outputs": [],
   "source": [
    "# if sdev is NA - calculate start deviation from data\n",
    "\n",
    "standartize <- function(data) {    \n",
    "    sdev = sd(data, na.rm = TRUE)  \n",
    "    data <- (data - mean(data, na.rm = T)) / sdev\n",
    "    return (data)    \n",
    "}"
   ]
  },
  {
   "cell_type": "code",
   "execution_count": 29,
   "id": "baf812a1-fd63-4a90-b34e-1f9fc0e45a42",
   "metadata": {},
   "outputs": [],
   "source": [
    "churn_data <- churn_data %>%\n",
    "    mutate(TotalChargesStand = standartize(TotalCharges))"
   ]
  },
  {
   "cell_type": "markdown",
   "id": "9aec8840-63f3-413b-ac64-cd211638862c",
   "metadata": {},
   "source": [
    "Lets compare data distribution fot normalization and standartization."
   ]
  },
  {
   "cell_type": "code",
   "execution_count": 38,
   "id": "abe91a15-747d-463e-8426-a1cc391fddcf",
   "metadata": {},
   "outputs": [
    {
     "name": "stderr",
     "output_type": "stream",
     "text": [
      "Updating HTML index of packages in '.Library'\n",
      "\n",
      "Making 'packages.html' ...\n",
      " done\n",
      "\n",
      "\n",
      "Attaching package: ‘gridExtra’\n",
      "\n",
      "\n",
      "The following object is masked from ‘package:dplyr’:\n",
      "\n",
      "    combine\n",
      "\n",
      "\n"
     ]
    }
   ],
   "source": [
    "install.packages(\"gridExtra\") # to view 2+ ggplots \n",
    "library(gridExtra)"
   ]
  },
  {
   "cell_type": "code",
   "execution_count": 39,
   "id": "941e3444-2840-4d7b-ae82-92dd6d7faeeb",
   "metadata": {},
   "outputs": [
    {
     "data": {
      "image/png": "[encoded data removed]",
      "text/plain": [
       "plot without title"
      ]
     },
     "metadata": {
      "image/png": {
       "height": 420,
       "width": 420
      }
     },
     "output_type": "display_data"
    }
   ],
   "source": [
    "n_plot <- ggplot(churn_data, aes(x=TotalChargesNorm)) + geom_histogram(bins = 15)\n",
    "s_plot <- ggplot(churn_data, aes(x=TotalChargesStand)) + geom_histogram(bins = 15)\n",
    "grid.arrange(n_plot, s_plot, ncol=2) # from gridExtra\n",
    "# data distribution changed after standartisation scaling"
   ]
  },
  {
   "cell_type": "markdown",
   "id": "a386fda8-5244-4cd3-986e-e799a61ec90e",
   "metadata": {},
   "source": [
    "So, lets use stardart `R` function for scaling and compare results:"
   ]
  },
  {
   "cell_type": "code",
   "execution_count": 36,
   "id": "4750d486-52ec-4e44-b414-dcf349d7ee86",
   "metadata": {},
   "outputs": [],
   "source": [
    "# the next \n",
    "churn_data <- churn_data %>%\n",
    "        mutate(TotalChargesScaled = scale(TotalCharges)) "
   ]
  },
  {
   "cell_type": "code",
   "execution_count": 40,
   "id": "29ce8b8f",
   "metadata": {},
   "outputs": [
    {
     "data": {
      "image/png": "[encoded data removed]",
      "text/plain": [
       "plot without title"
      ]
     },
     "metadata": {
      "image/png": {
       "height": 420,
       "width": 420
      }
     },
     "output_type": "display_data"
    }
   ],
   "source": [
    "s1_plot <- ggplot(churn_data, aes(x=TotalChargesStand)) + geom_histogram(bins = 15)\n",
    "s2_plot <- ggplot(churn_data, aes(x=TotalChargesScaled)) + geom_histogram(bins = 15)\n",
    "grid.arrange(s1_plot, s2_plot, ncol=2) # it looks like we created the same function "
   ]
  },
  {
   "cell_type": "markdown",
   "id": "7efcf8de",
   "metadata": {},
   "source": [
    "Look like default function has the same result as our."
   ]
  },
  {
   "cell_type": "code",
   "execution_count": 38,
   "id": "343f1ccc",
   "metadata": {},
   "outputs": [
    {
     "data": {
      "text/html": [
       "<table class=\"dataframe\">\n",
       "<caption>A data.frame: 6 × 25</caption>\n",
       "<thead>\n",
       "\t<tr><th></th><th scope=col>X</th><th scope=col>customerID</th><th scope=col>gender</th><th scope=col>SeniorCitizen</th><th scope=col>Partner</th><th scope=col>Dependents</th><th scope=col>tenure</th><th scope=col>PhoneService</th><th scope=col>MultipleLines</th><th scope=col>InternetService</th><th scope=col>...</th><th scope=col>StreamingMovies</th><th scope=col>Contract</th><th scope=col>PaperlessBilling</th><th scope=col>PaymentMethod</th><th scope=col>MonthlyCharges</th><th scope=col>TotalCharges</th><th scope=col>Churn</th><th scope=col>TotalChargesNorm</th><th scope=col>TotalChargesStand</th><th scope=col>TotalChargesScaled</th></tr>\n",
       "\t<tr><th></th><th scope=col>&lt;int&gt;</th><th scope=col>&lt;chr&gt;</th><th scope=col>&lt;chr&gt;</th><th scope=col>&lt;int&gt;</th><th scope=col>&lt;chr&gt;</th><th scope=col>&lt;chr&gt;</th><th scope=col>&lt;int&gt;</th><th scope=col>&lt;chr&gt;</th><th scope=col>&lt;chr&gt;</th><th scope=col>&lt;chr&gt;</th><th scope=col>...</th><th scope=col>&lt;chr&gt;</th><th scope=col>&lt;chr&gt;</th><th scope=col>&lt;chr&gt;</th><th scope=col>&lt;chr&gt;</th><th scope=col>&lt;chr&gt;</th><th scope=col>&lt;dbl&gt;</th><th scope=col>&lt;chr&gt;</th><th scope=col>&lt;dbl&gt;</th><th scope=col>&lt;dbl&gt;</th><th scope=col>&lt;dbl&gt;</th></tr>\n",
       "</thead>\n",
       "<tbody>\n",
       "\t<tr><th scope=row>1</th><td>1869</td><td>7010-BRBUU</td><td>Male  </td><td>0</td><td>Yes</td><td>Yes</td><td>72</td><td>Yes</td><td>Yes             </td><td>No         </td><td>...</td><td>No internet service</td><td>Two year      </td><td>No </td><td>Credit card (automatic)  </td><td>24.1 </td><td>1734.65</td><td>No </td><td>0.19973402</td><td>-0.2460559</td><td>-0.2460559</td></tr>\n",
       "\t<tr><th scope=row>2</th><td>4528</td><td>9688-YGXVR</td><td>Female</td><td>0</td><td>No </td><td>No </td><td>44</td><td>Yes</td><td>No              </td><td>Fiber optic</td><td>...</td><td>No                 </td><td>Month-to-month</td><td>Yes</td><td>Credit card (automatic)  </td><td>88.15</td><td>3973.20</td><td>No </td><td>0.45748895</td><td> 0.7382838</td><td> 0.7382838</td></tr>\n",
       "\t<tr><th scope=row>3</th><td>6344</td><td>9286-DOJGF</td><td>Female</td><td>1</td><td>Yes</td><td>No </td><td>38</td><td>Yes</td><td>Yes             </td><td>Fiber optic</td><td>...</td><td>No                 </td><td>Month-to-month</td><td>Yes</td><td>Bank transfer (automatic)</td><td>74.95</td><td>2869.85</td><td>Yes</td><td>0.33044515</td><td> 0.2531165</td><td> 0.2531165</td></tr>\n",
       "\t<tr><th scope=row>4</th><td>6739</td><td>6994-KERXL</td><td>Male  </td><td>0</td><td>No </td><td>No </td><td> 4</td><td>Yes</td><td>No              </td><td>DSL        </td><td>...</td><td>Yes                </td><td>Month-to-month</td><td>Yes</td><td>Electronic check         </td><td>55.9 </td><td> 238.50</td><td>No </td><td>0.02746177</td><td>-0.9039460</td><td>-0.9039460</td></tr>\n",
       "\t<tr><th scope=row>5</th><td> 432</td><td>2181-UAESM</td><td>Male  </td><td>0</td><td>No </td><td>No </td><td> 2</td><td>Yes</td><td>No              </td><td>DSL        </td><td>...</td><td>No                 </td><td>Month-to-month</td><td>No </td><td>Electronic check         </td><td>53.45</td><td> 119.50</td><td>No </td><td>0.01375967</td><td>-0.9562729</td><td>-0.9562729</td></tr>\n",
       "\t<tr><th scope=row>6</th><td>2215</td><td>4312-GVYNH</td><td>Female</td><td>0</td><td>Yes</td><td>No </td><td>70</td><td>No </td><td>No phone service</td><td>DSL        </td><td>...</td><td>Yes                </td><td>Two year      </td><td>Yes</td><td>Bank transfer (automatic)</td><td>49.85</td><td>3370.20</td><td>No </td><td>0.38805730</td><td> 0.4731314</td><td> 0.4731314</td></tr>\n",
       "</tbody>\n",
       "</table>\n"
      ],
      "text/latex": [
       "A data.frame: 6 × 25\n",
       "\\begin{tabular}{r|lllllllllllllllllllll}\n",
       "  & X & customerID & gender & SeniorCitizen & Partner & Dependents & tenure & PhoneService & MultipleLines & InternetService & ... & StreamingMovies & Contract & PaperlessBilling & PaymentMethod & MonthlyCharges & TotalCharges & Churn & TotalChargesNorm & TotalChargesStand & TotalChargesScaled\\\\\n",
       "  & <int> & <chr> & <chr> & <int> & <chr> & <chr> & <int> & <chr> & <chr> & <chr> & ... & <chr> & <chr> & <chr> & <chr> & <chr> & <dbl> & <chr> & <dbl> & <dbl> & <dbl>\\\\\n",
       "\\hline\n",
       "\t1 & 1869 & 7010-BRBUU & Male   & 0 & Yes & Yes & 72 & Yes & Yes              & No          & ... & No internet service & Two year       & No  & Credit card (automatic)   & 24.1  & 1734.65 & No  & 0.19973402 & -0.2460559 & -0.2460559\\\\\n",
       "\t2 & 4528 & 9688-YGXVR & Female & 0 & No  & No  & 44 & Yes & No               & Fiber optic & ... & No                  & Month-to-month & Yes & Credit card (automatic)   & 88.15 & 3973.20 & No  & 0.45748895 &  0.7382838 &  0.7382838\\\\\n",
       "\t3 & 6344 & 9286-DOJGF & Female & 1 & Yes & No  & 38 & Yes & Yes              & Fiber optic & ... & No                  & Month-to-month & Yes & Bank transfer (automatic) & 74.95 & 2869.85 & Yes & 0.33044515 &  0.2531165 &  0.2531165\\\\\n",
       "\t4 & 6739 & 6994-KERXL & Male   & 0 & No  & No  &  4 & Yes & No               & DSL         & ... & Yes                 & Month-to-month & Yes & Electronic check          & 55.9  &  238.50 & No  & 0.02746177 & -0.9039460 & -0.9039460\\\\\n",
       "\t5 &  432 & 2181-UAESM & Male   & 0 & No  & No  &  2 & Yes & No               & DSL         & ... & No                  & Month-to-month & No  & Electronic check          & 53.45 &  119.50 & No  & 0.01375967 & -0.9562729 & -0.9562729\\\\\n",
       "\t6 & 2215 & 4312-GVYNH & Female & 0 & Yes & No  & 70 & No  & No phone service & DSL         & ... & Yes                 & Two year       & Yes & Bank transfer (automatic) & 49.85 & 3370.20 & No  & 0.38805730 &  0.4731314 &  0.4731314\\\\\n",
       "\\end{tabular}\n"
      ],
      "text/markdown": [
       "\n",
       "A data.frame: 6 × 25\n",
       "\n",
       "| <!--/--> | X &lt;int&gt; | customerID &lt;chr&gt; | gender &lt;chr&gt; | SeniorCitizen &lt;int&gt; | Partner &lt;chr&gt; | Dependents &lt;chr&gt; | tenure &lt;int&gt; | PhoneService &lt;chr&gt; | MultipleLines &lt;chr&gt; | InternetService &lt;chr&gt; | ... ... | StreamingMovies &lt;chr&gt; | Contract &lt;chr&gt; | PaperlessBilling &lt;chr&gt; | PaymentMethod &lt;chr&gt; | MonthlyCharges &lt;chr&gt; | TotalCharges &lt;dbl&gt; | Churn &lt;chr&gt; | TotalChargesNorm &lt;dbl&gt; | TotalChargesStand &lt;dbl&gt; | TotalChargesScaled &lt;dbl&gt; |\n",
       "|---|---|---|---|---|---|---|---|---|---|---|---|---|---|---|---|---|---|---|---|---|---|\n",
       "| 1 | 1869 | 7010-BRBUU | Male   | 0 | Yes | Yes | 72 | Yes | Yes              | No          | ... | No internet service | Two year       | No  | Credit card (automatic)   | 24.1  | 1734.65 | No  | 0.19973402 | -0.2460559 | -0.2460559 |\n",
       "| 2 | 4528 | 9688-YGXVR | Female | 0 | No  | No  | 44 | Yes | No               | Fiber optic | ... | No                  | Month-to-month | Yes | Credit card (automatic)   | 88.15 | 3973.20 | No  | 0.45748895 |  0.7382838 |  0.7382838 |\n",
       "| 3 | 6344 | 9286-DOJGF | Female | 1 | Yes | No  | 38 | Yes | Yes              | Fiber optic | ... | No                  | Month-to-month | Yes | Bank transfer (automatic) | 74.95 | 2869.85 | Yes | 0.33044515 |  0.2531165 |  0.2531165 |\n",
       "| 4 | 6739 | 6994-KERXL | Male   | 0 | No  | No  |  4 | Yes | No               | DSL         | ... | Yes                 | Month-to-month | Yes | Electronic check          | 55.9  |  238.50 | No  | 0.02746177 | -0.9039460 | -0.9039460 |\n",
       "| 5 |  432 | 2181-UAESM | Male   | 0 | No  | No  |  2 | Yes | No               | DSL         | ... | No                  | Month-to-month | No  | Electronic check          | 53.45 |  119.50 | No  | 0.01375967 | -0.9562729 | -0.9562729 |\n",
       "| 6 | 2215 | 4312-GVYNH | Female | 0 | Yes | No  | 70 | No  | No phone service | DSL         | ... | Yes                 | Two year       | Yes | Bank transfer (automatic) | 49.85 | 3370.20 | No  | 0.38805730 |  0.4731314 |  0.4731314 |\n",
       "\n"
      ],
      "text/plain": [
       "  X    customerID gender SeniorCitizen Partner Dependents tenure PhoneService\n",
       "1 1869 7010-BRBUU Male   0             Yes     Yes        72     Yes         \n",
       "2 4528 9688-YGXVR Female 0             No      No         44     Yes         \n",
       "3 6344 9286-DOJGF Female 1             Yes     No         38     Yes         \n",
       "4 6739 6994-KERXL Male   0             No      No          4     Yes         \n",
       "5  432 2181-UAESM Male   0             No      No          2     Yes         \n",
       "6 2215 4312-GVYNH Female 0             Yes     No         70     No          \n",
       "  MultipleLines    InternetService ... StreamingMovies     Contract      \n",
       "1 Yes              No              ... No internet service Two year      \n",
       "2 No               Fiber optic     ... No                  Month-to-month\n",
       "3 Yes              Fiber optic     ... No                  Month-to-month\n",
       "4 No               DSL             ... Yes                 Month-to-month\n",
       "5 No               DSL             ... No                  Month-to-month\n",
       "6 No phone service DSL             ... Yes                 Two year      \n",
       "  PaperlessBilling PaymentMethod             MonthlyCharges TotalCharges Churn\n",
       "1 No               Credit card (automatic)   24.1           1734.65      No   \n",
       "2 Yes              Credit card (automatic)   88.15          3973.20      No   \n",
       "3 Yes              Bank transfer (automatic) 74.95          2869.85      Yes  \n",
       "4 Yes              Electronic check          55.9            238.50      No   \n",
       "5 No               Electronic check          53.45           119.50      No   \n",
       "6 Yes              Bank transfer (automatic) 49.85          3370.20      No   \n",
       "  TotalChargesNorm TotalChargesStand TotalChargesScaled\n",
       "1 0.19973402       -0.2460559        -0.2460559        \n",
       "2 0.45748895        0.7382838         0.7382838        \n",
       "3 0.33044515        0.2531165         0.2531165        \n",
       "4 0.02746177       -0.9039460        -0.9039460        \n",
       "5 0.01375967       -0.9562729        -0.9562729        \n",
       "6 0.38805730        0.4731314         0.4731314        "
      ]
     },
     "metadata": {},
     "output_type": "display_data"
    }
   ],
   "source": [
    "head(churn_data) # check last two columns, its the same"
   ]
  },
  {
   "cell_type": "markdown",
   "id": "60878b30-8917-41c5-8117-287dadfd90a0",
   "metadata": {},
   "source": [
    "---"
   ]
  },
  {
   "cell_type": "markdown",
   "id": "9e156bdd",
   "metadata": {},
   "source": [
    "### Scaling for train/test/validation/prediction"
   ]
  },
  {
   "cell_type": "markdown",
   "id": "9ad537b7",
   "metadata": {},
   "source": [
    "If you use scaling initial parameters should be remembered somewhere for future prediction data and reimplemented for new/test/validation/prediction dataset\n",
    "\n",
    "For experiment lets split our dataset for train and test:"
   ]
  },
  {
   "cell_type": "code",
   "execution_count": 41,
   "id": "311f32aa",
   "metadata": {},
   "outputs": [
    {
     "name": "stderr",
     "output_type": "stream",
     "text": [
      "Loading required package: lattice\n",
      "\n"
     ]
    },
    {
     "data": {
      "text/html": [
       "5986"
      ],
      "text/latex": [
       "5986"
      ],
      "text/markdown": [
       "5986"
      ],
      "text/plain": [
       "[1] 5986"
      ]
     },
     "metadata": {},
     "output_type": "display_data"
    },
    {
     "data": {
      "text/html": [
       "4191"
      ],
      "text/latex": [
       "4191"
      ],
      "text/markdown": [
       "4191"
      ],
      "text/plain": [
       "[1] 4191"
      ]
     },
     "metadata": {},
     "output_type": "display_data"
    },
    {
     "data": {
      "text/html": [
       "1795"
      ],
      "text/latex": [
       "1795"
      ],
      "text/markdown": [
       "1795"
      ],
      "text/plain": [
       "[1] 1795"
      ]
     },
     "metadata": {},
     "output_type": "display_data"
    }
   ],
   "source": [
    "library(caret)\n",
    "set.seed(2021)\n",
    " \n",
    "index = createDataPartition(churn_data$Churn, p = 0.70, list = FALSE)\n",
    "train = churn_data[index, ]\n",
    "test = churn_data[-index, ]\n",
    "\n",
    "nrow(churn_data)\n",
    "nrow(train)\n",
    "nrow(test)"
   ]
  },
  {
   "cell_type": "markdown",
   "id": "40d3b89c",
   "metadata": {},
   "source": [
    "Lets rescale `TotalCharges` data for training set:"
   ]
  },
  {
   "cell_type": "code",
   "execution_count": 42,
   "id": "499a7b80",
   "metadata": {},
   "outputs": [
    {
     "data": {
      "text/html": [
       "<table class=\"dataframe\">\n",
       "<caption>A data.frame: 6 × 25</caption>\n",
       "<thead>\n",
       "\t<tr><th></th><th scope=col>X</th><th scope=col>customerID</th><th scope=col>gender</th><th scope=col>SeniorCitizen</th><th scope=col>Partner</th><th scope=col>Dependents</th><th scope=col>tenure</th><th scope=col>PhoneService</th><th scope=col>MultipleLines</th><th scope=col>InternetService</th><th scope=col>⋯</th><th scope=col>StreamingMovies</th><th scope=col>Contract</th><th scope=col>PaperlessBilling</th><th scope=col>PaymentMethod</th><th scope=col>MonthlyCharges</th><th scope=col>TotalCharges</th><th scope=col>Churn</th><th scope=col>TotalChargesNorm</th><th scope=col>TotalChargesStand</th><th scope=col>TotalChargesScaled</th></tr>\n",
       "\t<tr><th></th><th scope=col>&lt;int&gt;</th><th scope=col>&lt;chr&gt;</th><th scope=col>&lt;chr&gt;</th><th scope=col>&lt;int&gt;</th><th scope=col>&lt;chr&gt;</th><th scope=col>&lt;chr&gt;</th><th scope=col>&lt;int&gt;</th><th scope=col>&lt;chr&gt;</th><th scope=col>&lt;chr&gt;</th><th scope=col>&lt;chr&gt;</th><th scope=col>⋯</th><th scope=col>&lt;chr&gt;</th><th scope=col>&lt;chr&gt;</th><th scope=col>&lt;chr&gt;</th><th scope=col>&lt;chr&gt;</th><th scope=col>&lt;chr&gt;</th><th scope=col>&lt;dbl&gt;</th><th scope=col>&lt;chr&gt;</th><th scope=col>&lt;dbl&gt;</th><th scope=col>&lt;dbl&gt;</th><th scope=col>&lt;dbl[,1]&gt;</th></tr>\n",
       "</thead>\n",
       "<tbody>\n",
       "\t<tr><th scope=row>1</th><td>1869</td><td>7010-BRBUU</td><td>Male  </td><td>0</td><td>Yes</td><td>Yes</td><td>72</td><td>Yes</td><td>Yes             </td><td>No         </td><td>⋯</td><td>No internet service</td><td>Two year      </td><td>No </td><td>Credit card (automatic)</td><td>24.1 </td><td>1734.65</td><td>No </td><td>0.19973402</td><td>-0.2460559</td><td>-0.2516955</td></tr>\n",
       "\t<tr><th scope=row>5</th><td> 432</td><td>2181-UAESM</td><td>Male  </td><td>0</td><td>No </td><td>No </td><td> 2</td><td>Yes</td><td>No              </td><td>DSL        </td><td>⋯</td><td>No                 </td><td>Month-to-month</td><td>No </td><td>Electronic check       </td><td>53.45</td><td> 119.50</td><td>No </td><td>0.01375967</td><td>-0.9562729</td><td>-0.9584688</td></tr>\n",
       "\t<tr><th scope=row>9</th><td>1480</td><td>8898-KASCD</td><td>Male  </td><td>0</td><td>No </td><td>No </td><td>39</td><td>No </td><td>No phone service</td><td>DSL        </td><td>⋯</td><td>No                 </td><td>One year      </td><td>No </td><td>Mailed check           </td><td>35.55</td><td>1309.15</td><td>No </td><td>0.15074037</td><td>-0.4331576</td><td>-0.4378900</td></tr>\n",
       "\t<tr><th scope=row>10</th><td>5137</td><td>8016-NCFVO</td><td>Male  </td><td>1</td><td>No </td><td>No </td><td>55</td><td>Yes</td><td>Yes             </td><td>Fiber optic</td><td>⋯</td><td>Yes                </td><td>Month-to-month</td><td>Yes</td><td>Electronic check       </td><td>116.5</td><td>6382.55</td><td>No </td><td>0.73491042</td><td> 1.7977280</td><td> 1.7821786</td></tr>\n",
       "\t<tr><th scope=row>11</th><td>3169</td><td>4578-PHJYZ</td><td>Male  </td><td>0</td><td>Yes</td><td>Yes</td><td>52</td><td>Yes</td><td>No              </td><td>DSL        </td><td>⋯</td><td>No                 </td><td>One year      </td><td>Yes</td><td>Electronic check       </td><td>68.75</td><td>3482.85</td><td>No </td><td>0.40102823</td><td> 0.5226661</td><td> 0.5132992</td></tr>\n",
       "\t<tr><th scope=row>12</th><td>4653</td><td>2091-MJTFX</td><td>Female</td><td>0</td><td>Yes</td><td>Yes</td><td>30</td><td>No </td><td>No phone service</td><td>DSL        </td><td>⋯</td><td>Yes                </td><td>Month-to-month</td><td>No </td><td>Credit card (automatic)</td><td>51.2 </td><td>1561.50</td><td>Yes</td><td>0.17979689</td><td>-0.3221938</td><td>-0.3274642</td></tr>\n",
       "</tbody>\n",
       "</table>\n"
      ],
      "text/latex": [
       "A data.frame: 6 × 25\n",
       "\\begin{tabular}{r|lllllllllllllllllllll}\n",
       "  & X & customerID & gender & SeniorCitizen & Partner & Dependents & tenure & PhoneService & MultipleLines & InternetService & ⋯ & StreamingMovies & Contract & PaperlessBilling & PaymentMethod & MonthlyCharges & TotalCharges & Churn & TotalChargesNorm & TotalChargesStand & TotalChargesScaled\\\\\n",
       "  & <int> & <chr> & <chr> & <int> & <chr> & <chr> & <int> & <chr> & <chr> & <chr> & ⋯ & <chr> & <chr> & <chr> & <chr> & <chr> & <dbl> & <chr> & <dbl> & <dbl> & <dbl{[},1{]}>\\\\\n",
       "\\hline\n",
       "\t1 & 1869 & 7010-BRBUU & Male   & 0 & Yes & Yes & 72 & Yes & Yes              & No          & ⋯ & No internet service & Two year       & No  & Credit card (automatic) & 24.1  & 1734.65 & No  & 0.19973402 & -0.2460559 & -0.2516955\\\\\n",
       "\t5 &  432 & 2181-UAESM & Male   & 0 & No  & No  &  2 & Yes & No               & DSL         & ⋯ & No                  & Month-to-month & No  & Electronic check        & 53.45 &  119.50 & No  & 0.01375967 & -0.9562729 & -0.9584688\\\\\n",
       "\t9 & 1480 & 8898-KASCD & Male   & 0 & No  & No  & 39 & No  & No phone service & DSL         & ⋯ & No                  & One year       & No  & Mailed check            & 35.55 & 1309.15 & No  & 0.15074037 & -0.4331576 & -0.4378900\\\\\n",
       "\t10 & 5137 & 8016-NCFVO & Male   & 1 & No  & No  & 55 & Yes & Yes              & Fiber optic & ⋯ & Yes                 & Month-to-month & Yes & Electronic check        & 116.5 & 6382.55 & No  & 0.73491042 &  1.7977280 &  1.7821786\\\\\n",
       "\t11 & 3169 & 4578-PHJYZ & Male   & 0 & Yes & Yes & 52 & Yes & No               & DSL         & ⋯ & No                  & One year       & Yes & Electronic check        & 68.75 & 3482.85 & No  & 0.40102823 &  0.5226661 &  0.5132992\\\\\n",
       "\t12 & 4653 & 2091-MJTFX & Female & 0 & Yes & Yes & 30 & No  & No phone service & DSL         & ⋯ & Yes                 & Month-to-month & No  & Credit card (automatic) & 51.2  & 1561.50 & Yes & 0.17979689 & -0.3221938 & -0.3274642\\\\\n",
       "\\end{tabular}\n"
      ],
      "text/markdown": [
       "\n",
       "A data.frame: 6 × 25\n",
       "\n",
       "| <!--/--> | X &lt;int&gt; | customerID &lt;chr&gt; | gender &lt;chr&gt; | SeniorCitizen &lt;int&gt; | Partner &lt;chr&gt; | Dependents &lt;chr&gt; | tenure &lt;int&gt; | PhoneService &lt;chr&gt; | MultipleLines &lt;chr&gt; | InternetService &lt;chr&gt; | ⋯ ⋯ | StreamingMovies &lt;chr&gt; | Contract &lt;chr&gt; | PaperlessBilling &lt;chr&gt; | PaymentMethod &lt;chr&gt; | MonthlyCharges &lt;chr&gt; | TotalCharges &lt;dbl&gt; | Churn &lt;chr&gt; | TotalChargesNorm &lt;dbl&gt; | TotalChargesStand &lt;dbl&gt; | TotalChargesScaled &lt;dbl[,1]&gt; |\n",
       "|---|---|---|---|---|---|---|---|---|---|---|---|---|---|---|---|---|---|---|---|---|---|\n",
       "| 1 | 1869 | 7010-BRBUU | Male   | 0 | Yes | Yes | 72 | Yes | Yes              | No          | ⋯ | No internet service | Two year       | No  | Credit card (automatic) | 24.1  | 1734.65 | No  | 0.19973402 | -0.2460559 | -0.2516955 |\n",
       "| 5 |  432 | 2181-UAESM | Male   | 0 | No  | No  |  2 | Yes | No               | DSL         | ⋯ | No                  | Month-to-month | No  | Electronic check        | 53.45 |  119.50 | No  | 0.01375967 | -0.9562729 | -0.9584688 |\n",
       "| 9 | 1480 | 8898-KASCD | Male   | 0 | No  | No  | 39 | No  | No phone service | DSL         | ⋯ | No                  | One year       | No  | Mailed check            | 35.55 | 1309.15 | No  | 0.15074037 | -0.4331576 | -0.4378900 |\n",
       "| 10 | 5137 | 8016-NCFVO | Male   | 1 | No  | No  | 55 | Yes | Yes              | Fiber optic | ⋯ | Yes                 | Month-to-month | Yes | Electronic check        | 116.5 | 6382.55 | No  | 0.73491042 |  1.7977280 |  1.7821786 |\n",
       "| 11 | 3169 | 4578-PHJYZ | Male   | 0 | Yes | Yes | 52 | Yes | No               | DSL         | ⋯ | No                  | One year       | Yes | Electronic check        | 68.75 | 3482.85 | No  | 0.40102823 |  0.5226661 |  0.5132992 |\n",
       "| 12 | 4653 | 2091-MJTFX | Female | 0 | Yes | Yes | 30 | No  | No phone service | DSL         | ⋯ | Yes                 | Month-to-month | No  | Credit card (automatic) | 51.2  | 1561.50 | Yes | 0.17979689 | -0.3221938 | -0.3274642 |\n",
       "\n"
      ],
      "text/plain": [
       "   X    customerID gender SeniorCitizen Partner Dependents tenure PhoneService\n",
       "1  1869 7010-BRBUU Male   0             Yes     Yes        72     Yes         \n",
       "5   432 2181-UAESM Male   0             No      No          2     Yes         \n",
       "9  1480 8898-KASCD Male   0             No      No         39     No          \n",
       "10 5137 8016-NCFVO Male   1             No      No         55     Yes         \n",
       "11 3169 4578-PHJYZ Male   0             Yes     Yes        52     Yes         \n",
       "12 4653 2091-MJTFX Female 0             Yes     Yes        30     No          \n",
       "   MultipleLines    InternetService ⋯ StreamingMovies     Contract      \n",
       "1  Yes              No              ⋯ No internet service Two year      \n",
       "5  No               DSL             ⋯ No                  Month-to-month\n",
       "9  No phone service DSL             ⋯ No                  One year      \n",
       "10 Yes              Fiber optic     ⋯ Yes                 Month-to-month\n",
       "11 No               DSL             ⋯ No                  One year      \n",
       "12 No phone service DSL             ⋯ Yes                 Month-to-month\n",
       "   PaperlessBilling PaymentMethod           MonthlyCharges TotalCharges Churn\n",
       "1  No               Credit card (automatic) 24.1           1734.65      No   \n",
       "5  No               Electronic check        53.45           119.50      No   \n",
       "9  No               Mailed check            35.55          1309.15      No   \n",
       "10 Yes              Electronic check        116.5          6382.55      No   \n",
       "11 Yes              Electronic check        68.75          3482.85      No   \n",
       "12 No               Credit card (automatic) 51.2           1561.50      Yes  \n",
       "   TotalChargesNorm TotalChargesStand TotalChargesScaled\n",
       "1  0.19973402       -0.2460559        -0.2516955        \n",
       "5  0.01375967       -0.9562729        -0.9584688        \n",
       "9  0.15074037       -0.4331576        -0.4378900        \n",
       "10 0.73491042        1.7977280         1.7821786        \n",
       "11 0.40102823        0.5226661         0.5132992        \n",
       "12 0.17979689       -0.3221938        -0.3274642        "
      ]
     },
     "metadata": {},
     "output_type": "display_data"
    }
   ],
   "source": [
    "train <- train %>% mutate(TotalChargesScaled = scale(TotalCharges))\n",
    "head(train) # you can see that TotalChangesStand and TotalChangesScaled are different becouse of changed mean and standart deviation of data"
   ]
  },
  {
   "cell_type": "code",
   "execution_count": 43,
   "id": "36d09476",
   "metadata": {},
   "outputs": [
    {
     "data": {
      "text/html": [
       "2294.22155863682"
      ],
      "text/latex": [
       "2294.22155863682"
      ],
      "text/markdown": [
       "2294.22155863682"
      ],
      "text/plain": [
       "[1] 2294.222"
      ]
     },
     "metadata": {},
     "output_type": "display_data"
    },
    {
     "data": {
      "text/html": [
       "2309.83579098067"
      ],
      "text/latex": [
       "2309.83579098067"
      ],
      "text/markdown": [
       "2309.83579098067"
      ],
      "text/plain": [
       "[1] 2309.836"
      ]
     },
     "metadata": {},
     "output_type": "display_data"
    }
   ],
   "source": [
    "mean(churn_data$TotalCharges, na.rm = T)\n",
    "mean(train$TotalCharges, na.rm = T)\n",
    "# means are different"
   ]
  },
  {
   "cell_type": "code",
   "execution_count": 44,
   "id": "6a78b18f",
   "metadata": {},
   "outputs": [
    {
     "data": {
      "text/html": [
       "2274.16412363895"
      ],
      "text/latex": [
       "2274.16412363895"
      ],
      "text/markdown": [
       "2274.16412363895"
      ],
      "text/plain": [
       "[1] 2274.164"
      ]
     },
     "metadata": {},
     "output_type": "display_data"
    },
    {
     "data": {
      "text/html": [
       "2285.24469608817"
      ],
      "text/latex": [
       "2285.24469608817"
      ],
      "text/markdown": [
       "2285.24469608817"
      ],
      "text/plain": [
       "[1] 2285.245"
      ]
     },
     "metadata": {},
     "output_type": "display_data"
    }
   ],
   "source": [
    "sd(churn_data$TotalCharges, na.rm = T)\n",
    "sd(train$TotalCharges, na.rm = T)\n",
    "\n",
    "# standart deviation are different"
   ]
  },
  {
   "cell_type": "markdown",
   "id": "5667af25",
   "metadata": {},
   "source": [
    "So, for train, test and prediction  data we should use the same `scaling base`, in this case `mean` and `standart deviation`."
   ]
  },
  {
   "cell_type": "markdown",
   "id": "c8b2e74d",
   "metadata": {},
   "source": [
    "Correct data scaling code should be like this:"
   ]
  },
  {
   "cell_type": "code",
   "execution_count": 45,
   "id": "87695a46",
   "metadata": {},
   "outputs": [
    {
     "data": {
      "text/html": [
       "<table class=\"dataframe\">\n",
       "<caption>A data.frame: 6 × 25</caption>\n",
       "<thead>\n",
       "\t<tr><th></th><th scope=col>X</th><th scope=col>customerID</th><th scope=col>gender</th><th scope=col>SeniorCitizen</th><th scope=col>Partner</th><th scope=col>Dependents</th><th scope=col>tenure</th><th scope=col>PhoneService</th><th scope=col>MultipleLines</th><th scope=col>InternetService</th><th scope=col>⋯</th><th scope=col>StreamingMovies</th><th scope=col>Contract</th><th scope=col>PaperlessBilling</th><th scope=col>PaymentMethod</th><th scope=col>MonthlyCharges</th><th scope=col>TotalCharges</th><th scope=col>Churn</th><th scope=col>TotalChargesNorm</th><th scope=col>TotalChargesStand</th><th scope=col>TotalChargesScaled</th></tr>\n",
       "\t<tr><th></th><th scope=col>&lt;int&gt;</th><th scope=col>&lt;chr&gt;</th><th scope=col>&lt;chr&gt;</th><th scope=col>&lt;int&gt;</th><th scope=col>&lt;chr&gt;</th><th scope=col>&lt;chr&gt;</th><th scope=col>&lt;int&gt;</th><th scope=col>&lt;chr&gt;</th><th scope=col>&lt;chr&gt;</th><th scope=col>&lt;chr&gt;</th><th scope=col>⋯</th><th scope=col>&lt;chr&gt;</th><th scope=col>&lt;chr&gt;</th><th scope=col>&lt;chr&gt;</th><th scope=col>&lt;chr&gt;</th><th scope=col>&lt;chr&gt;</th><th scope=col>&lt;dbl&gt;</th><th scope=col>&lt;chr&gt;</th><th scope=col>&lt;dbl&gt;</th><th scope=col>&lt;dbl&gt;</th><th scope=col>&lt;dbl[,1]&gt;</th></tr>\n",
       "</thead>\n",
       "<tbody>\n",
       "\t<tr><th scope=row>1</th><td>6754</td><td>2775-SEFEE</td><td>Male  </td><td>0</td><td>No </td><td>Yes</td><td>0</td><td>Yes</td><td>Yes             </td><td>DSL</td><td>⋯</td><td>No                 </td><td>Two year</td><td>Yes</td><td>Bank transfer (automatic)</td><td>61.9 </td><td>0</td><td>No</td><td>0</td><td>-1.00882</td><td>-1.010761</td></tr>\n",
       "\t<tr><th scope=row>2</th><td>3826</td><td>3213-VVOLG</td><td>Male  </td><td>0</td><td>Yes</td><td>Yes</td><td>0</td><td>Yes</td><td>Yes             </td><td>No </td><td>⋯</td><td>No internet service</td><td>Two year</td><td>No </td><td>Mailed check             </td><td>25.35</td><td>0</td><td>No</td><td>0</td><td>-1.00882</td><td>-1.010761</td></tr>\n",
       "\t<tr><th scope=row>3</th><td>5218</td><td>2923-ARZLG</td><td>Male  </td><td>0</td><td>Yes</td><td>Yes</td><td>0</td><td>Yes</td><td>No              </td><td>No </td><td>⋯</td><td>No internet service</td><td>One year</td><td>Yes</td><td>Mailed check             </td><td>19.7 </td><td>0</td><td>No</td><td>0</td><td>-1.00882</td><td>-1.010761</td></tr>\n",
       "\t<tr><th scope=row>4</th><td>3331</td><td>7644-OMVMY</td><td>Male  </td><td>0</td><td>Yes</td><td>Yes</td><td>0</td><td>Yes</td><td>No              </td><td>No </td><td>⋯</td><td>No internet service</td><td>Two year</td><td>No </td><td>Mailed check             </td><td>19.85</td><td>0</td><td>No</td><td>0</td><td>-1.00882</td><td>-1.010761</td></tr>\n",
       "\t<tr><th scope=row>5</th><td> 753</td><td>3115-CZMZD</td><td>Male  </td><td>0</td><td>No </td><td>Yes</td><td>0</td><td>Yes</td><td>No              </td><td>No </td><td>⋯</td><td>No internet service</td><td>Two year</td><td>No </td><td>Mailed check             </td><td>20.25</td><td>0</td><td>No</td><td>0</td><td>-1.00882</td><td>-1.010761</td></tr>\n",
       "\t<tr><th scope=row>6</th><td> 488</td><td>4472-LVYGI</td><td>Female</td><td>0</td><td>Yes</td><td>Yes</td><td>0</td><td>No </td><td>No phone service</td><td>DSL</td><td>⋯</td><td>No                 </td><td>Two year</td><td>Yes</td><td>Bank transfer (automatic)</td><td>52.55</td><td>0</td><td>No</td><td>0</td><td>-1.00882</td><td>-1.010761</td></tr>\n",
       "</tbody>\n",
       "</table>\n"
      ],
      "text/latex": [
       "A data.frame: 6 × 25\n",
       "\\begin{tabular}{r|lllllllllllllllllllll}\n",
       "  & X & customerID & gender & SeniorCitizen & Partner & Dependents & tenure & PhoneService & MultipleLines & InternetService & ⋯ & StreamingMovies & Contract & PaperlessBilling & PaymentMethod & MonthlyCharges & TotalCharges & Churn & TotalChargesNorm & TotalChargesStand & TotalChargesScaled\\\\\n",
       "  & <int> & <chr> & <chr> & <int> & <chr> & <chr> & <int> & <chr> & <chr> & <chr> & ⋯ & <chr> & <chr> & <chr> & <chr> & <chr> & <dbl> & <chr> & <dbl> & <dbl> & <dbl{[},1{]}>\\\\\n",
       "\\hline\n",
       "\t1 & 6754 & 2775-SEFEE & Male   & 0 & No  & Yes & 0 & Yes & Yes              & DSL & ⋯ & No                  & Two year & Yes & Bank transfer (automatic) & 61.9  & 0 & No & 0 & -1.00882 & -1.010761\\\\\n",
       "\t2 & 3826 & 3213-VVOLG & Male   & 0 & Yes & Yes & 0 & Yes & Yes              & No  & ⋯ & No internet service & Two year & No  & Mailed check              & 25.35 & 0 & No & 0 & -1.00882 & -1.010761\\\\\n",
       "\t3 & 5218 & 2923-ARZLG & Male   & 0 & Yes & Yes & 0 & Yes & No               & No  & ⋯ & No internet service & One year & Yes & Mailed check              & 19.7  & 0 & No & 0 & -1.00882 & -1.010761\\\\\n",
       "\t4 & 3331 & 7644-OMVMY & Male   & 0 & Yes & Yes & 0 & Yes & No               & No  & ⋯ & No internet service & Two year & No  & Mailed check              & 19.85 & 0 & No & 0 & -1.00882 & -1.010761\\\\\n",
       "\t5 &  753 & 3115-CZMZD & Male   & 0 & No  & Yes & 0 & Yes & No               & No  & ⋯ & No internet service & Two year & No  & Mailed check              & 20.25 & 0 & No & 0 & -1.00882 & -1.010761\\\\\n",
       "\t6 &  488 & 4472-LVYGI & Female & 0 & Yes & Yes & 0 & No  & No phone service & DSL & ⋯ & No                  & Two year & Yes & Bank transfer (automatic) & 52.55 & 0 & No & 0 & -1.00882 & -1.010761\\\\\n",
       "\\end{tabular}\n"
      ],
      "text/markdown": [
       "\n",
       "A data.frame: 6 × 25\n",
       "\n",
       "| <!--/--> | X &lt;int&gt; | customerID &lt;chr&gt; | gender &lt;chr&gt; | SeniorCitizen &lt;int&gt; | Partner &lt;chr&gt; | Dependents &lt;chr&gt; | tenure &lt;int&gt; | PhoneService &lt;chr&gt; | MultipleLines &lt;chr&gt; | InternetService &lt;chr&gt; | ⋯ ⋯ | StreamingMovies &lt;chr&gt; | Contract &lt;chr&gt; | PaperlessBilling &lt;chr&gt; | PaymentMethod &lt;chr&gt; | MonthlyCharges &lt;chr&gt; | TotalCharges &lt;dbl&gt; | Churn &lt;chr&gt; | TotalChargesNorm &lt;dbl&gt; | TotalChargesStand &lt;dbl&gt; | TotalChargesScaled &lt;dbl[,1]&gt; |\n",
       "|---|---|---|---|---|---|---|---|---|---|---|---|---|---|---|---|---|---|---|---|---|---|\n",
       "| 1 | 6754 | 2775-SEFEE | Male   | 0 | No  | Yes | 0 | Yes | Yes              | DSL | ⋯ | No                  | Two year | Yes | Bank transfer (automatic) | 61.9  | 0 | No | 0 | -1.00882 | -1.010761 |\n",
       "| 2 | 3826 | 3213-VVOLG | Male   | 0 | Yes | Yes | 0 | Yes | Yes              | No  | ⋯ | No internet service | Two year | No  | Mailed check              | 25.35 | 0 | No | 0 | -1.00882 | -1.010761 |\n",
       "| 3 | 5218 | 2923-ARZLG | Male   | 0 | Yes | Yes | 0 | Yes | No               | No  | ⋯ | No internet service | One year | Yes | Mailed check              | 19.7  | 0 | No | 0 | -1.00882 | -1.010761 |\n",
       "| 4 | 3331 | 7644-OMVMY | Male   | 0 | Yes | Yes | 0 | Yes | No               | No  | ⋯ | No internet service | Two year | No  | Mailed check              | 19.85 | 0 | No | 0 | -1.00882 | -1.010761 |\n",
       "| 5 |  753 | 3115-CZMZD | Male   | 0 | No  | Yes | 0 | Yes | No               | No  | ⋯ | No internet service | Two year | No  | Mailed check              | 20.25 | 0 | No | 0 | -1.00882 | -1.010761 |\n",
       "| 6 |  488 | 4472-LVYGI | Female | 0 | Yes | Yes | 0 | No  | No phone service | DSL | ⋯ | No                  | Two year | Yes | Bank transfer (automatic) | 52.55 | 0 | No | 0 | -1.00882 | -1.010761 |\n",
       "\n"
      ],
      "text/plain": [
       "  X    customerID gender SeniorCitizen Partner Dependents tenure PhoneService\n",
       "1 6754 2775-SEFEE Male   0             No      Yes        0      Yes         \n",
       "2 3826 3213-VVOLG Male   0             Yes     Yes        0      Yes         \n",
       "3 5218 2923-ARZLG Male   0             Yes     Yes        0      Yes         \n",
       "4 3331 7644-OMVMY Male   0             Yes     Yes        0      Yes         \n",
       "5  753 3115-CZMZD Male   0             No      Yes        0      Yes         \n",
       "6  488 4472-LVYGI Female 0             Yes     Yes        0      No          \n",
       "  MultipleLines    InternetService ⋯ StreamingMovies     Contract\n",
       "1 Yes              DSL             ⋯ No                  Two year\n",
       "2 Yes              No              ⋯ No internet service Two year\n",
       "3 No               No              ⋯ No internet service One year\n",
       "4 No               No              ⋯ No internet service Two year\n",
       "5 No               No              ⋯ No internet service Two year\n",
       "6 No phone service DSL             ⋯ No                  Two year\n",
       "  PaperlessBilling PaymentMethod             MonthlyCharges TotalCharges Churn\n",
       "1 Yes              Bank transfer (automatic) 61.9           0            No   \n",
       "2 No               Mailed check              25.35          0            No   \n",
       "3 Yes              Mailed check              19.7           0            No   \n",
       "4 No               Mailed check              19.85          0            No   \n",
       "5 No               Mailed check              20.25          0            No   \n",
       "6 Yes              Bank transfer (automatic) 52.55          0            No   \n",
       "  TotalChargesNorm TotalChargesStand TotalChargesScaled\n",
       "1 0                -1.00882          -1.010761         \n",
       "2 0                -1.00882          -1.010761         \n",
       "3 0                -1.00882          -1.010761         \n",
       "4 0                -1.00882          -1.010761         \n",
       "5 0                -1.00882          -1.010761         \n",
       "6 0                -1.00882          -1.010761         "
      ]
     },
     "metadata": {},
     "output_type": "display_data"
    },
    {
     "data": {
      "text/html": [
       "<table class=\"dataframe\">\n",
       "<caption>A data.frame: 3 × 25</caption>\n",
       "<thead>\n",
       "\t<tr><th></th><th scope=col>X</th><th scope=col>customerID</th><th scope=col>gender</th><th scope=col>SeniorCitizen</th><th scope=col>Partner</th><th scope=col>Dependents</th><th scope=col>tenure</th><th scope=col>PhoneService</th><th scope=col>MultipleLines</th><th scope=col>InternetService</th><th scope=col>⋯</th><th scope=col>StreamingMovies</th><th scope=col>Contract</th><th scope=col>PaperlessBilling</th><th scope=col>PaymentMethod</th><th scope=col>MonthlyCharges</th><th scope=col>TotalCharges</th><th scope=col>Churn</th><th scope=col>TotalChargesNorm</th><th scope=col>TotalChargesStand</th><th scope=col>TotalChargesScaled</th></tr>\n",
       "\t<tr><th></th><th scope=col>&lt;int&gt;</th><th scope=col>&lt;chr&gt;</th><th scope=col>&lt;chr&gt;</th><th scope=col>&lt;int&gt;</th><th scope=col>&lt;chr&gt;</th><th scope=col>&lt;chr&gt;</th><th scope=col>&lt;int&gt;</th><th scope=col>&lt;chr&gt;</th><th scope=col>&lt;chr&gt;</th><th scope=col>&lt;chr&gt;</th><th scope=col>⋯</th><th scope=col>&lt;chr&gt;</th><th scope=col>&lt;chr&gt;</th><th scope=col>&lt;chr&gt;</th><th scope=col>&lt;chr&gt;</th><th scope=col>&lt;chr&gt;</th><th scope=col>&lt;dbl&gt;</th><th scope=col>&lt;chr&gt;</th><th scope=col>&lt;dbl&gt;</th><th scope=col>&lt;dbl&gt;</th><th scope=col>&lt;dbl[,1]&gt;</th></tr>\n",
       "</thead>\n",
       "<tbody>\n",
       "\t<tr><th scope=row>1</th><td>1340</td><td>1371-DWPAZ</td><td>Female</td><td>0</td><td>Yes</td><td>Yes</td><td>0</td><td>No </td><td>No phone service</td><td>DSL</td><td>⋯</td><td>No                 </td><td>Two year</td><td>No</td><td>Credit card (automatic)</td><td>56.05</td><td>0</td><td>No</td><td>0</td><td>-1.00882</td><td>-1.010761</td></tr>\n",
       "\t<tr><th scope=row>2</th><td> 936</td><td>5709-LVOEQ</td><td>Female</td><td>0</td><td>Yes</td><td>Yes</td><td>0</td><td>Yes</td><td>No              </td><td>DSL</td><td>⋯</td><td>Yes                </td><td>Two year</td><td>No</td><td>Mailed check           </td><td>80.85</td><td>0</td><td>No</td><td>0</td><td>-1.00882</td><td>-1.010761</td></tr>\n",
       "\t<tr><th scope=row>3</th><td>4380</td><td>2520-SGTTA</td><td>Female</td><td>0</td><td>Yes</td><td>Yes</td><td>0</td><td>Yes</td><td>No              </td><td>No </td><td>⋯</td><td>No internet service</td><td>Two year</td><td>No</td><td>Mailed check           </td><td>20.0 </td><td>0</td><td>No</td><td>0</td><td>-1.00882</td><td>-1.010761</td></tr>\n",
       "</tbody>\n",
       "</table>\n"
      ],
      "text/latex": [
       "A data.frame: 3 × 25\n",
       "\\begin{tabular}{r|lllllllllllllllllllll}\n",
       "  & X & customerID & gender & SeniorCitizen & Partner & Dependents & tenure & PhoneService & MultipleLines & InternetService & ⋯ & StreamingMovies & Contract & PaperlessBilling & PaymentMethod & MonthlyCharges & TotalCharges & Churn & TotalChargesNorm & TotalChargesStand & TotalChargesScaled\\\\\n",
       "  & <int> & <chr> & <chr> & <int> & <chr> & <chr> & <int> & <chr> & <chr> & <chr> & ⋯ & <chr> & <chr> & <chr> & <chr> & <chr> & <dbl> & <chr> & <dbl> & <dbl> & <dbl{[},1{]}>\\\\\n",
       "\\hline\n",
       "\t1 & 1340 & 1371-DWPAZ & Female & 0 & Yes & Yes & 0 & No  & No phone service & DSL & ⋯ & No                  & Two year & No & Credit card (automatic) & 56.05 & 0 & No & 0 & -1.00882 & -1.010761\\\\\n",
       "\t2 &  936 & 5709-LVOEQ & Female & 0 & Yes & Yes & 0 & Yes & No               & DSL & ⋯ & Yes                 & Two year & No & Mailed check            & 80.85 & 0 & No & 0 & -1.00882 & -1.010761\\\\\n",
       "\t3 & 4380 & 2520-SGTTA & Female & 0 & Yes & Yes & 0 & Yes & No               & No  & ⋯ & No internet service & Two year & No & Mailed check            & 20.0  & 0 & No & 0 & -1.00882 & -1.010761\\\\\n",
       "\\end{tabular}\n"
      ],
      "text/markdown": [
       "\n",
       "A data.frame: 3 × 25\n",
       "\n",
       "| <!--/--> | X &lt;int&gt; | customerID &lt;chr&gt; | gender &lt;chr&gt; | SeniorCitizen &lt;int&gt; | Partner &lt;chr&gt; | Dependents &lt;chr&gt; | tenure &lt;int&gt; | PhoneService &lt;chr&gt; | MultipleLines &lt;chr&gt; | InternetService &lt;chr&gt; | ⋯ ⋯ | StreamingMovies &lt;chr&gt; | Contract &lt;chr&gt; | PaperlessBilling &lt;chr&gt; | PaymentMethod &lt;chr&gt; | MonthlyCharges &lt;chr&gt; | TotalCharges &lt;dbl&gt; | Churn &lt;chr&gt; | TotalChargesNorm &lt;dbl&gt; | TotalChargesStand &lt;dbl&gt; | TotalChargesScaled &lt;dbl[,1]&gt; |\n",
       "|---|---|---|---|---|---|---|---|---|---|---|---|---|---|---|---|---|---|---|---|---|---|\n",
       "| 1 | 1340 | 1371-DWPAZ | Female | 0 | Yes | Yes | 0 | No  | No phone service | DSL | ⋯ | No                  | Two year | No | Credit card (automatic) | 56.05 | 0 | No | 0 | -1.00882 | -1.010761 |\n",
       "| 2 |  936 | 5709-LVOEQ | Female | 0 | Yes | Yes | 0 | Yes | No               | DSL | ⋯ | Yes                 | Two year | No | Mailed check            | 80.85 | 0 | No | 0 | -1.00882 | -1.010761 |\n",
       "| 3 | 4380 | 2520-SGTTA | Female | 0 | Yes | Yes | 0 | Yes | No               | No  | ⋯ | No internet service | Two year | No | Mailed check            | 20.0  | 0 | No | 0 | -1.00882 | -1.010761 |\n",
       "\n"
      ],
      "text/plain": [
       "  X    customerID gender SeniorCitizen Partner Dependents tenure PhoneService\n",
       "1 1340 1371-DWPAZ Female 0             Yes     Yes        0      No          \n",
       "2  936 5709-LVOEQ Female 0             Yes     Yes        0      Yes         \n",
       "3 4380 2520-SGTTA Female 0             Yes     Yes        0      Yes         \n",
       "  MultipleLines    InternetService ⋯ StreamingMovies     Contract\n",
       "1 No phone service DSL             ⋯ No                  Two year\n",
       "2 No               DSL             ⋯ Yes                 Two year\n",
       "3 No               No              ⋯ No internet service Two year\n",
       "  PaperlessBilling PaymentMethod           MonthlyCharges TotalCharges Churn\n",
       "1 No               Credit card (automatic) 56.05          0            No   \n",
       "2 No               Mailed check            80.85          0            No   \n",
       "3 No               Mailed check            20.0           0            No   \n",
       "  TotalChargesNorm TotalChargesStand TotalChargesScaled\n",
       "1 0                -1.00882          -1.010761         \n",
       "2 0                -1.00882          -1.010761         \n",
       "3 0                -1.00882          -1.010761         "
      ]
     },
     "metadata": {},
     "output_type": "display_data"
    }
   ],
   "source": [
    "# fix mean and sd\n",
    "meanTotalCharges = mean(train$TotalCharges, na.rm = T)\n",
    "sdTotalCharges = sd(train$TotalCharges, na.rm = T)\n",
    "\n",
    "train <- train %>% mutate(TotalChargesScaled = scale(TotalCharges, center = meanTotalCharges, scale = sdTotalCharges)) # default\n",
    "test <- test %>% mutate(TotalChargesScaled = scale(TotalCharges, center = meanTotalCharges, scale = sdTotalCharges)) # use parameters of train set\n",
    "\n",
    "#check the same value TotalCharges == 0 in train and set\n",
    "head(train %>% filter(TotalCharges == 0))\n",
    "head(test %>% filter(TotalCharges == 0))"
   ]
  },
  {
   "cell_type": "code",
   "execution_count": 100,
   "id": "d7bd2b14",
   "metadata": {},
   "outputs": [],
   "source": [
    "#compare it with all dataset TotalCharges == 0"
   ]
  },
  {
   "cell_type": "code",
   "execution_count": 46,
   "id": "b447cb7b",
   "metadata": {
    "tags": []
   },
   "outputs": [
    {
     "data": {
      "text/html": [
       "<table class=\"dataframe\">\n",
       "<caption>A data.frame: 10 × 25</caption>\n",
       "<thead>\n",
       "\t<tr><th scope=col>X</th><th scope=col>customerID</th><th scope=col>gender</th><th scope=col>SeniorCitizen</th><th scope=col>Partner</th><th scope=col>Dependents</th><th scope=col>tenure</th><th scope=col>PhoneService</th><th scope=col>MultipleLines</th><th scope=col>InternetService</th><th scope=col>⋯</th><th scope=col>StreamingMovies</th><th scope=col>Contract</th><th scope=col>PaperlessBilling</th><th scope=col>PaymentMethod</th><th scope=col>MonthlyCharges</th><th scope=col>TotalCharges</th><th scope=col>Churn</th><th scope=col>TotalChargesNorm</th><th scope=col>TotalChargesStand</th><th scope=col>TotalChargesScaled</th></tr>\n",
       "\t<tr><th scope=col>&lt;int&gt;</th><th scope=col>&lt;chr&gt;</th><th scope=col>&lt;chr&gt;</th><th scope=col>&lt;int&gt;</th><th scope=col>&lt;chr&gt;</th><th scope=col>&lt;chr&gt;</th><th scope=col>&lt;int&gt;</th><th scope=col>&lt;chr&gt;</th><th scope=col>&lt;chr&gt;</th><th scope=col>&lt;chr&gt;</th><th scope=col>⋯</th><th scope=col>&lt;chr&gt;</th><th scope=col>&lt;chr&gt;</th><th scope=col>&lt;chr&gt;</th><th scope=col>&lt;chr&gt;</th><th scope=col>&lt;chr&gt;</th><th scope=col>&lt;dbl&gt;</th><th scope=col>&lt;chr&gt;</th><th scope=col>&lt;dbl&gt;</th><th scope=col>&lt;dbl&gt;</th><th scope=col>&lt;dbl[,1]&gt;</th></tr>\n",
       "</thead>\n",
       "<tbody>\n",
       "\t<tr><td>6754</td><td>2775-SEFEE</td><td>Male  </td><td>0</td><td>No </td><td>Yes</td><td>0</td><td>Yes</td><td>Yes             </td><td>DSL</td><td>⋯</td><td>No                 </td><td>Two year</td><td>Yes</td><td>Bank transfer (automatic)</td><td>61.9 </td><td>0</td><td>No</td><td>0</td><td>-1.00882</td><td>-1.00882</td></tr>\n",
       "\t<tr><td>1340</td><td>1371-DWPAZ</td><td>Female</td><td>0</td><td>Yes</td><td>Yes</td><td>0</td><td>No </td><td>No phone service</td><td>DSL</td><td>⋯</td><td>No                 </td><td>Two year</td><td>No </td><td>Credit card (automatic)  </td><td>56.05</td><td>0</td><td>No</td><td>0</td><td>-1.00882</td><td>-1.00882</td></tr>\n",
       "\t<tr><td>3826</td><td>3213-VVOLG</td><td>Male  </td><td>0</td><td>Yes</td><td>Yes</td><td>0</td><td>Yes</td><td>Yes             </td><td>No </td><td>⋯</td><td>No internet service</td><td>Two year</td><td>No </td><td>Mailed check             </td><td>25.35</td><td>0</td><td>No</td><td>0</td><td>-1.00882</td><td>-1.00882</td></tr>\n",
       "\t<tr><td>5218</td><td>2923-ARZLG</td><td>Male  </td><td>0</td><td>Yes</td><td>Yes</td><td>0</td><td>Yes</td><td>No              </td><td>No </td><td>⋯</td><td>No internet service</td><td>One year</td><td>Yes</td><td>Mailed check             </td><td>19.7 </td><td>0</td><td>No</td><td>0</td><td>-1.00882</td><td>-1.00882</td></tr>\n",
       "\t<tr><td>3331</td><td>7644-OMVMY</td><td>Male  </td><td>0</td><td>Yes</td><td>Yes</td><td>0</td><td>Yes</td><td>No              </td><td>No </td><td>⋯</td><td>No internet service</td><td>Two year</td><td>No </td><td>Mailed check             </td><td>19.85</td><td>0</td><td>No</td><td>0</td><td>-1.00882</td><td>-1.00882</td></tr>\n",
       "\t<tr><td> 936</td><td>5709-LVOEQ</td><td>Female</td><td>0</td><td>Yes</td><td>Yes</td><td>0</td><td>Yes</td><td>No              </td><td>DSL</td><td>⋯</td><td>Yes                </td><td>Two year</td><td>No </td><td>Mailed check             </td><td>80.85</td><td>0</td><td>No</td><td>0</td><td>-1.00882</td><td>-1.00882</td></tr>\n",
       "\t<tr><td> 753</td><td>3115-CZMZD</td><td>Male  </td><td>0</td><td>No </td><td>Yes</td><td>0</td><td>Yes</td><td>No              </td><td>No </td><td>⋯</td><td>No internet service</td><td>Two year</td><td>No </td><td>Mailed check             </td><td>20.25</td><td>0</td><td>No</td><td>0</td><td>-1.00882</td><td>-1.00882</td></tr>\n",
       "\t<tr><td>4380</td><td>2520-SGTTA</td><td>Female</td><td>0</td><td>Yes</td><td>Yes</td><td>0</td><td>Yes</td><td>No              </td><td>No </td><td>⋯</td><td>No internet service</td><td>Two year</td><td>No </td><td>Mailed check             </td><td>20.0 </td><td>0</td><td>No</td><td>0</td><td>-1.00882</td><td>-1.00882</td></tr>\n",
       "\t<tr><td> 488</td><td>4472-LVYGI</td><td>Female</td><td>0</td><td>Yes</td><td>Yes</td><td>0</td><td>No </td><td>No phone service</td><td>DSL</td><td>⋯</td><td>No                 </td><td>Two year</td><td>Yes</td><td>Bank transfer (automatic)</td><td>52.55</td><td>0</td><td>No</td><td>0</td><td>-1.00882</td><td>-1.00882</td></tr>\n",
       "\t<tr><td>1082</td><td>4367-NUYAO</td><td>Male  </td><td>0</td><td>Yes</td><td>Yes</td><td>0</td><td>Yes</td><td>Yes             </td><td>No </td><td>⋯</td><td>No internet service</td><td>Two year</td><td>No </td><td>Mailed check             </td><td>25.75</td><td>0</td><td>No</td><td>0</td><td>-1.00882</td><td>-1.00882</td></tr>\n",
       "</tbody>\n",
       "</table>\n"
      ],
      "text/latex": [
       "A data.frame: 10 × 25\n",
       "\\begin{tabular}{lllllllllllllllllllll}\n",
       " X & customerID & gender & SeniorCitizen & Partner & Dependents & tenure & PhoneService & MultipleLines & InternetService & ⋯ & StreamingMovies & Contract & PaperlessBilling & PaymentMethod & MonthlyCharges & TotalCharges & Churn & TotalChargesNorm & TotalChargesStand & TotalChargesScaled\\\\\n",
       " <int> & <chr> & <chr> & <int> & <chr> & <chr> & <int> & <chr> & <chr> & <chr> & ⋯ & <chr> & <chr> & <chr> & <chr> & <chr> & <dbl> & <chr> & <dbl> & <dbl> & <dbl{[},1{]}>\\\\\n",
       "\\hline\n",
       "\t 6754 & 2775-SEFEE & Male   & 0 & No  & Yes & 0 & Yes & Yes              & DSL & ⋯ & No                  & Two year & Yes & Bank transfer (automatic) & 61.9  & 0 & No & 0 & -1.00882 & -1.00882\\\\\n",
       "\t 1340 & 1371-DWPAZ & Female & 0 & Yes & Yes & 0 & No  & No phone service & DSL & ⋯ & No                  & Two year & No  & Credit card (automatic)   & 56.05 & 0 & No & 0 & -1.00882 & -1.00882\\\\\n",
       "\t 3826 & 3213-VVOLG & Male   & 0 & Yes & Yes & 0 & Yes & Yes              & No  & ⋯ & No internet service & Two year & No  & Mailed check              & 25.35 & 0 & No & 0 & -1.00882 & -1.00882\\\\\n",
       "\t 5218 & 2923-ARZLG & Male   & 0 & Yes & Yes & 0 & Yes & No               & No  & ⋯ & No internet service & One year & Yes & Mailed check              & 19.7  & 0 & No & 0 & -1.00882 & -1.00882\\\\\n",
       "\t 3331 & 7644-OMVMY & Male   & 0 & Yes & Yes & 0 & Yes & No               & No  & ⋯ & No internet service & Two year & No  & Mailed check              & 19.85 & 0 & No & 0 & -1.00882 & -1.00882\\\\\n",
       "\t  936 & 5709-LVOEQ & Female & 0 & Yes & Yes & 0 & Yes & No               & DSL & ⋯ & Yes                 & Two year & No  & Mailed check              & 80.85 & 0 & No & 0 & -1.00882 & -1.00882\\\\\n",
       "\t  753 & 3115-CZMZD & Male   & 0 & No  & Yes & 0 & Yes & No               & No  & ⋯ & No internet service & Two year & No  & Mailed check              & 20.25 & 0 & No & 0 & -1.00882 & -1.00882\\\\\n",
       "\t 4380 & 2520-SGTTA & Female & 0 & Yes & Yes & 0 & Yes & No               & No  & ⋯ & No internet service & Two year & No  & Mailed check              & 20.0  & 0 & No & 0 & -1.00882 & -1.00882\\\\\n",
       "\t  488 & 4472-LVYGI & Female & 0 & Yes & Yes & 0 & No  & No phone service & DSL & ⋯ & No                  & Two year & Yes & Bank transfer (automatic) & 52.55 & 0 & No & 0 & -1.00882 & -1.00882\\\\\n",
       "\t 1082 & 4367-NUYAO & Male   & 0 & Yes & Yes & 0 & Yes & Yes              & No  & ⋯ & No internet service & Two year & No  & Mailed check              & 25.75 & 0 & No & 0 & -1.00882 & -1.00882\\\\\n",
       "\\end{tabular}\n"
      ],
      "text/markdown": [
       "\n",
       "A data.frame: 10 × 25\n",
       "\n",
       "| X &lt;int&gt; | customerID &lt;chr&gt; | gender &lt;chr&gt; | SeniorCitizen &lt;int&gt; | Partner &lt;chr&gt; | Dependents &lt;chr&gt; | tenure &lt;int&gt; | PhoneService &lt;chr&gt; | MultipleLines &lt;chr&gt; | InternetService &lt;chr&gt; | ⋯ ⋯ | StreamingMovies &lt;chr&gt; | Contract &lt;chr&gt; | PaperlessBilling &lt;chr&gt; | PaymentMethod &lt;chr&gt; | MonthlyCharges &lt;chr&gt; | TotalCharges &lt;dbl&gt; | Churn &lt;chr&gt; | TotalChargesNorm &lt;dbl&gt; | TotalChargesStand &lt;dbl&gt; | TotalChargesScaled &lt;dbl[,1]&gt; |\n",
       "|---|---|---|---|---|---|---|---|---|---|---|---|---|---|---|---|---|---|---|---|---|\n",
       "| 6754 | 2775-SEFEE | Male   | 0 | No  | Yes | 0 | Yes | Yes              | DSL | ⋯ | No                  | Two year | Yes | Bank transfer (automatic) | 61.9  | 0 | No | 0 | -1.00882 | -1.00882 |\n",
       "| 1340 | 1371-DWPAZ | Female | 0 | Yes | Yes | 0 | No  | No phone service | DSL | ⋯ | No                  | Two year | No  | Credit card (automatic)   | 56.05 | 0 | No | 0 | -1.00882 | -1.00882 |\n",
       "| 3826 | 3213-VVOLG | Male   | 0 | Yes | Yes | 0 | Yes | Yes              | No  | ⋯ | No internet service | Two year | No  | Mailed check              | 25.35 | 0 | No | 0 | -1.00882 | -1.00882 |\n",
       "| 5218 | 2923-ARZLG | Male   | 0 | Yes | Yes | 0 | Yes | No               | No  | ⋯ | No internet service | One year | Yes | Mailed check              | 19.7  | 0 | No | 0 | -1.00882 | -1.00882 |\n",
       "| 3331 | 7644-OMVMY | Male   | 0 | Yes | Yes | 0 | Yes | No               | No  | ⋯ | No internet service | Two year | No  | Mailed check              | 19.85 | 0 | No | 0 | -1.00882 | -1.00882 |\n",
       "|  936 | 5709-LVOEQ | Female | 0 | Yes | Yes | 0 | Yes | No               | DSL | ⋯ | Yes                 | Two year | No  | Mailed check              | 80.85 | 0 | No | 0 | -1.00882 | -1.00882 |\n",
       "|  753 | 3115-CZMZD | Male   | 0 | No  | Yes | 0 | Yes | No               | No  | ⋯ | No internet service | Two year | No  | Mailed check              | 20.25 | 0 | No | 0 | -1.00882 | -1.00882 |\n",
       "| 4380 | 2520-SGTTA | Female | 0 | Yes | Yes | 0 | Yes | No               | No  | ⋯ | No internet service | Two year | No  | Mailed check              | 20.0  | 0 | No | 0 | -1.00882 | -1.00882 |\n",
       "|  488 | 4472-LVYGI | Female | 0 | Yes | Yes | 0 | No  | No phone service | DSL | ⋯ | No                  | Two year | Yes | Bank transfer (automatic) | 52.55 | 0 | No | 0 | -1.00882 | -1.00882 |\n",
       "| 1082 | 4367-NUYAO | Male   | 0 | Yes | Yes | 0 | Yes | Yes              | No  | ⋯ | No internet service | Two year | No  | Mailed check              | 25.75 | 0 | No | 0 | -1.00882 | -1.00882 |\n",
       "\n"
      ],
      "text/plain": [
       "   X    customerID gender SeniorCitizen Partner Dependents tenure PhoneService\n",
       "1  6754 2775-SEFEE Male   0             No      Yes        0      Yes         \n",
       "2  1340 1371-DWPAZ Female 0             Yes     Yes        0      No          \n",
       "3  3826 3213-VVOLG Male   0             Yes     Yes        0      Yes         \n",
       "4  5218 2923-ARZLG Male   0             Yes     Yes        0      Yes         \n",
       "5  3331 7644-OMVMY Male   0             Yes     Yes        0      Yes         \n",
       "6   936 5709-LVOEQ Female 0             Yes     Yes        0      Yes         \n",
       "7   753 3115-CZMZD Male   0             No      Yes        0      Yes         \n",
       "8  4380 2520-SGTTA Female 0             Yes     Yes        0      Yes         \n",
       "9   488 4472-LVYGI Female 0             Yes     Yes        0      No          \n",
       "10 1082 4367-NUYAO Male   0             Yes     Yes        0      Yes         \n",
       "   MultipleLines    InternetService ⋯ StreamingMovies     Contract\n",
       "1  Yes              DSL             ⋯ No                  Two year\n",
       "2  No phone service DSL             ⋯ No                  Two year\n",
       "3  Yes              No              ⋯ No internet service Two year\n",
       "4  No               No              ⋯ No internet service One year\n",
       "5  No               No              ⋯ No internet service Two year\n",
       "6  No               DSL             ⋯ Yes                 Two year\n",
       "7  No               No              ⋯ No internet service Two year\n",
       "8  No               No              ⋯ No internet service Two year\n",
       "9  No phone service DSL             ⋯ No                  Two year\n",
       "10 Yes              No              ⋯ No internet service Two year\n",
       "   PaperlessBilling PaymentMethod             MonthlyCharges TotalCharges Churn\n",
       "1  Yes              Bank transfer (automatic) 61.9           0            No   \n",
       "2  No               Credit card (automatic)   56.05          0            No   \n",
       "3  No               Mailed check              25.35          0            No   \n",
       "4  Yes              Mailed check              19.7           0            No   \n",
       "5  No               Mailed check              19.85          0            No   \n",
       "6  No               Mailed check              80.85          0            No   \n",
       "7  No               Mailed check              20.25          0            No   \n",
       "8  No               Mailed check              20.0           0            No   \n",
       "9  Yes              Bank transfer (automatic) 52.55          0            No   \n",
       "10 No               Mailed check              25.75          0            No   \n",
       "   TotalChargesNorm TotalChargesStand TotalChargesScaled\n",
       "1  0                -1.00882          -1.00882          \n",
       "2  0                -1.00882          -1.00882          \n",
       "3  0                -1.00882          -1.00882          \n",
       "4  0                -1.00882          -1.00882          \n",
       "5  0                -1.00882          -1.00882          \n",
       "6  0                -1.00882          -1.00882          \n",
       "7  0                -1.00882          -1.00882          \n",
       "8  0                -1.00882          -1.00882          \n",
       "9  0                -1.00882          -1.00882          \n",
       "10 0                -1.00882          -1.00882          "
      ]
     },
     "metadata": {},
     "output_type": "display_data"
    }
   ],
   "source": [
    "filter(churn_data, TotalCharges == 0)\n",
    "# for now TotalChargesScaled in train/test th same, but in churn data its different, because of diffrent scaling bases"
   ]
  },
  {
   "cell_type": "markdown",
   "id": "aeb4f8a0",
   "metadata": {},
   "source": [
    "---"
   ]
  },
  {
   "cell_type": "markdown",
   "id": "ec140e4d",
   "metadata": {},
   "source": [
    "# 2. Feature Transformation"
   ]
  },
  {
   "cell_type": "markdown",
   "id": "10dd40a2",
   "metadata": {
    "tags": []
   },
   "source": [
    "`Feature transformation` involves manipulating a predictor variable in some way so as to improve its performance in the predictive model. A variety of considerations come into play when transforming models, including:\n",
    "\n",
    "- [x] The `flexibility` of machine learning and statistical models in dealing with different types of data. For example, some techniques require that the input data be in numeric format, whereas others can deal with other formats, such as categorical, text, or dates.\n",
    "- [x] `Ease of interpretation`. A predictive model where all the predictors are on the same scale (e.g., have a mean of 0 and a standard deviation of 1), can make interpretation easier.\n",
    "- [x] `Predictive accuracy`. Some transformations of variables can improve the accuracy of prediction (e.g., rather than including a numeric variable as a predictor, instead include both it and a second variable that is its square).\n",
    "- [x] `Theory`. For example, economic theory dictates that in many situations the natural logarithm of data representing prices and quantities should be used.\n",
    "- [x] `Computational error`. Many algorithms are written in such a way that \"large\" numbers cause them to give the wrong result, where \"large\" may not be so large (e.g., more than 10 or less than -10)."
   ]
  },
  {
   "cell_type": "markdown",
   "id": "f6ae4280-74b8-42f4-b1d2-78cb95a1aac0",
   "metadata": {},
   "source": [
    "## Scaling based on calculations"
   ]
  },
  {
   "cell_type": "markdown",
   "id": "db48afe5-1b58-412e-8767-473f35e21e11",
   "metadata": {},
   "source": [
    "Sometimes for changing data distribution before using in modeling or change correlation between input and output variables scientist changes data type with standart mathematical functions. Lets try transform `TotalCharges` with logarithm, sqrt and power up 2."
   ]
  },
  {
   "cell_type": "code",
   "execution_count": 47,
   "id": "12a7acb0-6cc7-47a5-aaa2-d0ec5a8fb752",
   "metadata": {},
   "outputs": [
    {
     "name": "stderr",
     "output_type": "stream",
     "text": [
      "Warning message:\n",
      "“Removed 10 rows containing non-finite values (stat_bin).”\n"
     ]
    },
    {
     "data": {
      "image/png": "[encoded data removed]",
      "text/plain": [
       "plot without title"
      ]
     },
     "metadata": {
      "image/png": {
       "height": 420,
       "width": 420
      }
     },
     "output_type": "display_data"
    }
   ],
   "source": [
    "churn_data_tmp <- churn_data %>%\n",
    "        mutate(TotalChargesLog = log(TotalCharges),\n",
    "              TotalChargesSqrt = sqrt(TotalCharges),\n",
    "              TotalChargesPow2 = TotalCharges^2)\n",
    "\n",
    "plot1 <- ggplot(churn_data_tmp, aes(x=TotalChargesLog)) + geom_histogram(bins = 15)\n",
    "plot2 <- ggplot(churn_data_tmp, aes(x=TotalChargesSqrt)) + geom_histogram(bins = 15)\n",
    "plot3 <- ggplot(churn_data_tmp, aes(x=TotalChargesPow2)) + geom_histogram(bins = 15)\n",
    "grid.arrange(plot1, plot2, plot3, ncol=3) "
   ]
  },
  {
   "cell_type": "markdown",
   "id": "bea03d5e-4c8d-43b6-b535-69b9c7179351",
   "metadata": {},
   "source": [
    "<div class=\"alert alert-danger\">Увага! Далі пропускаємо і переходимо до Feature Construction</div>"
   ]
  },
  {
   "cell_type": "markdown",
   "id": "d69de807-9a86-4a72-ab46-7fcb3672b80a",
   "metadata": {},
   "source": [
    "Lets try"
   ]
  },
  {
   "cell_type": "code",
   "execution_count": 49,
   "id": "a1a44c60-a6d2-4cd4-a3af-8b9b25f6af58",
   "metadata": {},
   "outputs": [
    {
     "data": {
      "text/html": [
       "<table class=\"dataframe\">\n",
       "<caption>A data.frame: 6 × 28</caption>\n",
       "<thead>\n",
       "\t<tr><th></th><th scope=col>X</th><th scope=col>customerID</th><th scope=col>gender</th><th scope=col>SeniorCitizen</th><th scope=col>Partner</th><th scope=col>Dependents</th><th scope=col>tenure</th><th scope=col>PhoneService</th><th scope=col>MultipleLines</th><th scope=col>InternetService</th><th scope=col>⋯</th><th scope=col>PaymentMethod</th><th scope=col>MonthlyCharges</th><th scope=col>TotalCharges</th><th scope=col>Churn</th><th scope=col>TotalChargesNorm</th><th scope=col>TotalChargesStand</th><th scope=col>TotalChargesScaled</th><th scope=col>TotalChargesLog</th><th scope=col>TotalChargesSqrt</th><th scope=col>TotalChargesPow2</th></tr>\n",
       "\t<tr><th></th><th scope=col>&lt;int&gt;</th><th scope=col>&lt;chr&gt;</th><th scope=col>&lt;chr&gt;</th><th scope=col>&lt;int&gt;</th><th scope=col>&lt;chr&gt;</th><th scope=col>&lt;chr&gt;</th><th scope=col>&lt;int&gt;</th><th scope=col>&lt;chr&gt;</th><th scope=col>&lt;chr&gt;</th><th scope=col>&lt;chr&gt;</th><th scope=col>⋯</th><th scope=col>&lt;chr&gt;</th><th scope=col>&lt;chr&gt;</th><th scope=col>&lt;dbl&gt;</th><th scope=col>&lt;dbl&gt;</th><th scope=col>&lt;dbl&gt;</th><th scope=col>&lt;dbl&gt;</th><th scope=col>&lt;dbl[,1]&gt;</th><th scope=col>&lt;dbl&gt;</th><th scope=col>&lt;dbl&gt;</th><th scope=col>&lt;dbl&gt;</th></tr>\n",
       "</thead>\n",
       "<tbody>\n",
       "\t<tr><th scope=row>1</th><td>1869</td><td>7010-BRBUU</td><td>Male  </td><td>0</td><td>Yes</td><td>Yes</td><td>72</td><td>Yes</td><td>Yes             </td><td>No         </td><td>⋯</td><td>Credit card (automatic)  </td><td>24.1 </td><td>1734.65</td><td>0</td><td>0.19973402</td><td>-0.2460559</td><td>-0.2460559</td><td>7.458561</td><td>41.64913</td><td> 3009010.62</td></tr>\n",
       "\t<tr><th scope=row>2</th><td>4528</td><td>9688-YGXVR</td><td>Female</td><td>0</td><td>No </td><td>No </td><td>44</td><td>Yes</td><td>No              </td><td>Fiber optic</td><td>⋯</td><td>Credit card (automatic)  </td><td>88.15</td><td>3973.20</td><td>0</td><td>0.45748895</td><td> 0.7382838</td><td> 0.7382838</td><td>8.287327</td><td>63.03332</td><td>15786318.24</td></tr>\n",
       "\t<tr><th scope=row>3</th><td>6344</td><td>9286-DOJGF</td><td>Female</td><td>1</td><td>Yes</td><td>No </td><td>38</td><td>Yes</td><td>Yes             </td><td>Fiber optic</td><td>⋯</td><td>Bank transfer (automatic)</td><td>74.95</td><td>2869.85</td><td>1</td><td>0.33044515</td><td> 0.2531165</td><td> 0.2531165</td><td>7.962015</td><td>53.57098</td><td> 8236039.02</td></tr>\n",
       "\t<tr><th scope=row>4</th><td>6739</td><td>6994-KERXL</td><td>Male  </td><td>0</td><td>No </td><td>No </td><td> 4</td><td>Yes</td><td>No              </td><td>DSL        </td><td>⋯</td><td>Electronic check         </td><td>55.9 </td><td> 238.50</td><td>0</td><td>0.02746177</td><td>-0.9039460</td><td>-0.9039460</td><td>5.474369</td><td>15.44345</td><td>   56882.25</td></tr>\n",
       "\t<tr><th scope=row>5</th><td> 432</td><td>2181-UAESM</td><td>Male  </td><td>0</td><td>No </td><td>No </td><td> 2</td><td>Yes</td><td>No              </td><td>DSL        </td><td>⋯</td><td>Electronic check         </td><td>53.45</td><td> 119.50</td><td>0</td><td>0.01375967</td><td>-0.9562729</td><td>-0.9562729</td><td>4.783316</td><td>10.93161</td><td>   14280.25</td></tr>\n",
       "\t<tr><th scope=row>6</th><td>2215</td><td>4312-GVYNH</td><td>Female</td><td>0</td><td>Yes</td><td>No </td><td>70</td><td>No </td><td>No phone service</td><td>DSL        </td><td>⋯</td><td>Bank transfer (automatic)</td><td>49.85</td><td>3370.20</td><td>0</td><td>0.38805730</td><td> 0.4731314</td><td> 0.4731314</td><td>8.122727</td><td>58.05342</td><td>11358248.04</td></tr>\n",
       "</tbody>\n",
       "</table>\n"
      ],
      "text/latex": [
       "A data.frame: 6 × 28\n",
       "\\begin{tabular}{r|lllllllllllllllllllll}\n",
       "  & X & customerID & gender & SeniorCitizen & Partner & Dependents & tenure & PhoneService & MultipleLines & InternetService & ⋯ & PaymentMethod & MonthlyCharges & TotalCharges & Churn & TotalChargesNorm & TotalChargesStand & TotalChargesScaled & TotalChargesLog & TotalChargesSqrt & TotalChargesPow2\\\\\n",
       "  & <int> & <chr> & <chr> & <int> & <chr> & <chr> & <int> & <chr> & <chr> & <chr> & ⋯ & <chr> & <chr> & <dbl> & <dbl> & <dbl> & <dbl> & <dbl{[},1{]}> & <dbl> & <dbl> & <dbl>\\\\\n",
       "\\hline\n",
       "\t1 & 1869 & 7010-BRBUU & Male   & 0 & Yes & Yes & 72 & Yes & Yes              & No          & ⋯ & Credit card (automatic)   & 24.1  & 1734.65 & 0 & 0.19973402 & -0.2460559 & -0.2460559 & 7.458561 & 41.64913 &  3009010.62\\\\\n",
       "\t2 & 4528 & 9688-YGXVR & Female & 0 & No  & No  & 44 & Yes & No               & Fiber optic & ⋯ & Credit card (automatic)   & 88.15 & 3973.20 & 0 & 0.45748895 &  0.7382838 &  0.7382838 & 8.287327 & 63.03332 & 15786318.24\\\\\n",
       "\t3 & 6344 & 9286-DOJGF & Female & 1 & Yes & No  & 38 & Yes & Yes              & Fiber optic & ⋯ & Bank transfer (automatic) & 74.95 & 2869.85 & 1 & 0.33044515 &  0.2531165 &  0.2531165 & 7.962015 & 53.57098 &  8236039.02\\\\\n",
       "\t4 & 6739 & 6994-KERXL & Male   & 0 & No  & No  &  4 & Yes & No               & DSL         & ⋯ & Electronic check          & 55.9  &  238.50 & 0 & 0.02746177 & -0.9039460 & -0.9039460 & 5.474369 & 15.44345 &    56882.25\\\\\n",
       "\t5 &  432 & 2181-UAESM & Male   & 0 & No  & No  &  2 & Yes & No               & DSL         & ⋯ & Electronic check          & 53.45 &  119.50 & 0 & 0.01375967 & -0.9562729 & -0.9562729 & 4.783316 & 10.93161 &    14280.25\\\\\n",
       "\t6 & 2215 & 4312-GVYNH & Female & 0 & Yes & No  & 70 & No  & No phone service & DSL         & ⋯ & Bank transfer (automatic) & 49.85 & 3370.20 & 0 & 0.38805730 &  0.4731314 &  0.4731314 & 8.122727 & 58.05342 & 11358248.04\\\\\n",
       "\\end{tabular}\n"
      ],
      "text/markdown": [
       "\n",
       "A data.frame: 6 × 28\n",
       "\n",
       "| <!--/--> | X &lt;int&gt; | customerID &lt;chr&gt; | gender &lt;chr&gt; | SeniorCitizen &lt;int&gt; | Partner &lt;chr&gt; | Dependents &lt;chr&gt; | tenure &lt;int&gt; | PhoneService &lt;chr&gt; | MultipleLines &lt;chr&gt; | InternetService &lt;chr&gt; | ⋯ ⋯ | PaymentMethod &lt;chr&gt; | MonthlyCharges &lt;chr&gt; | TotalCharges &lt;dbl&gt; | Churn &lt;dbl&gt; | TotalChargesNorm &lt;dbl&gt; | TotalChargesStand &lt;dbl&gt; | TotalChargesScaled &lt;dbl[,1]&gt; | TotalChargesLog &lt;dbl&gt; | TotalChargesSqrt &lt;dbl&gt; | TotalChargesPow2 &lt;dbl&gt; |\n",
       "|---|---|---|---|---|---|---|---|---|---|---|---|---|---|---|---|---|---|---|---|---|---|\n",
       "| 1 | 1869 | 7010-BRBUU | Male   | 0 | Yes | Yes | 72 | Yes | Yes              | No          | ⋯ | Credit card (automatic)   | 24.1  | 1734.65 | 0 | 0.19973402 | -0.2460559 | -0.2460559 | 7.458561 | 41.64913 |  3009010.62 |\n",
       "| 2 | 4528 | 9688-YGXVR | Female | 0 | No  | No  | 44 | Yes | No               | Fiber optic | ⋯ | Credit card (automatic)   | 88.15 | 3973.20 | 0 | 0.45748895 |  0.7382838 |  0.7382838 | 8.287327 | 63.03332 | 15786318.24 |\n",
       "| 3 | 6344 | 9286-DOJGF | Female | 1 | Yes | No  | 38 | Yes | Yes              | Fiber optic | ⋯ | Bank transfer (automatic) | 74.95 | 2869.85 | 1 | 0.33044515 |  0.2531165 |  0.2531165 | 7.962015 | 53.57098 |  8236039.02 |\n",
       "| 4 | 6739 | 6994-KERXL | Male   | 0 | No  | No  |  4 | Yes | No               | DSL         | ⋯ | Electronic check          | 55.9  |  238.50 | 0 | 0.02746177 | -0.9039460 | -0.9039460 | 5.474369 | 15.44345 |    56882.25 |\n",
       "| 5 |  432 | 2181-UAESM | Male   | 0 | No  | No  |  2 | Yes | No               | DSL         | ⋯ | Electronic check          | 53.45 |  119.50 | 0 | 0.01375967 | -0.9562729 | -0.9562729 | 4.783316 | 10.93161 |    14280.25 |\n",
       "| 6 | 2215 | 4312-GVYNH | Female | 0 | Yes | No  | 70 | No  | No phone service | DSL         | ⋯ | Bank transfer (automatic) | 49.85 | 3370.20 | 0 | 0.38805730 |  0.4731314 |  0.4731314 | 8.122727 | 58.05342 | 11358248.04 |\n",
       "\n"
      ],
      "text/plain": [
       "  X    customerID gender SeniorCitizen Partner Dependents tenure PhoneService\n",
       "1 1869 7010-BRBUU Male   0             Yes     Yes        72     Yes         \n",
       "2 4528 9688-YGXVR Female 0             No      No         44     Yes         \n",
       "3 6344 9286-DOJGF Female 1             Yes     No         38     Yes         \n",
       "4 6739 6994-KERXL Male   0             No      No          4     Yes         \n",
       "5  432 2181-UAESM Male   0             No      No          2     Yes         \n",
       "6 2215 4312-GVYNH Female 0             Yes     No         70     No          \n",
       "  MultipleLines    InternetService ⋯ PaymentMethod             MonthlyCharges\n",
       "1 Yes              No              ⋯ Credit card (automatic)   24.1          \n",
       "2 No               Fiber optic     ⋯ Credit card (automatic)   88.15         \n",
       "3 Yes              Fiber optic     ⋯ Bank transfer (automatic) 74.95         \n",
       "4 No               DSL             ⋯ Electronic check          55.9          \n",
       "5 No               DSL             ⋯ Electronic check          53.45         \n",
       "6 No phone service DSL             ⋯ Bank transfer (automatic) 49.85         \n",
       "  TotalCharges Churn TotalChargesNorm TotalChargesStand TotalChargesScaled\n",
       "1 1734.65      0     0.19973402       -0.2460559        -0.2460559        \n",
       "2 3973.20      0     0.45748895        0.7382838         0.7382838        \n",
       "3 2869.85      1     0.33044515        0.2531165         0.2531165        \n",
       "4  238.50      0     0.02746177       -0.9039460        -0.9039460        \n",
       "5  119.50      0     0.01375967       -0.9562729        -0.9562729        \n",
       "6 3370.20      0     0.38805730        0.4731314         0.4731314        \n",
       "  TotalChargesLog TotalChargesSqrt TotalChargesPow2\n",
       "1 7.458561        41.64913          3009010.62     \n",
       "2 8.287327        63.03332         15786318.24     \n",
       "3 7.962015        53.57098          8236039.02     \n",
       "4 5.474369        15.44345            56882.25     \n",
       "5 4.783316        10.93161            14280.25     \n",
       "6 8.122727        58.05342         11358248.04     "
      ]
     },
     "metadata": {},
     "output_type": "display_data"
    }
   ],
   "source": [
    "churn_data_tmp <- churn_data_tmp %>%\n",
    "        mutate(Churn = ifelse(Churn == \"Yes\", 1, 0))\n",
    "head(churn_data_tmp)"
   ]
  },
  {
   "cell_type": "markdown",
   "id": "afae319c-7658-4370-97d1-c06990e7e7c5",
   "metadata": {},
   "source": [
    "**Conclusion:**  different scaling gives different data distribution and may improves model perfomance if you have found the correct form of dependence of input/ouput parameters."
   ]
  },
  {
   "cell_type": "code",
   "execution_count": 50,
   "id": "4b22d360-621a-46f8-9037-3c2c05c17b45",
   "metadata": {},
   "outputs": [
    {
     "data": {
      "text/html": [
       "<table class=\"dataframe\">\n",
       "<caption>A matrix: 1 × 1 of type dbl</caption>\n",
       "<tbody>\n",
       "\t<tr><td>-0.1963895</td></tr>\n",
       "</tbody>\n",
       "</table>\n"
      ],
      "text/latex": [
       "A matrix: 1 × 1 of type dbl\n",
       "\\begin{tabular}{l}\n",
       "\t -0.1963895\\\\\n",
       "\\end{tabular}\n"
      ],
      "text/markdown": [
       "\n",
       "A matrix: 1 × 1 of type dbl\n",
       "\n",
       "| -0.1963895 |\n",
       "\n"
      ],
      "text/plain": [
       "     [,1]      \n",
       "[1,] -0.1963895"
      ]
     },
     "metadata": {},
     "output_type": "display_data"
    }
   ],
   "source": [
    "cor(churn_data_tmp$TotalChargesScaled, churn_data_tmp$Churn)"
   ]
  },
  {
   "cell_type": "code",
   "execution_count": 89,
   "id": "16f508a3-859c-4caf-bd8d-22f8f1fca46e",
   "metadata": {},
   "outputs": [
    {
     "name": "stderr",
     "output_type": "stream",
     "text": [
      "Warning message in cor(churn_data_tmp$TotalChargesLog, churn_data_tmp$Churn):\n",
      "\"the standard deviation is zero\"\n"
     ]
    },
    {
     "data": {
      "text/html": [
       "&lt;NA&gt;"
      ],
      "text/latex": [
       "<NA>"
      ],
      "text/markdown": [
       "&lt;NA&gt;"
      ],
      "text/plain": [
       "[1] NA"
      ]
     },
     "metadata": {},
     "output_type": "display_data"
    }
   ],
   "source": [
    "cor(churn_data_tmp$TotalChargesLog, churn_data_tmp$Churn)"
   ]
  },
  {
   "cell_type": "code",
   "execution_count": 82,
   "id": "fd7664a8-fb2f-4976-bd7f-eba49d008d2f",
   "metadata": {},
   "outputs": [
    {
     "data": {
      "text/html": [
       "-0.221664957360268"
      ],
      "text/latex": [
       "-0.221664957360268"
      ],
      "text/markdown": [
       "-0.221664957360268"
      ],
      "text/plain": [
       "[1] -0.221665"
      ]
     },
     "metadata": {},
     "output_type": "display_data"
    }
   ],
   "source": [
    "cor(churn_data_tmp$TotalChargesSqrt, churn_data_tmp$Churn)"
   ]
  },
  {
   "cell_type": "code",
   "execution_count": 102,
   "id": "545a1707-567d-479b-a8f6-51bcf2c03daf",
   "metadata": {},
   "outputs": [
    {
     "name": "stderr",
     "output_type": "stream",
     "text": [
      "Warning message in cor(churn_data_tmp$TotalChargesPow2, churn_data_tmp$Churn):\n",
      "\"the standard deviation is zero\"\n"
     ]
    },
    {
     "data": {
      "text/html": [
       "&lt;NA&gt;"
      ],
      "text/latex": [
       "<NA>"
      ],
      "text/markdown": [
       "&lt;NA&gt;"
      ],
      "text/plain": [
       "[1] NA"
      ]
     },
     "metadata": {},
     "output_type": "display_data"
    }
   ],
   "source": [
    "cor(churn_data_tmp$TotalChargesPow2, churn_data_tmp$Churn)"
   ]
  },
  {
   "cell_type": "markdown",
   "id": "efff4d35",
   "metadata": {},
   "source": [
    "# 3. Feature Construction"
   ]
  },
  {
   "cell_type": "markdown",
   "id": "44b61c83",
   "metadata": {},
   "source": [
    "The **`feature Construction`** method helps in creating new features in the data thereby increasing model accuracy and overall predictions. It is of two types:\n",
    "\n",
    "- [x] `Binning`: Bins are created for continuous variables.\n",
    "- [x] `Encoding`: Numerical variables or features are formed from categorical variables.\n",
    "\n",
    " Додано мною, бо не знайшов ніде такого прийому) Всі одразу моделюють))\n",
    "- [x] `Evaluation` - construction new features on raw data from datasource."
   ]
  },
  {
   "cell_type": "markdown",
   "id": "10b61aba",
   "metadata": {},
   "source": [
    "## 3.1. Binning\n",
    "\n",
    "`Binning` is done to create bins for continuous variables where they are converted to categorical variables. \n",
    "\n",
    "`Binning` is the term used in scoring modeling for what is also known in Machine Learning as `Discretization`, the process of transforming a continuous characteristic into a finite number of intervals (the bins), which allows for a better understanding of its distribution and its relationship with a binary variable. The bins generated by the this process will eventually become the attributes of a predictive characteristic, the key component of a Scorecard.\n",
    "\n",
    "Why Binning?\n",
    "\n",
    "- [x] It allows missing data and other special calculations (e.g. divided by zero) to be included in the model.\n",
    "- [x] It controls or mitigates the impact of outliers over the model.\n",
    "- [x] It solves the issue of having different scales among the characteristics, making the weights of the coefficients in the final model comparable.\n",
    "\n",
    "There are two types of binning: `Unsupervised` and `Supervised`.\n",
    "\n",
    "`Unsupervised Binning` involves Automatic and Manual binning. In Automatic Binning, bins are created without human interference and are created automatically.  In Manual Binning, bins are created with human interference and we specify where the bins to be created.\n",
    "\n",
    "`Supervised Binning` involves creating bins for the continuous variable while taking the target variable into the consideration also. `Supervised Discretization or Binning` divides a continuous feature into groups (bins) mapped to a target variable. The central idea is to find those cutpoints that maximize the difference between the groups.\n",
    "\n",
    "In the past, analysts used to iteratively move from Fine Binning to Coarse Binning, a very time consuming process of finding manually and visually the right cutpoints (if ever). Nowadays with algorithms like ChiMerge or Recursive Partitioning, two out of several techniques available, analysts can quickly find the optimal cutpoints in seconds and evaluate the relationship with the target variable using metrics such as Weight of Evidence and Information Value."
   ]
  },
  {
   "cell_type": "markdown",
   "id": "572e05cf",
   "metadata": {},
   "source": [
    "There are many packages for creating new variables: `smbinning`, `scorecard`, `rbin`, `InformationValue` and other."
   ]
  },
  {
   "cell_type": "markdown",
   "id": "7501530a",
   "metadata": {},
   "source": [
    "### 3.2.1. `smbinning` package"
   ]
  },
  {
   "cell_type": "code",
   "execution_count": 105,
   "id": "1c1fd5fa",
   "metadata": {},
   "outputs": [
    {
     "name": "stderr",
     "output_type": "stream",
     "text": [
      "Loading required package: sqldf\n",
      "\n",
      "Loading required package: gsubfn\n",
      "\n",
      "Loading required package: proto\n",
      "\n",
      "Loading required package: RSQLite\n",
      "\n",
      "Warning message:\n",
      "\"package 'RSQLite' was built under R version 4.1.0\"\n",
      "Loading required package: partykit\n",
      "\n",
      "Loading required package: grid\n",
      "\n",
      "Loading required package: libcoin\n",
      "\n",
      "Loading required package: mvtnorm\n",
      "\n",
      "Loading required package: Formula\n",
      "\n"
     ]
    }
   ],
   "source": [
    "#install.packages(\"smbinning\")\n",
    "library(smbinning)"
   ]
  },
  {
   "cell_type": "code",
   "execution_count": 18,
   "id": "bf49a7f0",
   "metadata": {},
   "outputs": [
    {
     "data": {
      "text/html": [
       "<table class=\"dataframe\">\n",
       "<caption>A data.frame: 6 × 22</caption>\n",
       "<thead>\n",
       "\t<tr><th></th><th scope=col>X</th><th scope=col>customerID</th><th scope=col>gender</th><th scope=col>SeniorCitizen</th><th scope=col>Partner</th><th scope=col>Dependents</th><th scope=col>tenure</th><th scope=col>PhoneService</th><th scope=col>MultipleLines</th><th scope=col>InternetService</th><th scope=col>...</th><th scope=col>DeviceProtection</th><th scope=col>TechSupport</th><th scope=col>StreamingTV</th><th scope=col>StreamingMovies</th><th scope=col>Contract</th><th scope=col>PaperlessBilling</th><th scope=col>PaymentMethod</th><th scope=col>MonthlyCharges</th><th scope=col>TotalCharges</th><th scope=col>Churn</th></tr>\n",
       "\t<tr><th></th><th scope=col>&lt;int&gt;</th><th scope=col>&lt;chr&gt;</th><th scope=col>&lt;chr&gt;</th><th scope=col>&lt;int&gt;</th><th scope=col>&lt;chr&gt;</th><th scope=col>&lt;chr&gt;</th><th scope=col>&lt;int&gt;</th><th scope=col>&lt;chr&gt;</th><th scope=col>&lt;chr&gt;</th><th scope=col>&lt;chr&gt;</th><th scope=col>...</th><th scope=col>&lt;chr&gt;</th><th scope=col>&lt;chr&gt;</th><th scope=col>&lt;chr&gt;</th><th scope=col>&lt;chr&gt;</th><th scope=col>&lt;chr&gt;</th><th scope=col>&lt;chr&gt;</th><th scope=col>&lt;chr&gt;</th><th scope=col>&lt;chr&gt;</th><th scope=col>&lt;dbl&gt;</th><th scope=col>&lt;chr&gt;</th></tr>\n",
       "</thead>\n",
       "<tbody>\n",
       "\t<tr><th scope=row>1</th><td>1869</td><td>7010-BRBUU</td><td>Male  </td><td>0</td><td>Yes</td><td>Yes</td><td>72</td><td>Yes</td><td>Yes             </td><td>No         </td><td>...</td><td>No internet service</td><td>No internet service</td><td>No internet service</td><td>No internet service</td><td>Two year      </td><td>No </td><td>Credit card (automatic)  </td><td>24.1 </td><td>1734.65</td><td>No </td></tr>\n",
       "\t<tr><th scope=row>2</th><td>4528</td><td>9688-YGXVR</td><td>Female</td><td>0</td><td>No </td><td>No </td><td>44</td><td>Yes</td><td>No              </td><td>Fiber optic</td><td>...</td><td>Yes                </td><td>No                 </td><td>Yes                </td><td>No                 </td><td>Month-to-month</td><td>Yes</td><td>Credit card (automatic)  </td><td>88.15</td><td>3973.20</td><td>No </td></tr>\n",
       "\t<tr><th scope=row>3</th><td>6344</td><td>9286-DOJGF</td><td>Female</td><td>1</td><td>Yes</td><td>No </td><td>38</td><td>Yes</td><td>Yes             </td><td>Fiber optic</td><td>...</td><td>No                 </td><td>No                 </td><td>No                 </td><td>No                 </td><td>Month-to-month</td><td>Yes</td><td>Bank transfer (automatic)</td><td>74.95</td><td>2869.85</td><td>Yes</td></tr>\n",
       "\t<tr><th scope=row>4</th><td>6739</td><td>6994-KERXL</td><td>Male  </td><td>0</td><td>No </td><td>No </td><td> 4</td><td>Yes</td><td>No              </td><td>DSL        </td><td>...</td><td>No                 </td><td>No                 </td><td>No                 </td><td>Yes                </td><td>Month-to-month</td><td>Yes</td><td>Electronic check         </td><td>55.9 </td><td> 238.50</td><td>No </td></tr>\n",
       "\t<tr><th scope=row>5</th><td> 432</td><td>2181-UAESM</td><td>Male  </td><td>0</td><td>No </td><td>No </td><td> 2</td><td>Yes</td><td>No              </td><td>DSL        </td><td>...</td><td>Yes                </td><td>No                 </td><td>No                 </td><td>No                 </td><td>Month-to-month</td><td>No </td><td>Electronic check         </td><td>53.45</td><td> 119.50</td><td>No </td></tr>\n",
       "\t<tr><th scope=row>6</th><td>2215</td><td>4312-GVYNH</td><td>Female</td><td>0</td><td>Yes</td><td>No </td><td>70</td><td>No </td><td>No phone service</td><td>DSL        </td><td>...</td><td>Yes                </td><td>Yes                </td><td>No                 </td><td>Yes                </td><td>Two year      </td><td>Yes</td><td>Bank transfer (automatic)</td><td>49.85</td><td>3370.20</td><td>No </td></tr>\n",
       "</tbody>\n",
       "</table>\n"
      ],
      "text/latex": [
       "A data.frame: 6 × 22\n",
       "\\begin{tabular}{r|lllllllllllllllllllll}\n",
       "  & X & customerID & gender & SeniorCitizen & Partner & Dependents & tenure & PhoneService & MultipleLines & InternetService & ... & DeviceProtection & TechSupport & StreamingTV & StreamingMovies & Contract & PaperlessBilling & PaymentMethod & MonthlyCharges & TotalCharges & Churn\\\\\n",
       "  & <int> & <chr> & <chr> & <int> & <chr> & <chr> & <int> & <chr> & <chr> & <chr> & ... & <chr> & <chr> & <chr> & <chr> & <chr> & <chr> & <chr> & <chr> & <dbl> & <chr>\\\\\n",
       "\\hline\n",
       "\t1 & 1869 & 7010-BRBUU & Male   & 0 & Yes & Yes & 72 & Yes & Yes              & No          & ... & No internet service & No internet service & No internet service & No internet service & Two year       & No  & Credit card (automatic)   & 24.1  & 1734.65 & No \\\\\n",
       "\t2 & 4528 & 9688-YGXVR & Female & 0 & No  & No  & 44 & Yes & No               & Fiber optic & ... & Yes                 & No                  & Yes                 & No                  & Month-to-month & Yes & Credit card (automatic)   & 88.15 & 3973.20 & No \\\\\n",
       "\t3 & 6344 & 9286-DOJGF & Female & 1 & Yes & No  & 38 & Yes & Yes              & Fiber optic & ... & No                  & No                  & No                  & No                  & Month-to-month & Yes & Bank transfer (automatic) & 74.95 & 2869.85 & Yes\\\\\n",
       "\t4 & 6739 & 6994-KERXL & Male   & 0 & No  & No  &  4 & Yes & No               & DSL         & ... & No                  & No                  & No                  & Yes                 & Month-to-month & Yes & Electronic check          & 55.9  &  238.50 & No \\\\\n",
       "\t5 &  432 & 2181-UAESM & Male   & 0 & No  & No  &  2 & Yes & No               & DSL         & ... & Yes                 & No                  & No                  & No                  & Month-to-month & No  & Electronic check          & 53.45 &  119.50 & No \\\\\n",
       "\t6 & 2215 & 4312-GVYNH & Female & 0 & Yes & No  & 70 & No  & No phone service & DSL         & ... & Yes                 & Yes                 & No                  & Yes                 & Two year       & Yes & Bank transfer (automatic) & 49.85 & 3370.20 & No \\\\\n",
       "\\end{tabular}\n"
      ],
      "text/markdown": [
       "\n",
       "A data.frame: 6 × 22\n",
       "\n",
       "| <!--/--> | X &lt;int&gt; | customerID &lt;chr&gt; | gender &lt;chr&gt; | SeniorCitizen &lt;int&gt; | Partner &lt;chr&gt; | Dependents &lt;chr&gt; | tenure &lt;int&gt; | PhoneService &lt;chr&gt; | MultipleLines &lt;chr&gt; | InternetService &lt;chr&gt; | ... ... | DeviceProtection &lt;chr&gt; | TechSupport &lt;chr&gt; | StreamingTV &lt;chr&gt; | StreamingMovies &lt;chr&gt; | Contract &lt;chr&gt; | PaperlessBilling &lt;chr&gt; | PaymentMethod &lt;chr&gt; | MonthlyCharges &lt;chr&gt; | TotalCharges &lt;dbl&gt; | Churn &lt;chr&gt; |\n",
       "|---|---|---|---|---|---|---|---|---|---|---|---|---|---|---|---|---|---|---|---|---|---|\n",
       "| 1 | 1869 | 7010-BRBUU | Male   | 0 | Yes | Yes | 72 | Yes | Yes              | No          | ... | No internet service | No internet service | No internet service | No internet service | Two year       | No  | Credit card (automatic)   | 24.1  | 1734.65 | No  |\n",
       "| 2 | 4528 | 9688-YGXVR | Female | 0 | No  | No  | 44 | Yes | No               | Fiber optic | ... | Yes                 | No                  | Yes                 | No                  | Month-to-month | Yes | Credit card (automatic)   | 88.15 | 3973.20 | No  |\n",
       "| 3 | 6344 | 9286-DOJGF | Female | 1 | Yes | No  | 38 | Yes | Yes              | Fiber optic | ... | No                  | No                  | No                  | No                  | Month-to-month | Yes | Bank transfer (automatic) | 74.95 | 2869.85 | Yes |\n",
       "| 4 | 6739 | 6994-KERXL | Male   | 0 | No  | No  |  4 | Yes | No               | DSL         | ... | No                  | No                  | No                  | Yes                 | Month-to-month | Yes | Electronic check          | 55.9  |  238.50 | No  |\n",
       "| 5 |  432 | 2181-UAESM | Male   | 0 | No  | No  |  2 | Yes | No               | DSL         | ... | Yes                 | No                  | No                  | No                  | Month-to-month | No  | Electronic check          | 53.45 |  119.50 | No  |\n",
       "| 6 | 2215 | 4312-GVYNH | Female | 0 | Yes | No  | 70 | No  | No phone service | DSL         | ... | Yes                 | Yes                 | No                  | Yes                 | Two year       | Yes | Bank transfer (automatic) | 49.85 | 3370.20 | No  |\n",
       "\n"
      ],
      "text/plain": [
       "  X    customerID gender SeniorCitizen Partner Dependents tenure PhoneService\n",
       "1 1869 7010-BRBUU Male   0             Yes     Yes        72     Yes         \n",
       "2 4528 9688-YGXVR Female 0             No      No         44     Yes         \n",
       "3 6344 9286-DOJGF Female 1             Yes     No         38     Yes         \n",
       "4 6739 6994-KERXL Male   0             No      No          4     Yes         \n",
       "5  432 2181-UAESM Male   0             No      No          2     Yes         \n",
       "6 2215 4312-GVYNH Female 0             Yes     No         70     No          \n",
       "  MultipleLines    InternetService ... DeviceProtection    TechSupport        \n",
       "1 Yes              No              ... No internet service No internet service\n",
       "2 No               Fiber optic     ... Yes                 No                 \n",
       "3 Yes              Fiber optic     ... No                  No                 \n",
       "4 No               DSL             ... No                  No                 \n",
       "5 No               DSL             ... Yes                 No                 \n",
       "6 No phone service DSL             ... Yes                 Yes                \n",
       "  StreamingTV         StreamingMovies     Contract       PaperlessBilling\n",
       "1 No internet service No internet service Two year       No              \n",
       "2 Yes                 No                  Month-to-month Yes             \n",
       "3 No                  No                  Month-to-month Yes             \n",
       "4 No                  Yes                 Month-to-month Yes             \n",
       "5 No                  No                  Month-to-month No              \n",
       "6 No                  Yes                 Two year       Yes             \n",
       "  PaymentMethod             MonthlyCharges TotalCharges Churn\n",
       "1 Credit card (automatic)   24.1           1734.65      No   \n",
       "2 Credit card (automatic)   88.15          3973.20      No   \n",
       "3 Bank transfer (automatic) 74.95          2869.85      Yes  \n",
       "4 Electronic check          55.9            238.50      No   \n",
       "5 Electronic check          53.45           119.50      No   \n",
       "6 Bank transfer (automatic) 49.85          3370.20      No   "
      ]
     },
     "metadata": {},
     "output_type": "display_data"
    }
   ],
   "source": [
    "# read data\n",
    "churn_data <- read.csv(\"data/telecom_users.csv\")\n",
    "head(churn_data)"
   ]
  },
  {
   "cell_type": "code",
   "execution_count": 19,
   "id": "c29a9c42",
   "metadata": {},
   "outputs": [
    {
     "name": "stderr",
     "output_type": "stream",
     "text": [
      "Warning message in data(chileancredit):\n",
      "\"data set 'chileancredit' not found\"\n"
     ]
    },
    {
     "ename": "ERROR",
     "evalue": "Error in subset(chileancredit, FlagSample == 1): object 'chileancredit' not found\n",
     "output_type": "error",
     "traceback": [
      "Error in subset(chileancredit, FlagSample == 1): object 'chileancredit' not found\nTraceback:\n",
      "1. subset(chileancredit, FlagSample == 1)"
     ]
    }
   ],
   "source": [
    "data(chileancredit) \n",
    "# Training and testing samples \n",
    "chileancredit.train=subset(chileancredit,FlagSample==1) \n",
    "chileancredit.test=subset(chileancredit,FlagSample==0) \n",
    "# Run and save results \n",
    "result=smbinning(df=chileancredit.train,y=\"FlagGB\",x=\"TOB\",p=0.05) \n",
    "result$ivtable\n",
    " \n",
    "# Relevant plots (2x2 Page) \n",
    "par(mfrow=c(2,2)) \n",
    "boxplot(chileancredit.train$TOB~chileancredit.train$FlagGB, \n",
    "horizontal=T, frame=F, col=\"lightgray\",main=\"Distribution\") \n",
    "mtext(\"Time on Books (Months)\",3) \n",
    "smbinning.plot(result,option=\"dist\",sub=\"Time on Books (Months)\") \n",
    "smbinning.plot(result,option=\"badrate\",sub=\"Time on Books (Months)\") \n",
    "smbinning.plot(result,option=\"WoE\",sub=\"Time on Books (Months)\")"
   ]
  },
  {
   "cell_type": "markdown",
   "id": "dfd1de72",
   "metadata": {},
   "source": [
    "### 3.2.2. `scorecard` package"
   ]
  },
  {
   "cell_type": "markdown",
   "id": "632a66f6",
   "metadata": {},
   "source": [
    "### 3.2. Encoding\n",
    "\n",
    "`Encoding` is the process in which numerical variables or features are created from `categorical` variables. It is a widely used method in the industry and in every model building process. It is of two types: `Label Encoding` and `One-hot Encoding`.\n",
    "\n",
    "`Label Encoding` involves assigning each label a unique integer or value based on alphabetical ordering. It is the most popular and widely used encoding.\n",
    "\n",
    "`One-hot Encoding` involves creating additional features or variables on the basis of unique values in categorical variables i.e. every unique value in the category will be added as a new feature."
   ]
  },
  {
   "cell_type": "markdown",
   "id": "cb7b7aeb",
   "metadata": {},
   "source": [
    "### 3.2.1. On-hot encoding"
   ]
  },
  {
   "cell_type": "code",
   "execution_count": null,
   "id": "b570290d",
   "metadata": {},
   "outputs": [],
   "source": [
    "# Lets use client churn dataset from telco: https://www.kaggle.com/blastchar/telco-customer-churn\n",
    "churn_data <- read.csv(\"data/telecom_users.csv\")\n",
    "head(churn_data)"
   ]
  },
  {
   "cell_type": "code",
   "execution_count": null,
   "id": "fc9d5aae",
   "metadata": {},
   "outputs": [],
   "source": [
    "# check possible Gender values\n",
    "gmodels::CrossTable(churn_data$gender)"
   ]
  },
  {
   "cell_type": "markdown",
   "id": "bc341d57",
   "metadata": {},
   "source": [
    "Lets create two additional variables `Male` and `Female` encoded by 1 / 0:\n",
    "\n",
    "- [x] Create a Male column that encodes each row corresponding to male as 1 and set everything else to 0.\n",
    "- [x] Create a Female column that encodes each row corresponding to female as 1 and set everything else to 0."
   ]
  },
  {
   "cell_type": "code",
   "execution_count": null,
   "id": "ceb862ca",
   "metadata": {},
   "outputs": [],
   "source": [
    "# if gender is factor\n",
    "#churn_data <- churn_data %>% \n",
    "   #     mutate(gender = as.character(gender)) # convert Gender to character from Factor\n",
    "\n",
    "churn_data <- churn_data %>% \n",
    "        mutate(\n",
    "            # create Male column\n",
    "            Male = ifelse(gender == \"Male\", 1, 0),\n",
    "            # create Female column\n",
    "            Female = ifelse(gender == \"Female\", 1, 0))\n",
    "\n",
    "head(churn_data)"
   ]
  },
  {
   "cell_type": "markdown",
   "id": "31178c19",
   "metadata": {},
   "source": [
    "Lets create a dummy variables for `InternetService` column. So, what data it has for now?"
   ]
  },
  {
   "cell_type": "code",
   "execution_count": null,
   "id": "cf0f5756",
   "metadata": {},
   "outputs": [],
   "source": [
    "gmodels::CrossTable(churn_data$InternetService)"
   ]
  },
  {
   "cell_type": "markdown",
   "id": "d4bbbab8",
   "metadata": {},
   "source": [
    "The function `dummyVars()` from `caret` package can be used to generate a complete (less than full rank parameterized) set of dummy variables from one or more factors. The function takes a formula and a data set and outputs an object that can be used to create the dummy variables using the predict method."
   ]
  },
  {
   "cell_type": "code",
   "execution_count": null,
   "id": "fc34e3f1",
   "metadata": {},
   "outputs": [],
   "source": [
    "library(caret)\n",
    "dummy <- dummyVars(\" ~ InternetService\", data = churn_data)\n",
    "new_df <- data.frame(predict(dummy, newdata = churn_data)) # precit dummy variables and\n",
    "new_df %>% head()"
   ]
  },
  {
   "cell_type": "markdown",
   "id": "477f8918",
   "metadata": {},
   "source": [
    "If you want create dummy variables for all categoriacal columns just use `\" ~ .\"` formula.\n",
    "\n",
    "If you need some few do this:"
   ]
  },
  {
   "cell_type": "code",
   "execution_count": 2,
   "id": "dbcc4567",
   "metadata": {},
   "outputs": [
    {
     "ename": "ERROR",
     "evalue": "Error in dummyVars(\" ~ InternetService + PhoneService\", data = churn_data): could not find function \"dummyVars\"\n",
     "output_type": "error",
     "traceback": [
      "Error in dummyVars(\" ~ InternetService + PhoneService\", data = churn_data): could not find function \"dummyVars\"\nTraceback:\n"
     ]
    }
   ],
   "source": [
    "dummy <- dummyVars(\" ~ InternetService + PhoneService\", data = churn_data)\n",
    "new_df <- data.frame(predict(dummy, newdata = churn_data)) # precit dummy variables and\n",
    "new_df %>% head()"
   ]
  },
  {
   "cell_type": "markdown",
   "id": "b0344ffb",
   "metadata": {},
   "source": [
    "## 3.3. Evaluate data on raw dataset"
   ]
  },
  {
   "cell_type": "code",
   "execution_count": 50,
   "id": "617607e3",
   "metadata": {},
   "outputs": [
    {
     "data": {
      "text/html": [
       "<table class=\"dataframe\">\n",
       "<caption>A data.frame: 4 × 4</caption>\n",
       "<thead>\n",
       "\t<tr><th></th><th scope=col>CustomerID</th><th scope=col>Gender</th><th scope=col>Email</th><th scope=col>VisitsLastYear</th></tr>\n",
       "\t<tr><th></th><th scope=col>&lt;dbl&gt;</th><th scope=col>&lt;chr&gt;</th><th scope=col>&lt;chr&gt;</th><th scope=col>&lt;dbl&gt;</th></tr>\n",
       "</thead>\n",
       "<tbody>\n",
       "\t<tr><th scope=row>1</th><td>787987456</td><td>Male  </td><td>Yes </td><td>12</td></tr>\n",
       "\t<tr><th scope=row>2</th><td>456415151</td><td>Male  </td><td>NULL</td><td> 0</td></tr>\n",
       "\t<tr><th scope=row>3</th><td>215454555</td><td>Female</td><td>No  </td><td>16</td></tr>\n",
       "\t<tr><th scope=row>4</th><td>985121122</td><td>Female</td><td>No  </td><td> 4</td></tr>\n",
       "</tbody>\n",
       "</table>\n"
      ],
      "text/latex": [
       "A data.frame: 4 × 4\n",
       "\\begin{tabular}{r|llll}\n",
       "  & CustomerID & Gender & Email & VisitsLastYear\\\\\n",
       "  & <dbl> & <chr> & <chr> & <dbl>\\\\\n",
       "\\hline\n",
       "\t1 & 787987456 & Male   & Yes  & 12\\\\\n",
       "\t2 & 456415151 & Male   & NULL &  0\\\\\n",
       "\t3 & 215454555 & Female & No   & 16\\\\\n",
       "\t4 & 985121122 & Female & No   &  4\\\\\n",
       "\\end{tabular}\n"
      ],
      "text/markdown": [
       "\n",
       "A data.frame: 4 × 4\n",
       "\n",
       "| <!--/--> | CustomerID &lt;dbl&gt; | Gender &lt;chr&gt; | Email &lt;chr&gt; | VisitsLastYear &lt;dbl&gt; |\n",
       "|---|---|---|---|---|\n",
       "| 1 | 787987456 | Male   | Yes  | 12 |\n",
       "| 2 | 456415151 | Male   | NULL |  0 |\n",
       "| 3 | 215454555 | Female | No   | 16 |\n",
       "| 4 | 985121122 | Female | No   |  4 |\n",
       "\n"
      ],
      "text/plain": [
       "  CustomerID Gender Email VisitsLastYear\n",
       "1 787987456  Male   Yes   12            \n",
       "2 456415151  Male   NULL   0            \n",
       "3 215454555  Female No    16            \n",
       "4 985121122  Female No     4            "
      ]
     },
     "metadata": {},
     "output_type": "display_data"
    }
   ],
   "source": [
    "# read transaction data from dataset\n",
    "# explore file in Excel before reading to check sheet numbers and tables structure\n",
    "library(xlsx)\n",
    "demographics <- read.xlsx(\"data/transactions.xlsx\", sheetIndex = 1)\n",
    "head(demographics)"
   ]
  },
  {
   "cell_type": "code",
   "execution_count": 51,
   "id": "90919c1a",
   "metadata": {},
   "outputs": [
    {
     "data": {
      "text/html": [
       "<table class=\"dataframe\">\n",
       "<caption>A data.frame: 6 × 7</caption>\n",
       "<thead>\n",
       "\t<tr><th></th><th scope=col>CustomerID</th><th scope=col>ContractID</th><th scope=col>Date</th><th scope=col>Time</th><th scope=col>ContractorID</th><th scope=col>UsdEquiv_sum</th><th scope=col>Type</th></tr>\n",
       "\t<tr><th></th><th scope=col>&lt;dbl&gt;</th><th scope=col>&lt;dbl&gt;</th><th scope=col>&lt;date&gt;</th><th scope=col>&lt;dbl&gt;</th><th scope=col>&lt;chr&gt;</th><th scope=col>&lt;dbl&gt;</th><th scope=col>&lt;chr&gt;</th></tr>\n",
       "</thead>\n",
       "<tbody>\n",
       "\t<tr><th scope=row>1</th><td>215454555</td><td>19065798</td><td>2019-03-15</td><td>114537</td><td>NULL</td><td>  6293.7111</td><td>credet</td></tr>\n",
       "\t<tr><th scope=row>2</th><td>215454555</td><td>19065798</td><td>2019-04-05</td><td>102525</td><td>NULL</td><td>   914.9459</td><td>credet</td></tr>\n",
       "\t<tr><th scope=row>3</th><td>215454555</td><td>19065798</td><td>2019-05-11</td><td> 80833</td><td>NULL</td><td> -4655.9111</td><td>debet </td></tr>\n",
       "\t<tr><th scope=row>4</th><td>215454555</td><td>19065798</td><td>2019-05-16</td><td> 74606</td><td>NULL</td><td>-13900.6889</td><td>debet </td></tr>\n",
       "\t<tr><th scope=row>5</th><td>215454555</td><td>19065798</td><td>2019-05-30</td><td>104506</td><td>NULL</td><td>  2102.0570</td><td>credet</td></tr>\n",
       "\t<tr><th scope=row>6</th><td>215454555</td><td>19065798</td><td>2019-08-23</td><td>122656</td><td>NULL</td><td>-16244.2333</td><td>debet </td></tr>\n",
       "</tbody>\n",
       "</table>\n"
      ],
      "text/latex": [
       "A data.frame: 6 × 7\n",
       "\\begin{tabular}{r|lllllll}\n",
       "  & CustomerID & ContractID & Date & Time & ContractorID & UsdEquiv\\_sum & Type\\\\\n",
       "  & <dbl> & <dbl> & <date> & <dbl> & <chr> & <dbl> & <chr>\\\\\n",
       "\\hline\n",
       "\t1 & 215454555 & 19065798 & 2019-03-15 & 114537 & NULL &   6293.7111 & credet\\\\\n",
       "\t2 & 215454555 & 19065798 & 2019-04-05 & 102525 & NULL &    914.9459 & credet\\\\\n",
       "\t3 & 215454555 & 19065798 & 2019-05-11 &  80833 & NULL &  -4655.9111 & debet \\\\\n",
       "\t4 & 215454555 & 19065798 & 2019-05-16 &  74606 & NULL & -13900.6889 & debet \\\\\n",
       "\t5 & 215454555 & 19065798 & 2019-05-30 & 104506 & NULL &   2102.0570 & credet\\\\\n",
       "\t6 & 215454555 & 19065798 & 2019-08-23 & 122656 & NULL & -16244.2333 & debet \\\\\n",
       "\\end{tabular}\n"
      ],
      "text/markdown": [
       "\n",
       "A data.frame: 6 × 7\n",
       "\n",
       "| <!--/--> | CustomerID &lt;dbl&gt; | ContractID &lt;dbl&gt; | Date &lt;date&gt; | Time &lt;dbl&gt; | ContractorID &lt;chr&gt; | UsdEquiv_sum &lt;dbl&gt; | Type &lt;chr&gt; |\n",
       "|---|---|---|---|---|---|---|---|\n",
       "| 1 | 215454555 | 19065798 | 2019-03-15 | 114537 | NULL |   6293.7111 | credet |\n",
       "| 2 | 215454555 | 19065798 | 2019-04-05 | 102525 | NULL |    914.9459 | credet |\n",
       "| 3 | 215454555 | 19065798 | 2019-05-11 |  80833 | NULL |  -4655.9111 | debet  |\n",
       "| 4 | 215454555 | 19065798 | 2019-05-16 |  74606 | NULL | -13900.6889 | debet  |\n",
       "| 5 | 215454555 | 19065798 | 2019-05-30 | 104506 | NULL |   2102.0570 | credet |\n",
       "| 6 | 215454555 | 19065798 | 2019-08-23 | 122656 | NULL | -16244.2333 | debet  |\n",
       "\n"
      ],
      "text/plain": [
       "  CustomerID ContractID Date       Time   ContractorID UsdEquiv_sum Type  \n",
       "1 215454555  19065798   2019-03-15 114537 NULL           6293.7111  credet\n",
       "2 215454555  19065798   2019-04-05 102525 NULL            914.9459  credet\n",
       "3 215454555  19065798   2019-05-11  80833 NULL          -4655.9111  debet \n",
       "4 215454555  19065798   2019-05-16  74606 NULL         -13900.6889  debet \n",
       "5 215454555  19065798   2019-05-30 104506 NULL           2102.0570  credet\n",
       "6 215454555  19065798   2019-08-23 122656 NULL         -16244.2333  debet "
      ]
     },
     "metadata": {},
     "output_type": "display_data"
    }
   ],
   "source": [
    "# read transactions\n",
    "transactions <- read.xlsx(\"data/transactions.xlsx\", sheetIndex = 2)\n",
    "head(transactions)"
   ]
  },
  {
   "cell_type": "markdown",
   "id": "69c44650",
   "metadata": {},
   "source": [
    "Out nex task is to construct new features based on transactions history:\n",
    "\n",
    "- [x] `Churn` - target parameter if client has more than 60 days absent transactions between 2021-04-30 and last transaction date.\n",
    "- [x] `ContractsCount` last 3 month `before event Churn == 1/0`"
   ]
  },
  {
   "cell_type": "code",
   "execution_count": 52,
   "id": "973a87e6",
   "metadata": {},
   "outputs": [
    {
     "data": {
      "text/html": [
       "<table class=\"dataframe\">\n",
       "<caption>A tibble: 4 × 2</caption>\n",
       "<thead>\n",
       "\t<tr><th scope=col>CustomerID</th><th scope=col>MaxDate</th></tr>\n",
       "\t<tr><th scope=col>&lt;dbl&gt;</th><th scope=col>&lt;date&gt;</th></tr>\n",
       "</thead>\n",
       "<tbody>\n",
       "\t<tr><td>215454555</td><td>2021-04-30</td></tr>\n",
       "\t<tr><td>456415151</td><td>2021-01-22</td></tr>\n",
       "\t<tr><td>787987456</td><td>2019-12-06</td></tr>\n",
       "\t<tr><td>985121122</td><td>2020-09-09</td></tr>\n",
       "</tbody>\n",
       "</table>\n"
      ],
      "text/latex": [
       "A tibble: 4 × 2\n",
       "\\begin{tabular}{ll}\n",
       " CustomerID & MaxDate\\\\\n",
       " <dbl> & <date>\\\\\n",
       "\\hline\n",
       "\t 215454555 & 2021-04-30\\\\\n",
       "\t 456415151 & 2021-01-22\\\\\n",
       "\t 787987456 & 2019-12-06\\\\\n",
       "\t 985121122 & 2020-09-09\\\\\n",
       "\\end{tabular}\n"
      ],
      "text/markdown": [
       "\n",
       "A tibble: 4 × 2\n",
       "\n",
       "| CustomerID &lt;dbl&gt; | MaxDate &lt;date&gt; |\n",
       "|---|---|\n",
       "| 215454555 | 2021-04-30 |\n",
       "| 456415151 | 2021-01-22 |\n",
       "| 787987456 | 2019-12-06 |\n",
       "| 985121122 | 2020-09-09 |\n",
       "\n"
      ],
      "text/plain": [
       "  CustomerID MaxDate   \n",
       "1 215454555  2021-04-30\n",
       "2 456415151  2021-01-22\n",
       "3 787987456  2019-12-06\n",
       "4 985121122  2020-09-09"
      ]
     },
     "metadata": {},
     "output_type": "display_data"
    }
   ],
   "source": [
    "# lets find a maximum transaction date for each client\n",
    "library(tidyverse) # includes magrittr, dplyr\n",
    "max_dates <- transactions %>%\n",
    "        group_by(CustomerID) %>%\n",
    "        summarise(MaxDate = max(Date))\n",
    "max_dates"
   ]
  },
  {
   "cell_type": "code",
   "execution_count": 53,
   "id": "639292ae",
   "metadata": {},
   "outputs": [
    {
     "data": {
      "text/html": [
       "<table class=\"dataframe\">\n",
       "<caption>A tibble: 4 × 3</caption>\n",
       "<thead>\n",
       "\t<tr><th scope=col>CustomerID</th><th scope=col>MaxDate</th><th scope=col>DaysDiff</th></tr>\n",
       "\t<tr><th scope=col>&lt;dbl&gt;</th><th scope=col>&lt;date&gt;</th><th scope=col>&lt;dbl&gt;</th></tr>\n",
       "</thead>\n",
       "<tbody>\n",
       "\t<tr><td>215454555</td><td>2021-04-30</td><td>  0</td></tr>\n",
       "\t<tr><td>456415151</td><td>2021-01-22</td><td> 98</td></tr>\n",
       "\t<tr><td>787987456</td><td>2019-12-06</td><td>511</td></tr>\n",
       "\t<tr><td>985121122</td><td>2020-09-09</td><td>233</td></tr>\n",
       "</tbody>\n",
       "</table>\n"
      ],
      "text/latex": [
       "A tibble: 4 × 3\n",
       "\\begin{tabular}{lll}\n",
       " CustomerID & MaxDate & DaysDiff\\\\\n",
       " <dbl> & <date> & <dbl>\\\\\n",
       "\\hline\n",
       "\t 215454555 & 2021-04-30 &   0\\\\\n",
       "\t 456415151 & 2021-01-22 &  98\\\\\n",
       "\t 787987456 & 2019-12-06 & 511\\\\\n",
       "\t 985121122 & 2020-09-09 & 233\\\\\n",
       "\\end{tabular}\n"
      ],
      "text/markdown": [
       "\n",
       "A tibble: 4 × 3\n",
       "\n",
       "| CustomerID &lt;dbl&gt; | MaxDate &lt;date&gt; | DaysDiff &lt;dbl&gt; |\n",
       "|---|---|---|\n",
       "| 215454555 | 2021-04-30 |   0 |\n",
       "| 456415151 | 2021-01-22 |  98 |\n",
       "| 787987456 | 2019-12-06 | 511 |\n",
       "| 985121122 | 2020-09-09 | 233 |\n",
       "\n"
      ],
      "text/plain": [
       "  CustomerID MaxDate    DaysDiff\n",
       "1 215454555  2021-04-30   0     \n",
       "2 456415151  2021-01-22  98     \n",
       "3 787987456  2019-12-06 511     \n",
       "4 985121122  2020-09-09 233     "
      ]
     },
     "metadata": {},
     "output_type": "display_data"
    }
   ],
   "source": [
    "library(lubridate) #for datetime manipulation\n",
    "current_date <- ymd(\"2021-04-30\")\n",
    "max_dates <- max_dates %>%\n",
    "        mutate(DaysDiff = as.period(current_date - MaxDate) %>% day()) # find period and convert it to days\n",
    "max_dates"
   ]
  },
  {
   "cell_type": "code",
   "execution_count": 54,
   "id": "3ebacc48",
   "metadata": {},
   "outputs": [
    {
     "data": {
      "text/html": [
       "<table class=\"dataframe\">\n",
       "<caption>A tibble: 4 × 4</caption>\n",
       "<thead>\n",
       "\t<tr><th scope=col>CustomerID</th><th scope=col>MaxDate</th><th scope=col>DaysDiff</th><th scope=col>Churn</th></tr>\n",
       "\t<tr><th scope=col>&lt;dbl&gt;</th><th scope=col>&lt;date&gt;</th><th scope=col>&lt;dbl&gt;</th><th scope=col>&lt;dbl&gt;</th></tr>\n",
       "</thead>\n",
       "<tbody>\n",
       "\t<tr><td>215454555</td><td>2021-04-30</td><td>  0</td><td>0</td></tr>\n",
       "\t<tr><td>456415151</td><td>2021-01-22</td><td> 98</td><td>1</td></tr>\n",
       "\t<tr><td>787987456</td><td>2019-12-06</td><td>511</td><td>1</td></tr>\n",
       "\t<tr><td>985121122</td><td>2020-09-09</td><td>233</td><td>1</td></tr>\n",
       "</tbody>\n",
       "</table>\n"
      ],
      "text/latex": [
       "A tibble: 4 × 4\n",
       "\\begin{tabular}{llll}\n",
       " CustomerID & MaxDate & DaysDiff & Churn\\\\\n",
       " <dbl> & <date> & <dbl> & <dbl>\\\\\n",
       "\\hline\n",
       "\t 215454555 & 2021-04-30 &   0 & 0\\\\\n",
       "\t 456415151 & 2021-01-22 &  98 & 1\\\\\n",
       "\t 787987456 & 2019-12-06 & 511 & 1\\\\\n",
       "\t 985121122 & 2020-09-09 & 233 & 1\\\\\n",
       "\\end{tabular}\n"
      ],
      "text/markdown": [
       "\n",
       "A tibble: 4 × 4\n",
       "\n",
       "| CustomerID &lt;dbl&gt; | MaxDate &lt;date&gt; | DaysDiff &lt;dbl&gt; | Churn &lt;dbl&gt; |\n",
       "|---|---|---|---|\n",
       "| 215454555 | 2021-04-30 |   0 | 0 |\n",
       "| 456415151 | 2021-01-22 |  98 | 1 |\n",
       "| 787987456 | 2019-12-06 | 511 | 1 |\n",
       "| 985121122 | 2020-09-09 | 233 | 1 |\n",
       "\n"
      ],
      "text/plain": [
       "  CustomerID MaxDate    DaysDiff Churn\n",
       "1 215454555  2021-04-30   0      0    \n",
       "2 456415151  2021-01-22  98      1    \n",
       "3 787987456  2019-12-06 511      1    \n",
       "4 985121122  2020-09-09 233      1    "
      ]
     },
     "metadata": {},
     "output_type": "display_data"
    }
   ],
   "source": [
    "# lests calculate Churn feature\n",
    "max_dates <- max_dates %>%\n",
    "        mutate(Churn = ifelse(DaysDiff > 60, 1, 0))\n",
    "max_dates"
   ]
  },
  {
   "cell_type": "markdown",
   "id": "6aaf52aa",
   "metadata": {},
   "source": [
    "You can finally merge code into one query:"
   ]
  },
  {
   "cell_type": "code",
   "execution_count": 55,
   "id": "796524da",
   "metadata": {},
   "outputs": [
    {
     "data": {
      "text/html": [
       "<table class=\"dataframe\">\n",
       "<caption>A tibble: 4 × 2</caption>\n",
       "<thead>\n",
       "\t<tr><th scope=col>CustomerID</th><th scope=col>Churn</th></tr>\n",
       "\t<tr><th scope=col>&lt;dbl&gt;</th><th scope=col>&lt;dbl&gt;</th></tr>\n",
       "</thead>\n",
       "<tbody>\n",
       "\t<tr><td>215454555</td><td>0</td></tr>\n",
       "\t<tr><td>456415151</td><td>1</td></tr>\n",
       "\t<tr><td>787987456</td><td>1</td></tr>\n",
       "\t<tr><td>985121122</td><td>1</td></tr>\n",
       "</tbody>\n",
       "</table>\n"
      ],
      "text/latex": [
       "A tibble: 4 × 2\n",
       "\\begin{tabular}{ll}\n",
       " CustomerID & Churn\\\\\n",
       " <dbl> & <dbl>\\\\\n",
       "\\hline\n",
       "\t 215454555 & 0\\\\\n",
       "\t 456415151 & 1\\\\\n",
       "\t 787987456 & 1\\\\\n",
       "\t 985121122 & 1\\\\\n",
       "\\end{tabular}\n"
      ],
      "text/markdown": [
       "\n",
       "A tibble: 4 × 2\n",
       "\n",
       "| CustomerID &lt;dbl&gt; | Churn &lt;dbl&gt; |\n",
       "|---|---|\n",
       "| 215454555 | 0 |\n",
       "| 456415151 | 1 |\n",
       "| 787987456 | 1 |\n",
       "| 985121122 | 1 |\n",
       "\n"
      ],
      "text/plain": [
       "  CustomerID Churn\n",
       "1 215454555  0    \n",
       "2 456415151  1    \n",
       "3 787987456  1    \n",
       "4 985121122  1    "
      ]
     },
     "metadata": {},
     "output_type": "display_data"
    }
   ],
   "source": [
    "churn_eval <- transactions %>%\n",
    "        group_by(CustomerID) %>%\n",
    "        summarise(MaxDate = max(Date)) %>%\n",
    "        mutate(DaysDiff = as.period(current_date - MaxDate) %>% day(),\n",
    "               Churn = ifelse(DaysDiff > 60, 1, 0)) %>%\n",
    "        select(CustomerID, Churn) # Select only CustomerID and new feature / target\n",
    "churn_eval # we will merge it with demographics later"
   ]
  },
  {
   "cell_type": "markdown",
   "id": "108bbfdd",
   "metadata": {},
   "source": [
    "# ContractsCount last 3 month before event Churn == 1/0"
   ]
  },
  {
   "cell_type": "code",
   "execution_count": 56,
   "id": "7c5ea385",
   "metadata": {},
   "outputs": [],
   "source": [
    "### TASK: calculate average sum of contract for each customer by credet\n",
    "\n",
    "# 1. Find max transaction date\n",
    "# 2. Find transaction date 3 month ago (max transaction date - 3 month)\n",
    "# 3. Filter only records in range (-3 month, max_transaction)\n",
    "# 4. Group data by contracts and find every contract sum\n",
    "# 5. Group data by customers and find every customer average"
   ]
  },
  {
   "cell_type": "code",
   "execution_count": 61,
   "id": "c2e4550a",
   "metadata": {},
   "outputs": [
    {
     "data": {
      "text/html": [
       "<table class=\"dataframe\">\n",
       "<caption>A tibble: 4 × 2</caption>\n",
       "<thead>\n",
       "\t<tr><th scope=col>CustomerID</th><th scope=col>AvgContractSum3m</th></tr>\n",
       "\t<tr><th scope=col>&lt;dbl&gt;</th><th scope=col>&lt;dbl&gt;</th></tr>\n",
       "</thead>\n",
       "<tbody>\n",
       "\t<tr><td>215454555</td><td>45541.3335</td></tr>\n",
       "\t<tr><td>456415151</td><td> 1271.5930</td></tr>\n",
       "\t<tr><td>787987456</td><td>  116.6667</td></tr>\n",
       "\t<tr><td>985121122</td><td> 4444.4444</td></tr>\n",
       "</tbody>\n",
       "</table>\n"
      ],
      "text/latex": [
       "A tibble: 4 × 2\n",
       "\\begin{tabular}{ll}\n",
       " CustomerID & AvgContractSum3m\\\\\n",
       " <dbl> & <dbl>\\\\\n",
       "\\hline\n",
       "\t 215454555 & 45541.3335\\\\\n",
       "\t 456415151 &  1271.5930\\\\\n",
       "\t 787987456 &   116.6667\\\\\n",
       "\t 985121122 &  4444.4444\\\\\n",
       "\\end{tabular}\n"
      ],
      "text/markdown": [
       "\n",
       "A tibble: 4 × 2\n",
       "\n",
       "| CustomerID &lt;dbl&gt; | AvgContractSum3m &lt;dbl&gt; |\n",
       "|---|---|\n",
       "| 215454555 | 45541.3335 |\n",
       "| 456415151 |  1271.5930 |\n",
       "| 787987456 |   116.6667 |\n",
       "| 985121122 |  4444.4444 |\n",
       "\n"
      ],
      "text/plain": [
       "  CustomerID AvgContractSum3m\n",
       "1 215454555  45541.3335      \n",
       "2 456415151   1271.5930      \n",
       "3 787987456    116.6667      \n",
       "4 985121122   4444.4444      "
      ]
     },
     "metadata": {},
     "output_type": "display_data"
    }
   ],
   "source": [
    "avgContractSum3m <- transactions %>%\n",
    "        filter(Type == \"credet\") %>%\n",
    "        group_by(CustomerID) %>%\n",
    "        mutate(MaxDate = max(Date),\n",
    "               Month3Date = MaxDate %m+% months(-3)) %>%\n",
    "       filter(Date >= Month3Date) %>%\n",
    "       group_by(CustomerID, ContractID) %>%\n",
    "       summarize(ContractSum = sum(UsdEquiv_sum), .groups = 'drop') %>%\n",
    "       group_by(CustomerID) %>%\n",
    "       summarise(AvgContractSum3m = mean(ContractSum))\n",
    "\n",
    "avgContractSum3m"
   ]
  },
  {
   "cell_type": "markdown",
   "id": "8a4cd908",
   "metadata": {},
   "source": [
    "Find last 3 average debit sum increase:"
   ]
  },
  {
   "cell_type": "code",
   "execution_count": 95,
   "id": "f7d9993f",
   "metadata": {},
   "outputs": [
    {
     "data": {
      "text/html": [
       "<table class=\"dataframe\">\n",
       "<caption>A rowwise_df: 4 × 2</caption>\n",
       "<thead>\n",
       "\t<tr><th scope=col>CustomerID</th><th scope=col>AvgDebetSumInc</th></tr>\n",
       "\t<tr><th scope=col>&lt;dbl&gt;</th><th scope=col>&lt;dbl&gt;</th></tr>\n",
       "</thead>\n",
       "<tbody>\n",
       "\t<tr><td>215454555</td><td>8.3372521811</td></tr>\n",
       "\t<tr><td>456415151</td><td>         NaN</td></tr>\n",
       "\t<tr><td>787987456</td><td>0.0003175611</td></tr>\n",
       "\t<tr><td>985121122</td><td>         NaN</td></tr>\n",
       "</tbody>\n",
       "</table>\n"
      ],
      "text/latex": [
       "A rowwise\\_df: 4 × 2\n",
       "\\begin{tabular}{ll}\n",
       " CustomerID & AvgDebetSumInc\\\\\n",
       " <dbl> & <dbl>\\\\\n",
       "\\hline\n",
       "\t 215454555 & 8.3372521811\\\\\n",
       "\t 456415151 &          NaN\\\\\n",
       "\t 787987456 & 0.0003175611\\\\\n",
       "\t 985121122 &          NaN\\\\\n",
       "\\end{tabular}\n"
      ],
      "text/markdown": [
       "\n",
       "A rowwise_df: 4 × 2\n",
       "\n",
       "| CustomerID &lt;dbl&gt; | AvgDebetSumInc &lt;dbl&gt; |\n",
       "|---|---|\n",
       "| 215454555 | 8.3372521811 |\n",
       "| 456415151 |          NaN |\n",
       "| 787987456 | 0.0003175611 |\n",
       "| 985121122 |          NaN |\n",
       "\n"
      ],
      "text/plain": [
       "  CustomerID AvgDebetSumInc\n",
       "1 215454555  8.3372521811  \n",
       "2 456415151           NaN  \n",
       "3 787987456  0.0003175611  \n",
       "4 985121122           NaN  "
      ]
     },
     "metadata": {},
     "output_type": "display_data"
    }
   ],
   "source": [
    "### TASK. \n",
    "# 1.\n",
    "\n",
    "x1 <- transactions %>%\n",
    "        filter(Type == \"credet\") %>%\n",
    "        select(CustomerID, Date, UsdEquiv_sum) %>%\n",
    "        group_by(CustomerID) %>%\n",
    "        mutate(MaxDate = max(Date),\n",
    "               Month1Before = MaxDate %m+% months(-1),\n",
    "               Month2Before = MaxDate %m+% months(-2),\n",
    "               Month3Before = MaxDate %m+% months(-3)) \n",
    "#x1\n",
    "\n",
    "m1 <- x1 %>%\n",
    "    filter(Date >= Month1Before & Date <= MaxDate) %>%\n",
    "    group_by(CustomerID) %>%\n",
    "    summarise(M1Sum = sum(UsdEquiv_sum)) %>% \n",
    "    left_join(x1 %>% \n",
    "              filter(Date >= Month2Before & Date <= Month1Before) %>%\n",
    "              group_by(CustomerID) %>%\n",
    "              summarise(M2Sum = sum(UsdEquiv_sum)), by = \"CustomerID\") %>%\n",
    "            left_join(x1 %>% \n",
    "              filter(Date >= Month3Before & Date <= Month2Before) %>%\n",
    "              group_by(CustomerID) %>%\n",
    "              summarise(M3Sum = sum(UsdEquiv_sum)), by = \"CustomerID\") %>%\n",
    "    rowwise %>%\n",
    "    mutate(AvgDebetSumInc = mean(c(M1Sum/M2Sum, M2Sum/M3Sum), na.rm = T)) %>%\n",
    "    select(CustomerID, AvgDebetSumInc)\n",
    "        \n",
    "m1 \n",
    "\n",
    "#%>%\n",
    "       # group_by(CustomerID) %>%\n",
    "    #    summarise(M1Sum = sum(UsdEquiv_sum))\n",
    "#x2\n",
    "      # filter(Date >= Month3Date) %>%\n",
    "      # group_by(CustomerID, ContractID) %>%\n",
    "      # summarize(ContractSum = sum(UsdEquiv_sum), .groups = 'drop') %>%\n",
    "      # group_by(CustomerID) %>%\n",
    "      # summarise(AvgContractSum3m = mean(ContractSum))\n",
    "\n",
    "#head(avgDebitSumIncrease)"
   ]
  },
  {
   "cell_type": "markdown",
   "id": "25fe6925",
   "metadata": {},
   "source": [
    "Join all the tables"
   ]
  },
  {
   "cell_type": "code",
   "execution_count": 96,
   "id": "d583829b",
   "metadata": {},
   "outputs": [
    {
     "data": {
      "text/html": [
       "<table class=\"dataframe\">\n",
       "<caption>A data.frame: 4 × 6</caption>\n",
       "<thead>\n",
       "\t<tr><th scope=col>CustomerID</th><th scope=col>Gender</th><th scope=col>Email</th><th scope=col>VisitsLastYear</th><th scope=col>AvgContractSum3m</th><th scope=col>Churn</th></tr>\n",
       "\t<tr><th scope=col>&lt;dbl&gt;</th><th scope=col>&lt;chr&gt;</th><th scope=col>&lt;chr&gt;</th><th scope=col>&lt;dbl&gt;</th><th scope=col>&lt;dbl&gt;</th><th scope=col>&lt;dbl&gt;</th></tr>\n",
       "</thead>\n",
       "<tbody>\n",
       "\t<tr><td>787987456</td><td>Male  </td><td>Yes </td><td>12</td><td>  116.6667</td><td>1</td></tr>\n",
       "\t<tr><td>456415151</td><td>Male  </td><td>NULL</td><td> 0</td><td> 1271.5930</td><td>1</td></tr>\n",
       "\t<tr><td>215454555</td><td>Female</td><td>No  </td><td>16</td><td>45541.3335</td><td>0</td></tr>\n",
       "\t<tr><td>985121122</td><td>Female</td><td>No  </td><td> 4</td><td> 4444.4444</td><td>1</td></tr>\n",
       "</tbody>\n",
       "</table>\n"
      ],
      "text/latex": [
       "A data.frame: 4 × 6\n",
       "\\begin{tabular}{llllll}\n",
       " CustomerID & Gender & Email & VisitsLastYear & AvgContractSum3m & Churn\\\\\n",
       " <dbl> & <chr> & <chr> & <dbl> & <dbl> & <dbl>\\\\\n",
       "\\hline\n",
       "\t 787987456 & Male   & Yes  & 12 &   116.6667 & 1\\\\\n",
       "\t 456415151 & Male   & NULL &  0 &  1271.5930 & 1\\\\\n",
       "\t 215454555 & Female & No   & 16 & 45541.3335 & 0\\\\\n",
       "\t 985121122 & Female & No   &  4 &  4444.4444 & 1\\\\\n",
       "\\end{tabular}\n"
      ],
      "text/markdown": [
       "\n",
       "A data.frame: 4 × 6\n",
       "\n",
       "| CustomerID &lt;dbl&gt; | Gender &lt;chr&gt; | Email &lt;chr&gt; | VisitsLastYear &lt;dbl&gt; | AvgContractSum3m &lt;dbl&gt; | Churn &lt;dbl&gt; |\n",
       "|---|---|---|---|---|---|\n",
       "| 787987456 | Male   | Yes  | 12 |   116.6667 | 1 |\n",
       "| 456415151 | Male   | NULL |  0 |  1271.5930 | 1 |\n",
       "| 215454555 | Female | No   | 16 | 45541.3335 | 0 |\n",
       "| 985121122 | Female | No   |  4 |  4444.4444 | 1 |\n",
       "\n"
      ],
      "text/plain": [
       "  CustomerID Gender Email VisitsLastYear AvgContractSum3m Churn\n",
       "1 787987456  Male   Yes   12               116.6667       1    \n",
       "2 456415151  Male   NULL   0              1271.5930       1    \n",
       "3 215454555  Female No    16             45541.3335       0    \n",
       "4 985121122  Female No     4              4444.4444       1    "
      ]
     },
     "metadata": {},
     "output_type": "display_data"
    }
   ],
   "source": [
    "final_set <- demographics %>% \n",
    "        left_join(avgContractSum3m , by = \"CustomerID\") %>%\n",
    "        left_join(churn_eval, by = \"CustomerID\")\n",
    "final_set"
   ]
  },
  {
   "cell_type": "code",
   "execution_count": null,
   "id": "cde206fd",
   "metadata": {},
   "outputs": [],
   "source": [
    "On the next stages this data can be transformed with scaling, encoding, binning"
   ]
  },
  {
   "cell_type": "markdown",
   "id": "043891d0",
   "metadata": {},
   "source": [
    "---"
   ]
  },
  {
   "cell_type": "markdown",
   "id": "afe98f55",
   "metadata": {},
   "source": [
    "## References"
   ]
  },
  {
   "cell_type": "markdown",
   "id": "305d76c0",
   "metadata": {},
   "source": [
    "1. [Feature Engineering in R Programming](https://www.geeksforgeeks.org/feature-engineering-in-r-programming/) by @dhruv5819\n",
    "2. [What is Feature Engineering?](https://www.displayr.com/what-is-feature-engineering/) by Tim Bok\n",
    "3. [Feature Scaling-Why it is required?](https://medium.com/@rahul77349/feature-scaling-why-it-is-required-8a93df1af310) by Rahul Saini\n",
    "4. [Feature Scaling for Machine Learning: Understanding the Difference Between Normalization vs. Standardization](https://www.analyticsvidhya.com/blog/2020/04/feature-scaling-machine-learning-normalization-standardization/) by \n",
    "ANIRUDDHA BHANDARI\n",
    "5. [R Package 'smbinning': Optimal Binning for Scoring Modeling by Herman Jopia](https://blog.revolutionanalytics.com/2015/03/r-package-smbinning-optimal-binning-for-scoring-modeling.html)\n",
    "6. Garcia, S. et al (2013) A Survey of Discretization Techniques: Taxonomy and Empirical Analysis in Supervised Learning. IEEE Transactions on Knowledge and Data Engineering, Vol. 25, No. 4, April 2013.\n",
    "7. [An Overview on the Landscape of R Packages for Credit Scoring by Gero Szepannek](https://arxiv.org/pdf/2006.11835.pdf)"
   ]
  }
 ],
 "metadata": {
  "kernelspec": {
   "display_name": "R",
   "language": "R",
   "name": "ir"
  },
  "language_info": {
   "codemirror_mode": "r",
   "file_extension": ".r",
   "mimetype": "text/x-r-source",
   "name": "R",
   "pygments_lexer": "r",
   "version": "4.0.3"
  }
 },
 "nbformat": 4,
 "nbformat_minor": 5
}
