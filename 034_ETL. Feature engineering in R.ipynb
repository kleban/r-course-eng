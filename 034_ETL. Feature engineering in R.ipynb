{
 "cells": [
  {
   "cell_type": "markdown",
   "metadata": {},
   "source": [
    "# Feature engineering\n",
    "\n",
    "---\n",
    "\n",
    "## Fundamentals of ETL: data extraction, transformation and loading\n",
    "\n",
    "\n",
    "Applied Mathematical Modeling in Banking"
   ]
  },
  {
   "cell_type": "markdown",
   "metadata": {},
   "source": [
    "---"
   ]
  },
  {
   "cell_type": "markdown",
   "metadata": {},
   "source": [
    "# Table of contents"
   ]
  },
  {
   "cell_type": "markdown",
   "metadata": {},
   "source": [
    "---"
   ]
  },
  {
   "cell_type": "markdown",
   "metadata": {},
   "source": [
    "# 1. What's Feature Engineering?\n"
   ]
  },
  {
   "cell_type": "markdown",
   "metadata": {},
   "source": [
    "`Feature engineering` is the most important technique used in creating machine learning models. \n",
    "\n",
    "Feature Engineering is a basic term used to cover many operations that are performed on the variables(features) to fit them into the algorithm. **It helps in increasing the accuracy** of the model thereby enhances the results of the predictions. Feature Engineered machine learning models perform better on data than basic machine learning models. The following aspects of feature engineering are as follows [1]:\n",
    "\n",
    "1. `Feature Scaling`: It is done to get the features on the same scale( for eg. Euclidean distance).\n",
    "2. `Feature Transformation`: It is done to normalize the data(feature) by a function.\n",
    "3. `Feature Construction`: It is done to create new features based on original descriptors to improve the accuracy of the predictive model."
   ]
  },
  {
   "cell_type": "markdown",
   "metadata": {},
   "source": [
    "A `\"feature\"` in the context of predictive modeling is just another name for a `predictor variable`. Feature engineering is the general term for creating and manipulating predictors so that a good predictive model can be created."
   ]
  },
  {
   "cell_type": "markdown",
   "metadata": {},
   "source": [
    "---"
   ]
  },
  {
   "cell_type": "markdown",
   "metadata": {},
   "source": [
    "# 2. Feature Scaling"
   ]
  },
  {
   "cell_type": "markdown",
   "metadata": {},
   "source": [
    "`Feature Scaling` refers to putting the values in the same range or same scale so that no variable is dominated by the other."
   ]
  },
  {
   "cell_type": "markdown",
   "metadata": {},
   "source": [
    "Most of the times, your dataset will contain features highly varying in magnitudes, units and range. But since, most of the machine learning algorithms use Euclidean distance between two data points in their computations, this is a problem.\n",
    "\n",
    "If left alone, these algorithms only take in the magnitude of features neglecting the units. The results would vary greatly between different units, 5kg and 5000gms. The features with high magnitudes will weigh in a lot more in the distance calculations than features with low magnitudes. To suppress this effect, we need to bring all features to the same level of magnitudes. This can be achieved by scaling.\n",
    "\n",
    "Here’s the curious thing about feature scaling – it improves (significantly) the performance of some machine learning algorithms and does not work at all for others.\n",
    "\n",
    "Also, what’s the difference between normalization and standardization? These are two of the most commonly used feature scaling techniques in machine learning but a level of ambiguity exists in their understanding. "
   ]
  },
  {
   "cell_type": "markdown",
   "metadata": {},
   "source": [
    "---"
   ]
  },
  {
   "cell_type": "markdown",
   "metadata": {},
   "source": [
    "## 2.1. Normalization"
   ]
  },
  {
   "cell_type": "markdown",
   "metadata": {},
   "source": [
    "### Theory"
   ]
  },
  {
   "cell_type": "markdown",
   "metadata": {},
   "source": [
    "**Normalization** is a scaling technique in which values are shifted and rescaled so that they end up ranging between 0 and 1. It is also known as **`Min-Max scaling`**.\n",
    "\n",
    "Here’s the formula for normalization:"
   ]
  },
  {
   "cell_type": "markdown",
   "metadata": {},
   "source": [
    "<center>$X' = \\frac{X-X_{min}}{X_{max} - X_{min}}$</center>"
   ]
  },
  {
   "cell_type": "markdown",
   "metadata": {},
   "source": [
    "Here, $X_{max}$ and $X_{min}$ are the maximum and the minimum values of the feature respectively.\n",
    "\n",
    "When the value of $X$ is the minimum value in the column, the numerator will be $0$, and hence $X'$ is $0$.\n",
    "\n",
    "On the other hand, when the value of $X$ is the maximum value in the column, the numerator is equal to the denominator and thus the value of $X'$ is $1$.\n",
    "\n",
    "If the value of $X$ is between the minimum and the maximum value, then the value of $X'$ is between $0$ and $1$."
   ]
  },
  {
   "cell_type": "markdown",
   "metadata": {},
   "source": [
    "---"
   ]
  },
  {
   "cell_type": "markdown",
   "metadata": {},
   "source": [
    "### Practice"
   ]
  },
  {
   "cell_type": "markdown",
   "metadata": {},
   "source": [
    "So, let's implement own normalization function."
   ]
  },
  {
   "cell_type": "code",
   "execution_count": 3,
   "metadata": {},
   "outputs": [
    {
     "data": {
      "text/html": [
       "<table class=\"dataframe\">\n",
       "<caption>A data.frame: 6 × 22</caption>\n",
       "<thead>\n",
       "\t<tr><th></th><th scope=col>X</th><th scope=col>customerID</th><th scope=col>gender</th><th scope=col>SeniorCitizen</th><th scope=col>Partner</th><th scope=col>Dependents</th><th scope=col>tenure</th><th scope=col>PhoneService</th><th scope=col>MultipleLines</th><th scope=col>InternetService</th><th scope=col>⋯</th><th scope=col>DeviceProtection</th><th scope=col>TechSupport</th><th scope=col>StreamingTV</th><th scope=col>StreamingMovies</th><th scope=col>Contract</th><th scope=col>PaperlessBilling</th><th scope=col>PaymentMethod</th><th scope=col>MonthlyCharges</th><th scope=col>TotalCharges</th><th scope=col>Churn</th></tr>\n",
       "\t<tr><th></th><th scope=col>&lt;int&gt;</th><th scope=col>&lt;chr&gt;</th><th scope=col>&lt;chr&gt;</th><th scope=col>&lt;int&gt;</th><th scope=col>&lt;chr&gt;</th><th scope=col>&lt;chr&gt;</th><th scope=col>&lt;int&gt;</th><th scope=col>&lt;chr&gt;</th><th scope=col>&lt;chr&gt;</th><th scope=col>&lt;chr&gt;</th><th scope=col>⋯</th><th scope=col>&lt;chr&gt;</th><th scope=col>&lt;chr&gt;</th><th scope=col>&lt;chr&gt;</th><th scope=col>&lt;chr&gt;</th><th scope=col>&lt;chr&gt;</th><th scope=col>&lt;chr&gt;</th><th scope=col>&lt;chr&gt;</th><th scope=col>&lt;chr&gt;</th><th scope=col>&lt;dbl&gt;</th><th scope=col>&lt;chr&gt;</th></tr>\n",
       "</thead>\n",
       "<tbody>\n",
       "\t<tr><th scope=row>1</th><td>1869</td><td>7010-BRBUU</td><td>Male  </td><td>0</td><td>Yes</td><td>Yes</td><td>72</td><td>Yes</td><td>Yes             </td><td>No         </td><td>⋯</td><td>No internet service</td><td>No internet service</td><td>No internet service</td><td>No internet service</td><td>Two year      </td><td>No </td><td>Credit card (automatic)  </td><td>24.1 </td><td>1734.65</td><td>No </td></tr>\n",
       "\t<tr><th scope=row>2</th><td>4528</td><td>9688-YGXVR</td><td>Female</td><td>0</td><td>No </td><td>No </td><td>44</td><td>Yes</td><td>No              </td><td>Fiber optic</td><td>⋯</td><td>Yes                </td><td>No                 </td><td>Yes                </td><td>No                 </td><td>Month-to-month</td><td>Yes</td><td>Credit card (automatic)  </td><td>88.15</td><td>3973.20</td><td>No </td></tr>\n",
       "\t<tr><th scope=row>3</th><td>6344</td><td>9286-DOJGF</td><td>Female</td><td>1</td><td>Yes</td><td>No </td><td>38</td><td>Yes</td><td>Yes             </td><td>Fiber optic</td><td>⋯</td><td>No                 </td><td>No                 </td><td>No                 </td><td>No                 </td><td>Month-to-month</td><td>Yes</td><td>Bank transfer (automatic)</td><td>74.95</td><td>2869.85</td><td>Yes</td></tr>\n",
       "\t<tr><th scope=row>4</th><td>6739</td><td>6994-KERXL</td><td>Male  </td><td>0</td><td>No </td><td>No </td><td> 4</td><td>Yes</td><td>No              </td><td>DSL        </td><td>⋯</td><td>No                 </td><td>No                 </td><td>No                 </td><td>Yes                </td><td>Month-to-month</td><td>Yes</td><td>Electronic check         </td><td>55.9 </td><td> 238.50</td><td>No </td></tr>\n",
       "\t<tr><th scope=row>5</th><td> 432</td><td>2181-UAESM</td><td>Male  </td><td>0</td><td>No </td><td>No </td><td> 2</td><td>Yes</td><td>No              </td><td>DSL        </td><td>⋯</td><td>Yes                </td><td>No                 </td><td>No                 </td><td>No                 </td><td>Month-to-month</td><td>No </td><td>Electronic check         </td><td>53.45</td><td> 119.50</td><td>No </td></tr>\n",
       "\t<tr><th scope=row>6</th><td>2215</td><td>4312-GVYNH</td><td>Female</td><td>0</td><td>Yes</td><td>No </td><td>70</td><td>No </td><td>No phone service</td><td>DSL        </td><td>⋯</td><td>Yes                </td><td>Yes                </td><td>No                 </td><td>Yes                </td><td>Two year      </td><td>Yes</td><td>Bank transfer (automatic)</td><td>49.85</td><td>3370.20</td><td>No </td></tr>\n",
       "</tbody>\n",
       "</table>\n"
      ],
      "text/latex": [
       "A data.frame: 6 × 22\n",
       "\\begin{tabular}{r|lllllllllllllllllllll}\n",
       "  & X & customerID & gender & SeniorCitizen & Partner & Dependents & tenure & PhoneService & MultipleLines & InternetService & ⋯ & DeviceProtection & TechSupport & StreamingTV & StreamingMovies & Contract & PaperlessBilling & PaymentMethod & MonthlyCharges & TotalCharges & Churn\\\\\n",
       "  & <int> & <chr> & <chr> & <int> & <chr> & <chr> & <int> & <chr> & <chr> & <chr> & ⋯ & <chr> & <chr> & <chr> & <chr> & <chr> & <chr> & <chr> & <chr> & <dbl> & <chr>\\\\\n",
       "\\hline\n",
       "\t1 & 1869 & 7010-BRBUU & Male   & 0 & Yes & Yes & 72 & Yes & Yes              & No          & ⋯ & No internet service & No internet service & No internet service & No internet service & Two year       & No  & Credit card (automatic)   & 24.1  & 1734.65 & No \\\\\n",
       "\t2 & 4528 & 9688-YGXVR & Female & 0 & No  & No  & 44 & Yes & No               & Fiber optic & ⋯ & Yes                 & No                  & Yes                 & No                  & Month-to-month & Yes & Credit card (automatic)   & 88.15 & 3973.20 & No \\\\\n",
       "\t3 & 6344 & 9286-DOJGF & Female & 1 & Yes & No  & 38 & Yes & Yes              & Fiber optic & ⋯ & No                  & No                  & No                  & No                  & Month-to-month & Yes & Bank transfer (automatic) & 74.95 & 2869.85 & Yes\\\\\n",
       "\t4 & 6739 & 6994-KERXL & Male   & 0 & No  & No  &  4 & Yes & No               & DSL         & ⋯ & No                  & No                  & No                  & Yes                 & Month-to-month & Yes & Electronic check          & 55.9  &  238.50 & No \\\\\n",
       "\t5 &  432 & 2181-UAESM & Male   & 0 & No  & No  &  2 & Yes & No               & DSL         & ⋯ & Yes                 & No                  & No                  & No                  & Month-to-month & No  & Electronic check          & 53.45 &  119.50 & No \\\\\n",
       "\t6 & 2215 & 4312-GVYNH & Female & 0 & Yes & No  & 70 & No  & No phone service & DSL         & ⋯ & Yes                 & Yes                 & No                  & Yes                 & Two year       & Yes & Bank transfer (automatic) & 49.85 & 3370.20 & No \\\\\n",
       "\\end{tabular}\n"
      ],
      "text/markdown": [
       "\n",
       "A data.frame: 6 × 22\n",
       "\n",
       "| <!--/--> | X &lt;int&gt; | customerID &lt;chr&gt; | gender &lt;chr&gt; | SeniorCitizen &lt;int&gt; | Partner &lt;chr&gt; | Dependents &lt;chr&gt; | tenure &lt;int&gt; | PhoneService &lt;chr&gt; | MultipleLines &lt;chr&gt; | InternetService &lt;chr&gt; | ⋯ ⋯ | DeviceProtection &lt;chr&gt; | TechSupport &lt;chr&gt; | StreamingTV &lt;chr&gt; | StreamingMovies &lt;chr&gt; | Contract &lt;chr&gt; | PaperlessBilling &lt;chr&gt; | PaymentMethod &lt;chr&gt; | MonthlyCharges &lt;chr&gt; | TotalCharges &lt;dbl&gt; | Churn &lt;chr&gt; |\n",
       "|---|---|---|---|---|---|---|---|---|---|---|---|---|---|---|---|---|---|---|---|---|---|\n",
       "| 1 | 1869 | 7010-BRBUU | Male   | 0 | Yes | Yes | 72 | Yes | Yes              | No          | ⋯ | No internet service | No internet service | No internet service | No internet service | Two year       | No  | Credit card (automatic)   | 24.1  | 1734.65 | No  |\n",
       "| 2 | 4528 | 9688-YGXVR | Female | 0 | No  | No  | 44 | Yes | No               | Fiber optic | ⋯ | Yes                 | No                  | Yes                 | No                  | Month-to-month | Yes | Credit card (automatic)   | 88.15 | 3973.20 | No  |\n",
       "| 3 | 6344 | 9286-DOJGF | Female | 1 | Yes | No  | 38 | Yes | Yes              | Fiber optic | ⋯ | No                  | No                  | No                  | No                  | Month-to-month | Yes | Bank transfer (automatic) | 74.95 | 2869.85 | Yes |\n",
       "| 4 | 6739 | 6994-KERXL | Male   | 0 | No  | No  |  4 | Yes | No               | DSL         | ⋯ | No                  | No                  | No                  | Yes                 | Month-to-month | Yes | Electronic check          | 55.9  |  238.50 | No  |\n",
       "| 5 |  432 | 2181-UAESM | Male   | 0 | No  | No  |  2 | Yes | No               | DSL         | ⋯ | Yes                 | No                  | No                  | No                  | Month-to-month | No  | Electronic check          | 53.45 |  119.50 | No  |\n",
       "| 6 | 2215 | 4312-GVYNH | Female | 0 | Yes | No  | 70 | No  | No phone service | DSL         | ⋯ | Yes                 | Yes                 | No                  | Yes                 | Two year       | Yes | Bank transfer (automatic) | 49.85 | 3370.20 | No  |\n",
       "\n"
      ],
      "text/plain": [
       "  X    customerID gender SeniorCitizen Partner Dependents tenure PhoneService\n",
       "1 1869 7010-BRBUU Male   0             Yes     Yes        72     Yes         \n",
       "2 4528 9688-YGXVR Female 0             No      No         44     Yes         \n",
       "3 6344 9286-DOJGF Female 1             Yes     No         38     Yes         \n",
       "4 6739 6994-KERXL Male   0             No      No          4     Yes         \n",
       "5  432 2181-UAESM Male   0             No      No          2     Yes         \n",
       "6 2215 4312-GVYNH Female 0             Yes     No         70     No          \n",
       "  MultipleLines    InternetService ⋯ DeviceProtection    TechSupport        \n",
       "1 Yes              No              ⋯ No internet service No internet service\n",
       "2 No               Fiber optic     ⋯ Yes                 No                 \n",
       "3 Yes              Fiber optic     ⋯ No                  No                 \n",
       "4 No               DSL             ⋯ No                  No                 \n",
       "5 No               DSL             ⋯ Yes                 No                 \n",
       "6 No phone service DSL             ⋯ Yes                 Yes                \n",
       "  StreamingTV         StreamingMovies     Contract       PaperlessBilling\n",
       "1 No internet service No internet service Two year       No              \n",
       "2 Yes                 No                  Month-to-month Yes             \n",
       "3 No                  No                  Month-to-month Yes             \n",
       "4 No                  Yes                 Month-to-month Yes             \n",
       "5 No                  No                  Month-to-month No              \n",
       "6 No                  Yes                 Two year       Yes             \n",
       "  PaymentMethod             MonthlyCharges TotalCharges Churn\n",
       "1 Credit card (automatic)   24.1           1734.65      No   \n",
       "2 Credit card (automatic)   88.15          3973.20      No   \n",
       "3 Bank transfer (automatic) 74.95          2869.85      Yes  \n",
       "4 Electronic check          55.9            238.50      No   \n",
       "5 Electronic check          53.45           119.50      No   \n",
       "6 Bank transfer (automatic) 49.85          3370.20      No   "
      ]
     },
     "metadata": {},
     "output_type": "display_data"
    }
   ],
   "source": [
    "# Lets use client churn dataset from telco: https://www.kaggle.com/blastchar/telco-customer-churn\n",
    "churn_data <- read.csv(\"data/telecom_users.csv\")\n",
    "head(churn_data)"
   ]
  },
  {
   "cell_type": "code",
   "execution_count": 2,
   "metadata": {},
   "outputs": [
    {
     "name": "stdout",
     "output_type": "stream",
     "text": [
      "'data.frame':\t5986 obs. of  22 variables:\n",
      " $ X               : int  1869 4528 6344 6739 432 2215 5260 6001 1480 5137 ...\n",
      " $ customerID      : chr  \"7010-BRBUU\" \"9688-YGXVR\" \"9286-DOJGF\" \"6994-KERXL\" ...\n",
      " $ gender          : chr  \"Male\" \"Female\" \"Female\" \"Male\" ...\n",
      " $ SeniorCitizen   : int  0 0 1 0 0 0 0 0 0 1 ...\n",
      " $ Partner         : chr  \"Yes\" \"No\" \"Yes\" \"No\" ...\n",
      " $ Dependents      : chr  \"Yes\" \"No\" \"No\" \"No\" ...\n",
      " $ tenure          : int  72 44 38 4 2 70 33 1 39 55 ...\n",
      " $ PhoneService    : chr  \"Yes\" \"Yes\" \"Yes\" \"Yes\" ...\n",
      " $ MultipleLines   : chr  \"Yes\" \"No\" \"Yes\" \"No\" ...\n",
      " $ InternetService : chr  \"No\" \"Fiber optic\" \"Fiber optic\" \"DSL\" ...\n",
      " $ OnlineSecurity  : chr  \"No internet service\" \"No\" \"No\" \"No\" ...\n",
      " $ OnlineBackup    : chr  \"No internet service\" \"Yes\" \"No\" \"No\" ...\n",
      " $ DeviceProtection: chr  \"No internet service\" \"Yes\" \"No\" \"No\" ...\n",
      " $ TechSupport     : chr  \"No internet service\" \"No\" \"No\" \"No\" ...\n",
      " $ StreamingTV     : chr  \"No internet service\" \"Yes\" \"No\" \"No\" ...\n",
      " $ StreamingMovies : chr  \"No internet service\" \"No\" \"No\" \"Yes\" ...\n",
      " $ Contract        : chr  \"Two year\" \"Month-to-month\" \"Month-to-month\" \"Month-to-month\" ...\n",
      " $ PaperlessBilling: chr  \"No\" \"Yes\" \"Yes\" \"Yes\" ...\n",
      " $ PaymentMethod   : chr  \"Credit card (automatic)\" \"Credit card (automatic)\" \"Bank transfer (automatic)\" \"Electronic check\" ...\n",
      " $ MonthlyCharges  : chr  \"24.1\" \"88.15\" \"74.95\" \"55.9\" ...\n",
      " $ TotalCharges    : num  1735 3973 2870 238 120 ...\n",
      " $ Churn           : chr  \"No\" \"No\" \"Yes\" \"No\" ...\n"
     ]
    }
   ],
   "source": [
    "str(churn_data)"
   ]
  },
  {
   "cell_type": "code",
   "execution_count": 2,
   "metadata": {},
   "outputs": [
    {
     "data": {
      "text/plain": [
       "       X         customerID           gender          SeniorCitizen   \n",
       " Min.   :   0   Length:5986        Length:5986        Min.   :0.0000  \n",
       " 1st Qu.:1777   Class :character   Class :character   1st Qu.:0.0000  \n",
       " Median :3546   Mode  :character   Mode  :character   Median :0.0000  \n",
       " Mean   :3534                                         Mean   :0.1614  \n",
       " 3rd Qu.:5292                                         3rd Qu.:0.0000  \n",
       " Max.   :7042                                         Max.   :1.0000  \n",
       "                                                                      \n",
       "   Partner           Dependents            tenure      PhoneService      \n",
       " Length:5986        Length:5986        Min.   : 0.00   Length:5986       \n",
       " Class :character   Class :character   1st Qu.: 9.00   Class :character  \n",
       " Mode  :character   Mode  :character   Median :29.00   Mode  :character  \n",
       "                                       Mean   :32.47                     \n",
       "                                       3rd Qu.:56.00                     \n",
       "                                       Max.   :72.00                     \n",
       "                                                                         \n",
       " MultipleLines      InternetService    OnlineSecurity     OnlineBackup      \n",
       " Length:5986        Length:5986        Length:5986        Length:5986       \n",
       " Class :character   Class :character   Class :character   Class :character  \n",
       " Mode  :character   Mode  :character   Mode  :character   Mode  :character  \n",
       "                                                                            \n",
       "                                                                            \n",
       "                                                                            \n",
       "                                                                            \n",
       " DeviceProtection   TechSupport        StreamingTV        StreamingMovies   \n",
       " Length:5986        Length:5986        Length:5986        Length:5986       \n",
       " Class :character   Class :character   Class :character   Class :character  \n",
       " Mode  :character   Mode  :character   Mode  :character   Mode  :character  \n",
       "                                                                            \n",
       "                                                                            \n",
       "                                                                            \n",
       "                                                                            \n",
       "   Contract         PaperlessBilling   PaymentMethod      MonthlyCharges    \n",
       " Length:5986        Length:5986        Length:5986        Length:5986       \n",
       " Class :character   Class :character   Class :character   Class :character  \n",
       " Mode  :character   Mode  :character   Mode  :character   Mode  :character  \n",
       "                                                                            \n",
       "                                                                            \n",
       "                                                                            \n",
       "                                                                            \n",
       "  TotalCharges       Churn          \n",
       " Min.   :  18.8   Length:5986       \n",
       " 1st Qu.: 404.3   Class :character  \n",
       " Median :1412.2   Mode  :character  \n",
       " Mean   :2298.1                     \n",
       " 3rd Qu.:3847.0                     \n",
       " Max.   :8684.8                     \n",
       " NA's   :10                         "
      ]
     },
     "metadata": {},
     "output_type": "display_data"
    }
   ],
   "source": [
    "# next check summary of values\n",
    "summary(churn_data)\n",
    "\n",
    "# check TotalCharges field"
   ]
  },
  {
   "cell_type": "markdown",
   "metadata": {},
   "source": [
    "Next, lets build histogram of `Income` and check how it splited with `ggplot2`:"
   ]
  },
  {
   "cell_type": "code",
   "execution_count": 4,
   "metadata": {},
   "outputs": [],
   "source": [
    "#install.packages(\"ggplot2\")\n",
    "library(ggplot2)"
   ]
  },
  {
   "cell_type": "markdown",
   "metadata": {},
   "source": [
    "`ggplot()` - function for building charts\n",
    "\n",
    "`data` - first parameter - dataset \n",
    "\n",
    "`aes()` - authetics - visualition axis / Construct aesthetic mappings\n",
    "\n",
    "`geom_CHART_TYPE()` - set the chart type\n",
    "\n",
    "`geom_histogram()` - Histograms and frequency polygons\n",
    "\n",
    "//`theme_set()` - theme configutation"
   ]
  },
  {
   "cell_type": "code",
   "execution_count": 4,
   "metadata": {},
   "outputs": [
    {
     "name": "stderr",
     "output_type": "stream",
     "text": [
      "Warning message:\n",
      "“Removed 10 rows containing non-finite values (stat_bin).”\n"
     ]
    },
    {
     "data": {
      "image/png": "[encoded data removed]",
      "text/plain": [
       "plot without title"
      ]
     },
     "metadata": {
      "image/png": {
       "height": 420,
       "width": 420
      }
     },
     "output_type": "display_data"
    }
   ],
   "source": [
    "ggplot(data = churn_data, aes(x=TotalCharges)) + geom_histogram(bins = 15)\n",
    "\n",
    "# try theme"
   ]
  },
  {
   "cell_type": "code",
   "execution_count": null,
   "metadata": {},
   "outputs": [],
   "source": []
  },
  {
   "cell_type": "code",
   "execution_count": 6,
   "metadata": {},
   "outputs": [
    {
     "data": {
      "image/png": "[encoded data removed]",
      "text/plain": [
       "plot without title"
      ]
     },
     "metadata": {
      "image/png": {
       "height": 420,
       "width": 420
      }
     },
     "output_type": "display_data"
    }
   ],
   "source": [
    "# Lets replace missing with 0 zero for TotalCharges \n",
    "library(magrittr) # if pipe not loaded\n",
    "library(dplyr) # for nutate function\n",
    "churn_data <- churn_data %>%\n",
    "            mutate(TotalCharges = ifelse(is.na(TotalCharges), 0 , TotalCharges))\n",
    "\n",
    "ggplot(churn_data, aes(x=TotalCharges)) + geom_histogram(bins = 15)"
   ]
  },
  {
   "cell_type": "code",
   "execution_count": 8,
   "metadata": {},
   "outputs": [],
   "source": [
    "# Lets implement own normalization function by fomula explained earlie\n",
    "normalizeData <- function(x) {\n",
    "    return ((x - min(x)) / (max(x) - min(x)))\n",
    "}"
   ]
  },
  {
   "cell_type": "code",
   "execution_count": 9,
   "metadata": {},
   "outputs": [
    {
     "data": {
      "text/html": [
       "<table class=\"dataframe\">\n",
       "<caption>A data.frame: 6 × 23</caption>\n",
       "<thead>\n",
       "\t<tr><th></th><th scope=col>X</th><th scope=col>customerID</th><th scope=col>gender</th><th scope=col>SeniorCitizen</th><th scope=col>Partner</th><th scope=col>Dependents</th><th scope=col>tenure</th><th scope=col>PhoneService</th><th scope=col>MultipleLines</th><th scope=col>InternetService</th><th scope=col>⋯</th><th scope=col>TechSupport</th><th scope=col>StreamingTV</th><th scope=col>StreamingMovies</th><th scope=col>Contract</th><th scope=col>PaperlessBilling</th><th scope=col>PaymentMethod</th><th scope=col>MonthlyCharges</th><th scope=col>TotalCharges</th><th scope=col>Churn</th><th scope=col>TotalChargesNorm</th></tr>\n",
       "\t<tr><th></th><th scope=col>&lt;int&gt;</th><th scope=col>&lt;chr&gt;</th><th scope=col>&lt;chr&gt;</th><th scope=col>&lt;int&gt;</th><th scope=col>&lt;chr&gt;</th><th scope=col>&lt;chr&gt;</th><th scope=col>&lt;int&gt;</th><th scope=col>&lt;chr&gt;</th><th scope=col>&lt;chr&gt;</th><th scope=col>&lt;chr&gt;</th><th scope=col>⋯</th><th scope=col>&lt;chr&gt;</th><th scope=col>&lt;chr&gt;</th><th scope=col>&lt;chr&gt;</th><th scope=col>&lt;chr&gt;</th><th scope=col>&lt;chr&gt;</th><th scope=col>&lt;chr&gt;</th><th scope=col>&lt;chr&gt;</th><th scope=col>&lt;dbl&gt;</th><th scope=col>&lt;chr&gt;</th><th scope=col>&lt;dbl&gt;</th></tr>\n",
       "</thead>\n",
       "<tbody>\n",
       "\t<tr><th scope=row>1</th><td>1869</td><td>7010-BRBUU</td><td>Male  </td><td>0</td><td>Yes</td><td>Yes</td><td>72</td><td>Yes</td><td>Yes             </td><td>No         </td><td>⋯</td><td>No internet service</td><td>No internet service</td><td>No internet service</td><td>Two year      </td><td>No </td><td>Credit card (automatic)  </td><td>24.1 </td><td>1734.65</td><td>No </td><td>0.19973402</td></tr>\n",
       "\t<tr><th scope=row>2</th><td>4528</td><td>9688-YGXVR</td><td>Female</td><td>0</td><td>No </td><td>No </td><td>44</td><td>Yes</td><td>No              </td><td>Fiber optic</td><td>⋯</td><td>No                 </td><td>Yes                </td><td>No                 </td><td>Month-to-month</td><td>Yes</td><td>Credit card (automatic)  </td><td>88.15</td><td>3973.20</td><td>No </td><td>0.45748895</td></tr>\n",
       "\t<tr><th scope=row>3</th><td>6344</td><td>9286-DOJGF</td><td>Female</td><td>1</td><td>Yes</td><td>No </td><td>38</td><td>Yes</td><td>Yes             </td><td>Fiber optic</td><td>⋯</td><td>No                 </td><td>No                 </td><td>No                 </td><td>Month-to-month</td><td>Yes</td><td>Bank transfer (automatic)</td><td>74.95</td><td>2869.85</td><td>Yes</td><td>0.33044515</td></tr>\n",
       "\t<tr><th scope=row>4</th><td>6739</td><td>6994-KERXL</td><td>Male  </td><td>0</td><td>No </td><td>No </td><td> 4</td><td>Yes</td><td>No              </td><td>DSL        </td><td>⋯</td><td>No                 </td><td>No                 </td><td>Yes                </td><td>Month-to-month</td><td>Yes</td><td>Electronic check         </td><td>55.9 </td><td> 238.50</td><td>No </td><td>0.02746177</td></tr>\n",
       "\t<tr><th scope=row>5</th><td> 432</td><td>2181-UAESM</td><td>Male  </td><td>0</td><td>No </td><td>No </td><td> 2</td><td>Yes</td><td>No              </td><td>DSL        </td><td>⋯</td><td>No                 </td><td>No                 </td><td>No                 </td><td>Month-to-month</td><td>No </td><td>Electronic check         </td><td>53.45</td><td> 119.50</td><td>No </td><td>0.01375967</td></tr>\n",
       "\t<tr><th scope=row>6</th><td>2215</td><td>4312-GVYNH</td><td>Female</td><td>0</td><td>Yes</td><td>No </td><td>70</td><td>No </td><td>No phone service</td><td>DSL        </td><td>⋯</td><td>Yes                </td><td>No                 </td><td>Yes                </td><td>Two year      </td><td>Yes</td><td>Bank transfer (automatic)</td><td>49.85</td><td>3370.20</td><td>No </td><td>0.38805730</td></tr>\n",
       "</tbody>\n",
       "</table>\n"
      ],
      "text/latex": [
       "A data.frame: 6 × 23\n",
       "\\begin{tabular}{r|lllllllllllllllllllll}\n",
       "  & X & customerID & gender & SeniorCitizen & Partner & Dependents & tenure & PhoneService & MultipleLines & InternetService & ⋯ & TechSupport & StreamingTV & StreamingMovies & Contract & PaperlessBilling & PaymentMethod & MonthlyCharges & TotalCharges & Churn & TotalChargesNorm\\\\\n",
       "  & <int> & <chr> & <chr> & <int> & <chr> & <chr> & <int> & <chr> & <chr> & <chr> & ⋯ & <chr> & <chr> & <chr> & <chr> & <chr> & <chr> & <chr> & <dbl> & <chr> & <dbl>\\\\\n",
       "\\hline\n",
       "\t1 & 1869 & 7010-BRBUU & Male   & 0 & Yes & Yes & 72 & Yes & Yes              & No          & ⋯ & No internet service & No internet service & No internet service & Two year       & No  & Credit card (automatic)   & 24.1  & 1734.65 & No  & 0.19973402\\\\\n",
       "\t2 & 4528 & 9688-YGXVR & Female & 0 & No  & No  & 44 & Yes & No               & Fiber optic & ⋯ & No                  & Yes                 & No                  & Month-to-month & Yes & Credit card (automatic)   & 88.15 & 3973.20 & No  & 0.45748895\\\\\n",
       "\t3 & 6344 & 9286-DOJGF & Female & 1 & Yes & No  & 38 & Yes & Yes              & Fiber optic & ⋯ & No                  & No                  & No                  & Month-to-month & Yes & Bank transfer (automatic) & 74.95 & 2869.85 & Yes & 0.33044515\\\\\n",
       "\t4 & 6739 & 6994-KERXL & Male   & 0 & No  & No  &  4 & Yes & No               & DSL         & ⋯ & No                  & No                  & Yes                 & Month-to-month & Yes & Electronic check          & 55.9  &  238.50 & No  & 0.02746177\\\\\n",
       "\t5 &  432 & 2181-UAESM & Male   & 0 & No  & No  &  2 & Yes & No               & DSL         & ⋯ & No                  & No                  & No                  & Month-to-month & No  & Electronic check          & 53.45 &  119.50 & No  & 0.01375967\\\\\n",
       "\t6 & 2215 & 4312-GVYNH & Female & 0 & Yes & No  & 70 & No  & No phone service & DSL         & ⋯ & Yes                 & No                  & Yes                 & Two year       & Yes & Bank transfer (automatic) & 49.85 & 3370.20 & No  & 0.38805730\\\\\n",
       "\\end{tabular}\n"
      ],
      "text/markdown": [
       "\n",
       "A data.frame: 6 × 23\n",
       "\n",
       "| <!--/--> | X &lt;int&gt; | customerID &lt;chr&gt; | gender &lt;chr&gt; | SeniorCitizen &lt;int&gt; | Partner &lt;chr&gt; | Dependents &lt;chr&gt; | tenure &lt;int&gt; | PhoneService &lt;chr&gt; | MultipleLines &lt;chr&gt; | InternetService &lt;chr&gt; | ⋯ ⋯ | TechSupport &lt;chr&gt; | StreamingTV &lt;chr&gt; | StreamingMovies &lt;chr&gt; | Contract &lt;chr&gt; | PaperlessBilling &lt;chr&gt; | PaymentMethod &lt;chr&gt; | MonthlyCharges &lt;chr&gt; | TotalCharges &lt;dbl&gt; | Churn &lt;chr&gt; | TotalChargesNorm &lt;dbl&gt; |\n",
       "|---|---|---|---|---|---|---|---|---|---|---|---|---|---|---|---|---|---|---|---|---|---|\n",
       "| 1 | 1869 | 7010-BRBUU | Male   | 0 | Yes | Yes | 72 | Yes | Yes              | No          | ⋯ | No internet service | No internet service | No internet service | Two year       | No  | Credit card (automatic)   | 24.1  | 1734.65 | No  | 0.19973402 |\n",
       "| 2 | 4528 | 9688-YGXVR | Female | 0 | No  | No  | 44 | Yes | No               | Fiber optic | ⋯ | No                  | Yes                 | No                  | Month-to-month | Yes | Credit card (automatic)   | 88.15 | 3973.20 | No  | 0.45748895 |\n",
       "| 3 | 6344 | 9286-DOJGF | Female | 1 | Yes | No  | 38 | Yes | Yes              | Fiber optic | ⋯ | No                  | No                  | No                  | Month-to-month | Yes | Bank transfer (automatic) | 74.95 | 2869.85 | Yes | 0.33044515 |\n",
       "| 4 | 6739 | 6994-KERXL | Male   | 0 | No  | No  |  4 | Yes | No               | DSL         | ⋯ | No                  | No                  | Yes                 | Month-to-month | Yes | Electronic check          | 55.9  |  238.50 | No  | 0.02746177 |\n",
       "| 5 |  432 | 2181-UAESM | Male   | 0 | No  | No  |  2 | Yes | No               | DSL         | ⋯ | No                  | No                  | No                  | Month-to-month | No  | Electronic check          | 53.45 |  119.50 | No  | 0.01375967 |\n",
       "| 6 | 2215 | 4312-GVYNH | Female | 0 | Yes | No  | 70 | No  | No phone service | DSL         | ⋯ | Yes                 | No                  | Yes                 | Two year       | Yes | Bank transfer (automatic) | 49.85 | 3370.20 | No  | 0.38805730 |\n",
       "\n"
      ],
      "text/plain": [
       "  X    customerID gender SeniorCitizen Partner Dependents tenure PhoneService\n",
       "1 1869 7010-BRBUU Male   0             Yes     Yes        72     Yes         \n",
       "2 4528 9688-YGXVR Female 0             No      No         44     Yes         \n",
       "3 6344 9286-DOJGF Female 1             Yes     No         38     Yes         \n",
       "4 6739 6994-KERXL Male   0             No      No          4     Yes         \n",
       "5  432 2181-UAESM Male   0             No      No          2     Yes         \n",
       "6 2215 4312-GVYNH Female 0             Yes     No         70     No          \n",
       "  MultipleLines    InternetService ⋯ TechSupport         StreamingTV        \n",
       "1 Yes              No              ⋯ No internet service No internet service\n",
       "2 No               Fiber optic     ⋯ No                  Yes                \n",
       "3 Yes              Fiber optic     ⋯ No                  No                 \n",
       "4 No               DSL             ⋯ No                  No                 \n",
       "5 No               DSL             ⋯ No                  No                 \n",
       "6 No phone service DSL             ⋯ Yes                 No                 \n",
       "  StreamingMovies     Contract       PaperlessBilling PaymentMethod            \n",
       "1 No internet service Two year       No               Credit card (automatic)  \n",
       "2 No                  Month-to-month Yes              Credit card (automatic)  \n",
       "3 No                  Month-to-month Yes              Bank transfer (automatic)\n",
       "4 Yes                 Month-to-month Yes              Electronic check         \n",
       "5 No                  Month-to-month No               Electronic check         \n",
       "6 Yes                 Two year       Yes              Bank transfer (automatic)\n",
       "  MonthlyCharges TotalCharges Churn TotalChargesNorm\n",
       "1 24.1           1734.65      No    0.19973402      \n",
       "2 88.15          3973.20      No    0.45748895      \n",
       "3 74.95          2869.85      Yes   0.33044515      \n",
       "4 55.9            238.50      No    0.02746177      \n",
       "5 53.45           119.50      No    0.01375967      \n",
       "6 49.85          3370.20      No    0.38805730      "
      ]
     },
     "metadata": {},
     "output_type": "display_data"
    }
   ],
   "source": [
    "# Normalize TotalCharges\n",
    "churn_data <- churn_data %>%\n",
    "    mutate(TotalChargesNorm = normalizeData(TotalCharges))\n",
    "\n",
    "churn_data %>% head() # check the last columns"
   ]
  },
  {
   "cell_type": "code",
   "execution_count": null,
   "metadata": {},
   "outputs": [],
   "source": []
  },
  {
   "cell_type": "code",
   "execution_count": 10,
   "metadata": {},
   "outputs": [
    {
     "data": {
      "text/plain": [
       "   Min. 1st Qu.  Median    Mean 3rd Qu.    Max. \n",
       "0.00000 0.04624 0.16219 0.26417 0.44232 1.00000 "
      ]
     },
     "metadata": {},
     "output_type": "display_data"
    }
   ],
   "source": [
    "#summary for the last field\n",
    "summary(churn_data$TotalChargesNorm)\n",
    "\n",
    "#its from 1 to zero"
   ]
  },
  {
   "cell_type": "code",
   "execution_count": 11,
   "metadata": {},
   "outputs": [
    {
     "data": {
      "image/png": "[encoded data removed]",
      "text/plain": [
       "plot without title"
      ]
     },
     "metadata": {
      "image/png": {
       "height": 420,
       "width": 420
      }
     },
     "output_type": "display_data"
    }
   ],
   "source": [
    "# And lets make a histogram\n",
    "ggplot(churn_data, aes(x=TotalChargesNorm)) + geom_histogram(bins = 15)"
   ]
  },
  {
   "cell_type": "markdown",
   "metadata": {},
   "source": [
    "We observe identical histograms even though the `TotalCharges / TotalChargesNorm` axis is rescaled.\n",
    "\n",
    "Therefore we show that **normalization didn't affect the distribution properties** of the rescaled data."
   ]
  },
  {
   "cell_type": "markdown",
   "metadata": {},
   "source": [
    "---"
   ]
  },
  {
   "cell_type": "markdown",
   "metadata": {},
   "source": [
    "## 2.2. Standardization"
   ]
  },
  {
   "cell_type": "markdown",
   "metadata": {},
   "source": [
    "### Theory"
   ]
  },
  {
   "cell_type": "markdown",
   "metadata": {},
   "source": [
    "`Standardization` is another scaling technique where the values are centered around the mean with a unit standard deviation. This means that the mean of the attribute becomes zero and the resultant distribution has a unit standard deviation.\n",
    "\n",
    "Here’s the formula for standardization:"
   ]
  },
  {
   "cell_type": "markdown",
   "metadata": {},
   "source": [
    "<center>$X' = \\frac{X-\\mu}{\\sigma}$</center>"
   ]
  },
  {
   "cell_type": "markdown",
   "metadata": {},
   "source": [
    "Feature scaling: $\\mu$ is the mean of the feature values and Feature scaling: $\\sigma$ is the standard deviation of the feature values. Note that in this case, the values are not restricted to a particular range.\n",
    "\n",
    "Now, the big question in your mind must be when should we use normalization and when should we use standardization?"
   ]
  },
  {
   "cell_type": "markdown",
   "metadata": {},
   "source": [
    "Normalization vs. standardization is an eternal question among machine learning newcomers. Let me elaborate on the answer in this section.\n",
    "\n",
    "Normalization is good to use when you know that the distribution of your data does not follow a Gaussian distribution. This can be useful in algorithms that do not assume any distribution of the data like K-Nearest Neighbors and Neural Networks.\n",
    "\n",
    "Standardization, on the other hand, can be helpful in cases where the data follows a Gaussian distribution. However, this does not have to be necessarily true. Also, unlike normalization, standardization does not have a bounding range. So, even if you have outliers in your data, they will not be affected by standardization.\n",
    "However, at the end of the day, the choice of using normalization or standardization will depend on your problem and the machine learning algorithm you are using. There is no hard and fast rule to tell you when to normalize or standardize your data. You can always start by fitting your model to raw, normalized and standardized data and compare the performance for best results.\n",
    "\n",
    "It is a good practice to fit the scaler on the training data and then use it to transform the testing data. This would avoid any data leakage during the model testing process. Also, the scaling of target values is generally not required."
   ]
  },
  {
   "cell_type": "markdown",
   "metadata": {},
   "source": [
    "### Practice"
   ]
  },
  {
   "cell_type": "markdown",
   "metadata": {},
   "source": [
    "Lets write own function for standartization:"
   ]
  },
  {
   "cell_type": "code",
   "execution_count": 12,
   "metadata": {},
   "outputs": [],
   "source": [
    "# if sdev is NA - calculate start deviation from data\n",
    "\n",
    "standartize <- function(data) {    \n",
    "    sdev = sd(data, na.rm = TRUE)  \n",
    "    data <- (data - mean(data, na.rm = T)) / sdev\n",
    "    return (data)    \n",
    "}"
   ]
  },
  {
   "cell_type": "code",
   "execution_count": 32,
   "metadata": {},
   "outputs": [
    {
     "data": {
      "text/html": [
       "<table class=\"dataframe\">\n",
       "<caption>A data.frame: 6 × 25</caption>\n",
       "<thead>\n",
       "\t<tr><th></th><th scope=col>X</th><th scope=col>customerID</th><th scope=col>gender</th><th scope=col>SeniorCitizen</th><th scope=col>Partner</th><th scope=col>Dependents</th><th scope=col>tenure</th><th scope=col>PhoneService</th><th scope=col>MultipleLines</th><th scope=col>InternetService</th><th scope=col>⋯</th><th scope=col>StreamingMovies</th><th scope=col>Contract</th><th scope=col>PaperlessBilling</th><th scope=col>PaymentMethod</th><th scope=col>MonthlyCharges</th><th scope=col>TotalCharges</th><th scope=col>Churn</th><th scope=col>TotalChargesNorm</th><th scope=col>TotalChargesStand</th><th scope=col>TotalChargesScaled</th></tr>\n",
       "\t<tr><th></th><th scope=col>&lt;int&gt;</th><th scope=col>&lt;chr&gt;</th><th scope=col>&lt;chr&gt;</th><th scope=col>&lt;int&gt;</th><th scope=col>&lt;chr&gt;</th><th scope=col>&lt;chr&gt;</th><th scope=col>&lt;int&gt;</th><th scope=col>&lt;chr&gt;</th><th scope=col>&lt;chr&gt;</th><th scope=col>&lt;chr&gt;</th><th scope=col>⋯</th><th scope=col>&lt;chr&gt;</th><th scope=col>&lt;chr&gt;</th><th scope=col>&lt;chr&gt;</th><th scope=col>&lt;chr&gt;</th><th scope=col>&lt;chr&gt;</th><th scope=col>&lt;dbl&gt;</th><th scope=col>&lt;chr&gt;</th><th scope=col>&lt;dbl&gt;</th><th scope=col>&lt;dbl&gt;</th><th scope=col>&lt;dbl&gt;</th></tr>\n",
       "</thead>\n",
       "<tbody>\n",
       "\t<tr><th scope=row>1</th><td>1869</td><td>7010-BRBUU</td><td>Male  </td><td>0</td><td>Yes</td><td>Yes</td><td>72</td><td>Yes</td><td>Yes             </td><td>No         </td><td>⋯</td><td>No internet service</td><td>Two year      </td><td>No </td><td>Credit card (automatic)  </td><td>24.1 </td><td>1734.65</td><td>No </td><td>0.19973402</td><td>-0.2460559</td><td>-0.2460559</td></tr>\n",
       "\t<tr><th scope=row>2</th><td>4528</td><td>9688-YGXVR</td><td>Female</td><td>0</td><td>No </td><td>No </td><td>44</td><td>Yes</td><td>No              </td><td>Fiber optic</td><td>⋯</td><td>No                 </td><td>Month-to-month</td><td>Yes</td><td>Credit card (automatic)  </td><td>88.15</td><td>3973.20</td><td>No </td><td>0.45748895</td><td> 0.7382838</td><td> 0.7382838</td></tr>\n",
       "\t<tr><th scope=row>3</th><td>6344</td><td>9286-DOJGF</td><td>Female</td><td>1</td><td>Yes</td><td>No </td><td>38</td><td>Yes</td><td>Yes             </td><td>Fiber optic</td><td>⋯</td><td>No                 </td><td>Month-to-month</td><td>Yes</td><td>Bank transfer (automatic)</td><td>74.95</td><td>2869.85</td><td>Yes</td><td>0.33044515</td><td> 0.2531165</td><td> 0.2531165</td></tr>\n",
       "\t<tr><th scope=row>4</th><td>6739</td><td>6994-KERXL</td><td>Male  </td><td>0</td><td>No </td><td>No </td><td> 4</td><td>Yes</td><td>No              </td><td>DSL        </td><td>⋯</td><td>Yes                </td><td>Month-to-month</td><td>Yes</td><td>Electronic check         </td><td>55.9 </td><td> 238.50</td><td>No </td><td>0.02746177</td><td>-0.9039460</td><td>-0.9039460</td></tr>\n",
       "\t<tr><th scope=row>5</th><td> 432</td><td>2181-UAESM</td><td>Male  </td><td>0</td><td>No </td><td>No </td><td> 2</td><td>Yes</td><td>No              </td><td>DSL        </td><td>⋯</td><td>No                 </td><td>Month-to-month</td><td>No </td><td>Electronic check         </td><td>53.45</td><td> 119.50</td><td>No </td><td>0.01375967</td><td>-0.9562729</td><td>-0.9562729</td></tr>\n",
       "\t<tr><th scope=row>6</th><td>2215</td><td>4312-GVYNH</td><td>Female</td><td>0</td><td>Yes</td><td>No </td><td>70</td><td>No </td><td>No phone service</td><td>DSL        </td><td>⋯</td><td>Yes                </td><td>Two year      </td><td>Yes</td><td>Bank transfer (automatic)</td><td>49.85</td><td>3370.20</td><td>No </td><td>0.38805730</td><td> 0.4731314</td><td> 0.4731314</td></tr>\n",
       "</tbody>\n",
       "</table>\n"
      ],
      "text/latex": [
       "A data.frame: 6 × 25\n",
       "\\begin{tabular}{r|lllllllllllllllllllll}\n",
       "  & X & customerID & gender & SeniorCitizen & Partner & Dependents & tenure & PhoneService & MultipleLines & InternetService & ⋯ & StreamingMovies & Contract & PaperlessBilling & PaymentMethod & MonthlyCharges & TotalCharges & Churn & TotalChargesNorm & TotalChargesStand & TotalChargesScaled\\\\\n",
       "  & <int> & <chr> & <chr> & <int> & <chr> & <chr> & <int> & <chr> & <chr> & <chr> & ⋯ & <chr> & <chr> & <chr> & <chr> & <chr> & <dbl> & <chr> & <dbl> & <dbl> & <dbl>\\\\\n",
       "\\hline\n",
       "\t1 & 1869 & 7010-BRBUU & Male   & 0 & Yes & Yes & 72 & Yes & Yes              & No          & ⋯ & No internet service & Two year       & No  & Credit card (automatic)   & 24.1  & 1734.65 & No  & 0.19973402 & -0.2460559 & -0.2460559\\\\\n",
       "\t2 & 4528 & 9688-YGXVR & Female & 0 & No  & No  & 44 & Yes & No               & Fiber optic & ⋯ & No                  & Month-to-month & Yes & Credit card (automatic)   & 88.15 & 3973.20 & No  & 0.45748895 &  0.7382838 &  0.7382838\\\\\n",
       "\t3 & 6344 & 9286-DOJGF & Female & 1 & Yes & No  & 38 & Yes & Yes              & Fiber optic & ⋯ & No                  & Month-to-month & Yes & Bank transfer (automatic) & 74.95 & 2869.85 & Yes & 0.33044515 &  0.2531165 &  0.2531165\\\\\n",
       "\t4 & 6739 & 6994-KERXL & Male   & 0 & No  & No  &  4 & Yes & No               & DSL         & ⋯ & Yes                 & Month-to-month & Yes & Electronic check          & 55.9  &  238.50 & No  & 0.02746177 & -0.9039460 & -0.9039460\\\\\n",
       "\t5 &  432 & 2181-UAESM & Male   & 0 & No  & No  &  2 & Yes & No               & DSL         & ⋯ & No                  & Month-to-month & No  & Electronic check          & 53.45 &  119.50 & No  & 0.01375967 & -0.9562729 & -0.9562729\\\\\n",
       "\t6 & 2215 & 4312-GVYNH & Female & 0 & Yes & No  & 70 & No  & No phone service & DSL         & ⋯ & Yes                 & Two year       & Yes & Bank transfer (automatic) & 49.85 & 3370.20 & No  & 0.38805730 &  0.4731314 &  0.4731314\\\\\n",
       "\\end{tabular}\n"
      ],
      "text/markdown": [
       "\n",
       "A data.frame: 6 × 25\n",
       "\n",
       "| <!--/--> | X &lt;int&gt; | customerID &lt;chr&gt; | gender &lt;chr&gt; | SeniorCitizen &lt;int&gt; | Partner &lt;chr&gt; | Dependents &lt;chr&gt; | tenure &lt;int&gt; | PhoneService &lt;chr&gt; | MultipleLines &lt;chr&gt; | InternetService &lt;chr&gt; | ⋯ ⋯ | StreamingMovies &lt;chr&gt; | Contract &lt;chr&gt; | PaperlessBilling &lt;chr&gt; | PaymentMethod &lt;chr&gt; | MonthlyCharges &lt;chr&gt; | TotalCharges &lt;dbl&gt; | Churn &lt;chr&gt; | TotalChargesNorm &lt;dbl&gt; | TotalChargesStand &lt;dbl&gt; | TotalChargesScaled &lt;dbl&gt; |\n",
       "|---|---|---|---|---|---|---|---|---|---|---|---|---|---|---|---|---|---|---|---|---|---|\n",
       "| 1 | 1869 | 7010-BRBUU | Male   | 0 | Yes | Yes | 72 | Yes | Yes              | No          | ⋯ | No internet service | Two year       | No  | Credit card (automatic)   | 24.1  | 1734.65 | No  | 0.19973402 | -0.2460559 | -0.2460559 |\n",
       "| 2 | 4528 | 9688-YGXVR | Female | 0 | No  | No  | 44 | Yes | No               | Fiber optic | ⋯ | No                  | Month-to-month | Yes | Credit card (automatic)   | 88.15 | 3973.20 | No  | 0.45748895 |  0.7382838 |  0.7382838 |\n",
       "| 3 | 6344 | 9286-DOJGF | Female | 1 | Yes | No  | 38 | Yes | Yes              | Fiber optic | ⋯ | No                  | Month-to-month | Yes | Bank transfer (automatic) | 74.95 | 2869.85 | Yes | 0.33044515 |  0.2531165 |  0.2531165 |\n",
       "| 4 | 6739 | 6994-KERXL | Male   | 0 | No  | No  |  4 | Yes | No               | DSL         | ⋯ | Yes                 | Month-to-month | Yes | Electronic check          | 55.9  |  238.50 | No  | 0.02746177 | -0.9039460 | -0.9039460 |\n",
       "| 5 |  432 | 2181-UAESM | Male   | 0 | No  | No  |  2 | Yes | No               | DSL         | ⋯ | No                  | Month-to-month | No  | Electronic check          | 53.45 |  119.50 | No  | 0.01375967 | -0.9562729 | -0.9562729 |\n",
       "| 6 | 2215 | 4312-GVYNH | Female | 0 | Yes | No  | 70 | No  | No phone service | DSL         | ⋯ | Yes                 | Two year       | Yes | Bank transfer (automatic) | 49.85 | 3370.20 | No  | 0.38805730 |  0.4731314 |  0.4731314 |\n",
       "\n"
      ],
      "text/plain": [
       "  X    customerID gender SeniorCitizen Partner Dependents tenure PhoneService\n",
       "1 1869 7010-BRBUU Male   0             Yes     Yes        72     Yes         \n",
       "2 4528 9688-YGXVR Female 0             No      No         44     Yes         \n",
       "3 6344 9286-DOJGF Female 1             Yes     No         38     Yes         \n",
       "4 6739 6994-KERXL Male   0             No      No          4     Yes         \n",
       "5  432 2181-UAESM Male   0             No      No          2     Yes         \n",
       "6 2215 4312-GVYNH Female 0             Yes     No         70     No          \n",
       "  MultipleLines    InternetService ⋯ StreamingMovies     Contract      \n",
       "1 Yes              No              ⋯ No internet service Two year      \n",
       "2 No               Fiber optic     ⋯ No                  Month-to-month\n",
       "3 Yes              Fiber optic     ⋯ No                  Month-to-month\n",
       "4 No               DSL             ⋯ Yes                 Month-to-month\n",
       "5 No               DSL             ⋯ No                  Month-to-month\n",
       "6 No phone service DSL             ⋯ Yes                 Two year      \n",
       "  PaperlessBilling PaymentMethod             MonthlyCharges TotalCharges Churn\n",
       "1 No               Credit card (automatic)   24.1           1734.65      No   \n",
       "2 Yes              Credit card (automatic)   88.15          3973.20      No   \n",
       "3 Yes              Bank transfer (automatic) 74.95          2869.85      Yes  \n",
       "4 Yes              Electronic check          55.9            238.50      No   \n",
       "5 No               Electronic check          53.45           119.50      No   \n",
       "6 Yes              Bank transfer (automatic) 49.85          3370.20      No   \n",
       "  TotalChargesNorm TotalChargesStand TotalChargesScaled\n",
       "1 0.19973402       -0.2460559        -0.2460559        \n",
       "2 0.45748895        0.7382838         0.7382838        \n",
       "3 0.33044515        0.2531165         0.2531165        \n",
       "4 0.02746177       -0.9039460        -0.9039460        \n",
       "5 0.01375967       -0.9562729        -0.9562729        \n",
       "6 0.38805730        0.4731314         0.4731314        "
      ]
     },
     "metadata": {},
     "output_type": "display_data"
    }
   ],
   "source": [
    "# Normalize TotalCharges\n",
    "churn_data <- churn_data %>%\n",
    "    mutate(TotalChargesStand = standartize(TotalCharges))\n",
    "\n",
    "churn_data %>% head() # check the last columns"
   ]
  },
  {
   "cell_type": "markdown",
   "metadata": {},
   "source": [
    "Lets compare data distribution fot normalization and standartization."
   ]
  },
  {
   "cell_type": "code",
   "execution_count": 15,
   "metadata": {},
   "outputs": [
    {
     "data": {
      "image/png": "[encoded data removed]",
      "text/plain": [
       "plot without title"
      ]
     },
     "metadata": {
      "image/png": {
       "height": 420,
       "width": 420
      }
     },
     "output_type": "display_data"
    }
   ],
   "source": [
    "#install.packages(\"gridExtra\") # to view 2+ ggplots \n",
    "library(gridExtra)\n",
    "n_plot <- ggplot(churn_data, aes(x=TotalChargesNorm)) + geom_histogram(bins = 15)\n",
    "s_plot <- ggplot(churn_data, aes(x=TotalChargesStand)) + geom_histogram(bins = 15)\n",
    "init_plot <- ggplot(churn_data, aes(x=TotalCharges)) + geom_histogram(bins = 15)\n",
    "grid.arrange(n_plot, init_plot, s_plot, ncol=3) # from gridExtra\n",
    "\n",
    "# data distribution changed after standartisation scaling"
   ]
  },
  {
   "cell_type": "markdown",
   "metadata": {},
   "source": [
    "So, lets use stardart `R` function for scaling and compare results:"
   ]
  },
  {
   "cell_type": "code",
   "execution_count": 31,
   "metadata": {},
   "outputs": [
    {
     "data": {
      "image/png": "[encoded data removed]",
      "text/plain": [
       "plot without title"
      ]
     },
     "metadata": {
      "image/png": {
       "height": 420,
       "width": 420
      }
     },
     "output_type": "display_data"
    }
   ],
   "source": [
    "# the next \n",
    "churn_data <- churn_data %>%\n",
    "        mutate(TotalChargesScaled = as.numeric(scale(TotalCharges))) \n",
    "\n",
    "s1_plot <- ggplot(churn_data, aes(x=TotalChargesStand)) + geom_histogram(bins = 15)\n",
    "s2_plot <- ggplot(churn_data, aes(x=TotalChargesScaled)) + geom_histogram(bins = 15)\n",
    "grid.arrange(s1_plot, s2_plot, ncol=2) # it looks like we created the same function "
   ]
  },
  {
   "cell_type": "code",
   "execution_count": 17,
   "metadata": {},
   "outputs": [
    {
     "data": {
      "text/html": [
       "2294.22155863682"
      ],
      "text/latex": [
       "2294.22155863682"
      ],
      "text/markdown": [
       "2294.22155863682"
      ],
      "text/plain": [
       "[1] 2294.222"
      ]
     },
     "metadata": {},
     "output_type": "display_data"
    }
   ],
   "source": [
    "mean(churn_data$TotalCharges)"
   ]
  },
  {
   "cell_type": "markdown",
   "metadata": {},
   "source": [
    "Look like default function has the same result as our."
   ]
  },
  {
   "cell_type": "code",
   "execution_count": 15,
   "metadata": {},
   "outputs": [
    {
     "data": {
      "text/html": [
       "<table class=\"dataframe\">\n",
       "<caption>A data.frame: 6 × 25</caption>\n",
       "<thead>\n",
       "\t<tr><th></th><th scope=col>X</th><th scope=col>customerID</th><th scope=col>gender</th><th scope=col>SeniorCitizen</th><th scope=col>Partner</th><th scope=col>Dependents</th><th scope=col>tenure</th><th scope=col>PhoneService</th><th scope=col>MultipleLines</th><th scope=col>InternetService</th><th scope=col>...</th><th scope=col>StreamingMovies</th><th scope=col>Contract</th><th scope=col>PaperlessBilling</th><th scope=col>PaymentMethod</th><th scope=col>MonthlyCharges</th><th scope=col>TotalCharges</th><th scope=col>Churn</th><th scope=col>TotalChargesNorm</th><th scope=col>TotalChargesStand</th><th scope=col>TotalChargesScaled</th></tr>\n",
       "\t<tr><th></th><th scope=col>&lt;int&gt;</th><th scope=col>&lt;chr&gt;</th><th scope=col>&lt;chr&gt;</th><th scope=col>&lt;int&gt;</th><th scope=col>&lt;chr&gt;</th><th scope=col>&lt;chr&gt;</th><th scope=col>&lt;int&gt;</th><th scope=col>&lt;chr&gt;</th><th scope=col>&lt;chr&gt;</th><th scope=col>&lt;chr&gt;</th><th scope=col>...</th><th scope=col>&lt;chr&gt;</th><th scope=col>&lt;chr&gt;</th><th scope=col>&lt;chr&gt;</th><th scope=col>&lt;chr&gt;</th><th scope=col>&lt;chr&gt;</th><th scope=col>&lt;dbl&gt;</th><th scope=col>&lt;chr&gt;</th><th scope=col>&lt;dbl&gt;</th><th scope=col>&lt;dbl&gt;</th><th scope=col>&lt;dbl&gt;</th></tr>\n",
       "</thead>\n",
       "<tbody>\n",
       "\t<tr><th scope=row>1</th><td>1869</td><td>7010-BRBUU</td><td>Male  </td><td>0</td><td>Yes</td><td>Yes</td><td>72</td><td>Yes</td><td>Yes             </td><td>No         </td><td>...</td><td>No internet service</td><td>Two year      </td><td>No </td><td>Credit card (automatic)  </td><td>24.1 </td><td>1734.65</td><td>No </td><td>0.19973402</td><td>-0.2460559</td><td>-0.2460559</td></tr>\n",
       "\t<tr><th scope=row>2</th><td>4528</td><td>9688-YGXVR</td><td>Female</td><td>0</td><td>No </td><td>No </td><td>44</td><td>Yes</td><td>No              </td><td>Fiber optic</td><td>...</td><td>No                 </td><td>Month-to-month</td><td>Yes</td><td>Credit card (automatic)  </td><td>88.15</td><td>3973.20</td><td>No </td><td>0.45748895</td><td> 0.7382838</td><td> 0.7382838</td></tr>\n",
       "\t<tr><th scope=row>3</th><td>6344</td><td>9286-DOJGF</td><td>Female</td><td>1</td><td>Yes</td><td>No </td><td>38</td><td>Yes</td><td>Yes             </td><td>Fiber optic</td><td>...</td><td>No                 </td><td>Month-to-month</td><td>Yes</td><td>Bank transfer (automatic)</td><td>74.95</td><td>2869.85</td><td>Yes</td><td>0.33044515</td><td> 0.2531165</td><td> 0.2531165</td></tr>\n",
       "\t<tr><th scope=row>4</th><td>6739</td><td>6994-KERXL</td><td>Male  </td><td>0</td><td>No </td><td>No </td><td> 4</td><td>Yes</td><td>No              </td><td>DSL        </td><td>...</td><td>Yes                </td><td>Month-to-month</td><td>Yes</td><td>Electronic check         </td><td>55.9 </td><td> 238.50</td><td>No </td><td>0.02746177</td><td>-0.9039460</td><td>-0.9039460</td></tr>\n",
       "\t<tr><th scope=row>5</th><td> 432</td><td>2181-UAESM</td><td>Male  </td><td>0</td><td>No </td><td>No </td><td> 2</td><td>Yes</td><td>No              </td><td>DSL        </td><td>...</td><td>No                 </td><td>Month-to-month</td><td>No </td><td>Electronic check         </td><td>53.45</td><td> 119.50</td><td>No </td><td>0.01375967</td><td>-0.9562729</td><td>-0.9562729</td></tr>\n",
       "\t<tr><th scope=row>6</th><td>2215</td><td>4312-GVYNH</td><td>Female</td><td>0</td><td>Yes</td><td>No </td><td>70</td><td>No </td><td>No phone service</td><td>DSL        </td><td>...</td><td>Yes                </td><td>Two year      </td><td>Yes</td><td>Bank transfer (automatic)</td><td>49.85</td><td>3370.20</td><td>No </td><td>0.38805730</td><td> 0.4731314</td><td> 0.4731314</td></tr>\n",
       "</tbody>\n",
       "</table>\n"
      ],
      "text/latex": [
       "A data.frame: 6 × 25\n",
       "\\begin{tabular}{r|lllllllllllllllllllll}\n",
       "  & X & customerID & gender & SeniorCitizen & Partner & Dependents & tenure & PhoneService & MultipleLines & InternetService & ... & StreamingMovies & Contract & PaperlessBilling & PaymentMethod & MonthlyCharges & TotalCharges & Churn & TotalChargesNorm & TotalChargesStand & TotalChargesScaled\\\\\n",
       "  & <int> & <chr> & <chr> & <int> & <chr> & <chr> & <int> & <chr> & <chr> & <chr> & ... & <chr> & <chr> & <chr> & <chr> & <chr> & <dbl> & <chr> & <dbl> & <dbl> & <dbl>\\\\\n",
       "\\hline\n",
       "\t1 & 1869 & 7010-BRBUU & Male   & 0 & Yes & Yes & 72 & Yes & Yes              & No          & ... & No internet service & Two year       & No  & Credit card (automatic)   & 24.1  & 1734.65 & No  & 0.19973402 & -0.2460559 & -0.2460559\\\\\n",
       "\t2 & 4528 & 9688-YGXVR & Female & 0 & No  & No  & 44 & Yes & No               & Fiber optic & ... & No                  & Month-to-month & Yes & Credit card (automatic)   & 88.15 & 3973.20 & No  & 0.45748895 &  0.7382838 &  0.7382838\\\\\n",
       "\t3 & 6344 & 9286-DOJGF & Female & 1 & Yes & No  & 38 & Yes & Yes              & Fiber optic & ... & No                  & Month-to-month & Yes & Bank transfer (automatic) & 74.95 & 2869.85 & Yes & 0.33044515 &  0.2531165 &  0.2531165\\\\\n",
       "\t4 & 6739 & 6994-KERXL & Male   & 0 & No  & No  &  4 & Yes & No               & DSL         & ... & Yes                 & Month-to-month & Yes & Electronic check          & 55.9  &  238.50 & No  & 0.02746177 & -0.9039460 & -0.9039460\\\\\n",
       "\t5 &  432 & 2181-UAESM & Male   & 0 & No  & No  &  2 & Yes & No               & DSL         & ... & No                  & Month-to-month & No  & Electronic check          & 53.45 &  119.50 & No  & 0.01375967 & -0.9562729 & -0.9562729\\\\\n",
       "\t6 & 2215 & 4312-GVYNH & Female & 0 & Yes & No  & 70 & No  & No phone service & DSL         & ... & Yes                 & Two year       & Yes & Bank transfer (automatic) & 49.85 & 3370.20 & No  & 0.38805730 &  0.4731314 &  0.4731314\\\\\n",
       "\\end{tabular}\n"
      ],
      "text/markdown": [
       "\n",
       "A data.frame: 6 × 25\n",
       "\n",
       "| <!--/--> | X &lt;int&gt; | customerID &lt;chr&gt; | gender &lt;chr&gt; | SeniorCitizen &lt;int&gt; | Partner &lt;chr&gt; | Dependents &lt;chr&gt; | tenure &lt;int&gt; | PhoneService &lt;chr&gt; | MultipleLines &lt;chr&gt; | InternetService &lt;chr&gt; | ... ... | StreamingMovies &lt;chr&gt; | Contract &lt;chr&gt; | PaperlessBilling &lt;chr&gt; | PaymentMethod &lt;chr&gt; | MonthlyCharges &lt;chr&gt; | TotalCharges &lt;dbl&gt; | Churn &lt;chr&gt; | TotalChargesNorm &lt;dbl&gt; | TotalChargesStand &lt;dbl&gt; | TotalChargesScaled &lt;dbl&gt; |\n",
       "|---|---|---|---|---|---|---|---|---|---|---|---|---|---|---|---|---|---|---|---|---|---|\n",
       "| 1 | 1869 | 7010-BRBUU | Male   | 0 | Yes | Yes | 72 | Yes | Yes              | No          | ... | No internet service | Two year       | No  | Credit card (automatic)   | 24.1  | 1734.65 | No  | 0.19973402 | -0.2460559 | -0.2460559 |\n",
       "| 2 | 4528 | 9688-YGXVR | Female | 0 | No  | No  | 44 | Yes | No               | Fiber optic | ... | No                  | Month-to-month | Yes | Credit card (automatic)   | 88.15 | 3973.20 | No  | 0.45748895 |  0.7382838 |  0.7382838 |\n",
       "| 3 | 6344 | 9286-DOJGF | Female | 1 | Yes | No  | 38 | Yes | Yes              | Fiber optic | ... | No                  | Month-to-month | Yes | Bank transfer (automatic) | 74.95 | 2869.85 | Yes | 0.33044515 |  0.2531165 |  0.2531165 |\n",
       "| 4 | 6739 | 6994-KERXL | Male   | 0 | No  | No  |  4 | Yes | No               | DSL         | ... | Yes                 | Month-to-month | Yes | Electronic check          | 55.9  |  238.50 | No  | 0.02746177 | -0.9039460 | -0.9039460 |\n",
       "| 5 |  432 | 2181-UAESM | Male   | 0 | No  | No  |  2 | Yes | No               | DSL         | ... | No                  | Month-to-month | No  | Electronic check          | 53.45 |  119.50 | No  | 0.01375967 | -0.9562729 | -0.9562729 |\n",
       "| 6 | 2215 | 4312-GVYNH | Female | 0 | Yes | No  | 70 | No  | No phone service | DSL         | ... | Yes                 | Two year       | Yes | Bank transfer (automatic) | 49.85 | 3370.20 | No  | 0.38805730 |  0.4731314 |  0.4731314 |\n",
       "\n"
      ],
      "text/plain": [
       "  X    customerID gender SeniorCitizen Partner Dependents tenure PhoneService\n",
       "1 1869 7010-BRBUU Male   0             Yes     Yes        72     Yes         \n",
       "2 4528 9688-YGXVR Female 0             No      No         44     Yes         \n",
       "3 6344 9286-DOJGF Female 1             Yes     No         38     Yes         \n",
       "4 6739 6994-KERXL Male   0             No      No          4     Yes         \n",
       "5  432 2181-UAESM Male   0             No      No          2     Yes         \n",
       "6 2215 4312-GVYNH Female 0             Yes     No         70     No          \n",
       "  MultipleLines    InternetService ... StreamingMovies     Contract      \n",
       "1 Yes              No              ... No internet service Two year      \n",
       "2 No               Fiber optic     ... No                  Month-to-month\n",
       "3 Yes              Fiber optic     ... No                  Month-to-month\n",
       "4 No               DSL             ... Yes                 Month-to-month\n",
       "5 No               DSL             ... No                  Month-to-month\n",
       "6 No phone service DSL             ... Yes                 Two year      \n",
       "  PaperlessBilling PaymentMethod             MonthlyCharges TotalCharges Churn\n",
       "1 No               Credit card (automatic)   24.1           1734.65      No   \n",
       "2 Yes              Credit card (automatic)   88.15          3973.20      No   \n",
       "3 Yes              Bank transfer (automatic) 74.95          2869.85      Yes  \n",
       "4 Yes              Electronic check          55.9            238.50      No   \n",
       "5 No               Electronic check          53.45           119.50      No   \n",
       "6 Yes              Bank transfer (automatic) 49.85          3370.20      No   \n",
       "  TotalChargesNorm TotalChargesStand TotalChargesScaled\n",
       "1 0.19973402       -0.2460559        -0.2460559        \n",
       "2 0.45748895        0.7382838         0.7382838        \n",
       "3 0.33044515        0.2531165         0.2531165        \n",
       "4 0.02746177       -0.9039460        -0.9039460        \n",
       "5 0.01375967       -0.9562729        -0.9562729        \n",
       "6 0.38805730        0.4731314         0.4731314        "
      ]
     },
     "metadata": {},
     "output_type": "display_data"
    }
   ],
   "source": [
    "head(churn_data) # check last two columns, its the same"
   ]
  },
  {
   "cell_type": "markdown",
   "metadata": {},
   "source": [
    "---"
   ]
  },
  {
   "cell_type": "markdown",
   "metadata": {},
   "source": [
    "### Scaling for train/test/validation/prediction"
   ]
  },
  {
   "cell_type": "markdown",
   "metadata": {},
   "source": [
    "If you use scaling initial parameters should be remembered somewhere for future prediction data and reimplemented for new/test/validation/prediction dataset\n",
    "\n",
    "For experiment lets split our dataset for train and test:"
   ]
  },
  {
   "cell_type": "code",
   "execution_count": 19,
   "metadata": {},
   "outputs": [
    {
     "data": {
      "text/html": [
       "5986"
      ],
      "text/latex": [
       "5986"
      ],
      "text/markdown": [
       "5986"
      ],
      "text/plain": [
       "[1] 5986"
      ]
     },
     "metadata": {},
     "output_type": "display_data"
    },
    {
     "data": {
      "text/html": [
       "4191"
      ],
      "text/latex": [
       "4191"
      ],
      "text/markdown": [
       "4191"
      ],
      "text/plain": [
       "[1] 4191"
      ]
     },
     "metadata": {},
     "output_type": "display_data"
    },
    {
     "data": {
      "text/html": [
       "1795"
      ],
      "text/latex": [
       "1795"
      ],
      "text/markdown": [
       "1795"
      ],
      "text/plain": [
       "[1] 1795"
      ]
     },
     "metadata": {},
     "output_type": "display_data"
    }
   ],
   "source": [
    "library(caret)\n",
    "set.seed(2021)\n",
    " \n",
    "index = createDataPartition(churn_data$Churn, p = 0.70, list = FALSE)\n",
    "train = churn_data[index, ]\n",
    "test = churn_data[-index, ]\n",
    "\n",
    "nrow(churn_data)\n",
    "nrow(train)\n",
    "nrow(test)"
   ]
  },
  {
   "cell_type": "markdown",
   "metadata": {},
   "source": [
    "Lets rescale `TotalCharges` data for training set:"
   ]
  },
  {
   "cell_type": "code",
   "execution_count": 33,
   "metadata": {},
   "outputs": [
    {
     "data": {
      "text/html": [
       "<table class=\"dataframe\">\n",
       "<caption>A data.frame: 6 × 25</caption>\n",
       "<thead>\n",
       "\t<tr><th></th><th scope=col>X</th><th scope=col>customerID</th><th scope=col>gender</th><th scope=col>SeniorCitizen</th><th scope=col>Partner</th><th scope=col>Dependents</th><th scope=col>tenure</th><th scope=col>PhoneService</th><th scope=col>MultipleLines</th><th scope=col>InternetService</th><th scope=col>⋯</th><th scope=col>StreamingMovies</th><th scope=col>Contract</th><th scope=col>PaperlessBilling</th><th scope=col>PaymentMethod</th><th scope=col>MonthlyCharges</th><th scope=col>TotalCharges</th><th scope=col>Churn</th><th scope=col>TotalChargesNorm</th><th scope=col>TotalChargesStand</th><th scope=col>TotalChargesScaled</th></tr>\n",
       "\t<tr><th></th><th scope=col>&lt;int&gt;</th><th scope=col>&lt;chr&gt;</th><th scope=col>&lt;chr&gt;</th><th scope=col>&lt;int&gt;</th><th scope=col>&lt;chr&gt;</th><th scope=col>&lt;chr&gt;</th><th scope=col>&lt;int&gt;</th><th scope=col>&lt;chr&gt;</th><th scope=col>&lt;chr&gt;</th><th scope=col>&lt;chr&gt;</th><th scope=col>⋯</th><th scope=col>&lt;chr&gt;</th><th scope=col>&lt;chr&gt;</th><th scope=col>&lt;chr&gt;</th><th scope=col>&lt;chr&gt;</th><th scope=col>&lt;chr&gt;</th><th scope=col>&lt;dbl&gt;</th><th scope=col>&lt;chr&gt;</th><th scope=col>&lt;dbl&gt;</th><th scope=col>&lt;dbl&gt;</th><th scope=col>&lt;dbl[,1]&gt;</th></tr>\n",
       "</thead>\n",
       "<tbody>\n",
       "\t<tr><th scope=row>1</th><td>1869</td><td>7010-BRBUU</td><td>Male  </td><td>0</td><td>Yes</td><td>Yes</td><td>72</td><td>Yes</td><td>Yes             </td><td>No         </td><td>⋯</td><td>No internet service</td><td>Two year      </td><td>No </td><td>Credit card (automatic)</td><td>24.1 </td><td>1734.65</td><td>No </td><td>0.19973402</td><td>-0.2460559</td><td>-0.2516955</td></tr>\n",
       "\t<tr><th scope=row>5</th><td> 432</td><td>2181-UAESM</td><td>Male  </td><td>0</td><td>No </td><td>No </td><td> 2</td><td>Yes</td><td>No              </td><td>DSL        </td><td>⋯</td><td>No                 </td><td>Month-to-month</td><td>No </td><td>Electronic check       </td><td>53.45</td><td> 119.50</td><td>No </td><td>0.01375967</td><td>-0.9562729</td><td>-0.9584688</td></tr>\n",
       "\t<tr><th scope=row>9</th><td>1480</td><td>8898-KASCD</td><td>Male  </td><td>0</td><td>No </td><td>No </td><td>39</td><td>No </td><td>No phone service</td><td>DSL        </td><td>⋯</td><td>No                 </td><td>One year      </td><td>No </td><td>Mailed check           </td><td>35.55</td><td>1309.15</td><td>No </td><td>0.15074037</td><td>-0.4331576</td><td>-0.4378900</td></tr>\n",
       "\t<tr><th scope=row>10</th><td>5137</td><td>8016-NCFVO</td><td>Male  </td><td>1</td><td>No </td><td>No </td><td>55</td><td>Yes</td><td>Yes             </td><td>Fiber optic</td><td>⋯</td><td>Yes                </td><td>Month-to-month</td><td>Yes</td><td>Electronic check       </td><td>116.5</td><td>6382.55</td><td>No </td><td>0.73491042</td><td> 1.7977280</td><td> 1.7821786</td></tr>\n",
       "\t<tr><th scope=row>11</th><td>3169</td><td>4578-PHJYZ</td><td>Male  </td><td>0</td><td>Yes</td><td>Yes</td><td>52</td><td>Yes</td><td>No              </td><td>DSL        </td><td>⋯</td><td>No                 </td><td>One year      </td><td>Yes</td><td>Electronic check       </td><td>68.75</td><td>3482.85</td><td>No </td><td>0.40102823</td><td> 0.5226661</td><td> 0.5132992</td></tr>\n",
       "\t<tr><th scope=row>12</th><td>4653</td><td>2091-MJTFX</td><td>Female</td><td>0</td><td>Yes</td><td>Yes</td><td>30</td><td>No </td><td>No phone service</td><td>DSL        </td><td>⋯</td><td>Yes                </td><td>Month-to-month</td><td>No </td><td>Credit card (automatic)</td><td>51.2 </td><td>1561.50</td><td>Yes</td><td>0.17979689</td><td>-0.3221938</td><td>-0.3274642</td></tr>\n",
       "</tbody>\n",
       "</table>\n"
      ],
      "text/latex": [
       "A data.frame: 6 × 25\n",
       "\\begin{tabular}{r|lllllllllllllllllllll}\n",
       "  & X & customerID & gender & SeniorCitizen & Partner & Dependents & tenure & PhoneService & MultipleLines & InternetService & ⋯ & StreamingMovies & Contract & PaperlessBilling & PaymentMethod & MonthlyCharges & TotalCharges & Churn & TotalChargesNorm & TotalChargesStand & TotalChargesScaled\\\\\n",
       "  & <int> & <chr> & <chr> & <int> & <chr> & <chr> & <int> & <chr> & <chr> & <chr> & ⋯ & <chr> & <chr> & <chr> & <chr> & <chr> & <dbl> & <chr> & <dbl> & <dbl> & <dbl{[},1{]}>\\\\\n",
       "\\hline\n",
       "\t1 & 1869 & 7010-BRBUU & Male   & 0 & Yes & Yes & 72 & Yes & Yes              & No          & ⋯ & No internet service & Two year       & No  & Credit card (automatic) & 24.1  & 1734.65 & No  & 0.19973402 & -0.2460559 & -0.2516955\\\\\n",
       "\t5 &  432 & 2181-UAESM & Male   & 0 & No  & No  &  2 & Yes & No               & DSL         & ⋯ & No                  & Month-to-month & No  & Electronic check        & 53.45 &  119.50 & No  & 0.01375967 & -0.9562729 & -0.9584688\\\\\n",
       "\t9 & 1480 & 8898-KASCD & Male   & 0 & No  & No  & 39 & No  & No phone service & DSL         & ⋯ & No                  & One year       & No  & Mailed check            & 35.55 & 1309.15 & No  & 0.15074037 & -0.4331576 & -0.4378900\\\\\n",
       "\t10 & 5137 & 8016-NCFVO & Male   & 1 & No  & No  & 55 & Yes & Yes              & Fiber optic & ⋯ & Yes                 & Month-to-month & Yes & Electronic check        & 116.5 & 6382.55 & No  & 0.73491042 &  1.7977280 &  1.7821786\\\\\n",
       "\t11 & 3169 & 4578-PHJYZ & Male   & 0 & Yes & Yes & 52 & Yes & No               & DSL         & ⋯ & No                  & One year       & Yes & Electronic check        & 68.75 & 3482.85 & No  & 0.40102823 &  0.5226661 &  0.5132992\\\\\n",
       "\t12 & 4653 & 2091-MJTFX & Female & 0 & Yes & Yes & 30 & No  & No phone service & DSL         & ⋯ & Yes                 & Month-to-month & No  & Credit card (automatic) & 51.2  & 1561.50 & Yes & 0.17979689 & -0.3221938 & -0.3274642\\\\\n",
       "\\end{tabular}\n"
      ],
      "text/markdown": [
       "\n",
       "A data.frame: 6 × 25\n",
       "\n",
       "| <!--/--> | X &lt;int&gt; | customerID &lt;chr&gt; | gender &lt;chr&gt; | SeniorCitizen &lt;int&gt; | Partner &lt;chr&gt; | Dependents &lt;chr&gt; | tenure &lt;int&gt; | PhoneService &lt;chr&gt; | MultipleLines &lt;chr&gt; | InternetService &lt;chr&gt; | ⋯ ⋯ | StreamingMovies &lt;chr&gt; | Contract &lt;chr&gt; | PaperlessBilling &lt;chr&gt; | PaymentMethod &lt;chr&gt; | MonthlyCharges &lt;chr&gt; | TotalCharges &lt;dbl&gt; | Churn &lt;chr&gt; | TotalChargesNorm &lt;dbl&gt; | TotalChargesStand &lt;dbl&gt; | TotalChargesScaled &lt;dbl[,1]&gt; |\n",
       "|---|---|---|---|---|---|---|---|---|---|---|---|---|---|---|---|---|---|---|---|---|---|\n",
       "| 1 | 1869 | 7010-BRBUU | Male   | 0 | Yes | Yes | 72 | Yes | Yes              | No          | ⋯ | No internet service | Two year       | No  | Credit card (automatic) | 24.1  | 1734.65 | No  | 0.19973402 | -0.2460559 | -0.2516955 |\n",
       "| 5 |  432 | 2181-UAESM | Male   | 0 | No  | No  |  2 | Yes | No               | DSL         | ⋯ | No                  | Month-to-month | No  | Electronic check        | 53.45 |  119.50 | No  | 0.01375967 | -0.9562729 | -0.9584688 |\n",
       "| 9 | 1480 | 8898-KASCD | Male   | 0 | No  | No  | 39 | No  | No phone service | DSL         | ⋯ | No                  | One year       | No  | Mailed check            | 35.55 | 1309.15 | No  | 0.15074037 | -0.4331576 | -0.4378900 |\n",
       "| 10 | 5137 | 8016-NCFVO | Male   | 1 | No  | No  | 55 | Yes | Yes              | Fiber optic | ⋯ | Yes                 | Month-to-month | Yes | Electronic check        | 116.5 | 6382.55 | No  | 0.73491042 |  1.7977280 |  1.7821786 |\n",
       "| 11 | 3169 | 4578-PHJYZ | Male   | 0 | Yes | Yes | 52 | Yes | No               | DSL         | ⋯ | No                  | One year       | Yes | Electronic check        | 68.75 | 3482.85 | No  | 0.40102823 |  0.5226661 |  0.5132992 |\n",
       "| 12 | 4653 | 2091-MJTFX | Female | 0 | Yes | Yes | 30 | No  | No phone service | DSL         | ⋯ | Yes                 | Month-to-month | No  | Credit card (automatic) | 51.2  | 1561.50 | Yes | 0.17979689 | -0.3221938 | -0.3274642 |\n",
       "\n"
      ],
      "text/plain": [
       "   X    customerID gender SeniorCitizen Partner Dependents tenure PhoneService\n",
       "1  1869 7010-BRBUU Male   0             Yes     Yes        72     Yes         \n",
       "5   432 2181-UAESM Male   0             No      No          2     Yes         \n",
       "9  1480 8898-KASCD Male   0             No      No         39     No          \n",
       "10 5137 8016-NCFVO Male   1             No      No         55     Yes         \n",
       "11 3169 4578-PHJYZ Male   0             Yes     Yes        52     Yes         \n",
       "12 4653 2091-MJTFX Female 0             Yes     Yes        30     No          \n",
       "   MultipleLines    InternetService ⋯ StreamingMovies     Contract      \n",
       "1  Yes              No              ⋯ No internet service Two year      \n",
       "5  No               DSL             ⋯ No                  Month-to-month\n",
       "9  No phone service DSL             ⋯ No                  One year      \n",
       "10 Yes              Fiber optic     ⋯ Yes                 Month-to-month\n",
       "11 No               DSL             ⋯ No                  One year      \n",
       "12 No phone service DSL             ⋯ Yes                 Month-to-month\n",
       "   PaperlessBilling PaymentMethod           MonthlyCharges TotalCharges Churn\n",
       "1  No               Credit card (automatic) 24.1           1734.65      No   \n",
       "5  No               Electronic check        53.45           119.50      No   \n",
       "9  No               Mailed check            35.55          1309.15      No   \n",
       "10 Yes              Electronic check        116.5          6382.55      No   \n",
       "11 Yes              Electronic check        68.75          3482.85      No   \n",
       "12 No               Credit card (automatic) 51.2           1561.50      Yes  \n",
       "   TotalChargesNorm TotalChargesStand TotalChargesScaled\n",
       "1  0.19973402       -0.2460559        -0.2516955        \n",
       "5  0.01375967       -0.9562729        -0.9584688        \n",
       "9  0.15074037       -0.4331576        -0.4378900        \n",
       "10 0.73491042        1.7977280         1.7821786        \n",
       "11 0.40102823        0.5226661         0.5132992        \n",
       "12 0.17979689       -0.3221938        -0.3274642        "
      ]
     },
     "metadata": {},
     "output_type": "display_data"
    }
   ],
   "source": [
    "train <- train %>% mutate(TotalChargesScaled = scale(TotalCharges))\n",
    "head(train) # you can see that TotalChangesStand and TotalChangesScaled are different becouse of changed mean and standart deviation of data"
   ]
  },
  {
   "cell_type": "markdown",
   "metadata": {},
   "source": [
    "So, for train, test and prediction  data we should use the same `scaling base`, in this case `mean` and `standart deviation`."
   ]
  },
  {
   "cell_type": "markdown",
   "metadata": {},
   "source": [
    "Correct data scaling code should be like this:"
   ]
  },
  {
   "cell_type": "code",
   "execution_count": 42,
   "metadata": {},
   "outputs": [
    {
     "data": {
      "text/html": [
       "1"
      ],
      "text/latex": [
       "1"
      ],
      "text/markdown": [
       "1"
      ],
      "text/plain": [
       "[1] 1"
      ]
     },
     "metadata": {},
     "output_type": "display_data"
    },
    {
     "data": {
      "text/html": [
       "0.983829325647588"
      ],
      "text/latex": [
       "0.983829325647588"
      ],
      "text/markdown": [
       "0.983829325647588"
      ],
      "text/plain": [
       "[1] 0.9838293"
      ]
     },
     "metadata": {},
     "output_type": "display_data"
    },
    {
     "data": {
      "text/html": [
       "<table class=\"dataframe\">\n",
       "<caption>A data.frame: 6 × 25</caption>\n",
       "<thead>\n",
       "\t<tr><th></th><th scope=col>X</th><th scope=col>customerID</th><th scope=col>gender</th><th scope=col>SeniorCitizen</th><th scope=col>Partner</th><th scope=col>Dependents</th><th scope=col>tenure</th><th scope=col>PhoneService</th><th scope=col>MultipleLines</th><th scope=col>InternetService</th><th scope=col>⋯</th><th scope=col>StreamingMovies</th><th scope=col>Contract</th><th scope=col>PaperlessBilling</th><th scope=col>PaymentMethod</th><th scope=col>MonthlyCharges</th><th scope=col>TotalCharges</th><th scope=col>Churn</th><th scope=col>TotalChargesNorm</th><th scope=col>TotalChargesStand</th><th scope=col>TotalChargesScaled</th></tr>\n",
       "\t<tr><th></th><th scope=col>&lt;int&gt;</th><th scope=col>&lt;chr&gt;</th><th scope=col>&lt;chr&gt;</th><th scope=col>&lt;int&gt;</th><th scope=col>&lt;chr&gt;</th><th scope=col>&lt;chr&gt;</th><th scope=col>&lt;int&gt;</th><th scope=col>&lt;chr&gt;</th><th scope=col>&lt;chr&gt;</th><th scope=col>&lt;chr&gt;</th><th scope=col>⋯</th><th scope=col>&lt;chr&gt;</th><th scope=col>&lt;chr&gt;</th><th scope=col>&lt;chr&gt;</th><th scope=col>&lt;chr&gt;</th><th scope=col>&lt;chr&gt;</th><th scope=col>&lt;dbl&gt;</th><th scope=col>&lt;chr&gt;</th><th scope=col>&lt;dbl&gt;</th><th scope=col>&lt;dbl&gt;</th><th scope=col>&lt;dbl[,1]&gt;</th></tr>\n",
       "</thead>\n",
       "<tbody>\n",
       "\t<tr><th scope=row>1</th><td>6754</td><td>2775-SEFEE</td><td>Male  </td><td>0</td><td>No </td><td>Yes</td><td>0</td><td>Yes</td><td>Yes             </td><td>DSL</td><td>⋯</td><td>No                 </td><td>Two year</td><td>Yes</td><td>Bank transfer (automatic)</td><td>61.9 </td><td>0</td><td>No</td><td>0</td><td>-1.00882</td><td>-1.010761</td></tr>\n",
       "\t<tr><th scope=row>2</th><td>3826</td><td>3213-VVOLG</td><td>Male  </td><td>0</td><td>Yes</td><td>Yes</td><td>0</td><td>Yes</td><td>Yes             </td><td>No </td><td>⋯</td><td>No internet service</td><td>Two year</td><td>No </td><td>Mailed check             </td><td>25.35</td><td>0</td><td>No</td><td>0</td><td>-1.00882</td><td>-1.010761</td></tr>\n",
       "\t<tr><th scope=row>3</th><td>5218</td><td>2923-ARZLG</td><td>Male  </td><td>0</td><td>Yes</td><td>Yes</td><td>0</td><td>Yes</td><td>No              </td><td>No </td><td>⋯</td><td>No internet service</td><td>One year</td><td>Yes</td><td>Mailed check             </td><td>19.7 </td><td>0</td><td>No</td><td>0</td><td>-1.00882</td><td>-1.010761</td></tr>\n",
       "\t<tr><th scope=row>4</th><td>3331</td><td>7644-OMVMY</td><td>Male  </td><td>0</td><td>Yes</td><td>Yes</td><td>0</td><td>Yes</td><td>No              </td><td>No </td><td>⋯</td><td>No internet service</td><td>Two year</td><td>No </td><td>Mailed check             </td><td>19.85</td><td>0</td><td>No</td><td>0</td><td>-1.00882</td><td>-1.010761</td></tr>\n",
       "\t<tr><th scope=row>5</th><td> 753</td><td>3115-CZMZD</td><td>Male  </td><td>0</td><td>No </td><td>Yes</td><td>0</td><td>Yes</td><td>No              </td><td>No </td><td>⋯</td><td>No internet service</td><td>Two year</td><td>No </td><td>Mailed check             </td><td>20.25</td><td>0</td><td>No</td><td>0</td><td>-1.00882</td><td>-1.010761</td></tr>\n",
       "\t<tr><th scope=row>6</th><td> 488</td><td>4472-LVYGI</td><td>Female</td><td>0</td><td>Yes</td><td>Yes</td><td>0</td><td>No </td><td>No phone service</td><td>DSL</td><td>⋯</td><td>No                 </td><td>Two year</td><td>Yes</td><td>Bank transfer (automatic)</td><td>52.55</td><td>0</td><td>No</td><td>0</td><td>-1.00882</td><td>-1.010761</td></tr>\n",
       "</tbody>\n",
       "</table>\n"
      ],
      "text/latex": [
       "A data.frame: 6 × 25\n",
       "\\begin{tabular}{r|lllllllllllllllllllll}\n",
       "  & X & customerID & gender & SeniorCitizen & Partner & Dependents & tenure & PhoneService & MultipleLines & InternetService & ⋯ & StreamingMovies & Contract & PaperlessBilling & PaymentMethod & MonthlyCharges & TotalCharges & Churn & TotalChargesNorm & TotalChargesStand & TotalChargesScaled\\\\\n",
       "  & <int> & <chr> & <chr> & <int> & <chr> & <chr> & <int> & <chr> & <chr> & <chr> & ⋯ & <chr> & <chr> & <chr> & <chr> & <chr> & <dbl> & <chr> & <dbl> & <dbl> & <dbl{[},1{]}>\\\\\n",
       "\\hline\n",
       "\t1 & 6754 & 2775-SEFEE & Male   & 0 & No  & Yes & 0 & Yes & Yes              & DSL & ⋯ & No                  & Two year & Yes & Bank transfer (automatic) & 61.9  & 0 & No & 0 & -1.00882 & -1.010761\\\\\n",
       "\t2 & 3826 & 3213-VVOLG & Male   & 0 & Yes & Yes & 0 & Yes & Yes              & No  & ⋯ & No internet service & Two year & No  & Mailed check              & 25.35 & 0 & No & 0 & -1.00882 & -1.010761\\\\\n",
       "\t3 & 5218 & 2923-ARZLG & Male   & 0 & Yes & Yes & 0 & Yes & No               & No  & ⋯ & No internet service & One year & Yes & Mailed check              & 19.7  & 0 & No & 0 & -1.00882 & -1.010761\\\\\n",
       "\t4 & 3331 & 7644-OMVMY & Male   & 0 & Yes & Yes & 0 & Yes & No               & No  & ⋯ & No internet service & Two year & No  & Mailed check              & 19.85 & 0 & No & 0 & -1.00882 & -1.010761\\\\\n",
       "\t5 &  753 & 3115-CZMZD & Male   & 0 & No  & Yes & 0 & Yes & No               & No  & ⋯ & No internet service & Two year & No  & Mailed check              & 20.25 & 0 & No & 0 & -1.00882 & -1.010761\\\\\n",
       "\t6 &  488 & 4472-LVYGI & Female & 0 & Yes & Yes & 0 & No  & No phone service & DSL & ⋯ & No                  & Two year & Yes & Bank transfer (automatic) & 52.55 & 0 & No & 0 & -1.00882 & -1.010761\\\\\n",
       "\\end{tabular}\n"
      ],
      "text/markdown": [
       "\n",
       "A data.frame: 6 × 25\n",
       "\n",
       "| <!--/--> | X &lt;int&gt; | customerID &lt;chr&gt; | gender &lt;chr&gt; | SeniorCitizen &lt;int&gt; | Partner &lt;chr&gt; | Dependents &lt;chr&gt; | tenure &lt;int&gt; | PhoneService &lt;chr&gt; | MultipleLines &lt;chr&gt; | InternetService &lt;chr&gt; | ⋯ ⋯ | StreamingMovies &lt;chr&gt; | Contract &lt;chr&gt; | PaperlessBilling &lt;chr&gt; | PaymentMethod &lt;chr&gt; | MonthlyCharges &lt;chr&gt; | TotalCharges &lt;dbl&gt; | Churn &lt;chr&gt; | TotalChargesNorm &lt;dbl&gt; | TotalChargesStand &lt;dbl&gt; | TotalChargesScaled &lt;dbl[,1]&gt; |\n",
       "|---|---|---|---|---|---|---|---|---|---|---|---|---|---|---|---|---|---|---|---|---|---|\n",
       "| 1 | 6754 | 2775-SEFEE | Male   | 0 | No  | Yes | 0 | Yes | Yes              | DSL | ⋯ | No                  | Two year | Yes | Bank transfer (automatic) | 61.9  | 0 | No | 0 | -1.00882 | -1.010761 |\n",
       "| 2 | 3826 | 3213-VVOLG | Male   | 0 | Yes | Yes | 0 | Yes | Yes              | No  | ⋯ | No internet service | Two year | No  | Mailed check              | 25.35 | 0 | No | 0 | -1.00882 | -1.010761 |\n",
       "| 3 | 5218 | 2923-ARZLG | Male   | 0 | Yes | Yes | 0 | Yes | No               | No  | ⋯ | No internet service | One year | Yes | Mailed check              | 19.7  | 0 | No | 0 | -1.00882 | -1.010761 |\n",
       "| 4 | 3331 | 7644-OMVMY | Male   | 0 | Yes | Yes | 0 | Yes | No               | No  | ⋯ | No internet service | Two year | No  | Mailed check              | 19.85 | 0 | No | 0 | -1.00882 | -1.010761 |\n",
       "| 5 |  753 | 3115-CZMZD | Male   | 0 | No  | Yes | 0 | Yes | No               | No  | ⋯ | No internet service | Two year | No  | Mailed check              | 20.25 | 0 | No | 0 | -1.00882 | -1.010761 |\n",
       "| 6 |  488 | 4472-LVYGI | Female | 0 | Yes | Yes | 0 | No  | No phone service | DSL | ⋯ | No                  | Two year | Yes | Bank transfer (automatic) | 52.55 | 0 | No | 0 | -1.00882 | -1.010761 |\n",
       "\n"
      ],
      "text/plain": [
       "  X    customerID gender SeniorCitizen Partner Dependents tenure PhoneService\n",
       "1 6754 2775-SEFEE Male   0             No      Yes        0      Yes         \n",
       "2 3826 3213-VVOLG Male   0             Yes     Yes        0      Yes         \n",
       "3 5218 2923-ARZLG Male   0             Yes     Yes        0      Yes         \n",
       "4 3331 7644-OMVMY Male   0             Yes     Yes        0      Yes         \n",
       "5  753 3115-CZMZD Male   0             No      Yes        0      Yes         \n",
       "6  488 4472-LVYGI Female 0             Yes     Yes        0      No          \n",
       "  MultipleLines    InternetService ⋯ StreamingMovies     Contract\n",
       "1 Yes              DSL             ⋯ No                  Two year\n",
       "2 Yes              No              ⋯ No internet service Two year\n",
       "3 No               No              ⋯ No internet service One year\n",
       "4 No               No              ⋯ No internet service Two year\n",
       "5 No               No              ⋯ No internet service Two year\n",
       "6 No phone service DSL             ⋯ No                  Two year\n",
       "  PaperlessBilling PaymentMethod             MonthlyCharges TotalCharges Churn\n",
       "1 Yes              Bank transfer (automatic) 61.9           0            No   \n",
       "2 No               Mailed check              25.35          0            No   \n",
       "3 Yes              Mailed check              19.7           0            No   \n",
       "4 No               Mailed check              19.85          0            No   \n",
       "5 No               Mailed check              20.25          0            No   \n",
       "6 Yes              Bank transfer (automatic) 52.55          0            No   \n",
       "  TotalChargesNorm TotalChargesStand TotalChargesScaled\n",
       "1 0                -1.00882          -1.010761         \n",
       "2 0                -1.00882          -1.010761         \n",
       "3 0                -1.00882          -1.010761         \n",
       "4 0                -1.00882          -1.010761         \n",
       "5 0                -1.00882          -1.010761         \n",
       "6 0                -1.00882          -1.010761         "
      ]
     },
     "metadata": {},
     "output_type": "display_data"
    },
    {
     "data": {
      "text/html": [
       "<table class=\"dataframe\">\n",
       "<caption>A data.frame: 3 × 25</caption>\n",
       "<thead>\n",
       "\t<tr><th></th><th scope=col>X</th><th scope=col>customerID</th><th scope=col>gender</th><th scope=col>SeniorCitizen</th><th scope=col>Partner</th><th scope=col>Dependents</th><th scope=col>tenure</th><th scope=col>PhoneService</th><th scope=col>MultipleLines</th><th scope=col>InternetService</th><th scope=col>⋯</th><th scope=col>StreamingMovies</th><th scope=col>Contract</th><th scope=col>PaperlessBilling</th><th scope=col>PaymentMethod</th><th scope=col>MonthlyCharges</th><th scope=col>TotalCharges</th><th scope=col>Churn</th><th scope=col>TotalChargesNorm</th><th scope=col>TotalChargesStand</th><th scope=col>TotalChargesScaled</th></tr>\n",
       "\t<tr><th></th><th scope=col>&lt;int&gt;</th><th scope=col>&lt;chr&gt;</th><th scope=col>&lt;chr&gt;</th><th scope=col>&lt;int&gt;</th><th scope=col>&lt;chr&gt;</th><th scope=col>&lt;chr&gt;</th><th scope=col>&lt;int&gt;</th><th scope=col>&lt;chr&gt;</th><th scope=col>&lt;chr&gt;</th><th scope=col>&lt;chr&gt;</th><th scope=col>⋯</th><th scope=col>&lt;chr&gt;</th><th scope=col>&lt;chr&gt;</th><th scope=col>&lt;chr&gt;</th><th scope=col>&lt;chr&gt;</th><th scope=col>&lt;chr&gt;</th><th scope=col>&lt;dbl&gt;</th><th scope=col>&lt;chr&gt;</th><th scope=col>&lt;dbl&gt;</th><th scope=col>&lt;dbl&gt;</th><th scope=col>&lt;dbl[,1]&gt;</th></tr>\n",
       "</thead>\n",
       "<tbody>\n",
       "\t<tr><th scope=row>1</th><td>1340</td><td>1371-DWPAZ</td><td>Female</td><td>0</td><td>Yes</td><td>Yes</td><td>0</td><td>No </td><td>No phone service</td><td>DSL</td><td>⋯</td><td>No                 </td><td>Two year</td><td>No</td><td>Credit card (automatic)</td><td>56.05</td><td>0</td><td>No</td><td>0</td><td>-1.00882</td><td>-1.010761</td></tr>\n",
       "\t<tr><th scope=row>2</th><td> 936</td><td>5709-LVOEQ</td><td>Female</td><td>0</td><td>Yes</td><td>Yes</td><td>0</td><td>Yes</td><td>No              </td><td>DSL</td><td>⋯</td><td>Yes                </td><td>Two year</td><td>No</td><td>Mailed check           </td><td>80.85</td><td>0</td><td>No</td><td>0</td><td>-1.00882</td><td>-1.010761</td></tr>\n",
       "\t<tr><th scope=row>3</th><td>4380</td><td>2520-SGTTA</td><td>Female</td><td>0</td><td>Yes</td><td>Yes</td><td>0</td><td>Yes</td><td>No              </td><td>No </td><td>⋯</td><td>No internet service</td><td>Two year</td><td>No</td><td>Mailed check           </td><td>20.0 </td><td>0</td><td>No</td><td>0</td><td>-1.00882</td><td>-1.010761</td></tr>\n",
       "</tbody>\n",
       "</table>\n"
      ],
      "text/latex": [
       "A data.frame: 3 × 25\n",
       "\\begin{tabular}{r|lllllllllllllllllllll}\n",
       "  & X & customerID & gender & SeniorCitizen & Partner & Dependents & tenure & PhoneService & MultipleLines & InternetService & ⋯ & StreamingMovies & Contract & PaperlessBilling & PaymentMethod & MonthlyCharges & TotalCharges & Churn & TotalChargesNorm & TotalChargesStand & TotalChargesScaled\\\\\n",
       "  & <int> & <chr> & <chr> & <int> & <chr> & <chr> & <int> & <chr> & <chr> & <chr> & ⋯ & <chr> & <chr> & <chr> & <chr> & <chr> & <dbl> & <chr> & <dbl> & <dbl> & <dbl{[},1{]}>\\\\\n",
       "\\hline\n",
       "\t1 & 1340 & 1371-DWPAZ & Female & 0 & Yes & Yes & 0 & No  & No phone service & DSL & ⋯ & No                  & Two year & No & Credit card (automatic) & 56.05 & 0 & No & 0 & -1.00882 & -1.010761\\\\\n",
       "\t2 &  936 & 5709-LVOEQ & Female & 0 & Yes & Yes & 0 & Yes & No               & DSL & ⋯ & Yes                 & Two year & No & Mailed check            & 80.85 & 0 & No & 0 & -1.00882 & -1.010761\\\\\n",
       "\t3 & 4380 & 2520-SGTTA & Female & 0 & Yes & Yes & 0 & Yes & No               & No  & ⋯ & No internet service & Two year & No & Mailed check            & 20.0  & 0 & No & 0 & -1.00882 & -1.010761\\\\\n",
       "\\end{tabular}\n"
      ],
      "text/markdown": [
       "\n",
       "A data.frame: 3 × 25\n",
       "\n",
       "| <!--/--> | X &lt;int&gt; | customerID &lt;chr&gt; | gender &lt;chr&gt; | SeniorCitizen &lt;int&gt; | Partner &lt;chr&gt; | Dependents &lt;chr&gt; | tenure &lt;int&gt; | PhoneService &lt;chr&gt; | MultipleLines &lt;chr&gt; | InternetService &lt;chr&gt; | ⋯ ⋯ | StreamingMovies &lt;chr&gt; | Contract &lt;chr&gt; | PaperlessBilling &lt;chr&gt; | PaymentMethod &lt;chr&gt; | MonthlyCharges &lt;chr&gt; | TotalCharges &lt;dbl&gt; | Churn &lt;chr&gt; | TotalChargesNorm &lt;dbl&gt; | TotalChargesStand &lt;dbl&gt; | TotalChargesScaled &lt;dbl[,1]&gt; |\n",
       "|---|---|---|---|---|---|---|---|---|---|---|---|---|---|---|---|---|---|---|---|---|---|\n",
       "| 1 | 1340 | 1371-DWPAZ | Female | 0 | Yes | Yes | 0 | No  | No phone service | DSL | ⋯ | No                  | Two year | No | Credit card (automatic) | 56.05 | 0 | No | 0 | -1.00882 | -1.010761 |\n",
       "| 2 |  936 | 5709-LVOEQ | Female | 0 | Yes | Yes | 0 | Yes | No               | DSL | ⋯ | Yes                 | Two year | No | Mailed check            | 80.85 | 0 | No | 0 | -1.00882 | -1.010761 |\n",
       "| 3 | 4380 | 2520-SGTTA | Female | 0 | Yes | Yes | 0 | Yes | No               | No  | ⋯ | No internet service | Two year | No | Mailed check            | 20.0  | 0 | No | 0 | -1.00882 | -1.010761 |\n",
       "\n"
      ],
      "text/plain": [
       "  X    customerID gender SeniorCitizen Partner Dependents tenure PhoneService\n",
       "1 1340 1371-DWPAZ Female 0             Yes     Yes        0      No          \n",
       "2  936 5709-LVOEQ Female 0             Yes     Yes        0      Yes         \n",
       "3 4380 2520-SGTTA Female 0             Yes     Yes        0      Yes         \n",
       "  MultipleLines    InternetService ⋯ StreamingMovies     Contract\n",
       "1 No phone service DSL             ⋯ No                  Two year\n",
       "2 No               DSL             ⋯ Yes                 Two year\n",
       "3 No               No              ⋯ No internet service Two year\n",
       "  PaperlessBilling PaymentMethod           MonthlyCharges TotalCharges Churn\n",
       "1 No               Credit card (automatic) 56.05          0            No   \n",
       "2 No               Mailed check            80.85          0            No   \n",
       "3 No               Mailed check            20.0           0            No   \n",
       "  TotalChargesNorm TotalChargesStand TotalChargesScaled\n",
       "1 0                -1.00882          -1.010761         \n",
       "2 0                -1.00882          -1.010761         \n",
       "3 0                -1.00882          -1.010761         "
      ]
     },
     "metadata": {},
     "output_type": "display_data"
    }
   ],
   "source": [
    "# fix mean and sd\n",
    "meanTotalCharges = mean(train$TotalCharges, na.rm = T)\n",
    "sdTotalCharges = sd(train$TotalCharges, na.rm = T)\n",
    "\n",
    "train <- train %>% mutate(TotalChargesScaled = scale(TotalCharges, center = meanTotalCharges, scale = sdTotalCharges)) # default\n",
    "test <- test %>% mutate(TotalChargesScaled = scale(TotalCharges, center = meanTotalCharges, scale = sdTotalCharges)) # use parameters of train set\n",
    "\n",
    "sd(train$TotalChargesScaled)\n",
    "sd(test$TotalChargesScaled)\n",
    "\n",
    "#check the same value TotalCharges == 0 in train and set\n",
    "head(train %>% filter(TotalCharges == 0))\n",
    "head(test %>% filter(TotalCharges == 0))"
   ]
  },
  {
   "cell_type": "code",
   "execution_count": 21,
   "metadata": {},
   "outputs": [],
   "source": [
    "#compare it with all dataset TotalCharges == 0"
   ]
  },
  {
   "cell_type": "code",
   "execution_count": 22,
   "metadata": {},
   "outputs": [
    {
     "data": {
      "text/html": [
       "<table class=\"dataframe\">\n",
       "<caption>A data.frame: 10 × 25</caption>\n",
       "<thead>\n",
       "\t<tr><th scope=col>X</th><th scope=col>customerID</th><th scope=col>gender</th><th scope=col>SeniorCitizen</th><th scope=col>Partner</th><th scope=col>Dependents</th><th scope=col>tenure</th><th scope=col>PhoneService</th><th scope=col>MultipleLines</th><th scope=col>InternetService</th><th scope=col>...</th><th scope=col>StreamingMovies</th><th scope=col>Contract</th><th scope=col>PaperlessBilling</th><th scope=col>PaymentMethod</th><th scope=col>MonthlyCharges</th><th scope=col>TotalCharges</th><th scope=col>Churn</th><th scope=col>TotalChargesNorm</th><th scope=col>TotalChargesStand</th><th scope=col>TotalChargesScaled</th></tr>\n",
       "\t<tr><th scope=col>&lt;int&gt;</th><th scope=col>&lt;chr&gt;</th><th scope=col>&lt;chr&gt;</th><th scope=col>&lt;int&gt;</th><th scope=col>&lt;chr&gt;</th><th scope=col>&lt;chr&gt;</th><th scope=col>&lt;int&gt;</th><th scope=col>&lt;chr&gt;</th><th scope=col>&lt;chr&gt;</th><th scope=col>&lt;chr&gt;</th><th scope=col>...</th><th scope=col>&lt;chr&gt;</th><th scope=col>&lt;chr&gt;</th><th scope=col>&lt;chr&gt;</th><th scope=col>&lt;chr&gt;</th><th scope=col>&lt;chr&gt;</th><th scope=col>&lt;dbl&gt;</th><th scope=col>&lt;chr&gt;</th><th scope=col>&lt;dbl&gt;</th><th scope=col>&lt;dbl&gt;</th><th scope=col>&lt;dbl&gt;</th></tr>\n",
       "</thead>\n",
       "<tbody>\n",
       "\t<tr><td>6754</td><td>2775-SEFEE</td><td>Male  </td><td>0</td><td>No </td><td>Yes</td><td>0</td><td>Yes</td><td>Yes             </td><td>DSL</td><td>...</td><td>No                 </td><td>Two year</td><td>Yes</td><td>Bank transfer (automatic)</td><td>61.9 </td><td>0</td><td>No</td><td>0</td><td>-1.00882</td><td>-1.00882</td></tr>\n",
       "\t<tr><td>1340</td><td>1371-DWPAZ</td><td>Female</td><td>0</td><td>Yes</td><td>Yes</td><td>0</td><td>No </td><td>No phone service</td><td>DSL</td><td>...</td><td>No                 </td><td>Two year</td><td>No </td><td>Credit card (automatic)  </td><td>56.05</td><td>0</td><td>No</td><td>0</td><td>-1.00882</td><td>-1.00882</td></tr>\n",
       "\t<tr><td>3826</td><td>3213-VVOLG</td><td>Male  </td><td>0</td><td>Yes</td><td>Yes</td><td>0</td><td>Yes</td><td>Yes             </td><td>No </td><td>...</td><td>No internet service</td><td>Two year</td><td>No </td><td>Mailed check             </td><td>25.35</td><td>0</td><td>No</td><td>0</td><td>-1.00882</td><td>-1.00882</td></tr>\n",
       "\t<tr><td>5218</td><td>2923-ARZLG</td><td>Male  </td><td>0</td><td>Yes</td><td>Yes</td><td>0</td><td>Yes</td><td>No              </td><td>No </td><td>...</td><td>No internet service</td><td>One year</td><td>Yes</td><td>Mailed check             </td><td>19.7 </td><td>0</td><td>No</td><td>0</td><td>-1.00882</td><td>-1.00882</td></tr>\n",
       "\t<tr><td>3331</td><td>7644-OMVMY</td><td>Male  </td><td>0</td><td>Yes</td><td>Yes</td><td>0</td><td>Yes</td><td>No              </td><td>No </td><td>...</td><td>No internet service</td><td>Two year</td><td>No </td><td>Mailed check             </td><td>19.85</td><td>0</td><td>No</td><td>0</td><td>-1.00882</td><td>-1.00882</td></tr>\n",
       "\t<tr><td> 936</td><td>5709-LVOEQ</td><td>Female</td><td>0</td><td>Yes</td><td>Yes</td><td>0</td><td>Yes</td><td>No              </td><td>DSL</td><td>...</td><td>Yes                </td><td>Two year</td><td>No </td><td>Mailed check             </td><td>80.85</td><td>0</td><td>No</td><td>0</td><td>-1.00882</td><td>-1.00882</td></tr>\n",
       "\t<tr><td> 753</td><td>3115-CZMZD</td><td>Male  </td><td>0</td><td>No </td><td>Yes</td><td>0</td><td>Yes</td><td>No              </td><td>No </td><td>...</td><td>No internet service</td><td>Two year</td><td>No </td><td>Mailed check             </td><td>20.25</td><td>0</td><td>No</td><td>0</td><td>-1.00882</td><td>-1.00882</td></tr>\n",
       "\t<tr><td>4380</td><td>2520-SGTTA</td><td>Female</td><td>0</td><td>Yes</td><td>Yes</td><td>0</td><td>Yes</td><td>No              </td><td>No </td><td>...</td><td>No internet service</td><td>Two year</td><td>No </td><td>Mailed check             </td><td>20.0 </td><td>0</td><td>No</td><td>0</td><td>-1.00882</td><td>-1.00882</td></tr>\n",
       "\t<tr><td> 488</td><td>4472-LVYGI</td><td>Female</td><td>0</td><td>Yes</td><td>Yes</td><td>0</td><td>No </td><td>No phone service</td><td>DSL</td><td>...</td><td>No                 </td><td>Two year</td><td>Yes</td><td>Bank transfer (automatic)</td><td>52.55</td><td>0</td><td>No</td><td>0</td><td>-1.00882</td><td>-1.00882</td></tr>\n",
       "\t<tr><td>1082</td><td>4367-NUYAO</td><td>Male  </td><td>0</td><td>Yes</td><td>Yes</td><td>0</td><td>Yes</td><td>Yes             </td><td>No </td><td>...</td><td>No internet service</td><td>Two year</td><td>No </td><td>Mailed check             </td><td>25.75</td><td>0</td><td>No</td><td>0</td><td>-1.00882</td><td>-1.00882</td></tr>\n",
       "</tbody>\n",
       "</table>\n"
      ],
      "text/latex": [
       "A data.frame: 10 × 25\n",
       "\\begin{tabular}{lllllllllllllllllllll}\n",
       " X & customerID & gender & SeniorCitizen & Partner & Dependents & tenure & PhoneService & MultipleLines & InternetService & ... & StreamingMovies & Contract & PaperlessBilling & PaymentMethod & MonthlyCharges & TotalCharges & Churn & TotalChargesNorm & TotalChargesStand & TotalChargesScaled\\\\\n",
       " <int> & <chr> & <chr> & <int> & <chr> & <chr> & <int> & <chr> & <chr> & <chr> & ... & <chr> & <chr> & <chr> & <chr> & <chr> & <dbl> & <chr> & <dbl> & <dbl> & <dbl>\\\\\n",
       "\\hline\n",
       "\t 6754 & 2775-SEFEE & Male   & 0 & No  & Yes & 0 & Yes & Yes              & DSL & ... & No                  & Two year & Yes & Bank transfer (automatic) & 61.9  & 0 & No & 0 & -1.00882 & -1.00882\\\\\n",
       "\t 1340 & 1371-DWPAZ & Female & 0 & Yes & Yes & 0 & No  & No phone service & DSL & ... & No                  & Two year & No  & Credit card (automatic)   & 56.05 & 0 & No & 0 & -1.00882 & -1.00882\\\\\n",
       "\t 3826 & 3213-VVOLG & Male   & 0 & Yes & Yes & 0 & Yes & Yes              & No  & ... & No internet service & Two year & No  & Mailed check              & 25.35 & 0 & No & 0 & -1.00882 & -1.00882\\\\\n",
       "\t 5218 & 2923-ARZLG & Male   & 0 & Yes & Yes & 0 & Yes & No               & No  & ... & No internet service & One year & Yes & Mailed check              & 19.7  & 0 & No & 0 & -1.00882 & -1.00882\\\\\n",
       "\t 3331 & 7644-OMVMY & Male   & 0 & Yes & Yes & 0 & Yes & No               & No  & ... & No internet service & Two year & No  & Mailed check              & 19.85 & 0 & No & 0 & -1.00882 & -1.00882\\\\\n",
       "\t  936 & 5709-LVOEQ & Female & 0 & Yes & Yes & 0 & Yes & No               & DSL & ... & Yes                 & Two year & No  & Mailed check              & 80.85 & 0 & No & 0 & -1.00882 & -1.00882\\\\\n",
       "\t  753 & 3115-CZMZD & Male   & 0 & No  & Yes & 0 & Yes & No               & No  & ... & No internet service & Two year & No  & Mailed check              & 20.25 & 0 & No & 0 & -1.00882 & -1.00882\\\\\n",
       "\t 4380 & 2520-SGTTA & Female & 0 & Yes & Yes & 0 & Yes & No               & No  & ... & No internet service & Two year & No  & Mailed check              & 20.0  & 0 & No & 0 & -1.00882 & -1.00882\\\\\n",
       "\t  488 & 4472-LVYGI & Female & 0 & Yes & Yes & 0 & No  & No phone service & DSL & ... & No                  & Two year & Yes & Bank transfer (automatic) & 52.55 & 0 & No & 0 & -1.00882 & -1.00882\\\\\n",
       "\t 1082 & 4367-NUYAO & Male   & 0 & Yes & Yes & 0 & Yes & Yes              & No  & ... & No internet service & Two year & No  & Mailed check              & 25.75 & 0 & No & 0 & -1.00882 & -1.00882\\\\\n",
       "\\end{tabular}\n"
      ],
      "text/markdown": [
       "\n",
       "A data.frame: 10 × 25\n",
       "\n",
       "| X &lt;int&gt; | customerID &lt;chr&gt; | gender &lt;chr&gt; | SeniorCitizen &lt;int&gt; | Partner &lt;chr&gt; | Dependents &lt;chr&gt; | tenure &lt;int&gt; | PhoneService &lt;chr&gt; | MultipleLines &lt;chr&gt; | InternetService &lt;chr&gt; | ... ... | StreamingMovies &lt;chr&gt; | Contract &lt;chr&gt; | PaperlessBilling &lt;chr&gt; | PaymentMethod &lt;chr&gt; | MonthlyCharges &lt;chr&gt; | TotalCharges &lt;dbl&gt; | Churn &lt;chr&gt; | TotalChargesNorm &lt;dbl&gt; | TotalChargesStand &lt;dbl&gt; | TotalChargesScaled &lt;dbl&gt; |\n",
       "|---|---|---|---|---|---|---|---|---|---|---|---|---|---|---|---|---|---|---|---|---|\n",
       "| 6754 | 2775-SEFEE | Male   | 0 | No  | Yes | 0 | Yes | Yes              | DSL | ... | No                  | Two year | Yes | Bank transfer (automatic) | 61.9  | 0 | No | 0 | -1.00882 | -1.00882 |\n",
       "| 1340 | 1371-DWPAZ | Female | 0 | Yes | Yes | 0 | No  | No phone service | DSL | ... | No                  | Two year | No  | Credit card (automatic)   | 56.05 | 0 | No | 0 | -1.00882 | -1.00882 |\n",
       "| 3826 | 3213-VVOLG | Male   | 0 | Yes | Yes | 0 | Yes | Yes              | No  | ... | No internet service | Two year | No  | Mailed check              | 25.35 | 0 | No | 0 | -1.00882 | -1.00882 |\n",
       "| 5218 | 2923-ARZLG | Male   | 0 | Yes | Yes | 0 | Yes | No               | No  | ... | No internet service | One year | Yes | Mailed check              | 19.7  | 0 | No | 0 | -1.00882 | -1.00882 |\n",
       "| 3331 | 7644-OMVMY | Male   | 0 | Yes | Yes | 0 | Yes | No               | No  | ... | No internet service | Two year | No  | Mailed check              | 19.85 | 0 | No | 0 | -1.00882 | -1.00882 |\n",
       "|  936 | 5709-LVOEQ | Female | 0 | Yes | Yes | 0 | Yes | No               | DSL | ... | Yes                 | Two year | No  | Mailed check              | 80.85 | 0 | No | 0 | -1.00882 | -1.00882 |\n",
       "|  753 | 3115-CZMZD | Male   | 0 | No  | Yes | 0 | Yes | No               | No  | ... | No internet service | Two year | No  | Mailed check              | 20.25 | 0 | No | 0 | -1.00882 | -1.00882 |\n",
       "| 4380 | 2520-SGTTA | Female | 0 | Yes | Yes | 0 | Yes | No               | No  | ... | No internet service | Two year | No  | Mailed check              | 20.0  | 0 | No | 0 | -1.00882 | -1.00882 |\n",
       "|  488 | 4472-LVYGI | Female | 0 | Yes | Yes | 0 | No  | No phone service | DSL | ... | No                  | Two year | Yes | Bank transfer (automatic) | 52.55 | 0 | No | 0 | -1.00882 | -1.00882 |\n",
       "| 1082 | 4367-NUYAO | Male   | 0 | Yes | Yes | 0 | Yes | Yes              | No  | ... | No internet service | Two year | No  | Mailed check              | 25.75 | 0 | No | 0 | -1.00882 | -1.00882 |\n",
       "\n"
      ],
      "text/plain": [
       "   X    customerID gender SeniorCitizen Partner Dependents tenure PhoneService\n",
       "1  6754 2775-SEFEE Male   0             No      Yes        0      Yes         \n",
       "2  1340 1371-DWPAZ Female 0             Yes     Yes        0      No          \n",
       "3  3826 3213-VVOLG Male   0             Yes     Yes        0      Yes         \n",
       "4  5218 2923-ARZLG Male   0             Yes     Yes        0      Yes         \n",
       "5  3331 7644-OMVMY Male   0             Yes     Yes        0      Yes         \n",
       "6   936 5709-LVOEQ Female 0             Yes     Yes        0      Yes         \n",
       "7   753 3115-CZMZD Male   0             No      Yes        0      Yes         \n",
       "8  4380 2520-SGTTA Female 0             Yes     Yes        0      Yes         \n",
       "9   488 4472-LVYGI Female 0             Yes     Yes        0      No          \n",
       "10 1082 4367-NUYAO Male   0             Yes     Yes        0      Yes         \n",
       "   MultipleLines    InternetService ... StreamingMovies     Contract\n",
       "1  Yes              DSL             ... No                  Two year\n",
       "2  No phone service DSL             ... No                  Two year\n",
       "3  Yes              No              ... No internet service Two year\n",
       "4  No               No              ... No internet service One year\n",
       "5  No               No              ... No internet service Two year\n",
       "6  No               DSL             ... Yes                 Two year\n",
       "7  No               No              ... No internet service Two year\n",
       "8  No               No              ... No internet service Two year\n",
       "9  No phone service DSL             ... No                  Two year\n",
       "10 Yes              No              ... No internet service Two year\n",
       "   PaperlessBilling PaymentMethod             MonthlyCharges TotalCharges Churn\n",
       "1  Yes              Bank transfer (automatic) 61.9           0            No   \n",
       "2  No               Credit card (automatic)   56.05          0            No   \n",
       "3  No               Mailed check              25.35          0            No   \n",
       "4  Yes              Mailed check              19.7           0            No   \n",
       "5  No               Mailed check              19.85          0            No   \n",
       "6  No               Mailed check              80.85          0            No   \n",
       "7  No               Mailed check              20.25          0            No   \n",
       "8  No               Mailed check              20.0           0            No   \n",
       "9  Yes              Bank transfer (automatic) 52.55          0            No   \n",
       "10 No               Mailed check              25.75          0            No   \n",
       "   TotalChargesNorm TotalChargesStand TotalChargesScaled\n",
       "1  0                -1.00882          -1.00882          \n",
       "2  0                -1.00882          -1.00882          \n",
       "3  0                -1.00882          -1.00882          \n",
       "4  0                -1.00882          -1.00882          \n",
       "5  0                -1.00882          -1.00882          \n",
       "6  0                -1.00882          -1.00882          \n",
       "7  0                -1.00882          -1.00882          \n",
       "8  0                -1.00882          -1.00882          \n",
       "9  0                -1.00882          -1.00882          \n",
       "10 0                -1.00882          -1.00882          "
      ]
     },
     "metadata": {},
     "output_type": "display_data"
    }
   ],
   "source": [
    "filter(churn_data, TotalCharges == 0)\n",
    "# for now TotalChargesScaled in train/test th same, but in churn data its different, because of diffrent scaling bases"
   ]
  },
  {
   "cell_type": "markdown",
   "metadata": {},
   "source": [
    "---"
   ]
  },
  {
   "cell_type": "markdown",
   "metadata": {},
   "source": [
    "# 2. Feature Transformation"
   ]
  },
  {
   "cell_type": "markdown",
   "metadata": {},
   "source": [
    "`Feature transformation` involves manipulating a predictor variable in some way so as to improve its performance in the predictive model. A variety of considerations come into play when transforming models, including:\n",
    "\n",
    "- [x] The `flexibility` of machine learning and statistical models in dealing with different types of data. For example, some techniques require that the input data be in numeric format, whereas others can deal with other formats, such as categorical, text, or dates.\n",
    "- [x] `Ease of interpretation`. A predictive model where all the predictors are on the same scale (e.g., have a mean of 0 and a standard deviation of 1), can make interpretation easier.\n",
    "- [x] `Predictive accuracy`. Some transformations of variables can improve the accuracy of prediction (e.g., rather than including a numeric variable as a predictor, instead include both it and a second variable that is its square).\n",
    "- [x] `Theory`. For example, economic theory dictates that in many situations the natural logarithm of data representing prices and quantities should be used.\n",
    "- [x] `Computational error`. Many algorithms are written in such a way that \"large\" numbers cause them to give the wrong result, where \"large\" may not be so large (e.g., more than 10 or less than -10)."
   ]
  },
  {
   "cell_type": "markdown",
   "metadata": {},
   "source": [
    "## Scaling based on calculations"
   ]
  },
  {
   "cell_type": "markdown",
   "metadata": {},
   "source": [
    "Sometimes for changing data distribution before using in modeling or change correlation between input and output variables scientist changes data type with standart mathematical functions. Lets try transform `TotalCharges` with logarithm, sqrt and power up 2."
   ]
  },
  {
   "cell_type": "code",
   "execution_count": 44,
   "metadata": {},
   "outputs": [
    {
     "name": "stderr",
     "output_type": "stream",
     "text": [
      "Warning message:\n",
      "“Removed 10 rows containing non-finite values (stat_bin).”\n"
     ]
    },
    {
     "data": {
      "image/png": "[encoded data removed]",
      "text/plain": [
       "plot without title"
      ]
     },
     "metadata": {
      "image/png": {
       "height": 420,
       "width": 420
      }
     },
     "output_type": "display_data"
    }
   ],
   "source": [
    "churn_data_tmp <- churn_data %>%\n",
    "        mutate(TotalChargesLog = log(TotalCharges),\n",
    "              TotalChargesSqrt = sqrt(TotalCharges),\n",
    "              TotalChargesPow2 = TotalCharges^2)\n",
    "\n",
    "plot1 <- ggplot(churn_data_tmp, aes(x=TotalChargesLog)) + geom_histogram(bins = 15)\n",
    "plot2 <- ggplot(churn_data_tmp, aes(x=TotalChargesSqrt)) + geom_histogram(bins = 15)\n",
    "plot3 <- ggplot(churn_data_tmp, aes(x=TotalChargesPow2)) + geom_histogram(bins = 15)\n",
    "grid.arrange(plot1, plot2, plot3, ncol=3) "
   ]
  },
  {
   "cell_type": "markdown",
   "metadata": {},
   "source": [
    "Lets try"
   ]
  },
  {
   "cell_type": "code",
   "execution_count": 45,
   "metadata": {},
   "outputs": [
    {
     "data": {
      "text/html": [
       "0.951033233871077"
      ],
      "text/latex": [
       "0.951033233871077"
      ],
      "text/markdown": [
       "0.951033233871077"
      ],
      "text/plain": [
       "[1] 0.9510332"
      ]
     },
     "metadata": {},
     "output_type": "display_data"
    },
    {
     "data": {
      "text/html": [
       "NaN"
      ],
      "text/latex": [
       "NaN"
      ],
      "text/markdown": [
       "NaN"
      ],
      "text/plain": [
       "[1] NaN"
      ]
     },
     "metadata": {},
     "output_type": "display_data"
    },
    {
     "data": {
      "text/html": [
       "0.301289466558413"
      ],
      "text/latex": [
       "0.301289466558413"
      ],
      "text/markdown": [
       "0.301289466558413"
      ],
      "text/plain": [
       "[1] 0.3012895"
      ]
     },
     "metadata": {},
     "output_type": "display_data"
    },
    {
     "data": {
      "text/html": [
       "1.80616147912626"
      ],
      "text/latex": [
       "1.80616147912626"
      ],
      "text/markdown": [
       "1.80616147912626"
      ],
      "text/plain": [
       "[1] 1.806161"
      ]
     },
     "metadata": {},
     "output_type": "display_data"
    }
   ],
   "source": [
    "library(moments)\n",
    "\n",
    "skewness(churn_data_tmp$TotalCharges)\n",
    "skewness(churn_data_tmp$TotalChargesLog)\n",
    "skewness(churn_data_tmp$TotalChargesSqrt)\n",
    "skewness(churn_data_tmp$TotalChargesPow2)"
   ]
  },
  {
   "cell_type": "markdown",
   "metadata": {},
   "source": [
    "**Conclusion:**  different scaling gives different data distribution and may improve model perfomance if you have found the correct form of dependence of input/ouput parameters."
   ]
  },
  {
   "cell_type": "markdown",
   "metadata": {},
   "source": [
    "---"
   ]
  },
  {
   "cell_type": "markdown",
   "metadata": {},
   "source": [
    "# 3. Feature Construction"
   ]
  },
  {
   "cell_type": "markdown",
   "metadata": {},
   "source": [
    "The **`feature Construction`** method helps in creating new features in the data thereby increasing model accuracy and overall predictions. It is of two types:\n",
    "\n",
    "- [x] `Binning`: Bins are created for continuous variables.\n",
    "- [x] `Encoding`: Numerical variables or features are formed from categorical variables.\n",
    "\n",
    " Додано мною, бо не знайшов ніде такого прийому) Всі одразу моделюють))\n",
    "- [x] `Evaluation` - construction new features on raw data from datasource."
   ]
  },
  {
   "cell_type": "markdown",
   "metadata": {},
   "source": [
    "## 3.1. Binning\n",
    "\n",
    "`Binning` is done to create bins for continuous variables where they are converted to categorical variables. \n",
    "\n",
    "`Binning` is the term used in scoring modeling for what is also known in Machine Learning as `Discretization`, the process of transforming a continuous characteristic into a finite number of intervals (the bins), which allows for a better understanding of its distribution and its relationship with a binary variable. The bins generated by the this process will eventually become the attributes of a predictive characteristic, the key component of a Scorecard.\n",
    "\n",
    "Why Binning?\n",
    "\n",
    "- [x] It allows missing data and other special calculations (e.g. divided by zero) to be included in the model.\n",
    "- [x] It controls or mitigates the impact of outliers over the model.\n",
    "- [x] It solves the issue of having different scales among the characteristics, making the weights of the coefficients in the final model comparable.\n",
    "\n",
    "There are two types of binning: `Unsupervised` and `Supervised`.\n",
    "\n",
    "`Unsupervised Binning` involves Automatic and Manual binning. In Automatic Binning, bins are created without human interference and are created automatically.  In Manual Binning, bins are created with human interference and we specify where the bins to be created.\n",
    "\n",
    "`Supervised Binning` involves creating bins for the continuous variable while taking the target variable into the consideration also. `Supervised Discretization or Binning` divides a continuous feature into groups (bins) mapped to a target variable. The central idea is to find those cutpoints that maximize the difference between the groups.\n",
    "\n",
    "In the past, analysts used to iteratively move from Fine Binning to Coarse Binning, a very time consuming process of finding manually and visually the right cutpoints (if ever). Nowadays with algorithms like ChiMerge or Recursive Partitioning, two out of several techniques available, analysts can quickly find the optimal cutpoints in seconds and evaluate the relationship with the target variable using metrics such as Weight of Evidence and Information Value."
   ]
  },
  {
   "cell_type": "markdown",
   "metadata": {},
   "source": [
    "There are many packages for creating new variables: `smbinning`, `scorecard`, `rbin`, `InformationValue` and other."
   ]
  },
  {
   "cell_type": "markdown",
   "metadata": {},
   "source": [
    "### 3.1.1. WOE binning: theory"
   ]
  },
  {
   "cell_type": "markdown",
   "metadata": {},
   "source": [
    "**`Weight of evidence (WOE)`**\n",
    "\n",
    "This is basically a technique that can be applied if we have a binary response variable and any kind of predictor variable. First we perform a reasonable binning on the response variable and then decide which form of the binary response we count as positive and which as negative. Then we calculate the percentage positive cases in each bin of the total of all positive cases. For example 20 positive cases in bin A out of 100 total positive cases in all bins equals 20 %. Next we calculate the percentage of negative cases in each bin of the total of all negative cases, for example 5 negative cases in bin A out of a total of 50 negative cases in all bins equals 10%. Then we calculate the WOE by dividing the bin percentages of positive cases by the bin percentage of negative cases, and take the logarithm. For the described example log(20/10).\n",
    "\n",
    "Rule of thump: If WOE values are negative, negative cases supersede the positive cases. If WOE values are positive, positive cases supersede the negative cases.\n",
    "\n",
    "This serves the following purposes:\n",
    "\n",
    "- We eliminate any none-linear relationships\n",
    "- We automatically scale all variables too some extend\n",
    "- We convert categorical variables to contineous variables\n",
    "- Missing Data can be handled as just another factor value\n",
    "- We can built a stand alone score card, that could be manually applied by a person with a pen and a printout of all relevant variables.\n",
    "\n",
    "It has the following disadvantages:\n",
    "\n",
    "- We always loose information via binning\n",
    "- Score development along single variables is not contineous and occurs in steps\n",
    "- Binning requires manual revision\n",
    "- Calculating Variable importance is not as straight forward as with classical logistic regression with regularly scaled variables\n",
    "\n",
    "**`Information Value (IV)`**\n",
    "\n",
    "By doing another sequence of calculations similar to the WOE calculation we can calculate the `IV`. Classically this serves as variable ranking method and allows us to perform feature selection, which is less compuationally demanding as other methods.\n",
    "\n",
    "|Information Value|Predictive Power|\n",
    "|---|---|\n",
    "|< 0.02|useless for prediction|\n",
    "|0.02 - 0.1|weak predictor|\n",
    "|0.1 - 0.3|medium predictor|\n",
    "|0.3 - 0.5|strong predictor|\n",
    "|> 0.5|suspicious too good to be true|"
   ]
  },
  {
   "cell_type": "markdown",
   "metadata": {},
   "source": [
    "After calculating WOE value it replaces the original values in dataset."
   ]
  },
  {
   "cell_type": "markdown",
   "metadata": {},
   "source": [
    "### 3.1.2. `scorecard` package and `woebin()`-function"
   ]
  },
  {
   "cell_type": "markdown",
   "metadata": {},
   "source": [
    "`woebin` generates optimal binning for numerical, factor and categorical variables using methods including tree-like segmentation or chi-square merge. woebin can also customizing breakpoints if the breaks_list was provided. The default woe is defined as ln(Pos_i/Neg_i). If you prefer ln(Neg_i/Pos_i), please set the argument positive as negative value, such as '0' or 'good'. If there is a zero frequency class when calculating woe, the zero will replaced by 0.99 to make the woe calculable."
   ]
  },
  {
   "cell_type": "code",
   "execution_count": 71,
   "metadata": {},
   "outputs": [
    {
     "data": {
      "text/html": [
       "<table class=\"dataframe\">\n",
       "<caption>A data.frame: 6 × 4</caption>\n",
       "<thead>\n",
       "\t<tr><th></th><th scope=col>customerID</th><th scope=col>InternetService</th><th scope=col>TotalCharges</th><th scope=col>Churn</th></tr>\n",
       "\t<tr><th></th><th scope=col>&lt;chr&gt;</th><th scope=col>&lt;chr&gt;</th><th scope=col>&lt;dbl&gt;</th><th scope=col>&lt;dbl&gt;</th></tr>\n",
       "</thead>\n",
       "<tbody>\n",
       "\t<tr><th scope=row>1</th><td>7010-BRBUU</td><td>No         </td><td>1734.65</td><td>0</td></tr>\n",
       "\t<tr><th scope=row>2</th><td>9688-YGXVR</td><td>Fiber optic</td><td>3973.20</td><td>0</td></tr>\n",
       "\t<tr><th scope=row>3</th><td>9286-DOJGF</td><td>Fiber optic</td><td>2869.85</td><td>1</td></tr>\n",
       "\t<tr><th scope=row>4</th><td>6994-KERXL</td><td>DSL        </td><td> 238.50</td><td>0</td></tr>\n",
       "\t<tr><th scope=row>5</th><td>2181-UAESM</td><td>DSL        </td><td> 119.50</td><td>0</td></tr>\n",
       "\t<tr><th scope=row>6</th><td>4312-GVYNH</td><td>DSL        </td><td>3370.20</td><td>0</td></tr>\n",
       "</tbody>\n",
       "</table>\n"
      ],
      "text/latex": [
       "A data.frame: 6 × 4\n",
       "\\begin{tabular}{r|llll}\n",
       "  & customerID & InternetService & TotalCharges & Churn\\\\\n",
       "  & <chr> & <chr> & <dbl> & <dbl>\\\\\n",
       "\\hline\n",
       "\t1 & 7010-BRBUU & No          & 1734.65 & 0\\\\\n",
       "\t2 & 9688-YGXVR & Fiber optic & 3973.20 & 0\\\\\n",
       "\t3 & 9286-DOJGF & Fiber optic & 2869.85 & 1\\\\\n",
       "\t4 & 6994-KERXL & DSL         &  238.50 & 0\\\\\n",
       "\t5 & 2181-UAESM & DSL         &  119.50 & 0\\\\\n",
       "\t6 & 4312-GVYNH & DSL         & 3370.20 & 0\\\\\n",
       "\\end{tabular}\n"
      ],
      "text/markdown": [
       "\n",
       "A data.frame: 6 × 4\n",
       "\n",
       "| <!--/--> | customerID &lt;chr&gt; | InternetService &lt;chr&gt; | TotalCharges &lt;dbl&gt; | Churn &lt;dbl&gt; |\n",
       "|---|---|---|---|---|\n",
       "| 1 | 7010-BRBUU | No          | 1734.65 | 0 |\n",
       "| 2 | 9688-YGXVR | Fiber optic | 3973.20 | 0 |\n",
       "| 3 | 9286-DOJGF | Fiber optic | 2869.85 | 1 |\n",
       "| 4 | 6994-KERXL | DSL         |  238.50 | 0 |\n",
       "| 5 | 2181-UAESM | DSL         |  119.50 | 0 |\n",
       "| 6 | 4312-GVYNH | DSL         | 3370.20 | 0 |\n",
       "\n"
      ],
      "text/plain": [
       "  customerID InternetService TotalCharges Churn\n",
       "1 7010-BRBUU No              1734.65      0    \n",
       "2 9688-YGXVR Fiber optic     3973.20      0    \n",
       "3 9286-DOJGF Fiber optic     2869.85      1    \n",
       "4 6994-KERXL DSL              238.50      0    \n",
       "5 2181-UAESM DSL              119.50      0    \n",
       "6 4312-GVYNH DSL             3370.20      0    "
      ]
     },
     "metadata": {},
     "output_type": "display_data"
    }
   ],
   "source": [
    "# lets try to bin InternetService, TotalCharges from churn_data_tmp\n",
    "churn_data_tmp <- churn_data %>%\n",
    "        mutate(Churn = ifelse(Churn == \"Yes\", 1, 0))\n",
    "\n",
    "bin_data <- churn_data_tmp %>% select(customerID, InternetService, TotalCharges, Churn)\n",
    "head(bin_data)\n",
    "\n",
    "#churn_data_tmp%>%select(Churn) %>% distinct()"
   ]
  },
  {
   "cell_type": "code",
   "execution_count": 54,
   "metadata": {},
   "outputs": [
    {
     "name": "stderr",
     "output_type": "stream",
     "text": [
      "Updating HTML index of packages in '.Library'\n",
      "\n",
      "Making 'packages.html' ...\n",
      " done\n",
      "\n"
     ]
    }
   ],
   "source": [
    "install.packages(\"scorecard\")"
   ]
  },
  {
   "cell_type": "code",
   "execution_count": 72,
   "metadata": {},
   "outputs": [
    {
     "name": "stdout",
     "output_type": "stream",
     "text": [
      "[INFO] creating woe binning ... \n"
     ]
    }
   ],
   "source": [
    "library(scorecard)\n",
    "\n",
    "bins = woebin(bin_data, # dataset\n",
    "              y = 'Churn', # target variable\n",
    "              x = c(\"InternetService\", \"TotalCharges\")) # variables for binning\n"
   ]
  },
  {
   "cell_type": "code",
   "execution_count": 73,
   "metadata": {},
   "outputs": [
    {
     "data": {
      "text/html": [
       "<dl>\n",
       "\t<dt>$InternetService</dt>\n",
       "\t\t<dd><table class=\"dataframe\">\n",
       "<caption>A data.table: 3 × 12</caption>\n",
       "<thead>\n",
       "\t<tr><th scope=col>variable</th><th scope=col>bin</th><th scope=col>count</th><th scope=col>count_distr</th><th scope=col>neg</th><th scope=col>pos</th><th scope=col>posprob</th><th scope=col>woe</th><th scope=col>bin_iv</th><th scope=col>total_iv</th><th scope=col>breaks</th><th scope=col>is_special_values</th></tr>\n",
       "\t<tr><th scope=col>&lt;chr&gt;</th><th scope=col>&lt;chr&gt;</th><th scope=col>&lt;int&gt;</th><th scope=col>&lt;dbl&gt;</th><th scope=col>&lt;int&gt;</th><th scope=col>&lt;int&gt;</th><th scope=col>&lt;dbl&gt;</th><th scope=col>&lt;dbl&gt;</th><th scope=col>&lt;dbl&gt;</th><th scope=col>&lt;dbl&gt;</th><th scope=col>&lt;chr&gt;</th><th scope=col>&lt;lgl&gt;</th></tr>\n",
       "</thead>\n",
       "<tbody>\n",
       "\t<tr><td>InternetService</td><td>No         </td><td>1291</td><td>0.2156699</td><td>1192</td><td>  99</td><td>0.07668474</td><td>-1.4687362</td><td>0.30636195</td><td>0.5897126</td><td>No         </td><td>FALSE</td></tr>\n",
       "\t<tr><td>InternetService</td><td>DSL        </td><td>2068</td><td>0.3454728</td><td>1671</td><td> 397</td><td>0.19197292</td><td>-0.4177094</td><td>0.05417755</td><td>0.5897126</td><td>DSL        </td><td>FALSE</td></tr>\n",
       "\t<tr><td>InternetService</td><td>Fiber optic</td><td>2627</td><td>0.4388573</td><td>1536</td><td>1091</td><td>0.41530263</td><td> 0.6774449</td><td>0.22917306</td><td>0.5897126</td><td>Fiber optic</td><td>FALSE</td></tr>\n",
       "</tbody>\n",
       "</table>\n",
       "</dd>\n",
       "\t<dt>$TotalCharges</dt>\n",
       "\t\t<dd><table class=\"dataframe\">\n",
       "<caption>A data.table: 4 × 12</caption>\n",
       "<thead>\n",
       "\t<tr><th scope=col>variable</th><th scope=col>bin</th><th scope=col>count</th><th scope=col>count_distr</th><th scope=col>neg</th><th scope=col>pos</th><th scope=col>posprob</th><th scope=col>woe</th><th scope=col>bin_iv</th><th scope=col>total_iv</th><th scope=col>breaks</th><th scope=col>is_special_values</th></tr>\n",
       "\t<tr><th scope=col>&lt;chr&gt;</th><th scope=col>&lt;chr&gt;</th><th scope=col>&lt;int&gt;</th><th scope=col>&lt;dbl&gt;</th><th scope=col>&lt;int&gt;</th><th scope=col>&lt;int&gt;</th><th scope=col>&lt;dbl&gt;</th><th scope=col>&lt;dbl&gt;</th><th scope=col>&lt;dbl&gt;</th><th scope=col>&lt;dbl&gt;</th><th scope=col>&lt;chr&gt;</th><th scope=col>&lt;lgl&gt;</th></tr>\n",
       "</thead>\n",
       "<tbody>\n",
       "\t<tr><td>TotalCharges</td><td>[-Inf,200) </td><td>1004</td><td>0.16772469</td><td> 517</td><td>487</td><td>0.4850598</td><td> 0.9597530</td><td>0.181721173</td><td>0.3097399</td><td>200 </td><td>FALSE</td></tr>\n",
       "\t<tr><td>TotalCharges</td><td>[200,400)  </td><td> 488</td><td>0.08152355</td><td> 327</td><td>161</td><td>0.3299180</td><td> 0.3109760</td><td>0.008431865</td><td>0.3097399</td><td>400 </td><td>FALSE</td></tr>\n",
       "\t<tr><td>TotalCharges</td><td>[400,3800) </td><td>2981</td><td>0.49799532</td><td>2266</td><td>715</td><td>0.2398524</td><td>-0.1339571</td><td>0.008651146</td><td>0.3097399</td><td>3800</td><td>FALSE</td></tr>\n",
       "\t<tr><td>TotalCharges</td><td>[3800, Inf)</td><td>1513</td><td>0.25275643</td><td>1289</td><td>224</td><td>0.1480502</td><td>-0.7304442</td><td>0.110935711</td><td>0.3097399</td><td>Inf </td><td>FALSE</td></tr>\n",
       "</tbody>\n",
       "</table>\n",
       "</dd>\n",
       "</dl>\n"
      ],
      "text/latex": [
       "\\begin{description}\n",
       "\\item[\\$InternetService] A data.table: 3 × 12\n",
       "\\begin{tabular}{llllllllllll}\n",
       " variable & bin & count & count\\_distr & neg & pos & posprob & woe & bin\\_iv & total\\_iv & breaks & is\\_special\\_values\\\\\n",
       " <chr> & <chr> & <int> & <dbl> & <int> & <int> & <dbl> & <dbl> & <dbl> & <dbl> & <chr> & <lgl>\\\\\n",
       "\\hline\n",
       "\t InternetService & No          & 1291 & 0.2156699 & 1192 &   99 & 0.07668474 & -1.4687362 & 0.30636195 & 0.5897126 & No          & FALSE\\\\\n",
       "\t InternetService & DSL         & 2068 & 0.3454728 & 1671 &  397 & 0.19197292 & -0.4177094 & 0.05417755 & 0.5897126 & DSL         & FALSE\\\\\n",
       "\t InternetService & Fiber optic & 2627 & 0.4388573 & 1536 & 1091 & 0.41530263 &  0.6774449 & 0.22917306 & 0.5897126 & Fiber optic & FALSE\\\\\n",
       "\\end{tabular}\n",
       "\n",
       "\\item[\\$TotalCharges] A data.table: 4 × 12\n",
       "\\begin{tabular}{llllllllllll}\n",
       " variable & bin & count & count\\_distr & neg & pos & posprob & woe & bin\\_iv & total\\_iv & breaks & is\\_special\\_values\\\\\n",
       " <chr> & <chr> & <int> & <dbl> & <int> & <int> & <dbl> & <dbl> & <dbl> & <dbl> & <chr> & <lgl>\\\\\n",
       "\\hline\n",
       "\t TotalCharges & {[}-Inf,200)  & 1004 & 0.16772469 &  517 & 487 & 0.4850598 &  0.9597530 & 0.181721173 & 0.3097399 & 200  & FALSE\\\\\n",
       "\t TotalCharges & {[}200,400)   &  488 & 0.08152355 &  327 & 161 & 0.3299180 &  0.3109760 & 0.008431865 & 0.3097399 & 400  & FALSE\\\\\n",
       "\t TotalCharges & {[}400,3800)  & 2981 & 0.49799532 & 2266 & 715 & 0.2398524 & -0.1339571 & 0.008651146 & 0.3097399 & 3800 & FALSE\\\\\n",
       "\t TotalCharges & {[}3800, Inf) & 1513 & 0.25275643 & 1289 & 224 & 0.1480502 & -0.7304442 & 0.110935711 & 0.3097399 & Inf  & FALSE\\\\\n",
       "\\end{tabular}\n",
       "\n",
       "\\end{description}\n"
      ],
      "text/markdown": [
       "$InternetService\n",
       ":   \n",
       "A data.table: 3 × 12\n",
       "\n",
       "| variable &lt;chr&gt; | bin &lt;chr&gt; | count &lt;int&gt; | count_distr &lt;dbl&gt; | neg &lt;int&gt; | pos &lt;int&gt; | posprob &lt;dbl&gt; | woe &lt;dbl&gt; | bin_iv &lt;dbl&gt; | total_iv &lt;dbl&gt; | breaks &lt;chr&gt; | is_special_values &lt;lgl&gt; |\n",
       "|---|---|---|---|---|---|---|---|---|---|---|---|\n",
       "| InternetService | No          | 1291 | 0.2156699 | 1192 |   99 | 0.07668474 | -1.4687362 | 0.30636195 | 0.5897126 | No          | FALSE |\n",
       "| InternetService | DSL         | 2068 | 0.3454728 | 1671 |  397 | 0.19197292 | -0.4177094 | 0.05417755 | 0.5897126 | DSL         | FALSE |\n",
       "| InternetService | Fiber optic | 2627 | 0.4388573 | 1536 | 1091 | 0.41530263 |  0.6774449 | 0.22917306 | 0.5897126 | Fiber optic | FALSE |\n",
       "\n",
       "\n",
       "$TotalCharges\n",
       ":   \n",
       "A data.table: 4 × 12\n",
       "\n",
       "| variable &lt;chr&gt; | bin &lt;chr&gt; | count &lt;int&gt; | count_distr &lt;dbl&gt; | neg &lt;int&gt; | pos &lt;int&gt; | posprob &lt;dbl&gt; | woe &lt;dbl&gt; | bin_iv &lt;dbl&gt; | total_iv &lt;dbl&gt; | breaks &lt;chr&gt; | is_special_values &lt;lgl&gt; |\n",
       "|---|---|---|---|---|---|---|---|---|---|---|---|\n",
       "| TotalCharges | [-Inf,200)  | 1004 | 0.16772469 |  517 | 487 | 0.4850598 |  0.9597530 | 0.181721173 | 0.3097399 | 200  | FALSE |\n",
       "| TotalCharges | [200,400)   |  488 | 0.08152355 |  327 | 161 | 0.3299180 |  0.3109760 | 0.008431865 | 0.3097399 | 400  | FALSE |\n",
       "| TotalCharges | [400,3800)  | 2981 | 0.49799532 | 2266 | 715 | 0.2398524 | -0.1339571 | 0.008651146 | 0.3097399 | 3800 | FALSE |\n",
       "| TotalCharges | [3800, Inf) | 1513 | 0.25275643 | 1289 | 224 | 0.1480502 | -0.7304442 | 0.110935711 | 0.3097399 | Inf  | FALSE |\n",
       "\n",
       "\n",
       "\n",
       "\n"
      ],
      "text/plain": [
       "$InternetService\n",
       "          variable         bin count count_distr  neg  pos    posprob\n",
       "1: InternetService          No  1291   0.2156699 1192   99 0.07668474\n",
       "2: InternetService         DSL  2068   0.3454728 1671  397 0.19197292\n",
       "3: InternetService Fiber optic  2627   0.4388573 1536 1091 0.41530263\n",
       "          woe     bin_iv  total_iv      breaks is_special_values\n",
       "1: -1.4687362 0.30636195 0.5897126          No             FALSE\n",
       "2: -0.4177094 0.05417755 0.5897126         DSL             FALSE\n",
       "3:  0.6774449 0.22917306 0.5897126 Fiber optic             FALSE\n",
       "\n",
       "$TotalCharges\n",
       "       variable         bin count count_distr  neg pos   posprob        woe\n",
       "1: TotalCharges  [-Inf,200)  1004  0.16772469  517 487 0.4850598  0.9597530\n",
       "2: TotalCharges   [200,400)   488  0.08152355  327 161 0.3299180  0.3109760\n",
       "3: TotalCharges  [400,3800)  2981  0.49799532 2266 715 0.2398524 -0.1339571\n",
       "4: TotalCharges [3800, Inf)  1513  0.25275643 1289 224 0.1480502 -0.7304442\n",
       "        bin_iv  total_iv breaks is_special_values\n",
       "1: 0.181721173 0.3097399    200             FALSE\n",
       "2: 0.008431865 0.3097399    400             FALSE\n",
       "3: 0.008651146 0.3097399   3800             FALSE\n",
       "4: 0.110935711 0.3097399    Inf             FALSE\n"
      ]
     },
     "metadata": {},
     "output_type": "display_data"
    }
   ],
   "source": [
    "# lets view our bins\n",
    "bbins"
   ]
  },
  {
   "cell_type": "code",
   "execution_count": 82,
   "metadata": {},
   "outputs": [
    {
     "data": {
      "text/html": [
       "<table class=\"dataframe\">\n",
       "<caption>A tibble: 2 × 2</caption>\n",
       "<thead>\n",
       "\t<tr><th scope=col>Churn</th><th scope=col>n()</th></tr>\n",
       "\t<tr><th scope=col>&lt;dbl&gt;</th><th scope=col>&lt;int&gt;</th></tr>\n",
       "</thead>\n",
       "<tbody>\n",
       "\t<tr><td>0</td><td>1289</td></tr>\n",
       "\t<tr><td>1</td><td> 224</td></tr>\n",
       "</tbody>\n",
       "</table>\n"
      ],
      "text/latex": [
       "A tibble: 2 × 2\n",
       "\\begin{tabular}{ll}\n",
       " Churn & n()\\\\\n",
       " <dbl> & <int>\\\\\n",
       "\\hline\n",
       "\t 0 & 1289\\\\\n",
       "\t 1 &  224\\\\\n",
       "\\end{tabular}\n"
      ],
      "text/markdown": [
       "\n",
       "A tibble: 2 × 2\n",
       "\n",
       "| Churn &lt;dbl&gt; | n() &lt;int&gt; |\n",
       "|---|---|\n",
       "| 0 | 1289 |\n",
       "| 1 |  224 |\n",
       "\n"
      ],
      "text/plain": [
       "  Churn n() \n",
       "1 0     1289\n",
       "2 1      224"
      ]
     },
     "metadata": {},
     "output_type": "display_data"
    }
   ],
   "source": [
    "churn_data_tmp %>% filter(TotalCharges > 3800) %>% select(Churn) %>% group_by(Churn) %>% summarize(n())"
   ]
  },
  {
   "cell_type": "code",
   "execution_count": 28,
   "metadata": {},
   "outputs": [
    {
     "data": {
      "text/plain": [
       "\n",
       "\n",
       "|variable     |bin         | count| count_distr|  neg| pos|   posprob|        woe|    bin_iv|  total_iv|breaks |is_special_values |\n",
       "|:------------|:-----------|-----:|-----------:|----:|---:|---------:|----------:|---------:|---------:|:------|:-----------------|\n",
       "|TotalCharges |[-Inf,200)  |  1004|   0.1677247|  517| 487| 0.4850598|  0.9597530| 0.1817212| 0.3097399|200    |FALSE             |\n",
       "|TotalCharges |[200,400)   |   488|   0.0815236|  327| 161| 0.3299180|  0.3109760| 0.0084319| 0.3097399|400    |FALSE             |\n",
       "|TotalCharges |[400,3800)  |  2981|   0.4979953| 2266| 715| 0.2398524| -0.1339571| 0.0086511| 0.3097399|3800   |FALSE             |\n",
       "|TotalCharges |[3800, Inf) |  1513|   0.2527564| 1289| 224| 0.1480502| -0.7304442| 0.1109357| 0.3097399|Inf    |FALSE             |"
      ]
     },
     "metadata": {},
     "output_type": "display_data"
    }
   ],
   "source": [
    "bins$TotalCharges %>% knitr::kable() # better view for RStudio, need knitr to be installed"
   ]
  },
  {
   "cell_type": "code",
   "execution_count": 83,
   "metadata": {},
   "outputs": [
    {
     "data": {
      "text/plain": [
       "$TotalCharges\n"
      ]
     },
     "metadata": {},
     "output_type": "display_data"
    },
    {
     "data": {
      "image/png": "[encoded data removed]",
      "text/plain": [
       "plot without title"
      ]
     },
     "metadata": {
      "image/png": {
       "height": 420,
       "width": 420
      }
     },
     "output_type": "display_data"
    }
   ],
   "source": [
    "# preview the plot\n",
    "woebin_plot(bins$TotalCharges)"
   ]
  },
  {
   "cell_type": "markdown",
   "metadata": {},
   "source": [
    "If TotalCharges less than 200 its most risky group of customers, 48.5% of them are potential churn."
   ]
  },
  {
   "cell_type": "code",
   "execution_count": 85,
   "metadata": {},
   "outputs": [
    {
     "data": {
      "text/plain": [
       "\n",
       "\n",
       "|variable        |bin         | count| count_distr|  neg|  pos|   posprob|        woe|    bin_iv|  total_iv|breaks      |is_special_values |\n",
       "|:---------------|:-----------|-----:|-----------:|----:|----:|---------:|----------:|---------:|---------:|:-----------|:-----------------|\n",
       "|InternetService |No          |  1291|   0.2156699| 1192|   99| 0.0766847| -1.4687362| 0.3063620| 0.5897126|No          |FALSE             |\n",
       "|InternetService |DSL         |  2068|   0.3454728| 1671|  397| 0.1919729| -0.4177094| 0.0541776| 0.5897126|DSL         |FALSE             |\n",
       "|InternetService |Fiber optic |  2627|   0.4388573| 1536| 1091| 0.4153026|  0.6774449| 0.2291731| 0.5897126|Fiber optic |FALSE             |"
      ]
     },
     "metadata": {},
     "output_type": "display_data"
    },
    {
     "data": {
      "text/plain": [
       "$InternetService\n"
      ]
     },
     "metadata": {},
     "output_type": "display_data"
    },
    {
     "data": {
      "image/png": "[encoded data removed]",
      "text/plain": [
       "plot without title"
      ]
     },
     "metadata": {
      "image/png": {
       "height": 420,
       "width": 420
      }
     },
     "output_type": "display_data"
    }
   ],
   "source": [
    "bins$InternetService %>% knitr::kable() \n",
    "woebin_plot(bins$InternetService)"
   ]
  },
  {
   "cell_type": "markdown",
   "metadata": {},
   "source": [
    "Fiber optic InternetService customers are the most risky. 41.5% of them are potentiona churn."
   ]
  },
  {
   "cell_type": "markdown",
   "metadata": {},
   "source": [
    "The next stage is applying bins to th the variables:"
   ]
  },
  {
   "cell_type": "code",
   "execution_count": 86,
   "metadata": {},
   "outputs": [
    {
     "name": "stdout",
     "output_type": "stream",
     "text": [
      "[INFO] converting into woe values ... \n"
     ]
    },
    {
     "data": {
      "text/html": [
       "<table class=\"dataframe\">\n",
       "<caption>A data.frame: 6 × 4</caption>\n",
       "<thead>\n",
       "\t<tr><th></th><th scope=col>customerID</th><th scope=col>InternetService</th><th scope=col>TotalCharges</th><th scope=col>Churn</th></tr>\n",
       "\t<tr><th></th><th scope=col>&lt;chr&gt;</th><th scope=col>&lt;chr&gt;</th><th scope=col>&lt;dbl&gt;</th><th scope=col>&lt;dbl&gt;</th></tr>\n",
       "</thead>\n",
       "<tbody>\n",
       "\t<tr><th scope=row>1</th><td>7010-BRBUU</td><td>No         </td><td>1734.65</td><td>0</td></tr>\n",
       "\t<tr><th scope=row>2</th><td>9688-YGXVR</td><td>Fiber optic</td><td>3973.20</td><td>0</td></tr>\n",
       "\t<tr><th scope=row>3</th><td>9286-DOJGF</td><td>Fiber optic</td><td>2869.85</td><td>1</td></tr>\n",
       "\t<tr><th scope=row>4</th><td>6994-KERXL</td><td>DSL        </td><td> 238.50</td><td>0</td></tr>\n",
       "\t<tr><th scope=row>5</th><td>2181-UAESM</td><td>DSL        </td><td> 119.50</td><td>0</td></tr>\n",
       "\t<tr><th scope=row>6</th><td>4312-GVYNH</td><td>DSL        </td><td>3370.20</td><td>0</td></tr>\n",
       "</tbody>\n",
       "</table>\n"
      ],
      "text/latex": [
       "A data.frame: 6 × 4\n",
       "\\begin{tabular}{r|llll}\n",
       "  & customerID & InternetService & TotalCharges & Churn\\\\\n",
       "  & <chr> & <chr> & <dbl> & <dbl>\\\\\n",
       "\\hline\n",
       "\t1 & 7010-BRBUU & No          & 1734.65 & 0\\\\\n",
       "\t2 & 9688-YGXVR & Fiber optic & 3973.20 & 0\\\\\n",
       "\t3 & 9286-DOJGF & Fiber optic & 2869.85 & 1\\\\\n",
       "\t4 & 6994-KERXL & DSL         &  238.50 & 0\\\\\n",
       "\t5 & 2181-UAESM & DSL         &  119.50 & 0\\\\\n",
       "\t6 & 4312-GVYNH & DSL         & 3370.20 & 0\\\\\n",
       "\\end{tabular}\n"
      ],
      "text/markdown": [
       "\n",
       "A data.frame: 6 × 4\n",
       "\n",
       "| <!--/--> | customerID &lt;chr&gt; | InternetService &lt;chr&gt; | TotalCharges &lt;dbl&gt; | Churn &lt;dbl&gt; |\n",
       "|---|---|---|---|---|\n",
       "| 1 | 7010-BRBUU | No          | 1734.65 | 0 |\n",
       "| 2 | 9688-YGXVR | Fiber optic | 3973.20 | 0 |\n",
       "| 3 | 9286-DOJGF | Fiber optic | 2869.85 | 1 |\n",
       "| 4 | 6994-KERXL | DSL         |  238.50 | 0 |\n",
       "| 5 | 2181-UAESM | DSL         |  119.50 | 0 |\n",
       "| 6 | 4312-GVYNH | DSL         | 3370.20 | 0 |\n",
       "\n"
      ],
      "text/plain": [
       "  customerID InternetService TotalCharges Churn\n",
       "1 7010-BRBUU No              1734.65      0    \n",
       "2 9688-YGXVR Fiber optic     3973.20      0    \n",
       "3 9286-DOJGF Fiber optic     2869.85      1    \n",
       "4 6994-KERXL DSL              238.50      0    \n",
       "5 2181-UAESM DSL              119.50      0    \n",
       "6 4312-GVYNH DSL             3370.20      0    "
      ]
     },
     "metadata": {},
     "output_type": "display_data"
    },
    {
     "data": {
      "text/html": [
       "<table class=\"dataframe\">\n",
       "<caption>A data.table: 6 × 4</caption>\n",
       "<thead>\n",
       "\t<tr><th scope=col>customerID</th><th scope=col>Churn</th><th scope=col>InternetService_woe</th><th scope=col>TotalCharges_woe</th></tr>\n",
       "\t<tr><th scope=col>&lt;chr&gt;</th><th scope=col>&lt;dbl&gt;</th><th scope=col>&lt;dbl&gt;</th><th scope=col>&lt;dbl&gt;</th></tr>\n",
       "</thead>\n",
       "<tbody>\n",
       "\t<tr><td>7010-BRBUU</td><td>0</td><td>-1.4687362</td><td>-0.1339571</td></tr>\n",
       "\t<tr><td>9688-YGXVR</td><td>0</td><td> 0.6774449</td><td>-0.7304442</td></tr>\n",
       "\t<tr><td>9286-DOJGF</td><td>1</td><td> 0.6774449</td><td>-0.1339571</td></tr>\n",
       "\t<tr><td>6994-KERXL</td><td>0</td><td>-0.4177094</td><td> 0.3109760</td></tr>\n",
       "\t<tr><td>2181-UAESM</td><td>0</td><td>-0.4177094</td><td> 0.9597530</td></tr>\n",
       "\t<tr><td>4312-GVYNH</td><td>0</td><td>-0.4177094</td><td>-0.1339571</td></tr>\n",
       "</tbody>\n",
       "</table>\n"
      ],
      "text/latex": [
       "A data.table: 6 × 4\n",
       "\\begin{tabular}{llll}\n",
       " customerID & Churn & InternetService\\_woe & TotalCharges\\_woe\\\\\n",
       " <chr> & <dbl> & <dbl> & <dbl>\\\\\n",
       "\\hline\n",
       "\t 7010-BRBUU & 0 & -1.4687362 & -0.1339571\\\\\n",
       "\t 9688-YGXVR & 0 &  0.6774449 & -0.7304442\\\\\n",
       "\t 9286-DOJGF & 1 &  0.6774449 & -0.1339571\\\\\n",
       "\t 6994-KERXL & 0 & -0.4177094 &  0.3109760\\\\\n",
       "\t 2181-UAESM & 0 & -0.4177094 &  0.9597530\\\\\n",
       "\t 4312-GVYNH & 0 & -0.4177094 & -0.1339571\\\\\n",
       "\\end{tabular}\n"
      ],
      "text/markdown": [
       "\n",
       "A data.table: 6 × 4\n",
       "\n",
       "| customerID &lt;chr&gt; | Churn &lt;dbl&gt; | InternetService_woe &lt;dbl&gt; | TotalCharges_woe &lt;dbl&gt; |\n",
       "|---|---|---|---|\n",
       "| 7010-BRBUU | 0 | -1.4687362 | -0.1339571 |\n",
       "| 9688-YGXVR | 0 |  0.6774449 | -0.7304442 |\n",
       "| 9286-DOJGF | 1 |  0.6774449 | -0.1339571 |\n",
       "| 6994-KERXL | 0 | -0.4177094 |  0.3109760 |\n",
       "| 2181-UAESM | 0 | -0.4177094 |  0.9597530 |\n",
       "| 4312-GVYNH | 0 | -0.4177094 | -0.1339571 |\n",
       "\n"
      ],
      "text/plain": [
       "  customerID Churn InternetService_woe TotalCharges_woe\n",
       "1 7010-BRBUU 0     -1.4687362          -0.1339571      \n",
       "2 9688-YGXVR 0      0.6774449          -0.7304442      \n",
       "3 9286-DOJGF 1      0.6774449          -0.1339571      \n",
       "4 6994-KERXL 0     -0.4177094           0.3109760      \n",
       "5 2181-UAESM 0     -0.4177094           0.9597530      \n",
       "6 4312-GVYNH 0     -0.4177094          -0.1339571      "
      ]
     },
     "metadata": {},
     "output_type": "display_data"
    }
   ],
   "source": [
    "bin_data_woe = woebin_ply(bin_data, bins) \n",
    "head(bin_data)\n",
    "head(bin_data_woe) # compare how it changed"
   ]
  },
  {
   "cell_type": "code",
   "execution_count": 87,
   "metadata": {},
   "outputs": [
    {
     "data": {
      "text/html": [
       "<table class=\"dataframe\">\n",
       "<caption>A data.table: 3 × 12</caption>\n",
       "<thead>\n",
       "\t<tr><th scope=col>variable</th><th scope=col>bin</th><th scope=col>count</th><th scope=col>count_distr</th><th scope=col>neg</th><th scope=col>pos</th><th scope=col>posprob</th><th scope=col>woe</th><th scope=col>bin_iv</th><th scope=col>total_iv</th><th scope=col>breaks</th><th scope=col>is_special_values</th></tr>\n",
       "\t<tr><th scope=col>&lt;chr&gt;</th><th scope=col>&lt;chr&gt;</th><th scope=col>&lt;int&gt;</th><th scope=col>&lt;dbl&gt;</th><th scope=col>&lt;int&gt;</th><th scope=col>&lt;int&gt;</th><th scope=col>&lt;dbl&gt;</th><th scope=col>&lt;dbl&gt;</th><th scope=col>&lt;dbl&gt;</th><th scope=col>&lt;dbl&gt;</th><th scope=col>&lt;chr&gt;</th><th scope=col>&lt;lgl&gt;</th></tr>\n",
       "</thead>\n",
       "<tbody>\n",
       "\t<tr><td>InternetService</td><td>No         </td><td>1291</td><td>0.2156699</td><td>1192</td><td>  99</td><td>0.07668474</td><td>-1.4687362</td><td>0.30636195</td><td>0.5897126</td><td>No         </td><td>FALSE</td></tr>\n",
       "\t<tr><td>InternetService</td><td>DSL        </td><td>2068</td><td>0.3454728</td><td>1671</td><td> 397</td><td>0.19197292</td><td>-0.4177094</td><td>0.05417755</td><td>0.5897126</td><td>DSL        </td><td>FALSE</td></tr>\n",
       "\t<tr><td>InternetService</td><td>Fiber optic</td><td>2627</td><td>0.4388573</td><td>1536</td><td>1091</td><td>0.41530263</td><td> 0.6774449</td><td>0.22917306</td><td>0.5897126</td><td>Fiber optic</td><td>FALSE</td></tr>\n",
       "</tbody>\n",
       "</table>\n"
      ],
      "text/latex": [
       "A data.table: 3 × 12\n",
       "\\begin{tabular}{llllllllllll}\n",
       " variable & bin & count & count\\_distr & neg & pos & posprob & woe & bin\\_iv & total\\_iv & breaks & is\\_special\\_values\\\\\n",
       " <chr> & <chr> & <int> & <dbl> & <int> & <int> & <dbl> & <dbl> & <dbl> & <dbl> & <chr> & <lgl>\\\\\n",
       "\\hline\n",
       "\t InternetService & No          & 1291 & 0.2156699 & 1192 &   99 & 0.07668474 & -1.4687362 & 0.30636195 & 0.5897126 & No          & FALSE\\\\\n",
       "\t InternetService & DSL         & 2068 & 0.3454728 & 1671 &  397 & 0.19197292 & -0.4177094 & 0.05417755 & 0.5897126 & DSL         & FALSE\\\\\n",
       "\t InternetService & Fiber optic & 2627 & 0.4388573 & 1536 & 1091 & 0.41530263 &  0.6774449 & 0.22917306 & 0.5897126 & Fiber optic & FALSE\\\\\n",
       "\\end{tabular}\n"
      ],
      "text/markdown": [
       "\n",
       "A data.table: 3 × 12\n",
       "\n",
       "| variable &lt;chr&gt; | bin &lt;chr&gt; | count &lt;int&gt; | count_distr &lt;dbl&gt; | neg &lt;int&gt; | pos &lt;int&gt; | posprob &lt;dbl&gt; | woe &lt;dbl&gt; | bin_iv &lt;dbl&gt; | total_iv &lt;dbl&gt; | breaks &lt;chr&gt; | is_special_values &lt;lgl&gt; |\n",
       "|---|---|---|---|---|---|---|---|---|---|---|---|\n",
       "| InternetService | No          | 1291 | 0.2156699 | 1192 |   99 | 0.07668474 | -1.4687362 | 0.30636195 | 0.5897126 | No          | FALSE |\n",
       "| InternetService | DSL         | 2068 | 0.3454728 | 1671 |  397 | 0.19197292 | -0.4177094 | 0.05417755 | 0.5897126 | DSL         | FALSE |\n",
       "| InternetService | Fiber optic | 2627 | 0.4388573 | 1536 | 1091 | 0.41530263 |  0.6774449 | 0.22917306 | 0.5897126 | Fiber optic | FALSE |\n",
       "\n"
      ],
      "text/plain": [
       "  variable        bin         count count_distr neg  pos  posprob    woe       \n",
       "1 InternetService No          1291  0.2156699   1192   99 0.07668474 -1.4687362\n",
       "2 InternetService DSL         2068  0.3454728   1671  397 0.19197292 -0.4177094\n",
       "3 InternetService Fiber optic 2627  0.4388573   1536 1091 0.41530263  0.6774449\n",
       "  bin_iv     total_iv  breaks      is_special_values\n",
       "1 0.30636195 0.5897126 No          FALSE            \n",
       "2 0.05417755 0.5897126 DSL         FALSE            \n",
       "3 0.22917306 0.5897126 Fiber optic FALSE            "
      ]
     },
     "metadata": {},
     "output_type": "display_data"
    }
   ],
   "source": [
    "bins$InternetService #No is replaced by WOE -1.4687362 (line 1)"
   ]
  },
  {
   "cell_type": "markdown",
   "metadata": {},
   "source": [
    "So, both numerical and categorical variables are binned by woebin function."
   ]
  },
  {
   "cell_type": "markdown",
   "metadata": {},
   "source": [
    "In real-life project you should dou binning with the next steps:\n",
    "\n",
    "1. Clean data\n",
    "2. Split data into train/test (+prediction)\n",
    "3. Create bins on train set (and save them if your model not one-time used)\n",
    "4. Apply bins to all sets you have\n",
    "\n",
    "Lest see how to make it with our dataset `churn_data`."
   ]
  },
  {
   "cell_type": "code",
   "execution_count": 88,
   "metadata": {},
   "outputs": [
    {
     "data": {
      "text/html": [
       "<table class=\"dataframe\">\n",
       "<caption>A data.frame: 6 × 5</caption>\n",
       "<thead>\n",
       "\t<tr><th></th><th scope=col>customerID</th><th scope=col>gender</th><th scope=col>PaymentMethod</th><th scope=col>TotalCharges</th><th scope=col>Churn</th></tr>\n",
       "\t<tr><th></th><th scope=col>&lt;chr&gt;</th><th scope=col>&lt;chr&gt;</th><th scope=col>&lt;chr&gt;</th><th scope=col>&lt;dbl&gt;</th><th scope=col>&lt;dbl&gt;</th></tr>\n",
       "</thead>\n",
       "<tbody>\n",
       "\t<tr><th scope=row>1</th><td>7010-BRBUU</td><td>Male  </td><td>Credit card (automatic)  </td><td>1734.65</td><td>0</td></tr>\n",
       "\t<tr><th scope=row>2</th><td>9688-YGXVR</td><td>Female</td><td>Credit card (automatic)  </td><td>3973.20</td><td>0</td></tr>\n",
       "\t<tr><th scope=row>3</th><td>9286-DOJGF</td><td>Female</td><td>Bank transfer (automatic)</td><td>2869.85</td><td>1</td></tr>\n",
       "\t<tr><th scope=row>4</th><td>6994-KERXL</td><td>Male  </td><td>Electronic check         </td><td> 238.50</td><td>0</td></tr>\n",
       "\t<tr><th scope=row>5</th><td>2181-UAESM</td><td>Male  </td><td>Electronic check         </td><td> 119.50</td><td>0</td></tr>\n",
       "\t<tr><th scope=row>6</th><td>4312-GVYNH</td><td>Female</td><td>Bank transfer (automatic)</td><td>3370.20</td><td>0</td></tr>\n",
       "</tbody>\n",
       "</table>\n"
      ],
      "text/latex": [
       "A data.frame: 6 × 5\n",
       "\\begin{tabular}{r|lllll}\n",
       "  & customerID & gender & PaymentMethod & TotalCharges & Churn\\\\\n",
       "  & <chr> & <chr> & <chr> & <dbl> & <dbl>\\\\\n",
       "\\hline\n",
       "\t1 & 7010-BRBUU & Male   & Credit card (automatic)   & 1734.65 & 0\\\\\n",
       "\t2 & 9688-YGXVR & Female & Credit card (automatic)   & 3973.20 & 0\\\\\n",
       "\t3 & 9286-DOJGF & Female & Bank transfer (automatic) & 2869.85 & 1\\\\\n",
       "\t4 & 6994-KERXL & Male   & Electronic check          &  238.50 & 0\\\\\n",
       "\t5 & 2181-UAESM & Male   & Electronic check          &  119.50 & 0\\\\\n",
       "\t6 & 4312-GVYNH & Female & Bank transfer (automatic) & 3370.20 & 0\\\\\n",
       "\\end{tabular}\n"
      ],
      "text/markdown": [
       "\n",
       "A data.frame: 6 × 5\n",
       "\n",
       "| <!--/--> | customerID &lt;chr&gt; | gender &lt;chr&gt; | PaymentMethod &lt;chr&gt; | TotalCharges &lt;dbl&gt; | Churn &lt;dbl&gt; |\n",
       "|---|---|---|---|---|---|\n",
       "| 1 | 7010-BRBUU | Male   | Credit card (automatic)   | 1734.65 | 0 |\n",
       "| 2 | 9688-YGXVR | Female | Credit card (automatic)   | 3973.20 | 0 |\n",
       "| 3 | 9286-DOJGF | Female | Bank transfer (automatic) | 2869.85 | 1 |\n",
       "| 4 | 6994-KERXL | Male   | Electronic check          |  238.50 | 0 |\n",
       "| 5 | 2181-UAESM | Male   | Electronic check          |  119.50 | 0 |\n",
       "| 6 | 4312-GVYNH | Female | Bank transfer (automatic) | 3370.20 | 0 |\n",
       "\n"
      ],
      "text/plain": [
       "  customerID gender PaymentMethod             TotalCharges Churn\n",
       "1 7010-BRBUU Male   Credit card (automatic)   1734.65      0    \n",
       "2 9688-YGXVR Female Credit card (automatic)   3973.20      0    \n",
       "3 9286-DOJGF Female Bank transfer (automatic) 2869.85      1    \n",
       "4 6994-KERXL Male   Electronic check           238.50      0    \n",
       "5 2181-UAESM Male   Electronic check           119.50      0    \n",
       "6 4312-GVYNH Female Bank transfer (automatic) 3370.20      0    "
      ]
     },
     "metadata": {},
     "output_type": "display_data"
    }
   ],
   "source": [
    "library(caret)\n",
    "library(gmodels)\n",
    "set.seed(2021) # to fix split options\n",
    "\n",
    "churn_data <- read.csv(\"data/telecom_users.csv\") # read data\n",
    "churn_data <- churn_data %>% \n",
    "    select(customerID, gender, PaymentMethod, TotalCharges, Churn) %>% # select some columns for test + target\n",
    "    mutate(Churn = ifelse(Churn == \"Yes\", 1, 0)) # replace Churn Yes/No with 1/0 - Event/NonEvent\n",
    "head(churn_data)"
   ]
  },
  {
   "cell_type": "code",
   "execution_count": 91,
   "metadata": {},
   "outputs": [],
   "source": [
    "index = createDataPartition(churn_data$Churn, p = 0.60, list = FALSE) # select randomly indexes of the rows for train\n",
    "train = churn_data[index, ]\n",
    "test = churn_data[-index, ]"
   ]
  },
  {
   "cell_type": "code",
   "execution_count": 92,
   "metadata": {},
   "outputs": [
    {
     "name": "stdout",
     "output_type": "stream",
     "text": [
      "[INFO] creating woe binning ... \n"
     ]
    }
   ],
   "source": [
    "data_bins = woebin(train, # dataset\n",
    "                   y = \"Churn\", # target\n",
    "                   var_skip = \"customerID\" # skip ID\n",
    "                  # x = c(\"gender\", \"PaymentMethod\", \"TotalCharges\") # select some varables\n",
    "                   #var_skip = \"customerID\" # target variable - not working in jupyter\n",
    "             )"
   ]
  },
  {
   "cell_type": "code",
   "execution_count": 93,
   "metadata": {},
   "outputs": [
    {
     "data": {
      "text/html": [
       "<dl>\n",
       "\t<dt>$gender</dt>\n",
       "\t\t<dd><table class=\"dataframe\">\n",
       "<caption>A data.table: 2 × 12</caption>\n",
       "<thead>\n",
       "\t<tr><th scope=col>variable</th><th scope=col>bin</th><th scope=col>count</th><th scope=col>count_distr</th><th scope=col>neg</th><th scope=col>pos</th><th scope=col>posprob</th><th scope=col>woe</th><th scope=col>bin_iv</th><th scope=col>total_iv</th><th scope=col>breaks</th><th scope=col>is_special_values</th></tr>\n",
       "\t<tr><th scope=col>&lt;chr&gt;</th><th scope=col>&lt;chr&gt;</th><th scope=col>&lt;int&gt;</th><th scope=col>&lt;dbl&gt;</th><th scope=col>&lt;int&gt;</th><th scope=col>&lt;int&gt;</th><th scope=col>&lt;dbl&gt;</th><th scope=col>&lt;dbl&gt;</th><th scope=col>&lt;dbl&gt;</th><th scope=col>&lt;dbl&gt;</th><th scope=col>&lt;chr&gt;</th><th scope=col>&lt;lgl&gt;</th></tr>\n",
       "</thead>\n",
       "<tbody>\n",
       "\t<tr><td>gender</td><td>Male  </td><td>1825</td><td>0.5080735</td><td>1352</td><td>473</td><td>0.2591781</td><td>-0.01881112</td><td>0.0001789821</td><td>0.0003621777</td><td>Male  </td><td>FALSE</td></tr>\n",
       "\t<tr><td>gender</td><td>Female</td><td>1767</td><td>0.4919265</td><td>1296</td><td>471</td><td>0.2665535</td><td> 0.01925397</td><td>0.0001831957</td><td>0.0003621777</td><td>Female</td><td>FALSE</td></tr>\n",
       "</tbody>\n",
       "</table>\n",
       "</dd>\n",
       "\t<dt>$PaymentMethod</dt>\n",
       "\t\t<dd><table class=\"dataframe\">\n",
       "<caption>A data.table: 3 × 12</caption>\n",
       "<thead>\n",
       "\t<tr><th scope=col>variable</th><th scope=col>bin</th><th scope=col>count</th><th scope=col>count_distr</th><th scope=col>neg</th><th scope=col>pos</th><th scope=col>posprob</th><th scope=col>woe</th><th scope=col>bin_iv</th><th scope=col>total_iv</th><th scope=col>breaks</th><th scope=col>is_special_values</th></tr>\n",
       "\t<tr><th scope=col>&lt;chr&gt;</th><th scope=col>&lt;chr&gt;</th><th scope=col>&lt;int&gt;</th><th scope=col>&lt;dbl&gt;</th><th scope=col>&lt;int&gt;</th><th scope=col>&lt;int&gt;</th><th scope=col>&lt;dbl&gt;</th><th scope=col>&lt;dbl&gt;</th><th scope=col>&lt;dbl&gt;</th><th scope=col>&lt;dbl&gt;</th><th scope=col>&lt;chr&gt;</th><th scope=col>&lt;lgl&gt;</th></tr>\n",
       "</thead>\n",
       "<tbody>\n",
       "\t<tr><td>PaymentMethod</td><td>Credit card (automatic)                 </td><td> 776</td><td>0.2160356</td><td> 664</td><td>112</td><td>0.1443299</td><td>-0.7483495</td><td>0.09886537</td><td>0.4408417</td><td>Credit card (automatic)                 </td><td>FALSE</td></tr>\n",
       "\t<tr><td>PaymentMethod</td><td>Bank transfer (automatic)%,%Mailed check</td><td>1600</td><td>0.4454343</td><td>1308</td><td>292</td><td>0.1825000</td><td>-0.4680670</td><td>0.08642186</td><td>0.4408417</td><td>Bank transfer (automatic)%,%Mailed check</td><td>FALSE</td></tr>\n",
       "\t<tr><td>PaymentMethod</td><td>Electronic check                        </td><td>1216</td><td>0.3385301</td><td> 676</td><td>540</td><td>0.4440789</td><td> 0.8068098</td><td>0.25555450</td><td>0.4408417</td><td>Electronic check                        </td><td>FALSE</td></tr>\n",
       "</tbody>\n",
       "</table>\n",
       "</dd>\n",
       "\t<dt>$TotalCharges</dt>\n",
       "\t\t<dd><table class=\"dataframe\">\n",
       "<caption>A data.table: 5 × 12</caption>\n",
       "<thead>\n",
       "\t<tr><th scope=col>variable</th><th scope=col>bin</th><th scope=col>count</th><th scope=col>count_distr</th><th scope=col>neg</th><th scope=col>pos</th><th scope=col>posprob</th><th scope=col>woe</th><th scope=col>bin_iv</th><th scope=col>total_iv</th><th scope=col>breaks</th><th scope=col>is_special_values</th></tr>\n",
       "\t<tr><th scope=col>&lt;chr&gt;</th><th scope=col>&lt;chr&gt;</th><th scope=col>&lt;int&gt;</th><th scope=col>&lt;dbl&gt;</th><th scope=col>&lt;int&gt;</th><th scope=col>&lt;int&gt;</th><th scope=col>&lt;dbl&gt;</th><th scope=col>&lt;dbl&gt;</th><th scope=col>&lt;dbl&gt;</th><th scope=col>&lt;dbl&gt;</th><th scope=col>&lt;chr&gt;</th><th scope=col>&lt;lgl&gt;</th></tr>\n",
       "</thead>\n",
       "<tbody>\n",
       "\t<tr><td>TotalCharges</td><td>missing    </td><td>   3</td><td>0.0008351893</td><td>   3</td><td>  0</td><td>0.0000000</td><td>-0.07827705</td><td>6.677062e-06</td><td>0.3054992</td><td>missing</td><td> TRUE</td></tr>\n",
       "\t<tr><td>TotalCharges</td><td>[-Inf,200) </td><td> 591</td><td>0.1645322940</td><td> 309</td><td>282</td><td>0.4771574</td><td> 0.93895137</td><td>1.706300e-01</td><td>0.3054992</td><td>200    </td><td>FALSE</td></tr>\n",
       "\t<tr><td>TotalCharges</td><td>[200,400)  </td><td> 296</td><td>0.0824053452</td><td> 193</td><td>103</td><td>0.3479730</td><td> 0.40242437</td><td>1.453181e-02</td><td>0.3054992</td><td>400    </td><td>FALSE</td></tr>\n",
       "\t<tr><td>TotalCharges</td><td>[400,3200) </td><td>1636</td><td>0.4554565702</td><td>1240</td><td>396</td><td>0.2420538</td><td>-0.11106688</td><td>5.467366e-03</td><td>0.3054992</td><td>3200   </td><td>FALSE</td></tr>\n",
       "\t<tr><td>TotalCharges</td><td>[3200, Inf)</td><td>1066</td><td>0.2967706013</td><td> 903</td><td>163</td><td>0.1529081</td><td>-0.68158678</td><td>1.148634e-01</td><td>0.3054992</td><td>Inf    </td><td>FALSE</td></tr>\n",
       "</tbody>\n",
       "</table>\n",
       "</dd>\n",
       "</dl>\n"
      ],
      "text/latex": [
       "\\begin{description}\n",
       "\\item[\\$gender] A data.table: 2 × 12\n",
       "\\begin{tabular}{llllllllllll}\n",
       " variable & bin & count & count\\_distr & neg & pos & posprob & woe & bin\\_iv & total\\_iv & breaks & is\\_special\\_values\\\\\n",
       " <chr> & <chr> & <int> & <dbl> & <int> & <int> & <dbl> & <dbl> & <dbl> & <dbl> & <chr> & <lgl>\\\\\n",
       "\\hline\n",
       "\t gender & Male   & 1825 & 0.5080735 & 1352 & 473 & 0.2591781 & -0.01881112 & 0.0001789821 & 0.0003621777 & Male   & FALSE\\\\\n",
       "\t gender & Female & 1767 & 0.4919265 & 1296 & 471 & 0.2665535 &  0.01925397 & 0.0001831957 & 0.0003621777 & Female & FALSE\\\\\n",
       "\\end{tabular}\n",
       "\n",
       "\\item[\\$PaymentMethod] A data.table: 3 × 12\n",
       "\\begin{tabular}{llllllllllll}\n",
       " variable & bin & count & count\\_distr & neg & pos & posprob & woe & bin\\_iv & total\\_iv & breaks & is\\_special\\_values\\\\\n",
       " <chr> & <chr> & <int> & <dbl> & <int> & <int> & <dbl> & <dbl> & <dbl> & <dbl> & <chr> & <lgl>\\\\\n",
       "\\hline\n",
       "\t PaymentMethod & Credit card (automatic)                  &  776 & 0.2160356 &  664 & 112 & 0.1443299 & -0.7483495 & 0.09886537 & 0.4408417 & Credit card (automatic)                  & FALSE\\\\\n",
       "\t PaymentMethod & Bank transfer (automatic)\\%,\\%Mailed check & 1600 & 0.4454343 & 1308 & 292 & 0.1825000 & -0.4680670 & 0.08642186 & 0.4408417 & Bank transfer (automatic)\\%,\\%Mailed check & FALSE\\\\\n",
       "\t PaymentMethod & Electronic check                         & 1216 & 0.3385301 &  676 & 540 & 0.4440789 &  0.8068098 & 0.25555450 & 0.4408417 & Electronic check                         & FALSE\\\\\n",
       "\\end{tabular}\n",
       "\n",
       "\\item[\\$TotalCharges] A data.table: 5 × 12\n",
       "\\begin{tabular}{llllllllllll}\n",
       " variable & bin & count & count\\_distr & neg & pos & posprob & woe & bin\\_iv & total\\_iv & breaks & is\\_special\\_values\\\\\n",
       " <chr> & <chr> & <int> & <dbl> & <int> & <int> & <dbl> & <dbl> & <dbl> & <dbl> & <chr> & <lgl>\\\\\n",
       "\\hline\n",
       "\t TotalCharges & missing     &    3 & 0.0008351893 &    3 &   0 & 0.0000000 & -0.07827705 & 6.677062e-06 & 0.3054992 & missing &  TRUE\\\\\n",
       "\t TotalCharges & {[}-Inf,200)  &  591 & 0.1645322940 &  309 & 282 & 0.4771574 &  0.93895137 & 1.706300e-01 & 0.3054992 & 200     & FALSE\\\\\n",
       "\t TotalCharges & {[}200,400)   &  296 & 0.0824053452 &  193 & 103 & 0.3479730 &  0.40242437 & 1.453181e-02 & 0.3054992 & 400     & FALSE\\\\\n",
       "\t TotalCharges & {[}400,3200)  & 1636 & 0.4554565702 & 1240 & 396 & 0.2420538 & -0.11106688 & 5.467366e-03 & 0.3054992 & 3200    & FALSE\\\\\n",
       "\t TotalCharges & {[}3200, Inf) & 1066 & 0.2967706013 &  903 & 163 & 0.1529081 & -0.68158678 & 1.148634e-01 & 0.3054992 & Inf     & FALSE\\\\\n",
       "\\end{tabular}\n",
       "\n",
       "\\end{description}\n"
      ],
      "text/markdown": [
       "$gender\n",
       ":   \n",
       "A data.table: 2 × 12\n",
       "\n",
       "| variable &lt;chr&gt; | bin &lt;chr&gt; | count &lt;int&gt; | count_distr &lt;dbl&gt; | neg &lt;int&gt; | pos &lt;int&gt; | posprob &lt;dbl&gt; | woe &lt;dbl&gt; | bin_iv &lt;dbl&gt; | total_iv &lt;dbl&gt; | breaks &lt;chr&gt; | is_special_values &lt;lgl&gt; |\n",
       "|---|---|---|---|---|---|---|---|---|---|---|---|\n",
       "| gender | Male   | 1825 | 0.5080735 | 1352 | 473 | 0.2591781 | -0.01881112 | 0.0001789821 | 0.0003621777 | Male   | FALSE |\n",
       "| gender | Female | 1767 | 0.4919265 | 1296 | 471 | 0.2665535 |  0.01925397 | 0.0001831957 | 0.0003621777 | Female | FALSE |\n",
       "\n",
       "\n",
       "$PaymentMethod\n",
       ":   \n",
       "A data.table: 3 × 12\n",
       "\n",
       "| variable &lt;chr&gt; | bin &lt;chr&gt; | count &lt;int&gt; | count_distr &lt;dbl&gt; | neg &lt;int&gt; | pos &lt;int&gt; | posprob &lt;dbl&gt; | woe &lt;dbl&gt; | bin_iv &lt;dbl&gt; | total_iv &lt;dbl&gt; | breaks &lt;chr&gt; | is_special_values &lt;lgl&gt; |\n",
       "|---|---|---|---|---|---|---|---|---|---|---|---|\n",
       "| PaymentMethod | Credit card (automatic)                  |  776 | 0.2160356 |  664 | 112 | 0.1443299 | -0.7483495 | 0.09886537 | 0.4408417 | Credit card (automatic)                  | FALSE |\n",
       "| PaymentMethod | Bank transfer (automatic)%,%Mailed check | 1600 | 0.4454343 | 1308 | 292 | 0.1825000 | -0.4680670 | 0.08642186 | 0.4408417 | Bank transfer (automatic)%,%Mailed check | FALSE |\n",
       "| PaymentMethod | Electronic check                         | 1216 | 0.3385301 |  676 | 540 | 0.4440789 |  0.8068098 | 0.25555450 | 0.4408417 | Electronic check                         | FALSE |\n",
       "\n",
       "\n",
       "$TotalCharges\n",
       ":   \n",
       "A data.table: 5 × 12\n",
       "\n",
       "| variable &lt;chr&gt; | bin &lt;chr&gt; | count &lt;int&gt; | count_distr &lt;dbl&gt; | neg &lt;int&gt; | pos &lt;int&gt; | posprob &lt;dbl&gt; | woe &lt;dbl&gt; | bin_iv &lt;dbl&gt; | total_iv &lt;dbl&gt; | breaks &lt;chr&gt; | is_special_values &lt;lgl&gt; |\n",
       "|---|---|---|---|---|---|---|---|---|---|---|---|\n",
       "| TotalCharges | missing     |    3 | 0.0008351893 |    3 |   0 | 0.0000000 | -0.07827705 | 6.677062e-06 | 0.3054992 | missing |  TRUE |\n",
       "| TotalCharges | [-Inf,200)  |  591 | 0.1645322940 |  309 | 282 | 0.4771574 |  0.93895137 | 1.706300e-01 | 0.3054992 | 200     | FALSE |\n",
       "| TotalCharges | [200,400)   |  296 | 0.0824053452 |  193 | 103 | 0.3479730 |  0.40242437 | 1.453181e-02 | 0.3054992 | 400     | FALSE |\n",
       "| TotalCharges | [400,3200)  | 1636 | 0.4554565702 | 1240 | 396 | 0.2420538 | -0.11106688 | 5.467366e-03 | 0.3054992 | 3200    | FALSE |\n",
       "| TotalCharges | [3200, Inf) | 1066 | 0.2967706013 |  903 | 163 | 0.1529081 | -0.68158678 | 1.148634e-01 | 0.3054992 | Inf     | FALSE |\n",
       "\n",
       "\n",
       "\n",
       "\n"
      ],
      "text/plain": [
       "$gender\n",
       "   variable    bin count count_distr  neg pos   posprob         woe\n",
       "1:   gender   Male  1825   0.5080735 1352 473 0.2591781 -0.01881112\n",
       "2:   gender Female  1767   0.4919265 1296 471 0.2665535  0.01925397\n",
       "         bin_iv     total_iv breaks is_special_values\n",
       "1: 0.0001789821 0.0003621777   Male             FALSE\n",
       "2: 0.0001831957 0.0003621777 Female             FALSE\n",
       "\n",
       "$PaymentMethod\n",
       "        variable                                      bin count count_distr\n",
       "1: PaymentMethod                  Credit card (automatic)   776   0.2160356\n",
       "2: PaymentMethod Bank transfer (automatic)%,%Mailed check  1600   0.4454343\n",
       "3: PaymentMethod                         Electronic check  1216   0.3385301\n",
       "    neg pos   posprob        woe     bin_iv  total_iv\n",
       "1:  664 112 0.1443299 -0.7483495 0.09886537 0.4408417\n",
       "2: 1308 292 0.1825000 -0.4680670 0.08642186 0.4408417\n",
       "3:  676 540 0.4440789  0.8068098 0.25555450 0.4408417\n",
       "                                     breaks is_special_values\n",
       "1:                  Credit card (automatic)             FALSE\n",
       "2: Bank transfer (automatic)%,%Mailed check             FALSE\n",
       "3:                         Electronic check             FALSE\n",
       "\n",
       "$TotalCharges\n",
       "       variable         bin count  count_distr  neg pos   posprob         woe\n",
       "1: TotalCharges     missing     3 0.0008351893    3   0 0.0000000 -0.07827705\n",
       "2: TotalCharges  [-Inf,200)   591 0.1645322940  309 282 0.4771574  0.93895137\n",
       "3: TotalCharges   [200,400)   296 0.0824053452  193 103 0.3479730  0.40242437\n",
       "4: TotalCharges  [400,3200)  1636 0.4554565702 1240 396 0.2420538 -0.11106688\n",
       "5: TotalCharges [3200, Inf)  1066 0.2967706013  903 163 0.1529081 -0.68158678\n",
       "         bin_iv  total_iv  breaks is_special_values\n",
       "1: 6.677062e-06 0.3054992 missing              TRUE\n",
       "2: 1.706300e-01 0.3054992     200             FALSE\n",
       "3: 1.453181e-02 0.3054992     400             FALSE\n",
       "4: 5.467366e-03 0.3054992    3200             FALSE\n",
       "5: 1.148634e-01 0.3054992     Inf             FALSE\n"
      ]
     },
     "metadata": {},
     "output_type": "display_data"
    }
   ],
   "source": [
    "data_bins"
   ]
  },
  {
   "cell_type": "code",
   "execution_count": 94,
   "metadata": {},
   "outputs": [
    {
     "name": "stdout",
     "output_type": "stream",
     "text": [
      "[INFO] converting into woe values ... \n"
     ]
    },
    {
     "data": {
      "text/html": [
       "<table class=\"dataframe\">\n",
       "<caption>A data.table: 6 × 5</caption>\n",
       "<thead>\n",
       "\t<tr><th scope=col>customerID</th><th scope=col>Churn</th><th scope=col>gender_woe</th><th scope=col>PaymentMethod_woe</th><th scope=col>TotalCharges_woe</th></tr>\n",
       "\t<tr><th scope=col>&lt;chr&gt;</th><th scope=col>&lt;dbl&gt;</th><th scope=col>&lt;dbl&gt;</th><th scope=col>&lt;dbl&gt;</th><th scope=col>&lt;dbl&gt;</th></tr>\n",
       "</thead>\n",
       "<tbody>\n",
       "\t<tr><td>7010-BRBUU</td><td>0</td><td>-0.01881112</td><td>-0.7483495</td><td>-0.1110669</td></tr>\n",
       "\t<tr><td>9688-YGXVR</td><td>0</td><td> 0.01925397</td><td>-0.7483495</td><td>-0.6815868</td></tr>\n",
       "\t<tr><td>9286-DOJGF</td><td>1</td><td> 0.01925397</td><td>-0.4680670</td><td>-0.1110669</td></tr>\n",
       "\t<tr><td>6994-KERXL</td><td>0</td><td>-0.01881112</td><td> 0.8068098</td><td> 0.4024244</td></tr>\n",
       "\t<tr><td>2181-UAESM</td><td>0</td><td>-0.01881112</td><td> 0.8068098</td><td> 0.9389514</td></tr>\n",
       "\t<tr><td>2495-KZNFB</td><td>0</td><td> 0.01925397</td><td> 0.8068098</td><td>-0.1110669</td></tr>\n",
       "</tbody>\n",
       "</table>\n"
      ],
      "text/latex": [
       "A data.table: 6 × 5\n",
       "\\begin{tabular}{lllll}\n",
       " customerID & Churn & gender\\_woe & PaymentMethod\\_woe & TotalCharges\\_woe\\\\\n",
       " <chr> & <dbl> & <dbl> & <dbl> & <dbl>\\\\\n",
       "\\hline\n",
       "\t 7010-BRBUU & 0 & -0.01881112 & -0.7483495 & -0.1110669\\\\\n",
       "\t 9688-YGXVR & 0 &  0.01925397 & -0.7483495 & -0.6815868\\\\\n",
       "\t 9286-DOJGF & 1 &  0.01925397 & -0.4680670 & -0.1110669\\\\\n",
       "\t 6994-KERXL & 0 & -0.01881112 &  0.8068098 &  0.4024244\\\\\n",
       "\t 2181-UAESM & 0 & -0.01881112 &  0.8068098 &  0.9389514\\\\\n",
       "\t 2495-KZNFB & 0 &  0.01925397 &  0.8068098 & -0.1110669\\\\\n",
       "\\end{tabular}\n"
      ],
      "text/markdown": [
       "\n",
       "A data.table: 6 × 5\n",
       "\n",
       "| customerID &lt;chr&gt; | Churn &lt;dbl&gt; | gender_woe &lt;dbl&gt; | PaymentMethod_woe &lt;dbl&gt; | TotalCharges_woe &lt;dbl&gt; |\n",
       "|---|---|---|---|---|\n",
       "| 7010-BRBUU | 0 | -0.01881112 | -0.7483495 | -0.1110669 |\n",
       "| 9688-YGXVR | 0 |  0.01925397 | -0.7483495 | -0.6815868 |\n",
       "| 9286-DOJGF | 1 |  0.01925397 | -0.4680670 | -0.1110669 |\n",
       "| 6994-KERXL | 0 | -0.01881112 |  0.8068098 |  0.4024244 |\n",
       "| 2181-UAESM | 0 | -0.01881112 |  0.8068098 |  0.9389514 |\n",
       "| 2495-KZNFB | 0 |  0.01925397 |  0.8068098 | -0.1110669 |\n",
       "\n"
      ],
      "text/plain": [
       "  customerID Churn gender_woe  PaymentMethod_woe TotalCharges_woe\n",
       "1 7010-BRBUU 0     -0.01881112 -0.7483495        -0.1110669      \n",
       "2 9688-YGXVR 0      0.01925397 -0.7483495        -0.6815868      \n",
       "3 9286-DOJGF 1      0.01925397 -0.4680670        -0.1110669      \n",
       "4 6994-KERXL 0     -0.01881112  0.8068098         0.4024244      \n",
       "5 2181-UAESM 0     -0.01881112  0.8068098         0.9389514      \n",
       "6 2495-KZNFB 0      0.01925397  0.8068098        -0.1110669      "
      ]
     },
     "metadata": {},
     "output_type": "display_data"
    },
    {
     "name": "stdout",
     "output_type": "stream",
     "text": [
      "[INFO] converting into woe values ... \n"
     ]
    },
    {
     "data": {
      "text/html": [
       "<table class=\"dataframe\">\n",
       "<caption>A data.table: 6 × 5</caption>\n",
       "<thead>\n",
       "\t<tr><th scope=col>customerID</th><th scope=col>Churn</th><th scope=col>gender_woe</th><th scope=col>PaymentMethod_woe</th><th scope=col>TotalCharges_woe</th></tr>\n",
       "\t<tr><th scope=col>&lt;chr&gt;</th><th scope=col>&lt;dbl&gt;</th><th scope=col>&lt;dbl&gt;</th><th scope=col>&lt;dbl&gt;</th><th scope=col>&lt;dbl&gt;</th></tr>\n",
       "</thead>\n",
       "<tbody>\n",
       "\t<tr><td>4312-GVYNH</td><td>0</td><td> 0.01925397</td><td>-0.4680670</td><td>-0.6815868</td></tr>\n",
       "\t<tr><td>4578-PHJYZ</td><td>0</td><td>-0.01881112</td><td> 0.8068098</td><td>-0.6815868</td></tr>\n",
       "\t<tr><td>2091-MJTFX</td><td>1</td><td> 0.01925397</td><td>-0.7483495</td><td>-0.1110669</td></tr>\n",
       "\t<tr><td>2277-DJJDL</td><td>0</td><td>-0.01881112</td><td> 0.8068098</td><td>-0.6815868</td></tr>\n",
       "\t<tr><td>0601-WZHJF</td><td>1</td><td>-0.01881112</td><td> 0.8068098</td><td>-0.1110669</td></tr>\n",
       "\t<tr><td>4871-JTKJF</td><td>1</td><td> 0.01925397</td><td> 0.8068098</td><td> 0.9389514</td></tr>\n",
       "</tbody>\n",
       "</table>\n"
      ],
      "text/latex": [
       "A data.table: 6 × 5\n",
       "\\begin{tabular}{lllll}\n",
       " customerID & Churn & gender\\_woe & PaymentMethod\\_woe & TotalCharges\\_woe\\\\\n",
       " <chr> & <dbl> & <dbl> & <dbl> & <dbl>\\\\\n",
       "\\hline\n",
       "\t 4312-GVYNH & 0 &  0.01925397 & -0.4680670 & -0.6815868\\\\\n",
       "\t 4578-PHJYZ & 0 & -0.01881112 &  0.8068098 & -0.6815868\\\\\n",
       "\t 2091-MJTFX & 1 &  0.01925397 & -0.7483495 & -0.1110669\\\\\n",
       "\t 2277-DJJDL & 0 & -0.01881112 &  0.8068098 & -0.6815868\\\\\n",
       "\t 0601-WZHJF & 1 & -0.01881112 &  0.8068098 & -0.1110669\\\\\n",
       "\t 4871-JTKJF & 1 &  0.01925397 &  0.8068098 &  0.9389514\\\\\n",
       "\\end{tabular}\n"
      ],
      "text/markdown": [
       "\n",
       "A data.table: 6 × 5\n",
       "\n",
       "| customerID &lt;chr&gt; | Churn &lt;dbl&gt; | gender_woe &lt;dbl&gt; | PaymentMethod_woe &lt;dbl&gt; | TotalCharges_woe &lt;dbl&gt; |\n",
       "|---|---|---|---|---|\n",
       "| 4312-GVYNH | 0 |  0.01925397 | -0.4680670 | -0.6815868 |\n",
       "| 4578-PHJYZ | 0 | -0.01881112 |  0.8068098 | -0.6815868 |\n",
       "| 2091-MJTFX | 1 |  0.01925397 | -0.7483495 | -0.1110669 |\n",
       "| 2277-DJJDL | 0 | -0.01881112 |  0.8068098 | -0.6815868 |\n",
       "| 0601-WZHJF | 1 | -0.01881112 |  0.8068098 | -0.1110669 |\n",
       "| 4871-JTKJF | 1 |  0.01925397 |  0.8068098 |  0.9389514 |\n",
       "\n"
      ],
      "text/plain": [
       "  customerID Churn gender_woe  PaymentMethod_woe TotalCharges_woe\n",
       "1 4312-GVYNH 0      0.01925397 -0.4680670        -0.6815868      \n",
       "2 4578-PHJYZ 0     -0.01881112  0.8068098        -0.6815868      \n",
       "3 2091-MJTFX 1      0.01925397 -0.7483495        -0.1110669      \n",
       "4 2277-DJJDL 0     -0.01881112  0.8068098        -0.6815868      \n",
       "5 0601-WZHJF 1     -0.01881112  0.8068098        -0.1110669      \n",
       "6 4871-JTKJF 1      0.01925397  0.8068098         0.9389514      "
      ]
     },
     "metadata": {},
     "output_type": "display_data"
    }
   ],
   "source": [
    "train_woe = woebin_ply(train, data_bins) \n",
    "head(train_woe)\n",
    "test_woe = woebin_ply(test, data_bins) \n",
    "head(test_woe)"
   ]
  },
  {
   "cell_type": "markdown",
   "metadata": {},
   "source": [
    "For now our data is ready for modeling."
   ]
  },
  {
   "cell_type": "markdown",
   "metadata": {},
   "source": [
    "---"
   ]
  },
  {
   "cell_type": "markdown",
   "metadata": {},
   "source": [
    "### 3.2. Encoding\n",
    "\n",
    "`Encoding` is the process in which numerical variables or features are created from `categorical` variables. It is a widely used method in the industry and in every model building process. It is of two types: `Label Encoding` and `One-hot Encoding`.\n",
    "\n",
    "`Label Encoding` involves assigning each label a unique integer or value based on alphabetical ordering. It is the most popular and widely used encoding.\n",
    "\n",
    "`One-hot Encoding` involves creating additional features or variables on the basis of unique values in categorical variables i.e. every unique value in the category will be added as a new feature."
   ]
  },
  {
   "cell_type": "markdown",
   "metadata": {},
   "source": [
    "### 3.2.1. Label encoding"
   ]
  },
  {
   "cell_type": "code",
   "execution_count": 105,
   "metadata": {},
   "outputs": [
    {
     "data": {
      "text/html": [
       "<table class=\"dataframe\">\n",
       "<caption>A data.frame: 6 × 22</caption>\n",
       "<thead>\n",
       "\t<tr><th></th><th scope=col>X</th><th scope=col>customerID</th><th scope=col>gender</th><th scope=col>SeniorCitizen</th><th scope=col>Partner</th><th scope=col>Dependents</th><th scope=col>tenure</th><th scope=col>PhoneService</th><th scope=col>MultipleLines</th><th scope=col>InternetService</th><th scope=col>⋯</th><th scope=col>DeviceProtection</th><th scope=col>TechSupport</th><th scope=col>StreamingTV</th><th scope=col>StreamingMovies</th><th scope=col>Contract</th><th scope=col>PaperlessBilling</th><th scope=col>PaymentMethod</th><th scope=col>MonthlyCharges</th><th scope=col>TotalCharges</th><th scope=col>Churn</th></tr>\n",
       "\t<tr><th></th><th scope=col>&lt;int&gt;</th><th scope=col>&lt;chr&gt;</th><th scope=col>&lt;chr&gt;</th><th scope=col>&lt;int&gt;</th><th scope=col>&lt;chr&gt;</th><th scope=col>&lt;chr&gt;</th><th scope=col>&lt;int&gt;</th><th scope=col>&lt;chr&gt;</th><th scope=col>&lt;chr&gt;</th><th scope=col>&lt;chr&gt;</th><th scope=col>⋯</th><th scope=col>&lt;chr&gt;</th><th scope=col>&lt;chr&gt;</th><th scope=col>&lt;chr&gt;</th><th scope=col>&lt;chr&gt;</th><th scope=col>&lt;chr&gt;</th><th scope=col>&lt;chr&gt;</th><th scope=col>&lt;chr&gt;</th><th scope=col>&lt;chr&gt;</th><th scope=col>&lt;dbl&gt;</th><th scope=col>&lt;chr&gt;</th></tr>\n",
       "</thead>\n",
       "<tbody>\n",
       "\t<tr><th scope=row>1</th><td>1869</td><td>7010-BRBUU</td><td>Male  </td><td>0</td><td>Yes</td><td>Yes</td><td>72</td><td>Yes</td><td>Yes             </td><td>No         </td><td>⋯</td><td>No internet service</td><td>No internet service</td><td>No internet service</td><td>No internet service</td><td>Two year      </td><td>No </td><td>Credit card (automatic)  </td><td>24.1 </td><td>1734.65</td><td>No </td></tr>\n",
       "\t<tr><th scope=row>2</th><td>4528</td><td>9688-YGXVR</td><td>Female</td><td>0</td><td>No </td><td>No </td><td>44</td><td>Yes</td><td>No              </td><td>Fiber optic</td><td>⋯</td><td>Yes                </td><td>No                 </td><td>Yes                </td><td>No                 </td><td>Month-to-month</td><td>Yes</td><td>Credit card (automatic)  </td><td>88.15</td><td>3973.20</td><td>No </td></tr>\n",
       "\t<tr><th scope=row>3</th><td>6344</td><td>9286-DOJGF</td><td>Female</td><td>1</td><td>Yes</td><td>No </td><td>38</td><td>Yes</td><td>Yes             </td><td>Fiber optic</td><td>⋯</td><td>No                 </td><td>No                 </td><td>No                 </td><td>No                 </td><td>Month-to-month</td><td>Yes</td><td>Bank transfer (automatic)</td><td>74.95</td><td>2869.85</td><td>Yes</td></tr>\n",
       "\t<tr><th scope=row>4</th><td>6739</td><td>6994-KERXL</td><td>Male  </td><td>0</td><td>No </td><td>No </td><td> 4</td><td>Yes</td><td>No              </td><td>DSL        </td><td>⋯</td><td>No                 </td><td>No                 </td><td>No                 </td><td>Yes                </td><td>Month-to-month</td><td>Yes</td><td>Electronic check         </td><td>55.9 </td><td> 238.50</td><td>No </td></tr>\n",
       "\t<tr><th scope=row>5</th><td> 432</td><td>2181-UAESM</td><td>Male  </td><td>0</td><td>No </td><td>No </td><td> 2</td><td>Yes</td><td>No              </td><td>DSL        </td><td>⋯</td><td>Yes                </td><td>No                 </td><td>No                 </td><td>No                 </td><td>Month-to-month</td><td>No </td><td>Electronic check         </td><td>53.45</td><td> 119.50</td><td>No </td></tr>\n",
       "\t<tr><th scope=row>6</th><td>2215</td><td>4312-GVYNH</td><td>Female</td><td>0</td><td>Yes</td><td>No </td><td>70</td><td>No </td><td>No phone service</td><td>DSL        </td><td>⋯</td><td>Yes                </td><td>Yes                </td><td>No                 </td><td>Yes                </td><td>Two year      </td><td>Yes</td><td>Bank transfer (automatic)</td><td>49.85</td><td>3370.20</td><td>No </td></tr>\n",
       "</tbody>\n",
       "</table>\n"
      ],
      "text/latex": [
       "A data.frame: 6 × 22\n",
       "\\begin{tabular}{r|lllllllllllllllllllll}\n",
       "  & X & customerID & gender & SeniorCitizen & Partner & Dependents & tenure & PhoneService & MultipleLines & InternetService & ⋯ & DeviceProtection & TechSupport & StreamingTV & StreamingMovies & Contract & PaperlessBilling & PaymentMethod & MonthlyCharges & TotalCharges & Churn\\\\\n",
       "  & <int> & <chr> & <chr> & <int> & <chr> & <chr> & <int> & <chr> & <chr> & <chr> & ⋯ & <chr> & <chr> & <chr> & <chr> & <chr> & <chr> & <chr> & <chr> & <dbl> & <chr>\\\\\n",
       "\\hline\n",
       "\t1 & 1869 & 7010-BRBUU & Male   & 0 & Yes & Yes & 72 & Yes & Yes              & No          & ⋯ & No internet service & No internet service & No internet service & No internet service & Two year       & No  & Credit card (automatic)   & 24.1  & 1734.65 & No \\\\\n",
       "\t2 & 4528 & 9688-YGXVR & Female & 0 & No  & No  & 44 & Yes & No               & Fiber optic & ⋯ & Yes                 & No                  & Yes                 & No                  & Month-to-month & Yes & Credit card (automatic)   & 88.15 & 3973.20 & No \\\\\n",
       "\t3 & 6344 & 9286-DOJGF & Female & 1 & Yes & No  & 38 & Yes & Yes              & Fiber optic & ⋯ & No                  & No                  & No                  & No                  & Month-to-month & Yes & Bank transfer (automatic) & 74.95 & 2869.85 & Yes\\\\\n",
       "\t4 & 6739 & 6994-KERXL & Male   & 0 & No  & No  &  4 & Yes & No               & DSL         & ⋯ & No                  & No                  & No                  & Yes                 & Month-to-month & Yes & Electronic check          & 55.9  &  238.50 & No \\\\\n",
       "\t5 &  432 & 2181-UAESM & Male   & 0 & No  & No  &  2 & Yes & No               & DSL         & ⋯ & Yes                 & No                  & No                  & No                  & Month-to-month & No  & Electronic check          & 53.45 &  119.50 & No \\\\\n",
       "\t6 & 2215 & 4312-GVYNH & Female & 0 & Yes & No  & 70 & No  & No phone service & DSL         & ⋯ & Yes                 & Yes                 & No                  & Yes                 & Two year       & Yes & Bank transfer (automatic) & 49.85 & 3370.20 & No \\\\\n",
       "\\end{tabular}\n"
      ],
      "text/markdown": [
       "\n",
       "A data.frame: 6 × 22\n",
       "\n",
       "| <!--/--> | X &lt;int&gt; | customerID &lt;chr&gt; | gender &lt;chr&gt; | SeniorCitizen &lt;int&gt; | Partner &lt;chr&gt; | Dependents &lt;chr&gt; | tenure &lt;int&gt; | PhoneService &lt;chr&gt; | MultipleLines &lt;chr&gt; | InternetService &lt;chr&gt; | ⋯ ⋯ | DeviceProtection &lt;chr&gt; | TechSupport &lt;chr&gt; | StreamingTV &lt;chr&gt; | StreamingMovies &lt;chr&gt; | Contract &lt;chr&gt; | PaperlessBilling &lt;chr&gt; | PaymentMethod &lt;chr&gt; | MonthlyCharges &lt;chr&gt; | TotalCharges &lt;dbl&gt; | Churn &lt;chr&gt; |\n",
       "|---|---|---|---|---|---|---|---|---|---|---|---|---|---|---|---|---|---|---|---|---|---|\n",
       "| 1 | 1869 | 7010-BRBUU | Male   | 0 | Yes | Yes | 72 | Yes | Yes              | No          | ⋯ | No internet service | No internet service | No internet service | No internet service | Two year       | No  | Credit card (automatic)   | 24.1  | 1734.65 | No  |\n",
       "| 2 | 4528 | 9688-YGXVR | Female | 0 | No  | No  | 44 | Yes | No               | Fiber optic | ⋯ | Yes                 | No                  | Yes                 | No                  | Month-to-month | Yes | Credit card (automatic)   | 88.15 | 3973.20 | No  |\n",
       "| 3 | 6344 | 9286-DOJGF | Female | 1 | Yes | No  | 38 | Yes | Yes              | Fiber optic | ⋯ | No                  | No                  | No                  | No                  | Month-to-month | Yes | Bank transfer (automatic) | 74.95 | 2869.85 | Yes |\n",
       "| 4 | 6739 | 6994-KERXL | Male   | 0 | No  | No  |  4 | Yes | No               | DSL         | ⋯ | No                  | No                  | No                  | Yes                 | Month-to-month | Yes | Electronic check          | 55.9  |  238.50 | No  |\n",
       "| 5 |  432 | 2181-UAESM | Male   | 0 | No  | No  |  2 | Yes | No               | DSL         | ⋯ | Yes                 | No                  | No                  | No                  | Month-to-month | No  | Electronic check          | 53.45 |  119.50 | No  |\n",
       "| 6 | 2215 | 4312-GVYNH | Female | 0 | Yes | No  | 70 | No  | No phone service | DSL         | ⋯ | Yes                 | Yes                 | No                  | Yes                 | Two year       | Yes | Bank transfer (automatic) | 49.85 | 3370.20 | No  |\n",
       "\n"
      ],
      "text/plain": [
       "  X    customerID gender SeniorCitizen Partner Dependents tenure PhoneService\n",
       "1 1869 7010-BRBUU Male   0             Yes     Yes        72     Yes         \n",
       "2 4528 9688-YGXVR Female 0             No      No         44     Yes         \n",
       "3 6344 9286-DOJGF Female 1             Yes     No         38     Yes         \n",
       "4 6739 6994-KERXL Male   0             No      No          4     Yes         \n",
       "5  432 2181-UAESM Male   0             No      No          2     Yes         \n",
       "6 2215 4312-GVYNH Female 0             Yes     No         70     No          \n",
       "  MultipleLines    InternetService ⋯ DeviceProtection    TechSupport        \n",
       "1 Yes              No              ⋯ No internet service No internet service\n",
       "2 No               Fiber optic     ⋯ Yes                 No                 \n",
       "3 Yes              Fiber optic     ⋯ No                  No                 \n",
       "4 No               DSL             ⋯ No                  No                 \n",
       "5 No               DSL             ⋯ Yes                 No                 \n",
       "6 No phone service DSL             ⋯ Yes                 Yes                \n",
       "  StreamingTV         StreamingMovies     Contract       PaperlessBilling\n",
       "1 No internet service No internet service Two year       No              \n",
       "2 Yes                 No                  Month-to-month Yes             \n",
       "3 No                  No                  Month-to-month Yes             \n",
       "4 No                  Yes                 Month-to-month Yes             \n",
       "5 No                  No                  Month-to-month No              \n",
       "6 No                  Yes                 Two year       Yes             \n",
       "  PaymentMethod             MonthlyCharges TotalCharges Churn\n",
       "1 Credit card (automatic)   24.1           1734.65      No   \n",
       "2 Credit card (automatic)   88.15          3973.20      No   \n",
       "3 Bank transfer (automatic) 74.95          2869.85      Yes  \n",
       "4 Electronic check          55.9            238.50      No   \n",
       "5 Electronic check          53.45           119.50      No   \n",
       "6 Bank transfer (automatic) 49.85          3370.20      No   "
      ]
     },
     "metadata": {},
     "output_type": "display_data"
    }
   ],
   "source": [
    "# Lets use client churn dataset from telco: https://www.kaggle.com/blastchar/telco-customer-churn\n",
    "churn_data <- read.csv(\"data/telecom_users.csv\")\n",
    "head(churn_data)"
   ]
  },
  {
   "cell_type": "markdown",
   "metadata": {},
   "source": [
    "#### Encoding with factors"
   ]
  },
  {
   "cell_type": "markdown",
   "metadata": {},
   "source": [
    "Its good way to encode labels as factors in R. This approach used for categorical data encoding.\n",
    "Easiest way is convert character values to factor and later convert factor to numeric:"
   ]
  },
  {
   "cell_type": "code",
   "execution_count": 106,
   "metadata": {},
   "outputs": [
    {
     "data": {
      "text/html": [
       "<table class=\"dataframe\">\n",
       "<caption>A data.frame: 6 × 22</caption>\n",
       "<thead>\n",
       "\t<tr><th></th><th scope=col>X</th><th scope=col>customerID</th><th scope=col>gender</th><th scope=col>SeniorCitizen</th><th scope=col>Partner</th><th scope=col>Dependents</th><th scope=col>tenure</th><th scope=col>PhoneService</th><th scope=col>MultipleLines</th><th scope=col>InternetService</th><th scope=col>⋯</th><th scope=col>DeviceProtection</th><th scope=col>TechSupport</th><th scope=col>StreamingTV</th><th scope=col>StreamingMovies</th><th scope=col>Contract</th><th scope=col>PaperlessBilling</th><th scope=col>PaymentMethod</th><th scope=col>MonthlyCharges</th><th scope=col>TotalCharges</th><th scope=col>Churn</th></tr>\n",
       "\t<tr><th></th><th scope=col>&lt;int&gt;</th><th scope=col>&lt;chr&gt;</th><th scope=col>&lt;chr&gt;</th><th scope=col>&lt;int&gt;</th><th scope=col>&lt;fct&gt;</th><th scope=col>&lt;fct&gt;</th><th scope=col>&lt;int&gt;</th><th scope=col>&lt;chr&gt;</th><th scope=col>&lt;chr&gt;</th><th scope=col>&lt;chr&gt;</th><th scope=col>⋯</th><th scope=col>&lt;chr&gt;</th><th scope=col>&lt;chr&gt;</th><th scope=col>&lt;chr&gt;</th><th scope=col>&lt;chr&gt;</th><th scope=col>&lt;chr&gt;</th><th scope=col>&lt;chr&gt;</th><th scope=col>&lt;chr&gt;</th><th scope=col>&lt;chr&gt;</th><th scope=col>&lt;dbl&gt;</th><th scope=col>&lt;chr&gt;</th></tr>\n",
       "</thead>\n",
       "<tbody>\n",
       "\t<tr><th scope=row>1</th><td>1869</td><td>7010-BRBUU</td><td>Male  </td><td>0</td><td>Yes</td><td>Yes</td><td>72</td><td>Yes</td><td>Yes             </td><td>No         </td><td>⋯</td><td>No internet service</td><td>No internet service</td><td>No internet service</td><td>No internet service</td><td>Two year      </td><td>No </td><td>Credit card (automatic)  </td><td>24.1 </td><td>1734.65</td><td>No </td></tr>\n",
       "\t<tr><th scope=row>2</th><td>4528</td><td>9688-YGXVR</td><td>Female</td><td>0</td><td>No </td><td>No </td><td>44</td><td>Yes</td><td>No              </td><td>Fiber optic</td><td>⋯</td><td>Yes                </td><td>No                 </td><td>Yes                </td><td>No                 </td><td>Month-to-month</td><td>Yes</td><td>Credit card (automatic)  </td><td>88.15</td><td>3973.20</td><td>No </td></tr>\n",
       "\t<tr><th scope=row>3</th><td>6344</td><td>9286-DOJGF</td><td>Female</td><td>1</td><td>Yes</td><td>No </td><td>38</td><td>Yes</td><td>Yes             </td><td>Fiber optic</td><td>⋯</td><td>No                 </td><td>No                 </td><td>No                 </td><td>No                 </td><td>Month-to-month</td><td>Yes</td><td>Bank transfer (automatic)</td><td>74.95</td><td>2869.85</td><td>Yes</td></tr>\n",
       "\t<tr><th scope=row>4</th><td>6739</td><td>6994-KERXL</td><td>Male  </td><td>0</td><td>No </td><td>No </td><td> 4</td><td>Yes</td><td>No              </td><td>DSL        </td><td>⋯</td><td>No                 </td><td>No                 </td><td>No                 </td><td>Yes                </td><td>Month-to-month</td><td>Yes</td><td>Electronic check         </td><td>55.9 </td><td> 238.50</td><td>No </td></tr>\n",
       "\t<tr><th scope=row>5</th><td> 432</td><td>2181-UAESM</td><td>Male  </td><td>0</td><td>No </td><td>No </td><td> 2</td><td>Yes</td><td>No              </td><td>DSL        </td><td>⋯</td><td>Yes                </td><td>No                 </td><td>No                 </td><td>No                 </td><td>Month-to-month</td><td>No </td><td>Electronic check         </td><td>53.45</td><td> 119.50</td><td>No </td></tr>\n",
       "\t<tr><th scope=row>6</th><td>2215</td><td>4312-GVYNH</td><td>Female</td><td>0</td><td>Yes</td><td>No </td><td>70</td><td>No </td><td>No phone service</td><td>DSL        </td><td>⋯</td><td>Yes                </td><td>Yes                </td><td>No                 </td><td>Yes                </td><td>Two year      </td><td>Yes</td><td>Bank transfer (automatic)</td><td>49.85</td><td>3370.20</td><td>No </td></tr>\n",
       "</tbody>\n",
       "</table>\n"
      ],
      "text/latex": [
       "A data.frame: 6 × 22\n",
       "\\begin{tabular}{r|lllllllllllllllllllll}\n",
       "  & X & customerID & gender & SeniorCitizen & Partner & Dependents & tenure & PhoneService & MultipleLines & InternetService & ⋯ & DeviceProtection & TechSupport & StreamingTV & StreamingMovies & Contract & PaperlessBilling & PaymentMethod & MonthlyCharges & TotalCharges & Churn\\\\\n",
       "  & <int> & <chr> & <chr> & <int> & <fct> & <fct> & <int> & <chr> & <chr> & <chr> & ⋯ & <chr> & <chr> & <chr> & <chr> & <chr> & <chr> & <chr> & <chr> & <dbl> & <chr>\\\\\n",
       "\\hline\n",
       "\t1 & 1869 & 7010-BRBUU & Male   & 0 & Yes & Yes & 72 & Yes & Yes              & No          & ⋯ & No internet service & No internet service & No internet service & No internet service & Two year       & No  & Credit card (automatic)   & 24.1  & 1734.65 & No \\\\\n",
       "\t2 & 4528 & 9688-YGXVR & Female & 0 & No  & No  & 44 & Yes & No               & Fiber optic & ⋯ & Yes                 & No                  & Yes                 & No                  & Month-to-month & Yes & Credit card (automatic)   & 88.15 & 3973.20 & No \\\\\n",
       "\t3 & 6344 & 9286-DOJGF & Female & 1 & Yes & No  & 38 & Yes & Yes              & Fiber optic & ⋯ & No                  & No                  & No                  & No                  & Month-to-month & Yes & Bank transfer (automatic) & 74.95 & 2869.85 & Yes\\\\\n",
       "\t4 & 6739 & 6994-KERXL & Male   & 0 & No  & No  &  4 & Yes & No               & DSL         & ⋯ & No                  & No                  & No                  & Yes                 & Month-to-month & Yes & Electronic check          & 55.9  &  238.50 & No \\\\\n",
       "\t5 &  432 & 2181-UAESM & Male   & 0 & No  & No  &  2 & Yes & No               & DSL         & ⋯ & Yes                 & No                  & No                  & No                  & Month-to-month & No  & Electronic check          & 53.45 &  119.50 & No \\\\\n",
       "\t6 & 2215 & 4312-GVYNH & Female & 0 & Yes & No  & 70 & No  & No phone service & DSL         & ⋯ & Yes                 & Yes                 & No                  & Yes                 & Two year       & Yes & Bank transfer (automatic) & 49.85 & 3370.20 & No \\\\\n",
       "\\end{tabular}\n"
      ],
      "text/markdown": [
       "\n",
       "A data.frame: 6 × 22\n",
       "\n",
       "| <!--/--> | X &lt;int&gt; | customerID &lt;chr&gt; | gender &lt;chr&gt; | SeniorCitizen &lt;int&gt; | Partner &lt;fct&gt; | Dependents &lt;fct&gt; | tenure &lt;int&gt; | PhoneService &lt;chr&gt; | MultipleLines &lt;chr&gt; | InternetService &lt;chr&gt; | ⋯ ⋯ | DeviceProtection &lt;chr&gt; | TechSupport &lt;chr&gt; | StreamingTV &lt;chr&gt; | StreamingMovies &lt;chr&gt; | Contract &lt;chr&gt; | PaperlessBilling &lt;chr&gt; | PaymentMethod &lt;chr&gt; | MonthlyCharges &lt;chr&gt; | TotalCharges &lt;dbl&gt; | Churn &lt;chr&gt; |\n",
       "|---|---|---|---|---|---|---|---|---|---|---|---|---|---|---|---|---|---|---|---|---|---|\n",
       "| 1 | 1869 | 7010-BRBUU | Male   | 0 | Yes | Yes | 72 | Yes | Yes              | No          | ⋯ | No internet service | No internet service | No internet service | No internet service | Two year       | No  | Credit card (automatic)   | 24.1  | 1734.65 | No  |\n",
       "| 2 | 4528 | 9688-YGXVR | Female | 0 | No  | No  | 44 | Yes | No               | Fiber optic | ⋯ | Yes                 | No                  | Yes                 | No                  | Month-to-month | Yes | Credit card (automatic)   | 88.15 | 3973.20 | No  |\n",
       "| 3 | 6344 | 9286-DOJGF | Female | 1 | Yes | No  | 38 | Yes | Yes              | Fiber optic | ⋯ | No                  | No                  | No                  | No                  | Month-to-month | Yes | Bank transfer (automatic) | 74.95 | 2869.85 | Yes |\n",
       "| 4 | 6739 | 6994-KERXL | Male   | 0 | No  | No  |  4 | Yes | No               | DSL         | ⋯ | No                  | No                  | No                  | Yes                 | Month-to-month | Yes | Electronic check          | 55.9  |  238.50 | No  |\n",
       "| 5 |  432 | 2181-UAESM | Male   | 0 | No  | No  |  2 | Yes | No               | DSL         | ⋯ | Yes                 | No                  | No                  | No                  | Month-to-month | No  | Electronic check          | 53.45 |  119.50 | No  |\n",
       "| 6 | 2215 | 4312-GVYNH | Female | 0 | Yes | No  | 70 | No  | No phone service | DSL         | ⋯ | Yes                 | Yes                 | No                  | Yes                 | Two year       | Yes | Bank transfer (automatic) | 49.85 | 3370.20 | No  |\n",
       "\n"
      ],
      "text/plain": [
       "  X    customerID gender SeniorCitizen Partner Dependents tenure PhoneService\n",
       "1 1869 7010-BRBUU Male   0             Yes     Yes        72     Yes         \n",
       "2 4528 9688-YGXVR Female 0             No      No         44     Yes         \n",
       "3 6344 9286-DOJGF Female 1             Yes     No         38     Yes         \n",
       "4 6739 6994-KERXL Male   0             No      No          4     Yes         \n",
       "5  432 2181-UAESM Male   0             No      No          2     Yes         \n",
       "6 2215 4312-GVYNH Female 0             Yes     No         70     No          \n",
       "  MultipleLines    InternetService ⋯ DeviceProtection    TechSupport        \n",
       "1 Yes              No              ⋯ No internet service No internet service\n",
       "2 No               Fiber optic     ⋯ Yes                 No                 \n",
       "3 Yes              Fiber optic     ⋯ No                  No                 \n",
       "4 No               DSL             ⋯ No                  No                 \n",
       "5 No               DSL             ⋯ Yes                 No                 \n",
       "6 No phone service DSL             ⋯ Yes                 Yes                \n",
       "  StreamingTV         StreamingMovies     Contract       PaperlessBilling\n",
       "1 No internet service No internet service Two year       No              \n",
       "2 Yes                 No                  Month-to-month Yes             \n",
       "3 No                  No                  Month-to-month Yes             \n",
       "4 No                  Yes                 Month-to-month Yes             \n",
       "5 No                  No                  Month-to-month No              \n",
       "6 No                  Yes                 Two year       Yes             \n",
       "  PaymentMethod             MonthlyCharges TotalCharges Churn\n",
       "1 Credit card (automatic)   24.1           1734.65      No   \n",
       "2 Credit card (automatic)   88.15          3973.20      No   \n",
       "3 Bank transfer (automatic) 74.95          2869.85      Yes  \n",
       "4 Electronic check          55.9            238.50      No   \n",
       "5 Electronic check          53.45           119.50      No   \n",
       "6 Bank transfer (automatic) 49.85          3370.20      No   "
      ]
     },
     "metadata": {},
     "output_type": "display_data"
    }
   ],
   "source": [
    "churn_data <- churn_data %>% mutate(Partner = as.factor(Partner),\n",
    "                                   Dependents = as.factor(Dependents))\n",
    "head(churn_data) # data types changed for selected fields"
   ]
  },
  {
   "cell_type": "code",
   "execution_count": 99,
   "metadata": {},
   "outputs": [
    {
     "name": "stdout",
     "output_type": "stream",
     "text": [
      " Factor w/ 2 levels \"No\",\"Yes\": 2 1 2 1 1 2 1 1 1 1 ...\n"
     ]
    }
   ],
   "source": [
    "str(churn_data$Partner) # check levels"
   ]
  },
  {
   "cell_type": "code",
   "execution_count": 102,
   "metadata": {},
   "outputs": [
    {
     "data": {
      "text/html": [
       "<table class=\"dataframe\">\n",
       "<caption>A data.frame: 6 × 22</caption>\n",
       "<thead>\n",
       "\t<tr><th></th><th scope=col>X</th><th scope=col>customerID</th><th scope=col>gender</th><th scope=col>SeniorCitizen</th><th scope=col>Partner</th><th scope=col>Dependents</th><th scope=col>tenure</th><th scope=col>PhoneService</th><th scope=col>MultipleLines</th><th scope=col>InternetService</th><th scope=col>...</th><th scope=col>DeviceProtection</th><th scope=col>TechSupport</th><th scope=col>StreamingTV</th><th scope=col>StreamingMovies</th><th scope=col>Contract</th><th scope=col>PaperlessBilling</th><th scope=col>PaymentMethod</th><th scope=col>MonthlyCharges</th><th scope=col>TotalCharges</th><th scope=col>Churn</th></tr>\n",
       "\t<tr><th></th><th scope=col>&lt;int&gt;</th><th scope=col>&lt;chr&gt;</th><th scope=col>&lt;chr&gt;</th><th scope=col>&lt;int&gt;</th><th scope=col>&lt;int&gt;</th><th scope=col>&lt;int&gt;</th><th scope=col>&lt;int&gt;</th><th scope=col>&lt;chr&gt;</th><th scope=col>&lt;chr&gt;</th><th scope=col>&lt;chr&gt;</th><th scope=col>...</th><th scope=col>&lt;chr&gt;</th><th scope=col>&lt;chr&gt;</th><th scope=col>&lt;chr&gt;</th><th scope=col>&lt;chr&gt;</th><th scope=col>&lt;chr&gt;</th><th scope=col>&lt;chr&gt;</th><th scope=col>&lt;chr&gt;</th><th scope=col>&lt;chr&gt;</th><th scope=col>&lt;dbl&gt;</th><th scope=col>&lt;chr&gt;</th></tr>\n",
       "</thead>\n",
       "<tbody>\n",
       "\t<tr><th scope=row>1</th><td>1869</td><td>7010-BRBUU</td><td>Male  </td><td>0</td><td>2</td><td>2</td><td>72</td><td>Yes</td><td>Yes             </td><td>No         </td><td>...</td><td>No internet service</td><td>No internet service</td><td>No internet service</td><td>No internet service</td><td>Two year      </td><td>No </td><td>Credit card (automatic)  </td><td>24.1 </td><td>1734.65</td><td>No </td></tr>\n",
       "\t<tr><th scope=row>2</th><td>4528</td><td>9688-YGXVR</td><td>Female</td><td>0</td><td>1</td><td>1</td><td>44</td><td>Yes</td><td>No              </td><td>Fiber optic</td><td>...</td><td>Yes                </td><td>No                 </td><td>Yes                </td><td>No                 </td><td>Month-to-month</td><td>Yes</td><td>Credit card (automatic)  </td><td>88.15</td><td>3973.20</td><td>No </td></tr>\n",
       "\t<tr><th scope=row>3</th><td>6344</td><td>9286-DOJGF</td><td>Female</td><td>1</td><td>2</td><td>1</td><td>38</td><td>Yes</td><td>Yes             </td><td>Fiber optic</td><td>...</td><td>No                 </td><td>No                 </td><td>No                 </td><td>No                 </td><td>Month-to-month</td><td>Yes</td><td>Bank transfer (automatic)</td><td>74.95</td><td>2869.85</td><td>Yes</td></tr>\n",
       "\t<tr><th scope=row>4</th><td>6739</td><td>6994-KERXL</td><td>Male  </td><td>0</td><td>1</td><td>1</td><td> 4</td><td>Yes</td><td>No              </td><td>DSL        </td><td>...</td><td>No                 </td><td>No                 </td><td>No                 </td><td>Yes                </td><td>Month-to-month</td><td>Yes</td><td>Electronic check         </td><td>55.9 </td><td> 238.50</td><td>No </td></tr>\n",
       "\t<tr><th scope=row>5</th><td> 432</td><td>2181-UAESM</td><td>Male  </td><td>0</td><td>1</td><td>1</td><td> 2</td><td>Yes</td><td>No              </td><td>DSL        </td><td>...</td><td>Yes                </td><td>No                 </td><td>No                 </td><td>No                 </td><td>Month-to-month</td><td>No </td><td>Electronic check         </td><td>53.45</td><td> 119.50</td><td>No </td></tr>\n",
       "\t<tr><th scope=row>6</th><td>2215</td><td>4312-GVYNH</td><td>Female</td><td>0</td><td>2</td><td>1</td><td>70</td><td>No </td><td>No phone service</td><td>DSL        </td><td>...</td><td>Yes                </td><td>Yes                </td><td>No                 </td><td>Yes                </td><td>Two year      </td><td>Yes</td><td>Bank transfer (automatic)</td><td>49.85</td><td>3370.20</td><td>No </td></tr>\n",
       "</tbody>\n",
       "</table>\n"
      ],
      "text/latex": [
       "A data.frame: 6 × 22\n",
       "\\begin{tabular}{r|lllllllllllllllllllll}\n",
       "  & X & customerID & gender & SeniorCitizen & Partner & Dependents & tenure & PhoneService & MultipleLines & InternetService & ... & DeviceProtection & TechSupport & StreamingTV & StreamingMovies & Contract & PaperlessBilling & PaymentMethod & MonthlyCharges & TotalCharges & Churn\\\\\n",
       "  & <int> & <chr> & <chr> & <int> & <int> & <int> & <int> & <chr> & <chr> & <chr> & ... & <chr> & <chr> & <chr> & <chr> & <chr> & <chr> & <chr> & <chr> & <dbl> & <chr>\\\\\n",
       "\\hline\n",
       "\t1 & 1869 & 7010-BRBUU & Male   & 0 & 2 & 2 & 72 & Yes & Yes              & No          & ... & No internet service & No internet service & No internet service & No internet service & Two year       & No  & Credit card (automatic)   & 24.1  & 1734.65 & No \\\\\n",
       "\t2 & 4528 & 9688-YGXVR & Female & 0 & 1 & 1 & 44 & Yes & No               & Fiber optic & ... & Yes                 & No                  & Yes                 & No                  & Month-to-month & Yes & Credit card (automatic)   & 88.15 & 3973.20 & No \\\\\n",
       "\t3 & 6344 & 9286-DOJGF & Female & 1 & 2 & 1 & 38 & Yes & Yes              & Fiber optic & ... & No                  & No                  & No                  & No                  & Month-to-month & Yes & Bank transfer (automatic) & 74.95 & 2869.85 & Yes\\\\\n",
       "\t4 & 6739 & 6994-KERXL & Male   & 0 & 1 & 1 &  4 & Yes & No               & DSL         & ... & No                  & No                  & No                  & Yes                 & Month-to-month & Yes & Electronic check          & 55.9  &  238.50 & No \\\\\n",
       "\t5 &  432 & 2181-UAESM & Male   & 0 & 1 & 1 &  2 & Yes & No               & DSL         & ... & Yes                 & No                  & No                  & No                  & Month-to-month & No  & Electronic check          & 53.45 &  119.50 & No \\\\\n",
       "\t6 & 2215 & 4312-GVYNH & Female & 0 & 2 & 1 & 70 & No  & No phone service & DSL         & ... & Yes                 & Yes                 & No                  & Yes                 & Two year       & Yes & Bank transfer (automatic) & 49.85 & 3370.20 & No \\\\\n",
       "\\end{tabular}\n"
      ],
      "text/markdown": [
       "\n",
       "A data.frame: 6 × 22\n",
       "\n",
       "| <!--/--> | X &lt;int&gt; | customerID &lt;chr&gt; | gender &lt;chr&gt; | SeniorCitizen &lt;int&gt; | Partner &lt;int&gt; | Dependents &lt;int&gt; | tenure &lt;int&gt; | PhoneService &lt;chr&gt; | MultipleLines &lt;chr&gt; | InternetService &lt;chr&gt; | ... ... | DeviceProtection &lt;chr&gt; | TechSupport &lt;chr&gt; | StreamingTV &lt;chr&gt; | StreamingMovies &lt;chr&gt; | Contract &lt;chr&gt; | PaperlessBilling &lt;chr&gt; | PaymentMethod &lt;chr&gt; | MonthlyCharges &lt;chr&gt; | TotalCharges &lt;dbl&gt; | Churn &lt;chr&gt; |\n",
       "|---|---|---|---|---|---|---|---|---|---|---|---|---|---|---|---|---|---|---|---|---|---|\n",
       "| 1 | 1869 | 7010-BRBUU | Male   | 0 | 2 | 2 | 72 | Yes | Yes              | No          | ... | No internet service | No internet service | No internet service | No internet service | Two year       | No  | Credit card (automatic)   | 24.1  | 1734.65 | No  |\n",
       "| 2 | 4528 | 9688-YGXVR | Female | 0 | 1 | 1 | 44 | Yes | No               | Fiber optic | ... | Yes                 | No                  | Yes                 | No                  | Month-to-month | Yes | Credit card (automatic)   | 88.15 | 3973.20 | No  |\n",
       "| 3 | 6344 | 9286-DOJGF | Female | 1 | 2 | 1 | 38 | Yes | Yes              | Fiber optic | ... | No                  | No                  | No                  | No                  | Month-to-month | Yes | Bank transfer (automatic) | 74.95 | 2869.85 | Yes |\n",
       "| 4 | 6739 | 6994-KERXL | Male   | 0 | 1 | 1 |  4 | Yes | No               | DSL         | ... | No                  | No                  | No                  | Yes                 | Month-to-month | Yes | Electronic check          | 55.9  |  238.50 | No  |\n",
       "| 5 |  432 | 2181-UAESM | Male   | 0 | 1 | 1 |  2 | Yes | No               | DSL         | ... | Yes                 | No                  | No                  | No                  | Month-to-month | No  | Electronic check          | 53.45 |  119.50 | No  |\n",
       "| 6 | 2215 | 4312-GVYNH | Female | 0 | 2 | 1 | 70 | No  | No phone service | DSL         | ... | Yes                 | Yes                 | No                  | Yes                 | Two year       | Yes | Bank transfer (automatic) | 49.85 | 3370.20 | No  |\n",
       "\n"
      ],
      "text/plain": [
       "  X    customerID gender SeniorCitizen Partner Dependents tenure PhoneService\n",
       "1 1869 7010-BRBUU Male   0             2       2          72     Yes         \n",
       "2 4528 9688-YGXVR Female 0             1       1          44     Yes         \n",
       "3 6344 9286-DOJGF Female 1             2       1          38     Yes         \n",
       "4 6739 6994-KERXL Male   0             1       1           4     Yes         \n",
       "5  432 2181-UAESM Male   0             1       1           2     Yes         \n",
       "6 2215 4312-GVYNH Female 0             2       1          70     No          \n",
       "  MultipleLines    InternetService ... DeviceProtection    TechSupport        \n",
       "1 Yes              No              ... No internet service No internet service\n",
       "2 No               Fiber optic     ... Yes                 No                 \n",
       "3 Yes              Fiber optic     ... No                  No                 \n",
       "4 No               DSL             ... No                  No                 \n",
       "5 No               DSL             ... Yes                 No                 \n",
       "6 No phone service DSL             ... Yes                 Yes                \n",
       "  StreamingTV         StreamingMovies     Contract       PaperlessBilling\n",
       "1 No internet service No internet service Two year       No              \n",
       "2 Yes                 No                  Month-to-month Yes             \n",
       "3 No                  No                  Month-to-month Yes             \n",
       "4 No                  Yes                 Month-to-month Yes             \n",
       "5 No                  No                  Month-to-month No              \n",
       "6 No                  Yes                 Two year       Yes             \n",
       "  PaymentMethod             MonthlyCharges TotalCharges Churn\n",
       "1 Credit card (automatic)   24.1           1734.65      No   \n",
       "2 Credit card (automatic)   88.15          3973.20      No   \n",
       "3 Bank transfer (automatic) 74.95          2869.85      Yes  \n",
       "4 Electronic check          55.9            238.50      No   \n",
       "5 Electronic check          53.45           119.50      No   \n",
       "6 Bank transfer (automatic) 49.85          3370.20      No   "
      ]
     },
     "metadata": {},
     "output_type": "display_data"
    }
   ],
   "source": [
    "# convert to integers\n",
    "churn_data <- churn_data %>% mutate(Partner = as.integer(Partner),\n",
    "                                   Dependents = as.integer(Dependents))\n",
    "head(churn_data) # data types changed for selected fields"
   ]
  },
  {
   "cell_type": "markdown",
   "metadata": {},
   "source": [
    "But you should check factor to numbers converting to synchronize train/test/prediction correct numbering. In this case you should save somewhere levels of factor. Better way is to use encoders with fitting."
   ]
  },
  {
   "cell_type": "markdown",
   "metadata": {},
   "source": [
    "---"
   ]
  },
  {
   "cell_type": "markdown",
   "metadata": {},
   "source": [
    "### Encoding with LabelEncoder from `superml` package"
   ]
  },
  {
   "cell_type": "code",
   "execution_count": 102,
   "metadata": {},
   "outputs": [
    {
     "name": "stderr",
     "output_type": "stream",
     "text": [
      "also installing the dependency ‘Metrics’\n",
      "\n",
      "\n",
      "Updating HTML index of packages in '.Library'\n",
      "\n",
      "Making 'packages.html' ...\n",
      " done\n",
      "\n"
     ]
    }
   ],
   "source": [
    "install.packages(\"superml\") #you olso need R6 package"
   ]
  },
  {
   "cell_type": "code",
   "execution_count": 108,
   "metadata": {},
   "outputs": [
    {
     "name": "stdout",
     "output_type": "stream",
     "text": [
      "[1] TRUE\n"
     ]
    }
   ],
   "source": [
    "library(superml)\n",
    "\n",
    "label <- LabelEncoder$new() # create new encoder\n",
    "print(label$fit(churn_data$InternetService)) # fir the encoder"
   ]
  },
  {
   "cell_type": "code",
   "execution_count": 107,
   "metadata": {},
   "outputs": [
    {
     "data": {
      "text/html": [
       "<table class=\"dataframe\">\n",
       "<caption>A data.frame: 6 × 22</caption>\n",
       "<thead>\n",
       "\t<tr><th></th><th scope=col>X</th><th scope=col>customerID</th><th scope=col>gender</th><th scope=col>SeniorCitizen</th><th scope=col>Partner</th><th scope=col>Dependents</th><th scope=col>tenure</th><th scope=col>PhoneService</th><th scope=col>MultipleLines</th><th scope=col>InternetService</th><th scope=col>⋯</th><th scope=col>DeviceProtection</th><th scope=col>TechSupport</th><th scope=col>StreamingTV</th><th scope=col>StreamingMovies</th><th scope=col>Contract</th><th scope=col>PaperlessBilling</th><th scope=col>PaymentMethod</th><th scope=col>MonthlyCharges</th><th scope=col>TotalCharges</th><th scope=col>Churn</th></tr>\n",
       "\t<tr><th></th><th scope=col>&lt;int&gt;</th><th scope=col>&lt;chr&gt;</th><th scope=col>&lt;chr&gt;</th><th scope=col>&lt;int&gt;</th><th scope=col>&lt;fct&gt;</th><th scope=col>&lt;fct&gt;</th><th scope=col>&lt;int&gt;</th><th scope=col>&lt;chr&gt;</th><th scope=col>&lt;chr&gt;</th><th scope=col>&lt;dbl&gt;</th><th scope=col>⋯</th><th scope=col>&lt;chr&gt;</th><th scope=col>&lt;chr&gt;</th><th scope=col>&lt;chr&gt;</th><th scope=col>&lt;chr&gt;</th><th scope=col>&lt;chr&gt;</th><th scope=col>&lt;chr&gt;</th><th scope=col>&lt;chr&gt;</th><th scope=col>&lt;chr&gt;</th><th scope=col>&lt;dbl&gt;</th><th scope=col>&lt;chr&gt;</th></tr>\n",
       "</thead>\n",
       "<tbody>\n",
       "\t<tr><th scope=row>1</th><td>1869</td><td>7010-BRBUU</td><td>Male  </td><td>0</td><td>Yes</td><td>Yes</td><td>72</td><td>Yes</td><td>Yes             </td><td>0</td><td>⋯</td><td>No internet service</td><td>No internet service</td><td>No internet service</td><td>No internet service</td><td>Two year      </td><td>No </td><td>Credit card (automatic)  </td><td>24.1 </td><td>1734.65</td><td>No </td></tr>\n",
       "\t<tr><th scope=row>2</th><td>4528</td><td>9688-YGXVR</td><td>Female</td><td>0</td><td>No </td><td>No </td><td>44</td><td>Yes</td><td>No              </td><td>1</td><td>⋯</td><td>Yes                </td><td>No                 </td><td>Yes                </td><td>No                 </td><td>Month-to-month</td><td>Yes</td><td>Credit card (automatic)  </td><td>88.15</td><td>3973.20</td><td>No </td></tr>\n",
       "\t<tr><th scope=row>3</th><td>6344</td><td>9286-DOJGF</td><td>Female</td><td>1</td><td>Yes</td><td>No </td><td>38</td><td>Yes</td><td>Yes             </td><td>1</td><td>⋯</td><td>No                 </td><td>No                 </td><td>No                 </td><td>No                 </td><td>Month-to-month</td><td>Yes</td><td>Bank transfer (automatic)</td><td>74.95</td><td>2869.85</td><td>Yes</td></tr>\n",
       "\t<tr><th scope=row>4</th><td>6739</td><td>6994-KERXL</td><td>Male  </td><td>0</td><td>No </td><td>No </td><td> 4</td><td>Yes</td><td>No              </td><td>2</td><td>⋯</td><td>No                 </td><td>No                 </td><td>No                 </td><td>Yes                </td><td>Month-to-month</td><td>Yes</td><td>Electronic check         </td><td>55.9 </td><td> 238.50</td><td>No </td></tr>\n",
       "\t<tr><th scope=row>5</th><td> 432</td><td>2181-UAESM</td><td>Male  </td><td>0</td><td>No </td><td>No </td><td> 2</td><td>Yes</td><td>No              </td><td>2</td><td>⋯</td><td>Yes                </td><td>No                 </td><td>No                 </td><td>No                 </td><td>Month-to-month</td><td>No </td><td>Electronic check         </td><td>53.45</td><td> 119.50</td><td>No </td></tr>\n",
       "\t<tr><th scope=row>6</th><td>2215</td><td>4312-GVYNH</td><td>Female</td><td>0</td><td>Yes</td><td>No </td><td>70</td><td>No </td><td>No phone service</td><td>2</td><td>⋯</td><td>Yes                </td><td>Yes                </td><td>No                 </td><td>Yes                </td><td>Two year      </td><td>Yes</td><td>Bank transfer (automatic)</td><td>49.85</td><td>3370.20</td><td>No </td></tr>\n",
       "</tbody>\n",
       "</table>\n"
      ],
      "text/latex": [
       "A data.frame: 6 × 22\n",
       "\\begin{tabular}{r|lllllllllllllllllllll}\n",
       "  & X & customerID & gender & SeniorCitizen & Partner & Dependents & tenure & PhoneService & MultipleLines & InternetService & ⋯ & DeviceProtection & TechSupport & StreamingTV & StreamingMovies & Contract & PaperlessBilling & PaymentMethod & MonthlyCharges & TotalCharges & Churn\\\\\n",
       "  & <int> & <chr> & <chr> & <int> & <fct> & <fct> & <int> & <chr> & <chr> & <dbl> & ⋯ & <chr> & <chr> & <chr> & <chr> & <chr> & <chr> & <chr> & <chr> & <dbl> & <chr>\\\\\n",
       "\\hline\n",
       "\t1 & 1869 & 7010-BRBUU & Male   & 0 & Yes & Yes & 72 & Yes & Yes              & 0 & ⋯ & No internet service & No internet service & No internet service & No internet service & Two year       & No  & Credit card (automatic)   & 24.1  & 1734.65 & No \\\\\n",
       "\t2 & 4528 & 9688-YGXVR & Female & 0 & No  & No  & 44 & Yes & No               & 1 & ⋯ & Yes                 & No                  & Yes                 & No                  & Month-to-month & Yes & Credit card (automatic)   & 88.15 & 3973.20 & No \\\\\n",
       "\t3 & 6344 & 9286-DOJGF & Female & 1 & Yes & No  & 38 & Yes & Yes              & 1 & ⋯ & No                  & No                  & No                  & No                  & Month-to-month & Yes & Bank transfer (automatic) & 74.95 & 2869.85 & Yes\\\\\n",
       "\t4 & 6739 & 6994-KERXL & Male   & 0 & No  & No  &  4 & Yes & No               & 2 & ⋯ & No                  & No                  & No                  & Yes                 & Month-to-month & Yes & Electronic check          & 55.9  &  238.50 & No \\\\\n",
       "\t5 &  432 & 2181-UAESM & Male   & 0 & No  & No  &  2 & Yes & No               & 2 & ⋯ & Yes                 & No                  & No                  & No                  & Month-to-month & No  & Electronic check          & 53.45 &  119.50 & No \\\\\n",
       "\t6 & 2215 & 4312-GVYNH & Female & 0 & Yes & No  & 70 & No  & No phone service & 2 & ⋯ & Yes                 & Yes                 & No                  & Yes                 & Two year       & Yes & Bank transfer (automatic) & 49.85 & 3370.20 & No \\\\\n",
       "\\end{tabular}\n"
      ],
      "text/markdown": [
       "\n",
       "A data.frame: 6 × 22\n",
       "\n",
       "| <!--/--> | X &lt;int&gt; | customerID &lt;chr&gt; | gender &lt;chr&gt; | SeniorCitizen &lt;int&gt; | Partner &lt;fct&gt; | Dependents &lt;fct&gt; | tenure &lt;int&gt; | PhoneService &lt;chr&gt; | MultipleLines &lt;chr&gt; | InternetService &lt;dbl&gt; | ⋯ ⋯ | DeviceProtection &lt;chr&gt; | TechSupport &lt;chr&gt; | StreamingTV &lt;chr&gt; | StreamingMovies &lt;chr&gt; | Contract &lt;chr&gt; | PaperlessBilling &lt;chr&gt; | PaymentMethod &lt;chr&gt; | MonthlyCharges &lt;chr&gt; | TotalCharges &lt;dbl&gt; | Churn &lt;chr&gt; |\n",
       "|---|---|---|---|---|---|---|---|---|---|---|---|---|---|---|---|---|---|---|---|---|---|\n",
       "| 1 | 1869 | 7010-BRBUU | Male   | 0 | Yes | Yes | 72 | Yes | Yes              | 0 | ⋯ | No internet service | No internet service | No internet service | No internet service | Two year       | No  | Credit card (automatic)   | 24.1  | 1734.65 | No  |\n",
       "| 2 | 4528 | 9688-YGXVR | Female | 0 | No  | No  | 44 | Yes | No               | 1 | ⋯ | Yes                 | No                  | Yes                 | No                  | Month-to-month | Yes | Credit card (automatic)   | 88.15 | 3973.20 | No  |\n",
       "| 3 | 6344 | 9286-DOJGF | Female | 1 | Yes | No  | 38 | Yes | Yes              | 1 | ⋯ | No                  | No                  | No                  | No                  | Month-to-month | Yes | Bank transfer (automatic) | 74.95 | 2869.85 | Yes |\n",
       "| 4 | 6739 | 6994-KERXL | Male   | 0 | No  | No  |  4 | Yes | No               | 2 | ⋯ | No                  | No                  | No                  | Yes                 | Month-to-month | Yes | Electronic check          | 55.9  |  238.50 | No  |\n",
       "| 5 |  432 | 2181-UAESM | Male   | 0 | No  | No  |  2 | Yes | No               | 2 | ⋯ | Yes                 | No                  | No                  | No                  | Month-to-month | No  | Electronic check          | 53.45 |  119.50 | No  |\n",
       "| 6 | 2215 | 4312-GVYNH | Female | 0 | Yes | No  | 70 | No  | No phone service | 2 | ⋯ | Yes                 | Yes                 | No                  | Yes                 | Two year       | Yes | Bank transfer (automatic) | 49.85 | 3370.20 | No  |\n",
       "\n"
      ],
      "text/plain": [
       "  X    customerID gender SeniorCitizen Partner Dependents tenure PhoneService\n",
       "1 1869 7010-BRBUU Male   0             Yes     Yes        72     Yes         \n",
       "2 4528 9688-YGXVR Female 0             No      No         44     Yes         \n",
       "3 6344 9286-DOJGF Female 1             Yes     No         38     Yes         \n",
       "4 6739 6994-KERXL Male   0             No      No          4     Yes         \n",
       "5  432 2181-UAESM Male   0             No      No          2     Yes         \n",
       "6 2215 4312-GVYNH Female 0             Yes     No         70     No          \n",
       "  MultipleLines    InternetService ⋯ DeviceProtection    TechSupport        \n",
       "1 Yes              0               ⋯ No internet service No internet service\n",
       "2 No               1               ⋯ Yes                 No                 \n",
       "3 Yes              1               ⋯ No                  No                 \n",
       "4 No               2               ⋯ No                  No                 \n",
       "5 No               2               ⋯ Yes                 No                 \n",
       "6 No phone service 2               ⋯ Yes                 Yes                \n",
       "  StreamingTV         StreamingMovies     Contract       PaperlessBilling\n",
       "1 No internet service No internet service Two year       No              \n",
       "2 Yes                 No                  Month-to-month Yes             \n",
       "3 No                  No                  Month-to-month Yes             \n",
       "4 No                  Yes                 Month-to-month Yes             \n",
       "5 No                  No                  Month-to-month No              \n",
       "6 No                  Yes                 Two year       Yes             \n",
       "  PaymentMethod             MonthlyCharges TotalCharges Churn\n",
       "1 Credit card (automatic)   24.1           1734.65      No   \n",
       "2 Credit card (automatic)   88.15          3973.20      No   \n",
       "3 Bank transfer (automatic) 74.95          2869.85      Yes  \n",
       "4 Electronic check          55.9            238.50      No   \n",
       "5 Electronic check          53.45           119.50      No   \n",
       "6 Bank transfer (automatic) 49.85          3370.20      No   "
      ]
     },
     "metadata": {},
     "output_type": "display_data"
    }
   ],
   "source": [
    "# encode data\n",
    "churn_data$InternetService <- label$fit_transform(churn_data$InternetService) \n",
    "# do not re-run it, because InternetService ineteger for now\n",
    "head(churn_data)"
   ]
  },
  {
   "cell_type": "markdown",
   "metadata": {},
   "source": [
    "Now you can save your encoding configuration and use it for test/prediction sets later."
   ]
  },
  {
   "cell_type": "markdown",
   "metadata": {},
   "source": [
    "---"
   ]
  },
  {
   "cell_type": "markdown",
   "metadata": {},
   "source": [
    "### 3.2.2. On-hot encoding"
   ]
  },
  {
   "cell_type": "code",
   "execution_count": 116,
   "metadata": {},
   "outputs": [
    {
     "data": {
      "text/html": [
       "<table class=\"dataframe\">\n",
       "<caption>A data.frame: 6 × 22</caption>\n",
       "<thead>\n",
       "\t<tr><th></th><th scope=col>X</th><th scope=col>customerID</th><th scope=col>gender</th><th scope=col>SeniorCitizen</th><th scope=col>Partner</th><th scope=col>Dependents</th><th scope=col>tenure</th><th scope=col>PhoneService</th><th scope=col>MultipleLines</th><th scope=col>InternetService</th><th scope=col>⋯</th><th scope=col>DeviceProtection</th><th scope=col>TechSupport</th><th scope=col>StreamingTV</th><th scope=col>StreamingMovies</th><th scope=col>Contract</th><th scope=col>PaperlessBilling</th><th scope=col>PaymentMethod</th><th scope=col>MonthlyCharges</th><th scope=col>TotalCharges</th><th scope=col>Churn</th></tr>\n",
       "\t<tr><th></th><th scope=col>&lt;int&gt;</th><th scope=col>&lt;chr&gt;</th><th scope=col>&lt;chr&gt;</th><th scope=col>&lt;int&gt;</th><th scope=col>&lt;chr&gt;</th><th scope=col>&lt;chr&gt;</th><th scope=col>&lt;int&gt;</th><th scope=col>&lt;chr&gt;</th><th scope=col>&lt;chr&gt;</th><th scope=col>&lt;chr&gt;</th><th scope=col>⋯</th><th scope=col>&lt;chr&gt;</th><th scope=col>&lt;chr&gt;</th><th scope=col>&lt;chr&gt;</th><th scope=col>&lt;chr&gt;</th><th scope=col>&lt;chr&gt;</th><th scope=col>&lt;chr&gt;</th><th scope=col>&lt;chr&gt;</th><th scope=col>&lt;chr&gt;</th><th scope=col>&lt;dbl&gt;</th><th scope=col>&lt;chr&gt;</th></tr>\n",
       "</thead>\n",
       "<tbody>\n",
       "\t<tr><th scope=row>1</th><td>1869</td><td>7010-BRBUU</td><td>Male  </td><td>0</td><td>Yes</td><td>Yes</td><td>72</td><td>Yes</td><td>Yes             </td><td>No         </td><td>⋯</td><td>No internet service</td><td>No internet service</td><td>No internet service</td><td>No internet service</td><td>Two year      </td><td>No </td><td>Credit card (automatic)  </td><td>24.1 </td><td>1734.65</td><td>No </td></tr>\n",
       "\t<tr><th scope=row>2</th><td>4528</td><td>9688-YGXVR</td><td>Female</td><td>0</td><td>No </td><td>No </td><td>44</td><td>Yes</td><td>No              </td><td>Fiber optic</td><td>⋯</td><td>Yes                </td><td>No                 </td><td>Yes                </td><td>No                 </td><td>Month-to-month</td><td>Yes</td><td>Credit card (automatic)  </td><td>88.15</td><td>3973.20</td><td>No </td></tr>\n",
       "\t<tr><th scope=row>3</th><td>6344</td><td>9286-DOJGF</td><td>Female</td><td>1</td><td>Yes</td><td>No </td><td>38</td><td>Yes</td><td>Yes             </td><td>Fiber optic</td><td>⋯</td><td>No                 </td><td>No                 </td><td>No                 </td><td>No                 </td><td>Month-to-month</td><td>Yes</td><td>Bank transfer (automatic)</td><td>74.95</td><td>2869.85</td><td>Yes</td></tr>\n",
       "\t<tr><th scope=row>4</th><td>6739</td><td>6994-KERXL</td><td>Male  </td><td>0</td><td>No </td><td>No </td><td> 4</td><td>Yes</td><td>No              </td><td>DSL        </td><td>⋯</td><td>No                 </td><td>No                 </td><td>No                 </td><td>Yes                </td><td>Month-to-month</td><td>Yes</td><td>Electronic check         </td><td>55.9 </td><td> 238.50</td><td>No </td></tr>\n",
       "\t<tr><th scope=row>5</th><td> 432</td><td>2181-UAESM</td><td>Male  </td><td>0</td><td>No </td><td>No </td><td> 2</td><td>Yes</td><td>No              </td><td>DSL        </td><td>⋯</td><td>Yes                </td><td>No                 </td><td>No                 </td><td>No                 </td><td>Month-to-month</td><td>No </td><td>Electronic check         </td><td>53.45</td><td> 119.50</td><td>No </td></tr>\n",
       "\t<tr><th scope=row>6</th><td>2215</td><td>4312-GVYNH</td><td>Female</td><td>0</td><td>Yes</td><td>No </td><td>70</td><td>No </td><td>No phone service</td><td>DSL        </td><td>⋯</td><td>Yes                </td><td>Yes                </td><td>No                 </td><td>Yes                </td><td>Two year      </td><td>Yes</td><td>Bank transfer (automatic)</td><td>49.85</td><td>3370.20</td><td>No </td></tr>\n",
       "</tbody>\n",
       "</table>\n"
      ],
      "text/latex": [
       "A data.frame: 6 × 22\n",
       "\\begin{tabular}{r|lllllllllllllllllllll}\n",
       "  & X & customerID & gender & SeniorCitizen & Partner & Dependents & tenure & PhoneService & MultipleLines & InternetService & ⋯ & DeviceProtection & TechSupport & StreamingTV & StreamingMovies & Contract & PaperlessBilling & PaymentMethod & MonthlyCharges & TotalCharges & Churn\\\\\n",
       "  & <int> & <chr> & <chr> & <int> & <chr> & <chr> & <int> & <chr> & <chr> & <chr> & ⋯ & <chr> & <chr> & <chr> & <chr> & <chr> & <chr> & <chr> & <chr> & <dbl> & <chr>\\\\\n",
       "\\hline\n",
       "\t1 & 1869 & 7010-BRBUU & Male   & 0 & Yes & Yes & 72 & Yes & Yes              & No          & ⋯ & No internet service & No internet service & No internet service & No internet service & Two year       & No  & Credit card (automatic)   & 24.1  & 1734.65 & No \\\\\n",
       "\t2 & 4528 & 9688-YGXVR & Female & 0 & No  & No  & 44 & Yes & No               & Fiber optic & ⋯ & Yes                 & No                  & Yes                 & No                  & Month-to-month & Yes & Credit card (automatic)   & 88.15 & 3973.20 & No \\\\\n",
       "\t3 & 6344 & 9286-DOJGF & Female & 1 & Yes & No  & 38 & Yes & Yes              & Fiber optic & ⋯ & No                  & No                  & No                  & No                  & Month-to-month & Yes & Bank transfer (automatic) & 74.95 & 2869.85 & Yes\\\\\n",
       "\t4 & 6739 & 6994-KERXL & Male   & 0 & No  & No  &  4 & Yes & No               & DSL         & ⋯ & No                  & No                  & No                  & Yes                 & Month-to-month & Yes & Electronic check          & 55.9  &  238.50 & No \\\\\n",
       "\t5 &  432 & 2181-UAESM & Male   & 0 & No  & No  &  2 & Yes & No               & DSL         & ⋯ & Yes                 & No                  & No                  & No                  & Month-to-month & No  & Electronic check          & 53.45 &  119.50 & No \\\\\n",
       "\t6 & 2215 & 4312-GVYNH & Female & 0 & Yes & No  & 70 & No  & No phone service & DSL         & ⋯ & Yes                 & Yes                 & No                  & Yes                 & Two year       & Yes & Bank transfer (automatic) & 49.85 & 3370.20 & No \\\\\n",
       "\\end{tabular}\n"
      ],
      "text/markdown": [
       "\n",
       "A data.frame: 6 × 22\n",
       "\n",
       "| <!--/--> | X &lt;int&gt; | customerID &lt;chr&gt; | gender &lt;chr&gt; | SeniorCitizen &lt;int&gt; | Partner &lt;chr&gt; | Dependents &lt;chr&gt; | tenure &lt;int&gt; | PhoneService &lt;chr&gt; | MultipleLines &lt;chr&gt; | InternetService &lt;chr&gt; | ⋯ ⋯ | DeviceProtection &lt;chr&gt; | TechSupport &lt;chr&gt; | StreamingTV &lt;chr&gt; | StreamingMovies &lt;chr&gt; | Contract &lt;chr&gt; | PaperlessBilling &lt;chr&gt; | PaymentMethod &lt;chr&gt; | MonthlyCharges &lt;chr&gt; | TotalCharges &lt;dbl&gt; | Churn &lt;chr&gt; |\n",
       "|---|---|---|---|---|---|---|---|---|---|---|---|---|---|---|---|---|---|---|---|---|---|\n",
       "| 1 | 1869 | 7010-BRBUU | Male   | 0 | Yes | Yes | 72 | Yes | Yes              | No          | ⋯ | No internet service | No internet service | No internet service | No internet service | Two year       | No  | Credit card (automatic)   | 24.1  | 1734.65 | No  |\n",
       "| 2 | 4528 | 9688-YGXVR | Female | 0 | No  | No  | 44 | Yes | No               | Fiber optic | ⋯ | Yes                 | No                  | Yes                 | No                  | Month-to-month | Yes | Credit card (automatic)   | 88.15 | 3973.20 | No  |\n",
       "| 3 | 6344 | 9286-DOJGF | Female | 1 | Yes | No  | 38 | Yes | Yes              | Fiber optic | ⋯ | No                  | No                  | No                  | No                  | Month-to-month | Yes | Bank transfer (automatic) | 74.95 | 2869.85 | Yes |\n",
       "| 4 | 6739 | 6994-KERXL | Male   | 0 | No  | No  |  4 | Yes | No               | DSL         | ⋯ | No                  | No                  | No                  | Yes                 | Month-to-month | Yes | Electronic check          | 55.9  |  238.50 | No  |\n",
       "| 5 |  432 | 2181-UAESM | Male   | 0 | No  | No  |  2 | Yes | No               | DSL         | ⋯ | Yes                 | No                  | No                  | No                  | Month-to-month | No  | Electronic check          | 53.45 |  119.50 | No  |\n",
       "| 6 | 2215 | 4312-GVYNH | Female | 0 | Yes | No  | 70 | No  | No phone service | DSL         | ⋯ | Yes                 | Yes                 | No                  | Yes                 | Two year       | Yes | Bank transfer (automatic) | 49.85 | 3370.20 | No  |\n",
       "\n"
      ],
      "text/plain": [
       "  X    customerID gender SeniorCitizen Partner Dependents tenure PhoneService\n",
       "1 1869 7010-BRBUU Male   0             Yes     Yes        72     Yes         \n",
       "2 4528 9688-YGXVR Female 0             No      No         44     Yes         \n",
       "3 6344 9286-DOJGF Female 1             Yes     No         38     Yes         \n",
       "4 6739 6994-KERXL Male   0             No      No          4     Yes         \n",
       "5  432 2181-UAESM Male   0             No      No          2     Yes         \n",
       "6 2215 4312-GVYNH Female 0             Yes     No         70     No          \n",
       "  MultipleLines    InternetService ⋯ DeviceProtection    TechSupport        \n",
       "1 Yes              No              ⋯ No internet service No internet service\n",
       "2 No               Fiber optic     ⋯ Yes                 No                 \n",
       "3 Yes              Fiber optic     ⋯ No                  No                 \n",
       "4 No               DSL             ⋯ No                  No                 \n",
       "5 No               DSL             ⋯ Yes                 No                 \n",
       "6 No phone service DSL             ⋯ Yes                 Yes                \n",
       "  StreamingTV         StreamingMovies     Contract       PaperlessBilling\n",
       "1 No internet service No internet service Two year       No              \n",
       "2 Yes                 No                  Month-to-month Yes             \n",
       "3 No                  No                  Month-to-month Yes             \n",
       "4 No                  Yes                 Month-to-month Yes             \n",
       "5 No                  No                  Month-to-month No              \n",
       "6 No                  Yes                 Two year       Yes             \n",
       "  PaymentMethod             MonthlyCharges TotalCharges Churn\n",
       "1 Credit card (automatic)   24.1           1734.65      No   \n",
       "2 Credit card (automatic)   88.15          3973.20      No   \n",
       "3 Bank transfer (automatic) 74.95          2869.85      Yes  \n",
       "4 Electronic check          55.9            238.50      No   \n",
       "5 Electronic check          53.45           119.50      No   \n",
       "6 Bank transfer (automatic) 49.85          3370.20      No   "
      ]
     },
     "metadata": {},
     "output_type": "display_data"
    }
   ],
   "source": [
    "# Lets use client churn dataset from telco: https://www.kaggle.com/blastchar/telco-customer-churn\n",
    "churn_data <- read.csv(\"data/telecom_users.csv\")\n",
    "head(churn_data)"
   ]
  },
  {
   "cell_type": "code",
   "execution_count": 109,
   "metadata": {},
   "outputs": [
    {
     "name": "stdout",
     "output_type": "stream",
     "text": [
      "\n",
      " \n",
      "   Cell Contents\n",
      "|-------------------------|\n",
      "|                       N |\n",
      "|         N / Table Total |\n",
      "|-------------------------|\n",
      "\n",
      " \n",
      "Total Observations in Table:  5986 \n",
      "\n",
      " \n",
      "          |    Female |      Male | \n",
      "          |-----------|-----------|\n",
      "          |      2936 |      3050 | \n",
      "          |     0.490 |     0.510 | \n",
      "          |-----------|-----------|\n",
      "\n",
      "\n",
      "\n",
      " \n"
     ]
    }
   ],
   "source": [
    "# check possible Gender values\n",
    "gmodels::CrossTable(churn_data$gender)"
   ]
  },
  {
   "cell_type": "markdown",
   "metadata": {},
   "source": [
    "Lets create two additional variables `Male` and `Female` encoded by 1 / 0:\n",
    "\n",
    "- [x] Create a Male column that encodes each row corresponding to male as 1 and set everything else to 0.\n",
    "- [x] Create a Female column that encodes each row corresponding to female as 1 and set everything else to 0."
   ]
  },
  {
   "cell_type": "code",
   "execution_count": 110,
   "metadata": {},
   "outputs": [
    {
     "data": {
      "text/html": [
       "<table class=\"dataframe\">\n",
       "<caption>A data.frame: 6 × 24</caption>\n",
       "<thead>\n",
       "\t<tr><th></th><th scope=col>X</th><th scope=col>customerID</th><th scope=col>gender</th><th scope=col>SeniorCitizen</th><th scope=col>Partner</th><th scope=col>Dependents</th><th scope=col>tenure</th><th scope=col>PhoneService</th><th scope=col>MultipleLines</th><th scope=col>InternetService</th><th scope=col>⋯</th><th scope=col>StreamingTV</th><th scope=col>StreamingMovies</th><th scope=col>Contract</th><th scope=col>PaperlessBilling</th><th scope=col>PaymentMethod</th><th scope=col>MonthlyCharges</th><th scope=col>TotalCharges</th><th scope=col>Churn</th><th scope=col>Male</th><th scope=col>Female</th></tr>\n",
       "\t<tr><th></th><th scope=col>&lt;int&gt;</th><th scope=col>&lt;chr&gt;</th><th scope=col>&lt;chr&gt;</th><th scope=col>&lt;int&gt;</th><th scope=col>&lt;fct&gt;</th><th scope=col>&lt;fct&gt;</th><th scope=col>&lt;int&gt;</th><th scope=col>&lt;chr&gt;</th><th scope=col>&lt;chr&gt;</th><th scope=col>&lt;dbl&gt;</th><th scope=col>⋯</th><th scope=col>&lt;chr&gt;</th><th scope=col>&lt;chr&gt;</th><th scope=col>&lt;chr&gt;</th><th scope=col>&lt;chr&gt;</th><th scope=col>&lt;chr&gt;</th><th scope=col>&lt;chr&gt;</th><th scope=col>&lt;dbl&gt;</th><th scope=col>&lt;chr&gt;</th><th scope=col>&lt;dbl&gt;</th><th scope=col>&lt;dbl&gt;</th></tr>\n",
       "</thead>\n",
       "<tbody>\n",
       "\t<tr><th scope=row>1</th><td>1869</td><td>7010-BRBUU</td><td>Male  </td><td>0</td><td>Yes</td><td>Yes</td><td>72</td><td>Yes</td><td>Yes             </td><td>0</td><td>⋯</td><td>No internet service</td><td>No internet service</td><td>Two year      </td><td>No </td><td>Credit card (automatic)  </td><td>24.1 </td><td>1734.65</td><td>No </td><td>1</td><td>0</td></tr>\n",
       "\t<tr><th scope=row>2</th><td>4528</td><td>9688-YGXVR</td><td>Female</td><td>0</td><td>No </td><td>No </td><td>44</td><td>Yes</td><td>No              </td><td>1</td><td>⋯</td><td>Yes                </td><td>No                 </td><td>Month-to-month</td><td>Yes</td><td>Credit card (automatic)  </td><td>88.15</td><td>3973.20</td><td>No </td><td>0</td><td>1</td></tr>\n",
       "\t<tr><th scope=row>3</th><td>6344</td><td>9286-DOJGF</td><td>Female</td><td>1</td><td>Yes</td><td>No </td><td>38</td><td>Yes</td><td>Yes             </td><td>1</td><td>⋯</td><td>No                 </td><td>No                 </td><td>Month-to-month</td><td>Yes</td><td>Bank transfer (automatic)</td><td>74.95</td><td>2869.85</td><td>Yes</td><td>0</td><td>1</td></tr>\n",
       "\t<tr><th scope=row>4</th><td>6739</td><td>6994-KERXL</td><td>Male  </td><td>0</td><td>No </td><td>No </td><td> 4</td><td>Yes</td><td>No              </td><td>2</td><td>⋯</td><td>No                 </td><td>Yes                </td><td>Month-to-month</td><td>Yes</td><td>Electronic check         </td><td>55.9 </td><td> 238.50</td><td>No </td><td>1</td><td>0</td></tr>\n",
       "\t<tr><th scope=row>5</th><td> 432</td><td>2181-UAESM</td><td>Male  </td><td>0</td><td>No </td><td>No </td><td> 2</td><td>Yes</td><td>No              </td><td>2</td><td>⋯</td><td>No                 </td><td>No                 </td><td>Month-to-month</td><td>No </td><td>Electronic check         </td><td>53.45</td><td> 119.50</td><td>No </td><td>1</td><td>0</td></tr>\n",
       "\t<tr><th scope=row>6</th><td>2215</td><td>4312-GVYNH</td><td>Female</td><td>0</td><td>Yes</td><td>No </td><td>70</td><td>No </td><td>No phone service</td><td>2</td><td>⋯</td><td>No                 </td><td>Yes                </td><td>Two year      </td><td>Yes</td><td>Bank transfer (automatic)</td><td>49.85</td><td>3370.20</td><td>No </td><td>0</td><td>1</td></tr>\n",
       "</tbody>\n",
       "</table>\n"
      ],
      "text/latex": [
       "A data.frame: 6 × 24\n",
       "\\begin{tabular}{r|lllllllllllllllllllll}\n",
       "  & X & customerID & gender & SeniorCitizen & Partner & Dependents & tenure & PhoneService & MultipleLines & InternetService & ⋯ & StreamingTV & StreamingMovies & Contract & PaperlessBilling & PaymentMethod & MonthlyCharges & TotalCharges & Churn & Male & Female\\\\\n",
       "  & <int> & <chr> & <chr> & <int> & <fct> & <fct> & <int> & <chr> & <chr> & <dbl> & ⋯ & <chr> & <chr> & <chr> & <chr> & <chr> & <chr> & <dbl> & <chr> & <dbl> & <dbl>\\\\\n",
       "\\hline\n",
       "\t1 & 1869 & 7010-BRBUU & Male   & 0 & Yes & Yes & 72 & Yes & Yes              & 0 & ⋯ & No internet service & No internet service & Two year       & No  & Credit card (automatic)   & 24.1  & 1734.65 & No  & 1 & 0\\\\\n",
       "\t2 & 4528 & 9688-YGXVR & Female & 0 & No  & No  & 44 & Yes & No               & 1 & ⋯ & Yes                 & No                  & Month-to-month & Yes & Credit card (automatic)   & 88.15 & 3973.20 & No  & 0 & 1\\\\\n",
       "\t3 & 6344 & 9286-DOJGF & Female & 1 & Yes & No  & 38 & Yes & Yes              & 1 & ⋯ & No                  & No                  & Month-to-month & Yes & Bank transfer (automatic) & 74.95 & 2869.85 & Yes & 0 & 1\\\\\n",
       "\t4 & 6739 & 6994-KERXL & Male   & 0 & No  & No  &  4 & Yes & No               & 2 & ⋯ & No                  & Yes                 & Month-to-month & Yes & Electronic check          & 55.9  &  238.50 & No  & 1 & 0\\\\\n",
       "\t5 &  432 & 2181-UAESM & Male   & 0 & No  & No  &  2 & Yes & No               & 2 & ⋯ & No                  & No                  & Month-to-month & No  & Electronic check          & 53.45 &  119.50 & No  & 1 & 0\\\\\n",
       "\t6 & 2215 & 4312-GVYNH & Female & 0 & Yes & No  & 70 & No  & No phone service & 2 & ⋯ & No                  & Yes                 & Two year       & Yes & Bank transfer (automatic) & 49.85 & 3370.20 & No  & 0 & 1\\\\\n",
       "\\end{tabular}\n"
      ],
      "text/markdown": [
       "\n",
       "A data.frame: 6 × 24\n",
       "\n",
       "| <!--/--> | X &lt;int&gt; | customerID &lt;chr&gt; | gender &lt;chr&gt; | SeniorCitizen &lt;int&gt; | Partner &lt;fct&gt; | Dependents &lt;fct&gt; | tenure &lt;int&gt; | PhoneService &lt;chr&gt; | MultipleLines &lt;chr&gt; | InternetService &lt;dbl&gt; | ⋯ ⋯ | StreamingTV &lt;chr&gt; | StreamingMovies &lt;chr&gt; | Contract &lt;chr&gt; | PaperlessBilling &lt;chr&gt; | PaymentMethod &lt;chr&gt; | MonthlyCharges &lt;chr&gt; | TotalCharges &lt;dbl&gt; | Churn &lt;chr&gt; | Male &lt;dbl&gt; | Female &lt;dbl&gt; |\n",
       "|---|---|---|---|---|---|---|---|---|---|---|---|---|---|---|---|---|---|---|---|---|---|\n",
       "| 1 | 1869 | 7010-BRBUU | Male   | 0 | Yes | Yes | 72 | Yes | Yes              | 0 | ⋯ | No internet service | No internet service | Two year       | No  | Credit card (automatic)   | 24.1  | 1734.65 | No  | 1 | 0 |\n",
       "| 2 | 4528 | 9688-YGXVR | Female | 0 | No  | No  | 44 | Yes | No               | 1 | ⋯ | Yes                 | No                  | Month-to-month | Yes | Credit card (automatic)   | 88.15 | 3973.20 | No  | 0 | 1 |\n",
       "| 3 | 6344 | 9286-DOJGF | Female | 1 | Yes | No  | 38 | Yes | Yes              | 1 | ⋯ | No                  | No                  | Month-to-month | Yes | Bank transfer (automatic) | 74.95 | 2869.85 | Yes | 0 | 1 |\n",
       "| 4 | 6739 | 6994-KERXL | Male   | 0 | No  | No  |  4 | Yes | No               | 2 | ⋯ | No                  | Yes                 | Month-to-month | Yes | Electronic check          | 55.9  |  238.50 | No  | 1 | 0 |\n",
       "| 5 |  432 | 2181-UAESM | Male   | 0 | No  | No  |  2 | Yes | No               | 2 | ⋯ | No                  | No                  | Month-to-month | No  | Electronic check          | 53.45 |  119.50 | No  | 1 | 0 |\n",
       "| 6 | 2215 | 4312-GVYNH | Female | 0 | Yes | No  | 70 | No  | No phone service | 2 | ⋯ | No                  | Yes                 | Two year       | Yes | Bank transfer (automatic) | 49.85 | 3370.20 | No  | 0 | 1 |\n",
       "\n"
      ],
      "text/plain": [
       "  X    customerID gender SeniorCitizen Partner Dependents tenure PhoneService\n",
       "1 1869 7010-BRBUU Male   0             Yes     Yes        72     Yes         \n",
       "2 4528 9688-YGXVR Female 0             No      No         44     Yes         \n",
       "3 6344 9286-DOJGF Female 1             Yes     No         38     Yes         \n",
       "4 6739 6994-KERXL Male   0             No      No          4     Yes         \n",
       "5  432 2181-UAESM Male   0             No      No          2     Yes         \n",
       "6 2215 4312-GVYNH Female 0             Yes     No         70     No          \n",
       "  MultipleLines    InternetService ⋯ StreamingTV         StreamingMovies    \n",
       "1 Yes              0               ⋯ No internet service No internet service\n",
       "2 No               1               ⋯ Yes                 No                 \n",
       "3 Yes              1               ⋯ No                  No                 \n",
       "4 No               2               ⋯ No                  Yes                \n",
       "5 No               2               ⋯ No                  No                 \n",
       "6 No phone service 2               ⋯ No                  Yes                \n",
       "  Contract       PaperlessBilling PaymentMethod             MonthlyCharges\n",
       "1 Two year       No               Credit card (automatic)   24.1          \n",
       "2 Month-to-month Yes              Credit card (automatic)   88.15         \n",
       "3 Month-to-month Yes              Bank transfer (automatic) 74.95         \n",
       "4 Month-to-month Yes              Electronic check          55.9          \n",
       "5 Month-to-month No               Electronic check          53.45         \n",
       "6 Two year       Yes              Bank transfer (automatic) 49.85         \n",
       "  TotalCharges Churn Male Female\n",
       "1 1734.65      No    1    0     \n",
       "2 3973.20      No    0    1     \n",
       "3 2869.85      Yes   0    1     \n",
       "4  238.50      No    1    0     \n",
       "5  119.50      No    1    0     \n",
       "6 3370.20      No    0    1     "
      ]
     },
     "metadata": {},
     "output_type": "display_data"
    }
   ],
   "source": [
    "# if gender is factor\n",
    "#churn_data <- churn_data %>% \n",
    "   #     mutate(gender = as.character(gender)) # convert Gender to character from Factor\n",
    "\n",
    "churn_data <- churn_data %>% \n",
    "        mutate(\n",
    "            # create Male column\n",
    "            Male = ifelse(gender == \"Male\", 1, 0),\n",
    "            # create Female column\n",
    "            Female = ifelse(gender == \"Female\", 1, 0))\n",
    "\n",
    "head(churn_data)"
   ]
  },
  {
   "cell_type": "markdown",
   "metadata": {},
   "source": [
    "Lets create a dummy variables for `InternetService` column. So, what data it has for now?"
   ]
  },
  {
   "cell_type": "code",
   "execution_count": 111,
   "metadata": {},
   "outputs": [
    {
     "name": "stdout",
     "output_type": "stream",
     "text": [
      "\n",
      " \n",
      "   Cell Contents\n",
      "|-------------------------|\n",
      "|                       N |\n",
      "|         N / Table Total |\n",
      "|-------------------------|\n",
      "\n",
      " \n",
      "Total Observations in Table:  5986 \n",
      "\n",
      " \n",
      "          |         0 |         1 |         2 | \n",
      "          |-----------|-----------|-----------|\n",
      "          |      1291 |      2627 |      2068 | \n",
      "          |     0.216 |     0.439 |     0.345 | \n",
      "          |-----------|-----------|-----------|\n",
      "\n",
      "\n",
      "\n",
      " \n"
     ]
    }
   ],
   "source": [
    "gmodels::CrossTable(churn_data$InternetService)"
   ]
  },
  {
   "cell_type": "markdown",
   "metadata": {},
   "source": [
    "The function `dummyVars()` from `caret` package can be used to generate a complete (less than full rank parameterized) set of dummy variables from one or more factors. The function takes a formula and a data set and outputs an object that can be used to create the dummy variables using the predict method."
   ]
  },
  {
   "cell_type": "code",
   "execution_count": 118,
   "metadata": {},
   "outputs": [
    {
     "data": {
      "text/html": [
       "<table class=\"dataframe\">\n",
       "<caption>A data.frame: 6 × 3</caption>\n",
       "<thead>\n",
       "\t<tr><th></th><th scope=col>InternetServiceDSL</th><th scope=col>InternetServiceFiber.optic</th><th scope=col>InternetServiceNo</th></tr>\n",
       "\t<tr><th></th><th scope=col>&lt;dbl&gt;</th><th scope=col>&lt;dbl&gt;</th><th scope=col>&lt;dbl&gt;</th></tr>\n",
       "</thead>\n",
       "<tbody>\n",
       "\t<tr><th scope=row>1</th><td>0</td><td>0</td><td>1</td></tr>\n",
       "\t<tr><th scope=row>2</th><td>0</td><td>1</td><td>0</td></tr>\n",
       "\t<tr><th scope=row>3</th><td>0</td><td>1</td><td>0</td></tr>\n",
       "\t<tr><th scope=row>4</th><td>1</td><td>0</td><td>0</td></tr>\n",
       "\t<tr><th scope=row>5</th><td>1</td><td>0</td><td>0</td></tr>\n",
       "\t<tr><th scope=row>6</th><td>1</td><td>0</td><td>0</td></tr>\n",
       "</tbody>\n",
       "</table>\n"
      ],
      "text/latex": [
       "A data.frame: 6 × 3\n",
       "\\begin{tabular}{r|lll}\n",
       "  & InternetServiceDSL & InternetServiceFiber.optic & InternetServiceNo\\\\\n",
       "  & <dbl> & <dbl> & <dbl>\\\\\n",
       "\\hline\n",
       "\t1 & 0 & 0 & 1\\\\\n",
       "\t2 & 0 & 1 & 0\\\\\n",
       "\t3 & 0 & 1 & 0\\\\\n",
       "\t4 & 1 & 0 & 0\\\\\n",
       "\t5 & 1 & 0 & 0\\\\\n",
       "\t6 & 1 & 0 & 0\\\\\n",
       "\\end{tabular}\n"
      ],
      "text/markdown": [
       "\n",
       "A data.frame: 6 × 3\n",
       "\n",
       "| <!--/--> | InternetServiceDSL &lt;dbl&gt; | InternetServiceFiber.optic &lt;dbl&gt; | InternetServiceNo &lt;dbl&gt; |\n",
       "|---|---|---|---|\n",
       "| 1 | 0 | 0 | 1 |\n",
       "| 2 | 0 | 1 | 0 |\n",
       "| 3 | 0 | 1 | 0 |\n",
       "| 4 | 1 | 0 | 0 |\n",
       "| 5 | 1 | 0 | 0 |\n",
       "| 6 | 1 | 0 | 0 |\n",
       "\n"
      ],
      "text/plain": [
       "  InternetServiceDSL InternetServiceFiber.optic InternetServiceNo\n",
       "1 0                  0                          1                \n",
       "2 0                  1                          0                \n",
       "3 0                  1                          0                \n",
       "4 1                  0                          0                \n",
       "5 1                  0                          0                \n",
       "6 1                  0                          0                "
      ]
     },
     "metadata": {},
     "output_type": "display_data"
    }
   ],
   "source": [
    "library(caret)\n",
    "\n",
    "churn_data <- read.csv(\"data/telecom_users.csv\")\n",
    "\n",
    "dummy <- dummyVars(\" ~ InternetService\", data = churn_data)\n",
    "new_df <- data.frame(predict(dummy, newdata = churn_data)) # precit dummy variables and\n",
    "new_df %>% head()"
   ]
  },
  {
   "cell_type": "markdown",
   "metadata": {},
   "source": [
    "If you want create dummy variables for all categoriacal columns just use `\" ~ .\"` formula."
   ]
  },
  {
   "cell_type": "code",
   "execution_count": 113,
   "metadata": {},
   "outputs": [
    {
     "data": {
      "text/html": [
       "<table class=\"dataframe\">\n",
       "<caption>A data.frame: 6 × 7560</caption>\n",
       "<thead>\n",
       "\t<tr><th></th><th scope=col>X</th><th scope=col>customerID0002.ORFBO</th><th scope=col>customerID0003.MKNFE</th><th scope=col>customerID0004.TLHLJ</th><th scope=col>customerID0011.IGKFF</th><th scope=col>customerID0013.EXCHZ</th><th scope=col>customerID0013.MHZWF</th><th scope=col>customerID0013.SMEOE</th><th scope=col>customerID0014.BMAQU</th><th scope=col>customerID0015.UOCOJ</th><th scope=col>⋯</th><th scope=col>MonthlyCharges99.8</th><th scope=col>MonthlyCharges99.85</th><th scope=col>MonthlyCharges99.9</th><th scope=col>MonthlyCharges99.95</th><th scope=col>MonthlyChargesNULL</th><th scope=col>TotalCharges</th><th scope=col>ChurnNo</th><th scope=col>ChurnYes</th><th scope=col>Male</th><th scope=col>Female</th></tr>\n",
       "\t<tr><th></th><th scope=col>&lt;dbl&gt;</th><th scope=col>&lt;dbl&gt;</th><th scope=col>&lt;dbl&gt;</th><th scope=col>&lt;dbl&gt;</th><th scope=col>&lt;dbl&gt;</th><th scope=col>&lt;dbl&gt;</th><th scope=col>&lt;dbl&gt;</th><th scope=col>&lt;dbl&gt;</th><th scope=col>&lt;dbl&gt;</th><th scope=col>&lt;dbl&gt;</th><th scope=col>⋯</th><th scope=col>&lt;dbl&gt;</th><th scope=col>&lt;dbl&gt;</th><th scope=col>&lt;dbl&gt;</th><th scope=col>&lt;dbl&gt;</th><th scope=col>&lt;dbl&gt;</th><th scope=col>&lt;dbl&gt;</th><th scope=col>&lt;dbl&gt;</th><th scope=col>&lt;dbl&gt;</th><th scope=col>&lt;dbl&gt;</th><th scope=col>&lt;dbl&gt;</th></tr>\n",
       "</thead>\n",
       "<tbody>\n",
       "\t<tr><th scope=row>1</th><td>1869</td><td>0</td><td>0</td><td>0</td><td>0</td><td>0</td><td>0</td><td>0</td><td>0</td><td>0</td><td>⋯</td><td>0</td><td>0</td><td>0</td><td>0</td><td>0</td><td>1734.65</td><td>1</td><td>0</td><td>1</td><td>0</td></tr>\n",
       "\t<tr><th scope=row>2</th><td>4528</td><td>0</td><td>0</td><td>0</td><td>0</td><td>0</td><td>0</td><td>0</td><td>0</td><td>0</td><td>⋯</td><td>0</td><td>0</td><td>0</td><td>0</td><td>0</td><td>3973.20</td><td>1</td><td>0</td><td>0</td><td>1</td></tr>\n",
       "\t<tr><th scope=row>3</th><td>6344</td><td>0</td><td>0</td><td>0</td><td>0</td><td>0</td><td>0</td><td>0</td><td>0</td><td>0</td><td>⋯</td><td>0</td><td>0</td><td>0</td><td>0</td><td>0</td><td>2869.85</td><td>0</td><td>1</td><td>0</td><td>1</td></tr>\n",
       "\t<tr><th scope=row>4</th><td>6739</td><td>0</td><td>0</td><td>0</td><td>0</td><td>0</td><td>0</td><td>0</td><td>0</td><td>0</td><td>⋯</td><td>0</td><td>0</td><td>0</td><td>0</td><td>0</td><td> 238.50</td><td>1</td><td>0</td><td>1</td><td>0</td></tr>\n",
       "\t<tr><th scope=row>5</th><td> 432</td><td>0</td><td>0</td><td>0</td><td>0</td><td>0</td><td>0</td><td>0</td><td>0</td><td>0</td><td>⋯</td><td>0</td><td>0</td><td>0</td><td>0</td><td>0</td><td> 119.50</td><td>1</td><td>0</td><td>1</td><td>0</td></tr>\n",
       "\t<tr><th scope=row>6</th><td>2215</td><td>0</td><td>0</td><td>0</td><td>0</td><td>0</td><td>0</td><td>0</td><td>0</td><td>0</td><td>⋯</td><td>0</td><td>0</td><td>0</td><td>0</td><td>0</td><td>3370.20</td><td>1</td><td>0</td><td>0</td><td>1</td></tr>\n",
       "</tbody>\n",
       "</table>\n"
      ],
      "text/latex": [
       "A data.frame: 6 × 7560\n",
       "\\begin{tabular}{r|lllllllllllllllllllll}\n",
       "  & X & customerID0002.ORFBO & customerID0003.MKNFE & customerID0004.TLHLJ & customerID0011.IGKFF & customerID0013.EXCHZ & customerID0013.MHZWF & customerID0013.SMEOE & customerID0014.BMAQU & customerID0015.UOCOJ & ⋯ & MonthlyCharges99.8 & MonthlyCharges99.85 & MonthlyCharges99.9 & MonthlyCharges99.95 & MonthlyChargesNULL & TotalCharges & ChurnNo & ChurnYes & Male & Female\\\\\n",
       "  & <dbl> & <dbl> & <dbl> & <dbl> & <dbl> & <dbl> & <dbl> & <dbl> & <dbl> & <dbl> & ⋯ & <dbl> & <dbl> & <dbl> & <dbl> & <dbl> & <dbl> & <dbl> & <dbl> & <dbl> & <dbl>\\\\\n",
       "\\hline\n",
       "\t1 & 1869 & 0 & 0 & 0 & 0 & 0 & 0 & 0 & 0 & 0 & ⋯ & 0 & 0 & 0 & 0 & 0 & 1734.65 & 1 & 0 & 1 & 0\\\\\n",
       "\t2 & 4528 & 0 & 0 & 0 & 0 & 0 & 0 & 0 & 0 & 0 & ⋯ & 0 & 0 & 0 & 0 & 0 & 3973.20 & 1 & 0 & 0 & 1\\\\\n",
       "\t3 & 6344 & 0 & 0 & 0 & 0 & 0 & 0 & 0 & 0 & 0 & ⋯ & 0 & 0 & 0 & 0 & 0 & 2869.85 & 0 & 1 & 0 & 1\\\\\n",
       "\t4 & 6739 & 0 & 0 & 0 & 0 & 0 & 0 & 0 & 0 & 0 & ⋯ & 0 & 0 & 0 & 0 & 0 &  238.50 & 1 & 0 & 1 & 0\\\\\n",
       "\t5 &  432 & 0 & 0 & 0 & 0 & 0 & 0 & 0 & 0 & 0 & ⋯ & 0 & 0 & 0 & 0 & 0 &  119.50 & 1 & 0 & 1 & 0\\\\\n",
       "\t6 & 2215 & 0 & 0 & 0 & 0 & 0 & 0 & 0 & 0 & 0 & ⋯ & 0 & 0 & 0 & 0 & 0 & 3370.20 & 1 & 0 & 0 & 1\\\\\n",
       "\\end{tabular}\n"
      ],
      "text/markdown": [
       "\n",
       "A data.frame: 6 × 7560\n",
       "\n",
       "| <!--/--> | X &lt;dbl&gt; | customerID0002.ORFBO &lt;dbl&gt; | customerID0003.MKNFE &lt;dbl&gt; | customerID0004.TLHLJ &lt;dbl&gt; | customerID0011.IGKFF &lt;dbl&gt; | customerID0013.EXCHZ &lt;dbl&gt; | customerID0013.MHZWF &lt;dbl&gt; | customerID0013.SMEOE &lt;dbl&gt; | customerID0014.BMAQU &lt;dbl&gt; | customerID0015.UOCOJ &lt;dbl&gt; | ⋯ ⋯ | MonthlyCharges99.8 &lt;dbl&gt; | MonthlyCharges99.85 &lt;dbl&gt; | MonthlyCharges99.9 &lt;dbl&gt; | MonthlyCharges99.95 &lt;dbl&gt; | MonthlyChargesNULL &lt;dbl&gt; | TotalCharges &lt;dbl&gt; | ChurnNo &lt;dbl&gt; | ChurnYes &lt;dbl&gt; | Male &lt;dbl&gt; | Female &lt;dbl&gt; |\n",
       "|---|---|---|---|---|---|---|---|---|---|---|---|---|---|---|---|---|---|---|---|---|---|\n",
       "| 1 | 1869 | 0 | 0 | 0 | 0 | 0 | 0 | 0 | 0 | 0 | ⋯ | 0 | 0 | 0 | 0 | 0 | 1734.65 | 1 | 0 | 1 | 0 |\n",
       "| 2 | 4528 | 0 | 0 | 0 | 0 | 0 | 0 | 0 | 0 | 0 | ⋯ | 0 | 0 | 0 | 0 | 0 | 3973.20 | 1 | 0 | 0 | 1 |\n",
       "| 3 | 6344 | 0 | 0 | 0 | 0 | 0 | 0 | 0 | 0 | 0 | ⋯ | 0 | 0 | 0 | 0 | 0 | 2869.85 | 0 | 1 | 0 | 1 |\n",
       "| 4 | 6739 | 0 | 0 | 0 | 0 | 0 | 0 | 0 | 0 | 0 | ⋯ | 0 | 0 | 0 | 0 | 0 |  238.50 | 1 | 0 | 1 | 0 |\n",
       "| 5 |  432 | 0 | 0 | 0 | 0 | 0 | 0 | 0 | 0 | 0 | ⋯ | 0 | 0 | 0 | 0 | 0 |  119.50 | 1 | 0 | 1 | 0 |\n",
       "| 6 | 2215 | 0 | 0 | 0 | 0 | 0 | 0 | 0 | 0 | 0 | ⋯ | 0 | 0 | 0 | 0 | 0 | 3370.20 | 1 | 0 | 0 | 1 |\n",
       "\n"
      ],
      "text/plain": [
       "  X    customerID0002.ORFBO customerID0003.MKNFE customerID0004.TLHLJ\n",
       "1 1869 0                    0                    0                   \n",
       "2 4528 0                    0                    0                   \n",
       "3 6344 0                    0                    0                   \n",
       "4 6739 0                    0                    0                   \n",
       "5  432 0                    0                    0                   \n",
       "6 2215 0                    0                    0                   \n",
       "  customerID0011.IGKFF customerID0013.EXCHZ customerID0013.MHZWF\n",
       "1 0                    0                    0                   \n",
       "2 0                    0                    0                   \n",
       "3 0                    0                    0                   \n",
       "4 0                    0                    0                   \n",
       "5 0                    0                    0                   \n",
       "6 0                    0                    0                   \n",
       "  customerID0013.SMEOE customerID0014.BMAQU customerID0015.UOCOJ ⋯\n",
       "1 0                    0                    0                    ⋯\n",
       "2 0                    0                    0                    ⋯\n",
       "3 0                    0                    0                    ⋯\n",
       "4 0                    0                    0                    ⋯\n",
       "5 0                    0                    0                    ⋯\n",
       "6 0                    0                    0                    ⋯\n",
       "  MonthlyCharges99.8 MonthlyCharges99.85 MonthlyCharges99.9 MonthlyCharges99.95\n",
       "1 0                  0                   0                  0                  \n",
       "2 0                  0                   0                  0                  \n",
       "3 0                  0                   0                  0                  \n",
       "4 0                  0                   0                  0                  \n",
       "5 0                  0                   0                  0                  \n",
       "6 0                  0                   0                  0                  \n",
       "  MonthlyChargesNULL TotalCharges ChurnNo ChurnYes Male Female\n",
       "1 0                  1734.65      1       0        1    0     \n",
       "2 0                  3973.20      1       0        0    1     \n",
       "3 0                  2869.85      0       1        0    1     \n",
       "4 0                   238.50      1       0        1    0     \n",
       "5 0                   119.50      1       0        1    0     \n",
       "6 0                  3370.20      1       0        0    1     "
      ]
     },
     "metadata": {},
     "output_type": "display_data"
    }
   ],
   "source": [
    "dummy <- dummyVars(\" ~ .\", data = churn_data)\n",
    "new_df <- data.frame(predict(dummy, newdata = churn_data)) # precit dummy variables and\n",
    "new_df %>% head()"
   ]
  },
  {
   "cell_type": "markdown",
   "metadata": {},
   "source": [
    "You can remove some variables, for example Churn, becouse its target variable"
   ]
  },
  {
   "cell_type": "code",
   "execution_count": 46,
   "metadata": {},
   "outputs": [
    {
     "data": {
      "text/html": [
       "<table class=\"dataframe\">\n",
       "<caption>A data.frame: 6 × 7560</caption>\n",
       "<thead>\n",
       "\t<tr><th></th><th scope=col>X</th><th scope=col>customerID0002.ORFBO</th><th scope=col>customerID0003.MKNFE</th><th scope=col>customerID0004.TLHLJ</th><th scope=col>customerID0011.IGKFF</th><th scope=col>customerID0013.EXCHZ</th><th scope=col>customerID0013.MHZWF</th><th scope=col>customerID0013.SMEOE</th><th scope=col>customerID0014.BMAQU</th><th scope=col>customerID0015.UOCOJ</th><th scope=col>...</th><th scope=col>MonthlyCharges99.7</th><th scope=col>MonthlyCharges99.75</th><th scope=col>MonthlyCharges99.8</th><th scope=col>MonthlyCharges99.85</th><th scope=col>MonthlyCharges99.9</th><th scope=col>MonthlyCharges99.95</th><th scope=col>MonthlyChargesNULL</th><th scope=col>TotalCharges</th><th scope=col>Male</th><th scope=col>Female</th></tr>\n",
       "\t<tr><th></th><th scope=col>&lt;dbl&gt;</th><th scope=col>&lt;dbl&gt;</th><th scope=col>&lt;dbl&gt;</th><th scope=col>&lt;dbl&gt;</th><th scope=col>&lt;dbl&gt;</th><th scope=col>&lt;dbl&gt;</th><th scope=col>&lt;dbl&gt;</th><th scope=col>&lt;dbl&gt;</th><th scope=col>&lt;dbl&gt;</th><th scope=col>&lt;dbl&gt;</th><th scope=col>...</th><th scope=col>&lt;dbl&gt;</th><th scope=col>&lt;dbl&gt;</th><th scope=col>&lt;dbl&gt;</th><th scope=col>&lt;dbl&gt;</th><th scope=col>&lt;dbl&gt;</th><th scope=col>&lt;dbl&gt;</th><th scope=col>&lt;dbl&gt;</th><th scope=col>&lt;dbl&gt;</th><th scope=col>&lt;dbl&gt;</th><th scope=col>&lt;dbl&gt;</th></tr>\n",
       "</thead>\n",
       "<tbody>\n",
       "\t<tr><th scope=row>1</th><td>1869</td><td>0</td><td>0</td><td>0</td><td>0</td><td>0</td><td>0</td><td>0</td><td>0</td><td>0</td><td>...</td><td>0</td><td>0</td><td>0</td><td>0</td><td>0</td><td>0</td><td>0</td><td>1734.65</td><td>1</td><td>0</td></tr>\n",
       "\t<tr><th scope=row>2</th><td>4528</td><td>0</td><td>0</td><td>0</td><td>0</td><td>0</td><td>0</td><td>0</td><td>0</td><td>0</td><td>...</td><td>0</td><td>0</td><td>0</td><td>0</td><td>0</td><td>0</td><td>0</td><td>3973.20</td><td>0</td><td>1</td></tr>\n",
       "\t<tr><th scope=row>3</th><td>6344</td><td>0</td><td>0</td><td>0</td><td>0</td><td>0</td><td>0</td><td>0</td><td>0</td><td>0</td><td>...</td><td>0</td><td>0</td><td>0</td><td>0</td><td>0</td><td>0</td><td>0</td><td>2869.85</td><td>0</td><td>1</td></tr>\n",
       "\t<tr><th scope=row>4</th><td>6739</td><td>0</td><td>0</td><td>0</td><td>0</td><td>0</td><td>0</td><td>0</td><td>0</td><td>0</td><td>...</td><td>0</td><td>0</td><td>0</td><td>0</td><td>0</td><td>0</td><td>0</td><td> 238.50</td><td>1</td><td>0</td></tr>\n",
       "\t<tr><th scope=row>5</th><td> 432</td><td>0</td><td>0</td><td>0</td><td>0</td><td>0</td><td>0</td><td>0</td><td>0</td><td>0</td><td>...</td><td>0</td><td>0</td><td>0</td><td>0</td><td>0</td><td>0</td><td>0</td><td> 119.50</td><td>1</td><td>0</td></tr>\n",
       "\t<tr><th scope=row>6</th><td>2215</td><td>0</td><td>0</td><td>0</td><td>0</td><td>0</td><td>0</td><td>0</td><td>0</td><td>0</td><td>...</td><td>0</td><td>0</td><td>0</td><td>0</td><td>0</td><td>0</td><td>0</td><td>3370.20</td><td>0</td><td>1</td></tr>\n",
       "</tbody>\n",
       "</table>\n"
      ],
      "text/latex": [
       "A data.frame: 6 × 7560\n",
       "\\begin{tabular}{r|lllllllllllllllllllll}\n",
       "  & X & customerID0002.ORFBO & customerID0003.MKNFE & customerID0004.TLHLJ & customerID0011.IGKFF & customerID0013.EXCHZ & customerID0013.MHZWF & customerID0013.SMEOE & customerID0014.BMAQU & customerID0015.UOCOJ & ... & MonthlyCharges99.7 & MonthlyCharges99.75 & MonthlyCharges99.8 & MonthlyCharges99.85 & MonthlyCharges99.9 & MonthlyCharges99.95 & MonthlyChargesNULL & TotalCharges & Male & Female\\\\\n",
       "  & <dbl> & <dbl> & <dbl> & <dbl> & <dbl> & <dbl> & <dbl> & <dbl> & <dbl> & <dbl> & ... & <dbl> & <dbl> & <dbl> & <dbl> & <dbl> & <dbl> & <dbl> & <dbl> & <dbl> & <dbl>\\\\\n",
       "\\hline\n",
       "\t1 & 1869 & 0 & 0 & 0 & 0 & 0 & 0 & 0 & 0 & 0 & ... & 0 & 0 & 0 & 0 & 0 & 0 & 0 & 1734.65 & 1 & 0\\\\\n",
       "\t2 & 4528 & 0 & 0 & 0 & 0 & 0 & 0 & 0 & 0 & 0 & ... & 0 & 0 & 0 & 0 & 0 & 0 & 0 & 3973.20 & 0 & 1\\\\\n",
       "\t3 & 6344 & 0 & 0 & 0 & 0 & 0 & 0 & 0 & 0 & 0 & ... & 0 & 0 & 0 & 0 & 0 & 0 & 0 & 2869.85 & 0 & 1\\\\\n",
       "\t4 & 6739 & 0 & 0 & 0 & 0 & 0 & 0 & 0 & 0 & 0 & ... & 0 & 0 & 0 & 0 & 0 & 0 & 0 &  238.50 & 1 & 0\\\\\n",
       "\t5 &  432 & 0 & 0 & 0 & 0 & 0 & 0 & 0 & 0 & 0 & ... & 0 & 0 & 0 & 0 & 0 & 0 & 0 &  119.50 & 1 & 0\\\\\n",
       "\t6 & 2215 & 0 & 0 & 0 & 0 & 0 & 0 & 0 & 0 & 0 & ... & 0 & 0 & 0 & 0 & 0 & 0 & 0 & 3370.20 & 0 & 1\\\\\n",
       "\\end{tabular}\n"
      ],
      "text/markdown": [
       "\n",
       "A data.frame: 6 × 7560\n",
       "\n",
       "| <!--/--> | X &lt;dbl&gt; | customerID0002.ORFBO &lt;dbl&gt; | customerID0003.MKNFE &lt;dbl&gt; | customerID0004.TLHLJ &lt;dbl&gt; | customerID0011.IGKFF &lt;dbl&gt; | customerID0013.EXCHZ &lt;dbl&gt; | customerID0013.MHZWF &lt;dbl&gt; | customerID0013.SMEOE &lt;dbl&gt; | customerID0014.BMAQU &lt;dbl&gt; | customerID0015.UOCOJ &lt;dbl&gt; | ... ... | MonthlyCharges99.7 &lt;dbl&gt; | MonthlyCharges99.75 &lt;dbl&gt; | MonthlyCharges99.8 &lt;dbl&gt; | MonthlyCharges99.85 &lt;dbl&gt; | MonthlyCharges99.9 &lt;dbl&gt; | MonthlyCharges99.95 &lt;dbl&gt; | MonthlyChargesNULL &lt;dbl&gt; | TotalCharges &lt;dbl&gt; | Male &lt;dbl&gt; | Female &lt;dbl&gt; |\n",
       "|---|---|---|---|---|---|---|---|---|---|---|---|---|---|---|---|---|---|---|---|---|---|\n",
       "| 1 | 1869 | 0 | 0 | 0 | 0 | 0 | 0 | 0 | 0 | 0 | ... | 0 | 0 | 0 | 0 | 0 | 0 | 0 | 1734.65 | 1 | 0 |\n",
       "| 2 | 4528 | 0 | 0 | 0 | 0 | 0 | 0 | 0 | 0 | 0 | ... | 0 | 0 | 0 | 0 | 0 | 0 | 0 | 3973.20 | 0 | 1 |\n",
       "| 3 | 6344 | 0 | 0 | 0 | 0 | 0 | 0 | 0 | 0 | 0 | ... | 0 | 0 | 0 | 0 | 0 | 0 | 0 | 2869.85 | 0 | 1 |\n",
       "| 4 | 6739 | 0 | 0 | 0 | 0 | 0 | 0 | 0 | 0 | 0 | ... | 0 | 0 | 0 | 0 | 0 | 0 | 0 |  238.50 | 1 | 0 |\n",
       "| 5 |  432 | 0 | 0 | 0 | 0 | 0 | 0 | 0 | 0 | 0 | ... | 0 | 0 | 0 | 0 | 0 | 0 | 0 |  119.50 | 1 | 0 |\n",
       "| 6 | 2215 | 0 | 0 | 0 | 0 | 0 | 0 | 0 | 0 | 0 | ... | 0 | 0 | 0 | 0 | 0 | 0 | 0 | 3370.20 | 0 | 1 |\n",
       "\n"
      ],
      "text/plain": [
       "  X    customerID0002.ORFBO customerID0003.MKNFE customerID0004.TLHLJ\n",
       "1 1869 0                    0                    0                   \n",
       "2 4528 0                    0                    0                   \n",
       "3 6344 0                    0                    0                   \n",
       "4 6739 0                    0                    0                   \n",
       "5  432 0                    0                    0                   \n",
       "6 2215 0                    0                    0                   \n",
       "  customerID0011.IGKFF customerID0013.EXCHZ customerID0013.MHZWF\n",
       "1 0                    0                    0                   \n",
       "2 0                    0                    0                   \n",
       "3 0                    0                    0                   \n",
       "4 0                    0                    0                   \n",
       "5 0                    0                    0                   \n",
       "6 0                    0                    0                   \n",
       "  customerID0013.SMEOE customerID0014.BMAQU customerID0015.UOCOJ ...\n",
       "1 0                    0                    0                    ...\n",
       "2 0                    0                    0                    ...\n",
       "3 0                    0                    0                    ...\n",
       "4 0                    0                    0                    ...\n",
       "5 0                    0                    0                    ...\n",
       "6 0                    0                    0                    ...\n",
       "  MonthlyCharges99.7 MonthlyCharges99.75 MonthlyCharges99.8 MonthlyCharges99.85\n",
       "1 0                  0                   0                  0                  \n",
       "2 0                  0                   0                  0                  \n",
       "3 0                  0                   0                  0                  \n",
       "4 0                  0                   0                  0                  \n",
       "5 0                  0                   0                  0                  \n",
       "6 0                  0                   0                  0                  \n",
       "  MonthlyCharges99.9 MonthlyCharges99.95 MonthlyChargesNULL TotalCharges Male\n",
       "1 0                  0                   0                  1734.65      1   \n",
       "2 0                  0                   0                  3973.20      0   \n",
       "3 0                  0                   0                  2869.85      0   \n",
       "4 0                  0                   0                   238.50      1   \n",
       "5 0                  0                   0                   119.50      1   \n",
       "6 0                  0                   0                  3370.20      0   \n",
       "  Female\n",
       "1 0     \n",
       "2 1     \n",
       "3 1     \n",
       "4 0     \n",
       "5 0     \n",
       "6 1     "
      ]
     },
     "metadata": {},
     "output_type": "display_data"
    }
   ],
   "source": [
    "dummy <- dummyVars(\" ~. -Churn\", data = churn_data)\n",
    "new_df <- data.frame(predict(dummy, newdata = churn_data)) # precit dummy variables and\n",
    "new_df %>% head()"
   ]
  },
  {
   "cell_type": "markdown",
   "metadata": {},
   "source": [
    "If you need some few do this with + operator:"
   ]
  },
  {
   "cell_type": "code",
   "execution_count": 47,
   "metadata": {},
   "outputs": [
    {
     "data": {
      "text/html": [
       "<table class=\"dataframe\">\n",
       "<caption>A data.frame: 6 × 5</caption>\n",
       "<thead>\n",
       "\t<tr><th></th><th scope=col>InternetServiceDSL</th><th scope=col>InternetServiceFiber.optic</th><th scope=col>InternetServiceNo</th><th scope=col>PhoneServiceNo</th><th scope=col>PhoneServiceYes</th></tr>\n",
       "\t<tr><th></th><th scope=col>&lt;dbl&gt;</th><th scope=col>&lt;dbl&gt;</th><th scope=col>&lt;dbl&gt;</th><th scope=col>&lt;dbl&gt;</th><th scope=col>&lt;dbl&gt;</th></tr>\n",
       "</thead>\n",
       "<tbody>\n",
       "\t<tr><th scope=row>1</th><td>0</td><td>0</td><td>1</td><td>0</td><td>1</td></tr>\n",
       "\t<tr><th scope=row>2</th><td>0</td><td>1</td><td>0</td><td>0</td><td>1</td></tr>\n",
       "\t<tr><th scope=row>3</th><td>0</td><td>1</td><td>0</td><td>0</td><td>1</td></tr>\n",
       "\t<tr><th scope=row>4</th><td>1</td><td>0</td><td>0</td><td>0</td><td>1</td></tr>\n",
       "\t<tr><th scope=row>5</th><td>1</td><td>0</td><td>0</td><td>0</td><td>1</td></tr>\n",
       "\t<tr><th scope=row>6</th><td>1</td><td>0</td><td>0</td><td>1</td><td>0</td></tr>\n",
       "</tbody>\n",
       "</table>\n"
      ],
      "text/latex": [
       "A data.frame: 6 × 5\n",
       "\\begin{tabular}{r|lllll}\n",
       "  & InternetServiceDSL & InternetServiceFiber.optic & InternetServiceNo & PhoneServiceNo & PhoneServiceYes\\\\\n",
       "  & <dbl> & <dbl> & <dbl> & <dbl> & <dbl>\\\\\n",
       "\\hline\n",
       "\t1 & 0 & 0 & 1 & 0 & 1\\\\\n",
       "\t2 & 0 & 1 & 0 & 0 & 1\\\\\n",
       "\t3 & 0 & 1 & 0 & 0 & 1\\\\\n",
       "\t4 & 1 & 0 & 0 & 0 & 1\\\\\n",
       "\t5 & 1 & 0 & 0 & 0 & 1\\\\\n",
       "\t6 & 1 & 0 & 0 & 1 & 0\\\\\n",
       "\\end{tabular}\n"
      ],
      "text/markdown": [
       "\n",
       "A data.frame: 6 × 5\n",
       "\n",
       "| <!--/--> | InternetServiceDSL &lt;dbl&gt; | InternetServiceFiber.optic &lt;dbl&gt; | InternetServiceNo &lt;dbl&gt; | PhoneServiceNo &lt;dbl&gt; | PhoneServiceYes &lt;dbl&gt; |\n",
       "|---|---|---|---|---|---|\n",
       "| 1 | 0 | 0 | 1 | 0 | 1 |\n",
       "| 2 | 0 | 1 | 0 | 0 | 1 |\n",
       "| 3 | 0 | 1 | 0 | 0 | 1 |\n",
       "| 4 | 1 | 0 | 0 | 0 | 1 |\n",
       "| 5 | 1 | 0 | 0 | 0 | 1 |\n",
       "| 6 | 1 | 0 | 0 | 1 | 0 |\n",
       "\n"
      ],
      "text/plain": [
       "  InternetServiceDSL InternetServiceFiber.optic InternetServiceNo\n",
       "1 0                  0                          1                \n",
       "2 0                  1                          0                \n",
       "3 0                  1                          0                \n",
       "4 1                  0                          0                \n",
       "5 1                  0                          0                \n",
       "6 1                  0                          0                \n",
       "  PhoneServiceNo PhoneServiceYes\n",
       "1 0              1              \n",
       "2 0              1              \n",
       "3 0              1              \n",
       "4 0              1              \n",
       "5 0              1              \n",
       "6 1              0              "
      ]
     },
     "metadata": {},
     "output_type": "display_data"
    }
   ],
   "source": [
    "dummy <- dummyVars(\" ~ InternetService + PhoneService\", data = churn_data)\n",
    "new_df <- data.frame(predict(dummy, newdata = churn_data)) # precit dummy variables and\n",
    "new_df %>% head()"
   ]
  },
  {
   "cell_type": "markdown",
   "metadata": {},
   "source": [
    "## 3.3. Evaluate data on raw dataset"
   ]
  },
  {
   "cell_type": "markdown",
   "metadata": {},
   "source": [
    "Previous data transformation approaches use prepared datasets. But sometimes you should create new variables from raw data than cannot be attached to you existing dataset and implemented as-is for modeling.\n",
    "\n",
    "Lest check an example with customer transactions data."
   ]
  },
  {
   "cell_type": "markdown",
   "metadata": {},
   "source": [
    "<div class=\"alert alert-info\">Preview data file in  excel before read it to R!</div>"
   ]
  },
  {
   "cell_type": "code",
   "execution_count": 48,
   "metadata": {},
   "outputs": [
    {
     "name": "stderr",
     "output_type": "stream",
     "text": [
      "Warning message:\n",
      "\"package 'xlsx' was built under R version 4.1.0\"\n"
     ]
    },
    {
     "data": {
      "text/html": [
       "<table class=\"dataframe\">\n",
       "<caption>A data.frame: 4 × 4</caption>\n",
       "<thead>\n",
       "\t<tr><th></th><th scope=col>CustomerID</th><th scope=col>Gender</th><th scope=col>Email</th><th scope=col>VisitsLastYear</th></tr>\n",
       "\t<tr><th></th><th scope=col>&lt;dbl&gt;</th><th scope=col>&lt;chr&gt;</th><th scope=col>&lt;chr&gt;</th><th scope=col>&lt;dbl&gt;</th></tr>\n",
       "</thead>\n",
       "<tbody>\n",
       "\t<tr><th scope=row>1</th><td>787987456</td><td>Male  </td><td>Yes </td><td>12</td></tr>\n",
       "\t<tr><th scope=row>2</th><td>456415151</td><td>Male  </td><td>NULL</td><td> 0</td></tr>\n",
       "\t<tr><th scope=row>3</th><td>215454555</td><td>Female</td><td>No  </td><td>16</td></tr>\n",
       "\t<tr><th scope=row>4</th><td>985121122</td><td>Female</td><td>No  </td><td> 4</td></tr>\n",
       "</tbody>\n",
       "</table>\n"
      ],
      "text/latex": [
       "A data.frame: 4 × 4\n",
       "\\begin{tabular}{r|llll}\n",
       "  & CustomerID & Gender & Email & VisitsLastYear\\\\\n",
       "  & <dbl> & <chr> & <chr> & <dbl>\\\\\n",
       "\\hline\n",
       "\t1 & 787987456 & Male   & Yes  & 12\\\\\n",
       "\t2 & 456415151 & Male   & NULL &  0\\\\\n",
       "\t3 & 215454555 & Female & No   & 16\\\\\n",
       "\t4 & 985121122 & Female & No   &  4\\\\\n",
       "\\end{tabular}\n"
      ],
      "text/markdown": [
       "\n",
       "A data.frame: 4 × 4\n",
       "\n",
       "| <!--/--> | CustomerID &lt;dbl&gt; | Gender &lt;chr&gt; | Email &lt;chr&gt; | VisitsLastYear &lt;dbl&gt; |\n",
       "|---|---|---|---|---|\n",
       "| 1 | 787987456 | Male   | Yes  | 12 |\n",
       "| 2 | 456415151 | Male   | NULL |  0 |\n",
       "| 3 | 215454555 | Female | No   | 16 |\n",
       "| 4 | 985121122 | Female | No   |  4 |\n",
       "\n"
      ],
      "text/plain": [
       "  CustomerID Gender Email VisitsLastYear\n",
       "1 787987456  Male   Yes   12            \n",
       "2 456415151  Male   NULL   0            \n",
       "3 215454555  Female No    16            \n",
       "4 985121122  Female No     4            "
      ]
     },
     "metadata": {},
     "output_type": "display_data"
    }
   ],
   "source": [
    "# read transaction data from dataset\n",
    "# explore file in Excel before reading to check sheet numbers and tables structure\n",
    "library(xlsx)\n",
    "demographics <- read.xlsx(\"data/transactions.xlsx\", sheetIndex = 1)\n",
    "head(demographics)"
   ]
  },
  {
   "cell_type": "code",
   "execution_count": 49,
   "metadata": {},
   "outputs": [
    {
     "data": {
      "text/html": [
       "<table class=\"dataframe\">\n",
       "<caption>A data.frame: 6 × 7</caption>\n",
       "<thead>\n",
       "\t<tr><th></th><th scope=col>CustomerID</th><th scope=col>ContractID</th><th scope=col>Date</th><th scope=col>Time</th><th scope=col>ContractorID</th><th scope=col>UsdEquiv_sum</th><th scope=col>Type</th></tr>\n",
       "\t<tr><th></th><th scope=col>&lt;dbl&gt;</th><th scope=col>&lt;dbl&gt;</th><th scope=col>&lt;date&gt;</th><th scope=col>&lt;dbl&gt;</th><th scope=col>&lt;chr&gt;</th><th scope=col>&lt;dbl&gt;</th><th scope=col>&lt;chr&gt;</th></tr>\n",
       "</thead>\n",
       "<tbody>\n",
       "\t<tr><th scope=row>1</th><td>215454555</td><td>19065798</td><td>2019-03-15</td><td>114537</td><td>NULL</td><td>  6293.7111</td><td>credet</td></tr>\n",
       "\t<tr><th scope=row>2</th><td>215454555</td><td>19065798</td><td>2019-04-05</td><td>102525</td><td>NULL</td><td>   914.9459</td><td>credet</td></tr>\n",
       "\t<tr><th scope=row>3</th><td>215454555</td><td>19065798</td><td>2019-05-11</td><td> 80833</td><td>NULL</td><td> -4655.9111</td><td>debet </td></tr>\n",
       "\t<tr><th scope=row>4</th><td>215454555</td><td>19065798</td><td>2019-05-16</td><td> 74606</td><td>NULL</td><td>-13900.6889</td><td>debet </td></tr>\n",
       "\t<tr><th scope=row>5</th><td>215454555</td><td>19065798</td><td>2019-05-30</td><td>104506</td><td>NULL</td><td>  2102.0570</td><td>credet</td></tr>\n",
       "\t<tr><th scope=row>6</th><td>215454555</td><td>19065798</td><td>2019-08-23</td><td>122656</td><td>NULL</td><td>-16244.2333</td><td>debet </td></tr>\n",
       "</tbody>\n",
       "</table>\n"
      ],
      "text/latex": [
       "A data.frame: 6 × 7\n",
       "\\begin{tabular}{r|lllllll}\n",
       "  & CustomerID & ContractID & Date & Time & ContractorID & UsdEquiv\\_sum & Type\\\\\n",
       "  & <dbl> & <dbl> & <date> & <dbl> & <chr> & <dbl> & <chr>\\\\\n",
       "\\hline\n",
       "\t1 & 215454555 & 19065798 & 2019-03-15 & 114537 & NULL &   6293.7111 & credet\\\\\n",
       "\t2 & 215454555 & 19065798 & 2019-04-05 & 102525 & NULL &    914.9459 & credet\\\\\n",
       "\t3 & 215454555 & 19065798 & 2019-05-11 &  80833 & NULL &  -4655.9111 & debet \\\\\n",
       "\t4 & 215454555 & 19065798 & 2019-05-16 &  74606 & NULL & -13900.6889 & debet \\\\\n",
       "\t5 & 215454555 & 19065798 & 2019-05-30 & 104506 & NULL &   2102.0570 & credet\\\\\n",
       "\t6 & 215454555 & 19065798 & 2019-08-23 & 122656 & NULL & -16244.2333 & debet \\\\\n",
       "\\end{tabular}\n"
      ],
      "text/markdown": [
       "\n",
       "A data.frame: 6 × 7\n",
       "\n",
       "| <!--/--> | CustomerID &lt;dbl&gt; | ContractID &lt;dbl&gt; | Date &lt;date&gt; | Time &lt;dbl&gt; | ContractorID &lt;chr&gt; | UsdEquiv_sum &lt;dbl&gt; | Type &lt;chr&gt; |\n",
       "|---|---|---|---|---|---|---|---|\n",
       "| 1 | 215454555 | 19065798 | 2019-03-15 | 114537 | NULL |   6293.7111 | credet |\n",
       "| 2 | 215454555 | 19065798 | 2019-04-05 | 102525 | NULL |    914.9459 | credet |\n",
       "| 3 | 215454555 | 19065798 | 2019-05-11 |  80833 | NULL |  -4655.9111 | debet  |\n",
       "| 4 | 215454555 | 19065798 | 2019-05-16 |  74606 | NULL | -13900.6889 | debet  |\n",
       "| 5 | 215454555 | 19065798 | 2019-05-30 | 104506 | NULL |   2102.0570 | credet |\n",
       "| 6 | 215454555 | 19065798 | 2019-08-23 | 122656 | NULL | -16244.2333 | debet  |\n",
       "\n"
      ],
      "text/plain": [
       "  CustomerID ContractID Date       Time   ContractorID UsdEquiv_sum Type  \n",
       "1 215454555  19065798   2019-03-15 114537 NULL           6293.7111  credet\n",
       "2 215454555  19065798   2019-04-05 102525 NULL            914.9459  credet\n",
       "3 215454555  19065798   2019-05-11  80833 NULL          -4655.9111  debet \n",
       "4 215454555  19065798   2019-05-16  74606 NULL         -13900.6889  debet \n",
       "5 215454555  19065798   2019-05-30 104506 NULL           2102.0570  credet\n",
       "6 215454555  19065798   2019-08-23 122656 NULL         -16244.2333  debet "
      ]
     },
     "metadata": {},
     "output_type": "display_data"
    }
   ],
   "source": [
    "# read transactions\n",
    "transactions <- read.xlsx(\"data/transactions.xlsx\", sheetIndex = 2)\n",
    "head(transactions)"
   ]
  },
  {
   "cell_type": "markdown",
   "metadata": {},
   "source": [
    "Our nex task is to construct new features based on transactions history:\n",
    "\n",
    "- [x] `Churn` - target parameter if client has more than 60 days absent transactions between 2021-04-30 and last transaction date.\n",
    "- [x] `AverageContractSum3M_Credet` - average contract sum by credet last 3 month `before event Churn == 1/0`\n",
    "- [x] `AverageIncrease3M_Credet` - average sum increase from month to month, for last 3 month, by credet"
   ]
  },
  {
   "cell_type": "code",
   "execution_count": 50,
   "metadata": {},
   "outputs": [
    {
     "name": "stderr",
     "output_type": "stream",
     "text": [
      "Warning message:\n",
      "\"package 'tidyverse' was built under R version 4.1.0\"\n",
      "-- \u001b[1mAttaching packages\u001b[22m --------------------------------------- tidyverse 1.3.1 --\n",
      "\n",
      "\u001b[32mv\u001b[39m \u001b[34mtibble \u001b[39m 3.1.2     \u001b[32mv\u001b[39m \u001b[34mpurrr  \u001b[39m 0.3.4\n",
      "\u001b[32mv\u001b[39m \u001b[34mtidyr  \u001b[39m 1.1.3     \u001b[32mv\u001b[39m \u001b[34mstringr\u001b[39m 1.4.0\n",
      "\u001b[32mv\u001b[39m \u001b[34mreadr  \u001b[39m 1.4.0     \u001b[32mv\u001b[39m \u001b[34mforcats\u001b[39m 0.5.1\n",
      "\n",
      "Warning message:\n",
      "\"package 'tidyr' was built under R version 4.1.0\"\n",
      "Warning message:\n",
      "\"package 'readr' was built under R version 4.1.0\"\n",
      "Warning message:\n",
      "\"package 'stringr' was built under R version 4.1.0\"\n",
      "Warning message:\n",
      "\"package 'forcats' was built under R version 4.1.0\"\n",
      "-- \u001b[1mConflicts\u001b[22m ------------------------------------------ tidyverse_conflicts() --\n",
      "\u001b[31mx\u001b[39m \u001b[34mgridExtra\u001b[39m::\u001b[32mcombine()\u001b[39m masks \u001b[34mdplyr\u001b[39m::combine()\n",
      "\u001b[31mx\u001b[39m \u001b[34mtidyr\u001b[39m::\u001b[32mextract()\u001b[39m     masks \u001b[34mmagrittr\u001b[39m::extract()\n",
      "\u001b[31mx\u001b[39m \u001b[34mdplyr\u001b[39m::\u001b[32mfilter()\u001b[39m      masks \u001b[34mstats\u001b[39m::filter()\n",
      "\u001b[31mx\u001b[39m \u001b[34mdplyr\u001b[39m::\u001b[32mlag()\u001b[39m         masks \u001b[34mstats\u001b[39m::lag()\n",
      "\u001b[31mx\u001b[39m \u001b[34mpurrr\u001b[39m::\u001b[32mlift()\u001b[39m        masks \u001b[34mcaret\u001b[39m::lift()\n",
      "\u001b[31mx\u001b[39m \u001b[34mtidyr\u001b[39m::\u001b[32mreplace_na()\u001b[39m  masks \u001b[34mscorecard\u001b[39m::replace_na()\n",
      "\u001b[31mx\u001b[39m \u001b[34mpurrr\u001b[39m::\u001b[32mset_names()\u001b[39m   masks \u001b[34mmagrittr\u001b[39m::set_names()\n",
      "\n"
     ]
    },
    {
     "data": {
      "text/html": [
       "<table class=\"dataframe\">\n",
       "<caption>A tibble: 4 × 2</caption>\n",
       "<thead>\n",
       "\t<tr><th scope=col>CustomerID</th><th scope=col>MaxDate</th></tr>\n",
       "\t<tr><th scope=col>&lt;dbl&gt;</th><th scope=col>&lt;date&gt;</th></tr>\n",
       "</thead>\n",
       "<tbody>\n",
       "\t<tr><td>215454555</td><td>2021-04-30</td></tr>\n",
       "\t<tr><td>456415151</td><td>2021-01-22</td></tr>\n",
       "\t<tr><td>787987456</td><td>2019-12-06</td></tr>\n",
       "\t<tr><td>985121122</td><td>2020-09-09</td></tr>\n",
       "</tbody>\n",
       "</table>\n"
      ],
      "text/latex": [
       "A tibble: 4 × 2\n",
       "\\begin{tabular}{ll}\n",
       " CustomerID & MaxDate\\\\\n",
       " <dbl> & <date>\\\\\n",
       "\\hline\n",
       "\t 215454555 & 2021-04-30\\\\\n",
       "\t 456415151 & 2021-01-22\\\\\n",
       "\t 787987456 & 2019-12-06\\\\\n",
       "\t 985121122 & 2020-09-09\\\\\n",
       "\\end{tabular}\n"
      ],
      "text/markdown": [
       "\n",
       "A tibble: 4 × 2\n",
       "\n",
       "| CustomerID &lt;dbl&gt; | MaxDate &lt;date&gt; |\n",
       "|---|---|\n",
       "| 215454555 | 2021-04-30 |\n",
       "| 456415151 | 2021-01-22 |\n",
       "| 787987456 | 2019-12-06 |\n",
       "| 985121122 | 2020-09-09 |\n",
       "\n"
      ],
      "text/plain": [
       "  CustomerID MaxDate   \n",
       "1 215454555  2021-04-30\n",
       "2 456415151  2021-01-22\n",
       "3 787987456  2019-12-06\n",
       "4 985121122  2020-09-09"
      ]
     },
     "metadata": {},
     "output_type": "display_data"
    }
   ],
   "source": [
    "# lets find a maximum transaction date for each client\n",
    "library(tidyverse) # includes magrittr, dplyr\n",
    "max_dates <- transactions %>%\n",
    "        group_by(CustomerID) %>%\n",
    "        summarise(MaxDate = max(Date))\n",
    "max_dates"
   ]
  },
  {
   "cell_type": "code",
   "execution_count": 51,
   "metadata": {},
   "outputs": [
    {
     "name": "stderr",
     "output_type": "stream",
     "text": [
      "\n",
      "Attaching package: 'lubridate'\n",
      "\n",
      "\n",
      "The following objects are masked from 'package:base':\n",
      "\n",
      "    date, intersect, setdiff, union\n",
      "\n",
      "\n"
     ]
    },
    {
     "data": {
      "text/html": [
       "<table class=\"dataframe\">\n",
       "<caption>A tibble: 4 × 3</caption>\n",
       "<thead>\n",
       "\t<tr><th scope=col>CustomerID</th><th scope=col>MaxDate</th><th scope=col>DaysDiff</th></tr>\n",
       "\t<tr><th scope=col>&lt;dbl&gt;</th><th scope=col>&lt;date&gt;</th><th scope=col>&lt;dbl&gt;</th></tr>\n",
       "</thead>\n",
       "<tbody>\n",
       "\t<tr><td>215454555</td><td>2021-04-30</td><td>  0</td></tr>\n",
       "\t<tr><td>456415151</td><td>2021-01-22</td><td> 98</td></tr>\n",
       "\t<tr><td>787987456</td><td>2019-12-06</td><td>511</td></tr>\n",
       "\t<tr><td>985121122</td><td>2020-09-09</td><td>233</td></tr>\n",
       "</tbody>\n",
       "</table>\n"
      ],
      "text/latex": [
       "A tibble: 4 × 3\n",
       "\\begin{tabular}{lll}\n",
       " CustomerID & MaxDate & DaysDiff\\\\\n",
       " <dbl> & <date> & <dbl>\\\\\n",
       "\\hline\n",
       "\t 215454555 & 2021-04-30 &   0\\\\\n",
       "\t 456415151 & 2021-01-22 &  98\\\\\n",
       "\t 787987456 & 2019-12-06 & 511\\\\\n",
       "\t 985121122 & 2020-09-09 & 233\\\\\n",
       "\\end{tabular}\n"
      ],
      "text/markdown": [
       "\n",
       "A tibble: 4 × 3\n",
       "\n",
       "| CustomerID &lt;dbl&gt; | MaxDate &lt;date&gt; | DaysDiff &lt;dbl&gt; |\n",
       "|---|---|---|\n",
       "| 215454555 | 2021-04-30 |   0 |\n",
       "| 456415151 | 2021-01-22 |  98 |\n",
       "| 787987456 | 2019-12-06 | 511 |\n",
       "| 985121122 | 2020-09-09 | 233 |\n",
       "\n"
      ],
      "text/plain": [
       "  CustomerID MaxDate    DaysDiff\n",
       "1 215454555  2021-04-30   0     \n",
       "2 456415151  2021-01-22  98     \n",
       "3 787987456  2019-12-06 511     \n",
       "4 985121122  2020-09-09 233     "
      ]
     },
     "metadata": {},
     "output_type": "display_data"
    }
   ],
   "source": [
    "library(lubridate) #for datetime manipulation\n",
    "current_date <- ymd(\"2021-04-30\")\n",
    "max_dates <- max_dates %>%\n",
    "        mutate(DaysDiff = as.period(current_date - MaxDate) %>% day()) # find period and convert it to days\n",
    "max_dates"
   ]
  },
  {
   "cell_type": "code",
   "execution_count": 52,
   "metadata": {},
   "outputs": [
    {
     "data": {
      "text/html": [
       "<table class=\"dataframe\">\n",
       "<caption>A tibble: 4 × 4</caption>\n",
       "<thead>\n",
       "\t<tr><th scope=col>CustomerID</th><th scope=col>MaxDate</th><th scope=col>DaysDiff</th><th scope=col>Churn</th></tr>\n",
       "\t<tr><th scope=col>&lt;dbl&gt;</th><th scope=col>&lt;date&gt;</th><th scope=col>&lt;dbl&gt;</th><th scope=col>&lt;dbl&gt;</th></tr>\n",
       "</thead>\n",
       "<tbody>\n",
       "\t<tr><td>215454555</td><td>2021-04-30</td><td>  0</td><td>0</td></tr>\n",
       "\t<tr><td>456415151</td><td>2021-01-22</td><td> 98</td><td>1</td></tr>\n",
       "\t<tr><td>787987456</td><td>2019-12-06</td><td>511</td><td>1</td></tr>\n",
       "\t<tr><td>985121122</td><td>2020-09-09</td><td>233</td><td>1</td></tr>\n",
       "</tbody>\n",
       "</table>\n"
      ],
      "text/latex": [
       "A tibble: 4 × 4\n",
       "\\begin{tabular}{llll}\n",
       " CustomerID & MaxDate & DaysDiff & Churn\\\\\n",
       " <dbl> & <date> & <dbl> & <dbl>\\\\\n",
       "\\hline\n",
       "\t 215454555 & 2021-04-30 &   0 & 0\\\\\n",
       "\t 456415151 & 2021-01-22 &  98 & 1\\\\\n",
       "\t 787987456 & 2019-12-06 & 511 & 1\\\\\n",
       "\t 985121122 & 2020-09-09 & 233 & 1\\\\\n",
       "\\end{tabular}\n"
      ],
      "text/markdown": [
       "\n",
       "A tibble: 4 × 4\n",
       "\n",
       "| CustomerID &lt;dbl&gt; | MaxDate &lt;date&gt; | DaysDiff &lt;dbl&gt; | Churn &lt;dbl&gt; |\n",
       "|---|---|---|---|\n",
       "| 215454555 | 2021-04-30 |   0 | 0 |\n",
       "| 456415151 | 2021-01-22 |  98 | 1 |\n",
       "| 787987456 | 2019-12-06 | 511 | 1 |\n",
       "| 985121122 | 2020-09-09 | 233 | 1 |\n",
       "\n"
      ],
      "text/plain": [
       "  CustomerID MaxDate    DaysDiff Churn\n",
       "1 215454555  2021-04-30   0      0    \n",
       "2 456415151  2021-01-22  98      1    \n",
       "3 787987456  2019-12-06 511      1    \n",
       "4 985121122  2020-09-09 233      1    "
      ]
     },
     "metadata": {},
     "output_type": "display_data"
    }
   ],
   "source": [
    "# lests calculate Churn feature\n",
    "max_dates <- max_dates %>%\n",
    "        mutate(Churn = ifelse(DaysDiff > 60, 1, 0))\n",
    "max_dates"
   ]
  },
  {
   "cell_type": "markdown",
   "metadata": {},
   "source": [
    "You can finally merge code into one query:"
   ]
  },
  {
   "cell_type": "code",
   "execution_count": 53,
   "metadata": {},
   "outputs": [
    {
     "data": {
      "text/html": [
       "<table class=\"dataframe\">\n",
       "<caption>A tibble: 4 × 2</caption>\n",
       "<thead>\n",
       "\t<tr><th scope=col>CustomerID</th><th scope=col>Churn</th></tr>\n",
       "\t<tr><th scope=col>&lt;dbl&gt;</th><th scope=col>&lt;dbl&gt;</th></tr>\n",
       "</thead>\n",
       "<tbody>\n",
       "\t<tr><td>215454555</td><td>0</td></tr>\n",
       "\t<tr><td>456415151</td><td>1</td></tr>\n",
       "\t<tr><td>787987456</td><td>1</td></tr>\n",
       "\t<tr><td>985121122</td><td>1</td></tr>\n",
       "</tbody>\n",
       "</table>\n"
      ],
      "text/latex": [
       "A tibble: 4 × 2\n",
       "\\begin{tabular}{ll}\n",
       " CustomerID & Churn\\\\\n",
       " <dbl> & <dbl>\\\\\n",
       "\\hline\n",
       "\t 215454555 & 0\\\\\n",
       "\t 456415151 & 1\\\\\n",
       "\t 787987456 & 1\\\\\n",
       "\t 985121122 & 1\\\\\n",
       "\\end{tabular}\n"
      ],
      "text/markdown": [
       "\n",
       "A tibble: 4 × 2\n",
       "\n",
       "| CustomerID &lt;dbl&gt; | Churn &lt;dbl&gt; |\n",
       "|---|---|\n",
       "| 215454555 | 0 |\n",
       "| 456415151 | 1 |\n",
       "| 787987456 | 1 |\n",
       "| 985121122 | 1 |\n",
       "\n"
      ],
      "text/plain": [
       "  CustomerID Churn\n",
       "1 215454555  0    \n",
       "2 456415151  1    \n",
       "3 787987456  1    \n",
       "4 985121122  1    "
      ]
     },
     "metadata": {},
     "output_type": "display_data"
    }
   ],
   "source": [
    "churn_eval <- transactions %>%\n",
    "        group_by(CustomerID) %>%\n",
    "        summarise(MaxDate = max(Date)) %>%\n",
    "        mutate(DaysDiff = as.period(current_date - MaxDate) %>% day(),\n",
    "               Churn = ifelse(DaysDiff > 60, 1, 0)) %>%\n",
    "        select(CustomerID, Churn) # Select only CustomerID and new feature / target\n",
    "churn_eval # we will merge it with demographics later"
   ]
  },
  {
   "cell_type": "markdown",
   "metadata": {},
   "source": [
    "# AverageContractSum3M_Credet"
   ]
  },
  {
   "cell_type": "markdown",
   "metadata": {},
   "source": [
    "TASK: calculate average sum of contract for each customer by credet for last 3 month before Churn/NotChurn event\n",
    "\n",
    "For calculating this data wee should do this steps:"
   ]
  },
  {
   "cell_type": "markdown",
   "metadata": {},
   "source": [
    "1. Find max transaction date\n",
    "2. Find transaction date 3 month ago (max transaction date - 3 month)\n",
    "3. Filter only records in range (-3 month, max_transaction)\n",
    "4. Group data by contracts and find every contract sum\n",
    "5. Group data by customers and find every customer average"
   ]
  },
  {
   "cell_type": "code",
   "execution_count": 54,
   "metadata": {},
   "outputs": [
    {
     "data": {
      "text/html": [
       "<table class=\"dataframe\">\n",
       "<caption>A tibble: 4 × 2</caption>\n",
       "<thead>\n",
       "\t<tr><th scope=col>CustomerID</th><th scope=col>AverageContractSum3M_Credet</th></tr>\n",
       "\t<tr><th scope=col>&lt;dbl&gt;</th><th scope=col>&lt;dbl&gt;</th></tr>\n",
       "</thead>\n",
       "<tbody>\n",
       "\t<tr><td>215454555</td><td>45541.3335</td></tr>\n",
       "\t<tr><td>456415151</td><td> 1271.5930</td></tr>\n",
       "\t<tr><td>787987456</td><td>  116.6667</td></tr>\n",
       "\t<tr><td>985121122</td><td> 4444.4444</td></tr>\n",
       "</tbody>\n",
       "</table>\n"
      ],
      "text/latex": [
       "A tibble: 4 × 2\n",
       "\\begin{tabular}{ll}\n",
       " CustomerID & AverageContractSum3M\\_Credet\\\\\n",
       " <dbl> & <dbl>\\\\\n",
       "\\hline\n",
       "\t 215454555 & 45541.3335\\\\\n",
       "\t 456415151 &  1271.5930\\\\\n",
       "\t 787987456 &   116.6667\\\\\n",
       "\t 985121122 &  4444.4444\\\\\n",
       "\\end{tabular}\n"
      ],
      "text/markdown": [
       "\n",
       "A tibble: 4 × 2\n",
       "\n",
       "| CustomerID &lt;dbl&gt; | AverageContractSum3M_Credet &lt;dbl&gt; |\n",
       "|---|---|\n",
       "| 215454555 | 45541.3335 |\n",
       "| 456415151 |  1271.5930 |\n",
       "| 787987456 |   116.6667 |\n",
       "| 985121122 |  4444.4444 |\n",
       "\n"
      ],
      "text/plain": [
       "  CustomerID AverageContractSum3M_Credet\n",
       "1 215454555  45541.3335                 \n",
       "2 456415151   1271.5930                 \n",
       "3 787987456    116.6667                 \n",
       "4 985121122   4444.4444                 "
      ]
     },
     "metadata": {},
     "output_type": "display_data"
    }
   ],
   "source": [
    "avgContractSum3m <- transactions %>%\n",
    "        filter(Type == \"credet\") %>% # only credet\n",
    "        group_by(CustomerID) %>% \n",
    "        mutate(MaxDate = max(Date), # get max transaction date\n",
    "               Month3Date = MaxDate %m+% months(-3)) %>% # get date 3 month before max transaction date\n",
    "       filter(Date >= Month3Date) %>% # only transaction more than 3 month age left\n",
    "       group_by(CustomerID, ContractID) %>% # group by customer and contract\n",
    "       summarize(ContractSum = sum(UsdEquiv_sum), .groups = 'drop') %>% # find sum by each contract\n",
    "       group_by(CustomerID) %>% # group by customer\n",
    "       summarise(AverageContractSum3M_Credet = mean(ContractSum)) # find mean by each customer\n",
    "\n",
    "avgContractSum3m"
   ]
  },
  {
   "cell_type": "markdown",
   "metadata": {},
   "source": [
    "## Find last 3 average credet sum increase:"
   ]
  },
  {
   "cell_type": "markdown",
   "metadata": {},
   "source": [
    "1. Get dates range for -1, -2, -3 monthes by credet:"
   ]
  },
  {
   "cell_type": "code",
   "execution_count": 55,
   "metadata": {},
   "outputs": [
    {
     "data": {
      "text/html": [
       "<table class=\"dataframe\">\n",
       "<caption>A grouped_df: 6 × 7</caption>\n",
       "<thead>\n",
       "\t<tr><th scope=col>CustomerID</th><th scope=col>Date</th><th scope=col>UsdEquiv_sum</th><th scope=col>MaxDate</th><th scope=col>Month1Before</th><th scope=col>Month2Before</th><th scope=col>Month3Before</th></tr>\n",
       "\t<tr><th scope=col>&lt;dbl&gt;</th><th scope=col>&lt;date&gt;</th><th scope=col>&lt;dbl&gt;</th><th scope=col>&lt;date&gt;</th><th scope=col>&lt;date&gt;</th><th scope=col>&lt;date&gt;</th><th scope=col>&lt;date&gt;</th></tr>\n",
       "</thead>\n",
       "<tbody>\n",
       "\t<tr><td>215454555</td><td>2019-03-15</td><td> 6293.7111</td><td>2021-04-30</td><td>2021-03-30</td><td>2021-02-28</td><td>2021-01-30</td></tr>\n",
       "\t<tr><td>215454555</td><td>2019-04-05</td><td>  914.9459</td><td>2021-04-30</td><td>2021-03-30</td><td>2021-02-28</td><td>2021-01-30</td></tr>\n",
       "\t<tr><td>215454555</td><td>2019-05-30</td><td> 2102.0570</td><td>2021-04-30</td><td>2021-03-30</td><td>2021-02-28</td><td>2021-01-30</td></tr>\n",
       "\t<tr><td>215454555</td><td>2019-10-09</td><td>10854.7630</td><td>2021-04-30</td><td>2021-03-30</td><td>2021-02-28</td><td>2021-01-30</td></tr>\n",
       "\t<tr><td>215454555</td><td>2019-11-27</td><td>  639.5389</td><td>2021-04-30</td><td>2021-03-30</td><td>2021-02-28</td><td>2021-01-30</td></tr>\n",
       "\t<tr><td>215454555</td><td>2019-12-20</td><td> 2654.9459</td><td>2021-04-30</td><td>2021-03-30</td><td>2021-02-28</td><td>2021-01-30</td></tr>\n",
       "</tbody>\n",
       "</table>\n"
      ],
      "text/latex": [
       "A grouped\\_df: 6 × 7\n",
       "\\begin{tabular}{lllllll}\n",
       " CustomerID & Date & UsdEquiv\\_sum & MaxDate & Month1Before & Month2Before & Month3Before\\\\\n",
       " <dbl> & <date> & <dbl> & <date> & <date> & <date> & <date>\\\\\n",
       "\\hline\n",
       "\t 215454555 & 2019-03-15 &  6293.7111 & 2021-04-30 & 2021-03-30 & 2021-02-28 & 2021-01-30\\\\\n",
       "\t 215454555 & 2019-04-05 &   914.9459 & 2021-04-30 & 2021-03-30 & 2021-02-28 & 2021-01-30\\\\\n",
       "\t 215454555 & 2019-05-30 &  2102.0570 & 2021-04-30 & 2021-03-30 & 2021-02-28 & 2021-01-30\\\\\n",
       "\t 215454555 & 2019-10-09 & 10854.7630 & 2021-04-30 & 2021-03-30 & 2021-02-28 & 2021-01-30\\\\\n",
       "\t 215454555 & 2019-11-27 &   639.5389 & 2021-04-30 & 2021-03-30 & 2021-02-28 & 2021-01-30\\\\\n",
       "\t 215454555 & 2019-12-20 &  2654.9459 & 2021-04-30 & 2021-03-30 & 2021-02-28 & 2021-01-30\\\\\n",
       "\\end{tabular}\n"
      ],
      "text/markdown": [
       "\n",
       "A grouped_df: 6 × 7\n",
       "\n",
       "| CustomerID &lt;dbl&gt; | Date &lt;date&gt; | UsdEquiv_sum &lt;dbl&gt; | MaxDate &lt;date&gt; | Month1Before &lt;date&gt; | Month2Before &lt;date&gt; | Month3Before &lt;date&gt; |\n",
       "|---|---|---|---|---|---|---|\n",
       "| 215454555 | 2019-03-15 |  6293.7111 | 2021-04-30 | 2021-03-30 | 2021-02-28 | 2021-01-30 |\n",
       "| 215454555 | 2019-04-05 |   914.9459 | 2021-04-30 | 2021-03-30 | 2021-02-28 | 2021-01-30 |\n",
       "| 215454555 | 2019-05-30 |  2102.0570 | 2021-04-30 | 2021-03-30 | 2021-02-28 | 2021-01-30 |\n",
       "| 215454555 | 2019-10-09 | 10854.7630 | 2021-04-30 | 2021-03-30 | 2021-02-28 | 2021-01-30 |\n",
       "| 215454555 | 2019-11-27 |   639.5389 | 2021-04-30 | 2021-03-30 | 2021-02-28 | 2021-01-30 |\n",
       "| 215454555 | 2019-12-20 |  2654.9459 | 2021-04-30 | 2021-03-30 | 2021-02-28 | 2021-01-30 |\n",
       "\n"
      ],
      "text/plain": [
       "  CustomerID Date       UsdEquiv_sum MaxDate    Month1Before Month2Before\n",
       "1 215454555  2019-03-15  6293.7111   2021-04-30 2021-03-30   2021-02-28  \n",
       "2 215454555  2019-04-05   914.9459   2021-04-30 2021-03-30   2021-02-28  \n",
       "3 215454555  2019-05-30  2102.0570   2021-04-30 2021-03-30   2021-02-28  \n",
       "4 215454555  2019-10-09 10854.7630   2021-04-30 2021-03-30   2021-02-28  \n",
       "5 215454555  2019-11-27   639.5389   2021-04-30 2021-03-30   2021-02-28  \n",
       "6 215454555  2019-12-20  2654.9459   2021-04-30 2021-03-30   2021-02-28  \n",
       "  Month3Before\n",
       "1 2021-01-30  \n",
       "2 2021-01-30  \n",
       "3 2021-01-30  \n",
       "4 2021-01-30  \n",
       "5 2021-01-30  \n",
       "6 2021-01-30  "
      ]
     },
     "metadata": {},
     "output_type": "display_data"
    }
   ],
   "source": [
    "monthByMonth <- transactions %>%\n",
    "        filter(Type == \"credet\") %>%\n",
    "        select(CustomerID, Date, UsdEquiv_sum) %>%\n",
    "        group_by(CustomerID) %>%\n",
    "        mutate(MaxDate = max(Date),\n",
    "               Month1Before = MaxDate %m+% months(-1),\n",
    "               Month2Before = MaxDate %m+% months(-2),\n",
    "               Month3Before = MaxDate %m+% months(-3)) \n",
    "head(monthByMonth)"
   ]
  },
  {
   "cell_type": "markdown",
   "metadata": {},
   "source": [
    "2. Big guery calculate sums for each month and find increases"
   ]
  },
  {
   "cell_type": "code",
   "execution_count": 105,
   "metadata": {},
   "outputs": [
    {
     "data": {
      "text/html": [
       "<table class=\"dataframe\">\n",
       "<caption>A rowwise_df: 4 × 2</caption>\n",
       "<thead>\n",
       "\t<tr><th scope=col>CustomerID</th><th scope=col>AverageIncrease3M_Credet</th></tr>\n",
       "\t<tr><th scope=col>&lt;dbl&gt;</th><th scope=col>&lt;dbl&gt;</th></tr>\n",
       "</thead>\n",
       "<tbody>\n",
       "\t<tr><td>215454555</td><td>8.3372521811</td></tr>\n",
       "\t<tr><td>456415151</td><td>         NaN</td></tr>\n",
       "\t<tr><td>787987456</td><td>0.0003175611</td></tr>\n",
       "\t<tr><td>985121122</td><td>         NaN</td></tr>\n",
       "</tbody>\n",
       "</table>\n"
      ],
      "text/latex": [
       "A rowwise\\_df: 4 × 2\n",
       "\\begin{tabular}{ll}\n",
       " CustomerID & AverageIncrease3M\\_Credet\\\\\n",
       " <dbl> & <dbl>\\\\\n",
       "\\hline\n",
       "\t 215454555 & 8.3372521811\\\\\n",
       "\t 456415151 &          NaN\\\\\n",
       "\t 787987456 & 0.0003175611\\\\\n",
       "\t 985121122 &          NaN\\\\\n",
       "\\end{tabular}\n"
      ],
      "text/markdown": [
       "\n",
       "A rowwise_df: 4 × 2\n",
       "\n",
       "| CustomerID &lt;dbl&gt; | AverageIncrease3M_Credet &lt;dbl&gt; |\n",
       "|---|---|\n",
       "| 215454555 | 8.3372521811 |\n",
       "| 456415151 |          NaN |\n",
       "| 787987456 | 0.0003175611 |\n",
       "| 985121122 |          NaN |\n",
       "\n"
      ],
      "text/plain": [
       "  CustomerID AverageIncrease3M_Credet\n",
       "1 215454555  8.3372521811            \n",
       "2 456415151           NaN            \n",
       "3 787987456  0.0003175611            \n",
       "4 985121122           NaN            "
      ]
     },
     "metadata": {},
     "output_type": "display_data"
    }
   ],
   "source": [
    "credetInc <- monthByMonth %>%\n",
    "    filter(Date >= Month1Before & Date <= MaxDate) %>% # data in range from Month1Before to MaxDate\n",
    "    group_by(CustomerID) %>%\n",
    "    summarise(M1Sum = sum(UsdEquiv_sum)) %>% # sum for month -1\n",
    "    left_join(monthByMonth %>% # join with data about month -2\n",
    "              filter(Date >= Month2Before & Date <= Month1Before) %>% # data in range from Month2Before to Month1Before\n",
    "              group_by(CustomerID) %>%\n",
    "              summarise(M2Sum = sum(UsdEquiv_sum)), by = \"CustomerID\") %>%\n",
    "            left_join(monthByMonth %>% # join with data about month -3\n",
    "              filter(Date >= Month3Before & Date <= Month2Before) %>% # data in range from Month3Before to Month2Before\n",
    "              group_by(CustomerID) %>%\n",
    "              summarise(M3Sum = sum(UsdEquiv_sum)), by = \"CustomerID\") %>%\n",
    "    rowwise %>% # calculate separately for each row, not for columns\n",
    "    mutate(AverageIncrease3M_Credet = mean(c(M1Sum/M2Sum, M2Sum/M3Sum), na.rm = T)) %>% # increase is an average of sum changinf from month to month\n",
    "    select(CustomerID, AverageIncrease3M_Credet)\n",
    "        \n",
    "head(credetInc)"
   ]
  },
  {
   "cell_type": "markdown",
   "metadata": {},
   "source": [
    "Join all the tables"
   ]
  },
  {
   "cell_type": "code",
   "execution_count": 106,
   "metadata": {},
   "outputs": [
    {
     "data": {
      "text/html": [
       "<table class=\"dataframe\">\n",
       "<caption>A data.frame: 4 × 7</caption>\n",
       "<thead>\n",
       "\t<tr><th scope=col>CustomerID</th><th scope=col>Gender</th><th scope=col>Email</th><th scope=col>VisitsLastYear</th><th scope=col>AverageContractSum3M_Credet</th><th scope=col>AverageIncrease3M_Credet</th><th scope=col>Churn</th></tr>\n",
       "\t<tr><th scope=col>&lt;dbl&gt;</th><th scope=col>&lt;chr&gt;</th><th scope=col>&lt;chr&gt;</th><th scope=col>&lt;dbl&gt;</th><th scope=col>&lt;dbl&gt;</th><th scope=col>&lt;dbl&gt;</th><th scope=col>&lt;dbl&gt;</th></tr>\n",
       "</thead>\n",
       "<tbody>\n",
       "\t<tr><td>787987456</td><td>Male  </td><td>Yes </td><td>12</td><td>  116.6667</td><td>0.0003175611</td><td>1</td></tr>\n",
       "\t<tr><td>456415151</td><td>Male  </td><td>NULL</td><td> 0</td><td> 1271.5930</td><td>         NaN</td><td>1</td></tr>\n",
       "\t<tr><td>215454555</td><td>Female</td><td>No  </td><td>16</td><td>45541.3335</td><td>8.3372521811</td><td>0</td></tr>\n",
       "\t<tr><td>985121122</td><td>Female</td><td>No  </td><td> 4</td><td> 4444.4444</td><td>         NaN</td><td>1</td></tr>\n",
       "</tbody>\n",
       "</table>\n"
      ],
      "text/latex": [
       "A data.frame: 4 × 7\n",
       "\\begin{tabular}{lllllll}\n",
       " CustomerID & Gender & Email & VisitsLastYear & AverageContractSum3M\\_Credet & AverageIncrease3M\\_Credet & Churn\\\\\n",
       " <dbl> & <chr> & <chr> & <dbl> & <dbl> & <dbl> & <dbl>\\\\\n",
       "\\hline\n",
       "\t 787987456 & Male   & Yes  & 12 &   116.6667 & 0.0003175611 & 1\\\\\n",
       "\t 456415151 & Male   & NULL &  0 &  1271.5930 &          NaN & 1\\\\\n",
       "\t 215454555 & Female & No   & 16 & 45541.3335 & 8.3372521811 & 0\\\\\n",
       "\t 985121122 & Female & No   &  4 &  4444.4444 &          NaN & 1\\\\\n",
       "\\end{tabular}\n"
      ],
      "text/markdown": [
       "\n",
       "A data.frame: 4 × 7\n",
       "\n",
       "| CustomerID &lt;dbl&gt; | Gender &lt;chr&gt; | Email &lt;chr&gt; | VisitsLastYear &lt;dbl&gt; | AverageContractSum3M_Credet &lt;dbl&gt; | AverageIncrease3M_Credet &lt;dbl&gt; | Churn &lt;dbl&gt; |\n",
       "|---|---|---|---|---|---|---|\n",
       "| 787987456 | Male   | Yes  | 12 |   116.6667 | 0.0003175611 | 1 |\n",
       "| 456415151 | Male   | NULL |  0 |  1271.5930 |          NaN | 1 |\n",
       "| 215454555 | Female | No   | 16 | 45541.3335 | 8.3372521811 | 0 |\n",
       "| 985121122 | Female | No   |  4 |  4444.4444 |          NaN | 1 |\n",
       "\n"
      ],
      "text/plain": [
       "  CustomerID Gender Email VisitsLastYear AverageContractSum3M_Credet\n",
       "1 787987456  Male   Yes   12               116.6667                 \n",
       "2 456415151  Male   NULL   0              1271.5930                 \n",
       "3 215454555  Female No    16             45541.3335                 \n",
       "4 985121122  Female No     4              4444.4444                 \n",
       "  AverageIncrease3M_Credet Churn\n",
       "1 0.0003175611             1    \n",
       "2          NaN             1    \n",
       "3 8.3372521811             0    \n",
       "4          NaN             1    "
      ]
     },
     "metadata": {},
     "output_type": "display_data"
    }
   ],
   "source": [
    "final_set <- demographics %>% \n",
    "        left_join(avgContractSum3m , by = \"CustomerID\") %>%\n",
    "        left_join(credetInc , by = \"CustomerID\") %>%\n",
    "        left_join(churn_eval, by = \"CustomerID\")\n",
    "final_set"
   ]
  },
  {
   "cell_type": "markdown",
   "metadata": {},
   "source": [
    "On the next stages this data can be transformed with scaling, encoding, binning."
   ]
  },
  {
   "cell_type": "markdown",
   "metadata": {},
   "source": [
    "---"
   ]
  },
  {
   "cell_type": "markdown",
   "metadata": {},
   "source": [
    "## References"
   ]
  },
  {
   "cell_type": "markdown",
   "metadata": {},
   "source": [
    "1. [Feature Engineering in R Programming](https://www.geeksforgeeks.org/feature-engineering-in-r-programming/) by @dhruv5819\n",
    "2. [What is Feature Engineering?](https://www.displayr.com/what-is-feature-engineering/) by Tim Bok\n",
    "3. [Feature Scaling-Why it is required?](https://medium.com/@rahul77349/feature-scaling-why-it-is-required-8a93df1af310) by Rahul Saini\n",
    "4. [Feature Scaling for Machine Learning: Understanding the Difference Between Normalization vs. Standardization](https://www.analyticsvidhya.com/blog/2020/04/feature-scaling-machine-learning-normalization-standardization/) by \n",
    "ANIRUDDHA BHANDARI\n",
    "5. [R Package 'smbinning': Optimal Binning for Scoring Modeling by Herman Jopia](https://blog.revolutionanalytics.com/2015/03/r-package-smbinning-optimal-binning-for-scoring-modeling.html)\n",
    "6. Garcia, S. et al (2013) A Survey of Discretization Techniques: Taxonomy and Empirical Analysis in Supervised Learning. IEEE Transactions on Knowledge and Data Engineering, Vol. 25, No. 4, April 2013.\n",
    "7. [An Overview on the Landscape of R Packages for Credit Scoring by Gero Szepannek](https://arxiv.org/pdf/2006.11835.pdf)"
   ]
  }
 ],
 "metadata": {
  "kernelspec": {
   "display_name": "R",
   "language": "R",
   "name": "ir"
  },
  "language_info": {
   "codemirror_mode": "r",
   "file_extension": ".r",
   "mimetype": "text/x-r-source",
   "name": "R",
   "pygments_lexer": "r",
   "version": "4.0.5"
  }
 },
 "nbformat": 4,
 "nbformat_minor": 5
}
