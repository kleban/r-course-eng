{
 "cells": [
  {
   "cell_type": "markdown",
   "id": "c1f29d1c",
   "metadata": {},
   "source": [
    "# Feature engineering\n",
    "\n",
    "---\n",
    "\n",
    "## Fundamentals of ETL: data extraction, transformation and loading\n",
    "\n",
    "\n",
    "Applied Mathematical Modeling in Banking"
   ]
  },
  {
   "cell_type": "markdown",
   "id": "3370966d",
   "metadata": {},
   "source": [
    "---"
   ]
  },
  {
   "cell_type": "markdown",
   "id": "45bff70b",
   "metadata": {},
   "source": [
    "# Table of contents"
   ]
  },
  {
   "cell_type": "markdown",
   "id": "84f6d610",
   "metadata": {},
   "source": [
    "---"
   ]
  },
  {
   "cell_type": "markdown",
   "id": "2a91d1ac",
   "metadata": {},
   "source": [
    "# 1. What's Feature Engineering?\n"
   ]
  },
  {
   "cell_type": "markdown",
   "id": "ba701a6f",
   "metadata": {},
   "source": [
    "`Feature engineering` is the most important technique used in creating machine learning models. \n",
    "\n",
    "Feature Engineering is a basic term used to cover many operations that are performed on the variables(features) to fit them into the algorithm. **It helps in increasing the accuracy** of the model thereby enhances the results of the predictions. Feature Engineered machine learning models perform better on data than basic machine learning models. The following aspects of feature engineering are as follows [1]:\n",
    "\n",
    "1. `Feature Scaling`: It is done to get the features on the same scale( for eg. Euclidean distance).\n",
    "2. `Feature Transformation`: It is done to normalize the data(feature) by a function.\n",
    "3. `Feature Construction`: It is done to create new features based on original descriptors to improve the accuracy of the predictive model."
   ]
  },
  {
   "cell_type": "markdown",
   "id": "8c30cc33",
   "metadata": {},
   "source": [
    "A `\"feature\"` in the context of predictive modeling is just another name for a `predictor variable`. Feature engineering is the general term for creating and manipulating predictors so that a good predictive model can be created."
   ]
  },
  {
   "cell_type": "markdown",
   "id": "9d28de5a",
   "metadata": {},
   "source": [
    "---"
   ]
  },
  {
   "cell_type": "markdown",
   "id": "5921023f",
   "metadata": {},
   "source": [
    "# 2. Feature Scaling"
   ]
  },
  {
   "cell_type": "markdown",
   "id": "f480ede4",
   "metadata": {},
   "source": [
    "`Feature Scaling` refers to putting the values in the same range or same scale so that no variable is dominated by the other."
   ]
  },
  {
   "cell_type": "markdown",
   "id": "f69dca12",
   "metadata": {},
   "source": [
    "Most of the times, your dataset will contain features highly varying in magnitudes, units and range. But since, most of the machine learning algorithms use Euclidean distance between two data points in their computations, this is a problem.\n",
    "\n",
    "If left alone, these algorithms only take in the magnitude of features neglecting the units. The results would vary greatly between different units, 5kg and 5000gms. The features with high magnitudes will weigh in a lot more in the distance calculations than features with low magnitudes. To suppress this effect, we need to bring all features to the same level of magnitudes. This can be achieved by scaling.\n",
    "\n",
    "Here’s the curious thing about feature scaling – it improves (significantly) the performance of some machine learning algorithms and does not work at all for others.\n",
    "\n",
    "Also, what’s the difference between normalization and standardization? These are two of the most commonly used feature scaling techniques in machine learning but a level of ambiguity exists in their understanding. "
   ]
  },
  {
   "cell_type": "markdown",
   "id": "0fc42402",
   "metadata": {},
   "source": [
    "---"
   ]
  },
  {
   "cell_type": "markdown",
   "id": "82a5816e",
   "metadata": {},
   "source": [
    "## 2.1. Normalization"
   ]
  },
  {
   "cell_type": "markdown",
   "id": "1f21c4c9",
   "metadata": {},
   "source": [
    "### Theory"
   ]
  },
  {
   "cell_type": "markdown",
   "id": "50a536e8",
   "metadata": {},
   "source": [
    "Normalization is a scaling technique in which values are shifted and rescaled so that they end up ranging between 0 and 1. It is also known as Min-Max scaling.\n",
    "\n",
    "Here’s the formula for normalization:"
   ]
  },
  {
   "cell_type": "markdown",
   "id": "4bb47332",
   "metadata": {},
   "source": [
    "<center>$X' = \\frac{X-X_{min}}{X_{max} - X_{min}}$</center>"
   ]
  },
  {
   "cell_type": "markdown",
   "id": "ac0f773e",
   "metadata": {},
   "source": [
    "Here, $X_{max}$ and $X_{min}$ are the maximum and the minimum values of the feature respectively.\n",
    "\n",
    "When the value of $X$ is the minimum value in the column, the numerator will be $0$, and hence $X'$ is $0$.\n",
    "\n",
    "On the other hand, when the value of $X$ is the maximum value in the column, the numerator is equal to the denominator and thus the value of $X'$ is $1$.\n",
    "\n",
    "If the value of $X$ is between the minimum and the maximum value, then the value of $X'$ is between $0$ and $1$."
   ]
  },
  {
   "cell_type": "markdown",
   "id": "292f5616",
   "metadata": {},
   "source": [
    "---"
   ]
  },
  {
   "cell_type": "markdown",
   "id": "504dbf20",
   "metadata": {},
   "source": [
    "### Practice"
   ]
  },
  {
   "cell_type": "markdown",
   "id": "e0ced115",
   "metadata": {},
   "source": [
    "So, let's implement own normalization function."
   ]
  },
  {
   "cell_type": "code",
   "execution_count": 35,
   "id": "963b189f-22b5-4ec0-9c6e-a44c05a20def",
   "metadata": {},
   "outputs": [
    {
     "data": {
      "text/html": [
       "<table class=\"dataframe\">\n",
       "<caption>A data.frame: 6 × 22</caption>\n",
       "<thead>\n",
       "\t<tr><th></th><th scope=col>X</th><th scope=col>customerID</th><th scope=col>gender</th><th scope=col>SeniorCitizen</th><th scope=col>Partner</th><th scope=col>Dependents</th><th scope=col>tenure</th><th scope=col>PhoneService</th><th scope=col>MultipleLines</th><th scope=col>InternetService</th><th scope=col>...</th><th scope=col>DeviceProtection</th><th scope=col>TechSupport</th><th scope=col>StreamingTV</th><th scope=col>StreamingMovies</th><th scope=col>Contract</th><th scope=col>PaperlessBilling</th><th scope=col>PaymentMethod</th><th scope=col>MonthlyCharges</th><th scope=col>TotalCharges</th><th scope=col>Churn</th></tr>\n",
       "\t<tr><th></th><th scope=col>&lt;int&gt;</th><th scope=col>&lt;chr&gt;</th><th scope=col>&lt;chr&gt;</th><th scope=col>&lt;int&gt;</th><th scope=col>&lt;chr&gt;</th><th scope=col>&lt;chr&gt;</th><th scope=col>&lt;int&gt;</th><th scope=col>&lt;chr&gt;</th><th scope=col>&lt;chr&gt;</th><th scope=col>&lt;chr&gt;</th><th scope=col>...</th><th scope=col>&lt;chr&gt;</th><th scope=col>&lt;chr&gt;</th><th scope=col>&lt;chr&gt;</th><th scope=col>&lt;chr&gt;</th><th scope=col>&lt;chr&gt;</th><th scope=col>&lt;chr&gt;</th><th scope=col>&lt;chr&gt;</th><th scope=col>&lt;chr&gt;</th><th scope=col>&lt;dbl&gt;</th><th scope=col>&lt;chr&gt;</th></tr>\n",
       "</thead>\n",
       "<tbody>\n",
       "\t<tr><th scope=row>1</th><td>1869</td><td>7010-BRBUU</td><td>Male  </td><td>0</td><td>Yes</td><td>Yes</td><td>72</td><td>Yes</td><td>Yes             </td><td>No         </td><td>...</td><td>No internet service</td><td>No internet service</td><td>No internet service</td><td>No internet service</td><td>Two year      </td><td>No </td><td>Credit card (automatic)  </td><td>24.1 </td><td>1734.65</td><td>No </td></tr>\n",
       "\t<tr><th scope=row>2</th><td>4528</td><td>9688-YGXVR</td><td>Female</td><td>0</td><td>No </td><td>No </td><td>44</td><td>Yes</td><td>No              </td><td>Fiber optic</td><td>...</td><td>Yes                </td><td>No                 </td><td>Yes                </td><td>No                 </td><td>Month-to-month</td><td>Yes</td><td>Credit card (automatic)  </td><td>88.15</td><td>3973.20</td><td>No </td></tr>\n",
       "\t<tr><th scope=row>3</th><td>6344</td><td>9286-DOJGF</td><td>Female</td><td>1</td><td>Yes</td><td>No </td><td>38</td><td>Yes</td><td>Yes             </td><td>Fiber optic</td><td>...</td><td>No                 </td><td>No                 </td><td>No                 </td><td>No                 </td><td>Month-to-month</td><td>Yes</td><td>Bank transfer (automatic)</td><td>74.95</td><td>2869.85</td><td>Yes</td></tr>\n",
       "\t<tr><th scope=row>4</th><td>6739</td><td>6994-KERXL</td><td>Male  </td><td>0</td><td>No </td><td>No </td><td> 4</td><td>Yes</td><td>No              </td><td>DSL        </td><td>...</td><td>No                 </td><td>No                 </td><td>No                 </td><td>Yes                </td><td>Month-to-month</td><td>Yes</td><td>Electronic check         </td><td>55.9 </td><td> 238.50</td><td>No </td></tr>\n",
       "\t<tr><th scope=row>5</th><td> 432</td><td>2181-UAESM</td><td>Male  </td><td>0</td><td>No </td><td>No </td><td> 2</td><td>Yes</td><td>No              </td><td>DSL        </td><td>...</td><td>Yes                </td><td>No                 </td><td>No                 </td><td>No                 </td><td>Month-to-month</td><td>No </td><td>Electronic check         </td><td>53.45</td><td> 119.50</td><td>No </td></tr>\n",
       "\t<tr><th scope=row>6</th><td>2215</td><td>4312-GVYNH</td><td>Female</td><td>0</td><td>Yes</td><td>No </td><td>70</td><td>No </td><td>No phone service</td><td>DSL        </td><td>...</td><td>Yes                </td><td>Yes                </td><td>No                 </td><td>Yes                </td><td>Two year      </td><td>Yes</td><td>Bank transfer (automatic)</td><td>49.85</td><td>3370.20</td><td>No </td></tr>\n",
       "</tbody>\n",
       "</table>\n"
      ],
      "text/latex": [
       "A data.frame: 6 × 22\n",
       "\\begin{tabular}{r|lllllllllllllllllllll}\n",
       "  & X & customerID & gender & SeniorCitizen & Partner & Dependents & tenure & PhoneService & MultipleLines & InternetService & ... & DeviceProtection & TechSupport & StreamingTV & StreamingMovies & Contract & PaperlessBilling & PaymentMethod & MonthlyCharges & TotalCharges & Churn\\\\\n",
       "  & <int> & <chr> & <chr> & <int> & <chr> & <chr> & <int> & <chr> & <chr> & <chr> & ... & <chr> & <chr> & <chr> & <chr> & <chr> & <chr> & <chr> & <chr> & <dbl> & <chr>\\\\\n",
       "\\hline\n",
       "\t1 & 1869 & 7010-BRBUU & Male   & 0 & Yes & Yes & 72 & Yes & Yes              & No          & ... & No internet service & No internet service & No internet service & No internet service & Two year       & No  & Credit card (automatic)   & 24.1  & 1734.65 & No \\\\\n",
       "\t2 & 4528 & 9688-YGXVR & Female & 0 & No  & No  & 44 & Yes & No               & Fiber optic & ... & Yes                 & No                  & Yes                 & No                  & Month-to-month & Yes & Credit card (automatic)   & 88.15 & 3973.20 & No \\\\\n",
       "\t3 & 6344 & 9286-DOJGF & Female & 1 & Yes & No  & 38 & Yes & Yes              & Fiber optic & ... & No                  & No                  & No                  & No                  & Month-to-month & Yes & Bank transfer (automatic) & 74.95 & 2869.85 & Yes\\\\\n",
       "\t4 & 6739 & 6994-KERXL & Male   & 0 & No  & No  &  4 & Yes & No               & DSL         & ... & No                  & No                  & No                  & Yes                 & Month-to-month & Yes & Electronic check          & 55.9  &  238.50 & No \\\\\n",
       "\t5 &  432 & 2181-UAESM & Male   & 0 & No  & No  &  2 & Yes & No               & DSL         & ... & Yes                 & No                  & No                  & No                  & Month-to-month & No  & Electronic check          & 53.45 &  119.50 & No \\\\\n",
       "\t6 & 2215 & 4312-GVYNH & Female & 0 & Yes & No  & 70 & No  & No phone service & DSL         & ... & Yes                 & Yes                 & No                  & Yes                 & Two year       & Yes & Bank transfer (automatic) & 49.85 & 3370.20 & No \\\\\n",
       "\\end{tabular}\n"
      ],
      "text/markdown": [
       "\n",
       "A data.frame: 6 × 22\n",
       "\n",
       "| <!--/--> | X &lt;int&gt; | customerID &lt;chr&gt; | gender &lt;chr&gt; | SeniorCitizen &lt;int&gt; | Partner &lt;chr&gt; | Dependents &lt;chr&gt; | tenure &lt;int&gt; | PhoneService &lt;chr&gt; | MultipleLines &lt;chr&gt; | InternetService &lt;chr&gt; | ... ... | DeviceProtection &lt;chr&gt; | TechSupport &lt;chr&gt; | StreamingTV &lt;chr&gt; | StreamingMovies &lt;chr&gt; | Contract &lt;chr&gt; | PaperlessBilling &lt;chr&gt; | PaymentMethod &lt;chr&gt; | MonthlyCharges &lt;chr&gt; | TotalCharges &lt;dbl&gt; | Churn &lt;chr&gt; |\n",
       "|---|---|---|---|---|---|---|---|---|---|---|---|---|---|---|---|---|---|---|---|---|---|\n",
       "| 1 | 1869 | 7010-BRBUU | Male   | 0 | Yes | Yes | 72 | Yes | Yes              | No          | ... | No internet service | No internet service | No internet service | No internet service | Two year       | No  | Credit card (automatic)   | 24.1  | 1734.65 | No  |\n",
       "| 2 | 4528 | 9688-YGXVR | Female | 0 | No  | No  | 44 | Yes | No               | Fiber optic | ... | Yes                 | No                  | Yes                 | No                  | Month-to-month | Yes | Credit card (automatic)   | 88.15 | 3973.20 | No  |\n",
       "| 3 | 6344 | 9286-DOJGF | Female | 1 | Yes | No  | 38 | Yes | Yes              | Fiber optic | ... | No                  | No                  | No                  | No                  | Month-to-month | Yes | Bank transfer (automatic) | 74.95 | 2869.85 | Yes |\n",
       "| 4 | 6739 | 6994-KERXL | Male   | 0 | No  | No  |  4 | Yes | No               | DSL         | ... | No                  | No                  | No                  | Yes                 | Month-to-month | Yes | Electronic check          | 55.9  |  238.50 | No  |\n",
       "| 5 |  432 | 2181-UAESM | Male   | 0 | No  | No  |  2 | Yes | No               | DSL         | ... | Yes                 | No                  | No                  | No                  | Month-to-month | No  | Electronic check          | 53.45 |  119.50 | No  |\n",
       "| 6 | 2215 | 4312-GVYNH | Female | 0 | Yes | No  | 70 | No  | No phone service | DSL         | ... | Yes                 | Yes                 | No                  | Yes                 | Two year       | Yes | Bank transfer (automatic) | 49.85 | 3370.20 | No  |\n",
       "\n"
      ],
      "text/plain": [
       "  X    customerID gender SeniorCitizen Partner Dependents tenure PhoneService\n",
       "1 1869 7010-BRBUU Male   0             Yes     Yes        72     Yes         \n",
       "2 4528 9688-YGXVR Female 0             No      No         44     Yes         \n",
       "3 6344 9286-DOJGF Female 1             Yes     No         38     Yes         \n",
       "4 6739 6994-KERXL Male   0             No      No          4     Yes         \n",
       "5  432 2181-UAESM Male   0             No      No          2     Yes         \n",
       "6 2215 4312-GVYNH Female 0             Yes     No         70     No          \n",
       "  MultipleLines    InternetService ... DeviceProtection    TechSupport        \n",
       "1 Yes              No              ... No internet service No internet service\n",
       "2 No               Fiber optic     ... Yes                 No                 \n",
       "3 Yes              Fiber optic     ... No                  No                 \n",
       "4 No               DSL             ... No                  No                 \n",
       "5 No               DSL             ... Yes                 No                 \n",
       "6 No phone service DSL             ... Yes                 Yes                \n",
       "  StreamingTV         StreamingMovies     Contract       PaperlessBilling\n",
       "1 No internet service No internet service Two year       No              \n",
       "2 Yes                 No                  Month-to-month Yes             \n",
       "3 No                  No                  Month-to-month Yes             \n",
       "4 No                  Yes                 Month-to-month Yes             \n",
       "5 No                  No                  Month-to-month No              \n",
       "6 No                  Yes                 Two year       Yes             \n",
       "  PaymentMethod             MonthlyCharges TotalCharges Churn\n",
       "1 Credit card (automatic)   24.1           1734.65      No   \n",
       "2 Credit card (automatic)   88.15          3973.20      No   \n",
       "3 Bank transfer (automatic) 74.95          2869.85      Yes  \n",
       "4 Electronic check          55.9            238.50      No   \n",
       "5 Electronic check          53.45           119.50      No   \n",
       "6 Bank transfer (automatic) 49.85          3370.20      No   "
      ]
     },
     "metadata": {},
     "output_type": "display_data"
    }
   ],
   "source": [
    "# Lets use client churn dataset from telco: https://www.kaggle.com/blastchar/telco-customer-churn\n",
    "churn_data <- read.csv(\"data/telecom_users.csv\")\n",
    "head(churn_data)"
   ]
  },
  {
   "cell_type": "code",
   "execution_count": 36,
   "id": "b693da51-64be-4385-8b13-625e9de1a7e9",
   "metadata": {},
   "outputs": [
    {
     "name": "stdout",
     "output_type": "stream",
     "text": [
      "'data.frame':\t5986 obs. of  22 variables:\n",
      " $ X               : int  1869 4528 6344 6739 432 2215 5260 6001 1480 5137 ...\n",
      " $ customerID      : chr  \"7010-BRBUU\" \"9688-YGXVR\" \"9286-DOJGF\" \"6994-KERXL\" ...\n",
      " $ gender          : chr  \"Male\" \"Female\" \"Female\" \"Male\" ...\n",
      " $ SeniorCitizen   : int  0 0 1 0 0 0 0 0 0 1 ...\n",
      " $ Partner         : chr  \"Yes\" \"No\" \"Yes\" \"No\" ...\n",
      " $ Dependents      : chr  \"Yes\" \"No\" \"No\" \"No\" ...\n",
      " $ tenure          : int  72 44 38 4 2 70 33 1 39 55 ...\n",
      " $ PhoneService    : chr  \"Yes\" \"Yes\" \"Yes\" \"Yes\" ...\n",
      " $ MultipleLines   : chr  \"Yes\" \"No\" \"Yes\" \"No\" ...\n",
      " $ InternetService : chr  \"No\" \"Fiber optic\" \"Fiber optic\" \"DSL\" ...\n",
      " $ OnlineSecurity  : chr  \"No internet service\" \"No\" \"No\" \"No\" ...\n",
      " $ OnlineBackup    : chr  \"No internet service\" \"Yes\" \"No\" \"No\" ...\n",
      " $ DeviceProtection: chr  \"No internet service\" \"Yes\" \"No\" \"No\" ...\n",
      " $ TechSupport     : chr  \"No internet service\" \"No\" \"No\" \"No\" ...\n",
      " $ StreamingTV     : chr  \"No internet service\" \"Yes\" \"No\" \"No\" ...\n",
      " $ StreamingMovies : chr  \"No internet service\" \"No\" \"No\" \"Yes\" ...\n",
      " $ Contract        : chr  \"Two year\" \"Month-to-month\" \"Month-to-month\" \"Month-to-month\" ...\n",
      " $ PaperlessBilling: chr  \"No\" \"Yes\" \"Yes\" \"Yes\" ...\n",
      " $ PaymentMethod   : chr  \"Credit card (automatic)\" \"Credit card (automatic)\" \"Bank transfer (automatic)\" \"Electronic check\" ...\n",
      " $ MonthlyCharges  : chr  \"24.1\" \"88.15\" \"74.95\" \"55.9\" ...\n",
      " $ TotalCharges    : num  1735 3973 2870 238 120 ...\n",
      " $ Churn           : chr  \"No\" \"No\" \"Yes\" \"No\" ...\n"
     ]
    }
   ],
   "source": [
    "str(churn_data)"
   ]
  },
  {
   "cell_type": "code",
   "execution_count": 37,
   "id": "e91bfc0c",
   "metadata": {},
   "outputs": [
    {
     "data": {
      "text/plain": [
       "       X         customerID           gender          SeniorCitizen   \n",
       " Min.   :   0   Length:5986        Length:5986        Min.   :0.0000  \n",
       " 1st Qu.:1777   Class :character   Class :character   1st Qu.:0.0000  \n",
       " Median :3546   Mode  :character   Mode  :character   Median :0.0000  \n",
       " Mean   :3534                                         Mean   :0.1614  \n",
       " 3rd Qu.:5292                                         3rd Qu.:0.0000  \n",
       " Max.   :7042                                         Max.   :1.0000  \n",
       "                                                                      \n",
       "   Partner           Dependents            tenure      PhoneService      \n",
       " Length:5986        Length:5986        Min.   : 0.00   Length:5986       \n",
       " Class :character   Class :character   1st Qu.: 9.00   Class :character  \n",
       " Mode  :character   Mode  :character   Median :29.00   Mode  :character  \n",
       "                                       Mean   :32.47                     \n",
       "                                       3rd Qu.:56.00                     \n",
       "                                       Max.   :72.00                     \n",
       "                                                                         \n",
       " MultipleLines      InternetService    OnlineSecurity     OnlineBackup      \n",
       " Length:5986        Length:5986        Length:5986        Length:5986       \n",
       " Class :character   Class :character   Class :character   Class :character  \n",
       " Mode  :character   Mode  :character   Mode  :character   Mode  :character  \n",
       "                                                                            \n",
       "                                                                            \n",
       "                                                                            \n",
       "                                                                            \n",
       " DeviceProtection   TechSupport        StreamingTV        StreamingMovies   \n",
       " Length:5986        Length:5986        Length:5986        Length:5986       \n",
       " Class :character   Class :character   Class :character   Class :character  \n",
       " Mode  :character   Mode  :character   Mode  :character   Mode  :character  \n",
       "                                                                            \n",
       "                                                                            \n",
       "                                                                            \n",
       "                                                                            \n",
       "   Contract         PaperlessBilling   PaymentMethod      MonthlyCharges    \n",
       " Length:5986        Length:5986        Length:5986        Length:5986       \n",
       " Class :character   Class :character   Class :character   Class :character  \n",
       " Mode  :character   Mode  :character   Mode  :character   Mode  :character  \n",
       "                                                                            \n",
       "                                                                            \n",
       "                                                                            \n",
       "                                                                            \n",
       "  TotalCharges       Churn          \n",
       " Min.   :  18.8   Length:5986       \n",
       " 1st Qu.: 404.3   Class :character  \n",
       " Median :1412.2   Mode  :character  \n",
       " Mean   :2298.1                     \n",
       " 3rd Qu.:3847.0                     \n",
       " Max.   :8684.8                     \n",
       " NA's   :10                         "
      ]
     },
     "metadata": {},
     "output_type": "display_data"
    }
   ],
   "source": [
    "# next check summary of values\n",
    "summary(churn_data)\n",
    "\n",
    "# check tenure field"
   ]
  },
  {
   "cell_type": "markdown",
   "id": "69a87b4f",
   "metadata": {},
   "source": [
    "Next, lets build histogram of `Income` and check how it splited with `ggplot2`:"
   ]
  },
  {
   "cell_type": "code",
   "execution_count": 25,
   "id": "1d86f5a7",
   "metadata": {},
   "outputs": [],
   "source": [
    "#install.packages(\"ggplot2\")\n",
    "library(ggplot2)"
   ]
  },
  {
   "cell_type": "code",
   "execution_count": 42,
   "id": "a5484dc6",
   "metadata": {},
   "outputs": [
    {
     "name": "stderr",
     "output_type": "stream",
     "text": [
      "Warning message:\n",
      "\"Removed 10 rows containing non-finite values (stat_bin).\"\n"
     ]
    },
    {
     "data": {
      "image/png": "[encoded data removed]",
      "text/plain": [
       "plot without title"
      ]
     },
     "metadata": {
      "image/png": {
       "height": 420,
       "width": 420
      }
     },
     "output_type": "display_data"
    }
   ],
   "source": [
    "ggplot(churn_data, aes(x=TotalCharges)) + geom_histogram(bins = 15) + theme_set(theme_light())"
   ]
  },
  {
   "cell_type": "code",
   "execution_count": 46,
   "id": "d57a7c0e-c31b-4308-8d80-b2f9f64ef283",
   "metadata": {},
   "outputs": [
    {
     "data": {
      "image/png": "[encoded data removed]",
      "text/plain": [
       "plot without title"
      ]
     },
     "metadata": {
      "image/png": {
       "height": 420,
       "width": 420
      }
     },
     "output_type": "display_data"
    }
   ],
   "source": [
    "# Lets replace missing with 0 zero for TotalCharges\n",
    "\n",
    "churn_data <- churn_data %>%\n",
    "            mutate(TotalCharges = ifelse(is.na(TotalCharges), 0 , TotalCharges))\n",
    "\n",
    "ggplot(churn_data, aes(x=TotalCharges)) + geom_histogram(bins = 15) + theme_set(theme_light()) # we dont have warnings for now"
   ]
  },
  {
   "cell_type": "code",
   "execution_count": 47,
   "id": "1815c4d7",
   "metadata": {},
   "outputs": [],
   "source": [
    "# Lets implement own normalization function by fomula explained earlie\n",
    "normalizeData <- function(x) {\n",
    "    return ((x - min(x)) / (max(x) - min(x)))\n",
    "}"
   ]
  },
  {
   "cell_type": "code",
   "execution_count": 50,
   "id": "d2e7d59d",
   "metadata": {},
   "outputs": [
    {
     "data": {
      "text/html": [
       "<table class=\"dataframe\">\n",
       "<caption>A data.frame: 6 × 23</caption>\n",
       "<thead>\n",
       "\t<tr><th></th><th scope=col>X</th><th scope=col>customerID</th><th scope=col>gender</th><th scope=col>SeniorCitizen</th><th scope=col>Partner</th><th scope=col>Dependents</th><th scope=col>tenure</th><th scope=col>PhoneService</th><th scope=col>MultipleLines</th><th scope=col>InternetService</th><th scope=col>...</th><th scope=col>TechSupport</th><th scope=col>StreamingTV</th><th scope=col>StreamingMovies</th><th scope=col>Contract</th><th scope=col>PaperlessBilling</th><th scope=col>PaymentMethod</th><th scope=col>MonthlyCharges</th><th scope=col>TotalCharges</th><th scope=col>Churn</th><th scope=col>TotalChargesNorm</th></tr>\n",
       "\t<tr><th></th><th scope=col>&lt;int&gt;</th><th scope=col>&lt;chr&gt;</th><th scope=col>&lt;chr&gt;</th><th scope=col>&lt;int&gt;</th><th scope=col>&lt;chr&gt;</th><th scope=col>&lt;chr&gt;</th><th scope=col>&lt;int&gt;</th><th scope=col>&lt;chr&gt;</th><th scope=col>&lt;chr&gt;</th><th scope=col>&lt;chr&gt;</th><th scope=col>...</th><th scope=col>&lt;chr&gt;</th><th scope=col>&lt;chr&gt;</th><th scope=col>&lt;chr&gt;</th><th scope=col>&lt;chr&gt;</th><th scope=col>&lt;chr&gt;</th><th scope=col>&lt;chr&gt;</th><th scope=col>&lt;chr&gt;</th><th scope=col>&lt;dbl&gt;</th><th scope=col>&lt;chr&gt;</th><th scope=col>&lt;dbl&gt;</th></tr>\n",
       "</thead>\n",
       "<tbody>\n",
       "\t<tr><th scope=row>1</th><td>1869</td><td>7010-BRBUU</td><td>Male  </td><td>0</td><td>Yes</td><td>Yes</td><td>72</td><td>Yes</td><td>Yes             </td><td>No         </td><td>...</td><td>No internet service</td><td>No internet service</td><td>No internet service</td><td>Two year      </td><td>No </td><td>Credit card (automatic)  </td><td>24.1 </td><td>1734.65</td><td>No </td><td>0.19973402</td></tr>\n",
       "\t<tr><th scope=row>2</th><td>4528</td><td>9688-YGXVR</td><td>Female</td><td>0</td><td>No </td><td>No </td><td>44</td><td>Yes</td><td>No              </td><td>Fiber optic</td><td>...</td><td>No                 </td><td>Yes                </td><td>No                 </td><td>Month-to-month</td><td>Yes</td><td>Credit card (automatic)  </td><td>88.15</td><td>3973.20</td><td>No </td><td>0.45748895</td></tr>\n",
       "\t<tr><th scope=row>3</th><td>6344</td><td>9286-DOJGF</td><td>Female</td><td>1</td><td>Yes</td><td>No </td><td>38</td><td>Yes</td><td>Yes             </td><td>Fiber optic</td><td>...</td><td>No                 </td><td>No                 </td><td>No                 </td><td>Month-to-month</td><td>Yes</td><td>Bank transfer (automatic)</td><td>74.95</td><td>2869.85</td><td>Yes</td><td>0.33044515</td></tr>\n",
       "\t<tr><th scope=row>4</th><td>6739</td><td>6994-KERXL</td><td>Male  </td><td>0</td><td>No </td><td>No </td><td> 4</td><td>Yes</td><td>No              </td><td>DSL        </td><td>...</td><td>No                 </td><td>No                 </td><td>Yes                </td><td>Month-to-month</td><td>Yes</td><td>Electronic check         </td><td>55.9 </td><td> 238.50</td><td>No </td><td>0.02746177</td></tr>\n",
       "\t<tr><th scope=row>5</th><td> 432</td><td>2181-UAESM</td><td>Male  </td><td>0</td><td>No </td><td>No </td><td> 2</td><td>Yes</td><td>No              </td><td>DSL        </td><td>...</td><td>No                 </td><td>No                 </td><td>No                 </td><td>Month-to-month</td><td>No </td><td>Electronic check         </td><td>53.45</td><td> 119.50</td><td>No </td><td>0.01375967</td></tr>\n",
       "\t<tr><th scope=row>6</th><td>2215</td><td>4312-GVYNH</td><td>Female</td><td>0</td><td>Yes</td><td>No </td><td>70</td><td>No </td><td>No phone service</td><td>DSL        </td><td>...</td><td>Yes                </td><td>No                 </td><td>Yes                </td><td>Two year      </td><td>Yes</td><td>Bank transfer (automatic)</td><td>49.85</td><td>3370.20</td><td>No </td><td>0.38805730</td></tr>\n",
       "</tbody>\n",
       "</table>\n"
      ],
      "text/latex": [
       "A data.frame: 6 × 23\n",
       "\\begin{tabular}{r|lllllllllllllllllllll}\n",
       "  & X & customerID & gender & SeniorCitizen & Partner & Dependents & tenure & PhoneService & MultipleLines & InternetService & ... & TechSupport & StreamingTV & StreamingMovies & Contract & PaperlessBilling & PaymentMethod & MonthlyCharges & TotalCharges & Churn & TotalChargesNorm\\\\\n",
       "  & <int> & <chr> & <chr> & <int> & <chr> & <chr> & <int> & <chr> & <chr> & <chr> & ... & <chr> & <chr> & <chr> & <chr> & <chr> & <chr> & <chr> & <dbl> & <chr> & <dbl>\\\\\n",
       "\\hline\n",
       "\t1 & 1869 & 7010-BRBUU & Male   & 0 & Yes & Yes & 72 & Yes & Yes              & No          & ... & No internet service & No internet service & No internet service & Two year       & No  & Credit card (automatic)   & 24.1  & 1734.65 & No  & 0.19973402\\\\\n",
       "\t2 & 4528 & 9688-YGXVR & Female & 0 & No  & No  & 44 & Yes & No               & Fiber optic & ... & No                  & Yes                 & No                  & Month-to-month & Yes & Credit card (automatic)   & 88.15 & 3973.20 & No  & 0.45748895\\\\\n",
       "\t3 & 6344 & 9286-DOJGF & Female & 1 & Yes & No  & 38 & Yes & Yes              & Fiber optic & ... & No                  & No                  & No                  & Month-to-month & Yes & Bank transfer (automatic) & 74.95 & 2869.85 & Yes & 0.33044515\\\\\n",
       "\t4 & 6739 & 6994-KERXL & Male   & 0 & No  & No  &  4 & Yes & No               & DSL         & ... & No                  & No                  & Yes                 & Month-to-month & Yes & Electronic check          & 55.9  &  238.50 & No  & 0.02746177\\\\\n",
       "\t5 &  432 & 2181-UAESM & Male   & 0 & No  & No  &  2 & Yes & No               & DSL         & ... & No                  & No                  & No                  & Month-to-month & No  & Electronic check          & 53.45 &  119.50 & No  & 0.01375967\\\\\n",
       "\t6 & 2215 & 4312-GVYNH & Female & 0 & Yes & No  & 70 & No  & No phone service & DSL         & ... & Yes                 & No                  & Yes                 & Two year       & Yes & Bank transfer (automatic) & 49.85 & 3370.20 & No  & 0.38805730\\\\\n",
       "\\end{tabular}\n"
      ],
      "text/markdown": [
       "\n",
       "A data.frame: 6 × 23\n",
       "\n",
       "| <!--/--> | X &lt;int&gt; | customerID &lt;chr&gt; | gender &lt;chr&gt; | SeniorCitizen &lt;int&gt; | Partner &lt;chr&gt; | Dependents &lt;chr&gt; | tenure &lt;int&gt; | PhoneService &lt;chr&gt; | MultipleLines &lt;chr&gt; | InternetService &lt;chr&gt; | ... ... | TechSupport &lt;chr&gt; | StreamingTV &lt;chr&gt; | StreamingMovies &lt;chr&gt; | Contract &lt;chr&gt; | PaperlessBilling &lt;chr&gt; | PaymentMethod &lt;chr&gt; | MonthlyCharges &lt;chr&gt; | TotalCharges &lt;dbl&gt; | Churn &lt;chr&gt; | TotalChargesNorm &lt;dbl&gt; |\n",
       "|---|---|---|---|---|---|---|---|---|---|---|---|---|---|---|---|---|---|---|---|---|---|\n",
       "| 1 | 1869 | 7010-BRBUU | Male   | 0 | Yes | Yes | 72 | Yes | Yes              | No          | ... | No internet service | No internet service | No internet service | Two year       | No  | Credit card (automatic)   | 24.1  | 1734.65 | No  | 0.19973402 |\n",
       "| 2 | 4528 | 9688-YGXVR | Female | 0 | No  | No  | 44 | Yes | No               | Fiber optic | ... | No                  | Yes                 | No                  | Month-to-month | Yes | Credit card (automatic)   | 88.15 | 3973.20 | No  | 0.45748895 |\n",
       "| 3 | 6344 | 9286-DOJGF | Female | 1 | Yes | No  | 38 | Yes | Yes              | Fiber optic | ... | No                  | No                  | No                  | Month-to-month | Yes | Bank transfer (automatic) | 74.95 | 2869.85 | Yes | 0.33044515 |\n",
       "| 4 | 6739 | 6994-KERXL | Male   | 0 | No  | No  |  4 | Yes | No               | DSL         | ... | No                  | No                  | Yes                 | Month-to-month | Yes | Electronic check          | 55.9  |  238.50 | No  | 0.02746177 |\n",
       "| 5 |  432 | 2181-UAESM | Male   | 0 | No  | No  |  2 | Yes | No               | DSL         | ... | No                  | No                  | No                  | Month-to-month | No  | Electronic check          | 53.45 |  119.50 | No  | 0.01375967 |\n",
       "| 6 | 2215 | 4312-GVYNH | Female | 0 | Yes | No  | 70 | No  | No phone service | DSL         | ... | Yes                 | No                  | Yes                 | Two year       | Yes | Bank transfer (automatic) | 49.85 | 3370.20 | No  | 0.38805730 |\n",
       "\n"
      ],
      "text/plain": [
       "  X    customerID gender SeniorCitizen Partner Dependents tenure PhoneService\n",
       "1 1869 7010-BRBUU Male   0             Yes     Yes        72     Yes         \n",
       "2 4528 9688-YGXVR Female 0             No      No         44     Yes         \n",
       "3 6344 9286-DOJGF Female 1             Yes     No         38     Yes         \n",
       "4 6739 6994-KERXL Male   0             No      No          4     Yes         \n",
       "5  432 2181-UAESM Male   0             No      No          2     Yes         \n",
       "6 2215 4312-GVYNH Female 0             Yes     No         70     No          \n",
       "  MultipleLines    InternetService ... TechSupport         StreamingTV        \n",
       "1 Yes              No              ... No internet service No internet service\n",
       "2 No               Fiber optic     ... No                  Yes                \n",
       "3 Yes              Fiber optic     ... No                  No                 \n",
       "4 No               DSL             ... No                  No                 \n",
       "5 No               DSL             ... No                  No                 \n",
       "6 No phone service DSL             ... Yes                 No                 \n",
       "  StreamingMovies     Contract       PaperlessBilling PaymentMethod            \n",
       "1 No internet service Two year       No               Credit card (automatic)  \n",
       "2 No                  Month-to-month Yes              Credit card (automatic)  \n",
       "3 No                  Month-to-month Yes              Bank transfer (automatic)\n",
       "4 Yes                 Month-to-month Yes              Electronic check         \n",
       "5 No                  Month-to-month No               Electronic check         \n",
       "6 Yes                 Two year       Yes              Bank transfer (automatic)\n",
       "  MonthlyCharges TotalCharges Churn TotalChargesNorm\n",
       "1 24.1           1734.65      No    0.19973402      \n",
       "2 88.15          3973.20      No    0.45748895      \n",
       "3 74.95          2869.85      Yes   0.33044515      \n",
       "4 55.9            238.50      No    0.02746177      \n",
       "5 53.45           119.50      No    0.01375967      \n",
       "6 49.85          3370.20      No    0.38805730      "
      ]
     },
     "metadata": {},
     "output_type": "display_data"
    }
   ],
   "source": [
    "library(dplyr)\n",
    "library(magrittr) # for pipe %>% operator\n",
    "\n",
    "# Normalize TotalCharges\n",
    "churn_data <- churn_data %>%\n",
    "    mutate(TotalChargesNorm = normalizeData(TotalCharges))\n",
    "\n",
    "churn_data %>% head() # check the last columns"
   ]
  },
  {
   "cell_type": "code",
   "execution_count": 53,
   "id": "6d1f25d1-e855-467a-84fe-3457057c74ae",
   "metadata": {},
   "outputs": [
    {
     "data": {
      "text/plain": [
       "   Min. 1st Qu.  Median    Mean 3rd Qu.    Max. \n",
       "0.00000 0.04624 0.16219 0.26417 0.44232 1.00000 "
      ]
     },
     "metadata": {},
     "output_type": "display_data"
    }
   ],
   "source": [
    "#summary for the last field\n",
    "summary(churn_data$TotalChargesNorm)\n",
    "\n",
    "#its from 1 to zero"
   ]
  },
  {
   "cell_type": "code",
   "execution_count": 56,
   "id": "42aae7ed",
   "metadata": {},
   "outputs": [
    {
     "data": {
      "image/png": "[encoded data removed]",
      "text/plain": [
       "plot without title"
      ]
     },
     "metadata": {
      "image/png": {
       "height": 420,
       "width": 420
      }
     },
     "output_type": "display_data"
    }
   ],
   "source": [
    "# And lets make a histogram\n",
    "ggplot(churn_data, aes(x=TotalChargesNorm)) + geom_histogram(bins = 15) + theme_set(theme_light())"
   ]
  },
  {
   "cell_type": "markdown",
   "id": "af7fbd0e",
   "metadata": {},
   "source": [
    "We observe identical histograms even though the `TotalCharges / TotalChargesNorm` axis is rescaled.\n",
    "\n",
    "Therefore we show that **normalization didn't affect the distribution properties** of the rescaled data."
   ]
  },
  {
   "cell_type": "markdown",
   "id": "c667a17f",
   "metadata": {},
   "source": [
    "---"
   ]
  },
  {
   "cell_type": "markdown",
   "id": "d4705983",
   "metadata": {},
   "source": [
    "## 2.2. Standardization"
   ]
  },
  {
   "cell_type": "markdown",
   "id": "3e472ec7",
   "metadata": {},
   "source": [
    "`Standardization` is another scaling technique where the values are centered around the mean with a unit standard deviation. This means that the mean of the attribute becomes zero and the resultant distribution has a unit standard deviation.\n",
    "\n",
    "Here’s the formula for standardization:"
   ]
  },
  {
   "cell_type": "markdown",
   "id": "dbabb161",
   "metadata": {},
   "source": [
    "<center>$X' = \\frac{X-\\mu}{\\sigma}$</center>"
   ]
  },
  {
   "cell_type": "markdown",
   "id": "db2e23d0",
   "metadata": {},
   "source": [
    "Feature scaling: $\\mu$ is the mean of the feature values and Feature scaling: $\\sigma$ is the standard deviation of the feature values. Note that in this case, the values are not restricted to a particular range.\n",
    "\n",
    "Now, the big question in your mind must be when should we use normalization and when should we use standardization?"
   ]
  },
  {
   "cell_type": "markdown",
   "id": "07343f90",
   "metadata": {},
   "source": [
    "Normalization vs. standardization is an eternal question among machine learning newcomers. Let me elaborate on the answer in this section.\n",
    "\n",
    "Normalization is good to use when you know that the distribution of your data does not follow a Gaussian distribution. This can be useful in algorithms that do not assume any distribution of the data like K-Nearest Neighbors and Neural Networks.\n",
    "\n",
    "Standardization, on the other hand, can be helpful in cases where the data follows a Gaussian distribution. However, this does not have to be necessarily true. Also, unlike normalization, standardization does not have a bounding range. So, even if you have outliers in your data, they will not be affected by standardization.\n",
    "However, at the end of the day, the choice of using normalization or standardization will depend on your problem and the machine learning algorithm you are using. There is no hard and fast rule to tell you when to normalize or standardize your data. You can always start by fitting your model to raw, normalized and standardized data and compare the performance for best results.\n",
    "\n",
    "It is a good practice to fit the scaler on the training data and then use it to transform the testing data. This would avoid any data leakage during the model testing process. Also, the scaling of target values is generally not required."
   ]
  },
  {
   "cell_type": "markdown",
   "id": "248a9197",
   "metadata": {},
   "source": [
    "## 1.3. Feature scaling in R"
   ]
  },
  {
   "cell_type": "code",
   "execution_count": null,
   "id": "9299ef85",
   "metadata": {},
   "outputs": [],
   "source": []
  },
  {
   "cell_type": "markdown",
   "id": "fa98dbd4",
   "metadata": {},
   "source": [
    "# 2. Feature Transformation"
   ]
  },
  {
   "cell_type": "markdown",
   "id": "9bf3163d",
   "metadata": {},
   "source": [
    "`Feature transformation` involves manipulating a predictor variable in some way so as to improve its performance in the predictive model. A variety of considerations come into play when transforming models, including:\n",
    "\n",
    "- [x] The `flexibility` of machine learning and statistical models in dealing with different types of data. For example, some techniques require that the input data be in numeric format, whereas others can deal with other formats, such as categorical, text, or dates.\n",
    "- [x] `Ease of interpretation`. A predictive model where all the predictors are on the same scale (e.g., have a mean of 0 and a standard deviation of 1), can make interpretation easier.\n",
    "- [x] `Predictive accuracy`. Some transformations of variables can improve the accuracy of prediction (e.g., rather than including a numeric variable as a predictor, instead include both it and a second variable that is its square).\n",
    "- [x] `Theory`. For example, economic theory dictates that in many situations the natural logarithm of data representing prices and quantities should be used.\n",
    "- [x] `Computational error`. Many algorithms are written in such a way that \"large\" numbers cause them to give the wrong result, where \"large\" may not be so large (e.g., more than 10 or less than -10)."
   ]
  },
  {
   "cell_type": "markdown",
   "id": "22e8939d",
   "metadata": {},
   "source": [
    "## 3. Feature Construction"
   ]
  },
  {
   "cell_type": "markdown",
   "id": "2dc53ae9",
   "metadata": {},
   "source": [
    "The **`feature Construction`** method helps in creating new features in the data thereby increasing model accuracy and overall predictions. It is of two types:\n",
    "\n",
    "- [x] `Binning`: Bins are created for continuous variables.\n",
    "- [x] `Encoding`: Numerical variables or features are formed from categorical variables.\n",
    "- [x] `Caluculation` ?????"
   ]
  },
  {
   "cell_type": "markdown",
   "id": "861c0650",
   "metadata": {},
   "source": [
    "### 3.1. Binning\n",
    "\n",
    "`Binning` is done to create bins for continuous variables where they are converted to categorical variables. There are two types of binning: `Unsupervised` and `Supervised`.\n",
    "\n",
    "`Unsupervised Binning` involves Automatic and Manual binning. In Automatic Binning, bins are created without human interference and are created automatically.  In Manual Binning, bins are created with human interference and we specify where the bins to be created.\n",
    "\n",
    "`Supervised Binning` involves creating bins for the continuous variable while taking the target variable into the consideration also."
   ]
  },
  {
   "cell_type": "markdown",
   "id": "1b32042a",
   "metadata": {},
   "source": [
    "### 3.2. Encoding\n",
    "\n",
    "`Encoding` is the process in which numerical variables or features are created from `categorical` variables. It is a widely used method in the industry and in every model building process. It is of two types: `Label Encoding` and `One-hot Encoding`.\n",
    "\n",
    "`Label Encoding` involves assigning each label a unique integer or value based on alphabetical ordering. It is the most popular and widely used encoding.\n",
    "\n",
    "`One-hot Encoding` involves creating additional features or variables on the basis of unique values in categorical variables i.e. every unique value in the category will be added as a new feature."
   ]
  },
  {
   "cell_type": "markdown",
   "id": "88be4338-8a6b-4a64-8a51-75818d64cc3c",
   "metadata": {},
   "source": [
    "### 3.2.1. On-hot encoding"
   ]
  },
  {
   "cell_type": "code",
   "execution_count": 57,
   "id": "bb10b7af-e57d-455d-8097-fd25928c71e9",
   "metadata": {},
   "outputs": [
    {
     "data": {
      "text/html": [
       "<table class=\"dataframe\">\n",
       "<caption>A data.frame: 6 × 22</caption>\n",
       "<thead>\n",
       "\t<tr><th></th><th scope=col>X</th><th scope=col>customerID</th><th scope=col>gender</th><th scope=col>SeniorCitizen</th><th scope=col>Partner</th><th scope=col>Dependents</th><th scope=col>tenure</th><th scope=col>PhoneService</th><th scope=col>MultipleLines</th><th scope=col>InternetService</th><th scope=col>...</th><th scope=col>DeviceProtection</th><th scope=col>TechSupport</th><th scope=col>StreamingTV</th><th scope=col>StreamingMovies</th><th scope=col>Contract</th><th scope=col>PaperlessBilling</th><th scope=col>PaymentMethod</th><th scope=col>MonthlyCharges</th><th scope=col>TotalCharges</th><th scope=col>Churn</th></tr>\n",
       "\t<tr><th></th><th scope=col>&lt;int&gt;</th><th scope=col>&lt;chr&gt;</th><th scope=col>&lt;chr&gt;</th><th scope=col>&lt;int&gt;</th><th scope=col>&lt;chr&gt;</th><th scope=col>&lt;chr&gt;</th><th scope=col>&lt;int&gt;</th><th scope=col>&lt;chr&gt;</th><th scope=col>&lt;chr&gt;</th><th scope=col>&lt;chr&gt;</th><th scope=col>...</th><th scope=col>&lt;chr&gt;</th><th scope=col>&lt;chr&gt;</th><th scope=col>&lt;chr&gt;</th><th scope=col>&lt;chr&gt;</th><th scope=col>&lt;chr&gt;</th><th scope=col>&lt;chr&gt;</th><th scope=col>&lt;chr&gt;</th><th scope=col>&lt;chr&gt;</th><th scope=col>&lt;dbl&gt;</th><th scope=col>&lt;chr&gt;</th></tr>\n",
       "</thead>\n",
       "<tbody>\n",
       "\t<tr><th scope=row>1</th><td>1869</td><td>7010-BRBUU</td><td>Male  </td><td>0</td><td>Yes</td><td>Yes</td><td>72</td><td>Yes</td><td>Yes             </td><td>No         </td><td>...</td><td>No internet service</td><td>No internet service</td><td>No internet service</td><td>No internet service</td><td>Two year      </td><td>No </td><td>Credit card (automatic)  </td><td>24.1 </td><td>1734.65</td><td>No </td></tr>\n",
       "\t<tr><th scope=row>2</th><td>4528</td><td>9688-YGXVR</td><td>Female</td><td>0</td><td>No </td><td>No </td><td>44</td><td>Yes</td><td>No              </td><td>Fiber optic</td><td>...</td><td>Yes                </td><td>No                 </td><td>Yes                </td><td>No                 </td><td>Month-to-month</td><td>Yes</td><td>Credit card (automatic)  </td><td>88.15</td><td>3973.20</td><td>No </td></tr>\n",
       "\t<tr><th scope=row>3</th><td>6344</td><td>9286-DOJGF</td><td>Female</td><td>1</td><td>Yes</td><td>No </td><td>38</td><td>Yes</td><td>Yes             </td><td>Fiber optic</td><td>...</td><td>No                 </td><td>No                 </td><td>No                 </td><td>No                 </td><td>Month-to-month</td><td>Yes</td><td>Bank transfer (automatic)</td><td>74.95</td><td>2869.85</td><td>Yes</td></tr>\n",
       "\t<tr><th scope=row>4</th><td>6739</td><td>6994-KERXL</td><td>Male  </td><td>0</td><td>No </td><td>No </td><td> 4</td><td>Yes</td><td>No              </td><td>DSL        </td><td>...</td><td>No                 </td><td>No                 </td><td>No                 </td><td>Yes                </td><td>Month-to-month</td><td>Yes</td><td>Electronic check         </td><td>55.9 </td><td> 238.50</td><td>No </td></tr>\n",
       "\t<tr><th scope=row>5</th><td> 432</td><td>2181-UAESM</td><td>Male  </td><td>0</td><td>No </td><td>No </td><td> 2</td><td>Yes</td><td>No              </td><td>DSL        </td><td>...</td><td>Yes                </td><td>No                 </td><td>No                 </td><td>No                 </td><td>Month-to-month</td><td>No </td><td>Electronic check         </td><td>53.45</td><td> 119.50</td><td>No </td></tr>\n",
       "\t<tr><th scope=row>6</th><td>2215</td><td>4312-GVYNH</td><td>Female</td><td>0</td><td>Yes</td><td>No </td><td>70</td><td>No </td><td>No phone service</td><td>DSL        </td><td>...</td><td>Yes                </td><td>Yes                </td><td>No                 </td><td>Yes                </td><td>Two year      </td><td>Yes</td><td>Bank transfer (automatic)</td><td>49.85</td><td>3370.20</td><td>No </td></tr>\n",
       "</tbody>\n",
       "</table>\n"
      ],
      "text/latex": [
       "A data.frame: 6 × 22\n",
       "\\begin{tabular}{r|lllllllllllllllllllll}\n",
       "  & X & customerID & gender & SeniorCitizen & Partner & Dependents & tenure & PhoneService & MultipleLines & InternetService & ... & DeviceProtection & TechSupport & StreamingTV & StreamingMovies & Contract & PaperlessBilling & PaymentMethod & MonthlyCharges & TotalCharges & Churn\\\\\n",
       "  & <int> & <chr> & <chr> & <int> & <chr> & <chr> & <int> & <chr> & <chr> & <chr> & ... & <chr> & <chr> & <chr> & <chr> & <chr> & <chr> & <chr> & <chr> & <dbl> & <chr>\\\\\n",
       "\\hline\n",
       "\t1 & 1869 & 7010-BRBUU & Male   & 0 & Yes & Yes & 72 & Yes & Yes              & No          & ... & No internet service & No internet service & No internet service & No internet service & Two year       & No  & Credit card (automatic)   & 24.1  & 1734.65 & No \\\\\n",
       "\t2 & 4528 & 9688-YGXVR & Female & 0 & No  & No  & 44 & Yes & No               & Fiber optic & ... & Yes                 & No                  & Yes                 & No                  & Month-to-month & Yes & Credit card (automatic)   & 88.15 & 3973.20 & No \\\\\n",
       "\t3 & 6344 & 9286-DOJGF & Female & 1 & Yes & No  & 38 & Yes & Yes              & Fiber optic & ... & No                  & No                  & No                  & No                  & Month-to-month & Yes & Bank transfer (automatic) & 74.95 & 2869.85 & Yes\\\\\n",
       "\t4 & 6739 & 6994-KERXL & Male   & 0 & No  & No  &  4 & Yes & No               & DSL         & ... & No                  & No                  & No                  & Yes                 & Month-to-month & Yes & Electronic check          & 55.9  &  238.50 & No \\\\\n",
       "\t5 &  432 & 2181-UAESM & Male   & 0 & No  & No  &  2 & Yes & No               & DSL         & ... & Yes                 & No                  & No                  & No                  & Month-to-month & No  & Electronic check          & 53.45 &  119.50 & No \\\\\n",
       "\t6 & 2215 & 4312-GVYNH & Female & 0 & Yes & No  & 70 & No  & No phone service & DSL         & ... & Yes                 & Yes                 & No                  & Yes                 & Two year       & Yes & Bank transfer (automatic) & 49.85 & 3370.20 & No \\\\\n",
       "\\end{tabular}\n"
      ],
      "text/markdown": [
       "\n",
       "A data.frame: 6 × 22\n",
       "\n",
       "| <!--/--> | X &lt;int&gt; | customerID &lt;chr&gt; | gender &lt;chr&gt; | SeniorCitizen &lt;int&gt; | Partner &lt;chr&gt; | Dependents &lt;chr&gt; | tenure &lt;int&gt; | PhoneService &lt;chr&gt; | MultipleLines &lt;chr&gt; | InternetService &lt;chr&gt; | ... ... | DeviceProtection &lt;chr&gt; | TechSupport &lt;chr&gt; | StreamingTV &lt;chr&gt; | StreamingMovies &lt;chr&gt; | Contract &lt;chr&gt; | PaperlessBilling &lt;chr&gt; | PaymentMethod &lt;chr&gt; | MonthlyCharges &lt;chr&gt; | TotalCharges &lt;dbl&gt; | Churn &lt;chr&gt; |\n",
       "|---|---|---|---|---|---|---|---|---|---|---|---|---|---|---|---|---|---|---|---|---|---|\n",
       "| 1 | 1869 | 7010-BRBUU | Male   | 0 | Yes | Yes | 72 | Yes | Yes              | No          | ... | No internet service | No internet service | No internet service | No internet service | Two year       | No  | Credit card (automatic)   | 24.1  | 1734.65 | No  |\n",
       "| 2 | 4528 | 9688-YGXVR | Female | 0 | No  | No  | 44 | Yes | No               | Fiber optic | ... | Yes                 | No                  | Yes                 | No                  | Month-to-month | Yes | Credit card (automatic)   | 88.15 | 3973.20 | No  |\n",
       "| 3 | 6344 | 9286-DOJGF | Female | 1 | Yes | No  | 38 | Yes | Yes              | Fiber optic | ... | No                  | No                  | No                  | No                  | Month-to-month | Yes | Bank transfer (automatic) | 74.95 | 2869.85 | Yes |\n",
       "| 4 | 6739 | 6994-KERXL | Male   | 0 | No  | No  |  4 | Yes | No               | DSL         | ... | No                  | No                  | No                  | Yes                 | Month-to-month | Yes | Electronic check          | 55.9  |  238.50 | No  |\n",
       "| 5 |  432 | 2181-UAESM | Male   | 0 | No  | No  |  2 | Yes | No               | DSL         | ... | Yes                 | No                  | No                  | No                  | Month-to-month | No  | Electronic check          | 53.45 |  119.50 | No  |\n",
       "| 6 | 2215 | 4312-GVYNH | Female | 0 | Yes | No  | 70 | No  | No phone service | DSL         | ... | Yes                 | Yes                 | No                  | Yes                 | Two year       | Yes | Bank transfer (automatic) | 49.85 | 3370.20 | No  |\n",
       "\n"
      ],
      "text/plain": [
       "  X    customerID gender SeniorCitizen Partner Dependents tenure PhoneService\n",
       "1 1869 7010-BRBUU Male   0             Yes     Yes        72     Yes         \n",
       "2 4528 9688-YGXVR Female 0             No      No         44     Yes         \n",
       "3 6344 9286-DOJGF Female 1             Yes     No         38     Yes         \n",
       "4 6739 6994-KERXL Male   0             No      No          4     Yes         \n",
       "5  432 2181-UAESM Male   0             No      No          2     Yes         \n",
       "6 2215 4312-GVYNH Female 0             Yes     No         70     No          \n",
       "  MultipleLines    InternetService ... DeviceProtection    TechSupport        \n",
       "1 Yes              No              ... No internet service No internet service\n",
       "2 No               Fiber optic     ... Yes                 No                 \n",
       "3 Yes              Fiber optic     ... No                  No                 \n",
       "4 No               DSL             ... No                  No                 \n",
       "5 No               DSL             ... Yes                 No                 \n",
       "6 No phone service DSL             ... Yes                 Yes                \n",
       "  StreamingTV         StreamingMovies     Contract       PaperlessBilling\n",
       "1 No internet service No internet service Two year       No              \n",
       "2 Yes                 No                  Month-to-month Yes             \n",
       "3 No                  No                  Month-to-month Yes             \n",
       "4 No                  Yes                 Month-to-month Yes             \n",
       "5 No                  No                  Month-to-month No              \n",
       "6 No                  Yes                 Two year       Yes             \n",
       "  PaymentMethod             MonthlyCharges TotalCharges Churn\n",
       "1 Credit card (automatic)   24.1           1734.65      No   \n",
       "2 Credit card (automatic)   88.15          3973.20      No   \n",
       "3 Bank transfer (automatic) 74.95          2869.85      Yes  \n",
       "4 Electronic check          55.9            238.50      No   \n",
       "5 Electronic check          53.45           119.50      No   \n",
       "6 Bank transfer (automatic) 49.85          3370.20      No   "
      ]
     },
     "metadata": {},
     "output_type": "display_data"
    }
   ],
   "source": [
    "# Lets use client churn dataset from telco: https://www.kaggle.com/blastchar/telco-customer-churn\n",
    "churn_data <- read.csv(\"data/telecom_users.csv\")\n",
    "head(churn_data)"
   ]
  },
  {
   "cell_type": "code",
   "execution_count": 58,
   "id": "bf65b15f-95a8-4e89-98b7-c5e03159b033",
   "metadata": {},
   "outputs": [
    {
     "name": "stdout",
     "output_type": "stream",
     "text": [
      "\n",
      " \n",
      "   Cell Contents\n",
      "|-------------------------|\n",
      "|                       N |\n",
      "|         N / Table Total |\n",
      "|-------------------------|\n",
      "\n",
      " \n",
      "Total Observations in Table:  5986 \n",
      "\n",
      " \n",
      "          |    Female |      Male | \n",
      "          |-----------|-----------|\n",
      "          |      2936 |      3050 | \n",
      "          |     0.490 |     0.510 | \n",
      "          |-----------|-----------|\n",
      "\n",
      "\n",
      "\n",
      " \n"
     ]
    }
   ],
   "source": [
    "# check possible Gender values\n",
    "gmodels::CrossTable(churn_data$gender)"
   ]
  },
  {
   "cell_type": "markdown",
   "id": "1805e121-f0f0-41bb-aa62-3cf44d6a0f1f",
   "metadata": {},
   "source": [
    "Lets create two additional variables `Male` and `Female` encoded by 1 / 0:\n",
    "\n",
    "- [x] Create a Male column that encodes each row corresponding to male as 1 and set everything else to 0.\n",
    "- [x] Create a Female column that encodes each row corresponding to female as 1 and set everything else to 0."
   ]
  },
  {
   "cell_type": "code",
   "execution_count": 73,
   "id": "68b33a0a-6cf2-4b31-8f46-d87bf6eb2072",
   "metadata": {},
   "outputs": [
    {
     "data": {
      "text/html": [
       "<table class=\"dataframe\">\n",
       "<caption>A data.frame: 6 × 24</caption>\n",
       "<thead>\n",
       "\t<tr><th></th><th scope=col>X</th><th scope=col>customerID</th><th scope=col>gender</th><th scope=col>SeniorCitizen</th><th scope=col>Partner</th><th scope=col>Dependents</th><th scope=col>tenure</th><th scope=col>PhoneService</th><th scope=col>MultipleLines</th><th scope=col>InternetService</th><th scope=col>...</th><th scope=col>StreamingTV</th><th scope=col>StreamingMovies</th><th scope=col>Contract</th><th scope=col>PaperlessBilling</th><th scope=col>PaymentMethod</th><th scope=col>MonthlyCharges</th><th scope=col>TotalCharges</th><th scope=col>Churn</th><th scope=col>Male</th><th scope=col>Female</th></tr>\n",
       "\t<tr><th></th><th scope=col>&lt;int&gt;</th><th scope=col>&lt;chr&gt;</th><th scope=col>&lt;chr&gt;</th><th scope=col>&lt;int&gt;</th><th scope=col>&lt;chr&gt;</th><th scope=col>&lt;chr&gt;</th><th scope=col>&lt;int&gt;</th><th scope=col>&lt;chr&gt;</th><th scope=col>&lt;chr&gt;</th><th scope=col>&lt;chr&gt;</th><th scope=col>...</th><th scope=col>&lt;chr&gt;</th><th scope=col>&lt;chr&gt;</th><th scope=col>&lt;chr&gt;</th><th scope=col>&lt;chr&gt;</th><th scope=col>&lt;chr&gt;</th><th scope=col>&lt;chr&gt;</th><th scope=col>&lt;dbl&gt;</th><th scope=col>&lt;chr&gt;</th><th scope=col>&lt;dbl&gt;</th><th scope=col>&lt;dbl&gt;</th></tr>\n",
       "</thead>\n",
       "<tbody>\n",
       "\t<tr><th scope=row>1</th><td>1869</td><td>7010-BRBUU</td><td>Male  </td><td>0</td><td>Yes</td><td>Yes</td><td>72</td><td>Yes</td><td>Yes             </td><td>No         </td><td>...</td><td>No internet service</td><td>No internet service</td><td>Two year      </td><td>No </td><td>Credit card (automatic)  </td><td>24.1 </td><td>1734.65</td><td>No </td><td>1</td><td>0</td></tr>\n",
       "\t<tr><th scope=row>2</th><td>4528</td><td>9688-YGXVR</td><td>Female</td><td>0</td><td>No </td><td>No </td><td>44</td><td>Yes</td><td>No              </td><td>Fiber optic</td><td>...</td><td>Yes                </td><td>No                 </td><td>Month-to-month</td><td>Yes</td><td>Credit card (automatic)  </td><td>88.15</td><td>3973.20</td><td>No </td><td>0</td><td>1</td></tr>\n",
       "\t<tr><th scope=row>3</th><td>6344</td><td>9286-DOJGF</td><td>Female</td><td>1</td><td>Yes</td><td>No </td><td>38</td><td>Yes</td><td>Yes             </td><td>Fiber optic</td><td>...</td><td>No                 </td><td>No                 </td><td>Month-to-month</td><td>Yes</td><td>Bank transfer (automatic)</td><td>74.95</td><td>2869.85</td><td>Yes</td><td>0</td><td>1</td></tr>\n",
       "\t<tr><th scope=row>4</th><td>6739</td><td>6994-KERXL</td><td>Male  </td><td>0</td><td>No </td><td>No </td><td> 4</td><td>Yes</td><td>No              </td><td>DSL        </td><td>...</td><td>No                 </td><td>Yes                </td><td>Month-to-month</td><td>Yes</td><td>Electronic check         </td><td>55.9 </td><td> 238.50</td><td>No </td><td>1</td><td>0</td></tr>\n",
       "\t<tr><th scope=row>5</th><td> 432</td><td>2181-UAESM</td><td>Male  </td><td>0</td><td>No </td><td>No </td><td> 2</td><td>Yes</td><td>No              </td><td>DSL        </td><td>...</td><td>No                 </td><td>No                 </td><td>Month-to-month</td><td>No </td><td>Electronic check         </td><td>53.45</td><td> 119.50</td><td>No </td><td>1</td><td>0</td></tr>\n",
       "\t<tr><th scope=row>6</th><td>2215</td><td>4312-GVYNH</td><td>Female</td><td>0</td><td>Yes</td><td>No </td><td>70</td><td>No </td><td>No phone service</td><td>DSL        </td><td>...</td><td>No                 </td><td>Yes                </td><td>Two year      </td><td>Yes</td><td>Bank transfer (automatic)</td><td>49.85</td><td>3370.20</td><td>No </td><td>0</td><td>1</td></tr>\n",
       "</tbody>\n",
       "</table>\n"
      ],
      "text/latex": [
       "A data.frame: 6 × 24\n",
       "\\begin{tabular}{r|lllllllllllllllllllll}\n",
       "  & X & customerID & gender & SeniorCitizen & Partner & Dependents & tenure & PhoneService & MultipleLines & InternetService & ... & StreamingTV & StreamingMovies & Contract & PaperlessBilling & PaymentMethod & MonthlyCharges & TotalCharges & Churn & Male & Female\\\\\n",
       "  & <int> & <chr> & <chr> & <int> & <chr> & <chr> & <int> & <chr> & <chr> & <chr> & ... & <chr> & <chr> & <chr> & <chr> & <chr> & <chr> & <dbl> & <chr> & <dbl> & <dbl>\\\\\n",
       "\\hline\n",
       "\t1 & 1869 & 7010-BRBUU & Male   & 0 & Yes & Yes & 72 & Yes & Yes              & No          & ... & No internet service & No internet service & Two year       & No  & Credit card (automatic)   & 24.1  & 1734.65 & No  & 1 & 0\\\\\n",
       "\t2 & 4528 & 9688-YGXVR & Female & 0 & No  & No  & 44 & Yes & No               & Fiber optic & ... & Yes                 & No                  & Month-to-month & Yes & Credit card (automatic)   & 88.15 & 3973.20 & No  & 0 & 1\\\\\n",
       "\t3 & 6344 & 9286-DOJGF & Female & 1 & Yes & No  & 38 & Yes & Yes              & Fiber optic & ... & No                  & No                  & Month-to-month & Yes & Bank transfer (automatic) & 74.95 & 2869.85 & Yes & 0 & 1\\\\\n",
       "\t4 & 6739 & 6994-KERXL & Male   & 0 & No  & No  &  4 & Yes & No               & DSL         & ... & No                  & Yes                 & Month-to-month & Yes & Electronic check          & 55.9  &  238.50 & No  & 1 & 0\\\\\n",
       "\t5 &  432 & 2181-UAESM & Male   & 0 & No  & No  &  2 & Yes & No               & DSL         & ... & No                  & No                  & Month-to-month & No  & Electronic check          & 53.45 &  119.50 & No  & 1 & 0\\\\\n",
       "\t6 & 2215 & 4312-GVYNH & Female & 0 & Yes & No  & 70 & No  & No phone service & DSL         & ... & No                  & Yes                 & Two year       & Yes & Bank transfer (automatic) & 49.85 & 3370.20 & No  & 0 & 1\\\\\n",
       "\\end{tabular}\n"
      ],
      "text/markdown": [
       "\n",
       "A data.frame: 6 × 24\n",
       "\n",
       "| <!--/--> | X &lt;int&gt; | customerID &lt;chr&gt; | gender &lt;chr&gt; | SeniorCitizen &lt;int&gt; | Partner &lt;chr&gt; | Dependents &lt;chr&gt; | tenure &lt;int&gt; | PhoneService &lt;chr&gt; | MultipleLines &lt;chr&gt; | InternetService &lt;chr&gt; | ... ... | StreamingTV &lt;chr&gt; | StreamingMovies &lt;chr&gt; | Contract &lt;chr&gt; | PaperlessBilling &lt;chr&gt; | PaymentMethod &lt;chr&gt; | MonthlyCharges &lt;chr&gt; | TotalCharges &lt;dbl&gt; | Churn &lt;chr&gt; | Male &lt;dbl&gt; | Female &lt;dbl&gt; |\n",
       "|---|---|---|---|---|---|---|---|---|---|---|---|---|---|---|---|---|---|---|---|---|---|\n",
       "| 1 | 1869 | 7010-BRBUU | Male   | 0 | Yes | Yes | 72 | Yes | Yes              | No          | ... | No internet service | No internet service | Two year       | No  | Credit card (automatic)   | 24.1  | 1734.65 | No  | 1 | 0 |\n",
       "| 2 | 4528 | 9688-YGXVR | Female | 0 | No  | No  | 44 | Yes | No               | Fiber optic | ... | Yes                 | No                  | Month-to-month | Yes | Credit card (automatic)   | 88.15 | 3973.20 | No  | 0 | 1 |\n",
       "| 3 | 6344 | 9286-DOJGF | Female | 1 | Yes | No  | 38 | Yes | Yes              | Fiber optic | ... | No                  | No                  | Month-to-month | Yes | Bank transfer (automatic) | 74.95 | 2869.85 | Yes | 0 | 1 |\n",
       "| 4 | 6739 | 6994-KERXL | Male   | 0 | No  | No  |  4 | Yes | No               | DSL         | ... | No                  | Yes                 | Month-to-month | Yes | Electronic check          | 55.9  |  238.50 | No  | 1 | 0 |\n",
       "| 5 |  432 | 2181-UAESM | Male   | 0 | No  | No  |  2 | Yes | No               | DSL         | ... | No                  | No                  | Month-to-month | No  | Electronic check          | 53.45 |  119.50 | No  | 1 | 0 |\n",
       "| 6 | 2215 | 4312-GVYNH | Female | 0 | Yes | No  | 70 | No  | No phone service | DSL         | ... | No                  | Yes                 | Two year       | Yes | Bank transfer (automatic) | 49.85 | 3370.20 | No  | 0 | 1 |\n",
       "\n"
      ],
      "text/plain": [
       "  X    customerID gender SeniorCitizen Partner Dependents tenure PhoneService\n",
       "1 1869 7010-BRBUU Male   0             Yes     Yes        72     Yes         \n",
       "2 4528 9688-YGXVR Female 0             No      No         44     Yes         \n",
       "3 6344 9286-DOJGF Female 1             Yes     No         38     Yes         \n",
       "4 6739 6994-KERXL Male   0             No      No          4     Yes         \n",
       "5  432 2181-UAESM Male   0             No      No          2     Yes         \n",
       "6 2215 4312-GVYNH Female 0             Yes     No         70     No          \n",
       "  MultipleLines    InternetService ... StreamingTV         StreamingMovies    \n",
       "1 Yes              No              ... No internet service No internet service\n",
       "2 No               Fiber optic     ... Yes                 No                 \n",
       "3 Yes              Fiber optic     ... No                  No                 \n",
       "4 No               DSL             ... No                  Yes                \n",
       "5 No               DSL             ... No                  No                 \n",
       "6 No phone service DSL             ... No                  Yes                \n",
       "  Contract       PaperlessBilling PaymentMethod             MonthlyCharges\n",
       "1 Two year       No               Credit card (automatic)   24.1          \n",
       "2 Month-to-month Yes              Credit card (automatic)   88.15         \n",
       "3 Month-to-month Yes              Bank transfer (automatic) 74.95         \n",
       "4 Month-to-month Yes              Electronic check          55.9          \n",
       "5 Month-to-month No               Electronic check          53.45         \n",
       "6 Two year       Yes              Bank transfer (automatic) 49.85         \n",
       "  TotalCharges Churn Male Female\n",
       "1 1734.65      No    1    0     \n",
       "2 3973.20      No    0    1     \n",
       "3 2869.85      Yes   0    1     \n",
       "4  238.50      No    1    0     \n",
       "5  119.50      No    1    0     \n",
       "6 3370.20      No    0    1     "
      ]
     },
     "metadata": {},
     "output_type": "display_data"
    }
   ],
   "source": [
    "# if gender is factor\n",
    "#churn_data <- churn_data %>% \n",
    "   #     mutate(gender = as.character(gender)) # convert Gender to character from Factor\n",
    "\n",
    "churn_data <- churn_data %>% \n",
    "        mutate(\n",
    "            # create Male column\n",
    "            Male = ifelse(gender == \"Male\", 1, 0),\n",
    "            # create Female column\n",
    "            Female = ifelse(gender == \"Female\", 1, 0))\n",
    "\n",
    "head(churn_data)"
   ]
  },
  {
   "cell_type": "markdown",
   "id": "02eebbb2-f724-4cc8-9075-888fe7c0525d",
   "metadata": {},
   "source": [
    "Lets create a dummy variables for `InternetService` column. So, what data it has for now?"
   ]
  },
  {
   "cell_type": "code",
   "execution_count": 74,
   "id": "559bc8f1-da4d-4a19-b941-579d384bacdd",
   "metadata": {},
   "outputs": [
    {
     "name": "stdout",
     "output_type": "stream",
     "text": [
      "\n",
      " \n",
      "   Cell Contents\n",
      "|-------------------------|\n",
      "|                       N |\n",
      "|         N / Table Total |\n",
      "|-------------------------|\n",
      "\n",
      " \n",
      "Total Observations in Table:  5986 \n",
      "\n",
      " \n",
      "            |         DSL | Fiber optic |          No | \n",
      "            |-------------|-------------|-------------|\n",
      "            |        2068 |        2627 |        1291 | \n",
      "            |       0.345 |       0.439 |       0.216 | \n",
      "            |-------------|-------------|-------------|\n",
      "\n",
      "\n",
      "\n",
      " \n"
     ]
    }
   ],
   "source": [
    "gmodels::CrossTable(churn_data$InternetService)"
   ]
  },
  {
   "cell_type": "markdown",
   "id": "461ce2ec-afc4-46ad-bc83-614e38c96975",
   "metadata": {},
   "source": [
    "The function `dummyVars()` from `caret` package can be used to generate a complete (less than full rank parameterized) set of dummy variables from one or more factors. The function takes a formula and a data set and outputs an object that can be used to create the dummy variables using the predict method."
   ]
  },
  {
   "cell_type": "code",
   "execution_count": 77,
   "id": "fb705a00-5db7-4b5b-b3cd-889a18323f45",
   "metadata": {},
   "outputs": [
    {
     "data": {
      "text/html": [
       "<table class=\"dataframe\">\n",
       "<caption>A data.frame: 6 × 3</caption>\n",
       "<thead>\n",
       "\t<tr><th></th><th scope=col>InternetServiceDSL</th><th scope=col>InternetServiceFiber.optic</th><th scope=col>InternetServiceNo</th></tr>\n",
       "\t<tr><th></th><th scope=col>&lt;dbl&gt;</th><th scope=col>&lt;dbl&gt;</th><th scope=col>&lt;dbl&gt;</th></tr>\n",
       "</thead>\n",
       "<tbody>\n",
       "\t<tr><th scope=row>1</th><td>0</td><td>0</td><td>1</td></tr>\n",
       "\t<tr><th scope=row>2</th><td>0</td><td>1</td><td>0</td></tr>\n",
       "\t<tr><th scope=row>3</th><td>0</td><td>1</td><td>0</td></tr>\n",
       "\t<tr><th scope=row>4</th><td>1</td><td>0</td><td>0</td></tr>\n",
       "\t<tr><th scope=row>5</th><td>1</td><td>0</td><td>0</td></tr>\n",
       "\t<tr><th scope=row>6</th><td>1</td><td>0</td><td>0</td></tr>\n",
       "</tbody>\n",
       "</table>\n"
      ],
      "text/latex": [
       "A data.frame: 6 × 3\n",
       "\\begin{tabular}{r|lll}\n",
       "  & InternetServiceDSL & InternetServiceFiber.optic & InternetServiceNo\\\\\n",
       "  & <dbl> & <dbl> & <dbl>\\\\\n",
       "\\hline\n",
       "\t1 & 0 & 0 & 1\\\\\n",
       "\t2 & 0 & 1 & 0\\\\\n",
       "\t3 & 0 & 1 & 0\\\\\n",
       "\t4 & 1 & 0 & 0\\\\\n",
       "\t5 & 1 & 0 & 0\\\\\n",
       "\t6 & 1 & 0 & 0\\\\\n",
       "\\end{tabular}\n"
      ],
      "text/markdown": [
       "\n",
       "A data.frame: 6 × 3\n",
       "\n",
       "| <!--/--> | InternetServiceDSL &lt;dbl&gt; | InternetServiceFiber.optic &lt;dbl&gt; | InternetServiceNo &lt;dbl&gt; |\n",
       "|---|---|---|---|\n",
       "| 1 | 0 | 0 | 1 |\n",
       "| 2 | 0 | 1 | 0 |\n",
       "| 3 | 0 | 1 | 0 |\n",
       "| 4 | 1 | 0 | 0 |\n",
       "| 5 | 1 | 0 | 0 |\n",
       "| 6 | 1 | 0 | 0 |\n",
       "\n"
      ],
      "text/plain": [
       "  InternetServiceDSL InternetServiceFiber.optic InternetServiceNo\n",
       "1 0                  0                          1                \n",
       "2 0                  1                          0                \n",
       "3 0                  1                          0                \n",
       "4 1                  0                          0                \n",
       "5 1                  0                          0                \n",
       "6 1                  0                          0                "
      ]
     },
     "metadata": {},
     "output_type": "display_data"
    }
   ],
   "source": [
    "library(caret)\n",
    "dummy <- dummyVars(\" ~ InternetService\", data = churn_data)\n",
    "new_df <- data.frame(predict(dummy, newdata = churn_data)) # precit dummy variables and\n",
    "new_df %>% head()"
   ]
  },
  {
   "cell_type": "markdown",
   "id": "0e132ab4-11b5-4388-831d-ae6cc1bdd605",
   "metadata": {},
   "source": [
    "If you want create dummy variables for all categoriacal columns just use `\" ~ .\"` formula.\n",
    "\n",
    "If you need some few do this:"
   ]
  },
  {
   "cell_type": "code",
   "execution_count": 78,
   "id": "662f0f36-f431-478b-a351-c531fe0ff2a1",
   "metadata": {},
   "outputs": [
    {
     "data": {
      "text/html": [
       "<table class=\"dataframe\">\n",
       "<caption>A data.frame: 6 × 5</caption>\n",
       "<thead>\n",
       "\t<tr><th></th><th scope=col>InternetServiceDSL</th><th scope=col>InternetServiceFiber.optic</th><th scope=col>InternetServiceNo</th><th scope=col>PhoneServiceNo</th><th scope=col>PhoneServiceYes</th></tr>\n",
       "\t<tr><th></th><th scope=col>&lt;dbl&gt;</th><th scope=col>&lt;dbl&gt;</th><th scope=col>&lt;dbl&gt;</th><th scope=col>&lt;dbl&gt;</th><th scope=col>&lt;dbl&gt;</th></tr>\n",
       "</thead>\n",
       "<tbody>\n",
       "\t<tr><th scope=row>1</th><td>0</td><td>0</td><td>1</td><td>0</td><td>1</td></tr>\n",
       "\t<tr><th scope=row>2</th><td>0</td><td>1</td><td>0</td><td>0</td><td>1</td></tr>\n",
       "\t<tr><th scope=row>3</th><td>0</td><td>1</td><td>0</td><td>0</td><td>1</td></tr>\n",
       "\t<tr><th scope=row>4</th><td>1</td><td>0</td><td>0</td><td>0</td><td>1</td></tr>\n",
       "\t<tr><th scope=row>5</th><td>1</td><td>0</td><td>0</td><td>0</td><td>1</td></tr>\n",
       "\t<tr><th scope=row>6</th><td>1</td><td>0</td><td>0</td><td>1</td><td>0</td></tr>\n",
       "</tbody>\n",
       "</table>\n"
      ],
      "text/latex": [
       "A data.frame: 6 × 5\n",
       "\\begin{tabular}{r|lllll}\n",
       "  & InternetServiceDSL & InternetServiceFiber.optic & InternetServiceNo & PhoneServiceNo & PhoneServiceYes\\\\\n",
       "  & <dbl> & <dbl> & <dbl> & <dbl> & <dbl>\\\\\n",
       "\\hline\n",
       "\t1 & 0 & 0 & 1 & 0 & 1\\\\\n",
       "\t2 & 0 & 1 & 0 & 0 & 1\\\\\n",
       "\t3 & 0 & 1 & 0 & 0 & 1\\\\\n",
       "\t4 & 1 & 0 & 0 & 0 & 1\\\\\n",
       "\t5 & 1 & 0 & 0 & 0 & 1\\\\\n",
       "\t6 & 1 & 0 & 0 & 1 & 0\\\\\n",
       "\\end{tabular}\n"
      ],
      "text/markdown": [
       "\n",
       "A data.frame: 6 × 5\n",
       "\n",
       "| <!--/--> | InternetServiceDSL &lt;dbl&gt; | InternetServiceFiber.optic &lt;dbl&gt; | InternetServiceNo &lt;dbl&gt; | PhoneServiceNo &lt;dbl&gt; | PhoneServiceYes &lt;dbl&gt; |\n",
       "|---|---|---|---|---|---|\n",
       "| 1 | 0 | 0 | 1 | 0 | 1 |\n",
       "| 2 | 0 | 1 | 0 | 0 | 1 |\n",
       "| 3 | 0 | 1 | 0 | 0 | 1 |\n",
       "| 4 | 1 | 0 | 0 | 0 | 1 |\n",
       "| 5 | 1 | 0 | 0 | 0 | 1 |\n",
       "| 6 | 1 | 0 | 0 | 1 | 0 |\n",
       "\n"
      ],
      "text/plain": [
       "  InternetServiceDSL InternetServiceFiber.optic InternetServiceNo\n",
       "1 0                  0                          1                \n",
       "2 0                  1                          0                \n",
       "3 0                  1                          0                \n",
       "4 1                  0                          0                \n",
       "5 1                  0                          0                \n",
       "6 1                  0                          0                \n",
       "  PhoneServiceNo PhoneServiceYes\n",
       "1 0              1              \n",
       "2 0              1              \n",
       "3 0              1              \n",
       "4 0              1              \n",
       "5 0              1              \n",
       "6 1              0              "
      ]
     },
     "metadata": {},
     "output_type": "display_data"
    }
   ],
   "source": [
    "dummy <- dummyVars(\" ~ InternetService + PhoneService\", data = churn_data)\n",
    "new_df <- data.frame(predict(dummy, newdata = churn_data)) # precit dummy variables and\n",
    "new_df %>% head()"
   ]
  },
  {
   "cell_type": "markdown",
   "id": "c18729f7",
   "metadata": {},
   "source": [
    "---"
   ]
  },
  {
   "cell_type": "markdown",
   "id": "75664c13",
   "metadata": {},
   "source": [
    "## References"
   ]
  },
  {
   "cell_type": "markdown",
   "id": "edce376b",
   "metadata": {},
   "source": [
    "1. [Feature Engineering in R Programming](https://www.geeksforgeeks.org/feature-engineering-in-r-programming/) by @dhruv5819\n",
    "2. [What is Feature Engineering?](https://www.displayr.com/what-is-feature-engineering/) by Tim Bok\n",
    "3. [Feature Scaling-Why it is required?](https://medium.com/@rahul77349/feature-scaling-why-it-is-required-8a93df1af310) by Rahul Saini\n",
    "4. [Feature Scaling for Machine Learning: Understanding the Difference Between Normalization vs. Standardization](https://www.analyticsvidhya.com/blog/2020/04/feature-scaling-machine-learning-normalization-standardization/) by \n",
    "ANIRUDDHA BHANDARI"
   ]
  }
 ],
 "metadata": {
  "kernelspec": {
   "display_name": "R",
   "language": "R",
   "name": "ir"
  },
  "language_info": {
   "codemirror_mode": "r",
   "file_extension": ".r",
   "mimetype": "text/x-r-source",
   "name": "R",
   "pygments_lexer": "r",
   "version": "4.0.5"
  }
 },
 "nbformat": 4,
 "nbformat_minor": 5
}
