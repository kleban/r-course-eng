{
 "cells": [
  {
   "cell_type": "markdown",
   "id": "ed156f30",
   "metadata": {},
   "source": [
    "# Data Science and Machine Learning in Banks"
   ]
  },
  {
   "cell_type": "markdown",
   "id": "6d381448",
   "metadata": {},
   "source": [
    "---"
   ]
  },
  {
   "cell_type": "markdown",
   "id": "938dc567",
   "metadata": {},
   "source": [
    "This course is introduction! :) Short text here..."
   ]
  },
  {
   "cell_type": "markdown",
   "id": "7f5c2ea4",
   "metadata": {},
   "source": [
    "## Table of contents"
   ]
  },
  {
   "cell_type": "markdown",
   "id": "1340f51f",
   "metadata": {},
   "source": [
    "0. [About (Current)](00_About.ipynb)\n",
    "1. [Practical aspects of Machine Learning & AI in Risk Management](01_Introduction.ipynb)\n",
    "2. [Basics of programming for Data Science and Machine Learning](02_Basics.ipynb)\n",
    "3. [Fundamentals of ETL: data extraction, transformation and loading. Part 1](03_ETL1.ipynb)\n",
    "4. [Fundamentals of ETL: data extraction, transformation and loading. Part 2](04_ETL2.ipynb)\n",
    "5. [Linear and Logistic Regressions: prediction and metrics](05_Regressions.ipynb)\n",
    "6. [Trees based algorithms: Decision Tree, Random Forest, Gradient Boosting](06_Trees.ipynb)\n",
    "7. [Neural Networks: building, training](07_NeuralNetworks.ipynb)\n",
    "8. [Practical case study: developing a default prediction model](08_Default.ipynb)"
   ]
  },
  {
   "cell_type": "code",
   "execution_count": null,
   "id": "8f76baa1",
   "metadata": {},
   "outputs": [],
   "source": []
  },
  {
   "cell_type": "code",
   "execution_count": null,
   "id": "9f2451e9",
   "metadata": {},
   "outputs": [],
   "source": []
  },
  {
   "cell_type": "code",
   "execution_count": null,
   "id": "53be768b",
   "metadata": {},
   "outputs": [],
   "source": []
  },
  {
   "cell_type": "code",
   "execution_count": 1,
   "id": "ade1826d",
   "metadata": {},
   "outputs": [
    {
     "name": "stdout",
     "output_type": "stream",
     "text": [
      "[1] 30\n"
     ]
    }
   ],
   "source": [
    "x <- 10\n",
    "y <- 20\n",
    "print(x + y)"
   ]
  }
 ],
 "metadata": {
  "kernelspec": {
   "display_name": "R",
   "language": "R",
   "name": "ir"
  },
  "language_info": {
   "codemirror_mode": "r",
   "file_extension": ".r",
   "mimetype": "text/x-r-source",
   "name": "R",
   "pygments_lexer": "r",
   "version": "4.0.5"
  }
 },
 "nbformat": 4,
 "nbformat_minor": 5
}
