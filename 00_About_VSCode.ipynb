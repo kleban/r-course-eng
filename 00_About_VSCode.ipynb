{
 "cells": [
  {
   "cell_type": "markdown",
   "metadata": {},
   "source": [
    "# Data Science and Machine Learning in Banks"
   ]
  },
  {
   "cell_type": "code",
   "execution_count": null,
   "metadata": {},
   "outputs": [
    {
     "ename": "ERROR",
     "evalue": "Error in parse(text = x, srcfile = src): <text>:1:8: unexpected input\n1: x <- 10\r\n           ^\n",
     "output_type": "error",
     "traceback": [
      "Error in parse(text = x, srcfile = src): <text>:1:8: unexpected input\n1: x <- 10\r\n           ^\nTraceback:\n"
     ]
    }
   ],
   "source": [
    "x <- 10\r\n",
    "y <- 20\r\n",
    "x + y"
   ]
  }
 ],
 "metadata": {
  "kernelspec": {
   "display_name": "R",
   "name": "python388jvsc74a57bd0d54b94c5a84b52d43a0f10f671e7ea6684b7696ed3b3f954ea346e050e786e18"
  },
  "language_info": {
   "name": "R",
   "version": ""
  },
  "orig_nbformat": 2
 },
 "nbformat": 4,
 "nbformat_minor": 2
}