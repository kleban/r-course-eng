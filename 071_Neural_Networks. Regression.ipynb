{
 "cells": [
  {
   "cell_type": "markdown",
   "id": "0c01fab4",
   "metadata": {},
   "source": [
    "# Neural Networks. Regression. Part 1\n",
    "\n",
    "---\n",
    "\n",
    "## Neural Networks: building, training\n",
    "\n",
    "\n",
    "Applied Mathematical Modeling in Banking"
   ]
  },
  {
   "cell_type": "markdown",
   "id": "4a9a7f35",
   "metadata": {},
   "source": [
    "---"
   ]
  },
  {
   "cell_type": "markdown",
   "id": "342b29e8-7a60-49d4-bbd1-3a1dc8a6b41c",
   "metadata": {},
   "source": [
    "У цій лекції ми скористаємося набором даних Boston: вартість житла у пригородах Бостона"
   ]
  },
  {
   "cell_type": "markdown",
   "id": "429f4c0b-b132-42dd-8c5c-c627aed11e6c",
   "metadata": {},
   "source": [
    "# 1. Dataset description"
   ]
  },
  {
   "cell_type": "code",
   "execution_count": null,
   "id": "1112b10b-84dd-42f5-90bc-ab7e0595a594",
   "metadata": {},
   "outputs": [],
   "source": [
    "install.packages(\"MASS\")"
   ]
  },
  {
   "cell_type": "markdown",
   "id": "70dfdaca-c59a-4285-bf3b-f77aa2f0eb47",
   "metadata": {},
   "source": [
    "`medv` is TARGET!"
   ]
  },
  {
   "cell_type": "code",
   "execution_count": 1,
   "id": "6d838100-da12-460a-a7c7-44fe449cdd8a",
   "metadata": {},
   "outputs": [
    {
     "data": {
      "text/html": [
       "\n",
       "<table width=\"100%\" summary=\"page for Boston {MASS}\"><tr><td>Boston {MASS}</td><td style=\"text-align: right;\">R Documentation</td></tr></table>\n",
       "\n",
       "<h2>\n",
       "Housing Values in Suburbs of Boston\n",
       "</h2>\n",
       "\n",
       "<h3>Description</h3>\n",
       "\n",
       "<p>The <code>Boston</code> data frame has 506 rows and 14 columns.\n",
       "</p>\n",
       "\n",
       "\n",
       "<h3>Usage</h3>\n",
       "\n",
       "<pre>\n",
       "Boston\n",
       "</pre>\n",
       "\n",
       "\n",
       "<h3>Format</h3>\n",
       "\n",
       "<p>This data frame contains the following columns:\n",
       "</p>\n",
       "\n",
       "<dl>\n",
       "<dt><code>crim</code></dt><dd>\n",
       "<p>per capita crime rate by town.\n",
       "</p>\n",
       "</dd>\n",
       "<dt><code>zn</code></dt><dd>\n",
       "<p>proportion of residential land zoned for lots over 25,000 sq.ft.\n",
       "</p>\n",
       "</dd>\n",
       "<dt><code>indus</code></dt><dd>\n",
       "<p>proportion of non-retail business acres per town.\n",
       "</p>\n",
       "</dd>\n",
       "<dt><code>chas</code></dt><dd>\n",
       "<p>Charles River dummy variable (= 1 if tract bounds river; 0 otherwise).\n",
       "</p>\n",
       "</dd>\n",
       "<dt><code>nox</code></dt><dd>\n",
       "<p>nitrogen oxides concentration (parts per 10 million).\n",
       "</p>\n",
       "</dd>\n",
       "<dt><code>rm</code></dt><dd>\n",
       "<p>average number of rooms per dwelling.\n",
       "</p>\n",
       "</dd>\n",
       "<dt><code>age</code></dt><dd>\n",
       "<p>proportion of owner-occupied units built prior to 1940.\n",
       "</p>\n",
       "</dd>\n",
       "<dt><code>dis</code></dt><dd>\n",
       "<p>weighted mean of distances to five Boston employment centres.\n",
       "</p>\n",
       "</dd>\n",
       "<dt><code>rad</code></dt><dd>\n",
       "<p>index of accessibility to radial highways.\n",
       "</p>\n",
       "</dd>\n",
       "<dt><code>tax</code></dt><dd>\n",
       "<p>full-value property-tax rate per \\$10,000.\n",
       "</p>\n",
       "</dd>\n",
       "<dt><code>ptratio</code></dt><dd>\n",
       "<p>pupil-teacher ratio by town.\n",
       "</p>\n",
       "</dd>\n",
       "<dt><code>black</code></dt><dd>\n",
       "<p><i>1000(Bk - 0.63)^2</i> where <i>Bk</i> is the proportion of blacks\n",
       "by town.\n",
       "</p>\n",
       "</dd>\n",
       "<dt><code>lstat</code></dt><dd>\n",
       "<p>lower status of the population (percent).\n",
       "</p>\n",
       "</dd>\n",
       "<dt><code>medv</code></dt><dd>\n",
       "<p>median value of owner-occupied homes in \\$1000s.\n",
       "</p>\n",
       "</dd>\n",
       "</dl>\n",
       "\n",
       "\n",
       "\n",
       "<h3>Source</h3>\n",
       "\n",
       "<p>Harrison, D. and Rubinfeld, D.L. (1978)\n",
       "Hedonic prices and the demand for clean air.\n",
       "<em>J. Environ. Economics and Management</em>\n",
       "<b>5</b>, 81&ndash;102.\n",
       "</p>\n",
       "<p>Belsley D.A., Kuh, E.  and Welsch, R.E. (1980)\n",
       "<em>Regression Diagnostics. Identifying Influential Data and Sources\n",
       "of Collinearity.</em>\n",
       "New York: Wiley.\n",
       "</p>\n",
       "\n",
       "<hr /><div style=\"text-align: center;\">[Package <em>MASS</em> version 7.3-54 ]</div>"
      ],
      "text/latex": [
       "\\inputencoding{utf8}\n",
       "\\HeaderA{Boston}{Housing Values in Suburbs of Boston}{Boston}\n",
       "\\keyword{datasets}{Boston}\n",
       "%\n",
       "\\begin{Description}\\relax\n",
       "The \\code{Boston} data frame has 506 rows and 14 columns.\n",
       "\\end{Description}\n",
       "%\n",
       "\\begin{Usage}\n",
       "\\begin{verbatim}\n",
       "Boston\n",
       "\\end{verbatim}\n",
       "\\end{Usage}\n",
       "%\n",
       "\\begin{Format}\n",
       "This data frame contains the following columns:\n",
       "\\begin{description}\n",
       "\n",
       "\\item[\\code{crim}] \n",
       "per capita crime rate by town.\n",
       "\n",
       "\\item[\\code{zn}] \n",
       "proportion of residential land zoned for lots over 25,000 sq.ft.\n",
       "\n",
       "\\item[\\code{indus}] \n",
       "proportion of non-retail business acres per town.\n",
       "\n",
       "\\item[\\code{chas}] \n",
       "Charles River dummy variable (= 1 if tract bounds river; 0 otherwise).\n",
       "\n",
       "\\item[\\code{nox}] \n",
       "nitrogen oxides concentration (parts per 10 million).\n",
       "\n",
       "\\item[\\code{rm}] \n",
       "average number of rooms per dwelling.\n",
       "\n",
       "\\item[\\code{age}] \n",
       "proportion of owner-occupied units built prior to 1940.\n",
       "\n",
       "\\item[\\code{dis}] \n",
       "weighted mean of distances to five Boston employment centres.\n",
       "\n",
       "\\item[\\code{rad}] \n",
       "index of accessibility to radial highways.\n",
       "\n",
       "\\item[\\code{tax}] \n",
       "full-value property-tax rate per \\bsl{}\\$10,000.\n",
       "\n",
       "\\item[\\code{ptratio}] \n",
       "pupil-teacher ratio by town.\n",
       "\n",
       "\\item[\\code{black}] \n",
       "\\eqn{1000(Bk - 0.63)^2}{} where \\eqn{Bk}{} is the proportion of blacks\n",
       "by town.\n",
       "\n",
       "\\item[\\code{lstat}] \n",
       "lower status of the population (percent).\n",
       "\n",
       "\\item[\\code{medv}] \n",
       "median value of owner-occupied homes in \\bsl{}\\$1000s.\n",
       "\n",
       "\n",
       "\\end{description}\n",
       "\n",
       "\\end{Format}\n",
       "%\n",
       "\\begin{Source}\\relax\n",
       "Harrison, D. and Rubinfeld, D.L. (1978)\n",
       "Hedonic prices and the demand for clean air.\n",
       "\\emph{J. Environ. Economics and Management}\n",
       "\\bold{5}, 81--102.\n",
       "\n",
       "Belsley D.A., Kuh, E.  and Welsch, R.E. (1980)\n",
       "\\emph{Regression Diagnostics. Identifying Influential Data and Sources\n",
       "of Collinearity.}\n",
       "New York: Wiley.\n",
       "\\end{Source}"
      ],
      "text/plain": [
       "Boston                  package:MASS                   R Documentation\n",
       "\n",
       "_\bH_\bo_\bu_\bs_\bi_\bn_\bg _\bV_\ba_\bl_\bu_\be_\bs _\bi_\bn _\bS_\bu_\bb_\bu_\br_\bb_\bs _\bo_\bf _\bB_\bo_\bs_\bt_\bo_\bn\n",
       "\n",
       "_\bD_\be_\bs_\bc_\br_\bi_\bp_\bt_\bi_\bo_\bn:\n",
       "\n",
       "     The ‘Boston’ data frame has 506 rows and 14 columns.\n",
       "\n",
       "_\bU_\bs_\ba_\bg_\be:\n",
       "\n",
       "     Boston\n",
       "     \n",
       "_\bF_\bo_\br_\bm_\ba_\bt:\n",
       "\n",
       "     This data frame contains the following columns:\n",
       "\n",
       "     ‘crim’ per capita crime rate by town.\n",
       "\n",
       "     ‘zn’ proportion of residential land zoned for lots over 25,000\n",
       "          sq.ft.\n",
       "\n",
       "     ‘indus’ proportion of non-retail business acres per town.\n",
       "\n",
       "     ‘chas’ Charles River dummy variable (= 1 if tract bounds river; 0\n",
       "          otherwise).\n",
       "\n",
       "     ‘nox’ nitrogen oxides concentration (parts per 10 million).\n",
       "\n",
       "     ‘rm’ average number of rooms per dwelling.\n",
       "\n",
       "     ‘age’ proportion of owner-occupied units built prior to 1940.\n",
       "\n",
       "     ‘dis’ weighted mean of distances to five Boston employment\n",
       "          centres.\n",
       "\n",
       "     ‘rad’ index of accessibility to radial highways.\n",
       "\n",
       "     ‘tax’ full-value property-tax rate per \\$10,000.\n",
       "\n",
       "     ‘ptratio’ pupil-teacher ratio by town.\n",
       "\n",
       "     ‘black’ 1000(Bk - 0.63)^2 where Bk is the proportion of blacks by\n",
       "          town.\n",
       "\n",
       "     ‘lstat’ lower status of the population (percent).\n",
       "\n",
       "     ‘medv’ median value of owner-occupied homes in \\$1000s.\n",
       "\n",
       "_\bS_\bo_\bu_\br_\bc_\be:\n",
       "\n",
       "     Harrison, D. and Rubinfeld, D.L. (1978) Hedonic prices and the\n",
       "     demand for clean air.  _J. Environ. Economics and Management_ *5*,\n",
       "     81-102.\n",
       "\n",
       "     Belsley D.A., Kuh, E.  and Welsch, R.E. (1980) _Regression\n",
       "     Diagnostics. Identifying Influential Data and Sources of\n",
       "     Collinearity._ New York: Wiley.\n"
      ]
     },
     "metadata": {},
     "output_type": "display_data"
    }
   ],
   "source": [
    "library(MASS)\n",
    "?Boston"
   ]
  },
  {
   "cell_type": "markdown",
   "id": "c8eca747-ab99-4cbc-bad0-eb1d0bfa94cb",
   "metadata": {},
   "source": [
    "Переглянемо дані:"
   ]
  },
  {
   "cell_type": "code",
   "execution_count": 5,
   "id": "e4b93bcb-7cd4-4cd9-9a95-0a6614a169ed",
   "metadata": {},
   "outputs": [
    {
     "data": {
      "text/html": [
       "<table class=\"dataframe\">\n",
       "<caption>A data.frame: 6 × 14</caption>\n",
       "<thead>\n",
       "\t<tr><th></th><th scope=col>crim</th><th scope=col>zn</th><th scope=col>indus</th><th scope=col>chas</th><th scope=col>nox</th><th scope=col>rm</th><th scope=col>age</th><th scope=col>dis</th><th scope=col>rad</th><th scope=col>tax</th><th scope=col>ptratio</th><th scope=col>black</th><th scope=col>lstat</th><th scope=col>medv</th></tr>\n",
       "\t<tr><th></th><th scope=col>&lt;dbl&gt;</th><th scope=col>&lt;dbl&gt;</th><th scope=col>&lt;dbl&gt;</th><th scope=col>&lt;int&gt;</th><th scope=col>&lt;dbl&gt;</th><th scope=col>&lt;dbl&gt;</th><th scope=col>&lt;dbl&gt;</th><th scope=col>&lt;dbl&gt;</th><th scope=col>&lt;int&gt;</th><th scope=col>&lt;dbl&gt;</th><th scope=col>&lt;dbl&gt;</th><th scope=col>&lt;dbl&gt;</th><th scope=col>&lt;dbl&gt;</th><th scope=col>&lt;dbl&gt;</th></tr>\n",
       "</thead>\n",
       "<tbody>\n",
       "\t<tr><th scope=row>1</th><td>0.00632</td><td>18</td><td>2.31</td><td>0</td><td>0.538</td><td>6.575</td><td>65.2</td><td>4.0900</td><td>1</td><td>296</td><td>15.3</td><td>396.90</td><td>4.98</td><td>24.0</td></tr>\n",
       "\t<tr><th scope=row>2</th><td>0.02731</td><td> 0</td><td>7.07</td><td>0</td><td>0.469</td><td>6.421</td><td>78.9</td><td>4.9671</td><td>2</td><td>242</td><td>17.8</td><td>396.90</td><td>9.14</td><td>21.6</td></tr>\n",
       "\t<tr><th scope=row>3</th><td>0.02729</td><td> 0</td><td>7.07</td><td>0</td><td>0.469</td><td>7.185</td><td>61.1</td><td>4.9671</td><td>2</td><td>242</td><td>17.8</td><td>392.83</td><td>4.03</td><td>34.7</td></tr>\n",
       "\t<tr><th scope=row>4</th><td>0.03237</td><td> 0</td><td>2.18</td><td>0</td><td>0.458</td><td>6.998</td><td>45.8</td><td>6.0622</td><td>3</td><td>222</td><td>18.7</td><td>394.63</td><td>2.94</td><td>33.4</td></tr>\n",
       "\t<tr><th scope=row>5</th><td>0.06905</td><td> 0</td><td>2.18</td><td>0</td><td>0.458</td><td>7.147</td><td>54.2</td><td>6.0622</td><td>3</td><td>222</td><td>18.7</td><td>396.90</td><td>5.33</td><td>36.2</td></tr>\n",
       "\t<tr><th scope=row>6</th><td>0.02985</td><td> 0</td><td>2.18</td><td>0</td><td>0.458</td><td>6.430</td><td>58.7</td><td>6.0622</td><td>3</td><td>222</td><td>18.7</td><td>394.12</td><td>5.21</td><td>28.7</td></tr>\n",
       "</tbody>\n",
       "</table>\n"
      ],
      "text/latex": [
       "A data.frame: 6 × 14\n",
       "\\begin{tabular}{r|llllllllllllll}\n",
       "  & crim & zn & indus & chas & nox & rm & age & dis & rad & tax & ptratio & black & lstat & medv\\\\\n",
       "  & <dbl> & <dbl> & <dbl> & <int> & <dbl> & <dbl> & <dbl> & <dbl> & <int> & <dbl> & <dbl> & <dbl> & <dbl> & <dbl>\\\\\n",
       "\\hline\n",
       "\t1 & 0.00632 & 18 & 2.31 & 0 & 0.538 & 6.575 & 65.2 & 4.0900 & 1 & 296 & 15.3 & 396.90 & 4.98 & 24.0\\\\\n",
       "\t2 & 0.02731 &  0 & 7.07 & 0 & 0.469 & 6.421 & 78.9 & 4.9671 & 2 & 242 & 17.8 & 396.90 & 9.14 & 21.6\\\\\n",
       "\t3 & 0.02729 &  0 & 7.07 & 0 & 0.469 & 7.185 & 61.1 & 4.9671 & 2 & 242 & 17.8 & 392.83 & 4.03 & 34.7\\\\\n",
       "\t4 & 0.03237 &  0 & 2.18 & 0 & 0.458 & 6.998 & 45.8 & 6.0622 & 3 & 222 & 18.7 & 394.63 & 2.94 & 33.4\\\\\n",
       "\t5 & 0.06905 &  0 & 2.18 & 0 & 0.458 & 7.147 & 54.2 & 6.0622 & 3 & 222 & 18.7 & 396.90 & 5.33 & 36.2\\\\\n",
       "\t6 & 0.02985 &  0 & 2.18 & 0 & 0.458 & 6.430 & 58.7 & 6.0622 & 3 & 222 & 18.7 & 394.12 & 5.21 & 28.7\\\\\n",
       "\\end{tabular}\n"
      ],
      "text/markdown": [
       "\n",
       "A data.frame: 6 × 14\n",
       "\n",
       "| <!--/--> | crim &lt;dbl&gt; | zn &lt;dbl&gt; | indus &lt;dbl&gt; | chas &lt;int&gt; | nox &lt;dbl&gt; | rm &lt;dbl&gt; | age &lt;dbl&gt; | dis &lt;dbl&gt; | rad &lt;int&gt; | tax &lt;dbl&gt; | ptratio &lt;dbl&gt; | black &lt;dbl&gt; | lstat &lt;dbl&gt; | medv &lt;dbl&gt; |\n",
       "|---|---|---|---|---|---|---|---|---|---|---|---|---|---|---|\n",
       "| 1 | 0.00632 | 18 | 2.31 | 0 | 0.538 | 6.575 | 65.2 | 4.0900 | 1 | 296 | 15.3 | 396.90 | 4.98 | 24.0 |\n",
       "| 2 | 0.02731 |  0 | 7.07 | 0 | 0.469 | 6.421 | 78.9 | 4.9671 | 2 | 242 | 17.8 | 396.90 | 9.14 | 21.6 |\n",
       "| 3 | 0.02729 |  0 | 7.07 | 0 | 0.469 | 7.185 | 61.1 | 4.9671 | 2 | 242 | 17.8 | 392.83 | 4.03 | 34.7 |\n",
       "| 4 | 0.03237 |  0 | 2.18 | 0 | 0.458 | 6.998 | 45.8 | 6.0622 | 3 | 222 | 18.7 | 394.63 | 2.94 | 33.4 |\n",
       "| 5 | 0.06905 |  0 | 2.18 | 0 | 0.458 | 7.147 | 54.2 | 6.0622 | 3 | 222 | 18.7 | 396.90 | 5.33 | 36.2 |\n",
       "| 6 | 0.02985 |  0 | 2.18 | 0 | 0.458 | 6.430 | 58.7 | 6.0622 | 3 | 222 | 18.7 | 394.12 | 5.21 | 28.7 |\n",
       "\n"
      ],
      "text/plain": [
       "  crim    zn indus chas nox   rm    age  dis    rad tax ptratio black  lstat\n",
       "1 0.00632 18 2.31  0    0.538 6.575 65.2 4.0900 1   296 15.3    396.90 4.98 \n",
       "2 0.02731  0 7.07  0    0.469 6.421 78.9 4.9671 2   242 17.8    396.90 9.14 \n",
       "3 0.02729  0 7.07  0    0.469 7.185 61.1 4.9671 2   242 17.8    392.83 4.03 \n",
       "4 0.03237  0 2.18  0    0.458 6.998 45.8 6.0622 3   222 18.7    394.63 2.94 \n",
       "5 0.06905  0 2.18  0    0.458 7.147 54.2 6.0622 3   222 18.7    396.90 5.33 \n",
       "6 0.02985  0 2.18  0    0.458 6.430 58.7 6.0622 3   222 18.7    394.12 5.21 \n",
       "  medv\n",
       "1 24.0\n",
       "2 21.6\n",
       "3 34.7\n",
       "4 33.4\n",
       "5 36.2\n",
       "6 28.7"
      ]
     },
     "metadata": {},
     "output_type": "display_data"
    }
   ],
   "source": [
    "head(Boston)"
   ]
  },
  {
   "cell_type": "code",
   "execution_count": 6,
   "id": "33a645e5-ef7a-4f2c-a28b-fa97e6bb3793",
   "metadata": {},
   "outputs": [
    {
     "name": "stdout",
     "output_type": "stream",
     "text": [
      "'data.frame':\t506 obs. of  14 variables:\n",
      " $ crim   : num  0.00632 0.02731 0.02729 0.03237 0.06905 ...\n",
      " $ zn     : num  18 0 0 0 0 0 12.5 12.5 12.5 12.5 ...\n",
      " $ indus  : num  2.31 7.07 7.07 2.18 2.18 2.18 7.87 7.87 7.87 7.87 ...\n",
      " $ chas   : int  0 0 0 0 0 0 0 0 0 0 ...\n",
      " $ nox    : num  0.538 0.469 0.469 0.458 0.458 0.458 0.524 0.524 0.524 0.524 ...\n",
      " $ rm     : num  6.58 6.42 7.18 7 7.15 ...\n",
      " $ age    : num  65.2 78.9 61.1 45.8 54.2 58.7 66.6 96.1 100 85.9 ...\n",
      " $ dis    : num  4.09 4.97 4.97 6.06 6.06 ...\n",
      " $ rad    : int  1 2 2 3 3 3 5 5 5 5 ...\n",
      " $ tax    : num  296 242 242 222 222 222 311 311 311 311 ...\n",
      " $ ptratio: num  15.3 17.8 17.8 18.7 18.7 18.7 15.2 15.2 15.2 15.2 ...\n",
      " $ black  : num  397 397 393 395 397 ...\n",
      " $ lstat  : num  4.98 9.14 4.03 2.94 5.33 ...\n",
      " $ medv   : num  24 21.6 34.7 33.4 36.2 28.7 22.9 27.1 16.5 18.9 ...\n"
     ]
    }
   ],
   "source": [
    "str(Boston)"
   ]
  },
  {
   "cell_type": "markdown",
   "id": "477eb946-aadf-4644-a7d1-17447326e0c2",
   "metadata": {},
   "source": [
    "# 2. Data visualization"
   ]
  },
  {
   "cell_type": "markdown",
   "id": "c9522f05-648d-4c99-aaab-9091ed103888",
   "metadata": {},
   "source": [
    "Lets move our dataset to special variable:"
   ]
  },
  {
   "cell_type": "code",
   "execution_count": 7,
   "id": "21df4957-f07b-4758-b1e9-2686fab35008",
   "metadata": {},
   "outputs": [
    {
     "data": {
      "text/html": [
       "<table class=\"dataframe\">\n",
       "<caption>A data.frame: 6 × 14</caption>\n",
       "<thead>\n",
       "\t<tr><th></th><th scope=col>crim</th><th scope=col>zn</th><th scope=col>indus</th><th scope=col>chas</th><th scope=col>nox</th><th scope=col>rm</th><th scope=col>age</th><th scope=col>dis</th><th scope=col>rad</th><th scope=col>tax</th><th scope=col>ptratio</th><th scope=col>black</th><th scope=col>lstat</th><th scope=col>medv</th></tr>\n",
       "\t<tr><th></th><th scope=col>&lt;dbl&gt;</th><th scope=col>&lt;dbl&gt;</th><th scope=col>&lt;dbl&gt;</th><th scope=col>&lt;int&gt;</th><th scope=col>&lt;dbl&gt;</th><th scope=col>&lt;dbl&gt;</th><th scope=col>&lt;dbl&gt;</th><th scope=col>&lt;dbl&gt;</th><th scope=col>&lt;int&gt;</th><th scope=col>&lt;dbl&gt;</th><th scope=col>&lt;dbl&gt;</th><th scope=col>&lt;dbl&gt;</th><th scope=col>&lt;dbl&gt;</th><th scope=col>&lt;dbl&gt;</th></tr>\n",
       "</thead>\n",
       "<tbody>\n",
       "\t<tr><th scope=row>1</th><td>0.00632</td><td>18</td><td>2.31</td><td>0</td><td>0.538</td><td>6.575</td><td>65.2</td><td>4.0900</td><td>1</td><td>296</td><td>15.3</td><td>396.90</td><td>4.98</td><td>24.0</td></tr>\n",
       "\t<tr><th scope=row>2</th><td>0.02731</td><td> 0</td><td>7.07</td><td>0</td><td>0.469</td><td>6.421</td><td>78.9</td><td>4.9671</td><td>2</td><td>242</td><td>17.8</td><td>396.90</td><td>9.14</td><td>21.6</td></tr>\n",
       "\t<tr><th scope=row>3</th><td>0.02729</td><td> 0</td><td>7.07</td><td>0</td><td>0.469</td><td>7.185</td><td>61.1</td><td>4.9671</td><td>2</td><td>242</td><td>17.8</td><td>392.83</td><td>4.03</td><td>34.7</td></tr>\n",
       "\t<tr><th scope=row>4</th><td>0.03237</td><td> 0</td><td>2.18</td><td>0</td><td>0.458</td><td>6.998</td><td>45.8</td><td>6.0622</td><td>3</td><td>222</td><td>18.7</td><td>394.63</td><td>2.94</td><td>33.4</td></tr>\n",
       "\t<tr><th scope=row>5</th><td>0.06905</td><td> 0</td><td>2.18</td><td>0</td><td>0.458</td><td>7.147</td><td>54.2</td><td>6.0622</td><td>3</td><td>222</td><td>18.7</td><td>396.90</td><td>5.33</td><td>36.2</td></tr>\n",
       "\t<tr><th scope=row>6</th><td>0.02985</td><td> 0</td><td>2.18</td><td>0</td><td>0.458</td><td>6.430</td><td>58.7</td><td>6.0622</td><td>3</td><td>222</td><td>18.7</td><td>394.12</td><td>5.21</td><td>28.7</td></tr>\n",
       "</tbody>\n",
       "</table>\n"
      ],
      "text/latex": [
       "A data.frame: 6 × 14\n",
       "\\begin{tabular}{r|llllllllllllll}\n",
       "  & crim & zn & indus & chas & nox & rm & age & dis & rad & tax & ptratio & black & lstat & medv\\\\\n",
       "  & <dbl> & <dbl> & <dbl> & <int> & <dbl> & <dbl> & <dbl> & <dbl> & <int> & <dbl> & <dbl> & <dbl> & <dbl> & <dbl>\\\\\n",
       "\\hline\n",
       "\t1 & 0.00632 & 18 & 2.31 & 0 & 0.538 & 6.575 & 65.2 & 4.0900 & 1 & 296 & 15.3 & 396.90 & 4.98 & 24.0\\\\\n",
       "\t2 & 0.02731 &  0 & 7.07 & 0 & 0.469 & 6.421 & 78.9 & 4.9671 & 2 & 242 & 17.8 & 396.90 & 9.14 & 21.6\\\\\n",
       "\t3 & 0.02729 &  0 & 7.07 & 0 & 0.469 & 7.185 & 61.1 & 4.9671 & 2 & 242 & 17.8 & 392.83 & 4.03 & 34.7\\\\\n",
       "\t4 & 0.03237 &  0 & 2.18 & 0 & 0.458 & 6.998 & 45.8 & 6.0622 & 3 & 222 & 18.7 & 394.63 & 2.94 & 33.4\\\\\n",
       "\t5 & 0.06905 &  0 & 2.18 & 0 & 0.458 & 7.147 & 54.2 & 6.0622 & 3 & 222 & 18.7 & 396.90 & 5.33 & 36.2\\\\\n",
       "\t6 & 0.02985 &  0 & 2.18 & 0 & 0.458 & 6.430 & 58.7 & 6.0622 & 3 & 222 & 18.7 & 394.12 & 5.21 & 28.7\\\\\n",
       "\\end{tabular}\n"
      ],
      "text/markdown": [
       "\n",
       "A data.frame: 6 × 14\n",
       "\n",
       "| <!--/--> | crim &lt;dbl&gt; | zn &lt;dbl&gt; | indus &lt;dbl&gt; | chas &lt;int&gt; | nox &lt;dbl&gt; | rm &lt;dbl&gt; | age &lt;dbl&gt; | dis &lt;dbl&gt; | rad &lt;int&gt; | tax &lt;dbl&gt; | ptratio &lt;dbl&gt; | black &lt;dbl&gt; | lstat &lt;dbl&gt; | medv &lt;dbl&gt; |\n",
       "|---|---|---|---|---|---|---|---|---|---|---|---|---|---|---|\n",
       "| 1 | 0.00632 | 18 | 2.31 | 0 | 0.538 | 6.575 | 65.2 | 4.0900 | 1 | 296 | 15.3 | 396.90 | 4.98 | 24.0 |\n",
       "| 2 | 0.02731 |  0 | 7.07 | 0 | 0.469 | 6.421 | 78.9 | 4.9671 | 2 | 242 | 17.8 | 396.90 | 9.14 | 21.6 |\n",
       "| 3 | 0.02729 |  0 | 7.07 | 0 | 0.469 | 7.185 | 61.1 | 4.9671 | 2 | 242 | 17.8 | 392.83 | 4.03 | 34.7 |\n",
       "| 4 | 0.03237 |  0 | 2.18 | 0 | 0.458 | 6.998 | 45.8 | 6.0622 | 3 | 222 | 18.7 | 394.63 | 2.94 | 33.4 |\n",
       "| 5 | 0.06905 |  0 | 2.18 | 0 | 0.458 | 7.147 | 54.2 | 6.0622 | 3 | 222 | 18.7 | 396.90 | 5.33 | 36.2 |\n",
       "| 6 | 0.02985 |  0 | 2.18 | 0 | 0.458 | 6.430 | 58.7 | 6.0622 | 3 | 222 | 18.7 | 394.12 | 5.21 | 28.7 |\n",
       "\n"
      ],
      "text/plain": [
       "  crim    zn indus chas nox   rm    age  dis    rad tax ptratio black  lstat\n",
       "1 0.00632 18 2.31  0    0.538 6.575 65.2 4.0900 1   296 15.3    396.90 4.98 \n",
       "2 0.02731  0 7.07  0    0.469 6.421 78.9 4.9671 2   242 17.8    396.90 9.14 \n",
       "3 0.02729  0 7.07  0    0.469 7.185 61.1 4.9671 2   242 17.8    392.83 4.03 \n",
       "4 0.03237  0 2.18  0    0.458 6.998 45.8 6.0622 3   222 18.7    394.63 2.94 \n",
       "5 0.06905  0 2.18  0    0.458 7.147 54.2 6.0622 3   222 18.7    396.90 5.33 \n",
       "6 0.02985  0 2.18  0    0.458 6.430 58.7 6.0622 3   222 18.7    394.12 5.21 \n",
       "  medv\n",
       "1 24.0\n",
       "2 21.6\n",
       "3 34.7\n",
       "4 33.4\n",
       "5 36.2\n",
       "6 28.7"
      ]
     },
     "metadata": {},
     "output_type": "display_data"
    }
   ],
   "source": [
    "data <- Boston\n",
    "head(data)"
   ]
  },
  {
   "cell_type": "markdown",
   "id": "ee60a661-2068-4fa6-868e-209662c588a2",
   "metadata": {},
   "source": [
    "Let's check a correlation between parameters: "
   ]
  },
  {
   "cell_type": "code",
   "execution_count": 8,
   "id": "b8a48538-4b4f-4166-b55d-1d62e5fb16fc",
   "metadata": {},
   "outputs": [
    {
     "name": "stderr",
     "output_type": "stream",
     "text": [
      "corrplot 0.89 loaded\n",
      "\n"
     ]
    },
    {
     "data": {
      "image/png": "[encoded data removed]",
      "text/plain": [
       "Plot with title “”"
      ]
     },
     "metadata": {
      "image/png": {
       "height": 420,
       "width": 420
      }
     },
     "output_type": "display_data"
    }
   ],
   "source": [
    "library(corrplot)\n",
    "corrplot(cor(data))"
   ]
  },
  {
   "cell_type": "markdown",
   "id": "8924b91e-81fb-459c-b42b-ffee3434a5c2",
   "metadata": {},
   "source": [
    "Rad and tax has highest correlation: 0.91\n",
    "\n",
    "- [x] `rad` - index of accessibility to radial highways.\n",
    "- [x] `tax` - full-value property-tax rate per $10,000."
   ]
  },
  {
   "cell_type": "code",
   "execution_count": 12,
   "id": "8904b01e-86bd-45f0-94df-9f7f51b02656",
   "metadata": {},
   "outputs": [
    {
     "data": {
      "image/png": "[encoded data removed]",
      "text/plain": [
       "plot without title"
      ]
     },
     "metadata": {
      "image/png": {
       "height": 420,
       "width": 420
      }
     },
     "output_type": "display_data"
    }
   ],
   "source": [
    "library(ggplot2)\n",
    "\n",
    "ggplot(data, aes(medv)) + \n",
    "    geom_histogram(bins = 25, alpha = 0.5, fill = 'blue', color='black')  + \n",
    "    theme_bw()"
   ]
  },
  {
   "cell_type": "code",
   "execution_count": 28,
   "id": "c5f69d51-d0da-411b-a3e8-e3be58480d0f",
   "metadata": {},
   "outputs": [
    {
     "data": {
      "image/png": "[encoded data removed]",
      "text/plain": [
       "plot without title"
      ]
     },
     "metadata": {
      "image/png": {
       "height": 420,
       "width": 420
      }
     },
     "output_type": "display_data"
    }
   ],
   "source": [
    "#crim\n",
    "ggplot(data, aes(crim)) + \n",
    "    geom_histogram(bins = 25, alpha = 0.5, fill = 'blue', color='black')  + \n",
    "    theme_bw()"
   ]
  },
  {
   "cell_type": "code",
   "execution_count": 44,
   "id": "706d000b-3626-4980-b64f-55cdcc792447",
   "metadata": {},
   "outputs": [
    {
     "data": {
      "image/png": "[encoded data removed]",
      "text/plain": [
       "plot without title"
      ]
     },
     "metadata": {
      "image/png": {
       "height": 420,
       "width": 420
      }
     },
     "output_type": "display_data"
    }
   ],
   "source": [
    "#zn\n",
    "ggplot(data, aes(zn)) + \n",
    "    geom_histogram(bins = 25, alpha = 0.5, fill = 'blue', color='black')  + \n",
    "    theme_bw()"
   ]
  },
  {
   "cell_type": "code",
   "execution_count": 46,
   "id": "0c8bbf03-545f-4577-814d-3869f98fa0c1",
   "metadata": {},
   "outputs": [
    {
     "data": {
      "image/png": "[encoded data removed]",
      "text/plain": [
       "plot without title"
      ]
     },
     "metadata": {
      "image/png": {
       "height": 420,
       "width": 420
      }
     },
     "output_type": "display_data"
    }
   ],
   "source": [
    "#indus\n",
    "ggplot(data, aes(indus)) + \n",
    "    geom_histogram(bins = 25, alpha = 0.5, fill = 'blue', color='black')  + \n",
    "    theme_bw()"
   ]
  },
  {
   "cell_type": "code",
   "execution_count": 52,
   "id": "9416de18-4b3f-4da8-a916-585109d8f79e",
   "metadata": {},
   "outputs": [
    {
     "data": {
      "image/png": "[encoded data removed]",
      "text/plain": [
       "plot without title"
      ]
     },
     "metadata": {
      "image/png": {
       "height": 420,
       "width": 420
      }
     },
     "output_type": "display_data"
    }
   ],
   "source": [
    "#chas \n",
    "ggplot(data, aes(chas)) + \n",
    "    geom_bar(aes(fill = chas)) + \n",
    "    theme_bw()"
   ]
  },
  {
   "cell_type": "code",
   "execution_count": 56,
   "id": "d4f744a8-70fe-40aa-b576-4248bb92e80e",
   "metadata": {},
   "outputs": [
    {
     "data": {
      "image/png": "[encoded data removed]",
      "text/plain": [
       "plot without title"
      ]
     },
     "metadata": {
      "image/png": {
       "height": 420,
       "width": 420
      }
     },
     "output_type": "display_data"
    }
   ],
   "source": [
    "# nox\n",
    "ggplot(data, aes(nox)) + \n",
    "    geom_histogram(bins = 10, alpha = 0.5, fill = 'blue', color='black')  + \n",
    "    theme_bw()"
   ]
  },
  {
   "cell_type": "code",
   "execution_count": 58,
   "id": "7b09e593-659c-4a6e-a7e1-616e66091ee4",
   "metadata": {},
   "outputs": [
    {
     "data": {
      "image/png": "[encoded data removed]",
      "text/plain": [
       "plot without title"
      ]
     },
     "metadata": {
      "image/png": {
       "height": 420,
       "width": 420
      }
     },
     "output_type": "display_data"
    }
   ],
   "source": [
    "# rm\n",
    "ggplot(data, aes(rm)) + \n",
    "    geom_histogram(bins = 10, alpha = 0.5, fill = 'blue', color='black')  + \n",
    "    theme_bw()"
   ]
  },
  {
   "cell_type": "code",
   "execution_count": 59,
   "id": "8f2eb1af-c8cc-48a5-86aa-9d8aab6b7a20",
   "metadata": {},
   "outputs": [
    {
     "data": {
      "image/png": "[encoded data removed]",
      "text/plain": [
       "plot without title"
      ]
     },
     "metadata": {
      "image/png": {
       "height": 420,
       "width": 420
      }
     },
     "output_type": "display_data"
    }
   ],
   "source": [
    "# age\n",
    "ggplot(data, aes(age)) + \n",
    "    geom_histogram(bins = 15, alpha = 0.5, fill = 'blue', color='black')  + \n",
    "    theme_bw()"
   ]
  },
  {
   "cell_type": "code",
   "execution_count": 61,
   "id": "0b710f2b-f12d-44e6-8206-ddf7e87309ab",
   "metadata": {},
   "outputs": [
    {
     "data": {
      "image/png": "[encoded data removed]",
      "text/plain": [
       "plot without title"
      ]
     },
     "metadata": {
      "image/png": {
       "height": 420,
       "width": 420
      }
     },
     "output_type": "display_data"
    }
   ],
   "source": [
    "# dis\n",
    "ggplot(data, aes(dis)) + \n",
    "    geom_histogram(bins = 15, alpha = 0.5, fill = 'blue', color='black')  + \n",
    "    theme_bw()"
   ]
  },
  {
   "cell_type": "code",
   "execution_count": 68,
   "id": "3bec2bb1-7423-4c64-8e7c-0d5d0be6a73f",
   "metadata": {},
   "outputs": [
    {
     "data": {
      "image/png": "[encoded data removed]",
      "text/plain": [
       "plot without title"
      ]
     },
     "metadata": {
      "image/png": {
       "height": 420,
       "width": 420
      }
     },
     "output_type": "display_data"
    }
   ],
   "source": [
    "#rad\n",
    "ggplot(data, aes(ptratio)) + \n",
    "    geom_histogram(bins = 10, alpha = 0.5, fill = 'blue', color='black')  + \n",
    "    theme_bw()"
   ]
  },
  {
   "cell_type": "code",
   "execution_count": 71,
   "id": "9349c931-4cd2-4b78-979d-c8dbae54f893",
   "metadata": {},
   "outputs": [
    {
     "data": {
      "image/png": "[encoded data removed]",
      "text/plain": [
       "plot without title"
      ]
     },
     "metadata": {
      "image/png": {
       "height": 420,
       "width": 420
      }
     },
     "output_type": "display_data"
    }
   ],
   "source": [
    "# black\n",
    "ggplot(data, aes(black)) + \n",
    "    geom_histogram(bins = 10, alpha = 0.5, fill = 'blue', color='black')  + \n",
    "    theme_bw()"
   ]
  },
  {
   "cell_type": "code",
   "execution_count": 73,
   "id": "33e22516-8123-40c4-b591-0737a4f0afb0",
   "metadata": {},
   "outputs": [
    {
     "data": {
      "image/png": "[encoded data removed]",
      "text/plain": [
       "plot without title"
      ]
     },
     "metadata": {
      "image/png": {
       "height": 420,
       "width": 420
      }
     },
     "output_type": "display_data"
    }
   ],
   "source": [
    "# lstat\n",
    "ggplot(data, aes(lstat)) + \n",
    "    geom_histogram(bins = 25, alpha = 0.5, fill = 'blue', color='black')  + \n",
    "    theme_bw()"
   ]
  },
  {
   "cell_type": "code",
   "execution_count": null,
   "id": "79268f70-068b-48eb-81d1-91c9123a75a1",
   "metadata": {},
   "outputs": [],
   "source": [
    "# nox\n",
    "ggplot(data, aes(nox)) + \n",
    "    geom_histogram(bins = 25, alpha = 0.5, fill = 'blue', color='black')  + \n",
    "    theme_bw()"
   ]
  },
  {
   "cell_type": "markdown",
   "id": "24b27224-13d6-4213-b46a-640eae2fcd3c",
   "metadata": {},
   "source": [
    "---"
   ]
  },
  {
   "cell_type": "markdown",
   "id": "861d0194-d7a5-46fa-a713-c82423e96c3b",
   "metadata": {},
   "source": [
    "# 3. Data scaling"
   ]
  },
  {
   "cell_type": "markdown",
   "id": "5574b2e7-63c9-469c-96d0-ed8fcf17fba4",
   "metadata": {},
   "source": [
    "Для роботи з нейромережами хорошою практикою є нормалізація даних перед використанням. Скористаємося формулою $(X-Xmin)/(Xmax-Xmin)$."
   ]
  },
  {
   "cell_type": "markdown",
   "id": "18fe3b95-2436-4f95-ab18-be725f9b4b7a",
   "metadata": {},
   "source": [
    "Визначимо мінімальні та максимальні значення по факторах:"
   ]
  },
  {
   "cell_type": "code",
   "execution_count": 9,
   "id": "14ea07bd-b8b1-45c2-a137-7d691ba922b2",
   "metadata": {},
   "outputs": [
    {
     "name": "stderr",
     "output_type": "stream",
     "text": [
      "\n",
      "Attaching package: ‘dplyr’\n",
      "\n",
      "\n",
      "The following object is masked from ‘package:MASS’:\n",
      "\n",
      "    select\n",
      "\n",
      "\n",
      "The following objects are masked from ‘package:stats’:\n",
      "\n",
      "    filter, lag\n",
      "\n",
      "\n",
      "The following objects are masked from ‘package:base’:\n",
      "\n",
      "    intersect, setdiff, setequal, union\n",
      "\n",
      "\n"
     ]
    }
   ],
   "source": [
    "library(dplyr)"
   ]
  },
  {
   "cell_type": "code",
   "execution_count": 10,
   "id": "1e5ca2b8-b28a-43b7-bb47-cfdcebe03d99",
   "metadata": {},
   "outputs": [],
   "source": [
    "normalizeData <- function(x) {\n",
    "    return ((x - min(x)) / (max(x) - min(x)))\n",
    "}"
   ]
  },
  {
   "cell_type": "code",
   "execution_count": 11,
   "id": "5ad11406-59ea-4880-8ab3-5d4a25e7cedd",
   "metadata": {},
   "outputs": [
    {
     "data": {
      "text/html": [
       "<table class=\"dataframe\">\n",
       "<caption>A data.frame: 6 × 14</caption>\n",
       "<thead>\n",
       "\t<tr><th></th><th scope=col>crim</th><th scope=col>zn</th><th scope=col>indus</th><th scope=col>chas</th><th scope=col>nox</th><th scope=col>rm</th><th scope=col>age</th><th scope=col>dis</th><th scope=col>rad</th><th scope=col>tax</th><th scope=col>ptratio</th><th scope=col>black</th><th scope=col>lstat</th><th scope=col>medv</th></tr>\n",
       "\t<tr><th></th><th scope=col>&lt;dbl&gt;</th><th scope=col>&lt;dbl&gt;</th><th scope=col>&lt;dbl&gt;</th><th scope=col>&lt;dbl&gt;</th><th scope=col>&lt;dbl&gt;</th><th scope=col>&lt;dbl&gt;</th><th scope=col>&lt;dbl&gt;</th><th scope=col>&lt;dbl&gt;</th><th scope=col>&lt;dbl&gt;</th><th scope=col>&lt;dbl&gt;</th><th scope=col>&lt;dbl&gt;</th><th scope=col>&lt;dbl&gt;</th><th scope=col>&lt;dbl&gt;</th><th scope=col>&lt;dbl&gt;</th></tr>\n",
       "</thead>\n",
       "<tbody>\n",
       "\t<tr><th scope=row>1</th><td>0.0000000000</td><td>0.18</td><td>0.06781525</td><td>0</td><td>0.3148148</td><td>0.5775053</td><td>0.6416066</td><td>0.2692031</td><td>0.00000000</td><td>0.20801527</td><td>0.2872340</td><td>1.0000000</td><td>0.08967991</td><td>0.4222222</td></tr>\n",
       "\t<tr><th scope=row>2</th><td>0.0002359225</td><td>0.00</td><td>0.24230205</td><td>0</td><td>0.1728395</td><td>0.5479977</td><td>0.7826982</td><td>0.3489620</td><td>0.04347826</td><td>0.10496183</td><td>0.5531915</td><td>1.0000000</td><td>0.20447020</td><td>0.3688889</td></tr>\n",
       "\t<tr><th scope=row>3</th><td>0.0002356977</td><td>0.00</td><td>0.24230205</td><td>0</td><td>0.1728395</td><td>0.6943859</td><td>0.5993821</td><td>0.3489620</td><td>0.04347826</td><td>0.10496183</td><td>0.5531915</td><td>0.9897373</td><td>0.06346578</td><td>0.6600000</td></tr>\n",
       "\t<tr><th scope=row>4</th><td>0.0002927957</td><td>0.00</td><td>0.06304985</td><td>0</td><td>0.1502058</td><td>0.6585553</td><td>0.4418126</td><td>0.4485446</td><td>0.08695652</td><td>0.06679389</td><td>0.6489362</td><td>0.9942761</td><td>0.03338852</td><td>0.6311111</td></tr>\n",
       "\t<tr><th scope=row>5</th><td>0.0007050701</td><td>0.00</td><td>0.06304985</td><td>0</td><td>0.1502058</td><td>0.6871048</td><td>0.5283213</td><td>0.4485446</td><td>0.08695652</td><td>0.06679389</td><td>0.6489362</td><td>1.0000000</td><td>0.09933775</td><td>0.6933333</td></tr>\n",
       "\t<tr><th scope=row>6</th><td>0.0002644715</td><td>0.00</td><td>0.06304985</td><td>0</td><td>0.1502058</td><td>0.5497222</td><td>0.5746653</td><td>0.4485446</td><td>0.08695652</td><td>0.06679389</td><td>0.6489362</td><td>0.9929901</td><td>0.09602649</td><td>0.5266667</td></tr>\n",
       "</tbody>\n",
       "</table>\n"
      ],
      "text/latex": [
       "A data.frame: 6 × 14\n",
       "\\begin{tabular}{r|llllllllllllll}\n",
       "  & crim & zn & indus & chas & nox & rm & age & dis & rad & tax & ptratio & black & lstat & medv\\\\\n",
       "  & <dbl> & <dbl> & <dbl> & <dbl> & <dbl> & <dbl> & <dbl> & <dbl> & <dbl> & <dbl> & <dbl> & <dbl> & <dbl> & <dbl>\\\\\n",
       "\\hline\n",
       "\t1 & 0.0000000000 & 0.18 & 0.06781525 & 0 & 0.3148148 & 0.5775053 & 0.6416066 & 0.2692031 & 0.00000000 & 0.20801527 & 0.2872340 & 1.0000000 & 0.08967991 & 0.4222222\\\\\n",
       "\t2 & 0.0002359225 & 0.00 & 0.24230205 & 0 & 0.1728395 & 0.5479977 & 0.7826982 & 0.3489620 & 0.04347826 & 0.10496183 & 0.5531915 & 1.0000000 & 0.20447020 & 0.3688889\\\\\n",
       "\t3 & 0.0002356977 & 0.00 & 0.24230205 & 0 & 0.1728395 & 0.6943859 & 0.5993821 & 0.3489620 & 0.04347826 & 0.10496183 & 0.5531915 & 0.9897373 & 0.06346578 & 0.6600000\\\\\n",
       "\t4 & 0.0002927957 & 0.00 & 0.06304985 & 0 & 0.1502058 & 0.6585553 & 0.4418126 & 0.4485446 & 0.08695652 & 0.06679389 & 0.6489362 & 0.9942761 & 0.03338852 & 0.6311111\\\\\n",
       "\t5 & 0.0007050701 & 0.00 & 0.06304985 & 0 & 0.1502058 & 0.6871048 & 0.5283213 & 0.4485446 & 0.08695652 & 0.06679389 & 0.6489362 & 1.0000000 & 0.09933775 & 0.6933333\\\\\n",
       "\t6 & 0.0002644715 & 0.00 & 0.06304985 & 0 & 0.1502058 & 0.5497222 & 0.5746653 & 0.4485446 & 0.08695652 & 0.06679389 & 0.6489362 & 0.9929901 & 0.09602649 & 0.5266667\\\\\n",
       "\\end{tabular}\n"
      ],
      "text/markdown": [
       "\n",
       "A data.frame: 6 × 14\n",
       "\n",
       "| <!--/--> | crim &lt;dbl&gt; | zn &lt;dbl&gt; | indus &lt;dbl&gt; | chas &lt;dbl&gt; | nox &lt;dbl&gt; | rm &lt;dbl&gt; | age &lt;dbl&gt; | dis &lt;dbl&gt; | rad &lt;dbl&gt; | tax &lt;dbl&gt; | ptratio &lt;dbl&gt; | black &lt;dbl&gt; | lstat &lt;dbl&gt; | medv &lt;dbl&gt; |\n",
       "|---|---|---|---|---|---|---|---|---|---|---|---|---|---|---|\n",
       "| 1 | 0.0000000000 | 0.18 | 0.06781525 | 0 | 0.3148148 | 0.5775053 | 0.6416066 | 0.2692031 | 0.00000000 | 0.20801527 | 0.2872340 | 1.0000000 | 0.08967991 | 0.4222222 |\n",
       "| 2 | 0.0002359225 | 0.00 | 0.24230205 | 0 | 0.1728395 | 0.5479977 | 0.7826982 | 0.3489620 | 0.04347826 | 0.10496183 | 0.5531915 | 1.0000000 | 0.20447020 | 0.3688889 |\n",
       "| 3 | 0.0002356977 | 0.00 | 0.24230205 | 0 | 0.1728395 | 0.6943859 | 0.5993821 | 0.3489620 | 0.04347826 | 0.10496183 | 0.5531915 | 0.9897373 | 0.06346578 | 0.6600000 |\n",
       "| 4 | 0.0002927957 | 0.00 | 0.06304985 | 0 | 0.1502058 | 0.6585553 | 0.4418126 | 0.4485446 | 0.08695652 | 0.06679389 | 0.6489362 | 0.9942761 | 0.03338852 | 0.6311111 |\n",
       "| 5 | 0.0007050701 | 0.00 | 0.06304985 | 0 | 0.1502058 | 0.6871048 | 0.5283213 | 0.4485446 | 0.08695652 | 0.06679389 | 0.6489362 | 1.0000000 | 0.09933775 | 0.6933333 |\n",
       "| 6 | 0.0002644715 | 0.00 | 0.06304985 | 0 | 0.1502058 | 0.5497222 | 0.5746653 | 0.4485446 | 0.08695652 | 0.06679389 | 0.6489362 | 0.9929901 | 0.09602649 | 0.5266667 |\n",
       "\n"
      ],
      "text/plain": [
       "  crim         zn   indus      chas nox       rm        age       dis      \n",
       "1 0.0000000000 0.18 0.06781525 0    0.3148148 0.5775053 0.6416066 0.2692031\n",
       "2 0.0002359225 0.00 0.24230205 0    0.1728395 0.5479977 0.7826982 0.3489620\n",
       "3 0.0002356977 0.00 0.24230205 0    0.1728395 0.6943859 0.5993821 0.3489620\n",
       "4 0.0002927957 0.00 0.06304985 0    0.1502058 0.6585553 0.4418126 0.4485446\n",
       "5 0.0007050701 0.00 0.06304985 0    0.1502058 0.6871048 0.5283213 0.4485446\n",
       "6 0.0002644715 0.00 0.06304985 0    0.1502058 0.5497222 0.5746653 0.4485446\n",
       "  rad        tax        ptratio   black     lstat      medv     \n",
       "1 0.00000000 0.20801527 0.2872340 1.0000000 0.08967991 0.4222222\n",
       "2 0.04347826 0.10496183 0.5531915 1.0000000 0.20447020 0.3688889\n",
       "3 0.04347826 0.10496183 0.5531915 0.9897373 0.06346578 0.6600000\n",
       "4 0.08695652 0.06679389 0.6489362 0.9942761 0.03338852 0.6311111\n",
       "5 0.08695652 0.06679389 0.6489362 1.0000000 0.09933775 0.6933333\n",
       "6 0.08695652 0.06679389 0.6489362 0.9929901 0.09602649 0.5266667"
      ]
     },
     "metadata": {},
     "output_type": "display_data"
    }
   ],
   "source": [
    "scaled_data <- sapply(X = data, FUN = normalizeData) %>% as.data.frame() \n",
    "scaled_data %>% head()"
   ]
  },
  {
   "cell_type": "markdown",
   "id": "d6e72397-ff76-4bf0-a0a2-845aa8ac9b4b",
   "metadata": {},
   "source": [
    "Нормалізуємо значення за один раз у всьому датафреймі:"
   ]
  },
  {
   "cell_type": "markdown",
   "id": "0800c7b1-1dcb-4940-9ffe-00000bdb9558",
   "metadata": {},
   "source": [
    "Переглянемо як змінився вигляд значень:"
   ]
  },
  {
   "cell_type": "markdown",
   "id": "44586b26-a37d-478f-b899-bd5b313fb014",
   "metadata": {},
   "source": [
    "---"
   ]
  },
  {
   "cell_type": "markdown",
   "id": "2e5cdb1e-b2a2-4f8c-8d26-68929cc16f9a",
   "metadata": {},
   "source": [
    "# 4. Train/test split"
   ]
  },
  {
   "cell_type": "markdown",
   "id": "6b41ba6a-8551-4e9f-af13-338a8af6e322",
   "metadata": {},
   "source": [
    "Сформуємо вибірки з пропорцією 70/30 % значень:"
   ]
  },
  {
   "cell_type": "code",
   "execution_count": 12,
   "id": "82958a5e-d678-470e-be2b-450f0a5b8f98",
   "metadata": {},
   "outputs": [],
   "source": [
    "library(caTools)\n",
    "set.seed(111)\n",
    "split <- sample.split(scaled_data$medv, SplitRatio = 0.7)\n",
    "train_data <- subset(scaled_data, split)\n",
    "test_data <- subset(scaled_data, !split)"
   ]
  },
  {
   "cell_type": "markdown",
   "id": "3bec8664-81ac-44ab-9b51-8696ebb5b973",
   "metadata": {},
   "source": [
    "Let's check how target's are distrubuted in both samples:"
   ]
  },
  {
   "cell_type": "code",
   "execution_count": 46,
   "id": "e58b343c-4985-4e42-9bb8-31124c3261e2",
   "metadata": {},
   "outputs": [
    {
     "data": {
      "image/png": "[encoded data removed]",
      "text/plain": [
       "plot without title"
      ]
     },
     "metadata": {
      "image/png": {
       "height": 420,
       "width": 420
      }
     },
     "output_type": "display_data"
    }
   ],
   "source": [
    "# train\n",
    "ggplot(train_data, aes(medv)) + \n",
    "    geom_histogram(bins = 25, alpha = 0.5, fill = 'blue', color='black')  + \n",
    "    theme_bw()"
   ]
  },
  {
   "cell_type": "code",
   "execution_count": 47,
   "id": "296720a5-10c8-47a7-ade1-aae9b5947431",
   "metadata": {},
   "outputs": [
    {
     "data": {
      "image/png": "[encoded data removed]",
      "text/plain": [
       "plot without title"
      ]
     },
     "metadata": {
      "image/png": {
       "height": 420,
       "width": 420
      }
     },
     "output_type": "display_data"
    }
   ],
   "source": [
    "# test\n",
    "ggplot(test_data, aes(medv)) + \n",
    "    geom_histogram(bins = 25, alpha = 0.5, fill = 'blue', color='black')  + \n",
    "    theme_bw()"
   ]
  },
  {
   "cell_type": "markdown",
   "id": "61bb1e94-7417-4d36-85a0-439b17cebe35",
   "metadata": {},
   "source": [
    "---"
   ]
  },
  {
   "cell_type": "markdown",
   "id": "981ef8b8-ce54-4769-872b-c75ec2859b37",
   "metadata": {},
   "source": [
    "# 5. Baseline (Linear regression)"
   ]
  },
  {
   "cell_type": "markdown",
   "id": "f1847ab8-fdc0-4ed0-971a-a4b5af70d149",
   "metadata": {},
   "source": [
    "Для порівняння ефективності використання нейронних мереж скористаємося для початку лінійною регресією:"
   ]
  },
  {
   "cell_type": "code",
   "execution_count": 13,
   "id": "76dc7895-9b20-4335-95ea-2a2a5f572615",
   "metadata": {},
   "outputs": [
    {
     "data": {
      "text/plain": [
       "\n",
       "Call:\n",
       "lm(formula = medv ~ ., data = train_data)\n",
       "\n",
       "Residuals:\n",
       "     Min       1Q   Median       3Q      Max \n",
       "-0.32496 -0.06311 -0.01192  0.04336  0.56005 \n",
       "\n",
       "Coefficients:\n",
       "            Estimate Std. Error t value Pr(>|t|)    \n",
       "(Intercept)  0.49146    0.06574   7.476 6.11e-13 ***\n",
       "crim        -0.17348    0.12783  -1.357 0.175608    \n",
       "zn           0.10752    0.03685   2.918 0.003751 ** \n",
       "indus        0.03863    0.04814   0.803 0.422761    \n",
       "chas         0.04662    0.02281   2.044 0.041736 *  \n",
       "nox         -0.25082    0.05347  -4.691 3.90e-06 ***\n",
       "rm           0.42499    0.05800   7.327 1.61e-12 ***\n",
       "age          0.02782    0.03472   0.801 0.423446    \n",
       "dis         -0.36673    0.05921  -6.194 1.64e-09 ***\n",
       "rad          0.16375    0.04390   3.730 0.000223 ***\n",
       "tax         -0.15722    0.05508  -2.854 0.004568 ** \n",
       "ptratio     -0.19328    0.03430  -5.635 3.58e-08 ***\n",
       "black        0.08439    0.03129   2.697 0.007328 ** \n",
       "lstat       -0.45956    0.05013  -9.168  < 2e-16 ***\n",
       "---\n",
       "Signif. codes:  0 ‘***’ 0.001 ‘**’ 0.01 ‘*’ 0.05 ‘.’ 0.1 ‘ ’ 1\n",
       "\n",
       "Residual standard error: 0.1121 on 353 degrees of freedom\n",
       "Multiple R-squared:  0.727,\tAdjusted R-squared:  0.7169 \n",
       "F-statistic:  72.3 on 13 and 353 DF,  p-value: < 2.2e-16\n"
      ]
     },
     "metadata": {},
     "output_type": "display_data"
    }
   ],
   "source": [
    "lm_model <- lm(medv ~ ., data = train_data)\n",
    "summary(lm_model)"
   ]
  },
  {
   "cell_type": "markdown",
   "id": "fd02a79e-1049-4259-bca5-a7fc58009e39",
   "metadata": {},
   "source": [
    "Здійснимо прогноз тестових значень:"
   ]
  },
  {
   "cell_type": "code",
   "execution_count": 14,
   "id": "5c25bb53-1605-42f3-9bd5-a188e790c856",
   "metadata": {},
   "outputs": [
    {
     "data": {
      "text/html": [
       "<style>\n",
       ".dl-inline {width: auto; margin:0; padding: 0}\n",
       ".dl-inline>dt, .dl-inline>dd {float: none; width: auto; display: inline-block}\n",
       ".dl-inline>dt::after {content: \":\\0020\"; padding-right: .5ex}\n",
       ".dl-inline>dt:not(:first-of-type) {padding-left: .5ex}\n",
       "</style><dl class=dl-inline><dt>4</dt><dd>0.530731117919281</dd><dt>5</dt><dd>0.515375162842615</dd><dt>10</dt><dd>0.309026629050265</dd><dt>11</dt><dd>0.308639256277784</dd><dt>20</dt><dd>0.303165239519374</dd><dt>21</dt><dd>0.170929677444802</dd></dl>\n"
      ],
      "text/latex": [
       "\\begin{description*}\n",
       "\\item[4] 0.530731117919281\n",
       "\\item[5] 0.515375162842615\n",
       "\\item[10] 0.309026629050265\n",
       "\\item[11] 0.308639256277784\n",
       "\\item[20] 0.303165239519374\n",
       "\\item[21] 0.170929677444802\n",
       "\\end{description*}\n"
      ],
      "text/markdown": [
       "4\n",
       ":   0.5307311179192815\n",
       ":   0.51537516284261510\n",
       ":   0.30902662905026511\n",
       ":   0.30863925627778420\n",
       ":   0.30316523951937421\n",
       ":   0.170929677444802\n",
       "\n"
      ],
      "text/plain": [
       "        4         5        10        11        20        21 \n",
       "0.5307311 0.5153752 0.3090266 0.3086393 0.3031652 0.1709297 "
      ]
     },
     "metadata": {},
     "output_type": "display_data"
    }
   ],
   "source": [
    "test_lm_predicted_scaled <- predict(lm_model, test_data)\n",
    "head(test_lm_predicted_scaled)"
   ]
  },
  {
   "cell_type": "markdown",
   "id": "6382f1f3-da5d-423b-922c-9f8bd9f8bf69",
   "metadata": {},
   "source": [
    "Let's check errors and R^2:"
   ]
  },
  {
   "cell_type": "code",
   "execution_count": 15,
   "id": "6a1f614b-4910-4b30-b197-d04e1b8d74c1",
   "metadata": {},
   "outputs": [
    {
     "data": {
      "text/html": [
       "<table class=\"dataframe\">\n",
       "<caption>A data.frame: 1 × 4</caption>\n",
       "<thead>\n",
       "\t<tr><th scope=col>R2_test</th><th scope=col>R2_train</th><th scope=col>MSE</th><th scope=col>RMSE</th></tr>\n",
       "\t<tr><th scope=col>&lt;dbl&gt;</th><th scope=col>&lt;dbl&gt;</th><th scope=col>&lt;dbl&gt;</th><th scope=col>&lt;dbl&gt;</th></tr>\n",
       "</thead>\n",
       "<tbody>\n",
       "\t<tr><td>0.768679</td><td>0.7269745</td><td>0.007872404</td><td>0.08872657</td></tr>\n",
       "</tbody>\n",
       "</table>\n"
      ],
      "text/latex": [
       "A data.frame: 1 × 4\n",
       "\\begin{tabular}{llll}\n",
       " R2\\_test & R2\\_train & MSE & RMSE\\\\\n",
       " <dbl> & <dbl> & <dbl> & <dbl>\\\\\n",
       "\\hline\n",
       "\t 0.768679 & 0.7269745 & 0.007872404 & 0.08872657\\\\\n",
       "\\end{tabular}\n"
      ],
      "text/markdown": [
       "\n",
       "A data.frame: 1 × 4\n",
       "\n",
       "| R2_test &lt;dbl&gt; | R2_train &lt;dbl&gt; | MSE &lt;dbl&gt; | RMSE &lt;dbl&gt; |\n",
       "|---|---|---|---|\n",
       "| 0.768679 | 0.7269745 | 0.007872404 | 0.08872657 |\n",
       "\n"
      ],
      "text/plain": [
       "  R2_test  R2_train  MSE         RMSE      \n",
       "1 0.768679 0.7269745 0.007872404 0.08872657"
      ]
     },
     "metadata": {},
     "output_type": "display_data"
    }
   ],
   "source": [
    "library(modelr)\n",
    "# need for next comparison\n",
    "linear_err <- data.frame(\n",
    "  R2_test = rsquare(lm_model, data = test_data),\n",
    "  R2_train = rsquare(lm_model, data = train_data),\n",
    "  MSE = mse(lm_model, data = test_data),\n",
    "  RMSE = rmse(lm_model, data = test_data)  \n",
    ")\n",
    "linear_err "
   ]
  },
  {
   "cell_type": "markdown",
   "id": "82b13339-19ba-4e38-a34a-c5dade816d4b",
   "metadata": {},
   "source": [
    "---"
   ]
  },
  {
   "cell_type": "markdown",
   "id": "6ff13785-67ef-4684-a078-e5906acd0efc",
   "metadata": {},
   "source": [
    "# 6. Побудова нейромережі за допомогою `neuralnet`"
   ]
  },
  {
   "cell_type": "markdown",
   "id": "e2ca2749-6431-4e37-a266-258832902148",
   "metadata": {},
   "source": [
    "Підключаємо пакет neuralnet:"
   ]
  },
  {
   "cell_type": "code",
   "execution_count": 53,
   "id": "3e3ba815-0a8b-49a6-8b2a-8ba11b44ec08",
   "metadata": {},
   "outputs": [
    {
     "name": "stderr",
     "output_type": "stream",
     "text": [
      "also installing the dependency ‘Deriv’\n",
      "\n",
      "\n",
      "Updating HTML index of packages in '.Library'\n",
      "\n",
      "Making 'packages.html' ...\n",
      " done\n",
      "\n"
     ]
    }
   ],
   "source": [
    "install.packages(\"neuralnet\")"
   ]
  },
  {
   "cell_type": "code",
   "execution_count": 16,
   "id": "1613ef26-a319-464f-9f10-637a7ff98c74",
   "metadata": {},
   "outputs": [
    {
     "name": "stderr",
     "output_type": "stream",
     "text": [
      "\n",
      "Attaching package: ‘neuralnet’\n",
      "\n",
      "\n",
      "The following object is masked from ‘package:dplyr’:\n",
      "\n",
      "    compute\n",
      "\n",
      "\n"
     ]
    }
   ],
   "source": [
    "library(neuralnet)"
   ]
  },
  {
   "cell_type": "markdown",
   "id": "3f1a55bd-3a71-40a8-8236-3de298fcbfab",
   "metadata": {},
   "source": [
    "Для побудови моделі потрібно згенерувати формулу у форматі $y ~ x_1 + x_2 + ... + x_n$"
   ]
  },
  {
   "cell_type": "code",
   "execution_count": 17,
   "id": "823ca5f6-d984-4abb-9781-8a8905fa8650",
   "metadata": {},
   "outputs": [
    {
     "data": {
      "text/plain": [
       "medv ~ crim + zn + indus + chas + nox + rm + age + dis + rad + \n",
       "    tax + ptratio + black + lstat"
      ]
     },
     "metadata": {},
     "output_type": "display_data"
    }
   ],
   "source": [
    "n <- colnames(data)\n",
    "n <- n[!n %in% \"medv\"]\n",
    "formula <- as.formula(paste(\"medv ~\", paste(n, collapse = \" + \")))\n",
    "formula"
   ]
  },
  {
   "cell_type": "markdown",
   "id": "305ab153-493a-493d-97d3-2d7588a30da0",
   "metadata": {},
   "source": [
    "Будуємо модель за допомогою фунуції `neuralnet()`:"
   ]
  },
  {
   "cell_type": "markdown",
   "id": "6d0928da-a09a-4961-b267-f258eb03fdb6",
   "metadata": {},
   "source": [
    "`hidden = c(3,4)` - перший прихований шар буде мати 3 нейрони, другий 4\n",
    "`linear.output` - вихідний показник неперервне число. Не класифікація"
   ]
  },
  {
   "cell_type": "code",
   "execution_count": 18,
   "id": "d9ab15ab-5e97-4ebf-a0d0-28e875d66e36",
   "metadata": {},
   "outputs": [],
   "source": [
    "nn_model <- neuralnet(formula = formula, data = train_data, hidden = c(3,4), linear.output = TRUE, rep = 1)"
   ]
  },
  {
   "cell_type": "markdown",
   "id": "b746cf70-6267-48bf-b0de-55a6be93738f",
   "metadata": {},
   "source": [
    "Візуалізуємо модель:"
   ]
  },
  {
   "cell_type": "code",
   "execution_count": 19,
   "id": "c1aaa849-025a-4ca1-9225-33a8087bdb1f",
   "metadata": {},
   "outputs": [],
   "source": [
    "plot(nn_model)"
   ]
  },
  {
   "cell_type": "code",
   "execution_count": 20,
   "id": "f4aa1ad9-b5d6-4f7c-97ff-fdc3f5a515d9",
   "metadata": {},
   "outputs": [
    {
     "data": {
      "text/html": [
       "<table class=\"dataframe\">\n",
       "<caption>A data.frame: 6 × 14</caption>\n",
       "<thead>\n",
       "\t<tr><th></th><th scope=col>crim</th><th scope=col>zn</th><th scope=col>indus</th><th scope=col>chas</th><th scope=col>nox</th><th scope=col>rm</th><th scope=col>age</th><th scope=col>dis</th><th scope=col>rad</th><th scope=col>tax</th><th scope=col>ptratio</th><th scope=col>black</th><th scope=col>lstat</th><th scope=col>medv</th></tr>\n",
       "\t<tr><th></th><th scope=col>&lt;dbl&gt;</th><th scope=col>&lt;dbl&gt;</th><th scope=col>&lt;dbl&gt;</th><th scope=col>&lt;dbl&gt;</th><th scope=col>&lt;dbl&gt;</th><th scope=col>&lt;dbl&gt;</th><th scope=col>&lt;dbl&gt;</th><th scope=col>&lt;dbl&gt;</th><th scope=col>&lt;dbl&gt;</th><th scope=col>&lt;dbl&gt;</th><th scope=col>&lt;dbl&gt;</th><th scope=col>&lt;dbl&gt;</th><th scope=col>&lt;dbl&gt;</th><th scope=col>&lt;dbl&gt;</th></tr>\n",
       "</thead>\n",
       "<tbody>\n",
       "\t<tr><th scope=row>1</th><td>0.0000000000</td><td>0.180</td><td>0.06781525</td><td>0</td><td>0.3148148</td><td>0.5775053</td><td>0.6416066</td><td>0.2692031</td><td>0.00000000</td><td>0.20801527</td><td>0.2872340</td><td>1.0000000</td><td>0.08967991</td><td>0.4222222</td></tr>\n",
       "\t<tr><th scope=row>2</th><td>0.0002359225</td><td>0.000</td><td>0.24230205</td><td>0</td><td>0.1728395</td><td>0.5479977</td><td>0.7826982</td><td>0.3489620</td><td>0.04347826</td><td>0.10496183</td><td>0.5531915</td><td>1.0000000</td><td>0.20447020</td><td>0.3688889</td></tr>\n",
       "\t<tr><th scope=row>3</th><td>0.0002356977</td><td>0.000</td><td>0.24230205</td><td>0</td><td>0.1728395</td><td>0.6943859</td><td>0.5993821</td><td>0.3489620</td><td>0.04347826</td><td>0.10496183</td><td>0.5531915</td><td>0.9897373</td><td>0.06346578</td><td>0.6600000</td></tr>\n",
       "\t<tr><th scope=row>6</th><td>0.0002644715</td><td>0.000</td><td>0.06304985</td><td>0</td><td>0.1502058</td><td>0.5497222</td><td>0.5746653</td><td>0.4485446</td><td>0.08695652</td><td>0.06679389</td><td>0.6489362</td><td>0.9929901</td><td>0.09602649</td><td>0.5266667</td></tr>\n",
       "\t<tr><th scope=row>7</th><td>0.0009213230</td><td>0.125</td><td>0.27162757</td><td>0</td><td>0.2860082</td><td>0.4696302</td><td>0.6560247</td><td>0.4029226</td><td>0.17391304</td><td>0.23664122</td><td>0.2765957</td><td>0.9967220</td><td>0.29525386</td><td>0.3977778</td></tr>\n",
       "\t<tr><th scope=row>8</th><td>0.0015536719</td><td>0.125</td><td>0.27162757</td><td>0</td><td>0.2860082</td><td>0.5002874</td><td>0.9598352</td><td>0.4383872</td><td>0.17391304</td><td>0.23664122</td><td>0.2765957</td><td>1.0000000</td><td>0.48068433</td><td>0.4911111</td></tr>\n",
       "</tbody>\n",
       "</table>\n"
      ],
      "text/latex": [
       "A data.frame: 6 × 14\n",
       "\\begin{tabular}{r|llllllllllllll}\n",
       "  & crim & zn & indus & chas & nox & rm & age & dis & rad & tax & ptratio & black & lstat & medv\\\\\n",
       "  & <dbl> & <dbl> & <dbl> & <dbl> & <dbl> & <dbl> & <dbl> & <dbl> & <dbl> & <dbl> & <dbl> & <dbl> & <dbl> & <dbl>\\\\\n",
       "\\hline\n",
       "\t1 & 0.0000000000 & 0.180 & 0.06781525 & 0 & 0.3148148 & 0.5775053 & 0.6416066 & 0.2692031 & 0.00000000 & 0.20801527 & 0.2872340 & 1.0000000 & 0.08967991 & 0.4222222\\\\\n",
       "\t2 & 0.0002359225 & 0.000 & 0.24230205 & 0 & 0.1728395 & 0.5479977 & 0.7826982 & 0.3489620 & 0.04347826 & 0.10496183 & 0.5531915 & 1.0000000 & 0.20447020 & 0.3688889\\\\\n",
       "\t3 & 0.0002356977 & 0.000 & 0.24230205 & 0 & 0.1728395 & 0.6943859 & 0.5993821 & 0.3489620 & 0.04347826 & 0.10496183 & 0.5531915 & 0.9897373 & 0.06346578 & 0.6600000\\\\\n",
       "\t6 & 0.0002644715 & 0.000 & 0.06304985 & 0 & 0.1502058 & 0.5497222 & 0.5746653 & 0.4485446 & 0.08695652 & 0.06679389 & 0.6489362 & 0.9929901 & 0.09602649 & 0.5266667\\\\\n",
       "\t7 & 0.0009213230 & 0.125 & 0.27162757 & 0 & 0.2860082 & 0.4696302 & 0.6560247 & 0.4029226 & 0.17391304 & 0.23664122 & 0.2765957 & 0.9967220 & 0.29525386 & 0.3977778\\\\\n",
       "\t8 & 0.0015536719 & 0.125 & 0.27162757 & 0 & 0.2860082 & 0.5002874 & 0.9598352 & 0.4383872 & 0.17391304 & 0.23664122 & 0.2765957 & 1.0000000 & 0.48068433 & 0.4911111\\\\\n",
       "\\end{tabular}\n"
      ],
      "text/markdown": [
       "\n",
       "A data.frame: 6 × 14\n",
       "\n",
       "| <!--/--> | crim &lt;dbl&gt; | zn &lt;dbl&gt; | indus &lt;dbl&gt; | chas &lt;dbl&gt; | nox &lt;dbl&gt; | rm &lt;dbl&gt; | age &lt;dbl&gt; | dis &lt;dbl&gt; | rad &lt;dbl&gt; | tax &lt;dbl&gt; | ptratio &lt;dbl&gt; | black &lt;dbl&gt; | lstat &lt;dbl&gt; | medv &lt;dbl&gt; |\n",
       "|---|---|---|---|---|---|---|---|---|---|---|---|---|---|---|\n",
       "| 1 | 0.0000000000 | 0.180 | 0.06781525 | 0 | 0.3148148 | 0.5775053 | 0.6416066 | 0.2692031 | 0.00000000 | 0.20801527 | 0.2872340 | 1.0000000 | 0.08967991 | 0.4222222 |\n",
       "| 2 | 0.0002359225 | 0.000 | 0.24230205 | 0 | 0.1728395 | 0.5479977 | 0.7826982 | 0.3489620 | 0.04347826 | 0.10496183 | 0.5531915 | 1.0000000 | 0.20447020 | 0.3688889 |\n",
       "| 3 | 0.0002356977 | 0.000 | 0.24230205 | 0 | 0.1728395 | 0.6943859 | 0.5993821 | 0.3489620 | 0.04347826 | 0.10496183 | 0.5531915 | 0.9897373 | 0.06346578 | 0.6600000 |\n",
       "| 6 | 0.0002644715 | 0.000 | 0.06304985 | 0 | 0.1502058 | 0.5497222 | 0.5746653 | 0.4485446 | 0.08695652 | 0.06679389 | 0.6489362 | 0.9929901 | 0.09602649 | 0.5266667 |\n",
       "| 7 | 0.0009213230 | 0.125 | 0.27162757 | 0 | 0.2860082 | 0.4696302 | 0.6560247 | 0.4029226 | 0.17391304 | 0.23664122 | 0.2765957 | 0.9967220 | 0.29525386 | 0.3977778 |\n",
       "| 8 | 0.0015536719 | 0.125 | 0.27162757 | 0 | 0.2860082 | 0.5002874 | 0.9598352 | 0.4383872 | 0.17391304 | 0.23664122 | 0.2765957 | 1.0000000 | 0.48068433 | 0.4911111 |\n",
       "\n"
      ],
      "text/plain": [
       "  crim         zn    indus      chas nox       rm        age       dis      \n",
       "1 0.0000000000 0.180 0.06781525 0    0.3148148 0.5775053 0.6416066 0.2692031\n",
       "2 0.0002359225 0.000 0.24230205 0    0.1728395 0.5479977 0.7826982 0.3489620\n",
       "3 0.0002356977 0.000 0.24230205 0    0.1728395 0.6943859 0.5993821 0.3489620\n",
       "6 0.0002644715 0.000 0.06304985 0    0.1502058 0.5497222 0.5746653 0.4485446\n",
       "7 0.0009213230 0.125 0.27162757 0    0.2860082 0.4696302 0.6560247 0.4029226\n",
       "8 0.0015536719 0.125 0.27162757 0    0.2860082 0.5002874 0.9598352 0.4383872\n",
       "  rad        tax        ptratio   black     lstat      medv     \n",
       "1 0.00000000 0.20801527 0.2872340 1.0000000 0.08967991 0.4222222\n",
       "2 0.04347826 0.10496183 0.5531915 1.0000000 0.20447020 0.3688889\n",
       "3 0.04347826 0.10496183 0.5531915 0.9897373 0.06346578 0.6600000\n",
       "6 0.08695652 0.06679389 0.6489362 0.9929901 0.09602649 0.5266667\n",
       "7 0.17391304 0.23664122 0.2765957 0.9967220 0.29525386 0.3977778\n",
       "8 0.17391304 0.23664122 0.2765957 1.0000000 0.48068433 0.4911111"
      ]
     },
     "metadata": {},
     "output_type": "display_data"
    }
   ],
   "source": [
    "train_data %>% head()"
   ]
  },
  {
   "cell_type": "markdown",
   "id": "be856841-26ba-4a28-94f3-b4c7e0555543",
   "metadata": {},
   "source": [
    "Також для візуалізація можна скористатися функцією `plot.nnet()`, опубілкованою на відкритому ресурсі одним із користувачів мережі Інтернет:"
   ]
  },
  {
   "cell_type": "code",
   "execution_count": 23,
   "id": "61a2e881-1957-469c-b7da-b1068dcd73c9",
   "metadata": {},
   "outputs": [
    {
     "name": "stderr",
     "output_type": "stream",
     "text": [
      "Loading required package: usethis\n",
      "\n",
      "Updating HTML index of packages in '.Library'\n",
      "\n",
      "Making 'packages.html' ...\n",
      " done\n",
      "\n"
     ]
    }
   ],
   "source": [
    "library(devtools)\n",
    "install.packages(\"clusterGeneration\")"
   ]
  },
  {
   "cell_type": "code",
   "execution_count": 67,
   "id": "a1dfa2ed-f91c-4b6a-8f45-760ab719f94d",
   "metadata": {},
   "outputs": [],
   "source": [
    "library(clusterGeneration)"
   ]
  },
  {
   "cell_type": "code",
   "execution_count": 68,
   "id": "0d7b59db-51d7-437b-9aa2-dd0e3a9c3bcc",
   "metadata": {},
   "outputs": [
    {
     "name": "stderr",
     "output_type": "stream",
     "text": [
      "\u001b[36mℹ\u001b[39m SHA-1 hash of file is 74c80bd5ddbc17ab3ae5ece9c0ed9beb612e87ef\n",
      "\n"
     ]
    }
   ],
   "source": [
    "source_url('https://gist.githubusercontent.com/fawda123/7471137/raw/466c1474d0a505ff044412703516c34f1a4684a5/nnet_plot_update.r')"
   ]
  },
  {
   "cell_type": "code",
   "execution_count": 69,
   "id": "f1349c6e-a682-4365-af94-053dc5f48a58",
   "metadata": {},
   "outputs": [
    {
     "name": "stderr",
     "output_type": "stream",
     "text": [
      "Loading required package: scales\n",
      "\n",
      "Warning message:\n",
      "“package ‘scales’ was built under R version 4.0.5”\n",
      "Loading required package: reshape\n",
      "\n",
      "Warning message in library(package, lib.loc = lib.loc, character.only = TRUE, logical.return = TRUE, :\n",
      "“there is no package called ‘reshape’”\n"
     ]
    },
    {
     "ename": "ERROR",
     "evalue": "Error in data.frame(wts, row.nms): arguments imply differing number of rows: 0, 14\n",
     "output_type": "error",
     "traceback": [
      "Error in data.frame(wts, row.nms): arguments imply differing number of rows: 0, 14\nTraceback:\n",
      "1. plot.nnet(nn_model)",
      "2. nnet.vals(mod.in, nid = F)",
      "3. data.frame(wts, row.nms)",
      "4. stop(gettextf(\"arguments imply differing number of rows: %s\", \n .     paste(unique(nrows), collapse = \", \")), domain = NA)"
     ]
    }
   ],
   "source": [
    "plot.nnet(nn_model)"
   ]
  },
  {
   "cell_type": "markdown",
   "id": "cfb30d22-f4ba-43d1-a47e-2ef75ee77ffc",
   "metadata": {},
   "source": [
    "Preview neural network matrix as text:"
   ]
  },
  {
   "cell_type": "code",
   "execution_count": 22,
   "id": "7deb91e0-a295-42c2-bb73-54589d1d34c3",
   "metadata": {},
   "outputs": [
    {
     "data": {
      "text/html": [
       "<table class=\"dataframe\">\n",
       "<caption>A matrix: 6 × 1 of type dbl</caption>\n",
       "<tbody>\n",
       "\t<tr><th scope=row>error</th><td> 5.484041e-01</td></tr>\n",
       "\t<tr><th scope=row>reached.threshold</th><td> 9.298425e-03</td></tr>\n",
       "\t<tr><th scope=row>steps</th><td> 5.220000e+03</td></tr>\n",
       "\t<tr><th scope=row>Intercept.to.1layhid1</th><td>-2.718862e+00</td></tr>\n",
       "\t<tr><th scope=row>crim.to.1layhid1</th><td>-5.317584e+00</td></tr>\n",
       "\t<tr><th scope=row>zn.to.1layhid1</th><td> 6.278400e-01</td></tr>\n",
       "</tbody>\n",
       "</table>\n"
      ],
      "text/latex": [
       "A matrix: 6 × 1 of type dbl\n",
       "\\begin{tabular}{r|l}\n",
       "\terror &  5.484041e-01\\\\\n",
       "\treached.threshold &  9.298425e-03\\\\\n",
       "\tsteps &  5.220000e+03\\\\\n",
       "\tIntercept.to.1layhid1 & -2.718862e+00\\\\\n",
       "\tcrim.to.1layhid1 & -5.317584e+00\\\\\n",
       "\tzn.to.1layhid1 &  6.278400e-01\\\\\n",
       "\\end{tabular}\n"
      ],
      "text/markdown": [
       "\n",
       "A matrix: 6 × 1 of type dbl\n",
       "\n",
       "| error |  5.484041e-01 |\n",
       "| reached.threshold |  9.298425e-03 |\n",
       "| steps |  5.220000e+03 |\n",
       "| Intercept.to.1layhid1 | -2.718862e+00 |\n",
       "| crim.to.1layhid1 | -5.317584e+00 |\n",
       "| zn.to.1layhid1 |  6.278400e-01 |\n",
       "\n"
      ],
      "text/plain": [
       "                      [,1]         \n",
       "error                  5.484041e-01\n",
       "reached.threshold      9.298425e-03\n",
       "steps                  5.220000e+03\n",
       "Intercept.to.1layhid1 -2.718862e+00\n",
       "crim.to.1layhid1      -5.317584e+00\n",
       "zn.to.1layhid1         6.278400e-01"
      ]
     },
     "metadata": {},
     "output_type": "display_data"
    }
   ],
   "source": [
    "nn_model$result.matrix %>% head()"
   ]
  },
  {
   "cell_type": "markdown",
   "id": "90d26b73-49fd-41a0-90d9-d928990df626",
   "metadata": {},
   "source": [
    "Здійснимо прогноз для тестової вибірки та повернемо значення до базового виміру:"
   ]
  },
  {
   "cell_type": "code",
   "execution_count": 24,
   "id": "2905f706-d6f1-4b88-aee5-cb08f2fdbaf2",
   "metadata": {},
   "outputs": [],
   "source": [
    "test_predicted_scaled <- compute(nn_model, test_data%>%select(-medv))"
   ]
  },
  {
   "cell_type": "markdown",
   "id": "ec896848-ccb5-4a77-806a-0639f8814c39",
   "metadata": {},
   "source": [
    "Convert `$net.result` to original form:"
   ]
  },
  {
   "cell_type": "code",
   "execution_count": 26,
   "id": "d758cce6-bb6e-495a-95d7-4a0dcc552342",
   "metadata": {},
   "outputs": [
    {
     "data": {
      "text/html": [
       "<table class=\"dataframe\">\n",
       "<caption>A matrix: 6 × 1 of type dbl</caption>\n",
       "<tbody>\n",
       "\t<tr><th scope=row>4</th><td>33.07236</td></tr>\n",
       "\t<tr><th scope=row>5</th><td>30.08621</td></tr>\n",
       "\t<tr><th scope=row>10</th><td>20.07867</td></tr>\n",
       "\t<tr><th scope=row>11</th><td>20.51314</td></tr>\n",
       "\t<tr><th scope=row>20</th><td>18.94824</td></tr>\n",
       "\t<tr><th scope=row>21</th><td>15.61543</td></tr>\n",
       "</tbody>\n",
       "</table>\n"
      ],
      "text/latex": [
       "A matrix: 6 × 1 of type dbl\n",
       "\\begin{tabular}{r|l}\n",
       "\t4 & 33.07236\\\\\n",
       "\t5 & 30.08621\\\\\n",
       "\t10 & 20.07867\\\\\n",
       "\t11 & 20.51314\\\\\n",
       "\t20 & 18.94824\\\\\n",
       "\t21 & 15.61543\\\\\n",
       "\\end{tabular}\n"
      ],
      "text/markdown": [
       "\n",
       "A matrix: 6 × 1 of type dbl\n",
       "\n",
       "| 4 | 33.07236 |\n",
       "| 5 | 30.08621 |\n",
       "| 10 | 20.07867 |\n",
       "| 11 | 20.51314 |\n",
       "| 20 | 18.94824 |\n",
       "| 21 | 15.61543 |\n",
       "\n"
      ],
      "text/plain": [
       "   [,1]    \n",
       "4  33.07236\n",
       "5  30.08621\n",
       "10 20.07867\n",
       "11 20.51314\n",
       "20 18.94824\n",
       "21 15.61543"
      ]
     },
     "metadata": {},
     "output_type": "display_data"
    }
   ],
   "source": [
    "test_nn_predicted <- test_predicted_scaled$net.result * (max(data$medv) - min(data$medv)) + min(data$medv)\n",
    "head(test_nn_predicted)"
   ]
  },
  {
   "cell_type": "markdown",
   "id": "7d30858c-bcb9-4076-8ab3-6e707a620786",
   "metadata": {},
   "source": [
    "Порівняємо похибки та $R^2$ по лінійній регресії та першій нейронній мережі:"
   ]
  },
  {
   "cell_type": "code",
   "execution_count": 28,
   "id": "c4967c8e-806b-4cff-a28f-361e08b53f32",
   "metadata": {},
   "outputs": [
    {
     "data": {
      "text/html": [
       "<table class=\"dataframe\">\n",
       "<caption>A data.frame: 6 × 14</caption>\n",
       "<thead>\n",
       "\t<tr><th></th><th scope=col>crim</th><th scope=col>zn</th><th scope=col>indus</th><th scope=col>chas</th><th scope=col>nox</th><th scope=col>rm</th><th scope=col>age</th><th scope=col>dis</th><th scope=col>rad</th><th scope=col>tax</th><th scope=col>ptratio</th><th scope=col>black</th><th scope=col>lstat</th><th scope=col>medv</th></tr>\n",
       "\t<tr><th></th><th scope=col>&lt;dbl&gt;</th><th scope=col>&lt;dbl&gt;</th><th scope=col>&lt;dbl&gt;</th><th scope=col>&lt;dbl&gt;</th><th scope=col>&lt;dbl&gt;</th><th scope=col>&lt;dbl&gt;</th><th scope=col>&lt;dbl&gt;</th><th scope=col>&lt;dbl&gt;</th><th scope=col>&lt;dbl&gt;</th><th scope=col>&lt;dbl&gt;</th><th scope=col>&lt;dbl&gt;</th><th scope=col>&lt;dbl&gt;</th><th scope=col>&lt;dbl&gt;</th><th scope=col>&lt;dbl&gt;</th></tr>\n",
       "</thead>\n",
       "<tbody>\n",
       "\t<tr><th scope=row>4</th><td>0.0002927957</td><td>0.000</td><td>0.06304985</td><td>0</td><td>0.1502058</td><td>0.6585553</td><td>0.4418126</td><td>0.4485446</td><td>0.08695652</td><td>0.06679389</td><td>0.6489362</td><td>0.9942761</td><td>0.03338852</td><td>0.6311111</td></tr>\n",
       "\t<tr><th scope=row>5</th><td>0.0007050701</td><td>0.000</td><td>0.06304985</td><td>0</td><td>0.1502058</td><td>0.6871048</td><td>0.5283213</td><td>0.4485446</td><td>0.08695652</td><td>0.06679389</td><td>0.6489362</td><td>1.0000000</td><td>0.09933775</td><td>0.6933333</td></tr>\n",
       "\t<tr><th scope=row>10</th><td>0.0018401733</td><td>0.125</td><td>0.27162757</td><td>0</td><td>0.2860082</td><td>0.4680973</td><td>0.8547889</td><td>0.4967309</td><td>0.17391304</td><td>0.23664122</td><td>0.2765957</td><td>0.9743053</td><td>0.42411700</td><td>0.3088889</td></tr>\n",
       "\t<tr><th scope=row>11</th><td>0.0024566741</td><td>0.125</td><td>0.27162757</td><td>0</td><td>0.2860082</td><td>0.5395670</td><td>0.9412976</td><td>0.4744155</td><td>0.17391304</td><td>0.23664122</td><td>0.2765957</td><td>0.9889556</td><td>0.51655629</td><td>0.2222222</td></tr>\n",
       "\t<tr><th scope=row>20</th><td>0.0080867817</td><td>0.000</td><td>0.28152493</td><td>0</td><td>0.3148148</td><td>0.4150220</td><td>0.6858908</td><td>0.2425138</td><td>0.13043478</td><td>0.22900763</td><td>0.8936170</td><td>0.9849967</td><td>0.26352097</td><td>0.2933333</td></tr>\n",
       "\t<tr><th scope=row>21</th><td>0.0139987825</td><td>0.000</td><td>0.28152493</td><td>0</td><td>0.3148148</td><td>0.3849396</td><td>0.9804325</td><td>0.2426411</td><td>0.13043478</td><td>0.22900763</td><td>0.8936170</td><td>0.9487367</td><td>0.53228477</td><td>0.1911111</td></tr>\n",
       "</tbody>\n",
       "</table>\n"
      ],
      "text/latex": [
       "A data.frame: 6 × 14\n",
       "\\begin{tabular}{r|llllllllllllll}\n",
       "  & crim & zn & indus & chas & nox & rm & age & dis & rad & tax & ptratio & black & lstat & medv\\\\\n",
       "  & <dbl> & <dbl> & <dbl> & <dbl> & <dbl> & <dbl> & <dbl> & <dbl> & <dbl> & <dbl> & <dbl> & <dbl> & <dbl> & <dbl>\\\\\n",
       "\\hline\n",
       "\t4 & 0.0002927957 & 0.000 & 0.06304985 & 0 & 0.1502058 & 0.6585553 & 0.4418126 & 0.4485446 & 0.08695652 & 0.06679389 & 0.6489362 & 0.9942761 & 0.03338852 & 0.6311111\\\\\n",
       "\t5 & 0.0007050701 & 0.000 & 0.06304985 & 0 & 0.1502058 & 0.6871048 & 0.5283213 & 0.4485446 & 0.08695652 & 0.06679389 & 0.6489362 & 1.0000000 & 0.09933775 & 0.6933333\\\\\n",
       "\t10 & 0.0018401733 & 0.125 & 0.27162757 & 0 & 0.2860082 & 0.4680973 & 0.8547889 & 0.4967309 & 0.17391304 & 0.23664122 & 0.2765957 & 0.9743053 & 0.42411700 & 0.3088889\\\\\n",
       "\t11 & 0.0024566741 & 0.125 & 0.27162757 & 0 & 0.2860082 & 0.5395670 & 0.9412976 & 0.4744155 & 0.17391304 & 0.23664122 & 0.2765957 & 0.9889556 & 0.51655629 & 0.2222222\\\\\n",
       "\t20 & 0.0080867817 & 0.000 & 0.28152493 & 0 & 0.3148148 & 0.4150220 & 0.6858908 & 0.2425138 & 0.13043478 & 0.22900763 & 0.8936170 & 0.9849967 & 0.26352097 & 0.2933333\\\\\n",
       "\t21 & 0.0139987825 & 0.000 & 0.28152493 & 0 & 0.3148148 & 0.3849396 & 0.9804325 & 0.2426411 & 0.13043478 & 0.22900763 & 0.8936170 & 0.9487367 & 0.53228477 & 0.1911111\\\\\n",
       "\\end{tabular}\n"
      ],
      "text/markdown": [
       "\n",
       "A data.frame: 6 × 14\n",
       "\n",
       "| <!--/--> | crim &lt;dbl&gt; | zn &lt;dbl&gt; | indus &lt;dbl&gt; | chas &lt;dbl&gt; | nox &lt;dbl&gt; | rm &lt;dbl&gt; | age &lt;dbl&gt; | dis &lt;dbl&gt; | rad &lt;dbl&gt; | tax &lt;dbl&gt; | ptratio &lt;dbl&gt; | black &lt;dbl&gt; | lstat &lt;dbl&gt; | medv &lt;dbl&gt; |\n",
       "|---|---|---|---|---|---|---|---|---|---|---|---|---|---|---|\n",
       "| 4 | 0.0002927957 | 0.000 | 0.06304985 | 0 | 0.1502058 | 0.6585553 | 0.4418126 | 0.4485446 | 0.08695652 | 0.06679389 | 0.6489362 | 0.9942761 | 0.03338852 | 0.6311111 |\n",
       "| 5 | 0.0007050701 | 0.000 | 0.06304985 | 0 | 0.1502058 | 0.6871048 | 0.5283213 | 0.4485446 | 0.08695652 | 0.06679389 | 0.6489362 | 1.0000000 | 0.09933775 | 0.6933333 |\n",
       "| 10 | 0.0018401733 | 0.125 | 0.27162757 | 0 | 0.2860082 | 0.4680973 | 0.8547889 | 0.4967309 | 0.17391304 | 0.23664122 | 0.2765957 | 0.9743053 | 0.42411700 | 0.3088889 |\n",
       "| 11 | 0.0024566741 | 0.125 | 0.27162757 | 0 | 0.2860082 | 0.5395670 | 0.9412976 | 0.4744155 | 0.17391304 | 0.23664122 | 0.2765957 | 0.9889556 | 0.51655629 | 0.2222222 |\n",
       "| 20 | 0.0080867817 | 0.000 | 0.28152493 | 0 | 0.3148148 | 0.4150220 | 0.6858908 | 0.2425138 | 0.13043478 | 0.22900763 | 0.8936170 | 0.9849967 | 0.26352097 | 0.2933333 |\n",
       "| 21 | 0.0139987825 | 0.000 | 0.28152493 | 0 | 0.3148148 | 0.3849396 | 0.9804325 | 0.2426411 | 0.13043478 | 0.22900763 | 0.8936170 | 0.9487367 | 0.53228477 | 0.1911111 |\n",
       "\n"
      ],
      "text/plain": [
       "   crim         zn    indus      chas nox       rm        age       dis      \n",
       "4  0.0002927957 0.000 0.06304985 0    0.1502058 0.6585553 0.4418126 0.4485446\n",
       "5  0.0007050701 0.000 0.06304985 0    0.1502058 0.6871048 0.5283213 0.4485446\n",
       "10 0.0018401733 0.125 0.27162757 0    0.2860082 0.4680973 0.8547889 0.4967309\n",
       "11 0.0024566741 0.125 0.27162757 0    0.2860082 0.5395670 0.9412976 0.4744155\n",
       "20 0.0080867817 0.000 0.28152493 0    0.3148148 0.4150220 0.6858908 0.2425138\n",
       "21 0.0139987825 0.000 0.28152493 0    0.3148148 0.3849396 0.9804325 0.2426411\n",
       "   rad        tax        ptratio   black     lstat      medv     \n",
       "4  0.08695652 0.06679389 0.6489362 0.9942761 0.03338852 0.6311111\n",
       "5  0.08695652 0.06679389 0.6489362 1.0000000 0.09933775 0.6933333\n",
       "10 0.17391304 0.23664122 0.2765957 0.9743053 0.42411700 0.3088889\n",
       "11 0.17391304 0.23664122 0.2765957 0.9889556 0.51655629 0.2222222\n",
       "20 0.13043478 0.22900763 0.8936170 0.9849967 0.26352097 0.2933333\n",
       "21 0.13043478 0.22900763 0.8936170 0.9487367 0.53228477 0.1911111"
      ]
     },
     "metadata": {},
     "output_type": "display_data"
    }
   ],
   "source": [
    "head(test_data)"
   ]
  },
  {
   "cell_type": "code",
   "execution_count": 31,
   "id": "0ccf518e-b3f2-4d24-89a7-844804b52f34",
   "metadata": {},
   "outputs": [
    {
     "data": {
      "text/html": [
       "<table class=\"dataframe\">\n",
       "<caption>A data.frame: 1 × 4</caption>\n",
       "<thead>\n",
       "\t<tr><th scope=col>R2_test</th><th scope=col>R2_train</th><th scope=col>MSE</th><th scope=col>RMSE</th></tr>\n",
       "\t<tr><th scope=col>&lt;dbl&gt;</th><th scope=col>&lt;dbl&gt;</th><th scope=col>&lt;dbl&gt;</th><th scope=col>&lt;dbl&gt;</th></tr>\n",
       "</thead>\n",
       "<tbody>\n",
       "\t<tr><td>0.768679</td><td>0.7269745</td><td>0.007872404</td><td>0.08872657</td></tr>\n",
       "</tbody>\n",
       "</table>\n"
      ],
      "text/latex": [
       "A data.frame: 1 × 4\n",
       "\\begin{tabular}{llll}\n",
       " R2\\_test & R2\\_train & MSE & RMSE\\\\\n",
       " <dbl> & <dbl> & <dbl> & <dbl>\\\\\n",
       "\\hline\n",
       "\t 0.768679 & 0.7269745 & 0.007872404 & 0.08872657\\\\\n",
       "\\end{tabular}\n"
      ],
      "text/markdown": [
       "\n",
       "A data.frame: 1 × 4\n",
       "\n",
       "| R2_test &lt;dbl&gt; | R2_train &lt;dbl&gt; | MSE &lt;dbl&gt; | RMSE &lt;dbl&gt; |\n",
       "|---|---|---|---|\n",
       "| 0.768679 | 0.7269745 | 0.007872404 | 0.08872657 |\n",
       "\n"
      ],
      "text/plain": [
       "  R2_test  R2_train  MSE         RMSE      \n",
       "1 0.768679 0.7269745 0.007872404 0.08872657"
      ]
     },
     "metadata": {},
     "output_type": "display_data"
    },
    {
     "data": {
      "text/html": [
       "<table class=\"dataframe\">\n",
       "<caption>A data.frame: 1 × 3</caption>\n",
       "<thead>\n",
       "\t<tr><th scope=col>R2</th><th scope=col>MSE</th><th scope=col>RMSE</th></tr>\n",
       "\t<tr><th scope=col>&lt;dbl&gt;</th><th scope=col>&lt;dbl&gt;</th><th scope=col>&lt;dbl&gt;</th></tr>\n",
       "</thead>\n",
       "<tbody>\n",
       "\t<tr><td>0.8361475</td><td>0.006059023</td><td>0.07783972</td></tr>\n",
       "</tbody>\n",
       "</table>\n"
      ],
      "text/latex": [
       "A data.frame: 1 × 3\n",
       "\\begin{tabular}{lll}\n",
       " R2 & MSE & RMSE\\\\\n",
       " <dbl> & <dbl> & <dbl>\\\\\n",
       "\\hline\n",
       "\t 0.8361475 & 0.006059023 & 0.07783972\\\\\n",
       "\\end{tabular}\n"
      ],
      "text/markdown": [
       "\n",
       "A data.frame: 1 × 3\n",
       "\n",
       "| R2 &lt;dbl&gt; | MSE &lt;dbl&gt; | RMSE &lt;dbl&gt; |\n",
       "|---|---|---|\n",
       "| 0.8361475 | 0.006059023 | 0.07783972 |\n",
       "\n"
      ],
      "text/plain": [
       "  R2        MSE         RMSE      \n",
       "1 0.8361475 0.006059023 0.07783972"
      ]
     },
     "metadata": {},
     "output_type": "display_data"
    }
   ],
   "source": [
    "library(Metrics) # for rmse function\n",
    "neural_err <- data.frame(\n",
    "  R2 = cor(test_data$medv, test_predicted_scaled$net.result) ^ 2,\n",
    "  MSE = mse(test_data$medv, test_predicted_scaled$net.result),\n",
    "  RMSE = rmse(test_data$medv, test_predicted_scaled$net.result)  \n",
    ")\n",
    "\n",
    "linear_err \n",
    "neural_err \n",
    "\n",
    "# Model is much better by all metrics"
   ]
  },
  {
   "cell_type": "markdown",
   "id": "768b37ec-d572-420f-a121-73ba83c3e7f5",
   "metadata": {},
   "source": [
    "---"
   ]
  },
  {
   "cell_type": "markdown",
   "id": "c7c8169e-4503-4f85-b64d-786858c70dff",
   "metadata": {},
   "source": [
    "# 7. Neural network with `nnet`"
   ]
  },
  {
   "cell_type": "markdown",
   "id": "457c27dc-d2d3-47d7-9df4-5e11280ca3e0",
   "metadata": {},
   "source": [
    "Підключаємо пакет `nnet` для побудови нейромережі із `2-vf` прихованими шарами, для прикладу:"
   ]
  },
  {
   "cell_type": "code",
   "execution_count": 32,
   "id": "3305e949-9110-4286-8c49-359f5c17a612",
   "metadata": {},
   "outputs": [
    {
     "name": "stderr",
     "output_type": "stream",
     "text": [
      "Updating HTML index of packages in '.Library'\n",
      "\n",
      "Making 'packages.html' ...\n",
      " done\n",
      "\n"
     ]
    }
   ],
   "source": [
    "install.packages(\"nnet\")"
   ]
  },
  {
   "cell_type": "markdown",
   "id": "0f7305b3-6655-44a6-a072-26c2ed701eaf",
   "metadata": {},
   "source": [
    "Підключаємо пакет nnet для побудови нейромережі із 1 прихованим шаром:"
   ]
  },
  {
   "cell_type": "code",
   "execution_count": 33,
   "id": "4079c13a-4fcf-47c9-926f-a04474e45332",
   "metadata": {},
   "outputs": [],
   "source": [
    "library(nnet)"
   ]
  },
  {
   "cell_type": "markdown",
   "id": "e4d35aa0-0b88-4ecf-9a69-83706e866e5b",
   "metadata": {},
   "source": [
    "Будуємо модель на основі формули створеної для попередньої моделі:\n",
    "\n",
    "* `size` - кількість нейронів у прихованому шарі"
   ]
  },
  {
   "cell_type": "code",
   "execution_count": 36,
   "id": "ebc668f3-b84b-4c91-b872-1c5f1e198367",
   "metadata": {},
   "outputs": [
    {
     "name": "stdout",
     "output_type": "stream",
     "text": [
      "# weights:  31\n",
      "initial  value 22.855160 \n",
      "iter  10 value 4.471876\n",
      "iter  20 value 2.881202\n",
      "iter  30 value 2.507910\n",
      "iter  40 value 2.316135\n",
      "iter  50 value 2.208636\n",
      "iter  60 value 2.100356\n",
      "iter  70 value 2.057365\n",
      "iter  80 value 1.981133\n",
      "iter  90 value 1.943740\n",
      "iter 100 value 1.931933\n",
      "final  value 1.931933 \n",
      "stopped after 100 iterations\n"
     ]
    }
   ],
   "source": [
    "nnet_model <- nnet(formula, data = train_data, size = 2, maxit = 100)"
   ]
  },
  {
   "cell_type": "code",
   "execution_count": 37,
   "id": "d7b0569a-0748-48ed-97a0-dfcc1083d7dd",
   "metadata": {},
   "outputs": [
    {
     "data": {
      "text/plain": [
       "a 13-2-1 network with 31 weights\n",
       "options were -\n",
       "  b->h1  i1->h1  i2->h1  i3->h1  i4->h1  i5->h1  i6->h1  i7->h1  i8->h1  i9->h1 \n",
       "  11.73   -3.21    7.52   -2.05    0.81   -3.96   -7.00    1.35   -5.51   -0.67 \n",
       "i10->h1 i11->h1 i12->h1 i13->h1 \n",
       "  -3.68   -1.24    0.11   -1.26 \n",
       "  b->h2  i1->h2  i2->h2  i3->h2  i4->h2  i5->h2  i6->h2  i7->h2  i8->h2  i9->h2 \n",
       "   5.28    0.52   -0.21   -0.80    0.18   -0.93   -7.12    0.60    1.00   -3.22 \n",
       "i10->h2 i11->h2 i12->h2 i13->h2 \n",
       "  -0.19    0.24   -0.08    4.62 \n",
       " b->o h1->o h2->o \n",
       "-0.53  4.17 -4.44 "
      ]
     },
     "metadata": {},
     "output_type": "display_data"
    }
   ],
   "source": [
    "summary(nnet_model)"
   ]
  },
  {
   "cell_type": "markdown",
   "id": "01b16baa-2853-4dd3-889b-0d7c09dea703",
   "metadata": {},
   "source": [
    "Візуалізуємо модель:"
   ]
  },
  {
   "cell_type": "code",
   "execution_count": 39,
   "id": "37fba009-8184-47e2-b0de-bae753ff601d",
   "metadata": {},
   "outputs": [
    {
     "ename": "ERROR",
     "evalue": "Error in xy.coords(x, y, xlabel, ylabel, log): 'x' is a list, but does not have components 'x' and 'y'\n",
     "output_type": "error",
     "traceback": [
      "Error in xy.coords(x, y, xlabel, ylabel, log): 'x' is a list, but does not have components 'x' and 'y'\nTraceback:\n",
      "1. plot(nnet_model)",
      "2. plot.default(nnet_model)",
      "3. xy.coords(x, y, xlabel, ylabel, log)",
      "4. stop(\"'x' is a list, but does not have components 'x' and 'y'\")"
     ]
    }
   ],
   "source": [
    "plot.nnet(nnet_model)"
   ]
  },
  {
   "cell_type": "markdown",
   "id": "d17d6d7c-d95d-4ec0-825e-a2bc370a7b8d",
   "metadata": {},
   "source": [
    "Здійснимо прогноз для тестової вибірки та повернемо значення до базового виміру:"
   ]
  },
  {
   "cell_type": "code",
   "execution_count": 40,
   "id": "46581210-4eca-4ca5-83f8-7ef04ddc4c99",
   "metadata": {},
   "outputs": [
    {
     "data": {
      "text/html": [
       "<table class=\"dataframe\">\n",
       "<caption>A matrix: 6 × 1 of type dbl</caption>\n",
       "<tbody>\n",
       "\t<tr><th scope=row>4</th><td>0.5540159</td></tr>\n",
       "\t<tr><th scope=row>5</th><td>0.5172959</td></tr>\n",
       "\t<tr><th scope=row>10</th><td>0.3178907</td></tr>\n",
       "\t<tr><th scope=row>11</th><td>0.3138990</td></tr>\n",
       "\t<tr><th scope=row>20</th><td>0.3285256</td></tr>\n",
       "\t<tr><th scope=row>21</th><td>0.3051598</td></tr>\n",
       "</tbody>\n",
       "</table>\n"
      ],
      "text/latex": [
       "A matrix: 6 × 1 of type dbl\n",
       "\\begin{tabular}{r|l}\n",
       "\t4 & 0.5540159\\\\\n",
       "\t5 & 0.5172959\\\\\n",
       "\t10 & 0.3178907\\\\\n",
       "\t11 & 0.3138990\\\\\n",
       "\t20 & 0.3285256\\\\\n",
       "\t21 & 0.3051598\\\\\n",
       "\\end{tabular}\n"
      ],
      "text/markdown": [
       "\n",
       "A matrix: 6 × 1 of type dbl\n",
       "\n",
       "| 4 | 0.5540159 |\n",
       "| 5 | 0.5172959 |\n",
       "| 10 | 0.3178907 |\n",
       "| 11 | 0.3138990 |\n",
       "| 20 | 0.3285256 |\n",
       "| 21 | 0.3051598 |\n",
       "\n"
      ],
      "text/plain": [
       "   [,1]     \n",
       "4  0.5540159\n",
       "5  0.5172959\n",
       "10 0.3178907\n",
       "11 0.3138990\n",
       "20 0.3285256\n",
       "21 0.3051598"
      ]
     },
     "metadata": {},
     "output_type": "display_data"
    },
    {
     "ename": "ERROR",
     "evalue": "Error in eval(expr, envir, enclos): object 'max_out' not found\n",
     "output_type": "error",
     "traceback": [
      "Error in eval(expr, envir, enclos): object 'max_out' not found\nTraceback:\n"
     ]
    }
   ],
   "source": [
    "test_predicted_scaled <- predict(nnet_model, test_data)\n",
    "head(test_predicted_scaled)\n",
    "test_nnet_predicted <- test_predicted_scaled * (max_out - min_out) + min_out"
   ]
  },
  {
   "cell_type": "markdown",
   "id": "a6e0a4a9-7fbc-4d61-a36a-94aafb3933a3",
   "metadata": {},
   "source": [
    "Порівняємо похибки по лінійній регресії та нейронних мереж:"
   ]
  },
  {
   "cell_type": "code",
   "execution_count": 41,
   "id": "d55bd937-73a5-4b37-b6b6-bcd17861add5",
   "metadata": {},
   "outputs": [
    {
     "data": {
      "text/html": [
       "<table class=\"dataframe\">\n",
       "<caption>A data.frame: 1 × 4</caption>\n",
       "<thead>\n",
       "\t<tr><th scope=col>R2_test</th><th scope=col>R2_train</th><th scope=col>MSE</th><th scope=col>RMSE</th></tr>\n",
       "\t<tr><th scope=col>&lt;dbl&gt;</th><th scope=col>&lt;dbl&gt;</th><th scope=col>&lt;dbl&gt;</th><th scope=col>&lt;dbl&gt;</th></tr>\n",
       "</thead>\n",
       "<tbody>\n",
       "\t<tr><td>0.768679</td><td>0.7269745</td><td>0.007872404</td><td>0.08872657</td></tr>\n",
       "</tbody>\n",
       "</table>\n"
      ],
      "text/latex": [
       "A data.frame: 1 × 4\n",
       "\\begin{tabular}{llll}\n",
       " R2\\_test & R2\\_train & MSE & RMSE\\\\\n",
       " <dbl> & <dbl> & <dbl> & <dbl>\\\\\n",
       "\\hline\n",
       "\t 0.768679 & 0.7269745 & 0.007872404 & 0.08872657\\\\\n",
       "\\end{tabular}\n"
      ],
      "text/markdown": [
       "\n",
       "A data.frame: 1 × 4\n",
       "\n",
       "| R2_test &lt;dbl&gt; | R2_train &lt;dbl&gt; | MSE &lt;dbl&gt; | RMSE &lt;dbl&gt; |\n",
       "|---|---|---|---|\n",
       "| 0.768679 | 0.7269745 | 0.007872404 | 0.08872657 |\n",
       "\n"
      ],
      "text/plain": [
       "  R2_test  R2_train  MSE         RMSE      \n",
       "1 0.768679 0.7269745 0.007872404 0.08872657"
      ]
     },
     "metadata": {},
     "output_type": "display_data"
    },
    {
     "data": {
      "text/html": [
       "<table class=\"dataframe\">\n",
       "<caption>A data.frame: 1 × 3</caption>\n",
       "<thead>\n",
       "\t<tr><th scope=col>R2</th><th scope=col>MSE</th><th scope=col>RMSE</th></tr>\n",
       "\t<tr><th scope=col>&lt;dbl&gt;</th><th scope=col>&lt;dbl&gt;</th><th scope=col>&lt;dbl&gt;</th></tr>\n",
       "</thead>\n",
       "<tbody>\n",
       "\t<tr><td>0.8361475</td><td>0.006059023</td><td>0.07783972</td></tr>\n",
       "</tbody>\n",
       "</table>\n"
      ],
      "text/latex": [
       "A data.frame: 1 × 3\n",
       "\\begin{tabular}{lll}\n",
       " R2 & MSE & RMSE\\\\\n",
       " <dbl> & <dbl> & <dbl>\\\\\n",
       "\\hline\n",
       "\t 0.8361475 & 0.006059023 & 0.07783972\\\\\n",
       "\\end{tabular}\n"
      ],
      "text/markdown": [
       "\n",
       "A data.frame: 1 × 3\n",
       "\n",
       "| R2 &lt;dbl&gt; | MSE &lt;dbl&gt; | RMSE &lt;dbl&gt; |\n",
       "|---|---|---|\n",
       "| 0.8361475 | 0.006059023 | 0.07783972 |\n",
       "\n"
      ],
      "text/plain": [
       "  R2        MSE         RMSE      \n",
       "1 0.8361475 0.006059023 0.07783972"
      ]
     },
     "metadata": {},
     "output_type": "display_data"
    },
    {
     "data": {
      "text/html": [
       "<table class=\"dataframe\">\n",
       "<caption>A data.frame: 1 × 3</caption>\n",
       "<thead>\n",
       "\t<tr><th scope=col>R2</th><th scope=col>MSE</th><th scope=col>RMSE</th></tr>\n",
       "\t<tr><th scope=col>&lt;dbl&gt;</th><th scope=col>&lt;dbl&gt;</th><th scope=col>&lt;dbl&gt;</th></tr>\n",
       "</thead>\n",
       "<tbody>\n",
       "\t<tr><td>0.8114978</td><td>0.006530041</td><td>0.08080867</td></tr>\n",
       "</tbody>\n",
       "</table>\n"
      ],
      "text/latex": [
       "A data.frame: 1 × 3\n",
       "\\begin{tabular}{lll}\n",
       " R2 & MSE & RMSE\\\\\n",
       " <dbl> & <dbl> & <dbl>\\\\\n",
       "\\hline\n",
       "\t 0.8114978 & 0.006530041 & 0.08080867\\\\\n",
       "\\end{tabular}\n"
      ],
      "text/markdown": [
       "\n",
       "A data.frame: 1 × 3\n",
       "\n",
       "| R2 &lt;dbl&gt; | MSE &lt;dbl&gt; | RMSE &lt;dbl&gt; |\n",
       "|---|---|---|\n",
       "| 0.8114978 | 0.006530041 | 0.08080867 |\n",
       "\n"
      ],
      "text/plain": [
       "  R2        MSE         RMSE      \n",
       "1 0.8114978 0.006530041 0.08080867"
      ]
     },
     "metadata": {},
     "output_type": "display_data"
    }
   ],
   "source": [
    "nnet_err <- data.frame(\n",
    "  R2 = cor(test_data$medv, test_predicted_scaled) ^ 2,\n",
    "  MSE = mse(test_data$medv, test_predicted_scaled),\n",
    "  RMSE = rmse(test_data$medv, test_predicted_scaled)  \n",
    ")\n",
    "\n",
    "linear_err \n",
    "neural_err \n",
    "nnet_err\n",
    "\n",
    "# neuralnet wins! but remember it has more layers"
   ]
  },
  {
   "cell_type": "markdown",
   "id": "0bbf9fa0-3e24-4dfe-879d-52dda6086c6e",
   "metadata": {},
   "source": [
    "---"
   ]
  },
  {
   "cell_type": "markdown",
   "id": "cad20424-9224-46a0-ab5b-c9c4dd144c26",
   "metadata": {},
   "source": [
    "# 8. Final models compare"
   ]
  },
  {
   "cell_type": "markdown",
   "id": "72c33f78-fa9d-47c3-baa3-e4e62f9e25e7",
   "metadata": {},
   "source": [
    "Побудуємо графік розподілу пронозованих значень показників по усх моделях:"
   ]
  },
  {
   "cell_type": "code",
   "execution_count": 43,
   "id": "da4c72d7-c927-41da-b424-421b4221401e",
   "metadata": {},
   "outputs": [
    {
     "ename": "ERROR",
     "evalue": "Error in plot(test_medv, test_lm_predicted, col = \"black\", ylim = plot_ylim, : object 'test_medv' not found\n",
     "output_type": "error",
     "traceback": [
      "Error in plot(test_medv, test_lm_predicted, col = \"black\", ylim = plot_ylim, : object 'test_medv' not found\nTraceback:\n",
      "1. plot(test_medv, test_lm_predicted, col = \"black\", ylim = plot_ylim, \n .     main = \"Real vs predicted LM\", pch = 25, cex = 0.7)"
     ]
    }
   ],
   "source": [
    "#Однакові межі для усіх графіків по Y\n",
    "plot_ylim <- c(0,50)\n",
    "\n",
    "par(mfrow=c(1,3)) # три стовпці, 1 рядок\n",
    "# pch  - тип точки для графіку\n",
    "plot(test_medv, test_lm_predicted, col='black', ylim=plot_ylim, main='Real vs predicted LM', pch=25, cex=0.7)\n",
    "abline(0,1,lwd=2)\n",
    "legend('bottomright',legend='LM',pch=25,col='black', bty='n')\n",
    "\n",
    "plot(test_medv,test_nn_predicted, col='red', ylim=plot_ylim, main='Real vs predicted NN',pch=18,cex=0.7)\n",
    "abline(0,1,lwd=2)\n",
    "legend('bottomright',legend='NN',pch=18,col='red', bty='n')\n",
    "\n",
    "plot(test_medv,test_nnet_predicted, col='blue', ylim=plot_ylim, main='Real vs predicted NNET',pch=18,cex=0.7)\n",
    "abline(0,1,lwd=2)\n",
    "\n",
    "legend('bottomright',legend='NNET',pch=18, col='black', bty='n')\n"
   ]
  },
  {
   "cell_type": "markdown",
   "id": "a2944d76-304c-4be0-969d-264f04b6cc82",
   "metadata": {},
   "source": [
    "Combine all to one chart:"
   ]
  },
  {
   "cell_type": "code",
   "execution_count": 202,
   "id": "20eba1eb-94ec-49fc-9206-a16ad0dc07ee",
   "metadata": {},
   "outputs": [
    {
     "data": {
      "image/png": "[encoded data removed]",
      "text/plain": [
       "Plot with title \"Real vs predicted NN + LM\""
      ]
     },
     "metadata": {
      "image/png": {
       "height": 420,
       "width": 420
      }
     },
     "output_type": "display_data"
    }
   ],
   "source": [
    "par(mfrow=c(1,1))\n",
    "\n",
    "plot(test_medv,test_lm_predicted,col='black',main='Real vs predicted NN + LM',pch=25,cex=0.7)\n",
    "points(test_medv,test_nn_predicted,col='red',pch=19,cex=0.7)\n",
    "points(test_medv,test_nnet_predicted,col='blue',pch=18,cex=0.7)\n",
    "abline(0,1,lwd=2)\n",
    "legend('bottomright',legend=c('lm','neuralnet','nnet'),pch=c(25,19,18),col=c('black', 'red','blue'))"
   ]
  },
  {
   "cell_type": "markdown",
   "id": "9dd9c6dc-06e3-45e2-9ccb-7fa31cb8f699",
   "metadata": {},
   "source": [
    "---"
   ]
  },
  {
   "cell_type": "markdown",
   "id": "647d48c4-3d8b-4f39-a695-0084db7ec78a",
   "metadata": {},
   "source": [
    "# References"
   ]
  },
  {
   "cell_type": "markdown",
   "id": "5c40e65d-12e2-425d-80cc-a3129ab45152",
   "metadata": {},
   "source": [
    "1. Harrison, D. and Rubinfeld, D.L. (1978) Hedonic prices and the demand for clean air. J. Environ. Economics and Management 5, 81–102.\n",
    "\n",
    "2. Belsley D.A., Kuh, E. and Welsch, R.E. (1980) Regression Diagnostics. Identifying Influential Data and Sources of Collinearity. New York: Wiley.\n"
   ]
  }
 ],
 "metadata": {
  "kernelspec": {
   "display_name": "R",
   "language": "R",
   "name": "ir"
  },
  "language_info": {
   "codemirror_mode": "r",
   "file_extension": ".r",
   "mimetype": "text/x-r-source",
   "name": "R",
   "pygments_lexer": "r",
   "version": "4.1.2"
  },
  "toc-showtags": true
 },
 "nbformat": 4,
 "nbformat_minor": 5
}
