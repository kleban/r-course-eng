{
 "cells": [
  {
   "cell_type": "markdown",
   "id": "bb4dda70",
   "metadata": {},
   "source": [
    "# Variables, Types, Operators\n",
    "\n",
    "---\n",
    "\n",
    "## Basics of programming for Data Science and Machine Learning\n",
    "\n",
    "\n",
    "Applied Mathematical Modeling in Banking"
   ]
  },
  {
   "cell_type": "markdown",
   "id": "e988e051",
   "metadata": {},
   "source": [
    "---"
   ]
  },
  {
   "cell_type": "markdown",
   "id": "951ba04c",
   "metadata": {},
   "source": [
    "## Table of contents"
   ]
  },
  {
   "cell_type": "markdown",
   "id": "56512b57",
   "metadata": {},
   "source": [
    "1. Vectors\n",
    "2. Matrices\n",
    "3. Factors\n",
    "4. Data frames\n",
    "5. Lists\n",
    "6. Apply functions family"
   ]
  },
  {
   "cell_type": "markdown",
   "id": "c402e046",
   "metadata": {},
   "source": [
    "---"
   ]
  },
  {
   "cell_type": "markdown",
   "id": "8f7157d0",
   "metadata": {},
   "source": [
    "# 1. Vectors"
   ]
  },
  {
   "cell_type": "markdown",
   "id": "70e38aee",
   "metadata": {},
   "source": [
    "### Announcement of vectors"
   ]
  },
  {
   "cell_type": "markdown",
   "id": "19df10d4",
   "metadata": {},
   "source": [
    "A vector is a base data type in `R` that allows you to write a collection of elements of the same type with or without `c() `if it is a sequence of values.\n",
    "\n",
    "_Note. In essence, the function `c()` allows you to combine several vectors._\n",
    "\n",
    "Consider for example the usual variable `x`:"
   ]
  },
  {
   "cell_type": "code",
   "execution_count": null,
   "id": "8b1944de",
   "metadata": {},
   "outputs": [],
   "source": [
    "x <- 10"
   ]
  },
  {
   "cell_type": "markdown",
   "id": "e4b1f3da",
   "metadata": {},
   "source": [
    "In essence, `x` in this case is a vector consisting of one value of` 10`. We can also write several elements to the variable `x`:"
   ]
  },
  {
   "cell_type": "code",
   "execution_count": null,
   "id": "2b840ffa",
   "metadata": {},
   "outputs": [],
   "source": [
    "x <- c(1, 2, 2.5, 3)\n",
    "x"
   ]
  },
  {
   "cell_type": "markdown",
   "id": "72a5d92f",
   "metadata": {},
   "source": [
    "Vector elements can be values of any type: `numeric`,` character`, `logical`, etc .:"
   ]
  },
  {
   "cell_type": "code",
   "execution_count": null,
   "id": "1e05eec9",
   "metadata": {},
   "outputs": [],
   "source": [
    "v1 <- c(1, 3, 4, 6, 7)\n",
    "v2 <- c(T, F, F, T, F)\n",
    "v3 <- c(\"Hello\", \"my\", \"friend\", \"!\")"
   ]
  },
  {
   "cell_type": "markdown",
   "id": "bd595997",
   "metadata": {},
   "source": [
    "Vector elements are also sequences created using the functions `rep ()`, `seq ()` and the operator `:`:"
   ]
  },
  {
   "cell_type": "code",
   "execution_count": null,
   "id": "a6eb37a7",
   "metadata": {},
   "outputs": [],
   "source": [
    "vtr <-  2:7\n",
    "vtr\n",
    "vtr <- 7:2\n",
    "vtr"
   ]
  },
  {
   "cell_type": "markdown",
   "id": "670cd77f",
   "metadata": {},
   "source": [
    "If you need to combine several vectors, use the `c()` function:"
   ]
  },
  {
   "cell_type": "code",
   "execution_count": null,
   "id": "05c90400",
   "metadata": {},
   "outputs": [],
   "source": [
    "x <- 2:3\n",
    "y <- c(4,6,9)\n",
    "z <- c(x, y, 10:12, 100)\n",
    "z"
   ]
  },
  {
   "cell_type": "markdown",
   "id": "6fc518f0",
   "metadata": {},
   "source": [
    "You can view brief descriptive statistics by vector using the ** `summary()` ** function:"
   ]
  },
  {
   "cell_type": "code",
   "execution_count": null,
   "id": "b09999ed",
   "metadata": {},
   "outputs": [],
   "source": [
    "summary(z)"
   ]
  },
  {
   "cell_type": "markdown",
   "id": "a10312b3",
   "metadata": {},
   "source": [
    "---"
   ]
  },
  {
   "cell_type": "markdown",
   "id": "7a773823",
   "metadata": {},
   "source": [
    "### Operations on vectors"
   ]
  },
  {
   "cell_type": "markdown",
   "id": "75d17f29",
   "metadata": {},
   "source": [
    "The advantage of using vectors over writing each value in a separate variable is the ability to perform 1 operation on all elements of the vector or on several vectors simultaneously, for example, arithmetic operations of addition or multiplication."
   ]
  },
  {
   "cell_type": "code",
   "execution_count": null,
   "id": "005833ec",
   "metadata": {},
   "outputs": [],
   "source": [
    "v1 <- c(1, 3, 5)\n",
    "v1\n",
    "v1 * 10"
   ]
  },
  {
   "cell_type": "markdown",
   "id": "bfc72c8a",
   "metadata": {},
   "source": [
    "From the example described above, it can be understood that the addition operation is essentially a superelement sum of vectors when the 1st element of the vector `v1` is added to the 1st element of the vector` v2`(`1 + 2`) and so on. Thus, the resulting vector will have the same length as the vectors `v1` and` v2`.\n",
    "\n",
    "However, there may be a situation when one of the vectors has a shorter length or even consists of 1 element:"
   ]
  },
  {
   "cell_type": "code",
   "execution_count": null,
   "id": "95165728",
   "metadata": {},
   "outputs": [],
   "source": [
    "v1 <- c(1, 3, 5, 7)\n",
    "v2 <- c(2, 4)\n",
    "v1 + v2"
   ]
  },
  {
   "cell_type": "markdown",
   "id": "87503bf2",
   "metadata": {},
   "source": [
    "In this case, the number `2` will be added to each element of the vector` v1`. In fact, this means that the vector `v2` will look like `c 2, 2)`, ie there will be a duplication of values to the length of the vector` v1` and then perform the operation of adding elements. Thus, the resulting vector will have the length of the longest of the vectors.\n",
    "\n",
    "Consider a more complex case where there are vectors with different numbers of elements other than 1:"
   ]
  },
  {
   "cell_type": "code",
   "execution_count": null,
   "id": "54d85b5e",
   "metadata": {},
   "outputs": [],
   "source": [
    "v1 <- c(2, 3)\n",
    "v2 <- c(4, 5, 6, 7)\n",
    "v3 <- c(1, 8, 9)\n",
    "v1 + v2 + v3"
   ]
  },
  {
   "cell_type": "markdown",
   "id": "75d86dd2",
   "metadata": {},
   "source": [
    "To begin with, it should be noted that the interpreter warns that the lengths of the vectors are not multiples (if they were vectors of length 2, 4, 8, then there would be no warning).\n",
    "\n",
    "If you extend each vector to the length of the maximum of them, repeating the elements cyclically, you get a set (*marked added elements*):"
   ]
  },
  {
   "cell_type": "markdown",
   "id": "7a1355cc",
   "metadata": {},
   "source": [
    "```r\n",
    "v1 <- c(2, 3,*2,*3)\n",
    "v2 <- c(4, 5, 6, 7)\n",
    "v3 <- c(1, 8, 9,*1)\n",
    "```"
   ]
  },
  {
   "cell_type": "markdown",
   "id": "c5a65ecf",
   "metadata": {},
   "source": [
    "Subtraction (`-`), division(`/`) and multiplication (`*`) operations are performed similarly."
   ]
  },
  {
   "cell_type": "markdown",
   "id": "fd632b38",
   "metadata": {},
   "source": [
    "The relation operators and logical operators also act element by element with respect to the vector, but the result is a collection (vector) of values of the logical type `logical` with the values` TRUE/FALSE`.\n",
    "\n",
    "Consider an example of finding all elements of the array `v1` that are greater than the corresponding index elements of the array` v2`:"
   ]
  },
  {
   "cell_type": "code",
   "execution_count": null,
   "id": "fda7ab7d",
   "metadata": {},
   "outputs": [],
   "source": [
    "v1 <- c(2, 4, 7, 9, 12)\n",
    "v2 <- c(6, 4, 6, 7, 1)\n",
    "v1 > v2"
   ]
  },
  {
   "cell_type": "markdown",
   "id": "b467dbc2",
   "metadata": {},
   "source": [
    "In essence, as a result of execution there is a comparison of each element of both vectors among themselves: `2>6`,` 4>4`, `7>6`,` 9>7`, `12>1`."
   ]
  },
  {
   "cell_type": "markdown",
   "id": "5973dde9",
   "metadata": {},
   "source": [
    "Therefore, the previously studied operators (arithmetic, logical, relations) can be used to work with vectors as well."
   ]
  },
  {
   "cell_type": "markdown",
   "id": "473a5b82",
   "metadata": {},
   "source": [
    "### Naming vector elements"
   ]
  },
  {
   "cell_type": "markdown",
   "id": "93526738",
   "metadata": {},
   "source": [
    "In order to understand what vectors mean and what data is often described, analysts need to sign this data.\n",
    "\n",
    "We will write down information about daily visits to the site by users during the week in the following way:"
   ]
  },
  {
   "cell_type": "code",
   "execution_count": null,
   "id": "d2dd95bd",
   "metadata": {},
   "outputs": [],
   "source": [
    "# Count of unique bank branch visits from Monday to Sunday\n",
    "data <- c(1245, 2112, 1321, 1231, 2342, 1718, 1980)"
   ]
  },
  {
   "cell_type": "markdown",
   "id": "fc010bf9",
   "metadata": {},
   "source": [
    "Next, assign values to the days of the week using the `names ()` function:"
   ]
  },
  {
   "cell_type": "code",
   "execution_count": null,
   "id": "0f876e85",
   "metadata": {},
   "outputs": [],
   "source": [
    "names(data) <- c(\"Monday\", \"Tuesday\", \"Wednesday\", \"Thursday\", \"Friday\", \"Saturday\", \"Sunday\")\n",
    "print(data)"
   ]
  },
  {
   "cell_type": "markdown",
   "id": "150c552b",
   "metadata": {},
   "source": [
    "Otherwise, this code could be written as follows:"
   ]
  },
  {
   "cell_type": "code",
   "execution_count": null,
   "id": "5164aa62",
   "metadata": {},
   "outputs": [],
   "source": [
    "data <- c(1245, 2112, 1321, 1231, 2342, 1718, 1980)\n",
    "days <- c(\"Monday\", \"Tuesday\", \"Wednesday\", \"Thursday\", \"Friday\", \"Saturday\", \"Sunday\")\n",
    "names(data) <- days\n",
    "data"
   ]
  },
  {
   "cell_type": "markdown",
   "id": "6cc09f54",
   "metadata": {},
   "source": [
    "If we need to get information, for example, about the name of the 4th element of the vector, we can use the code:"
   ]
  },
  {
   "cell_type": "code",
   "execution_count": null,
   "id": "491f4bd7",
   "metadata": {},
   "outputs": [],
   "source": [
    "names(data)"
   ]
  },
  {
   "cell_type": "markdown",
   "id": "d6346a2f",
   "metadata": {},
   "source": [
    "The `names ()` function allows not only to set the values of names for vector elements, but also to obtain information about them."
   ]
  },
  {
   "cell_type": "markdown",
   "id": "3c40644a",
   "metadata": {},
   "source": [
    "---"
   ]
  },
  {
   "cell_type": "markdown",
   "id": "d0179ed3",
   "metadata": {},
   "source": [
    "## Access to vector elements"
   ]
  },
  {
   "cell_type": "markdown",
   "id": "dbbfc3d0",
   "metadata": {},
   "source": [
    "Indexing of elements inside the wind occurs from `1` to` n`, where `n` is the number of elements of the vector."
   ]
  },
  {
   "cell_type": "markdown",
   "id": "cadd2584",
   "metadata": {},
   "source": [
    "<div class = \"alert alert-info alert-sm\"> &nbsp; Note. In `R`, the indexing of array, vector, and all other collection types begins with <b>1</b>, not with <b class =\"text-danger\" style =\"text-decoration: line-through\">0</b>.<div>"
   ]
  },
  {
   "cell_type": "markdown",
   "id": "549b6126",
   "metadata": {},
   "source": [
    "Consider the previous example:"
   ]
  },
  {
   "cell_type": "code",
   "execution_count": null,
   "id": "56d91e57",
   "metadata": {},
   "outputs": [],
   "source": [
    "data <- c(1245, 2112, 1321, 1231, 2342, 1718, 1980)\n",
    "days <- c(\"Monday\", \"Tuesday\", \"Wednesday\", \"Thursday\", \"Friday\", \"Saturday\", \"Sunday\")\n",
    "names(data) <- days"
   ]
  },
  {
   "cell_type": "markdown",
   "id": "fb4312c8",
   "metadata": {},
   "source": [
    "In order to record information only about site visitors on `Wednesday`, you need to use the operator `[]` and specify the index of the element in the array:"
   ]
  },
  {
   "cell_type": "code",
   "execution_count": null,
   "id": "520f57b4",
   "metadata": {},
   "outputs": [],
   "source": [
    "data[3]\n",
    "data[names(data) == 'Wednesday']"
   ]
  },
  {
   "cell_type": "markdown",
   "id": "25e67270",
   "metadata": {},
   "source": [
    "If there is a need to get several elements of the vector that are out of order, you can do it like this:"
   ]
  },
  {
   "cell_type": "code",
   "execution_count": null,
   "id": "f48d7949",
   "metadata": {},
   "outputs": [],
   "source": [
    "some_days <- data[c(1, 2, 5)]\n",
    "some_days"
   ]
  },
  {
   "cell_type": "markdown",
   "id": "93bc810c",
   "metadata": {},
   "source": [
    "From the example above it is clear that the indices of the vector `data` are another vector `c(1, 2, 5)`, so it can be declared as a separate variable:"
   ]
  },
  {
   "cell_type": "code",
   "execution_count": null,
   "id": "7f59c769",
   "metadata": {},
   "outputs": [],
   "source": [
    "indexes <- c(1, 2, 5)\n",
    "some_days <- data[indexes]\n",
    "some_days"
   ]
  },
  {
   "cell_type": "markdown",
   "id": "886ef33b",
   "metadata": {},
   "source": [
    "If there is a need to obtain information about several elements that are placed in a row, then for convenience (and in the case when such an array consists, for example, of 1000+ elements) use the operator `:`, for example:"
   ]
  },
  {
   "cell_type": "code",
   "execution_count": null,
   "id": "03550a8b",
   "metadata": {},
   "outputs": [],
   "source": [
    "working_days <- data[1:5]\n",
    "working_days"
   ]
  },
  {
   "cell_type": "markdown",
   "id": "8a89a1c4",
   "metadata": {},
   "source": [
    "Thus, all working days of the week are selected for the `working_days` vector."
   ]
  },
  {
   "cell_type": "markdown",
   "id": "6dfc094d",
   "metadata": {},
   "source": [
    "---"
   ]
  },
  {
   "cell_type": "markdown",
   "id": "b7e5981f",
   "metadata": {},
   "source": [
    "### Useful functions"
   ]
  },
  {
   "cell_type": "markdown",
   "id": "f3028af3",
   "metadata": {},
   "source": [
    "Let's take a look at some useful features that will simplify working with vectors. For further calculations we will use two vectors `A` and` B`:"
   ]
  },
  {
   "cell_type": "code",
   "execution_count": null,
   "id": "75a4ab4c",
   "metadata": {},
   "outputs": [],
   "source": [
    "A <- c(3, 5, 8, 2, 5, 4, 2)\n",
    "B <- c(3, NA, 1, NA, 6, 4, 5)\n",
    "A\n",
    "B"
   ]
  },
  {
   "cell_type": "markdown",
   "id": "3d82c643",
   "metadata": {},
   "source": [
    "<i class = \"fa fa-sticky-note-o\"> </i> **Function `sum()`**. This function is used to find the sum of the elements of the collection:"
   ]
  },
  {
   "cell_type": "code",
   "execution_count": null,
   "id": "3880b57a",
   "metadata": {},
   "outputs": [],
   "source": [
    "sum(A)\n",
    "sum(B)"
   ]
  },
  {
   "cell_type": "markdown",
   "id": "0bd3d7be",
   "metadata": {},
   "source": [
    "An interesting point is that in the presence of gaps in the data (value `NA`) the calculation of the amount is impossible. In this case, the functions can take the additional parameter `na.rm = T`, where` T` is an abbreviation of `TRUE`, which indicates the need to remove gaps in the data before performing the operation.\n",
    "\n",
    "_Note. You should check the documentation for such a parameter in the function. If it is not present, then it is necessary to carry out cleaning in other ways before work with the data._"
   ]
  },
  {
   "cell_type": "code",
   "execution_count": null,
   "id": "47ec8cb7",
   "metadata": {},
   "outputs": [],
   "source": [
    "sum(B, na.rm = T)"
   ]
  },
  {
   "cell_type": "markdown",
   "id": "3b178208",
   "metadata": {},
   "source": [
    "<i class = \"fa fa-sticky-note-o\"> </i> **The `mean ()`** function is used to find the arithmetic mean of numbers:"
   ]
  },
  {
   "cell_type": "code",
   "execution_count": null,
   "id": "7dfe611c",
   "metadata": {},
   "outputs": [],
   "source": [
    "mean(A)\n",
    "mean(B, na.rm = T)"
   ]
  },
  {
   "cell_type": "markdown",
   "id": "1128753a",
   "metadata": {},
   "source": [
    "<i class = \"fa fa-sticky-note-o\"> </i> **`min ()` and `max ()`** functions allow you to find the minimum and maximum values, respectively:"
   ]
  },
  {
   "cell_type": "code",
   "execution_count": null,
   "id": "0d1db022",
   "metadata": {},
   "outputs": [],
   "source": [
    "min(A)\n",
    "max(A)"
   ]
  },
  {
   "cell_type": "markdown",
   "id": "11df2690",
   "metadata": {},
   "source": [
    "Also to work in `R` there is a large number of built-in implemented functions to perform statistical, econometric and other research in the field of economics and beyond. Try the `sd()`, `cov()`, `cor()` functions."
   ]
  },
  {
   "cell_type": "markdown",
   "id": "2439f485",
   "metadata": {},
   "source": [
    "<i class = \"fa fa-sticky-note-o\"> </i> **The `length ()`** function helps to determine the \"length\" of a vector, ie the number of elements:"
   ]
  },
  {
   "cell_type": "code",
   "execution_count": null,
   "id": "d52af19a",
   "metadata": {},
   "outputs": [],
   "source": [
    "length(A)\n",
    "length(B)"
   ]
  },
  {
   "cell_type": "markdown",
   "id": "6bfe2db3",
   "metadata": {},
   "source": [
    "<i class = \"fa fa-sticky-note-o\"> </i> **The `unique ()`** function identifies unique elements in an array:"
   ]
  },
  {
   "cell_type": "code",
   "execution_count": null,
   "id": "c69accac",
   "metadata": {},
   "outputs": [],
   "source": [
    "A\n",
    "unique(A)\n",
    "\n",
    "print(\"---\")\n",
    "\n",
    "B\n",
    "unique(B)"
   ]
  },
  {
   "cell_type": "markdown",
   "id": "5de3fbb7",
   "metadata": {},
   "source": [
    "<i class = \"fa fa-sticky-note-o\"> </i> **The `intersect()`** function allows you to find common elements of two vectors, so for vectors `A` and` B` common values are ` 3`, `4` and` 5`:"
   ]
  },
  {
   "cell_type": "code",
   "execution_count": null,
   "id": "60c48e99",
   "metadata": {},
   "outputs": [],
   "source": [
    "A\n",
    "B\n",
    "intersect(A, B)"
   ]
  },
  {
   "cell_type": "markdown",
   "id": "ac1aa3b4",
   "metadata": {},
   "source": [
    "Conversely, <i class = \"fa fa-sticky-note-o\"> </i> **The `union()`** function allows you to combine elements of both sets / vectors:"
   ]
  },
  {
   "cell_type": "code",
   "execution_count": null,
   "id": "6ffbfb67",
   "metadata": {},
   "outputs": [],
   "source": [
    "A\n",
    "B\n",
    "union(A, B)"
   ]
  },
  {
   "cell_type": "markdown",
   "id": "2144b95d",
   "metadata": {},
   "source": [
    "Try to understand the operation of the functions `setdiff()`, `setequal()`, `is.element()`.\n",
    "\n",
    "_I recommend reading the short materials here: https://stat.ethz.ch/R-manual/R-devel/library/base/html/sets.html_."
   ]
  },
  {
   "cell_type": "markdown",
   "id": "7cbef168",
   "metadata": {},
   "source": [
    "---"
   ]
  },
  {
   "cell_type": "markdown",
   "id": "17d035eb",
   "metadata": {},
   "source": [
    "### Correction of data (NA, NaN, Inf)"
   ]
  },
  {
   "cell_type": "markdown",
   "id": "13378157",
   "metadata": {},
   "source": [
    "In the process of working with data there are problems associated with the correctness of their reading, conversion and operations on them. For example, an incorrect entry in the field of integer type `\" +10 \"` instead of `10` may result in conversion to` NaN` or division by `0` to` Inf`.\n",
    "\n",
    "Before using numerical and other data, the stage of cleaning and replacement of values is usually performed depending on the tasks of programming / research. In `R` the following types of the missed values are possible:\n",
    "\n",
    "- [x] `NA` ** - Not Available.\n",
    "- [x] `NaN` ** - Not a Number.\n",
    "- [x] `Inf` ** - Infinity (infinity, can be with the sign` + `and` -`).\n",
    "\n",
    "Let's start with vector:"
   ]
  },
  {
   "cell_type": "code",
   "execution_count": null,
   "id": "c4abad95",
   "metadata": {},
   "outputs": [],
   "source": [
    "vtr <- c(1, -2, NA, NaN, Inf, 1223, -Inf, NA, 21) \n",
    "vtr"
   ]
  },
  {
   "cell_type": "markdown",
   "id": "878a74e3",
   "metadata": {},
   "source": [
    "You can check a single value for a space with the functions `is.na()`, `is.nan()`, `is.infinite()`, `is.finite()`."
   ]
  },
  {
   "cell_type": "code",
   "execution_count": null,
   "id": "87e00180",
   "metadata": {},
   "outputs": [],
   "source": [
    "is.na(vtr)\n",
    "is.nan(vtr)\n",
    "is.infinite(vtr)\n",
    "is.finite(vtr) # if infinite == TRUE => finite == FALSE :)"
   ]
  },
  {
   "cell_type": "markdown",
   "id": "c3e5d173",
   "metadata": {},
   "source": [
    "Then replacement of values can be executed as follows (we will replace all `NA` and `Nan` with `1000`):"
   ]
  },
  {
   "cell_type": "code",
   "execution_count": null,
   "id": "f9775451",
   "metadata": {},
   "outputs": [],
   "source": [
    "vtr[is.na(vtr)] <- 1000\n",
    "vtr\n",
    "\n",
    "## Nan also replaced with is.na()!!!"
   ]
  },
  {
   "cell_type": "markdown",
   "id": "3f56d18f",
   "metadata": {},
   "source": [
    "And then replace `Inf` with the `maximum` value in the vector, and `-Inf` with the `minimum`:"
   ]
  },
  {
   "cell_type": "code",
   "execution_count": null,
   "id": "1c66a30a",
   "metadata": {},
   "outputs": [],
   "source": [
    "vtr[is.nan(vtr)] <- 500\n",
    "vtr\n",
    "\n",
    "vtr[is.na(vtr)] <- 1000\n",
    "vtr\n",
    "\n",
    "## Nan also replaced with is.na()!!!"
   ]
  },
  {
   "cell_type": "markdown",
   "id": "6cb5303c",
   "metadata": {},
   "source": [
    "And then replace `Inf` with the `maximum` value in the vector, and `-Inf` with the `minimum`:"
   ]
  },
  {
   "cell_type": "code",
   "execution_count": null,
   "id": "05c20884",
   "metadata": {},
   "outputs": [],
   "source": [
    "vtr <- c(1, -2, NA, NaN, Inf, 1223, -Inf, NA, 21) \n",
    "vtr\n",
    "\n",
    "is.infinite(vtr)\n",
    "!is.infinite(vtr)\n",
    "vtr[!is.infinite(vtr)]\n",
    "max(vtr[!is.infinite(vtr)], na.rm = T)\n",
    "\n",
    "max(vtr, na.rm = T)\n",
    "min(vtr, na.rm = T)\n",
    "\n",
    "vtr[vtr == Inf] <- max(vtr)\n",
    "vtr[vtr == -Inf] <- min(vtr)\n",
    "vtr"
   ]
  },
  {
   "cell_type": "markdown",
   "id": "b7c1a9b3",
   "metadata": {},
   "source": [
    "If you want to replace the value in `Inf` regardless of the sign, you can use` is.infinite() `."
   ]
  },
  {
   "cell_type": "markdown",
   "id": "74a4bee9",
   "metadata": {},
   "source": [
    "---"
   ]
  },
  {
   "cell_type": "markdown",
   "id": "e346379d",
   "metadata": {},
   "source": [
    "## Tasks"
   ]
  },
  {
   "cell_type": "markdown",
   "id": "7d772f3e",
   "metadata": {},
   "source": [
    "#### Task 1"
   ]
  },
  {
   "cell_type": "markdown",
   "id": "50a835ba",
   "metadata": {},
   "source": [
    "1. Create vector of 10 random number in range $[10;100]$\n",
    "2. Replace all odd numbers with NA\n",
    "3. Replace all NA with average value"
   ]
  },
  {
   "cell_type": "markdown",
   "id": "d4402b7f",
   "metadata": {},
   "source": [
    "#### Solution"
   ]
  },
  {
   "cell_type": "code",
   "execution_count": null,
   "id": "97ef021a",
   "metadata": {},
   "outputs": [],
   "source": [
    "x <- sample(1:100, size = 10)\n",
    "x"
   ]
  },
  {
   "cell_type": "code",
   "execution_count": null,
   "id": "de799708",
   "metadata": {},
   "outputs": [],
   "source": [
    "x[x %% 2 != 0] <- NA\n",
    "x"
   ]
  },
  {
   "cell_type": "code",
   "execution_count": null,
   "id": "501a9976",
   "metadata": {},
   "outputs": [],
   "source": [
    "x[is.na(x)] <- mean(x, na.rm = T)\n",
    "x"
   ]
  },
  {
   "cell_type": "markdown",
   "id": "21bde6aa",
   "metadata": {},
   "source": [
    "---"
   ]
  },
  {
   "cell_type": "markdown",
   "id": "a1051383",
   "metadata": {},
   "source": [
    "## 2. Matrices"
   ]
  },
  {
   "cell_type": "markdown",
   "id": "cb21b523",
   "metadata": {},
   "source": [
    "### Creating matrices"
   ]
  },
  {
   "cell_type": "markdown",
   "id": "40a79810",
   "metadata": {},
   "source": [
    "**Matrix** - a collection of elements of the same type (`numeric`,` character`, `logical`) with a fixed set of rows and columns. In the case where the matrix has only rows and columns, it is a two-dimensional data array.\n",
    "\n",
    "The matrix is created using the `matrix()` function:"
   ]
  },
  {
   "cell_type": "code",
   "execution_count": null,
   "id": "a36eaf69",
   "metadata": {},
   "outputs": [],
   "source": [
    "matrix(1:10, byrow = TRUE, nrow = 2)"
   ]
  },
  {
   "cell_type": "markdown",
   "id": "dc37eb27",
   "metadata": {},
   "source": [
    "where `1:10` - a set of elements of the matrix, it can also be a pre-formed vector (entered, by calculation, from a file, etc.),`byrow = TRUE` - means that the elements in the matrix will be written in rows, so in the pedestrian line contains the value `1:5`, and the second` 6:10` (if we need to write information on the lines then we should use `byrow = FASLE`),`nrow` - the number of rows of the matrix."
   ]
  },
  {
   "cell_type": "code",
   "execution_count": null,
   "id": "52c52868",
   "metadata": {},
   "outputs": [],
   "source": [
    "sales1 <- c(12, 14, 15)\n",
    "sales2 <- c(22, 15, 21)\n",
    "sales <- c(sales1, sales2)\n",
    "m <- matrix(sales, byrow= T, nrow = 2)\n",
    "m"
   ]
  },
  {
   "cell_type": "markdown",
   "id": "a1069f78",
   "metadata": {},
   "source": [
    "---"
   ]
  },
  {
   "cell_type": "markdown",
   "id": "02bf8ac4",
   "metadata": {},
   "source": [
    "### Naming matrices"
   ]
  },
  {
   "cell_type": "markdown",
   "id": "51c88de3",
   "metadata": {},
   "source": [
    "To specify the names of rows and columns of the matrix, use the functions `rownames()` and `colnames()`:"
   ]
  },
  {
   "cell_type": "code",
   "execution_count": null,
   "id": "3c6710e3",
   "metadata": {},
   "outputs": [],
   "source": [
    "m <- matrix(1:9, nrow = 3)\n",
    "rownames(m) <- c(\"row1\", \"row2\", \"row3\")\n",
    "colnames(m) <- c(\"c1\", \"c2\", \"c3\")\n",
    "m"
   ]
  },
  {
   "cell_type": "markdown",
   "id": "9cd1de57",
   "metadata": {},
   "source": [
    "---"
   ]
  },
  {
   "cell_type": "markdown",
   "id": "765c0136",
   "metadata": {},
   "source": [
    "### Add rows and columns"
   ]
  },
  {
   "cell_type": "markdown",
   "id": "7cdb3962",
   "metadata": {},
   "source": [
    "Special methods `cbind/rbind` are used to change the number of elements in rows and columns of matrices, as well as to quickly combine them.\n",
    "\n",
    "<i class = \"fa fa-sticky-note-o\"></i> ** The `cbind` ** function allows you to add one or more matrices and/or vectors behind one of the columns. That is, there is not a simple connection, but a comparison by key field. Consider an example:"
   ]
  },
  {
   "cell_type": "code",
   "execution_count": null,
   "id": "9fafa205",
   "metadata": {},
   "outputs": [],
   "source": [
    "m1 <- matrix(c(1:3, 101:103), nrow = 3)\n",
    "colnames(m1) <- c(\"A\", \"B\")\n",
    "\n",
    "m2 <- matrix(c(201:203, 1001:1003), nrow = 3)\n",
    "colnames(m2) <- c(\"C\", \"D\")\n",
    "\n",
    "m_bind <- cbind(m1, m2)\n",
    "\n",
    "m1\n",
    "m2\n",
    "m_bind"
   ]
  },
  {
   "cell_type": "markdown",
   "id": "26b3f59e",
   "metadata": {},
   "source": [
    "---"
   ]
  },
  {
   "cell_type": "markdown",
   "id": "4730f19a",
   "metadata": {},
   "source": [
    "### Access to matrix elements"
   ]
  },
  {
   "cell_type": "markdown",
   "id": "4d863937",
   "metadata": {},
   "source": [
    "The elements of the matrix are accessed by the index of rows and columns. You can select ranges in a similar way to vectors.\n",
    "\n",
    "Let's look at an example:"
   ]
  },
  {
   "cell_type": "code",
   "execution_count": null,
   "id": "3c8eb00f",
   "metadata": {},
   "outputs": [],
   "source": [
    "m <- matrix(11:25, nrow = 3)\n",
    "m"
   ]
  },
  {
   "cell_type": "markdown",
   "id": "6c9468c2",
   "metadata": {},
   "source": [
    "To display the 10th element of the matrix, you can use the entries _(note that the account is from the right left corner of the columns)_:"
   ]
  },
  {
   "cell_type": "code",
   "execution_count": null,
   "id": "6a8c023d",
   "metadata": {},
   "outputs": [],
   "source": [
    "m[10]    \n",
    "m[[10]]"
   ]
  },
  {
   "cell_type": "markdown",
   "id": "4f71c8f6",
   "metadata": {},
   "source": [
    "To display the same element using row and column indexes, write as follows:"
   ]
  },
  {
   "cell_type": "code",
   "execution_count": null,
   "id": "76b9f01e",
   "metadata": {},
   "outputs": [],
   "source": [
    "# Row #1\n",
    "# Column #4\n",
    "m[1,4]"
   ]
  },
  {
   "cell_type": "markdown",
   "id": "2c55bdb9",
   "metadata": {},
   "source": [
    "**Question**: What record should you use ti get **18**?"
   ]
  },
  {
   "cell_type": "markdown",
   "id": "c79aad77",
   "metadata": {},
   "source": [
    "**Answer**: `m[2,3]`"
   ]
  },
  {
   "cell_type": "code",
   "execution_count": null,
   "id": "40aa25ee",
   "metadata": {},
   "outputs": [],
   "source": [
    "m[2,3]"
   ]
  },
  {
   "cell_type": "markdown",
   "id": "04dcb735",
   "metadata": {},
   "source": [
    "If you want to output / use an entire row or a whole column, then the block with the index of unnecessary dimensionality can be left blank:"
   ]
  },
  {
   "cell_type": "code",
   "execution_count": null,
   "id": "6e59bbbd",
   "metadata": {},
   "outputs": [],
   "source": [
    "m[1, ] # first row only\n",
    "m[c(1,3), ] # first and third row only"
   ]
  },
  {
   "cell_type": "code",
   "execution_count": null,
   "id": "caf1943c",
   "metadata": {},
   "outputs": [],
   "source": [
    "m[, 1] # first column only\n",
    "m[, c(1,3)] # first and third column only"
   ]
  },
  {
   "cell_type": "markdown",
   "id": "24038727",
   "metadata": {},
   "source": [
    "You can also specify a list of rows and columns to be output / received simultaneously:"
   ]
  },
  {
   "cell_type": "code",
   "execution_count": null,
   "id": "ca870a2b",
   "metadata": {},
   "outputs": [],
   "source": [
    "m[c(1,3), 2:4]"
   ]
  },
  {
   "cell_type": "markdown",
   "id": "7d3a6030",
   "metadata": {},
   "source": [
    "You can exclude individual columns or rows by using indexes with minus signs (`-`):"
   ]
  },
  {
   "cell_type": "code",
   "execution_count": null,
   "id": "493fc9dd",
   "metadata": {},
   "outputs": [],
   "source": [
    "m[-1, c(-2:-3)]"
   ]
  },
  {
   "cell_type": "markdown",
   "id": "0ad6d84d",
   "metadata": {},
   "source": [
    "---"
   ]
  },
  {
   "cell_type": "markdown",
   "id": "7b27a5be",
   "metadata": {},
   "source": [
    "### Useful functions"
   ]
  },
  {
   "cell_type": "markdown",
   "id": "687fb1d8",
   "metadata": {},
   "source": [
    "#### Matrix dimmentions"
   ]
  },
  {
   "cell_type": "markdown",
   "id": "a7d4c449",
   "metadata": {},
   "source": [
    "To obtain information about the dimensions of the table, there are special functions: `nrow()`, `ncol()`, `dim()`:"
   ]
  },
  {
   "cell_type": "code",
   "execution_count": null,
   "id": "da176ede",
   "metadata": {},
   "outputs": [],
   "source": [
    "# Decalre matrix\n",
    "m <- matrix(1:15, ncol = 3)\n",
    "m\n",
    "\n",
    "print(paste(\"Rows:\", nrow(m)))\n",
    "print(paste(\"Cols:\", ncol(m)))\n",
    "\n",
    "print(paste(\"Dim:\", paste0(dim(m), collapse = \" x \")))"
   ]
  },
  {
   "cell_type": "markdown",
   "id": "c01f4459",
   "metadata": {},
   "source": [
    "Using `nrow()` and` ncol()` allows you to access the last row and column of the matrix, respectively:"
   ]
  },
  {
   "cell_type": "code",
   "execution_count": null,
   "id": "dcae58de",
   "metadata": {},
   "outputs": [],
   "source": [
    "m[nrow(m), ] # last row\n",
    "m[, ncol(m)] # last colum"
   ]
  },
  {
   "cell_type": "markdown",
   "id": "a59f6d3c",
   "metadata": {},
   "source": [
    "---"
   ]
  },
  {
   "cell_type": "markdown",
   "id": "5a844df4",
   "metadata": {},
   "source": [
    "# 3. Factors"
   ]
  },
  {
   "cell_type": "markdown",
   "id": "d8bc3e38",
   "metadata": {},
   "source": [
    "Factors in `R` programming allow you to represent a vector of values as categorical values, rather than just a set of text data or numbers. The advantage of the categorical data type is that the element can take only a limited number of values, and not any value that allows the data type.\n",
    "\n",
    "For example, a numeric vector may contain an infinitely large variation of the values `c(1, 0.021, 192.1444, ..., etc.)`, the character sets may also be different `c (\"sdf & Tg6\",\"sdf * Y & 65\")`. The number of combinations of such vectors is very large.\n",
    "\n",
    "In the case of categories, we are talking about certain fixed values. A good example is forms that are filled out on sites with drop-down lists, where the user cannot enter a value, but only select from an existing list. So in the gender field there is usually a limited set of possible options: `Male`,` Female`, `Other`. The user can select only one of these values ​​and does not have the ability to enter something else _(this is an example, each resource can make different forms for users)_.\n",
    "\n",
    "Creation of factors in `R` occurs by means of function **`factor()`**:"
   ]
  },
  {
   "cell_type": "code",
   "execution_count": null,
   "id": "461c5698",
   "metadata": {},
   "outputs": [],
   "source": [
    "gender <- c(\"Male\", \"Female\", \"Other\", \"Male\", \"Female\", \"Male\", \"Female\", \"Female\")\n",
    "gender \n",
    "gender_factor <- factor(gender)\n",
    "gender_factor"
   ]
  },
  {
   "cell_type": "markdown",
   "id": "2df452be",
   "metadata": {},
   "source": [
    "When creating a factor, each unique element gets its own ** _ digital? _ ** _ (from the outside it looks like this, it needs to be clarified) _ value inside the collection, this value is called the level (`level`). In the previous example, the variable `gender _factor` received the levels `Female`, `Male`, `Other` in alphabetical order. If we convert factors to numbers, we get:"
   ]
  },
  {
   "cell_type": "code",
   "execution_count": null,
   "id": "92b461d3",
   "metadata": {},
   "outputs": [],
   "source": [
    "as.numeric(gender_factor)"
   ]
  },
  {
   "cell_type": "markdown",
   "id": "caac54ac",
   "metadata": {},
   "source": [
    "gender Thus it is clear that `Female` = 1, `Male` = 2, `Other` = 3. Consider a situation where we get data in which the order of values in the factor collection is different, for example, we need to specify so that `Male` = 1, `Female` = 2, `Other` = 3:"
   ]
  },
  {
   "cell_type": "code",
   "execution_count": null,
   "id": "cd274b85",
   "metadata": {},
   "outputs": [],
   "source": [
    "gender <- c(\"Male\", \"Female\", \"Other\", \"Male\", \"Female\", \"Male\", \"Female\", \"Female\")\n",
    "gender_factor <- factor(gender, levels = c(\"Male\", \"Female\", \"Other\"))\n",
    "gender_factor\n",
    "lvl <- levels(gender_factor) # read levels of factor\n",
    "seq_along(lvl)\n",
    "as.integer(lvl)\n",
    "as.numeric(gender_factor)"
   ]
  },
  {
   "cell_type": "markdown",
   "id": "132bfb1c",
   "metadata": {},
   "source": [
    "Now the order of the levels corresponds to ours and this will allow us to successfully combine our collection with similar ones that have the same set of values.\n",
    "\n",
    "Sometimes it is necessary to change not only the order of the elements in the factorial collection, but also their names. Let's consider a situation when we need to rename values `Male`,` Female`, `Other` in` M`, `F`,` O`:"
   ]
  },
  {
   "cell_type": "code",
   "execution_count": null,
   "id": "5f11b600",
   "metadata": {},
   "outputs": [],
   "source": [
    "gender <- c(\"Male\", \"Female\", \"Other\", \"Male\", \"Female\", \"Male\", \"Female\", \"Female\")\n",
    "gender_factor <- factor(gender, levels = c(\"Male\", \"Female\", \"Other\"))\n",
    "levels(gender_factor) <- c(\"M\", \"F\", \"O\")\n",
    "gender_factor"
   ]
  },
  {
   "cell_type": "markdown",
   "id": "14badaf6",
   "metadata": {},
   "source": [
    "But you should check you type with `is.factor()` before converting to numbers:"
   ]
  },
  {
   "cell_type": "code",
   "execution_count": null,
   "id": "bcea015c",
   "metadata": {},
   "outputs": [],
   "source": [
    "cities <- c(\"Rivne\", \"Ostroh\", \"Zdolbuniv\", \"Dubno\", \"Sarny\")\n",
    "cities_as_factors <- factor(cities)\n",
    "as.numeric(cities_as_factors)\n",
    "as.numeric(cities) # you cannot convert characters vector to numerics"
   ]
  },
  {
   "cell_type": "markdown",
   "id": "73052c88",
   "metadata": {},
   "source": [
    "---"
   ]
  },
  {
   "cell_type": "markdown",
   "id": "278df08b",
   "metadata": {},
   "source": [
    "# 4. Dataframes"
   ]
  },
  {
   "cell_type": "markdown",
   "id": "3fcbab66",
   "metadata": {},
   "source": [
    "Data frames are the most popular data structure in R, becouse it allows collect data with different columns type in one object and quickly manipulate it."
   ]
  },
  {
   "cell_type": "markdown",
   "id": "ba0b19f2",
   "metadata": {},
   "source": [
    "A `data frame`, a matrix-like structure whose columns may be of differing types (numeric, logical, factor and character and so on)."
   ]
  },
  {
   "cell_type": "markdown",
   "id": "56b297e4",
   "metadata": {},
   "source": [
    "The function `data.frame()` creates data frames, tightly coupled collections of variables which share many of the properties of matrices and of lists, used as the fundamental data structure by most of R's modeling software."
   ]
  },
  {
   "cell_type": "markdown",
   "id": "1506b57f",
   "metadata": {},
   "source": [
    "**Syntax**\n",
    "\n",
    "```{r}\n",
    "data.frame(..., row.names = NULL, check.rows = FALSE,\n",
    "           check.names = TRUE, fix.empty.names = TRUE,\n",
    "           stringsAsFactors = FALSE)\n",
    "```"
   ]
  },
  {
   "cell_type": "markdown",
   "id": "a0445943",
   "metadata": {},
   "source": [
    "**Arguments** (top useful)\n",
    "\n",
    "- [x] `...` - these arguments are of either the form value or tag = value. Component names are created based on the tag (if present) or the deparsed argument itself.\n",
    "- [x] `row.names` - NULL or a single integer or character string specifying a column to be used as row names, or a character or integer vector giving the row names for the data frame.\n",
    "- [x] `stringsAsFactors` - logical: should character vectors be converted to factors? The ‘factory-fresh’ default has been TRUE previously but has been changed to FALSE"
   ]
  },
  {
   "cell_type": "markdown",
   "id": "00c42c5f",
   "metadata": {},
   "source": [
    "**Details**\n",
    "\n",
    "A `data frame` is a list of variables of the same number of rows with unique row names, given class `data.frame`. If no variables are included, the row names determine the number of rows.\n",
    "\n",
    "`data.frame` converts each of its arguments to a data frame by calling as.data.frame(optional = TRUE). As that is a generic function, methods can be written to change the behaviour of arguments according to their classes: R comes with many such methods. Character variables passed to `data.frame` are converted to `factor` columns unless protected argument `stringsAsFactors` is false. If a list or data frame or matrix is passed to `data.frame` it is as if each component or column had been passed as a separate argument."
   ]
  },
  {
   "cell_type": "markdown",
   "id": "0cf6b28e",
   "metadata": {},
   "source": [
    "---"
   ]
  },
  {
   "cell_type": "markdown",
   "id": "e7fe6961",
   "metadata": {},
   "source": [
    "### Creating Data Frames"
   ]
  },
  {
   "cell_type": "markdown",
   "id": "68bcddd4",
   "metadata": {},
   "source": [
    "Data frames are usually created by reading in a dataset from file, scraping from websites. However, data frames can also be created explicitly with the `data.frame()` function or they can be coerced from other types of objects like lists. In this case I’ll create a simple data frame df and assess its basic structure:"
   ]
  },
  {
   "cell_type": "code",
   "execution_count": null,
   "id": "c1fab211",
   "metadata": {},
   "outputs": [],
   "source": [
    "df <- data.frame(id = 1:5,\n",
    "                char_col = c(\"a\", \"b\", \"c\", \"d\", \"e\"),\n",
    "                log_col = c(T,T,T,F,T),\n",
    "                double_col = c(2.1, 1, 0.5, pi, 12.7))\n",
    "df"
   ]
  },
  {
   "cell_type": "code",
   "execution_count": null,
   "id": "62d2f551",
   "metadata": {},
   "outputs": [],
   "source": [
    "# assess the structure of a data frame\n",
    "str(df)"
   ]
  },
  {
   "cell_type": "code",
   "execution_count": null,
   "id": "f0ccc13b",
   "metadata": {},
   "outputs": [],
   "source": [
    "# number of rows\n",
    "nrow(df)"
   ]
  },
  {
   "cell_type": "code",
   "execution_count": null,
   "id": "306dd30e",
   "metadata": {},
   "outputs": [],
   "source": [
    "# number of columns\n",
    "ncol(df)"
   ]
  },
  {
   "cell_type": "markdown",
   "id": "8cc71854",
   "metadata": {},
   "source": [
    "If you want convert \"on fly\" character columns to factor use `stringsAsFactors = TRUE`: "
   ]
  },
  {
   "cell_type": "code",
   "execution_count": null,
   "id": "b3ef5191",
   "metadata": {},
   "outputs": [],
   "source": [
    "df <- data.frame(i = 1:5,\n",
    "                char_col = c(\"a\", \"b\", \"c\", \"d\", \"e\"),\n",
    "                log_col = c(T,T,T,F,T),\n",
    "                double_col = c(2.1, 1, 0.5, pi, 12.7),\n",
    "                stringsAsFactors = TRUE) # warning it depends on local settings of R\n",
    "df"
   ]
  },
  {
   "cell_type": "markdown",
   "id": "3978ac3d",
   "metadata": {},
   "source": [
    "Creating data.frames from lists (P.S. lists explained in next chapter):"
   ]
  },
  {
   "cell_type": "code",
   "execution_count": null,
   "id": "94e2ac17",
   "metadata": {},
   "outputs": [],
   "source": [
    "demo_list <- list(int_col = v_int,\n",
    "                  char_col = v_char,\n",
    "                  log_col = v_log,\n",
    "                  double_col = v_double)\n",
    "as.data.frame(demo_list)"
   ]
  },
  {
   "cell_type": "markdown",
   "id": "8d13ce6e",
   "metadata": {},
   "source": [
    "Matrix can be base for data frame too:"
   ]
  },
  {
   "cell_type": "code",
   "execution_count": null,
   "id": "0c2aeac0",
   "metadata": {},
   "outputs": [],
   "source": [
    "demo_matrix <- matrix(100:119, nrow = 5, ncol = 4)\n",
    "demo_matrix\n",
    "\n",
    "as.data.frame(demo_matrix)"
   ]
  },
  {
   "cell_type": "markdown",
   "id": "442470be",
   "metadata": {},
   "source": [
    "---"
   ]
  },
  {
   "cell_type": "markdown",
   "id": "17ab97d3",
   "metadata": {},
   "source": [
    "## Extending data frames"
   ]
  },
  {
   "cell_type": "markdown",
   "id": "c8ac8746",
   "metadata": {},
   "source": [
    "You can add rows and columns to data frame. Merging two data frames by selected column values awailable too."
   ]
  },
  {
   "cell_type": "markdown",
   "id": "d47852ef",
   "metadata": {},
   "source": [
    "`cbind()` adds new column"
   ]
  },
  {
   "cell_type": "code",
   "execution_count": null,
   "id": "23202b79",
   "metadata": {},
   "outputs": [],
   "source": [
    "df <-  data.frame(A1 = c(\"A\", \"B\", \"C\"),\n",
    "                  A2 = c(\"D\", \"E\", \"F\"))\n",
    "df\n",
    "\n",
    "A3 = c(1, 2, 3)\n",
    "cbind(df, A3)\n",
    "\n",
    "\n",
    "colnames(df)\n",
    "colnames(df) <- c(\"B1\", \"B2\")\n",
    "colnames(df)"
   ]
  },
  {
   "cell_type": "markdown",
   "id": "7b81376a",
   "metadata": {},
   "source": [
    "`rbind()` adds new row"
   ]
  },
  {
   "cell_type": "code",
   "execution_count": null,
   "id": "abb70d74",
   "metadata": {},
   "outputs": [],
   "source": [
    "letters_frame <-  data.frame(A1 = c(\"A\", \"B\", \"C\"),\n",
    "                            A2 = 1:3)\n",
    "letters_frame\n",
    "\n",
    "next_row = c(\"D\", 4) # data types by row should be the same as in initial data frame\n",
    "rbind(letters_frame, next_row)"
   ]
  },
  {
   "cell_type": "markdown",
   "id": "9edbd3a6-7d32-46ed-8a24-7db72141d116",
   "metadata": {},
   "source": [
    "### Merge DF"
   ]
  },
  {
   "cell_type": "markdown",
   "id": "2f3d56c6",
   "metadata": {},
   "source": [
    "Data frames could me merged by key with `merge()`:"
   ]
  },
  {
   "cell_type": "code",
   "execution_count": null,
   "id": "81fd09aa",
   "metadata": {},
   "outputs": [],
   "source": [
    "df1 <- data.frame(Id = c(1:4),\n",
    "                  Name = c(\"Nick\", \"Jake\", \"Jane\", \"Mary\"))\n",
    "df1\n",
    "\n",
    "df2 <- data.frame(Id = c(2, 1, 3, 5), # defferent order from Id in df1\n",
    "                  Age = c(34, 21, 45, 20))\n",
    "df2\n",
    "\n",
    "df_final <- merge(df1, df2, by = \"Id\", all.x = F, all.y = F)\n",
    "df_final"
   ]
  },
  {
   "cell_type": "markdown",
   "id": "04eb4157",
   "metadata": {},
   "source": [
    "---"
   ]
  },
  {
   "cell_type": "markdown",
   "id": "25842054",
   "metadata": {},
   "source": [
    "## Subsetting Data Frames"
   ]
  },
  {
   "cell_type": "markdown",
   "id": "133c402e",
   "metadata": {},
   "source": [
    "Data frames possess the characteristics of both lists and matrices: if you subset with a single vector, they behave like lists and will return the selected columns with all rows; if you subset with two vectors, they behave like matrices and can be subset by row and column:"
   ]
  },
  {
   "cell_type": "code",
   "execution_count": null,
   "id": "44872108",
   "metadata": {},
   "outputs": [],
   "source": [
    "df <- data.frame(int_col = 1:5,\n",
    "                char_col = c(\"a\", \"b\", \"c\", \"d\", \"e\"),\n",
    "                log_col = c(T,T,T,F,T),\n",
    "                double_col = c(2.1, 1, 0.5, pi, 12.7),\n",
    "                row.names = paste0(\"row_\", 1:5), # setting row names \n",
    "                stringsAsFactors = TRUE) # warning it depends on local settings of R\n",
    "df"
   ]
  },
  {
   "cell_type": "code",
   "execution_count": null,
   "id": "4e8fb5e3-e718-4933-927a-e6e9674e32da",
   "metadata": {},
   "outputs": [],
   "source": [
    "# select columns using $ sign\n",
    "df$log_col"
   ]
  },
  {
   "cell_type": "code",
   "execution_count": null,
   "id": "39372a95",
   "metadata": {},
   "outputs": [],
   "source": [
    "# subsetting by row numbers\n",
    "df[1, ] # first row\n",
    "df[nrow(df), ] # last row\n",
    "df[-1, ] # all except first row"
   ]
  },
  {
   "cell_type": "code",
   "execution_count": null,
   "id": "39d75efe",
   "metadata": {},
   "outputs": [],
   "source": [
    "# subsetting by row names\n",
    "df[c(\"row_4\", \"row_5\"), ]"
   ]
  },
  {
   "cell_type": "code",
   "execution_count": null,
   "id": "77b7d29f",
   "metadata": {},
   "outputs": [],
   "source": [
    "# subsetting columns like a list\n",
    "df[, c(\"log_col\", \"double_col\")]"
   ]
  },
  {
   "cell_type": "code",
   "execution_count": null,
   "id": "23c63527",
   "metadata": {},
   "outputs": [],
   "source": [
    "# subset for both rows and columns\n",
    "df[2:5, c(1, 3:4)]"
   ]
  },
  {
   "cell_type": "markdown",
   "id": "00279d3a",
   "metadata": {},
   "source": [
    "**You can also subset data frames based on conditional statements**"
   ]
  },
  {
   "cell_type": "code",
   "execution_count": null,
   "id": "aeef329e",
   "metadata": {},
   "outputs": [],
   "source": [
    "# select only with log_col == TRUE\n",
    "df[df$double_col > 1, ]\n",
    "\n",
    "df[!df$log_col, ]"
   ]
  },
  {
   "cell_type": "code",
   "execution_count": null,
   "id": "4b00fac4-7403-44da-8cf7-d1e06281c44f",
   "metadata": {},
   "outputs": [],
   "source": [
    "\"s\" %in% c(\"s\", \"t\")"
   ]
  },
  {
   "cell_type": "code",
   "execution_count": null,
   "id": "f7c7a5d5",
   "metadata": {},
   "outputs": [],
   "source": [
    "# select only with char_col == 'a', 'e'\n",
    "chars <- df$char_col %in% c(\"a\", \"e\")\n",
    "chars\n",
    "sum(chars)\n",
    "df[chars, ] # %in% operator for check multuiple values"
   ]
  },
  {
   "cell_type": "code",
   "execution_count": null,
   "id": "b18af522",
   "metadata": {},
   "outputs": [],
   "source": [
    "# select only with double_col > 1 and log_col == TRUE\n",
    "df[df$log_col == TRUE & df$double_col > 1, ]"
   ]
  },
  {
   "cell_type": "code",
   "execution_count": null,
   "id": "69875767",
   "metadata": {},
   "outputs": [],
   "source": [
    "# select only specific columns with double_col > 1 and log_col == TRUE\n",
    "df[df$log_col == TRUE & df$double_col > 1, c(\"log_col\", \"int_col\", \"double_col\")]"
   ]
  },
  {
   "cell_type": "markdown",
   "id": "cdaf029d",
   "metadata": {},
   "source": [
    "---"
   ]
  },
  {
   "cell_type": "markdown",
   "id": "c79bbfd2",
   "metadata": {},
   "source": [
    "### Order data.frame"
   ]
  },
  {
   "cell_type": "markdown",
   "id": "eb91e8a1",
   "metadata": {},
   "source": [
    "Let's use our previous sample `data.frame` but with unordered values:"
   ]
  },
  {
   "cell_type": "code",
   "execution_count": null,
   "id": "698993b1",
   "metadata": {},
   "outputs": [],
   "source": [
    "df <- data.frame(int_col = c(1, 5, 3, 4, 2),\n",
    "                char_col = c(\"b\", \"a\", \"a\", \"d\", \"e\"),\n",
    "                log_col = c(T,T,T,F,T),\n",
    "                double_col = c(2.1, 1, 0.5, pi, 12.7),\n",
    "                row.names = paste0(\"row_\", 1:5), # setting row names \n",
    "                stringsAsFactors = TRUE) # warning it depends on local settings of R\n",
    "df"
   ]
  },
  {
   "cell_type": "markdown",
   "id": "84e90986",
   "metadata": {},
   "source": [
    "You can use `order()` function for sorting `data.frames`."
   ]
  },
  {
   "cell_type": "code",
   "execution_count": null,
   "id": "d711aeb1",
   "metadata": {},
   "outputs": [],
   "source": [
    "# sort by int_col\n",
    "order(df$char_col)\n",
    "order(df$int_col)\n",
    "df[order(df$char_col),]"
   ]
  },
  {
   "cell_type": "markdown",
   "id": "f4eead68",
   "metadata": {},
   "source": [
    "Use `-` minus to sort descending"
   ]
  },
  {
   "cell_type": "code",
   "execution_count": null,
   "id": "80a0b329",
   "metadata": {},
   "outputs": [],
   "source": [
    "# sort by double_col\n",
    "# rev\n",
    "df[rev(order(df$int_col)), ]"
   ]
  },
  {
   "cell_type": "markdown",
   "id": "02883722",
   "metadata": {},
   "source": [
    "You can also sor by multiple columns with `order(column1, column2)` or `order(column1, -column2)`."
   ]
  },
  {
   "cell_type": "markdown",
   "id": "a6e3bb40",
   "metadata": {},
   "source": [
    "### Manipulating `data.frames`"
   ]
  },
  {
   "cell_type": "markdown",
   "id": "9ce63bab",
   "metadata": {},
   "source": [
    "\n",
    "typeconvert\n",
    "ifelse\n",
    "createnew columns (calculate age) ?lubridate\n",
    "missing remove\n",
    "missing replace\n",
    "\n",
    "edit with dataeditR"
   ]
  },
  {
   "cell_type": "markdown",
   "id": "bb8cefca",
   "metadata": {},
   "source": [
    "---"
   ]
  },
  {
   "cell_type": "markdown",
   "id": "bf7742e9",
   "metadata": {},
   "source": [
    "## Tasks on data.frames"
   ]
  },
  {
   "cell_type": "markdown",
   "id": "d36d9799",
   "metadata": {},
   "source": [
    "#### Task 1"
   ]
  },
  {
   "cell_type": "markdown",
   "id": "803250df",
   "metadata": {},
   "source": [
    "Write a code evaluates $y = x^2 + e, where x is a random number in range [0; 1]. \n",
    "\n",
    "Print calculation result as data.frame with columns `X`, `E`, `Y`.\n",
    "\n",
    "Use `plot()` funtion to visualize `X` vs `Y` as line chart (type = `l` or `b`)."
   ]
  },
  {
   "cell_type": "markdown",
   "id": "20eddac8",
   "metadata": {},
   "source": [
    "#### Solution"
   ]
  },
  {
   "cell_type": "code",
   "execution_count": null,
   "id": "6b9726cc",
   "metadata": {},
   "outputs": [],
   "source": [
    "# initiate data.frame\n",
    "df <- data.frame(X = 1:10,\n",
    "                 E = sample(5, 10, replace = T),\n",
    "                 Y = NA)\n",
    "head(df)\n"
   ]
  },
  {
   "cell_type": "code",
   "execution_count": null,
   "id": "67ebc1d8",
   "metadata": {},
   "outputs": [],
   "source": [
    "df$Y <- with(df, X^2 + E)\n",
    "head(df)"
   ]
  },
  {
   "cell_type": "code",
   "execution_count": null,
   "id": "06154f51",
   "metadata": {},
   "outputs": [],
   "source": [
    "plot(df$X, df$Y, type=\"l\", col = \"blue\")"
   ]
  },
  {
   "cell_type": "markdown",
   "id": "d2fe0620",
   "metadata": {},
   "source": [
    "---"
   ]
  },
  {
   "cell_type": "markdown",
   "id": "242c73a5",
   "metadata": {},
   "source": [
    "#### Task 2"
   ]
  },
  {
   "cell_type": "markdown",
   "id": "457d9850",
   "metadata": {},
   "source": [
    "1. Install package and load package `ISLR`\n",
    "2. Save dataset `Credit` into variable `credit_data`.\n",
    "3. Check dataset structure with `str()` function.\n",
    "4. Convert Student status \"yes/no\" to 1/0\n",
    "5. Order dataset by `Rating` descending\n",
    "6. Filter only `Age > 50` with `Rating > 400`, how many records do you get?\n",
    "7. Evaluate average `Income` for `Married = YES` `Married = NO` with Age in range [20,30]\n",
    "\n",
    "    7.1 Make the same for Age [30;40]\n",
    "    Any conclusion?"
   ]
  },
  {
   "cell_type": "markdown",
   "id": "56e0d522",
   "metadata": {},
   "source": [
    "#### Solution"
   ]
  },
  {
   "cell_type": "code",
   "execution_count": null,
   "id": "e32b1d0d",
   "metadata": {},
   "outputs": [],
   "source": [
    "# 1. install.package ISLR\n",
    "#install.packages(\"ISLR\")\n",
    "library(ISLR)"
   ]
  },
  {
   "cell_type": "code",
   "execution_count": null,
   "id": "dc096b37",
   "metadata": {},
   "outputs": [],
   "source": [
    "# 2. Save dataset `Credit` into variable `credit_data`.\n",
    "credit_data <- ISLR::Credit\n",
    "head(credit_data, 3)"
   ]
  },
  {
   "cell_type": "code",
   "execution_count": null,
   "id": "bdcbc48e",
   "metadata": {},
   "outputs": [],
   "source": [
    "# 3. Check dataset structure with `str()` function.\n",
    "str(credit_data)"
   ]
  },
  {
   "cell_type": "code",
   "execution_count": null,
   "id": "54c54b9b",
   "metadata": {},
   "outputs": [],
   "source": [
    "# Convert Student status \"yes/no\" to 1/0\n",
    "\n",
    "as.numeric(credit_data$Student) - 1\n",
    "\n",
    "credit_data$Student <- as.character(credit_data$Student) # convert to character first / factors\n",
    "credit_data$Student <- ifelse(credit_data$Student == \"Yes\", 1, 0)\n",
    "\n",
    "head(credit_data)"
   ]
  },
  {
   "cell_type": "code",
   "execution_count": null,
   "id": "c8b4e4a6",
   "metadata": {},
   "outputs": [],
   "source": [
    "# 5. Order dataset by `Rating` descending\n",
    "credit_data <- credit_data[order(-credit_data$Rating), ]\n",
    "head(credit_data)"
   ]
  },
  {
   "cell_type": "code",
   "execution_count": null,
   "id": "28bcb630",
   "metadata": {},
   "outputs": [],
   "source": [
    "# 6. Filter only `Age > 50` with `Rating > 400`\n",
    "credict_data_filtered <- credit_data[credit_data$Age > 50 & credit_data$Rating > 400, ]\n",
    "head(credict_data_filtered)\n",
    "nrow(credict_data_filtered)"
   ]
  },
  {
   "cell_type": "code",
   "execution_count": null,
   "id": "345546b3",
   "metadata": {},
   "outputs": [],
   "source": [
    "#7. Evaluate average `Income` for `Married = YES` `Married = NO` with age in rage [20,30]\n",
    "# 7.1 Make the same for Age [30;40]\n",
    "married <- with(credit_data, credit_data[(Age>=20 & Age <=30) & Married == \"Yes\", ])\n",
    "head(married)"
   ]
  },
  {
   "cell_type": "code",
   "execution_count": null,
   "id": "31094fd8",
   "metadata": {},
   "outputs": [],
   "source": [
    "not_married <- credit_data[credit_data$Age %in% c(20:30) & credit_data$Married == \"No\", ]\n",
    "head(not_married)"
   ]
  },
  {
   "cell_type": "code",
   "execution_count": null,
   "id": "a1e36de8",
   "metadata": {},
   "outputs": [],
   "source": [
    "mean(married$Income) # is it better to be merried? :)\n",
    "mean(not_married$Income)"
   ]
  },
  {
   "cell_type": "markdown",
   "id": "38dfe3f8",
   "metadata": {},
   "source": [
    "---"
   ]
  },
  {
   "cell_type": "markdown",
   "id": "c3520742",
   "metadata": {},
   "source": [
    "# 5. Lists"
   ]
  },
  {
   "cell_type": "markdown",
   "id": "c99ba4e8",
   "metadata": {},
   "source": [
    "Lists are the R objects which contain elements of different types like − numbers, strings, vectors and another list inside it. A list can also contain a matrix or a function as its elements. List is created using `list()` function."
   ]
  },
  {
   "cell_type": "markdown",
   "id": "5ce07fb1",
   "metadata": {},
   "source": [
    "Before start lest see one more package for working with date `lubridate`. It has a lot of functions for date parsing, manipulating and other. Check it with:"
   ]
  },
  {
   "cell_type": "code",
   "execution_count": null,
   "id": "2ce54363",
   "metadata": {},
   "outputs": [],
   "source": [
    "install.packages(\"lubridate\")\n",
    "??lubridate"
   ]
  },
  {
   "cell_type": "markdown",
   "id": "c1ca3150",
   "metadata": {},
   "source": [
    "For our sample we need function `ymd()` that parse charater date from format like \"2012-10-25\"."
   ]
  },
  {
   "cell_type": "code",
   "execution_count": null,
   "id": "742e7361",
   "metadata": {},
   "outputs": [],
   "source": [
    "library(lubridate)\n",
    "date1 <- ymd(\"2021-05-25\")\n",
    "date2 <- ymd(\"2021-05-27\")\n",
    "\n",
    "date1\n",
    "date2"
   ]
  },
  {
   "cell_type": "markdown",
   "id": "8ce0d7aa",
   "metadata": {},
   "source": [
    "You can also use `ymdhms()` to parse date and time correctly."
   ]
  },
  {
   "cell_type": "code",
   "execution_count": null,
   "id": "5fb5ec8b",
   "metadata": {},
   "outputs": [],
   "source": [
    "datetime <- ymd_hms(\"2021-05-25 11:05:12\", tz = \"UTC\") # wee need this for client transactions fix\n",
    "datetime"
   ]
  },
  {
   "cell_type": "markdown",
   "id": "ed515278",
   "metadata": {},
   "source": [
    "### Creating a List"
   ]
  },
  {
   "cell_type": "markdown",
   "id": "bacebf85",
   "metadata": {},
   "source": [
    "Following is an example to create a list containing vectors, strings, numbers and a logical values. Our list will describe a model of banks client:"
   ]
  },
  {
   "cell_type": "code",
   "execution_count": null,
   "id": "67b6cae1",
   "metadata": {},
   "outputs": [],
   "source": [
    "# initial values\n",
    "\n",
    "set.seed(1) # for fixing pseudo-random\n",
    "\n",
    "client_name <- \"John Doe\"\n",
    "services <- c(\"credit\", \"deposite\", \"online-app\")\n",
    "is_active <- TRUE\n",
    "transactions <- data.frame(contract_id = sample(10000:99999, size = 2, replace = T),# random numbers\n",
    "                          datetime = c(ymd_hms(\"2021-05-25 11:05:12\"),\n",
    "                                      ymd_hms(\"2021-05-25 11:07:14\"),\n",
    "                                      ymd_hms(\"2021-05-25 11:08:02\"),\n",
    "                                      ymd_hms(\"2021-05-25 11:12:45\"),\n",
    "                                      ymd_hms(\"2021-05-25 11:47:00\"),\n",
    "                                      ymd_hms(\"2021-05-25 11:48:08\")),\n",
    "                         oper_type = sample(0:1, size=6, replace = T), # 1 for debet, 0 for credet\n",
    "                         amount = round(sample(1:1000, size = 6) + runif(6),2))   \n",
    "\n",
    "#change AMOUNT to minus for debet (opertype == 1 \n",
    "transactions$amount <- ifelse(transactions$oper_type == 1, (-1)*transactions$amount, transactions$amount) \n",
    "transactions"
   ]
  },
  {
   "cell_type": "code",
   "execution_count": null,
   "id": "5814ca1c",
   "metadata": {},
   "outputs": [],
   "source": [
    "# creating list of signle objects, vector and dataframe\n",
    "list_data <- list(client_name, is_active, services, transactions)\n",
    "list_data"
   ]
  },
  {
   "cell_type": "markdown",
   "id": "3995024f",
   "metadata": {},
   "source": [
    "### Naming List Elements"
   ]
  },
  {
   "cell_type": "markdown",
   "id": "7a948281",
   "metadata": {},
   "source": [
    "Its better to name elements in list:"
   ]
  },
  {
   "cell_type": "code",
   "execution_count": null,
   "id": "57290da9",
   "metadata": {},
   "outputs": [],
   "source": [
    "names(list_data) <- c(\"ClientName\", \"IsActive\", \"Services\", \"Transactions\")\n",
    "list_data"
   ]
  },
  {
   "cell_type": "markdown",
   "id": "145d66fb",
   "metadata": {},
   "source": [
    "You can extend list \"on fly\" with `$`:"
   ]
  },
  {
   "cell_type": "code",
   "execution_count": null,
   "id": "b2d125a6",
   "metadata": {},
   "outputs": [],
   "source": [
    "list_data$ClientName\n",
    "list_data$ClientId <- 11125489656\n",
    "list_data"
   ]
  },
  {
   "cell_type": "markdown",
   "id": "20d7c18b",
   "metadata": {},
   "source": [
    "---"
   ]
  },
  {
   "cell_type": "markdown",
   "id": "b4f1953b",
   "metadata": {},
   "source": [
    "### Accessing List Elements"
   ]
  },
  {
   "cell_type": "markdown",
   "id": "99d81cbc",
   "metadata": {},
   "source": [
    "For now every element can be viewed with index in `[[]]` or `[]`:"
   ]
  },
  {
   "cell_type": "code",
   "execution_count": null,
   "id": "eda5808c",
   "metadata": {},
   "outputs": [],
   "source": [
    "# access to list element\n",
    "list_data[1]\n",
    "typeof(list_data[1])"
   ]
  },
  {
   "cell_type": "code",
   "execution_count": null,
   "id": "13542205",
   "metadata": {},
   "outputs": [],
   "source": [
    "# access to object\n",
    "list_data[[1]]\n",
    "typeof(list_data[[1]])"
   ]
  },
  {
   "cell_type": "markdown",
   "id": "e5f544fc",
   "metadata": {},
   "source": [
    "Access by `$` also anbled:"
   ]
  },
  {
   "cell_type": "code",
   "execution_count": null,
   "id": "46abe16c",
   "metadata": {},
   "outputs": [],
   "source": [
    "list_data$Transactions"
   ]
  },
  {
   "cell_type": "markdown",
   "id": "716a3426",
   "metadata": {},
   "source": [
    "### Manipulating List Elements"
   ]
  },
  {
   "cell_type": "markdown",
   "id": "01955ece",
   "metadata": {},
   "source": [
    "Lets continue using out `list_data` list."
   ]
  },
  {
   "cell_type": "code",
   "execution_count": null,
   "id": "19df60f4",
   "metadata": {},
   "outputs": [],
   "source": [
    "list_data"
   ]
  },
  {
   "cell_type": "markdown",
   "id": "33ddcac2",
   "metadata": {},
   "source": [
    "We can change data with `[]` and access with `$` symbol."
   ]
  },
  {
   "cell_type": "code",
   "execution_count": null,
   "id": "19bf4f3c",
   "metadata": {},
   "outputs": [],
   "source": [
    "# changing clint name with index\n",
    "list_data[1] <- \"New Name\"\n",
    "list_data"
   ]
  },
  {
   "cell_type": "code",
   "execution_count": null,
   "id": "79982dfe",
   "metadata": {},
   "outputs": [],
   "source": [
    "# changing data with $\n",
    "list_data$ClientName = \"John Doe\"\n",
    "list_data"
   ]
  },
  {
   "cell_type": "markdown",
   "id": "f2ce371d",
   "metadata": {},
   "source": [
    "### Yo can merge lists with `c()` function. Let's create new list and attach it to the `list_data`:"
   ]
  },
  {
   "cell_type": "code",
   "execution_count": null,
   "id": "ff739949",
   "metadata": {},
   "outputs": [],
   "source": [
    "list_2 <- list(Consultant = list(Name = \"David Cameron\", PhoneNum = \"+9562311855\"))\n",
    "list_2"
   ]
  },
  {
   "cell_type": "code",
   "execution_count": null,
   "id": "dc3b534c",
   "metadata": {},
   "outputs": [],
   "source": [
    "list_data <- c(list_data, list_2)\n",
    "list_data"
   ]
  },
  {
   "cell_type": "markdown",
   "id": "3ceab766",
   "metadata": {},
   "source": [
    "### With `unlist()` you can convert a list to a vector."
   ]
  },
  {
   "cell_type": "code",
   "execution_count": null,
   "id": "d442ba7a",
   "metadata": {},
   "outputs": [],
   "source": [
    "list_demo <- list(1:10)\n",
    "list_demo\n",
    "class(list_demo)\n",
    "typeof(list_demo)"
   ]
  },
  {
   "cell_type": "code",
   "execution_count": null,
   "id": "d4bc07fb",
   "metadata": {},
   "outputs": [],
   "source": [
    "list_demo * 5 # error, you cannot use * for list"
   ]
  },
  {
   "cell_type": "code",
   "execution_count": null,
   "id": "92a90b1d-8e05-4daa-8f3b-62f540338a0d",
   "metadata": {},
   "outputs": [],
   "source": [
    "lapply(list_demo, function(c) c*5)"
   ]
  },
  {
   "cell_type": "code",
   "execution_count": null,
   "id": "d7c28e6c",
   "metadata": {},
   "outputs": [],
   "source": [
    "vector_demo <- unlist(list_demo)\n",
    "vector_demo\n",
    "class(vector_demo)\n",
    "typeof(vector_demo)"
   ]
  },
  {
   "cell_type": "code",
   "execution_count": null,
   "id": "56266180",
   "metadata": {},
   "outputs": [],
   "source": [
    "vector_demo * 5 # now it works"
   ]
  },
  {
   "cell_type": "markdown",
   "id": "3376fd1a",
   "metadata": {},
   "source": [
    "---"
   ]
  },
  {
   "cell_type": "markdown",
   "id": "379c7cdd",
   "metadata": {},
   "source": [
    "## TASKS "
   ]
  },
  {
   "cell_type": "markdown",
   "id": "60619a23",
   "metadata": {},
   "source": [
    "#### Task 1"
   ]
  },
  {
   "cell_type": "markdown",
   "id": "158fcc79",
   "metadata": {},
   "source": [
    "Wrie a function that calculates `sum`, `average`, `median`, `min`, `max` of taken vector. Generate sample vector of 10 elements in $[1;100]$."
   ]
  },
  {
   "cell_type": "markdown",
   "id": "9fe75ea0",
   "metadata": {},
   "source": [
    "#### Solution"
   ]
  },
  {
   "cell_type": "code",
   "execution_count": null,
   "id": "bda712c6",
   "metadata": {},
   "outputs": [],
   "source": [
    "x <- sample(10:100, size = 10)\n",
    "print(x)"
   ]
  },
  {
   "cell_type": "code",
   "execution_count": null,
   "id": "8a1e506c",
   "metadata": {},
   "outputs": [],
   "source": [
    "vector_info <- function(vector) {\n",
    "  x <- list()\n",
    "  x$Sum <- sum(vector)\n",
    "  x$Mean <- mean(vector)\n",
    "  x$Median <- median(vector)\n",
    "  x$Min <- min(vector)\n",
    "  x$Max <- max(vector)\n",
    "  return(x)\n",
    "}\n",
    "\n",
    "vector_info(x)\n",
    "names(vector_info(x))"
   ]
  },
  {
   "cell_type": "markdown",
   "id": "e8c4221a",
   "metadata": {},
   "source": [
    "---"
   ]
  },
  {
   "cell_type": "markdown",
   "id": "730d0766",
   "metadata": {},
   "source": [
    "# 6. Apply functions family"
   ]
  },
  {
   "cell_type": "markdown",
   "id": "24add836",
   "metadata": {},
   "source": [
    "You can use a set of function for manipulating, accesing different data structures such as `data.frame`, `list`. "
   ]
  },
  {
   "cell_type": "markdown",
   "id": "eff01647",
   "metadata": {},
   "source": [
    "## The apply() functions family"
   ]
  },
  {
   "cell_type": "markdown",
   "id": "cdbd30c3",
   "metadata": {},
   "source": [
    "The `apply()` family pertains to the R base package and is populated with functions to manipulate slices of data from matrices, arrays, lists and dataframes in a repetitive way. These functions allow crossing the data in a number of ways and avoid explicit use of loop constructs. They act on an input list, matrix or array and apply a named function with one or several optional arguments.\n",
    "\n",
    "The called function could be:\n",
    "\n",
    "- [x] An aggregating function, like for example the mean, or the sum (that return a number or scalar);\n",
    "- [x] Other transforming or subsetting functions; and\n",
    "- [x] Other vectorized functions, which yield more complex structures like lists, vectors, matrices, and arrays.\n",
    "\n",
    "The `apply()` functions form the basis of more complex combinations and helps to perform operations with very few lines of code. More specifically, the family is made up of the `apply()`, `lapply()`, `sapply()`, `vapply()`, `mapply()`, `rapply()`, and `tapply()` functions.\n",
    "\n",
    "Using of any functions depends on the structure of the data that you want to operate on and the format of the output that you need."
   ]
  },
  {
   "cell_type": "markdown",
   "id": "5538bbe5",
   "metadata": {},
   "source": [
    "## `apply()`"
   ]
  },
  {
   "cell_type": "markdown",
   "id": "76f25627",
   "metadata": {},
   "source": [
    "`apply()` operates on arrays (2D arrays are matrices).\n",
    "\n",
    "Syntax is next: **`apply(X, MARGIN, FUN, ...)`**, where \n",
    "\n",
    "- [x] `X` is an array or a matrix if the dimension of the array is 2;\n",
    "- [x] `MARGIN` is a variable defining how the function is applied: when `MARGIN=1`, it applies over rows, whereas with `MARGIN=2`, it works over columns. Note that when you use the construct `MARGIN=c(1,2)`, it applies to both rows and columns; and\n",
    "- [x] `FUN`, which is the function that you want to apply to the data. It can be any R function, including a User Defined Function (UDF)."
   ]
  },
  {
   "cell_type": "code",
   "execution_count": null,
   "id": "c2a4bf08",
   "metadata": {},
   "outputs": [],
   "source": [
    "# create a matrix\n",
    "\n",
    "matrix  <- matrix(10:29, ncol = 5, nrow = 4)\n",
    "matrix"
   ]
  },
  {
   "cell_type": "code",
   "execution_count": null,
   "id": "26d97115",
   "metadata": {},
   "outputs": [],
   "source": [
    "# find sums by col\n",
    "apply(matrix, 2, sum)"
   ]
  },
  {
   "cell_type": "markdown",
   "id": "56cd48af",
   "metadata": {},
   "source": [
    "It your turn. TASK. Calculate average value of all rows:"
   ]
  },
  {
   "cell_type": "code",
   "execution_count": null,
   "id": "cb475c48",
   "metadata": {},
   "outputs": [],
   "source": [
    "apply(matrix, 1, mean)"
   ]
  },
  {
   "cell_type": "markdown",
   "id": "fb5985a7",
   "metadata": {},
   "source": [
    "## `lapply()`"
   ]
  },
  {
   "cell_type": "markdown",
   "id": "63c60278",
   "metadata": {},
   "source": [
    "`lapply()` from `apply()` is:\n",
    "\n",
    "- [x] It can be used for other objects like `dataframes`, `lists` or `vectors`; and\n",
    "- [x] The output returned is a `list` (which explains the “l” in the function name), which has the same number of elements as the object passed to it.\n",
    "\n"
   ]
  },
  {
   "cell_type": "markdown",
   "id": "c10c6114",
   "metadata": {},
   "source": [
    "?lapply to check params of fucntion:"
   ]
  },
  {
   "cell_type": "code",
   "execution_count": null,
   "id": "7e3b1b1d",
   "metadata": {},
   "outputs": [],
   "source": [
    "?lapply"
   ]
  },
  {
   "cell_type": "markdown",
   "id": "0a7218c6",
   "metadata": {},
   "source": [
    "Lets create list of data.frames:"
   ]
  },
  {
   "cell_type": "code",
   "execution_count": null,
   "id": "8b138326",
   "metadata": {},
   "outputs": [],
   "source": [
    "df_a <- data.frame(Value1 = 1:5, Value2 = 101:105)\n",
    "df_a\n",
    "#df_b <- data.frame(Value1 = 11:15, Value2 = 201:205)\n",
    "#df_c <- data.frame(Value1 = 16:20, Value2 = 301:305)\n",
    "#df_c\n",
    "\n",
    "lapply(df_a$Value1, sum)"
   ]
  },
  {
   "cell_type": "code",
   "execution_count": null,
   "id": "6093611b",
   "metadata": {},
   "outputs": [],
   "source": [
    "list_demo <- list(df_a, df_b, df_c)\n",
    "list_demo"
   ]
  },
  {
   "cell_type": "code",
   "execution_count": null,
   "id": "e66d7695",
   "metadata": {},
   "outputs": [],
   "source": [
    "# lets select the 2nd row of each data frame\n",
    "\n",
    "lapply(list_demo, \"[\", , 2)\n",
    "# list_demo - data\n",
    "# \"[\" -  selection operator\n",
    "# row index\n",
    "# col index"
   ]
  },
  {
   "cell_type": "markdown",
   "id": "7f6e133f",
   "metadata": {},
   "source": [
    "TASK. Its your turn. **Select all 1st rows of dataframes**"
   ]
  },
  {
   "cell_type": "code",
   "execution_count": null,
   "id": "1ae6a474",
   "metadata": {},
   "outputs": [],
   "source": [
    "lapply(list_demo, \"[\", 1,)"
   ]
  },
  {
   "cell_type": "markdown",
   "id": "2f027e5f",
   "metadata": {},
   "source": [
    "TASK. Its your turn. Select all 1st elements (1st row, 1st col)"
   ]
  },
  {
   "cell_type": "code",
   "execution_count": null,
   "id": "bbf6ce4d",
   "metadata": {},
   "outputs": [],
   "source": [
    "lapply(list_demo, \"[\", 1, 1)"
   ]
  },
  {
   "cell_type": "markdown",
   "id": "2d314dc3",
   "metadata": {},
   "source": [
    "You can apply function to all elemetns. Let's make some names in lowercase "
   ]
  },
  {
   "cell_type": "code",
   "execution_count": null,
   "id": "b6583b38",
   "metadata": {},
   "outputs": [],
   "source": [
    "names_list <- list(\"John\", \"Jane\", \"Jake\", \"Jacob\")\n",
    "lower_names <- lapply(names_list, tolower) \n",
    "class(lower_names)"
   ]
  },
  {
   "cell_type": "markdown",
   "id": "3029980f",
   "metadata": {},
   "source": [
    "## `sapplay()`"
   ]
  },
  {
   "cell_type": "markdown",
   "id": "571905f2",
   "metadata": {},
   "source": [
    "`sapply()` takes a `list` `vector` or `dataframe` as an input and returns the output in `vector` or `matrix` form.\n",
    "Lets use `sapply()` function in the previous example and check the result."
   ]
  },
  {
   "cell_type": "code",
   "execution_count": null,
   "id": "34fa94c3",
   "metadata": {},
   "outputs": [],
   "source": [
    "sapply(names_list, tolower) "
   ]
  },
  {
   "cell_type": "markdown",
   "id": "6e912c43",
   "metadata": {},
   "source": [
    "It tries to simplify the output to the most elementary data structure that is possible. And indeed, `sapply()` is a ‘wrapper’ function for `lapply()`."
   ]
  },
  {
   "cell_type": "markdown",
   "id": "88d957b8",
   "metadata": {},
   "source": [
    "Let's try to get every 1st element of 2nd row from out `list_demo`: "
   ]
  },
  {
   "cell_type": "code",
   "execution_count": null,
   "id": "60cbff9b",
   "metadata": {},
   "outputs": [],
   "source": [
    "list_demo"
   ]
  },
  {
   "cell_type": "code",
   "execution_count": null,
   "id": "afd8465a",
   "metadata": {},
   "outputs": [],
   "source": [
    "data <- sapply(list_demo, \"[\", 2,1)\n",
    "data\n",
    "class(data)"
   ]
  },
  {
   "cell_type": "code",
   "execution_count": null,
   "id": "bb2d7323",
   "metadata": {},
   "outputs": [],
   "source": [
    "# lest set simplify = FASLE\n",
    "data <- sapply(list_demo, \"[\", 2,1, simplify =F)\n",
    "data\n",
    "class(data)"
   ]
  },
  {
   "cell_type": "markdown",
   "id": "4809eba1",
   "metadata": {},
   "source": [
    "## `aggregate()`"
   ]
  },
  {
   "cell_type": "markdown",
   "id": "4071997f",
   "metadata": {},
   "source": [
    "This function is from package `stats`. It often used for grouping data by some key. Its from apply family, but working in the same way. So, its good idea discuss it now.\n",
    "\n",
    "Syntax for data.frame:\n",
    "\n",
    "```\n",
    "aggregate(x,               # R object \\\n",
    "          by,              # List of variables (grouping elements) \\\n",
    "          FUN,             # Function to be applied for summary statistics\\\n",
    "          ...,             # Additional arguments to be passed to FUN\\\n",
    "          simplify = TRUE, # Whether to simplify results as much as possible or not\\\n",
    "          drop = TRUE)     # Whether to drop unused combinations of grouping values or not.\n",
    "```"
   ]
  },
  {
   "cell_type": "markdown",
   "id": "52cfa84d",
   "metadata": {},
   "source": [
    "Syntax for formula:\n",
    "\n",
    "```# Formula\n",
    "aggregate(formula,             # Input formula \\\n",
    "          data,                # List or data frame where the variables are stored \\\n",
    "          FUN,                 # Function to be applied for summary statistics \\\n",
    "          ...,                 # Additional arguments to be passed to FUN \\\n",
    "          subset,              # Observations to be used (optional) \\\n",
    "          na.action = na.omit) # How to deal with NA values` \n",
    "```"
   ]
  },
  {
   "cell_type": "markdown",
   "id": "0d2a7fba",
   "metadata": {},
   "source": [
    "Lets use our `credit_data` from one of the previous tasks:"
   ]
  },
  {
   "cell_type": "code",
   "execution_count": null,
   "id": "64c7722c",
   "metadata": {},
   "outputs": [],
   "source": [
    "credit_data <- ISLR::Credit\n",
    "head(credit_data)"
   ]
  },
  {
   "cell_type": "markdown",
   "id": "da0845ec",
   "metadata": {},
   "source": [
    "TASK 1. Calculate average Balance by Gender:"
   ]
  },
  {
   "cell_type": "code",
   "execution_count": null,
   "id": "ddb75dbf",
   "metadata": {},
   "outputs": [],
   "source": [
    "# lets use formula syntax\n",
    "mean_age <- aggregate(Age ~ Gender, data = credit_data, mean)\n",
    "mean_age \n",
    "\n",
    "n <- names(mean_age)\n",
    "n[n == \"Age\"] = \"Mean Age\"\n",
    "names(mean_age) = n\n",
    "mean_age"
   ]
  },
  {
   "cell_type": "markdown",
   "id": "1054fd3e",
   "metadata": {},
   "source": [
    "TASK 2. Average Balance for Gender and Student status at the same time"
   ]
  },
  {
   "cell_type": "code",
   "execution_count": null,
   "id": "72924af1",
   "metadata": {},
   "outputs": [],
   "source": [
    "group_bal <- aggregate(Age ~ Gender + Married, data = credit_data, mean)\n",
    "group_bal"
   ]
  },
  {
   "cell_type": "markdown",
   "id": "9de8d586",
   "metadata": {},
   "source": [
    "Task 3. FOR STUDENTS. Try get aggregated average `Income` by `Age`. Order final dat.frame by age and make a `plot()`."
   ]
  },
  {
   "cell_type": "code",
   "execution_count": null,
   "id": "badef4c6",
   "metadata": {},
   "outputs": [],
   "source": [
    "group_inc <- aggregate(Income ~ Age + Gender, data = credit_data, mean)\n",
    "head(group_inc, 10)"
   ]
  },
  {
   "cell_type": "code",
   "execution_count": null,
   "id": "47c695fe-429b-451d-a0f5-5e542447a0aa",
   "metadata": {},
   "outputs": [],
   "source": [
    "levels(group_inc$Gender)\n",
    "levels(group_inc$Gender) <- c(\"Male\", \"Female\")\n",
    "\n",
    "m_data <- group_inc[group_inc$Gender == \"Male\", ]\n",
    "nrow(m_data)\n",
    "\n",
    "f_data <- group_inc[group_inc$Gender == \"Female\", ]\n",
    "nrow(f_data)\n",
    "with(m_data, plot(Age, Income, type = \"l\", col=\"red\"))\n",
    "with(f_data, lines(Age, Income, type = \"l\", col =\"blue\"))\n",
    "#plot(group_inc$Age, group_inc$Income, type = \"b\")"
   ]
  },
  {
   "cell_type": "markdown",
   "id": "444a3c7e",
   "metadata": {},
   "source": [
    "---"
   ]
  },
  {
   "cell_type": "markdown",
   "id": "a93a1c39",
   "metadata": {},
   "source": [
    "# References"
   ]
  },
  {
   "cell_type": "markdown",
   "id": "8e788584",
   "metadata": {},
   "source": [
    "1. The Comprehensive R Archive NetworkRcran: Url: https://cran.r-project.org/\n",
    "2. RStudio official website. Url: https://rstudio.com/\n",
    "3. Anaconda official website. Url: https://www.anaconda.com/\n",
    "4. Introduction to R. Datacamp interactive course. Url:  https://www.datacamp.com/courses/free-introduction-to-r\n",
    "5. Quanargo. Introduction to R. Url: https://www.quantargo.com/courses/course-r-introduction\n",
    "6. R Coder Project. Begin your data science career with R language! Url: https://r-coder.com/\n",
    "7. R Core Team (2019). R: A language and environment for statistical computing. R Foundation for Statistical Computing, Vienna, Austria.URL https://www.R-project.org/.\n",
    "8. A.B. Shipunov, EM Baldin, P.A. Volkova, VG Sufiyanov. Visual statistics. We use R! - M .: DMK Press, 2012. - 298 p .: ill.\n",
    "9. An Introduction to R. URL: https://cran.r-project.org/doc/manuals/r-release/R-intro.html\n",
    "10. R programming. https://www.datamentor.io/r-programming\n",
    "11. Learn R. R Functions. https://www.w3schools.com/r/r_functions.asp\n",
    "12. UC Business Analytics R Programming Guide. Managing Data Frames. http://uc-r.github.io/dataframes\n",
    "13. Learn R programming. R - Lists. https://www.tutorialspoint.com/r/r_lists.htm\n",
    "14. Tutorial on the R Apply Family by Carlo Fanara. https://www.datacamp.com/community/tutorials/r-tutorial-apply-family"
   ]
  }
 ],
 "metadata": {
  "kernelspec": {
   "display_name": "R",
   "language": "R",
   "name": "ir"
  },
  "language_info": {
   "codemirror_mode": "r",
   "file_extension": ".r",
   "mimetype": "text/x-r-source",
   "name": "R",
   "pygments_lexer": "r",
   "version": "4.1.3"
  }
 },
 "nbformat": 4,
 "nbformat_minor": 5
}
