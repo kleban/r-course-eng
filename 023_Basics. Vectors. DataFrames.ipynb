{
 "cells": [
  {
   "cell_type": "markdown",
   "metadata": {},
   "source": [
    "# Variables, Types, Operators\n",
    "\n",
    "---\n",
    "\n",
    "## Basics of programming for Data Science and Machine Learning\n",
    "\n",
    "\n",
    "Applied Mathematical Modeling in Banking"
   ]
  },
  {
   "cell_type": "markdown",
   "metadata": {},
   "source": [
    "---"
   ]
  },
  {
   "cell_type": "markdown",
   "metadata": {},
   "source": [
    "## Table of contents"
   ]
  },
  {
   "cell_type": "markdown",
   "metadata": {},
   "source": [
    "1. Vectors\n",
    "2. Matrices\n",
    "3. Factors\n",
    "4. Data frames\n",
    "5. Lists\n",
    "6. Apply functions family"
   ]
  },
  {
   "cell_type": "markdown",
   "metadata": {},
   "source": [
    "---"
   ]
  },
  {
   "cell_type": "markdown",
   "metadata": {},
   "source": [
    "# 1. Vectors"
   ]
  },
  {
   "cell_type": "markdown",
   "metadata": {},
   "source": [
    "### Announcement of vectors"
   ]
  },
  {
   "cell_type": "markdown",
   "metadata": {},
   "source": [
    "A vector is a base data type in `R` that allows you to write a collection of elements of the same type with or without `c() `if it is a sequence of values.\n",
    "\n",
    "_Note. In essence, the function `c()` allows you to combine several vectors._\n",
    "\n",
    "Consider for example the usual variable `x`:"
   ]
  },
  {
   "cell_type": "code",
   "execution_count": 2,
   "metadata": {},
   "outputs": [],
   "source": [
    "x <- 10"
   ]
  },
  {
   "cell_type": "markdown",
   "metadata": {},
   "source": [
    "In essence, `x` in this case is a vector consisting of one value of` 10`. We can also write several elements to the variable `x`:"
   ]
  },
  {
   "cell_type": "code",
   "execution_count": 3,
   "metadata": {},
   "outputs": [
    {
     "data": {
      "text/html": [
       "<style>\n",
       ".list-inline {list-style: none; margin:0; padding: 0}\n",
       ".list-inline>li {display: inline-block}\n",
       ".list-inline>li:not(:last-child)::after {content: \"\\00b7\"; padding: 0 .5ex}\n",
       "</style>\n",
       "<ol class=list-inline><li>1</li><li>2</li><li>2.5</li><li>3</li></ol>\n"
      ],
      "text/latex": [
       "\\begin{enumerate*}\n",
       "\\item 1\n",
       "\\item 2\n",
       "\\item 2.5\n",
       "\\item 3\n",
       "\\end{enumerate*}\n"
      ],
      "text/markdown": [
       "1. 1\n",
       "2. 2\n",
       "3. 2.5\n",
       "4. 3\n",
       "\n",
       "\n"
      ],
      "text/plain": [
       "[1] 1.0 2.0 2.5 3.0"
      ]
     },
     "metadata": {},
     "output_type": "display_data"
    }
   ],
   "source": [
    "x <- c(1, 2, 2.5, 3)\n",
    "x"
   ]
  },
  {
   "cell_type": "markdown",
   "metadata": {},
   "source": [
    "Vector elements can be values of any type: `numeric`,` character`, `logical`, etc .:"
   ]
  },
  {
   "cell_type": "code",
   "execution_count": 4,
   "metadata": {},
   "outputs": [],
   "source": [
    "v1 <- c(1, 3, 4, 6, 7)\n",
    "v2 <- c(T, F, F, T, F)\n",
    "v3 <- c(\"Hello\", \"my\", \"friend\", \"!\")"
   ]
  },
  {
   "cell_type": "markdown",
   "metadata": {},
   "source": [
    "Vector elements are also sequences created using the functions `rep ()`, `seq ()` and the operator `:`:"
   ]
  },
  {
   "cell_type": "code",
   "execution_count": 6,
   "metadata": {},
   "outputs": [
    {
     "data": {
      "text/html": [
       "<style>\n",
       ".list-inline {list-style: none; margin:0; padding: 0}\n",
       ".list-inline>li {display: inline-block}\n",
       ".list-inline>li:not(:last-child)::after {content: \"\\00b7\"; padding: 0 .5ex}\n",
       "</style>\n",
       "<ol class=list-inline><li>2</li><li>3</li><li>4</li><li>5</li><li>6</li><li>7</li></ol>\n"
      ],
      "text/latex": [
       "\\begin{enumerate*}\n",
       "\\item 2\n",
       "\\item 3\n",
       "\\item 4\n",
       "\\item 5\n",
       "\\item 6\n",
       "\\item 7\n",
       "\\end{enumerate*}\n"
      ],
      "text/markdown": [
       "1. 2\n",
       "2. 3\n",
       "3. 4\n",
       "4. 5\n",
       "5. 6\n",
       "6. 7\n",
       "\n",
       "\n"
      ],
      "text/plain": [
       "[1] 2 3 4 5 6 7"
      ]
     },
     "metadata": {},
     "output_type": "display_data"
    },
    {
     "data": {
      "text/html": [
       "<style>\n",
       ".list-inline {list-style: none; margin:0; padding: 0}\n",
       ".list-inline>li {display: inline-block}\n",
       ".list-inline>li:not(:last-child)::after {content: \"\\00b7\"; padding: 0 .5ex}\n",
       "</style>\n",
       "<ol class=list-inline><li>7</li><li>6</li><li>5</li><li>4</li><li>3</li><li>2</li></ol>\n"
      ],
      "text/latex": [
       "\\begin{enumerate*}\n",
       "\\item 7\n",
       "\\item 6\n",
       "\\item 5\n",
       "\\item 4\n",
       "\\item 3\n",
       "\\item 2\n",
       "\\end{enumerate*}\n"
      ],
      "text/markdown": [
       "1. 7\n",
       "2. 6\n",
       "3. 5\n",
       "4. 4\n",
       "5. 3\n",
       "6. 2\n",
       "\n",
       "\n"
      ],
      "text/plain": [
       "[1] 7 6 5 4 3 2"
      ]
     },
     "metadata": {},
     "output_type": "display_data"
    }
   ],
   "source": [
    "vtr <-  2:7\n",
    "vtr\n",
    "vtr <- 7:2\n",
    "vtr"
   ]
  },
  {
   "cell_type": "markdown",
   "metadata": {},
   "source": [
    "If you need to combine several vectors, use the `c()` function:"
   ]
  },
  {
   "cell_type": "code",
   "execution_count": 8,
   "metadata": {},
   "outputs": [
    {
     "data": {
      "text/html": [
       "<style>\n",
       ".list-inline {list-style: none; margin:0; padding: 0}\n",
       ".list-inline>li {display: inline-block}\n",
       ".list-inline>li:not(:last-child)::after {content: \"\\00b7\"; padding: 0 .5ex}\n",
       "</style>\n",
       "<ol class=list-inline><li>2</li><li>3</li><li>4</li><li>6</li><li>9</li><li>10</li><li>11</li><li>12</li><li>100</li></ol>\n"
      ],
      "text/latex": [
       "\\begin{enumerate*}\n",
       "\\item 2\n",
       "\\item 3\n",
       "\\item 4\n",
       "\\item 6\n",
       "\\item 9\n",
       "\\item 10\n",
       "\\item 11\n",
       "\\item 12\n",
       "\\item 100\n",
       "\\end{enumerate*}\n"
      ],
      "text/markdown": [
       "1. 2\n",
       "2. 3\n",
       "3. 4\n",
       "4. 6\n",
       "5. 9\n",
       "6. 10\n",
       "7. 11\n",
       "8. 12\n",
       "9. 100\n",
       "\n",
       "\n"
      ],
      "text/plain": [
       "[1]   2   3   4   6   9  10  11  12 100"
      ]
     },
     "metadata": {},
     "output_type": "display_data"
    }
   ],
   "source": [
    "x <- 2:3\n",
    "y <- c(4,6,9)\n",
    "z <- c(x, y, 10:12, 100)\n",
    "z"
   ]
  },
  {
   "cell_type": "markdown",
   "metadata": {},
   "source": [
    "You can view brief descriptive statistics by vector using the ** `summary()` ** function:"
   ]
  },
  {
   "cell_type": "code",
   "execution_count": 11,
   "metadata": {},
   "outputs": [
    {
     "data": {
      "text/plain": [
       "   Min. 1st Qu.  Median    Mean 3rd Qu.    Max. \n",
       "   2.00    4.00    9.00   17.44   11.00  100.00 "
      ]
     },
     "metadata": {},
     "output_type": "display_data"
    }
   ],
   "source": [
    "summary(z)"
   ]
  },
  {
   "cell_type": "markdown",
   "metadata": {},
   "source": [
    "---"
   ]
  },
  {
   "cell_type": "markdown",
   "metadata": {},
   "source": [
    "### Operations on vectors"
   ]
  },
  {
   "cell_type": "markdown",
   "metadata": {},
   "source": [
    "The advantage of using vectors over writing each value in a separate variable is the ability to perform 1 operation on all elements of the vector or on several vectors simultaneously, for example, arithmetic operations of addition or multiplication."
   ]
  },
  {
   "cell_type": "code",
   "execution_count": 13,
   "metadata": {},
   "outputs": [
    {
     "data": {
      "text/html": [
       "<style>\n",
       ".list-inline {list-style: none; margin:0; padding: 0}\n",
       ".list-inline>li {display: inline-block}\n",
       ".list-inline>li:not(:last-child)::after {content: \"\\00b7\"; padding: 0 .5ex}\n",
       "</style>\n",
       "<ol class=list-inline><li>3</li><li>8</li></ol>\n"
      ],
      "text/latex": [
       "\\begin{enumerate*}\n",
       "\\item 3\n",
       "\\item 8\n",
       "\\end{enumerate*}\n"
      ],
      "text/markdown": [
       "1. 3\n",
       "2. 8\n",
       "\n",
       "\n"
      ],
      "text/plain": [
       "[1] 3 8"
      ]
     },
     "metadata": {},
     "output_type": "display_data"
    }
   ],
   "source": [
    "v1 <- c(1, 3)\n",
    "v2 <- c(2, 5)\n",
    "v1 + v2"
   ]
  },
  {
   "cell_type": "markdown",
   "metadata": {},
   "source": [
    "From the example described above, it can be understood that the addition operation is essentially a superelement sum of vectors when the 1st element of the vector `v1` is added to the 1st element of the vector` v2`(`1 + 2`) and so on. Thus, the resulting vector will have the same length as the vectors `v1` and` v2`.\n",
    "\n",
    "However, there may be a situation when one of the vectors has a shorter length or even consists of 1 element:"
   ]
  },
  {
   "cell_type": "code",
   "execution_count": 15,
   "metadata": {},
   "outputs": [
    {
     "data": {
      "text/html": [
       "<style>\n",
       ".list-inline {list-style: none; margin:0; padding: 0}\n",
       ".list-inline>li {display: inline-block}\n",
       ".list-inline>li:not(:last-child)::after {content: \"\\00b7\"; padding: 0 .5ex}\n",
       "</style>\n",
       "<ol class=list-inline><li>3</li><li>5</li></ol>\n"
      ],
      "text/latex": [
       "\\begin{enumerate*}\n",
       "\\item 3\n",
       "\\item 5\n",
       "\\end{enumerate*}\n"
      ],
      "text/markdown": [
       "1. 3\n",
       "2. 5\n",
       "\n",
       "\n"
      ],
      "text/plain": [
       "[1] 3 5"
      ]
     },
     "metadata": {},
     "output_type": "display_data"
    }
   ],
   "source": [
    "v1 <- c(1, 3)\n",
    "v2 <- 2\n",
    "v1 + v2"
   ]
  },
  {
   "cell_type": "markdown",
   "metadata": {},
   "source": [
    "In this case, the number `2` will be added to each element of the vector` v1`. In fact, this means that the vector `v2` will look like `c 2, 2)`, ie there will be a duplication of values to the length of the vector` v1` and then perform the operation of adding elements. Thus, the resulting vector will have the length of the longest of the vectors.\n",
    "\n",
    "Consider a more complex case where there are vectors with different numbers of elements other than 1:"
   ]
  },
  {
   "cell_type": "code",
   "execution_count": 17,
   "metadata": {},
   "outputs": [
    {
     "name": "stderr",
     "output_type": "stream",
     "text": [
      "Warning message in v1 + v2 + v3:\n",
      "\"longer object length is not a multiple of shorter object length\"\n"
     ]
    },
    {
     "data": {
      "text/html": [
       "<style>\n",
       ".list-inline {list-style: none; margin:0; padding: 0}\n",
       ".list-inline>li {display: inline-block}\n",
       ".list-inline>li:not(:last-child)::after {content: \"\\00b7\"; padding: 0 .5ex}\n",
       "</style>\n",
       "<ol class=list-inline><li>7</li><li>16</li><li>17</li><li>11</li></ol>\n"
      ],
      "text/latex": [
       "\\begin{enumerate*}\n",
       "\\item 7\n",
       "\\item 16\n",
       "\\item 17\n",
       "\\item 11\n",
       "\\end{enumerate*}\n"
      ],
      "text/markdown": [
       "1. 7\n",
       "2. 16\n",
       "3. 17\n",
       "4. 11\n",
       "\n",
       "\n"
      ],
      "text/plain": [
       "[1]  7 16 17 11"
      ]
     },
     "metadata": {},
     "output_type": "display_data"
    }
   ],
   "source": [
    "v1 <- c(2, 3)\n",
    "v2 <- c(4, 5, 6, 7)\n",
    "v3 <- c(1, 8, 9)\n",
    "v1 + v2 + v3"
   ]
  },
  {
   "cell_type": "markdown",
   "metadata": {},
   "source": [
    "To begin with, it should be noted that the interpreter warns that the lengths of the vectors are not multiples (if they were vectors of length 2, 4, 8, then there would be no warning).\n",
    "\n",
    "If you extend each vector to the length of the maximum of them, repeating the elements cyclically, you get a set (*marked added elements*):"
   ]
  },
  {
   "cell_type": "markdown",
   "metadata": {},
   "source": [
    "```r\n",
    "v1 <- c(2, 3,*2,*3)\n",
    "v2 <- c(4, 5, 6, 7)\n",
    "v3 <- c(1, 8, 9,*1)\n",
    "```"
   ]
  },
  {
   "cell_type": "markdown",
   "metadata": {},
   "source": [
    "Subtraction (`-`), division(`/`) and multiplication (`*`) operations are performed similarly."
   ]
  },
  {
   "cell_type": "markdown",
   "metadata": {},
   "source": [
    "The relation operators and logical operators also act element by element with respect to the vector, but the result is a collection (vector) of values of the logical type `logical` with the values` TRUE/FALSE`.\n",
    "\n",
    "Consider an example of finding all elements of the array `v1` that are greater than the corresponding index elements of the array` v2`:"
   ]
  },
  {
   "cell_type": "code",
   "execution_count": 20,
   "metadata": {},
   "outputs": [
    {
     "data": {
      "text/html": [
       "<style>\n",
       ".list-inline {list-style: none; margin:0; padding: 0}\n",
       ".list-inline>li {display: inline-block}\n",
       ".list-inline>li:not(:last-child)::after {content: \"\\00b7\"; padding: 0 .5ex}\n",
       "</style>\n",
       "<ol class=list-inline><li>FALSE</li><li>FALSE</li><li>TRUE</li><li>TRUE</li><li>TRUE</li></ol>\n"
      ],
      "text/latex": [
       "\\begin{enumerate*}\n",
       "\\item FALSE\n",
       "\\item FALSE\n",
       "\\item TRUE\n",
       "\\item TRUE\n",
       "\\item TRUE\n",
       "\\end{enumerate*}\n"
      ],
      "text/markdown": [
       "1. FALSE\n",
       "2. FALSE\n",
       "3. TRUE\n",
       "4. TRUE\n",
       "5. TRUE\n",
       "\n",
       "\n"
      ],
      "text/plain": [
       "[1] FALSE FALSE  TRUE  TRUE  TRUE"
      ]
     },
     "metadata": {},
     "output_type": "display_data"
    }
   ],
   "source": [
    "v1 <- c(2, 4, 7, 9, 12)\n",
    "v2 <- c(6, 4, 6, 7, 1)\n",
    "v1 > v2"
   ]
  },
  {
   "cell_type": "markdown",
   "metadata": {},
   "source": [
    "In essence, as a result of execution there is a comparison of each element of both vectors among themselves: `2>6`,` 4>4`, `7>6`,` 9>7`, `12>1`."
   ]
  },
  {
   "cell_type": "markdown",
   "metadata": {},
   "source": [
    "Therefore, the previously studied operators (arithmetic, logical, relations) can be used to work with vectors as well."
   ]
  },
  {
   "cell_type": "markdown",
   "metadata": {},
   "source": [
    "### Naming vector elements"
   ]
  },
  {
   "cell_type": "markdown",
   "metadata": {},
   "source": [
    "In order to understand what vectors mean and what data is often described, analysts need to sign this data.\n",
    "\n",
    "We will write down information about daily visits to the site by users during the week in the following way:"
   ]
  },
  {
   "cell_type": "code",
   "execution_count": 22,
   "metadata": {},
   "outputs": [],
   "source": [
    "# Count of unique bank branch visits from Monday to Sunday\n",
    "data <- c(1245, 2112, 1321, 1231, 2342, 1718, 1980)"
   ]
  },
  {
   "cell_type": "markdown",
   "metadata": {},
   "source": [
    "Next, assign values to the days of the week using the `names ()` function:"
   ]
  },
  {
   "cell_type": "code",
   "execution_count": 24,
   "metadata": {},
   "outputs": [
    {
     "name": "stdout",
     "output_type": "stream",
     "text": [
      "   Monday   Tuesday Wednesday  Thursday    Friday  Saturday    Sunday \n",
      "     1245      2112      1321      1231      2342      1718      1980 \n"
     ]
    }
   ],
   "source": [
    "names(data) <- c(\"Monday\", \"Tuesday\", \"Wednesday\", \"Thursday\", \"Friday\", \"Saturday\", \"Sunday\")\n",
    "print(data)"
   ]
  },
  {
   "cell_type": "markdown",
   "metadata": {},
   "source": [
    "Otherwise, this code could be written as follows:"
   ]
  },
  {
   "cell_type": "code",
   "execution_count": 26,
   "metadata": {},
   "outputs": [
    {
     "data": {
      "text/html": [
       "<style>\n",
       ".dl-inline {width: auto; margin:0; padding: 0}\n",
       ".dl-inline>dt, .dl-inline>dd {float: none; width: auto; display: inline-block}\n",
       ".dl-inline>dt::after {content: \":\\0020\"; padding-right: .5ex}\n",
       ".dl-inline>dt:not(:first-of-type) {padding-left: .5ex}\n",
       "</style><dl class=dl-inline><dt>Monday</dt><dd>1245</dd><dt>Tuesday</dt><dd>2112</dd><dt>Wednesday</dt><dd>1321</dd><dt>Thursday</dt><dd>1231</dd><dt>Friday</dt><dd>2342</dd><dt>Saturday</dt><dd>1718</dd><dt>Sunday</dt><dd>1980</dd></dl>\n"
      ],
      "text/latex": [
       "\\begin{description*}\n",
       "\\item[Monday] 1245\n",
       "\\item[Tuesday] 2112\n",
       "\\item[Wednesday] 1321\n",
       "\\item[Thursday] 1231\n",
       "\\item[Friday] 2342\n",
       "\\item[Saturday] 1718\n",
       "\\item[Sunday] 1980\n",
       "\\end{description*}\n"
      ],
      "text/markdown": [
       "Monday\n",
       ":   1245Tuesday\n",
       ":   2112Wednesday\n",
       ":   1321Thursday\n",
       ":   1231Friday\n",
       ":   2342Saturday\n",
       ":   1718Sunday\n",
       ":   1980\n",
       "\n"
      ],
      "text/plain": [
       "   Monday   Tuesday Wednesday  Thursday    Friday  Saturday    Sunday \n",
       "     1245      2112      1321      1231      2342      1718      1980 "
      ]
     },
     "metadata": {},
     "output_type": "display_data"
    }
   ],
   "source": [
    "data <- c(1245, 2112, 1321, 1231, 2342, 1718, 1980)\n",
    "days <- c(\"Monday\", \"Tuesday\", \"Wednesday\", \"Thursday\", \"Friday\", \"Saturday\", \"Sunday\")\n",
    "names(data) <- days\n",
    "data"
   ]
  },
  {
   "cell_type": "markdown",
   "metadata": {},
   "source": [
    "If we need to get information, for example, about the name of the 4th element of the vector, we can use the code:"
   ]
  },
  {
   "cell_type": "code",
   "execution_count": 28,
   "metadata": {},
   "outputs": [
    {
     "data": {
      "text/html": [
       "'Thursday'"
      ],
      "text/latex": [
       "'Thursday'"
      ],
      "text/markdown": [
       "'Thursday'"
      ],
      "text/plain": [
       "[1] \"Thursday\""
      ]
     },
     "metadata": {},
     "output_type": "display_data"
    }
   ],
   "source": [
    "names(data)[4]"
   ]
  },
  {
   "cell_type": "markdown",
   "metadata": {},
   "source": [
    "The `names ()` function allows not only to set the values of names for vector elements, but also to obtain information about them."
   ]
  },
  {
   "cell_type": "markdown",
   "metadata": {},
   "source": [
    "---"
   ]
  },
  {
   "cell_type": "markdown",
   "metadata": {},
   "source": [
    "### Access to vector elements"
   ]
  },
  {
   "cell_type": "markdown",
   "metadata": {},
   "source": [
    "Indexing of elements inside the wind occurs from `1` to` n`, where `n` is the number of elements of the vector."
   ]
  },
  {
   "cell_type": "markdown",
   "metadata": {},
   "source": [
    "<div class = \"alert alert-info alert-sm\"> &nbsp; Note. In `R`, the indexing of array, vector, and all other collection types begins with <b>1</b>, not with <b class =\"text-danger\" style =\"text-decoration: line-through\">0</b>.<div>"
   ]
  },
  {
   "cell_type": "markdown",
   "metadata": {},
   "source": [
    "Consider the previous example:"
   ]
  },
  {
   "cell_type": "code",
   "execution_count": 30,
   "metadata": {},
   "outputs": [],
   "source": [
    "data <- c(1245, 2112, 1321, 1231, 2342, 1718, 1980)\n",
    "days <- c(\"Monday\", \"Tuesday\", \"Wednesday\", \"Thursday\", \"Friday\", \"Saturday\", \"Sunday\")\n",
    "names(data) <- days"
   ]
  },
  {
   "cell_type": "markdown",
   "metadata": {},
   "source": [
    "In order to record information only about site visitors on `Wednesday`, you need to use the operator `[]` and specify the index of the element in the array:"
   ]
  },
  {
   "cell_type": "code",
   "execution_count": 32,
   "metadata": {},
   "outputs": [
    {
     "data": {
      "text/html": [
       "<strong>Wednesday:</strong> 1321"
      ],
      "text/latex": [
       "\\textbf{Wednesday:} 1321"
      ],
      "text/markdown": [
       "**Wednesday:** 1321"
      ],
      "text/plain": [
       "Wednesday \n",
       "     1321 "
      ]
     },
     "metadata": {},
     "output_type": "display_data"
    }
   ],
   "source": [
    "data_wednesday <- data[3]\n",
    "data_wednesday"
   ]
  },
  {
   "cell_type": "markdown",
   "metadata": {},
   "source": [
    "If there is a need to get several elements of the vector that are out of order, you can do it like this:"
   ]
  },
  {
   "cell_type": "code",
   "execution_count": 34,
   "metadata": {},
   "outputs": [
    {
     "data": {
      "text/html": [
       "<style>\n",
       ".dl-inline {width: auto; margin:0; padding: 0}\n",
       ".dl-inline>dt, .dl-inline>dd {float: none; width: auto; display: inline-block}\n",
       ".dl-inline>dt::after {content: \":\\0020\"; padding-right: .5ex}\n",
       ".dl-inline>dt:not(:first-of-type) {padding-left: .5ex}\n",
       "</style><dl class=dl-inline><dt>Monday</dt><dd>1245</dd><dt>Tuesday</dt><dd>2112</dd><dt>Friday</dt><dd>2342</dd></dl>\n"
      ],
      "text/latex": [
       "\\begin{description*}\n",
       "\\item[Monday] 1245\n",
       "\\item[Tuesday] 2112\n",
       "\\item[Friday] 2342\n",
       "\\end{description*}\n"
      ],
      "text/markdown": [
       "Monday\n",
       ":   1245Tuesday\n",
       ":   2112Friday\n",
       ":   2342\n",
       "\n"
      ],
      "text/plain": [
       " Monday Tuesday  Friday \n",
       "   1245    2112    2342 "
      ]
     },
     "metadata": {},
     "output_type": "display_data"
    }
   ],
   "source": [
    "some_days <- data[c(1, 2, 5)]\n",
    "some_days"
   ]
  },
  {
   "cell_type": "markdown",
   "metadata": {},
   "source": [
    "From the example above it is clear that the indices of the vector `data` are another vector `c(1, 2, 5)`, so it can be declared as a separate variable:"
   ]
  },
  {
   "cell_type": "code",
   "execution_count": 35,
   "metadata": {},
   "outputs": [
    {
     "data": {
      "text/html": [
       "<style>\n",
       ".dl-inline {width: auto; margin:0; padding: 0}\n",
       ".dl-inline>dt, .dl-inline>dd {float: none; width: auto; display: inline-block}\n",
       ".dl-inline>dt::after {content: \":\\0020\"; padding-right: .5ex}\n",
       ".dl-inline>dt:not(:first-of-type) {padding-left: .5ex}\n",
       "</style><dl class=dl-inline><dt>Monday</dt><dd>1245</dd><dt>Tuesday</dt><dd>2112</dd><dt>Friday</dt><dd>2342</dd></dl>\n"
      ],
      "text/latex": [
       "\\begin{description*}\n",
       "\\item[Monday] 1245\n",
       "\\item[Tuesday] 2112\n",
       "\\item[Friday] 2342\n",
       "\\end{description*}\n"
      ],
      "text/markdown": [
       "Monday\n",
       ":   1245Tuesday\n",
       ":   2112Friday\n",
       ":   2342\n",
       "\n"
      ],
      "text/plain": [
       " Monday Tuesday  Friday \n",
       "   1245    2112    2342 "
      ]
     },
     "metadata": {},
     "output_type": "display_data"
    }
   ],
   "source": [
    "indexes <- c(1, 2, 5)\n",
    "some_days <- data[indexes]\n",
    "some_days"
   ]
  },
  {
   "cell_type": "markdown",
   "metadata": {},
   "source": [
    "If there is a need to obtain information about several elements that are placed in a row, then for convenience (and in the case when such an array consists, for example, of 1000+ elements) use the operator `:`, for example:"
   ]
  },
  {
   "cell_type": "code",
   "execution_count": 37,
   "metadata": {},
   "outputs": [
    {
     "data": {
      "text/html": [
       "<style>\n",
       ".dl-inline {width: auto; margin:0; padding: 0}\n",
       ".dl-inline>dt, .dl-inline>dd {float: none; width: auto; display: inline-block}\n",
       ".dl-inline>dt::after {content: \":\\0020\"; padding-right: .5ex}\n",
       ".dl-inline>dt:not(:first-of-type) {padding-left: .5ex}\n",
       "</style><dl class=dl-inline><dt>Monday</dt><dd>1245</dd><dt>Tuesday</dt><dd>2112</dd><dt>Wednesday</dt><dd>1321</dd><dt>Thursday</dt><dd>1231</dd><dt>Friday</dt><dd>2342</dd></dl>\n"
      ],
      "text/latex": [
       "\\begin{description*}\n",
       "\\item[Monday] 1245\n",
       "\\item[Tuesday] 2112\n",
       "\\item[Wednesday] 1321\n",
       "\\item[Thursday] 1231\n",
       "\\item[Friday] 2342\n",
       "\\end{description*}\n"
      ],
      "text/markdown": [
       "Monday\n",
       ":   1245Tuesday\n",
       ":   2112Wednesday\n",
       ":   1321Thursday\n",
       ":   1231Friday\n",
       ":   2342\n",
       "\n"
      ],
      "text/plain": [
       "   Monday   Tuesday Wednesday  Thursday    Friday \n",
       "     1245      2112      1321      1231      2342 "
      ]
     },
     "metadata": {},
     "output_type": "display_data"
    }
   ],
   "source": [
    "working_days <- data[1:5]\n",
    "working_days"
   ]
  },
  {
   "cell_type": "markdown",
   "metadata": {},
   "source": [
    "Thus, all working days of the week are selected for the `working_days` vector."
   ]
  },
  {
   "cell_type": "markdown",
   "metadata": {},
   "source": [
    "---"
   ]
  },
  {
   "cell_type": "markdown",
   "metadata": {},
   "source": [
    "### Useful functions"
   ]
  },
  {
   "cell_type": "markdown",
   "metadata": {},
   "source": [
    "Let's take a look at some useful features that will simplify working with vectors. For further calculations we will use two vectors `A` and` B`:"
   ]
  },
  {
   "cell_type": "code",
   "execution_count": 39,
   "metadata": {},
   "outputs": [
    {
     "data": {
      "text/html": [
       "<style>\n",
       ".list-inline {list-style: none; margin:0; padding: 0}\n",
       ".list-inline>li {display: inline-block}\n",
       ".list-inline>li:not(:last-child)::after {content: \"\\00b7\"; padding: 0 .5ex}\n",
       "</style>\n",
       "<ol class=list-inline><li>3</li><li>5</li><li>8</li><li>2</li><li>5</li><li>4</li><li>2</li></ol>\n"
      ],
      "text/latex": [
       "\\begin{enumerate*}\n",
       "\\item 3\n",
       "\\item 5\n",
       "\\item 8\n",
       "\\item 2\n",
       "\\item 5\n",
       "\\item 4\n",
       "\\item 2\n",
       "\\end{enumerate*}\n"
      ],
      "text/markdown": [
       "1. 3\n",
       "2. 5\n",
       "3. 8\n",
       "4. 2\n",
       "5. 5\n",
       "6. 4\n",
       "7. 2\n",
       "\n",
       "\n"
      ],
      "text/plain": [
       "[1] 3 5 8 2 5 4 2"
      ]
     },
     "metadata": {},
     "output_type": "display_data"
    },
    {
     "data": {
      "text/html": [
       "<style>\n",
       ".list-inline {list-style: none; margin:0; padding: 0}\n",
       ".list-inline>li {display: inline-block}\n",
       ".list-inline>li:not(:last-child)::after {content: \"\\00b7\"; padding: 0 .5ex}\n",
       "</style>\n",
       "<ol class=list-inline><li>3</li><li>&lt;NA&gt;</li><li>1</li><li>&lt;NA&gt;</li><li>6</li><li>4</li><li>5</li></ol>\n"
      ],
      "text/latex": [
       "\\begin{enumerate*}\n",
       "\\item 3\n",
       "\\item <NA>\n",
       "\\item 1\n",
       "\\item <NA>\n",
       "\\item 6\n",
       "\\item 4\n",
       "\\item 5\n",
       "\\end{enumerate*}\n"
      ],
      "text/markdown": [
       "1. 3\n",
       "2. &lt;NA&gt;\n",
       "3. 1\n",
       "4. &lt;NA&gt;\n",
       "5. 6\n",
       "6. 4\n",
       "7. 5\n",
       "\n",
       "\n"
      ],
      "text/plain": [
       "[1]  3 NA  1 NA  6  4  5"
      ]
     },
     "metadata": {},
     "output_type": "display_data"
    }
   ],
   "source": [
    "A <- c(3, 5, 8, 2, 5, 4, 2)\n",
    "B <- c(3, NA, 1, NA, 6, 4, 5)\n",
    "A\n",
    "B"
   ]
  },
  {
   "cell_type": "markdown",
   "metadata": {},
   "source": [
    "<i class = \"fa fa-sticky-note-o\"> </i> **Function `sum()`**. This function is used to find the sum of the elements of the collection:"
   ]
  },
  {
   "cell_type": "code",
   "execution_count": 41,
   "metadata": {},
   "outputs": [
    {
     "data": {
      "text/html": [
       "29"
      ],
      "text/latex": [
       "29"
      ],
      "text/markdown": [
       "29"
      ],
      "text/plain": [
       "[1] 29"
      ]
     },
     "metadata": {},
     "output_type": "display_data"
    },
    {
     "data": {
      "text/html": [
       "&lt;NA&gt;"
      ],
      "text/latex": [
       "<NA>"
      ],
      "text/markdown": [
       "&lt;NA&gt;"
      ],
      "text/plain": [
       "[1] NA"
      ]
     },
     "metadata": {},
     "output_type": "display_data"
    }
   ],
   "source": [
    "sum(A)\n",
    "sum(B)"
   ]
  },
  {
   "cell_type": "markdown",
   "metadata": {},
   "source": [
    "An interesting point is that in the presence of gaps in the data (value `NA`) the calculation of the amount is impossible. In this case, the functions can take the additional parameter `na.rm = T`, where` T` is an abbreviation of `TRUE`, which indicates the need to remove gaps in the data before performing the operation.\n",
    "\n",
    "_Note. You should check the documentation for such a parameter in the function. If it is not present, then it is necessary to carry out cleaning in other ways before work with the data._"
   ]
  },
  {
   "cell_type": "code",
   "execution_count": 43,
   "metadata": {},
   "outputs": [
    {
     "data": {
      "text/html": [
       "19"
      ],
      "text/latex": [
       "19"
      ],
      "text/markdown": [
       "19"
      ],
      "text/plain": [
       "[1] 19"
      ]
     },
     "metadata": {},
     "output_type": "display_data"
    }
   ],
   "source": [
    "sum(B, na.rm = T)"
   ]
  },
  {
   "cell_type": "markdown",
   "metadata": {},
   "source": [
    "<i class = \"fa fa-sticky-note-o\"> </i> **The `mean ()`** function is used to find the arithmetic mean of numbers:"
   ]
  },
  {
   "cell_type": "code",
   "execution_count": 45,
   "metadata": {},
   "outputs": [
    {
     "data": {
      "text/html": [
       "4.14285714285714"
      ],
      "text/latex": [
       "4.14285714285714"
      ],
      "text/markdown": [
       "4.14285714285714"
      ],
      "text/plain": [
       "[1] 4.142857"
      ]
     },
     "metadata": {},
     "output_type": "display_data"
    },
    {
     "data": {
      "text/html": [
       "3.8"
      ],
      "text/latex": [
       "3.8"
      ],
      "text/markdown": [
       "3.8"
      ],
      "text/plain": [
       "[1] 3.8"
      ]
     },
     "metadata": {},
     "output_type": "display_data"
    }
   ],
   "source": [
    "mean(A)\n",
    "mean(B, na.rm = T)"
   ]
  },
  {
   "cell_type": "markdown",
   "metadata": {},
   "source": [
    "<i class = \"fa fa-sticky-note-o\"> </i> **`min ()` and `max ()`** functions allow you to find the minimum and maximum values, respectively:"
   ]
  },
  {
   "cell_type": "code",
   "execution_count": 47,
   "metadata": {},
   "outputs": [
    {
     "data": {
      "text/html": [
       "2"
      ],
      "text/latex": [
       "2"
      ],
      "text/markdown": [
       "2"
      ],
      "text/plain": [
       "[1] 2"
      ]
     },
     "metadata": {},
     "output_type": "display_data"
    },
    {
     "data": {
      "text/html": [
       "8"
      ],
      "text/latex": [
       "8"
      ],
      "text/markdown": [
       "8"
      ],
      "text/plain": [
       "[1] 8"
      ]
     },
     "metadata": {},
     "output_type": "display_data"
    }
   ],
   "source": [
    "min(A)\n",
    "max(A)"
   ]
  },
  {
   "cell_type": "markdown",
   "metadata": {},
   "source": [
    "Also to work in `R` there is a large number of built-in implemented functions to perform statistical, econometric and other research in the field of economics and beyond. Try the `sd()`, `cov()`, `cor()` functions."
   ]
  },
  {
   "cell_type": "markdown",
   "metadata": {},
   "source": [
    "<i class = \"fa fa-sticky-note-o\"> </i> **The `length ()`** function helps to determine the \"length\" of a vector, ie the number of elements:"
   ]
  },
  {
   "cell_type": "code",
   "execution_count": 48,
   "metadata": {},
   "outputs": [
    {
     "data": {
      "text/html": [
       "7"
      ],
      "text/latex": [
       "7"
      ],
      "text/markdown": [
       "7"
      ],
      "text/plain": [
       "[1] 7"
      ]
     },
     "metadata": {},
     "output_type": "display_data"
    },
    {
     "data": {
      "text/html": [
       "7"
      ],
      "text/latex": [
       "7"
      ],
      "text/markdown": [
       "7"
      ],
      "text/plain": [
       "[1] 7"
      ]
     },
     "metadata": {},
     "output_type": "display_data"
    }
   ],
   "source": [
    "length(A)\n",
    "length(B)"
   ]
  },
  {
   "cell_type": "markdown",
   "metadata": {},
   "source": [
    "<i class = \"fa fa-sticky-note-o\"> </i> **The `unique ()`** function identifies unique elements in an array:"
   ]
  },
  {
   "cell_type": "code",
   "execution_count": 50,
   "metadata": {},
   "outputs": [
    {
     "data": {
      "text/html": [
       "<style>\n",
       ".list-inline {list-style: none; margin:0; padding: 0}\n",
       ".list-inline>li {display: inline-block}\n",
       ".list-inline>li:not(:last-child)::after {content: \"\\00b7\"; padding: 0 .5ex}\n",
       "</style>\n",
       "<ol class=list-inline><li>3</li><li>5</li><li>8</li><li>2</li><li>5</li><li>4</li><li>2</li></ol>\n"
      ],
      "text/latex": [
       "\\begin{enumerate*}\n",
       "\\item 3\n",
       "\\item 5\n",
       "\\item 8\n",
       "\\item 2\n",
       "\\item 5\n",
       "\\item 4\n",
       "\\item 2\n",
       "\\end{enumerate*}\n"
      ],
      "text/markdown": [
       "1. 3\n",
       "2. 5\n",
       "3. 8\n",
       "4. 2\n",
       "5. 5\n",
       "6. 4\n",
       "7. 2\n",
       "\n",
       "\n"
      ],
      "text/plain": [
       "[1] 3 5 8 2 5 4 2"
      ]
     },
     "metadata": {},
     "output_type": "display_data"
    },
    {
     "data": {
      "text/html": [
       "<style>\n",
       ".list-inline {list-style: none; margin:0; padding: 0}\n",
       ".list-inline>li {display: inline-block}\n",
       ".list-inline>li:not(:last-child)::after {content: \"\\00b7\"; padding: 0 .5ex}\n",
       "</style>\n",
       "<ol class=list-inline><li>3</li><li>5</li><li>8</li><li>2</li><li>4</li></ol>\n"
      ],
      "text/latex": [
       "\\begin{enumerate*}\n",
       "\\item 3\n",
       "\\item 5\n",
       "\\item 8\n",
       "\\item 2\n",
       "\\item 4\n",
       "\\end{enumerate*}\n"
      ],
      "text/markdown": [
       "1. 3\n",
       "2. 5\n",
       "3. 8\n",
       "4. 2\n",
       "5. 4\n",
       "\n",
       "\n"
      ],
      "text/plain": [
       "[1] 3 5 8 2 4"
      ]
     },
     "metadata": {},
     "output_type": "display_data"
    },
    {
     "name": "stdout",
     "output_type": "stream",
     "text": [
      "[1] \"---\"\n"
     ]
    },
    {
     "data": {
      "text/html": [
       "<style>\n",
       ".list-inline {list-style: none; margin:0; padding: 0}\n",
       ".list-inline>li {display: inline-block}\n",
       ".list-inline>li:not(:last-child)::after {content: \"\\00b7\"; padding: 0 .5ex}\n",
       "</style>\n",
       "<ol class=list-inline><li>3</li><li>&lt;NA&gt;</li><li>1</li><li>&lt;NA&gt;</li><li>6</li><li>4</li><li>5</li></ol>\n"
      ],
      "text/latex": [
       "\\begin{enumerate*}\n",
       "\\item 3\n",
       "\\item <NA>\n",
       "\\item 1\n",
       "\\item <NA>\n",
       "\\item 6\n",
       "\\item 4\n",
       "\\item 5\n",
       "\\end{enumerate*}\n"
      ],
      "text/markdown": [
       "1. 3\n",
       "2. &lt;NA&gt;\n",
       "3. 1\n",
       "4. &lt;NA&gt;\n",
       "5. 6\n",
       "6. 4\n",
       "7. 5\n",
       "\n",
       "\n"
      ],
      "text/plain": [
       "[1]  3 NA  1 NA  6  4  5"
      ]
     },
     "metadata": {},
     "output_type": "display_data"
    },
    {
     "data": {
      "text/html": [
       "<style>\n",
       ".list-inline {list-style: none; margin:0; padding: 0}\n",
       ".list-inline>li {display: inline-block}\n",
       ".list-inline>li:not(:last-child)::after {content: \"\\00b7\"; padding: 0 .5ex}\n",
       "</style>\n",
       "<ol class=list-inline><li>3</li><li>&lt;NA&gt;</li><li>1</li><li>6</li><li>4</li><li>5</li></ol>\n"
      ],
      "text/latex": [
       "\\begin{enumerate*}\n",
       "\\item 3\n",
       "\\item <NA>\n",
       "\\item 1\n",
       "\\item 6\n",
       "\\item 4\n",
       "\\item 5\n",
       "\\end{enumerate*}\n"
      ],
      "text/markdown": [
       "1. 3\n",
       "2. &lt;NA&gt;\n",
       "3. 1\n",
       "4. 6\n",
       "5. 4\n",
       "6. 5\n",
       "\n",
       "\n"
      ],
      "text/plain": [
       "[1]  3 NA  1  6  4  5"
      ]
     },
     "metadata": {},
     "output_type": "display_data"
    }
   ],
   "source": [
    "A\n",
    "unique(A)\n",
    "\n",
    "print(\"---\")\n",
    "\n",
    "B\n",
    "unique(B)"
   ]
  },
  {
   "cell_type": "markdown",
   "metadata": {},
   "source": [
    "<i class = \"fa fa-sticky-note-o\"> </i> **The `intersect()`** function allows you to find common elements of two vectors, so for vectors `A` and` B` common values are ` 3`, `4` and` 5`:"
   ]
  },
  {
   "cell_type": "code",
   "execution_count": 52,
   "metadata": {},
   "outputs": [
    {
     "data": {
      "text/html": [
       "<style>\n",
       ".list-inline {list-style: none; margin:0; padding: 0}\n",
       ".list-inline>li {display: inline-block}\n",
       ".list-inline>li:not(:last-child)::after {content: \"\\00b7\"; padding: 0 .5ex}\n",
       "</style>\n",
       "<ol class=list-inline><li>3</li><li>5</li><li>8</li><li>2</li><li>5</li><li>4</li><li>2</li></ol>\n"
      ],
      "text/latex": [
       "\\begin{enumerate*}\n",
       "\\item 3\n",
       "\\item 5\n",
       "\\item 8\n",
       "\\item 2\n",
       "\\item 5\n",
       "\\item 4\n",
       "\\item 2\n",
       "\\end{enumerate*}\n"
      ],
      "text/markdown": [
       "1. 3\n",
       "2. 5\n",
       "3. 8\n",
       "4. 2\n",
       "5. 5\n",
       "6. 4\n",
       "7. 2\n",
       "\n",
       "\n"
      ],
      "text/plain": [
       "[1] 3 5 8 2 5 4 2"
      ]
     },
     "metadata": {},
     "output_type": "display_data"
    },
    {
     "data": {
      "text/html": [
       "<style>\n",
       ".list-inline {list-style: none; margin:0; padding: 0}\n",
       ".list-inline>li {display: inline-block}\n",
       ".list-inline>li:not(:last-child)::after {content: \"\\00b7\"; padding: 0 .5ex}\n",
       "</style>\n",
       "<ol class=list-inline><li>3</li><li>&lt;NA&gt;</li><li>1</li><li>&lt;NA&gt;</li><li>6</li><li>4</li><li>5</li></ol>\n"
      ],
      "text/latex": [
       "\\begin{enumerate*}\n",
       "\\item 3\n",
       "\\item <NA>\n",
       "\\item 1\n",
       "\\item <NA>\n",
       "\\item 6\n",
       "\\item 4\n",
       "\\item 5\n",
       "\\end{enumerate*}\n"
      ],
      "text/markdown": [
       "1. 3\n",
       "2. &lt;NA&gt;\n",
       "3. 1\n",
       "4. &lt;NA&gt;\n",
       "5. 6\n",
       "6. 4\n",
       "7. 5\n",
       "\n",
       "\n"
      ],
      "text/plain": [
       "[1]  3 NA  1 NA  6  4  5"
      ]
     },
     "metadata": {},
     "output_type": "display_data"
    },
    {
     "data": {
      "text/html": [
       "<style>\n",
       ".list-inline {list-style: none; margin:0; padding: 0}\n",
       ".list-inline>li {display: inline-block}\n",
       ".list-inline>li:not(:last-child)::after {content: \"\\00b7\"; padding: 0 .5ex}\n",
       "</style>\n",
       "<ol class=list-inline><li>3</li><li>5</li><li>4</li></ol>\n"
      ],
      "text/latex": [
       "\\begin{enumerate*}\n",
       "\\item 3\n",
       "\\item 5\n",
       "\\item 4\n",
       "\\end{enumerate*}\n"
      ],
      "text/markdown": [
       "1. 3\n",
       "2. 5\n",
       "3. 4\n",
       "\n",
       "\n"
      ],
      "text/plain": [
       "[1] 3 5 4"
      ]
     },
     "metadata": {},
     "output_type": "display_data"
    }
   ],
   "source": [
    "A\n",
    "B\n",
    "intersect(A, B)"
   ]
  },
  {
   "cell_type": "markdown",
   "metadata": {},
   "source": [
    "Conversely, <i class = \"fa fa-sticky-note-o\"> </i> **The `union()`** function allows you to combine elements of both sets / vectors:"
   ]
  },
  {
   "cell_type": "code",
   "execution_count": 54,
   "metadata": {},
   "outputs": [
    {
     "data": {
      "text/html": [
       "<style>\n",
       ".list-inline {list-style: none; margin:0; padding: 0}\n",
       ".list-inline>li {display: inline-block}\n",
       ".list-inline>li:not(:last-child)::after {content: \"\\00b7\"; padding: 0 .5ex}\n",
       "</style>\n",
       "<ol class=list-inline><li>3</li><li>5</li><li>8</li><li>2</li><li>5</li><li>4</li><li>2</li></ol>\n"
      ],
      "text/latex": [
       "\\begin{enumerate*}\n",
       "\\item 3\n",
       "\\item 5\n",
       "\\item 8\n",
       "\\item 2\n",
       "\\item 5\n",
       "\\item 4\n",
       "\\item 2\n",
       "\\end{enumerate*}\n"
      ],
      "text/markdown": [
       "1. 3\n",
       "2. 5\n",
       "3. 8\n",
       "4. 2\n",
       "5. 5\n",
       "6. 4\n",
       "7. 2\n",
       "\n",
       "\n"
      ],
      "text/plain": [
       "[1] 3 5 8 2 5 4 2"
      ]
     },
     "metadata": {},
     "output_type": "display_data"
    },
    {
     "data": {
      "text/html": [
       "<style>\n",
       ".list-inline {list-style: none; margin:0; padding: 0}\n",
       ".list-inline>li {display: inline-block}\n",
       ".list-inline>li:not(:last-child)::after {content: \"\\00b7\"; padding: 0 .5ex}\n",
       "</style>\n",
       "<ol class=list-inline><li>3</li><li>&lt;NA&gt;</li><li>1</li><li>&lt;NA&gt;</li><li>6</li><li>4</li><li>5</li></ol>\n"
      ],
      "text/latex": [
       "\\begin{enumerate*}\n",
       "\\item 3\n",
       "\\item <NA>\n",
       "\\item 1\n",
       "\\item <NA>\n",
       "\\item 6\n",
       "\\item 4\n",
       "\\item 5\n",
       "\\end{enumerate*}\n"
      ],
      "text/markdown": [
       "1. 3\n",
       "2. &lt;NA&gt;\n",
       "3. 1\n",
       "4. &lt;NA&gt;\n",
       "5. 6\n",
       "6. 4\n",
       "7. 5\n",
       "\n",
       "\n"
      ],
      "text/plain": [
       "[1]  3 NA  1 NA  6  4  5"
      ]
     },
     "metadata": {},
     "output_type": "display_data"
    },
    {
     "data": {
      "text/html": [
       "<style>\n",
       ".list-inline {list-style: none; margin:0; padding: 0}\n",
       ".list-inline>li {display: inline-block}\n",
       ".list-inline>li:not(:last-child)::after {content: \"\\00b7\"; padding: 0 .5ex}\n",
       "</style>\n",
       "<ol class=list-inline><li>3</li><li>5</li><li>8</li><li>2</li><li>4</li><li>&lt;NA&gt;</li><li>1</li><li>6</li></ol>\n"
      ],
      "text/latex": [
       "\\begin{enumerate*}\n",
       "\\item 3\n",
       "\\item 5\n",
       "\\item 8\n",
       "\\item 2\n",
       "\\item 4\n",
       "\\item <NA>\n",
       "\\item 1\n",
       "\\item 6\n",
       "\\end{enumerate*}\n"
      ],
      "text/markdown": [
       "1. 3\n",
       "2. 5\n",
       "3. 8\n",
       "4. 2\n",
       "5. 4\n",
       "6. &lt;NA&gt;\n",
       "7. 1\n",
       "8. 6\n",
       "\n",
       "\n"
      ],
      "text/plain": [
       "[1]  3  5  8  2  4 NA  1  6"
      ]
     },
     "metadata": {},
     "output_type": "display_data"
    }
   ],
   "source": [
    "A\n",
    "B\n",
    "union(A, B)"
   ]
  },
  {
   "cell_type": "markdown",
   "metadata": {},
   "source": [
    "Try to understand the operation of the functions `setdiff()`, `setequal()`, `is.element()`.\n",
    "\n",
    "_I recommend reading the short materials here: https://stat.ethz.ch/R-manual/R-devel/library/base/html/sets.html_."
   ]
  },
  {
   "cell_type": "markdown",
   "metadata": {},
   "source": [
    "---"
   ]
  },
  {
   "cell_type": "markdown",
   "metadata": {},
   "source": [
    "### Correction of data (NA, NaN, Inf)"
   ]
  },
  {
   "cell_type": "markdown",
   "metadata": {},
   "source": [
    "In the process of working with data there are problems associated with the correctness of their reading, conversion and operations on them. For example, an incorrect entry in the field of integer type `\" +10 \"` instead of `10` may result in conversion to` NaN` or division by `0` to` Inf`.\n",
    "\n",
    "Before using numerical and other data, the stage of cleaning and replacement of values is usually performed depending on the tasks of programming / research. In `R` the following types of the missed values are possible:\n",
    "\n",
    "- [x] `NA` ** - Not Available.\n",
    "- [x] `NaN` ** - Not a Number.\n",
    "- [x] `Inf` ** - Infinity (infinity, can be with the sign` + `and` -`).\n",
    "\n",
    "Let's start with vector:"
   ]
  },
  {
   "cell_type": "code",
   "execution_count": 56,
   "metadata": {},
   "outputs": [
    {
     "data": {
      "text/html": [
       "<style>\n",
       ".list-inline {list-style: none; margin:0; padding: 0}\n",
       ".list-inline>li {display: inline-block}\n",
       ".list-inline>li:not(:last-child)::after {content: \"\\00b7\"; padding: 0 .5ex}\n",
       "</style>\n",
       "<ol class=list-inline><li>1</li><li>-2</li><li>&lt;NA&gt;</li><li>NaN</li><li>Inf</li><li>1223</li><li>-Inf</li><li>&lt;NA&gt;</li><li>21</li></ol>\n"
      ],
      "text/latex": [
       "\\begin{enumerate*}\n",
       "\\item 1\n",
       "\\item -2\n",
       "\\item <NA>\n",
       "\\item NaN\n",
       "\\item Inf\n",
       "\\item 1223\n",
       "\\item -Inf\n",
       "\\item <NA>\n",
       "\\item 21\n",
       "\\end{enumerate*}\n"
      ],
      "text/markdown": [
       "1. 1\n",
       "2. -2\n",
       "3. &lt;NA&gt;\n",
       "4. NaN\n",
       "5. Inf\n",
       "6. 1223\n",
       "7. -Inf\n",
       "8. &lt;NA&gt;\n",
       "9. 21\n",
       "\n",
       "\n"
      ],
      "text/plain": [
       "[1]    1   -2   NA  NaN  Inf 1223 -Inf   NA   21"
      ]
     },
     "metadata": {},
     "output_type": "display_data"
    }
   ],
   "source": [
    "vtr <- c(1, -2, NA, NaN, Inf, 1223, -Inf, NA, 21) \n",
    "vtr"
   ]
  },
  {
   "cell_type": "markdown",
   "metadata": {},
   "source": [
    "You can check a single value for a space with the functions `is.na()`, `is.nan()`, `is.infinite()`, `is.finite()`."
   ]
  },
  {
   "cell_type": "code",
   "execution_count": 58,
   "metadata": {},
   "outputs": [
    {
     "data": {
      "text/html": [
       "<style>\n",
       ".list-inline {list-style: none; margin:0; padding: 0}\n",
       ".list-inline>li {display: inline-block}\n",
       ".list-inline>li:not(:last-child)::after {content: \"\\00b7\"; padding: 0 .5ex}\n",
       "</style>\n",
       "<ol class=list-inline><li>FALSE</li><li>FALSE</li><li>TRUE</li><li>TRUE</li><li>FALSE</li><li>FALSE</li><li>FALSE</li><li>TRUE</li><li>FALSE</li></ol>\n"
      ],
      "text/latex": [
       "\\begin{enumerate*}\n",
       "\\item FALSE\n",
       "\\item FALSE\n",
       "\\item TRUE\n",
       "\\item TRUE\n",
       "\\item FALSE\n",
       "\\item FALSE\n",
       "\\item FALSE\n",
       "\\item TRUE\n",
       "\\item FALSE\n",
       "\\end{enumerate*}\n"
      ],
      "text/markdown": [
       "1. FALSE\n",
       "2. FALSE\n",
       "3. TRUE\n",
       "4. TRUE\n",
       "5. FALSE\n",
       "6. FALSE\n",
       "7. FALSE\n",
       "8. TRUE\n",
       "9. FALSE\n",
       "\n",
       "\n"
      ],
      "text/plain": [
       "[1] FALSE FALSE  TRUE  TRUE FALSE FALSE FALSE  TRUE FALSE"
      ]
     },
     "metadata": {},
     "output_type": "display_data"
    },
    {
     "data": {
      "text/html": [
       "<style>\n",
       ".list-inline {list-style: none; margin:0; padding: 0}\n",
       ".list-inline>li {display: inline-block}\n",
       ".list-inline>li:not(:last-child)::after {content: \"\\00b7\"; padding: 0 .5ex}\n",
       "</style>\n",
       "<ol class=list-inline><li>FALSE</li><li>FALSE</li><li>FALSE</li><li>TRUE</li><li>FALSE</li><li>FALSE</li><li>FALSE</li><li>FALSE</li><li>FALSE</li></ol>\n"
      ],
      "text/latex": [
       "\\begin{enumerate*}\n",
       "\\item FALSE\n",
       "\\item FALSE\n",
       "\\item FALSE\n",
       "\\item TRUE\n",
       "\\item FALSE\n",
       "\\item FALSE\n",
       "\\item FALSE\n",
       "\\item FALSE\n",
       "\\item FALSE\n",
       "\\end{enumerate*}\n"
      ],
      "text/markdown": [
       "1. FALSE\n",
       "2. FALSE\n",
       "3. FALSE\n",
       "4. TRUE\n",
       "5. FALSE\n",
       "6. FALSE\n",
       "7. FALSE\n",
       "8. FALSE\n",
       "9. FALSE\n",
       "\n",
       "\n"
      ],
      "text/plain": [
       "[1] FALSE FALSE FALSE  TRUE FALSE FALSE FALSE FALSE FALSE"
      ]
     },
     "metadata": {},
     "output_type": "display_data"
    },
    {
     "data": {
      "text/html": [
       "<style>\n",
       ".list-inline {list-style: none; margin:0; padding: 0}\n",
       ".list-inline>li {display: inline-block}\n",
       ".list-inline>li:not(:last-child)::after {content: \"\\00b7\"; padding: 0 .5ex}\n",
       "</style>\n",
       "<ol class=list-inline><li>FALSE</li><li>FALSE</li><li>FALSE</li><li>FALSE</li><li>TRUE</li><li>FALSE</li><li>TRUE</li><li>FALSE</li><li>FALSE</li></ol>\n"
      ],
      "text/latex": [
       "\\begin{enumerate*}\n",
       "\\item FALSE\n",
       "\\item FALSE\n",
       "\\item FALSE\n",
       "\\item FALSE\n",
       "\\item TRUE\n",
       "\\item FALSE\n",
       "\\item TRUE\n",
       "\\item FALSE\n",
       "\\item FALSE\n",
       "\\end{enumerate*}\n"
      ],
      "text/markdown": [
       "1. FALSE\n",
       "2. FALSE\n",
       "3. FALSE\n",
       "4. FALSE\n",
       "5. TRUE\n",
       "6. FALSE\n",
       "7. TRUE\n",
       "8. FALSE\n",
       "9. FALSE\n",
       "\n",
       "\n"
      ],
      "text/plain": [
       "[1] FALSE FALSE FALSE FALSE  TRUE FALSE  TRUE FALSE FALSE"
      ]
     },
     "metadata": {},
     "output_type": "display_data"
    },
    {
     "data": {
      "text/html": [
       "<style>\n",
       ".list-inline {list-style: none; margin:0; padding: 0}\n",
       ".list-inline>li {display: inline-block}\n",
       ".list-inline>li:not(:last-child)::after {content: \"\\00b7\"; padding: 0 .5ex}\n",
       "</style>\n",
       "<ol class=list-inline><li>TRUE</li><li>TRUE</li><li>FALSE</li><li>FALSE</li><li>FALSE</li><li>TRUE</li><li>FALSE</li><li>FALSE</li><li>TRUE</li></ol>\n"
      ],
      "text/latex": [
       "\\begin{enumerate*}\n",
       "\\item TRUE\n",
       "\\item TRUE\n",
       "\\item FALSE\n",
       "\\item FALSE\n",
       "\\item FALSE\n",
       "\\item TRUE\n",
       "\\item FALSE\n",
       "\\item FALSE\n",
       "\\item TRUE\n",
       "\\end{enumerate*}\n"
      ],
      "text/markdown": [
       "1. TRUE\n",
       "2. TRUE\n",
       "3. FALSE\n",
       "4. FALSE\n",
       "5. FALSE\n",
       "6. TRUE\n",
       "7. FALSE\n",
       "8. FALSE\n",
       "9. TRUE\n",
       "\n",
       "\n"
      ],
      "text/plain": [
       "[1]  TRUE  TRUE FALSE FALSE FALSE  TRUE FALSE FALSE  TRUE"
      ]
     },
     "metadata": {},
     "output_type": "display_data"
    }
   ],
   "source": [
    "is.na(vtr)\n",
    "is.nan(vtr)\n",
    "is.infinite(vtr)\n",
    "is.finite(vtr) # if infinite == TRUE => finite == FALSE :)"
   ]
  },
  {
   "cell_type": "markdown",
   "metadata": {},
   "source": [
    "Then replacement of values can be executed as follows (we will replace all `NA` on` 1000`, and `Nan` on` 500`):"
   ]
  },
  {
   "cell_type": "code",
   "execution_count": 60,
   "metadata": {},
   "outputs": [
    {
     "data": {
      "text/html": [
       "<style>\n",
       ".list-inline {list-style: none; margin:0; padding: 0}\n",
       ".list-inline>li {display: inline-block}\n",
       ".list-inline>li:not(:last-child)::after {content: \"\\00b7\"; padding: 0 .5ex}\n",
       "</style>\n",
       "<ol class=list-inline><li>1</li><li>-2</li><li>1000</li><li>500</li><li>Inf</li><li>1223</li><li>-Inf</li><li>1000</li><li>21</li></ol>\n"
      ],
      "text/latex": [
       "\\begin{enumerate*}\n",
       "\\item 1\n",
       "\\item -2\n",
       "\\item 1000\n",
       "\\item 500\n",
       "\\item Inf\n",
       "\\item 1223\n",
       "\\item -Inf\n",
       "\\item 1000\n",
       "\\item 21\n",
       "\\end{enumerate*}\n"
      ],
      "text/markdown": [
       "1. 1\n",
       "2. -2\n",
       "3. 1000\n",
       "4. 500\n",
       "5. Inf\n",
       "6. 1223\n",
       "7. -Inf\n",
       "8. 1000\n",
       "9. 21\n",
       "\n",
       "\n"
      ],
      "text/plain": [
       "[1]    1   -2 1000  500  Inf 1223 -Inf 1000   21"
      ]
     },
     "metadata": {},
     "output_type": "display_data"
    },
    {
     "data": {
      "text/html": [
       "<style>\n",
       ".list-inline {list-style: none; margin:0; padding: 0}\n",
       ".list-inline>li {display: inline-block}\n",
       ".list-inline>li:not(:last-child)::after {content: \"\\00b7\"; padding: 0 .5ex}\n",
       "</style>\n",
       "<ol class=list-inline><li>1</li><li>-2</li><li>1000</li><li>500</li><li>Inf</li><li>1223</li><li>-Inf</li><li>1000</li><li>21</li></ol>\n"
      ],
      "text/latex": [
       "\\begin{enumerate*}\n",
       "\\item 1\n",
       "\\item -2\n",
       "\\item 1000\n",
       "\\item 500\n",
       "\\item Inf\n",
       "\\item 1223\n",
       "\\item -Inf\n",
       "\\item 1000\n",
       "\\item 21\n",
       "\\end{enumerate*}\n"
      ],
      "text/markdown": [
       "1. 1\n",
       "2. -2\n",
       "3. 1000\n",
       "4. 500\n",
       "5. Inf\n",
       "6. 1223\n",
       "7. -Inf\n",
       "8. 1000\n",
       "9. 21\n",
       "\n",
       "\n"
      ],
      "text/plain": [
       "[1]    1   -2 1000  500  Inf 1223 -Inf 1000   21"
      ]
     },
     "metadata": {},
     "output_type": "display_data"
    }
   ],
   "source": [
    "vtr[is.nan(vtr)] <- 500\n",
    "vtr\n",
    "\n",
    "vtr[is.na(vtr)] <- 1000\n",
    "vtr\n",
    "\n",
    "## Nan also replaced with is.na()!!!"
   ]
  },
  {
   "cell_type": "markdown",
   "metadata": {},
   "source": [
    "And then replace `Inf` with the `maximum` value in the vector, and `-Inf` with the `minimum`:"
   ]
  },
  {
   "cell_type": "code",
   "execution_count": 62,
   "metadata": {},
   "outputs": [
    {
     "data": {
      "text/html": [
       "<style>\n",
       ".list-inline {list-style: none; margin:0; padding: 0}\n",
       ".list-inline>li {display: inline-block}\n",
       ".list-inline>li:not(:last-child)::after {content: \"\\00b7\"; padding: 0 .5ex}\n",
       "</style>\n",
       "<ol class=list-inline><li>1</li><li>-2</li><li>&lt;NA&gt;</li><li>NaN</li><li>Inf</li><li>1223</li><li>-Inf</li><li>&lt;NA&gt;</li><li>21</li></ol>\n"
      ],
      "text/latex": [
       "\\begin{enumerate*}\n",
       "\\item 1\n",
       "\\item -2\n",
       "\\item <NA>\n",
       "\\item NaN\n",
       "\\item Inf\n",
       "\\item 1223\n",
       "\\item -Inf\n",
       "\\item <NA>\n",
       "\\item 21\n",
       "\\end{enumerate*}\n"
      ],
      "text/markdown": [
       "1. 1\n",
       "2. -2\n",
       "3. &lt;NA&gt;\n",
       "4. NaN\n",
       "5. Inf\n",
       "6. 1223\n",
       "7. -Inf\n",
       "8. &lt;NA&gt;\n",
       "9. 21\n",
       "\n",
       "\n"
      ],
      "text/plain": [
       "[1]    1   -2   NA  NaN  Inf 1223 -Inf   NA   21"
      ]
     },
     "metadata": {},
     "output_type": "display_data"
    },
    {
     "data": {
      "text/html": [
       "<style>\n",
       ".list-inline {list-style: none; margin:0; padding: 0}\n",
       ".list-inline>li {display: inline-block}\n",
       ".list-inline>li:not(:last-child)::after {content: \"\\00b7\"; padding: 0 .5ex}\n",
       "</style>\n",
       "<ol class=list-inline><li>1</li><li>-2</li><li>&lt;NA&gt;</li><li>NaN</li><li>1223</li><li>1223</li><li>-2</li><li>&lt;NA&gt;</li><li>21</li></ol>\n"
      ],
      "text/latex": [
       "\\begin{enumerate*}\n",
       "\\item 1\n",
       "\\item -2\n",
       "\\item <NA>\n",
       "\\item NaN\n",
       "\\item 1223\n",
       "\\item 1223\n",
       "\\item -2\n",
       "\\item <NA>\n",
       "\\item 21\n",
       "\\end{enumerate*}\n"
      ],
      "text/markdown": [
       "1. 1\n",
       "2. -2\n",
       "3. &lt;NA&gt;\n",
       "4. NaN\n",
       "5. 1223\n",
       "6. 1223\n",
       "7. -2\n",
       "8. &lt;NA&gt;\n",
       "9. 21\n",
       "\n",
       "\n"
      ],
      "text/plain": [
       "[1]    1   -2   NA  NaN 1223 1223   -2   NA   21"
      ]
     },
     "metadata": {},
     "output_type": "display_data"
    }
   ],
   "source": [
    "vtr <- c(1, -2, NA, NaN, Inf, 1223, -Inf, NA, 21) \n",
    "vtr\n",
    "vtr[vtr == Inf] <- max(vtr[is.finite(vtr)], na.rm = T)\n",
    "vtr[vtr == -Inf] <- min(vtr[is.finite(vtr)], na.rm = T)\n",
    "vtr"
   ]
  },
  {
   "cell_type": "markdown",
   "metadata": {},
   "source": [
    "If you want to replace the value in `Inf` regardless of the sign, you can use` is.infinite() `."
   ]
  },
  {
   "cell_type": "markdown",
   "metadata": {},
   "source": [
    "---"
   ]
  },
  {
   "cell_type": "markdown",
   "metadata": {},
   "source": [
    "## Tasks"
   ]
  },
  {
   "cell_type": "markdown",
   "metadata": {},
   "source": [
    "#### Task 1"
   ]
  },
  {
   "cell_type": "markdown",
   "metadata": {},
   "source": [
    "1. Create vector of 10 random number in range $[10;100]$\n",
    "2. Replace all odd numbers with NA\n",
    "3. Replace all NA with average value"
   ]
  },
  {
   "cell_type": "markdown",
   "metadata": {},
   "source": [
    "#### Solution"
   ]
  },
  {
   "cell_type": "code",
   "execution_count": 12,
   "metadata": {},
   "outputs": [
    {
     "data": {
      "text/html": [
       "<style>\n",
       ".list-inline {list-style: none; margin:0; padding: 0}\n",
       ".list-inline>li {display: inline-block}\n",
       ".list-inline>li:not(:last-child)::after {content: \"\\00b7\"; padding: 0 .5ex}\n",
       "</style>\n",
       "<ol class=list-inline><li>64</li><li>48</li><li>49</li><li>86</li><li>10</li><li>4</li><li>11</li><li>63</li><li>40</li><li>81</li></ol>\n"
      ],
      "text/latex": [
       "\\begin{enumerate*}\n",
       "\\item 64\n",
       "\\item 48\n",
       "\\item 49\n",
       "\\item 86\n",
       "\\item 10\n",
       "\\item 4\n",
       "\\item 11\n",
       "\\item 63\n",
       "\\item 40\n",
       "\\item 81\n",
       "\\end{enumerate*}\n"
      ],
      "text/markdown": [
       "1. 64\n",
       "2. 48\n",
       "3. 49\n",
       "4. 86\n",
       "5. 10\n",
       "6. 4\n",
       "7. 11\n",
       "8. 63\n",
       "9. 40\n",
       "10. 81\n",
       "\n",
       "\n"
      ],
      "text/plain": [
       " [1] 64 48 49 86 10  4 11 63 40 81"
      ]
     },
     "metadata": {},
     "output_type": "display_data"
    }
   ],
   "source": [
    "x <- sample(1:100, size = 10)\n",
    "x"
   ]
  },
  {
   "cell_type": "code",
   "execution_count": 13,
   "metadata": {},
   "outputs": [
    {
     "data": {
      "text/html": [
       "<style>\n",
       ".list-inline {list-style: none; margin:0; padding: 0}\n",
       ".list-inline>li {display: inline-block}\n",
       ".list-inline>li:not(:last-child)::after {content: \"\\00b7\"; padding: 0 .5ex}\n",
       "</style>\n",
       "<ol class=list-inline><li>64</li><li>48</li><li>&lt;NA&gt;</li><li>86</li><li>10</li><li>4</li><li>&lt;NA&gt;</li><li>&lt;NA&gt;</li><li>40</li><li>&lt;NA&gt;</li></ol>\n"
      ],
      "text/latex": [
       "\\begin{enumerate*}\n",
       "\\item 64\n",
       "\\item 48\n",
       "\\item <NA>\n",
       "\\item 86\n",
       "\\item 10\n",
       "\\item 4\n",
       "\\item <NA>\n",
       "\\item <NA>\n",
       "\\item 40\n",
       "\\item <NA>\n",
       "\\end{enumerate*}\n"
      ],
      "text/markdown": [
       "1. 64\n",
       "2. 48\n",
       "3. &lt;NA&gt;\n",
       "4. 86\n",
       "5. 10\n",
       "6. 4\n",
       "7. &lt;NA&gt;\n",
       "8. &lt;NA&gt;\n",
       "9. 40\n",
       "10. &lt;NA&gt;\n",
       "\n",
       "\n"
      ],
      "text/plain": [
       " [1] 64 48 NA 86 10  4 NA NA 40 NA"
      ]
     },
     "metadata": {},
     "output_type": "display_data"
    }
   ],
   "source": [
    "x[x %% 2 != 0] <- NA\n",
    "x"
   ]
  },
  {
   "cell_type": "code",
   "execution_count": 17,
   "metadata": {},
   "outputs": [
    {
     "data": {
      "text/html": [
       "<style>\n",
       ".list-inline {list-style: none; margin:0; padding: 0}\n",
       ".list-inline>li {display: inline-block}\n",
       ".list-inline>li:not(:last-child)::after {content: \"\\00b7\"; padding: 0 .5ex}\n",
       "</style>\n",
       "<ol class=list-inline><li>64</li><li>48</li><li>42</li><li>86</li><li>10</li><li>4</li><li>42</li><li>42</li><li>40</li><li>42</li></ol>\n"
      ],
      "text/latex": [
       "\\begin{enumerate*}\n",
       "\\item 64\n",
       "\\item 48\n",
       "\\item 42\n",
       "\\item 86\n",
       "\\item 10\n",
       "\\item 4\n",
       "\\item 42\n",
       "\\item 42\n",
       "\\item 40\n",
       "\\item 42\n",
       "\\end{enumerate*}\n"
      ],
      "text/markdown": [
       "1. 64\n",
       "2. 48\n",
       "3. 42\n",
       "4. 86\n",
       "5. 10\n",
       "6. 4\n",
       "7. 42\n",
       "8. 42\n",
       "9. 40\n",
       "10. 42\n",
       "\n",
       "\n"
      ],
      "text/plain": [
       " [1] 64 48 42 86 10  4 42 42 40 42"
      ]
     },
     "metadata": {},
     "output_type": "display_data"
    }
   ],
   "source": [
    "x[is.na(x)] <- mean(x, na.rm = T)\n",
    "x"
   ]
  },
  {
   "cell_type": "markdown",
   "metadata": {},
   "source": [
    "---"
   ]
  },
  {
   "cell_type": "markdown",
   "metadata": {},
   "source": [
    "## 2. Matrices"
   ]
  },
  {
   "cell_type": "markdown",
   "metadata": {},
   "source": [
    "### Creating matrices"
   ]
  },
  {
   "cell_type": "markdown",
   "metadata": {},
   "source": [
    "**Matrix** - a collection of elements of the same type (`numeric`,` character`, `logical`) with a fixed set of rows and columns. In the case where the matrix has only rows and columns, it is a two-dimensional data array.\n",
    "\n",
    "The matrix is created using the `matrix()` function:"
   ]
  },
  {
   "cell_type": "code",
   "execution_count": 65,
   "metadata": {},
   "outputs": [
    {
     "data": {
      "text/html": [
       "<table class=\"dataframe\">\n",
       "<caption>A matrix: 2 × 5 of type int</caption>\n",
       "<tbody>\n",
       "\t<tr><td>1</td><td>2</td><td>3</td><td>4</td><td> 5</td></tr>\n",
       "\t<tr><td>6</td><td>7</td><td>8</td><td>9</td><td>10</td></tr>\n",
       "</tbody>\n",
       "</table>\n"
      ],
      "text/latex": [
       "A matrix: 2 × 5 of type int\n",
       "\\begin{tabular}{lllll}\n",
       "\t 1 & 2 & 3 & 4 &  5\\\\\n",
       "\t 6 & 7 & 8 & 9 & 10\\\\\n",
       "\\end{tabular}\n"
      ],
      "text/markdown": [
       "\n",
       "A matrix: 2 × 5 of type int\n",
       "\n",
       "| 1 | 2 | 3 | 4 |  5 |\n",
       "| 6 | 7 | 8 | 9 | 10 |\n",
       "\n"
      ],
      "text/plain": [
       "     [,1] [,2] [,3] [,4] [,5]\n",
       "[1,] 1    2    3    4     5  \n",
       "[2,] 6    7    8    9    10  "
      ]
     },
     "metadata": {},
     "output_type": "display_data"
    }
   ],
   "source": [
    "matrix(1:10, byrow = TRUE, nrow = 2)"
   ]
  },
  {
   "cell_type": "markdown",
   "metadata": {},
   "source": [
    "where `1:10` - a set of elements of the matrix, it can also be a pre-formed vector (entered, by calculation, from a file, etc.),`byrow = TRUE` - means that the elements in the matrix will be written in rows, so in the pedestrian line contains the value `1:5`, and the second` 6:10` (if we need to write information on the lines then we should use `byrow = FASLE`),`nrow` - the number of rows of the matrix."
   ]
  },
  {
   "cell_type": "code",
   "execution_count": 67,
   "metadata": {},
   "outputs": [
    {
     "data": {
      "text/html": [
       "<table class=\"dataframe\">\n",
       "<caption>A matrix: 2 × 3 of type dbl</caption>\n",
       "<tbody>\n",
       "\t<tr><td>12</td><td>14</td><td>15</td></tr>\n",
       "\t<tr><td>22</td><td>15</td><td>21</td></tr>\n",
       "</tbody>\n",
       "</table>\n"
      ],
      "text/latex": [
       "A matrix: 2 × 3 of type dbl\n",
       "\\begin{tabular}{lll}\n",
       "\t 12 & 14 & 15\\\\\n",
       "\t 22 & 15 & 21\\\\\n",
       "\\end{tabular}\n"
      ],
      "text/markdown": [
       "\n",
       "A matrix: 2 × 3 of type dbl\n",
       "\n",
       "| 12 | 14 | 15 |\n",
       "| 22 | 15 | 21 |\n",
       "\n"
      ],
      "text/plain": [
       "     [,1] [,2] [,3]\n",
       "[1,] 12   14   15  \n",
       "[2,] 22   15   21  "
      ]
     },
     "metadata": {},
     "output_type": "display_data"
    }
   ],
   "source": [
    "sales1 <- c(12, 14, 15)\n",
    "sales2 <- c(22, 15, 21)\n",
    "sales <- c(sales1, sales2)\n",
    "m <- matrix(sales, byrow= T, nrow = 2)\n",
    "m"
   ]
  },
  {
   "cell_type": "markdown",
   "metadata": {},
   "source": [
    "---"
   ]
  },
  {
   "cell_type": "markdown",
   "metadata": {},
   "source": [
    "### Naming matrices"
   ]
  },
  {
   "cell_type": "markdown",
   "metadata": {},
   "source": [
    "To specify the names of rows and columns of the matrix, use the functions `rownames()` and `colnames()`:"
   ]
  },
  {
   "cell_type": "code",
   "execution_count": 69,
   "metadata": {},
   "outputs": [
    {
     "data": {
      "text/html": [
       "<table class=\"dataframe\">\n",
       "<caption>A matrix: 3 × 3 of type int</caption>\n",
       "<thead>\n",
       "\t<tr><th></th><th scope=col>c1</th><th scope=col>c2</th><th scope=col>c3</th></tr>\n",
       "</thead>\n",
       "<tbody>\n",
       "\t<tr><th scope=row>row1</th><td>1</td><td>4</td><td>7</td></tr>\n",
       "\t<tr><th scope=row>row2</th><td>2</td><td>5</td><td>8</td></tr>\n",
       "\t<tr><th scope=row>row3</th><td>3</td><td>6</td><td>9</td></tr>\n",
       "</tbody>\n",
       "</table>\n"
      ],
      "text/latex": [
       "A matrix: 3 × 3 of type int\n",
       "\\begin{tabular}{r|lll}\n",
       "  & c1 & c2 & c3\\\\\n",
       "\\hline\n",
       "\trow1 & 1 & 4 & 7\\\\\n",
       "\trow2 & 2 & 5 & 8\\\\\n",
       "\trow3 & 3 & 6 & 9\\\\\n",
       "\\end{tabular}\n"
      ],
      "text/markdown": [
       "\n",
       "A matrix: 3 × 3 of type int\n",
       "\n",
       "| <!--/--> | c1 | c2 | c3 |\n",
       "|---|---|---|---|\n",
       "| row1 | 1 | 4 | 7 |\n",
       "| row2 | 2 | 5 | 8 |\n",
       "| row3 | 3 | 6 | 9 |\n",
       "\n"
      ],
      "text/plain": [
       "     c1 c2 c3\n",
       "row1 1  4  7 \n",
       "row2 2  5  8 \n",
       "row3 3  6  9 "
      ]
     },
     "metadata": {},
     "output_type": "display_data"
    }
   ],
   "source": [
    "m <- matrix(1:9, nrow = 3)\n",
    "rownames(m) <- c(\"row1\", \"row2\", \"row3\")\n",
    "colnames(m) <- c(\"c1\", \"c2\", \"c3\")\n",
    "m"
   ]
  },
  {
   "cell_type": "markdown",
   "metadata": {},
   "source": [
    "---"
   ]
  },
  {
   "cell_type": "markdown",
   "metadata": {},
   "source": [
    "### Add rows and columns"
   ]
  },
  {
   "cell_type": "markdown",
   "metadata": {},
   "source": [
    "Special methods `cbind/rbind` are used to change the number of elements in rows and columns of matrices, as well as to quickly combine them.\n",
    "\n",
    "<i class = \"fa fa-sticky-note-o\"></i> ** The `cbind` ** function allows you to add one or more matrices and/or vectors behind one of the columns. That is, there is not a simple connection, but a comparison by key field. Consider an example:"
   ]
  },
  {
   "cell_type": "code",
   "execution_count": 74,
   "metadata": {},
   "outputs": [
    {
     "data": {
      "text/html": [
       "<table class=\"dataframe\">\n",
       "<caption>A matrix: 3 × 2 of type int</caption>\n",
       "<thead>\n",
       "\t<tr><th scope=col>A</th><th scope=col>B</th></tr>\n",
       "</thead>\n",
       "<tbody>\n",
       "\t<tr><td>1</td><td>101</td></tr>\n",
       "\t<tr><td>2</td><td>102</td></tr>\n",
       "\t<tr><td>3</td><td>103</td></tr>\n",
       "</tbody>\n",
       "</table>\n"
      ],
      "text/latex": [
       "A matrix: 3 × 2 of type int\n",
       "\\begin{tabular}{ll}\n",
       " A & B\\\\\n",
       "\\hline\n",
       "\t 1 & 101\\\\\n",
       "\t 2 & 102\\\\\n",
       "\t 3 & 103\\\\\n",
       "\\end{tabular}\n"
      ],
      "text/markdown": [
       "\n",
       "A matrix: 3 × 2 of type int\n",
       "\n",
       "| A | B |\n",
       "|---|---|\n",
       "| 1 | 101 |\n",
       "| 2 | 102 |\n",
       "| 3 | 103 |\n",
       "\n"
      ],
      "text/plain": [
       "     A B  \n",
       "[1,] 1 101\n",
       "[2,] 2 102\n",
       "[3,] 3 103"
      ]
     },
     "metadata": {},
     "output_type": "display_data"
    },
    {
     "data": {
      "text/html": [
       "<table class=\"dataframe\">\n",
       "<caption>A matrix: 3 × 2 of type int</caption>\n",
       "<thead>\n",
       "\t<tr><th scope=col>C</th><th scope=col>D</th></tr>\n",
       "</thead>\n",
       "<tbody>\n",
       "\t<tr><td>201</td><td>1001</td></tr>\n",
       "\t<tr><td>202</td><td>1002</td></tr>\n",
       "\t<tr><td>203</td><td>1003</td></tr>\n",
       "</tbody>\n",
       "</table>\n"
      ],
      "text/latex": [
       "A matrix: 3 × 2 of type int\n",
       "\\begin{tabular}{ll}\n",
       " C & D\\\\\n",
       "\\hline\n",
       "\t 201 & 1001\\\\\n",
       "\t 202 & 1002\\\\\n",
       "\t 203 & 1003\\\\\n",
       "\\end{tabular}\n"
      ],
      "text/markdown": [
       "\n",
       "A matrix: 3 × 2 of type int\n",
       "\n",
       "| C | D |\n",
       "|---|---|\n",
       "| 201 | 1001 |\n",
       "| 202 | 1002 |\n",
       "| 203 | 1003 |\n",
       "\n"
      ],
      "text/plain": [
       "     C   D   \n",
       "[1,] 201 1001\n",
       "[2,] 202 1002\n",
       "[3,] 203 1003"
      ]
     },
     "metadata": {},
     "output_type": "display_data"
    },
    {
     "data": {
      "text/html": [
       "<table class=\"dataframe\">\n",
       "<caption>A matrix: 3 × 4 of type int</caption>\n",
       "<thead>\n",
       "\t<tr><th scope=col>A</th><th scope=col>B</th><th scope=col>C</th><th scope=col>D</th></tr>\n",
       "</thead>\n",
       "<tbody>\n",
       "\t<tr><td>1</td><td>101</td><td>201</td><td>1001</td></tr>\n",
       "\t<tr><td>2</td><td>102</td><td>202</td><td>1002</td></tr>\n",
       "\t<tr><td>3</td><td>103</td><td>203</td><td>1003</td></tr>\n",
       "</tbody>\n",
       "</table>\n"
      ],
      "text/latex": [
       "A matrix: 3 × 4 of type int\n",
       "\\begin{tabular}{llll}\n",
       " A & B & C & D\\\\\n",
       "\\hline\n",
       "\t 1 & 101 & 201 & 1001\\\\\n",
       "\t 2 & 102 & 202 & 1002\\\\\n",
       "\t 3 & 103 & 203 & 1003\\\\\n",
       "\\end{tabular}\n"
      ],
      "text/markdown": [
       "\n",
       "A matrix: 3 × 4 of type int\n",
       "\n",
       "| A | B | C | D |\n",
       "|---|---|---|---|\n",
       "| 1 | 101 | 201 | 1001 |\n",
       "| 2 | 102 | 202 | 1002 |\n",
       "| 3 | 103 | 203 | 1003 |\n",
       "\n"
      ],
      "text/plain": [
       "     A B   C   D   \n",
       "[1,] 1 101 201 1001\n",
       "[2,] 2 102 202 1002\n",
       "[3,] 3 103 203 1003"
      ]
     },
     "metadata": {},
     "output_type": "display_data"
    }
   ],
   "source": [
    "m1 <- matrix(c(1:3, 101:103), nrow = 3)\n",
    "colnames(m1) <- c(\"A\", \"B\")\n",
    "\n",
    "m2 <- matrix(c(201:203, 1001:1003), nrow = 3)\n",
    "colnames(m2) <- c(\"C\", \"D\")\n",
    "\n",
    "m_bind <- cbind(m1, m2)\n",
    "\n",
    "m1\n",
    "m2\n",
    "m_bind"
   ]
  },
  {
   "cell_type": "markdown",
   "metadata": {},
   "source": [
    "---"
   ]
  },
  {
   "cell_type": "markdown",
   "metadata": {},
   "source": [
    "### Access to matrix elements"
   ]
  },
  {
   "cell_type": "markdown",
   "metadata": {},
   "source": [
    "The elements of the matrix are accessed by the index of rows and columns. You can select ranges in a similar way to vectors.\n",
    "\n",
    "Let's look at an example:"
   ]
  },
  {
   "cell_type": "code",
   "execution_count": 76,
   "metadata": {},
   "outputs": [
    {
     "data": {
      "text/html": [
       "<table class=\"dataframe\">\n",
       "<caption>A matrix: 3 × 5 of type int</caption>\n",
       "<tbody>\n",
       "\t<tr><td>11</td><td>14</td><td>17</td><td>20</td><td>23</td></tr>\n",
       "\t<tr><td>12</td><td>15</td><td>18</td><td>21</td><td>24</td></tr>\n",
       "\t<tr><td>13</td><td>16</td><td>19</td><td>22</td><td>25</td></tr>\n",
       "</tbody>\n",
       "</table>\n"
      ],
      "text/latex": [
       "A matrix: 3 × 5 of type int\n",
       "\\begin{tabular}{lllll}\n",
       "\t 11 & 14 & 17 & 20 & 23\\\\\n",
       "\t 12 & 15 & 18 & 21 & 24\\\\\n",
       "\t 13 & 16 & 19 & 22 & 25\\\\\n",
       "\\end{tabular}\n"
      ],
      "text/markdown": [
       "\n",
       "A matrix: 3 × 5 of type int\n",
       "\n",
       "| 11 | 14 | 17 | 20 | 23 |\n",
       "| 12 | 15 | 18 | 21 | 24 |\n",
       "| 13 | 16 | 19 | 22 | 25 |\n",
       "\n"
      ],
      "text/plain": [
       "     [,1] [,2] [,3] [,4] [,5]\n",
       "[1,] 11   14   17   20   23  \n",
       "[2,] 12   15   18   21   24  \n",
       "[3,] 13   16   19   22   25  "
      ]
     },
     "metadata": {},
     "output_type": "display_data"
    }
   ],
   "source": [
    "m <- matrix(11:25, nrow = 3)\n",
    "m"
   ]
  },
  {
   "cell_type": "markdown",
   "metadata": {},
   "source": [
    "To display the 10th element of the matrix, you can use the entries _(note that the account is from the right left corner of the columns)_:"
   ]
  },
  {
   "cell_type": "code",
   "execution_count": 78,
   "metadata": {},
   "outputs": [
    {
     "data": {
      "text/html": [
       "20"
      ],
      "text/latex": [
       "20"
      ],
      "text/markdown": [
       "20"
      ],
      "text/plain": [
       "[1] 20"
      ]
     },
     "metadata": {},
     "output_type": "display_data"
    },
    {
     "data": {
      "text/html": [
       "20"
      ],
      "text/latex": [
       "20"
      ],
      "text/markdown": [
       "20"
      ],
      "text/plain": [
       "[1] 20"
      ]
     },
     "metadata": {},
     "output_type": "display_data"
    }
   ],
   "source": [
    "m[10]    \n",
    "m[[10]]"
   ]
  },
  {
   "cell_type": "markdown",
   "metadata": {},
   "source": [
    "To display the same element using row and column indexes, write as follows:"
   ]
  },
  {
   "cell_type": "code",
   "execution_count": 80,
   "metadata": {},
   "outputs": [
    {
     "data": {
      "text/html": [
       "20"
      ],
      "text/latex": [
       "20"
      ],
      "text/markdown": [
       "20"
      ],
      "text/plain": [
       "[1] 20"
      ]
     },
     "metadata": {},
     "output_type": "display_data"
    }
   ],
   "source": [
    "# Row #1\n",
    "# Column #4\n",
    "m[1,4]"
   ]
  },
  {
   "cell_type": "markdown",
   "metadata": {},
   "source": [
    "**Question**: What record should you use ti get **18**?"
   ]
  },
  {
   "cell_type": "markdown",
   "metadata": {},
   "source": [
    "**Answer**: `m[2,3]`"
   ]
  },
  {
   "cell_type": "code",
   "execution_count": 84,
   "metadata": {},
   "outputs": [
    {
     "data": {
      "text/html": [
       "18"
      ],
      "text/latex": [
       "18"
      ],
      "text/markdown": [
       "18"
      ],
      "text/plain": [
       "[1] 18"
      ]
     },
     "metadata": {},
     "output_type": "display_data"
    }
   ],
   "source": [
    "m[2,3]"
   ]
  },
  {
   "cell_type": "markdown",
   "metadata": {},
   "source": [
    "If you want to output / use an entire row or a whole column, then the block with the index of unnecessary dimensionality can be left blank:"
   ]
  },
  {
   "cell_type": "code",
   "execution_count": 86,
   "metadata": {},
   "outputs": [
    {
     "data": {
      "text/html": [
       "<style>\n",
       ".list-inline {list-style: none; margin:0; padding: 0}\n",
       ".list-inline>li {display: inline-block}\n",
       ".list-inline>li:not(:last-child)::after {content: \"\\00b7\"; padding: 0 .5ex}\n",
       "</style>\n",
       "<ol class=list-inline><li>11</li><li>14</li><li>17</li><li>20</li><li>23</li></ol>\n"
      ],
      "text/latex": [
       "\\begin{enumerate*}\n",
       "\\item 11\n",
       "\\item 14\n",
       "\\item 17\n",
       "\\item 20\n",
       "\\item 23\n",
       "\\end{enumerate*}\n"
      ],
      "text/markdown": [
       "1. 11\n",
       "2. 14\n",
       "3. 17\n",
       "4. 20\n",
       "5. 23\n",
       "\n",
       "\n"
      ],
      "text/plain": [
       "[1] 11 14 17 20 23"
      ]
     },
     "metadata": {},
     "output_type": "display_data"
    },
    {
     "data": {
      "text/html": [
       "<table class=\"dataframe\">\n",
       "<caption>A matrix: 2 × 5 of type int</caption>\n",
       "<tbody>\n",
       "\t<tr><td>11</td><td>14</td><td>17</td><td>20</td><td>23</td></tr>\n",
       "\t<tr><td>13</td><td>16</td><td>19</td><td>22</td><td>25</td></tr>\n",
       "</tbody>\n",
       "</table>\n"
      ],
      "text/latex": [
       "A matrix: 2 × 5 of type int\n",
       "\\begin{tabular}{lllll}\n",
       "\t 11 & 14 & 17 & 20 & 23\\\\\n",
       "\t 13 & 16 & 19 & 22 & 25\\\\\n",
       "\\end{tabular}\n"
      ],
      "text/markdown": [
       "\n",
       "A matrix: 2 × 5 of type int\n",
       "\n",
       "| 11 | 14 | 17 | 20 | 23 |\n",
       "| 13 | 16 | 19 | 22 | 25 |\n",
       "\n"
      ],
      "text/plain": [
       "     [,1] [,2] [,3] [,4] [,5]\n",
       "[1,] 11   14   17   20   23  \n",
       "[2,] 13   16   19   22   25  "
      ]
     },
     "metadata": {},
     "output_type": "display_data"
    }
   ],
   "source": [
    "m[1, ] # first row only\n",
    "m[c(1,3), ] # first and third row only"
   ]
  },
  {
   "cell_type": "code",
   "execution_count": 88,
   "metadata": {},
   "outputs": [
    {
     "data": {
      "text/html": [
       "<style>\n",
       ".list-inline {list-style: none; margin:0; padding: 0}\n",
       ".list-inline>li {display: inline-block}\n",
       ".list-inline>li:not(:last-child)::after {content: \"\\00b7\"; padding: 0 .5ex}\n",
       "</style>\n",
       "<ol class=list-inline><li>11</li><li>12</li><li>13</li></ol>\n"
      ],
      "text/latex": [
       "\\begin{enumerate*}\n",
       "\\item 11\n",
       "\\item 12\n",
       "\\item 13\n",
       "\\end{enumerate*}\n"
      ],
      "text/markdown": [
       "1. 11\n",
       "2. 12\n",
       "3. 13\n",
       "\n",
       "\n"
      ],
      "text/plain": [
       "[1] 11 12 13"
      ]
     },
     "metadata": {},
     "output_type": "display_data"
    },
    {
     "data": {
      "text/html": [
       "<table class=\"dataframe\">\n",
       "<caption>A matrix: 3 × 2 of type int</caption>\n",
       "<tbody>\n",
       "\t<tr><td>11</td><td>17</td></tr>\n",
       "\t<tr><td>12</td><td>18</td></tr>\n",
       "\t<tr><td>13</td><td>19</td></tr>\n",
       "</tbody>\n",
       "</table>\n"
      ],
      "text/latex": [
       "A matrix: 3 × 2 of type int\n",
       "\\begin{tabular}{ll}\n",
       "\t 11 & 17\\\\\n",
       "\t 12 & 18\\\\\n",
       "\t 13 & 19\\\\\n",
       "\\end{tabular}\n"
      ],
      "text/markdown": [
       "\n",
       "A matrix: 3 × 2 of type int\n",
       "\n",
       "| 11 | 17 |\n",
       "| 12 | 18 |\n",
       "| 13 | 19 |\n",
       "\n"
      ],
      "text/plain": [
       "     [,1] [,2]\n",
       "[1,] 11   17  \n",
       "[2,] 12   18  \n",
       "[3,] 13   19  "
      ]
     },
     "metadata": {},
     "output_type": "display_data"
    }
   ],
   "source": [
    "m[, 1] # first column only\n",
    "m[, c(1,3)] # first and third column only"
   ]
  },
  {
   "cell_type": "markdown",
   "metadata": {},
   "source": [
    "You can also specify a list of rows and columns to be output / received simultaneously:"
   ]
  },
  {
   "cell_type": "code",
   "execution_count": 90,
   "metadata": {},
   "outputs": [
    {
     "data": {
      "text/html": [
       "<table class=\"dataframe\">\n",
       "<caption>A matrix: 2 × 3 of type int</caption>\n",
       "<tbody>\n",
       "\t<tr><td>14</td><td>17</td><td>20</td></tr>\n",
       "\t<tr><td>16</td><td>19</td><td>22</td></tr>\n",
       "</tbody>\n",
       "</table>\n"
      ],
      "text/latex": [
       "A matrix: 2 × 3 of type int\n",
       "\\begin{tabular}{lll}\n",
       "\t 14 & 17 & 20\\\\\n",
       "\t 16 & 19 & 22\\\\\n",
       "\\end{tabular}\n"
      ],
      "text/markdown": [
       "\n",
       "A matrix: 2 × 3 of type int\n",
       "\n",
       "| 14 | 17 | 20 |\n",
       "| 16 | 19 | 22 |\n",
       "\n"
      ],
      "text/plain": [
       "     [,1] [,2] [,3]\n",
       "[1,] 14   17   20  \n",
       "[2,] 16   19   22  "
      ]
     },
     "metadata": {},
     "output_type": "display_data"
    }
   ],
   "source": [
    "m[c(1,3), 2:4]"
   ]
  },
  {
   "cell_type": "markdown",
   "metadata": {},
   "source": [
    "You can exclude individual columns or rows by using indexes with minus signs (`-`):"
   ]
  },
  {
   "cell_type": "code",
   "execution_count": 92,
   "metadata": {},
   "outputs": [
    {
     "data": {
      "text/html": [
       "<table class=\"dataframe\">\n",
       "<caption>A matrix: 2 × 3 of type int</caption>\n",
       "<tbody>\n",
       "\t<tr><td>12</td><td>21</td><td>24</td></tr>\n",
       "\t<tr><td>13</td><td>22</td><td>25</td></tr>\n",
       "</tbody>\n",
       "</table>\n"
      ],
      "text/latex": [
       "A matrix: 2 × 3 of type int\n",
       "\\begin{tabular}{lll}\n",
       "\t 12 & 21 & 24\\\\\n",
       "\t 13 & 22 & 25\\\\\n",
       "\\end{tabular}\n"
      ],
      "text/markdown": [
       "\n",
       "A matrix: 2 × 3 of type int\n",
       "\n",
       "| 12 | 21 | 24 |\n",
       "| 13 | 22 | 25 |\n",
       "\n"
      ],
      "text/plain": [
       "     [,1] [,2] [,3]\n",
       "[1,] 12   21   24  \n",
       "[2,] 13   22   25  "
      ]
     },
     "metadata": {},
     "output_type": "display_data"
    }
   ],
   "source": [
    "m[-1, c(-2:-3)]"
   ]
  },
  {
   "cell_type": "markdown",
   "metadata": {},
   "source": [
    "---"
   ]
  },
  {
   "cell_type": "markdown",
   "metadata": {},
   "source": [
    "### Useful functions"
   ]
  },
  {
   "cell_type": "markdown",
   "metadata": {},
   "source": [
    "#### Matrix dimmentions"
   ]
  },
  {
   "cell_type": "markdown",
   "metadata": {},
   "source": [
    "To obtain information about the dimensions of the table, there are special functions: `nrow()`, `ncol()`, `dim()`:"
   ]
  },
  {
   "cell_type": "code",
   "execution_count": 13,
   "metadata": {},
   "outputs": [
    {
     "data": {
      "text/html": [
       "<table class=\"dataframe\">\n",
       "<caption>A matrix: 5 × 3 of type int</caption>\n",
       "<tbody>\n",
       "\t<tr><td>1</td><td> 6</td><td>11</td></tr>\n",
       "\t<tr><td>2</td><td> 7</td><td>12</td></tr>\n",
       "\t<tr><td>3</td><td> 8</td><td>13</td></tr>\n",
       "\t<tr><td>4</td><td> 9</td><td>14</td></tr>\n",
       "\t<tr><td>5</td><td>10</td><td>15</td></tr>\n",
       "</tbody>\n",
       "</table>\n"
      ],
      "text/latex": [
       "A matrix: 5 × 3 of type int\n",
       "\\begin{tabular}{lll}\n",
       "\t 1 &  6 & 11\\\\\n",
       "\t 2 &  7 & 12\\\\\n",
       "\t 3 &  8 & 13\\\\\n",
       "\t 4 &  9 & 14\\\\\n",
       "\t 5 & 10 & 15\\\\\n",
       "\\end{tabular}\n"
      ],
      "text/markdown": [
       "\n",
       "A matrix: 5 × 3 of type int\n",
       "\n",
       "| 1 |  6 | 11 |\n",
       "| 2 |  7 | 12 |\n",
       "| 3 |  8 | 13 |\n",
       "| 4 |  9 | 14 |\n",
       "| 5 | 10 | 15 |\n",
       "\n"
      ],
      "text/plain": [
       "     [,1] [,2] [,3]\n",
       "[1,] 1     6   11  \n",
       "[2,] 2     7   12  \n",
       "[3,] 3     8   13  \n",
       "[4,] 4     9   14  \n",
       "[5,] 5    10   15  "
      ]
     },
     "metadata": {},
     "output_type": "display_data"
    },
    {
     "name": "stdout",
     "output_type": "stream",
     "text": [
      "[1] \"Rows: 5\"\n",
      "[1] \"Cols: 3\"\n",
      "[1] \"Dim:  5 x 3\"\n"
     ]
    }
   ],
   "source": [
    "# Decalre matrix\n",
    "m <- matrix(1:15, ncol = 3)\n",
    "m\n",
    "\n",
    "print(paste0(\"Rows: \", nrow(m)))\n",
    "print(paste0(\"Cols: \", ncol(m)))\n",
    "\n",
    "print(paste(\"Dim: \", paste0(dim(m), collapse = \" x \")))"
   ]
  },
  {
   "cell_type": "markdown",
   "metadata": {},
   "source": [
    "Using `nrow()` and` ncol()` allows you to access the last row and column of the matrix, respectively:"
   ]
  },
  {
   "cell_type": "code",
   "execution_count": 14,
   "metadata": {},
   "outputs": [
    {
     "data": {
      "text/html": [
       "<style>\n",
       ".list-inline {list-style: none; margin:0; padding: 0}\n",
       ".list-inline>li {display: inline-block}\n",
       ".list-inline>li:not(:last-child)::after {content: \"\\00b7\"; padding: 0 .5ex}\n",
       "</style>\n",
       "<ol class=list-inline><li>5</li><li>10</li><li>15</li></ol>\n"
      ],
      "text/latex": [
       "\\begin{enumerate*}\n",
       "\\item 5\n",
       "\\item 10\n",
       "\\item 15\n",
       "\\end{enumerate*}\n"
      ],
      "text/markdown": [
       "1. 5\n",
       "2. 10\n",
       "3. 15\n",
       "\n",
       "\n"
      ],
      "text/plain": [
       "[1]  5 10 15"
      ]
     },
     "metadata": {},
     "output_type": "display_data"
    },
    {
     "data": {
      "text/html": [
       "<style>\n",
       ".list-inline {list-style: none; margin:0; padding: 0}\n",
       ".list-inline>li {display: inline-block}\n",
       ".list-inline>li:not(:last-child)::after {content: \"\\00b7\"; padding: 0 .5ex}\n",
       "</style>\n",
       "<ol class=list-inline><li>11</li><li>12</li><li>13</li><li>14</li><li>15</li></ol>\n"
      ],
      "text/latex": [
       "\\begin{enumerate*}\n",
       "\\item 11\n",
       "\\item 12\n",
       "\\item 13\n",
       "\\item 14\n",
       "\\item 15\n",
       "\\end{enumerate*}\n"
      ],
      "text/markdown": [
       "1. 11\n",
       "2. 12\n",
       "3. 13\n",
       "4. 14\n",
       "5. 15\n",
       "\n",
       "\n"
      ],
      "text/plain": [
       "[1] 11 12 13 14 15"
      ]
     },
     "metadata": {},
     "output_type": "display_data"
    }
   ],
   "source": [
    "m[nrow(m), ] # last row\n",
    "m[, ncol(m)] # last colum"
   ]
  },
  {
   "cell_type": "markdown",
   "metadata": {},
   "source": [
    "---"
   ]
  },
  {
   "cell_type": "markdown",
   "metadata": {},
   "source": [
    "# 3. Factors"
   ]
  },
  {
   "cell_type": "markdown",
   "metadata": {},
   "source": [
    "Factors in `R` programming allow you to represent a vector of values as categorical values, rather than just a set of text data or numbers. The advantage of the categorical data type is that the element can take only a limited number of values, and not any value that allows the data type.\n",
    "\n",
    "For example, a numeric vector may contain an infinitely large variation of the values `c(1, 0.021, 192.1444, ..., etc.)`, the character sets may also be different `c (\"sdf & Tg6\",\"sdf * Y & 65\")`. The number of combinations of such vectors is very large.\n",
    "\n",
    "In the case of categories, we are talking about certain fixed values. A good example is forms that are filled out on sites with drop-down lists, where the user cannot enter a value, but only select from an existing list. So in the gender field there is usually a limited set of possible options: `Male`,` Female`, `Other`. The user can select only one of these values ​​and does not have the ability to enter something else _(this is an example, each resource can make different forms for users)_.\n",
    "\n",
    "Creation of factors in `R` occurs by means of function **`factor()`**:"
   ]
  },
  {
   "cell_type": "code",
   "execution_count": 3,
   "metadata": {},
   "outputs": [
    {
     "data": {
      "text/html": [
       "<style>\n",
       ".list-inline {list-style: none; margin:0; padding: 0}\n",
       ".list-inline>li {display: inline-block}\n",
       ".list-inline>li:not(:last-child)::after {content: \"\\00b7\"; padding: 0 .5ex}\n",
       "</style>\n",
       "<ol class=list-inline><li>Male</li><li>Female</li><li>Other</li><li>Male</li><li>Female</li><li>Male</li><li>Female</li><li>Female</li></ol>\n",
       "\n",
       "<details>\n",
       "\t<summary style=display:list-item;cursor:pointer>\n",
       "\t\t<strong>Levels</strong>:\n",
       "\t</summary>\n",
       "\t<style>\n",
       "\t.list-inline {list-style: none; margin:0; padding: 0}\n",
       "\t.list-inline>li {display: inline-block}\n",
       "\t.list-inline>li:not(:last-child)::after {content: \"\\00b7\"; padding: 0 .5ex}\n",
       "\t</style>\n",
       "\t<ol class=list-inline><li>'Female'</li><li>'Male'</li><li>'Other'</li></ol>\n",
       "</details>"
      ],
      "text/latex": [
       "\\begin{enumerate*}\n",
       "\\item Male\n",
       "\\item Female\n",
       "\\item Other\n",
       "\\item Male\n",
       "\\item Female\n",
       "\\item Male\n",
       "\\item Female\n",
       "\\item Female\n",
       "\\end{enumerate*}\n",
       "\n",
       "\\emph{Levels}: \\begin{enumerate*}\n",
       "\\item 'Female'\n",
       "\\item 'Male'\n",
       "\\item 'Other'\n",
       "\\end{enumerate*}\n"
      ],
      "text/markdown": [
       "1. Male\n",
       "2. Female\n",
       "3. Other\n",
       "4. Male\n",
       "5. Female\n",
       "6. Male\n",
       "7. Female\n",
       "8. Female\n",
       "\n",
       "\n",
       "\n",
       "**Levels**: 1. 'Female'\n",
       "2. 'Male'\n",
       "3. 'Other'\n",
       "\n",
       "\n"
      ],
      "text/plain": [
       "[1] Male   Female Other  Male   Female Male   Female Female\n",
       "Levels: Female Male Other"
      ]
     },
     "metadata": {},
     "output_type": "display_data"
    }
   ],
   "source": [
    "sex <- c(\"Male\", \"Female\", \"Other\", \"Male\", \"Female\", \"Male\", \"Female\", \"Female\")\n",
    "sex_factor <- factor(sex)\n",
    "sex_factor"
   ]
  },
  {
   "cell_type": "markdown",
   "metadata": {},
   "source": [
    "When creating a factor, each unique element gets its own ** _ digital? _ ** _ (from the outside it looks like this, it needs to be clarified) _ value inside the collection, this value is called the level (`level`). In the previous example, the variable `sex_factor` received the levels `Female`, `Male`, `Other` in alphabetical order. If we convert factors to numbers, we get:"
   ]
  },
  {
   "cell_type": "code",
   "execution_count": 5,
   "metadata": {},
   "outputs": [
    {
     "data": {
      "text/html": [
       "<style>\n",
       ".list-inline {list-style: none; margin:0; padding: 0}\n",
       ".list-inline>li {display: inline-block}\n",
       ".list-inline>li:not(:last-child)::after {content: \"\\00b7\"; padding: 0 .5ex}\n",
       "</style>\n",
       "<ol class=list-inline><li>2</li><li>1</li><li>3</li><li>2</li><li>1</li><li>2</li><li>1</li><li>1</li></ol>\n"
      ],
      "text/latex": [
       "\\begin{enumerate*}\n",
       "\\item 2\n",
       "\\item 1\n",
       "\\item 3\n",
       "\\item 2\n",
       "\\item 1\n",
       "\\item 2\n",
       "\\item 1\n",
       "\\item 1\n",
       "\\end{enumerate*}\n"
      ],
      "text/markdown": [
       "1. 2\n",
       "2. 1\n",
       "3. 3\n",
       "4. 2\n",
       "5. 1\n",
       "6. 2\n",
       "7. 1\n",
       "8. 1\n",
       "\n",
       "\n"
      ],
      "text/plain": [
       "[1] 2 1 3 2 1 2 1 1"
      ]
     },
     "metadata": {},
     "output_type": "display_data"
    }
   ],
   "source": [
    "as.numeric(sex_factor)"
   ]
  },
  {
   "cell_type": "markdown",
   "metadata": {},
   "source": [
    "Thus it is clear that `Female` = 1, `Male` = 2, `Other` = 3. Consider a situation where we get data in which the order of values in the factor collection is different, for example, we need to specify so that `Male` = 1, `Female` = 2, `Other` = 3:"
   ]
  },
  {
   "cell_type": "code",
   "execution_count": 7,
   "metadata": {},
   "outputs": [
    {
     "data": {
      "text/html": [
       "<style>\n",
       ".list-inline {list-style: none; margin:0; padding: 0}\n",
       ".list-inline>li {display: inline-block}\n",
       ".list-inline>li:not(:last-child)::after {content: \"\\00b7\"; padding: 0 .5ex}\n",
       "</style>\n",
       "<ol class=list-inline><li>Male</li><li>Female</li><li>Other</li><li>Male</li><li>Female</li><li>Male</li><li>Female</li><li>Female</li></ol>\n",
       "\n",
       "<details>\n",
       "\t<summary style=display:list-item;cursor:pointer>\n",
       "\t\t<strong>Levels</strong>:\n",
       "\t</summary>\n",
       "\t<style>\n",
       "\t.list-inline {list-style: none; margin:0; padding: 0}\n",
       "\t.list-inline>li {display: inline-block}\n",
       "\t.list-inline>li:not(:last-child)::after {content: \"\\00b7\"; padding: 0 .5ex}\n",
       "\t</style>\n",
       "\t<ol class=list-inline><li>'Male'</li><li>'Female'</li><li>'Other'</li></ol>\n",
       "</details>"
      ],
      "text/latex": [
       "\\begin{enumerate*}\n",
       "\\item Male\n",
       "\\item Female\n",
       "\\item Other\n",
       "\\item Male\n",
       "\\item Female\n",
       "\\item Male\n",
       "\\item Female\n",
       "\\item Female\n",
       "\\end{enumerate*}\n",
       "\n",
       "\\emph{Levels}: \\begin{enumerate*}\n",
       "\\item 'Male'\n",
       "\\item 'Female'\n",
       "\\item 'Other'\n",
       "\\end{enumerate*}\n"
      ],
      "text/markdown": [
       "1. Male\n",
       "2. Female\n",
       "3. Other\n",
       "4. Male\n",
       "5. Female\n",
       "6. Male\n",
       "7. Female\n",
       "8. Female\n",
       "\n",
       "\n",
       "\n",
       "**Levels**: 1. 'Male'\n",
       "2. 'Female'\n",
       "3. 'Other'\n",
       "\n",
       "\n"
      ],
      "text/plain": [
       "[1] Male   Female Other  Male   Female Male   Female Female\n",
       "Levels: Male Female Other"
      ]
     },
     "metadata": {},
     "output_type": "display_data"
    },
    {
     "data": {
      "text/html": [
       "<style>\n",
       ".list-inline {list-style: none; margin:0; padding: 0}\n",
       ".list-inline>li {display: inline-block}\n",
       ".list-inline>li:not(:last-child)::after {content: \"\\00b7\"; padding: 0 .5ex}\n",
       "</style>\n",
       "<ol class=list-inline><li>'Male'</li><li>'Female'</li><li>'Other'</li></ol>\n"
      ],
      "text/latex": [
       "\\begin{enumerate*}\n",
       "\\item 'Male'\n",
       "\\item 'Female'\n",
       "\\item 'Other'\n",
       "\\end{enumerate*}\n"
      ],
      "text/markdown": [
       "1. 'Male'\n",
       "2. 'Female'\n",
       "3. 'Other'\n",
       "\n",
       "\n"
      ],
      "text/plain": [
       "[1] \"Male\"   \"Female\" \"Other\" "
      ]
     },
     "metadata": {},
     "output_type": "display_data"
    },
    {
     "data": {
      "text/html": [
       "<style>\n",
       ".list-inline {list-style: none; margin:0; padding: 0}\n",
       ".list-inline>li {display: inline-block}\n",
       ".list-inline>li:not(:last-child)::after {content: \"\\00b7\"; padding: 0 .5ex}\n",
       "</style>\n",
       "<ol class=list-inline><li>1</li><li>2</li><li>3</li><li>1</li><li>2</li><li>1</li><li>2</li><li>2</li></ol>\n"
      ],
      "text/latex": [
       "\\begin{enumerate*}\n",
       "\\item 1\n",
       "\\item 2\n",
       "\\item 3\n",
       "\\item 1\n",
       "\\item 2\n",
       "\\item 1\n",
       "\\item 2\n",
       "\\item 2\n",
       "\\end{enumerate*}\n"
      ],
      "text/markdown": [
       "1. 1\n",
       "2. 2\n",
       "3. 3\n",
       "4. 1\n",
       "5. 2\n",
       "6. 1\n",
       "7. 2\n",
       "8. 2\n",
       "\n",
       "\n"
      ],
      "text/plain": [
       "[1] 1 2 3 1 2 1 2 2"
      ]
     },
     "metadata": {},
     "output_type": "display_data"
    }
   ],
   "source": [
    "sex <- c(\"Male\", \"Female\", \"Other\", \"Male\", \"Female\", \"Male\", \"Female\", \"Female\")\n",
    "sex_factor <- factor(sex, levels = c(\"Male\", \"Female\", \"Other\"))\n",
    "sex_factor\n",
    "levels(sex_factor) # read levels of factor\n",
    "as.numeric(sex_factor)"
   ]
  },
  {
   "cell_type": "markdown",
   "metadata": {},
   "source": [
    "Now the order of the levels corresponds to ours and this will allow us to successfully combine our collection with similar ones that have the same set of values.\n",
    "\n",
    "Sometimes it is necessary to change not only the order of the elements in the factorial collection, but also their names. Let's consider a situation when we need to rename values `Male`,` Female`, `Other` in` M`, `F`,` O`:"
   ]
  },
  {
   "cell_type": "code",
   "execution_count": 9,
   "metadata": {},
   "outputs": [
    {
     "data": {
      "text/html": [
       "<style>\n",
       ".list-inline {list-style: none; margin:0; padding: 0}\n",
       ".list-inline>li {display: inline-block}\n",
       ".list-inline>li:not(:last-child)::after {content: \"\\00b7\"; padding: 0 .5ex}\n",
       "</style>\n",
       "<ol class=list-inline><li>M</li><li>F</li><li>O</li><li>M</li><li>F</li><li>M</li><li>F</li><li>F</li></ol>\n",
       "\n",
       "<details>\n",
       "\t<summary style=display:list-item;cursor:pointer>\n",
       "\t\t<strong>Levels</strong>:\n",
       "\t</summary>\n",
       "\t<style>\n",
       "\t.list-inline {list-style: none; margin:0; padding: 0}\n",
       "\t.list-inline>li {display: inline-block}\n",
       "\t.list-inline>li:not(:last-child)::after {content: \"\\00b7\"; padding: 0 .5ex}\n",
       "\t</style>\n",
       "\t<ol class=list-inline><li>'M'</li><li>'F'</li><li>'O'</li></ol>\n",
       "</details>"
      ],
      "text/latex": [
       "\\begin{enumerate*}\n",
       "\\item M\n",
       "\\item F\n",
       "\\item O\n",
       "\\item M\n",
       "\\item F\n",
       "\\item M\n",
       "\\item F\n",
       "\\item F\n",
       "\\end{enumerate*}\n",
       "\n",
       "\\emph{Levels}: \\begin{enumerate*}\n",
       "\\item 'M'\n",
       "\\item 'F'\n",
       "\\item 'O'\n",
       "\\end{enumerate*}\n"
      ],
      "text/markdown": [
       "1. M\n",
       "2. F\n",
       "3. O\n",
       "4. M\n",
       "5. F\n",
       "6. M\n",
       "7. F\n",
       "8. F\n",
       "\n",
       "\n",
       "\n",
       "**Levels**: 1. 'M'\n",
       "2. 'F'\n",
       "3. 'O'\n",
       "\n",
       "\n"
      ],
      "text/plain": [
       "[1] M F O M F M F F\n",
       "Levels: M F O"
      ]
     },
     "metadata": {},
     "output_type": "display_data"
    }
   ],
   "source": [
    "sex <- c(\"Male\", \"Female\", \"Other\", \"Male\", \"Female\", \"Male\", \"Female\", \"Female\")\n",
    "sex_factor <- factor(sex, levels = c(\"Male\", \"Female\", \"Other\"))\n",
    "levels(sex_factor) <- c(\"M\", \"F\", \"O\")\n",
    "sex_factor"
   ]
  },
  {
   "cell_type": "markdown",
   "metadata": {},
   "source": [
    "But you should check you type with `is.factor()` before converting to numbers:"
   ]
  },
  {
   "cell_type": "code",
   "execution_count": 15,
   "metadata": {},
   "outputs": [
    {
     "data": {
      "text/html": [
       "<style>\n",
       ".list-inline {list-style: none; margin:0; padding: 0}\n",
       ".list-inline>li {display: inline-block}\n",
       ".list-inline>li:not(:last-child)::after {content: \"\\00b7\"; padding: 0 .5ex}\n",
       "</style>\n",
       "<ol class=list-inline><li>3</li><li>2</li><li>5</li><li>1</li><li>4</li></ol>\n"
      ],
      "text/latex": [
       "\\begin{enumerate*}\n",
       "\\item 3\n",
       "\\item 2\n",
       "\\item 5\n",
       "\\item 1\n",
       "\\item 4\n",
       "\\end{enumerate*}\n"
      ],
      "text/markdown": [
       "1. 3\n",
       "2. 2\n",
       "3. 5\n",
       "4. 1\n",
       "5. 4\n",
       "\n",
       "\n"
      ],
      "text/plain": [
       "[1] 3 2 5 1 4"
      ]
     },
     "metadata": {},
     "output_type": "display_data"
    },
    {
     "name": "stderr",
     "output_type": "stream",
     "text": [
      "Warning message in eval(expr, envir, enclos):\n",
      "\"NAs introduced by coercion\"\n"
     ]
    },
    {
     "data": {
      "text/html": [
       "<style>\n",
       ".list-inline {list-style: none; margin:0; padding: 0}\n",
       ".list-inline>li {display: inline-block}\n",
       ".list-inline>li:not(:last-child)::after {content: \"\\00b7\"; padding: 0 .5ex}\n",
       "</style>\n",
       "<ol class=list-inline><li>&lt;NA&gt;</li><li>&lt;NA&gt;</li><li>&lt;NA&gt;</li><li>&lt;NA&gt;</li><li>&lt;NA&gt;</li></ol>\n"
      ],
      "text/latex": [
       "\\begin{enumerate*}\n",
       "\\item <NA>\n",
       "\\item <NA>\n",
       "\\item <NA>\n",
       "\\item <NA>\n",
       "\\item <NA>\n",
       "\\end{enumerate*}\n"
      ],
      "text/markdown": [
       "1. &lt;NA&gt;\n",
       "2. &lt;NA&gt;\n",
       "3. &lt;NA&gt;\n",
       "4. &lt;NA&gt;\n",
       "5. &lt;NA&gt;\n",
       "\n",
       "\n"
      ],
      "text/plain": [
       "[1] NA NA NA NA NA"
      ]
     },
     "metadata": {},
     "output_type": "display_data"
    }
   ],
   "source": [
    "cities <- c(\"Rivne\", \"Ostroh\", \"Zdolbuniv\", \"Dubno\", \"Sarny\")\n",
    "cities_as_factors <- factor(cities)\n",
    "as.numeric(cities_as_factors)\n",
    "as.numeric(cities) # you cannot convert characters vector to numerics"
   ]
  },
  {
   "cell_type": "markdown",
   "metadata": {},
   "source": [
    "---"
   ]
  },
  {
   "cell_type": "markdown",
   "metadata": {},
   "source": [
    "# 4. Dataframes"
   ]
  },
  {
   "cell_type": "markdown",
   "metadata": {},
   "source": [
    "Data frames are the most popular data structure in R, becouse it allows collect data with different columns type in one object and quickly manipulate it."
   ]
  },
  {
   "cell_type": "markdown",
   "metadata": {},
   "source": [
    "A `data frame`, a matrix-like structure whose columns may be of differing types (numeric, logical, factor and character and so on)."
   ]
  },
  {
   "cell_type": "markdown",
   "metadata": {},
   "source": [
    "The function `data.frame()` creates data frames, tightly coupled collections of variables which share many of the properties of matrices and of lists, used as the fundamental data structure by most of R's modeling software."
   ]
  },
  {
   "cell_type": "markdown",
   "metadata": {},
   "source": [
    "**Syntax**\n",
    "\n",
    "```{r}\n",
    "data.frame(..., row.names = NULL, check.rows = FALSE,\n",
    "           check.names = TRUE, fix.empty.names = TRUE,\n",
    "           stringsAsFactors = FALSE)\n",
    "```"
   ]
  },
  {
   "cell_type": "markdown",
   "metadata": {},
   "source": [
    "**Arguments** (top useful)\n",
    "\n",
    "- [x] `...` - these arguments are of either the form value or tag = value. Component names are created based on the tag (if present) or the deparsed argument itself.\n",
    "- [x] `row.names` - NULL or a single integer or character string specifying a column to be used as row names, or a character or integer vector giving the row names for the data frame.\n",
    "- [x] `stringsAsFactors` - logical: should character vectors be converted to factors? The ‘factory-fresh’ default has been TRUE previously but has been changed to FALSE"
   ]
  },
  {
   "cell_type": "markdown",
   "metadata": {},
   "source": [
    "**Details**\n",
    "\n",
    "A `data frame` is a list of variables of the same number of rows with unique row names, given class `data.frame`. If no variables are included, the row names determine the number of rows.\n",
    "\n",
    "`data.frame` converts each of its arguments to a data frame by calling as.data.frame(optional = TRUE). As that is a generic function, methods can be written to change the behaviour of arguments according to their classes: R comes with many such methods. Character variables passed to `data.frame` are converted to `factor` columns unless protected argument `stringsAsFactors` is false. If a list or data frame or matrix is passed to `data.frame` it is as if each component or column had been passed as a separate argument."
   ]
  },
  {
   "cell_type": "markdown",
   "metadata": {},
   "source": [
    "---"
   ]
  },
  {
   "cell_type": "markdown",
   "metadata": {},
   "source": [
    "### Creating Data Frames"
   ]
  },
  {
   "cell_type": "markdown",
   "metadata": {},
   "source": [
    "Data frames are usually created by reading in a dataset from file, scraping from websites. However, data frames can also be created explicitly with the `data.frame()` function or they can be coerced from other types of objects like lists. In this case I’ll create a simple data frame df and assess its basic structure:"
   ]
  },
  {
   "cell_type": "code",
   "execution_count": 17,
   "metadata": {},
   "outputs": [
    {
     "data": {
      "text/html": [
       "<table class=\"dataframe\">\n",
       "<caption>A data.frame: 5 × 4</caption>\n",
       "<thead>\n",
       "\t<tr><th scope=col>int_col</th><th scope=col>char_col</th><th scope=col>log_col</th><th scope=col>double_col</th></tr>\n",
       "\t<tr><th scope=col>&lt;int&gt;</th><th scope=col>&lt;chr&gt;</th><th scope=col>&lt;lgl&gt;</th><th scope=col>&lt;dbl&gt;</th></tr>\n",
       "</thead>\n",
       "<tbody>\n",
       "\t<tr><td>1</td><td>a</td><td> TRUE</td><td> 2.100000</td></tr>\n",
       "\t<tr><td>2</td><td>b</td><td> TRUE</td><td> 1.000000</td></tr>\n",
       "\t<tr><td>3</td><td>c</td><td> TRUE</td><td> 0.500000</td></tr>\n",
       "\t<tr><td>4</td><td>d</td><td>FALSE</td><td> 3.141593</td></tr>\n",
       "\t<tr><td>5</td><td>e</td><td> TRUE</td><td>12.700000</td></tr>\n",
       "</tbody>\n",
       "</table>\n"
      ],
      "text/latex": [
       "A data.frame: 5 × 4\n",
       "\\begin{tabular}{llll}\n",
       " int\\_col & char\\_col & log\\_col & double\\_col\\\\\n",
       " <int> & <chr> & <lgl> & <dbl>\\\\\n",
       "\\hline\n",
       "\t 1 & a &  TRUE &  2.100000\\\\\n",
       "\t 2 & b &  TRUE &  1.000000\\\\\n",
       "\t 3 & c &  TRUE &  0.500000\\\\\n",
       "\t 4 & d & FALSE &  3.141593\\\\\n",
       "\t 5 & e &  TRUE & 12.700000\\\\\n",
       "\\end{tabular}\n"
      ],
      "text/markdown": [
       "\n",
       "A data.frame: 5 × 4\n",
       "\n",
       "| int_col &lt;int&gt; | char_col &lt;chr&gt; | log_col &lt;lgl&gt; | double_col &lt;dbl&gt; |\n",
       "|---|---|---|---|\n",
       "| 1 | a |  TRUE |  2.100000 |\n",
       "| 2 | b |  TRUE |  1.000000 |\n",
       "| 3 | c |  TRUE |  0.500000 |\n",
       "| 4 | d | FALSE |  3.141593 |\n",
       "| 5 | e |  TRUE | 12.700000 |\n",
       "\n"
      ],
      "text/plain": [
       "  int_col char_col log_col double_col\n",
       "1 1       a         TRUE    2.100000 \n",
       "2 2       b         TRUE    1.000000 \n",
       "3 3       c         TRUE    0.500000 \n",
       "4 4       d        FALSE    3.141593 \n",
       "5 5       e         TRUE   12.700000 "
      ]
     },
     "metadata": {},
     "output_type": "display_data"
    }
   ],
   "source": [
    "df <- data.frame(int_col = 1:5,\n",
    "                char_col = c(\"a\", \"b\", \"c\", \"d\", \"e\"),\n",
    "                log_col = c(T,T,T,F,T),\n",
    "                double_col = c(2.1, 1, 0.5, pi, 12.7))\n",
    "df"
   ]
  },
  {
   "cell_type": "code",
   "execution_count": 19,
   "metadata": {},
   "outputs": [
    {
     "name": "stdout",
     "output_type": "stream",
     "text": [
      "'data.frame':\t5 obs. of  4 variables:\n",
      " $ int_col   : int  1 2 3 4 5\n",
      " $ char_col  : chr  \"a\" \"b\" \"c\" \"d\" ...\n",
      " $ log_col   : logi  TRUE TRUE TRUE FALSE TRUE\n",
      " $ double_col: num  2.1 1 0.5 3.14 12.7\n"
     ]
    }
   ],
   "source": [
    "# assess the structure of a data frame\n",
    "str(df)"
   ]
  },
  {
   "cell_type": "code",
   "execution_count": 21,
   "metadata": {},
   "outputs": [
    {
     "data": {
      "text/html": [
       "5"
      ],
      "text/latex": [
       "5"
      ],
      "text/markdown": [
       "5"
      ],
      "text/plain": [
       "[1] 5"
      ]
     },
     "metadata": {},
     "output_type": "display_data"
    }
   ],
   "source": [
    "# number of rows\n",
    "nrow(df)"
   ]
  },
  {
   "cell_type": "code",
   "execution_count": 23,
   "metadata": {},
   "outputs": [
    {
     "data": {
      "text/html": [
       "4"
      ],
      "text/latex": [
       "4"
      ],
      "text/markdown": [
       "4"
      ],
      "text/plain": [
       "[1] 4"
      ]
     },
     "metadata": {},
     "output_type": "display_data"
    }
   ],
   "source": [
    "# number of columns\n",
    "ncol(df)"
   ]
  },
  {
   "cell_type": "markdown",
   "metadata": {},
   "source": [
    "If you want convert \"on fly\" character columns to factor use `stringsAsFactors = TRUE`: "
   ]
  },
  {
   "cell_type": "code",
   "execution_count": 28,
   "metadata": {},
   "outputs": [
    {
     "data": {
      "text/html": [
       "<table class=\"dataframe\">\n",
       "<caption>A data.frame: 5 × 4</caption>\n",
       "<thead>\n",
       "\t<tr><th scope=col>int_col</th><th scope=col>char_col</th><th scope=col>log_col</th><th scope=col>double_col</th></tr>\n",
       "\t<tr><th scope=col>&lt;int&gt;</th><th scope=col>&lt;fct&gt;</th><th scope=col>&lt;lgl&gt;</th><th scope=col>&lt;dbl&gt;</th></tr>\n",
       "</thead>\n",
       "<tbody>\n",
       "\t<tr><td>1</td><td>a</td><td> TRUE</td><td> 2.100000</td></tr>\n",
       "\t<tr><td>2</td><td>b</td><td> TRUE</td><td> 1.000000</td></tr>\n",
       "\t<tr><td>3</td><td>c</td><td> TRUE</td><td> 0.500000</td></tr>\n",
       "\t<tr><td>4</td><td>d</td><td>FALSE</td><td> 3.141593</td></tr>\n",
       "\t<tr><td>5</td><td>e</td><td> TRUE</td><td>12.700000</td></tr>\n",
       "</tbody>\n",
       "</table>\n"
      ],
      "text/latex": [
       "A data.frame: 5 × 4\n",
       "\\begin{tabular}{llll}\n",
       " int\\_col & char\\_col & log\\_col & double\\_col\\\\\n",
       " <int> & <fct> & <lgl> & <dbl>\\\\\n",
       "\\hline\n",
       "\t 1 & a &  TRUE &  2.100000\\\\\n",
       "\t 2 & b &  TRUE &  1.000000\\\\\n",
       "\t 3 & c &  TRUE &  0.500000\\\\\n",
       "\t 4 & d & FALSE &  3.141593\\\\\n",
       "\t 5 & e &  TRUE & 12.700000\\\\\n",
       "\\end{tabular}\n"
      ],
      "text/markdown": [
       "\n",
       "A data.frame: 5 × 4\n",
       "\n",
       "| int_col &lt;int&gt; | char_col &lt;fct&gt; | log_col &lt;lgl&gt; | double_col &lt;dbl&gt; |\n",
       "|---|---|---|---|\n",
       "| 1 | a |  TRUE |  2.100000 |\n",
       "| 2 | b |  TRUE |  1.000000 |\n",
       "| 3 | c |  TRUE |  0.500000 |\n",
       "| 4 | d | FALSE |  3.141593 |\n",
       "| 5 | e |  TRUE | 12.700000 |\n",
       "\n"
      ],
      "text/plain": [
       "  int_col char_col log_col double_col\n",
       "1 1       a         TRUE    2.100000 \n",
       "2 2       b         TRUE    1.000000 \n",
       "3 3       c         TRUE    0.500000 \n",
       "4 4       d        FALSE    3.141593 \n",
       "5 5       e         TRUE   12.700000 "
      ]
     },
     "metadata": {},
     "output_type": "display_data"
    }
   ],
   "source": [
    "df <- data.frame(int_col = 1:5,\n",
    "                char_col = c(\"a\", \"b\", \"c\", \"d\", \"e\"),\n",
    "                log_col = c(T,T,T,F,T),\n",
    "                double_col = c(2.1, 1, 0.5, pi, 12.7),\n",
    "                stringsAsFactors = TRUE) # warning it depends on local settings of R\n",
    "df"
   ]
  },
  {
   "cell_type": "markdown",
   "metadata": {},
   "source": [
    "One more way to create data frame is combining it from vectors:"
   ]
  },
  {
   "cell_type": "code",
   "execution_count": 33,
   "metadata": {},
   "outputs": [
    {
     "data": {
      "text/html": [
       "<table class=\"dataframe\">\n",
       "<caption>A data.frame: 5 × 4</caption>\n",
       "<thead>\n",
       "\t<tr><th scope=col>int_col</th><th scope=col>char_col</th><th scope=col>log_col</th><th scope=col>double_col</th></tr>\n",
       "\t<tr><th scope=col>&lt;int&gt;</th><th scope=col>&lt;fct&gt;</th><th scope=col>&lt;lgl&gt;</th><th scope=col>&lt;dbl&gt;</th></tr>\n",
       "</thead>\n",
       "<tbody>\n",
       "\t<tr><td>1</td><td>a</td><td> TRUE</td><td> 2.100000</td></tr>\n",
       "\t<tr><td>2</td><td>b</td><td> TRUE</td><td> 1.000000</td></tr>\n",
       "\t<tr><td>3</td><td>c</td><td> TRUE</td><td> 0.500000</td></tr>\n",
       "\t<tr><td>4</td><td>d</td><td>FALSE</td><td> 3.141593</td></tr>\n",
       "\t<tr><td>5</td><td>e</td><td> TRUE</td><td>12.700000</td></tr>\n",
       "</tbody>\n",
       "</table>\n"
      ],
      "text/latex": [
       "A data.frame: 5 × 4\n",
       "\\begin{tabular}{llll}\n",
       " int\\_col & char\\_col & log\\_col & double\\_col\\\\\n",
       " <int> & <fct> & <lgl> & <dbl>\\\\\n",
       "\\hline\n",
       "\t 1 & a &  TRUE &  2.100000\\\\\n",
       "\t 2 & b &  TRUE &  1.000000\\\\\n",
       "\t 3 & c &  TRUE &  0.500000\\\\\n",
       "\t 4 & d & FALSE &  3.141593\\\\\n",
       "\t 5 & e &  TRUE & 12.700000\\\\\n",
       "\\end{tabular}\n"
      ],
      "text/markdown": [
       "\n",
       "A data.frame: 5 × 4\n",
       "\n",
       "| int_col &lt;int&gt; | char_col &lt;fct&gt; | log_col &lt;lgl&gt; | double_col &lt;dbl&gt; |\n",
       "|---|---|---|---|\n",
       "| 1 | a |  TRUE |  2.100000 |\n",
       "| 2 | b |  TRUE |  1.000000 |\n",
       "| 3 | c |  TRUE |  0.500000 |\n",
       "| 4 | d | FALSE |  3.141593 |\n",
       "| 5 | e |  TRUE | 12.700000 |\n",
       "\n"
      ],
      "text/plain": [
       "  int_col char_col log_col double_col\n",
       "1 1       a         TRUE    2.100000 \n",
       "2 2       b         TRUE    1.000000 \n",
       "3 3       c         TRUE    0.500000 \n",
       "4 4       d        FALSE    3.141593 \n",
       "5 5       e         TRUE   12.700000 "
      ]
     },
     "metadata": {},
     "output_type": "display_data"
    }
   ],
   "source": [
    "v_int <- 1:5\n",
    "v_char = c(\"a\", \"b\", \"c\", \"d\", \"e\")\n",
    "v_log = c(T,T,T,F,T)\n",
    "v_double = c(2.1, 1, 0.5, pi, 12.7)\n",
    "\n",
    "df <- data.frame(int_col = v_int,\n",
    "                char_col = v_char,\n",
    "                log_col = v_log,\n",
    "                double_col = v_double,\n",
    "                stringsAsFactors = TRUE) # warning it depends on local settings of R\n",
    "df"
   ]
  },
  {
   "cell_type": "markdown",
   "metadata": {},
   "source": [
    "Creating data.frames from lists (P.S. lists explained in next chapter):"
   ]
  },
  {
   "cell_type": "code",
   "execution_count": 35,
   "metadata": {},
   "outputs": [
    {
     "data": {
      "text/html": [
       "<table class=\"dataframe\">\n",
       "<caption>A data.frame: 5 × 4</caption>\n",
       "<thead>\n",
       "\t<tr><th scope=col>int_col</th><th scope=col>char_col</th><th scope=col>log_col</th><th scope=col>double_col</th></tr>\n",
       "\t<tr><th scope=col>&lt;int&gt;</th><th scope=col>&lt;chr&gt;</th><th scope=col>&lt;lgl&gt;</th><th scope=col>&lt;dbl&gt;</th></tr>\n",
       "</thead>\n",
       "<tbody>\n",
       "\t<tr><td>1</td><td>a</td><td> TRUE</td><td> 2.100000</td></tr>\n",
       "\t<tr><td>2</td><td>b</td><td> TRUE</td><td> 1.000000</td></tr>\n",
       "\t<tr><td>3</td><td>c</td><td> TRUE</td><td> 0.500000</td></tr>\n",
       "\t<tr><td>4</td><td>d</td><td>FALSE</td><td> 3.141593</td></tr>\n",
       "\t<tr><td>5</td><td>e</td><td> TRUE</td><td>12.700000</td></tr>\n",
       "</tbody>\n",
       "</table>\n"
      ],
      "text/latex": [
       "A data.frame: 5 × 4\n",
       "\\begin{tabular}{llll}\n",
       " int\\_col & char\\_col & log\\_col & double\\_col\\\\\n",
       " <int> & <chr> & <lgl> & <dbl>\\\\\n",
       "\\hline\n",
       "\t 1 & a &  TRUE &  2.100000\\\\\n",
       "\t 2 & b &  TRUE &  1.000000\\\\\n",
       "\t 3 & c &  TRUE &  0.500000\\\\\n",
       "\t 4 & d & FALSE &  3.141593\\\\\n",
       "\t 5 & e &  TRUE & 12.700000\\\\\n",
       "\\end{tabular}\n"
      ],
      "text/markdown": [
       "\n",
       "A data.frame: 5 × 4\n",
       "\n",
       "| int_col &lt;int&gt; | char_col &lt;chr&gt; | log_col &lt;lgl&gt; | double_col &lt;dbl&gt; |\n",
       "|---|---|---|---|\n",
       "| 1 | a |  TRUE |  2.100000 |\n",
       "| 2 | b |  TRUE |  1.000000 |\n",
       "| 3 | c |  TRUE |  0.500000 |\n",
       "| 4 | d | FALSE |  3.141593 |\n",
       "| 5 | e |  TRUE | 12.700000 |\n",
       "\n"
      ],
      "text/plain": [
       "  int_col char_col log_col double_col\n",
       "1 1       a         TRUE    2.100000 \n",
       "2 2       b         TRUE    1.000000 \n",
       "3 3       c         TRUE    0.500000 \n",
       "4 4       d        FALSE    3.141593 \n",
       "5 5       e         TRUE   12.700000 "
      ]
     },
     "metadata": {},
     "output_type": "display_data"
    }
   ],
   "source": [
    "demo_list <- list(int_col = v_int,\n",
    "                  char_col = v_char,\n",
    "                  log_col = v_log,\n",
    "                  double_col = v_double)\n",
    "as.data.frame(demo_list)"
   ]
  },
  {
   "cell_type": "markdown",
   "metadata": {},
   "source": [
    "Matrix can be base for data frame too:"
   ]
  },
  {
   "cell_type": "code",
   "execution_count": 38,
   "metadata": {},
   "outputs": [
    {
     "data": {
      "text/html": [
       "<table class=\"dataframe\">\n",
       "<caption>A matrix: 5 × 4 of type int</caption>\n",
       "<tbody>\n",
       "\t<tr><td>100</td><td>105</td><td>110</td><td>115</td></tr>\n",
       "\t<tr><td>101</td><td>106</td><td>111</td><td>116</td></tr>\n",
       "\t<tr><td>102</td><td>107</td><td>112</td><td>117</td></tr>\n",
       "\t<tr><td>103</td><td>108</td><td>113</td><td>118</td></tr>\n",
       "\t<tr><td>104</td><td>109</td><td>114</td><td>119</td></tr>\n",
       "</tbody>\n",
       "</table>\n"
      ],
      "text/latex": [
       "A matrix: 5 × 4 of type int\n",
       "\\begin{tabular}{llll}\n",
       "\t 100 & 105 & 110 & 115\\\\\n",
       "\t 101 & 106 & 111 & 116\\\\\n",
       "\t 102 & 107 & 112 & 117\\\\\n",
       "\t 103 & 108 & 113 & 118\\\\\n",
       "\t 104 & 109 & 114 & 119\\\\\n",
       "\\end{tabular}\n"
      ],
      "text/markdown": [
       "\n",
       "A matrix: 5 × 4 of type int\n",
       "\n",
       "| 100 | 105 | 110 | 115 |\n",
       "| 101 | 106 | 111 | 116 |\n",
       "| 102 | 107 | 112 | 117 |\n",
       "| 103 | 108 | 113 | 118 |\n",
       "| 104 | 109 | 114 | 119 |\n",
       "\n"
      ],
      "text/plain": [
       "     [,1] [,2] [,3] [,4]\n",
       "[1,] 100  105  110  115 \n",
       "[2,] 101  106  111  116 \n",
       "[3,] 102  107  112  117 \n",
       "[4,] 103  108  113  118 \n",
       "[5,] 104  109  114  119 "
      ]
     },
     "metadata": {},
     "output_type": "display_data"
    },
    {
     "data": {
      "text/html": [
       "<table class=\"dataframe\">\n",
       "<caption>A data.frame: 5 × 4</caption>\n",
       "<thead>\n",
       "\t<tr><th scope=col>V1</th><th scope=col>V2</th><th scope=col>V3</th><th scope=col>V4</th></tr>\n",
       "\t<tr><th scope=col>&lt;int&gt;</th><th scope=col>&lt;int&gt;</th><th scope=col>&lt;int&gt;</th><th scope=col>&lt;int&gt;</th></tr>\n",
       "</thead>\n",
       "<tbody>\n",
       "\t<tr><td>100</td><td>105</td><td>110</td><td>115</td></tr>\n",
       "\t<tr><td>101</td><td>106</td><td>111</td><td>116</td></tr>\n",
       "\t<tr><td>102</td><td>107</td><td>112</td><td>117</td></tr>\n",
       "\t<tr><td>103</td><td>108</td><td>113</td><td>118</td></tr>\n",
       "\t<tr><td>104</td><td>109</td><td>114</td><td>119</td></tr>\n",
       "</tbody>\n",
       "</table>\n"
      ],
      "text/latex": [
       "A data.frame: 5 × 4\n",
       "\\begin{tabular}{llll}\n",
       " V1 & V2 & V3 & V4\\\\\n",
       " <int> & <int> & <int> & <int>\\\\\n",
       "\\hline\n",
       "\t 100 & 105 & 110 & 115\\\\\n",
       "\t 101 & 106 & 111 & 116\\\\\n",
       "\t 102 & 107 & 112 & 117\\\\\n",
       "\t 103 & 108 & 113 & 118\\\\\n",
       "\t 104 & 109 & 114 & 119\\\\\n",
       "\\end{tabular}\n"
      ],
      "text/markdown": [
       "\n",
       "A data.frame: 5 × 4\n",
       "\n",
       "| V1 &lt;int&gt; | V2 &lt;int&gt; | V3 &lt;int&gt; | V4 &lt;int&gt; |\n",
       "|---|---|---|---|\n",
       "| 100 | 105 | 110 | 115 |\n",
       "| 101 | 106 | 111 | 116 |\n",
       "| 102 | 107 | 112 | 117 |\n",
       "| 103 | 108 | 113 | 118 |\n",
       "| 104 | 109 | 114 | 119 |\n",
       "\n"
      ],
      "text/plain": [
       "  V1  V2  V3  V4 \n",
       "1 100 105 110 115\n",
       "2 101 106 111 116\n",
       "3 102 107 112 117\n",
       "4 103 108 113 118\n",
       "5 104 109 114 119"
      ]
     },
     "metadata": {},
     "output_type": "display_data"
    }
   ],
   "source": [
    "demo_matrix <- matrix(100:119, nrow = 5, ncol = 4)\n",
    "demo_matrix\n",
    "\n",
    "as.data.frame(demo_matrix)"
   ]
  },
  {
   "cell_type": "markdown",
   "metadata": {},
   "source": [
    "---"
   ]
  },
  {
   "cell_type": "markdown",
   "metadata": {},
   "source": [
    "## Extending data frames"
   ]
  },
  {
   "cell_type": "markdown",
   "metadata": {},
   "source": [
    "You can add rows and columns to data frame. Merging two data frames by selected column values awailable too."
   ]
  },
  {
   "cell_type": "markdown",
   "metadata": {},
   "source": [
    "`cbind()` adds new column"
   ]
  },
  {
   "cell_type": "code",
   "execution_count": 53,
   "metadata": {},
   "outputs": [
    {
     "data": {
      "text/html": [
       "<table class=\"dataframe\">\n",
       "<caption>A data.frame: 3 × 2</caption>\n",
       "<thead>\n",
       "\t<tr><th scope=col>A1</th><th scope=col>A2</th></tr>\n",
       "\t<tr><th scope=col>&lt;chr&gt;</th><th scope=col>&lt;chr&gt;</th></tr>\n",
       "</thead>\n",
       "<tbody>\n",
       "\t<tr><td>A</td><td>D</td></tr>\n",
       "\t<tr><td>B</td><td>E</td></tr>\n",
       "\t<tr><td>C</td><td>F</td></tr>\n",
       "</tbody>\n",
       "</table>\n"
      ],
      "text/latex": [
       "A data.frame: 3 × 2\n",
       "\\begin{tabular}{ll}\n",
       " A1 & A2\\\\\n",
       " <chr> & <chr>\\\\\n",
       "\\hline\n",
       "\t A & D\\\\\n",
       "\t B & E\\\\\n",
       "\t C & F\\\\\n",
       "\\end{tabular}\n"
      ],
      "text/markdown": [
       "\n",
       "A data.frame: 3 × 2\n",
       "\n",
       "| A1 &lt;chr&gt; | A2 &lt;chr&gt; |\n",
       "|---|---|\n",
       "| A | D |\n",
       "| B | E |\n",
       "| C | F |\n",
       "\n"
      ],
      "text/plain": [
       "  A1 A2\n",
       "1 A  D \n",
       "2 B  E \n",
       "3 C  F "
      ]
     },
     "metadata": {},
     "output_type": "display_data"
    },
    {
     "data": {
      "text/html": [
       "<table class=\"dataframe\">\n",
       "<caption>A data.frame: 3 × 3</caption>\n",
       "<thead>\n",
       "\t<tr><th scope=col>A1</th><th scope=col>A2</th><th scope=col>A3</th></tr>\n",
       "\t<tr><th scope=col>&lt;chr&gt;</th><th scope=col>&lt;chr&gt;</th><th scope=col>&lt;dbl&gt;</th></tr>\n",
       "</thead>\n",
       "<tbody>\n",
       "\t<tr><td>A</td><td>D</td><td>1</td></tr>\n",
       "\t<tr><td>B</td><td>E</td><td>2</td></tr>\n",
       "\t<tr><td>C</td><td>F</td><td>3</td></tr>\n",
       "</tbody>\n",
       "</table>\n"
      ],
      "text/latex": [
       "A data.frame: 3 × 3\n",
       "\\begin{tabular}{lll}\n",
       " A1 & A2 & A3\\\\\n",
       " <chr> & <chr> & <dbl>\\\\\n",
       "\\hline\n",
       "\t A & D & 1\\\\\n",
       "\t B & E & 2\\\\\n",
       "\t C & F & 3\\\\\n",
       "\\end{tabular}\n"
      ],
      "text/markdown": [
       "\n",
       "A data.frame: 3 × 3\n",
       "\n",
       "| A1 &lt;chr&gt; | A2 &lt;chr&gt; | A3 &lt;dbl&gt; |\n",
       "|---|---|---|\n",
       "| A | D | 1 |\n",
       "| B | E | 2 |\n",
       "| C | F | 3 |\n",
       "\n"
      ],
      "text/plain": [
       "  A1 A2 A3\n",
       "1 A  D  1 \n",
       "2 B  E  2 \n",
       "3 C  F  3 "
      ]
     },
     "metadata": {},
     "output_type": "display_data"
    }
   ],
   "source": [
    "letters_frame <-  data.frame(A1 = c(\"A\", \"B\", \"C\"),\n",
    "                            A2 = c(\"D\", \"E\", \"F\"))\n",
    "letters_frame\n",
    "\n",
    "A3 = c(1, 2, 3)\n",
    "cbind(letters_frame, A3)"
   ]
  },
  {
   "cell_type": "markdown",
   "metadata": {},
   "source": [
    "`rbind()` adds new row"
   ]
  },
  {
   "cell_type": "code",
   "execution_count": 57,
   "metadata": {},
   "outputs": [
    {
     "data": {
      "text/html": [
       "<table class=\"dataframe\">\n",
       "<caption>A data.frame: 3 × 2</caption>\n",
       "<thead>\n",
       "\t<tr><th scope=col>A1</th><th scope=col>A2</th></tr>\n",
       "\t<tr><th scope=col>&lt;chr&gt;</th><th scope=col>&lt;int&gt;</th></tr>\n",
       "</thead>\n",
       "<tbody>\n",
       "\t<tr><td>A</td><td>1</td></tr>\n",
       "\t<tr><td>B</td><td>2</td></tr>\n",
       "\t<tr><td>C</td><td>3</td></tr>\n",
       "</tbody>\n",
       "</table>\n"
      ],
      "text/latex": [
       "A data.frame: 3 × 2\n",
       "\\begin{tabular}{ll}\n",
       " A1 & A2\\\\\n",
       " <chr> & <int>\\\\\n",
       "\\hline\n",
       "\t A & 1\\\\\n",
       "\t B & 2\\\\\n",
       "\t C & 3\\\\\n",
       "\\end{tabular}\n"
      ],
      "text/markdown": [
       "\n",
       "A data.frame: 3 × 2\n",
       "\n",
       "| A1 &lt;chr&gt; | A2 &lt;int&gt; |\n",
       "|---|---|\n",
       "| A | 1 |\n",
       "| B | 2 |\n",
       "| C | 3 |\n",
       "\n"
      ],
      "text/plain": [
       "  A1 A2\n",
       "1 A  1 \n",
       "2 B  2 \n",
       "3 C  3 "
      ]
     },
     "metadata": {},
     "output_type": "display_data"
    },
    {
     "data": {
      "text/html": [
       "<table class=\"dataframe\">\n",
       "<caption>A data.frame: 4 × 2</caption>\n",
       "<thead>\n",
       "\t<tr><th scope=col>A1</th><th scope=col>A2</th></tr>\n",
       "\t<tr><th scope=col>&lt;chr&gt;</th><th scope=col>&lt;chr&gt;</th></tr>\n",
       "</thead>\n",
       "<tbody>\n",
       "\t<tr><td>A</td><td>1</td></tr>\n",
       "\t<tr><td>B</td><td>2</td></tr>\n",
       "\t<tr><td>C</td><td>3</td></tr>\n",
       "\t<tr><td>D</td><td>4</td></tr>\n",
       "</tbody>\n",
       "</table>\n"
      ],
      "text/latex": [
       "A data.frame: 4 × 2\n",
       "\\begin{tabular}{ll}\n",
       " A1 & A2\\\\\n",
       " <chr> & <chr>\\\\\n",
       "\\hline\n",
       "\t A & 1\\\\\n",
       "\t B & 2\\\\\n",
       "\t C & 3\\\\\n",
       "\t D & 4\\\\\n",
       "\\end{tabular}\n"
      ],
      "text/markdown": [
       "\n",
       "A data.frame: 4 × 2\n",
       "\n",
       "| A1 &lt;chr&gt; | A2 &lt;chr&gt; |\n",
       "|---|---|\n",
       "| A | 1 |\n",
       "| B | 2 |\n",
       "| C | 3 |\n",
       "| D | 4 |\n",
       "\n"
      ],
      "text/plain": [
       "  A1 A2\n",
       "1 A  1 \n",
       "2 B  2 \n",
       "3 C  3 \n",
       "4 D  4 "
      ]
     },
     "metadata": {},
     "output_type": "display_data"
    }
   ],
   "source": [
    "letters_frame <-  data.frame(A1 = c(\"A\", \"B\", \"C\"),\n",
    "                            A2 = 1:3)\n",
    "letters_frame\n",
    "\n",
    "next_row = c(\"D\", 4) # data types by row should be the same as in initial data frame\n",
    "rbind(letters_frame, next_row)"
   ]
  },
  {
   "cell_type": "markdown",
   "metadata": {},
   "source": [
    "If you have two data frames with the same key, but it ordered in different way and you cannot use `cbind()` try `merge()`:"
   ]
  },
  {
   "cell_type": "code",
   "execution_count": 62,
   "metadata": {},
   "outputs": [
    {
     "data": {
      "text/html": [
       "<table class=\"dataframe\">\n",
       "<caption>A data.frame: 3 × 2</caption>\n",
       "<thead>\n",
       "\t<tr><th scope=col>Id</th><th scope=col>Name</th></tr>\n",
       "\t<tr><th scope=col>&lt;int&gt;</th><th scope=col>&lt;chr&gt;</th></tr>\n",
       "</thead>\n",
       "<tbody>\n",
       "\t<tr><td>1</td><td>Nick</td></tr>\n",
       "\t<tr><td>2</td><td>Jake</td></tr>\n",
       "\t<tr><td>3</td><td>Jane</td></tr>\n",
       "</tbody>\n",
       "</table>\n"
      ],
      "text/latex": [
       "A data.frame: 3 × 2\n",
       "\\begin{tabular}{ll}\n",
       " Id & Name\\\\\n",
       " <int> & <chr>\\\\\n",
       "\\hline\n",
       "\t 1 & Nick\\\\\n",
       "\t 2 & Jake\\\\\n",
       "\t 3 & Jane\\\\\n",
       "\\end{tabular}\n"
      ],
      "text/markdown": [
       "\n",
       "A data.frame: 3 × 2\n",
       "\n",
       "| Id &lt;int&gt; | Name &lt;chr&gt; |\n",
       "|---|---|\n",
       "| 1 | Nick |\n",
       "| 2 | Jake |\n",
       "| 3 | Jane |\n",
       "\n"
      ],
      "text/plain": [
       "  Id Name\n",
       "1 1  Nick\n",
       "2 2  Jake\n",
       "3 3  Jane"
      ]
     },
     "metadata": {},
     "output_type": "display_data"
    },
    {
     "data": {
      "text/html": [
       "<table class=\"dataframe\">\n",
       "<caption>A data.frame: 3 × 2</caption>\n",
       "<thead>\n",
       "\t<tr><th scope=col>Id</th><th scope=col>Age</th></tr>\n",
       "\t<tr><th scope=col>&lt;dbl&gt;</th><th scope=col>&lt;dbl&gt;</th></tr>\n",
       "</thead>\n",
       "<tbody>\n",
       "\t<tr><td>2</td><td>34</td></tr>\n",
       "\t<tr><td>1</td><td>21</td></tr>\n",
       "\t<tr><td>3</td><td>45</td></tr>\n",
       "</tbody>\n",
       "</table>\n"
      ],
      "text/latex": [
       "A data.frame: 3 × 2\n",
       "\\begin{tabular}{ll}\n",
       " Id & Age\\\\\n",
       " <dbl> & <dbl>\\\\\n",
       "\\hline\n",
       "\t 2 & 34\\\\\n",
       "\t 1 & 21\\\\\n",
       "\t 3 & 45\\\\\n",
       "\\end{tabular}\n"
      ],
      "text/markdown": [
       "\n",
       "A data.frame: 3 × 2\n",
       "\n",
       "| Id &lt;dbl&gt; | Age &lt;dbl&gt; |\n",
       "|---|---|\n",
       "| 2 | 34 |\n",
       "| 1 | 21 |\n",
       "| 3 | 45 |\n",
       "\n"
      ],
      "text/plain": [
       "  Id Age\n",
       "1 2  34 \n",
       "2 1  21 \n",
       "3 3  45 "
      ]
     },
     "metadata": {},
     "output_type": "display_data"
    },
    {
     "data": {
      "text/html": [
       "<table class=\"dataframe\">\n",
       "<caption>A data.frame: 3 × 3</caption>\n",
       "<thead>\n",
       "\t<tr><th scope=col>Id</th><th scope=col>Name</th><th scope=col>Age</th></tr>\n",
       "\t<tr><th scope=col>&lt;int&gt;</th><th scope=col>&lt;chr&gt;</th><th scope=col>&lt;dbl&gt;</th></tr>\n",
       "</thead>\n",
       "<tbody>\n",
       "\t<tr><td>1</td><td>Nick</td><td>21</td></tr>\n",
       "\t<tr><td>2</td><td>Jake</td><td>34</td></tr>\n",
       "\t<tr><td>3</td><td>Jane</td><td>45</td></tr>\n",
       "</tbody>\n",
       "</table>\n"
      ],
      "text/latex": [
       "A data.frame: 3 × 3\n",
       "\\begin{tabular}{lll}\n",
       " Id & Name & Age\\\\\n",
       " <int> & <chr> & <dbl>\\\\\n",
       "\\hline\n",
       "\t 1 & Nick & 21\\\\\n",
       "\t 2 & Jake & 34\\\\\n",
       "\t 3 & Jane & 45\\\\\n",
       "\\end{tabular}\n"
      ],
      "text/markdown": [
       "\n",
       "A data.frame: 3 × 3\n",
       "\n",
       "| Id &lt;int&gt; | Name &lt;chr&gt; | Age &lt;dbl&gt; |\n",
       "|---|---|---|\n",
       "| 1 | Nick | 21 |\n",
       "| 2 | Jake | 34 |\n",
       "| 3 | Jane | 45 |\n",
       "\n"
      ],
      "text/plain": [
       "  Id Name Age\n",
       "1 1  Nick 21 \n",
       "2 2  Jake 34 \n",
       "3 3  Jane 45 "
      ]
     },
     "metadata": {},
     "output_type": "display_data"
    }
   ],
   "source": [
    "df1 <- data.frame(Id = c(1:3),\n",
    "                  Name = c(\"Nick\", \"Jake\", \"Jane\"))\n",
    "df1\n",
    "\n",
    "df2 <- data.frame(Id = c(2, 1, 3), # defferent order from Id in df1\n",
    "                  Age = c(34, 21, 45))\n",
    "df2\n",
    "\n",
    "df_final <- merge(df1, df2, by = \"Id\")\n",
    "df_final"
   ]
  },
  {
   "cell_type": "markdown",
   "metadata": {},
   "source": [
    "---"
   ]
  },
  {
   "cell_type": "markdown",
   "metadata": {},
   "source": [
    "## Subsetting Data Frames"
   ]
  },
  {
   "cell_type": "markdown",
   "metadata": {},
   "source": [
    "Data frames possess the characteristics of both lists and matrices: if you subset with a single vector, they behave like lists and will return the selected columns with all rows; if you subset with two vectors, they behave like matrices and can be subset by row and column:"
   ]
  },
  {
   "cell_type": "code",
   "execution_count": 69,
   "metadata": {},
   "outputs": [
    {
     "data": {
      "text/html": [
       "<table class=\"dataframe\">\n",
       "<caption>A data.frame: 5 × 4</caption>\n",
       "<thead>\n",
       "\t<tr><th></th><th scope=col>int_col</th><th scope=col>char_col</th><th scope=col>log_col</th><th scope=col>double_col</th></tr>\n",
       "\t<tr><th></th><th scope=col>&lt;int&gt;</th><th scope=col>&lt;fct&gt;</th><th scope=col>&lt;lgl&gt;</th><th scope=col>&lt;dbl&gt;</th></tr>\n",
       "</thead>\n",
       "<tbody>\n",
       "\t<tr><th scope=row>row_1</th><td>1</td><td>a</td><td> TRUE</td><td> 2.100000</td></tr>\n",
       "\t<tr><th scope=row>row_2</th><td>2</td><td>b</td><td> TRUE</td><td> 1.000000</td></tr>\n",
       "\t<tr><th scope=row>row_3</th><td>3</td><td>c</td><td> TRUE</td><td> 0.500000</td></tr>\n",
       "\t<tr><th scope=row>row_4</th><td>4</td><td>d</td><td>FALSE</td><td> 3.141593</td></tr>\n",
       "\t<tr><th scope=row>row_5</th><td>5</td><td>e</td><td> TRUE</td><td>12.700000</td></tr>\n",
       "</tbody>\n",
       "</table>\n"
      ],
      "text/latex": [
       "A data.frame: 5 × 4\n",
       "\\begin{tabular}{r|llll}\n",
       "  & int\\_col & char\\_col & log\\_col & double\\_col\\\\\n",
       "  & <int> & <fct> & <lgl> & <dbl>\\\\\n",
       "\\hline\n",
       "\trow\\_1 & 1 & a &  TRUE &  2.100000\\\\\n",
       "\trow\\_2 & 2 & b &  TRUE &  1.000000\\\\\n",
       "\trow\\_3 & 3 & c &  TRUE &  0.500000\\\\\n",
       "\trow\\_4 & 4 & d & FALSE &  3.141593\\\\\n",
       "\trow\\_5 & 5 & e &  TRUE & 12.700000\\\\\n",
       "\\end{tabular}\n"
      ],
      "text/markdown": [
       "\n",
       "A data.frame: 5 × 4\n",
       "\n",
       "| <!--/--> | int_col &lt;int&gt; | char_col &lt;fct&gt; | log_col &lt;lgl&gt; | double_col &lt;dbl&gt; |\n",
       "|---|---|---|---|---|\n",
       "| row_1 | 1 | a |  TRUE |  2.100000 |\n",
       "| row_2 | 2 | b |  TRUE |  1.000000 |\n",
       "| row_3 | 3 | c |  TRUE |  0.500000 |\n",
       "| row_4 | 4 | d | FALSE |  3.141593 |\n",
       "| row_5 | 5 | e |  TRUE | 12.700000 |\n",
       "\n"
      ],
      "text/plain": [
       "      int_col char_col log_col double_col\n",
       "row_1 1       a         TRUE    2.100000 \n",
       "row_2 2       b         TRUE    1.000000 \n",
       "row_3 3       c         TRUE    0.500000 \n",
       "row_4 4       d        FALSE    3.141593 \n",
       "row_5 5       e         TRUE   12.700000 "
      ]
     },
     "metadata": {},
     "output_type": "display_data"
    }
   ],
   "source": [
    "df <- data.frame(int_col = 1:5,\n",
    "                char_col = c(\"a\", \"b\", \"c\", \"d\", \"e\"),\n",
    "                log_col = c(T,T,T,F,T),\n",
    "                double_col = c(2.1, 1, 0.5, pi, 12.7),\n",
    "                row.names = paste0(\"row_\", 1:5), # setting row names \n",
    "                stringsAsFactors = TRUE) # warning it depends on local settings of R\n",
    "df"
   ]
  },
  {
   "cell_type": "code",
   "execution_count": 73,
   "metadata": {},
   "outputs": [
    {
     "data": {
      "text/html": [
       "<table class=\"dataframe\">\n",
       "<caption>A data.frame: 2 × 4</caption>\n",
       "<thead>\n",
       "\t<tr><th></th><th scope=col>int_col</th><th scope=col>char_col</th><th scope=col>log_col</th><th scope=col>double_col</th></tr>\n",
       "\t<tr><th></th><th scope=col>&lt;int&gt;</th><th scope=col>&lt;fct&gt;</th><th scope=col>&lt;lgl&gt;</th><th scope=col>&lt;dbl&gt;</th></tr>\n",
       "</thead>\n",
       "<tbody>\n",
       "\t<tr><th scope=row>row_3</th><td>3</td><td>c</td><td> TRUE</td><td>0.500000</td></tr>\n",
       "\t<tr><th scope=row>row_4</th><td>4</td><td>d</td><td>FALSE</td><td>3.141593</td></tr>\n",
       "</tbody>\n",
       "</table>\n"
      ],
      "text/latex": [
       "A data.frame: 2 × 4\n",
       "\\begin{tabular}{r|llll}\n",
       "  & int\\_col & char\\_col & log\\_col & double\\_col\\\\\n",
       "  & <int> & <fct> & <lgl> & <dbl>\\\\\n",
       "\\hline\n",
       "\trow\\_3 & 3 & c &  TRUE & 0.500000\\\\\n",
       "\trow\\_4 & 4 & d & FALSE & 3.141593\\\\\n",
       "\\end{tabular}\n"
      ],
      "text/markdown": [
       "\n",
       "A data.frame: 2 × 4\n",
       "\n",
       "| <!--/--> | int_col &lt;int&gt; | char_col &lt;fct&gt; | log_col &lt;lgl&gt; | double_col &lt;dbl&gt; |\n",
       "|---|---|---|---|---|\n",
       "| row_3 | 3 | c |  TRUE | 0.500000 |\n",
       "| row_4 | 4 | d | FALSE | 3.141593 |\n",
       "\n"
      ],
      "text/plain": [
       "      int_col char_col log_col double_col\n",
       "row_3 3       c         TRUE   0.500000  \n",
       "row_4 4       d        FALSE   3.141593  "
      ]
     },
     "metadata": {},
     "output_type": "display_data"
    }
   ],
   "source": [
    "# subsetting by row numbers\n",
    "df[3:4, ] # missing in columns dimmension means ALL"
   ]
  },
  {
   "cell_type": "code",
   "execution_count": 74,
   "metadata": {},
   "outputs": [
    {
     "data": {
      "text/html": [
       "<table class=\"dataframe\">\n",
       "<caption>A data.frame: 3 × 4</caption>\n",
       "<thead>\n",
       "\t<tr><th></th><th scope=col>int_col</th><th scope=col>char_col</th><th scope=col>log_col</th><th scope=col>double_col</th></tr>\n",
       "\t<tr><th></th><th scope=col>&lt;int&gt;</th><th scope=col>&lt;fct&gt;</th><th scope=col>&lt;lgl&gt;</th><th scope=col>&lt;dbl&gt;</th></tr>\n",
       "</thead>\n",
       "<tbody>\n",
       "\t<tr><th scope=row>row_1</th><td>1</td><td>a</td><td>TRUE</td><td> 2.1</td></tr>\n",
       "\t<tr><th scope=row>row_2</th><td>2</td><td>b</td><td>TRUE</td><td> 1.0</td></tr>\n",
       "\t<tr><th scope=row>row_5</th><td>5</td><td>e</td><td>TRUE</td><td>12.7</td></tr>\n",
       "</tbody>\n",
       "</table>\n"
      ],
      "text/latex": [
       "A data.frame: 3 × 4\n",
       "\\begin{tabular}{r|llll}\n",
       "  & int\\_col & char\\_col & log\\_col & double\\_col\\\\\n",
       "  & <int> & <fct> & <lgl> & <dbl>\\\\\n",
       "\\hline\n",
       "\trow\\_1 & 1 & a & TRUE &  2.1\\\\\n",
       "\trow\\_2 & 2 & b & TRUE &  1.0\\\\\n",
       "\trow\\_5 & 5 & e & TRUE & 12.7\\\\\n",
       "\\end{tabular}\n"
      ],
      "text/markdown": [
       "\n",
       "A data.frame: 3 × 4\n",
       "\n",
       "| <!--/--> | int_col &lt;int&gt; | char_col &lt;fct&gt; | log_col &lt;lgl&gt; | double_col &lt;dbl&gt; |\n",
       "|---|---|---|---|---|\n",
       "| row_1 | 1 | a | TRUE |  2.1 |\n",
       "| row_2 | 2 | b | TRUE |  1.0 |\n",
       "| row_5 | 5 | e | TRUE | 12.7 |\n",
       "\n"
      ],
      "text/plain": [
       "      int_col char_col log_col double_col\n",
       "row_1 1       a        TRUE     2.1      \n",
       "row_2 2       b        TRUE     1.0      \n",
       "row_5 5       e        TRUE    12.7      "
      ]
     },
     "metadata": {},
     "output_type": "display_data"
    }
   ],
   "source": [
    "# subsetting by row numbers with minus - removing rows\n",
    "df[-c(3:4), ]"
   ]
  },
  {
   "cell_type": "code",
   "execution_count": 75,
   "metadata": {},
   "outputs": [
    {
     "data": {
      "text/html": [
       "<table class=\"dataframe\">\n",
       "<caption>A data.frame: 2 × 4</caption>\n",
       "<thead>\n",
       "\t<tr><th></th><th scope=col>int_col</th><th scope=col>char_col</th><th scope=col>log_col</th><th scope=col>double_col</th></tr>\n",
       "\t<tr><th></th><th scope=col>&lt;int&gt;</th><th scope=col>&lt;fct&gt;</th><th scope=col>&lt;lgl&gt;</th><th scope=col>&lt;dbl&gt;</th></tr>\n",
       "</thead>\n",
       "<tbody>\n",
       "\t<tr><th scope=row>row_4</th><td>4</td><td>d</td><td>FALSE</td><td> 3.141593</td></tr>\n",
       "\t<tr><th scope=row>row_5</th><td>5</td><td>e</td><td> TRUE</td><td>12.700000</td></tr>\n",
       "</tbody>\n",
       "</table>\n"
      ],
      "text/latex": [
       "A data.frame: 2 × 4\n",
       "\\begin{tabular}{r|llll}\n",
       "  & int\\_col & char\\_col & log\\_col & double\\_col\\\\\n",
       "  & <int> & <fct> & <lgl> & <dbl>\\\\\n",
       "\\hline\n",
       "\trow\\_4 & 4 & d & FALSE &  3.141593\\\\\n",
       "\trow\\_5 & 5 & e &  TRUE & 12.700000\\\\\n",
       "\\end{tabular}\n"
      ],
      "text/markdown": [
       "\n",
       "A data.frame: 2 × 4\n",
       "\n",
       "| <!--/--> | int_col &lt;int&gt; | char_col &lt;fct&gt; | log_col &lt;lgl&gt; | double_col &lt;dbl&gt; |\n",
       "|---|---|---|---|---|\n",
       "| row_4 | 4 | d | FALSE |  3.141593 |\n",
       "| row_5 | 5 | e |  TRUE | 12.700000 |\n",
       "\n"
      ],
      "text/plain": [
       "      int_col char_col log_col double_col\n",
       "row_4 4       d        FALSE    3.141593 \n",
       "row_5 5       e         TRUE   12.700000 "
      ]
     },
     "metadata": {},
     "output_type": "display_data"
    }
   ],
   "source": [
    "# subsetting by row names\n",
    "df[c(\"row_4\", \"row_5\"), ]"
   ]
  },
  {
   "cell_type": "code",
   "execution_count": 78,
   "metadata": {},
   "outputs": [
    {
     "data": {
      "text/html": [
       "<table class=\"dataframe\">\n",
       "<caption>A data.frame: 5 × 2</caption>\n",
       "<thead>\n",
       "\t<tr><th></th><th scope=col>log_col</th><th scope=col>double_col</th></tr>\n",
       "\t<tr><th></th><th scope=col>&lt;lgl&gt;</th><th scope=col>&lt;dbl&gt;</th></tr>\n",
       "</thead>\n",
       "<tbody>\n",
       "\t<tr><th scope=row>row_1</th><td> TRUE</td><td> 2.100000</td></tr>\n",
       "\t<tr><th scope=row>row_2</th><td> TRUE</td><td> 1.000000</td></tr>\n",
       "\t<tr><th scope=row>row_3</th><td> TRUE</td><td> 0.500000</td></tr>\n",
       "\t<tr><th scope=row>row_4</th><td>FALSE</td><td> 3.141593</td></tr>\n",
       "\t<tr><th scope=row>row_5</th><td> TRUE</td><td>12.700000</td></tr>\n",
       "</tbody>\n",
       "</table>\n"
      ],
      "text/latex": [
       "A data.frame: 5 × 2\n",
       "\\begin{tabular}{r|ll}\n",
       "  & log\\_col & double\\_col\\\\\n",
       "  & <lgl> & <dbl>\\\\\n",
       "\\hline\n",
       "\trow\\_1 &  TRUE &  2.100000\\\\\n",
       "\trow\\_2 &  TRUE &  1.000000\\\\\n",
       "\trow\\_3 &  TRUE &  0.500000\\\\\n",
       "\trow\\_4 & FALSE &  3.141593\\\\\n",
       "\trow\\_5 &  TRUE & 12.700000\\\\\n",
       "\\end{tabular}\n"
      ],
      "text/markdown": [
       "\n",
       "A data.frame: 5 × 2\n",
       "\n",
       "| <!--/--> | log_col &lt;lgl&gt; | double_col &lt;dbl&gt; |\n",
       "|---|---|---|\n",
       "| row_1 |  TRUE |  2.100000 |\n",
       "| row_2 |  TRUE |  1.000000 |\n",
       "| row_3 |  TRUE |  0.500000 |\n",
       "| row_4 | FALSE |  3.141593 |\n",
       "| row_5 |  TRUE | 12.700000 |\n",
       "\n"
      ],
      "text/plain": [
       "      log_col double_col\n",
       "row_1  TRUE    2.100000 \n",
       "row_2  TRUE    1.000000 \n",
       "row_3  TRUE    0.500000 \n",
       "row_4 FALSE    3.141593 \n",
       "row_5  TRUE   12.700000 "
      ]
     },
     "metadata": {},
     "output_type": "display_data"
    }
   ],
   "source": [
    "# subsetting columns like a list\n",
    "df[c(\"log_col\", \"double_col\")]"
   ]
  },
  {
   "cell_type": "code",
   "execution_count": 81,
   "metadata": {},
   "outputs": [
    {
     "data": {
      "text/html": [
       "<table class=\"dataframe\">\n",
       "<caption>A data.frame: 4 × 3</caption>\n",
       "<thead>\n",
       "\t<tr><th></th><th scope=col>int_col</th><th scope=col>log_col</th><th scope=col>double_col</th></tr>\n",
       "\t<tr><th></th><th scope=col>&lt;int&gt;</th><th scope=col>&lt;lgl&gt;</th><th scope=col>&lt;dbl&gt;</th></tr>\n",
       "</thead>\n",
       "<tbody>\n",
       "\t<tr><th scope=row>row_2</th><td>2</td><td> TRUE</td><td> 1.000000</td></tr>\n",
       "\t<tr><th scope=row>row_3</th><td>3</td><td> TRUE</td><td> 0.500000</td></tr>\n",
       "\t<tr><th scope=row>row_4</th><td>4</td><td>FALSE</td><td> 3.141593</td></tr>\n",
       "\t<tr><th scope=row>row_5</th><td>5</td><td> TRUE</td><td>12.700000</td></tr>\n",
       "</tbody>\n",
       "</table>\n"
      ],
      "text/latex": [
       "A data.frame: 4 × 3\n",
       "\\begin{tabular}{r|lll}\n",
       "  & int\\_col & log\\_col & double\\_col\\\\\n",
       "  & <int> & <lgl> & <dbl>\\\\\n",
       "\\hline\n",
       "\trow\\_2 & 2 &  TRUE &  1.000000\\\\\n",
       "\trow\\_3 & 3 &  TRUE &  0.500000\\\\\n",
       "\trow\\_4 & 4 & FALSE &  3.141593\\\\\n",
       "\trow\\_5 & 5 &  TRUE & 12.700000\\\\\n",
       "\\end{tabular}\n"
      ],
      "text/markdown": [
       "\n",
       "A data.frame: 4 × 3\n",
       "\n",
       "| <!--/--> | int_col &lt;int&gt; | log_col &lt;lgl&gt; | double_col &lt;dbl&gt; |\n",
       "|---|---|---|---|\n",
       "| row_2 | 2 |  TRUE |  1.000000 |\n",
       "| row_3 | 3 |  TRUE |  0.500000 |\n",
       "| row_4 | 4 | FALSE |  3.141593 |\n",
       "| row_5 | 5 |  TRUE | 12.700000 |\n",
       "\n"
      ],
      "text/plain": [
       "      int_col log_col double_col\n",
       "row_2 2        TRUE    1.000000 \n",
       "row_3 3        TRUE    0.500000 \n",
       "row_4 4       FALSE    3.141593 \n",
       "row_5 5        TRUE   12.700000 "
      ]
     },
     "metadata": {},
     "output_type": "display_data"
    }
   ],
   "source": [
    "# subset for both rows and columns\n",
    "df[2:5, c(1, 3:4)]"
   ]
  },
  {
   "cell_type": "code",
   "execution_count": 84,
   "metadata": {},
   "outputs": [
    {
     "data": {
      "text/html": [
       "<table class=\"dataframe\">\n",
       "<caption>A data.frame: 5 × 3</caption>\n",
       "<thead>\n",
       "\t<tr><th></th><th scope=col>int_col</th><th scope=col>log_col</th><th scope=col>double_col</th></tr>\n",
       "\t<tr><th></th><th scope=col>&lt;int&gt;</th><th scope=col>&lt;lgl&gt;</th><th scope=col>&lt;dbl&gt;</th></tr>\n",
       "</thead>\n",
       "<tbody>\n",
       "\t<tr><th scope=row>row_1</th><td>1</td><td> TRUE</td><td> 2.100000</td></tr>\n",
       "\t<tr><th scope=row>row_2</th><td>2</td><td> TRUE</td><td> 1.000000</td></tr>\n",
       "\t<tr><th scope=row>row_3</th><td>3</td><td> TRUE</td><td> 0.500000</td></tr>\n",
       "\t<tr><th scope=row>row_4</th><td>4</td><td>FALSE</td><td> 3.141593</td></tr>\n",
       "\t<tr><th scope=row>row_5</th><td>5</td><td> TRUE</td><td>12.700000</td></tr>\n",
       "</tbody>\n",
       "</table>\n"
      ],
      "text/latex": [
       "A data.frame: 5 × 3\n",
       "\\begin{tabular}{r|lll}\n",
       "  & int\\_col & log\\_col & double\\_col\\\\\n",
       "  & <int> & <lgl> & <dbl>\\\\\n",
       "\\hline\n",
       "\trow\\_1 & 1 &  TRUE &  2.100000\\\\\n",
       "\trow\\_2 & 2 &  TRUE &  1.000000\\\\\n",
       "\trow\\_3 & 3 &  TRUE &  0.500000\\\\\n",
       "\trow\\_4 & 4 & FALSE &  3.141593\\\\\n",
       "\trow\\_5 & 5 &  TRUE & 12.700000\\\\\n",
       "\\end{tabular}\n"
      ],
      "text/markdown": [
       "\n",
       "A data.frame: 5 × 3\n",
       "\n",
       "| <!--/--> | int_col &lt;int&gt; | log_col &lt;lgl&gt; | double_col &lt;dbl&gt; |\n",
       "|---|---|---|---|\n",
       "| row_1 | 1 |  TRUE |  2.100000 |\n",
       "| row_2 | 2 |  TRUE |  1.000000 |\n",
       "| row_3 | 3 |  TRUE |  0.500000 |\n",
       "| row_4 | 4 | FALSE |  3.141593 |\n",
       "| row_5 | 5 |  TRUE | 12.700000 |\n",
       "\n"
      ],
      "text/plain": [
       "      int_col log_col double_col\n",
       "row_1 1        TRUE    2.100000 \n",
       "row_2 2        TRUE    1.000000 \n",
       "row_3 3        TRUE    0.500000 \n",
       "row_4 4       FALSE    3.141593 \n",
       "row_5 5        TRUE   12.700000 "
      ]
     },
     "metadata": {},
     "output_type": "display_data"
    }
   ],
   "source": [
    "# use a vector to subset\n",
    "vctr <- c(1, 3:4)\n",
    "df[ , vctr]"
   ]
  },
  {
   "cell_type": "markdown",
   "metadata": {},
   "source": [
    "**You can also subset data frames based on conditional statements**"
   ]
  },
  {
   "cell_type": "code",
   "execution_count": 88,
   "metadata": {},
   "outputs": [
    {
     "data": {
      "text/html": [
       "<table class=\"dataframe\">\n",
       "<caption>A data.frame: 4 × 4</caption>\n",
       "<thead>\n",
       "\t<tr><th></th><th scope=col>int_col</th><th scope=col>char_col</th><th scope=col>log_col</th><th scope=col>double_col</th></tr>\n",
       "\t<tr><th></th><th scope=col>&lt;int&gt;</th><th scope=col>&lt;fct&gt;</th><th scope=col>&lt;lgl&gt;</th><th scope=col>&lt;dbl&gt;</th></tr>\n",
       "</thead>\n",
       "<tbody>\n",
       "\t<tr><th scope=row>row_1</th><td>1</td><td>a</td><td>TRUE</td><td> 2.1</td></tr>\n",
       "\t<tr><th scope=row>row_2</th><td>2</td><td>b</td><td>TRUE</td><td> 1.0</td></tr>\n",
       "\t<tr><th scope=row>row_3</th><td>3</td><td>c</td><td>TRUE</td><td> 0.5</td></tr>\n",
       "\t<tr><th scope=row>row_5</th><td>5</td><td>e</td><td>TRUE</td><td>12.7</td></tr>\n",
       "</tbody>\n",
       "</table>\n"
      ],
      "text/latex": [
       "A data.frame: 4 × 4\n",
       "\\begin{tabular}{r|llll}\n",
       "  & int\\_col & char\\_col & log\\_col & double\\_col\\\\\n",
       "  & <int> & <fct> & <lgl> & <dbl>\\\\\n",
       "\\hline\n",
       "\trow\\_1 & 1 & a & TRUE &  2.1\\\\\n",
       "\trow\\_2 & 2 & b & TRUE &  1.0\\\\\n",
       "\trow\\_3 & 3 & c & TRUE &  0.5\\\\\n",
       "\trow\\_5 & 5 & e & TRUE & 12.7\\\\\n",
       "\\end{tabular}\n"
      ],
      "text/markdown": [
       "\n",
       "A data.frame: 4 × 4\n",
       "\n",
       "| <!--/--> | int_col &lt;int&gt; | char_col &lt;fct&gt; | log_col &lt;lgl&gt; | double_col &lt;dbl&gt; |\n",
       "|---|---|---|---|---|\n",
       "| row_1 | 1 | a | TRUE |  2.1 |\n",
       "| row_2 | 2 | b | TRUE |  1.0 |\n",
       "| row_3 | 3 | c | TRUE |  0.5 |\n",
       "| row_5 | 5 | e | TRUE | 12.7 |\n",
       "\n"
      ],
      "text/plain": [
       "      int_col char_col log_col double_col\n",
       "row_1 1       a        TRUE     2.1      \n",
       "row_2 2       b        TRUE     1.0      \n",
       "row_3 3       c        TRUE     0.5      \n",
       "row_5 5       e        TRUE    12.7      "
      ]
     },
     "metadata": {},
     "output_type": "display_data"
    }
   ],
   "source": [
    "# select only with log_col == TRUE\n",
    "df[df$log_col == TRUE,]"
   ]
  },
  {
   "cell_type": "code",
   "execution_count": 91,
   "metadata": {},
   "outputs": [
    {
     "data": {
      "text/html": [
       "<table class=\"dataframe\">\n",
       "<caption>A data.frame: 3 × 4</caption>\n",
       "<thead>\n",
       "\t<tr><th></th><th scope=col>int_col</th><th scope=col>char_col</th><th scope=col>log_col</th><th scope=col>double_col</th></tr>\n",
       "\t<tr><th></th><th scope=col>&lt;int&gt;</th><th scope=col>&lt;fct&gt;</th><th scope=col>&lt;lgl&gt;</th><th scope=col>&lt;dbl&gt;</th></tr>\n",
       "</thead>\n",
       "<tbody>\n",
       "\t<tr><th scope=row>row_1</th><td>1</td><td>a</td><td> TRUE</td><td> 2.100000</td></tr>\n",
       "\t<tr><th scope=row>row_4</th><td>4</td><td>d</td><td>FALSE</td><td> 3.141593</td></tr>\n",
       "\t<tr><th scope=row>row_5</th><td>5</td><td>e</td><td> TRUE</td><td>12.700000</td></tr>\n",
       "</tbody>\n",
       "</table>\n"
      ],
      "text/latex": [
       "A data.frame: 3 × 4\n",
       "\\begin{tabular}{r|llll}\n",
       "  & int\\_col & char\\_col & log\\_col & double\\_col\\\\\n",
       "  & <int> & <fct> & <lgl> & <dbl>\\\\\n",
       "\\hline\n",
       "\trow\\_1 & 1 & a &  TRUE &  2.100000\\\\\n",
       "\trow\\_4 & 4 & d & FALSE &  3.141593\\\\\n",
       "\trow\\_5 & 5 & e &  TRUE & 12.700000\\\\\n",
       "\\end{tabular}\n"
      ],
      "text/markdown": [
       "\n",
       "A data.frame: 3 × 4\n",
       "\n",
       "| <!--/--> | int_col &lt;int&gt; | char_col &lt;fct&gt; | log_col &lt;lgl&gt; | double_col &lt;dbl&gt; |\n",
       "|---|---|---|---|---|\n",
       "| row_1 | 1 | a |  TRUE |  2.100000 |\n",
       "| row_4 | 4 | d | FALSE |  3.141593 |\n",
       "| row_5 | 5 | e |  TRUE | 12.700000 |\n",
       "\n"
      ],
      "text/plain": [
       "      int_col char_col log_col double_col\n",
       "row_1 1       a         TRUE    2.100000 \n",
       "row_4 4       d        FALSE    3.141593 \n",
       "row_5 5       e         TRUE   12.700000 "
      ]
     },
     "metadata": {},
     "output_type": "display_data"
    }
   ],
   "source": [
    "# select only with double_col > 1\n",
    "df[df$double_col > 1, ]"
   ]
  },
  {
   "cell_type": "code",
   "execution_count": 94,
   "metadata": {},
   "outputs": [
    {
     "data": {
      "text/html": [
       "<table class=\"dataframe\">\n",
       "<caption>A data.frame: 2 × 4</caption>\n",
       "<thead>\n",
       "\t<tr><th></th><th scope=col>int_col</th><th scope=col>char_col</th><th scope=col>log_col</th><th scope=col>double_col</th></tr>\n",
       "\t<tr><th></th><th scope=col>&lt;int&gt;</th><th scope=col>&lt;fct&gt;</th><th scope=col>&lt;lgl&gt;</th><th scope=col>&lt;dbl&gt;</th></tr>\n",
       "</thead>\n",
       "<tbody>\n",
       "\t<tr><th scope=row>row_1</th><td>1</td><td>a</td><td>TRUE</td><td> 2.1</td></tr>\n",
       "\t<tr><th scope=row>row_5</th><td>5</td><td>e</td><td>TRUE</td><td>12.7</td></tr>\n",
       "</tbody>\n",
       "</table>\n"
      ],
      "text/latex": [
       "A data.frame: 2 × 4\n",
       "\\begin{tabular}{r|llll}\n",
       "  & int\\_col & char\\_col & log\\_col & double\\_col\\\\\n",
       "  & <int> & <fct> & <lgl> & <dbl>\\\\\n",
       "\\hline\n",
       "\trow\\_1 & 1 & a & TRUE &  2.1\\\\\n",
       "\trow\\_5 & 5 & e & TRUE & 12.7\\\\\n",
       "\\end{tabular}\n"
      ],
      "text/markdown": [
       "\n",
       "A data.frame: 2 × 4\n",
       "\n",
       "| <!--/--> | int_col &lt;int&gt; | char_col &lt;fct&gt; | log_col &lt;lgl&gt; | double_col &lt;dbl&gt; |\n",
       "|---|---|---|---|---|\n",
       "| row_1 | 1 | a | TRUE |  2.1 |\n",
       "| row_5 | 5 | e | TRUE | 12.7 |\n",
       "\n"
      ],
      "text/plain": [
       "      int_col char_col log_col double_col\n",
       "row_1 1       a        TRUE     2.1      \n",
       "row_5 5       e        TRUE    12.7      "
      ]
     },
     "metadata": {},
     "output_type": "display_data"
    }
   ],
   "source": [
    "# select only with char_col == 'a', 'e'\n",
    "df[df$char_col %in% c(\"a\", \"e\"), ] # %in% operator for check multuiple values"
   ]
  },
  {
   "cell_type": "code",
   "execution_count": 96,
   "metadata": {},
   "outputs": [
    {
     "data": {
      "text/html": [
       "<table class=\"dataframe\">\n",
       "<caption>A data.frame: 2 × 4</caption>\n",
       "<thead>\n",
       "\t<tr><th></th><th scope=col>int_col</th><th scope=col>char_col</th><th scope=col>log_col</th><th scope=col>double_col</th></tr>\n",
       "\t<tr><th></th><th scope=col>&lt;int&gt;</th><th scope=col>&lt;fct&gt;</th><th scope=col>&lt;lgl&gt;</th><th scope=col>&lt;dbl&gt;</th></tr>\n",
       "</thead>\n",
       "<tbody>\n",
       "\t<tr><th scope=row>row_1</th><td>1</td><td>a</td><td>TRUE</td><td> 2.1</td></tr>\n",
       "\t<tr><th scope=row>row_5</th><td>5</td><td>e</td><td>TRUE</td><td>12.7</td></tr>\n",
       "</tbody>\n",
       "</table>\n"
      ],
      "text/latex": [
       "A data.frame: 2 × 4\n",
       "\\begin{tabular}{r|llll}\n",
       "  & int\\_col & char\\_col & log\\_col & double\\_col\\\\\n",
       "  & <int> & <fct> & <lgl> & <dbl>\\\\\n",
       "\\hline\n",
       "\trow\\_1 & 1 & a & TRUE &  2.1\\\\\n",
       "\trow\\_5 & 5 & e & TRUE & 12.7\\\\\n",
       "\\end{tabular}\n"
      ],
      "text/markdown": [
       "\n",
       "A data.frame: 2 × 4\n",
       "\n",
       "| <!--/--> | int_col &lt;int&gt; | char_col &lt;fct&gt; | log_col &lt;lgl&gt; | double_col &lt;dbl&gt; |\n",
       "|---|---|---|---|---|\n",
       "| row_1 | 1 | a | TRUE |  2.1 |\n",
       "| row_5 | 5 | e | TRUE | 12.7 |\n",
       "\n"
      ],
      "text/plain": [
       "      int_col char_col log_col double_col\n",
       "row_1 1       a        TRUE     2.1      \n",
       "row_5 5       e        TRUE    12.7      "
      ]
     },
     "metadata": {},
     "output_type": "display_data"
    }
   ],
   "source": [
    "# select only with double_col > 1 and log_col == TRUE\n",
    "df[df$log_col == TRUE & df$double_col > 1, ]"
   ]
  },
  {
   "cell_type": "code",
   "execution_count": 99,
   "metadata": {},
   "outputs": [
    {
     "data": {
      "text/html": [
       "<table class=\"dataframe\">\n",
       "<caption>A data.frame: 2 × 3</caption>\n",
       "<thead>\n",
       "\t<tr><th></th><th scope=col>log_col</th><th scope=col>int_col</th><th scope=col>double_col</th></tr>\n",
       "\t<tr><th></th><th scope=col>&lt;lgl&gt;</th><th scope=col>&lt;int&gt;</th><th scope=col>&lt;dbl&gt;</th></tr>\n",
       "</thead>\n",
       "<tbody>\n",
       "\t<tr><th scope=row>row_1</th><td>TRUE</td><td>1</td><td> 2.1</td></tr>\n",
       "\t<tr><th scope=row>row_5</th><td>TRUE</td><td>5</td><td>12.7</td></tr>\n",
       "</tbody>\n",
       "</table>\n"
      ],
      "text/latex": [
       "A data.frame: 2 × 3\n",
       "\\begin{tabular}{r|lll}\n",
       "  & log\\_col & int\\_col & double\\_col\\\\\n",
       "  & <lgl> & <int> & <dbl>\\\\\n",
       "\\hline\n",
       "\trow\\_1 & TRUE & 1 &  2.1\\\\\n",
       "\trow\\_5 & TRUE & 5 & 12.7\\\\\n",
       "\\end{tabular}\n"
      ],
      "text/markdown": [
       "\n",
       "A data.frame: 2 × 3\n",
       "\n",
       "| <!--/--> | log_col &lt;lgl&gt; | int_col &lt;int&gt; | double_col &lt;dbl&gt; |\n",
       "|---|---|---|---|\n",
       "| row_1 | TRUE | 1 |  2.1 |\n",
       "| row_5 | TRUE | 5 | 12.7 |\n",
       "\n"
      ],
      "text/plain": [
       "      log_col int_col double_col\n",
       "row_1 TRUE    1        2.1      \n",
       "row_5 TRUE    5       12.7      "
      ]
     },
     "metadata": {},
     "output_type": "display_data"
    }
   ],
   "source": [
    "# select only specific columns with double_col > 1 and log_col == TRUE\n",
    "df[df$log_col == TRUE & df$double_col > 1, c(\"log_col\", \"int_col\", \"double_col\")]"
   ]
  },
  {
   "cell_type": "markdown",
   "metadata": {},
   "source": [
    "---"
   ]
  },
  {
   "cell_type": "markdown",
   "metadata": {},
   "source": [
    "### Order data.frame"
   ]
  },
  {
   "cell_type": "markdown",
   "metadata": {},
   "source": [
    "Let's use our previous sample `data.frame` but with unordered values:"
   ]
  },
  {
   "cell_type": "code",
   "execution_count": 106,
   "metadata": {},
   "outputs": [
    {
     "data": {
      "text/html": [
       "<table class=\"dataframe\">\n",
       "<caption>A data.frame: 5 × 4</caption>\n",
       "<thead>\n",
       "\t<tr><th></th><th scope=col>int_col</th><th scope=col>char_col</th><th scope=col>log_col</th><th scope=col>double_col</th></tr>\n",
       "\t<tr><th></th><th scope=col>&lt;dbl&gt;</th><th scope=col>&lt;fct&gt;</th><th scope=col>&lt;lgl&gt;</th><th scope=col>&lt;dbl&gt;</th></tr>\n",
       "</thead>\n",
       "<tbody>\n",
       "\t<tr><th scope=row>row_1</th><td>1</td><td>b</td><td> TRUE</td><td> 2.100000</td></tr>\n",
       "\t<tr><th scope=row>row_2</th><td>5</td><td>a</td><td> TRUE</td><td> 1.000000</td></tr>\n",
       "\t<tr><th scope=row>row_3</th><td>3</td><td>a</td><td> TRUE</td><td> 0.500000</td></tr>\n",
       "\t<tr><th scope=row>row_4</th><td>4</td><td>d</td><td>FALSE</td><td> 3.141593</td></tr>\n",
       "\t<tr><th scope=row>row_5</th><td>2</td><td>e</td><td> TRUE</td><td>12.700000</td></tr>\n",
       "</tbody>\n",
       "</table>\n"
      ],
      "text/latex": [
       "A data.frame: 5 × 4\n",
       "\\begin{tabular}{r|llll}\n",
       "  & int\\_col & char\\_col & log\\_col & double\\_col\\\\\n",
       "  & <dbl> & <fct> & <lgl> & <dbl>\\\\\n",
       "\\hline\n",
       "\trow\\_1 & 1 & b &  TRUE &  2.100000\\\\\n",
       "\trow\\_2 & 5 & a &  TRUE &  1.000000\\\\\n",
       "\trow\\_3 & 3 & a &  TRUE &  0.500000\\\\\n",
       "\trow\\_4 & 4 & d & FALSE &  3.141593\\\\\n",
       "\trow\\_5 & 2 & e &  TRUE & 12.700000\\\\\n",
       "\\end{tabular}\n"
      ],
      "text/markdown": [
       "\n",
       "A data.frame: 5 × 4\n",
       "\n",
       "| <!--/--> | int_col &lt;dbl&gt; | char_col &lt;fct&gt; | log_col &lt;lgl&gt; | double_col &lt;dbl&gt; |\n",
       "|---|---|---|---|---|\n",
       "| row_1 | 1 | b |  TRUE |  2.100000 |\n",
       "| row_2 | 5 | a |  TRUE |  1.000000 |\n",
       "| row_3 | 3 | a |  TRUE |  0.500000 |\n",
       "| row_4 | 4 | d | FALSE |  3.141593 |\n",
       "| row_5 | 2 | e |  TRUE | 12.700000 |\n",
       "\n"
      ],
      "text/plain": [
       "      int_col char_col log_col double_col\n",
       "row_1 1       b         TRUE    2.100000 \n",
       "row_2 5       a         TRUE    1.000000 \n",
       "row_3 3       a         TRUE    0.500000 \n",
       "row_4 4       d        FALSE    3.141593 \n",
       "row_5 2       e         TRUE   12.700000 "
      ]
     },
     "metadata": {},
     "output_type": "display_data"
    }
   ],
   "source": [
    "df <- data.frame(int_col = c(1, 5, 3, 4, 2),\n",
    "                char_col = c(\"b\", \"a\", \"a\", \"d\", \"e\"),\n",
    "                log_col = c(T,T,T,F,T),\n",
    "                double_col = c(2.1, 1, 0.5, pi, 12.7),\n",
    "                row.names = paste0(\"row_\", 1:5), # setting row names \n",
    "                stringsAsFactors = TRUE) # warning it depends on local settings of R\n",
    "df"
   ]
  },
  {
   "cell_type": "markdown",
   "metadata": {},
   "source": [
    "You can use `order()` function for sorting `data.frames`."
   ]
  },
  {
   "cell_type": "code",
   "execution_count": 108,
   "metadata": {},
   "outputs": [
    {
     "data": {
      "text/html": [
       "<table class=\"dataframe\">\n",
       "<caption>A data.frame: 5 × 4</caption>\n",
       "<thead>\n",
       "\t<tr><th></th><th scope=col>int_col</th><th scope=col>char_col</th><th scope=col>log_col</th><th scope=col>double_col</th></tr>\n",
       "\t<tr><th></th><th scope=col>&lt;dbl&gt;</th><th scope=col>&lt;fct&gt;</th><th scope=col>&lt;lgl&gt;</th><th scope=col>&lt;dbl&gt;</th></tr>\n",
       "</thead>\n",
       "<tbody>\n",
       "\t<tr><th scope=row>row_1</th><td>1</td><td>b</td><td> TRUE</td><td> 2.100000</td></tr>\n",
       "\t<tr><th scope=row>row_5</th><td>2</td><td>e</td><td> TRUE</td><td>12.700000</td></tr>\n",
       "\t<tr><th scope=row>row_3</th><td>3</td><td>a</td><td> TRUE</td><td> 0.500000</td></tr>\n",
       "\t<tr><th scope=row>row_4</th><td>4</td><td>d</td><td>FALSE</td><td> 3.141593</td></tr>\n",
       "\t<tr><th scope=row>row_2</th><td>5</td><td>a</td><td> TRUE</td><td> 1.000000</td></tr>\n",
       "</tbody>\n",
       "</table>\n"
      ],
      "text/latex": [
       "A data.frame: 5 × 4\n",
       "\\begin{tabular}{r|llll}\n",
       "  & int\\_col & char\\_col & log\\_col & double\\_col\\\\\n",
       "  & <dbl> & <fct> & <lgl> & <dbl>\\\\\n",
       "\\hline\n",
       "\trow\\_1 & 1 & b &  TRUE &  2.100000\\\\\n",
       "\trow\\_5 & 2 & e &  TRUE & 12.700000\\\\\n",
       "\trow\\_3 & 3 & a &  TRUE &  0.500000\\\\\n",
       "\trow\\_4 & 4 & d & FALSE &  3.141593\\\\\n",
       "\trow\\_2 & 5 & a &  TRUE &  1.000000\\\\\n",
       "\\end{tabular}\n"
      ],
      "text/markdown": [
       "\n",
       "A data.frame: 5 × 4\n",
       "\n",
       "| <!--/--> | int_col &lt;dbl&gt; | char_col &lt;fct&gt; | log_col &lt;lgl&gt; | double_col &lt;dbl&gt; |\n",
       "|---|---|---|---|---|\n",
       "| row_1 | 1 | b |  TRUE |  2.100000 |\n",
       "| row_5 | 2 | e |  TRUE | 12.700000 |\n",
       "| row_3 | 3 | a |  TRUE |  0.500000 |\n",
       "| row_4 | 4 | d | FALSE |  3.141593 |\n",
       "| row_2 | 5 | a |  TRUE |  1.000000 |\n",
       "\n"
      ],
      "text/plain": [
       "      int_col char_col log_col double_col\n",
       "row_1 1       b         TRUE    2.100000 \n",
       "row_5 2       e         TRUE   12.700000 \n",
       "row_3 3       a         TRUE    0.500000 \n",
       "row_4 4       d        FALSE    3.141593 \n",
       "row_2 5       a         TRUE    1.000000 "
      ]
     },
     "metadata": {},
     "output_type": "display_data"
    }
   ],
   "source": [
    "# sort by int_col\n",
    "df[order(df$int_col),]"
   ]
  },
  {
   "cell_type": "markdown",
   "metadata": {},
   "source": [
    "Use `-` minus to sort descending"
   ]
  },
  {
   "cell_type": "code",
   "execution_count": 111,
   "metadata": {},
   "outputs": [
    {
     "data": {
      "text/html": [
       "<table class=\"dataframe\">\n",
       "<caption>A data.frame: 5 × 4</caption>\n",
       "<thead>\n",
       "\t<tr><th></th><th scope=col>int_col</th><th scope=col>char_col</th><th scope=col>log_col</th><th scope=col>double_col</th></tr>\n",
       "\t<tr><th></th><th scope=col>&lt;dbl&gt;</th><th scope=col>&lt;fct&gt;</th><th scope=col>&lt;lgl&gt;</th><th scope=col>&lt;dbl&gt;</th></tr>\n",
       "</thead>\n",
       "<tbody>\n",
       "\t<tr><th scope=row>row_5</th><td>2</td><td>e</td><td> TRUE</td><td>12.700000</td></tr>\n",
       "\t<tr><th scope=row>row_4</th><td>4</td><td>d</td><td>FALSE</td><td> 3.141593</td></tr>\n",
       "\t<tr><th scope=row>row_1</th><td>1</td><td>b</td><td> TRUE</td><td> 2.100000</td></tr>\n",
       "\t<tr><th scope=row>row_2</th><td>5</td><td>a</td><td> TRUE</td><td> 1.000000</td></tr>\n",
       "\t<tr><th scope=row>row_3</th><td>3</td><td>a</td><td> TRUE</td><td> 0.500000</td></tr>\n",
       "</tbody>\n",
       "</table>\n"
      ],
      "text/latex": [
       "A data.frame: 5 × 4\n",
       "\\begin{tabular}{r|llll}\n",
       "  & int\\_col & char\\_col & log\\_col & double\\_col\\\\\n",
       "  & <dbl> & <fct> & <lgl> & <dbl>\\\\\n",
       "\\hline\n",
       "\trow\\_5 & 2 & e &  TRUE & 12.700000\\\\\n",
       "\trow\\_4 & 4 & d & FALSE &  3.141593\\\\\n",
       "\trow\\_1 & 1 & b &  TRUE &  2.100000\\\\\n",
       "\trow\\_2 & 5 & a &  TRUE &  1.000000\\\\\n",
       "\trow\\_3 & 3 & a &  TRUE &  0.500000\\\\\n",
       "\\end{tabular}\n"
      ],
      "text/markdown": [
       "\n",
       "A data.frame: 5 × 4\n",
       "\n",
       "| <!--/--> | int_col &lt;dbl&gt; | char_col &lt;fct&gt; | log_col &lt;lgl&gt; | double_col &lt;dbl&gt; |\n",
       "|---|---|---|---|---|\n",
       "| row_5 | 2 | e |  TRUE | 12.700000 |\n",
       "| row_4 | 4 | d | FALSE |  3.141593 |\n",
       "| row_1 | 1 | b |  TRUE |  2.100000 |\n",
       "| row_2 | 5 | a |  TRUE |  1.000000 |\n",
       "| row_3 | 3 | a |  TRUE |  0.500000 |\n",
       "\n"
      ],
      "text/plain": [
       "      int_col char_col log_col double_col\n",
       "row_5 2       e         TRUE   12.700000 \n",
       "row_4 4       d        FALSE    3.141593 \n",
       "row_1 1       b         TRUE    2.100000 \n",
       "row_2 5       a         TRUE    1.000000 \n",
       "row_3 3       a         TRUE    0.500000 "
      ]
     },
     "metadata": {},
     "output_type": "display_data"
    }
   ],
   "source": [
    "# sort by double_col\n",
    "df[order(-df$double_col),]"
   ]
  },
  {
   "cell_type": "markdown",
   "metadata": {},
   "source": [
    "You can also sor by multiple columns with `order(column1, column2)` or `order(column1, -column2)`."
   ]
  },
  {
   "cell_type": "markdown",
   "metadata": {},
   "source": [
    "### Manipulating `data.frames`"
   ]
  },
  {
   "cell_type": "markdown",
   "metadata": {},
   "source": [
    "\n",
    "typeconvert\n",
    "ifelse\n",
    "createnew columns (calculate age) ?lubridate\n",
    "missing remove\n",
    "missing replace\n",
    "\n",
    "edit with dataeditR"
   ]
  },
  {
   "cell_type": "markdown",
   "metadata": {},
   "source": [
    "---"
   ]
  },
  {
   "cell_type": "markdown",
   "metadata": {},
   "source": [
    "## Tasks on data.frames"
   ]
  },
  {
   "cell_type": "markdown",
   "metadata": {},
   "source": [
    "#### Task 1"
   ]
  },
  {
   "cell_type": "markdown",
   "metadata": {},
   "source": [
    "Write a code evaluates $y = 1.1 + 0.24*x + e$, where $x$ is a number from sequesnce $(100, 110, 120, ..., 200)$, $e$ - random number in range [0; 1]. \n",
    "\n",
    "Print calculation result as data.frame with columns `X`, `E`, `Y`.\n",
    "\n",
    "Use `plot()` funtion to visualize `X` vs `Y` as line chart (type = `l` or `b`)."
   ]
  },
  {
   "cell_type": "markdown",
   "metadata": {},
   "source": [
    "#### Solution"
   ]
  },
  {
   "cell_type": "code",
   "execution_count": 21,
   "metadata": {},
   "outputs": [
    {
     "data": {
      "text/html": [
       "<table class=\"dataframe\">\n",
       "<caption>A data.frame: 11 × 3</caption>\n",
       "<thead>\n",
       "\t<tr><th scope=col>X</th><th scope=col>E</th><th scope=col>Y</th></tr>\n",
       "\t<tr><th scope=col>&lt;dbl&gt;</th><th scope=col>&lt;dbl&gt;</th><th scope=col>&lt;lgl&gt;</th></tr>\n",
       "</thead>\n",
       "<tbody>\n",
       "\t<tr><td>100</td><td>0.009240805</td><td>NA</td></tr>\n",
       "\t<tr><td>110</td><td>0.150162012</td><td>NA</td></tr>\n",
       "\t<tr><td>120</td><td>0.215373172</td><td>NA</td></tr>\n",
       "\t<tr><td>130</td><td>0.316338713</td><td>NA</td></tr>\n",
       "\t<tr><td>140</td><td>0.639020717</td><td>NA</td></tr>\n",
       "\t<tr><td>150</td><td>0.060509134</td><td>NA</td></tr>\n",
       "\t<tr><td>160</td><td>0.348186502</td><td>NA</td></tr>\n",
       "\t<tr><td>170</td><td>0.040465395</td><td>NA</td></tr>\n",
       "\t<tr><td>180</td><td>0.766976769</td><td>NA</td></tr>\n",
       "\t<tr><td>190</td><td>0.377475792</td><td>NA</td></tr>\n",
       "\t<tr><td>200</td><td>0.075373418</td><td>NA</td></tr>\n",
       "</tbody>\n",
       "</table>\n"
      ],
      "text/latex": [
       "A data.frame: 11 × 3\n",
       "\\begin{tabular}{lll}\n",
       " X & E & Y\\\\\n",
       " <dbl> & <dbl> & <lgl>\\\\\n",
       "\\hline\n",
       "\t 100 & 0.009240805 & NA\\\\\n",
       "\t 110 & 0.150162012 & NA\\\\\n",
       "\t 120 & 0.215373172 & NA\\\\\n",
       "\t 130 & 0.316338713 & NA\\\\\n",
       "\t 140 & 0.639020717 & NA\\\\\n",
       "\t 150 & 0.060509134 & NA\\\\\n",
       "\t 160 & 0.348186502 & NA\\\\\n",
       "\t 170 & 0.040465395 & NA\\\\\n",
       "\t 180 & 0.766976769 & NA\\\\\n",
       "\t 190 & 0.377475792 & NA\\\\\n",
       "\t 200 & 0.075373418 & NA\\\\\n",
       "\\end{tabular}\n"
      ],
      "text/markdown": [
       "\n",
       "A data.frame: 11 × 3\n",
       "\n",
       "| X &lt;dbl&gt; | E &lt;dbl&gt; | Y &lt;lgl&gt; |\n",
       "|---|---|---|\n",
       "| 100 | 0.009240805 | NA |\n",
       "| 110 | 0.150162012 | NA |\n",
       "| 120 | 0.215373172 | NA |\n",
       "| 130 | 0.316338713 | NA |\n",
       "| 140 | 0.639020717 | NA |\n",
       "| 150 | 0.060509134 | NA |\n",
       "| 160 | 0.348186502 | NA |\n",
       "| 170 | 0.040465395 | NA |\n",
       "| 180 | 0.766976769 | NA |\n",
       "| 190 | 0.377475792 | NA |\n",
       "| 200 | 0.075373418 | NA |\n",
       "\n"
      ],
      "text/plain": [
       "   X   E           Y \n",
       "1  100 0.009240805 NA\n",
       "2  110 0.150162012 NA\n",
       "3  120 0.215373172 NA\n",
       "4  130 0.316338713 NA\n",
       "5  140 0.639020717 NA\n",
       "6  150 0.060509134 NA\n",
       "7  160 0.348186502 NA\n",
       "8  170 0.040465395 NA\n",
       "9  180 0.766976769 NA\n",
       "10 190 0.377475792 NA\n",
       "11 200 0.075373418 NA"
      ]
     },
     "metadata": {},
     "output_type": "display_data"
    }
   ],
   "source": [
    "# initiate data.frame\n",
    "df <- data.frame(X = seq(from = 100, to = 200, by = 10),\n",
    "                 E = runif(11),\n",
    "                 Y = NA)\n",
    "df\n"
   ]
  },
  {
   "cell_type": "code",
   "execution_count": 23,
   "metadata": {},
   "outputs": [
    {
     "data": {
      "text/html": [
       "<table class=\"dataframe\">\n",
       "<caption>A data.frame: 11 × 3</caption>\n",
       "<thead>\n",
       "\t<tr><th scope=col>X</th><th scope=col>E</th><th scope=col>Y</th></tr>\n",
       "\t<tr><th scope=col>&lt;dbl&gt;</th><th scope=col>&lt;dbl&gt;</th><th scope=col>&lt;dbl&gt;</th></tr>\n",
       "</thead>\n",
       "<tbody>\n",
       "\t<tr><td>100</td><td>0.009240805</td><td>26.40924</td></tr>\n",
       "\t<tr><td>110</td><td>0.150162012</td><td>29.19016</td></tr>\n",
       "\t<tr><td>120</td><td>0.215373172</td><td>31.89537</td></tr>\n",
       "\t<tr><td>130</td><td>0.316338713</td><td>34.63634</td></tr>\n",
       "\t<tr><td>140</td><td>0.639020717</td><td>37.59902</td></tr>\n",
       "\t<tr><td>150</td><td>0.060509134</td><td>39.66051</td></tr>\n",
       "\t<tr><td>160</td><td>0.348186502</td><td>42.58819</td></tr>\n",
       "\t<tr><td>170</td><td>0.040465395</td><td>44.92047</td></tr>\n",
       "\t<tr><td>180</td><td>0.766976769</td><td>48.28698</td></tr>\n",
       "\t<tr><td>190</td><td>0.377475792</td><td>50.53748</td></tr>\n",
       "\t<tr><td>200</td><td>0.075373418</td><td>52.87537</td></tr>\n",
       "</tbody>\n",
       "</table>\n"
      ],
      "text/latex": [
       "A data.frame: 11 × 3\n",
       "\\begin{tabular}{lll}\n",
       " X & E & Y\\\\\n",
       " <dbl> & <dbl> & <dbl>\\\\\n",
       "\\hline\n",
       "\t 100 & 0.009240805 & 26.40924\\\\\n",
       "\t 110 & 0.150162012 & 29.19016\\\\\n",
       "\t 120 & 0.215373172 & 31.89537\\\\\n",
       "\t 130 & 0.316338713 & 34.63634\\\\\n",
       "\t 140 & 0.639020717 & 37.59902\\\\\n",
       "\t 150 & 0.060509134 & 39.66051\\\\\n",
       "\t 160 & 0.348186502 & 42.58819\\\\\n",
       "\t 170 & 0.040465395 & 44.92047\\\\\n",
       "\t 180 & 0.766976769 & 48.28698\\\\\n",
       "\t 190 & 0.377475792 & 50.53748\\\\\n",
       "\t 200 & 0.075373418 & 52.87537\\\\\n",
       "\\end{tabular}\n"
      ],
      "text/markdown": [
       "\n",
       "A data.frame: 11 × 3\n",
       "\n",
       "| X &lt;dbl&gt; | E &lt;dbl&gt; | Y &lt;dbl&gt; |\n",
       "|---|---|---|\n",
       "| 100 | 0.009240805 | 26.40924 |\n",
       "| 110 | 0.150162012 | 29.19016 |\n",
       "| 120 | 0.215373172 | 31.89537 |\n",
       "| 130 | 0.316338713 | 34.63634 |\n",
       "| 140 | 0.639020717 | 37.59902 |\n",
       "| 150 | 0.060509134 | 39.66051 |\n",
       "| 160 | 0.348186502 | 42.58819 |\n",
       "| 170 | 0.040465395 | 44.92047 |\n",
       "| 180 | 0.766976769 | 48.28698 |\n",
       "| 190 | 0.377475792 | 50.53748 |\n",
       "| 200 | 0.075373418 | 52.87537 |\n",
       "\n"
      ],
      "text/plain": [
       "   X   E           Y       \n",
       "1  100 0.009240805 26.40924\n",
       "2  110 0.150162012 29.19016\n",
       "3  120 0.215373172 31.89537\n",
       "4  130 0.316338713 34.63634\n",
       "5  140 0.639020717 37.59902\n",
       "6  150 0.060509134 39.66051\n",
       "7  160 0.348186502 42.58819\n",
       "8  170 0.040465395 44.92047\n",
       "9  180 0.766976769 48.28698\n",
       "10 190 0.377475792 50.53748\n",
       "11 200 0.075373418 52.87537"
      ]
     },
     "metadata": {},
     "output_type": "display_data"
    }
   ],
   "source": [
    "df$Y <- 1.1*0.24*df$X + df$E\n",
    "df"
   ]
  },
  {
   "cell_type": "code",
   "execution_count": 26,
   "metadata": {},
   "outputs": [
    {
     "data": {
      "image/png": "[encoded data removed]",
      "text/plain": [
       "plot without title"
      ]
     },
     "metadata": {
      "image/png": {
       "height": 420,
       "width": 420
      }
     },
     "output_type": "display_data"
    }
   ],
   "source": [
    "plot(df$X, df$Y, type = \"b\")\n"
   ]
  },
  {
   "cell_type": "markdown",
   "metadata": {},
   "source": [
    "---"
   ]
  },
  {
   "cell_type": "markdown",
   "metadata": {},
   "source": [
    "#### Task 2"
   ]
  },
  {
   "cell_type": "markdown",
   "metadata": {},
   "source": [
    "1. Install package and load package `ISLR`\n",
    "2. Save dataset `Credit` into variable `credit_data`.\n",
    "3. Check dataset structure with `str()` function.\n",
    "4. Convert Student status \"yes/no\" to 1/0\n",
    "5. Order dataset by `Rating` descending\n",
    "6. Filter only `Age > 50` with `Rating > 400`, how many records do you get?\n",
    "7. Evaluate average `Income` for `Married = YES` `Married = NO` with Age in range [20,30]\n",
    "\n",
    "    7.1 Make the same for Age [30;40]\n",
    "    Any conclusion?"
   ]
  },
  {
   "cell_type": "markdown",
   "metadata": {},
   "source": [
    "#### Solution"
   ]
  },
  {
   "cell_type": "code",
   "execution_count": 112,
   "metadata": {},
   "outputs": [],
   "source": [
    "# 1. install.package ISLR\n",
    "#install.packages(\"ISLR\")\n",
    "library(ISLR)"
   ]
  },
  {
   "cell_type": "code",
   "execution_count": 119,
   "metadata": {},
   "outputs": [
    {
     "data": {
      "text/html": [
       "<table class=\"dataframe\">\n",
       "<caption>A data.frame: 6 × 12</caption>\n",
       "<thead>\n",
       "\t<tr><th></th><th scope=col>ID</th><th scope=col>Income</th><th scope=col>Limit</th><th scope=col>Rating</th><th scope=col>Cards</th><th scope=col>Age</th><th scope=col>Education</th><th scope=col>Gender</th><th scope=col>Student</th><th scope=col>Married</th><th scope=col>Ethnicity</th><th scope=col>Balance</th></tr>\n",
       "\t<tr><th></th><th scope=col>&lt;int&gt;</th><th scope=col>&lt;dbl&gt;</th><th scope=col>&lt;int&gt;</th><th scope=col>&lt;int&gt;</th><th scope=col>&lt;int&gt;</th><th scope=col>&lt;int&gt;</th><th scope=col>&lt;int&gt;</th><th scope=col>&lt;fct&gt;</th><th scope=col>&lt;fct&gt;</th><th scope=col>&lt;fct&gt;</th><th scope=col>&lt;fct&gt;</th><th scope=col>&lt;int&gt;</th></tr>\n",
       "</thead>\n",
       "<tbody>\n",
       "\t<tr><th scope=row>1</th><td>1</td><td> 14.891</td><td>3606</td><td>283</td><td>2</td><td>34</td><td>11</td><td> Male </td><td>No </td><td>Yes</td><td>Caucasian</td><td> 333</td></tr>\n",
       "\t<tr><th scope=row>2</th><td>2</td><td>106.025</td><td>6645</td><td>483</td><td>3</td><td>82</td><td>15</td><td>Female</td><td>Yes</td><td>Yes</td><td>Asian    </td><td> 903</td></tr>\n",
       "\t<tr><th scope=row>3</th><td>3</td><td>104.593</td><td>7075</td><td>514</td><td>4</td><td>71</td><td>11</td><td> Male </td><td>No </td><td>No </td><td>Asian    </td><td> 580</td></tr>\n",
       "\t<tr><th scope=row>4</th><td>4</td><td>148.924</td><td>9504</td><td>681</td><td>3</td><td>36</td><td>11</td><td>Female</td><td>No </td><td>No </td><td>Asian    </td><td> 964</td></tr>\n",
       "\t<tr><th scope=row>5</th><td>5</td><td> 55.882</td><td>4897</td><td>357</td><td>2</td><td>68</td><td>16</td><td> Male </td><td>No </td><td>Yes</td><td>Caucasian</td><td> 331</td></tr>\n",
       "\t<tr><th scope=row>6</th><td>6</td><td> 80.180</td><td>8047</td><td>569</td><td>4</td><td>77</td><td>10</td><td> Male </td><td>No </td><td>No </td><td>Caucasian</td><td>1151</td></tr>\n",
       "</tbody>\n",
       "</table>\n"
      ],
      "text/latex": [
       "A data.frame: 6 × 12\n",
       "\\begin{tabular}{r|llllllllllll}\n",
       "  & ID & Income & Limit & Rating & Cards & Age & Education & Gender & Student & Married & Ethnicity & Balance\\\\\n",
       "  & <int> & <dbl> & <int> & <int> & <int> & <int> & <int> & <fct> & <fct> & <fct> & <fct> & <int>\\\\\n",
       "\\hline\n",
       "\t1 & 1 &  14.891 & 3606 & 283 & 2 & 34 & 11 &  Male  & No  & Yes & Caucasian &  333\\\\\n",
       "\t2 & 2 & 106.025 & 6645 & 483 & 3 & 82 & 15 & Female & Yes & Yes & Asian     &  903\\\\\n",
       "\t3 & 3 & 104.593 & 7075 & 514 & 4 & 71 & 11 &  Male  & No  & No  & Asian     &  580\\\\\n",
       "\t4 & 4 & 148.924 & 9504 & 681 & 3 & 36 & 11 & Female & No  & No  & Asian     &  964\\\\\n",
       "\t5 & 5 &  55.882 & 4897 & 357 & 2 & 68 & 16 &  Male  & No  & Yes & Caucasian &  331\\\\\n",
       "\t6 & 6 &  80.180 & 8047 & 569 & 4 & 77 & 10 &  Male  & No  & No  & Caucasian & 1151\\\\\n",
       "\\end{tabular}\n"
      ],
      "text/markdown": [
       "\n",
       "A data.frame: 6 × 12\n",
       "\n",
       "| <!--/--> | ID &lt;int&gt; | Income &lt;dbl&gt; | Limit &lt;int&gt; | Rating &lt;int&gt; | Cards &lt;int&gt; | Age &lt;int&gt; | Education &lt;int&gt; | Gender &lt;fct&gt; | Student &lt;fct&gt; | Married &lt;fct&gt; | Ethnicity &lt;fct&gt; | Balance &lt;int&gt; |\n",
       "|---|---|---|---|---|---|---|---|---|---|---|---|---|\n",
       "| 1 | 1 |  14.891 | 3606 | 283 | 2 | 34 | 11 |  Male  | No  | Yes | Caucasian |  333 |\n",
       "| 2 | 2 | 106.025 | 6645 | 483 | 3 | 82 | 15 | Female | Yes | Yes | Asian     |  903 |\n",
       "| 3 | 3 | 104.593 | 7075 | 514 | 4 | 71 | 11 |  Male  | No  | No  | Asian     |  580 |\n",
       "| 4 | 4 | 148.924 | 9504 | 681 | 3 | 36 | 11 | Female | No  | No  | Asian     |  964 |\n",
       "| 5 | 5 |  55.882 | 4897 | 357 | 2 | 68 | 16 |  Male  | No  | Yes | Caucasian |  331 |\n",
       "| 6 | 6 |  80.180 | 8047 | 569 | 4 | 77 | 10 |  Male  | No  | No  | Caucasian | 1151 |\n",
       "\n"
      ],
      "text/plain": [
       "  ID Income  Limit Rating Cards Age Education Gender Student Married Ethnicity\n",
       "1 1   14.891 3606  283    2     34  11         Male  No      Yes     Caucasian\n",
       "2 2  106.025 6645  483    3     82  15        Female Yes     Yes     Asian    \n",
       "3 3  104.593 7075  514    4     71  11         Male  No      No      Asian    \n",
       "4 4  148.924 9504  681    3     36  11        Female No      No      Asian    \n",
       "5 5   55.882 4897  357    2     68  16         Male  No      Yes     Caucasian\n",
       "6 6   80.180 8047  569    4     77  10         Male  No      No      Caucasian\n",
       "  Balance\n",
       "1  333   \n",
       "2  903   \n",
       "3  580   \n",
       "4  964   \n",
       "5  331   \n",
       "6 1151   "
      ]
     },
     "metadata": {},
     "output_type": "display_data"
    }
   ],
   "source": [
    "# 2. Save dataset `Credit` into variable `credit_data`.\n",
    "credit_data <- ISLR::Credit\n",
    "head(credit_data)"
   ]
  },
  {
   "cell_type": "code",
   "execution_count": 120,
   "metadata": {},
   "outputs": [
    {
     "name": "stdout",
     "output_type": "stream",
     "text": [
      "'data.frame':\t400 obs. of  12 variables:\n",
      " $ ID       : int  1 2 3 4 5 6 7 8 9 10 ...\n",
      " $ Income   : num  14.9 106 104.6 148.9 55.9 ...\n",
      " $ Limit    : int  3606 6645 7075 9504 4897 8047 3388 7114 3300 6819 ...\n",
      " $ Rating   : int  283 483 514 681 357 569 259 512 266 491 ...\n",
      " $ Cards    : int  2 3 4 3 2 4 2 2 5 3 ...\n",
      " $ Age      : int  34 82 71 36 68 77 37 87 66 41 ...\n",
      " $ Education: int  11 15 11 11 16 10 12 9 13 19 ...\n",
      " $ Gender   : Factor w/ 2 levels \" Male\",\"Female\": 1 2 1 2 1 1 2 1 2 2 ...\n",
      " $ Student  : Factor w/ 2 levels \"No\",\"Yes\": 1 2 1 1 1 1 1 1 1 2 ...\n",
      " $ Married  : Factor w/ 2 levels \"No\",\"Yes\": 2 2 1 1 2 1 1 1 1 2 ...\n",
      " $ Ethnicity: Factor w/ 3 levels \"African American\",..: 3 2 2 2 3 3 1 2 3 1 ...\n",
      " $ Balance  : int  333 903 580 964 331 1151 203 872 279 1350 ...\n"
     ]
    }
   ],
   "source": [
    "# 3. Check dataset structure with `str()` function.\n",
    "str(credit_data)"
   ]
  },
  {
   "cell_type": "code",
   "execution_count": 122,
   "metadata": {},
   "outputs": [
    {
     "data": {
      "text/html": [
       "<table class=\"dataframe\">\n",
       "<caption>A data.frame: 6 × 12</caption>\n",
       "<thead>\n",
       "\t<tr><th></th><th scope=col>ID</th><th scope=col>Income</th><th scope=col>Limit</th><th scope=col>Rating</th><th scope=col>Cards</th><th scope=col>Age</th><th scope=col>Education</th><th scope=col>Gender</th><th scope=col>Student</th><th scope=col>Married</th><th scope=col>Ethnicity</th><th scope=col>Balance</th></tr>\n",
       "\t<tr><th></th><th scope=col>&lt;int&gt;</th><th scope=col>&lt;dbl&gt;</th><th scope=col>&lt;int&gt;</th><th scope=col>&lt;int&gt;</th><th scope=col>&lt;int&gt;</th><th scope=col>&lt;int&gt;</th><th scope=col>&lt;int&gt;</th><th scope=col>&lt;fct&gt;</th><th scope=col>&lt;dbl&gt;</th><th scope=col>&lt;fct&gt;</th><th scope=col>&lt;fct&gt;</th><th scope=col>&lt;int&gt;</th></tr>\n",
       "</thead>\n",
       "<tbody>\n",
       "\t<tr><th scope=row>1</th><td>1</td><td> 14.891</td><td>3606</td><td>283</td><td>2</td><td>34</td><td>11</td><td> Male </td><td>0</td><td>Yes</td><td>Caucasian</td><td> 333</td></tr>\n",
       "\t<tr><th scope=row>2</th><td>2</td><td>106.025</td><td>6645</td><td>483</td><td>3</td><td>82</td><td>15</td><td>Female</td><td>0</td><td>Yes</td><td>Asian    </td><td> 903</td></tr>\n",
       "\t<tr><th scope=row>3</th><td>3</td><td>104.593</td><td>7075</td><td>514</td><td>4</td><td>71</td><td>11</td><td> Male </td><td>0</td><td>No </td><td>Asian    </td><td> 580</td></tr>\n",
       "\t<tr><th scope=row>4</th><td>4</td><td>148.924</td><td>9504</td><td>681</td><td>3</td><td>36</td><td>11</td><td>Female</td><td>0</td><td>No </td><td>Asian    </td><td> 964</td></tr>\n",
       "\t<tr><th scope=row>5</th><td>5</td><td> 55.882</td><td>4897</td><td>357</td><td>2</td><td>68</td><td>16</td><td> Male </td><td>0</td><td>Yes</td><td>Caucasian</td><td> 331</td></tr>\n",
       "\t<tr><th scope=row>6</th><td>6</td><td> 80.180</td><td>8047</td><td>569</td><td>4</td><td>77</td><td>10</td><td> Male </td><td>0</td><td>No </td><td>Caucasian</td><td>1151</td></tr>\n",
       "</tbody>\n",
       "</table>\n"
      ],
      "text/latex": [
       "A data.frame: 6 × 12\n",
       "\\begin{tabular}{r|llllllllllll}\n",
       "  & ID & Income & Limit & Rating & Cards & Age & Education & Gender & Student & Married & Ethnicity & Balance\\\\\n",
       "  & <int> & <dbl> & <int> & <int> & <int> & <int> & <int> & <fct> & <dbl> & <fct> & <fct> & <int>\\\\\n",
       "\\hline\n",
       "\t1 & 1 &  14.891 & 3606 & 283 & 2 & 34 & 11 &  Male  & 0 & Yes & Caucasian &  333\\\\\n",
       "\t2 & 2 & 106.025 & 6645 & 483 & 3 & 82 & 15 & Female & 0 & Yes & Asian     &  903\\\\\n",
       "\t3 & 3 & 104.593 & 7075 & 514 & 4 & 71 & 11 &  Male  & 0 & No  & Asian     &  580\\\\\n",
       "\t4 & 4 & 148.924 & 9504 & 681 & 3 & 36 & 11 & Female & 0 & No  & Asian     &  964\\\\\n",
       "\t5 & 5 &  55.882 & 4897 & 357 & 2 & 68 & 16 &  Male  & 0 & Yes & Caucasian &  331\\\\\n",
       "\t6 & 6 &  80.180 & 8047 & 569 & 4 & 77 & 10 &  Male  & 0 & No  & Caucasian & 1151\\\\\n",
       "\\end{tabular}\n"
      ],
      "text/markdown": [
       "\n",
       "A data.frame: 6 × 12\n",
       "\n",
       "| <!--/--> | ID &lt;int&gt; | Income &lt;dbl&gt; | Limit &lt;int&gt; | Rating &lt;int&gt; | Cards &lt;int&gt; | Age &lt;int&gt; | Education &lt;int&gt; | Gender &lt;fct&gt; | Student &lt;dbl&gt; | Married &lt;fct&gt; | Ethnicity &lt;fct&gt; | Balance &lt;int&gt; |\n",
       "|---|---|---|---|---|---|---|---|---|---|---|---|---|\n",
       "| 1 | 1 |  14.891 | 3606 | 283 | 2 | 34 | 11 |  Male  | 0 | Yes | Caucasian |  333 |\n",
       "| 2 | 2 | 106.025 | 6645 | 483 | 3 | 82 | 15 | Female | 0 | Yes | Asian     |  903 |\n",
       "| 3 | 3 | 104.593 | 7075 | 514 | 4 | 71 | 11 |  Male  | 0 | No  | Asian     |  580 |\n",
       "| 4 | 4 | 148.924 | 9504 | 681 | 3 | 36 | 11 | Female | 0 | No  | Asian     |  964 |\n",
       "| 5 | 5 |  55.882 | 4897 | 357 | 2 | 68 | 16 |  Male  | 0 | Yes | Caucasian |  331 |\n",
       "| 6 | 6 |  80.180 | 8047 | 569 | 4 | 77 | 10 |  Male  | 0 | No  | Caucasian | 1151 |\n",
       "\n"
      ],
      "text/plain": [
       "  ID Income  Limit Rating Cards Age Education Gender Student Married Ethnicity\n",
       "1 1   14.891 3606  283    2     34  11         Male  0       Yes     Caucasian\n",
       "2 2  106.025 6645  483    3     82  15        Female 0       Yes     Asian    \n",
       "3 3  104.593 7075  514    4     71  11         Male  0       No      Asian    \n",
       "4 4  148.924 9504  681    3     36  11        Female 0       No      Asian    \n",
       "5 5   55.882 4897  357    2     68  16         Male  0       Yes     Caucasian\n",
       "6 6   80.180 8047  569    4     77  10         Male  0       No      Caucasian\n",
       "  Balance\n",
       "1  333   \n",
       "2  903   \n",
       "3  580   \n",
       "4  964   \n",
       "5  331   \n",
       "6 1151   "
      ]
     },
     "metadata": {},
     "output_type": "display_data"
    }
   ],
   "source": [
    "# Convert Student status \"yes/no\" to 1/0\n",
    "credit_data$Student <- as.character(credit_data$Student) # convert to character first / factors\n",
    "credit_data$Student <- ifelse(credit_data$Student == \"Yes\", 1, 0)\n",
    "head(credit_data)"
   ]
  },
  {
   "cell_type": "code",
   "execution_count": 125,
   "metadata": {},
   "outputs": [
    {
     "data": {
      "text/html": [
       "<table class=\"dataframe\">\n",
       "<caption>A data.frame: 6 × 12</caption>\n",
       "<thead>\n",
       "\t<tr><th></th><th scope=col>ID</th><th scope=col>Income</th><th scope=col>Limit</th><th scope=col>Rating</th><th scope=col>Cards</th><th scope=col>Age</th><th scope=col>Education</th><th scope=col>Gender</th><th scope=col>Student</th><th scope=col>Married</th><th scope=col>Ethnicity</th><th scope=col>Balance</th></tr>\n",
       "\t<tr><th></th><th scope=col>&lt;int&gt;</th><th scope=col>&lt;dbl&gt;</th><th scope=col>&lt;int&gt;</th><th scope=col>&lt;int&gt;</th><th scope=col>&lt;int&gt;</th><th scope=col>&lt;int&gt;</th><th scope=col>&lt;int&gt;</th><th scope=col>&lt;fct&gt;</th><th scope=col>&lt;dbl&gt;</th><th scope=col>&lt;fct&gt;</th><th scope=col>&lt;fct&gt;</th><th scope=col>&lt;int&gt;</th></tr>\n",
       "</thead>\n",
       "<tbody>\n",
       "\t<tr><th scope=row>324</th><td>324</td><td>182.728</td><td>13913</td><td>982</td><td>4</td><td>98</td><td>17</td><td> Male </td><td>0</td><td>Yes</td><td>Caucasian       </td><td>1999</td></tr>\n",
       "\t<tr><th scope=row>29</th><td> 29</td><td>186.634</td><td>13414</td><td>949</td><td>2</td><td>41</td><td>14</td><td>Female</td><td>0</td><td>Yes</td><td>African American</td><td>1809</td></tr>\n",
       "\t<tr><th scope=row>356</th><td>356</td><td>180.682</td><td>11966</td><td>832</td><td>2</td><td>58</td><td> 8</td><td>Female</td><td>0</td><td>Yes</td><td>African American</td><td>1405</td></tr>\n",
       "\t<tr><th scope=row>86</th><td> 86</td><td>152.298</td><td>12066</td><td>828</td><td>4</td><td>41</td><td>12</td><td>Female</td><td>0</td><td>Yes</td><td>Asian           </td><td>1779</td></tr>\n",
       "\t<tr><th scope=row>294</th><td>294</td><td>140.672</td><td>11200</td><td>817</td><td>7</td><td>46</td><td> 9</td><td> Male </td><td>0</td><td>Yes</td><td>African American</td><td>1677</td></tr>\n",
       "\t<tr><th scope=row>185</th><td>185</td><td>158.889</td><td>11589</td><td>805</td><td>1</td><td>62</td><td>17</td><td>Female</td><td>0</td><td>Yes</td><td>Caucasian       </td><td>1448</td></tr>\n",
       "</tbody>\n",
       "</table>\n"
      ],
      "text/latex": [
       "A data.frame: 6 × 12\n",
       "\\begin{tabular}{r|llllllllllll}\n",
       "  & ID & Income & Limit & Rating & Cards & Age & Education & Gender & Student & Married & Ethnicity & Balance\\\\\n",
       "  & <int> & <dbl> & <int> & <int> & <int> & <int> & <int> & <fct> & <dbl> & <fct> & <fct> & <int>\\\\\n",
       "\\hline\n",
       "\t324 & 324 & 182.728 & 13913 & 982 & 4 & 98 & 17 &  Male  & 0 & Yes & Caucasian        & 1999\\\\\n",
       "\t29 &  29 & 186.634 & 13414 & 949 & 2 & 41 & 14 & Female & 0 & Yes & African American & 1809\\\\\n",
       "\t356 & 356 & 180.682 & 11966 & 832 & 2 & 58 &  8 & Female & 0 & Yes & African American & 1405\\\\\n",
       "\t86 &  86 & 152.298 & 12066 & 828 & 4 & 41 & 12 & Female & 0 & Yes & Asian            & 1779\\\\\n",
       "\t294 & 294 & 140.672 & 11200 & 817 & 7 & 46 &  9 &  Male  & 0 & Yes & African American & 1677\\\\\n",
       "\t185 & 185 & 158.889 & 11589 & 805 & 1 & 62 & 17 & Female & 0 & Yes & Caucasian        & 1448\\\\\n",
       "\\end{tabular}\n"
      ],
      "text/markdown": [
       "\n",
       "A data.frame: 6 × 12\n",
       "\n",
       "| <!--/--> | ID &lt;int&gt; | Income &lt;dbl&gt; | Limit &lt;int&gt; | Rating &lt;int&gt; | Cards &lt;int&gt; | Age &lt;int&gt; | Education &lt;int&gt; | Gender &lt;fct&gt; | Student &lt;dbl&gt; | Married &lt;fct&gt; | Ethnicity &lt;fct&gt; | Balance &lt;int&gt; |\n",
       "|---|---|---|---|---|---|---|---|---|---|---|---|---|\n",
       "| 324 | 324 | 182.728 | 13913 | 982 | 4 | 98 | 17 |  Male  | 0 | Yes | Caucasian        | 1999 |\n",
       "| 29 |  29 | 186.634 | 13414 | 949 | 2 | 41 | 14 | Female | 0 | Yes | African American | 1809 |\n",
       "| 356 | 356 | 180.682 | 11966 | 832 | 2 | 58 |  8 | Female | 0 | Yes | African American | 1405 |\n",
       "| 86 |  86 | 152.298 | 12066 | 828 | 4 | 41 | 12 | Female | 0 | Yes | Asian            | 1779 |\n",
       "| 294 | 294 | 140.672 | 11200 | 817 | 7 | 46 |  9 |  Male  | 0 | Yes | African American | 1677 |\n",
       "| 185 | 185 | 158.889 | 11589 | 805 | 1 | 62 | 17 | Female | 0 | Yes | Caucasian        | 1448 |\n",
       "\n"
      ],
      "text/plain": [
       "    ID  Income  Limit Rating Cards Age Education Gender Student Married\n",
       "324 324 182.728 13913 982    4     98  17         Male  0       Yes    \n",
       "29   29 186.634 13414 949    2     41  14        Female 0       Yes    \n",
       "356 356 180.682 11966 832    2     58   8        Female 0       Yes    \n",
       "86   86 152.298 12066 828    4     41  12        Female 0       Yes    \n",
       "294 294 140.672 11200 817    7     46   9         Male  0       Yes    \n",
       "185 185 158.889 11589 805    1     62  17        Female 0       Yes    \n",
       "    Ethnicity        Balance\n",
       "324 Caucasian        1999   \n",
       "29  African American 1809   \n",
       "356 African American 1405   \n",
       "86  Asian            1779   \n",
       "294 African American 1677   \n",
       "185 Caucasian        1448   "
      ]
     },
     "metadata": {},
     "output_type": "display_data"
    }
   ],
   "source": [
    "# 5. Order dataset by `Rating` descending\n",
    "credit_data <- credit_data[order(-credit_data$Rating),]\n",
    "head(credit_data)"
   ]
  },
  {
   "cell_type": "code",
   "execution_count": 135,
   "metadata": {},
   "outputs": [
    {
     "data": {
      "text/html": [
       "<table class=\"dataframe\">\n",
       "<caption>A data.frame: 6 × 12</caption>\n",
       "<thead>\n",
       "\t<tr><th></th><th scope=col>ID</th><th scope=col>Income</th><th scope=col>Limit</th><th scope=col>Rating</th><th scope=col>Cards</th><th scope=col>Age</th><th scope=col>Education</th><th scope=col>Gender</th><th scope=col>Student</th><th scope=col>Married</th><th scope=col>Ethnicity</th><th scope=col>Balance</th></tr>\n",
       "\t<tr><th></th><th scope=col>&lt;int&gt;</th><th scope=col>&lt;dbl&gt;</th><th scope=col>&lt;int&gt;</th><th scope=col>&lt;int&gt;</th><th scope=col>&lt;int&gt;</th><th scope=col>&lt;int&gt;</th><th scope=col>&lt;int&gt;</th><th scope=col>&lt;fct&gt;</th><th scope=col>&lt;dbl&gt;</th><th scope=col>&lt;fct&gt;</th><th scope=col>&lt;fct&gt;</th><th scope=col>&lt;int&gt;</th></tr>\n",
       "</thead>\n",
       "<tbody>\n",
       "\t<tr><th scope=row>324</th><td>324</td><td>182.728</td><td>13913</td><td>982</td><td>4</td><td>98</td><td>17</td><td> Male </td><td>0</td><td>Yes</td><td>Caucasian       </td><td>1999</td></tr>\n",
       "\t<tr><th scope=row>356</th><td>356</td><td>180.682</td><td>11966</td><td>832</td><td>2</td><td>58</td><td> 8</td><td>Female</td><td>0</td><td>Yes</td><td>African American</td><td>1405</td></tr>\n",
       "\t<tr><th scope=row>185</th><td>185</td><td>158.889</td><td>11589</td><td>805</td><td>1</td><td>62</td><td>17</td><td>Female</td><td>0</td><td>Yes</td><td>Caucasian       </td><td>1448</td></tr>\n",
       "\t<tr><th scope=row>348</th><td>348</td><td>160.231</td><td>10748</td><td>754</td><td>2</td><td>69</td><td>17</td><td> Male </td><td>0</td><td>No </td><td>Caucasian       </td><td>1192</td></tr>\n",
       "\t<tr><th scope=row>175</th><td>175</td><td>121.834</td><td>10673</td><td>750</td><td>3</td><td>54</td><td>16</td><td> Male </td><td>0</td><td>No </td><td>African American</td><td>1573</td></tr>\n",
       "\t<tr><th scope=row>391</th><td>391</td><td>135.118</td><td>10578</td><td>747</td><td>3</td><td>81</td><td>15</td><td>Female</td><td>0</td><td>Yes</td><td>Asian           </td><td>1393</td></tr>\n",
       "</tbody>\n",
       "</table>\n"
      ],
      "text/latex": [
       "A data.frame: 6 × 12\n",
       "\\begin{tabular}{r|llllllllllll}\n",
       "  & ID & Income & Limit & Rating & Cards & Age & Education & Gender & Student & Married & Ethnicity & Balance\\\\\n",
       "  & <int> & <dbl> & <int> & <int> & <int> & <int> & <int> & <fct> & <dbl> & <fct> & <fct> & <int>\\\\\n",
       "\\hline\n",
       "\t324 & 324 & 182.728 & 13913 & 982 & 4 & 98 & 17 &  Male  & 0 & Yes & Caucasian        & 1999\\\\\n",
       "\t356 & 356 & 180.682 & 11966 & 832 & 2 & 58 &  8 & Female & 0 & Yes & African American & 1405\\\\\n",
       "\t185 & 185 & 158.889 & 11589 & 805 & 1 & 62 & 17 & Female & 0 & Yes & Caucasian        & 1448\\\\\n",
       "\t348 & 348 & 160.231 & 10748 & 754 & 2 & 69 & 17 &  Male  & 0 & No  & Caucasian        & 1192\\\\\n",
       "\t175 & 175 & 121.834 & 10673 & 750 & 3 & 54 & 16 &  Male  & 0 & No  & African American & 1573\\\\\n",
       "\t391 & 391 & 135.118 & 10578 & 747 & 3 & 81 & 15 & Female & 0 & Yes & Asian            & 1393\\\\\n",
       "\\end{tabular}\n"
      ],
      "text/markdown": [
       "\n",
       "A data.frame: 6 × 12\n",
       "\n",
       "| <!--/--> | ID &lt;int&gt; | Income &lt;dbl&gt; | Limit &lt;int&gt; | Rating &lt;int&gt; | Cards &lt;int&gt; | Age &lt;int&gt; | Education &lt;int&gt; | Gender &lt;fct&gt; | Student &lt;dbl&gt; | Married &lt;fct&gt; | Ethnicity &lt;fct&gt; | Balance &lt;int&gt; |\n",
       "|---|---|---|---|---|---|---|---|---|---|---|---|---|\n",
       "| 324 | 324 | 182.728 | 13913 | 982 | 4 | 98 | 17 |  Male  | 0 | Yes | Caucasian        | 1999 |\n",
       "| 356 | 356 | 180.682 | 11966 | 832 | 2 | 58 |  8 | Female | 0 | Yes | African American | 1405 |\n",
       "| 185 | 185 | 158.889 | 11589 | 805 | 1 | 62 | 17 | Female | 0 | Yes | Caucasian        | 1448 |\n",
       "| 348 | 348 | 160.231 | 10748 | 754 | 2 | 69 | 17 |  Male  | 0 | No  | Caucasian        | 1192 |\n",
       "| 175 | 175 | 121.834 | 10673 | 750 | 3 | 54 | 16 |  Male  | 0 | No  | African American | 1573 |\n",
       "| 391 | 391 | 135.118 | 10578 | 747 | 3 | 81 | 15 | Female | 0 | Yes | Asian            | 1393 |\n",
       "\n"
      ],
      "text/plain": [
       "    ID  Income  Limit Rating Cards Age Education Gender Student Married\n",
       "324 324 182.728 13913 982    4     98  17         Male  0       Yes    \n",
       "356 356 180.682 11966 832    2     58   8        Female 0       Yes    \n",
       "185 185 158.889 11589 805    1     62  17        Female 0       Yes    \n",
       "348 348 160.231 10748 754    2     69  17         Male  0       No     \n",
       "175 175 121.834 10673 750    3     54  16         Male  0       No     \n",
       "391 391 135.118 10578 747    3     81  15        Female 0       Yes    \n",
       "    Ethnicity        Balance\n",
       "324 Caucasian        1999   \n",
       "356 African American 1405   \n",
       "185 Caucasian        1448   \n",
       "348 Caucasian        1192   \n",
       "175 African American 1573   \n",
       "391 Asian            1393   "
      ]
     },
     "metadata": {},
     "output_type": "display_data"
    },
    {
     "data": {
      "text/html": [
       "73"
      ],
      "text/latex": [
       "73"
      ],
      "text/markdown": [
       "73"
      ],
      "text/plain": [
       "[1] 73"
      ]
     },
     "metadata": {},
     "output_type": "display_data"
    }
   ],
   "source": [
    "# 6. Filter only `Age > 50` with `Rating > 400`\n",
    "credict_data_filtered <- credit_data[credit_data$Age > 50 & credit_data$Rating > 400, ]\n",
    "head(credict_data_filtered)\n",
    "nrow(credict_data_filtered)"
   ]
  },
  {
   "cell_type": "code",
   "execution_count": 159,
   "metadata": {},
   "outputs": [
    {
     "data": {
      "text/html": [
       "<table class=\"dataframe\">\n",
       "<caption>A data.frame: 6 × 12</caption>\n",
       "<thead>\n",
       "\t<tr><th></th><th scope=col>ID</th><th scope=col>Income</th><th scope=col>Limit</th><th scope=col>Rating</th><th scope=col>Cards</th><th scope=col>Age</th><th scope=col>Education</th><th scope=col>Gender</th><th scope=col>Student</th><th scope=col>Married</th><th scope=col>Ethnicity</th><th scope=col>Balance</th></tr>\n",
       "\t<tr><th></th><th scope=col>&lt;int&gt;</th><th scope=col>&lt;dbl&gt;</th><th scope=col>&lt;int&gt;</th><th scope=col>&lt;int&gt;</th><th scope=col>&lt;int&gt;</th><th scope=col>&lt;int&gt;</th><th scope=col>&lt;int&gt;</th><th scope=col>&lt;chr&gt;</th><th scope=col>&lt;dbl&gt;</th><th scope=col>&lt;fct&gt;</th><th scope=col>&lt;fct&gt;</th><th scope=col>&lt;int&gt;</th></tr>\n",
       "</thead>\n",
       "<tbody>\n",
       "\t<tr><th scope=row>11</th><td> 11</td><td>63.095</td><td>8117</td><td>589</td><td>4</td><td>30</td><td>14</td><td> Male </td><td>0</td><td>Yes</td><td>Caucasian       </td><td>1407</td></tr>\n",
       "\t<tr><th scope=row>114</th><td>114</td><td>69.251</td><td>6386</td><td>474</td><td>4</td><td>30</td><td>12</td><td>Female</td><td>0</td><td>Yes</td><td>Asian           </td><td> 768</td></tr>\n",
       "\t<tr><th scope=row>45</th><td> 45</td><td>31.861</td><td>6375</td><td>469</td><td>3</td><td>25</td><td>16</td><td>Female</td><td>0</td><td>Yes</td><td>Caucasian       </td><td>1120</td></tr>\n",
       "\t<tr><th scope=row>19</th><td> 19</td><td>49.570</td><td>6384</td><td>448</td><td>1</td><td>28</td><td> 9</td><td>Female</td><td>0</td><td>Yes</td><td>Asian           </td><td> 891</td></tr>\n",
       "\t<tr><th scope=row>44</th><td> 44</td><td>36.929</td><td>6257</td><td>445</td><td>1</td><td>24</td><td>14</td><td>Female</td><td>0</td><td>Yes</td><td>Asian           </td><td> 976</td></tr>\n",
       "\t<tr><th scope=row>151</th><td>151</td><td>63.931</td><td>5728</td><td>435</td><td>3</td><td>28</td><td>14</td><td>Female</td><td>0</td><td>Yes</td><td>African American</td><td> 581</td></tr>\n",
       "</tbody>\n",
       "</table>\n"
      ],
      "text/latex": [
       "A data.frame: 6 × 12\n",
       "\\begin{tabular}{r|llllllllllll}\n",
       "  & ID & Income & Limit & Rating & Cards & Age & Education & Gender & Student & Married & Ethnicity & Balance\\\\\n",
       "  & <int> & <dbl> & <int> & <int> & <int> & <int> & <int> & <chr> & <dbl> & <fct> & <fct> & <int>\\\\\n",
       "\\hline\n",
       "\t11 &  11 & 63.095 & 8117 & 589 & 4 & 30 & 14 &  Male  & 0 & Yes & Caucasian        & 1407\\\\\n",
       "\t114 & 114 & 69.251 & 6386 & 474 & 4 & 30 & 12 & Female & 0 & Yes & Asian            &  768\\\\\n",
       "\t45 &  45 & 31.861 & 6375 & 469 & 3 & 25 & 16 & Female & 0 & Yes & Caucasian        & 1120\\\\\n",
       "\t19 &  19 & 49.570 & 6384 & 448 & 1 & 28 &  9 & Female & 0 & Yes & Asian            &  891\\\\\n",
       "\t44 &  44 & 36.929 & 6257 & 445 & 1 & 24 & 14 & Female & 0 & Yes & Asian            &  976\\\\\n",
       "\t151 & 151 & 63.931 & 5728 & 435 & 3 & 28 & 14 & Female & 0 & Yes & African American &  581\\\\\n",
       "\\end{tabular}\n"
      ],
      "text/markdown": [
       "\n",
       "A data.frame: 6 × 12\n",
       "\n",
       "| <!--/--> | ID &lt;int&gt; | Income &lt;dbl&gt; | Limit &lt;int&gt; | Rating &lt;int&gt; | Cards &lt;int&gt; | Age &lt;int&gt; | Education &lt;int&gt; | Gender &lt;chr&gt; | Student &lt;dbl&gt; | Married &lt;fct&gt; | Ethnicity &lt;fct&gt; | Balance &lt;int&gt; |\n",
       "|---|---|---|---|---|---|---|---|---|---|---|---|---|\n",
       "| 11 |  11 | 63.095 | 8117 | 589 | 4 | 30 | 14 |  Male  | 0 | Yes | Caucasian        | 1407 |\n",
       "| 114 | 114 | 69.251 | 6386 | 474 | 4 | 30 | 12 | Female | 0 | Yes | Asian            |  768 |\n",
       "| 45 |  45 | 31.861 | 6375 | 469 | 3 | 25 | 16 | Female | 0 | Yes | Caucasian        | 1120 |\n",
       "| 19 |  19 | 49.570 | 6384 | 448 | 1 | 28 |  9 | Female | 0 | Yes | Asian            |  891 |\n",
       "| 44 |  44 | 36.929 | 6257 | 445 | 1 | 24 | 14 | Female | 0 | Yes | Asian            |  976 |\n",
       "| 151 | 151 | 63.931 | 5728 | 435 | 3 | 28 | 14 | Female | 0 | Yes | African American |  581 |\n",
       "\n"
      ],
      "text/plain": [
       "    ID  Income Limit Rating Cards Age Education Gender Student Married\n",
       "11   11 63.095 8117  589    4     30  14         Male  0       Yes    \n",
       "114 114 69.251 6386  474    4     30  12        Female 0       Yes    \n",
       "45   45 31.861 6375  469    3     25  16        Female 0       Yes    \n",
       "19   19 49.570 6384  448    1     28   9        Female 0       Yes    \n",
       "44   44 36.929 6257  445    1     24  14        Female 0       Yes    \n",
       "151 151 63.931 5728  435    3     28  14        Female 0       Yes    \n",
       "    Ethnicity        Balance\n",
       "11  Caucasian        1407   \n",
       "114 Asian             768   \n",
       "45  Caucasian        1120   \n",
       "19  Asian             891   \n",
       "44  Asian             976   \n",
       "151 African American  581   "
      ]
     },
     "metadata": {},
     "output_type": "display_data"
    }
   ],
   "source": [
    "#7. Evaluate average `Income` for `Married = YES` `Married = NO` with age in rage [20,30]\n",
    "# 7.1 Make the same for Age [30;40]\n",
    "credit_data$Gender <- as.character(credit_data$Gender)\n",
    "marries_yes <- credit_data[credit_data$Age %in% c(20:30) & credit_data$Married == \"Yes\", ]\n",
    "head(marries_yes)"
   ]
  },
  {
   "cell_type": "code",
   "execution_count": 151,
   "metadata": {},
   "outputs": [
    {
     "data": {
      "text/html": [
       "<table class=\"dataframe\">\n",
       "<caption>A data.frame: 6 × 12</caption>\n",
       "<thead>\n",
       "\t<tr><th></th><th scope=col>ID</th><th scope=col>Income</th><th scope=col>Limit</th><th scope=col>Rating</th><th scope=col>Cards</th><th scope=col>Age</th><th scope=col>Education</th><th scope=col>Gender</th><th scope=col>Student</th><th scope=col>Married</th><th scope=col>Ethnicity</th><th scope=col>Balance</th></tr>\n",
       "\t<tr><th></th><th scope=col>&lt;int&gt;</th><th scope=col>&lt;dbl&gt;</th><th scope=col>&lt;int&gt;</th><th scope=col>&lt;int&gt;</th><th scope=col>&lt;int&gt;</th><th scope=col>&lt;int&gt;</th><th scope=col>&lt;int&gt;</th><th scope=col>&lt;chr&gt;</th><th scope=col>&lt;dbl&gt;</th><th scope=col>&lt;fct&gt;</th><th scope=col>&lt;fct&gt;</th><th scope=col>&lt;int&gt;</th></tr>\n",
       "</thead>\n",
       "<tbody>\n",
       "\t<tr><th scope=row>212</th><td>212</td><td>29.567</td><td>5309</td><td>397</td><td>3</td><td>25</td><td>15</td><td> Male </td><td>0</td><td>No</td><td>Caucasian       </td><td>799</td></tr>\n",
       "\t<tr><th scope=row>94</th><td> 94</td><td>16.479</td><td>5435</td><td>388</td><td>2</td><td>26</td><td>16</td><td> Male </td><td>0</td><td>No</td><td>African American</td><td>937</td></tr>\n",
       "\t<tr><th scope=row>272</th><td>272</td><td>44.978</td><td>4866</td><td>347</td><td>1</td><td>30</td><td>10</td><td>Female</td><td>0</td><td>No</td><td>Caucasian       </td><td>436</td></tr>\n",
       "\t<tr><th scope=row>206</th><td>206</td><td>10.793</td><td>3878</td><td>321</td><td>8</td><td>29</td><td>13</td><td> Male </td><td>0</td><td>No</td><td>Caucasian       </td><td>638</td></tr>\n",
       "\t<tr><th scope=row>179</th><td>179</td><td>28.316</td><td>4391</td><td>316</td><td>2</td><td>29</td><td>10</td><td>Female</td><td>0</td><td>No</td><td>Caucasian       </td><td>453</td></tr>\n",
       "\t<tr><th scope=row>186</th><td>186</td><td>30.420</td><td>4442</td><td>316</td><td>1</td><td>30</td><td>14</td><td>Female</td><td>0</td><td>No</td><td>African American</td><td>450</td></tr>\n",
       "</tbody>\n",
       "</table>\n"
      ],
      "text/latex": [
       "A data.frame: 6 × 12\n",
       "\\begin{tabular}{r|llllllllllll}\n",
       "  & ID & Income & Limit & Rating & Cards & Age & Education & Gender & Student & Married & Ethnicity & Balance\\\\\n",
       "  & <int> & <dbl> & <int> & <int> & <int> & <int> & <int> & <chr> & <dbl> & <fct> & <fct> & <int>\\\\\n",
       "\\hline\n",
       "\t212 & 212 & 29.567 & 5309 & 397 & 3 & 25 & 15 &  Male  & 0 & No & Caucasian        & 799\\\\\n",
       "\t94 &  94 & 16.479 & 5435 & 388 & 2 & 26 & 16 &  Male  & 0 & No & African American & 937\\\\\n",
       "\t272 & 272 & 44.978 & 4866 & 347 & 1 & 30 & 10 & Female & 0 & No & Caucasian        & 436\\\\\n",
       "\t206 & 206 & 10.793 & 3878 & 321 & 8 & 29 & 13 &  Male  & 0 & No & Caucasian        & 638\\\\\n",
       "\t179 & 179 & 28.316 & 4391 & 316 & 2 & 29 & 10 & Female & 0 & No & Caucasian        & 453\\\\\n",
       "\t186 & 186 & 30.420 & 4442 & 316 & 1 & 30 & 14 & Female & 0 & No & African American & 450\\\\\n",
       "\\end{tabular}\n"
      ],
      "text/markdown": [
       "\n",
       "A data.frame: 6 × 12\n",
       "\n",
       "| <!--/--> | ID &lt;int&gt; | Income &lt;dbl&gt; | Limit &lt;int&gt; | Rating &lt;int&gt; | Cards &lt;int&gt; | Age &lt;int&gt; | Education &lt;int&gt; | Gender &lt;chr&gt; | Student &lt;dbl&gt; | Married &lt;fct&gt; | Ethnicity &lt;fct&gt; | Balance &lt;int&gt; |\n",
       "|---|---|---|---|---|---|---|---|---|---|---|---|---|\n",
       "| 212 | 212 | 29.567 | 5309 | 397 | 3 | 25 | 15 |  Male  | 0 | No | Caucasian        | 799 |\n",
       "| 94 |  94 | 16.479 | 5435 | 388 | 2 | 26 | 16 |  Male  | 0 | No | African American | 937 |\n",
       "| 272 | 272 | 44.978 | 4866 | 347 | 1 | 30 | 10 | Female | 0 | No | Caucasian        | 436 |\n",
       "| 206 | 206 | 10.793 | 3878 | 321 | 8 | 29 | 13 |  Male  | 0 | No | Caucasian        | 638 |\n",
       "| 179 | 179 | 28.316 | 4391 | 316 | 2 | 29 | 10 | Female | 0 | No | Caucasian        | 453 |\n",
       "| 186 | 186 | 30.420 | 4442 | 316 | 1 | 30 | 14 | Female | 0 | No | African American | 450 |\n",
       "\n"
      ],
      "text/plain": [
       "    ID  Income Limit Rating Cards Age Education Gender Student Married\n",
       "212 212 29.567 5309  397    3     25  15         Male  0       No     \n",
       "94   94 16.479 5435  388    2     26  16         Male  0       No     \n",
       "272 272 44.978 4866  347    1     30  10        Female 0       No     \n",
       "206 206 10.793 3878  321    8     29  13         Male  0       No     \n",
       "179 179 28.316 4391  316    2     29  10        Female 0       No     \n",
       "186 186 30.420 4442  316    1     30  14        Female 0       No     \n",
       "    Ethnicity        Balance\n",
       "212 Caucasian        799    \n",
       "94  African American 937    \n",
       "272 Caucasian        436    \n",
       "206 Caucasian        638    \n",
       "179 Caucasian        453    \n",
       "186 African American 450    "
      ]
     },
     "metadata": {},
     "output_type": "display_data"
    }
   ],
   "source": [
    "marries_no <- credit_data[credit_data$Age %in% c(20:30) & credit_data$Married == \"No\", ]\n",
    "head(marries_no)"
   ]
  },
  {
   "cell_type": "code",
   "execution_count": 155,
   "metadata": {},
   "outputs": [
    {
     "data": {
      "text/html": [
       "35.25635"
      ],
      "text/latex": [
       "35.25635"
      ],
      "text/markdown": [
       "35.25635"
      ],
      "text/plain": [
       "[1] 35.25635"
      ]
     },
     "metadata": {},
     "output_type": "display_data"
    },
    {
     "data": {
      "text/html": [
       "25.1618333333333"
      ],
      "text/latex": [
       "25.1618333333333"
      ],
      "text/markdown": [
       "25.1618333333333"
      ],
      "text/plain": [
       "[1] 25.16183"
      ]
     },
     "metadata": {},
     "output_type": "display_data"
    }
   ],
   "source": [
    "mean(marries_yes$Income) # is it better to be merried? :)\n",
    "mean(marries_no$Income)"
   ]
  },
  {
   "cell_type": "code",
   "execution_count": 208,
   "metadata": {},
   "outputs": [
    {
     "data": {
      "text/html": [
       "38.4084651162791"
      ],
      "text/latex": [
       "38.4084651162791"
      ],
      "text/markdown": [
       "38.4084651162791"
      ],
      "text/plain": [
       "[1] 38.40847"
      ]
     },
     "metadata": {},
     "output_type": "display_data"
    },
    {
     "data": {
      "text/html": [
       "43.0604583333333"
      ],
      "text/latex": [
       "43.0604583333333"
      ],
      "text/markdown": [
       "43.0604583333333"
      ],
      "text/plain": [
       "[1] 43.06046"
      ]
     },
     "metadata": {},
     "output_type": "display_data"
    }
   ],
   "source": [
    "marries_yes <- credit_data[credit_data$Age %in% c(30:40) & credit_data$Married == \"Yes\", ]\n",
    "marries_no <- credit_data[credit_data$Age %in% c(30:40) & credit_data$Married == \"No\", ]\n",
    "mean(marries_yes$Income) # is it better to be merried? :)\n",
    "mean(marries_no$Income)"
   ]
  },
  {
   "cell_type": "markdown",
   "metadata": {},
   "source": [
    "---"
   ]
  },
  {
   "cell_type": "markdown",
   "metadata": {},
   "source": [
    "# 5. Lists"
   ]
  },
  {
   "cell_type": "markdown",
   "metadata": {},
   "source": [
    "Lists are the R objects which contain elements of different types like − numbers, strings, vectors and another list inside it. A list can also contain a matrix or a function as its elements. List is created using `list()` function."
   ]
  },
  {
   "cell_type": "markdown",
   "metadata": {},
   "source": [
    "Before start lest see one more package for working with date `lubridate`. It has a lot of functions for date parsing, manipulating and other. Check it with:"
   ]
  },
  {
   "cell_type": "code",
   "execution_count": 163,
   "metadata": {},
   "outputs": [
    {
     "name": "stderr",
     "output_type": "stream",
     "text": [
      "\n",
      "Attaching package: 'lubridate'\n",
      "\n",
      "\n",
      "The following objects are masked from 'package:base':\n",
      "\n",
      "    date, intersect, setdiff, union\n",
      "\n",
      "\n"
     ]
    }
   ],
   "source": [
    "#install.package(\"lubridate\")\n",
    "#??lubridate"
   ]
  },
  {
   "cell_type": "markdown",
   "metadata": {},
   "source": [
    "For our sample we need function `ymd()` that parse charater date from format like \"2012-10-25\"."
   ]
  },
  {
   "cell_type": "code",
   "execution_count": 166,
   "metadata": {},
   "outputs": [
    {
     "data": {
      "text/html": [
       "<time datetime=\"2021-05-25\">2021-05-25</time>"
      ],
      "text/latex": [
       "2021-05-25"
      ],
      "text/markdown": [
       "2021-05-25"
      ],
      "text/plain": [
       "[1] \"2021-05-25\""
      ]
     },
     "metadata": {},
     "output_type": "display_data"
    },
    {
     "data": {
      "text/html": [
       "<time datetime=\"2021-05-27\">2021-05-27</time>"
      ],
      "text/latex": [
       "2021-05-27"
      ],
      "text/markdown": [
       "2021-05-27"
      ],
      "text/plain": [
       "[1] \"2021-05-27\""
      ]
     },
     "metadata": {},
     "output_type": "display_data"
    }
   ],
   "source": [
    "library(lubridate)\n",
    "date1 <- ymd(\"2021-05-25\")\n",
    "date2 <- ymd(\"2021-05-27\")\n",
    "\n",
    "date1\n",
    "date2"
   ]
  },
  {
   "cell_type": "markdown",
   "metadata": {},
   "source": [
    "You can also use `ymdhms()` to parse date and time correctly."
   ]
  },
  {
   "cell_type": "code",
   "execution_count": 170,
   "metadata": {},
   "outputs": [
    {
     "data": {
      "text/plain": [
       "[1] \"2021-05-25 11:05:12 UTC\""
      ]
     },
     "metadata": {},
     "output_type": "display_data"
    }
   ],
   "source": [
    "datetime <- ymd_hms(\"2021-05-25 11:05:12\", tz = \"UTC\") # wee need this for client transactions fix\n",
    "datetime"
   ]
  },
  {
   "cell_type": "markdown",
   "metadata": {},
   "source": [
    "### Creating a List"
   ]
  },
  {
   "cell_type": "markdown",
   "metadata": {},
   "source": [
    "Following is an example to create a list containing vectors, strings, numbers and a logical values. Our list will describe a model of banks client:"
   ]
  },
  {
   "cell_type": "code",
   "execution_count": 189,
   "metadata": {},
   "outputs": [
    {
     "data": {
      "text/html": [
       "<table class=\"dataframe\">\n",
       "<caption>A data.frame: 6 × 4</caption>\n",
       "<thead>\n",
       "\t<tr><th scope=col>contract_id</th><th scope=col>datetime</th><th scope=col>oper_type</th><th scope=col>amount</th></tr>\n",
       "\t<tr><th scope=col>&lt;int&gt;</th><th scope=col>&lt;dttm&gt;</th><th scope=col>&lt;int&gt;</th><th scope=col>&lt;dbl&gt;</th></tr>\n",
       "</thead>\n",
       "<tbody>\n",
       "\t<tr><td>34387</td><td>2021-05-25 11:05:12</td><td>1</td><td>-187.72</td></tr>\n",
       "\t<tr><td>69520</td><td>2021-05-25 11:07:14</td><td>0</td><td> 307.99</td></tr>\n",
       "\t<tr><td>34387</td><td>2021-05-25 11:08:02</td><td>0</td><td> 993.38</td></tr>\n",
       "\t<tr><td>69520</td><td>2021-05-25 11:12:45</td><td>0</td><td> 597.78</td></tr>\n",
       "\t<tr><td>34387</td><td>2021-05-25 11:47:00</td><td>1</td><td>-277.93</td></tr>\n",
       "\t<tr><td>69520</td><td>2021-05-25 11:48:08</td><td>1</td><td>-874.21</td></tr>\n",
       "</tbody>\n",
       "</table>\n"
      ],
      "text/latex": [
       "A data.frame: 6 × 4\n",
       "\\begin{tabular}{llll}\n",
       " contract\\_id & datetime & oper\\_type & amount\\\\\n",
       " <int> & <dttm> & <int> & <dbl>\\\\\n",
       "\\hline\n",
       "\t 34387 & 2021-05-25 11:05:12 & 1 & -187.72\\\\\n",
       "\t 69520 & 2021-05-25 11:07:14 & 0 &  307.99\\\\\n",
       "\t 34387 & 2021-05-25 11:08:02 & 0 &  993.38\\\\\n",
       "\t 69520 & 2021-05-25 11:12:45 & 0 &  597.78\\\\\n",
       "\t 34387 & 2021-05-25 11:47:00 & 1 & -277.93\\\\\n",
       "\t 69520 & 2021-05-25 11:48:08 & 1 & -874.21\\\\\n",
       "\\end{tabular}\n"
      ],
      "text/markdown": [
       "\n",
       "A data.frame: 6 × 4\n",
       "\n",
       "| contract_id &lt;int&gt; | datetime &lt;dttm&gt; | oper_type &lt;int&gt; | amount &lt;dbl&gt; |\n",
       "|---|---|---|---|\n",
       "| 34387 | 2021-05-25 11:05:12 | 1 | -187.72 |\n",
       "| 69520 | 2021-05-25 11:07:14 | 0 |  307.99 |\n",
       "| 34387 | 2021-05-25 11:08:02 | 0 |  993.38 |\n",
       "| 69520 | 2021-05-25 11:12:45 | 0 |  597.78 |\n",
       "| 34387 | 2021-05-25 11:47:00 | 1 | -277.93 |\n",
       "| 69520 | 2021-05-25 11:48:08 | 1 | -874.21 |\n",
       "\n"
      ],
      "text/plain": [
       "  contract_id datetime            oper_type amount \n",
       "1 34387       2021-05-25 11:05:12 1         -187.72\n",
       "2 69520       2021-05-25 11:07:14 0          307.99\n",
       "3 34387       2021-05-25 11:08:02 0          993.38\n",
       "4 69520       2021-05-25 11:12:45 0          597.78\n",
       "5 34387       2021-05-25 11:47:00 1         -277.93\n",
       "6 69520       2021-05-25 11:48:08 1         -874.21"
      ]
     },
     "metadata": {},
     "output_type": "display_data"
    }
   ],
   "source": [
    "# initial values\n",
    "\n",
    "set.seed(1) # for fixing pseudo-random\n",
    "\n",
    "client_name <- \"John Doe\"\n",
    "services <- c(\"credit\", \"deposite\", \"online-app\")\n",
    "is_active <- TRUE\n",
    "transactions <- data.frame(contract_id = sample(10000:99999, size = 2, replace = T),# random numbers\n",
    "                          datetime = c(ymd_hms(\"2021-05-25 11:05:12\"),\n",
    "                                      ymd_hms(\"2021-05-25 11:07:14\"),\n",
    "                                      ymd_hms(\"2021-05-25 11:08:02\"),\n",
    "                                      ymd_hms(\"2021-05-25 11:12:45\"),\n",
    "                                      ymd_hms(\"2021-05-25 11:47:00\"),\n",
    "                                      ymd_hms(\"2021-05-25 11:48:08\")),\n",
    "                         oper_type = sample(0:1, size=6, replace = T), # 1 for debet, 0 for credet\n",
    "                         amount = round(sample(1:1000, size = 6) + runif(6),2))   \n",
    "\n",
    "#change AMOUNT to minus for debet (opertype == 1 \n",
    "transactions$amount <- ifelse(transactions$oper_type == 1, (-1)*transactions$amount, transactions$amount) \n",
    "transactions"
   ]
  },
  {
   "cell_type": "code",
   "execution_count": 192,
   "metadata": {},
   "outputs": [
    {
     "data": {
      "text/html": [
       "<ol>\n",
       "\t<li>'John Doe'</li>\n",
       "\t<li>TRUE</li>\n",
       "\t<li><style>\n",
       ".list-inline {list-style: none; margin:0; padding: 0}\n",
       ".list-inline>li {display: inline-block}\n",
       ".list-inline>li:not(:last-child)::after {content: \"\\00b7\"; padding: 0 .5ex}\n",
       "</style>\n",
       "<ol class=list-inline><li>'credit'</li><li>'deposite'</li><li>'online-app'</li></ol>\n",
       "</li>\n",
       "\t<li><table class=\"dataframe\">\n",
       "<caption>A data.frame: 6 × 4</caption>\n",
       "<thead>\n",
       "\t<tr><th scope=col>contract_id</th><th scope=col>datetime</th><th scope=col>oper_type</th><th scope=col>amount</th></tr>\n",
       "\t<tr><th scope=col>&lt;int&gt;</th><th scope=col>&lt;dttm&gt;</th><th scope=col>&lt;int&gt;</th><th scope=col>&lt;dbl&gt;</th></tr>\n",
       "</thead>\n",
       "<tbody>\n",
       "\t<tr><td>34387</td><td>2021-05-25 11:05:12</td><td>1</td><td>-187.72</td></tr>\n",
       "\t<tr><td>69520</td><td>2021-05-25 11:07:14</td><td>0</td><td> 307.99</td></tr>\n",
       "\t<tr><td>34387</td><td>2021-05-25 11:08:02</td><td>0</td><td> 993.38</td></tr>\n",
       "\t<tr><td>69520</td><td>2021-05-25 11:12:45</td><td>0</td><td> 597.78</td></tr>\n",
       "\t<tr><td>34387</td><td>2021-05-25 11:47:00</td><td>1</td><td>-277.93</td></tr>\n",
       "\t<tr><td>69520</td><td>2021-05-25 11:48:08</td><td>1</td><td>-874.21</td></tr>\n",
       "</tbody>\n",
       "</table>\n",
       "</li>\n",
       "</ol>\n"
      ],
      "text/latex": [
       "\\begin{enumerate}\n",
       "\\item 'John Doe'\n",
       "\\item TRUE\n",
       "\\item \\begin{enumerate*}\n",
       "\\item 'credit'\n",
       "\\item 'deposite'\n",
       "\\item 'online-app'\n",
       "\\end{enumerate*}\n",
       "\n",
       "\\item A data.frame: 6 × 4\n",
       "\\begin{tabular}{llll}\n",
       " contract\\_id & datetime & oper\\_type & amount\\\\\n",
       " <int> & <dttm> & <int> & <dbl>\\\\\n",
       "\\hline\n",
       "\t 34387 & 2021-05-25 11:05:12 & 1 & -187.72\\\\\n",
       "\t 69520 & 2021-05-25 11:07:14 & 0 &  307.99\\\\\n",
       "\t 34387 & 2021-05-25 11:08:02 & 0 &  993.38\\\\\n",
       "\t 69520 & 2021-05-25 11:12:45 & 0 &  597.78\\\\\n",
       "\t 34387 & 2021-05-25 11:47:00 & 1 & -277.93\\\\\n",
       "\t 69520 & 2021-05-25 11:48:08 & 1 & -874.21\\\\\n",
       "\\end{tabular}\n",
       "\n",
       "\\end{enumerate}\n"
      ],
      "text/markdown": [
       "1. 'John Doe'\n",
       "2. TRUE\n",
       "3. 1. 'credit'\n",
       "2. 'deposite'\n",
       "3. 'online-app'\n",
       "\n",
       "\n",
       "\n",
       "4. \n",
       "A data.frame: 6 × 4\n",
       "\n",
       "| contract_id &lt;int&gt; | datetime &lt;dttm&gt; | oper_type &lt;int&gt; | amount &lt;dbl&gt; |\n",
       "|---|---|---|---|\n",
       "| 34387 | 2021-05-25 11:05:12 | 1 | -187.72 |\n",
       "| 69520 | 2021-05-25 11:07:14 | 0 |  307.99 |\n",
       "| 34387 | 2021-05-25 11:08:02 | 0 |  993.38 |\n",
       "| 69520 | 2021-05-25 11:12:45 | 0 |  597.78 |\n",
       "| 34387 | 2021-05-25 11:47:00 | 1 | -277.93 |\n",
       "| 69520 | 2021-05-25 11:48:08 | 1 | -874.21 |\n",
       "\n",
       "\n",
       "\n",
       "\n"
      ],
      "text/plain": [
       "[[1]]\n",
       "[1] \"John Doe\"\n",
       "\n",
       "[[2]]\n",
       "[1] TRUE\n",
       "\n",
       "[[3]]\n",
       "[1] \"credit\"     \"deposite\"   \"online-app\"\n",
       "\n",
       "[[4]]\n",
       "  contract_id            datetime oper_type  amount\n",
       "1       34387 2021-05-25 11:05:12         1 -187.72\n",
       "2       69520 2021-05-25 11:07:14         0  307.99\n",
       "3       34387 2021-05-25 11:08:02         0  993.38\n",
       "4       69520 2021-05-25 11:12:45         0  597.78\n",
       "5       34387 2021-05-25 11:47:00         1 -277.93\n",
       "6       69520 2021-05-25 11:48:08         1 -874.21\n"
      ]
     },
     "metadata": {},
     "output_type": "display_data"
    }
   ],
   "source": [
    "# creating list of signle objects, vector and dataframe\n",
    "list_data <- list(client_name, is_active, services, transactions)\n",
    "list_data"
   ]
  },
  {
   "cell_type": "markdown",
   "metadata": {},
   "source": [
    "### Naming List Elements"
   ]
  },
  {
   "cell_type": "markdown",
   "metadata": {},
   "source": [
    "Its better to name elements in list:"
   ]
  },
  {
   "cell_type": "code",
   "execution_count": 202,
   "metadata": {},
   "outputs": [
    {
     "data": {
      "text/html": [
       "<dl>\n",
       "\t<dt>$ClientName</dt>\n",
       "\t\t<dd>'John Doe'</dd>\n",
       "\t<dt>$IsActive</dt>\n",
       "\t\t<dd>TRUE</dd>\n",
       "\t<dt>$Services</dt>\n",
       "\t\t<dd><style>\n",
       ".list-inline {list-style: none; margin:0; padding: 0}\n",
       ".list-inline>li {display: inline-block}\n",
       ".list-inline>li:not(:last-child)::after {content: \"\\00b7\"; padding: 0 .5ex}\n",
       "</style>\n",
       "<ol class=list-inline><li>'credit'</li><li>'deposite'</li><li>'online-app'</li></ol>\n",
       "</dd>\n",
       "\t<dt>$Transactions</dt>\n",
       "\t\t<dd><table class=\"dataframe\">\n",
       "<caption>A data.frame: 6 × 4</caption>\n",
       "<thead>\n",
       "\t<tr><th scope=col>contract_id</th><th scope=col>datetime</th><th scope=col>oper_type</th><th scope=col>amount</th></tr>\n",
       "\t<tr><th scope=col>&lt;int&gt;</th><th scope=col>&lt;dttm&gt;</th><th scope=col>&lt;int&gt;</th><th scope=col>&lt;dbl&gt;</th></tr>\n",
       "</thead>\n",
       "<tbody>\n",
       "\t<tr><td>34387</td><td>2021-05-25 11:05:12</td><td>1</td><td>-187.72</td></tr>\n",
       "\t<tr><td>69520</td><td>2021-05-25 11:07:14</td><td>0</td><td> 307.99</td></tr>\n",
       "\t<tr><td>34387</td><td>2021-05-25 11:08:02</td><td>0</td><td> 993.38</td></tr>\n",
       "\t<tr><td>69520</td><td>2021-05-25 11:12:45</td><td>0</td><td> 597.78</td></tr>\n",
       "\t<tr><td>34387</td><td>2021-05-25 11:47:00</td><td>1</td><td>-277.93</td></tr>\n",
       "\t<tr><td>69520</td><td>2021-05-25 11:48:08</td><td>1</td><td>-874.21</td></tr>\n",
       "</tbody>\n",
       "</table>\n",
       "</dd>\n",
       "</dl>\n"
      ],
      "text/latex": [
       "\\begin{description}\n",
       "\\item[\\$ClientName] 'John Doe'\n",
       "\\item[\\$IsActive] TRUE\n",
       "\\item[\\$Services] \\begin{enumerate*}\n",
       "\\item 'credit'\n",
       "\\item 'deposite'\n",
       "\\item 'online-app'\n",
       "\\end{enumerate*}\n",
       "\n",
       "\\item[\\$Transactions] A data.frame: 6 × 4\n",
       "\\begin{tabular}{llll}\n",
       " contract\\_id & datetime & oper\\_type & amount\\\\\n",
       " <int> & <dttm> & <int> & <dbl>\\\\\n",
       "\\hline\n",
       "\t 34387 & 2021-05-25 11:05:12 & 1 & -187.72\\\\\n",
       "\t 69520 & 2021-05-25 11:07:14 & 0 &  307.99\\\\\n",
       "\t 34387 & 2021-05-25 11:08:02 & 0 &  993.38\\\\\n",
       "\t 69520 & 2021-05-25 11:12:45 & 0 &  597.78\\\\\n",
       "\t 34387 & 2021-05-25 11:47:00 & 1 & -277.93\\\\\n",
       "\t 69520 & 2021-05-25 11:48:08 & 1 & -874.21\\\\\n",
       "\\end{tabular}\n",
       "\n",
       "\\end{description}\n"
      ],
      "text/markdown": [
       "$ClientName\n",
       ":   'John Doe'\n",
       "$IsActive\n",
       ":   TRUE\n",
       "$Services\n",
       ":   1. 'credit'\n",
       "2. 'deposite'\n",
       "3. 'online-app'\n",
       "\n",
       "\n",
       "\n",
       "$Transactions\n",
       ":   \n",
       "A data.frame: 6 × 4\n",
       "\n",
       "| contract_id &lt;int&gt; | datetime &lt;dttm&gt; | oper_type &lt;int&gt; | amount &lt;dbl&gt; |\n",
       "|---|---|---|---|\n",
       "| 34387 | 2021-05-25 11:05:12 | 1 | -187.72 |\n",
       "| 69520 | 2021-05-25 11:07:14 | 0 |  307.99 |\n",
       "| 34387 | 2021-05-25 11:08:02 | 0 |  993.38 |\n",
       "| 69520 | 2021-05-25 11:12:45 | 0 |  597.78 |\n",
       "| 34387 | 2021-05-25 11:47:00 | 1 | -277.93 |\n",
       "| 69520 | 2021-05-25 11:48:08 | 1 | -874.21 |\n",
       "\n",
       "\n",
       "\n",
       "\n"
      ],
      "text/plain": [
       "$ClientName\n",
       "[1] \"John Doe\"\n",
       "\n",
       "$IsActive\n",
       "[1] TRUE\n",
       "\n",
       "$Services\n",
       "[1] \"credit\"     \"deposite\"   \"online-app\"\n",
       "\n",
       "$Transactions\n",
       "  contract_id            datetime oper_type  amount\n",
       "1       34387 2021-05-25 11:05:12         1 -187.72\n",
       "2       69520 2021-05-25 11:07:14         0  307.99\n",
       "3       34387 2021-05-25 11:08:02         0  993.38\n",
       "4       69520 2021-05-25 11:12:45         0  597.78\n",
       "5       34387 2021-05-25 11:47:00         1 -277.93\n",
       "6       69520 2021-05-25 11:48:08         1 -874.21\n"
      ]
     },
     "metadata": {},
     "output_type": "display_data"
    }
   ],
   "source": [
    "names(list_data) <- c(\"ClientName\", \"IsActive\", \"Services\", \"Transactions\")\n",
    "list_data"
   ]
  },
  {
   "cell_type": "markdown",
   "metadata": {},
   "source": [
    "You can extend list \"on fly\" with `$`:"
   ]
  },
  {
   "cell_type": "code",
   "execution_count": 205,
   "metadata": {},
   "outputs": [
    {
     "data": {
      "text/html": [
       "<dl>\n",
       "\t<dt>$ClientName</dt>\n",
       "\t\t<dd>'John Doe'</dd>\n",
       "\t<dt>$IsActive</dt>\n",
       "\t\t<dd>TRUE</dd>\n",
       "\t<dt>$Services</dt>\n",
       "\t\t<dd><style>\n",
       ".list-inline {list-style: none; margin:0; padding: 0}\n",
       ".list-inline>li {display: inline-block}\n",
       ".list-inline>li:not(:last-child)::after {content: \"\\00b7\"; padding: 0 .5ex}\n",
       "</style>\n",
       "<ol class=list-inline><li>'credit'</li><li>'deposite'</li><li>'online-app'</li></ol>\n",
       "</dd>\n",
       "\t<dt>$Transactions</dt>\n",
       "\t\t<dd><table class=\"dataframe\">\n",
       "<caption>A data.frame: 6 × 4</caption>\n",
       "<thead>\n",
       "\t<tr><th scope=col>contract_id</th><th scope=col>datetime</th><th scope=col>oper_type</th><th scope=col>amount</th></tr>\n",
       "\t<tr><th scope=col>&lt;int&gt;</th><th scope=col>&lt;dttm&gt;</th><th scope=col>&lt;int&gt;</th><th scope=col>&lt;dbl&gt;</th></tr>\n",
       "</thead>\n",
       "<tbody>\n",
       "\t<tr><td>34387</td><td>2021-05-25 11:05:12</td><td>1</td><td>-187.72</td></tr>\n",
       "\t<tr><td>69520</td><td>2021-05-25 11:07:14</td><td>0</td><td> 307.99</td></tr>\n",
       "\t<tr><td>34387</td><td>2021-05-25 11:08:02</td><td>0</td><td> 993.38</td></tr>\n",
       "\t<tr><td>69520</td><td>2021-05-25 11:12:45</td><td>0</td><td> 597.78</td></tr>\n",
       "\t<tr><td>34387</td><td>2021-05-25 11:47:00</td><td>1</td><td>-277.93</td></tr>\n",
       "\t<tr><td>69520</td><td>2021-05-25 11:48:08</td><td>1</td><td>-874.21</td></tr>\n",
       "</tbody>\n",
       "</table>\n",
       "</dd>\n",
       "\t<dt>$ClientId</dt>\n",
       "\t\t<dd>11125489656</dd>\n",
       "</dl>\n"
      ],
      "text/latex": [
       "\\begin{description}\n",
       "\\item[\\$ClientName] 'John Doe'\n",
       "\\item[\\$IsActive] TRUE\n",
       "\\item[\\$Services] \\begin{enumerate*}\n",
       "\\item 'credit'\n",
       "\\item 'deposite'\n",
       "\\item 'online-app'\n",
       "\\end{enumerate*}\n",
       "\n",
       "\\item[\\$Transactions] A data.frame: 6 × 4\n",
       "\\begin{tabular}{llll}\n",
       " contract\\_id & datetime & oper\\_type & amount\\\\\n",
       " <int> & <dttm> & <int> & <dbl>\\\\\n",
       "\\hline\n",
       "\t 34387 & 2021-05-25 11:05:12 & 1 & -187.72\\\\\n",
       "\t 69520 & 2021-05-25 11:07:14 & 0 &  307.99\\\\\n",
       "\t 34387 & 2021-05-25 11:08:02 & 0 &  993.38\\\\\n",
       "\t 69520 & 2021-05-25 11:12:45 & 0 &  597.78\\\\\n",
       "\t 34387 & 2021-05-25 11:47:00 & 1 & -277.93\\\\\n",
       "\t 69520 & 2021-05-25 11:48:08 & 1 & -874.21\\\\\n",
       "\\end{tabular}\n",
       "\n",
       "\\item[\\$ClientId] 11125489656\n",
       "\\end{description}\n"
      ],
      "text/markdown": [
       "$ClientName\n",
       ":   'John Doe'\n",
       "$IsActive\n",
       ":   TRUE\n",
       "$Services\n",
       ":   1. 'credit'\n",
       "2. 'deposite'\n",
       "3. 'online-app'\n",
       "\n",
       "\n",
       "\n",
       "$Transactions\n",
       ":   \n",
       "A data.frame: 6 × 4\n",
       "\n",
       "| contract_id &lt;int&gt; | datetime &lt;dttm&gt; | oper_type &lt;int&gt; | amount &lt;dbl&gt; |\n",
       "|---|---|---|---|\n",
       "| 34387 | 2021-05-25 11:05:12 | 1 | -187.72 |\n",
       "| 69520 | 2021-05-25 11:07:14 | 0 |  307.99 |\n",
       "| 34387 | 2021-05-25 11:08:02 | 0 |  993.38 |\n",
       "| 69520 | 2021-05-25 11:12:45 | 0 |  597.78 |\n",
       "| 34387 | 2021-05-25 11:47:00 | 1 | -277.93 |\n",
       "| 69520 | 2021-05-25 11:48:08 | 1 | -874.21 |\n",
       "\n",
       "\n",
       "$ClientId\n",
       ":   11125489656\n",
       "\n",
       "\n"
      ],
      "text/plain": [
       "$ClientName\n",
       "[1] \"John Doe\"\n",
       "\n",
       "$IsActive\n",
       "[1] TRUE\n",
       "\n",
       "$Services\n",
       "[1] \"credit\"     \"deposite\"   \"online-app\"\n",
       "\n",
       "$Transactions\n",
       "  contract_id            datetime oper_type  amount\n",
       "1       34387 2021-05-25 11:05:12         1 -187.72\n",
       "2       69520 2021-05-25 11:07:14         0  307.99\n",
       "3       34387 2021-05-25 11:08:02         0  993.38\n",
       "4       69520 2021-05-25 11:12:45         0  597.78\n",
       "5       34387 2021-05-25 11:47:00         1 -277.93\n",
       "6       69520 2021-05-25 11:48:08         1 -874.21\n",
       "\n",
       "$ClientId\n",
       "[1] 11125489656\n"
      ]
     },
     "metadata": {},
     "output_type": "display_data"
    }
   ],
   "source": [
    "list_data$ClientId <- 11125489656\n",
    "list_data"
   ]
  },
  {
   "cell_type": "markdown",
   "metadata": {},
   "source": [
    "---"
   ]
  },
  {
   "cell_type": "markdown",
   "metadata": {},
   "source": [
    "### Accessing List Elements"
   ]
  },
  {
   "cell_type": "markdown",
   "metadata": {},
   "source": [
    "For now every element can be viewed with index in `[[]]` or `[]`:"
   ]
  },
  {
   "cell_type": "code",
   "execution_count": 196,
   "metadata": {},
   "outputs": [
    {
     "data": {
      "text/html": [
       "<ol>\n",
       "\t<li>'John Doe'</li>\n",
       "</ol>\n"
      ],
      "text/latex": [
       "\\begin{enumerate}\n",
       "\\item 'John Doe'\n",
       "\\end{enumerate}\n"
      ],
      "text/markdown": [
       "1. 'John Doe'\n",
       "\n",
       "\n"
      ],
      "text/plain": [
       "[[1]]\n",
       "[1] \"John Doe\"\n"
      ]
     },
     "metadata": {},
     "output_type": "display_data"
    },
    {
     "data": {
      "text/html": [
       "'list'"
      ],
      "text/latex": [
       "'list'"
      ],
      "text/markdown": [
       "'list'"
      ],
      "text/plain": [
       "[1] \"list\""
      ]
     },
     "metadata": {},
     "output_type": "display_data"
    }
   ],
   "source": [
    "# access to list element\n",
    "list_data[1]\n",
    "typeof(list_data[1])"
   ]
  },
  {
   "cell_type": "code",
   "execution_count": 199,
   "metadata": {},
   "outputs": [
    {
     "data": {
      "text/html": [
       "'John Doe'"
      ],
      "text/latex": [
       "'John Doe'"
      ],
      "text/markdown": [
       "'John Doe'"
      ],
      "text/plain": [
       "[1] \"John Doe\""
      ]
     },
     "metadata": {},
     "output_type": "display_data"
    },
    {
     "data": {
      "text/html": [
       "'character'"
      ],
      "text/latex": [
       "'character'"
      ],
      "text/markdown": [
       "'character'"
      ],
      "text/plain": [
       "[1] \"character\""
      ]
     },
     "metadata": {},
     "output_type": "display_data"
    }
   ],
   "source": [
    "# access to object\n",
    "list_data[[1]]\n",
    "typeof(list_data[[1]])"
   ]
  },
  {
   "cell_type": "markdown",
   "metadata": {},
   "source": [
    "Access by `$` also anbled:"
   ]
  },
  {
   "cell_type": "code",
   "execution_count": 207,
   "metadata": {},
   "outputs": [
    {
     "data": {
      "text/html": [
       "<table class=\"dataframe\">\n",
       "<caption>A data.frame: 6 × 4</caption>\n",
       "<thead>\n",
       "\t<tr><th scope=col>contract_id</th><th scope=col>datetime</th><th scope=col>oper_type</th><th scope=col>amount</th></tr>\n",
       "\t<tr><th scope=col>&lt;int&gt;</th><th scope=col>&lt;dttm&gt;</th><th scope=col>&lt;int&gt;</th><th scope=col>&lt;dbl&gt;</th></tr>\n",
       "</thead>\n",
       "<tbody>\n",
       "\t<tr><td>34387</td><td>2021-05-25 11:05:12</td><td>1</td><td>-187.72</td></tr>\n",
       "\t<tr><td>69520</td><td>2021-05-25 11:07:14</td><td>0</td><td> 307.99</td></tr>\n",
       "\t<tr><td>34387</td><td>2021-05-25 11:08:02</td><td>0</td><td> 993.38</td></tr>\n",
       "\t<tr><td>69520</td><td>2021-05-25 11:12:45</td><td>0</td><td> 597.78</td></tr>\n",
       "\t<tr><td>34387</td><td>2021-05-25 11:47:00</td><td>1</td><td>-277.93</td></tr>\n",
       "\t<tr><td>69520</td><td>2021-05-25 11:48:08</td><td>1</td><td>-874.21</td></tr>\n",
       "</tbody>\n",
       "</table>\n"
      ],
      "text/latex": [
       "A data.frame: 6 × 4\n",
       "\\begin{tabular}{llll}\n",
       " contract\\_id & datetime & oper\\_type & amount\\\\\n",
       " <int> & <dttm> & <int> & <dbl>\\\\\n",
       "\\hline\n",
       "\t 34387 & 2021-05-25 11:05:12 & 1 & -187.72\\\\\n",
       "\t 69520 & 2021-05-25 11:07:14 & 0 &  307.99\\\\\n",
       "\t 34387 & 2021-05-25 11:08:02 & 0 &  993.38\\\\\n",
       "\t 69520 & 2021-05-25 11:12:45 & 0 &  597.78\\\\\n",
       "\t 34387 & 2021-05-25 11:47:00 & 1 & -277.93\\\\\n",
       "\t 69520 & 2021-05-25 11:48:08 & 1 & -874.21\\\\\n",
       "\\end{tabular}\n"
      ],
      "text/markdown": [
       "\n",
       "A data.frame: 6 × 4\n",
       "\n",
       "| contract_id &lt;int&gt; | datetime &lt;dttm&gt; | oper_type &lt;int&gt; | amount &lt;dbl&gt; |\n",
       "|---|---|---|---|\n",
       "| 34387 | 2021-05-25 11:05:12 | 1 | -187.72 |\n",
       "| 69520 | 2021-05-25 11:07:14 | 0 |  307.99 |\n",
       "| 34387 | 2021-05-25 11:08:02 | 0 |  993.38 |\n",
       "| 69520 | 2021-05-25 11:12:45 | 0 |  597.78 |\n",
       "| 34387 | 2021-05-25 11:47:00 | 1 | -277.93 |\n",
       "| 69520 | 2021-05-25 11:48:08 | 1 | -874.21 |\n",
       "\n"
      ],
      "text/plain": [
       "  contract_id datetime            oper_type amount \n",
       "1 34387       2021-05-25 11:05:12 1         -187.72\n",
       "2 69520       2021-05-25 11:07:14 0          307.99\n",
       "3 34387       2021-05-25 11:08:02 0          993.38\n",
       "4 69520       2021-05-25 11:12:45 0          597.78\n",
       "5 34387       2021-05-25 11:47:00 1         -277.93\n",
       "6 69520       2021-05-25 11:48:08 1         -874.21"
      ]
     },
     "metadata": {},
     "output_type": "display_data"
    }
   ],
   "source": [
    "list_data$Transactions"
   ]
  },
  {
   "cell_type": "markdown",
   "metadata": {},
   "source": [
    "### Manipulating List Elements"
   ]
  },
  {
   "cell_type": "markdown",
   "metadata": {},
   "source": [
    "Lets continue using out `list_data` list."
   ]
  },
  {
   "cell_type": "code",
   "execution_count": 100,
   "metadata": {},
   "outputs": [
    {
     "data": {
      "text/html": [
       "<dl>\n",
       "\t<dt>$ClientName</dt>\n",
       "\t\t<dd>'John Doe'</dd>\n",
       "\t<dt>$IsActive</dt>\n",
       "\t\t<dd>TRUE</dd>\n",
       "\t<dt>$Services</dt>\n",
       "\t\t<dd><style>\n",
       ".list-inline {list-style: none; margin:0; padding: 0}\n",
       ".list-inline>li {display: inline-block}\n",
       ".list-inline>li:not(:last-child)::after {content: \"\\00b7\"; padding: 0 .5ex}\n",
       "</style>\n",
       "<ol class=list-inline><li>'credit'</li><li>'deposite'</li><li>'online-app'</li></ol>\n",
       "</dd>\n",
       "\t<dt>$Transactions</dt>\n",
       "\t\t<dd><table class=\"dataframe\">\n",
       "<caption>A data.frame: 6 × 4</caption>\n",
       "<thead>\n",
       "\t<tr><th scope=col>contract_id</th><th scope=col>datetime</th><th scope=col>oper_type</th><th scope=col>amount</th></tr>\n",
       "\t<tr><th scope=col>&lt;int&gt;</th><th scope=col>&lt;dttm&gt;</th><th scope=col>&lt;int&gt;</th><th scope=col>&lt;dbl&gt;</th></tr>\n",
       "</thead>\n",
       "<tbody>\n",
       "\t<tr><td>34387</td><td>2021-05-25 11:05:12</td><td>1</td><td>-187.72</td></tr>\n",
       "\t<tr><td>69520</td><td>2021-05-25 11:07:14</td><td>0</td><td> 307.99</td></tr>\n",
       "\t<tr><td>34387</td><td>2021-05-25 11:08:02</td><td>0</td><td> 993.38</td></tr>\n",
       "\t<tr><td>69520</td><td>2021-05-25 11:12:45</td><td>0</td><td> 597.78</td></tr>\n",
       "\t<tr><td>34387</td><td>2021-05-25 11:47:00</td><td>1</td><td>-277.93</td></tr>\n",
       "\t<tr><td>69520</td><td>2021-05-25 11:48:08</td><td>1</td><td>-874.21</td></tr>\n",
       "</tbody>\n",
       "</table>\n",
       "</dd>\n",
       "\t<dt>$ClientId</dt>\n",
       "\t\t<dd>11125489656</dd>\n",
       "</dl>\n"
      ],
      "text/latex": [
       "\\begin{description}\n",
       "\\item[\\$ClientName] 'John Doe'\n",
       "\\item[\\$IsActive] TRUE\n",
       "\\item[\\$Services] \\begin{enumerate*}\n",
       "\\item 'credit'\n",
       "\\item 'deposite'\n",
       "\\item 'online-app'\n",
       "\\end{enumerate*}\n",
       "\n",
       "\\item[\\$Transactions] A data.frame: 6 × 4\n",
       "\\begin{tabular}{llll}\n",
       " contract\\_id & datetime & oper\\_type & amount\\\\\n",
       " <int> & <dttm> & <int> & <dbl>\\\\\n",
       "\\hline\n",
       "\t 34387 & 2021-05-25 11:05:12 & 1 & -187.72\\\\\n",
       "\t 69520 & 2021-05-25 11:07:14 & 0 &  307.99\\\\\n",
       "\t 34387 & 2021-05-25 11:08:02 & 0 &  993.38\\\\\n",
       "\t 69520 & 2021-05-25 11:12:45 & 0 &  597.78\\\\\n",
       "\t 34387 & 2021-05-25 11:47:00 & 1 & -277.93\\\\\n",
       "\t 69520 & 2021-05-25 11:48:08 & 1 & -874.21\\\\\n",
       "\\end{tabular}\n",
       "\n",
       "\\item[\\$ClientId] 11125489656\n",
       "\\end{description}\n"
      ],
      "text/markdown": [
       "$ClientName\n",
       ":   'John Doe'\n",
       "$IsActive\n",
       ":   TRUE\n",
       "$Services\n",
       ":   1. 'credit'\n",
       "2. 'deposite'\n",
       "3. 'online-app'\n",
       "\n",
       "\n",
       "\n",
       "$Transactions\n",
       ":   \n",
       "A data.frame: 6 × 4\n",
       "\n",
       "| contract_id &lt;int&gt; | datetime &lt;dttm&gt; | oper_type &lt;int&gt; | amount &lt;dbl&gt; |\n",
       "|---|---|---|---|\n",
       "| 34387 | 2021-05-25 11:05:12 | 1 | -187.72 |\n",
       "| 69520 | 2021-05-25 11:07:14 | 0 |  307.99 |\n",
       "| 34387 | 2021-05-25 11:08:02 | 0 |  993.38 |\n",
       "| 69520 | 2021-05-25 11:12:45 | 0 |  597.78 |\n",
       "| 34387 | 2021-05-25 11:47:00 | 1 | -277.93 |\n",
       "| 69520 | 2021-05-25 11:48:08 | 1 | -874.21 |\n",
       "\n",
       "\n",
       "$ClientId\n",
       ":   11125489656\n",
       "\n",
       "\n"
      ],
      "text/plain": [
       "$ClientName\n",
       "[1] \"John Doe\"\n",
       "\n",
       "$IsActive\n",
       "[1] TRUE\n",
       "\n",
       "$Services\n",
       "[1] \"credit\"     \"deposite\"   \"online-app\"\n",
       "\n",
       "$Transactions\n",
       "  contract_id            datetime oper_type  amount\n",
       "1       34387 2021-05-25 11:05:12         1 -187.72\n",
       "2       69520 2021-05-25 11:07:14         0  307.99\n",
       "3       34387 2021-05-25 11:08:02         0  993.38\n",
       "4       69520 2021-05-25 11:12:45         0  597.78\n",
       "5       34387 2021-05-25 11:47:00         1 -277.93\n",
       "6       69520 2021-05-25 11:48:08         1 -874.21\n",
       "\n",
       "$ClientId\n",
       "[1] 11125489656\n"
      ]
     },
     "metadata": {},
     "output_type": "display_data"
    }
   ],
   "source": [
    "list_data"
   ]
  },
  {
   "cell_type": "markdown",
   "metadata": {},
   "source": [
    "We can change data with `[]` and access with `$` symbol."
   ]
  },
  {
   "cell_type": "code",
   "execution_count": 102,
   "metadata": {},
   "outputs": [
    {
     "data": {
      "text/html": [
       "<dl>\n",
       "\t<dt>$ClientName</dt>\n",
       "\t\t<dd>'New Name'</dd>\n",
       "\t<dt>$IsActive</dt>\n",
       "\t\t<dd>TRUE</dd>\n",
       "\t<dt>$Services</dt>\n",
       "\t\t<dd><style>\n",
       ".list-inline {list-style: none; margin:0; padding: 0}\n",
       ".list-inline>li {display: inline-block}\n",
       ".list-inline>li:not(:last-child)::after {content: \"\\00b7\"; padding: 0 .5ex}\n",
       "</style>\n",
       "<ol class=list-inline><li>'credit'</li><li>'deposite'</li><li>'online-app'</li></ol>\n",
       "</dd>\n",
       "\t<dt>$Transactions</dt>\n",
       "\t\t<dd><table class=\"dataframe\">\n",
       "<caption>A data.frame: 6 × 4</caption>\n",
       "<thead>\n",
       "\t<tr><th scope=col>contract_id</th><th scope=col>datetime</th><th scope=col>oper_type</th><th scope=col>amount</th></tr>\n",
       "\t<tr><th scope=col>&lt;int&gt;</th><th scope=col>&lt;dttm&gt;</th><th scope=col>&lt;int&gt;</th><th scope=col>&lt;dbl&gt;</th></tr>\n",
       "</thead>\n",
       "<tbody>\n",
       "\t<tr><td>34387</td><td>2021-05-25 11:05:12</td><td>1</td><td>-187.72</td></tr>\n",
       "\t<tr><td>69520</td><td>2021-05-25 11:07:14</td><td>0</td><td> 307.99</td></tr>\n",
       "\t<tr><td>34387</td><td>2021-05-25 11:08:02</td><td>0</td><td> 993.38</td></tr>\n",
       "\t<tr><td>69520</td><td>2021-05-25 11:12:45</td><td>0</td><td> 597.78</td></tr>\n",
       "\t<tr><td>34387</td><td>2021-05-25 11:47:00</td><td>1</td><td>-277.93</td></tr>\n",
       "\t<tr><td>69520</td><td>2021-05-25 11:48:08</td><td>1</td><td>-874.21</td></tr>\n",
       "</tbody>\n",
       "</table>\n",
       "</dd>\n",
       "\t<dt>$ClientId</dt>\n",
       "\t\t<dd>11125489656</dd>\n",
       "</dl>\n"
      ],
      "text/latex": [
       "\\begin{description}\n",
       "\\item[\\$ClientName] 'New Name'\n",
       "\\item[\\$IsActive] TRUE\n",
       "\\item[\\$Services] \\begin{enumerate*}\n",
       "\\item 'credit'\n",
       "\\item 'deposite'\n",
       "\\item 'online-app'\n",
       "\\end{enumerate*}\n",
       "\n",
       "\\item[\\$Transactions] A data.frame: 6 × 4\n",
       "\\begin{tabular}{llll}\n",
       " contract\\_id & datetime & oper\\_type & amount\\\\\n",
       " <int> & <dttm> & <int> & <dbl>\\\\\n",
       "\\hline\n",
       "\t 34387 & 2021-05-25 11:05:12 & 1 & -187.72\\\\\n",
       "\t 69520 & 2021-05-25 11:07:14 & 0 &  307.99\\\\\n",
       "\t 34387 & 2021-05-25 11:08:02 & 0 &  993.38\\\\\n",
       "\t 69520 & 2021-05-25 11:12:45 & 0 &  597.78\\\\\n",
       "\t 34387 & 2021-05-25 11:47:00 & 1 & -277.93\\\\\n",
       "\t 69520 & 2021-05-25 11:48:08 & 1 & -874.21\\\\\n",
       "\\end{tabular}\n",
       "\n",
       "\\item[\\$ClientId] 11125489656\n",
       "\\end{description}\n"
      ],
      "text/markdown": [
       "$ClientName\n",
       ":   'New Name'\n",
       "$IsActive\n",
       ":   TRUE\n",
       "$Services\n",
       ":   1. 'credit'\n",
       "2. 'deposite'\n",
       "3. 'online-app'\n",
       "\n",
       "\n",
       "\n",
       "$Transactions\n",
       ":   \n",
       "A data.frame: 6 × 4\n",
       "\n",
       "| contract_id &lt;int&gt; | datetime &lt;dttm&gt; | oper_type &lt;int&gt; | amount &lt;dbl&gt; |\n",
       "|---|---|---|---|\n",
       "| 34387 | 2021-05-25 11:05:12 | 1 | -187.72 |\n",
       "| 69520 | 2021-05-25 11:07:14 | 0 |  307.99 |\n",
       "| 34387 | 2021-05-25 11:08:02 | 0 |  993.38 |\n",
       "| 69520 | 2021-05-25 11:12:45 | 0 |  597.78 |\n",
       "| 34387 | 2021-05-25 11:47:00 | 1 | -277.93 |\n",
       "| 69520 | 2021-05-25 11:48:08 | 1 | -874.21 |\n",
       "\n",
       "\n",
       "$ClientId\n",
       ":   11125489656\n",
       "\n",
       "\n"
      ],
      "text/plain": [
       "$ClientName\n",
       "[1] \"New Name\"\n",
       "\n",
       "$IsActive\n",
       "[1] TRUE\n",
       "\n",
       "$Services\n",
       "[1] \"credit\"     \"deposite\"   \"online-app\"\n",
       "\n",
       "$Transactions\n",
       "  contract_id            datetime oper_type  amount\n",
       "1       34387 2021-05-25 11:05:12         1 -187.72\n",
       "2       69520 2021-05-25 11:07:14         0  307.99\n",
       "3       34387 2021-05-25 11:08:02         0  993.38\n",
       "4       69520 2021-05-25 11:12:45         0  597.78\n",
       "5       34387 2021-05-25 11:47:00         1 -277.93\n",
       "6       69520 2021-05-25 11:48:08         1 -874.21\n",
       "\n",
       "$ClientId\n",
       "[1] 11125489656\n"
      ]
     },
     "metadata": {},
     "output_type": "display_data"
    }
   ],
   "source": [
    "# changing clint name with index\n",
    "list_data[1] <- \"New Name\"\n",
    "list_data"
   ]
  },
  {
   "cell_type": "code",
   "execution_count": 104,
   "metadata": {},
   "outputs": [
    {
     "data": {
      "text/html": [
       "<dl>\n",
       "\t<dt>$ClientName</dt>\n",
       "\t\t<dd>'John Doe'</dd>\n",
       "\t<dt>$IsActive</dt>\n",
       "\t\t<dd>TRUE</dd>\n",
       "\t<dt>$Services</dt>\n",
       "\t\t<dd><style>\n",
       ".list-inline {list-style: none; margin:0; padding: 0}\n",
       ".list-inline>li {display: inline-block}\n",
       ".list-inline>li:not(:last-child)::after {content: \"\\00b7\"; padding: 0 .5ex}\n",
       "</style>\n",
       "<ol class=list-inline><li>'credit'</li><li>'deposite'</li><li>'online-app'</li></ol>\n",
       "</dd>\n",
       "\t<dt>$Transactions</dt>\n",
       "\t\t<dd><table class=\"dataframe\">\n",
       "<caption>A data.frame: 6 × 4</caption>\n",
       "<thead>\n",
       "\t<tr><th scope=col>contract_id</th><th scope=col>datetime</th><th scope=col>oper_type</th><th scope=col>amount</th></tr>\n",
       "\t<tr><th scope=col>&lt;int&gt;</th><th scope=col>&lt;dttm&gt;</th><th scope=col>&lt;int&gt;</th><th scope=col>&lt;dbl&gt;</th></tr>\n",
       "</thead>\n",
       "<tbody>\n",
       "\t<tr><td>34387</td><td>2021-05-25 11:05:12</td><td>1</td><td>-187.72</td></tr>\n",
       "\t<tr><td>69520</td><td>2021-05-25 11:07:14</td><td>0</td><td> 307.99</td></tr>\n",
       "\t<tr><td>34387</td><td>2021-05-25 11:08:02</td><td>0</td><td> 993.38</td></tr>\n",
       "\t<tr><td>69520</td><td>2021-05-25 11:12:45</td><td>0</td><td> 597.78</td></tr>\n",
       "\t<tr><td>34387</td><td>2021-05-25 11:47:00</td><td>1</td><td>-277.93</td></tr>\n",
       "\t<tr><td>69520</td><td>2021-05-25 11:48:08</td><td>1</td><td>-874.21</td></tr>\n",
       "</tbody>\n",
       "</table>\n",
       "</dd>\n",
       "\t<dt>$ClientId</dt>\n",
       "\t\t<dd>11125489656</dd>\n",
       "</dl>\n"
      ],
      "text/latex": [
       "\\begin{description}\n",
       "\\item[\\$ClientName] 'John Doe'\n",
       "\\item[\\$IsActive] TRUE\n",
       "\\item[\\$Services] \\begin{enumerate*}\n",
       "\\item 'credit'\n",
       "\\item 'deposite'\n",
       "\\item 'online-app'\n",
       "\\end{enumerate*}\n",
       "\n",
       "\\item[\\$Transactions] A data.frame: 6 × 4\n",
       "\\begin{tabular}{llll}\n",
       " contract\\_id & datetime & oper\\_type & amount\\\\\n",
       " <int> & <dttm> & <int> & <dbl>\\\\\n",
       "\\hline\n",
       "\t 34387 & 2021-05-25 11:05:12 & 1 & -187.72\\\\\n",
       "\t 69520 & 2021-05-25 11:07:14 & 0 &  307.99\\\\\n",
       "\t 34387 & 2021-05-25 11:08:02 & 0 &  993.38\\\\\n",
       "\t 69520 & 2021-05-25 11:12:45 & 0 &  597.78\\\\\n",
       "\t 34387 & 2021-05-25 11:47:00 & 1 & -277.93\\\\\n",
       "\t 69520 & 2021-05-25 11:48:08 & 1 & -874.21\\\\\n",
       "\\end{tabular}\n",
       "\n",
       "\\item[\\$ClientId] 11125489656\n",
       "\\end{description}\n"
      ],
      "text/markdown": [
       "$ClientName\n",
       ":   'John Doe'\n",
       "$IsActive\n",
       ":   TRUE\n",
       "$Services\n",
       ":   1. 'credit'\n",
       "2. 'deposite'\n",
       "3. 'online-app'\n",
       "\n",
       "\n",
       "\n",
       "$Transactions\n",
       ":   \n",
       "A data.frame: 6 × 4\n",
       "\n",
       "| contract_id &lt;int&gt; | datetime &lt;dttm&gt; | oper_type &lt;int&gt; | amount &lt;dbl&gt; |\n",
       "|---|---|---|---|\n",
       "| 34387 | 2021-05-25 11:05:12 | 1 | -187.72 |\n",
       "| 69520 | 2021-05-25 11:07:14 | 0 |  307.99 |\n",
       "| 34387 | 2021-05-25 11:08:02 | 0 |  993.38 |\n",
       "| 69520 | 2021-05-25 11:12:45 | 0 |  597.78 |\n",
       "| 34387 | 2021-05-25 11:47:00 | 1 | -277.93 |\n",
       "| 69520 | 2021-05-25 11:48:08 | 1 | -874.21 |\n",
       "\n",
       "\n",
       "$ClientId\n",
       ":   11125489656\n",
       "\n",
       "\n"
      ],
      "text/plain": [
       "$ClientName\n",
       "[1] \"John Doe\"\n",
       "\n",
       "$IsActive\n",
       "[1] TRUE\n",
       "\n",
       "$Services\n",
       "[1] \"credit\"     \"deposite\"   \"online-app\"\n",
       "\n",
       "$Transactions\n",
       "  contract_id            datetime oper_type  amount\n",
       "1       34387 2021-05-25 11:05:12         1 -187.72\n",
       "2       69520 2021-05-25 11:07:14         0  307.99\n",
       "3       34387 2021-05-25 11:08:02         0  993.38\n",
       "4       69520 2021-05-25 11:12:45         0  597.78\n",
       "5       34387 2021-05-25 11:47:00         1 -277.93\n",
       "6       69520 2021-05-25 11:48:08         1 -874.21\n",
       "\n",
       "$ClientId\n",
       "[1] 11125489656\n"
      ]
     },
     "metadata": {},
     "output_type": "display_data"
    }
   ],
   "source": [
    "# changing data with $\n",
    "list_data$ClientName = \"John Doe\"\n",
    "list_data"
   ]
  },
  {
   "cell_type": "markdown",
   "metadata": {},
   "source": [
    "Yo can merge lists with `c()` function. Let's create new list and attach it to the `list_data`:"
   ]
  },
  {
   "cell_type": "code",
   "execution_count": 107,
   "metadata": {},
   "outputs": [
    {
     "data": {
      "text/html": [
       "<strong>$Consultant</strong> = <dl>\n",
       "\t<dt>$Name</dt>\n",
       "\t\t<dd>'David Cameron'</dd>\n",
       "\t<dt>$PhoneNum</dt>\n",
       "\t\t<dd>'+9562311855'</dd>\n",
       "</dl>\n"
      ],
      "text/latex": [
       "\\textbf{\\$Consultant} = \\begin{description}\n",
       "\\item[\\$Name] 'David Cameron'\n",
       "\\item[\\$PhoneNum] '+9562311855'\n",
       "\\end{description}\n"
      ],
      "text/markdown": [
       "**$Consultant** = $Name\n",
       ":   'David Cameron'\n",
       "$PhoneNum\n",
       ":   '+9562311855'\n",
       "\n",
       "\n"
      ],
      "text/plain": [
       "$Consultant\n",
       "$Consultant$Name\n",
       "[1] \"David Cameron\"\n",
       "\n",
       "$Consultant$PhoneNum\n",
       "[1] \"+9562311855\"\n",
       "\n"
      ]
     },
     "metadata": {},
     "output_type": "display_data"
    }
   ],
   "source": [
    "list_2 <- list(Consultant = list(Name = \"David Cameron\", PhoneNum = \"+9562311855\"))\n",
    "list_2"
   ]
  },
  {
   "cell_type": "code",
   "execution_count": 109,
   "metadata": {},
   "outputs": [
    {
     "data": {
      "text/html": [
       "<dl>\n",
       "\t<dt>$ClientName</dt>\n",
       "\t\t<dd>'John Doe'</dd>\n",
       "\t<dt>$IsActive</dt>\n",
       "\t\t<dd>TRUE</dd>\n",
       "\t<dt>$Services</dt>\n",
       "\t\t<dd><style>\n",
       ".list-inline {list-style: none; margin:0; padding: 0}\n",
       ".list-inline>li {display: inline-block}\n",
       ".list-inline>li:not(:last-child)::after {content: \"\\00b7\"; padding: 0 .5ex}\n",
       "</style>\n",
       "<ol class=list-inline><li>'credit'</li><li>'deposite'</li><li>'online-app'</li></ol>\n",
       "</dd>\n",
       "\t<dt>$Transactions</dt>\n",
       "\t\t<dd><table class=\"dataframe\">\n",
       "<caption>A data.frame: 6 × 4</caption>\n",
       "<thead>\n",
       "\t<tr><th scope=col>contract_id</th><th scope=col>datetime</th><th scope=col>oper_type</th><th scope=col>amount</th></tr>\n",
       "\t<tr><th scope=col>&lt;int&gt;</th><th scope=col>&lt;dttm&gt;</th><th scope=col>&lt;int&gt;</th><th scope=col>&lt;dbl&gt;</th></tr>\n",
       "</thead>\n",
       "<tbody>\n",
       "\t<tr><td>34387</td><td>2021-05-25 11:05:12</td><td>1</td><td>-187.72</td></tr>\n",
       "\t<tr><td>69520</td><td>2021-05-25 11:07:14</td><td>0</td><td> 307.99</td></tr>\n",
       "\t<tr><td>34387</td><td>2021-05-25 11:08:02</td><td>0</td><td> 993.38</td></tr>\n",
       "\t<tr><td>69520</td><td>2021-05-25 11:12:45</td><td>0</td><td> 597.78</td></tr>\n",
       "\t<tr><td>34387</td><td>2021-05-25 11:47:00</td><td>1</td><td>-277.93</td></tr>\n",
       "\t<tr><td>69520</td><td>2021-05-25 11:48:08</td><td>1</td><td>-874.21</td></tr>\n",
       "</tbody>\n",
       "</table>\n",
       "</dd>\n",
       "\t<dt>$ClientId</dt>\n",
       "\t\t<dd>11125489656</dd>\n",
       "\t<dt>$Consultant</dt>\n",
       "\t\t<dd><dl>\n",
       "\t<dt>$Name</dt>\n",
       "\t\t<dd>'David Cameron'</dd>\n",
       "\t<dt>$PhoneNum</dt>\n",
       "\t\t<dd>'+9562311855'</dd>\n",
       "</dl>\n",
       "</dd>\n",
       "\t<dt>$Consultant</dt>\n",
       "\t\t<dd><dl>\n",
       "\t<dt>$Name</dt>\n",
       "\t\t<dd>'David Cameron'</dd>\n",
       "\t<dt>$PhoneNum</dt>\n",
       "\t\t<dd>'+9562311855'</dd>\n",
       "</dl>\n",
       "</dd>\n",
       "</dl>\n"
      ],
      "text/latex": [
       "\\begin{description}\n",
       "\\item[\\$ClientName] 'John Doe'\n",
       "\\item[\\$IsActive] TRUE\n",
       "\\item[\\$Services] \\begin{enumerate*}\n",
       "\\item 'credit'\n",
       "\\item 'deposite'\n",
       "\\item 'online-app'\n",
       "\\end{enumerate*}\n",
       "\n",
       "\\item[\\$Transactions] A data.frame: 6 × 4\n",
       "\\begin{tabular}{llll}\n",
       " contract\\_id & datetime & oper\\_type & amount\\\\\n",
       " <int> & <dttm> & <int> & <dbl>\\\\\n",
       "\\hline\n",
       "\t 34387 & 2021-05-25 11:05:12 & 1 & -187.72\\\\\n",
       "\t 69520 & 2021-05-25 11:07:14 & 0 &  307.99\\\\\n",
       "\t 34387 & 2021-05-25 11:08:02 & 0 &  993.38\\\\\n",
       "\t 69520 & 2021-05-25 11:12:45 & 0 &  597.78\\\\\n",
       "\t 34387 & 2021-05-25 11:47:00 & 1 & -277.93\\\\\n",
       "\t 69520 & 2021-05-25 11:48:08 & 1 & -874.21\\\\\n",
       "\\end{tabular}\n",
       "\n",
       "\\item[\\$ClientId] 11125489656\n",
       "\\item[\\$Consultant] \\begin{description}\n",
       "\\item[\\$Name] 'David Cameron'\n",
       "\\item[\\$PhoneNum] '+9562311855'\n",
       "\\end{description}\n",
       "\n",
       "\\item[\\$Consultant] \\begin{description}\n",
       "\\item[\\$Name] 'David Cameron'\n",
       "\\item[\\$PhoneNum] '+9562311855'\n",
       "\\end{description}\n",
       "\n",
       "\\end{description}\n"
      ],
      "text/markdown": [
       "$ClientName\n",
       ":   'John Doe'\n",
       "$IsActive\n",
       ":   TRUE\n",
       "$Services\n",
       ":   1. 'credit'\n",
       "2. 'deposite'\n",
       "3. 'online-app'\n",
       "\n",
       "\n",
       "\n",
       "$Transactions\n",
       ":   \n",
       "A data.frame: 6 × 4\n",
       "\n",
       "| contract_id &lt;int&gt; | datetime &lt;dttm&gt; | oper_type &lt;int&gt; | amount &lt;dbl&gt; |\n",
       "|---|---|---|---|\n",
       "| 34387 | 2021-05-25 11:05:12 | 1 | -187.72 |\n",
       "| 69520 | 2021-05-25 11:07:14 | 0 |  307.99 |\n",
       "| 34387 | 2021-05-25 11:08:02 | 0 |  993.38 |\n",
       "| 69520 | 2021-05-25 11:12:45 | 0 |  597.78 |\n",
       "| 34387 | 2021-05-25 11:47:00 | 1 | -277.93 |\n",
       "| 69520 | 2021-05-25 11:48:08 | 1 | -874.21 |\n",
       "\n",
       "\n",
       "$ClientId\n",
       ":   11125489656\n",
       "$Consultant\n",
       ":   $Name\n",
       ":   'David Cameron'\n",
       "$PhoneNum\n",
       ":   '+9562311855'\n",
       "\n",
       "\n",
       "\n",
       "$Consultant\n",
       ":   $Name\n",
       ":   'David Cameron'\n",
       "$PhoneNum\n",
       ":   '+9562311855'\n",
       "\n",
       "\n",
       "\n",
       "\n",
       "\n"
      ],
      "text/plain": [
       "$ClientName\n",
       "[1] \"John Doe\"\n",
       "\n",
       "$IsActive\n",
       "[1] TRUE\n",
       "\n",
       "$Services\n",
       "[1] \"credit\"     \"deposite\"   \"online-app\"\n",
       "\n",
       "$Transactions\n",
       "  contract_id            datetime oper_type  amount\n",
       "1       34387 2021-05-25 11:05:12         1 -187.72\n",
       "2       69520 2021-05-25 11:07:14         0  307.99\n",
       "3       34387 2021-05-25 11:08:02         0  993.38\n",
       "4       69520 2021-05-25 11:12:45         0  597.78\n",
       "5       34387 2021-05-25 11:47:00         1 -277.93\n",
       "6       69520 2021-05-25 11:48:08         1 -874.21\n",
       "\n",
       "$ClientId\n",
       "[1] 11125489656\n",
       "\n",
       "$Consultant\n",
       "$Consultant$Name\n",
       "[1] \"David Cameron\"\n",
       "\n",
       "$Consultant$PhoneNum\n",
       "[1] \"+9562311855\"\n",
       "\n",
       "\n",
       "$Consultant\n",
       "$Consultant$Name\n",
       "[1] \"David Cameron\"\n",
       "\n",
       "$Consultant$PhoneNum\n",
       "[1] \"+9562311855\"\n",
       "\n"
      ]
     },
     "metadata": {},
     "output_type": "display_data"
    }
   ],
   "source": [
    "list_data <- c(list_data, list_2)\n",
    "list_data"
   ]
  },
  {
   "cell_type": "markdown",
   "metadata": {},
   "source": [
    "With `unlist()` you can convert a list toa vector."
   ]
  },
  {
   "cell_type": "code",
   "execution_count": 115,
   "metadata": {},
   "outputs": [
    {
     "data": {
      "text/html": [
       "<ol>\n",
       "\t<li><style>\n",
       ".list-inline {list-style: none; margin:0; padding: 0}\n",
       ".list-inline>li {display: inline-block}\n",
       ".list-inline>li:not(:last-child)::after {content: \"\\00b7\"; padding: 0 .5ex}\n",
       "</style>\n",
       "<ol class=list-inline><li>1</li><li>2</li><li>3</li><li>4</li><li>5</li><li>6</li><li>7</li><li>8</li><li>9</li><li>10</li></ol>\n",
       "</li>\n",
       "</ol>\n"
      ],
      "text/latex": [
       "\\begin{enumerate}\n",
       "\\item \\begin{enumerate*}\n",
       "\\item 1\n",
       "\\item 2\n",
       "\\item 3\n",
       "\\item 4\n",
       "\\item 5\n",
       "\\item 6\n",
       "\\item 7\n",
       "\\item 8\n",
       "\\item 9\n",
       "\\item 10\n",
       "\\end{enumerate*}\n",
       "\n",
       "\\end{enumerate}\n"
      ],
      "text/markdown": [
       "1. 1. 1\n",
       "2. 2\n",
       "3. 3\n",
       "4. 4\n",
       "5. 5\n",
       "6. 6\n",
       "7. 7\n",
       "8. 8\n",
       "9. 9\n",
       "10. 10\n",
       "\n",
       "\n",
       "\n",
       "\n",
       "\n"
      ],
      "text/plain": [
       "[[1]]\n",
       " [1]  1  2  3  4  5  6  7  8  9 10\n"
      ]
     },
     "metadata": {},
     "output_type": "display_data"
    },
    {
     "data": {
      "text/html": [
       "'list'"
      ],
      "text/latex": [
       "'list'"
      ],
      "text/markdown": [
       "'list'"
      ],
      "text/plain": [
       "[1] \"list\""
      ]
     },
     "metadata": {},
     "output_type": "display_data"
    },
    {
     "data": {
      "text/html": [
       "'list'"
      ],
      "text/latex": [
       "'list'"
      ],
      "text/markdown": [
       "'list'"
      ],
      "text/plain": [
       "[1] \"list\""
      ]
     },
     "metadata": {},
     "output_type": "display_data"
    }
   ],
   "source": [
    "list_demo <- list(1:10)\n",
    "list_demo\n",
    "class(list_demo)\n",
    "typeof(list_demo)"
   ]
  },
  {
   "cell_type": "code",
   "execution_count": 117,
   "metadata": {},
   "outputs": [
    {
     "ename": "ERROR",
     "evalue": "Error in list_demo * 5: non-numeric argument to binary operator\n",
     "output_type": "error",
     "traceback": [
      "Error in list_demo * 5: non-numeric argument to binary operator\nTraceback:\n"
     ]
    }
   ],
   "source": [
    "list_demo * 5 # error, you cannot use * for list"
   ]
  },
  {
   "cell_type": "code",
   "execution_count": 121,
   "metadata": {},
   "outputs": [
    {
     "data": {
      "text/html": [
       "<style>\n",
       ".list-inline {list-style: none; margin:0; padding: 0}\n",
       ".list-inline>li {display: inline-block}\n",
       ".list-inline>li:not(:last-child)::after {content: \"\\00b7\"; padding: 0 .5ex}\n",
       "</style>\n",
       "<ol class=list-inline><li>1</li><li>2</li><li>3</li><li>4</li><li>5</li><li>6</li><li>7</li><li>8</li><li>9</li><li>10</li></ol>\n"
      ],
      "text/latex": [
       "\\begin{enumerate*}\n",
       "\\item 1\n",
       "\\item 2\n",
       "\\item 3\n",
       "\\item 4\n",
       "\\item 5\n",
       "\\item 6\n",
       "\\item 7\n",
       "\\item 8\n",
       "\\item 9\n",
       "\\item 10\n",
       "\\end{enumerate*}\n"
      ],
      "text/markdown": [
       "1. 1\n",
       "2. 2\n",
       "3. 3\n",
       "4. 4\n",
       "5. 5\n",
       "6. 6\n",
       "7. 7\n",
       "8. 8\n",
       "9. 9\n",
       "10. 10\n",
       "\n",
       "\n"
      ],
      "text/plain": [
       " [1]  1  2  3  4  5  6  7  8  9 10"
      ]
     },
     "metadata": {},
     "output_type": "display_data"
    },
    {
     "data": {
      "text/html": [
       "'integer'"
      ],
      "text/latex": [
       "'integer'"
      ],
      "text/markdown": [
       "'integer'"
      ],
      "text/plain": [
       "[1] \"integer\""
      ]
     },
     "metadata": {},
     "output_type": "display_data"
    },
    {
     "data": {
      "text/html": [
       "'integer'"
      ],
      "text/latex": [
       "'integer'"
      ],
      "text/markdown": [
       "'integer'"
      ],
      "text/plain": [
       "[1] \"integer\""
      ]
     },
     "metadata": {},
     "output_type": "display_data"
    }
   ],
   "source": [
    "vector_demo <- unlist(list_demo)\n",
    "vector_demo\n",
    "class(vector_demo)\n",
    "typeof(vector_demo)"
   ]
  },
  {
   "cell_type": "code",
   "execution_count": 123,
   "metadata": {},
   "outputs": [
    {
     "data": {
      "text/html": [
       "<style>\n",
       ".list-inline {list-style: none; margin:0; padding: 0}\n",
       ".list-inline>li {display: inline-block}\n",
       ".list-inline>li:not(:last-child)::after {content: \"\\00b7\"; padding: 0 .5ex}\n",
       "</style>\n",
       "<ol class=list-inline><li>5</li><li>10</li><li>15</li><li>20</li><li>25</li><li>30</li><li>35</li><li>40</li><li>45</li><li>50</li></ol>\n"
      ],
      "text/latex": [
       "\\begin{enumerate*}\n",
       "\\item 5\n",
       "\\item 10\n",
       "\\item 15\n",
       "\\item 20\n",
       "\\item 25\n",
       "\\item 30\n",
       "\\item 35\n",
       "\\item 40\n",
       "\\item 45\n",
       "\\item 50\n",
       "\\end{enumerate*}\n"
      ],
      "text/markdown": [
       "1. 5\n",
       "2. 10\n",
       "3. 15\n",
       "4. 20\n",
       "5. 25\n",
       "6. 30\n",
       "7. 35\n",
       "8. 40\n",
       "9. 45\n",
       "10. 50\n",
       "\n",
       "\n"
      ],
      "text/plain": [
       " [1]  5 10 15 20 25 30 35 40 45 50"
      ]
     },
     "metadata": {},
     "output_type": "display_data"
    }
   ],
   "source": [
    "vector_demo * 5 # now it works"
   ]
  },
  {
   "cell_type": "markdown",
   "metadata": {},
   "source": [
    "---"
   ]
  },
  {
   "cell_type": "markdown",
   "metadata": {},
   "source": [
    "## TASKS "
   ]
  },
  {
   "cell_type": "markdown",
   "metadata": {},
   "source": [
    "#### Task 1"
   ]
  },
  {
   "cell_type": "markdown",
   "metadata": {},
   "source": [
    "Wrie a function that calculates `sum`, `average`, `median`, `min`, `max` of taken vector. Generate sample vector of 10 elements in $[1;100]$."
   ]
  },
  {
   "cell_type": "markdown",
   "metadata": {},
   "source": [
    "#### Solution"
   ]
  },
  {
   "cell_type": "code",
   "execution_count": 30,
   "metadata": {},
   "outputs": [
    {
     "name": "stdout",
     "output_type": "stream",
     "text": [
      " [1] 55 10 61 54 44 88 17 41 30 99\n"
     ]
    }
   ],
   "source": [
    "x <- sample(10:100, size = 10)\n",
    "print(x)"
   ]
  },
  {
   "cell_type": "code",
   "execution_count": 31,
   "metadata": {},
   "outputs": [
    {
     "data": {
      "text/html": [
       "<dl>\n",
       "\t<dt>$Sum</dt>\n",
       "\t\t<dd>499</dd>\n",
       "\t<dt>$Mean</dt>\n",
       "\t\t<dd>49.9</dd>\n",
       "\t<dt>$Median</dt>\n",
       "\t\t<dd>49</dd>\n",
       "\t<dt>$Min</dt>\n",
       "\t\t<dd>10</dd>\n",
       "\t<dt>$Max</dt>\n",
       "\t\t<dd>99</dd>\n",
       "</dl>\n"
      ],
      "text/latex": [
       "\\begin{description}\n",
       "\\item[\\$Sum] 499\n",
       "\\item[\\$Mean] 49.9\n",
       "\\item[\\$Median] 49\n",
       "\\item[\\$Min] 10\n",
       "\\item[\\$Max] 99\n",
       "\\end{description}\n"
      ],
      "text/markdown": [
       "$Sum\n",
       ":   499\n",
       "$Mean\n",
       ":   49.9\n",
       "$Median\n",
       ":   49\n",
       "$Min\n",
       ":   10\n",
       "$Max\n",
       ":   99\n",
       "\n",
       "\n"
      ],
      "text/plain": [
       "$Sum\n",
       "[1] 499\n",
       "\n",
       "$Mean\n",
       "[1] 49.9\n",
       "\n",
       "$Median\n",
       "[1] 49\n",
       "\n",
       "$Min\n",
       "[1] 10\n",
       "\n",
       "$Max\n",
       "[1] 99\n"
      ]
     },
     "metadata": {},
     "output_type": "display_data"
    }
   ],
   "source": [
    "vector.info <- function(vector) {\n",
    "  x <- list()\n",
    "  x$Sum <- sum(vector)\n",
    "  x$Mean <- mean(vector)\n",
    "  x$Median <- median(vector)\n",
    "  x$Min <- min(vector)\n",
    "  x$Max <- max(vector)\n",
    "  return(x)\n",
    "}\n",
    "\n",
    "vector.info(x)"
   ]
  },
  {
   "cell_type": "markdown",
   "metadata": {},
   "source": [
    "---"
   ]
  },
  {
   "cell_type": "markdown",
   "metadata": {},
   "source": [
    "# 6. Apply functions family"
   ]
  },
  {
   "cell_type": "markdown",
   "metadata": {},
   "source": [
    "You can use a set of function for manipulating, accesing different data structures such as `data.frame`, `list`. "
   ]
  },
  {
   "cell_type": "markdown",
   "metadata": {},
   "source": [
    "## The apply() functions family"
   ]
  },
  {
   "cell_type": "markdown",
   "metadata": {},
   "source": [
    "The `apply()` family pertains to the R base package and is populated with functions to manipulate slices of data from matrices, arrays, lists and dataframes in a repetitive way. These functions allow crossing the data in a number of ways and avoid explicit use of loop constructs. They act on an input list, matrix or array and apply a named function with one or several optional arguments.\n",
    "\n",
    "The called function could be:\n",
    "\n",
    "- [x] An aggregating function, like for example the mean, or the sum (that return a number or scalar);\n",
    "- [x] Other transforming or subsetting functions; and\n",
    "- [x] Other vectorized functions, which yield more complex structures like lists, vectors, matrices, and arrays.\n",
    "\n",
    "The `apply()` functions form the basis of more complex combinations and helps to perform operations with very few lines of code. More specifically, the family is made up of the `apply()`, `lapply()`, `sapply()`, `vapply()`, `mapply()`, `rapply()`, and `tapply()` functions.\n",
    "\n",
    "Using of any functions depends on the structure of the data that you want to operate on and the format of the output that you need."
   ]
  },
  {
   "cell_type": "markdown",
   "metadata": {},
   "source": [
    "## `apply()`"
   ]
  },
  {
   "cell_type": "markdown",
   "metadata": {},
   "source": [
    "`apply()` operates on arrays (2D arrays are matrices).\n",
    "\n",
    "Syntax is next: **`apply(X, MARGIN, FUN, ...)`**, where \n",
    "\n",
    "- [x] `X` is an array or a matrix if the dimension of the array is 2;\n",
    "- [x] `MARGIN` is a variable defining how the function is applied: when `MARGIN=1`, it applies over rows, whereas with `MARGIN=2`, it works over columns. Note that when you use the construct `MARGIN=c(1,2)`, it applies to both rows and columns; and\n",
    "- [x] `FUN`, which is the function that you want to apply to the data. It can be any R function, including a User Defined Function (UDF)."
   ]
  },
  {
   "cell_type": "code",
   "execution_count": 133,
   "metadata": {},
   "outputs": [
    {
     "data": {
      "text/html": [
       "<table class=\"dataframe\">\n",
       "<caption>A matrix: 4 × 5 of type int</caption>\n",
       "<tbody>\n",
       "\t<tr><td>10</td><td>14</td><td>18</td><td>22</td><td>26</td></tr>\n",
       "\t<tr><td>11</td><td>15</td><td>19</td><td>23</td><td>27</td></tr>\n",
       "\t<tr><td>12</td><td>16</td><td>20</td><td>24</td><td>28</td></tr>\n",
       "\t<tr><td>13</td><td>17</td><td>21</td><td>25</td><td>29</td></tr>\n",
       "</tbody>\n",
       "</table>\n"
      ],
      "text/latex": [
       "A matrix: 4 × 5 of type int\n",
       "\\begin{tabular}{lllll}\n",
       "\t 10 & 14 & 18 & 22 & 26\\\\\n",
       "\t 11 & 15 & 19 & 23 & 27\\\\\n",
       "\t 12 & 16 & 20 & 24 & 28\\\\\n",
       "\t 13 & 17 & 21 & 25 & 29\\\\\n",
       "\\end{tabular}\n"
      ],
      "text/markdown": [
       "\n",
       "A matrix: 4 × 5 of type int\n",
       "\n",
       "| 10 | 14 | 18 | 22 | 26 |\n",
       "| 11 | 15 | 19 | 23 | 27 |\n",
       "| 12 | 16 | 20 | 24 | 28 |\n",
       "| 13 | 17 | 21 | 25 | 29 |\n",
       "\n"
      ],
      "text/plain": [
       "     [,1] [,2] [,3] [,4] [,5]\n",
       "[1,] 10   14   18   22   26  \n",
       "[2,] 11   15   19   23   27  \n",
       "[3,] 12   16   20   24   28  \n",
       "[4,] 13   17   21   25   29  "
      ]
     },
     "metadata": {},
     "output_type": "display_data"
    }
   ],
   "source": [
    "# create a matrix\n",
    "\n",
    "matrix  <- matrix(10:29, ncol = 5, nrow = 4)\n",
    "matrix"
   ]
  },
  {
   "cell_type": "code",
   "execution_count": 135,
   "metadata": {},
   "outputs": [
    {
     "data": {
      "text/html": [
       "<style>\n",
       ".list-inline {list-style: none; margin:0; padding: 0}\n",
       ".list-inline>li {display: inline-block}\n",
       ".list-inline>li:not(:last-child)::after {content: \"\\00b7\"; padding: 0 .5ex}\n",
       "</style>\n",
       "<ol class=list-inline><li>46</li><li>62</li><li>78</li><li>94</li><li>110</li></ol>\n"
      ],
      "text/latex": [
       "\\begin{enumerate*}\n",
       "\\item 46\n",
       "\\item 62\n",
       "\\item 78\n",
       "\\item 94\n",
       "\\item 110\n",
       "\\end{enumerate*}\n"
      ],
      "text/markdown": [
       "1. 46\n",
       "2. 62\n",
       "3. 78\n",
       "4. 94\n",
       "5. 110\n",
       "\n",
       "\n"
      ],
      "text/plain": [
       "[1]  46  62  78  94 110"
      ]
     },
     "metadata": {},
     "output_type": "display_data"
    }
   ],
   "source": [
    "# find sums by col\n",
    "apply(matrix, 2, sum)"
   ]
  },
  {
   "cell_type": "markdown",
   "metadata": {},
   "source": [
    "It your turn. TASK. Calculate average value of all rows:"
   ]
  },
  {
   "cell_type": "code",
   "execution_count": 137,
   "metadata": {},
   "outputs": [
    {
     "data": {
      "text/html": [
       "<style>\n",
       ".list-inline {list-style: none; margin:0; padding: 0}\n",
       ".list-inline>li {display: inline-block}\n",
       ".list-inline>li:not(:last-child)::after {content: \"\\00b7\"; padding: 0 .5ex}\n",
       "</style>\n",
       "<ol class=list-inline><li>18</li><li>19</li><li>20</li><li>21</li></ol>\n"
      ],
      "text/latex": [
       "\\begin{enumerate*}\n",
       "\\item 18\n",
       "\\item 19\n",
       "\\item 20\n",
       "\\item 21\n",
       "\\end{enumerate*}\n"
      ],
      "text/markdown": [
       "1. 18\n",
       "2. 19\n",
       "3. 20\n",
       "4. 21\n",
       "\n",
       "\n"
      ],
      "text/plain": [
       "[1] 18 19 20 21"
      ]
     },
     "metadata": {},
     "output_type": "display_data"
    }
   ],
   "source": [
    "apply(matrix, 1, mean)"
   ]
  },
  {
   "cell_type": "markdown",
   "metadata": {},
   "source": [
    "## `lapply()`"
   ]
  },
  {
   "cell_type": "markdown",
   "metadata": {},
   "source": [
    "`lapply()` from `apply()` is:\n",
    "\n",
    "- [x] It can be used for other objects like `dataframes`, `lists` or `vectors`; and\n",
    "- [x] The output returned is a `list` (which explains the “l” in the function name), which has the same number of elements as the object passed to it.\n",
    "\n"
   ]
  },
  {
   "cell_type": "markdown",
   "metadata": {},
   "source": [
    "?lapply to check params of fucntion:"
   ]
  },
  {
   "cell_type": "code",
   "execution_count": 147,
   "metadata": {},
   "outputs": [],
   "source": [
    "?lapply"
   ]
  },
  {
   "cell_type": "markdown",
   "metadata": {},
   "source": [
    "Lets create list of data.frames:"
   ]
  },
  {
   "cell_type": "code",
   "execution_count": 143,
   "metadata": {},
   "outputs": [
    {
     "data": {
      "text/html": [
       "<table class=\"dataframe\">\n",
       "<caption>A data.frame: 5 × 2</caption>\n",
       "<thead>\n",
       "\t<tr><th scope=col>Value1</th><th scope=col>Value2</th></tr>\n",
       "\t<tr><th scope=col>&lt;int&gt;</th><th scope=col>&lt;int&gt;</th></tr>\n",
       "</thead>\n",
       "<tbody>\n",
       "\t<tr><td>16</td><td>301</td></tr>\n",
       "\t<tr><td>17</td><td>302</td></tr>\n",
       "\t<tr><td>18</td><td>303</td></tr>\n",
       "\t<tr><td>19</td><td>304</td></tr>\n",
       "\t<tr><td>20</td><td>305</td></tr>\n",
       "</tbody>\n",
       "</table>\n"
      ],
      "text/latex": [
       "A data.frame: 5 × 2\n",
       "\\begin{tabular}{ll}\n",
       " Value1 & Value2\\\\\n",
       " <int> & <int>\\\\\n",
       "\\hline\n",
       "\t 16 & 301\\\\\n",
       "\t 17 & 302\\\\\n",
       "\t 18 & 303\\\\\n",
       "\t 19 & 304\\\\\n",
       "\t 20 & 305\\\\\n",
       "\\end{tabular}\n"
      ],
      "text/markdown": [
       "\n",
       "A data.frame: 5 × 2\n",
       "\n",
       "| Value1 &lt;int&gt; | Value2 &lt;int&gt; |\n",
       "|---|---|\n",
       "| 16 | 301 |\n",
       "| 17 | 302 |\n",
       "| 18 | 303 |\n",
       "| 19 | 304 |\n",
       "| 20 | 305 |\n",
       "\n"
      ],
      "text/plain": [
       "  Value1 Value2\n",
       "1 16     301   \n",
       "2 17     302   \n",
       "3 18     303   \n",
       "4 19     304   \n",
       "5 20     305   "
      ]
     },
     "metadata": {},
     "output_type": "display_data"
    }
   ],
   "source": [
    "df_a <- data.frame(Value1 = 1:5, Value2 = 101:105)\n",
    "df_b <- data.frame(Value1 = 11:15, Value2 = 201:205)\n",
    "df_c <- data.frame(Value1 = 16:20, Value2 = 301:305)\n",
    "df_c"
   ]
  },
  {
   "cell_type": "code",
   "execution_count": 145,
   "metadata": {},
   "outputs": [
    {
     "data": {
      "text/html": [
       "<ol>\n",
       "\t<li><table class=\"dataframe\">\n",
       "<caption>A data.frame: 5 × 2</caption>\n",
       "<thead>\n",
       "\t<tr><th scope=col>Value1</th><th scope=col>Value2</th></tr>\n",
       "\t<tr><th scope=col>&lt;int&gt;</th><th scope=col>&lt;int&gt;</th></tr>\n",
       "</thead>\n",
       "<tbody>\n",
       "\t<tr><td>1</td><td>101</td></tr>\n",
       "\t<tr><td>2</td><td>102</td></tr>\n",
       "\t<tr><td>3</td><td>103</td></tr>\n",
       "\t<tr><td>4</td><td>104</td></tr>\n",
       "\t<tr><td>5</td><td>105</td></tr>\n",
       "</tbody>\n",
       "</table>\n",
       "</li>\n",
       "\t<li><table class=\"dataframe\">\n",
       "<caption>A data.frame: 5 × 2</caption>\n",
       "<thead>\n",
       "\t<tr><th scope=col>Value1</th><th scope=col>Value2</th></tr>\n",
       "\t<tr><th scope=col>&lt;int&gt;</th><th scope=col>&lt;int&gt;</th></tr>\n",
       "</thead>\n",
       "<tbody>\n",
       "\t<tr><td>11</td><td>201</td></tr>\n",
       "\t<tr><td>12</td><td>202</td></tr>\n",
       "\t<tr><td>13</td><td>203</td></tr>\n",
       "\t<tr><td>14</td><td>204</td></tr>\n",
       "\t<tr><td>15</td><td>205</td></tr>\n",
       "</tbody>\n",
       "</table>\n",
       "</li>\n",
       "\t<li><table class=\"dataframe\">\n",
       "<caption>A data.frame: 5 × 2</caption>\n",
       "<thead>\n",
       "\t<tr><th scope=col>Value1</th><th scope=col>Value2</th></tr>\n",
       "\t<tr><th scope=col>&lt;int&gt;</th><th scope=col>&lt;int&gt;</th></tr>\n",
       "</thead>\n",
       "<tbody>\n",
       "\t<tr><td>16</td><td>301</td></tr>\n",
       "\t<tr><td>17</td><td>302</td></tr>\n",
       "\t<tr><td>18</td><td>303</td></tr>\n",
       "\t<tr><td>19</td><td>304</td></tr>\n",
       "\t<tr><td>20</td><td>305</td></tr>\n",
       "</tbody>\n",
       "</table>\n",
       "</li>\n",
       "</ol>\n"
      ],
      "text/latex": [
       "\\begin{enumerate}\n",
       "\\item A data.frame: 5 × 2\n",
       "\\begin{tabular}{ll}\n",
       " Value1 & Value2\\\\\n",
       " <int> & <int>\\\\\n",
       "\\hline\n",
       "\t 1 & 101\\\\\n",
       "\t 2 & 102\\\\\n",
       "\t 3 & 103\\\\\n",
       "\t 4 & 104\\\\\n",
       "\t 5 & 105\\\\\n",
       "\\end{tabular}\n",
       "\n",
       "\\item A data.frame: 5 × 2\n",
       "\\begin{tabular}{ll}\n",
       " Value1 & Value2\\\\\n",
       " <int> & <int>\\\\\n",
       "\\hline\n",
       "\t 11 & 201\\\\\n",
       "\t 12 & 202\\\\\n",
       "\t 13 & 203\\\\\n",
       "\t 14 & 204\\\\\n",
       "\t 15 & 205\\\\\n",
       "\\end{tabular}\n",
       "\n",
       "\\item A data.frame: 5 × 2\n",
       "\\begin{tabular}{ll}\n",
       " Value1 & Value2\\\\\n",
       " <int> & <int>\\\\\n",
       "\\hline\n",
       "\t 16 & 301\\\\\n",
       "\t 17 & 302\\\\\n",
       "\t 18 & 303\\\\\n",
       "\t 19 & 304\\\\\n",
       "\t 20 & 305\\\\\n",
       "\\end{tabular}\n",
       "\n",
       "\\end{enumerate}\n"
      ],
      "text/markdown": [
       "1. \n",
       "A data.frame: 5 × 2\n",
       "\n",
       "| Value1 &lt;int&gt; | Value2 &lt;int&gt; |\n",
       "|---|---|\n",
       "| 1 | 101 |\n",
       "| 2 | 102 |\n",
       "| 3 | 103 |\n",
       "| 4 | 104 |\n",
       "| 5 | 105 |\n",
       "\n",
       "\n",
       "2. \n",
       "A data.frame: 5 × 2\n",
       "\n",
       "| Value1 &lt;int&gt; | Value2 &lt;int&gt; |\n",
       "|---|---|\n",
       "| 11 | 201 |\n",
       "| 12 | 202 |\n",
       "| 13 | 203 |\n",
       "| 14 | 204 |\n",
       "| 15 | 205 |\n",
       "\n",
       "\n",
       "3. \n",
       "A data.frame: 5 × 2\n",
       "\n",
       "| Value1 &lt;int&gt; | Value2 &lt;int&gt; |\n",
       "|---|---|\n",
       "| 16 | 301 |\n",
       "| 17 | 302 |\n",
       "| 18 | 303 |\n",
       "| 19 | 304 |\n",
       "| 20 | 305 |\n",
       "\n",
       "\n",
       "\n",
       "\n"
      ],
      "text/plain": [
       "[[1]]\n",
       "  Value1 Value2\n",
       "1      1    101\n",
       "2      2    102\n",
       "3      3    103\n",
       "4      4    104\n",
       "5      5    105\n",
       "\n",
       "[[2]]\n",
       "  Value1 Value2\n",
       "1     11    201\n",
       "2     12    202\n",
       "3     13    203\n",
       "4     14    204\n",
       "5     15    205\n",
       "\n",
       "[[3]]\n",
       "  Value1 Value2\n",
       "1     16    301\n",
       "2     17    302\n",
       "3     18    303\n",
       "4     19    304\n",
       "5     20    305\n"
      ]
     },
     "metadata": {},
     "output_type": "display_data"
    }
   ],
   "source": [
    "list_demo <- list(df_a, df_b, df_c)\n",
    "list_demo"
   ]
  },
  {
   "cell_type": "code",
   "execution_count": 149,
   "metadata": {},
   "outputs": [
    {
     "data": {
      "text/html": [
       "<ol>\n",
       "\t<li><style>\n",
       ".list-inline {list-style: none; margin:0; padding: 0}\n",
       ".list-inline>li {display: inline-block}\n",
       ".list-inline>li:not(:last-child)::after {content: \"\\00b7\"; padding: 0 .5ex}\n",
       "</style>\n",
       "<ol class=list-inline><li>101</li><li>102</li><li>103</li><li>104</li><li>105</li></ol>\n",
       "</li>\n",
       "\t<li><style>\n",
       ".list-inline {list-style: none; margin:0; padding: 0}\n",
       ".list-inline>li {display: inline-block}\n",
       ".list-inline>li:not(:last-child)::after {content: \"\\00b7\"; padding: 0 .5ex}\n",
       "</style>\n",
       "<ol class=list-inline><li>201</li><li>202</li><li>203</li><li>204</li><li>205</li></ol>\n",
       "</li>\n",
       "\t<li><style>\n",
       ".list-inline {list-style: none; margin:0; padding: 0}\n",
       ".list-inline>li {display: inline-block}\n",
       ".list-inline>li:not(:last-child)::after {content: \"\\00b7\"; padding: 0 .5ex}\n",
       "</style>\n",
       "<ol class=list-inline><li>301</li><li>302</li><li>303</li><li>304</li><li>305</li></ol>\n",
       "</li>\n",
       "</ol>\n"
      ],
      "text/latex": [
       "\\begin{enumerate}\n",
       "\\item \\begin{enumerate*}\n",
       "\\item 101\n",
       "\\item 102\n",
       "\\item 103\n",
       "\\item 104\n",
       "\\item 105\n",
       "\\end{enumerate*}\n",
       "\n",
       "\\item \\begin{enumerate*}\n",
       "\\item 201\n",
       "\\item 202\n",
       "\\item 203\n",
       "\\item 204\n",
       "\\item 205\n",
       "\\end{enumerate*}\n",
       "\n",
       "\\item \\begin{enumerate*}\n",
       "\\item 301\n",
       "\\item 302\n",
       "\\item 303\n",
       "\\item 304\n",
       "\\item 305\n",
       "\\end{enumerate*}\n",
       "\n",
       "\\end{enumerate}\n"
      ],
      "text/markdown": [
       "1. 1. 101\n",
       "2. 102\n",
       "3. 103\n",
       "4. 104\n",
       "5. 105\n",
       "\n",
       "\n",
       "\n",
       "2. 1. 201\n",
       "2. 202\n",
       "3. 203\n",
       "4. 204\n",
       "5. 205\n",
       "\n",
       "\n",
       "\n",
       "3. 1. 301\n",
       "2. 302\n",
       "3. 303\n",
       "4. 304\n",
       "5. 305\n",
       "\n",
       "\n",
       "\n",
       "\n",
       "\n"
      ],
      "text/plain": [
       "[[1]]\n",
       "[1] 101 102 103 104 105\n",
       "\n",
       "[[2]]\n",
       "[1] 201 202 203 204 205\n",
       "\n",
       "[[3]]\n",
       "[1] 301 302 303 304 305\n"
      ]
     },
     "metadata": {},
     "output_type": "display_data"
    }
   ],
   "source": [
    "# lets select the 2nd row of each data frame\n",
    "\n",
    "lapply(list_demo, \"[\", , 2)\n",
    "# list_demo - data\n",
    "# \"[\" -  selection operator\n",
    "# row index\n",
    "# col index"
   ]
  },
  {
   "cell_type": "markdown",
   "metadata": {},
   "source": [
    "TASK. Its your turn. **Select all 1st rows of dataframes**"
   ]
  },
  {
   "cell_type": "code",
   "execution_count": 152,
   "metadata": {},
   "outputs": [
    {
     "data": {
      "text/html": [
       "<ol>\n",
       "\t<li><table class=\"dataframe\">\n",
       "<caption>A data.frame: 1 × 2</caption>\n",
       "<thead>\n",
       "\t<tr><th></th><th scope=col>Value1</th><th scope=col>Value2</th></tr>\n",
       "\t<tr><th></th><th scope=col>&lt;int&gt;</th><th scope=col>&lt;int&gt;</th></tr>\n",
       "</thead>\n",
       "<tbody>\n",
       "\t<tr><th scope=row>1</th><td>1</td><td>101</td></tr>\n",
       "</tbody>\n",
       "</table>\n",
       "</li>\n",
       "\t<li><table class=\"dataframe\">\n",
       "<caption>A data.frame: 1 × 2</caption>\n",
       "<thead>\n",
       "\t<tr><th></th><th scope=col>Value1</th><th scope=col>Value2</th></tr>\n",
       "\t<tr><th></th><th scope=col>&lt;int&gt;</th><th scope=col>&lt;int&gt;</th></tr>\n",
       "</thead>\n",
       "<tbody>\n",
       "\t<tr><th scope=row>1</th><td>11</td><td>201</td></tr>\n",
       "</tbody>\n",
       "</table>\n",
       "</li>\n",
       "\t<li><table class=\"dataframe\">\n",
       "<caption>A data.frame: 1 × 2</caption>\n",
       "<thead>\n",
       "\t<tr><th></th><th scope=col>Value1</th><th scope=col>Value2</th></tr>\n",
       "\t<tr><th></th><th scope=col>&lt;int&gt;</th><th scope=col>&lt;int&gt;</th></tr>\n",
       "</thead>\n",
       "<tbody>\n",
       "\t<tr><th scope=row>1</th><td>16</td><td>301</td></tr>\n",
       "</tbody>\n",
       "</table>\n",
       "</li>\n",
       "</ol>\n"
      ],
      "text/latex": [
       "\\begin{enumerate}\n",
       "\\item A data.frame: 1 × 2\n",
       "\\begin{tabular}{r|ll}\n",
       "  & Value1 & Value2\\\\\n",
       "  & <int> & <int>\\\\\n",
       "\\hline\n",
       "\t1 & 1 & 101\\\\\n",
       "\\end{tabular}\n",
       "\n",
       "\\item A data.frame: 1 × 2\n",
       "\\begin{tabular}{r|ll}\n",
       "  & Value1 & Value2\\\\\n",
       "  & <int> & <int>\\\\\n",
       "\\hline\n",
       "\t1 & 11 & 201\\\\\n",
       "\\end{tabular}\n",
       "\n",
       "\\item A data.frame: 1 × 2\n",
       "\\begin{tabular}{r|ll}\n",
       "  & Value1 & Value2\\\\\n",
       "  & <int> & <int>\\\\\n",
       "\\hline\n",
       "\t1 & 16 & 301\\\\\n",
       "\\end{tabular}\n",
       "\n",
       "\\end{enumerate}\n"
      ],
      "text/markdown": [
       "1. \n",
       "A data.frame: 1 × 2\n",
       "\n",
       "| <!--/--> | Value1 &lt;int&gt; | Value2 &lt;int&gt; |\n",
       "|---|---|---|\n",
       "| 1 | 1 | 101 |\n",
       "\n",
       "\n",
       "2. \n",
       "A data.frame: 1 × 2\n",
       "\n",
       "| <!--/--> | Value1 &lt;int&gt; | Value2 &lt;int&gt; |\n",
       "|---|---|---|\n",
       "| 1 | 11 | 201 |\n",
       "\n",
       "\n",
       "3. \n",
       "A data.frame: 1 × 2\n",
       "\n",
       "| <!--/--> | Value1 &lt;int&gt; | Value2 &lt;int&gt; |\n",
       "|---|---|---|\n",
       "| 1 | 16 | 301 |\n",
       "\n",
       "\n",
       "\n",
       "\n"
      ],
      "text/plain": [
       "[[1]]\n",
       "  Value1 Value2\n",
       "1      1    101\n",
       "\n",
       "[[2]]\n",
       "  Value1 Value2\n",
       "1     11    201\n",
       "\n",
       "[[3]]\n",
       "  Value1 Value2\n",
       "1     16    301\n"
      ]
     },
     "metadata": {},
     "output_type": "display_data"
    }
   ],
   "source": [
    "lapply(list_demo, \"[\", 1,)"
   ]
  },
  {
   "cell_type": "markdown",
   "metadata": {},
   "source": [
    "TASK. Its your turn. Select all 1st elements (1st row, 1st col)"
   ]
  },
  {
   "cell_type": "code",
   "execution_count": 162,
   "metadata": {},
   "outputs": [
    {
     "data": {
      "text/html": [
       "<ol>\n",
       "\t<li>1</li>\n",
       "\t<li>11</li>\n",
       "\t<li>16</li>\n",
       "</ol>\n"
      ],
      "text/latex": [
       "\\begin{enumerate}\n",
       "\\item 1\n",
       "\\item 11\n",
       "\\item 16\n",
       "\\end{enumerate}\n"
      ],
      "text/markdown": [
       "1. 1\n",
       "2. 11\n",
       "3. 16\n",
       "\n",
       "\n"
      ],
      "text/plain": [
       "[[1]]\n",
       "[1] 1\n",
       "\n",
       "[[2]]\n",
       "[1] 11\n",
       "\n",
       "[[3]]\n",
       "[1] 16\n"
      ]
     },
     "metadata": {},
     "output_type": "display_data"
    }
   ],
   "source": [
    "lapply(list_demo, \"[\", 1, 1)"
   ]
  },
  {
   "cell_type": "markdown",
   "metadata": {},
   "source": [
    "You can apply function to all elemetns. Let's make some names in lowercase "
   ]
  },
  {
   "cell_type": "code",
   "execution_count": 167,
   "metadata": {},
   "outputs": [
    {
     "data": {
      "text/html": [
       "'list'"
      ],
      "text/latex": [
       "'list'"
      ],
      "text/markdown": [
       "'list'"
      ],
      "text/plain": [
       "[1] \"list\""
      ]
     },
     "metadata": {},
     "output_type": "display_data"
    }
   ],
   "source": [
    "names_list <- list(\"John\", \"Jane\", \"Jake\", \"Jacob\")\n",
    "lower_names <- lapply(names_list, tolower) \n",
    "class(lower_names)"
   ]
  },
  {
   "cell_type": "markdown",
   "metadata": {},
   "source": [
    "## `sapplay()`"
   ]
  },
  {
   "cell_type": "markdown",
   "metadata": {},
   "source": [
    "`sapply()` takes a `list` `vector` or `dataframe` as an input and returns the output in `vector` or `matrix` form.\n",
    "Lets use `sapply()` function in the previous example and check the result."
   ]
  },
  {
   "cell_type": "code",
   "execution_count": 170,
   "metadata": {},
   "outputs": [
    {
     "data": {
      "text/html": [
       "<style>\n",
       ".list-inline {list-style: none; margin:0; padding: 0}\n",
       ".list-inline>li {display: inline-block}\n",
       ".list-inline>li:not(:last-child)::after {content: \"\\00b7\"; padding: 0 .5ex}\n",
       "</style>\n",
       "<ol class=list-inline><li>'john'</li><li>'jane'</li><li>'jake'</li><li>'jacob'</li></ol>\n"
      ],
      "text/latex": [
       "\\begin{enumerate*}\n",
       "\\item 'john'\n",
       "\\item 'jane'\n",
       "\\item 'jake'\n",
       "\\item 'jacob'\n",
       "\\end{enumerate*}\n"
      ],
      "text/markdown": [
       "1. 'john'\n",
       "2. 'jane'\n",
       "3. 'jake'\n",
       "4. 'jacob'\n",
       "\n",
       "\n"
      ],
      "text/plain": [
       "[1] \"john\"  \"jane\"  \"jake\"  \"jacob\""
      ]
     },
     "metadata": {},
     "output_type": "display_data"
    }
   ],
   "source": [
    "sapply(names_list, tolower) "
   ]
  },
  {
   "cell_type": "markdown",
   "metadata": {},
   "source": [
    "It tries to simplify the output to the most elementary data structure that is possible. And indeed, `sapply()` is a ‘wrapper’ function for `lapply()`."
   ]
  },
  {
   "cell_type": "markdown",
   "metadata": {},
   "source": [
    "Let's try to get every 1st element of 2nd row from out `list_demo`: "
   ]
  },
  {
   "cell_type": "code",
   "execution_count": 172,
   "metadata": {},
   "outputs": [
    {
     "data": {
      "text/html": [
       "<ol>\n",
       "\t<li><table class=\"dataframe\">\n",
       "<caption>A data.frame: 5 × 2</caption>\n",
       "<thead>\n",
       "\t<tr><th scope=col>Value1</th><th scope=col>Value2</th></tr>\n",
       "\t<tr><th scope=col>&lt;int&gt;</th><th scope=col>&lt;int&gt;</th></tr>\n",
       "</thead>\n",
       "<tbody>\n",
       "\t<tr><td>1</td><td>101</td></tr>\n",
       "\t<tr><td>2</td><td>102</td></tr>\n",
       "\t<tr><td>3</td><td>103</td></tr>\n",
       "\t<tr><td>4</td><td>104</td></tr>\n",
       "\t<tr><td>5</td><td>105</td></tr>\n",
       "</tbody>\n",
       "</table>\n",
       "</li>\n",
       "\t<li><table class=\"dataframe\">\n",
       "<caption>A data.frame: 5 × 2</caption>\n",
       "<thead>\n",
       "\t<tr><th scope=col>Value1</th><th scope=col>Value2</th></tr>\n",
       "\t<tr><th scope=col>&lt;int&gt;</th><th scope=col>&lt;int&gt;</th></tr>\n",
       "</thead>\n",
       "<tbody>\n",
       "\t<tr><td>11</td><td>201</td></tr>\n",
       "\t<tr><td>12</td><td>202</td></tr>\n",
       "\t<tr><td>13</td><td>203</td></tr>\n",
       "\t<tr><td>14</td><td>204</td></tr>\n",
       "\t<tr><td>15</td><td>205</td></tr>\n",
       "</tbody>\n",
       "</table>\n",
       "</li>\n",
       "\t<li><table class=\"dataframe\">\n",
       "<caption>A data.frame: 5 × 2</caption>\n",
       "<thead>\n",
       "\t<tr><th scope=col>Value1</th><th scope=col>Value2</th></tr>\n",
       "\t<tr><th scope=col>&lt;int&gt;</th><th scope=col>&lt;int&gt;</th></tr>\n",
       "</thead>\n",
       "<tbody>\n",
       "\t<tr><td>16</td><td>301</td></tr>\n",
       "\t<tr><td>17</td><td>302</td></tr>\n",
       "\t<tr><td>18</td><td>303</td></tr>\n",
       "\t<tr><td>19</td><td>304</td></tr>\n",
       "\t<tr><td>20</td><td>305</td></tr>\n",
       "</tbody>\n",
       "</table>\n",
       "</li>\n",
       "</ol>\n"
      ],
      "text/latex": [
       "\\begin{enumerate}\n",
       "\\item A data.frame: 5 × 2\n",
       "\\begin{tabular}{ll}\n",
       " Value1 & Value2\\\\\n",
       " <int> & <int>\\\\\n",
       "\\hline\n",
       "\t 1 & 101\\\\\n",
       "\t 2 & 102\\\\\n",
       "\t 3 & 103\\\\\n",
       "\t 4 & 104\\\\\n",
       "\t 5 & 105\\\\\n",
       "\\end{tabular}\n",
       "\n",
       "\\item A data.frame: 5 × 2\n",
       "\\begin{tabular}{ll}\n",
       " Value1 & Value2\\\\\n",
       " <int> & <int>\\\\\n",
       "\\hline\n",
       "\t 11 & 201\\\\\n",
       "\t 12 & 202\\\\\n",
       "\t 13 & 203\\\\\n",
       "\t 14 & 204\\\\\n",
       "\t 15 & 205\\\\\n",
       "\\end{tabular}\n",
       "\n",
       "\\item A data.frame: 5 × 2\n",
       "\\begin{tabular}{ll}\n",
       " Value1 & Value2\\\\\n",
       " <int> & <int>\\\\\n",
       "\\hline\n",
       "\t 16 & 301\\\\\n",
       "\t 17 & 302\\\\\n",
       "\t 18 & 303\\\\\n",
       "\t 19 & 304\\\\\n",
       "\t 20 & 305\\\\\n",
       "\\end{tabular}\n",
       "\n",
       "\\end{enumerate}\n"
      ],
      "text/markdown": [
       "1. \n",
       "A data.frame: 5 × 2\n",
       "\n",
       "| Value1 &lt;int&gt; | Value2 &lt;int&gt; |\n",
       "|---|---|\n",
       "| 1 | 101 |\n",
       "| 2 | 102 |\n",
       "| 3 | 103 |\n",
       "| 4 | 104 |\n",
       "| 5 | 105 |\n",
       "\n",
       "\n",
       "2. \n",
       "A data.frame: 5 × 2\n",
       "\n",
       "| Value1 &lt;int&gt; | Value2 &lt;int&gt; |\n",
       "|---|---|\n",
       "| 11 | 201 |\n",
       "| 12 | 202 |\n",
       "| 13 | 203 |\n",
       "| 14 | 204 |\n",
       "| 15 | 205 |\n",
       "\n",
       "\n",
       "3. \n",
       "A data.frame: 5 × 2\n",
       "\n",
       "| Value1 &lt;int&gt; | Value2 &lt;int&gt; |\n",
       "|---|---|\n",
       "| 16 | 301 |\n",
       "| 17 | 302 |\n",
       "| 18 | 303 |\n",
       "| 19 | 304 |\n",
       "| 20 | 305 |\n",
       "\n",
       "\n",
       "\n",
       "\n"
      ],
      "text/plain": [
       "[[1]]\n",
       "  Value1 Value2\n",
       "1      1    101\n",
       "2      2    102\n",
       "3      3    103\n",
       "4      4    104\n",
       "5      5    105\n",
       "\n",
       "[[2]]\n",
       "  Value1 Value2\n",
       "1     11    201\n",
       "2     12    202\n",
       "3     13    203\n",
       "4     14    204\n",
       "5     15    205\n",
       "\n",
       "[[3]]\n",
       "  Value1 Value2\n",
       "1     16    301\n",
       "2     17    302\n",
       "3     18    303\n",
       "4     19    304\n",
       "5     20    305\n"
      ]
     },
     "metadata": {},
     "output_type": "display_data"
    }
   ],
   "source": [
    "list_demo"
   ]
  },
  {
   "cell_type": "code",
   "execution_count": 178,
   "metadata": {},
   "outputs": [
    {
     "data": {
      "text/html": [
       "<style>\n",
       ".list-inline {list-style: none; margin:0; padding: 0}\n",
       ".list-inline>li {display: inline-block}\n",
       ".list-inline>li:not(:last-child)::after {content: \"\\00b7\"; padding: 0 .5ex}\n",
       "</style>\n",
       "<ol class=list-inline><li>2</li><li>12</li><li>17</li></ol>\n"
      ],
      "text/latex": [
       "\\begin{enumerate*}\n",
       "\\item 2\n",
       "\\item 12\n",
       "\\item 17\n",
       "\\end{enumerate*}\n"
      ],
      "text/markdown": [
       "1. 2\n",
       "2. 12\n",
       "3. 17\n",
       "\n",
       "\n"
      ],
      "text/plain": [
       "[1]  2 12 17"
      ]
     },
     "metadata": {},
     "output_type": "display_data"
    },
    {
     "data": {
      "text/html": [
       "'integer'"
      ],
      "text/latex": [
       "'integer'"
      ],
      "text/markdown": [
       "'integer'"
      ],
      "text/plain": [
       "[1] \"integer\""
      ]
     },
     "metadata": {},
     "output_type": "display_data"
    }
   ],
   "source": [
    "data <- sapply(list_demo, \"[\", 2,1)\n",
    "data\n",
    "class(data)"
   ]
  },
  {
   "cell_type": "code",
   "execution_count": 179,
   "metadata": {},
   "outputs": [
    {
     "data": {
      "text/html": [
       "<ol>\n",
       "\t<li>2</li>\n",
       "\t<li>12</li>\n",
       "\t<li>17</li>\n",
       "</ol>\n"
      ],
      "text/latex": [
       "\\begin{enumerate}\n",
       "\\item 2\n",
       "\\item 12\n",
       "\\item 17\n",
       "\\end{enumerate}\n"
      ],
      "text/markdown": [
       "1. 2\n",
       "2. 12\n",
       "3. 17\n",
       "\n",
       "\n"
      ],
      "text/plain": [
       "[[1]]\n",
       "[1] 2\n",
       "\n",
       "[[2]]\n",
       "[1] 12\n",
       "\n",
       "[[3]]\n",
       "[1] 17\n"
      ]
     },
     "metadata": {},
     "output_type": "display_data"
    },
    {
     "data": {
      "text/html": [
       "'list'"
      ],
      "text/latex": [
       "'list'"
      ],
      "text/markdown": [
       "'list'"
      ],
      "text/plain": [
       "[1] \"list\""
      ]
     },
     "metadata": {},
     "output_type": "display_data"
    }
   ],
   "source": [
    "# lest set simplify = FASLE\n",
    "data <- sapply(list_demo, \"[\", 2,1, simplify =F)\n",
    "data\n",
    "class(data)"
   ]
  },
  {
   "cell_type": "markdown",
   "metadata": {},
   "source": [
    "## `aggregate()`"
   ]
  },
  {
   "cell_type": "markdown",
   "metadata": {},
   "source": [
    "This function is from package `stats`. It often used for grouping data by some key. Its from apply family, but working in the same way. So, its good idea discuss it now.\n",
    "\n",
    "Syntax for data.frame:\n",
    "\n",
    "`\n",
    "aggregate(x,               # R object\n",
    "          by,              # List of variables (grouping elements)\n",
    "          FUN,             # Function to be applied for summary statistics\n",
    "          ...,             # Additional arguments to be passed to FUN\n",
    "          simplify = TRUE, # Whether to simplify results as much as possible or not\n",
    "          drop = TRUE)     # Whether to drop unused combinations of grouping values or not.\n",
    "`"
   ]
  },
  {
   "cell_type": "markdown",
   "metadata": {},
   "source": [
    "Syntax for formula:\n",
    "\n",
    "`# Formula\n",
    "aggregate(formula,             # Input formula\n",
    "          data,                # List or data frame where the variables are stored\n",
    "          FUN,                 # Function to be applied for summary statistics\n",
    "          ...,                 # Additional arguments to be passed to FUN\n",
    "          subset,              # Observations to be used (optional)\n",
    "          na.action = na.omit) # How to deal with NA values`\n",
    "`"
   ]
  },
  {
   "cell_type": "markdown",
   "metadata": {},
   "source": [
    "Lets use our `credit_data` from one of the previous tasks:"
   ]
  },
  {
   "cell_type": "code",
   "execution_count": 32,
   "metadata": {},
   "outputs": [
    {
     "data": {
      "text/html": [
       "<table class=\"dataframe\">\n",
       "<caption>A data.frame: 6 × 12</caption>\n",
       "<thead>\n",
       "\t<tr><th></th><th scope=col>ID</th><th scope=col>Income</th><th scope=col>Limit</th><th scope=col>Rating</th><th scope=col>Cards</th><th scope=col>Age</th><th scope=col>Education</th><th scope=col>Gender</th><th scope=col>Student</th><th scope=col>Married</th><th scope=col>Ethnicity</th><th scope=col>Balance</th></tr>\n",
       "\t<tr><th></th><th scope=col>&lt;int&gt;</th><th scope=col>&lt;dbl&gt;</th><th scope=col>&lt;int&gt;</th><th scope=col>&lt;int&gt;</th><th scope=col>&lt;int&gt;</th><th scope=col>&lt;int&gt;</th><th scope=col>&lt;int&gt;</th><th scope=col>&lt;fct&gt;</th><th scope=col>&lt;fct&gt;</th><th scope=col>&lt;fct&gt;</th><th scope=col>&lt;fct&gt;</th><th scope=col>&lt;int&gt;</th></tr>\n",
       "</thead>\n",
       "<tbody>\n",
       "\t<tr><th scope=row>1</th><td>1</td><td> 14.891</td><td>3606</td><td>283</td><td>2</td><td>34</td><td>11</td><td> Male </td><td>No </td><td>Yes</td><td>Caucasian</td><td> 333</td></tr>\n",
       "\t<tr><th scope=row>2</th><td>2</td><td>106.025</td><td>6645</td><td>483</td><td>3</td><td>82</td><td>15</td><td>Female</td><td>Yes</td><td>Yes</td><td>Asian    </td><td> 903</td></tr>\n",
       "\t<tr><th scope=row>3</th><td>3</td><td>104.593</td><td>7075</td><td>514</td><td>4</td><td>71</td><td>11</td><td> Male </td><td>No </td><td>No </td><td>Asian    </td><td> 580</td></tr>\n",
       "\t<tr><th scope=row>4</th><td>4</td><td>148.924</td><td>9504</td><td>681</td><td>3</td><td>36</td><td>11</td><td>Female</td><td>No </td><td>No </td><td>Asian    </td><td> 964</td></tr>\n",
       "\t<tr><th scope=row>5</th><td>5</td><td> 55.882</td><td>4897</td><td>357</td><td>2</td><td>68</td><td>16</td><td> Male </td><td>No </td><td>Yes</td><td>Caucasian</td><td> 331</td></tr>\n",
       "\t<tr><th scope=row>6</th><td>6</td><td> 80.180</td><td>8047</td><td>569</td><td>4</td><td>77</td><td>10</td><td> Male </td><td>No </td><td>No </td><td>Caucasian</td><td>1151</td></tr>\n",
       "</tbody>\n",
       "</table>\n"
      ],
      "text/latex": [
       "A data.frame: 6 × 12\n",
       "\\begin{tabular}{r|llllllllllll}\n",
       "  & ID & Income & Limit & Rating & Cards & Age & Education & Gender & Student & Married & Ethnicity & Balance\\\\\n",
       "  & <int> & <dbl> & <int> & <int> & <int> & <int> & <int> & <fct> & <fct> & <fct> & <fct> & <int>\\\\\n",
       "\\hline\n",
       "\t1 & 1 &  14.891 & 3606 & 283 & 2 & 34 & 11 &  Male  & No  & Yes & Caucasian &  333\\\\\n",
       "\t2 & 2 & 106.025 & 6645 & 483 & 3 & 82 & 15 & Female & Yes & Yes & Asian     &  903\\\\\n",
       "\t3 & 3 & 104.593 & 7075 & 514 & 4 & 71 & 11 &  Male  & No  & No  & Asian     &  580\\\\\n",
       "\t4 & 4 & 148.924 & 9504 & 681 & 3 & 36 & 11 & Female & No  & No  & Asian     &  964\\\\\n",
       "\t5 & 5 &  55.882 & 4897 & 357 & 2 & 68 & 16 &  Male  & No  & Yes & Caucasian &  331\\\\\n",
       "\t6 & 6 &  80.180 & 8047 & 569 & 4 & 77 & 10 &  Male  & No  & No  & Caucasian & 1151\\\\\n",
       "\\end{tabular}\n"
      ],
      "text/markdown": [
       "\n",
       "A data.frame: 6 × 12\n",
       "\n",
       "| <!--/--> | ID &lt;int&gt; | Income &lt;dbl&gt; | Limit &lt;int&gt; | Rating &lt;int&gt; | Cards &lt;int&gt; | Age &lt;int&gt; | Education &lt;int&gt; | Gender &lt;fct&gt; | Student &lt;fct&gt; | Married &lt;fct&gt; | Ethnicity &lt;fct&gt; | Balance &lt;int&gt; |\n",
       "|---|---|---|---|---|---|---|---|---|---|---|---|---|\n",
       "| 1 | 1 |  14.891 | 3606 | 283 | 2 | 34 | 11 |  Male  | No  | Yes | Caucasian |  333 |\n",
       "| 2 | 2 | 106.025 | 6645 | 483 | 3 | 82 | 15 | Female | Yes | Yes | Asian     |  903 |\n",
       "| 3 | 3 | 104.593 | 7075 | 514 | 4 | 71 | 11 |  Male  | No  | No  | Asian     |  580 |\n",
       "| 4 | 4 | 148.924 | 9504 | 681 | 3 | 36 | 11 | Female | No  | No  | Asian     |  964 |\n",
       "| 5 | 5 |  55.882 | 4897 | 357 | 2 | 68 | 16 |  Male  | No  | Yes | Caucasian |  331 |\n",
       "| 6 | 6 |  80.180 | 8047 | 569 | 4 | 77 | 10 |  Male  | No  | No  | Caucasian | 1151 |\n",
       "\n"
      ],
      "text/plain": [
       "  ID Income  Limit Rating Cards Age Education Gender Student Married Ethnicity\n",
       "1 1   14.891 3606  283    2     34  11         Male  No      Yes     Caucasian\n",
       "2 2  106.025 6645  483    3     82  15        Female Yes     Yes     Asian    \n",
       "3 3  104.593 7075  514    4     71  11         Male  No      No      Asian    \n",
       "4 4  148.924 9504  681    3     36  11        Female No      No      Asian    \n",
       "5 5   55.882 4897  357    2     68  16         Male  No      Yes     Caucasian\n",
       "6 6   80.180 8047  569    4     77  10         Male  No      No      Caucasian\n",
       "  Balance\n",
       "1  333   \n",
       "2  903   \n",
       "3  580   \n",
       "4  964   \n",
       "5  331   \n",
       "6 1151   "
      ]
     },
     "metadata": {},
     "output_type": "display_data"
    }
   ],
   "source": [
    "credit_data <- ISLR::Credit\n",
    "head(credit_data)"
   ]
  },
  {
   "cell_type": "markdown",
   "metadata": {},
   "source": [
    "TASK 1. Calculate average Balance by Gender:"
   ]
  },
  {
   "cell_type": "code",
   "execution_count": 33,
   "metadata": {},
   "outputs": [
    {
     "data": {
      "text/html": [
       "<table class=\"dataframe\">\n",
       "<caption>A data.frame: 2 × 2</caption>\n",
       "<thead>\n",
       "\t<tr><th scope=col>Gender</th><th scope=col>Balance</th></tr>\n",
       "\t<tr><th scope=col>&lt;fct&gt;</th><th scope=col>&lt;dbl&gt;</th></tr>\n",
       "</thead>\n",
       "<tbody>\n",
       "\t<tr><td> Male </td><td>509.8031</td></tr>\n",
       "\t<tr><td>Female</td><td>529.5362</td></tr>\n",
       "</tbody>\n",
       "</table>\n"
      ],
      "text/latex": [
       "A data.frame: 2 × 2\n",
       "\\begin{tabular}{ll}\n",
       " Gender & Balance\\\\\n",
       " <fct> & <dbl>\\\\\n",
       "\\hline\n",
       "\t  Male  & 509.8031\\\\\n",
       "\t Female & 529.5362\\\\\n",
       "\\end{tabular}\n"
      ],
      "text/markdown": [
       "\n",
       "A data.frame: 2 × 2\n",
       "\n",
       "| Gender &lt;fct&gt; | Balance &lt;dbl&gt; |\n",
       "|---|---|\n",
       "|  Male  | 509.8031 |\n",
       "| Female | 529.5362 |\n",
       "\n"
      ],
      "text/plain": [
       "  Gender Balance \n",
       "1  Male  509.8031\n",
       "2 Female 529.5362"
      ]
     },
     "metadata": {},
     "output_type": "display_data"
    }
   ],
   "source": [
    "# lets use formula syntax\n",
    "group_bal <- aggregate(Balance ~ Gender, data = credit_data, mean)\n",
    "group_bal"
   ]
  },
  {
   "cell_type": "markdown",
   "metadata": {},
   "source": [
    "TASK 2. Average Balance for Gender and Student status at the same time"
   ]
  },
  {
   "cell_type": "code",
   "execution_count": 34,
   "metadata": {},
   "outputs": [
    {
     "data": {
      "text/html": [
       "<table class=\"dataframe\">\n",
       "<caption>A data.frame: 4 × 3</caption>\n",
       "<thead>\n",
       "\t<tr><th scope=col>Gender</th><th scope=col>Student</th><th scope=col>Balance</th></tr>\n",
       "\t<tr><th scope=col>&lt;fct&gt;</th><th scope=col>&lt;fct&gt;</th><th scope=col>&lt;dbl&gt;</th></tr>\n",
       "</thead>\n",
       "<tbody>\n",
       "\t<tr><td> Male </td><td>No </td><td>470.7571</td></tr>\n",
       "\t<tr><td>Female</td><td>No </td><td>489.6667</td></tr>\n",
       "\t<tr><td> Male </td><td>Yes</td><td>941.7500</td></tr>\n",
       "\t<tr><td>Female</td><td>Yes</td><td>833.5417</td></tr>\n",
       "</tbody>\n",
       "</table>\n"
      ],
      "text/latex": [
       "A data.frame: 4 × 3\n",
       "\\begin{tabular}{lll}\n",
       " Gender & Student & Balance\\\\\n",
       " <fct> & <fct> & <dbl>\\\\\n",
       "\\hline\n",
       "\t  Male  & No  & 470.7571\\\\\n",
       "\t Female & No  & 489.6667\\\\\n",
       "\t  Male  & Yes & 941.7500\\\\\n",
       "\t Female & Yes & 833.5417\\\\\n",
       "\\end{tabular}\n"
      ],
      "text/markdown": [
       "\n",
       "A data.frame: 4 × 3\n",
       "\n",
       "| Gender &lt;fct&gt; | Student &lt;fct&gt; | Balance &lt;dbl&gt; |\n",
       "|---|---|---|\n",
       "|  Male  | No  | 470.7571 |\n",
       "| Female | No  | 489.6667 |\n",
       "|  Male  | Yes | 941.7500 |\n",
       "| Female | Yes | 833.5417 |\n",
       "\n"
      ],
      "text/plain": [
       "  Gender Student Balance \n",
       "1  Male  No      470.7571\n",
       "2 Female No      489.6667\n",
       "3  Male  Yes     941.7500\n",
       "4 Female Yes     833.5417"
      ]
     },
     "metadata": {},
     "output_type": "display_data"
    }
   ],
   "source": [
    "group_bal <- aggregate(Balance ~ Gender + Student, data = credit_data, mean)\n",
    "group_bal"
   ]
  },
  {
   "cell_type": "markdown",
   "metadata": {},
   "source": [
    "Task 3. FOR STUDENTS. Try get aggregated average `Income` by `Age`. Order final dat.frame by age and make a `plot()`."
   ]
  },
  {
   "cell_type": "code",
   "execution_count": 37,
   "metadata": {},
   "outputs": [
    {
     "data": {
      "text/html": [
       "<table class=\"dataframe\">\n",
       "<caption>A data.frame: 68 × 2</caption>\n",
       "<thead>\n",
       "\t<tr><th scope=col>Age</th><th scope=col>Income</th></tr>\n",
       "\t<tr><th scope=col>&lt;int&gt;</th><th scope=col>&lt;dbl&gt;</th></tr>\n",
       "</thead>\n",
       "<tbody>\n",
       "\t<tr><td>23</td><td>24.31400</td></tr>\n",
       "\t<tr><td>24</td><td>34.77400</td></tr>\n",
       "\t<tr><td>25</td><td>21.19700</td></tr>\n",
       "\t<tr><td>26</td><td>16.47900</td></tr>\n",
       "\t<tr><td>27</td><td>32.39150</td></tr>\n",
       "\t<tr><td>28</td><td>34.71940</td></tr>\n",
       "\t<tr><td>29</td><td>34.94640</td></tr>\n",
       "\t<tr><td>30</td><td>37.55788</td></tr>\n",
       "\t<tr><td>31</td><td>43.52567</td></tr>\n",
       "\t<tr><td>32</td><td>33.69625</td></tr>\n",
       "\t<tr><td>33</td><td>38.93229</td></tr>\n",
       "\t<tr><td>34</td><td>38.13450</td></tr>\n",
       "\t<tr><td>35</td><td>36.11717</td></tr>\n",
       "\t<tr><td>36</td><td>53.54720</td></tr>\n",
       "\t<tr><td>37</td><td>34.54225</td></tr>\n",
       "\t<tr><td>38</td><td>48.13700</td></tr>\n",
       "\t<tr><td>39</td><td>52.50850</td></tr>\n",
       "\t<tr><td>40</td><td>38.79657</td></tr>\n",
       "\t<tr><td>41</td><td>79.57111</td></tr>\n",
       "\t<tr><td>42</td><td>31.45600</td></tr>\n",
       "\t<tr><td>43</td><td>29.94480</td></tr>\n",
       "\t<tr><td>44</td><td>41.54415</td></tr>\n",
       "\t<tr><td>45</td><td>52.75640</td></tr>\n",
       "\t<tr><td>46</td><td>50.35740</td></tr>\n",
       "\t<tr><td>47</td><td>40.90091</td></tr>\n",
       "\t<tr><td>48</td><td>47.43850</td></tr>\n",
       "\t<tr><td>49</td><td>40.09971</td></tr>\n",
       "\t<tr><td>50</td><td>59.40642</td></tr>\n",
       "\t<tr><td>51</td><td>25.75583</td></tr>\n",
       "\t<tr><td>52</td><td>52.30717</td></tr>\n",
       "\t<tr><td>...</td><td>...</td></tr>\n",
       "\t<tr><td>61</td><td> 20.10300</td></tr>\n",
       "\t<tr><td>62</td><td> 49.36817</td></tr>\n",
       "\t<tr><td>63</td><td> 34.81360</td></tr>\n",
       "\t<tr><td>64</td><td> 41.67467</td></tr>\n",
       "\t<tr><td>65</td><td> 26.95260</td></tr>\n",
       "\t<tr><td>66</td><td> 44.59877</td></tr>\n",
       "\t<tr><td>67</td><td> 67.33610</td></tr>\n",
       "\t<tr><td>68</td><td> 37.63867</td></tr>\n",
       "\t<tr><td>69</td><td> 59.70210</td></tr>\n",
       "\t<tr><td>70</td><td> 24.43029</td></tr>\n",
       "\t<tr><td>71</td><td> 47.05956</td></tr>\n",
       "\t<tr><td>72</td><td> 40.33643</td></tr>\n",
       "\t<tr><td>73</td><td> 38.74050</td></tr>\n",
       "\t<tr><td>74</td><td> 29.82850</td></tr>\n",
       "\t<tr><td>75</td><td> 36.84625</td></tr>\n",
       "\t<tr><td>76</td><td> 36.66080</td></tr>\n",
       "\t<tr><td>77</td><td> 34.11360</td></tr>\n",
       "\t<tr><td>78</td><td> 54.34000</td></tr>\n",
       "\t<tr><td>79</td><td> 36.22843</td></tr>\n",
       "\t<tr><td>80</td><td> 52.30386</td></tr>\n",
       "\t<tr><td>81</td><td> 49.18140</td></tr>\n",
       "\t<tr><td>82</td><td> 66.00200</td></tr>\n",
       "\t<tr><td>83</td><td> 84.20617</td></tr>\n",
       "\t<tr><td>84</td><td> 74.45800</td></tr>\n",
       "\t<tr><td>85</td><td> 58.35100</td></tr>\n",
       "\t<tr><td>86</td><td> 88.83000</td></tr>\n",
       "\t<tr><td>87</td><td> 89.62450</td></tr>\n",
       "\t<tr><td>89</td><td>123.29900</td></tr>\n",
       "\t<tr><td>91</td><td>151.94700</td></tr>\n",
       "\t<tr><td>98</td><td>182.72800</td></tr>\n",
       "</tbody>\n",
       "</table>\n"
      ],
      "text/latex": [
       "A data.frame: 68 × 2\n",
       "\\begin{tabular}{ll}\n",
       " Age & Income\\\\\n",
       " <int> & <dbl>\\\\\n",
       "\\hline\n",
       "\t 23 & 24.31400\\\\\n",
       "\t 24 & 34.77400\\\\\n",
       "\t 25 & 21.19700\\\\\n",
       "\t 26 & 16.47900\\\\\n",
       "\t 27 & 32.39150\\\\\n",
       "\t 28 & 34.71940\\\\\n",
       "\t 29 & 34.94640\\\\\n",
       "\t 30 & 37.55788\\\\\n",
       "\t 31 & 43.52567\\\\\n",
       "\t 32 & 33.69625\\\\\n",
       "\t 33 & 38.93229\\\\\n",
       "\t 34 & 38.13450\\\\\n",
       "\t 35 & 36.11717\\\\\n",
       "\t 36 & 53.54720\\\\\n",
       "\t 37 & 34.54225\\\\\n",
       "\t 38 & 48.13700\\\\\n",
       "\t 39 & 52.50850\\\\\n",
       "\t 40 & 38.79657\\\\\n",
       "\t 41 & 79.57111\\\\\n",
       "\t 42 & 31.45600\\\\\n",
       "\t 43 & 29.94480\\\\\n",
       "\t 44 & 41.54415\\\\\n",
       "\t 45 & 52.75640\\\\\n",
       "\t 46 & 50.35740\\\\\n",
       "\t 47 & 40.90091\\\\\n",
       "\t 48 & 47.43850\\\\\n",
       "\t 49 & 40.09971\\\\\n",
       "\t 50 & 59.40642\\\\\n",
       "\t 51 & 25.75583\\\\\n",
       "\t 52 & 52.30717\\\\\n",
       "\t ... & ...\\\\\n",
       "\t 61 &  20.10300\\\\\n",
       "\t 62 &  49.36817\\\\\n",
       "\t 63 &  34.81360\\\\\n",
       "\t 64 &  41.67467\\\\\n",
       "\t 65 &  26.95260\\\\\n",
       "\t 66 &  44.59877\\\\\n",
       "\t 67 &  67.33610\\\\\n",
       "\t 68 &  37.63867\\\\\n",
       "\t 69 &  59.70210\\\\\n",
       "\t 70 &  24.43029\\\\\n",
       "\t 71 &  47.05956\\\\\n",
       "\t 72 &  40.33643\\\\\n",
       "\t 73 &  38.74050\\\\\n",
       "\t 74 &  29.82850\\\\\n",
       "\t 75 &  36.84625\\\\\n",
       "\t 76 &  36.66080\\\\\n",
       "\t 77 &  34.11360\\\\\n",
       "\t 78 &  54.34000\\\\\n",
       "\t 79 &  36.22843\\\\\n",
       "\t 80 &  52.30386\\\\\n",
       "\t 81 &  49.18140\\\\\n",
       "\t 82 &  66.00200\\\\\n",
       "\t 83 &  84.20617\\\\\n",
       "\t 84 &  74.45800\\\\\n",
       "\t 85 &  58.35100\\\\\n",
       "\t 86 &  88.83000\\\\\n",
       "\t 87 &  89.62450\\\\\n",
       "\t 89 & 123.29900\\\\\n",
       "\t 91 & 151.94700\\\\\n",
       "\t 98 & 182.72800\\\\\n",
       "\\end{tabular}\n"
      ],
      "text/markdown": [
       "\n",
       "A data.frame: 68 × 2\n",
       "\n",
       "| Age &lt;int&gt; | Income &lt;dbl&gt; |\n",
       "|---|---|\n",
       "| 23 | 24.31400 |\n",
       "| 24 | 34.77400 |\n",
       "| 25 | 21.19700 |\n",
       "| 26 | 16.47900 |\n",
       "| 27 | 32.39150 |\n",
       "| 28 | 34.71940 |\n",
       "| 29 | 34.94640 |\n",
       "| 30 | 37.55788 |\n",
       "| 31 | 43.52567 |\n",
       "| 32 | 33.69625 |\n",
       "| 33 | 38.93229 |\n",
       "| 34 | 38.13450 |\n",
       "| 35 | 36.11717 |\n",
       "| 36 | 53.54720 |\n",
       "| 37 | 34.54225 |\n",
       "| 38 | 48.13700 |\n",
       "| 39 | 52.50850 |\n",
       "| 40 | 38.79657 |\n",
       "| 41 | 79.57111 |\n",
       "| 42 | 31.45600 |\n",
       "| 43 | 29.94480 |\n",
       "| 44 | 41.54415 |\n",
       "| 45 | 52.75640 |\n",
       "| 46 | 50.35740 |\n",
       "| 47 | 40.90091 |\n",
       "| 48 | 47.43850 |\n",
       "| 49 | 40.09971 |\n",
       "| 50 | 59.40642 |\n",
       "| 51 | 25.75583 |\n",
       "| 52 | 52.30717 |\n",
       "| ... | ... |\n",
       "| 61 |  20.10300 |\n",
       "| 62 |  49.36817 |\n",
       "| 63 |  34.81360 |\n",
       "| 64 |  41.67467 |\n",
       "| 65 |  26.95260 |\n",
       "| 66 |  44.59877 |\n",
       "| 67 |  67.33610 |\n",
       "| 68 |  37.63867 |\n",
       "| 69 |  59.70210 |\n",
       "| 70 |  24.43029 |\n",
       "| 71 |  47.05956 |\n",
       "| 72 |  40.33643 |\n",
       "| 73 |  38.74050 |\n",
       "| 74 |  29.82850 |\n",
       "| 75 |  36.84625 |\n",
       "| 76 |  36.66080 |\n",
       "| 77 |  34.11360 |\n",
       "| 78 |  54.34000 |\n",
       "| 79 |  36.22843 |\n",
       "| 80 |  52.30386 |\n",
       "| 81 |  49.18140 |\n",
       "| 82 |  66.00200 |\n",
       "| 83 |  84.20617 |\n",
       "| 84 |  74.45800 |\n",
       "| 85 |  58.35100 |\n",
       "| 86 |  88.83000 |\n",
       "| 87 |  89.62450 |\n",
       "| 89 | 123.29900 |\n",
       "| 91 | 151.94700 |\n",
       "| 98 | 182.72800 |\n",
       "\n"
      ],
      "text/plain": [
       "    Age Income   \n",
       "1   23  24.31400 \n",
       "2   24  34.77400 \n",
       "3   25  21.19700 \n",
       "4   26  16.47900 \n",
       "5   27  32.39150 \n",
       "6   28  34.71940 \n",
       "7   29  34.94640 \n",
       "8   30  37.55788 \n",
       "9   31  43.52567 \n",
       "10  32  33.69625 \n",
       "11  33  38.93229 \n",
       "12  34  38.13450 \n",
       "13  35  36.11717 \n",
       "14  36  53.54720 \n",
       "15  37  34.54225 \n",
       "16  38  48.13700 \n",
       "17  39  52.50850 \n",
       "18  40  38.79657 \n",
       "19  41  79.57111 \n",
       "20  42  31.45600 \n",
       "21  43  29.94480 \n",
       "22  44  41.54415 \n",
       "23  45  52.75640 \n",
       "24  46  50.35740 \n",
       "25  47  40.90091 \n",
       "26  48  47.43850 \n",
       "27  49  40.09971 \n",
       "28  50  59.40642 \n",
       "29  51  25.75583 \n",
       "30  52  52.30717 \n",
       "... ... ...      \n",
       "39  61   20.10300\n",
       "40  62   49.36817\n",
       "41  63   34.81360\n",
       "42  64   41.67467\n",
       "43  65   26.95260\n",
       "44  66   44.59877\n",
       "45  67   67.33610\n",
       "46  68   37.63867\n",
       "47  69   59.70210\n",
       "48  70   24.43029\n",
       "49  71   47.05956\n",
       "50  72   40.33643\n",
       "51  73   38.74050\n",
       "52  74   29.82850\n",
       "53  75   36.84625\n",
       "54  76   36.66080\n",
       "55  77   34.11360\n",
       "56  78   54.34000\n",
       "57  79   36.22843\n",
       "58  80   52.30386\n",
       "59  81   49.18140\n",
       "60  82   66.00200\n",
       "61  83   84.20617\n",
       "62  84   74.45800\n",
       "63  85   58.35100\n",
       "64  86   88.83000\n",
       "65  87   89.62450\n",
       "66  89  123.29900\n",
       "67  91  151.94700\n",
       "68  98  182.72800"
      ]
     },
     "metadata": {},
     "output_type": "display_data"
    }
   ],
   "source": [
    "group_inc <- aggregate(Income ~ Age, data = credit_data, mean)\n",
    "group_inc"
   ]
  },
  {
   "cell_type": "code",
   "execution_count": 38,
   "metadata": {},
   "outputs": [
    {
     "data": {
      "image/png": "[encoded data removed]",
      "text/plain": [
       "plot without title"
      ]
     },
     "metadata": {
      "image/png": {
       "height": 420,
       "width": 420
      }
     },
     "output_type": "display_data"
    }
   ],
   "source": [
    "plot(group_inc$Age, group_inc$Income, type = \"b\")"
   ]
  },
  {
   "cell_type": "markdown",
   "metadata": {},
   "source": [
    "---"
   ]
  },
  {
   "cell_type": "markdown",
   "metadata": {},
   "source": [
    "# References"
   ]
  },
  {
   "cell_type": "markdown",
   "metadata": {},
   "source": [
    "1. The Comprehensive R Archive NetworkRcran: Url: https://cran.r-project.org/\n",
    "2. RStudio official website. Url: https://rstudio.com/\n",
    "3. Anaconda official website. Url: https://www.anaconda.com/\n",
    "4. Introduction to R. Datacamp interactive course. Url:  https://www.datacamp.com/courses/free-introduction-to-r\n",
    "5. Quanargo. Introduction to R. Url: https://www.quantargo.com/courses/course-r-introduction\n",
    "6. R Coder Project. Begin your data science career with R language! Url: https://r-coder.com/\n",
    "7. R Core Team (2019). R: A language and environment for statistical computing. R Foundation for Statistical Computing, Vienna, Austria.URL https://www.R-project.org/.\n",
    "8. A.B. Shipunov, EM Baldin, P.A. Volkova, VG Sufiyanov. Visual statistics. We use R! - M .: DMK Press, 2012. - 298 p .: ill.\n",
    "9. An Introduction to R. URL: https://cran.r-project.org/doc/manuals/r-release/R-intro.html\n",
    "10. R programming. https://www.datamentor.io/r-programming\n",
    "11. Learn R. R Functions. https://www.w3schools.com/r/r_functions.asp\n",
    "12. UC Business Analytics R Programming Guide. Managing Data Frames. http://uc-r.github.io/dataframes\n",
    "13. Learn R programming. R - Lists. https://www.tutorialspoint.com/r/r_lists.htm\n",
    "14. Tutorial on the R Apply Family by Carlo Fanara. https://www.datacamp.com/community/tutorials/r-tutorial-apply-family"
   ]
  }
 ],
 "metadata": {
  "kernelspec": {
   "display_name": "R",
   "language": "R",
   "name": "ir"
  },
  "language_info": {
   "codemirror_mode": "r",
   "file_extension": ".r",
   "mimetype": "text/x-r-source",
   "name": "R",
   "pygments_lexer": "r",
   "version": "4.0.5"
  }
 },
 "nbformat": 4,
 "nbformat_minor": 5
}
