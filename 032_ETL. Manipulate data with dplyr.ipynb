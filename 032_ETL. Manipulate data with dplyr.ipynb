{
 "cells": [
  {
   "cell_type": "markdown",
   "id": "e723050a",
   "metadata": {},
   "source": [
    "# Manipulate data with `dplyr`\n",
    "\n",
    "---\n",
    "\n",
    "## Fundamentals of ETL: data extraction, transformation and loading\n",
    "\n",
    "\n",
    "Applied Mathematical Modeling in Banking"
   ]
  },
  {
   "cell_type": "markdown",
   "id": "b1bd75d3",
   "metadata": {},
   "source": [
    "---"
   ]
  },
  {
   "cell_type": "markdown",
   "id": "ab820065",
   "metadata": {},
   "source": [
    "# Table of contents"
   ]
  },
  {
   "cell_type": "markdown",
   "id": "cb606911",
   "metadata": {},
   "source": [
    "1.What's `dplyr`\n",
    "2. Exploring our data with dplyr `dplyr`\n"
   ]
  },
  {
   "cell_type": "markdown",
   "id": "b28061ae",
   "metadata": {},
   "source": [
    "---"
   ]
  },
  {
   "cell_type": "markdown",
   "id": "860c9852",
   "metadata": {},
   "source": [
    "# 1.What's `dplyr`"
   ]
  },
  {
   "cell_type": "markdown",
   "id": "3585dc31",
   "metadata": {},
   "source": [
    "The `dplyr` package is one of the most powerful and popular package in `R` for data manipulation. "
   ]
  },
  {
   "cell_type": "markdown",
   "id": "6020d3cc",
   "metadata": {},
   "source": [
    "Working with data:\n",
    "\n",
    "- [x] Figure out what you want to do.\n",
    "- [x] Describe those tasks in the form of a computer program.\n",
    "- [x] Execute the program.\n",
    "\n",
    "The `dplyr` package makes these steps fast and easy:\n",
    "\n",
    "- [x] By constraining your options, it helps you think about your data manipulation challenges.\n",
    "- [x] It provides simple `verbs`, functions that correspond to the most common data manipulation tasks, to help you translate your thoughts into code.\n",
    "- [x] It uses efficient backends, so you spend less time waiting for the computer."
   ]
  },
  {
   "cell_type": "markdown",
   "id": "87e5e440",
   "metadata": {},
   "source": [
    "Before use you should install package:"
   ]
  },
  {
   "cell_type": "code",
   "execution_count": 11,
   "id": "f56c1779",
   "metadata": {},
   "outputs": [],
   "source": [
    "#install.packages(\"dplyr\")"
   ]
  },
  {
   "cell_type": "markdown",
   "id": "e5e9f854",
   "metadata": {},
   "source": [
    "Next step is loading package:"
   ]
  },
  {
   "cell_type": "code",
   "execution_count": 4,
   "id": "bb0eed5b",
   "metadata": {},
   "outputs": [],
   "source": [
    "library(dplyr)"
   ]
  },
  {
   "cell_type": "markdown",
   "id": "431be0c3",
   "metadata": {},
   "source": [
    "`dplyr` functions work with pipes and expect `tidy data`. In tidy data:"
   ]
  },
  {
   "cell_type": "markdown",
   "id": "c98e5f45",
   "metadata": {},
   "source": [
    "![](assets/images/03/dplyr1.png)"
   ]
  },
  {
   "cell_type": "markdown",
   "id": "92876ffb",
   "metadata": {},
   "source": [
    "Alternative way is to load `tidyverse` package with other attached:"
   ]
  },
  {
   "cell_type": "code",
   "execution_count": 6,
   "id": "5f421148",
   "metadata": {},
   "outputs": [
    {
     "name": "stderr",
     "output_type": "stream",
     "text": [
      "Your code contains a unicode char which cannot be displayed in your\n",
      "current locale and R will silently convert it to an escaped form when the\n",
      "R kernel executes this code. This can lead to subtle errors if you use\n",
      "such chars to do comparisons. For more information, please see\n",
      "https://github.com/IRkernel/repr/wiki/Problems-with-unicode-on-windows"
     ]
    },
    {
     "data": {
      "text/html": [
       "<style>\n",
       ".list-inline {list-style: none; margin:0; padding: 0}\n",
       ".list-inline>li {display: inline-block}\n",
       ".list-inline>li:not(:last-child)::after {content: \"\\00b7\"; padding: 0 .5ex}\n",
       "</style>\n",
       "<ol class=list-inline><li>'broom'</li><li>'cli'</li><li>'crayon'</li><li>'dbplyr'</li><li>'dplyr'</li><li>'dtplyr'</li><li>'forcats'</li><li>'googledrive'</li><li>'googlesheets4'</li><li>'ggplot2'</li><li>'haven'</li><li>'hms'</li><li>'httr'</li><li>'jsonlite'</li><li>'lubridate'</li><li>'magrittr'</li><li>'modelr'</li><li>'pillar'</li><li>'purrr'</li><li>'readr'</li><li>'readxl'</li><li>'reprex'</li><li>'rlang'</li><li>'rstudioapi'</li><li>'rvest'</li><li>'stringr'</li><li>'tibble'</li><li>'tidyr'</li><li>'xml2'</li><li>'tidyverse'</li></ol>\n"
      ],
      "text/latex": [
       "\\begin{enumerate*}\n",
       "\\item 'broom'\n",
       "\\item 'cli'\n",
       "\\item 'crayon'\n",
       "\\item 'dbplyr'\n",
       "\\item 'dplyr'\n",
       "\\item 'dtplyr'\n",
       "\\item 'forcats'\n",
       "\\item 'googledrive'\n",
       "\\item 'googlesheets4'\n",
       "\\item 'ggplot2'\n",
       "\\item 'haven'\n",
       "\\item 'hms'\n",
       "\\item 'httr'\n",
       "\\item 'jsonlite'\n",
       "\\item 'lubridate'\n",
       "\\item 'magrittr'\n",
       "\\item 'modelr'\n",
       "\\item 'pillar'\n",
       "\\item 'purrr'\n",
       "\\item 'readr'\n",
       "\\item 'readxl'\n",
       "\\item 'reprex'\n",
       "\\item 'rlang'\n",
       "\\item 'rstudioapi'\n",
       "\\item 'rvest'\n",
       "\\item 'stringr'\n",
       "\\item 'tibble'\n",
       "\\item 'tidyr'\n",
       "\\item 'xml2'\n",
       "\\item 'tidyverse'\n",
       "\\end{enumerate*}\n"
      ],
      "text/markdown": [
       "1. 'broom'\n",
       "2. 'cli'\n",
       "3. 'crayon'\n",
       "4. 'dbplyr'\n",
       "5. 'dplyr'\n",
       "6. 'dtplyr'\n",
       "7. 'forcats'\n",
       "8. 'googledrive'\n",
       "9. 'googlesheets4'\n",
       "10. 'ggplot2'\n",
       "11. 'haven'\n",
       "12. 'hms'\n",
       "13. 'httr'\n",
       "14. 'jsonlite'\n",
       "15. 'lubridate'\n",
       "16. 'magrittr'\n",
       "17. 'modelr'\n",
       "18. 'pillar'\n",
       "19. 'purrr'\n",
       "20. 'readr'\n",
       "21. 'readxl'\n",
       "22. 'reprex'\n",
       "23. 'rlang'\n",
       "24. 'rstudioapi'\n",
       "25. 'rvest'\n",
       "26. 'stringr'\n",
       "27. 'tibble'\n",
       "28. 'tidyr'\n",
       "29. 'xml2'\n",
       "30. 'tidyverse'\n",
       "\n",
       "\n"
      ],
      "text/plain": [
       " [1] \"broom\"         \"cli\"           \"crayon\"        \"dbplyr\"       \n",
       " [5] \"dplyr\"         \"dtplyr\"        \"forcats\"       \"googledrive\"  \n",
       " [9] \"googlesheets4\" \"ggplot2\"       \"haven\"         \"hms\"          \n",
       "[13] \"httr\"          \"jsonlite\"      \"lubridate\"     \"magrittr\"     \n",
       "[17] \"modelr\"        \"pillar\"        \"purrr\"         \"readr\"        \n",
       "[21] \"readxl\"        \"reprex\"        \"rlang\"         \"rstudioapi\"   \n",
       "[25] \"rvest\"         \"stringr\"       \"tibble\"        \"tidyr\"        \n",
       "[29] \"xml2\"          \"tidyverse\"    "
      ]
     },
     "metadata": {},
     "output_type": "display_data"
    }
   ],
   "source": [
    "#install.packages(\"tidyverse\")\n",
    "library(tidyverse)\n",
    "# to tidyverse attached packages\n",
    "tidyverse_packages(include_self = TRUE)\n",
    "# зачем это знать?.."
   ]
  },
  {
   "cell_type": "markdown",
   "id": "f0c95542-b8ad-4127-985d-02d3e737709b",
   "metadata": {},
   "source": [
    "---"
   ]
  },
  {
   "cell_type": "markdown",
   "id": "137966c0",
   "metadata": {},
   "source": [
    "# 2. Exploring our data with dplyr `dplyr`"
   ]
  },
  {
   "cell_type": "markdown",
   "id": "46980729-6779-4cf8-9d16-4f8d96d3d7e2",
   "metadata": {},
   "source": [
    "## 2.1. Funtions and dataset explore"
   ]
  },
  {
   "cell_type": "markdown",
   "id": "6352b604",
   "metadata": {},
   "source": [
    "There are most popular functions in `dplyr` is listed in table."
   ]
  },
  {
   "cell_type": "markdown",
   "id": "91663461",
   "metadata": {},
   "source": [
    "|dplyr Function|Description\t| Equivalent SQL|\n",
    "|---|---|---|\n",
    "|select()\t|Selecting columns (variables)\t|SELECT|\n",
    "|filter()\t|Filter (subset) rows.\t|WHERE|\n",
    "|group_by()|\tGroup the data\t|GROUP BY|\n",
    "|summarise()|\tSummarise (or aggregate) data|\t-|\n",
    "|arrange()|\tSort the data\t|ORDER BY\n",
    "|join()|\tJoining data frames (tables)|\tJOIN|\n",
    "|mutate()\t|Creating New Variables|\tCOLUMN ALIAS|"
   ]
  },
  {
   "cell_type": "markdown",
   "id": "fde2ef4a",
   "metadata": {},
   "source": [
    "For the next sample we are going to use `gapminder` dataset. [Go to gapminder dataset description](00_Datasets.ipynb#gapminder)"
   ]
  },
  {
   "cell_type": "markdown",
   "id": "b94982c2",
   "metadata": {},
   "source": [
    "The `gapminder` data frame include six variables:\n",
    "\n",
    "\n",
    "|variable|meaning|\n",
    "|---|---|\n",
    "|country| - |\t\n",
    "|continent| - |\t\t\n",
    "|year| - |\t\n",
    "|lifeExp|\tlife expectancy at birth|\n",
    "|pop\t|total population|\n",
    "|gdpPercap|\tper-capita GDP|\n",
    "\n",
    "`Per-capita GDP` (Gross domestic product) is given in units of international dollars, `a hypothetical unit of currency that has the same purchasing power parity that the U.S. dollar had in the United States at a given point in time` – 2005, in this case."
   ]
  },
  {
   "cell_type": "markdown",
   "id": "11108a90",
   "metadata": {},
   "source": [
    "The `gapminder` data frame is a special kind of data frame: a `tibble`. "
   ]
  },
  {
   "cell_type": "code",
   "execution_count": 8,
   "id": "2709b7ca",
   "metadata": {},
   "outputs": [
    {
     "name": "stderr",
     "output_type": "stream",
     "text": [
      "Warning message:\n",
      "\"package 'gapminder' was built under R version 4.1.0\"\n"
     ]
    },
    {
     "data": {
      "text/html": [
       "<style>\n",
       ".list-inline {list-style: none; margin:0; padding: 0}\n",
       ".list-inline>li {display: inline-block}\n",
       ".list-inline>li:not(:last-child)::after {content: \"\\00b7\"; padding: 0 .5ex}\n",
       "</style>\n",
       "<ol class=list-inline><li>'tbl_df'</li><li>'tbl'</li><li>'data.frame'</li></ol>\n"
      ],
      "text/latex": [
       "\\begin{enumerate*}\n",
       "\\item 'tbl\\_df'\n",
       "\\item 'tbl'\n",
       "\\item 'data.frame'\n",
       "\\end{enumerate*}\n"
      ],
      "text/markdown": [
       "1. 'tbl_df'\n",
       "2. 'tbl'\n",
       "3. 'data.frame'\n",
       "\n",
       "\n"
      ],
      "text/plain": [
       "[1] \"tbl_df\"     \"tbl\"        \"data.frame\""
      ]
     },
     "metadata": {},
     "output_type": "display_data"
    }
   ],
   "source": [
    "library(gapminder)  # load package and dataset\n",
    "class(gapminder)"
   ]
  },
  {
   "cell_type": "markdown",
   "id": "b8040cde",
   "metadata": {},
   "source": [
    "Let's preview it with functions `str()`, `glimpse()`, `head()`, `tail()`, `summary()`."
   ]
  },
  {
   "cell_type": "code",
   "execution_count": 9,
   "id": "e4161813",
   "metadata": {
    "scrolled": true
   },
   "outputs": [
    {
     "name": "stdout",
     "output_type": "stream",
     "text": [
      "tibble [1,704 x 6] (S3: tbl_df/tbl/data.frame)\n",
      " $ country  : Factor w/ 142 levels \"Afghanistan\",..: 1 1 1 1 1 1 1 1 1 1 ...\n",
      " $ continent: Factor w/ 5 levels \"Africa\",\"Americas\",..: 3 3 3 3 3 3 3 3 3 3 ...\n",
      " $ year     : int [1:1704] 1952 1957 1962 1967 1972 1977 1982 1987 1992 1997 ...\n",
      " $ lifeExp  : num [1:1704] 28.8 30.3 32 34 36.1 ...\n",
      " $ pop      : int [1:1704] 8425333 9240934 10267083 11537966 13079460 14880372 12881816 13867957 16317921 22227415 ...\n",
      " $ gdpPercap: num [1:1704] 779 821 853 836 740 ...\n"
     ]
    }
   ],
   "source": [
    "str(gapminder)"
   ]
  },
  {
   "cell_type": "code",
   "execution_count": 10,
   "id": "c4833bfd",
   "metadata": {},
   "outputs": [
    {
     "name": "stdout",
     "output_type": "stream",
     "text": [
      "Rows: 1,704\n",
      "Columns: 6\n",
      "$ country   \u001b[3m\u001b[90m<fct>\u001b[39m\u001b[23m \"Afghanistan\", \"Afghanistan\", \"Afghanistan\", \"Afghanistan\", ~\n",
      "$ continent \u001b[3m\u001b[90m<fct>\u001b[39m\u001b[23m Asia, Asia, Asia, Asia, Asia, Asia, Asia, Asia, Asia, Asia, ~\n",
      "$ year      \u001b[3m\u001b[90m<int>\u001b[39m\u001b[23m 1952, 1957, 1962, 1967, 1972, 1977, 1982, 1987, 1992, 1997, ~\n",
      "$ lifeExp   \u001b[3m\u001b[90m<dbl>\u001b[39m\u001b[23m 28.801, 30.332, 31.997, 34.020, 36.088, 38.438, 39.854, 40.8~\n",
      "$ pop       \u001b[3m\u001b[90m<int>\u001b[39m\u001b[23m 8425333, 9240934, 10267083, 11537966, 13079460, 14880372, 12~\n",
      "$ gdpPercap \u001b[3m\u001b[90m<dbl>\u001b[39m\u001b[23m 779.4453, 820.8530, 853.1007, 836.1971, 739.9811, 786.1134, ~\n"
     ]
    }
   ],
   "source": [
    "glimpse(gapminder)"
   ]
  },
  {
   "cell_type": "code",
   "execution_count": 11,
   "id": "b067627a",
   "metadata": {},
   "outputs": [
    {
     "data": {
      "text/html": [
       "<table class=\"dataframe\">\n",
       "<caption>A tibble: 6 × 6</caption>\n",
       "<thead>\n",
       "\t<tr><th scope=col>country</th><th scope=col>continent</th><th scope=col>year</th><th scope=col>lifeExp</th><th scope=col>pop</th><th scope=col>gdpPercap</th></tr>\n",
       "\t<tr><th scope=col>&lt;fct&gt;</th><th scope=col>&lt;fct&gt;</th><th scope=col>&lt;int&gt;</th><th scope=col>&lt;dbl&gt;</th><th scope=col>&lt;int&gt;</th><th scope=col>&lt;dbl&gt;</th></tr>\n",
       "</thead>\n",
       "<tbody>\n",
       "\t<tr><td>Afghanistan</td><td>Asia</td><td>1952</td><td>28.801</td><td> 8425333</td><td>779.4453</td></tr>\n",
       "\t<tr><td>Afghanistan</td><td>Asia</td><td>1957</td><td>30.332</td><td> 9240934</td><td>820.8530</td></tr>\n",
       "\t<tr><td>Afghanistan</td><td>Asia</td><td>1962</td><td>31.997</td><td>10267083</td><td>853.1007</td></tr>\n",
       "\t<tr><td>Afghanistan</td><td>Asia</td><td>1967</td><td>34.020</td><td>11537966</td><td>836.1971</td></tr>\n",
       "\t<tr><td>Afghanistan</td><td>Asia</td><td>1972</td><td>36.088</td><td>13079460</td><td>739.9811</td></tr>\n",
       "\t<tr><td>Afghanistan</td><td>Asia</td><td>1977</td><td>38.438</td><td>14880372</td><td>786.1134</td></tr>\n",
       "</tbody>\n",
       "</table>\n"
      ],
      "text/latex": [
       "A tibble: 6 × 6\n",
       "\\begin{tabular}{llllll}\n",
       " country & continent & year & lifeExp & pop & gdpPercap\\\\\n",
       " <fct> & <fct> & <int> & <dbl> & <int> & <dbl>\\\\\n",
       "\\hline\n",
       "\t Afghanistan & Asia & 1952 & 28.801 &  8425333 & 779.4453\\\\\n",
       "\t Afghanistan & Asia & 1957 & 30.332 &  9240934 & 820.8530\\\\\n",
       "\t Afghanistan & Asia & 1962 & 31.997 & 10267083 & 853.1007\\\\\n",
       "\t Afghanistan & Asia & 1967 & 34.020 & 11537966 & 836.1971\\\\\n",
       "\t Afghanistan & Asia & 1972 & 36.088 & 13079460 & 739.9811\\\\\n",
       "\t Afghanistan & Asia & 1977 & 38.438 & 14880372 & 786.1134\\\\\n",
       "\\end{tabular}\n"
      ],
      "text/markdown": [
       "\n",
       "A tibble: 6 × 6\n",
       "\n",
       "| country &lt;fct&gt; | continent &lt;fct&gt; | year &lt;int&gt; | lifeExp &lt;dbl&gt; | pop &lt;int&gt; | gdpPercap &lt;dbl&gt; |\n",
       "|---|---|---|---|---|---|\n",
       "| Afghanistan | Asia | 1952 | 28.801 |  8425333 | 779.4453 |\n",
       "| Afghanistan | Asia | 1957 | 30.332 |  9240934 | 820.8530 |\n",
       "| Afghanistan | Asia | 1962 | 31.997 | 10267083 | 853.1007 |\n",
       "| Afghanistan | Asia | 1967 | 34.020 | 11537966 | 836.1971 |\n",
       "| Afghanistan | Asia | 1972 | 36.088 | 13079460 | 739.9811 |\n",
       "| Afghanistan | Asia | 1977 | 38.438 | 14880372 | 786.1134 |\n",
       "\n"
      ],
      "text/plain": [
       "  country     continent year lifeExp pop      gdpPercap\n",
       "1 Afghanistan Asia      1952 28.801   8425333 779.4453 \n",
       "2 Afghanistan Asia      1957 30.332   9240934 820.8530 \n",
       "3 Afghanistan Asia      1962 31.997  10267083 853.1007 \n",
       "4 Afghanistan Asia      1967 34.020  11537966 836.1971 \n",
       "5 Afghanistan Asia      1972 36.088  13079460 739.9811 \n",
       "6 Afghanistan Asia      1977 38.438  14880372 786.1134 "
      ]
     },
     "metadata": {},
     "output_type": "display_data"
    }
   ],
   "source": [
    "head(gapminder) #shows first n-rows, 6 by default"
   ]
  },
  {
   "cell_type": "code",
   "execution_count": 12,
   "id": "203c5dc2",
   "metadata": {},
   "outputs": [
    {
     "data": {
      "text/html": [
       "<table class=\"dataframe\">\n",
       "<caption>A tibble: 6 × 6</caption>\n",
       "<thead>\n",
       "\t<tr><th scope=col>country</th><th scope=col>continent</th><th scope=col>year</th><th scope=col>lifeExp</th><th scope=col>pop</th><th scope=col>gdpPercap</th></tr>\n",
       "\t<tr><th scope=col>&lt;fct&gt;</th><th scope=col>&lt;fct&gt;</th><th scope=col>&lt;int&gt;</th><th scope=col>&lt;dbl&gt;</th><th scope=col>&lt;int&gt;</th><th scope=col>&lt;dbl&gt;</th></tr>\n",
       "</thead>\n",
       "<tbody>\n",
       "\t<tr><td>Zimbabwe</td><td>Africa</td><td>1982</td><td>60.363</td><td> 7636524</td><td>788.8550</td></tr>\n",
       "\t<tr><td>Zimbabwe</td><td>Africa</td><td>1987</td><td>62.351</td><td> 9216418</td><td>706.1573</td></tr>\n",
       "\t<tr><td>Zimbabwe</td><td>Africa</td><td>1992</td><td>60.377</td><td>10704340</td><td>693.4208</td></tr>\n",
       "\t<tr><td>Zimbabwe</td><td>Africa</td><td>1997</td><td>46.809</td><td>11404948</td><td>792.4500</td></tr>\n",
       "\t<tr><td>Zimbabwe</td><td>Africa</td><td>2002</td><td>39.989</td><td>11926563</td><td>672.0386</td></tr>\n",
       "\t<tr><td>Zimbabwe</td><td>Africa</td><td>2007</td><td>43.487</td><td>12311143</td><td>469.7093</td></tr>\n",
       "</tbody>\n",
       "</table>\n"
      ],
      "text/latex": [
       "A tibble: 6 × 6\n",
       "\\begin{tabular}{llllll}\n",
       " country & continent & year & lifeExp & pop & gdpPercap\\\\\n",
       " <fct> & <fct> & <int> & <dbl> & <int> & <dbl>\\\\\n",
       "\\hline\n",
       "\t Zimbabwe & Africa & 1982 & 60.363 &  7636524 & 788.8550\\\\\n",
       "\t Zimbabwe & Africa & 1987 & 62.351 &  9216418 & 706.1573\\\\\n",
       "\t Zimbabwe & Africa & 1992 & 60.377 & 10704340 & 693.4208\\\\\n",
       "\t Zimbabwe & Africa & 1997 & 46.809 & 11404948 & 792.4500\\\\\n",
       "\t Zimbabwe & Africa & 2002 & 39.989 & 11926563 & 672.0386\\\\\n",
       "\t Zimbabwe & Africa & 2007 & 43.487 & 12311143 & 469.7093\\\\\n",
       "\\end{tabular}\n"
      ],
      "text/markdown": [
       "\n",
       "A tibble: 6 × 6\n",
       "\n",
       "| country &lt;fct&gt; | continent &lt;fct&gt; | year &lt;int&gt; | lifeExp &lt;dbl&gt; | pop &lt;int&gt; | gdpPercap &lt;dbl&gt; |\n",
       "|---|---|---|---|---|---|\n",
       "| Zimbabwe | Africa | 1982 | 60.363 |  7636524 | 788.8550 |\n",
       "| Zimbabwe | Africa | 1987 | 62.351 |  9216418 | 706.1573 |\n",
       "| Zimbabwe | Africa | 1992 | 60.377 | 10704340 | 693.4208 |\n",
       "| Zimbabwe | Africa | 1997 | 46.809 | 11404948 | 792.4500 |\n",
       "| Zimbabwe | Africa | 2002 | 39.989 | 11926563 | 672.0386 |\n",
       "| Zimbabwe | Africa | 2007 | 43.487 | 12311143 | 469.7093 |\n",
       "\n"
      ],
      "text/plain": [
       "  country  continent year lifeExp pop      gdpPercap\n",
       "1 Zimbabwe Africa    1982 60.363   7636524 788.8550 \n",
       "2 Zimbabwe Africa    1987 62.351   9216418 706.1573 \n",
       "3 Zimbabwe Africa    1992 60.377  10704340 693.4208 \n",
       "4 Zimbabwe Africa    1997 46.809  11404948 792.4500 \n",
       "5 Zimbabwe Africa    2002 39.989  11926563 672.0386 \n",
       "6 Zimbabwe Africa    2007 43.487  12311143 469.7093 "
      ]
     },
     "metadata": {},
     "output_type": "display_data"
    }
   ],
   "source": [
    "tail(gapminder) #shows last n-rows, 6 by default"
   ]
  },
  {
   "cell_type": "code",
   "execution_count": 13,
   "id": "daf4e5b8",
   "metadata": {},
   "outputs": [
    {
     "data": {
      "text/plain": [
       "        country        continent        year         lifeExp     \n",
       " Afghanistan:  12   Africa  :624   Min.   :1952   Min.   :23.60  \n",
       " Albania    :  12   Americas:300   1st Qu.:1966   1st Qu.:48.20  \n",
       " Algeria    :  12   Asia    :396   Median :1980   Median :60.71  \n",
       " Angola     :  12   Europe  :360   Mean   :1980   Mean   :59.47  \n",
       " Argentina  :  12   Oceania : 24   3rd Qu.:1993   3rd Qu.:70.85  \n",
       " Australia  :  12                  Max.   :2007   Max.   :82.60  \n",
       " (Other)    :1632                                                \n",
       "      pop              gdpPercap       \n",
       " Min.   :6.001e+04   Min.   :   241.2  \n",
       " 1st Qu.:2.794e+06   1st Qu.:  1202.1  \n",
       " Median :7.024e+06   Median :  3531.8  \n",
       " Mean   :2.960e+07   Mean   :  7215.3  \n",
       " 3rd Qu.:1.959e+07   3rd Qu.:  9325.5  \n",
       " Max.   :1.319e+09   Max.   :113523.1  \n",
       "                                       "
      ]
     },
     "metadata": {},
     "output_type": "display_data"
    }
   ],
   "source": [
    "summary(gapminder)"
   ]
  },
  {
   "cell_type": "markdown",
   "id": "3f53e459",
   "metadata": {},
   "source": [
    "Let's get information about Canada in `gapminder` dataset:"
   ]
  },
  {
   "cell_type": "code",
   "execution_count": 14,
   "id": "33f1659a",
   "metadata": {},
   "outputs": [
    {
     "data": {
      "text/html": [
       "<table class=\"dataframe\">\n",
       "<caption>A tibble: 12 × 6</caption>\n",
       "<thead>\n",
       "\t<tr><th scope=col>country</th><th scope=col>continent</th><th scope=col>year</th><th scope=col>lifeExp</th><th scope=col>pop</th><th scope=col>gdpPercap</th></tr>\n",
       "\t<tr><th scope=col>&lt;fct&gt;</th><th scope=col>&lt;fct&gt;</th><th scope=col>&lt;int&gt;</th><th scope=col>&lt;dbl&gt;</th><th scope=col>&lt;int&gt;</th><th scope=col>&lt;dbl&gt;</th></tr>\n",
       "</thead>\n",
       "<tbody>\n",
       "\t<tr><td>Austria</td><td>Europe</td><td>1952</td><td>66.800</td><td>6927772</td><td> 6137.076</td></tr>\n",
       "\t<tr><td>Austria</td><td>Europe</td><td>1957</td><td>67.480</td><td>6965860</td><td> 8842.598</td></tr>\n",
       "\t<tr><td>Austria</td><td>Europe</td><td>1962</td><td>69.540</td><td>7129864</td><td>10750.721</td></tr>\n",
       "\t<tr><td>Austria</td><td>Europe</td><td>1967</td><td>70.140</td><td>7376998</td><td>12834.602</td></tr>\n",
       "\t<tr><td>Austria</td><td>Europe</td><td>1972</td><td>70.630</td><td>7544201</td><td>16661.626</td></tr>\n",
       "\t<tr><td>Austria</td><td>Europe</td><td>1977</td><td>72.170</td><td>7568430</td><td>19749.422</td></tr>\n",
       "\t<tr><td>Austria</td><td>Europe</td><td>1982</td><td>73.180</td><td>7574613</td><td>21597.084</td></tr>\n",
       "\t<tr><td>Austria</td><td>Europe</td><td>1987</td><td>74.940</td><td>7578903</td><td>23687.826</td></tr>\n",
       "\t<tr><td>Austria</td><td>Europe</td><td>1992</td><td>76.040</td><td>7914969</td><td>27042.019</td></tr>\n",
       "\t<tr><td>Austria</td><td>Europe</td><td>1997</td><td>77.510</td><td>8069876</td><td>29095.921</td></tr>\n",
       "\t<tr><td>Austria</td><td>Europe</td><td>2002</td><td>78.980</td><td>8148312</td><td>32417.608</td></tr>\n",
       "\t<tr><td>Austria</td><td>Europe</td><td>2007</td><td>79.829</td><td>8199783</td><td>36126.493</td></tr>\n",
       "</tbody>\n",
       "</table>\n"
      ],
      "text/latex": [
       "A tibble: 12 × 6\n",
       "\\begin{tabular}{llllll}\n",
       " country & continent & year & lifeExp & pop & gdpPercap\\\\\n",
       " <fct> & <fct> & <int> & <dbl> & <int> & <dbl>\\\\\n",
       "\\hline\n",
       "\t Austria & Europe & 1952 & 66.800 & 6927772 &  6137.076\\\\\n",
       "\t Austria & Europe & 1957 & 67.480 & 6965860 &  8842.598\\\\\n",
       "\t Austria & Europe & 1962 & 69.540 & 7129864 & 10750.721\\\\\n",
       "\t Austria & Europe & 1967 & 70.140 & 7376998 & 12834.602\\\\\n",
       "\t Austria & Europe & 1972 & 70.630 & 7544201 & 16661.626\\\\\n",
       "\t Austria & Europe & 1977 & 72.170 & 7568430 & 19749.422\\\\\n",
       "\t Austria & Europe & 1982 & 73.180 & 7574613 & 21597.084\\\\\n",
       "\t Austria & Europe & 1987 & 74.940 & 7578903 & 23687.826\\\\\n",
       "\t Austria & Europe & 1992 & 76.040 & 7914969 & 27042.019\\\\\n",
       "\t Austria & Europe & 1997 & 77.510 & 8069876 & 29095.921\\\\\n",
       "\t Austria & Europe & 2002 & 78.980 & 8148312 & 32417.608\\\\\n",
       "\t Austria & Europe & 2007 & 79.829 & 8199783 & 36126.493\\\\\n",
       "\\end{tabular}\n"
      ],
      "text/markdown": [
       "\n",
       "A tibble: 12 × 6\n",
       "\n",
       "| country &lt;fct&gt; | continent &lt;fct&gt; | year &lt;int&gt; | lifeExp &lt;dbl&gt; | pop &lt;int&gt; | gdpPercap &lt;dbl&gt; |\n",
       "|---|---|---|---|---|---|\n",
       "| Austria | Europe | 1952 | 66.800 | 6927772 |  6137.076 |\n",
       "| Austria | Europe | 1957 | 67.480 | 6965860 |  8842.598 |\n",
       "| Austria | Europe | 1962 | 69.540 | 7129864 | 10750.721 |\n",
       "| Austria | Europe | 1967 | 70.140 | 7376998 | 12834.602 |\n",
       "| Austria | Europe | 1972 | 70.630 | 7544201 | 16661.626 |\n",
       "| Austria | Europe | 1977 | 72.170 | 7568430 | 19749.422 |\n",
       "| Austria | Europe | 1982 | 73.180 | 7574613 | 21597.084 |\n",
       "| Austria | Europe | 1987 | 74.940 | 7578903 | 23687.826 |\n",
       "| Austria | Europe | 1992 | 76.040 | 7914969 | 27042.019 |\n",
       "| Austria | Europe | 1997 | 77.510 | 8069876 | 29095.921 |\n",
       "| Austria | Europe | 2002 | 78.980 | 8148312 | 32417.608 |\n",
       "| Austria | Europe | 2007 | 79.829 | 8199783 | 36126.493 |\n",
       "\n"
      ],
      "text/plain": [
       "   country continent year lifeExp pop     gdpPercap\n",
       "1  Austria Europe    1952 66.800  6927772  6137.076\n",
       "2  Austria Europe    1957 67.480  6965860  8842.598\n",
       "3  Austria Europe    1962 69.540  7129864 10750.721\n",
       "4  Austria Europe    1967 70.140  7376998 12834.602\n",
       "5  Austria Europe    1972 70.630  7544201 16661.626\n",
       "6  Austria Europe    1977 72.170  7568430 19749.422\n",
       "7  Austria Europe    1982 73.180  7574613 21597.084\n",
       "8  Austria Europe    1987 74.940  7578903 23687.826\n",
       "9  Austria Europe    1992 76.040  7914969 27042.019\n",
       "10 Austria Europe    1997 77.510  8069876 29095.921\n",
       "11 Austria Europe    2002 78.980  8148312 32417.608\n",
       "12 Austria Europe    2007 79.829  8199783 36126.493"
      ]
     },
     "metadata": {},
     "output_type": "display_data"
    }
   ],
   "source": [
    "# before this you can View(gapminder) in RStudio to find indexes\n",
    "austria <- gapminder[73:84, ]\n",
    "austria"
   ]
  },
  {
   "cell_type": "markdown",
   "id": "b9ccec29",
   "metadata": {},
   "source": [
    "Thats not a good idea for analyzing every country by row indexes."
   ]
  },
  {
   "cell_type": "markdown",
   "id": "cbf8e31f",
   "metadata": {},
   "source": [
    "## 2.2. filter() function"
   ]
  },
  {
   "cell_type": "markdown",
   "id": "10cfc70f",
   "metadata": {},
   "source": [
    "`filter()` takes logical expressions and returns the rows for which all are TRUE."
   ]
  },
  {
   "cell_type": "code",
   "execution_count": 64,
   "id": "696d935c",
   "metadata": {},
   "outputs": [
    {
     "data": {
      "text/html": [
       "<table class=\"dataframe\">\n",
       "<caption>A tibble: 6 × 6</caption>\n",
       "<thead>\n",
       "\t<tr><th scope=col>country</th><th scope=col>continent</th><th scope=col>year</th><th scope=col>lifeExp</th><th scope=col>pop</th><th scope=col>gdpPercap</th></tr>\n",
       "\t<tr><th scope=col>&lt;fct&gt;</th><th scope=col>&lt;fct&gt;</th><th scope=col>&lt;int&gt;</th><th scope=col>&lt;dbl&gt;</th><th scope=col>&lt;int&gt;</th><th scope=col>&lt;dbl&gt;</th></tr>\n",
       "</thead>\n",
       "<tbody>\n",
       "\t<tr><td>Afghanistan </td><td>Asia  </td><td>1952</td><td>28.801</td><td>8425333</td><td> 779.4453</td></tr>\n",
       "\t<tr><td>Afghanistan </td><td>Asia  </td><td>1957</td><td>30.332</td><td>9240934</td><td> 820.8530</td></tr>\n",
       "\t<tr><td>Angola      </td><td>Africa</td><td>1952</td><td>30.015</td><td>4232095</td><td>3520.6103</td></tr>\n",
       "\t<tr><td>Gambia      </td><td>Africa</td><td>1952</td><td>30.000</td><td> 284320</td><td> 485.2307</td></tr>\n",
       "\t<tr><td>Rwanda      </td><td>Africa</td><td>1992</td><td>23.599</td><td>7290203</td><td> 737.0686</td></tr>\n",
       "\t<tr><td>Sierra Leone</td><td>Africa</td><td>1952</td><td>30.331</td><td>2143249</td><td> 879.7877</td></tr>\n",
       "</tbody>\n",
       "</table>\n"
      ],
      "text/latex": [
       "A tibble: 6 × 6\n",
       "\\begin{tabular}{llllll}\n",
       " country & continent & year & lifeExp & pop & gdpPercap\\\\\n",
       " <fct> & <fct> & <int> & <dbl> & <int> & <dbl>\\\\\n",
       "\\hline\n",
       "\t Afghanistan  & Asia   & 1952 & 28.801 & 8425333 &  779.4453\\\\\n",
       "\t Afghanistan  & Asia   & 1957 & 30.332 & 9240934 &  820.8530\\\\\n",
       "\t Angola       & Africa & 1952 & 30.015 & 4232095 & 3520.6103\\\\\n",
       "\t Gambia       & Africa & 1952 & 30.000 &  284320 &  485.2307\\\\\n",
       "\t Rwanda       & Africa & 1992 & 23.599 & 7290203 &  737.0686\\\\\n",
       "\t Sierra Leone & Africa & 1952 & 30.331 & 2143249 &  879.7877\\\\\n",
       "\\end{tabular}\n"
      ],
      "text/markdown": [
       "\n",
       "A tibble: 6 × 6\n",
       "\n",
       "| country &lt;fct&gt; | continent &lt;fct&gt; | year &lt;int&gt; | lifeExp &lt;dbl&gt; | pop &lt;int&gt; | gdpPercap &lt;dbl&gt; |\n",
       "|---|---|---|---|---|---|\n",
       "| Afghanistan  | Asia   | 1952 | 28.801 | 8425333 |  779.4453 |\n",
       "| Afghanistan  | Asia   | 1957 | 30.332 | 9240934 |  820.8530 |\n",
       "| Angola       | Africa | 1952 | 30.015 | 4232095 | 3520.6103 |\n",
       "| Gambia       | Africa | 1952 | 30.000 |  284320 |  485.2307 |\n",
       "| Rwanda       | Africa | 1992 | 23.599 | 7290203 |  737.0686 |\n",
       "| Sierra Leone | Africa | 1952 | 30.331 | 2143249 |  879.7877 |\n",
       "\n"
      ],
      "text/plain": [
       "  country      continent year lifeExp pop     gdpPercap\n",
       "1 Afghanistan  Asia      1952 28.801  8425333  779.4453\n",
       "2 Afghanistan  Asia      1957 30.332  9240934  820.8530\n",
       "3 Angola       Africa    1952 30.015  4232095 3520.6103\n",
       "4 Gambia       Africa    1952 30.000   284320  485.2307\n",
       "5 Rwanda       Africa    1992 23.599  7290203  737.0686\n",
       "6 Sierra Leone Africa    1952 30.331  2143249  879.7877"
      ]
     },
     "metadata": {},
     "output_type": "display_data"
    }
   ],
   "source": [
    "# task: select rows with lifeExp less than 31\n",
    "filter(gapminder, lifeExp < 31)"
   ]
  },
  {
   "cell_type": "code",
   "execution_count": 67,
   "id": "86ea817b",
   "metadata": {},
   "outputs": [
    {
     "data": {
      "text/html": [
       "<table class=\"dataframe\">\n",
       "<caption>A tibble: 6 × 6</caption>\n",
       "<thead>\n",
       "\t<tr><th scope=col>country</th><th scope=col>continent</th><th scope=col>year</th><th scope=col>lifeExp</th><th scope=col>pop</th><th scope=col>gdpPercap</th></tr>\n",
       "\t<tr><th scope=col>&lt;fct&gt;</th><th scope=col>&lt;fct&gt;</th><th scope=col>&lt;int&gt;</th><th scope=col>&lt;dbl&gt;</th><th scope=col>&lt;int&gt;</th><th scope=col>&lt;dbl&gt;</th></tr>\n",
       "</thead>\n",
       "<tbody>\n",
       "\t<tr><td>Canada</td><td>Americas</td><td>1982</td><td>75.760</td><td>25201900</td><td>22898.79</td></tr>\n",
       "\t<tr><td>Canada</td><td>Americas</td><td>1987</td><td>76.860</td><td>26549700</td><td>26626.52</td></tr>\n",
       "\t<tr><td>Canada</td><td>Americas</td><td>1992</td><td>77.950</td><td>28523502</td><td>26342.88</td></tr>\n",
       "\t<tr><td>Canada</td><td>Americas</td><td>1997</td><td>78.610</td><td>30305843</td><td>28954.93</td></tr>\n",
       "\t<tr><td>Canada</td><td>Americas</td><td>2002</td><td>79.770</td><td>31902268</td><td>33328.97</td></tr>\n",
       "\t<tr><td>Canada</td><td>Americas</td><td>2007</td><td>80.653</td><td>33390141</td><td>36319.24</td></tr>\n",
       "</tbody>\n",
       "</table>\n"
      ],
      "text/latex": [
       "A tibble: 6 × 6\n",
       "\\begin{tabular}{llllll}\n",
       " country & continent & year & lifeExp & pop & gdpPercap\\\\\n",
       " <fct> & <fct> & <int> & <dbl> & <int> & <dbl>\\\\\n",
       "\\hline\n",
       "\t Canada & Americas & 1982 & 75.760 & 25201900 & 22898.79\\\\\n",
       "\t Canada & Americas & 1987 & 76.860 & 26549700 & 26626.52\\\\\n",
       "\t Canada & Americas & 1992 & 77.950 & 28523502 & 26342.88\\\\\n",
       "\t Canada & Americas & 1997 & 78.610 & 30305843 & 28954.93\\\\\n",
       "\t Canada & Americas & 2002 & 79.770 & 31902268 & 33328.97\\\\\n",
       "\t Canada & Americas & 2007 & 80.653 & 33390141 & 36319.24\\\\\n",
       "\\end{tabular}\n"
      ],
      "text/markdown": [
       "\n",
       "A tibble: 6 × 6\n",
       "\n",
       "| country &lt;fct&gt; | continent &lt;fct&gt; | year &lt;int&gt; | lifeExp &lt;dbl&gt; | pop &lt;int&gt; | gdpPercap &lt;dbl&gt; |\n",
       "|---|---|---|---|---|---|\n",
       "| Canada | Americas | 1982 | 75.760 | 25201900 | 22898.79 |\n",
       "| Canada | Americas | 1987 | 76.860 | 26549700 | 26626.52 |\n",
       "| Canada | Americas | 1992 | 77.950 | 28523502 | 26342.88 |\n",
       "| Canada | Americas | 1997 | 78.610 | 30305843 | 28954.93 |\n",
       "| Canada | Americas | 2002 | 79.770 | 31902268 | 33328.97 |\n",
       "| Canada | Americas | 2007 | 80.653 | 33390141 | 36319.24 |\n",
       "\n"
      ],
      "text/plain": [
       "  country continent year lifeExp pop      gdpPercap\n",
       "1 Canada  Americas  1982 75.760  25201900 22898.79 \n",
       "2 Canada  Americas  1987 76.860  26549700 26626.52 \n",
       "3 Canada  Americas  1992 77.950  28523502 26342.88 \n",
       "4 Canada  Americas  1997 78.610  30305843 28954.93 \n",
       "5 Canada  Americas  2002 79.770  31902268 33328.97 \n",
       "6 Canada  Americas  2007 80.653  33390141 36319.24 "
      ]
     },
     "metadata": {},
     "output_type": "display_data"
    }
   ],
   "source": [
    "# task: select canada only and year after 1980\n",
    "filter(gapminder, country == \"Austria\", year > 1980)"
   ]
  },
  {
   "cell_type": "code",
   "execution_count": 74,
   "id": "d6b937c6",
   "metadata": {},
   "outputs": [
    {
     "data": {
      "text/html": [
       "<table class=\"dataframe\">\n",
       "<caption>A tibble: 24 × 6</caption>\n",
       "<thead>\n",
       "\t<tr><th scope=col>country</th><th scope=col>continent</th><th scope=col>year</th><th scope=col>lifeExp</th><th scope=col>pop</th><th scope=col>gdpPercap</th></tr>\n",
       "\t<tr><th scope=col>&lt;fct&gt;</th><th scope=col>&lt;fct&gt;</th><th scope=col>&lt;int&gt;</th><th scope=col>&lt;dbl&gt;</th><th scope=col>&lt;int&gt;</th><th scope=col>&lt;dbl&gt;</th></tr>\n",
       "</thead>\n",
       "<tbody>\n",
       "\t<tr><td>Austria</td><td>Europe</td><td>1952</td><td>66.800</td><td> 6927772</td><td> 6137.076</td></tr>\n",
       "\t<tr><td>Austria</td><td>Europe</td><td>1957</td><td>67.480</td><td> 6965860</td><td> 8842.598</td></tr>\n",
       "\t<tr><td>Austria</td><td>Europe</td><td>1962</td><td>69.540</td><td> 7129864</td><td>10750.721</td></tr>\n",
       "\t<tr><td>Austria</td><td>Europe</td><td>1967</td><td>70.140</td><td> 7376998</td><td>12834.602</td></tr>\n",
       "\t<tr><td>Austria</td><td>Europe</td><td>1972</td><td>70.630</td><td> 7544201</td><td>16661.626</td></tr>\n",
       "\t<tr><td>Austria</td><td>Europe</td><td>1977</td><td>72.170</td><td> 7568430</td><td>19749.422</td></tr>\n",
       "\t<tr><td>Austria</td><td>Europe</td><td>1982</td><td>73.180</td><td> 7574613</td><td>21597.084</td></tr>\n",
       "\t<tr><td>Austria</td><td>Europe</td><td>1987</td><td>74.940</td><td> 7578903</td><td>23687.826</td></tr>\n",
       "\t<tr><td>Austria</td><td>Europe</td><td>1992</td><td>76.040</td><td> 7914969</td><td>27042.019</td></tr>\n",
       "\t<tr><td>Austria</td><td>Europe</td><td>1997</td><td>77.510</td><td> 8069876</td><td>29095.921</td></tr>\n",
       "\t<tr><td>Austria</td><td>Europe</td><td>2002</td><td>78.980</td><td> 8148312</td><td>32417.608</td></tr>\n",
       "\t<tr><td>Austria</td><td>Europe</td><td>2007</td><td>79.829</td><td> 8199783</td><td>36126.493</td></tr>\n",
       "\t<tr><td>Belgium</td><td>Europe</td><td>1952</td><td>68.000</td><td> 8730405</td><td> 8343.105</td></tr>\n",
       "\t<tr><td>Belgium</td><td>Europe</td><td>1957</td><td>69.240</td><td> 8989111</td><td> 9714.961</td></tr>\n",
       "\t<tr><td>Belgium</td><td>Europe</td><td>1962</td><td>70.250</td><td> 9218400</td><td>10991.207</td></tr>\n",
       "\t<tr><td>Belgium</td><td>Europe</td><td>1967</td><td>70.940</td><td> 9556500</td><td>13149.041</td></tr>\n",
       "\t<tr><td>Belgium</td><td>Europe</td><td>1972</td><td>71.440</td><td> 9709100</td><td>16672.144</td></tr>\n",
       "\t<tr><td>Belgium</td><td>Europe</td><td>1977</td><td>72.800</td><td> 9821800</td><td>19117.974</td></tr>\n",
       "\t<tr><td>Belgium</td><td>Europe</td><td>1982</td><td>73.930</td><td> 9856303</td><td>20979.846</td></tr>\n",
       "\t<tr><td>Belgium</td><td>Europe</td><td>1987</td><td>75.350</td><td> 9870200</td><td>22525.563</td></tr>\n",
       "\t<tr><td>Belgium</td><td>Europe</td><td>1992</td><td>76.460</td><td>10045622</td><td>25575.571</td></tr>\n",
       "\t<tr><td>Belgium</td><td>Europe</td><td>1997</td><td>77.530</td><td>10199787</td><td>27561.197</td></tr>\n",
       "\t<tr><td>Belgium</td><td>Europe</td><td>2002</td><td>78.320</td><td>10311970</td><td>30485.884</td></tr>\n",
       "\t<tr><td>Belgium</td><td>Europe</td><td>2007</td><td>79.441</td><td>10392226</td><td>33692.605</td></tr>\n",
       "</tbody>\n",
       "</table>\n"
      ],
      "text/latex": [
       "A tibble: 24 × 6\n",
       "\\begin{tabular}{llllll}\n",
       " country & continent & year & lifeExp & pop & gdpPercap\\\\\n",
       " <fct> & <fct> & <int> & <dbl> & <int> & <dbl>\\\\\n",
       "\\hline\n",
       "\t Austria & Europe & 1952 & 66.800 &  6927772 &  6137.076\\\\\n",
       "\t Austria & Europe & 1957 & 67.480 &  6965860 &  8842.598\\\\\n",
       "\t Austria & Europe & 1962 & 69.540 &  7129864 & 10750.721\\\\\n",
       "\t Austria & Europe & 1967 & 70.140 &  7376998 & 12834.602\\\\\n",
       "\t Austria & Europe & 1972 & 70.630 &  7544201 & 16661.626\\\\\n",
       "\t Austria & Europe & 1977 & 72.170 &  7568430 & 19749.422\\\\\n",
       "\t Austria & Europe & 1982 & 73.180 &  7574613 & 21597.084\\\\\n",
       "\t Austria & Europe & 1987 & 74.940 &  7578903 & 23687.826\\\\\n",
       "\t Austria & Europe & 1992 & 76.040 &  7914969 & 27042.019\\\\\n",
       "\t Austria & Europe & 1997 & 77.510 &  8069876 & 29095.921\\\\\n",
       "\t Austria & Europe & 2002 & 78.980 &  8148312 & 32417.608\\\\\n",
       "\t Austria & Europe & 2007 & 79.829 &  8199783 & 36126.493\\\\\n",
       "\t Belgium & Europe & 1952 & 68.000 &  8730405 &  8343.105\\\\\n",
       "\t Belgium & Europe & 1957 & 69.240 &  8989111 &  9714.961\\\\\n",
       "\t Belgium & Europe & 1962 & 70.250 &  9218400 & 10991.207\\\\\n",
       "\t Belgium & Europe & 1967 & 70.940 &  9556500 & 13149.041\\\\\n",
       "\t Belgium & Europe & 1972 & 71.440 &  9709100 & 16672.144\\\\\n",
       "\t Belgium & Europe & 1977 & 72.800 &  9821800 & 19117.974\\\\\n",
       "\t Belgium & Europe & 1982 & 73.930 &  9856303 & 20979.846\\\\\n",
       "\t Belgium & Europe & 1987 & 75.350 &  9870200 & 22525.563\\\\\n",
       "\t Belgium & Europe & 1992 & 76.460 & 10045622 & 25575.571\\\\\n",
       "\t Belgium & Europe & 1997 & 77.530 & 10199787 & 27561.197\\\\\n",
       "\t Belgium & Europe & 2002 & 78.320 & 10311970 & 30485.884\\\\\n",
       "\t Belgium & Europe & 2007 & 79.441 & 10392226 & 33692.605\\\\\n",
       "\\end{tabular}\n"
      ],
      "text/markdown": [
       "\n",
       "A tibble: 24 × 6\n",
       "\n",
       "| country &lt;fct&gt; | continent &lt;fct&gt; | year &lt;int&gt; | lifeExp &lt;dbl&gt; | pop &lt;int&gt; | gdpPercap &lt;dbl&gt; |\n",
       "|---|---|---|---|---|---|\n",
       "| Austria | Europe | 1952 | 66.800 |  6927772 |  6137.076 |\n",
       "| Austria | Europe | 1957 | 67.480 |  6965860 |  8842.598 |\n",
       "| Austria | Europe | 1962 | 69.540 |  7129864 | 10750.721 |\n",
       "| Austria | Europe | 1967 | 70.140 |  7376998 | 12834.602 |\n",
       "| Austria | Europe | 1972 | 70.630 |  7544201 | 16661.626 |\n",
       "| Austria | Europe | 1977 | 72.170 |  7568430 | 19749.422 |\n",
       "| Austria | Europe | 1982 | 73.180 |  7574613 | 21597.084 |\n",
       "| Austria | Europe | 1987 | 74.940 |  7578903 | 23687.826 |\n",
       "| Austria | Europe | 1992 | 76.040 |  7914969 | 27042.019 |\n",
       "| Austria | Europe | 1997 | 77.510 |  8069876 | 29095.921 |\n",
       "| Austria | Europe | 2002 | 78.980 |  8148312 | 32417.608 |\n",
       "| Austria | Europe | 2007 | 79.829 |  8199783 | 36126.493 |\n",
       "| Belgium | Europe | 1952 | 68.000 |  8730405 |  8343.105 |\n",
       "| Belgium | Europe | 1957 | 69.240 |  8989111 |  9714.961 |\n",
       "| Belgium | Europe | 1962 | 70.250 |  9218400 | 10991.207 |\n",
       "| Belgium | Europe | 1967 | 70.940 |  9556500 | 13149.041 |\n",
       "| Belgium | Europe | 1972 | 71.440 |  9709100 | 16672.144 |\n",
       "| Belgium | Europe | 1977 | 72.800 |  9821800 | 19117.974 |\n",
       "| Belgium | Europe | 1982 | 73.930 |  9856303 | 20979.846 |\n",
       "| Belgium | Europe | 1987 | 75.350 |  9870200 | 22525.563 |\n",
       "| Belgium | Europe | 1992 | 76.460 | 10045622 | 25575.571 |\n",
       "| Belgium | Europe | 1997 | 77.530 | 10199787 | 27561.197 |\n",
       "| Belgium | Europe | 2002 | 78.320 | 10311970 | 30485.884 |\n",
       "| Belgium | Europe | 2007 | 79.441 | 10392226 | 33692.605 |\n",
       "\n"
      ],
      "text/plain": [
       "   country continent year lifeExp pop      gdpPercap\n",
       "1  Austria Europe    1952 66.800   6927772  6137.076\n",
       "2  Austria Europe    1957 67.480   6965860  8842.598\n",
       "3  Austria Europe    1962 69.540   7129864 10750.721\n",
       "4  Austria Europe    1967 70.140   7376998 12834.602\n",
       "5  Austria Europe    1972 70.630   7544201 16661.626\n",
       "6  Austria Europe    1977 72.170   7568430 19749.422\n",
       "7  Austria Europe    1982 73.180   7574613 21597.084\n",
       "8  Austria Europe    1987 74.940   7578903 23687.826\n",
       "9  Austria Europe    1992 76.040   7914969 27042.019\n",
       "10 Austria Europe    1997 77.510   8069876 29095.921\n",
       "11 Austria Europe    2002 78.980   8148312 32417.608\n",
       "12 Austria Europe    2007 79.829   8199783 36126.493\n",
       "13 Belgium Europe    1952 68.000   8730405  8343.105\n",
       "14 Belgium Europe    1957 69.240   8989111  9714.961\n",
       "15 Belgium Europe    1962 70.250   9218400 10991.207\n",
       "16 Belgium Europe    1967 70.940   9556500 13149.041\n",
       "17 Belgium Europe    1972 71.440   9709100 16672.144\n",
       "18 Belgium Europe    1977 72.800   9821800 19117.974\n",
       "19 Belgium Europe    1982 73.930   9856303 20979.846\n",
       "20 Belgium Europe    1987 75.350   9870200 22525.563\n",
       "21 Belgium Europe    1992 76.460  10045622 25575.571\n",
       "22 Belgium Europe    1997 77.530  10199787 27561.197\n",
       "23 Belgium Europe    2002 78.320  10311970 30485.884\n",
       "24 Belgium Europe    2007 79.441  10392226 33692.605"
      ]
     },
     "metadata": {},
     "output_type": "display_data"
    }
   ],
   "source": [
    "# task: select canada only and year after 1980\n",
    "filter(gapminder, country %in% c(\"Austria\", \"Belgium\"))"
   ]
  },
  {
   "cell_type": "markdown",
   "id": "54563703",
   "metadata": {},
   "source": [
    "Lets rewrite initial code:"
   ]
  },
  {
   "cell_type": "code",
   "execution_count": 15,
   "id": "90c18717",
   "metadata": {},
   "outputs": [
    {
     "data": {
      "text/html": [
       "<table class=\"dataframe\">\n",
       "<caption>A tibble: 12 × 6</caption>\n",
       "<thead>\n",
       "\t<tr><th scope=col>country</th><th scope=col>continent</th><th scope=col>year</th><th scope=col>lifeExp</th><th scope=col>pop</th><th scope=col>gdpPercap</th></tr>\n",
       "\t<tr><th scope=col>&lt;fct&gt;</th><th scope=col>&lt;fct&gt;</th><th scope=col>&lt;int&gt;</th><th scope=col>&lt;dbl&gt;</th><th scope=col>&lt;int&gt;</th><th scope=col>&lt;dbl&gt;</th></tr>\n",
       "</thead>\n",
       "<tbody>\n",
       "\t<tr><td>Austria</td><td>Europe</td><td>1952</td><td>66.800</td><td>6927772</td><td> 6137.076</td></tr>\n",
       "\t<tr><td>Austria</td><td>Europe</td><td>1957</td><td>67.480</td><td>6965860</td><td> 8842.598</td></tr>\n",
       "\t<tr><td>Austria</td><td>Europe</td><td>1962</td><td>69.540</td><td>7129864</td><td>10750.721</td></tr>\n",
       "\t<tr><td>Austria</td><td>Europe</td><td>1967</td><td>70.140</td><td>7376998</td><td>12834.602</td></tr>\n",
       "\t<tr><td>Austria</td><td>Europe</td><td>1972</td><td>70.630</td><td>7544201</td><td>16661.626</td></tr>\n",
       "\t<tr><td>Austria</td><td>Europe</td><td>1977</td><td>72.170</td><td>7568430</td><td>19749.422</td></tr>\n",
       "\t<tr><td>Austria</td><td>Europe</td><td>1982</td><td>73.180</td><td>7574613</td><td>21597.084</td></tr>\n",
       "\t<tr><td>Austria</td><td>Europe</td><td>1987</td><td>74.940</td><td>7578903</td><td>23687.826</td></tr>\n",
       "\t<tr><td>Austria</td><td>Europe</td><td>1992</td><td>76.040</td><td>7914969</td><td>27042.019</td></tr>\n",
       "\t<tr><td>Austria</td><td>Europe</td><td>1997</td><td>77.510</td><td>8069876</td><td>29095.921</td></tr>\n",
       "\t<tr><td>Austria</td><td>Europe</td><td>2002</td><td>78.980</td><td>8148312</td><td>32417.608</td></tr>\n",
       "\t<tr><td>Austria</td><td>Europe</td><td>2007</td><td>79.829</td><td>8199783</td><td>36126.493</td></tr>\n",
       "</tbody>\n",
       "</table>\n"
      ],
      "text/latex": [
       "A tibble: 12 × 6\n",
       "\\begin{tabular}{llllll}\n",
       " country & continent & year & lifeExp & pop & gdpPercap\\\\\n",
       " <fct> & <fct> & <int> & <dbl> & <int> & <dbl>\\\\\n",
       "\\hline\n",
       "\t Austria & Europe & 1952 & 66.800 & 6927772 &  6137.076\\\\\n",
       "\t Austria & Europe & 1957 & 67.480 & 6965860 &  8842.598\\\\\n",
       "\t Austria & Europe & 1962 & 69.540 & 7129864 & 10750.721\\\\\n",
       "\t Austria & Europe & 1967 & 70.140 & 7376998 & 12834.602\\\\\n",
       "\t Austria & Europe & 1972 & 70.630 & 7544201 & 16661.626\\\\\n",
       "\t Austria & Europe & 1977 & 72.170 & 7568430 & 19749.422\\\\\n",
       "\t Austria & Europe & 1982 & 73.180 & 7574613 & 21597.084\\\\\n",
       "\t Austria & Europe & 1987 & 74.940 & 7578903 & 23687.826\\\\\n",
       "\t Austria & Europe & 1992 & 76.040 & 7914969 & 27042.019\\\\\n",
       "\t Austria & Europe & 1997 & 77.510 & 8069876 & 29095.921\\\\\n",
       "\t Austria & Europe & 2002 & 78.980 & 8148312 & 32417.608\\\\\n",
       "\t Austria & Europe & 2007 & 79.829 & 8199783 & 36126.493\\\\\n",
       "\\end{tabular}\n"
      ],
      "text/markdown": [
       "\n",
       "A tibble: 12 × 6\n",
       "\n",
       "| country &lt;fct&gt; | continent &lt;fct&gt; | year &lt;int&gt; | lifeExp &lt;dbl&gt; | pop &lt;int&gt; | gdpPercap &lt;dbl&gt; |\n",
       "|---|---|---|---|---|---|\n",
       "| Austria | Europe | 1952 | 66.800 | 6927772 |  6137.076 |\n",
       "| Austria | Europe | 1957 | 67.480 | 6965860 |  8842.598 |\n",
       "| Austria | Europe | 1962 | 69.540 | 7129864 | 10750.721 |\n",
       "| Austria | Europe | 1967 | 70.140 | 7376998 | 12834.602 |\n",
       "| Austria | Europe | 1972 | 70.630 | 7544201 | 16661.626 |\n",
       "| Austria | Europe | 1977 | 72.170 | 7568430 | 19749.422 |\n",
       "| Austria | Europe | 1982 | 73.180 | 7574613 | 21597.084 |\n",
       "| Austria | Europe | 1987 | 74.940 | 7578903 | 23687.826 |\n",
       "| Austria | Europe | 1992 | 76.040 | 7914969 | 27042.019 |\n",
       "| Austria | Europe | 1997 | 77.510 | 8069876 | 29095.921 |\n",
       "| Austria | Europe | 2002 | 78.980 | 8148312 | 32417.608 |\n",
       "| Austria | Europe | 2007 | 79.829 | 8199783 | 36126.493 |\n",
       "\n"
      ],
      "text/plain": [
       "   country continent year lifeExp pop     gdpPercap\n",
       "1  Austria Europe    1952 66.800  6927772  6137.076\n",
       "2  Austria Europe    1957 67.480  6965860  8842.598\n",
       "3  Austria Europe    1962 69.540  7129864 10750.721\n",
       "4  Austria Europe    1967 70.140  7376998 12834.602\n",
       "5  Austria Europe    1972 70.630  7544201 16661.626\n",
       "6  Austria Europe    1977 72.170  7568430 19749.422\n",
       "7  Austria Europe    1982 73.180  7574613 21597.084\n",
       "8  Austria Europe    1987 74.940  7578903 23687.826\n",
       "9  Austria Europe    1992 76.040  7914969 27042.019\n",
       "10 Austria Europe    1997 77.510  8069876 29095.921\n",
       "11 Austria Europe    2002 78.980  8148312 32417.608\n",
       "12 Austria Europe    2007 79.829  8199783 36126.493"
      ]
     },
     "metadata": {},
     "output_type": "display_data"
    }
   ],
   "source": [
    "austria <- filter(gapminder, country == \"Austria\")\n",
    "austria"
   ]
  },
  {
   "cell_type": "markdown",
   "id": "f6949d8f",
   "metadata": {},
   "source": [
    "## 2.3. Pipe (%>%) operator"
   ]
  },
  {
   "cell_type": "markdown",
   "id": "2fd9694a",
   "metadata": {},
   "source": [
    "`%>%` is `pipe` operator. The pipe operator takes the thing on the left-hand-side and pipes it into the function call on the right-hand-side – literally, drops it in as the first argument.\n",
    "\n",
    "`head()` function without pipe and top 4 items:"
   ]
  },
  {
   "cell_type": "markdown",
   "id": "5c6ccd75-7bd0-4bd7-85a0-e75c5786e3c2",
   "metadata": {},
   "source": [
    "> In R version before 4.1.0 `pipe` `%>%` operator is not a language build-in and you should install `magrittr` package:"
   ]
  },
  {
   "cell_type": "code",
   "execution_count": 17,
   "id": "eb309ca5-0c64-4639-b99d-00d7a0dc27a3",
   "metadata": {},
   "outputs": [],
   "source": [
    "#install.packages(\"magrittr\") # for pipe %>% operator\n",
    "library(magrittr)"
   ]
  },
  {
   "cell_type": "code",
   "execution_count": 18,
   "id": "3f358ca6",
   "metadata": {},
   "outputs": [
    {
     "data": {
      "text/html": [
       "<table class=\"dataframe\">\n",
       "<caption>A tibble: 4 × 6</caption>\n",
       "<thead>\n",
       "\t<tr><th scope=col>country</th><th scope=col>continent</th><th scope=col>year</th><th scope=col>lifeExp</th><th scope=col>pop</th><th scope=col>gdpPercap</th></tr>\n",
       "\t<tr><th scope=col>&lt;fct&gt;</th><th scope=col>&lt;fct&gt;</th><th scope=col>&lt;int&gt;</th><th scope=col>&lt;dbl&gt;</th><th scope=col>&lt;int&gt;</th><th scope=col>&lt;dbl&gt;</th></tr>\n",
       "</thead>\n",
       "<tbody>\n",
       "\t<tr><td>Afghanistan</td><td>Asia</td><td>1952</td><td>28.801</td><td> 8425333</td><td>779.4453</td></tr>\n",
       "\t<tr><td>Afghanistan</td><td>Asia</td><td>1957</td><td>30.332</td><td> 9240934</td><td>820.8530</td></tr>\n",
       "\t<tr><td>Afghanistan</td><td>Asia</td><td>1962</td><td>31.997</td><td>10267083</td><td>853.1007</td></tr>\n",
       "\t<tr><td>Afghanistan</td><td>Asia</td><td>1967</td><td>34.020</td><td>11537966</td><td>836.1971</td></tr>\n",
       "</tbody>\n",
       "</table>\n"
      ],
      "text/latex": [
       "A tibble: 4 × 6\n",
       "\\begin{tabular}{llllll}\n",
       " country & continent & year & lifeExp & pop & gdpPercap\\\\\n",
       " <fct> & <fct> & <int> & <dbl> & <int> & <dbl>\\\\\n",
       "\\hline\n",
       "\t Afghanistan & Asia & 1952 & 28.801 &  8425333 & 779.4453\\\\\n",
       "\t Afghanistan & Asia & 1957 & 30.332 &  9240934 & 820.8530\\\\\n",
       "\t Afghanistan & Asia & 1962 & 31.997 & 10267083 & 853.1007\\\\\n",
       "\t Afghanistan & Asia & 1967 & 34.020 & 11537966 & 836.1971\\\\\n",
       "\\end{tabular}\n"
      ],
      "text/markdown": [
       "\n",
       "A tibble: 4 × 6\n",
       "\n",
       "| country &lt;fct&gt; | continent &lt;fct&gt; | year &lt;int&gt; | lifeExp &lt;dbl&gt; | pop &lt;int&gt; | gdpPercap &lt;dbl&gt; |\n",
       "|---|---|---|---|---|---|\n",
       "| Afghanistan | Asia | 1952 | 28.801 |  8425333 | 779.4453 |\n",
       "| Afghanistan | Asia | 1957 | 30.332 |  9240934 | 820.8530 |\n",
       "| Afghanistan | Asia | 1962 | 31.997 | 10267083 | 853.1007 |\n",
       "| Afghanistan | Asia | 1967 | 34.020 | 11537966 | 836.1971 |\n",
       "\n"
      ],
      "text/plain": [
       "  country     continent year lifeExp pop      gdpPercap\n",
       "1 Afghanistan Asia      1952 28.801   8425333 779.4453 \n",
       "2 Afghanistan Asia      1957 30.332   9240934 820.8530 \n",
       "3 Afghanistan Asia      1962 31.997  10267083 853.1007 \n",
       "4 Afghanistan Asia      1967 34.020  11537966 836.1971 "
      ]
     },
     "metadata": {},
     "output_type": "display_data"
    }
   ],
   "source": [
    "head(gapminder, n = 4)"
   ]
  },
  {
   "cell_type": "markdown",
   "id": "f1306f3f",
   "metadata": {},
   "source": [
    "`head()` function with pipe and top 4 items:"
   ]
  },
  {
   "cell_type": "code",
   "execution_count": 19,
   "id": "5bb45cd9",
   "metadata": {},
   "outputs": [
    {
     "data": {
      "text/html": [
       "<table class=\"dataframe\">\n",
       "<caption>A tibble: 4 × 6</caption>\n",
       "<thead>\n",
       "\t<tr><th scope=col>country</th><th scope=col>continent</th><th scope=col>year</th><th scope=col>lifeExp</th><th scope=col>pop</th><th scope=col>gdpPercap</th></tr>\n",
       "\t<tr><th scope=col>&lt;fct&gt;</th><th scope=col>&lt;fct&gt;</th><th scope=col>&lt;int&gt;</th><th scope=col>&lt;dbl&gt;</th><th scope=col>&lt;int&gt;</th><th scope=col>&lt;dbl&gt;</th></tr>\n",
       "</thead>\n",
       "<tbody>\n",
       "\t<tr><td>Afghanistan</td><td>Asia</td><td>1952</td><td>28.801</td><td> 8425333</td><td>779.4453</td></tr>\n",
       "\t<tr><td>Afghanistan</td><td>Asia</td><td>1957</td><td>30.332</td><td> 9240934</td><td>820.8530</td></tr>\n",
       "\t<tr><td>Afghanistan</td><td>Asia</td><td>1962</td><td>31.997</td><td>10267083</td><td>853.1007</td></tr>\n",
       "\t<tr><td>Afghanistan</td><td>Asia</td><td>1967</td><td>34.020</td><td>11537966</td><td>836.1971</td></tr>\n",
       "</tbody>\n",
       "</table>\n"
      ],
      "text/latex": [
       "A tibble: 4 × 6\n",
       "\\begin{tabular}{llllll}\n",
       " country & continent & year & lifeExp & pop & gdpPercap\\\\\n",
       " <fct> & <fct> & <int> & <dbl> & <int> & <dbl>\\\\\n",
       "\\hline\n",
       "\t Afghanistan & Asia & 1952 & 28.801 &  8425333 & 779.4453\\\\\n",
       "\t Afghanistan & Asia & 1957 & 30.332 &  9240934 & 820.8530\\\\\n",
       "\t Afghanistan & Asia & 1962 & 31.997 & 10267083 & 853.1007\\\\\n",
       "\t Afghanistan & Asia & 1967 & 34.020 & 11537966 & 836.1971\\\\\n",
       "\\end{tabular}\n"
      ],
      "text/markdown": [
       "\n",
       "A tibble: 4 × 6\n",
       "\n",
       "| country &lt;fct&gt; | continent &lt;fct&gt; | year &lt;int&gt; | lifeExp &lt;dbl&gt; | pop &lt;int&gt; | gdpPercap &lt;dbl&gt; |\n",
       "|---|---|---|---|---|---|\n",
       "| Afghanistan | Asia | 1952 | 28.801 |  8425333 | 779.4453 |\n",
       "| Afghanistan | Asia | 1957 | 30.332 |  9240934 | 820.8530 |\n",
       "| Afghanistan | Asia | 1962 | 31.997 | 10267083 | 853.1007 |\n",
       "| Afghanistan | Asia | 1967 | 34.020 | 11537966 | 836.1971 |\n",
       "\n"
      ],
      "text/plain": [
       "  country     continent year lifeExp pop      gdpPercap\n",
       "1 Afghanistan Asia      1952 28.801   8425333 779.4453 \n",
       "2 Afghanistan Asia      1957 30.332   9240934 820.8530 \n",
       "3 Afghanistan Asia      1962 31.997  10267083 853.1007 \n",
       "4 Afghanistan Asia      1967 34.020  11537966 836.1971 "
      ]
     },
     "metadata": {},
     "output_type": "display_data"
    }
   ],
   "source": [
    "gapminder %>% head(4)"
   ]
  },
  {
   "cell_type": "markdown",
   "id": "424584ab",
   "metadata": {},
   "source": [
    "Output is the same. So, let's rewrire filtering for `Austria` with pipe:"
   ]
  },
  {
   "cell_type": "code",
   "execution_count": 20,
   "id": "a419d12e",
   "metadata": {},
   "outputs": [
    {
     "data": {
      "text/html": [
       "<table class=\"dataframe\">\n",
       "<caption>A tibble: 12 × 6</caption>\n",
       "<thead>\n",
       "\t<tr><th scope=col>country</th><th scope=col>continent</th><th scope=col>year</th><th scope=col>lifeExp</th><th scope=col>pop</th><th scope=col>gdpPercap</th></tr>\n",
       "\t<tr><th scope=col>&lt;fct&gt;</th><th scope=col>&lt;fct&gt;</th><th scope=col>&lt;int&gt;</th><th scope=col>&lt;dbl&gt;</th><th scope=col>&lt;int&gt;</th><th scope=col>&lt;dbl&gt;</th></tr>\n",
       "</thead>\n",
       "<tbody>\n",
       "\t<tr><td>Austria</td><td>Europe</td><td>1952</td><td>66.800</td><td>6927772</td><td> 6137.076</td></tr>\n",
       "\t<tr><td>Austria</td><td>Europe</td><td>1957</td><td>67.480</td><td>6965860</td><td> 8842.598</td></tr>\n",
       "\t<tr><td>Austria</td><td>Europe</td><td>1962</td><td>69.540</td><td>7129864</td><td>10750.721</td></tr>\n",
       "\t<tr><td>Austria</td><td>Europe</td><td>1967</td><td>70.140</td><td>7376998</td><td>12834.602</td></tr>\n",
       "\t<tr><td>Austria</td><td>Europe</td><td>1972</td><td>70.630</td><td>7544201</td><td>16661.626</td></tr>\n",
       "\t<tr><td>Austria</td><td>Europe</td><td>1977</td><td>72.170</td><td>7568430</td><td>19749.422</td></tr>\n",
       "\t<tr><td>Austria</td><td>Europe</td><td>1982</td><td>73.180</td><td>7574613</td><td>21597.084</td></tr>\n",
       "\t<tr><td>Austria</td><td>Europe</td><td>1987</td><td>74.940</td><td>7578903</td><td>23687.826</td></tr>\n",
       "\t<tr><td>Austria</td><td>Europe</td><td>1992</td><td>76.040</td><td>7914969</td><td>27042.019</td></tr>\n",
       "\t<tr><td>Austria</td><td>Europe</td><td>1997</td><td>77.510</td><td>8069876</td><td>29095.921</td></tr>\n",
       "\t<tr><td>Austria</td><td>Europe</td><td>2002</td><td>78.980</td><td>8148312</td><td>32417.608</td></tr>\n",
       "\t<tr><td>Austria</td><td>Europe</td><td>2007</td><td>79.829</td><td>8199783</td><td>36126.493</td></tr>\n",
       "</tbody>\n",
       "</table>\n"
      ],
      "text/latex": [
       "A tibble: 12 × 6\n",
       "\\begin{tabular}{llllll}\n",
       " country & continent & year & lifeExp & pop & gdpPercap\\\\\n",
       " <fct> & <fct> & <int> & <dbl> & <int> & <dbl>\\\\\n",
       "\\hline\n",
       "\t Austria & Europe & 1952 & 66.800 & 6927772 &  6137.076\\\\\n",
       "\t Austria & Europe & 1957 & 67.480 & 6965860 &  8842.598\\\\\n",
       "\t Austria & Europe & 1962 & 69.540 & 7129864 & 10750.721\\\\\n",
       "\t Austria & Europe & 1967 & 70.140 & 7376998 & 12834.602\\\\\n",
       "\t Austria & Europe & 1972 & 70.630 & 7544201 & 16661.626\\\\\n",
       "\t Austria & Europe & 1977 & 72.170 & 7568430 & 19749.422\\\\\n",
       "\t Austria & Europe & 1982 & 73.180 & 7574613 & 21597.084\\\\\n",
       "\t Austria & Europe & 1987 & 74.940 & 7578903 & 23687.826\\\\\n",
       "\t Austria & Europe & 1992 & 76.040 & 7914969 & 27042.019\\\\\n",
       "\t Austria & Europe & 1997 & 77.510 & 8069876 & 29095.921\\\\\n",
       "\t Austria & Europe & 2002 & 78.980 & 8148312 & 32417.608\\\\\n",
       "\t Austria & Europe & 2007 & 79.829 & 8199783 & 36126.493\\\\\n",
       "\\end{tabular}\n"
      ],
      "text/markdown": [
       "\n",
       "A tibble: 12 × 6\n",
       "\n",
       "| country &lt;fct&gt; | continent &lt;fct&gt; | year &lt;int&gt; | lifeExp &lt;dbl&gt; | pop &lt;int&gt; | gdpPercap &lt;dbl&gt; |\n",
       "|---|---|---|---|---|---|\n",
       "| Austria | Europe | 1952 | 66.800 | 6927772 |  6137.076 |\n",
       "| Austria | Europe | 1957 | 67.480 | 6965860 |  8842.598 |\n",
       "| Austria | Europe | 1962 | 69.540 | 7129864 | 10750.721 |\n",
       "| Austria | Europe | 1967 | 70.140 | 7376998 | 12834.602 |\n",
       "| Austria | Europe | 1972 | 70.630 | 7544201 | 16661.626 |\n",
       "| Austria | Europe | 1977 | 72.170 | 7568430 | 19749.422 |\n",
       "| Austria | Europe | 1982 | 73.180 | 7574613 | 21597.084 |\n",
       "| Austria | Europe | 1987 | 74.940 | 7578903 | 23687.826 |\n",
       "| Austria | Europe | 1992 | 76.040 | 7914969 | 27042.019 |\n",
       "| Austria | Europe | 1997 | 77.510 | 8069876 | 29095.921 |\n",
       "| Austria | Europe | 2002 | 78.980 | 8148312 | 32417.608 |\n",
       "| Austria | Europe | 2007 | 79.829 | 8199783 | 36126.493 |\n",
       "\n"
      ],
      "text/plain": [
       "   country continent year lifeExp pop     gdpPercap\n",
       "1  Austria Europe    1952 66.800  6927772  6137.076\n",
       "2  Austria Europe    1957 67.480  6965860  8842.598\n",
       "3  Austria Europe    1962 69.540  7129864 10750.721\n",
       "4  Austria Europe    1967 70.140  7376998 12834.602\n",
       "5  Austria Europe    1972 70.630  7544201 16661.626\n",
       "6  Austria Europe    1977 72.170  7568430 19749.422\n",
       "7  Austria Europe    1982 73.180  7574613 21597.084\n",
       "8  Austria Europe    1987 74.940  7578903 23687.826\n",
       "9  Austria Europe    1992 76.040  7914969 27042.019\n",
       "10 Austria Europe    1997 77.510  8069876 29095.921\n",
       "11 Austria Europe    2002 78.980  8148312 32417.608\n",
       "12 Austria Europe    2007 79.829  8199783 36126.493"
      ]
     },
     "metadata": {},
     "output_type": "display_data"
    }
   ],
   "source": [
    "austria <- gapminder %>% filter(country == \"Austria\")\n",
    "austria"
   ]
  },
  {
   "cell_type": "code",
   "execution_count": 22,
   "id": "4ecdf18a",
   "metadata": {},
   "outputs": [
    {
     "data": {
      "text/html": [
       "<table class=\"dataframe\">\n",
       "<caption>A tibble: 2 × 6</caption>\n",
       "<thead>\n",
       "\t<tr><th scope=col>country</th><th scope=col>continent</th><th scope=col>year</th><th scope=col>lifeExp</th><th scope=col>pop</th><th scope=col>gdpPercap</th></tr>\n",
       "\t<tr><th scope=col>&lt;fct&gt;</th><th scope=col>&lt;fct&gt;</th><th scope=col>&lt;int&gt;</th><th scope=col>&lt;dbl&gt;</th><th scope=col>&lt;int&gt;</th><th scope=col>&lt;dbl&gt;</th></tr>\n",
       "</thead>\n",
       "<tbody>\n",
       "\t<tr><td>Austria</td><td>Europe</td><td>2002</td><td>78.980</td><td>8148312</td><td>32417.61</td></tr>\n",
       "\t<tr><td>Austria</td><td>Europe</td><td>2007</td><td>79.829</td><td>8199783</td><td>36126.49</td></tr>\n",
       "</tbody>\n",
       "</table>\n"
      ],
      "text/latex": [
       "A tibble: 2 × 6\n",
       "\\begin{tabular}{llllll}\n",
       " country & continent & year & lifeExp & pop & gdpPercap\\\\\n",
       " <fct> & <fct> & <int> & <dbl> & <int> & <dbl>\\\\\n",
       "\\hline\n",
       "\t Austria & Europe & 2002 & 78.980 & 8148312 & 32417.61\\\\\n",
       "\t Austria & Europe & 2007 & 79.829 & 8199783 & 36126.49\\\\\n",
       "\\end{tabular}\n"
      ],
      "text/markdown": [
       "\n",
       "A tibble: 2 × 6\n",
       "\n",
       "| country &lt;fct&gt; | continent &lt;fct&gt; | year &lt;int&gt; | lifeExp &lt;dbl&gt; | pop &lt;int&gt; | gdpPercap &lt;dbl&gt; |\n",
       "|---|---|---|---|---|---|\n",
       "| Austria | Europe | 2002 | 78.980 | 8148312 | 32417.61 |\n",
       "| Austria | Europe | 2007 | 79.829 | 8199783 | 36126.49 |\n",
       "\n"
      ],
      "text/plain": [
       "  country continent year lifeExp pop     gdpPercap\n",
       "1 Austria Europe    2002 78.980  8148312 32417.61 \n",
       "2 Austria Europe    2007 79.829  8199783 36126.49 "
      ]
     },
     "metadata": {},
     "output_type": "display_data"
    }
   ],
   "source": [
    "# add more conditions in filter\n",
    "austria <- gapminder %>% filter(country == \"Austria\", year > 2000)\n",
    "austria"
   ]
  },
  {
   "cell_type": "markdown",
   "id": "7a2b651c-0f9e-48e3-b658-92d455a83d1b",
   "metadata": {},
   "source": [
    "---"
   ]
  },
  {
   "cell_type": "markdown",
   "id": "51e30c66",
   "metadata": {},
   "source": [
    "### Task 1. Create dataframe color_data:"
   ]
  },
  {
   "cell_type": "code",
   "execution_count": 26,
   "id": "449eda12",
   "metadata": {},
   "outputs": [
    {
     "data": {
      "text/html": [
       "<table class=\"dataframe\">\n",
       "<caption>A data.frame: 5 × 2</caption>\n",
       "<thead>\n",
       "\t<tr><th scope=col>color</th><th scope=col>value</th></tr>\n",
       "\t<tr><th scope=col>&lt;chr&gt;</th><th scope=col>&lt;int&gt;</th></tr>\n",
       "</thead>\n",
       "<tbody>\n",
       "\t<tr><td>red  </td><td>1</td></tr>\n",
       "\t<tr><td>green</td><td>2</td></tr>\n",
       "\t<tr><td>red  </td><td>3</td></tr>\n",
       "\t<tr><td>green</td><td>4</td></tr>\n",
       "\t<tr><td>green</td><td>5</td></tr>\n",
       "</tbody>\n",
       "</table>\n"
      ],
      "text/latex": [
       "A data.frame: 5 × 2\n",
       "\\begin{tabular}{ll}\n",
       " color & value\\\\\n",
       " <chr> & <int>\\\\\n",
       "\\hline\n",
       "\t red   & 1\\\\\n",
       "\t green & 2\\\\\n",
       "\t red   & 3\\\\\n",
       "\t green & 4\\\\\n",
       "\t green & 5\\\\\n",
       "\\end{tabular}\n"
      ],
      "text/markdown": [
       "\n",
       "A data.frame: 5 × 2\n",
       "\n",
       "| color &lt;chr&gt; | value &lt;int&gt; |\n",
       "|---|---|\n",
       "| red   | 1 |\n",
       "| green | 2 |\n",
       "| red   | 3 |\n",
       "| green | 4 |\n",
       "| green | 5 |\n",
       "\n"
      ],
      "text/plain": [
       "  color value\n",
       "1 red   1    \n",
       "2 green 2    \n",
       "3 red   3    \n",
       "4 green 4    \n",
       "5 green 5    "
      ]
     },
     "metadata": {},
     "output_type": "display_data"
    }
   ],
   "source": [
    "# Let's explore data with simple dataset `color_data`.\n",
    "color_data <- data.frame(color = c(\"red\", \"green\", \"red\", \"green\", \"green\"),\n",
    "                          value = 1:5)\n",
    "color_data"
   ]
  },
  {
   "cell_type": "code",
   "execution_count": 27,
   "id": "36e1c533",
   "metadata": {},
   "outputs": [
    {
     "data": {
      "text/html": [
       "<table class=\"dataframe\">\n",
       "<caption>A data.frame: 3 × 2</caption>\n",
       "<thead>\n",
       "\t<tr><th scope=col>color</th><th scope=col>value</th></tr>\n",
       "\t<tr><th scope=col>&lt;chr&gt;</th><th scope=col>&lt;int&gt;</th></tr>\n",
       "</thead>\n",
       "<tbody>\n",
       "\t<tr><td>green</td><td>2</td></tr>\n",
       "\t<tr><td>green</td><td>4</td></tr>\n",
       "\t<tr><td>green</td><td>5</td></tr>\n",
       "</tbody>\n",
       "</table>\n"
      ],
      "text/latex": [
       "A data.frame: 3 × 2\n",
       "\\begin{tabular}{ll}\n",
       " color & value\\\\\n",
       " <chr> & <int>\\\\\n",
       "\\hline\n",
       "\t green & 2\\\\\n",
       "\t green & 4\\\\\n",
       "\t green & 5\\\\\n",
       "\\end{tabular}\n"
      ],
      "text/markdown": [
       "\n",
       "A data.frame: 3 × 2\n",
       "\n",
       "| color &lt;chr&gt; | value &lt;int&gt; |\n",
       "|---|---|\n",
       "| green | 2 |\n",
       "| green | 4 |\n",
       "| green | 5 |\n",
       "\n"
      ],
      "text/plain": [
       "  color value\n",
       "1 green 2    \n",
       "2 green 4    \n",
       "3 green 5    "
      ]
     },
     "metadata": {},
     "output_type": "display_data"
    }
   ],
   "source": [
    "# Get only records with \"green\":\n",
    "color_data %>% filter(color == \"green\")"
   ]
  },
  {
   "cell_type": "code",
   "execution_count": 28,
   "id": "83fea442",
   "metadata": {},
   "outputs": [
    {
     "data": {
      "text/html": [
       "<table class=\"dataframe\">\n",
       "<caption>A data.frame: 3 × 2</caption>\n",
       "<thead>\n",
       "\t<tr><th scope=col>color</th><th scope=col>value</th></tr>\n",
       "\t<tr><th scope=col>&lt;chr&gt;</th><th scope=col>&lt;int&gt;</th></tr>\n",
       "</thead>\n",
       "<tbody>\n",
       "\t<tr><td>red  </td><td>3</td></tr>\n",
       "\t<tr><td>green</td><td>4</td></tr>\n",
       "\t<tr><td>green</td><td>5</td></tr>\n",
       "</tbody>\n",
       "</table>\n"
      ],
      "text/latex": [
       "A data.frame: 3 × 2\n",
       "\\begin{tabular}{ll}\n",
       " color & value\\\\\n",
       " <chr> & <int>\\\\\n",
       "\\hline\n",
       "\t red   & 3\\\\\n",
       "\t green & 4\\\\\n",
       "\t green & 5\\\\\n",
       "\\end{tabular}\n"
      ],
      "text/markdown": [
       "\n",
       "A data.frame: 3 × 2\n",
       "\n",
       "| color &lt;chr&gt; | value &lt;int&gt; |\n",
       "|---|---|\n",
       "| red   | 3 |\n",
       "| green | 4 |\n",
       "| green | 5 |\n",
       "\n"
      ],
      "text/plain": [
       "  color value\n",
       "1 red   3    \n",
       "2 green 4    \n",
       "3 green 5    "
      ]
     },
     "metadata": {},
     "output_type": "display_data"
    }
   ],
   "source": [
    "# Get only records value >= 3\n",
    "color_data %>% filter(value >= 3)"
   ]
  },
  {
   "cell_type": "code",
   "execution_count": 29,
   "id": "2602ea3d",
   "metadata": {},
   "outputs": [
    {
     "data": {
      "text/html": [
       "<table class=\"dataframe\">\n",
       "<caption>A data.frame: 3 × 2</caption>\n",
       "<thead>\n",
       "\t<tr><th scope=col>color</th><th scope=col>value</th></tr>\n",
       "\t<tr><th scope=col>&lt;chr&gt;</th><th scope=col>&lt;int&gt;</th></tr>\n",
       "</thead>\n",
       "<tbody>\n",
       "\t<tr><td>red  </td><td>1</td></tr>\n",
       "\t<tr><td>red  </td><td>3</td></tr>\n",
       "\t<tr><td>green</td><td>5</td></tr>\n",
       "</tbody>\n",
       "</table>\n"
      ],
      "text/latex": [
       "A data.frame: 3 × 2\n",
       "\\begin{tabular}{ll}\n",
       " color & value\\\\\n",
       " <chr> & <int>\\\\\n",
       "\\hline\n",
       "\t red   & 1\\\\\n",
       "\t red   & 3\\\\\n",
       "\t green & 5\\\\\n",
       "\\end{tabular}\n"
      ],
      "text/markdown": [
       "\n",
       "A data.frame: 3 × 2\n",
       "\n",
       "| color &lt;chr&gt; | value &lt;int&gt; |\n",
       "|---|---|\n",
       "| red   | 1 |\n",
       "| red   | 3 |\n",
       "| green | 5 |\n",
       "\n"
      ],
      "text/plain": [
       "  color value\n",
       "1 red   1    \n",
       "2 red   3    \n",
       "3 green 5    "
      ]
     },
     "metadata": {},
     "output_type": "display_data"
    }
   ],
   "source": [
    "# Get only records value c(1,3,5)\n",
    "color_data %>% filter(value %in% c(1,3,5))"
   ]
  },
  {
   "cell_type": "markdown",
   "id": "84bcf3c2",
   "metadata": {},
   "source": [
    "## 2.4. `select` function"
   ]
  },
  {
   "cell_type": "markdown",
   "id": "8221be62",
   "metadata": {},
   "source": [
    "Use `select()` to subset the data on variables/columns by `names` or `index`. You also can define order of columns with `select()`."
   ]
  },
  {
   "cell_type": "code",
   "execution_count": 30,
   "id": "93f775f7",
   "metadata": {},
   "outputs": [
    {
     "data": {
      "text/html": [
       "<table class=\"dataframe\">\n",
       "<caption>A tibble: 1704 × 3</caption>\n",
       "<thead>\n",
       "\t<tr><th scope=col>year</th><th scope=col>country</th><th scope=col>pop</th></tr>\n",
       "\t<tr><th scope=col>&lt;int&gt;</th><th scope=col>&lt;fct&gt;</th><th scope=col>&lt;int&gt;</th></tr>\n",
       "</thead>\n",
       "<tbody>\n",
       "\t<tr><td>1952</td><td>Afghanistan</td><td> 8425333</td></tr>\n",
       "\t<tr><td>1957</td><td>Afghanistan</td><td> 9240934</td></tr>\n",
       "\t<tr><td>1962</td><td>Afghanistan</td><td>10267083</td></tr>\n",
       "\t<tr><td>1967</td><td>Afghanistan</td><td>11537966</td></tr>\n",
       "\t<tr><td>1972</td><td>Afghanistan</td><td>13079460</td></tr>\n",
       "\t<tr><td>1977</td><td>Afghanistan</td><td>14880372</td></tr>\n",
       "\t<tr><td>1982</td><td>Afghanistan</td><td>12881816</td></tr>\n",
       "\t<tr><td>1987</td><td>Afghanistan</td><td>13867957</td></tr>\n",
       "\t<tr><td>1992</td><td>Afghanistan</td><td>16317921</td></tr>\n",
       "\t<tr><td>1997</td><td>Afghanistan</td><td>22227415</td></tr>\n",
       "\t<tr><td>2002</td><td>Afghanistan</td><td>25268405</td></tr>\n",
       "\t<tr><td>2007</td><td>Afghanistan</td><td>31889923</td></tr>\n",
       "\t<tr><td>1952</td><td>Albania    </td><td> 1282697</td></tr>\n",
       "\t<tr><td>1957</td><td>Albania    </td><td> 1476505</td></tr>\n",
       "\t<tr><td>1962</td><td>Albania    </td><td> 1728137</td></tr>\n",
       "\t<tr><td>1967</td><td>Albania    </td><td> 1984060</td></tr>\n",
       "\t<tr><td>1972</td><td>Albania    </td><td> 2263554</td></tr>\n",
       "\t<tr><td>1977</td><td>Albania    </td><td> 2509048</td></tr>\n",
       "\t<tr><td>1982</td><td>Albania    </td><td> 2780097</td></tr>\n",
       "\t<tr><td>1987</td><td>Albania    </td><td> 3075321</td></tr>\n",
       "\t<tr><td>1992</td><td>Albania    </td><td> 3326498</td></tr>\n",
       "\t<tr><td>1997</td><td>Albania    </td><td> 3428038</td></tr>\n",
       "\t<tr><td>2002</td><td>Albania    </td><td> 3508512</td></tr>\n",
       "\t<tr><td>2007</td><td>Albania    </td><td> 3600523</td></tr>\n",
       "\t<tr><td>1952</td><td>Algeria    </td><td> 9279525</td></tr>\n",
       "\t<tr><td>1957</td><td>Algeria    </td><td>10270856</td></tr>\n",
       "\t<tr><td>1962</td><td>Algeria    </td><td>11000948</td></tr>\n",
       "\t<tr><td>1967</td><td>Algeria    </td><td>12760499</td></tr>\n",
       "\t<tr><td>1972</td><td>Algeria    </td><td>14760787</td></tr>\n",
       "\t<tr><td>1977</td><td>Algeria    </td><td>17152804</td></tr>\n",
       "\t<tr><td>...</td><td>...</td><td>...</td></tr>\n",
       "\t<tr><td>1982</td><td>Yemen, Rep.</td><td> 9657618</td></tr>\n",
       "\t<tr><td>1987</td><td>Yemen, Rep.</td><td>11219340</td></tr>\n",
       "\t<tr><td>1992</td><td>Yemen, Rep.</td><td>13367997</td></tr>\n",
       "\t<tr><td>1997</td><td>Yemen, Rep.</td><td>15826497</td></tr>\n",
       "\t<tr><td>2002</td><td>Yemen, Rep.</td><td>18701257</td></tr>\n",
       "\t<tr><td>2007</td><td>Yemen, Rep.</td><td>22211743</td></tr>\n",
       "\t<tr><td>1952</td><td>Zambia     </td><td> 2672000</td></tr>\n",
       "\t<tr><td>1957</td><td>Zambia     </td><td> 3016000</td></tr>\n",
       "\t<tr><td>1962</td><td>Zambia     </td><td> 3421000</td></tr>\n",
       "\t<tr><td>1967</td><td>Zambia     </td><td> 3900000</td></tr>\n",
       "\t<tr><td>1972</td><td>Zambia     </td><td> 4506497</td></tr>\n",
       "\t<tr><td>1977</td><td>Zambia     </td><td> 5216550</td></tr>\n",
       "\t<tr><td>1982</td><td>Zambia     </td><td> 6100407</td></tr>\n",
       "\t<tr><td>1987</td><td>Zambia     </td><td> 7272406</td></tr>\n",
       "\t<tr><td>1992</td><td>Zambia     </td><td> 8381163</td></tr>\n",
       "\t<tr><td>1997</td><td>Zambia     </td><td> 9417789</td></tr>\n",
       "\t<tr><td>2002</td><td>Zambia     </td><td>10595811</td></tr>\n",
       "\t<tr><td>2007</td><td>Zambia     </td><td>11746035</td></tr>\n",
       "\t<tr><td>1952</td><td>Zimbabwe   </td><td> 3080907</td></tr>\n",
       "\t<tr><td>1957</td><td>Zimbabwe   </td><td> 3646340</td></tr>\n",
       "\t<tr><td>1962</td><td>Zimbabwe   </td><td> 4277736</td></tr>\n",
       "\t<tr><td>1967</td><td>Zimbabwe   </td><td> 4995432</td></tr>\n",
       "\t<tr><td>1972</td><td>Zimbabwe   </td><td> 5861135</td></tr>\n",
       "\t<tr><td>1977</td><td>Zimbabwe   </td><td> 6642107</td></tr>\n",
       "\t<tr><td>1982</td><td>Zimbabwe   </td><td> 7636524</td></tr>\n",
       "\t<tr><td>1987</td><td>Zimbabwe   </td><td> 9216418</td></tr>\n",
       "\t<tr><td>1992</td><td>Zimbabwe   </td><td>10704340</td></tr>\n",
       "\t<tr><td>1997</td><td>Zimbabwe   </td><td>11404948</td></tr>\n",
       "\t<tr><td>2002</td><td>Zimbabwe   </td><td>11926563</td></tr>\n",
       "\t<tr><td>2007</td><td>Zimbabwe   </td><td>12311143</td></tr>\n",
       "</tbody>\n",
       "</table>\n"
      ],
      "text/latex": [
       "A tibble: 1704 × 3\n",
       "\\begin{tabular}{lll}\n",
       " year & country & pop\\\\\n",
       " <int> & <fct> & <int>\\\\\n",
       "\\hline\n",
       "\t 1952 & Afghanistan &  8425333\\\\\n",
       "\t 1957 & Afghanistan &  9240934\\\\\n",
       "\t 1962 & Afghanistan & 10267083\\\\\n",
       "\t 1967 & Afghanistan & 11537966\\\\\n",
       "\t 1972 & Afghanistan & 13079460\\\\\n",
       "\t 1977 & Afghanistan & 14880372\\\\\n",
       "\t 1982 & Afghanistan & 12881816\\\\\n",
       "\t 1987 & Afghanistan & 13867957\\\\\n",
       "\t 1992 & Afghanistan & 16317921\\\\\n",
       "\t 1997 & Afghanistan & 22227415\\\\\n",
       "\t 2002 & Afghanistan & 25268405\\\\\n",
       "\t 2007 & Afghanistan & 31889923\\\\\n",
       "\t 1952 & Albania     &  1282697\\\\\n",
       "\t 1957 & Albania     &  1476505\\\\\n",
       "\t 1962 & Albania     &  1728137\\\\\n",
       "\t 1967 & Albania     &  1984060\\\\\n",
       "\t 1972 & Albania     &  2263554\\\\\n",
       "\t 1977 & Albania     &  2509048\\\\\n",
       "\t 1982 & Albania     &  2780097\\\\\n",
       "\t 1987 & Albania     &  3075321\\\\\n",
       "\t 1992 & Albania     &  3326498\\\\\n",
       "\t 1997 & Albania     &  3428038\\\\\n",
       "\t 2002 & Albania     &  3508512\\\\\n",
       "\t 2007 & Albania     &  3600523\\\\\n",
       "\t 1952 & Algeria     &  9279525\\\\\n",
       "\t 1957 & Algeria     & 10270856\\\\\n",
       "\t 1962 & Algeria     & 11000948\\\\\n",
       "\t 1967 & Algeria     & 12760499\\\\\n",
       "\t 1972 & Algeria     & 14760787\\\\\n",
       "\t 1977 & Algeria     & 17152804\\\\\n",
       "\t ... & ... & ...\\\\\n",
       "\t 1982 & Yemen, Rep. &  9657618\\\\\n",
       "\t 1987 & Yemen, Rep. & 11219340\\\\\n",
       "\t 1992 & Yemen, Rep. & 13367997\\\\\n",
       "\t 1997 & Yemen, Rep. & 15826497\\\\\n",
       "\t 2002 & Yemen, Rep. & 18701257\\\\\n",
       "\t 2007 & Yemen, Rep. & 22211743\\\\\n",
       "\t 1952 & Zambia      &  2672000\\\\\n",
       "\t 1957 & Zambia      &  3016000\\\\\n",
       "\t 1962 & Zambia      &  3421000\\\\\n",
       "\t 1967 & Zambia      &  3900000\\\\\n",
       "\t 1972 & Zambia      &  4506497\\\\\n",
       "\t 1977 & Zambia      &  5216550\\\\\n",
       "\t 1982 & Zambia      &  6100407\\\\\n",
       "\t 1987 & Zambia      &  7272406\\\\\n",
       "\t 1992 & Zambia      &  8381163\\\\\n",
       "\t 1997 & Zambia      &  9417789\\\\\n",
       "\t 2002 & Zambia      & 10595811\\\\\n",
       "\t 2007 & Zambia      & 11746035\\\\\n",
       "\t 1952 & Zimbabwe    &  3080907\\\\\n",
       "\t 1957 & Zimbabwe    &  3646340\\\\\n",
       "\t 1962 & Zimbabwe    &  4277736\\\\\n",
       "\t 1967 & Zimbabwe    &  4995432\\\\\n",
       "\t 1972 & Zimbabwe    &  5861135\\\\\n",
       "\t 1977 & Zimbabwe    &  6642107\\\\\n",
       "\t 1982 & Zimbabwe    &  7636524\\\\\n",
       "\t 1987 & Zimbabwe    &  9216418\\\\\n",
       "\t 1992 & Zimbabwe    & 10704340\\\\\n",
       "\t 1997 & Zimbabwe    & 11404948\\\\\n",
       "\t 2002 & Zimbabwe    & 11926563\\\\\n",
       "\t 2007 & Zimbabwe    & 12311143\\\\\n",
       "\\end{tabular}\n"
      ],
      "text/markdown": [
       "\n",
       "A tibble: 1704 × 3\n",
       "\n",
       "| year &lt;int&gt; | country &lt;fct&gt; | pop &lt;int&gt; |\n",
       "|---|---|---|\n",
       "| 1952 | Afghanistan |  8425333 |\n",
       "| 1957 | Afghanistan |  9240934 |\n",
       "| 1962 | Afghanistan | 10267083 |\n",
       "| 1967 | Afghanistan | 11537966 |\n",
       "| 1972 | Afghanistan | 13079460 |\n",
       "| 1977 | Afghanistan | 14880372 |\n",
       "| 1982 | Afghanistan | 12881816 |\n",
       "| 1987 | Afghanistan | 13867957 |\n",
       "| 1992 | Afghanistan | 16317921 |\n",
       "| 1997 | Afghanistan | 22227415 |\n",
       "| 2002 | Afghanistan | 25268405 |\n",
       "| 2007 | Afghanistan | 31889923 |\n",
       "| 1952 | Albania     |  1282697 |\n",
       "| 1957 | Albania     |  1476505 |\n",
       "| 1962 | Albania     |  1728137 |\n",
       "| 1967 | Albania     |  1984060 |\n",
       "| 1972 | Albania     |  2263554 |\n",
       "| 1977 | Albania     |  2509048 |\n",
       "| 1982 | Albania     |  2780097 |\n",
       "| 1987 | Albania     |  3075321 |\n",
       "| 1992 | Albania     |  3326498 |\n",
       "| 1997 | Albania     |  3428038 |\n",
       "| 2002 | Albania     |  3508512 |\n",
       "| 2007 | Albania     |  3600523 |\n",
       "| 1952 | Algeria     |  9279525 |\n",
       "| 1957 | Algeria     | 10270856 |\n",
       "| 1962 | Algeria     | 11000948 |\n",
       "| 1967 | Algeria     | 12760499 |\n",
       "| 1972 | Algeria     | 14760787 |\n",
       "| 1977 | Algeria     | 17152804 |\n",
       "| ... | ... | ... |\n",
       "| 1982 | Yemen, Rep. |  9657618 |\n",
       "| 1987 | Yemen, Rep. | 11219340 |\n",
       "| 1992 | Yemen, Rep. | 13367997 |\n",
       "| 1997 | Yemen, Rep. | 15826497 |\n",
       "| 2002 | Yemen, Rep. | 18701257 |\n",
       "| 2007 | Yemen, Rep. | 22211743 |\n",
       "| 1952 | Zambia      |  2672000 |\n",
       "| 1957 | Zambia      |  3016000 |\n",
       "| 1962 | Zambia      |  3421000 |\n",
       "| 1967 | Zambia      |  3900000 |\n",
       "| 1972 | Zambia      |  4506497 |\n",
       "| 1977 | Zambia      |  5216550 |\n",
       "| 1982 | Zambia      |  6100407 |\n",
       "| 1987 | Zambia      |  7272406 |\n",
       "| 1992 | Zambia      |  8381163 |\n",
       "| 1997 | Zambia      |  9417789 |\n",
       "| 2002 | Zambia      | 10595811 |\n",
       "| 2007 | Zambia      | 11746035 |\n",
       "| 1952 | Zimbabwe    |  3080907 |\n",
       "| 1957 | Zimbabwe    |  3646340 |\n",
       "| 1962 | Zimbabwe    |  4277736 |\n",
       "| 1967 | Zimbabwe    |  4995432 |\n",
       "| 1972 | Zimbabwe    |  5861135 |\n",
       "| 1977 | Zimbabwe    |  6642107 |\n",
       "| 1982 | Zimbabwe    |  7636524 |\n",
       "| 1987 | Zimbabwe    |  9216418 |\n",
       "| 1992 | Zimbabwe    | 10704340 |\n",
       "| 1997 | Zimbabwe    | 11404948 |\n",
       "| 2002 | Zimbabwe    | 11926563 |\n",
       "| 2007 | Zimbabwe    | 12311143 |\n",
       "\n"
      ],
      "text/plain": [
       "     year country     pop     \n",
       "1    1952 Afghanistan  8425333\n",
       "2    1957 Afghanistan  9240934\n",
       "3    1962 Afghanistan 10267083\n",
       "4    1967 Afghanistan 11537966\n",
       "5    1972 Afghanistan 13079460\n",
       "6    1977 Afghanistan 14880372\n",
       "7    1982 Afghanistan 12881816\n",
       "8    1987 Afghanistan 13867957\n",
       "9    1992 Afghanistan 16317921\n",
       "10   1997 Afghanistan 22227415\n",
       "11   2002 Afghanistan 25268405\n",
       "12   2007 Afghanistan 31889923\n",
       "13   1952 Albania      1282697\n",
       "14   1957 Albania      1476505\n",
       "15   1962 Albania      1728137\n",
       "16   1967 Albania      1984060\n",
       "17   1972 Albania      2263554\n",
       "18   1977 Albania      2509048\n",
       "19   1982 Albania      2780097\n",
       "20   1987 Albania      3075321\n",
       "21   1992 Albania      3326498\n",
       "22   1997 Albania      3428038\n",
       "23   2002 Albania      3508512\n",
       "24   2007 Albania      3600523\n",
       "25   1952 Algeria      9279525\n",
       "26   1957 Algeria     10270856\n",
       "27   1962 Algeria     11000948\n",
       "28   1967 Algeria     12760499\n",
       "29   1972 Algeria     14760787\n",
       "30   1977 Algeria     17152804\n",
       "...  ...  ...         ...     \n",
       "1675 1982 Yemen, Rep.  9657618\n",
       "1676 1987 Yemen, Rep. 11219340\n",
       "1677 1992 Yemen, Rep. 13367997\n",
       "1678 1997 Yemen, Rep. 15826497\n",
       "1679 2002 Yemen, Rep. 18701257\n",
       "1680 2007 Yemen, Rep. 22211743\n",
       "1681 1952 Zambia       2672000\n",
       "1682 1957 Zambia       3016000\n",
       "1683 1962 Zambia       3421000\n",
       "1684 1967 Zambia       3900000\n",
       "1685 1972 Zambia       4506497\n",
       "1686 1977 Zambia       5216550\n",
       "1687 1982 Zambia       6100407\n",
       "1688 1987 Zambia       7272406\n",
       "1689 1992 Zambia       8381163\n",
       "1690 1997 Zambia       9417789\n",
       "1691 2002 Zambia      10595811\n",
       "1692 2007 Zambia      11746035\n",
       "1693 1952 Zimbabwe     3080907\n",
       "1694 1957 Zimbabwe     3646340\n",
       "1695 1962 Zimbabwe     4277736\n",
       "1696 1967 Zimbabwe     4995432\n",
       "1697 1972 Zimbabwe     5861135\n",
       "1698 1977 Zimbabwe     6642107\n",
       "1699 1982 Zimbabwe     7636524\n",
       "1700 1987 Zimbabwe     9216418\n",
       "1701 1992 Zimbabwe    10704340\n",
       "1702 1997 Zimbabwe    11404948\n",
       "1703 2002 Zimbabwe    11926563\n",
       "1704 2007 Zimbabwe    12311143"
      ]
     },
     "metadata": {},
     "output_type": "display_data"
    }
   ],
   "source": [
    "select(gapminder, year, country, pop)"
   ]
  },
  {
   "cell_type": "markdown",
   "id": "c4ddcb86",
   "metadata": {},
   "source": [
    "Lets combine few functions with `pipe` (`%>%`):"
   ]
  },
  {
   "cell_type": "code",
   "execution_count": 31,
   "id": "a4f5a5ca",
   "metadata": {},
   "outputs": [
    {
     "data": {
      "text/html": [
       "<table class=\"dataframe\">\n",
       "<caption>A tibble: 4 × 4</caption>\n",
       "<thead>\n",
       "\t<tr><th scope=col>year</th><th scope=col>country</th><th scope=col>pop</th><th scope=col>lifeExp</th></tr>\n",
       "\t<tr><th scope=col>&lt;int&gt;</th><th scope=col>&lt;fct&gt;</th><th scope=col>&lt;int&gt;</th><th scope=col>&lt;dbl&gt;</th></tr>\n",
       "</thead>\n",
       "<tbody>\n",
       "\t<tr><td>1952</td><td>Afghanistan</td><td> 8425333</td><td>28.801</td></tr>\n",
       "\t<tr><td>1957</td><td>Afghanistan</td><td> 9240934</td><td>30.332</td></tr>\n",
       "\t<tr><td>1962</td><td>Afghanistan</td><td>10267083</td><td>31.997</td></tr>\n",
       "\t<tr><td>1967</td><td>Afghanistan</td><td>11537966</td><td>34.020</td></tr>\n",
       "</tbody>\n",
       "</table>\n"
      ],
      "text/latex": [
       "A tibble: 4 × 4\n",
       "\\begin{tabular}{llll}\n",
       " year & country & pop & lifeExp\\\\\n",
       " <int> & <fct> & <int> & <dbl>\\\\\n",
       "\\hline\n",
       "\t 1952 & Afghanistan &  8425333 & 28.801\\\\\n",
       "\t 1957 & Afghanistan &  9240934 & 30.332\\\\\n",
       "\t 1962 & Afghanistan & 10267083 & 31.997\\\\\n",
       "\t 1967 & Afghanistan & 11537966 & 34.020\\\\\n",
       "\\end{tabular}\n"
      ],
      "text/markdown": [
       "\n",
       "A tibble: 4 × 4\n",
       "\n",
       "| year &lt;int&gt; | country &lt;fct&gt; | pop &lt;int&gt; | lifeExp &lt;dbl&gt; |\n",
       "|---|---|---|---|\n",
       "| 1952 | Afghanistan |  8425333 | 28.801 |\n",
       "| 1957 | Afghanistan |  9240934 | 30.332 |\n",
       "| 1962 | Afghanistan | 10267083 | 31.997 |\n",
       "| 1967 | Afghanistan | 11537966 | 34.020 |\n",
       "\n"
      ],
      "text/plain": [
       "  year country     pop      lifeExp\n",
       "1 1952 Afghanistan  8425333 28.801 \n",
       "2 1957 Afghanistan  9240934 30.332 \n",
       "3 1962 Afghanistan 10267083 31.997 \n",
       "4 1967 Afghanistan 11537966 34.020 "
      ]
     },
     "metadata": {},
     "output_type": "display_data"
    }
   ],
   "source": [
    "gapminder %>%\n",
    "    select(year, country, pop, lifeExp) %>%\n",
    "    head(4)"
   ]
  },
  {
   "cell_type": "markdown",
   "id": "65ea3318",
   "metadata": {},
   "source": [
    "Finally, lest extend our filtering:"
   ]
  },
  {
   "cell_type": "code",
   "execution_count": 32,
   "id": "ceefc89c",
   "metadata": {},
   "outputs": [
    {
     "data": {
      "text/html": [
       "<table class=\"dataframe\">\n",
       "<caption>A tibble: 12 × 3</caption>\n",
       "<thead>\n",
       "\t<tr><th scope=col>year</th><th scope=col>pop</th><th scope=col>lifeExp</th></tr>\n",
       "\t<tr><th scope=col>&lt;int&gt;</th><th scope=col>&lt;int&gt;</th><th scope=col>&lt;dbl&gt;</th></tr>\n",
       "</thead>\n",
       "<tbody>\n",
       "\t<tr><td>1952</td><td>6927772</td><td>66.800</td></tr>\n",
       "\t<tr><td>1957</td><td>6965860</td><td>67.480</td></tr>\n",
       "\t<tr><td>1962</td><td>7129864</td><td>69.540</td></tr>\n",
       "\t<tr><td>1967</td><td>7376998</td><td>70.140</td></tr>\n",
       "\t<tr><td>1972</td><td>7544201</td><td>70.630</td></tr>\n",
       "\t<tr><td>1977</td><td>7568430</td><td>72.170</td></tr>\n",
       "\t<tr><td>1982</td><td>7574613</td><td>73.180</td></tr>\n",
       "\t<tr><td>1987</td><td>7578903</td><td>74.940</td></tr>\n",
       "\t<tr><td>1992</td><td>7914969</td><td>76.040</td></tr>\n",
       "\t<tr><td>1997</td><td>8069876</td><td>77.510</td></tr>\n",
       "\t<tr><td>2002</td><td>8148312</td><td>78.980</td></tr>\n",
       "\t<tr><td>2007</td><td>8199783</td><td>79.829</td></tr>\n",
       "</tbody>\n",
       "</table>\n"
      ],
      "text/latex": [
       "A tibble: 12 × 3\n",
       "\\begin{tabular}{lll}\n",
       " year & pop & lifeExp\\\\\n",
       " <int> & <int> & <dbl>\\\\\n",
       "\\hline\n",
       "\t 1952 & 6927772 & 66.800\\\\\n",
       "\t 1957 & 6965860 & 67.480\\\\\n",
       "\t 1962 & 7129864 & 69.540\\\\\n",
       "\t 1967 & 7376998 & 70.140\\\\\n",
       "\t 1972 & 7544201 & 70.630\\\\\n",
       "\t 1977 & 7568430 & 72.170\\\\\n",
       "\t 1982 & 7574613 & 73.180\\\\\n",
       "\t 1987 & 7578903 & 74.940\\\\\n",
       "\t 1992 & 7914969 & 76.040\\\\\n",
       "\t 1997 & 8069876 & 77.510\\\\\n",
       "\t 2002 & 8148312 & 78.980\\\\\n",
       "\t 2007 & 8199783 & 79.829\\\\\n",
       "\\end{tabular}\n"
      ],
      "text/markdown": [
       "\n",
       "A tibble: 12 × 3\n",
       "\n",
       "| year &lt;int&gt; | pop &lt;int&gt; | lifeExp &lt;dbl&gt; |\n",
       "|---|---|---|\n",
       "| 1952 | 6927772 | 66.800 |\n",
       "| 1957 | 6965860 | 67.480 |\n",
       "| 1962 | 7129864 | 69.540 |\n",
       "| 1967 | 7376998 | 70.140 |\n",
       "| 1972 | 7544201 | 70.630 |\n",
       "| 1977 | 7568430 | 72.170 |\n",
       "| 1982 | 7574613 | 73.180 |\n",
       "| 1987 | 7578903 | 74.940 |\n",
       "| 1992 | 7914969 | 76.040 |\n",
       "| 1997 | 8069876 | 77.510 |\n",
       "| 2002 | 8148312 | 78.980 |\n",
       "| 2007 | 8199783 | 79.829 |\n",
       "\n"
      ],
      "text/plain": [
       "   year pop     lifeExp\n",
       "1  1952 6927772 66.800 \n",
       "2  1957 6965860 67.480 \n",
       "3  1962 7129864 69.540 \n",
       "4  1967 7376998 70.140 \n",
       "5  1972 7544201 70.630 \n",
       "6  1977 7568430 72.170 \n",
       "7  1982 7574613 73.180 \n",
       "8  1987 7578903 74.940 \n",
       "9  1992 7914969 76.040 \n",
       "10 1997 8069876 77.510 \n",
       "11 2002 8148312 78.980 \n",
       "12 2007 8199783 79.829 "
      ]
     },
     "metadata": {},
     "output_type": "display_data"
    }
   ],
   "source": [
    "austria <- gapminder %>% \n",
    "                filter(country == \"Austria\") %>%\n",
    "                select(year, pop, lifeExp)\n",
    "austria"
   ]
  },
  {
   "cell_type": "code",
   "execution_count": 33,
   "id": "e677796e",
   "metadata": {},
   "outputs": [
    {
     "data": {
      "text/html": [
       "<table class=\"dataframe\">\n",
       "<caption>A tibble: 12 × 3</caption>\n",
       "<thead>\n",
       "\t<tr><th scope=col>year</th><th scope=col>pop</th><th scope=col>lifeExp</th></tr>\n",
       "\t<tr><th scope=col>&lt;int&gt;</th><th scope=col>&lt;int&gt;</th><th scope=col>&lt;dbl&gt;</th></tr>\n",
       "</thead>\n",
       "<tbody>\n",
       "\t<tr><td>1952</td><td>6927772</td><td>66.800</td></tr>\n",
       "\t<tr><td>1957</td><td>6965860</td><td>67.480</td></tr>\n",
       "\t<tr><td>1962</td><td>7129864</td><td>69.540</td></tr>\n",
       "\t<tr><td>1967</td><td>7376998</td><td>70.140</td></tr>\n",
       "\t<tr><td>1972</td><td>7544201</td><td>70.630</td></tr>\n",
       "\t<tr><td>1977</td><td>7568430</td><td>72.170</td></tr>\n",
       "\t<tr><td>1982</td><td>7574613</td><td>73.180</td></tr>\n",
       "\t<tr><td>1987</td><td>7578903</td><td>74.940</td></tr>\n",
       "\t<tr><td>1992</td><td>7914969</td><td>76.040</td></tr>\n",
       "\t<tr><td>1997</td><td>8069876</td><td>77.510</td></tr>\n",
       "\t<tr><td>2002</td><td>8148312</td><td>78.980</td></tr>\n",
       "\t<tr><td>2007</td><td>8199783</td><td>79.829</td></tr>\n",
       "</tbody>\n",
       "</table>\n"
      ],
      "text/latex": [
       "A tibble: 12 × 3\n",
       "\\begin{tabular}{lll}\n",
       " year & pop & lifeExp\\\\\n",
       " <int> & <int> & <dbl>\\\\\n",
       "\\hline\n",
       "\t 1952 & 6927772 & 66.800\\\\\n",
       "\t 1957 & 6965860 & 67.480\\\\\n",
       "\t 1962 & 7129864 & 69.540\\\\\n",
       "\t 1967 & 7376998 & 70.140\\\\\n",
       "\t 1972 & 7544201 & 70.630\\\\\n",
       "\t 1977 & 7568430 & 72.170\\\\\n",
       "\t 1982 & 7574613 & 73.180\\\\\n",
       "\t 1987 & 7578903 & 74.940\\\\\n",
       "\t 1992 & 7914969 & 76.040\\\\\n",
       "\t 1997 & 8069876 & 77.510\\\\\n",
       "\t 2002 & 8148312 & 78.980\\\\\n",
       "\t 2007 & 8199783 & 79.829\\\\\n",
       "\\end{tabular}\n"
      ],
      "text/markdown": [
       "\n",
       "A tibble: 12 × 3\n",
       "\n",
       "| year &lt;int&gt; | pop &lt;int&gt; | lifeExp &lt;dbl&gt; |\n",
       "|---|---|---|\n",
       "| 1952 | 6927772 | 66.800 |\n",
       "| 1957 | 6965860 | 67.480 |\n",
       "| 1962 | 7129864 | 69.540 |\n",
       "| 1967 | 7376998 | 70.140 |\n",
       "| 1972 | 7544201 | 70.630 |\n",
       "| 1977 | 7568430 | 72.170 |\n",
       "| 1982 | 7574613 | 73.180 |\n",
       "| 1987 | 7578903 | 74.940 |\n",
       "| 1992 | 7914969 | 76.040 |\n",
       "| 1997 | 8069876 | 77.510 |\n",
       "| 2002 | 8148312 | 78.980 |\n",
       "| 2007 | 8199783 | 79.829 |\n",
       "\n"
      ],
      "text/plain": [
       "   year pop     lifeExp\n",
       "1  1952 6927772 66.800 \n",
       "2  1957 6965860 67.480 \n",
       "3  1962 7129864 69.540 \n",
       "4  1967 7376998 70.140 \n",
       "5  1972 7544201 70.630 \n",
       "6  1977 7568430 72.170 \n",
       "7  1982 7574613 73.180 \n",
       "8  1987 7578903 74.940 \n",
       "9  1992 7914969 76.040 \n",
       "10 1997 8069876 77.510 \n",
       "11 2002 8148312 78.980 \n",
       "12 2007 8199783 79.829 "
      ]
     },
     "metadata": {},
     "output_type": "display_data"
    }
   ],
   "source": [
    "# compare dplyr syntax with base R call\n",
    "gapminder[gapminder$country == \"Austria\", c(\"year\", \"pop\", \"lifeExp\")]"
   ]
  },
  {
   "cell_type": "markdown",
   "id": "68b9b46a",
   "metadata": {},
   "source": [
    "You can remove some columns using `minus`(operator) and add few filter conditions:"
   ]
  },
  {
   "cell_type": "code",
   "execution_count": 34,
   "id": "74ea6a0e",
   "metadata": {},
   "outputs": [
    {
     "data": {
      "text/html": [
       "<table class=\"dataframe\">\n",
       "<caption>A tibble: 2 × 4</caption>\n",
       "<thead>\n",
       "\t<tr><th scope=col>country</th><th scope=col>year</th><th scope=col>lifeExp</th><th scope=col>pop</th></tr>\n",
       "\t<tr><th scope=col>&lt;fct&gt;</th><th scope=col>&lt;int&gt;</th><th scope=col>&lt;dbl&gt;</th><th scope=col>&lt;int&gt;</th></tr>\n",
       "</thead>\n",
       "<tbody>\n",
       "\t<tr><td>Austria</td><td>2002</td><td>78.980</td><td>8148312</td></tr>\n",
       "\t<tr><td>Austria</td><td>2007</td><td>79.829</td><td>8199783</td></tr>\n",
       "</tbody>\n",
       "</table>\n"
      ],
      "text/latex": [
       "A tibble: 2 × 4\n",
       "\\begin{tabular}{llll}\n",
       " country & year & lifeExp & pop\\\\\n",
       " <fct> & <int> & <dbl> & <int>\\\\\n",
       "\\hline\n",
       "\t Austria & 2002 & 78.980 & 8148312\\\\\n",
       "\t Austria & 2007 & 79.829 & 8199783\\\\\n",
       "\\end{tabular}\n"
      ],
      "text/markdown": [
       "\n",
       "A tibble: 2 × 4\n",
       "\n",
       "| country &lt;fct&gt; | year &lt;int&gt; | lifeExp &lt;dbl&gt; | pop &lt;int&gt; |\n",
       "|---|---|---|---|\n",
       "| Austria | 2002 | 78.980 | 8148312 |\n",
       "| Austria | 2007 | 79.829 | 8199783 |\n",
       "\n"
      ],
      "text/plain": [
       "  country year lifeExp pop    \n",
       "1 Austria 2002 78.980  8148312\n",
       "2 Austria 2007 79.829  8199783"
      ]
     },
     "metadata": {},
     "output_type": "display_data"
    }
   ],
   "source": [
    "austria <- gapminder %>% \n",
    "                filter(country == \"Austria\", year > 2000) %>%\n",
    "                select(-continent, -gdpPercap) %>%\n",
    "                head()\n",
    "austria"
   ]
  },
  {
   "cell_type": "markdown",
   "id": "23ecbca3",
   "metadata": {},
   "source": [
    "You can insert different conditions about columns you need to `select`. "
   ]
  },
  {
   "cell_type": "code",
   "execution_count": 37,
   "id": "f915cb2b",
   "metadata": {},
   "outputs": [
    {
     "data": {
      "text/html": [
       "<table class=\"dataframe\">\n",
       "<caption>A tibble: 1704 × 2</caption>\n",
       "<thead>\n",
       "\t<tr><th scope=col>country</th><th scope=col>continent</th></tr>\n",
       "\t<tr><th scope=col>&lt;fct&gt;</th><th scope=col>&lt;fct&gt;</th></tr>\n",
       "</thead>\n",
       "<tbody>\n",
       "\t<tr><td>Afghanistan</td><td>Asia  </td></tr>\n",
       "\t<tr><td>Afghanistan</td><td>Asia  </td></tr>\n",
       "\t<tr><td>Afghanistan</td><td>Asia  </td></tr>\n",
       "\t<tr><td>Afghanistan</td><td>Asia  </td></tr>\n",
       "\t<tr><td>Afghanistan</td><td>Asia  </td></tr>\n",
       "\t<tr><td>Afghanistan</td><td>Asia  </td></tr>\n",
       "\t<tr><td>Afghanistan</td><td>Asia  </td></tr>\n",
       "\t<tr><td>Afghanistan</td><td>Asia  </td></tr>\n",
       "\t<tr><td>Afghanistan</td><td>Asia  </td></tr>\n",
       "\t<tr><td>Afghanistan</td><td>Asia  </td></tr>\n",
       "\t<tr><td>Afghanistan</td><td>Asia  </td></tr>\n",
       "\t<tr><td>Afghanistan</td><td>Asia  </td></tr>\n",
       "\t<tr><td>Albania    </td><td>Europe</td></tr>\n",
       "\t<tr><td>Albania    </td><td>Europe</td></tr>\n",
       "\t<tr><td>Albania    </td><td>Europe</td></tr>\n",
       "\t<tr><td>Albania    </td><td>Europe</td></tr>\n",
       "\t<tr><td>Albania    </td><td>Europe</td></tr>\n",
       "\t<tr><td>Albania    </td><td>Europe</td></tr>\n",
       "\t<tr><td>Albania    </td><td>Europe</td></tr>\n",
       "\t<tr><td>Albania    </td><td>Europe</td></tr>\n",
       "\t<tr><td>Albania    </td><td>Europe</td></tr>\n",
       "\t<tr><td>Albania    </td><td>Europe</td></tr>\n",
       "\t<tr><td>Albania    </td><td>Europe</td></tr>\n",
       "\t<tr><td>Albania    </td><td>Europe</td></tr>\n",
       "\t<tr><td>Algeria    </td><td>Africa</td></tr>\n",
       "\t<tr><td>Algeria    </td><td>Africa</td></tr>\n",
       "\t<tr><td>Algeria    </td><td>Africa</td></tr>\n",
       "\t<tr><td>Algeria    </td><td>Africa</td></tr>\n",
       "\t<tr><td>Algeria    </td><td>Africa</td></tr>\n",
       "\t<tr><td>Algeria    </td><td>Africa</td></tr>\n",
       "\t<tr><td>...</td><td>...</td></tr>\n",
       "\t<tr><td>Yemen, Rep.</td><td>Asia  </td></tr>\n",
       "\t<tr><td>Yemen, Rep.</td><td>Asia  </td></tr>\n",
       "\t<tr><td>Yemen, Rep.</td><td>Asia  </td></tr>\n",
       "\t<tr><td>Yemen, Rep.</td><td>Asia  </td></tr>\n",
       "\t<tr><td>Yemen, Rep.</td><td>Asia  </td></tr>\n",
       "\t<tr><td>Yemen, Rep.</td><td>Asia  </td></tr>\n",
       "\t<tr><td>Zambia     </td><td>Africa</td></tr>\n",
       "\t<tr><td>Zambia     </td><td>Africa</td></tr>\n",
       "\t<tr><td>Zambia     </td><td>Africa</td></tr>\n",
       "\t<tr><td>Zambia     </td><td>Africa</td></tr>\n",
       "\t<tr><td>Zambia     </td><td>Africa</td></tr>\n",
       "\t<tr><td>Zambia     </td><td>Africa</td></tr>\n",
       "\t<tr><td>Zambia     </td><td>Africa</td></tr>\n",
       "\t<tr><td>Zambia     </td><td>Africa</td></tr>\n",
       "\t<tr><td>Zambia     </td><td>Africa</td></tr>\n",
       "\t<tr><td>Zambia     </td><td>Africa</td></tr>\n",
       "\t<tr><td>Zambia     </td><td>Africa</td></tr>\n",
       "\t<tr><td>Zambia     </td><td>Africa</td></tr>\n",
       "\t<tr><td>Zimbabwe   </td><td>Africa</td></tr>\n",
       "\t<tr><td>Zimbabwe   </td><td>Africa</td></tr>\n",
       "\t<tr><td>Zimbabwe   </td><td>Africa</td></tr>\n",
       "\t<tr><td>Zimbabwe   </td><td>Africa</td></tr>\n",
       "\t<tr><td>Zimbabwe   </td><td>Africa</td></tr>\n",
       "\t<tr><td>Zimbabwe   </td><td>Africa</td></tr>\n",
       "\t<tr><td>Zimbabwe   </td><td>Africa</td></tr>\n",
       "\t<tr><td>Zimbabwe   </td><td>Africa</td></tr>\n",
       "\t<tr><td>Zimbabwe   </td><td>Africa</td></tr>\n",
       "\t<tr><td>Zimbabwe   </td><td>Africa</td></tr>\n",
       "\t<tr><td>Zimbabwe   </td><td>Africa</td></tr>\n",
       "\t<tr><td>Zimbabwe   </td><td>Africa</td></tr>\n",
       "</tbody>\n",
       "</table>\n"
      ],
      "text/latex": [
       "A tibble: 1704 × 2\n",
       "\\begin{tabular}{ll}\n",
       " country & continent\\\\\n",
       " <fct> & <fct>\\\\\n",
       "\\hline\n",
       "\t Afghanistan & Asia  \\\\\n",
       "\t Afghanistan & Asia  \\\\\n",
       "\t Afghanistan & Asia  \\\\\n",
       "\t Afghanistan & Asia  \\\\\n",
       "\t Afghanistan & Asia  \\\\\n",
       "\t Afghanistan & Asia  \\\\\n",
       "\t Afghanistan & Asia  \\\\\n",
       "\t Afghanistan & Asia  \\\\\n",
       "\t Afghanistan & Asia  \\\\\n",
       "\t Afghanistan & Asia  \\\\\n",
       "\t Afghanistan & Asia  \\\\\n",
       "\t Afghanistan & Asia  \\\\\n",
       "\t Albania     & Europe\\\\\n",
       "\t Albania     & Europe\\\\\n",
       "\t Albania     & Europe\\\\\n",
       "\t Albania     & Europe\\\\\n",
       "\t Albania     & Europe\\\\\n",
       "\t Albania     & Europe\\\\\n",
       "\t Albania     & Europe\\\\\n",
       "\t Albania     & Europe\\\\\n",
       "\t Albania     & Europe\\\\\n",
       "\t Albania     & Europe\\\\\n",
       "\t Albania     & Europe\\\\\n",
       "\t Albania     & Europe\\\\\n",
       "\t Algeria     & Africa\\\\\n",
       "\t Algeria     & Africa\\\\\n",
       "\t Algeria     & Africa\\\\\n",
       "\t Algeria     & Africa\\\\\n",
       "\t Algeria     & Africa\\\\\n",
       "\t Algeria     & Africa\\\\\n",
       "\t ... & ...\\\\\n",
       "\t Yemen, Rep. & Asia  \\\\\n",
       "\t Yemen, Rep. & Asia  \\\\\n",
       "\t Yemen, Rep. & Asia  \\\\\n",
       "\t Yemen, Rep. & Asia  \\\\\n",
       "\t Yemen, Rep. & Asia  \\\\\n",
       "\t Yemen, Rep. & Asia  \\\\\n",
       "\t Zambia      & Africa\\\\\n",
       "\t Zambia      & Africa\\\\\n",
       "\t Zambia      & Africa\\\\\n",
       "\t Zambia      & Africa\\\\\n",
       "\t Zambia      & Africa\\\\\n",
       "\t Zambia      & Africa\\\\\n",
       "\t Zambia      & Africa\\\\\n",
       "\t Zambia      & Africa\\\\\n",
       "\t Zambia      & Africa\\\\\n",
       "\t Zambia      & Africa\\\\\n",
       "\t Zambia      & Africa\\\\\n",
       "\t Zambia      & Africa\\\\\n",
       "\t Zimbabwe    & Africa\\\\\n",
       "\t Zimbabwe    & Africa\\\\\n",
       "\t Zimbabwe    & Africa\\\\\n",
       "\t Zimbabwe    & Africa\\\\\n",
       "\t Zimbabwe    & Africa\\\\\n",
       "\t Zimbabwe    & Africa\\\\\n",
       "\t Zimbabwe    & Africa\\\\\n",
       "\t Zimbabwe    & Africa\\\\\n",
       "\t Zimbabwe    & Africa\\\\\n",
       "\t Zimbabwe    & Africa\\\\\n",
       "\t Zimbabwe    & Africa\\\\\n",
       "\t Zimbabwe    & Africa\\\\\n",
       "\\end{tabular}\n"
      ],
      "text/markdown": [
       "\n",
       "A tibble: 1704 × 2\n",
       "\n",
       "| country &lt;fct&gt; | continent &lt;fct&gt; |\n",
       "|---|---|\n",
       "| Afghanistan | Asia   |\n",
       "| Afghanistan | Asia   |\n",
       "| Afghanistan | Asia   |\n",
       "| Afghanistan | Asia   |\n",
       "| Afghanistan | Asia   |\n",
       "| Afghanistan | Asia   |\n",
       "| Afghanistan | Asia   |\n",
       "| Afghanistan | Asia   |\n",
       "| Afghanistan | Asia   |\n",
       "| Afghanistan | Asia   |\n",
       "| Afghanistan | Asia   |\n",
       "| Afghanistan | Asia   |\n",
       "| Albania     | Europe |\n",
       "| Albania     | Europe |\n",
       "| Albania     | Europe |\n",
       "| Albania     | Europe |\n",
       "| Albania     | Europe |\n",
       "| Albania     | Europe |\n",
       "| Albania     | Europe |\n",
       "| Albania     | Europe |\n",
       "| Albania     | Europe |\n",
       "| Albania     | Europe |\n",
       "| Albania     | Europe |\n",
       "| Albania     | Europe |\n",
       "| Algeria     | Africa |\n",
       "| Algeria     | Africa |\n",
       "| Algeria     | Africa |\n",
       "| Algeria     | Africa |\n",
       "| Algeria     | Africa |\n",
       "| Algeria     | Africa |\n",
       "| ... | ... |\n",
       "| Yemen, Rep. | Asia   |\n",
       "| Yemen, Rep. | Asia   |\n",
       "| Yemen, Rep. | Asia   |\n",
       "| Yemen, Rep. | Asia   |\n",
       "| Yemen, Rep. | Asia   |\n",
       "| Yemen, Rep. | Asia   |\n",
       "| Zambia      | Africa |\n",
       "| Zambia      | Africa |\n",
       "| Zambia      | Africa |\n",
       "| Zambia      | Africa |\n",
       "| Zambia      | Africa |\n",
       "| Zambia      | Africa |\n",
       "| Zambia      | Africa |\n",
       "| Zambia      | Africa |\n",
       "| Zambia      | Africa |\n",
       "| Zambia      | Africa |\n",
       "| Zambia      | Africa |\n",
       "| Zambia      | Africa |\n",
       "| Zimbabwe    | Africa |\n",
       "| Zimbabwe    | Africa |\n",
       "| Zimbabwe    | Africa |\n",
       "| Zimbabwe    | Africa |\n",
       "| Zimbabwe    | Africa |\n",
       "| Zimbabwe    | Africa |\n",
       "| Zimbabwe    | Africa |\n",
       "| Zimbabwe    | Africa |\n",
       "| Zimbabwe    | Africa |\n",
       "| Zimbabwe    | Africa |\n",
       "| Zimbabwe    | Africa |\n",
       "| Zimbabwe    | Africa |\n",
       "\n"
      ],
      "text/plain": [
       "     country     continent\n",
       "1    Afghanistan Asia     \n",
       "2    Afghanistan Asia     \n",
       "3    Afghanistan Asia     \n",
       "4    Afghanistan Asia     \n",
       "5    Afghanistan Asia     \n",
       "6    Afghanistan Asia     \n",
       "7    Afghanistan Asia     \n",
       "8    Afghanistan Asia     \n",
       "9    Afghanistan Asia     \n",
       "10   Afghanistan Asia     \n",
       "11   Afghanistan Asia     \n",
       "12   Afghanistan Asia     \n",
       "13   Albania     Europe   \n",
       "14   Albania     Europe   \n",
       "15   Albania     Europe   \n",
       "16   Albania     Europe   \n",
       "17   Albania     Europe   \n",
       "18   Albania     Europe   \n",
       "19   Albania     Europe   \n",
       "20   Albania     Europe   \n",
       "21   Albania     Europe   \n",
       "22   Albania     Europe   \n",
       "23   Albania     Europe   \n",
       "24   Albania     Europe   \n",
       "25   Algeria     Africa   \n",
       "26   Algeria     Africa   \n",
       "27   Algeria     Africa   \n",
       "28   Algeria     Africa   \n",
       "29   Algeria     Africa   \n",
       "30   Algeria     Africa   \n",
       "...  ...         ...      \n",
       "1675 Yemen, Rep. Asia     \n",
       "1676 Yemen, Rep. Asia     \n",
       "1677 Yemen, Rep. Asia     \n",
       "1678 Yemen, Rep. Asia     \n",
       "1679 Yemen, Rep. Asia     \n",
       "1680 Yemen, Rep. Asia     \n",
       "1681 Zambia      Africa   \n",
       "1682 Zambia      Africa   \n",
       "1683 Zambia      Africa   \n",
       "1684 Zambia      Africa   \n",
       "1685 Zambia      Africa   \n",
       "1686 Zambia      Africa   \n",
       "1687 Zambia      Africa   \n",
       "1688 Zambia      Africa   \n",
       "1689 Zambia      Africa   \n",
       "1690 Zambia      Africa   \n",
       "1691 Zambia      Africa   \n",
       "1692 Zambia      Africa   \n",
       "1693 Zimbabwe    Africa   \n",
       "1694 Zimbabwe    Africa   \n",
       "1695 Zimbabwe    Africa   \n",
       "1696 Zimbabwe    Africa   \n",
       "1697 Zimbabwe    Africa   \n",
       "1698 Zimbabwe    Africa   \n",
       "1699 Zimbabwe    Africa   \n",
       "1700 Zimbabwe    Africa   \n",
       "1701 Zimbabwe    Africa   \n",
       "1702 Zimbabwe    Africa   \n",
       "1703 Zimbabwe    Africa   \n",
       "1704 Zimbabwe    Africa   "
      ]
     },
     "metadata": {},
     "output_type": "display_data"
    }
   ],
   "source": [
    "gapminder %>%\n",
    "    select(!where(is.numeric))  # its 1704 records, because of repeating some records"
   ]
  },
  {
   "cell_type": "markdown",
   "id": "5869a3db",
   "metadata": {},
   "source": [
    "Let's output all unique pairs `continent -> country` with `distinct()` function:"
   ]
  },
  {
   "cell_type": "code",
   "execution_count": 80,
   "id": "53a63d6c",
   "metadata": {},
   "outputs": [
    {
     "data": {
      "text/html": [
       "<table class=\"dataframe\">\n",
       "<caption>A tibble: 142 × 2</caption>\n",
       "<thead>\n",
       "\t<tr><th scope=col>country</th><th scope=col>continent</th></tr>\n",
       "\t<tr><th scope=col>&lt;fct&gt;</th><th scope=col>&lt;fct&gt;</th></tr>\n",
       "</thead>\n",
       "<tbody>\n",
       "\t<tr><td>Afghanistan             </td><td>Asia    </td></tr>\n",
       "\t<tr><td>Albania                 </td><td>Europe  </td></tr>\n",
       "\t<tr><td>Algeria                 </td><td>Africa  </td></tr>\n",
       "\t<tr><td>Angola                  </td><td>Africa  </td></tr>\n",
       "\t<tr><td>Argentina               </td><td>Americas</td></tr>\n",
       "\t<tr><td>Australia               </td><td>Oceania </td></tr>\n",
       "\t<tr><td>Austria                 </td><td>Europe  </td></tr>\n",
       "\t<tr><td>Bahrain                 </td><td>Asia    </td></tr>\n",
       "\t<tr><td>Bangladesh              </td><td>Asia    </td></tr>\n",
       "\t<tr><td>Belgium                 </td><td>Europe  </td></tr>\n",
       "\t<tr><td>Benin                   </td><td>Africa  </td></tr>\n",
       "\t<tr><td>Bolivia                 </td><td>Americas</td></tr>\n",
       "\t<tr><td>Bosnia and Herzegovina  </td><td>Europe  </td></tr>\n",
       "\t<tr><td>Botswana                </td><td>Africa  </td></tr>\n",
       "\t<tr><td>Brazil                  </td><td>Americas</td></tr>\n",
       "\t<tr><td>Bulgaria                </td><td>Europe  </td></tr>\n",
       "\t<tr><td>Burkina Faso            </td><td>Africa  </td></tr>\n",
       "\t<tr><td>Burundi                 </td><td>Africa  </td></tr>\n",
       "\t<tr><td>Cambodia                </td><td>Asia    </td></tr>\n",
       "\t<tr><td>Cameroon                </td><td>Africa  </td></tr>\n",
       "\t<tr><td>Canada                  </td><td>Americas</td></tr>\n",
       "\t<tr><td>Central African Republic</td><td>Africa  </td></tr>\n",
       "\t<tr><td>Chad                    </td><td>Africa  </td></tr>\n",
       "\t<tr><td>Chile                   </td><td>Americas</td></tr>\n",
       "\t<tr><td>China                   </td><td>Asia    </td></tr>\n",
       "\t<tr><td>Colombia                </td><td>Americas</td></tr>\n",
       "\t<tr><td>Comoros                 </td><td>Africa  </td></tr>\n",
       "\t<tr><td>Congo, Dem. Rep.        </td><td>Africa  </td></tr>\n",
       "\t<tr><td>Congo, Rep.             </td><td>Africa  </td></tr>\n",
       "\t<tr><td>Costa Rica              </td><td>Americas</td></tr>\n",
       "\t<tr><td>...</td><td>...</td></tr>\n",
       "\t<tr><td>Sierra Leone       </td><td>Africa  </td></tr>\n",
       "\t<tr><td>Singapore          </td><td>Asia    </td></tr>\n",
       "\t<tr><td>Slovak Republic    </td><td>Europe  </td></tr>\n",
       "\t<tr><td>Slovenia           </td><td>Europe  </td></tr>\n",
       "\t<tr><td>Somalia            </td><td>Africa  </td></tr>\n",
       "\t<tr><td>South Africa       </td><td>Africa  </td></tr>\n",
       "\t<tr><td>Spain              </td><td>Europe  </td></tr>\n",
       "\t<tr><td>Sri Lanka          </td><td>Asia    </td></tr>\n",
       "\t<tr><td>Sudan              </td><td>Africa  </td></tr>\n",
       "\t<tr><td>Swaziland          </td><td>Africa  </td></tr>\n",
       "\t<tr><td>Sweden             </td><td>Europe  </td></tr>\n",
       "\t<tr><td>Switzerland        </td><td>Europe  </td></tr>\n",
       "\t<tr><td>Syria              </td><td>Asia    </td></tr>\n",
       "\t<tr><td>Taiwan             </td><td>Asia    </td></tr>\n",
       "\t<tr><td>Tanzania           </td><td>Africa  </td></tr>\n",
       "\t<tr><td>Thailand           </td><td>Asia    </td></tr>\n",
       "\t<tr><td>Togo               </td><td>Africa  </td></tr>\n",
       "\t<tr><td>Trinidad and Tobago</td><td>Americas</td></tr>\n",
       "\t<tr><td>Tunisia            </td><td>Africa  </td></tr>\n",
       "\t<tr><td>Turkey             </td><td>Europe  </td></tr>\n",
       "\t<tr><td>Uganda             </td><td>Africa  </td></tr>\n",
       "\t<tr><td>United Kingdom     </td><td>Europe  </td></tr>\n",
       "\t<tr><td>United States      </td><td>Americas</td></tr>\n",
       "\t<tr><td>Uruguay            </td><td>Americas</td></tr>\n",
       "\t<tr><td>Venezuela          </td><td>Americas</td></tr>\n",
       "\t<tr><td>Vietnam            </td><td>Asia    </td></tr>\n",
       "\t<tr><td>West Bank and Gaza </td><td>Asia    </td></tr>\n",
       "\t<tr><td>Yemen, Rep.        </td><td>Asia    </td></tr>\n",
       "\t<tr><td>Zambia             </td><td>Africa  </td></tr>\n",
       "\t<tr><td>Zimbabwe           </td><td>Africa  </td></tr>\n",
       "</tbody>\n",
       "</table>\n"
      ],
      "text/latex": [
       "A tibble: 142 × 2\n",
       "\\begin{tabular}{ll}\n",
       " country & continent\\\\\n",
       " <fct> & <fct>\\\\\n",
       "\\hline\n",
       "\t Afghanistan              & Asia    \\\\\n",
       "\t Albania                  & Europe  \\\\\n",
       "\t Algeria                  & Africa  \\\\\n",
       "\t Angola                   & Africa  \\\\\n",
       "\t Argentina                & Americas\\\\\n",
       "\t Australia                & Oceania \\\\\n",
       "\t Austria                  & Europe  \\\\\n",
       "\t Bahrain                  & Asia    \\\\\n",
       "\t Bangladesh               & Asia    \\\\\n",
       "\t Belgium                  & Europe  \\\\\n",
       "\t Benin                    & Africa  \\\\\n",
       "\t Bolivia                  & Americas\\\\\n",
       "\t Bosnia and Herzegovina   & Europe  \\\\\n",
       "\t Botswana                 & Africa  \\\\\n",
       "\t Brazil                   & Americas\\\\\n",
       "\t Bulgaria                 & Europe  \\\\\n",
       "\t Burkina Faso             & Africa  \\\\\n",
       "\t Burundi                  & Africa  \\\\\n",
       "\t Cambodia                 & Asia    \\\\\n",
       "\t Cameroon                 & Africa  \\\\\n",
       "\t Canada                   & Americas\\\\\n",
       "\t Central African Republic & Africa  \\\\\n",
       "\t Chad                     & Africa  \\\\\n",
       "\t Chile                    & Americas\\\\\n",
       "\t China                    & Asia    \\\\\n",
       "\t Colombia                 & Americas\\\\\n",
       "\t Comoros                  & Africa  \\\\\n",
       "\t Congo, Dem. Rep.         & Africa  \\\\\n",
       "\t Congo, Rep.              & Africa  \\\\\n",
       "\t Costa Rica               & Americas\\\\\n",
       "\t ... & ...\\\\\n",
       "\t Sierra Leone        & Africa  \\\\\n",
       "\t Singapore           & Asia    \\\\\n",
       "\t Slovak Republic     & Europe  \\\\\n",
       "\t Slovenia            & Europe  \\\\\n",
       "\t Somalia             & Africa  \\\\\n",
       "\t South Africa        & Africa  \\\\\n",
       "\t Spain               & Europe  \\\\\n",
       "\t Sri Lanka           & Asia    \\\\\n",
       "\t Sudan               & Africa  \\\\\n",
       "\t Swaziland           & Africa  \\\\\n",
       "\t Sweden              & Europe  \\\\\n",
       "\t Switzerland         & Europe  \\\\\n",
       "\t Syria               & Asia    \\\\\n",
       "\t Taiwan              & Asia    \\\\\n",
       "\t Tanzania            & Africa  \\\\\n",
       "\t Thailand            & Asia    \\\\\n",
       "\t Togo                & Africa  \\\\\n",
       "\t Trinidad and Tobago & Americas\\\\\n",
       "\t Tunisia             & Africa  \\\\\n",
       "\t Turkey              & Europe  \\\\\n",
       "\t Uganda              & Africa  \\\\\n",
       "\t United Kingdom      & Europe  \\\\\n",
       "\t United States       & Americas\\\\\n",
       "\t Uruguay             & Americas\\\\\n",
       "\t Venezuela           & Americas\\\\\n",
       "\t Vietnam             & Asia    \\\\\n",
       "\t West Bank and Gaza  & Asia    \\\\\n",
       "\t Yemen, Rep.         & Asia    \\\\\n",
       "\t Zambia              & Africa  \\\\\n",
       "\t Zimbabwe            & Africa  \\\\\n",
       "\\end{tabular}\n"
      ],
      "text/markdown": [
       "\n",
       "A tibble: 142 × 2\n",
       "\n",
       "| country &lt;fct&gt; | continent &lt;fct&gt; |\n",
       "|---|---|\n",
       "| Afghanistan              | Asia     |\n",
       "| Albania                  | Europe   |\n",
       "| Algeria                  | Africa   |\n",
       "| Angola                   | Africa   |\n",
       "| Argentina                | Americas |\n",
       "| Australia                | Oceania  |\n",
       "| Austria                  | Europe   |\n",
       "| Bahrain                  | Asia     |\n",
       "| Bangladesh               | Asia     |\n",
       "| Belgium                  | Europe   |\n",
       "| Benin                    | Africa   |\n",
       "| Bolivia                  | Americas |\n",
       "| Bosnia and Herzegovina   | Europe   |\n",
       "| Botswana                 | Africa   |\n",
       "| Brazil                   | Americas |\n",
       "| Bulgaria                 | Europe   |\n",
       "| Burkina Faso             | Africa   |\n",
       "| Burundi                  | Africa   |\n",
       "| Cambodia                 | Asia     |\n",
       "| Cameroon                 | Africa   |\n",
       "| Canada                   | Americas |\n",
       "| Central African Republic | Africa   |\n",
       "| Chad                     | Africa   |\n",
       "| Chile                    | Americas |\n",
       "| China                    | Asia     |\n",
       "| Colombia                 | Americas |\n",
       "| Comoros                  | Africa   |\n",
       "| Congo, Dem. Rep.         | Africa   |\n",
       "| Congo, Rep.              | Africa   |\n",
       "| Costa Rica               | Americas |\n",
       "| ... | ... |\n",
       "| Sierra Leone        | Africa   |\n",
       "| Singapore           | Asia     |\n",
       "| Slovak Republic     | Europe   |\n",
       "| Slovenia            | Europe   |\n",
       "| Somalia             | Africa   |\n",
       "| South Africa        | Africa   |\n",
       "| Spain               | Europe   |\n",
       "| Sri Lanka           | Asia     |\n",
       "| Sudan               | Africa   |\n",
       "| Swaziland           | Africa   |\n",
       "| Sweden              | Europe   |\n",
       "| Switzerland         | Europe   |\n",
       "| Syria               | Asia     |\n",
       "| Taiwan              | Asia     |\n",
       "| Tanzania            | Africa   |\n",
       "| Thailand            | Asia     |\n",
       "| Togo                | Africa   |\n",
       "| Trinidad and Tobago | Americas |\n",
       "| Tunisia             | Africa   |\n",
       "| Turkey              | Europe   |\n",
       "| Uganda              | Africa   |\n",
       "| United Kingdom      | Europe   |\n",
       "| United States       | Americas |\n",
       "| Uruguay             | Americas |\n",
       "| Venezuela           | Americas |\n",
       "| Vietnam             | Asia     |\n",
       "| West Bank and Gaza  | Asia     |\n",
       "| Yemen, Rep.         | Asia     |\n",
       "| Zambia              | Africa   |\n",
       "| Zimbabwe            | Africa   |\n",
       "\n"
      ],
      "text/plain": [
       "    country                  continent\n",
       "1   Afghanistan              Asia     \n",
       "2   Albania                  Europe   \n",
       "3   Algeria                  Africa   \n",
       "4   Angola                   Africa   \n",
       "5   Argentina                Americas \n",
       "6   Australia                Oceania  \n",
       "7   Austria                  Europe   \n",
       "8   Bahrain                  Asia     \n",
       "9   Bangladesh               Asia     \n",
       "10  Belgium                  Europe   \n",
       "11  Benin                    Africa   \n",
       "12  Bolivia                  Americas \n",
       "13  Bosnia and Herzegovina   Europe   \n",
       "14  Botswana                 Africa   \n",
       "15  Brazil                   Americas \n",
       "16  Bulgaria                 Europe   \n",
       "17  Burkina Faso             Africa   \n",
       "18  Burundi                  Africa   \n",
       "19  Cambodia                 Asia     \n",
       "20  Cameroon                 Africa   \n",
       "21  Canada                   Americas \n",
       "22  Central African Republic Africa   \n",
       "23  Chad                     Africa   \n",
       "24  Chile                    Americas \n",
       "25  China                    Asia     \n",
       "26  Colombia                 Americas \n",
       "27  Comoros                  Africa   \n",
       "28  Congo, Dem. Rep.         Africa   \n",
       "29  Congo, Rep.              Africa   \n",
       "30  Costa Rica               Americas \n",
       "... ...                      ...      \n",
       "113 Sierra Leone             Africa   \n",
       "114 Singapore                Asia     \n",
       "115 Slovak Republic          Europe   \n",
       "116 Slovenia                 Europe   \n",
       "117 Somalia                  Africa   \n",
       "118 South Africa             Africa   \n",
       "119 Spain                    Europe   \n",
       "120 Sri Lanka                Asia     \n",
       "121 Sudan                    Africa   \n",
       "122 Swaziland                Africa   \n",
       "123 Sweden                   Europe   \n",
       "124 Switzerland              Europe   \n",
       "125 Syria                    Asia     \n",
       "126 Taiwan                   Asia     \n",
       "127 Tanzania                 Africa   \n",
       "128 Thailand                 Asia     \n",
       "129 Togo                     Africa   \n",
       "130 Trinidad and Tobago      Americas \n",
       "131 Tunisia                  Africa   \n",
       "132 Turkey                   Europe   \n",
       "133 Uganda                   Africa   \n",
       "134 United Kingdom           Europe   \n",
       "135 United States            Americas \n",
       "136 Uruguay                  Americas \n",
       "137 Venezuela                Americas \n",
       "138 Vietnam                  Asia     \n",
       "139 West Bank and Gaza       Asia     \n",
       "140 Yemen, Rep.              Asia     \n",
       "141 Zambia                   Africa   \n",
       "142 Zimbabwe                 Africa   "
      ]
     },
     "metadata": {},
     "output_type": "display_data"
    }
   ],
   "source": [
    "gapminder %>%\n",
    "    select(!where(is.numeric)) %>%\n",
    "    distinct() # its 142 records now"
   ]
  },
  {
   "cell_type": "markdown",
   "id": "da6c9acf-176d-4514-84a0-8ddcbfbd7024",
   "metadata": {},
   "source": [
    "---"
   ]
  },
  {
   "cell_type": "markdown",
   "id": "80a324ff",
   "metadata": {},
   "source": [
    "## 2.5. Selecting random $N$ rows"
   ]
  },
  {
   "cell_type": "markdown",
   "id": "2d6465d8",
   "metadata": {},
   "source": [
    "The `sample_n()` function selects random rows from a data frame"
   ]
  },
  {
   "cell_type": "code",
   "execution_count": 127,
   "id": "919ac2a7",
   "metadata": {},
   "outputs": [
    {
     "data": {
      "text/html": [
       "<table class=\"dataframe\">\n",
       "<caption>A tibble: 5 × 6</caption>\n",
       "<thead>\n",
       "\t<tr><th scope=col>country</th><th scope=col>continent</th><th scope=col>year</th><th scope=col>lifeExp</th><th scope=col>pop</th><th scope=col>gdpPercap</th></tr>\n",
       "\t<tr><th scope=col>&lt;fct&gt;</th><th scope=col>&lt;fct&gt;</th><th scope=col>&lt;int&gt;</th><th scope=col>&lt;dbl&gt;</th><th scope=col>&lt;int&gt;</th><th scope=col>&lt;dbl&gt;</th></tr>\n",
       "</thead>\n",
       "<tbody>\n",
       "\t<tr><td>Libya             </td><td>Africa  </td><td>1962</td><td>47.808</td><td> 1441863</td><td>6757.031</td></tr>\n",
       "\t<tr><td>Botswana          </td><td>Africa  </td><td>1997</td><td>52.556</td><td> 1536536</td><td>8647.142</td></tr>\n",
       "\t<tr><td>Swaziland         </td><td>Africa  </td><td>1957</td><td>43.424</td><td>  326741</td><td>1244.708</td></tr>\n",
       "\t<tr><td>Dominican Republic</td><td>Americas</td><td>1997</td><td>69.957</td><td> 7992357</td><td>3614.101</td></tr>\n",
       "\t<tr><td>Iraq              </td><td>Asia    </td><td>2002</td><td>57.046</td><td>24001816</td><td>4390.717</td></tr>\n",
       "</tbody>\n",
       "</table>\n"
      ],
      "text/latex": [
       "A tibble: 5 × 6\n",
       "\\begin{tabular}{llllll}\n",
       " country & continent & year & lifeExp & pop & gdpPercap\\\\\n",
       " <fct> & <fct> & <int> & <dbl> & <int> & <dbl>\\\\\n",
       "\\hline\n",
       "\t Libya              & Africa   & 1962 & 47.808 &  1441863 & 6757.031\\\\\n",
       "\t Botswana           & Africa   & 1997 & 52.556 &  1536536 & 8647.142\\\\\n",
       "\t Swaziland          & Africa   & 1957 & 43.424 &   326741 & 1244.708\\\\\n",
       "\t Dominican Republic & Americas & 1997 & 69.957 &  7992357 & 3614.101\\\\\n",
       "\t Iraq               & Asia     & 2002 & 57.046 & 24001816 & 4390.717\\\\\n",
       "\\end{tabular}\n"
      ],
      "text/markdown": [
       "\n",
       "A tibble: 5 × 6\n",
       "\n",
       "| country &lt;fct&gt; | continent &lt;fct&gt; | year &lt;int&gt; | lifeExp &lt;dbl&gt; | pop &lt;int&gt; | gdpPercap &lt;dbl&gt; |\n",
       "|---|---|---|---|---|---|\n",
       "| Libya              | Africa   | 1962 | 47.808 |  1441863 | 6757.031 |\n",
       "| Botswana           | Africa   | 1997 | 52.556 |  1536536 | 8647.142 |\n",
       "| Swaziland          | Africa   | 1957 | 43.424 |   326741 | 1244.708 |\n",
       "| Dominican Republic | Americas | 1997 | 69.957 |  7992357 | 3614.101 |\n",
       "| Iraq               | Asia     | 2002 | 57.046 | 24001816 | 4390.717 |\n",
       "\n"
      ],
      "text/plain": [
       "  country            continent year lifeExp pop      gdpPercap\n",
       "1 Libya              Africa    1962 47.808   1441863 6757.031 \n",
       "2 Botswana           Africa    1997 52.556   1536536 8647.142 \n",
       "3 Swaziland          Africa    1957 43.424    326741 1244.708 \n",
       "4 Dominican Republic Americas  1997 69.957   7992357 3614.101 \n",
       "5 Iraq               Asia      2002 57.046  24001816 4390.717 "
      ]
     },
     "metadata": {},
     "output_type": "display_data"
    }
   ],
   "source": [
    "gapminder %>% sample_n(5)"
   ]
  },
  {
   "cell_type": "markdown",
   "id": "6a07717e",
   "metadata": {},
   "source": [
    "If you want make `pseudo-random generation` reprodusable use `set.seed()`. Seed is start point of random generation. Different seeds give different output."
   ]
  },
  {
   "cell_type": "code",
   "execution_count": 128,
   "id": "9630c927",
   "metadata": {},
   "outputs": [],
   "source": [
    "set.seed(2021) # example, seed = 2021"
   ]
  },
  {
   "cell_type": "markdown",
   "id": "bb985ccd",
   "metadata": {},
   "source": [
    "The `sample_frac()` function selects random fraction rows from a data frame.\n",
    "Let's select $1\\%$ of data"
   ]
  },
  {
   "cell_type": "code",
   "execution_count": 40,
   "id": "9580482f",
   "metadata": {},
   "outputs": [
    {
     "data": {
      "text/html": [
       "<table class=\"dataframe\">\n",
       "<caption>A tibble: 17 × 6</caption>\n",
       "<thead>\n",
       "\t<tr><th scope=col>country</th><th scope=col>continent</th><th scope=col>year</th><th scope=col>lifeExp</th><th scope=col>pop</th><th scope=col>gdpPercap</th></tr>\n",
       "\t<tr><th scope=col>&lt;fct&gt;</th><th scope=col>&lt;fct&gt;</th><th scope=col>&lt;int&gt;</th><th scope=col>&lt;dbl&gt;</th><th scope=col>&lt;int&gt;</th><th scope=col>&lt;dbl&gt;</th></tr>\n",
       "</thead>\n",
       "<tbody>\n",
       "\t<tr><td>Libya              </td><td>Africa  </td><td>1962</td><td>47.808</td><td> 1441863</td><td> 6757.0308</td></tr>\n",
       "\t<tr><td>Botswana           </td><td>Africa  </td><td>1997</td><td>52.556</td><td> 1536536</td><td> 8647.1423</td></tr>\n",
       "\t<tr><td>Swaziland          </td><td>Africa  </td><td>1957</td><td>43.424</td><td>  326741</td><td> 1244.7084</td></tr>\n",
       "\t<tr><td>Dominican Republic </td><td>Americas</td><td>1997</td><td>69.957</td><td> 7992357</td><td> 3614.1013</td></tr>\n",
       "\t<tr><td>Iraq               </td><td>Asia    </td><td>2002</td><td>57.046</td><td>24001816</td><td> 4390.7173</td></tr>\n",
       "\t<tr><td>Libya              </td><td>Africa  </td><td>1987</td><td>66.234</td><td> 3799845</td><td>11770.5898</td></tr>\n",
       "\t<tr><td>Montenegro         </td><td>Europe  </td><td>1967</td><td>67.178</td><td>  501035</td><td> 5907.8509</td></tr>\n",
       "\t<tr><td>New Zealand        </td><td>Oceania </td><td>1957</td><td>70.260</td><td> 2229407</td><td>12247.3953</td></tr>\n",
       "\t<tr><td>Bulgaria           </td><td>Europe  </td><td>2007</td><td>73.005</td><td> 7322858</td><td>10680.7928</td></tr>\n",
       "\t<tr><td>Malawi             </td><td>Africa  </td><td>1997</td><td>47.495</td><td>10419991</td><td>  692.2758</td></tr>\n",
       "\t<tr><td>Venezuela          </td><td>Americas</td><td>1977</td><td>67.456</td><td>13503563</td><td>13143.9510</td></tr>\n",
       "\t<tr><td>Guinea             </td><td>Africa  </td><td>1997</td><td>51.455</td><td> 8048834</td><td>  869.4498</td></tr>\n",
       "\t<tr><td>Congo, Dem. Rep.   </td><td>Africa  </td><td>1952</td><td>39.143</td><td>14100005</td><td>  780.5423</td></tr>\n",
       "\t<tr><td>Eritrea            </td><td>Africa  </td><td>1962</td><td>40.158</td><td> 1666618</td><td>  380.9958</td></tr>\n",
       "\t<tr><td>Bangladesh         </td><td>Asia    </td><td>1982</td><td>50.009</td><td>93074406</td><td>  676.9819</td></tr>\n",
       "\t<tr><td>Cote d'Ivoire      </td><td>Africa  </td><td>1952</td><td>40.477</td><td> 2977019</td><td> 1388.5947</td></tr>\n",
       "\t<tr><td>Trinidad and Tobago</td><td>Americas</td><td>2002</td><td>68.976</td><td> 1101832</td><td>11460.6002</td></tr>\n",
       "</tbody>\n",
       "</table>\n"
      ],
      "text/latex": [
       "A tibble: 17 × 6\n",
       "\\begin{tabular}{llllll}\n",
       " country & continent & year & lifeExp & pop & gdpPercap\\\\\n",
       " <fct> & <fct> & <int> & <dbl> & <int> & <dbl>\\\\\n",
       "\\hline\n",
       "\t Libya               & Africa   & 1962 & 47.808 &  1441863 &  6757.0308\\\\\n",
       "\t Botswana            & Africa   & 1997 & 52.556 &  1536536 &  8647.1423\\\\\n",
       "\t Swaziland           & Africa   & 1957 & 43.424 &   326741 &  1244.7084\\\\\n",
       "\t Dominican Republic  & Americas & 1997 & 69.957 &  7992357 &  3614.1013\\\\\n",
       "\t Iraq                & Asia     & 2002 & 57.046 & 24001816 &  4390.7173\\\\\n",
       "\t Libya               & Africa   & 1987 & 66.234 &  3799845 & 11770.5898\\\\\n",
       "\t Montenegro          & Europe   & 1967 & 67.178 &   501035 &  5907.8509\\\\\n",
       "\t New Zealand         & Oceania  & 1957 & 70.260 &  2229407 & 12247.3953\\\\\n",
       "\t Bulgaria            & Europe   & 2007 & 73.005 &  7322858 & 10680.7928\\\\\n",
       "\t Malawi              & Africa   & 1997 & 47.495 & 10419991 &   692.2758\\\\\n",
       "\t Venezuela           & Americas & 1977 & 67.456 & 13503563 & 13143.9510\\\\\n",
       "\t Guinea              & Africa   & 1997 & 51.455 &  8048834 &   869.4498\\\\\n",
       "\t Congo, Dem. Rep.    & Africa   & 1952 & 39.143 & 14100005 &   780.5423\\\\\n",
       "\t Eritrea             & Africa   & 1962 & 40.158 &  1666618 &   380.9958\\\\\n",
       "\t Bangladesh          & Asia     & 1982 & 50.009 & 93074406 &   676.9819\\\\\n",
       "\t Cote d'Ivoire       & Africa   & 1952 & 40.477 &  2977019 &  1388.5947\\\\\n",
       "\t Trinidad and Tobago & Americas & 2002 & 68.976 &  1101832 & 11460.6002\\\\\n",
       "\\end{tabular}\n"
      ],
      "text/markdown": [
       "\n",
       "A tibble: 17 × 6\n",
       "\n",
       "| country &lt;fct&gt; | continent &lt;fct&gt; | year &lt;int&gt; | lifeExp &lt;dbl&gt; | pop &lt;int&gt; | gdpPercap &lt;dbl&gt; |\n",
       "|---|---|---|---|---|---|\n",
       "| Libya               | Africa   | 1962 | 47.808 |  1441863 |  6757.0308 |\n",
       "| Botswana            | Africa   | 1997 | 52.556 |  1536536 |  8647.1423 |\n",
       "| Swaziland           | Africa   | 1957 | 43.424 |   326741 |  1244.7084 |\n",
       "| Dominican Republic  | Americas | 1997 | 69.957 |  7992357 |  3614.1013 |\n",
       "| Iraq                | Asia     | 2002 | 57.046 | 24001816 |  4390.7173 |\n",
       "| Libya               | Africa   | 1987 | 66.234 |  3799845 | 11770.5898 |\n",
       "| Montenegro          | Europe   | 1967 | 67.178 |   501035 |  5907.8509 |\n",
       "| New Zealand         | Oceania  | 1957 | 70.260 |  2229407 | 12247.3953 |\n",
       "| Bulgaria            | Europe   | 2007 | 73.005 |  7322858 | 10680.7928 |\n",
       "| Malawi              | Africa   | 1997 | 47.495 | 10419991 |   692.2758 |\n",
       "| Venezuela           | Americas | 1977 | 67.456 | 13503563 | 13143.9510 |\n",
       "| Guinea              | Africa   | 1997 | 51.455 |  8048834 |   869.4498 |\n",
       "| Congo, Dem. Rep.    | Africa   | 1952 | 39.143 | 14100005 |   780.5423 |\n",
       "| Eritrea             | Africa   | 1962 | 40.158 |  1666618 |   380.9958 |\n",
       "| Bangladesh          | Asia     | 1982 | 50.009 | 93074406 |   676.9819 |\n",
       "| Cote d'Ivoire       | Africa   | 1952 | 40.477 |  2977019 |  1388.5947 |\n",
       "| Trinidad and Tobago | Americas | 2002 | 68.976 |  1101832 | 11460.6002 |\n",
       "\n"
      ],
      "text/plain": [
       "   country             continent year lifeExp pop      gdpPercap \n",
       "1  Libya               Africa    1962 47.808   1441863  6757.0308\n",
       "2  Botswana            Africa    1997 52.556   1536536  8647.1423\n",
       "3  Swaziland           Africa    1957 43.424    326741  1244.7084\n",
       "4  Dominican Republic  Americas  1997 69.957   7992357  3614.1013\n",
       "5  Iraq                Asia      2002 57.046  24001816  4390.7173\n",
       "6  Libya               Africa    1987 66.234   3799845 11770.5898\n",
       "7  Montenegro          Europe    1967 67.178    501035  5907.8509\n",
       "8  New Zealand         Oceania   1957 70.260   2229407 12247.3953\n",
       "9  Bulgaria            Europe    2007 73.005   7322858 10680.7928\n",
       "10 Malawi              Africa    1997 47.495  10419991   692.2758\n",
       "11 Venezuela           Americas  1977 67.456  13503563 13143.9510\n",
       "12 Guinea              Africa    1997 51.455   8048834   869.4498\n",
       "13 Congo, Dem. Rep.    Africa    1952 39.143  14100005   780.5423\n",
       "14 Eritrea             Africa    1962 40.158   1666618   380.9958\n",
       "15 Bangladesh          Asia      1982 50.009  93074406   676.9819\n",
       "16 Cote d'Ivoire       Africa    1952 40.477   2977019  1388.5947\n",
       "17 Trinidad and Tobago Americas  2002 68.976   1101832 11460.6002"
      ]
     },
     "metadata": {},
     "output_type": "display_data"
    }
   ],
   "source": [
    "set.seed(2021) # output not changing, uncomment it \n",
    "gapminder %>% sample_frac(0.01)"
   ]
  },
  {
   "cell_type": "markdown",
   "id": "bd4f39f7-dc43-4b87-acd6-eaf235ff1676",
   "metadata": {},
   "source": [
    "## 2.6. Subset rows using their positions with `slice()`"
   ]
  },
  {
   "cell_type": "markdown",
   "id": "d768e5c7-8ac3-4ecd-98fb-fae19c569e35",
   "metadata": {},
   "source": [
    "### Description\n",
    "\n",
    "- [x] `slice()` lets you index rows by their (integer) locations. It allows you to select, remove, and duplicate rows. It is accompanied by a number of helpers for common use cases:\n",
    "- [x] `slice_head()` and `slice_tail()` select the first or last rows.\n",
    "- [x] `slice_sample()` randomly selects rows.\n",
    "- [x] `slice_min()` and `slice_max()` select rows with highest or lowest values of a variable.\n",
    "\n",
    "If `.data` is a grouped_df, the operation will be performed on each group, so that (e.g.) `slice_head(df, n = 5)` will select the first five rows in each group."
   ]
  },
  {
   "cell_type": "markdown",
   "id": "a831584a-ed52-4f36-b799-86940b07c792",
   "metadata": {},
   "source": [
    "### Samples"
   ]
  },
  {
   "cell_type": "code",
   "execution_count": 81,
   "id": "bee5606e-9252-41cf-8417-ee2b8f96c626",
   "metadata": {},
   "outputs": [
    {
     "data": {
      "text/html": [
       "<table class=\"dataframe\">\n",
       "<caption>A tibble: 1 × 6</caption>\n",
       "<thead>\n",
       "\t<tr><th scope=col>country</th><th scope=col>continent</th><th scope=col>year</th><th scope=col>lifeExp</th><th scope=col>pop</th><th scope=col>gdpPercap</th></tr>\n",
       "\t<tr><th scope=col>&lt;fct&gt;</th><th scope=col>&lt;fct&gt;</th><th scope=col>&lt;int&gt;</th><th scope=col>&lt;dbl&gt;</th><th scope=col>&lt;int&gt;</th><th scope=col>&lt;dbl&gt;</th></tr>\n",
       "</thead>\n",
       "<tbody>\n",
       "\t<tr><td>Afghanistan</td><td>Asia</td><td>1952</td><td>28.801</td><td>8425333</td><td>779.4453</td></tr>\n",
       "</tbody>\n",
       "</table>\n"
      ],
      "text/latex": [
       "A tibble: 1 × 6\n",
       "\\begin{tabular}{llllll}\n",
       " country & continent & year & lifeExp & pop & gdpPercap\\\\\n",
       " <fct> & <fct> & <int> & <dbl> & <int> & <dbl>\\\\\n",
       "\\hline\n",
       "\t Afghanistan & Asia & 1952 & 28.801 & 8425333 & 779.4453\\\\\n",
       "\\end{tabular}\n"
      ],
      "text/markdown": [
       "\n",
       "A tibble: 1 × 6\n",
       "\n",
       "| country &lt;fct&gt; | continent &lt;fct&gt; | year &lt;int&gt; | lifeExp &lt;dbl&gt; | pop &lt;int&gt; | gdpPercap &lt;dbl&gt; |\n",
       "|---|---|---|---|---|---|\n",
       "| Afghanistan | Asia | 1952 | 28.801 | 8425333 | 779.4453 |\n",
       "\n"
      ],
      "text/plain": [
       "  country     continent year lifeExp pop     gdpPercap\n",
       "1 Afghanistan Asia      1952 28.801  8425333 779.4453 "
      ]
     },
     "metadata": {},
     "output_type": "display_data"
    }
   ],
   "source": [
    "gapminder %>% slice(1) # top 1 row"
   ]
  },
  {
   "cell_type": "code",
   "execution_count": 55,
   "id": "81a77e57-687f-469b-a541-150e299b8a5b",
   "metadata": {},
   "outputs": [
    {
     "data": {
      "text/html": [
       "<table class=\"dataframe\">\n",
       "<caption>A tibble: 6 × 6</caption>\n",
       "<thead>\n",
       "\t<tr><th scope=col>country</th><th scope=col>continent</th><th scope=col>year</th><th scope=col>lifeExp</th><th scope=col>pop</th><th scope=col>gdpPercap</th></tr>\n",
       "\t<tr><th scope=col>&lt;fct&gt;</th><th scope=col>&lt;fct&gt;</th><th scope=col>&lt;int&gt;</th><th scope=col>&lt;dbl&gt;</th><th scope=col>&lt;int&gt;</th><th scope=col>&lt;dbl&gt;</th></tr>\n",
       "</thead>\n",
       "<tbody>\n",
       "\t<tr><td>Afghanistan</td><td>Asia</td><td>1952</td><td>28.801</td><td> 8425333</td><td>779.4453</td></tr>\n",
       "\t<tr><td>Afghanistan</td><td>Asia</td><td>1957</td><td>30.332</td><td> 9240934</td><td>820.8530</td></tr>\n",
       "\t<tr><td>Afghanistan</td><td>Asia</td><td>1962</td><td>31.997</td><td>10267083</td><td>853.1007</td></tr>\n",
       "\t<tr><td>Afghanistan</td><td>Asia</td><td>1967</td><td>34.020</td><td>11537966</td><td>836.1971</td></tr>\n",
       "\t<tr><td>Afghanistan</td><td>Asia</td><td>1972</td><td>36.088</td><td>13079460</td><td>739.9811</td></tr>\n",
       "\t<tr><td>Afghanistan</td><td>Asia</td><td>1977</td><td>38.438</td><td>14880372</td><td>786.1134</td></tr>\n",
       "</tbody>\n",
       "</table>\n"
      ],
      "text/latex": [
       "A tibble: 6 × 6\n",
       "\\begin{tabular}{llllll}\n",
       " country & continent & year & lifeExp & pop & gdpPercap\\\\\n",
       " <fct> & <fct> & <int> & <dbl> & <int> & <dbl>\\\\\n",
       "\\hline\n",
       "\t Afghanistan & Asia & 1952 & 28.801 &  8425333 & 779.4453\\\\\n",
       "\t Afghanistan & Asia & 1957 & 30.332 &  9240934 & 820.8530\\\\\n",
       "\t Afghanistan & Asia & 1962 & 31.997 & 10267083 & 853.1007\\\\\n",
       "\t Afghanistan & Asia & 1967 & 34.020 & 11537966 & 836.1971\\\\\n",
       "\t Afghanistan & Asia & 1972 & 36.088 & 13079460 & 739.9811\\\\\n",
       "\t Afghanistan & Asia & 1977 & 38.438 & 14880372 & 786.1134\\\\\n",
       "\\end{tabular}\n"
      ],
      "text/markdown": [
       "\n",
       "A tibble: 6 × 6\n",
       "\n",
       "| country &lt;fct&gt; | continent &lt;fct&gt; | year &lt;int&gt; | lifeExp &lt;dbl&gt; | pop &lt;int&gt; | gdpPercap &lt;dbl&gt; |\n",
       "|---|---|---|---|---|---|\n",
       "| Afghanistan | Asia | 1952 | 28.801 |  8425333 | 779.4453 |\n",
       "| Afghanistan | Asia | 1957 | 30.332 |  9240934 | 820.8530 |\n",
       "| Afghanistan | Asia | 1962 | 31.997 | 10267083 | 853.1007 |\n",
       "| Afghanistan | Asia | 1967 | 34.020 | 11537966 | 836.1971 |\n",
       "| Afghanistan | Asia | 1972 | 36.088 | 13079460 | 739.9811 |\n",
       "| Afghanistan | Asia | 1977 | 38.438 | 14880372 | 786.1134 |\n",
       "\n"
      ],
      "text/plain": [
       "  country     continent year lifeExp pop      gdpPercap\n",
       "1 Afghanistan Asia      1952 28.801   8425333 779.4453 \n",
       "2 Afghanistan Asia      1957 30.332   9240934 820.8530 \n",
       "3 Afghanistan Asia      1962 31.997  10267083 853.1007 \n",
       "4 Afghanistan Asia      1967 34.020  11537966 836.1971 \n",
       "5 Afghanistan Asia      1972 36.088  13079460 739.9811 \n",
       "6 Afghanistan Asia      1977 38.438  14880372 786.1134 "
      ]
     },
     "metadata": {},
     "output_type": "display_data"
    }
   ],
   "source": [
    "gapminder %>% slice(1:6) # top n = 6"
   ]
  },
  {
   "cell_type": "code",
   "execution_count": 65,
   "id": "78ee3fee-a8c4-4d9e-8bc2-a4ca7ff5dd22",
   "metadata": {},
   "outputs": [
    {
     "data": {
      "text/html": [
       "<table class=\"dataframe\">\n",
       "<caption>A tibble: 6 × 6</caption>\n",
       "<thead>\n",
       "\t<tr><th scope=col>country</th><th scope=col>continent</th><th scope=col>year</th><th scope=col>lifeExp</th><th scope=col>pop</th><th scope=col>gdpPercap</th></tr>\n",
       "\t<tr><th scope=col>&lt;fct&gt;</th><th scope=col>&lt;fct&gt;</th><th scope=col>&lt;int&gt;</th><th scope=col>&lt;dbl&gt;</th><th scope=col>&lt;int&gt;</th><th scope=col>&lt;dbl&gt;</th></tr>\n",
       "</thead>\n",
       "<tbody>\n",
       "\t<tr><td>Afghanistan</td><td>Asia</td><td>1952</td><td>28.801</td><td> 8425333</td><td>779.4453</td></tr>\n",
       "\t<tr><td>Afghanistan</td><td>Asia</td><td>1957</td><td>30.332</td><td> 9240934</td><td>820.8530</td></tr>\n",
       "\t<tr><td>Afghanistan</td><td>Asia</td><td>1962</td><td>31.997</td><td>10267083</td><td>853.1007</td></tr>\n",
       "\t<tr><td>Afghanistan</td><td>Asia</td><td>1967</td><td>34.020</td><td>11537966</td><td>836.1971</td></tr>\n",
       "\t<tr><td>Afghanistan</td><td>Asia</td><td>1972</td><td>36.088</td><td>13079460</td><td>739.9811</td></tr>\n",
       "\t<tr><td>Afghanistan</td><td>Asia</td><td>1977</td><td>38.438</td><td>14880372</td><td>786.1134</td></tr>\n",
       "</tbody>\n",
       "</table>\n"
      ],
      "text/latex": [
       "A tibble: 6 × 6\n",
       "\\begin{tabular}{llllll}\n",
       " country & continent & year & lifeExp & pop & gdpPercap\\\\\n",
       " <fct> & <fct> & <int> & <dbl> & <int> & <dbl>\\\\\n",
       "\\hline\n",
       "\t Afghanistan & Asia & 1952 & 28.801 &  8425333 & 779.4453\\\\\n",
       "\t Afghanistan & Asia & 1957 & 30.332 &  9240934 & 820.8530\\\\\n",
       "\t Afghanistan & Asia & 1962 & 31.997 & 10267083 & 853.1007\\\\\n",
       "\t Afghanistan & Asia & 1967 & 34.020 & 11537966 & 836.1971\\\\\n",
       "\t Afghanistan & Asia & 1972 & 36.088 & 13079460 & 739.9811\\\\\n",
       "\t Afghanistan & Asia & 1977 & 38.438 & 14880372 & 786.1134\\\\\n",
       "\\end{tabular}\n"
      ],
      "text/markdown": [
       "\n",
       "A tibble: 6 × 6\n",
       "\n",
       "| country &lt;fct&gt; | continent &lt;fct&gt; | year &lt;int&gt; | lifeExp &lt;dbl&gt; | pop &lt;int&gt; | gdpPercap &lt;dbl&gt; |\n",
       "|---|---|---|---|---|---|\n",
       "| Afghanistan | Asia | 1952 | 28.801 |  8425333 | 779.4453 |\n",
       "| Afghanistan | Asia | 1957 | 30.332 |  9240934 | 820.8530 |\n",
       "| Afghanistan | Asia | 1962 | 31.997 | 10267083 | 853.1007 |\n",
       "| Afghanistan | Asia | 1967 | 34.020 | 11537966 | 836.1971 |\n",
       "| Afghanistan | Asia | 1972 | 36.088 | 13079460 | 739.9811 |\n",
       "| Afghanistan | Asia | 1977 | 38.438 | 14880372 | 786.1134 |\n",
       "\n"
      ],
      "text/plain": [
       "  country     continent year lifeExp pop      gdpPercap\n",
       "1 Afghanistan Asia      1952 28.801   8425333 779.4453 \n",
       "2 Afghanistan Asia      1957 30.332   9240934 820.8530 \n",
       "3 Afghanistan Asia      1962 31.997  10267083 853.1007 \n",
       "4 Afghanistan Asia      1967 34.020  11537966 836.1971 \n",
       "5 Afghanistan Asia      1972 36.088  13079460 739.9811 \n",
       "6 Afghanistan Asia      1977 38.438  14880372 786.1134 "
      ]
     },
     "metadata": {},
     "output_type": "display_data"
    }
   ],
   "source": [
    "gapminder %>% slice_head(n = 6) # works like head()"
   ]
  },
  {
   "cell_type": "code",
   "execution_count": 67,
   "id": "22b9dea4-e5b3-4fb2-8772-2713cd017b7e",
   "metadata": {},
   "outputs": [
    {
     "data": {
      "text/html": [
       "<table class=\"dataframe\">\n",
       "<caption>A tibble: 5 × 6</caption>\n",
       "<thead>\n",
       "\t<tr><th scope=col>country</th><th scope=col>continent</th><th scope=col>year</th><th scope=col>lifeExp</th><th scope=col>pop</th><th scope=col>gdpPercap</th></tr>\n",
       "\t<tr><th scope=col>&lt;fct&gt;</th><th scope=col>&lt;fct&gt;</th><th scope=col>&lt;int&gt;</th><th scope=col>&lt;dbl&gt;</th><th scope=col>&lt;int&gt;</th><th scope=col>&lt;dbl&gt;</th></tr>\n",
       "</thead>\n",
       "<tbody>\n",
       "\t<tr><td>Zimbabwe</td><td>Africa</td><td>1987</td><td>62.351</td><td> 9216418</td><td>706.1573</td></tr>\n",
       "\t<tr><td>Zimbabwe</td><td>Africa</td><td>1992</td><td>60.377</td><td>10704340</td><td>693.4208</td></tr>\n",
       "\t<tr><td>Zimbabwe</td><td>Africa</td><td>1997</td><td>46.809</td><td>11404948</td><td>792.4500</td></tr>\n",
       "\t<tr><td>Zimbabwe</td><td>Africa</td><td>2002</td><td>39.989</td><td>11926563</td><td>672.0386</td></tr>\n",
       "\t<tr><td>Zimbabwe</td><td>Africa</td><td>2007</td><td>43.487</td><td>12311143</td><td>469.7093</td></tr>\n",
       "</tbody>\n",
       "</table>\n"
      ],
      "text/latex": [
       "A tibble: 5 × 6\n",
       "\\begin{tabular}{llllll}\n",
       " country & continent & year & lifeExp & pop & gdpPercap\\\\\n",
       " <fct> & <fct> & <int> & <dbl> & <int> & <dbl>\\\\\n",
       "\\hline\n",
       "\t Zimbabwe & Africa & 1987 & 62.351 &  9216418 & 706.1573\\\\\n",
       "\t Zimbabwe & Africa & 1992 & 60.377 & 10704340 & 693.4208\\\\\n",
       "\t Zimbabwe & Africa & 1997 & 46.809 & 11404948 & 792.4500\\\\\n",
       "\t Zimbabwe & Africa & 2002 & 39.989 & 11926563 & 672.0386\\\\\n",
       "\t Zimbabwe & Africa & 2007 & 43.487 & 12311143 & 469.7093\\\\\n",
       "\\end{tabular}\n"
      ],
      "text/markdown": [
       "\n",
       "A tibble: 5 × 6\n",
       "\n",
       "| country &lt;fct&gt; | continent &lt;fct&gt; | year &lt;int&gt; | lifeExp &lt;dbl&gt; | pop &lt;int&gt; | gdpPercap &lt;dbl&gt; |\n",
       "|---|---|---|---|---|---|\n",
       "| Zimbabwe | Africa | 1987 | 62.351 |  9216418 | 706.1573 |\n",
       "| Zimbabwe | Africa | 1992 | 60.377 | 10704340 | 693.4208 |\n",
       "| Zimbabwe | Africa | 1997 | 46.809 | 11404948 | 792.4500 |\n",
       "| Zimbabwe | Africa | 2002 | 39.989 | 11926563 | 672.0386 |\n",
       "| Zimbabwe | Africa | 2007 | 43.487 | 12311143 | 469.7093 |\n",
       "\n"
      ],
      "text/plain": [
       "  country  continent year lifeExp pop      gdpPercap\n",
       "1 Zimbabwe Africa    1987 62.351   9216418 706.1573 \n",
       "2 Zimbabwe Africa    1992 60.377  10704340 693.4208 \n",
       "3 Zimbabwe Africa    1997 46.809  11404948 792.4500 \n",
       "4 Zimbabwe Africa    2002 39.989  11926563 672.0386 \n",
       "5 Zimbabwe Africa    2007 43.487  12311143 469.7093 "
      ]
     },
     "metadata": {},
     "output_type": "display_data"
    }
   ],
   "source": [
    "gapminder %>% slice_tail(n = 5) # works like tail()"
   ]
  },
  {
   "cell_type": "markdown",
   "id": "d34c0fb1-176f-4662-a9d2-41f551dd280a",
   "metadata": {},
   "source": [
    "**You can drop some recods with negative indexes:**"
   ]
  },
  {
   "cell_type": "code",
   "execution_count": 73,
   "id": "12314bba-aefa-4870-a306-1777c23199bf",
   "metadata": {},
   "outputs": [
    {
     "data": {
      "text/html": [
       "<table class=\"dataframe\">\n",
       "<caption>A tibble: 6 × 6</caption>\n",
       "<thead>\n",
       "\t<tr><th scope=col>country</th><th scope=col>continent</th><th scope=col>year</th><th scope=col>lifeExp</th><th scope=col>pop</th><th scope=col>gdpPercap</th></tr>\n",
       "\t<tr><th scope=col>&lt;fct&gt;</th><th scope=col>&lt;fct&gt;</th><th scope=col>&lt;int&gt;</th><th scope=col>&lt;dbl&gt;</th><th scope=col>&lt;int&gt;</th><th scope=col>&lt;dbl&gt;</th></tr>\n",
       "</thead>\n",
       "<tbody>\n",
       "\t<tr><td>Afghanistan</td><td>Asia</td><td>1967</td><td>34.020</td><td>11537966</td><td>836.1971</td></tr>\n",
       "\t<tr><td>Afghanistan</td><td>Asia</td><td>1977</td><td>38.438</td><td>14880372</td><td>786.1134</td></tr>\n",
       "\t<tr><td>Afghanistan</td><td>Asia</td><td>1982</td><td>39.854</td><td>12881816</td><td>978.0114</td></tr>\n",
       "\t<tr><td>Afghanistan</td><td>Asia</td><td>1987</td><td>40.822</td><td>13867957</td><td>852.3959</td></tr>\n",
       "\t<tr><td>Afghanistan</td><td>Asia</td><td>1992</td><td>41.674</td><td>16317921</td><td>649.3414</td></tr>\n",
       "\t<tr><td>Afghanistan</td><td>Asia</td><td>1997</td><td>41.763</td><td>22227415</td><td>635.3414</td></tr>\n",
       "</tbody>\n",
       "</table>\n"
      ],
      "text/latex": [
       "A tibble: 6 × 6\n",
       "\\begin{tabular}{llllll}\n",
       " country & continent & year & lifeExp & pop & gdpPercap\\\\\n",
       " <fct> & <fct> & <int> & <dbl> & <int> & <dbl>\\\\\n",
       "\\hline\n",
       "\t Afghanistan & Asia & 1967 & 34.020 & 11537966 & 836.1971\\\\\n",
       "\t Afghanistan & Asia & 1977 & 38.438 & 14880372 & 786.1134\\\\\n",
       "\t Afghanistan & Asia & 1982 & 39.854 & 12881816 & 978.0114\\\\\n",
       "\t Afghanistan & Asia & 1987 & 40.822 & 13867957 & 852.3959\\\\\n",
       "\t Afghanistan & Asia & 1992 & 41.674 & 16317921 & 649.3414\\\\\n",
       "\t Afghanistan & Asia & 1997 & 41.763 & 22227415 & 635.3414\\\\\n",
       "\\end{tabular}\n"
      ],
      "text/markdown": [
       "\n",
       "A tibble: 6 × 6\n",
       "\n",
       "| country &lt;fct&gt; | continent &lt;fct&gt; | year &lt;int&gt; | lifeExp &lt;dbl&gt; | pop &lt;int&gt; | gdpPercap &lt;dbl&gt; |\n",
       "|---|---|---|---|---|---|\n",
       "| Afghanistan | Asia | 1967 | 34.020 | 11537966 | 836.1971 |\n",
       "| Afghanistan | Asia | 1977 | 38.438 | 14880372 | 786.1134 |\n",
       "| Afghanistan | Asia | 1982 | 39.854 | 12881816 | 978.0114 |\n",
       "| Afghanistan | Asia | 1987 | 40.822 | 13867957 | 852.3959 |\n",
       "| Afghanistan | Asia | 1992 | 41.674 | 16317921 | 649.3414 |\n",
       "| Afghanistan | Asia | 1997 | 41.763 | 22227415 | 635.3414 |\n",
       "\n"
      ],
      "text/plain": [
       "  country     continent year lifeExp pop      gdpPercap\n",
       "1 Afghanistan Asia      1967 34.020  11537966 836.1971 \n",
       "2 Afghanistan Asia      1977 38.438  14880372 786.1134 \n",
       "3 Afghanistan Asia      1982 39.854  12881816 978.0114 \n",
       "4 Afghanistan Asia      1987 40.822  13867957 852.3959 \n",
       "5 Afghanistan Asia      1992 41.674  16317921 649.3414 \n",
       "6 Afghanistan Asia      1997 41.763  22227415 635.3414 "
      ]
     },
     "metadata": {},
     "output_type": "display_data"
    }
   ],
   "source": [
    "gapminder %>% slice(-c(1:3,5)) %>% # remove Afganistan years 1952, 1957, 1962 and 1972 \n",
    "    head(6)"
   ]
  },
  {
   "cell_type": "code",
   "execution_count": 82,
   "id": "38357f49-ef31-4e88-a0c8-d7029642a9f6",
   "metadata": {},
   "outputs": [
    {
     "data": {
      "text/html": [
       "<table class=\"dataframe\">\n",
       "<caption>A tibble: 5 × 6</caption>\n",
       "<thead>\n",
       "\t<tr><th scope=col>country</th><th scope=col>continent</th><th scope=col>year</th><th scope=col>lifeExp</th><th scope=col>pop</th><th scope=col>gdpPercap</th></tr>\n",
       "\t<tr><th scope=col>&lt;fct&gt;</th><th scope=col>&lt;fct&gt;</th><th scope=col>&lt;int&gt;</th><th scope=col>&lt;dbl&gt;</th><th scope=col>&lt;int&gt;</th><th scope=col>&lt;dbl&gt;</th></tr>\n",
       "</thead>\n",
       "<tbody>\n",
       "\t<tr><td>Iceland      </td><td>Europe  </td><td>1977</td><td>76.110</td><td>   221823</td><td>19654.9625</td></tr>\n",
       "\t<tr><td>United States</td><td>Americas</td><td>1962</td><td>70.210</td><td>186538000</td><td>16173.1459</td></tr>\n",
       "\t<tr><td>Haiti        </td><td>Americas</td><td>1982</td><td>51.461</td><td>  5198399</td><td> 2011.1595</td></tr>\n",
       "\t<tr><td>Eritrea      </td><td>Africa  </td><td>1997</td><td>53.378</td><td>  4058319</td><td>  913.4708</td></tr>\n",
       "\t<tr><td>Egypt        </td><td>Africa  </td><td>1987</td><td>59.797</td><td> 52799062</td><td> 3885.4607</td></tr>\n",
       "</tbody>\n",
       "</table>\n"
      ],
      "text/latex": [
       "A tibble: 5 × 6\n",
       "\\begin{tabular}{llllll}\n",
       " country & continent & year & lifeExp & pop & gdpPercap\\\\\n",
       " <fct> & <fct> & <int> & <dbl> & <int> & <dbl>\\\\\n",
       "\\hline\n",
       "\t Iceland       & Europe   & 1977 & 76.110 &    221823 & 19654.9625\\\\\n",
       "\t United States & Americas & 1962 & 70.210 & 186538000 & 16173.1459\\\\\n",
       "\t Haiti         & Americas & 1982 & 51.461 &   5198399 &  2011.1595\\\\\n",
       "\t Eritrea       & Africa   & 1997 & 53.378 &   4058319 &   913.4708\\\\\n",
       "\t Egypt         & Africa   & 1987 & 59.797 &  52799062 &  3885.4607\\\\\n",
       "\\end{tabular}\n"
      ],
      "text/markdown": [
       "\n",
       "A tibble: 5 × 6\n",
       "\n",
       "| country &lt;fct&gt; | continent &lt;fct&gt; | year &lt;int&gt; | lifeExp &lt;dbl&gt; | pop &lt;int&gt; | gdpPercap &lt;dbl&gt; |\n",
       "|---|---|---|---|---|---|\n",
       "| Iceland       | Europe   | 1977 | 76.110 |    221823 | 19654.9625 |\n",
       "| United States | Americas | 1962 | 70.210 | 186538000 | 16173.1459 |\n",
       "| Haiti         | Americas | 1982 | 51.461 |   5198399 |  2011.1595 |\n",
       "| Eritrea       | Africa   | 1997 | 53.378 |   4058319 |   913.4708 |\n",
       "| Egypt         | Africa   | 1987 | 59.797 |  52799062 |  3885.4607 |\n",
       "\n"
      ],
      "text/plain": [
       "  country       continent year lifeExp pop       gdpPercap \n",
       "1 Iceland       Europe    1977 76.110     221823 19654.9625\n",
       "2 United States Americas  1962 70.210  186538000 16173.1459\n",
       "3 Haiti         Americas  1982 51.461    5198399  2011.1595\n",
       "4 Eritrea       Africa    1997 53.378    4058319   913.4708\n",
       "5 Egypt         Africa    1987 59.797   52799062  3885.4607"
      ]
     },
     "metadata": {},
     "output_type": "display_data"
    }
   ],
   "source": [
    "# Random rows selection with slice_sample()\n",
    "gapminder %>% slice_sample(n = 5) #use set.seed() to fix random"
   ]
  },
  {
   "cell_type": "code",
   "execution_count": 83,
   "id": "38a998c9-5aeb-43a9-b3d1-3d10e8ccafb8",
   "metadata": {},
   "outputs": [
    {
     "data": {
      "text/html": [
       "<table class=\"dataframe\">\n",
       "<caption>A tibble: 5 × 6</caption>\n",
       "<thead>\n",
       "\t<tr><th scope=col>country</th><th scope=col>continent</th><th scope=col>year</th><th scope=col>lifeExp</th><th scope=col>pop</th><th scope=col>gdpPercap</th></tr>\n",
       "\t<tr><th scope=col>&lt;fct&gt;</th><th scope=col>&lt;fct&gt;</th><th scope=col>&lt;int&gt;</th><th scope=col>&lt;dbl&gt;</th><th scope=col>&lt;int&gt;</th><th scope=col>&lt;dbl&gt;</th></tr>\n",
       "</thead>\n",
       "<tbody>\n",
       "\t<tr><td>Rwanda      </td><td>Africa</td><td>1992</td><td>23.599</td><td>7290203</td><td> 737.0686</td></tr>\n",
       "\t<tr><td>Afghanistan </td><td>Asia  </td><td>1952</td><td>28.801</td><td>8425333</td><td> 779.4453</td></tr>\n",
       "\t<tr><td>Gambia      </td><td>Africa</td><td>1952</td><td>30.000</td><td> 284320</td><td> 485.2307</td></tr>\n",
       "\t<tr><td>Angola      </td><td>Africa</td><td>1952</td><td>30.015</td><td>4232095</td><td>3520.6103</td></tr>\n",
       "\t<tr><td>Sierra Leone</td><td>Africa</td><td>1952</td><td>30.331</td><td>2143249</td><td> 879.7877</td></tr>\n",
       "</tbody>\n",
       "</table>\n"
      ],
      "text/latex": [
       "A tibble: 5 × 6\n",
       "\\begin{tabular}{llllll}\n",
       " country & continent & year & lifeExp & pop & gdpPercap\\\\\n",
       " <fct> & <fct> & <int> & <dbl> & <int> & <dbl>\\\\\n",
       "\\hline\n",
       "\t Rwanda       & Africa & 1992 & 23.599 & 7290203 &  737.0686\\\\\n",
       "\t Afghanistan  & Asia   & 1952 & 28.801 & 8425333 &  779.4453\\\\\n",
       "\t Gambia       & Africa & 1952 & 30.000 &  284320 &  485.2307\\\\\n",
       "\t Angola       & Africa & 1952 & 30.015 & 4232095 & 3520.6103\\\\\n",
       "\t Sierra Leone & Africa & 1952 & 30.331 & 2143249 &  879.7877\\\\\n",
       "\\end{tabular}\n"
      ],
      "text/markdown": [
       "\n",
       "A tibble: 5 × 6\n",
       "\n",
       "| country &lt;fct&gt; | continent &lt;fct&gt; | year &lt;int&gt; | lifeExp &lt;dbl&gt; | pop &lt;int&gt; | gdpPercap &lt;dbl&gt; |\n",
       "|---|---|---|---|---|---|\n",
       "| Rwanda       | Africa | 1992 | 23.599 | 7290203 |  737.0686 |\n",
       "| Afghanistan  | Asia   | 1952 | 28.801 | 8425333 |  779.4453 |\n",
       "| Gambia       | Africa | 1952 | 30.000 |  284320 |  485.2307 |\n",
       "| Angola       | Africa | 1952 | 30.015 | 4232095 | 3520.6103 |\n",
       "| Sierra Leone | Africa | 1952 | 30.331 | 2143249 |  879.7877 |\n",
       "\n"
      ],
      "text/plain": [
       "  country      continent year lifeExp pop     gdpPercap\n",
       "1 Rwanda       Africa    1992 23.599  7290203  737.0686\n",
       "2 Afghanistan  Asia      1952 28.801  8425333  779.4453\n",
       "3 Gambia       Africa    1952 30.000   284320  485.2307\n",
       "4 Angola       Africa    1952 30.015  4232095 3520.6103\n",
       "5 Sierra Leone Africa    1952 30.331  2143249  879.7877"
      ]
     },
     "metadata": {},
     "output_type": "display_data"
    },
    {
     "data": {
      "text/html": [
       "<table class=\"dataframe\">\n",
       "<caption>A tibble: 5 × 6</caption>\n",
       "<thead>\n",
       "\t<tr><th scope=col>country</th><th scope=col>continent</th><th scope=col>year</th><th scope=col>lifeExp</th><th scope=col>pop</th><th scope=col>gdpPercap</th></tr>\n",
       "\t<tr><th scope=col>&lt;fct&gt;</th><th scope=col>&lt;fct&gt;</th><th scope=col>&lt;int&gt;</th><th scope=col>&lt;dbl&gt;</th><th scope=col>&lt;int&gt;</th><th scope=col>&lt;dbl&gt;</th></tr>\n",
       "</thead>\n",
       "<tbody>\n",
       "\t<tr><td>Japan           </td><td>Asia  </td><td>2007</td><td>82.603</td><td>127467972</td><td>31656.07</td></tr>\n",
       "\t<tr><td>Hong Kong, China</td><td>Asia  </td><td>2007</td><td>82.208</td><td>  6980412</td><td>39724.98</td></tr>\n",
       "\t<tr><td>Japan           </td><td>Asia  </td><td>2002</td><td>82.000</td><td>127065841</td><td>28604.59</td></tr>\n",
       "\t<tr><td>Iceland         </td><td>Europe</td><td>2007</td><td>81.757</td><td>   301931</td><td>36180.79</td></tr>\n",
       "\t<tr><td>Switzerland     </td><td>Europe</td><td>2007</td><td>81.701</td><td>  7554661</td><td>37506.42</td></tr>\n",
       "</tbody>\n",
       "</table>\n"
      ],
      "text/latex": [
       "A tibble: 5 × 6\n",
       "\\begin{tabular}{llllll}\n",
       " country & continent & year & lifeExp & pop & gdpPercap\\\\\n",
       " <fct> & <fct> & <int> & <dbl> & <int> & <dbl>\\\\\n",
       "\\hline\n",
       "\t Japan            & Asia   & 2007 & 82.603 & 127467972 & 31656.07\\\\\n",
       "\t Hong Kong, China & Asia   & 2007 & 82.208 &   6980412 & 39724.98\\\\\n",
       "\t Japan            & Asia   & 2002 & 82.000 & 127065841 & 28604.59\\\\\n",
       "\t Iceland          & Europe & 2007 & 81.757 &    301931 & 36180.79\\\\\n",
       "\t Switzerland      & Europe & 2007 & 81.701 &   7554661 & 37506.42\\\\\n",
       "\\end{tabular}\n"
      ],
      "text/markdown": [
       "\n",
       "A tibble: 5 × 6\n",
       "\n",
       "| country &lt;fct&gt; | continent &lt;fct&gt; | year &lt;int&gt; | lifeExp &lt;dbl&gt; | pop &lt;int&gt; | gdpPercap &lt;dbl&gt; |\n",
       "|---|---|---|---|---|---|\n",
       "| Japan            | Asia   | 2007 | 82.603 | 127467972 | 31656.07 |\n",
       "| Hong Kong, China | Asia   | 2007 | 82.208 |   6980412 | 39724.98 |\n",
       "| Japan            | Asia   | 2002 | 82.000 | 127065841 | 28604.59 |\n",
       "| Iceland          | Europe | 2007 | 81.757 |    301931 | 36180.79 |\n",
       "| Switzerland      | Europe | 2007 | 81.701 |   7554661 | 37506.42 |\n",
       "\n"
      ],
      "text/plain": [
       "  country          continent year lifeExp pop       gdpPercap\n",
       "1 Japan            Asia      2007 82.603  127467972 31656.07 \n",
       "2 Hong Kong, China Asia      2007 82.208    6980412 39724.98 \n",
       "3 Japan            Asia      2002 82.000  127065841 28604.59 \n",
       "4 Iceland          Europe    2007 81.757     301931 36180.79 \n",
       "5 Switzerland      Europe    2007 81.701    7554661 37506.42 "
      ]
     },
     "metadata": {},
     "output_type": "display_data"
    }
   ],
   "source": [
    "# Rows with minimum and maximum values of a variable\n",
    "# Lets find top 5 records with minimum and maximum lifeExp in all dataset\n",
    "gapminder %>% slice_min(lifeExp, n = 5)\n",
    "gapminder %>% slice_max(lifeExp, n = 5)"
   ]
  },
  {
   "cell_type": "markdown",
   "id": "97273a09-8573-400d-81ac-dedcc0272a9d",
   "metadata": {},
   "source": [
    "---"
   ]
  },
  {
   "cell_type": "markdown",
   "id": "4bc252dd",
   "metadata": {},
   "source": [
    "## 2.7. Sorting with  **`arrange()`**"
   ]
  },
  {
   "cell_type": "markdown",
   "id": "cce51daf",
   "metadata": {},
   "source": [
    "`arrange(.data, …)` function order rows by values of a column or columns (low to high)You can use with `desc()` to order from high to low. \n",
    "\n",
    "For example, we need to select top 10 countries in 2002  by lifeExp variable."
   ]
  },
  {
   "cell_type": "code",
   "execution_count": 85,
   "id": "3ef05be0",
   "metadata": {},
   "outputs": [
    {
     "data": {
      "text/html": [
       "<table class=\"dataframe\">\n",
       "<caption>A tibble: 10 × 6</caption>\n",
       "<thead>\n",
       "\t<tr><th scope=col>country</th><th scope=col>continent</th><th scope=col>year</th><th scope=col>lifeExp</th><th scope=col>pop</th><th scope=col>gdpPercap</th></tr>\n",
       "\t<tr><th scope=col>&lt;fct&gt;</th><th scope=col>&lt;fct&gt;</th><th scope=col>&lt;int&gt;</th><th scope=col>&lt;dbl&gt;</th><th scope=col>&lt;int&gt;</th><th scope=col>&lt;dbl&gt;</th></tr>\n",
       "</thead>\n",
       "<tbody>\n",
       "\t<tr><td>Australia       </td><td>Oceania </td><td>2002</td><td>80.370</td><td> 19546792</td><td>30687.75</td></tr>\n",
       "\t<tr><td>Canada          </td><td>Americas</td><td>2002</td><td>79.770</td><td> 31902268</td><td>33328.97</td></tr>\n",
       "\t<tr><td>Hong Kong, China</td><td>Asia    </td><td>2002</td><td>81.495</td><td>  6762476</td><td>30209.02</td></tr>\n",
       "\t<tr><td>Iceland         </td><td>Europe  </td><td>2002</td><td>80.500</td><td>   288030</td><td>31163.20</td></tr>\n",
       "\t<tr><td>Israel          </td><td>Asia    </td><td>2002</td><td>79.696</td><td>  6029529</td><td>21905.60</td></tr>\n",
       "\t<tr><td>Italy           </td><td>Europe  </td><td>2002</td><td>80.240</td><td> 57926999</td><td>27968.10</td></tr>\n",
       "\t<tr><td>Japan           </td><td>Asia    </td><td>2002</td><td>82.000</td><td>127065841</td><td>28604.59</td></tr>\n",
       "\t<tr><td>Spain           </td><td>Europe  </td><td>2002</td><td>79.780</td><td> 40152517</td><td>24835.47</td></tr>\n",
       "\t<tr><td>Sweden          </td><td>Europe  </td><td>2002</td><td>80.040</td><td>  8954175</td><td>29341.63</td></tr>\n",
       "\t<tr><td>Switzerland     </td><td>Europe  </td><td>2002</td><td>80.620</td><td>  7361757</td><td>34480.96</td></tr>\n",
       "</tbody>\n",
       "</table>\n"
      ],
      "text/latex": [
       "A tibble: 10 × 6\n",
       "\\begin{tabular}{llllll}\n",
       " country & continent & year & lifeExp & pop & gdpPercap\\\\\n",
       " <fct> & <fct> & <int> & <dbl> & <int> & <dbl>\\\\\n",
       "\\hline\n",
       "\t Australia        & Oceania  & 2002 & 80.370 &  19546792 & 30687.75\\\\\n",
       "\t Canada           & Americas & 2002 & 79.770 &  31902268 & 33328.97\\\\\n",
       "\t Hong Kong, China & Asia     & 2002 & 81.495 &   6762476 & 30209.02\\\\\n",
       "\t Iceland          & Europe   & 2002 & 80.500 &    288030 & 31163.20\\\\\n",
       "\t Israel           & Asia     & 2002 & 79.696 &   6029529 & 21905.60\\\\\n",
       "\t Italy            & Europe   & 2002 & 80.240 &  57926999 & 27968.10\\\\\n",
       "\t Japan            & Asia     & 2002 & 82.000 & 127065841 & 28604.59\\\\\n",
       "\t Spain            & Europe   & 2002 & 79.780 &  40152517 & 24835.47\\\\\n",
       "\t Sweden           & Europe   & 2002 & 80.040 &   8954175 & 29341.63\\\\\n",
       "\t Switzerland      & Europe   & 2002 & 80.620 &   7361757 & 34480.96\\\\\n",
       "\\end{tabular}\n"
      ],
      "text/markdown": [
       "\n",
       "A tibble: 10 × 6\n",
       "\n",
       "| country &lt;fct&gt; | continent &lt;fct&gt; | year &lt;int&gt; | lifeExp &lt;dbl&gt; | pop &lt;int&gt; | gdpPercap &lt;dbl&gt; |\n",
       "|---|---|---|---|---|---|\n",
       "| Australia        | Oceania  | 2002 | 80.370 |  19546792 | 30687.75 |\n",
       "| Canada           | Americas | 2002 | 79.770 |  31902268 | 33328.97 |\n",
       "| Hong Kong, China | Asia     | 2002 | 81.495 |   6762476 | 30209.02 |\n",
       "| Iceland          | Europe   | 2002 | 80.500 |    288030 | 31163.20 |\n",
       "| Israel           | Asia     | 2002 | 79.696 |   6029529 | 21905.60 |\n",
       "| Italy            | Europe   | 2002 | 80.240 |  57926999 | 27968.10 |\n",
       "| Japan            | Asia     | 2002 | 82.000 | 127065841 | 28604.59 |\n",
       "| Spain            | Europe   | 2002 | 79.780 |  40152517 | 24835.47 |\n",
       "| Sweden           | Europe   | 2002 | 80.040 |   8954175 | 29341.63 |\n",
       "| Switzerland      | Europe   | 2002 | 80.620 |   7361757 | 34480.96 |\n",
       "\n"
      ],
      "text/plain": [
       "   country          continent year lifeExp pop       gdpPercap\n",
       "1  Australia        Oceania   2002 80.370   19546792 30687.75 \n",
       "2  Canada           Americas  2002 79.770   31902268 33328.97 \n",
       "3  Hong Kong, China Asia      2002 81.495    6762476 30209.02 \n",
       "4  Iceland          Europe    2002 80.500     288030 31163.20 \n",
       "5  Israel           Asia      2002 79.696    6029529 21905.60 \n",
       "6  Italy            Europe    2002 80.240   57926999 27968.10 \n",
       "7  Japan            Asia      2002 82.000  127065841 28604.59 \n",
       "8  Spain            Europe    2002 79.780   40152517 24835.47 \n",
       "9  Sweden           Europe    2002 80.040    8954175 29341.63 \n",
       "10 Switzerland      Europe    2002 80.620    7361757 34480.96 "
      ]
     },
     "metadata": {},
     "output_type": "display_data"
    }
   ],
   "source": [
    "data2002 <- gapminder %>% \n",
    "                filter(year == 2002) %>%\n",
    "                top_n(10, lifeExp) # select top 10 by lifeExp value\n",
    "data2002"
   ]
  },
  {
   "cell_type": "code",
   "execution_count": 86,
   "id": "88f8825c",
   "metadata": {},
   "outputs": [
    {
     "data": {
      "text/html": [
       "<table class=\"dataframe\">\n",
       "<caption>A tibble: 10 × 6</caption>\n",
       "<thead>\n",
       "\t<tr><th scope=col>country</th><th scope=col>continent</th><th scope=col>year</th><th scope=col>lifeExp</th><th scope=col>pop</th><th scope=col>gdpPercap</th></tr>\n",
       "\t<tr><th scope=col>&lt;fct&gt;</th><th scope=col>&lt;fct&gt;</th><th scope=col>&lt;int&gt;</th><th scope=col>&lt;dbl&gt;</th><th scope=col>&lt;int&gt;</th><th scope=col>&lt;dbl&gt;</th></tr>\n",
       "</thead>\n",
       "<tbody>\n",
       "\t<tr><td>Iceland         </td><td>Europe  </td><td>2002</td><td>80.500</td><td>   288030</td><td>31163.20</td></tr>\n",
       "\t<tr><td>Israel          </td><td>Asia    </td><td>2002</td><td>79.696</td><td>  6029529</td><td>21905.60</td></tr>\n",
       "\t<tr><td>Hong Kong, China</td><td>Asia    </td><td>2002</td><td>81.495</td><td>  6762476</td><td>30209.02</td></tr>\n",
       "\t<tr><td>Switzerland     </td><td>Europe  </td><td>2002</td><td>80.620</td><td>  7361757</td><td>34480.96</td></tr>\n",
       "\t<tr><td>Sweden          </td><td>Europe  </td><td>2002</td><td>80.040</td><td>  8954175</td><td>29341.63</td></tr>\n",
       "\t<tr><td>Australia       </td><td>Oceania </td><td>2002</td><td>80.370</td><td> 19546792</td><td>30687.75</td></tr>\n",
       "\t<tr><td>Canada          </td><td>Americas</td><td>2002</td><td>79.770</td><td> 31902268</td><td>33328.97</td></tr>\n",
       "\t<tr><td>Spain           </td><td>Europe  </td><td>2002</td><td>79.780</td><td> 40152517</td><td>24835.47</td></tr>\n",
       "\t<tr><td>Italy           </td><td>Europe  </td><td>2002</td><td>80.240</td><td> 57926999</td><td>27968.10</td></tr>\n",
       "\t<tr><td>Japan           </td><td>Asia    </td><td>2002</td><td>82.000</td><td>127065841</td><td>28604.59</td></tr>\n",
       "</tbody>\n",
       "</table>\n"
      ],
      "text/latex": [
       "A tibble: 10 × 6\n",
       "\\begin{tabular}{llllll}\n",
       " country & continent & year & lifeExp & pop & gdpPercap\\\\\n",
       " <fct> & <fct> & <int> & <dbl> & <int> & <dbl>\\\\\n",
       "\\hline\n",
       "\t Iceland          & Europe   & 2002 & 80.500 &    288030 & 31163.20\\\\\n",
       "\t Israel           & Asia     & 2002 & 79.696 &   6029529 & 21905.60\\\\\n",
       "\t Hong Kong, China & Asia     & 2002 & 81.495 &   6762476 & 30209.02\\\\\n",
       "\t Switzerland      & Europe   & 2002 & 80.620 &   7361757 & 34480.96\\\\\n",
       "\t Sweden           & Europe   & 2002 & 80.040 &   8954175 & 29341.63\\\\\n",
       "\t Australia        & Oceania  & 2002 & 80.370 &  19546792 & 30687.75\\\\\n",
       "\t Canada           & Americas & 2002 & 79.770 &  31902268 & 33328.97\\\\\n",
       "\t Spain            & Europe   & 2002 & 79.780 &  40152517 & 24835.47\\\\\n",
       "\t Italy            & Europe   & 2002 & 80.240 &  57926999 & 27968.10\\\\\n",
       "\t Japan            & Asia     & 2002 & 82.000 & 127065841 & 28604.59\\\\\n",
       "\\end{tabular}\n"
      ],
      "text/markdown": [
       "\n",
       "A tibble: 10 × 6\n",
       "\n",
       "| country &lt;fct&gt; | continent &lt;fct&gt; | year &lt;int&gt; | lifeExp &lt;dbl&gt; | pop &lt;int&gt; | gdpPercap &lt;dbl&gt; |\n",
       "|---|---|---|---|---|---|\n",
       "| Iceland          | Europe   | 2002 | 80.500 |    288030 | 31163.20 |\n",
       "| Israel           | Asia     | 2002 | 79.696 |   6029529 | 21905.60 |\n",
       "| Hong Kong, China | Asia     | 2002 | 81.495 |   6762476 | 30209.02 |\n",
       "| Switzerland      | Europe   | 2002 | 80.620 |   7361757 | 34480.96 |\n",
       "| Sweden           | Europe   | 2002 | 80.040 |   8954175 | 29341.63 |\n",
       "| Australia        | Oceania  | 2002 | 80.370 |  19546792 | 30687.75 |\n",
       "| Canada           | Americas | 2002 | 79.770 |  31902268 | 33328.97 |\n",
       "| Spain            | Europe   | 2002 | 79.780 |  40152517 | 24835.47 |\n",
       "| Italy            | Europe   | 2002 | 80.240 |  57926999 | 27968.10 |\n",
       "| Japan            | Asia     | 2002 | 82.000 | 127065841 | 28604.59 |\n",
       "\n"
      ],
      "text/plain": [
       "   country          continent year lifeExp pop       gdpPercap\n",
       "1  Iceland          Europe    2002 80.500     288030 31163.20 \n",
       "2  Israel           Asia      2002 79.696    6029529 21905.60 \n",
       "3  Hong Kong, China Asia      2002 81.495    6762476 30209.02 \n",
       "4  Switzerland      Europe    2002 80.620    7361757 34480.96 \n",
       "5  Sweden           Europe    2002 80.040    8954175 29341.63 \n",
       "6  Australia        Oceania   2002 80.370   19546792 30687.75 \n",
       "7  Canada           Americas  2002 79.770   31902268 33328.97 \n",
       "8  Spain            Europe    2002 79.780   40152517 24835.47 \n",
       "9  Italy            Europe    2002 80.240   57926999 27968.10 \n",
       "10 Japan            Asia      2002 82.000  127065841 28604.59 "
      ]
     },
     "metadata": {},
     "output_type": "display_data"
    }
   ],
   "source": [
    "# sort by pop\n",
    "data2002 %>% arrange(pop)"
   ]
  },
  {
   "cell_type": "code",
   "execution_count": 87,
   "id": "e996c93a",
   "metadata": {},
   "outputs": [
    {
     "data": {
      "text/html": [
       "<table class=\"dataframe\">\n",
       "<caption>A tibble: 10 × 6</caption>\n",
       "<thead>\n",
       "\t<tr><th scope=col>country</th><th scope=col>continent</th><th scope=col>year</th><th scope=col>lifeExp</th><th scope=col>pop</th><th scope=col>gdpPercap</th></tr>\n",
       "\t<tr><th scope=col>&lt;fct&gt;</th><th scope=col>&lt;fct&gt;</th><th scope=col>&lt;int&gt;</th><th scope=col>&lt;dbl&gt;</th><th scope=col>&lt;int&gt;</th><th scope=col>&lt;dbl&gt;</th></tr>\n",
       "</thead>\n",
       "<tbody>\n",
       "\t<tr><td>Japan           </td><td>Asia    </td><td>2002</td><td>82.000</td><td>127065841</td><td>28604.59</td></tr>\n",
       "\t<tr><td>Italy           </td><td>Europe  </td><td>2002</td><td>80.240</td><td> 57926999</td><td>27968.10</td></tr>\n",
       "\t<tr><td>Spain           </td><td>Europe  </td><td>2002</td><td>79.780</td><td> 40152517</td><td>24835.47</td></tr>\n",
       "\t<tr><td>Canada          </td><td>Americas</td><td>2002</td><td>79.770</td><td> 31902268</td><td>33328.97</td></tr>\n",
       "\t<tr><td>Australia       </td><td>Oceania </td><td>2002</td><td>80.370</td><td> 19546792</td><td>30687.75</td></tr>\n",
       "\t<tr><td>Sweden          </td><td>Europe  </td><td>2002</td><td>80.040</td><td>  8954175</td><td>29341.63</td></tr>\n",
       "\t<tr><td>Switzerland     </td><td>Europe  </td><td>2002</td><td>80.620</td><td>  7361757</td><td>34480.96</td></tr>\n",
       "\t<tr><td>Hong Kong, China</td><td>Asia    </td><td>2002</td><td>81.495</td><td>  6762476</td><td>30209.02</td></tr>\n",
       "\t<tr><td>Israel          </td><td>Asia    </td><td>2002</td><td>79.696</td><td>  6029529</td><td>21905.60</td></tr>\n",
       "\t<tr><td>Iceland         </td><td>Europe  </td><td>2002</td><td>80.500</td><td>   288030</td><td>31163.20</td></tr>\n",
       "</tbody>\n",
       "</table>\n"
      ],
      "text/latex": [
       "A tibble: 10 × 6\n",
       "\\begin{tabular}{llllll}\n",
       " country & continent & year & lifeExp & pop & gdpPercap\\\\\n",
       " <fct> & <fct> & <int> & <dbl> & <int> & <dbl>\\\\\n",
       "\\hline\n",
       "\t Japan            & Asia     & 2002 & 82.000 & 127065841 & 28604.59\\\\\n",
       "\t Italy            & Europe   & 2002 & 80.240 &  57926999 & 27968.10\\\\\n",
       "\t Spain            & Europe   & 2002 & 79.780 &  40152517 & 24835.47\\\\\n",
       "\t Canada           & Americas & 2002 & 79.770 &  31902268 & 33328.97\\\\\n",
       "\t Australia        & Oceania  & 2002 & 80.370 &  19546792 & 30687.75\\\\\n",
       "\t Sweden           & Europe   & 2002 & 80.040 &   8954175 & 29341.63\\\\\n",
       "\t Switzerland      & Europe   & 2002 & 80.620 &   7361757 & 34480.96\\\\\n",
       "\t Hong Kong, China & Asia     & 2002 & 81.495 &   6762476 & 30209.02\\\\\n",
       "\t Israel           & Asia     & 2002 & 79.696 &   6029529 & 21905.60\\\\\n",
       "\t Iceland          & Europe   & 2002 & 80.500 &    288030 & 31163.20\\\\\n",
       "\\end{tabular}\n"
      ],
      "text/markdown": [
       "\n",
       "A tibble: 10 × 6\n",
       "\n",
       "| country &lt;fct&gt; | continent &lt;fct&gt; | year &lt;int&gt; | lifeExp &lt;dbl&gt; | pop &lt;int&gt; | gdpPercap &lt;dbl&gt; |\n",
       "|---|---|---|---|---|---|\n",
       "| Japan            | Asia     | 2002 | 82.000 | 127065841 | 28604.59 |\n",
       "| Italy            | Europe   | 2002 | 80.240 |  57926999 | 27968.10 |\n",
       "| Spain            | Europe   | 2002 | 79.780 |  40152517 | 24835.47 |\n",
       "| Canada           | Americas | 2002 | 79.770 |  31902268 | 33328.97 |\n",
       "| Australia        | Oceania  | 2002 | 80.370 |  19546792 | 30687.75 |\n",
       "| Sweden           | Europe   | 2002 | 80.040 |   8954175 | 29341.63 |\n",
       "| Switzerland      | Europe   | 2002 | 80.620 |   7361757 | 34480.96 |\n",
       "| Hong Kong, China | Asia     | 2002 | 81.495 |   6762476 | 30209.02 |\n",
       "| Israel           | Asia     | 2002 | 79.696 |   6029529 | 21905.60 |\n",
       "| Iceland          | Europe   | 2002 | 80.500 |    288030 | 31163.20 |\n",
       "\n"
      ],
      "text/plain": [
       "   country          continent year lifeExp pop       gdpPercap\n",
       "1  Japan            Asia      2002 82.000  127065841 28604.59 \n",
       "2  Italy            Europe    2002 80.240   57926999 27968.10 \n",
       "3  Spain            Europe    2002 79.780   40152517 24835.47 \n",
       "4  Canada           Americas  2002 79.770   31902268 33328.97 \n",
       "5  Australia        Oceania   2002 80.370   19546792 30687.75 \n",
       "6  Sweden           Europe    2002 80.040    8954175 29341.63 \n",
       "7  Switzerland      Europe    2002 80.620    7361757 34480.96 \n",
       "8  Hong Kong, China Asia      2002 81.495    6762476 30209.02 \n",
       "9  Israel           Asia      2002 79.696    6029529 21905.60 \n",
       "10 Iceland          Europe    2002 80.500     288030 31163.20 "
      ]
     },
     "metadata": {},
     "output_type": "display_data"
    }
   ],
   "source": [
    "# sort by pop from high to low\n",
    "data2002 %>% arrange(desc(pop))"
   ]
  },
  {
   "cell_type": "markdown",
   "id": "e30874a2-e558-439c-a5d2-0b108dc0c7fb",
   "metadata": {},
   "source": [
    "---"
   ]
  },
  {
   "cell_type": "markdown",
   "id": "ab446fcc",
   "metadata": {},
   "source": [
    "## 2.7. Make new variables with **`mutate()`**"
   ]
  },
  {
   "cell_type": "markdown",
   "id": "c163f8a0",
   "metadata": {},
   "source": [
    "`mutate(.data, …)` compute new column(s). \n",
    "Lets compute new column for `data2002` $gdpTotal = gdpPercap * pop / 1000000$.\n"
   ]
  },
  {
   "cell_type": "code",
   "execution_count": 168,
   "id": "244eebce",
   "metadata": {},
   "outputs": [
    {
     "data": {
      "text/html": [
       "<table class=\"dataframe\">\n",
       "<caption>A tibble: 10 × 7</caption>\n",
       "<thead>\n",
       "\t<tr><th scope=col>country</th><th scope=col>continent</th><th scope=col>year</th><th scope=col>lifeExp</th><th scope=col>pop</th><th scope=col>gdpPercap</th><th scope=col>gdpTotal</th></tr>\n",
       "\t<tr><th scope=col>&lt;fct&gt;</th><th scope=col>&lt;fct&gt;</th><th scope=col>&lt;int&gt;</th><th scope=col>&lt;dbl&gt;</th><th scope=col>&lt;int&gt;</th><th scope=col>&lt;dbl&gt;</th><th scope=col>&lt;dbl&gt;</th></tr>\n",
       "</thead>\n",
       "<tbody>\n",
       "\t<tr><td>Australia       </td><td>Oceania </td><td>2002</td><td>80.370</td><td> 19546792</td><td>30687.75</td><td>5.998472e+11</td></tr>\n",
       "\t<tr><td>Canada          </td><td>Americas</td><td>2002</td><td>79.770</td><td> 31902268</td><td>33328.97</td><td>1.063270e+12</td></tr>\n",
       "\t<tr><td>Hong Kong, China</td><td>Asia    </td><td>2002</td><td>81.495</td><td>  6762476</td><td>30209.02</td><td>2.042877e+11</td></tr>\n",
       "\t<tr><td>Iceland         </td><td>Europe  </td><td>2002</td><td>80.500</td><td>   288030</td><td>31163.20</td><td>8.975937e+09</td></tr>\n",
       "\t<tr><td>Israel          </td><td>Asia    </td><td>2002</td><td>79.696</td><td>  6029529</td><td>21905.60</td><td>1.320804e+11</td></tr>\n",
       "\t<tr><td>Italy           </td><td>Europe  </td><td>2002</td><td>80.240</td><td> 57926999</td><td>27968.10</td><td>1.620108e+12</td></tr>\n",
       "\t<tr><td>Japan           </td><td>Asia    </td><td>2002</td><td>82.000</td><td>127065841</td><td>28604.59</td><td>3.634667e+12</td></tr>\n",
       "\t<tr><td>Spain           </td><td>Europe  </td><td>2002</td><td>79.780</td><td> 40152517</td><td>24835.47</td><td>9.972067e+11</td></tr>\n",
       "\t<tr><td>Sweden          </td><td>Europe  </td><td>2002</td><td>80.040</td><td>  8954175</td><td>29341.63</td><td>2.627301e+11</td></tr>\n",
       "\t<tr><td>Switzerland     </td><td>Europe  </td><td>2002</td><td>80.620</td><td>  7361757</td><td>34480.96</td><td>2.538404e+11</td></tr>\n",
       "</tbody>\n",
       "</table>\n"
      ],
      "text/latex": [
       "A tibble: 10 × 7\n",
       "\\begin{tabular}{lllllll}\n",
       " country & continent & year & lifeExp & pop & gdpPercap & gdpTotal\\\\\n",
       " <fct> & <fct> & <int> & <dbl> & <int> & <dbl> & <dbl>\\\\\n",
       "\\hline\n",
       "\t Australia        & Oceania  & 2002 & 80.370 &  19546792 & 30687.75 & 5.998472e+11\\\\\n",
       "\t Canada           & Americas & 2002 & 79.770 &  31902268 & 33328.97 & 1.063270e+12\\\\\n",
       "\t Hong Kong, China & Asia     & 2002 & 81.495 &   6762476 & 30209.02 & 2.042877e+11\\\\\n",
       "\t Iceland          & Europe   & 2002 & 80.500 &    288030 & 31163.20 & 8.975937e+09\\\\\n",
       "\t Israel           & Asia     & 2002 & 79.696 &   6029529 & 21905.60 & 1.320804e+11\\\\\n",
       "\t Italy            & Europe   & 2002 & 80.240 &  57926999 & 27968.10 & 1.620108e+12\\\\\n",
       "\t Japan            & Asia     & 2002 & 82.000 & 127065841 & 28604.59 & 3.634667e+12\\\\\n",
       "\t Spain            & Europe   & 2002 & 79.780 &  40152517 & 24835.47 & 9.972067e+11\\\\\n",
       "\t Sweden           & Europe   & 2002 & 80.040 &   8954175 & 29341.63 & 2.627301e+11\\\\\n",
       "\t Switzerland      & Europe   & 2002 & 80.620 &   7361757 & 34480.96 & 2.538404e+11\\\\\n",
       "\\end{tabular}\n"
      ],
      "text/markdown": [
       "\n",
       "A tibble: 10 × 7\n",
       "\n",
       "| country &lt;fct&gt; | continent &lt;fct&gt; | year &lt;int&gt; | lifeExp &lt;dbl&gt; | pop &lt;int&gt; | gdpPercap &lt;dbl&gt; | gdpTotal &lt;dbl&gt; |\n",
       "|---|---|---|---|---|---|---|\n",
       "| Australia        | Oceania  | 2002 | 80.370 |  19546792 | 30687.75 | 5.998472e+11 |\n",
       "| Canada           | Americas | 2002 | 79.770 |  31902268 | 33328.97 | 1.063270e+12 |\n",
       "| Hong Kong, China | Asia     | 2002 | 81.495 |   6762476 | 30209.02 | 2.042877e+11 |\n",
       "| Iceland          | Europe   | 2002 | 80.500 |    288030 | 31163.20 | 8.975937e+09 |\n",
       "| Israel           | Asia     | 2002 | 79.696 |   6029529 | 21905.60 | 1.320804e+11 |\n",
       "| Italy            | Europe   | 2002 | 80.240 |  57926999 | 27968.10 | 1.620108e+12 |\n",
       "| Japan            | Asia     | 2002 | 82.000 | 127065841 | 28604.59 | 3.634667e+12 |\n",
       "| Spain            | Europe   | 2002 | 79.780 |  40152517 | 24835.47 | 9.972067e+11 |\n",
       "| Sweden           | Europe   | 2002 | 80.040 |   8954175 | 29341.63 | 2.627301e+11 |\n",
       "| Switzerland      | Europe   | 2002 | 80.620 |   7361757 | 34480.96 | 2.538404e+11 |\n",
       "\n"
      ],
      "text/plain": [
       "   country          continent year lifeExp pop       gdpPercap gdpTotal    \n",
       "1  Australia        Oceania   2002 80.370   19546792 30687.75  5.998472e+11\n",
       "2  Canada           Americas  2002 79.770   31902268 33328.97  1.063270e+12\n",
       "3  Hong Kong, China Asia      2002 81.495    6762476 30209.02  2.042877e+11\n",
       "4  Iceland          Europe    2002 80.500     288030 31163.20  8.975937e+09\n",
       "5  Israel           Asia      2002 79.696    6029529 21905.60  1.320804e+11\n",
       "6  Italy            Europe    2002 80.240   57926999 27968.10  1.620108e+12\n",
       "7  Japan            Asia      2002 82.000  127065841 28604.59  3.634667e+12\n",
       "8  Spain            Europe    2002 79.780   40152517 24835.47  9.972067e+11\n",
       "9  Sweden           Europe    2002 80.040    8954175 29341.63  2.627301e+11\n",
       "10 Switzerland      Europe    2002 80.620    7361757 34480.96  2.538404e+11"
      ]
     },
     "metadata": {},
     "output_type": "display_data"
    }
   ],
   "source": [
    "data2002 <- data2002 %>% mutate(gdpTotal = gdpPercap * pop)\n",
    "data2002"
   ]
  },
  {
   "cell_type": "markdown",
   "id": "0fd9637e",
   "metadata": {},
   "source": [
    "`transmute(.data, …)` compute new column(s), drop others."
   ]
  },
  {
   "cell_type": "code",
   "execution_count": 171,
   "id": "d638a8bb",
   "metadata": {},
   "outputs": [
    {
     "data": {
      "text/html": [
       "<table class=\"dataframe\">\n",
       "<caption>A tibble: 10 × 1</caption>\n",
       "<thead>\n",
       "\t<tr><th scope=col>gdpTotal</th></tr>\n",
       "\t<tr><th scope=col>&lt;dbl&gt;</th></tr>\n",
       "</thead>\n",
       "<tbody>\n",
       "\t<tr><td>5.998472e+11</td></tr>\n",
       "\t<tr><td>1.063270e+12</td></tr>\n",
       "\t<tr><td>2.042877e+11</td></tr>\n",
       "\t<tr><td>8.975937e+09</td></tr>\n",
       "\t<tr><td>1.320804e+11</td></tr>\n",
       "\t<tr><td>1.620108e+12</td></tr>\n",
       "\t<tr><td>3.634667e+12</td></tr>\n",
       "\t<tr><td>9.972067e+11</td></tr>\n",
       "\t<tr><td>2.627301e+11</td></tr>\n",
       "\t<tr><td>2.538404e+11</td></tr>\n",
       "</tbody>\n",
       "</table>\n"
      ],
      "text/latex": [
       "A tibble: 10 × 1\n",
       "\\begin{tabular}{l}\n",
       " gdpTotal\\\\\n",
       " <dbl>\\\\\n",
       "\\hline\n",
       "\t 5.998472e+11\\\\\n",
       "\t 1.063270e+12\\\\\n",
       "\t 2.042877e+11\\\\\n",
       "\t 8.975937e+09\\\\\n",
       "\t 1.320804e+11\\\\\n",
       "\t 1.620108e+12\\\\\n",
       "\t 3.634667e+12\\\\\n",
       "\t 9.972067e+11\\\\\n",
       "\t 2.627301e+11\\\\\n",
       "\t 2.538404e+11\\\\\n",
       "\\end{tabular}\n"
      ],
      "text/markdown": [
       "\n",
       "A tibble: 10 × 1\n",
       "\n",
       "| gdpTotal &lt;dbl&gt; |\n",
       "|---|\n",
       "| 5.998472e+11 |\n",
       "| 1.063270e+12 |\n",
       "| 2.042877e+11 |\n",
       "| 8.975937e+09 |\n",
       "| 1.320804e+11 |\n",
       "| 1.620108e+12 |\n",
       "| 3.634667e+12 |\n",
       "| 9.972067e+11 |\n",
       "| 2.627301e+11 |\n",
       "| 2.538404e+11 |\n",
       "\n"
      ],
      "text/plain": [
       "   gdpTotal    \n",
       "1  5.998472e+11\n",
       "2  1.063270e+12\n",
       "3  2.042877e+11\n",
       "4  8.975937e+09\n",
       "5  1.320804e+11\n",
       "6  1.620108e+12\n",
       "7  3.634667e+12\n",
       "8  9.972067e+11\n",
       "9  2.627301e+11\n",
       "10 2.538404e+11"
      ]
     },
     "metadata": {},
     "output_type": "display_data"
    }
   ],
   "source": [
    "data2002 %>% transmute(gdpTotal = gdpPercap * pop)"
   ]
  },
  {
   "cell_type": "markdown",
   "id": "8a8ad4e8",
   "metadata": {},
   "source": [
    "You can `mutate` many columns at once:"
   ]
  },
  {
   "cell_type": "code",
   "execution_count": 198,
   "id": "8871cc4f",
   "metadata": {
    "scrolled": true
   },
   "outputs": [
    {
     "data": {
      "text/html": [
       "<table class=\"dataframe\">\n",
       "<caption>A tibble: 10 × 9</caption>\n",
       "<thead>\n",
       "\t<tr><th scope=col>country</th><th scope=col>continent</th><th scope=col>year</th><th scope=col>lifeExp</th><th scope=col>pop</th><th scope=col>gdpPercap</th><th scope=col>gdpTotal</th><th scope=col>countryUpper</th><th scope=col>lifeExpRounded</th></tr>\n",
       "\t<tr><th scope=col>&lt;fct&gt;</th><th scope=col>&lt;fct&gt;</th><th scope=col>&lt;int&gt;</th><th scope=col>&lt;dbl&gt;</th><th scope=col>&lt;int&gt;</th><th scope=col>&lt;dbl&gt;</th><th scope=col>&lt;dbl&gt;</th><th scope=col>&lt;chr&gt;</th><th scope=col>&lt;dbl&gt;</th></tr>\n",
       "</thead>\n",
       "<tbody>\n",
       "\t<tr><td>Australia       </td><td>Oceania </td><td>2002</td><td>80.370</td><td> 19546792</td><td>30687.75</td><td>5.998472e+11</td><td>AUSTRALIA       </td><td>80</td></tr>\n",
       "\t<tr><td>Canada          </td><td>Americas</td><td>2002</td><td>79.770</td><td> 31902268</td><td>33328.97</td><td>1.063270e+12</td><td>CANADA          </td><td>80</td></tr>\n",
       "\t<tr><td>Hong Kong, China</td><td>Asia    </td><td>2002</td><td>81.495</td><td>  6762476</td><td>30209.02</td><td>2.042877e+11</td><td>HONG KONG, CHINA</td><td>81</td></tr>\n",
       "\t<tr><td>Iceland         </td><td>Europe  </td><td>2002</td><td>80.500</td><td>   288030</td><td>31163.20</td><td>8.975937e+09</td><td>ICELAND         </td><td>80</td></tr>\n",
       "\t<tr><td>Israel          </td><td>Asia    </td><td>2002</td><td>79.696</td><td>  6029529</td><td>21905.60</td><td>1.320804e+11</td><td>ISRAEL          </td><td>80</td></tr>\n",
       "\t<tr><td>Italy           </td><td>Europe  </td><td>2002</td><td>80.240</td><td> 57926999</td><td>27968.10</td><td>1.620108e+12</td><td>ITALY           </td><td>80</td></tr>\n",
       "\t<tr><td>Japan           </td><td>Asia    </td><td>2002</td><td>82.000</td><td>127065841</td><td>28604.59</td><td>3.634667e+12</td><td>JAPAN           </td><td>82</td></tr>\n",
       "\t<tr><td>Spain           </td><td>Europe  </td><td>2002</td><td>79.780</td><td> 40152517</td><td>24835.47</td><td>9.972067e+11</td><td>SPAIN           </td><td>80</td></tr>\n",
       "\t<tr><td>Sweden          </td><td>Europe  </td><td>2002</td><td>80.040</td><td>  8954175</td><td>29341.63</td><td>2.627301e+11</td><td>SWEDEN          </td><td>80</td></tr>\n",
       "\t<tr><td>Switzerland     </td><td>Europe  </td><td>2002</td><td>80.620</td><td>  7361757</td><td>34480.96</td><td>2.538404e+11</td><td>SWITZERLAND     </td><td>81</td></tr>\n",
       "</tbody>\n",
       "</table>\n"
      ],
      "text/latex": [
       "A tibble: 10 × 9\n",
       "\\begin{tabular}{lllllllll}\n",
       " country & continent & year & lifeExp & pop & gdpPercap & gdpTotal & countryUpper & lifeExpRounded\\\\\n",
       " <fct> & <fct> & <int> & <dbl> & <int> & <dbl> & <dbl> & <chr> & <dbl>\\\\\n",
       "\\hline\n",
       "\t Australia        & Oceania  & 2002 & 80.370 &  19546792 & 30687.75 & 5.998472e+11 & AUSTRALIA        & 80\\\\\n",
       "\t Canada           & Americas & 2002 & 79.770 &  31902268 & 33328.97 & 1.063270e+12 & CANADA           & 80\\\\\n",
       "\t Hong Kong, China & Asia     & 2002 & 81.495 &   6762476 & 30209.02 & 2.042877e+11 & HONG KONG, CHINA & 81\\\\\n",
       "\t Iceland          & Europe   & 2002 & 80.500 &    288030 & 31163.20 & 8.975937e+09 & ICELAND          & 80\\\\\n",
       "\t Israel           & Asia     & 2002 & 79.696 &   6029529 & 21905.60 & 1.320804e+11 & ISRAEL           & 80\\\\\n",
       "\t Italy            & Europe   & 2002 & 80.240 &  57926999 & 27968.10 & 1.620108e+12 & ITALY            & 80\\\\\n",
       "\t Japan            & Asia     & 2002 & 82.000 & 127065841 & 28604.59 & 3.634667e+12 & JAPAN            & 82\\\\\n",
       "\t Spain            & Europe   & 2002 & 79.780 &  40152517 & 24835.47 & 9.972067e+11 & SPAIN            & 80\\\\\n",
       "\t Sweden           & Europe   & 2002 & 80.040 &   8954175 & 29341.63 & 2.627301e+11 & SWEDEN           & 80\\\\\n",
       "\t Switzerland      & Europe   & 2002 & 80.620 &   7361757 & 34480.96 & 2.538404e+11 & SWITZERLAND      & 81\\\\\n",
       "\\end{tabular}\n"
      ],
      "text/markdown": [
       "\n",
       "A tibble: 10 × 9\n",
       "\n",
       "| country &lt;fct&gt; | continent &lt;fct&gt; | year &lt;int&gt; | lifeExp &lt;dbl&gt; | pop &lt;int&gt; | gdpPercap &lt;dbl&gt; | gdpTotal &lt;dbl&gt; | countryUpper &lt;chr&gt; | lifeExpRounded &lt;dbl&gt; |\n",
       "|---|---|---|---|---|---|---|---|---|\n",
       "| Australia        | Oceania  | 2002 | 80.370 |  19546792 | 30687.75 | 5.998472e+11 | AUSTRALIA        | 80 |\n",
       "| Canada           | Americas | 2002 | 79.770 |  31902268 | 33328.97 | 1.063270e+12 | CANADA           | 80 |\n",
       "| Hong Kong, China | Asia     | 2002 | 81.495 |   6762476 | 30209.02 | 2.042877e+11 | HONG KONG, CHINA | 81 |\n",
       "| Iceland          | Europe   | 2002 | 80.500 |    288030 | 31163.20 | 8.975937e+09 | ICELAND          | 80 |\n",
       "| Israel           | Asia     | 2002 | 79.696 |   6029529 | 21905.60 | 1.320804e+11 | ISRAEL           | 80 |\n",
       "| Italy            | Europe   | 2002 | 80.240 |  57926999 | 27968.10 | 1.620108e+12 | ITALY            | 80 |\n",
       "| Japan            | Asia     | 2002 | 82.000 | 127065841 | 28604.59 | 3.634667e+12 | JAPAN            | 82 |\n",
       "| Spain            | Europe   | 2002 | 79.780 |  40152517 | 24835.47 | 9.972067e+11 | SPAIN            | 80 |\n",
       "| Sweden           | Europe   | 2002 | 80.040 |   8954175 | 29341.63 | 2.627301e+11 | SWEDEN           | 80 |\n",
       "| Switzerland      | Europe   | 2002 | 80.620 |   7361757 | 34480.96 | 2.538404e+11 | SWITZERLAND      | 81 |\n",
       "\n"
      ],
      "text/plain": [
       "   country          continent year lifeExp pop       gdpPercap gdpTotal    \n",
       "1  Australia        Oceania   2002 80.370   19546792 30687.75  5.998472e+11\n",
       "2  Canada           Americas  2002 79.770   31902268 33328.97  1.063270e+12\n",
       "3  Hong Kong, China Asia      2002 81.495    6762476 30209.02  2.042877e+11\n",
       "4  Iceland          Europe    2002 80.500     288030 31163.20  8.975937e+09\n",
       "5  Israel           Asia      2002 79.696    6029529 21905.60  1.320804e+11\n",
       "6  Italy            Europe    2002 80.240   57926999 27968.10  1.620108e+12\n",
       "7  Japan            Asia      2002 82.000  127065841 28604.59  3.634667e+12\n",
       "8  Spain            Europe    2002 79.780   40152517 24835.47  9.972067e+11\n",
       "9  Sweden           Europe    2002 80.040    8954175 29341.63  2.627301e+11\n",
       "10 Switzerland      Europe    2002 80.620    7361757 34480.96  2.538404e+11\n",
       "   countryUpper     lifeExpRounded\n",
       "1  AUSTRALIA        80            \n",
       "2  CANADA           80            \n",
       "3  HONG KONG, CHINA 81            \n",
       "4  ICELAND          80            \n",
       "5  ISRAEL           80            \n",
       "6  ITALY            80            \n",
       "7  JAPAN            82            \n",
       "8  SPAIN            80            \n",
       "9  SWEDEN           80            \n",
       "10 SWITZERLAND      81            "
      ]
     },
     "metadata": {},
     "output_type": "display_data"
    }
   ],
   "source": [
    "data2002 <- data2002 %>% \n",
    "                mutate(gdpTotal = gdpPercap * pop,\n",
    "                      countryUpper = toupper(country), # uppercase country\n",
    "                      lifeExpRounded = round(lifeExp)) # rounded life expectation in \n",
    "data2002"
   ]
  },
  {
   "cell_type": "markdown",
   "id": "1e0490df",
   "metadata": {},
   "source": [
    "You also can edit existing column (let's change `continent Europe` to `EU` in dataframe):"
   ]
  },
  {
   "cell_type": "code",
   "execution_count": 202,
   "id": "6301587b",
   "metadata": {},
   "outputs": [
    {
     "data": {
      "text/html": [
       "<table class=\"dataframe\">\n",
       "<caption>A tibble: 10 × 9</caption>\n",
       "<thead>\n",
       "\t<tr><th scope=col>country</th><th scope=col>continent</th><th scope=col>year</th><th scope=col>lifeExp</th><th scope=col>pop</th><th scope=col>gdpPercap</th><th scope=col>gdpTotal</th><th scope=col>countryUpper</th><th scope=col>lifeExpRounded</th></tr>\n",
       "\t<tr><th scope=col>&lt;fct&gt;</th><th scope=col>&lt;chr&gt;</th><th scope=col>&lt;int&gt;</th><th scope=col>&lt;dbl&gt;</th><th scope=col>&lt;int&gt;</th><th scope=col>&lt;dbl&gt;</th><th scope=col>&lt;dbl&gt;</th><th scope=col>&lt;chr&gt;</th><th scope=col>&lt;dbl&gt;</th></tr>\n",
       "</thead>\n",
       "<tbody>\n",
       "\t<tr><td>Australia       </td><td>Oceania </td><td>2002</td><td>80.370</td><td> 19546792</td><td>30687.75</td><td>5.998472e+11</td><td>AUSTRALIA       </td><td>80</td></tr>\n",
       "\t<tr><td>Canada          </td><td>Americas</td><td>2002</td><td>79.770</td><td> 31902268</td><td>33328.97</td><td>1.063270e+12</td><td>CANADA          </td><td>80</td></tr>\n",
       "\t<tr><td>Hong Kong, China</td><td>Asia    </td><td>2002</td><td>81.495</td><td>  6762476</td><td>30209.02</td><td>2.042877e+11</td><td>HONG KONG, CHINA</td><td>81</td></tr>\n",
       "\t<tr><td>Iceland         </td><td>EU      </td><td>2002</td><td>80.500</td><td>   288030</td><td>31163.20</td><td>8.975937e+09</td><td>ICELAND         </td><td>80</td></tr>\n",
       "\t<tr><td>Israel          </td><td>Asia    </td><td>2002</td><td>79.696</td><td>  6029529</td><td>21905.60</td><td>1.320804e+11</td><td>ISRAEL          </td><td>80</td></tr>\n",
       "\t<tr><td>Italy           </td><td>EU      </td><td>2002</td><td>80.240</td><td> 57926999</td><td>27968.10</td><td>1.620108e+12</td><td>ITALY           </td><td>80</td></tr>\n",
       "\t<tr><td>Japan           </td><td>Asia    </td><td>2002</td><td>82.000</td><td>127065841</td><td>28604.59</td><td>3.634667e+12</td><td>JAPAN           </td><td>82</td></tr>\n",
       "\t<tr><td>Spain           </td><td>EU      </td><td>2002</td><td>79.780</td><td> 40152517</td><td>24835.47</td><td>9.972067e+11</td><td>SPAIN           </td><td>80</td></tr>\n",
       "\t<tr><td>Sweden          </td><td>EU      </td><td>2002</td><td>80.040</td><td>  8954175</td><td>29341.63</td><td>2.627301e+11</td><td>SWEDEN          </td><td>80</td></tr>\n",
       "\t<tr><td>Switzerland     </td><td>EU      </td><td>2002</td><td>80.620</td><td>  7361757</td><td>34480.96</td><td>2.538404e+11</td><td>SWITZERLAND     </td><td>81</td></tr>\n",
       "</tbody>\n",
       "</table>\n"
      ],
      "text/latex": [
       "A tibble: 10 × 9\n",
       "\\begin{tabular}{lllllllll}\n",
       " country & continent & year & lifeExp & pop & gdpPercap & gdpTotal & countryUpper & lifeExpRounded\\\\\n",
       " <fct> & <chr> & <int> & <dbl> & <int> & <dbl> & <dbl> & <chr> & <dbl>\\\\\n",
       "\\hline\n",
       "\t Australia        & Oceania  & 2002 & 80.370 &  19546792 & 30687.75 & 5.998472e+11 & AUSTRALIA        & 80\\\\\n",
       "\t Canada           & Americas & 2002 & 79.770 &  31902268 & 33328.97 & 1.063270e+12 & CANADA           & 80\\\\\n",
       "\t Hong Kong, China & Asia     & 2002 & 81.495 &   6762476 & 30209.02 & 2.042877e+11 & HONG KONG, CHINA & 81\\\\\n",
       "\t Iceland          & EU       & 2002 & 80.500 &    288030 & 31163.20 & 8.975937e+09 & ICELAND          & 80\\\\\n",
       "\t Israel           & Asia     & 2002 & 79.696 &   6029529 & 21905.60 & 1.320804e+11 & ISRAEL           & 80\\\\\n",
       "\t Italy            & EU       & 2002 & 80.240 &  57926999 & 27968.10 & 1.620108e+12 & ITALY            & 80\\\\\n",
       "\t Japan            & Asia     & 2002 & 82.000 & 127065841 & 28604.59 & 3.634667e+12 & JAPAN            & 82\\\\\n",
       "\t Spain            & EU       & 2002 & 79.780 &  40152517 & 24835.47 & 9.972067e+11 & SPAIN            & 80\\\\\n",
       "\t Sweden           & EU       & 2002 & 80.040 &   8954175 & 29341.63 & 2.627301e+11 & SWEDEN           & 80\\\\\n",
       "\t Switzerland      & EU       & 2002 & 80.620 &   7361757 & 34480.96 & 2.538404e+11 & SWITZERLAND      & 81\\\\\n",
       "\\end{tabular}\n"
      ],
      "text/markdown": [
       "\n",
       "A tibble: 10 × 9\n",
       "\n",
       "| country &lt;fct&gt; | continent &lt;chr&gt; | year &lt;int&gt; | lifeExp &lt;dbl&gt; | pop &lt;int&gt; | gdpPercap &lt;dbl&gt; | gdpTotal &lt;dbl&gt; | countryUpper &lt;chr&gt; | lifeExpRounded &lt;dbl&gt; |\n",
       "|---|---|---|---|---|---|---|---|---|\n",
       "| Australia        | Oceania  | 2002 | 80.370 |  19546792 | 30687.75 | 5.998472e+11 | AUSTRALIA        | 80 |\n",
       "| Canada           | Americas | 2002 | 79.770 |  31902268 | 33328.97 | 1.063270e+12 | CANADA           | 80 |\n",
       "| Hong Kong, China | Asia     | 2002 | 81.495 |   6762476 | 30209.02 | 2.042877e+11 | HONG KONG, CHINA | 81 |\n",
       "| Iceland          | EU       | 2002 | 80.500 |    288030 | 31163.20 | 8.975937e+09 | ICELAND          | 80 |\n",
       "| Israel           | Asia     | 2002 | 79.696 |   6029529 | 21905.60 | 1.320804e+11 | ISRAEL           | 80 |\n",
       "| Italy            | EU       | 2002 | 80.240 |  57926999 | 27968.10 | 1.620108e+12 | ITALY            | 80 |\n",
       "| Japan            | Asia     | 2002 | 82.000 | 127065841 | 28604.59 | 3.634667e+12 | JAPAN            | 82 |\n",
       "| Spain            | EU       | 2002 | 79.780 |  40152517 | 24835.47 | 9.972067e+11 | SPAIN            | 80 |\n",
       "| Sweden           | EU       | 2002 | 80.040 |   8954175 | 29341.63 | 2.627301e+11 | SWEDEN           | 80 |\n",
       "| Switzerland      | EU       | 2002 | 80.620 |   7361757 | 34480.96 | 2.538404e+11 | SWITZERLAND      | 81 |\n",
       "\n"
      ],
      "text/plain": [
       "   country          continent year lifeExp pop       gdpPercap gdpTotal    \n",
       "1  Australia        Oceania   2002 80.370   19546792 30687.75  5.998472e+11\n",
       "2  Canada           Americas  2002 79.770   31902268 33328.97  1.063270e+12\n",
       "3  Hong Kong, China Asia      2002 81.495    6762476 30209.02  2.042877e+11\n",
       "4  Iceland          EU        2002 80.500     288030 31163.20  8.975937e+09\n",
       "5  Israel           Asia      2002 79.696    6029529 21905.60  1.320804e+11\n",
       "6  Italy            EU        2002 80.240   57926999 27968.10  1.620108e+12\n",
       "7  Japan            Asia      2002 82.000  127065841 28604.59  3.634667e+12\n",
       "8  Spain            EU        2002 79.780   40152517 24835.47  9.972067e+11\n",
       "9  Sweden           EU        2002 80.040    8954175 29341.63  2.627301e+11\n",
       "10 Switzerland      EU        2002 80.620    7361757 34480.96  2.538404e+11\n",
       "   countryUpper     lifeExpRounded\n",
       "1  AUSTRALIA        80            \n",
       "2  CANADA           80            \n",
       "3  HONG KONG, CHINA 81            \n",
       "4  ICELAND          80            \n",
       "5  ISRAEL           80            \n",
       "6  ITALY            80            \n",
       "7  JAPAN            82            \n",
       "8  SPAIN            80            \n",
       "9  SWEDEN           80            \n",
       "10 SWITZERLAND      81            "
      ]
     },
     "metadata": {},
     "output_type": "display_data"
    }
   ],
   "source": [
    "data2002 %>%     \n",
    "    mutate(\n",
    "        continent = as.character(continent), # convert factor -> character \n",
    "        continent = ifelse(continent == \"Europe\", \"EU\", continent))"
   ]
  },
  {
   "cell_type": "markdown",
   "id": "709bfbe8",
   "metadata": {},
   "source": [
    "## 2.8. Renaming columns with **`rename()`**"
   ]
  },
  {
   "cell_type": "markdown",
   "id": "6e9f45e6",
   "metadata": {},
   "source": [
    "`rename(.data, …)` rename columns.\n",
    "Let's rename column `pop` to poulation:"
   ]
  },
  {
   "cell_type": "code",
   "execution_count": 1,
   "id": "c5462388",
   "metadata": {},
   "outputs": [
    {
     "ename": "ERROR",
     "evalue": "Error in data2002 %>% rename(population = pop) %>% select(1:5): could not find function \"%>%\"\n",
     "output_type": "error",
     "traceback": [
      "Error in data2002 %>% rename(population = pop) %>% select(1:5): could not find function \"%>%\"\nTraceback:\n"
     ]
    }
   ],
   "source": [
    "data2002_renamed <- data2002 %>% \n",
    "                rename(population = pop) %>%\n",
    "                select(1:5)\n",
    "data2002_renamed"
   ]
  },
  {
   "cell_type": "markdown",
   "id": "7c5b4309-cd07-4a7f-808e-927205e28ea6",
   "metadata": {},
   "source": [
    "---"
   ]
  },
  {
   "cell_type": "markdown",
   "id": "038d51d6",
   "metadata": {},
   "source": [
    "## 2.9. Calculations with **`group_by()`** + **`summarise()`**"
   ]
  },
  {
   "cell_type": "markdown",
   "id": "dae66025",
   "metadata": {},
   "source": [
    "`group_by(.data, ..., add = FALSE)` returns copy of table grouped by defined columns."
   ]
  },
  {
   "cell_type": "markdown",
   "id": "755925d7",
   "metadata": {},
   "source": [
    "Let's find average by `lifeExp` for each `continent` in `2002` (ouput is `continent`, `lifeExpAvg2002`, `countriesCount`, `year = 2002`):"
   ]
  },
  {
   "cell_type": "code",
   "execution_count": 212,
   "id": "aa8032ed",
   "metadata": {},
   "outputs": [
    {
     "data": {
      "text/html": [
       "<table class=\"dataframe\">\n",
       "<caption>A tibble: 5 × 4</caption>\n",
       "<thead>\n",
       "\t<tr><th scope=col>continent</th><th scope=col>lifeExpAvg2002</th><th scope=col>countriesCount</th><th scope=col>year</th></tr>\n",
       "\t<tr><th scope=col>&lt;fct&gt;</th><th scope=col>&lt;dbl&gt;</th><th scope=col>&lt;int&gt;</th><th scope=col>&lt;dbl&gt;</th></tr>\n",
       "</thead>\n",
       "<tbody>\n",
       "\t<tr><td>Africa  </td><td>53.32523</td><td>52</td><td>2002</td></tr>\n",
       "\t<tr><td>Americas</td><td>72.42204</td><td>25</td><td>2002</td></tr>\n",
       "\t<tr><td>Asia    </td><td>69.23388</td><td>33</td><td>2002</td></tr>\n",
       "\t<tr><td>Europe  </td><td>76.70060</td><td>30</td><td>2002</td></tr>\n",
       "\t<tr><td>Oceania </td><td>79.74000</td><td> 2</td><td>2002</td></tr>\n",
       "</tbody>\n",
       "</table>\n"
      ],
      "text/latex": [
       "A tibble: 5 × 4\n",
       "\\begin{tabular}{llll}\n",
       " continent & lifeExpAvg2002 & countriesCount & year\\\\\n",
       " <fct> & <dbl> & <int> & <dbl>\\\\\n",
       "\\hline\n",
       "\t Africa   & 53.32523 & 52 & 2002\\\\\n",
       "\t Americas & 72.42204 & 25 & 2002\\\\\n",
       "\t Asia     & 69.23388 & 33 & 2002\\\\\n",
       "\t Europe   & 76.70060 & 30 & 2002\\\\\n",
       "\t Oceania  & 79.74000 &  2 & 2002\\\\\n",
       "\\end{tabular}\n"
      ],
      "text/markdown": [
       "\n",
       "A tibble: 5 × 4\n",
       "\n",
       "| continent &lt;fct&gt; | lifeExpAvg2002 &lt;dbl&gt; | countriesCount &lt;int&gt; | year &lt;dbl&gt; |\n",
       "|---|---|---|---|\n",
       "| Africa   | 53.32523 | 52 | 2002 |\n",
       "| Americas | 72.42204 | 25 | 2002 |\n",
       "| Asia     | 69.23388 | 33 | 2002 |\n",
       "| Europe   | 76.70060 | 30 | 2002 |\n",
       "| Oceania  | 79.74000 |  2 | 2002 |\n",
       "\n"
      ],
      "text/plain": [
       "  continent lifeExpAvg2002 countriesCount year\n",
       "1 Africa    53.32523       52             2002\n",
       "2 Americas  72.42204       25             2002\n",
       "3 Asia      69.23388       33             2002\n",
       "4 Europe    76.70060       30             2002\n",
       "5 Oceania   79.74000        2             2002"
      ]
     },
     "metadata": {},
     "output_type": "display_data"
    }
   ],
   "source": [
    "grouped_data2002 <- gapminder %>%\n",
    "            filter(year == 2002) %>% # year\n",
    "            group_by(continent) %>% # grouping condition\n",
    "            summarise(\n",
    "                lifeExpAvg2002 = mean(lifeExp),\n",
    "                countriesCount = n() # n() count of rows in group                \n",
    "            ) %>%\n",
    "            mutate(year = 2002)\n",
    "grouped_data2002"
   ]
  },
  {
   "cell_type": "markdown",
   "id": "91bb37a6",
   "metadata": {},
   "source": [
    "Let's find total `population` for each `continent` in `2002` (ouput is `continent`, `totalPop`, `year`):"
   ]
  },
  {
   "cell_type": "code",
   "execution_count": 211,
   "id": "d8b3f567",
   "metadata": {},
   "outputs": [
    {
     "data": {
      "text/html": [
       "<table class=\"dataframe\">\n",
       "<caption>A tibble: 5 × 3</caption>\n",
       "<thead>\n",
       "\t<tr><th scope=col>continent</th><th scope=col>totalPop</th><th scope=col>year</th></tr>\n",
       "\t<tr><th scope=col>&lt;fct&gt;</th><th scope=col>&lt;dbl&gt;</th><th scope=col>&lt;dbl&gt;</th></tr>\n",
       "</thead>\n",
       "<tbody>\n",
       "\t<tr><td>Africa  </td><td> 833723916</td><td>2002</td></tr>\n",
       "\t<tr><td>Americas</td><td> 849772762</td><td>2002</td></tr>\n",
       "\t<tr><td>Asia    </td><td>3601802203</td><td>2002</td></tr>\n",
       "\t<tr><td>Europe  </td><td> 578223869</td><td>2002</td></tr>\n",
       "\t<tr><td>Oceania </td><td>  23454829</td><td>2002</td></tr>\n",
       "</tbody>\n",
       "</table>\n"
      ],
      "text/latex": [
       "A tibble: 5 × 3\n",
       "\\begin{tabular}{lll}\n",
       " continent & totalPop & year\\\\\n",
       " <fct> & <dbl> & <dbl>\\\\\n",
       "\\hline\n",
       "\t Africa   &  833723916 & 2002\\\\\n",
       "\t Americas &  849772762 & 2002\\\\\n",
       "\t Asia     & 3601802203 & 2002\\\\\n",
       "\t Europe   &  578223869 & 2002\\\\\n",
       "\t Oceania  &   23454829 & 2002\\\\\n",
       "\\end{tabular}\n"
      ],
      "text/markdown": [
       "\n",
       "A tibble: 5 × 3\n",
       "\n",
       "| continent &lt;fct&gt; | totalPop &lt;dbl&gt; | year &lt;dbl&gt; |\n",
       "|---|---|---|\n",
       "| Africa   |  833723916 | 2002 |\n",
       "| Americas |  849772762 | 2002 |\n",
       "| Asia     | 3601802203 | 2002 |\n",
       "| Europe   |  578223869 | 2002 |\n",
       "| Oceania  |   23454829 | 2002 |\n",
       "\n"
      ],
      "text/plain": [
       "  continent totalPop   year\n",
       "1 Africa     833723916 2002\n",
       "2 Americas   849772762 2002\n",
       "3 Asia      3601802203 2002\n",
       "4 Europe     578223869 2002\n",
       "5 Oceania     23454829 2002"
      ]
     },
     "metadata": {},
     "output_type": "display_data"
    }
   ],
   "source": [
    "grouped_data2002pop <- gapminder %>%\n",
    "            filter(year == 2002) %>% # year\n",
    "            group_by(continent) %>% # grouping condition\n",
    "            summarise(\n",
    "                totalPop = sum(pop)            \n",
    "            ) %>%\n",
    "            mutate(year = 2002)\n",
    "grouped_data2002pop"
   ]
  },
  {
   "cell_type": "markdown",
   "id": "d0725f7d",
   "metadata": {},
   "source": [
    "There are additional variations of `summarise()`:\n",
    "\n",
    "- [x] `summarise_all()` - Apply funs to every column. \n",
    "- [x] `summarise_at()` - Apply funs to specific columns.  \n",
    "- [x] `summarise_if()` - Apply funs to all cols of one type."
   ]
  },
  {
   "cell_type": "markdown",
   "id": "bd16335f-8a15-4a69-b98d-a4cbeadd7af7",
   "metadata": {},
   "source": [
    "---"
   ]
  },
  {
   "cell_type": "markdown",
   "id": "96a31f85",
   "metadata": {},
   "source": [
    "## 2.10. Binding rows and columns"
   ]
  },
  {
   "cell_type": "markdown",
   "id": "051ae998",
   "metadata": {},
   "source": [
    "`bind_rows(.data, …)` helps to unite two dataframes with the same columns order and names. "
   ]
  },
  {
   "cell_type": "markdown",
   "id": "7d78a54d",
   "metadata": {},
   "source": [
    "So, if we need add one data frame to an other vertically (bind rows) we shoul use `bind_rows`:"
   ]
  },
  {
   "cell_type": "code",
   "execution_count": 217,
   "id": "1476da2b",
   "metadata": {},
   "outputs": [
    {
     "data": {
      "text/html": [
       "<table class=\"dataframe\">\n",
       "<caption>A tibble: 5 × 4</caption>\n",
       "<thead>\n",
       "\t<tr><th scope=col>continent</th><th scope=col>lifeExpAvg</th><th scope=col>countriesCount</th><th scope=col>year</th></tr>\n",
       "\t<tr><th scope=col>&lt;fct&gt;</th><th scope=col>&lt;dbl&gt;</th><th scope=col>&lt;int&gt;</th><th scope=col>&lt;dbl&gt;</th></tr>\n",
       "</thead>\n",
       "<tbody>\n",
       "\t<tr><td>Africa  </td><td>53.32523</td><td>52</td><td>2002</td></tr>\n",
       "\t<tr><td>Americas</td><td>72.42204</td><td>25</td><td>2002</td></tr>\n",
       "\t<tr><td>Asia    </td><td>69.23388</td><td>33</td><td>2002</td></tr>\n",
       "\t<tr><td>Europe  </td><td>76.70060</td><td>30</td><td>2002</td></tr>\n",
       "\t<tr><td>Oceania </td><td>79.74000</td><td> 2</td><td>2002</td></tr>\n",
       "</tbody>\n",
       "</table>\n"
      ],
      "text/latex": [
       "A tibble: 5 × 4\n",
       "\\begin{tabular}{llll}\n",
       " continent & lifeExpAvg & countriesCount & year\\\\\n",
       " <fct> & <dbl> & <int> & <dbl>\\\\\n",
       "\\hline\n",
       "\t Africa   & 53.32523 & 52 & 2002\\\\\n",
       "\t Americas & 72.42204 & 25 & 2002\\\\\n",
       "\t Asia     & 69.23388 & 33 & 2002\\\\\n",
       "\t Europe   & 76.70060 & 30 & 2002\\\\\n",
       "\t Oceania  & 79.74000 &  2 & 2002\\\\\n",
       "\\end{tabular}\n"
      ],
      "text/markdown": [
       "\n",
       "A tibble: 5 × 4\n",
       "\n",
       "| continent &lt;fct&gt; | lifeExpAvg &lt;dbl&gt; | countriesCount &lt;int&gt; | year &lt;dbl&gt; |\n",
       "|---|---|---|---|\n",
       "| Africa   | 53.32523 | 52 | 2002 |\n",
       "| Americas | 72.42204 | 25 | 2002 |\n",
       "| Asia     | 69.23388 | 33 | 2002 |\n",
       "| Europe   | 76.70060 | 30 | 2002 |\n",
       "| Oceania  | 79.74000 |  2 | 2002 |\n",
       "\n"
      ],
      "text/plain": [
       "  continent lifeExpAvg countriesCount year\n",
       "1 Africa    53.32523   52             2002\n",
       "2 Americas  72.42204   25             2002\n",
       "3 Asia      69.23388   33             2002\n",
       "4 Europe    76.70060   30             2002\n",
       "5 Oceania   79.74000    2             2002"
      ]
     },
     "metadata": {},
     "output_type": "display_data"
    }
   ],
   "source": [
    "grouped_data2002 <- gapminder %>%\n",
    "            filter(year == 2002) %>% # year\n",
    "            group_by(continent) %>% # grouping condition\n",
    "            summarise(\n",
    "                lifeExpAvg = mean(lifeExp),\n",
    "                countriesCount = n() # n() count of rows in group                \n",
    "            ) %>%\n",
    "            mutate(year = 2002)\n",
    "grouped_data2002"
   ]
  },
  {
   "cell_type": "code",
   "execution_count": 219,
   "id": "95dde6c1",
   "metadata": {},
   "outputs": [
    {
     "data": {
      "text/html": [
       "<table class=\"dataframe\">\n",
       "<caption>A tibble: 5 × 4</caption>\n",
       "<thead>\n",
       "\t<tr><th scope=col>continent</th><th scope=col>lifeExpAvg</th><th scope=col>countriesCount</th><th scope=col>year</th></tr>\n",
       "\t<tr><th scope=col>&lt;fct&gt;</th><th scope=col>&lt;dbl&gt;</th><th scope=col>&lt;int&gt;</th><th scope=col>&lt;dbl&gt;</th></tr>\n",
       "</thead>\n",
       "<tbody>\n",
       "\t<tr><td>Africa  </td><td>54.80604</td><td>52</td><td>2007</td></tr>\n",
       "\t<tr><td>Americas</td><td>73.60812</td><td>25</td><td>2007</td></tr>\n",
       "\t<tr><td>Asia    </td><td>70.72848</td><td>33</td><td>2007</td></tr>\n",
       "\t<tr><td>Europe  </td><td>77.64860</td><td>30</td><td>2007</td></tr>\n",
       "\t<tr><td>Oceania </td><td>80.71950</td><td> 2</td><td>2007</td></tr>\n",
       "</tbody>\n",
       "</table>\n"
      ],
      "text/latex": [
       "A tibble: 5 × 4\n",
       "\\begin{tabular}{llll}\n",
       " continent & lifeExpAvg & countriesCount & year\\\\\n",
       " <fct> & <dbl> & <int> & <dbl>\\\\\n",
       "\\hline\n",
       "\t Africa   & 54.80604 & 52 & 2007\\\\\n",
       "\t Americas & 73.60812 & 25 & 2007\\\\\n",
       "\t Asia     & 70.72848 & 33 & 2007\\\\\n",
       "\t Europe   & 77.64860 & 30 & 2007\\\\\n",
       "\t Oceania  & 80.71950 &  2 & 2007\\\\\n",
       "\\end{tabular}\n"
      ],
      "text/markdown": [
       "\n",
       "A tibble: 5 × 4\n",
       "\n",
       "| continent &lt;fct&gt; | lifeExpAvg &lt;dbl&gt; | countriesCount &lt;int&gt; | year &lt;dbl&gt; |\n",
       "|---|---|---|---|\n",
       "| Africa   | 54.80604 | 52 | 2007 |\n",
       "| Americas | 73.60812 | 25 | 2007 |\n",
       "| Asia     | 70.72848 | 33 | 2007 |\n",
       "| Europe   | 77.64860 | 30 | 2007 |\n",
       "| Oceania  | 80.71950 |  2 | 2007 |\n",
       "\n"
      ],
      "text/plain": [
       "  continent lifeExpAvg countriesCount year\n",
       "1 Africa    54.80604   52             2007\n",
       "2 Americas  73.60812   25             2007\n",
       "3 Asia      70.72848   33             2007\n",
       "4 Europe    77.64860   30             2007\n",
       "5 Oceania   80.71950    2             2007"
      ]
     },
     "metadata": {},
     "output_type": "display_data"
    }
   ],
   "source": [
    "grouped_data2007 <- gapminder %>%\n",
    "            filter(year == 2007) %>% # year\n",
    "            group_by(continent) %>% # grouping condition\n",
    "            summarise(\n",
    "                lifeExpAvg = mean(lifeExp),\n",
    "                countriesCount = n() # n() count of rows in group                \n",
    "            ) %>%\n",
    "            mutate(year = 2007)\n",
    "grouped_data2007"
   ]
  },
  {
   "cell_type": "markdown",
   "id": "2182789b",
   "metadata": {},
   "source": [
    "Unite them:"
   ]
  },
  {
   "cell_type": "code",
   "execution_count": 221,
   "id": "30def935",
   "metadata": {},
   "outputs": [
    {
     "data": {
      "text/html": [
       "<table class=\"dataframe\">\n",
       "<caption>A tibble: 10 × 4</caption>\n",
       "<thead>\n",
       "\t<tr><th scope=col>continent</th><th scope=col>lifeExpAvg</th><th scope=col>countriesCount</th><th scope=col>year</th></tr>\n",
       "\t<tr><th scope=col>&lt;fct&gt;</th><th scope=col>&lt;dbl&gt;</th><th scope=col>&lt;int&gt;</th><th scope=col>&lt;dbl&gt;</th></tr>\n",
       "</thead>\n",
       "<tbody>\n",
       "\t<tr><td>Africa  </td><td>53.32523</td><td>52</td><td>2002</td></tr>\n",
       "\t<tr><td>Americas</td><td>72.42204</td><td>25</td><td>2002</td></tr>\n",
       "\t<tr><td>Asia    </td><td>69.23388</td><td>33</td><td>2002</td></tr>\n",
       "\t<tr><td>Europe  </td><td>76.70060</td><td>30</td><td>2002</td></tr>\n",
       "\t<tr><td>Oceania </td><td>79.74000</td><td> 2</td><td>2002</td></tr>\n",
       "\t<tr><td>Africa  </td><td>54.80604</td><td>52</td><td>2007</td></tr>\n",
       "\t<tr><td>Americas</td><td>73.60812</td><td>25</td><td>2007</td></tr>\n",
       "\t<tr><td>Asia    </td><td>70.72848</td><td>33</td><td>2007</td></tr>\n",
       "\t<tr><td>Europe  </td><td>77.64860</td><td>30</td><td>2007</td></tr>\n",
       "\t<tr><td>Oceania </td><td>80.71950</td><td> 2</td><td>2007</td></tr>\n",
       "</tbody>\n",
       "</table>\n"
      ],
      "text/latex": [
       "A tibble: 10 × 4\n",
       "\\begin{tabular}{llll}\n",
       " continent & lifeExpAvg & countriesCount & year\\\\\n",
       " <fct> & <dbl> & <int> & <dbl>\\\\\n",
       "\\hline\n",
       "\t Africa   & 53.32523 & 52 & 2002\\\\\n",
       "\t Americas & 72.42204 & 25 & 2002\\\\\n",
       "\t Asia     & 69.23388 & 33 & 2002\\\\\n",
       "\t Europe   & 76.70060 & 30 & 2002\\\\\n",
       "\t Oceania  & 79.74000 &  2 & 2002\\\\\n",
       "\t Africa   & 54.80604 & 52 & 2007\\\\\n",
       "\t Americas & 73.60812 & 25 & 2007\\\\\n",
       "\t Asia     & 70.72848 & 33 & 2007\\\\\n",
       "\t Europe   & 77.64860 & 30 & 2007\\\\\n",
       "\t Oceania  & 80.71950 &  2 & 2007\\\\\n",
       "\\end{tabular}\n"
      ],
      "text/markdown": [
       "\n",
       "A tibble: 10 × 4\n",
       "\n",
       "| continent &lt;fct&gt; | lifeExpAvg &lt;dbl&gt; | countriesCount &lt;int&gt; | year &lt;dbl&gt; |\n",
       "|---|---|---|---|\n",
       "| Africa   | 53.32523 | 52 | 2002 |\n",
       "| Americas | 72.42204 | 25 | 2002 |\n",
       "| Asia     | 69.23388 | 33 | 2002 |\n",
       "| Europe   | 76.70060 | 30 | 2002 |\n",
       "| Oceania  | 79.74000 |  2 | 2002 |\n",
       "| Africa   | 54.80604 | 52 | 2007 |\n",
       "| Americas | 73.60812 | 25 | 2007 |\n",
       "| Asia     | 70.72848 | 33 | 2007 |\n",
       "| Europe   | 77.64860 | 30 | 2007 |\n",
       "| Oceania  | 80.71950 |  2 | 2007 |\n",
       "\n"
      ],
      "text/plain": [
       "   continent lifeExpAvg countriesCount year\n",
       "1  Africa    53.32523   52             2002\n",
       "2  Americas  72.42204   25             2002\n",
       "3  Asia      69.23388   33             2002\n",
       "4  Europe    76.70060   30             2002\n",
       "5  Oceania   79.74000    2             2002\n",
       "6  Africa    54.80604   52             2007\n",
       "7  Americas  73.60812   25             2007\n",
       "8  Asia      70.72848   33             2007\n",
       "9  Europe    77.64860   30             2007\n",
       "10 Oceania   80.71950    2             2007"
      ]
     },
     "metadata": {},
     "output_type": "display_data"
    }
   ],
   "source": [
    "grouped_data <- grouped_data2002 %>%\n",
    "                    bind_rows(grouped_data2007)\n",
    "grouped_data"
   ]
  },
  {
   "cell_type": "markdown",
   "id": "8b87e94d",
   "metadata": {},
   "source": [
    "`bind_cols(.data, …)` helps to unite two dataframes with the same rows count. "
   ]
  },
  {
   "cell_type": "code",
   "execution_count": 224,
   "id": "937a6c2b",
   "metadata": {},
   "outputs": [
    {
     "data": {
      "text/html": [
       "<table class=\"dataframe\">\n",
       "<caption>A tibble: 5 × 3</caption>\n",
       "<thead>\n",
       "\t<tr><th scope=col>continent</th><th scope=col>totalPop</th><th scope=col>year</th></tr>\n",
       "\t<tr><th scope=col>&lt;fct&gt;</th><th scope=col>&lt;dbl&gt;</th><th scope=col>&lt;dbl&gt;</th></tr>\n",
       "</thead>\n",
       "<tbody>\n",
       "\t<tr><td>Africa  </td><td> 833723916</td><td>2002</td></tr>\n",
       "\t<tr><td>Americas</td><td> 849772762</td><td>2002</td></tr>\n",
       "\t<tr><td>Asia    </td><td>3601802203</td><td>2002</td></tr>\n",
       "\t<tr><td>Europe  </td><td> 578223869</td><td>2002</td></tr>\n",
       "\t<tr><td>Oceania </td><td>  23454829</td><td>2002</td></tr>\n",
       "</tbody>\n",
       "</table>\n"
      ],
      "text/latex": [
       "A tibble: 5 × 3\n",
       "\\begin{tabular}{lll}\n",
       " continent & totalPop & year\\\\\n",
       " <fct> & <dbl> & <dbl>\\\\\n",
       "\\hline\n",
       "\t Africa   &  833723916 & 2002\\\\\n",
       "\t Americas &  849772762 & 2002\\\\\n",
       "\t Asia     & 3601802203 & 2002\\\\\n",
       "\t Europe   &  578223869 & 2002\\\\\n",
       "\t Oceania  &   23454829 & 2002\\\\\n",
       "\\end{tabular}\n"
      ],
      "text/markdown": [
       "\n",
       "A tibble: 5 × 3\n",
       "\n",
       "| continent &lt;fct&gt; | totalPop &lt;dbl&gt; | year &lt;dbl&gt; |\n",
       "|---|---|---|\n",
       "| Africa   |  833723916 | 2002 |\n",
       "| Americas |  849772762 | 2002 |\n",
       "| Asia     | 3601802203 | 2002 |\n",
       "| Europe   |  578223869 | 2002 |\n",
       "| Oceania  |   23454829 | 2002 |\n",
       "\n"
      ],
      "text/plain": [
       "  continent totalPop   year\n",
       "1 Africa     833723916 2002\n",
       "2 Americas   849772762 2002\n",
       "3 Asia      3601802203 2002\n",
       "4 Europe     578223869 2002\n",
       "5 Oceania     23454829 2002"
      ]
     },
     "metadata": {},
     "output_type": "display_data"
    }
   ],
   "source": [
    "grouped_data2002pop <- gapminder %>%\n",
    "            filter(year == 2002) %>% # year\n",
    "            group_by(continent) %>% # grouping condition\n",
    "            summarise(\n",
    "                totalPop = sum(pop)            \n",
    "            ) %>%\n",
    "            mutate(year = 2002)\n",
    "grouped_data2002pop"
   ]
  },
  {
   "cell_type": "markdown",
   "id": "c0ff33ed",
   "metadata": {},
   "source": [
    "Let's combine `grouped_data2002` and `popgrouped_data2002pop`:"
   ]
  },
  {
   "cell_type": "code",
   "execution_count": 228,
   "id": "b958a7f1",
   "metadata": {},
   "outputs": [
    {
     "name": "stderr",
     "output_type": "stream",
     "text": [
      "New names:\n",
      "* continent -> continent...1\n",
      "* year -> year...4\n",
      "* continent -> continent...5\n",
      "* year -> year...7\n",
      "\n"
     ]
    },
    {
     "data": {
      "text/html": [
       "<table class=\"dataframe\">\n",
       "<caption>A tibble: 5 × 7</caption>\n",
       "<thead>\n",
       "\t<tr><th scope=col>continent...1</th><th scope=col>lifeExpAvg</th><th scope=col>countriesCount</th><th scope=col>year...4</th><th scope=col>continent...5</th><th scope=col>totalPop</th><th scope=col>year...7</th></tr>\n",
       "\t<tr><th scope=col>&lt;fct&gt;</th><th scope=col>&lt;dbl&gt;</th><th scope=col>&lt;int&gt;</th><th scope=col>&lt;dbl&gt;</th><th scope=col>&lt;fct&gt;</th><th scope=col>&lt;dbl&gt;</th><th scope=col>&lt;dbl&gt;</th></tr>\n",
       "</thead>\n",
       "<tbody>\n",
       "\t<tr><td>Africa  </td><td>53.32523</td><td>52</td><td>2002</td><td>Africa  </td><td> 833723916</td><td>2002</td></tr>\n",
       "\t<tr><td>Americas</td><td>72.42204</td><td>25</td><td>2002</td><td>Americas</td><td> 849772762</td><td>2002</td></tr>\n",
       "\t<tr><td>Asia    </td><td>69.23388</td><td>33</td><td>2002</td><td>Asia    </td><td>3601802203</td><td>2002</td></tr>\n",
       "\t<tr><td>Europe  </td><td>76.70060</td><td>30</td><td>2002</td><td>Europe  </td><td> 578223869</td><td>2002</td></tr>\n",
       "\t<tr><td>Oceania </td><td>79.74000</td><td> 2</td><td>2002</td><td>Oceania </td><td>  23454829</td><td>2002</td></tr>\n",
       "</tbody>\n",
       "</table>\n"
      ],
      "text/latex": [
       "A tibble: 5 × 7\n",
       "\\begin{tabular}{lllllll}\n",
       " continent...1 & lifeExpAvg & countriesCount & year...4 & continent...5 & totalPop & year...7\\\\\n",
       " <fct> & <dbl> & <int> & <dbl> & <fct> & <dbl> & <dbl>\\\\\n",
       "\\hline\n",
       "\t Africa   & 53.32523 & 52 & 2002 & Africa   &  833723916 & 2002\\\\\n",
       "\t Americas & 72.42204 & 25 & 2002 & Americas &  849772762 & 2002\\\\\n",
       "\t Asia     & 69.23388 & 33 & 2002 & Asia     & 3601802203 & 2002\\\\\n",
       "\t Europe   & 76.70060 & 30 & 2002 & Europe   &  578223869 & 2002\\\\\n",
       "\t Oceania  & 79.74000 &  2 & 2002 & Oceania  &   23454829 & 2002\\\\\n",
       "\\end{tabular}\n"
      ],
      "text/markdown": [
       "\n",
       "A tibble: 5 × 7\n",
       "\n",
       "| continent...1 &lt;fct&gt; | lifeExpAvg &lt;dbl&gt; | countriesCount &lt;int&gt; | year...4 &lt;dbl&gt; | continent...5 &lt;fct&gt; | totalPop &lt;dbl&gt; | year...7 &lt;dbl&gt; |\n",
       "|---|---|---|---|---|---|---|\n",
       "| Africa   | 53.32523 | 52 | 2002 | Africa   |  833723916 | 2002 |\n",
       "| Americas | 72.42204 | 25 | 2002 | Americas |  849772762 | 2002 |\n",
       "| Asia     | 69.23388 | 33 | 2002 | Asia     | 3601802203 | 2002 |\n",
       "| Europe   | 76.70060 | 30 | 2002 | Europe   |  578223869 | 2002 |\n",
       "| Oceania  | 79.74000 |  2 | 2002 | Oceania  |   23454829 | 2002 |\n",
       "\n"
      ],
      "text/plain": [
       "  continent...1 lifeExpAvg countriesCount year...4 continent...5 totalPop  \n",
       "1 Africa        53.32523   52             2002     Africa         833723916\n",
       "2 Americas      72.42204   25             2002     Americas       849772762\n",
       "3 Asia          69.23388   33             2002     Asia          3601802203\n",
       "4 Europe        76.70060   30             2002     Europe         578223869\n",
       "5 Oceania       79.74000    2             2002     Oceania         23454829\n",
       "  year...7\n",
       "1 2002    \n",
       "2 2002    \n",
       "3 2002    \n",
       "4 2002    \n",
       "5 2002    "
      ]
     },
     "metadata": {},
     "output_type": "display_data"
    }
   ],
   "source": [
    "grouped_data <- grouped_data2002 %>% \n",
    "                    bind_cols(grouped_data2002pop)\n",
    "grouped_data\n",
    "\n",
    "# columns with the same name were renamed!"
   ]
  },
  {
   "cell_type": "markdown",
   "id": "707c35b6",
   "metadata": {},
   "source": [
    "You can remove same named variables before binding:"
   ]
  },
  {
   "cell_type": "code",
   "execution_count": 231,
   "id": "3a27dd3b",
   "metadata": {},
   "outputs": [
    {
     "data": {
      "text/html": [
       "<table class=\"dataframe\">\n",
       "<caption>A tibble: 5 × 5</caption>\n",
       "<thead>\n",
       "\t<tr><th scope=col>continent</th><th scope=col>lifeExpAvg</th><th scope=col>countriesCount</th><th scope=col>year</th><th scope=col>totalPop</th></tr>\n",
       "\t<tr><th scope=col>&lt;fct&gt;</th><th scope=col>&lt;dbl&gt;</th><th scope=col>&lt;int&gt;</th><th scope=col>&lt;dbl&gt;</th><th scope=col>&lt;dbl&gt;</th></tr>\n",
       "</thead>\n",
       "<tbody>\n",
       "\t<tr><td>Africa  </td><td>53.32523</td><td>52</td><td>2002</td><td> 833723916</td></tr>\n",
       "\t<tr><td>Americas</td><td>72.42204</td><td>25</td><td>2002</td><td> 849772762</td></tr>\n",
       "\t<tr><td>Asia    </td><td>69.23388</td><td>33</td><td>2002</td><td>3601802203</td></tr>\n",
       "\t<tr><td>Europe  </td><td>76.70060</td><td>30</td><td>2002</td><td> 578223869</td></tr>\n",
       "\t<tr><td>Oceania </td><td>79.74000</td><td> 2</td><td>2002</td><td>  23454829</td></tr>\n",
       "</tbody>\n",
       "</table>\n"
      ],
      "text/latex": [
       "A tibble: 5 × 5\n",
       "\\begin{tabular}{lllll}\n",
       " continent & lifeExpAvg & countriesCount & year & totalPop\\\\\n",
       " <fct> & <dbl> & <int> & <dbl> & <dbl>\\\\\n",
       "\\hline\n",
       "\t Africa   & 53.32523 & 52 & 2002 &  833723916\\\\\n",
       "\t Americas & 72.42204 & 25 & 2002 &  849772762\\\\\n",
       "\t Asia     & 69.23388 & 33 & 2002 & 3601802203\\\\\n",
       "\t Europe   & 76.70060 & 30 & 2002 &  578223869\\\\\n",
       "\t Oceania  & 79.74000 &  2 & 2002 &   23454829\\\\\n",
       "\\end{tabular}\n"
      ],
      "text/markdown": [
       "\n",
       "A tibble: 5 × 5\n",
       "\n",
       "| continent &lt;fct&gt; | lifeExpAvg &lt;dbl&gt; | countriesCount &lt;int&gt; | year &lt;dbl&gt; | totalPop &lt;dbl&gt; |\n",
       "|---|---|---|---|---|\n",
       "| Africa   | 53.32523 | 52 | 2002 |  833723916 |\n",
       "| Americas | 72.42204 | 25 | 2002 |  849772762 |\n",
       "| Asia     | 69.23388 | 33 | 2002 | 3601802203 |\n",
       "| Europe   | 76.70060 | 30 | 2002 |  578223869 |\n",
       "| Oceania  | 79.74000 |  2 | 2002 |   23454829 |\n",
       "\n"
      ],
      "text/plain": [
       "  continent lifeExpAvg countriesCount year totalPop  \n",
       "1 Africa    53.32523   52             2002  833723916\n",
       "2 Americas  72.42204   25             2002  849772762\n",
       "3 Asia      69.23388   33             2002 3601802203\n",
       "4 Europe    76.70060   30             2002  578223869\n",
       "5 Oceania   79.74000    2             2002   23454829"
      ]
     },
     "metadata": {},
     "output_type": "display_data"
    }
   ],
   "source": [
    "grouped_data <- grouped_data2002 %>% \n",
    "                    bind_cols(grouped_data2002pop %>%\n",
    "                                select(-continent, -year))\n",
    "grouped_data\n",
    "\n",
    "# better, but continents order is not the same in both frames \n",
    "# your data is going to be damaged"
   ]
  },
  {
   "cell_type": "code",
   "execution_count": 88,
   "id": "01b5041b",
   "metadata": {},
   "outputs": [
    {
     "ename": "ERROR",
     "evalue": "Error in arrange(., totalPop): object 'grouped_data2002pop' not found\n",
     "output_type": "error",
     "traceback": [
      "Error in arrange(., totalPop): object 'grouped_data2002pop' not found\nTraceback:\n",
      "1. grouped_data2002pop %>% arrange(totalPop)",
      "2. arrange(., totalPop)"
     ]
    }
   ],
   "source": [
    "grouped_data2002pop <- grouped_data2002pop %>% arrange(totalPop)\n",
    "\n",
    "grouped_data <- grouped_data2002 %>% \n",
    "                    bind_cols(grouped_data2002pop)\n",
    "grouped_data\n",
    "\n",
    "# you can see that continent fields different in the same row"
   ]
  },
  {
   "cell_type": "markdown",
   "id": "0c00f42d-ca3a-4afa-9b34-1325d01b4364",
   "metadata": {},
   "source": [
    "---"
   ]
  },
  {
   "cell_type": "markdown",
   "id": "8c21752e",
   "metadata": {},
   "source": [
    "## 2.11. `Join()`ing data"
   ]
  },
  {
   "cell_type": "markdown",
   "id": "49294c0c",
   "metadata": {},
   "source": [
    "To solve previous problem you can use set of `join()`-functions. `left_join()` can solve our previous example:"
   ]
  },
  {
   "cell_type": "code",
   "execution_count": 236,
   "id": "4daf0675",
   "metadata": {},
   "outputs": [
    {
     "data": {
      "text/html": [
       "<table class=\"dataframe\">\n",
       "<caption>A tibble: 5 × 6</caption>\n",
       "<thead>\n",
       "\t<tr><th scope=col>continent</th><th scope=col>lifeExpAvg</th><th scope=col>countriesCount</th><th scope=col>year.x</th><th scope=col>totalPop</th><th scope=col>year.y</th></tr>\n",
       "\t<tr><th scope=col>&lt;fct&gt;</th><th scope=col>&lt;dbl&gt;</th><th scope=col>&lt;int&gt;</th><th scope=col>&lt;dbl&gt;</th><th scope=col>&lt;dbl&gt;</th><th scope=col>&lt;dbl&gt;</th></tr>\n",
       "</thead>\n",
       "<tbody>\n",
       "\t<tr><td>Africa  </td><td>53.32523</td><td>52</td><td>2002</td><td> 833723916</td><td>2002</td></tr>\n",
       "\t<tr><td>Americas</td><td>72.42204</td><td>25</td><td>2002</td><td> 849772762</td><td>2002</td></tr>\n",
       "\t<tr><td>Asia    </td><td>69.23388</td><td>33</td><td>2002</td><td>3601802203</td><td>2002</td></tr>\n",
       "\t<tr><td>Europe  </td><td>76.70060</td><td>30</td><td>2002</td><td> 578223869</td><td>2002</td></tr>\n",
       "\t<tr><td>Oceania </td><td>79.74000</td><td> 2</td><td>2002</td><td>  23454829</td><td>2002</td></tr>\n",
       "</tbody>\n",
       "</table>\n"
      ],
      "text/latex": [
       "A tibble: 5 × 6\n",
       "\\begin{tabular}{llllll}\n",
       " continent & lifeExpAvg & countriesCount & year.x & totalPop & year.y\\\\\n",
       " <fct> & <dbl> & <int> & <dbl> & <dbl> & <dbl>\\\\\n",
       "\\hline\n",
       "\t Africa   & 53.32523 & 52 & 2002 &  833723916 & 2002\\\\\n",
       "\t Americas & 72.42204 & 25 & 2002 &  849772762 & 2002\\\\\n",
       "\t Asia     & 69.23388 & 33 & 2002 & 3601802203 & 2002\\\\\n",
       "\t Europe   & 76.70060 & 30 & 2002 &  578223869 & 2002\\\\\n",
       "\t Oceania  & 79.74000 &  2 & 2002 &   23454829 & 2002\\\\\n",
       "\\end{tabular}\n"
      ],
      "text/markdown": [
       "\n",
       "A tibble: 5 × 6\n",
       "\n",
       "| continent &lt;fct&gt; | lifeExpAvg &lt;dbl&gt; | countriesCount &lt;int&gt; | year.x &lt;dbl&gt; | totalPop &lt;dbl&gt; | year.y &lt;dbl&gt; |\n",
       "|---|---|---|---|---|---|\n",
       "| Africa   | 53.32523 | 52 | 2002 |  833723916 | 2002 |\n",
       "| Americas | 72.42204 | 25 | 2002 |  849772762 | 2002 |\n",
       "| Asia     | 69.23388 | 33 | 2002 | 3601802203 | 2002 |\n",
       "| Europe   | 76.70060 | 30 | 2002 |  578223869 | 2002 |\n",
       "| Oceania  | 79.74000 |  2 | 2002 |   23454829 | 2002 |\n",
       "\n"
      ],
      "text/plain": [
       "  continent lifeExpAvg countriesCount year.x totalPop   year.y\n",
       "1 Africa    53.32523   52             2002    833723916 2002  \n",
       "2 Americas  72.42204   25             2002    849772762 2002  \n",
       "3 Asia      69.23388   33             2002   3601802203 2002  \n",
       "4 Europe    76.70060   30             2002    578223869 2002  \n",
       "5 Oceania   79.74000    2             2002     23454829 2002  "
      ]
     },
     "metadata": {},
     "output_type": "display_data"
    }
   ],
   "source": [
    "grouped_data2002pop <- grouped_data2002pop %>% arrange(totalPop)\n",
    "\n",
    "grouped_data <- grouped_data2002 %>% \n",
    "                    left_join(grouped_data2002pop, by = \"continent\")\n",
    "grouped_data\n",
    "\n",
    "# but we have duplicated year"
   ]
  },
  {
   "cell_type": "code",
   "execution_count": 239,
   "id": "6f5459a8",
   "metadata": {},
   "outputs": [
    {
     "data": {
      "text/html": [
       "<table class=\"dataframe\">\n",
       "<caption>A tibble: 5 × 5</caption>\n",
       "<thead>\n",
       "\t<tr><th scope=col>continent</th><th scope=col>lifeExpAvg</th><th scope=col>countriesCount</th><th scope=col>year</th><th scope=col>totalPop</th></tr>\n",
       "\t<tr><th scope=col>&lt;fct&gt;</th><th scope=col>&lt;dbl&gt;</th><th scope=col>&lt;int&gt;</th><th scope=col>&lt;dbl&gt;</th><th scope=col>&lt;dbl&gt;</th></tr>\n",
       "</thead>\n",
       "<tbody>\n",
       "\t<tr><td>Africa  </td><td>53.32523</td><td>52</td><td>2002</td><td> 833723916</td></tr>\n",
       "\t<tr><td>Americas</td><td>72.42204</td><td>25</td><td>2002</td><td> 849772762</td></tr>\n",
       "\t<tr><td>Asia    </td><td>69.23388</td><td>33</td><td>2002</td><td>3601802203</td></tr>\n",
       "\t<tr><td>Europe  </td><td>76.70060</td><td>30</td><td>2002</td><td> 578223869</td></tr>\n",
       "\t<tr><td>Oceania </td><td>79.74000</td><td> 2</td><td>2002</td><td>  23454829</td></tr>\n",
       "</tbody>\n",
       "</table>\n"
      ],
      "text/latex": [
       "A tibble: 5 × 5\n",
       "\\begin{tabular}{lllll}\n",
       " continent & lifeExpAvg & countriesCount & year & totalPop\\\\\n",
       " <fct> & <dbl> & <int> & <dbl> & <dbl>\\\\\n",
       "\\hline\n",
       "\t Africa   & 53.32523 & 52 & 2002 &  833723916\\\\\n",
       "\t Americas & 72.42204 & 25 & 2002 &  849772762\\\\\n",
       "\t Asia     & 69.23388 & 33 & 2002 & 3601802203\\\\\n",
       "\t Europe   & 76.70060 & 30 & 2002 &  578223869\\\\\n",
       "\t Oceania  & 79.74000 &  2 & 2002 &   23454829\\\\\n",
       "\\end{tabular}\n"
      ],
      "text/markdown": [
       "\n",
       "A tibble: 5 × 5\n",
       "\n",
       "| continent &lt;fct&gt; | lifeExpAvg &lt;dbl&gt; | countriesCount &lt;int&gt; | year &lt;dbl&gt; | totalPop &lt;dbl&gt; |\n",
       "|---|---|---|---|---|\n",
       "| Africa   | 53.32523 | 52 | 2002 |  833723916 |\n",
       "| Americas | 72.42204 | 25 | 2002 |  849772762 |\n",
       "| Asia     | 69.23388 | 33 | 2002 | 3601802203 |\n",
       "| Europe   | 76.70060 | 30 | 2002 |  578223869 |\n",
       "| Oceania  | 79.74000 |  2 | 2002 |   23454829 |\n",
       "\n"
      ],
      "text/plain": [
       "  continent lifeExpAvg countriesCount year totalPop  \n",
       "1 Africa    53.32523   52             2002  833723916\n",
       "2 Americas  72.42204   25             2002  849772762\n",
       "3 Asia      69.23388   33             2002 3601802203\n",
       "4 Europe    76.70060   30             2002  578223869\n",
       "5 Oceania   79.74000    2             2002   23454829"
      ]
     },
     "metadata": {},
     "output_type": "display_data"
    }
   ],
   "source": [
    "grouped_data2002pop <- grouped_data2002pop %>% arrange(totalPop)\n",
    "\n",
    "grouped_data <- grouped_data2002 %>% \n",
    "                    left_join(grouped_data2002pop, by = c(\"continent\", \"year\"))\n",
    "grouped_data\n",
    "\n",
    "#ok"
   ]
  },
  {
   "cell_type": "markdown",
   "id": "ea9dd7dc",
   "metadata": {},
   "source": [
    "Let's make a different data sets for testing `join()` fucntions:"
   ]
  },
  {
   "cell_type": "code",
   "execution_count": 241,
   "id": "7f078641",
   "metadata": {},
   "outputs": [
    {
     "data": {
      "text/html": [
       "<table class=\"dataframe\">\n",
       "<caption>A data.frame: 5 × 2</caption>\n",
       "<thead>\n",
       "\t<tr><th scope=col>Letter</th><th scope=col>Value</th></tr>\n",
       "\t<tr><th scope=col>&lt;chr&gt;</th><th scope=col>&lt;int&gt;</th></tr>\n",
       "</thead>\n",
       "<tbody>\n",
       "\t<tr><td>A</td><td>1</td></tr>\n",
       "\t<tr><td>B</td><td>2</td></tr>\n",
       "\t<tr><td>C</td><td>3</td></tr>\n",
       "\t<tr><td>D</td><td>4</td></tr>\n",
       "\t<tr><td>E</td><td>5</td></tr>\n",
       "</tbody>\n",
       "</table>\n"
      ],
      "text/latex": [
       "A data.frame: 5 × 2\n",
       "\\begin{tabular}{ll}\n",
       " Letter & Value\\\\\n",
       " <chr> & <int>\\\\\n",
       "\\hline\n",
       "\t A & 1\\\\\n",
       "\t B & 2\\\\\n",
       "\t C & 3\\\\\n",
       "\t D & 4\\\\\n",
       "\t E & 5\\\\\n",
       "\\end{tabular}\n"
      ],
      "text/markdown": [
       "\n",
       "A data.frame: 5 × 2\n",
       "\n",
       "| Letter &lt;chr&gt; | Value &lt;int&gt; |\n",
       "|---|---|\n",
       "| A | 1 |\n",
       "| B | 2 |\n",
       "| C | 3 |\n",
       "| D | 4 |\n",
       "| E | 5 |\n",
       "\n"
      ],
      "text/plain": [
       "  Letter Value\n",
       "1 A      1    \n",
       "2 B      2    \n",
       "3 C      3    \n",
       "4 D      4    \n",
       "5 E      5    "
      ]
     },
     "metadata": {},
     "output_type": "display_data"
    },
    {
     "data": {
      "text/html": [
       "<table class=\"dataframe\">\n",
       "<caption>A data.frame: 5 × 2</caption>\n",
       "<thead>\n",
       "\t<tr><th scope=col>Letter</th><th scope=col>Value</th></tr>\n",
       "\t<tr><th scope=col>&lt;chr&gt;</th><th scope=col>&lt;dbl&gt;</th></tr>\n",
       "</thead>\n",
       "<tbody>\n",
       "\t<tr><td>A</td><td>12</td></tr>\n",
       "\t<tr><td>B</td><td> 7</td></tr>\n",
       "\t<tr><td>C</td><td> 4</td></tr>\n",
       "\t<tr><td>D</td><td> 1</td></tr>\n",
       "\t<tr><td>F</td><td> 5</td></tr>\n",
       "</tbody>\n",
       "</table>\n"
      ],
      "text/latex": [
       "A data.frame: 5 × 2\n",
       "\\begin{tabular}{ll}\n",
       " Letter & Value\\\\\n",
       " <chr> & <dbl>\\\\\n",
       "\\hline\n",
       "\t A & 12\\\\\n",
       "\t B &  7\\\\\n",
       "\t C &  4\\\\\n",
       "\t D &  1\\\\\n",
       "\t F &  5\\\\\n",
       "\\end{tabular}\n"
      ],
      "text/markdown": [
       "\n",
       "A data.frame: 5 × 2\n",
       "\n",
       "| Letter &lt;chr&gt; | Value &lt;dbl&gt; |\n",
       "|---|---|\n",
       "| A | 12 |\n",
       "| B |  7 |\n",
       "| C |  4 |\n",
       "| D |  1 |\n",
       "| F |  5 |\n",
       "\n"
      ],
      "text/plain": [
       "  Letter Value\n",
       "1 A      12   \n",
       "2 B       7   \n",
       "3 C       4   \n",
       "4 D       1   \n",
       "5 F       5   "
      ]
     },
     "metadata": {},
     "output_type": "display_data"
    }
   ],
   "source": [
    "first_df <- data.frame(Letter = c(\"A\", \"B\", \"C\", \"D\", \"E\"),\n",
    "                      Value = c(1:5))\n",
    "\n",
    "second_df <- data.frame(Letter = c(\"A\", \"B\", \"C\", \"D\", \"F\"),\n",
    "                      Value = c(12, 7, 4, 1, 5))\n",
    "first_df\n",
    "second_df "
   ]
  },
  {
   "cell_type": "markdown",
   "id": "de8b1649",
   "metadata": {},
   "source": [
    "You can see that the last row `Letter` is different in dataframes. `left_join()` test is next."
   ]
  },
  {
   "cell_type": "code",
   "execution_count": 246,
   "id": "8e42bfec",
   "metadata": {},
   "outputs": [
    {
     "data": {
      "text/html": [
       "<table class=\"dataframe\">\n",
       "<caption>A data.frame: 5 × 3</caption>\n",
       "<thead>\n",
       "\t<tr><th scope=col>Letter</th><th scope=col>Value.x</th><th scope=col>Value.y</th></tr>\n",
       "\t<tr><th scope=col>&lt;chr&gt;</th><th scope=col>&lt;int&gt;</th><th scope=col>&lt;dbl&gt;</th></tr>\n",
       "</thead>\n",
       "<tbody>\n",
       "\t<tr><td>A</td><td>1</td><td>12</td></tr>\n",
       "\t<tr><td>B</td><td>2</td><td> 7</td></tr>\n",
       "\t<tr><td>C</td><td>3</td><td> 4</td></tr>\n",
       "\t<tr><td>D</td><td>4</td><td> 1</td></tr>\n",
       "\t<tr><td>E</td><td>5</td><td>NA</td></tr>\n",
       "</tbody>\n",
       "</table>\n"
      ],
      "text/latex": [
       "A data.frame: 5 × 3\n",
       "\\begin{tabular}{lll}\n",
       " Letter & Value.x & Value.y\\\\\n",
       " <chr> & <int> & <dbl>\\\\\n",
       "\\hline\n",
       "\t A & 1 & 12\\\\\n",
       "\t B & 2 &  7\\\\\n",
       "\t C & 3 &  4\\\\\n",
       "\t D & 4 &  1\\\\\n",
       "\t E & 5 & NA\\\\\n",
       "\\end{tabular}\n"
      ],
      "text/markdown": [
       "\n",
       "A data.frame: 5 × 3\n",
       "\n",
       "| Letter &lt;chr&gt; | Value.x &lt;int&gt; | Value.y &lt;dbl&gt; |\n",
       "|---|---|---|\n",
       "| A | 1 | 12 |\n",
       "| B | 2 |  7 |\n",
       "| C | 3 |  4 |\n",
       "| D | 4 |  1 |\n",
       "| E | 5 | NA |\n",
       "\n"
      ],
      "text/plain": [
       "  Letter Value.x Value.y\n",
       "1 A      1       12     \n",
       "2 B      2        7     \n",
       "3 C      3        4     \n",
       "4 D      4        1     \n",
       "5 E      5       NA     "
      ]
     },
     "metadata": {},
     "output_type": "display_data"
    }
   ],
   "source": [
    "first_df %>% left_join(second_df, by = \"Letter\")\n",
    "\n",
    "# there is no F letter, becouse first_db joined only known first_df Letters."
   ]
  },
  {
   "cell_type": "code",
   "execution_count": 248,
   "id": "ef76dc91",
   "metadata": {},
   "outputs": [
    {
     "data": {
      "text/html": [
       "<table class=\"dataframe\">\n",
       "<caption>A data.frame: 5 × 3</caption>\n",
       "<thead>\n",
       "\t<tr><th scope=col>Letter</th><th scope=col>Value.x</th><th scope=col>Value.y</th></tr>\n",
       "\t<tr><th scope=col>&lt;chr&gt;</th><th scope=col>&lt;int&gt;</th><th scope=col>&lt;dbl&gt;</th></tr>\n",
       "</thead>\n",
       "<tbody>\n",
       "\t<tr><td>A</td><td> 1</td><td>12</td></tr>\n",
       "\t<tr><td>B</td><td> 2</td><td> 7</td></tr>\n",
       "\t<tr><td>C</td><td> 3</td><td> 4</td></tr>\n",
       "\t<tr><td>D</td><td> 4</td><td> 1</td></tr>\n",
       "\t<tr><td>F</td><td>NA</td><td> 5</td></tr>\n",
       "</tbody>\n",
       "</table>\n"
      ],
      "text/latex": [
       "A data.frame: 5 × 3\n",
       "\\begin{tabular}{lll}\n",
       " Letter & Value.x & Value.y\\\\\n",
       " <chr> & <int> & <dbl>\\\\\n",
       "\\hline\n",
       "\t A &  1 & 12\\\\\n",
       "\t B &  2 &  7\\\\\n",
       "\t C &  3 &  4\\\\\n",
       "\t D &  4 &  1\\\\\n",
       "\t F & NA &  5\\\\\n",
       "\\end{tabular}\n"
      ],
      "text/markdown": [
       "\n",
       "A data.frame: 5 × 3\n",
       "\n",
       "| Letter &lt;chr&gt; | Value.x &lt;int&gt; | Value.y &lt;dbl&gt; |\n",
       "|---|---|---|\n",
       "| A |  1 | 12 |\n",
       "| B |  2 |  7 |\n",
       "| C |  3 |  4 |\n",
       "| D |  4 |  1 |\n",
       "| F | NA |  5 |\n",
       "\n"
      ],
      "text/plain": [
       "  Letter Value.x Value.y\n",
       "1 A       1      12     \n",
       "2 B       2       7     \n",
       "3 C       3       4     \n",
       "4 D       4       1     \n",
       "5 F      NA       5     "
      ]
     },
     "metadata": {},
     "output_type": "display_data"
    }
   ],
   "source": [
    "first_df %>% right_join(second_df, by = \"Letter\")\n",
    "\n",
    "# right_join! there is no E letter, becouse first_db joined only known second_df Letters."
   ]
  },
  {
   "cell_type": "code",
   "execution_count": 251,
   "id": "1e4ad87a",
   "metadata": {},
   "outputs": [
    {
     "data": {
      "text/html": [
       "<table class=\"dataframe\">\n",
       "<caption>A data.frame: 4 × 3</caption>\n",
       "<thead>\n",
       "\t<tr><th scope=col>Letter</th><th scope=col>Value.x</th><th scope=col>Value.y</th></tr>\n",
       "\t<tr><th scope=col>&lt;chr&gt;</th><th scope=col>&lt;int&gt;</th><th scope=col>&lt;dbl&gt;</th></tr>\n",
       "</thead>\n",
       "<tbody>\n",
       "\t<tr><td>A</td><td>1</td><td>12</td></tr>\n",
       "\t<tr><td>B</td><td>2</td><td> 7</td></tr>\n",
       "\t<tr><td>C</td><td>3</td><td> 4</td></tr>\n",
       "\t<tr><td>D</td><td>4</td><td> 1</td></tr>\n",
       "</tbody>\n",
       "</table>\n"
      ],
      "text/latex": [
       "A data.frame: 4 × 3\n",
       "\\begin{tabular}{lll}\n",
       " Letter & Value.x & Value.y\\\\\n",
       " <chr> & <int> & <dbl>\\\\\n",
       "\\hline\n",
       "\t A & 1 & 12\\\\\n",
       "\t B & 2 &  7\\\\\n",
       "\t C & 3 &  4\\\\\n",
       "\t D & 4 &  1\\\\\n",
       "\\end{tabular}\n"
      ],
      "text/markdown": [
       "\n",
       "A data.frame: 4 × 3\n",
       "\n",
       "| Letter &lt;chr&gt; | Value.x &lt;int&gt; | Value.y &lt;dbl&gt; |\n",
       "|---|---|---|\n",
       "| A | 1 | 12 |\n",
       "| B | 2 |  7 |\n",
       "| C | 3 |  4 |\n",
       "| D | 4 |  1 |\n",
       "\n"
      ],
      "text/plain": [
       "  Letter Value.x Value.y\n",
       "1 A      1       12     \n",
       "2 B      2        7     \n",
       "3 C      3        4     \n",
       "4 D      4        1     "
      ]
     },
     "metadata": {},
     "output_type": "display_data"
    }
   ],
   "source": [
    "first_df %>% inner_join(second_df, by = \"Letter\")\n",
    "\n",
    "# inner_join! there is no E and F Letters, \n",
    "# only known both first_df and second_df are left here."
   ]
  },
  {
   "cell_type": "code",
   "execution_count": 301,
   "id": "ef6b4e25",
   "metadata": {},
   "outputs": [
    {
     "data": {
      "text/html": [
       "<table class=\"dataframe\">\n",
       "<caption>A data.frame: 6 × 3</caption>\n",
       "<thead>\n",
       "\t<tr><th scope=col>Letter</th><th scope=col>Value.x</th><th scope=col>Value.y</th></tr>\n",
       "\t<tr><th scope=col>&lt;chr&gt;</th><th scope=col>&lt;int&gt;</th><th scope=col>&lt;dbl&gt;</th></tr>\n",
       "</thead>\n",
       "<tbody>\n",
       "\t<tr><td>A</td><td> 1</td><td>12</td></tr>\n",
       "\t<tr><td>B</td><td> 2</td><td> 7</td></tr>\n",
       "\t<tr><td>C</td><td> 3</td><td> 4</td></tr>\n",
       "\t<tr><td>D</td><td> 4</td><td> 1</td></tr>\n",
       "\t<tr><td>E</td><td> 5</td><td>NA</td></tr>\n",
       "\t<tr><td>F</td><td>NA</td><td> 5</td></tr>\n",
       "</tbody>\n",
       "</table>\n"
      ],
      "text/latex": [
       "A data.frame: 6 × 3\n",
       "\\begin{tabular}{lll}\n",
       " Letter & Value.x & Value.y\\\\\n",
       " <chr> & <int> & <dbl>\\\\\n",
       "\\hline\n",
       "\t A &  1 & 12\\\\\n",
       "\t B &  2 &  7\\\\\n",
       "\t C &  3 &  4\\\\\n",
       "\t D &  4 &  1\\\\\n",
       "\t E &  5 & NA\\\\\n",
       "\t F & NA &  5\\\\\n",
       "\\end{tabular}\n"
      ],
      "text/markdown": [
       "\n",
       "A data.frame: 6 × 3\n",
       "\n",
       "| Letter &lt;chr&gt; | Value.x &lt;int&gt; | Value.y &lt;dbl&gt; |\n",
       "|---|---|---|\n",
       "| A |  1 | 12 |\n",
       "| B |  2 |  7 |\n",
       "| C |  3 |  4 |\n",
       "| D |  4 |  1 |\n",
       "| E |  5 | NA |\n",
       "| F | NA |  5 |\n",
       "\n"
      ],
      "text/plain": [
       "  Letter Value.x Value.y\n",
       "1 A       1      12     \n",
       "2 B       2       7     \n",
       "3 C       3       4     \n",
       "4 D       4       1     \n",
       "5 E       5      NA     \n",
       "6 F      NA       5     "
      ]
     },
     "metadata": {},
     "output_type": "display_data"
    }
   ],
   "source": [
    "first_df %>% full_join(second_df, by = \"Letter\")\n",
    "\n",
    "# all are here, but unknown values replaced by NA, it's ok."
   ]
  },
  {
   "cell_type": "markdown",
   "id": "c4dcf3b4",
   "metadata": {},
   "source": [
    "Short description of reviewed functions:\n",
    "\n",
    "|Function|Objectives|Arguments|Multiple keys|\n",
    "|---|---|---|---|\n",
    "|`left_join()`|Merge two datasets. Keep all observations from the origin table|\tdata, origin, destination, by = \"ID\" |\torigin, destination, by = c(\"ID\", \"ID2\")|\n",
    "|`right_join()`|Merge two datasets. Keep all observations from the destination table\t|data, origin, destination, by = \"ID\"\t|origin, destination, by = c(\"ID\", \"ID2\")|\n",
    "|`inner_join()`|Merge two datasets. Excludes all unmatched rows\t|data, origin, destination, by = \"ID\"|\torigin, destination, by = c(\"ID\", \"ID2\")|\n",
    "|`full_join()`|Merge two datasets. Keeps all observations|\tdata, origin, destination, by = \"ID\"\t|origin, destination, by = c(\"ID\", \"ID2\")|"
   ]
  },
  {
   "cell_type": "markdown",
   "id": "7d22716c-7191-4f3d-ab1b-3ed10fc1b8fa",
   "metadata": {},
   "source": [
    "---"
   ]
  },
  {
   "cell_type": "markdown",
   "id": "bbababc2",
   "metadata": {},
   "source": [
    "## 2.12. Data cleaning with `gather()`"
   ]
  },
  {
   "cell_type": "markdown",
   "id": "bd14aadd",
   "metadata": {},
   "source": [
    "Some times your data is not in tidy format. Peole can collect data year by year in each column. It's problem to use such data for feature engeniering and building prediction models. Let's generate such data sample (quaterly salary of some people)."
   ]
  },
  {
   "cell_type": "code",
   "execution_count": 257,
   "id": "20344a6c",
   "metadata": {},
   "outputs": [
    {
     "data": {
      "text/html": [
       "<table class=\"dataframe\">\n",
       "<caption>A data.frame: 5 × 5</caption>\n",
       "<thead>\n",
       "\t<tr><th scope=col>Name</th><th scope=col>q1_2021</th><th scope=col>q2_2021</th><th scope=col>q3_2021</th><th scope=col>q4_2021</th></tr>\n",
       "\t<tr><th scope=col>&lt;chr&gt;</th><th scope=col>&lt;dbl&gt;</th><th scope=col>&lt;dbl&gt;</th><th scope=col>&lt;dbl&gt;</th><th scope=col>&lt;dbl&gt;</th></tr>\n",
       "</thead>\n",
       "<tbody>\n",
       "\t<tr><td>Nick</td><td>12442</td><td>13442</td><td>15482</td><td>14511</td></tr>\n",
       "\t<tr><td>Jake</td><td>22131</td><td>22871</td><td>22031</td><td>20031</td></tr>\n",
       "\t<tr><td>Anna</td><td>21343</td><td>20343</td><td>22456</td><td>21741</td></tr>\n",
       "\t<tr><td>Jane</td><td>22111</td><td>22222</td><td>22444</td><td>22333</td></tr>\n",
       "\t<tr><td>Dina</td><td>14123</td><td>14456</td><td>14533</td><td>14511</td></tr>\n",
       "</tbody>\n",
       "</table>\n"
      ],
      "text/latex": [
       "A data.frame: 5 × 5\n",
       "\\begin{tabular}{lllll}\n",
       " Name & q1\\_2021 & q2\\_2021 & q3\\_2021 & q4\\_2021\\\\\n",
       " <chr> & <dbl> & <dbl> & <dbl> & <dbl>\\\\\n",
       "\\hline\n",
       "\t Nick & 12442 & 13442 & 15482 & 14511\\\\\n",
       "\t Jake & 22131 & 22871 & 22031 & 20031\\\\\n",
       "\t Anna & 21343 & 20343 & 22456 & 21741\\\\\n",
       "\t Jane & 22111 & 22222 & 22444 & 22333\\\\\n",
       "\t Dina & 14123 & 14456 & 14533 & 14511\\\\\n",
       "\\end{tabular}\n"
      ],
      "text/markdown": [
       "\n",
       "A data.frame: 5 × 5\n",
       "\n",
       "| Name &lt;chr&gt; | q1_2021 &lt;dbl&gt; | q2_2021 &lt;dbl&gt; | q3_2021 &lt;dbl&gt; | q4_2021 &lt;dbl&gt; |\n",
       "|---|---|---|---|---|\n",
       "| Nick | 12442 | 13442 | 15482 | 14511 |\n",
       "| Jake | 22131 | 22871 | 22031 | 20031 |\n",
       "| Anna | 21343 | 20343 | 22456 | 21741 |\n",
       "| Jane | 22111 | 22222 | 22444 | 22333 |\n",
       "| Dina | 14123 | 14456 | 14533 | 14511 |\n",
       "\n"
      ],
      "text/plain": [
       "  Name q1_2021 q2_2021 q3_2021 q4_2021\n",
       "1 Nick 12442   13442   15482   14511  \n",
       "2 Jake 22131   22871   22031   20031  \n",
       "3 Anna 21343   20343   22456   21741  \n",
       "4 Jane 22111   22222   22444   22333  \n",
       "5 Dina 14123   14456   14533   14511  "
      ]
     },
     "metadata": {},
     "output_type": "display_data"
    }
   ],
   "source": [
    "not_good_data <- data.frame(Name = c(\"Nick\", \"Jake\", \"Anna\", \"Jane\", \"Dina\"),\n",
    "                           q1_2021 = c(12442, 22131, 21343, 22111, 14123),\n",
    "                           q2_2021 = c(13442, 22871, 20343, 22222, 14456),\n",
    "                           q3_2021 = c(15482, 22031, 22456, 22444, 14533),\n",
    "                           q4_2021 = c(14511, 20031, 21741, 22333, 14511))\n",
    "not_good_data"
   ]
  },
  {
   "cell_type": "code",
   "execution_count": 269,
   "id": "a34ff5ca",
   "metadata": {},
   "outputs": [
    {
     "data": {
      "text/html": [
       "<table class=\"dataframe\">\n",
       "<caption>A data.frame: 20 × 3</caption>\n",
       "<thead>\n",
       "\t<tr><th scope=col>Name</th><th scope=col>quater</th><th scope=col>salary</th></tr>\n",
       "\t<tr><th scope=col>&lt;chr&gt;</th><th scope=col>&lt;chr&gt;</th><th scope=col>&lt;dbl&gt;</th></tr>\n",
       "</thead>\n",
       "<tbody>\n",
       "\t<tr><td>Nick</td><td>q1_2021</td><td>12442</td></tr>\n",
       "\t<tr><td>Jake</td><td>q1_2021</td><td>22131</td></tr>\n",
       "\t<tr><td>Anna</td><td>q1_2021</td><td>21343</td></tr>\n",
       "\t<tr><td>Jane</td><td>q1_2021</td><td>22111</td></tr>\n",
       "\t<tr><td>Dina</td><td>q1_2021</td><td>14123</td></tr>\n",
       "\t<tr><td>Nick</td><td>q2_2021</td><td>13442</td></tr>\n",
       "\t<tr><td>Jake</td><td>q2_2021</td><td>22871</td></tr>\n",
       "\t<tr><td>Anna</td><td>q2_2021</td><td>20343</td></tr>\n",
       "\t<tr><td>Jane</td><td>q2_2021</td><td>22222</td></tr>\n",
       "\t<tr><td>Dina</td><td>q2_2021</td><td>14456</td></tr>\n",
       "\t<tr><td>Nick</td><td>q3_2021</td><td>15482</td></tr>\n",
       "\t<tr><td>Jake</td><td>q3_2021</td><td>22031</td></tr>\n",
       "\t<tr><td>Anna</td><td>q3_2021</td><td>22456</td></tr>\n",
       "\t<tr><td>Jane</td><td>q3_2021</td><td>22444</td></tr>\n",
       "\t<tr><td>Dina</td><td>q3_2021</td><td>14533</td></tr>\n",
       "\t<tr><td>Nick</td><td>q4_2021</td><td>14511</td></tr>\n",
       "\t<tr><td>Jake</td><td>q4_2021</td><td>20031</td></tr>\n",
       "\t<tr><td>Anna</td><td>q4_2021</td><td>21741</td></tr>\n",
       "\t<tr><td>Jane</td><td>q4_2021</td><td>22333</td></tr>\n",
       "\t<tr><td>Dina</td><td>q4_2021</td><td>14511</td></tr>\n",
       "</tbody>\n",
       "</table>\n"
      ],
      "text/latex": [
       "A data.frame: 20 × 3\n",
       "\\begin{tabular}{lll}\n",
       " Name & quater & salary\\\\\n",
       " <chr> & <chr> & <dbl>\\\\\n",
       "\\hline\n",
       "\t Nick & q1\\_2021 & 12442\\\\\n",
       "\t Jake & q1\\_2021 & 22131\\\\\n",
       "\t Anna & q1\\_2021 & 21343\\\\\n",
       "\t Jane & q1\\_2021 & 22111\\\\\n",
       "\t Dina & q1\\_2021 & 14123\\\\\n",
       "\t Nick & q2\\_2021 & 13442\\\\\n",
       "\t Jake & q2\\_2021 & 22871\\\\\n",
       "\t Anna & q2\\_2021 & 20343\\\\\n",
       "\t Jane & q2\\_2021 & 22222\\\\\n",
       "\t Dina & q2\\_2021 & 14456\\\\\n",
       "\t Nick & q3\\_2021 & 15482\\\\\n",
       "\t Jake & q3\\_2021 & 22031\\\\\n",
       "\t Anna & q3\\_2021 & 22456\\\\\n",
       "\t Jane & q3\\_2021 & 22444\\\\\n",
       "\t Dina & q3\\_2021 & 14533\\\\\n",
       "\t Nick & q4\\_2021 & 14511\\\\\n",
       "\t Jake & q4\\_2021 & 20031\\\\\n",
       "\t Anna & q4\\_2021 & 21741\\\\\n",
       "\t Jane & q4\\_2021 & 22333\\\\\n",
       "\t Dina & q4\\_2021 & 14511\\\\\n",
       "\\end{tabular}\n"
      ],
      "text/markdown": [
       "\n",
       "A data.frame: 20 × 3\n",
       "\n",
       "| Name &lt;chr&gt; | quater &lt;chr&gt; | salary &lt;dbl&gt; |\n",
       "|---|---|---|\n",
       "| Nick | q1_2021 | 12442 |\n",
       "| Jake | q1_2021 | 22131 |\n",
       "| Anna | q1_2021 | 21343 |\n",
       "| Jane | q1_2021 | 22111 |\n",
       "| Dina | q1_2021 | 14123 |\n",
       "| Nick | q2_2021 | 13442 |\n",
       "| Jake | q2_2021 | 22871 |\n",
       "| Anna | q2_2021 | 20343 |\n",
       "| Jane | q2_2021 | 22222 |\n",
       "| Dina | q2_2021 | 14456 |\n",
       "| Nick | q3_2021 | 15482 |\n",
       "| Jake | q3_2021 | 22031 |\n",
       "| Anna | q3_2021 | 22456 |\n",
       "| Jane | q3_2021 | 22444 |\n",
       "| Dina | q3_2021 | 14533 |\n",
       "| Nick | q4_2021 | 14511 |\n",
       "| Jake | q4_2021 | 20031 |\n",
       "| Anna | q4_2021 | 21741 |\n",
       "| Jane | q4_2021 | 22333 |\n",
       "| Dina | q4_2021 | 14511 |\n",
       "\n"
      ],
      "text/plain": [
       "   Name quater  salary\n",
       "1  Nick q1_2021 12442 \n",
       "2  Jake q1_2021 22131 \n",
       "3  Anna q1_2021 21343 \n",
       "4  Jane q1_2021 22111 \n",
       "5  Dina q1_2021 14123 \n",
       "6  Nick q2_2021 13442 \n",
       "7  Jake q2_2021 22871 \n",
       "8  Anna q2_2021 20343 \n",
       "9  Jane q2_2021 22222 \n",
       "10 Dina q2_2021 14456 \n",
       "11 Nick q3_2021 15482 \n",
       "12 Jake q3_2021 22031 \n",
       "13 Anna q3_2021 22456 \n",
       "14 Jane q3_2021 22444 \n",
       "15 Dina q3_2021 14533 \n",
       "16 Nick q4_2021 14511 \n",
       "17 Jake q4_2021 20031 \n",
       "18 Anna q4_2021 21741 \n",
       "19 Jane q4_2021 22333 \n",
       "20 Dina q4_2021 14511 "
      ]
     },
     "metadata": {},
     "output_type": "display_data"
    }
   ],
   "source": [
    "better_data <- not_good_data %>%\n",
    "                gather(quater, salary, 2:5)\n",
    "                # gather(quater, salary, q1_2021:q4_2021) possible code too\n",
    "better_data"
   ]
  },
  {
   "cell_type": "markdown",
   "id": "bfae7e9f",
   "metadata": {},
   "source": [
    "To make our data tidier `separate()` can split quater column into 2 (`quater` and `year`):"
   ]
  },
  {
   "cell_type": "code",
   "execution_count": 320,
   "id": "37f40a9a",
   "metadata": {},
   "outputs": [
    {
     "data": {
      "text/html": [
       "<table class=\"dataframe\">\n",
       "<caption>A data.frame: 10 × 4</caption>\n",
       "<thead>\n",
       "\t<tr><th></th><th scope=col>Name</th><th scope=col>quater</th><th scope=col>year</th><th scope=col>salary</th></tr>\n",
       "\t<tr><th></th><th scope=col>&lt;chr&gt;</th><th scope=col>&lt;int&gt;</th><th scope=col>&lt;int&gt;</th><th scope=col>&lt;dbl&gt;</th></tr>\n",
       "</thead>\n",
       "<tbody>\n",
       "\t<tr><th scope=row>1</th><td>Nick</td><td>1</td><td>2021</td><td>12442</td></tr>\n",
       "\t<tr><th scope=row>2</th><td>Jake</td><td>1</td><td>2021</td><td>22131</td></tr>\n",
       "\t<tr><th scope=row>3</th><td>Anna</td><td>1</td><td>2021</td><td>21343</td></tr>\n",
       "\t<tr><th scope=row>4</th><td>Jane</td><td>1</td><td>2021</td><td>22111</td></tr>\n",
       "\t<tr><th scope=row>5</th><td>Dina</td><td>1</td><td>2021</td><td>14123</td></tr>\n",
       "\t<tr><th scope=row>6</th><td>Nick</td><td>2</td><td>2021</td><td>13442</td></tr>\n",
       "\t<tr><th scope=row>7</th><td>Jake</td><td>2</td><td>2021</td><td>22871</td></tr>\n",
       "\t<tr><th scope=row>8</th><td>Anna</td><td>2</td><td>2021</td><td>20343</td></tr>\n",
       "\t<tr><th scope=row>9</th><td>Jane</td><td>2</td><td>2021</td><td>22222</td></tr>\n",
       "\t<tr><th scope=row>10</th><td>Dina</td><td>2</td><td>2021</td><td>14456</td></tr>\n",
       "</tbody>\n",
       "</table>\n"
      ],
      "text/latex": [
       "A data.frame: 10 × 4\n",
       "\\begin{tabular}{r|llll}\n",
       "  & Name & quater & year & salary\\\\\n",
       "  & <chr> & <int> & <int> & <dbl>\\\\\n",
       "\\hline\n",
       "\t1 & Nick & 1 & 2021 & 12442\\\\\n",
       "\t2 & Jake & 1 & 2021 & 22131\\\\\n",
       "\t3 & Anna & 1 & 2021 & 21343\\\\\n",
       "\t4 & Jane & 1 & 2021 & 22111\\\\\n",
       "\t5 & Dina & 1 & 2021 & 14123\\\\\n",
       "\t6 & Nick & 2 & 2021 & 13442\\\\\n",
       "\t7 & Jake & 2 & 2021 & 22871\\\\\n",
       "\t8 & Anna & 2 & 2021 & 20343\\\\\n",
       "\t9 & Jane & 2 & 2021 & 22222\\\\\n",
       "\t10 & Dina & 2 & 2021 & 14456\\\\\n",
       "\\end{tabular}\n"
      ],
      "text/markdown": [
       "\n",
       "A data.frame: 10 × 4\n",
       "\n",
       "| <!--/--> | Name &lt;chr&gt; | quater &lt;int&gt; | year &lt;int&gt; | salary &lt;dbl&gt; |\n",
       "|---|---|---|---|---|\n",
       "| 1 | Nick | 1 | 2021 | 12442 |\n",
       "| 2 | Jake | 1 | 2021 | 22131 |\n",
       "| 3 | Anna | 1 | 2021 | 21343 |\n",
       "| 4 | Jane | 1 | 2021 | 22111 |\n",
       "| 5 | Dina | 1 | 2021 | 14123 |\n",
       "| 6 | Nick | 2 | 2021 | 13442 |\n",
       "| 7 | Jake | 2 | 2021 | 22871 |\n",
       "| 8 | Anna | 2 | 2021 | 20343 |\n",
       "| 9 | Jane | 2 | 2021 | 22222 |\n",
       "| 10 | Dina | 2 | 2021 | 14456 |\n",
       "\n"
      ],
      "text/plain": [
       "   Name quater year salary\n",
       "1  Nick 1      2021 12442 \n",
       "2  Jake 1      2021 22131 \n",
       "3  Anna 1      2021 21343 \n",
       "4  Jane 1      2021 22111 \n",
       "5  Dina 1      2021 14123 \n",
       "6  Nick 2      2021 13442 \n",
       "7  Jake 2      2021 22871 \n",
       "8  Anna 2      2021 20343 \n",
       "9  Jane 2      2021 22222 \n",
       "10 Dina 2      2021 14456 "
      ]
     },
     "metadata": {},
     "output_type": "display_data"
    }
   ],
   "source": [
    "best_data <- better_data %>%\n",
    "    separate(quater, c(\"quater\", \"year\"), sep = \"_\") %>% # separate\n",
    "    mutate(year = as.integer(year), # convert year to integer\n",
    "           quater = substr(better_data$quater, 2,2), # trim `q` from start\n",
    "           quater = as.integer(quater), # convert quater to integer\n",
    "          ) %>%\n",
    "    head(10)\n",
    "best_data"
   ]
  },
  {
   "cell_type": "markdown",
   "id": "9b5bf57a",
   "metadata": {},
   "source": [
    "The `unite()` function concanates two columns into one:"
   ]
  },
  {
   "cell_type": "code",
   "execution_count": 324,
   "id": "ba9713f1",
   "metadata": {},
   "outputs": [
    {
     "data": {
      "text/html": [
       "<table class=\"dataframe\">\n",
       "<caption>A data.frame: 10 × 3</caption>\n",
       "<thead>\n",
       "\t<tr><th></th><th scope=col>Name</th><th scope=col>Qt</th><th scope=col>salary</th></tr>\n",
       "\t<tr><th></th><th scope=col>&lt;chr&gt;</th><th scope=col>&lt;chr&gt;</th><th scope=col>&lt;dbl&gt;</th></tr>\n",
       "</thead>\n",
       "<tbody>\n",
       "\t<tr><th scope=row>1</th><td>Nick</td><td>1#2021</td><td>12442</td></tr>\n",
       "\t<tr><th scope=row>2</th><td>Jake</td><td>1#2021</td><td>22131</td></tr>\n",
       "\t<tr><th scope=row>3</th><td>Anna</td><td>1#2021</td><td>21343</td></tr>\n",
       "\t<tr><th scope=row>4</th><td>Jane</td><td>1#2021</td><td>22111</td></tr>\n",
       "\t<tr><th scope=row>5</th><td>Dina</td><td>1#2021</td><td>14123</td></tr>\n",
       "\t<tr><th scope=row>6</th><td>Nick</td><td>2#2021</td><td>13442</td></tr>\n",
       "\t<tr><th scope=row>7</th><td>Jake</td><td>2#2021</td><td>22871</td></tr>\n",
       "\t<tr><th scope=row>8</th><td>Anna</td><td>2#2021</td><td>20343</td></tr>\n",
       "\t<tr><th scope=row>9</th><td>Jane</td><td>2#2021</td><td>22222</td></tr>\n",
       "\t<tr><th scope=row>10</th><td>Dina</td><td>2#2021</td><td>14456</td></tr>\n",
       "</tbody>\n",
       "</table>\n"
      ],
      "text/latex": [
       "A data.frame: 10 × 3\n",
       "\\begin{tabular}{r|lll}\n",
       "  & Name & Qt & salary\\\\\n",
       "  & <chr> & <chr> & <dbl>\\\\\n",
       "\\hline\n",
       "\t1 & Nick & 1\\#2021 & 12442\\\\\n",
       "\t2 & Jake & 1\\#2021 & 22131\\\\\n",
       "\t3 & Anna & 1\\#2021 & 21343\\\\\n",
       "\t4 & Jane & 1\\#2021 & 22111\\\\\n",
       "\t5 & Dina & 1\\#2021 & 14123\\\\\n",
       "\t6 & Nick & 2\\#2021 & 13442\\\\\n",
       "\t7 & Jake & 2\\#2021 & 22871\\\\\n",
       "\t8 & Anna & 2\\#2021 & 20343\\\\\n",
       "\t9 & Jane & 2\\#2021 & 22222\\\\\n",
       "\t10 & Dina & 2\\#2021 & 14456\\\\\n",
       "\\end{tabular}\n"
      ],
      "text/markdown": [
       "\n",
       "A data.frame: 10 × 3\n",
       "\n",
       "| <!--/--> | Name &lt;chr&gt; | Qt &lt;chr&gt; | salary &lt;dbl&gt; |\n",
       "|---|---|---|---|\n",
       "| 1 | Nick | 1#2021 | 12442 |\n",
       "| 2 | Jake | 1#2021 | 22131 |\n",
       "| 3 | Anna | 1#2021 | 21343 |\n",
       "| 4 | Jane | 1#2021 | 22111 |\n",
       "| 5 | Dina | 1#2021 | 14123 |\n",
       "| 6 | Nick | 2#2021 | 13442 |\n",
       "| 7 | Jake | 2#2021 | 22871 |\n",
       "| 8 | Anna | 2#2021 | 20343 |\n",
       "| 9 | Jane | 2#2021 | 22222 |\n",
       "| 10 | Dina | 2#2021 | 14456 |\n",
       "\n"
      ],
      "text/plain": [
       "   Name Qt     salary\n",
       "1  Nick 1#2021 12442 \n",
       "2  Jake 1#2021 22131 \n",
       "3  Anna 1#2021 21343 \n",
       "4  Jane 1#2021 22111 \n",
       "5  Dina 1#2021 14123 \n",
       "6  Nick 2#2021 13442 \n",
       "7  Jake 2#2021 22871 \n",
       "8  Anna 2#2021 20343 \n",
       "9  Jane 2#2021 22222 \n",
       "10 Dina 2#2021 14456 "
      ]
     },
     "metadata": {},
     "output_type": "display_data"
    }
   ],
   "source": [
    "united_data <- best_data %>%\n",
    "                unite(Qt, quater, year, sep = \"#\")\n",
    "united_data"
   ]
  },
  {
   "cell_type": "code",
   "execution_count": 325,
   "id": "e40e1bc2",
   "metadata": {},
   "outputs": [
    {
     "data": {
      "text/html": [
       "<table class=\"dataframe\">\n",
       "<caption>A data.frame: 10 × 5</caption>\n",
       "<thead>\n",
       "\t<tr><th></th><th scope=col>Name</th><th scope=col>Qt</th><th scope=col>quater</th><th scope=col>year</th><th scope=col>salary</th></tr>\n",
       "\t<tr><th></th><th scope=col>&lt;chr&gt;</th><th scope=col>&lt;chr&gt;</th><th scope=col>&lt;int&gt;</th><th scope=col>&lt;int&gt;</th><th scope=col>&lt;dbl&gt;</th></tr>\n",
       "</thead>\n",
       "<tbody>\n",
       "\t<tr><th scope=row>1</th><td>Nick</td><td>1#2021</td><td>1</td><td>2021</td><td>12442</td></tr>\n",
       "\t<tr><th scope=row>2</th><td>Jake</td><td>1#2021</td><td>1</td><td>2021</td><td>22131</td></tr>\n",
       "\t<tr><th scope=row>3</th><td>Anna</td><td>1#2021</td><td>1</td><td>2021</td><td>21343</td></tr>\n",
       "\t<tr><th scope=row>4</th><td>Jane</td><td>1#2021</td><td>1</td><td>2021</td><td>22111</td></tr>\n",
       "\t<tr><th scope=row>5</th><td>Dina</td><td>1#2021</td><td>1</td><td>2021</td><td>14123</td></tr>\n",
       "\t<tr><th scope=row>6</th><td>Nick</td><td>2#2021</td><td>2</td><td>2021</td><td>13442</td></tr>\n",
       "\t<tr><th scope=row>7</th><td>Jake</td><td>2#2021</td><td>2</td><td>2021</td><td>22871</td></tr>\n",
       "\t<tr><th scope=row>8</th><td>Anna</td><td>2#2021</td><td>2</td><td>2021</td><td>20343</td></tr>\n",
       "\t<tr><th scope=row>9</th><td>Jane</td><td>2#2021</td><td>2</td><td>2021</td><td>22222</td></tr>\n",
       "\t<tr><th scope=row>10</th><td>Dina</td><td>2#2021</td><td>2</td><td>2021</td><td>14456</td></tr>\n",
       "</tbody>\n",
       "</table>\n"
      ],
      "text/latex": [
       "A data.frame: 10 × 5\n",
       "\\begin{tabular}{r|lllll}\n",
       "  & Name & Qt & quater & year & salary\\\\\n",
       "  & <chr> & <chr> & <int> & <int> & <dbl>\\\\\n",
       "\\hline\n",
       "\t1 & Nick & 1\\#2021 & 1 & 2021 & 12442\\\\\n",
       "\t2 & Jake & 1\\#2021 & 1 & 2021 & 22131\\\\\n",
       "\t3 & Anna & 1\\#2021 & 1 & 2021 & 21343\\\\\n",
       "\t4 & Jane & 1\\#2021 & 1 & 2021 & 22111\\\\\n",
       "\t5 & Dina & 1\\#2021 & 1 & 2021 & 14123\\\\\n",
       "\t6 & Nick & 2\\#2021 & 2 & 2021 & 13442\\\\\n",
       "\t7 & Jake & 2\\#2021 & 2 & 2021 & 22871\\\\\n",
       "\t8 & Anna & 2\\#2021 & 2 & 2021 & 20343\\\\\n",
       "\t9 & Jane & 2\\#2021 & 2 & 2021 & 22222\\\\\n",
       "\t10 & Dina & 2\\#2021 & 2 & 2021 & 14456\\\\\n",
       "\\end{tabular}\n"
      ],
      "text/markdown": [
       "\n",
       "A data.frame: 10 × 5\n",
       "\n",
       "| <!--/--> | Name &lt;chr&gt; | Qt &lt;chr&gt; | quater &lt;int&gt; | year &lt;int&gt; | salary &lt;dbl&gt; |\n",
       "|---|---|---|---|---|---|\n",
       "| 1 | Nick | 1#2021 | 1 | 2021 | 12442 |\n",
       "| 2 | Jake | 1#2021 | 1 | 2021 | 22131 |\n",
       "| 3 | Anna | 1#2021 | 1 | 2021 | 21343 |\n",
       "| 4 | Jane | 1#2021 | 1 | 2021 | 22111 |\n",
       "| 5 | Dina | 1#2021 | 1 | 2021 | 14123 |\n",
       "| 6 | Nick | 2#2021 | 2 | 2021 | 13442 |\n",
       "| 7 | Jake | 2#2021 | 2 | 2021 | 22871 |\n",
       "| 8 | Anna | 2#2021 | 2 | 2021 | 20343 |\n",
       "| 9 | Jane | 2#2021 | 2 | 2021 | 22222 |\n",
       "| 10 | Dina | 2#2021 | 2 | 2021 | 14456 |\n",
       "\n"
      ],
      "text/plain": [
       "   Name Qt     quater year salary\n",
       "1  Nick 1#2021 1      2021 12442 \n",
       "2  Jake 1#2021 1      2021 22131 \n",
       "3  Anna 1#2021 1      2021 21343 \n",
       "4  Jane 1#2021 1      2021 22111 \n",
       "5  Dina 1#2021 1      2021 14123 \n",
       "6  Nick 2#2021 2      2021 13442 \n",
       "7  Jake 2#2021 2      2021 22871 \n",
       "8  Anna 2#2021 2      2021 20343 \n",
       "9  Jane 2#2021 2      2021 22222 \n",
       "10 Dina 2#2021 2      2021 14456 "
      ]
     },
     "metadata": {},
     "output_type": "display_data"
    }
   ],
   "source": [
    "# if dont want remove old columns use remove param\n",
    "united_data <- best_data %>%\n",
    "                unite(Qt, quater, year, sep = \"#\", remove = F)\n",
    "united_data"
   ]
  },
  {
   "cell_type": "markdown",
   "id": "60e2bc04",
   "metadata": {},
   "source": [
    "If you need to make table like initial use `spread()` function:"
   ]
  },
  {
   "cell_type": "code",
   "execution_count": 262,
   "id": "af9e39a4",
   "metadata": {},
   "outputs": [
    {
     "data": {
      "text/html": [
       "<table class=\"dataframe\">\n",
       "<caption>A data.frame: 5 × 5</caption>\n",
       "<thead>\n",
       "\t<tr><th scope=col>Name</th><th scope=col>q1_2021</th><th scope=col>q2_2021</th><th scope=col>q3_2021</th><th scope=col>q4_2021</th></tr>\n",
       "\t<tr><th scope=col>&lt;chr&gt;</th><th scope=col>&lt;dbl&gt;</th><th scope=col>&lt;dbl&gt;</th><th scope=col>&lt;dbl&gt;</th><th scope=col>&lt;dbl&gt;</th></tr>\n",
       "</thead>\n",
       "<tbody>\n",
       "\t<tr><td>Anna</td><td>21343</td><td>20343</td><td>22456</td><td>21741</td></tr>\n",
       "\t<tr><td>Dina</td><td>14123</td><td>14456</td><td>14533</td><td>14511</td></tr>\n",
       "\t<tr><td>Jake</td><td>22131</td><td>22871</td><td>22031</td><td>20031</td></tr>\n",
       "\t<tr><td>Jane</td><td>22111</td><td>22222</td><td>22444</td><td>22333</td></tr>\n",
       "\t<tr><td>Nick</td><td>12442</td><td>13442</td><td>15482</td><td>14511</td></tr>\n",
       "</tbody>\n",
       "</table>\n"
      ],
      "text/latex": [
       "A data.frame: 5 × 5\n",
       "\\begin{tabular}{lllll}\n",
       " Name & q1\\_2021 & q2\\_2021 & q3\\_2021 & q4\\_2021\\\\\n",
       " <chr> & <dbl> & <dbl> & <dbl> & <dbl>\\\\\n",
       "\\hline\n",
       "\t Anna & 21343 & 20343 & 22456 & 21741\\\\\n",
       "\t Dina & 14123 & 14456 & 14533 & 14511\\\\\n",
       "\t Jake & 22131 & 22871 & 22031 & 20031\\\\\n",
       "\t Jane & 22111 & 22222 & 22444 & 22333\\\\\n",
       "\t Nick & 12442 & 13442 & 15482 & 14511\\\\\n",
       "\\end{tabular}\n"
      ],
      "text/markdown": [
       "\n",
       "A data.frame: 5 × 5\n",
       "\n",
       "| Name &lt;chr&gt; | q1_2021 &lt;dbl&gt; | q2_2021 &lt;dbl&gt; | q3_2021 &lt;dbl&gt; | q4_2021 &lt;dbl&gt; |\n",
       "|---|---|---|---|---|\n",
       "| Anna | 21343 | 20343 | 22456 | 21741 |\n",
       "| Dina | 14123 | 14456 | 14533 | 14511 |\n",
       "| Jake | 22131 | 22871 | 22031 | 20031 |\n",
       "| Jane | 22111 | 22222 | 22444 | 22333 |\n",
       "| Nick | 12442 | 13442 | 15482 | 14511 |\n",
       "\n"
      ],
      "text/plain": [
       "  Name q1_2021 q2_2021 q3_2021 q4_2021\n",
       "1 Anna 21343   20343   22456   21741  \n",
       "2 Dina 14123   14456   14533   14511  \n",
       "3 Jake 22131   22871   22031   20031  \n",
       "4 Jane 22111   22222   22444   22333  \n",
       "5 Nick 12442   13442   15482   14511  "
      ]
     },
     "metadata": {},
     "output_type": "display_data"
    }
   ],
   "source": [
    "not_good_data2 <- better_data %>%\n",
    "                    spread(quater, salary)\n",
    "not_good_data2"
   ]
  },
  {
   "cell_type": "markdown",
   "id": "86421f0a",
   "metadata": {},
   "source": [
    "Let's try to `spread()` feild `pop` of `gapminder` by year:"
   ]
  },
  {
   "cell_type": "code",
   "execution_count": 303,
   "id": "2f00d41d",
   "metadata": {},
   "outputs": [
    {
     "data": {
      "text/html": [
       "<table class=\"dataframe\">\n",
       "<caption>A tibble: 6 × 13</caption>\n",
       "<thead>\n",
       "\t<tr><th scope=col>country</th><th scope=col>1952</th><th scope=col>1957</th><th scope=col>1962</th><th scope=col>1967</th><th scope=col>1972</th><th scope=col>1977</th><th scope=col>1982</th><th scope=col>1987</th><th scope=col>1992</th><th scope=col>1997</th><th scope=col>2002</th><th scope=col>2007</th></tr>\n",
       "\t<tr><th scope=col>&lt;fct&gt;</th><th scope=col>&lt;int&gt;</th><th scope=col>&lt;int&gt;</th><th scope=col>&lt;int&gt;</th><th scope=col>&lt;int&gt;</th><th scope=col>&lt;int&gt;</th><th scope=col>&lt;int&gt;</th><th scope=col>&lt;int&gt;</th><th scope=col>&lt;int&gt;</th><th scope=col>&lt;int&gt;</th><th scope=col>&lt;int&gt;</th><th scope=col>&lt;int&gt;</th><th scope=col>&lt;int&gt;</th></tr>\n",
       "</thead>\n",
       "<tbody>\n",
       "\t<tr><td>Afghanistan</td><td> 8425333</td><td> 9240934</td><td>10267083</td><td>11537966</td><td>13079460</td><td>14880372</td><td>12881816</td><td>13867957</td><td>16317921</td><td>22227415</td><td>25268405</td><td>31889923</td></tr>\n",
       "\t<tr><td>Albania    </td><td> 1282697</td><td> 1476505</td><td> 1728137</td><td> 1984060</td><td> 2263554</td><td> 2509048</td><td> 2780097</td><td> 3075321</td><td> 3326498</td><td> 3428038</td><td> 3508512</td><td> 3600523</td></tr>\n",
       "\t<tr><td>Algeria    </td><td> 9279525</td><td>10270856</td><td>11000948</td><td>12760499</td><td>14760787</td><td>17152804</td><td>20033753</td><td>23254956</td><td>26298373</td><td>29072015</td><td>31287142</td><td>33333216</td></tr>\n",
       "\t<tr><td>Angola     </td><td> 4232095</td><td> 4561361</td><td> 4826015</td><td> 5247469</td><td> 5894858</td><td> 6162675</td><td> 7016384</td><td> 7874230</td><td> 8735988</td><td> 9875024</td><td>10866106</td><td>12420476</td></tr>\n",
       "\t<tr><td>Argentina  </td><td>17876956</td><td>19610538</td><td>21283783</td><td>22934225</td><td>24779799</td><td>26983828</td><td>29341374</td><td>31620918</td><td>33958947</td><td>36203463</td><td>38331121</td><td>40301927</td></tr>\n",
       "\t<tr><td>Australia  </td><td> 8691212</td><td> 9712569</td><td>10794968</td><td>11872264</td><td>13177000</td><td>14074100</td><td>15184200</td><td>16257249</td><td>17481977</td><td>18565243</td><td>19546792</td><td>20434176</td></tr>\n",
       "</tbody>\n",
       "</table>\n"
      ],
      "text/latex": [
       "A tibble: 6 × 13\n",
       "\\begin{tabular}{lllllllllllll}\n",
       " country & 1952 & 1957 & 1962 & 1967 & 1972 & 1977 & 1982 & 1987 & 1992 & 1997 & 2002 & 2007\\\\\n",
       " <fct> & <int> & <int> & <int> & <int> & <int> & <int> & <int> & <int> & <int> & <int> & <int> & <int>\\\\\n",
       "\\hline\n",
       "\t Afghanistan &  8425333 &  9240934 & 10267083 & 11537966 & 13079460 & 14880372 & 12881816 & 13867957 & 16317921 & 22227415 & 25268405 & 31889923\\\\\n",
       "\t Albania     &  1282697 &  1476505 &  1728137 &  1984060 &  2263554 &  2509048 &  2780097 &  3075321 &  3326498 &  3428038 &  3508512 &  3600523\\\\\n",
       "\t Algeria     &  9279525 & 10270856 & 11000948 & 12760499 & 14760787 & 17152804 & 20033753 & 23254956 & 26298373 & 29072015 & 31287142 & 33333216\\\\\n",
       "\t Angola      &  4232095 &  4561361 &  4826015 &  5247469 &  5894858 &  6162675 &  7016384 &  7874230 &  8735988 &  9875024 & 10866106 & 12420476\\\\\n",
       "\t Argentina   & 17876956 & 19610538 & 21283783 & 22934225 & 24779799 & 26983828 & 29341374 & 31620918 & 33958947 & 36203463 & 38331121 & 40301927\\\\\n",
       "\t Australia   &  8691212 &  9712569 & 10794968 & 11872264 & 13177000 & 14074100 & 15184200 & 16257249 & 17481977 & 18565243 & 19546792 & 20434176\\\\\n",
       "\\end{tabular}\n"
      ],
      "text/markdown": [
       "\n",
       "A tibble: 6 × 13\n",
       "\n",
       "| country &lt;fct&gt; | 1952 &lt;int&gt; | 1957 &lt;int&gt; | 1962 &lt;int&gt; | 1967 &lt;int&gt; | 1972 &lt;int&gt; | 1977 &lt;int&gt; | 1982 &lt;int&gt; | 1987 &lt;int&gt; | 1992 &lt;int&gt; | 1997 &lt;int&gt; | 2002 &lt;int&gt; | 2007 &lt;int&gt; |\n",
       "|---|---|---|---|---|---|---|---|---|---|---|---|---|\n",
       "| Afghanistan |  8425333 |  9240934 | 10267083 | 11537966 | 13079460 | 14880372 | 12881816 | 13867957 | 16317921 | 22227415 | 25268405 | 31889923 |\n",
       "| Albania     |  1282697 |  1476505 |  1728137 |  1984060 |  2263554 |  2509048 |  2780097 |  3075321 |  3326498 |  3428038 |  3508512 |  3600523 |\n",
       "| Algeria     |  9279525 | 10270856 | 11000948 | 12760499 | 14760787 | 17152804 | 20033753 | 23254956 | 26298373 | 29072015 | 31287142 | 33333216 |\n",
       "| Angola      |  4232095 |  4561361 |  4826015 |  5247469 |  5894858 |  6162675 |  7016384 |  7874230 |  8735988 |  9875024 | 10866106 | 12420476 |\n",
       "| Argentina   | 17876956 | 19610538 | 21283783 | 22934225 | 24779799 | 26983828 | 29341374 | 31620918 | 33958947 | 36203463 | 38331121 | 40301927 |\n",
       "| Australia   |  8691212 |  9712569 | 10794968 | 11872264 | 13177000 | 14074100 | 15184200 | 16257249 | 17481977 | 18565243 | 19546792 | 20434176 |\n",
       "\n"
      ],
      "text/plain": [
       "  country     1952     1957     1962     1967     1972     1977     1982    \n",
       "1 Afghanistan  8425333  9240934 10267083 11537966 13079460 14880372 12881816\n",
       "2 Albania      1282697  1476505  1728137  1984060  2263554  2509048  2780097\n",
       "3 Algeria      9279525 10270856 11000948 12760499 14760787 17152804 20033753\n",
       "4 Angola       4232095  4561361  4826015  5247469  5894858  6162675  7016384\n",
       "5 Argentina   17876956 19610538 21283783 22934225 24779799 26983828 29341374\n",
       "6 Australia    8691212  9712569 10794968 11872264 13177000 14074100 15184200\n",
       "  1987     1992     1997     2002     2007    \n",
       "1 13867957 16317921 22227415 25268405 31889923\n",
       "2  3075321  3326498  3428038  3508512  3600523\n",
       "3 23254956 26298373 29072015 31287142 33333216\n",
       "4  7874230  8735988  9875024 10866106 12420476\n",
       "5 31620918 33958947 36203463 38331121 40301927\n",
       "6 16257249 17481977 18565243 19546792 20434176"
      ]
     },
     "metadata": {},
     "output_type": "display_data"
    }
   ],
   "source": [
    "gapminder %>% select(country, pop, year) %>%\n",
    "                spread(year, pop) %>%\n",
    "                head() # for shorter code\n",
    "\n",
    "# now you can easy send data to your director in excel :)"
   ]
  },
  {
   "cell_type": "markdown",
   "id": "0db52d87",
   "metadata": {},
   "source": [
    "Functions table:\n",
    "\n",
    "|Function|Objectives|Arguments|\n",
    "|---|---|---|\n",
    "|`gather()`|Transform the data from wide to long|(data, key, value, na.rm = FALSE)|\n",
    "|`spread()`|Transform the data from long to wide|(data, key, value)|\n",
    "|`separate()`|Split one variables into two|(data, col, into, sep= \"\", remove = TRUE)|\n",
    "|`unite()`|Unite two variables into one|(data, col, conc ,sep= \"\", remove = TRUE)|"
   ]
  },
  {
   "cell_type": "markdown",
   "id": "8ed880d6",
   "metadata": {},
   "source": [
    "---"
   ]
  },
  {
   "cell_type": "markdown",
   "id": "1d3b131b",
   "metadata": {},
   "source": [
    "## Refences"
   ]
  },
  {
   "cell_type": "markdown",
   "id": "34612e4d",
   "metadata": {},
   "source": [
    "1. [dplyr: A Grammar of Data Manipulation](https://cran.r-project.org/web/packages/dplyr/index.html) on https://cran.r-project.org/.\n",
    "2. [Data Transformation with splyr::cheat sheet](https://github.com/rstudio/cheatsheets/blob/master/data-transformation.pdf).\n",
    "3. [DPLYR TUTORIAL : DATA MANIPULATION (50 EXAMPLES)](https://www.listendata.com/2016/08/dplyr-tutorial.html) by Deepanshu Bhalla.\n",
    "\n",
    "5. [Dplyr Intro](https://stat545.com/dplyr-intro.html) by Stat 545.\n",
    "6.[R Dplyr Tutorial: Data Manipulation(Join) & Cleaning(Spread)](https://www.guru99.com/r-dplyr-tutorial.html). Introduction to Data Analysis\n",
    "7. [Loan Default Prediction. Beginners data set for financial analytics Kaggle](https://www.kaggle.com/kmldas/loan-default-prediction)"
   ]
  },
  {
   "cell_type": "code",
   "execution_count": null,
   "id": "54f79a8b",
   "metadata": {},
   "outputs": [],
   "source": []
  }
 ],
 "metadata": {
  "kernelspec": {
   "display_name": "R",
   "language": "R",
   "name": "ir"
  },
  "language_info": {
   "codemirror_mode": "r",
   "file_extension": ".r",
   "mimetype": "text/x-r-source",
   "name": "R",
   "pygments_lexer": "r",
   "version": "4.0.5"
  }
 },
 "nbformat": 4,
 "nbformat_minor": 5
}
