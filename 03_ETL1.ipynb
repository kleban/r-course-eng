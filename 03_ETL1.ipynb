{
 "cells": [
  {
   "cell_type": "markdown",
   "id": "e723050a",
   "metadata": {},
   "source": [
    "# Fundamentals of ETL: data extraction, transformation and loading\n",
    "\n",
    "\n",
    "Course: Course Title"
   ]
  },
  {
   "cell_type": "markdown",
   "id": "b1bd75d3",
   "metadata": {},
   "source": [
    "---"
   ]
  },
  {
   "cell_type": "markdown",
   "id": "ab820065",
   "metadata": {},
   "source": [
    "# Table of contents"
   ]
  },
  {
   "cell_type": "markdown",
   "id": "cb606911",
   "metadata": {},
   "source": [
    "[3.1. Working with **dplyr** package](#chapter31)"
   ]
  },
  {
   "cell_type": "markdown",
   "id": "b28061ae",
   "metadata": {},
   "source": [
    "---"
   ]
  },
  {
   "cell_type": "markdown",
   "id": "1f66a759",
   "metadata": {},
   "source": [
    "# 1. General information about ETL"
   ]
  },
  {
   "cell_type": "markdown",
   "id": "e80a7b8a",
   "metadata": {},
   "source": [
    "---"
   ]
  },
  {
   "cell_type": "markdown",
   "id": "cff088bc",
   "metadata": {},
   "source": [
    "# 2. Data Sources for ETL"
   ]
  },
  {
   "cell_type": "markdown",
   "id": "9c0b45be",
   "metadata": {},
   "source": [
    "## 2.1. CSV"
   ]
  },
  {
   "cell_type": "markdown",
   "id": "2ab79114",
   "metadata": {},
   "source": [
    "## 2.2. Excel (xlsx)"
   ]
  },
  {
   "cell_type": "markdown",
   "id": "182c8ed6",
   "metadata": {},
   "source": [
    "## 2.3. XML"
   ]
  },
  {
   "cell_type": "markdown",
   "id": "589fd9a7",
   "metadata": {},
   "source": [
    "## 2.4. JSON"
   ]
  },
  {
   "cell_type": "markdown",
   "id": "babe961c",
   "metadata": {},
   "source": [
    "## 2.5. REST API"
   ]
  },
  {
   "cell_type": "markdown",
   "id": "df622d68",
   "metadata": {},
   "source": [
    "## 2.6. Google Services"
   ]
  },
  {
   "cell_type": "markdown",
   "id": "223d2548",
   "metadata": {},
   "source": [
    "### 2.6.1. Spreadsheets"
   ]
  },
  {
   "cell_type": "markdown",
   "id": "26d52bb0",
   "metadata": {},
   "source": [
    "### 2.6.2. Trends (Keywords)"
   ]
  },
  {
   "cell_type": "markdown",
   "id": "ff6016e5",
   "metadata": {},
   "source": [
    "---"
   ]
  },
  {
   "cell_type": "markdown",
   "id": "1a0b2cf1",
   "metadata": {},
   "source": [
    "# 3. Using **`dplyr`** for data manipulation"
   ]
  },
  {
   "cell_type": "markdown",
   "id": "860c9852",
   "metadata": {},
   "source": [
    "## 3.1.What's `dplyr`"
   ]
  },
  {
   "cell_type": "markdown",
   "id": "3585dc31",
   "metadata": {},
   "source": [
    "The `dplyr` package is one of the most powerful and popular package in `R` for data manipulation. "
   ]
  },
  {
   "cell_type": "markdown",
   "id": "6020d3cc",
   "metadata": {},
   "source": [
    "Working with data:\n",
    "\n",
    "- [x] Figure out what you want to do.\n",
    "- [x] Describe those tasks in the form of a computer program.\n",
    "- [x] Execute the program.\n",
    "\n",
    "The `dplyr` package makes these steps fast and easy:\n",
    "\n",
    "- [x] By constraining your options, it helps you think about your data manipulation challenges.\n",
    "- [x] It provides simple `verbs`, functions that correspond to the most common data manipulation tasks, to help you translate your thoughts into code.\n",
    "- [x] It uses efficient backends, so you spend less time waiting for the computer."
   ]
  },
  {
   "cell_type": "markdown",
   "id": "87e5e440",
   "metadata": {},
   "source": [
    "Before use you should install package:"
   ]
  },
  {
   "cell_type": "code",
   "execution_count": 11,
   "id": "f56c1779",
   "metadata": {},
   "outputs": [],
   "source": [
    "#install.packages(\"dplyr\")"
   ]
  },
  {
   "cell_type": "markdown",
   "id": "e5e9f854",
   "metadata": {},
   "source": [
    "Next step is loading package:"
   ]
  },
  {
   "cell_type": "code",
   "execution_count": 17,
   "id": "bb0eed5b",
   "metadata": {},
   "outputs": [],
   "source": [
    "library(dplyr)"
   ]
  },
  {
   "cell_type": "markdown",
   "id": "431be0c3",
   "metadata": {},
   "source": [
    "`dplyr` functions work with pipes and expect `tidy data`. In tidy data:"
   ]
  },
  {
   "cell_type": "markdown",
   "id": "c98e5f45",
   "metadata": {},
   "source": [
    "![](assets/images/03/dplyr1.png)"
   ]
  },
  {
   "cell_type": "markdown",
   "id": "92876ffb",
   "metadata": {},
   "source": [
    "Alternative way is to load `tidyverse` package with other attached:"
   ]
  },
  {
   "cell_type": "code",
   "execution_count": 143,
   "id": "5f421148",
   "metadata": {},
   "outputs": [
    {
     "data": {
      "text/html": [
       "<style>\n",
       ".list-inline {list-style: none; margin:0; padding: 0}\n",
       ".list-inline>li {display: inline-block}\n",
       ".list-inline>li:not(:last-child)::after {content: \"\\00b7\"; padding: 0 .5ex}\n",
       "</style>\n",
       "<ol class=list-inline><li>'broom'</li><li>'cli'</li><li>'crayon'</li><li>'dbplyr'</li><li>'dplyr'</li><li>'dtplyr'</li><li>'forcats'</li><li>'googledrive'</li><li>'googlesheets4'</li><li>'ggplot2'</li><li>'haven'</li><li>'hms'</li><li>'httr'</li><li>'jsonlite'</li><li>'lubridate'</li><li>'magrittr'</li><li>'modelr'</li><li>'pillar'</li><li>'purrr'</li><li>'readr'</li><li>'readxl'</li><li>'reprex'</li><li>'rlang'</li><li>'rstudioapi'</li><li>'rvest'</li><li>'stringr'</li><li>'tibble'</li><li>'tidyr'</li><li>'xml2'</li><li>'tidyverse'</li></ol>\n"
      ],
      "text/latex": [
       "\\begin{enumerate*}\n",
       "\\item 'broom'\n",
       "\\item 'cli'\n",
       "\\item 'crayon'\n",
       "\\item 'dbplyr'\n",
       "\\item 'dplyr'\n",
       "\\item 'dtplyr'\n",
       "\\item 'forcats'\n",
       "\\item 'googledrive'\n",
       "\\item 'googlesheets4'\n",
       "\\item 'ggplot2'\n",
       "\\item 'haven'\n",
       "\\item 'hms'\n",
       "\\item 'httr'\n",
       "\\item 'jsonlite'\n",
       "\\item 'lubridate'\n",
       "\\item 'magrittr'\n",
       "\\item 'modelr'\n",
       "\\item 'pillar'\n",
       "\\item 'purrr'\n",
       "\\item 'readr'\n",
       "\\item 'readxl'\n",
       "\\item 'reprex'\n",
       "\\item 'rlang'\n",
       "\\item 'rstudioapi'\n",
       "\\item 'rvest'\n",
       "\\item 'stringr'\n",
       "\\item 'tibble'\n",
       "\\item 'tidyr'\n",
       "\\item 'xml2'\n",
       "\\item 'tidyverse'\n",
       "\\end{enumerate*}\n"
      ],
      "text/markdown": [
       "1. 'broom'\n",
       "2. 'cli'\n",
       "3. 'crayon'\n",
       "4. 'dbplyr'\n",
       "5. 'dplyr'\n",
       "6. 'dtplyr'\n",
       "7. 'forcats'\n",
       "8. 'googledrive'\n",
       "9. 'googlesheets4'\n",
       "10. 'ggplot2'\n",
       "11. 'haven'\n",
       "12. 'hms'\n",
       "13. 'httr'\n",
       "14. 'jsonlite'\n",
       "15. 'lubridate'\n",
       "16. 'magrittr'\n",
       "17. 'modelr'\n",
       "18. 'pillar'\n",
       "19. 'purrr'\n",
       "20. 'readr'\n",
       "21. 'readxl'\n",
       "22. 'reprex'\n",
       "23. 'rlang'\n",
       "24. 'rstudioapi'\n",
       "25. 'rvest'\n",
       "26. 'stringr'\n",
       "27. 'tibble'\n",
       "28. 'tidyr'\n",
       "29. 'xml2'\n",
       "30. 'tidyverse'\n",
       "\n",
       "\n"
      ],
      "text/plain": [
       " [1] \"broom\"         \"cli\"           \"crayon\"        \"dbplyr\"       \n",
       " [5] \"dplyr\"         \"dtplyr\"        \"forcats\"       \"googledrive\"  \n",
       " [9] \"googlesheets4\" \"ggplot2\"       \"haven\"         \"hms\"          \n",
       "[13] \"httr\"          \"jsonlite\"      \"lubridate\"     \"magrittr\"     \n",
       "[17] \"modelr\"        \"pillar\"        \"purrr\"         \"readr\"        \n",
       "[21] \"readxl\"        \"reprex\"        \"rlang\"         \"rstudioapi\"   \n",
       "[25] \"rvest\"         \"stringr\"       \"tibble\"        \"tidyr\"        \n",
       "[29] \"xml2\"          \"tidyverse\"    "
      ]
     },
     "metadata": {},
     "output_type": "display_data"
    }
   ],
   "source": [
    "#install.packages(\"tidyverse\")\n",
    "library(tidyverse)\n",
    "# to tidyverse attached packages\n",
    "tidyverse_packages(include_self = TRUE)"
   ]
  },
  {
   "cell_type": "markdown",
   "id": "79274003",
   "metadata": {},
   "source": []
  },
  {
   "cell_type": "markdown",
   "id": "137966c0",
   "metadata": {},
   "source": [
    "### 3.3. Exploring our data with dplyr `dplyr`"
   ]
  },
  {
   "cell_type": "markdown",
   "id": "6352b604",
   "metadata": {},
   "source": [
    "There are most popular functions in `dplyr` is listed in table."
   ]
  },
  {
   "cell_type": "markdown",
   "id": "91663461",
   "metadata": {},
   "source": [
    "|dplyr Function|Description\t| Equivalent SQL|\n",
    "|---|---|---|\n",
    "|select()\t|Selecting columns (variables)\t|SELECT|\n",
    "|filter()\t|Filter (subset) rows.\t|WHERE|\n",
    "|group_by()|\tGroup the data\t|GROUP BY|\n",
    "|summarise()|\tSummarise (or aggregate) data|\t-|\n",
    "|arrange()|\tSort the data\t|ORDER BY\n",
    "|join()|\tJoining data frames (tables)|\tJOIN|\n",
    "|mutate()\t|Creating New Variables|\tCOLUMN ALIAS|"
   ]
  },
  {
   "cell_type": "markdown",
   "id": "872abe06",
   "metadata": {},
   "source": [
    "Let's explore data with simple dataset `color_data`."
   ]
  },
  {
   "cell_type": "code",
   "execution_count": 145,
   "id": "449eda12",
   "metadata": {},
   "outputs": [
    {
     "data": {
      "text/html": [
       "<table class=\"dataframe\">\n",
       "<caption>A data.frame: 5 × 2</caption>\n",
       "<thead>\n",
       "\t<tr><th scope=col>color</th><th scope=col>values</th></tr>\n",
       "\t<tr><th scope=col>&lt;chr&gt;</th><th scope=col>&lt;int&gt;</th></tr>\n",
       "</thead>\n",
       "<tbody>\n",
       "\t<tr><td>red  </td><td>1</td></tr>\n",
       "\t<tr><td>green</td><td>2</td></tr>\n",
       "\t<tr><td>red  </td><td>3</td></tr>\n",
       "\t<tr><td>green</td><td>4</td></tr>\n",
       "\t<tr><td>green</td><td>5</td></tr>\n",
       "</tbody>\n",
       "</table>\n"
      ],
      "text/latex": [
       "A data.frame: 5 × 2\n",
       "\\begin{tabular}{ll}\n",
       " color & values\\\\\n",
       " <chr> & <int>\\\\\n",
       "\\hline\n",
       "\t red   & 1\\\\\n",
       "\t green & 2\\\\\n",
       "\t red   & 3\\\\\n",
       "\t green & 4\\\\\n",
       "\t green & 5\\\\\n",
       "\\end{tabular}\n"
      ],
      "text/markdown": [
       "\n",
       "A data.frame: 5 × 2\n",
       "\n",
       "| color &lt;chr&gt; | values &lt;int&gt; |\n",
       "|---|---|\n",
       "| red   | 1 |\n",
       "| green | 2 |\n",
       "| red   | 3 |\n",
       "| green | 4 |\n",
       "| green | 5 |\n",
       "\n"
      ],
      "text/plain": [
       "  color values\n",
       "1 red   1     \n",
       "2 green 2     \n",
       "3 red   3     \n",
       "4 green 4     \n",
       "5 green 5     "
      ]
     },
     "metadata": {},
     "output_type": "display_data"
    }
   ],
   "source": [
    "color_data <- data.frame(color = c(\"red\", \"green\", \"red\", \"green\", \"green\"),\n",
    "                          values = 1:5)\n",
    "color_data"
   ]
  },
  {
   "cell_type": "code",
   "execution_count": null,
   "id": "d1f680cd",
   "metadata": {},
   "outputs": [],
   "source": []
  },
  {
   "cell_type": "markdown",
   "id": "fde2ef4a",
   "metadata": {},
   "source": [
    "For the next sample we are going to use `gapminder` dataset. [Go to gapminder dataset description](00_Datasets.ipynb#gapminder)"
   ]
  },
  {
   "cell_type": "markdown",
   "id": "b94982c2",
   "metadata": {},
   "source": [
    "The `gapminder` data frame include six variables:\n",
    "\n",
    "\n",
    "|variable|meaning|\n",
    "|---|---|\n",
    "|country| - |\t\n",
    "|continent| - |\t\t\n",
    "|year| - |\t\n",
    "|lifeExp|\tlife expectancy at birth|\n",
    "|pop\t|total population|\n",
    "|gdpPercap|\tper-capita GDP|\n",
    "\n",
    "`Per-capita GDP` (Gross domestic product) is given in units of international dollars, `a hypothetical unit of currency that has the same purchasing power parity that the U.S. dollar had in the United States at a given point in time` – 2005, in this case."
   ]
  },
  {
   "cell_type": "markdown",
   "id": "11108a90",
   "metadata": {},
   "source": [
    "The `gapminder` data frame is a special kind of data frame: a `tibble`. "
   ]
  },
  {
   "cell_type": "code",
   "execution_count": 138,
   "id": "2709b7ca",
   "metadata": {},
   "outputs": [
    {
     "data": {
      "text/html": [
       "<style>\n",
       ".list-inline {list-style: none; margin:0; padding: 0}\n",
       ".list-inline>li {display: inline-block}\n",
       ".list-inline>li:not(:last-child)::after {content: \"\\00b7\"; padding: 0 .5ex}\n",
       "</style>\n",
       "<ol class=list-inline><li>'tbl_df'</li><li>'tbl'</li><li>'data.frame'</li></ol>\n"
      ],
      "text/latex": [
       "\\begin{enumerate*}\n",
       "\\item 'tbl\\_df'\n",
       "\\item 'tbl'\n",
       "\\item 'data.frame'\n",
       "\\end{enumerate*}\n"
      ],
      "text/markdown": [
       "1. 'tbl_df'\n",
       "2. 'tbl'\n",
       "3. 'data.frame'\n",
       "\n",
       "\n"
      ],
      "text/plain": [
       "[1] \"tbl_df\"     \"tbl\"        \"data.frame\""
      ]
     },
     "metadata": {},
     "output_type": "display_data"
    }
   ],
   "source": [
    "class(gapminder)"
   ]
  },
  {
   "cell_type": "code",
   "execution_count": 137,
   "id": "a2e1684f",
   "metadata": {},
   "outputs": [],
   "source": [
    "library(gapminder) # load package and dataset"
   ]
  },
  {
   "cell_type": "markdown",
   "id": "b8040cde",
   "metadata": {},
   "source": [
    "Let's preview it with functions `str()`, `glimpse()`, `head()`, `tail()`, `summary()`."
   ]
  },
  {
   "cell_type": "code",
   "execution_count": 38,
   "id": "e4161813",
   "metadata": {
    "scrolled": true
   },
   "outputs": [
    {
     "name": "stdout",
     "output_type": "stream",
     "text": [
      "tibble[,6] [1,704 x 6] (S3: tbl_df/tbl/data.frame)\n",
      " $ country  : Factor w/ 142 levels \"Afghanistan\",..: 1 1 1 1 1 1 1 1 1 1 ...\n",
      " $ continent: Factor w/ 5 levels \"Africa\",\"Americas\",..: 3 3 3 3 3 3 3 3 3 3 ...\n",
      " $ year     : int [1:1704] 1952 1957 1962 1967 1972 1977 1982 1987 1992 1997 ...\n",
      " $ lifeExp  : num [1:1704] 28.8 30.3 32 34 36.1 ...\n",
      " $ pop      : int [1:1704] 8425333 9240934 10267083 11537966 13079460 14880372 12881816 13867957 16317921 22227415 ...\n",
      " $ gdpPercap: num [1:1704] 779 821 853 836 740 ...\n"
     ]
    }
   ],
   "source": [
    "str(gapminder)"
   ]
  },
  {
   "cell_type": "code",
   "execution_count": 40,
   "id": "c4833bfd",
   "metadata": {},
   "outputs": [
    {
     "name": "stdout",
     "output_type": "stream",
     "text": [
      "Rows: 1,704\n",
      "Columns: 6\n",
      "$ country   \u001b[3m\u001b[90m<fct>\u001b[39m\u001b[23m \"Afghanistan\", \"Afghanistan\", \"Afghanistan\", \"Afghanistan\", ~\n",
      "$ continent \u001b[3m\u001b[90m<fct>\u001b[39m\u001b[23m Asia, Asia, Asia, Asia, Asia, Asia, Asia, Asia, Asia, Asia, ~\n",
      "$ year      \u001b[3m\u001b[90m<int>\u001b[39m\u001b[23m 1952, 1957, 1962, 1967, 1972, 1977, 1982, 1987, 1992, 1997, ~\n",
      "$ lifeExp   \u001b[3m\u001b[90m<dbl>\u001b[39m\u001b[23m 28.801, 30.332, 31.997, 34.020, 36.088, 38.438, 39.854, 40.8~\n",
      "$ pop       \u001b[3m\u001b[90m<int>\u001b[39m\u001b[23m 8425333, 9240934, 10267083, 11537966, 13079460, 14880372, 12~\n",
      "$ gdpPercap \u001b[3m\u001b[90m<dbl>\u001b[39m\u001b[23m 779.4453, 820.8530, 853.1007, 836.1971, 739.9811, 786.1134, ~\n"
     ]
    }
   ],
   "source": [
    "glimpse(gapminder)"
   ]
  },
  {
   "cell_type": "code",
   "execution_count": 44,
   "id": "b067627a",
   "metadata": {},
   "outputs": [
    {
     "data": {
      "text/html": [
       "<table class=\"dataframe\">\n",
       "<caption>A tibble: 6 × 6</caption>\n",
       "<thead>\n",
       "\t<tr><th scope=col>country</th><th scope=col>continent</th><th scope=col>year</th><th scope=col>lifeExp</th><th scope=col>pop</th><th scope=col>gdpPercap</th></tr>\n",
       "\t<tr><th scope=col>&lt;fct&gt;</th><th scope=col>&lt;fct&gt;</th><th scope=col>&lt;int&gt;</th><th scope=col>&lt;dbl&gt;</th><th scope=col>&lt;int&gt;</th><th scope=col>&lt;dbl&gt;</th></tr>\n",
       "</thead>\n",
       "<tbody>\n",
       "\t<tr><td>Afghanistan</td><td>Asia</td><td>1952</td><td>28.801</td><td> 8425333</td><td>779.4453</td></tr>\n",
       "\t<tr><td>Afghanistan</td><td>Asia</td><td>1957</td><td>30.332</td><td> 9240934</td><td>820.8530</td></tr>\n",
       "\t<tr><td>Afghanistan</td><td>Asia</td><td>1962</td><td>31.997</td><td>10267083</td><td>853.1007</td></tr>\n",
       "\t<tr><td>Afghanistan</td><td>Asia</td><td>1967</td><td>34.020</td><td>11537966</td><td>836.1971</td></tr>\n",
       "\t<tr><td>Afghanistan</td><td>Asia</td><td>1972</td><td>36.088</td><td>13079460</td><td>739.9811</td></tr>\n",
       "\t<tr><td>Afghanistan</td><td>Asia</td><td>1977</td><td>38.438</td><td>14880372</td><td>786.1134</td></tr>\n",
       "</tbody>\n",
       "</table>\n"
      ],
      "text/latex": [
       "A tibble: 6 × 6\n",
       "\\begin{tabular}{llllll}\n",
       " country & continent & year & lifeExp & pop & gdpPercap\\\\\n",
       " <fct> & <fct> & <int> & <dbl> & <int> & <dbl>\\\\\n",
       "\\hline\n",
       "\t Afghanistan & Asia & 1952 & 28.801 &  8425333 & 779.4453\\\\\n",
       "\t Afghanistan & Asia & 1957 & 30.332 &  9240934 & 820.8530\\\\\n",
       "\t Afghanistan & Asia & 1962 & 31.997 & 10267083 & 853.1007\\\\\n",
       "\t Afghanistan & Asia & 1967 & 34.020 & 11537966 & 836.1971\\\\\n",
       "\t Afghanistan & Asia & 1972 & 36.088 & 13079460 & 739.9811\\\\\n",
       "\t Afghanistan & Asia & 1977 & 38.438 & 14880372 & 786.1134\\\\\n",
       "\\end{tabular}\n"
      ],
      "text/markdown": [
       "\n",
       "A tibble: 6 × 6\n",
       "\n",
       "| country &lt;fct&gt; | continent &lt;fct&gt; | year &lt;int&gt; | lifeExp &lt;dbl&gt; | pop &lt;int&gt; | gdpPercap &lt;dbl&gt; |\n",
       "|---|---|---|---|---|---|\n",
       "| Afghanistan | Asia | 1952 | 28.801 |  8425333 | 779.4453 |\n",
       "| Afghanistan | Asia | 1957 | 30.332 |  9240934 | 820.8530 |\n",
       "| Afghanistan | Asia | 1962 | 31.997 | 10267083 | 853.1007 |\n",
       "| Afghanistan | Asia | 1967 | 34.020 | 11537966 | 836.1971 |\n",
       "| Afghanistan | Asia | 1972 | 36.088 | 13079460 | 739.9811 |\n",
       "| Afghanistan | Asia | 1977 | 38.438 | 14880372 | 786.1134 |\n",
       "\n"
      ],
      "text/plain": [
       "  country     continent year lifeExp pop      gdpPercap\n",
       "1 Afghanistan Asia      1952 28.801   8425333 779.4453 \n",
       "2 Afghanistan Asia      1957 30.332   9240934 820.8530 \n",
       "3 Afghanistan Asia      1962 31.997  10267083 853.1007 \n",
       "4 Afghanistan Asia      1967 34.020  11537966 836.1971 \n",
       "5 Afghanistan Asia      1972 36.088  13079460 739.9811 \n",
       "6 Afghanistan Asia      1977 38.438  14880372 786.1134 "
      ]
     },
     "metadata": {},
     "output_type": "display_data"
    }
   ],
   "source": [
    "head(gapminder) #shows first n-rows, 6 by default"
   ]
  },
  {
   "cell_type": "code",
   "execution_count": 52,
   "id": "203c5dc2",
   "metadata": {},
   "outputs": [
    {
     "data": {
      "text/html": [
       "<table class=\"dataframe\">\n",
       "<caption>A tibble: 6 × 6</caption>\n",
       "<thead>\n",
       "\t<tr><th scope=col>country</th><th scope=col>continent</th><th scope=col>year</th><th scope=col>lifeExp</th><th scope=col>pop</th><th scope=col>gdpPercap</th></tr>\n",
       "\t<tr><th scope=col>&lt;fct&gt;</th><th scope=col>&lt;fct&gt;</th><th scope=col>&lt;int&gt;</th><th scope=col>&lt;dbl&gt;</th><th scope=col>&lt;int&gt;</th><th scope=col>&lt;dbl&gt;</th></tr>\n",
       "</thead>\n",
       "<tbody>\n",
       "\t<tr><td>Zimbabwe</td><td>Africa</td><td>1982</td><td>60.363</td><td> 7636524</td><td>788.8550</td></tr>\n",
       "\t<tr><td>Zimbabwe</td><td>Africa</td><td>1987</td><td>62.351</td><td> 9216418</td><td>706.1573</td></tr>\n",
       "\t<tr><td>Zimbabwe</td><td>Africa</td><td>1992</td><td>60.377</td><td>10704340</td><td>693.4208</td></tr>\n",
       "\t<tr><td>Zimbabwe</td><td>Africa</td><td>1997</td><td>46.809</td><td>11404948</td><td>792.4500</td></tr>\n",
       "\t<tr><td>Zimbabwe</td><td>Africa</td><td>2002</td><td>39.989</td><td>11926563</td><td>672.0386</td></tr>\n",
       "\t<tr><td>Zimbabwe</td><td>Africa</td><td>2007</td><td>43.487</td><td>12311143</td><td>469.7093</td></tr>\n",
       "</tbody>\n",
       "</table>\n"
      ],
      "text/latex": [
       "A tibble: 6 × 6\n",
       "\\begin{tabular}{llllll}\n",
       " country & continent & year & lifeExp & pop & gdpPercap\\\\\n",
       " <fct> & <fct> & <int> & <dbl> & <int> & <dbl>\\\\\n",
       "\\hline\n",
       "\t Zimbabwe & Africa & 1982 & 60.363 &  7636524 & 788.8550\\\\\n",
       "\t Zimbabwe & Africa & 1987 & 62.351 &  9216418 & 706.1573\\\\\n",
       "\t Zimbabwe & Africa & 1992 & 60.377 & 10704340 & 693.4208\\\\\n",
       "\t Zimbabwe & Africa & 1997 & 46.809 & 11404948 & 792.4500\\\\\n",
       "\t Zimbabwe & Africa & 2002 & 39.989 & 11926563 & 672.0386\\\\\n",
       "\t Zimbabwe & Africa & 2007 & 43.487 & 12311143 & 469.7093\\\\\n",
       "\\end{tabular}\n"
      ],
      "text/markdown": [
       "\n",
       "A tibble: 6 × 6\n",
       "\n",
       "| country &lt;fct&gt; | continent &lt;fct&gt; | year &lt;int&gt; | lifeExp &lt;dbl&gt; | pop &lt;int&gt; | gdpPercap &lt;dbl&gt; |\n",
       "|---|---|---|---|---|---|\n",
       "| Zimbabwe | Africa | 1982 | 60.363 |  7636524 | 788.8550 |\n",
       "| Zimbabwe | Africa | 1987 | 62.351 |  9216418 | 706.1573 |\n",
       "| Zimbabwe | Africa | 1992 | 60.377 | 10704340 | 693.4208 |\n",
       "| Zimbabwe | Africa | 1997 | 46.809 | 11404948 | 792.4500 |\n",
       "| Zimbabwe | Africa | 2002 | 39.989 | 11926563 | 672.0386 |\n",
       "| Zimbabwe | Africa | 2007 | 43.487 | 12311143 | 469.7093 |\n",
       "\n"
      ],
      "text/plain": [
       "  country  continent year lifeExp pop      gdpPercap\n",
       "1 Zimbabwe Africa    1982 60.363   7636524 788.8550 \n",
       "2 Zimbabwe Africa    1987 62.351   9216418 706.1573 \n",
       "3 Zimbabwe Africa    1992 60.377  10704340 693.4208 \n",
       "4 Zimbabwe Africa    1997 46.809  11404948 792.4500 \n",
       "5 Zimbabwe Africa    2002 39.989  11926563 672.0386 \n",
       "6 Zimbabwe Africa    2007 43.487  12311143 469.7093 "
      ]
     },
     "metadata": {},
     "output_type": "display_data"
    }
   ],
   "source": [
    "tail(gapminder) #shows last n-rows, 6 by default"
   ]
  },
  {
   "cell_type": "code",
   "execution_count": 54,
   "id": "daf4e5b8",
   "metadata": {},
   "outputs": [
    {
     "data": {
      "text/plain": [
       "        country        continent        year         lifeExp     \n",
       " Afghanistan:  12   Africa  :624   Min.   :1952   Min.   :23.60  \n",
       " Albania    :  12   Americas:300   1st Qu.:1966   1st Qu.:48.20  \n",
       " Algeria    :  12   Asia    :396   Median :1980   Median :60.71  \n",
       " Angola     :  12   Europe  :360   Mean   :1980   Mean   :59.47  \n",
       " Argentina  :  12   Oceania : 24   3rd Qu.:1993   3rd Qu.:70.85  \n",
       " Australia  :  12                  Max.   :2007   Max.   :82.60  \n",
       " (Other)    :1632                                                \n",
       "      pop              gdpPercap       \n",
       " Min.   :6.001e+04   Min.   :   241.2  \n",
       " 1st Qu.:2.794e+06   1st Qu.:  1202.1  \n",
       " Median :7.024e+06   Median :  3531.8  \n",
       " Mean   :2.960e+07   Mean   :  7215.3  \n",
       " 3rd Qu.:1.959e+07   3rd Qu.:  9325.5  \n",
       " Max.   :1.319e+09   Max.   :113523.1  \n",
       "                                       "
      ]
     },
     "metadata": {},
     "output_type": "display_data"
    }
   ],
   "source": [
    "summary(gapminder)"
   ]
  },
  {
   "cell_type": "markdown",
   "id": "3f53e459",
   "metadata": {},
   "source": [
    "Let's get information about Canada in `gapminder` dataset:"
   ]
  },
  {
   "cell_type": "code",
   "execution_count": 135,
   "id": "33f1659a",
   "metadata": {},
   "outputs": [
    {
     "data": {
      "text/html": [
       "<table class=\"dataframe\">\n",
       "<caption>A tibble: 12 × 6</caption>\n",
       "<thead>\n",
       "\t<tr><th scope=col>country</th><th scope=col>continent</th><th scope=col>year</th><th scope=col>lifeExp</th><th scope=col>pop</th><th scope=col>gdpPercap</th></tr>\n",
       "\t<tr><th scope=col>&lt;fct&gt;</th><th scope=col>&lt;fct&gt;</th><th scope=col>&lt;int&gt;</th><th scope=col>&lt;dbl&gt;</th><th scope=col>&lt;int&gt;</th><th scope=col>&lt;dbl&gt;</th></tr>\n",
       "</thead>\n",
       "<tbody>\n",
       "\t<tr><td>Austria</td><td>Europe</td><td>1952</td><td>66.800</td><td>6927772</td><td> 6137.076</td></tr>\n",
       "\t<tr><td>Austria</td><td>Europe</td><td>1957</td><td>67.480</td><td>6965860</td><td> 8842.598</td></tr>\n",
       "\t<tr><td>Austria</td><td>Europe</td><td>1962</td><td>69.540</td><td>7129864</td><td>10750.721</td></tr>\n",
       "\t<tr><td>Austria</td><td>Europe</td><td>1967</td><td>70.140</td><td>7376998</td><td>12834.602</td></tr>\n",
       "\t<tr><td>Austria</td><td>Europe</td><td>1972</td><td>70.630</td><td>7544201</td><td>16661.626</td></tr>\n",
       "\t<tr><td>Austria</td><td>Europe</td><td>1977</td><td>72.170</td><td>7568430</td><td>19749.422</td></tr>\n",
       "\t<tr><td>Austria</td><td>Europe</td><td>1982</td><td>73.180</td><td>7574613</td><td>21597.084</td></tr>\n",
       "\t<tr><td>Austria</td><td>Europe</td><td>1987</td><td>74.940</td><td>7578903</td><td>23687.826</td></tr>\n",
       "\t<tr><td>Austria</td><td>Europe</td><td>1992</td><td>76.040</td><td>7914969</td><td>27042.019</td></tr>\n",
       "\t<tr><td>Austria</td><td>Europe</td><td>1997</td><td>77.510</td><td>8069876</td><td>29095.921</td></tr>\n",
       "\t<tr><td>Austria</td><td>Europe</td><td>2002</td><td>78.980</td><td>8148312</td><td>32417.608</td></tr>\n",
       "\t<tr><td>Austria</td><td>Europe</td><td>2007</td><td>79.829</td><td>8199783</td><td>36126.493</td></tr>\n",
       "</tbody>\n",
       "</table>\n"
      ],
      "text/latex": [
       "A tibble: 12 × 6\n",
       "\\begin{tabular}{llllll}\n",
       " country & continent & year & lifeExp & pop & gdpPercap\\\\\n",
       " <fct> & <fct> & <int> & <dbl> & <int> & <dbl>\\\\\n",
       "\\hline\n",
       "\t Austria & Europe & 1952 & 66.800 & 6927772 &  6137.076\\\\\n",
       "\t Austria & Europe & 1957 & 67.480 & 6965860 &  8842.598\\\\\n",
       "\t Austria & Europe & 1962 & 69.540 & 7129864 & 10750.721\\\\\n",
       "\t Austria & Europe & 1967 & 70.140 & 7376998 & 12834.602\\\\\n",
       "\t Austria & Europe & 1972 & 70.630 & 7544201 & 16661.626\\\\\n",
       "\t Austria & Europe & 1977 & 72.170 & 7568430 & 19749.422\\\\\n",
       "\t Austria & Europe & 1982 & 73.180 & 7574613 & 21597.084\\\\\n",
       "\t Austria & Europe & 1987 & 74.940 & 7578903 & 23687.826\\\\\n",
       "\t Austria & Europe & 1992 & 76.040 & 7914969 & 27042.019\\\\\n",
       "\t Austria & Europe & 1997 & 77.510 & 8069876 & 29095.921\\\\\n",
       "\t Austria & Europe & 2002 & 78.980 & 8148312 & 32417.608\\\\\n",
       "\t Austria & Europe & 2007 & 79.829 & 8199783 & 36126.493\\\\\n",
       "\\end{tabular}\n"
      ],
      "text/markdown": [
       "\n",
       "A tibble: 12 × 6\n",
       "\n",
       "| country &lt;fct&gt; | continent &lt;fct&gt; | year &lt;int&gt; | lifeExp &lt;dbl&gt; | pop &lt;int&gt; | gdpPercap &lt;dbl&gt; |\n",
       "|---|---|---|---|---|---|\n",
       "| Austria | Europe | 1952 | 66.800 | 6927772 |  6137.076 |\n",
       "| Austria | Europe | 1957 | 67.480 | 6965860 |  8842.598 |\n",
       "| Austria | Europe | 1962 | 69.540 | 7129864 | 10750.721 |\n",
       "| Austria | Europe | 1967 | 70.140 | 7376998 | 12834.602 |\n",
       "| Austria | Europe | 1972 | 70.630 | 7544201 | 16661.626 |\n",
       "| Austria | Europe | 1977 | 72.170 | 7568430 | 19749.422 |\n",
       "| Austria | Europe | 1982 | 73.180 | 7574613 | 21597.084 |\n",
       "| Austria | Europe | 1987 | 74.940 | 7578903 | 23687.826 |\n",
       "| Austria | Europe | 1992 | 76.040 | 7914969 | 27042.019 |\n",
       "| Austria | Europe | 1997 | 77.510 | 8069876 | 29095.921 |\n",
       "| Austria | Europe | 2002 | 78.980 | 8148312 | 32417.608 |\n",
       "| Austria | Europe | 2007 | 79.829 | 8199783 | 36126.493 |\n",
       "\n"
      ],
      "text/plain": [
       "   country continent year lifeExp pop     gdpPercap\n",
       "1  Austria Europe    1952 66.800  6927772  6137.076\n",
       "2  Austria Europe    1957 67.480  6965860  8842.598\n",
       "3  Austria Europe    1962 69.540  7129864 10750.721\n",
       "4  Austria Europe    1967 70.140  7376998 12834.602\n",
       "5  Austria Europe    1972 70.630  7544201 16661.626\n",
       "6  Austria Europe    1977 72.170  7568430 19749.422\n",
       "7  Austria Europe    1982 73.180  7574613 21597.084\n",
       "8  Austria Europe    1987 74.940  7578903 23687.826\n",
       "9  Austria Europe    1992 76.040  7914969 27042.019\n",
       "10 Austria Europe    1997 77.510  8069876 29095.921\n",
       "11 Austria Europe    2002 78.980  8148312 32417.608\n",
       "12 Austria Europe    2007 79.829  8199783 36126.493"
      ]
     },
     "metadata": {},
     "output_type": "display_data"
    }
   ],
   "source": [
    "# before this you can View(gapminder) in RStudio to find indexes\n",
    "austria <- gapminder[73:84, ]\n",
    "austria"
   ]
  },
  {
   "cell_type": "markdown",
   "id": "b9ccec29",
   "metadata": {},
   "source": [
    "Thats not a good idea for analyzing every country find row indexes."
   ]
  },
  {
   "cell_type": "markdown",
   "id": "cbf8e31f",
   "metadata": {},
   "source": [
    "#### 3.3.3.1. filter() function"
   ]
  },
  {
   "cell_type": "markdown",
   "id": "10cfc70f",
   "metadata": {},
   "source": [
    "`filter()` takes logical expressions and returns the rows for which all are TRUE."
   ]
  },
  {
   "cell_type": "code",
   "execution_count": 64,
   "id": "696d935c",
   "metadata": {},
   "outputs": [
    {
     "data": {
      "text/html": [
       "<table class=\"dataframe\">\n",
       "<caption>A tibble: 6 × 6</caption>\n",
       "<thead>\n",
       "\t<tr><th scope=col>country</th><th scope=col>continent</th><th scope=col>year</th><th scope=col>lifeExp</th><th scope=col>pop</th><th scope=col>gdpPercap</th></tr>\n",
       "\t<tr><th scope=col>&lt;fct&gt;</th><th scope=col>&lt;fct&gt;</th><th scope=col>&lt;int&gt;</th><th scope=col>&lt;dbl&gt;</th><th scope=col>&lt;int&gt;</th><th scope=col>&lt;dbl&gt;</th></tr>\n",
       "</thead>\n",
       "<tbody>\n",
       "\t<tr><td>Afghanistan </td><td>Asia  </td><td>1952</td><td>28.801</td><td>8425333</td><td> 779.4453</td></tr>\n",
       "\t<tr><td>Afghanistan </td><td>Asia  </td><td>1957</td><td>30.332</td><td>9240934</td><td> 820.8530</td></tr>\n",
       "\t<tr><td>Angola      </td><td>Africa</td><td>1952</td><td>30.015</td><td>4232095</td><td>3520.6103</td></tr>\n",
       "\t<tr><td>Gambia      </td><td>Africa</td><td>1952</td><td>30.000</td><td> 284320</td><td> 485.2307</td></tr>\n",
       "\t<tr><td>Rwanda      </td><td>Africa</td><td>1992</td><td>23.599</td><td>7290203</td><td> 737.0686</td></tr>\n",
       "\t<tr><td>Sierra Leone</td><td>Africa</td><td>1952</td><td>30.331</td><td>2143249</td><td> 879.7877</td></tr>\n",
       "</tbody>\n",
       "</table>\n"
      ],
      "text/latex": [
       "A tibble: 6 × 6\n",
       "\\begin{tabular}{llllll}\n",
       " country & continent & year & lifeExp & pop & gdpPercap\\\\\n",
       " <fct> & <fct> & <int> & <dbl> & <int> & <dbl>\\\\\n",
       "\\hline\n",
       "\t Afghanistan  & Asia   & 1952 & 28.801 & 8425333 &  779.4453\\\\\n",
       "\t Afghanistan  & Asia   & 1957 & 30.332 & 9240934 &  820.8530\\\\\n",
       "\t Angola       & Africa & 1952 & 30.015 & 4232095 & 3520.6103\\\\\n",
       "\t Gambia       & Africa & 1952 & 30.000 &  284320 &  485.2307\\\\\n",
       "\t Rwanda       & Africa & 1992 & 23.599 & 7290203 &  737.0686\\\\\n",
       "\t Sierra Leone & Africa & 1952 & 30.331 & 2143249 &  879.7877\\\\\n",
       "\\end{tabular}\n"
      ],
      "text/markdown": [
       "\n",
       "A tibble: 6 × 6\n",
       "\n",
       "| country &lt;fct&gt; | continent &lt;fct&gt; | year &lt;int&gt; | lifeExp &lt;dbl&gt; | pop &lt;int&gt; | gdpPercap &lt;dbl&gt; |\n",
       "|---|---|---|---|---|---|\n",
       "| Afghanistan  | Asia   | 1952 | 28.801 | 8425333 |  779.4453 |\n",
       "| Afghanistan  | Asia   | 1957 | 30.332 | 9240934 |  820.8530 |\n",
       "| Angola       | Africa | 1952 | 30.015 | 4232095 | 3520.6103 |\n",
       "| Gambia       | Africa | 1952 | 30.000 |  284320 |  485.2307 |\n",
       "| Rwanda       | Africa | 1992 | 23.599 | 7290203 |  737.0686 |\n",
       "| Sierra Leone | Africa | 1952 | 30.331 | 2143249 |  879.7877 |\n",
       "\n"
      ],
      "text/plain": [
       "  country      continent year lifeExp pop     gdpPercap\n",
       "1 Afghanistan  Asia      1952 28.801  8425333  779.4453\n",
       "2 Afghanistan  Asia      1957 30.332  9240934  820.8530\n",
       "3 Angola       Africa    1952 30.015  4232095 3520.6103\n",
       "4 Gambia       Africa    1952 30.000   284320  485.2307\n",
       "5 Rwanda       Africa    1992 23.599  7290203  737.0686\n",
       "6 Sierra Leone Africa    1952 30.331  2143249  879.7877"
      ]
     },
     "metadata": {},
     "output_type": "display_data"
    }
   ],
   "source": [
    "# task: select rows with lifeExp less than 31\n",
    "filter(gapminder, lifeExp < 31)"
   ]
  },
  {
   "cell_type": "code",
   "execution_count": 67,
   "id": "86ea817b",
   "metadata": {},
   "outputs": [
    {
     "data": {
      "text/html": [
       "<table class=\"dataframe\">\n",
       "<caption>A tibble: 6 × 6</caption>\n",
       "<thead>\n",
       "\t<tr><th scope=col>country</th><th scope=col>continent</th><th scope=col>year</th><th scope=col>lifeExp</th><th scope=col>pop</th><th scope=col>gdpPercap</th></tr>\n",
       "\t<tr><th scope=col>&lt;fct&gt;</th><th scope=col>&lt;fct&gt;</th><th scope=col>&lt;int&gt;</th><th scope=col>&lt;dbl&gt;</th><th scope=col>&lt;int&gt;</th><th scope=col>&lt;dbl&gt;</th></tr>\n",
       "</thead>\n",
       "<tbody>\n",
       "\t<tr><td>Canada</td><td>Americas</td><td>1982</td><td>75.760</td><td>25201900</td><td>22898.79</td></tr>\n",
       "\t<tr><td>Canada</td><td>Americas</td><td>1987</td><td>76.860</td><td>26549700</td><td>26626.52</td></tr>\n",
       "\t<tr><td>Canada</td><td>Americas</td><td>1992</td><td>77.950</td><td>28523502</td><td>26342.88</td></tr>\n",
       "\t<tr><td>Canada</td><td>Americas</td><td>1997</td><td>78.610</td><td>30305843</td><td>28954.93</td></tr>\n",
       "\t<tr><td>Canada</td><td>Americas</td><td>2002</td><td>79.770</td><td>31902268</td><td>33328.97</td></tr>\n",
       "\t<tr><td>Canada</td><td>Americas</td><td>2007</td><td>80.653</td><td>33390141</td><td>36319.24</td></tr>\n",
       "</tbody>\n",
       "</table>\n"
      ],
      "text/latex": [
       "A tibble: 6 × 6\n",
       "\\begin{tabular}{llllll}\n",
       " country & continent & year & lifeExp & pop & gdpPercap\\\\\n",
       " <fct> & <fct> & <int> & <dbl> & <int> & <dbl>\\\\\n",
       "\\hline\n",
       "\t Canada & Americas & 1982 & 75.760 & 25201900 & 22898.79\\\\\n",
       "\t Canada & Americas & 1987 & 76.860 & 26549700 & 26626.52\\\\\n",
       "\t Canada & Americas & 1992 & 77.950 & 28523502 & 26342.88\\\\\n",
       "\t Canada & Americas & 1997 & 78.610 & 30305843 & 28954.93\\\\\n",
       "\t Canada & Americas & 2002 & 79.770 & 31902268 & 33328.97\\\\\n",
       "\t Canada & Americas & 2007 & 80.653 & 33390141 & 36319.24\\\\\n",
       "\\end{tabular}\n"
      ],
      "text/markdown": [
       "\n",
       "A tibble: 6 × 6\n",
       "\n",
       "| country &lt;fct&gt; | continent &lt;fct&gt; | year &lt;int&gt; | lifeExp &lt;dbl&gt; | pop &lt;int&gt; | gdpPercap &lt;dbl&gt; |\n",
       "|---|---|---|---|---|---|\n",
       "| Canada | Americas | 1982 | 75.760 | 25201900 | 22898.79 |\n",
       "| Canada | Americas | 1987 | 76.860 | 26549700 | 26626.52 |\n",
       "| Canada | Americas | 1992 | 77.950 | 28523502 | 26342.88 |\n",
       "| Canada | Americas | 1997 | 78.610 | 30305843 | 28954.93 |\n",
       "| Canada | Americas | 2002 | 79.770 | 31902268 | 33328.97 |\n",
       "| Canada | Americas | 2007 | 80.653 | 33390141 | 36319.24 |\n",
       "\n"
      ],
      "text/plain": [
       "  country continent year lifeExp pop      gdpPercap\n",
       "1 Canada  Americas  1982 75.760  25201900 22898.79 \n",
       "2 Canada  Americas  1987 76.860  26549700 26626.52 \n",
       "3 Canada  Americas  1992 77.950  28523502 26342.88 \n",
       "4 Canada  Americas  1997 78.610  30305843 28954.93 \n",
       "5 Canada  Americas  2002 79.770  31902268 33328.97 \n",
       "6 Canada  Americas  2007 80.653  33390141 36319.24 "
      ]
     },
     "metadata": {},
     "output_type": "display_data"
    }
   ],
   "source": [
    "# task: select canada only and year after 1980\n",
    "filter(gapminder, country == \"Austria\", year > 1980)"
   ]
  },
  {
   "cell_type": "code",
   "execution_count": 74,
   "id": "d6b937c6",
   "metadata": {},
   "outputs": [
    {
     "data": {
      "text/html": [
       "<table class=\"dataframe\">\n",
       "<caption>A tibble: 24 × 6</caption>\n",
       "<thead>\n",
       "\t<tr><th scope=col>country</th><th scope=col>continent</th><th scope=col>year</th><th scope=col>lifeExp</th><th scope=col>pop</th><th scope=col>gdpPercap</th></tr>\n",
       "\t<tr><th scope=col>&lt;fct&gt;</th><th scope=col>&lt;fct&gt;</th><th scope=col>&lt;int&gt;</th><th scope=col>&lt;dbl&gt;</th><th scope=col>&lt;int&gt;</th><th scope=col>&lt;dbl&gt;</th></tr>\n",
       "</thead>\n",
       "<tbody>\n",
       "\t<tr><td>Austria</td><td>Europe</td><td>1952</td><td>66.800</td><td> 6927772</td><td> 6137.076</td></tr>\n",
       "\t<tr><td>Austria</td><td>Europe</td><td>1957</td><td>67.480</td><td> 6965860</td><td> 8842.598</td></tr>\n",
       "\t<tr><td>Austria</td><td>Europe</td><td>1962</td><td>69.540</td><td> 7129864</td><td>10750.721</td></tr>\n",
       "\t<tr><td>Austria</td><td>Europe</td><td>1967</td><td>70.140</td><td> 7376998</td><td>12834.602</td></tr>\n",
       "\t<tr><td>Austria</td><td>Europe</td><td>1972</td><td>70.630</td><td> 7544201</td><td>16661.626</td></tr>\n",
       "\t<tr><td>Austria</td><td>Europe</td><td>1977</td><td>72.170</td><td> 7568430</td><td>19749.422</td></tr>\n",
       "\t<tr><td>Austria</td><td>Europe</td><td>1982</td><td>73.180</td><td> 7574613</td><td>21597.084</td></tr>\n",
       "\t<tr><td>Austria</td><td>Europe</td><td>1987</td><td>74.940</td><td> 7578903</td><td>23687.826</td></tr>\n",
       "\t<tr><td>Austria</td><td>Europe</td><td>1992</td><td>76.040</td><td> 7914969</td><td>27042.019</td></tr>\n",
       "\t<tr><td>Austria</td><td>Europe</td><td>1997</td><td>77.510</td><td> 8069876</td><td>29095.921</td></tr>\n",
       "\t<tr><td>Austria</td><td>Europe</td><td>2002</td><td>78.980</td><td> 8148312</td><td>32417.608</td></tr>\n",
       "\t<tr><td>Austria</td><td>Europe</td><td>2007</td><td>79.829</td><td> 8199783</td><td>36126.493</td></tr>\n",
       "\t<tr><td>Belgium</td><td>Europe</td><td>1952</td><td>68.000</td><td> 8730405</td><td> 8343.105</td></tr>\n",
       "\t<tr><td>Belgium</td><td>Europe</td><td>1957</td><td>69.240</td><td> 8989111</td><td> 9714.961</td></tr>\n",
       "\t<tr><td>Belgium</td><td>Europe</td><td>1962</td><td>70.250</td><td> 9218400</td><td>10991.207</td></tr>\n",
       "\t<tr><td>Belgium</td><td>Europe</td><td>1967</td><td>70.940</td><td> 9556500</td><td>13149.041</td></tr>\n",
       "\t<tr><td>Belgium</td><td>Europe</td><td>1972</td><td>71.440</td><td> 9709100</td><td>16672.144</td></tr>\n",
       "\t<tr><td>Belgium</td><td>Europe</td><td>1977</td><td>72.800</td><td> 9821800</td><td>19117.974</td></tr>\n",
       "\t<tr><td>Belgium</td><td>Europe</td><td>1982</td><td>73.930</td><td> 9856303</td><td>20979.846</td></tr>\n",
       "\t<tr><td>Belgium</td><td>Europe</td><td>1987</td><td>75.350</td><td> 9870200</td><td>22525.563</td></tr>\n",
       "\t<tr><td>Belgium</td><td>Europe</td><td>1992</td><td>76.460</td><td>10045622</td><td>25575.571</td></tr>\n",
       "\t<tr><td>Belgium</td><td>Europe</td><td>1997</td><td>77.530</td><td>10199787</td><td>27561.197</td></tr>\n",
       "\t<tr><td>Belgium</td><td>Europe</td><td>2002</td><td>78.320</td><td>10311970</td><td>30485.884</td></tr>\n",
       "\t<tr><td>Belgium</td><td>Europe</td><td>2007</td><td>79.441</td><td>10392226</td><td>33692.605</td></tr>\n",
       "</tbody>\n",
       "</table>\n"
      ],
      "text/latex": [
       "A tibble: 24 × 6\n",
       "\\begin{tabular}{llllll}\n",
       " country & continent & year & lifeExp & pop & gdpPercap\\\\\n",
       " <fct> & <fct> & <int> & <dbl> & <int> & <dbl>\\\\\n",
       "\\hline\n",
       "\t Austria & Europe & 1952 & 66.800 &  6927772 &  6137.076\\\\\n",
       "\t Austria & Europe & 1957 & 67.480 &  6965860 &  8842.598\\\\\n",
       "\t Austria & Europe & 1962 & 69.540 &  7129864 & 10750.721\\\\\n",
       "\t Austria & Europe & 1967 & 70.140 &  7376998 & 12834.602\\\\\n",
       "\t Austria & Europe & 1972 & 70.630 &  7544201 & 16661.626\\\\\n",
       "\t Austria & Europe & 1977 & 72.170 &  7568430 & 19749.422\\\\\n",
       "\t Austria & Europe & 1982 & 73.180 &  7574613 & 21597.084\\\\\n",
       "\t Austria & Europe & 1987 & 74.940 &  7578903 & 23687.826\\\\\n",
       "\t Austria & Europe & 1992 & 76.040 &  7914969 & 27042.019\\\\\n",
       "\t Austria & Europe & 1997 & 77.510 &  8069876 & 29095.921\\\\\n",
       "\t Austria & Europe & 2002 & 78.980 &  8148312 & 32417.608\\\\\n",
       "\t Austria & Europe & 2007 & 79.829 &  8199783 & 36126.493\\\\\n",
       "\t Belgium & Europe & 1952 & 68.000 &  8730405 &  8343.105\\\\\n",
       "\t Belgium & Europe & 1957 & 69.240 &  8989111 &  9714.961\\\\\n",
       "\t Belgium & Europe & 1962 & 70.250 &  9218400 & 10991.207\\\\\n",
       "\t Belgium & Europe & 1967 & 70.940 &  9556500 & 13149.041\\\\\n",
       "\t Belgium & Europe & 1972 & 71.440 &  9709100 & 16672.144\\\\\n",
       "\t Belgium & Europe & 1977 & 72.800 &  9821800 & 19117.974\\\\\n",
       "\t Belgium & Europe & 1982 & 73.930 &  9856303 & 20979.846\\\\\n",
       "\t Belgium & Europe & 1987 & 75.350 &  9870200 & 22525.563\\\\\n",
       "\t Belgium & Europe & 1992 & 76.460 & 10045622 & 25575.571\\\\\n",
       "\t Belgium & Europe & 1997 & 77.530 & 10199787 & 27561.197\\\\\n",
       "\t Belgium & Europe & 2002 & 78.320 & 10311970 & 30485.884\\\\\n",
       "\t Belgium & Europe & 2007 & 79.441 & 10392226 & 33692.605\\\\\n",
       "\\end{tabular}\n"
      ],
      "text/markdown": [
       "\n",
       "A tibble: 24 × 6\n",
       "\n",
       "| country &lt;fct&gt; | continent &lt;fct&gt; | year &lt;int&gt; | lifeExp &lt;dbl&gt; | pop &lt;int&gt; | gdpPercap &lt;dbl&gt; |\n",
       "|---|---|---|---|---|---|\n",
       "| Austria | Europe | 1952 | 66.800 |  6927772 |  6137.076 |\n",
       "| Austria | Europe | 1957 | 67.480 |  6965860 |  8842.598 |\n",
       "| Austria | Europe | 1962 | 69.540 |  7129864 | 10750.721 |\n",
       "| Austria | Europe | 1967 | 70.140 |  7376998 | 12834.602 |\n",
       "| Austria | Europe | 1972 | 70.630 |  7544201 | 16661.626 |\n",
       "| Austria | Europe | 1977 | 72.170 |  7568430 | 19749.422 |\n",
       "| Austria | Europe | 1982 | 73.180 |  7574613 | 21597.084 |\n",
       "| Austria | Europe | 1987 | 74.940 |  7578903 | 23687.826 |\n",
       "| Austria | Europe | 1992 | 76.040 |  7914969 | 27042.019 |\n",
       "| Austria | Europe | 1997 | 77.510 |  8069876 | 29095.921 |\n",
       "| Austria | Europe | 2002 | 78.980 |  8148312 | 32417.608 |\n",
       "| Austria | Europe | 2007 | 79.829 |  8199783 | 36126.493 |\n",
       "| Belgium | Europe | 1952 | 68.000 |  8730405 |  8343.105 |\n",
       "| Belgium | Europe | 1957 | 69.240 |  8989111 |  9714.961 |\n",
       "| Belgium | Europe | 1962 | 70.250 |  9218400 | 10991.207 |\n",
       "| Belgium | Europe | 1967 | 70.940 |  9556500 | 13149.041 |\n",
       "| Belgium | Europe | 1972 | 71.440 |  9709100 | 16672.144 |\n",
       "| Belgium | Europe | 1977 | 72.800 |  9821800 | 19117.974 |\n",
       "| Belgium | Europe | 1982 | 73.930 |  9856303 | 20979.846 |\n",
       "| Belgium | Europe | 1987 | 75.350 |  9870200 | 22525.563 |\n",
       "| Belgium | Europe | 1992 | 76.460 | 10045622 | 25575.571 |\n",
       "| Belgium | Europe | 1997 | 77.530 | 10199787 | 27561.197 |\n",
       "| Belgium | Europe | 2002 | 78.320 | 10311970 | 30485.884 |\n",
       "| Belgium | Europe | 2007 | 79.441 | 10392226 | 33692.605 |\n",
       "\n"
      ],
      "text/plain": [
       "   country continent year lifeExp pop      gdpPercap\n",
       "1  Austria Europe    1952 66.800   6927772  6137.076\n",
       "2  Austria Europe    1957 67.480   6965860  8842.598\n",
       "3  Austria Europe    1962 69.540   7129864 10750.721\n",
       "4  Austria Europe    1967 70.140   7376998 12834.602\n",
       "5  Austria Europe    1972 70.630   7544201 16661.626\n",
       "6  Austria Europe    1977 72.170   7568430 19749.422\n",
       "7  Austria Europe    1982 73.180   7574613 21597.084\n",
       "8  Austria Europe    1987 74.940   7578903 23687.826\n",
       "9  Austria Europe    1992 76.040   7914969 27042.019\n",
       "10 Austria Europe    1997 77.510   8069876 29095.921\n",
       "11 Austria Europe    2002 78.980   8148312 32417.608\n",
       "12 Austria Europe    2007 79.829   8199783 36126.493\n",
       "13 Belgium Europe    1952 68.000   8730405  8343.105\n",
       "14 Belgium Europe    1957 69.240   8989111  9714.961\n",
       "15 Belgium Europe    1962 70.250   9218400 10991.207\n",
       "16 Belgium Europe    1967 70.940   9556500 13149.041\n",
       "17 Belgium Europe    1972 71.440   9709100 16672.144\n",
       "18 Belgium Europe    1977 72.800   9821800 19117.974\n",
       "19 Belgium Europe    1982 73.930   9856303 20979.846\n",
       "20 Belgium Europe    1987 75.350   9870200 22525.563\n",
       "21 Belgium Europe    1992 76.460  10045622 25575.571\n",
       "22 Belgium Europe    1997 77.530  10199787 27561.197\n",
       "23 Belgium Europe    2002 78.320  10311970 30485.884\n",
       "24 Belgium Europe    2007 79.441  10392226 33692.605"
      ]
     },
     "metadata": {},
     "output_type": "display_data"
    }
   ],
   "source": [
    "# task: select canada only and year after 1980\n",
    "filter(gapminder, country %in% c(\"Austria\", \"Belgium\"))"
   ]
  },
  {
   "cell_type": "markdown",
   "id": "54563703",
   "metadata": {},
   "source": [
    "Lets rewrite initial code:"
   ]
  },
  {
   "cell_type": "code",
   "execution_count": 77,
   "id": "90c18717",
   "metadata": {},
   "outputs": [
    {
     "data": {
      "text/html": [
       "<table class=\"dataframe\">\n",
       "<caption>A tibble: 12 × 6</caption>\n",
       "<thead>\n",
       "\t<tr><th scope=col>country</th><th scope=col>continent</th><th scope=col>year</th><th scope=col>lifeExp</th><th scope=col>pop</th><th scope=col>gdpPercap</th></tr>\n",
       "\t<tr><th scope=col>&lt;fct&gt;</th><th scope=col>&lt;fct&gt;</th><th scope=col>&lt;int&gt;</th><th scope=col>&lt;dbl&gt;</th><th scope=col>&lt;int&gt;</th><th scope=col>&lt;dbl&gt;</th></tr>\n",
       "</thead>\n",
       "<tbody>\n",
       "\t<tr><td>Austria</td><td>Europe</td><td>1952</td><td>66.800</td><td>6927772</td><td> 6137.076</td></tr>\n",
       "\t<tr><td>Austria</td><td>Europe</td><td>1957</td><td>67.480</td><td>6965860</td><td> 8842.598</td></tr>\n",
       "\t<tr><td>Austria</td><td>Europe</td><td>1962</td><td>69.540</td><td>7129864</td><td>10750.721</td></tr>\n",
       "\t<tr><td>Austria</td><td>Europe</td><td>1967</td><td>70.140</td><td>7376998</td><td>12834.602</td></tr>\n",
       "\t<tr><td>Austria</td><td>Europe</td><td>1972</td><td>70.630</td><td>7544201</td><td>16661.626</td></tr>\n",
       "\t<tr><td>Austria</td><td>Europe</td><td>1977</td><td>72.170</td><td>7568430</td><td>19749.422</td></tr>\n",
       "\t<tr><td>Austria</td><td>Europe</td><td>1982</td><td>73.180</td><td>7574613</td><td>21597.084</td></tr>\n",
       "\t<tr><td>Austria</td><td>Europe</td><td>1987</td><td>74.940</td><td>7578903</td><td>23687.826</td></tr>\n",
       "\t<tr><td>Austria</td><td>Europe</td><td>1992</td><td>76.040</td><td>7914969</td><td>27042.019</td></tr>\n",
       "\t<tr><td>Austria</td><td>Europe</td><td>1997</td><td>77.510</td><td>8069876</td><td>29095.921</td></tr>\n",
       "\t<tr><td>Austria</td><td>Europe</td><td>2002</td><td>78.980</td><td>8148312</td><td>32417.608</td></tr>\n",
       "\t<tr><td>Austria</td><td>Europe</td><td>2007</td><td>79.829</td><td>8199783</td><td>36126.493</td></tr>\n",
       "</tbody>\n",
       "</table>\n"
      ],
      "text/latex": [
       "A tibble: 12 × 6\n",
       "\\begin{tabular}{llllll}\n",
       " country & continent & year & lifeExp & pop & gdpPercap\\\\\n",
       " <fct> & <fct> & <int> & <dbl> & <int> & <dbl>\\\\\n",
       "\\hline\n",
       "\t Austria & Europe & 1952 & 66.800 & 6927772 &  6137.076\\\\\n",
       "\t Austria & Europe & 1957 & 67.480 & 6965860 &  8842.598\\\\\n",
       "\t Austria & Europe & 1962 & 69.540 & 7129864 & 10750.721\\\\\n",
       "\t Austria & Europe & 1967 & 70.140 & 7376998 & 12834.602\\\\\n",
       "\t Austria & Europe & 1972 & 70.630 & 7544201 & 16661.626\\\\\n",
       "\t Austria & Europe & 1977 & 72.170 & 7568430 & 19749.422\\\\\n",
       "\t Austria & Europe & 1982 & 73.180 & 7574613 & 21597.084\\\\\n",
       "\t Austria & Europe & 1987 & 74.940 & 7578903 & 23687.826\\\\\n",
       "\t Austria & Europe & 1992 & 76.040 & 7914969 & 27042.019\\\\\n",
       "\t Austria & Europe & 1997 & 77.510 & 8069876 & 29095.921\\\\\n",
       "\t Austria & Europe & 2002 & 78.980 & 8148312 & 32417.608\\\\\n",
       "\t Austria & Europe & 2007 & 79.829 & 8199783 & 36126.493\\\\\n",
       "\\end{tabular}\n"
      ],
      "text/markdown": [
       "\n",
       "A tibble: 12 × 6\n",
       "\n",
       "| country &lt;fct&gt; | continent &lt;fct&gt; | year &lt;int&gt; | lifeExp &lt;dbl&gt; | pop &lt;int&gt; | gdpPercap &lt;dbl&gt; |\n",
       "|---|---|---|---|---|---|\n",
       "| Austria | Europe | 1952 | 66.800 | 6927772 |  6137.076 |\n",
       "| Austria | Europe | 1957 | 67.480 | 6965860 |  8842.598 |\n",
       "| Austria | Europe | 1962 | 69.540 | 7129864 | 10750.721 |\n",
       "| Austria | Europe | 1967 | 70.140 | 7376998 | 12834.602 |\n",
       "| Austria | Europe | 1972 | 70.630 | 7544201 | 16661.626 |\n",
       "| Austria | Europe | 1977 | 72.170 | 7568430 | 19749.422 |\n",
       "| Austria | Europe | 1982 | 73.180 | 7574613 | 21597.084 |\n",
       "| Austria | Europe | 1987 | 74.940 | 7578903 | 23687.826 |\n",
       "| Austria | Europe | 1992 | 76.040 | 7914969 | 27042.019 |\n",
       "| Austria | Europe | 1997 | 77.510 | 8069876 | 29095.921 |\n",
       "| Austria | Europe | 2002 | 78.980 | 8148312 | 32417.608 |\n",
       "| Austria | Europe | 2007 | 79.829 | 8199783 | 36126.493 |\n",
       "\n"
      ],
      "text/plain": [
       "   country continent year lifeExp pop     gdpPercap\n",
       "1  Austria Europe    1952 66.800  6927772  6137.076\n",
       "2  Austria Europe    1957 67.480  6965860  8842.598\n",
       "3  Austria Europe    1962 69.540  7129864 10750.721\n",
       "4  Austria Europe    1967 70.140  7376998 12834.602\n",
       "5  Austria Europe    1972 70.630  7544201 16661.626\n",
       "6  Austria Europe    1977 72.170  7568430 19749.422\n",
       "7  Austria Europe    1982 73.180  7574613 21597.084\n",
       "8  Austria Europe    1987 74.940  7578903 23687.826\n",
       "9  Austria Europe    1992 76.040  7914969 27042.019\n",
       "10 Austria Europe    1997 77.510  8069876 29095.921\n",
       "11 Austria Europe    2002 78.980  8148312 32417.608\n",
       "12 Austria Europe    2007 79.829  8199783 36126.493"
      ]
     },
     "metadata": {},
     "output_type": "display_data"
    }
   ],
   "source": [
    "austria <- filter(gapminder, country == \"Austria\")\n",
    "austria"
   ]
  },
  {
   "cell_type": "markdown",
   "id": "f6949d8f",
   "metadata": {},
   "source": [
    "#### 3.3.2. Pipe (%>%) operator"
   ]
  },
  {
   "cell_type": "markdown",
   "id": "2fd9694a",
   "metadata": {},
   "source": [
    "`%>%` is `pipe` operator. The pipe operator takes the thing on the left-hand-side and pipes it into the function call on the right-hand-side – literally, drops it in as the first argument.\n",
    "\n",
    "`head()` function without pipe and top 4 items:"
   ]
  },
  {
   "cell_type": "code",
   "execution_count": 79,
   "id": "3f358ca6",
   "metadata": {},
   "outputs": [
    {
     "data": {
      "text/html": [
       "<table class=\"dataframe\">\n",
       "<caption>A tibble: 4 × 6</caption>\n",
       "<thead>\n",
       "\t<tr><th scope=col>country</th><th scope=col>continent</th><th scope=col>year</th><th scope=col>lifeExp</th><th scope=col>pop</th><th scope=col>gdpPercap</th></tr>\n",
       "\t<tr><th scope=col>&lt;fct&gt;</th><th scope=col>&lt;fct&gt;</th><th scope=col>&lt;int&gt;</th><th scope=col>&lt;dbl&gt;</th><th scope=col>&lt;int&gt;</th><th scope=col>&lt;dbl&gt;</th></tr>\n",
       "</thead>\n",
       "<tbody>\n",
       "\t<tr><td>Afghanistan</td><td>Asia</td><td>1952</td><td>28.801</td><td> 8425333</td><td>779.4453</td></tr>\n",
       "\t<tr><td>Afghanistan</td><td>Asia</td><td>1957</td><td>30.332</td><td> 9240934</td><td>820.8530</td></tr>\n",
       "\t<tr><td>Afghanistan</td><td>Asia</td><td>1962</td><td>31.997</td><td>10267083</td><td>853.1007</td></tr>\n",
       "\t<tr><td>Afghanistan</td><td>Asia</td><td>1967</td><td>34.020</td><td>11537966</td><td>836.1971</td></tr>\n",
       "</tbody>\n",
       "</table>\n"
      ],
      "text/latex": [
       "A tibble: 4 × 6\n",
       "\\begin{tabular}{llllll}\n",
       " country & continent & year & lifeExp & pop & gdpPercap\\\\\n",
       " <fct> & <fct> & <int> & <dbl> & <int> & <dbl>\\\\\n",
       "\\hline\n",
       "\t Afghanistan & Asia & 1952 & 28.801 &  8425333 & 779.4453\\\\\n",
       "\t Afghanistan & Asia & 1957 & 30.332 &  9240934 & 820.8530\\\\\n",
       "\t Afghanistan & Asia & 1962 & 31.997 & 10267083 & 853.1007\\\\\n",
       "\t Afghanistan & Asia & 1967 & 34.020 & 11537966 & 836.1971\\\\\n",
       "\\end{tabular}\n"
      ],
      "text/markdown": [
       "\n",
       "A tibble: 4 × 6\n",
       "\n",
       "| country &lt;fct&gt; | continent &lt;fct&gt; | year &lt;int&gt; | lifeExp &lt;dbl&gt; | pop &lt;int&gt; | gdpPercap &lt;dbl&gt; |\n",
       "|---|---|---|---|---|---|\n",
       "| Afghanistan | Asia | 1952 | 28.801 |  8425333 | 779.4453 |\n",
       "| Afghanistan | Asia | 1957 | 30.332 |  9240934 | 820.8530 |\n",
       "| Afghanistan | Asia | 1962 | 31.997 | 10267083 | 853.1007 |\n",
       "| Afghanistan | Asia | 1967 | 34.020 | 11537966 | 836.1971 |\n",
       "\n"
      ],
      "text/plain": [
       "  country     continent year lifeExp pop      gdpPercap\n",
       "1 Afghanistan Asia      1952 28.801   8425333 779.4453 \n",
       "2 Afghanistan Asia      1957 30.332   9240934 820.8530 \n",
       "3 Afghanistan Asia      1962 31.997  10267083 853.1007 \n",
       "4 Afghanistan Asia      1967 34.020  11537966 836.1971 "
      ]
     },
     "metadata": {},
     "output_type": "display_data"
    }
   ],
   "source": [
    "head(gapminder, n = 4)"
   ]
  },
  {
   "cell_type": "markdown",
   "id": "f1306f3f",
   "metadata": {},
   "source": [
    "`head()` function with pipe and top 4 items:"
   ]
  },
  {
   "cell_type": "code",
   "execution_count": 81,
   "id": "5bb45cd9",
   "metadata": {},
   "outputs": [
    {
     "data": {
      "text/html": [
       "<table class=\"dataframe\">\n",
       "<caption>A tibble: 4 × 6</caption>\n",
       "<thead>\n",
       "\t<tr><th scope=col>country</th><th scope=col>continent</th><th scope=col>year</th><th scope=col>lifeExp</th><th scope=col>pop</th><th scope=col>gdpPercap</th></tr>\n",
       "\t<tr><th scope=col>&lt;fct&gt;</th><th scope=col>&lt;fct&gt;</th><th scope=col>&lt;int&gt;</th><th scope=col>&lt;dbl&gt;</th><th scope=col>&lt;int&gt;</th><th scope=col>&lt;dbl&gt;</th></tr>\n",
       "</thead>\n",
       "<tbody>\n",
       "\t<tr><td>Afghanistan</td><td>Asia</td><td>1952</td><td>28.801</td><td> 8425333</td><td>779.4453</td></tr>\n",
       "\t<tr><td>Afghanistan</td><td>Asia</td><td>1957</td><td>30.332</td><td> 9240934</td><td>820.8530</td></tr>\n",
       "\t<tr><td>Afghanistan</td><td>Asia</td><td>1962</td><td>31.997</td><td>10267083</td><td>853.1007</td></tr>\n",
       "\t<tr><td>Afghanistan</td><td>Asia</td><td>1967</td><td>34.020</td><td>11537966</td><td>836.1971</td></tr>\n",
       "</tbody>\n",
       "</table>\n"
      ],
      "text/latex": [
       "A tibble: 4 × 6\n",
       "\\begin{tabular}{llllll}\n",
       " country & continent & year & lifeExp & pop & gdpPercap\\\\\n",
       " <fct> & <fct> & <int> & <dbl> & <int> & <dbl>\\\\\n",
       "\\hline\n",
       "\t Afghanistan & Asia & 1952 & 28.801 &  8425333 & 779.4453\\\\\n",
       "\t Afghanistan & Asia & 1957 & 30.332 &  9240934 & 820.8530\\\\\n",
       "\t Afghanistan & Asia & 1962 & 31.997 & 10267083 & 853.1007\\\\\n",
       "\t Afghanistan & Asia & 1967 & 34.020 & 11537966 & 836.1971\\\\\n",
       "\\end{tabular}\n"
      ],
      "text/markdown": [
       "\n",
       "A tibble: 4 × 6\n",
       "\n",
       "| country &lt;fct&gt; | continent &lt;fct&gt; | year &lt;int&gt; | lifeExp &lt;dbl&gt; | pop &lt;int&gt; | gdpPercap &lt;dbl&gt; |\n",
       "|---|---|---|---|---|---|\n",
       "| Afghanistan | Asia | 1952 | 28.801 |  8425333 | 779.4453 |\n",
       "| Afghanistan | Asia | 1957 | 30.332 |  9240934 | 820.8530 |\n",
       "| Afghanistan | Asia | 1962 | 31.997 | 10267083 | 853.1007 |\n",
       "| Afghanistan | Asia | 1967 | 34.020 | 11537966 | 836.1971 |\n",
       "\n"
      ],
      "text/plain": [
       "  country     continent year lifeExp pop      gdpPercap\n",
       "1 Afghanistan Asia      1952 28.801   8425333 779.4453 \n",
       "2 Afghanistan Asia      1957 30.332   9240934 820.8530 \n",
       "3 Afghanistan Asia      1962 31.997  10267083 853.1007 \n",
       "4 Afghanistan Asia      1967 34.020  11537966 836.1971 "
      ]
     },
     "metadata": {},
     "output_type": "display_data"
    }
   ],
   "source": [
    "gapminder %>% head(4)"
   ]
  },
  {
   "cell_type": "markdown",
   "id": "424584ab",
   "metadata": {},
   "source": [
    "Output is the same. So, let's rewrire filtering for `Austria` with pipe:"
   ]
  },
  {
   "cell_type": "code",
   "execution_count": 84,
   "id": "a419d12e",
   "metadata": {},
   "outputs": [
    {
     "data": {
      "text/html": [
       "<table class=\"dataframe\">\n",
       "<caption>A tibble: 12 × 6</caption>\n",
       "<thead>\n",
       "\t<tr><th scope=col>country</th><th scope=col>continent</th><th scope=col>year</th><th scope=col>lifeExp</th><th scope=col>pop</th><th scope=col>gdpPercap</th></tr>\n",
       "\t<tr><th scope=col>&lt;fct&gt;</th><th scope=col>&lt;fct&gt;</th><th scope=col>&lt;int&gt;</th><th scope=col>&lt;dbl&gt;</th><th scope=col>&lt;int&gt;</th><th scope=col>&lt;dbl&gt;</th></tr>\n",
       "</thead>\n",
       "<tbody>\n",
       "\t<tr><td>Austria</td><td>Europe</td><td>1952</td><td>66.800</td><td>6927772</td><td> 6137.076</td></tr>\n",
       "\t<tr><td>Austria</td><td>Europe</td><td>1957</td><td>67.480</td><td>6965860</td><td> 8842.598</td></tr>\n",
       "\t<tr><td>Austria</td><td>Europe</td><td>1962</td><td>69.540</td><td>7129864</td><td>10750.721</td></tr>\n",
       "\t<tr><td>Austria</td><td>Europe</td><td>1967</td><td>70.140</td><td>7376998</td><td>12834.602</td></tr>\n",
       "\t<tr><td>Austria</td><td>Europe</td><td>1972</td><td>70.630</td><td>7544201</td><td>16661.626</td></tr>\n",
       "\t<tr><td>Austria</td><td>Europe</td><td>1977</td><td>72.170</td><td>7568430</td><td>19749.422</td></tr>\n",
       "\t<tr><td>Austria</td><td>Europe</td><td>1982</td><td>73.180</td><td>7574613</td><td>21597.084</td></tr>\n",
       "\t<tr><td>Austria</td><td>Europe</td><td>1987</td><td>74.940</td><td>7578903</td><td>23687.826</td></tr>\n",
       "\t<tr><td>Austria</td><td>Europe</td><td>1992</td><td>76.040</td><td>7914969</td><td>27042.019</td></tr>\n",
       "\t<tr><td>Austria</td><td>Europe</td><td>1997</td><td>77.510</td><td>8069876</td><td>29095.921</td></tr>\n",
       "\t<tr><td>Austria</td><td>Europe</td><td>2002</td><td>78.980</td><td>8148312</td><td>32417.608</td></tr>\n",
       "\t<tr><td>Austria</td><td>Europe</td><td>2007</td><td>79.829</td><td>8199783</td><td>36126.493</td></tr>\n",
       "</tbody>\n",
       "</table>\n"
      ],
      "text/latex": [
       "A tibble: 12 × 6\n",
       "\\begin{tabular}{llllll}\n",
       " country & continent & year & lifeExp & pop & gdpPercap\\\\\n",
       " <fct> & <fct> & <int> & <dbl> & <int> & <dbl>\\\\\n",
       "\\hline\n",
       "\t Austria & Europe & 1952 & 66.800 & 6927772 &  6137.076\\\\\n",
       "\t Austria & Europe & 1957 & 67.480 & 6965860 &  8842.598\\\\\n",
       "\t Austria & Europe & 1962 & 69.540 & 7129864 & 10750.721\\\\\n",
       "\t Austria & Europe & 1967 & 70.140 & 7376998 & 12834.602\\\\\n",
       "\t Austria & Europe & 1972 & 70.630 & 7544201 & 16661.626\\\\\n",
       "\t Austria & Europe & 1977 & 72.170 & 7568430 & 19749.422\\\\\n",
       "\t Austria & Europe & 1982 & 73.180 & 7574613 & 21597.084\\\\\n",
       "\t Austria & Europe & 1987 & 74.940 & 7578903 & 23687.826\\\\\n",
       "\t Austria & Europe & 1992 & 76.040 & 7914969 & 27042.019\\\\\n",
       "\t Austria & Europe & 1997 & 77.510 & 8069876 & 29095.921\\\\\n",
       "\t Austria & Europe & 2002 & 78.980 & 8148312 & 32417.608\\\\\n",
       "\t Austria & Europe & 2007 & 79.829 & 8199783 & 36126.493\\\\\n",
       "\\end{tabular}\n"
      ],
      "text/markdown": [
       "\n",
       "A tibble: 12 × 6\n",
       "\n",
       "| country &lt;fct&gt; | continent &lt;fct&gt; | year &lt;int&gt; | lifeExp &lt;dbl&gt; | pop &lt;int&gt; | gdpPercap &lt;dbl&gt; |\n",
       "|---|---|---|---|---|---|\n",
       "| Austria | Europe | 1952 | 66.800 | 6927772 |  6137.076 |\n",
       "| Austria | Europe | 1957 | 67.480 | 6965860 |  8842.598 |\n",
       "| Austria | Europe | 1962 | 69.540 | 7129864 | 10750.721 |\n",
       "| Austria | Europe | 1967 | 70.140 | 7376998 | 12834.602 |\n",
       "| Austria | Europe | 1972 | 70.630 | 7544201 | 16661.626 |\n",
       "| Austria | Europe | 1977 | 72.170 | 7568430 | 19749.422 |\n",
       "| Austria | Europe | 1982 | 73.180 | 7574613 | 21597.084 |\n",
       "| Austria | Europe | 1987 | 74.940 | 7578903 | 23687.826 |\n",
       "| Austria | Europe | 1992 | 76.040 | 7914969 | 27042.019 |\n",
       "| Austria | Europe | 1997 | 77.510 | 8069876 | 29095.921 |\n",
       "| Austria | Europe | 2002 | 78.980 | 8148312 | 32417.608 |\n",
       "| Austria | Europe | 2007 | 79.829 | 8199783 | 36126.493 |\n",
       "\n"
      ],
      "text/plain": [
       "   country continent year lifeExp pop     gdpPercap\n",
       "1  Austria Europe    1952 66.800  6927772  6137.076\n",
       "2  Austria Europe    1957 67.480  6965860  8842.598\n",
       "3  Austria Europe    1962 69.540  7129864 10750.721\n",
       "4  Austria Europe    1967 70.140  7376998 12834.602\n",
       "5  Austria Europe    1972 70.630  7544201 16661.626\n",
       "6  Austria Europe    1977 72.170  7568430 19749.422\n",
       "7  Austria Europe    1982 73.180  7574613 21597.084\n",
       "8  Austria Europe    1987 74.940  7578903 23687.826\n",
       "9  Austria Europe    1992 76.040  7914969 27042.019\n",
       "10 Austria Europe    1997 77.510  8069876 29095.921\n",
       "11 Austria Europe    2002 78.980  8148312 32417.608\n",
       "12 Austria Europe    2007 79.829  8199783 36126.493"
      ]
     },
     "metadata": {},
     "output_type": "display_data"
    }
   ],
   "source": [
    "austria <- gapminder %>% filter(country == \"Austria\")\n",
    "austria"
   ]
  },
  {
   "cell_type": "markdown",
   "id": "84bcf3c2",
   "metadata": {},
   "source": [
    "#### 3.3.4. `select` function"
   ]
  },
  {
   "cell_type": "markdown",
   "id": "8221be62",
   "metadata": {},
   "source": [
    "Use `select()` to subset the data on variables/columns by `names` or `index`. You also can define order of columns with `select()`."
   ]
  },
  {
   "cell_type": "code",
   "execution_count": 89,
   "id": "93f775f7",
   "metadata": {},
   "outputs": [
    {
     "data": {
      "text/html": [
       "<table class=\"dataframe\">\n",
       "<caption>A tibble: 1704 × 3</caption>\n",
       "<thead>\n",
       "\t<tr><th scope=col>year</th><th scope=col>country</th><th scope=col>pop</th></tr>\n",
       "\t<tr><th scope=col>&lt;int&gt;</th><th scope=col>&lt;fct&gt;</th><th scope=col>&lt;int&gt;</th></tr>\n",
       "</thead>\n",
       "<tbody>\n",
       "\t<tr><td>1952</td><td>Afghanistan</td><td> 8425333</td></tr>\n",
       "\t<tr><td>1957</td><td>Afghanistan</td><td> 9240934</td></tr>\n",
       "\t<tr><td>1962</td><td>Afghanistan</td><td>10267083</td></tr>\n",
       "\t<tr><td>1967</td><td>Afghanistan</td><td>11537966</td></tr>\n",
       "\t<tr><td>1972</td><td>Afghanistan</td><td>13079460</td></tr>\n",
       "\t<tr><td>1977</td><td>Afghanistan</td><td>14880372</td></tr>\n",
       "\t<tr><td>1982</td><td>Afghanistan</td><td>12881816</td></tr>\n",
       "\t<tr><td>1987</td><td>Afghanistan</td><td>13867957</td></tr>\n",
       "\t<tr><td>1992</td><td>Afghanistan</td><td>16317921</td></tr>\n",
       "\t<tr><td>1997</td><td>Afghanistan</td><td>22227415</td></tr>\n",
       "\t<tr><td>2002</td><td>Afghanistan</td><td>25268405</td></tr>\n",
       "\t<tr><td>2007</td><td>Afghanistan</td><td>31889923</td></tr>\n",
       "\t<tr><td>1952</td><td>Albania    </td><td> 1282697</td></tr>\n",
       "\t<tr><td>1957</td><td>Albania    </td><td> 1476505</td></tr>\n",
       "\t<tr><td>1962</td><td>Albania    </td><td> 1728137</td></tr>\n",
       "\t<tr><td>1967</td><td>Albania    </td><td> 1984060</td></tr>\n",
       "\t<tr><td>1972</td><td>Albania    </td><td> 2263554</td></tr>\n",
       "\t<tr><td>1977</td><td>Albania    </td><td> 2509048</td></tr>\n",
       "\t<tr><td>1982</td><td>Albania    </td><td> 2780097</td></tr>\n",
       "\t<tr><td>1987</td><td>Albania    </td><td> 3075321</td></tr>\n",
       "\t<tr><td>1992</td><td>Albania    </td><td> 3326498</td></tr>\n",
       "\t<tr><td>1997</td><td>Albania    </td><td> 3428038</td></tr>\n",
       "\t<tr><td>2002</td><td>Albania    </td><td> 3508512</td></tr>\n",
       "\t<tr><td>2007</td><td>Albania    </td><td> 3600523</td></tr>\n",
       "\t<tr><td>1952</td><td>Algeria    </td><td> 9279525</td></tr>\n",
       "\t<tr><td>1957</td><td>Algeria    </td><td>10270856</td></tr>\n",
       "\t<tr><td>1962</td><td>Algeria    </td><td>11000948</td></tr>\n",
       "\t<tr><td>1967</td><td>Algeria    </td><td>12760499</td></tr>\n",
       "\t<tr><td>1972</td><td>Algeria    </td><td>14760787</td></tr>\n",
       "\t<tr><td>1977</td><td>Algeria    </td><td>17152804</td></tr>\n",
       "\t<tr><td>...</td><td>...</td><td>...</td></tr>\n",
       "\t<tr><td>1982</td><td>Yemen, Rep.</td><td> 9657618</td></tr>\n",
       "\t<tr><td>1987</td><td>Yemen, Rep.</td><td>11219340</td></tr>\n",
       "\t<tr><td>1992</td><td>Yemen, Rep.</td><td>13367997</td></tr>\n",
       "\t<tr><td>1997</td><td>Yemen, Rep.</td><td>15826497</td></tr>\n",
       "\t<tr><td>2002</td><td>Yemen, Rep.</td><td>18701257</td></tr>\n",
       "\t<tr><td>2007</td><td>Yemen, Rep.</td><td>22211743</td></tr>\n",
       "\t<tr><td>1952</td><td>Zambia     </td><td> 2672000</td></tr>\n",
       "\t<tr><td>1957</td><td>Zambia     </td><td> 3016000</td></tr>\n",
       "\t<tr><td>1962</td><td>Zambia     </td><td> 3421000</td></tr>\n",
       "\t<tr><td>1967</td><td>Zambia     </td><td> 3900000</td></tr>\n",
       "\t<tr><td>1972</td><td>Zambia     </td><td> 4506497</td></tr>\n",
       "\t<tr><td>1977</td><td>Zambia     </td><td> 5216550</td></tr>\n",
       "\t<tr><td>1982</td><td>Zambia     </td><td> 6100407</td></tr>\n",
       "\t<tr><td>1987</td><td>Zambia     </td><td> 7272406</td></tr>\n",
       "\t<tr><td>1992</td><td>Zambia     </td><td> 8381163</td></tr>\n",
       "\t<tr><td>1997</td><td>Zambia     </td><td> 9417789</td></tr>\n",
       "\t<tr><td>2002</td><td>Zambia     </td><td>10595811</td></tr>\n",
       "\t<tr><td>2007</td><td>Zambia     </td><td>11746035</td></tr>\n",
       "\t<tr><td>1952</td><td>Zimbabwe   </td><td> 3080907</td></tr>\n",
       "\t<tr><td>1957</td><td>Zimbabwe   </td><td> 3646340</td></tr>\n",
       "\t<tr><td>1962</td><td>Zimbabwe   </td><td> 4277736</td></tr>\n",
       "\t<tr><td>1967</td><td>Zimbabwe   </td><td> 4995432</td></tr>\n",
       "\t<tr><td>1972</td><td>Zimbabwe   </td><td> 5861135</td></tr>\n",
       "\t<tr><td>1977</td><td>Zimbabwe   </td><td> 6642107</td></tr>\n",
       "\t<tr><td>1982</td><td>Zimbabwe   </td><td> 7636524</td></tr>\n",
       "\t<tr><td>1987</td><td>Zimbabwe   </td><td> 9216418</td></tr>\n",
       "\t<tr><td>1992</td><td>Zimbabwe   </td><td>10704340</td></tr>\n",
       "\t<tr><td>1997</td><td>Zimbabwe   </td><td>11404948</td></tr>\n",
       "\t<tr><td>2002</td><td>Zimbabwe   </td><td>11926563</td></tr>\n",
       "\t<tr><td>2007</td><td>Zimbabwe   </td><td>12311143</td></tr>\n",
       "</tbody>\n",
       "</table>\n"
      ],
      "text/latex": [
       "A tibble: 1704 × 3\n",
       "\\begin{tabular}{lll}\n",
       " year & country & pop\\\\\n",
       " <int> & <fct> & <int>\\\\\n",
       "\\hline\n",
       "\t 1952 & Afghanistan &  8425333\\\\\n",
       "\t 1957 & Afghanistan &  9240934\\\\\n",
       "\t 1962 & Afghanistan & 10267083\\\\\n",
       "\t 1967 & Afghanistan & 11537966\\\\\n",
       "\t 1972 & Afghanistan & 13079460\\\\\n",
       "\t 1977 & Afghanistan & 14880372\\\\\n",
       "\t 1982 & Afghanistan & 12881816\\\\\n",
       "\t 1987 & Afghanistan & 13867957\\\\\n",
       "\t 1992 & Afghanistan & 16317921\\\\\n",
       "\t 1997 & Afghanistan & 22227415\\\\\n",
       "\t 2002 & Afghanistan & 25268405\\\\\n",
       "\t 2007 & Afghanistan & 31889923\\\\\n",
       "\t 1952 & Albania     &  1282697\\\\\n",
       "\t 1957 & Albania     &  1476505\\\\\n",
       "\t 1962 & Albania     &  1728137\\\\\n",
       "\t 1967 & Albania     &  1984060\\\\\n",
       "\t 1972 & Albania     &  2263554\\\\\n",
       "\t 1977 & Albania     &  2509048\\\\\n",
       "\t 1982 & Albania     &  2780097\\\\\n",
       "\t 1987 & Albania     &  3075321\\\\\n",
       "\t 1992 & Albania     &  3326498\\\\\n",
       "\t 1997 & Albania     &  3428038\\\\\n",
       "\t 2002 & Albania     &  3508512\\\\\n",
       "\t 2007 & Albania     &  3600523\\\\\n",
       "\t 1952 & Algeria     &  9279525\\\\\n",
       "\t 1957 & Algeria     & 10270856\\\\\n",
       "\t 1962 & Algeria     & 11000948\\\\\n",
       "\t 1967 & Algeria     & 12760499\\\\\n",
       "\t 1972 & Algeria     & 14760787\\\\\n",
       "\t 1977 & Algeria     & 17152804\\\\\n",
       "\t ... & ... & ...\\\\\n",
       "\t 1982 & Yemen, Rep. &  9657618\\\\\n",
       "\t 1987 & Yemen, Rep. & 11219340\\\\\n",
       "\t 1992 & Yemen, Rep. & 13367997\\\\\n",
       "\t 1997 & Yemen, Rep. & 15826497\\\\\n",
       "\t 2002 & Yemen, Rep. & 18701257\\\\\n",
       "\t 2007 & Yemen, Rep. & 22211743\\\\\n",
       "\t 1952 & Zambia      &  2672000\\\\\n",
       "\t 1957 & Zambia      &  3016000\\\\\n",
       "\t 1962 & Zambia      &  3421000\\\\\n",
       "\t 1967 & Zambia      &  3900000\\\\\n",
       "\t 1972 & Zambia      &  4506497\\\\\n",
       "\t 1977 & Zambia      &  5216550\\\\\n",
       "\t 1982 & Zambia      &  6100407\\\\\n",
       "\t 1987 & Zambia      &  7272406\\\\\n",
       "\t 1992 & Zambia      &  8381163\\\\\n",
       "\t 1997 & Zambia      &  9417789\\\\\n",
       "\t 2002 & Zambia      & 10595811\\\\\n",
       "\t 2007 & Zambia      & 11746035\\\\\n",
       "\t 1952 & Zimbabwe    &  3080907\\\\\n",
       "\t 1957 & Zimbabwe    &  3646340\\\\\n",
       "\t 1962 & Zimbabwe    &  4277736\\\\\n",
       "\t 1967 & Zimbabwe    &  4995432\\\\\n",
       "\t 1972 & Zimbabwe    &  5861135\\\\\n",
       "\t 1977 & Zimbabwe    &  6642107\\\\\n",
       "\t 1982 & Zimbabwe    &  7636524\\\\\n",
       "\t 1987 & Zimbabwe    &  9216418\\\\\n",
       "\t 1992 & Zimbabwe    & 10704340\\\\\n",
       "\t 1997 & Zimbabwe    & 11404948\\\\\n",
       "\t 2002 & Zimbabwe    & 11926563\\\\\n",
       "\t 2007 & Zimbabwe    & 12311143\\\\\n",
       "\\end{tabular}\n"
      ],
      "text/markdown": [
       "\n",
       "A tibble: 1704 × 3\n",
       "\n",
       "| year &lt;int&gt; | country &lt;fct&gt; | pop &lt;int&gt; |\n",
       "|---|---|---|\n",
       "| 1952 | Afghanistan |  8425333 |\n",
       "| 1957 | Afghanistan |  9240934 |\n",
       "| 1962 | Afghanistan | 10267083 |\n",
       "| 1967 | Afghanistan | 11537966 |\n",
       "| 1972 | Afghanistan | 13079460 |\n",
       "| 1977 | Afghanistan | 14880372 |\n",
       "| 1982 | Afghanistan | 12881816 |\n",
       "| 1987 | Afghanistan | 13867957 |\n",
       "| 1992 | Afghanistan | 16317921 |\n",
       "| 1997 | Afghanistan | 22227415 |\n",
       "| 2002 | Afghanistan | 25268405 |\n",
       "| 2007 | Afghanistan | 31889923 |\n",
       "| 1952 | Albania     |  1282697 |\n",
       "| 1957 | Albania     |  1476505 |\n",
       "| 1962 | Albania     |  1728137 |\n",
       "| 1967 | Albania     |  1984060 |\n",
       "| 1972 | Albania     |  2263554 |\n",
       "| 1977 | Albania     |  2509048 |\n",
       "| 1982 | Albania     |  2780097 |\n",
       "| 1987 | Albania     |  3075321 |\n",
       "| 1992 | Albania     |  3326498 |\n",
       "| 1997 | Albania     |  3428038 |\n",
       "| 2002 | Albania     |  3508512 |\n",
       "| 2007 | Albania     |  3600523 |\n",
       "| 1952 | Algeria     |  9279525 |\n",
       "| 1957 | Algeria     | 10270856 |\n",
       "| 1962 | Algeria     | 11000948 |\n",
       "| 1967 | Algeria     | 12760499 |\n",
       "| 1972 | Algeria     | 14760787 |\n",
       "| 1977 | Algeria     | 17152804 |\n",
       "| ... | ... | ... |\n",
       "| 1982 | Yemen, Rep. |  9657618 |\n",
       "| 1987 | Yemen, Rep. | 11219340 |\n",
       "| 1992 | Yemen, Rep. | 13367997 |\n",
       "| 1997 | Yemen, Rep. | 15826497 |\n",
       "| 2002 | Yemen, Rep. | 18701257 |\n",
       "| 2007 | Yemen, Rep. | 22211743 |\n",
       "| 1952 | Zambia      |  2672000 |\n",
       "| 1957 | Zambia      |  3016000 |\n",
       "| 1962 | Zambia      |  3421000 |\n",
       "| 1967 | Zambia      |  3900000 |\n",
       "| 1972 | Zambia      |  4506497 |\n",
       "| 1977 | Zambia      |  5216550 |\n",
       "| 1982 | Zambia      |  6100407 |\n",
       "| 1987 | Zambia      |  7272406 |\n",
       "| 1992 | Zambia      |  8381163 |\n",
       "| 1997 | Zambia      |  9417789 |\n",
       "| 2002 | Zambia      | 10595811 |\n",
       "| 2007 | Zambia      | 11746035 |\n",
       "| 1952 | Zimbabwe    |  3080907 |\n",
       "| 1957 | Zimbabwe    |  3646340 |\n",
       "| 1962 | Zimbabwe    |  4277736 |\n",
       "| 1967 | Zimbabwe    |  4995432 |\n",
       "| 1972 | Zimbabwe    |  5861135 |\n",
       "| 1977 | Zimbabwe    |  6642107 |\n",
       "| 1982 | Zimbabwe    |  7636524 |\n",
       "| 1987 | Zimbabwe    |  9216418 |\n",
       "| 1992 | Zimbabwe    | 10704340 |\n",
       "| 1997 | Zimbabwe    | 11404948 |\n",
       "| 2002 | Zimbabwe    | 11926563 |\n",
       "| 2007 | Zimbabwe    | 12311143 |\n",
       "\n"
      ],
      "text/plain": [
       "     year country     pop     \n",
       "1    1952 Afghanistan  8425333\n",
       "2    1957 Afghanistan  9240934\n",
       "3    1962 Afghanistan 10267083\n",
       "4    1967 Afghanistan 11537966\n",
       "5    1972 Afghanistan 13079460\n",
       "6    1977 Afghanistan 14880372\n",
       "7    1982 Afghanistan 12881816\n",
       "8    1987 Afghanistan 13867957\n",
       "9    1992 Afghanistan 16317921\n",
       "10   1997 Afghanistan 22227415\n",
       "11   2002 Afghanistan 25268405\n",
       "12   2007 Afghanistan 31889923\n",
       "13   1952 Albania      1282697\n",
       "14   1957 Albania      1476505\n",
       "15   1962 Albania      1728137\n",
       "16   1967 Albania      1984060\n",
       "17   1972 Albania      2263554\n",
       "18   1977 Albania      2509048\n",
       "19   1982 Albania      2780097\n",
       "20   1987 Albania      3075321\n",
       "21   1992 Albania      3326498\n",
       "22   1997 Albania      3428038\n",
       "23   2002 Albania      3508512\n",
       "24   2007 Albania      3600523\n",
       "25   1952 Algeria      9279525\n",
       "26   1957 Algeria     10270856\n",
       "27   1962 Algeria     11000948\n",
       "28   1967 Algeria     12760499\n",
       "29   1972 Algeria     14760787\n",
       "30   1977 Algeria     17152804\n",
       "...  ...  ...         ...     \n",
       "1675 1982 Yemen, Rep.  9657618\n",
       "1676 1987 Yemen, Rep. 11219340\n",
       "1677 1992 Yemen, Rep. 13367997\n",
       "1678 1997 Yemen, Rep. 15826497\n",
       "1679 2002 Yemen, Rep. 18701257\n",
       "1680 2007 Yemen, Rep. 22211743\n",
       "1681 1952 Zambia       2672000\n",
       "1682 1957 Zambia       3016000\n",
       "1683 1962 Zambia       3421000\n",
       "1684 1967 Zambia       3900000\n",
       "1685 1972 Zambia       4506497\n",
       "1686 1977 Zambia       5216550\n",
       "1687 1982 Zambia       6100407\n",
       "1688 1987 Zambia       7272406\n",
       "1689 1992 Zambia       8381163\n",
       "1690 1997 Zambia       9417789\n",
       "1691 2002 Zambia      10595811\n",
       "1692 2007 Zambia      11746035\n",
       "1693 1952 Zimbabwe     3080907\n",
       "1694 1957 Zimbabwe     3646340\n",
       "1695 1962 Zimbabwe     4277736\n",
       "1696 1967 Zimbabwe     4995432\n",
       "1697 1972 Zimbabwe     5861135\n",
       "1698 1977 Zimbabwe     6642107\n",
       "1699 1982 Zimbabwe     7636524\n",
       "1700 1987 Zimbabwe     9216418\n",
       "1701 1992 Zimbabwe    10704340\n",
       "1702 1997 Zimbabwe    11404948\n",
       "1703 2002 Zimbabwe    11926563\n",
       "1704 2007 Zimbabwe    12311143"
      ]
     },
     "metadata": {},
     "output_type": "display_data"
    }
   ],
   "source": [
    "select(gapminder, year, country, pop)"
   ]
  },
  {
   "cell_type": "markdown",
   "id": "c4ddcb86",
   "metadata": {},
   "source": [
    "Lets combine few functions with `pipe` (`%>%`):"
   ]
  },
  {
   "cell_type": "code",
   "execution_count": 92,
   "id": "a4f5a5ca",
   "metadata": {},
   "outputs": [
    {
     "data": {
      "text/html": [
       "<table class=\"dataframe\">\n",
       "<caption>A tibble: 4 × 4</caption>\n",
       "<thead>\n",
       "\t<tr><th scope=col>year</th><th scope=col>country</th><th scope=col>pop</th><th scope=col>lifeExp</th></tr>\n",
       "\t<tr><th scope=col>&lt;int&gt;</th><th scope=col>&lt;fct&gt;</th><th scope=col>&lt;int&gt;</th><th scope=col>&lt;dbl&gt;</th></tr>\n",
       "</thead>\n",
       "<tbody>\n",
       "\t<tr><td>1952</td><td>Afghanistan</td><td> 8425333</td><td>28.801</td></tr>\n",
       "\t<tr><td>1957</td><td>Afghanistan</td><td> 9240934</td><td>30.332</td></tr>\n",
       "\t<tr><td>1962</td><td>Afghanistan</td><td>10267083</td><td>31.997</td></tr>\n",
       "\t<tr><td>1967</td><td>Afghanistan</td><td>11537966</td><td>34.020</td></tr>\n",
       "</tbody>\n",
       "</table>\n"
      ],
      "text/latex": [
       "A tibble: 4 × 4\n",
       "\\begin{tabular}{llll}\n",
       " year & country & pop & lifeExp\\\\\n",
       " <int> & <fct> & <int> & <dbl>\\\\\n",
       "\\hline\n",
       "\t 1952 & Afghanistan &  8425333 & 28.801\\\\\n",
       "\t 1957 & Afghanistan &  9240934 & 30.332\\\\\n",
       "\t 1962 & Afghanistan & 10267083 & 31.997\\\\\n",
       "\t 1967 & Afghanistan & 11537966 & 34.020\\\\\n",
       "\\end{tabular}\n"
      ],
      "text/markdown": [
       "\n",
       "A tibble: 4 × 4\n",
       "\n",
       "| year &lt;int&gt; | country &lt;fct&gt; | pop &lt;int&gt; | lifeExp &lt;dbl&gt; |\n",
       "|---|---|---|---|\n",
       "| 1952 | Afghanistan |  8425333 | 28.801 |\n",
       "| 1957 | Afghanistan |  9240934 | 30.332 |\n",
       "| 1962 | Afghanistan | 10267083 | 31.997 |\n",
       "| 1967 | Afghanistan | 11537966 | 34.020 |\n",
       "\n"
      ],
      "text/plain": [
       "  year country     pop      lifeExp\n",
       "1 1952 Afghanistan  8425333 28.801 \n",
       "2 1957 Afghanistan  9240934 30.332 \n",
       "3 1962 Afghanistan 10267083 31.997 \n",
       "4 1967 Afghanistan 11537966 34.020 "
      ]
     },
     "metadata": {},
     "output_type": "display_data"
    }
   ],
   "source": [
    "gapminder %>%\n",
    "    select(year, country, pop, lifeExp) %>%\n",
    "    head(4)"
   ]
  },
  {
   "cell_type": "markdown",
   "id": "65ea3318",
   "metadata": {},
   "source": [
    "Finally, lest extend our filtering:"
   ]
  },
  {
   "cell_type": "code",
   "execution_count": 95,
   "id": "ceefc89c",
   "metadata": {},
   "outputs": [
    {
     "data": {
      "text/html": [
       "<table class=\"dataframe\">\n",
       "<caption>A tibble: 12 × 3</caption>\n",
       "<thead>\n",
       "\t<tr><th scope=col>year</th><th scope=col>pop</th><th scope=col>lifeExp</th></tr>\n",
       "\t<tr><th scope=col>&lt;int&gt;</th><th scope=col>&lt;int&gt;</th><th scope=col>&lt;dbl&gt;</th></tr>\n",
       "</thead>\n",
       "<tbody>\n",
       "\t<tr><td>1952</td><td>6927772</td><td>66.800</td></tr>\n",
       "\t<tr><td>1957</td><td>6965860</td><td>67.480</td></tr>\n",
       "\t<tr><td>1962</td><td>7129864</td><td>69.540</td></tr>\n",
       "\t<tr><td>1967</td><td>7376998</td><td>70.140</td></tr>\n",
       "\t<tr><td>1972</td><td>7544201</td><td>70.630</td></tr>\n",
       "\t<tr><td>1977</td><td>7568430</td><td>72.170</td></tr>\n",
       "\t<tr><td>1982</td><td>7574613</td><td>73.180</td></tr>\n",
       "\t<tr><td>1987</td><td>7578903</td><td>74.940</td></tr>\n",
       "\t<tr><td>1992</td><td>7914969</td><td>76.040</td></tr>\n",
       "\t<tr><td>1997</td><td>8069876</td><td>77.510</td></tr>\n",
       "\t<tr><td>2002</td><td>8148312</td><td>78.980</td></tr>\n",
       "\t<tr><td>2007</td><td>8199783</td><td>79.829</td></tr>\n",
       "</tbody>\n",
       "</table>\n"
      ],
      "text/latex": [
       "A tibble: 12 × 3\n",
       "\\begin{tabular}{lll}\n",
       " year & pop & lifeExp\\\\\n",
       " <int> & <int> & <dbl>\\\\\n",
       "\\hline\n",
       "\t 1952 & 6927772 & 66.800\\\\\n",
       "\t 1957 & 6965860 & 67.480\\\\\n",
       "\t 1962 & 7129864 & 69.540\\\\\n",
       "\t 1967 & 7376998 & 70.140\\\\\n",
       "\t 1972 & 7544201 & 70.630\\\\\n",
       "\t 1977 & 7568430 & 72.170\\\\\n",
       "\t 1982 & 7574613 & 73.180\\\\\n",
       "\t 1987 & 7578903 & 74.940\\\\\n",
       "\t 1992 & 7914969 & 76.040\\\\\n",
       "\t 1997 & 8069876 & 77.510\\\\\n",
       "\t 2002 & 8148312 & 78.980\\\\\n",
       "\t 2007 & 8199783 & 79.829\\\\\n",
       "\\end{tabular}\n"
      ],
      "text/markdown": [
       "\n",
       "A tibble: 12 × 3\n",
       "\n",
       "| year &lt;int&gt; | pop &lt;int&gt; | lifeExp &lt;dbl&gt; |\n",
       "|---|---|---|\n",
       "| 1952 | 6927772 | 66.800 |\n",
       "| 1957 | 6965860 | 67.480 |\n",
       "| 1962 | 7129864 | 69.540 |\n",
       "| 1967 | 7376998 | 70.140 |\n",
       "| 1972 | 7544201 | 70.630 |\n",
       "| 1977 | 7568430 | 72.170 |\n",
       "| 1982 | 7574613 | 73.180 |\n",
       "| 1987 | 7578903 | 74.940 |\n",
       "| 1992 | 7914969 | 76.040 |\n",
       "| 1997 | 8069876 | 77.510 |\n",
       "| 2002 | 8148312 | 78.980 |\n",
       "| 2007 | 8199783 | 79.829 |\n",
       "\n"
      ],
      "text/plain": [
       "   year pop     lifeExp\n",
       "1  1952 6927772 66.800 \n",
       "2  1957 6965860 67.480 \n",
       "3  1962 7129864 69.540 \n",
       "4  1967 7376998 70.140 \n",
       "5  1972 7544201 70.630 \n",
       "6  1977 7568430 72.170 \n",
       "7  1982 7574613 73.180 \n",
       "8  1987 7578903 74.940 \n",
       "9  1992 7914969 76.040 \n",
       "10 1997 8069876 77.510 \n",
       "11 2002 8148312 78.980 \n",
       "12 2007 8199783 79.829 "
      ]
     },
     "metadata": {},
     "output_type": "display_data"
    }
   ],
   "source": [
    "austria <- gapminder %>% \n",
    "                filter(country == \"Austria\") %>%\n",
    "                select(year, pop, lifeExp)\n",
    "austria"
   ]
  },
  {
   "cell_type": "code",
   "execution_count": 191,
   "id": "e677796e",
   "metadata": {},
   "outputs": [
    {
     "data": {
      "text/html": [
       "<table class=\"dataframe\">\n",
       "<caption>A tibble: 12 × 3</caption>\n",
       "<thead>\n",
       "\t<tr><th scope=col>year</th><th scope=col>pop</th><th scope=col>lifeExp</th></tr>\n",
       "\t<tr><th scope=col>&lt;int&gt;</th><th scope=col>&lt;int&gt;</th><th scope=col>&lt;dbl&gt;</th></tr>\n",
       "</thead>\n",
       "<tbody>\n",
       "\t<tr><td>1952</td><td>6927772</td><td>66.800</td></tr>\n",
       "\t<tr><td>1957</td><td>6965860</td><td>67.480</td></tr>\n",
       "\t<tr><td>1962</td><td>7129864</td><td>69.540</td></tr>\n",
       "\t<tr><td>1967</td><td>7376998</td><td>70.140</td></tr>\n",
       "\t<tr><td>1972</td><td>7544201</td><td>70.630</td></tr>\n",
       "\t<tr><td>1977</td><td>7568430</td><td>72.170</td></tr>\n",
       "\t<tr><td>1982</td><td>7574613</td><td>73.180</td></tr>\n",
       "\t<tr><td>1987</td><td>7578903</td><td>74.940</td></tr>\n",
       "\t<tr><td>1992</td><td>7914969</td><td>76.040</td></tr>\n",
       "\t<tr><td>1997</td><td>8069876</td><td>77.510</td></tr>\n",
       "\t<tr><td>2002</td><td>8148312</td><td>78.980</td></tr>\n",
       "\t<tr><td>2007</td><td>8199783</td><td>79.829</td></tr>\n",
       "</tbody>\n",
       "</table>\n"
      ],
      "text/latex": [
       "A tibble: 12 × 3\n",
       "\\begin{tabular}{lll}\n",
       " year & pop & lifeExp\\\\\n",
       " <int> & <int> & <dbl>\\\\\n",
       "\\hline\n",
       "\t 1952 & 6927772 & 66.800\\\\\n",
       "\t 1957 & 6965860 & 67.480\\\\\n",
       "\t 1962 & 7129864 & 69.540\\\\\n",
       "\t 1967 & 7376998 & 70.140\\\\\n",
       "\t 1972 & 7544201 & 70.630\\\\\n",
       "\t 1977 & 7568430 & 72.170\\\\\n",
       "\t 1982 & 7574613 & 73.180\\\\\n",
       "\t 1987 & 7578903 & 74.940\\\\\n",
       "\t 1992 & 7914969 & 76.040\\\\\n",
       "\t 1997 & 8069876 & 77.510\\\\\n",
       "\t 2002 & 8148312 & 78.980\\\\\n",
       "\t 2007 & 8199783 & 79.829\\\\\n",
       "\\end{tabular}\n"
      ],
      "text/markdown": [
       "\n",
       "A tibble: 12 × 3\n",
       "\n",
       "| year &lt;int&gt; | pop &lt;int&gt; | lifeExp &lt;dbl&gt; |\n",
       "|---|---|---|\n",
       "| 1952 | 6927772 | 66.800 |\n",
       "| 1957 | 6965860 | 67.480 |\n",
       "| 1962 | 7129864 | 69.540 |\n",
       "| 1967 | 7376998 | 70.140 |\n",
       "| 1972 | 7544201 | 70.630 |\n",
       "| 1977 | 7568430 | 72.170 |\n",
       "| 1982 | 7574613 | 73.180 |\n",
       "| 1987 | 7578903 | 74.940 |\n",
       "| 1992 | 7914969 | 76.040 |\n",
       "| 1997 | 8069876 | 77.510 |\n",
       "| 2002 | 8148312 | 78.980 |\n",
       "| 2007 | 8199783 | 79.829 |\n",
       "\n"
      ],
      "text/plain": [
       "   year pop     lifeExp\n",
       "1  1952 6927772 66.800 \n",
       "2  1957 6965860 67.480 \n",
       "3  1962 7129864 69.540 \n",
       "4  1967 7376998 70.140 \n",
       "5  1972 7544201 70.630 \n",
       "6  1977 7568430 72.170 \n",
       "7  1982 7574613 73.180 \n",
       "8  1987 7578903 74.940 \n",
       "9  1992 7914969 76.040 \n",
       "10 1997 8069876 77.510 \n",
       "11 2002 8148312 78.980 \n",
       "12 2007 8199783 79.829 "
      ]
     },
     "metadata": {},
     "output_type": "display_data"
    }
   ],
   "source": [
    "# compare dplyr syntax with base R call\n",
    "gapminder[gapminder$country == \"Austria\", c(\"year\", \"pop\", \"lifeExp\")]"
   ]
  },
  {
   "cell_type": "markdown",
   "id": "68b9b46a",
   "metadata": {},
   "source": [
    "You can remove some columns using `minus`(operator):"
   ]
  },
  {
   "cell_type": "code",
   "execution_count": 193,
   "id": "74ea6a0e",
   "metadata": {},
   "outputs": [
    {
     "data": {
      "text/html": [
       "<table class=\"dataframe\">\n",
       "<caption>A tibble: 6 × 4</caption>\n",
       "<thead>\n",
       "\t<tr><th scope=col>country</th><th scope=col>year</th><th scope=col>lifeExp</th><th scope=col>pop</th></tr>\n",
       "\t<tr><th scope=col>&lt;fct&gt;</th><th scope=col>&lt;int&gt;</th><th scope=col>&lt;dbl&gt;</th><th scope=col>&lt;int&gt;</th></tr>\n",
       "</thead>\n",
       "<tbody>\n",
       "\t<tr><td>Austria</td><td>1952</td><td>66.80</td><td>6927772</td></tr>\n",
       "\t<tr><td>Austria</td><td>1957</td><td>67.48</td><td>6965860</td></tr>\n",
       "\t<tr><td>Austria</td><td>1962</td><td>69.54</td><td>7129864</td></tr>\n",
       "\t<tr><td>Austria</td><td>1967</td><td>70.14</td><td>7376998</td></tr>\n",
       "\t<tr><td>Austria</td><td>1972</td><td>70.63</td><td>7544201</td></tr>\n",
       "\t<tr><td>Austria</td><td>1977</td><td>72.17</td><td>7568430</td></tr>\n",
       "</tbody>\n",
       "</table>\n"
      ],
      "text/latex": [
       "A tibble: 6 × 4\n",
       "\\begin{tabular}{llll}\n",
       " country & year & lifeExp & pop\\\\\n",
       " <fct> & <int> & <dbl> & <int>\\\\\n",
       "\\hline\n",
       "\t Austria & 1952 & 66.80 & 6927772\\\\\n",
       "\t Austria & 1957 & 67.48 & 6965860\\\\\n",
       "\t Austria & 1962 & 69.54 & 7129864\\\\\n",
       "\t Austria & 1967 & 70.14 & 7376998\\\\\n",
       "\t Austria & 1972 & 70.63 & 7544201\\\\\n",
       "\t Austria & 1977 & 72.17 & 7568430\\\\\n",
       "\\end{tabular}\n"
      ],
      "text/markdown": [
       "\n",
       "A tibble: 6 × 4\n",
       "\n",
       "| country &lt;fct&gt; | year &lt;int&gt; | lifeExp &lt;dbl&gt; | pop &lt;int&gt; |\n",
       "|---|---|---|---|\n",
       "| Austria | 1952 | 66.80 | 6927772 |\n",
       "| Austria | 1957 | 67.48 | 6965860 |\n",
       "| Austria | 1962 | 69.54 | 7129864 |\n",
       "| Austria | 1967 | 70.14 | 7376998 |\n",
       "| Austria | 1972 | 70.63 | 7544201 |\n",
       "| Austria | 1977 | 72.17 | 7568430 |\n",
       "\n"
      ],
      "text/plain": [
       "  country year lifeExp pop    \n",
       "1 Austria 1952 66.80   6927772\n",
       "2 Austria 1957 67.48   6965860\n",
       "3 Austria 1962 69.54   7129864\n",
       "4 Austria 1967 70.14   7376998\n",
       "5 Austria 1972 70.63   7544201\n",
       "6 Austria 1977 72.17   7568430"
      ]
     },
     "metadata": {},
     "output_type": "display_data"
    }
   ],
   "source": [
    "austria <- gapminder %>% \n",
    "                filter(country == \"Austria\") %>%\n",
    "                select(-continent, -gdpPercap) %>%\n",
    "                head()\n",
    "austria"
   ]
  },
  {
   "cell_type": "markdown",
   "id": "23ecbca3",
   "metadata": {},
   "source": [
    "You can insert different conditions about columns you need to `select`. "
   ]
  },
  {
   "cell_type": "code",
   "execution_count": 194,
   "id": "f915cb2b",
   "metadata": {},
   "outputs": [
    {
     "data": {
      "text/html": [
       "<table class=\"dataframe\">\n",
       "<caption>A tibble: 6 × 2</caption>\n",
       "<thead>\n",
       "\t<tr><th scope=col>country</th><th scope=col>continent</th></tr>\n",
       "\t<tr><th scope=col>&lt;fct&gt;</th><th scope=col>&lt;fct&gt;</th></tr>\n",
       "</thead>\n",
       "<tbody>\n",
       "\t<tr><td>Afghanistan</td><td>Asia</td></tr>\n",
       "\t<tr><td>Afghanistan</td><td>Asia</td></tr>\n",
       "\t<tr><td>Afghanistan</td><td>Asia</td></tr>\n",
       "\t<tr><td>Afghanistan</td><td>Asia</td></tr>\n",
       "\t<tr><td>Afghanistan</td><td>Asia</td></tr>\n",
       "\t<tr><td>Afghanistan</td><td>Asia</td></tr>\n",
       "</tbody>\n",
       "</table>\n"
      ],
      "text/latex": [
       "A tibble: 6 × 2\n",
       "\\begin{tabular}{ll}\n",
       " country & continent\\\\\n",
       " <fct> & <fct>\\\\\n",
       "\\hline\n",
       "\t Afghanistan & Asia\\\\\n",
       "\t Afghanistan & Asia\\\\\n",
       "\t Afghanistan & Asia\\\\\n",
       "\t Afghanistan & Asia\\\\\n",
       "\t Afghanistan & Asia\\\\\n",
       "\t Afghanistan & Asia\\\\\n",
       "\\end{tabular}\n"
      ],
      "text/markdown": [
       "\n",
       "A tibble: 6 × 2\n",
       "\n",
       "| country &lt;fct&gt; | continent &lt;fct&gt; |\n",
       "|---|---|\n",
       "| Afghanistan | Asia |\n",
       "| Afghanistan | Asia |\n",
       "| Afghanistan | Asia |\n",
       "| Afghanistan | Asia |\n",
       "| Afghanistan | Asia |\n",
       "| Afghanistan | Asia |\n",
       "\n"
      ],
      "text/plain": [
       "  country     continent\n",
       "1 Afghanistan Asia     \n",
       "2 Afghanistan Asia     \n",
       "3 Afghanistan Asia     \n",
       "4 Afghanistan Asia     \n",
       "5 Afghanistan Asia     \n",
       "6 Afghanistan Asia     "
      ]
     },
     "metadata": {},
     "output_type": "display_data"
    }
   ],
   "source": [
    "gapminder %>%\n",
    "    select(!where(is.numeric)) %>%\n",
    "    head() # for short output   "
   ]
  },
  {
   "cell_type": "markdown",
   "id": "5869a3db",
   "metadata": {},
   "source": [
    "Let's output all unique pairs `continent -> country` with `distinct()` function:"
   ]
  },
  {
   "cell_type": "code",
   "execution_count": 196,
   "id": "53a63d6c",
   "metadata": {},
   "outputs": [
    {
     "data": {
      "text/html": [
       "<table class=\"dataframe\">\n",
       "<caption>A tibble: 142 × 2</caption>\n",
       "<thead>\n",
       "\t<tr><th scope=col>country</th><th scope=col>continent</th></tr>\n",
       "\t<tr><th scope=col>&lt;fct&gt;</th><th scope=col>&lt;fct&gt;</th></tr>\n",
       "</thead>\n",
       "<tbody>\n",
       "\t<tr><td>Afghanistan             </td><td>Asia    </td></tr>\n",
       "\t<tr><td>Albania                 </td><td>Europe  </td></tr>\n",
       "\t<tr><td>Algeria                 </td><td>Africa  </td></tr>\n",
       "\t<tr><td>Angola                  </td><td>Africa  </td></tr>\n",
       "\t<tr><td>Argentina               </td><td>Americas</td></tr>\n",
       "\t<tr><td>Australia               </td><td>Oceania </td></tr>\n",
       "\t<tr><td>Austria                 </td><td>Europe  </td></tr>\n",
       "\t<tr><td>Bahrain                 </td><td>Asia    </td></tr>\n",
       "\t<tr><td>Bangladesh              </td><td>Asia    </td></tr>\n",
       "\t<tr><td>Belgium                 </td><td>Europe  </td></tr>\n",
       "\t<tr><td>Benin                   </td><td>Africa  </td></tr>\n",
       "\t<tr><td>Bolivia                 </td><td>Americas</td></tr>\n",
       "\t<tr><td>Bosnia and Herzegovina  </td><td>Europe  </td></tr>\n",
       "\t<tr><td>Botswana                </td><td>Africa  </td></tr>\n",
       "\t<tr><td>Brazil                  </td><td>Americas</td></tr>\n",
       "\t<tr><td>Bulgaria                </td><td>Europe  </td></tr>\n",
       "\t<tr><td>Burkina Faso            </td><td>Africa  </td></tr>\n",
       "\t<tr><td>Burundi                 </td><td>Africa  </td></tr>\n",
       "\t<tr><td>Cambodia                </td><td>Asia    </td></tr>\n",
       "\t<tr><td>Cameroon                </td><td>Africa  </td></tr>\n",
       "\t<tr><td>Canada                  </td><td>Americas</td></tr>\n",
       "\t<tr><td>Central African Republic</td><td>Africa  </td></tr>\n",
       "\t<tr><td>Chad                    </td><td>Africa  </td></tr>\n",
       "\t<tr><td>Chile                   </td><td>Americas</td></tr>\n",
       "\t<tr><td>China                   </td><td>Asia    </td></tr>\n",
       "\t<tr><td>Colombia                </td><td>Americas</td></tr>\n",
       "\t<tr><td>Comoros                 </td><td>Africa  </td></tr>\n",
       "\t<tr><td>Congo, Dem. Rep.        </td><td>Africa  </td></tr>\n",
       "\t<tr><td>Congo, Rep.             </td><td>Africa  </td></tr>\n",
       "\t<tr><td>Costa Rica              </td><td>Americas</td></tr>\n",
       "\t<tr><td>...</td><td>...</td></tr>\n",
       "\t<tr><td>Sierra Leone       </td><td>Africa  </td></tr>\n",
       "\t<tr><td>Singapore          </td><td>Asia    </td></tr>\n",
       "\t<tr><td>Slovak Republic    </td><td>Europe  </td></tr>\n",
       "\t<tr><td>Slovenia           </td><td>Europe  </td></tr>\n",
       "\t<tr><td>Somalia            </td><td>Africa  </td></tr>\n",
       "\t<tr><td>South Africa       </td><td>Africa  </td></tr>\n",
       "\t<tr><td>Spain              </td><td>Europe  </td></tr>\n",
       "\t<tr><td>Sri Lanka          </td><td>Asia    </td></tr>\n",
       "\t<tr><td>Sudan              </td><td>Africa  </td></tr>\n",
       "\t<tr><td>Swaziland          </td><td>Africa  </td></tr>\n",
       "\t<tr><td>Sweden             </td><td>Europe  </td></tr>\n",
       "\t<tr><td>Switzerland        </td><td>Europe  </td></tr>\n",
       "\t<tr><td>Syria              </td><td>Asia    </td></tr>\n",
       "\t<tr><td>Taiwan             </td><td>Asia    </td></tr>\n",
       "\t<tr><td>Tanzania           </td><td>Africa  </td></tr>\n",
       "\t<tr><td>Thailand           </td><td>Asia    </td></tr>\n",
       "\t<tr><td>Togo               </td><td>Africa  </td></tr>\n",
       "\t<tr><td>Trinidad and Tobago</td><td>Americas</td></tr>\n",
       "\t<tr><td>Tunisia            </td><td>Africa  </td></tr>\n",
       "\t<tr><td>Turkey             </td><td>Europe  </td></tr>\n",
       "\t<tr><td>Uganda             </td><td>Africa  </td></tr>\n",
       "\t<tr><td>United Kingdom     </td><td>Europe  </td></tr>\n",
       "\t<tr><td>United States      </td><td>Americas</td></tr>\n",
       "\t<tr><td>Uruguay            </td><td>Americas</td></tr>\n",
       "\t<tr><td>Venezuela          </td><td>Americas</td></tr>\n",
       "\t<tr><td>Vietnam            </td><td>Asia    </td></tr>\n",
       "\t<tr><td>West Bank and Gaza </td><td>Asia    </td></tr>\n",
       "\t<tr><td>Yemen, Rep.        </td><td>Asia    </td></tr>\n",
       "\t<tr><td>Zambia             </td><td>Africa  </td></tr>\n",
       "\t<tr><td>Zimbabwe           </td><td>Africa  </td></tr>\n",
       "</tbody>\n",
       "</table>\n"
      ],
      "text/latex": [
       "A tibble: 142 × 2\n",
       "\\begin{tabular}{ll}\n",
       " country & continent\\\\\n",
       " <fct> & <fct>\\\\\n",
       "\\hline\n",
       "\t Afghanistan              & Asia    \\\\\n",
       "\t Albania                  & Europe  \\\\\n",
       "\t Algeria                  & Africa  \\\\\n",
       "\t Angola                   & Africa  \\\\\n",
       "\t Argentina                & Americas\\\\\n",
       "\t Australia                & Oceania \\\\\n",
       "\t Austria                  & Europe  \\\\\n",
       "\t Bahrain                  & Asia    \\\\\n",
       "\t Bangladesh               & Asia    \\\\\n",
       "\t Belgium                  & Europe  \\\\\n",
       "\t Benin                    & Africa  \\\\\n",
       "\t Bolivia                  & Americas\\\\\n",
       "\t Bosnia and Herzegovina   & Europe  \\\\\n",
       "\t Botswana                 & Africa  \\\\\n",
       "\t Brazil                   & Americas\\\\\n",
       "\t Bulgaria                 & Europe  \\\\\n",
       "\t Burkina Faso             & Africa  \\\\\n",
       "\t Burundi                  & Africa  \\\\\n",
       "\t Cambodia                 & Asia    \\\\\n",
       "\t Cameroon                 & Africa  \\\\\n",
       "\t Canada                   & Americas\\\\\n",
       "\t Central African Republic & Africa  \\\\\n",
       "\t Chad                     & Africa  \\\\\n",
       "\t Chile                    & Americas\\\\\n",
       "\t China                    & Asia    \\\\\n",
       "\t Colombia                 & Americas\\\\\n",
       "\t Comoros                  & Africa  \\\\\n",
       "\t Congo, Dem. Rep.         & Africa  \\\\\n",
       "\t Congo, Rep.              & Africa  \\\\\n",
       "\t Costa Rica               & Americas\\\\\n",
       "\t ... & ...\\\\\n",
       "\t Sierra Leone        & Africa  \\\\\n",
       "\t Singapore           & Asia    \\\\\n",
       "\t Slovak Republic     & Europe  \\\\\n",
       "\t Slovenia            & Europe  \\\\\n",
       "\t Somalia             & Africa  \\\\\n",
       "\t South Africa        & Africa  \\\\\n",
       "\t Spain               & Europe  \\\\\n",
       "\t Sri Lanka           & Asia    \\\\\n",
       "\t Sudan               & Africa  \\\\\n",
       "\t Swaziland           & Africa  \\\\\n",
       "\t Sweden              & Europe  \\\\\n",
       "\t Switzerland         & Europe  \\\\\n",
       "\t Syria               & Asia    \\\\\n",
       "\t Taiwan              & Asia    \\\\\n",
       "\t Tanzania            & Africa  \\\\\n",
       "\t Thailand            & Asia    \\\\\n",
       "\t Togo                & Africa  \\\\\n",
       "\t Trinidad and Tobago & Americas\\\\\n",
       "\t Tunisia             & Africa  \\\\\n",
       "\t Turkey              & Europe  \\\\\n",
       "\t Uganda              & Africa  \\\\\n",
       "\t United Kingdom      & Europe  \\\\\n",
       "\t United States       & Americas\\\\\n",
       "\t Uruguay             & Americas\\\\\n",
       "\t Venezuela           & Americas\\\\\n",
       "\t Vietnam             & Asia    \\\\\n",
       "\t West Bank and Gaza  & Asia    \\\\\n",
       "\t Yemen, Rep.         & Asia    \\\\\n",
       "\t Zambia              & Africa  \\\\\n",
       "\t Zimbabwe            & Africa  \\\\\n",
       "\\end{tabular}\n"
      ],
      "text/markdown": [
       "\n",
       "A tibble: 142 × 2\n",
       "\n",
       "| country &lt;fct&gt; | continent &lt;fct&gt; |\n",
       "|---|---|\n",
       "| Afghanistan              | Asia     |\n",
       "| Albania                  | Europe   |\n",
       "| Algeria                  | Africa   |\n",
       "| Angola                   | Africa   |\n",
       "| Argentina                | Americas |\n",
       "| Australia                | Oceania  |\n",
       "| Austria                  | Europe   |\n",
       "| Bahrain                  | Asia     |\n",
       "| Bangladesh               | Asia     |\n",
       "| Belgium                  | Europe   |\n",
       "| Benin                    | Africa   |\n",
       "| Bolivia                  | Americas |\n",
       "| Bosnia and Herzegovina   | Europe   |\n",
       "| Botswana                 | Africa   |\n",
       "| Brazil                   | Americas |\n",
       "| Bulgaria                 | Europe   |\n",
       "| Burkina Faso             | Africa   |\n",
       "| Burundi                  | Africa   |\n",
       "| Cambodia                 | Asia     |\n",
       "| Cameroon                 | Africa   |\n",
       "| Canada                   | Americas |\n",
       "| Central African Republic | Africa   |\n",
       "| Chad                     | Africa   |\n",
       "| Chile                    | Americas |\n",
       "| China                    | Asia     |\n",
       "| Colombia                 | Americas |\n",
       "| Comoros                  | Africa   |\n",
       "| Congo, Dem. Rep.         | Africa   |\n",
       "| Congo, Rep.              | Africa   |\n",
       "| Costa Rica               | Americas |\n",
       "| ... | ... |\n",
       "| Sierra Leone        | Africa   |\n",
       "| Singapore           | Asia     |\n",
       "| Slovak Republic     | Europe   |\n",
       "| Slovenia            | Europe   |\n",
       "| Somalia             | Africa   |\n",
       "| South Africa        | Africa   |\n",
       "| Spain               | Europe   |\n",
       "| Sri Lanka           | Asia     |\n",
       "| Sudan               | Africa   |\n",
       "| Swaziland           | Africa   |\n",
       "| Sweden              | Europe   |\n",
       "| Switzerland         | Europe   |\n",
       "| Syria               | Asia     |\n",
       "| Taiwan              | Asia     |\n",
       "| Tanzania            | Africa   |\n",
       "| Thailand            | Asia     |\n",
       "| Togo                | Africa   |\n",
       "| Trinidad and Tobago | Americas |\n",
       "| Tunisia             | Africa   |\n",
       "| Turkey              | Europe   |\n",
       "| Uganda              | Africa   |\n",
       "| United Kingdom      | Europe   |\n",
       "| United States       | Americas |\n",
       "| Uruguay             | Americas |\n",
       "| Venezuela           | Americas |\n",
       "| Vietnam             | Asia     |\n",
       "| West Bank and Gaza  | Asia     |\n",
       "| Yemen, Rep.         | Asia     |\n",
       "| Zambia              | Africa   |\n",
       "| Zimbabwe            | Africa   |\n",
       "\n"
      ],
      "text/plain": [
       "    country                  continent\n",
       "1   Afghanistan              Asia     \n",
       "2   Albania                  Europe   \n",
       "3   Algeria                  Africa   \n",
       "4   Angola                   Africa   \n",
       "5   Argentina                Americas \n",
       "6   Australia                Oceania  \n",
       "7   Austria                  Europe   \n",
       "8   Bahrain                  Asia     \n",
       "9   Bangladesh               Asia     \n",
       "10  Belgium                  Europe   \n",
       "11  Benin                    Africa   \n",
       "12  Bolivia                  Americas \n",
       "13  Bosnia and Herzegovina   Europe   \n",
       "14  Botswana                 Africa   \n",
       "15  Brazil                   Americas \n",
       "16  Bulgaria                 Europe   \n",
       "17  Burkina Faso             Africa   \n",
       "18  Burundi                  Africa   \n",
       "19  Cambodia                 Asia     \n",
       "20  Cameroon                 Africa   \n",
       "21  Canada                   Americas \n",
       "22  Central African Republic Africa   \n",
       "23  Chad                     Africa   \n",
       "24  Chile                    Americas \n",
       "25  China                    Asia     \n",
       "26  Colombia                 Americas \n",
       "27  Comoros                  Africa   \n",
       "28  Congo, Dem. Rep.         Africa   \n",
       "29  Congo, Rep.              Africa   \n",
       "30  Costa Rica               Americas \n",
       "... ...                      ...      \n",
       "113 Sierra Leone             Africa   \n",
       "114 Singapore                Asia     \n",
       "115 Slovak Republic          Europe   \n",
       "116 Slovenia                 Europe   \n",
       "117 Somalia                  Africa   \n",
       "118 South Africa             Africa   \n",
       "119 Spain                    Europe   \n",
       "120 Sri Lanka                Asia     \n",
       "121 Sudan                    Africa   \n",
       "122 Swaziland                Africa   \n",
       "123 Sweden                   Europe   \n",
       "124 Switzerland              Europe   \n",
       "125 Syria                    Asia     \n",
       "126 Taiwan                   Asia     \n",
       "127 Tanzania                 Africa   \n",
       "128 Thailand                 Asia     \n",
       "129 Togo                     Africa   \n",
       "130 Trinidad and Tobago      Americas \n",
       "131 Tunisia                  Africa   \n",
       "132 Turkey                   Europe   \n",
       "133 Uganda                   Africa   \n",
       "134 United Kingdom           Europe   \n",
       "135 United States            Americas \n",
       "136 Uruguay                  Americas \n",
       "137 Venezuela                Americas \n",
       "138 Vietnam                  Asia     \n",
       "139 West Bank and Gaza       Asia     \n",
       "140 Yemen, Rep.              Asia     \n",
       "141 Zambia                   Africa   \n",
       "142 Zimbabwe                 Africa   "
      ]
     },
     "metadata": {},
     "output_type": "display_data"
    }
   ],
   "source": [
    "gapminder %>%\n",
    "    select(!where(is.numeric)) %>%\n",
    "    distinct()"
   ]
  },
  {
   "cell_type": "markdown",
   "id": "80a324ff",
   "metadata": {},
   "source": [
    "### 3.4. Selecting random $N$ rows"
   ]
  },
  {
   "cell_type": "markdown",
   "id": "2d6465d8",
   "metadata": {},
   "source": [
    "The `sample_n()` function selects random rows from a data frame"
   ]
  },
  {
   "cell_type": "code",
   "execution_count": 127,
   "id": "919ac2a7",
   "metadata": {},
   "outputs": [
    {
     "data": {
      "text/html": [
       "<table class=\"dataframe\">\n",
       "<caption>A tibble: 5 × 6</caption>\n",
       "<thead>\n",
       "\t<tr><th scope=col>country</th><th scope=col>continent</th><th scope=col>year</th><th scope=col>lifeExp</th><th scope=col>pop</th><th scope=col>gdpPercap</th></tr>\n",
       "\t<tr><th scope=col>&lt;fct&gt;</th><th scope=col>&lt;fct&gt;</th><th scope=col>&lt;int&gt;</th><th scope=col>&lt;dbl&gt;</th><th scope=col>&lt;int&gt;</th><th scope=col>&lt;dbl&gt;</th></tr>\n",
       "</thead>\n",
       "<tbody>\n",
       "\t<tr><td>Libya             </td><td>Africa  </td><td>1962</td><td>47.808</td><td> 1441863</td><td>6757.031</td></tr>\n",
       "\t<tr><td>Botswana          </td><td>Africa  </td><td>1997</td><td>52.556</td><td> 1536536</td><td>8647.142</td></tr>\n",
       "\t<tr><td>Swaziland         </td><td>Africa  </td><td>1957</td><td>43.424</td><td>  326741</td><td>1244.708</td></tr>\n",
       "\t<tr><td>Dominican Republic</td><td>Americas</td><td>1997</td><td>69.957</td><td> 7992357</td><td>3614.101</td></tr>\n",
       "\t<tr><td>Iraq              </td><td>Asia    </td><td>2002</td><td>57.046</td><td>24001816</td><td>4390.717</td></tr>\n",
       "</tbody>\n",
       "</table>\n"
      ],
      "text/latex": [
       "A tibble: 5 × 6\n",
       "\\begin{tabular}{llllll}\n",
       " country & continent & year & lifeExp & pop & gdpPercap\\\\\n",
       " <fct> & <fct> & <int> & <dbl> & <int> & <dbl>\\\\\n",
       "\\hline\n",
       "\t Libya              & Africa   & 1962 & 47.808 &  1441863 & 6757.031\\\\\n",
       "\t Botswana           & Africa   & 1997 & 52.556 &  1536536 & 8647.142\\\\\n",
       "\t Swaziland          & Africa   & 1957 & 43.424 &   326741 & 1244.708\\\\\n",
       "\t Dominican Republic & Americas & 1997 & 69.957 &  7992357 & 3614.101\\\\\n",
       "\t Iraq               & Asia     & 2002 & 57.046 & 24001816 & 4390.717\\\\\n",
       "\\end{tabular}\n"
      ],
      "text/markdown": [
       "\n",
       "A tibble: 5 × 6\n",
       "\n",
       "| country &lt;fct&gt; | continent &lt;fct&gt; | year &lt;int&gt; | lifeExp &lt;dbl&gt; | pop &lt;int&gt; | gdpPercap &lt;dbl&gt; |\n",
       "|---|---|---|---|---|---|\n",
       "| Libya              | Africa   | 1962 | 47.808 |  1441863 | 6757.031 |\n",
       "| Botswana           | Africa   | 1997 | 52.556 |  1536536 | 8647.142 |\n",
       "| Swaziland          | Africa   | 1957 | 43.424 |   326741 | 1244.708 |\n",
       "| Dominican Republic | Americas | 1997 | 69.957 |  7992357 | 3614.101 |\n",
       "| Iraq               | Asia     | 2002 | 57.046 | 24001816 | 4390.717 |\n",
       "\n"
      ],
      "text/plain": [
       "  country            continent year lifeExp pop      gdpPercap\n",
       "1 Libya              Africa    1962 47.808   1441863 6757.031 \n",
       "2 Botswana           Africa    1997 52.556   1536536 8647.142 \n",
       "3 Swaziland          Africa    1957 43.424    326741 1244.708 \n",
       "4 Dominican Republic Americas  1997 69.957   7992357 3614.101 \n",
       "5 Iraq               Asia      2002 57.046  24001816 4390.717 "
      ]
     },
     "metadata": {},
     "output_type": "display_data"
    }
   ],
   "source": [
    "gapminder %>% sample_n(5)"
   ]
  },
  {
   "cell_type": "markdown",
   "id": "6a07717e",
   "metadata": {},
   "source": [
    "If you want make `pseudo-random generation` reprodusable use `set.seed()`. Seed is start point of random generation. Different seeds give different output."
   ]
  },
  {
   "cell_type": "code",
   "execution_count": 128,
   "id": "9630c927",
   "metadata": {},
   "outputs": [],
   "source": [
    "set.seed(2021) # example, seed = 2021"
   ]
  },
  {
   "cell_type": "markdown",
   "id": "bb985ccd",
   "metadata": {},
   "source": [
    "The `sample_frac()` function selects random fraction rows from a data frame.\n",
    "Let's select $1\\%$ of data"
   ]
  },
  {
   "cell_type": "code",
   "execution_count": 151,
   "id": "9580482f",
   "metadata": {},
   "outputs": [
    {
     "data": {
      "text/html": [
       "<table class=\"dataframe\">\n",
       "<caption>A tibble: 17 × 6</caption>\n",
       "<thead>\n",
       "\t<tr><th scope=col>country</th><th scope=col>continent</th><th scope=col>year</th><th scope=col>lifeExp</th><th scope=col>pop</th><th scope=col>gdpPercap</th></tr>\n",
       "\t<tr><th scope=col>&lt;fct&gt;</th><th scope=col>&lt;fct&gt;</th><th scope=col>&lt;int&gt;</th><th scope=col>&lt;dbl&gt;</th><th scope=col>&lt;int&gt;</th><th scope=col>&lt;dbl&gt;</th></tr>\n",
       "</thead>\n",
       "<tbody>\n",
       "\t<tr><td>Libya              </td><td>Africa  </td><td>1962</td><td>47.808</td><td> 1441863</td><td> 6757.0308</td></tr>\n",
       "\t<tr><td>Botswana           </td><td>Africa  </td><td>1997</td><td>52.556</td><td> 1536536</td><td> 8647.1423</td></tr>\n",
       "\t<tr><td>Swaziland          </td><td>Africa  </td><td>1957</td><td>43.424</td><td>  326741</td><td> 1244.7084</td></tr>\n",
       "\t<tr><td>Dominican Republic </td><td>Americas</td><td>1997</td><td>69.957</td><td> 7992357</td><td> 3614.1013</td></tr>\n",
       "\t<tr><td>Iraq               </td><td>Asia    </td><td>2002</td><td>57.046</td><td>24001816</td><td> 4390.7173</td></tr>\n",
       "\t<tr><td>Libya              </td><td>Africa  </td><td>1987</td><td>66.234</td><td> 3799845</td><td>11770.5898</td></tr>\n",
       "\t<tr><td>Montenegro         </td><td>Europe  </td><td>1967</td><td>67.178</td><td>  501035</td><td> 5907.8509</td></tr>\n",
       "\t<tr><td>New Zealand        </td><td>Oceania </td><td>1957</td><td>70.260</td><td> 2229407</td><td>12247.3953</td></tr>\n",
       "\t<tr><td>Bulgaria           </td><td>Europe  </td><td>2007</td><td>73.005</td><td> 7322858</td><td>10680.7928</td></tr>\n",
       "\t<tr><td>Malawi             </td><td>Africa  </td><td>1997</td><td>47.495</td><td>10419991</td><td>  692.2758</td></tr>\n",
       "\t<tr><td>Venezuela          </td><td>Americas</td><td>1977</td><td>67.456</td><td>13503563</td><td>13143.9510</td></tr>\n",
       "\t<tr><td>Guinea             </td><td>Africa  </td><td>1997</td><td>51.455</td><td> 8048834</td><td>  869.4498</td></tr>\n",
       "\t<tr><td>Congo, Dem. Rep.   </td><td>Africa  </td><td>1952</td><td>39.143</td><td>14100005</td><td>  780.5423</td></tr>\n",
       "\t<tr><td>Eritrea            </td><td>Africa  </td><td>1962</td><td>40.158</td><td> 1666618</td><td>  380.9958</td></tr>\n",
       "\t<tr><td>Bangladesh         </td><td>Asia    </td><td>1982</td><td>50.009</td><td>93074406</td><td>  676.9819</td></tr>\n",
       "\t<tr><td>Cote d'Ivoire      </td><td>Africa  </td><td>1952</td><td>40.477</td><td> 2977019</td><td> 1388.5947</td></tr>\n",
       "\t<tr><td>Trinidad and Tobago</td><td>Americas</td><td>2002</td><td>68.976</td><td> 1101832</td><td>11460.6002</td></tr>\n",
       "</tbody>\n",
       "</table>\n"
      ],
      "text/latex": [
       "A tibble: 17 × 6\n",
       "\\begin{tabular}{llllll}\n",
       " country & continent & year & lifeExp & pop & gdpPercap\\\\\n",
       " <fct> & <fct> & <int> & <dbl> & <int> & <dbl>\\\\\n",
       "\\hline\n",
       "\t Libya               & Africa   & 1962 & 47.808 &  1441863 &  6757.0308\\\\\n",
       "\t Botswana            & Africa   & 1997 & 52.556 &  1536536 &  8647.1423\\\\\n",
       "\t Swaziland           & Africa   & 1957 & 43.424 &   326741 &  1244.7084\\\\\n",
       "\t Dominican Republic  & Americas & 1997 & 69.957 &  7992357 &  3614.1013\\\\\n",
       "\t Iraq                & Asia     & 2002 & 57.046 & 24001816 &  4390.7173\\\\\n",
       "\t Libya               & Africa   & 1987 & 66.234 &  3799845 & 11770.5898\\\\\n",
       "\t Montenegro          & Europe   & 1967 & 67.178 &   501035 &  5907.8509\\\\\n",
       "\t New Zealand         & Oceania  & 1957 & 70.260 &  2229407 & 12247.3953\\\\\n",
       "\t Bulgaria            & Europe   & 2007 & 73.005 &  7322858 & 10680.7928\\\\\n",
       "\t Malawi              & Africa   & 1997 & 47.495 & 10419991 &   692.2758\\\\\n",
       "\t Venezuela           & Americas & 1977 & 67.456 & 13503563 & 13143.9510\\\\\n",
       "\t Guinea              & Africa   & 1997 & 51.455 &  8048834 &   869.4498\\\\\n",
       "\t Congo, Dem. Rep.    & Africa   & 1952 & 39.143 & 14100005 &   780.5423\\\\\n",
       "\t Eritrea             & Africa   & 1962 & 40.158 &  1666618 &   380.9958\\\\\n",
       "\t Bangladesh          & Asia     & 1982 & 50.009 & 93074406 &   676.9819\\\\\n",
       "\t Cote d'Ivoire       & Africa   & 1952 & 40.477 &  2977019 &  1388.5947\\\\\n",
       "\t Trinidad and Tobago & Americas & 2002 & 68.976 &  1101832 & 11460.6002\\\\\n",
       "\\end{tabular}\n"
      ],
      "text/markdown": [
       "\n",
       "A tibble: 17 × 6\n",
       "\n",
       "| country &lt;fct&gt; | continent &lt;fct&gt; | year &lt;int&gt; | lifeExp &lt;dbl&gt; | pop &lt;int&gt; | gdpPercap &lt;dbl&gt; |\n",
       "|---|---|---|---|---|---|\n",
       "| Libya               | Africa   | 1962 | 47.808 |  1441863 |  6757.0308 |\n",
       "| Botswana            | Africa   | 1997 | 52.556 |  1536536 |  8647.1423 |\n",
       "| Swaziland           | Africa   | 1957 | 43.424 |   326741 |  1244.7084 |\n",
       "| Dominican Republic  | Americas | 1997 | 69.957 |  7992357 |  3614.1013 |\n",
       "| Iraq                | Asia     | 2002 | 57.046 | 24001816 |  4390.7173 |\n",
       "| Libya               | Africa   | 1987 | 66.234 |  3799845 | 11770.5898 |\n",
       "| Montenegro          | Europe   | 1967 | 67.178 |   501035 |  5907.8509 |\n",
       "| New Zealand         | Oceania  | 1957 | 70.260 |  2229407 | 12247.3953 |\n",
       "| Bulgaria            | Europe   | 2007 | 73.005 |  7322858 | 10680.7928 |\n",
       "| Malawi              | Africa   | 1997 | 47.495 | 10419991 |   692.2758 |\n",
       "| Venezuela           | Americas | 1977 | 67.456 | 13503563 | 13143.9510 |\n",
       "| Guinea              | Africa   | 1997 | 51.455 |  8048834 |   869.4498 |\n",
       "| Congo, Dem. Rep.    | Africa   | 1952 | 39.143 | 14100005 |   780.5423 |\n",
       "| Eritrea             | Africa   | 1962 | 40.158 |  1666618 |   380.9958 |\n",
       "| Bangladesh          | Asia     | 1982 | 50.009 | 93074406 |   676.9819 |\n",
       "| Cote d'Ivoire       | Africa   | 1952 | 40.477 |  2977019 |  1388.5947 |\n",
       "| Trinidad and Tobago | Americas | 2002 | 68.976 |  1101832 | 11460.6002 |\n",
       "\n"
      ],
      "text/plain": [
       "   country             continent year lifeExp pop      gdpPercap \n",
       "1  Libya               Africa    1962 47.808   1441863  6757.0308\n",
       "2  Botswana            Africa    1997 52.556   1536536  8647.1423\n",
       "3  Swaziland           Africa    1957 43.424    326741  1244.7084\n",
       "4  Dominican Republic  Americas  1997 69.957   7992357  3614.1013\n",
       "5  Iraq                Asia      2002 57.046  24001816  4390.7173\n",
       "6  Libya               Africa    1987 66.234   3799845 11770.5898\n",
       "7  Montenegro          Europe    1967 67.178    501035  5907.8509\n",
       "8  New Zealand         Oceania   1957 70.260   2229407 12247.3953\n",
       "9  Bulgaria            Europe    2007 73.005   7322858 10680.7928\n",
       "10 Malawi              Africa    1997 47.495  10419991   692.2758\n",
       "11 Venezuela           Americas  1977 67.456  13503563 13143.9510\n",
       "12 Guinea              Africa    1997 51.455   8048834   869.4498\n",
       "13 Congo, Dem. Rep.    Africa    1952 39.143  14100005   780.5423\n",
       "14 Eritrea             Africa    1962 40.158   1666618   380.9958\n",
       "15 Bangladesh          Asia      1982 50.009  93074406   676.9819\n",
       "16 Cote d'Ivoire       Africa    1952 40.477   2977019  1388.5947\n",
       "17 Trinidad and Tobago Americas  2002 68.976   1101832 11460.6002"
      ]
     },
     "metadata": {},
     "output_type": "display_data"
    }
   ],
   "source": [
    "set.seed(2021) # output not changing, uncomment it \n",
    "gapminder %>% sample_frac(0.01)"
   ]
  },
  {
   "cell_type": "markdown",
   "id": "4bc252dd",
   "metadata": {},
   "source": [
    "## Sorting with  **`arrange()`**"
   ]
  },
  {
   "cell_type": "markdown",
   "id": "cce51daf",
   "metadata": {},
   "source": [
    "`arrange(.data, …)` function order rows by values of a column or columns (low to high)You can use with `desc()` to order from high to low. \n",
    "\n",
    "For example, we need to select top 10 countries in 2002  by lifeExp variable."
   ]
  },
  {
   "cell_type": "code",
   "execution_count": 180,
   "id": "3ef05be0",
   "metadata": {},
   "outputs": [
    {
     "data": {
      "text/html": [
       "<table class=\"dataframe\">\n",
       "<caption>A tibble: 10 × 6</caption>\n",
       "<thead>\n",
       "\t<tr><th scope=col>country</th><th scope=col>continent</th><th scope=col>year</th><th scope=col>lifeExp</th><th scope=col>pop</th><th scope=col>gdpPercap</th></tr>\n",
       "\t<tr><th scope=col>&lt;fct&gt;</th><th scope=col>&lt;fct&gt;</th><th scope=col>&lt;int&gt;</th><th scope=col>&lt;dbl&gt;</th><th scope=col>&lt;int&gt;</th><th scope=col>&lt;dbl&gt;</th></tr>\n",
       "</thead>\n",
       "<tbody>\n",
       "\t<tr><td>Australia       </td><td>Oceania </td><td>2002</td><td>80.370</td><td> 19546792</td><td>30687.75</td></tr>\n",
       "\t<tr><td>Canada          </td><td>Americas</td><td>2002</td><td>79.770</td><td> 31902268</td><td>33328.97</td></tr>\n",
       "\t<tr><td>Hong Kong, China</td><td>Asia    </td><td>2002</td><td>81.495</td><td>  6762476</td><td>30209.02</td></tr>\n",
       "\t<tr><td>Iceland         </td><td>Europe  </td><td>2002</td><td>80.500</td><td>   288030</td><td>31163.20</td></tr>\n",
       "\t<tr><td>Israel          </td><td>Asia    </td><td>2002</td><td>79.696</td><td>  6029529</td><td>21905.60</td></tr>\n",
       "\t<tr><td>Italy           </td><td>Europe  </td><td>2002</td><td>80.240</td><td> 57926999</td><td>27968.10</td></tr>\n",
       "\t<tr><td>Japan           </td><td>Asia    </td><td>2002</td><td>82.000</td><td>127065841</td><td>28604.59</td></tr>\n",
       "\t<tr><td>Spain           </td><td>Europe  </td><td>2002</td><td>79.780</td><td> 40152517</td><td>24835.47</td></tr>\n",
       "\t<tr><td>Sweden          </td><td>Europe  </td><td>2002</td><td>80.040</td><td>  8954175</td><td>29341.63</td></tr>\n",
       "\t<tr><td>Switzerland     </td><td>Europe  </td><td>2002</td><td>80.620</td><td>  7361757</td><td>34480.96</td></tr>\n",
       "</tbody>\n",
       "</table>\n"
      ],
      "text/latex": [
       "A tibble: 10 × 6\n",
       "\\begin{tabular}{llllll}\n",
       " country & continent & year & lifeExp & pop & gdpPercap\\\\\n",
       " <fct> & <fct> & <int> & <dbl> & <int> & <dbl>\\\\\n",
       "\\hline\n",
       "\t Australia        & Oceania  & 2002 & 80.370 &  19546792 & 30687.75\\\\\n",
       "\t Canada           & Americas & 2002 & 79.770 &  31902268 & 33328.97\\\\\n",
       "\t Hong Kong, China & Asia     & 2002 & 81.495 &   6762476 & 30209.02\\\\\n",
       "\t Iceland          & Europe   & 2002 & 80.500 &    288030 & 31163.20\\\\\n",
       "\t Israel           & Asia     & 2002 & 79.696 &   6029529 & 21905.60\\\\\n",
       "\t Italy            & Europe   & 2002 & 80.240 &  57926999 & 27968.10\\\\\n",
       "\t Japan            & Asia     & 2002 & 82.000 & 127065841 & 28604.59\\\\\n",
       "\t Spain            & Europe   & 2002 & 79.780 &  40152517 & 24835.47\\\\\n",
       "\t Sweden           & Europe   & 2002 & 80.040 &   8954175 & 29341.63\\\\\n",
       "\t Switzerland      & Europe   & 2002 & 80.620 &   7361757 & 34480.96\\\\\n",
       "\\end{tabular}\n"
      ],
      "text/markdown": [
       "\n",
       "A tibble: 10 × 6\n",
       "\n",
       "| country &lt;fct&gt; | continent &lt;fct&gt; | year &lt;int&gt; | lifeExp &lt;dbl&gt; | pop &lt;int&gt; | gdpPercap &lt;dbl&gt; |\n",
       "|---|---|---|---|---|---|\n",
       "| Australia        | Oceania  | 2002 | 80.370 |  19546792 | 30687.75 |\n",
       "| Canada           | Americas | 2002 | 79.770 |  31902268 | 33328.97 |\n",
       "| Hong Kong, China | Asia     | 2002 | 81.495 |   6762476 | 30209.02 |\n",
       "| Iceland          | Europe   | 2002 | 80.500 |    288030 | 31163.20 |\n",
       "| Israel           | Asia     | 2002 | 79.696 |   6029529 | 21905.60 |\n",
       "| Italy            | Europe   | 2002 | 80.240 |  57926999 | 27968.10 |\n",
       "| Japan            | Asia     | 2002 | 82.000 | 127065841 | 28604.59 |\n",
       "| Spain            | Europe   | 2002 | 79.780 |  40152517 | 24835.47 |\n",
       "| Sweden           | Europe   | 2002 | 80.040 |   8954175 | 29341.63 |\n",
       "| Switzerland      | Europe   | 2002 | 80.620 |   7361757 | 34480.96 |\n",
       "\n"
      ],
      "text/plain": [
       "   country          continent year lifeExp pop       gdpPercap\n",
       "1  Australia        Oceania   2002 80.370   19546792 30687.75 \n",
       "2  Canada           Americas  2002 79.770   31902268 33328.97 \n",
       "3  Hong Kong, China Asia      2002 81.495    6762476 30209.02 \n",
       "4  Iceland          Europe    2002 80.500     288030 31163.20 \n",
       "5  Israel           Asia      2002 79.696    6029529 21905.60 \n",
       "6  Italy            Europe    2002 80.240   57926999 27968.10 \n",
       "7  Japan            Asia      2002 82.000  127065841 28604.59 \n",
       "8  Spain            Europe    2002 79.780   40152517 24835.47 \n",
       "9  Sweden           Europe    2002 80.040    8954175 29341.63 \n",
       "10 Switzerland      Europe    2002 80.620    7361757 34480.96 "
      ]
     },
     "metadata": {},
     "output_type": "display_data"
    }
   ],
   "source": [
    "data2002 <- gapminder %>% \n",
    "                filter(year == 2002) %>%\n",
    "                top_n(10, lifeExp) # select top 10 by lifeExp value\n",
    "data2002"
   ]
  },
  {
   "cell_type": "code",
   "execution_count": 163,
   "id": "88f8825c",
   "metadata": {},
   "outputs": [
    {
     "data": {
      "text/html": [
       "<table class=\"dataframe\">\n",
       "<caption>A tibble: 10 × 6</caption>\n",
       "<thead>\n",
       "\t<tr><th scope=col>country</th><th scope=col>continent</th><th scope=col>year</th><th scope=col>lifeExp</th><th scope=col>pop</th><th scope=col>gdpPercap</th></tr>\n",
       "\t<tr><th scope=col>&lt;fct&gt;</th><th scope=col>&lt;fct&gt;</th><th scope=col>&lt;int&gt;</th><th scope=col>&lt;dbl&gt;</th><th scope=col>&lt;int&gt;</th><th scope=col>&lt;dbl&gt;</th></tr>\n",
       "</thead>\n",
       "<tbody>\n",
       "\t<tr><td>Iceland         </td><td>Europe  </td><td>2002</td><td>80.500</td><td>   288030</td><td>31163.20</td></tr>\n",
       "\t<tr><td>Israel          </td><td>Asia    </td><td>2002</td><td>79.696</td><td>  6029529</td><td>21905.60</td></tr>\n",
       "\t<tr><td>Hong Kong, China</td><td>Asia    </td><td>2002</td><td>81.495</td><td>  6762476</td><td>30209.02</td></tr>\n",
       "\t<tr><td>Switzerland     </td><td>Europe  </td><td>2002</td><td>80.620</td><td>  7361757</td><td>34480.96</td></tr>\n",
       "\t<tr><td>Sweden          </td><td>Europe  </td><td>2002</td><td>80.040</td><td>  8954175</td><td>29341.63</td></tr>\n",
       "\t<tr><td>Australia       </td><td>Oceania </td><td>2002</td><td>80.370</td><td> 19546792</td><td>30687.75</td></tr>\n",
       "\t<tr><td>Canada          </td><td>Americas</td><td>2002</td><td>79.770</td><td> 31902268</td><td>33328.97</td></tr>\n",
       "\t<tr><td>Spain           </td><td>Europe  </td><td>2002</td><td>79.780</td><td> 40152517</td><td>24835.47</td></tr>\n",
       "\t<tr><td>Italy           </td><td>Europe  </td><td>2002</td><td>80.240</td><td> 57926999</td><td>27968.10</td></tr>\n",
       "\t<tr><td>Japan           </td><td>Asia    </td><td>2002</td><td>82.000</td><td>127065841</td><td>28604.59</td></tr>\n",
       "</tbody>\n",
       "</table>\n"
      ],
      "text/latex": [
       "A tibble: 10 × 6\n",
       "\\begin{tabular}{llllll}\n",
       " country & continent & year & lifeExp & pop & gdpPercap\\\\\n",
       " <fct> & <fct> & <int> & <dbl> & <int> & <dbl>\\\\\n",
       "\\hline\n",
       "\t Iceland          & Europe   & 2002 & 80.500 &    288030 & 31163.20\\\\\n",
       "\t Israel           & Asia     & 2002 & 79.696 &   6029529 & 21905.60\\\\\n",
       "\t Hong Kong, China & Asia     & 2002 & 81.495 &   6762476 & 30209.02\\\\\n",
       "\t Switzerland      & Europe   & 2002 & 80.620 &   7361757 & 34480.96\\\\\n",
       "\t Sweden           & Europe   & 2002 & 80.040 &   8954175 & 29341.63\\\\\n",
       "\t Australia        & Oceania  & 2002 & 80.370 &  19546792 & 30687.75\\\\\n",
       "\t Canada           & Americas & 2002 & 79.770 &  31902268 & 33328.97\\\\\n",
       "\t Spain            & Europe   & 2002 & 79.780 &  40152517 & 24835.47\\\\\n",
       "\t Italy            & Europe   & 2002 & 80.240 &  57926999 & 27968.10\\\\\n",
       "\t Japan            & Asia     & 2002 & 82.000 & 127065841 & 28604.59\\\\\n",
       "\\end{tabular}\n"
      ],
      "text/markdown": [
       "\n",
       "A tibble: 10 × 6\n",
       "\n",
       "| country &lt;fct&gt; | continent &lt;fct&gt; | year &lt;int&gt; | lifeExp &lt;dbl&gt; | pop &lt;int&gt; | gdpPercap &lt;dbl&gt; |\n",
       "|---|---|---|---|---|---|\n",
       "| Iceland          | Europe   | 2002 | 80.500 |    288030 | 31163.20 |\n",
       "| Israel           | Asia     | 2002 | 79.696 |   6029529 | 21905.60 |\n",
       "| Hong Kong, China | Asia     | 2002 | 81.495 |   6762476 | 30209.02 |\n",
       "| Switzerland      | Europe   | 2002 | 80.620 |   7361757 | 34480.96 |\n",
       "| Sweden           | Europe   | 2002 | 80.040 |   8954175 | 29341.63 |\n",
       "| Australia        | Oceania  | 2002 | 80.370 |  19546792 | 30687.75 |\n",
       "| Canada           | Americas | 2002 | 79.770 |  31902268 | 33328.97 |\n",
       "| Spain            | Europe   | 2002 | 79.780 |  40152517 | 24835.47 |\n",
       "| Italy            | Europe   | 2002 | 80.240 |  57926999 | 27968.10 |\n",
       "| Japan            | Asia     | 2002 | 82.000 | 127065841 | 28604.59 |\n",
       "\n"
      ],
      "text/plain": [
       "   country          continent year lifeExp pop       gdpPercap\n",
       "1  Iceland          Europe    2002 80.500     288030 31163.20 \n",
       "2  Israel           Asia      2002 79.696    6029529 21905.60 \n",
       "3  Hong Kong, China Asia      2002 81.495    6762476 30209.02 \n",
       "4  Switzerland      Europe    2002 80.620    7361757 34480.96 \n",
       "5  Sweden           Europe    2002 80.040    8954175 29341.63 \n",
       "6  Australia        Oceania   2002 80.370   19546792 30687.75 \n",
       "7  Canada           Americas  2002 79.770   31902268 33328.97 \n",
       "8  Spain            Europe    2002 79.780   40152517 24835.47 \n",
       "9  Italy            Europe    2002 80.240   57926999 27968.10 \n",
       "10 Japan            Asia      2002 82.000  127065841 28604.59 "
      ]
     },
     "metadata": {},
     "output_type": "display_data"
    }
   ],
   "source": [
    "# sort by pop\n",
    "data2002 %>% arrange(pop)"
   ]
  },
  {
   "cell_type": "code",
   "execution_count": 164,
   "id": "e996c93a",
   "metadata": {},
   "outputs": [
    {
     "data": {
      "text/html": [
       "<table class=\"dataframe\">\n",
       "<caption>A tibble: 10 × 6</caption>\n",
       "<thead>\n",
       "\t<tr><th scope=col>country</th><th scope=col>continent</th><th scope=col>year</th><th scope=col>lifeExp</th><th scope=col>pop</th><th scope=col>gdpPercap</th></tr>\n",
       "\t<tr><th scope=col>&lt;fct&gt;</th><th scope=col>&lt;fct&gt;</th><th scope=col>&lt;int&gt;</th><th scope=col>&lt;dbl&gt;</th><th scope=col>&lt;int&gt;</th><th scope=col>&lt;dbl&gt;</th></tr>\n",
       "</thead>\n",
       "<tbody>\n",
       "\t<tr><td>Japan           </td><td>Asia    </td><td>2002</td><td>82.000</td><td>127065841</td><td>28604.59</td></tr>\n",
       "\t<tr><td>Italy           </td><td>Europe  </td><td>2002</td><td>80.240</td><td> 57926999</td><td>27968.10</td></tr>\n",
       "\t<tr><td>Spain           </td><td>Europe  </td><td>2002</td><td>79.780</td><td> 40152517</td><td>24835.47</td></tr>\n",
       "\t<tr><td>Canada          </td><td>Americas</td><td>2002</td><td>79.770</td><td> 31902268</td><td>33328.97</td></tr>\n",
       "\t<tr><td>Australia       </td><td>Oceania </td><td>2002</td><td>80.370</td><td> 19546792</td><td>30687.75</td></tr>\n",
       "\t<tr><td>Sweden          </td><td>Europe  </td><td>2002</td><td>80.040</td><td>  8954175</td><td>29341.63</td></tr>\n",
       "\t<tr><td>Switzerland     </td><td>Europe  </td><td>2002</td><td>80.620</td><td>  7361757</td><td>34480.96</td></tr>\n",
       "\t<tr><td>Hong Kong, China</td><td>Asia    </td><td>2002</td><td>81.495</td><td>  6762476</td><td>30209.02</td></tr>\n",
       "\t<tr><td>Israel          </td><td>Asia    </td><td>2002</td><td>79.696</td><td>  6029529</td><td>21905.60</td></tr>\n",
       "\t<tr><td>Iceland         </td><td>Europe  </td><td>2002</td><td>80.500</td><td>   288030</td><td>31163.20</td></tr>\n",
       "</tbody>\n",
       "</table>\n"
      ],
      "text/latex": [
       "A tibble: 10 × 6\n",
       "\\begin{tabular}{llllll}\n",
       " country & continent & year & lifeExp & pop & gdpPercap\\\\\n",
       " <fct> & <fct> & <int> & <dbl> & <int> & <dbl>\\\\\n",
       "\\hline\n",
       "\t Japan            & Asia     & 2002 & 82.000 & 127065841 & 28604.59\\\\\n",
       "\t Italy            & Europe   & 2002 & 80.240 &  57926999 & 27968.10\\\\\n",
       "\t Spain            & Europe   & 2002 & 79.780 &  40152517 & 24835.47\\\\\n",
       "\t Canada           & Americas & 2002 & 79.770 &  31902268 & 33328.97\\\\\n",
       "\t Australia        & Oceania  & 2002 & 80.370 &  19546792 & 30687.75\\\\\n",
       "\t Sweden           & Europe   & 2002 & 80.040 &   8954175 & 29341.63\\\\\n",
       "\t Switzerland      & Europe   & 2002 & 80.620 &   7361757 & 34480.96\\\\\n",
       "\t Hong Kong, China & Asia     & 2002 & 81.495 &   6762476 & 30209.02\\\\\n",
       "\t Israel           & Asia     & 2002 & 79.696 &   6029529 & 21905.60\\\\\n",
       "\t Iceland          & Europe   & 2002 & 80.500 &    288030 & 31163.20\\\\\n",
       "\\end{tabular}\n"
      ],
      "text/markdown": [
       "\n",
       "A tibble: 10 × 6\n",
       "\n",
       "| country &lt;fct&gt; | continent &lt;fct&gt; | year &lt;int&gt; | lifeExp &lt;dbl&gt; | pop &lt;int&gt; | gdpPercap &lt;dbl&gt; |\n",
       "|---|---|---|---|---|---|\n",
       "| Japan            | Asia     | 2002 | 82.000 | 127065841 | 28604.59 |\n",
       "| Italy            | Europe   | 2002 | 80.240 |  57926999 | 27968.10 |\n",
       "| Spain            | Europe   | 2002 | 79.780 |  40152517 | 24835.47 |\n",
       "| Canada           | Americas | 2002 | 79.770 |  31902268 | 33328.97 |\n",
       "| Australia        | Oceania  | 2002 | 80.370 |  19546792 | 30687.75 |\n",
       "| Sweden           | Europe   | 2002 | 80.040 |   8954175 | 29341.63 |\n",
       "| Switzerland      | Europe   | 2002 | 80.620 |   7361757 | 34480.96 |\n",
       "| Hong Kong, China | Asia     | 2002 | 81.495 |   6762476 | 30209.02 |\n",
       "| Israel           | Asia     | 2002 | 79.696 |   6029529 | 21905.60 |\n",
       "| Iceland          | Europe   | 2002 | 80.500 |    288030 | 31163.20 |\n",
       "\n"
      ],
      "text/plain": [
       "   country          continent year lifeExp pop       gdpPercap\n",
       "1  Japan            Asia      2002 82.000  127065841 28604.59 \n",
       "2  Italy            Europe    2002 80.240   57926999 27968.10 \n",
       "3  Spain            Europe    2002 79.780   40152517 24835.47 \n",
       "4  Canada           Americas  2002 79.770   31902268 33328.97 \n",
       "5  Australia        Oceania   2002 80.370   19546792 30687.75 \n",
       "6  Sweden           Europe    2002 80.040    8954175 29341.63 \n",
       "7  Switzerland      Europe    2002 80.620    7361757 34480.96 \n",
       "8  Hong Kong, China Asia      2002 81.495    6762476 30209.02 \n",
       "9  Israel           Asia      2002 79.696    6029529 21905.60 \n",
       "10 Iceland          Europe    2002 80.500     288030 31163.20 "
      ]
     },
     "metadata": {},
     "output_type": "display_data"
    }
   ],
   "source": [
    "# sort by pop from high to low\n",
    "data2002 %>% arrange(desc(pop))"
   ]
  },
  {
   "cell_type": "markdown",
   "id": "ab446fcc",
   "metadata": {},
   "source": [
    "## Make new variables with **`mutate()`**"
   ]
  },
  {
   "cell_type": "markdown",
   "id": "c163f8a0",
   "metadata": {},
   "source": [
    "`mutate(.data, …)` compute new column(s). \n",
    "Lets compute new column for `data2002` $gdpTotal = gdpPercap * pop / 1000000$.\n"
   ]
  },
  {
   "cell_type": "code",
   "execution_count": 168,
   "id": "244eebce",
   "metadata": {},
   "outputs": [
    {
     "data": {
      "text/html": [
       "<table class=\"dataframe\">\n",
       "<caption>A tibble: 10 × 7</caption>\n",
       "<thead>\n",
       "\t<tr><th scope=col>country</th><th scope=col>continent</th><th scope=col>year</th><th scope=col>lifeExp</th><th scope=col>pop</th><th scope=col>gdpPercap</th><th scope=col>gdpTotal</th></tr>\n",
       "\t<tr><th scope=col>&lt;fct&gt;</th><th scope=col>&lt;fct&gt;</th><th scope=col>&lt;int&gt;</th><th scope=col>&lt;dbl&gt;</th><th scope=col>&lt;int&gt;</th><th scope=col>&lt;dbl&gt;</th><th scope=col>&lt;dbl&gt;</th></tr>\n",
       "</thead>\n",
       "<tbody>\n",
       "\t<tr><td>Australia       </td><td>Oceania </td><td>2002</td><td>80.370</td><td> 19546792</td><td>30687.75</td><td>5.998472e+11</td></tr>\n",
       "\t<tr><td>Canada          </td><td>Americas</td><td>2002</td><td>79.770</td><td> 31902268</td><td>33328.97</td><td>1.063270e+12</td></tr>\n",
       "\t<tr><td>Hong Kong, China</td><td>Asia    </td><td>2002</td><td>81.495</td><td>  6762476</td><td>30209.02</td><td>2.042877e+11</td></tr>\n",
       "\t<tr><td>Iceland         </td><td>Europe  </td><td>2002</td><td>80.500</td><td>   288030</td><td>31163.20</td><td>8.975937e+09</td></tr>\n",
       "\t<tr><td>Israel          </td><td>Asia    </td><td>2002</td><td>79.696</td><td>  6029529</td><td>21905.60</td><td>1.320804e+11</td></tr>\n",
       "\t<tr><td>Italy           </td><td>Europe  </td><td>2002</td><td>80.240</td><td> 57926999</td><td>27968.10</td><td>1.620108e+12</td></tr>\n",
       "\t<tr><td>Japan           </td><td>Asia    </td><td>2002</td><td>82.000</td><td>127065841</td><td>28604.59</td><td>3.634667e+12</td></tr>\n",
       "\t<tr><td>Spain           </td><td>Europe  </td><td>2002</td><td>79.780</td><td> 40152517</td><td>24835.47</td><td>9.972067e+11</td></tr>\n",
       "\t<tr><td>Sweden          </td><td>Europe  </td><td>2002</td><td>80.040</td><td>  8954175</td><td>29341.63</td><td>2.627301e+11</td></tr>\n",
       "\t<tr><td>Switzerland     </td><td>Europe  </td><td>2002</td><td>80.620</td><td>  7361757</td><td>34480.96</td><td>2.538404e+11</td></tr>\n",
       "</tbody>\n",
       "</table>\n"
      ],
      "text/latex": [
       "A tibble: 10 × 7\n",
       "\\begin{tabular}{lllllll}\n",
       " country & continent & year & lifeExp & pop & gdpPercap & gdpTotal\\\\\n",
       " <fct> & <fct> & <int> & <dbl> & <int> & <dbl> & <dbl>\\\\\n",
       "\\hline\n",
       "\t Australia        & Oceania  & 2002 & 80.370 &  19546792 & 30687.75 & 5.998472e+11\\\\\n",
       "\t Canada           & Americas & 2002 & 79.770 &  31902268 & 33328.97 & 1.063270e+12\\\\\n",
       "\t Hong Kong, China & Asia     & 2002 & 81.495 &   6762476 & 30209.02 & 2.042877e+11\\\\\n",
       "\t Iceland          & Europe   & 2002 & 80.500 &    288030 & 31163.20 & 8.975937e+09\\\\\n",
       "\t Israel           & Asia     & 2002 & 79.696 &   6029529 & 21905.60 & 1.320804e+11\\\\\n",
       "\t Italy            & Europe   & 2002 & 80.240 &  57926999 & 27968.10 & 1.620108e+12\\\\\n",
       "\t Japan            & Asia     & 2002 & 82.000 & 127065841 & 28604.59 & 3.634667e+12\\\\\n",
       "\t Spain            & Europe   & 2002 & 79.780 &  40152517 & 24835.47 & 9.972067e+11\\\\\n",
       "\t Sweden           & Europe   & 2002 & 80.040 &   8954175 & 29341.63 & 2.627301e+11\\\\\n",
       "\t Switzerland      & Europe   & 2002 & 80.620 &   7361757 & 34480.96 & 2.538404e+11\\\\\n",
       "\\end{tabular}\n"
      ],
      "text/markdown": [
       "\n",
       "A tibble: 10 × 7\n",
       "\n",
       "| country &lt;fct&gt; | continent &lt;fct&gt; | year &lt;int&gt; | lifeExp &lt;dbl&gt; | pop &lt;int&gt; | gdpPercap &lt;dbl&gt; | gdpTotal &lt;dbl&gt; |\n",
       "|---|---|---|---|---|---|---|\n",
       "| Australia        | Oceania  | 2002 | 80.370 |  19546792 | 30687.75 | 5.998472e+11 |\n",
       "| Canada           | Americas | 2002 | 79.770 |  31902268 | 33328.97 | 1.063270e+12 |\n",
       "| Hong Kong, China | Asia     | 2002 | 81.495 |   6762476 | 30209.02 | 2.042877e+11 |\n",
       "| Iceland          | Europe   | 2002 | 80.500 |    288030 | 31163.20 | 8.975937e+09 |\n",
       "| Israel           | Asia     | 2002 | 79.696 |   6029529 | 21905.60 | 1.320804e+11 |\n",
       "| Italy            | Europe   | 2002 | 80.240 |  57926999 | 27968.10 | 1.620108e+12 |\n",
       "| Japan            | Asia     | 2002 | 82.000 | 127065841 | 28604.59 | 3.634667e+12 |\n",
       "| Spain            | Europe   | 2002 | 79.780 |  40152517 | 24835.47 | 9.972067e+11 |\n",
       "| Sweden           | Europe   | 2002 | 80.040 |   8954175 | 29341.63 | 2.627301e+11 |\n",
       "| Switzerland      | Europe   | 2002 | 80.620 |   7361757 | 34480.96 | 2.538404e+11 |\n",
       "\n"
      ],
      "text/plain": [
       "   country          continent year lifeExp pop       gdpPercap gdpTotal    \n",
       "1  Australia        Oceania   2002 80.370   19546792 30687.75  5.998472e+11\n",
       "2  Canada           Americas  2002 79.770   31902268 33328.97  1.063270e+12\n",
       "3  Hong Kong, China Asia      2002 81.495    6762476 30209.02  2.042877e+11\n",
       "4  Iceland          Europe    2002 80.500     288030 31163.20  8.975937e+09\n",
       "5  Israel           Asia      2002 79.696    6029529 21905.60  1.320804e+11\n",
       "6  Italy            Europe    2002 80.240   57926999 27968.10  1.620108e+12\n",
       "7  Japan            Asia      2002 82.000  127065841 28604.59  3.634667e+12\n",
       "8  Spain            Europe    2002 79.780   40152517 24835.47  9.972067e+11\n",
       "9  Sweden           Europe    2002 80.040    8954175 29341.63  2.627301e+11\n",
       "10 Switzerland      Europe    2002 80.620    7361757 34480.96  2.538404e+11"
      ]
     },
     "metadata": {},
     "output_type": "display_data"
    }
   ],
   "source": [
    "data2002 <- data2002 %>% mutate(gdpTotal = gdpPercap * pop)\n",
    "data2002"
   ]
  },
  {
   "cell_type": "markdown",
   "id": "0fd9637e",
   "metadata": {},
   "source": [
    "`transmute(.data, …)` compute new column(s), drop others."
   ]
  },
  {
   "cell_type": "code",
   "execution_count": 171,
   "id": "d638a8bb",
   "metadata": {},
   "outputs": [
    {
     "data": {
      "text/html": [
       "<table class=\"dataframe\">\n",
       "<caption>A tibble: 10 × 1</caption>\n",
       "<thead>\n",
       "\t<tr><th scope=col>gdpTotal</th></tr>\n",
       "\t<tr><th scope=col>&lt;dbl&gt;</th></tr>\n",
       "</thead>\n",
       "<tbody>\n",
       "\t<tr><td>5.998472e+11</td></tr>\n",
       "\t<tr><td>1.063270e+12</td></tr>\n",
       "\t<tr><td>2.042877e+11</td></tr>\n",
       "\t<tr><td>8.975937e+09</td></tr>\n",
       "\t<tr><td>1.320804e+11</td></tr>\n",
       "\t<tr><td>1.620108e+12</td></tr>\n",
       "\t<tr><td>3.634667e+12</td></tr>\n",
       "\t<tr><td>9.972067e+11</td></tr>\n",
       "\t<tr><td>2.627301e+11</td></tr>\n",
       "\t<tr><td>2.538404e+11</td></tr>\n",
       "</tbody>\n",
       "</table>\n"
      ],
      "text/latex": [
       "A tibble: 10 × 1\n",
       "\\begin{tabular}{l}\n",
       " gdpTotal\\\\\n",
       " <dbl>\\\\\n",
       "\\hline\n",
       "\t 5.998472e+11\\\\\n",
       "\t 1.063270e+12\\\\\n",
       "\t 2.042877e+11\\\\\n",
       "\t 8.975937e+09\\\\\n",
       "\t 1.320804e+11\\\\\n",
       "\t 1.620108e+12\\\\\n",
       "\t 3.634667e+12\\\\\n",
       "\t 9.972067e+11\\\\\n",
       "\t 2.627301e+11\\\\\n",
       "\t 2.538404e+11\\\\\n",
       "\\end{tabular}\n"
      ],
      "text/markdown": [
       "\n",
       "A tibble: 10 × 1\n",
       "\n",
       "| gdpTotal &lt;dbl&gt; |\n",
       "|---|\n",
       "| 5.998472e+11 |\n",
       "| 1.063270e+12 |\n",
       "| 2.042877e+11 |\n",
       "| 8.975937e+09 |\n",
       "| 1.320804e+11 |\n",
       "| 1.620108e+12 |\n",
       "| 3.634667e+12 |\n",
       "| 9.972067e+11 |\n",
       "| 2.627301e+11 |\n",
       "| 2.538404e+11 |\n",
       "\n"
      ],
      "text/plain": [
       "   gdpTotal    \n",
       "1  5.998472e+11\n",
       "2  1.063270e+12\n",
       "3  2.042877e+11\n",
       "4  8.975937e+09\n",
       "5  1.320804e+11\n",
       "6  1.620108e+12\n",
       "7  3.634667e+12\n",
       "8  9.972067e+11\n",
       "9  2.627301e+11\n",
       "10 2.538404e+11"
      ]
     },
     "metadata": {},
     "output_type": "display_data"
    }
   ],
   "source": [
    "data2002 %>% transmute(gdpTotal = gdpPercap * pop)"
   ]
  },
  {
   "cell_type": "markdown",
   "id": "8a8ad4e8",
   "metadata": {},
   "source": [
    "You can `mutate` many columns at once:"
   ]
  },
  {
   "cell_type": "code",
   "execution_count": 198,
   "id": "8871cc4f",
   "metadata": {
    "scrolled": true
   },
   "outputs": [
    {
     "data": {
      "text/html": [
       "<table class=\"dataframe\">\n",
       "<caption>A tibble: 10 × 9</caption>\n",
       "<thead>\n",
       "\t<tr><th scope=col>country</th><th scope=col>continent</th><th scope=col>year</th><th scope=col>lifeExp</th><th scope=col>pop</th><th scope=col>gdpPercap</th><th scope=col>gdpTotal</th><th scope=col>countryUpper</th><th scope=col>lifeExpRounded</th></tr>\n",
       "\t<tr><th scope=col>&lt;fct&gt;</th><th scope=col>&lt;fct&gt;</th><th scope=col>&lt;int&gt;</th><th scope=col>&lt;dbl&gt;</th><th scope=col>&lt;int&gt;</th><th scope=col>&lt;dbl&gt;</th><th scope=col>&lt;dbl&gt;</th><th scope=col>&lt;chr&gt;</th><th scope=col>&lt;dbl&gt;</th></tr>\n",
       "</thead>\n",
       "<tbody>\n",
       "\t<tr><td>Australia       </td><td>Oceania </td><td>2002</td><td>80.370</td><td> 19546792</td><td>30687.75</td><td>5.998472e+11</td><td>AUSTRALIA       </td><td>80</td></tr>\n",
       "\t<tr><td>Canada          </td><td>Americas</td><td>2002</td><td>79.770</td><td> 31902268</td><td>33328.97</td><td>1.063270e+12</td><td>CANADA          </td><td>80</td></tr>\n",
       "\t<tr><td>Hong Kong, China</td><td>Asia    </td><td>2002</td><td>81.495</td><td>  6762476</td><td>30209.02</td><td>2.042877e+11</td><td>HONG KONG, CHINA</td><td>81</td></tr>\n",
       "\t<tr><td>Iceland         </td><td>Europe  </td><td>2002</td><td>80.500</td><td>   288030</td><td>31163.20</td><td>8.975937e+09</td><td>ICELAND         </td><td>80</td></tr>\n",
       "\t<tr><td>Israel          </td><td>Asia    </td><td>2002</td><td>79.696</td><td>  6029529</td><td>21905.60</td><td>1.320804e+11</td><td>ISRAEL          </td><td>80</td></tr>\n",
       "\t<tr><td>Italy           </td><td>Europe  </td><td>2002</td><td>80.240</td><td> 57926999</td><td>27968.10</td><td>1.620108e+12</td><td>ITALY           </td><td>80</td></tr>\n",
       "\t<tr><td>Japan           </td><td>Asia    </td><td>2002</td><td>82.000</td><td>127065841</td><td>28604.59</td><td>3.634667e+12</td><td>JAPAN           </td><td>82</td></tr>\n",
       "\t<tr><td>Spain           </td><td>Europe  </td><td>2002</td><td>79.780</td><td> 40152517</td><td>24835.47</td><td>9.972067e+11</td><td>SPAIN           </td><td>80</td></tr>\n",
       "\t<tr><td>Sweden          </td><td>Europe  </td><td>2002</td><td>80.040</td><td>  8954175</td><td>29341.63</td><td>2.627301e+11</td><td>SWEDEN          </td><td>80</td></tr>\n",
       "\t<tr><td>Switzerland     </td><td>Europe  </td><td>2002</td><td>80.620</td><td>  7361757</td><td>34480.96</td><td>2.538404e+11</td><td>SWITZERLAND     </td><td>81</td></tr>\n",
       "</tbody>\n",
       "</table>\n"
      ],
      "text/latex": [
       "A tibble: 10 × 9\n",
       "\\begin{tabular}{lllllllll}\n",
       " country & continent & year & lifeExp & pop & gdpPercap & gdpTotal & countryUpper & lifeExpRounded\\\\\n",
       " <fct> & <fct> & <int> & <dbl> & <int> & <dbl> & <dbl> & <chr> & <dbl>\\\\\n",
       "\\hline\n",
       "\t Australia        & Oceania  & 2002 & 80.370 &  19546792 & 30687.75 & 5.998472e+11 & AUSTRALIA        & 80\\\\\n",
       "\t Canada           & Americas & 2002 & 79.770 &  31902268 & 33328.97 & 1.063270e+12 & CANADA           & 80\\\\\n",
       "\t Hong Kong, China & Asia     & 2002 & 81.495 &   6762476 & 30209.02 & 2.042877e+11 & HONG KONG, CHINA & 81\\\\\n",
       "\t Iceland          & Europe   & 2002 & 80.500 &    288030 & 31163.20 & 8.975937e+09 & ICELAND          & 80\\\\\n",
       "\t Israel           & Asia     & 2002 & 79.696 &   6029529 & 21905.60 & 1.320804e+11 & ISRAEL           & 80\\\\\n",
       "\t Italy            & Europe   & 2002 & 80.240 &  57926999 & 27968.10 & 1.620108e+12 & ITALY            & 80\\\\\n",
       "\t Japan            & Asia     & 2002 & 82.000 & 127065841 & 28604.59 & 3.634667e+12 & JAPAN            & 82\\\\\n",
       "\t Spain            & Europe   & 2002 & 79.780 &  40152517 & 24835.47 & 9.972067e+11 & SPAIN            & 80\\\\\n",
       "\t Sweden           & Europe   & 2002 & 80.040 &   8954175 & 29341.63 & 2.627301e+11 & SWEDEN           & 80\\\\\n",
       "\t Switzerland      & Europe   & 2002 & 80.620 &   7361757 & 34480.96 & 2.538404e+11 & SWITZERLAND      & 81\\\\\n",
       "\\end{tabular}\n"
      ],
      "text/markdown": [
       "\n",
       "A tibble: 10 × 9\n",
       "\n",
       "| country &lt;fct&gt; | continent &lt;fct&gt; | year &lt;int&gt; | lifeExp &lt;dbl&gt; | pop &lt;int&gt; | gdpPercap &lt;dbl&gt; | gdpTotal &lt;dbl&gt; | countryUpper &lt;chr&gt; | lifeExpRounded &lt;dbl&gt; |\n",
       "|---|---|---|---|---|---|---|---|---|\n",
       "| Australia        | Oceania  | 2002 | 80.370 |  19546792 | 30687.75 | 5.998472e+11 | AUSTRALIA        | 80 |\n",
       "| Canada           | Americas | 2002 | 79.770 |  31902268 | 33328.97 | 1.063270e+12 | CANADA           | 80 |\n",
       "| Hong Kong, China | Asia     | 2002 | 81.495 |   6762476 | 30209.02 | 2.042877e+11 | HONG KONG, CHINA | 81 |\n",
       "| Iceland          | Europe   | 2002 | 80.500 |    288030 | 31163.20 | 8.975937e+09 | ICELAND          | 80 |\n",
       "| Israel           | Asia     | 2002 | 79.696 |   6029529 | 21905.60 | 1.320804e+11 | ISRAEL           | 80 |\n",
       "| Italy            | Europe   | 2002 | 80.240 |  57926999 | 27968.10 | 1.620108e+12 | ITALY            | 80 |\n",
       "| Japan            | Asia     | 2002 | 82.000 | 127065841 | 28604.59 | 3.634667e+12 | JAPAN            | 82 |\n",
       "| Spain            | Europe   | 2002 | 79.780 |  40152517 | 24835.47 | 9.972067e+11 | SPAIN            | 80 |\n",
       "| Sweden           | Europe   | 2002 | 80.040 |   8954175 | 29341.63 | 2.627301e+11 | SWEDEN           | 80 |\n",
       "| Switzerland      | Europe   | 2002 | 80.620 |   7361757 | 34480.96 | 2.538404e+11 | SWITZERLAND      | 81 |\n",
       "\n"
      ],
      "text/plain": [
       "   country          continent year lifeExp pop       gdpPercap gdpTotal    \n",
       "1  Australia        Oceania   2002 80.370   19546792 30687.75  5.998472e+11\n",
       "2  Canada           Americas  2002 79.770   31902268 33328.97  1.063270e+12\n",
       "3  Hong Kong, China Asia      2002 81.495    6762476 30209.02  2.042877e+11\n",
       "4  Iceland          Europe    2002 80.500     288030 31163.20  8.975937e+09\n",
       "5  Israel           Asia      2002 79.696    6029529 21905.60  1.320804e+11\n",
       "6  Italy            Europe    2002 80.240   57926999 27968.10  1.620108e+12\n",
       "7  Japan            Asia      2002 82.000  127065841 28604.59  3.634667e+12\n",
       "8  Spain            Europe    2002 79.780   40152517 24835.47  9.972067e+11\n",
       "9  Sweden           Europe    2002 80.040    8954175 29341.63  2.627301e+11\n",
       "10 Switzerland      Europe    2002 80.620    7361757 34480.96  2.538404e+11\n",
       "   countryUpper     lifeExpRounded\n",
       "1  AUSTRALIA        80            \n",
       "2  CANADA           80            \n",
       "3  HONG KONG, CHINA 81            \n",
       "4  ICELAND          80            \n",
       "5  ISRAEL           80            \n",
       "6  ITALY            80            \n",
       "7  JAPAN            82            \n",
       "8  SPAIN            80            \n",
       "9  SWEDEN           80            \n",
       "10 SWITZERLAND      81            "
      ]
     },
     "metadata": {},
     "output_type": "display_data"
    }
   ],
   "source": [
    "data2002 <- data2002 %>% \n",
    "                mutate(gdpTotal = gdpPercap * pop,\n",
    "                      countryUpper = toupper(country), # uppercase country\n",
    "                      lifeExpRounded = round(lifeExp)) # rounded life expectation in \n",
    "data2002"
   ]
  },
  {
   "cell_type": "markdown",
   "id": "1e0490df",
   "metadata": {},
   "source": [
    "You also can edit existing column (let's change `continent Europe` to `EU` in dataframe):"
   ]
  },
  {
   "cell_type": "code",
   "execution_count": 202,
   "id": "6301587b",
   "metadata": {},
   "outputs": [
    {
     "data": {
      "text/html": [
       "<table class=\"dataframe\">\n",
       "<caption>A tibble: 10 × 9</caption>\n",
       "<thead>\n",
       "\t<tr><th scope=col>country</th><th scope=col>continent</th><th scope=col>year</th><th scope=col>lifeExp</th><th scope=col>pop</th><th scope=col>gdpPercap</th><th scope=col>gdpTotal</th><th scope=col>countryUpper</th><th scope=col>lifeExpRounded</th></tr>\n",
       "\t<tr><th scope=col>&lt;fct&gt;</th><th scope=col>&lt;chr&gt;</th><th scope=col>&lt;int&gt;</th><th scope=col>&lt;dbl&gt;</th><th scope=col>&lt;int&gt;</th><th scope=col>&lt;dbl&gt;</th><th scope=col>&lt;dbl&gt;</th><th scope=col>&lt;chr&gt;</th><th scope=col>&lt;dbl&gt;</th></tr>\n",
       "</thead>\n",
       "<tbody>\n",
       "\t<tr><td>Australia       </td><td>Oceania </td><td>2002</td><td>80.370</td><td> 19546792</td><td>30687.75</td><td>5.998472e+11</td><td>AUSTRALIA       </td><td>80</td></tr>\n",
       "\t<tr><td>Canada          </td><td>Americas</td><td>2002</td><td>79.770</td><td> 31902268</td><td>33328.97</td><td>1.063270e+12</td><td>CANADA          </td><td>80</td></tr>\n",
       "\t<tr><td>Hong Kong, China</td><td>Asia    </td><td>2002</td><td>81.495</td><td>  6762476</td><td>30209.02</td><td>2.042877e+11</td><td>HONG KONG, CHINA</td><td>81</td></tr>\n",
       "\t<tr><td>Iceland         </td><td>EU      </td><td>2002</td><td>80.500</td><td>   288030</td><td>31163.20</td><td>8.975937e+09</td><td>ICELAND         </td><td>80</td></tr>\n",
       "\t<tr><td>Israel          </td><td>Asia    </td><td>2002</td><td>79.696</td><td>  6029529</td><td>21905.60</td><td>1.320804e+11</td><td>ISRAEL          </td><td>80</td></tr>\n",
       "\t<tr><td>Italy           </td><td>EU      </td><td>2002</td><td>80.240</td><td> 57926999</td><td>27968.10</td><td>1.620108e+12</td><td>ITALY           </td><td>80</td></tr>\n",
       "\t<tr><td>Japan           </td><td>Asia    </td><td>2002</td><td>82.000</td><td>127065841</td><td>28604.59</td><td>3.634667e+12</td><td>JAPAN           </td><td>82</td></tr>\n",
       "\t<tr><td>Spain           </td><td>EU      </td><td>2002</td><td>79.780</td><td> 40152517</td><td>24835.47</td><td>9.972067e+11</td><td>SPAIN           </td><td>80</td></tr>\n",
       "\t<tr><td>Sweden          </td><td>EU      </td><td>2002</td><td>80.040</td><td>  8954175</td><td>29341.63</td><td>2.627301e+11</td><td>SWEDEN          </td><td>80</td></tr>\n",
       "\t<tr><td>Switzerland     </td><td>EU      </td><td>2002</td><td>80.620</td><td>  7361757</td><td>34480.96</td><td>2.538404e+11</td><td>SWITZERLAND     </td><td>81</td></tr>\n",
       "</tbody>\n",
       "</table>\n"
      ],
      "text/latex": [
       "A tibble: 10 × 9\n",
       "\\begin{tabular}{lllllllll}\n",
       " country & continent & year & lifeExp & pop & gdpPercap & gdpTotal & countryUpper & lifeExpRounded\\\\\n",
       " <fct> & <chr> & <int> & <dbl> & <int> & <dbl> & <dbl> & <chr> & <dbl>\\\\\n",
       "\\hline\n",
       "\t Australia        & Oceania  & 2002 & 80.370 &  19546792 & 30687.75 & 5.998472e+11 & AUSTRALIA        & 80\\\\\n",
       "\t Canada           & Americas & 2002 & 79.770 &  31902268 & 33328.97 & 1.063270e+12 & CANADA           & 80\\\\\n",
       "\t Hong Kong, China & Asia     & 2002 & 81.495 &   6762476 & 30209.02 & 2.042877e+11 & HONG KONG, CHINA & 81\\\\\n",
       "\t Iceland          & EU       & 2002 & 80.500 &    288030 & 31163.20 & 8.975937e+09 & ICELAND          & 80\\\\\n",
       "\t Israel           & Asia     & 2002 & 79.696 &   6029529 & 21905.60 & 1.320804e+11 & ISRAEL           & 80\\\\\n",
       "\t Italy            & EU       & 2002 & 80.240 &  57926999 & 27968.10 & 1.620108e+12 & ITALY            & 80\\\\\n",
       "\t Japan            & Asia     & 2002 & 82.000 & 127065841 & 28604.59 & 3.634667e+12 & JAPAN            & 82\\\\\n",
       "\t Spain            & EU       & 2002 & 79.780 &  40152517 & 24835.47 & 9.972067e+11 & SPAIN            & 80\\\\\n",
       "\t Sweden           & EU       & 2002 & 80.040 &   8954175 & 29341.63 & 2.627301e+11 & SWEDEN           & 80\\\\\n",
       "\t Switzerland      & EU       & 2002 & 80.620 &   7361757 & 34480.96 & 2.538404e+11 & SWITZERLAND      & 81\\\\\n",
       "\\end{tabular}\n"
      ],
      "text/markdown": [
       "\n",
       "A tibble: 10 × 9\n",
       "\n",
       "| country &lt;fct&gt; | continent &lt;chr&gt; | year &lt;int&gt; | lifeExp &lt;dbl&gt; | pop &lt;int&gt; | gdpPercap &lt;dbl&gt; | gdpTotal &lt;dbl&gt; | countryUpper &lt;chr&gt; | lifeExpRounded &lt;dbl&gt; |\n",
       "|---|---|---|---|---|---|---|---|---|\n",
       "| Australia        | Oceania  | 2002 | 80.370 |  19546792 | 30687.75 | 5.998472e+11 | AUSTRALIA        | 80 |\n",
       "| Canada           | Americas | 2002 | 79.770 |  31902268 | 33328.97 | 1.063270e+12 | CANADA           | 80 |\n",
       "| Hong Kong, China | Asia     | 2002 | 81.495 |   6762476 | 30209.02 | 2.042877e+11 | HONG KONG, CHINA | 81 |\n",
       "| Iceland          | EU       | 2002 | 80.500 |    288030 | 31163.20 | 8.975937e+09 | ICELAND          | 80 |\n",
       "| Israel           | Asia     | 2002 | 79.696 |   6029529 | 21905.60 | 1.320804e+11 | ISRAEL           | 80 |\n",
       "| Italy            | EU       | 2002 | 80.240 |  57926999 | 27968.10 | 1.620108e+12 | ITALY            | 80 |\n",
       "| Japan            | Asia     | 2002 | 82.000 | 127065841 | 28604.59 | 3.634667e+12 | JAPAN            | 82 |\n",
       "| Spain            | EU       | 2002 | 79.780 |  40152517 | 24835.47 | 9.972067e+11 | SPAIN            | 80 |\n",
       "| Sweden           | EU       | 2002 | 80.040 |   8954175 | 29341.63 | 2.627301e+11 | SWEDEN           | 80 |\n",
       "| Switzerland      | EU       | 2002 | 80.620 |   7361757 | 34480.96 | 2.538404e+11 | SWITZERLAND      | 81 |\n",
       "\n"
      ],
      "text/plain": [
       "   country          continent year lifeExp pop       gdpPercap gdpTotal    \n",
       "1  Australia        Oceania   2002 80.370   19546792 30687.75  5.998472e+11\n",
       "2  Canada           Americas  2002 79.770   31902268 33328.97  1.063270e+12\n",
       "3  Hong Kong, China Asia      2002 81.495    6762476 30209.02  2.042877e+11\n",
       "4  Iceland          EU        2002 80.500     288030 31163.20  8.975937e+09\n",
       "5  Israel           Asia      2002 79.696    6029529 21905.60  1.320804e+11\n",
       "6  Italy            EU        2002 80.240   57926999 27968.10  1.620108e+12\n",
       "7  Japan            Asia      2002 82.000  127065841 28604.59  3.634667e+12\n",
       "8  Spain            EU        2002 79.780   40152517 24835.47  9.972067e+11\n",
       "9  Sweden           EU        2002 80.040    8954175 29341.63  2.627301e+11\n",
       "10 Switzerland      EU        2002 80.620    7361757 34480.96  2.538404e+11\n",
       "   countryUpper     lifeExpRounded\n",
       "1  AUSTRALIA        80            \n",
       "2  CANADA           80            \n",
       "3  HONG KONG, CHINA 81            \n",
       "4  ICELAND          80            \n",
       "5  ISRAEL           80            \n",
       "6  ITALY            80            \n",
       "7  JAPAN            82            \n",
       "8  SPAIN            80            \n",
       "9  SWEDEN           80            \n",
       "10 SWITZERLAND      81            "
      ]
     },
     "metadata": {},
     "output_type": "display_data"
    }
   ],
   "source": [
    "data2002 %>%     \n",
    "    mutate(\n",
    "        continent = as.character(continent), # convert factor -> character \n",
    "        continent = ifelse(continent == \"Europe\", \"EU\", continent))"
   ]
  },
  {
   "cell_type": "markdown",
   "id": "709bfbe8",
   "metadata": {},
   "source": [
    "## Renaming columns with **`rename()`**"
   ]
  },
  {
   "cell_type": "markdown",
   "id": "6e9f45e6",
   "metadata": {},
   "source": [
    "`rename(.data, …)` rename columns.\n",
    "Let's rename column `pop` to poulation:"
   ]
  },
  {
   "cell_type": "code",
   "execution_count": 181,
   "id": "c5462388",
   "metadata": {},
   "outputs": [
    {
     "data": {
      "text/html": [
       "<table class=\"dataframe\">\n",
       "<caption>A tibble: 10 × 5</caption>\n",
       "<thead>\n",
       "\t<tr><th scope=col>country</th><th scope=col>continent</th><th scope=col>year</th><th scope=col>lifeExp</th><th scope=col>population</th></tr>\n",
       "\t<tr><th scope=col>&lt;fct&gt;</th><th scope=col>&lt;fct&gt;</th><th scope=col>&lt;int&gt;</th><th scope=col>&lt;dbl&gt;</th><th scope=col>&lt;int&gt;</th></tr>\n",
       "</thead>\n",
       "<tbody>\n",
       "\t<tr><td>Australia       </td><td>Oceania </td><td>2002</td><td>80.370</td><td> 19546792</td></tr>\n",
       "\t<tr><td>Canada          </td><td>Americas</td><td>2002</td><td>79.770</td><td> 31902268</td></tr>\n",
       "\t<tr><td>Hong Kong, China</td><td>Asia    </td><td>2002</td><td>81.495</td><td>  6762476</td></tr>\n",
       "\t<tr><td>Iceland         </td><td>Europe  </td><td>2002</td><td>80.500</td><td>   288030</td></tr>\n",
       "\t<tr><td>Israel          </td><td>Asia    </td><td>2002</td><td>79.696</td><td>  6029529</td></tr>\n",
       "\t<tr><td>Italy           </td><td>Europe  </td><td>2002</td><td>80.240</td><td> 57926999</td></tr>\n",
       "\t<tr><td>Japan           </td><td>Asia    </td><td>2002</td><td>82.000</td><td>127065841</td></tr>\n",
       "\t<tr><td>Spain           </td><td>Europe  </td><td>2002</td><td>79.780</td><td> 40152517</td></tr>\n",
       "\t<tr><td>Sweden          </td><td>Europe  </td><td>2002</td><td>80.040</td><td>  8954175</td></tr>\n",
       "\t<tr><td>Switzerland     </td><td>Europe  </td><td>2002</td><td>80.620</td><td>  7361757</td></tr>\n",
       "</tbody>\n",
       "</table>\n"
      ],
      "text/latex": [
       "A tibble: 10 × 5\n",
       "\\begin{tabular}{lllll}\n",
       " country & continent & year & lifeExp & population\\\\\n",
       " <fct> & <fct> & <int> & <dbl> & <int>\\\\\n",
       "\\hline\n",
       "\t Australia        & Oceania  & 2002 & 80.370 &  19546792\\\\\n",
       "\t Canada           & Americas & 2002 & 79.770 &  31902268\\\\\n",
       "\t Hong Kong, China & Asia     & 2002 & 81.495 &   6762476\\\\\n",
       "\t Iceland          & Europe   & 2002 & 80.500 &    288030\\\\\n",
       "\t Israel           & Asia     & 2002 & 79.696 &   6029529\\\\\n",
       "\t Italy            & Europe   & 2002 & 80.240 &  57926999\\\\\n",
       "\t Japan            & Asia     & 2002 & 82.000 & 127065841\\\\\n",
       "\t Spain            & Europe   & 2002 & 79.780 &  40152517\\\\\n",
       "\t Sweden           & Europe   & 2002 & 80.040 &   8954175\\\\\n",
       "\t Switzerland      & Europe   & 2002 & 80.620 &   7361757\\\\\n",
       "\\end{tabular}\n"
      ],
      "text/markdown": [
       "\n",
       "A tibble: 10 × 5\n",
       "\n",
       "| country &lt;fct&gt; | continent &lt;fct&gt; | year &lt;int&gt; | lifeExp &lt;dbl&gt; | population &lt;int&gt; |\n",
       "|---|---|---|---|---|\n",
       "| Australia        | Oceania  | 2002 | 80.370 |  19546792 |\n",
       "| Canada           | Americas | 2002 | 79.770 |  31902268 |\n",
       "| Hong Kong, China | Asia     | 2002 | 81.495 |   6762476 |\n",
       "| Iceland          | Europe   | 2002 | 80.500 |    288030 |\n",
       "| Israel           | Asia     | 2002 | 79.696 |   6029529 |\n",
       "| Italy            | Europe   | 2002 | 80.240 |  57926999 |\n",
       "| Japan            | Asia     | 2002 | 82.000 | 127065841 |\n",
       "| Spain            | Europe   | 2002 | 79.780 |  40152517 |\n",
       "| Sweden           | Europe   | 2002 | 80.040 |   8954175 |\n",
       "| Switzerland      | Europe   | 2002 | 80.620 |   7361757 |\n",
       "\n"
      ],
      "text/plain": [
       "   country          continent year lifeExp population\n",
       "1  Australia        Oceania   2002 80.370   19546792 \n",
       "2  Canada           Americas  2002 79.770   31902268 \n",
       "3  Hong Kong, China Asia      2002 81.495    6762476 \n",
       "4  Iceland          Europe    2002 80.500     288030 \n",
       "5  Israel           Asia      2002 79.696    6029529 \n",
       "6  Italy            Europe    2002 80.240   57926999 \n",
       "7  Japan            Asia      2002 82.000  127065841 \n",
       "8  Spain            Europe    2002 79.780   40152517 \n",
       "9  Sweden           Europe    2002 80.040    8954175 \n",
       "10 Switzerland      Europe    2002 80.620    7361757 "
      ]
     },
     "metadata": {},
     "output_type": "display_data"
    }
   ],
   "source": [
    "data2002_renamed <- data2002 %>% \n",
    "                rename(population = pop) %>%\n",
    "                select(1:5)\n",
    "data2002_renamed"
   ]
  },
  {
   "cell_type": "markdown",
   "id": "038d51d6",
   "metadata": {},
   "source": [
    "## Calculations with **`group_by()`** + **`summarise()`**"
   ]
  },
  {
   "cell_type": "markdown",
   "id": "dae66025",
   "metadata": {},
   "source": [
    "`group_by(.data, ..., add = FALSE)` returns copy of table grouped by defined columns."
   ]
  },
  {
   "cell_type": "markdown",
   "id": "755925d7",
   "metadata": {},
   "source": [
    "Let's find average by `lifeExp` for each `continent` in `2002` (ouput is `continent`, `lifeExpAvg2002`, `countriesCount`, `year = 2002`):"
   ]
  },
  {
   "cell_type": "code",
   "execution_count": 212,
   "id": "aa8032ed",
   "metadata": {},
   "outputs": [
    {
     "data": {
      "text/html": [
       "<table class=\"dataframe\">\n",
       "<caption>A tibble: 5 × 4</caption>\n",
       "<thead>\n",
       "\t<tr><th scope=col>continent</th><th scope=col>lifeExpAvg2002</th><th scope=col>countriesCount</th><th scope=col>year</th></tr>\n",
       "\t<tr><th scope=col>&lt;fct&gt;</th><th scope=col>&lt;dbl&gt;</th><th scope=col>&lt;int&gt;</th><th scope=col>&lt;dbl&gt;</th></tr>\n",
       "</thead>\n",
       "<tbody>\n",
       "\t<tr><td>Africa  </td><td>53.32523</td><td>52</td><td>2002</td></tr>\n",
       "\t<tr><td>Americas</td><td>72.42204</td><td>25</td><td>2002</td></tr>\n",
       "\t<tr><td>Asia    </td><td>69.23388</td><td>33</td><td>2002</td></tr>\n",
       "\t<tr><td>Europe  </td><td>76.70060</td><td>30</td><td>2002</td></tr>\n",
       "\t<tr><td>Oceania </td><td>79.74000</td><td> 2</td><td>2002</td></tr>\n",
       "</tbody>\n",
       "</table>\n"
      ],
      "text/latex": [
       "A tibble: 5 × 4\n",
       "\\begin{tabular}{llll}\n",
       " continent & lifeExpAvg2002 & countriesCount & year\\\\\n",
       " <fct> & <dbl> & <int> & <dbl>\\\\\n",
       "\\hline\n",
       "\t Africa   & 53.32523 & 52 & 2002\\\\\n",
       "\t Americas & 72.42204 & 25 & 2002\\\\\n",
       "\t Asia     & 69.23388 & 33 & 2002\\\\\n",
       "\t Europe   & 76.70060 & 30 & 2002\\\\\n",
       "\t Oceania  & 79.74000 &  2 & 2002\\\\\n",
       "\\end{tabular}\n"
      ],
      "text/markdown": [
       "\n",
       "A tibble: 5 × 4\n",
       "\n",
       "| continent &lt;fct&gt; | lifeExpAvg2002 &lt;dbl&gt; | countriesCount &lt;int&gt; | year &lt;dbl&gt; |\n",
       "|---|---|---|---|\n",
       "| Africa   | 53.32523 | 52 | 2002 |\n",
       "| Americas | 72.42204 | 25 | 2002 |\n",
       "| Asia     | 69.23388 | 33 | 2002 |\n",
       "| Europe   | 76.70060 | 30 | 2002 |\n",
       "| Oceania  | 79.74000 |  2 | 2002 |\n",
       "\n"
      ],
      "text/plain": [
       "  continent lifeExpAvg2002 countriesCount year\n",
       "1 Africa    53.32523       52             2002\n",
       "2 Americas  72.42204       25             2002\n",
       "3 Asia      69.23388       33             2002\n",
       "4 Europe    76.70060       30             2002\n",
       "5 Oceania   79.74000        2             2002"
      ]
     },
     "metadata": {},
     "output_type": "display_data"
    }
   ],
   "source": [
    "grouped_data2002 <- gapminder %>%\n",
    "            filter(year == 2002) %>% # year\n",
    "            group_by(continent) %>% # grouping condition\n",
    "            summarise(\n",
    "                lifeExpAvg2002 = mean(lifeExp),\n",
    "                countriesCount = n() # n() count of rows in group                \n",
    "            ) %>%\n",
    "            mutate(year = 2002)\n",
    "grouped_data2002"
   ]
  },
  {
   "cell_type": "markdown",
   "id": "91bb37a6",
   "metadata": {},
   "source": [
    "Let's find total `population` for each `continent` in `2002` (ouput is `continent`, `totalPop`, `year`):"
   ]
  },
  {
   "cell_type": "code",
   "execution_count": 211,
   "id": "d8b3f567",
   "metadata": {},
   "outputs": [
    {
     "data": {
      "text/html": [
       "<table class=\"dataframe\">\n",
       "<caption>A tibble: 5 × 3</caption>\n",
       "<thead>\n",
       "\t<tr><th scope=col>continent</th><th scope=col>totalPop</th><th scope=col>year</th></tr>\n",
       "\t<tr><th scope=col>&lt;fct&gt;</th><th scope=col>&lt;dbl&gt;</th><th scope=col>&lt;dbl&gt;</th></tr>\n",
       "</thead>\n",
       "<tbody>\n",
       "\t<tr><td>Africa  </td><td> 833723916</td><td>2002</td></tr>\n",
       "\t<tr><td>Americas</td><td> 849772762</td><td>2002</td></tr>\n",
       "\t<tr><td>Asia    </td><td>3601802203</td><td>2002</td></tr>\n",
       "\t<tr><td>Europe  </td><td> 578223869</td><td>2002</td></tr>\n",
       "\t<tr><td>Oceania </td><td>  23454829</td><td>2002</td></tr>\n",
       "</tbody>\n",
       "</table>\n"
      ],
      "text/latex": [
       "A tibble: 5 × 3\n",
       "\\begin{tabular}{lll}\n",
       " continent & totalPop & year\\\\\n",
       " <fct> & <dbl> & <dbl>\\\\\n",
       "\\hline\n",
       "\t Africa   &  833723916 & 2002\\\\\n",
       "\t Americas &  849772762 & 2002\\\\\n",
       "\t Asia     & 3601802203 & 2002\\\\\n",
       "\t Europe   &  578223869 & 2002\\\\\n",
       "\t Oceania  &   23454829 & 2002\\\\\n",
       "\\end{tabular}\n"
      ],
      "text/markdown": [
       "\n",
       "A tibble: 5 × 3\n",
       "\n",
       "| continent &lt;fct&gt; | totalPop &lt;dbl&gt; | year &lt;dbl&gt; |\n",
       "|---|---|---|\n",
       "| Africa   |  833723916 | 2002 |\n",
       "| Americas |  849772762 | 2002 |\n",
       "| Asia     | 3601802203 | 2002 |\n",
       "| Europe   |  578223869 | 2002 |\n",
       "| Oceania  |   23454829 | 2002 |\n",
       "\n"
      ],
      "text/plain": [
       "  continent totalPop   year\n",
       "1 Africa     833723916 2002\n",
       "2 Americas   849772762 2002\n",
       "3 Asia      3601802203 2002\n",
       "4 Europe     578223869 2002\n",
       "5 Oceania     23454829 2002"
      ]
     },
     "metadata": {},
     "output_type": "display_data"
    }
   ],
   "source": [
    "grouped_data2002pop <- gapminder %>%\n",
    "            filter(year == 2002) %>% # year\n",
    "            group_by(continent) %>% # grouping condition\n",
    "            summarise(\n",
    "                totalPop = sum(pop)            \n",
    "            ) %>%\n",
    "            mutate(year = 2002)\n",
    "grouped_data2002pop"
   ]
  },
  {
   "cell_type": "markdown",
   "id": "d0725f7d",
   "metadata": {},
   "source": [
    "There are additional variations of `summarise()`:\n",
    "\n",
    "- [x] `summarise_all()` - Apply funs to every column. \n",
    "- [x] `summarise_at()` - Apply funs to specific columns.  \n",
    "- [x] `summarise_if()` - Apply funs to all cols of one type."
   ]
  },
  {
   "cell_type": "markdown",
   "id": "96a31f85",
   "metadata": {},
   "source": [
    "## Binding rows and columns"
   ]
  },
  {
   "cell_type": "markdown",
   "id": "051ae998",
   "metadata": {},
   "source": [
    "`bind_rows(.data, …)` helps to unite two dataframes with the same columns order and names. "
   ]
  },
  {
   "cell_type": "markdown",
   "id": "7d78a54d",
   "metadata": {},
   "source": [
    "So, if we need add one data frame to an other vertically (bind rows) we shoul use `bind_rows`:"
   ]
  },
  {
   "cell_type": "code",
   "execution_count": 217,
   "id": "1476da2b",
   "metadata": {},
   "outputs": [
    {
     "data": {
      "text/html": [
       "<table class=\"dataframe\">\n",
       "<caption>A tibble: 5 × 4</caption>\n",
       "<thead>\n",
       "\t<tr><th scope=col>continent</th><th scope=col>lifeExpAvg</th><th scope=col>countriesCount</th><th scope=col>year</th></tr>\n",
       "\t<tr><th scope=col>&lt;fct&gt;</th><th scope=col>&lt;dbl&gt;</th><th scope=col>&lt;int&gt;</th><th scope=col>&lt;dbl&gt;</th></tr>\n",
       "</thead>\n",
       "<tbody>\n",
       "\t<tr><td>Africa  </td><td>53.32523</td><td>52</td><td>2002</td></tr>\n",
       "\t<tr><td>Americas</td><td>72.42204</td><td>25</td><td>2002</td></tr>\n",
       "\t<tr><td>Asia    </td><td>69.23388</td><td>33</td><td>2002</td></tr>\n",
       "\t<tr><td>Europe  </td><td>76.70060</td><td>30</td><td>2002</td></tr>\n",
       "\t<tr><td>Oceania </td><td>79.74000</td><td> 2</td><td>2002</td></tr>\n",
       "</tbody>\n",
       "</table>\n"
      ],
      "text/latex": [
       "A tibble: 5 × 4\n",
       "\\begin{tabular}{llll}\n",
       " continent & lifeExpAvg & countriesCount & year\\\\\n",
       " <fct> & <dbl> & <int> & <dbl>\\\\\n",
       "\\hline\n",
       "\t Africa   & 53.32523 & 52 & 2002\\\\\n",
       "\t Americas & 72.42204 & 25 & 2002\\\\\n",
       "\t Asia     & 69.23388 & 33 & 2002\\\\\n",
       "\t Europe   & 76.70060 & 30 & 2002\\\\\n",
       "\t Oceania  & 79.74000 &  2 & 2002\\\\\n",
       "\\end{tabular}\n"
      ],
      "text/markdown": [
       "\n",
       "A tibble: 5 × 4\n",
       "\n",
       "| continent &lt;fct&gt; | lifeExpAvg &lt;dbl&gt; | countriesCount &lt;int&gt; | year &lt;dbl&gt; |\n",
       "|---|---|---|---|\n",
       "| Africa   | 53.32523 | 52 | 2002 |\n",
       "| Americas | 72.42204 | 25 | 2002 |\n",
       "| Asia     | 69.23388 | 33 | 2002 |\n",
       "| Europe   | 76.70060 | 30 | 2002 |\n",
       "| Oceania  | 79.74000 |  2 | 2002 |\n",
       "\n"
      ],
      "text/plain": [
       "  continent lifeExpAvg countriesCount year\n",
       "1 Africa    53.32523   52             2002\n",
       "2 Americas  72.42204   25             2002\n",
       "3 Asia      69.23388   33             2002\n",
       "4 Europe    76.70060   30             2002\n",
       "5 Oceania   79.74000    2             2002"
      ]
     },
     "metadata": {},
     "output_type": "display_data"
    }
   ],
   "source": [
    "grouped_data2002 <- gapminder %>%\n",
    "            filter(year == 2002) %>% # year\n",
    "            group_by(continent) %>% # grouping condition\n",
    "            summarise(\n",
    "                lifeExpAvg = mean(lifeExp),\n",
    "                countriesCount = n() # n() count of rows in group                \n",
    "            ) %>%\n",
    "            mutate(year = 2002)\n",
    "grouped_data2002"
   ]
  },
  {
   "cell_type": "code",
   "execution_count": 219,
   "id": "95dde6c1",
   "metadata": {},
   "outputs": [
    {
     "data": {
      "text/html": [
       "<table class=\"dataframe\">\n",
       "<caption>A tibble: 5 × 4</caption>\n",
       "<thead>\n",
       "\t<tr><th scope=col>continent</th><th scope=col>lifeExpAvg</th><th scope=col>countriesCount</th><th scope=col>year</th></tr>\n",
       "\t<tr><th scope=col>&lt;fct&gt;</th><th scope=col>&lt;dbl&gt;</th><th scope=col>&lt;int&gt;</th><th scope=col>&lt;dbl&gt;</th></tr>\n",
       "</thead>\n",
       "<tbody>\n",
       "\t<tr><td>Africa  </td><td>54.80604</td><td>52</td><td>2007</td></tr>\n",
       "\t<tr><td>Americas</td><td>73.60812</td><td>25</td><td>2007</td></tr>\n",
       "\t<tr><td>Asia    </td><td>70.72848</td><td>33</td><td>2007</td></tr>\n",
       "\t<tr><td>Europe  </td><td>77.64860</td><td>30</td><td>2007</td></tr>\n",
       "\t<tr><td>Oceania </td><td>80.71950</td><td> 2</td><td>2007</td></tr>\n",
       "</tbody>\n",
       "</table>\n"
      ],
      "text/latex": [
       "A tibble: 5 × 4\n",
       "\\begin{tabular}{llll}\n",
       " continent & lifeExpAvg & countriesCount & year\\\\\n",
       " <fct> & <dbl> & <int> & <dbl>\\\\\n",
       "\\hline\n",
       "\t Africa   & 54.80604 & 52 & 2007\\\\\n",
       "\t Americas & 73.60812 & 25 & 2007\\\\\n",
       "\t Asia     & 70.72848 & 33 & 2007\\\\\n",
       "\t Europe   & 77.64860 & 30 & 2007\\\\\n",
       "\t Oceania  & 80.71950 &  2 & 2007\\\\\n",
       "\\end{tabular}\n"
      ],
      "text/markdown": [
       "\n",
       "A tibble: 5 × 4\n",
       "\n",
       "| continent &lt;fct&gt; | lifeExpAvg &lt;dbl&gt; | countriesCount &lt;int&gt; | year &lt;dbl&gt; |\n",
       "|---|---|---|---|\n",
       "| Africa   | 54.80604 | 52 | 2007 |\n",
       "| Americas | 73.60812 | 25 | 2007 |\n",
       "| Asia     | 70.72848 | 33 | 2007 |\n",
       "| Europe   | 77.64860 | 30 | 2007 |\n",
       "| Oceania  | 80.71950 |  2 | 2007 |\n",
       "\n"
      ],
      "text/plain": [
       "  continent lifeExpAvg countriesCount year\n",
       "1 Africa    54.80604   52             2007\n",
       "2 Americas  73.60812   25             2007\n",
       "3 Asia      70.72848   33             2007\n",
       "4 Europe    77.64860   30             2007\n",
       "5 Oceania   80.71950    2             2007"
      ]
     },
     "metadata": {},
     "output_type": "display_data"
    }
   ],
   "source": [
    "grouped_data2007 <- gapminder %>%\n",
    "            filter(year == 2007) %>% # year\n",
    "            group_by(continent) %>% # grouping condition\n",
    "            summarise(\n",
    "                lifeExpAvg = mean(lifeExp),\n",
    "                countriesCount = n() # n() count of rows in group                \n",
    "            ) %>%\n",
    "            mutate(year = 2007)\n",
    "grouped_data2007"
   ]
  },
  {
   "cell_type": "markdown",
   "id": "2182789b",
   "metadata": {},
   "source": [
    "Unite them:"
   ]
  },
  {
   "cell_type": "code",
   "execution_count": 221,
   "id": "30def935",
   "metadata": {},
   "outputs": [
    {
     "data": {
      "text/html": [
       "<table class=\"dataframe\">\n",
       "<caption>A tibble: 10 × 4</caption>\n",
       "<thead>\n",
       "\t<tr><th scope=col>continent</th><th scope=col>lifeExpAvg</th><th scope=col>countriesCount</th><th scope=col>year</th></tr>\n",
       "\t<tr><th scope=col>&lt;fct&gt;</th><th scope=col>&lt;dbl&gt;</th><th scope=col>&lt;int&gt;</th><th scope=col>&lt;dbl&gt;</th></tr>\n",
       "</thead>\n",
       "<tbody>\n",
       "\t<tr><td>Africa  </td><td>53.32523</td><td>52</td><td>2002</td></tr>\n",
       "\t<tr><td>Americas</td><td>72.42204</td><td>25</td><td>2002</td></tr>\n",
       "\t<tr><td>Asia    </td><td>69.23388</td><td>33</td><td>2002</td></tr>\n",
       "\t<tr><td>Europe  </td><td>76.70060</td><td>30</td><td>2002</td></tr>\n",
       "\t<tr><td>Oceania </td><td>79.74000</td><td> 2</td><td>2002</td></tr>\n",
       "\t<tr><td>Africa  </td><td>54.80604</td><td>52</td><td>2007</td></tr>\n",
       "\t<tr><td>Americas</td><td>73.60812</td><td>25</td><td>2007</td></tr>\n",
       "\t<tr><td>Asia    </td><td>70.72848</td><td>33</td><td>2007</td></tr>\n",
       "\t<tr><td>Europe  </td><td>77.64860</td><td>30</td><td>2007</td></tr>\n",
       "\t<tr><td>Oceania </td><td>80.71950</td><td> 2</td><td>2007</td></tr>\n",
       "</tbody>\n",
       "</table>\n"
      ],
      "text/latex": [
       "A tibble: 10 × 4\n",
       "\\begin{tabular}{llll}\n",
       " continent & lifeExpAvg & countriesCount & year\\\\\n",
       " <fct> & <dbl> & <int> & <dbl>\\\\\n",
       "\\hline\n",
       "\t Africa   & 53.32523 & 52 & 2002\\\\\n",
       "\t Americas & 72.42204 & 25 & 2002\\\\\n",
       "\t Asia     & 69.23388 & 33 & 2002\\\\\n",
       "\t Europe   & 76.70060 & 30 & 2002\\\\\n",
       "\t Oceania  & 79.74000 &  2 & 2002\\\\\n",
       "\t Africa   & 54.80604 & 52 & 2007\\\\\n",
       "\t Americas & 73.60812 & 25 & 2007\\\\\n",
       "\t Asia     & 70.72848 & 33 & 2007\\\\\n",
       "\t Europe   & 77.64860 & 30 & 2007\\\\\n",
       "\t Oceania  & 80.71950 &  2 & 2007\\\\\n",
       "\\end{tabular}\n"
      ],
      "text/markdown": [
       "\n",
       "A tibble: 10 × 4\n",
       "\n",
       "| continent &lt;fct&gt; | lifeExpAvg &lt;dbl&gt; | countriesCount &lt;int&gt; | year &lt;dbl&gt; |\n",
       "|---|---|---|---|\n",
       "| Africa   | 53.32523 | 52 | 2002 |\n",
       "| Americas | 72.42204 | 25 | 2002 |\n",
       "| Asia     | 69.23388 | 33 | 2002 |\n",
       "| Europe   | 76.70060 | 30 | 2002 |\n",
       "| Oceania  | 79.74000 |  2 | 2002 |\n",
       "| Africa   | 54.80604 | 52 | 2007 |\n",
       "| Americas | 73.60812 | 25 | 2007 |\n",
       "| Asia     | 70.72848 | 33 | 2007 |\n",
       "| Europe   | 77.64860 | 30 | 2007 |\n",
       "| Oceania  | 80.71950 |  2 | 2007 |\n",
       "\n"
      ],
      "text/plain": [
       "   continent lifeExpAvg countriesCount year\n",
       "1  Africa    53.32523   52             2002\n",
       "2  Americas  72.42204   25             2002\n",
       "3  Asia      69.23388   33             2002\n",
       "4  Europe    76.70060   30             2002\n",
       "5  Oceania   79.74000    2             2002\n",
       "6  Africa    54.80604   52             2007\n",
       "7  Americas  73.60812   25             2007\n",
       "8  Asia      70.72848   33             2007\n",
       "9  Europe    77.64860   30             2007\n",
       "10 Oceania   80.71950    2             2007"
      ]
     },
     "metadata": {},
     "output_type": "display_data"
    }
   ],
   "source": [
    "grouped_data <- grouped_data2002 %>%\n",
    "                    bind_rows(grouped_data2007)\n",
    "grouped_data"
   ]
  },
  {
   "cell_type": "markdown",
   "id": "8b87e94d",
   "metadata": {},
   "source": [
    "`bind_cols(.data, …)` helps to unite two dataframes with the same rows count. "
   ]
  },
  {
   "cell_type": "code",
   "execution_count": 224,
   "id": "937a6c2b",
   "metadata": {},
   "outputs": [
    {
     "data": {
      "text/html": [
       "<table class=\"dataframe\">\n",
       "<caption>A tibble: 5 × 3</caption>\n",
       "<thead>\n",
       "\t<tr><th scope=col>continent</th><th scope=col>totalPop</th><th scope=col>year</th></tr>\n",
       "\t<tr><th scope=col>&lt;fct&gt;</th><th scope=col>&lt;dbl&gt;</th><th scope=col>&lt;dbl&gt;</th></tr>\n",
       "</thead>\n",
       "<tbody>\n",
       "\t<tr><td>Africa  </td><td> 833723916</td><td>2002</td></tr>\n",
       "\t<tr><td>Americas</td><td> 849772762</td><td>2002</td></tr>\n",
       "\t<tr><td>Asia    </td><td>3601802203</td><td>2002</td></tr>\n",
       "\t<tr><td>Europe  </td><td> 578223869</td><td>2002</td></tr>\n",
       "\t<tr><td>Oceania </td><td>  23454829</td><td>2002</td></tr>\n",
       "</tbody>\n",
       "</table>\n"
      ],
      "text/latex": [
       "A tibble: 5 × 3\n",
       "\\begin{tabular}{lll}\n",
       " continent & totalPop & year\\\\\n",
       " <fct> & <dbl> & <dbl>\\\\\n",
       "\\hline\n",
       "\t Africa   &  833723916 & 2002\\\\\n",
       "\t Americas &  849772762 & 2002\\\\\n",
       "\t Asia     & 3601802203 & 2002\\\\\n",
       "\t Europe   &  578223869 & 2002\\\\\n",
       "\t Oceania  &   23454829 & 2002\\\\\n",
       "\\end{tabular}\n"
      ],
      "text/markdown": [
       "\n",
       "A tibble: 5 × 3\n",
       "\n",
       "| continent &lt;fct&gt; | totalPop &lt;dbl&gt; | year &lt;dbl&gt; |\n",
       "|---|---|---|\n",
       "| Africa   |  833723916 | 2002 |\n",
       "| Americas |  849772762 | 2002 |\n",
       "| Asia     | 3601802203 | 2002 |\n",
       "| Europe   |  578223869 | 2002 |\n",
       "| Oceania  |   23454829 | 2002 |\n",
       "\n"
      ],
      "text/plain": [
       "  continent totalPop   year\n",
       "1 Africa     833723916 2002\n",
       "2 Americas   849772762 2002\n",
       "3 Asia      3601802203 2002\n",
       "4 Europe     578223869 2002\n",
       "5 Oceania     23454829 2002"
      ]
     },
     "metadata": {},
     "output_type": "display_data"
    }
   ],
   "source": [
    "grouped_data2002pop <- gapminder %>%\n",
    "            filter(year == 2002) %>% # year\n",
    "            group_by(continent) %>% # grouping condition\n",
    "            summarise(\n",
    "                totalPop = sum(pop)            \n",
    "            ) %>%\n",
    "            mutate(year = 2002)\n",
    "grouped_data2002pop"
   ]
  },
  {
   "cell_type": "markdown",
   "id": "c0ff33ed",
   "metadata": {},
   "source": [
    "Let's combine `grouped_data2002` and `popgrouped_data2002pop`:"
   ]
  },
  {
   "cell_type": "code",
   "execution_count": 228,
   "id": "b958a7f1",
   "metadata": {},
   "outputs": [
    {
     "name": "stderr",
     "output_type": "stream",
     "text": [
      "New names:\n",
      "* continent -> continent...1\n",
      "* year -> year...4\n",
      "* continent -> continent...5\n",
      "* year -> year...7\n",
      "\n"
     ]
    },
    {
     "data": {
      "text/html": [
       "<table class=\"dataframe\">\n",
       "<caption>A tibble: 5 × 7</caption>\n",
       "<thead>\n",
       "\t<tr><th scope=col>continent...1</th><th scope=col>lifeExpAvg</th><th scope=col>countriesCount</th><th scope=col>year...4</th><th scope=col>continent...5</th><th scope=col>totalPop</th><th scope=col>year...7</th></tr>\n",
       "\t<tr><th scope=col>&lt;fct&gt;</th><th scope=col>&lt;dbl&gt;</th><th scope=col>&lt;int&gt;</th><th scope=col>&lt;dbl&gt;</th><th scope=col>&lt;fct&gt;</th><th scope=col>&lt;dbl&gt;</th><th scope=col>&lt;dbl&gt;</th></tr>\n",
       "</thead>\n",
       "<tbody>\n",
       "\t<tr><td>Africa  </td><td>53.32523</td><td>52</td><td>2002</td><td>Africa  </td><td> 833723916</td><td>2002</td></tr>\n",
       "\t<tr><td>Americas</td><td>72.42204</td><td>25</td><td>2002</td><td>Americas</td><td> 849772762</td><td>2002</td></tr>\n",
       "\t<tr><td>Asia    </td><td>69.23388</td><td>33</td><td>2002</td><td>Asia    </td><td>3601802203</td><td>2002</td></tr>\n",
       "\t<tr><td>Europe  </td><td>76.70060</td><td>30</td><td>2002</td><td>Europe  </td><td> 578223869</td><td>2002</td></tr>\n",
       "\t<tr><td>Oceania </td><td>79.74000</td><td> 2</td><td>2002</td><td>Oceania </td><td>  23454829</td><td>2002</td></tr>\n",
       "</tbody>\n",
       "</table>\n"
      ],
      "text/latex": [
       "A tibble: 5 × 7\n",
       "\\begin{tabular}{lllllll}\n",
       " continent...1 & lifeExpAvg & countriesCount & year...4 & continent...5 & totalPop & year...7\\\\\n",
       " <fct> & <dbl> & <int> & <dbl> & <fct> & <dbl> & <dbl>\\\\\n",
       "\\hline\n",
       "\t Africa   & 53.32523 & 52 & 2002 & Africa   &  833723916 & 2002\\\\\n",
       "\t Americas & 72.42204 & 25 & 2002 & Americas &  849772762 & 2002\\\\\n",
       "\t Asia     & 69.23388 & 33 & 2002 & Asia     & 3601802203 & 2002\\\\\n",
       "\t Europe   & 76.70060 & 30 & 2002 & Europe   &  578223869 & 2002\\\\\n",
       "\t Oceania  & 79.74000 &  2 & 2002 & Oceania  &   23454829 & 2002\\\\\n",
       "\\end{tabular}\n"
      ],
      "text/markdown": [
       "\n",
       "A tibble: 5 × 7\n",
       "\n",
       "| continent...1 &lt;fct&gt; | lifeExpAvg &lt;dbl&gt; | countriesCount &lt;int&gt; | year...4 &lt;dbl&gt; | continent...5 &lt;fct&gt; | totalPop &lt;dbl&gt; | year...7 &lt;dbl&gt; |\n",
       "|---|---|---|---|---|---|---|\n",
       "| Africa   | 53.32523 | 52 | 2002 | Africa   |  833723916 | 2002 |\n",
       "| Americas | 72.42204 | 25 | 2002 | Americas |  849772762 | 2002 |\n",
       "| Asia     | 69.23388 | 33 | 2002 | Asia     | 3601802203 | 2002 |\n",
       "| Europe   | 76.70060 | 30 | 2002 | Europe   |  578223869 | 2002 |\n",
       "| Oceania  | 79.74000 |  2 | 2002 | Oceania  |   23454829 | 2002 |\n",
       "\n"
      ],
      "text/plain": [
       "  continent...1 lifeExpAvg countriesCount year...4 continent...5 totalPop  \n",
       "1 Africa        53.32523   52             2002     Africa         833723916\n",
       "2 Americas      72.42204   25             2002     Americas       849772762\n",
       "3 Asia          69.23388   33             2002     Asia          3601802203\n",
       "4 Europe        76.70060   30             2002     Europe         578223869\n",
       "5 Oceania       79.74000    2             2002     Oceania         23454829\n",
       "  year...7\n",
       "1 2002    \n",
       "2 2002    \n",
       "3 2002    \n",
       "4 2002    \n",
       "5 2002    "
      ]
     },
     "metadata": {},
     "output_type": "display_data"
    }
   ],
   "source": [
    "grouped_data <- grouped_data2002 %>% \n",
    "                    bind_cols(grouped_data2002pop)\n",
    "grouped_data\n",
    "\n",
    "# columns with the same name were renamed!"
   ]
  },
  {
   "cell_type": "markdown",
   "id": "707c35b6",
   "metadata": {},
   "source": [
    "You can remove same named variables before binding:"
   ]
  },
  {
   "cell_type": "code",
   "execution_count": 231,
   "id": "3a27dd3b",
   "metadata": {},
   "outputs": [
    {
     "data": {
      "text/html": [
       "<table class=\"dataframe\">\n",
       "<caption>A tibble: 5 × 5</caption>\n",
       "<thead>\n",
       "\t<tr><th scope=col>continent</th><th scope=col>lifeExpAvg</th><th scope=col>countriesCount</th><th scope=col>year</th><th scope=col>totalPop</th></tr>\n",
       "\t<tr><th scope=col>&lt;fct&gt;</th><th scope=col>&lt;dbl&gt;</th><th scope=col>&lt;int&gt;</th><th scope=col>&lt;dbl&gt;</th><th scope=col>&lt;dbl&gt;</th></tr>\n",
       "</thead>\n",
       "<tbody>\n",
       "\t<tr><td>Africa  </td><td>53.32523</td><td>52</td><td>2002</td><td> 833723916</td></tr>\n",
       "\t<tr><td>Americas</td><td>72.42204</td><td>25</td><td>2002</td><td> 849772762</td></tr>\n",
       "\t<tr><td>Asia    </td><td>69.23388</td><td>33</td><td>2002</td><td>3601802203</td></tr>\n",
       "\t<tr><td>Europe  </td><td>76.70060</td><td>30</td><td>2002</td><td> 578223869</td></tr>\n",
       "\t<tr><td>Oceania </td><td>79.74000</td><td> 2</td><td>2002</td><td>  23454829</td></tr>\n",
       "</tbody>\n",
       "</table>\n"
      ],
      "text/latex": [
       "A tibble: 5 × 5\n",
       "\\begin{tabular}{lllll}\n",
       " continent & lifeExpAvg & countriesCount & year & totalPop\\\\\n",
       " <fct> & <dbl> & <int> & <dbl> & <dbl>\\\\\n",
       "\\hline\n",
       "\t Africa   & 53.32523 & 52 & 2002 &  833723916\\\\\n",
       "\t Americas & 72.42204 & 25 & 2002 &  849772762\\\\\n",
       "\t Asia     & 69.23388 & 33 & 2002 & 3601802203\\\\\n",
       "\t Europe   & 76.70060 & 30 & 2002 &  578223869\\\\\n",
       "\t Oceania  & 79.74000 &  2 & 2002 &   23454829\\\\\n",
       "\\end{tabular}\n"
      ],
      "text/markdown": [
       "\n",
       "A tibble: 5 × 5\n",
       "\n",
       "| continent &lt;fct&gt; | lifeExpAvg &lt;dbl&gt; | countriesCount &lt;int&gt; | year &lt;dbl&gt; | totalPop &lt;dbl&gt; |\n",
       "|---|---|---|---|---|\n",
       "| Africa   | 53.32523 | 52 | 2002 |  833723916 |\n",
       "| Americas | 72.42204 | 25 | 2002 |  849772762 |\n",
       "| Asia     | 69.23388 | 33 | 2002 | 3601802203 |\n",
       "| Europe   | 76.70060 | 30 | 2002 |  578223869 |\n",
       "| Oceania  | 79.74000 |  2 | 2002 |   23454829 |\n",
       "\n"
      ],
      "text/plain": [
       "  continent lifeExpAvg countriesCount year totalPop  \n",
       "1 Africa    53.32523   52             2002  833723916\n",
       "2 Americas  72.42204   25             2002  849772762\n",
       "3 Asia      69.23388   33             2002 3601802203\n",
       "4 Europe    76.70060   30             2002  578223869\n",
       "5 Oceania   79.74000    2             2002   23454829"
      ]
     },
     "metadata": {},
     "output_type": "display_data"
    }
   ],
   "source": [
    "grouped_data <- grouped_data2002 %>% \n",
    "                    bind_cols(grouped_data2002pop %>%\n",
    "                                select(-continent, -year))\n",
    "grouped_data\n",
    "\n",
    "# better, but continents order is not the same in both frames \n",
    "# your data is going to be damaged"
   ]
  },
  {
   "cell_type": "code",
   "execution_count": 234,
   "id": "01b5041b",
   "metadata": {},
   "outputs": [
    {
     "name": "stderr",
     "output_type": "stream",
     "text": [
      "New names:\n",
      "* continent -> continent...1\n",
      "* year -> year...4\n",
      "* continent -> continent...5\n",
      "* year -> year...7\n",
      "\n"
     ]
    },
    {
     "data": {
      "text/html": [
       "<table class=\"dataframe\">\n",
       "<caption>A tibble: 5 × 7</caption>\n",
       "<thead>\n",
       "\t<tr><th scope=col>continent...1</th><th scope=col>lifeExpAvg</th><th scope=col>countriesCount</th><th scope=col>year...4</th><th scope=col>continent...5</th><th scope=col>totalPop</th><th scope=col>year...7</th></tr>\n",
       "\t<tr><th scope=col>&lt;fct&gt;</th><th scope=col>&lt;dbl&gt;</th><th scope=col>&lt;int&gt;</th><th scope=col>&lt;dbl&gt;</th><th scope=col>&lt;fct&gt;</th><th scope=col>&lt;dbl&gt;</th><th scope=col>&lt;dbl&gt;</th></tr>\n",
       "</thead>\n",
       "<tbody>\n",
       "\t<tr><td>Africa  </td><td>53.32523</td><td>52</td><td>2002</td><td>Oceania </td><td>  23454829</td><td>2002</td></tr>\n",
       "\t<tr><td>Americas</td><td>72.42204</td><td>25</td><td>2002</td><td>Europe  </td><td> 578223869</td><td>2002</td></tr>\n",
       "\t<tr><td>Asia    </td><td>69.23388</td><td>33</td><td>2002</td><td>Africa  </td><td> 833723916</td><td>2002</td></tr>\n",
       "\t<tr><td>Europe  </td><td>76.70060</td><td>30</td><td>2002</td><td>Americas</td><td> 849772762</td><td>2002</td></tr>\n",
       "\t<tr><td>Oceania </td><td>79.74000</td><td> 2</td><td>2002</td><td>Asia    </td><td>3601802203</td><td>2002</td></tr>\n",
       "</tbody>\n",
       "</table>\n"
      ],
      "text/latex": [
       "A tibble: 5 × 7\n",
       "\\begin{tabular}{lllllll}\n",
       " continent...1 & lifeExpAvg & countriesCount & year...4 & continent...5 & totalPop & year...7\\\\\n",
       " <fct> & <dbl> & <int> & <dbl> & <fct> & <dbl> & <dbl>\\\\\n",
       "\\hline\n",
       "\t Africa   & 53.32523 & 52 & 2002 & Oceania  &   23454829 & 2002\\\\\n",
       "\t Americas & 72.42204 & 25 & 2002 & Europe   &  578223869 & 2002\\\\\n",
       "\t Asia     & 69.23388 & 33 & 2002 & Africa   &  833723916 & 2002\\\\\n",
       "\t Europe   & 76.70060 & 30 & 2002 & Americas &  849772762 & 2002\\\\\n",
       "\t Oceania  & 79.74000 &  2 & 2002 & Asia     & 3601802203 & 2002\\\\\n",
       "\\end{tabular}\n"
      ],
      "text/markdown": [
       "\n",
       "A tibble: 5 × 7\n",
       "\n",
       "| continent...1 &lt;fct&gt; | lifeExpAvg &lt;dbl&gt; | countriesCount &lt;int&gt; | year...4 &lt;dbl&gt; | continent...5 &lt;fct&gt; | totalPop &lt;dbl&gt; | year...7 &lt;dbl&gt; |\n",
       "|---|---|---|---|---|---|---|\n",
       "| Africa   | 53.32523 | 52 | 2002 | Oceania  |   23454829 | 2002 |\n",
       "| Americas | 72.42204 | 25 | 2002 | Europe   |  578223869 | 2002 |\n",
       "| Asia     | 69.23388 | 33 | 2002 | Africa   |  833723916 | 2002 |\n",
       "| Europe   | 76.70060 | 30 | 2002 | Americas |  849772762 | 2002 |\n",
       "| Oceania  | 79.74000 |  2 | 2002 | Asia     | 3601802203 | 2002 |\n",
       "\n"
      ],
      "text/plain": [
       "  continent...1 lifeExpAvg countriesCount year...4 continent...5 totalPop  \n",
       "1 Africa        53.32523   52             2002     Oceania         23454829\n",
       "2 Americas      72.42204   25             2002     Europe         578223869\n",
       "3 Asia          69.23388   33             2002     Africa         833723916\n",
       "4 Europe        76.70060   30             2002     Americas       849772762\n",
       "5 Oceania       79.74000    2             2002     Asia          3601802203\n",
       "  year...7\n",
       "1 2002    \n",
       "2 2002    \n",
       "3 2002    \n",
       "4 2002    \n",
       "5 2002    "
      ]
     },
     "metadata": {},
     "output_type": "display_data"
    }
   ],
   "source": [
    "grouped_data2002pop <- grouped_data2002pop %>% arrange(totalPop)\n",
    "\n",
    "grouped_data <- grouped_data2002 %>% \n",
    "                    bind_cols(grouped_data2002pop)\n",
    "grouped_data\n",
    "\n",
    "# you can see that continent fields different in the same row"
   ]
  },
  {
   "cell_type": "markdown",
   "id": "8c21752e",
   "metadata": {},
   "source": [
    "## `Join()`ing data"
   ]
  },
  {
   "cell_type": "markdown",
   "id": "49294c0c",
   "metadata": {},
   "source": [
    "To solve previous problem you can use set of `join()`-functions. `left_join()` can solve our previous example:"
   ]
  },
  {
   "cell_type": "code",
   "execution_count": 236,
   "id": "4daf0675",
   "metadata": {},
   "outputs": [
    {
     "data": {
      "text/html": [
       "<table class=\"dataframe\">\n",
       "<caption>A tibble: 5 × 6</caption>\n",
       "<thead>\n",
       "\t<tr><th scope=col>continent</th><th scope=col>lifeExpAvg</th><th scope=col>countriesCount</th><th scope=col>year.x</th><th scope=col>totalPop</th><th scope=col>year.y</th></tr>\n",
       "\t<tr><th scope=col>&lt;fct&gt;</th><th scope=col>&lt;dbl&gt;</th><th scope=col>&lt;int&gt;</th><th scope=col>&lt;dbl&gt;</th><th scope=col>&lt;dbl&gt;</th><th scope=col>&lt;dbl&gt;</th></tr>\n",
       "</thead>\n",
       "<tbody>\n",
       "\t<tr><td>Africa  </td><td>53.32523</td><td>52</td><td>2002</td><td> 833723916</td><td>2002</td></tr>\n",
       "\t<tr><td>Americas</td><td>72.42204</td><td>25</td><td>2002</td><td> 849772762</td><td>2002</td></tr>\n",
       "\t<tr><td>Asia    </td><td>69.23388</td><td>33</td><td>2002</td><td>3601802203</td><td>2002</td></tr>\n",
       "\t<tr><td>Europe  </td><td>76.70060</td><td>30</td><td>2002</td><td> 578223869</td><td>2002</td></tr>\n",
       "\t<tr><td>Oceania </td><td>79.74000</td><td> 2</td><td>2002</td><td>  23454829</td><td>2002</td></tr>\n",
       "</tbody>\n",
       "</table>\n"
      ],
      "text/latex": [
       "A tibble: 5 × 6\n",
       "\\begin{tabular}{llllll}\n",
       " continent & lifeExpAvg & countriesCount & year.x & totalPop & year.y\\\\\n",
       " <fct> & <dbl> & <int> & <dbl> & <dbl> & <dbl>\\\\\n",
       "\\hline\n",
       "\t Africa   & 53.32523 & 52 & 2002 &  833723916 & 2002\\\\\n",
       "\t Americas & 72.42204 & 25 & 2002 &  849772762 & 2002\\\\\n",
       "\t Asia     & 69.23388 & 33 & 2002 & 3601802203 & 2002\\\\\n",
       "\t Europe   & 76.70060 & 30 & 2002 &  578223869 & 2002\\\\\n",
       "\t Oceania  & 79.74000 &  2 & 2002 &   23454829 & 2002\\\\\n",
       "\\end{tabular}\n"
      ],
      "text/markdown": [
       "\n",
       "A tibble: 5 × 6\n",
       "\n",
       "| continent &lt;fct&gt; | lifeExpAvg &lt;dbl&gt; | countriesCount &lt;int&gt; | year.x &lt;dbl&gt; | totalPop &lt;dbl&gt; | year.y &lt;dbl&gt; |\n",
       "|---|---|---|---|---|---|\n",
       "| Africa   | 53.32523 | 52 | 2002 |  833723916 | 2002 |\n",
       "| Americas | 72.42204 | 25 | 2002 |  849772762 | 2002 |\n",
       "| Asia     | 69.23388 | 33 | 2002 | 3601802203 | 2002 |\n",
       "| Europe   | 76.70060 | 30 | 2002 |  578223869 | 2002 |\n",
       "| Oceania  | 79.74000 |  2 | 2002 |   23454829 | 2002 |\n",
       "\n"
      ],
      "text/plain": [
       "  continent lifeExpAvg countriesCount year.x totalPop   year.y\n",
       "1 Africa    53.32523   52             2002    833723916 2002  \n",
       "2 Americas  72.42204   25             2002    849772762 2002  \n",
       "3 Asia      69.23388   33             2002   3601802203 2002  \n",
       "4 Europe    76.70060   30             2002    578223869 2002  \n",
       "5 Oceania   79.74000    2             2002     23454829 2002  "
      ]
     },
     "metadata": {},
     "output_type": "display_data"
    }
   ],
   "source": [
    "grouped_data2002pop <- grouped_data2002pop %>% arrange(totalPop)\n",
    "\n",
    "grouped_data <- grouped_data2002 %>% \n",
    "                    left_join(grouped_data2002pop, by = \"continent\")\n",
    "grouped_data\n",
    "\n",
    "# but we have duplicated year"
   ]
  },
  {
   "cell_type": "code",
   "execution_count": 239,
   "id": "6f5459a8",
   "metadata": {},
   "outputs": [
    {
     "data": {
      "text/html": [
       "<table class=\"dataframe\">\n",
       "<caption>A tibble: 5 × 5</caption>\n",
       "<thead>\n",
       "\t<tr><th scope=col>continent</th><th scope=col>lifeExpAvg</th><th scope=col>countriesCount</th><th scope=col>year</th><th scope=col>totalPop</th></tr>\n",
       "\t<tr><th scope=col>&lt;fct&gt;</th><th scope=col>&lt;dbl&gt;</th><th scope=col>&lt;int&gt;</th><th scope=col>&lt;dbl&gt;</th><th scope=col>&lt;dbl&gt;</th></tr>\n",
       "</thead>\n",
       "<tbody>\n",
       "\t<tr><td>Africa  </td><td>53.32523</td><td>52</td><td>2002</td><td> 833723916</td></tr>\n",
       "\t<tr><td>Americas</td><td>72.42204</td><td>25</td><td>2002</td><td> 849772762</td></tr>\n",
       "\t<tr><td>Asia    </td><td>69.23388</td><td>33</td><td>2002</td><td>3601802203</td></tr>\n",
       "\t<tr><td>Europe  </td><td>76.70060</td><td>30</td><td>2002</td><td> 578223869</td></tr>\n",
       "\t<tr><td>Oceania </td><td>79.74000</td><td> 2</td><td>2002</td><td>  23454829</td></tr>\n",
       "</tbody>\n",
       "</table>\n"
      ],
      "text/latex": [
       "A tibble: 5 × 5\n",
       "\\begin{tabular}{lllll}\n",
       " continent & lifeExpAvg & countriesCount & year & totalPop\\\\\n",
       " <fct> & <dbl> & <int> & <dbl> & <dbl>\\\\\n",
       "\\hline\n",
       "\t Africa   & 53.32523 & 52 & 2002 &  833723916\\\\\n",
       "\t Americas & 72.42204 & 25 & 2002 &  849772762\\\\\n",
       "\t Asia     & 69.23388 & 33 & 2002 & 3601802203\\\\\n",
       "\t Europe   & 76.70060 & 30 & 2002 &  578223869\\\\\n",
       "\t Oceania  & 79.74000 &  2 & 2002 &   23454829\\\\\n",
       "\\end{tabular}\n"
      ],
      "text/markdown": [
       "\n",
       "A tibble: 5 × 5\n",
       "\n",
       "| continent &lt;fct&gt; | lifeExpAvg &lt;dbl&gt; | countriesCount &lt;int&gt; | year &lt;dbl&gt; | totalPop &lt;dbl&gt; |\n",
       "|---|---|---|---|---|\n",
       "| Africa   | 53.32523 | 52 | 2002 |  833723916 |\n",
       "| Americas | 72.42204 | 25 | 2002 |  849772762 |\n",
       "| Asia     | 69.23388 | 33 | 2002 | 3601802203 |\n",
       "| Europe   | 76.70060 | 30 | 2002 |  578223869 |\n",
       "| Oceania  | 79.74000 |  2 | 2002 |   23454829 |\n",
       "\n"
      ],
      "text/plain": [
       "  continent lifeExpAvg countriesCount year totalPop  \n",
       "1 Africa    53.32523   52             2002  833723916\n",
       "2 Americas  72.42204   25             2002  849772762\n",
       "3 Asia      69.23388   33             2002 3601802203\n",
       "4 Europe    76.70060   30             2002  578223869\n",
       "5 Oceania   79.74000    2             2002   23454829"
      ]
     },
     "metadata": {},
     "output_type": "display_data"
    }
   ],
   "source": [
    "grouped_data2002pop <- grouped_data2002pop %>% arrange(totalPop)\n",
    "\n",
    "grouped_data <- grouped_data2002 %>% \n",
    "                    left_join(grouped_data2002pop, by = c(\"continent\", \"year\"))\n",
    "grouped_data\n",
    "\n",
    "#ok"
   ]
  },
  {
   "cell_type": "markdown",
   "id": "d0924884",
   "metadata": {},
   "source": [
    "Let's make a different data sets for testing `join()` fucntions:"
   ]
  },
  {
   "cell_type": "code",
   "execution_count": 241,
   "id": "3662f6b3",
   "metadata": {},
   "outputs": [
    {
     "data": {
      "text/html": [
       "<table class=\"dataframe\">\n",
       "<caption>A data.frame: 5 × 2</caption>\n",
       "<thead>\n",
       "\t<tr><th scope=col>Letter</th><th scope=col>Value</th></tr>\n",
       "\t<tr><th scope=col>&lt;chr&gt;</th><th scope=col>&lt;int&gt;</th></tr>\n",
       "</thead>\n",
       "<tbody>\n",
       "\t<tr><td>A</td><td>1</td></tr>\n",
       "\t<tr><td>B</td><td>2</td></tr>\n",
       "\t<tr><td>C</td><td>3</td></tr>\n",
       "\t<tr><td>D</td><td>4</td></tr>\n",
       "\t<tr><td>E</td><td>5</td></tr>\n",
       "</tbody>\n",
       "</table>\n"
      ],
      "text/latex": [
       "A data.frame: 5 × 2\n",
       "\\begin{tabular}{ll}\n",
       " Letter & Value\\\\\n",
       " <chr> & <int>\\\\\n",
       "\\hline\n",
       "\t A & 1\\\\\n",
       "\t B & 2\\\\\n",
       "\t C & 3\\\\\n",
       "\t D & 4\\\\\n",
       "\t E & 5\\\\\n",
       "\\end{tabular}\n"
      ],
      "text/markdown": [
       "\n",
       "A data.frame: 5 × 2\n",
       "\n",
       "| Letter &lt;chr&gt; | Value &lt;int&gt; |\n",
       "|---|---|\n",
       "| A | 1 |\n",
       "| B | 2 |\n",
       "| C | 3 |\n",
       "| D | 4 |\n",
       "| E | 5 |\n",
       "\n"
      ],
      "text/plain": [
       "  Letter Value\n",
       "1 A      1    \n",
       "2 B      2    \n",
       "3 C      3    \n",
       "4 D      4    \n",
       "5 E      5    "
      ]
     },
     "metadata": {},
     "output_type": "display_data"
    },
    {
     "data": {
      "text/html": [
       "<table class=\"dataframe\">\n",
       "<caption>A data.frame: 5 × 2</caption>\n",
       "<thead>\n",
       "\t<tr><th scope=col>Letter</th><th scope=col>Value</th></tr>\n",
       "\t<tr><th scope=col>&lt;chr&gt;</th><th scope=col>&lt;dbl&gt;</th></tr>\n",
       "</thead>\n",
       "<tbody>\n",
       "\t<tr><td>A</td><td>12</td></tr>\n",
       "\t<tr><td>B</td><td> 7</td></tr>\n",
       "\t<tr><td>C</td><td> 4</td></tr>\n",
       "\t<tr><td>D</td><td> 1</td></tr>\n",
       "\t<tr><td>F</td><td> 5</td></tr>\n",
       "</tbody>\n",
       "</table>\n"
      ],
      "text/latex": [
       "A data.frame: 5 × 2\n",
       "\\begin{tabular}{ll}\n",
       " Letter & Value\\\\\n",
       " <chr> & <dbl>\\\\\n",
       "\\hline\n",
       "\t A & 12\\\\\n",
       "\t B &  7\\\\\n",
       "\t C &  4\\\\\n",
       "\t D &  1\\\\\n",
       "\t F &  5\\\\\n",
       "\\end{tabular}\n"
      ],
      "text/markdown": [
       "\n",
       "A data.frame: 5 × 2\n",
       "\n",
       "| Letter &lt;chr&gt; | Value &lt;dbl&gt; |\n",
       "|---|---|\n",
       "| A | 12 |\n",
       "| B |  7 |\n",
       "| C |  4 |\n",
       "| D |  1 |\n",
       "| F |  5 |\n",
       "\n"
      ],
      "text/plain": [
       "  Letter Value\n",
       "1 A      12   \n",
       "2 B       7   \n",
       "3 C       4   \n",
       "4 D       1   \n",
       "5 F       5   "
      ]
     },
     "metadata": {},
     "output_type": "display_data"
    }
   ],
   "source": [
    "first_df <- data.frame(Letter = c(\"A\", \"B\", \"C\", \"D\", \"E\"),\n",
    "                      Value = c(1:5))\n",
    "\n",
    "second_df <- data.frame(Letter = c(\"A\", \"B\", \"C\", \"D\", \"F\"),\n",
    "                      Value = c(12, 7, 4, 1, 5))\n",
    "first_df\n",
    "second_df "
   ]
  },
  {
   "cell_type": "markdown",
   "id": "530b11de",
   "metadata": {},
   "source": [
    "You can see that the last row `Letter` is different in dataframes. `left_join()` test is next."
   ]
  },
  {
   "cell_type": "code",
   "execution_count": 246,
   "id": "947387e7",
   "metadata": {},
   "outputs": [
    {
     "data": {
      "text/html": [
       "<table class=\"dataframe\">\n",
       "<caption>A data.frame: 5 × 3</caption>\n",
       "<thead>\n",
       "\t<tr><th scope=col>Letter</th><th scope=col>Value.x</th><th scope=col>Value.y</th></tr>\n",
       "\t<tr><th scope=col>&lt;chr&gt;</th><th scope=col>&lt;int&gt;</th><th scope=col>&lt;dbl&gt;</th></tr>\n",
       "</thead>\n",
       "<tbody>\n",
       "\t<tr><td>A</td><td>1</td><td>12</td></tr>\n",
       "\t<tr><td>B</td><td>2</td><td> 7</td></tr>\n",
       "\t<tr><td>C</td><td>3</td><td> 4</td></tr>\n",
       "\t<tr><td>D</td><td>4</td><td> 1</td></tr>\n",
       "\t<tr><td>E</td><td>5</td><td>NA</td></tr>\n",
       "</tbody>\n",
       "</table>\n"
      ],
      "text/latex": [
       "A data.frame: 5 × 3\n",
       "\\begin{tabular}{lll}\n",
       " Letter & Value.x & Value.y\\\\\n",
       " <chr> & <int> & <dbl>\\\\\n",
       "\\hline\n",
       "\t A & 1 & 12\\\\\n",
       "\t B & 2 &  7\\\\\n",
       "\t C & 3 &  4\\\\\n",
       "\t D & 4 &  1\\\\\n",
       "\t E & 5 & NA\\\\\n",
       "\\end{tabular}\n"
      ],
      "text/markdown": [
       "\n",
       "A data.frame: 5 × 3\n",
       "\n",
       "| Letter &lt;chr&gt; | Value.x &lt;int&gt; | Value.y &lt;dbl&gt; |\n",
       "|---|---|---|\n",
       "| A | 1 | 12 |\n",
       "| B | 2 |  7 |\n",
       "| C | 3 |  4 |\n",
       "| D | 4 |  1 |\n",
       "| E | 5 | NA |\n",
       "\n"
      ],
      "text/plain": [
       "  Letter Value.x Value.y\n",
       "1 A      1       12     \n",
       "2 B      2        7     \n",
       "3 C      3        4     \n",
       "4 D      4        1     \n",
       "5 E      5       NA     "
      ]
     },
     "metadata": {},
     "output_type": "display_data"
    }
   ],
   "source": [
    "first_df %>% left_join(second_df, by = \"Letter\")\n",
    "\n",
    "# there is no F letter, becouse first_db joined only known first_df Letters."
   ]
  },
  {
   "cell_type": "code",
   "execution_count": 248,
   "id": "9438ae7b",
   "metadata": {},
   "outputs": [
    {
     "data": {
      "text/html": [
       "<table class=\"dataframe\">\n",
       "<caption>A data.frame: 5 × 3</caption>\n",
       "<thead>\n",
       "\t<tr><th scope=col>Letter</th><th scope=col>Value.x</th><th scope=col>Value.y</th></tr>\n",
       "\t<tr><th scope=col>&lt;chr&gt;</th><th scope=col>&lt;int&gt;</th><th scope=col>&lt;dbl&gt;</th></tr>\n",
       "</thead>\n",
       "<tbody>\n",
       "\t<tr><td>A</td><td> 1</td><td>12</td></tr>\n",
       "\t<tr><td>B</td><td> 2</td><td> 7</td></tr>\n",
       "\t<tr><td>C</td><td> 3</td><td> 4</td></tr>\n",
       "\t<tr><td>D</td><td> 4</td><td> 1</td></tr>\n",
       "\t<tr><td>F</td><td>NA</td><td> 5</td></tr>\n",
       "</tbody>\n",
       "</table>\n"
      ],
      "text/latex": [
       "A data.frame: 5 × 3\n",
       "\\begin{tabular}{lll}\n",
       " Letter & Value.x & Value.y\\\\\n",
       " <chr> & <int> & <dbl>\\\\\n",
       "\\hline\n",
       "\t A &  1 & 12\\\\\n",
       "\t B &  2 &  7\\\\\n",
       "\t C &  3 &  4\\\\\n",
       "\t D &  4 &  1\\\\\n",
       "\t F & NA &  5\\\\\n",
       "\\end{tabular}\n"
      ],
      "text/markdown": [
       "\n",
       "A data.frame: 5 × 3\n",
       "\n",
       "| Letter &lt;chr&gt; | Value.x &lt;int&gt; | Value.y &lt;dbl&gt; |\n",
       "|---|---|---|\n",
       "| A |  1 | 12 |\n",
       "| B |  2 |  7 |\n",
       "| C |  3 |  4 |\n",
       "| D |  4 |  1 |\n",
       "| F | NA |  5 |\n",
       "\n"
      ],
      "text/plain": [
       "  Letter Value.x Value.y\n",
       "1 A       1      12     \n",
       "2 B       2       7     \n",
       "3 C       3       4     \n",
       "4 D       4       1     \n",
       "5 F      NA       5     "
      ]
     },
     "metadata": {},
     "output_type": "display_data"
    }
   ],
   "source": [
    "first_df %>% right_join(second_df, by = \"Letter\")\n",
    "\n",
    "# right_join! there is no E letter, becouse first_db joined only known second_df Letters."
   ]
  },
  {
   "cell_type": "code",
   "execution_count": 251,
   "id": "2f373079",
   "metadata": {},
   "outputs": [
    {
     "data": {
      "text/html": [
       "<table class=\"dataframe\">\n",
       "<caption>A data.frame: 4 × 3</caption>\n",
       "<thead>\n",
       "\t<tr><th scope=col>Letter</th><th scope=col>Value.x</th><th scope=col>Value.y</th></tr>\n",
       "\t<tr><th scope=col>&lt;chr&gt;</th><th scope=col>&lt;int&gt;</th><th scope=col>&lt;dbl&gt;</th></tr>\n",
       "</thead>\n",
       "<tbody>\n",
       "\t<tr><td>A</td><td>1</td><td>12</td></tr>\n",
       "\t<tr><td>B</td><td>2</td><td> 7</td></tr>\n",
       "\t<tr><td>C</td><td>3</td><td> 4</td></tr>\n",
       "\t<tr><td>D</td><td>4</td><td> 1</td></tr>\n",
       "</tbody>\n",
       "</table>\n"
      ],
      "text/latex": [
       "A data.frame: 4 × 3\n",
       "\\begin{tabular}{lll}\n",
       " Letter & Value.x & Value.y\\\\\n",
       " <chr> & <int> & <dbl>\\\\\n",
       "\\hline\n",
       "\t A & 1 & 12\\\\\n",
       "\t B & 2 &  7\\\\\n",
       "\t C & 3 &  4\\\\\n",
       "\t D & 4 &  1\\\\\n",
       "\\end{tabular}\n"
      ],
      "text/markdown": [
       "\n",
       "A data.frame: 4 × 3\n",
       "\n",
       "| Letter &lt;chr&gt; | Value.x &lt;int&gt; | Value.y &lt;dbl&gt; |\n",
       "|---|---|---|\n",
       "| A | 1 | 12 |\n",
       "| B | 2 |  7 |\n",
       "| C | 3 |  4 |\n",
       "| D | 4 |  1 |\n",
       "\n"
      ],
      "text/plain": [
       "  Letter Value.x Value.y\n",
       "1 A      1       12     \n",
       "2 B      2        7     \n",
       "3 C      3        4     \n",
       "4 D      4        1     "
      ]
     },
     "metadata": {},
     "output_type": "display_data"
    }
   ],
   "source": [
    "first_df %>% inner_join(second_df, by = \"Letter\")\n",
    "\n",
    "# inner_join! there is no E and F Letters, \n",
    "# only known both first_df and second_df are left here."
   ]
  },
  {
   "cell_type": "code",
   "execution_count": 254,
   "id": "b9cac9cc",
   "metadata": {},
   "outputs": [
    {
     "data": {
      "text/html": [
       "<table class=\"dataframe\">\n",
       "<caption>A data.frame: 6 × 3</caption>\n",
       "<thead>\n",
       "\t<tr><th scope=col>Letter</th><th scope=col>Value.x</th><th scope=col>Value.y</th></tr>\n",
       "\t<tr><th scope=col>&lt;chr&gt;</th><th scope=col>&lt;int&gt;</th><th scope=col>&lt;dbl&gt;</th></tr>\n",
       "</thead>\n",
       "<tbody>\n",
       "\t<tr><td>A</td><td> 1</td><td>12</td></tr>\n",
       "\t<tr><td>B</td><td> 2</td><td> 7</td></tr>\n",
       "\t<tr><td>C</td><td> 3</td><td> 4</td></tr>\n",
       "\t<tr><td>D</td><td> 4</td><td> 1</td></tr>\n",
       "\t<tr><td>E</td><td> 5</td><td>NA</td></tr>\n",
       "\t<tr><td>F</td><td>NA</td><td> 5</td></tr>\n",
       "</tbody>\n",
       "</table>\n"
      ],
      "text/latex": [
       "A data.frame: 6 × 3\n",
       "\\begin{tabular}{lll}\n",
       " Letter & Value.x & Value.y\\\\\n",
       " <chr> & <int> & <dbl>\\\\\n",
       "\\hline\n",
       "\t A &  1 & 12\\\\\n",
       "\t B &  2 &  7\\\\\n",
       "\t C &  3 &  4\\\\\n",
       "\t D &  4 &  1\\\\\n",
       "\t E &  5 & NA\\\\\n",
       "\t F & NA &  5\\\\\n",
       "\\end{tabular}\n"
      ],
      "text/markdown": [
       "\n",
       "A data.frame: 6 × 3\n",
       "\n",
       "| Letter &lt;chr&gt; | Value.x &lt;int&gt; | Value.y &lt;dbl&gt; |\n",
       "|---|---|---|\n",
       "| A |  1 | 12 |\n",
       "| B |  2 |  7 |\n",
       "| C |  3 |  4 |\n",
       "| D |  4 |  1 |\n",
       "| E |  5 | NA |\n",
       "| F | NA |  5 |\n",
       "\n"
      ],
      "text/plain": [
       "  Letter Value.x Value.y\n",
       "1 A       1      12     \n",
       "2 B       2       7     \n",
       "3 C       3       4     \n",
       "4 D       4       1     \n",
       "5 E       5      NA     \n",
       "6 F      NA       5     "
      ]
     },
     "metadata": {},
     "output_type": "display_data"
    }
   ],
   "source": [
    "first_df %>% full_join(second_df, by = \"Letter\")\n",
    "\n",
    "# all are here, but unknown values replaced by NA, it's ok."
   ]
  },
  {
   "cell_type": "markdown",
   "id": "eb45e88c",
   "metadata": {},
   "source": [
    "## Data cleaning with `gather()`"
   ]
  },
  {
   "cell_type": "markdown",
   "id": "177cae89",
   "metadata": {},
   "source": [
    "Some times your data is not in tidy format. Peole can collect data year by year in each column. It's problem to use such data for feature engeniering and building prediction models. Let's generate such data sample (quaterly salary of some people)."
   ]
  },
  {
   "cell_type": "code",
   "execution_count": 257,
   "id": "35e02c42",
   "metadata": {},
   "outputs": [
    {
     "data": {
      "text/html": [
       "<table class=\"dataframe\">\n",
       "<caption>A data.frame: 5 × 5</caption>\n",
       "<thead>\n",
       "\t<tr><th scope=col>Name</th><th scope=col>q1_2021</th><th scope=col>q2_2021</th><th scope=col>q3_2021</th><th scope=col>q4_2021</th></tr>\n",
       "\t<tr><th scope=col>&lt;chr&gt;</th><th scope=col>&lt;dbl&gt;</th><th scope=col>&lt;dbl&gt;</th><th scope=col>&lt;dbl&gt;</th><th scope=col>&lt;dbl&gt;</th></tr>\n",
       "</thead>\n",
       "<tbody>\n",
       "\t<tr><td>Nick</td><td>12442</td><td>13442</td><td>15482</td><td>14511</td></tr>\n",
       "\t<tr><td>Jake</td><td>22131</td><td>22871</td><td>22031</td><td>20031</td></tr>\n",
       "\t<tr><td>Anna</td><td>21343</td><td>20343</td><td>22456</td><td>21741</td></tr>\n",
       "\t<tr><td>Jane</td><td>22111</td><td>22222</td><td>22444</td><td>22333</td></tr>\n",
       "\t<tr><td>Dina</td><td>14123</td><td>14456</td><td>14533</td><td>14511</td></tr>\n",
       "</tbody>\n",
       "</table>\n"
      ],
      "text/latex": [
       "A data.frame: 5 × 5\n",
       "\\begin{tabular}{lllll}\n",
       " Name & q1\\_2021 & q2\\_2021 & q3\\_2021 & q4\\_2021\\\\\n",
       " <chr> & <dbl> & <dbl> & <dbl> & <dbl>\\\\\n",
       "\\hline\n",
       "\t Nick & 12442 & 13442 & 15482 & 14511\\\\\n",
       "\t Jake & 22131 & 22871 & 22031 & 20031\\\\\n",
       "\t Anna & 21343 & 20343 & 22456 & 21741\\\\\n",
       "\t Jane & 22111 & 22222 & 22444 & 22333\\\\\n",
       "\t Dina & 14123 & 14456 & 14533 & 14511\\\\\n",
       "\\end{tabular}\n"
      ],
      "text/markdown": [
       "\n",
       "A data.frame: 5 × 5\n",
       "\n",
       "| Name &lt;chr&gt; | q1_2021 &lt;dbl&gt; | q2_2021 &lt;dbl&gt; | q3_2021 &lt;dbl&gt; | q4_2021 &lt;dbl&gt; |\n",
       "|---|---|---|---|---|\n",
       "| Nick | 12442 | 13442 | 15482 | 14511 |\n",
       "| Jake | 22131 | 22871 | 22031 | 20031 |\n",
       "| Anna | 21343 | 20343 | 22456 | 21741 |\n",
       "| Jane | 22111 | 22222 | 22444 | 22333 |\n",
       "| Dina | 14123 | 14456 | 14533 | 14511 |\n",
       "\n"
      ],
      "text/plain": [
       "  Name q1_2021 q2_2021 q3_2021 q4_2021\n",
       "1 Nick 12442   13442   15482   14511  \n",
       "2 Jake 22131   22871   22031   20031  \n",
       "3 Anna 21343   20343   22456   21741  \n",
       "4 Jane 22111   22222   22444   22333  \n",
       "5 Dina 14123   14456   14533   14511  "
      ]
     },
     "metadata": {},
     "output_type": "display_data"
    }
   ],
   "source": [
    "not_good_data <- data.frame(Name = c(\"Nick\", \"Jake\", \"Anna\", \"Jane\", \"Dina\"),\n",
    "                           q1_2021 = c(12442, 22131, 21343, 22111, 14123),\n",
    "                           q2_2021 = c(13442, 22871, 20343, 22222, 14456),\n",
    "                           q3_2021 = c(15482, 22031, 22456, 22444, 14533),\n",
    "                           q4_2021 = c(14511, 20031, 21741, 22333, 14511))\n",
    "not_good_data"
   ]
  },
  {
   "cell_type": "code",
   "execution_count": 269,
   "id": "cab2fa5d",
   "metadata": {},
   "outputs": [
    {
     "data": {
      "text/html": [
       "<table class=\"dataframe\">\n",
       "<caption>A data.frame: 20 × 3</caption>\n",
       "<thead>\n",
       "\t<tr><th scope=col>Name</th><th scope=col>quater</th><th scope=col>salary</th></tr>\n",
       "\t<tr><th scope=col>&lt;chr&gt;</th><th scope=col>&lt;chr&gt;</th><th scope=col>&lt;dbl&gt;</th></tr>\n",
       "</thead>\n",
       "<tbody>\n",
       "\t<tr><td>Nick</td><td>q1_2021</td><td>12442</td></tr>\n",
       "\t<tr><td>Jake</td><td>q1_2021</td><td>22131</td></tr>\n",
       "\t<tr><td>Anna</td><td>q1_2021</td><td>21343</td></tr>\n",
       "\t<tr><td>Jane</td><td>q1_2021</td><td>22111</td></tr>\n",
       "\t<tr><td>Dina</td><td>q1_2021</td><td>14123</td></tr>\n",
       "\t<tr><td>Nick</td><td>q2_2021</td><td>13442</td></tr>\n",
       "\t<tr><td>Jake</td><td>q2_2021</td><td>22871</td></tr>\n",
       "\t<tr><td>Anna</td><td>q2_2021</td><td>20343</td></tr>\n",
       "\t<tr><td>Jane</td><td>q2_2021</td><td>22222</td></tr>\n",
       "\t<tr><td>Dina</td><td>q2_2021</td><td>14456</td></tr>\n",
       "\t<tr><td>Nick</td><td>q3_2021</td><td>15482</td></tr>\n",
       "\t<tr><td>Jake</td><td>q3_2021</td><td>22031</td></tr>\n",
       "\t<tr><td>Anna</td><td>q3_2021</td><td>22456</td></tr>\n",
       "\t<tr><td>Jane</td><td>q3_2021</td><td>22444</td></tr>\n",
       "\t<tr><td>Dina</td><td>q3_2021</td><td>14533</td></tr>\n",
       "\t<tr><td>Nick</td><td>q4_2021</td><td>14511</td></tr>\n",
       "\t<tr><td>Jake</td><td>q4_2021</td><td>20031</td></tr>\n",
       "\t<tr><td>Anna</td><td>q4_2021</td><td>21741</td></tr>\n",
       "\t<tr><td>Jane</td><td>q4_2021</td><td>22333</td></tr>\n",
       "\t<tr><td>Dina</td><td>q4_2021</td><td>14511</td></tr>\n",
       "</tbody>\n",
       "</table>\n"
      ],
      "text/latex": [
       "A data.frame: 20 × 3\n",
       "\\begin{tabular}{lll}\n",
       " Name & quater & salary\\\\\n",
       " <chr> & <chr> & <dbl>\\\\\n",
       "\\hline\n",
       "\t Nick & q1\\_2021 & 12442\\\\\n",
       "\t Jake & q1\\_2021 & 22131\\\\\n",
       "\t Anna & q1\\_2021 & 21343\\\\\n",
       "\t Jane & q1\\_2021 & 22111\\\\\n",
       "\t Dina & q1\\_2021 & 14123\\\\\n",
       "\t Nick & q2\\_2021 & 13442\\\\\n",
       "\t Jake & q2\\_2021 & 22871\\\\\n",
       "\t Anna & q2\\_2021 & 20343\\\\\n",
       "\t Jane & q2\\_2021 & 22222\\\\\n",
       "\t Dina & q2\\_2021 & 14456\\\\\n",
       "\t Nick & q3\\_2021 & 15482\\\\\n",
       "\t Jake & q3\\_2021 & 22031\\\\\n",
       "\t Anna & q3\\_2021 & 22456\\\\\n",
       "\t Jane & q3\\_2021 & 22444\\\\\n",
       "\t Dina & q3\\_2021 & 14533\\\\\n",
       "\t Nick & q4\\_2021 & 14511\\\\\n",
       "\t Jake & q4\\_2021 & 20031\\\\\n",
       "\t Anna & q4\\_2021 & 21741\\\\\n",
       "\t Jane & q4\\_2021 & 22333\\\\\n",
       "\t Dina & q4\\_2021 & 14511\\\\\n",
       "\\end{tabular}\n"
      ],
      "text/markdown": [
       "\n",
       "A data.frame: 20 × 3\n",
       "\n",
       "| Name &lt;chr&gt; | quater &lt;chr&gt; | salary &lt;dbl&gt; |\n",
       "|---|---|---|\n",
       "| Nick | q1_2021 | 12442 |\n",
       "| Jake | q1_2021 | 22131 |\n",
       "| Anna | q1_2021 | 21343 |\n",
       "| Jane | q1_2021 | 22111 |\n",
       "| Dina | q1_2021 | 14123 |\n",
       "| Nick | q2_2021 | 13442 |\n",
       "| Jake | q2_2021 | 22871 |\n",
       "| Anna | q2_2021 | 20343 |\n",
       "| Jane | q2_2021 | 22222 |\n",
       "| Dina | q2_2021 | 14456 |\n",
       "| Nick | q3_2021 | 15482 |\n",
       "| Jake | q3_2021 | 22031 |\n",
       "| Anna | q3_2021 | 22456 |\n",
       "| Jane | q3_2021 | 22444 |\n",
       "| Dina | q3_2021 | 14533 |\n",
       "| Nick | q4_2021 | 14511 |\n",
       "| Jake | q4_2021 | 20031 |\n",
       "| Anna | q4_2021 | 21741 |\n",
       "| Jane | q4_2021 | 22333 |\n",
       "| Dina | q4_2021 | 14511 |\n",
       "\n"
      ],
      "text/plain": [
       "   Name quater  salary\n",
       "1  Nick q1_2021 12442 \n",
       "2  Jake q1_2021 22131 \n",
       "3  Anna q1_2021 21343 \n",
       "4  Jane q1_2021 22111 \n",
       "5  Dina q1_2021 14123 \n",
       "6  Nick q2_2021 13442 \n",
       "7  Jake q2_2021 22871 \n",
       "8  Anna q2_2021 20343 \n",
       "9  Jane q2_2021 22222 \n",
       "10 Dina q2_2021 14456 \n",
       "11 Nick q3_2021 15482 \n",
       "12 Jake q3_2021 22031 \n",
       "13 Anna q3_2021 22456 \n",
       "14 Jane q3_2021 22444 \n",
       "15 Dina q3_2021 14533 \n",
       "16 Nick q4_2021 14511 \n",
       "17 Jake q4_2021 20031 \n",
       "18 Anna q4_2021 21741 \n",
       "19 Jane q4_2021 22333 \n",
       "20 Dina q4_2021 14511 "
      ]
     },
     "metadata": {},
     "output_type": "display_data"
    }
   ],
   "source": [
    "better_data <- not_good_data %>%\n",
    "                gather(quater, salary, 2:5)\n",
    "                # gather(quater, salary, q1_2021:q4_2021) possible code too\n",
    "better_data"
   ]
  },
  {
   "cell_type": "markdown",
   "id": "ef4e3fc8",
   "metadata": {},
   "source": [
    "To make our data tidier `separate()` can split quater column into 2 (`quater` and `year`):"
   ]
  },
  {
   "cell_type": "code",
   "execution_count": 292,
   "id": "84e6bcdf",
   "metadata": {},
   "outputs": [
    {
     "data": {
      "text/html": [
       "<table class=\"dataframe\">\n",
       "<caption>A data.frame: 10 × 4</caption>\n",
       "<thead>\n",
       "\t<tr><th></th><th scope=col>Name</th><th scope=col>quater</th><th scope=col>year</th><th scope=col>salary</th></tr>\n",
       "\t<tr><th></th><th scope=col>&lt;chr&gt;</th><th scope=col>&lt;int&gt;</th><th scope=col>&lt;int&gt;</th><th scope=col>&lt;dbl&gt;</th></tr>\n",
       "</thead>\n",
       "<tbody>\n",
       "\t<tr><th scope=row>1</th><td>Nick</td><td>1</td><td>2021</td><td>12442</td></tr>\n",
       "\t<tr><th scope=row>2</th><td>Jake</td><td>1</td><td>2021</td><td>22131</td></tr>\n",
       "\t<tr><th scope=row>3</th><td>Anna</td><td>1</td><td>2021</td><td>21343</td></tr>\n",
       "\t<tr><th scope=row>4</th><td>Jane</td><td>1</td><td>2021</td><td>22111</td></tr>\n",
       "\t<tr><th scope=row>5</th><td>Dina</td><td>1</td><td>2021</td><td>14123</td></tr>\n",
       "\t<tr><th scope=row>6</th><td>Nick</td><td>2</td><td>2021</td><td>13442</td></tr>\n",
       "\t<tr><th scope=row>7</th><td>Jake</td><td>2</td><td>2021</td><td>22871</td></tr>\n",
       "\t<tr><th scope=row>8</th><td>Anna</td><td>2</td><td>2021</td><td>20343</td></tr>\n",
       "\t<tr><th scope=row>9</th><td>Jane</td><td>2</td><td>2021</td><td>22222</td></tr>\n",
       "\t<tr><th scope=row>10</th><td>Dina</td><td>2</td><td>2021</td><td>14456</td></tr>\n",
       "</tbody>\n",
       "</table>\n"
      ],
      "text/latex": [
       "A data.frame: 10 × 4\n",
       "\\begin{tabular}{r|llll}\n",
       "  & Name & quater & year & salary\\\\\n",
       "  & <chr> & <int> & <int> & <dbl>\\\\\n",
       "\\hline\n",
       "\t1 & Nick & 1 & 2021 & 12442\\\\\n",
       "\t2 & Jake & 1 & 2021 & 22131\\\\\n",
       "\t3 & Anna & 1 & 2021 & 21343\\\\\n",
       "\t4 & Jane & 1 & 2021 & 22111\\\\\n",
       "\t5 & Dina & 1 & 2021 & 14123\\\\\n",
       "\t6 & Nick & 2 & 2021 & 13442\\\\\n",
       "\t7 & Jake & 2 & 2021 & 22871\\\\\n",
       "\t8 & Anna & 2 & 2021 & 20343\\\\\n",
       "\t9 & Jane & 2 & 2021 & 22222\\\\\n",
       "\t10 & Dina & 2 & 2021 & 14456\\\\\n",
       "\\end{tabular}\n"
      ],
      "text/markdown": [
       "\n",
       "A data.frame: 10 × 4\n",
       "\n",
       "| <!--/--> | Name &lt;chr&gt; | quater &lt;int&gt; | year &lt;int&gt; | salary &lt;dbl&gt; |\n",
       "|---|---|---|---|---|\n",
       "| 1 | Nick | 1 | 2021 | 12442 |\n",
       "| 2 | Jake | 1 | 2021 | 22131 |\n",
       "| 3 | Anna | 1 | 2021 | 21343 |\n",
       "| 4 | Jane | 1 | 2021 | 22111 |\n",
       "| 5 | Dina | 1 | 2021 | 14123 |\n",
       "| 6 | Nick | 2 | 2021 | 13442 |\n",
       "| 7 | Jake | 2 | 2021 | 22871 |\n",
       "| 8 | Anna | 2 | 2021 | 20343 |\n",
       "| 9 | Jane | 2 | 2021 | 22222 |\n",
       "| 10 | Dina | 2 | 2021 | 14456 |\n",
       "\n"
      ],
      "text/plain": [
       "   Name quater year salary\n",
       "1  Nick 1      2021 12442 \n",
       "2  Jake 1      2021 22131 \n",
       "3  Anna 1      2021 21343 \n",
       "4  Jane 1      2021 22111 \n",
       "5  Dina 1      2021 14123 \n",
       "6  Nick 2      2021 13442 \n",
       "7  Jake 2      2021 22871 \n",
       "8  Anna 2      2021 20343 \n",
       "9  Jane 2      2021 22222 \n",
       "10 Dina 2      2021 14456 "
      ]
     },
     "metadata": {},
     "output_type": "display_data"
    }
   ],
   "source": [
    "better_data %>%\n",
    "    separate(quater, c(\"quater\", \"year\"), sep = \"_\") %>% # separate\n",
    "    mutate(year = as.integer(year), # convert year to integer\n",
    "           quater = substr(better_data$quater, 2,2), # trim `q` from start\n",
    "           quater = as.integer(quater), # convert quater to integer\n",
    "          ) %>%\n",
    "    head(10)"
   ]
  },
  {
   "cell_type": "markdown",
   "id": "07729888",
   "metadata": {},
   "source": [
    "If you need to make table like initial use `spread()` function:"
   ]
  },
  {
   "cell_type": "code",
   "execution_count": 262,
   "id": "975ad3b7",
   "metadata": {},
   "outputs": [
    {
     "data": {
      "text/html": [
       "<table class=\"dataframe\">\n",
       "<caption>A data.frame: 5 × 5</caption>\n",
       "<thead>\n",
       "\t<tr><th scope=col>Name</th><th scope=col>q1_2021</th><th scope=col>q2_2021</th><th scope=col>q3_2021</th><th scope=col>q4_2021</th></tr>\n",
       "\t<tr><th scope=col>&lt;chr&gt;</th><th scope=col>&lt;dbl&gt;</th><th scope=col>&lt;dbl&gt;</th><th scope=col>&lt;dbl&gt;</th><th scope=col>&lt;dbl&gt;</th></tr>\n",
       "</thead>\n",
       "<tbody>\n",
       "\t<tr><td>Anna</td><td>21343</td><td>20343</td><td>22456</td><td>21741</td></tr>\n",
       "\t<tr><td>Dina</td><td>14123</td><td>14456</td><td>14533</td><td>14511</td></tr>\n",
       "\t<tr><td>Jake</td><td>22131</td><td>22871</td><td>22031</td><td>20031</td></tr>\n",
       "\t<tr><td>Jane</td><td>22111</td><td>22222</td><td>22444</td><td>22333</td></tr>\n",
       "\t<tr><td>Nick</td><td>12442</td><td>13442</td><td>15482</td><td>14511</td></tr>\n",
       "</tbody>\n",
       "</table>\n"
      ],
      "text/latex": [
       "A data.frame: 5 × 5\n",
       "\\begin{tabular}{lllll}\n",
       " Name & q1\\_2021 & q2\\_2021 & q3\\_2021 & q4\\_2021\\\\\n",
       " <chr> & <dbl> & <dbl> & <dbl> & <dbl>\\\\\n",
       "\\hline\n",
       "\t Anna & 21343 & 20343 & 22456 & 21741\\\\\n",
       "\t Dina & 14123 & 14456 & 14533 & 14511\\\\\n",
       "\t Jake & 22131 & 22871 & 22031 & 20031\\\\\n",
       "\t Jane & 22111 & 22222 & 22444 & 22333\\\\\n",
       "\t Nick & 12442 & 13442 & 15482 & 14511\\\\\n",
       "\\end{tabular}\n"
      ],
      "text/markdown": [
       "\n",
       "A data.frame: 5 × 5\n",
       "\n",
       "| Name &lt;chr&gt; | q1_2021 &lt;dbl&gt; | q2_2021 &lt;dbl&gt; | q3_2021 &lt;dbl&gt; | q4_2021 &lt;dbl&gt; |\n",
       "|---|---|---|---|---|\n",
       "| Anna | 21343 | 20343 | 22456 | 21741 |\n",
       "| Dina | 14123 | 14456 | 14533 | 14511 |\n",
       "| Jake | 22131 | 22871 | 22031 | 20031 |\n",
       "| Jane | 22111 | 22222 | 22444 | 22333 |\n",
       "| Nick | 12442 | 13442 | 15482 | 14511 |\n",
       "\n"
      ],
      "text/plain": [
       "  Name q1_2021 q2_2021 q3_2021 q4_2021\n",
       "1 Anna 21343   20343   22456   21741  \n",
       "2 Dina 14123   14456   14533   14511  \n",
       "3 Jake 22131   22871   22031   20031  \n",
       "4 Jane 22111   22222   22444   22333  \n",
       "5 Nick 12442   13442   15482   14511  "
      ]
     },
     "metadata": {},
     "output_type": "display_data"
    }
   ],
   "source": [
    "not_good_data2 <- better_data %>%\n",
    "                    spread(quater, salary)\n",
    "not_good_data2"
   ]
  },
  {
   "cell_type": "markdown",
   "id": "521eba89",
   "metadata": {},
   "source": [
    "Let's try to `spread()` feild `pop` of `gapminder` by year:"
   ]
  },
  {
   "cell_type": "code",
   "execution_count": 268,
   "id": "4503d907",
   "metadata": {},
   "outputs": [
    {
     "data": {
      "text/html": [
       "<table class=\"dataframe\">\n",
       "<caption>A tibble: 142 × 13</caption>\n",
       "<thead>\n",
       "\t<tr><th scope=col>country</th><th scope=col>1952</th><th scope=col>1957</th><th scope=col>1962</th><th scope=col>1967</th><th scope=col>1972</th><th scope=col>1977</th><th scope=col>1982</th><th scope=col>1987</th><th scope=col>1992</th><th scope=col>1997</th><th scope=col>2002</th><th scope=col>2007</th></tr>\n",
       "\t<tr><th scope=col>&lt;fct&gt;</th><th scope=col>&lt;int&gt;</th><th scope=col>&lt;int&gt;</th><th scope=col>&lt;int&gt;</th><th scope=col>&lt;int&gt;</th><th scope=col>&lt;int&gt;</th><th scope=col>&lt;int&gt;</th><th scope=col>&lt;int&gt;</th><th scope=col>&lt;int&gt;</th><th scope=col>&lt;int&gt;</th><th scope=col>&lt;int&gt;</th><th scope=col>&lt;int&gt;</th><th scope=col>&lt;int&gt;</th></tr>\n",
       "</thead>\n",
       "<tbody>\n",
       "\t<tr><td>Afghanistan             </td><td>  8425333</td><td>  9240934</td><td> 10267083</td><td> 11537966</td><td> 13079460</td><td> 14880372</td><td>  12881816</td><td>  13867957</td><td>  16317921</td><td>  22227415</td><td>  25268405</td><td>  31889923</td></tr>\n",
       "\t<tr><td>Albania                 </td><td>  1282697</td><td>  1476505</td><td>  1728137</td><td>  1984060</td><td>  2263554</td><td>  2509048</td><td>   2780097</td><td>   3075321</td><td>   3326498</td><td>   3428038</td><td>   3508512</td><td>   3600523</td></tr>\n",
       "\t<tr><td>Algeria                 </td><td>  9279525</td><td> 10270856</td><td> 11000948</td><td> 12760499</td><td> 14760787</td><td> 17152804</td><td>  20033753</td><td>  23254956</td><td>  26298373</td><td>  29072015</td><td>  31287142</td><td>  33333216</td></tr>\n",
       "\t<tr><td>Angola                  </td><td>  4232095</td><td>  4561361</td><td>  4826015</td><td>  5247469</td><td>  5894858</td><td>  6162675</td><td>   7016384</td><td>   7874230</td><td>   8735988</td><td>   9875024</td><td>  10866106</td><td>  12420476</td></tr>\n",
       "\t<tr><td>Argentina               </td><td> 17876956</td><td> 19610538</td><td> 21283783</td><td> 22934225</td><td> 24779799</td><td> 26983828</td><td>  29341374</td><td>  31620918</td><td>  33958947</td><td>  36203463</td><td>  38331121</td><td>  40301927</td></tr>\n",
       "\t<tr><td>Australia               </td><td>  8691212</td><td>  9712569</td><td> 10794968</td><td> 11872264</td><td> 13177000</td><td> 14074100</td><td>  15184200</td><td>  16257249</td><td>  17481977</td><td>  18565243</td><td>  19546792</td><td>  20434176</td></tr>\n",
       "\t<tr><td>Austria                 </td><td>  6927772</td><td>  6965860</td><td>  7129864</td><td>  7376998</td><td>  7544201</td><td>  7568430</td><td>   7574613</td><td>   7578903</td><td>   7914969</td><td>   8069876</td><td>   8148312</td><td>   8199783</td></tr>\n",
       "\t<tr><td>Bahrain                 </td><td>   120447</td><td>   138655</td><td>   171863</td><td>   202182</td><td>   230800</td><td>   297410</td><td>    377967</td><td>    454612</td><td>    529491</td><td>    598561</td><td>    656397</td><td>    708573</td></tr>\n",
       "\t<tr><td>Bangladesh              </td><td> 46886859</td><td> 51365468</td><td> 56839289</td><td> 62821884</td><td> 70759295</td><td> 80428306</td><td>  93074406</td><td> 103764241</td><td> 113704579</td><td> 123315288</td><td> 135656790</td><td> 150448339</td></tr>\n",
       "\t<tr><td>Belgium                 </td><td>  8730405</td><td>  8989111</td><td>  9218400</td><td>  9556500</td><td>  9709100</td><td>  9821800</td><td>   9856303</td><td>   9870200</td><td>  10045622</td><td>  10199787</td><td>  10311970</td><td>  10392226</td></tr>\n",
       "\t<tr><td>Benin                   </td><td>  1738315</td><td>  1925173</td><td>  2151895</td><td>  2427334</td><td>  2761407</td><td>  3168267</td><td>   3641603</td><td>   4243788</td><td>   4981671</td><td>   6066080</td><td>   7026113</td><td>   8078314</td></tr>\n",
       "\t<tr><td>Bolivia                 </td><td>  2883315</td><td>  3211738</td><td>  3593918</td><td>  4040665</td><td>  4565872</td><td>  5079716</td><td>   5642224</td><td>   6156369</td><td>   6893451</td><td>   7693188</td><td>   8445134</td><td>   9119152</td></tr>\n",
       "\t<tr><td>Bosnia and Herzegovina  </td><td>  2791000</td><td>  3076000</td><td>  3349000</td><td>  3585000</td><td>  3819000</td><td>  4086000</td><td>   4172693</td><td>   4338977</td><td>   4256013</td><td>   3607000</td><td>   4165416</td><td>   4552198</td></tr>\n",
       "\t<tr><td>Botswana                </td><td>   442308</td><td>   474639</td><td>   512764</td><td>   553541</td><td>   619351</td><td>   781472</td><td>    970347</td><td>   1151184</td><td>   1342614</td><td>   1536536</td><td>   1630347</td><td>   1639131</td></tr>\n",
       "\t<tr><td>Brazil                  </td><td> 56602560</td><td> 65551171</td><td> 76039390</td><td> 88049823</td><td>100840058</td><td>114313951</td><td> 128962939</td><td> 142938076</td><td> 155975974</td><td> 168546719</td><td> 179914212</td><td> 190010647</td></tr>\n",
       "\t<tr><td>Bulgaria                </td><td>  7274900</td><td>  7651254</td><td>  8012946</td><td>  8310226</td><td>  8576200</td><td>  8797022</td><td>   8892098</td><td>   8971958</td><td>   8658506</td><td>   8066057</td><td>   7661799</td><td>   7322858</td></tr>\n",
       "\t<tr><td>Burkina Faso            </td><td>  4469979</td><td>  4713416</td><td>  4919632</td><td>  5127935</td><td>  5433886</td><td>  5889574</td><td>   6634596</td><td>   7586551</td><td>   8878303</td><td>  10352843</td><td>  12251209</td><td>  14326203</td></tr>\n",
       "\t<tr><td>Burundi                 </td><td>  2445618</td><td>  2667518</td><td>  2961915</td><td>  3330989</td><td>  3529983</td><td>  3834415</td><td>   4580410</td><td>   5126023</td><td>   5809236</td><td>   6121610</td><td>   7021078</td><td>   8390505</td></tr>\n",
       "\t<tr><td>Cambodia                </td><td>  4693836</td><td>  5322536</td><td>  6083619</td><td>  6960067</td><td>  7450606</td><td>  6978607</td><td>   7272485</td><td>   8371791</td><td>  10150094</td><td>  11782962</td><td>  12926707</td><td>  14131858</td></tr>\n",
       "\t<tr><td>Cameroon                </td><td>  5009067</td><td>  5359923</td><td>  5793633</td><td>  6335506</td><td>  7021028</td><td>  7959865</td><td>   9250831</td><td>  10780667</td><td>  12467171</td><td>  14195809</td><td>  15929988</td><td>  17696293</td></tr>\n",
       "\t<tr><td>Canada                  </td><td> 14785584</td><td> 17010154</td><td> 18985849</td><td> 20819767</td><td> 22284500</td><td> 23796400</td><td>  25201900</td><td>  26549700</td><td>  28523502</td><td>  30305843</td><td>  31902268</td><td>  33390141</td></tr>\n",
       "\t<tr><td>Central African Republic</td><td>  1291695</td><td>  1392284</td><td>  1523478</td><td>  1733638</td><td>  1927260</td><td>  2167533</td><td>   2476971</td><td>   2840009</td><td>   3265124</td><td>   3696513</td><td>   4048013</td><td>   4369038</td></tr>\n",
       "\t<tr><td>Chad                    </td><td>  2682462</td><td>  2894855</td><td>  3150417</td><td>  3495967</td><td>  3899068</td><td>  4388260</td><td>   4875118</td><td>   5498955</td><td>   6429417</td><td>   7562011</td><td>   8835739</td><td>  10238807</td></tr>\n",
       "\t<tr><td>Chile                   </td><td>  6377619</td><td>  7048426</td><td>  7961258</td><td>  8858908</td><td>  9717524</td><td> 10599793</td><td>  11487112</td><td>  12463354</td><td>  13572994</td><td>  14599929</td><td>  15497046</td><td>  16284741</td></tr>\n",
       "\t<tr><td>China                   </td><td>556263527</td><td>637408000</td><td>665770000</td><td>754550000</td><td>862030000</td><td>943455000</td><td>1000281000</td><td>1084035000</td><td>1164970000</td><td>1230075000</td><td>1280400000</td><td>1318683096</td></tr>\n",
       "\t<tr><td>Colombia                </td><td> 12350771</td><td> 14485993</td><td> 17009885</td><td> 19764027</td><td> 22542890</td><td> 25094412</td><td>  27764644</td><td>  30964245</td><td>  34202721</td><td>  37657830</td><td>  41008227</td><td>  44227550</td></tr>\n",
       "\t<tr><td>Comoros                 </td><td>   153936</td><td>   170928</td><td>   191689</td><td>   217378</td><td>   250027</td><td>   304739</td><td>    348643</td><td>    395114</td><td>    454429</td><td>    527982</td><td>    614382</td><td>    710960</td></tr>\n",
       "\t<tr><td>Congo, Dem. Rep.        </td><td> 14100005</td><td> 15577932</td><td> 17486434</td><td> 19941073</td><td> 23007669</td><td> 26480870</td><td>  30646495</td><td>  35481645</td><td>  41672143</td><td>  47798986</td><td>  55379852</td><td>  64606759</td></tr>\n",
       "\t<tr><td>Congo, Rep.             </td><td>   854885</td><td>   940458</td><td>  1047924</td><td>  1179760</td><td>  1340458</td><td>  1536769</td><td>   1774735</td><td>   2064095</td><td>   2409073</td><td>   2800947</td><td>   3328795</td><td>   3800610</td></tr>\n",
       "\t<tr><td>Costa Rica              </td><td>   926317</td><td>  1112300</td><td>  1345187</td><td>  1588717</td><td>  1834796</td><td>  2108457</td><td>   2424367</td><td>   2799811</td><td>   3173216</td><td>   3518107</td><td>   3834934</td><td>   4133884</td></tr>\n",
       "\t<tr><td>...</td><td>...</td><td>...</td><td>...</td><td>...</td><td>...</td><td>...</td><td>...</td><td>...</td><td>...</td><td>...</td><td>...</td><td>...</td></tr>\n",
       "\t<tr><td>Sierra Leone       </td><td>  2143249</td><td>  2295678</td><td>  2467895</td><td>  2662190</td><td>  2879013</td><td>  3140897</td><td>  3464522</td><td>  3868905</td><td>  4260884</td><td>  4578212</td><td>  5359092</td><td>  6144562</td></tr>\n",
       "\t<tr><td>Singapore          </td><td>  1127000</td><td>  1445929</td><td>  1750200</td><td>  1977600</td><td>  2152400</td><td>  2325300</td><td>  2651869</td><td>  2794552</td><td>  3235865</td><td>  3802309</td><td>  4197776</td><td>  4553009</td></tr>\n",
       "\t<tr><td>Slovak Republic    </td><td>  3558137</td><td>  3844277</td><td>  4237384</td><td>  4442238</td><td>  4593433</td><td>  4827803</td><td>  5048043</td><td>  5199318</td><td>  5302888</td><td>  5383010</td><td>  5410052</td><td>  5447502</td></tr>\n",
       "\t<tr><td>Slovenia           </td><td>  1489518</td><td>  1533070</td><td>  1582962</td><td>  1646912</td><td>  1694510</td><td>  1746919</td><td>  1861252</td><td>  1945870</td><td>  1999210</td><td>  2011612</td><td>  2011497</td><td>  2009245</td></tr>\n",
       "\t<tr><td>Somalia            </td><td>  2526994</td><td>  2780415</td><td>  3080153</td><td>  3428839</td><td>  3840161</td><td>  4353666</td><td>  5828892</td><td>  6921858</td><td>  6099799</td><td>  6633514</td><td>  7753310</td><td>  9118773</td></tr>\n",
       "\t<tr><td>South Africa       </td><td> 14264935</td><td> 16151549</td><td> 18356657</td><td> 20997321</td><td> 23935810</td><td> 27129932</td><td> 31140029</td><td> 35933379</td><td> 39964159</td><td> 42835005</td><td> 44433622</td><td> 43997828</td></tr>\n",
       "\t<tr><td>Spain              </td><td> 28549870</td><td> 29841614</td><td> 31158061</td><td> 32850275</td><td> 34513161</td><td> 36439000</td><td> 37983310</td><td> 38880702</td><td> 39549438</td><td> 39855442</td><td> 40152517</td><td> 40448191</td></tr>\n",
       "\t<tr><td>Sri Lanka          </td><td>  7982342</td><td>  9128546</td><td> 10421936</td><td> 11737396</td><td> 13016733</td><td> 14116836</td><td> 15410151</td><td> 16495304</td><td> 17587060</td><td> 18698655</td><td> 19576783</td><td> 20378239</td></tr>\n",
       "\t<tr><td>Sudan              </td><td>  8504667</td><td>  9753392</td><td> 11183227</td><td> 12716129</td><td> 14597019</td><td> 17104986</td><td> 20367053</td><td> 24725960</td><td> 28227588</td><td> 32160729</td><td> 37090298</td><td> 42292929</td></tr>\n",
       "\t<tr><td>Swaziland          </td><td>   290243</td><td>   326741</td><td>   370006</td><td>   420690</td><td>   480105</td><td>   551425</td><td>   649901</td><td>   779348</td><td>   962344</td><td>  1054486</td><td>  1130269</td><td>  1133066</td></tr>\n",
       "\t<tr><td>Sweden             </td><td>  7124673</td><td>  7363802</td><td>  7561588</td><td>  7867931</td><td>  8122293</td><td>  8251648</td><td>  8325260</td><td>  8421403</td><td>  8718867</td><td>  8897619</td><td>  8954175</td><td>  9031088</td></tr>\n",
       "\t<tr><td>Switzerland        </td><td>  4815000</td><td>  5126000</td><td>  5666000</td><td>  6063000</td><td>  6401400</td><td>  6316424</td><td>  6468126</td><td>  6649942</td><td>  6995447</td><td>  7193761</td><td>  7361757</td><td>  7554661</td></tr>\n",
       "\t<tr><td>Syria              </td><td>  3661549</td><td>  4149908</td><td>  4834621</td><td>  5680812</td><td>  6701172</td><td>  7932503</td><td>  9410494</td><td> 11242847</td><td> 13219062</td><td> 15081016</td><td> 17155814</td><td> 19314747</td></tr>\n",
       "\t<tr><td>Taiwan             </td><td>  8550362</td><td> 10164215</td><td> 11918938</td><td> 13648692</td><td> 15226039</td><td> 16785196</td><td> 18501390</td><td> 19757799</td><td> 20686918</td><td> 21628605</td><td> 22454239</td><td> 23174294</td></tr>\n",
       "\t<tr><td>Tanzania           </td><td>  8322925</td><td>  9452826</td><td> 10863958</td><td> 12607312</td><td> 14706593</td><td> 17129565</td><td> 19844382</td><td> 23040630</td><td> 26605473</td><td> 30686889</td><td> 34593779</td><td> 38139640</td></tr>\n",
       "\t<tr><td>Thailand           </td><td> 21289402</td><td> 25041917</td><td> 29263397</td><td> 34024249</td><td> 39276153</td><td> 44148285</td><td> 48827160</td><td> 52910342</td><td> 56667095</td><td> 60216677</td><td> 62806748</td><td> 65068149</td></tr>\n",
       "\t<tr><td>Togo               </td><td>  1219113</td><td>  1357445</td><td>  1528098</td><td>  1735550</td><td>  2056351</td><td>  2308582</td><td>  2644765</td><td>  3154264</td><td>  3747553</td><td>  4320890</td><td>  4977378</td><td>  5701579</td></tr>\n",
       "\t<tr><td>Trinidad and Tobago</td><td>   662850</td><td>   764900</td><td>   887498</td><td>   960155</td><td>   975199</td><td>  1039009</td><td>  1116479</td><td>  1191336</td><td>  1183669</td><td>  1138101</td><td>  1101832</td><td>  1056608</td></tr>\n",
       "\t<tr><td>Tunisia            </td><td>  3647735</td><td>  3950849</td><td>  4286552</td><td>  4786986</td><td>  5303507</td><td>  6005061</td><td>  6734098</td><td>  7724976</td><td>  8523077</td><td>  9231669</td><td>  9770575</td><td> 10276158</td></tr>\n",
       "\t<tr><td>Turkey             </td><td> 22235677</td><td> 25670939</td><td> 29788695</td><td> 33411317</td><td> 37492953</td><td> 42404033</td><td> 47328791</td><td> 52881328</td><td> 58179144</td><td> 63047647</td><td> 67308928</td><td> 71158647</td></tr>\n",
       "\t<tr><td>Uganda             </td><td>  5824797</td><td>  6675501</td><td>  7688797</td><td>  8900294</td><td> 10190285</td><td> 11457758</td><td> 12939400</td><td> 15283050</td><td> 18252190</td><td> 21210254</td><td> 24739869</td><td> 29170398</td></tr>\n",
       "\t<tr><td>United Kingdom     </td><td> 50430000</td><td> 51430000</td><td> 53292000</td><td> 54959000</td><td> 56079000</td><td> 56179000</td><td> 56339704</td><td> 56981620</td><td> 57866349</td><td> 58808266</td><td> 59912431</td><td> 60776238</td></tr>\n",
       "\t<tr><td>United States      </td><td>157553000</td><td>171984000</td><td>186538000</td><td>198712000</td><td>209896000</td><td>220239000</td><td>232187835</td><td>242803533</td><td>256894189</td><td>272911760</td><td>287675526</td><td>301139947</td></tr>\n",
       "\t<tr><td>Uruguay            </td><td>  2252965</td><td>  2424959</td><td>  2598466</td><td>  2748579</td><td>  2829526</td><td>  2873520</td><td>  2953997</td><td>  3045153</td><td>  3149262</td><td>  3262838</td><td>  3363085</td><td>  3447496</td></tr>\n",
       "\t<tr><td>Venezuela          </td><td>  5439568</td><td>  6702668</td><td>  8143375</td><td>  9709552</td><td> 11515649</td><td> 13503563</td><td> 15620766</td><td> 17910182</td><td> 20265563</td><td> 22374398</td><td> 24287670</td><td> 26084662</td></tr>\n",
       "\t<tr><td>Vietnam            </td><td> 26246839</td><td> 28998543</td><td> 33796140</td><td> 39463910</td><td> 44655014</td><td> 50533506</td><td> 56142181</td><td> 62826491</td><td> 69940728</td><td> 76048996</td><td> 80908147</td><td> 85262356</td></tr>\n",
       "\t<tr><td>West Bank and Gaza </td><td>  1030585</td><td>  1070439</td><td>  1133134</td><td>  1142636</td><td>  1089572</td><td>  1261091</td><td>  1425876</td><td>  1691210</td><td>  2104779</td><td>  2826046</td><td>  3389578</td><td>  4018332</td></tr>\n",
       "\t<tr><td>Yemen, Rep.        </td><td>  4963829</td><td>  5498090</td><td>  6120081</td><td>  6740785</td><td>  7407075</td><td>  8403990</td><td>  9657618</td><td> 11219340</td><td> 13367997</td><td> 15826497</td><td> 18701257</td><td> 22211743</td></tr>\n",
       "\t<tr><td>Zambia             </td><td>  2672000</td><td>  3016000</td><td>  3421000</td><td>  3900000</td><td>  4506497</td><td>  5216550</td><td>  6100407</td><td>  7272406</td><td>  8381163</td><td>  9417789</td><td> 10595811</td><td> 11746035</td></tr>\n",
       "\t<tr><td>Zimbabwe           </td><td>  3080907</td><td>  3646340</td><td>  4277736</td><td>  4995432</td><td>  5861135</td><td>  6642107</td><td>  7636524</td><td>  9216418</td><td> 10704340</td><td> 11404948</td><td> 11926563</td><td> 12311143</td></tr>\n",
       "</tbody>\n",
       "</table>\n"
      ],
      "text/latex": [
       "A tibble: 142 × 13\n",
       "\\begin{tabular}{lllllllllllll}\n",
       " country & 1952 & 1957 & 1962 & 1967 & 1972 & 1977 & 1982 & 1987 & 1992 & 1997 & 2002 & 2007\\\\\n",
       " <fct> & <int> & <int> & <int> & <int> & <int> & <int> & <int> & <int> & <int> & <int> & <int> & <int>\\\\\n",
       "\\hline\n",
       "\t Afghanistan              &   8425333 &   9240934 &  10267083 &  11537966 &  13079460 &  14880372 &   12881816 &   13867957 &   16317921 &   22227415 &   25268405 &   31889923\\\\\n",
       "\t Albania                  &   1282697 &   1476505 &   1728137 &   1984060 &   2263554 &   2509048 &    2780097 &    3075321 &    3326498 &    3428038 &    3508512 &    3600523\\\\\n",
       "\t Algeria                  &   9279525 &  10270856 &  11000948 &  12760499 &  14760787 &  17152804 &   20033753 &   23254956 &   26298373 &   29072015 &   31287142 &   33333216\\\\\n",
       "\t Angola                   &   4232095 &   4561361 &   4826015 &   5247469 &   5894858 &   6162675 &    7016384 &    7874230 &    8735988 &    9875024 &   10866106 &   12420476\\\\\n",
       "\t Argentina                &  17876956 &  19610538 &  21283783 &  22934225 &  24779799 &  26983828 &   29341374 &   31620918 &   33958947 &   36203463 &   38331121 &   40301927\\\\\n",
       "\t Australia                &   8691212 &   9712569 &  10794968 &  11872264 &  13177000 &  14074100 &   15184200 &   16257249 &   17481977 &   18565243 &   19546792 &   20434176\\\\\n",
       "\t Austria                  &   6927772 &   6965860 &   7129864 &   7376998 &   7544201 &   7568430 &    7574613 &    7578903 &    7914969 &    8069876 &    8148312 &    8199783\\\\\n",
       "\t Bahrain                  &    120447 &    138655 &    171863 &    202182 &    230800 &    297410 &     377967 &     454612 &     529491 &     598561 &     656397 &     708573\\\\\n",
       "\t Bangladesh               &  46886859 &  51365468 &  56839289 &  62821884 &  70759295 &  80428306 &   93074406 &  103764241 &  113704579 &  123315288 &  135656790 &  150448339\\\\\n",
       "\t Belgium                  &   8730405 &   8989111 &   9218400 &   9556500 &   9709100 &   9821800 &    9856303 &    9870200 &   10045622 &   10199787 &   10311970 &   10392226\\\\\n",
       "\t Benin                    &   1738315 &   1925173 &   2151895 &   2427334 &   2761407 &   3168267 &    3641603 &    4243788 &    4981671 &    6066080 &    7026113 &    8078314\\\\\n",
       "\t Bolivia                  &   2883315 &   3211738 &   3593918 &   4040665 &   4565872 &   5079716 &    5642224 &    6156369 &    6893451 &    7693188 &    8445134 &    9119152\\\\\n",
       "\t Bosnia and Herzegovina   &   2791000 &   3076000 &   3349000 &   3585000 &   3819000 &   4086000 &    4172693 &    4338977 &    4256013 &    3607000 &    4165416 &    4552198\\\\\n",
       "\t Botswana                 &    442308 &    474639 &    512764 &    553541 &    619351 &    781472 &     970347 &    1151184 &    1342614 &    1536536 &    1630347 &    1639131\\\\\n",
       "\t Brazil                   &  56602560 &  65551171 &  76039390 &  88049823 & 100840058 & 114313951 &  128962939 &  142938076 &  155975974 &  168546719 &  179914212 &  190010647\\\\\n",
       "\t Bulgaria                 &   7274900 &   7651254 &   8012946 &   8310226 &   8576200 &   8797022 &    8892098 &    8971958 &    8658506 &    8066057 &    7661799 &    7322858\\\\\n",
       "\t Burkina Faso             &   4469979 &   4713416 &   4919632 &   5127935 &   5433886 &   5889574 &    6634596 &    7586551 &    8878303 &   10352843 &   12251209 &   14326203\\\\\n",
       "\t Burundi                  &   2445618 &   2667518 &   2961915 &   3330989 &   3529983 &   3834415 &    4580410 &    5126023 &    5809236 &    6121610 &    7021078 &    8390505\\\\\n",
       "\t Cambodia                 &   4693836 &   5322536 &   6083619 &   6960067 &   7450606 &   6978607 &    7272485 &    8371791 &   10150094 &   11782962 &   12926707 &   14131858\\\\\n",
       "\t Cameroon                 &   5009067 &   5359923 &   5793633 &   6335506 &   7021028 &   7959865 &    9250831 &   10780667 &   12467171 &   14195809 &   15929988 &   17696293\\\\\n",
       "\t Canada                   &  14785584 &  17010154 &  18985849 &  20819767 &  22284500 &  23796400 &   25201900 &   26549700 &   28523502 &   30305843 &   31902268 &   33390141\\\\\n",
       "\t Central African Republic &   1291695 &   1392284 &   1523478 &   1733638 &   1927260 &   2167533 &    2476971 &    2840009 &    3265124 &    3696513 &    4048013 &    4369038\\\\\n",
       "\t Chad                     &   2682462 &   2894855 &   3150417 &   3495967 &   3899068 &   4388260 &    4875118 &    5498955 &    6429417 &    7562011 &    8835739 &   10238807\\\\\n",
       "\t Chile                    &   6377619 &   7048426 &   7961258 &   8858908 &   9717524 &  10599793 &   11487112 &   12463354 &   13572994 &   14599929 &   15497046 &   16284741\\\\\n",
       "\t China                    & 556263527 & 637408000 & 665770000 & 754550000 & 862030000 & 943455000 & 1000281000 & 1084035000 & 1164970000 & 1230075000 & 1280400000 & 1318683096\\\\\n",
       "\t Colombia                 &  12350771 &  14485993 &  17009885 &  19764027 &  22542890 &  25094412 &   27764644 &   30964245 &   34202721 &   37657830 &   41008227 &   44227550\\\\\n",
       "\t Comoros                  &    153936 &    170928 &    191689 &    217378 &    250027 &    304739 &     348643 &     395114 &     454429 &     527982 &     614382 &     710960\\\\\n",
       "\t Congo, Dem. Rep.         &  14100005 &  15577932 &  17486434 &  19941073 &  23007669 &  26480870 &   30646495 &   35481645 &   41672143 &   47798986 &   55379852 &   64606759\\\\\n",
       "\t Congo, Rep.              &    854885 &    940458 &   1047924 &   1179760 &   1340458 &   1536769 &    1774735 &    2064095 &    2409073 &    2800947 &    3328795 &    3800610\\\\\n",
       "\t Costa Rica               &    926317 &   1112300 &   1345187 &   1588717 &   1834796 &   2108457 &    2424367 &    2799811 &    3173216 &    3518107 &    3834934 &    4133884\\\\\n",
       "\t ... & ... & ... & ... & ... & ... & ... & ... & ... & ... & ... & ... & ...\\\\\n",
       "\t Sierra Leone        &   2143249 &   2295678 &   2467895 &   2662190 &   2879013 &   3140897 &   3464522 &   3868905 &   4260884 &   4578212 &   5359092 &   6144562\\\\\n",
       "\t Singapore           &   1127000 &   1445929 &   1750200 &   1977600 &   2152400 &   2325300 &   2651869 &   2794552 &   3235865 &   3802309 &   4197776 &   4553009\\\\\n",
       "\t Slovak Republic     &   3558137 &   3844277 &   4237384 &   4442238 &   4593433 &   4827803 &   5048043 &   5199318 &   5302888 &   5383010 &   5410052 &   5447502\\\\\n",
       "\t Slovenia            &   1489518 &   1533070 &   1582962 &   1646912 &   1694510 &   1746919 &   1861252 &   1945870 &   1999210 &   2011612 &   2011497 &   2009245\\\\\n",
       "\t Somalia             &   2526994 &   2780415 &   3080153 &   3428839 &   3840161 &   4353666 &   5828892 &   6921858 &   6099799 &   6633514 &   7753310 &   9118773\\\\\n",
       "\t South Africa        &  14264935 &  16151549 &  18356657 &  20997321 &  23935810 &  27129932 &  31140029 &  35933379 &  39964159 &  42835005 &  44433622 &  43997828\\\\\n",
       "\t Spain               &  28549870 &  29841614 &  31158061 &  32850275 &  34513161 &  36439000 &  37983310 &  38880702 &  39549438 &  39855442 &  40152517 &  40448191\\\\\n",
       "\t Sri Lanka           &   7982342 &   9128546 &  10421936 &  11737396 &  13016733 &  14116836 &  15410151 &  16495304 &  17587060 &  18698655 &  19576783 &  20378239\\\\\n",
       "\t Sudan               &   8504667 &   9753392 &  11183227 &  12716129 &  14597019 &  17104986 &  20367053 &  24725960 &  28227588 &  32160729 &  37090298 &  42292929\\\\\n",
       "\t Swaziland           &    290243 &    326741 &    370006 &    420690 &    480105 &    551425 &    649901 &    779348 &    962344 &   1054486 &   1130269 &   1133066\\\\\n",
       "\t Sweden              &   7124673 &   7363802 &   7561588 &   7867931 &   8122293 &   8251648 &   8325260 &   8421403 &   8718867 &   8897619 &   8954175 &   9031088\\\\\n",
       "\t Switzerland         &   4815000 &   5126000 &   5666000 &   6063000 &   6401400 &   6316424 &   6468126 &   6649942 &   6995447 &   7193761 &   7361757 &   7554661\\\\\n",
       "\t Syria               &   3661549 &   4149908 &   4834621 &   5680812 &   6701172 &   7932503 &   9410494 &  11242847 &  13219062 &  15081016 &  17155814 &  19314747\\\\\n",
       "\t Taiwan              &   8550362 &  10164215 &  11918938 &  13648692 &  15226039 &  16785196 &  18501390 &  19757799 &  20686918 &  21628605 &  22454239 &  23174294\\\\\n",
       "\t Tanzania            &   8322925 &   9452826 &  10863958 &  12607312 &  14706593 &  17129565 &  19844382 &  23040630 &  26605473 &  30686889 &  34593779 &  38139640\\\\\n",
       "\t Thailand            &  21289402 &  25041917 &  29263397 &  34024249 &  39276153 &  44148285 &  48827160 &  52910342 &  56667095 &  60216677 &  62806748 &  65068149\\\\\n",
       "\t Togo                &   1219113 &   1357445 &   1528098 &   1735550 &   2056351 &   2308582 &   2644765 &   3154264 &   3747553 &   4320890 &   4977378 &   5701579\\\\\n",
       "\t Trinidad and Tobago &    662850 &    764900 &    887498 &    960155 &    975199 &   1039009 &   1116479 &   1191336 &   1183669 &   1138101 &   1101832 &   1056608\\\\\n",
       "\t Tunisia             &   3647735 &   3950849 &   4286552 &   4786986 &   5303507 &   6005061 &   6734098 &   7724976 &   8523077 &   9231669 &   9770575 &  10276158\\\\\n",
       "\t Turkey              &  22235677 &  25670939 &  29788695 &  33411317 &  37492953 &  42404033 &  47328791 &  52881328 &  58179144 &  63047647 &  67308928 &  71158647\\\\\n",
       "\t Uganda              &   5824797 &   6675501 &   7688797 &   8900294 &  10190285 &  11457758 &  12939400 &  15283050 &  18252190 &  21210254 &  24739869 &  29170398\\\\\n",
       "\t United Kingdom      &  50430000 &  51430000 &  53292000 &  54959000 &  56079000 &  56179000 &  56339704 &  56981620 &  57866349 &  58808266 &  59912431 &  60776238\\\\\n",
       "\t United States       & 157553000 & 171984000 & 186538000 & 198712000 & 209896000 & 220239000 & 232187835 & 242803533 & 256894189 & 272911760 & 287675526 & 301139947\\\\\n",
       "\t Uruguay             &   2252965 &   2424959 &   2598466 &   2748579 &   2829526 &   2873520 &   2953997 &   3045153 &   3149262 &   3262838 &   3363085 &   3447496\\\\\n",
       "\t Venezuela           &   5439568 &   6702668 &   8143375 &   9709552 &  11515649 &  13503563 &  15620766 &  17910182 &  20265563 &  22374398 &  24287670 &  26084662\\\\\n",
       "\t Vietnam             &  26246839 &  28998543 &  33796140 &  39463910 &  44655014 &  50533506 &  56142181 &  62826491 &  69940728 &  76048996 &  80908147 &  85262356\\\\\n",
       "\t West Bank and Gaza  &   1030585 &   1070439 &   1133134 &   1142636 &   1089572 &   1261091 &   1425876 &   1691210 &   2104779 &   2826046 &   3389578 &   4018332\\\\\n",
       "\t Yemen, Rep.         &   4963829 &   5498090 &   6120081 &   6740785 &   7407075 &   8403990 &   9657618 &  11219340 &  13367997 &  15826497 &  18701257 &  22211743\\\\\n",
       "\t Zambia              &   2672000 &   3016000 &   3421000 &   3900000 &   4506497 &   5216550 &   6100407 &   7272406 &   8381163 &   9417789 &  10595811 &  11746035\\\\\n",
       "\t Zimbabwe            &   3080907 &   3646340 &   4277736 &   4995432 &   5861135 &   6642107 &   7636524 &   9216418 &  10704340 &  11404948 &  11926563 &  12311143\\\\\n",
       "\\end{tabular}\n"
      ],
      "text/markdown": [
       "\n",
       "A tibble: 142 × 13\n",
       "\n",
       "| country &lt;fct&gt; | 1952 &lt;int&gt; | 1957 &lt;int&gt; | 1962 &lt;int&gt; | 1967 &lt;int&gt; | 1972 &lt;int&gt; | 1977 &lt;int&gt; | 1982 &lt;int&gt; | 1987 &lt;int&gt; | 1992 &lt;int&gt; | 1997 &lt;int&gt; | 2002 &lt;int&gt; | 2007 &lt;int&gt; |\n",
       "|---|---|---|---|---|---|---|---|---|---|---|---|---|\n",
       "| Afghanistan              |   8425333 |   9240934 |  10267083 |  11537966 |  13079460 |  14880372 |   12881816 |   13867957 |   16317921 |   22227415 |   25268405 |   31889923 |\n",
       "| Albania                  |   1282697 |   1476505 |   1728137 |   1984060 |   2263554 |   2509048 |    2780097 |    3075321 |    3326498 |    3428038 |    3508512 |    3600523 |\n",
       "| Algeria                  |   9279525 |  10270856 |  11000948 |  12760499 |  14760787 |  17152804 |   20033753 |   23254956 |   26298373 |   29072015 |   31287142 |   33333216 |\n",
       "| Angola                   |   4232095 |   4561361 |   4826015 |   5247469 |   5894858 |   6162675 |    7016384 |    7874230 |    8735988 |    9875024 |   10866106 |   12420476 |\n",
       "| Argentina                |  17876956 |  19610538 |  21283783 |  22934225 |  24779799 |  26983828 |   29341374 |   31620918 |   33958947 |   36203463 |   38331121 |   40301927 |\n",
       "| Australia                |   8691212 |   9712569 |  10794968 |  11872264 |  13177000 |  14074100 |   15184200 |   16257249 |   17481977 |   18565243 |   19546792 |   20434176 |\n",
       "| Austria                  |   6927772 |   6965860 |   7129864 |   7376998 |   7544201 |   7568430 |    7574613 |    7578903 |    7914969 |    8069876 |    8148312 |    8199783 |\n",
       "| Bahrain                  |    120447 |    138655 |    171863 |    202182 |    230800 |    297410 |     377967 |     454612 |     529491 |     598561 |     656397 |     708573 |\n",
       "| Bangladesh               |  46886859 |  51365468 |  56839289 |  62821884 |  70759295 |  80428306 |   93074406 |  103764241 |  113704579 |  123315288 |  135656790 |  150448339 |\n",
       "| Belgium                  |   8730405 |   8989111 |   9218400 |   9556500 |   9709100 |   9821800 |    9856303 |    9870200 |   10045622 |   10199787 |   10311970 |   10392226 |\n",
       "| Benin                    |   1738315 |   1925173 |   2151895 |   2427334 |   2761407 |   3168267 |    3641603 |    4243788 |    4981671 |    6066080 |    7026113 |    8078314 |\n",
       "| Bolivia                  |   2883315 |   3211738 |   3593918 |   4040665 |   4565872 |   5079716 |    5642224 |    6156369 |    6893451 |    7693188 |    8445134 |    9119152 |\n",
       "| Bosnia and Herzegovina   |   2791000 |   3076000 |   3349000 |   3585000 |   3819000 |   4086000 |    4172693 |    4338977 |    4256013 |    3607000 |    4165416 |    4552198 |\n",
       "| Botswana                 |    442308 |    474639 |    512764 |    553541 |    619351 |    781472 |     970347 |    1151184 |    1342614 |    1536536 |    1630347 |    1639131 |\n",
       "| Brazil                   |  56602560 |  65551171 |  76039390 |  88049823 | 100840058 | 114313951 |  128962939 |  142938076 |  155975974 |  168546719 |  179914212 |  190010647 |\n",
       "| Bulgaria                 |   7274900 |   7651254 |   8012946 |   8310226 |   8576200 |   8797022 |    8892098 |    8971958 |    8658506 |    8066057 |    7661799 |    7322858 |\n",
       "| Burkina Faso             |   4469979 |   4713416 |   4919632 |   5127935 |   5433886 |   5889574 |    6634596 |    7586551 |    8878303 |   10352843 |   12251209 |   14326203 |\n",
       "| Burundi                  |   2445618 |   2667518 |   2961915 |   3330989 |   3529983 |   3834415 |    4580410 |    5126023 |    5809236 |    6121610 |    7021078 |    8390505 |\n",
       "| Cambodia                 |   4693836 |   5322536 |   6083619 |   6960067 |   7450606 |   6978607 |    7272485 |    8371791 |   10150094 |   11782962 |   12926707 |   14131858 |\n",
       "| Cameroon                 |   5009067 |   5359923 |   5793633 |   6335506 |   7021028 |   7959865 |    9250831 |   10780667 |   12467171 |   14195809 |   15929988 |   17696293 |\n",
       "| Canada                   |  14785584 |  17010154 |  18985849 |  20819767 |  22284500 |  23796400 |   25201900 |   26549700 |   28523502 |   30305843 |   31902268 |   33390141 |\n",
       "| Central African Republic |   1291695 |   1392284 |   1523478 |   1733638 |   1927260 |   2167533 |    2476971 |    2840009 |    3265124 |    3696513 |    4048013 |    4369038 |\n",
       "| Chad                     |   2682462 |   2894855 |   3150417 |   3495967 |   3899068 |   4388260 |    4875118 |    5498955 |    6429417 |    7562011 |    8835739 |   10238807 |\n",
       "| Chile                    |   6377619 |   7048426 |   7961258 |   8858908 |   9717524 |  10599793 |   11487112 |   12463354 |   13572994 |   14599929 |   15497046 |   16284741 |\n",
       "| China                    | 556263527 | 637408000 | 665770000 | 754550000 | 862030000 | 943455000 | 1000281000 | 1084035000 | 1164970000 | 1230075000 | 1280400000 | 1318683096 |\n",
       "| Colombia                 |  12350771 |  14485993 |  17009885 |  19764027 |  22542890 |  25094412 |   27764644 |   30964245 |   34202721 |   37657830 |   41008227 |   44227550 |\n",
       "| Comoros                  |    153936 |    170928 |    191689 |    217378 |    250027 |    304739 |     348643 |     395114 |     454429 |     527982 |     614382 |     710960 |\n",
       "| Congo, Dem. Rep.         |  14100005 |  15577932 |  17486434 |  19941073 |  23007669 |  26480870 |   30646495 |   35481645 |   41672143 |   47798986 |   55379852 |   64606759 |\n",
       "| Congo, Rep.              |    854885 |    940458 |   1047924 |   1179760 |   1340458 |   1536769 |    1774735 |    2064095 |    2409073 |    2800947 |    3328795 |    3800610 |\n",
       "| Costa Rica               |    926317 |   1112300 |   1345187 |   1588717 |   1834796 |   2108457 |    2424367 |    2799811 |    3173216 |    3518107 |    3834934 |    4133884 |\n",
       "| ... | ... | ... | ... | ... | ... | ... | ... | ... | ... | ... | ... | ... |\n",
       "| Sierra Leone        |   2143249 |   2295678 |   2467895 |   2662190 |   2879013 |   3140897 |   3464522 |   3868905 |   4260884 |   4578212 |   5359092 |   6144562 |\n",
       "| Singapore           |   1127000 |   1445929 |   1750200 |   1977600 |   2152400 |   2325300 |   2651869 |   2794552 |   3235865 |   3802309 |   4197776 |   4553009 |\n",
       "| Slovak Republic     |   3558137 |   3844277 |   4237384 |   4442238 |   4593433 |   4827803 |   5048043 |   5199318 |   5302888 |   5383010 |   5410052 |   5447502 |\n",
       "| Slovenia            |   1489518 |   1533070 |   1582962 |   1646912 |   1694510 |   1746919 |   1861252 |   1945870 |   1999210 |   2011612 |   2011497 |   2009245 |\n",
       "| Somalia             |   2526994 |   2780415 |   3080153 |   3428839 |   3840161 |   4353666 |   5828892 |   6921858 |   6099799 |   6633514 |   7753310 |   9118773 |\n",
       "| South Africa        |  14264935 |  16151549 |  18356657 |  20997321 |  23935810 |  27129932 |  31140029 |  35933379 |  39964159 |  42835005 |  44433622 |  43997828 |\n",
       "| Spain               |  28549870 |  29841614 |  31158061 |  32850275 |  34513161 |  36439000 |  37983310 |  38880702 |  39549438 |  39855442 |  40152517 |  40448191 |\n",
       "| Sri Lanka           |   7982342 |   9128546 |  10421936 |  11737396 |  13016733 |  14116836 |  15410151 |  16495304 |  17587060 |  18698655 |  19576783 |  20378239 |\n",
       "| Sudan               |   8504667 |   9753392 |  11183227 |  12716129 |  14597019 |  17104986 |  20367053 |  24725960 |  28227588 |  32160729 |  37090298 |  42292929 |\n",
       "| Swaziland           |    290243 |    326741 |    370006 |    420690 |    480105 |    551425 |    649901 |    779348 |    962344 |   1054486 |   1130269 |   1133066 |\n",
       "| Sweden              |   7124673 |   7363802 |   7561588 |   7867931 |   8122293 |   8251648 |   8325260 |   8421403 |   8718867 |   8897619 |   8954175 |   9031088 |\n",
       "| Switzerland         |   4815000 |   5126000 |   5666000 |   6063000 |   6401400 |   6316424 |   6468126 |   6649942 |   6995447 |   7193761 |   7361757 |   7554661 |\n",
       "| Syria               |   3661549 |   4149908 |   4834621 |   5680812 |   6701172 |   7932503 |   9410494 |  11242847 |  13219062 |  15081016 |  17155814 |  19314747 |\n",
       "| Taiwan              |   8550362 |  10164215 |  11918938 |  13648692 |  15226039 |  16785196 |  18501390 |  19757799 |  20686918 |  21628605 |  22454239 |  23174294 |\n",
       "| Tanzania            |   8322925 |   9452826 |  10863958 |  12607312 |  14706593 |  17129565 |  19844382 |  23040630 |  26605473 |  30686889 |  34593779 |  38139640 |\n",
       "| Thailand            |  21289402 |  25041917 |  29263397 |  34024249 |  39276153 |  44148285 |  48827160 |  52910342 |  56667095 |  60216677 |  62806748 |  65068149 |\n",
       "| Togo                |   1219113 |   1357445 |   1528098 |   1735550 |   2056351 |   2308582 |   2644765 |   3154264 |   3747553 |   4320890 |   4977378 |   5701579 |\n",
       "| Trinidad and Tobago |    662850 |    764900 |    887498 |    960155 |    975199 |   1039009 |   1116479 |   1191336 |   1183669 |   1138101 |   1101832 |   1056608 |\n",
       "| Tunisia             |   3647735 |   3950849 |   4286552 |   4786986 |   5303507 |   6005061 |   6734098 |   7724976 |   8523077 |   9231669 |   9770575 |  10276158 |\n",
       "| Turkey              |  22235677 |  25670939 |  29788695 |  33411317 |  37492953 |  42404033 |  47328791 |  52881328 |  58179144 |  63047647 |  67308928 |  71158647 |\n",
       "| Uganda              |   5824797 |   6675501 |   7688797 |   8900294 |  10190285 |  11457758 |  12939400 |  15283050 |  18252190 |  21210254 |  24739869 |  29170398 |\n",
       "| United Kingdom      |  50430000 |  51430000 |  53292000 |  54959000 |  56079000 |  56179000 |  56339704 |  56981620 |  57866349 |  58808266 |  59912431 |  60776238 |\n",
       "| United States       | 157553000 | 171984000 | 186538000 | 198712000 | 209896000 | 220239000 | 232187835 | 242803533 | 256894189 | 272911760 | 287675526 | 301139947 |\n",
       "| Uruguay             |   2252965 |   2424959 |   2598466 |   2748579 |   2829526 |   2873520 |   2953997 |   3045153 |   3149262 |   3262838 |   3363085 |   3447496 |\n",
       "| Venezuela           |   5439568 |   6702668 |   8143375 |   9709552 |  11515649 |  13503563 |  15620766 |  17910182 |  20265563 |  22374398 |  24287670 |  26084662 |\n",
       "| Vietnam             |  26246839 |  28998543 |  33796140 |  39463910 |  44655014 |  50533506 |  56142181 |  62826491 |  69940728 |  76048996 |  80908147 |  85262356 |\n",
       "| West Bank and Gaza  |   1030585 |   1070439 |   1133134 |   1142636 |   1089572 |   1261091 |   1425876 |   1691210 |   2104779 |   2826046 |   3389578 |   4018332 |\n",
       "| Yemen, Rep.         |   4963829 |   5498090 |   6120081 |   6740785 |   7407075 |   8403990 |   9657618 |  11219340 |  13367997 |  15826497 |  18701257 |  22211743 |\n",
       "| Zambia              |   2672000 |   3016000 |   3421000 |   3900000 |   4506497 |   5216550 |   6100407 |   7272406 |   8381163 |   9417789 |  10595811 |  11746035 |\n",
       "| Zimbabwe            |   3080907 |   3646340 |   4277736 |   4995432 |   5861135 |   6642107 |   7636524 |   9216418 |  10704340 |  11404948 |  11926563 |  12311143 |\n",
       "\n"
      ],
      "text/plain": [
       "    country                  1952      1957      1962      1967      1972     \n",
       "1   Afghanistan                8425333   9240934  10267083  11537966  13079460\n",
       "2   Albania                    1282697   1476505   1728137   1984060   2263554\n",
       "3   Algeria                    9279525  10270856  11000948  12760499  14760787\n",
       "4   Angola                     4232095   4561361   4826015   5247469   5894858\n",
       "5   Argentina                 17876956  19610538  21283783  22934225  24779799\n",
       "6   Australia                  8691212   9712569  10794968  11872264  13177000\n",
       "7   Austria                    6927772   6965860   7129864   7376998   7544201\n",
       "8   Bahrain                     120447    138655    171863    202182    230800\n",
       "9   Bangladesh                46886859  51365468  56839289  62821884  70759295\n",
       "10  Belgium                    8730405   8989111   9218400   9556500   9709100\n",
       "11  Benin                      1738315   1925173   2151895   2427334   2761407\n",
       "12  Bolivia                    2883315   3211738   3593918   4040665   4565872\n",
       "13  Bosnia and Herzegovina     2791000   3076000   3349000   3585000   3819000\n",
       "14  Botswana                    442308    474639    512764    553541    619351\n",
       "15  Brazil                    56602560  65551171  76039390  88049823 100840058\n",
       "16  Bulgaria                   7274900   7651254   8012946   8310226   8576200\n",
       "17  Burkina Faso               4469979   4713416   4919632   5127935   5433886\n",
       "18  Burundi                    2445618   2667518   2961915   3330989   3529983\n",
       "19  Cambodia                   4693836   5322536   6083619   6960067   7450606\n",
       "20  Cameroon                   5009067   5359923   5793633   6335506   7021028\n",
       "21  Canada                    14785584  17010154  18985849  20819767  22284500\n",
       "22  Central African Republic   1291695   1392284   1523478   1733638   1927260\n",
       "23  Chad                       2682462   2894855   3150417   3495967   3899068\n",
       "24  Chile                      6377619   7048426   7961258   8858908   9717524\n",
       "25  China                    556263527 637408000 665770000 754550000 862030000\n",
       "26  Colombia                  12350771  14485993  17009885  19764027  22542890\n",
       "27  Comoros                     153936    170928    191689    217378    250027\n",
       "28  Congo, Dem. Rep.          14100005  15577932  17486434  19941073  23007669\n",
       "29  Congo, Rep.                 854885    940458   1047924   1179760   1340458\n",
       "30  Costa Rica                  926317   1112300   1345187   1588717   1834796\n",
       "... ...                      ...       ...       ...       ...       ...      \n",
       "113 Sierra Leone               2143249   2295678   2467895   2662190   2879013\n",
       "114 Singapore                  1127000   1445929   1750200   1977600   2152400\n",
       "115 Slovak Republic            3558137   3844277   4237384   4442238   4593433\n",
       "116 Slovenia                   1489518   1533070   1582962   1646912   1694510\n",
       "117 Somalia                    2526994   2780415   3080153   3428839   3840161\n",
       "118 South Africa              14264935  16151549  18356657  20997321  23935810\n",
       "119 Spain                     28549870  29841614  31158061  32850275  34513161\n",
       "120 Sri Lanka                  7982342   9128546  10421936  11737396  13016733\n",
       "121 Sudan                      8504667   9753392  11183227  12716129  14597019\n",
       "122 Swaziland                   290243    326741    370006    420690    480105\n",
       "123 Sweden                     7124673   7363802   7561588   7867931   8122293\n",
       "124 Switzerland                4815000   5126000   5666000   6063000   6401400\n",
       "125 Syria                      3661549   4149908   4834621   5680812   6701172\n",
       "126 Taiwan                     8550362  10164215  11918938  13648692  15226039\n",
       "127 Tanzania                   8322925   9452826  10863958  12607312  14706593\n",
       "128 Thailand                  21289402  25041917  29263397  34024249  39276153\n",
       "129 Togo                       1219113   1357445   1528098   1735550   2056351\n",
       "130 Trinidad and Tobago         662850    764900    887498    960155    975199\n",
       "131 Tunisia                    3647735   3950849   4286552   4786986   5303507\n",
       "132 Turkey                    22235677  25670939  29788695  33411317  37492953\n",
       "133 Uganda                     5824797   6675501   7688797   8900294  10190285\n",
       "134 United Kingdom            50430000  51430000  53292000  54959000  56079000\n",
       "135 United States            157553000 171984000 186538000 198712000 209896000\n",
       "136 Uruguay                    2252965   2424959   2598466   2748579   2829526\n",
       "137 Venezuela                  5439568   6702668   8143375   9709552  11515649\n",
       "138 Vietnam                   26246839  28998543  33796140  39463910  44655014\n",
       "139 West Bank and Gaza         1030585   1070439   1133134   1142636   1089572\n",
       "140 Yemen, Rep.                4963829   5498090   6120081   6740785   7407075\n",
       "141 Zambia                     2672000   3016000   3421000   3900000   4506497\n",
       "142 Zimbabwe                   3080907   3646340   4277736   4995432   5861135\n",
       "    1977      1982       1987       1992       1997       2002       2007      \n",
       "1    14880372   12881816   13867957   16317921   22227415   25268405   31889923\n",
       "2     2509048    2780097    3075321    3326498    3428038    3508512    3600523\n",
       "3    17152804   20033753   23254956   26298373   29072015   31287142   33333216\n",
       "4     6162675    7016384    7874230    8735988    9875024   10866106   12420476\n",
       "5    26983828   29341374   31620918   33958947   36203463   38331121   40301927\n",
       "6    14074100   15184200   16257249   17481977   18565243   19546792   20434176\n",
       "7     7568430    7574613    7578903    7914969    8069876    8148312    8199783\n",
       "8      297410     377967     454612     529491     598561     656397     708573\n",
       "9    80428306   93074406  103764241  113704579  123315288  135656790  150448339\n",
       "10    9821800    9856303    9870200   10045622   10199787   10311970   10392226\n",
       "11    3168267    3641603    4243788    4981671    6066080    7026113    8078314\n",
       "12    5079716    5642224    6156369    6893451    7693188    8445134    9119152\n",
       "13    4086000    4172693    4338977    4256013    3607000    4165416    4552198\n",
       "14     781472     970347    1151184    1342614    1536536    1630347    1639131\n",
       "15  114313951  128962939  142938076  155975974  168546719  179914212  190010647\n",
       "16    8797022    8892098    8971958    8658506    8066057    7661799    7322858\n",
       "17    5889574    6634596    7586551    8878303   10352843   12251209   14326203\n",
       "18    3834415    4580410    5126023    5809236    6121610    7021078    8390505\n",
       "19    6978607    7272485    8371791   10150094   11782962   12926707   14131858\n",
       "20    7959865    9250831   10780667   12467171   14195809   15929988   17696293\n",
       "21   23796400   25201900   26549700   28523502   30305843   31902268   33390141\n",
       "22    2167533    2476971    2840009    3265124    3696513    4048013    4369038\n",
       "23    4388260    4875118    5498955    6429417    7562011    8835739   10238807\n",
       "24   10599793   11487112   12463354   13572994   14599929   15497046   16284741\n",
       "25  943455000 1000281000 1084035000 1164970000 1230075000 1280400000 1318683096\n",
       "26   25094412   27764644   30964245   34202721   37657830   41008227   44227550\n",
       "27     304739     348643     395114     454429     527982     614382     710960\n",
       "28   26480870   30646495   35481645   41672143   47798986   55379852   64606759\n",
       "29    1536769    1774735    2064095    2409073    2800947    3328795    3800610\n",
       "30    2108457    2424367    2799811    3173216    3518107    3834934    4133884\n",
       "... ...       ...        ...        ...        ...        ...        ...       \n",
       "113   3140897   3464522    3868905    4260884    4578212    5359092    6144562 \n",
       "114   2325300   2651869    2794552    3235865    3802309    4197776    4553009 \n",
       "115   4827803   5048043    5199318    5302888    5383010    5410052    5447502 \n",
       "116   1746919   1861252    1945870    1999210    2011612    2011497    2009245 \n",
       "117   4353666   5828892    6921858    6099799    6633514    7753310    9118773 \n",
       "118  27129932  31140029   35933379   39964159   42835005   44433622   43997828 \n",
       "119  36439000  37983310   38880702   39549438   39855442   40152517   40448191 \n",
       "120  14116836  15410151   16495304   17587060   18698655   19576783   20378239 \n",
       "121  17104986  20367053   24725960   28227588   32160729   37090298   42292929 \n",
       "122    551425    649901     779348     962344    1054486    1130269    1133066 \n",
       "123   8251648   8325260    8421403    8718867    8897619    8954175    9031088 \n",
       "124   6316424   6468126    6649942    6995447    7193761    7361757    7554661 \n",
       "125   7932503   9410494   11242847   13219062   15081016   17155814   19314747 \n",
       "126  16785196  18501390   19757799   20686918   21628605   22454239   23174294 \n",
       "127  17129565  19844382   23040630   26605473   30686889   34593779   38139640 \n",
       "128  44148285  48827160   52910342   56667095   60216677   62806748   65068149 \n",
       "129   2308582   2644765    3154264    3747553    4320890    4977378    5701579 \n",
       "130   1039009   1116479    1191336    1183669    1138101    1101832    1056608 \n",
       "131   6005061   6734098    7724976    8523077    9231669    9770575   10276158 \n",
       "132  42404033  47328791   52881328   58179144   63047647   67308928   71158647 \n",
       "133  11457758  12939400   15283050   18252190   21210254   24739869   29170398 \n",
       "134  56179000  56339704   56981620   57866349   58808266   59912431   60776238 \n",
       "135 220239000 232187835  242803533  256894189  272911760  287675526  301139947 \n",
       "136   2873520   2953997    3045153    3149262    3262838    3363085    3447496 \n",
       "137  13503563  15620766   17910182   20265563   22374398   24287670   26084662 \n",
       "138  50533506  56142181   62826491   69940728   76048996   80908147   85262356 \n",
       "139   1261091   1425876    1691210    2104779    2826046    3389578    4018332 \n",
       "140   8403990   9657618   11219340   13367997   15826497   18701257   22211743 \n",
       "141   5216550   6100407    7272406    8381163    9417789   10595811   11746035 \n",
       "142   6642107   7636524    9216418   10704340   11404948   11926563   12311143 "
      ]
     },
     "metadata": {},
     "output_type": "display_data"
    }
   ],
   "source": [
    "gapminder %>% select(country, pop, year) %>%\n",
    "                spread(year, pop)\n",
    "\n",
    "# now you can easyly send data to your director in excel :)"
   ]
  },
  {
   "cell_type": "markdown",
   "id": "8ed880d6",
   "metadata": {},
   "source": [
    "---"
   ]
  },
  {
   "cell_type": "markdown",
   "id": "1d3b131b",
   "metadata": {},
   "source": [
    "## Refences"
   ]
  },
  {
   "cell_type": "markdown",
   "id": "34612e4d",
   "metadata": {},
   "source": [
    "1. [dplyr: A Grammar of Data Manipulation](https://cran.r-project.org/web/packages/dplyr/index.html) on https://cran.r-project.org/.\n",
    "2. [Data Transformation with splyr::cheat sheet](https://github.com/rstudio/cheatsheets/blob/master/data-transformation.pdf).\n",
    "3. [DPLYR TUTORIAL : DATA MANIPULATION (50 EXAMPLES)](https://www.listendata.com/2016/08/dplyr-tutorial.html) by Deepanshu Bhalla.\n",
    "\n",
    "5. [Dplyr Intro](https://stat545.com/dplyr-intro.html) by Stat 545."
   ]
  },
  {
   "cell_type": "code",
   "execution_count": null,
   "id": "54f79a8b",
   "metadata": {},
   "outputs": [],
   "source": []
  }
 ],
 "metadata": {
  "kernelspec": {
   "display_name": "R",
   "language": "R",
   "name": "ir"
  },
  "language_info": {
   "codemirror_mode": "r",
   "file_extension": ".r",
   "mimetype": "text/x-r-source",
   "name": "R",
   "pygments_lexer": "r",
   "version": "4.0.5"
  }
 },
 "nbformat": 4,
 "nbformat_minor": 5
}
