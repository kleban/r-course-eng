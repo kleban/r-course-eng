{
 "cells": [
  {
   "cell_type": "markdown",
   "id": "0ee03607",
   "metadata": {},
   "source": [
    "# 3. Fundamentals of ETL: data extraction, transformation and loading. Part 1\n",
    "\n",
    "Course: Course Title"
   ]
  },
  {
   "cell_type": "markdown",
   "id": "e3a3ea10",
   "metadata": {},
   "source": [
    "---"
   ]
  },
  {
   "cell_type": "markdown",
   "id": "67d818ab",
   "metadata": {},
   "source": [
    "## Table of contents"
   ]
  },
  {
   "cell_type": "markdown",
   "id": "0e2790d4",
   "metadata": {},
   "source": [
    "[3.1. Working with **dplyr** package](#chapter31)"
   ]
  },
  {
   "cell_type": "markdown",
   "id": "84803858",
   "metadata": {},
   "source": [
    "---"
   ]
  },
  {
   "cell_type": "markdown",
   "id": "2d50b036",
   "metadata": {},
   "source": [
    "## 3.1. Working with **dplyr** package"
   ]
  },
  {
   "cell_type": "markdown",
   "id": "7516976e",
   "metadata": {},
   "source": [
    "### 3.1.1. Intro to dplyr"
   ]
  },
  {
   "cell_type": "markdown",
   "id": "fdcffcab",
   "metadata": {},
   "source": [
    "The `dplyr` package is one of the most powerful and popular package in `R` for data manipulation. "
   ]
  },
  {
   "cell_type": "markdown",
   "id": "b4a28923",
   "metadata": {},
   "source": [
    "Working with data:\n",
    "\n",
    "- [x] Figure out what you want to do.\n",
    "- [x] Describe those tasks in the form of a computer program.\n",
    "- [x] Execute the program.\n",
    "\n",
    "The `dplyr` package makes these steps fast and easy:\n",
    "\n",
    "- [x] By constraining your options, it helps you think about your data manipulation challenges.\n",
    "- [x] It provides simple `verbs`, functions that correspond to the most common data manipulation tasks, to help you translate your thoughts into code.\n",
    "- [x] It uses efficient backends, so you spend less time waiting for the computer."
   ]
  },
  {
   "cell_type": "markdown",
   "id": "c4e3dbaa",
   "metadata": {},
   "source": [
    "Before use you should install package^"
   ]
  },
  {
   "cell_type": "code",
   "execution_count": 11,
   "id": "0d60864f",
   "metadata": {},
   "outputs": [],
   "source": [
    "#install.packages(\"dplyr\")"
   ]
  },
  {
   "cell_type": "markdown",
   "id": "16eb2081",
   "metadata": {},
   "source": [
    "Next step is loading package:"
   ]
  },
  {
   "cell_type": "code",
   "execution_count": 15,
   "id": "790d7837",
   "metadata": {},
   "outputs": [],
   "source": [
    "library(dplyr)"
   ]
  },
  {
   "cell_type": "markdown",
   "id": "98d7d10c",
   "metadata": {},
   "source": [
    "`dplyr` functions work with pipes and expect `tidy data`. In tidy data:\n"
   ]
  },
  {
   "cell_type": "markdown",
   "id": "825f0aa2",
   "metadata": {},
   "source": [
    "---"
   ]
  },
  {
   "cell_type": "markdown",
   "id": "cc3fed7e",
   "metadata": {},
   "source": [
    "## Refences"
   ]
  },
  {
   "cell_type": "markdown",
   "id": "659d28fc",
   "metadata": {},
   "source": [
    "1. [dplyr: A Grammar of Data Manipulation](https://cran.r-project.org/web/packages/dplyr/index.html) on https://cran.r-project.org/\n",
    "2. [Data Transformation with splyr::cheat sheet](https://github.com/rstudio/cheatsheets/blob/master/data-transformation.pdf)\n",
    "3. [DPLYR TUTORIAL : DATA MANIPULATION (50 EXAMPLES)](https://www.listendata.com/2016/08/dplyr-tutorial.html) by Deepanshu Bhalla."
   ]
  },
  {
   "cell_type": "code",
   "execution_count": null,
   "id": "dac6c1aa",
   "metadata": {},
   "outputs": [],
   "source": []
  }
 ],
 "metadata": {
  "kernelspec": {
   "display_name": "R",
   "language": "R",
   "name": "ir"
  },
  "language_info": {
   "codemirror_mode": "r",
   "file_extension": ".r",
   "mimetype": "text/x-r-source",
   "name": "R",
   "pygments_lexer": "r",
   "version": "4.0.5"
  }
 },
 "nbformat": 4,
 "nbformat_minor": 5
}
