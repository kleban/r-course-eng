{
 "cells": [
  {
   "cell_type": "markdown",
   "id": "599c38b2",
   "metadata": {},
   "source": [
    "# Basics of programming for Data Science and Machine Learning\n",
    "\n",
    "Course: Course Title"
   ]
  },
  {
   "cell_type": "markdown",
   "id": "6ab0d63d",
   "metadata": {},
   "source": [
    "---"
   ]
  },
  {
   "cell_type": "markdown",
   "id": "a3e14181",
   "metadata": {},
   "source": [
    "## Table of contents"
   ]
  },
  {
   "cell_type": "markdown",
   "id": "d0ab4a70",
   "metadata": {},
   "source": [
    "[1. Programing in R](#chapter21)"
   ]
  },
  {
   "cell_type": "markdown",
   "id": "927d9a2c",
   "metadata": {},
   "source": [
    "## <a id=\"chapter21\">1. Programing in R</a>"
   ]
  }
 ],
 "metadata": {
  "kernelspec": {
   "display_name": "R",
   "language": "R",
   "name": "ir"
  },
  "language_info": {
   "codemirror_mode": "r",
   "file_extension": ".r",
   "mimetype": "text/x-r-source",
   "name": "R",
   "pygments_lexer": "r",
   "version": "4.0.5"
  }
 },
 "nbformat": 4,
 "nbformat_minor": 5
}
