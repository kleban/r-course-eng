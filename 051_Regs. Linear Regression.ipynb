{
 "cells": [
  {
   "cell_type": "markdown",
   "id": "c2414ff5",
   "metadata": {},
   "source": [
    "# Linear regression\n",
    "\n",
    "---\n",
    "\n",
    "## Linear and Logistic Regressions: prediction and metrics\n",
    "\n",
    "\n",
    "Applied Mathematical Modeling in Banking"
   ]
  },
  {
   "cell_type": "markdown",
   "id": "c7ced297",
   "metadata": {},
   "source": [
    "---"
   ]
  },
  {
   "cell_type": "markdown",
   "id": "44b4185e",
   "metadata": {},
   "source": [
    "---"
   ]
  },
  {
   "cell_type": "markdown",
   "id": "e5f6def2",
   "metadata": {},
   "source": [
    "## References"
   ]
  },
  {
   "cell_type": "markdown",
   "id": "c158f38a",
   "metadata": {},
   "source": [
    "1. [SQLite in R. Datacamp](https://www.datacamp.com/community/tutorials/sqlite-in-r)\n"
   ]
  }
 ],
 "metadata": {
  "kernelspec": {
   "display_name": "R",
   "language": "R",
   "name": "ir"
  },
  "language_info": {
   "codemirror_mode": "r",
   "file_extension": ".r",
   "mimetype": "text/x-r-source",
   "name": "R",
   "pygments_lexer": "r",
   "version": "4.0.5"
  }
 },
 "nbformat": 4,
 "nbformat_minor": 5
}
