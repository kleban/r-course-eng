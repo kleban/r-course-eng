{
 "cells": [
  {
   "cell_type": "markdown",
   "metadata": {
    "cell_id": "e5cde04d81ef4f77b739f6cf4b089fba",
    "deepnote_cell_type": "text-cell-h1",
    "is_collapsed": false,
    "tags": []
   },
   "source": [
    "# Тема: Підготовка та очистка даних у R [033 UA]"
   ]
  },
  {
   "cell_type": "markdown",
   "metadata": {
    "cell_id": "144a849c2f5740618b740b87e2169d21",
    "deepnote_cell_height": 46,
    "deepnote_cell_type": "markdown",
    "tags": []
   },
   "source": [
    "---"
   ]
  },
  {
   "cell_type": "markdown",
   "metadata": {
    "cell_id": "28f0144cb23d4dd59a5a8abffcd329ba",
    "deepnote_cell_type": "text-cell-h3",
    "is_collapsed": false,
    "tags": []
   },
   "source": [
    "### Розділ 2. Основи ETL"
   ]
  },
  {
   "cell_type": "markdown",
   "metadata": {
    "cell_id": "0cd22a6b4b464de7ab2e7b5ce0ed784f",
    "deepnote_cell_type": "text-cell-p",
    "is_collapsed": false,
    "tags": []
   },
   "source": [
    "Курс: \"Аналіз даних у R\""
   ]
  },
  {
   "cell_type": "markdown",
   "metadata": {
    "cell_id": "03c9a2d7fa93477e95a892e6b69ace72",
    "deepnote_cell_height": 46,
    "deepnote_cell_type": "markdown",
    "tags": []
   },
   "source": [
    "---"
   ]
  },
  {
   "cell_type": "markdown",
   "metadata": {
    "cell_id": "00d769ee48204b4ab60dd67bf9fb8704",
    "deepnote_cell_height": 220.5625,
    "deepnote_cell_type": "markdown",
    "tags": []
   },
   "source": [
    "## Зміст\n",
    "\n",
    "1. [Поняття та виміри оцінки якості даних](#id1)\n",
    "2. [Робота з неіменованими та \"поганоіменованими\" даними](#id2) \n",
    "3. [Заміна пропусків у даних (Missing Value Imputation))](#id3)\n",
    "4. [Обробка аномалій та статистичних викидів у даних](#id4)\n",
    "5. [Додаткові прийоми очистки даних](#id5)\n",
    "\n",
    "[Використані джерела](#ids)"
   ]
  },
  {
   "cell_type": "markdown",
   "metadata": {
    "cell_id": "14be21ce4cee4892bf388ccad1560c33",
    "deepnote_cell_height": 46,
    "deepnote_cell_type": "markdown",
    "tags": []
   },
   "source": [
    "---"
   ]
  },
  {
   "cell_type": "markdown",
   "metadata": {
    "cell_id": "cf53019eba81446ba1f150f07d2f4000",
    "deepnote_cell_height": 82,
    "deepnote_cell_type": "markdown",
    "tags": []
   },
   "source": [
    "# 1. Поняття та виміри оцінки якості даних <a class=\"anchor\" id=\"id1\"></a>"
   ]
  },
  {
   "cell_type": "markdown",
   "metadata": {
    "cell_id": "5bd187bd9ef94f12a395ed5732fae376",
    "deepnote_cell_height": 97.171875,
    "deepnote_cell_type": "markdown",
    "tags": []
   },
   "source": [
    "Якість даних залежить від очищення та коригування даних, які відсутні, некоректні, недійсні або нечитабельні. Для забезпечення достовірності даних важливо зрозуміти ключові аспекти якості даних, щоб оцінити, наскільки дані погані/хороші."
   ]
  },
  {
   "cell_type": "markdown",
   "metadata": {
    "cell_id": "19e55e18971e4bc78f9f81a32c374d57",
    "deepnote_cell_height": 111.171875,
    "deepnote_cell_type": "markdown",
    "tags": []
   },
   "source": [
    "**Що таке валідація даних?**\n",
    "\n",
    "Валідація даних відноситься до процесу забезпечення точності та якості даних. Він реалізується шляхом вбудовування кількох перевірок у систему або звітування для забезпечення логічної узгодженості введених і збережених даних."
   ]
  },
  {
   "cell_type": "markdown",
   "metadata": {
    "cell_id": "f2ef488bc6ec40f6b242e6d96ac2202e",
    "deepnote_cell_height": 97.171875,
    "deepnote_cell_type": "markdown",
    "tags": []
   },
   "source": [
    "На перший погляд, очевидно, що перетворення даних до якісних полягає в очищенні поганих даних – даних, які відсутні, неправильні або якимось чином недійсні. Але щоб переконатися, що дані заслуговують довіри, важливо розуміти ключові виміри якості даних, щоб оцінити, наскільки дані є «поганими»."
   ]
  },
  {
   "cell_type": "markdown",
   "metadata": {
    "cell_id": "08ade24efa324c3d98a12fbe560da19a",
    "deepnote_cell_height": 313.90625,
    "deepnote_cell_type": "markdown",
    "tags": []
   },
   "source": [
    "Окремі компанії мають внутрішні документи, що визначають виміри оцінки якості даних та порядок його проведення - `Data Validation Framework` або `Data Quality Framework`.\n",
    "\n",
    "Коли говорять про якість даних, то мається на увазі їх оцінка у кількох вимірах. Розглянемо коротко ці виміри:\n",
    "\n",
    "- [x] Правильність / `Accuracy`\n",
    "- [x] Повнота / `Completeness`\n",
    "- [x] Узгодженість / `Consistency`\n",
    "- [x] Відповідність / `Conformity`\n",
    "- [x] Цілісність / `Integrity`\n",
    "- [x] Своєчасність / `Timeliness`\n",
    "- [x] Унікальність / `Uniqueness`\n"
   ]
  },
  {
   "cell_type": "markdown",
   "metadata": {
    "cell_id": "9601bc07f5d2479fab665bb21e70a1bd",
    "deepnote_cell_height": 46,
    "deepnote_cell_type": "markdown",
    "tags": []
   },
   "source": [
    "---"
   ]
  },
  {
   "cell_type": "markdown",
   "metadata": {
    "cell_id": "b51c187d5c6b41d2b7674dcfeaa26583",
    "deepnote_cell_height": 377.90625,
    "deepnote_cell_type": "markdown",
    "tags": []
   },
   "source": [
    "### Правильність / (Accuracy)\n",
    "\n",
    "**Правильність** — це ступінь, до якого дані правильно відображають реальний об’єкт АБО описувану подію. \n",
    "\n",
    "Приклади:\n",
    "- [x] Реальною вартістю є ціна продажу одиниці товару.\n",
    "- [x] Адреса співробітника в `базі даних співробітників` є справжньою адресою.\n",
    "\n",
    "Запитання, які ви можете задати собі: \n",
    "\n",
    "- [x] Чи об’єкти даних точно представляють значення «реального світу», які вони повинні моделювати? _Наприклад, чи правильно вказувати вік у сотнях тисяч років?_\n",
    "- [x] Чи присутнє неправильне написання назв товарів чи осіб, адрес і навіть несвоєчасних чи неактуальних даних? \n",
    "\n",
    "Ці проблеми можуть вплинути на результатати аналітичних звітів, наприклад, неправильні середні значення певних показників."
   ]
  },
  {
   "cell_type": "markdown",
   "metadata": {
    "cell_id": "d679692467344e6e9ec92c766ac72a96",
    "deepnote_cell_height": 46,
    "deepnote_cell_type": "markdown",
    "tags": []
   },
   "source": [
    "---"
   ]
  },
  {
   "cell_type": "markdown",
   "metadata": {
    "cell_id": "f08ca939cb464024866f772a78f2293f",
    "deepnote_cell_height": 319.125,
    "deepnote_cell_type": "markdown",
    "tags": []
   },
   "source": [
    "### Повнота / (Completeness)\n",
    "\n",
    "Повнота визначається як очікувана всебічність. Дані можуть бути повними, навіть якщо додаткові дані відсутні. Поки дані відповідають очікуванням, вони вважаються повними.\n",
    "\n",
    "Наприклад, ім’я та прізвище замовника є обов'язковими, але прізвище необов’язково; тому запис можна вважати повним, навіть якщо прізвища не існує.\n",
    "\n",
    "Питання, які ви можете задати собі: \n",
    "\n",
    "- [x] Чи доступна вся необхідна інформація? \n",
    "- [x] Чи мають якісь дані відсутні елементи? \n",
    "- [x] Або вони перебувають у непридатному для роботи вигляді?\n"
   ]
  },
  {
   "cell_type": "markdown",
   "metadata": {
    "cell_id": "e1bac1f0a54f4764b20c2c46980b2f70",
    "deepnote_cell_height": 46,
    "deepnote_cell_type": "markdown",
    "tags": []
   },
   "source": [
    "---"
   ]
  },
  {
   "cell_type": "markdown",
   "metadata": {
    "cell_id": "22e706adf1dd43419d3d1e3864eb0ade",
    "deepnote_cell_height": 336.125,
    "deepnote_cell_type": "markdown",
    "tags": []
   },
   "source": [
    "### Узгодженість / Consistency\n",
    "\n",
    "**Узгодженість** означає, що дані в усіх системах/таблицях відображають однакову інформацію та синхронізовані між собою.  \n",
    "\n",
    "Приклади:\n",
    "- [x] Статус бізнес-підрозділу \"закритий\", але є продажі для цього підрозділу.\n",
    "- [x] Статус працівника \"звільнено\", але статус випалати заробіної плати містить суму відмінну від 0 за той самий період.\n",
    "- [x] Зафіксовано, що клієнт має у банку депозити, але у даних про депозити записи по клієнту відсутні.\n",
    "\n",
    "Запитання, які ви можете поставити собі: \n",
    "\n",
    "- [x] Чи однакові значення даних у наборах даних? \n",
    "- [x] Чи існують якісь різні випадки, коли однакові екземпляри даних надають суперечливу інформацію?"
   ]
  },
  {
   "cell_type": "markdown",
   "metadata": {
    "cell_id": "9530a1734488479ca642820fac551674",
    "deepnote_cell_height": 46,
    "deepnote_cell_type": "markdown",
    "tags": []
   },
   "source": [
    "---"
   ]
  },
  {
   "cell_type": "markdown",
   "metadata": {
    "cell_id": "dd7b37aa4fc742a8984171997182460b",
    "deepnote_cell_height": 257.34375,
    "deepnote_cell_type": "markdown",
    "tags": []
   },
   "source": [
    "### Відповідність / Conformity\n",
    "\n",
    "**Відповідність** означає, що дані відповідають набору стандартних визначень даних, як-от тип даних, розмір і формат. Наприклад, дата народження клієнта у форматі `dd/mm/yyyy` або відстань у км числом `100`, а не записом `100км`.\n",
    "\n",
    "Запитання, які ви можете задати собі: \n",
    "- [x] Чи відповідають значення даних зазначеним форматам? \n",
    "- [x] Якщо так, то чи всі значення даних відповідають цим форматам?\n",
    "\n",
    "Важливо підтримувати відповідність конкретним форматам."
   ]
  },
  {
   "cell_type": "markdown",
   "metadata": {
    "cell_id": "d0c4cca95bf6439981778c13f8d64fb1",
    "deepnote_cell_height": 46,
    "deepnote_cell_type": "markdown",
    "tags": []
   },
   "source": [
    "---"
   ]
  },
  {
   "cell_type": "markdown",
   "metadata": {
    "cell_id": "976ecfff028b441da11aaa81535f5add",
    "deepnote_cell_height": 290.734375,
    "deepnote_cell_type": "markdown",
    "tags": []
   },
   "source": [
    "### Цілісність / Integrity\n",
    "\n",
    "**Цілісність** означає достовірність даних у взаємозв’язках і гарантує, що всі дані в базі даних можна відстежити та з’єднати з іншими даними.\n",
    "\n",
    "Наприклад, у базі даних клієнтів має бути дійсний клієнт, адреси та відношення/зв'язки між ними. Якщо є дані про зв’язок адреси без клієнта, то ці дані недійсні й вважаються загубленим записом.\n",
    "\n",
    "Запитайте себе: \n",
    "- [x] Чи є якісь дані без важливих зв’язків?\n",
    "\n",
    "Неможливість пов’язати записи разом може призвести до дублювання у ваших системах."
   ]
  },
  {
   "cell_type": "markdown",
   "metadata": {
    "cell_id": "29300cda7cdf4a03a39f9828d8918bea",
    "deepnote_cell_height": 46,
    "deepnote_cell_type": "markdown",
    "tags": []
   },
   "source": [
    "---"
   ]
  },
  {
   "cell_type": "markdown",
   "metadata": {
    "cell_id": "ccd98fbc4b5e4b85a08b2610439199e3",
    "deepnote_cell_height": 341.515625,
    "deepnote_cell_type": "markdown",
    "tags": []
   },
   "source": [
    "### Своєчасність / Timeliness\n",
    "\n",
    "**Своєчасність** показує, чи є інформація доступною, коли вона очікується та потрібна. Своєчасність даних дуже важлива. \n",
    "\n",
    "Це відображається в:\n",
    "- [x] Компанії, які зобов’язані публікувати свої квартальні результати протягом певного періоду часу\n",
    "- [x] Обслуговування клієнтів надає клієнтам актуальну інформацію\n",
    "- [x] Кредитна система перевіряє активність рахунку кредитної картки в режимі реального часу\n",
    "\n",
    "Своєчасність залежить від очікувань користувача. Доступність даних в Інтернеті може знадобитися для системи розподілу номерів у сфері готельного бізнесу.\n",
    "\n",
    "Як бачите, якість даних є важливим питанням, яке слід враховувати, починаючи від етапу визначення цілей проекту, аж до впровадження, обслуговування та використання готово рішення у виробничі процесі підприємства."
   ]
  },
  {
   "cell_type": "markdown",
   "metadata": {
    "cell_id": "99f0b90e22a545e98d2f4da662d4d3ef",
    "deepnote_cell_height": 46,
    "deepnote_cell_type": "markdown",
    "tags": []
   },
   "source": [
    "---"
   ]
  },
  {
   "cell_type": "markdown",
   "metadata": {
    "cell_id": "dc5a69dc35bd4b36a183e5f00d181800",
    "deepnote_cell_height": 70,
    "deepnote_cell_type": "markdown",
    "tags": []
   },
   "source": [
    "# 2. Робота з неіменованими та \"поганоіменованими\" даними <a class=\"anchor\" id=\"id2\"></a>"
   ]
  },
  {
   "cell_type": "markdown",
   "metadata": {},
   "source": [
    "## 2.1. Іменування даних <a class=\"anchor\" id=\"id21\"></a>"
   ]
  },
  {
   "cell_type": "markdown",
   "metadata": {
    "cell_id": "3748bb7299b24048800999fd31a1f303",
    "deepnote_cell_height": 249.15625,
    "deepnote_cell_type": "markdown",
    "tags": []
   },
   "source": [
    "Першим прикладом проблем у даних можна розгянути читання неіменованих даних, тобто стопці таблиці не мають заголовків у файлі.\n",
    "\n",
    "Створимо такий файл у блокноті і зчитаємо його:"
   ]
  },
  {
   "cell_type": "code",
   "execution_count": 1,
   "metadata": {
    "cell_id": "ba629ad1cff343a899fe45ae07c40b8d",
    "deepnote_cell_height": 99,
    "deepnote_cell_type": "code",
    "deepnote_output_heights": [
     null,
     219
    ],
    "deepnote_to_be_reexecuted": false,
    "execution_millis": 75,
    "execution_start": 1650389176553,
    "output_cleared": true,
    "source_hash": "af0c3da",
    "tags": [],
    "vscode": {
     "languageId": "r"
    }
   },
   "outputs": [
    {
     "data": {
      "text/html": [
       "<table class=\"dataframe\">\n",
       "<caption>A data.frame: 5 × 4</caption>\n",
       "<thead>\n",
       "\t<tr><th scope=col>X23</th><th scope=col>X185</th><th scope=col>X85.7</th><th scope=col>Male</th></tr>\n",
       "\t<tr><th scope=col>&lt;int&gt;</th><th scope=col>&lt;chr&gt;</th><th scope=col>&lt;dbl&gt;</th><th scope=col>&lt;chr&gt;</th></tr>\n",
       "</thead>\n",
       "<tbody>\n",
       "\t<tr><td>41</td><td>175 </td><td>68.3</td><td>M               </td></tr>\n",
       "\t<tr><td>11</td><td>142*</td><td>55.4</td><td>Female          </td></tr>\n",
       "\t<tr><td>12</td><td>NA  </td><td>48.2</td><td>Man             </td></tr>\n",
       "\t<tr><td>54</td><td>171 </td><td>  NA</td><td>Looks like a man</td></tr>\n",
       "\t<tr><td>32</td><td>168 </td><td>78.0</td><td>F               </td></tr>\n",
       "</tbody>\n",
       "</table>\n"
      ],
      "text/latex": [
       "A data.frame: 5 × 4\n",
       "\\begin{tabular}{llll}\n",
       " X23 & X185 & X85.7 & Male\\\\\n",
       " <int> & <chr> & <dbl> & <chr>\\\\\n",
       "\\hline\n",
       "\t 41 & 175  & 68.3 & M               \\\\\n",
       "\t 11 & 142* & 55.4 & Female          \\\\\n",
       "\t 12 & NA   & 48.2 & Man             \\\\\n",
       "\t 54 & 171  &   NA & Looks like a man\\\\\n",
       "\t 32 & 168  & 78.0 & F               \\\\\n",
       "\\end{tabular}\n"
      ],
      "text/markdown": [
       "\n",
       "A data.frame: 5 × 4\n",
       "\n",
       "| X23 &lt;int&gt; | X185 &lt;chr&gt; | X85.7 &lt;dbl&gt; | Male &lt;chr&gt; |\n",
       "|---|---|---|---|\n",
       "| 41 | 175  | 68.3 | M                |\n",
       "| 11 | 142* | 55.4 | Female           |\n",
       "| 12 | NA   | 48.2 | Man              |\n",
       "| 54 | 171  |   NA | Looks like a man |\n",
       "| 32 | 168  | 78.0 | F                |\n",
       "\n"
      ],
      "text/plain": [
       "  X23 X185 X85.7 Male            \n",
       "1 41  175  68.3  M               \n",
       "2 11  142* 55.4  Female          \n",
       "3 12  NA   48.2  Man             \n",
       "4 54  171    NA  Looks like a man\n",
       "5 32  168  78.0  F               "
      ]
     },
     "metadata": {},
     "output_type": "display_data"
    }
   ],
   "source": [
    "data <- read.csv(\"data/untitled.txt\")\n",
    "data"
   ]
  },
  {
   "cell_type": "markdown",
   "metadata": {
    "cell_id": "1646cda6ee244f21aea0672abb28a312",
    "deepnote_cell_height": 74.78125,
    "deepnote_cell_type": "markdown",
    "tags": []
   },
   "source": [
    "Зверніть увагу, що у якості стовпців взято перший рядок даних у додано `X` на початку. Зчитаємо дані із параметром, що вказує на відсутність заголовків:"
   ]
  },
  {
   "cell_type": "code",
   "execution_count": 2,
   "metadata": {
    "cell_id": "071784be9f9e4507b487a1ebd15ed904",
    "deepnote_cell_height": 429.375,
    "deepnote_cell_type": "code",
    "deepnote_output_heights": [
     null,
     248
    ],
    "deepnote_to_be_reexecuted": false,
    "execution_millis": 33,
    "execution_start": 1650389318247,
    "owner_user_id": "e217be60-8088-4d01-8fcf-08f2a3d75b6d",
    "source_hash": "d1f77be1",
    "tags": [],
    "vscode": {
     "languageId": "r"
    }
   },
   "outputs": [
    {
     "data": {
      "text/html": [
       "<table class=\"dataframe\">\n",
       "<caption>A data.frame: 6 × 4</caption>\n",
       "<thead>\n",
       "\t<tr><th scope=col>V1</th><th scope=col>V2</th><th scope=col>V3</th><th scope=col>V4</th></tr>\n",
       "\t<tr><th scope=col>&lt;int&gt;</th><th scope=col>&lt;chr&gt;</th><th scope=col>&lt;dbl&gt;</th><th scope=col>&lt;chr&gt;</th></tr>\n",
       "</thead>\n",
       "<tbody>\n",
       "\t<tr><td>23</td><td>185 </td><td>85.7</td><td>Male            </td></tr>\n",
       "\t<tr><td>41</td><td>175 </td><td>68.3</td><td>M               </td></tr>\n",
       "\t<tr><td>11</td><td>142*</td><td>55.4</td><td>Female          </td></tr>\n",
       "\t<tr><td>12</td><td>NA  </td><td>48.2</td><td>Man             </td></tr>\n",
       "\t<tr><td>54</td><td>171 </td><td>  NA</td><td>Looks like a man</td></tr>\n",
       "\t<tr><td>32</td><td>168 </td><td>78.0</td><td>F               </td></tr>\n",
       "</tbody>\n",
       "</table>\n"
      ],
      "text/latex": [
       "A data.frame: 6 × 4\n",
       "\\begin{tabular}{llll}\n",
       " V1 & V2 & V3 & V4\\\\\n",
       " <int> & <chr> & <dbl> & <chr>\\\\\n",
       "\\hline\n",
       "\t 23 & 185  & 85.7 & Male            \\\\\n",
       "\t 41 & 175  & 68.3 & M               \\\\\n",
       "\t 11 & 142* & 55.4 & Female          \\\\\n",
       "\t 12 & NA   & 48.2 & Man             \\\\\n",
       "\t 54 & 171  &   NA & Looks like a man\\\\\n",
       "\t 32 & 168  & 78.0 & F               \\\\\n",
       "\\end{tabular}\n"
      ],
      "text/markdown": [
       "\n",
       "A data.frame: 6 × 4\n",
       "\n",
       "| V1 &lt;int&gt; | V2 &lt;chr&gt; | V3 &lt;dbl&gt; | V4 &lt;chr&gt; |\n",
       "|---|---|---|---|\n",
       "| 23 | 185  | 85.7 | Male             |\n",
       "| 41 | 175  | 68.3 | M                |\n",
       "| 11 | 142* | 55.4 | Female           |\n",
       "| 12 | NA   | 48.2 | Man              |\n",
       "| 54 | 171  |   NA | Looks like a man |\n",
       "| 32 | 168  | 78.0 | F                |\n",
       "\n"
      ],
      "text/plain": [
       "  V1 V2   V3   V4              \n",
       "1 23 185  85.7 Male            \n",
       "2 41 175  68.3 M               \n",
       "3 11 142* 55.4 Female          \n",
       "4 12 NA   48.2 Man             \n",
       "5 54 171    NA Looks like a man\n",
       "6 32 168  78.0 F               "
      ]
     },
     "metadata": {},
     "output_type": "display_data"
    }
   ],
   "source": [
    "data <- read.csv(\"data/untitled.txt\", header = FALSE)\n",
    "data"
   ]
  },
  {
   "cell_type": "markdown",
   "metadata": {
    "cell_id": "72e9b920f1334b8b9f44571d538f0b50",
    "deepnote_cell_height": 74.78125,
    "deepnote_cell_type": "markdown",
    "tags": []
   },
   "source": [
    "Проблема іменування не вирішена, дані ми уже не втратили. Передамо одночасно з читанням інформацію про назви стовпців:"
   ]
  },
  {
   "cell_type": "code",
   "execution_count": 3,
   "metadata": {
    "cell_id": "b2f2910a77ec4776aa7d881a36d74863",
    "deepnote_cell_height": 465.375,
    "deepnote_cell_type": "code",
    "deepnote_output_heights": [
     null,
     248
    ],
    "deepnote_to_be_reexecuted": false,
    "execution_millis": 33,
    "execution_start": 1650389438672,
    "source_hash": "cba21c26",
    "tags": [],
    "vscode": {
     "languageId": "r"
    }
   },
   "outputs": [
    {
     "data": {
      "text/html": [
       "<table class=\"dataframe\">\n",
       "<caption>A data.frame: 6 × 4</caption>\n",
       "<thead>\n",
       "\t<tr><th scope=col>Age</th><th scope=col>Height</th><th scope=col>Weight</th><th scope=col>Gender</th></tr>\n",
       "\t<tr><th scope=col>&lt;int&gt;</th><th scope=col>&lt;chr&gt;</th><th scope=col>&lt;dbl&gt;</th><th scope=col>&lt;chr&gt;</th></tr>\n",
       "</thead>\n",
       "<tbody>\n",
       "\t<tr><td>23</td><td>185 </td><td>85.7</td><td>Male            </td></tr>\n",
       "\t<tr><td>41</td><td>175 </td><td>68.3</td><td>M               </td></tr>\n",
       "\t<tr><td>11</td><td>142*</td><td>55.4</td><td>Female          </td></tr>\n",
       "\t<tr><td>12</td><td>NA  </td><td>48.2</td><td>Man             </td></tr>\n",
       "\t<tr><td>54</td><td>171 </td><td>  NA</td><td>Looks like a man</td></tr>\n",
       "\t<tr><td>32</td><td>168 </td><td>78.0</td><td>F               </td></tr>\n",
       "</tbody>\n",
       "</table>\n"
      ],
      "text/latex": [
       "A data.frame: 6 × 4\n",
       "\\begin{tabular}{llll}\n",
       " Age & Height & Weight & Gender\\\\\n",
       " <int> & <chr> & <dbl> & <chr>\\\\\n",
       "\\hline\n",
       "\t 23 & 185  & 85.7 & Male            \\\\\n",
       "\t 41 & 175  & 68.3 & M               \\\\\n",
       "\t 11 & 142* & 55.4 & Female          \\\\\n",
       "\t 12 & NA   & 48.2 & Man             \\\\\n",
       "\t 54 & 171  &   NA & Looks like a man\\\\\n",
       "\t 32 & 168  & 78.0 & F               \\\\\n",
       "\\end{tabular}\n"
      ],
      "text/markdown": [
       "\n",
       "A data.frame: 6 × 4\n",
       "\n",
       "| Age &lt;int&gt; | Height &lt;chr&gt; | Weight &lt;dbl&gt; | Gender &lt;chr&gt; |\n",
       "|---|---|---|---|\n",
       "| 23 | 185  | 85.7 | Male             |\n",
       "| 41 | 175  | 68.3 | M                |\n",
       "| 11 | 142* | 55.4 | Female           |\n",
       "| 12 | NA   | 48.2 | Man              |\n",
       "| 54 | 171  |   NA | Looks like a man |\n",
       "| 32 | 168  | 78.0 | F                |\n",
       "\n"
      ],
      "text/plain": [
       "  Age Height Weight Gender          \n",
       "1 23  185    85.7   Male            \n",
       "2 41  175    68.3   M               \n",
       "3 11  142*   55.4   Female          \n",
       "4 12  NA     48.2   Man             \n",
       "5 54  171      NA   Looks like a man\n",
       "6 32  168    78.0   F               "
      ]
     },
     "metadata": {},
     "output_type": "display_data"
    }
   ],
   "source": [
    "data <- read.csv(\"data/untitled.txt\", \n",
    "            header = FALSE,\n",
    "            col.names = c(\"Age\",\"Height\", \"Weight\", \"Gender\"))\n",
    "data"
   ]
  },
  {
   "cell_type": "markdown",
   "metadata": {
    "cell_id": "7cab4727da4d4e8aa92af2b45669e9e8",
    "deepnote_cell_height": 52.390625,
    "deepnote_cell_type": "markdown",
    "tags": []
   },
   "source": [
    "Ще одним варіантом задання назв стовпців є використання функції `colnames()` як для усіх різом, так і для окремого:"
   ]
  },
  {
   "cell_type": "code",
   "execution_count": 4,
   "metadata": {
    "cell_id": "ec3c8040f0dd44b38271c5b8dc30edfc",
    "deepnote_cell_height": 678,
    "deepnote_cell_type": "code",
    "deepnote_output_heights": [
     248,
     248
    ],
    "deepnote_to_be_reexecuted": false,
    "execution_millis": 57,
    "execution_start": 1650389604515,
    "source_hash": "d1a601e",
    "tags": [],
    "vscode": {
     "languageId": "r"
    }
   },
   "outputs": [
    {
     "data": {
      "text/html": [
       "<table class=\"dataframe\">\n",
       "<caption>A data.frame: 6 × 4</caption>\n",
       "<thead>\n",
       "\t<tr><th scope=col>age</th><th scope=col>height</th><th scope=col>width</th><th scope=col>gender</th></tr>\n",
       "\t<tr><th scope=col>&lt;int&gt;</th><th scope=col>&lt;chr&gt;</th><th scope=col>&lt;dbl&gt;</th><th scope=col>&lt;chr&gt;</th></tr>\n",
       "</thead>\n",
       "<tbody>\n",
       "\t<tr><td>23</td><td>185 </td><td>85.7</td><td>Male            </td></tr>\n",
       "\t<tr><td>41</td><td>175 </td><td>68.3</td><td>M               </td></tr>\n",
       "\t<tr><td>11</td><td>142*</td><td>55.4</td><td>Female          </td></tr>\n",
       "\t<tr><td>12</td><td>NA  </td><td>48.2</td><td>Man             </td></tr>\n",
       "\t<tr><td>54</td><td>171 </td><td>  NA</td><td>Looks like a man</td></tr>\n",
       "\t<tr><td>32</td><td>168 </td><td>78.0</td><td>F               </td></tr>\n",
       "</tbody>\n",
       "</table>\n"
      ],
      "text/latex": [
       "A data.frame: 6 × 4\n",
       "\\begin{tabular}{llll}\n",
       " age & height & width & gender\\\\\n",
       " <int> & <chr> & <dbl> & <chr>\\\\\n",
       "\\hline\n",
       "\t 23 & 185  & 85.7 & Male            \\\\\n",
       "\t 41 & 175  & 68.3 & M               \\\\\n",
       "\t 11 & 142* & 55.4 & Female          \\\\\n",
       "\t 12 & NA   & 48.2 & Man             \\\\\n",
       "\t 54 & 171  &   NA & Looks like a man\\\\\n",
       "\t 32 & 168  & 78.0 & F               \\\\\n",
       "\\end{tabular}\n"
      ],
      "text/markdown": [
       "\n",
       "A data.frame: 6 × 4\n",
       "\n",
       "| age &lt;int&gt; | height &lt;chr&gt; | width &lt;dbl&gt; | gender &lt;chr&gt; |\n",
       "|---|---|---|---|\n",
       "| 23 | 185  | 85.7 | Male             |\n",
       "| 41 | 175  | 68.3 | M                |\n",
       "| 11 | 142* | 55.4 | Female           |\n",
       "| 12 | NA   | 48.2 | Man              |\n",
       "| 54 | 171  |   NA | Looks like a man |\n",
       "| 32 | 168  | 78.0 | F                |\n",
       "\n"
      ],
      "text/plain": [
       "  age height width gender          \n",
       "1 23  185    85.7  Male            \n",
       "2 41  175    68.3  M               \n",
       "3 11  142*   55.4  Female          \n",
       "4 12  NA     48.2  Man             \n",
       "5 54  171      NA  Looks like a man\n",
       "6 32  168    78.0  F               "
      ]
     },
     "metadata": {},
     "output_type": "display_data"
    },
    {
     "data": {
      "text/html": [
       "<table class=\"dataframe\">\n",
       "<caption>A data.frame: 6 × 4</caption>\n",
       "<thead>\n",
       "\t<tr><th scope=col>age</th><th scope=col>HEIGHT</th><th scope=col>width</th><th scope=col>gender</th></tr>\n",
       "\t<tr><th scope=col>&lt;int&gt;</th><th scope=col>&lt;chr&gt;</th><th scope=col>&lt;dbl&gt;</th><th scope=col>&lt;chr&gt;</th></tr>\n",
       "</thead>\n",
       "<tbody>\n",
       "\t<tr><td>23</td><td>185 </td><td>85.7</td><td>Male            </td></tr>\n",
       "\t<tr><td>41</td><td>175 </td><td>68.3</td><td>M               </td></tr>\n",
       "\t<tr><td>11</td><td>142*</td><td>55.4</td><td>Female          </td></tr>\n",
       "\t<tr><td>12</td><td>NA  </td><td>48.2</td><td>Man             </td></tr>\n",
       "\t<tr><td>54</td><td>171 </td><td>  NA</td><td>Looks like a man</td></tr>\n",
       "\t<tr><td>32</td><td>168 </td><td>78.0</td><td>F               </td></tr>\n",
       "</tbody>\n",
       "</table>\n"
      ],
      "text/latex": [
       "A data.frame: 6 × 4\n",
       "\\begin{tabular}{llll}\n",
       " age & HEIGHT & width & gender\\\\\n",
       " <int> & <chr> & <dbl> & <chr>\\\\\n",
       "\\hline\n",
       "\t 23 & 185  & 85.7 & Male            \\\\\n",
       "\t 41 & 175  & 68.3 & M               \\\\\n",
       "\t 11 & 142* & 55.4 & Female          \\\\\n",
       "\t 12 & NA   & 48.2 & Man             \\\\\n",
       "\t 54 & 171  &   NA & Looks like a man\\\\\n",
       "\t 32 & 168  & 78.0 & F               \\\\\n",
       "\\end{tabular}\n"
      ],
      "text/markdown": [
       "\n",
       "A data.frame: 6 × 4\n",
       "\n",
       "| age &lt;int&gt; | HEIGHT &lt;chr&gt; | width &lt;dbl&gt; | gender &lt;chr&gt; |\n",
       "|---|---|---|---|\n",
       "| 23 | 185  | 85.7 | Male             |\n",
       "| 41 | 175  | 68.3 | M                |\n",
       "| 11 | 142* | 55.4 | Female           |\n",
       "| 12 | NA   | 48.2 | Man              |\n",
       "| 54 | 171  |   NA | Looks like a man |\n",
       "| 32 | 168  | 78.0 | F                |\n",
       "\n"
      ],
      "text/plain": [
       "  age HEIGHT width gender          \n",
       "1 23  185    85.7  Male            \n",
       "2 41  175    68.3  M               \n",
       "3 11  142*   55.4  Female          \n",
       "4 12  NA     48.2  Man             \n",
       "5 54  171      NA  Looks like a man\n",
       "6 32  168    78.0  F               "
      ]
     },
     "metadata": {},
     "output_type": "display_data"
    }
   ],
   "source": [
    "colnames(data) <- c(\"age\", \"height\", \"width\", \"gender\")\n",
    "data\n",
    "colnames(data)[2] <- \"HEIGHT\"\n",
    "data"
   ]
  },
  {
   "cell_type": "markdown",
   "metadata": {
    "cell_id": "d4ee40db447f436d97e950579930dfae",
    "deepnote_cell_height": 52.390625,
    "deepnote_cell_type": "markdown",
    "tags": []
   },
   "source": [
    "Також змінювати назви стовпців можна за допомогою функції `rename()` з пакету `dplyr`:"
   ]
  },
  {
   "cell_type": "code",
   "execution_count": 5,
   "metadata": {
    "cell_id": "1c9ee90a85f24140a0a2b08f2e5d4f6d",
    "deepnote_cell_height": 927.4375,
    "deepnote_cell_type": "code",
    "deepnote_output_heights": [
     443.3125,
     40.375
    ],
    "deepnote_to_be_reexecuted": true,
    "execution_millis": 293,
    "execution_start": 1650393120222,
    "source_hash": "dcf4aa68",
    "tags": [],
    "vscode": {
     "languageId": "r"
    }
   },
   "outputs": [
    {
     "name": "stderr",
     "output_type": "stream",
     "text": [
      "\n",
      "Attaching package: 'dplyr'\n",
      "\n",
      "\n",
      "The following objects are masked from 'package:stats':\n",
      "\n",
      "    filter, lag\n",
      "\n",
      "\n",
      "The following objects are masked from 'package:base':\n",
      "\n",
      "    intersect, setdiff, setequal, union\n",
      "\n",
      "\n"
     ]
    },
    {
     "data": {
      "text/html": [
       "<table class=\"dataframe\">\n",
       "<caption>A data.frame: 6 × 4</caption>\n",
       "<thead>\n",
       "\t<tr><th scope=col>AGE</th><th scope=col>HEIGHT</th><th scope=col>width</th><th scope=col>gender</th></tr>\n",
       "\t<tr><th scope=col>&lt;int&gt;</th><th scope=col>&lt;chr&gt;</th><th scope=col>&lt;dbl&gt;</th><th scope=col>&lt;chr&gt;</th></tr>\n",
       "</thead>\n",
       "<tbody>\n",
       "\t<tr><td>23</td><td>185 </td><td>85.7</td><td>Male            </td></tr>\n",
       "\t<tr><td>41</td><td>175 </td><td>68.3</td><td>M               </td></tr>\n",
       "\t<tr><td>11</td><td>142*</td><td>55.4</td><td>Female          </td></tr>\n",
       "\t<tr><td>12</td><td>NA  </td><td>48.2</td><td>Man             </td></tr>\n",
       "\t<tr><td>54</td><td>171 </td><td>  NA</td><td>Looks like a man</td></tr>\n",
       "\t<tr><td>32</td><td>168 </td><td>78.0</td><td>F               </td></tr>\n",
       "</tbody>\n",
       "</table>\n"
      ],
      "text/latex": [
       "A data.frame: 6 × 4\n",
       "\\begin{tabular}{llll}\n",
       " AGE & HEIGHT & width & gender\\\\\n",
       " <int> & <chr> & <dbl> & <chr>\\\\\n",
       "\\hline\n",
       "\t 23 & 185  & 85.7 & Male            \\\\\n",
       "\t 41 & 175  & 68.3 & M               \\\\\n",
       "\t 11 & 142* & 55.4 & Female          \\\\\n",
       "\t 12 & NA   & 48.2 & Man             \\\\\n",
       "\t 54 & 171  &   NA & Looks like a man\\\\\n",
       "\t 32 & 168  & 78.0 & F               \\\\\n",
       "\\end{tabular}\n"
      ],
      "text/markdown": [
       "\n",
       "A data.frame: 6 × 4\n",
       "\n",
       "| AGE &lt;int&gt; | HEIGHT &lt;chr&gt; | width &lt;dbl&gt; | gender &lt;chr&gt; |\n",
       "|---|---|---|---|\n",
       "| 23 | 185  | 85.7 | Male             |\n",
       "| 41 | 175  | 68.3 | M                |\n",
       "| 11 | 142* | 55.4 | Female           |\n",
       "| 12 | NA   | 48.2 | Man              |\n",
       "| 54 | 171  |   NA | Looks like a man |\n",
       "| 32 | 168  | 78.0 | F                |\n",
       "\n"
      ],
      "text/plain": [
       "  AGE HEIGHT width gender          \n",
       "1 23  185    85.7  Male            \n",
       "2 41  175    68.3  M               \n",
       "3 11  142*   55.4  Female          \n",
       "4 12  NA     48.2  Man             \n",
       "5 54  171      NA  Looks like a man\n",
       "6 32  168    78.0  F               "
      ]
     },
     "metadata": {},
     "output_type": "display_data"
    }
   ],
   "source": [
    "#install.packages(\"https://cran.r-project.org/src/contrib/Archive/rlang/rlang_1.0.1.tar.gz\", repo=NULL, type=\"source\")\n",
    "library(dplyr)\n",
    "\n",
    "data <- data |> rename(AGE = age) # %>%\n",
    "data"
   ]
  },
  {
   "cell_type": "markdown",
   "metadata": {},
   "source": [
    "---"
   ]
  },
  {
   "cell_type": "markdown",
   "metadata": {},
   "source": [
    "## 2.2. Заміна назв стовпців data.frame <a class=\"anchor\" id=\"id22\">"
   ]
  },
  {
   "cell_type": "markdown",
   "metadata": {},
   "source": [
    "Зчитаємо файл, що містить інформацію про осіб, але уже має іменовані стовтці: "
   ]
  },
  {
   "cell_type": "code",
   "execution_count": 6,
   "metadata": {
    "cell_id": "42a2ae637a1444e2b072683d12de972a",
    "deepnote_cell_height": 66,
    "deepnote_cell_type": "code",
    "tags": [],
    "vscode": {
     "languageId": "r"
    }
   },
   "outputs": [
    {
     "data": {
      "text/html": [
       "<table class=\"dataframe\">\n",
       "<caption>A data.frame: 13 × 5</caption>\n",
       "<thead>\n",
       "\t<tr><th scope=col>Person.Age</th><th scope=col>Person__Height</th><th scope=col>person.Weight</th><th scope=col>Person.Gender</th><th scope=col>empty</th></tr>\n",
       "\t<tr><th scope=col>&lt;int&gt;</th><th scope=col>&lt;chr&gt;</th><th scope=col>&lt;dbl&gt;</th><th scope=col>&lt;chr&gt;</th><th scope=col>&lt;lgl&gt;</th></tr>\n",
       "</thead>\n",
       "<tbody>\n",
       "\t<tr><td>23</td><td>185 </td><td>  NA</td><td>Male  </td><td>NA</td></tr>\n",
       "\t<tr><td>41</td><td>175 </td><td>68.3</td><td>   M  </td><td>NA</td></tr>\n",
       "\t<tr><td>11</td><td>142*</td><td>55.4</td><td>Female</td><td>NA</td></tr>\n",
       "\t<tr><td>12</td><td>NA  </td><td>48.2</td><td>Man   </td><td>NA</td></tr>\n",
       "\t<tr><td>54</td><td>191 </td><td>  NA</td><td>female</td><td>NA</td></tr>\n",
       "\t<tr><td>32</td><td>168 </td><td>78.0</td><td>F     </td><td>NA</td></tr>\n",
       "\t<tr><td>22</td><td>NA  </td><td>54.0</td><td>male. </td><td>NA</td></tr>\n",
       "\t<tr><td>21</td><td>165 </td><td>  NA</td><td>m     </td><td>NA</td></tr>\n",
       "\t<tr><td>14</td><td>NA  </td><td>90.2</td><td>Man   </td><td>NA</td></tr>\n",
       "\t<tr><td>51</td><td>250 </td><td>  NA</td><td>female</td><td>NA</td></tr>\n",
       "\t<tr><td>41</td><td>20  </td><td>81.0</td><td>F     </td><td>NA</td></tr>\n",
       "\t<tr><td>66</td><td>NA  </td><td>59.0</td><td>male. </td><td>NA</td></tr>\n",
       "\t<tr><td>71</td><td>171 </td><td>  NA</td><td>m     </td><td>NA</td></tr>\n",
       "</tbody>\n",
       "</table>\n"
      ],
      "text/latex": [
       "A data.frame: 13 × 5\n",
       "\\begin{tabular}{lllll}\n",
       " Person.Age & Person\\_\\_Height & person.Weight & Person.Gender & empty\\\\\n",
       " <int> & <chr> & <dbl> & <chr> & <lgl>\\\\\n",
       "\\hline\n",
       "\t 23 & 185  &   NA & Male   & NA\\\\\n",
       "\t 41 & 175  & 68.3 &    M   & NA\\\\\n",
       "\t 11 & 142* & 55.4 & Female & NA\\\\\n",
       "\t 12 & NA   & 48.2 & Man    & NA\\\\\n",
       "\t 54 & 191  &   NA & female & NA\\\\\n",
       "\t 32 & 168  & 78.0 & F      & NA\\\\\n",
       "\t 22 & NA   & 54.0 & male.  & NA\\\\\n",
       "\t 21 & 165  &   NA & m      & NA\\\\\n",
       "\t 14 & NA   & 90.2 & Man    & NA\\\\\n",
       "\t 51 & 250  &   NA & female & NA\\\\\n",
       "\t 41 & 20   & 81.0 & F      & NA\\\\\n",
       "\t 66 & NA   & 59.0 & male.  & NA\\\\\n",
       "\t 71 & 171  &   NA & m      & NA\\\\\n",
       "\\end{tabular}\n"
      ],
      "text/markdown": [
       "\n",
       "A data.frame: 13 × 5\n",
       "\n",
       "| Person.Age &lt;int&gt; | Person__Height &lt;chr&gt; | person.Weight &lt;dbl&gt; | Person.Gender &lt;chr&gt; | empty &lt;lgl&gt; |\n",
       "|---|---|---|---|---|\n",
       "| 23 | 185  |   NA | Male   | NA |\n",
       "| 41 | 175  | 68.3 |    M   | NA |\n",
       "| 11 | 142* | 55.4 | Female | NA |\n",
       "| 12 | NA   | 48.2 | Man    | NA |\n",
       "| 54 | 191  |   NA | female | NA |\n",
       "| 32 | 168  | 78.0 | F      | NA |\n",
       "| 22 | NA   | 54.0 | male.  | NA |\n",
       "| 21 | 165  |   NA | m      | NA |\n",
       "| 14 | NA   | 90.2 | Man    | NA |\n",
       "| 51 | 250  |   NA | female | NA |\n",
       "| 41 | 20   | 81.0 | F      | NA |\n",
       "| 66 | NA   | 59.0 | male.  | NA |\n",
       "| 71 | 171  |   NA | m      | NA |\n",
       "\n"
      ],
      "text/plain": [
       "   Person.Age Person__Height person.Weight Person.Gender empty\n",
       "1  23         185              NA          Male          NA   \n",
       "2  41         175            68.3             M          NA   \n",
       "3  11         142*           55.4          Female        NA   \n",
       "4  12         NA             48.2          Man           NA   \n",
       "5  54         191              NA          female        NA   \n",
       "6  32         168            78.0          F             NA   \n",
       "7  22         NA             54.0          male.         NA   \n",
       "8  21         165              NA          m             NA   \n",
       "9  14         NA             90.2          Man           NA   \n",
       "10 51         250              NA          female        NA   \n",
       "11 41         20             81.0          F             NA   \n",
       "12 66         NA             59.0          male.         NA   \n",
       "13 71         171              NA          m             NA   "
      ]
     },
     "metadata": {},
     "output_type": "display_data"
    }
   ],
   "source": [
    "data <- read.csv(\"data/badtitled.txt\")\n",
    "data"
   ]
  },
  {
   "cell_type": "markdown",
   "metadata": {},
   "source": [
    "Швидко змінити назви стовпців та привести їх до однакового стилю можна за домогою бібліотеки `janitor`:"
   ]
  },
  {
   "cell_type": "code",
   "execution_count": 7,
   "metadata": {},
   "outputs": [
    {
     "name": "stderr",
     "output_type": "stream",
     "text": [
      "Warning message:\n",
      "\"package 'janitor' was built under R version 4.1.3\"\n",
      "\n",
      "Attaching package: 'janitor'\n",
      "\n",
      "\n",
      "The following objects are masked from 'package:stats':\n",
      "\n",
      "    chisq.test, fisher.test\n",
      "\n",
      "\n"
     ]
    },
    {
     "data": {
      "text/html": [
       "<style>\n",
       ".list-inline {list-style: none; margin:0; padding: 0}\n",
       ".list-inline>li {display: inline-block}\n",
       ".list-inline>li:not(:last-child)::after {content: \"\\00b7\"; padding: 0 .5ex}\n",
       "</style>\n",
       "<ol class=list-inline><li>'person_age'</li><li>'person_height'</li><li>'person_weight'</li><li>'person_gender'</li><li>'empty'</li></ol>\n"
      ],
      "text/latex": [
       "\\begin{enumerate*}\n",
       "\\item 'person\\_age'\n",
       "\\item 'person\\_height'\n",
       "\\item 'person\\_weight'\n",
       "\\item 'person\\_gender'\n",
       "\\item 'empty'\n",
       "\\end{enumerate*}\n"
      ],
      "text/markdown": [
       "1. 'person_age'\n",
       "2. 'person_height'\n",
       "3. 'person_weight'\n",
       "4. 'person_gender'\n",
       "5. 'empty'\n",
       "\n",
       "\n"
      ],
      "text/plain": [
       "[1] \"person_age\"    \"person_height\" \"person_weight\" \"person_gender\"\n",
       "[5] \"empty\"        "
      ]
     },
     "metadata": {},
     "output_type": "display_data"
    }
   ],
   "source": [
    "#install.packages(\"janitor\")\n",
    "library(janitor)\n",
    "clean <- clean_names(data)\n",
    "colnames(clean)"
   ]
  },
  {
   "cell_type": "markdown",
   "metadata": {
    "cell_id": "c6c2c5f47ff44631ac51f21263f2a230",
    "deepnote_cell_height": 46,
    "deepnote_cell_type": "markdown",
    "tags": []
   },
   "source": [
    "---"
   ]
  },
  {
   "cell_type": "markdown",
   "metadata": {
    "tags": []
   },
   "source": [
    "## 2.3. Підготовка та очистка текстової інформації"
   ]
  },
  {
   "cell_type": "markdown",
   "metadata": {},
   "source": [
    "Зчитаємо інформацію про стать з попереднього прикладу:"
   ]
  },
  {
   "cell_type": "code",
   "execution_count": 8,
   "metadata": {},
   "outputs": [
    {
     "data": {
      "text/html": [
       "<table class=\"dataframe\">\n",
       "<caption>A data.frame: 13 × 1</caption>\n",
       "<thead>\n",
       "\t<tr><th scope=col>gender</th></tr>\n",
       "\t<tr><th scope=col>&lt;chr&gt;</th></tr>\n",
       "</thead>\n",
       "<tbody>\n",
       "\t<tr><td>Male  </td></tr>\n",
       "\t<tr><td>   M  </td></tr>\n",
       "\t<tr><td>Female</td></tr>\n",
       "\t<tr><td>Man   </td></tr>\n",
       "\t<tr><td>female</td></tr>\n",
       "\t<tr><td>F     </td></tr>\n",
       "\t<tr><td>male. </td></tr>\n",
       "\t<tr><td>m     </td></tr>\n",
       "\t<tr><td>Man   </td></tr>\n",
       "\t<tr><td>female</td></tr>\n",
       "\t<tr><td>F     </td></tr>\n",
       "\t<tr><td>male. </td></tr>\n",
       "\t<tr><td>m     </td></tr>\n",
       "</tbody>\n",
       "</table>\n"
      ],
      "text/latex": [
       "A data.frame: 13 × 1\n",
       "\\begin{tabular}{l}\n",
       " gender\\\\\n",
       " <chr>\\\\\n",
       "\\hline\n",
       "\t Male  \\\\\n",
       "\t    M  \\\\\n",
       "\t Female\\\\\n",
       "\t Man   \\\\\n",
       "\t female\\\\\n",
       "\t F     \\\\\n",
       "\t male. \\\\\n",
       "\t m     \\\\\n",
       "\t Man   \\\\\n",
       "\t female\\\\\n",
       "\t F     \\\\\n",
       "\t male. \\\\\n",
       "\t m     \\\\\n",
       "\\end{tabular}\n"
      ],
      "text/markdown": [
       "\n",
       "A data.frame: 13 × 1\n",
       "\n",
       "| gender &lt;chr&gt; |\n",
       "|---|\n",
       "| Male   |\n",
       "|    M   |\n",
       "| Female |\n",
       "| Man    |\n",
       "| female |\n",
       "| F      |\n",
       "| male.  |\n",
       "| m      |\n",
       "| Man    |\n",
       "| female |\n",
       "| F      |\n",
       "| male.  |\n",
       "| m      |\n",
       "\n"
      ],
      "text/plain": [
       "   gender\n",
       "1  Male  \n",
       "2     M  \n",
       "3  Female\n",
       "4  Man   \n",
       "5  female\n",
       "6  F     \n",
       "7  male. \n",
       "8  m     \n",
       "9  Man   \n",
       "10 female\n",
       "11 F     \n",
       "12 male. \n",
       "13 m     "
      ]
     },
     "metadata": {},
     "output_type": "display_data"
    }
   ],
   "source": [
    "data <- read.csv(\"data/badtitled.txt\")\n",
    "data <- clean_names(data)\n",
    "data <- as.data.frame(data$person_gender)\n",
    "colnames(data) <- c(\"gender\")\n",
    "data"
   ]
  },
  {
   "cell_type": "markdown",
   "metadata": {},
   "source": [
    "Схоже, що ці дані насправді мають всього 2 записи, проте у базу даних їх вносили різні люди або вони були зібрані з різних джерел інформації. Це досить поширена проблема у роботі з даними. Особливо коли відбуваєть заміна людей на рочих місцях або перехід на інше програмне забезпечення."
   ]
  },
  {
   "cell_type": "markdown",
   "metadata": {},
   "source": [
    "Якщо це буде розглядатися як факторна змінна без будь-якої попередньої обробки, очевидно, що 8, а не 2 класи будуть збережені. Тому завдання полягає в тому, щоб автоматично розпізнавати наведені вище дані про те, чи відноситься кожен елемент до чоловічої чи жіночої статі. У статистичних контекстах класифікацію таких\n",
    "\"безладні\" текстові рядки в ряд фіксованих категорій часто називають кодуванням.\n",
    "\n",
    "Опишемо два взаємодоповнюючих підходи до кодування рядків: `нормалізація` (`string normalization`) рядків і аналіз схожості тексту (`approximate text matching`).\n",
    "\n",
    "Розглянемо наступні підходи до очистки текстових даних:\n",
    "\n",
    "    – [x] Видалення пробілів на початку або в кінці\n",
    "    – [x] Обрізання/збільшення рядків до певної ширини\n",
    "    – [x] Перетворення у верхній/нижній регістр.\n",
    "    – [x] Пошук рядків, що містять прості шаблони (підрядки).\n",
    "    – [x] Апроксимація рядків на основі \"відстаней\"."
   ]
  },
  {
   "cell_type": "markdown",
   "metadata": {},
   "source": [
    "Робота з текстом у `R` здійснюється за допомогою пакету `stringr`."
   ]
  },
  {
   "cell_type": "markdown",
   "metadata": {},
   "source": [
    "**Видалення пробілів на початку або в кінці** здійснюється за допомогою функції `str_trim()`."
   ]
  },
  {
   "cell_type": "code",
   "execution_count": 9,
   "metadata": {},
   "outputs": [
    {
     "data": {
      "text/html": [
       "'ostroh academy'"
      ],
      "text/latex": [
       "'ostroh academy'"
      ],
      "text/markdown": [
       "'ostroh academy'"
      ],
      "text/plain": [
       "[1] \"ostroh academy\""
      ]
     },
     "metadata": {},
     "output_type": "display_data"
    },
    {
     "data": {
      "text/html": [
       "'ostroh academy '"
      ],
      "text/latex": [
       "'ostroh academy '"
      ],
      "text/markdown": [
       "'ostroh academy '"
      ],
      "text/plain": [
       "[1] \"ostroh academy \""
      ]
     },
     "metadata": {},
     "output_type": "display_data"
    },
    {
     "data": {
      "text/html": [
       "' ostroh academy'"
      ],
      "text/latex": [
       "' ostroh academy'"
      ],
      "text/markdown": [
       "' ostroh academy'"
      ],
      "text/plain": [
       "[1] \" ostroh academy\""
      ]
     },
     "metadata": {},
     "output_type": "display_data"
    }
   ],
   "source": [
    "library(stringr)\n",
    "str_trim(\" ostroh academy  \")\n",
    "str_trim(\" ostroh academy \", side = \"left\")\n",
    "str_trim(\" ostroh academy \", side = \"right\")"
   ]
  },
  {
   "cell_type": "markdown",
   "metadata": {},
   "source": [
    "**Обрізання/збільшення рядків до певної ширини** здійснюється за допомогою функції `str_pad()`."
   ]
  },
  {
   "cell_type": "code",
   "execution_count": 10,
   "metadata": {},
   "outputs": [
    {
     "data": {
      "text/html": [
       "'000057'"
      ],
      "text/latex": [
       "'000057'"
      ],
      "text/markdown": [
       "'000057'"
      ],
      "text/plain": [
       "[1] \"000057\""
      ]
     },
     "metadata": {},
     "output_type": "display_data"
    }
   ],
   "source": [
    "str_pad(57, width = 6, side = \"left\", pad = 0)"
   ]
  },
  {
   "cell_type": "code",
   "execution_count": 11,
   "metadata": {},
   "outputs": [
    {
     "data": {
      "text/html": [
       "'ostroh____'"
      ],
      "text/latex": [
       "'ostroh\\_\\_\\_\\_'"
      ],
      "text/markdown": [
       "'ostroh____'"
      ],
      "text/plain": [
       "[1] \"ostroh____\""
      ]
     },
     "metadata": {},
     "output_type": "display_data"
    }
   ],
   "source": [
    "str_pad(\"ostroh\", width = 10, side = \"right\", pad = \"_\")"
   ]
  },
  {
   "cell_type": "markdown",
   "metadata": {},
   "source": [
    "**Перетворення у верхній/нижній регістр**"
   ]
  },
  {
   "cell_type": "code",
   "execution_count": 12,
   "metadata": {},
   "outputs": [
    {
     "data": {
      "text/html": [
       "'OSTROH ACADEMY!'"
      ],
      "text/latex": [
       "'OSTROH ACADEMY!'"
      ],
      "text/markdown": [
       "'OSTROH ACADEMY!'"
      ],
      "text/plain": [
       "[1] \"OSTROH ACADEMY!\""
      ]
     },
     "metadata": {},
     "output_type": "display_data"
    },
    {
     "data": {
      "text/html": [
       "'ostroh academy!'"
      ],
      "text/latex": [
       "'ostroh academy!'"
      ],
      "text/markdown": [
       "'ostroh academy!'"
      ],
      "text/plain": [
       "[1] \"ostroh academy!\""
      ]
     },
     "metadata": {},
     "output_type": "display_data"
    }
   ],
   "source": [
    "text <- \"Ostroh Academy!\"\n",
    "toupper(text)\n",
    "tolower(text)"
   ]
  },
  {
   "cell_type": "markdown",
   "metadata": {},
   "source": [
    "**Пошук рядків, що містять прості шаблони (підрядки)**"
   ]
  },
  {
   "cell_type": "markdown",
   "metadata": {},
   "source": [
    "Скористаємося функцієя `grep()` та `grepl()` для пошуку підрядків у інформації про стать:"
   ]
  },
  {
   "cell_type": "code",
   "execution_count": 13,
   "metadata": {},
   "outputs": [
    {
     "name": "stderr",
     "output_type": "stream",
     "text": [
      "Your code contains a unicode char which cannot be displayed in your\n",
      "current locale and R will silently convert it to an escaped form when the\n",
      "R kernel executes this code. This can lead to subtle errors if you use\n",
      "such chars to do comparisons. For more information, please see\n",
      "https://github.com/IRkernel/repr/wiki/Problems-with-unicode-on-windows"
     ]
    },
    {
     "data": {
      "text/html": [
       "<style>\n",
       ".list-inline {list-style: none; margin:0; padding: 0}\n",
       ".list-inline>li {display: inline-block}\n",
       ".list-inline>li:not(:last-child)::after {content: \"\\00b7\"; padding: 0 .5ex}\n",
       "</style>\n",
       "<ol class=list-inline><li>FALSE</li><li>FALSE</li><li>TRUE</li><li>FALSE</li><li>TRUE</li><li>FALSE</li><li>TRUE</li><li>TRUE</li><li>FALSE</li><li>TRUE</li><li>FALSE</li><li>TRUE</li><li>TRUE</li></ol>\n"
      ],
      "text/latex": [
       "\\begin{enumerate*}\n",
       "\\item FALSE\n",
       "\\item FALSE\n",
       "\\item TRUE\n",
       "\\item FALSE\n",
       "\\item TRUE\n",
       "\\item FALSE\n",
       "\\item TRUE\n",
       "\\item TRUE\n",
       "\\item FALSE\n",
       "\\item TRUE\n",
       "\\item FALSE\n",
       "\\item TRUE\n",
       "\\item TRUE\n",
       "\\end{enumerate*}\n"
      ],
      "text/markdown": [
       "1. FALSE\n",
       "2. FALSE\n",
       "3. TRUE\n",
       "4. FALSE\n",
       "5. TRUE\n",
       "6. FALSE\n",
       "7. TRUE\n",
       "8. TRUE\n",
       "9. FALSE\n",
       "10. TRUE\n",
       "11. FALSE\n",
       "12. TRUE\n",
       "13. TRUE\n",
       "\n",
       "\n"
      ],
      "text/plain": [
       " [1] FALSE FALSE  TRUE FALSE  TRUE FALSE  TRUE  TRUE FALSE  TRUE FALSE  TRUE\n",
       "[13]  TRUE"
      ]
     },
     "metadata": {},
     "output_type": "display_data"
    },
    {
     "data": {
      "text/html": [
       "<style>\n",
       ".list-inline {list-style: none; margin:0; padding: 0}\n",
       ".list-inline>li {display: inline-block}\n",
       ".list-inline>li:not(:last-child)::after {content: \"\\00b7\"; padding: 0 .5ex}\n",
       "</style>\n",
       "<ol class=list-inline><li>3</li><li>5</li><li>7</li><li>8</li><li>10</li><li>12</li><li>13</li></ol>\n"
      ],
      "text/latex": [
       "\\begin{enumerate*}\n",
       "\\item 3\n",
       "\\item 5\n",
       "\\item 7\n",
       "\\item 8\n",
       "\\item 10\n",
       "\\item 12\n",
       "\\item 13\n",
       "\\end{enumerate*}\n"
      ],
      "text/markdown": [
       "1. 3\n",
       "2. 5\n",
       "3. 7\n",
       "4. 8\n",
       "5. 10\n",
       "6. 12\n",
       "7. 13\n",
       "\n",
       "\n"
      ],
      "text/plain": [
       "[1]  3  5  7  8 10 12 13"
      ]
     },
     "metadata": {},
     "output_type": "display_data"
    }
   ],
   "source": [
    "grepl(\"m\", data$gender) # Повертає TRUE/FALSE, якщо знахоить входження рядка\n",
    "grep(\"m\", data$gender) # Повертає номери рядків, по яких є входження"
   ]
  },
  {
   "cell_type": "code",
   "execution_count": 14,
   "metadata": {},
   "outputs": [
    {
     "name": "stderr",
     "output_type": "stream",
     "text": [
      "Your code contains a unicode char which cannot be displayed in your\n",
      "current locale and R will silently convert it to an escaped form when the\n",
      "R kernel executes this code. This can lead to subtle errors if you use\n",
      "such chars to do comparisons. For more information, please see\n",
      "https://github.com/IRkernel/repr/wiki/Problems-with-unicode-on-windows"
     ]
    },
    {
     "data": {
      "text/html": [
       "<style>\n",
       ".list-inline {list-style: none; margin:0; padding: 0}\n",
       ".list-inline>li {display: inline-block}\n",
       ".list-inline>li:not(:last-child)::after {content: \"\\00b7\"; padding: 0 .5ex}\n",
       "</style>\n",
       "<ol class=list-inline><li>TRUE</li><li>TRUE</li><li>TRUE</li><li>TRUE</li><li>TRUE</li><li>FALSE</li><li>TRUE</li><li>TRUE</li><li>TRUE</li><li>TRUE</li><li>FALSE</li><li>TRUE</li><li>TRUE</li></ol>\n"
      ],
      "text/latex": [
       "\\begin{enumerate*}\n",
       "\\item TRUE\n",
       "\\item TRUE\n",
       "\\item TRUE\n",
       "\\item TRUE\n",
       "\\item TRUE\n",
       "\\item FALSE\n",
       "\\item TRUE\n",
       "\\item TRUE\n",
       "\\item TRUE\n",
       "\\item TRUE\n",
       "\\item FALSE\n",
       "\\item TRUE\n",
       "\\item TRUE\n",
       "\\end{enumerate*}\n"
      ],
      "text/markdown": [
       "1. TRUE\n",
       "2. TRUE\n",
       "3. TRUE\n",
       "4. TRUE\n",
       "5. TRUE\n",
       "6. FALSE\n",
       "7. TRUE\n",
       "8. TRUE\n",
       "9. TRUE\n",
       "10. TRUE\n",
       "11. FALSE\n",
       "12. TRUE\n",
       "13. TRUE\n",
       "\n",
       "\n"
      ],
      "text/plain": [
       " [1]  TRUE  TRUE  TRUE  TRUE  TRUE FALSE  TRUE  TRUE  TRUE  TRUE FALSE  TRUE\n",
       "[13]  TRUE"
      ]
     },
     "metadata": {},
     "output_type": "display_data"
    },
    {
     "data": {
      "text/html": [
       "<style>\n",
       ".list-inline {list-style: none; margin:0; padding: 0}\n",
       ".list-inline>li {display: inline-block}\n",
       ".list-inline>li:not(:last-child)::after {content: \"\\00b7\"; padding: 0 .5ex}\n",
       "</style>\n",
       "<ol class=list-inline><li>TRUE</li><li>TRUE</li><li>TRUE</li><li>TRUE</li><li>TRUE</li><li>FALSE</li><li>TRUE</li><li>TRUE</li><li>TRUE</li><li>TRUE</li><li>FALSE</li><li>TRUE</li><li>TRUE</li></ol>\n"
      ],
      "text/latex": [
       "\\begin{enumerate*}\n",
       "\\item TRUE\n",
       "\\item TRUE\n",
       "\\item TRUE\n",
       "\\item TRUE\n",
       "\\item TRUE\n",
       "\\item FALSE\n",
       "\\item TRUE\n",
       "\\item TRUE\n",
       "\\item TRUE\n",
       "\\item TRUE\n",
       "\\item FALSE\n",
       "\\item TRUE\n",
       "\\item TRUE\n",
       "\\end{enumerate*}\n"
      ],
      "text/markdown": [
       "1. TRUE\n",
       "2. TRUE\n",
       "3. TRUE\n",
       "4. TRUE\n",
       "5. TRUE\n",
       "6. FALSE\n",
       "7. TRUE\n",
       "8. TRUE\n",
       "9. TRUE\n",
       "10. TRUE\n",
       "11. FALSE\n",
       "12. TRUE\n",
       "13. TRUE\n",
       "\n",
       "\n"
      ],
      "text/plain": [
       " [1]  TRUE  TRUE  TRUE  TRUE  TRUE FALSE  TRUE  TRUE  TRUE  TRUE FALSE  TRUE\n",
       "[13]  TRUE"
      ]
     },
     "metadata": {},
     "output_type": "display_data"
    }
   ],
   "source": [
    "grepl(\"m\", data$gender, ignore.case = TRUE) # не враховує регістр букв\n",
    "grepl(\"m\", tolower(data$gender))"
   ]
  },
  {
   "cell_type": "code",
   "execution_count": 15,
   "metadata": {},
   "outputs": [
    {
     "name": "stderr",
     "output_type": "stream",
     "text": [
      "Your code contains a unicode char which cannot be displayed in your\n",
      "current locale and R will silently convert it to an escaped form when the\n",
      "R kernel executes this code. This can lead to subtle errors if you use\n",
      "such chars to do comparisons. For more information, please see\n",
      "https://github.com/IRkernel/repr/wiki/Problems-with-unicode-on-windows"
     ]
    },
    {
     "data": {
      "text/html": [
       "<style>\n",
       ".list-inline {list-style: none; margin:0; padding: 0}\n",
       ".list-inline>li {display: inline-block}\n",
       ".list-inline>li:not(:last-child)::after {content: \"\\00b7\"; padding: 0 .5ex}\n",
       "</style>\n",
       "<ol class=list-inline><li>'Male'</li><li><span style=white-space:pre-wrap>'   M'</span></li><li>'Female'</li><li>'Man'</li><li>'female'</li><li><span style=white-space:pre-wrap>'F    '</span></li><li>'male.'</li><li>'m'</li><li>'Man'</li><li>'female'</li><li><span style=white-space:pre-wrap>'F    '</span></li><li>'male.'</li><li>'m'</li></ol>\n"
      ],
      "text/latex": [
       "\\begin{enumerate*}\n",
       "\\item 'Male'\n",
       "\\item '   M'\n",
       "\\item 'Female'\n",
       "\\item 'Man'\n",
       "\\item 'female'\n",
       "\\item 'F    '\n",
       "\\item 'male.'\n",
       "\\item 'm'\n",
       "\\item 'Man'\n",
       "\\item 'female'\n",
       "\\item 'F    '\n",
       "\\item 'male.'\n",
       "\\item 'm'\n",
       "\\end{enumerate*}\n"
      ],
      "text/markdown": [
       "1. 'Male'\n",
       "2. <span style=white-space:pre-wrap>'   M'</span>\n",
       "3. 'Female'\n",
       "4. 'Man'\n",
       "5. 'female'\n",
       "6. <span style=white-space:pre-wrap>'F    '</span>\n",
       "7. 'male.'\n",
       "8. 'm'\n",
       "9. 'Man'\n",
       "10. 'female'\n",
       "11. <span style=white-space:pre-wrap>'F    '</span>\n",
       "12. 'male.'\n",
       "13. 'm'\n",
       "\n",
       "\n"
      ],
      "text/plain": [
       " [1] \"Male\"   \"   M\"   \"Female\" \"Man\"    \"female\" \"F    \"  \"male.\"  \"m\"     \n",
       " [9] \"Man\"    \"female\" \"F    \"  \"male.\"  \"m\"     "
      ]
     },
     "metadata": {},
     "output_type": "display_data"
    },
    {
     "data": {
      "text/html": [
       "<style>\n",
       ".list-inline {list-style: none; margin:0; padding: 0}\n",
       ".list-inline>li {display: inline-block}\n",
       ".list-inline>li:not(:last-child)::after {content: \"\\00b7\"; padding: 0 .5ex}\n",
       "</style>\n",
       "<ol class=list-inline><li>TRUE</li><li>FALSE</li><li>FALSE</li><li>TRUE</li><li>FALSE</li><li>FALSE</li><li>TRUE</li><li>TRUE</li><li>TRUE</li><li>FALSE</li><li>FALSE</li><li>TRUE</li><li>TRUE</li></ol>\n"
      ],
      "text/latex": [
       "\\begin{enumerate*}\n",
       "\\item TRUE\n",
       "\\item FALSE\n",
       "\\item FALSE\n",
       "\\item TRUE\n",
       "\\item FALSE\n",
       "\\item FALSE\n",
       "\\item TRUE\n",
       "\\item TRUE\n",
       "\\item TRUE\n",
       "\\item FALSE\n",
       "\\item FALSE\n",
       "\\item TRUE\n",
       "\\item TRUE\n",
       "\\end{enumerate*}\n"
      ],
      "text/markdown": [
       "1. TRUE\n",
       "2. FALSE\n",
       "3. FALSE\n",
       "4. TRUE\n",
       "5. FALSE\n",
       "6. FALSE\n",
       "7. TRUE\n",
       "8. TRUE\n",
       "9. TRUE\n",
       "10. FALSE\n",
       "11. FALSE\n",
       "12. TRUE\n",
       "13. TRUE\n",
       "\n",
       "\n"
      ],
      "text/plain": [
       " [1]  TRUE FALSE FALSE  TRUE FALSE FALSE  TRUE  TRUE  TRUE FALSE FALSE  TRUE\n",
       "[13]  TRUE"
      ]
     },
     "metadata": {},
     "output_type": "display_data"
    }
   ],
   "source": [
    "data$gender\n",
    "grepl(\"^m\", data$gender, ignore.case = TRUE) # Показує усі збіги, що починаються з вказаної літери"
   ]
  },
  {
   "cell_type": "markdown",
   "metadata": {},
   "source": [
    "**Пошук \"відстані\" між ряжками** - це аналіз рядків на схожіть з визначенням рівня співпадінь."
   ]
  },
  {
   "cell_type": "code",
   "execution_count": 16,
   "metadata": {},
   "outputs": [
    {
     "data": {
      "text/html": [
       "<table class=\"dataframe\">\n",
       "<caption>A matrix: 1 × 1 of type dbl</caption>\n",
       "<tbody>\n",
       "\t<tr><td>0</td></tr>\n",
       "</tbody>\n",
       "</table>\n"
      ],
      "text/latex": [
       "A matrix: 1 × 1 of type dbl\n",
       "\\begin{tabular}{l}\n",
       "\t 0\\\\\n",
       "\\end{tabular}\n"
      ],
      "text/markdown": [
       "\n",
       "A matrix: 1 × 1 of type dbl\n",
       "\n",
       "| 0 |\n",
       "\n"
      ],
      "text/plain": [
       "     [,1]\n",
       "[1,] 0   "
      ]
     },
     "metadata": {},
     "output_type": "display_data"
    },
    {
     "data": {
      "text/html": [
       "<table class=\"dataframe\">\n",
       "<caption>A matrix: 1 × 1 of type dbl</caption>\n",
       "<tbody>\n",
       "\t<tr><td>2</td></tr>\n",
       "</tbody>\n",
       "</table>\n"
      ],
      "text/latex": [
       "A matrix: 1 × 1 of type dbl\n",
       "\\begin{tabular}{l}\n",
       "\t 2\\\\\n",
       "\\end{tabular}\n"
      ],
      "text/markdown": [
       "\n",
       "A matrix: 1 × 1 of type dbl\n",
       "\n",
       "| 2 |\n",
       "\n"
      ],
      "text/plain": [
       "     [,1]\n",
       "[1,] 2   "
      ]
     },
     "metadata": {},
     "output_type": "display_data"
    },
    {
     "data": {
      "text/html": [
       "<table class=\"dataframe\">\n",
       "<caption>A matrix: 1 × 1 of type dbl</caption>\n",
       "<tbody>\n",
       "\t<tr><td>4</td></tr>\n",
       "</tbody>\n",
       "</table>\n"
      ],
      "text/latex": [
       "A matrix: 1 × 1 of type dbl\n",
       "\\begin{tabular}{l}\n",
       "\t 4\\\\\n",
       "\\end{tabular}\n"
      ],
      "text/markdown": [
       "\n",
       "A matrix: 1 × 1 of type dbl\n",
       "\n",
       "| 4 |\n",
       "\n"
      ],
      "text/plain": [
       "     [,1]\n",
       "[1,] 4   "
      ]
     },
     "metadata": {},
     "output_type": "display_data"
    }
   ],
   "source": [
    "adist(\"ao\", \"ao\")\n",
    "adist(\"ao\", \"oa\")\n",
    "adist(\"ao\", \"45fb\")"
   ]
  },
  {
   "cell_type": "markdown",
   "metadata": {},
   "source": [
    "Давайте проаналізуємо інформацію про стать з точки зору схожості текстів:"
   ]
  },
  {
   "cell_type": "raw",
   "metadata": {},
   "source": []
  },
  {
   "cell_type": "code",
   "execution_count": 17,
   "metadata": {},
   "outputs": [
    {
     "ename": "ERROR",
     "evalue": "Error in colnames(adj_m) <- m: object 'adj_m' not found\n",
     "output_type": "error",
     "traceback": [
      "Error in colnames(adj_m) <- m: object 'adj_m' not found\nTraceback:\n"
     ]
    }
   ],
   "source": [
    "m <- c(\"male\", \"female\")\n",
    "#adj_m <- adist(data$gender, m)\n",
    "#adj_m <- adist(tolower(data$gender), m)\n",
    "#adj_m <- adist(str_trim(tolower(data$gender), side=\"both\"), m)\n",
    "colnames(adj_m) <- m \n",
    "rownames(adj_m) <- data$gender\n",
    "adj_m"
   ]
  },
  {
   "cell_type": "code",
   "execution_count": null,
   "metadata": {},
   "outputs": [],
   "source": [
    "# Видалимо повтори\n",
    "adj_m |> as.data.frame() |> dplyr::distinct()"
   ]
  },
  {
   "cell_type": "markdown",
   "metadata": {},
   "source": [
    "Примінимо інформацію про відстані до \"нечистих\" даних про стать:"
   ]
  },
  {
   "cell_type": "code",
   "execution_count": null,
   "metadata": {},
   "outputs": [],
   "source": [
    "nums <- apply(adj_m, 1, which.min) # Знайдемо найближчі значення\n",
    "nums"
   ]
  },
  {
   "cell_type": "code",
   "execution_count": null,
   "metadata": {},
   "outputs": [],
   "source": [
    "data.frame(initial = data$gender, coded = m[nums]) # FFFFFFFFFFFFFF - проблема!"
   ]
  },
  {
   "cell_type": "markdown",
   "metadata": {},
   "source": [
    "Як альтернативу для знаходження відстаней між рядками можна використовувати функції з бібліотеки `stringdist`."
   ]
  },
  {
   "cell_type": "code",
   "execution_count": null,
   "metadata": {},
   "outputs": [],
   "source": [
    "#install.packages(\"stringdist\")\n",
    "library(stringdist)\n",
    "adist(\"ao\", \"oa\")\n",
    "stringdist(\"oa\", \"ao\") # 1, а було 2"
   ]
  },
  {
   "cell_type": "markdown",
   "metadata": {},
   "source": [
    "Спробуємо \"очистити\" дані, які ми отримали з допомогою функції `amatch()`:"
   ]
  },
  {
   "cell_type": "code",
   "execution_count": null,
   "metadata": {},
   "outputs": [],
   "source": [
    "nums <- amatch(data$gender,  c(\"male\", \"female\"), maxDist = 4) # Знайдемо найближчі значення\n",
    "nums"
   ]
  },
  {
   "cell_type": "code",
   "execution_count": null,
   "metadata": {},
   "outputs": [],
   "source": [
    "data.frame(initial = data$gender, coded = m[nums]) # FFFFFFFFFFFFFF - проблема!"
   ]
  },
  {
   "cell_type": "code",
   "execution_count": null,
   "metadata": {},
   "outputs": [],
   "source": [
    "data <- data |> mutate(gender = ifelse(gender == \"F\", \"female\", gender)) # ????? # Space\n",
    "data\n",
    "data <- data |> mutate(gender = ifelse(str_trim(gender) == \"F\", \"female\", gender))\n",
    "data\n",
    "nums <- amatch(data$gender,  c(\"male\", \"female\"), maxDist = 4)\n",
    "data.frame(initial = data$gender, coded = m[nums]) "
   ]
  },
  {
   "cell_type": "markdown",
   "metadata": {},
   "source": [
    "Місія виконана! Замінимо та збережемо інформацію у файл для майбутніх експериментів по цій темі:"
   ]
  },
  {
   "cell_type": "code",
   "execution_count": null,
   "metadata": {},
   "outputs": [],
   "source": [
    "data <- read.csv(\"data/badtitled.txt\")\n",
    "data <- clean_names(data)\n",
    "head(data,2)"
   ]
  },
  {
   "cell_type": "code",
   "execution_count": null,
   "metadata": {},
   "outputs": [],
   "source": [
    "data <- data |> mutate(person_gender = ifelse(str_trim(person_gender) == \"F\", \"female\", person_gender))\n",
    "m <- c(\"male\", \"female\")\n",
    "nums <- amatch(data$person_gender, m, maxDist = 4)\n",
    "data <- data |> mutate(person_gender = m[nums])\n",
    "data"
   ]
  },
  {
   "cell_type": "markdown",
   "metadata": {},
   "source": [
    "Замінимо також висоту на числове значення, а не текст:"
   ]
  },
  {
   "cell_type": "code",
   "execution_count": null,
   "metadata": {},
   "outputs": [],
   "source": [
    "data <- data |> mutate(person_height = str_remove(data$person_height, pattern = \"[*]\"))\n",
    "data"
   ]
  },
  {
   "cell_type": "code",
   "execution_count": null,
   "metadata": {},
   "outputs": [],
   "source": [
    "data <- data |> mutate(person_height = as.numeric(person_height))\n",
    "data"
   ]
  },
  {
   "cell_type": "code",
   "execution_count": null,
   "metadata": {},
   "outputs": [],
   "source": [
    "write.csv(data, file = \"data/cleaned_titled.csv\", row.names = F)"
   ]
  },
  {
   "cell_type": "markdown",
   "metadata": {},
   "source": [
    "---"
   ]
  },
  {
   "cell_type": "markdown",
   "metadata": {
    "cell_id": "34b805351ec8496188f8e4e5129177d2",
    "deepnote_cell_height": 70,
    "deepnote_cell_type": "markdown",
    "tags": []
   },
   "source": [
    "# 3. Заміна пропусків у даних (Missing Value Imputation) <a class=\"anchor\" id=\"id3\"></a>"
   ]
  },
  {
   "cell_type": "markdown",
   "metadata": {},
   "source": [
    "Дані реального світу часто мають відсутні значення. Дані можуть мати відсутні значення з ряду причин, таких як спостереження, які не були записані, пошкодження даних тощо."
   ]
  },
  {
   "cell_type": "markdown",
   "metadata": {},
   "source": [
    "**Проблема**\n",
    "- [x] Обробка відсутніх даних важлива, оскільки багато алгоритмів машинного навчання або програм для візуалізації та аналізу данихне підтримують дані з відсутніми значеннями.\n",
    "\n",
    "**Рішення**\n",
    "\n",
    "- [x] Видалити рядки з відсутніми даними з набору даних.\n",
    "- [x] Замінити відсутні значення середніми/медіанними значеннями.\n",
    "\n",
    "**Примітка**\n",
    "\n",
    "- [x] Використовуйте бізнес-логіку/знання для окремого підходу до кожної змінної\n",
    "- [x] У разі малого розміру вибірки або великої частки спостережень із відсутніми значеннями бажано замінювати, а видаляти"
   ]
  },
  {
   "cell_type": "markdown",
   "metadata": {},
   "source": [
    "Некоректна інформація в даних може бути записана різними способами, наприклад у датасеті ці дані можуть бутьу визначені як `NA` `<NA>` `NULL` `undefinded` `Undefined`. Перед обробкою таких даних усі невизначені записи варто конвертувати у `NA`."
   ]
  },
  {
   "cell_type": "code",
   "execution_count": 19,
   "metadata": {},
   "outputs": [
    {
     "ename": "ERROR",
     "evalue": "Error in parse(text = x, srcfile = src): <text>:1:29: unexpected symbol\n1: !!!!!!!!!!!!!!!!!! ---- na. read\n                                ^\n",
     "output_type": "error",
     "traceback": [
      "Error in parse(text = x, srcfile = src): <text>:1:29: unexpected symbol\n1: !!!!!!!!!!!!!!!!!! ---- na. read\n                                ^\nTraceback:\n"
     ]
    }
   ],
   "source": [
    "!!!!!!!!!!!!!!!!!! ---- na. read!"
   ]
  },
  {
   "cell_type": "markdown",
   "metadata": {
    "cell_id": "7201f5ae0c63461cb80c44db0218c3e3",
    "deepnote_cell_height": 52.390625,
    "deepnote_cell_type": "markdown",
    "tags": []
   },
   "source": [
    "Щоб переглянути список усіх стовпців, що мають пропуски даних можна скористатися наступним кодом:"
   ]
  },
  {
   "cell_type": "code",
   "execution_count": null,
   "metadata": {
    "cell_id": "2edff2f1ee974e58963d8a42523f1a1f",
    "deepnote_cell_height": 162.1875,
    "deepnote_cell_type": "code",
    "deepnote_to_be_reexecuted": false,
    "execution_millis": 19,
    "execution_start": 1650392273243,
    "source_hash": "8a50abf2",
    "tags": [],
    "vscode": {
     "languageId": "r"
    }
   },
   "outputs": [],
   "source": [
    "data <- read.csv(\"data/cleaned_titled.csv\")\n",
    "data"
   ]
  },
  {
   "cell_type": "markdown",
   "metadata": {},
   "source": [
    "## 3.1. Перевірка наявності пропусків у даних"
   ]
  },
  {
   "cell_type": "markdown",
   "metadata": {},
   "source": [
    "Пакет **MICE (Multivariate Imputation via Chained Equations)**"
   ]
  },
  {
   "cell_type": "code",
   "execution_count": null,
   "metadata": {},
   "outputs": [],
   "source": [
    "#install.packages(\"mice\")\n",
    "library(mice)\n",
    "md.pattern(data)"
   ]
  },
  {
   "cell_type": "code",
   "execution_count": 20,
   "metadata": {},
   "outputs": [
    {
     "name": "stdout",
     "output_type": "stream",
     "text": [
      "\n",
      " Variables sorted by number of missings: \n",
      " Variable Count\n",
      "   gender     0\n"
     ]
    },
    {
     "data": {
      "text/plain": [
       "\n",
       " Missings in variables:\n",
       "[1] Variable Count   \n",
       "<0 rows> (or 0-length row.names)"
      ]
     },
     "metadata": {},
     "output_type": "display_data"
    },
    {
     "data": {
      "image/png": "[encoded data removed]",
      "text/plain": [
       "plot without title"
      ]
     },
     "metadata": {
      "image/png": {
       "height": 420,
       "width": 420
      }
     },
     "output_type": "display_data"
    }
   ],
   "source": [
    "#install.packages(\"VIM\")\n",
    "library(VIM)\n",
    "mice_plot <- aggr(data, \n",
    "                  col=c('navyblue','yellow'),\n",
    "                  numbers=TRUE, \n",
    "                  sortVars=TRUE,\n",
    "                  labels=names(data), \n",
    "                  cex.axis=.7,\n",
    "                  gap=3, \n",
    "                  ylab=c(\"Missing data\",\"Pattern\"))\n",
    "mice_plot"
   ]
  },
  {
   "cell_type": "code",
   "execution_count": 21,
   "metadata": {},
   "outputs": [
    {
     "name": "stderr",
     "output_type": "stream",
     "text": [
      "Your code contains a unicode char which cannot be displayed in your\n",
      "current locale and R will silently convert it to an escaped form when the\n",
      "R kernel executes this code. This can lead to subtle errors if you use\n",
      "such chars to do comparisons. For more information, please see\n",
      "https://github.com/IRkernel/repr/wiki/Problems-with-unicode-on-windows"
     ]
    },
    {
     "ename": "ERROR",
     "evalue": "Error in parse(text = x, srcfile = src): <text>:1:1: unexpected '<'\n1: <\n    ^\n",
     "output_type": "error",
     "traceback": [
      "Error in parse(text = x, srcfile = src): <text>:1:1: unexpected '<'\n1: <\n    ^\nTraceback:\n"
     ]
    }
   ],
   "source": [
    "ДОдати приклад library(Amelia)\n",
    "library(Amelia)\n",
    "Amelia::missmap(data)"
   ]
  },
  {
   "cell_type": "markdown",
   "metadata": {},
   "source": [
    "Також можна скористатися альтернативними макетами: `Amelia`, `missForest`, `mi`."
   ]
  },
  {
   "cell_type": "markdown",
   "metadata": {
    "tags": []
   },
   "source": [
    "---"
   ]
  },
  {
   "cell_type": "markdown",
   "metadata": {
    "cell_id": "355abb4549ad4fd0883245c822525ab9",
    "deepnote_cell_height": 62,
    "deepnote_cell_type": "markdown",
    "tags": []
   },
   "source": [
    "## 3.2. Видалення пустих рядків та сповпців у data.frame"
   ]
  },
  {
   "cell_type": "markdown",
   "metadata": {
    "cell_id": "2867918b04e3488c871000bb1a14b0c5",
    "deepnote_cell_height": 52.390625,
    "deepnote_cell_type": "markdown",
    "tags": []
   },
   "source": [
    "Переглянемо стовпці, що містять пропуски:"
   ]
  },
  {
   "cell_type": "code",
   "execution_count": null,
   "metadata": {},
   "outputs": [],
   "source": [
    "# Переглянемо список стовпців з пропусками\n",
    "colnames(data)[apply(data, 2, anyNA)]"
   ]
  },
  {
   "cell_type": "markdown",
   "metadata": {},
   "source": [
    "Функція `complete.cases` повертає логічні значення"
   ]
  },
  {
   "cell_type": "code",
   "execution_count": null,
   "metadata": {},
   "outputs": [],
   "source": [
    "complete.cases(data) # бо є стовпець Empty"
   ]
  },
  {
   "cell_type": "markdown",
   "metadata": {},
   "source": [
    "Також видаляти стовпці та рядки з `data.frame` можна за допомогою пакету `janitor`."
   ]
  },
  {
   "cell_type": "code",
   "execution_count": null,
   "metadata": {},
   "outputs": [],
   "source": [
    "library(janitor)\n",
    "data_cleaned <- remove_empty(data, which = c(\"rows\",\"cols\"), quiet = FALSE)\n",
    "data_cleaned"
   ]
  },
  {
   "cell_type": "code",
   "execution_count": null,
   "metadata": {},
   "outputs": [],
   "source": [
    "write.csv(data_cleaned, file = \"data/cleaned_titled2.csv\", row.names = F)"
   ]
  },
  {
   "cell_type": "markdown",
   "metadata": {},
   "source": [
    "Як бачимо, колонка `empty` була видалена."
   ]
  },
  {
   "cell_type": "markdown",
   "metadata": {},
   "source": [
    "Щоб переглянути усі записи, що не мають пропусків скористаємося функцією `na.omit()`:"
   ]
  },
  {
   "cell_type": "code",
   "execution_count": null,
   "metadata": {
    "cell_id": "e9b832b9949e4b75b374e5c5db2c1da3",
    "deepnote_cell_height": 214.125,
    "deepnote_cell_type": "code",
    "deepnote_output_heights": [
     117.125
    ],
    "deepnote_to_be_reexecuted": false,
    "execution_millis": 43,
    "execution_start": 1650392276674,
    "source_hash": "2a6c7a77",
    "tags": [],
    "vscode": {
     "languageId": "r"
    }
   },
   "outputs": [],
   "source": [
    "na.omit(data_cleaned)"
   ]
  },
  {
   "cell_type": "markdown",
   "metadata": {},
   "source": [
    "Таким чином пропущені значення будуть видалені з датасети, якщо інформацію переприсвоїти `data <- na.omit(data)`"
   ]
  },
  {
   "cell_type": "markdown",
   "metadata": {},
   "source": [
    "---"
   ]
  },
  {
   "cell_type": "markdown",
   "metadata": {
    "cell_id": "9777081173ac45a4afed753369574a73",
    "deepnote_cell_height": 62,
    "deepnote_cell_type": "markdown",
    "tags": []
   },
   "source": [
    "## 3.3. Заміна пропусків у data.frame"
   ]
  },
  {
   "cell_type": "markdown",
   "metadata": {},
   "source": [
    "Існує ряд підходів, що використовуються для заміни пропущених значень у датасеті:"
   ]
  },
  {
   "cell_type": "markdown",
   "metadata": {},
   "source": [
    "**Заміна на 0**\n",
    "* Вставте пропущені значення нулем\n",
    "\n",
    "**Заміна на медіану/середнє значення**\n",
    "* Для числових змінних - середнє або медіана, мінімум, максимум\n",
    "* Для категоріальних змінних - мода (бувають випадки, коли моду доцільно використовувати і для цислових)\n",
    "\n",
    "**Сегментна заміна**\n",
    "* Визначення сегментів\n",
    "* Обчислення середнього/медіани/моди для сегментів\n",
    "* Замінити значення по сегментах\n",
    "* Наприклад, ми можемо сказати, що кількість опадів майже не змінюється для міст у певній області України, у такому випадку ми можемо для усіх міст з пропусками записати значення середнє по регіону.\n",
    "\n",
    "**Інтелектуальна заміна** (Частковий випадок сегментної заміни)\n",
    "* Заміна значень з використанням методів машинного навчання"
   ]
  },
  {
   "cell_type": "markdown",
   "metadata": {
    "cell_id": "2f609256c7c243829f66c3f3f23b4219",
    "deepnote_cell_height": 54,
    "deepnote_cell_type": "markdown",
    "tags": []
   },
   "source": [
    "### 3.3.1. Заміна пропусків на нуль (0)"
   ]
  },
  {
   "cell_type": "code",
   "execution_count": null,
   "metadata": {
    "cell_id": "1d5ff061612940d393a9da09a412e850",
    "deepnote_cell_height": 66,
    "deepnote_cell_type": "code",
    "tags": [],
    "vscode": {
     "languageId": "r"
    }
   },
   "outputs": [],
   "source": [
    "data <- read.csv(\"data/cleaned_titled2.csv\")\n",
    "data"
   ]
  },
  {
   "cell_type": "code",
   "execution_count": null,
   "metadata": {},
   "outputs": [],
   "source": [
    "Замінимо інформацію про вагу з пропусками на `0`:"
   ]
  },
  {
   "cell_type": "code",
   "execution_count": null,
   "metadata": {
    "cell_id": "959cf61d7db74bc1a7ce5f3ec778368f",
    "deepnote_cell_height": 66,
    "deepnote_cell_type": "code",
    "tags": [],
    "vscode": {
     "languageId": "r"
    }
   },
   "outputs": [],
   "source": [
    "data_w0 <- data |> mutate(person_weight = ifelse(is.na(person_weight), 0, person_weight))\n",
    "data_w0"
   ]
  },
  {
   "cell_type": "code",
   "execution_count": null,
   "metadata": {},
   "outputs": [],
   "source": [
    "# Без dplyr\n",
    "data_w0 <- data\n",
    "data_w0[is.na(data_w0$person_weight), \"person_weight\"] <- 0\n",
    "data_w0"
   ]
  },
  {
   "cell_type": "markdown",
   "metadata": {},
   "source": [
    "Зробити заміну для усіх числових стовпців:"
   ]
  },
  {
   "cell_type": "code",
   "execution_count": null,
   "metadata": {},
   "outputs": [],
   "source": [
    "library(tidyr) # for replace_na()\n",
    "data_all <- data |> mutate_if(is.numeric , replace_na, replace = 0)\n",
    "data_all"
   ]
  },
  {
   "cell_type": "markdown",
   "metadata": {},
   "source": [
    "---"
   ]
  },
  {
   "cell_type": "markdown",
   "metadata": {},
   "source": [
    "### 3.3.2. Базова числова заміна пропусків"
   ]
  },
  {
   "cell_type": "markdown",
   "metadata": {},
   "source": [
    "Заміна на константи або обчислені значення є стандарним підходом. Так, наприклад, заміна певного значення на середнє матиме вигляд:"
   ]
  },
  {
   "cell_type": "code",
   "execution_count": null,
   "metadata": {},
   "outputs": [],
   "source": [
    "data_m <- data |> mutate(person_weight = ifelse(is.na(person_weight), mean(data$person_weight, na.rm = T), person_weight))\n",
    "data_m"
   ]
  },
  {
   "cell_type": "markdown",
   "metadata": {},
   "source": [
    "Заміна на min, max, median не відрізняється."
   ]
  },
  {
   "cell_type": "markdown",
   "metadata": {},
   "source": [
    "Якщо виникає потреба замінити, наприклад, усі значення на медіану у всіх стовпцях за один прохід можна скористатися функцією `mutate_if()`:"
   ]
  },
  {
   "cell_type": "code",
   "execution_count": null,
   "metadata": {},
   "outputs": [],
   "source": [
    "data_all <- data |> mutate_if(is.numeric, function(x) ifelse(is.na(x), median(x, na.rm = T), x))\n",
    "data_all"
   ]
  },
  {
   "cell_type": "markdown",
   "metadata": {},
   "source": [
    "Розгялнемо кілька бібліотек для перевірки даних на наявність про"
   ]
  },
  {
   "cell_type": "markdown",
   "metadata": {},
   "source": [
    "Ще одним із варіантів заміни значень може бути використання бібліотеки `Hmisc`:"
   ]
  },
  {
   "cell_type": "code",
   "execution_count": null,
   "metadata": {},
   "outputs": [],
   "source": [
    "#install.packages(\"Hmisc\")\n",
    "library(Hmisc)\n",
    "data_wm <- data |> mutate(person_weight = impute(data$person_weight, fun = mean)) # mean imputation\n",
    "# Аналогічно можна замінити на min,max, median чи інші функції\n",
    "data_wm \n",
    "# * Значення із * - замінені"
   ]
  },
  {
   "cell_type": "markdown",
   "metadata": {},
   "source": [
    "---"
   ]
  },
  {
   "cell_type": "markdown",
   "metadata": {},
   "source": [
    "### 3.3.3. Hot deck imputation (як перекласти???)"
   ]
  },
  {
   "cell_type": "markdown",
   "metadata": {},
   "source": [
    "Метод `Hot deck imputation` передбачає, що пропущені значення обчислюються шляхом копіювання значень із подібних записів у тому ж наборі даних.\n",
    "\n",
    "Основне питання при `Hot deck imputation` полягає в тому, як вибрати значення заміни. Одним із поширених підходів є випадковий відбір:"
   ]
  },
  {
   "cell_type": "code",
   "execution_count": null,
   "metadata": {},
   "outputs": [],
   "source": [
    "# set.seed(1)\n",
    "data_hot <- data |> mutate(person_weight = impute(data$person_weight, \"random\")) \n",
    "data_hot "
   ]
  },
  {
   "cell_type": "markdown",
   "metadata": {},
   "source": [
    "Вихідне значення залежить від значення `seed`."
   ]
  },
  {
   "cell_type": "markdown",
   "metadata": {},
   "source": [
    "### 3.3.4. Сегментна заміна пропусків"
   ]
  },
  {
   "cell_type": "markdown",
   "metadata": {},
   "source": [
    "Заміна по сегментах часто дозволяє будувати точніші математичні моделі, адже групові середні краще описують явища і процеси, ніж загальні для всієї вибірки."
   ]
  },
  {
   "cell_type": "markdown",
   "metadata": {},
   "source": [
    "Знайдемо середні значення ваги за статтю та використаємо ці значення для заміни пропусків у даних."
   ]
  },
  {
   "cell_type": "code",
   "execution_count": null,
   "metadata": {},
   "outputs": [],
   "source": [
    "data_sgm <- data |> \n",
    "                group_by(person_gender) |>\n",
    "                mutate(person_weight = replace_na(person_weight, mean(person_weight, na.rm = TRUE)))\n",
    "data_sgm"
   ]
  },
  {
   "cell_type": "markdown",
   "metadata": {},
   "source": [
    "Також можна здійснити заміну значень по усіх стовпцях датасету за один раз. Проте не варто такий підхід використовувати постійно, а враховувати бізнес-логіку процесів, що вивчаються."
   ]
  },
  {
   "cell_type": "code",
   "execution_count": null,
   "metadata": {},
   "outputs": [],
   "source": [
    "data_sgm2 <- data %>% \n",
    "  group_by(person_gender) %>% \n",
    "    mutate(\n",
    "      across(everything(), ~replace_na(.x, min(.x, na.rm = TRUE)))\n",
    "    )\n",
    "data_sgm2"
   ]
  },
  {
   "cell_type": "markdown",
   "metadata": {},
   "source": [
    "Якщо ж є потреба замінювати по окремих стовпцях, то їх можна вказати замість `everything()`: `across(c(\"person_height\", \"person_weight\"), ~replace_na(.x, min(.x, na.rm = TRUE)))`."
   ]
  },
  {
   "cell_type": "markdown",
   "metadata": {},
   "source": [
    "Іншим варіантом може бути вказання номерів колонок: `across(c(1,3), ~replace_na(.x, min(.x, na.rm = TRUE)))`"
   ]
  },
  {
   "cell_type": "markdown",
   "metadata": {},
   "source": [
    "### 3.3.5. Інтелектуальні методи заміни"
   ]
  },
  {
   "cell_type": "markdown",
   "metadata": {},
   "source": [
    "Теоретично інтелектуальні методи заміни пропусків є найкращими, адже враховують математичні залежності у даних."
   ]
  },
  {
   "cell_type": "markdown",
   "metadata": {},
   "source": [
    "https://medium.com/analytics-vidhya/k-nearest-neighbor-the-maths-behind-it-how-it-works-and-an-example-f1de1208546c"
   ]
  },
  {
   "cell_type": "code",
   "execution_count": 18,
   "metadata": {},
   "outputs": [
    {
     "name": "stderr",
     "output_type": "stream",
     "text": [
      "Warning message:\n",
      "\"package 'VIM' was built under R version 4.1.3\"\n",
      "Loading required package: colorspace\n",
      "\n",
      "Loading required package: grid\n",
      "\n",
      "VIM is ready to use.\n",
      "\n",
      "\n",
      "Suggestions and bug-reports can be submitted at: https://github.com/statistikat/VIM/issues\n",
      "\n",
      "\n",
      "Attaching package: 'VIM'\n",
      "\n",
      "\n",
      "The following object is masked from 'package:datasets':\n",
      "\n",
      "    sleep\n",
      "\n",
      "\n",
      "Warning message in kNN(data):\n",
      "\"Nothing to impute, because no NA are present (also after using makeNA)\"\n"
     ]
    },
    {
     "data": {
      "text/html": [
       "<table class=\"dataframe\">\n",
       "<caption>A data.frame: 13 × 2</caption>\n",
       "<thead>\n",
       "\t<tr><th scope=col>gender</th><th scope=col>gender_imp</th></tr>\n",
       "\t<tr><th scope=col>&lt;chr&gt;</th><th scope=col>&lt;lgl&gt;</th></tr>\n",
       "</thead>\n",
       "<tbody>\n",
       "\t<tr><td>Male  </td><td>FALSE</td></tr>\n",
       "\t<tr><td>   M  </td><td>FALSE</td></tr>\n",
       "\t<tr><td>Female</td><td>FALSE</td></tr>\n",
       "\t<tr><td>Man   </td><td>FALSE</td></tr>\n",
       "\t<tr><td>female</td><td>FALSE</td></tr>\n",
       "\t<tr><td>F     </td><td>FALSE</td></tr>\n",
       "\t<tr><td>male. </td><td>FALSE</td></tr>\n",
       "\t<tr><td>m     </td><td>FALSE</td></tr>\n",
       "\t<tr><td>Man   </td><td>FALSE</td></tr>\n",
       "\t<tr><td>female</td><td>FALSE</td></tr>\n",
       "\t<tr><td>F     </td><td>FALSE</td></tr>\n",
       "\t<tr><td>male. </td><td>FALSE</td></tr>\n",
       "\t<tr><td>m     </td><td>FALSE</td></tr>\n",
       "</tbody>\n",
       "</table>\n"
      ],
      "text/latex": [
       "A data.frame: 13 × 2\n",
       "\\begin{tabular}{ll}\n",
       " gender & gender\\_imp\\\\\n",
       " <chr> & <lgl>\\\\\n",
       "\\hline\n",
       "\t Male   & FALSE\\\\\n",
       "\t    M   & FALSE\\\\\n",
       "\t Female & FALSE\\\\\n",
       "\t Man    & FALSE\\\\\n",
       "\t female & FALSE\\\\\n",
       "\t F      & FALSE\\\\\n",
       "\t male.  & FALSE\\\\\n",
       "\t m      & FALSE\\\\\n",
       "\t Man    & FALSE\\\\\n",
       "\t female & FALSE\\\\\n",
       "\t F      & FALSE\\\\\n",
       "\t male.  & FALSE\\\\\n",
       "\t m      & FALSE\\\\\n",
       "\\end{tabular}\n"
      ],
      "text/markdown": [
       "\n",
       "A data.frame: 13 × 2\n",
       "\n",
       "| gender &lt;chr&gt; | gender_imp &lt;lgl&gt; |\n",
       "|---|---|\n",
       "| Male   | FALSE |\n",
       "|    M   | FALSE |\n",
       "| Female | FALSE |\n",
       "| Man    | FALSE |\n",
       "| female | FALSE |\n",
       "| F      | FALSE |\n",
       "| male.  | FALSE |\n",
       "| m      | FALSE |\n",
       "| Man    | FALSE |\n",
       "| female | FALSE |\n",
       "| F      | FALSE |\n",
       "| male.  | FALSE |\n",
       "| m      | FALSE |\n",
       "\n"
      ],
      "text/plain": [
       "   gender gender_imp\n",
       "1  Male   FALSE     \n",
       "2     M   FALSE     \n",
       "3  Female FALSE     \n",
       "4  Man    FALSE     \n",
       "5  female FALSE     \n",
       "6  F      FALSE     \n",
       "7  male.  FALSE     \n",
       "8  m      FALSE     \n",
       "9  Man    FALSE     \n",
       "10 female FALSE     \n",
       "11 F      FALSE     \n",
       "12 male.  FALSE     \n",
       "13 m      FALSE     "
      ]
     },
     "metadata": {},
     "output_type": "display_data"
    },
    {
     "data": {
      "text/html": [
       "<table class=\"dataframe\">\n",
       "<caption>A data.frame: 13 × 1</caption>\n",
       "<thead>\n",
       "\t<tr><th scope=col>gender</th></tr>\n",
       "\t<tr><th scope=col>&lt;chr&gt;</th></tr>\n",
       "</thead>\n",
       "<tbody>\n",
       "\t<tr><td>Male  </td></tr>\n",
       "\t<tr><td>   M  </td></tr>\n",
       "\t<tr><td>Female</td></tr>\n",
       "\t<tr><td>Man   </td></tr>\n",
       "\t<tr><td>female</td></tr>\n",
       "\t<tr><td>F     </td></tr>\n",
       "\t<tr><td>male. </td></tr>\n",
       "\t<tr><td>m     </td></tr>\n",
       "\t<tr><td>Man   </td></tr>\n",
       "\t<tr><td>female</td></tr>\n",
       "\t<tr><td>F     </td></tr>\n",
       "\t<tr><td>male. </td></tr>\n",
       "\t<tr><td>m     </td></tr>\n",
       "</tbody>\n",
       "</table>\n"
      ],
      "text/latex": [
       "A data.frame: 13 × 1\n",
       "\\begin{tabular}{l}\n",
       " gender\\\\\n",
       " <chr>\\\\\n",
       "\\hline\n",
       "\t Male  \\\\\n",
       "\t    M  \\\\\n",
       "\t Female\\\\\n",
       "\t Man   \\\\\n",
       "\t female\\\\\n",
       "\t F     \\\\\n",
       "\t male. \\\\\n",
       "\t m     \\\\\n",
       "\t Man   \\\\\n",
       "\t female\\\\\n",
       "\t F     \\\\\n",
       "\t male. \\\\\n",
       "\t m     \\\\\n",
       "\\end{tabular}\n"
      ],
      "text/markdown": [
       "\n",
       "A data.frame: 13 × 1\n",
       "\n",
       "| gender &lt;chr&gt; |\n",
       "|---|\n",
       "| Male   |\n",
       "|    M   |\n",
       "| Female |\n",
       "| Man    |\n",
       "| female |\n",
       "| F      |\n",
       "| male.  |\n",
       "| m      |\n",
       "| Man    |\n",
       "| female |\n",
       "| F      |\n",
       "| male.  |\n",
       "| m      |\n",
       "\n"
      ],
      "text/plain": [
       "   gender\n",
       "1  Male  \n",
       "2     M  \n",
       "3  Female\n",
       "4  Man   \n",
       "5  female\n",
       "6  F     \n",
       "7  male. \n",
       "8  m     \n",
       "9  Man   \n",
       "10 female\n",
       "11 F     \n",
       "12 male. \n",
       "13 m     "
      ]
     },
     "metadata": {},
     "output_type": "display_data"
    }
   ],
   "source": [
    "library(VIM)\n",
    "data_knn <- kNN(data)\n",
    "data_knn\n",
    "data"
   ]
  },
  {
   "cell_type": "markdown",
   "metadata": {},
   "source": [
    "Ще одним схожим методом заміни пропусків може бути здійснення прогнозів на основі регресії чи складніших математичних методів пропусків."
   ]
  },
  {
   "cell_type": "markdown",
   "metadata": {},
   "source": [
    "---"
   ]
  },
  {
   "cell_type": "markdown",
   "metadata": {},
   "source": [
    "# 4. Обробка аномалій та статистичних викидів у даних <a class=\"anchor\" id=\"id4\"></a>"
   ]
  },
  {
   "cell_type": "markdown",
   "metadata": {},
   "source": [
    "## 4.1. Аналіз та обробка статистичних викидів"
   ]
  },
  {
   "cell_type": "markdown",
   "metadata": {},
   "source": [
    "**Виявлення аномалій** — це сукупність методів, призначених для виявлення незвичайних точок даних, які мають вирішальне значення для виявлення шахрайства та захисту комп’ютерних мереж від зловмисної діяльності."
   ]
  },
  {
   "cell_type": "markdown",
   "metadata": {},
   "source": [
    "**Аномалія** - точка даних або набір точок даних, які не мають таку саму структуру та поведінку, що й інші дані."
   ]
  },
  {
   "cell_type": "markdown",
   "metadata": {},
   "source": [
    "Аномалії у даних можуть мати різну природу та по різному себе проявляти:\n",
    "\n",
    "- [x] Точкова аномалія\n",
    "    * Єдина точка даних\n",
    "    * Незвично в порівнянні з іншими даними\n",
    "    \n",
    "Приклад: одна добова висока температура 41°С серед ряду звичайних весняних днів"
   ]
  },
  {
   "cell_type": "code",
   "execution_count": null,
   "metadata": {},
   "outputs": [],
   "source": [
    "temp <- c(15, 17, 19, 12, 30, 41, 17, 20)\n",
    "boxplot(temp, ylab = \"Celcium\")"
   ]
  },
  {
   "cell_type": "markdown",
   "metadata": {},
   "source": [
    "- [x] Колективна аномалія\n",
    "    * Аномальна колекція екземплярів даних\n",
    "    * Незвично, якщо розглядати разом"
   ]
  },
  {
   "cell_type": "markdown",
   "metadata": {},
   "source": [
    "Опишемо набір даних, до використовуватиметься надалі для прикладів.\n",
    "\n",
    "`river_eco` - це data.frame, що містить такі три стовпці:\n",
    "- [x] `index` - цілі числа, що описують порядок спостережень нітратів;\n",
    "- [x] `nitrate` - місячні концентрації розчинених нітратів у річці;\n",
    "- [x] `month` - змінна, що містить місяць для кожного спостереження нітратів\n",
    "\n",
    "Нам потрібно дослідити стовпець `nitrate`, щоб оцінити наявність точкових аномалій у даних."
   ]
  },
  {
   "cell_type": "code",
   "execution_count": null,
   "metadata": {},
   "outputs": [],
   "source": [
    "river_data <- read.csv(\"data/river_eco.csv\")\n",
    "head(river_data)"
   ]
  },
  {
   "cell_type": "markdown",
   "metadata": {},
   "source": [
    "Переглянемо описову статистику показника нітрати:"
   ]
  },
  {
   "cell_type": "code",
   "execution_count": null,
   "metadata": {},
   "outputs": [],
   "source": [
    "summary(river_data$nitrate)"
   ]
  },
  {
   "cell_type": "markdown",
   "metadata": {},
   "source": [
    "Як видно, медіана та середнє відрізняються не дуже.\n",
    "\n",
    "Далі перевіримо наявність викидів у даних за допомогою `boxplot`:"
   ]
  },
  {
   "cell_type": "code",
   "execution_count": null,
   "metadata": {},
   "outputs": [],
   "source": [
    "boxplot(river_data$nitrate)\n",
    "# Додамо лінії 1 та 3 квантилів\n",
    "abline(h=quantile(river_data$nitrate,0.25),col=\"red\",lty=2)\n",
    "abline(h=quantile(river_data$nitrate,0.75),col=\"red\",lty=2)"
   ]
  },
  {
   "cell_type": "markdown",
   "metadata": {},
   "source": [
    "Також виведемо номери рядків спостереженнь, що є викидами:"
   ]
  },
  {
   "cell_type": "code",
   "execution_count": null,
   "metadata": {},
   "outputs": [],
   "source": [
    "boxplot.stats(river_data$nitrate)$out"
   ]
  },
  {
   "cell_type": "code",
   "execution_count": null,
   "metadata": {},
   "outputs": [],
   "source": [
    "hist(river_data$nitrate, xlab = \"Nitrate concentration\", breaks = 40)"
   ]
  },
  {
   "cell_type": "code",
   "execution_count": null,
   "metadata": {},
   "outputs": [],
   "source": [
    "plot(nitrate ~ index, data = river_data, type = \"o\")"
   ]
  },
  {
   "cell_type": "code",
   "execution_count": null,
   "metadata": {},
   "outputs": [],
   "source": []
  },
  {
   "cell_type": "code",
   "execution_count": null,
   "metadata": {},
   "outputs": [],
   "source": [
    "# Середньомісячний вміст нітратів у річці\n",
    "river_grouped <- river_data |> group_by(months) |> summarise(mean = mean(nitrate))\n",
    "river_grouped "
   ]
  },
  {
   "cell_type": "code",
   "execution_count": null,
   "metadata": {},
   "outputs": [],
   "source": [
    "plot(river_grouped$mean, type = \"o\", xlab = \"Month\", ylab = \"Monthly mean\")"
   ]
  },
  {
   "cell_type": "code",
   "execution_count": null,
   "metadata": {},
   "outputs": [],
   "source": [
    "boxplot(nitrate ~ months, data = river_data)"
   ]
  },
  {
   "cell_type": "markdown",
   "metadata": {},
   "source": [
    "Між Q1 та Q2 зосереджено 50% усіх спостережень. Персентиль відображає кількість спостережень, що зосереджені з ним включно."
   ]
  },
  {
   "cell_type": "markdown",
   "metadata": {},
   "source": [
    "![](assets/images/03/quantiles.png)"
   ]
  },
  {
   "cell_type": "markdown",
   "metadata": {},
   "source": [
    "![](assets/images/03/quantiles2.png)"
   ]
  },
  {
   "cell_type": "markdown",
   "metadata": {},
   "source": [
    "Визначивши викиди у даних з ними можна здійснити кілька операцій:\n",
    "\n",
    "1. Заміна на деякі значення (impute)\n",
    "2. Заміна на границі квантилей"
   ]
  },
  {
   "cell_type": "code",
   "execution_count": null,
   "metadata": {},
   "outputs": [],
   "source": [
    "lower_bound <- quantile(river_data$nitrate, 0.025)\n",
    "lower_bound\n",
    "\n",
    "upper_bound <- quantile(river_data$nitrate, 0.975)\n",
    "upper_bound"
   ]
  },
  {
   "cell_type": "code",
   "execution_count": null,
   "metadata": {},
   "outputs": [],
   "source": [
    "outlier_index <- which(river_data$nitrate < lower_bound | river_data$nitrate > upper_bound)\n",
    "outlier_index"
   ]
  },
  {
   "cell_type": "code",
   "execution_count": null,
   "metadata": {},
   "outputs": [],
   "source": [
    "river_data[outlier_index, ]"
   ]
  },
  {
   "cell_type": "markdown",
   "metadata": {},
   "source": [
    "Таким чином, усі значення вище та нище деякого показника можемо замінити на потрібні нам значення, наприклад, середні за поточний місяць."
   ]
  },
  {
   "cell_type": "markdown",
   "metadata": {},
   "source": [
    "Здійснимо заміну значень у наборі даних на основі квантилей:"
   ]
  },
  {
   "cell_type": "code",
   "execution_count": null,
   "metadata": {},
   "outputs": [],
   "source": [
    "river_data$nitrate_upd <- river_data$nitrate\n",
    "qnt <- quantile(river_data$nitrate_upd, probs=c(.05, .95), na.rm = T)\n",
    "H <- 1.5 * IQR(qnt[1], na.rm = T)\n",
    "river_data$nitrate_upd[river_data$nitrate_upd < (qnt[1] - H)] <- qnt[1]\n",
    "river_data$nitrate_upd[river_data$nitrate_upd > (qnt[2] + H)] <- qnt[2]\n",
    "\n",
    "qnt"
   ]
  },
  {
   "cell_type": "code",
   "execution_count": null,
   "metadata": {},
   "outputs": [],
   "source": [
    "boxplot(river_data$nitrate_upd)"
   ]
  },
  {
   "cell_type": "code",
   "execution_count": null,
   "metadata": {},
   "outputs": [],
   "source": [
    "boxplot(nitrate_upd ~ months, data = river_data)"
   ]
  },
  {
   "cell_type": "code",
   "execution_count": null,
   "metadata": {},
   "outputs": [],
   "source": [
    "plot(nitrate_upd ~ index, data = river_data, type = \"o\")"
   ]
  },
  {
   "cell_type": "markdown",
   "metadata": {},
   "source": [
    "---"
   ]
  },
  {
   "cell_type": "markdown",
   "metadata": {
    "cell_id": "470abd1375b74c2b89de37f62e6ce843",
    "deepnote_cell_height": 70,
    "deepnote_cell_type": "markdown",
    "tags": []
   },
   "source": [
    "# 5. Додаткові прийоми очистки даних <a class=\"anchor\" id=\"id5\"></a>"
   ]
  },
  {
   "cell_type": "markdown",
   "metadata": {
    "cell_id": "71d1897e5d994371a9335c0183908ac4",
    "deepnote_cell_height": 52.390625,
    "deepnote_cell_type": "markdown",
    "deepnote_to_be_reexecuted": false,
    "execution_millis": 62,
    "execution_start": 1650391978491,
    "source_hash": "dff7fae3",
    "tags": []
   },
   "source": [
    "## 5.1. Видалення дублікатів"
   ]
  },
  {
   "cell_type": "code",
   "execution_count": null,
   "metadata": {
    "cell_id": "d490e9a9360c42ae987076ffe6c2a38c",
    "deepnote_cell_height": 66,
    "deepnote_cell_type": "code",
    "tags": [],
    "vscode": {
     "languageId": "r"
    }
   },
   "outputs": [],
   "source": [
    "df <- data.frame(X = c(1,1,2,1,3,2,1), Y = c(\"A\", \"B\", \"C\", \"A\", \"B\", \"C\", \"A\"))\n",
    "df"
   ]
  },
  {
   "cell_type": "code",
   "execution_count": null,
   "metadata": {
    "cell_id": "788b0f22678d41c19a949ffa6ce2751d",
    "deepnote_cell_height": 200.5625,
    "deepnote_cell_type": "code",
    "deepnote_to_be_reexecuted": false,
    "execution_millis": 80,
    "execution_start": 1650383560355,
    "source_hash": "45cbf634",
    "tags": [],
    "vscode": {
     "languageId": "r"
    }
   },
   "outputs": [],
   "source": [
    "df |> distinct()"
   ]
  },
  {
   "cell_type": "markdown",
   "metadata": {
    "cell_id": "db1cdfce7d1343cc8e4b0d6fb16d2d87",
    "deepnote_cell_type": "text-cell-p",
    "is_collapsed": false,
    "tags": []
   },
   "source": [
    "---"
   ]
  },
  {
   "cell_type": "markdown",
   "metadata": {
    "cell_id": "5972a3c0bc0b48d2a2b269a0b802d255",
    "deepnote_cell_type": "input-slider",
    "deepnote_slider_max_value": 10,
    "deepnote_slider_min_value": 0,
    "deepnote_slider_step": 1,
    "deepnote_variable_name": "input_1",
    "deepnote_variable_value": "8",
    "vscode": {
     "languageId": "r"
    }
   },
   "source": [
    "# Використані джерела <a class=\"anchor\" id=\"ids\"></a>"
   ]
  },
  {
   "cell_type": "markdown",
   "metadata": {
    "cell_id": "d84d49babc6f4ecc8a3bb60f946c091e",
    "deepnote_cell_height": 94.78125,
    "deepnote_cell_type": "markdown",
    "tags": []
   },
   "source": [
    "1. [KPMG Virtual Internship](https://www.insidesherpa.com/virtual-internships/m7W4GMqeT3bh9Nb2c)\n",
    "2. [An introduction to data cleaning with R / Edwin de Jonge, Mark van der Loo, 2013](https://cran.r-project.org/doc/contrib/de_Jonge+van_der_Loo-Introduction_to_data_cleaning_with_R.pdf)\n",
    "3. [Anomaly Detection in RAnomaly Detection in R](datacamp.com/courses/anomaly-detection-in-rdatacamp.com/courses/anomaly-detection-in-r)"
   ]
  }
 ],
 "metadata": {
  "deepnote": {},
  "deepnote_execution_queue": [],
  "deepnote_notebook_id": "98d3d2a2-2921-4f5d-a292-65d4b34cd357",
  "kernelspec": {
   "display_name": "R",
   "language": "R",
   "name": "ir"
  },
  "language_info": {
   "codemirror_mode": "r",
   "file_extension": ".r",
   "mimetype": "text/x-r-source",
   "name": "R",
   "pygments_lexer": "r",
   "version": "4.1.2"
  }
 },
 "nbformat": 4,
 "nbformat_minor": 4
}
