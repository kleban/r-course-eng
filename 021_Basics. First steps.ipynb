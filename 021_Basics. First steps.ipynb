{
 "cells": [
  {
   "cell_type": "markdown",
   "metadata": {},
   "source": [
    "# First steps in R and RStudio\n",
    "\n",
    "---\n",
    "\n",
    "## Basics of programming for Data Science and Machine Learning\n",
    "\n",
    "\n",
    "Applied Mathematical Modeling in Banking"
   ]
  },
  {
   "cell_type": "markdown",
   "metadata": {},
   "source": [
    "---"
   ]
  },
  {
   "cell_type": "markdown",
   "metadata": {},
   "source": [
    "## Table of contents"
   ]
  },
  {
   "cell_type": "markdown",
   "metadata": {},
   "source": [
    "1. What is R?\n",
    "2. Short history of R\n",
    "3. R Workspace and working directory\n",
    "4. How to find answers: help in R\n",
    "5. RStudio: first project\n",
    "6. Packages\n",
    "7. Input and output"
   ]
  },
  {
   "cell_type": "markdown",
   "metadata": {},
   "source": [
    "---"
   ]
  },
  {
   "cell_type": "markdown",
   "metadata": {},
   "source": [
    "# 1. What is R?"
   ]
  },
  {
   "cell_type": "markdown",
   "metadata": {},
   "source": [
    "R is a common programming language for data processing and machine learning. But you can use the tools of R and for simpler tasks: calculation, statistics, data visualization."
   ]
  },
  {
   "cell_type": "markdown",
   "metadata": {},
   "source": [
    "The syntax of the programming language R is quite simple to learn and use, and a wide range of ready-made packages allows you to use ready-made developments to solve a wide range of problems from statistical computing to learning neural networks for image recognition / classification.\n",
    "\n",
    "It is important to note that the programming language R is free and has open source.\n",
    "\n",
    "R has a number of useful properties, among which are:\n",
    "\n",
    "- [x] **Data visualization**. Construction of various types of graphics, work with maps, a wide range of libraries and settings for them.\n",
    "- [x] **Reuse the code**. Unlike spreadsheets, which have a limit on the number of observations (for example, MS Excel), R allows you to work with large data sets and restart calculations at the right time without creating additional copies of data.\n",
    "- [x] **Machine learning**. R allows you to use a very large number of algorithms to build, train and test models, as well as optimize hyperparameters and select factors. There are also special packages that combine all the described functions and algorithms, such as `caret` and `mlr`.\n",
    "- [x] **Automation**. Written code and projects can be turned into ready-to-publish and deployable products (deployment) or use developed algorithms to quickly solve similar problems (pipeline).\n",
    "\n",
    "You can also highlight the very useful features of Web application development and reporting, because using special libraries (shiny, shinydashboard, flexdashboard, rmarkdown, knitr, etc.), the results of the work can be \"reviwed\" or form \"on the fly\" ready for presentation documents."
   ]
  },
  {
   "cell_type": "markdown",
   "metadata": {},
   "source": [
    "---"
   ]
  },
  {
   "cell_type": "markdown",
   "metadata": {},
   "source": [
    "# 2. Short history of R"
   ]
  },
  {
   "cell_type": "markdown",
   "metadata": {},
   "source": [
    "The programming language `R` originated as a continuation of the statistical language `S`. The name of the language `S` was chosen similarly to `C`. `S` was created in `1976` by `Bell Labs`. The `S` language had several versions and was widely used for commercial programming. The most powerful was the version of `S-Plus`, which had a rather large number of functions for Windows and Unix-platform, which hindered its development. It is at this point that the story of R begins.\n",
    "\n",
    "In the summer of `1993`, two young `New Zealand` scholars announced a new development called R (there is information that the letter `\"R\"` was chosen because it precedes `\"S\"` in the Latin alphabet, there is an analogy with the language `\"C\"` which preceded by the language `\"B\"`). According to the authors (Robert Gentelman and Ross Ihaka), this was to be a new implementation of the S language, which differed from the S-Plus in some details, such as working with local and global variables, memory, and so on. In fact, a new language has been created that branches from S.\n",
    "\n",
    "The project developed quite slowly from the beginning, but when the R development team had the resources, including a convenient system for creating extensions (packages), more and more analysts, statisticians, scientists, programmers began to move from S-Plus to R. When fixed problems with the memory of the first versions of R, users of other statistical packages (`SAS`, `Stata`, `SYSSTAT`) began to switch to this language.\n",
    "\n",
    "The number of books and publications on the Internet on working with R is constantly growing, along with the interest of young and experienced professionals in the field of IT in data science, machine learning, business analytics, healthcare and more."
   ]
  },
  {
   "cell_type": "markdown",
   "metadata": {},
   "source": [
    "---"
   ]
  },
  {
   "cell_type": "markdown",
   "metadata": {},
   "source": [
    "# 3. R Workspace and working directory"
   ]
  },
  {
   "cell_type": "markdown",
   "metadata": {},
   "source": [
    "During code execution, the created objects / variables and functions are stored in the current session. In R it is possible to view the list of saving elements, to delete all or separate, to save a condition of current session a disk and to load it later not to pass all stages of code execution again (sometimes very difficult code can execute long enough and preservation of intermediate results can be a good decision). .\n",
    "\n",
    "For an example we will create two variables `var1`, `var2` and we will deduce on the console their values:"
   ]
  },
  {
   "cell_type": "code",
   "execution_count": 4,
   "metadata": {},
   "outputs": [
    {
     "data": {
      "text/html": [
       "10"
      ],
      "text/latex": [
       "10"
      ],
      "text/markdown": [
       "10"
      ],
      "text/plain": [
       "[1] 10"
      ]
     },
     "metadata": {},
     "output_type": "display_data"
    },
    {
     "data": {
      "text/html": [
       "3.87298334620742"
      ],
      "text/latex": [
       "3.87298334620742"
      ],
      "text/markdown": [
       "3.87298334620742"
      ],
      "text/plain": [
       "[1] 3.872983"
      ]
     },
     "metadata": {},
     "output_type": "display_data"
    }
   ],
   "source": [
    "var1 <- 10\n",
    "var2 <- sqrt(15)\n",
    "var1\n",
    "var2"
   ]
  },
  {
   "cell_type": "markdown",
   "metadata": {},
   "source": [
    "To view the list of variables in the current session, use `ls()`:"
   ]
  },
  {
   "cell_type": "code",
   "execution_count": 6,
   "metadata": {},
   "outputs": [
    {
     "data": {
      "text/html": [
       "<style>\n",
       ".list-inline {list-style: none; margin:0; padding: 0}\n",
       ".list-inline>li {display: inline-block}\n",
       ".list-inline>li:not(:last-child)::after {content: \"\\00b7\"; padding: 0 .5ex}\n",
       "</style>\n",
       "<ol class=list-inline><li>'var1'</li><li>'var2'</li></ol>\n"
      ],
      "text/latex": [
       "\\begin{enumerate*}\n",
       "\\item 'var1'\n",
       "\\item 'var2'\n",
       "\\end{enumerate*}\n"
      ],
      "text/markdown": [
       "1. 'var1'\n",
       "2. 'var2'\n",
       "\n",
       "\n"
      ],
      "text/plain": [
       "[1] \"var1\" \"var2\""
      ]
     },
     "metadata": {},
     "output_type": "display_data"
    }
   ],
   "source": [
    "ls()"
   ]
  },
  {
   "cell_type": "markdown",
   "metadata": {},
   "source": [
    "If you need to clear the workspace and free up memory, use the `rm()` command. So, to clear all variables you can use `rm(list = ls())`, but if you want to delete one or two variables, just enter the names:"
   ]
  },
  {
   "cell_type": "code",
   "execution_count": 8,
   "metadata": {},
   "outputs": [
    {
     "name": "stderr",
     "output_type": "stream",
     "text": [
      "Warning message in rm(list = c(\"var1\")):\n",
      "\"object 'var1' not found\"\n"
     ]
    },
    {
     "data": {
      "text/html": [
       "'var2'"
      ],
      "text/latex": [
       "'var2'"
      ],
      "text/markdown": [
       "'var2'"
      ],
      "text/plain": [
       "[1] \"var2\""
      ]
     },
     "metadata": {},
     "output_type": "display_data"
    }
   ],
   "source": [
    "rm(list = c(\"var1\"))\n",
    "ls()"
   ]
  },
  {
   "cell_type": "markdown",
   "metadata": {},
   "source": [
    "If you want save all the variables in current session and continue working later use `save.image()` and `load()` functions.\n",
    "\n",
    "Saving the image of the workspace to disk is performed using the command `save.image(\"path to the file.RData\")`, and reading it using the `load(\"path to the file.RData\")`:"
   ]
  },
  {
   "cell_type": "code",
   "execution_count": 13,
   "metadata": {},
   "outputs": [],
   "source": [
    "# example 1\n",
    "# Clear workspace\n",
    "rm(list = ls())\n",
    "\n",
    "# declare data\n",
    "a <- 10\n",
    "b <- a + 15\n",
    "\n",
    "# Save image to file\n",
    "save.image(\"tmp.RData\")"
   ]
  },
  {
   "cell_type": "code",
   "execution_count": 14,
   "metadata": {},
   "outputs": [
    {
     "name": "stdout",
     "output_type": "stream",
     "text": [
      "[1] 10\n"
     ]
    }
   ],
   "source": [
    "# example 2\n",
    "# Clear workspace\n",
    "rm(list = ls())\n",
    "\n",
    "# load image to file\n",
    "load(\"tmp.RData\")\n",
    "\n",
    "print(a)"
   ]
  },
  {
   "cell_type": "code",
   "execution_count": 12,
   "metadata": {},
   "outputs": [
    {
     "name": "stdout",
     "output_type": "stream",
     "text": [
      "[1] 25\n"
     ]
    }
   ],
   "source": [
    "print(b)"
   ]
  },
  {
   "cell_type": "markdown",
   "metadata": {},
   "source": [
    "Example 2 does not create any parameters, but they are saved in the session file."
   ]
  },
  {
   "cell_type": "markdown",
   "metadata": {},
   "source": [
    "**Working directory**\n",
    "\n",
    "Working in any environment involves linking to the current directory, against which file paths are built. Of course, you can always write the full path to the file, but this approach is quite inflexible and when transferring code between PCs creates a lot of problems for developers.\n",
    "\n",
    "To determine the base directory R in the current session use the command `getwd()`. If you use RStudio and have created a project, this directory will correspond to the full path to the project folder:"
   ]
  },
  {
   "cell_type": "code",
   "execution_count": 17,
   "metadata": {},
   "outputs": [
    {
     "data": {
      "text/html": [
       "'E:/Repos/YuRa/r-course-eng'"
      ],
      "text/latex": [
       "'E:/Repos/YuRa/r-course-eng'"
      ],
      "text/markdown": [
       "'E:/Repos/YuRa/r-course-eng'"
      ],
      "text/plain": [
       "[1] \"E:/Repos/YuRa/r-course-eng\""
      ]
     },
     "metadata": {},
     "output_type": "display_data"
    }
   ],
   "source": [
    "getwd()"
   ]
  },
  {
   "cell_type": "markdown",
   "metadata": {},
   "source": [
    "Use the `setwd(path)` command to change the current working directory. After running this function command, `getwd()` will point to the new address / path."
   ]
  },
  {
   "cell_type": "markdown",
   "metadata": {},
   "source": [
    "> It is necessary to know and be able to build absolute and relative paths to directories and files, this knowledge is useful for working with all programming languages and most software for working with data. "
   ]
  },
  {
   "cell_type": "markdown",
   "metadata": {},
   "source": [
    "There are 2 ways to record a path in Windows:\n",
    "\n",
    "- [x] `/` - slash, written as one character;\n",
    "- [x] `\\\\` - backslash, written as two characters.\n",
    "\n",
    "In the example below, both paths lead to the same folder (drive - drive letter):"
   ]
  },
  {
   "cell_type": "markdown",
   "metadata": {},
   "source": [
    "`\n",
    "setwd(\"drive:/folder1/folder2/\")\n",
    "setwd(\"drive:\\\\folder1\\\\folder2\\\\\")\n",
    "`"
   ]
  },
  {
   "cell_type": "markdown",
   "metadata": {},
   "source": [
    "You can use the `dir()` or `list.files()` command to view information about existing directories and files in the current working folder:"
   ]
  },
  {
   "cell_type": "code",
   "execution_count": 21,
   "metadata": {},
   "outputs": [
    {
     "data": {
      "text/html": [
       "<style>\n",
       ".list-inline {list-style: none; margin:0; padding: 0}\n",
       ".list-inline>li {display: inline-block}\n",
       ".list-inline>li:not(:last-child)::after {content: \"\\00b7\"; padding: 0 .5ex}\n",
       "</style>\n",
       "<ol class=list-inline><li>'00_About.ipynb'</li><li>'00_Datasets.ipynb'</li><li>'021_Basics.ipynb'</li><li>'031_ETL. Data Read and Write.ipynb'</li><li>'032_ETL. Manipulate data with dplyr.ipynb'</li><li>'033_ETL. Feature engineering in R.ipynb'</li><li>'assets'</li><li>'data'</li><li>'pptx'</li><li>'README.md'</li><li>'tmp.RData'</li></ol>\n"
      ],
      "text/latex": [
       "\\begin{enumerate*}\n",
       "\\item '00\\_About.ipynb'\n",
       "\\item '00\\_Datasets.ipynb'\n",
       "\\item '021\\_Basics.ipynb'\n",
       "\\item '031\\_ETL. Data Read and Write.ipynb'\n",
       "\\item '032\\_ETL. Manipulate data with dplyr.ipynb'\n",
       "\\item '033\\_ETL. Feature engineering in R.ipynb'\n",
       "\\item 'assets'\n",
       "\\item 'data'\n",
       "\\item 'pptx'\n",
       "\\item 'README.md'\n",
       "\\item 'tmp.RData'\n",
       "\\end{enumerate*}\n"
      ],
      "text/markdown": [
       "1. '00_About.ipynb'\n",
       "2. '00_Datasets.ipynb'\n",
       "3. '021_Basics.ipynb'\n",
       "4. '031_ETL. Data Read and Write.ipynb'\n",
       "5. '032_ETL. Manipulate data with dplyr.ipynb'\n",
       "6. '033_ETL. Feature engineering in R.ipynb'\n",
       "7. 'assets'\n",
       "8. 'data'\n",
       "9. 'pptx'\n",
       "10. 'README.md'\n",
       "11. 'tmp.RData'\n",
       "\n",
       "\n"
      ],
      "text/plain": [
       " [1] \"00_About.ipynb\"                           \n",
       " [2] \"00_Datasets.ipynb\"                        \n",
       " [3] \"021_Basics.ipynb\"                         \n",
       " [4] \"031_ETL. Data Read and Write.ipynb\"       \n",
       " [5] \"032_ETL. Manipulate data with dplyr.ipynb\"\n",
       " [6] \"033_ETL. Feature engineering in R.ipynb\"  \n",
       " [7] \"assets\"                                   \n",
       " [8] \"data\"                                     \n",
       " [9] \"pptx\"                                     \n",
       "[10] \"README.md\"                                \n",
       "[11] \"tmp.RData\"                                "
      ]
     },
     "metadata": {},
     "output_type": "display_data"
    }
   ],
   "source": [
    "dir()"
   ]
  },
  {
   "cell_type": "code",
   "execution_count": 26,
   "metadata": {},
   "outputs": [
    {
     "data": {
      "text/html": [
       "<style>\n",
       ".list-inline {list-style: none; margin:0; padding: 0}\n",
       ".list-inline>li {display: inline-block}\n",
       ".list-inline>li:not(:last-child)::after {content: \"\\00b7\"; padding: 0 .5ex}\n",
       "</style>\n",
       "<ol class=list-inline><li>'00_About.ipynb'</li><li>'00_Datasets.ipynb'</li><li>'021_Basics.ipynb'</li><li>'031_ETL. Data Read and Write.ipynb'</li><li>'032_ETL. Manipulate data with dplyr.ipynb'</li><li>'033_ETL. Feature engineering in R.ipynb'</li><li>'assets'</li><li>'data'</li><li>'pptx'</li><li>'README.md'</li><li>'tmp.RData'</li></ol>\n"
      ],
      "text/latex": [
       "\\begin{enumerate*}\n",
       "\\item '00\\_About.ipynb'\n",
       "\\item '00\\_Datasets.ipynb'\n",
       "\\item '021\\_Basics.ipynb'\n",
       "\\item '031\\_ETL. Data Read and Write.ipynb'\n",
       "\\item '032\\_ETL. Manipulate data with dplyr.ipynb'\n",
       "\\item '033\\_ETL. Feature engineering in R.ipynb'\n",
       "\\item 'assets'\n",
       "\\item 'data'\n",
       "\\item 'pptx'\n",
       "\\item 'README.md'\n",
       "\\item 'tmp.RData'\n",
       "\\end{enumerate*}\n"
      ],
      "text/markdown": [
       "1. '00_About.ipynb'\n",
       "2. '00_Datasets.ipynb'\n",
       "3. '021_Basics.ipynb'\n",
       "4. '031_ETL. Data Read and Write.ipynb'\n",
       "5. '032_ETL. Manipulate data with dplyr.ipynb'\n",
       "6. '033_ETL. Feature engineering in R.ipynb'\n",
       "7. 'assets'\n",
       "8. 'data'\n",
       "9. 'pptx'\n",
       "10. 'README.md'\n",
       "11. 'tmp.RData'\n",
       "\n",
       "\n"
      ],
      "text/plain": [
       " [1] \"00_About.ipynb\"                           \n",
       " [2] \"00_Datasets.ipynb\"                        \n",
       " [3] \"021_Basics.ipynb\"                         \n",
       " [4] \"031_ETL. Data Read and Write.ipynb\"       \n",
       " [5] \"032_ETL. Manipulate data with dplyr.ipynb\"\n",
       " [6] \"033_ETL. Feature engineering in R.ipynb\"  \n",
       " [7] \"assets\"                                   \n",
       " [8] \"data\"                                     \n",
       " [9] \"pptx\"                                     \n",
       "[10] \"README.md\"                                \n",
       "[11] \"tmp.RData\"                                "
      ]
     },
     "metadata": {},
     "output_type": "display_data"
    }
   ],
   "source": [
    "list.files()"
   ]
  },
  {
   "cell_type": "markdown",
   "metadata": {},
   "source": [
    "---"
   ]
  },
  {
   "cell_type": "markdown",
   "metadata": {},
   "source": [
    "# 4. How to find answers: help in R"
   ]
  },
  {
   "cell_type": "markdown",
   "metadata": {},
   "source": [
    "To get quick help in R, use the `help(object_name or function)` function or `?Object_name` or `?function`:"
   ]
  },
  {
   "cell_type": "code",
   "execution_count": 24,
   "metadata": {},
   "outputs": [],
   "source": [
    "# Get help for intersect() function\n",
    "help(intersect)"
   ]
  },
  {
   "cell_type": "markdown",
   "metadata": {},
   "source": [
    "If you need to get information about the package, use:"
   ]
  },
  {
   "cell_type": "code",
   "execution_count": 25,
   "metadata": {},
   "outputs": [],
   "source": [
    "help(package = \"stats\")"
   ]
  },
  {
   "cell_type": "markdown",
   "metadata": {},
   "source": [
    "Detailed documentation you can find at list of sources:\n",
    "\n",
    "- [x] https://cran.r-project.org/web/packages/available_packages_by_name.html\n",
    "- [x] https://www.rdocumentation.org/\n",
    "- [x] https://rdrr.io/r/"
   ]
  },
  {
   "cell_type": "markdown",
   "metadata": {},
   "source": [
    "---"
   ]
  },
  {
   "cell_type": "markdown",
   "metadata": {},
   "source": [
    "# 5. RStudio first project"
   ]
  },
  {
   "cell_type": "markdown",
   "metadata": {},
   "source": [
    "After running the IDE RStudio usually consists of 3 or 4 blocks:\n",
    "\n",
    "- [x] The file you worked with last (top left).\n",
    "- [x] Console for entering code and outputting results (bottom left).\n",
    "- [x] Environment variables (`Environment`) (top right) + Command history (` History`), Connections to external data resources, such as databases (`Connections`), tutorial (` Tutorial`).\n",
    "- [x] Catalog or project files (`Files`), Installed packages (` Packages`), Help (`Help`), Visualization of results (` Plots`, `Viewer`)."
   ]
  },
  {
   "cell_type": "markdown",
   "metadata": {},
   "source": [
    "![RStudio UI](assets/images/02/rstudio_3.png)"
   ]
  },
  {
   "cell_type": "markdown",
   "metadata": {},
   "source": [
    "For the first demonstration of work we will execute in the console 2 lines of the code:\n",
    "![Test App](assets/images/02/rstudio_4.png)"
   ]
  },
  {
   "cell_type": "markdown",
   "metadata": {},
   "source": [
    "The first line with the code `data <- c(3,7,1,6,3,4,5,4,2)` creates a collection of numbers in memory. Note that the **Environments** block displays all variables that fall asleep in the current workspace (more on this later).\n",
    "\n",
    "The second line `plot(data, type =\"l\")` allows you to build a simple linear graph (`type=\"l\" - linear,\"p\" - point`,` help(plot) `for details). Graphs that are \"drawn\" as pictures are displayed in the **Plots** block. If the graph has a more complex visualization with interactive elements that already use the tools html / css / js, it will be displayed in the block **View**.\n",
    "\n",
    "If you switch to the **History** tab, you will see a list of previously executed commands."
   ]
  },
  {
   "cell_type": "markdown",
   "metadata": {},
   "source": [
    "<div class=\"alert alert-info\">\n",
    "    Для швидкого \"гортання\" уже виконаних раніше команд на консолі (<i>Console</i>) можна скористатися клавішами Up/Down на клавіатурі:\n",
    "    <img src=\"assets/images/02/arrow_keys.png\" />\n",
    "</div>"
   ]
  },
  {
   "cell_type": "markdown",
   "metadata": {},
   "source": [
    "**Lets create first project**"
   ]
  },
  {
   "cell_type": "markdown",
   "metadata": {},
   "source": [
    "Unlike `RGui` - default R code IDE, `RStudio` implements a project concept that allows you to organize code and combine its various parts within a specific solution.\n",
    "\n",
    "To begin, select `File> New Project` from the top menu. In the window for selecting the method of creating a project, click `New Directory`. This method assumes that no project file exists yet or we will later copy the ready-made code there.\n",
    "\n",
    "![Create Project](assets/images/02/rstudio_6.png)\n",
    "\n",
    "Select `New Project` on the next step: ![New Project](assets/images/02/rstudio_7.png)\n",
    "\n",
    "Next you need to choose the name for the project and the path where the directory with the project files will be created:\n",
    "\n",
    "![Project Folder](assets/images/02/rstudio_8.png)\n",
    "\n",
    "After clicking on `Create Project` a folder will be created according to the previously selected path. You can use both the main menu items and the project submenu on the right to start a project or quickly switch between projects. You can also open a project by running the `* .Rproj` file in` Windows` Explorer.\n",
    "\n",
    "![First Project View](assets/images/02/rstudio_9.png)"
   ]
  },
  {
   "cell_type": "markdown",
   "metadata": {},
   "source": [
    "To add a new file with code `R` you need to select from the main menu` File> New file> R Script` or use the command `Ctrl + Shift + N`. The new file will be named `Untitled [X]`, so I recommend saving it immediately, for example, as `TestCode.R`"
   ]
  },
  {
   "cell_type": "markdown",
   "metadata": {},
   "source": [
    "**TASK 1**"
   ]
  },
  {
   "cell_type": "markdown",
   "metadata": {},
   "source": [
    "For the first project we will solve the following problem:\n",
    "\n",
    "> Write a program that generates a vector of 20 random numbers within [1; 5], calculates the average and sum of numbers, and displays a histogram of the frequency of each value (how many times this number is repeated in the vector)."
   ]
  },
  {
   "cell_type": "markdown",
   "metadata": {},
   "source": [
    "**SOLUTION** (TASK1)"
   ]
  },
  {
   "cell_type": "markdown",
   "metadata": {},
   "source": [
    "To begin, create a new file: `File`>` New file`> `R Script`. The newly created file should be saved immediately, for example, by naming `TestCode.R`. By default, you will be prompted to save it to the project directory."
   ]
  },
  {
   "cell_type": "markdown",
   "metadata": {},
   "source": [
    "The code for generating 20 random numbers in the range $[1; 5]$ will look like this:"
   ]
  },
  {
   "cell_type": "code",
   "execution_count": 28,
   "metadata": {},
   "outputs": [
    {
     "data": {
      "text/html": [
       "<style>\n",
       ".list-inline {list-style: none; margin:0; padding: 0}\n",
       ".list-inline>li {display: inline-block}\n",
       ".list-inline>li:not(:last-child)::after {content: \"\\00b7\"; padding: 0 .5ex}\n",
       "</style>\n",
       "<ol class=list-inline><li>1</li><li>4</li><li>4</li><li>5</li><li>5</li><li>3</li><li>4</li><li>5</li><li>4</li><li>4</li><li>4</li><li>4</li><li>2</li><li>5</li><li>5</li><li>4</li><li>5</li><li>2</li><li>3</li><li>1</li></ol>\n"
      ],
      "text/latex": [
       "\\begin{enumerate*}\n",
       "\\item 1\n",
       "\\item 4\n",
       "\\item 4\n",
       "\\item 5\n",
       "\\item 5\n",
       "\\item 3\n",
       "\\item 4\n",
       "\\item 5\n",
       "\\item 4\n",
       "\\item 4\n",
       "\\item 4\n",
       "\\item 4\n",
       "\\item 2\n",
       "\\item 5\n",
       "\\item 5\n",
       "\\item 4\n",
       "\\item 5\n",
       "\\item 2\n",
       "\\item 3\n",
       "\\item 1\n",
       "\\end{enumerate*}\n"
      ],
      "text/markdown": [
       "1. 1\n",
       "2. 4\n",
       "3. 4\n",
       "4. 5\n",
       "5. 5\n",
       "6. 3\n",
       "7. 4\n",
       "8. 5\n",
       "9. 4\n",
       "10. 4\n",
       "11. 4\n",
       "12. 4\n",
       "13. 2\n",
       "14. 5\n",
       "15. 5\n",
       "16. 4\n",
       "17. 5\n",
       "18. 2\n",
       "19. 3\n",
       "20. 1\n",
       "\n",
       "\n"
      ],
      "text/plain": [
       " [1] 1 4 4 5 5 3 4 5 4 4 4 4 2 5 5 4 5 2 3 1"
      ]
     },
     "metadata": {},
     "output_type": "display_data"
    }
   ],
   "source": [
    "vtr <- sample(1:5, 20, replace=TRUE)\n",
    "vtr"
   ]
  },
  {
   "cell_type": "markdown",
   "metadata": {},
   "source": [
    "_Note. The results of execution on your PC will be different, because the ** pseudo ** random number generator will take a different \"reference point\" to generate numbers. I recommend viewing the function `set.seed(reference point - number)` ._\n",
    "\n",
    "_P.S. Also met on the network information that the work `set.seed()` for `R` in`4+`version may differ from`3+`. After checking the information, I will update this text._"
   ]
  },
  {
   "cell_type": "markdown",
   "metadata": {},
   "source": [
    "Calculation and output to the console information about the amount and average value:"
   ]
  },
  {
   "cell_type": "code",
   "execution_count": 30,
   "metadata": {},
   "outputs": [
    {
     "name": "stdout",
     "output_type": "stream",
     "text": [
      "[1] \"Sum: 74\"\n",
      "[1] \"Mean: 3.7\"\n"
     ]
    }
   ],
   "source": [
    "vtr_sum <- sum(vtr)\n",
    "vtr_mean <- mean(vtr)\n",
    "\n",
    "print(paste0(\"Sum: \", vtr_sum))\n",
    "print(paste0(\"Mean: \", vtr_mean))"
   ]
  },
  {
   "cell_type": "markdown",
   "metadata": {},
   "source": [
    "We will deduce the histogram:"
   ]
  },
  {
   "cell_type": "code",
   "execution_count": 32,
   "metadata": {},
   "outputs": [
    {
     "data": {
      "image/png": "[encoded data removed]",
      "text/plain": [
       "Plot with title \"Histogram of vtr\""
      ]
     },
     "metadata": {
      "image/png": {
       "height": 420,
       "width": 420
      }
     },
     "output_type": "display_data"
    }
   ],
   "source": [
    "hist(vtr, breaks = 5)"
   ]
  },
  {
   "cell_type": "markdown",
   "metadata": {},
   "source": [
    "_Note. You can read more about the parameters of the `hist()` function at (https://www.rdocumentation.org/packages/graphics/versions/3.6.2/topics/hist)_."
   ]
  },
  {
   "cell_type": "markdown",
   "metadata": {},
   "source": [
    "The approximate appearance of the `RStudio` window after performing all the above operations will look like this:\n",
    "![First Project View](assets/images/02/rstudio_10.png)"
   ]
  },
  {
   "cell_type": "markdown",
   "metadata": {},
   "source": [
    "You should pay attention to the selected block `Environment`, where you can view all available variables that are currently in` memory`. These settings can be accessed in the code or from the console at any time. _Detailed information about the work environment is discussed below._"
   ]
  },
  {
   "cell_type": "markdown",
   "metadata": {},
   "source": [
    "---"
   ]
  },
  {
   "cell_type": "markdown",
   "metadata": {},
   "source": [
    "# 6. Packages"
   ]
  },
  {
   "cell_type": "markdown",
   "metadata": {},
   "source": [
    "**Console commands for packages**"
   ]
  },
  {
   "cell_type": "markdown",
   "metadata": {},
   "source": [
    "The popularity of `R` is due, inter alia, to the ability to quickly implement quite complex research using sets of ready-made functions. Such features are combined into packages and published by scientists, researchers and developers from around the world.\n",
    "\n",
    "**Packages in R** - organized sets of methods and classes to perform a narrow set of tasks when programming on `R`. They contain both functions and a description of how to use them, as well as data for reproducing code examples.\n",
    "\n",
    "Packages can be downloaded from the official project website [cran.r-project.org](https://cran.r-project.org/web/packages/available_packages_by_name.html) or other sources (dev versions are available at `github `). Packages can be downloaded to `R` both from the local disk and from servers on the Internet.\n",
    "\n",
    "To install the package, use the command **`install.packages()`**:"
   ]
  },
  {
   "cell_type": "code",
   "execution_count": 33,
   "metadata": {},
   "outputs": [
    {
     "name": "stderr",
     "output_type": "stream",
     "text": [
      "Installing package into 'C:/Users/yura/Documents/R/win-library/4.0'\n",
      "(as 'lib' is unspecified)\n",
      "\n"
     ]
    },
    {
     "name": "stdout",
     "output_type": "stream",
     "text": [
      "package 'fun' successfully unpacked and MD5 sums checked\n",
      "\n",
      "The downloaded binary packages are in\n",
      "\tD:\\Temp\\RtmpAfrrqd\\downloaded_packages\n"
     ]
    }
   ],
   "source": [
    "install.packages(\"fun\")"
   ]
  },
  {
   "cell_type": "markdown",
   "metadata": {},
   "source": [
    "To connect the package and use it, you should use `library()`: "
   ]
  },
  {
   "cell_type": "code",
   "execution_count": 35,
   "metadata": {},
   "outputs": [],
   "source": [
    "library(fun)"
   ]
  },
  {
   "cell_type": "markdown",
   "metadata": {},
   "source": [
    "You can use the `packageDescription()` and `help()` commands to get information about the installed package:"
   ]
  },
  {
   "cell_type": "code",
   "execution_count": 39,
   "metadata": {},
   "outputs": [
    {
     "data": {
      "text/plain": [
       "Package: fun\n",
       "Type: Package\n",
       "Title: Use R for Fun\n",
       "Version: 0.3\n",
       "Authors@R: c( person(\"Yihui\", \"Xie\", role = c(\"aut\", \"cre\"), email =\n",
       "        \"xie@yihui.name\", comment = c(ORCID = \"0000-0003-0645-5666\")),\n",
       "        person(\"Yixuan\", \"Qiu\", role = \"aut\"), person(\"Taiyun\", \"Wei\",\n",
       "        role = \"aut\") )\n",
       "Maintainer: Yihui Xie <xie@yihui.name>\n",
       "Description: This is a collection of R games and other funny stuff,\n",
       "        such as the classic Mine sweeper and sliding puzzles.\n",
       "License: GPL\n",
       "LazyData: yes\n",
       "URL: https://github.com/yihui/fun\n",
       "BugReports: https://github.com/yihui/fun/issues\n",
       "RoxygenNote: 7.1.1\n",
       "Encoding: UTF-8\n",
       "NeedsCompilation: no\n",
       "Packaged: 2020-10-23 17:48:31 UTC; yihui\n",
       "Author: Yihui Xie [aut, cre] (<https://orcid.org/0000-0003-0645-5666>),\n",
       "        Yixuan Qiu [aut], Taiyun Wei [aut]\n",
       "Repository: CRAN\n",
       "Date/Publication: 2020-10-23 18:00:02 UTC\n",
       "Built: R 4.0.3; ; 2020-10-27 08:17:33 UTC; windows\n",
       "\n",
       "-- File: C:/Users/yura/Documents/R/win-library/4.0/fun/Meta/package.rds "
      ]
     },
     "metadata": {},
     "output_type": "display_data"
    }
   ],
   "source": [
    "packageDescription(\"fun\")\n",
    "help(package = \"fun\")"
   ]
  },
  {
   "cell_type": "markdown",
   "metadata": {},
   "source": [
    "---"
   ]
  },
  {
   "cell_type": "markdown",
   "metadata": {},
   "source": [
    "**Packages in RStudio**"
   ]
  },
  {
   "cell_type": "markdown",
   "metadata": {},
   "source": [
    "Working with packages in RStudio is organized quite conveniently and allows you to quickly view information about the package and the functions it allows you to use.\n",
    "\n",
    "You can use the `Tools` menu to install and update packages:\n",
    "![Pack](assets/images/02/packages_1.png)\n",
    "\n",
    "After selecting `Install Packages ...` a window will open where you can select both the source of the package installation and the package itself from the list by entering the first few letters of its name: ![Pack](assets/images/02/packages_2.png)"
   ]
  },
  {
   "cell_type": "markdown",
   "metadata": {},
   "source": [
    "`RStudio` also allows you to view installed packages / libraries developed by other users and loaded into memory (a\" tick \"next to the package name):\n",
    "![Pack](assets/images/02/packages_3.png)"
   ]
  },
  {
   "cell_type": "markdown",
   "metadata": {},
   "source": [
    "You can access functions and other elements of the package using the entry `package_name::function_name()` without connecting the library using `library()`:![Pack](assets/images/02/packages_4.png)"
   ]
  },
  {
   "cell_type": "markdown",
   "metadata": {},
   "source": [
    "**TASK FOR STUDENTS**\n",
    "\n",
    "Install `fun` package. Find in documentation function testing user for alzheimer test. Copy and run function in RStudio.\n",
    "\n",
    "`alzheimer_test` - Test Alzheimer’s disease by finding out the different character in a\n",
    "character rectangle. \n"
   ]
  },
  {
   "cell_type": "markdown",
   "metadata": {},
   "source": [
    "**SOLUTION**"
   ]
  },
  {
   "cell_type": "code",
   "execution_count": 45,
   "metadata": {},
   "outputs": [
    {
     "data": {
      "text/plain": [
       "NULL"
      ]
     },
     "metadata": {},
     "output_type": "display_data"
    }
   ],
   "source": [
    "# it works in RStudio and needs termila/console\n",
    "library(fun)\n",
    "alzheimer_test(\n",
    "char1 = c(\"9\", \"O\", \"M\", \"I\", \"F\", \"D\"),\n",
    "char2 = c(\"6\", \"C\", \"N\", \"T\", \"E\", \"O\"),\n",
    "nr = 10,\n",
    "nc = 30)"
   ]
  },
  {
   "cell_type": "markdown",
   "metadata": {},
   "source": [
    "# 7. Input and output"
   ]
  },
  {
   "cell_type": "markdown",
   "metadata": {},
   "source": [
    "### Input"
   ]
  },
  {
   "cell_type": "markdown",
   "metadata": {},
   "source": [
    "You can read data from R-console with `scan()` and `readline()`."
   ]
  },
  {
   "cell_type": "markdown",
   "metadata": {},
   "source": [
    "`readline()` function returns the text and writes it to some character variable. For example:"
   ]
  },
  {
   "cell_type": "code",
   "execution_count": 1,
   "metadata": {},
   "outputs": [
    {
     "name": "stdout",
     "output_type": "stream",
     "text": [
      "Text to ask user input: Demo text\n"
     ]
    }
   ],
   "source": [
    "text <- readline(prompt = \"Text to ask user input: \") # prompt is a text to view"
   ]
  },
  {
   "cell_type": "code",
   "execution_count": 5,
   "metadata": {},
   "outputs": [
    {
     "data": {
      "text/html": [
       "'Demo text'"
      ],
      "text/latex": [
       "'Demo text'"
      ],
      "text/markdown": [
       "'Demo text'"
      ],
      "text/plain": [
       "[1] \"Demo text\""
      ]
     },
     "metadata": {},
     "output_type": "display_data"
    }
   ],
   "source": [
    "text"
   ]
  },
  {
   "cell_type": "markdown",
   "metadata": {},
   "source": [
    "`scan()` function read data into a vector or list from the console or file. Example:"
   ]
  },
  {
   "cell_type": "markdown",
   "metadata": {},
   "source": [
    "Run this on RStudio\n",
    "\n",
    "`\n",
    "data <- scan()\n",
    "1: 12 5\n",
    "3: 2\n",
    "4:`\n",
    "\n",
    "`> z\n",
    "[1] 12 5 2`"
   ]
  },
  {
   "cell_type": "markdown",
   "metadata": {},
   "source": [
    "### Output"
   ]
  },
  {
   "cell_type": "markdown",
   "metadata": {},
   "source": [
    "For output data on RStudio you can just use variable name. Also you can use `print()` function."
   ]
  },
  {
   "cell_type": "code",
   "execution_count": 7,
   "metadata": {},
   "outputs": [
    {
     "name": "stdout",
     "output_type": "stream",
     "text": [
      "[1] 15\n"
     ]
    }
   ],
   "source": [
    "x <- 5\n",
    "y <- 10\n",
    "print(x + y)"
   ]
  },
  {
   "cell_type": "markdown",
   "metadata": {},
   "source": [
    "One more useful function is `cat()`. It outputs the objects, concatenating the representations. cat performs much less conversion than `print()`."
   ]
  },
  {
   "cell_type": "code",
   "execution_count": 9,
   "metadata": {},
   "outputs": [
    {
     "name": "stdout",
     "output_type": "stream",
     "text": [
      "Some text 1 more text"
     ]
    }
   ],
   "source": [
    "cat(\"Some text\", 1, \"more text\")"
   ]
  },
  {
   "cell_type": "markdown",
   "metadata": {},
   "source": [
    "In our course we will often use functions for combining text and varibles before printing them: `paste()` and `paste0()`."
   ]
  },
  {
   "cell_type": "markdown",
   "metadata": {},
   "source": [
    "Syntax of `paste()` function is the next: `paste (…, sep = \" \", collapse = NULL)`.\n",
    "\n",
    "* `…` - one or more R objects, to be converted to character vectors.\n",
    "* `sep` - a character string to separate the terms. Not `NA_character_`.\n",
    "* `collapse` - an optional character string to separate the results. Not `NA_character_`.\n",
    "\n",
    "Example:"
   ]
  },
  {
   "cell_type": "code",
   "execution_count": 46,
   "metadata": {},
   "outputs": [
    {
     "data": {
      "text/html": [
       "'file number 32'"
      ],
      "text/latex": [
       "'file number 32'"
      ],
      "text/markdown": [
       "'file number 32'"
      ],
      "text/plain": [
       "[1] \"file number 32\""
      ]
     },
     "metadata": {},
     "output_type": "display_data"
    }
   ],
   "source": [
    "paste(\"file\", \"number\", \"32\") # default separator is space \" \""
   ]
  },
  {
   "cell_type": "code",
   "execution_count": 48,
   "metadata": {},
   "outputs": [
    {
     "data": {
      "text/html": [
       "'file_number_32'"
      ],
      "text/latex": [
       "'file\\_number\\_32'"
      ],
      "text/markdown": [
       "'file_number_32'"
      ],
      "text/plain": [
       "[1] \"file_number_32\""
      ]
     },
     "metadata": {},
     "output_type": "display_data"
    }
   ],
   "source": [
    "paste(\"file\", \"number\", \"32\", sep = \"_\") # separator underline \"_\""
   ]
  },
  {
   "cell_type": "markdown",
   "metadata": {},
   "source": [
    "All parameters before separator should be splitted by commas."
   ]
  },
  {
   "cell_type": "markdown",
   "metadata": {},
   "source": [
    "And `paste0(…, collapse = NULL)` uses like this:"
   ]
  },
  {
   "cell_type": "code",
   "execution_count": 12,
   "metadata": {},
   "outputs": [
    {
     "data": {
      "text/html": [
       "'filenumber32'"
      ],
      "text/latex": [
       "'filenumber32'"
      ],
      "text/markdown": [
       "'filenumber32'"
      ],
      "text/plain": [
       "[1] \"filenumber32\""
      ]
     },
     "metadata": {},
     "output_type": "display_data"
    }
   ],
   "source": [
    "paste0(\"file\", \"number\", \"32\") # its just combines strings"
   ]
  },
  {
   "cell_type": "code",
   "execution_count": 11,
   "metadata": {},
   "outputs": [
    {
     "name": "stdout",
     "output_type": "stream",
     "text": [
      "[1] \"filenumber32\"\n"
     ]
    }
   ],
   "source": [
    "print(paste0(\"file\", \"number\", \"32\"))"
   ]
  },
  {
   "cell_type": "markdown",
   "metadata": {},
   "source": [
    "---"
   ]
  },
  {
   "cell_type": "markdown",
   "metadata": {},
   "source": [
    "# References"
   ]
  },
  {
   "cell_type": "markdown",
   "metadata": {},
   "source": [
    "1. The Comprehensive R Archive NetworkRcran: Url: https://cran.r-project.org/\n",
    "\n",
    "\n",
    "2. RStudio official website. Url: https://rstudio.com/\n",
    "\n",
    "\n",
    "3. Anaconda official website. Url: https://www.anaconda.com/\n",
    "\n",
    "\n",
    "4. Introduction to R. Datacamp interactive course. Url:  https://www.datacamp.com/courses/free-introduction-to-r\n",
    "\n",
    "\n",
    "5. Quanargo. Introduction to R. Url: https://www.quantargo.com/courses/course-r-introduction\n",
    "\n",
    "\n",
    "6. R Coder Project. Begin your data science career with R language! Url: https://r-coder.com/\n",
    "\n",
    "\n",
    "7. R Core Team (2019). R: A language and environment for statistical computing. R Foundation for Statistical Computing, Vienna, Austria.URL https://www.R-project.org/.\n",
    "\n",
    "\n",
    "8. A.B. Shipunov, EM Baldin, P.A. Volkova, VG Sufiyanov. Visual statistics. We use R! - M .: DMK Press, 2012. - 298 p .: ill."
   ]
  }
 ],
 "metadata": {
  "kernelspec": {
   "display_name": "R",
   "language": "R",
   "name": "ir"
  },
  "language_info": {
   "codemirror_mode": "r",
   "file_extension": ".r",
   "mimetype": "text/x-r-source",
   "name": "R",
   "pygments_lexer": "r",
   "version": "4.0.5"
  }
 },
 "nbformat": 4,
 "nbformat_minor": 5
}
