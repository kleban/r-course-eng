{
 "cells": [
  {
   "cell_type": "markdown",
   "metadata": {},
   "source": [
    "# Variables, Types, Operators\n",
    "\n",
    "---\n",
    "\n",
    "## Basics of programming for Data Science and Machine Learning\n",
    "\n",
    "\n",
    "Applied Mathematical Modeling in Banking"
   ]
  },
  {
   "cell_type": "markdown",
   "metadata": {},
   "source": [
    "---"
   ]
  },
  {
   "cell_type": "markdown",
   "metadata": {},
   "source": [
    "## Table of contents"
   ]
  },
  {
   "cell_type": "markdown",
   "metadata": {},
   "source": [
    "1. Declaring and initializing variables \n",
    "2. Basic data types\n",
    "3. Operators\n",
    "4. Conditional execution: if-else statements\n",
    "5. Repetitive execution: for loops, repeat and while\n",
    "6. Some useful functions in R\n",
    "7. Writing own functions"
   ]
  },
  {
   "cell_type": "markdown",
   "metadata": {},
   "source": [
    "---"
   ]
  },
  {
   "cell_type": "markdown",
   "metadata": {},
   "source": [
    "# 1. Declaring and initializing variables "
   ]
  },
  {
   "cell_type": "markdown",
   "metadata": {},
   "source": [
    "**The concept of variables and assignment operator**"
   ]
  },
  {
   "cell_type": "markdown",
   "metadata": {},
   "source": [
    "The basic concept of almost all programming languages is **variable**. A variable allows you to write a value or object and name it for further access, change, deletion by name.\n",
    "\n",
    "For example, assigning the value `10` to the variable` my_variable` is written as: `my_variable <- 5` or` my_variable = 5`.\n",
    "\n",
    "The operation of assigning a variable to a certain value in programming is called **assignment **.\n",
    "\n",
    "_Importantly! Note that assignment (`<-`,` = `) and equality (` == `) are different concepts. The operator `==` checks the match of the values of two variables/objects and returns the result as a logical value `TRUE` (if the values are equal) or` FALSE` (if the values are not equal)_.\n",
    "\n",
    "The `<-` character is not often used in various programming languages, usually used for assignment `=`. However, in R the main means of initial initialization of variables is `<-`.\n",
    "\n",
    "_Also in programming on R assignment operators `<<-`, `->`, `->>` are used. You can read about them in the numbers below._"
   ]
  },
  {
   "cell_type": "markdown",
   "metadata": {},
   "source": [
    "<div class=\"alert alert-success\">\n",
    "I recommend reading about the difference between assignment operators in R <code>&lt;-</code> and <code>=</code> here:\n",
    "\n",
    " 1. [Why do we use arrow as an assignment operator? (Colin FAY)](https://colinfay.me/r-assignment/).\n",
    " 2. [Difference between assignment operators in R (Ren Kun)](https://renkun.me/2014/01/28/difference-between-assignment-operators-in-r/).\n",
    " 3. [Assignment Operators](https://stat.ethz.ch/R-manual/R-devel/library/base/html/assignOps.html).\n",
    "</div>"
   ]
  },
  {
   "cell_type": "markdown",
   "metadata": {},
   "source": [
    "Example:"
   ]
  },
  {
   "cell_type": "code",
   "execution_count": 2,
   "metadata": {},
   "outputs": [
    {
     "data": {
      "text/html": [
       "55"
      ],
      "text/latex": [
       "55"
      ],
      "text/markdown": [
       "55"
      ],
      "text/plain": [
       "[1] 55"
      ]
     },
     "metadata": {},
     "output_type": "display_data"
    }
   ],
   "source": [
    "x <- 45\n",
    "y <- 10\n",
    "z <- x + y # z = 45 + 10\n",
    "z"
   ]
  },
  {
   "cell_type": "markdown",
   "metadata": {},
   "source": [
    "Consider the example described above:\n",
    "\n",
    "- [x] In the first line the variable `x` is declared and it is assigned value` 45`.\n",
    "- [x] In the second line the variable `y` is declared and it is assigned value` 10`.\n",
    "- [x] In the third line the variable `z` is declared and the value of the sum` x` + `y` is assigned to it. <br><small><i> `#` in R is used as a code comment, text written after it is ignored.</i></small>\n",
    "- [x] The fourth line displays the variable `z` on the console."
   ]
  },
  {
   "cell_type": "markdown",
   "metadata": {},
   "source": [
    "---"
   ]
  },
  {
   "cell_type": "markdown",
   "metadata": {},
   "source": [
    "**Variable naming rules**\n",
    "\n",
    "There are a few basic rules for naming variables in R:\n",
    "1. The name of the variable may consist of **letters** [a-z, A-z], **digits** [0-9], **dot** `.` and **underline**` _`.\n",
    "2. The variable name must start with **letter or dot**. If it starts with a dot, then the next character must be a letter.\n",
    "3. You cannot use reserved programming language keywords to name variables, such as `TRUE` /` FALSE`.\n",
    "\n",
    "The variable name cannot contain a space (`space`). If there is a need to name an object in a few words, they are usually separated by an underscore `_` or a period` .`. For example, a variable can be called `my_variable_name` or` my.variable.name`. The name `myVariableName` ([camel case] (https://en.wikipedia.org/wiki/Camel_case)) will also be correctly perceived in the R programming language, but such an entry is not often used here.\n"
   ]
  },
  {
   "cell_type": "markdown",
   "metadata": {},
   "source": [
    "<span class=\"text-success\">Приклад коректного іменування змінних:</span> `total`, `zminna`, `Sum`, `.length_of_something`, `Number123, x_1`.\n",
    "\n",
    "<span class=\"text-danger\">Приклад неправильного іменування змінних:</span> `tot@l`, `5x_1`, `_variable`, `FALSE`, `.0ne`."
   ]
  },
  {
   "cell_type": "markdown",
   "metadata": {},
   "source": [
    "---"
   ]
  },
  {
   "cell_type": "markdown",
   "metadata": {},
   "source": [
    "# 2. Basic data types"
   ]
  },
  {
   "cell_type": "markdown",
   "metadata": {},
   "source": [
    "All programming languages have their own typing of the data they work with. A data type is a set of properties of certain objects and operations that can be performed with them. For example, with **integers** you can perform arithmetic operations of addition, subtraction and others. Character sets (in simple words **text**) can usually be used to search for items, edit (by deleting part of existing or adding new text), pasting and dividing into parts.\n",
    "\n",
    "In `R`, in contrast to strictly typed programming languages, the data type is determined based on the current value of the element and may change during execution."
   ]
  },
  {
   "cell_type": "markdown",
   "metadata": {},
   "source": [
    "Let's look at an example of code from the `C#` programming language (a language native to `C`/`Java`):\n",
    "\n",
    "```csharp\n",
    "int a = 10;\n",
    "a = \"some text\";\n",
    "```"
   ]
  },
  {
   "cell_type": "markdown",
   "metadata": {},
   "source": [
    "A similar code in `C#` involves creating a new variable `a` of type` int` (`integer` is an integer), and then assigning a text fragment to` a` (type `string` in` C#`). This code will not run and there will be a <span class=\"text-danger\"> **compilation error** </span>."
   ]
  },
  {
   "cell_type": "markdown",
   "metadata": {},
   "source": [
    "Consider an example of code from `R`:"
   ]
  },
  {
   "cell_type": "code",
   "execution_count": 4,
   "metadata": {},
   "outputs": [
    {
     "data": {
      "text/html": [
       "'some text'"
      ],
      "text/latex": [
       "'some text'"
      ],
      "text/markdown": [
       "'some text'"
      ],
      "text/plain": [
       "[1] \"some text\""
      ]
     },
     "metadata": {},
     "output_type": "display_data"
    }
   ],
   "source": [
    "a <- 10\n",
    "a <- \"some text\"\n",
    "a"
   ]
  },
  {
   "cell_type": "markdown",
   "metadata": {},
   "source": [
    "This code will be executed and `some text` will be displayed on the console, because in the first line an integer was assigned, in the second - text. Thus `R` has **dynamic typing**, which allows you to write values of different types in the same variable. However, it is worth remembering that the previous value will be lost."
   ]
  },
  {
   "cell_type": "markdown",
   "metadata": {},
   "source": [
    "The basic data types in R include:\n",
    "\n",
    "- [x] Numbers with a fractional part (`decimal numbers`), such as` 4.0`, `15.214`, called **`numeric(s)`**.\n",
    "- [x] Natural numbers, such as `4`,` 15`, called **`integer(s)`**.\n",
    "- [x] Boolean values, ie `TRUE` and` FALSE` (which can also be abbreviated to `T` and` F`), called **`logical`**.\n",
    "- [x] Text or strings (`string values`), such as` \"Hello\" `,` \"12 is number\" `, called **`character(s)`**."
   ]
  },
  {
   "cell_type": "markdown",
   "metadata": {},
   "source": [
    "Let's declare for an example three variables: `my_numeric` - number,` my_character` - the text, `my_logical` - logical value."
   ]
  },
  {
   "cell_type": "code",
   "execution_count": 8,
   "metadata": {},
   "outputs": [],
   "source": [
    "my_numeric <- 5\n",
    "my_character <- \"universe\"\n",
    "my_logical <- FALSE"
   ]
  },
  {
   "cell_type": "markdown",
   "metadata": {},
   "source": [
    "Replace the value `my_character <-\" 5 \"` and try to find the sum of the values:"
   ]
  },
  {
   "cell_type": "code",
   "execution_count": 10,
   "metadata": {},
   "outputs": [
    {
     "ename": "ERROR",
     "evalue": "Error in my_numeric + my_character: non-numeric argument to binary operator\n",
     "output_type": "error",
     "traceback": [
      "Error in my_numeric + my_character: non-numeric argument to binary operator\nTraceback:\n"
     ]
    }
   ],
   "source": [
    "my_character <- \"5\"\n",
    "my_sum <- my_numeric + my_character"
   ]
  },
  {
   "cell_type": "markdown",
   "metadata": {},
   "source": [
    "As a result of laying out the given code we will receive an error, after all values `5` and` \"5\" `are elements of various types of the data, we will check types by means of function`class()`:"
   ]
  },
  {
   "cell_type": "code",
   "execution_count": 12,
   "metadata": {},
   "outputs": [
    {
     "data": {
      "text/html": [
       "'numeric'"
      ],
      "text/latex": [
       "'numeric'"
      ],
      "text/markdown": [
       "'numeric'"
      ],
      "text/plain": [
       "[1] \"numeric\""
      ]
     },
     "metadata": {},
     "output_type": "display_data"
    },
    {
     "data": {
      "text/html": [
       "'character'"
      ],
      "text/latex": [
       "'character'"
      ],
      "text/markdown": [
       "'character'"
      ],
      "text/plain": [
       "[1] \"character\""
      ]
     },
     "metadata": {},
     "output_type": "display_data"
    }
   ],
   "source": [
    "class(5)\n",
    "class(\"5\")"
   ]
  },
  {
   "cell_type": "markdown",
   "metadata": {},
   "source": [
    "Execution of the code `class(5)` shows us that `5` is the value of the numeric data type` numeric`, and `class(\"5\")` corresponds to the text `character`, so the arithmetic operation of adding between these values is impossible."
   ]
  },
  {
   "cell_type": "markdown",
   "metadata": {},
   "source": [
    "---"
   ]
  },
  {
   "cell_type": "markdown",
   "metadata": {},
   "source": [
    "**Checking and casting data types**"
   ]
  },
  {
   "cell_type": "markdown",
   "metadata": {},
   "source": [
    "*Cast data types* - the operation of converting values from one data type to another. It is important to remember that data types cannot always be reduced. For example, the value of `\"5\"` (`character`) can be easily reduced to` 5` (`numeric`), but` \"five\" `will not be clear to the interpreter."
   ]
  },
  {
   "cell_type": "markdown",
   "metadata": {},
   "source": [
    "To check whether an element belongs to a certain data type, use the special function `is.type_name (value)`. This function returns `TRUE` if the item belongs to this type and` FALSE` if it does not belong.\n",
    "\n",
    "Consider an example:"
   ]
  },
  {
   "cell_type": "code",
   "execution_count": 15,
   "metadata": {},
   "outputs": [
    {
     "data": {
      "text/html": [
       "TRUE"
      ],
      "text/latex": [
       "TRUE"
      ],
      "text/markdown": [
       "TRUE"
      ],
      "text/plain": [
       "[1] TRUE"
      ]
     },
     "metadata": {},
     "output_type": "display_data"
    },
    {
     "data": {
      "text/html": [
       "FALSE"
      ],
      "text/latex": [
       "FALSE"
      ],
      "text/markdown": [
       "FALSE"
      ],
      "text/plain": [
       "[1] FALSE"
      ]
     },
     "metadata": {},
     "output_type": "display_data"
    }
   ],
   "source": [
    "my_numeric <- 5\n",
    "my_character <- \"five\"\n",
    "my_logical <- FALSE\n",
    "\n",
    "is.numeric(my_numeric)\n",
    "is.character(my_numeric)"
   ]
  },
  {
   "cell_type": "markdown",
   "metadata": {},
   "source": [
    "You can use the `as.type_name(value)` function to convert the data type. As a result of execution of function the value of the necessary type or empty value `NA` will be returned if such reduction is not possible:"
   ]
  },
  {
   "cell_type": "code",
   "execution_count": 17,
   "metadata": {},
   "outputs": [
    {
     "data": {
      "text/html": [
       "10"
      ],
      "text/latex": [
       "10"
      ],
      "text/markdown": [
       "10"
      ],
      "text/plain": [
       "[1] 10"
      ]
     },
     "metadata": {},
     "output_type": "display_data"
    },
    {
     "name": "stderr",
     "output_type": "stream",
     "text": [
      "Warning message in eval(expr, envir, enclos):\n",
      "\"NAs introduced by coercion\"\n"
     ]
    },
    {
     "data": {
      "text/html": [
       "&lt;NA&gt;"
      ],
      "text/latex": [
       "<NA>"
      ],
      "text/markdown": [
       "&lt;NA&gt;"
      ],
      "text/plain": [
       "[1] NA"
      ]
     },
     "metadata": {},
     "output_type": "display_data"
    }
   ],
   "source": [
    "a <- 5\n",
    "b <- \"10\"\n",
    "c <- \"10, 20\"\n",
    "as.numeric(b)\n",
    "as.numeric(c)"
   ]
  },
  {
   "cell_type": "markdown",
   "metadata": {},
   "source": [
    "The result of the functions can be written in a variable and used in the following calculations:"
   ]
  },
  {
   "cell_type": "code",
   "execution_count": 19,
   "metadata": {},
   "outputs": [
    {
     "data": {
      "text/html": [
       "15"
      ],
      "text/latex": [
       "15"
      ],
      "text/markdown": [
       "15"
      ],
      "text/plain": [
       "[1] 15"
      ]
     },
     "metadata": {},
     "output_type": "display_data"
    }
   ],
   "source": [
    "a <- 5\n",
    "b <- \"10\"\n",
    "b <- as.numeric(b)\n",
    "a + b"
   ]
  },
  {
   "cell_type": "code",
   "execution_count": 21,
   "metadata": {},
   "outputs": [
    {
     "data": {
      "text/html": [
       "'integer'"
      ],
      "text/latex": [
       "'integer'"
      ],
      "text/markdown": [
       "'integer'"
      ],
      "text/plain": [
       "[1] \"integer\""
      ]
     },
     "metadata": {},
     "output_type": "display_data"
    },
    {
     "data": {
      "text/html": [
       "'integer'"
      ],
      "text/latex": [
       "'integer'"
      ],
      "text/markdown": [
       "'integer'"
      ],
      "text/plain": [
       "[1] \"integer\""
      ]
     },
     "metadata": {},
     "output_type": "display_data"
    }
   ],
   "source": [
    "number <- as.integer(54)\n",
    "typeof(number)\n",
    "class(number)"
   ]
  },
  {
   "cell_type": "markdown",
   "metadata": {},
   "source": [
    "The full list of types and methods of verification and reduction of their types is shown below:"
   ]
  },
  {
   "cell_type": "markdown",
   "metadata": {},
   "source": [
    "| Type name | Check type function | Cast type function |\n",
    "|---------|---------|--------|\n",
    "|Array|is.array|as.array|\n",
    "|**Character**|is.character|as.character|\n",
    "|Complex |is.complex |as.complex|\n",
    "|Dataframe |is.data.frame |as.data.frame|\n",
    "|**Double** |is.double |as.double|\n",
    "|Factor |is.factor |as.factor|\n",
    "|List |is.list| as.list|\n",
    "|**Logical** |is.logical |as.logical|\n",
    "|Matrix |is.matrix |as.matrix|\n",
    "|**Numeric** |is.numeric |as.numeric\n",
    "|Raw| is.raw| as.raw|\n",
    "|Time series (ts)| is.ts| as.ts|\n",
    "|Vector| is.vector |as.vector|"
   ]
  },
  {
   "cell_type": "markdown",
   "metadata": {},
   "source": [
    "---"
   ]
  },
  {
   "cell_type": "markdown",
   "metadata": {},
   "source": [
    "# 3. Operators"
   ]
  },
  {
   "cell_type": "markdown",
   "metadata": {},
   "source": [
    "**Arithmetic operators**"
   ]
  },
  {
   "cell_type": "markdown",
   "metadata": {},
   "source": [
    "`R` can be used as a regular calculator.\n",
    "\n",
    "Consider a set of familiar arithmetic operators known from elementary school:\n",
    "* Adding: `+`.\n",
    "* Subtraction: `-`.\n",
    "* Division: `/`.\n",
    "* Multiplication: `*`.\n",
    "\n",
    "As well as more complex operators:\n",
    "* Upgrade: `^` (entered from the keyboard as `Shift + 6` on the ENG keyboard layout).\n",
    "* The remainder of the division (may also be called \"module division\"): `%%` (entered from the keyboard as `Shift + 5`).\n",
    "* Target division: `%/%`.\n",
    "\n",
    "Consider an example of ** adding ** numbers:"
   ]
  },
  {
   "cell_type": "code",
   "execution_count": 23,
   "metadata": {},
   "outputs": [
    {
     "data": {
      "text/html": [
       "15"
      ],
      "text/latex": [
       "15"
      ],
      "text/markdown": [
       "15"
      ],
      "text/plain": [
       "[1] 15"
      ]
     },
     "metadata": {},
     "output_type": "display_data"
    }
   ],
   "source": [
    "5 + 10"
   ]
  },
  {
   "cell_type": "code",
   "execution_count": 25,
   "metadata": {},
   "outputs": [
    {
     "data": {
      "text/html": [
       "24"
      ],
      "text/latex": [
       "24"
      ],
      "text/markdown": [
       "24"
      ],
      "text/plain": [
       "[1] 24"
      ]
     },
     "metadata": {},
     "output_type": "display_data"
    },
    {
     "data": {
      "text/html": [
       "401"
      ],
      "text/latex": [
       "401"
      ],
      "text/markdown": [
       "401"
      ],
      "text/plain": [
       "[1] 401"
      ]
     },
     "metadata": {},
     "output_type": "display_data"
    }
   ],
   "source": [
    "5 + 4 + 15\n",
    "5 + 53 + 343"
   ]
  },
  {
   "cell_type": "code",
   "execution_count": 27,
   "metadata": {},
   "outputs": [
    {
     "data": {
      "text/html": [
       "26"
      ],
      "text/latex": [
       "26"
      ],
      "text/markdown": [
       "26"
      ],
      "text/plain": [
       "[1] 26"
      ]
     },
     "metadata": {},
     "output_type": "display_data"
    }
   ],
   "source": [
    "(5 + 8) + (4 + 9)"
   ]
  },
  {
   "cell_type": "markdown",
   "metadata": {},
   "source": [
    "<div class = \"alert alert-info\">\n",
    "<i>Note</i>. The use of parentheses in programming expressions has a priority similar to that commonly used in mathematics.</div>\n",
    "\n",
    "Consider the example of **subtraction** of numbers:"
   ]
  },
  {
   "cell_type": "code",
   "execution_count": 29,
   "metadata": {},
   "outputs": [
    {
     "data": {
      "text/html": [
       "26"
      ],
      "text/latex": [
       "26"
      ],
      "text/markdown": [
       "26"
      ],
      "text/plain": [
       "[1] 26"
      ]
     },
     "metadata": {},
     "output_type": "display_data"
    }
   ],
   "source": [
    "47 - 21"
   ]
  },
  {
   "cell_type": "code",
   "execution_count": 31,
   "metadata": {},
   "outputs": [
    {
     "data": {
      "text/html": [
       "30"
      ],
      "text/latex": [
       "30"
      ],
      "text/markdown": [
       "30"
      ],
      "text/plain": [
       "[1] 30"
      ]
     },
     "metadata": {},
     "output_type": "display_data"
    }
   ],
   "source": [
    "15 - (10 - 25)"
   ]
  },
  {
   "cell_type": "markdown",
   "metadata": {},
   "source": [
    "<div class = \"alert alert-info\">\n",
    "<i>Note</i>. Replacement of signs to/in \"brackets\" here works the same as worked at school:)\n",
    "</div>"
   ]
  },
  {
   "cell_type": "markdown",
   "metadata": {},
   "source": [
    "Examples of **multiplication** of numbers:"
   ]
  },
  {
   "cell_type": "code",
   "execution_count": 33,
   "metadata": {},
   "outputs": [
    {
     "data": {
      "text/html": [
       "15"
      ],
      "text/latex": [
       "15"
      ],
      "text/markdown": [
       "15"
      ],
      "text/plain": [
       "[1] 15"
      ]
     },
     "metadata": {},
     "output_type": "display_data"
    }
   ],
   "source": [
    "5 * 3"
   ]
  },
  {
   "cell_type": "code",
   "execution_count": 35,
   "metadata": {},
   "outputs": [
    {
     "data": {
      "text/html": [
       "35"
      ],
      "text/latex": [
       "35"
      ],
      "text/markdown": [
       "35"
      ],
      "text/plain": [
       "[1] 35"
      ]
     },
     "metadata": {},
     "output_type": "display_data"
    }
   ],
   "source": [
    "5 * (2 + 5)"
   ]
  },
  {
   "cell_type": "markdown",
   "metadata": {},
   "source": [
    "Examples of **division** of numbers:"
   ]
  },
  {
   "cell_type": "code",
   "execution_count": 37,
   "metadata": {},
   "outputs": [
    {
     "data": {
      "text/html": [
       "6"
      ],
      "text/latex": [
       "6"
      ],
      "text/markdown": [
       "6"
      ],
      "text/plain": [
       "[1] 6"
      ]
     },
     "metadata": {},
     "output_type": "display_data"
    }
   ],
   "source": [
    "12 / 2"
   ]
  },
  {
   "cell_type": "code",
   "execution_count": 39,
   "metadata": {},
   "outputs": [
    {
     "data": {
      "text/html": [
       "3.66666666666667"
      ],
      "text/latex": [
       "3.66666666666667"
      ],
      "text/markdown": [
       "3.66666666666667"
      ],
      "text/plain": [
       "[1] 3.666667"
      ]
     },
     "metadata": {},
     "output_type": "display_data"
    }
   ],
   "source": [
    "(4 + 7) / 3"
   ]
  },
  {
   "cell_type": "markdown",
   "metadata": {},
   "source": [
    "**Exponentiation** with the `^` operator is fairly simple. For example, `3^2` is equal to 9, and `2^3` is $2 * 2 * 2$ and is equal to `8`. Its the same operator in MS Excel."
   ]
  },
  {
   "cell_type": "code",
   "execution_count": 40,
   "metadata": {},
   "outputs": [
    {
     "data": {
      "text/html": [
       "25"
      ],
      "text/latex": [
       "25"
      ],
      "text/markdown": [
       "25"
      ],
      "text/plain": [
       "[1] 25"
      ]
     },
     "metadata": {},
     "output_type": "display_data"
    }
   ],
   "source": [
    "5^2"
   ]
  },
  {
   "cell_type": "code",
   "execution_count": 42,
   "metadata": {},
   "outputs": [
    {
     "data": {
      "text/html": [
       "164"
      ],
      "text/latex": [
       "164"
      ],
      "text/markdown": [
       "164"
      ],
      "text/plain": [
       "[1] 164"
      ]
     },
     "metadata": {},
     "output_type": "display_data"
    }
   ],
   "source": [
    "(1+3)^3 + 100 "
   ]
  },
  {
   "cell_type": "markdown",
   "metadata": {},
   "source": [
    "**The remainder of the division** (`%%`) allows you to find the remainder of one number from the division by another number.\n",
    "\n",
    "For example, the remainder of the division by the integer 5 by 2 is equal to 1, because `2 * 2 (=4) + 1 = 5`"
   ]
  },
  {
   "cell_type": "code",
   "execution_count": 44,
   "metadata": {},
   "outputs": [
    {
     "data": {
      "text/html": [
       "0"
      ],
      "text/latex": [
       "0"
      ],
      "text/markdown": [
       "0"
      ],
      "text/plain": [
       "[1] 0"
      ]
     },
     "metadata": {},
     "output_type": "display_data"
    }
   ],
   "source": [
    "28 %% 7"
   ]
  },
  {
   "cell_type": "code",
   "execution_count": 46,
   "metadata": {},
   "outputs": [
    {
     "data": {
      "text/html": [
       "2"
      ],
      "text/latex": [
       "2"
      ],
      "text/markdown": [
       "2"
      ],
      "text/plain": [
       "[1] 2"
      ]
     },
     "metadata": {},
     "output_type": "display_data"
    }
   ],
   "source": [
    "17%%5"
   ]
  },
  {
   "cell_type": "markdown",
   "metadata": {},
   "source": [
    "**Divisible integer** (`%|%`) leaves only the integer part of the division of two numbers:"
   ]
  },
  {
   "cell_type": "code",
   "execution_count": 48,
   "metadata": {},
   "outputs": [
    {
     "data": {
      "text/html": [
       "4"
      ],
      "text/latex": [
       "4"
      ],
      "text/markdown": [
       "4"
      ],
      "text/plain": [
       "[1] 4"
      ]
     },
     "metadata": {},
     "output_type": "display_data"
    }
   ],
   "source": [
    "28 %/% 7"
   ]
  },
  {
   "cell_type": "code",
   "execution_count": 51,
   "metadata": {},
   "outputs": [
    {
     "data": {
      "text/html": [
       "3"
      ],
      "text/latex": [
       "3"
      ],
      "text/markdown": [
       "3"
      ],
      "text/plain": [
       "[1] 3"
      ]
     },
     "metadata": {},
     "output_type": "display_data"
    }
   ],
   "source": [
    "17 %/% 5"
   ]
  },
  {
   "cell_type": "markdown",
   "metadata": {},
   "source": [
    "---"
   ]
  },
  {
   "cell_type": "markdown",
   "metadata": {},
   "source": [
    "**Relation operators**"
   ]
  },
  {
   "cell_type": "markdown",
   "metadata": {},
   "source": [
    "**Relation operators** are responsible for comparing two objects with each other and return values of the logical type `TRUE` if the result is true and` FALSE` if the result is false."
   ]
  },
  {
   "cell_type": "markdown",
   "metadata": {},
   "source": [
    "List of relation operators:\n",
    "\n",
    "- [x] Greater than or equal to `> =`.\n",
    "- [x] Less than `<`.\n",
    "- [x] Less than or equal to `<=`.\n",
    "- [x] Is equal to `==`.\n",
    "- [x] Not equal to `! =`\n",
    "\n",
    "To demonstrate the principles of operation of the relationship operators, we declare 3 variables `a`,` b` and `c`."
   ]
  },
  {
   "cell_type": "code",
   "execution_count": 53,
   "metadata": {},
   "outputs": [],
   "source": [
    "a <- 12\n",
    "b <- 5\n",
    "c <- 7"
   ]
  },
  {
   "cell_type": "markdown",
   "metadata": {},
   "source": [
    "Let's look at some examples of using the operators described above.\n",
    "\n",
    "Operators responsible for checking for \"more/less\":"
   ]
  },
  {
   "cell_type": "code",
   "execution_count": 55,
   "metadata": {},
   "outputs": [
    {
     "data": {
      "text/html": [
       "TRUE"
      ],
      "text/latex": [
       "TRUE"
      ],
      "text/markdown": [
       "TRUE"
      ],
      "text/plain": [
       "[1] TRUE"
      ]
     },
     "metadata": {},
     "output_type": "display_data"
    },
    {
     "data": {
      "text/html": [
       "FALSE"
      ],
      "text/latex": [
       "FALSE"
      ],
      "text/markdown": [
       "FALSE"
      ],
      "text/plain": [
       "[1] FALSE"
      ]
     },
     "metadata": {},
     "output_type": "display_data"
    },
    {
     "data": {
      "text/html": [
       "TRUE"
      ],
      "text/latex": [
       "TRUE"
      ],
      "text/markdown": [
       "TRUE"
      ],
      "text/plain": [
       "[1] TRUE"
      ]
     },
     "metadata": {},
     "output_type": "display_data"
    }
   ],
   "source": [
    "a > b\n",
    "b + c < a\n",
    "b + c <= a"
   ]
  },
  {
   "cell_type": "markdown",
   "metadata": {},
   "source": [
    "Operators responsible for checking for \"equality/inequality\":"
   ]
  },
  {
   "cell_type": "code",
   "execution_count": 58,
   "metadata": {},
   "outputs": [
    {
     "data": {
      "text/html": [
       "TRUE"
      ],
      "text/latex": [
       "TRUE"
      ],
      "text/markdown": [
       "TRUE"
      ],
      "text/plain": [
       "[1] TRUE"
      ]
     },
     "metadata": {},
     "output_type": "display_data"
    },
    {
     "data": {
      "text/html": [
       "TRUE"
      ],
      "text/latex": [
       "TRUE"
      ],
      "text/markdown": [
       "TRUE"
      ],
      "text/plain": [
       "[1] TRUE"
      ]
     },
     "metadata": {},
     "output_type": "display_data"
    },
    {
     "data": {
      "text/html": [
       "FALSE"
      ],
      "text/latex": [
       "FALSE"
      ],
      "text/markdown": [
       "FALSE"
      ],
      "text/plain": [
       "[1] FALSE"
      ]
     },
     "metadata": {},
     "output_type": "display_data"
    }
   ],
   "source": [
    "a != b\n",
    "a == b + c\n",
    "b == c"
   ]
  },
  {
   "cell_type": "markdown",
   "metadata": {},
   "source": [
    "---"
   ]
  },
  {
   "cell_type": "markdown",
   "metadata": {},
   "source": [
    "**Logical operators**"
   ]
  },
  {
   "cell_type": "markdown",
   "metadata": {},
   "source": [
    "The logical operators in `R` include:\n",
    "\n",
    "- [x] And `&` (ampersand, `Shift-7`) - fulfill all conditions at once.\n",
    "- [x] OR `|` (vertical bar, `Shift + \\`) - fulfillment of one of the conditions.\n",
    "- [x] NO `!` (Exclamation mark, `Shift + 1`) - objection.\n",
    "\n",
    "It is important to understand the differences between these operators and to be able to use the results of their work. To begin, consider the truth table:"
   ]
  },
  {
   "cell_type": "markdown",
   "metadata": {},
   "source": [
    "| A | B | Operator **AND** | Operator **OR** | Denial A (**not A**)|\n",
    "|---|---|-------|------|-------|\n",
    "|FALSE|FALSE|FALSE|FALSE|TRUE|\n",
    "|FALSE|TRUE|FALSE|TRUE|TRUE|\n",
    "|TRUE|FALSE|FALSE|TRUE|FALSE|\n",
    "|TRUE|TRUE|TRUE|TRUE|FALSE|"
   ]
  },
  {
   "cell_type": "markdown",
   "metadata": {},
   "source": [
    "**TASKS FOR STUDENTS**"
   ]
  },
  {
   "cell_type": "markdown",
   "metadata": {},
   "source": [
    "**TASK 1.** Check the code:"
   ]
  },
  {
   "cell_type": "code",
   "execution_count": 63,
   "metadata": {},
   "outputs": [
    {
     "data": {
      "text/html": [
       "TRUE"
      ],
      "text/latex": [
       "TRUE"
      ],
      "text/markdown": [
       "TRUE"
      ],
      "text/plain": [
       "[1] TRUE"
      ]
     },
     "metadata": {},
     "output_type": "display_data"
    }
   ],
   "source": [
    "a <- 10\n",
    "b <- 4\n",
    "\n",
    "a %% b > 0 # what is result "
   ]
  },
  {
   "cell_type": "markdown",
   "metadata": {},
   "source": [
    "Explanation\n",
    "a %% b = 2, so 2 > 0"
   ]
  },
  {
   "cell_type": "markdown",
   "metadata": {},
   "source": [
    "**TASK 2**. Check the code"
   ]
  },
  {
   "cell_type": "code",
   "execution_count": 66,
   "metadata": {},
   "outputs": [
    {
     "data": {
      "text/html": [
       "7"
      ],
      "text/latex": [
       "7"
      ],
      "text/markdown": [
       "7"
      ],
      "text/plain": [
       "[1] 7"
      ]
     },
     "metadata": {},
     "output_type": "display_data"
    }
   ],
   "source": [
    "a <- 7\n",
    "b <- 12\n",
    "c <- a - b %% 2\n",
    "\n",
    "c # what is c"
   ]
  },
  {
   "cell_type": "code",
   "execution_count": 68,
   "metadata": {},
   "outputs": [
    {
     "data": {
      "text/html": [
       "TRUE"
      ],
      "text/latex": [
       "TRUE"
      ],
      "text/markdown": [
       "TRUE"
      ],
      "text/plain": [
       "[1] TRUE"
      ]
     },
     "metadata": {},
     "output_type": "display_data"
    }
   ],
   "source": [
    "c > 0 & b > a"
   ]
  },
  {
   "cell_type": "code",
   "execution_count": 70,
   "metadata": {},
   "outputs": [
    {
     "data": {
      "text/html": [
       "TRUE"
      ],
      "text/latex": [
       "TRUE"
      ],
      "text/markdown": [
       "TRUE"
      ],
      "text/plain": [
       "[1] TRUE"
      ]
     },
     "metadata": {},
     "output_type": "display_data"
    }
   ],
   "source": [
    "c < 0 | b > a"
   ]
  },
  {
   "cell_type": "markdown",
   "metadata": {},
   "source": [
    "---"
   ]
  },
  {
   "cell_type": "markdown",
   "metadata": {},
   "source": [
    "# 4. Conditional execution: if-else statements"
   ]
  },
  {
   "cell_type": "markdown",
   "metadata": {},
   "source": [
    "The language has available a conditional construction of the form\n",
    "\n",
    "`if (logical_expr) code_1 else code_2`\n",
    "\n",
    "where `logical_expr` must evaluate to a single logical value and the result of the entire expression is then evident.\n",
    "\n",
    "The “short-circuit” operators && and || are often used as part of the condition in an if statement. Whereas & and | apply element-wise to vectors, && and || apply to vectors of length one, and only evaluate their second argument if necessary.\n",
    "\n",
    "If-else statements can be complex with many nodes:"
   ]
  },
  {
   "cell_type": "code",
   "execution_count": 72,
   "metadata": {},
   "outputs": [
    {
     "name": "stdout",
     "output_type": "stream",
     "text": [
      "[1] \"A > B\"\n"
     ]
    }
   ],
   "source": [
    "a <- 10\n",
    "b <- 5\n",
    "\n",
    "if(a > b) {\n",
    "    print(\"A > B\")\n",
    "} else if (b > a){\n",
    "    print(\"B > A\")\n",
    "} else {\n",
    "    print(\"A equals B\")\n",
    "}"
   ]
  },
  {
   "cell_type": "markdown",
   "metadata": {},
   "source": [
    "There is a vectorized version of the `if/else` construct, the ifelse function. This has the form \n",
    "\n",
    "`ifelse(condition, a, b)`\n",
    "\n",
    "and returns a vector of the same length as condition, with elements a[i] if condition[i] is true, otherwise b[i] (where a and b are recycled as necessary)."
   ]
  },
  {
   "cell_type": "markdown",
   "metadata": {},
   "source": [
    "### TASK 1"
   ]
  },
  {
   "cell_type": "markdown",
   "metadata": {},
   "source": [
    "There are function `readline(prompt = \"Text\")` in R. You can input data from terminal.\n",
    "First let's write a code that finding sum of 2 numbers entered by user:"
   ]
  },
  {
   "cell_type": "code",
   "execution_count": 74,
   "metadata": {},
   "outputs": [
    {
     "name": "stdout",
     "output_type": "stream",
     "text": [
      "Enter A:34\n",
      "Enter B:54\n"
     ]
    },
    {
     "data": {
      "text/html": [
       "88"
      ],
      "text/latex": [
       "88"
      ],
      "text/markdown": [
       "88"
      ],
      "text/plain": [
       "[1] 88"
      ]
     },
     "metadata": {},
     "output_type": "display_data"
    }
   ],
   "source": [
    "# works on console and notebook / run this code line by line\n",
    "a <- readline(prompt = \"Enter A:\") # read a\n",
    "b <- readline(prompt = \"Enter B:\") # read b\n",
    "\n",
    "a <- as.numeric(a) # convert character to numeric\n",
    "b <- as.numeric(b) # convert character to numeric\n",
    "\n",
    "sum <- a + b\n",
    "sum"
   ]
  },
  {
   "cell_type": "markdown",
   "metadata": {},
   "source": [
    "TASK: **It's your turn. Write code that check user input if number `even` or `odd`.**"
   ]
  },
  {
   "cell_type": "markdown",
   "metadata": {},
   "source": [
    "Solution"
   ]
  },
  {
   "cell_type": "code",
   "execution_count": 77,
   "metadata": {},
   "outputs": [
    {
     "name": "stdout",
     "output_type": "stream",
     "text": [
      "Enter A:15\n",
      "[1] \"ODD\"\n"
     ]
    }
   ],
   "source": [
    "a <- readline(prompt = \"Enter A:\") # read a\n",
    "a <- as.numeric(a) \n",
    "\n",
    "if(a %% 2 == 0) {\n",
    "  print(\"EVEN\")\n",
    "} else if (a %% 2 == 1) {\n",
    "  print(\"ODD\")\n",
    "} else {\n",
    "  print(\"ZERO\")\n",
    "}"
   ]
  },
  {
   "cell_type": "markdown",
   "metadata": {},
   "source": [
    "---"
   ]
  },
  {
   "cell_type": "markdown",
   "metadata": {},
   "source": [
    "# 5. Repetitive execution: for loops, repeat and while"
   ]
  },
  {
   "cell_type": "markdown",
   "metadata": {},
   "source": [
    "Loops are used in programming to repeat a specific block of code. In this article, you will learn to create a for loop in R programming.\n",
    "\n",
    "A `for` loop is used to iterate over a vector in R programming. Vectors is our one of the next content. \n",
    "But shortly we can discuss it now. \n",
    "\n",
    "**Vector** is a sequense of values. Simplest vector can be created with function `c()`:"
   ]
  },
  {
   "cell_type": "code",
   "execution_count": 80,
   "metadata": {},
   "outputs": [
    {
     "data": {
      "text/html": [
       "<style>\n",
       ".list-inline {list-style: none; margin:0; padding: 0}\n",
       ".list-inline>li {display: inline-block}\n",
       ".list-inline>li:not(:last-child)::after {content: \"\\00b7\"; padding: 0 .5ex}\n",
       "</style>\n",
       "<ol class=list-inline><li>2</li><li>4</li><li>5</li><li>7</li><li>9</li><li>11</li><li>14</li></ol>\n"
      ],
      "text/latex": [
       "\\begin{enumerate*}\n",
       "\\item 2\n",
       "\\item 4\n",
       "\\item 5\n",
       "\\item 7\n",
       "\\item 9\n",
       "\\item 11\n",
       "\\item 14\n",
       "\\end{enumerate*}\n"
      ],
      "text/markdown": [
       "1. 2\n",
       "2. 4\n",
       "3. 5\n",
       "4. 7\n",
       "5. 9\n",
       "6. 11\n",
       "7. 14\n",
       "\n",
       "\n"
      ],
      "text/plain": [
       "[1]  2  4  5  7  9 11 14"
      ]
     },
     "metadata": {},
     "output_type": "display_data"
    }
   ],
   "source": [
    "x <- c(2, 4, 5, 7, 9, 11, 14)\n",
    "x"
   ]
  },
  {
   "cell_type": "markdown",
   "metadata": {},
   "source": [
    "For syntax is the next:\n",
    "\n",
    "`for (val in sequence)\n",
    "{\n",
    "    statement\n",
    "}`\n",
    "\n",
    "Here, `sequence` is a vector and `val` takes on each of its value during the loop. In each iteration, `statement` is evaluated."
   ]
  },
  {
   "cell_type": "markdown",
   "metadata": {},
   "source": [
    "Let's find count of even numbers in vector `x` using loop"
   ]
  },
  {
   "cell_type": "code",
   "execution_count": 85,
   "metadata": {},
   "outputs": [
    {
     "name": "stdout",
     "output_type": "stream",
     "text": [
      "[1] 3\n"
     ]
    }
   ],
   "source": [
    "x <- c(2, 4, 5, 7, 9, 11, 14)\n",
    "even_count <- 0\n",
    "for (val in x) {\n",
    "    if(val %% 2 == 0) { \n",
    "        even_count = even_count + 1\n",
    "    }\n",
    "}\n",
    "print(even_count)"
   ]
  },
  {
   "cell_type": "markdown",
   "metadata": {},
   "source": [
    "In the above example, the loop iterates `7` times as the vector `x` has `7` elements.\n",
    "\n",
    "In each iteration, `val` takes on the value of corresponding element of `x`.\n",
    "\n",
    "We have used a counter to count the number of even numbers in `x`. We can see that `x` contains 3 even numbers."
   ]
  },
  {
   "cell_type": "markdown",
   "metadata": {},
   "source": [
    "---"
   ]
  },
  {
   "cell_type": "markdown",
   "metadata": {},
   "source": [
    "### TASK 2\n",
    "\n",
    "Let's modify this task (for students): **find a sum of odd numbers in vector x**. "
   ]
  },
  {
   "cell_type": "markdown",
   "metadata": {},
   "source": [
    "### Solution for TASK 2"
   ]
  },
  {
   "cell_type": "code",
   "execution_count": 88,
   "metadata": {},
   "outputs": [
    {
     "name": "stdout",
     "output_type": "stream",
     "text": [
      "[1] 32\n"
     ]
    }
   ],
   "source": [
    "x <- c(2, 4, 5, 7, 9, 11, 14)\n",
    "odd_sum <- 0\n",
    "for (val in x) {\n",
    "    if(val %% 2 == 1) { \n",
    "        odd_sum = odd_sum + val\n",
    "    }\n",
    "}\n",
    "print(odd_sum)"
   ]
  },
  {
   "cell_type": "markdown",
   "metadata": {},
   "source": [
    "---"
   ]
  },
  {
   "cell_type": "markdown",
   "metadata": {},
   "source": [
    "There are `break` and `next` statements for loops.\n",
    "\n",
    "`break` stops the loop and `next` moves loop to the next iteration."
   ]
  },
  {
   "cell_type": "markdown",
   "metadata": {},
   "source": [
    "`repeat` one of loops variations in R. It does not have any conditions to stop, so should use break to stop it.\n",
    "\n",
    "`repeat {\n",
    "    statement\n",
    "}`\n",
    "\n",
    "Example:"
   ]
  },
  {
   "cell_type": "code",
   "execution_count": 90,
   "metadata": {},
   "outputs": [
    {
     "name": "stdout",
     "output_type": "stream",
     "text": [
      "[1] 1\n",
      "[1] 2\n",
      "[1] 3\n",
      "[1] 4\n",
      "[1] 5\n"
     ]
    }
   ],
   "source": [
    "x <- 1\n",
    "repeat {\n",
    "    print(x)\n",
    "    x = x+1\n",
    "    if (x == 6){\n",
    "    break\n",
    "    }\n",
    "}"
   ]
  },
  {
   "cell_type": "markdown",
   "metadata": {},
   "source": [
    "In the above example, we have used a condition to check and exit the loop when x takes the value of 6."
   ]
  },
  {
   "cell_type": "markdown",
   "metadata": {},
   "source": [
    "And the last one is `while`. `while` loops are used to loop until a specific condition is met.\n",
    "\n",
    "`while (logical_expression)\n",
    "{\n",
    "    statement\n",
    "}`\n",
    "\n",
    "Here, `logical_expression` is evaluated and the body of the loop is entered if the result is `TRUE`.\n",
    "\n",
    "The `statements` inside the loop are executed and the flow returns to evaluate the `logical_expression` again.\n",
    "\n",
    "This is repeated each time until `logical_expression` evaluates to `FALSE`, in which case, the loop exits.\n",
    "\n",
    "Example of code (same as previous):"
   ]
  },
  {
   "cell_type": "code",
   "execution_count": 92,
   "metadata": {},
   "outputs": [
    {
     "name": "stdout",
     "output_type": "stream",
     "text": [
      "[1] 1\n",
      "[1] 2\n",
      "[1] 3\n",
      "[1] 4\n",
      "[1] 5\n"
     ]
    }
   ],
   "source": [
    "i <- 1\n",
    "while (i < 6) {\n",
    "    print(i)\n",
    "    i = i+1\n",
    "}"
   ]
  },
  {
   "cell_type": "markdown",
   "metadata": {},
   "source": [
    "`while` starts with `i = 1` and stops when `i` become `6`. "
   ]
  },
  {
   "cell_type": "markdown",
   "metadata": {},
   "source": [
    "---"
   ]
  },
  {
   "cell_type": "markdown",
   "metadata": {},
   "source": [
    "## 6. Some useful functions in R"
   ]
  },
  {
   "cell_type": "markdown",
   "metadata": {},
   "source": [
    "Function in programming languages has `name` and `()`. Basicaly it uses as `function_name(params)`."
   ]
  },
  {
   "cell_type": "markdown",
   "metadata": {},
   "source": [
    "### Rounding"
   ]
  },
  {
   "cell_type": "markdown",
   "metadata": {},
   "source": [
    "As we know from mathematics, the environment of numbers is \"up\", \"bottom\" or relative to some value that has a relationship with the digital `5` (` 3.6` round to the integer as `4`, and` 3.2` as `3` , vvzhayu` 3,5` border)."
   ]
  },
  {
   "cell_type": "markdown",
   "metadata": {},
   "source": [
    "#### round()"
   ]
  },
  {
   "cell_type": "markdown",
   "metadata": {},
   "source": [
    "To round the real numbers (with a fractional part) according to the rule `< 0.5 & >= 0.5` (I don't know what it's called scientifically) the function` round(x, y) `is used, where` x` is a number, `y` is accuracy number of decimal places). \n",
    "\n",
    "Example, check results:"
   ]
  },
  {
   "cell_type": "code",
   "execution_count": 96,
   "metadata": {},
   "outputs": [
    {
     "data": {
      "text/html": [
       "3.56"
      ],
      "text/latex": [
       "3.56"
      ],
      "text/markdown": [
       "3.56"
      ],
      "text/plain": [
       "[1] 3.56"
      ]
     },
     "metadata": {},
     "output_type": "display_data"
    },
    {
     "data": {
      "text/html": [
       "3.24"
      ],
      "text/latex": [
       "3.24"
      ],
      "text/markdown": [
       "3.24"
      ],
      "text/plain": [
       "[1] 3.24"
      ]
     },
     "metadata": {},
     "output_type": "display_data"
    },
    {
     "data": {
      "text/html": [
       "-3.56"
      ],
      "text/latex": [
       "-3.56"
      ],
      "text/markdown": [
       "-3.56"
      ],
      "text/plain": [
       "[1] -3.56"
      ]
     },
     "metadata": {},
     "output_type": "display_data"
    },
    {
     "data": {
      "text/html": [
       "-3.24"
      ],
      "text/latex": [
       "-3.24"
      ],
      "text/markdown": [
       "-3.24"
      ],
      "text/plain": [
       "[1] -3.24"
      ]
     },
     "metadata": {},
     "output_type": "display_data"
    }
   ],
   "source": [
    "round(3.557, 2)\n",
    "round(3.241, 2)\n",
    "round(-3.557, 2)\n",
    "round(-3.241, 2)"
   ]
  },
  {
   "cell_type": "markdown",
   "metadata": {},
   "source": [
    "You can also use `round(x)` with one parameter, then rounding will occur to the whole part, for example:"
   ]
  },
  {
   "cell_type": "code",
   "execution_count": 4,
   "metadata": {},
   "outputs": [
    {
     "data": {
      "text/html": [
       "124"
      ],
      "text/latex": [
       "124"
      ],
      "text/markdown": [
       "124"
      ],
      "text/plain": [
       "[1] 124"
      ]
     },
     "metadata": {},
     "output_type": "display_data"
    }
   ],
   "source": [
    "round(124.345)"
   ]
  },
  {
   "cell_type": "markdown",
   "metadata": {},
   "source": [
    "#### floor()"
   ]
  },
  {
   "cell_type": "markdown",
   "metadata": {},
   "source": [
    "Use the `floor()` function to round to the nearest smaller integer:"
   ]
  },
  {
   "cell_type": "code",
   "execution_count": 3,
   "metadata": {},
   "outputs": [
    {
     "data": {
      "text/html": [
       "3"
      ],
      "text/latex": [
       "3"
      ],
      "text/markdown": [
       "3"
      ],
      "text/plain": [
       "[1] 3"
      ]
     },
     "metadata": {},
     "output_type": "display_data"
    },
    {
     "data": {
      "text/html": [
       "3"
      ],
      "text/latex": [
       "3"
      ],
      "text/markdown": [
       "3"
      ],
      "text/plain": [
       "[1] 3"
      ]
     },
     "metadata": {},
     "output_type": "display_data"
    },
    {
     "data": {
      "text/html": [
       "-4"
      ],
      "text/latex": [
       "-4"
      ],
      "text/markdown": [
       "-4"
      ],
      "text/plain": [
       "[1] -4"
      ]
     },
     "metadata": {},
     "output_type": "display_data"
    },
    {
     "data": {
      "text/html": [
       "-4"
      ],
      "text/latex": [
       "-4"
      ],
      "text/markdown": [
       "-4"
      ],
      "text/plain": [
       "[1] -4"
      ]
     },
     "metadata": {},
     "output_type": "display_data"
    }
   ],
   "source": [
    "floor(3.557)\n",
    "floor(3.241)\n",
    "floor(-3.557)\n",
    "floor(-3.241)"
   ]
  },
  {
   "cell_type": "markdown",
   "metadata": {},
   "source": [
    "#### ceiling()"
   ]
  },
  {
   "cell_type": "markdown",
   "metadata": {},
   "source": [
    "Use the `ceiling()` function to round to the nearest larger integer:"
   ]
  },
  {
   "cell_type": "code",
   "execution_count": 2,
   "metadata": {},
   "outputs": [
    {
     "data": {
      "text/html": [
       "4"
      ],
      "text/latex": [
       "4"
      ],
      "text/markdown": [
       "4"
      ],
      "text/plain": [
       "[1] 4"
      ]
     },
     "metadata": {},
     "output_type": "display_data"
    },
    {
     "data": {
      "text/html": [
       "4"
      ],
      "text/latex": [
       "4"
      ],
      "text/markdown": [
       "4"
      ],
      "text/plain": [
       "[1] 4"
      ]
     },
     "metadata": {},
     "output_type": "display_data"
    },
    {
     "data": {
      "text/html": [
       "-3"
      ],
      "text/latex": [
       "-3"
      ],
      "text/markdown": [
       "-3"
      ],
      "text/plain": [
       "[1] -3"
      ]
     },
     "metadata": {},
     "output_type": "display_data"
    },
    {
     "data": {
      "text/html": [
       "-3"
      ],
      "text/latex": [
       "-3"
      ],
      "text/markdown": [
       "-3"
      ],
      "text/plain": [
       "[1] -3"
      ]
     },
     "metadata": {},
     "output_type": "display_data"
    }
   ],
   "source": [
    "ceiling(3.557)\n",
    "ceiling(3.241)\n",
    "ceiling(-3.557)\n",
    "ceiling(-3.241)"
   ]
  },
  {
   "cell_type": "markdown",
   "metadata": {},
   "source": [
    "#### trunc()"
   ]
  },
  {
   "cell_type": "markdown",
   "metadata": {},
   "source": [
    "The `trunc()` function in R is used to obtain the largest integer that is greater than or equal to `x`. Simply put, this means that for numbers less than 0 `(x <0)` `trunc()` works as `celing()`, and for numbers greater than zero `x > 0` as` floor() `:"
   ]
  },
  {
   "cell_type": "code",
   "execution_count": 1,
   "metadata": {},
   "outputs": [
    {
     "name": "stdout",
     "output_type": "stream",
     "text": [
      "[1] \"trunc: 5 celing: 6 floor: 5\"\n",
      "[1] \"trunc: -5 celing: -5 floor: -6\"\n"
     ]
    }
   ],
   "source": [
    "x <- 5.34\n",
    "print(paste(\"trunc:\", trunc(x), \"celing:\", ceiling(x), \"floor:\", floor(x), sep = \" \"))\n",
    "x <- x * -1\n",
    "print(paste(\"trunc:\", trunc(x), \"celing:\", ceiling(x), \"floor:\", floor(x), sep = \" \"))"
   ]
  },
  {
   "cell_type": "markdown",
   "metadata": {},
   "source": [
    "Sometimes it is necessary to round not tenths of a number, but tens, hundreds, thousands, and so on. Consider the variant when we have a large number $11 547 741.3$ and we need to write it briefly as $11.5 million$. For such problems we can use the function `signif(x, y)`, where `x` is the number to be rounded to a certain order, `y` is the order of rounding (count from the beginning).\n",
    "\n",
    "Example:"
   ]
  },
  {
   "cell_type": "code",
   "execution_count": 6,
   "metadata": {},
   "outputs": [
    {
     "data": {
      "text/html": [
       "11500000"
      ],
      "text/latex": [
       "11500000"
      ],
      "text/markdown": [
       "11500000"
      ],
      "text/plain": [
       "[1] 11500000"
      ]
     },
     "metadata": {},
     "output_type": "display_data"
    },
    {
     "data": {
      "text/html": [
       "11.5"
      ],
      "text/latex": [
       "11.5"
      ],
      "text/markdown": [
       "11.5"
      ],
      "text/plain": [
       "[1] 11.5"
      ]
     },
     "metadata": {},
     "output_type": "display_data"
    }
   ],
   "source": [
    "big_number <- 11547741.3\n",
    "rounded_big_number <- signif(big_number,3)\n",
    "rounded_big_number\n",
    "rounded_big_number / 1000000"
   ]
  },
  {
   "cell_type": "markdown",
   "metadata": {},
   "source": [
    "### Sequences"
   ]
  },
  {
   "cell_type": "markdown",
   "metadata": {},
   "source": [
    "Easiest way to generate sequence of numbers is using `:`. Example:"
   ]
  },
  {
   "cell_type": "code",
   "execution_count": 8,
   "metadata": {},
   "outputs": [
    {
     "data": {
      "text/html": [
       "<style>\n",
       ".list-inline {list-style: none; margin:0; padding: 0}\n",
       ".list-inline>li {display: inline-block}\n",
       ".list-inline>li:not(:last-child)::after {content: \"\\00b7\"; padding: 0 .5ex}\n",
       "</style>\n",
       "<ol class=list-inline><li>1</li><li>2</li><li>3</li><li>4</li></ol>\n"
      ],
      "text/latex": [
       "\\begin{enumerate*}\n",
       "\\item 1\n",
       "\\item 2\n",
       "\\item 3\n",
       "\\item 4\n",
       "\\end{enumerate*}\n"
      ],
      "text/markdown": [
       "1. 1\n",
       "2. 2\n",
       "3. 3\n",
       "4. 4\n",
       "\n",
       "\n"
      ],
      "text/plain": [
       "[1] 1 2 3 4"
      ]
     },
     "metadata": {},
     "output_type": "display_data"
    }
   ],
   "source": [
    "1:4"
   ]
  },
  {
   "cell_type": "code",
   "execution_count": 11,
   "metadata": {},
   "outputs": [
    {
     "data": {
      "text/html": [
       "<style>\n",
       ".list-inline {list-style: none; margin:0; padding: 0}\n",
       ".list-inline>li {display: inline-block}\n",
       ".list-inline>li:not(:last-child)::after {content: \"\\00b7\"; padding: 0 .5ex}\n",
       "</style>\n",
       "<ol class=list-inline><li>100</li><li>101</li><li>102</li><li>103</li><li>104</li><li>105</li><li>106</li><li>107</li><li>108</li><li>109</li><li>110</li><li>111</li><li>112</li><li>113</li><li>114</li><li>115</li><li>116</li><li>117</li><li>118</li><li>119</li><li>120</li><li>121</li><li>122</li><li>123</li><li>124</li><li>125</li><li>126</li><li>127</li><li>128</li><li>129</li><li>130</li><li>131</li><li>132</li><li>133</li><li>134</li><li>135</li><li>136</li><li>137</li><li>138</li><li>139</li><li>140</li><li>141</li><li>142</li><li>143</li><li>144</li><li>145</li><li>146</li><li>147</li><li>148</li><li>149</li><li>150</li><li>151</li><li>152</li><li>153</li><li>154</li><li>155</li><li>156</li><li>157</li><li>158</li><li>159</li><li>160</li><li>161</li><li>162</li><li>163</li><li>164</li><li>165</li><li>166</li><li>167</li><li>168</li><li>169</li><li>170</li><li>171</li><li>172</li><li>173</li><li>174</li><li>175</li><li>176</li><li>177</li><li>178</li><li>179</li><li>180</li><li>181</li><li>182</li><li>183</li><li>184</li><li>185</li><li>186</li><li>187</li><li>188</li><li>189</li><li>190</li><li>191</li><li>192</li><li>193</li><li>194</li><li>195</li><li>196</li><li>197</li><li>198</li><li>199</li><li>200</li></ol>\n"
      ],
      "text/latex": [
       "\\begin{enumerate*}\n",
       "\\item 100\n",
       "\\item 101\n",
       "\\item 102\n",
       "\\item 103\n",
       "\\item 104\n",
       "\\item 105\n",
       "\\item 106\n",
       "\\item 107\n",
       "\\item 108\n",
       "\\item 109\n",
       "\\item 110\n",
       "\\item 111\n",
       "\\item 112\n",
       "\\item 113\n",
       "\\item 114\n",
       "\\item 115\n",
       "\\item 116\n",
       "\\item 117\n",
       "\\item 118\n",
       "\\item 119\n",
       "\\item 120\n",
       "\\item 121\n",
       "\\item 122\n",
       "\\item 123\n",
       "\\item 124\n",
       "\\item 125\n",
       "\\item 126\n",
       "\\item 127\n",
       "\\item 128\n",
       "\\item 129\n",
       "\\item 130\n",
       "\\item 131\n",
       "\\item 132\n",
       "\\item 133\n",
       "\\item 134\n",
       "\\item 135\n",
       "\\item 136\n",
       "\\item 137\n",
       "\\item 138\n",
       "\\item 139\n",
       "\\item 140\n",
       "\\item 141\n",
       "\\item 142\n",
       "\\item 143\n",
       "\\item 144\n",
       "\\item 145\n",
       "\\item 146\n",
       "\\item 147\n",
       "\\item 148\n",
       "\\item 149\n",
       "\\item 150\n",
       "\\item 151\n",
       "\\item 152\n",
       "\\item 153\n",
       "\\item 154\n",
       "\\item 155\n",
       "\\item 156\n",
       "\\item 157\n",
       "\\item 158\n",
       "\\item 159\n",
       "\\item 160\n",
       "\\item 161\n",
       "\\item 162\n",
       "\\item 163\n",
       "\\item 164\n",
       "\\item 165\n",
       "\\item 166\n",
       "\\item 167\n",
       "\\item 168\n",
       "\\item 169\n",
       "\\item 170\n",
       "\\item 171\n",
       "\\item 172\n",
       "\\item 173\n",
       "\\item 174\n",
       "\\item 175\n",
       "\\item 176\n",
       "\\item 177\n",
       "\\item 178\n",
       "\\item 179\n",
       "\\item 180\n",
       "\\item 181\n",
       "\\item 182\n",
       "\\item 183\n",
       "\\item 184\n",
       "\\item 185\n",
       "\\item 186\n",
       "\\item 187\n",
       "\\item 188\n",
       "\\item 189\n",
       "\\item 190\n",
       "\\item 191\n",
       "\\item 192\n",
       "\\item 193\n",
       "\\item 194\n",
       "\\item 195\n",
       "\\item 196\n",
       "\\item 197\n",
       "\\item 198\n",
       "\\item 199\n",
       "\\item 200\n",
       "\\end{enumerate*}\n"
      ],
      "text/markdown": [
       "1. 100\n",
       "2. 101\n",
       "3. 102\n",
       "4. 103\n",
       "5. 104\n",
       "6. 105\n",
       "7. 106\n",
       "8. 107\n",
       "9. 108\n",
       "10. 109\n",
       "11. 110\n",
       "12. 111\n",
       "13. 112\n",
       "14. 113\n",
       "15. 114\n",
       "16. 115\n",
       "17. 116\n",
       "18. 117\n",
       "19. 118\n",
       "20. 119\n",
       "21. 120\n",
       "22. 121\n",
       "23. 122\n",
       "24. 123\n",
       "25. 124\n",
       "26. 125\n",
       "27. 126\n",
       "28. 127\n",
       "29. 128\n",
       "30. 129\n",
       "31. 130\n",
       "32. 131\n",
       "33. 132\n",
       "34. 133\n",
       "35. 134\n",
       "36. 135\n",
       "37. 136\n",
       "38. 137\n",
       "39. 138\n",
       "40. 139\n",
       "41. 140\n",
       "42. 141\n",
       "43. 142\n",
       "44. 143\n",
       "45. 144\n",
       "46. 145\n",
       "47. 146\n",
       "48. 147\n",
       "49. 148\n",
       "50. 149\n",
       "51. 150\n",
       "52. 151\n",
       "53. 152\n",
       "54. 153\n",
       "55. 154\n",
       "56. 155\n",
       "57. 156\n",
       "58. 157\n",
       "59. 158\n",
       "60. 159\n",
       "61. 160\n",
       "62. 161\n",
       "63. 162\n",
       "64. 163\n",
       "65. 164\n",
       "66. 165\n",
       "67. 166\n",
       "68. 167\n",
       "69. 168\n",
       "70. 169\n",
       "71. 170\n",
       "72. 171\n",
       "73. 172\n",
       "74. 173\n",
       "75. 174\n",
       "76. 175\n",
       "77. 176\n",
       "78. 177\n",
       "79. 178\n",
       "80. 179\n",
       "81. 180\n",
       "82. 181\n",
       "83. 182\n",
       "84. 183\n",
       "85. 184\n",
       "86. 185\n",
       "87. 186\n",
       "88. 187\n",
       "89. 188\n",
       "90. 189\n",
       "91. 190\n",
       "92. 191\n",
       "93. 192\n",
       "94. 193\n",
       "95. 194\n",
       "96. 195\n",
       "97. 196\n",
       "98. 197\n",
       "99. 198\n",
       "100. 199\n",
       "101. 200\n",
       "\n",
       "\n"
      ],
      "text/plain": [
       "  [1] 100 101 102 103 104 105 106 107 108 109 110 111 112 113 114 115 116 117\n",
       " [19] 118 119 120 121 122 123 124 125 126 127 128 129 130 131 132 133 134 135\n",
       " [37] 136 137 138 139 140 141 142 143 144 145 146 147 148 149 150 151 152 153\n",
       " [55] 154 155 156 157 158 159 160 161 162 163 164 165 166 167 168 169 170 171\n",
       " [73] 172 173 174 175 176 177 178 179 180 181 182 183 184 185 186 187 188 189\n",
       " [91] 190 191 192 193 194 195 196 197 198 199 200"
      ]
     },
     "metadata": {},
     "output_type": "display_data"
    }
   ],
   "source": [
    "100:200"
   ]
  },
  {
   "cell_type": "markdown",
   "metadata": {},
   "source": [
    "But if you want generate sequence like 100, 200, 300, ..., 1000 this way is not working. "
   ]
  },
  {
   "cell_type": "markdown",
   "metadata": {},
   "source": [
    "#### seq()"
   ]
  },
  {
   "cell_type": "markdown",
   "metadata": {},
   "source": [
    "`seq()` generate regular sequences. Usage samples:"
   ]
  },
  {
   "cell_type": "markdown",
   "metadata": {},
   "source": [
    "`seq(from, to)\n",
    "seq(from, to, by=)\n",
    "seq(from, to, length=)\n",
    "seq(along)`\n",
    "\n",
    "Details:\n",
    "\n",
    "- [x] The first form generates from, from+by, ..., to.\n",
    "- [x] The second generates a sequence of length equally spaced values from from to to.\n",
    "- [x] The last generates the sequence 1, 2, ..., length(along).\n",
    "- [x] If from and to are factors of the same length, then `from : to` returns the ``cross'' of the two.\n",
    "\n",
    "Let's check examples:"
   ]
  },
  {
   "cell_type": "code",
   "execution_count": 12,
   "metadata": {},
   "outputs": [
    {
     "data": {
      "text/html": [
       "<style>\n",
       ".list-inline {list-style: none; margin:0; padding: 0}\n",
       ".list-inline>li {display: inline-block}\n",
       ".list-inline>li:not(:last-child)::after {content: \"\\00b7\"; padding: 0 .5ex}\n",
       "</style>\n",
       "<ol class=list-inline><li>1</li><li>2</li><li>3</li><li>4</li><li>5</li><li>6</li><li>7</li><li>8</li><li>9</li><li>10</li></ol>\n"
      ],
      "text/latex": [
       "\\begin{enumerate*}\n",
       "\\item 1\n",
       "\\item 2\n",
       "\\item 3\n",
       "\\item 4\n",
       "\\item 5\n",
       "\\item 6\n",
       "\\item 7\n",
       "\\item 8\n",
       "\\item 9\n",
       "\\item 10\n",
       "\\end{enumerate*}\n"
      ],
      "text/markdown": [
       "1. 1\n",
       "2. 2\n",
       "3. 3\n",
       "4. 4\n",
       "5. 5\n",
       "6. 6\n",
       "7. 7\n",
       "8. 8\n",
       "9. 9\n",
       "10. 10\n",
       "\n",
       "\n"
      ],
      "text/plain": [
       " [1]  1  2  3  4  5  6  7  8  9 10"
      ]
     },
     "metadata": {},
     "output_type": "display_data"
    }
   ],
   "source": [
    "seq(1, 10)"
   ]
  },
  {
   "cell_type": "code",
   "execution_count": 14,
   "metadata": {},
   "outputs": [
    {
     "data": {
      "text/html": [
       "<style>\n",
       ".list-inline {list-style: none; margin:0; padding: 0}\n",
       ".list-inline>li {display: inline-block}\n",
       ".list-inline>li:not(:last-child)::after {content: \"\\00b7\"; padding: 0 .5ex}\n",
       "</style>\n",
       "<ol class=list-inline><li>1</li><li>1.3</li><li>1.6</li><li>1.9</li><li>2.2</li><li>2.5</li><li>2.8</li><li>3.1</li><li>3.4</li><li>3.7</li><li>4</li><li>4.3</li><li>4.6</li><li>4.9</li><li>5.2</li><li>5.5</li><li>5.8</li><li>6.1</li><li>6.4</li><li>6.7</li><li>7</li><li>7.3</li><li>7.6</li><li>7.9</li><li>8.2</li><li>8.5</li><li>8.8</li><li>9.1</li><li>9.4</li><li>9.7</li><li>10</li></ol>\n"
      ],
      "text/latex": [
       "\\begin{enumerate*}\n",
       "\\item 1\n",
       "\\item 1.3\n",
       "\\item 1.6\n",
       "\\item 1.9\n",
       "\\item 2.2\n",
       "\\item 2.5\n",
       "\\item 2.8\n",
       "\\item 3.1\n",
       "\\item 3.4\n",
       "\\item 3.7\n",
       "\\item 4\n",
       "\\item 4.3\n",
       "\\item 4.6\n",
       "\\item 4.9\n",
       "\\item 5.2\n",
       "\\item 5.5\n",
       "\\item 5.8\n",
       "\\item 6.1\n",
       "\\item 6.4\n",
       "\\item 6.7\n",
       "\\item 7\n",
       "\\item 7.3\n",
       "\\item 7.6\n",
       "\\item 7.9\n",
       "\\item 8.2\n",
       "\\item 8.5\n",
       "\\item 8.8\n",
       "\\item 9.1\n",
       "\\item 9.4\n",
       "\\item 9.7\n",
       "\\item 10\n",
       "\\end{enumerate*}\n"
      ],
      "text/markdown": [
       "1. 1\n",
       "2. 1.3\n",
       "3. 1.6\n",
       "4. 1.9\n",
       "5. 2.2\n",
       "6. 2.5\n",
       "7. 2.8\n",
       "8. 3.1\n",
       "9. 3.4\n",
       "10. 3.7\n",
       "11. 4\n",
       "12. 4.3\n",
       "13. 4.6\n",
       "14. 4.9\n",
       "15. 5.2\n",
       "16. 5.5\n",
       "17. 5.8\n",
       "18. 6.1\n",
       "19. 6.4\n",
       "20. 6.7\n",
       "21. 7\n",
       "22. 7.3\n",
       "23. 7.6\n",
       "24. 7.9\n",
       "25. 8.2\n",
       "26. 8.5\n",
       "27. 8.8\n",
       "28. 9.1\n",
       "29. 9.4\n",
       "30. 9.7\n",
       "31. 10\n",
       "\n",
       "\n"
      ],
      "text/plain": [
       " [1]  1.0  1.3  1.6  1.9  2.2  2.5  2.8  3.1  3.4  3.7  4.0  4.3  4.6  4.9  5.2\n",
       "[16]  5.5  5.8  6.1  6.4  6.7  7.0  7.3  7.6  7.9  8.2  8.5  8.8  9.1  9.4  9.7\n",
       "[31] 10.0"
      ]
     },
     "metadata": {},
     "output_type": "display_data"
    }
   ],
   "source": [
    "seq(1, 10, by = 0.3)"
   ]
  },
  {
   "cell_type": "code",
   "execution_count": 21,
   "metadata": {},
   "outputs": [
    {
     "data": {
      "text/html": [
       "<style>\n",
       ".list-inline {list-style: none; margin:0; padding: 0}\n",
       ".list-inline>li {display: inline-block}\n",
       ".list-inline>li:not(:last-child)::after {content: \"\\00b7\"; padding: 0 .5ex}\n",
       "</style>\n",
       "<ol class=list-inline><li>1</li><li>1.42857142857143</li><li>1.85714285714286</li><li>2.28571428571429</li><li>2.71428571428571</li><li>3.14285714285714</li><li>3.57142857142857</li><li>4</li></ol>\n"
      ],
      "text/latex": [
       "\\begin{enumerate*}\n",
       "\\item 1\n",
       "\\item 1.42857142857143\n",
       "\\item 1.85714285714286\n",
       "\\item 2.28571428571429\n",
       "\\item 2.71428571428571\n",
       "\\item 3.14285714285714\n",
       "\\item 3.57142857142857\n",
       "\\item 4\n",
       "\\end{enumerate*}\n"
      ],
      "text/markdown": [
       "1. 1\n",
       "2. 1.42857142857143\n",
       "3. 1.85714285714286\n",
       "4. 2.28571428571429\n",
       "5. 2.71428571428571\n",
       "6. 3.14285714285714\n",
       "7. 3.57142857142857\n",
       "8. 4\n",
       "\n",
       "\n"
      ],
      "text/plain": [
       "[1] 1.000000 1.428571 1.857143 2.285714 2.714286 3.142857 3.571429 4.000000"
      ]
     },
     "metadata": {},
     "output_type": "display_data"
    }
   ],
   "source": [
    "seq(1, 4, length=8)"
   ]
  },
  {
   "cell_type": "markdown",
   "metadata": {},
   "source": [
    "#### rep()"
   ]
  },
  {
   "cell_type": "markdown",
   "metadata": {},
   "source": [
    "`rep()` replicates the values in `x`. It is a generic function, and the (internal) default method is described here.\n",
    "\n",
    "Syntax: `rep(x, …)`, `rep.int(x, times) # function for integers`. Example:"
   ]
  },
  {
   "cell_type": "code",
   "execution_count": 22,
   "metadata": {},
   "outputs": [
    {
     "data": {
      "text/html": [
       "<style>\n",
       ".list-inline {list-style: none; margin:0; padding: 0}\n",
       ".list-inline>li {display: inline-block}\n",
       ".list-inline>li:not(:last-child)::after {content: \"\\00b7\"; padding: 0 .5ex}\n",
       "</style>\n",
       "<ol class=list-inline><li>1</li><li>2</li><li>3</li><li>4</li><li>1</li><li>2</li><li>3</li><li>4</li></ol>\n"
      ],
      "text/latex": [
       "\\begin{enumerate*}\n",
       "\\item 1\n",
       "\\item 2\n",
       "\\item 3\n",
       "\\item 4\n",
       "\\item 1\n",
       "\\item 2\n",
       "\\item 3\n",
       "\\item 4\n",
       "\\end{enumerate*}\n"
      ],
      "text/markdown": [
       "1. 1\n",
       "2. 2\n",
       "3. 3\n",
       "4. 4\n",
       "5. 1\n",
       "6. 2\n",
       "7. 3\n",
       "8. 4\n",
       "\n",
       "\n"
      ],
      "text/plain": [
       "[1] 1 2 3 4 1 2 3 4"
      ]
     },
     "metadata": {},
     "output_type": "display_data"
    }
   ],
   "source": [
    "rep(1:4, 2)"
   ]
  },
  {
   "cell_type": "code",
   "execution_count": 26,
   "metadata": {},
   "outputs": [
    {
     "data": {
      "text/html": [
       "<style>\n",
       ".list-inline {list-style: none; margin:0; padding: 0}\n",
       ".list-inline>li {display: inline-block}\n",
       ".list-inline>li:not(:last-child)::after {content: \"\\00b7\"; padding: 0 .5ex}\n",
       "</style>\n",
       "<ol class=list-inline><li>1</li><li>1</li><li>2</li><li>3</li><li>3</li><li>4</li></ol>\n"
      ],
      "text/latex": [
       "\\begin{enumerate*}\n",
       "\\item 1\n",
       "\\item 1\n",
       "\\item 2\n",
       "\\item 3\n",
       "\\item 3\n",
       "\\item 4\n",
       "\\end{enumerate*}\n"
      ],
      "text/markdown": [
       "1. 1\n",
       "2. 1\n",
       "3. 2\n",
       "4. 3\n",
       "5. 3\n",
       "6. 4\n",
       "\n",
       "\n"
      ],
      "text/plain": [
       "[1] 1 1 2 3 3 4"
      ]
     },
     "metadata": {},
     "output_type": "display_data"
    }
   ],
   "source": [
    "rep(1:4, c(2,1,2,1))"
   ]
  },
  {
   "cell_type": "code",
   "execution_count": 27,
   "metadata": {},
   "outputs": [
    {
     "data": {
      "text/html": [
       "<style>\n",
       ".list-inline {list-style: none; margin:0; padding: 0}\n",
       ".list-inline>li {display: inline-block}\n",
       ".list-inline>li:not(:last-child)::after {content: \"\\00b7\"; padding: 0 .5ex}\n",
       "</style>\n",
       "<ol class=list-inline><li>2</li><li>3</li><li>4</li><li>2</li><li>3</li><li>4</li></ol>\n"
      ],
      "text/latex": [
       "\\begin{enumerate*}\n",
       "\\item 2\n",
       "\\item 3\n",
       "\\item 4\n",
       "\\item 2\n",
       "\\item 3\n",
       "\\item 4\n",
       "\\end{enumerate*}\n"
      ],
      "text/markdown": [
       "1. 2\n",
       "2. 3\n",
       "3. 4\n",
       "4. 2\n",
       "5. 3\n",
       "6. 4\n",
       "\n",
       "\n"
      ],
      "text/plain": [
       "[1] 2 3 4 2 3 4"
      ]
     },
     "metadata": {},
     "output_type": "display_data"
    }
   ],
   "source": [
    "x <- c(2,3,4)\n",
    "rep(x, times = 2) # repeats twice a vector"
   ]
  },
  {
   "cell_type": "code",
   "execution_count": 28,
   "metadata": {},
   "outputs": [
    {
     "data": {
      "text/html": [
       "<style>\n",
       ".list-inline {list-style: none; margin:0; padding: 0}\n",
       ".list-inline>li {display: inline-block}\n",
       ".list-inline>li:not(:last-child)::after {content: \"\\00b7\"; padding: 0 .5ex}\n",
       "</style>\n",
       "<ol class=list-inline><li>2</li><li>2</li><li>3</li><li>3</li><li>4</li><li>4</li></ol>\n"
      ],
      "text/latex": [
       "\\begin{enumerate*}\n",
       "\\item 2\n",
       "\\item 2\n",
       "\\item 3\n",
       "\\item 3\n",
       "\\item 4\n",
       "\\item 4\n",
       "\\end{enumerate*}\n"
      ],
      "text/markdown": [
       "1. 2\n",
       "2. 2\n",
       "3. 3\n",
       "4. 3\n",
       "5. 4\n",
       "6. 4\n",
       "\n",
       "\n"
      ],
      "text/plain": [
       "[1] 2 2 3 3 4 4"
      ]
     },
     "metadata": {},
     "output_type": "display_data"
    }
   ],
   "source": [
    "x <- c(2,3,4)\n",
    "rep(x, each = 2) # repeats each item twice"
   ]
  },
  {
   "cell_type": "code",
   "execution_count": 30,
   "metadata": {},
   "outputs": [
    {
     "data": {
      "text/html": [
       "<style>\n",
       ".list-inline {list-style: none; margin:0; padding: 0}\n",
       ".list-inline>li {display: inline-block}\n",
       ".list-inline>li:not(:last-child)::after {content: \"\\00b7\"; padding: 0 .5ex}\n",
       "</style>\n",
       "<ol class=list-inline><li>2</li><li>2</li><li>3</li><li>3</li><li>4</li><li>4</li><li>2</li><li>2</li><li>3</li><li>3</li><li>4</li><li>4</li></ol>\n"
      ],
      "text/latex": [
       "\\begin{enumerate*}\n",
       "\\item 2\n",
       "\\item 2\n",
       "\\item 3\n",
       "\\item 3\n",
       "\\item 4\n",
       "\\item 4\n",
       "\\item 2\n",
       "\\item 2\n",
       "\\item 3\n",
       "\\item 3\n",
       "\\item 4\n",
       "\\item 4\n",
       "\\end{enumerate*}\n"
      ],
      "text/markdown": [
       "1. 2\n",
       "2. 2\n",
       "3. 3\n",
       "4. 3\n",
       "5. 4\n",
       "6. 4\n",
       "7. 2\n",
       "8. 2\n",
       "9. 3\n",
       "10. 3\n",
       "11. 4\n",
       "12. 4\n",
       "\n",
       "\n"
      ],
      "text/plain": [
       " [1] 2 2 3 3 4 4 2 2 3 3 4 4"
      ]
     },
     "metadata": {},
     "output_type": "display_data"
    }
   ],
   "source": [
    "x <- c(2,3,4)\n",
    "rep(x, each = 2, times = 2)"
   ]
  },
  {
   "cell_type": "markdown",
   "metadata": {},
   "source": [
    "### Pseudo-numbers"
   ]
  },
  {
   "cell_type": "markdown",
   "metadata": {},
   "source": [
    "You can generate pseudo-random numbers in R."
   ]
  },
  {
   "cell_type": "markdown",
   "metadata": {},
   "source": [
    "#### sample()"
   ]
  },
  {
   "cell_type": "markdown",
   "metadata": {},
   "source": [
    "`sample()` takes a sample of the specified size from the elements of `x` using either with or without replacement."
   ]
  },
  {
   "cell_type": "markdown",
   "metadata": {},
   "source": [
    "Syntax is:\n",
    "\n",
    "`sample(x, size, replace = FALSE, prob = NULL)`, where\n",
    "\n",
    "- [x] `x` - either a vector of one or more elements from which to choose, or a positive integer. \n",
    "- [x] `size` - a non-negative integer giving the number of items to choose.\n",
    "- [x] `replace` - should sampling be with replacement?"
   ]
  },
  {
   "cell_type": "code",
   "execution_count": 42,
   "metadata": {},
   "outputs": [
    {
     "data": {
      "text/html": [
       "<style>\n",
       ".list-inline {list-style: none; margin:0; padding: 0}\n",
       ".list-inline>li {display: inline-block}\n",
       ".list-inline>li:not(:last-child)::after {content: \"\\00b7\"; padding: 0 .5ex}\n",
       "</style>\n",
       "<ol class=list-inline><li>5</li><li>10</li><li>2</li><li>6</li><li>7</li></ol>\n"
      ],
      "text/latex": [
       "\\begin{enumerate*}\n",
       "\\item 5\n",
       "\\item 10\n",
       "\\item 2\n",
       "\\item 6\n",
       "\\item 7\n",
       "\\end{enumerate*}\n"
      ],
      "text/markdown": [
       "1. 5\n",
       "2. 10\n",
       "3. 2\n",
       "4. 6\n",
       "5. 7\n",
       "\n",
       "\n"
      ],
      "text/plain": [
       "[1]  5 10  2  6  7"
      ]
     },
     "metadata": {},
     "output_type": "display_data"
    }
   ],
   "source": [
    "sample(1:10, size = 5)"
   ]
  },
  {
   "cell_type": "code",
   "execution_count": 52,
   "metadata": {},
   "outputs": [
    {
     "data": {
      "text/html": [
       "<style>\n",
       ".list-inline {list-style: none; margin:0; padding: 0}\n",
       ".list-inline>li {display: inline-block}\n",
       ".list-inline>li:not(:last-child)::after {content: \"\\00b7\"; padding: 0 .5ex}\n",
       "</style>\n",
       "<ol class=list-inline><li>9</li><li>4</li><li>7</li><li>1</li><li>2</li></ol>\n"
      ],
      "text/latex": [
       "\\begin{enumerate*}\n",
       "\\item 9\n",
       "\\item 4\n",
       "\\item 7\n",
       "\\item 1\n",
       "\\item 2\n",
       "\\end{enumerate*}\n"
      ],
      "text/markdown": [
       "1. 9\n",
       "2. 4\n",
       "3. 7\n",
       "4. 1\n",
       "5. 2\n",
       "\n",
       "\n"
      ],
      "text/plain": [
       "[1] 9 4 7 1 2"
      ]
     },
     "metadata": {},
     "output_type": "display_data"
    }
   ],
   "source": [
    "# use set.seed  if you want fix your pseudorandom generation point\n",
    "set.seed(1) \n",
    "sample(1:10, size = 5)"
   ]
  },
  {
   "cell_type": "markdown",
   "metadata": {},
   "source": [
    "---"
   ]
  },
  {
   "cell_type": "markdown",
   "metadata": {},
   "source": [
    "### TASK 3"
   ]
  },
  {
   "cell_type": "markdown",
   "metadata": {},
   "source": [
    "Generate 100 random numbers in range [100, 1000]. Find with loop sum of even."
   ]
  },
  {
   "cell_type": "markdown",
   "metadata": {},
   "source": [
    "### SOLUTION (TASK3)"
   ]
  },
  {
   "cell_type": "code",
   "execution_count": 48,
   "metadata": {},
   "outputs": [
    {
     "data": {
      "text/html": [
       "<style>\n",
       ".list-inline {list-style: none; margin:0; padding: 0}\n",
       ".list-inline>li {display: inline-block}\n",
       ".list-inline>li:not(:last-child)::after {content: \"\\00b7\"; padding: 0 .5ex}\n",
       "</style>\n",
       "<ol class=list-inline><li>832</li><li>389</li><li>749</li><li>228</li><li>910</li><li>381</li><li>242</li><li>541</li><li>384</li><li>781</li><li>147</li><li>600</li><li>815</li><li>610</li><li>394</li><li>635</li><li>792</li><li>313</li><li>907</li><li>836</li><li>438</li><li>445</li><li>774</li><li>142</li><li>100</li><li>128</li><li>689</li><li>937</li><li>895</li><li>727</li><li>332</li><li>392</li><li>672</li><li>468</li><li>550</li><li>185</li><li>582</li><li>426</li><li>721</li><li>454</li><li>918</li><li>911</li><li>148</li><li>460</li><li>415</li><li>341</li><li>539</li><li>857</li><li>916</li><li>917</li><li>346</li><li>850</li><li>318</li><li>234</li><li>210</li><li>631</li><li>476</li><li>507</li><li>150</li><li>664</li><li>566</li><li>455</li><li>229</li><li>915</li><li>164</li><li>959</li><li>458</li><li>204</li><li>223</li><li>176</li><li>317</li><li>709</li><li>293</li><li>118</li><li>372</li><li>517</li><li>642</li><li>518</li><li>785</li><li>502</li><li>848</li><li>686</li><li>115</li><li>139</li><li>876</li><li>703</li><li>733</li><li>763</li><li>237</li><li>818</li><li>599</li><li>860</li><li>771</li><li>328</li><li>522</li><li>520</li><li>239</li><li>225</li><li>625</li><li>607</li></ol>\n"
      ],
      "text/latex": [
       "\\begin{enumerate*}\n",
       "\\item 832\n",
       "\\item 389\n",
       "\\item 749\n",
       "\\item 228\n",
       "\\item 910\n",
       "\\item 381\n",
       "\\item 242\n",
       "\\item 541\n",
       "\\item 384\n",
       "\\item 781\n",
       "\\item 147\n",
       "\\item 600\n",
       "\\item 815\n",
       "\\item 610\n",
       "\\item 394\n",
       "\\item 635\n",
       "\\item 792\n",
       "\\item 313\n",
       "\\item 907\n",
       "\\item 836\n",
       "\\item 438\n",
       "\\item 445\n",
       "\\item 774\n",
       "\\item 142\n",
       "\\item 100\n",
       "\\item 128\n",
       "\\item 689\n",
       "\\item 937\n",
       "\\item 895\n",
       "\\item 727\n",
       "\\item 332\n",
       "\\item 392\n",
       "\\item 672\n",
       "\\item 468\n",
       "\\item 550\n",
       "\\item 185\n",
       "\\item 582\n",
       "\\item 426\n",
       "\\item 721\n",
       "\\item 454\n",
       "\\item 918\n",
       "\\item 911\n",
       "\\item 148\n",
       "\\item 460\n",
       "\\item 415\n",
       "\\item 341\n",
       "\\item 539\n",
       "\\item 857\n",
       "\\item 916\n",
       "\\item 917\n",
       "\\item 346\n",
       "\\item 850\n",
       "\\item 318\n",
       "\\item 234\n",
       "\\item 210\n",
       "\\item 631\n",
       "\\item 476\n",
       "\\item 507\n",
       "\\item 150\n",
       "\\item 664\n",
       "\\item 566\n",
       "\\item 455\n",
       "\\item 229\n",
       "\\item 915\n",
       "\\item 164\n",
       "\\item 959\n",
       "\\item 458\n",
       "\\item 204\n",
       "\\item 223\n",
       "\\item 176\n",
       "\\item 317\n",
       "\\item 709\n",
       "\\item 293\n",
       "\\item 118\n",
       "\\item 372\n",
       "\\item 517\n",
       "\\item 642\n",
       "\\item 518\n",
       "\\item 785\n",
       "\\item 502\n",
       "\\item 848\n",
       "\\item 686\n",
       "\\item 115\n",
       "\\item 139\n",
       "\\item 876\n",
       "\\item 703\n",
       "\\item 733\n",
       "\\item 763\n",
       "\\item 237\n",
       "\\item 818\n",
       "\\item 599\n",
       "\\item 860\n",
       "\\item 771\n",
       "\\item 328\n",
       "\\item 522\n",
       "\\item 520\n",
       "\\item 239\n",
       "\\item 225\n",
       "\\item 625\n",
       "\\item 607\n",
       "\\end{enumerate*}\n"
      ],
      "text/markdown": [
       "1. 832\n",
       "2. 389\n",
       "3. 749\n",
       "4. 228\n",
       "5. 910\n",
       "6. 381\n",
       "7. 242\n",
       "8. 541\n",
       "9. 384\n",
       "10. 781\n",
       "11. 147\n",
       "12. 600\n",
       "13. 815\n",
       "14. 610\n",
       "15. 394\n",
       "16. 635\n",
       "17. 792\n",
       "18. 313\n",
       "19. 907\n",
       "20. 836\n",
       "21. 438\n",
       "22. 445\n",
       "23. 774\n",
       "24. 142\n",
       "25. 100\n",
       "26. 128\n",
       "27. 689\n",
       "28. 937\n",
       "29. 895\n",
       "30. 727\n",
       "31. 332\n",
       "32. 392\n",
       "33. 672\n",
       "34. 468\n",
       "35. 550\n",
       "36. 185\n",
       "37. 582\n",
       "38. 426\n",
       "39. 721\n",
       "40. 454\n",
       "41. 918\n",
       "42. 911\n",
       "43. 148\n",
       "44. 460\n",
       "45. 415\n",
       "46. 341\n",
       "47. 539\n",
       "48. 857\n",
       "49. 916\n",
       "50. 917\n",
       "51. 346\n",
       "52. 850\n",
       "53. 318\n",
       "54. 234\n",
       "55. 210\n",
       "56. 631\n",
       "57. 476\n",
       "58. 507\n",
       "59. 150\n",
       "60. 664\n",
       "61. 566\n",
       "62. 455\n",
       "63. 229\n",
       "64. 915\n",
       "65. 164\n",
       "66. 959\n",
       "67. 458\n",
       "68. 204\n",
       "69. 223\n",
       "70. 176\n",
       "71. 317\n",
       "72. 709\n",
       "73. 293\n",
       "74. 118\n",
       "75. 372\n",
       "76. 517\n",
       "77. 642\n",
       "78. 518\n",
       "79. 785\n",
       "80. 502\n",
       "81. 848\n",
       "82. 686\n",
       "83. 115\n",
       "84. 139\n",
       "85. 876\n",
       "86. 703\n",
       "87. 733\n",
       "88. 763\n",
       "89. 237\n",
       "90. 818\n",
       "91. 599\n",
       "92. 860\n",
       "93. 771\n",
       "94. 328\n",
       "95. 522\n",
       "96. 520\n",
       "97. 239\n",
       "98. 225\n",
       "99. 625\n",
       "100. 607\n",
       "\n",
       "\n"
      ],
      "text/plain": [
       "  [1] 832 389 749 228 910 381 242 541 384 781 147 600 815 610 394 635 792 313\n",
       " [19] 907 836 438 445 774 142 100 128 689 937 895 727 332 392 672 468 550 185\n",
       " [37] 582 426 721 454 918 911 148 460 415 341 539 857 916 917 346 850 318 234\n",
       " [55] 210 631 476 507 150 664 566 455 229 915 164 959 458 204 223 176 317 709\n",
       " [73] 293 118 372 517 642 518 785 502 848 686 115 139 876 703 733 763 237 818\n",
       " [91] 599 860 771 328 522 520 239 225 625 607"
      ]
     },
     "metadata": {},
     "output_type": "display_data"
    }
   ],
   "source": [
    "x <- sample(100:1000, size = 100)\n",
    "x"
   ]
  },
  {
   "cell_type": "code",
   "execution_count": 50,
   "metadata": {},
   "outputs": [
    {
     "data": {
      "text/html": [
       "52687"
      ],
      "text/latex": [
       "52687"
      ],
      "text/markdown": [
       "52687"
      ],
      "text/plain": [
       "[1] 52687"
      ]
     },
     "metadata": {},
     "output_type": "display_data"
    }
   ],
   "source": [
    "sum <- 0\n",
    "for(i in x) {\n",
    "    sum = sum + i\n",
    "}\n",
    "sum"
   ]
  },
  {
   "cell_type": "markdown",
   "metadata": {},
   "source": [
    "---"
   ]
  },
  {
   "cell_type": "markdown",
   "metadata": {},
   "source": [
    "#### runif()"
   ]
  },
  {
   "cell_type": "markdown",
   "metadata": {},
   "source": [
    "`runif()` generates random compositions with a uniform distribution in range [0;1]:"
   ]
  },
  {
   "cell_type": "code",
   "execution_count": 54,
   "metadata": {},
   "outputs": [
    {
     "data": {
      "text/html": [
       "<style>\n",
       ".list-inline {list-style: none; margin:0; padding: 0}\n",
       ".list-inline>li {display: inline-block}\n",
       ".list-inline>li:not(:last-child)::after {content: \"\\00b7\"; padding: 0 .5ex}\n",
       "</style>\n",
       "<ol class=list-inline><li>0.205974574899301</li><li>0.176556752528995</li><li>0.687022846657783</li><li>0.384103718213737</li><li>0.769841419998556</li></ol>\n"
      ],
      "text/latex": [
       "\\begin{enumerate*}\n",
       "\\item 0.205974574899301\n",
       "\\item 0.176556752528995\n",
       "\\item 0.687022846657783\n",
       "\\item 0.384103718213737\n",
       "\\item 0.769841419998556\n",
       "\\end{enumerate*}\n"
      ],
      "text/markdown": [
       "1. 0.205974574899301\n",
       "2. 0.176556752528995\n",
       "3. 0.687022846657783\n",
       "4. 0.384103718213737\n",
       "5. 0.769841419998556\n",
       "\n",
       "\n"
      ],
      "text/plain": [
       "[1] 0.2059746 0.1765568 0.6870228 0.3841037 0.7698414"
      ]
     },
     "metadata": {},
     "output_type": "display_data"
    }
   ],
   "source": [
    "runif(5)"
   ]
  },
  {
   "cell_type": "code",
   "execution_count": 66,
   "metadata": {},
   "outputs": [
    {
     "data": {
      "image/png": "[encoded data removed]",
      "text/plain": [
       "plot without title"
      ]
     },
     "metadata": {
      "image/png": {
       "height": 420,
       "width": 420
      }
     },
     "output_type": "display_data"
    }
   ],
   "source": [
    "x <- runif(1000)\n",
    "plot(x) # view chart of generated data"
   ]
  },
  {
   "cell_type": "markdown",
   "metadata": {},
   "source": [
    "---"
   ]
  },
  {
   "cell_type": "markdown",
   "metadata": {},
   "source": [
    "### TASK 4"
   ]
  },
  {
   "cell_type": "markdown",
   "metadata": {},
   "source": [
    "Generate 1000 random numbers in range [0,1]. Round them to 1 decimal value after point. Plot it."
   ]
  },
  {
   "cell_type": "markdown",
   "metadata": {},
   "source": [
    "#### SOLUTION TASK4"
   ]
  },
  {
   "cell_type": "code",
   "execution_count": 68,
   "metadata": {},
   "outputs": [
    {
     "data": {
      "image/png": "[encoded data removed]",
      "text/plain": [
       "plot without title"
      ]
     },
     "metadata": {
      "image/png": {
       "height": 420,
       "width": 420
      }
     },
     "output_type": "display_data"
    }
   ],
   "source": [
    "x <- runif(1000)\n",
    "x <- round(x, 1)\n",
    "plot(x)"
   ]
  },
  {
   "cell_type": "markdown",
   "metadata": {},
   "source": [
    "### Useful math functions"
   ]
  },
  {
   "cell_type": "markdown",
   "metadata": {},
   "source": [
    "In addition to the set of functions described above, `R` contains a very large number of implemented functions from various fields of science, business, technology, etc. You can read about them from the official documentation of the packages in which they are implemented and find them using the `help()` or `?name` function.\n",
    "\n",
    "Next, we consider a list of the most common functions used to solve educational problems when learning the basics of programming."
   ]
  },
  {
   "cell_type": "markdown",
   "metadata": {},
   "source": [
    "| Function | Purpose, description |\n",
    "| --------- | --------- |\n",
    "| *log(x)* | Logarithm of the number *x* based on *e* |\n",
    "| *log(x, n)* | Logarithm of the number *x* based on *n* |\n",
    "| *exp(x)* | *e* to the power of *x* |\n",
    "| *sqrt(x)* | The square root of the number *x* |\n",
    "| *factorial(x)* | Factorial number *x* |\n",
    "| *abs(x)* | Module of the number *x* |"
   ]
  },
  {
   "cell_type": "markdown",
   "metadata": {},
   "source": [
    "Also in `R` a number of trigonometric functions which were studied at school and not only are available, among them` cos(x) `,` sin(x) `,` tan(x) `, and also` acos(x) `, `asin(x)`, `atan(x)`, `acosh (x)`, `asinh(x)`, `atanh(x)`.\n",
    "\n",
    "You can read more about each of them in the documentation using the code command `help(function)`."
   ]
  },
  {
   "cell_type": "markdown",
   "metadata": {},
   "source": [
    "We will check basical statistical function while studying vectors on the next chapter."
   ]
  },
  {
   "cell_type": "markdown",
   "metadata": {},
   "source": [
    "## 7. Writing own functions"
   ]
  },
  {
   "cell_type": "markdown",
   "metadata": {},
   "source": [
    "Before we checked some R functions. But some times we need to write own functions.\n",
    "\n",
    "Some points:\n",
    "\n",
    "- [x] A function is a block of code which only runs when it is called.\n",
    "- [x] You can pass data, known as parameters, into a function.\n",
    "- [x] A function can return data as a result."
   ]
  },
  {
   "cell_type": "markdown",
   "metadata": {},
   "source": [
    "Use `function()` to create function :)"
   ]
  },
  {
   "cell_type": "code",
   "execution_count": 70,
   "metadata": {},
   "outputs": [
    {
     "name": "stdout",
     "output_type": "stream",
     "text": [
      "[1] \"this is my first function\"\n"
     ]
    }
   ],
   "source": [
    "own_func <- function() {\n",
    "    print(\"this is my first function\")\n",
    "}\n",
    "\n",
    "own_func()"
   ]
  },
  {
   "cell_type": "markdown",
   "metadata": {},
   "source": [
    "`own_func` - name of the function\n",
    "    \n",
    "`function()` - keyword that creates the function\n",
    "    \n",
    "`own_func()` function call"
   ]
  },
  {
   "cell_type": "markdown",
   "metadata": {},
   "source": [
    "**Arguments** are specified after the function name, inside the parentheses. You can add as many arguments as you want, just separate them with a comma.\n",
    "\n",
    "The following example has a function with one argument (amount). When the function is called, we pass along a first name, which is used inside the function to print the exchange rate USD-EUR:"
   ]
  },
  {
   "cell_type": "code",
   "execution_count": 75,
   "metadata": {},
   "outputs": [
    {
     "name": "stdout",
     "output_type": "stream",
     "text": [
      "[1] 820\n"
     ]
    }
   ],
   "source": [
    "# function converts USD to EURO\n",
    "exchage_rate <- function(amount) {\n",
    "    euro <- amount * 0.82 \n",
    "    print(euro)\n",
    "}\n",
    "\n",
    "exchage_rate(1000)"
   ]
  },
  {
   "cell_type": "markdown",
   "metadata": {},
   "source": [
    "Function can not only print some text but return values and save it to the variables"
   ]
  },
  {
   "cell_type": "code",
   "execution_count": 80,
   "metadata": {},
   "outputs": [
    {
     "name": "stdout",
     "output_type": "stream",
     "text": [
      "[1] \"EURO: 820\"\n"
     ]
    }
   ],
   "source": [
    "# function converts USD to EURO\n",
    "exchage_rate <- function(amount) {\n",
    "    euro <- amount * 0.82 \n",
    "    return(euro)\n",
    "}\n",
    "\n",
    "euro_sum <- exchage_rate(1000)\n",
    "print(paste0(\"EURO: \", euro_sum))"
   ]
  },
  {
   "cell_type": "markdown",
   "metadata": {},
   "source": [
    "Function can have many parameters. Let's make our function universal and give them `amount` and `rate`:"
   ]
  },
  {
   "cell_type": "code",
   "execution_count": 81,
   "metadata": {},
   "outputs": [
    {
     "name": "stdout",
     "output_type": "stream",
     "text": [
      "[1] \"EURO: 820\"\n"
     ]
    }
   ],
   "source": [
    "exchage_rate <- function(amount, rate) { # rate added\n",
    "    amount_currency2 <- amount * rate # rate replaced \n",
    "    return(amount_currency2)\n",
    "}\n",
    "\n",
    "euro_sum <- exchage_rate(1000, 0.82)\n",
    "print(paste0(\"EURO: \", euro_sum))"
   ]
  },
  {
   "cell_type": "markdown",
   "metadata": {},
   "source": [
    "As you seen before, functions can have default values, so you dont need call function with all parameters every time. Let's add default value for `rate = 0.82`."
   ]
  },
  {
   "cell_type": "code",
   "execution_count": 93,
   "metadata": {},
   "outputs": [
    {
     "name": "stdout",
     "output_type": "stream",
     "text": [
      "[1] \"EURO: 820\"\n",
      "[1] \"EURO: 830\"\n"
     ]
    }
   ],
   "source": [
    "exchage_rate <- function(amount, rate = 0.82) { # default value added\n",
    "    amount_currency2 <- amount * rate\n",
    "    return(amount_currency2)\n",
    "}\n",
    "\n",
    "euro_sum <- exchage_rate(1000)\n",
    "print(paste0(\"EURO: \", euro_sum))\n",
    "euro_sum <- exchage_rate(1000, 0.83)\n",
    "print(paste0(\"EURO: \", euro_sum))"
   ]
  },
  {
   "cell_type": "markdown",
   "metadata": {},
   "source": [
    "---"
   ]
  },
  {
   "cell_type": "markdown",
   "metadata": {},
   "source": [
    "### TASK 6\n",
    "\n",
    "Write a function that calculates deposite sum based on info:\n",
    "\n",
    "- [x] `P` - sum of deposite in euro.\n",
    "- [x] `n` - deposite term, in month\n",
    "- [x] `r` - monthly rate\n",
    "- [x] monthly capitaliztion\n",
    "\n",
    "During caluculations print every month info in style: \"Month: 1 / Total: 1010 / 10 EUR\"\n",
    "Suppose I deposit 1000 (P) dollars in bank every month for 60 (n) months and bank pays me 1 (rate) percent per month as interest. Hence I can calculate the interest on each deposit as:\n",
    "\n",
    "$A = P*(1+\\frac{r}{n})^n$\n",
    "\n",
    "The formula used is A = P(1+r/n) ^ nt, where 'A' represents final amount procured, 'P' represents principal, 'r' represents annual interest rate, 'n' represents the number of times that interest has been compounded, 't' represents the tenure."
   ]
  },
  {
   "cell_type": "markdown",
   "metadata": {},
   "source": [
    "### Solution"
   ]
  },
  {
   "cell_type": "code",
   "execution_count": 100,
   "metadata": {},
   "outputs": [
    {
     "name": "stdout",
     "output_type": "stream",
     "text": [
      "[1] \"Month:  1  / Total:  1010  /  10  EUR\"\n",
      "[1] \"Month:  2  / Total:  1020.1  /  10.1  EUR\"\n",
      "[1] \"Month:  3  / Total:  1030.3  /  10.2  EUR\"\n",
      "[1] \"Month:  4  / Total:  1040.6  /  10.3  EUR\"\n",
      "[1] \"Month:  5  / Total:  1051.01  /  10.41  EUR\"\n",
      "[1] \"Month:  6  / Total:  1061.52  /  10.51  EUR\"\n",
      "[1] \"Month:  7  / Total:  1072.14  /  10.62  EUR\"\n",
      "[1] \"Month:  8  / Total:  1082.86  /  10.72  EUR\"\n",
      "[1] \"Month:  9  / Total:  1093.69  /  10.83  EUR\"\n",
      "[1] \"Month:  10  / Total:  1104.62  /  10.94  EUR\"\n",
      "[1] \"Month:  11  / Total:  1115.67  /  11.05  EUR\"\n",
      "[1] \"Month:  12  / Total:  1126.83  /  11.16  EUR\"\n"
     ]
    },
    {
     "data": {
      "text/html": [
       "126.83"
      ],
      "text/latex": [
       "126.83"
      ],
      "text/markdown": [
       "126.83"
      ],
      "text/plain": [
       "[1] 126.83"
      ]
     },
     "metadata": {},
     "output_type": "display_data"
    }
   ],
   "source": [
    "deposite_calc <- function(P, rate, n) {\n",
    "    total <- 0\n",
    "    for (i in 1:n) {\n",
    "      perc <- P * rate / 100 # deposite increase sum current month\n",
    "      total  <- total + perc # add current month increase\n",
    "      P <- P * (1 + rate / 100) # replace initial sum for the next month\n",
    "      print(paste(\"Month: \", i, \" / Total: \", round(P,2), \" / \", round(perc, 2),\" EUR\"))\n",
    "    }\n",
    "    return(total)\n",
    "}\n",
    "\n",
    "total <- round(deposite_calc(1000, 1, 12), 2)\n",
    "total "
   ]
  },
  {
   "cell_type": "markdown",
   "metadata": {},
   "source": [
    "---"
   ]
  },
  {
   "cell_type": "markdown",
   "metadata": {},
   "source": [
    "# References"
   ]
  },
  {
   "cell_type": "markdown",
   "metadata": {},
   "source": [
    "1. The Comprehensive R Archive NetworkRcran: Url: https://cran.r-project.org/\n",
    "2. RStudio official website. Url: https://rstudio.com/\n",
    "3. Anaconda official website. Url: https://www.anaconda.com/\n",
    "4. Introduction to R. Datacamp interactive course. Url:  https://www.datacamp.com/courses/free-introduction-to-r\n",
    "5. Quanargo. Introduction to R. Url: https://www.quantargo.com/courses/course-r-introduction\n",
    "6. R Coder Project. Begin your data science career with R language! Url: https://r-coder.com/\n",
    "7. R Core Team (2019). R: A language and environment for statistical computing. R Foundation for Statistical Computing, Vienna, Austria.URL https://www.R-project.org/.\n",
    "8. A.B. Shipunov, EM Baldin, P.A. Volkova, VG Sufiyanov. Visual statistics. We use R! - M .: DMK Press, 2012. - 298 p .: ill.\n",
    "9. An Introduction to R. URL: https://cran.r-project.org/doc/manuals/r-release/R-intro.html\n",
    "10. R programming. https://www.datamentor.io/r-programming\n",
    "11. Learn R. R Functions. https://www.w3schools.com/r/r_functions.asp"
   ]
  }
 ],
 "metadata": {
  "kernelspec": {
   "display_name": "R",
   "language": "R",
   "name": "ir"
  },
  "language_info": {
   "codemirror_mode": "r",
   "file_extension": ".r",
   "mimetype": "text/x-r-source",
   "name": "R",
   "pygments_lexer": "r",
   "version": "4.0.5"
  }
 },
 "nbformat": 4,
 "nbformat_minor": 5
}
