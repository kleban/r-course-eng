{
 "cells": [
  {
   "cell_type": "markdown",
   "id": "962696ff",
   "metadata": {},
   "source": [
    "# Basics of programming for Data Science and Machine Learning"
   ]
  },
  {
   "cell_type": "markdown",
   "id": "b5307707",
   "metadata": {},
   "source": [
    "---"
   ]
  },
  {
   "cell_type": "markdown",
   "id": "1145cf90",
   "metadata": {},
   "source": [
    "## Table of contents"
   ]
  },
  {
   "cell_type": "markdown",
   "id": "7b9704b5",
   "metadata": {},
   "source": [
    "[1. Programing in R](#chapter21)"
   ]
  },
  {
   "cell_type": "markdown",
   "id": "0a56eb76",
   "metadata": {},
   "source": [
    "## 1. Programing in R #chapter21"
   ]
  }
 ],
 "metadata": {
  "kernelspec": {
   "display_name": "R",
   "language": "R",
   "name": "ir"
  },
  "language_info": {
   "codemirror_mode": "r",
   "file_extension": ".r",
   "mimetype": "text/x-r-source",
   "name": "R",
   "pygments_lexer": "r",
   "version": "4.0.5"
  }
 },
 "nbformat": 4,
 "nbformat_minor": 5
}
