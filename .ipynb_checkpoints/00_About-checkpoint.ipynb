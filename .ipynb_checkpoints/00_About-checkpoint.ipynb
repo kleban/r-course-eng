{
 "cells": [
  {
   "cell_type": "markdown",
   "id": "8a3c1f3d",
   "metadata": {},
   "source": [
    "# Data Science and Machine Learning in Banks"
   ]
  },
  {
   "cell_type": "markdown",
   "id": "8447b65a",
   "metadata": {},
   "source": [
    "---"
   ]
  },
  {
   "cell_type": "markdown",
   "id": "cdb8cf99",
   "metadata": {},
   "source": [
    "This course is introduction! :) Short text here..."
   ]
  },
  {
   "cell_type": "markdown",
   "id": "cb5f9ee8",
   "metadata": {},
   "source": [
    "## Table of contents"
   ]
  },
  {
   "cell_type": "markdown",
   "id": "0acdbf37",
   "metadata": {},
   "source": [
    "0. [About (Current)](00_About.ipynb)\n",
    "1. [Practical aspects of Machine Learning & AI in Risk Management](01_Introduction.ipynb)\n",
    "2. [Basics of programming for Data Science and Machine Learning](02_Basics.ipynb)\n",
    "3. [Fundamentals of ETL: data extraction, transformation and loading. Part 1](03_ETL1.ipynb)\n",
    "4. [Fundamentals of ETL: data extraction, transformation and loading. Part 2](04_ETL2.ipynb)\n",
    "5. [Linear and Logistic Regressions: prediction and metrics](05_Regressions.ipynb)\n",
    "6. [Trees based algorithms: Decision Tree, Random Forest, Gradient Boosting](06_Trees.ipynb)\n",
    "7. [Neural Networks: building, training](07_NeuralNetworks.ipynb)\n",
    "8. [Practical case study: developing a default prediction model](08_Default.ipynb)"
   ]
  },
  {
   "cell_type": "code",
   "execution_count": null,
   "id": "c640af0a",
   "metadata": {},
   "outputs": [],
   "source": []
  },
  {
   "cell_type": "code",
   "execution_count": null,
   "id": "c88be97d",
   "metadata": {},
   "outputs": [],
   "source": []
  },
  {
   "cell_type": "code",
   "execution_count": null,
   "id": "d5539693",
   "metadata": {},
   "outputs": [],
   "source": []
  },
  {
   "cell_type": "code",
   "execution_count": 1,
   "id": "556db4f5",
   "metadata": {},
   "outputs": [
    {
     "name": "stdout",
     "output_type": "stream",
     "text": [
      "[1] 30\n"
     ]
    }
   ],
   "source": [
    "x <- 10\n",
    "y <- 20\n",
    "print(x + y)"
   ]
  }
 ],
 "metadata": {
  "kernelspec": {
   "display_name": "R",
   "language": "R",
   "name": "ir"
  },
  "language_info": {
   "codemirror_mode": "r",
   "file_extension": ".r",
   "mimetype": "text/x-r-source",
   "name": "R",
   "pygments_lexer": "r",
   "version": "4.0.5"
  }
 },
 "nbformat": 4,
 "nbformat_minor": 5
}
