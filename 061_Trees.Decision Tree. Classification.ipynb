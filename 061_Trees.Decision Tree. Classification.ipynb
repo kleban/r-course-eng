{
 "cells": [
  {
   "cell_type": "markdown",
   "id": "0c01fab4",
   "metadata": {},
   "source": [
    "# Decision Tree. Classification. Part 1\n",
    "\n",
    "---\n",
    "\n",
    "## Trees based algorithms: Decision Tree, Random Forest, Gradient Boosting\n",
    "\n",
    "\n",
    "Applied Mathematical Modeling in Banking"
   ]
  },
  {
   "cell_type": "markdown",
   "id": "4a9a7f35",
   "metadata": {},
   "source": [
    "---"
   ]
  },
  {
   "cell_type": "markdown",
   "id": "33ed0eac",
   "metadata": {},
   "source": [
    "У даній частині навчального процесу потрібно побудувати маматичні моделі класифікації клієнтів на основі алгоритму дерева рішень та перевірити їх на тестовій вибірці."
   ]
  },
  {
   "cell_type": "markdown",
   "id": "2d7f5ddf",
   "metadata": {},
   "source": [
    "# 1. Dataset description"
   ]
  },
  {
   "cell_type": "markdown",
   "id": "d5ce5705",
   "metadata": {},
   "source": [
    "**Abstract**\n",
    "\n",
    "The data is related with direct marketing campaigns (phone calls) of a Portuguese banking institution. The classification goal is to predict if the client will subscribe a term deposit (variable y).\n",
    "\n"
   ]
  },
  {
   "cell_type": "markdown",
   "id": "746c8202",
   "metadata": {},
   "source": [
    "**Data Set Information:**\n",
    "\n",
    "The data is related with direct marketing campaigns of a Portuguese banking institution. The marketing campaigns were based on phone calls. Often, more than one contact to the same client was required, in order to access if the product (bank term deposit) would be ('yes') or not ('no') subscribed.\n",
    "\n",
    "There are four datasets:\n",
    "1. bank-additional-full.csv with all examples (41188) and 20 inputs, ordered by date (from May 2008 to November 2010), very close to the data analyzed in [Moro et al., 2014]\n",
    "2. bank-additional.csv with 10% of the examples (4119), randomly selected from 1), and 20 inputs.\n",
    "3. bank-full.csv with all examples and 17 inputs, ordered by date (older version of this dataset with less inputs).\n",
    "4. bank.csv with 10% of the examples and 17 inputs, randomly selected from 3 (older version of this dataset with less inputs).\n",
    "\n",
    "The smallest datasets are provided to test more computationally demanding machine learning algorithms (e.g., SVM).\n",
    "\n",
    "The classification goal is to predict if the client will subscribe (`yes/no`) a term deposit (variable `y`)."
   ]
  },
  {
   "cell_type": "markdown",
   "id": "a1975fca",
   "metadata": {},
   "source": [
    "**Attribute Information**\n",
    "\n",
    "\n",
    "**Input variables: bank client data:**\n",
    "\n",
    "|No|Title|Description|Data Type|Values|\n",
    "|---|---|---|---|---|\n",
    "|1|`age`||numeric||\n",
    "|2|`job`|type of job|categorical|'admin.', 'blue-collar', 'entrepreneur', 'housemaid', 'management', 'retired', 'self-employed', 'services', 'student', 'technician', 'unemployed', 'unknown'|\n",
    "|3|`marital`| marital status |categorical| 'divorced','married','single','unknown'; note: 'divorced' means divorced or widowed|\n",
    "|4|`education`| |categorical| 'basic.4y','basic.6y','basic.9y','high.school','illiterate','professional.course','university.degree','unknown'|\n",
    "|5|`default`| has credit in default? |categorical| 'no','yes','unknown'|\n",
    "|6|`housing`| has housing loan? |categorical| 'no','yes','unknown'|\n",
    "|7|`loan`| has personal loan? |categorical| 'no','yes','unknown'|\n",
    "\n",
    "\n",
    "**Input variables: related with the last contact of the current campaign:**\n",
    "\n",
    "|No|Title|Description|Data Type|Values|\n",
    "|---|---|---|---|---|\n",
    "|8| contact| contact communication type |categorical| 'cellular','telephone'|\n",
    "|9 | month| last contact month of year |categorical| 'jan', 'feb', 'mar', ..., 'nov', 'dec'|\n",
    "|10 | day_of_week| last contact day of the week |categorical|'mon','tue','wed','thu','fri'|\n",
    "|11 | duration| last contact duration, in seconds |numeric||. \n",
    "\n",
    "`duration` - **_Important note: this attribute highly affects the output target (e.g., if duration=0 then y='no'). Yet, the duration is not known before a call is performed. Also, after the end of the call y is obviously known. Thus, this \n",
    "input should only be included for benchmark purposes and should be discarded if the intention is to have a realistic predictive model._**\n",
    "\n",
    "**Input variables: other attributes:**\n",
    "\n",
    "|No|Title|Description|Data Type|Values|\n",
    "|---|---|---|---|---|\n",
    "|12 | `campaign`| number of contacts performed during this campaign and for this client |numeric| includes last contact||\n",
    "|13 | `pdays`|number of days that passed by after the client was last contacted from a previous campaign |numeric| 999 mean client was not previously contacted||\n",
    "|14 | `previous`| number of contacts performed before this campaign and for this client |numeric||\n",
    "|15 | `poutcome`| outcome of the previous marketing campaign |categorical| 'failure','nonexistent','success'|\n",
    "\n",
    "**Input variables: social and economic context attributes**\n",
    "\n",
    "|No|Title|Description|Data Type|Values|\n",
    "|---|---|---|---|---|\n",
    "|16 | `emp.var.rate`| employment variation rate - quarterly indicator |numeric||\n",
    "|17 | `cons.price.idx`| consumer price index - monthly indicator |numeric||\n",
    "|18 | `cons.conf.idx`| consumer confidence index - monthly indicator ||numeric||\n",
    "|19 | `euribor3m`| euribor 3 month rate - daily indicator |numeric||\n",
    "|20 | `nr.employed`|number of employees - quarterly indicator |numeric||\n",
    "\n",
    "**Output variable (desired target):**\n",
    "\n",
    "|No|Title|Description|Data Type|Values|\n",
    "|---|---|---|---|---|\n",
    "|21| `y` | has the client subscribed a term deposit? |binary| 'yes','no'|"
   ]
  },
  {
   "cell_type": "markdown",
   "id": "a6fd87bd",
   "metadata": {},
   "source": [
    "Source: https://archive.ics.uci.edu/ml/datasets/bank+marketing\n"
   ]
  },
  {
   "cell_type": "markdown",
   "id": "1387b762",
   "metadata": {},
   "source": [
    "---"
   ]
  },
  {
   "cell_type": "markdown",
   "id": "452cd3dd",
   "metadata": {},
   "source": [
    "# 2. Data load and preview"
   ]
  },
  {
   "cell_type": "markdown",
   "id": "47ee4f3c",
   "metadata": {},
   "source": [
    "Для початку завантажимо дані у змінну `data`:"
   ]
  },
  {
   "cell_type": "code",
   "execution_count": 65,
   "id": "e391345b",
   "metadata": {},
   "outputs": [],
   "source": [
    "data <- read.csv(\"data/banking.csv\", \n",
    "                 na.strings = c(\"\", \" \", \"NA\", \"NULL\"), # fix missing as NA if present\n",
    "                 stringsAsFactors = TRUE) # set strings as factor, we need this for some algorithms\n",
    "#use + unknown with na.strings if you want to play with missing\n",
    "#data <- read.csv(\"data/banking.csv\", na.strings = c(\"\", \" \", \"NA\", \"NULL\", \"unknown\"))"
   ]
  },
  {
   "cell_type": "markdown",
   "id": "57278ad9",
   "metadata": {},
   "source": [
    "Переглянемо структуру вибірки даних з `str()`:"
   ]
  },
  {
   "cell_type": "code",
   "execution_count": 2,
   "id": "cbb561e7",
   "metadata": {},
   "outputs": [
    {
     "name": "stdout",
     "output_type": "stream",
     "text": [
      "'data.frame':\t11162 obs. of  17 variables:\n",
      " $ age      : int  59 56 41 55 54 42 56 60 37 28 ...\n",
      " $ job      : chr  \"admin.\" \"admin.\" \"technician\" \"services\" ...\n",
      " $ marital  : chr  \"married\" \"married\" \"married\" \"married\" ...\n",
      " $ education: chr  \"secondary\" \"secondary\" \"secondary\" \"secondary\" ...\n",
      " $ default  : chr  \"no\" \"no\" \"no\" \"no\" ...\n",
      " $ balance  : int  2343 45 1270 2476 184 0 830 545 1 5090 ...\n",
      " $ housing  : chr  \"yes\" \"no\" \"yes\" \"yes\" ...\n",
      " $ loan     : chr  \"no\" \"no\" \"no\" \"no\" ...\n",
      " $ contact  : chr  \"unknown\" \"unknown\" \"unknown\" \"unknown\" ...\n",
      " $ day      : int  5 5 5 5 5 5 6 6 6 6 ...\n",
      " $ month    : chr  \"may\" \"may\" \"may\" \"may\" ...\n",
      " $ duration : int  1042 1467 1389 579 673 562 1201 1030 608 1297 ...\n",
      " $ campaign : int  1 1 1 1 2 2 1 1 1 3 ...\n",
      " $ pdays    : int  -1 -1 -1 -1 -1 -1 -1 -1 -1 -1 ...\n",
      " $ previous : int  0 0 0 0 0 0 0 0 0 0 ...\n",
      " $ poutcome : chr  \"unknown\" \"unknown\" \"unknown\" \"unknown\" ...\n",
      " $ deposit  : chr  \"yes\" \"yes\" \"yes\" \"yes\" ...\n"
     ]
    }
   ],
   "source": [
    "str(data)"
   ]
  },
  {
   "cell_type": "markdown",
   "id": "6749541f",
   "metadata": {},
   "source": [
    "Переглянемо вигляд перших рядків даних з `head()`:"
   ]
  },
  {
   "cell_type": "code",
   "execution_count": 66,
   "id": "bcd53093",
   "metadata": {},
   "outputs": [
    {
     "data": {
      "text/html": [
       "<table class=\"dataframe\">\n",
       "<caption>A data.frame: 6 × 17</caption>\n",
       "<thead>\n",
       "\t<tr><th></th><th scope=col>age</th><th scope=col>job</th><th scope=col>marital</th><th scope=col>education</th><th scope=col>default</th><th scope=col>balance</th><th scope=col>housing</th><th scope=col>loan</th><th scope=col>contact</th><th scope=col>day</th><th scope=col>month</th><th scope=col>duration</th><th scope=col>campaign</th><th scope=col>pdays</th><th scope=col>previous</th><th scope=col>poutcome</th><th scope=col>deposit</th></tr>\n",
       "\t<tr><th></th><th scope=col>&lt;int&gt;</th><th scope=col>&lt;fct&gt;</th><th scope=col>&lt;fct&gt;</th><th scope=col>&lt;fct&gt;</th><th scope=col>&lt;fct&gt;</th><th scope=col>&lt;int&gt;</th><th scope=col>&lt;fct&gt;</th><th scope=col>&lt;fct&gt;</th><th scope=col>&lt;fct&gt;</th><th scope=col>&lt;int&gt;</th><th scope=col>&lt;fct&gt;</th><th scope=col>&lt;int&gt;</th><th scope=col>&lt;int&gt;</th><th scope=col>&lt;int&gt;</th><th scope=col>&lt;int&gt;</th><th scope=col>&lt;fct&gt;</th><th scope=col>&lt;fct&gt;</th></tr>\n",
       "</thead>\n",
       "<tbody>\n",
       "\t<tr><th scope=row>1</th><td>59</td><td>admin.    </td><td>married</td><td>secondary</td><td>no</td><td>2343</td><td>yes</td><td>no </td><td>unknown</td><td>5</td><td>may</td><td>1042</td><td>1</td><td>-1</td><td>0</td><td>unknown</td><td>yes</td></tr>\n",
       "\t<tr><th scope=row>2</th><td>56</td><td>admin.    </td><td>married</td><td>secondary</td><td>no</td><td>  45</td><td>no </td><td>no </td><td>unknown</td><td>5</td><td>may</td><td>1467</td><td>1</td><td>-1</td><td>0</td><td>unknown</td><td>yes</td></tr>\n",
       "\t<tr><th scope=row>3</th><td>41</td><td>technician</td><td>married</td><td>secondary</td><td>no</td><td>1270</td><td>yes</td><td>no </td><td>unknown</td><td>5</td><td>may</td><td>1389</td><td>1</td><td>-1</td><td>0</td><td>unknown</td><td>yes</td></tr>\n",
       "\t<tr><th scope=row>4</th><td>55</td><td>services  </td><td>married</td><td>secondary</td><td>no</td><td>2476</td><td>yes</td><td>no </td><td>unknown</td><td>5</td><td>may</td><td> 579</td><td>1</td><td>-1</td><td>0</td><td>unknown</td><td>yes</td></tr>\n",
       "\t<tr><th scope=row>5</th><td>54</td><td>admin.    </td><td>married</td><td>tertiary </td><td>no</td><td> 184</td><td>no </td><td>no </td><td>unknown</td><td>5</td><td>may</td><td> 673</td><td>2</td><td>-1</td><td>0</td><td>unknown</td><td>yes</td></tr>\n",
       "\t<tr><th scope=row>6</th><td>42</td><td>management</td><td>single </td><td>tertiary </td><td>no</td><td>   0</td><td>yes</td><td>yes</td><td>unknown</td><td>5</td><td>may</td><td> 562</td><td>2</td><td>-1</td><td>0</td><td>unknown</td><td>yes</td></tr>\n",
       "</tbody>\n",
       "</table>\n"
      ],
      "text/latex": [
       "A data.frame: 6 × 17\n",
       "\\begin{tabular}{r|lllllllllllllllll}\n",
       "  & age & job & marital & education & default & balance & housing & loan & contact & day & month & duration & campaign & pdays & previous & poutcome & deposit\\\\\n",
       "  & <int> & <fct> & <fct> & <fct> & <fct> & <int> & <fct> & <fct> & <fct> & <int> & <fct> & <int> & <int> & <int> & <int> & <fct> & <fct>\\\\\n",
       "\\hline\n",
       "\t1 & 59 & admin.     & married & secondary & no & 2343 & yes & no  & unknown & 5 & may & 1042 & 1 & -1 & 0 & unknown & yes\\\\\n",
       "\t2 & 56 & admin.     & married & secondary & no &   45 & no  & no  & unknown & 5 & may & 1467 & 1 & -1 & 0 & unknown & yes\\\\\n",
       "\t3 & 41 & technician & married & secondary & no & 1270 & yes & no  & unknown & 5 & may & 1389 & 1 & -1 & 0 & unknown & yes\\\\\n",
       "\t4 & 55 & services   & married & secondary & no & 2476 & yes & no  & unknown & 5 & may &  579 & 1 & -1 & 0 & unknown & yes\\\\\n",
       "\t5 & 54 & admin.     & married & tertiary  & no &  184 & no  & no  & unknown & 5 & may &  673 & 2 & -1 & 0 & unknown & yes\\\\\n",
       "\t6 & 42 & management & single  & tertiary  & no &    0 & yes & yes & unknown & 5 & may &  562 & 2 & -1 & 0 & unknown & yes\\\\\n",
       "\\end{tabular}\n"
      ],
      "text/markdown": [
       "\n",
       "A data.frame: 6 × 17\n",
       "\n",
       "| <!--/--> | age &lt;int&gt; | job &lt;fct&gt; | marital &lt;fct&gt; | education &lt;fct&gt; | default &lt;fct&gt; | balance &lt;int&gt; | housing &lt;fct&gt; | loan &lt;fct&gt; | contact &lt;fct&gt; | day &lt;int&gt; | month &lt;fct&gt; | duration &lt;int&gt; | campaign &lt;int&gt; | pdays &lt;int&gt; | previous &lt;int&gt; | poutcome &lt;fct&gt; | deposit &lt;fct&gt; |\n",
       "|---|---|---|---|---|---|---|---|---|---|---|---|---|---|---|---|---|---|\n",
       "| 1 | 59 | admin.     | married | secondary | no | 2343 | yes | no  | unknown | 5 | may | 1042 | 1 | -1 | 0 | unknown | yes |\n",
       "| 2 | 56 | admin.     | married | secondary | no |   45 | no  | no  | unknown | 5 | may | 1467 | 1 | -1 | 0 | unknown | yes |\n",
       "| 3 | 41 | technician | married | secondary | no | 1270 | yes | no  | unknown | 5 | may | 1389 | 1 | -1 | 0 | unknown | yes |\n",
       "| 4 | 55 | services   | married | secondary | no | 2476 | yes | no  | unknown | 5 | may |  579 | 1 | -1 | 0 | unknown | yes |\n",
       "| 5 | 54 | admin.     | married | tertiary  | no |  184 | no  | no  | unknown | 5 | may |  673 | 2 | -1 | 0 | unknown | yes |\n",
       "| 6 | 42 | management | single  | tertiary  | no |    0 | yes | yes | unknown | 5 | may |  562 | 2 | -1 | 0 | unknown | yes |\n",
       "\n"
      ],
      "text/plain": [
       "  age job        marital education default balance housing loan contact day\n",
       "1 59  admin.     married secondary no      2343    yes     no   unknown 5  \n",
       "2 56  admin.     married secondary no        45    no      no   unknown 5  \n",
       "3 41  technician married secondary no      1270    yes     no   unknown 5  \n",
       "4 55  services   married secondary no      2476    yes     no   unknown 5  \n",
       "5 54  admin.     married tertiary  no       184    no      no   unknown 5  \n",
       "6 42  management single  tertiary  no         0    yes     yes  unknown 5  \n",
       "  month duration campaign pdays previous poutcome deposit\n",
       "1 may   1042     1        -1    0        unknown  yes    \n",
       "2 may   1467     1        -1    0        unknown  yes    \n",
       "3 may   1389     1        -1    0        unknown  yes    \n",
       "4 may    579     1        -1    0        unknown  yes    \n",
       "5 may    673     2        -1    0        unknown  yes    \n",
       "6 may    562     2        -1    0        unknown  yes    "
      ]
     },
     "metadata": {},
     "output_type": "display_data"
    }
   ],
   "source": [
    "head(data)"
   ]
  },
  {
   "cell_type": "markdown",
   "id": "250ad602",
   "metadata": {},
   "source": [
    "Описова статистика факторів:"
   ]
  },
  {
   "cell_type": "code",
   "execution_count": 67,
   "id": "16afb4ca",
   "metadata": {},
   "outputs": [
    {
     "data": {
      "text/plain": [
       "      age                 job           marital         education   \n",
       " Min.   :18.00   management :2566   divorced:1293   primary  :1500  \n",
       " 1st Qu.:32.00   blue-collar:1944   married :6351   secondary:5476  \n",
       " Median :39.00   technician :1823   single  :3518   tertiary :3689  \n",
       " Mean   :41.23   admin.     :1334                   unknown  : 497  \n",
       " 3rd Qu.:49.00   services   : 923                                   \n",
       " Max.   :95.00   retired    : 778                                   \n",
       "                 (Other)    :1794                                   \n",
       " default        balance      housing     loan           contact    \n",
       " no :10994   Min.   :-6847   no :5881   no :9702   cellular :8042  \n",
       " yes:  168   1st Qu.:  122   yes:5281   yes:1460   telephone: 774  \n",
       "             Median :  550                         unknown  :2346  \n",
       "             Mean   : 1529                                         \n",
       "             3rd Qu.: 1708                                         \n",
       "             Max.   :81204                                         \n",
       "                                                                   \n",
       "      day            month         duration       campaign     \n",
       " Min.   : 1.00   may    :2824   Min.   :   2   Min.   : 1.000  \n",
       " 1st Qu.: 8.00   aug    :1519   1st Qu.: 138   1st Qu.: 1.000  \n",
       " Median :15.00   jul    :1514   Median : 255   Median : 2.000  \n",
       " Mean   :15.66   jun    :1222   Mean   : 372   Mean   : 2.508  \n",
       " 3rd Qu.:22.00   nov    : 943   3rd Qu.: 496   3rd Qu.: 3.000  \n",
       " Max.   :31.00   apr    : 923   Max.   :3881   Max.   :63.000  \n",
       "                 (Other):2217                                  \n",
       "     pdays           previous          poutcome    deposit   \n",
       " Min.   : -1.00   Min.   : 0.0000   failure:1228   no :5873  \n",
       " 1st Qu.: -1.00   1st Qu.: 0.0000   other  : 537   yes:5289  \n",
       " Median : -1.00   Median : 0.0000   success:1071             \n",
       " Mean   : 51.33   Mean   : 0.8326   unknown:8326             \n",
       " 3rd Qu.: 20.75   3rd Qu.: 1.0000                            \n",
       " Max.   :854.00   Max.   :58.0000                            \n",
       "                                                             "
      ]
     },
     "metadata": {},
     "output_type": "display_data"
    }
   ],
   "source": [
    "summary(data)"
   ]
  },
  {
   "cell_type": "markdown",
   "id": "973eb491",
   "metadata": {},
   "source": [
    "Перевіримо вибірку на наявність пропусків:"
   ]
  },
  {
   "cell_type": "code",
   "execution_count": 68,
   "id": "82c5c3c9",
   "metadata": {},
   "outputs": [
    {
     "name": "stdout",
     "output_type": "stream",
     "text": [
      " /\\     /\\\n",
      "{  `---'  }\n",
      "{  O   O  }\n",
      "==>  V <==  No need for mice. This data set is completely observed.\n",
      " \\  \\|/  /\n",
      "  `-----'\n",
      "\n"
     ]
    },
    {
     "data": {
      "text/html": [
       "<table class=\"dataframe\">\n",
       "<caption>A matrix: 2 × 18 of type dbl</caption>\n",
       "<thead>\n",
       "\t<tr><th></th><th scope=col>age</th><th scope=col>job</th><th scope=col>marital</th><th scope=col>education</th><th scope=col>default</th><th scope=col>balance</th><th scope=col>housing</th><th scope=col>loan</th><th scope=col>contact</th><th scope=col>day</th><th scope=col>month</th><th scope=col>duration</th><th scope=col>campaign</th><th scope=col>pdays</th><th scope=col>previous</th><th scope=col>poutcome</th><th scope=col>deposit</th><th scope=col></th></tr>\n",
       "</thead>\n",
       "<tbody>\n",
       "\t<tr><th scope=row>11162</th><td>1</td><td>1</td><td>1</td><td>1</td><td>1</td><td>1</td><td>1</td><td>1</td><td>1</td><td>1</td><td>1</td><td>1</td><td>1</td><td>1</td><td>1</td><td>1</td><td>1</td><td>0</td></tr>\n",
       "\t<tr><th scope=row></th><td>0</td><td>0</td><td>0</td><td>0</td><td>0</td><td>0</td><td>0</td><td>0</td><td>0</td><td>0</td><td>0</td><td>0</td><td>0</td><td>0</td><td>0</td><td>0</td><td>0</td><td>0</td></tr>\n",
       "</tbody>\n",
       "</table>\n"
      ],
      "text/latex": [
       "A matrix: 2 × 18 of type dbl\n",
       "\\begin{tabular}{r|llllllllllllllllll}\n",
       "  & age & job & marital & education & default & balance & housing & loan & contact & day & month & duration & campaign & pdays & previous & poutcome & deposit & \\\\\n",
       "\\hline\n",
       "\t11162 & 1 & 1 & 1 & 1 & 1 & 1 & 1 & 1 & 1 & 1 & 1 & 1 & 1 & 1 & 1 & 1 & 1 & 0\\\\\n",
       "\t & 0 & 0 & 0 & 0 & 0 & 0 & 0 & 0 & 0 & 0 & 0 & 0 & 0 & 0 & 0 & 0 & 0 & 0\\\\\n",
       "\\end{tabular}\n"
      ],
      "text/markdown": [
       "\n",
       "A matrix: 2 × 18 of type dbl\n",
       "\n",
       "| <!--/--> | age | job | marital | education | default | balance | housing | loan | contact | day | month | duration | campaign | pdays | previous | poutcome | deposit | <!----> |\n",
       "|---|---|---|---|---|---|---|---|---|---|---|---|---|---|---|---|---|---|---|\n",
       "| 11162 | 1 | 1 | 1 | 1 | 1 | 1 | 1 | 1 | 1 | 1 | 1 | 1 | 1 | 1 | 1 | 1 | 1 | 0 |\n",
       "| <!----> | 0 | 0 | 0 | 0 | 0 | 0 | 0 | 0 | 0 | 0 | 0 | 0 | 0 | 0 | 0 | 0 | 0 | 0 |\n",
       "\n"
      ],
      "text/plain": [
       "      age job marital education default balance housing loan contact day month\n",
       "11162 1   1   1       1         1       1       1       1    1       1   1    \n",
       "      0   0   0       0         0       0       0       0    0       0   0    \n",
       "      duration campaign pdays previous poutcome deposit  \n",
       "11162 1        1        1     1        1        1       0\n",
       "      0        0        0     0        0        0       0"
      ]
     },
     "metadata": {},
     "output_type": "display_data"
    },
    {
     "data": {
      "image/png": "[encoded data removed]",
      "text/plain": [
       "plot without title"
      ]
     },
     "metadata": {
      "image/png": {
       "height": 420,
       "width": 420
      }
     },
     "output_type": "display_data"
    }
   ],
   "source": [
    "library(mice)\n",
    "md.pattern(data) # OK"
   ]
  },
  {
   "cell_type": "markdown",
   "id": "6e811f87",
   "metadata": {},
   "source": [
    "---"
   ]
  },
  {
   "cell_type": "markdown",
   "id": "aace7da6",
   "metadata": {},
   "source": [
    "# 3. Data visualization"
   ]
  },
  {
   "cell_type": "markdown",
   "id": "f8b27c14",
   "metadata": {},
   "source": [
    "**Вік клієнта (age):**"
   ]
  },
  {
   "cell_type": "code",
   "execution_count": 69,
   "id": "c5faea4e",
   "metadata": {},
   "outputs": [
    {
     "data": {
      "image/png": "[encoded data removed]",
      "text/plain": [
       "plot without title"
      ]
     },
     "metadata": {
      "image/png": {
       "height": 420,
       "width": 420
      }
     },
     "output_type": "display_data"
    }
   ],
   "source": [
    "library(ggplot2)\n",
    "\n",
    "ggplot(data, aes(age)) + \n",
    "    geom_histogram(bins = 20, alpha = 0.5, fill = 'blue', color='black')  + \n",
    "    theme_bw()"
   ]
  },
  {
   "cell_type": "markdown",
   "id": "15d98c1a",
   "metadata": {},
   "source": [
    "**Робота клієнта (job):**"
   ]
  },
  {
   "cell_type": "code",
   "execution_count": 70,
   "id": "469560f1",
   "metadata": {},
   "outputs": [
    {
     "data": {
      "image/png": "[encoded data removed]",
      "text/plain": [
       "plot without title"
      ]
     },
     "metadata": {
      "image/png": {
       "height": 420,
       "width": 420
      }
     },
     "output_type": "display_data"
    }
   ],
   "source": [
    "ggplot(data, aes(job)) + \n",
    "    geom_bar(aes(fill = job)) + \n",
    "    theme_bw()"
   ]
  },
  {
   "cell_type": "code",
   "execution_count": 71,
   "id": "06dfd76d",
   "metadata": {},
   "outputs": [
    {
     "name": "stdout",
     "output_type": "stream",
     "text": [
      "\n",
      " \n",
      "   Cell Contents\n",
      "|-------------------------|\n",
      "|                       N |\n",
      "| Chi-square contribution |\n",
      "|           N / Row Total |\n",
      "|           N / Col Total |\n",
      "|         N / Table Total |\n",
      "|-------------------------|\n",
      "\n",
      " \n",
      "Total Observations in Table:  11162 \n",
      "\n",
      " \n",
      "              | data$deposit \n",
      "     data$job |        no |       yes | Row Total | \n",
      "--------------|-----------|-----------|-----------|\n",
      "       admin. |       703 |       631 |      1334 | \n",
      "              |     0.002 |     0.002 |           | \n",
      "              |     0.527 |     0.473 |     0.120 | \n",
      "              |     0.120 |     0.119 |           | \n",
      "              |     0.063 |     0.057 |           | \n",
      "--------------|-----------|-----------|-----------|\n",
      "  blue-collar |      1236 |       708 |      1944 | \n",
      "              |    44.415 |    49.320 |           | \n",
      "              |     0.636 |     0.364 |     0.174 | \n",
      "              |     0.210 |     0.134 |           | \n",
      "              |     0.111 |     0.063 |           | \n",
      "--------------|-----------|-----------|-----------|\n",
      " entrepreneur |       205 |       123 |       328 | \n",
      "              |     6.090 |     6.762 |           | \n",
      "              |     0.625 |     0.375 |     0.029 | \n",
      "              |     0.035 |     0.023 |           | \n",
      "              |     0.018 |     0.011 |           | \n",
      "--------------|-----------|-----------|-----------|\n",
      "    housemaid |       165 |       109 |       274 | \n",
      "              |     3.010 |     3.343 |           | \n",
      "              |     0.602 |     0.398 |     0.025 | \n",
      "              |     0.028 |     0.021 |           | \n",
      "              |     0.015 |     0.010 |           | \n",
      "--------------|-----------|-----------|-----------|\n",
      "   management |      1265 |      1301 |      2566 | \n",
      "              |     5.367 |     5.960 |           | \n",
      "              |     0.493 |     0.507 |     0.230 | \n",
      "              |     0.215 |     0.246 |           | \n",
      "              |     0.113 |     0.117 |           | \n",
      "--------------|-----------|-----------|-----------|\n",
      "      retired |       262 |       516 |       778 | \n",
      "              |    53.042 |    58.899 |           | \n",
      "              |     0.337 |     0.663 |     0.070 | \n",
      "              |     0.045 |     0.098 |           | \n",
      "              |     0.023 |     0.046 |           | \n",
      "--------------|-----------|-----------|-----------|\n",
      "self-employed |       218 |       187 |       405 | \n",
      "              |     0.113 |     0.125 |           | \n",
      "              |     0.538 |     0.462 |     0.036 | \n",
      "              |     0.037 |     0.035 |           | \n",
      "              |     0.020 |     0.017 |           | \n",
      "--------------|-----------|-----------|-----------|\n",
      "     services |       554 |       369 |       923 | \n",
      "              |     9.621 |    10.683 |           | \n",
      "              |     0.600 |     0.400 |     0.083 | \n",
      "              |     0.094 |     0.070 |           | \n",
      "              |     0.050 |     0.033 |           | \n",
      "--------------|-----------|-----------|-----------|\n",
      "      student |        91 |       269 |       360 | \n",
      "              |    51.136 |    56.782 |           | \n",
      "              |     0.253 |     0.747 |     0.032 | \n",
      "              |     0.015 |     0.051 |           | \n",
      "              |     0.008 |     0.024 |           | \n",
      "--------------|-----------|-----------|-----------|\n",
      "   technician |       983 |       840 |      1823 | \n",
      "              |     0.591 |     0.656 |           | \n",
      "              |     0.539 |     0.461 |     0.163 | \n",
      "              |     0.167 |     0.159 |           | \n",
      "              |     0.088 |     0.075 |           | \n",
      "--------------|-----------|-----------|-----------|\n",
      "   unemployed |       155 |       202 |       357 | \n",
      "              |     5.741 |     6.375 |           | \n",
      "              |     0.434 |     0.566 |     0.032 | \n",
      "              |     0.026 |     0.038 |           | \n",
      "              |     0.014 |     0.018 |           | \n",
      "--------------|-----------|-----------|-----------|\n",
      "      unknown |        36 |        34 |        70 | \n",
      "              |     0.019 |     0.021 |           | \n",
      "              |     0.514 |     0.486 |     0.006 | \n",
      "              |     0.006 |     0.006 |           | \n",
      "              |     0.003 |     0.003 |           | \n",
      "--------------|-----------|-----------|-----------|\n",
      " Column Total |      5873 |      5289 |     11162 | \n",
      "              |     0.526 |     0.474 |           | \n",
      "--------------|-----------|-----------|-----------|\n",
      "\n",
      " \n"
     ]
    }
   ],
   "source": [
    "library(gmodels)\n",
    "CrossTable(data$job, data$deposit)\n",
    "# more loyal to deposits are management, retired, student, unemployed ))"
   ]
  },
  {
   "cell_type": "markdown",
   "id": "52124e35",
   "metadata": {},
   "source": [
    "**Сімейний статус (marital):**"
   ]
  },
  {
   "cell_type": "code",
   "execution_count": 72,
   "id": "34bb4df3",
   "metadata": {},
   "outputs": [
    {
     "data": {
      "image/png": "[encoded data removed]",
      "text/plain": [
       "plot without title"
      ]
     },
     "metadata": {
      "image/png": {
       "height": 420,
       "width": 420
      }
     },
     "output_type": "display_data"
    }
   ],
   "source": [
    "ggplot(data, aes(marital)) + \n",
    "    geom_bar(aes(fill = marital)) + \n",
    "    theme_bw()"
   ]
  },
  {
   "cell_type": "code",
   "execution_count": 73,
   "id": "440abf12",
   "metadata": {},
   "outputs": [
    {
     "name": "stdout",
     "output_type": "stream",
     "text": [
      "\n",
      " \n",
      "   Cell Contents\n",
      "|-------------------------|\n",
      "|                       N |\n",
      "| Chi-square contribution |\n",
      "|           N / Row Total |\n",
      "|           N / Col Total |\n",
      "|         N / Table Total |\n",
      "|-------------------------|\n",
      "\n",
      " \n",
      "Total Observations in Table:  11162 \n",
      "\n",
      " \n",
      "             | data$deposit \n",
      "data$marital |        no |       yes | Row Total | \n",
      "-------------|-----------|-----------|-----------|\n",
      "    divorced |       671 |       622 |      1293 | \n",
      "             |     0.128 |     0.142 |           | \n",
      "             |     0.519 |     0.481 |     0.116 | \n",
      "             |     0.114 |     0.118 |           | \n",
      "             |     0.060 |     0.056 |           | \n",
      "-------------|-----------|-----------|-----------|\n",
      "     married |      3596 |      2755 |      6351 | \n",
      "             |    19.361 |    21.499 |           | \n",
      "             |     0.566 |     0.434 |     0.569 | \n",
      "             |     0.612 |     0.521 |           | \n",
      "             |     0.322 |     0.247 |           | \n",
      "-------------|-----------|-----------|-----------|\n",
      "      single |      1606 |      1912 |      3518 | \n",
      "             |    32.436 |    36.018 |           | \n",
      "             |     0.457 |     0.543 |     0.315 | \n",
      "             |     0.273 |     0.362 |           | \n",
      "             |     0.144 |     0.171 |           | \n",
      "-------------|-----------|-----------|-----------|\n",
      "Column Total |      5873 |      5289 |     11162 | \n",
      "             |     0.526 |     0.474 |           | \n",
      "-------------|-----------|-----------|-----------|\n",
      "\n",
      " \n"
     ]
    }
   ],
   "source": [
    "CrossTable(data$marital, data$deposit)\n",
    "# married are not very loyal to deposits\n",
    "# but singles is more loyal"
   ]
  },
  {
   "cell_type": "markdown",
   "id": "935850f1",
   "metadata": {},
   "source": [
    "**Освіта (education):**"
   ]
  },
  {
   "cell_type": "code",
   "execution_count": 74,
   "id": "7feefe90",
   "metadata": {},
   "outputs": [
    {
     "data": {
      "image/png": "[encoded data removed]",
      "text/plain": [
       "plot without title"
      ]
     },
     "metadata": {
      "image/png": {
       "height": 420,
       "width": 420
      }
     },
     "output_type": "display_data"
    }
   ],
   "source": [
    "ggplot(data, aes(education)) + \n",
    "    geom_bar(aes(fill = education)) + \n",
    "    theme_bw()"
   ]
  },
  {
   "cell_type": "code",
   "execution_count": 75,
   "id": "308da68a",
   "metadata": {},
   "outputs": [
    {
     "name": "stdout",
     "output_type": "stream",
     "text": [
      "\n",
      " \n",
      "   Cell Contents\n",
      "|-------------------------|\n",
      "|                       N |\n",
      "| Chi-square contribution |\n",
      "|           N / Row Total |\n",
      "|           N / Col Total |\n",
      "|         N / Table Total |\n",
      "|-------------------------|\n",
      "\n",
      " \n",
      "Total Observations in Table:  11162 \n",
      "\n",
      " \n",
      "               | data$deposit \n",
      "data$education |        no |       yes | Row Total | \n",
      "---------------|-----------|-----------|-----------|\n",
      "       primary |       909 |       591 |      1500 | \n",
      "               |    18.172 |    20.179 |           | \n",
      "               |     0.606 |     0.394 |     0.134 | \n",
      "               |     0.155 |     0.112 |           | \n",
      "               |     0.081 |     0.053 |           | \n",
      "---------------|-----------|-----------|-----------|\n",
      "     secondary |      3026 |      2450 |      5476 | \n",
      "               |     7.272 |     8.075 |           | \n",
      "               |     0.553 |     0.447 |     0.491 | \n",
      "               |     0.515 |     0.463 |           | \n",
      "               |     0.271 |     0.219 |           | \n",
      "---------------|-----------|-----------|-----------|\n",
      "      tertiary |      1693 |      1996 |      3689 | \n",
      "               |    31.688 |    35.187 |           | \n",
      "               |     0.459 |     0.541 |     0.330 | \n",
      "               |     0.288 |     0.377 |           | \n",
      "               |     0.152 |     0.179 |           | \n",
      "---------------|-----------|-----------|-----------|\n",
      "       unknown |       245 |       252 |       497 | \n",
      "               |     1.041 |     1.156 |           | \n",
      "               |     0.493 |     0.507 |     0.045 | \n",
      "               |     0.042 |     0.048 |           | \n",
      "               |     0.022 |     0.023 |           | \n",
      "---------------|-----------|-----------|-----------|\n",
      "  Column Total |      5873 |      5289 |     11162 | \n",
      "               |     0.526 |     0.474 |           | \n",
      "---------------|-----------|-----------|-----------|\n",
      "\n",
      " \n"
     ]
    }
   ],
   "source": [
    "CrossTable(data$education, data$deposit)\n",
    "# people with tertiary education is more loyal than other groups"
   ]
  },
  {
   "cell_type": "markdown",
   "id": "2a047a5a",
   "metadata": {},
   "source": [
    "**Дефолт (default):**"
   ]
  },
  {
   "cell_type": "code",
   "execution_count": 76,
   "id": "5de59c29",
   "metadata": {},
   "outputs": [
    {
     "data": {
      "image/png": "[encoded data removed]",
      "text/plain": [
       "plot without title"
      ]
     },
     "metadata": {
      "image/png": {
       "height": 420,
       "width": 420
      }
     },
     "output_type": "display_data"
    }
   ],
   "source": [
    "ggplot(data, aes(default)) + \n",
    "    geom_bar(aes(fill = default)) + \n",
    "    theme_bw()"
   ]
  },
  {
   "cell_type": "code",
   "execution_count": 77,
   "id": "9579c9f3",
   "metadata": {},
   "outputs": [
    {
     "name": "stdout",
     "output_type": "stream",
     "text": [
      "\n",
      " \n",
      "   Cell Contents\n",
      "|-------------------------|\n",
      "|                       N |\n",
      "| Chi-square contribution |\n",
      "|           N / Row Total |\n",
      "|           N / Col Total |\n",
      "|         N / Table Total |\n",
      "|-------------------------|\n",
      "\n",
      " \n",
      "Total Observations in Table:  11162 \n",
      "\n",
      " \n",
      "             | data$deposit \n",
      "data$default |        no |       yes | Row Total | \n",
      "-------------|-----------|-----------|-----------|\n",
      "          no |      5757 |      5237 |     10994 | \n",
      "             |     0.132 |     0.146 |           | \n",
      "             |     0.524 |     0.476 |     0.985 | \n",
      "             |     0.980 |     0.990 |           | \n",
      "             |     0.516 |     0.469 |           | \n",
      "-------------|-----------|-----------|-----------|\n",
      "         yes |       116 |        52 |       168 | \n",
      "             |     8.621 |     9.573 |           | \n",
      "             |     0.690 |     0.310 |     0.015 | \n",
      "             |     0.020 |     0.010 |           | \n",
      "             |     0.010 |     0.005 |           | \n",
      "-------------|-----------|-----------|-----------|\n",
      "Column Total |      5873 |      5289 |     11162 | \n",
      "             |     0.526 |     0.474 |           | \n",
      "-------------|-----------|-----------|-----------|\n",
      "\n",
      " \n"
     ]
    }
   ],
   "source": [
    "CrossTable(data$default, data$deposit)\n",
    "# defaults not very loyal to deposits, but why? ))))))"
   ]
  },
  {
   "cell_type": "markdown",
   "id": "58739d21",
   "metadata": {},
   "source": [
    "**Баланс (balance):**"
   ]
  },
  {
   "cell_type": "code",
   "execution_count": 78,
   "id": "866e3c89",
   "metadata": {},
   "outputs": [
    {
     "data": {
      "image/png": "[encoded data removed]",
      "text/plain": [
       "plot without title"
      ]
     },
     "metadata": {
      "image/png": {
       "height": 420,
       "width": 420
      }
     },
     "output_type": "display_data"
    }
   ],
   "source": [
    "ggplot(data, aes(balance)) + \n",
    "    geom_histogram(bins = 30, alpha = 0.5, fill = 'blue', color='black')  + \n",
    "    theme_bw()\n",
    "\n",
    "# looks like balance data has outliers"
   ]
  },
  {
   "cell_type": "markdown",
   "id": "54d3edfe",
   "metadata": {},
   "source": [
    "**Наявність кредиту на житло (housing):**"
   ]
  },
  {
   "cell_type": "code",
   "execution_count": 79,
   "id": "41b5ed53",
   "metadata": {},
   "outputs": [
    {
     "data": {
      "image/png": "[encoded data removed]",
      "text/plain": [
       "plot without title"
      ]
     },
     "metadata": {
      "image/png": {
       "height": 420,
       "width": 420
      }
     },
     "output_type": "display_data"
    }
   ],
   "source": [
    "ggplot(data, aes(housing)) + \n",
    "    geom_bar(aes(fill = housing)) + \n",
    "    theme_bw()"
   ]
  },
  {
   "cell_type": "code",
   "execution_count": 80,
   "id": "7e95edce",
   "metadata": {},
   "outputs": [
    {
     "name": "stdout",
     "output_type": "stream",
     "text": [
      "\n",
      " \n",
      "   Cell Contents\n",
      "|-------------------------|\n",
      "|                       N |\n",
      "| Chi-square contribution |\n",
      "|           N / Row Total |\n",
      "|           N / Col Total |\n",
      "|         N / Table Total |\n",
      "|-------------------------|\n",
      "\n",
      " \n",
      "Total Observations in Table:  11162 \n",
      "\n",
      " \n",
      "             | data$deposit \n",
      "data$housing |        no |       yes | Row Total | \n",
      "-------------|-----------|-----------|-----------|\n",
      "          no |      2527 |      3354 |      5881 | \n",
      "             |   104.023 |   115.509 |           | \n",
      "             |     0.430 |     0.570 |     0.527 | \n",
      "             |     0.430 |     0.634 |           | \n",
      "             |     0.226 |     0.300 |           | \n",
      "-------------|-----------|-----------|-----------|\n",
      "         yes |      3346 |      1935 |      5281 | \n",
      "             |   115.842 |   128.633 |           | \n",
      "             |     0.634 |     0.366 |     0.473 | \n",
      "             |     0.570 |     0.366 |           | \n",
      "             |     0.300 |     0.173 |           | \n",
      "-------------|-----------|-----------|-----------|\n",
      "Column Total |      5873 |      5289 |     11162 | \n",
      "             |     0.526 |     0.474 |           | \n",
      "-------------|-----------|-----------|-----------|\n",
      "\n",
      " \n"
     ]
    }
   ],
   "source": [
    "CrossTable(data$housing, data$deposit)\n",
    "# people without housing load logicaly more often can do deposits"
   ]
  },
  {
   "cell_type": "markdown",
   "id": "c741fc79",
   "metadata": {},
   "source": [
    "**Наявність позики (loan):**"
   ]
  },
  {
   "cell_type": "code",
   "execution_count": 81,
   "id": "59900973",
   "metadata": {},
   "outputs": [
    {
     "data": {
      "image/png": "[encoded data removed]",
      "text/plain": [
       "plot without title"
      ]
     },
     "metadata": {
      "image/png": {
       "height": 420,
       "width": 420
      }
     },
     "output_type": "display_data"
    }
   ],
   "source": [
    "ggplot(data, aes(loan)) + \n",
    "    geom_bar(aes(fill = loan)) + \n",
    "    theme_bw()"
   ]
  },
  {
   "cell_type": "code",
   "execution_count": 82,
   "id": "4e8c493c",
   "metadata": {},
   "outputs": [
    {
     "name": "stdout",
     "output_type": "stream",
     "text": [
      "\n",
      " \n",
      "   Cell Contents\n",
      "|-------------------------|\n",
      "|                       N |\n",
      "| Chi-square contribution |\n",
      "|           N / Row Total |\n",
      "|           N / Col Total |\n",
      "|         N / Table Total |\n",
      "|-------------------------|\n",
      "\n",
      " \n",
      "Total Observations in Table:  11162 \n",
      "\n",
      " \n",
      "             | data$deposit \n",
      "   data$loan |        no |       yes | Row Total | \n",
      "-------------|-----------|-----------|-----------|\n",
      "          no |      4897 |      4805 |      9702 | \n",
      "             |     8.459 |     9.393 |           | \n",
      "             |     0.505 |     0.495 |     0.869 | \n",
      "             |     0.834 |     0.908 |           | \n",
      "             |     0.439 |     0.430 |           | \n",
      "-------------|-----------|-----------|-----------|\n",
      "         yes |       976 |       484 |      1460 | \n",
      "             |    56.214 |    62.421 |           | \n",
      "             |     0.668 |     0.332 |     0.131 | \n",
      "             |     0.166 |     0.092 |           | \n",
      "             |     0.087 |     0.043 |           | \n",
      "-------------|-----------|-----------|-----------|\n",
      "Column Total |      5873 |      5289 |     11162 | \n",
      "             |     0.526 |     0.474 |           | \n",
      "-------------|-----------|-----------|-----------|\n",
      "\n",
      " \n"
     ]
    }
   ],
   "source": [
    "CrossTable(data$loan, data$deposit)"
   ]
  },
  {
   "cell_type": "markdown",
   "id": "13710e1d",
   "metadata": {},
   "source": [
    "**# Тип комунікації (contact):**"
   ]
  },
  {
   "cell_type": "code",
   "execution_count": 83,
   "id": "b767378c",
   "metadata": {},
   "outputs": [
    {
     "data": {
      "image/png": "[encoded data removed]",
      "text/plain": [
       "plot without title"
      ]
     },
     "metadata": {
      "image/png": {
       "height": 420,
       "width": 420
      }
     },
     "output_type": "display_data"
    }
   ],
   "source": [
    "ggplot(data, aes(contact)) + \n",
    "    geom_bar(aes(fill = contact)) + \n",
    "    theme_bw()"
   ]
  },
  {
   "cell_type": "code",
   "execution_count": 84,
   "id": "4fa10beb",
   "metadata": {},
   "outputs": [
    {
     "name": "stdout",
     "output_type": "stream",
     "text": [
      "\n",
      " \n",
      "   Cell Contents\n",
      "|-------------------------|\n",
      "|                       N |\n",
      "| Chi-square contribution |\n",
      "|           N / Row Total |\n",
      "|           N / Col Total |\n",
      "|         N / Table Total |\n",
      "|-------------------------|\n",
      "\n",
      " \n",
      "Total Observations in Table:  11162 \n",
      "\n",
      " \n",
      "             | data$deposit \n",
      "data$contact |        no |       yes | Row Total | \n",
      "-------------|-----------|-----------|-----------|\n",
      "    cellular |      3673 |      4369 |      8042 | \n",
      "             |    73.685 |    81.821 |           | \n",
      "             |     0.457 |     0.543 |     0.720 | \n",
      "             |     0.625 |     0.826 |           | \n",
      "             |     0.329 |     0.391 |           | \n",
      "-------------|-----------|-----------|-----------|\n",
      "   telephone |       384 |       390 |       774 | \n",
      "             |     1.327 |     1.474 |           | \n",
      "             |     0.496 |     0.504 |     0.069 | \n",
      "             |     0.065 |     0.074 |           | \n",
      "             |     0.034 |     0.035 |           | \n",
      "-------------|-----------|-----------|-----------|\n",
      "     unknown |      1816 |       530 |      2346 | \n",
      "             |   274.060 |   304.321 |           | \n",
      "             |     0.774 |     0.226 |     0.210 | \n",
      "             |     0.309 |     0.100 |           | \n",
      "             |     0.163 |     0.047 |           | \n",
      "-------------|-----------|-----------|-----------|\n",
      "Column Total |      5873 |      5289 |     11162 | \n",
      "             |     0.526 |     0.474 |           | \n",
      "-------------|-----------|-----------|-----------|\n",
      "\n",
      " \n"
     ]
    }
   ],
   "source": [
    "CrossTable(data$contact, data$deposit)\n",
    "# cellular communication channel looks like the best way to increase deposits count\n",
    "# people with cellular devices has more money? "
   ]
  },
  {
   "cell_type": "markdown",
   "id": "f4a8e3b6",
   "metadata": {},
   "source": [
    "**День місяця (day):**"
   ]
  },
  {
   "cell_type": "code",
   "execution_count": 85,
   "id": "a3aab697",
   "metadata": {},
   "outputs": [
    {
     "data": {
      "image/png": "[encoded data removed]",
      "text/plain": [
       "plot without title"
      ]
     },
     "metadata": {
      "image/png": {
       "height": 420,
       "width": 420
      }
     },
     "output_type": "display_data"
    }
   ],
   "source": [
    "ggplot(data, aes(day)) + \n",
    "    geom_histogram(bins = 25, alpha = 0.5, fill = 'blue', color='black')  + \n",
    "    theme_bw()"
   ]
  },
  {
   "cell_type": "markdown",
   "id": "a1c7f679",
   "metadata": {},
   "source": [
    "**Місяць (month):**"
   ]
  },
  {
   "cell_type": "code",
   "execution_count": 86,
   "id": "20f52d07",
   "metadata": {},
   "outputs": [
    {
     "data": {
      "image/png": "[encoded data removed]",
      "text/plain": [
       "plot without title"
      ]
     },
     "metadata": {
      "image/png": {
       "height": 420,
       "width": 420
      }
     },
     "output_type": "display_data"
    }
   ],
   "source": [
    "ggplot(data, aes(month)) + \n",
    "    geom_bar(aes(fill = month)) + \n",
    "    theme_bw()"
   ]
  },
  {
   "cell_type": "code",
   "execution_count": 87,
   "id": "3b33e86b",
   "metadata": {},
   "outputs": [],
   "source": [
    "# So, lets replace our month with ordered factor for correct visualization\n",
    "library(dplyr)\n",
    "library(magrittr)\n",
    "data <- data %>%\n",
    "    mutate(month = factor(month,levels=c(\"jan\",\"feb\",\"mar\",\n",
    "               \"apr\",\"may\",\"jun\",\"jul\",\"aug\",\"sep\",\n",
    "              \"oct\",\"nov\",\"dec\"),ordered=TRUE))"
   ]
  },
  {
   "cell_type": "code",
   "execution_count": 25,
   "id": "555c5872",
   "metadata": {},
   "outputs": [
    {
     "data": {
      "image/png": "[encoded data removed]",
      "text/plain": [
       "plot without title"
      ]
     },
     "metadata": {
      "image/png": {
       "height": 420,
       "width": 420
      }
     },
     "output_type": "display_data"
    }
   ],
   "source": [
    "ggplot(data, aes(month)) + \n",
    "    geom_bar(aes(fill = month)) + \n",
    "    theme_bw()"
   ]
  },
  {
   "cell_type": "code",
   "execution_count": 88,
   "id": "18da5504",
   "metadata": {},
   "outputs": [
    {
     "name": "stdout",
     "output_type": "stream",
     "text": [
      "\n",
      " \n",
      "   Cell Contents\n",
      "|-------------------------|\n",
      "|                       N |\n",
      "| Chi-square contribution |\n",
      "|           N / Row Total |\n",
      "|           N / Col Total |\n",
      "|         N / Table Total |\n",
      "|-------------------------|\n",
      "\n",
      " \n",
      "Total Observations in Table:  11162 \n",
      "\n",
      " \n",
      "             | data$deposit \n",
      "  data$month |        no |       yes | Row Total | \n",
      "-------------|-----------|-----------|-----------|\n",
      "         jan |       202 |       142 |       344 | \n",
      "             |     2.437 |     2.706 |           | \n",
      "             |     0.587 |     0.413 |     0.031 | \n",
      "             |     0.034 |     0.027 |           | \n",
      "             |     0.018 |     0.013 |           | \n",
      "-------------|-----------|-----------|-----------|\n",
      "         feb |       335 |       441 |       776 | \n",
      "             |    13.159 |    14.612 |           | \n",
      "             |     0.432 |     0.568 |     0.070 | \n",
      "             |     0.057 |     0.083 |           | \n",
      "             |     0.030 |     0.040 |           | \n",
      "-------------|-----------|-----------|-----------|\n",
      "         mar |        28 |       248 |       276 | \n",
      "             |    94.619 |   105.067 |           | \n",
      "             |     0.101 |     0.899 |     0.025 | \n",
      "             |     0.005 |     0.047 |           | \n",
      "             |     0.003 |     0.022 |           | \n",
      "-------------|-----------|-----------|-----------|\n",
      "         apr |       346 |       577 |       923 | \n",
      "             |    40.155 |    44.588 |           | \n",
      "             |     0.375 |     0.625 |     0.083 | \n",
      "             |     0.059 |     0.109 |           | \n",
      "             |     0.031 |     0.052 |           | \n",
      "-------------|-----------|-----------|-----------|\n",
      "         may |      1899 |       925 |      2824 | \n",
      "             |   114.862 |   127.545 |           | \n",
      "             |     0.672 |     0.328 |     0.253 | \n",
      "             |     0.323 |     0.175 |           | \n",
      "             |     0.170 |     0.083 |           | \n",
      "-------------|-----------|-----------|-----------|\n",
      "         jun |       676 |       546 |      1222 | \n",
      "             |     1.697 |     1.884 |           | \n",
      "             |     0.553 |     0.447 |     0.109 | \n",
      "             |     0.115 |     0.103 |           | \n",
      "             |     0.061 |     0.049 |           | \n",
      "-------------|-----------|-----------|-----------|\n",
      "         jul |       887 |       627 |      1514 | \n",
      "             |    10.257 |    11.390 |           | \n",
      "             |     0.586 |     0.414 |     0.136 | \n",
      "             |     0.151 |     0.119 |           | \n",
      "             |     0.079 |     0.056 |           | \n",
      "-------------|-----------|-----------|-----------|\n",
      "         aug |       831 |       688 |      1519 | \n",
      "             |     1.262 |     1.402 |           | \n",
      "             |     0.547 |     0.453 |     0.136 | \n",
      "             |     0.141 |     0.130 |           | \n",
      "             |     0.074 |     0.062 |           | \n",
      "-------------|-----------|-----------|-----------|\n",
      "         sep |        50 |       269 |       319 | \n",
      "             |    82.740 |    91.876 |           | \n",
      "             |     0.157 |     0.843 |     0.029 | \n",
      "             |     0.009 |     0.051 |           | \n",
      "             |     0.004 |     0.024 |           | \n",
      "-------------|-----------|-----------|-----------|\n",
      "         oct |        69 |       323 |       392 | \n",
      "             |    91.338 |   101.423 |           | \n",
      "             |     0.176 |     0.824 |     0.035 | \n",
      "             |     0.012 |     0.061 |           | \n",
      "             |     0.006 |     0.029 |           | \n",
      "-------------|-----------|-----------|-----------|\n",
      "         nov |       540 |       403 |       943 | \n",
      "             |     3.872 |     4.300 |           | \n",
      "             |     0.573 |     0.427 |     0.084 | \n",
      "             |     0.092 |     0.076 |           | \n",
      "             |     0.048 |     0.036 |           | \n",
      "-------------|-----------|-----------|-----------|\n",
      "         dec |        10 |       100 |       110 | \n",
      "             |    39.605 |    43.979 |           | \n",
      "             |     0.091 |     0.909 |     0.010 | \n",
      "             |     0.002 |     0.019 |           | \n",
      "             |     0.001 |     0.009 |           | \n",
      "-------------|-----------|-----------|-----------|\n",
      "Column Total |      5873 |      5289 |     11162 | \n",
      "             |     0.526 |     0.474 |           | \n",
      "-------------|-----------|-----------|-----------|\n",
      "\n",
      " \n"
     ]
    }
   ],
   "source": [
    "CrossTable(data$month, data$deposit)"
   ]
  },
  {
   "cell_type": "markdown",
   "id": "97149462",
   "metadata": {},
   "source": [
    "**Тривалість останнього контакту (duration):**"
   ]
  },
  {
   "cell_type": "code",
   "execution_count": 89,
   "id": "e218f914",
   "metadata": {},
   "outputs": [
    {
     "data": {
      "image/png": "[encoded data removed]",
      "text/plain": [
       "plot without title"
      ]
     },
     "metadata": {
      "image/png": {
       "height": 420,
       "width": 420
      }
     },
     "output_type": "display_data"
    }
   ],
   "source": [
    "ggplot(data, aes(duration)) + \n",
    "    geom_histogram(bins = 100, alpha = 0.5, fill = 'blue', color='black')  + \n",
    "    theme_bw()"
   ]
  },
  {
   "cell_type": "markdown",
   "id": "9bde6fa0",
   "metadata": {},
   "source": [
    "**Кількість контактів протягом поточної кампанії (campaign):**"
   ]
  },
  {
   "cell_type": "code",
   "execution_count": 90,
   "id": "471ab046",
   "metadata": {},
   "outputs": [
    {
     "data": {
      "image/png": "[encoded data removed]",
      "text/plain": [
       "plot without title"
      ]
     },
     "metadata": {
      "image/png": {
       "height": 420,
       "width": 420
      }
     },
     "output_type": "display_data"
    }
   ],
   "source": [
    "ggplot(data, aes(campaign)) + \n",
    "    geom_histogram(bins = 30, alpha = 0.5, fill = 'blue', color='black')  + \n",
    "    theme_bw()"
   ]
  },
  {
   "cell_type": "markdown",
   "id": "291a76b2",
   "metadata": {},
   "source": [
    "**Кількість днів від попередньої акції (pday):**"
   ]
  },
  {
   "cell_type": "code",
   "execution_count": 29,
   "id": "3145687f",
   "metadata": {},
   "outputs": [
    {
     "data": {
      "image/png": "[encoded data removed]",
      "text/plain": [
       "plot without title"
      ]
     },
     "metadata": {
      "image/png": {
       "height": 420,
       "width": 420
      }
     },
     "output_type": "display_data"
    }
   ],
   "source": [
    "ggplot(data, aes(pdays)) + \n",
    "    geom_histogram(bins = 20, alpha = 0.5, fill = 'blue', color='black')  + \n",
    "    theme_bw()"
   ]
  },
  {
   "cell_type": "markdown",
   "id": "f1f4d698",
   "metadata": {},
   "source": [
    "**Кількість контактів до початку поточної кампанії (previous):**"
   ]
  },
  {
   "cell_type": "code",
   "execution_count": 91,
   "id": "e1b5d0c2",
   "metadata": {},
   "outputs": [
    {
     "data": {
      "image/png": "[encoded data removed]",
      "text/plain": [
       "plot without title"
      ]
     },
     "metadata": {
      "image/png": {
       "height": 420,
       "width": 420
      }
     },
     "output_type": "display_data"
    }
   ],
   "source": [
    "ggplot(data, aes(previous)) + \n",
    "    geom_histogram(bins = 50, alpha = 0.5, fill = 'blue', color='black')  + \n",
    "    theme_bw()"
   ]
  },
  {
   "cell_type": "markdown",
   "id": "6a55b6f7",
   "metadata": {},
   "source": [
    "**Результат попередньої кампанії (poutcome):**"
   ]
  },
  {
   "cell_type": "code",
   "execution_count": 92,
   "id": "c1f70ab6",
   "metadata": {},
   "outputs": [
    {
     "data": {
      "image/png": "[encoded data removed]",
      "text/plain": [
       "plot without title"
      ]
     },
     "metadata": {
      "image/png": {
       "height": 420,
       "width": 420
      }
     },
     "output_type": "display_data"
    }
   ],
   "source": [
    "ggplot(data, aes(poutcome)) + \n",
    "    geom_bar(aes(fill = poutcome)) + \n",
    "    theme_bw()"
   ]
  },
  {
   "cell_type": "code",
   "execution_count": 93,
   "id": "183e1755",
   "metadata": {},
   "outputs": [
    {
     "name": "stdout",
     "output_type": "stream",
     "text": [
      "\n",
      " \n",
      "   Cell Contents\n",
      "|-------------------------|\n",
      "|                       N |\n",
      "| Chi-square contribution |\n",
      "|           N / Row Total |\n",
      "|           N / Col Total |\n",
      "|         N / Table Total |\n",
      "|-------------------------|\n",
      "\n",
      " \n",
      "Total Observations in Table:  11162 \n",
      "\n",
      " \n",
      "              | data$deposit \n",
      "data$poutcome |        no |       yes | Row Total | \n",
      "--------------|-----------|-----------|-----------|\n",
      "      failure |       610 |       618 |      1228 | \n",
      "              |     2.020 |     2.243 |           | \n",
      "              |     0.497 |     0.503 |     0.110 | \n",
      "              |     0.104 |     0.117 |           | \n",
      "              |     0.055 |     0.055 |           | \n",
      "--------------|-----------|-----------|-----------|\n",
      "        other |       230 |       307 |       537 | \n",
      "              |     9.773 |    10.852 |           | \n",
      "              |     0.428 |     0.572 |     0.048 | \n",
      "              |     0.039 |     0.058 |           | \n",
      "              |     0.021 |     0.028 |           | \n",
      "--------------|-----------|-----------|-----------|\n",
      "      success |        93 |       978 |      1071 | \n",
      "              |   392.866 |   436.245 |           | \n",
      "              |     0.087 |     0.913 |     0.096 | \n",
      "              |     0.016 |     0.185 |           | \n",
      "              |     0.008 |     0.088 |           | \n",
      "--------------|-----------|-----------|-----------|\n",
      "      unknown |      4940 |      3386 |      8326 | \n",
      "              |    71.378 |    79.259 |           | \n",
      "              |     0.593 |     0.407 |     0.746 | \n",
      "              |     0.841 |     0.640 |           | \n",
      "              |     0.443 |     0.303 |           | \n",
      "--------------|-----------|-----------|-----------|\n",
      " Column Total |      5873 |      5289 |     11162 | \n",
      "              |     0.526 |     0.474 |           | \n",
      "--------------|-----------|-----------|-----------|\n",
      "\n",
      " \n"
     ]
    }
   ],
   "source": [
    "CrossTable(data$poutcome, data$deposit)\n",
    "# people with previous success status also loyal for new propositions"
   ]
  },
  {
   "cell_type": "markdown",
   "id": "3e918531",
   "metadata": {},
   "source": [
    "**Результат укладання або відсутність укладання договору (deposit):**"
   ]
  },
  {
   "cell_type": "code",
   "execution_count": 94,
   "id": "67497d45",
   "metadata": {},
   "outputs": [
    {
     "data": {
      "image/png": "[encoded data removed]",
      "text/plain": [
       "plot without title"
      ]
     },
     "metadata": {
      "image/png": {
       "height": 420,
       "width": 420
      }
     },
     "output_type": "display_data"
    }
   ],
   "source": [
    "ggplot(data, aes(deposit)) + \n",
    "    geom_bar(aes(fill = deposit)) + \n",
    "    theme_bw()"
   ]
  },
  {
   "cell_type": "code",
   "execution_count": 95,
   "id": "29feeb12",
   "metadata": {},
   "outputs": [
    {
     "name": "stdout",
     "output_type": "stream",
     "text": [
      "\n",
      " \n",
      "   Cell Contents\n",
      "|-------------------------|\n",
      "|                       N |\n",
      "|         N / Table Total |\n",
      "|-------------------------|\n",
      "\n",
      " \n",
      "Total Observations in Table:  11162 \n",
      "\n",
      " \n",
      "          |        no |       yes | \n",
      "          |-----------|-----------|\n",
      "          |      5873 |      5289 | \n",
      "          |     0.526 |     0.474 | \n",
      "          |-----------|-----------|\n",
      "\n",
      "\n",
      "\n",
      " \n"
     ]
    }
   ],
   "source": [
    "CrossTable(data$deposit)"
   ]
  },
  {
   "cell_type": "markdown",
   "id": "7c534e3b",
   "metadata": {},
   "source": [
    "# 4. Data preprocessing"
   ]
  },
  {
   "cell_type": "markdown",
   "id": "f785dba2",
   "metadata": {},
   "source": [
    "Перетворимо значення `deposit` до `0` і `1`:"
   ]
  },
  {
   "cell_type": "code",
   "execution_count": 96,
   "id": "334095b9",
   "metadata": {},
   "outputs": [],
   "source": [
    "data$deposit <- ifelse(data$deposit == \"yes\", 1, 0)"
   ]
  },
  {
   "cell_type": "markdown",
   "id": "860dfe5b",
   "metadata": {},
   "source": [
    "Видалимо `duration`, адже цей параметр чітко вказує на факт укладання угоди, такі дані називаються leak:"
   ]
  },
  {
   "cell_type": "code",
   "execution_count": 97,
   "id": "33192634",
   "metadata": {},
   "outputs": [],
   "source": [
    "data$duration <- NULL"
   ]
  },
  {
   "cell_type": "markdown",
   "id": "29da71e4",
   "metadata": {},
   "source": [
    "Створимо новий параметр `pdays_flag`, який вказує чи був контакт з клієнтом раніше:"
   ]
  },
  {
   "cell_type": "code",
   "execution_count": 98,
   "id": "83a55bdf",
   "metadata": {},
   "outputs": [],
   "source": [
    "data$pdays_flag <- ifelse(data$pdays > 0, 1, 0)"
   ]
  },
  {
   "cell_type": "code",
   "execution_count": 99,
   "id": "f8d7b0ad",
   "metadata": {},
   "outputs": [
    {
     "data": {
      "text/html": [
       "<table class=\"dataframe\">\n",
       "<caption>A data.frame: 6 × 17</caption>\n",
       "<thead>\n",
       "\t<tr><th></th><th scope=col>age</th><th scope=col>job</th><th scope=col>marital</th><th scope=col>education</th><th scope=col>default</th><th scope=col>balance</th><th scope=col>housing</th><th scope=col>loan</th><th scope=col>contact</th><th scope=col>day</th><th scope=col>month</th><th scope=col>campaign</th><th scope=col>pdays</th><th scope=col>previous</th><th scope=col>poutcome</th><th scope=col>deposit</th><th scope=col>pdays_flag</th></tr>\n",
       "\t<tr><th></th><th scope=col>&lt;int&gt;</th><th scope=col>&lt;fct&gt;</th><th scope=col>&lt;fct&gt;</th><th scope=col>&lt;fct&gt;</th><th scope=col>&lt;fct&gt;</th><th scope=col>&lt;int&gt;</th><th scope=col>&lt;fct&gt;</th><th scope=col>&lt;fct&gt;</th><th scope=col>&lt;fct&gt;</th><th scope=col>&lt;int&gt;</th><th scope=col>&lt;ord&gt;</th><th scope=col>&lt;int&gt;</th><th scope=col>&lt;int&gt;</th><th scope=col>&lt;int&gt;</th><th scope=col>&lt;fct&gt;</th><th scope=col>&lt;dbl&gt;</th><th scope=col>&lt;dbl&gt;</th></tr>\n",
       "</thead>\n",
       "<tbody>\n",
       "\t<tr><th scope=row>1</th><td>59</td><td>admin.    </td><td>married</td><td>secondary</td><td>no</td><td>2343</td><td>yes</td><td>no </td><td>unknown</td><td>5</td><td>may</td><td>1</td><td>-1</td><td>0</td><td>unknown</td><td>1</td><td>0</td></tr>\n",
       "\t<tr><th scope=row>2</th><td>56</td><td>admin.    </td><td>married</td><td>secondary</td><td>no</td><td>  45</td><td>no </td><td>no </td><td>unknown</td><td>5</td><td>may</td><td>1</td><td>-1</td><td>0</td><td>unknown</td><td>1</td><td>0</td></tr>\n",
       "\t<tr><th scope=row>3</th><td>41</td><td>technician</td><td>married</td><td>secondary</td><td>no</td><td>1270</td><td>yes</td><td>no </td><td>unknown</td><td>5</td><td>may</td><td>1</td><td>-1</td><td>0</td><td>unknown</td><td>1</td><td>0</td></tr>\n",
       "\t<tr><th scope=row>4</th><td>55</td><td>services  </td><td>married</td><td>secondary</td><td>no</td><td>2476</td><td>yes</td><td>no </td><td>unknown</td><td>5</td><td>may</td><td>1</td><td>-1</td><td>0</td><td>unknown</td><td>1</td><td>0</td></tr>\n",
       "\t<tr><th scope=row>5</th><td>54</td><td>admin.    </td><td>married</td><td>tertiary </td><td>no</td><td> 184</td><td>no </td><td>no </td><td>unknown</td><td>5</td><td>may</td><td>2</td><td>-1</td><td>0</td><td>unknown</td><td>1</td><td>0</td></tr>\n",
       "\t<tr><th scope=row>6</th><td>42</td><td>management</td><td>single </td><td>tertiary </td><td>no</td><td>   0</td><td>yes</td><td>yes</td><td>unknown</td><td>5</td><td>may</td><td>2</td><td>-1</td><td>0</td><td>unknown</td><td>1</td><td>0</td></tr>\n",
       "</tbody>\n",
       "</table>\n"
      ],
      "text/latex": [
       "A data.frame: 6 × 17\n",
       "\\begin{tabular}{r|lllllllllllllllll}\n",
       "  & age & job & marital & education & default & balance & housing & loan & contact & day & month & campaign & pdays & previous & poutcome & deposit & pdays\\_flag\\\\\n",
       "  & <int> & <fct> & <fct> & <fct> & <fct> & <int> & <fct> & <fct> & <fct> & <int> & <ord> & <int> & <int> & <int> & <fct> & <dbl> & <dbl>\\\\\n",
       "\\hline\n",
       "\t1 & 59 & admin.     & married & secondary & no & 2343 & yes & no  & unknown & 5 & may & 1 & -1 & 0 & unknown & 1 & 0\\\\\n",
       "\t2 & 56 & admin.     & married & secondary & no &   45 & no  & no  & unknown & 5 & may & 1 & -1 & 0 & unknown & 1 & 0\\\\\n",
       "\t3 & 41 & technician & married & secondary & no & 1270 & yes & no  & unknown & 5 & may & 1 & -1 & 0 & unknown & 1 & 0\\\\\n",
       "\t4 & 55 & services   & married & secondary & no & 2476 & yes & no  & unknown & 5 & may & 1 & -1 & 0 & unknown & 1 & 0\\\\\n",
       "\t5 & 54 & admin.     & married & tertiary  & no &  184 & no  & no  & unknown & 5 & may & 2 & -1 & 0 & unknown & 1 & 0\\\\\n",
       "\t6 & 42 & management & single  & tertiary  & no &    0 & yes & yes & unknown & 5 & may & 2 & -1 & 0 & unknown & 1 & 0\\\\\n",
       "\\end{tabular}\n"
      ],
      "text/markdown": [
       "\n",
       "A data.frame: 6 × 17\n",
       "\n",
       "| <!--/--> | age &lt;int&gt; | job &lt;fct&gt; | marital &lt;fct&gt; | education &lt;fct&gt; | default &lt;fct&gt; | balance &lt;int&gt; | housing &lt;fct&gt; | loan &lt;fct&gt; | contact &lt;fct&gt; | day &lt;int&gt; | month &lt;ord&gt; | campaign &lt;int&gt; | pdays &lt;int&gt; | previous &lt;int&gt; | poutcome &lt;fct&gt; | deposit &lt;dbl&gt; | pdays_flag &lt;dbl&gt; |\n",
       "|---|---|---|---|---|---|---|---|---|---|---|---|---|---|---|---|---|---|\n",
       "| 1 | 59 | admin.     | married | secondary | no | 2343 | yes | no  | unknown | 5 | may | 1 | -1 | 0 | unknown | 1 | 0 |\n",
       "| 2 | 56 | admin.     | married | secondary | no |   45 | no  | no  | unknown | 5 | may | 1 | -1 | 0 | unknown | 1 | 0 |\n",
       "| 3 | 41 | technician | married | secondary | no | 1270 | yes | no  | unknown | 5 | may | 1 | -1 | 0 | unknown | 1 | 0 |\n",
       "| 4 | 55 | services   | married | secondary | no | 2476 | yes | no  | unknown | 5 | may | 1 | -1 | 0 | unknown | 1 | 0 |\n",
       "| 5 | 54 | admin.     | married | tertiary  | no |  184 | no  | no  | unknown | 5 | may | 2 | -1 | 0 | unknown | 1 | 0 |\n",
       "| 6 | 42 | management | single  | tertiary  | no |    0 | yes | yes | unknown | 5 | may | 2 | -1 | 0 | unknown | 1 | 0 |\n",
       "\n"
      ],
      "text/plain": [
       "  age job        marital education default balance housing loan contact day\n",
       "1 59  admin.     married secondary no      2343    yes     no   unknown 5  \n",
       "2 56  admin.     married secondary no        45    no      no   unknown 5  \n",
       "3 41  technician married secondary no      1270    yes     no   unknown 5  \n",
       "4 55  services   married secondary no      2476    yes     no   unknown 5  \n",
       "5 54  admin.     married tertiary  no       184    no      no   unknown 5  \n",
       "6 42  management single  tertiary  no         0    yes     yes  unknown 5  \n",
       "  month campaign pdays previous poutcome deposit pdays_flag\n",
       "1 may   1        -1    0        unknown  1       0         \n",
       "2 may   1        -1    0        unknown  1       0         \n",
       "3 may   1        -1    0        unknown  1       0         \n",
       "4 may   1        -1    0        unknown  1       0         \n",
       "5 may   2        -1    0        unknown  1       0         \n",
       "6 may   2        -1    0        unknown  1       0         "
      ]
     },
     "metadata": {},
     "output_type": "display_data"
    }
   ],
   "source": [
    "head(data)"
   ]
  },
  {
   "cell_type": "markdown",
   "id": "4310a064",
   "metadata": {},
   "source": [
    "Створимо новий параметр `poutcoume_success`, який вказує чи була попередня кампанія з цим клієнтом “успішною для банку”:"
   ]
  },
  {
   "cell_type": "code",
   "execution_count": 100,
   "id": "f3c9fe5c",
   "metadata": {},
   "outputs": [],
   "source": [
    "data$poutcoume_success <- ifelse(data$poutcome == \"success\", 1, 0)"
   ]
  },
  {
   "cell_type": "markdown",
   "id": "b7cc2088",
   "metadata": {},
   "source": [
    "---"
   ]
  },
  {
   "cell_type": "markdown",
   "id": "bdd7170c",
   "metadata": {},
   "source": [
    "# 5. Train/test split"
   ]
  },
  {
   "cell_type": "markdown",
   "id": "8b3c9aec-e874-42cf-9748-29700a03fb12",
   "metadata": {},
   "source": [
    "Задаємо seed для генератора випадкових чисел"
   ]
  },
  {
   "cell_type": "code",
   "execution_count": 101,
   "id": "8e703396",
   "metadata": {},
   "outputs": [],
   "source": [
    "set.seed(11062021)\n",
    "library(caret)"
   ]
  },
  {
   "cell_type": "markdown",
   "id": "c9ed400d",
   "metadata": {},
   "source": [
    "Train  65%, test 35%"
   ]
  },
  {
   "cell_type": "code",
   "execution_count": 102,
   "id": "c383ec7d",
   "metadata": {},
   "outputs": [],
   "source": [
    "index = createDataPartition(data$deposit, p = 0.65, list = FALSE)\n",
    "train_data = data[index, ]\n",
    "test_data = data[-index, ]"
   ]
  },
  {
   "cell_type": "code",
   "execution_count": 103,
   "id": "9610d52b-7056-4c76-a3f6-3d12564ba819",
   "metadata": {},
   "outputs": [
    {
     "name": "stdout",
     "output_type": "stream",
     "text": [
      "\n",
      " \n",
      "   Cell Contents\n",
      "|-------------------------|\n",
      "|                       N |\n",
      "|         N / Table Total |\n",
      "|-------------------------|\n",
      "\n",
      " \n",
      "Total Observations in Table:  7256 \n",
      "\n",
      " \n",
      "          |         0 |         1 | \n",
      "          |-----------|-----------|\n",
      "          |      3835 |      3421 | \n",
      "          |     0.529 |     0.471 | \n",
      "          |-----------|-----------|\n",
      "\n",
      "\n",
      "\n",
      " \n",
      "\n",
      " \n",
      "   Cell Contents\n",
      "|-------------------------|\n",
      "|                       N |\n",
      "|         N / Table Total |\n",
      "|-------------------------|\n",
      "\n",
      " \n",
      "Total Observations in Table:  3906 \n",
      "\n",
      " \n",
      "          |         0 |         1 | \n",
      "          |-----------|-----------|\n",
      "          |      2038 |      1868 | \n",
      "          |     0.522 |     0.478 | \n",
      "          |-----------|-----------|\n",
      "\n",
      "\n",
      "\n",
      " \n"
     ]
    }
   ],
   "source": [
    "CrossTable(train_data$deposit)\n",
    "CrossTable(test_data$deposit)"
   ]
  },
  {
   "cell_type": "markdown",
   "id": "aa130cd7-b6e6-4f3b-ba28-42b2099ef223",
   "metadata": {},
   "source": [
    "---"
   ]
  },
  {
   "cell_type": "markdown",
   "id": "b7b1cb9d-3847-4e4d-be9a-281629eb7fa0",
   "metadata": {},
   "source": [
    "# 6. Decision trees with `rpart()`"
   ]
  },
  {
   "cell_type": "markdown",
   "id": "818dff52-546f-49a2-a552-4d53ec38d1e6",
   "metadata": {},
   "source": [
    "Для побудови дерев рішень у `R` є ряд пакетів та алгоритмів. Розглянемо пакет `rpart`."
   ]
  },
  {
   "cell_type": "code",
   "execution_count": 104,
   "id": "f2b9b38a-7528-4c5b-a8ff-99d7f9c82bff",
   "metadata": {},
   "outputs": [],
   "source": [
    "#install.packages(\"rpart\")\n",
    "library(rpart)\n",
    "rpart_model <- rpart(deposit ~ ., train_data)"
   ]
  },
  {
   "cell_type": "markdown",
   "id": "70aa67c0-6e2f-4a0c-ba95-1e8512e19a4a",
   "metadata": {},
   "source": [
    "Виведемо опис моделі:"
   ]
  },
  {
   "cell_type": "code",
   "execution_count": 105,
   "id": "e8f8ecc5-3ea9-4688-ab1f-6f3a7aa13792",
   "metadata": {},
   "outputs": [
    {
     "data": {
      "text/plain": [
       "n= 7256 \n",
       "\n",
       "node), split, n, deviance, yval\n",
       "      * denotes terminal node\n",
       "\n",
       " 1) root 7256 1808.0950 0.4714719  \n",
       "   2) poutcoume_success< 0.5 6541 1596.0290 0.4225654  \n",
       "     4) contact=unknown 1526  267.5491 0.2267366 *\n",
       "     5) contact=cellular,telephone 5015 1252.1530 0.4821535  \n",
       "      10) housing=yes 2115  505.5527 0.3952719 *\n",
       "      11) housing=no 2900  718.9917 0.5455172  \n",
       "        22) balance< 229.5 898  217.3731 0.4109131 *\n",
       "        23) balance>=229.5 2002  478.0504 0.6058941 *\n",
       "   3) poutcoume_success>=0.5 715   53.2951 0.9188811 *"
      ]
     },
     "metadata": {},
     "output_type": "display_data"
    }
   ],
   "source": [
    "rpart_model"
   ]
  },
  {
   "cell_type": "markdown",
   "id": "256c27b1-abbd-42de-96da-902002a20956",
   "metadata": {},
   "source": [
    "Дуже детальний опис:"
   ]
  },
  {
   "cell_type": "code",
   "execution_count": 106,
   "id": "e4c7a480-fa10-4696-9b07-21b851faf0c2",
   "metadata": {},
   "outputs": [
    {
     "name": "stdout",
     "output_type": "stream",
     "text": [
      "Call:\n",
      "rpart(formula = deposit ~ ., data = train_data)\n",
      "  n= 7256 \n",
      "\n",
      "          CP nsplit rel error    xerror        xstd\n",
      "1 0.08781079      0 1.0000000 1.0003198 0.001345665\n",
      "2 0.04221431      1 0.9121892 0.9126511 0.005374521\n",
      "3 0.01526928      2 0.8699749 0.8705891 0.006588857\n",
      "4 0.01303484      3 0.8547056 0.8584383 0.007160325\n",
      "5 0.01000000      4 0.8416708 0.8455652 0.007592851\n",
      "\n",
      "Variable importance\n",
      "poutcoume_success           contact           housing           balance \n",
      "               53                25                 9                 8 \n",
      "              job             pdays             month          poutcome \n",
      "                1                 1                 1                 1 \n",
      "\n",
      "Node number 1: 7256 observations,    complexity param=0.08781079\n",
      "  mean=0.4714719, MSE=0.2491861 \n",
      "  left son=2 (6541 obs) right son=3 (715 obs)\n",
      "  Primary splits:\n",
      "      poutcoume_success < 0.5   to the left,  improve=0.08781079, (0 missing)\n",
      "      poutcome          splits as  LLRL,      improve=0.08781079, (0 missing)\n",
      "      contact           splits as  RRL,       improve=0.06372074, (0 missing)\n",
      "      pdays             < 29.5  to the left,  improve=0.05805858, (0 missing)\n",
      "      previous          < 0.5   to the left,  improve=0.05673121, (0 missing)\n",
      "\n",
      "Node number 2: 6541 observations,    complexity param=0.04221431\n",
      "  mean=0.4225654, MSE=0.2440039 \n",
      "  left son=4 (1526 obs) right son=5 (5015 obs)\n",
      "  Primary splits:\n",
      "      contact splits as  RRL,          improve=0.04782335, (0 missing)\n",
      "      housing splits as  RL,           improve=0.02925584, (0 missing)\n",
      "      age     < 60.5  to the left,     improve=0.02089310, (0 missing)\n",
      "      balance < 304.5 to the left,     improve=0.01781527, (0 missing)\n",
      "      month   splits as  RRRRLLLLLLLL, improve=0.01618379, (0 missing)\n",
      "  Surrogate splits:\n",
      "      balance  < -1616 to the left,  agree=0.767, adj=0.001, (0 split)\n",
      "      campaign < 31.5  to the right, agree=0.767, adj=0.001, (0 split)\n",
      "\n",
      "Node number 3: 715 observations\n",
      "  mean=0.9188811, MSE=0.07453861 \n",
      "\n",
      "Node number 4: 1526 observations\n",
      "  mean=0.2267366, MSE=0.1753271 \n",
      "\n",
      "Node number 5: 5015 observations,    complexity param=0.01526928\n",
      "  mean=0.4821535, MSE=0.2496815 \n",
      "  left son=10 (2115 obs) right son=11 (2900 obs)\n",
      "  Primary splits:\n",
      "      housing splits as  RL,           improve=0.02204867, (0 missing)\n",
      "      age     < 59.5  to the left,     improve=0.01953868, (0 missing)\n",
      "      balance < 933.5 to the left,     improve=0.01840973, (0 missing)\n",
      "      job     splits as  LLLLLRLLRLLL, improve=0.01662879, (0 missing)\n",
      "      loan    splits as  RL,           improve=0.01537700, (0 missing)\n",
      "  Surrogate splits:\n",
      "      job      splits as  LLLRRRRLRRRR, agree=0.634, adj=0.132, (0 split)\n",
      "      pdays    < 216.5 to the right,    agree=0.625, adj=0.111, (0 split)\n",
      "      month    splits as  LLLLLRRRRRRR, agree=0.623, adj=0.106, (0 split)\n",
      "      poutcome splits as  LR-R,         agree=0.606, adj=0.066, (0 split)\n",
      "      balance  < -40   to the left,     agree=0.599, adj=0.050, (0 split)\n",
      "\n",
      "Node number 10: 2115 observations\n",
      "  mean=0.3952719, MSE=0.239032 \n",
      "\n",
      "Node number 11: 2900 observations,    complexity param=0.01303484\n",
      "  mean=0.5455172, MSE=0.2479282 \n",
      "  left son=22 (898 obs) right son=23 (2002 obs)\n",
      "  Primary splits:\n",
      "      balance  < 229.5 to the left,     improve=0.03277955, (0 missing)\n",
      "      month    splits as  RRRRRRLLLLLL, improve=0.02706952, (0 missing)\n",
      "      loan     splits as  RL,           improve=0.02313400, (0 missing)\n",
      "      campaign < 3.5   to the right,    improve=0.02204698, (0 missing)\n",
      "      age      < 60.5  to the left,     improve=0.01907479, (0 missing)\n",
      "  Surrogate splits:\n",
      "      default  splits as  RL,        agree=0.701, adj=0.036, (0 split)\n",
      "      age      < 19.5  to the left,  agree=0.691, adj=0.001, (0 split)\n",
      "      campaign < 14.5  to the right, agree=0.691, adj=0.001, (0 split)\n",
      "\n",
      "Node number 22: 898 observations\n",
      "  mean=0.4109131, MSE=0.2420635 \n",
      "\n",
      "Node number 23: 2002 observations\n",
      "  mean=0.6058941, MSE=0.2387864 \n",
      "\n"
     ]
    }
   ],
   "source": [
    "summary(rpart_model)"
   ]
  },
  {
   "cell_type": "markdown",
   "id": "a3496a38-a5a1-4eb7-ae11-1cd8c905a41d",
   "metadata": {},
   "source": [
    "Візуалізуємо дерево рішень:"
   ]
  },
  {
   "cell_type": "code",
   "execution_count": 107,
   "id": "fd94ed7c-7182-47f0-a252-290f3dc6563f",
   "metadata": {},
   "outputs": [
    {
     "data": {
      "image/png": "[encoded data removed]",
      "text/plain": [
       "Plot with title \"\""
      ]
     },
     "metadata": {
      "image/png": {
       "height": 420,
       "width": 420
      }
     },
     "output_type": "display_data"
    }
   ],
   "source": [
    "#install.packages(c(\"rattle\", \"RColorBrewer\"))\n",
    "library(rattle)\n",
    "library(RColorBrewer)\n",
    "fancyRpartPlot(rpart_model)\n",
    "\n",
    "# now you can see how model model works"
   ]
  },
  {
   "cell_type": "markdown",
   "id": "e737e3a3-0ed0-4c01-9f42-451e4a76494b",
   "metadata": {},
   "source": [
    "Створимо два дата-фрейми для для запису результатів моделювання на тестовій та тренувальній вибірці. Одразу додамо у набори даних реальні значення результатів маркетингової акції deposit та модельовані значення"
   ]
  },
  {
   "cell_type": "code",
   "execution_count": 108,
   "id": "266cf6d9-0224-4ca8-85d0-5d34ee460e2d",
   "metadata": {},
   "outputs": [
    {
     "data": {
      "text/html": [
       "<table class=\"dataframe\">\n",
       "<caption>A data.frame: 6 × 3</caption>\n",
       "<thead>\n",
       "\t<tr><th></th><th scope=col>No</th><th scope=col>deposit</th><th scope=col>RPartPredicted</th></tr>\n",
       "\t<tr><th></th><th scope=col>&lt;int&gt;</th><th scope=col>&lt;dbl&gt;</th><th scope=col>&lt;dbl&gt;</th></tr>\n",
       "</thead>\n",
       "<tbody>\n",
       "\t<tr><th scope=row>3</th><td>1</td><td>1</td><td>0.2267366</td></tr>\n",
       "\t<tr><th scope=row>5</th><td>2</td><td>1</td><td>0.2267366</td></tr>\n",
       "\t<tr><th scope=row>7</th><td>3</td><td>1</td><td>0.2267366</td></tr>\n",
       "\t<tr><th scope=row>11</th><td>4</td><td>1</td><td>0.2267366</td></tr>\n",
       "\t<tr><th scope=row>13</th><td>5</td><td>1</td><td>0.2267366</td></tr>\n",
       "\t<tr><th scope=row>14</th><td>6</td><td>1</td><td>0.2267366</td></tr>\n",
       "</tbody>\n",
       "</table>\n"
      ],
      "text/latex": [
       "A data.frame: 6 × 3\n",
       "\\begin{tabular}{r|lll}\n",
       "  & No & deposit & RPartPredicted\\\\\n",
       "  & <int> & <dbl> & <dbl>\\\\\n",
       "\\hline\n",
       "\t3 & 1 & 1 & 0.2267366\\\\\n",
       "\t5 & 2 & 1 & 0.2267366\\\\\n",
       "\t7 & 3 & 1 & 0.2267366\\\\\n",
       "\t11 & 4 & 1 & 0.2267366\\\\\n",
       "\t13 & 5 & 1 & 0.2267366\\\\\n",
       "\t14 & 6 & 1 & 0.2267366\\\\\n",
       "\\end{tabular}\n"
      ],
      "text/markdown": [
       "\n",
       "A data.frame: 6 × 3\n",
       "\n",
       "| <!--/--> | No &lt;int&gt; | deposit &lt;dbl&gt; | RPartPredicted &lt;dbl&gt; |\n",
       "|---|---|---|---|\n",
       "| 3 | 1 | 1 | 0.2267366 |\n",
       "| 5 | 2 | 1 | 0.2267366 |\n",
       "| 7 | 3 | 1 | 0.2267366 |\n",
       "| 11 | 4 | 1 | 0.2267366 |\n",
       "| 13 | 5 | 1 | 0.2267366 |\n",
       "| 14 | 6 | 1 | 0.2267366 |\n",
       "\n"
      ],
      "text/plain": [
       "   No deposit RPartPredicted\n",
       "3  1  1       0.2267366     \n",
       "5  2  1       0.2267366     \n",
       "7  3  1       0.2267366     \n",
       "11 4  1       0.2267366     \n",
       "13 5  1       0.2267366     \n",
       "14 6  1       0.2267366     "
      ]
     },
     "metadata": {},
     "output_type": "display_data"
    }
   ],
   "source": [
    "train_results <- data.frame(No = c(1:nrow(train_data)), \n",
    "                            deposit = train_data$deposit, \n",
    "                            RPartPredicted = predict(rpart_model, train_data))\n",
    "\n",
    "test_results <- data.frame(No = c(1:nrow(test_data)),\n",
    "                           deposit = test_data$deposit, \n",
    "                           RPartPredicted = predict(rpart_model, test_data))\n",
    "\n",
    "head(test_results)"
   ]
  },
  {
   "cell_type": "markdown",
   "id": "ee4c381a-8ce9-47c9-ba4f-5cb1e28c7807",
   "metadata": {},
   "source": [
    "Визначимо оптимальну лінію розподілу на 0 і 1 для тренувальної вибірки за допомогою пакету `InformationValue`:"
   ]
  },
  {
   "cell_type": "code",
   "execution_count": 109,
   "id": "3dc29da7-5f1f-4097-9ade-4b37b0792f66",
   "metadata": {},
   "outputs": [
    {
     "data": {
      "text/html": [
       "0.418881118881119"
      ],
      "text/latex": [
       "0.418881118881119"
      ],
      "text/markdown": [
       "0.418881118881119"
      ],
      "text/plain": [
       "[1] 0.4188811"
      ]
     },
     "metadata": {},
     "output_type": "display_data"
    }
   ],
   "source": [
    "library(InformationValue)\n",
    "optCutOff <- optimalCutoff(train_results$deposit, train_results$RPartPredicted)\n",
    "optCutOff"
   ]
  },
  {
   "cell_type": "markdown",
   "id": "1f6d8a26-f573-4686-bc8e-80a175d3219e",
   "metadata": {},
   "source": [
    "Побудуємо `ROC`-криву для тестової вибірки:"
   ]
  },
  {
   "cell_type": "code",
   "execution_count": 110,
   "id": "134d02b7-70d0-4f3b-975c-23f15ac1c249",
   "metadata": {},
   "outputs": [
    {
     "data": {
      "image/png": "[encoded data removed]",
      "text/plain": [
       "plot without title"
      ]
     },
     "metadata": {
      "image/png": {
       "height": 420,
       "width": 420
      }
     },
     "output_type": "display_data"
    }
   ],
   "source": [
    "plotROC(test_results$deposit, test_results$RPartPredicted)"
   ]
  },
  {
   "cell_type": "markdown",
   "id": "0e4d9555-70e1-4649-a129-72e757d48a68",
   "metadata": {},
   "source": [
    "Сформуємо набір класів `0` і `1` для тестового набору даних:"
   ]
  },
  {
   "cell_type": "code",
   "execution_count": 111,
   "id": "4e9b3529-813d-4b0f-93d3-6082302a948f",
   "metadata": {},
   "outputs": [],
   "source": [
    "test_results$RPartPredicted_Class <- ifelse(test_results$RPartPredicted > optCutOff, 1, 0)"
   ]
  },
  {
   "cell_type": "markdown",
   "id": "b4c72854-5ee6-4a79-8409-8c35938f9a48",
   "metadata": {},
   "source": [
    "Confusion matrix:"
   ]
  },
  {
   "cell_type": "code",
   "execution_count": 112,
   "id": "6c67ca68-8309-4b6b-a2a9-60bc08d8b4c2",
   "metadata": {},
   "outputs": [
    {
     "data": {
      "text/plain": [
       "Confusion Matrix and Statistics\n",
       "\n",
       "          Reference\n",
       "Prediction    0    1\n",
       "         0 1611  427\n",
       "         1  867 1001\n",
       "                                          \n",
       "               Accuracy : 0.6687          \n",
       "                 95% CI : (0.6537, 0.6835)\n",
       "    No Information Rate : 0.6344          \n",
       "    P-Value [Acc > NIR] : 3.994e-06       \n",
       "                                          \n",
       "                  Kappa : 0.3296          \n",
       "                                          \n",
       " Mcnemar's Test P-Value : < 2.2e-16       \n",
       "                                          \n",
       "            Sensitivity : 0.7010          \n",
       "            Specificity : 0.6501          \n",
       "         Pos Pred Value : 0.5359          \n",
       "         Neg Pred Value : 0.7905          \n",
       "             Prevalence : 0.3656          \n",
       "         Detection Rate : 0.2563          \n",
       "   Detection Prevalence : 0.4782          \n",
       "      Balanced Accuracy : 0.6756          \n",
       "                                          \n",
       "       'Positive' Class : 1               \n",
       "                                          "
      ]
     },
     "metadata": {},
     "output_type": "display_data"
    }
   ],
   "source": [
    "cm <- caret::confusionMatrix(factor(test_results$deposit), \n",
    "                      factor(test_results$RPartPredicted_Class), \n",
    "                      positive = \"1\")\n",
    "cm"
   ]
  },
  {
   "cell_type": "markdown",
   "id": "08e19c49-1c7d-4812-8204-2af049ece2d9",
   "metadata": {},
   "source": [
    "Переглянемо збалансовану точність класифіції:"
   ]
  },
  {
   "cell_type": "code",
   "execution_count": 113,
   "id": "719f1ee4-a14f-44a4-9b08-7020933d6265",
   "metadata": {},
   "outputs": [
    {
     "data": {
      "text/html": [
       "0.675550728766083"
      ],
      "text/latex": [
       "0.675550728766083"
      ],
      "text/markdown": [
       "0.675550728766083"
      ],
      "text/plain": [
       "[1] 0.6755507"
      ]
     },
     "metadata": {},
     "output_type": "display_data"
    }
   ],
   "source": [
    "BAcc <- cm$byClass[[\"Balanced Accuracy\"]]\n",
    "BAcc "
   ]
  },
  {
   "cell_type": "markdown",
   "id": "097e2185-907a-446d-a5af-2299cc48552b",
   "metadata": {},
   "source": [
    "---"
   ]
  },
  {
   "cell_type": "markdown",
   "id": "a4e5fd6b-fe59-44a8-aadf-8da656c869aa",
   "metadata": {},
   "source": [
    "# 7. Desicion trees with  PartyKit"
   ]
  },
  {
   "cell_type": "markdown",
   "id": "31a1dd47-a189-47ec-a202-d3cbc643a082",
   "metadata": {},
   "source": [
    "Побудуємо дерево рішень за допоомгою пакету `partykit`:"
   ]
  },
  {
   "cell_type": "code",
   "execution_count": 115,
   "id": "01386215-2697-43ef-a40b-20d5a71df3fd",
   "metadata": {},
   "outputs": [
    {
     "data": {
      "text/html": [
       "<table class=\"dataframe\">\n",
       "<caption>A data.frame: 6 × 18</caption>\n",
       "<thead>\n",
       "\t<tr><th></th><th scope=col>age</th><th scope=col>job</th><th scope=col>marital</th><th scope=col>education</th><th scope=col>default</th><th scope=col>balance</th><th scope=col>housing</th><th scope=col>loan</th><th scope=col>contact</th><th scope=col>day</th><th scope=col>month</th><th scope=col>campaign</th><th scope=col>pdays</th><th scope=col>previous</th><th scope=col>poutcome</th><th scope=col>deposit</th><th scope=col>pdays_flag</th><th scope=col>poutcoume_success</th></tr>\n",
       "\t<tr><th></th><th scope=col>&lt;int&gt;</th><th scope=col>&lt;fct&gt;</th><th scope=col>&lt;fct&gt;</th><th scope=col>&lt;fct&gt;</th><th scope=col>&lt;fct&gt;</th><th scope=col>&lt;int&gt;</th><th scope=col>&lt;fct&gt;</th><th scope=col>&lt;fct&gt;</th><th scope=col>&lt;fct&gt;</th><th scope=col>&lt;int&gt;</th><th scope=col>&lt;ord&gt;</th><th scope=col>&lt;int&gt;</th><th scope=col>&lt;int&gt;</th><th scope=col>&lt;int&gt;</th><th scope=col>&lt;fct&gt;</th><th scope=col>&lt;dbl&gt;</th><th scope=col>&lt;dbl&gt;</th><th scope=col>&lt;dbl&gt;</th></tr>\n",
       "</thead>\n",
       "<tbody>\n",
       "\t<tr><th scope=row>1</th><td>59</td><td>admin.    </td><td>married </td><td>secondary</td><td>no</td><td>2343</td><td>yes</td><td>no </td><td>unknown</td><td>5</td><td>may</td><td>1</td><td>-1</td><td>0</td><td>unknown</td><td>1</td><td>0</td><td>0</td></tr>\n",
       "\t<tr><th scope=row>2</th><td>56</td><td>admin.    </td><td>married </td><td>secondary</td><td>no</td><td>  45</td><td>no </td><td>no </td><td>unknown</td><td>5</td><td>may</td><td>1</td><td>-1</td><td>0</td><td>unknown</td><td>1</td><td>0</td><td>0</td></tr>\n",
       "\t<tr><th scope=row>4</th><td>55</td><td>services  </td><td>married </td><td>secondary</td><td>no</td><td>2476</td><td>yes</td><td>no </td><td>unknown</td><td>5</td><td>may</td><td>1</td><td>-1</td><td>0</td><td>unknown</td><td>1</td><td>0</td><td>0</td></tr>\n",
       "\t<tr><th scope=row>6</th><td>42</td><td>management</td><td>single  </td><td>tertiary </td><td>no</td><td>   0</td><td>yes</td><td>yes</td><td>unknown</td><td>5</td><td>may</td><td>2</td><td>-1</td><td>0</td><td>unknown</td><td>1</td><td>0</td><td>0</td></tr>\n",
       "\t<tr><th scope=row>8</th><td>60</td><td>retired   </td><td>divorced</td><td>secondary</td><td>no</td><td> 545</td><td>yes</td><td>no </td><td>unknown</td><td>6</td><td>may</td><td>1</td><td>-1</td><td>0</td><td>unknown</td><td>1</td><td>0</td><td>0</td></tr>\n",
       "\t<tr><th scope=row>9</th><td>37</td><td>technician</td><td>married </td><td>secondary</td><td>no</td><td>   1</td><td>yes</td><td>no </td><td>unknown</td><td>6</td><td>may</td><td>1</td><td>-1</td><td>0</td><td>unknown</td><td>1</td><td>0</td><td>0</td></tr>\n",
       "</tbody>\n",
       "</table>\n"
      ],
      "text/latex": [
       "A data.frame: 6 × 18\n",
       "\\begin{tabular}{r|llllllllllllllllll}\n",
       "  & age & job & marital & education & default & balance & housing & loan & contact & day & month & campaign & pdays & previous & poutcome & deposit & pdays\\_flag & poutcoume\\_success\\\\\n",
       "  & <int> & <fct> & <fct> & <fct> & <fct> & <int> & <fct> & <fct> & <fct> & <int> & <ord> & <int> & <int> & <int> & <fct> & <dbl> & <dbl> & <dbl>\\\\\n",
       "\\hline\n",
       "\t1 & 59 & admin.     & married  & secondary & no & 2343 & yes & no  & unknown & 5 & may & 1 & -1 & 0 & unknown & 1 & 0 & 0\\\\\n",
       "\t2 & 56 & admin.     & married  & secondary & no &   45 & no  & no  & unknown & 5 & may & 1 & -1 & 0 & unknown & 1 & 0 & 0\\\\\n",
       "\t4 & 55 & services   & married  & secondary & no & 2476 & yes & no  & unknown & 5 & may & 1 & -1 & 0 & unknown & 1 & 0 & 0\\\\\n",
       "\t6 & 42 & management & single   & tertiary  & no &    0 & yes & yes & unknown & 5 & may & 2 & -1 & 0 & unknown & 1 & 0 & 0\\\\\n",
       "\t8 & 60 & retired    & divorced & secondary & no &  545 & yes & no  & unknown & 6 & may & 1 & -1 & 0 & unknown & 1 & 0 & 0\\\\\n",
       "\t9 & 37 & technician & married  & secondary & no &    1 & yes & no  & unknown & 6 & may & 1 & -1 & 0 & unknown & 1 & 0 & 0\\\\\n",
       "\\end{tabular}\n"
      ],
      "text/markdown": [
       "\n",
       "A data.frame: 6 × 18\n",
       "\n",
       "| <!--/--> | age &lt;int&gt; | job &lt;fct&gt; | marital &lt;fct&gt; | education &lt;fct&gt; | default &lt;fct&gt; | balance &lt;int&gt; | housing &lt;fct&gt; | loan &lt;fct&gt; | contact &lt;fct&gt; | day &lt;int&gt; | month &lt;ord&gt; | campaign &lt;int&gt; | pdays &lt;int&gt; | previous &lt;int&gt; | poutcome &lt;fct&gt; | deposit &lt;dbl&gt; | pdays_flag &lt;dbl&gt; | poutcoume_success &lt;dbl&gt; |\n",
       "|---|---|---|---|---|---|---|---|---|---|---|---|---|---|---|---|---|---|---|\n",
       "| 1 | 59 | admin.     | married  | secondary | no | 2343 | yes | no  | unknown | 5 | may | 1 | -1 | 0 | unknown | 1 | 0 | 0 |\n",
       "| 2 | 56 | admin.     | married  | secondary | no |   45 | no  | no  | unknown | 5 | may | 1 | -1 | 0 | unknown | 1 | 0 | 0 |\n",
       "| 4 | 55 | services   | married  | secondary | no | 2476 | yes | no  | unknown | 5 | may | 1 | -1 | 0 | unknown | 1 | 0 | 0 |\n",
       "| 6 | 42 | management | single   | tertiary  | no |    0 | yes | yes | unknown | 5 | may | 2 | -1 | 0 | unknown | 1 | 0 | 0 |\n",
       "| 8 | 60 | retired    | divorced | secondary | no |  545 | yes | no  | unknown | 6 | may | 1 | -1 | 0 | unknown | 1 | 0 | 0 |\n",
       "| 9 | 37 | technician | married  | secondary | no |    1 | yes | no  | unknown | 6 | may | 1 | -1 | 0 | unknown | 1 | 0 | 0 |\n",
       "\n"
      ],
      "text/plain": [
       "  age job        marital  education default balance housing loan contact day\n",
       "1 59  admin.     married  secondary no      2343    yes     no   unknown 5  \n",
       "2 56  admin.     married  secondary no        45    no      no   unknown 5  \n",
       "4 55  services   married  secondary no      2476    yes     no   unknown 5  \n",
       "6 42  management single   tertiary  no         0    yes     yes  unknown 5  \n",
       "8 60  retired    divorced secondary no       545    yes     no   unknown 6  \n",
       "9 37  technician married  secondary no         1    yes     no   unknown 6  \n",
       "  month campaign pdays previous poutcome deposit pdays_flag poutcoume_success\n",
       "1 may   1        -1    0        unknown  1       0          0                \n",
       "2 may   1        -1    0        unknown  1       0          0                \n",
       "4 may   1        -1    0        unknown  1       0          0                \n",
       "6 may   2        -1    0        unknown  1       0          0                \n",
       "8 may   1        -1    0        unknown  1       0          0                \n",
       "9 may   1        -1    0        unknown  1       0          0                "
      ]
     },
     "metadata": {},
     "output_type": "display_data"
    }
   ],
   "source": [
    "#install.packages(\"partykit\")\n",
    "library(partykit)\n",
    "head(train_data)\n",
    "party_model <- ctree(deposit ~ ., data = train_data)"
   ]
  },
  {
   "cell_type": "markdown",
   "id": "dcaa6d7b-7267-486d-9425-449dcf049bb3",
   "metadata": {},
   "source": [
    "Виведемо текстовий опис моделі:"
   ]
  },
  {
   "cell_type": "code",
   "execution_count": 118,
   "id": "b3a01af2-8cbe-4976-9ba1-2131ca12511e",
   "metadata": {},
   "outputs": [
    {
     "data": {
      "text/plain": [
       "\n",
       "Model formula:\n",
       "deposit ~ age + job + marital + education + default + balance + \n",
       "    housing + loan + contact + day + month + campaign + pdays + \n",
       "    previous + poutcome + pdays_flag + poutcoume_success\n",
       "\n",
       "Fitted party:\n",
       "[1] root\n",
       "|   [2] poutcome in failure, other, unknown\n",
       "|   |   [3] contact in cellular, telephone\n",
       "|   |   |   [4] housing in no\n",
       "|   |   |   |   [5] campaign <= 3\n",
       "|   |   |   |   |   [6] loan in no\n",
       "|   |   |   |   |   |   [7] pdays <= 28\n",
       "|   |   |   |   |   |   |   [8] campaign <= 1\n",
       "|   |   |   |   |   |   |   |   [9] job in admin., management, retired, services, student, technician: 0.683 (n = 624, err = 135.2)\n",
       "|   |   |   |   |   |   |   |   [10] job in blue-collar, entrepreneur, housemaid, self-employed, unemployed, unknown: 0.507 (n = 203, err = 50.7)\n",
       "|   |   |   |   |   |   |   [11] campaign > 1\n",
       "|   |   |   |   |   |   |   |   [12] day <= 17: 0.577 (n = 444, err = 108.4)\n",
       "|   |   |   |   |   |   |   |   [13] day > 17\n",
       "|   |   |   |   |   |   |   |   |   [14] balance <= 2069: 0.380 (n = 284, err = 66.9)\n",
       "|   |   |   |   |   |   |   |   |   [15] balance > 2069: 0.643 (n = 98, err = 22.5)\n",
       "|   |   |   |   |   |   [16] pdays > 28: 0.735 (n = 404, err = 78.7)\n",
       "|   |   |   |   |   [17] loan in yes: 0.367 (n = 248, err = 57.6)\n",
       "|   |   |   |   [18] campaign > 3\n",
       "|   |   |   |   |   [19] day <= 18: 0.507 (n = 288, err = 72.0)\n",
       "|   |   |   |   |   [20] day > 18\n",
       "|   |   |   |   |   |   [21] pdays_flag <= 0: 0.274 (n = 285, err = 56.7)\n",
       "|   |   |   |   |   |   [22] pdays_flag > 0: 0.636 (n = 22, err = 5.1)\n",
       "|   |   |   [23] housing in yes\n",
       "|   |   |   |   [24] marital in divorced, single\n",
       "|   |   |   |   |   [25] campaign <= 6: 0.474 (n = 838, err = 208.9)\n",
       "|   |   |   |   |   [26] campaign > 6: 0.143 (n = 21, err = 2.6)\n",
       "|   |   |   |   [27] marital in married\n",
       "|   |   |   |   |   [28] loan in no: 0.369 (n = 1000, err = 232.8)\n",
       "|   |   |   |   |   [29] loan in yes: 0.262 (n = 256, err = 49.5)\n",
       "|   |   [30] contact in unknown\n",
       "|   |   |   [31] month <= sep\n",
       "|   |   |   |   [32] marital in divorced, single: 0.259 (n = 618, err = 118.6)\n",
       "|   |   |   |   [33] marital in married: 0.189 (n = 887, err = 136.2)\n",
       "|   |   |   [34] month > sep: 0.857 (n = 21, err = 2.6)\n",
       "|   [35] poutcome in success: 0.919 (n = 715, err = 53.3)\n",
       "\n",
       "Number of inner nodes:    17\n",
       "Number of terminal nodes: 18"
      ]
     },
     "metadata": {},
     "output_type": "display_data"
    }
   ],
   "source": [
    "party_model\n",
    "# Looks like this model is more complex"
   ]
  },
  {
   "cell_type": "markdown",
   "id": "46c22e12-7698-4063-b1f1-da696151db26",
   "metadata": {},
   "source": [
    "Візуалізуємо побудоване дерево рішень:"
   ]
  },
  {
   "cell_type": "code",
   "execution_count": 120,
   "id": "4160783a-0238-4022-903e-e1cb57d127e8",
   "metadata": {},
   "outputs": [
    {
     "data": {
      "image/png": "[encoded data removed]",
      "text/plain": [
       "plot without title"
      ]
     },
     "metadata": {
      "image/png": {
       "height": 420,
       "width": 420
      }
     },
     "output_type": "display_data"
    }
   ],
   "source": [
    "plot(party_model)"
   ]
  },
  {
   "cell_type": "markdown",
   "id": "51259fe0-2a19-47c6-8cfc-816c5e58c44f",
   "metadata": {},
   "source": [
    "Конвернтуємо `ctree()` до `rpart()` для зручної візуалізації:"
   ]
  },
  {
   "cell_type": "code",
   "execution_count": 122,
   "id": "40f5924c-bde9-498e-84c2-82cf5a90c9fb",
   "metadata": {},
   "outputs": [
    {
     "data": {
      "image/png": "[encoded data removed]",
      "text/plain": [
       "plot without title"
      ]
     },
     "metadata": {
      "image/png": {
       "height": 420,
       "width": 420
      }
     },
     "output_type": "display_data"
    }
   ],
   "source": [
    "st <- as.simpleparty(party_model)\n",
    "plot(st)"
   ]
  },
  {
   "cell_type": "markdown",
   "id": "e69cf8c2-3f5f-4bfc-ab39-43008552fca2",
   "metadata": {},
   "source": [
    "Додамо прогнозовані показники до раніше створених дата-фрейму для збору результатів:"
   ]
  },
  {
   "cell_type": "code",
   "execution_count": 124,
   "id": "0c69abc7-6dad-4857-bb79-5f2d5362aab4",
   "metadata": {},
   "outputs": [
    {
     "data": {
      "text/html": [
       "<table class=\"dataframe\">\n",
       "<caption>A data.frame: 6 × 5</caption>\n",
       "<thead>\n",
       "\t<tr><th></th><th scope=col>No</th><th scope=col>deposit</th><th scope=col>RPartPredicted</th><th scope=col>RPartPredicted_Class</th><th scope=col>PartyPredicted</th></tr>\n",
       "\t<tr><th></th><th scope=col>&lt;int&gt;</th><th scope=col>&lt;dbl&gt;</th><th scope=col>&lt;dbl&gt;</th><th scope=col>&lt;dbl&gt;</th><th scope=col>&lt;dbl&gt;</th></tr>\n",
       "</thead>\n",
       "<tbody>\n",
       "\t<tr><th scope=row>3</th><td>1</td><td>1</td><td>0.2267366</td><td>0</td><td>0.1894025</td></tr>\n",
       "\t<tr><th scope=row>5</th><td>2</td><td>1</td><td>0.2267366</td><td>0</td><td>0.1894025</td></tr>\n",
       "\t<tr><th scope=row>7</th><td>3</td><td>1</td><td>0.2267366</td><td>0</td><td>0.1894025</td></tr>\n",
       "\t<tr><th scope=row>11</th><td>4</td><td>1</td><td>0.2267366</td><td>0</td><td>0.2588997</td></tr>\n",
       "\t<tr><th scope=row>13</th><td>5</td><td>1</td><td>0.2267366</td><td>0</td><td>0.1894025</td></tr>\n",
       "\t<tr><th scope=row>14</th><td>6</td><td>1</td><td>0.2267366</td><td>0</td><td>0.2588997</td></tr>\n",
       "</tbody>\n",
       "</table>\n"
      ],
      "text/latex": [
       "A data.frame: 6 × 5\n",
       "\\begin{tabular}{r|lllll}\n",
       "  & No & deposit & RPartPredicted & RPartPredicted\\_Class & PartyPredicted\\\\\n",
       "  & <int> & <dbl> & <dbl> & <dbl> & <dbl>\\\\\n",
       "\\hline\n",
       "\t3 & 1 & 1 & 0.2267366 & 0 & 0.1894025\\\\\n",
       "\t5 & 2 & 1 & 0.2267366 & 0 & 0.1894025\\\\\n",
       "\t7 & 3 & 1 & 0.2267366 & 0 & 0.1894025\\\\\n",
       "\t11 & 4 & 1 & 0.2267366 & 0 & 0.2588997\\\\\n",
       "\t13 & 5 & 1 & 0.2267366 & 0 & 0.1894025\\\\\n",
       "\t14 & 6 & 1 & 0.2267366 & 0 & 0.2588997\\\\\n",
       "\\end{tabular}\n"
      ],
      "text/markdown": [
       "\n",
       "A data.frame: 6 × 5\n",
       "\n",
       "| <!--/--> | No &lt;int&gt; | deposit &lt;dbl&gt; | RPartPredicted &lt;dbl&gt; | RPartPredicted_Class &lt;dbl&gt; | PartyPredicted &lt;dbl&gt; |\n",
       "|---|---|---|---|---|---|\n",
       "| 3 | 1 | 1 | 0.2267366 | 0 | 0.1894025 |\n",
       "| 5 | 2 | 1 | 0.2267366 | 0 | 0.1894025 |\n",
       "| 7 | 3 | 1 | 0.2267366 | 0 | 0.1894025 |\n",
       "| 11 | 4 | 1 | 0.2267366 | 0 | 0.2588997 |\n",
       "| 13 | 5 | 1 | 0.2267366 | 0 | 0.1894025 |\n",
       "| 14 | 6 | 1 | 0.2267366 | 0 | 0.2588997 |\n",
       "\n"
      ],
      "text/plain": [
       "   No deposit RPartPredicted RPartPredicted_Class PartyPredicted\n",
       "3  1  1       0.2267366      0                    0.1894025     \n",
       "5  2  1       0.2267366      0                    0.1894025     \n",
       "7  3  1       0.2267366      0                    0.1894025     \n",
       "11 4  1       0.2267366      0                    0.2588997     \n",
       "13 5  1       0.2267366      0                    0.1894025     \n",
       "14 6  1       0.2267366      0                    0.2588997     "
      ]
     },
     "metadata": {},
     "output_type": "display_data"
    }
   ],
   "source": [
    "train_results$PartyPredicted <- predict(party_model, train_data)\n",
    "test_results$PartyPredicted <- predict(party_model, test_data)\n",
    "head(test_results)"
   ]
  },
  {
   "cell_type": "markdown",
   "id": "383ea882-fec3-4930-9fbf-c35c8ef44b89",
   "metadata": {},
   "source": [
    "Визначимо оптимальну лінію розділення на класи 0 і 1:"
   ]
  },
  {
   "cell_type": "code",
   "execution_count": 126,
   "id": "4ddc2ad4-cfc3-4132-8ed4-9a832c11bb1c",
   "metadata": {},
   "outputs": [
    {
     "data": {
      "text/html": [
       "0.478881118881119"
      ],
      "text/latex": [
       "0.478881118881119"
      ],
      "text/markdown": [
       "0.478881118881119"
      ],
      "text/plain": [
       "[1] 0.4788811"
      ]
     },
     "metadata": {},
     "output_type": "display_data"
    }
   ],
   "source": [
    "optCutOff <- optimalCutoff(train_results$deposit, train_results$PartyPredicted)\n",
    "optCutOff"
   ]
  },
  {
   "cell_type": "markdown",
   "id": "c00c5f35-bc75-4397-be23-90bd0c445e38",
   "metadata": {},
   "source": [
    "ROC-крива та AUROC:"
   ]
  },
  {
   "cell_type": "code",
   "execution_count": 128,
   "id": "aec5f63d-5199-4203-be51-6e949a2e82a2",
   "metadata": {},
   "outputs": [
    {
     "data": {
      "image/png": "[encoded data removed]",
      "text/plain": [
       "plot without title"
      ]
     },
     "metadata": {
      "image/png": {
       "height": 420,
       "width": 420
      }
     },
     "output_type": "display_data"
    }
   ],
   "source": [
    "plotROC(test_results$deposit, test_results$PartyPredicted)"
   ]
  },
  {
   "cell_type": "markdown",
   "id": "22913c16-ab3b-45cc-9029-38f0b2b3da1a",
   "metadata": {},
   "source": [
    "Розділимо результати прогнозування на класи:"
   ]
  },
  {
   "cell_type": "code",
   "execution_count": 130,
   "id": "8b29490a-d3b5-42c0-a77d-f356d377eeee",
   "metadata": {},
   "outputs": [],
   "source": [
    "test_results$PartyPredicted_Class <- ifelse(test_results$PartyPredicted > optCutOff, 1, 0)"
   ]
  },
  {
   "cell_type": "markdown",
   "id": "33ca8529-bfdf-42df-9d84-a3f8ee8fd6fe",
   "metadata": {},
   "source": [
    "Confusion matrix:"
   ]
  },
  {
   "cell_type": "code",
   "execution_count": 132,
   "id": "b0c8b651-ca03-43b8-912b-e147bf7ae348",
   "metadata": {},
   "outputs": [
    {
     "data": {
      "text/plain": [
       "Confusion Matrix and Statistics\n",
       "\n",
       "          Reference\n",
       "Prediction    0    1\n",
       "         0 1614  424\n",
       "         1  823 1045\n",
       "                                          \n",
       "               Accuracy : 0.6807          \n",
       "                 95% CI : (0.6659, 0.6954)\n",
       "    No Information Rate : 0.6239          \n",
       "    P-Value [Acc > NIR] : 6.871e-14       \n",
       "                                          \n",
       "                  Kappa : 0.3545          \n",
       "                                          \n",
       " Mcnemar's Test P-Value : < 2.2e-16       \n",
       "                                          \n",
       "            Sensitivity : 0.7114          \n",
       "            Specificity : 0.6623          \n",
       "         Pos Pred Value : 0.5594          \n",
       "         Neg Pred Value : 0.7920          \n",
       "             Prevalence : 0.3761          \n",
       "         Detection Rate : 0.2675          \n",
       "   Detection Prevalence : 0.4782          \n",
       "      Balanced Accuracy : 0.6868          \n",
       "                                          \n",
       "       'Positive' Class : 1               \n",
       "                                          "
      ]
     },
     "metadata": {},
     "output_type": "display_data"
    }
   ],
   "source": [
    "cm <- caret::confusionMatrix(factor(test_results$deposit), \n",
    "                             factor(test_results$PartyPredicted_Class), \n",
    "                             positive = \"1\")\n",
    "cm"
   ]
  },
  {
   "cell_type": "markdown",
   "id": "a7de7d11-3999-48d4-981a-69644db9e2ad",
   "metadata": {},
   "source": [
    "Оцінимо збалансовану точність класифікації:"
   ]
  },
  {
   "cell_type": "code",
   "execution_count": 136,
   "id": "22612c9d-4bd6-4b38-83ac-386ab7a2c21d",
   "metadata": {},
   "outputs": [
    {
     "data": {
      "text/html": [
       "0.675550728766083"
      ],
      "text/latex": [
       "0.675550728766083"
      ],
      "text/markdown": [
       "0.675550728766083"
      ],
      "text/plain": [
       "[1] 0.6755507"
      ]
     },
     "metadata": {},
     "output_type": "display_data"
    }
   ],
   "source": [
    "BAcc # value for previous model"
   ]
  },
  {
   "cell_type": "code",
   "execution_count": 140,
   "id": "092dd81e-5872-478c-a348-138c183496e8",
   "metadata": {},
   "outputs": [
    {
     "data": {
      "text/html": [
       "0.686828989095667"
      ],
      "text/latex": [
       "0.686828989095667"
      ],
      "text/markdown": [
       "0.686828989095667"
      ],
      "text/plain": [
       "[1] 0.686829"
      ]
     },
     "metadata": {},
     "output_type": "display_data"
    }
   ],
   "source": [
    "BAcc1 <- cm$byClass[[\"Balanced Accuracy\"]]\n",
    "BAcc1\n",
    "# Wow, its increased. Looks better"
   ]
  },
  {
   "cell_type": "markdown",
   "id": "e15350c2-bf40-42ab-b554-e145739e2787",
   "metadata": {},
   "source": [
    "---"
   ]
  },
  {
   "cell_type": "markdown",
   "id": "43bc645c-4883-4d1f-9d05-565e88e7c63d",
   "metadata": {},
   "source": [
    "# 8. Desision Tree with c50"
   ]
  },
  {
   "cell_type": "markdown",
   "id": "a4c2ea07-3b92-486b-8152-cf351d1c200e",
   "metadata": {},
   "source": [
    "Скористаємося алгоритмом `C50` для побудови дерева рішень.\n",
    "Для початку потрібно виіхдний показник перетворити у категоріальний (`factor`):"
   ]
  },
  {
   "cell_type": "code",
   "execution_count": 141,
   "id": "1a201365-6116-4697-8d5d-50848b5aa558",
   "metadata": {},
   "outputs": [],
   "source": [
    "train_data$deposit <- factor(train_data$deposit, levels = c(0,1))\n",
    "test_data$deposit <- factor(test_data$deposit, levels = c(0,1))"
   ]
  },
  {
   "cell_type": "markdown",
   "id": "4ce25771-944a-4ca1-99e0-5ee139a381ff",
   "metadata": {},
   "source": [
    "Побудуємо модель:"
   ]
  },
  {
   "cell_type": "code",
   "execution_count": 169,
   "id": "a5bb6517-fd02-4b18-94f4-30a48eb62f08",
   "metadata": {},
   "outputs": [],
   "source": [
    "#install.packages(\"C50\")\n",
    "library(C50)\n",
    "c5_model <- C5.0(deposit ~ ., \n",
    "                 data = train_data)"
   ]
  },
  {
   "cell_type": "markdown",
   "id": "2152b645-1575-442c-94ce-7e4673815bf1",
   "metadata": {},
   "source": [
    "Переглянемо модель:"
   ]
  },
  {
   "cell_type": "code",
   "execution_count": 170,
   "id": "6e0a4b8e-52c0-470c-a72e-db2cd1ac9633",
   "metadata": {},
   "outputs": [
    {
     "data": {
      "text/plain": [
       "\n",
       "Call:\n",
       "C5.0.formula(formula = deposit ~ ., data = train_data)\n",
       "\n",
       "\n",
       "C5.0 [Release 2.07 GPL Edition]  \tThu Jun 10 18:11:09 2021\n",
       "-------------------------------\n",
       "\n",
       "Class specified by attribute `outcome'\n",
       "\n",
       "Read 7256 cases (18 attributes) from undefined.data\n",
       "\n",
       "Decision tree:\n",
       "\n",
       "poutcoume_success > 0: 1 (715/58)\n",
       "poutcoume_success <= 0:\n",
       ":...age > 60: 1 (270/63)\n",
       "    age <= 60:\n",
       "    :...pdays > 373:\n",
       "        :...loan = no: 1 (76/9)\n",
       "        :   loan = yes:\n",
       "        :   :...job in {admin.,blue-collar,entrepreneur,housemaid,management,\n",
       "        :       :       retired,self-employed,student,technician,\n",
       "        :       :       unknown}: 0 (5)\n",
       "        :       job in {services,unemployed}: 1 (3)\n",
       "        pdays <= 373:\n",
       "        :...contact = unknown:\n",
       "            :...poutcome = success: 0 (0)\n",
       "            :   poutcome in {failure,other}: 1 (2)\n",
       "            :   poutcome = unknown:\n",
       "            :   :...month in [oct-dec]: 1 (21/3)\n",
       "            :       month in [jan-sep]:\n",
       "            :       :...month in [jan-apr]: 1 (6/1)\n",
       "            :           month in [may-sep]:\n",
       "            :           :...month = may: 0 (928/172)\n",
       "            :               month in [jun-sep]:\n",
       "            :               :...age > 27: 0 (532/129)\n",
       "            :                   age <= 27:\n",
       "            :                   :...age <= 23: 0 (4)\n",
       "            :                       age > 23: 1 (27/10)\n",
       "            contact in {cellular,telephone}:\n",
       "            :...job = student:\n",
       "                :...housing = yes:\n",
       "                :   :...marital = married: 1 (3)\n",
       "                :   :   marital in {divorced,single}: 0 (14/4)\n",
       "                :   housing = no:\n",
       "                :   :...marital in {divorced,married}: 0 (4/1)\n",
       "                :       marital = single:\n",
       "                :       :...campaign <= 6: 1 (135/31)\n",
       "                :           campaign > 6:\n",
       "                :           :...education = secondary: 1 (2)\n",
       "                :               education in {primary,tertiary,unknown}: 0 (4)\n",
       "                job in {admin.,blue-collar,entrepreneur,housemaid,management,\n",
       "                :       retired,self-employed,services,technician,unemployed,\n",
       "                :       unknown}:\n",
       "                :...loan = yes:\n",
       "                    :...marital in {divorced,married}: 0 (519/140)\n",
       "                    :   marital = single:\n",
       "                    :   :...job in {admin.,entrepreneur,housemaid,management,\n",
       "                    :       :       retired,services,technician,\n",
       "                    :       :       unknown}: 0 (135/57)\n",
       "                    :       job = unemployed: 1 (1)\n",
       "                    :       job = blue-collar:\n",
       "                    :       :...balance <= 80: 0 (12/4)\n",
       "                    :       :   balance > 80: 1 (23/3)\n",
       "                    :       job = self-employed:\n",
       "                    :       :...campaign <= 1: 1 (6)\n",
       "                    :           campaign > 1: 0 (4)\n",
       "                    loan = no:\n",
       "                    :...day <= 4:\n",
       "                        :...month in [mar-dec]: 1 (243/60)\n",
       "                        :   month in [jan-feb]:\n",
       "                        :   :...pdays > 246:\n",
       "                        :       :...job in {admin.,blue-collar,entrepreneur,\n",
       "                        :       :   :       housemaid,management,retired,\n",
       "                        :       :   :       self-employed,services,technician,\n",
       "                        :       :   :       unknown}: 0 (18)\n",
       "                        :       :   job = unemployed: 1 (2)\n",
       "                        :       pdays <= 246:\n",
       "                        :       :...job in {admin.,technician,\n",
       "                        :           :       unknown}: 1 (41/18)\n",
       "                        :           job in {blue-collar,entrepreneur,housemaid,\n",
       "                        :           :       services}: 0 (23/8)\n",
       "                        :           job = retired:\n",
       "                        :           :...campaign <= 1: 1 (2)\n",
       "                        :           :   campaign > 1: 0 (2)\n",
       "                        :           job = self-employed:\n",
       "                        :           :...age <= 44: 1 (3)\n",
       "                        :           :   age > 44: 0 (2)\n",
       "                        :           job = management:\n",
       "                        :           :...marital = divorced: 0 (4/2)\n",
       "                        :           :   marital = married: 1 (18/6)\n",
       "                        :           :   marital = single:\n",
       "                        :           :   :...balance <= 2331: 0 (9)\n",
       "                        :           :       balance > 2331: 1 (2)\n",
       "                        :           job = unemployed:\n",
       "                        :           :...education = primary: 1 (2)\n",
       "                        :               education in {tertiary,\n",
       "                        :               :             unknown}: 0 (3)\n",
       "                        :               education = secondary:\n",
       "                        :               :...day <= 3: 1 (4/1)\n",
       "                        :                   day > 3: 0 (3)\n",
       "                        day > 4:\n",
       "                        :...age <= 26:\n",
       "                            :...pdays > 227: 0 (12/4)\n",
       "                            :   pdays <= 227:\n",
       "                            :   :...contact = cellular: 1 (130/33)\n",
       "                            :       contact = telephone: 0 (4/1)\n",
       "                            age > 26:\n",
       "                            :...balance <= 638:\n",
       "                                :...month in [may-dec]:\n",
       "                                :   :...month in [sep-dec]:\n",
       "                                :   :   :...month in [sep-oct]: 1 (65/14)\n",
       "                                :   :   :   month in [nov-dec]:\n",
       "                                :   :   :   :...day <= 15: 1 (16/1)\n",
       "                                :   :   :       day > 15:\n",
       "                                :   :   :       :...month = nov: 0 (140/36)\n",
       "                                :   :   :           month = dec: 1 (4)\n",
       "                                :   :   month in [may-aug]:\n",
       "                                :   :   :...marital in {divorced,single}:\n",
       "                                :   :       :...campaign > 1: 0 (321/112)\n",
       "                                :   :       :   campaign <= 1:\n",
       "                                :   :       :   :...day > 11: 1 (89/33)\n",
       "                                :   :       :       day <= 11:\n",
       "                                :   :       :       :...previous <= 2: 0 (51/15)\n",
       "                                :   :       :           previous > 2: 1 (5)\n",
       "                                :   :       marital = married:\n",
       "                                :   :       :...pdays_flag <= 0: 0 (611/159)\n",
       "                                :   :           pdays_flag > 0: [S1]\n",
       "                                :   month in [jan-apr]:\n",
       "                                :   :...month in [jan-feb]:\n",
       "                                :       :...day <= 27:\n",
       "                                :       :   :...day <= 9: 0 (55/13)\n",
       "                                :       :   :   day > 9: 1 (30/5)\n",
       "                                :       :   day > 27:\n",
       "                                :       :   :...default = no: 0 (77/13)\n",
       "                                :       :       default = yes: 1 (2)\n",
       "                                :       month in [mar-apr]:\n",
       "                                :       :...housing = no:\n",
       "                                :           :...pdays <= 267: 1 (86/14)\n",
       "                                :           :   pdays > 267: 0 (6/1)\n",
       "                                :           housing = yes:\n",
       "                                :           :...day > 20: [S2]\n",
       "                                :               day <= 20:\n",
       "                                :               :...month = mar: 1 (2)\n",
       "                                :                   month = apr:\n",
       "                                :                   :...day <= 13: 1 (15/5)\n",
       "                                :                       day > 13: [S3]\n",
       "                                balance > 638:\n",
       "                                :...housing = yes:\n",
       "                                    :...poutcome = success: 0 (0)\n",
       "                                    :   poutcome = failure:\n",
       "                                    :   :...job in {admin.,blue-collar,\n",
       "                                    :   :   :       housemaid,self-employed,\n",
       "                                    :   :   :       services,technician,\n",
       "                                    :   :   :       unemployed,\n",
       "                                    :   :   :       unknown}: 0 (102/30)\n",
       "                                    :   :   job in {entrepreneur,\n",
       "                                    :   :   :       retired}: 1 (7/1)\n",
       "                                    :   :   job = management:\n",
       "                                    :   :   :...age <= 35: 1 (7)\n",
       "                                    :   :       age > 35:\n",
       "                                    :   :       :...balance <= 4222: 0 (11/1)\n",
       "                                    :   :           balance > 4222: 1 (4)\n",
       "                                    :   poutcome = other:\n",
       "                                    :   :...contact = telephone: 0 (3)\n",
       "                                    :   :   contact = cellular: [S4]\n",
       "                                    :   poutcome = unknown:\n",
       "                                    :   :...job in {entrepreneur,technician,\n",
       "                                    :       :       unknown}: 0 (92/42)\n",
       "                                    :       job = retired: 1 (6/2)\n",
       "                                    :       job = admin.:\n",
       "                                    :       :...age <= 43: 0 (42/14)\n",
       "                                    :       :   age > 43: 1 (15/3)\n",
       "                                    :       job = blue-collar:\n",
       "                                    :       :...day <= 23: 0 (108/40)\n",
       "                                    :       :   day > 23: 1 (12/2)\n",
       "                                    :       job = management:\n",
       "                                    :       :...age <= 35: 1 (47/17)\n",
       "                                    :       :   age > 35: 0 (83/25)\n",
       "                                    :       job = self-employed: [S5]\n",
       "                                    :       job = services:\n",
       "                                    :       :...campaign <= 1: 1 (16/7)\n",
       "                                    :       :   campaign > 1: 0 (17/1)\n",
       "                                    :       job = unemployed: [S6]\n",
       "                                    :       job = housemaid:\n",
       "                                    :       :...marital = divorced: 0 (1)\n",
       "                                    :           marital = single: 1 (2)\n",
       "                                    :           marital = married:\n",
       "                                    :           :...age <= 51: 0 (4)\n",
       "                                    :               age > 51: 1 (2)\n",
       "                                    housing = no:\n",
       "                                    :...poutcome = success: 1 (0)\n",
       "                                        poutcome = other:\n",
       "                                        :...job in {admin.,entrepreneur,\n",
       "                                        :   :       management,retired,\n",
       "                                        :   :       self-employed,technician,\n",
       "                                        :   :       unemployed,\n",
       "                                        :   :       unknown}: 1 (44/2)\n",
       "                                        :   job in {blue-collar,housemaid,\n",
       "                                        :           services}: 0 (13/4)\n",
       "                                        poutcome in {failure,unknown}:\n",
       "                                        :...month in [jan-jun]:\n",
       "                                            :...month in [feb-jun]: 1 (251/64)\n",
       "                                            :   month = jan:\n",
       "                                            :   :...day <= 21: 1 (8)\n",
       "                                            :       day > 21: 0 (28/5)\n",
       "                                            month in [jul-dec]:\n",
       "                                            :...poutcome = failure:\n",
       "                                                :...age > 53: 1 (11)\n",
       "                                                :   age <= 53:\n",
       "                                                :   :...campaign <= 2: 1 (37/12)\n",
       "                                                :       campaign > 2: 0 (6)\n",
       "                                                poutcome = unknown: [S7]\n",
       "\n",
       "SubTree [S1]\n",
       "\n",
       "contact = telephone: 0 (4)\n",
       "contact = cellular:\n",
       ":...housing = yes: 0 (60/18)\n",
       "    housing = no:\n",
       "    :...balance <= 59: 0 (4/1)\n",
       "        balance > 59: 1 (18/5)\n",
       "\n",
       "SubTree [S2]\n",
       "\n",
       "poutcome in {failure,success,unknown}: 1 (26/3)\n",
       "poutcome = other: 0 (2)\n",
       "\n",
       "SubTree [S3]\n",
       "\n",
       "education in {secondary,unknown}: 0 (52/10)\n",
       "education = primary:\n",
       ":...balance <= 250: 0 (4)\n",
       ":   balance > 250: 1 (4)\n",
       "education = tertiary:\n",
       ":...campaign <= 2: 0 (11/2)\n",
       "    campaign > 2: 1 (2)\n",
       "\n",
       "SubTree [S4]\n",
       "\n",
       "job in {admin.,housemaid,retired,self-employed,services,unemployed,\n",
       ":       unknown}: 1 (13/3)\n",
       "job = entrepreneur: 0 (3/1)\n",
       "job = blue-collar:\n",
       ":...balance <= 1217: 0 (5)\n",
       ":   balance > 1217: 1 (4/1)\n",
       "job = management:\n",
       ":...previous <= 2: 1 (8)\n",
       ":   previous > 2: 0 (6/2)\n",
       "job = technician:\n",
       ":...day <= 13: 0 (4)\n",
       "    day > 13: 1 (5/1)\n",
       "\n",
       "SubTree [S5]\n",
       "\n",
       "contact = cellular: 1 (14/4)\n",
       "contact = telephone: 0 (2)\n",
       "\n",
       "SubTree [S6]\n",
       "\n",
       "education in {primary,tertiary,unknown}: 1 (4)\n",
       "education = secondary: 0 (7/1)\n",
       "\n",
       "SubTree [S7]\n",
       "\n",
       "marital = divorced: 1 (42/13)\n",
       "marital = single:\n",
       ":...age <= 29: 1 (14/1)\n",
       ":   age > 29:\n",
       ":   :...job in {admin.,entrepreneur,housemaid,retired,\n",
       ":       :       unemployed}: 0 (23/10)\n",
       ":       job in {self-employed,services,unknown}: 1 (12/2)\n",
       ":       job = blue-collar:\n",
       ":       :...campaign <= 1: 0 (3)\n",
       ":       :   campaign > 1: 1 (2)\n",
       ":       job = management:\n",
       ":       :...campaign <= 7: 0 (39/15)\n",
       ":       :   campaign > 7: 1 (3)\n",
       ":       job = technician:\n",
       ":       :...age <= 33: 0 (15/4)\n",
       ":           age > 33: 1 (19/4)\n",
       "marital = married:\n",
       ":...day > 16: 0 (170/61)\n",
       "    day <= 16:\n",
       "    :...month in [sep-dec]: 1 (20/1)\n",
       "        month in [jul-aug]:\n",
       "        :...job in {entrepreneur,housemaid,self-employed,technician,\n",
       "            :       unknown}: 0 (36/13)\n",
       "            job in {retired,services,unemployed}: 1 (15/5)\n",
       "            job = admin.:\n",
       "            :...balance <= 2315: 0 (3)\n",
       "            :   balance > 2315: 1 (4)\n",
       "            job = blue-collar:\n",
       "            :...education in {secondary,tertiary}: 1 (5/1)\n",
       "            :   education = unknown: 0 (2)\n",
       "            :   education = primary:\n",
       "            :   :...campaign <= 2: 1 (2)\n",
       "            :       campaign > 2: 0 (4/1)\n",
       "            job = management:\n",
       "            :...month = jul: 1 (3)\n",
       "                month = aug:\n",
       "                :...age <= 47: 1 (20/8)\n",
       "                    age > 47: 0 (6)\n",
       "\n",
       "\n",
       "Evaluation on training data (7256 cases):\n",
       "\n",
       "\t    Decision Tree   \n",
       "\t  ----------------  \n",
       "\t  Size      Errors  \n",
       "\n",
       "\t   136 1702(23.5%)   <<\n",
       "\n",
       "\n",
       "\t   (a)   (b)    <-classified as\n",
       "\t  ----  ----\n",
       "\t  3305   530    (a): class 0\n",
       "\t  1172  2249    (b): class 1\n",
       "\n",
       "\n",
       "\tAttribute usage:\n",
       "\n",
       "\t100.00%\tpoutcoume_success\n",
       "\t 90.15%\tage\n",
       "\t 86.43%\tpdays\n",
       "\t 85.27%\tcontact\n",
       "\t 64.43%\tjob\n",
       "\t 63.24%\tloan\n",
       "\t 61.52%\tmonth\n",
       "\t 52.44%\tday\n",
       "\t 45.81%\tbalance\n",
       "\t 42.23%\tpoutcome\n",
       "\t 34.85%\tmarital\n",
       "\t 27.15%\thousing\n",
       "\t 10.52%\tcampaign\n",
       "\t  9.61%\tpdays_flag\n",
       "\t  1.58%\teducation\n",
       "\t  1.09%\tdefault\n",
       "\t  0.96%\tprevious\n",
       "\n",
       "\n",
       "Time: 0.1 secs\n"
      ]
     },
     "metadata": {},
     "output_type": "display_data"
    }
   ],
   "source": [
    "summary(c5_model)\n",
    "# its hard to check the nodes"
   ]
  },
  {
   "cell_type": "markdown",
   "id": "0352b201-79ba-4d50-a073-2e9b23aa185e",
   "metadata": {},
   "source": [
    "Здійснимо прогноз значень:"
   ]
  },
  {
   "cell_type": "code",
   "execution_count": 171,
   "id": "25092073-7cf1-4a42-85d9-cf203575bb0f",
   "metadata": {},
   "outputs": [],
   "source": [
    "train_results$C5Predicted <- predict(c5_model, train_data)\n",
    "test_results$C5Predicted <- predict(c5_model, test_data)"
   ]
  },
  {
   "cell_type": "markdown",
   "id": "a06abf06-5e63-4dc7-af43-973688a3219c",
   "metadata": {},
   "source": [
    "ROC-крива та AUROC:"
   ]
  },
  {
   "cell_type": "code",
   "execution_count": 172,
   "id": "341a3a8a-df04-4e1d-950b-44e5cbc1265a",
   "metadata": {},
   "outputs": [
    {
     "data": {
      "image/png": "[encoded data removed]",
      "text/plain": [
       "plot without title"
      ]
     },
     "metadata": {
      "image/png": {
       "height": 420,
       "width": 420
      }
     },
     "output_type": "display_data"
    }
   ],
   "source": [
    "plotROC(as.numeric(test_results$deposit), as.numeric(test_results$C5Predicted))\n",
    "# you can see that current algorithm is not very good for this data, partykit is much better"
   ]
  },
  {
   "cell_type": "markdown",
   "id": "e99fdf03-3a92-4c1e-a146-88df15fd60c0",
   "metadata": {},
   "source": [
    "Confusion Matrix:"
   ]
  },
  {
   "cell_type": "code",
   "execution_count": 173,
   "id": "2634db0f-d9fe-457c-a41d-5983047dd8f5",
   "metadata": {},
   "outputs": [
    {
     "data": {
      "text/plain": [
       "Confusion Matrix and Statistics\n",
       "\n",
       "          Reference\n",
       "Prediction    0    1\n",
       "         0 1634  404\n",
       "         1  720 1148\n",
       "                                          \n",
       "               Accuracy : 0.7122          \n",
       "                 95% CI : (0.6978, 0.7264)\n",
       "    No Information Rate : 0.6027          \n",
       "    P-Value [Acc > NIR] : < 2.2e-16       \n",
       "                                          \n",
       "                  Kappa : 0.4193          \n",
       "                                          \n",
       " Mcnemar's Test P-Value : < 2.2e-16       \n",
       "                                          \n",
       "            Sensitivity : 0.7397          \n",
       "            Specificity : 0.6941          \n",
       "         Pos Pred Value : 0.6146          \n",
       "         Neg Pred Value : 0.8018          \n",
       "             Prevalence : 0.3973          \n",
       "         Detection Rate : 0.2939          \n",
       "   Detection Prevalence : 0.4782          \n",
       "      Balanced Accuracy : 0.7169          \n",
       "                                          \n",
       "       'Positive' Class : 1               \n",
       "                                          "
      ]
     },
     "metadata": {},
     "output_type": "display_data"
    }
   ],
   "source": [
    "cm <- caret::confusionMatrix(factor(test_results$deposit), \n",
    "                             test_results$C5Predicted, \n",
    "                             positive = \"1\")\n",
    "cm"
   ]
  },
  {
   "cell_type": "markdown",
   "id": "a3cc84f6-f0a2-4fcf-95f6-0ab2b21200b9",
   "metadata": {},
   "source": [
    "Збалансована точність моделі:"
   ]
  },
  {
   "cell_type": "code",
   "execution_count": 174,
   "id": "99757890-3259-4ae8-bfbe-4a2bcf23a674",
   "metadata": {},
   "outputs": [
    {
     "data": {
      "text/html": [
       "0.675550728766083"
      ],
      "text/latex": [
       "0.675550728766083"
      ],
      "text/markdown": [
       "0.675550728766083"
      ],
      "text/plain": [
       "[1] 0.6755507"
      ]
     },
     "metadata": {},
     "output_type": "display_data"
    },
    {
     "data": {
      "text/html": [
       "0.686828989095667"
      ],
      "text/latex": [
       "0.686828989095667"
      ],
      "text/markdown": [
       "0.686828989095667"
      ],
      "text/plain": [
       "[1] 0.686829"
      ]
     },
     "metadata": {},
     "output_type": "display_data"
    }
   ],
   "source": [
    "BAcc # rpart\n",
    "BAcc1 # partykit"
   ]
  },
  {
   "cell_type": "code",
   "execution_count": 175,
   "id": "693d3a3e-f1e3-4d6f-867e-da7618db10de",
   "metadata": {},
   "outputs": [
    {
     "data": {
      "text/html": [
       "0.716914179856178"
      ],
      "text/latex": [
       "0.716914179856178"
      ],
      "text/markdown": [
       "0.716914179856178"
      ],
      "text/plain": [
       "[1] 0.7169142"
      ]
     },
     "metadata": {},
     "output_type": "display_data"
    }
   ],
   "source": [
    "BAcc2 <- cm$byClass[[\"Balanced Accuracy\"]]\n",
    "BAcc2\n",
    "# but balanced accuracy is the best. So this model better classify both good and bad events"
   ]
  },
  {
   "cell_type": "markdown",
   "id": "dda95592-e8a7-4c68-8acf-889bb1bb525e",
   "metadata": {},
   "source": [
    "---"
   ]
  },
  {
   "cell_type": "markdown",
   "id": "db2aebdb-8ede-4056-9863-471ef7e547fb",
   "metadata": {},
   "source": [
    "# 10. RandomForest"
   ]
  },
  {
   "cell_type": "markdown",
   "id": "7e88ab8b-c8ee-44a7-8857-bee81f68e7c6",
   "metadata": {},
   "source": [
    "Our next step is testing gradient boosting with `random forest` algorithm."
   ]
  },
  {
   "cell_type": "markdown",
   "id": "cacd380f-5615-490f-8623-ef48080f0522",
   "metadata": {},
   "source": [
    "# 10.1. Default `random forest`"
   ]
  },
  {
   "cell_type": "markdown",
   "id": "dcd75376-9506-4aea-8d03-5d7653e713ed",
   "metadata": {},
   "source": [
    "You can use `random forest` with default or special training parameters. "
   ]
  },
  {
   "cell_type": "code",
   "execution_count": 177,
   "id": "2f0ca35e-6c7a-4ce1-8e33-a646b6d70928",
   "metadata": {},
   "outputs": [],
   "source": [
    "#install.packages(\"randomForest\")\n",
    "library(randomForest)\n",
    "\n",
    "rf_model <- randomForest(deposit ~ ., \n",
    "                         data=train_data, \n",
    "                         ntree=100, \n",
    "                         mtry=2, \n",
    "                         importance=TRUE) #Should importance of predictors be assessed?"
   ]
  },
  {
   "cell_type": "markdown",
   "id": "11426ff0-61c2-4304-becb-b90b3fb7bdd2",
   "metadata": {},
   "source": [
    "`ntree` - Number of trees to grow. This should not be set to too small a number, to ensure that every input row gets predicted at least a few times.\n",
    "\n",
    "`mtry` - Number of variables randomly sampled as candidates at each split."
   ]
  },
  {
   "cell_type": "code",
   "execution_count": 182,
   "id": "71bfdcfb-0889-40d8-bb58-870614b0f329",
   "metadata": {},
   "outputs": [
    {
     "data": {
      "text/plain": [
       "\n",
       "Call:\n",
       " randomForest(formula = deposit ~ ., data = train_data, ntree = 100,      mtry = 2, importance = TRUE) \n",
       "               Type of random forest: classification\n",
       "                     Number of trees: 100\n",
       "No. of variables tried at each split: 2\n",
       "\n",
       "        OOB estimate of  error rate: 29.07%\n",
       "Confusion matrix:\n",
       "     0    1 class.error\n",
       "0 3285  550   0.1434159\n",
       "1 1559 1862   0.4557147"
      ]
     },
     "metadata": {},
     "output_type": "display_data"
    }
   ],
   "source": [
    "rf_model"
   ]
  },
  {
   "cell_type": "markdown",
   "id": "5ad56d21-95e3-485c-8dd7-c07e4dbe9917",
   "metadata": {},
   "source": [
    "Можемо провести аналіз важливості параметрів у залежності від критерію `зменшення точності` або `зменшення джині`:"
   ]
  },
  {
   "cell_type": "code",
   "execution_count": 181,
   "id": "4a0597ae-bfdc-488e-aebe-a41cc0124f73",
   "metadata": {},
   "outputs": [
    {
     "data": {
      "image/png": "[encoded data removed]",
      "text/plain": [
       "plot without title"
      ]
     },
     "metadata": {
      "image/png": {
       "height": 420,
       "width": 420
      }
     },
     "output_type": "display_data"
    }
   ],
   "source": [
    "varImpPlot(rf_model)"
   ]
  },
  {
   "cell_type": "markdown",
   "id": "ee5d41da-9f6f-4b61-b4a7-ade8aa729465",
   "metadata": {},
   "source": [
    "- [x] `MeanDecreaseAccuracy`: gives a rough estimate of the loss in prediction performance when that particular variable is omitted from the training set. Caveat: if two variables are somewhat redundant, then omitting one of them may not lead to massive gains in prediction performance, but would make the second variable more important.\n",
    "\n",
    "- [x] `MeanDecreaseGini`: GINI is a measure of node impurity. Think of it like this, if you use this feature to split the data, how pure will the nodes be? Highest purity means that each node contains only elements of a single class. Assessing the decrease in GINI when that feature is omitted leads to an understanding of how important that feature is to split the data correctly."
   ]
  },
  {
   "cell_type": "code",
   "execution_count": 184,
   "id": "51fe01c1-c197-4c78-94fa-d821664e9a0e",
   "metadata": {},
   "outputs": [],
   "source": [
    "train_results$RF <- predict(rf_model, train_data)\n",
    "test_results$RF <- predict(rf_model, test_data)"
   ]
  },
  {
   "cell_type": "markdown",
   "id": "4f2b59ac-fd24-4ac7-8e27-80948517df4d",
   "metadata": {},
   "source": [
    "ROC-крива та AUROC:"
   ]
  },
  {
   "cell_type": "code",
   "execution_count": 186,
   "id": "ecb960e3-1bb1-42f7-adf6-740ace752aef",
   "metadata": {},
   "outputs": [
    {
     "data": {
      "image/png": "[encoded data removed]",
      "text/plain": [
       "plot without title"
      ]
     },
     "metadata": {
      "image/png": {
       "height": 420,
       "width": 420
      }
     },
     "output_type": "display_data"
    }
   ],
   "source": [
    "plotROC(as.numeric(test_results$deposit), as.numeric(test_results$RF))"
   ]
  },
  {
   "cell_type": "code",
   "execution_count": 190,
   "id": "aed74884-d3a2-4502-89b6-26aef71574db",
   "metadata": {},
   "outputs": [
    {
     "data": {
      "text/plain": [
       "Confusion Matrix and Statistics\n",
       "\n",
       "          Reference\n",
       "Prediction    0    1\n",
       "         0 1768  270\n",
       "         1  828 1040\n",
       "                                         \n",
       "               Accuracy : 0.7189         \n",
       "                 95% CI : (0.7045, 0.733)\n",
       "    No Information Rate : 0.6646         \n",
       "    P-Value [Acc > NIR] : 1.754e-13      \n",
       "                                         \n",
       "                  Kappa : 0.4296         \n",
       "                                         \n",
       " Mcnemar's Test P-Value : < 2.2e-16      \n",
       "                                         \n",
       "            Sensitivity : 0.7939         \n",
       "            Specificity : 0.6810         \n",
       "         Pos Pred Value : 0.5567         \n",
       "         Neg Pred Value : 0.8675         \n",
       "             Prevalence : 0.3354         \n",
       "         Detection Rate : 0.2663         \n",
       "   Detection Prevalence : 0.4782         \n",
       "      Balanced Accuracy : 0.7375         \n",
       "                                         \n",
       "       'Positive' Class : 1              \n",
       "                                         "
      ]
     },
     "metadata": {},
     "output_type": "display_data"
    }
   ],
   "source": [
    "# Balanced accuracy is much better the before!\n",
    "cm <- caret::confusionMatrix(factor(test_results$deposit), \n",
    "                             test_results$RF, \n",
    "                             positive = \"1\")\n",
    "cm"
   ]
  },
  {
   "cell_type": "code",
   "execution_count": null,
   "id": "86dcfdb8-a019-4af0-a684-2fa3f6dd4d5f",
   "metadata": {},
   "outputs": [],
   "source": []
  },
  {
   "cell_type": "markdown",
   "id": "0d58b8ad-bec1-4deb-822b-041d97cf5e52",
   "metadata": {},
   "source": [
    "---"
   ]
  },
  {
   "cell_type": "markdown",
   "id": "134d305f-0839-467d-a606-b9405d269153",
   "metadata": {},
   "source": [
    "# 11. xgBoost"
   ]
  },
  {
   "cell_type": "markdown",
   "id": "3ba145ee-9381-4f31-980a-f71a4d684723",
   "metadata": {},
   "source": [
    "Our next step is testing gradient boosting with `xgboost` algorithm."
   ]
  },
  {
   "cell_type": "code",
   "execution_count": 189,
   "id": "1b5251ba-eca6-4f86-a61e-bc0ee1817624",
   "metadata": {},
   "outputs": [],
   "source": [
    "#install.packages(\"xgboost\")\n",
    "library(xgboost)"
   ]
  },
  {
   "cell_type": "markdown",
   "id": "953c546f-bde1-4585-a0ae-3545efcf5de4",
   "metadata": {},
   "source": [
    "For complex algorithm like `random forest` or `xgboost` model training"
   ]
  },
  {
   "cell_type": "markdown",
   "id": "cd5e654b-00f4-4e1e-97ee-0f09c1eb8026",
   "metadata": {},
   "source": [
    "---"
   ]
  },
  {
   "cell_type": "markdown",
   "id": "3a3908d0-0c1d-4597-963d-32024a68e20a",
   "metadata": {},
   "source": [
    "# 12. lightgbm "
   ]
  },
  {
   "cell_type": "markdown",
   "id": "735755a6-97cb-4372-bfa4-407227c11978",
   "metadata": {},
   "source": [
    "---"
   ]
  }
 ],
 "metadata": {
  "kernelspec": {
   "display_name": "R",
   "language": "R",
   "name": "ir"
  },
  "language_info": {
   "codemirror_mode": "r",
   "file_extension": ".r",
   "mimetype": "text/x-r-source",
   "name": "R",
   "pygments_lexer": "r",
   "version": "4.0.5"
  },
  "toc-showtags": true
 },
 "nbformat": 4,
 "nbformat_minor": 5
}
