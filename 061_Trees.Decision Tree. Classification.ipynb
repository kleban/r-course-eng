{
 "cells": [
  {
   "cell_type": "markdown",
   "id": "0c01fab4",
   "metadata": {},
   "source": [
    "# Decision Tree. Classification. Part 1\n",
    "\n",
    "---\n",
    "\n",
    "## Trees based algorithms: Decision Tree, Random Forest, Gradient Boosting\n",
    "\n",
    "\n",
    "Applied Mathematical Modeling in Banking"
   ]
  },
  {
   "cell_type": "markdown",
   "id": "4a9a7f35",
   "metadata": {},
   "source": [
    "---"
   ]
  },
  {
   "cell_type": "markdown",
   "id": "33ed0eac",
   "metadata": {},
   "source": [
    "У даній частині навчального процесу потрібно побудувати маматичні моделі класифікації клієнтів на основі алгоритму дерева рішень та перевірити їх на тестовій вибірці."
   ]
  },
  {
   "cell_type": "markdown",
   "id": "2d7f5ddf",
   "metadata": {},
   "source": [
    "# 1. Dataset description"
   ]
  },
  {
   "cell_type": "markdown",
   "id": "d5ce5705",
   "metadata": {},
   "source": [
    "**Abstract**\n",
    "\n",
    "The data is related with direct marketing campaigns (phone calls) of a Portuguese banking institution. The classification goal is to predict if the client will subscribe a term deposit (variable y).\n",
    "\n"
   ]
  },
  {
   "cell_type": "markdown",
   "id": "746c8202",
   "metadata": {},
   "source": [
    "**Data Set Information:**\n",
    "\n",
    "The data is related with direct marketing campaigns of a Portuguese banking institution. The marketing campaigns were based on phone calls. Often, more than one contact to the same client was required, in order to access if the product (bank term deposit) would be ('yes') or not ('no') subscribed.\n",
    "\n",
    "There are four datasets:\n",
    "1. bank-additional-full.csv with all examples (41188) and 20 inputs, ordered by date (from May 2008 to November 2010), very close to the data analyzed in [Moro et al., 2014]\n",
    "2. bank-additional.csv with 10% of the examples (4119), randomly selected from 1), and 20 inputs.\n",
    "3. bank-full.csv with all examples and 17 inputs, ordered by date (older version of this dataset with less inputs).\n",
    "4. bank.csv with 10% of the examples and 17 inputs, randomly selected from 3 (older version of this dataset with less inputs).\n",
    "\n",
    "The smallest datasets are provided to test more computationally demanding machine learning algorithms (e.g., SVM).\n",
    "\n",
    "The classification goal is to predict if the client will subscribe (`yes/no`) a term deposit (variable `y`)."
   ]
  },
  {
   "cell_type": "markdown",
   "id": "a1975fca",
   "metadata": {},
   "source": [
    "**Attribute Information**\n",
    "\n",
    "\n",
    "**Input variables: bank client data:**\n",
    "\n",
    "|No|Title|Description|Data Type|Values|\n",
    "|---|---|---|---|---|\n",
    "|1|`age`||numeric||\n",
    "|2|`job`|type of job|categorical|'admin.', 'blue-collar', 'entrepreneur', 'housemaid', 'management', 'retired', 'self-employed', 'services', 'student', 'technician', 'unemployed', 'unknown'|\n",
    "|3|`marital`| marital status |categorical| 'divorced','married','single','unknown'; note: 'divorced' means divorced or widowed|\n",
    "|4|`education`| |categorical| 'basic.4y','basic.6y','basic.9y','high.school','illiterate','professional.course','university.degree','unknown'|\n",
    "|5|`default`| has credit in default? |categorical| 'no','yes','unknown'|\n",
    "|6|`housing`| has housing loan? |categorical| 'no','yes','unknown'|\n",
    "|7|`loan`| has personal loan? |categorical| 'no','yes','unknown'|\n",
    "\n",
    "\n",
    "**Input variables: related with the last contact of the current campaign:**\n",
    "\n",
    "|No|Title|Description|Data Type|Values|\n",
    "|---|---|---|---|---|\n",
    "|8| contact| contact communication type |categorical| 'cellular','telephone'|\n",
    "|9 | month| last contact month of year |categorical| 'jan', 'feb', 'mar', ..., 'nov', 'dec'|\n",
    "|10 | day_of_week| last contact day of the week |categorical|'mon','tue','wed','thu','fri'|\n",
    "|11 | duration| last contact duration, in seconds |numeric||. \n",
    "\n",
    "`duration` - **_Important note: this attribute highly affects the output target (e.g., if duration=0 then y='no'). Yet, the duration is not known before a call is performed. Also, after the end of the call y is obviously known. Thus, this \n",
    "input should only be included for benchmark purposes and should be discarded if the intention is to have a realistic predictive model._**\n",
    "\n",
    "**Input variables: other attributes:**\n",
    "\n",
    "|No|Title|Description|Data Type|Values|\n",
    "|---|---|---|---|---|\n",
    "|12 | `campaign`| number of contacts performed during this campaign and for this client |numeric| includes last contact||\n",
    "|13 | `pdays`|number of days that passed by after the client was last contacted from a previous campaign |numeric| 999 mean client was not previously contacted||\n",
    "|14 | `previous`| number of contacts performed before this campaign and for this client |numeric||\n",
    "|15 | `poutcome`| outcome of the previous marketing campaign |categorical| 'failure','nonexistent','success'|\n",
    "\n",
    "**Input variables: social and economic context attributes**\n",
    "\n",
    "|No|Title|Description|Data Type|Values|\n",
    "|---|---|---|---|---|\n",
    "|16 | `emp.var.rate`| employment variation rate - quarterly indicator |numeric||\n",
    "|17 | `cons.price.idx`| consumer price index - monthly indicator |numeric||\n",
    "|18 | `cons.conf.idx`| consumer confidence index - monthly indicator ||numeric||\n",
    "|19 | `euribor3m`| euribor 3 month rate - daily indicator |numeric||\n",
    "|20 | `nr.employed`|number of employees - quarterly indicator |numeric||\n",
    "\n",
    "**Output variable (desired target):**\n",
    "\n",
    "|No|Title|Description|Data Type|Values|\n",
    "|---|---|---|---|---|\n",
    "|21| `y` | has the client subscribed a term deposit? |binary| 'yes','no'|"
   ]
  },
  {
   "cell_type": "markdown",
   "id": "a6fd87bd",
   "metadata": {},
   "source": [
    "Source: https://archive.ics.uci.edu/ml/datasets/bank+marketing\n"
   ]
  },
  {
   "cell_type": "markdown",
   "id": "1387b762",
   "metadata": {},
   "source": [
    "---"
   ]
  },
  {
   "cell_type": "markdown",
   "id": "452cd3dd",
   "metadata": {},
   "source": [
    "# 2. Data load and preview"
   ]
  },
  {
   "cell_type": "markdown",
   "id": "47ee4f3c",
   "metadata": {},
   "source": [
    "Для початку завантажимо дані у змінну `data`:"
   ]
  },
  {
   "cell_type": "code",
   "execution_count": 1,
   "id": "e391345b",
   "metadata": {},
   "outputs": [],
   "source": [
    "data <- read.csv(\"data/banking.csv\", \n",
    "                 na.strings = c(\"\", \" \", \"NA\", \"NULL\"), # fix missing as NA if present\n",
    "                 stringsAsFactors = TRUE) # set strings as factor, we need this for some algorithms\n",
    "#use + unknown with na.strings if you want to play with missing\n",
    "#data <- read.csv(\"data/banking.csv\", na.strings = c(\"\", \" \", \"NA\", \"NULL\", \"unknown\"))"
   ]
  },
  {
   "cell_type": "markdown",
   "id": "57278ad9",
   "metadata": {},
   "source": [
    "Переглянемо структуру вибірки даних з `str()`:"
   ]
  },
  {
   "cell_type": "code",
   "execution_count": 3,
   "id": "cbb561e7",
   "metadata": {},
   "outputs": [
    {
     "name": "stdout",
     "output_type": "stream",
     "text": [
      "'data.frame':\t11162 obs. of  17 variables:\n",
      " $ age      : int  59 56 41 55 54 42 56 60 37 28 ...\n",
      " $ job      : Factor w/ 12 levels \"admin.\",\"blue-collar\",..: 1 1 10 8 1 5 5 6 10 8 ...\n",
      " $ marital  : Factor w/ 3 levels \"divorced\",\"married\",..: 2 2 2 2 2 3 2 1 2 3 ...\n",
      " $ education: Factor w/ 4 levels \"primary\",\"secondary\",..: 2 2 2 2 3 3 3 2 2 2 ...\n",
      " $ default  : Factor w/ 2 levels \"no\",\"yes\": 1 1 1 1 1 1 1 1 1 1 ...\n",
      " $ balance  : int  2343 45 1270 2476 184 0 830 545 1 5090 ...\n",
      " $ housing  : Factor w/ 2 levels \"no\",\"yes\": 2 1 2 2 1 2 2 2 2 2 ...\n",
      " $ loan     : Factor w/ 2 levels \"no\",\"yes\": 1 1 1 1 1 2 2 1 1 1 ...\n",
      " $ contact  : Factor w/ 3 levels \"cellular\",\"telephone\",..: 3 3 3 3 3 3 3 3 3 3 ...\n",
      " $ day      : int  5 5 5 5 5 5 6 6 6 6 ...\n",
      " $ month    : Factor w/ 12 levels \"apr\",\"aug\",\"dec\",..: 9 9 9 9 9 9 9 9 9 9 ...\n",
      " $ duration : int  1042 1467 1389 579 673 562 1201 1030 608 1297 ...\n",
      " $ campaign : int  1 1 1 1 2 2 1 1 1 3 ...\n",
      " $ pdays    : int  -1 -1 -1 -1 -1 -1 -1 -1 -1 -1 ...\n",
      " $ previous : int  0 0 0 0 0 0 0 0 0 0 ...\n",
      " $ poutcome : Factor w/ 4 levels \"failure\",\"other\",..: 4 4 4 4 4 4 4 4 4 4 ...\n",
      " $ deposit  : Factor w/ 2 levels \"no\",\"yes\": 2 2 2 2 2 2 2 2 2 2 ...\n"
     ]
    }
   ],
   "source": [
    "str(data)"
   ]
  },
  {
   "cell_type": "markdown",
   "id": "6749541f",
   "metadata": {},
   "source": [
    "Переглянемо вигляд перших рядків даних з `head()`:"
   ]
  },
  {
   "cell_type": "code",
   "execution_count": 4,
   "id": "bcd53093",
   "metadata": {},
   "outputs": [
    {
     "data": {
      "text/html": [
       "<table class=\"dataframe\">\n",
       "<caption>A data.frame: 6 × 17</caption>\n",
       "<thead>\n",
       "\t<tr><th></th><th scope=col>age</th><th scope=col>job</th><th scope=col>marital</th><th scope=col>education</th><th scope=col>default</th><th scope=col>balance</th><th scope=col>housing</th><th scope=col>loan</th><th scope=col>contact</th><th scope=col>day</th><th scope=col>month</th><th scope=col>duration</th><th scope=col>campaign</th><th scope=col>pdays</th><th scope=col>previous</th><th scope=col>poutcome</th><th scope=col>deposit</th></tr>\n",
       "\t<tr><th></th><th scope=col>&lt;int&gt;</th><th scope=col>&lt;fct&gt;</th><th scope=col>&lt;fct&gt;</th><th scope=col>&lt;fct&gt;</th><th scope=col>&lt;fct&gt;</th><th scope=col>&lt;int&gt;</th><th scope=col>&lt;fct&gt;</th><th scope=col>&lt;fct&gt;</th><th scope=col>&lt;fct&gt;</th><th scope=col>&lt;int&gt;</th><th scope=col>&lt;fct&gt;</th><th scope=col>&lt;int&gt;</th><th scope=col>&lt;int&gt;</th><th scope=col>&lt;int&gt;</th><th scope=col>&lt;int&gt;</th><th scope=col>&lt;fct&gt;</th><th scope=col>&lt;fct&gt;</th></tr>\n",
       "</thead>\n",
       "<tbody>\n",
       "\t<tr><th scope=row>1</th><td>59</td><td>admin.    </td><td>married</td><td>secondary</td><td>no</td><td>2343</td><td>yes</td><td>no </td><td>unknown</td><td>5</td><td>may</td><td>1042</td><td>1</td><td>-1</td><td>0</td><td>unknown</td><td>yes</td></tr>\n",
       "\t<tr><th scope=row>2</th><td>56</td><td>admin.    </td><td>married</td><td>secondary</td><td>no</td><td>  45</td><td>no </td><td>no </td><td>unknown</td><td>5</td><td>may</td><td>1467</td><td>1</td><td>-1</td><td>0</td><td>unknown</td><td>yes</td></tr>\n",
       "\t<tr><th scope=row>3</th><td>41</td><td>technician</td><td>married</td><td>secondary</td><td>no</td><td>1270</td><td>yes</td><td>no </td><td>unknown</td><td>5</td><td>may</td><td>1389</td><td>1</td><td>-1</td><td>0</td><td>unknown</td><td>yes</td></tr>\n",
       "\t<tr><th scope=row>4</th><td>55</td><td>services  </td><td>married</td><td>secondary</td><td>no</td><td>2476</td><td>yes</td><td>no </td><td>unknown</td><td>5</td><td>may</td><td> 579</td><td>1</td><td>-1</td><td>0</td><td>unknown</td><td>yes</td></tr>\n",
       "\t<tr><th scope=row>5</th><td>54</td><td>admin.    </td><td>married</td><td>tertiary </td><td>no</td><td> 184</td><td>no </td><td>no </td><td>unknown</td><td>5</td><td>may</td><td> 673</td><td>2</td><td>-1</td><td>0</td><td>unknown</td><td>yes</td></tr>\n",
       "\t<tr><th scope=row>6</th><td>42</td><td>management</td><td>single </td><td>tertiary </td><td>no</td><td>   0</td><td>yes</td><td>yes</td><td>unknown</td><td>5</td><td>may</td><td> 562</td><td>2</td><td>-1</td><td>0</td><td>unknown</td><td>yes</td></tr>\n",
       "</tbody>\n",
       "</table>\n"
      ],
      "text/latex": [
       "A data.frame: 6 × 17\n",
       "\\begin{tabular}{r|lllllllllllllllll}\n",
       "  & age & job & marital & education & default & balance & housing & loan & contact & day & month & duration & campaign & pdays & previous & poutcome & deposit\\\\\n",
       "  & <int> & <fct> & <fct> & <fct> & <fct> & <int> & <fct> & <fct> & <fct> & <int> & <fct> & <int> & <int> & <int> & <int> & <fct> & <fct>\\\\\n",
       "\\hline\n",
       "\t1 & 59 & admin.     & married & secondary & no & 2343 & yes & no  & unknown & 5 & may & 1042 & 1 & -1 & 0 & unknown & yes\\\\\n",
       "\t2 & 56 & admin.     & married & secondary & no &   45 & no  & no  & unknown & 5 & may & 1467 & 1 & -1 & 0 & unknown & yes\\\\\n",
       "\t3 & 41 & technician & married & secondary & no & 1270 & yes & no  & unknown & 5 & may & 1389 & 1 & -1 & 0 & unknown & yes\\\\\n",
       "\t4 & 55 & services   & married & secondary & no & 2476 & yes & no  & unknown & 5 & may &  579 & 1 & -1 & 0 & unknown & yes\\\\\n",
       "\t5 & 54 & admin.     & married & tertiary  & no &  184 & no  & no  & unknown & 5 & may &  673 & 2 & -1 & 0 & unknown & yes\\\\\n",
       "\t6 & 42 & management & single  & tertiary  & no &    0 & yes & yes & unknown & 5 & may &  562 & 2 & -1 & 0 & unknown & yes\\\\\n",
       "\\end{tabular}\n"
      ],
      "text/markdown": [
       "\n",
       "A data.frame: 6 × 17\n",
       "\n",
       "| <!--/--> | age &lt;int&gt; | job &lt;fct&gt; | marital &lt;fct&gt; | education &lt;fct&gt; | default &lt;fct&gt; | balance &lt;int&gt; | housing &lt;fct&gt; | loan &lt;fct&gt; | contact &lt;fct&gt; | day &lt;int&gt; | month &lt;fct&gt; | duration &lt;int&gt; | campaign &lt;int&gt; | pdays &lt;int&gt; | previous &lt;int&gt; | poutcome &lt;fct&gt; | deposit &lt;fct&gt; |\n",
       "|---|---|---|---|---|---|---|---|---|---|---|---|---|---|---|---|---|---|\n",
       "| 1 | 59 | admin.     | married | secondary | no | 2343 | yes | no  | unknown | 5 | may | 1042 | 1 | -1 | 0 | unknown | yes |\n",
       "| 2 | 56 | admin.     | married | secondary | no |   45 | no  | no  | unknown | 5 | may | 1467 | 1 | -1 | 0 | unknown | yes |\n",
       "| 3 | 41 | technician | married | secondary | no | 1270 | yes | no  | unknown | 5 | may | 1389 | 1 | -1 | 0 | unknown | yes |\n",
       "| 4 | 55 | services   | married | secondary | no | 2476 | yes | no  | unknown | 5 | may |  579 | 1 | -1 | 0 | unknown | yes |\n",
       "| 5 | 54 | admin.     | married | tertiary  | no |  184 | no  | no  | unknown | 5 | may |  673 | 2 | -1 | 0 | unknown | yes |\n",
       "| 6 | 42 | management | single  | tertiary  | no |    0 | yes | yes | unknown | 5 | may |  562 | 2 | -1 | 0 | unknown | yes |\n",
       "\n"
      ],
      "text/plain": [
       "  age job        marital education default balance housing loan contact day\n",
       "1 59  admin.     married secondary no      2343    yes     no   unknown 5  \n",
       "2 56  admin.     married secondary no        45    no      no   unknown 5  \n",
       "3 41  technician married secondary no      1270    yes     no   unknown 5  \n",
       "4 55  services   married secondary no      2476    yes     no   unknown 5  \n",
       "5 54  admin.     married tertiary  no       184    no      no   unknown 5  \n",
       "6 42  management single  tertiary  no         0    yes     yes  unknown 5  \n",
       "  month duration campaign pdays previous poutcome deposit\n",
       "1 may   1042     1        -1    0        unknown  yes    \n",
       "2 may   1467     1        -1    0        unknown  yes    \n",
       "3 may   1389     1        -1    0        unknown  yes    \n",
       "4 may    579     1        -1    0        unknown  yes    \n",
       "5 may    673     2        -1    0        unknown  yes    \n",
       "6 may    562     2        -1    0        unknown  yes    "
      ]
     },
     "metadata": {},
     "output_type": "display_data"
    }
   ],
   "source": [
    "head(data)"
   ]
  },
  {
   "cell_type": "markdown",
   "id": "250ad602",
   "metadata": {},
   "source": [
    "Описова статистика факторів:"
   ]
  },
  {
   "cell_type": "code",
   "execution_count": 5,
   "id": "16afb4ca",
   "metadata": {},
   "outputs": [
    {
     "data": {
      "text/plain": [
       "      age                 job           marital         education   \n",
       " Min.   :18.00   management :2566   divorced:1293   primary  :1500  \n",
       " 1st Qu.:32.00   blue-collar:1944   married :6351   secondary:5476  \n",
       " Median :39.00   technician :1823   single  :3518   tertiary :3689  \n",
       " Mean   :41.23   admin.     :1334                   unknown  : 497  \n",
       " 3rd Qu.:49.00   services   : 923                                   \n",
       " Max.   :95.00   retired    : 778                                   \n",
       "                 (Other)    :1794                                   \n",
       " default        balance      housing     loan           contact    \n",
       " no :10994   Min.   :-6847   no :5881   no :9702   cellular :8042  \n",
       " yes:  168   1st Qu.:  122   yes:5281   yes:1460   telephone: 774  \n",
       "             Median :  550                         unknown  :2346  \n",
       "             Mean   : 1529                                         \n",
       "             3rd Qu.: 1708                                         \n",
       "             Max.   :81204                                         \n",
       "                                                                   \n",
       "      day            month         duration       campaign     \n",
       " Min.   : 1.00   may    :2824   Min.   :   2   Min.   : 1.000  \n",
       " 1st Qu.: 8.00   aug    :1519   1st Qu.: 138   1st Qu.: 1.000  \n",
       " Median :15.00   jul    :1514   Median : 255   Median : 2.000  \n",
       " Mean   :15.66   jun    :1222   Mean   : 372   Mean   : 2.508  \n",
       " 3rd Qu.:22.00   nov    : 943   3rd Qu.: 496   3rd Qu.: 3.000  \n",
       " Max.   :31.00   apr    : 923   Max.   :3881   Max.   :63.000  \n",
       "                 (Other):2217                                  \n",
       "     pdays           previous          poutcome    deposit   \n",
       " Min.   : -1.00   Min.   : 0.0000   failure:1228   no :5873  \n",
       " 1st Qu.: -1.00   1st Qu.: 0.0000   other  : 537   yes:5289  \n",
       " Median : -1.00   Median : 0.0000   success:1071             \n",
       " Mean   : 51.33   Mean   : 0.8326   unknown:8326             \n",
       " 3rd Qu.: 20.75   3rd Qu.: 1.0000                            \n",
       " Max.   :854.00   Max.   :58.0000                            \n",
       "                                                             "
      ]
     },
     "metadata": {},
     "output_type": "display_data"
    }
   ],
   "source": [
    "summary(data)"
   ]
  },
  {
   "cell_type": "markdown",
   "id": "973eb491",
   "metadata": {},
   "source": [
    "Перевіримо вибірку на наявність пропусків:"
   ]
  },
  {
   "cell_type": "code",
   "execution_count": 6,
   "id": "82c5c3c9",
   "metadata": {},
   "outputs": [
    {
     "name": "stderr",
     "output_type": "stream",
     "text": [
      "\n",
      "Attaching package: ‘mice’\n",
      "\n",
      "\n",
      "The following object is masked from ‘package:stats’:\n",
      "\n",
      "    filter\n",
      "\n",
      "\n",
      "The following objects are masked from ‘package:base’:\n",
      "\n",
      "    cbind, rbind\n",
      "\n",
      "\n"
     ]
    },
    {
     "name": "stdout",
     "output_type": "stream",
     "text": [
      " /\\     /\\\n",
      "{  `---'  }\n",
      "{  O   O  }\n",
      "==>  V <==  No need for mice. This data set is completely observed.\n",
      " \\  \\|/  /\n",
      "  `-----'\n",
      "\n"
     ]
    },
    {
     "data": {
      "text/html": [
       "<table class=\"dataframe\">\n",
       "<caption>A matrix: 2 × 18 of type dbl</caption>\n",
       "<thead>\n",
       "\t<tr><th></th><th scope=col>age</th><th scope=col>job</th><th scope=col>marital</th><th scope=col>education</th><th scope=col>default</th><th scope=col>balance</th><th scope=col>housing</th><th scope=col>loan</th><th scope=col>contact</th><th scope=col>day</th><th scope=col>month</th><th scope=col>duration</th><th scope=col>campaign</th><th scope=col>pdays</th><th scope=col>previous</th><th scope=col>poutcome</th><th scope=col>deposit</th><th scope=col></th></tr>\n",
       "</thead>\n",
       "<tbody>\n",
       "\t<tr><th scope=row>11162</th><td>1</td><td>1</td><td>1</td><td>1</td><td>1</td><td>1</td><td>1</td><td>1</td><td>1</td><td>1</td><td>1</td><td>1</td><td>1</td><td>1</td><td>1</td><td>1</td><td>1</td><td>0</td></tr>\n",
       "\t<tr><th scope=row></th><td>0</td><td>0</td><td>0</td><td>0</td><td>0</td><td>0</td><td>0</td><td>0</td><td>0</td><td>0</td><td>0</td><td>0</td><td>0</td><td>0</td><td>0</td><td>0</td><td>0</td><td>0</td></tr>\n",
       "</tbody>\n",
       "</table>\n"
      ],
      "text/latex": [
       "A matrix: 2 × 18 of type dbl\n",
       "\\begin{tabular}{r|llllllllllllllllll}\n",
       "  & age & job & marital & education & default & balance & housing & loan & contact & day & month & duration & campaign & pdays & previous & poutcome & deposit & \\\\\n",
       "\\hline\n",
       "\t11162 & 1 & 1 & 1 & 1 & 1 & 1 & 1 & 1 & 1 & 1 & 1 & 1 & 1 & 1 & 1 & 1 & 1 & 0\\\\\n",
       "\t & 0 & 0 & 0 & 0 & 0 & 0 & 0 & 0 & 0 & 0 & 0 & 0 & 0 & 0 & 0 & 0 & 0 & 0\\\\\n",
       "\\end{tabular}\n"
      ],
      "text/markdown": [
       "\n",
       "A matrix: 2 × 18 of type dbl\n",
       "\n",
       "| <!--/--> | age | job | marital | education | default | balance | housing | loan | contact | day | month | duration | campaign | pdays | previous | poutcome | deposit | <!----> |\n",
       "|---|---|---|---|---|---|---|---|---|---|---|---|---|---|---|---|---|---|---|\n",
       "| 11162 | 1 | 1 | 1 | 1 | 1 | 1 | 1 | 1 | 1 | 1 | 1 | 1 | 1 | 1 | 1 | 1 | 1 | 0 |\n",
       "| <!----> | 0 | 0 | 0 | 0 | 0 | 0 | 0 | 0 | 0 | 0 | 0 | 0 | 0 | 0 | 0 | 0 | 0 | 0 |\n",
       "\n"
      ],
      "text/plain": [
       "      age job marital education default balance housing loan contact day month\n",
       "11162 1   1   1       1         1       1       1       1    1       1   1    \n",
       "      0   0   0       0         0       0       0       0    0       0   0    \n",
       "      duration campaign pdays previous poutcome deposit  \n",
       "11162 1        1        1     1        1        1       0\n",
       "      0        0        0     0        0        0       0"
      ]
     },
     "metadata": {},
     "output_type": "display_data"
    },
    {
     "data": {
      "image/png": "[encoded data removed]",
      "text/plain": [
       "plot without title"
      ]
     },
     "metadata": {
      "image/png": {
       "height": 420,
       "width": 420
      }
     },
     "output_type": "display_data"
    }
   ],
   "source": [
    "library(mice)\n",
    "md.pattern(data) # OK"
   ]
  },
  {
   "cell_type": "code",
   "execution_count": 7,
   "id": "fb0d5420-9b22-4106-ad4a-2cb24e969af6",
   "metadata": {},
   "outputs": [
    {
     "data": {
      "text/html": [
       "FALSE"
      ],
      "text/latex": [
       "FALSE"
      ],
      "text/markdown": [
       "FALSE"
      ],
      "text/plain": [
       "[1] FALSE"
      ]
     },
     "metadata": {},
     "output_type": "display_data"
    }
   ],
   "source": [
    "anyNA(data)"
   ]
  },
  {
   "cell_type": "markdown",
   "id": "6e811f87",
   "metadata": {},
   "source": [
    "---"
   ]
  },
  {
   "cell_type": "markdown",
   "id": "aace7da6",
   "metadata": {},
   "source": [
    "# 3. Data visualization"
   ]
  },
  {
   "cell_type": "markdown",
   "id": "f8b27c14",
   "metadata": {},
   "source": [
    "**Вік клієнта (age):**"
   ]
  },
  {
   "cell_type": "code",
   "execution_count": 8,
   "id": "c5faea4e",
   "metadata": {},
   "outputs": [
    {
     "data": {
      "image/png": "[encoded data removed]",
      "text/plain": [
       "plot without title"
      ]
     },
     "metadata": {
      "image/png": {
       "height": 420,
       "width": 420
      }
     },
     "output_type": "display_data"
    }
   ],
   "source": [
    "library(ggplot2)\n",
    "\n",
    "ggplot(data, aes(age)) + \n",
    "    geom_histogram(bins = 20, alpha = 0.5, fill = 'blue', color='black')  + \n",
    "    theme_bw()"
   ]
  },
  {
   "cell_type": "markdown",
   "id": "15d98c1a",
   "metadata": {},
   "source": [
    "**Робота клієнта (job):**"
   ]
  },
  {
   "cell_type": "code",
   "execution_count": 9,
   "id": "469560f1",
   "metadata": {},
   "outputs": [
    {
     "data": {
      "image/png": "[encoded data removed]",
      "text/plain": [
       "plot without title"
      ]
     },
     "metadata": {
      "image/png": {
       "height": 420,
       "width": 420
      }
     },
     "output_type": "display_data"
    }
   ],
   "source": [
    "ggplot(data, aes(job)) + \n",
    "    geom_bar(aes(fill = job)) + \n",
    "    theme_bw()"
   ]
  },
  {
   "cell_type": "code",
   "execution_count": 11,
   "id": "06dfd76d",
   "metadata": {},
   "outputs": [
    {
     "name": "stdout",
     "output_type": "stream",
     "text": [
      "\n",
      " \n",
      "   Cell Contents\n",
      "|-------------------------|\n",
      "|                       N |\n",
      "| Chi-square contribution |\n",
      "|           N / Row Total |\n",
      "|           N / Col Total |\n",
      "|         N / Table Total |\n",
      "|-------------------------|\n",
      "\n",
      " \n",
      "Total Observations in Table:  11162 \n",
      "\n",
      " \n",
      "              | data$deposit \n",
      "     data$job |        no |       yes | Row Total | \n",
      "--------------|-----------|-----------|-----------|\n",
      "       admin. |       703 |       631 |      1334 | \n",
      "              |     0.002 |     0.002 |           | \n",
      "              |     0.527 |     0.473 |     0.120 | \n",
      "              |     0.120 |     0.119 |           | \n",
      "              |     0.063 |     0.057 |           | \n",
      "--------------|-----------|-----------|-----------|\n",
      "  blue-collar |      1236 |       708 |      1944 | \n",
      "              |    44.415 |    49.320 |           | \n",
      "              |     0.636 |     0.364 |     0.174 | \n",
      "              |     0.210 |     0.134 |           | \n",
      "              |     0.111 |     0.063 |           | \n",
      "--------------|-----------|-----------|-----------|\n",
      " entrepreneur |       205 |       123 |       328 | \n",
      "              |     6.090 |     6.762 |           | \n",
      "              |     0.625 |     0.375 |     0.029 | \n",
      "              |     0.035 |     0.023 |           | \n",
      "              |     0.018 |     0.011 |           | \n",
      "--------------|-----------|-----------|-----------|\n",
      "    housemaid |       165 |       109 |       274 | \n",
      "              |     3.010 |     3.343 |           | \n",
      "              |     0.602 |     0.398 |     0.025 | \n",
      "              |     0.028 |     0.021 |           | \n",
      "              |     0.015 |     0.010 |           | \n",
      "--------------|-----------|-----------|-----------|\n",
      "   management |      1265 |      1301 |      2566 | \n",
      "              |     5.367 |     5.960 |           | \n",
      "              |     0.493 |     0.507 |     0.230 | \n",
      "              |     0.215 |     0.246 |           | \n",
      "              |     0.113 |     0.117 |           | \n",
      "--------------|-----------|-----------|-----------|\n",
      "      retired |       262 |       516 |       778 | \n",
      "              |    53.042 |    58.899 |           | \n",
      "              |     0.337 |     0.663 |     0.070 | \n",
      "              |     0.045 |     0.098 |           | \n",
      "              |     0.023 |     0.046 |           | \n",
      "--------------|-----------|-----------|-----------|\n",
      "self-employed |       218 |       187 |       405 | \n",
      "              |     0.113 |     0.125 |           | \n",
      "              |     0.538 |     0.462 |     0.036 | \n",
      "              |     0.037 |     0.035 |           | \n",
      "              |     0.020 |     0.017 |           | \n",
      "--------------|-----------|-----------|-----------|\n",
      "     services |       554 |       369 |       923 | \n",
      "              |     9.621 |    10.683 |           | \n",
      "              |     0.600 |     0.400 |     0.083 | \n",
      "              |     0.094 |     0.070 |           | \n",
      "              |     0.050 |     0.033 |           | \n",
      "--------------|-----------|-----------|-----------|\n",
      "      student |        91 |       269 |       360 | \n",
      "              |    51.136 |    56.782 |           | \n",
      "              |     0.253 |     0.747 |     0.032 | \n",
      "              |     0.015 |     0.051 |           | \n",
      "              |     0.008 |     0.024 |           | \n",
      "--------------|-----------|-----------|-----------|\n",
      "   technician |       983 |       840 |      1823 | \n",
      "              |     0.591 |     0.656 |           | \n",
      "              |     0.539 |     0.461 |     0.163 | \n",
      "              |     0.167 |     0.159 |           | \n",
      "              |     0.088 |     0.075 |           | \n",
      "--------------|-----------|-----------|-----------|\n",
      "   unemployed |       155 |       202 |       357 | \n",
      "              |     5.741 |     6.375 |           | \n",
      "              |     0.434 |     0.566 |     0.032 | \n",
      "              |     0.026 |     0.038 |           | \n",
      "              |     0.014 |     0.018 |           | \n",
      "--------------|-----------|-----------|-----------|\n",
      "      unknown |        36 |        34 |        70 | \n",
      "              |     0.019 |     0.021 |           | \n",
      "              |     0.514 |     0.486 |     0.006 | \n",
      "              |     0.006 |     0.006 |           | \n",
      "              |     0.003 |     0.003 |           | \n",
      "--------------|-----------|-----------|-----------|\n",
      " Column Total |      5873 |      5289 |     11162 | \n",
      "              |     0.526 |     0.474 |           | \n",
      "--------------|-----------|-----------|-----------|\n",
      "\n",
      " \n"
     ]
    }
   ],
   "source": [
    "library(gmodels)\n",
    "CrossTable(data$job, data$deposit)\n",
    "# more loyal to deposits are management, retired, student, unemployed ))"
   ]
  },
  {
   "cell_type": "markdown",
   "id": "52124e35",
   "metadata": {},
   "source": [
    "**Сімейний статус (marital):**"
   ]
  },
  {
   "cell_type": "code",
   "execution_count": 12,
   "id": "34bb4df3",
   "metadata": {},
   "outputs": [
    {
     "data": {
      "image/png": "[encoded data removed]",
      "text/plain": [
       "plot without title"
      ]
     },
     "metadata": {
      "image/png": {
       "height": 420,
       "width": 420
      }
     },
     "output_type": "display_data"
    }
   ],
   "source": [
    "ggplot(data, aes(marital)) + \n",
    "    geom_bar(aes(fill = marital)) + \n",
    "    theme_bw()"
   ]
  },
  {
   "cell_type": "code",
   "execution_count": 13,
   "id": "440abf12",
   "metadata": {},
   "outputs": [
    {
     "name": "stdout",
     "output_type": "stream",
     "text": [
      "\n",
      " \n",
      "   Cell Contents\n",
      "|-------------------------|\n",
      "|                       N |\n",
      "| Chi-square contribution |\n",
      "|           N / Row Total |\n",
      "|           N / Col Total |\n",
      "|         N / Table Total |\n",
      "|-------------------------|\n",
      "\n",
      " \n",
      "Total Observations in Table:  11162 \n",
      "\n",
      " \n",
      "             | data$deposit \n",
      "data$marital |        no |       yes | Row Total | \n",
      "-------------|-----------|-----------|-----------|\n",
      "    divorced |       671 |       622 |      1293 | \n",
      "             |     0.128 |     0.142 |           | \n",
      "             |     0.519 |     0.481 |     0.116 | \n",
      "             |     0.114 |     0.118 |           | \n",
      "             |     0.060 |     0.056 |           | \n",
      "-------------|-----------|-----------|-----------|\n",
      "     married |      3596 |      2755 |      6351 | \n",
      "             |    19.361 |    21.499 |           | \n",
      "             |     0.566 |     0.434 |     0.569 | \n",
      "             |     0.612 |     0.521 |           | \n",
      "             |     0.322 |     0.247 |           | \n",
      "-------------|-----------|-----------|-----------|\n",
      "      single |      1606 |      1912 |      3518 | \n",
      "             |    32.436 |    36.018 |           | \n",
      "             |     0.457 |     0.543 |     0.315 | \n",
      "             |     0.273 |     0.362 |           | \n",
      "             |     0.144 |     0.171 |           | \n",
      "-------------|-----------|-----------|-----------|\n",
      "Column Total |      5873 |      5289 |     11162 | \n",
      "             |     0.526 |     0.474 |           | \n",
      "-------------|-----------|-----------|-----------|\n",
      "\n",
      " \n"
     ]
    }
   ],
   "source": [
    "CrossTable(data$marital, data$deposit)\n",
    "# married are not very loyal to deposits\n",
    "# but singles is more loyal"
   ]
  },
  {
   "cell_type": "markdown",
   "id": "935850f1",
   "metadata": {},
   "source": [
    "**Освіта (education):**"
   ]
  },
  {
   "cell_type": "code",
   "execution_count": 11,
   "id": "7feefe90",
   "metadata": {},
   "outputs": [
    {
     "data": {
      "image/png": "[encoded data removed]",
      "text/plain": [
       "plot without title"
      ]
     },
     "metadata": {
      "image/png": {
       "height": 420,
       "width": 420
      }
     },
     "output_type": "display_data"
    }
   ],
   "source": [
    "ggplot(data, aes(education)) + \n",
    "    geom_bar(aes(fill = education)) + \n",
    "    theme_bw()"
   ]
  },
  {
   "cell_type": "code",
   "execution_count": 12,
   "id": "308da68a",
   "metadata": {},
   "outputs": [
    {
     "name": "stdout",
     "output_type": "stream",
     "text": [
      "\n",
      " \n",
      "   Cell Contents\n",
      "|-------------------------|\n",
      "|                       N |\n",
      "| Chi-square contribution |\n",
      "|           N / Row Total |\n",
      "|           N / Col Total |\n",
      "|         N / Table Total |\n",
      "|-------------------------|\n",
      "\n",
      " \n",
      "Total Observations in Table:  11162 \n",
      "\n",
      " \n",
      "               | data$deposit \n",
      "data$education |        no |       yes | Row Total | \n",
      "---------------|-----------|-----------|-----------|\n",
      "       primary |       909 |       591 |      1500 | \n",
      "               |    18.172 |    20.179 |           | \n",
      "               |     0.606 |     0.394 |     0.134 | \n",
      "               |     0.155 |     0.112 |           | \n",
      "               |     0.081 |     0.053 |           | \n",
      "---------------|-----------|-----------|-----------|\n",
      "     secondary |      3026 |      2450 |      5476 | \n",
      "               |     7.272 |     8.075 |           | \n",
      "               |     0.553 |     0.447 |     0.491 | \n",
      "               |     0.515 |     0.463 |           | \n",
      "               |     0.271 |     0.219 |           | \n",
      "---------------|-----------|-----------|-----------|\n",
      "      tertiary |      1693 |      1996 |      3689 | \n",
      "               |    31.688 |    35.187 |           | \n",
      "               |     0.459 |     0.541 |     0.330 | \n",
      "               |     0.288 |     0.377 |           | \n",
      "               |     0.152 |     0.179 |           | \n",
      "---------------|-----------|-----------|-----------|\n",
      "       unknown |       245 |       252 |       497 | \n",
      "               |     1.041 |     1.156 |           | \n",
      "               |     0.493 |     0.507 |     0.045 | \n",
      "               |     0.042 |     0.048 |           | \n",
      "               |     0.022 |     0.023 |           | \n",
      "---------------|-----------|-----------|-----------|\n",
      "  Column Total |      5873 |      5289 |     11162 | \n",
      "               |     0.526 |     0.474 |           | \n",
      "---------------|-----------|-----------|-----------|\n",
      "\n",
      " \n"
     ]
    }
   ],
   "source": [
    "CrossTable(data$education, data$deposit)\n",
    "# people with tertiary education is more loyal than other groups"
   ]
  },
  {
   "cell_type": "markdown",
   "id": "2a047a5a",
   "metadata": {},
   "source": [
    "**Дефолт (default):**"
   ]
  },
  {
   "cell_type": "code",
   "execution_count": 15,
   "id": "5de59c29",
   "metadata": {},
   "outputs": [
    {
     "data": {
      "image/png": "[encoded data removed]",
      "text/plain": [
       "plot without title"
      ]
     },
     "metadata": {
      "image/png": {
       "height": 420,
       "width": 420
      }
     },
     "output_type": "display_data"
    }
   ],
   "source": [
    "ggplot(data, aes(default)) + \n",
    "    geom_bar(aes(fill = default)) + \n",
    "    theme_bw()"
   ]
  },
  {
   "cell_type": "code",
   "execution_count": 14,
   "id": "9579c9f3",
   "metadata": {},
   "outputs": [
    {
     "name": "stdout",
     "output_type": "stream",
     "text": [
      "\n",
      " \n",
      "   Cell Contents\n",
      "|-------------------------|\n",
      "|                       N |\n",
      "| Chi-square contribution |\n",
      "|           N / Row Total |\n",
      "|           N / Col Total |\n",
      "|         N / Table Total |\n",
      "|-------------------------|\n",
      "\n",
      " \n",
      "Total Observations in Table:  11162 \n",
      "\n",
      " \n",
      "             | data$deposit \n",
      "data$default |        no |       yes | Row Total | \n",
      "-------------|-----------|-----------|-----------|\n",
      "          no |      5757 |      5237 |     10994 | \n",
      "             |     0.132 |     0.146 |           | \n",
      "             |     0.524 |     0.476 |     0.985 | \n",
      "             |     0.980 |     0.990 |           | \n",
      "             |     0.516 |     0.469 |           | \n",
      "-------------|-----------|-----------|-----------|\n",
      "         yes |       116 |        52 |       168 | \n",
      "             |     8.621 |     9.573 |           | \n",
      "             |     0.690 |     0.310 |     0.015 | \n",
      "             |     0.020 |     0.010 |           | \n",
      "             |     0.010 |     0.005 |           | \n",
      "-------------|-----------|-----------|-----------|\n",
      "Column Total |      5873 |      5289 |     11162 | \n",
      "             |     0.526 |     0.474 |           | \n",
      "-------------|-----------|-----------|-----------|\n",
      "\n",
      " \n"
     ]
    }
   ],
   "source": [
    "CrossTable(data$default, data$deposit)\n",
    "# defaults not very loyal to deposits, but why? ))))))"
   ]
  },
  {
   "cell_type": "markdown",
   "id": "58739d21",
   "metadata": {},
   "source": [
    "**Баланс (balance):**"
   ]
  },
  {
   "cell_type": "code",
   "execution_count": 16,
   "id": "866e3c89",
   "metadata": {},
   "outputs": [
    {
     "data": {
      "image/png": "[encoded data removed]",
      "text/plain": [
       "plot without title"
      ]
     },
     "metadata": {
      "image/png": {
       "height": 420,
       "width": 420
      }
     },
     "output_type": "display_data"
    }
   ],
   "source": [
    "ggplot(data, aes(balance)) + \n",
    "    geom_histogram(bins = 30, alpha = 0.5, fill = 'blue', color='black')  + \n",
    "    theme_bw()\n",
    "\n",
    "# looks like balance data has outliers"
   ]
  },
  {
   "cell_type": "markdown",
   "id": "54d3edfe",
   "metadata": {},
   "source": [
    "**Наявність кредиту на житло (housing):**"
   ]
  },
  {
   "cell_type": "code",
   "execution_count": 17,
   "id": "41b5ed53",
   "metadata": {},
   "outputs": [
    {
     "data": {
      "image/png": "[encoded data removed]",
      "text/plain": [
       "plot without title"
      ]
     },
     "metadata": {
      "image/png": {
       "height": 420,
       "width": 420
      }
     },
     "output_type": "display_data"
    }
   ],
   "source": [
    "ggplot(data, aes(housing)) + \n",
    "    geom_bar(aes(fill = housing)) + \n",
    "    theme_bw()"
   ]
  },
  {
   "cell_type": "code",
   "execution_count": 18,
   "id": "7e95edce",
   "metadata": {},
   "outputs": [
    {
     "name": "stdout",
     "output_type": "stream",
     "text": [
      "\n",
      " \n",
      "   Cell Contents\n",
      "|-------------------------|\n",
      "|                       N |\n",
      "| Chi-square contribution |\n",
      "|           N / Row Total |\n",
      "|           N / Col Total |\n",
      "|         N / Table Total |\n",
      "|-------------------------|\n",
      "\n",
      " \n",
      "Total Observations in Table:  11162 \n",
      "\n",
      " \n",
      "             | data$deposit \n",
      "data$housing |        no |       yes | Row Total | \n",
      "-------------|-----------|-----------|-----------|\n",
      "          no |      2527 |      3354 |      5881 | \n",
      "             |   104.023 |   115.509 |           | \n",
      "             |     0.430 |     0.570 |     0.527 | \n",
      "             |     0.430 |     0.634 |           | \n",
      "             |     0.226 |     0.300 |           | \n",
      "-------------|-----------|-----------|-----------|\n",
      "         yes |      3346 |      1935 |      5281 | \n",
      "             |   115.842 |   128.633 |           | \n",
      "             |     0.634 |     0.366 |     0.473 | \n",
      "             |     0.570 |     0.366 |           | \n",
      "             |     0.300 |     0.173 |           | \n",
      "-------------|-----------|-----------|-----------|\n",
      "Column Total |      5873 |      5289 |     11162 | \n",
      "             |     0.526 |     0.474 |           | \n",
      "-------------|-----------|-----------|-----------|\n",
      "\n",
      " \n"
     ]
    }
   ],
   "source": [
    "CrossTable(data$housing, data$deposit)\n",
    "# people without housing load logicaly more often can do deposits"
   ]
  },
  {
   "cell_type": "markdown",
   "id": "c741fc79",
   "metadata": {},
   "source": [
    "**Наявність позики (loan):**"
   ]
  },
  {
   "cell_type": "code",
   "execution_count": 18,
   "id": "59900973",
   "metadata": {},
   "outputs": [
    {
     "data": {
      "image/png": "[encoded data removed]",
      "text/plain": [
       "plot without title"
      ]
     },
     "metadata": {
      "image/png": {
       "height": 420,
       "width": 420
      }
     },
     "output_type": "display_data"
    }
   ],
   "source": [
    "ggplot(data, aes(loan)) + \n",
    "    geom_bar(aes(fill = loan)) + \n",
    "    theme_bw()"
   ]
  },
  {
   "cell_type": "code",
   "execution_count": 19,
   "id": "4e8c493c",
   "metadata": {},
   "outputs": [
    {
     "name": "stdout",
     "output_type": "stream",
     "text": [
      "\n",
      " \n",
      "   Cell Contents\n",
      "|-------------------------|\n",
      "|                       N |\n",
      "| Chi-square contribution |\n",
      "|           N / Row Total |\n",
      "|           N / Col Total |\n",
      "|         N / Table Total |\n",
      "|-------------------------|\n",
      "\n",
      " \n",
      "Total Observations in Table:  11162 \n",
      "\n",
      " \n",
      "             | data$deposit \n",
      "   data$loan |        no |       yes | Row Total | \n",
      "-------------|-----------|-----------|-----------|\n",
      "          no |      4897 |      4805 |      9702 | \n",
      "             |     8.459 |     9.393 |           | \n",
      "             |     0.505 |     0.495 |     0.869 | \n",
      "             |     0.834 |     0.908 |           | \n",
      "             |     0.439 |     0.430 |           | \n",
      "-------------|-----------|-----------|-----------|\n",
      "         yes |       976 |       484 |      1460 | \n",
      "             |    56.214 |    62.421 |           | \n",
      "             |     0.668 |     0.332 |     0.131 | \n",
      "             |     0.166 |     0.092 |           | \n",
      "             |     0.087 |     0.043 |           | \n",
      "-------------|-----------|-----------|-----------|\n",
      "Column Total |      5873 |      5289 |     11162 | \n",
      "             |     0.526 |     0.474 |           | \n",
      "-------------|-----------|-----------|-----------|\n",
      "\n",
      " \n"
     ]
    }
   ],
   "source": [
    "CrossTable(data$loan, data$deposit)"
   ]
  },
  {
   "cell_type": "markdown",
   "id": "13710e1d",
   "metadata": {},
   "source": [
    "**# Тип комунікації (contact):**"
   ]
  },
  {
   "cell_type": "code",
   "execution_count": 20,
   "id": "b767378c",
   "metadata": {},
   "outputs": [
    {
     "data": {
      "image/png": "[encoded data removed]",
      "text/plain": [
       "plot without title"
      ]
     },
     "metadata": {
      "image/png": {
       "height": 420,
       "width": 420
      }
     },
     "output_type": "display_data"
    }
   ],
   "source": [
    "ggplot(data, aes(contact)) + \n",
    "    geom_bar(aes(fill = contact)) + \n",
    "    theme_bw()"
   ]
  },
  {
   "cell_type": "code",
   "execution_count": 21,
   "id": "4fa10beb",
   "metadata": {},
   "outputs": [
    {
     "name": "stdout",
     "output_type": "stream",
     "text": [
      "\n",
      " \n",
      "   Cell Contents\n",
      "|-------------------------|\n",
      "|                       N |\n",
      "| Chi-square contribution |\n",
      "|           N / Row Total |\n",
      "|           N / Col Total |\n",
      "|         N / Table Total |\n",
      "|-------------------------|\n",
      "\n",
      " \n",
      "Total Observations in Table:  11162 \n",
      "\n",
      " \n",
      "             | data$deposit \n",
      "data$contact |        no |       yes | Row Total | \n",
      "-------------|-----------|-----------|-----------|\n",
      "    cellular |      3673 |      4369 |      8042 | \n",
      "             |    73.685 |    81.821 |           | \n",
      "             |     0.457 |     0.543 |     0.720 | \n",
      "             |     0.625 |     0.826 |           | \n",
      "             |     0.329 |     0.391 |           | \n",
      "-------------|-----------|-----------|-----------|\n",
      "   telephone |       384 |       390 |       774 | \n",
      "             |     1.327 |     1.474 |           | \n",
      "             |     0.496 |     0.504 |     0.069 | \n",
      "             |     0.065 |     0.074 |           | \n",
      "             |     0.034 |     0.035 |           | \n",
      "-------------|-----------|-----------|-----------|\n",
      "     unknown |      1816 |       530 |      2346 | \n",
      "             |   274.060 |   304.321 |           | \n",
      "             |     0.774 |     0.226 |     0.210 | \n",
      "             |     0.309 |     0.100 |           | \n",
      "             |     0.163 |     0.047 |           | \n",
      "-------------|-----------|-----------|-----------|\n",
      "Column Total |      5873 |      5289 |     11162 | \n",
      "             |     0.526 |     0.474 |           | \n",
      "-------------|-----------|-----------|-----------|\n",
      "\n",
      " \n"
     ]
    }
   ],
   "source": [
    "CrossTable(data$contact, data$deposit)\n",
    "# cellular communication channel looks like the best way to increase deposits count\n",
    "# people with cellular devices has more money? "
   ]
  },
  {
   "cell_type": "markdown",
   "id": "f4a8e3b6",
   "metadata": {},
   "source": [
    "**День місяця (day):**"
   ]
  },
  {
   "cell_type": "code",
   "execution_count": 19,
   "id": "a3aab697",
   "metadata": {},
   "outputs": [
    {
     "data": {
      "image/png": "[encoded data removed]",
      "text/plain": [
       "plot without title"
      ]
     },
     "metadata": {
      "image/png": {
       "height": 420,
       "width": 420
      }
     },
     "output_type": "display_data"
    }
   ],
   "source": [
    "ggplot(data, aes(day)) + \n",
    "    geom_histogram(bins = 25, alpha = 0.5, fill = 'blue', color='black')  + \n",
    "    theme_bw()"
   ]
  },
  {
   "cell_type": "markdown",
   "id": "a1c7f679",
   "metadata": {},
   "source": [
    "**Місяць (month):**"
   ]
  },
  {
   "cell_type": "code",
   "execution_count": 23,
   "id": "20f52d07",
   "metadata": {},
   "outputs": [
    {
     "data": {
      "image/png": "[encoded data removed]",
      "text/plain": [
       "plot without title"
      ]
     },
     "metadata": {
      "image/png": {
       "height": 420,
       "width": 420
      }
     },
     "output_type": "display_data"
    }
   ],
   "source": [
    "ggplot(data, aes(month)) + \n",
    "    geom_bar(aes(fill = month)) + \n",
    "    theme_bw()"
   ]
  },
  {
   "cell_type": "code",
   "execution_count": 20,
   "id": "3b33e86b",
   "metadata": {},
   "outputs": [
    {
     "name": "stderr",
     "output_type": "stream",
     "text": [
      "\n",
      "Attaching package: ‘dplyr’\n",
      "\n",
      "\n",
      "The following objects are masked from ‘package:stats’:\n",
      "\n",
      "    filter, lag\n",
      "\n",
      "\n",
      "The following objects are masked from ‘package:base’:\n",
      "\n",
      "    intersect, setdiff, setequal, union\n",
      "\n",
      "\n"
     ]
    }
   ],
   "source": [
    "# So, lets replace our month with ordered factor for correct visualization\n",
    "library(dplyr)\n",
    "library(magrittr)\n",
    "data <- data %>%\n",
    "    mutate(month = factor(month,levels=c(\"jan\",\"feb\",\"mar\",\n",
    "               \"apr\",\"may\",\"jun\",\"jul\",\"aug\",\"sep\",\n",
    "              \"oct\",\"nov\",\"dec\"),ordered=TRUE))"
   ]
  },
  {
   "cell_type": "code",
   "execution_count": 25,
   "id": "555c5872",
   "metadata": {},
   "outputs": [
    {
     "data": {
      "image/png": "[encoded data removed]",
      "text/plain": [
       "plot without title"
      ]
     },
     "metadata": {
      "image/png": {
       "height": 420,
       "width": 420
      }
     },
     "output_type": "display_data"
    }
   ],
   "source": [
    "ggplot(data, aes(month)) + \n",
    "    geom_bar(aes(fill = month)) + \n",
    "    theme_bw()"
   ]
  },
  {
   "cell_type": "code",
   "execution_count": 26,
   "id": "18da5504",
   "metadata": {},
   "outputs": [
    {
     "name": "stdout",
     "output_type": "stream",
     "text": [
      "\n",
      " \n",
      "   Cell Contents\n",
      "|-------------------------|\n",
      "|                       N |\n",
      "| Chi-square contribution |\n",
      "|           N / Row Total |\n",
      "|           N / Col Total |\n",
      "|         N / Table Total |\n",
      "|-------------------------|\n",
      "\n",
      " \n",
      "Total Observations in Table:  11162 \n",
      "\n",
      " \n",
      "             | data$deposit \n",
      "  data$month |        no |       yes | Row Total | \n",
      "-------------|-----------|-----------|-----------|\n",
      "         jan |       202 |       142 |       344 | \n",
      "             |     2.437 |     2.706 |           | \n",
      "             |     0.587 |     0.413 |     0.031 | \n",
      "             |     0.034 |     0.027 |           | \n",
      "             |     0.018 |     0.013 |           | \n",
      "-------------|-----------|-----------|-----------|\n",
      "         feb |       335 |       441 |       776 | \n",
      "             |    13.159 |    14.612 |           | \n",
      "             |     0.432 |     0.568 |     0.070 | \n",
      "             |     0.057 |     0.083 |           | \n",
      "             |     0.030 |     0.040 |           | \n",
      "-------------|-----------|-----------|-----------|\n",
      "         mar |        28 |       248 |       276 | \n",
      "             |    94.619 |   105.067 |           | \n",
      "             |     0.101 |     0.899 |     0.025 | \n",
      "             |     0.005 |     0.047 |           | \n",
      "             |     0.003 |     0.022 |           | \n",
      "-------------|-----------|-----------|-----------|\n",
      "         apr |       346 |       577 |       923 | \n",
      "             |    40.155 |    44.588 |           | \n",
      "             |     0.375 |     0.625 |     0.083 | \n",
      "             |     0.059 |     0.109 |           | \n",
      "             |     0.031 |     0.052 |           | \n",
      "-------------|-----------|-----------|-----------|\n",
      "         may |      1899 |       925 |      2824 | \n",
      "             |   114.862 |   127.545 |           | \n",
      "             |     0.672 |     0.328 |     0.253 | \n",
      "             |     0.323 |     0.175 |           | \n",
      "             |     0.170 |     0.083 |           | \n",
      "-------------|-----------|-----------|-----------|\n",
      "         jun |       676 |       546 |      1222 | \n",
      "             |     1.697 |     1.884 |           | \n",
      "             |     0.553 |     0.447 |     0.109 | \n",
      "             |     0.115 |     0.103 |           | \n",
      "             |     0.061 |     0.049 |           | \n",
      "-------------|-----------|-----------|-----------|\n",
      "         jul |       887 |       627 |      1514 | \n",
      "             |    10.257 |    11.390 |           | \n",
      "             |     0.586 |     0.414 |     0.136 | \n",
      "             |     0.151 |     0.119 |           | \n",
      "             |     0.079 |     0.056 |           | \n",
      "-------------|-----------|-----------|-----------|\n",
      "         aug |       831 |       688 |      1519 | \n",
      "             |     1.262 |     1.402 |           | \n",
      "             |     0.547 |     0.453 |     0.136 | \n",
      "             |     0.141 |     0.130 |           | \n",
      "             |     0.074 |     0.062 |           | \n",
      "-------------|-----------|-----------|-----------|\n",
      "         sep |        50 |       269 |       319 | \n",
      "             |    82.740 |    91.876 |           | \n",
      "             |     0.157 |     0.843 |     0.029 | \n",
      "             |     0.009 |     0.051 |           | \n",
      "             |     0.004 |     0.024 |           | \n",
      "-------------|-----------|-----------|-----------|\n",
      "         oct |        69 |       323 |       392 | \n",
      "             |    91.338 |   101.423 |           | \n",
      "             |     0.176 |     0.824 |     0.035 | \n",
      "             |     0.012 |     0.061 |           | \n",
      "             |     0.006 |     0.029 |           | \n",
      "-------------|-----------|-----------|-----------|\n",
      "         nov |       540 |       403 |       943 | \n",
      "             |     3.872 |     4.300 |           | \n",
      "             |     0.573 |     0.427 |     0.084 | \n",
      "             |     0.092 |     0.076 |           | \n",
      "             |     0.048 |     0.036 |           | \n",
      "-------------|-----------|-----------|-----------|\n",
      "         dec |        10 |       100 |       110 | \n",
      "             |    39.605 |    43.979 |           | \n",
      "             |     0.091 |     0.909 |     0.010 | \n",
      "             |     0.002 |     0.019 |           | \n",
      "             |     0.001 |     0.009 |           | \n",
      "-------------|-----------|-----------|-----------|\n",
      "Column Total |      5873 |      5289 |     11162 | \n",
      "             |     0.526 |     0.474 |           | \n",
      "-------------|-----------|-----------|-----------|\n",
      "\n",
      " \n"
     ]
    }
   ],
   "source": [
    "CrossTable(data$month, data$deposit)"
   ]
  },
  {
   "cell_type": "markdown",
   "id": "97149462",
   "metadata": {},
   "source": [
    "**Тривалість останнього контакту (duration):**"
   ]
  },
  {
   "cell_type": "code",
   "execution_count": 21,
   "id": "e218f914",
   "metadata": {},
   "outputs": [
    {
     "data": {
      "image/png": "[encoded data removed]",
      "text/plain": [
       "plot without title"
      ]
     },
     "metadata": {
      "image/png": {
       "height": 420,
       "width": 420
      }
     },
     "output_type": "display_data"
    }
   ],
   "source": [
    "ggplot(data, aes(duration)) + \n",
    "    geom_histogram(bins = 100, alpha = 0.5, fill = 'blue', color='black')  + \n",
    "    theme_bw()"
   ]
  },
  {
   "cell_type": "markdown",
   "id": "9bde6fa0",
   "metadata": {},
   "source": [
    "**Кількість контактів протягом поточної кампанії (campaign):**"
   ]
  },
  {
   "cell_type": "code",
   "execution_count": 28,
   "id": "471ab046",
   "metadata": {},
   "outputs": [
    {
     "data": {
      "image/png": "[encoded data removed]",
      "text/plain": [
       "plot without title"
      ]
     },
     "metadata": {
      "image/png": {
       "height": 420,
       "width": 420
      }
     },
     "output_type": "display_data"
    }
   ],
   "source": [
    "ggplot(data, aes(campaign)) + \n",
    "    geom_histogram(bins = 30, alpha = 0.5, fill = 'blue', color='black')  + \n",
    "    theme_bw()"
   ]
  },
  {
   "cell_type": "markdown",
   "id": "291a76b2",
   "metadata": {},
   "source": [
    "**Кількість днів від попередньої акції (pday):**"
   ]
  },
  {
   "cell_type": "code",
   "execution_count": 29,
   "id": "3145687f",
   "metadata": {},
   "outputs": [
    {
     "data": {
      "image/png": "[encoded data removed]",
      "text/plain": [
       "plot without title"
      ]
     },
     "metadata": {
      "image/png": {
       "height": 420,
       "width": 420
      }
     },
     "output_type": "display_data"
    }
   ],
   "source": [
    "ggplot(data, aes(pdays)) + \n",
    "    geom_histogram(bins = 20, alpha = 0.5, fill = 'blue', color='black')  + \n",
    "    theme_bw()"
   ]
  },
  {
   "cell_type": "markdown",
   "id": "f1f4d698",
   "metadata": {},
   "source": [
    "**Кількість контактів до початку поточної кампанії (previous):**"
   ]
  },
  {
   "cell_type": "code",
   "execution_count": 30,
   "id": "e1b5d0c2",
   "metadata": {},
   "outputs": [
    {
     "data": {
      "image/png": "[encoded data removed]",
      "text/plain": [
       "plot without title"
      ]
     },
     "metadata": {
      "image/png": {
       "height": 420,
       "width": 420
      }
     },
     "output_type": "display_data"
    }
   ],
   "source": [
    "ggplot(data, aes(previous)) + \n",
    "    geom_histogram(bins = 50, alpha = 0.5, fill = 'blue', color='black')  + \n",
    "    theme_bw()"
   ]
  },
  {
   "cell_type": "markdown",
   "id": "6a55b6f7",
   "metadata": {},
   "source": [
    "**Результат попередньої кампанії (poutcome):**"
   ]
  },
  {
   "cell_type": "code",
   "execution_count": 31,
   "id": "c1f70ab6",
   "metadata": {},
   "outputs": [
    {
     "data": {
      "image/png": "[encoded data removed]",
      "text/plain": [
       "plot without title"
      ]
     },
     "metadata": {
      "image/png": {
       "height": 420,
       "width": 420
      }
     },
     "output_type": "display_data"
    }
   ],
   "source": [
    "ggplot(data, aes(poutcome)) + \n",
    "    geom_bar(aes(fill = poutcome)) + \n",
    "    theme_bw()"
   ]
  },
  {
   "cell_type": "code",
   "execution_count": 32,
   "id": "183e1755",
   "metadata": {},
   "outputs": [
    {
     "name": "stdout",
     "output_type": "stream",
     "text": [
      "\n",
      " \n",
      "   Cell Contents\n",
      "|-------------------------|\n",
      "|                       N |\n",
      "| Chi-square contribution |\n",
      "|           N / Row Total |\n",
      "|           N / Col Total |\n",
      "|         N / Table Total |\n",
      "|-------------------------|\n",
      "\n",
      " \n",
      "Total Observations in Table:  11162 \n",
      "\n",
      " \n",
      "              | data$deposit \n",
      "data$poutcome |        no |       yes | Row Total | \n",
      "--------------|-----------|-----------|-----------|\n",
      "      failure |       610 |       618 |      1228 | \n",
      "              |     2.020 |     2.243 |           | \n",
      "              |     0.497 |     0.503 |     0.110 | \n",
      "              |     0.104 |     0.117 |           | \n",
      "              |     0.055 |     0.055 |           | \n",
      "--------------|-----------|-----------|-----------|\n",
      "        other |       230 |       307 |       537 | \n",
      "              |     9.773 |    10.852 |           | \n",
      "              |     0.428 |     0.572 |     0.048 | \n",
      "              |     0.039 |     0.058 |           | \n",
      "              |     0.021 |     0.028 |           | \n",
      "--------------|-----------|-----------|-----------|\n",
      "      success |        93 |       978 |      1071 | \n",
      "              |   392.866 |   436.245 |           | \n",
      "              |     0.087 |     0.913 |     0.096 | \n",
      "              |     0.016 |     0.185 |           | \n",
      "              |     0.008 |     0.088 |           | \n",
      "--------------|-----------|-----------|-----------|\n",
      "      unknown |      4940 |      3386 |      8326 | \n",
      "              |    71.378 |    79.259 |           | \n",
      "              |     0.593 |     0.407 |     0.746 | \n",
      "              |     0.841 |     0.640 |           | \n",
      "              |     0.443 |     0.303 |           | \n",
      "--------------|-----------|-----------|-----------|\n",
      " Column Total |      5873 |      5289 |     11162 | \n",
      "              |     0.526 |     0.474 |           | \n",
      "--------------|-----------|-----------|-----------|\n",
      "\n",
      " \n"
     ]
    }
   ],
   "source": [
    "CrossTable(data$poutcome, data$deposit)\n",
    "# people with previous success status also loyal for new propositions"
   ]
  },
  {
   "cell_type": "markdown",
   "id": "3e918531",
   "metadata": {},
   "source": [
    "**Результат укладання або відсутність укладання договору (deposit):**"
   ]
  },
  {
   "cell_type": "code",
   "execution_count": 33,
   "id": "67497d45",
   "metadata": {},
   "outputs": [
    {
     "data": {
      "image/png": "[encoded data removed]",
      "text/plain": [
       "plot without title"
      ]
     },
     "metadata": {
      "image/png": {
       "height": 420,
       "width": 420
      }
     },
     "output_type": "display_data"
    }
   ],
   "source": [
    "ggplot(data, aes(deposit)) + \n",
    "    geom_bar(aes(fill = deposit)) + \n",
    "    theme_bw()"
   ]
  },
  {
   "cell_type": "code",
   "execution_count": 34,
   "id": "29feeb12",
   "metadata": {},
   "outputs": [
    {
     "name": "stdout",
     "output_type": "stream",
     "text": [
      "\n",
      " \n",
      "   Cell Contents\n",
      "|-------------------------|\n",
      "|                       N |\n",
      "|         N / Table Total |\n",
      "|-------------------------|\n",
      "\n",
      " \n",
      "Total Observations in Table:  11162 \n",
      "\n",
      " \n",
      "          |        no |       yes | \n",
      "          |-----------|-----------|\n",
      "          |      5873 |      5289 | \n",
      "          |     0.526 |     0.474 | \n",
      "          |-----------|-----------|\n",
      "\n",
      "\n",
      "\n",
      " \n"
     ]
    }
   ],
   "source": [
    "CrossTable(data$deposit)"
   ]
  },
  {
   "cell_type": "markdown",
   "id": "7c534e3b",
   "metadata": {},
   "source": [
    "# 4. Data preprocessing"
   ]
  },
  {
   "cell_type": "markdown",
   "id": "f785dba2",
   "metadata": {},
   "source": [
    "Перетворимо значення `deposit` до `0` і `1`:"
   ]
  },
  {
   "cell_type": "code",
   "execution_count": 22,
   "id": "334095b9",
   "metadata": {},
   "outputs": [],
   "source": [
    "data$deposit <- ifelse(data$deposit == \"yes\", 1, 0)"
   ]
  },
  {
   "cell_type": "markdown",
   "id": "860dfe5b",
   "metadata": {},
   "source": [
    "Видалимо `duration`, адже цей параметр чітко вказує на факт укладання угоди, такі дані називаються leak:"
   ]
  },
  {
   "cell_type": "code",
   "execution_count": 23,
   "id": "33192634",
   "metadata": {},
   "outputs": [],
   "source": [
    "data$duration <- NULL"
   ]
  },
  {
   "cell_type": "markdown",
   "id": "29da71e4",
   "metadata": {},
   "source": [
    "Створимо новий параметр `pdays_flag`, який вказує чи був контакт з клієнтом раніше:"
   ]
  },
  {
   "cell_type": "code",
   "execution_count": 24,
   "id": "83a55bdf",
   "metadata": {},
   "outputs": [],
   "source": [
    "data$pdays_flag <- ifelse(data$pdays > 0, 1, 0)"
   ]
  },
  {
   "cell_type": "code",
   "execution_count": 38,
   "id": "f8d7b0ad",
   "metadata": {},
   "outputs": [
    {
     "data": {
      "text/html": [
       "<table class=\"dataframe\">\n",
       "<caption>A data.frame: 6 × 17</caption>\n",
       "<thead>\n",
       "\t<tr><th></th><th scope=col>age</th><th scope=col>job</th><th scope=col>marital</th><th scope=col>education</th><th scope=col>default</th><th scope=col>balance</th><th scope=col>housing</th><th scope=col>loan</th><th scope=col>contact</th><th scope=col>day</th><th scope=col>month</th><th scope=col>campaign</th><th scope=col>pdays</th><th scope=col>previous</th><th scope=col>poutcome</th><th scope=col>deposit</th><th scope=col>pdays_flag</th></tr>\n",
       "\t<tr><th></th><th scope=col>&lt;int&gt;</th><th scope=col>&lt;fct&gt;</th><th scope=col>&lt;fct&gt;</th><th scope=col>&lt;fct&gt;</th><th scope=col>&lt;fct&gt;</th><th scope=col>&lt;int&gt;</th><th scope=col>&lt;fct&gt;</th><th scope=col>&lt;fct&gt;</th><th scope=col>&lt;fct&gt;</th><th scope=col>&lt;int&gt;</th><th scope=col>&lt;ord&gt;</th><th scope=col>&lt;int&gt;</th><th scope=col>&lt;int&gt;</th><th scope=col>&lt;int&gt;</th><th scope=col>&lt;fct&gt;</th><th scope=col>&lt;dbl&gt;</th><th scope=col>&lt;dbl&gt;</th></tr>\n",
       "</thead>\n",
       "<tbody>\n",
       "\t<tr><th scope=row>1</th><td>59</td><td>admin.    </td><td>married</td><td>secondary</td><td>no</td><td>2343</td><td>yes</td><td>no </td><td>unknown</td><td>5</td><td>may</td><td>1</td><td>-1</td><td>0</td><td>unknown</td><td>1</td><td>0</td></tr>\n",
       "\t<tr><th scope=row>2</th><td>56</td><td>admin.    </td><td>married</td><td>secondary</td><td>no</td><td>  45</td><td>no </td><td>no </td><td>unknown</td><td>5</td><td>may</td><td>1</td><td>-1</td><td>0</td><td>unknown</td><td>1</td><td>0</td></tr>\n",
       "\t<tr><th scope=row>3</th><td>41</td><td>technician</td><td>married</td><td>secondary</td><td>no</td><td>1270</td><td>yes</td><td>no </td><td>unknown</td><td>5</td><td>may</td><td>1</td><td>-1</td><td>0</td><td>unknown</td><td>1</td><td>0</td></tr>\n",
       "\t<tr><th scope=row>4</th><td>55</td><td>services  </td><td>married</td><td>secondary</td><td>no</td><td>2476</td><td>yes</td><td>no </td><td>unknown</td><td>5</td><td>may</td><td>1</td><td>-1</td><td>0</td><td>unknown</td><td>1</td><td>0</td></tr>\n",
       "\t<tr><th scope=row>5</th><td>54</td><td>admin.    </td><td>married</td><td>tertiary </td><td>no</td><td> 184</td><td>no </td><td>no </td><td>unknown</td><td>5</td><td>may</td><td>2</td><td>-1</td><td>0</td><td>unknown</td><td>1</td><td>0</td></tr>\n",
       "\t<tr><th scope=row>6</th><td>42</td><td>management</td><td>single </td><td>tertiary </td><td>no</td><td>   0</td><td>yes</td><td>yes</td><td>unknown</td><td>5</td><td>may</td><td>2</td><td>-1</td><td>0</td><td>unknown</td><td>1</td><td>0</td></tr>\n",
       "</tbody>\n",
       "</table>\n"
      ],
      "text/latex": [
       "A data.frame: 6 × 17\n",
       "\\begin{tabular}{r|lllllllllllllllll}\n",
       "  & age & job & marital & education & default & balance & housing & loan & contact & day & month & campaign & pdays & previous & poutcome & deposit & pdays\\_flag\\\\\n",
       "  & <int> & <fct> & <fct> & <fct> & <fct> & <int> & <fct> & <fct> & <fct> & <int> & <ord> & <int> & <int> & <int> & <fct> & <dbl> & <dbl>\\\\\n",
       "\\hline\n",
       "\t1 & 59 & admin.     & married & secondary & no & 2343 & yes & no  & unknown & 5 & may & 1 & -1 & 0 & unknown & 1 & 0\\\\\n",
       "\t2 & 56 & admin.     & married & secondary & no &   45 & no  & no  & unknown & 5 & may & 1 & -1 & 0 & unknown & 1 & 0\\\\\n",
       "\t3 & 41 & technician & married & secondary & no & 1270 & yes & no  & unknown & 5 & may & 1 & -1 & 0 & unknown & 1 & 0\\\\\n",
       "\t4 & 55 & services   & married & secondary & no & 2476 & yes & no  & unknown & 5 & may & 1 & -1 & 0 & unknown & 1 & 0\\\\\n",
       "\t5 & 54 & admin.     & married & tertiary  & no &  184 & no  & no  & unknown & 5 & may & 2 & -1 & 0 & unknown & 1 & 0\\\\\n",
       "\t6 & 42 & management & single  & tertiary  & no &    0 & yes & yes & unknown & 5 & may & 2 & -1 & 0 & unknown & 1 & 0\\\\\n",
       "\\end{tabular}\n"
      ],
      "text/markdown": [
       "\n",
       "A data.frame: 6 × 17\n",
       "\n",
       "| <!--/--> | age &lt;int&gt; | job &lt;fct&gt; | marital &lt;fct&gt; | education &lt;fct&gt; | default &lt;fct&gt; | balance &lt;int&gt; | housing &lt;fct&gt; | loan &lt;fct&gt; | contact &lt;fct&gt; | day &lt;int&gt; | month &lt;ord&gt; | campaign &lt;int&gt; | pdays &lt;int&gt; | previous &lt;int&gt; | poutcome &lt;fct&gt; | deposit &lt;dbl&gt; | pdays_flag &lt;dbl&gt; |\n",
       "|---|---|---|---|---|---|---|---|---|---|---|---|---|---|---|---|---|---|\n",
       "| 1 | 59 | admin.     | married | secondary | no | 2343 | yes | no  | unknown | 5 | may | 1 | -1 | 0 | unknown | 1 | 0 |\n",
       "| 2 | 56 | admin.     | married | secondary | no |   45 | no  | no  | unknown | 5 | may | 1 | -1 | 0 | unknown | 1 | 0 |\n",
       "| 3 | 41 | technician | married | secondary | no | 1270 | yes | no  | unknown | 5 | may | 1 | -1 | 0 | unknown | 1 | 0 |\n",
       "| 4 | 55 | services   | married | secondary | no | 2476 | yes | no  | unknown | 5 | may | 1 | -1 | 0 | unknown | 1 | 0 |\n",
       "| 5 | 54 | admin.     | married | tertiary  | no |  184 | no  | no  | unknown | 5 | may | 2 | -1 | 0 | unknown | 1 | 0 |\n",
       "| 6 | 42 | management | single  | tertiary  | no |    0 | yes | yes | unknown | 5 | may | 2 | -1 | 0 | unknown | 1 | 0 |\n",
       "\n"
      ],
      "text/plain": [
       "  age job        marital education default balance housing loan contact day\n",
       "1 59  admin.     married secondary no      2343    yes     no   unknown 5  \n",
       "2 56  admin.     married secondary no        45    no      no   unknown 5  \n",
       "3 41  technician married secondary no      1270    yes     no   unknown 5  \n",
       "4 55  services   married secondary no      2476    yes     no   unknown 5  \n",
       "5 54  admin.     married tertiary  no       184    no      no   unknown 5  \n",
       "6 42  management single  tertiary  no         0    yes     yes  unknown 5  \n",
       "  month campaign pdays previous poutcome deposit pdays_flag\n",
       "1 may   1        -1    0        unknown  1       0         \n",
       "2 may   1        -1    0        unknown  1       0         \n",
       "3 may   1        -1    0        unknown  1       0         \n",
       "4 may   1        -1    0        unknown  1       0         \n",
       "5 may   2        -1    0        unknown  1       0         \n",
       "6 may   2        -1    0        unknown  1       0         "
      ]
     },
     "metadata": {},
     "output_type": "display_data"
    }
   ],
   "source": [
    "head(data)"
   ]
  },
  {
   "cell_type": "markdown",
   "id": "4310a064",
   "metadata": {},
   "source": [
    "Створимо новий параметр `poutcome_success`, який вказує чи була попередня кампанія з цим клієнтом “успішною для банку”:"
   ]
  },
  {
   "cell_type": "code",
   "execution_count": 39,
   "id": "f3c9fe5c",
   "metadata": {},
   "outputs": [],
   "source": [
    "data$poutcoume_success <- ifelse(data$poutcome == \"success\", 1, 0)"
   ]
  },
  {
   "cell_type": "markdown",
   "id": "b7cc2088",
   "metadata": {},
   "source": [
    "---"
   ]
  },
  {
   "cell_type": "markdown",
   "id": "bdd7170c",
   "metadata": {},
   "source": [
    "# 5. Train/test split"
   ]
  },
  {
   "cell_type": "markdown",
   "id": "8b3c9aec-e874-42cf-9748-29700a03fb12",
   "metadata": {},
   "source": [
    "Задаємо seed для генератора випадкових чисел"
   ]
  },
  {
   "cell_type": "markdown",
   "id": "c9ed400d",
   "metadata": {},
   "source": [
    "Train  65%, test 35%"
   ]
  },
  {
   "cell_type": "code",
   "execution_count": 27,
   "id": "c383ec7d",
   "metadata": {},
   "outputs": [],
   "source": [
    "set.seed(111) # today!\n",
    "library(caret)\n",
    "index = createDataPartition(data$deposit, p = 0.65, list = FALSE)\n",
    "train_data = data[index, ]\n",
    "test_data = data[-index, ]"
   ]
  },
  {
   "cell_type": "code",
   "execution_count": 28,
   "id": "9610d52b-7056-4c76-a3f6-3d12564ba819",
   "metadata": {},
   "outputs": [
    {
     "name": "stdout",
     "output_type": "stream",
     "text": [
      "\n",
      " \n",
      "   Cell Contents\n",
      "|-------------------------|\n",
      "|                       N |\n",
      "|         N / Table Total |\n",
      "|-------------------------|\n",
      "\n",
      " \n",
      "Total Observations in Table:  7256 \n",
      "\n",
      " \n",
      "          |         0 |         1 | \n",
      "          |-----------|-----------|\n",
      "          |      3816 |      3440 | \n",
      "          |     0.526 |     0.474 | \n",
      "          |-----------|-----------|\n",
      "\n",
      "\n",
      "\n",
      " \n",
      "\n",
      " \n",
      "   Cell Contents\n",
      "|-------------------------|\n",
      "|                       N |\n",
      "|         N / Table Total |\n",
      "|-------------------------|\n",
      "\n",
      " \n",
      "Total Observations in Table:  3906 \n",
      "\n",
      " \n",
      "          |         0 |         1 | \n",
      "          |-----------|-----------|\n",
      "          |      2057 |      1849 | \n",
      "          |     0.527 |     0.473 | \n",
      "          |-----------|-----------|\n",
      "\n",
      "\n",
      "\n",
      " \n"
     ]
    }
   ],
   "source": [
    "CrossTable(train_data$deposit)\n",
    "CrossTable(test_data$deposit)"
   ]
  },
  {
   "cell_type": "markdown",
   "id": "aa130cd7-b6e6-4f3b-ba28-42b2099ef223",
   "metadata": {},
   "source": [
    "---"
   ]
  },
  {
   "cell_type": "markdown",
   "id": "b7b1cb9d-3847-4e4d-be9a-281629eb7fa0",
   "metadata": {},
   "source": [
    "# 6. Decision trees with `rpart()`"
   ]
  },
  {
   "cell_type": "markdown",
   "id": "818dff52-546f-49a2-a552-4d53ec38d1e6",
   "metadata": {},
   "source": [
    "Для побудови дерев рішень у `R` є ряд пакетів та алгоритмів. Розглянемо пакет `rpart`."
   ]
  },
  {
   "cell_type": "code",
   "execution_count": 29,
   "id": "f2b9b38a-7528-4c5b-a8ff-99d7f9c82bff",
   "metadata": {},
   "outputs": [],
   "source": [
    "#install.packages(\"rpart\")\n",
    "library(rpart)\n",
    "rpart_model <- rpart(deposit ~ ., train_data)"
   ]
  },
  {
   "cell_type": "markdown",
   "id": "70aa67c0-6e2f-4a0c-ba95-1e8512e19a4a",
   "metadata": {},
   "source": [
    "Виведемо опис моделі:"
   ]
  },
  {
   "cell_type": "code",
   "execution_count": 30,
   "id": "e8f8ecc5-3ea9-4688-ab1f-6f3a7aa13792",
   "metadata": {},
   "outputs": [
    {
     "data": {
      "text/plain": [
       "n= 7256 \n",
       "\n",
       "node), split, n, deviance, yval\n",
       "      * denotes terminal node\n",
       "\n",
       " 1) root 7256 1809.12900 0.4740904  \n",
       "   2) poutcome=failure,other,unknown 6563 1605.86300 0.4270913  \n",
       "     4) contact=unknown 1543  272.24240 0.2287751 *\n",
       "     5) contact=cellular,telephone 5020 1254.28300 0.4880478  \n",
       "      10) housing=yes 2139  507.93360 0.3880318 *\n",
       "      11) housing=no 2881  709.06630 0.5623048  \n",
       "        22) balance< 105.5 636  150.38990 0.3836478 *\n",
       "        23) balance>=105.5 2245  532.62540 0.6129176 *\n",
       "   3) poutcome=success 693   51.47475 0.9191919 *"
      ]
     },
     "metadata": {},
     "output_type": "display_data"
    }
   ],
   "source": [
    "rpart_model"
   ]
  },
  {
   "cell_type": "markdown",
   "id": "256c27b1-abbd-42de-96da-902002a20956",
   "metadata": {},
   "source": [
    "Дуже детальний опис:"
   ]
  },
  {
   "cell_type": "code",
   "execution_count": 31,
   "id": "e4c7a480-fa10-4696-9b07-21b851faf0c2",
   "metadata": {},
   "outputs": [
    {
     "name": "stdout",
     "output_type": "stream",
     "text": [
      "Call:\n",
      "rpart(formula = deposit ~ ., data = train_data)\n",
      "  n= 7256 \n",
      "\n",
      "          CP nsplit rel error    xerror        xstd\n",
      "1 0.08390285      0 1.0000000 1.0004337 0.001224021\n",
      "2 0.04385421      1 0.9160972 0.9165627 0.005207633\n",
      "3 0.02060824      2 0.8722429 0.8731088 0.006530786\n",
      "4 0.01439973      3 0.8516347 0.8528095 0.007275812\n",
      "5 0.01000000      4 0.8372350 0.8459897 0.007777416\n",
      "\n",
      "Variable importance\n",
      "poutcome  contact  housing  balance      job    pdays    month previous \n",
      "      49       25       12        8        2        1        1        1 \n",
      "\n",
      "Node number 1: 7256 observations,    complexity param=0.08390285\n",
      "  mean=0.4740904, MSE=0.2493287 \n",
      "  left son=2 (6563 obs) right son=3 (693 obs)\n",
      "  Primary splits:\n",
      "      poutcome   splits as  LLRL,      improve=0.08390285, (0 missing)\n",
      "      contact    splits as  RRL,       improve=0.06524266, (0 missing)\n",
      "      pdays      < 9.5   to the left,  improve=0.04926922, (0 missing)\n",
      "      previous   < 0.5   to the left,  improve=0.04820004, (0 missing)\n",
      "      pdays_flag < 0.5   to the left,  improve=0.04820004, (0 missing)\n",
      "  Surrogate splits:\n",
      "      age < 91    to the left,  agree=0.905, adj=0.003, (0 split)\n",
      "\n",
      "Node number 2: 6563 observations,    complexity param=0.04385421\n",
      "  mean=0.4270913, MSE=0.2446843 \n",
      "  left son=4 (1543 obs) right son=5 (5020 obs)\n",
      "  Primary splits:\n",
      "      contact splits as  RRL,          improve=0.04940515, (0 missing)\n",
      "      housing splits as  RL,           improve=0.03656129, (0 missing)\n",
      "      age     < 60.5  to the left,     improve=0.02289822, (0 missing)\n",
      "      job     splits as  LLLLLRLLRLRL, improve=0.02007437, (0 missing)\n",
      "      balance < 798   to the left,     improve=0.01917691, (0 missing)\n",
      "  Surrogate splits:\n",
      "      campaign < 24.5  to the right, agree=0.766, adj=0.003, (0 split)\n",
      "\n",
      "Node number 3: 693 observations\n",
      "  mean=0.9191919, MSE=0.07427813 \n",
      "\n",
      "Node number 4: 1543 observations\n",
      "  mean=0.2287751, MSE=0.1764371 \n",
      "\n",
      "Node number 5: 5020 observations,    complexity param=0.02060824\n",
      "  mean=0.4880478, MSE=0.2498571 \n",
      "  left son=10 (2139 obs) right son=11 (2881 obs)\n",
      "  Primary splits:\n",
      "      housing splits as  RL,           improve=0.02972452, (0 missing)\n",
      "      balance < 799.5 to the left,     improve=0.02236410, (0 missing)\n",
      "      job     splits as  LLLLLRLLRLRL, improve=0.02093907, (0 missing)\n",
      "      age     < 59.5  to the left,     improve=0.02067340, (0 missing)\n",
      "      loan    splits as  RL,           improve=0.01407420, (0 missing)\n",
      "  Surrogate splits:\n",
      "      job      splits as  LLRRRRRLRRRR, agree=0.630, adj=0.132, (0 split)\n",
      "      pdays    < 165.5 to the right,    agree=0.623, adj=0.115, (0 split)\n",
      "      month    splits as  LLLLLRRRRRRR, agree=0.615, adj=0.096, (0 split)\n",
      "      poutcome splits as  LR-R,         agree=0.604, adj=0.071, (0 split)\n",
      "      previous < 0.5   to the right,    agree=0.599, adj=0.059, (0 split)\n",
      "\n",
      "Node number 10: 2139 observations\n",
      "  mean=0.3880318, MSE=0.2374631 \n",
      "\n",
      "Node number 11: 2881 observations,    complexity param=0.01439973\n",
      "  mean=0.5623048, MSE=0.2461181 \n",
      "  left son=22 (636 obs) right son=23 (2245 obs)\n",
      "  Primary splits:\n",
      "      balance < 105.5 to the left,     improve=0.03673982, (0 missing)\n",
      "      loan    splits as  RL,           improve=0.03447328, (0 missing)\n",
      "      month   splits as  RRRRRRLLLLLL, improve=0.03024729, (0 missing)\n",
      "      job     splits as  LLLLLRLLRLRL, improve=0.02005774, (0 missing)\n",
      "      age     < 60.5  to the left,     improve=0.01886179, (0 missing)\n",
      "  Surrogate splits:\n",
      "      default splits as  RL, agree=0.787, adj=0.035, (0 split)\n",
      "\n",
      "Node number 22: 636 observations\n",
      "  mean=0.3836478, MSE=0.2364622 \n",
      "\n",
      "Node number 23: 2245 observations\n",
      "  mean=0.6129176, MSE=0.2372496 \n",
      "\n"
     ]
    }
   ],
   "source": [
    "summary(rpart_model)"
   ]
  },
  {
   "cell_type": "markdown",
   "id": "a3496a38-a5a1-4eb7-ae11-1cd8c905a41d",
   "metadata": {},
   "source": [
    "Візуалізуємо дерево рішень:"
   ]
  },
  {
   "cell_type": "code",
   "execution_count": 33,
   "id": "86d2631d-9907-42da-b4dd-0d777cdb74ca",
   "metadata": {},
   "outputs": [
    {
     "name": "stderr",
     "output_type": "stream",
     "text": [
      "also installing the dependencies ‘XML’, ‘rpart.plot’\n",
      "\n",
      "\n",
      "Updating HTML index of packages in '.Library'\n",
      "\n",
      "Making 'packages.html' ...\n",
      " done\n",
      "\n"
     ]
    }
   ],
   "source": [
    "install.packages(c(\"rattle\", \"RColorBrewer\"))"
   ]
  },
  {
   "cell_type": "code",
   "execution_count": 35,
   "id": "fd94ed7c-7182-47f0-a252-290f3dc6563f",
   "metadata": {},
   "outputs": [
    {
     "data": {
      "image/png": "[encoded data removed]",
      "text/plain": [
       "Plot with title “”"
      ]
     },
     "metadata": {
      "image/png": {
       "height": 420,
       "width": 420
      }
     },
     "output_type": "display_data"
    }
   ],
   "source": [
    "library(rattle)\n",
    "library(RColorBrewer)\n",
    "fancyRpartPlot(rpart_model)\n",
    "\n",
    "# now you can see how model model works"
   ]
  },
  {
   "cell_type": "markdown",
   "id": "e737e3a3-0ed0-4c01-9f42-451e4a76494b",
   "metadata": {},
   "source": [
    "Створимо два дата-фрейм для для запису результатів моделювання на тестовій вибірці. Одразу додамо у набори даних реальні значення результатів маркетингової акції deposit та модельовані значення\n",
    "\n",
    "Дані тренувальної вибірки будуть використовуватися для визначення оптимальної cutoff лінії, а тестової для порівняння моделей між собою."
   ]
  },
  {
   "cell_type": "code",
   "execution_count": 36,
   "id": "266cf6d9-0224-4ca8-85d0-5d34ee460e2d",
   "metadata": {},
   "outputs": [
    {
     "data": {
      "text/html": [
       "<table class=\"dataframe\">\n",
       "<caption>A data.frame: 6 × 3</caption>\n",
       "<thead>\n",
       "\t<tr><th></th><th scope=col>No</th><th scope=col>deposit</th><th scope=col>RPartPredicted</th></tr>\n",
       "\t<tr><th></th><th scope=col>&lt;int&gt;</th><th scope=col>&lt;dbl&gt;</th><th scope=col>&lt;dbl&gt;</th></tr>\n",
       "</thead>\n",
       "<tbody>\n",
       "\t<tr><th scope=row>1</th><td>1</td><td>1</td><td>0.2287751</td></tr>\n",
       "\t<tr><th scope=row>2</th><td>2</td><td>1</td><td>0.2287751</td></tr>\n",
       "\t<tr><th scope=row>4</th><td>3</td><td>1</td><td>0.2287751</td></tr>\n",
       "\t<tr><th scope=row>7</th><td>4</td><td>1</td><td>0.2287751</td></tr>\n",
       "\t<tr><th scope=row>8</th><td>5</td><td>1</td><td>0.2287751</td></tr>\n",
       "\t<tr><th scope=row>9</th><td>6</td><td>1</td><td>0.2287751</td></tr>\n",
       "</tbody>\n",
       "</table>\n"
      ],
      "text/latex": [
       "A data.frame: 6 × 3\n",
       "\\begin{tabular}{r|lll}\n",
       "  & No & deposit & RPartPredicted\\\\\n",
       "  & <int> & <dbl> & <dbl>\\\\\n",
       "\\hline\n",
       "\t1 & 1 & 1 & 0.2287751\\\\\n",
       "\t2 & 2 & 1 & 0.2287751\\\\\n",
       "\t4 & 3 & 1 & 0.2287751\\\\\n",
       "\t7 & 4 & 1 & 0.2287751\\\\\n",
       "\t8 & 5 & 1 & 0.2287751\\\\\n",
       "\t9 & 6 & 1 & 0.2287751\\\\\n",
       "\\end{tabular}\n"
      ],
      "text/markdown": [
       "\n",
       "A data.frame: 6 × 3\n",
       "\n",
       "| <!--/--> | No &lt;int&gt; | deposit &lt;dbl&gt; | RPartPredicted &lt;dbl&gt; |\n",
       "|---|---|---|---|\n",
       "| 1 | 1 | 1 | 0.2287751 |\n",
       "| 2 | 2 | 1 | 0.2287751 |\n",
       "| 4 | 3 | 1 | 0.2287751 |\n",
       "| 7 | 4 | 1 | 0.2287751 |\n",
       "| 8 | 5 | 1 | 0.2287751 |\n",
       "| 9 | 6 | 1 | 0.2287751 |\n",
       "\n"
      ],
      "text/plain": [
       "  No deposit RPartPredicted\n",
       "1 1  1       0.2287751     \n",
       "2 2  1       0.2287751     \n",
       "4 3  1       0.2287751     \n",
       "7 4  1       0.2287751     \n",
       "8 5  1       0.2287751     \n",
       "9 6  1       0.2287751     "
      ]
     },
     "metadata": {},
     "output_type": "display_data"
    }
   ],
   "source": [
    "train_results <- data.frame(No = c(1:nrow(train_data)), \n",
    "                            deposit = train_data$deposit, \n",
    "                            RPartPredicted = predict(rpart_model, train_data))\n",
    "\n",
    "test_results <- data.frame(No = c(1:nrow(test_data)),\n",
    "                           deposit = test_data$deposit, \n",
    "                           RPartPredicted = predict(rpart_model, test_data))\n",
    "\n",
    "head(test_results)"
   ]
  },
  {
   "cell_type": "markdown",
   "id": "ee4c381a-8ce9-47c9-ba4f-5cb1e28c7807",
   "metadata": {},
   "source": [
    "Визначимо оптимальну лінію розподілу на 0 і 1 для тренувальної вибірки за допомогою пакету `InformationValue`:"
   ]
  },
  {
   "cell_type": "code",
   "execution_count": 37,
   "id": "3dc29da7-5f1f-4097-9ade-4b37b0792f66",
   "metadata": {},
   "outputs": [
    {
     "name": "stderr",
     "output_type": "stream",
     "text": [
      "\n",
      "Attaching package: ‘InformationValue’\n",
      "\n",
      "\n",
      "The following objects are masked from ‘package:caret’:\n",
      "\n",
      "    confusionMatrix, precision, sensitivity, specificity\n",
      "\n",
      "\n"
     ]
    },
    {
     "data": {
      "text/html": [
       "0.389191919191919"
      ],
      "text/latex": [
       "0.389191919191919"
      ],
      "text/markdown": [
       "0.389191919191919"
      ],
      "text/plain": [
       "[1] 0.3891919"
      ]
     },
     "metadata": {},
     "output_type": "display_data"
    }
   ],
   "source": [
    "library(InformationValue)\n",
    "optCutOff <- optimalCutoff(train_results$deposit, train_results$RPartPredicted)\n",
    "optCutOff"
   ]
  },
  {
   "cell_type": "markdown",
   "id": "1f6d8a26-f573-4686-bc8e-80a175d3219e",
   "metadata": {},
   "source": [
    "Побудуємо `ROC`-криву для тестової вибірки:"
   ]
  },
  {
   "cell_type": "code",
   "execution_count": 38,
   "id": "134d02b7-70d0-4f3b-975c-23f15ac1c249",
   "metadata": {},
   "outputs": [
    {
     "data": {
      "image/png": "[encoded data removed]",
      "text/plain": [
       "plot without title"
      ]
     },
     "metadata": {
      "image/png": {
       "height": 420,
       "width": 420
      }
     },
     "output_type": "display_data"
    }
   ],
   "source": [
    "plotROC(test_results$deposit, test_results$RPartPredicted)"
   ]
  },
  {
   "cell_type": "markdown",
   "id": "0e4d9555-70e1-4649-a129-72e757d48a68",
   "metadata": {},
   "source": [
    "Сформуємо набір класів `0` і `1` для тестового набору даних:"
   ]
  },
  {
   "cell_type": "code",
   "execution_count": 39,
   "id": "4e9b3529-813d-4b0f-93d3-6082302a948f",
   "metadata": {},
   "outputs": [],
   "source": [
    "test_results$RPartPredicted_Class <- ifelse(test_results$RPartPredicted > optCutOff, 1, 0)"
   ]
  },
  {
   "cell_type": "markdown",
   "id": "b4c72854-5ee6-4a79-8409-8c35938f9a48",
   "metadata": {},
   "source": [
    "Confusion matrix:"
   ]
  },
  {
   "cell_type": "code",
   "execution_count": 40,
   "id": "6c67ca68-8309-4b6b-a2a9-60bc08d8b4c2",
   "metadata": {},
   "outputs": [
    {
     "data": {
      "text/plain": [
       "Confusion Matrix and Statistics\n",
       "\n",
       "          Reference\n",
       "Prediction    0    1\n",
       "         0 1504  553\n",
       "         1  793 1056\n",
       "                                          \n",
       "               Accuracy : 0.6554          \n",
       "                 95% CI : (0.6403, 0.6703)\n",
       "    No Information Rate : 0.5881          \n",
       "    P-Value [Acc > NIR] : < 2.2e-16       \n",
       "                                          \n",
       "                  Kappa : 0.3043          \n",
       "                                          \n",
       " Mcnemar's Test P-Value : 7.297e-11       \n",
       "                                          \n",
       "            Sensitivity : 0.6563          \n",
       "            Specificity : 0.6548          \n",
       "         Pos Pred Value : 0.5711          \n",
       "         Neg Pred Value : 0.7312          \n",
       "             Prevalence : 0.4119          \n",
       "         Detection Rate : 0.2704          \n",
       "   Detection Prevalence : 0.4734          \n",
       "      Balanced Accuracy : 0.6555          \n",
       "                                          \n",
       "       'Positive' Class : 1               \n",
       "                                          "
      ]
     },
     "metadata": {},
     "output_type": "display_data"
    }
   ],
   "source": [
    "cm <- caret::confusionMatrix(factor(test_results$deposit), \n",
    "                      factor(test_results$RPartPredicted_Class), \n",
    "                      positive = \"1\")\n",
    "cm"
   ]
  },
  {
   "cell_type": "markdown",
   "id": "08e19c49-1c7d-4812-8204-2af049ece2d9",
   "metadata": {},
   "source": [
    "Переглянемо збалансовану точність класифіції:"
   ]
  },
  {
   "cell_type": "code",
   "execution_count": 41,
   "id": "719f1ee4-a14f-44a4-9b08-7020933d6265",
   "metadata": {},
   "outputs": [
    {
     "data": {
      "text/html": [
       "0.655537676754586"
      ],
      "text/latex": [
       "0.655537676754586"
      ],
      "text/markdown": [
       "0.655537676754586"
      ],
      "text/plain": [
       "[1] 0.6555377"
      ]
     },
     "metadata": {},
     "output_type": "display_data"
    }
   ],
   "source": [
    "BAcc <- cm$byClass[[\"Balanced Accuracy\"]]\n",
    "BAcc "
   ]
  },
  {
   "cell_type": "markdown",
   "id": "097e2185-907a-446d-a5af-2299cc48552b",
   "metadata": {},
   "source": [
    "---"
   ]
  },
  {
   "cell_type": "markdown",
   "id": "a4e5fd6b-fe59-44a8-aadf-8da656c869aa",
   "metadata": {},
   "source": [
    "# 7. Desicion trees with  PartyKit"
   ]
  },
  {
   "cell_type": "markdown",
   "id": "31a1dd47-a189-47ec-a202-d3cbc643a082",
   "metadata": {},
   "source": [
    "Побудуємо дерево рішень за допоомгою пакету `partykit`:"
   ]
  },
  {
   "cell_type": "code",
   "execution_count": 43,
   "id": "c9cd6252-a42d-4109-9553-267db6516487",
   "metadata": {},
   "outputs": [
    {
     "name": "stderr",
     "output_type": "stream",
     "text": [
      "also installing the dependencies ‘libcoin’, ‘mvtnorm’, ‘Formula’, ‘inum’\n",
      "\n",
      "\n",
      "Updating HTML index of packages in '.Library'\n",
      "\n",
      "Making 'packages.html' ...\n",
      " done\n",
      "\n"
     ]
    }
   ],
   "source": [
    "install.packages(\"partykit\")"
   ]
  },
  {
   "cell_type": "code",
   "execution_count": 44,
   "id": "01386215-2697-43ef-a40b-20d5a71df3fd",
   "metadata": {},
   "outputs": [
    {
     "name": "stderr",
     "output_type": "stream",
     "text": [
      "Loading required package: grid\n",
      "\n",
      "Loading required package: libcoin\n",
      "\n",
      "Loading required package: mvtnorm\n",
      "\n"
     ]
    },
    {
     "data": {
      "text/html": [
       "<table class=\"dataframe\">\n",
       "<caption>A data.frame: 6 × 17</caption>\n",
       "<thead>\n",
       "\t<tr><th></th><th scope=col>age</th><th scope=col>job</th><th scope=col>marital</th><th scope=col>education</th><th scope=col>default</th><th scope=col>balance</th><th scope=col>housing</th><th scope=col>loan</th><th scope=col>contact</th><th scope=col>day</th><th scope=col>month</th><th scope=col>campaign</th><th scope=col>pdays</th><th scope=col>previous</th><th scope=col>poutcome</th><th scope=col>deposit</th><th scope=col>pdays_flag</th></tr>\n",
       "\t<tr><th></th><th scope=col>&lt;int&gt;</th><th scope=col>&lt;fct&gt;</th><th scope=col>&lt;fct&gt;</th><th scope=col>&lt;fct&gt;</th><th scope=col>&lt;fct&gt;</th><th scope=col>&lt;int&gt;</th><th scope=col>&lt;fct&gt;</th><th scope=col>&lt;fct&gt;</th><th scope=col>&lt;fct&gt;</th><th scope=col>&lt;int&gt;</th><th scope=col>&lt;ord&gt;</th><th scope=col>&lt;int&gt;</th><th scope=col>&lt;int&gt;</th><th scope=col>&lt;int&gt;</th><th scope=col>&lt;fct&gt;</th><th scope=col>&lt;dbl&gt;</th><th scope=col>&lt;dbl&gt;</th></tr>\n",
       "</thead>\n",
       "<tbody>\n",
       "\t<tr><th scope=row>3</th><td>41</td><td>technician </td><td>married</td><td>secondary</td><td>no</td><td>1270</td><td>yes</td><td>no </td><td>unknown</td><td>5</td><td>may</td><td>1</td><td>-1</td><td>0</td><td>unknown</td><td>1</td><td>0</td></tr>\n",
       "\t<tr><th scope=row>5</th><td>54</td><td>admin.     </td><td>married</td><td>tertiary </td><td>no</td><td> 184</td><td>no </td><td>no </td><td>unknown</td><td>5</td><td>may</td><td>2</td><td>-1</td><td>0</td><td>unknown</td><td>1</td><td>0</td></tr>\n",
       "\t<tr><th scope=row>6</th><td>42</td><td>management </td><td>single </td><td>tertiary </td><td>no</td><td>   0</td><td>yes</td><td>yes</td><td>unknown</td><td>5</td><td>may</td><td>2</td><td>-1</td><td>0</td><td>unknown</td><td>1</td><td>0</td></tr>\n",
       "\t<tr><th scope=row>11</th><td>38</td><td>admin.     </td><td>single </td><td>secondary</td><td>no</td><td> 100</td><td>yes</td><td>no </td><td>unknown</td><td>7</td><td>may</td><td>1</td><td>-1</td><td>0</td><td>unknown</td><td>1</td><td>0</td></tr>\n",
       "\t<tr><th scope=row>12</th><td>30</td><td>blue-collar</td><td>married</td><td>secondary</td><td>no</td><td> 309</td><td>yes</td><td>no </td><td>unknown</td><td>7</td><td>may</td><td>2</td><td>-1</td><td>0</td><td>unknown</td><td>1</td><td>0</td></tr>\n",
       "\t<tr><th scope=row>14</th><td>46</td><td>blue-collar</td><td>single </td><td>tertiary </td><td>no</td><td> 460</td><td>yes</td><td>no </td><td>unknown</td><td>7</td><td>may</td><td>2</td><td>-1</td><td>0</td><td>unknown</td><td>1</td><td>0</td></tr>\n",
       "</tbody>\n",
       "</table>\n"
      ],
      "text/latex": [
       "A data.frame: 6 × 17\n",
       "\\begin{tabular}{r|lllllllllllllllll}\n",
       "  & age & job & marital & education & default & balance & housing & loan & contact & day & month & campaign & pdays & previous & poutcome & deposit & pdays\\_flag\\\\\n",
       "  & <int> & <fct> & <fct> & <fct> & <fct> & <int> & <fct> & <fct> & <fct> & <int> & <ord> & <int> & <int> & <int> & <fct> & <dbl> & <dbl>\\\\\n",
       "\\hline\n",
       "\t3 & 41 & technician  & married & secondary & no & 1270 & yes & no  & unknown & 5 & may & 1 & -1 & 0 & unknown & 1 & 0\\\\\n",
       "\t5 & 54 & admin.      & married & tertiary  & no &  184 & no  & no  & unknown & 5 & may & 2 & -1 & 0 & unknown & 1 & 0\\\\\n",
       "\t6 & 42 & management  & single  & tertiary  & no &    0 & yes & yes & unknown & 5 & may & 2 & -1 & 0 & unknown & 1 & 0\\\\\n",
       "\t11 & 38 & admin.      & single  & secondary & no &  100 & yes & no  & unknown & 7 & may & 1 & -1 & 0 & unknown & 1 & 0\\\\\n",
       "\t12 & 30 & blue-collar & married & secondary & no &  309 & yes & no  & unknown & 7 & may & 2 & -1 & 0 & unknown & 1 & 0\\\\\n",
       "\t14 & 46 & blue-collar & single  & tertiary  & no &  460 & yes & no  & unknown & 7 & may & 2 & -1 & 0 & unknown & 1 & 0\\\\\n",
       "\\end{tabular}\n"
      ],
      "text/markdown": [
       "\n",
       "A data.frame: 6 × 17\n",
       "\n",
       "| <!--/--> | age &lt;int&gt; | job &lt;fct&gt; | marital &lt;fct&gt; | education &lt;fct&gt; | default &lt;fct&gt; | balance &lt;int&gt; | housing &lt;fct&gt; | loan &lt;fct&gt; | contact &lt;fct&gt; | day &lt;int&gt; | month &lt;ord&gt; | campaign &lt;int&gt; | pdays &lt;int&gt; | previous &lt;int&gt; | poutcome &lt;fct&gt; | deposit &lt;dbl&gt; | pdays_flag &lt;dbl&gt; |\n",
       "|---|---|---|---|---|---|---|---|---|---|---|---|---|---|---|---|---|---|\n",
       "| 3 | 41 | technician  | married | secondary | no | 1270 | yes | no  | unknown | 5 | may | 1 | -1 | 0 | unknown | 1 | 0 |\n",
       "| 5 | 54 | admin.      | married | tertiary  | no |  184 | no  | no  | unknown | 5 | may | 2 | -1 | 0 | unknown | 1 | 0 |\n",
       "| 6 | 42 | management  | single  | tertiary  | no |    0 | yes | yes | unknown | 5 | may | 2 | -1 | 0 | unknown | 1 | 0 |\n",
       "| 11 | 38 | admin.      | single  | secondary | no |  100 | yes | no  | unknown | 7 | may | 1 | -1 | 0 | unknown | 1 | 0 |\n",
       "| 12 | 30 | blue-collar | married | secondary | no |  309 | yes | no  | unknown | 7 | may | 2 | -1 | 0 | unknown | 1 | 0 |\n",
       "| 14 | 46 | blue-collar | single  | tertiary  | no |  460 | yes | no  | unknown | 7 | may | 2 | -1 | 0 | unknown | 1 | 0 |\n",
       "\n"
      ],
      "text/plain": [
       "   age job         marital education default balance housing loan contact day\n",
       "3  41  technician  married secondary no      1270    yes     no   unknown 5  \n",
       "5  54  admin.      married tertiary  no       184    no      no   unknown 5  \n",
       "6  42  management  single  tertiary  no         0    yes     yes  unknown 5  \n",
       "11 38  admin.      single  secondary no       100    yes     no   unknown 7  \n",
       "12 30  blue-collar married secondary no       309    yes     no   unknown 7  \n",
       "14 46  blue-collar single  tertiary  no       460    yes     no   unknown 7  \n",
       "   month campaign pdays previous poutcome deposit pdays_flag\n",
       "3  may   1        -1    0        unknown  1       0         \n",
       "5  may   2        -1    0        unknown  1       0         \n",
       "6  may   2        -1    0        unknown  1       0         \n",
       "11 may   1        -1    0        unknown  1       0         \n",
       "12 may   2        -1    0        unknown  1       0         \n",
       "14 may   2        -1    0        unknown  1       0         "
      ]
     },
     "metadata": {},
     "output_type": "display_data"
    }
   ],
   "source": [
    "library(partykit)\n",
    "head(train_data)\n",
    "party_model <- ctree(deposit ~ ., data = train_data)"
   ]
  },
  {
   "cell_type": "markdown",
   "id": "dcaa6d7b-7267-486d-9425-449dcf049bb3",
   "metadata": {},
   "source": [
    "Виведемо текстовий опис моделі:"
   ]
  },
  {
   "cell_type": "code",
   "execution_count": 45,
   "id": "b3a01af2-8cbe-4976-9ba1-2131ca12511e",
   "metadata": {},
   "outputs": [
    {
     "data": {
      "text/plain": [
       "\n",
       "Model formula:\n",
       "deposit ~ age + job + marital + education + default + balance + \n",
       "    housing + loan + contact + day + month + campaign + pdays + \n",
       "    previous + poutcome + pdays_flag\n",
       "\n",
       "Fitted party:\n",
       "[1] root\n",
       "|   [2] poutcome in failure, other, unknown\n",
       "|   |   [3] contact in cellular, telephone\n",
       "|   |   |   [4] housing in no\n",
       "|   |   |   |   [5] loan in no\n",
       "|   |   |   |   |   [6] campaign <= 3\n",
       "|   |   |   |   |   |   [7] job in admin., management, retired, student, unemployed\n",
       "|   |   |   |   |   |   |   [8] day <= 17: 0.733 (n = 715, err = 140.0)\n",
       "|   |   |   |   |   |   |   [9] day > 17\n",
       "|   |   |   |   |   |   |   |   [10] job in admin., management, retired, unemployed: 0.583 (n = 434, err = 105.5)\n",
       "|   |   |   |   |   |   |   |   [11] job in student: 0.843 (n = 51, err = 6.7)\n",
       "|   |   |   |   |   |   [12] job in blue-collar, entrepreneur, housemaid, self-employed, services, technician, unknown\n",
       "|   |   |   |   |   |   |   [13] campaign <= 1: 0.612 (n = 415, err = 98.5)\n",
       "|   |   |   |   |   |   |   [14] campaign > 1\n",
       "|   |   |   |   |   |   |   |   [15] balance <= 106\n",
       "|   |   |   |   |   |   |   |   |   [16] age <= 57: 0.234 (n = 94, err = 16.9)\n",
       "|   |   |   |   |   |   |   |   |   [17] age > 57: 0.700 (n = 10, err = 2.1)\n",
       "|   |   |   |   |   |   |   |   [18] balance > 106: 0.561 (n = 321, err = 79.1)\n",
       "|   |   |   |   |   [19] campaign > 3\n",
       "|   |   |   |   |   |   [20] marital in divorced, single: 0.579 (n = 195, err = 47.5)\n",
       "|   |   |   |   |   |   [21] marital in married\n",
       "|   |   |   |   |   |   |   [22] campaign <= 5: 0.474 (n = 171, err = 42.6)\n",
       "|   |   |   |   |   |   |   [23] campaign > 5: 0.299 (n = 154, err = 32.3)\n",
       "|   |   |   |   [24] loan in yes: 0.302 (n = 321, err = 67.7)\n",
       "|   |   |   [25] housing in yes\n",
       "|   |   |   |   [26] campaign <= 3\n",
       "|   |   |   |   |   [27] marital in divorced, single: 0.455 (n = 759, err = 188.2)\n",
       "|   |   |   |   |   [28] marital in married: 0.372 (n = 985, err = 230.0)\n",
       "|   |   |   |   [29] campaign > 3: 0.301 (n = 395, err = 83.1)\n",
       "|   |   [30] contact in unknown\n",
       "|   |   |   [31] month <= sep\n",
       "|   |   |   |   [32] marital in divorced, single: 0.275 (n = 619, err = 123.3)\n",
       "|   |   |   |   [33] marital in married: 0.183 (n = 903, err = 134.9)\n",
       "|   |   |   [34] month > sep: 0.857 (n = 21, err = 2.6)\n",
       "|   [35] poutcome in success\n",
       "|   |   [36] contact in cellular: 0.925 (n = 637, err = 44.4)\n",
       "|   |   [37] contact in telephone, unknown: 0.857 (n = 56, err = 6.9)\n",
       "\n",
       "Number of inner nodes:    18\n",
       "Number of terminal nodes: 19"
      ]
     },
     "metadata": {},
     "output_type": "display_data"
    }
   ],
   "source": [
    "party_model\n",
    "# Looks like this model is more complex"
   ]
  },
  {
   "cell_type": "markdown",
   "id": "46c22e12-7698-4063-b1f1-da696151db26",
   "metadata": {},
   "source": [
    "Візуалізуємо побудоване дерево рішень:"
   ]
  },
  {
   "cell_type": "code",
   "execution_count": 54,
   "id": "4160783a-0238-4022-903e-e1cb57d127e8",
   "metadata": {},
   "outputs": [
    {
     "data": {
      "image/png": "[encoded data removed]",
      "text/plain": [
       "plot without title"
      ]
     },
     "metadata": {
      "image/png": {
       "height": 420,
       "width": 420
      }
     },
     "output_type": "display_data"
    }
   ],
   "source": [
    "plot(party_model)"
   ]
  },
  {
   "cell_type": "markdown",
   "id": "51259fe0-2a19-47c6-8cfc-816c5e58c44f",
   "metadata": {},
   "source": [
    "Конвернтуємо `ctree()` до `rpart()`:"
   ]
  },
  {
   "cell_type": "code",
   "execution_count": 46,
   "id": "40f5924c-bde9-498e-84c2-82cf5a90c9fb",
   "metadata": {},
   "outputs": [
    {
     "data": {
      "image/png": "[encoded data removed]",
      "text/plain": [
       "plot without title"
      ]
     },
     "metadata": {
      "image/png": {
       "height": 420,
       "width": 420
      }
     },
     "output_type": "display_data"
    }
   ],
   "source": [
    "st <- as.simpleparty(party_model)\n",
    "plot(st)"
   ]
  },
  {
   "cell_type": "markdown",
   "id": "e69cf8c2-3f5f-4bfc-ab39-43008552fca2",
   "metadata": {},
   "source": [
    "Додамо прогнозовані показники до раніше створених дата-фрейму для збору результатів:"
   ]
  },
  {
   "cell_type": "code",
   "execution_count": 47,
   "id": "0c69abc7-6dad-4857-bb79-5f2d5362aab4",
   "metadata": {},
   "outputs": [
    {
     "data": {
      "text/html": [
       "<table class=\"dataframe\">\n",
       "<caption>A data.frame: 6 × 5</caption>\n",
       "<thead>\n",
       "\t<tr><th></th><th scope=col>No</th><th scope=col>deposit</th><th scope=col>RPartPredicted</th><th scope=col>RPartPredicted_Class</th><th scope=col>PartyPredicted</th></tr>\n",
       "\t<tr><th></th><th scope=col>&lt;int&gt;</th><th scope=col>&lt;dbl&gt;</th><th scope=col>&lt;dbl&gt;</th><th scope=col>&lt;dbl&gt;</th><th scope=col>&lt;dbl&gt;</th></tr>\n",
       "</thead>\n",
       "<tbody>\n",
       "\t<tr><th scope=row>1</th><td>1</td><td>1</td><td>0.2287751</td><td>0</td><td>0.1827243</td></tr>\n",
       "\t<tr><th scope=row>2</th><td>2</td><td>1</td><td>0.2287751</td><td>0</td><td>0.1827243</td></tr>\n",
       "\t<tr><th scope=row>4</th><td>3</td><td>1</td><td>0.2287751</td><td>0</td><td>0.1827243</td></tr>\n",
       "\t<tr><th scope=row>7</th><td>4</td><td>1</td><td>0.2287751</td><td>0</td><td>0.1827243</td></tr>\n",
       "\t<tr><th scope=row>8</th><td>5</td><td>1</td><td>0.2287751</td><td>0</td><td>0.2746365</td></tr>\n",
       "\t<tr><th scope=row>9</th><td>6</td><td>1</td><td>0.2287751</td><td>0</td><td>0.1827243</td></tr>\n",
       "</tbody>\n",
       "</table>\n"
      ],
      "text/latex": [
       "A data.frame: 6 × 5\n",
       "\\begin{tabular}{r|lllll}\n",
       "  & No & deposit & RPartPredicted & RPartPredicted\\_Class & PartyPredicted\\\\\n",
       "  & <int> & <dbl> & <dbl> & <dbl> & <dbl>\\\\\n",
       "\\hline\n",
       "\t1 & 1 & 1 & 0.2287751 & 0 & 0.1827243\\\\\n",
       "\t2 & 2 & 1 & 0.2287751 & 0 & 0.1827243\\\\\n",
       "\t4 & 3 & 1 & 0.2287751 & 0 & 0.1827243\\\\\n",
       "\t7 & 4 & 1 & 0.2287751 & 0 & 0.1827243\\\\\n",
       "\t8 & 5 & 1 & 0.2287751 & 0 & 0.2746365\\\\\n",
       "\t9 & 6 & 1 & 0.2287751 & 0 & 0.1827243\\\\\n",
       "\\end{tabular}\n"
      ],
      "text/markdown": [
       "\n",
       "A data.frame: 6 × 5\n",
       "\n",
       "| <!--/--> | No &lt;int&gt; | deposit &lt;dbl&gt; | RPartPredicted &lt;dbl&gt; | RPartPredicted_Class &lt;dbl&gt; | PartyPredicted &lt;dbl&gt; |\n",
       "|---|---|---|---|---|---|\n",
       "| 1 | 1 | 1 | 0.2287751 | 0 | 0.1827243 |\n",
       "| 2 | 2 | 1 | 0.2287751 | 0 | 0.1827243 |\n",
       "| 4 | 3 | 1 | 0.2287751 | 0 | 0.1827243 |\n",
       "| 7 | 4 | 1 | 0.2287751 | 0 | 0.1827243 |\n",
       "| 8 | 5 | 1 | 0.2287751 | 0 | 0.2746365 |\n",
       "| 9 | 6 | 1 | 0.2287751 | 0 | 0.1827243 |\n",
       "\n"
      ],
      "text/plain": [
       "  No deposit RPartPredicted RPartPredicted_Class PartyPredicted\n",
       "1 1  1       0.2287751      0                    0.1827243     \n",
       "2 2  1       0.2287751      0                    0.1827243     \n",
       "4 3  1       0.2287751      0                    0.1827243     \n",
       "7 4  1       0.2287751      0                    0.1827243     \n",
       "8 5  1       0.2287751      0                    0.2746365     \n",
       "9 6  1       0.2287751      0                    0.1827243     "
      ]
     },
     "metadata": {},
     "output_type": "display_data"
    }
   ],
   "source": [
    "train_results$PartyPredicted <- predict(party_model, train_data)\n",
    "test_results$PartyPredicted <- predict(party_model, test_data)\n",
    "head(test_results)"
   ]
  },
  {
   "cell_type": "markdown",
   "id": "383ea882-fec3-4930-9fbf-c35c8ef44b89",
   "metadata": {},
   "source": [
    "Визначимо оптимальну лінію розділення на класи 0 і 1:"
   ]
  },
  {
   "cell_type": "code",
   "execution_count": 48,
   "id": "4ddc2ad4-cfc3-4132-8ed4-9a832c11bb1c",
   "metadata": {},
   "outputs": [
    {
     "data": {
      "text/html": [
       "0.474646781789639"
      ],
      "text/latex": [
       "0.474646781789639"
      ],
      "text/markdown": [
       "0.474646781789639"
      ],
      "text/plain": [
       "[1] 0.4746468"
      ]
     },
     "metadata": {},
     "output_type": "display_data"
    }
   ],
   "source": [
    "optCutOff <- optimalCutoff(train_results$deposit, train_results$PartyPredicted)\n",
    "optCutOff"
   ]
  },
  {
   "cell_type": "markdown",
   "id": "c00c5f35-bc75-4397-be23-90bd0c445e38",
   "metadata": {},
   "source": [
    "ROC-крива та AUROC:"
   ]
  },
  {
   "cell_type": "code",
   "execution_count": 49,
   "id": "aec5f63d-5199-4203-be51-6e949a2e82a2",
   "metadata": {},
   "outputs": [
    {
     "data": {
      "image/png": "[encoded data removed]",
      "text/plain": [
       "plot without title"
      ]
     },
     "metadata": {
      "image/png": {
       "height": 420,
       "width": 420
      }
     },
     "output_type": "display_data"
    }
   ],
   "source": [
    "plotROC(test_results$deposit, test_results$PartyPredicted)"
   ]
  },
  {
   "cell_type": "markdown",
   "id": "22913c16-ab3b-45cc-9029-38f0b2b3da1a",
   "metadata": {},
   "source": [
    "Розділимо результати прогнозування на класи:"
   ]
  },
  {
   "cell_type": "code",
   "execution_count": 50,
   "id": "8b29490a-d3b5-42c0-a77d-f356d377eeee",
   "metadata": {},
   "outputs": [],
   "source": [
    "test_results$PartyPredicted_Class <- ifelse(test_results$PartyPredicted > optCutOff, 1, 0)"
   ]
  },
  {
   "cell_type": "markdown",
   "id": "33ca8529-bfdf-42df-9d84-a3f8ee8fd6fe",
   "metadata": {},
   "source": [
    "Confusion matrix:"
   ]
  },
  {
   "cell_type": "code",
   "execution_count": 51,
   "id": "b0c8b651-ca03-43b8-912b-e147bf7ae348",
   "metadata": {},
   "outputs": [
    {
     "data": {
      "text/plain": [
       "Confusion Matrix and Statistics\n",
       "\n",
       "          Reference\n",
       "Prediction    0    1\n",
       "         0 1535  522\n",
       "         1  803 1046\n",
       "                                          \n",
       "               Accuracy : 0.6608          \n",
       "                 95% CI : (0.6457, 0.6756)\n",
       "    No Information Rate : 0.5986          \n",
       "    P-Value [Acc > NIR] : 6.520e-16       \n",
       "                                          \n",
       "                  Kappa : 0.3144          \n",
       "                                          \n",
       " Mcnemar's Test P-Value : 1.446e-14       \n",
       "                                          \n",
       "            Sensitivity : 0.6671          \n",
       "            Specificity : 0.6565          \n",
       "         Pos Pred Value : 0.5657          \n",
       "         Neg Pred Value : 0.7462          \n",
       "             Prevalence : 0.4014          \n",
       "         Detection Rate : 0.2678          \n",
       "   Detection Prevalence : 0.4734          \n",
       "      Balanced Accuracy : 0.6618          \n",
       "                                          \n",
       "       'Positive' Class : 1               \n",
       "                                          "
      ]
     },
     "metadata": {},
     "output_type": "display_data"
    }
   ],
   "source": [
    "cm <- caret::confusionMatrix(factor(test_results$deposit), \n",
    "                             factor(test_results$PartyPredicted_Class), \n",
    "                             positive = \"1\")\n",
    "cm"
   ]
  },
  {
   "cell_type": "markdown",
   "id": "a7de7d11-3999-48d4-981a-69644db9e2ad",
   "metadata": {},
   "source": [
    "Оцінимо збалансовану точність класифікації:"
   ]
  },
  {
   "cell_type": "code",
   "execution_count": 61,
   "id": "22612c9d-4bd6-4b38-83ac-386ab7a2c21d",
   "metadata": {},
   "outputs": [
    {
     "data": {
      "text/html": [
       "0.687183623451544"
      ],
      "text/latex": [
       "0.687183623451544"
      ],
      "text/markdown": [
       "0.687183623451544"
      ],
      "text/plain": [
       "[1] 0.6871836"
      ]
     },
     "metadata": {},
     "output_type": "display_data"
    }
   ],
   "source": [
    "BAcc # value for previous model"
   ]
  },
  {
   "cell_type": "code",
   "execution_count": 62,
   "id": "092dd81e-5872-478c-a348-138c183496e8",
   "metadata": {},
   "outputs": [
    {
     "data": {
      "text/html": [
       "0.681446138133931"
      ],
      "text/latex": [
       "0.681446138133931"
      ],
      "text/markdown": [
       "0.681446138133931"
      ],
      "text/plain": [
       "[1] 0.6814461"
      ]
     },
     "metadata": {},
     "output_type": "display_data"
    }
   ],
   "source": [
    "BAcc1 <- cm$byClass[[\"Balanced Accuracy\"]]\n",
    "BAcc1"
   ]
  },
  {
   "cell_type": "markdown",
   "id": "e15350c2-bf40-42ab-b554-e145739e2787",
   "metadata": {},
   "source": [
    "---"
   ]
  },
  {
   "cell_type": "markdown",
   "id": "43bc645c-4883-4d1f-9d05-565e88e7c63d",
   "metadata": {},
   "source": [
    "# 8. Desision Tree with c50"
   ]
  },
  {
   "cell_type": "markdown",
   "id": "a4c2ea07-3b92-486b-8152-cf351d1c200e",
   "metadata": {},
   "source": [
    "Скористаємося алгоритмом `C50` для побудови дерева рішень.\n",
    "Для початку потрібно виіхдний показник перетворити у категоріальний (`factor`):"
   ]
  },
  {
   "cell_type": "code",
   "execution_count": 63,
   "id": "7fc7e561-abc6-4b68-933d-63ea7da4bff0",
   "metadata": {},
   "outputs": [],
   "source": [
    "# lets make anew temporary dataset for modeling with target output as factor"
   ]
  },
  {
   "cell_type": "code",
   "execution_count": 52,
   "id": "1a201365-6116-4697-8d5d-50848b5aa558",
   "metadata": {},
   "outputs": [],
   "source": [
    "train_data_tmp <- train_data %>%\n",
    "    mutate(deposit = factor(train_data$deposit, levels = c(0,1)))\n",
    "\n",
    "test_data_tmp <- test_data %>%\n",
    "    mutate(deposit = factor(test_data$deposit, levels = c(0,1)))"
   ]
  },
  {
   "cell_type": "markdown",
   "id": "4ce25771-944a-4ca1-99e0-5ee139a381ff",
   "metadata": {},
   "source": [
    "Побудуємо модель:"
   ]
  },
  {
   "cell_type": "code",
   "execution_count": 54,
   "id": "0c14298b-c6b5-447d-81ee-1dcb4d0b3273",
   "metadata": {},
   "outputs": [
    {
     "name": "stderr",
     "output_type": "stream",
     "text": [
      "also installing the dependency ‘Cubist’\n",
      "\n",
      "\n",
      "Updating HTML index of packages in '.Library'\n",
      "\n",
      "Making 'packages.html' ...\n",
      " done\n",
      "\n"
     ]
    }
   ],
   "source": [
    "install.packages(\"C50\")"
   ]
  },
  {
   "cell_type": "code",
   "execution_count": 55,
   "id": "a5bb6517-fd02-4b18-94f4-30a48eb62f08",
   "metadata": {},
   "outputs": [],
   "source": [
    "library(C50)\n",
    "c5_model <- C5.0(deposit ~ ., data = train_data_tmp)"
   ]
  },
  {
   "cell_type": "markdown",
   "id": "2152b645-1575-442c-94ce-7e4673815bf1",
   "metadata": {},
   "source": [
    "Переглянемо модель:"
   ]
  },
  {
   "cell_type": "code",
   "execution_count": 56,
   "id": "6e0a4b8e-52c0-470c-a72e-db2cd1ac9633",
   "metadata": {},
   "outputs": [
    {
     "data": {
      "text/plain": [
       "\n",
       "Call:\n",
       "C5.0.formula(formula = deposit ~ ., data = train_data_tmp)\n",
       "\n",
       "\n",
       "C5.0 [Release 2.07 GPL Edition]  \tMon Jun 14 13:27:29 2021\n",
       "-------------------------------\n",
       "\n",
       "Class specified by attribute `outcome'\n",
       "\n",
       "Read 7256 cases (17 attributes) from undefined.data\n",
       "\n",
       "Decision tree:\n",
       "\n",
       "poutcome = success: 1 (693/56)\n",
       "poutcome in {failure,other,unknown}:\n",
       ":...pdays > 374: 1 (75/10)\n",
       "    pdays <= 374:\n",
       "    :...age > 60: 1 (292/66)\n",
       "        age <= 60:\n",
       "        :...contact = unknown:\n",
       "            :...poutcome in {failure,other}: 1 (3)\n",
       "            :   poutcome = unknown:\n",
       "            :   :...month in [oct-dec]: 1 (20/2)\n",
       "            :       month in [jan-sep]:\n",
       "            :       :...month in [jan-apr]: 1 (10/1)\n",
       "            :           month in [may-sep]:\n",
       "            :           :...marital = married: 0 (893/157)\n",
       "            :               marital in {divorced,single}:\n",
       "            :               :...default = yes:\n",
       "            :                   :...marital = divorced: 0 (7/2)\n",
       "            :                   :   marital = single:\n",
       "            :                   :   :...day <= 16: 1 (6)\n",
       "            :                   :       day > 16: 0 (7/2)\n",
       "            :                   default = no:\n",
       "            :                   :...day <= 29: 0 (564/139)\n",
       "            :                       day > 29:\n",
       "            :                       :...campaign > 7: 1 (4)\n",
       "            :                           campaign <= 7:\n",
       "            :                           :...campaign <= 1: 1 (5/1)\n",
       "            :                               campaign > 1: 0 (19/7)\n",
       "            contact in {cellular,telephone}:\n",
       "            :...month = dec: 1 (32/3)\n",
       "                month in [jan-nov]:\n",
       "                :...housing = yes:\n",
       "                    :...month = nov:\n",
       "                    :   :...day <= 16: 1 (23/7)\n",
       "                    :   :   day > 16: 0 (264/65)\n",
       "                    :   month in [jan-oct]:\n",
       "                    :   :...month in [sep-oct]: 1 (47/7)\n",
       "                    :       month in [jan-aug]:\n",
       "                    :       :...contact = telephone: 0 (110/17)\n",
       "                    :           contact = cellular:\n",
       "                    :           :...marital in {divorced,\n",
       "                    :               :           married}: 0 (1115/408)\n",
       "                    :               marital = single:\n",
       "                    :               :...pdays_flag > 0:\n",
       "                    :                   :...education in {primary,\n",
       "                    :                   :   :             unknown}: 0 (13/3)\n",
       "                    :                   :   education = secondary:\n",
       "                    :                   :   :...loan = no: 0 (69/19)\n",
       "                    :                   :   :   loan = yes: 1 (8/2)\n",
       "                    :                   :   education = tertiary:\n",
       "                    :                   :   :...poutcome = failure: 1 (55/24)\n",
       "                    :                   :       poutcome in {other,\n",
       "                    :                   :                    unknown}: 0 (17/3)\n",
       "                    :                   pdays_flag <= 0:\n",
       "                    :                   :...job in {entrepreneur,management,\n",
       "                    :                       :       retired,\n",
       "                    :                       :       services}: 0 (129/55)\n",
       "                    :                       job in {housemaid,self-employed,\n",
       "                    :                       :       student,unemployed,\n",
       "                    :                       :       unknown}: 1 (35/13)\n",
       "                    :                       job = admin.:\n",
       "                    :                       :...campaign <= 2: 1 (42/20)\n",
       "                    :                       :   campaign > 2:\n",
       "                    :                       :   :...loan = no: 0 (12)\n",
       "                    :                       :       loan = yes: 1 (4/1)\n",
       "                    :                       job = technician: [S1]\n",
       "                    :                       job = blue-collar:\n",
       "                    :                       :...loan = yes: 1 (10)\n",
       "                    :                           loan = no: [S2]\n",
       "                    housing = no:\n",
       "                    :...loan = yes:\n",
       "                        :...month = jan: 0 (20/1)\n",
       "                        :   month in [feb-nov]:\n",
       "                        :   :...age > 37: 0 (170/39)\n",
       "                        :       age <= 37:\n",
       "                        :       :...job in {admin.,housemaid,management,\n",
       "                        :           :       retired,self-employed,student,\n",
       "                        :           :       unknown}: 0 (58/20)\n",
       "                        :           job = unemployed: 1 (1)\n",
       "                        :           job = blue-collar:\n",
       "                        :           :...education in {primary,\n",
       "                        :           :   :             tertiary}: 0 (3)\n",
       "                        :           :   education in {secondary,\n",
       "                        :           :                 unknown}: 1 (20/5)\n",
       "                        :           job = entrepreneur:\n",
       "                        :           :...balance <= 935: 0 (5/1)\n",
       "                        :           :   balance > 935: 1 (2)\n",
       "                        :           job = services:\n",
       "                        :           :...day <= 9: 0 (6)\n",
       "                        :           :   day > 9: 1 (6/1)\n",
       "                        :           job = technician:\n",
       "                        :           :...age <= 29: 1 (11/3)\n",
       "                        :               age > 29: 0 (16/3)\n",
       "                        loan = no:\n",
       "                        :...balance <= 105:\n",
       "                            :...day <= 5:\n",
       "                            :   :...month in [jan-feb]: 0 (22/8)\n",
       "                            :   :   month in [mar-nov]: 1 (28/4)\n",
       "                            :   day > 5:\n",
       "                            :   :...month in [jan-apr]:\n",
       "                            :       :...month in [feb-apr]: 1 (42/10)\n",
       "                            :       :   month = jan:\n",
       "                            :       :   :...day <= 20: 1 (4)\n",
       "                            :       :       day > 20: 0 (32/9)\n",
       "                            :       month in [may-nov]:\n",
       "                            :       :...month in [may-aug]: 0 (283/72)\n",
       "                            :           month in [sep-nov]:\n",
       "                            :           :...day > 21: 1 (11)\n",
       "                            :               day <= 21:\n",
       "                            :               :...balance <= 86: 0 (45/16)\n",
       "                            :                   balance > 86: 1 (3)\n",
       "                            balance > 105:\n",
       "                            :...month in [jan-jun]:\n",
       "                                :...month in [mar-jun]:\n",
       "                                :   :...pdays <= 293: 1 (470/88)\n",
       "                                :   :   pdays > 293:\n",
       "                                :   :   :...marital = divorced: 1 (4)\n",
       "                                :   :       marital in {married,\n",
       "                                :   :                   single}: 0 (20/8)\n",
       "                                :   month in [jan-feb]:\n",
       "                                :   :...day > 27: 0 (67/17)\n",
       "                                :       day <= 27:\n",
       "                                :       :...day > 9: 1 (71/6)\n",
       "                                :           day <= 9: [S3]\n",
       "                                month in [jul-nov]:\n",
       "                                :...pdays_flag > 0:\n",
       "                                    :...month in [jul-oct]: 1 (101/15)\n",
       "                                    :   month = nov:\n",
       "                                    :   :...campaign > 2: 0 (4)\n",
       "                                    :       campaign <= 2:\n",
       "                                    :       :...day <= 17: 1 (20/2)\n",
       "                                    :           day > 17:\n",
       "                                    :           :...pdays <= 106: 1 (5/1)\n",
       "                                    :               pdays > 106: 0 (8)\n",
       "                                    pdays_flag <= 0:\n",
       "                                    :...age <= 29: 1 (92/14)\n",
       "                                        age > 29:\n",
       "                                        :...marital = divorced:\n",
       "                                            :...balance > 710: 1 (44/9)\n",
       "                                            :   balance <= 710: [S4]\n",
       "                                            marital in {married,single}:\n",
       "                                            :...campaign <= 1: [S5]\n",
       "                                                campaign > 1:\n",
       "                                                :...day <= 10:\n",
       "                                                    :...campaign > 7: 0 (5)\n",
       "                                                    :   campaign <= 7: [S6]\n",
       "                                                    day > 10: [S7]\n",
       "\n",
       "SubTree [S1]\n",
       "\n",
       "education in {primary,unknown}: 0 (2)\n",
       "education = tertiary:\n",
       ":...month in [jan-jul]: 1 (25/9)\n",
       ":   month = aug: 0 (4)\n",
       "education = secondary:\n",
       ":...month = jan: 0 (3)\n",
       "    month in [feb-aug]:\n",
       "    :...month in [feb-apr]: 1 (16/3)\n",
       "        month in [may-aug]: 0 (25/10)\n",
       "\n",
       "SubTree [S2]\n",
       "\n",
       "education = unknown: 0 (0)\n",
       "education = tertiary: 1 (1)\n",
       "education = primary:\n",
       ":...age <= 27: 1 (3)\n",
       ":   age > 27:\n",
       ":   :...age <= 46: 0 (13/4)\n",
       ":       age > 46: 1 (2)\n",
       "education = secondary:\n",
       ":...age <= 23: 1 (4)\n",
       "    age > 23:\n",
       "    :...month in [jan-may]: 0 (24/5)\n",
       "        month in [jun-aug]:\n",
       "        :...day <= 14: 0 (6/2)\n",
       "            day > 14: 1 (6)\n",
       "\n",
       "SubTree [S3]\n",
       "\n",
       "education = unknown: 0 (7/2)\n",
       "education = primary:\n",
       ":...marital in {divorced,married}: 0 (10/2)\n",
       ":   marital = single: 1 (3)\n",
       "education = tertiary:\n",
       ":...pdays <= 192: 1 (59/24)\n",
       ":   pdays > 192: 0 (5)\n",
       "education = secondary:\n",
       ":...marital = divorced: 0 (3)\n",
       "    marital = married:\n",
       "    :...balance <= 1381: 0 (16/4)\n",
       "    :   balance > 1381: 1 (8/1)\n",
       "    marital = single:\n",
       "    :...day <= 7: 0 (27/5)\n",
       "        day > 7: 1 (7/1)\n",
       "\n",
       "SubTree [S4]\n",
       "\n",
       "job in {admin.,self-employed,unemployed}: 1 (9/1)\n",
       "job in {blue-collar,entrepreneur,housemaid,management,retired,services,student,\n",
       ":       unknown}: 0 (19/7)\n",
       "job = technician:\n",
       ":...age <= 54: 0 (11/2)\n",
       "    age > 54: 1 (3)\n",
       "\n",
       "SubTree [S5]\n",
       "\n",
       "contact = telephone: 1 (16/1)\n",
       "contact = cellular:\n",
       ":...education in {primary,unknown}: 0 (28/8)\n",
       "    education in {secondary,tertiary}: 1 (136/56)\n",
       "\n",
       "SubTree [S6]\n",
       "\n",
       "job in {admin.,retired,self-employed,student}: 1 (12/1)\n",
       "job in {entrepreneur,housemaid,unemployed,unknown}: 0 (7/1)\n",
       "job = blue-collar:\n",
       ":...campaign <= 5: 0 (8/1)\n",
       ":   campaign > 5: 1 (2)\n",
       "job = services:\n",
       ":...balance <= 755: 0 (3)\n",
       ":   balance > 755: 1 (4)\n",
       "job = technician:\n",
       ":...contact = cellular: 1 (19/4)\n",
       ":   contact = telephone: 0 (2)\n",
       "job = management:\n",
       ":...contact = telephone: 1 (2)\n",
       "    contact = cellular:\n",
       "    :...age <= 45: 1 (20/7)\n",
       "        age > 45: 0 (7/1)\n",
       "\n",
       "SubTree [S7]\n",
       "\n",
       "job in {admin.,housemaid,management,self-employed,services,student,\n",
       ":       unknown}: 0 (215/68)\n",
       "job = unemployed: 1 (10/3)\n",
       "job = blue-collar:\n",
       ":...marital = married: 0 (40/16)\n",
       ":   marital = single: 1 (3)\n",
       "job = entrepreneur:\n",
       ":...balance <= 1679: 0 (5)\n",
       ":   balance > 1679: 1 (4/1)\n",
       "job = retired:\n",
       ":...contact = telephone: 1 (3)\n",
       ":   contact = cellular:\n",
       ":   :...day <= 16: 1 (5)\n",
       ":       day > 16:\n",
       ":       :...age <= 53: 1 (2)\n",
       ":           age > 53: 0 (12/1)\n",
       "job = technician:\n",
       ":...education = primary: 0 (0)\n",
       "    education = unknown: 1 (1)\n",
       "    education = tertiary:\n",
       "    :...age <= 39: 0 (21/6)\n",
       "    :   age > 39: 1 (7/1)\n",
       "    education = secondary:\n",
       "    :...age <= 34: 0 (16)\n",
       "        age > 34:\n",
       "        :...marital = married: 0 (30/8)\n",
       "            marital = single:\n",
       "            :...day <= 21: 1 (8)\n",
       "                day > 21: 0 (5/1)\n",
       "\n",
       "\n",
       "Evaluation on training data (7256 cases):\n",
       "\n",
       "\t    Decision Tree   \n",
       "\t  ----------------  \n",
       "\t  Size      Errors  \n",
       "\n",
       "\t   124 1709(23.6%)   <<\n",
       "\n",
       "\n",
       "\t   (a)   (b)    <-classified as\n",
       "\t  ----  ----\n",
       "\t  3332   484    (a): class 0\n",
       "\t  1225  2215    (b): class 1\n",
       "\n",
       "\n",
       "\tAttribute usage:\n",
       "\n",
       "\t100.00%\tpoutcome\n",
       "\t 90.45%\tpdays\n",
       "\t 89.42%\tage\n",
       "\t 85.39%\tcontact\n",
       "\t 85.35%\tmonth\n",
       "\t 63.75%\thousing\n",
       "\t 54.99%\tmarital\n",
       "\t 37.22%\tloan\n",
       "\t 30.71%\tbalance\n",
       "\t 30.04%\tday\n",
       "\t 20.70%\tpdays_flag\n",
       "\t 13.91%\tjob\n",
       "\t 10.76%\tcampaign\n",
       "\t  9.87%\teducation\n",
       "\t  8.43%\tdefault\n",
       "\n",
       "\n",
       "Time: 0.1 secs\n"
      ]
     },
     "metadata": {},
     "output_type": "display_data"
    }
   ],
   "source": [
    "summary(c5_model)\n",
    "# its hard to check the nodes"
   ]
  },
  {
   "cell_type": "markdown",
   "id": "0352b201-79ba-4d50-a073-2e9b23aa185e",
   "metadata": {},
   "source": [
    "Здійснимо прогноз значень:"
   ]
  },
  {
   "cell_type": "code",
   "execution_count": 57,
   "id": "25092073-7cf1-4a42-85d9-cf203575bb0f",
   "metadata": {},
   "outputs": [],
   "source": [
    "train_results$C5Predicted <- predict(c5_model, train_data_tmp)\n",
    "test_results$C5Predicted <- predict(c5_model, test_data_tmp)"
   ]
  },
  {
   "cell_type": "markdown",
   "id": "a06abf06-5e63-4dc7-af43-973688a3219c",
   "metadata": {},
   "source": [
    "ROC-крива та AUROC:"
   ]
  },
  {
   "cell_type": "code",
   "execution_count": 58,
   "id": "341a3a8a-df04-4e1d-950b-44e5cbc1265a",
   "metadata": {},
   "outputs": [
    {
     "data": {
      "image/png": "[encoded data removed]",
      "text/plain": [
       "plot without title"
      ]
     },
     "metadata": {
      "image/png": {
       "height": 420,
       "width": 420
      }
     },
     "output_type": "display_data"
    }
   ],
   "source": [
    "plotROC(as.numeric(test_results$deposit), as.numeric(test_results$C5Predicted))\n",
    "# you can see that current algorithm is not very good for this data, partykit is much better"
   ]
  },
  {
   "cell_type": "markdown",
   "id": "e99fdf03-3a92-4c1e-a146-88df15fd60c0",
   "metadata": {},
   "source": [
    "Confusion Matrix:"
   ]
  },
  {
   "cell_type": "code",
   "execution_count": 59,
   "id": "2634db0f-d9fe-457c-a41d-5983047dd8f5",
   "metadata": {},
   "outputs": [
    {
     "data": {
      "text/plain": [
       "Confusion Matrix and Statistics\n",
       "\n",
       "          Reference\n",
       "Prediction    0    1\n",
       "         0 1662  395\n",
       "         1  777 1072\n",
       "                                          \n",
       "               Accuracy : 0.6999          \n",
       "                 95% CI : (0.6853, 0.7143)\n",
       "    No Information Rate : 0.6244          \n",
       "    P-Value [Acc > NIR] : < 2.2e-16       \n",
       "                                          \n",
       "                  Kappa : 0.3918          \n",
       "                                          \n",
       " Mcnemar's Test P-Value : < 2.2e-16       \n",
       "                                          \n",
       "            Sensitivity : 0.7307          \n",
       "            Specificity : 0.6814          \n",
       "         Pos Pred Value : 0.5798          \n",
       "         Neg Pred Value : 0.8080          \n",
       "             Prevalence : 0.3756          \n",
       "         Detection Rate : 0.2744          \n",
       "   Detection Prevalence : 0.4734          \n",
       "      Balanced Accuracy : 0.7061          \n",
       "                                          \n",
       "       'Positive' Class : 1               \n",
       "                                          "
      ]
     },
     "metadata": {},
     "output_type": "display_data"
    }
   ],
   "source": [
    "cm <- caret::confusionMatrix(factor(test_results$deposit), \n",
    "                             test_results$C5Predicted, \n",
    "                             positive = \"1\")\n",
    "cm"
   ]
  },
  {
   "cell_type": "markdown",
   "id": "a3cc84f6-f0a2-4fcf-95f6-0ab2b21200b9",
   "metadata": {},
   "source": [
    "Збалансована точність моделі:"
   ]
  },
  {
   "cell_type": "code",
   "execution_count": 60,
   "id": "99757890-3259-4ae8-bfbe-4a2bcf23a674",
   "metadata": {},
   "outputs": [
    {
     "data": {
      "text/html": [
       "0.655537676754586"
      ],
      "text/latex": [
       "0.655537676754586"
      ],
      "text/markdown": [
       "0.655537676754586"
      ],
      "text/plain": [
       "[1] 0.6555377"
      ]
     },
     "metadata": {},
     "output_type": "display_data"
    },
    {
     "ename": "ERROR",
     "evalue": "Error in eval(expr, envir, enclos): object 'BAcc1' not found\n",
     "output_type": "error",
     "traceback": [
      "Error in eval(expr, envir, enclos): object 'BAcc1' not found\nTraceback:\n"
     ]
    }
   ],
   "source": [
    "BAcc # rpart\n",
    "BAcc1 # partykit"
   ]
  },
  {
   "cell_type": "code",
   "execution_count": 71,
   "id": "693d3a3e-f1e3-4d6f-867e-da7618db10de",
   "metadata": {},
   "outputs": [
    {
     "data": {
      "text/html": [
       "0.709577615614754"
      ],
      "text/latex": [
       "0.709577615614754"
      ],
      "text/markdown": [
       "0.709577615614754"
      ],
      "text/plain": [
       "[1] 0.7095776"
      ]
     },
     "metadata": {},
     "output_type": "display_data"
    }
   ],
   "source": [
    "BAcc2 <- cm$byClass[[\"Balanced Accuracy\"]]\n",
    "BAcc2\n",
    "# but balanced accuracy is the best. So this model better classify both good and bad events"
   ]
  },
  {
   "cell_type": "markdown",
   "id": "dda95592-e8a7-4c68-8acf-889bb1bb525e",
   "metadata": {},
   "source": [
    "---"
   ]
  },
  {
   "cell_type": "markdown",
   "id": "db2aebdb-8ede-4056-9863-471ef7e547fb",
   "metadata": {},
   "source": [
    "# 10. RandomForest"
   ]
  },
  {
   "cell_type": "markdown",
   "id": "7e88ab8b-c8ee-44a7-8857-bee81f68e7c6",
   "metadata": {},
   "source": [
    "Our next step is testing gradient boosting with `random forest` algorithm."
   ]
  },
  {
   "cell_type": "markdown",
   "id": "cacd380f-5615-490f-8623-ef48080f0522",
   "metadata": {},
   "source": [
    "# 10.1. Default `random forest`"
   ]
  },
  {
   "cell_type": "markdown",
   "id": "dcd75376-9506-4aea-8d03-5d7653e713ed",
   "metadata": {},
   "source": [
    "You can use `random forest` with default or special training parameters. "
   ]
  },
  {
   "cell_type": "code",
   "execution_count": 72,
   "id": "6fb064bf-464d-440e-97d0-78d91a7fa77d",
   "metadata": {},
   "outputs": [
    {
     "data": {
      "text/html": [
       "<table class=\"dataframe\">\n",
       "<caption>A data.frame: 6 × 5</caption>\n",
       "<thead>\n",
       "\t<tr><th></th><th scope=col>No</th><th scope=col>deposit</th><th scope=col>RPartPredicted</th><th scope=col>PartyPredicted</th><th scope=col>C5Predicted</th></tr>\n",
       "\t<tr><th></th><th scope=col>&lt;int&gt;</th><th scope=col>&lt;dbl&gt;</th><th scope=col>&lt;dbl&gt;</th><th scope=col>&lt;dbl&gt;</th><th scope=col>&lt;fct&gt;</th></tr>\n",
       "</thead>\n",
       "<tbody>\n",
       "\t<tr><th scope=row>1</th><td>1</td><td>1</td><td>0.2328947</td><td>0.1846995</td><td>0</td></tr>\n",
       "\t<tr><th scope=row>3</th><td>2</td><td>1</td><td>0.2328947</td><td>0.1846995</td><td>0</td></tr>\n",
       "\t<tr><th scope=row>4</th><td>3</td><td>1</td><td>0.2328947</td><td>0.1846995</td><td>0</td></tr>\n",
       "\t<tr><th scope=row>5</th><td>4</td><td>1</td><td>0.2328947</td><td>0.1846995</td><td>0</td></tr>\n",
       "\t<tr><th scope=row>7</th><td>5</td><td>1</td><td>0.2328947</td><td>0.1846995</td><td>0</td></tr>\n",
       "\t<tr><th scope=row>9</th><td>6</td><td>1</td><td>0.2328947</td><td>0.1846995</td><td>0</td></tr>\n",
       "</tbody>\n",
       "</table>\n"
      ],
      "text/latex": [
       "A data.frame: 6 × 5\n",
       "\\begin{tabular}{r|lllll}\n",
       "  & No & deposit & RPartPredicted & PartyPredicted & C5Predicted\\\\\n",
       "  & <int> & <dbl> & <dbl> & <dbl> & <fct>\\\\\n",
       "\\hline\n",
       "\t1 & 1 & 1 & 0.2328947 & 0.1846995 & 0\\\\\n",
       "\t3 & 2 & 1 & 0.2328947 & 0.1846995 & 0\\\\\n",
       "\t4 & 3 & 1 & 0.2328947 & 0.1846995 & 0\\\\\n",
       "\t5 & 4 & 1 & 0.2328947 & 0.1846995 & 0\\\\\n",
       "\t7 & 5 & 1 & 0.2328947 & 0.1846995 & 0\\\\\n",
       "\t9 & 6 & 1 & 0.2328947 & 0.1846995 & 0\\\\\n",
       "\\end{tabular}\n"
      ],
      "text/markdown": [
       "\n",
       "A data.frame: 6 × 5\n",
       "\n",
       "| <!--/--> | No &lt;int&gt; | deposit &lt;dbl&gt; | RPartPredicted &lt;dbl&gt; | PartyPredicted &lt;dbl&gt; | C5Predicted &lt;fct&gt; |\n",
       "|---|---|---|---|---|---|\n",
       "| 1 | 1 | 1 | 0.2328947 | 0.1846995 | 0 |\n",
       "| 3 | 2 | 1 | 0.2328947 | 0.1846995 | 0 |\n",
       "| 4 | 3 | 1 | 0.2328947 | 0.1846995 | 0 |\n",
       "| 5 | 4 | 1 | 0.2328947 | 0.1846995 | 0 |\n",
       "| 7 | 5 | 1 | 0.2328947 | 0.1846995 | 0 |\n",
       "| 9 | 6 | 1 | 0.2328947 | 0.1846995 | 0 |\n",
       "\n"
      ],
      "text/plain": [
       "  No deposit RPartPredicted PartyPredicted C5Predicted\n",
       "1 1  1       0.2328947      0.1846995      0          \n",
       "3 2  1       0.2328947      0.1846995      0          \n",
       "4 3  1       0.2328947      0.1846995      0          \n",
       "5 4  1       0.2328947      0.1846995      0          \n",
       "7 5  1       0.2328947      0.1846995      0          \n",
       "9 6  1       0.2328947      0.1846995      0          "
      ]
     },
     "metadata": {},
     "output_type": "display_data"
    }
   ],
   "source": [
    "head(train_results)"
   ]
  },
  {
   "cell_type": "code",
   "execution_count": 73,
   "id": "26b75ac4-df9f-4b94-978d-d3c2e4734486",
   "metadata": {},
   "outputs": [
    {
     "data": {
      "text/html": [
       "<table class=\"dataframe\">\n",
       "<caption>A data.frame: 6 × 18</caption>\n",
       "<thead>\n",
       "\t<tr><th></th><th scope=col>age</th><th scope=col>job</th><th scope=col>marital</th><th scope=col>education</th><th scope=col>default</th><th scope=col>balance</th><th scope=col>housing</th><th scope=col>loan</th><th scope=col>contact</th><th scope=col>day</th><th scope=col>month</th><th scope=col>campaign</th><th scope=col>pdays</th><th scope=col>previous</th><th scope=col>poutcome</th><th scope=col>deposit</th><th scope=col>pdays_flag</th><th scope=col>poutcoume_success</th></tr>\n",
       "\t<tr><th></th><th scope=col>&lt;int&gt;</th><th scope=col>&lt;fct&gt;</th><th scope=col>&lt;fct&gt;</th><th scope=col>&lt;fct&gt;</th><th scope=col>&lt;fct&gt;</th><th scope=col>&lt;int&gt;</th><th scope=col>&lt;fct&gt;</th><th scope=col>&lt;fct&gt;</th><th scope=col>&lt;fct&gt;</th><th scope=col>&lt;int&gt;</th><th scope=col>&lt;ord&gt;</th><th scope=col>&lt;int&gt;</th><th scope=col>&lt;int&gt;</th><th scope=col>&lt;int&gt;</th><th scope=col>&lt;fct&gt;</th><th scope=col>&lt;dbl&gt;</th><th scope=col>&lt;dbl&gt;</th><th scope=col>&lt;dbl&gt;</th></tr>\n",
       "</thead>\n",
       "<tbody>\n",
       "\t<tr><th scope=row>1</th><td>59</td><td>admin.    </td><td>married</td><td>secondary</td><td>no</td><td>2343</td><td>yes</td><td>no </td><td>unknown</td><td>5</td><td>may</td><td>1</td><td>-1</td><td>0</td><td>unknown</td><td>1</td><td>0</td><td>0</td></tr>\n",
       "\t<tr><th scope=row>3</th><td>41</td><td>technician</td><td>married</td><td>secondary</td><td>no</td><td>1270</td><td>yes</td><td>no </td><td>unknown</td><td>5</td><td>may</td><td>1</td><td>-1</td><td>0</td><td>unknown</td><td>1</td><td>0</td><td>0</td></tr>\n",
       "\t<tr><th scope=row>4</th><td>55</td><td>services  </td><td>married</td><td>secondary</td><td>no</td><td>2476</td><td>yes</td><td>no </td><td>unknown</td><td>5</td><td>may</td><td>1</td><td>-1</td><td>0</td><td>unknown</td><td>1</td><td>0</td><td>0</td></tr>\n",
       "\t<tr><th scope=row>5</th><td>54</td><td>admin.    </td><td>married</td><td>tertiary </td><td>no</td><td> 184</td><td>no </td><td>no </td><td>unknown</td><td>5</td><td>may</td><td>2</td><td>-1</td><td>0</td><td>unknown</td><td>1</td><td>0</td><td>0</td></tr>\n",
       "\t<tr><th scope=row>7</th><td>56</td><td>management</td><td>married</td><td>tertiary </td><td>no</td><td> 830</td><td>yes</td><td>yes</td><td>unknown</td><td>6</td><td>may</td><td>1</td><td>-1</td><td>0</td><td>unknown</td><td>1</td><td>0</td><td>0</td></tr>\n",
       "\t<tr><th scope=row>9</th><td>37</td><td>technician</td><td>married</td><td>secondary</td><td>no</td><td>   1</td><td>yes</td><td>no </td><td>unknown</td><td>6</td><td>may</td><td>1</td><td>-1</td><td>0</td><td>unknown</td><td>1</td><td>0</td><td>0</td></tr>\n",
       "</tbody>\n",
       "</table>\n"
      ],
      "text/latex": [
       "A data.frame: 6 × 18\n",
       "\\begin{tabular}{r|llllllllllllllllll}\n",
       "  & age & job & marital & education & default & balance & housing & loan & contact & day & month & campaign & pdays & previous & poutcome & deposit & pdays\\_flag & poutcoume\\_success\\\\\n",
       "  & <int> & <fct> & <fct> & <fct> & <fct> & <int> & <fct> & <fct> & <fct> & <int> & <ord> & <int> & <int> & <int> & <fct> & <dbl> & <dbl> & <dbl>\\\\\n",
       "\\hline\n",
       "\t1 & 59 & admin.     & married & secondary & no & 2343 & yes & no  & unknown & 5 & may & 1 & -1 & 0 & unknown & 1 & 0 & 0\\\\\n",
       "\t3 & 41 & technician & married & secondary & no & 1270 & yes & no  & unknown & 5 & may & 1 & -1 & 0 & unknown & 1 & 0 & 0\\\\\n",
       "\t4 & 55 & services   & married & secondary & no & 2476 & yes & no  & unknown & 5 & may & 1 & -1 & 0 & unknown & 1 & 0 & 0\\\\\n",
       "\t5 & 54 & admin.     & married & tertiary  & no &  184 & no  & no  & unknown & 5 & may & 2 & -1 & 0 & unknown & 1 & 0 & 0\\\\\n",
       "\t7 & 56 & management & married & tertiary  & no &  830 & yes & yes & unknown & 6 & may & 1 & -1 & 0 & unknown & 1 & 0 & 0\\\\\n",
       "\t9 & 37 & technician & married & secondary & no &    1 & yes & no  & unknown & 6 & may & 1 & -1 & 0 & unknown & 1 & 0 & 0\\\\\n",
       "\\end{tabular}\n"
      ],
      "text/markdown": [
       "\n",
       "A data.frame: 6 × 18\n",
       "\n",
       "| <!--/--> | age &lt;int&gt; | job &lt;fct&gt; | marital &lt;fct&gt; | education &lt;fct&gt; | default &lt;fct&gt; | balance &lt;int&gt; | housing &lt;fct&gt; | loan &lt;fct&gt; | contact &lt;fct&gt; | day &lt;int&gt; | month &lt;ord&gt; | campaign &lt;int&gt; | pdays &lt;int&gt; | previous &lt;int&gt; | poutcome &lt;fct&gt; | deposit &lt;dbl&gt; | pdays_flag &lt;dbl&gt; | poutcoume_success &lt;dbl&gt; |\n",
       "|---|---|---|---|---|---|---|---|---|---|---|---|---|---|---|---|---|---|---|\n",
       "| 1 | 59 | admin.     | married | secondary | no | 2343 | yes | no  | unknown | 5 | may | 1 | -1 | 0 | unknown | 1 | 0 | 0 |\n",
       "| 3 | 41 | technician | married | secondary | no | 1270 | yes | no  | unknown | 5 | may | 1 | -1 | 0 | unknown | 1 | 0 | 0 |\n",
       "| 4 | 55 | services   | married | secondary | no | 2476 | yes | no  | unknown | 5 | may | 1 | -1 | 0 | unknown | 1 | 0 | 0 |\n",
       "| 5 | 54 | admin.     | married | tertiary  | no |  184 | no  | no  | unknown | 5 | may | 2 | -1 | 0 | unknown | 1 | 0 | 0 |\n",
       "| 7 | 56 | management | married | tertiary  | no |  830 | yes | yes | unknown | 6 | may | 1 | -1 | 0 | unknown | 1 | 0 | 0 |\n",
       "| 9 | 37 | technician | married | secondary | no |    1 | yes | no  | unknown | 6 | may | 1 | -1 | 0 | unknown | 1 | 0 | 0 |\n",
       "\n"
      ],
      "text/plain": [
       "  age job        marital education default balance housing loan contact day\n",
       "1 59  admin.     married secondary no      2343    yes     no   unknown 5  \n",
       "3 41  technician married secondary no      1270    yes     no   unknown 5  \n",
       "4 55  services   married secondary no      2476    yes     no   unknown 5  \n",
       "5 54  admin.     married tertiary  no       184    no      no   unknown 5  \n",
       "7 56  management married tertiary  no       830    yes     yes  unknown 6  \n",
       "9 37  technician married secondary no         1    yes     no   unknown 6  \n",
       "  month campaign pdays previous poutcome deposit pdays_flag poutcoume_success\n",
       "1 may   1        -1    0        unknown  1       0          0                \n",
       "3 may   1        -1    0        unknown  1       0          0                \n",
       "4 may   1        -1    0        unknown  1       0          0                \n",
       "5 may   2        -1    0        unknown  1       0          0                \n",
       "7 may   1        -1    0        unknown  1       0          0                \n",
       "9 may   1        -1    0        unknown  1       0          0                "
      ]
     },
     "metadata": {},
     "output_type": "display_data"
    }
   ],
   "source": [
    "head(train_data)"
   ]
  },
  {
   "cell_type": "code",
   "execution_count": 61,
   "id": "22a6d805-f38a-4988-a278-477daf1caa2c",
   "metadata": {},
   "outputs": [
    {
     "name": "stderr",
     "output_type": "stream",
     "text": [
      "Updating HTML index of packages in '.Library'\n",
      "\n",
      "Making 'packages.html' ...\n",
      " done\n",
      "\n"
     ]
    }
   ],
   "source": [
    "install.packages(\"randomForest\")"
   ]
  },
  {
   "cell_type": "code",
   "execution_count": 63,
   "id": "2f0ca35e-6c7a-4ce1-8e33-a646b6d70928",
   "metadata": {},
   "outputs": [
    {
     "name": "stderr",
     "output_type": "stream",
     "text": [
      "Warning message in randomForest.default(m, y, ...):\n",
      "“The response has five or fewer unique values.  Are you sure you want to do regression?”\n"
     ]
    }
   ],
   "source": [
    "library(randomForest)\n",
    "\n",
    "rf_model <- randomForest(deposit ~ ., \n",
    "                         data=train_data, \n",
    "                         ntree=100, \n",
    "                         mtry=2, \n",
    "                         importance=TRUE) #Should importance of predictors be assessed?"
   ]
  },
  {
   "cell_type": "markdown",
   "id": "11426ff0-61c2-4304-becb-b90b3fb7bdd2",
   "metadata": {},
   "source": [
    "`ntree` - Number of trees to grow. This should not be set to too small a number, to ensure that every input row gets predicted at least a few times.\n",
    "\n",
    "`mtry` - Number of variables randomly sampled as candidates at each split."
   ]
  },
  {
   "cell_type": "code",
   "execution_count": 64,
   "id": "71bfdcfb-0889-40d8-bb58-870614b0f329",
   "metadata": {},
   "outputs": [
    {
     "data": {
      "text/plain": [
       "\n",
       "Call:\n",
       " randomForest(formula = deposit ~ ., data = train_data, ntree = 100,      mtry = 2, importance = TRUE) \n",
       "               Type of random forest: regression\n",
       "                     Number of trees: 100\n",
       "No. of variables tried at each split: 2\n",
       "\n",
       "          Mean of squared residuals: 0.1922885\n",
       "                    % Var explained: 22.88"
      ]
     },
     "metadata": {},
     "output_type": "display_data"
    }
   ],
   "source": [
    "rf_model"
   ]
  },
  {
   "cell_type": "markdown",
   "id": "5ad56d21-95e3-485c-8dd7-c07e4dbe9917",
   "metadata": {},
   "source": [
    "Можемо провести аналіз важливості параметрів у залежності від критерію `зменшення точності` або `зменшення джині`:"
   ]
  },
  {
   "cell_type": "code",
   "execution_count": 65,
   "id": "4a0597ae-bfdc-488e-aebe-a41cc0124f73",
   "metadata": {},
   "outputs": [
    {
     "data": {
      "image/png": "[encoded data removed]",
      "text/plain": [
       "plot without title"
      ]
     },
     "metadata": {
      "image/png": {
       "height": 420,
       "width": 420
      }
     },
     "output_type": "display_data"
    }
   ],
   "source": [
    "varImpPlot(rf_model)"
   ]
  },
  {
   "cell_type": "markdown",
   "id": "ee5d41da-9f6f-4b61-b4a7-ade8aa729465",
   "metadata": {},
   "source": [
    "- [x] `MeanDecreaseAccuracy`: gives a rough estimate of the loss in prediction performance when that particular variable is omitted from the training set. Caveat: if two variables are somewhat redundant, then omitting one of them may not lead to massive gains in prediction performance, but would make the second variable more important.\n",
    "\n",
    "- [x] `MeanDecreaseGini`: GINI is a measure of node impurity. Think of it like this, if you use this feature to split the data, how pure will the nodes be? Highest purity means that each node contains only elements of a single class. Assessing the decrease in GINI when that feature is omitted leads to an understanding of how important that feature is to split the data correctly."
   ]
  },
  {
   "cell_type": "code",
   "execution_count": 66,
   "id": "51fe01c1-c197-4c78-94fa-d821664e9a0e",
   "metadata": {},
   "outputs": [],
   "source": [
    "train_results$RF <- predict(rf_model, train_data)\n",
    "test_results$RF <- predict(rf_model, test_data)"
   ]
  },
  {
   "cell_type": "code",
   "execution_count": 67,
   "id": "33b9bac8-3183-4c2a-9c82-c05d83dcb040",
   "metadata": {},
   "outputs": [
    {
     "data": {
      "text/html": [
       "0.438824375813695"
      ],
      "text/latex": [
       "0.438824375813695"
      ],
      "text/markdown": [
       "0.438824375813695"
      ],
      "text/plain": [
       "[1] 0.4388244"
      ]
     },
     "metadata": {},
     "output_type": "display_data"
    }
   ],
   "source": [
    "optCutOff <- optimalCutoff(train_results$deposit, train_results$RF)\n",
    "optCutOff"
   ]
  },
  {
   "cell_type": "code",
   "execution_count": 68,
   "id": "f1c42720-b3a6-4d04-986c-0356d6573a91",
   "metadata": {},
   "outputs": [],
   "source": [
    "test_results$RF_Class = ifelse(test_results$RF > optCutOff, 1, 0)"
   ]
  },
  {
   "cell_type": "markdown",
   "id": "4f2b59ac-fd24-4ac7-8e27-80948517df4d",
   "metadata": {},
   "source": [
    "ROC-крива та AUROC:"
   ]
  },
  {
   "cell_type": "code",
   "execution_count": 69,
   "id": "ecb960e3-1bb1-42f7-adf6-740ace752aef",
   "metadata": {},
   "outputs": [
    {
     "data": {
      "image/png": "[encoded data removed]",
      "text/plain": [
       "plot without title"
      ]
     },
     "metadata": {
      "image/png": {
       "height": 420,
       "width": 420
      }
     },
     "output_type": "display_data"
    }
   ],
   "source": [
    "plotROC(as.numeric(test_results$deposit), as.numeric(test_results$RF))"
   ]
  },
  {
   "cell_type": "code",
   "execution_count": 70,
   "id": "aed74884-d3a2-4502-89b6-26aef71574db",
   "metadata": {},
   "outputs": [
    {
     "data": {
      "text/plain": [
       "Confusion Matrix and Statistics\n",
       "\n",
       "          Reference\n",
       "Prediction    0    1\n",
       "         0 1469  588\n",
       "         1  550 1299\n",
       "                                          \n",
       "               Accuracy : 0.7087          \n",
       "                 95% CI : (0.6941, 0.7229)\n",
       "    No Information Rate : 0.5169          \n",
       "    P-Value [Acc > NIR] : <2e-16          \n",
       "                                          \n",
       "                  Kappa : 0.4163          \n",
       "                                          \n",
       " Mcnemar's Test P-Value : 0.2727          \n",
       "                                          \n",
       "            Sensitivity : 0.6884          \n",
       "            Specificity : 0.7276          \n",
       "         Pos Pred Value : 0.7025          \n",
       "         Neg Pred Value : 0.7141          \n",
       "             Prevalence : 0.4831          \n",
       "         Detection Rate : 0.3326          \n",
       "   Detection Prevalence : 0.4734          \n",
       "      Balanced Accuracy : 0.7080          \n",
       "                                          \n",
       "       'Positive' Class : 1               \n",
       "                                          "
      ]
     },
     "metadata": {},
     "output_type": "display_data"
    }
   ],
   "source": [
    "# Balanced accuracy is much better the before!\n",
    "cm <- caret::confusionMatrix(factor(test_results$deposit), \n",
    "                             factor(test_results$RF_Class), \n",
    "                             positive = \"1\")\n",
    "cm"
   ]
  },
  {
   "cell_type": "markdown",
   "id": "ed778f42-4f70-497c-a7fb-62e05cb5070d",
   "metadata": {},
   "source": [
    "Balanced accuracy is hte best for now"
   ]
  },
  {
   "cell_type": "markdown",
   "id": "0d58b8ad-bec1-4deb-822b-041d97cf5e52",
   "metadata": {},
   "source": [
    "---"
   ]
  },
  {
   "cell_type": "markdown",
   "id": "134d305f-0839-467d-a606-b9405d269153",
   "metadata": {},
   "source": [
    "# 11. xgBoost"
   ]
  },
  {
   "cell_type": "markdown",
   "id": "3ba145ee-9381-4f31-980a-f71a4d684723",
   "metadata": {},
   "source": [
    "Our next step is testing gradient boosting with `xgboost` algorithm."
   ]
  },
  {
   "cell_type": "code",
   "execution_count": 74,
   "id": "dfb91c9d-d898-47e4-b86f-79f80c0ab0bb",
   "metadata": {},
   "outputs": [
    {
     "name": "stderr",
     "output_type": "stream",
     "text": [
      "Updating HTML index of packages in '.Library'\n",
      "\n",
      "Making 'packages.html' ...\n",
      " done\n",
      "\n"
     ]
    }
   ],
   "source": [
    "install.packages(\"xgboost\")"
   ]
  },
  {
   "cell_type": "code",
   "execution_count": 75,
   "id": "1b5251ba-eca6-4f86-a61e-bc0ee1817624",
   "metadata": {},
   "outputs": [
    {
     "name": "stderr",
     "output_type": "stream",
     "text": [
      "\n",
      "Attaching package: ‘xgboost’\n",
      "\n",
      "\n",
      "The following object is masked from ‘package:rattle’:\n",
      "\n",
      "    xgboost\n",
      "\n",
      "\n",
      "The following object is masked from ‘package:dplyr’:\n",
      "\n",
      "    slice\n",
      "\n",
      "\n"
     ]
    }
   ],
   "source": [
    "library(xgboost)"
   ]
  },
  {
   "cell_type": "markdown",
   "id": "953c546f-bde1-4585-a0ae-3545efcf5de4",
   "metadata": {},
   "source": [
    "For complex algorithm like `random forest` or `xgboost` model training is the most important stage."
   ]
  },
  {
   "cell_type": "markdown",
   "id": "5ba9a4a8-1b35-4e9b-9446-3a06ef6f7658",
   "metadata": {},
   "source": [
    "XGBoost only works with numeric vectors. Therefore, you need to convert all other forms of data into numeric vectors."
   ]
  },
  {
   "cell_type": "code",
   "execution_count": 76,
   "id": "865955cc-5be6-4c63-b86a-3f6bd8fc5f52",
   "metadata": {},
   "outputs": [
    {
     "data": {
      "text/plain": [
       "xgb.DMatrix  dim: 3906 x 43  info: label  colnames: yes"
      ]
     },
     "metadata": {},
     "output_type": "display_data"
    }
   ],
   "source": [
    "train_labels <- train_data$deposit\n",
    "test_labels <- test_data$deposit\n",
    "\n",
    "xgb_train_data <- xgb.DMatrix(data = model.matrix(deposit~., data = train_data),\n",
    "                              label = train_labels)\n",
    "xgb_test_data <- xgb.DMatrix(data = model.matrix(deposit~., data = test_data),\n",
    "                              label = test_labels)\n",
    "xgb_test_data"
   ]
  },
  {
   "cell_type": "markdown",
   "id": "f5a31287-1e28-4665-85ed-6afae36802ed",
   "metadata": {},
   "source": [
    "We will train decision tree model using the following parameters:\n",
    "\n",
    "- [x] `objective = \"binary:logistic\"`: we will train a binary classification model ;\n",
    "- [x] `max.depth = 2`: the trees won’t be deep, because our case is very simple ;\n",
    "- [x] `nthread = 2`: the number of CPU threads we are going to use;\n",
    "- [x] `nrounds = 2`: there will be two passes on the data, the second one will enhance the model by further reducing the difference between ground truth and prediction."
   ]
  },
  {
   "cell_type": "code",
   "execution_count": 77,
   "id": "104e1fde-acc9-49e7-ad33-fdce53319a37",
   "metadata": {},
   "outputs": [
    {
     "name": "stderr",
     "output_type": "stream",
     "text": [
      "Warning message in xgb.get.DMatrix(data, label, missing, weight):\n",
      "“xgboost: label will be ignored.”\n"
     ]
    },
    {
     "name": "stdout",
     "output_type": "stream",
     "text": [
      "[13:40:42] WARNING: amalgamation/../src/learner.cc:1095: Starting in XGBoost 1.3.0, the default evaluation metric used with the objective 'binary:logistic' was changed from 'error' to 'logloss'. Explicitly set eval_metric if you'd like to restore the old behavior.\n",
      "[1]\ttrain-logloss:0.659983 \n",
      "[2]\ttrain-logloss:0.635886 \n"
     ]
    },
    {
     "data": {
      "text/plain": [
       "##### xgb.Booster\n",
       "raw: 4.2 Kb \n",
       "call:\n",
       "  xgb.train(params = params, data = dtrain, nrounds = nrounds, \n",
       "    watchlist = watchlist, verbose = verbose, print_every_n = print_every_n, \n",
       "    early_stopping_rounds = early_stopping_rounds, maximize = maximize, \n",
       "    save_period = save_period, save_name = save_name, xgb_model = xgb_model, \n",
       "    callbacks = callbacks, max.depth = 2, nthread = 2, objective = \"binary:logistic\")\n",
       "params (as set within xgb.train):\n",
       "  max_depth = \"2\", nthread = \"2\", objective = \"binary:logistic\", validate_parameters = \"TRUE\"\n",
       "xgb.attributes:\n",
       "  niter\n",
       "callbacks:\n",
       "  cb.print.evaluation(period = print_every_n)\n",
       "  cb.evaluation.log()\n",
       "# of features: 43 \n",
       "niter: 2\n",
       "nfeatures : 43 \n",
       "evaluation_log:\n",
       " iter train_logloss\n",
       "    1      0.659983\n",
       "    2      0.635886"
      ]
     },
     "metadata": {},
     "output_type": "display_data"
    }
   ],
   "source": [
    "xgb_model <- xgboost(data = xgb_train_data, \n",
    "                     label = train_labels, \n",
    "                     max.depth = 2, \n",
    "                     #eta = 1, \n",
    "                     nthread = 2, \n",
    "                     nrounds = 2, \n",
    "                     objective = \"binary:logistic\")\n",
    "xgb_model"
   ]
  },
  {
   "cell_type": "code",
   "execution_count": 78,
   "id": "3ee7f17c-a160-4b14-9813-6e7d56983ab1",
   "metadata": {},
   "outputs": [
    {
     "data": {
      "text/html": [
       "<table class=\"dataframe\">\n",
       "<caption>A data.frame: 6 × 10</caption>\n",
       "<thead>\n",
       "\t<tr><th></th><th scope=col>No</th><th scope=col>deposit</th><th scope=col>RPartPredicted</th><th scope=col>RPartPredicted_Class</th><th scope=col>PartyPredicted</th><th scope=col>PartyPredicted_Class</th><th scope=col>C5Predicted</th><th scope=col>RF</th><th scope=col>RF_Class</th><th scope=col>XGB</th></tr>\n",
       "\t<tr><th></th><th scope=col>&lt;int&gt;</th><th scope=col>&lt;dbl&gt;</th><th scope=col>&lt;dbl&gt;</th><th scope=col>&lt;dbl&gt;</th><th scope=col>&lt;dbl&gt;</th><th scope=col>&lt;dbl&gt;</th><th scope=col>&lt;fct&gt;</th><th scope=col>&lt;dbl&gt;</th><th scope=col>&lt;dbl&gt;</th><th scope=col>&lt;dbl&gt;</th></tr>\n",
       "</thead>\n",
       "<tbody>\n",
       "\t<tr><th scope=row>1</th><td>1</td><td>1</td><td>0.2287751</td><td>0</td><td>0.1827243</td><td>0</td><td>0</td><td>0.2404416</td><td>0</td><td>0.3903929</td></tr>\n",
       "\t<tr><th scope=row>2</th><td>2</td><td>1</td><td>0.2287751</td><td>0</td><td>0.1827243</td><td>0</td><td>0</td><td>0.2742133</td><td>0</td><td>0.3903929</td></tr>\n",
       "\t<tr><th scope=row>4</th><td>3</td><td>1</td><td>0.2287751</td><td>0</td><td>0.1827243</td><td>0</td><td>0</td><td>0.2267023</td><td>0</td><td>0.3903929</td></tr>\n",
       "\t<tr><th scope=row>7</th><td>4</td><td>1</td><td>0.2287751</td><td>0</td><td>0.1827243</td><td>0</td><td>0</td><td>0.2526141</td><td>0</td><td>0.3903929</td></tr>\n",
       "\t<tr><th scope=row>8</th><td>5</td><td>1</td><td>0.2287751</td><td>0</td><td>0.2746365</td><td>0</td><td>0</td><td>0.3152705</td><td>0</td><td>0.3903929</td></tr>\n",
       "\t<tr><th scope=row>9</th><td>6</td><td>1</td><td>0.2287751</td><td>0</td><td>0.1827243</td><td>0</td><td>0</td><td>0.1788092</td><td>0</td><td>0.3903929</td></tr>\n",
       "</tbody>\n",
       "</table>\n"
      ],
      "text/latex": [
       "A data.frame: 6 × 10\n",
       "\\begin{tabular}{r|llllllllll}\n",
       "  & No & deposit & RPartPredicted & RPartPredicted\\_Class & PartyPredicted & PartyPredicted\\_Class & C5Predicted & RF & RF\\_Class & XGB\\\\\n",
       "  & <int> & <dbl> & <dbl> & <dbl> & <dbl> & <dbl> & <fct> & <dbl> & <dbl> & <dbl>\\\\\n",
       "\\hline\n",
       "\t1 & 1 & 1 & 0.2287751 & 0 & 0.1827243 & 0 & 0 & 0.2404416 & 0 & 0.3903929\\\\\n",
       "\t2 & 2 & 1 & 0.2287751 & 0 & 0.1827243 & 0 & 0 & 0.2742133 & 0 & 0.3903929\\\\\n",
       "\t4 & 3 & 1 & 0.2287751 & 0 & 0.1827243 & 0 & 0 & 0.2267023 & 0 & 0.3903929\\\\\n",
       "\t7 & 4 & 1 & 0.2287751 & 0 & 0.1827243 & 0 & 0 & 0.2526141 & 0 & 0.3903929\\\\\n",
       "\t8 & 5 & 1 & 0.2287751 & 0 & 0.2746365 & 0 & 0 & 0.3152705 & 0 & 0.3903929\\\\\n",
       "\t9 & 6 & 1 & 0.2287751 & 0 & 0.1827243 & 0 & 0 & 0.1788092 & 0 & 0.3903929\\\\\n",
       "\\end{tabular}\n"
      ],
      "text/markdown": [
       "\n",
       "A data.frame: 6 × 10\n",
       "\n",
       "| <!--/--> | No &lt;int&gt; | deposit &lt;dbl&gt; | RPartPredicted &lt;dbl&gt; | RPartPredicted_Class &lt;dbl&gt; | PartyPredicted &lt;dbl&gt; | PartyPredicted_Class &lt;dbl&gt; | C5Predicted &lt;fct&gt; | RF &lt;dbl&gt; | RF_Class &lt;dbl&gt; | XGB &lt;dbl&gt; |\n",
       "|---|---|---|---|---|---|---|---|---|---|---|\n",
       "| 1 | 1 | 1 | 0.2287751 | 0 | 0.1827243 | 0 | 0 | 0.2404416 | 0 | 0.3903929 |\n",
       "| 2 | 2 | 1 | 0.2287751 | 0 | 0.1827243 | 0 | 0 | 0.2742133 | 0 | 0.3903929 |\n",
       "| 4 | 3 | 1 | 0.2287751 | 0 | 0.1827243 | 0 | 0 | 0.2267023 | 0 | 0.3903929 |\n",
       "| 7 | 4 | 1 | 0.2287751 | 0 | 0.1827243 | 0 | 0 | 0.2526141 | 0 | 0.3903929 |\n",
       "| 8 | 5 | 1 | 0.2287751 | 0 | 0.2746365 | 0 | 0 | 0.3152705 | 0 | 0.3903929 |\n",
       "| 9 | 6 | 1 | 0.2287751 | 0 | 0.1827243 | 0 | 0 | 0.1788092 | 0 | 0.3903929 |\n",
       "\n"
      ],
      "text/plain": [
       "  No deposit RPartPredicted RPartPredicted_Class PartyPredicted\n",
       "1 1  1       0.2287751      0                    0.1827243     \n",
       "2 2  1       0.2287751      0                    0.1827243     \n",
       "4 3  1       0.2287751      0                    0.1827243     \n",
       "7 4  1       0.2287751      0                    0.1827243     \n",
       "8 5  1       0.2287751      0                    0.2746365     \n",
       "9 6  1       0.2287751      0                    0.1827243     \n",
       "  PartyPredicted_Class C5Predicted RF        RF_Class XGB      \n",
       "1 0                    0           0.2404416 0        0.3903929\n",
       "2 0                    0           0.2742133 0        0.3903929\n",
       "4 0                    0           0.2267023 0        0.3903929\n",
       "7 0                    0           0.2526141 0        0.3903929\n",
       "8 0                    0           0.3152705 0        0.3903929\n",
       "9 0                    0           0.1788092 0        0.3903929"
      ]
     },
     "metadata": {},
     "output_type": "display_data"
    }
   ],
   "source": [
    "# predict data\n",
    "train_results$XGB <- predict(xgb_model, xgb_train_data)\n",
    "test_results$XGB <- predict(xgb_model, xgb_test_data)\n",
    "\n",
    "head(test_results)"
   ]
  },
  {
   "cell_type": "markdown",
   "id": "2b3e99e5-94f4-4998-a79d-8272d4269cd3",
   "metadata": {},
   "source": [
    "Optimal cutoff:"
   ]
  },
  {
   "cell_type": "code",
   "execution_count": 79,
   "id": "7a725254-6555-46e3-9bac-60c6dfc38344",
   "metadata": {},
   "outputs": [
    {
     "data": {
      "text/html": [
       "0.473113248348236"
      ],
      "text/latex": [
       "0.473113248348236"
      ],
      "text/markdown": [
       "0.473113248348236"
      ],
      "text/plain": [
       "[1] 0.4731132"
      ]
     },
     "metadata": {},
     "output_type": "display_data"
    }
   ],
   "source": [
    "optCutOff <- optimalCutoff(train_results$deposit, train_results$XGB)\n",
    "optCutOff"
   ]
  },
  {
   "cell_type": "code",
   "execution_count": 80,
   "id": "0117986e-9bdb-45f2-bb91-0c6e222dd3dd",
   "metadata": {},
   "outputs": [],
   "source": [
    "# evaluate classification class\n",
    "test_results$XGB_Class = ifelse(test_results$XGB > optCutOff, 1, 0)"
   ]
  },
  {
   "cell_type": "code",
   "execution_count": 81,
   "id": "22403c3c-f53e-44d0-9d23-4596b95cc5b1",
   "metadata": {},
   "outputs": [
    {
     "data": {
      "image/png": "[encoded data removed]",
      "text/plain": [
       "plot without title"
      ]
     },
     "metadata": {
      "image/png": {
       "height": 420,
       "width": 420
      }
     },
     "output_type": "display_data"
    }
   ],
   "source": [
    "plotROC(as.numeric(test_results$deposit), as.numeric(test_results$XGB))"
   ]
  },
  {
   "cell_type": "code",
   "execution_count": 83,
   "id": "f0ebc0de-e751-4a88-8b64-2a12537888ae",
   "metadata": {},
   "outputs": [
    {
     "data": {
      "text/plain": [
       "Confusion Matrix and Statistics\n",
       "\n",
       "          Reference\n",
       "Prediction    0    1\n",
       "         0 1777  280\n",
       "         1 1065  784\n",
       "                                          \n",
       "               Accuracy : 0.6557          \n",
       "                 95% CI : (0.6405, 0.6706)\n",
       "    No Information Rate : 0.7276          \n",
       "    P-Value [Acc > NIR] : 1               \n",
       "                                          \n",
       "                  Kappa : 0.2942          \n",
       "                                          \n",
       " Mcnemar's Test P-Value : <2e-16          \n",
       "                                          \n",
       "            Sensitivity : 0.7368          \n",
       "            Specificity : 0.6253          \n",
       "         Pos Pred Value : 0.4240          \n",
       "         Neg Pred Value : 0.8639          \n",
       "             Prevalence : 0.2724          \n",
       "         Detection Rate : 0.2007          \n",
       "   Detection Prevalence : 0.4734          \n",
       "      Balanced Accuracy : 0.6811          \n",
       "                                          \n",
       "       'Positive' Class : 1               \n",
       "                                          "
      ]
     },
     "metadata": {},
     "output_type": "display_data"
    }
   ],
   "source": [
    "# Balanced accuracy is not better, random forest wins for now!\n",
    "cm <- caret::confusionMatrix(factor(test_results$deposit), \n",
    "                             factor(test_results$XGB_Class), \n",
    "                             positive = \"1\")\n",
    "cm"
   ]
  },
  {
   "cell_type": "markdown",
   "id": "cd5e654b-00f4-4e1e-97ee-0f09c1eb8026",
   "metadata": {},
   "source": [
    "---"
   ]
  },
  {
   "cell_type": "markdown",
   "id": "3a3908d0-0c1d-4597-963d-32024a68e20a",
   "metadata": {},
   "source": [
    "# 12. lightgbm "
   ]
  },
  {
   "cell_type": "markdown",
   "id": "1ae5f45f-0765-4a01-9f58-7dd7b8d98596",
   "metadata": {},
   "source": [
    "Light gbm is one of most useful package for machine learning. It has one super power: speed of calculations. While you using very big datasets `randomForest` and `xgBoost` work slow, but `lightgbm` works better."
   ]
  },
  {
   "cell_type": "markdown",
   "id": "8caa04c5-d0a4-40d4-ba53-7c8e2ed713a4",
   "metadata": {},
   "source": [
    "For this algorithm we should convert our data to special matrices too. So, lets install packages for example:"
   ]
  },
  {
   "cell_type": "code",
   "execution_count": 89,
   "id": "c13c1a08-f74d-42ae-ac79-a0a745dfed6e",
   "metadata": {},
   "outputs": [
    {
     "name": "stderr",
     "output_type": "stream",
     "text": [
      "Updating HTML index of packages in '.Library'\n",
      "\n",
      "Making 'packages.html' ...\n",
      " done\n",
      "\n",
      "Updating HTML index of packages in '.Library'\n",
      "\n",
      "Making 'packages.html' ...\n",
      " done\n",
      "\n"
     ]
    }
   ],
   "source": [
    "install.packages(\"lightgbm\")\n",
    "install.packages(\"Matrix\") # ALERT sometimes you need to unistall Matrix in RSTudio and install it again"
   ]
  },
  {
   "cell_type": "code",
   "execution_count": 84,
   "id": "17a65673-b47d-40f0-95c8-f5e088ca7bfd",
   "metadata": {},
   "outputs": [
    {
     "name": "stderr",
     "output_type": "stream",
     "text": [
      "Warning message:\n",
      "“package ‘Matrix’ was built under R version 4.0.5”\n",
      "\n",
      "Attaching package: ‘Matrix’\n",
      "\n",
      "\n",
      "The following object is masked from ‘package:bitops’:\n",
      "\n",
      "    %&%\n",
      "\n",
      "\n"
     ]
    },
    {
     "ename": "ERROR",
     "evalue": "Error in library(lightgbm): there is no package called ‘lightgbm’\n",
     "output_type": "error",
     "traceback": [
      "Error in library(lightgbm): there is no package called ‘lightgbm’\nTraceback:\n",
      "1. library(lightgbm)"
     ]
    }
   ],
   "source": [
    "#install.packages(\"lightgbm\")\n",
    "#install.packages(\"Matrix\") # ALERT sometimes you need to unistall Matrix in RSTudio and install it again\n",
    "library(Matrix)                      \n",
    "library(lightgbm)"
   ]
  },
  {
   "cell_type": "markdown",
   "id": "6ca84605-3db1-4bf6-bbf2-9fc038dc0f04",
   "metadata": {},
   "source": [
    "Lets use binning technique for data preprocessing "
   ]
  },
  {
   "cell_type": "code",
   "execution_count": 85,
   "id": "d7969448-81a7-4b5a-bdff-d9f2e50bbc47",
   "metadata": {},
   "outputs": [],
   "source": [
    "library(scorecard)"
   ]
  },
  {
   "cell_type": "code",
   "execution_count": 86,
   "id": "6f6c553a-1613-4330-bcc8-e2b8eb416a60",
   "metadata": {},
   "outputs": [
    {
     "data": {
      "text/html": [
       "<style>\n",
       ".list-inline {list-style: none; margin:0; padding: 0}\n",
       ".list-inline>li {display: inline-block}\n",
       ".list-inline>li:not(:last-child)::after {content: \"\\00b7\"; padding: 0 .5ex}\n",
       "</style>\n",
       "<ol class=list-inline><li>'age'</li><li>'job'</li><li>'marital'</li><li>'education'</li><li>'default'</li><li>'balance'</li><li>'housing'</li><li>'loan'</li><li>'contact'</li><li>'day'</li><li>'month'</li><li>'campaign'</li><li>'pdays'</li><li>'previous'</li><li>'poutcome'</li><li>'pdays_flag'</li></ol>\n"
      ],
      "text/latex": [
       "\\begin{enumerate*}\n",
       "\\item 'age'\n",
       "\\item 'job'\n",
       "\\item 'marital'\n",
       "\\item 'education'\n",
       "\\item 'default'\n",
       "\\item 'balance'\n",
       "\\item 'housing'\n",
       "\\item 'loan'\n",
       "\\item 'contact'\n",
       "\\item 'day'\n",
       "\\item 'month'\n",
       "\\item 'campaign'\n",
       "\\item 'pdays'\n",
       "\\item 'previous'\n",
       "\\item 'poutcome'\n",
       "\\item 'pdays\\_flag'\n",
       "\\end{enumerate*}\n"
      ],
      "text/markdown": [
       "1. 'age'\n",
       "2. 'job'\n",
       "3. 'marital'\n",
       "4. 'education'\n",
       "5. 'default'\n",
       "6. 'balance'\n",
       "7. 'housing'\n",
       "8. 'loan'\n",
       "9. 'contact'\n",
       "10. 'day'\n",
       "11. 'month'\n",
       "12. 'campaign'\n",
       "13. 'pdays'\n",
       "14. 'previous'\n",
       "15. 'poutcome'\n",
       "16. 'pdays_flag'\n",
       "\n",
       "\n"
      ],
      "text/plain": [
       " [1] \"age\"        \"job\"        \"marital\"    \"education\"  \"default\"   \n",
       " [6] \"balance\"    \"housing\"    \"loan\"       \"contact\"    \"day\"       \n",
       "[11] \"month\"      \"campaign\"   \"pdays\"      \"previous\"   \"poutcome\"  \n",
       "[16] \"pdays_flag\""
      ]
     },
     "metadata": {},
     "output_type": "display_data"
    }
   ],
   "source": [
    "vars_list <- train_data %>%\n",
    "  select(-deposit) %>%\n",
    "  names()\n",
    "vars_list"
   ]
  },
  {
   "cell_type": "code",
   "execution_count": 93,
   "id": "fde9ad50-c4f4-42cb-b5ec-1ceee8ab2343",
   "metadata": {},
   "outputs": [
    {
     "name": "stdout",
     "output_type": "stream",
     "text": [
      "[INFO] creating woe binning ... \n"
     ]
    }
   ],
   "source": [
    "bin_class <- woebin(train_data, \n",
    "                    y = \"deposit\", \n",
    "                    x = vars_list, \n",
    "                    positive = 1, # the value in deposit that indicates event                   \n",
    "                    bin_num_limit = 20)\n",
    "# bin_class - to check bins"
   ]
  },
  {
   "cell_type": "code",
   "execution_count": 87,
   "id": "ef5f346b-1f20-497c-b425-7ad7d60dba5d",
   "metadata": {},
   "outputs": [
    {
     "name": "stdout",
     "output_type": "stream",
     "text": [
      "[INFO] converting into woe values ... \n"
     ]
    },
    {
     "ename": "ERROR",
     "evalue": "Error in woebin_ply(train_data, bin_class): object 'bin_class' not found\n",
     "output_type": "error",
     "traceback": [
      "Error in woebin_ply(train_data, bin_class): object 'bin_class' not found\nTraceback:\n",
      "1. woebin_ply(train_data, bin_class)"
     ]
    }
   ],
   "source": [
    "train_woe <- woebin_ply(train_data, bin_class)\n",
    "test_woe <- woebin_ply(test_data, bin_class)\n",
    "head(train_woe)"
   ]
  },
  {
   "cell_type": "code",
   "execution_count": 88,
   "id": "008a99f0-f6f2-4c7f-baca-52e32ad150f8",
   "metadata": {},
   "outputs": [
    {
     "ename": "ERROR",
     "evalue": "Error in select(., -deposit): object 'train_woe' not found\n",
     "output_type": "error",
     "traceback": [
      "Error in select(., -deposit): object 'train_woe' not found\nTraceback:\n",
      "1. train_woe %>% select(-deposit) %>% names()",
      "2. select(., -deposit)"
     ]
    }
   ],
   "source": [
    "vars_list <- train_woe %>%\n",
    "  select(-deposit) %>%\n",
    "  names() \n",
    "vars_list"
   ]
  },
  {
   "cell_type": "code",
   "execution_count": 96,
   "id": "c8b27307-d1ba-4832-8226-1d5026dfd67f",
   "metadata": {},
   "outputs": [
    {
     "name": "stderr",
     "output_type": "stream",
     "text": [
      "Note: Using an external vector in selections is ambiguous.\n",
      "\u001b[34mi\u001b[39m Use `all_of(vars_list)` instead of `vars_list` to silence this message.\n",
      "\u001b[34mi\u001b[39m See <https://tidyselect.r-lib.org/reference/faq-external-vector.html>.\n",
      "\u001b[90mThis message is displayed once per session.\u001b[39m\n",
      "\n"
     ]
    },
    {
     "data": {
      "text/html": [
       "<table class=\"dataframe\">\n",
       "<caption>A data.table: 6 × 17</caption>\n",
       "<thead>\n",
       "\t<tr><th scope=col>age_woe</th><th scope=col>job_woe</th><th scope=col>marital_woe</th><th scope=col>education_woe</th><th scope=col>default_woe</th><th scope=col>balance_woe</th><th scope=col>housing_woe</th><th scope=col>loan_woe</th><th scope=col>contact_woe</th><th scope=col>day_woe</th><th scope=col>month_woe</th><th scope=col>campaign_woe</th><th scope=col>pdays_woe</th><th scope=col>previous_woe</th><th scope=col>poutcome_woe</th><th scope=col>pdays_flag_woe</th><th scope=col>poutcoume_success_woe</th></tr>\n",
       "\t<tr><th scope=col>&lt;dbl&gt;</th><th scope=col>&lt;dbl&gt;</th><th scope=col>&lt;dbl&gt;</th><th scope=col>&lt;dbl&gt;</th><th scope=col>&lt;dbl&gt;</th><th scope=col>&lt;dbl&gt;</th><th scope=col>&lt;dbl&gt;</th><th scope=col>&lt;dbl&gt;</th><th scope=col>&lt;dbl&gt;</th><th scope=col>&lt;dbl&gt;</th><th scope=col>&lt;dbl&gt;</th><th scope=col>&lt;dbl&gt;</th><th scope=col>&lt;dbl&gt;</th><th scope=col>&lt;dbl&gt;</th><th scope=col>&lt;dbl&gt;</th><th scope=col>&lt;dbl&gt;</th><th scope=col>&lt;dbl&gt;</th></tr>\n",
       "</thead>\n",
       "<tbody>\n",
       "\t<tr><td>-0.248167</td><td> 0.00997843</td><td>-0.16659522</td><td>-0.1174533</td><td>0</td><td>-0.29810324</td><td> 0.3820071</td><td> 0.09169491</td><td>-1.084131</td><td>-0.2102039</td><td>-0.607073</td><td> 0.23861669</td><td>-0.2608082</td><td>-0.2617474</td><td>-0.2612936</td><td>-0.2617474</td><td>-0.1868975</td></tr>\n",
       "\t<tr><td>-0.248167</td><td> 0.11551187</td><td> 0.28297995</td><td> 0.2630696</td><td>0</td><td>-0.29810324</td><td>-0.4336454</td><td>-0.65017956</td><td>-1.084131</td><td>-0.2102039</td><td>-0.607073</td><td>-0.06414151</td><td>-0.2608082</td><td>-0.2617474</td><td>-0.2612936</td><td>-0.2617474</td><td>-0.1868975</td></tr>\n",
       "\t<tr><td> 1.336289</td><td> 0.74870857</td><td> 0.07743693</td><td>-0.1174533</td><td>0</td><td> 0.01794882</td><td>-0.4336454</td><td> 0.09169491</td><td>-1.084131</td><td>-0.2102039</td><td>-0.607073</td><td> 0.23861669</td><td>-0.2608082</td><td>-0.2617474</td><td>-0.2612936</td><td>-0.2617474</td><td>-0.1868975</td></tr>\n",
       "\t<tr><td>-0.117582</td><td> 0.17368294</td><td> 0.28297995</td><td> 0.2630696</td><td>0</td><td> 0.01794882</td><td>-0.4336454</td><td> 0.09169491</td><td>-1.084131</td><td> 0.1983690</td><td>-0.607073</td><td>-0.06414151</td><td>-0.2608082</td><td>-0.2617474</td><td>-0.2612936</td><td>-0.2617474</td><td>-0.1868975</td></tr>\n",
       "\t<tr><td>-0.117582</td><td> 0.11551187</td><td> 0.07743693</td><td> 0.2630696</td><td>0</td><td> 0.42738096</td><td>-0.4336454</td><td> 0.09169491</td><td>-1.084131</td><td> 0.1983690</td><td>-0.607073</td><td> 0.23861669</td><td>-0.2608082</td><td>-0.2617474</td><td>-0.2612936</td><td>-0.2617474</td><td>-0.1868975</td></tr>\n",
       "\t<tr><td>-0.248167</td><td>-0.21993525</td><td>-0.16659522</td><td>-0.1174533</td><td>0</td><td>-0.80877227</td><td>-0.4336454</td><td> 0.09169491</td><td>-1.084131</td><td> 0.1983690</td><td>-0.607073</td><td> 0.23861669</td><td>-0.2608082</td><td>-0.2617474</td><td>-0.2612936</td><td>-0.2617474</td><td>-0.1868975</td></tr>\n",
       "</tbody>\n",
       "</table>\n"
      ],
      "text/latex": [
       "A data.table: 6 × 17\n",
       "\\begin{tabular}{lllllllllllllllll}\n",
       " age\\_woe & job\\_woe & marital\\_woe & education\\_woe & default\\_woe & balance\\_woe & housing\\_woe & loan\\_woe & contact\\_woe & day\\_woe & month\\_woe & campaign\\_woe & pdays\\_woe & previous\\_woe & poutcome\\_woe & pdays\\_flag\\_woe & poutcoume\\_success\\_woe\\\\\n",
       " <dbl> & <dbl> & <dbl> & <dbl> & <dbl> & <dbl> & <dbl> & <dbl> & <dbl> & <dbl> & <dbl> & <dbl> & <dbl> & <dbl> & <dbl> & <dbl> & <dbl>\\\\\n",
       "\\hline\n",
       "\t -0.248167 &  0.00997843 & -0.16659522 & -0.1174533 & 0 & -0.29810324 &  0.3820071 &  0.09169491 & -1.084131 & -0.2102039 & -0.607073 &  0.23861669 & -0.2608082 & -0.2617474 & -0.2612936 & -0.2617474 & -0.1868975\\\\\n",
       "\t -0.248167 &  0.11551187 &  0.28297995 &  0.2630696 & 0 & -0.29810324 & -0.4336454 & -0.65017956 & -1.084131 & -0.2102039 & -0.607073 & -0.06414151 & -0.2608082 & -0.2617474 & -0.2612936 & -0.2617474 & -0.1868975\\\\\n",
       "\t  1.336289 &  0.74870857 &  0.07743693 & -0.1174533 & 0 &  0.01794882 & -0.4336454 &  0.09169491 & -1.084131 & -0.2102039 & -0.607073 &  0.23861669 & -0.2608082 & -0.2617474 & -0.2612936 & -0.2617474 & -0.1868975\\\\\n",
       "\t -0.117582 &  0.17368294 &  0.28297995 &  0.2630696 & 0 &  0.01794882 & -0.4336454 &  0.09169491 & -1.084131 &  0.1983690 & -0.607073 & -0.06414151 & -0.2608082 & -0.2617474 & -0.2612936 & -0.2617474 & -0.1868975\\\\\n",
       "\t -0.117582 &  0.11551187 &  0.07743693 &  0.2630696 & 0 &  0.42738096 & -0.4336454 &  0.09169491 & -1.084131 &  0.1983690 & -0.607073 &  0.23861669 & -0.2608082 & -0.2617474 & -0.2612936 & -0.2617474 & -0.1868975\\\\\n",
       "\t -0.248167 & -0.21993525 & -0.16659522 & -0.1174533 & 0 & -0.80877227 & -0.4336454 &  0.09169491 & -1.084131 &  0.1983690 & -0.607073 &  0.23861669 & -0.2608082 & -0.2617474 & -0.2612936 & -0.2617474 & -0.1868975\\\\\n",
       "\\end{tabular}\n"
      ],
      "text/markdown": [
       "\n",
       "A data.table: 6 × 17\n",
       "\n",
       "| age_woe &lt;dbl&gt; | job_woe &lt;dbl&gt; | marital_woe &lt;dbl&gt; | education_woe &lt;dbl&gt; | default_woe &lt;dbl&gt; | balance_woe &lt;dbl&gt; | housing_woe &lt;dbl&gt; | loan_woe &lt;dbl&gt; | contact_woe &lt;dbl&gt; | day_woe &lt;dbl&gt; | month_woe &lt;dbl&gt; | campaign_woe &lt;dbl&gt; | pdays_woe &lt;dbl&gt; | previous_woe &lt;dbl&gt; | poutcome_woe &lt;dbl&gt; | pdays_flag_woe &lt;dbl&gt; | poutcoume_success_woe &lt;dbl&gt; |\n",
       "|---|---|---|---|---|---|---|---|---|---|---|---|---|---|---|---|---|\n",
       "| -0.248167 |  0.00997843 | -0.16659522 | -0.1174533 | 0 | -0.29810324 |  0.3820071 |  0.09169491 | -1.084131 | -0.2102039 | -0.607073 |  0.23861669 | -0.2608082 | -0.2617474 | -0.2612936 | -0.2617474 | -0.1868975 |\n",
       "| -0.248167 |  0.11551187 |  0.28297995 |  0.2630696 | 0 | -0.29810324 | -0.4336454 | -0.65017956 | -1.084131 | -0.2102039 | -0.607073 | -0.06414151 | -0.2608082 | -0.2617474 | -0.2612936 | -0.2617474 | -0.1868975 |\n",
       "|  1.336289 |  0.74870857 |  0.07743693 | -0.1174533 | 0 |  0.01794882 | -0.4336454 |  0.09169491 | -1.084131 | -0.2102039 | -0.607073 |  0.23861669 | -0.2608082 | -0.2617474 | -0.2612936 | -0.2617474 | -0.1868975 |\n",
       "| -0.117582 |  0.17368294 |  0.28297995 |  0.2630696 | 0 |  0.01794882 | -0.4336454 |  0.09169491 | -1.084131 |  0.1983690 | -0.607073 | -0.06414151 | -0.2608082 | -0.2617474 | -0.2612936 | -0.2617474 | -0.1868975 |\n",
       "| -0.117582 |  0.11551187 |  0.07743693 |  0.2630696 | 0 |  0.42738096 | -0.4336454 |  0.09169491 | -1.084131 |  0.1983690 | -0.607073 |  0.23861669 | -0.2608082 | -0.2617474 | -0.2612936 | -0.2617474 | -0.1868975 |\n",
       "| -0.248167 | -0.21993525 | -0.16659522 | -0.1174533 | 0 | -0.80877227 | -0.4336454 |  0.09169491 | -1.084131 |  0.1983690 | -0.607073 |  0.23861669 | -0.2608082 | -0.2617474 | -0.2612936 | -0.2617474 | -0.1868975 |\n",
       "\n"
      ],
      "text/plain": [
       "  age_woe   job_woe     marital_woe education_woe default_woe balance_woe\n",
       "1 -0.248167  0.00997843 -0.16659522 -0.1174533    0           -0.29810324\n",
       "2 -0.248167  0.11551187  0.28297995  0.2630696    0           -0.29810324\n",
       "3  1.336289  0.74870857  0.07743693 -0.1174533    0            0.01794882\n",
       "4 -0.117582  0.17368294  0.28297995  0.2630696    0            0.01794882\n",
       "5 -0.117582  0.11551187  0.07743693  0.2630696    0            0.42738096\n",
       "6 -0.248167 -0.21993525 -0.16659522 -0.1174533    0           -0.80877227\n",
       "  housing_woe loan_woe    contact_woe day_woe    month_woe campaign_woe\n",
       "1  0.3820071   0.09169491 -1.084131   -0.2102039 -0.607073  0.23861669 \n",
       "2 -0.4336454  -0.65017956 -1.084131   -0.2102039 -0.607073 -0.06414151 \n",
       "3 -0.4336454   0.09169491 -1.084131   -0.2102039 -0.607073  0.23861669 \n",
       "4 -0.4336454   0.09169491 -1.084131    0.1983690 -0.607073 -0.06414151 \n",
       "5 -0.4336454   0.09169491 -1.084131    0.1983690 -0.607073  0.23861669 \n",
       "6 -0.4336454   0.09169491 -1.084131    0.1983690 -0.607073  0.23861669 \n",
       "  pdays_woe  previous_woe poutcome_woe pdays_flag_woe poutcoume_success_woe\n",
       "1 -0.2608082 -0.2617474   -0.2612936   -0.2617474     -0.1868975           \n",
       "2 -0.2608082 -0.2617474   -0.2612936   -0.2617474     -0.1868975           \n",
       "3 -0.2608082 -0.2617474   -0.2612936   -0.2617474     -0.1868975           \n",
       "4 -0.2608082 -0.2617474   -0.2612936   -0.2617474     -0.1868975           \n",
       "5 -0.2608082 -0.2617474   -0.2612936   -0.2617474     -0.1868975           \n",
       "6 -0.2608082 -0.2617474   -0.2612936   -0.2617474     -0.1868975           "
      ]
     },
     "metadata": {},
     "output_type": "display_data"
    }
   ],
   "source": [
    "head(test_woe %>% select(vars_list))"
   ]
  },
  {
   "cell_type": "code",
   "execution_count": 97,
   "id": "553a2523-06a4-4e14-8177-7ba73a078aac",
   "metadata": {},
   "outputs": [
    {
     "name": "stderr",
     "output_type": "stream",
     "text": [
      "Selecting by poutcoume_success_woe\n",
      "\n"
     ]
    }
   ],
   "source": [
    "train_sparse = Matrix(as.matrix(train_woe %>% select(vars_list) %>% top_n(100)), sparse=TRUE)\n",
    "test_sparse = Matrix(as.matrix(test_woe %>% select(vars_list)), sparse=TRUE)"
   ]
  },
  {
   "cell_type": "code",
   "execution_count": 98,
   "id": "b3770987-ab43-41af-945f-6e3a0f64db34",
   "metadata": {},
   "outputs": [],
   "source": [
    "lgb.train = lgb.Dataset(data = train_sparse, label = train_woe$deposit, free_raw_data = FALSE)\n",
    "lgb.test = lgb.Dataset(data = test_sparse, label = test_woe$deposit, free_raw_data = FALSE)"
   ]
  },
  {
   "cell_type": "code",
   "execution_count": 99,
   "id": "2d2283d7-b6ad-4812-a077-280959815d8a",
   "metadata": {},
   "outputs": [],
   "source": [
    "lgb.grid = list(objective = \"binary\",\n",
    "                metric = \"auc\",\n",
    "                #save_binary = T,\n",
    "                max_bin = 32,\n",
    "                num_leaves = 33)"
   ]
  },
  {
   "cell_type": "code",
   "execution_count": 100,
   "id": "d180db93-1974-4313-821f-158b8c6ae7a2",
   "metadata": {},
   "outputs": [],
   "source": [
    "#lgb.train.cv = lgb.train(params = lgb.grid,\n",
    "    #                     data = lgb.train,\n",
    "     #                    num_threads = 10,\n",
    "      #                   nrounds = 15,\n",
    "        #                 boosting = 'dart', \n",
    "         #                num_iterations = 400, \n",
    "         #                verbose = 1)\n",
    "#lgb.train.cv"
   ]
  },
  {
   "cell_type": "markdown",
   "id": "735755a6-97cb-4372-bfa4-407227c11978",
   "metadata": {},
   "source": [
    "---"
   ]
  }
 ],
 "metadata": {
  "kernelspec": {
   "display_name": "R",
   "language": "R",
   "name": "ir"
  },
  "language_info": {
   "codemirror_mode": "r",
   "file_extension": ".r",
   "mimetype": "text/x-r-source",
   "name": "R",
   "pygments_lexer": "r",
   "version": "4.0.3"
  },
  "toc-showtags": true
 },
 "nbformat": 4,
 "nbformat_minor": 5
}
