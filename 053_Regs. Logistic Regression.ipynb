{
 "cells": [
  {
   "cell_type": "markdown",
   "id": "c2414ff5",
   "metadata": {},
   "source": [
    "# Logistic regression. Part 1\n",
    "\n",
    "---\n",
    "\n",
    "## Linear and Logistic Regressions: prediction and metrics\n",
    "\n",
    "\n",
    "Applied Mathematical Modeling in Banking"
   ]
  },
  {
   "cell_type": "markdown",
   "id": "c7ced297",
   "metadata": {},
   "source": [
    "---"
   ]
  },
  {
   "cell_type": "markdown",
   "id": "607361bd-ec64-40da-9d45-497af39439f0",
   "metadata": {},
   "source": [
    "# 1. Dataset overview"
   ]
  },
  {
   "cell_type": "markdown",
   "id": "b8895342-1404-480f-a39a-8b8fd31ff78f",
   "metadata": {},
   "source": [
    "У даному навчальному матеріалі використано класичний приклад даних з інформацією про пасажирів корабля Титанік."
   ]
  },
  {
   "cell_type": "markdown",
   "id": "3191a739-7cc1-4a25-a17c-08af969d46f5",
   "metadata": {},
   "source": [
    "Source: https://github.com/Geoyi/Cleaning-Titanic-Data"
   ]
  },
  {
   "cell_type": "markdown",
   "id": "9603dea4-8656-4c05-9307-10c045f2ab29",
   "metadata": {},
   "source": [
    "**Dataset description:**"
   ]
  },
  {
   "cell_type": "markdown",
   "id": "39bfbe51-8519-41e2-8087-c9f919e5a67b",
   "metadata": {},
   "source": [
    "You are provided hourly rental data spanning two years. For this competition, the training set is comprised of the first 19 days of each month, while the test set is the 20th to the end of the month. You must predict the total count of bikes rented during each hour covered by the test set, using only information available prior to the rental period."
   ]
  },
  {
   "cell_type": "markdown",
   "id": "e0a90aac-c2e2-4035-9498-491bc455d042",
   "metadata": {},
   "source": [
    "**Data Fields:**"
   ]
  },
  {
   "cell_type": "markdown",
   "id": "84c03a47-25ce-4af1-b6fd-7291bcaa210c",
   "metadata": {},
   "source": [
    "|Variable|Definition|Key|\n",
    "|---|---|---|\n",
    "|survival|Survival (**TARGET**)|0 = No, 1 = Yes\n",
    "|pclass|Ticket class|1 = 1st, 2 = 2nd, 3 = 3rd||\n",
    "|sex|Sex||\n",
    "|Age|Age in years||\n",
    "|sibsp|# of siblings / spouses aboard the Titanic||\n",
    "|parch|# of parents / children aboard the Titanic||\n",
    "|ticket|Ticket number||\n",
    "|fare|Passenger fare||\n",
    "|cabin|Cabin number||\n",
    "|embarked|Port of Embarkation|C = Cherbourg, Q = Queenstown, S = Southampton|\n"
   ]
  },
  {
   "cell_type": "code",
   "execution_count": 1,
   "id": "4518116b-4a81-49a5-807c-672c6a377a41",
   "metadata": {},
   "outputs": [
    {
     "data": {
      "text/html": [
       "<table class=\"dataframe\">\n",
       "<caption>A data.frame: 6 × 14</caption>\n",
       "<thead>\n",
       "\t<tr><th></th><th scope=col>pclass</th><th scope=col>survived</th><th scope=col>name</th><th scope=col>sex</th><th scope=col>age</th><th scope=col>sibsp</th><th scope=col>parch</th><th scope=col>ticket</th><th scope=col>fare</th><th scope=col>cabin</th><th scope=col>embarked</th><th scope=col>boat</th><th scope=col>body</th><th scope=col>home.dest</th></tr>\n",
       "\t<tr><th></th><th scope=col>&lt;int&gt;</th><th scope=col>&lt;int&gt;</th><th scope=col>&lt;chr&gt;</th><th scope=col>&lt;chr&gt;</th><th scope=col>&lt;dbl&gt;</th><th scope=col>&lt;int&gt;</th><th scope=col>&lt;int&gt;</th><th scope=col>&lt;chr&gt;</th><th scope=col>&lt;dbl&gt;</th><th scope=col>&lt;chr&gt;</th><th scope=col>&lt;chr&gt;</th><th scope=col>&lt;chr&gt;</th><th scope=col>&lt;int&gt;</th><th scope=col>&lt;chr&gt;</th></tr>\n",
       "</thead>\n",
       "<tbody>\n",
       "\t<tr><th scope=row>1</th><td>1</td><td>1</td><td>Allen, Miss. Elisabeth Walton                  </td><td>female</td><td>29.0000</td><td>0</td><td>0</td><td>24160 </td><td>211.3375</td><td>B5     </td><td>S</td><td>2 </td><td> NA</td><td>St Louis, MO                   </td></tr>\n",
       "\t<tr><th scope=row>2</th><td>1</td><td>1</td><td>Allison, Master. Hudson Trevor                 </td><td>male  </td><td> 0.9167</td><td>1</td><td>2</td><td>113781</td><td>151.5500</td><td>C22 C26</td><td>S</td><td>11</td><td> NA</td><td>Montreal, PQ / Chesterville, ON</td></tr>\n",
       "\t<tr><th scope=row>3</th><td>1</td><td>0</td><td>Allison, Miss. Helen Loraine                   </td><td>female</td><td> 2.0000</td><td>1</td><td>2</td><td>113781</td><td>151.5500</td><td>C22 C26</td><td>S</td><td>NA</td><td> NA</td><td>Montreal, PQ / Chesterville, ON</td></tr>\n",
       "\t<tr><th scope=row>4</th><td>1</td><td>0</td><td>Allison, Mr. Hudson Joshua Creighton           </td><td>male  </td><td>30.0000</td><td>1</td><td>2</td><td>113781</td><td>151.5500</td><td>C22 C26</td><td>S</td><td>NA</td><td>135</td><td>Montreal, PQ / Chesterville, ON</td></tr>\n",
       "\t<tr><th scope=row>5</th><td>1</td><td>0</td><td>Allison, Mrs. Hudson J C (Bessie Waldo Daniels)</td><td>female</td><td>25.0000</td><td>1</td><td>2</td><td>113781</td><td>151.5500</td><td>C22 C26</td><td>S</td><td>NA</td><td> NA</td><td>Montreal, PQ / Chesterville, ON</td></tr>\n",
       "\t<tr><th scope=row>6</th><td>1</td><td>1</td><td>Anderson, Mr. Harry                            </td><td>male  </td><td>48.0000</td><td>0</td><td>0</td><td>19952 </td><td> 26.5500</td><td>E12    </td><td>S</td><td>3 </td><td> NA</td><td>New York, NY                   </td></tr>\n",
       "</tbody>\n",
       "</table>\n"
      ],
      "text/latex": [
       "A data.frame: 6 × 14\n",
       "\\begin{tabular}{r|llllllllllllll}\n",
       "  & pclass & survived & name & sex & age & sibsp & parch & ticket & fare & cabin & embarked & boat & body & home.dest\\\\\n",
       "  & <int> & <int> & <chr> & <chr> & <dbl> & <int> & <int> & <chr> & <dbl> & <chr> & <chr> & <chr> & <int> & <chr>\\\\\n",
       "\\hline\n",
       "\t1 & 1 & 1 & Allen, Miss. Elisabeth Walton                   & female & 29.0000 & 0 & 0 & 24160  & 211.3375 & B5      & S & 2  &  NA & St Louis, MO                   \\\\\n",
       "\t2 & 1 & 1 & Allison, Master. Hudson Trevor                  & male   &  0.9167 & 1 & 2 & 113781 & 151.5500 & C22 C26 & S & 11 &  NA & Montreal, PQ / Chesterville, ON\\\\\n",
       "\t3 & 1 & 0 & Allison, Miss. Helen Loraine                    & female &  2.0000 & 1 & 2 & 113781 & 151.5500 & C22 C26 & S & NA &  NA & Montreal, PQ / Chesterville, ON\\\\\n",
       "\t4 & 1 & 0 & Allison, Mr. Hudson Joshua Creighton            & male   & 30.0000 & 1 & 2 & 113781 & 151.5500 & C22 C26 & S & NA & 135 & Montreal, PQ / Chesterville, ON\\\\\n",
       "\t5 & 1 & 0 & Allison, Mrs. Hudson J C (Bessie Waldo Daniels) & female & 25.0000 & 1 & 2 & 113781 & 151.5500 & C22 C26 & S & NA &  NA & Montreal, PQ / Chesterville, ON\\\\\n",
       "\t6 & 1 & 1 & Anderson, Mr. Harry                             & male   & 48.0000 & 0 & 0 & 19952  &  26.5500 & E12     & S & 3  &  NA & New York, NY                   \\\\\n",
       "\\end{tabular}\n"
      ],
      "text/markdown": [
       "\n",
       "A data.frame: 6 × 14\n",
       "\n",
       "| <!--/--> | pclass &lt;int&gt; | survived &lt;int&gt; | name &lt;chr&gt; | sex &lt;chr&gt; | age &lt;dbl&gt; | sibsp &lt;int&gt; | parch &lt;int&gt; | ticket &lt;chr&gt; | fare &lt;dbl&gt; | cabin &lt;chr&gt; | embarked &lt;chr&gt; | boat &lt;chr&gt; | body &lt;int&gt; | home.dest &lt;chr&gt; |\n",
       "|---|---|---|---|---|---|---|---|---|---|---|---|---|---|---|\n",
       "| 1 | 1 | 1 | Allen, Miss. Elisabeth Walton                   | female | 29.0000 | 0 | 0 | 24160  | 211.3375 | B5      | S | 2  |  NA | St Louis, MO                    |\n",
       "| 2 | 1 | 1 | Allison, Master. Hudson Trevor                  | male   |  0.9167 | 1 | 2 | 113781 | 151.5500 | C22 C26 | S | 11 |  NA | Montreal, PQ / Chesterville, ON |\n",
       "| 3 | 1 | 0 | Allison, Miss. Helen Loraine                    | female |  2.0000 | 1 | 2 | 113781 | 151.5500 | C22 C26 | S | NA |  NA | Montreal, PQ / Chesterville, ON |\n",
       "| 4 | 1 | 0 | Allison, Mr. Hudson Joshua Creighton            | male   | 30.0000 | 1 | 2 | 113781 | 151.5500 | C22 C26 | S | NA | 135 | Montreal, PQ / Chesterville, ON |\n",
       "| 5 | 1 | 0 | Allison, Mrs. Hudson J C (Bessie Waldo Daniels) | female | 25.0000 | 1 | 2 | 113781 | 151.5500 | C22 C26 | S | NA |  NA | Montreal, PQ / Chesterville, ON |\n",
       "| 6 | 1 | 1 | Anderson, Mr. Harry                             | male   | 48.0000 | 0 | 0 | 19952  |  26.5500 | E12     | S | 3  |  NA | New York, NY                    |\n",
       "\n"
      ],
      "text/plain": [
       "  pclass survived name                                            sex   \n",
       "1 1      1        Allen, Miss. Elisabeth Walton                   female\n",
       "2 1      1        Allison, Master. Hudson Trevor                  male  \n",
       "3 1      0        Allison, Miss. Helen Loraine                    female\n",
       "4 1      0        Allison, Mr. Hudson Joshua Creighton            male  \n",
       "5 1      0        Allison, Mrs. Hudson J C (Bessie Waldo Daniels) female\n",
       "6 1      1        Anderson, Mr. Harry                             male  \n",
       "  age     sibsp parch ticket fare     cabin   embarked boat body\n",
       "1 29.0000 0     0     24160  211.3375 B5      S        2     NA \n",
       "2  0.9167 1     2     113781 151.5500 C22 C26 S        11    NA \n",
       "3  2.0000 1     2     113781 151.5500 C22 C26 S        NA    NA \n",
       "4 30.0000 1     2     113781 151.5500 C22 C26 S        NA   135 \n",
       "5 25.0000 1     2     113781 151.5500 C22 C26 S        NA    NA \n",
       "6 48.0000 0     0     19952   26.5500 E12     S        3     NA \n",
       "  home.dest                      \n",
       "1 St Louis, MO                   \n",
       "2 Montreal, PQ / Chesterville, ON\n",
       "3 Montreal, PQ / Chesterville, ON\n",
       "4 Montreal, PQ / Chesterville, ON\n",
       "5 Montreal, PQ / Chesterville, ON\n",
       "6 New York, NY                   "
      ]
     },
     "metadata": {},
     "output_type": "display_data"
    }
   ],
   "source": [
    "# read from github\n",
    "# data <- read.csv(\"https://github.com/Geoyi/Cleaning-Titanic-Data/blob/master/titanic_original.csv\")\n",
    "\n",
    "# read local\n",
    "titanic_data <- read.csv(\"data/titanic_original.csv\", na.strings = c(\"\")) # empty strings is missing data and wiil be replaced with NA\n",
    "head(titanic_data)"
   ]
  },
  {
   "cell_type": "markdown",
   "id": "35856746-ba96-4e89-877c-257f95ca0e53",
   "metadata": {},
   "source": [
    "Переглянемо структуру даних:"
   ]
  },
  {
   "cell_type": "code",
   "execution_count": 2,
   "id": "463bf2eb-5c06-4b12-aadd-24db41266b37",
   "metadata": {},
   "outputs": [
    {
     "name": "stdout",
     "output_type": "stream",
     "text": [
      "'data.frame':\t1310 obs. of  14 variables:\n",
      " $ pclass   : int  1 1 1 1 1 1 1 1 1 1 ...\n",
      " $ survived : int  1 1 0 0 0 1 1 0 1 0 ...\n",
      " $ name     : chr  \"Allen, Miss. Elisabeth Walton\" \"Allison, Master. Hudson Trevor\" \"Allison, Miss. Helen Loraine\" \"Allison, Mr. Hudson Joshua Creighton\" ...\n",
      " $ sex      : chr  \"female\" \"male\" \"female\" \"male\" ...\n",
      " $ age      : num  29 0.917 2 30 25 ...\n",
      " $ sibsp    : int  0 1 1 1 1 0 1 0 2 0 ...\n",
      " $ parch    : int  0 2 2 2 2 0 0 0 0 0 ...\n",
      " $ ticket   : chr  \"24160\" \"113781\" \"113781\" \"113781\" ...\n",
      " $ fare     : num  211 152 152 152 152 ...\n",
      " $ cabin    : chr  \"B5\" \"C22 C26\" \"C22 C26\" \"C22 C26\" ...\n",
      " $ embarked : chr  \"S\" \"S\" \"S\" \"S\" ...\n",
      " $ boat     : chr  \"2\" \"11\" NA NA ...\n",
      " $ body     : int  NA NA NA 135 NA NA NA NA NA 22 ...\n",
      " $ home.dest: chr  \"St Louis, MO\" \"Montreal, PQ / Chesterville, ON\" \"Montreal, PQ / Chesterville, ON\" \"Montreal, PQ / Chesterville, ON\" ...\n"
     ]
    }
   ],
   "source": [
    "str(titanic_data)"
   ]
  },
  {
   "cell_type": "markdown",
   "id": "4e690612-56cd-4b27-8c33-26def40af6d0",
   "metadata": {},
   "source": [
    "Значення показників вибірки:\n",
    "\n",
    "* _survival_ – \"клас виживання\" (0 = No; 1 = Yes)\n",
    "* _pclass_ – клас пасажирів (1 = 1st; 2 = 2nd; 3 = 3rd)\n",
    "* ~~_name_~~ – ім’я\n",
    "* _sex_ - стать\n",
    "* _age_ - вік\n",
    "* _sibsp_ – кількість членів сім'ї на борту (братів, сестер, подружжя)\n",
    "* _parch_ – кількість дітей або батьків на борту\n",
    "* ~~_ticket_~~ – номер квитка\n",
    "* _fare_ – вартість \n",
    "* _cabin_ – номер(и)\n",
    "* _embarked_ – порт посадки на судно (C = Cherbourg; Q = Queenstown; S = Southampton)\n",
    "* ~~_boat_~~ – борт на якому відпливав під час порятунку (якщо врятований)\n",
    "* ~~_body_~~ – ідентифікаційни номер тіла\n",
    "* ~~_home.dest_~~ – місце доставки пасажира\n",
    "\n",
    "Детальніше: http://campus.lakeforest.edu/frank/FILES/MLFfiles/Bio150/Titanic/TitanicMETA.pdf.\n",
    "\n",
    "Закреслені поля надалі будуть видалені з датасету для моделювання."
   ]
  },
  {
   "cell_type": "markdown",
   "id": "f7ff8772-8d4d-4288-a9b3-11704133c500",
   "metadata": {},
   "source": [
    "---"
   ]
  },
  {
   "cell_type": "markdown",
   "id": "52b95a50-1ed2-4f3b-8757-172b413a0465",
   "metadata": {},
   "source": [
    "# 2. Data preprocessing"
   ]
  },
  {
   "cell_type": "markdown",
   "id": "510be956-9c9b-40a1-99be-6029555f59f3",
   "metadata": {},
   "source": [
    "## 2.1. Remove unused columns"
   ]
  },
  {
   "cell_type": "markdown",
   "id": "9b41017d-f896-4e56-8f45-a0231c8ec0ec",
   "metadata": {},
   "source": [
    "Lets remove columns: \n",
    "- [x] `name` - just string\n",
    "- [x] `ticket` - it can be useful to analyze numbers and check if \n",
    "- [x] `boat` - if boat is not missing - survived, we cannot use it\n",
    "- [x] `body` - if body is not missing - not survived, cant use it\n",
    "- [x] `home.dest` - just text"
   ]
  },
  {
   "cell_type": "code",
   "execution_count": 3,
   "id": "1b3cd09b-53ae-4cb1-a4c5-8a38e95e5c0e",
   "metadata": {},
   "outputs": [
    {
     "name": "stderr",
     "output_type": "stream",
     "text": [
      "\n",
      "Attaching package: ‘dplyr’\n",
      "\n",
      "\n",
      "The following objects are masked from ‘package:stats’:\n",
      "\n",
      "    filter, lag\n",
      "\n",
      "\n",
      "The following objects are masked from ‘package:base’:\n",
      "\n",
      "    intersect, setdiff, setequal, union\n",
      "\n",
      "\n"
     ]
    },
    {
     "data": {
      "text/html": [
       "<table class=\"dataframe\">\n",
       "<caption>A data.frame: 6 × 9</caption>\n",
       "<thead>\n",
       "\t<tr><th></th><th scope=col>pclass</th><th scope=col>survived</th><th scope=col>sex</th><th scope=col>age</th><th scope=col>sibsp</th><th scope=col>parch</th><th scope=col>fare</th><th scope=col>cabin</th><th scope=col>embarked</th></tr>\n",
       "\t<tr><th></th><th scope=col>&lt;int&gt;</th><th scope=col>&lt;int&gt;</th><th scope=col>&lt;chr&gt;</th><th scope=col>&lt;dbl&gt;</th><th scope=col>&lt;int&gt;</th><th scope=col>&lt;int&gt;</th><th scope=col>&lt;dbl&gt;</th><th scope=col>&lt;chr&gt;</th><th scope=col>&lt;chr&gt;</th></tr>\n",
       "</thead>\n",
       "<tbody>\n",
       "\t<tr><th scope=row>1</th><td>1</td><td>1</td><td>female</td><td>29.0000</td><td>0</td><td>0</td><td>211.3375</td><td>B5     </td><td>S</td></tr>\n",
       "\t<tr><th scope=row>2</th><td>1</td><td>1</td><td>male  </td><td> 0.9167</td><td>1</td><td>2</td><td>151.5500</td><td>C22 C26</td><td>S</td></tr>\n",
       "\t<tr><th scope=row>3</th><td>1</td><td>0</td><td>female</td><td> 2.0000</td><td>1</td><td>2</td><td>151.5500</td><td>C22 C26</td><td>S</td></tr>\n",
       "\t<tr><th scope=row>4</th><td>1</td><td>0</td><td>male  </td><td>30.0000</td><td>1</td><td>2</td><td>151.5500</td><td>C22 C26</td><td>S</td></tr>\n",
       "\t<tr><th scope=row>5</th><td>1</td><td>0</td><td>female</td><td>25.0000</td><td>1</td><td>2</td><td>151.5500</td><td>C22 C26</td><td>S</td></tr>\n",
       "\t<tr><th scope=row>6</th><td>1</td><td>1</td><td>male  </td><td>48.0000</td><td>0</td><td>0</td><td> 26.5500</td><td>E12    </td><td>S</td></tr>\n",
       "</tbody>\n",
       "</table>\n"
      ],
      "text/latex": [
       "A data.frame: 6 × 9\n",
       "\\begin{tabular}{r|lllllllll}\n",
       "  & pclass & survived & sex & age & sibsp & parch & fare & cabin & embarked\\\\\n",
       "  & <int> & <int> & <chr> & <dbl> & <int> & <int> & <dbl> & <chr> & <chr>\\\\\n",
       "\\hline\n",
       "\t1 & 1 & 1 & female & 29.0000 & 0 & 0 & 211.3375 & B5      & S\\\\\n",
       "\t2 & 1 & 1 & male   &  0.9167 & 1 & 2 & 151.5500 & C22 C26 & S\\\\\n",
       "\t3 & 1 & 0 & female &  2.0000 & 1 & 2 & 151.5500 & C22 C26 & S\\\\\n",
       "\t4 & 1 & 0 & male   & 30.0000 & 1 & 2 & 151.5500 & C22 C26 & S\\\\\n",
       "\t5 & 1 & 0 & female & 25.0000 & 1 & 2 & 151.5500 & C22 C26 & S\\\\\n",
       "\t6 & 1 & 1 & male   & 48.0000 & 0 & 0 &  26.5500 & E12     & S\\\\\n",
       "\\end{tabular}\n"
      ],
      "text/markdown": [
       "\n",
       "A data.frame: 6 × 9\n",
       "\n",
       "| <!--/--> | pclass &lt;int&gt; | survived &lt;int&gt; | sex &lt;chr&gt; | age &lt;dbl&gt; | sibsp &lt;int&gt; | parch &lt;int&gt; | fare &lt;dbl&gt; | cabin &lt;chr&gt; | embarked &lt;chr&gt; |\n",
       "|---|---|---|---|---|---|---|---|---|---|\n",
       "| 1 | 1 | 1 | female | 29.0000 | 0 | 0 | 211.3375 | B5      | S |\n",
       "| 2 | 1 | 1 | male   |  0.9167 | 1 | 2 | 151.5500 | C22 C26 | S |\n",
       "| 3 | 1 | 0 | female |  2.0000 | 1 | 2 | 151.5500 | C22 C26 | S |\n",
       "| 4 | 1 | 0 | male   | 30.0000 | 1 | 2 | 151.5500 | C22 C26 | S |\n",
       "| 5 | 1 | 0 | female | 25.0000 | 1 | 2 | 151.5500 | C22 C26 | S |\n",
       "| 6 | 1 | 1 | male   | 48.0000 | 0 | 0 |  26.5500 | E12     | S |\n",
       "\n"
      ],
      "text/plain": [
       "  pclass survived sex    age     sibsp parch fare     cabin   embarked\n",
       "1 1      1        female 29.0000 0     0     211.3375 B5      S       \n",
       "2 1      1        male    0.9167 1     2     151.5500 C22 C26 S       \n",
       "3 1      0        female  2.0000 1     2     151.5500 C22 C26 S       \n",
       "4 1      0        male   30.0000 1     2     151.5500 C22 C26 S       \n",
       "5 1      0        female 25.0000 1     2     151.5500 C22 C26 S       \n",
       "6 1      1        male   48.0000 0     0      26.5500 E12     S       "
      ]
     },
     "metadata": {},
     "output_type": "display_data"
    }
   ],
   "source": [
    "library(dplyr) # filter()\n",
    "library(magrittr) # pipe\n",
    "titanic_data <- titanic_data %>%\n",
    "    select(-c(\"name\", \"ticket\", \"boat\", \"body\", \"home.dest\"))\n",
    "head(titanic_data)"
   ]
  },
  {
   "cell_type": "markdown",
   "id": "a96727e0-bea4-41a7-8568-9d45f2dc437b",
   "metadata": {},
   "source": [
    "---"
   ]
  },
  {
   "cell_type": "code",
   "execution_count": 4,
   "id": "a10cd480-50d9-4460-843a-fb860c703108",
   "metadata": {},
   "outputs": [
    {
     "data": {
      "text/plain": [
       "     pclass         survived         sex                 age         \n",
       " Min.   :1.000   Min.   :0.000   Length:1310        Min.   : 0.1667  \n",
       " 1st Qu.:2.000   1st Qu.:0.000   Class :character   1st Qu.:21.0000  \n",
       " Median :3.000   Median :0.000   Mode  :character   Median :28.0000  \n",
       " Mean   :2.295   Mean   :0.382                      Mean   :29.8811  \n",
       " 3rd Qu.:3.000   3rd Qu.:1.000                      3rd Qu.:39.0000  \n",
       " Max.   :3.000   Max.   :1.000                      Max.   :80.0000  \n",
       " NA's   :1       NA's   :1                          NA's   :264      \n",
       "     sibsp            parch            fare            cabin          \n",
       " Min.   :0.0000   Min.   :0.000   Min.   :  0.000   Length:1310       \n",
       " 1st Qu.:0.0000   1st Qu.:0.000   1st Qu.:  7.896   Class :character  \n",
       " Median :0.0000   Median :0.000   Median : 14.454   Mode  :character  \n",
       " Mean   :0.4989   Mean   :0.385   Mean   : 33.295                     \n",
       " 3rd Qu.:1.0000   3rd Qu.:0.000   3rd Qu.: 31.275                     \n",
       " Max.   :8.0000   Max.   :9.000   Max.   :512.329                     \n",
       " NA's   :1        NA's   :1       NA's   :2                           \n",
       "   embarked        \n",
       " Length:1310       \n",
       " Class :character  \n",
       " Mode  :character  \n",
       "                   \n",
       "                   \n",
       "                   \n",
       "                   "
      ]
     },
     "metadata": {},
     "output_type": "display_data"
    }
   ],
   "source": [
    "summary(titanic_data)"
   ]
  },
  {
   "cell_type": "markdown",
   "id": "d74f22a3-b046-443a-9ca8-1d755ea618df",
   "metadata": {},
   "source": [
    "---"
   ]
  },
  {
   "cell_type": "markdown",
   "id": "034e10e0-c6bf-49c7-9d1e-928e5420a1b6",
   "metadata": {},
   "source": [
    "## 2.2. Check missing data"
   ]
  },
  {
   "cell_type": "markdown",
   "id": "6668f5f5-8299-4b8a-a3a2-994b17153a45",
   "metadata": {},
   "source": [
    "Для оцінки кількості пропусків побудуємо матрицю та мапу:"
   ]
  },
  {
   "cell_type": "code",
   "execution_count": 5,
   "id": "7f4a0e89-a5cf-4763-a898-8dba757a9dd4",
   "metadata": {},
   "outputs": [
    {
     "name": "stderr",
     "output_type": "stream",
     "text": [
      "\n",
      "Attaching package: ‘mice’\n",
      "\n",
      "\n",
      "The following object is masked from ‘package:stats’:\n",
      "\n",
      "    filter\n",
      "\n",
      "\n",
      "The following objects are masked from ‘package:base’:\n",
      "\n",
      "    cbind, rbind\n",
      "\n",
      "\n"
     ]
    },
    {
     "data": {
      "text/html": [
       "<table class=\"dataframe\">\n",
       "<caption>A matrix: 8 × 10 of type dbl</caption>\n",
       "<thead>\n",
       "\t<tr><th></th><th scope=col>pclass</th><th scope=col>survived</th><th scope=col>sex</th><th scope=col>sibsp</th><th scope=col>parch</th><th scope=col>fare</th><th scope=col>embarked</th><th scope=col>age</th><th scope=col>cabin</th><th scope=col></th></tr>\n",
       "</thead>\n",
       "<tbody>\n",
       "\t<tr><th scope=row>270</th><td>1</td><td>1</td><td>1</td><td>1</td><td>1</td><td>1</td><td>1</td><td>  1</td><td>   1</td><td>   0</td></tr>\n",
       "\t<tr><th scope=row>773</th><td>1</td><td>1</td><td>1</td><td>1</td><td>1</td><td>1</td><td>1</td><td>  1</td><td>   0</td><td>   1</td></tr>\n",
       "\t<tr><th scope=row>23</th><td>1</td><td>1</td><td>1</td><td>1</td><td>1</td><td>1</td><td>1</td><td>  0</td><td>   1</td><td>   1</td></tr>\n",
       "\t<tr><th scope=row>240</th><td>1</td><td>1</td><td>1</td><td>1</td><td>1</td><td>1</td><td>1</td><td>  0</td><td>   0</td><td>   2</td></tr>\n",
       "\t<tr><th scope=row>2</th><td>1</td><td>1</td><td>1</td><td>1</td><td>1</td><td>1</td><td>0</td><td>  1</td><td>   1</td><td>   1</td></tr>\n",
       "\t<tr><th scope=row>1</th><td>1</td><td>1</td><td>1</td><td>1</td><td>1</td><td>0</td><td>1</td><td>  1</td><td>   0</td><td>   2</td></tr>\n",
       "\t<tr><th scope=row>1</th><td>0</td><td>0</td><td>0</td><td>0</td><td>0</td><td>0</td><td>0</td><td>  0</td><td>   0</td><td>   9</td></tr>\n",
       "\t<tr><th scope=row></th><td>1</td><td>1</td><td>1</td><td>1</td><td>1</td><td>2</td><td>3</td><td>264</td><td>1015</td><td>1289</td></tr>\n",
       "</tbody>\n",
       "</table>\n"
      ],
      "text/latex": [
       "A matrix: 8 × 10 of type dbl\n",
       "\\begin{tabular}{r|llllllllll}\n",
       "  & pclass & survived & sex & sibsp & parch & fare & embarked & age & cabin & \\\\\n",
       "\\hline\n",
       "\t270 & 1 & 1 & 1 & 1 & 1 & 1 & 1 &   1 &    1 &    0\\\\\n",
       "\t773 & 1 & 1 & 1 & 1 & 1 & 1 & 1 &   1 &    0 &    1\\\\\n",
       "\t23 & 1 & 1 & 1 & 1 & 1 & 1 & 1 &   0 &    1 &    1\\\\\n",
       "\t240 & 1 & 1 & 1 & 1 & 1 & 1 & 1 &   0 &    0 &    2\\\\\n",
       "\t2 & 1 & 1 & 1 & 1 & 1 & 1 & 0 &   1 &    1 &    1\\\\\n",
       "\t1 & 1 & 1 & 1 & 1 & 1 & 0 & 1 &   1 &    0 &    2\\\\\n",
       "\t1 & 0 & 0 & 0 & 0 & 0 & 0 & 0 &   0 &    0 &    9\\\\\n",
       "\t & 1 & 1 & 1 & 1 & 1 & 2 & 3 & 264 & 1015 & 1289\\\\\n",
       "\\end{tabular}\n"
      ],
      "text/markdown": [
       "\n",
       "A matrix: 8 × 10 of type dbl\n",
       "\n",
       "| <!--/--> | pclass | survived | sex | sibsp | parch | fare | embarked | age | cabin | <!----> |\n",
       "|---|---|---|---|---|---|---|---|---|---|---|\n",
       "| 270 | 1 | 1 | 1 | 1 | 1 | 1 | 1 |   1 |    1 |    0 |\n",
       "| 773 | 1 | 1 | 1 | 1 | 1 | 1 | 1 |   1 |    0 |    1 |\n",
       "| 23 | 1 | 1 | 1 | 1 | 1 | 1 | 1 |   0 |    1 |    1 |\n",
       "| 240 | 1 | 1 | 1 | 1 | 1 | 1 | 1 |   0 |    0 |    2 |\n",
       "| 2 | 1 | 1 | 1 | 1 | 1 | 1 | 0 |   1 |    1 |    1 |\n",
       "| 1 | 1 | 1 | 1 | 1 | 1 | 0 | 1 |   1 |    0 |    2 |\n",
       "| 1 | 0 | 0 | 0 | 0 | 0 | 0 | 0 |   0 |    0 |    9 |\n",
       "| <!----> | 1 | 1 | 1 | 1 | 1 | 2 | 3 | 264 | 1015 | 1289 |\n",
       "\n"
      ],
      "text/plain": [
       "    pclass survived sex sibsp parch fare embarked age cabin     \n",
       "270 1      1        1   1     1     1    1          1    1     0\n",
       "773 1      1        1   1     1     1    1          1    0     1\n",
       "23  1      1        1   1     1     1    1          0    1     1\n",
       "240 1      1        1   1     1     1    1          0    0     2\n",
       "2   1      1        1   1     1     1    0          1    1     1\n",
       "1   1      1        1   1     1     0    1          1    0     2\n",
       "1   0      0        0   0     0     0    0          0    0     9\n",
       "    1      1        1   1     1     2    3        264 1015  1289"
      ]
     },
     "metadata": {},
     "output_type": "display_data"
    },
    {
     "data": {
      "image/png": "[encoded data removed]",
      "text/plain": [
       "plot without title"
      ]
     },
     "metadata": {
      "image/png": {
       "height": 420,
       "width": 420
      }
     },
     "output_type": "display_data"
    }
   ],
   "source": [
    "library(mice)\n",
    "md.pattern(titanic_data)"
   ]
  },
  {
   "cell_type": "code",
   "execution_count": 6,
   "id": "e14bcda8-f966-4bc4-861c-c6b707d43105",
   "metadata": {},
   "outputs": [
    {
     "ename": "ERROR",
     "evalue": "Error in library(Amelia): there is no package called ‘Amelia’\n",
     "output_type": "error",
     "traceback": [
      "Error in library(Amelia): there is no package called ‘Amelia’\nTraceback:\n",
      "1. library(Amelia)"
     ]
    }
   ],
   "source": [
    "#install.packages(\"Amelia\")\n",
    "library(Amelia)\n",
    "missmap(titanic_data, main = 'Missing data map', col = c('yellow', 'black'), legend = FALSE)"
   ]
  },
  {
   "cell_type": "markdown",
   "id": "77d8a4b6-9222-4a26-ba7f-3dd4e0a0fb6e",
   "metadata": {},
   "source": [
    "One more way to check where missing data is present with `saplly()`:"
   ]
  },
  {
   "cell_type": "code",
   "execution_count": 7,
   "id": "7e5aa079-ec49-46f0-b21f-aa97157abc3c",
   "metadata": {},
   "outputs": [
    {
     "data": {
      "text/html": [
       "<style>\n",
       ".dl-inline {width: auto; margin:0; padding: 0}\n",
       ".dl-inline>dt, .dl-inline>dd {float: none; width: auto; display: inline-block}\n",
       ".dl-inline>dt::after {content: \":\\0020\"; padding-right: .5ex}\n",
       ".dl-inline>dt:not(:first-of-type) {padding-left: .5ex}\n",
       "</style><dl class=dl-inline><dt>pclass</dt><dd>1</dd><dt>survived</dt><dd>1</dd><dt>sex</dt><dd>1</dd><dt>age</dt><dd>264</dd><dt>sibsp</dt><dd>1</dd><dt>parch</dt><dd>1</dd><dt>fare</dt><dd>2</dd><dt>cabin</dt><dd>1015</dd><dt>embarked</dt><dd>3</dd></dl>\n"
      ],
      "text/latex": [
       "\\begin{description*}\n",
       "\\item[pclass] 1\n",
       "\\item[survived] 1\n",
       "\\item[sex] 1\n",
       "\\item[age] 264\n",
       "\\item[sibsp] 1\n",
       "\\item[parch] 1\n",
       "\\item[fare] 2\n",
       "\\item[cabin] 1015\n",
       "\\item[embarked] 3\n",
       "\\end{description*}\n"
      ],
      "text/markdown": [
       "pclass\n",
       ":   1survived\n",
       ":   1sex\n",
       ":   1age\n",
       ":   264sibsp\n",
       ":   1parch\n",
       ":   1fare\n",
       ":   2cabin\n",
       ":   1015embarked\n",
       ":   3\n",
       "\n"
      ],
      "text/plain": [
       "  pclass survived      sex      age    sibsp    parch     fare    cabin \n",
       "       1        1        1      264        1        1        2     1015 \n",
       "embarked \n",
       "       3 "
      ]
     },
     "metadata": {},
     "output_type": "display_data"
    }
   ],
   "source": [
    "sapply(titanic_data, function(x) sum(is.na(x)))"
   ]
  },
  {
   "cell_type": "code",
   "execution_count": 8,
   "id": "005cf012-ce7b-4615-ad64-83d729a51f42",
   "metadata": {},
   "outputs": [
    {
     "data": {
      "text/html": [
       "<table class=\"dataframe\">\n",
       "<caption>A data.frame: 1 × 9</caption>\n",
       "<thead>\n",
       "\t<tr><th scope=col>pclass</th><th scope=col>survived</th><th scope=col>sex</th><th scope=col>age</th><th scope=col>sibsp</th><th scope=col>parch</th><th scope=col>fare</th><th scope=col>cabin</th><th scope=col>embarked</th></tr>\n",
       "\t<tr><th scope=col>&lt;int&gt;</th><th scope=col>&lt;int&gt;</th><th scope=col>&lt;chr&gt;</th><th scope=col>&lt;dbl&gt;</th><th scope=col>&lt;int&gt;</th><th scope=col>&lt;int&gt;</th><th scope=col>&lt;dbl&gt;</th><th scope=col>&lt;chr&gt;</th><th scope=col>&lt;chr&gt;</th></tr>\n",
       "</thead>\n",
       "<tbody>\n",
       "\t<tr><td>NA</td><td>NA</td><td>NA</td><td>NA</td><td>NA</td><td>NA</td><td>NA</td><td>NA</td><td>NA</td></tr>\n",
       "</tbody>\n",
       "</table>\n"
      ],
      "text/latex": [
       "A data.frame: 1 × 9\n",
       "\\begin{tabular}{lllllllll}\n",
       " pclass & survived & sex & age & sibsp & parch & fare & cabin & embarked\\\\\n",
       " <int> & <int> & <chr> & <dbl> & <int> & <int> & <dbl> & <chr> & <chr>\\\\\n",
       "\\hline\n",
       "\t NA & NA & NA & NA & NA & NA & NA & NA & NA\\\\\n",
       "\\end{tabular}\n"
      ],
      "text/markdown": [
       "\n",
       "A data.frame: 1 × 9\n",
       "\n",
       "| pclass &lt;int&gt; | survived &lt;int&gt; | sex &lt;chr&gt; | age &lt;dbl&gt; | sibsp &lt;int&gt; | parch &lt;int&gt; | fare &lt;dbl&gt; | cabin &lt;chr&gt; | embarked &lt;chr&gt; |\n",
       "|---|---|---|---|---|---|---|---|---|\n",
       "| NA | NA | NA | NA | NA | NA | NA | NA | NA |\n",
       "\n"
      ],
      "text/plain": [
       "  pclass survived sex age sibsp parch fare cabin embarked\n",
       "1 NA     NA       NA  NA  NA    NA    NA   NA    NA      "
      ]
     },
     "metadata": {},
     "output_type": "display_data"
    }
   ],
   "source": [
    "# Lets check where survived is NA, target should be finite\n",
    "titanic_data %>% filter(is.na(survived))\n",
    "# looks like its wrong line in data"
   ]
  },
  {
   "cell_type": "code",
   "execution_count": 9,
   "id": "8f6cd3d0-e05b-4248-9764-70fa26229234",
   "metadata": {},
   "outputs": [
    {
     "data": {
      "text/html": [
       "<style>\n",
       ".dl-inline {width: auto; margin:0; padding: 0}\n",
       ".dl-inline>dt, .dl-inline>dd {float: none; width: auto; display: inline-block}\n",
       ".dl-inline>dt::after {content: \":\\0020\"; padding-right: .5ex}\n",
       ".dl-inline>dt:not(:first-of-type) {padding-left: .5ex}\n",
       "</style><dl class=dl-inline><dt>pclass</dt><dd>0</dd><dt>survived</dt><dd>0</dd><dt>sex</dt><dd>0</dd><dt>age</dt><dd>263</dd><dt>sibsp</dt><dd>0</dd><dt>parch</dt><dd>0</dd><dt>fare</dt><dd>1</dd><dt>cabin</dt><dd>1014</dd><dt>embarked</dt><dd>2</dd></dl>\n"
      ],
      "text/latex": [
       "\\begin{description*}\n",
       "\\item[pclass] 0\n",
       "\\item[survived] 0\n",
       "\\item[sex] 0\n",
       "\\item[age] 263\n",
       "\\item[sibsp] 0\n",
       "\\item[parch] 0\n",
       "\\item[fare] 1\n",
       "\\item[cabin] 1014\n",
       "\\item[embarked] 2\n",
       "\\end{description*}\n"
      ],
      "text/markdown": [
       "pclass\n",
       ":   0survived\n",
       ":   0sex\n",
       ":   0age\n",
       ":   263sibsp\n",
       ":   0parch\n",
       ":   0fare\n",
       ":   1cabin\n",
       ":   1014embarked\n",
       ":   2\n",
       "\n"
      ],
      "text/plain": [
       "  pclass survived      sex      age    sibsp    parch     fare    cabin \n",
       "       0        0        0      263        0        0        1     1014 \n",
       "embarked \n",
       "       2 "
      ]
     },
     "metadata": {},
     "output_type": "display_data"
    }
   ],
   "source": [
    "# lets remove this row\n",
    "titanic_data <- titanic_data %>% filter(!is.na(survived))\n",
    "sapply(titanic_data, function(x) sum(is.na(x)))"
   ]
  },
  {
   "cell_type": "markdown",
   "id": "cc5a0ba1-c3bc-47a4-b998-8c16847d9043",
   "metadata": {},
   "source": [
    "<div class=\"alert alert-danger\">We will replace all missing data on the next stages for: `fare`, `cabin`, `age`, `embarked`.</div>"
   ]
  },
  {
   "cell_type": "markdown",
   "id": "bf48c90b-1e36-4eb3-9c63-9681dfe1da12",
   "metadata": {},
   "source": [
    "## 2.2. Visual analysis"
   ]
  },
  {
   "cell_type": "code",
   "execution_count": 10,
   "id": "cbbf8cfd-f120-47ea-a6af-6b07af4b9019",
   "metadata": {},
   "outputs": [],
   "source": [
    "library(ggplot2) # for plots\n",
    "library(gmodels) # for CrossTable"
   ]
  },
  {
   "cell_type": "markdown",
   "id": "4b5d3e49-14d1-4db3-ad38-788cecb40b7c",
   "metadata": {},
   "source": [
    "### Survived"
   ]
  },
  {
   "cell_type": "code",
   "execution_count": 11,
   "id": "e900f20b-4c38-466a-9a67-b4140f81edd0",
   "metadata": {},
   "outputs": [
    {
     "name": "stdout",
     "output_type": "stream",
     "text": [
      "\n",
      " \n",
      "   Cell Contents\n",
      "|-------------------------|\n",
      "|                       N |\n",
      "|         N / Table Total |\n",
      "|-------------------------|\n",
      "\n",
      " \n",
      "Total Observations in Table:  1309 \n",
      "\n",
      " \n",
      "          |         0 |         1 | \n",
      "          |-----------|-----------|\n",
      "          |       809 |       500 | \n",
      "          |     0.618 |     0.382 | \n",
      "          |-----------|-----------|\n",
      "\n",
      "\n",
      "\n",
      " \n"
     ]
    },
    {
     "data": {
      "image/png": "[encoded data removed]",
      "text/plain": [
       "plot without title"
      ]
     },
     "metadata": {
      "image/png": {
       "height": 420,
       "width": 420
      }
     },
     "output_type": "display_data"
    }
   ],
   "source": [
    "CrossTable(titanic_data$survived)\n",
    "ggplot(titanic_data, aes(survived)) + geom_bar(aes(fill = factor(survived))) + theme_bw()"
   ]
  },
  {
   "cell_type": "markdown",
   "id": "3f8b0966-ce3d-47a1-8be2-393d256308ce",
   "metadata": {},
   "source": [
    "### Крос-таблиця survived vs pclass"
   ]
  },
  {
   "cell_type": "code",
   "execution_count": 12,
   "id": "a76f5d9e-f323-4e68-90e8-77ff46c8d52b",
   "metadata": {},
   "outputs": [
    {
     "name": "stdout",
     "output_type": "stream",
     "text": [
      "\n",
      " \n",
      "   Cell Contents\n",
      "|-------------------------|\n",
      "|                       N |\n",
      "| Chi-square contribution |\n",
      "|           N / Row Total |\n",
      "|           N / Col Total |\n",
      "|         N / Table Total |\n",
      "|-------------------------|\n",
      "\n",
      " \n",
      "Total Observations in Table:  1309 \n",
      "\n",
      " \n",
      "                      | titanic_data$pclass \n",
      "titanic_data$survived |         1 |         2 |         3 | Row Total | \n",
      "----------------------|-----------|-----------|-----------|-----------|\n",
      "                    0 |       123 |       158 |       528 |       809 | \n",
      "                      |    29.411 |     1.017 |    18.411 |           | \n",
      "                      |     0.152 |     0.195 |     0.653 |     0.618 | \n",
      "                      |     0.381 |     0.570 |     0.745 |           | \n",
      "                      |     0.094 |     0.121 |     0.403 |           | \n",
      "----------------------|-----------|-----------|-----------|-----------|\n",
      "                    1 |       200 |       119 |       181 |       500 | \n",
      "                      |    47.587 |     1.645 |    29.788 |           | \n",
      "                      |     0.400 |     0.238 |     0.362 |     0.382 | \n",
      "                      |     0.619 |     0.430 |     0.255 |           | \n",
      "                      |     0.153 |     0.091 |     0.138 |           | \n",
      "----------------------|-----------|-----------|-----------|-----------|\n",
      "         Column Total |       323 |       277 |       709 |      1309 | \n",
      "                      |     0.247 |     0.212 |     0.542 |           | \n",
      "----------------------|-----------|-----------|-----------|-----------|\n",
      "\n",
      " \n"
     ]
    },
    {
     "data": {
      "image/png": "[encoded data removed]",
      "text/plain": [
       "plot without title"
      ]
     },
     "metadata": {
      "image/png": {
       "height": 420,
       "width": 420
      }
     },
     "output_type": "display_data"
    }
   ],
   "source": [
    "CrossTable(titanic_data$survived, titanic_data$pclass)\n",
    "ggplot(titanic_data, aes(pclass)) + geom_bar(aes(fill = factor(pclass)))+ theme_bw()"
   ]
  },
  {
   "cell_type": "markdown",
   "id": "df639a3e-d64d-4bf1-9af0-99d6c30f212a",
   "metadata": {},
   "source": [
    "### sex"
   ]
  },
  {
   "cell_type": "code",
   "execution_count": 13,
   "id": "dc610ec8-88e9-4bf1-b05f-812413682534",
   "metadata": {},
   "outputs": [
    {
     "data": {
      "image/png": "[encoded data removed]",
      "text/plain": [
       "plot without title"
      ]
     },
     "metadata": {
      "image/png": {
       "height": 420,
       "width": 420
      }
     },
     "output_type": "display_data"
    }
   ],
   "source": [
    "ggplot(titanic_data, aes(sex)) + geom_bar(aes(fill = factor(sex))) + theme_bw()"
   ]
  },
  {
   "cell_type": "markdown",
   "id": "470faf71-7c5c-484c-b406-37a54eeb80e8",
   "metadata": {},
   "source": [
    "### Age"
   ]
  },
  {
   "cell_type": "code",
   "execution_count": 14,
   "id": "579db943-8375-4432-8628-e96801d19aa8",
   "metadata": {},
   "outputs": [
    {
     "name": "stderr",
     "output_type": "stream",
     "text": [
      "Warning message:\n",
      "“Removed 263 rows containing non-finite values (stat_bin).”\n"
     ]
    },
    {
     "data": {
      "image/png": "[encoded data removed]",
      "text/plain": [
       "plot without title"
      ]
     },
     "metadata": {
      "image/png": {
       "height": 420,
       "width": 420
      }
     },
     "output_type": "display_data"
    }
   ],
   "source": [
    "ggplot(titanic_data, aes(age)) + geom_histogram(bins = 25, alpha = 0.5, fill = 'blue', color='black')  + theme_bw()"
   ]
  },
  {
   "cell_type": "markdown",
   "id": "0cee51d5-7be9-4aa4-8883-8b79d0ba83b2",
   "metadata": {},
   "source": [
    "### fare"
   ]
  },
  {
   "cell_type": "code",
   "execution_count": 15,
   "id": "c2d9b504-e53f-46cf-9865-49bf0fb3cbe5",
   "metadata": {},
   "outputs": [
    {
     "name": "stderr",
     "output_type": "stream",
     "text": [
      "Warning message:\n",
      "“Removed 1 rows containing non-finite values (stat_bin).”\n"
     ]
    },
    {
     "data": {
      "image/png": "[encoded data removed]",
      "text/plain": [
       "plot without title"
      ]
     },
     "metadata": {
      "image/png": {
       "height": 420,
       "width": 420
      }
     },
     "output_type": "display_data"
    }
   ],
   "source": [
    "ggplot(titanic_data, aes(fare)) + geom_histogram(bins = 15, alpha = 0.5, fill = 'blue', color='black')+ theme_bw()"
   ]
  },
  {
   "cell_type": "markdown",
   "id": "a651943d-3a0f-431f-8250-bf5cb88b3fb2",
   "metadata": {},
   "source": [
    "### sibsp"
   ]
  },
  {
   "cell_type": "code",
   "execution_count": 16,
   "id": "f0a69a4f-5a6b-471d-bf90-bcf1248b8c13",
   "metadata": {},
   "outputs": [
    {
     "data": {
      "image/png": "[encoded data removed]",
      "text/plain": [
       "plot without title"
      ]
     },
     "metadata": {
      "image/png": {
       "height": 420,
       "width": 420
      }
     },
     "output_type": "display_data"
    }
   ],
   "source": [
    "ggplot(titanic_data, aes(sibsp)) + geom_bar()+ theme_bw()"
   ]
  },
  {
   "cell_type": "markdown",
   "id": "c0d70890-dc93-445a-a40b-b0dcac6943b6",
   "metadata": {},
   "source": [
    "### parch"
   ]
  },
  {
   "cell_type": "code",
   "execution_count": 17,
   "id": "7bc726de-cf96-40e1-b559-82e3c39c87d4",
   "metadata": {},
   "outputs": [
    {
     "data": {
      "image/png": "[encoded data removed]",
      "text/plain": [
       "plot without title"
      ]
     },
     "metadata": {
      "image/png": {
       "height": 420,
       "width": 420
      }
     },
     "output_type": "display_data"
    }
   ],
   "source": [
    "ggplot(titanic_data, aes(parch)) + geom_bar()+ theme_bw()"
   ]
  },
  {
   "cell_type": "code",
   "execution_count": null,
   "id": "e82c2ed9-f617-46aa-b450-c090fd2237bb",
   "metadata": {},
   "outputs": [],
   "source": []
  },
  {
   "cell_type": "code",
   "execution_count": 18,
   "id": "0786b873-6cf9-4b1f-8a43-f8b323b7e4c0",
   "metadata": {},
   "outputs": [
    {
     "data": {
      "image/png": "[encoded data removed]",
      "text/plain": [
       "plot without title"
      ]
     },
     "metadata": {
      "image/png": {
       "height": 420,
       "width": 420
      }
     },
     "output_type": "display_data"
    }
   ],
   "source": [
    "ggplot(titanic_data, aes(embarked)) + geom_bar(aes(fill = factor(embarked)))+ theme_bw()\n",
    "\n",
    "# it looks like S the most popular value in embarked, so it could be good idea to replace 1 missing with S"
   ]
  },
  {
   "cell_type": "markdown",
   "id": "e85a887c-a6e6-4087-b14b-aac982f835a6",
   "metadata": {},
   "source": [
    "---"
   ]
  },
  {
   "cell_type": "markdown",
   "id": "c29089ab-40e6-4f84-bba6-7c38507ab155",
   "metadata": {},
   "source": [
    "# 3. Splitting data"
   ]
  },
  {
   "cell_type": "markdown",
   "id": "b9230e82-9ba4-49b1-ac52-b6d431feea86",
   "metadata": {},
   "source": [
    "Lest split out dataset for test and train"
   ]
  },
  {
   "cell_type": "code",
   "execution_count": 19,
   "id": "76d21f63-80f8-4c8a-a87c-a63239819afe",
   "metadata": {},
   "outputs": [
    {
     "name": "stdout",
     "output_type": "stream",
     "text": [
      "\n",
      " \n",
      "   Cell Contents\n",
      "|-------------------------|\n",
      "|                       N |\n",
      "|         N / Table Total |\n",
      "|-------------------------|\n",
      "\n",
      " \n",
      "Total Observations in Table:  916 \n",
      "\n",
      " \n",
      "          |         0 |         1 | \n",
      "          |-----------|-----------|\n",
      "          |       566 |       350 | \n",
      "          |     0.618 |     0.382 | \n",
      "          |-----------|-----------|\n",
      "\n",
      "\n",
      "\n",
      " \n",
      "\n",
      " \n",
      "   Cell Contents\n",
      "|-------------------------|\n",
      "|                       N |\n",
      "|         N / Table Total |\n",
      "|-------------------------|\n",
      "\n",
      " \n",
      "Total Observations in Table:  393 \n",
      "\n",
      " \n",
      "          |         0 |         1 | \n",
      "          |-----------|-----------|\n",
      "          |       243 |       150 | \n",
      "          |     0.618 |     0.382 | \n",
      "          |-----------|-----------|\n",
      "\n",
      "\n",
      "\n",
      " \n"
     ]
    }
   ],
   "source": [
    "set.seed(1) # seed\n",
    "library(caTools)\n",
    "split <- sample.split(titanic_data$survived, SplitRatio = 0.7)\n",
    "titanic_train <- subset(titanic_data, split == TRUE)\n",
    "titanic_test <- subset(titanic_data, split == FALSE)\n",
    "\n",
    "library(gmodels)\n",
    "CrossTable(titanic_train$survived)\n",
    "CrossTable(titanic_test$survived) # its splitted by the same proportions"
   ]
  },
  {
   "cell_type": "markdown",
   "id": "3c85aca9-cfed-42c2-9ae7-becb3fae637a",
   "metadata": {},
   "source": [
    "---"
   ]
  },
  {
   "cell_type": "markdown",
   "id": "f17bff3e-b13b-49b8-839d-4e329940bfff",
   "metadata": {},
   "source": [
    "# 4. Missing replacement"
   ]
  },
  {
   "cell_type": "markdown",
   "id": "f25de19a-9a4b-4721-a0bd-30db78219765",
   "metadata": {},
   "source": [
    "Missing data replacement should have base points for each parameter. \n",
    "\n",
    "So, we will fix data for replacement from train and implement it to both train and test."
   ]
  },
  {
   "cell_type": "code",
   "execution_count": 20,
   "id": "772f64ef-2067-4169-9b51-6804617e9140",
   "metadata": {},
   "outputs": [
    {
     "data": {
      "text/html": [
       "<table class=\"dataframe\">\n",
       "<caption>A data.frame: 6 × 9</caption>\n",
       "<thead>\n",
       "\t<tr><th></th><th scope=col>pclass</th><th scope=col>survived</th><th scope=col>sex</th><th scope=col>age</th><th scope=col>sibsp</th><th scope=col>parch</th><th scope=col>fare</th><th scope=col>cabin</th><th scope=col>embarked</th></tr>\n",
       "\t<tr><th></th><th scope=col>&lt;int&gt;</th><th scope=col>&lt;int&gt;</th><th scope=col>&lt;chr&gt;</th><th scope=col>&lt;dbl&gt;</th><th scope=col>&lt;int&gt;</th><th scope=col>&lt;int&gt;</th><th scope=col>&lt;dbl&gt;</th><th scope=col>&lt;chr&gt;</th><th scope=col>&lt;chr&gt;</th></tr>\n",
       "</thead>\n",
       "<tbody>\n",
       "\t<tr><th scope=row>1</th><td>1</td><td>1</td><td>female</td><td>29.0000</td><td>0</td><td>0</td><td>211.3375</td><td>B5     </td><td>S</td></tr>\n",
       "\t<tr><th scope=row>2</th><td>1</td><td>1</td><td>male  </td><td> 0.9167</td><td>1</td><td>2</td><td>151.5500</td><td>C22 C26</td><td>S</td></tr>\n",
       "\t<tr><th scope=row>3</th><td>1</td><td>0</td><td>female</td><td> 2.0000</td><td>1</td><td>2</td><td>151.5500</td><td>C22 C26</td><td>S</td></tr>\n",
       "\t<tr><th scope=row>4</th><td>1</td><td>0</td><td>male  </td><td>30.0000</td><td>1</td><td>2</td><td>151.5500</td><td>C22 C26</td><td>S</td></tr>\n",
       "\t<tr><th scope=row>5</th><td>1</td><td>0</td><td>female</td><td>25.0000</td><td>1</td><td>2</td><td>151.5500</td><td>C22 C26</td><td>S</td></tr>\n",
       "\t<tr><th scope=row>6</th><td>1</td><td>1</td><td>male  </td><td>48.0000</td><td>0</td><td>0</td><td> 26.5500</td><td>E12    </td><td>S</td></tr>\n",
       "</tbody>\n",
       "</table>\n"
      ],
      "text/latex": [
       "A data.frame: 6 × 9\n",
       "\\begin{tabular}{r|lllllllll}\n",
       "  & pclass & survived & sex & age & sibsp & parch & fare & cabin & embarked\\\\\n",
       "  & <int> & <int> & <chr> & <dbl> & <int> & <int> & <dbl> & <chr> & <chr>\\\\\n",
       "\\hline\n",
       "\t1 & 1 & 1 & female & 29.0000 & 0 & 0 & 211.3375 & B5      & S\\\\\n",
       "\t2 & 1 & 1 & male   &  0.9167 & 1 & 2 & 151.5500 & C22 C26 & S\\\\\n",
       "\t3 & 1 & 0 & female &  2.0000 & 1 & 2 & 151.5500 & C22 C26 & S\\\\\n",
       "\t4 & 1 & 0 & male   & 30.0000 & 1 & 2 & 151.5500 & C22 C26 & S\\\\\n",
       "\t5 & 1 & 0 & female & 25.0000 & 1 & 2 & 151.5500 & C22 C26 & S\\\\\n",
       "\t6 & 1 & 1 & male   & 48.0000 & 0 & 0 &  26.5500 & E12     & S\\\\\n",
       "\\end{tabular}\n"
      ],
      "text/markdown": [
       "\n",
       "A data.frame: 6 × 9\n",
       "\n",
       "| <!--/--> | pclass &lt;int&gt; | survived &lt;int&gt; | sex &lt;chr&gt; | age &lt;dbl&gt; | sibsp &lt;int&gt; | parch &lt;int&gt; | fare &lt;dbl&gt; | cabin &lt;chr&gt; | embarked &lt;chr&gt; |\n",
       "|---|---|---|---|---|---|---|---|---|---|\n",
       "| 1 | 1 | 1 | female | 29.0000 | 0 | 0 | 211.3375 | B5      | S |\n",
       "| 2 | 1 | 1 | male   |  0.9167 | 1 | 2 | 151.5500 | C22 C26 | S |\n",
       "| 3 | 1 | 0 | female |  2.0000 | 1 | 2 | 151.5500 | C22 C26 | S |\n",
       "| 4 | 1 | 0 | male   | 30.0000 | 1 | 2 | 151.5500 | C22 C26 | S |\n",
       "| 5 | 1 | 0 | female | 25.0000 | 1 | 2 | 151.5500 | C22 C26 | S |\n",
       "| 6 | 1 | 1 | male   | 48.0000 | 0 | 0 |  26.5500 | E12     | S |\n",
       "\n"
      ],
      "text/plain": [
       "  pclass survived sex    age     sibsp parch fare     cabin   embarked\n",
       "1 1      1        female 29.0000 0     0     211.3375 B5      S       \n",
       "2 1      1        male    0.9167 1     2     151.5500 C22 C26 S       \n",
       "3 1      0        female  2.0000 1     2     151.5500 C22 C26 S       \n",
       "4 1      0        male   30.0000 1     2     151.5500 C22 C26 S       \n",
       "5 1      0        female 25.0000 1     2     151.5500 C22 C26 S       \n",
       "6 1      1        male   48.0000 0     0      26.5500 E12     S       "
      ]
     },
     "metadata": {},
     "output_type": "display_data"
    }
   ],
   "source": [
    "head(titanic_train)"
   ]
  },
  {
   "cell_type": "code",
   "execution_count": 21,
   "id": "d1e3a889-61cd-49a9-a0cb-c4e9ca95b908",
   "metadata": {},
   "outputs": [
    {
     "data": {
      "text/html": [
       "<style>\n",
       ".dl-inline {width: auto; margin:0; padding: 0}\n",
       ".dl-inline>dt, .dl-inline>dd {float: none; width: auto; display: inline-block}\n",
       ".dl-inline>dt::after {content: \":\\0020\"; padding-right: .5ex}\n",
       ".dl-inline>dt:not(:first-of-type) {padding-left: .5ex}\n",
       "</style><dl class=dl-inline><dt>pclass</dt><dd>0</dd><dt>survived</dt><dd>0</dd><dt>sex</dt><dd>0</dd><dt>age</dt><dd>182</dd><dt>sibsp</dt><dd>0</dd><dt>parch</dt><dd>0</dd><dt>fare</dt><dd>1</dd><dt>cabin</dt><dd>703</dd><dt>embarked</dt><dd>1</dd></dl>\n"
      ],
      "text/latex": [
       "\\begin{description*}\n",
       "\\item[pclass] 0\n",
       "\\item[survived] 0\n",
       "\\item[sex] 0\n",
       "\\item[age] 182\n",
       "\\item[sibsp] 0\n",
       "\\item[parch] 0\n",
       "\\item[fare] 1\n",
       "\\item[cabin] 703\n",
       "\\item[embarked] 1\n",
       "\\end{description*}\n"
      ],
      "text/markdown": [
       "pclass\n",
       ":   0survived\n",
       ":   0sex\n",
       ":   0age\n",
       ":   182sibsp\n",
       ":   0parch\n",
       ":   0fare\n",
       ":   1cabin\n",
       ":   703embarked\n",
       ":   1\n",
       "\n"
      ],
      "text/plain": [
       "  pclass survived      sex      age    sibsp    parch     fare    cabin \n",
       "       0        0        0      182        0        0        1      703 \n",
       "embarked \n",
       "       1 "
      ]
     },
     "metadata": {},
     "output_type": "display_data"
    },
    {
     "data": {
      "text/html": [
       "<style>\n",
       ".dl-inline {width: auto; margin:0; padding: 0}\n",
       ".dl-inline>dt, .dl-inline>dd {float: none; width: auto; display: inline-block}\n",
       ".dl-inline>dt::after {content: \":\\0020\"; padding-right: .5ex}\n",
       ".dl-inline>dt:not(:first-of-type) {padding-left: .5ex}\n",
       "</style><dl class=dl-inline><dt>pclass</dt><dd>0</dd><dt>survived</dt><dd>0</dd><dt>sex</dt><dd>0</dd><dt>age</dt><dd>81</dd><dt>sibsp</dt><dd>0</dd><dt>parch</dt><dd>0</dd><dt>fare</dt><dd>0</dd><dt>cabin</dt><dd>311</dd><dt>embarked</dt><dd>1</dd></dl>\n"
      ],
      "text/latex": [
       "\\begin{description*}\n",
       "\\item[pclass] 0\n",
       "\\item[survived] 0\n",
       "\\item[sex] 0\n",
       "\\item[age] 81\n",
       "\\item[sibsp] 0\n",
       "\\item[parch] 0\n",
       "\\item[fare] 0\n",
       "\\item[cabin] 311\n",
       "\\item[embarked] 1\n",
       "\\end{description*}\n"
      ],
      "text/markdown": [
       "pclass\n",
       ":   0survived\n",
       ":   0sex\n",
       ":   0age\n",
       ":   81sibsp\n",
       ":   0parch\n",
       ":   0fare\n",
       ":   0cabin\n",
       ":   311embarked\n",
       ":   1\n",
       "\n"
      ],
      "text/plain": [
       "  pclass survived      sex      age    sibsp    parch     fare    cabin \n",
       "       0        0        0       81        0        0        0      311 \n",
       "embarked \n",
       "       1 "
      ]
     },
     "metadata": {},
     "output_type": "display_data"
    }
   ],
   "source": [
    "# check missing\n",
    "sapply(titanic_train, function(x) sum(is.na(x)))\n",
    "sapply(titanic_test, function(x) sum(is.na(x)))"
   ]
  },
  {
   "cell_type": "markdown",
   "id": "6687bc84-c7fc-4bbe-924d-1e137d12d140",
   "metadata": {},
   "source": [
    "Створюємо dummy-змінну, що буде вказути на наявність запису про каюту у пасажира `1/0`:"
   ]
  },
  {
   "cell_type": "code",
   "execution_count": 22,
   "id": "209b6e87-783f-4d48-98af-6d4dd26cd63a",
   "metadata": {},
   "outputs": [],
   "source": [
    "# train\n",
    "titanic_train <- titanic_train %>%\n",
    "    mutate(hascabin = ifelse(!is.na(cabin), 1, 0)) %>%\n",
    "    select(-cabin) # remove cabin column\n",
    "\n",
    "titanic_test <- titanic_test %>%\n",
    "    mutate(hascabin = ifelse(!is.na(cabin), 1, 0)) %>%\n",
    "    select(-cabin) # remove cabin column"
   ]
  },
  {
   "cell_type": "markdown",
   "id": "5b0979d1-838e-4039-9df2-20ad245eb402",
   "metadata": {},
   "source": [
    "Заповнюємо дані пропусків вартості квитка `fare`. Замінюємо `NA` на середнє значення вартості квитка:"
   ]
  },
  {
   "cell_type": "code",
   "execution_count": 23,
   "id": "e3849ab3-c616-4a30-991d-252664813ad2",
   "metadata": {},
   "outputs": [
    {
     "data": {
      "text/html": [
       "33.2955"
      ],
      "text/latex": [
       "33.2955"
      ],
      "text/markdown": [
       "33.2955"
      ],
      "text/plain": [
       "[1] 33.2955"
      ]
     },
     "metadata": {},
     "output_type": "display_data"
    },
    {
     "name": "stderr",
     "output_type": "stream",
     "text": [
      "\n",
      "Attaching package: ‘tidyr’\n",
      "\n",
      "\n",
      "The following object is masked from ‘package:magrittr’:\n",
      "\n",
      "    extract\n",
      "\n",
      "\n"
     ]
    },
    {
     "data": {
      "text/html": [
       "FALSE"
      ],
      "text/latex": [
       "FALSE"
      ],
      "text/markdown": [
       "FALSE"
      ],
      "text/plain": [
       "[1] FALSE"
      ]
     },
     "metadata": {},
     "output_type": "display_data"
    },
    {
     "data": {
      "text/html": [
       "FALSE"
      ],
      "text/latex": [
       "FALSE"
      ],
      "text/markdown": [
       "FALSE"
      ],
      "text/plain": [
       "[1] FALSE"
      ]
     },
     "metadata": {},
     "output_type": "display_data"
    }
   ],
   "source": [
    "avg_fare <- round(mean(titanic_data$fare, na.rm = TRUE),4)\n",
    "avg_fare\n",
    "\n",
    "# lets study new function from tidyr replace NA\n",
    "library(tidyr)\n",
    "titanic_train <- titanic_train %>% \n",
    "    mutate(fare = replace_na(fare, avg_fare))\n",
    "\n",
    "# there are no missing in test$fare\n",
    "\n",
    "any(is.na(titanic_train$fare)) # check for missing\n",
    "any(is.na(titanic_test$fare))"
   ]
  },
  {
   "cell_type": "markdown",
   "id": "e992529e-d2d7-48e8-9af3-740b36ecc9be",
   "metadata": {},
   "source": [
    "Заповнюємо пропуски для порту посадки (`embarked`). Варіантом для заміни оберемо найпопулярнішйи варінт значення, той який зустрічається частіше за інші. Скористаємося показником `МОДА`. З попереднього аналізу відомо, що таким показником є `S`. Проте варто написати універсальну функцію, що буде сама відбирати значення:"
   ]
  },
  {
   "cell_type": "code",
   "execution_count": 24,
   "id": "cb6b2765-f370-46a3-b707-4d3442e9bd6d",
   "metadata": {},
   "outputs": [],
   "source": [
    "getmode <- function(v) {\n",
    "  uniqv <- unique(v) # select all unique values\n",
    "  uniqv[which.max(tabulate(match(v, uniqv)))] # select value that included most times\n",
    "}"
   ]
  },
  {
   "cell_type": "code",
   "execution_count": 25,
   "id": "b92853ca-ae01-4ef7-9acf-b7d7f3c0a1b3",
   "metadata": {},
   "outputs": [
    {
     "data": {
      "text/html": [
       "'S'"
      ],
      "text/latex": [
       "'S'"
      ],
      "text/markdown": [
       "'S'"
      ],
      "text/plain": [
       "[1] \"S\""
      ]
     },
     "metadata": {},
     "output_type": "display_data"
    }
   ],
   "source": [
    "# get the moda\n",
    "embarked_moda <- getmode(titanic_data$embarked)\n",
    "embarked_moda # its `S`"
   ]
  },
  {
   "cell_type": "code",
   "execution_count": 26,
   "id": "f93ef48f-c321-4f9e-a3dd-3231f4a26c51",
   "metadata": {},
   "outputs": [
    {
     "data": {
      "text/html": [
       "FALSE"
      ],
      "text/latex": [
       "FALSE"
      ],
      "text/markdown": [
       "FALSE"
      ],
      "text/plain": [
       "[1] FALSE"
      ]
     },
     "metadata": {},
     "output_type": "display_data"
    },
    {
     "data": {
      "text/html": [
       "FALSE"
      ],
      "text/latex": [
       "FALSE"
      ],
      "text/markdown": [
       "FALSE"
      ],
      "text/plain": [
       "[1] FALSE"
      ]
     },
     "metadata": {},
     "output_type": "display_data"
    }
   ],
   "source": [
    "titanic_train <- titanic_train %>% \n",
    "    mutate(embarked = replace_na(embarked, embarked_moda))\n",
    "\n",
    "titanic_test <- titanic_test %>% \n",
    "    mutate(embarked = replace_na(embarked, embarked_moda))\n",
    "\n",
    "any(is.na(titanic_train$embarked)) # check for missing\n",
    "any(is.na(titanic_test$embarked))"
   ]
  },
  {
   "cell_type": "markdown",
   "id": "fe6872f6-22b4-4f9a-bf2b-f73bc297e939",
   "metadata": {},
   "source": [
    "Для заміни пропусків по віку (age) використаємо показник “Клас пасажира” (pclass). Обчислимо середній вік пасажирів кожного класу і замінимо пропуски з урахуванням цієї інформації. Тобто для усіх пасажирів 1-го класу замінимо пропуски середнім по пасажирах середнього класу і т.д."
   ]
  },
  {
   "cell_type": "code",
   "execution_count": 27,
   "id": "22c4c9d1-c00c-4949-98ea-2767ef013a4f",
   "metadata": {},
   "outputs": [
    {
     "name": "stderr",
     "output_type": "stream",
     "text": [
      "Warning message:\n",
      "“Removed 182 rows containing non-finite values (stat_boxplot).”\n"
     ]
    },
    {
     "data": {
      "image/png": "[encoded data removed]",
      "text/plain": [
       "plot without title"
      ]
     },
     "metadata": {
      "image/png": {
       "height": 420,
       "width": 420
      }
     },
     "output_type": "display_data"
    }
   ],
   "source": [
    "# lets build boxplot for average age in each class\n",
    "\n",
    "age_plot <- ggplot(titanic_train, aes(pclass, age)) \n",
    "age_plot <- age_plot + geom_boxplot(aes(group = pclass, fill = factor(pclass), alpha = 0.4)) # alpha == opacity of chart elements\n",
    "age_plot <- age_plot + scale_y_continuous(breaks = seq(min(0), max(80), by = 2)) + theme_bw()\n",
    "age_plot"
   ]
  },
  {
   "cell_type": "markdown",
   "id": "79fcfdcf-d731-44d5-b8f4-22d631d6e8b7",
   "metadata": {},
   "source": [
    "Середні значення віку для кожного класу пасажирів становлять:"
   ]
  },
  {
   "cell_type": "code",
   "execution_count": 28,
   "id": "e48a0287-3c09-44b6-bebf-e7b6c15cb896",
   "metadata": {},
   "outputs": [
    {
     "data": {
      "text/html": [
       "<table class=\"dataframe\">\n",
       "<caption>A tibble: 3 × 2</caption>\n",
       "<thead>\n",
       "\t<tr><th scope=col>pclass</th><th scope=col>mean_age</th></tr>\n",
       "\t<tr><th scope=col>&lt;int&gt;</th><th scope=col>&lt;dbl&gt;</th></tr>\n",
       "</thead>\n",
       "<tbody>\n",
       "\t<tr><td>1</td><td>38</td></tr>\n",
       "\t<tr><td>2</td><td>29</td></tr>\n",
       "\t<tr><td>3</td><td>24</td></tr>\n",
       "</tbody>\n",
       "</table>\n"
      ],
      "text/latex": [
       "A tibble: 3 × 2\n",
       "\\begin{tabular}{ll}\n",
       " pclass & mean\\_age\\\\\n",
       " <int> & <dbl>\\\\\n",
       "\\hline\n",
       "\t 1 & 38\\\\\n",
       "\t 2 & 29\\\\\n",
       "\t 3 & 24\\\\\n",
       "\\end{tabular}\n"
      ],
      "text/markdown": [
       "\n",
       "A tibble: 3 × 2\n",
       "\n",
       "| pclass &lt;int&gt; | mean_age &lt;dbl&gt; |\n",
       "|---|---|\n",
       "| 1 | 38 |\n",
       "| 2 | 29 |\n",
       "| 3 | 24 |\n",
       "\n"
      ],
      "text/plain": [
       "  pclass mean_age\n",
       "1 1      38      \n",
       "2 2      29      \n",
       "3 3      24      "
      ]
     },
     "metadata": {},
     "output_type": "display_data"
    }
   ],
   "source": [
    "pclass_ages <- titanic_train %>%\n",
    "    group_by(pclass) %>%\n",
    "    summarise(mean_age = floor(mean(age, na.rm =T)))\n",
    "pclass_ages"
   ]
  },
  {
   "cell_type": "code",
   "execution_count": 29,
   "id": "ecd6c508-20cf-4a0c-ad4f-ed98a64e266a",
   "metadata": {},
   "outputs": [
    {
     "data": {
      "text/html": [
       "FALSE"
      ],
      "text/latex": [
       "FALSE"
      ],
      "text/markdown": [
       "FALSE"
      ],
      "text/plain": [
       "[1] FALSE"
      ]
     },
     "metadata": {},
     "output_type": "display_data"
    },
    {
     "data": {
      "text/html": [
       "<table class=\"dataframe\">\n",
       "<caption>A data.frame: 6 × 9</caption>\n",
       "<thead>\n",
       "\t<tr><th></th><th scope=col>pclass</th><th scope=col>survived</th><th scope=col>sex</th><th scope=col>age</th><th scope=col>sibsp</th><th scope=col>parch</th><th scope=col>fare</th><th scope=col>embarked</th><th scope=col>hascabin</th></tr>\n",
       "\t<tr><th></th><th scope=col>&lt;int&gt;</th><th scope=col>&lt;int&gt;</th><th scope=col>&lt;chr&gt;</th><th scope=col>&lt;dbl&gt;</th><th scope=col>&lt;int&gt;</th><th scope=col>&lt;int&gt;</th><th scope=col>&lt;dbl&gt;</th><th scope=col>&lt;chr&gt;</th><th scope=col>&lt;dbl&gt;</th></tr>\n",
       "</thead>\n",
       "<tbody>\n",
       "\t<tr><th scope=row>1</th><td>1</td><td>1</td><td>female</td><td>29.0000</td><td>0</td><td>0</td><td>211.3375</td><td>S</td><td>1</td></tr>\n",
       "\t<tr><th scope=row>2</th><td>1</td><td>1</td><td>male  </td><td> 0.9167</td><td>1</td><td>2</td><td>151.5500</td><td>S</td><td>1</td></tr>\n",
       "\t<tr><th scope=row>3</th><td>1</td><td>0</td><td>female</td><td> 2.0000</td><td>1</td><td>2</td><td>151.5500</td><td>S</td><td>1</td></tr>\n",
       "\t<tr><th scope=row>4</th><td>1</td><td>0</td><td>male  </td><td>30.0000</td><td>1</td><td>2</td><td>151.5500</td><td>S</td><td>1</td></tr>\n",
       "\t<tr><th scope=row>5</th><td>1</td><td>0</td><td>female</td><td>25.0000</td><td>1</td><td>2</td><td>151.5500</td><td>S</td><td>1</td></tr>\n",
       "\t<tr><th scope=row>6</th><td>1</td><td>1</td><td>male  </td><td>48.0000</td><td>0</td><td>0</td><td> 26.5500</td><td>S</td><td>1</td></tr>\n",
       "</tbody>\n",
       "</table>\n"
      ],
      "text/latex": [
       "A data.frame: 6 × 9\n",
       "\\begin{tabular}{r|lllllllll}\n",
       "  & pclass & survived & sex & age & sibsp & parch & fare & embarked & hascabin\\\\\n",
       "  & <int> & <int> & <chr> & <dbl> & <int> & <int> & <dbl> & <chr> & <dbl>\\\\\n",
       "\\hline\n",
       "\t1 & 1 & 1 & female & 29.0000 & 0 & 0 & 211.3375 & S & 1\\\\\n",
       "\t2 & 1 & 1 & male   &  0.9167 & 1 & 2 & 151.5500 & S & 1\\\\\n",
       "\t3 & 1 & 0 & female &  2.0000 & 1 & 2 & 151.5500 & S & 1\\\\\n",
       "\t4 & 1 & 0 & male   & 30.0000 & 1 & 2 & 151.5500 & S & 1\\\\\n",
       "\t5 & 1 & 0 & female & 25.0000 & 1 & 2 & 151.5500 & S & 1\\\\\n",
       "\t6 & 1 & 1 & male   & 48.0000 & 0 & 0 &  26.5500 & S & 1\\\\\n",
       "\\end{tabular}\n"
      ],
      "text/markdown": [
       "\n",
       "A data.frame: 6 × 9\n",
       "\n",
       "| <!--/--> | pclass &lt;int&gt; | survived &lt;int&gt; | sex &lt;chr&gt; | age &lt;dbl&gt; | sibsp &lt;int&gt; | parch &lt;int&gt; | fare &lt;dbl&gt; | embarked &lt;chr&gt; | hascabin &lt;dbl&gt; |\n",
       "|---|---|---|---|---|---|---|---|---|---|\n",
       "| 1 | 1 | 1 | female | 29.0000 | 0 | 0 | 211.3375 | S | 1 |\n",
       "| 2 | 1 | 1 | male   |  0.9167 | 1 | 2 | 151.5500 | S | 1 |\n",
       "| 3 | 1 | 0 | female |  2.0000 | 1 | 2 | 151.5500 | S | 1 |\n",
       "| 4 | 1 | 0 | male   | 30.0000 | 1 | 2 | 151.5500 | S | 1 |\n",
       "| 5 | 1 | 0 | female | 25.0000 | 1 | 2 | 151.5500 | S | 1 |\n",
       "| 6 | 1 | 1 | male   | 48.0000 | 0 | 0 |  26.5500 | S | 1 |\n",
       "\n"
      ],
      "text/plain": [
       "  pclass survived sex    age     sibsp parch fare     embarked hascabin\n",
       "1 1      1        female 29.0000 0     0     211.3375 S        1       \n",
       "2 1      1        male    0.9167 1     2     151.5500 S        1       \n",
       "3 1      0        female  2.0000 1     2     151.5500 S        1       \n",
       "4 1      0        male   30.0000 1     2     151.5500 S        1       \n",
       "5 1      0        female 25.0000 1     2     151.5500 S        1       \n",
       "6 1      1        male   48.0000 0     0      26.5500 S        1       "
      ]
     },
     "metadata": {},
     "output_type": "display_data"
    }
   ],
   "source": [
    "titanic_train <- titanic_train %>% \n",
    "    mutate(age = ifelse(is.na(age), pclass_ages$mean_age[pclass], age))\n",
    "           \n",
    "any(is.na(titanic_train$age)) # check for missing\n",
    "head(titanic_train)"
   ]
  },
  {
   "cell_type": "code",
   "execution_count": 30,
   "id": "3dc2c1ce-9164-4cfa-a059-1e62f68ea49c",
   "metadata": {},
   "outputs": [
    {
     "ename": "ERROR",
     "evalue": "Error in eval(expr, envir, enclos): object 'titani' not found\n",
     "output_type": "error",
     "traceback": [
      "Error in eval(expr, envir, enclos): object 'titani' not found\nTraceback:\n"
     ]
    }
   ],
   "source": [
    "titani"
   ]
  },
  {
   "cell_type": "code",
   "execution_count": 32,
   "id": "7314530b-f41d-45c8-a9c6-b605d1cdcbe8",
   "metadata": {},
   "outputs": [
    {
     "data": {
      "text/html": [
       "FALSE"
      ],
      "text/latex": [
       "FALSE"
      ],
      "text/markdown": [
       "FALSE"
      ],
      "text/plain": [
       "[1] FALSE"
      ]
     },
     "metadata": {},
     "output_type": "display_data"
    }
   ],
   "source": [
    "titanic_test <- titanic_test %>% \n",
    "       mutate(age = ifelse(is.na(age), pclass_ages$mean_age[pclass], age))\n",
    "any(is.na(titanic_test$age)) # check for missing"
   ]
  },
  {
   "cell_type": "code",
   "execution_count": 40,
   "id": "a2aa8de3-cb12-4e36-8a85-0b7fe75320fd",
   "metadata": {},
   "outputs": [
    {
     "name": "stdout",
     "output_type": "stream",
     "text": [
      " /\\     /\\\n",
      "{  `---'  }\n",
      "{  O   O  }\n",
      "==>  V <==  No need for mice. This data set is completely observed.\n",
      " \\  \\|/  /\n",
      "  `-----'\n",
      "\n"
     ]
    },
    {
     "data": {
      "text/html": [
       "<table class=\"dataframe\">\n",
       "<caption>A matrix: 2 × 10 of type dbl</caption>\n",
       "<thead>\n",
       "\t<tr><th></th><th scope=col>pclass</th><th scope=col>survived</th><th scope=col>sex</th><th scope=col>age</th><th scope=col>sibsp</th><th scope=col>parch</th><th scope=col>fare</th><th scope=col>embarked</th><th scope=col>hascabin</th><th scope=col></th></tr>\n",
       "</thead>\n",
       "<tbody>\n",
       "\t<tr><th scope=row>916</th><td>1</td><td>1</td><td>1</td><td>1</td><td>1</td><td>1</td><td>1</td><td>1</td><td>1</td><td>0</td></tr>\n",
       "\t<tr><th scope=row></th><td>0</td><td>0</td><td>0</td><td>0</td><td>0</td><td>0</td><td>0</td><td>0</td><td>0</td><td>0</td></tr>\n",
       "</tbody>\n",
       "</table>\n"
      ],
      "text/latex": [
       "A matrix: 2 × 10 of type dbl\n",
       "\\begin{tabular}{r|llllllllll}\n",
       "  & pclass & survived & sex & age & sibsp & parch & fare & embarked & hascabin & \\\\\n",
       "\\hline\n",
       "\t916 & 1 & 1 & 1 & 1 & 1 & 1 & 1 & 1 & 1 & 0\\\\\n",
       "\t & 0 & 0 & 0 & 0 & 0 & 0 & 0 & 0 & 0 & 0\\\\\n",
       "\\end{tabular}\n"
      ],
      "text/markdown": [
       "\n",
       "A matrix: 2 × 10 of type dbl\n",
       "\n",
       "| <!--/--> | pclass | survived | sex | age | sibsp | parch | fare | embarked | hascabin | <!----> |\n",
       "|---|---|---|---|---|---|---|---|---|---|---|\n",
       "| 916 | 1 | 1 | 1 | 1 | 1 | 1 | 1 | 1 | 1 | 0 |\n",
       "| <!----> | 0 | 0 | 0 | 0 | 0 | 0 | 0 | 0 | 0 | 0 |\n",
       "\n"
      ],
      "text/plain": [
       "    pclass survived sex age sibsp parch fare embarked hascabin  \n",
       "916 1      1        1   1   1     1     1    1        1        0\n",
       "    0      0        0   0   0     0     0    0        0        0"
      ]
     },
     "metadata": {},
     "output_type": "display_data"
    },
    {
     "name": "stdout",
     "output_type": "stream",
     "text": [
      " /\\     /\\\n",
      "{  `---'  }\n",
      "{  O   O  }\n",
      "==>  V <==  No need for mice. This data set is completely observed.\n",
      " \\  \\|/  /\n",
      "  `-----'\n",
      "\n"
     ]
    },
    {
     "data": {
      "image/png": "[encoded data removed]",
      "text/plain": [
       "plot without title"
      ]
     },
     "metadata": {
      "image/png": {
       "height": 420,
       "width": 420
      }
     },
     "output_type": "display_data"
    },
    {
     "data": {
      "text/html": [
       "<table class=\"dataframe\">\n",
       "<caption>A matrix: 2 × 10 of type dbl</caption>\n",
       "<thead>\n",
       "\t<tr><th></th><th scope=col>pclass</th><th scope=col>survived</th><th scope=col>sex</th><th scope=col>age</th><th scope=col>sibsp</th><th scope=col>parch</th><th scope=col>fare</th><th scope=col>embarked</th><th scope=col>hascabin</th><th scope=col></th></tr>\n",
       "</thead>\n",
       "<tbody>\n",
       "\t<tr><th scope=row>393</th><td>1</td><td>1</td><td>1</td><td>1</td><td>1</td><td>1</td><td>1</td><td>1</td><td>1</td><td>0</td></tr>\n",
       "\t<tr><th scope=row></th><td>0</td><td>0</td><td>0</td><td>0</td><td>0</td><td>0</td><td>0</td><td>0</td><td>0</td><td>0</td></tr>\n",
       "</tbody>\n",
       "</table>\n"
      ],
      "text/latex": [
       "A matrix: 2 × 10 of type dbl\n",
       "\\begin{tabular}{r|llllllllll}\n",
       "  & pclass & survived & sex & age & sibsp & parch & fare & embarked & hascabin & \\\\\n",
       "\\hline\n",
       "\t393 & 1 & 1 & 1 & 1 & 1 & 1 & 1 & 1 & 1 & 0\\\\\n",
       "\t & 0 & 0 & 0 & 0 & 0 & 0 & 0 & 0 & 0 & 0\\\\\n",
       "\\end{tabular}\n"
      ],
      "text/markdown": [
       "\n",
       "A matrix: 2 × 10 of type dbl\n",
       "\n",
       "| <!--/--> | pclass | survived | sex | age | sibsp | parch | fare | embarked | hascabin | <!----> |\n",
       "|---|---|---|---|---|---|---|---|---|---|---|\n",
       "| 393 | 1 | 1 | 1 | 1 | 1 | 1 | 1 | 1 | 1 | 0 |\n",
       "| <!----> | 0 | 0 | 0 | 0 | 0 | 0 | 0 | 0 | 0 | 0 |\n",
       "\n"
      ],
      "text/plain": [
       "    pclass survived sex age sibsp parch fare embarked hascabin  \n",
       "393 1      1        1   1   1     1     1    1        1        0\n",
       "    0      0        0   0   0     0     0    0        0        0"
      ]
     },
     "metadata": {},
     "output_type": "display_data"
    },
    {
     "data": {
      "image/png": "[encoded data removed]",
      "text/plain": [
       "plot without title"
      ]
     },
     "metadata": {
      "image/png": {
       "height": 420,
       "width": 420
      }
     },
     "output_type": "display_data"
    }
   ],
   "source": [
    "md.pattern(titanic_train) # OK, no missing\n",
    "md.pattern(titanic_test) # OK, no missing"
   ]
  },
  {
   "cell_type": "markdown",
   "id": "b7ce8739-a437-4a88-87d1-26f444643094",
   "metadata": {},
   "source": [
    "---"
   ]
  },
  {
   "cell_type": "markdown",
   "id": "0a94756e-c613-4e19-beb1-b953ff084138",
   "metadata": {},
   "source": [
    "# 5. Model building"
   ]
  },
  {
   "cell_type": "markdown",
   "id": "6806b3bd-9126-4d7d-9cae-69faae12ca6d",
   "metadata": {},
   "source": [
    "Перед побудовою моделі визначимо категоріальні змінні як фактори (factor), щоб під час моделювання для них було сформовано dummy-змінні."
   ]
  },
  {
   "cell_type": "code",
   "execution_count": 41,
   "id": "7e06b9a4-cf5e-4186-9026-3d1d0d846433",
   "metadata": {},
   "outputs": [
    {
     "data": {
      "text/html": [
       "<table class=\"dataframe\">\n",
       "<caption>A data.frame: 6 × 9</caption>\n",
       "<thead>\n",
       "\t<tr><th></th><th scope=col>pclass</th><th scope=col>survived</th><th scope=col>sex</th><th scope=col>age</th><th scope=col>sibsp</th><th scope=col>parch</th><th scope=col>fare</th><th scope=col>embarked</th><th scope=col>hascabin</th></tr>\n",
       "\t<tr><th></th><th scope=col>&lt;int&gt;</th><th scope=col>&lt;int&gt;</th><th scope=col>&lt;chr&gt;</th><th scope=col>&lt;dbl&gt;</th><th scope=col>&lt;int&gt;</th><th scope=col>&lt;int&gt;</th><th scope=col>&lt;dbl&gt;</th><th scope=col>&lt;chr&gt;</th><th scope=col>&lt;dbl&gt;</th></tr>\n",
       "</thead>\n",
       "<tbody>\n",
       "\t<tr><th scope=row>1</th><td>1</td><td>1</td><td>female</td><td>29.0000</td><td>0</td><td>0</td><td>211.3375</td><td>S</td><td>1</td></tr>\n",
       "\t<tr><th scope=row>2</th><td>1</td><td>1</td><td>male  </td><td> 0.9167</td><td>1</td><td>2</td><td>151.5500</td><td>S</td><td>1</td></tr>\n",
       "\t<tr><th scope=row>3</th><td>1</td><td>0</td><td>female</td><td> 2.0000</td><td>1</td><td>2</td><td>151.5500</td><td>S</td><td>1</td></tr>\n",
       "\t<tr><th scope=row>4</th><td>1</td><td>0</td><td>male  </td><td>30.0000</td><td>1</td><td>2</td><td>151.5500</td><td>S</td><td>1</td></tr>\n",
       "\t<tr><th scope=row>5</th><td>1</td><td>0</td><td>female</td><td>25.0000</td><td>1</td><td>2</td><td>151.5500</td><td>S</td><td>1</td></tr>\n",
       "\t<tr><th scope=row>6</th><td>1</td><td>1</td><td>male  </td><td>48.0000</td><td>0</td><td>0</td><td> 26.5500</td><td>S</td><td>1</td></tr>\n",
       "</tbody>\n",
       "</table>\n"
      ],
      "text/latex": [
       "A data.frame: 6 × 9\n",
       "\\begin{tabular}{r|lllllllll}\n",
       "  & pclass & survived & sex & age & sibsp & parch & fare & embarked & hascabin\\\\\n",
       "  & <int> & <int> & <chr> & <dbl> & <int> & <int> & <dbl> & <chr> & <dbl>\\\\\n",
       "\\hline\n",
       "\t1 & 1 & 1 & female & 29.0000 & 0 & 0 & 211.3375 & S & 1\\\\\n",
       "\t2 & 1 & 1 & male   &  0.9167 & 1 & 2 & 151.5500 & S & 1\\\\\n",
       "\t3 & 1 & 0 & female &  2.0000 & 1 & 2 & 151.5500 & S & 1\\\\\n",
       "\t4 & 1 & 0 & male   & 30.0000 & 1 & 2 & 151.5500 & S & 1\\\\\n",
       "\t5 & 1 & 0 & female & 25.0000 & 1 & 2 & 151.5500 & S & 1\\\\\n",
       "\t6 & 1 & 1 & male   & 48.0000 & 0 & 0 &  26.5500 & S & 1\\\\\n",
       "\\end{tabular}\n"
      ],
      "text/markdown": [
       "\n",
       "A data.frame: 6 × 9\n",
       "\n",
       "| <!--/--> | pclass &lt;int&gt; | survived &lt;int&gt; | sex &lt;chr&gt; | age &lt;dbl&gt; | sibsp &lt;int&gt; | parch &lt;int&gt; | fare &lt;dbl&gt; | embarked &lt;chr&gt; | hascabin &lt;dbl&gt; |\n",
       "|---|---|---|---|---|---|---|---|---|---|\n",
       "| 1 | 1 | 1 | female | 29.0000 | 0 | 0 | 211.3375 | S | 1 |\n",
       "| 2 | 1 | 1 | male   |  0.9167 | 1 | 2 | 151.5500 | S | 1 |\n",
       "| 3 | 1 | 0 | female |  2.0000 | 1 | 2 | 151.5500 | S | 1 |\n",
       "| 4 | 1 | 0 | male   | 30.0000 | 1 | 2 | 151.5500 | S | 1 |\n",
       "| 5 | 1 | 0 | female | 25.0000 | 1 | 2 | 151.5500 | S | 1 |\n",
       "| 6 | 1 | 1 | male   | 48.0000 | 0 | 0 |  26.5500 | S | 1 |\n",
       "\n"
      ],
      "text/plain": [
       "  pclass survived sex    age     sibsp parch fare     embarked hascabin\n",
       "1 1      1        female 29.0000 0     0     211.3375 S        1       \n",
       "2 1      1        male    0.9167 1     2     151.5500 S        1       \n",
       "3 1      0        female  2.0000 1     2     151.5500 S        1       \n",
       "4 1      0        male   30.0000 1     2     151.5500 S        1       \n",
       "5 1      0        female 25.0000 1     2     151.5500 S        1       \n",
       "6 1      1        male   48.0000 0     0      26.5500 S        1       "
      ]
     },
     "metadata": {},
     "output_type": "display_data"
    }
   ],
   "source": [
    "head(titanic_train)"
   ]
  },
  {
   "cell_type": "code",
   "execution_count": 42,
   "id": "592d3847-6d74-457c-8880-d748b82cddd7",
   "metadata": {},
   "outputs": [
    {
     "data": {
      "text/html": [
       "<table class=\"dataframe\">\n",
       "<caption>A data.frame: 6 × 9</caption>\n",
       "<thead>\n",
       "\t<tr><th></th><th scope=col>pclass</th><th scope=col>survived</th><th scope=col>sex</th><th scope=col>age</th><th scope=col>sibsp</th><th scope=col>parch</th><th scope=col>fare</th><th scope=col>embarked</th><th scope=col>hascabin</th></tr>\n",
       "\t<tr><th></th><th scope=col>&lt;fct&gt;</th><th scope=col>&lt;fct&gt;</th><th scope=col>&lt;fct&gt;</th><th scope=col>&lt;dbl&gt;</th><th scope=col>&lt;int&gt;</th><th scope=col>&lt;int&gt;</th><th scope=col>&lt;dbl&gt;</th><th scope=col>&lt;fct&gt;</th><th scope=col>&lt;fct&gt;</th></tr>\n",
       "</thead>\n",
       "<tbody>\n",
       "\t<tr><th scope=row>1</th><td>1</td><td>1</td><td>female</td><td>29.0000</td><td>0</td><td>0</td><td>211.3375</td><td>S</td><td>1</td></tr>\n",
       "\t<tr><th scope=row>2</th><td>1</td><td>1</td><td>male  </td><td> 0.9167</td><td>1</td><td>2</td><td>151.5500</td><td>S</td><td>1</td></tr>\n",
       "\t<tr><th scope=row>3</th><td>1</td><td>0</td><td>female</td><td> 2.0000</td><td>1</td><td>2</td><td>151.5500</td><td>S</td><td>1</td></tr>\n",
       "\t<tr><th scope=row>4</th><td>1</td><td>0</td><td>male  </td><td>30.0000</td><td>1</td><td>2</td><td>151.5500</td><td>S</td><td>1</td></tr>\n",
       "\t<tr><th scope=row>5</th><td>1</td><td>0</td><td>female</td><td>25.0000</td><td>1</td><td>2</td><td>151.5500</td><td>S</td><td>1</td></tr>\n",
       "\t<tr><th scope=row>6</th><td>1</td><td>1</td><td>male  </td><td>48.0000</td><td>0</td><td>0</td><td> 26.5500</td><td>S</td><td>1</td></tr>\n",
       "</tbody>\n",
       "</table>\n"
      ],
      "text/latex": [
       "A data.frame: 6 × 9\n",
       "\\begin{tabular}{r|lllllllll}\n",
       "  & pclass & survived & sex & age & sibsp & parch & fare & embarked & hascabin\\\\\n",
       "  & <fct> & <fct> & <fct> & <dbl> & <int> & <int> & <dbl> & <fct> & <fct>\\\\\n",
       "\\hline\n",
       "\t1 & 1 & 1 & female & 29.0000 & 0 & 0 & 211.3375 & S & 1\\\\\n",
       "\t2 & 1 & 1 & male   &  0.9167 & 1 & 2 & 151.5500 & S & 1\\\\\n",
       "\t3 & 1 & 0 & female &  2.0000 & 1 & 2 & 151.5500 & S & 1\\\\\n",
       "\t4 & 1 & 0 & male   & 30.0000 & 1 & 2 & 151.5500 & S & 1\\\\\n",
       "\t5 & 1 & 0 & female & 25.0000 & 1 & 2 & 151.5500 & S & 1\\\\\n",
       "\t6 & 1 & 1 & male   & 48.0000 & 0 & 0 &  26.5500 & S & 1\\\\\n",
       "\\end{tabular}\n"
      ],
      "text/markdown": [
       "\n",
       "A data.frame: 6 × 9\n",
       "\n",
       "| <!--/--> | pclass &lt;fct&gt; | survived &lt;fct&gt; | sex &lt;fct&gt; | age &lt;dbl&gt; | sibsp &lt;int&gt; | parch &lt;int&gt; | fare &lt;dbl&gt; | embarked &lt;fct&gt; | hascabin &lt;fct&gt; |\n",
       "|---|---|---|---|---|---|---|---|---|---|\n",
       "| 1 | 1 | 1 | female | 29.0000 | 0 | 0 | 211.3375 | S | 1 |\n",
       "| 2 | 1 | 1 | male   |  0.9167 | 1 | 2 | 151.5500 | S | 1 |\n",
       "| 3 | 1 | 0 | female |  2.0000 | 1 | 2 | 151.5500 | S | 1 |\n",
       "| 4 | 1 | 0 | male   | 30.0000 | 1 | 2 | 151.5500 | S | 1 |\n",
       "| 5 | 1 | 0 | female | 25.0000 | 1 | 2 | 151.5500 | S | 1 |\n",
       "| 6 | 1 | 1 | male   | 48.0000 | 0 | 0 |  26.5500 | S | 1 |\n",
       "\n"
      ],
      "text/plain": [
       "  pclass survived sex    age     sibsp parch fare     embarked hascabin\n",
       "1 1      1        female 29.0000 0     0     211.3375 S        1       \n",
       "2 1      1        male    0.9167 1     2     151.5500 S        1       \n",
       "3 1      0        female  2.0000 1     2     151.5500 S        1       \n",
       "4 1      0        male   30.0000 1     2     151.5500 S        1       \n",
       "5 1      0        female 25.0000 1     2     151.5500 S        1       \n",
       "6 1      1        male   48.0000 0     0      26.5500 S        1       "
      ]
     },
     "metadata": {},
     "output_type": "display_data"
    }
   ],
   "source": [
    "# for train\n",
    "titanic_train$pclass <- factor(titanic_train$pclass, levels = c(1,2,3))\n",
    "titanic_train$survived <- factor(titanic_train$survived, levels = c(0, 1))\n",
    "titanic_train$hascabin<- factor(titanic_train$hascabin, levels = c(0, 1))\n",
    "\n",
    "titanic_train$embarked <- factor(titanic_train$embarked, levels = c('S', 'C', 'Q'))\n",
    "titanic_train$sex <- factor(titanic_train$sex, levels = c('female', 'male'))\n",
    "\n",
    "head(titanic_train)"
   ]
  },
  {
   "cell_type": "code",
   "execution_count": 43,
   "id": "a8bd625a-cb31-4c8e-8ba0-7f91586f001a",
   "metadata": {},
   "outputs": [
    {
     "data": {
      "text/html": [
       "<table class=\"dataframe\">\n",
       "<caption>A data.frame: 6 × 9</caption>\n",
       "<thead>\n",
       "\t<tr><th></th><th scope=col>pclass</th><th scope=col>survived</th><th scope=col>sex</th><th scope=col>age</th><th scope=col>sibsp</th><th scope=col>parch</th><th scope=col>fare</th><th scope=col>embarked</th><th scope=col>hascabin</th></tr>\n",
       "\t<tr><th></th><th scope=col>&lt;fct&gt;</th><th scope=col>&lt;fct&gt;</th><th scope=col>&lt;fct&gt;</th><th scope=col>&lt;dbl&gt;</th><th scope=col>&lt;int&gt;</th><th scope=col>&lt;int&gt;</th><th scope=col>&lt;dbl&gt;</th><th scope=col>&lt;fct&gt;</th><th scope=col>&lt;fct&gt;</th></tr>\n",
       "</thead>\n",
       "<tbody>\n",
       "\t<tr><th scope=row>7</th><td>1</td><td>1</td><td>female</td><td>63</td><td>1</td><td>0</td><td> 77.9583</td><td>S</td><td>1</td></tr>\n",
       "\t<tr><th scope=row>11</th><td>1</td><td>0</td><td>male  </td><td>47</td><td>1</td><td>0</td><td>227.5250</td><td>C</td><td>1</td></tr>\n",
       "\t<tr><th scope=row>12</th><td>1</td><td>1</td><td>female</td><td>18</td><td>1</td><td>0</td><td>227.5250</td><td>C</td><td>1</td></tr>\n",
       "\t<tr><th scope=row>13</th><td>1</td><td>1</td><td>female</td><td>24</td><td>0</td><td>0</td><td> 69.3000</td><td>C</td><td>1</td></tr>\n",
       "\t<tr><th scope=row>17</th><td>1</td><td>0</td><td>male  </td><td>24</td><td>0</td><td>1</td><td>247.5208</td><td>C</td><td>1</td></tr>\n",
       "\t<tr><th scope=row>20</th><td>1</td><td>0</td><td>male  </td><td>36</td><td>0</td><td>0</td><td> 75.2417</td><td>C</td><td>1</td></tr>\n",
       "</tbody>\n",
       "</table>\n"
      ],
      "text/latex": [
       "A data.frame: 6 × 9\n",
       "\\begin{tabular}{r|lllllllll}\n",
       "  & pclass & survived & sex & age & sibsp & parch & fare & embarked & hascabin\\\\\n",
       "  & <fct> & <fct> & <fct> & <dbl> & <int> & <int> & <dbl> & <fct> & <fct>\\\\\n",
       "\\hline\n",
       "\t7 & 1 & 1 & female & 63 & 1 & 0 &  77.9583 & S & 1\\\\\n",
       "\t11 & 1 & 0 & male   & 47 & 1 & 0 & 227.5250 & C & 1\\\\\n",
       "\t12 & 1 & 1 & female & 18 & 1 & 0 & 227.5250 & C & 1\\\\\n",
       "\t13 & 1 & 1 & female & 24 & 0 & 0 &  69.3000 & C & 1\\\\\n",
       "\t17 & 1 & 0 & male   & 24 & 0 & 1 & 247.5208 & C & 1\\\\\n",
       "\t20 & 1 & 0 & male   & 36 & 0 & 0 &  75.2417 & C & 1\\\\\n",
       "\\end{tabular}\n"
      ],
      "text/markdown": [
       "\n",
       "A data.frame: 6 × 9\n",
       "\n",
       "| <!--/--> | pclass &lt;fct&gt; | survived &lt;fct&gt; | sex &lt;fct&gt; | age &lt;dbl&gt; | sibsp &lt;int&gt; | parch &lt;int&gt; | fare &lt;dbl&gt; | embarked &lt;fct&gt; | hascabin &lt;fct&gt; |\n",
       "|---|---|---|---|---|---|---|---|---|---|\n",
       "| 7 | 1 | 1 | female | 63 | 1 | 0 |  77.9583 | S | 1 |\n",
       "| 11 | 1 | 0 | male   | 47 | 1 | 0 | 227.5250 | C | 1 |\n",
       "| 12 | 1 | 1 | female | 18 | 1 | 0 | 227.5250 | C | 1 |\n",
       "| 13 | 1 | 1 | female | 24 | 0 | 0 |  69.3000 | C | 1 |\n",
       "| 17 | 1 | 0 | male   | 24 | 0 | 1 | 247.5208 | C | 1 |\n",
       "| 20 | 1 | 0 | male   | 36 | 0 | 0 |  75.2417 | C | 1 |\n",
       "\n"
      ],
      "text/plain": [
       "   pclass survived sex    age sibsp parch fare     embarked hascabin\n",
       "7  1      1        female 63  1     0      77.9583 S        1       \n",
       "11 1      0        male   47  1     0     227.5250 C        1       \n",
       "12 1      1        female 18  1     0     227.5250 C        1       \n",
       "13 1      1        female 24  0     0      69.3000 C        1       \n",
       "17 1      0        male   24  0     1     247.5208 C        1       \n",
       "20 1      0        male   36  0     0      75.2417 C        1       "
      ]
     },
     "metadata": {},
     "output_type": "display_data"
    }
   ],
   "source": [
    "# use the same levels for factors in test_set\n",
    "# different ordering data in \n",
    "\n",
    "titanic_test$pclass <- factor(titanic_test$pclass, levels = c(1,2,3))\n",
    "titanic_test$survived <- factor(titanic_test$survived, levels = c(0, 1))\n",
    "titanic_test$hascabin<- factor(titanic_test$hascabin, levels = c(0, 1))\n",
    "\n",
    "titanic_test$embarked <- factor(titanic_test$embarked, levels = c('S', 'C', 'Q'))\n",
    "titanic_test$sex <- factor(titanic_test$sex, levels = c('female', 'male'))\n",
    "\n",
    "head(titanic_test)"
   ]
  },
  {
   "cell_type": "markdown",
   "id": "755aa469-3437-47e2-8a81-bcdbecfc9a97",
   "metadata": {},
   "source": [
    "Для побудови логістичної регресії використовується функція `glm()`. Формула `survived ~ .` означає, що у модель будуть відібрані усі параметри із вибірки, а survived буде використано як вихідну змінну. `family = binomial(link = \"logit\")` вказує на використання логістиної регресії."
   ]
  },
  {
   "cell_type": "code",
   "execution_count": 44,
   "id": "f296089f-65f0-4d27-a227-e5c6473b26d4",
   "metadata": {},
   "outputs": [
    {
     "data": {
      "text/plain": [
       "\n",
       "Call:\n",
       "glm(formula = survived ~ ., family = binomial(link = \"logit\"), \n",
       "    data = titanic_train)\n",
       "\n",
       "Deviance Residuals: \n",
       "    Min       1Q   Median       3Q      Max  \n",
       "-2.5558  -0.6169  -0.4128   0.5801   2.6250  \n",
       "\n",
       "Coefficients:\n",
       "              Estimate Std. Error z value Pr(>|z|)    \n",
       "(Intercept)  2.748e+00  5.167e-01   5.318 1.05e-07 ***\n",
       "pclass2     -2.653e-01  3.772e-01  -0.703 0.481831    \n",
       "pclass3     -1.397e+00  3.907e-01  -3.574 0.000351 ***\n",
       "sexmale     -2.753e+00  1.999e-01 -13.771  < 2e-16 ***\n",
       "age         -3.423e-02  7.987e-03  -4.285 1.83e-05 ***\n",
       "sibsp       -3.144e-01  1.111e-01  -2.829 0.004672 ** \n",
       "parch       -7.658e-02  1.196e-01  -0.640 0.521911    \n",
       "fare         4.771e-05  2.313e-03   0.021 0.983541    \n",
       "embarkedC    6.002e-01  2.336e-01   2.569 0.010193 *  \n",
       "embarkedQ   -1.329e-01  3.185e-01  -0.417 0.676547    \n",
       "hascabin1    1.008e+00  3.247e-01   3.104 0.001912 ** \n",
       "---\n",
       "Signif. codes:  0 ‘***’ 0.001 ‘**’ 0.01 ‘*’ 0.05 ‘.’ 0.1 ‘ ’ 1\n",
       "\n",
       "(Dispersion parameter for binomial family taken to be 1)\n",
       "\n",
       "    Null deviance: 1218.4  on 915  degrees of freedom\n",
       "Residual deviance:  805.4  on 905  degrees of freedom\n",
       "AIC: 827.4\n",
       "\n",
       "Number of Fisher Scoring iterations: 5\n"
      ]
     },
     "metadata": {},
     "output_type": "display_data"
    }
   ],
   "source": [
    "def_glm <- glm(formula = survived ~ ., family = binomial(link = \"logit\"), data = titanic_train)\n",
    "summary(def_glm)"
   ]
  },
  {
   "cell_type": "markdown",
   "id": "faf120fb-0e4f-4f16-901c-26047369e87f",
   "metadata": {},
   "source": [
    "Параметри з _***_ вказують на значимість показника у моделі. Здійснимо прогноз по тренувальній вибірці:"
   ]
  },
  {
   "cell_type": "markdown",
   "id": "2d678cec-b560-4229-af7a-6ba6dfdb4dbc",
   "metadata": {},
   "source": [
    "And test build model with an other package `caret` explained before in train/test/validation splitting paragraph."
   ]
  },
  {
   "cell_type": "code",
   "execution_count": 45,
   "id": "ae19f8bd-8898-4c75-a444-e4053e54449f",
   "metadata": {},
   "outputs": [],
   "source": [
    "# install.packages(\"e1071\")"
   ]
  },
  {
   "cell_type": "code",
   "execution_count": 64,
   "id": "444fc203-1b7e-4bca-9ea5-23ae3c063254",
   "metadata": {},
   "outputs": [
    {
     "data": {
      "text/plain": [
       "\n",
       "Call:\n",
       "NULL\n",
       "\n",
       "Deviance Residuals: \n",
       "    Min       1Q   Median       3Q      Max  \n",
       "-2.5558  -0.6169  -0.4128   0.5801   2.6250  \n",
       "\n",
       "Coefficients:\n",
       "              Estimate Std. Error z value Pr(>|z|)    \n",
       "(Intercept)  2.748e+00  5.167e-01   5.318 1.05e-07 ***\n",
       "pclass2     -2.653e-01  3.772e-01  -0.703 0.481831    \n",
       "pclass3     -1.397e+00  3.907e-01  -3.574 0.000351 ***\n",
       "sexmale     -2.753e+00  1.999e-01 -13.771  < 2e-16 ***\n",
       "age         -3.423e-02  7.987e-03  -4.285 1.83e-05 ***\n",
       "sibsp       -3.144e-01  1.111e-01  -2.829 0.004672 ** \n",
       "parch       -7.658e-02  1.196e-01  -0.640 0.521911    \n",
       "fare         4.771e-05  2.313e-03   0.021 0.983541    \n",
       "embarkedC    6.002e-01  2.336e-01   2.569 0.010193 *  \n",
       "embarkedQ   -1.329e-01  3.185e-01  -0.417 0.676547    \n",
       "hascabin1    1.008e+00  3.247e-01   3.104 0.001912 ** \n",
       "---\n",
       "Signif. codes:  0 ‘***’ 0.001 ‘**’ 0.01 ‘*’ 0.05 ‘.’ 0.1 ‘ ’ 1\n",
       "\n",
       "(Dispersion parameter for binomial family taken to be 1)\n",
       "\n",
       "    Null deviance: 1218.4  on 915  degrees of freedom\n",
       "Residual deviance:  805.4  on 905  degrees of freedom\n",
       "AIC: 827.4\n",
       "\n",
       "Number of Fisher Scoring iterations: 5\n"
      ]
     },
     "metadata": {},
     "output_type": "display_data"
    }
   ],
   "source": [
    "library(e1071) # required by caret\n",
    "library(caret)\n",
    "\n",
    "# this is wrapper function for training different models\n",
    "caret_glm = train(survived ~ ., # formula\n",
    "                    data = titanic_train, # data for model training     \n",
    "                    method = 'glm', # model building algorithm, glm\n",
    "                    family = \"binomial\",\n",
    "                    ) # data preprocessing techniques, normalization and scaling\n",
    "summary(caret_glm)"
   ]
  },
  {
   "cell_type": "markdown",
   "id": "4529cd31-81ce-4f94-9bca-5a1702d19678",
   "metadata": {},
   "source": [
    "> You can see that we got the same variables significansy in both models, but coefficients are different. Lets check what model building algorithm is better."
   ]
  },
  {
   "cell_type": "markdown",
   "id": "16854469-ff99-45af-91bb-7c8a619e6316",
   "metadata": {},
   "source": [
    "To compare our modeling resutls for train lets create special data frames:"
   ]
  },
  {
   "cell_type": "code",
   "execution_count": 65,
   "id": "2a4ba81c-60aa-4e54-ac69-c05833b324a5",
   "metadata": {},
   "outputs": [
    {
     "data": {
      "text/html": [
       "<table class=\"dataframe\">\n",
       "<caption>A data.frame: 6 × 3</caption>\n",
       "<thead>\n",
       "\t<tr><th></th><th scope=col>survived</th><th scope=col>predicted_def</th><th scope=col>predicted_caret</th></tr>\n",
       "\t<tr><th></th><th scope=col>&lt;fct&gt;</th><th scope=col>&lt;dbl&gt;</th><th scope=col>&lt;dbl&gt;</th></tr>\n",
       "</thead>\n",
       "<tbody>\n",
       "\t<tr><th scope=row>1</th><td>1</td><td>0.9412193</td><td>0.9412193</td></tr>\n",
       "\t<tr><th scope=row>2</th><td>1</td><td>0.6250488</td><td>0.6250488</td></tr>\n",
       "\t<tr><th scope=row>3</th><td>0</td><td>0.9618407</td><td>0.9618407</td></tr>\n",
       "\t<tr><th scope=row>4</th><td>0</td><td>0.3812235</td><td>0.3812235</td></tr>\n",
       "\t<tr><th scope=row>5</th><td>0</td><td>0.9198190</td><td>0.9198190</td></tr>\n",
       "\t<tr><th scope=row>6</th><td>1</td><td>0.3455040</td><td>0.3455040</td></tr>\n",
       "</tbody>\n",
       "</table>\n"
      ],
      "text/latex": [
       "A data.frame: 6 × 3\n",
       "\\begin{tabular}{r|lll}\n",
       "  & survived & predicted\\_def & predicted\\_caret\\\\\n",
       "  & <fct> & <dbl> & <dbl>\\\\\n",
       "\\hline\n",
       "\t1 & 1 & 0.9412193 & 0.9412193\\\\\n",
       "\t2 & 1 & 0.6250488 & 0.6250488\\\\\n",
       "\t3 & 0 & 0.9618407 & 0.9618407\\\\\n",
       "\t4 & 0 & 0.3812235 & 0.3812235\\\\\n",
       "\t5 & 0 & 0.9198190 & 0.9198190\\\\\n",
       "\t6 & 1 & 0.3455040 & 0.3455040\\\\\n",
       "\\end{tabular}\n"
      ],
      "text/markdown": [
       "\n",
       "A data.frame: 6 × 3\n",
       "\n",
       "| <!--/--> | survived &lt;fct&gt; | predicted_def &lt;dbl&gt; | predicted_caret &lt;dbl&gt; |\n",
       "|---|---|---|---|\n",
       "| 1 | 1 | 0.9412193 | 0.9412193 |\n",
       "| 2 | 1 | 0.6250488 | 0.6250488 |\n",
       "| 3 | 0 | 0.9618407 | 0.9618407 |\n",
       "| 4 | 0 | 0.3812235 | 0.3812235 |\n",
       "| 5 | 0 | 0.9198190 | 0.9198190 |\n",
       "| 6 | 1 | 0.3455040 | 0.3455040 |\n",
       "\n"
      ],
      "text/plain": [
       "  survived predicted_def predicted_caret\n",
       "1 1        0.9412193     0.9412193      \n",
       "2 1        0.6250488     0.6250488      \n",
       "3 0        0.9618407     0.9618407      \n",
       "4 0        0.3812235     0.3812235      \n",
       "5 0        0.9198190     0.9198190      \n",
       "6 1        0.3455040     0.3455040      "
      ]
     },
     "metadata": {},
     "output_type": "display_data"
    }
   ],
   "source": [
    "train_check <- titanic_train %>% \n",
    "    select(survived) %>%\n",
    "    mutate(predicted_def = predict(def_glm, type = 'response', newdata = titanic_train), # predicted by default glm function\n",
    "           predicted_caret = predict(caret_glm, type = 'prob', newdata = titanic_train)[, 2]) # predicted by caret train algorithm\n",
    "\n",
    "head(train_check)"
   ]
  },
  {
   "cell_type": "markdown",
   "id": "7896c373-c65d-4e12-bb02-82b393428ec2",
   "metadata": {},
   "source": [
    "As you see for logistic regression results are the same, so we can use default algorithm. But `train()` method is very powerfull with desicion trees, boosting, random forest, neural network and other complex algorithms."
   ]
  },
  {
   "cell_type": "markdown",
   "id": "93e00677-97e6-434c-afc7-804503b9c28c",
   "metadata": {},
   "source": [
    "# 6. Model accuracy check"
   ]
  },
  {
   "cell_type": "markdown",
   "id": "c4f6ef9c-4c75-4a69-b6fc-5da094c8f934",
   "metadata": {},
   "source": [
    "Lets create new datasets for train and test results storing. We will use them "
   ]
  },
  {
   "cell_type": "code",
   "execution_count": 66,
   "id": "818a8235-31f4-42d2-836d-6e23e859ae32",
   "metadata": {},
   "outputs": [
    {
     "data": {
      "text/html": [
       "<table class=\"dataframe\">\n",
       "<caption>A data.frame: 6 × 2</caption>\n",
       "<thead>\n",
       "\t<tr><th></th><th scope=col>survived</th><th scope=col>predicted</th></tr>\n",
       "\t<tr><th></th><th scope=col>&lt;fct&gt;</th><th scope=col>&lt;dbl&gt;</th></tr>\n",
       "</thead>\n",
       "<tbody>\n",
       "\t<tr><th scope=row>7</th><td>1</td><td>0.7839711</td></tr>\n",
       "\t<tr><th scope=row>11</th><td>0</td><td>0.4233024</td></tr>\n",
       "\t<tr><th scope=row>12</th><td>1</td><td>0.9688239</td></tr>\n",
       "\t<tr><th scope=row>13</th><td>1</td><td>0.9717471</td></tr>\n",
       "\t<tr><th scope=row>17</th><td>0</td><td>0.6718810</td></tr>\n",
       "\t<tr><th scope=row>20</th><td>0</td><td>0.5925107</td></tr>\n",
       "</tbody>\n",
       "</table>\n"
      ],
      "text/latex": [
       "A data.frame: 6 × 2\n",
       "\\begin{tabular}{r|ll}\n",
       "  & survived & predicted\\\\\n",
       "  & <fct> & <dbl>\\\\\n",
       "\\hline\n",
       "\t7 & 1 & 0.7839711\\\\\n",
       "\t11 & 0 & 0.4233024\\\\\n",
       "\t12 & 1 & 0.9688239\\\\\n",
       "\t13 & 1 & 0.9717471\\\\\n",
       "\t17 & 0 & 0.6718810\\\\\n",
       "\t20 & 0 & 0.5925107\\\\\n",
       "\\end{tabular}\n"
      ],
      "text/markdown": [
       "\n",
       "A data.frame: 6 × 2\n",
       "\n",
       "| <!--/--> | survived &lt;fct&gt; | predicted &lt;dbl&gt; |\n",
       "|---|---|---|\n",
       "| 7 | 1 | 0.7839711 |\n",
       "| 11 | 0 | 0.4233024 |\n",
       "| 12 | 1 | 0.9688239 |\n",
       "| 13 | 1 | 0.9717471 |\n",
       "| 17 | 0 | 0.6718810 |\n",
       "| 20 | 0 | 0.5925107 |\n",
       "\n"
      ],
      "text/plain": [
       "   survived predicted\n",
       "7  1        0.7839711\n",
       "11 0        0.4233024\n",
       "12 1        0.9688239\n",
       "13 1        0.9717471\n",
       "17 0        0.6718810\n",
       "20 0        0.5925107"
      ]
     },
     "metadata": {},
     "output_type": "display_data"
    }
   ],
   "source": [
    "train_results <- titanic_train %>% \n",
    "    select(survived) %>%\n",
    "    mutate(predicted = predict(def_glm, type = 'response', newdata = titanic_train),\n",
    "          residuals = residuals(def_glm, type = \"response\"))\n",
    "\n",
    "test_results <- titanic_test %>%\n",
    "    select(survived) %>%\n",
    "    mutate(predicted = predict(def_glm, type = 'response', newdata = titanic_test))\n",
    "\n",
    "head(test_results)"
   ]
  },
  {
   "cell_type": "markdown",
   "id": "b4929538-df40-48d1-8767-0f8cb0530cc5",
   "metadata": {},
   "source": [
    "The next stage is converting out predicted probabilities into event classes 1/0. By default you can do this using next condition `predicted == 1 if prob >= 0.5 and 0 if prob < 0.5`.\n",
    "\n",
    "In this case `0.5` is cut-off line or classification splitter. So, lets do this for both train and test."
   ]
  },
  {
   "cell_type": "code",
   "execution_count": 67,
   "id": "52c29b16-05d6-4d0e-9298-4f8f00704eb9",
   "metadata": {},
   "outputs": [
    {
     "data": {
      "text/html": [
       "<table class=\"dataframe\">\n",
       "<caption>A data.frame: 6 × 3</caption>\n",
       "<thead>\n",
       "\t<tr><th></th><th scope=col>survived</th><th scope=col>predicted</th><th scope=col>survived_05</th></tr>\n",
       "\t<tr><th></th><th scope=col>&lt;fct&gt;</th><th scope=col>&lt;dbl&gt;</th><th scope=col>&lt;fct&gt;</th></tr>\n",
       "</thead>\n",
       "<tbody>\n",
       "\t<tr><th scope=row>7</th><td>1</td><td>0.7839711</td><td>1</td></tr>\n",
       "\t<tr><th scope=row>11</th><td>0</td><td>0.4233024</td><td>0</td></tr>\n",
       "\t<tr><th scope=row>12</th><td>1</td><td>0.9688239</td><td>1</td></tr>\n",
       "\t<tr><th scope=row>13</th><td>1</td><td>0.9717471</td><td>1</td></tr>\n",
       "\t<tr><th scope=row>17</th><td>0</td><td>0.6718810</td><td>1</td></tr>\n",
       "\t<tr><th scope=row>20</th><td>0</td><td>0.5925107</td><td>1</td></tr>\n",
       "</tbody>\n",
       "</table>\n"
      ],
      "text/latex": [
       "A data.frame: 6 × 3\n",
       "\\begin{tabular}{r|lll}\n",
       "  & survived & predicted & survived\\_05\\\\\n",
       "  & <fct> & <dbl> & <fct>\\\\\n",
       "\\hline\n",
       "\t7 & 1 & 0.7839711 & 1\\\\\n",
       "\t11 & 0 & 0.4233024 & 0\\\\\n",
       "\t12 & 1 & 0.9688239 & 1\\\\\n",
       "\t13 & 1 & 0.9717471 & 1\\\\\n",
       "\t17 & 0 & 0.6718810 & 1\\\\\n",
       "\t20 & 0 & 0.5925107 & 1\\\\\n",
       "\\end{tabular}\n"
      ],
      "text/markdown": [
       "\n",
       "A data.frame: 6 × 3\n",
       "\n",
       "| <!--/--> | survived &lt;fct&gt; | predicted &lt;dbl&gt; | survived_05 &lt;fct&gt; |\n",
       "|---|---|---|---|\n",
       "| 7 | 1 | 0.7839711 | 1 |\n",
       "| 11 | 0 | 0.4233024 | 0 |\n",
       "| 12 | 1 | 0.9688239 | 1 |\n",
       "| 13 | 1 | 0.9717471 | 1 |\n",
       "| 17 | 0 | 0.6718810 | 1 |\n",
       "| 20 | 0 | 0.5925107 | 1 |\n",
       "\n"
      ],
      "text/plain": [
       "   survived predicted survived_05\n",
       "7  1        0.7839711 1          \n",
       "11 0        0.4233024 0          \n",
       "12 1        0.9688239 1          \n",
       "13 1        0.9717471 1          \n",
       "17 0        0.6718810 1          \n",
       "20 0        0.5925107 1          "
      ]
     },
     "metadata": {},
     "output_type": "display_data"
    }
   ],
   "source": [
    "train_results <- train_results %>%\n",
    "    mutate(survived_05 = as.factor(ifelse(predicted >= 0.5, 1 , 0)))\n",
    "\n",
    "test_results <- test_results %>%\n",
    "    mutate(survived_05 = as.factor(ifelse(predicted >= 0.5, 1 , 0)))\n",
    "\n",
    "head(test_results)"
   ]
  },
  {
   "cell_type": "markdown",
   "id": "dec2119e-9806-4543-afaf-5db0c295363c",
   "metadata": {},
   "source": [
    "Для демонстрації переглянемо графік реальних та прогнозованих/модельованих значень survived."
   ]
  },
  {
   "cell_type": "code",
   "execution_count": 70,
   "id": "52fb7458-f094-4291-9b41-d77058691d73",
   "metadata": {},
   "outputs": [
    {
     "data": {
      "image/png": "[encoded data removed]",
      "text/plain": [
       "plot without title"
      ]
     },
     "metadata": {
      "image/png": {
       "height": 420,
       "width": 420
      }
     },
     "output_type": "display_data"
    }
   ],
   "source": [
    "plot_train_data <- train_results[0:80,]\n",
    "\n",
    "ggplot(plot_train_data, aes(x = c(1:nrow(plot_train_data)), y = as.numeric(survived)-1)) +\n",
    "  geom_segment(aes(xend = c(1:nrow(plot_train_data)), yend = predicted), alpha = .2) +\n",
    "  geom_point(aes(color = residuals), size = 2) +\n",
    "  scale_color_gradient2(low = \"blue\", mid = \"white\", high = \"red\") +\n",
    "  guides(color = FALSE) +\n",
    "  geom_point(aes(y = predicted), shape = 1, size = 2) +\n",
    "  geom_hline(yintercept=0.5, linetype=\"dashed\", color = \"red\") +\n",
    "  theme_bw()"
   ]
  },
  {
   "cell_type": "code",
   "execution_count": 71,
   "id": "0dc82f4e-ae74-414e-bf46-91a943a5dc7d",
   "metadata": {},
   "outputs": [
    {
     "data": {
      "image/png": "[encoded data removed]",
      "text/plain": [
       "plot without title"
      ]
     },
     "metadata": {
      "image/png": {
       "height": 420,
       "width": 420
      }
     },
     "output_type": "display_data"
    }
   ],
   "source": [
    "plot_test_data <- test_results[0:80,]\n",
    "\n",
    "ggplot(plot_test_data, aes(x = c(1:nrow(plot_test_data)), y = as.numeric(survived)-1)) +\n",
    "  geom_segment(aes(xend = c(1:nrow(plot_test_data)), yend = predicted), alpha = .2) +\n",
    "  # Увага, для тестової вибірки є зміни, за точку відліку враховується вихідна змінна\n",
    "  geom_point(aes(color =  as.numeric(survived)), size = 2) +\n",
    "  scale_color_gradient2(low = \"blue\", mid = \"white\", high = \"red\") +\n",
    "  guides(color = FALSE) +\n",
    "  geom_point(aes(y = predicted), shape = 1, size = 2) +\n",
    "  geom_hline(yintercept=0.5, linetype=\"dashed\", color = \"red\") +\n",
    "  theme_bw()"
   ]
  },
  {
   "cell_type": "markdown",
   "id": "249472a7-e037-4833-a529-828200308068",
   "metadata": {},
   "source": [
    "Побудуємо confusion matrix для тренувальної вибірки:"
   ]
  },
  {
   "cell_type": "code",
   "execution_count": 72,
   "id": "84edfa85-20fa-4396-b98c-5354367269ed",
   "metadata": {},
   "outputs": [
    {
     "name": "stdout",
     "output_type": "stream",
     "text": [
      "[1] \"Train CM:\"\n"
     ]
    },
    {
     "data": {
      "text/plain": [
       "   \n",
       "      0   1\n",
       "  0 488  78\n",
       "  1 104 246"
      ]
     },
     "metadata": {},
     "output_type": "display_data"
    }
   ],
   "source": [
    "print(\"Train CM:\")\n",
    "table(train_results$survived, train_results$survived_05)"
   ]
  },
  {
   "cell_type": "code",
   "execution_count": 73,
   "id": "804b95b1-d3f9-4967-b76d-dfc928092d72",
   "metadata": {},
   "outputs": [
    {
     "name": "stdout",
     "output_type": "stream",
     "text": [
      "[1] \"Test CM:\"\n"
     ]
    },
    {
     "data": {
      "text/plain": [
       "   \n",
       "      0   1\n",
       "  0 206  37\n",
       "  1  46 104"
      ]
     },
     "metadata": {},
     "output_type": "display_data"
    }
   ],
   "source": [
    "print(\"Test CM:\")\n",
    "table(test_results$survived, test_results$survived_05)"
   ]
  },
  {
   "cell_type": "markdown",
   "id": "436d23f9-6fe9-4d73-bca7-883e35330ebb",
   "metadata": {},
   "source": [
    "Більш детальну статистику по `confusion matrix` можна отримати скориставшись методом `confusionMatrix()` з пакету `caret`."
   ]
  },
  {
   "cell_type": "code",
   "execution_count": 74,
   "id": "048f3fc7-de67-4683-a884-62e8a730cc67",
   "metadata": {},
   "outputs": [
    {
     "data": {
      "text/plain": [
       "Confusion Matrix and Statistics\n",
       "\n",
       "          Reference\n",
       "Prediction   0   1\n",
       "         0 488  78\n",
       "         1 104 246\n",
       "                                         \n",
       "               Accuracy : 0.8013         \n",
       "                 95% CI : (0.774, 0.8267)\n",
       "    No Information Rate : 0.6463         \n",
       "    P-Value [Acc > NIR] : < 2e-16        \n",
       "                                         \n",
       "                  Kappa : 0.5732         \n",
       "                                         \n",
       " Mcnemar's Test P-Value : 0.06386        \n",
       "                                         \n",
       "            Sensitivity : 0.7593         \n",
       "            Specificity : 0.8243         \n",
       "         Pos Pred Value : 0.7029         \n",
       "         Neg Pred Value : 0.8622         \n",
       "             Prevalence : 0.3537         \n",
       "         Detection Rate : 0.2686         \n",
       "   Detection Prevalence : 0.3821         \n",
       "      Balanced Accuracy : 0.7918         \n",
       "                                         \n",
       "       'Positive' Class : 1              \n",
       "                                         "
      ]
     },
     "metadata": {},
     "output_type": "display_data"
    }
   ],
   "source": [
    "# train\n",
    "caret::confusionMatrix(train_results$survived, train_results$survived_05, positive = \"1\")"
   ]
  },
  {
   "cell_type": "code",
   "execution_count": 75,
   "id": "cd0aa51e-0a2c-4868-a6ae-1d8bcdf7ae24",
   "metadata": {},
   "outputs": [
    {
     "data": {
      "text/plain": [
       "Confusion Matrix and Statistics\n",
       "\n",
       "          Reference\n",
       "Prediction   0   1\n",
       "         0 206  37\n",
       "         1  46 104\n",
       "                                          \n",
       "               Accuracy : 0.7888          \n",
       "                 95% CI : (0.7451, 0.8281)\n",
       "    No Information Rate : 0.6412          \n",
       "    P-Value [Acc > NIR] : 1.522e-10       \n",
       "                                          \n",
       "                  Kappa : 0.5474          \n",
       "                                          \n",
       " Mcnemar's Test P-Value : 0.3799          \n",
       "                                          \n",
       "            Sensitivity : 0.7376          \n",
       "            Specificity : 0.8175          \n",
       "         Pos Pred Value : 0.6933          \n",
       "         Neg Pred Value : 0.8477          \n",
       "             Prevalence : 0.3588          \n",
       "         Detection Rate : 0.2646          \n",
       "   Detection Prevalence : 0.3817          \n",
       "      Balanced Accuracy : 0.7775          \n",
       "                                          \n",
       "       'Positive' Class : 1               \n",
       "                                          "
      ]
     },
     "metadata": {},
     "output_type": "display_data"
    }
   ],
   "source": [
    "# test\n",
    "caret::confusionMatrix(test_results$survived, test_results$survived_05, positive = \"1\")"
   ]
  },
  {
   "cell_type": "markdown",
   "id": "15661a7c-6b55-4957-9953-5de06eb17e8e",
   "metadata": {},
   "source": [
    "One of most often qustions is \"What cutoff line should be selected?\". You can have 2 answers:\n",
    "\n",
    "- [x] You can select optimal cutoff using best classification criteria: while you best classify both 1 and 0 events\n",
    "\n",
    "- [x] You can select cutoff than help solve your business tasks, for, example, you need to select only 20% most risky clients, so, set your cutoff to 0.8. Or you need concrete count of clients, for example, 1000 and it can be at 0.94 line sometimes if you have big database. "
   ]
  },
  {
   "cell_type": "markdown",
   "id": "954b254b-426f-4b84-9931-b966ba1b2845",
   "metadata": {},
   "source": [
    "Lets try to find optimal cutoff with `InformationValue` package and special method:"
   ]
  },
  {
   "cell_type": "code",
   "execution_count": 77,
   "id": "60614801-5bfb-494a-930b-f81de446a68e",
   "metadata": {},
   "outputs": [
    {
     "name": "stderr",
     "output_type": "stream",
     "text": [
      "Updating HTML index of packages in '.Library'\n",
      "\n",
      "Making 'packages.html' ...\n",
      " done\n",
      "\n"
     ]
    }
   ],
   "source": [
    "install.packages(\"InformationValue\")"
   ]
  },
  {
   "cell_type": "code",
   "execution_count": 78,
   "id": "562420d9-08e7-4218-bb4c-21beae4e9ee3",
   "metadata": {},
   "outputs": [
    {
     "name": "stderr",
     "output_type": "stream",
     "text": [
      "\n",
      "Attaching package: ‘InformationValue’\n",
      "\n",
      "\n",
      "The following objects are masked from ‘package:caret’:\n",
      "\n",
      "    confusionMatrix, precision, sensitivity, specificity\n",
      "\n",
      "\n"
     ]
    },
    {
     "data": {
      "text/html": [
       "0.556674085642972"
      ],
      "text/latex": [
       "0.556674085642972"
      ],
      "text/markdown": [
       "0.556674085642972"
      ],
      "text/plain": [
       "[1] 0.5566741"
      ]
     },
     "metadata": {},
     "output_type": "display_data"
    }
   ],
   "source": [
    "#install.packages(\"InformationValue\")\n",
    "library(InformationValue)\n",
    "\n",
    "opt_cutoff <- optimalCutoff(train_results$survived, train_results$predicted)\n",
    "opt_cutoff"
   ]
  },
  {
   "cell_type": "markdown",
   "id": "d4ed8bef-e584-4e7d-b11a-8edb894ce310",
   "metadata": {},
   "source": [
    "Lest compare confusion matrix for previous 0.5 cutoff and current `opt_cutoff`"
   ]
  },
  {
   "cell_type": "code",
   "execution_count": 96,
   "id": "94f5161f-bfdf-4a71-9a26-456dbdc234b2",
   "metadata": {},
   "outputs": [
    {
     "data": {
      "text/plain": [
       "Confusion Matrix and Statistics\n",
       "\n",
       "          Reference\n",
       "Prediction   0   1\n",
       "         0 206  37\n",
       "         1  46 104\n",
       "                                          \n",
       "               Accuracy : 0.7888          \n",
       "                 95% CI : (0.7451, 0.8281)\n",
       "    No Information Rate : 0.6412          \n",
       "    P-Value [Acc > NIR] : 1.522e-10       \n",
       "                                          \n",
       "                  Kappa : 0.5474          \n",
       "                                          \n",
       " Mcnemar's Test P-Value : 0.3799          \n",
       "                                          \n",
       "            Sensitivity : 0.7376          \n",
       "            Specificity : 0.8175          \n",
       "         Pos Pred Value : 0.6933          \n",
       "         Neg Pred Value : 0.8477          \n",
       "             Prevalence : 0.3588          \n",
       "         Detection Rate : 0.2646          \n",
       "   Detection Prevalence : 0.3817          \n",
       "      Balanced Accuracy : 0.7775          \n",
       "                                          \n",
       "       'Positive' Class : 1               \n",
       "                                          "
      ]
     },
     "metadata": {},
     "output_type": "display_data"
    }
   ],
   "source": [
    "# cutoff = 0.5\n",
    "caret::confusionMatrix(test_results$survived, test_results$survived_05, positive = \"1\")"
   ]
  },
  {
   "cell_type": "code",
   "execution_count": 79,
   "id": "cf5282dd-9da1-4172-9810-4962184bea32",
   "metadata": {},
   "outputs": [
    {
     "data": {
      "text/plain": [
       "Confusion Matrix and Statistics\n",
       "\n",
       "          Reference\n",
       "Prediction   0   1\n",
       "         0 215  28\n",
       "         1  53  97\n",
       "                                          \n",
       "               Accuracy : 0.7939          \n",
       "                 95% CI : (0.7505, 0.8328)\n",
       "    No Information Rate : 0.6819          \n",
       "    P-Value [Acc > NIR] : 5.041e-07       \n",
       "                                          \n",
       "                  Kappa : 0.5489          \n",
       "                                          \n",
       " Mcnemar's Test P-Value : 0.007661        \n",
       "                                          \n",
       "            Sensitivity : 0.7760          \n",
       "            Specificity : 0.8022          \n",
       "         Pos Pred Value : 0.6467          \n",
       "         Neg Pred Value : 0.8848          \n",
       "             Prevalence : 0.3181          \n",
       "         Detection Rate : 0.2468          \n",
       "   Detection Prevalence : 0.3817          \n",
       "      Balanced Accuracy : 0.7891          \n",
       "                                          \n",
       "       'Positive' Class : 1               \n",
       "                                          "
      ]
     },
     "metadata": {},
     "output_type": "display_data"
    }
   ],
   "source": [
    "# opt_cutoff\n",
    "\n",
    "test_results <- test_results %>%\n",
    "    mutate(survived_opt = ifelse(predicted >= opt_cutoff, 1, 0)) # calculate optima cutoff\n",
    "\n",
    "caret::confusionMatrix(test_results$survived, factor(test_results$survived_opt), positive = \"1\")\n"
   ]
  },
  {
   "cell_type": "markdown",
   "id": "0311a682-73bd-4d34-a45c-eafb5e3e1bd0",
   "metadata": {},
   "source": [
    "`Accuracy : 0.7888` -> `Accuracy : 0.7939`   increased"
   ]
  },
  {
   "cell_type": "markdown",
   "id": "a1825a0f-d66e-454c-8741-27fcfd5fa894",
   "metadata": {},
   "source": [
    " `Balanced Accuracy : 0.7775` -> `Balanced Accuracy : 0.7891` inreased"
   ]
  },
  {
   "cell_type": "markdown",
   "id": "b176f7b7-15f0-47da-a538-9ded9f71417c",
   "metadata": {},
   "source": [
    "In this case if you need classificate more clients as `survived` decrease cutoff, for less `survived` increase it."
   ]
  },
  {
   "cell_type": "markdown",
   "id": "39bb0df5-1620-479c-973e-b3ba8b2907e6",
   "metadata": {},
   "source": [
    "And the last one characteristics we will use is ROC-curve:"
   ]
  },
  {
   "cell_type": "code",
   "execution_count": 112,
   "id": "29f19851-b404-4ceb-9a67-19c923f60839",
   "metadata": {},
   "outputs": [
    {
     "data": {
      "text/html": [
       "0.8573"
      ],
      "text/latex": [
       "0.8573"
      ],
      "text/markdown": [
       "0.8573"
      ],
      "text/plain": [
       "[1] 0.8573"
      ]
     },
     "metadata": {},
     "output_type": "display_data"
    },
    {
     "data": {
      "text/html": [
       "0.7146"
      ],
      "text/latex": [
       "0.7146"
      ],
      "text/markdown": [
       "0.7146"
      ],
      "text/plain": [
       "[1] 0.7146"
      ]
     },
     "metadata": {},
     "output_type": "display_data"
    },
    {
     "data": {
      "image/png": "[encoded data removed]",
      "text/plain": [
       "plot without title"
      ]
     },
     "metadata": {
      "image/png": {
       "height": 420,
       "width": 420
      }
     },
     "output_type": "display_data"
    }
   ],
   "source": [
    "# for train\n",
    "plotROC(train_results$survived, train_results$predicted) # from InformationValue package\n",
    "auroc <- round(AUROC(train_results$survived, train_results$predicted), 4)\n",
    "auroc\n",
    "gini <- 2*auroc - 1\n",
    "gini\n",
    "\n",
    "#if ROC is fully filled and AUROC close to 1 on train, its very big possibility that our model is overfitted"
   ]
  },
  {
   "cell_type": "code",
   "execution_count": 80,
   "id": "0f11026c-6028-402e-81b4-e935e1282051",
   "metadata": {},
   "outputs": [
    {
     "data": {
      "text/html": [
       "0.8142"
      ],
      "text/latex": [
       "0.8142"
      ],
      "text/markdown": [
       "0.8142"
      ],
      "text/plain": [
       "[1] 0.8142"
      ]
     },
     "metadata": {},
     "output_type": "display_data"
    },
    {
     "data": {
      "text/html": [
       "0.6284"
      ],
      "text/latex": [
       "0.6284"
      ],
      "text/markdown": [
       "0.6284"
      ],
      "text/plain": [
       "[1] 0.6284"
      ]
     },
     "metadata": {},
     "output_type": "display_data"
    },
    {
     "data": {
      "image/png": "[encoded data removed]",
      "text/plain": [
       "plot without title"
      ]
     },
     "metadata": {
      "image/png": {
       "height": 420,
       "width": 420
      }
     },
     "output_type": "display_data"
    }
   ],
   "source": [
    "# for test\n",
    "plotROC(test_results$survived, test_results$predicted) # from InformationValue package\n",
    "auroc <- round(AUROC(test_results$survived, test_results$predicted), 4)\n",
    "auroc\n",
    "gini <- 2*auroc - 1\n",
    "gini\n",
    "\n",
    "#if ROC is fully filled and AUROC close to 1 on test, its very big possibility that you test sample contains"
   ]
  },
  {
   "cell_type": "markdown",
   "id": "0232b76e-2c91-4453-b1a8-1cb00d0e6f7c",
   "metadata": {},
   "source": [
    "You should made your conclusions about test set, because test results shows how model predicting events on data it not know before. Test data is very close to prediction data but did not have target variable, so you can check accuracy on prediction set after some time cheking you experiment on real-world situation."
   ]
  }
 ],
 "metadata": {
  "kernelspec": {
   "display_name": "R",
   "language": "R",
   "name": "ir"
  },
  "language_info": {
   "codemirror_mode": "r",
   "file_extension": ".r",
   "mimetype": "text/x-r-source",
   "name": "R",
   "pygments_lexer": "r",
   "version": "4.0.3"
  }
 },
 "nbformat": 4,
 "nbformat_minor": 5
}
