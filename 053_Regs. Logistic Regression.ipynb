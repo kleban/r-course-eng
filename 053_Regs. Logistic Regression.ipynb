{
 "cells": [
  {
   "cell_type": "markdown",
   "id": "c2414ff5",
   "metadata": {},
   "source": [
    "# Logistic regression. Part 1\n",
    "\n",
    "---\n",
    "\n",
    "## Linear and Logistic Regressions: prediction and metrics\n",
    "\n",
    "\n",
    "Applied Mathematical Modeling in Banking"
   ]
  },
  {
   "cell_type": "markdown",
   "id": "c7ced297",
   "metadata": {},
   "source": [
    "---"
   ]
  },
  {
   "cell_type": "markdown",
   "id": "607361bd-ec64-40da-9d45-497af39439f0",
   "metadata": {},
   "source": [
    "# 1. Dataset overview"
   ]
  },
  {
   "cell_type": "markdown",
   "id": "3191a739-7cc1-4a25-a17c-08af969d46f5",
   "metadata": {},
   "source": [
    "Source: https://www.kaggle.com/c/bike-sharing-demand/data"
   ]
  },
  {
   "cell_type": "markdown",
   "id": "9603dea4-8656-4c05-9307-10c045f2ab29",
   "metadata": {},
   "source": [
    "**Dataset description:**"
   ]
  },
  {
   "cell_type": "markdown",
   "id": "39bfbe51-8519-41e2-8087-c9f919e5a67b",
   "metadata": {},
   "source": [
    "You are provided hourly rental data spanning two years. For this competition, the training set is comprised of the first 19 days of each month, while the test set is the 20th to the end of the month. You must predict the total count of bikes rented during each hour covered by the test set, using only information available prior to the rental period."
   ]
  },
  {
   "cell_type": "markdown",
   "id": "e0a90aac-c2e2-4035-9498-491bc455d042",
   "metadata": {},
   "source": [
    "**Data Fields:**"
   ]
  },
  {
   "cell_type": "markdown",
   "id": "84c03a47-25ce-4af1-b6fd-7291bcaa210c",
   "metadata": {},
   "source": [
    "- [x] `datetime` - hourly date + timestamp\n",
    "- [x] `season` - \n",
    "    - [x] 1 = spring\n",
    "    - [x] 2 = summer\n",
    "    - [x] 3 = fall\n",
    "    - [x] 4 = winter\n",
    "- [x] `holiday` - whether the day is considered a holiday\n",
    "- [x] `workingday` - whether the day is neither a weekend nor holiday\n",
    "- [x] `weather`\n",
    "    - [x] 1: Clear, Few clouds, Partly cloudy, Partly cloudy \n",
    "    - [x] 2: Mist + Cloudy, Mist + Broken clouds, Mist + Few clouds, Mist \n",
    "    - [x] 3: Light Snow, Light Rain + Thunderstorm + Scattered clouds, Light Rain + Scattered clouds \n",
    "    - [x] 4: Heavy Rain + Ice Pallets + Thunderstorm + Mist, Snow + Fog\n",
    "- [x] `temp` - temperature in Celsius\n",
    "- [x] `atemp` - “feels like” temperature in Celsius\n",
    "- [x] `humidity` - relative humidity\n",
    "- [x] `windspeed` - wind speed\n",
    "- [x] `casual` - number of non-registered user rentals initiated\n",
    "- [x] `registered` - number of registered user rentals initiated\n",
    "- [x] `count` - number of total rentals **(It is target variable. We will predict it!)**\n"
   ]
  },
  {
   "cell_type": "code",
   "execution_count": 1,
   "id": "4518116b-4a81-49a5-807c-672c6a377a41",
   "metadata": {},
   "outputs": [
    {
     "data": {
      "text/html": [
       "<table class=\"dataframe\">\n",
       "<caption>A data.frame: 6 × 12</caption>\n",
       "<thead>\n",
       "\t<tr><th></th><th scope=col>datetime</th><th scope=col>season</th><th scope=col>holiday</th><th scope=col>workingday</th><th scope=col>weather</th><th scope=col>temp</th><th scope=col>atemp</th><th scope=col>humidity</th><th scope=col>windspeed</th><th scope=col>casual</th><th scope=col>registered</th><th scope=col>count</th></tr>\n",
       "\t<tr><th></th><th scope=col>&lt;chr&gt;</th><th scope=col>&lt;int&gt;</th><th scope=col>&lt;int&gt;</th><th scope=col>&lt;int&gt;</th><th scope=col>&lt;int&gt;</th><th scope=col>&lt;dbl&gt;</th><th scope=col>&lt;dbl&gt;</th><th scope=col>&lt;int&gt;</th><th scope=col>&lt;dbl&gt;</th><th scope=col>&lt;int&gt;</th><th scope=col>&lt;int&gt;</th><th scope=col>&lt;int&gt;</th></tr>\n",
       "</thead>\n",
       "<tbody>\n",
       "\t<tr><th scope=row>1</th><td>2011-01-01 00:00:00</td><td>1</td><td>0</td><td>0</td><td>1</td><td>9.84</td><td>14.395</td><td>81</td><td>0.0000</td><td>3</td><td>13</td><td>16</td></tr>\n",
       "\t<tr><th scope=row>2</th><td>2011-01-01 01:00:00</td><td>1</td><td>0</td><td>0</td><td>1</td><td>9.02</td><td>13.635</td><td>80</td><td>0.0000</td><td>8</td><td>32</td><td>40</td></tr>\n",
       "\t<tr><th scope=row>3</th><td>2011-01-01 02:00:00</td><td>1</td><td>0</td><td>0</td><td>1</td><td>9.02</td><td>13.635</td><td>80</td><td>0.0000</td><td>5</td><td>27</td><td>32</td></tr>\n",
       "\t<tr><th scope=row>4</th><td>2011-01-01 03:00:00</td><td>1</td><td>0</td><td>0</td><td>1</td><td>9.84</td><td>14.395</td><td>75</td><td>0.0000</td><td>3</td><td>10</td><td>13</td></tr>\n",
       "\t<tr><th scope=row>5</th><td>2011-01-01 04:00:00</td><td>1</td><td>0</td><td>0</td><td>1</td><td>9.84</td><td>14.395</td><td>75</td><td>0.0000</td><td>0</td><td> 1</td><td> 1</td></tr>\n",
       "\t<tr><th scope=row>6</th><td>2011-01-01 05:00:00</td><td>1</td><td>0</td><td>0</td><td>2</td><td>9.84</td><td>12.880</td><td>75</td><td>6.0032</td><td>0</td><td> 1</td><td> 1</td></tr>\n",
       "</tbody>\n",
       "</table>\n"
      ],
      "text/latex": [
       "A data.frame: 6 × 12\n",
       "\\begin{tabular}{r|llllllllllll}\n",
       "  & datetime & season & holiday & workingday & weather & temp & atemp & humidity & windspeed & casual & registered & count\\\\\n",
       "  & <chr> & <int> & <int> & <int> & <int> & <dbl> & <dbl> & <int> & <dbl> & <int> & <int> & <int>\\\\\n",
       "\\hline\n",
       "\t1 & 2011-01-01 00:00:00 & 1 & 0 & 0 & 1 & 9.84 & 14.395 & 81 & 0.0000 & 3 & 13 & 16\\\\\n",
       "\t2 & 2011-01-01 01:00:00 & 1 & 0 & 0 & 1 & 9.02 & 13.635 & 80 & 0.0000 & 8 & 32 & 40\\\\\n",
       "\t3 & 2011-01-01 02:00:00 & 1 & 0 & 0 & 1 & 9.02 & 13.635 & 80 & 0.0000 & 5 & 27 & 32\\\\\n",
       "\t4 & 2011-01-01 03:00:00 & 1 & 0 & 0 & 1 & 9.84 & 14.395 & 75 & 0.0000 & 3 & 10 & 13\\\\\n",
       "\t5 & 2011-01-01 04:00:00 & 1 & 0 & 0 & 1 & 9.84 & 14.395 & 75 & 0.0000 & 0 &  1 &  1\\\\\n",
       "\t6 & 2011-01-01 05:00:00 & 1 & 0 & 0 & 2 & 9.84 & 12.880 & 75 & 6.0032 & 0 &  1 &  1\\\\\n",
       "\\end{tabular}\n"
      ],
      "text/markdown": [
       "\n",
       "A data.frame: 6 × 12\n",
       "\n",
       "| <!--/--> | datetime &lt;chr&gt; | season &lt;int&gt; | holiday &lt;int&gt; | workingday &lt;int&gt; | weather &lt;int&gt; | temp &lt;dbl&gt; | atemp &lt;dbl&gt; | humidity &lt;int&gt; | windspeed &lt;dbl&gt; | casual &lt;int&gt; | registered &lt;int&gt; | count &lt;int&gt; |\n",
       "|---|---|---|---|---|---|---|---|---|---|---|---|---|\n",
       "| 1 | 2011-01-01 00:00:00 | 1 | 0 | 0 | 1 | 9.84 | 14.395 | 81 | 0.0000 | 3 | 13 | 16 |\n",
       "| 2 | 2011-01-01 01:00:00 | 1 | 0 | 0 | 1 | 9.02 | 13.635 | 80 | 0.0000 | 8 | 32 | 40 |\n",
       "| 3 | 2011-01-01 02:00:00 | 1 | 0 | 0 | 1 | 9.02 | 13.635 | 80 | 0.0000 | 5 | 27 | 32 |\n",
       "| 4 | 2011-01-01 03:00:00 | 1 | 0 | 0 | 1 | 9.84 | 14.395 | 75 | 0.0000 | 3 | 10 | 13 |\n",
       "| 5 | 2011-01-01 04:00:00 | 1 | 0 | 0 | 1 | 9.84 | 14.395 | 75 | 0.0000 | 0 |  1 |  1 |\n",
       "| 6 | 2011-01-01 05:00:00 | 1 | 0 | 0 | 2 | 9.84 | 12.880 | 75 | 6.0032 | 0 |  1 |  1 |\n",
       "\n"
      ],
      "text/plain": [
       "  datetime            season holiday workingday weather temp atemp  humidity\n",
       "1 2011-01-01 00:00:00 1      0       0          1       9.84 14.395 81      \n",
       "2 2011-01-01 01:00:00 1      0       0          1       9.02 13.635 80      \n",
       "3 2011-01-01 02:00:00 1      0       0          1       9.02 13.635 80      \n",
       "4 2011-01-01 03:00:00 1      0       0          1       9.84 14.395 75      \n",
       "5 2011-01-01 04:00:00 1      0       0          1       9.84 14.395 75      \n",
       "6 2011-01-01 05:00:00 1      0       0          2       9.84 12.880 75      \n",
       "  windspeed casual registered count\n",
       "1 0.0000    3      13         16   \n",
       "2 0.0000    8      32         40   \n",
       "3 0.0000    5      27         32   \n",
       "4 0.0000    3      10         13   \n",
       "5 0.0000    0       1          1   \n",
       "6 6.0032    0       1          1   "
      ]
     },
     "metadata": {},
     "output_type": "display_data"
    }
   ],
   "source": [
    "data <- read.csv(\"data/bikes.csv\")\n",
    "head(data)"
   ]
  },
  {
   "cell_type": "markdown",
   "id": "5e2f92b7-b2a0-4c82-853d-7a962c659e55",
   "metadata": {},
   "source": [
    "Описова статистика факторів:"
   ]
  },
  {
   "cell_type": "code",
   "execution_count": 2,
   "id": "e626815a-ac97-4ae1-9be9-691d666b6ad0",
   "metadata": {},
   "outputs": [
    {
     "data": {
      "text/plain": [
       "   datetime             season         holiday          workingday    \n",
       " Length:10886       Min.   :1.000   Min.   :0.00000   Min.   :0.0000  \n",
       " Class :character   1st Qu.:2.000   1st Qu.:0.00000   1st Qu.:0.0000  \n",
       " Mode  :character   Median :3.000   Median :0.00000   Median :1.0000  \n",
       "                    Mean   :2.507   Mean   :0.02857   Mean   :0.6809  \n",
       "                    3rd Qu.:4.000   3rd Qu.:0.00000   3rd Qu.:1.0000  \n",
       "                    Max.   :4.000   Max.   :1.00000   Max.   :1.0000  \n",
       "    weather           temp           atemp          humidity     \n",
       " Min.   :1.000   Min.   : 0.82   Min.   : 0.76   Min.   :  0.00  \n",
       " 1st Qu.:1.000   1st Qu.:13.94   1st Qu.:16.66   1st Qu.: 47.00  \n",
       " Median :1.000   Median :20.50   Median :24.24   Median : 62.00  \n",
       " Mean   :1.418   Mean   :20.23   Mean   :23.66   Mean   : 61.89  \n",
       " 3rd Qu.:2.000   3rd Qu.:26.24   3rd Qu.:31.06   3rd Qu.: 77.00  \n",
       " Max.   :4.000   Max.   :41.00   Max.   :45.45   Max.   :100.00  \n",
       "   windspeed          casual         registered        count      \n",
       " Min.   : 0.000   Min.   :  0.00   Min.   :  0.0   Min.   :  1.0  \n",
       " 1st Qu.: 7.002   1st Qu.:  4.00   1st Qu.: 36.0   1st Qu.: 42.0  \n",
       " Median :12.998   Median : 17.00   Median :118.0   Median :145.0  \n",
       " Mean   :12.799   Mean   : 36.02   Mean   :155.6   Mean   :191.6  \n",
       " 3rd Qu.:16.998   3rd Qu.: 49.00   3rd Qu.:222.0   3rd Qu.:284.0  \n",
       " Max.   :56.997   Max.   :367.00   Max.   :886.0   Max.   :977.0  "
      ]
     },
     "metadata": {},
     "output_type": "display_data"
    }
   ],
   "source": [
    "summary(data)"
   ]
  }
 ],
 "metadata": {
  "kernelspec": {
   "display_name": "R",
   "language": "R",
   "name": "ir"
  },
  "language_info": {
   "codemirror_mode": "r",
   "file_extension": ".r",
   "mimetype": "text/x-r-source",
   "name": "R",
   "pygments_lexer": "r",
   "version": "4.0.5"
  }
 },
 "nbformat": 4,
 "nbformat_minor": 5
}
